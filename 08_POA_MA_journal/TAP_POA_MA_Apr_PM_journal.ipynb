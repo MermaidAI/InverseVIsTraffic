{
 "cells": [
  {
   "cell_type": "code",
   "execution_count": 1,
   "metadata": {
    "collapsed": false
   },
   "outputs": [
    {
     "name": "stderr",
     "output_type": "stream",
     "text": [
      "WARNING: the no-op `transpose` fallback is deprecated, and no more specific `transpose` method for Ptr{PyCall.PyObject_struct} exists. Consider `permutedims(x, [2, 1])` or writing a specific `transpose(x::Ptr{PyCall.PyObject_struct})` method if appropriate.\n",
      " in depwarn(::String, ::Symbol) at ./deprecated.jl:64\n",
      " in transpose(::Ptr{PyCall.PyObject_struct}) at ./deprecated.jl:770\n",
      " in transpose_f!(::Base.#transpose, ::Array{Ptr{PyCall.PyObject_struct},2}, ::Array{Ptr{PyCall.PyObject_struct},2}) at ./arraymath.jl:369\n",
      " in transpose(::Array{Ptr{PyCall.PyObject_struct},2}) at ./arraymath.jl:407\n",
      " in copy(::PyCall.PyArray{Ptr{PyCall.PyObject_struct},2}) at /home/jzh/.julia/v0.5/PyCall/src/numpy.jl:337\n",
      " in convert(::Type{Array{Ptr{PyCall.PyObject_struct},N}}, ::PyCall.PyObject) at /home/jzh/.julia/v0.5/PyCall/src/numpy.jl:453\n",
      " in convert(::Type{Array{PyCall.PyObject,N}}, ::PyCall.PyObject) at /home/jzh/.julia/v0.5/PyCall/src/numpy.jl:484\n",
      " in convert(::Type{PyCall.PyAny}, ::PyCall.PyObject) at /home/jzh/.julia/v0.5/PyCall/src/conversions.jl:806\n",
      " in #55 at ./<missing>:0 [inlined]\n",
      " in next at ./generator.jl:26 [inlined]\n",
      " in collect_to!(::Array{Expr,1}, ::Base.Generator{Array{Tuple{AbstractString,PyCall.PyObject},1},PyCall.##55#59}, ::Int64, ::Int64) at ./array.jl:340\n",
      " in collect(::Base.Generator{Array{Tuple{AbstractString,PyCall.PyObject},1},PyCall.##55#59}) at ./array.jl:308\n",
      " in pywrap(::PyCall.PyObject, ::Symbol) at /home/jzh/.julia/v0.5/PyCall/src/PyCall.jl:314\n",
      " in pywrap(::PyCall.PyObject) at /home/jzh/.julia/v0.5/PyCall/src/PyCall.jl:310\n",
      " in include_string(::String, ::String) at ./loading.jl:441\n",
      " in execute_request(::ZMQ.Socket, ::IJulia.Msg) at /home/jzh/.julia/v0.5/IJulia/src/execute_request.jl:169\n",
      " in eventloop(::ZMQ.Socket) at /home/jzh/.julia/v0.5/IJulia/src/eventloop.jl:8\n",
      " in (::IJulia.##9#15)() at ./task.jl:360\n",
      "while loading In[1], in expression starting on line 427\n"
     ]
    }
   ],
   "source": [
    "using JSON\n",
    "using JuMP\n",
    "\n",
    "using PyCall\n",
    "unshift!(PyVector(pyimport(\"sys\")[\"path\"]), \"\");\n",
    "@pyimport GLS_Apr_weekday_PM_journal"
   ]
  },
  {
   "cell_type": "code",
   "execution_count": 2,
   "metadata": {
    "collapsed": false
   },
   "outputs": [
    {
     "data": {
      "text/plain": [
       "load_ta_network (generic function with 2 methods)"
      ]
     },
     "execution_count": 2,
     "metadata": {},
     "output_type": "execute_result"
    }
   ],
   "source": [
    "include(\"../Julia_files/load_network_uni_class.jl\")"
   ]
  },
  {
   "cell_type": "code",
   "execution_count": 3,
   "metadata": {
    "collapsed": false
   },
   "outputs": [
    {
     "data": {
      "text/plain": [
       "74"
      ]
     },
     "execution_count": 3,
     "metadata": {},
     "output_type": "execute_result"
    }
   ],
   "source": [
    "numLinks = 258;  # number of links\n",
    "numNodes = 74;  # number of nodes"
   ]
  },
  {
   "cell_type": "code",
   "execution_count": 4,
   "metadata": {
    "collapsed": false
   },
   "outputs": [],
   "source": [
    "# #load OD pair-route incidence\n",
    "# odPairRoute = readstring(\"od_pair_route_incidence_MA_journal.json\");\n",
    "# odPairRoute = JSON.parse(odPairRoute);\n",
    "\n",
    "# #load link-route incidence\n",
    "# linkRoute = readstring(\"link_route_incidence_MA_journal.json\");\n",
    "# linkRoute = JSON.parse(linkRoute);\n",
    "# #load OD pair labels\n",
    "# odPairLabel = readstring(\"od_pair_label_dict_MA_refined_journal.json\");\n",
    "# odPairLabel = JSON.parse(odPairLabel);\n",
    "\n",
    "odPairLabel_ = Dict()\n",
    "idx = 1\n",
    "for origi = 1:numNodes\n",
    "    for desti = 1:numNodes\n",
    "        if origi != desti\n",
    "            odPairLabel_[\"$(idx)\"] = [origi,desti]\n",
    "            idx += 1\n",
    "        end\n",
    "    end\n",
    "end"
   ]
  },
  {
   "cell_type": "code",
   "execution_count": 5,
   "metadata": {
    "collapsed": false
   },
   "outputs": [
    {
     "data": {
      "text/plain": [
       "Dict{Any,Any} with 5402 entries:\n",
       "  \"4304\" => [59,71]\n",
       "  \"3935\" => [54,67]\n",
       "  \"2243\" => [31,54]\n",
       "  \"1881\" => [26,57]\n",
       "  \"4209\" => [58,48]\n",
       "  \"1907\" => [27,9]\n",
       "  \"2923\" => [41,3]\n",
       "  \"599\"  => [9,16]\n",
       "  \"2491\" => [35,9]\n",
       "  \"228\"  => [4,10]\n",
       "  \"2590\" => [36,35]\n",
       "  \"3697\" => [51,47]\n",
       "  \"5031\" => [69,67]\n",
       "  \"2579\" => [36,24]\n",
       "  \"1880\" => [26,56]\n",
       "  \"2562\" => [36,7]\n",
       "  \"3215\" => [45,3]\n",
       "  \"3991\" => [55,49]\n",
       "  \"4652\" => [64,53]\n",
       "  \"4088\" => [56,74]\n",
       "  \"3841\" => [53,45]\n",
       "  \"1106\" => [16,11]\n",
       "  \"2366\" => [33,30]\n",
       "  \"3196\" => [44,58]\n",
       "  \"1783\" => [25,32]\n",
       "  ⋮      => ⋮"
      ]
     },
     "execution_count": 5,
     "metadata": {},
     "output_type": "execute_result"
    }
   ],
   "source": [
    "odPairLabel_"
   ]
  },
  {
   "cell_type": "code",
   "execution_count": 6,
   "metadata": {
    "collapsed": false
   },
   "outputs": [],
   "source": [
    "# #load link labels\n",
    "# linkLabel = readstring(\"link_label_dict_MA_journal.json\");\n",
    "# linkLabel = JSON.parse(linkLabel);\n",
    "\n",
    "# linkLabel_ = readstring(\"link_label_dict_MA__journal.json\");\n",
    "# linkLabel_ = JSON.parse(linkLabel_);\n",
    "\n",
    "#load node-link incidence\n",
    "nodeLink = readstring(\"../temp_files/node_link_incidence_MA_journal.json\");\n",
    "nodeLink = JSON.parse(nodeLink);\n",
    "\n",
    "ta_data = load_ta_network(\"MA_journal_Apr_PM\");"
   ]
  },
  {
   "cell_type": "code",
   "execution_count": 7,
   "metadata": {
    "collapsed": false
   },
   "outputs": [
    {
     "data": {
      "text/plain": [
       "Dict{String,Any} with 19092 entries:\n",
       "  \"2-21\"   => 0.0\n",
       "  \"51-171\" => 0.0\n",
       "  \"22-4\"   => 0.0\n",
       "  \"10-128\" => 0.0\n",
       "  \"30-139\" => 0.0\n",
       "  \"68-33\"  => 0.0\n",
       "  \"33-67\"  => 0.0\n",
       "  \"24-251\" => 0.0\n",
       "  \"45-61\"  => 0.0\n",
       "  \"3-257\"  => 0.0\n",
       "  \"9-60\"   => 0.0\n",
       "  \"22-86\"  => 0.0\n",
       "  \"2-215\"  => 0.0\n",
       "  \"11-52\"  => 0.0\n",
       "  \"49-247\" => 0.0\n",
       "  \"40-215\" => 0.0\n",
       "  \"66-187\" => 0.0\n",
       "  \"28-136\" => 0.0\n",
       "  \"30-131\" => 0.0\n",
       "  \"63-35\"  => 0.0\n",
       "  \"49-106\" => 0.0\n",
       "  \"35-1\"   => 0.0\n",
       "  \"47-113\" => 0.0\n",
       "  \"71-10\"  => 0.0\n",
       "  \"19-141\" => 0.0\n",
       "  ⋮        => ⋮"
      ]
     },
     "execution_count": 7,
     "metadata": {},
     "output_type": "execute_result"
    }
   ],
   "source": [
    "nodeLink"
   ]
  },
  {
   "cell_type": "code",
   "execution_count": 8,
   "metadata": {
    "collapsed": false
   },
   "outputs": [
    {
     "name": "stdout",
     "output_type": "stream",
     "text": [
      "Any[1.0,-0.00303133,0.0577207,-0.195677,0.620789,-0.905919,0.935921,-0.469131,0.108528]\n"
     ]
    }
   ],
   "source": [
    "deg = 8\n",
    "c = 0.5\n",
    "lam = 10000.0\n",
    "\n",
    "coeffs_dict_Apr_PM_ = readstring(\"../temp_files/coeffs_dict_Apr_PM.json\")\n",
    "coeffs_dict_Apr_PM_ = JSON.parse(coeffs_dict_Apr_PM_)\n",
    "fcoeffs = coeffs_dict_Apr_PM_[\"($(deg),$(c),$(lam),1)\"]\n",
    "\n",
    "println(fcoeffs)\n",
    "\n",
    "capacity = ta_data.capacity;\n",
    "free_flow_time = ta_data.free_flow_time;"
   ]
  },
  {
   "cell_type": "code",
   "execution_count": 9,
   "metadata": {
    "collapsed": false
   },
   "outputs": [
    {
     "data": {
      "text/plain": [
       "socialObj (generic function with 1 method)"
      ]
     },
     "execution_count": 9,
     "metadata": {},
     "output_type": "execute_result"
    }
   ],
   "source": [
    "function socialObj(linkFlowVec)\n",
    "    objVal = sum([free_flow_time[a] * fcoeffs[1] * linkFlowVec[a] + \n",
    "        free_flow_time[a] * fcoeffs[2] * linkFlowVec[a]^2 / capacity[a] + \n",
    "        free_flow_time[a] * fcoeffs[3] * linkFlowVec[a]^3 / capacity[a]^2 + \n",
    "        free_flow_time[a] * fcoeffs[4] * linkFlowVec[a]^4 / capacity[a]^3 + \n",
    "        free_flow_time[a] * fcoeffs[5] * linkFlowVec[a]^5 / capacity[a]^4 + \n",
    "        free_flow_time[a] * fcoeffs[6] * linkFlowVec[a]^6 / capacity[a]^5 + \n",
    "        free_flow_time[a] * fcoeffs[7] * linkFlowVec[a]^7 / capacity[a]^6 + \n",
    "        free_flow_time[a] * fcoeffs[8] * linkFlowVec[a]^8 / capacity[a]^7 + \n",
    "        free_flow_time[a] * fcoeffs[9] * linkFlowVec[a]^9 / capacity[a]^8 for a = 1:numLinks])\n",
    "    return objVal\n",
    "end"
   ]
  },
  {
   "cell_type": "code",
   "execution_count": 1,
   "metadata": {
    "collapsed": false
   },
   "outputs": [
    {
     "name": "stderr",
     "output_type": "stream",
     "text": [
      "WARNING: Method definition (::Type{Graphs.KeyVertex})(Int64, #K<:Any) in module Graphs at /home/jzh/.julia/v0.5/Graphs/src/common.jl:12 overwritten at /home/jzh/.julia/v0.5/Graphs/src/common.jl:16.\n",
      "WARNING: Method definition (::Type{Graphs.Edge})(Int64, #V<:Any, #V<:Any) in module Graphs at /home/jzh/.julia/v0.5/Graphs/src/common.jl:54 overwritten at /home/jzh/.julia/v0.5/Graphs/src/common.jl:60.\n",
      "WARNING: Method definition (::Type{Graphs.ExEdge})(Int64, #V<:Any, #V<:Any, Base.Dict{String, Any}) in module Graphs at /home/jzh/.julia/v0.5/Graphs/src/common.jl:72 overwritten at /home/jzh/.julia/v0.5/Graphs/src/common.jl:83.\n",
      "WARNING: Method definition (::Type{Graphs.TargetIterator})(#G<:Graphs.AbstractGraph, #EList<:Any) in module Graphs at /home/jzh/.julia/v0.5/Graphs/src/common.jl:123 overwritten at /home/jzh/.julia/v0.5/Graphs/src/common.jl:127.\n",
      "WARNING: Method definition (::Type{Graphs.SourceIterator})(#G<:Graphs.AbstractGraph, #EList<:Any) in module Graphs at /home/jzh/.julia/v0.5/Graphs/src/common.jl:141 overwritten at /home/jzh/.julia/v0.5/Graphs/src/common.jl:145.\n",
      "WARNING: Method definition edge_property_requirement(Graphs.AbstractEdgePropertyInspector{#T<:Any}, Graphs.AbstractGraph{#V<:Any, E<:Any}) in module Graphs at /home/jzh/.julia/v0.5/Graphs/src/common.jl:164 overwritten at /home/jzh/.julia/v0.5/Graphs/src/common.jl:179.\n",
      "WARNING: Method definition vertex_index(#V<:Union{Graphs.ExVertex, Graphs.KeyVertex}, Graphs.GenericGraph{#V<:Union{Graphs.ExVertex, Graphs.KeyVertex}, E<:Any, VList<:Any, EList<:Any, IncList<:Any}) in module Graphs at /home/jzh/.julia/v0.5/Graphs/src/graph.jl:65 overwritten at /home/jzh/.julia/v0.5/Graphs/src/graph.jl:67.\n",
      "WARNING: Method definition (::Type{Graphs.GDistanceVisitor})(#G<:Graphs.AbstractGraph, #DMap<:Any) in module Graphs at /home/jzh/.julia/v0.5/Graphs/src/breadth_first_visit.jl:107 overwritten at /home/jzh/.julia/v0.5/Graphs/src/breadth_first_visit.jl:111.\n"
     ]
    },
    {
     "ename": "LoadError",
     "evalue": "LoadError: LoadError: UndefVarError: start_node not defined\nwhile loading /home/jzh/Research/Traffic/InverseVIsTraffic/Julia_files/tap_MSA.jl, in expression starting on line 33\nwhile loading In[1], in expression starting on line 1",
     "output_type": "error",
     "traceback": [
      "LoadError: LoadError: UndefVarError: start_node not defined\nwhile loading /home/jzh/Research/Traffic/InverseVIsTraffic/Julia_files/tap_MSA.jl, in expression starting on line 33\nwhile loading In[1], in expression starting on line 1",
      "",
      " in include_from_node1(::String) at ./loading.jl:488"
     ]
    }
   ],
   "source": [
    "include(\"../Julia_files/tap_MSA.jl\");"
   ]
  },
  {
   "cell_type": "code",
   "execution_count": null,
   "metadata": {
    "collapsed": true
   },
   "outputs": [],
   "source": [
    "demandsDict = readstring(\"../08_develop_new_OD_demand_estimator_MA_Dijkstra_uni_class_Apr_PM_journal/results/demandsDictFixed$(day)_journal.json\");\n",
    "demandsDict = JSON.parse(demandsDict);\n",
    "\n",
    "tapFlowDicDict = {}\n",
    "tapFlowVecDict = {}\n",
    "tapFlowDicDict[2], tapFlowVecDict[2] = tapMSA(demandsDict, fcoeffs);"
   ]
  },
  {
   "cell_type": "code",
   "execution_count": 10,
   "metadata": {
    "collapsed": false
   },
   "outputs": [
    {
     "data": {
      "text/plain": [
       "POA_MA_Apr_PM_journal_alt (generic function with 1 method)"
      ]
     },
     "execution_count": 10,
     "metadata": {},
     "output_type": "execute_result"
    }
   ],
   "source": [
    "function POA_MA_Apr_PM_journal_alt(day)\n",
    "\n",
    "    demandsDict = readstring(\"../08_develop_new_OD_demand_estimator_MA_Dijkstra_uni_class_Apr_PM_journal/results/demandsDictFixed$(day)_journal.json\");\n",
    "    demandsDict = JSON.parse(demandsDict);\n",
    "\n",
    "    # demands = demandsDict[\"$(length(demandsDict)-1)\"]\n",
    "\n",
    "    demands = demandsDict\n",
    "    \n",
    "    demands_ = Dict()\n",
    "\n",
    "    for key in keys(demands)\n",
    "        key_ = (parse(Int, split(split(key, ',')[1], '(')[2]),parse(Int, split(split(key, ',')[2], ')')[1]))\n",
    "        demands_[key_] = demands[key]\n",
    "    end\n",
    "\n",
    "#     odPairLabel_;\n",
    "\n",
    "    demandsVec = zeros(5402)\n",
    "\n",
    "    for i = 1:length(demandsVec)\n",
    "        demandsVec[i] = demands[\"($(odPairLabel_[\"$i\"][1]),$(odPairLabel_[\"$i\"][2]))\"]\n",
    "    end\n",
    "\n",
    "#     demandsVec\n",
    "\n",
    "#     for key=keys(odPairRoute)\n",
    "#         if contains(key, \"5402-\")\n",
    "#             println(key)\n",
    "#         end\n",
    "#     end\n",
    "\n",
    "#     linkRoute;\n",
    "\n",
    "\n",
    "\n",
    "    # fcoeffs = [1, 0, 0, 0, .15]\n",
    "    \n",
    "    # m = Model(solver=GurobiSolver(OutputFlag=false))\n",
    "    m = Model()\n",
    "\n",
    "    @variable(m, linkFlow[1:numLinks])\n",
    "\n",
    "    @variable(m, odLinkFlow[keys(demands_), 1:numLinks])\n",
    "    for (s,t) = keys(demands_)\n",
    "        for k = 1:numLinks\n",
    "            @constraint(m, odLinkFlow[(s,t), k] >= 0)\n",
    "        end\n",
    "    end\n",
    "\n",
    "    for k = 1:numLinks\n",
    "        linkFlowPartial = sum([odLinkFlow[(s,t), k] for (s,t) = keys(demands_)])\n",
    "        @constraint(m, linkFlowPartial == linkFlow[k])\n",
    "    end\n",
    "\n",
    "    for l = 1:numNodes\n",
    "        for (s,t) = keys(demands_)\n",
    "            if s != t\n",
    "                odLinkFlowPartial = sum([nodeLink[\"$(l-1)-$(k-1)\"] * odLinkFlow[(s,t), k] for k = 1:numLinks])\n",
    "                if (l == s)\n",
    "                    @constraint(m, odLinkFlowPartial + demands_[(s,t)] == 0)\n",
    "                elseif (l == t)\n",
    "                    @constraint(m, odLinkFlowPartial - demands_[(s,t)] == 0)\n",
    "                else\n",
    "                    @constraint(m, odLinkFlowPartial == 0)\n",
    "                end\n",
    "            end\n",
    "        end\n",
    "    end\n",
    "\n",
    "    @NLexpression(m, f, sum{free_flow_time[a] * fcoeffs[1] * linkFlow[a] + \n",
    "        free_flow_time[a] * fcoeffs[2] * linkFlow[a]^2 / capacity[a] +\n",
    "        free_flow_time[a] * fcoeffs[3] * linkFlow[a]^3 / capacity[a]^2 +\n",
    "        free_flow_time[a] * fcoeffs[4] * linkFlow[a]^4 / capacity[a]^3 +\n",
    "        free_flow_time[a] * fcoeffs[5] * linkFlow[a]^5 / capacity[a]^4 +\n",
    "        free_flow_time[a] * fcoeffs[6] * linkFlow[a]^6 / capacity[a]^5 +\n",
    "        free_flow_time[a] * fcoeffs[7] * linkFlow[a]^7 / capacity[a]^6 +\n",
    "        free_flow_time[a] * fcoeffs[8] * linkFlow[a]^8 / capacity[a]^7 +\n",
    "        free_flow_time[a] * fcoeffs[9] * linkFlow[a]^9 / capacity[a]^8, a = 1:numLinks})\n",
    "\n",
    "    @NLobjective(m, Min, f)\n",
    "\n",
    "    solve(m)\n",
    "\n",
    "    println(getvalue(linkFlow))\n",
    "\n",
    "    getobjectivevalue(m)\n",
    "\n",
    "    flows = Dict()\n",
    "\n",
    "    for i = 1:length(ta_data.start_node)\n",
    "        key = (ta_data.start_node[i], ta_data.end_node[i])\n",
    "        flows[key] = getvalue(linkFlow)[i]\n",
    "    end\n",
    "\n",
    "#     flows\n",
    "\n",
    "    # getvalue(linkFlow)\n",
    "\n",
    "    # getobjectivevalue(m)\n",
    "\n",
    "    flow_user = GLS_Apr_weekday_PM_journal.x_\n",
    "    \n",
    "    println(socialObj(flow_user[:, day])/getobjectivevalue(m))\n",
    "    \n",
    "    return socialObj(flow_user[:, day])/getobjectivevalue(m)\n",
    "end"
   ]
  },
  {
   "cell_type": "code",
   "execution_count": 11,
   "metadata": {
    "collapsed": false
   },
   "outputs": [
    {
     "data": {
      "text/plain": [
       "1-element Array{Int64,1}:\n",
       " 2"
      ]
     },
     "execution_count": 11,
     "metadata": {},
     "output_type": "execute_result"
    }
   ],
   "source": [
    "# week_day_Apr_list = [2, 3, 4, 5, 6, 9, 10, 11, 12, 13, 16, 17, 18, 19, 20, 23, 24, 25, 26, 27, 30]\n",
    "week_day_Apr_list = [2]"
   ]
  },
  {
   "cell_type": "code",
   "execution_count": 12,
   "metadata": {
    "collapsed": false
   },
   "outputs": [
    {
     "data": {
      "text/plain": [
       "Dict{Any,Any} with 0 entries"
      ]
     },
     "execution_count": 12,
     "metadata": {},
     "output_type": "execute_result"
    }
   ],
   "source": [
    "poaDictAprPM_journal = Dict()"
   ]
  },
  {
   "cell_type": "code",
   "execution_count": 13,
   "metadata": {
    "collapsed": false
   },
   "outputs": [],
   "source": [
    "# for day in week_day_Apr_list\n",
    "#     poaDictAprPM[day] = POA_MA_Apr_PM_journal(day)\n",
    "# end"
   ]
  },
  {
   "cell_type": "code",
   "execution_count": 14,
   "metadata": {
    "collapsed": false
   },
   "outputs": [
    {
     "ename": "LoadError",
     "evalue": "LoadError: InterruptException:\nwhile loading In[14], in expression starting on line 1",
     "output_type": "error",
     "traceback": [
      "LoadError: InterruptException:\nwhile loading In[14], in expression starting on line 1",
      "",
      " in (::##4#6)(::Int64) at ./<missing>:0",
      " in collect_to!(::Array{JuMP.GenericAffExpr{Float64,JuMP.Variable},1}, ::Base.Generator{UnitRange{Int64},##4#6}, ::Int64, ::Int64) at ./array.jl:340",
      " in collect(::Base.Generator{UnitRange{Int64},##4#6}) at ./array.jl:308",
      " in POA_MA_Apr_PM_journal_alt(::Int64) at ./In[10]:59",
      " in macro expansion; at ./In[14]:2 [inlined]",
      " in anonymous at ./<missing>:?"
     ]
    }
   ],
   "source": [
    "for day in week_day_Apr_list\n",
    "    poaDictAprPM_journal[day] = POA_MA_Apr_PM_journal_alt(day)\n",
    "end"
   ]
  },
  {
   "cell_type": "code",
   "execution_count": 15,
   "metadata": {
    "collapsed": true
   },
   "outputs": [],
   "source": [
    "outfile = open(\"./results/poaDictAprPM_journal.json\", \"w\")\n",
    "\n",
    "JSON.print(outfile, poaDictAprPM_journal)\n",
    "\n",
    "close(outfile)"
   ]
  },
  {
   "cell_type": "code",
   "execution_count": 16,
   "metadata": {
    "collapsed": false
   },
   "outputs": [
    {
     "data": {
      "text/plain": [
       "Dict{Any,Any} with 0 entries"
      ]
     },
     "execution_count": 16,
     "metadata": {},
     "output_type": "execute_result"
    }
   ],
   "source": [
    "poaDictAprPM_journal"
   ]
  },
  {
   "cell_type": "code",
   "execution_count": null,
   "metadata": {
    "collapsed": true
   },
   "outputs": [],
   "source": []
  }
 ],
 "metadata": {
  "anaconda-cloud": {},
  "kernelspec": {
   "display_name": "Julia 0.5.0",
   "language": "julia",
   "name": "julia-0.5"
  },
  "language_info": {
   "file_extension": ".jl",
   "mimetype": "application/julia",
   "name": "julia",
   "version": "0.5.0"
  }
 },
 "nbformat": 4,
 "nbformat_minor": 0
}
