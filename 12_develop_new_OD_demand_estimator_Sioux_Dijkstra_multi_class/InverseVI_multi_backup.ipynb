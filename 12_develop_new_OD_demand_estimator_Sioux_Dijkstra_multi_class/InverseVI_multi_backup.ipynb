{
 "cells": [
  {
   "cell_type": "code",
   "execution_count": 1,
   "metadata": {
    "collapsed": true
   },
   "outputs": [],
   "source": [
    "using JuMP\n",
    "using Gurobi"
   ]
  },
  {
   "cell_type": "code",
   "execution_count": 2,
   "metadata": {
    "collapsed": false
   },
   "outputs": [
    {
     "data": {
      "text/plain": [
       "Arc (constructor with 3 methods)"
      ]
     },
     "execution_count": 2,
     "metadata": {},
     "output_type": "execute_result"
    }
   ],
   "source": [
    "type Arc\n",
    "    initNode::Int \n",
    "    termNode::Int \n",
    "    capacity::Float64\n",
    "    freeflowtime::Float64\n",
    "    flow::Float64\n",
    "    flow_car::Float64\n",
    "    flow_truck::Float64\n",
    "end\n",
    "\n",
    "Arc(initNode::Int, termNode::Int, capacity::Float64,freeflowtime::Float64) = \n",
    "    Arc(initNode, termNode, capacity, freeflowtime, 0., 0., 0.)"
   ]
  },
  {
   "cell_type": "code",
   "execution_count": 3,
   "metadata": {
    "collapsed": false
   },
   "outputs": [
    {
     "data": {
      "text/plain": [
       "polyEval (generic function with 1 method)"
      ]
     },
     "execution_count": 3,
     "metadata": {},
     "output_type": "execute_result"
    }
   ],
   "source": [
    "polyEval(coeffs, pt) = sum([coeffs[i] * pt^(i-1) for i = 1:length(coeffs)])  "
   ]
  },
  {
   "cell_type": "code",
   "execution_count": 4,
   "metadata": {
    "collapsed": false
   },
   "outputs": [
    {
     "data": {
      "text/plain": [
       "facto (generic function with 1 method)"
      ]
     },
     "execution_count": 4,
     "metadata": {},
     "output_type": "execute_result"
    }
   ],
   "source": [
    "function facto(m::Int64)\n",
    "    factori = 1\n",
    "    for j = 1:m\n",
    "        factori = factori * j\n",
    "    end\n",
    "    return factori\n",
    "end"
   ]
  },
  {
   "cell_type": "code",
   "execution_count": 5,
   "metadata": {
    "collapsed": false
   },
   "outputs": [
    {
     "data": {
      "text/plain": [
       "comb (generic function with 1 method)"
      ]
     },
     "execution_count": 5,
     "metadata": {},
     "output_type": "execute_result"
    }
   ],
   "source": [
    "function comb(n::Int64, m::Int64)\n",
    "    combi = facto(n) / (facto(m) * facto(n-m))\n",
    "    return int(combi)\n",
    "end"
   ]
  },
  {
   "cell_type": "code",
   "execution_count": 6,
   "metadata": {
    "collapsed": false
   },
   "outputs": [
    {
     "data": {
      "text/plain": [
       "setUpFitting (generic function with 1 method)"
      ]
     },
     "execution_count": 6,
     "metadata": {},
     "output_type": "execute_result"
    }
   ],
   "source": [
    "function setUpFitting(deg::Int64, c::Float64)\n",
    "    \n",
    "    normCoeffs = Array(Float64, deg+1)\n",
    "    for i=1:deg + 1\n",
    "        normCoeffs[i] = comb(deg, i-1) * c^(deg-i+1)\n",
    "    end\n",
    "\n",
    "\tm = Model(solver=GurobiSolver(OutputFlag=false))\n",
    "    \n",
    "\t@defVar(m, coeffs[1:deg+1])\n",
    "\n",
    "\treturn m, coeffs, normCoeffs\n",
    "\n",
    "end"
   ]
  },
  {
   "cell_type": "code",
   "execution_count": 7,
   "metadata": {
    "collapsed": false
   },
   "outputs": [
    {
     "data": {
      "text/plain": [
       "addResid (generic function with 1 method)"
      ]
     },
     "execution_count": 7,
     "metadata": {},
     "output_type": "execute_result"
    }
   ],
   "source": [
    "function addResid(m, coeffs, ys_car, ys_truck, demands_car, demands_truck, arcs, scaling)\n",
    "\t@defVar(m, resid)\n",
    "    @defVar(m, dual_cost)\n",
    "\t@defVar(m, dual_cost_car)\n",
    "    @defVar(m, dual_cost_truck)\n",
    "\t@defVar(m, primal_cost)\n",
    "    @defVar(m, primal_cost_car)\n",
    "    @defVar(m, primal_cost_truck)\n",
    "\n",
    "\t@addConstraint(m, dual_cost_car == sum{demands_car[(s,t)] * (ys_car[(s,t), t] - ys_car[(s,t), s]), (s,t)=keys(demands_car)})  \n",
    "    @addConstraint(m, dual_cost_truck == sum{demands_truck[(s,t)] * (ys_truck[(s,t), t] - ys_truck[(s,t), s]), (s,t)=keys(demands_truck)})  \n",
    "    @addConstraint(m, dual_cost == dual_cost_car + dual_cost_truck)\n",
    "    \n",
    "\t@addConstraint(m, primal_cost_car == sum{a.flow_car * 1.0 * a.freeflowtime * polyEval(coeffs, a.flow/a.capacity), a=values(arcs)})\n",
    "\t@addConstraint(m, primal_cost_truck == sum{a.flow_truck * 1.1 * a.freeflowtime * polyEval(coeffs, a.flow/a.capacity), a=values(arcs)})\n",
    "    @addConstraint(m, primal_cost == primal_cost_car + primal_cost_truck)\n",
    "                   \n",
    "\t@addConstraint(m, resid >= (primal_cost - dual_cost) / scaling)\n",
    "    @addConstraint(m, resid >= 0)\n",
    "\treturn resid\n",
    "end"
   ]
  },
  {
   "cell_type": "code",
   "execution_count": 8,
   "metadata": {
    "collapsed": false
   },
   "outputs": [
    {
     "data": {
      "text/plain": [
       "addIncreasingCnsts (generic function with 1 method)"
      ]
     },
     "execution_count": 8,
     "metadata": {},
     "output_type": "execute_result"
    }
   ],
   "source": [
    "function addIncreasingCnsts(m, coeffs, arcs)\n",
    "\tsorted_flows = sort([a.flow / a.capacity for a in values(arcs)])\n",
    "\tfor i = 2:length(sorted_flows)\n",
    "\t\t@addConstraint(m, polyEval(coeffs, sorted_flows[i-1]) <= polyEval(coeffs, sorted_flows[i]))\n",
    "\tend\n",
    "end"
   ]
  },
  {
   "cell_type": "code",
   "execution_count": 9,
   "metadata": {
    "collapsed": false
   },
   "outputs": [
    {
     "data": {
      "text/plain": [
       "normalize (generic function with 1 method)"
      ]
     },
     "execution_count": 9,
     "metadata": {},
     "output_type": "execute_result"
    }
   ],
   "source": [
    "function normalize(m, coeffs)\n",
    "    @addConstraint(m, coeffs[1] == 1)\n",
    "end"
   ]
  },
  {
   "cell_type": "code",
   "execution_count": 10,
   "metadata": {
    "collapsed": false
   },
   "outputs": [
    {
     "data": {
      "text/plain": [
       "addNetworkCnsts (generic function with 1 method)"
      ]
     },
     "execution_count": 10,
     "metadata": {},
     "output_type": "execute_result"
    }
   ],
   "source": [
    "function addNetworkCnsts(m, coeffs, demands_car, demands_truck, arcs, numNodes)\n",
    "\t@defVar(m, ys_car[keys(demands_car), 1:numNodes])\n",
    "    @defVar(m, ys_truck[keys(demands_truck), 1:numNodes])\n",
    "\tfor k = keys(arcs)\n",
    "\t\ta = arcs[k]\n",
    "\t\trhs = a.freeflowtime * polyEval(coeffs, a.flow/a.capacity)\n",
    "\t\tfor od in keys(demands_car)\n",
    "\t\t\t@addConstraint(m, ys_car[od, k[2]] - ys_car[od, k[1]] <= 1.0 * rhs)\n",
    "\t\tend\n",
    "\t\tfor od in keys(demands_truck)\n",
    "\t\t\t@addConstraint(m, ys_truck[od, k[2]] - ys_truck[od, k[1]] <= 1.1 * rhs)\n",
    "\t\tend\n",
    "\tend\n",
    "\treturn ys_car, ys_truck\n",
    "end"
   ]
  },
  {
   "cell_type": "code",
   "execution_count": 11,
   "metadata": {
    "collapsed": false
   },
   "outputs": [
    {
     "data": {
      "text/plain": [
       "train (generic function with 1 method)"
      ]
     },
     "execution_count": 11,
     "metadata": {},
     "output_type": "execute_result"
    }
   ],
   "source": [
    "##########\n",
    "#Fitting Funcs\n",
    "##########\n",
    "\n",
    "function train(lam::Float64, deg::Int, c::Float64, demands_car, demands_truck, arcs)\n",
    "    numNodes = maximum(map(pair->pair[1], keys(arcs)))\n",
    "    m, coeffs, normCoeffs = setUpFitting(deg, c)\n",
    "    \n",
    "    addIncreasingCnsts(m, coeffs, arcs)  #uses the original obs flows\n",
    "\n",
    "    normalize(m, coeffs)\n",
    "\n",
    "    resids = Variable[]\n",
    "\n",
    "    vArcs = Arc[]\n",
    "    for arc in values(arcs)\n",
    "        push!(vArcs, arc)\n",
    "    end\n",
    "    \n",
    "    flow_data = [a.flow::Float64 for a in vArcs]\n",
    "\n",
    "    #copy the flow data over to the arcs\n",
    "    for (ix, a) in enumerate(vArcs)\n",
    "        a.flow = flow_data[ix]\n",
    "    end\n",
    "\n",
    "    #Dual Feasibility\n",
    "    ys_car, ys_truck = addNetworkCnsts(m, coeffs, demands_car, demands_truck, arcs, numNodes)\n",
    "\n",
    "    #add the residual for this data point\n",
    "    push!(resids, addResid(m, coeffs, ys_car, ys_truck, demands_car, demands_truck, arcs, 1e6))\n",
    "    \n",
    "    @setObjective(m, Min, sum{resids[i], i = 1:length(resids)} \n",
    "                            + lam * sum{coeffs[i] * coeffs[i] / normCoeffs[i], i=1:deg + 1})\n",
    "    solve(m)\n",
    "    \n",
    "    return [getValue(coeffs[i]) for i =1:length(coeffs)], getObjectiveValue(m)\n",
    "end"
   ]
  },
  {
   "cell_type": "code",
   "execution_count": 12,
   "metadata": {
    "collapsed": false
   },
   "outputs": [],
   "source": [
    "#Read in the demand file\n",
    "\n",
    "file = open(\"../data_original/SiouxFalls_trips.txt\")\n",
    "\n",
    "demands = Dict{(Int64,Int64), Float64}()\n",
    "demands_car = Dict{(Int64,Int64), Float64}()\n",
    "demands_truck = Dict{(Int64,Int64), Float64}()\n",
    "\n",
    "s = 0\n",
    "for line in eachline(file)\n",
    "    if contains(line, \"Origin\")\n",
    "        s = int(split(line)[2])\n",
    "    else\n",
    "        pairs = split(line, \";\")\n",
    "        for pair in pairs\n",
    "            if !contains(pair, \"\\n\")\n",
    "                pair_vals = split(pair, \":\")\n",
    "                t, demand = int(pair_vals[1]), float(pair_vals[2])\n",
    "                demands[(s,t)] = demand\n",
    "                demands_car[(s,t)] = demand * .8\n",
    "                demands_truck[(s,t)] = demand * .2\n",
    "            end\n",
    "        end\n",
    "    end\n",
    "end\n",
    "\n",
    "close(file)"
   ]
  },
  {
   "cell_type": "code",
   "execution_count": 13,
   "metadata": {
    "collapsed": false
   },
   "outputs": [],
   "source": [
    "#read in the arc files\n",
    "\n",
    "arcs = Dict{(Int, Int), Arc}()\n",
    "file = open(\"../data_original/SiouxFalls_net.txt\")\n",
    "inHeader=true\n",
    "for line in eachline(file)\n",
    "    if inHeader\n",
    "        inHeader = !contains(line, \"Init node\")\n",
    "        continue\n",
    "    end\n",
    "    vals = split(line, )\n",
    "    arcs[(int(vals[1]), int(vals[2]))] = Arc(int(vals[1]), int(vals[2]), \n",
    "                                              float(vals[3]), float(vals[5]))\n",
    "end\n",
    "\n",
    "close(file)"
   ]
  },
  {
   "cell_type": "code",
   "execution_count": 14,
   "metadata": {
    "collapsed": false
   },
   "outputs": [],
   "source": [
    "#read in the car flows\n",
    "\n",
    "file = open(\"../data_original/flows_car_converge_1e-5.txt\")\n",
    "ix = 0; \n",
    "for line in eachline(file)\n",
    "    ix +=1\n",
    "    if ix ==1\n",
    "        continue\n",
    "    end\n",
    "    vals = split(line)\n",
    "    arcs[(int(vals[1]), int(vals[2]))].flow_car = float(vals[3])\n",
    "end\n",
    "\n",
    "close(file)"
   ]
  },
  {
   "cell_type": "code",
   "execution_count": 15,
   "metadata": {
    "collapsed": false
   },
   "outputs": [],
   "source": [
    "#read in the truck flows\n",
    "\n",
    "file = open(\"../data_original/flows_truck_converge_1e-5.txt\")\n",
    "ix = 0; \n",
    "for line in eachline(file)\n",
    "    ix +=1\n",
    "    if ix ==1\n",
    "        continue\n",
    "    end\n",
    "    vals = split(line)\n",
    "    arcs[(int(vals[1]), int(vals[2]))].flow_truck = float(vals[3])\n",
    "end\n",
    "\n",
    "close(file)"
   ]
  },
  {
   "cell_type": "code",
   "execution_count": 16,
   "metadata": {
    "collapsed": false
   },
   "outputs": [],
   "source": [
    "#calculate the total flow on each link\n",
    "for (s,t) in keys(arcs)\n",
    "    arcs[(s,t)].flow = 1.0 * arcs[(s,t)].flow_car + 2.0 * arcs[(s,t)].flow_truck\n",
    "end"
   ]
  },
  {
   "cell_type": "code",
   "execution_count": 17,
   "metadata": {
    "collapsed": false
   },
   "outputs": [
    {
     "data": {
      "text/plain": [
       "([1.0,-0.0454412,0.0848537,-0.0846426,0.204228,-0.0242573,0.00616206,-0.000656047],0.007801937173782405)"
      ]
     },
     "execution_count": 17,
     "metadata": {},
     "output_type": "execute_result"
    }
   ],
   "source": [
    "coeffs_dict = Dict{(Int64,Float64,Float64),Array{Float64,1}}()\n",
    "\n",
    "deg = 7\n",
    "c = 1.5\n",
    "lam = .01\n",
    "\n",
    "coeffs_dict[(deg, c, lam)], _ = train(lam, deg, c, demands_car, demands_truck, arcs)"
   ]
  },
  {
   "cell_type": "code",
   "execution_count": 18,
   "metadata": {
    "collapsed": false
   },
   "outputs": [
    {
     "name": "stderr",
     "output_type": "stream",
     "text": [
      "INFO: Loading help data...\n"
     ]
    },
    {
     "data": {
      "image/png": "[encoded data removed]",
      "text/plain": [
       "Figure(PyObject <matplotlib.figure.Figure object at 0x7ff8ce9d8f50>)"
      ]
     },
     "metadata": {},
     "output_type": "display_data"
    }
   ],
   "source": [
    "using PyPlot\n",
    "\n",
    "true_coeffs = [1, 0, 0, 0, .15]\n",
    "fcoeffs = coeffs_dict[(deg, c, lam)]\n",
    "\n",
    "xs = linspace(0, 2, 20)\n",
    "ys_true = map(x->polyEval(true_coeffs, x), xs)\n",
    "ys = map(x->polyEval(fcoeffs, x), xs)\n",
    "\n",
    "# ys = map(x->polyEval(fcoeffs, x), xs)\n",
    "\n",
    "plot(xs, ys_true, \"^-g\", label=\"ground truth\")\n",
    "plot(xs, ys, \"<-r\", label=\"estimation\")\n",
    "\n",
    "legend(loc=\"upper left\",fancybox=\"true\") \n",
    "# plot(xs, ys, \"--b\")\n",
    "grid(\"on\")\n",
    "xlim(-0.1, 2.1);\n",
    "ylim(0.9, 3.5);\n",
    "\n",
    "font1 = [\"family\"=>\"serif\", \"color\"=>\"darkred\", \"weight\"=>\"normal\", \"size\"=>14]\n",
    "xlabel(\"Scaled Flow\", fontdict=font1)\n",
    "ylabel(\"Scaled Cost\", fontdict=font1)\n",
    "\n",
    "savefig(\"./results/fitting_Sioux_inv_multi.pdf\")"
   ]
  },
  {
   "cell_type": "code",
   "execution_count": null,
   "metadata": {
    "collapsed": true
   },
   "outputs": [],
   "source": []
  }
 ],
 "metadata": {
  "kernelspec": {
   "display_name": "Julia 0.5.0",
   "language": "julia",
   "name": "julia-0.5"
  },
  "language_info": {
   "file_extension": ".jl",
   "mimetype": "application/julia",
   "name": "julia",
   "version": "0.5.0"
  }
 },
 "nbformat": 4,
 "nbformat_minor": 0
}
