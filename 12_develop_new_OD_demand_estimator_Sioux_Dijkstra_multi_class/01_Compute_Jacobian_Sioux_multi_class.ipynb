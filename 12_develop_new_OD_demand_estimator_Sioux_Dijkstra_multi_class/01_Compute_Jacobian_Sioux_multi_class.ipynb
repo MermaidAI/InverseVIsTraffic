{
 "cells": [
  {
   "cell_type": "code",
   "execution_count": 1,
   "metadata": {
    "collapsed": false
   },
   "outputs": [
    {
     "name": "stdout",
     "output_type": "stream",
     "text": [
      "No dicts found; please check load_dicts...\n"
     ]
    }
   ],
   "source": [
    "%run ../Python_files/util.py"
   ]
  },
  {
   "cell_type": "code",
   "execution_count": 2,
   "metadata": {
    "collapsed": false
   },
   "outputs": [],
   "source": [
    "import json"
   ]
  },
  {
   "cell_type": "code",
   "execution_count": 3,
   "metadata": {
    "collapsed": true
   },
   "outputs": [],
   "source": [
    "with open('./benchmark_data/Sioux_flow.txt') as Sioux_flow:\n",
    "    Sioux_flow_lines = Sioux_flow.readlines()\n",
    "Sioux_links = []\n",
    "i = -1\n",
    "for line in Sioux_flow_lines:\n",
    "    i += 1\n",
    "    if i > 0:\n",
    "        Sioux_links.append(line.split('\\t')[0:2])\n",
    "numLinks = i"
   ]
  },
  {
   "cell_type": "code",
   "execution_count": 4,
   "metadata": {
    "collapsed": false
   },
   "outputs": [],
   "source": [
    "link_list_js = [str(int(Sioux_links[i][0])) + ',' + str(int(Sioux_links[i][1])) for \\\n",
    "                i in range(len(Sioux_links))]\n",
    "\n",
    "link_list_pk = [str(int(Sioux_links[i][0])) + '->' + str(int(Sioux_links[i][1])) for \\\n",
    "                i in range(len(Sioux_links))]"
   ]
  },
  {
   "cell_type": "code",
   "execution_count": 5,
   "metadata": {
    "collapsed": false
   },
   "outputs": [],
   "source": [
    "numNodes = max([int(Sioux_links[i][1]) for i in range(numLinks)])"
   ]
  },
  {
   "cell_type": "code",
   "execution_count": 6,
   "metadata": {
    "collapsed": false
   },
   "outputs": [],
   "source": [
    "from collections import defaultdict\n",
    "\n",
    "node_neighbors_dict = defaultdict(list)\n",
    "\n",
    "for node in range(numNodes):\n",
    "    for link in Sioux_links:\n",
    "        if node == int(link[0]):\n",
    "            node_neighbors_dict[str(node)].append(int(link[1]))"
   ]
  },
  {
   "cell_type": "code",
   "execution_count": 7,
   "metadata": {
    "collapsed": true
   },
   "outputs": [],
   "source": [
    "with open('./benchmark_data/Sioux_trips.txt') as Sioux_trips:\n",
    "    Sioux_trips_lines = Sioux_trips.readlines()"
   ]
  },
  {
   "cell_type": "code",
   "execution_count": 8,
   "metadata": {
    "collapsed": false
   },
   "outputs": [],
   "source": [
    "numZones = int(Sioux_trips_lines[0].split(' ')[3])"
   ]
  },
  {
   "cell_type": "code",
   "execution_count": 9,
   "metadata": {
    "collapsed": false
   },
   "outputs": [],
   "source": [
    "od_pairs = []\n",
    "for i in range(numZones+1)[1:]:\n",
    "    for j in range(numZones+1)[1:]:\n",
    "        if i != j:\n",
    "            od_pairs.append([i, j])\n",
    "            \n",
    "numODpairs = len(od_pairs)"
   ]
  },
  {
   "cell_type": "code",
   "execution_count": 10,
   "metadata": {
    "collapsed": true
   },
   "outputs": [],
   "source": [
    "# create O-D pair labels\n",
    "# create a dictionary mapping O-D pairs to labels\n",
    "\n",
    "import json\n",
    "\n",
    "OD_pair_label_dict = {}\n",
    "OD_pair_label_dict_ = {}\n",
    "\n",
    "label = 1\n",
    "for i in range(numZones + 1)[1:]:\n",
    "    for j in range(numZones + 1)[1:]:\n",
    "        key = (i, j)\n",
    "        OD_pair_label_dict[str(key)] = label\n",
    "        OD_pair_label_dict_[str(label)] = key\n",
    "        label += 1\n",
    "        \n",
    "with open('../temp_files/od_pair_label_dict_Sioux.json', 'w') as json_file:\n",
    "    json.dump(OD_pair_label_dict, json_file)\n",
    "    \n",
    "with open('../temp_files/od_pair_label_dict__Sioux.json', 'w') as json_file:\n",
    "    json.dump(OD_pair_label_dict_, json_file)\n",
    "\n",
    "\n",
    "OD_pair_label_dict_refined = {}\n",
    "OD_pair_label_dict_refined_ = {}\n",
    "\n",
    "label = 1\n",
    "for i in range(numZones + 1)[1:]:\n",
    "    for j in range(numZones + 1)[1:]:\n",
    "        if i != j:\n",
    "            key = (i, j)\n",
    "            OD_pair_label_dict_refined[str(key)] = label\n",
    "            OD_pair_label_dict_refined_[str(label)] = key\n",
    "            label += 1\n",
    "        \n",
    "with open('../temp_files/od_pair_label_dict_Sioux_refined.json', 'w') as json_file:\n",
    "    json.dump(OD_pair_label_dict_refined, json_file)\n",
    "    \n",
    "with open('../temp_files/od_pair_label_dict__Sioux_refined.json', 'w') as json_file:\n",
    "    json.dump(OD_pair_label_dict_refined_, json_file)\n",
    "    \n",
    "    \n",
    "# create link labels\n",
    "# create a dictionary mapping directed links to labels\n",
    "link_label_dict = {}\n",
    "link_label_dict_ = {}\n",
    "\n",
    "for i in range(numLinks):\n",
    "    link_label_dict[str(i)] = link_list_js[i]\n",
    "\n",
    "for i in range(numLinks):\n",
    "    link_label_dict_[link_list_js[i]] = i\n",
    "\n",
    "with open('../temp_files/link_label_dict_Sioux.json', 'w') as json_file:\n",
    "    json.dump(link_label_dict, json_file)\n",
    "    \n",
    "with open('../temp_files/link_label_dict_Sioux_.json', 'w') as json_file:\n",
    "    json.dump(link_label_dict_, json_file)\n",
    "    \n",
    "# create link labels\n",
    "# create a dictionary mapping directed links to labels\n",
    "link_label_dict = {}\n",
    "link_label_dict_ = {}\n",
    "\n",
    "for i in range(numLinks):\n",
    "    link_label_dict[str(i)] = link_list_pk[i]\n",
    "\n",
    "for i in range(numLinks):\n",
    "    link_label_dict_[link_list_pk[i]] = i\n",
    "\n",
    "zdump(link_label_dict, '../temp_files/link_label_dict_Sioux_network.pkz')\n",
    "zdump(link_label_dict_, '../temp_files/link_label_dict_Sioux_network_.pkz')"
   ]
  },
  {
   "cell_type": "code",
   "execution_count": 11,
   "metadata": {
    "collapsed": true
   },
   "outputs": [],
   "source": [
    "link_length_list = []\n",
    "with open('./benchmark_data/Sioux_net.txt', 'r') as f:\n",
    "    read_data = f.readlines()\n",
    "    flag = 0\n",
    "    for row in read_data:\n",
    "        if ';' in row:\n",
    "            flag += 1\n",
    "            if flag > 1:\n",
    "                link_length_list.append(float(row.split('\\t')[4]))"
   ]
  },
  {
   "cell_type": "code",
   "execution_count": 12,
   "metadata": {
    "collapsed": false
   },
   "outputs": [],
   "source": [
    "link_label_dict = zload('../temp_files/link_label_dict_Sioux_network.pkz')\n",
    "link_label_dict_ = zload('../temp_files/link_label_dict_Sioux_network_.pkz')"
   ]
  },
  {
   "cell_type": "code",
   "execution_count": 13,
   "metadata": {
    "collapsed": false
   },
   "outputs": [],
   "source": [
    "import networkx as nx\n",
    "\n",
    "def jacobianSpiess(numNodes, numLinks, numODpairs, od_pairs, link_list_js, link_length_list_dict):\n",
    "    \n",
    "    numClasses = len(link_length_list_dict)\n",
    "    \n",
    "    netDict = {}\n",
    "    pathDict = {}\n",
    "    od_link_dict_dict = {}\n",
    "    \n",
    "    for k in range(numClasses):\n",
    "    \n",
    "        netDict[k] = nx.DiGraph()\n",
    "\n",
    "        netDict[k].add_nodes_from(range(numNodes+1)[1:])\n",
    "\n",
    "        weighted_edges = [(int(link_list_js[i].split(',')[0]), int(link_list_js[i].split(',')[1]), \\\n",
    "                           link_length_list_dict[k][i]) for i in range(len(link_list_js))]\n",
    "\n",
    "        netDict[k].add_weighted_edges_from(weighted_edges)\n",
    "\n",
    "        pathDict[k] = nx.all_pairs_dijkstra_path(netDict[k])\n",
    "\n",
    "        od_route_dict = {}\n",
    "        for od in od_pairs:\n",
    "            origi = od[0]\n",
    "            desti = od[1]\n",
    "            key = OD_pair_label_dict_refined[str((origi, desti))]\n",
    "            route = str(pathDict[k][origi][desti]).replace(\"[\", \"\").replace(\", \", \"->\").replace(\"]\", \"\")\n",
    "            od_route_dict[key] = route\n",
    "\n",
    "        od_link_dict = {}\n",
    "        for idx in range(len(od_route_dict)):\n",
    "            od_link_list = []\n",
    "            od_node_list = od_route_dict[idx+1].split('->')\n",
    "            for i in range(len(od_node_list)):\n",
    "                if i < len(od_node_list) - 1:\n",
    "                    od_link_list.append(link_label_dict_[od_node_list[i] + '->' + od_node_list[i+1]])\n",
    "            od_link_dict[idx] = od_link_list\n",
    "            \n",
    "        od_link_dict_dict[k] = od_link_dict\n",
    "\n",
    "    jacob = np.zeros((numODpairs, numLinks, numClasses))\n",
    "\n",
    "    for i in range(numODpairs):\n",
    "        for j in range(numLinks):\n",
    "            for k in range(numClasses):\n",
    "                if j in od_link_dict_dict[k][i]:\n",
    "                    jacob[i, j, k] = 1\n",
    "\n",
    "    return jacob"
   ]
  },
  {
   "cell_type": "code",
   "execution_count": 14,
   "metadata": {
    "collapsed": false
   },
   "outputs": [],
   "source": [
    "link_length_list_dict = {}\n",
    "\n",
    "link_length_list_car = [1.0 * item for item in link_length_list]\n",
    "link_length_list_truck = [1.1 * item for item in link_length_list]\n",
    "\n",
    "link_length_list_dict[0] = link_length_list_car\n",
    "link_length_list_dict[1] = link_length_list_truck\n",
    "\n",
    "jacob = jacobianSpiess(numNodes, numLinks, numODpairs, od_pairs, link_list_js, link_length_list_dict)"
   ]
  },
  {
   "cell_type": "code",
   "execution_count": 15,
   "metadata": {
    "collapsed": false
   },
   "outputs": [
    {
     "data": {
      "text/plain": [
       "(552, 76, 2)"
      ]
     },
     "execution_count": 15,
     "metadata": {},
     "output_type": "execute_result"
    }
   ],
   "source": [
    "np.shape(jacob)"
   ]
  },
  {
   "cell_type": "code",
   "execution_count": 16,
   "metadata": {
    "collapsed": false
   },
   "outputs": [
    {
     "data": {
      "text/plain": [
       "array([[ 1.,  0.,  0., ...,  0.,  0.,  0.],\n",
       "       [ 0.,  1.,  0., ...,  0.,  0.,  0.],\n",
       "       [ 0.,  1.,  0., ...,  0.,  0.,  0.],\n",
       "       ..., \n",
       "       [ 0.,  0.,  0., ...,  0.,  1.,  0.],\n",
       "       [ 0.,  0.,  0., ...,  0.,  1.,  0.],\n",
       "       [ 0.,  0.,  0., ...,  0.,  0.,  1.]])"
      ]
     },
     "execution_count": 16,
     "metadata": {},
     "output_type": "execute_result"
    }
   ],
   "source": [
    "jacob[:,:,1]"
   ]
  }
 ],
 "metadata": {
  "kernelspec": {
   "display_name": "Python [Root]",
   "language": "python",
   "name": "Python [Root]"
  },
  "language_info": {
   "codemirror_mode": {
    "name": "ipython",
    "version": 2
   },
   "file_extension": ".py",
   "mimetype": "text/x-python",
   "name": "python",
   "nbconvert_exporter": "python",
   "pygments_lexer": "ipython2",
   "version": "2.7.12"
  }
 },
 "nbformat": 4,
 "nbformat_minor": 0
}
