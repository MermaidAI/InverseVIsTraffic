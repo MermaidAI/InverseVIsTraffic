{
 "cells": [
  {
   "cell_type": "code",
   "execution_count": 1,
   "metadata": {
    "collapsed": false
   },
   "outputs": [],
   "source": [
    "# based on https://github.com/chkwon/TrafficAssignment.jl"
   ]
  },
  {
   "cell_type": "code",
   "execution_count": 2,
   "metadata": {
    "collapsed": false
   },
   "outputs": [
    {
     "data": {
      "text/plain": [
       "load_ta_network (generic function with 2 methods)"
      ]
     },
     "execution_count": 2,
     "metadata": {},
     "output_type": "execute_result"
    }
   ],
   "source": [
    "include(\"../Julia_files/load_network_uni-class.jl\")"
   ]
  },
  {
   "cell_type": "code",
   "execution_count": 3,
   "metadata": {
    "collapsed": false
   },
   "outputs": [
    {
     "data": {
      "text/plain": [
       "create_graph (generic function with 1 method)"
      ]
     },
     "execution_count": 3,
     "metadata": {},
     "output_type": "execute_result"
    }
   ],
   "source": [
    "using Graphs\n",
    "\n",
    "function create_graph(start_node, end_node)\n",
    "    @assert length(start_node)==length(end_node)\n",
    "\n",
    "    no_node = max(maximum(start_node), maximum(end_node))\n",
    "    no_arc = length(start_node)\n",
    "\n",
    "    graph = simple_inclist(no_node)\n",
    "    for i=1:no_arc\n",
    "        add_edge!(graph, start_node[i], end_node[i])\n",
    "    end\n",
    "    return graph\n",
    "end"
   ]
  },
  {
   "cell_type": "code",
   "execution_count": 4,
   "metadata": {
    "collapsed": false
   },
   "outputs": [
    {
     "data": {
      "text/plain": [
       "get_vector (generic function with 1 method)"
      ]
     },
     "execution_count": 4,
     "metadata": {},
     "output_type": "execute_result"
    }
   ],
   "source": [
    "function get_vector(state, origin, destination, link_dic)\n",
    "    current = destination\n",
    "    parent = -1\n",
    "    x = zeros(Int, maximum(link_dic))\n",
    "\n",
    "    while parent != origin\n",
    "        parent = state.parents[current]\n",
    "\n",
    "        link_idx = link_dic[parent,current]\n",
    "\n",
    "        if link_idx != 0\n",
    "            x[link_idx] = 1\n",
    "        end\n",
    "\n",
    "        current = parent\n",
    "    end\n",
    "\n",
    "    return x\n",
    "end"
   ]
  },
  {
   "cell_type": "code",
   "execution_count": 5,
   "metadata": {
    "collapsed": false
   },
   "outputs": [
    {
     "data": {
      "text/plain": [
       "TA_Data(\"Sioux Falls\",24,24,1,76,[1,1,2,2,3,3,3,4,4,4  …  22,22,22,22,23,23,23,24,24,24],[2,3,1,6,1,4,12,3,5,11  …  15,20,21,23,14,22,24,13,21,23],[25900.2,23403.5,25900.2,4958.18,23403.5,17110.5,23403.5,17110.5,17782.8,4908.83  …  9599.18,5075.7,5229.91,5000.0,4924.79,5000.0,5078.51,5091.26,4885.36,5078.51],[6.0,4.0,6.0,5.0,4.0,4.0,4.0,4.0,2.0,6.0  …  3.0,5.0,2.0,4.0,4.0,4.0,2.0,4.0,3.0,2.0],[6.0,4.0,6.0,5.0,4.0,4.0,4.0,4.0,2.0,6.0  …  3.0,5.0,2.0,4.0,4.0,4.0,2.0,4.0,3.0,2.0],[0.15,0.15,0.15,0.15,0.15,0.15,0.15,0.15,0.15,0.15  …  0.15,0.15,0.15,0.15,0.15,0.15,0.15,0.15,0.15,0.15],[4.0,4.0,4.0,4.0,4.0,4.0,4.0,4.0,4.0,4.0  …  4.0,4.0,4.0,4.0,4.0,4.0,4.0,4.0,4.0,4.0],[0.0,0.0,0.0,0.0,0.0,0.0,0.0,0.0,0.0,0.0  …  0.0,0.0,0.0,0.0,0.0,0.0,0.0,0.0,0.0,0.0],[0.0,0.0,0.0,0.0,0.0,0.0,0.0,0.0,0.0,0.0  …  0.0,0.0,0.0,0.0,0.0,0.0,0.0,0.0,0.0,0.0],[1,1,1,1,1,1,1,1,1,1  …  1,1,1,1,1,1,1,1,1,1],360600.0,24x24 Array{Float64,2}:\n",
       "    0.0  100.0  100.0   500.0   200.0  …   100.0   400.0   300.0   100.0\n",
       "  100.0    0.0  100.0   200.0   100.0        0.0   100.0     0.0     0.0\n",
       "  100.0  100.0    0.0   200.0   100.0        0.0   100.0   100.0     0.0\n",
       "  500.0  200.0  200.0     0.0   500.0      200.0   400.0   500.0   200.0\n",
       "  200.0  100.0  100.0   500.0     0.0      100.0   200.0   100.0     0.0\n",
       "  300.0  400.0  300.0   400.0   200.0  …   100.0   200.0   100.0   100.0\n",
       "  500.0  200.0  100.0   400.0   200.0      200.0   500.0   200.0   100.0\n",
       "  800.0  400.0  200.0   700.0   500.0      400.0   500.0   300.0   200.0\n",
       "  500.0  200.0  100.0   700.0   800.0      300.0   700.0   500.0   200.0\n",
       " 1300.0  600.0  300.0  1200.0  1000.0     1200.0  2600.0  1800.0   800.0\n",
       "  500.0  200.0  300.0  1500.0   500.0  …   400.0  1100.0  1300.0   600.0\n",
       "  200.0  100.0  200.0   600.0   200.0      300.0   700.0   700.0   500.0\n",
       "  500.0  300.0  100.0   600.0   200.0      600.0  1300.0   800.0   800.0\n",
       "  300.0  100.0  100.0   500.0   100.0      400.0  1200.0  1100.0   400.0\n",
       "  500.0  100.0  100.0   500.0   200.0      800.0  2600.0  1000.0   400.0\n",
       "  500.0  400.0  200.0   800.0   500.0  …   600.0  1200.0   500.0   300.0\n",
       "  400.0  200.0  100.0   500.0   200.0      600.0  1700.0   600.0   300.0\n",
       "  100.0    0.0    0.0   100.0     0.0      100.0   300.0   100.0     0.0\n",
       "  300.0  100.0    0.0   200.0   100.0      400.0  1200.0   300.0   100.0\n",
       "  300.0  100.0    0.0   300.0   100.0     1200.0  2400.0   700.0   400.0\n",
       "  100.0    0.0    0.0   200.0   100.0  …     0.0  1800.0   700.0   500.0\n",
       "  400.0  100.0  100.0   400.0   200.0     1800.0     0.0  2100.0  1100.0\n",
       "  300.0    0.0  100.0   500.0   100.0      700.0  2100.0     0.0   700.0\n",
       "  100.0    0.0    0.0   200.0     0.0      500.0  1100.0   700.0     0.0,[(1,1),(1,2),(1,3),(1,4),(1,5),(1,6),(1,7),(1,8),(1,9),(1,10)  …  (24,15),(24,16),(24,17),(24,18),(24,19),(24,20),(24,21),(24,22),(24,23),(24,24)],0.0,0.0,0.0)"
      ]
     },
     "execution_count": 5,
     "metadata": {},
     "output_type": "execute_result"
    }
   ],
   "source": [
    "ta_data = load_ta_network(\"Sioux Falls\")"
   ]
  },
  {
   "cell_type": "code",
   "execution_count": 6,
   "metadata": {
    "collapsed": false
   },
   "outputs": [
    {
     "data": {
      "text/plain": [
       "576-element Array{(Int64,Int64),1}:\n",
       " (1,1)  \n",
       " (1,2)  \n",
       " (1,3)  \n",
       " (1,4)  \n",
       " (1,5)  \n",
       " (1,6)  \n",
       " (1,7)  \n",
       " (1,8)  \n",
       " (1,9)  \n",
       " (1,10) \n",
       " (1,11) \n",
       " (1,12) \n",
       " (1,13) \n",
       " ⋮      \n",
       " (24,13)\n",
       " (24,14)\n",
       " (24,15)\n",
       " (24,16)\n",
       " (24,17)\n",
       " (24,18)\n",
       " (24,19)\n",
       " (24,20)\n",
       " (24,21)\n",
       " (24,22)\n",
       " (24,23)\n",
       " (24,24)"
      ]
     },
     "execution_count": 6,
     "metadata": {},
     "output_type": "execute_result"
    }
   ],
   "source": [
    "ta_data.od_pairs"
   ]
  },
  {
   "cell_type": "code",
   "execution_count": 7,
   "metadata": {
    "collapsed": false
   },
   "outputs": [
    {
     "data": {
      "text/plain": [
       "0.0"
      ]
     },
     "execution_count": 7,
     "metadata": {},
     "output_type": "execute_result"
    }
   ],
   "source": [
    "# unpacking data from ta_data\n",
    "network_name = ta_data.network_name\n",
    "\n",
    "number_of_zones = ta_data.number_of_zones\n",
    "number_of_nodes = ta_data.number_of_nodes\n",
    "first_thru_node = ta_data.first_thru_node\n",
    "number_of_links = ta_data.number_of_links\n",
    "\n",
    "start_node = ta_data.start_node\n",
    "end_node = ta_data.end_node\n",
    "capacity = ta_data.capacity\n",
    "link_length = ta_data.link_length\n",
    "\n",
    "free_flow_time = ta_data.free_flow_time\n",
    "B = ta_data.B\n",
    "power = ta_data.power\n",
    "speed_limit = ta_data.speed_limit\n",
    "toll = ta_data.toll\n",
    "link_type = ta_data.link_type\n",
    "number_of_zones = ta_data.number_of_zones\n",
    "total_od_flow = ta_data.total_od_flow\n",
    "travel_demand = ta_data.travel_demand\n",
    "od_pairs = ta_data.od_pairs\n",
    "\n",
    "toll_factor = ta_data.toll_factor\n",
    "distance_factor = ta_data.distance_factor\n",
    "\n",
    "best_objective = ta_data.best_objective"
   ]
  },
  {
   "cell_type": "code",
   "execution_count": 8,
   "metadata": {
    "collapsed": false
   },
   "outputs": [],
   "source": [
    "# dividing the travel_demand into two classes (car and truck)\n",
    "travel_demand_car = travel_demand * .8\n",
    "travel_demand_truck = travel_demand * .2\n",
    "\n",
    "assert(travel_demand_car + travel_demand_truck == travel_demand)"
   ]
  },
  {
   "cell_type": "code",
   "execution_count": 9,
   "metadata": {
    "collapsed": false
   },
   "outputs": [
    {
     "data": {
      "text/plain": [
       "24x24 sparse matrix with 76 Int64 entries:\n",
       "\t[2 ,  1]  =  3\n",
       "\t[3 ,  1]  =  5\n",
       "\t[1 ,  2]  =  1\n",
       "\t[6 ,  2]  =  14\n",
       "\t[1 ,  3]  =  2\n",
       "\t[4 ,  3]  =  8\n",
       "\t[12,  3]  =  35\n",
       "\t[3 ,  4]  =  6\n",
       "\t[5 ,  4]  =  11\n",
       "\t[11,  4]  =  31\n",
       "\t⋮\n",
       "\t[24, 21]  =  75\n",
       "\t[15, 22]  =  46\n",
       "\t[20, 22]  =  63\n",
       "\t[21, 22]  =  65\n",
       "\t[23, 22]  =  72\n",
       "\t[14, 23]  =  42\n",
       "\t[22, 23]  =  70\n",
       "\t[24, 23]  =  76\n",
       "\t[13, 24]  =  39\n",
       "\t[21, 24]  =  66\n",
       "\t[23, 24]  =  73"
      ]
     },
     "execution_count": 9,
     "metadata": {},
     "output_type": "execute_result"
    }
   ],
   "source": [
    "# preparing a graph\n",
    "graph = create_graph(start_node, end_node)\n",
    "link_dic = sparse(start_node, end_node, 1:number_of_links)"
   ]
  },
  {
   "cell_type": "code",
   "execution_count": 10,
   "metadata": {
    "collapsed": false
   },
   "outputs": [
    {
     "data": {
      "text/plain": [
       "1:24"
      ]
     },
     "execution_count": 10,
     "metadata": {},
     "output_type": "execute_result"
    }
   ],
   "source": [
    "graph.vertices"
   ]
  },
  {
   "cell_type": "code",
   "execution_count": 11,
   "metadata": {
    "collapsed": false
   },
   "outputs": [
    {
     "data": {
      "text/plain": [
       "BPR (generic function with 1 method)"
      ]
     },
     "execution_count": 11,
     "metadata": {},
     "output_type": "execute_result"
    }
   ],
   "source": [
    "function BPR(x)\n",
    "    # travel_time = free_flow_time .* ( 1.0 + B .* (x./capacity).^power )\n",
    "    # generalized_cost = travel_time + toll_factor *toll + distance_factor * link_length\n",
    "    # return generalized_cost\n",
    "\n",
    "    bpr = similar(x)\n",
    "    for i=1:length(bpr)\n",
    "        bpr[i] = free_flow_time[i] * ( 1.0 + B[i] * (x[i]/capacity[i])^power[i] )\n",
    "    end\n",
    "    return bpr\n",
    "end"
   ]
  },
  {
   "cell_type": "code",
   "execution_count": 12,
   "metadata": {
    "collapsed": false
   },
   "outputs": [
    {
     "data": {
      "text/plain": [
       "all_or_nothing (generic function with 1 method)"
      ]
     },
     "execution_count": 12,
     "metadata": {},
     "output_type": "execute_result"
    }
   ],
   "source": [
    "function all_or_nothing(travel_time)\n",
    "    state = []\n",
    "    path = []\n",
    "    x = zeros(size(start_node))\n",
    "\n",
    "    for r=1:size(travel_demand)[1]\n",
    "        # for each origin node r, find shortest paths to all destination nodes\n",
    "        state = dijkstra_shortest_paths(graph, travel_time, r)\n",
    "\n",
    "        for s=1:size(travel_demand)[2]\n",
    "            # for each destination node s, find the shortest-path vector\n",
    "            # load travel demand\n",
    "            x = x + travel_demand[r,s] * get_vector(state, r, s, link_dic)\n",
    "        end\n",
    "    end\n",
    "\n",
    "    return x\n",
    "end"
   ]
  },
  {
   "cell_type": "code",
   "execution_count": 13,
   "metadata": {
    "collapsed": false
   },
   "outputs": [
    {
     "data": {
      "text/plain": [
       "all_or_nothing_car (generic function with 1 method)"
      ]
     },
     "execution_count": 13,
     "metadata": {},
     "output_type": "execute_result"
    }
   ],
   "source": [
    "function all_or_nothing_car(travel_time_car)\n",
    "    state = []\n",
    "    path = []\n",
    "    x = zeros(size(start_node))\n",
    "\n",
    "    for r=1:size(travel_demand_car)[1]\n",
    "        # for each origin node r, find shortest paths to all destination nodes\n",
    "        state = dijkstra_shortest_paths(graph, travel_time_car, r)\n",
    "\n",
    "        for s=1:size(travel_demand_car)[2]\n",
    "            # for each destination node s, find the shortest-path vector\n",
    "            # load travel demand\n",
    "            x = x + travel_demand_car[r,s] * get_vector(state, r, s, link_dic)\n",
    "        end\n",
    "    end\n",
    "\n",
    "    return x\n",
    "end"
   ]
  },
  {
   "cell_type": "code",
   "execution_count": 14,
   "metadata": {
    "collapsed": false
   },
   "outputs": [
    {
     "data": {
      "text/plain": [
       "all_or_nothing_truck (generic function with 1 method)"
      ]
     },
     "execution_count": 14,
     "metadata": {},
     "output_type": "execute_result"
    }
   ],
   "source": [
    "function all_or_nothing_truck(travel_time_truck)\n",
    "    state = []\n",
    "    path = []\n",
    "    x = zeros(size(start_node))\n",
    "\n",
    "    for r=1:size(travel_demand_truck)[1]\n",
    "        # for each origin node r, find shortest paths to all destination nodes\n",
    "        state = dijkstra_shortest_paths(graph, travel_time_truck, r)\n",
    "\n",
    "        for s=1:size(travel_demand_truck)[2]\n",
    "            # for each destination node s, find the shortest-path vector\n",
    "            # load travel demand\n",
    "            x = x + travel_demand_truck[r,s] * get_vector(state, r, s, link_dic)\n",
    "        end\n",
    "    end\n",
    "\n",
    "    return x\n",
    "end"
   ]
  },
  {
   "cell_type": "code",
   "execution_count": 15,
   "metadata": {
    "collapsed": false
   },
   "outputs": [],
   "source": [
    "# Finding a starting feasible solution\n",
    "travel_time = BPR(zeros(number_of_links));\n",
    "xl = all_or_nothing(travel_time);\n",
    "\n",
    "travel_time_car = 1.0 * BPR(zeros(number_of_links));\n",
    "travel_time_truck = 1.1 * BPR(zeros(number_of_links));\n",
    "#travel_time_truck = 1.0 * BPR(zeros(number_of_links));\n",
    "\n",
    "xl_car = all_or_nothing_car(travel_time_car);\n",
    "xl_truck = all_or_nothing_truck(travel_time_truck);"
   ]
  },
  {
   "cell_type": "code",
   "execution_count": 16,
   "metadata": {
    "collapsed": false
   },
   "outputs": [],
   "source": [
    "max_iter_no = 1e3\n",
    "l = 1\n",
    "#average_excess_cost = 1\n",
    "tol = 1e-5\n",
    "\n",
    "while l < max_iter_no\n",
    "    l += 1\n",
    "    \n",
    "    ## Finding yl\n",
    "    #travel_time = BPR(xl)\n",
    "    #yl = all_or_nothing(travel_time)\n",
    "    #xl = xl + (yl - xl)/l\n",
    "    \n",
    "    # Finding yl_car\n",
    "    xl_car_old = xl_car\n",
    "    travel_time_car = 1.0 * BPR(xl_car + 2.0 * xl_truck)\n",
    "    yl_car = all_or_nothing_car(travel_time_car)\n",
    "    xl_car = xl_car + (yl_car - xl_car)/l\n",
    "    xl_car_new = xl_car\n",
    "    \n",
    "    # Finding yl_truck\n",
    "    xl_truck_old = xl_truck\n",
    "    travel_time_truck = 1.1 * BPR(xl_car + 2.0 * xl_truck)\n",
    "    yl_truck = all_or_nothing_truck(travel_time_truck)\n",
    "    xl_truck = xl_truck + (yl_truck - xl_truck)/l\n",
    "    xl_truck_new = xl_truck\n",
    "    \n",
    "    \n",
    "    relative_gap_car = norm(xl_car_new - xl_car_old, 1) / norm(xl_car_new, 1)\n",
    "    relative_gap_truck = norm(xl_truck_new - xl_truck_old, 1) / norm(xl_truck_new, 1)\n",
    "    \n",
    "    if l % 10000 == 0\n",
    "        print(\"l = $l------------------------------------------------\\n\")\n",
    "        print(\"relative_gap_car is $relative_gap_car\\n\")\n",
    "        print(\"relative_gap_truck is $relative_gap_truck\\n\")\n",
    "    end\n",
    "\n",
    "    if relative_gap_car < tol && relative_gap_truck < tol\n",
    "        print(\"l = $l------------------------------------------------\\n\")\n",
    "        print(\"relative_gap_car is $relative_gap_car\\n\")\n",
    "        print(\"relative_gap_truck is $relative_gap_truck\\n\")\n",
    "        break\n",
    "    end\n",
    "    \n",
    "end"
   ]
  },
  {
   "cell_type": "code",
   "execution_count": 17,
   "metadata": {
    "collapsed": false
   },
   "outputs": [],
   "source": [
    "outfile = open(\"../data_original/flows_car_converge_1e-5.txt\", \"w\")\n",
    "\n",
    "write(outfile, join((\"From\", \"to\", \"Volume_Capacity\"), \"        \"), \"\\n\")\n",
    "\n",
    "for i = 1:length(ta_data.start_node)\n",
    "     n1, n2, n3 = ta_data.start_node[i], ta_data.end_node[i], xl_car[i]\n",
    "     write(outfile, join((n1, n2, n3), \"        \"), \"\\n\")\n",
    "end\n",
    "\n",
    "close(outfile)"
   ]
  },
  {
   "cell_type": "code",
   "execution_count": 18,
   "metadata": {
    "collapsed": false
   },
   "outputs": [],
   "source": [
    "outfile = open(\"../data_original/flows_truck_converge_1e-5.txt\", \"w\")\n",
    "\n",
    "write(outfile, join((\"From\", \"to\", \"Volume_Capacity\"), \"        \"), \"\\n\")\n",
    "\n",
    "for i = 1:length(ta_data.start_node)\n",
    "     n1, n2, n3 = ta_data.start_node[i], ta_data.end_node[i], xl_truck[i]\n",
    "     write(outfile, join((n1, n2, n3), \"        \"), \"\\n\")\n",
    "end\n",
    "\n",
    "close(outfile)"
   ]
  },
  {
   "cell_type": "code",
   "execution_count": 19,
   "metadata": {
    "collapsed": false
   },
   "outputs": [],
   "source": [
    "tapFlows = Dict{}()\n",
    "tapFlowsCar = Dict{(Int64,Int64),Float64}()\n",
    "tapFlowsTruck = Dict{(Int64,Int64),Float64}()\n",
    "tapFlowVect = zeros(2,length(xl_car))\n",
    "\n",
    "for i = 1:length(ta_data.start_node)\n",
    "    key = (ta_data.start_node[i], ta_data.end_node[i])\n",
    "    tapFlowsCar[key] = xl_car[i]\n",
    "    tapFlowsTruck[key] = xl_truck[i]\n",
    "end\n",
    "tapFlows[1] = tapFlowsCar\n",
    "tapFlows[2] = tapFlowsTruck\n",
    "\n",
    "for j = 1:length(xl_car)\n",
    "    tapFlowVect[1,j] = xl_car[j]\n",
    "    tapFlowVect[2,j] = xl_truck[j]\n",
    "end"
   ]
  },
  {
   "cell_type": "code",
   "execution_count": 20,
   "metadata": {
    "collapsed": false
   },
   "outputs": [
    {
     "data": {
      "text/plain": [
       "2x76 Array{Float64,2}:\n",
       " 4967.28  7874.96  4993.52  4801.6   …  5775.28  8412.64  8266.0   5744.48\n",
       " 1169.66  1893.72  1173.44  1128.44     1709.74  2117.6   1822.12  1695.02"
      ]
     },
     "execution_count": 20,
     "metadata": {},
     "output_type": "execute_result"
    }
   ],
   "source": [
    "tapFlowVect"
   ]
  },
  {
   "cell_type": "code",
   "execution_count": 21,
   "metadata": {
    "collapsed": false
   },
   "outputs": [
    {
     "data": {
      "text/plain": [
       "Dict{Any,Any} with 2 entries:\n",
       "  2 => [(15,19)=>3813.999999999998,(20,21)=>1260.9200000000012,(22,20)=>1396.63…\n",
       "  1 => [(15,19)=>14759.920000000011,(20,21)=>5083.680000000003,(22,20)=>5622.63…"
      ]
     },
     "execution_count": 21,
     "metadata": {},
     "output_type": "execute_result"
    }
   ],
   "source": [
    "tapFlows"
   ]
  },
  {
   "cell_type": "code",
   "execution_count": 22,
   "metadata": {
    "collapsed": false
   },
   "outputs": [
    {
     "data": {
      "text/plain": [
       "76-element Array{Float64,1}:\n",
       "  4967.28\n",
       "  7874.96\n",
       "  4993.52\n",
       "  4801.6 \n",
       "  7848.72\n",
       " 12657.8 \n",
       "  9536.64\n",
       " 12703.4 \n",
       " 15148.6 \n",
       "  4018.8 \n",
       " 15304.6 \n",
       "  5929.36\n",
       " 12982.2 \n",
       "     ⋮   \n",
       "  6779.92\n",
       "  8319.44\n",
       " 13803.3 \n",
       "  5622.64\n",
       "  6767.52\n",
       "  7400.96\n",
       "  6074.16\n",
       "  7425.68\n",
       "  5775.28\n",
       "  8412.64\n",
       "  8266.0 \n",
       "  5744.48"
      ]
     },
     "execution_count": 22,
     "metadata": {},
     "output_type": "execute_result"
    }
   ],
   "source": [
    "xl_car"
   ]
  },
  {
   "cell_type": "code",
   "execution_count": 23,
   "metadata": {
    "collapsed": false
   },
   "outputs": [
    {
     "data": {
      "text/plain": [
       "76-element Array{Float64,1}:\n",
       " 1169.66\n",
       " 1893.72\n",
       " 1173.44\n",
       " 1128.44\n",
       " 1889.94\n",
       " 3592.3 \n",
       " 2687.18\n",
       " 3550.78\n",
       " 3946.18\n",
       " 1294.64\n",
       " 3907.02\n",
       " 1469.06\n",
       " 3417.2 \n",
       "    ⋮   \n",
       " 1458.1 \n",
       " 1827.88\n",
       " 3314.92\n",
       " 1396.64\n",
       " 1460.04\n",
       " 1941.02\n",
       " 1702.92\n",
       " 1907.02\n",
       " 1709.74\n",
       " 2117.6 \n",
       " 1822.12\n",
       " 1695.02"
      ]
     },
     "execution_count": 23,
     "metadata": {},
     "output_type": "execute_result"
    }
   ],
   "source": [
    "xl_truck"
   ]
  }
 ],
 "metadata": {
  "kernelspec": {
   "display_name": "Julia 0.3.7",
   "language": "julia",
   "name": "julia-0.3"
  },
  "language_info": {
   "file_extension": ".jl",
   "mimetype": "application/julia",
   "name": "julia",
   "version": "0.3.7"
  }
 },
 "nbformat": 4,
 "nbformat_minor": 0
}
