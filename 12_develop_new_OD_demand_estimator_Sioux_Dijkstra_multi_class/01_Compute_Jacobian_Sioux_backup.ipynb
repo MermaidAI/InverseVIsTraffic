{
 "cells": [
  {
   "cell_type": "code",
   "execution_count": 1,
   "metadata": {
    "collapsed": true
   },
   "outputs": [],
   "source": [
    "%run Compute_Jacobian_Sioux_multi_class.py"
   ]
  },
  {
   "cell_type": "code",
   "execution_count": 2,
   "metadata": {
    "collapsed": true
   },
   "outputs": [],
   "source": [
    "link_length_list_dict = {}\n",
    "\n",
    "link_length_list_car = [1.0 * item for item in link_length_list]\n",
    "link_length_list_truck = [1.1 * item for item in link_length_list]\n",
    "\n",
    "link_length_list_dict[0] = link_length_list_car\n",
    "link_length_list_dict[1] = link_length_list_truck\n",
    "\n",
    "jacob = jacobianSpiess(numNodes, numLinks, numODpairs, od_pairs, link_list_js, link_length_list_dict)"
   ]
  },
  {
   "cell_type": "code",
   "execution_count": 3,
   "metadata": {
    "collapsed": false
   },
   "outputs": [
    {
     "data": {
      "text/plain": [
       "(552, 76, 2)"
      ]
     },
     "execution_count": 3,
     "metadata": {},
     "output_type": "execute_result"
    }
   ],
   "source": [
    "np.shape(jacob)"
   ]
  },
  {
   "cell_type": "code",
   "execution_count": 4,
   "metadata": {
    "collapsed": false
   },
   "outputs": [
    {
     "data": {
      "text/plain": [
       "array([[ 1.,  0.,  0., ...,  0.,  0.,  0.],\n",
       "       [ 0.,  1.,  0., ...,  0.,  0.,  0.],\n",
       "       [ 0.,  1.,  0., ...,  0.,  0.,  0.],\n",
       "       ..., \n",
       "       [ 0.,  0.,  0., ...,  0.,  1.,  0.],\n",
       "       [ 0.,  0.,  0., ...,  0.,  1.,  0.],\n",
       "       [ 0.,  0.,  0., ...,  0.,  0.,  1.]])"
      ]
     },
     "execution_count": 4,
     "metadata": {},
     "output_type": "execute_result"
    }
   ],
   "source": [
    "jacob[:,:,1]"
   ]
  },
  {
   "cell_type": "code",
   "execution_count": 5,
   "metadata": {
    "collapsed": false
   },
   "outputs": [
    {
     "data": {
      "text/plain": [
       "{0: [6.0,\n",
       "  4.0,\n",
       "  6.0,\n",
       "  5.0,\n",
       "  4.0,\n",
       "  4.0,\n",
       "  4.0,\n",
       "  4.0,\n",
       "  2.0,\n",
       "  6.0,\n",
       "  2.0,\n",
       "  4.0,\n",
       "  5.0,\n",
       "  5.0,\n",
       "  4.0,\n",
       "  2.0,\n",
       "  3.0,\n",
       "  2.0,\n",
       "  2.0,\n",
       "  3.0,\n",
       "  10.0,\n",
       "  5.0,\n",
       "  5.0,\n",
       "  10.0,\n",
       "  3.0,\n",
       "  3.0,\n",
       "  5.0,\n",
       "  6.0,\n",
       "  4.0,\n",
       "  8.0,\n",
       "  6.0,\n",
       "  5.0,\n",
       "  6.0,\n",
       "  4.0,\n",
       "  4.0,\n",
       "  6.0,\n",
       "  3.0,\n",
       "  3.0,\n",
       "  4.0,\n",
       "  4.0,\n",
       "  5.0,\n",
       "  4.0,\n",
       "  6.0,\n",
       "  5.0,\n",
       "  3.0,\n",
       "  3.0,\n",
       "  5.0,\n",
       "  4.0,\n",
       "  2.0,\n",
       "  3.0,\n",
       "  8.0,\n",
       "  2.0,\n",
       "  2.0,\n",
       "  2.0,\n",
       "  3.0,\n",
       "  4.0,\n",
       "  3.0,\n",
       "  2.0,\n",
       "  4.0,\n",
       "  4.0,\n",
       "  4.0,\n",
       "  6.0,\n",
       "  5.0,\n",
       "  6.0,\n",
       "  2.0,\n",
       "  3.0,\n",
       "  3.0,\n",
       "  5.0,\n",
       "  2.0,\n",
       "  4.0,\n",
       "  4.0,\n",
       "  4.0,\n",
       "  2.0,\n",
       "  4.0,\n",
       "  3.0,\n",
       "  2.0],\n",
       " 1: [6.6000000000000005,\n",
       "  4.4,\n",
       "  6.6000000000000005,\n",
       "  5.5,\n",
       "  4.4,\n",
       "  4.4,\n",
       "  4.4,\n",
       "  4.4,\n",
       "  2.2,\n",
       "  6.6000000000000005,\n",
       "  2.2,\n",
       "  4.4,\n",
       "  5.5,\n",
       "  5.5,\n",
       "  4.4,\n",
       "  2.2,\n",
       "  3.3000000000000003,\n",
       "  2.2,\n",
       "  2.2,\n",
       "  3.3000000000000003,\n",
       "  11.0,\n",
       "  5.5,\n",
       "  5.5,\n",
       "  11.0,\n",
       "  3.3000000000000003,\n",
       "  3.3000000000000003,\n",
       "  5.5,\n",
       "  6.6000000000000005,\n",
       "  4.4,\n",
       "  8.8,\n",
       "  6.6000000000000005,\n",
       "  5.5,\n",
       "  6.6000000000000005,\n",
       "  4.4,\n",
       "  4.4,\n",
       "  6.6000000000000005,\n",
       "  3.3000000000000003,\n",
       "  3.3000000000000003,\n",
       "  4.4,\n",
       "  4.4,\n",
       "  5.5,\n",
       "  4.4,\n",
       "  6.6000000000000005,\n",
       "  5.5,\n",
       "  3.3000000000000003,\n",
       "  3.3000000000000003,\n",
       "  5.5,\n",
       "  4.4,\n",
       "  2.2,\n",
       "  3.3000000000000003,\n",
       "  8.8,\n",
       "  2.2,\n",
       "  2.2,\n",
       "  2.2,\n",
       "  3.3000000000000003,\n",
       "  4.4,\n",
       "  3.3000000000000003,\n",
       "  2.2,\n",
       "  4.4,\n",
       "  4.4,\n",
       "  4.4,\n",
       "  6.6000000000000005,\n",
       "  5.5,\n",
       "  6.6000000000000005,\n",
       "  2.2,\n",
       "  3.3000000000000003,\n",
       "  3.3000000000000003,\n",
       "  5.5,\n",
       "  2.2,\n",
       "  4.4,\n",
       "  4.4,\n",
       "  4.4,\n",
       "  2.2,\n",
       "  4.4,\n",
       "  3.3000000000000003,\n",
       "  2.2]}"
      ]
     },
     "execution_count": 5,
     "metadata": {},
     "output_type": "execute_result"
    }
   ],
   "source": [
    "link_length_list_dict"
   ]
  },
  {
   "cell_type": "code",
   "execution_count": null,
   "metadata": {
    "collapsed": true
   },
   "outputs": [],
   "source": []
  }
 ],
 "metadata": {
  "kernelspec": {
   "display_name": "Python 2",
   "language": "python",
   "name": "python2"
  },
  "language_info": {
   "codemirror_mode": {
    "name": "ipython",
    "version": 2
   },
   "file_extension": ".py",
   "mimetype": "text/x-python",
   "name": "python",
   "nbconvert_exporter": "python",
   "pygments_lexer": "ipython2",
   "version": "2.7.12"
  }
 },
 "nbformat": 4,
 "nbformat_minor": 0
}
