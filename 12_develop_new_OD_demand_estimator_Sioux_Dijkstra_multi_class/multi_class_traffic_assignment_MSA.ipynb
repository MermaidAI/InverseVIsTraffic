{
 "cells": [
  {
   "cell_type": "code",
   "execution_count": 1,
   "metadata": {
    "collapsed": false
   },
   "outputs": [],
   "source": [
    "# based on https://github.com/chkwon/TrafficAssignment.jl"
   ]
  },
  {
   "cell_type": "code",
   "execution_count": 2,
   "metadata": {
    "collapsed": false
   },
   "outputs": [],
   "source": [
    "include(\"../Julia_files/load_network_uni-class.jl\");"
   ]
  },
  {
   "cell_type": "code",
   "execution_count": 3,
   "metadata": {
    "collapsed": false
   },
   "outputs": [],
   "source": [
    "ta_data = load_ta_network(\"Sioux Falls\");"
   ]
  },
  {
   "cell_type": "code",
   "execution_count": 4,
   "metadata": {
    "collapsed": false
   },
   "outputs": [],
   "source": [
    "# unpacking data from ta_data\n",
    "network_name = ta_data.network_name;\n",
    "\n",
    "number_of_zones = ta_data.number_of_zones;\n",
    "number_of_nodes = ta_data.number_of_nodes;\n",
    "first_thru_node = ta_data.first_thru_node;\n",
    "number_of_links = ta_data.number_of_links;\n",
    "\n",
    "start_node = ta_data.start_node;\n",
    "end_node = ta_data.end_node;\n",
    "capacity = ta_data.capacity;\n",
    "link_length = ta_data.link_length;\n",
    "\n",
    "free_flow_time = ta_data.free_flow_time;\n",
    "B = ta_data.B;\n",
    "power = ta_data.power;\n",
    "speed_limit = ta_data.speed_limit;\n",
    "toll = ta_data.toll;\n",
    "link_type = ta_data.link_type;\n",
    "number_of_zones = ta_data.number_of_zones;\n",
    "total_od_flow = ta_data.total_od_flow;\n",
    "travel_demand = ta_data.travel_demand;\n",
    "od_pairs = ta_data.od_pairs;\n",
    "\n",
    "toll_factor = ta_data.toll_factor;\n",
    "distance_factor = ta_data.distance_factor;\n",
    "\n",
    "best_objective = ta_data.best_objective;"
   ]
  },
  {
   "cell_type": "code",
   "execution_count": 5,
   "metadata": {
    "collapsed": false
   },
   "outputs": [],
   "source": [
    "# dividing the travel_demand into two classes (car and truck)\n",
    "travel_demand_car = travel_demand * .8\n",
    "travel_demand_truck = travel_demand * .2\n",
    "\n",
    "assert(travel_demand_car + travel_demand_truck == travel_demand)"
   ]
  },
  {
   "cell_type": "code",
   "execution_count": 6,
   "metadata": {
    "collapsed": false
   },
   "outputs": [],
   "source": [
    "travel_demand_car_dict = Dict{}();\n",
    "travel_demand_truck_dict = Dict{}();\n",
    "\n",
    "for r = 1:size(travel_demand_car)[1]\n",
    "    for s = 1:size(travel_demand_car)[2]\n",
    "        travel_demand_car_dict[(r,s)] = travel_demand_car[r,s];\n",
    "        travel_demand_truck_dict[(r,s)] = travel_demand_truck[r,s];\n",
    "    end\n",
    "end"
   ]
  },
  {
   "cell_type": "code",
   "execution_count": 7,
   "metadata": {
    "collapsed": true
   },
   "outputs": [],
   "source": [
    "include(\"../Julia_files/tap_MSA_multi_class.jl\");"
   ]
  },
  {
   "cell_type": "code",
   "execution_count": 8,
   "metadata": {
    "collapsed": false
   },
   "outputs": [],
   "source": [
    "fcoeffs = [1, 0, 0, 0, .15];\n",
    "\n",
    "# get observed flow vector (corresponding to ground truth demands and ground truth costs)\n",
    "tapFlowsCar, tapFlowsTruck, tapFlowVectCar, tapFlowVectTruck = tapMSA_Multi(travel_demand_car_dict, \n",
    "travel_demand_truck_dict, fcoeffs);"
   ]
  },
  {
   "cell_type": "code",
   "execution_count": 9,
   "metadata": {
    "collapsed": false
   },
   "outputs": [
    {
     "data": {
      "text/plain": [
       "76-element Array{Float64,1}:\n",
       "  4967.28\n",
       "  7874.96\n",
       "  4993.52\n",
       "  4801.6 \n",
       "  7848.72\n",
       " 12657.8 \n",
       "  9536.64\n",
       " 12703.4 \n",
       " 15148.6 \n",
       "  4018.8 \n",
       " 15304.6 \n",
       "  5929.36\n",
       " 12982.2 \n",
       "     ⋮   \n",
       "  6779.92\n",
       "  8319.44\n",
       " 13803.3 \n",
       "  5622.64\n",
       "  6767.52\n",
       "  7400.96\n",
       "  6074.16\n",
       "  7425.68\n",
       "  5775.28\n",
       "  8412.64\n",
       "  8266.0 \n",
       "  5744.48"
      ]
     },
     "execution_count": 9,
     "metadata": {},
     "output_type": "execute_result"
    }
   ],
   "source": [
    "tapFlowVectCar"
   ]
  },
  {
   "cell_type": "code",
   "execution_count": null,
   "metadata": {
    "collapsed": true
   },
   "outputs": [],
   "source": []
  }
 ],
 "metadata": {
  "kernelspec": {
   "display_name": "Julia 0.3.7",
   "language": "julia",
   "name": "julia-0.3"
  },
  "language_info": {
   "file_extension": ".jl",
   "mimetype": "application/julia",
   "name": "julia",
   "version": "0.3.7"
  }
 },
 "nbformat": 4,
 "nbformat_minor": 0
}
