{
 "cells": [
  {
   "cell_type": "code",
   "execution_count": 1,
   "metadata": {
    "collapsed": true
   },
   "outputs": [],
   "source": [
    "%run ../Python_files/util_data_storage_and_load.py"
   ]
  },
  {
   "cell_type": "code",
   "execution_count": 2,
   "metadata": {
    "collapsed": true
   },
   "outputs": [],
   "source": [
    "%run ../Python_files/load_dicts.py"
   ]
  },
  {
   "cell_type": "code",
   "execution_count": 3,
   "metadata": {
    "collapsed": true
   },
   "outputs": [],
   "source": [
    "%run ../Python_files/util.py"
   ]
  },
  {
   "cell_type": "code",
   "execution_count": 4,
   "metadata": {
    "collapsed": true
   },
   "outputs": [],
   "source": [
    "import numpy as np\n",
    "from numpy.linalg import inv"
   ]
  },
  {
   "cell_type": "code",
   "execution_count": 5,
   "metadata": {
    "collapsed": true
   },
   "outputs": [],
   "source": [
    "# load the original link counts data\n",
    "\n",
    "import json\n",
    "\n",
    "with open('../temp_files/link_day_minute_Jul_dict_JSON_adjusted.json', 'r') as json_file:\n",
    "    link_day_minute_Jul_dict_JSON_adjusted = json.load(json_file)"
   ]
  },
  {
   "cell_type": "code",
   "execution_count": 6,
   "metadata": {
    "collapsed": false
   },
   "outputs": [],
   "source": [
    "AM_flow_list = []\n",
    "MD_flow_list = []\n",
    "PM_flow_list = []\n",
    "NT_flow_list = []\n",
    "AM_flow_minute_list = []\n",
    "MD_flow_minute_list = []\n",
    "PM_flow_minute_list = []\n",
    "NT_flow_minute_list = []\n",
    "for link_idx in range(24):\n",
    "    for day in range(32)[1:]: \n",
    "        key = 'link_' + str(link_idx) + '_' + str(day)\n",
    "        AM_flow_list.append(link_day_minute_Jul_dict_JSON_adjusted[key] ['AM_flow'])\n",
    "        MD_flow_list.append(link_day_minute_Jul_dict_JSON_adjusted[key] ['MD_flow'])\n",
    "        PM_flow_list.append(link_day_minute_Jul_dict_JSON_adjusted[key] ['PM_flow'])\n",
    "        NT_flow_list.append(link_day_minute_Jul_dict_JSON_adjusted[key] ['NT_flow'])\n",
    "        for minute_idx in range(120):\n",
    "            AM_flow_minute_list.append(link_day_minute_Jul_dict_JSON_adjusted[key] ['AM_flow_minute'][minute_idx])\n",
    "            MD_flow_minute_list.append(link_day_minute_Jul_dict_JSON_adjusted[key] ['MD_flow_minute'][minute_idx])\n",
    "            PM_flow_minute_list.append(link_day_minute_Jul_dict_JSON_adjusted[key] ['PM_flow_minute'][minute_idx])\n",
    "            NT_flow_minute_list.append(link_day_minute_Jul_dict_JSON_adjusted[key] ['NT_flow_minute'][minute_idx])"
   ]
  },
  {
   "cell_type": "code",
   "execution_count": 7,
   "metadata": {
    "collapsed": true
   },
   "outputs": [],
   "source": [
    "x_AM_flow = np.matrix(AM_flow_list)\n",
    "x_AM_flow = np.matrix.reshape(x_AM_flow, 24, 31)\n",
    "x_AM_flow = np.nan_to_num(x_AM_flow)\n",
    "\n",
    "x_MD_flow = np.matrix(MD_flow_list)\n",
    "x_MD_flow = np.matrix.reshape(x_MD_flow, 24, 31)\n",
    "x_MD_flow = np.nan_to_num(x_MD_flow)\n",
    "\n",
    "x_PM_flow = np.matrix(PM_flow_list)\n",
    "x_PM_flow = np.matrix.reshape(x_PM_flow, 24, 31)\n",
    "x_PM_flow = np.nan_to_num(x_PM_flow)\n",
    "\n",
    "x_NT_flow = np.matrix(NT_flow_list)\n",
    "x_NT_flow = np.matrix.reshape(x_NT_flow, 24, 31)\n",
    "x_NT_flow = np.nan_to_num(x_NT_flow)"
   ]
  },
  {
   "cell_type": "code",
   "execution_count": 8,
   "metadata": {
    "collapsed": true
   },
   "outputs": [],
   "source": [
    "x_AM_flow_minute = np.matrix(AM_flow_minute_list)\n",
    "x_AM_flow_minute = np.matrix.reshape(x_AM_flow_minute, 24, 3720)\n",
    "x_AM_flow_minute = np.nan_to_num(x_AM_flow_minute)\n",
    "\n",
    "x_MD_flow_minute = np.matrix(MD_flow_minute_list)\n",
    "x_MD_flow_minute = np.matrix.reshape(x_MD_flow_minute, 24, 3720)\n",
    "x_MD_flow_minute = np.nan_to_num(x_MD_flow_minute)\n",
    "\n",
    "x_PM_flow_minute = np.matrix(PM_flow_minute_list)\n",
    "x_PM_flow_minute = np.matrix.reshape(x_PM_flow_minute, 24, 3720)\n",
    "x_PM_flow_minute = np.nan_to_num(x_PM_flow_minute)\n",
    "\n",
    "x_NT_flow_minute = np.matrix(NT_flow_minute_list)\n",
    "x_NT_flow_minute = np.matrix.reshape(x_NT_flow_minute, 24, 3720)\n",
    "x_NT_flow_minute = np.nan_to_num(x_NT_flow_minute)"
   ]
  },
  {
   "cell_type": "code",
   "execution_count": 9,
   "metadata": {
    "collapsed": false
   },
   "outputs": [],
   "source": [
    "zz1 = x_AM_flow_minute[:,3599] "
   ]
  },
  {
   "cell_type": "code",
   "execution_count": 10,
   "metadata": {
    "collapsed": false
   },
   "outputs": [],
   "source": [
    "zz = x_AM_flow[:,30] "
   ]
  },
  {
   "cell_type": "code",
   "execution_count": 11,
   "metadata": {
    "collapsed": false
   },
   "outputs": [],
   "source": [
    "assert(zz1[1,0] + zz1[3,0] - (zz1[0,0] + zz1[2,0]) < 1e-5)\n",
    "\n",
    "assert(zz1[0,0] + zz1[5,0] + zz1[7,0] - (zz1[1,0] + zz1[4,0] + zz1[6,0]) < 1e-5)\n",
    "\n",
    "assert(zz1[2,0] + zz1[4,0] + zz1[9,0] + zz1[11,0] - (zz1[3,0] + zz1[5,0] + zz1[8,0] + zz1[10,0]) < 1e-5)\n",
    "\n",
    "assert(zz1[6,0] + zz1[13,0] + zz1[17,0] - (zz1[7,0] + zz1[12,0] + zz1[16,0]) < 1e-5)\n",
    "\n",
    "assert(zz1[8,0] + zz1[12,0] + zz1[15,0] + zz1[19,0] - (zz1[9,0] + zz1[13,0] + zz1[14,0] + zz1[18,0]) < 1e-5)\n",
    "\n",
    "assert(zz1[10,0] + zz1[14,0] + zz1[21,0] - (zz1[11,0] + zz1[15,0] + zz1[20,0]) < 1e-5)\n",
    "\n",
    "assert(zz1[18,0] + zz1[20,0] + zz1[23,0] - (zz1[19,0] + zz1[21,0] + zz1[22,0]) < 1e-5)\n",
    "\n",
    "assert(zz1[16,0] + zz1[22,0] - (zz1[17,0] + zz1[23,0]) < 1e-5)"
   ]
  },
  {
   "cell_type": "code",
   "execution_count": 12,
   "metadata": {
    "collapsed": true
   },
   "outputs": [],
   "source": [
    "assert(zz[1,0] + zz[3,0] - (zz[0,0] + zz[2,0]) < 1e-5)\n",
    "\n",
    "assert(zz[0,0] + zz[5,0] + zz[7,0] - (zz[1,0] + zz[4,0] + zz[6,0]) < 1e-5)\n",
    "\n",
    "assert(zz[2,0] + zz[4,0] + zz[9,0] + zz[11,0] - (zz[3,0] + zz[5,0] + zz[8,0] + zz[10,0]) < 1e-5)\n",
    "\n",
    "assert(zz[6,0] + zz[13,0] + zz[17,0] - (zz[7,0] + zz[12,0] + zz[16,0]) < 1e-5)\n",
    "\n",
    "assert(zz[8,0] + zz[12,0] + zz[15,0] + zz[19,0] - (zz[9,0] + zz[13,0] + zz[14,0] + zz[18,0]) < 1e-5)\n",
    "\n",
    "assert(zz[10,0] + zz[14,0] + zz[21,0] - (zz[11,0] + zz[15,0] + zz[20,0]) < 1e-5)\n",
    "\n",
    "assert(zz[18,0] + zz[20,0] + zz[23,0] - (zz[19,0] + zz[21,0] + zz[22,0]) < 1e-5)\n",
    "\n",
    "assert(zz[16,0] + zz[22,0] - (zz[17,0] + zz[23,0]) < 1e-5)"
   ]
  },
  {
   "cell_type": "code",
   "execution_count": null,
   "metadata": {
    "collapsed": true
   },
   "outputs": [],
   "source": []
  }
 ],
 "metadata": {
  "kernelspec": {
   "display_name": "Python 2",
   "language": "python",
   "name": "python2"
  },
  "language_info": {
   "codemirror_mode": {
    "name": "ipython",
    "version": 2
   },
   "file_extension": ".py",
   "mimetype": "text/x-python",
   "name": "python",
   "nbconvert_exporter": "python",
   "pygments_lexer": "ipython2",
   "version": "2.7.11"
  }
 },
 "nbformat": 4,
 "nbformat_minor": 0
}
