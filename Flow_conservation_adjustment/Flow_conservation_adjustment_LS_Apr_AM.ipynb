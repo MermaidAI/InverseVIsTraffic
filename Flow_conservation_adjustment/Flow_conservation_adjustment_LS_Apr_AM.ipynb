{
 "cells": [
  {
   "cell_type": "code",
   "execution_count": 1,
   "metadata": {
    "collapsed": true
   },
   "outputs": [],
   "source": [
    "%run ../Python_files/util_data_storage_and_load.py"
   ]
  },
  {
   "cell_type": "code",
   "execution_count": 2,
   "metadata": {
    "collapsed": true
   },
   "outputs": [],
   "source": [
    "%run ../Python_files/load_dicts.py"
   ]
  },
  {
   "cell_type": "code",
   "execution_count": 3,
   "metadata": {
    "collapsed": false
   },
   "outputs": [],
   "source": [
    "%run ../Python_files/util.py"
   ]
  },
  {
   "cell_type": "code",
   "execution_count": 4,
   "metadata": {
    "collapsed": false
   },
   "outputs": [],
   "source": [
    "import numpy as np\n",
    "from numpy.linalg import inv"
   ]
  },
  {
   "cell_type": "code",
   "execution_count": 5,
   "metadata": {
    "collapsed": false
   },
   "outputs": [],
   "source": [
    "# load the original link counts data\n",
    "\n",
    "import json\n",
    "\n",
    "with open('../temp_files/link_day_minute_Apr_dict_JSON.json', 'r') as json_file:\n",
    "    link_day_minute_Apr_dict_JSON = json.load(json_file)"
   ]
  },
  {
   "cell_type": "code",
   "execution_count": 6,
   "metadata": {
    "collapsed": true
   },
   "outputs": [],
   "source": [
    "week_day_Apr_list = [2, 3, 4, 5, 6, 9, 10, 11, 12, 13, 16, 17, 18, 19, 20, 23, 24, 25, 26, 27, 30]"
   ]
  },
  {
   "cell_type": "code",
   "execution_count": 7,
   "metadata": {
    "collapsed": false
   },
   "outputs": [],
   "source": [
    "link_day_minute_Apr_list = []\n",
    "for link_idx in range(24):\n",
    "    for day in week_day_Apr_list: \n",
    "        for minute_idx in range(120):\n",
    "            key = 'link_' + str(link_idx) + '_' + str(day)\n",
    "            link_day_minute_Apr_list.append(link_day_minute_Apr_dict_JSON[key] ['AM_flow_minute'][minute_idx])"
   ]
  },
  {
   "cell_type": "code",
   "execution_count": 8,
   "metadata": {
    "collapsed": false
   },
   "outputs": [
    {
     "data": {
      "text/plain": [
       "60480"
      ]
     },
     "execution_count": 8,
     "metadata": {},
     "output_type": "execute_result"
    }
   ],
   "source": [
    "len(link_day_minute_Apr_list)"
   ]
  },
  {
   "cell_type": "code",
   "execution_count": 9,
   "metadata": {
    "collapsed": false
   },
   "outputs": [],
   "source": [
    "x = np.matrix(link_day_minute_Apr_list)\n",
    "x = np.matrix.reshape(x, 24, 2520)\n",
    "\n",
    "x = np.nan_to_num(x)\n",
    "y = np.array(np.transpose(x))\n",
    "y = y[np.all(y != 0, axis=1)]\n",
    "x = np.transpose(y)\n",
    "x = np.matrix(x)"
   ]
  },
  {
   "cell_type": "code",
   "execution_count": 10,
   "metadata": {
    "collapsed": false
   },
   "outputs": [
    {
     "data": {
      "text/plain": [
       "(24, 2400)"
      ]
     },
     "execution_count": 10,
     "metadata": {},
     "output_type": "execute_result"
    }
   ],
   "source": [
    "np.size(x, 0), np.size(x, 1)"
   ]
  },
  {
   "cell_type": "code",
   "execution_count": 11,
   "metadata": {
    "collapsed": false
   },
   "outputs": [
    {
     "data": {
      "text/plain": [
       "matrix([[ 340870.69418863],\n",
       "        [ 358486.38585181],\n",
       "        [ 639230.39632583],\n",
       "        [ 664588.27655425],\n",
       "        [ 169784.36832265],\n",
       "        [ 233410.20644246],\n",
       "        [ 419817.0297148 ],\n",
       "        [ 410135.43481856],\n",
       "        [ 393498.46510653],\n",
       "        [ 420136.97259902],\n",
       "        [ 430028.83789741],\n",
       "        [ 266240.5339992 ],\n",
       "        [ 103337.77220933],\n",
       "        [  95613.56467784],\n",
       "        [ 169261.09059214],\n",
       "        [ 129407.53557805],\n",
       "        [ 216161.04998767],\n",
       "        [ 214551.0093072 ],\n",
       "        [ 407087.39149114],\n",
       "        [ 352159.04364636],\n",
       "        [ 498148.97401147],\n",
       "        [ 572200.77348568],\n",
       "        [ 141588.80516519],\n",
       "        [ 136945.32244788]])"
      ]
     },
     "execution_count": 11,
     "metadata": {},
     "output_type": "execute_result"
    }
   ],
   "source": [
    "x[:,1]"
   ]
  },
  {
   "cell_type": "code",
   "execution_count": 12,
   "metadata": {
    "collapsed": false
   },
   "outputs": [],
   "source": [
    "from gurobipy import *\n",
    "\n",
    "def flow_conservation_adjustment(y_0):\n",
    "\n",
    "    L = len(y_0)  # dimension of flow vector x\n",
    "    assert(L == 24)\n",
    "\n",
    "    # y_0 = x[:,1]  # initial flow vector\n",
    "\n",
    "\n",
    "    model = Model(\"Flow_conservation_adjustment\")\n",
    "\n",
    "    y = []\n",
    "    for l in range(L):\n",
    "        y.append(model.addVar(name='y_' + str(l)))\n",
    "\n",
    "    model.update() \n",
    "\n",
    "    # Set objective: ||y-y_0||^2\n",
    "    obj = 0\n",
    "    for l in range(L):\n",
    "        obj += (y[l] - y_0[l]) * (y[l] - y_0[l])\n",
    "    model.setObjective(obj)\n",
    "\n",
    "    # Add nonnegative constraint: y >= 0\n",
    "    for l in range(L):\n",
    "        model.addConstr(y[l] >= 0)\n",
    "    # Add flow conservation constraints\n",
    "    model.addConstr(y[1] + y[3] == y[0] + y[2])\n",
    "    model.addConstr(y[0] + y[5] + y[7] == y[1] + y[4] + y[6])\n",
    "    model.addConstr(y[2] + y[4] + y[9] + y[11] == y[3] + y[5] + y[8] + y[10])\n",
    "    model.addConstr(y[6] + y[13] + y[17] == y[7] + y[12] + y[16])\n",
    "    model.addConstr(y[8] + y[12] + y[15] + y[19] == y[9] + y[13] + y[14] + y[18])\n",
    "    model.addConstr(y[10] + y[14] + y[21] == y[11] + y[15] + y[20])\n",
    "    model.addConstr(y[18] + y[20] + y[23] == y[19] + y[21] + y[22])\n",
    "    model.addConstr(y[16] + y[22] == y[17] + y[23])\n",
    "\n",
    "    model.update() \n",
    "\n",
    "    model.setParam('OutputFlag', False)\n",
    "    model.optimize()\n",
    "\n",
    "    y = []\n",
    "    for v in model.getVars():\n",
    "        # print('%s %g' % (v.varName, v.x))\n",
    "        y.append(v.x)\n",
    "    # print('Obj: %g' % obj.getValue())\n",
    "    return y"
   ]
  },
  {
   "cell_type": "code",
   "execution_count": 13,
   "metadata": {
    "collapsed": false
   },
   "outputs": [],
   "source": [
    "y_0 = x[:,1]  # initial flow vector\n",
    "y = flow_conservation_adjustment(y_0)"
   ]
  },
  {
   "cell_type": "code",
   "execution_count": 14,
   "metadata": {
    "collapsed": false
   },
   "outputs": [
    {
     "data": {
      "text/plain": [
       "(1001587.8764602572, 1001587.8764602572)"
      ]
     },
     "execution_count": 14,
     "metadata": {},
     "output_type": "execute_result"
    }
   ],
   "source": [
    "y[0] + y[2], y[1] + y[3]"
   ]
  },
  {
   "cell_type": "code",
   "execution_count": 18,
   "metadata": {
    "collapsed": false
   },
   "outputs": [],
   "source": [
    "# write estimation result to file\n",
    "n = 8  # number of nodes\n",
    "with open('../temp_files/OD_demand_matrix_Apr_weekday_AM.txt', 'w') as the_file:\n",
    "    idx = 0\n",
    "    for i in range(n + 1)[1:]:\n",
    "        for j in range(n + 1)[1:]:\n",
    "            if i != j: \n",
    "                the_file.write(\"%d,%d,%f\\n\" %(i, j, lam_list[idx]))\n",
    "                idx += 1"
   ]
  },
  {
   "cell_type": "code",
   "execution_count": 39,
   "metadata": {
    "collapsed": false
   },
   "outputs": [
    {
     "data": {
      "text/plain": [
       "[341942.83822016924,\n",
       " 357414.2418202704,\n",
       " 659645.038240088,\n",
       " 644173.6346399868,\n",
       " 189126.8662053739,\n",
       " 214067.70855973492,\n",
       " 419710.95164380973,\n",
       " 410241.51288954995,\n",
       " 380499.3411431444,\n",
       " 433136.0965624032,\n",
       " 369718.34428080556,\n",
       " 326551.02761580655,\n",
       " 109787.22419965219,\n",
       " 89164.11268751879,\n",
       " 121949.72093892723,\n",
       " 176718.905231266,\n",
       " 209779.19326849905,\n",
       " 220932.86602637265,\n",
       " 391000.98776135704,\n",
       " 368245.4473761436,\n",
       " 529373.9399349082,\n",
       " 540975.807562248,\n",
       " 144843.9001854697,\n",
       " 133690.22742759614]"
      ]
     },
     "execution_count": 39,
     "metadata": {},
     "output_type": "execute_result"
    }
   ],
   "source": [
    "y"
   ]
  },
  {
   "cell_type": "code",
   "execution_count": null,
   "metadata": {
    "collapsed": true
   },
   "outputs": [],
   "source": []
  }
 ],
 "metadata": {
  "kernelspec": {
   "display_name": "Python 2",
   "language": "python",
   "name": "python2"
  },
  "language_info": {
   "codemirror_mode": {
    "name": "ipython",
    "version": 2
   },
   "file_extension": ".py",
   "mimetype": "text/x-python",
   "name": "python",
   "nbconvert_exporter": "python",
   "pygments_lexer": "ipython2",
   "version": "2.7.11"
  }
 },
 "nbformat": 4,
 "nbformat_minor": 0
}
