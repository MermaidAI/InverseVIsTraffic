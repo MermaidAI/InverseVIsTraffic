{
 "cells": [
  {
   "cell_type": "code",
   "execution_count": 1,
   "metadata": {
    "collapsed": false
   },
   "outputs": [
    {
     "data": {
      "text/plain": [
       "Arc (constructor with 3 methods)"
      ]
     },
     "execution_count": 1,
     "metadata": {},
     "output_type": "execute_result"
    }
   ],
   "source": [
    "#include(\"defArc.jl\")\n",
    "\n",
    "type Arc\n",
    "    initNode::Int \n",
    "    termNode::Int \n",
    "    capacity::Float64\n",
    "    freeflowtime::Float64\n",
    "    flow::Float64\n",
    "end\n",
    "\n",
    "Arc(initNode::Int, termNode::Int, capacity::Float64, freeflowtime::Float64) = \n",
    "    Arc(initNode, termNode, capacity, freeflowtime, 0.)"
   ]
  },
  {
   "cell_type": "code",
   "execution_count": 2,
   "metadata": {
    "collapsed": false
   },
   "outputs": [
    {
     "data": {
      "text/plain": [
       "bpacost (generic function with 3 methods)"
      ]
     },
     "execution_count": 2,
     "metadata": {},
     "output_type": "execute_result"
    }
   ],
   "source": [
    "#include(\"fitTraffic.jl\")\n",
    "\n",
    "## Solve an inverse tarffic problem over polynomials \n",
    "## of degree at most d\n",
    "## optionally use a regularizer from the poly kernel\n",
    "\n",
    "using JuMP\n",
    "using Gurobi\n",
    "using Graphs\n",
    "using Roots\n",
    "\n",
    "\n",
    "polyEval(coeffs, pt) = sum([coeffs[i] * pt^(i-1) for i = 1:length(coeffs)])  \n",
    "\n",
    "polyEval(coeffs::Array{Float64, 1}, pt) = sum([coeffs[i] * pt^(i-1) for i = 1:length(coeffs)]) \n",
    "\n",
    "bpacost(flow::Float64, capacity::Float64, freeflowtime::Float64) = freeflowtime*(1 + .15 * (flow/capacity)^4)\n",
    "bpacost(flow::Float64, arc) = bpacost(flow, arc.capacity, arc.freeflowtime)\n",
    "bpacost(arc::Arc) = bpacost(arc.flow, arc)"
   ]
  },
  {
   "cell_type": "code",
   "execution_count": 3,
   "metadata": {
    "collapsed": false
   },
   "outputs": [
    {
     "data": {
      "text/plain": [
       "setUpFitting (generic function with 1 method)"
      ]
     },
     "execution_count": 3,
     "metadata": {},
     "output_type": "execute_result"
    }
   ],
   "source": [
    "function setUpFitting(deg::Int, c::Float64)\n",
    "\n",
    "\tm = Model(solver=GurobiSolver(OutputFlag=false))\n",
    "    \n",
    "\t@defVar(m, coeffs[1:deg+1])\n",
    "\t@defVar(m, Calphas[1:deg+1])\n",
    "\n",
    "\t#build the graham matrix; cf. Ref. [21] (Regularization Networks and Support Vector Machines), page 47\n",
    "\tsamples = linspace(0, 1, deg + 1)\n",
    "\tk(x,y) = (c + x*y)^deg\n",
    "\tK = [ k(x,y) for x = samples, y=samples]\n",
    "\tK = convert(Array{Float64, 2}, K)\n",
    "\t#assert(rank(K) == deg+1)\n",
    "    \n",
    "\tC = chol(K + 1e-6* eye(deg+1))\n",
    "\tfor i=1:deg + 1\n",
    "\t\t@addConstraint(m, polyEval(coeffs, samples[i]) == sum{C[j, i] * Calphas[j], j=1:deg+1})\n",
    "\tend\n",
    "    \n",
    "\t@defVar(m, reg_term >= 0)\n",
    "\treg_term_ = QuadExpr(Calphas[:], Calphas[:], ones(deg+1), AffExpr())\n",
    "    \n",
    "\t@addConstraint(m, reg_term >= reg_term_)\n",
    "    \n",
    "\treturn m, coeffs, reg_term\n",
    "\n",
    "end"
   ]
  },
  {
   "cell_type": "code",
   "execution_count": 4,
   "metadata": {
    "collapsed": false
   },
   "outputs": [
    {
     "data": {
      "text/plain": [
       "fixCoeffs (generic function with 1 method)"
      ]
     },
     "execution_count": 4,
     "metadata": {},
     "output_type": "execute_result"
    }
   ],
   "source": [
    "function fixCoeffs(m, fcoeffs, coeffs)\n",
    "\tfor (fc, c) in zip(fcoeffs, coeffs[:])\n",
    "\t\t@addConstraint(m, fc == c)\n",
    "\tend\n",
    "end"
   ]
  },
  {
   "cell_type": "code",
   "execution_count": 5,
   "metadata": {
    "collapsed": false
   },
   "outputs": [
    {
     "data": {
      "text/plain": [
       "addResid (generic function with 1 method)"
      ]
     },
     "execution_count": 5,
     "metadata": {},
     "output_type": "execute_result"
    }
   ],
   "source": [
    "function addResid(m, coeffs, ys, demands, arcs, scaling)\n",
    "\t@defVar(m, resid)\n",
    "\t@defVar(m, dual_cost)\n",
    "\t@defVar(m, primal_cost)\n",
    "\n",
    "\t@addConstraint(m, dual_cost == sum{demands[(s,t)] * (ys[(s,t), t] - ys[(s,t), s]), (s,t)=keys(demands)})  \n",
    "\t@addConstraint(m, primal_cost == sum{a.flow * a.freeflowtime * polyEval(coeffs, a.flow/a.capacity), a=values(arcs)})\n",
    "\n",
    "\t@addConstraint(m, resid >= (dual_cost - primal_cost) / scaling )\n",
    "\t@addConstraint(m, resid >= (primal_cost - dual_cost) / scaling )\n",
    "\treturn resid\n",
    "end"
   ]
  },
  {
   "cell_type": "code",
   "execution_count": 6,
   "metadata": {
    "collapsed": false
   },
   "outputs": [
    {
     "data": {
      "text/plain": [
       "addIncreasingCnsts (generic function with 1 method)"
      ]
     },
     "execution_count": 6,
     "metadata": {},
     "output_type": "execute_result"
    }
   ],
   "source": [
    "function addIncreasingCnsts(m, coeffs, arcs; TOL=0.)\n",
    "\tsorted_flows = sort([a.flow / a.capacity for a in values(arcs)])\n",
    "\t@addConstraint(m, polyEval(coeffs, 0) <= polyEval(coeffs, sorted_flows[1]))\n",
    "\tfor i = 2:length(sorted_flows)\n",
    "\t\t@addConstraint(m, polyEval(coeffs, sorted_flows[i-1]) <= polyEval(coeffs, sorted_flows[i]) + TOL)\n",
    "\tend\n",
    "    @addConstraint(m, coeffs[1] == 1)\n",
    "end"
   ]
  },
  {
   "cell_type": "code",
   "execution_count": 7,
   "metadata": {
    "collapsed": false
   },
   "outputs": [
    {
     "data": {
      "text/plain": [
       "normalize (generic function with 3 methods)"
      ]
     },
     "execution_count": 7,
     "metadata": {},
     "output_type": "execute_result"
    }
   ],
   "source": [
    "#equates the total cost of the network to the true total cost\n",
    "function normalize(m, coeffs, tot_true_cost::Float64, arcs)\n",
    "\t@addConstraint(m, \n",
    "\t\tsum{a.freeflowtime * a.flow * polyEval(coeffs, a.flow / a.capacity), a=values(arcs)} == tot_true_cost)\n",
    "end\n",
    "\n",
    "function normalize(m, coeffs, scaled_flow::Float64, cost::Float64)\n",
    "\t@addConstraint(m, polyEval(coeffs, scaled_flow) == cost)\n",
    "end\n",
    "\n",
    "function normalize(m, coeffs, scaled_flows::Array{Float64, 1}, avgCost::Float64)\n",
    "    @addConstraint(m, sum{polyEval(coeffs, f), f=scaled_flows} == avgCost * length(scaled_flows))\n",
    "end"
   ]
  },
  {
   "cell_type": "code",
   "execution_count": 8,
   "metadata": {
    "collapsed": false
   },
   "outputs": [
    {
     "data": {
      "text/plain": [
       "addNetworkCnsts (generic function with 1 method)"
      ]
     },
     "execution_count": 8,
     "metadata": {},
     "output_type": "execute_result"
    }
   ],
   "source": [
    "function addNetworkCnsts(m, coeffs, demands, arcs, numNodes)\n",
    "\t@defVar(m, ys[keys(demands), 1:numNodes])\n",
    "\tfor k = keys(arcs)\n",
    "\t\ta = arcs[k]\n",
    "\t\trhs = a.freeflowtime * polyEval(coeffs, a.flow/a.capacity)\n",
    "\t\tfor od in keys(demands)\n",
    "\t\t\t@addConstraint(m, ys[od, k[2]] - ys[od, k[1]] <= rhs)\n",
    "\t\tend\n",
    "\tend\n",
    "\treturn ys\n",
    "end"
   ]
  },
  {
   "cell_type": "code",
   "execution_count": 9,
   "metadata": {
    "collapsed": false
   },
   "outputs": [],
   "source": [
    "############\n",
    "#Read in demand data\n",
    "file = open(\"../temp_files/OD_demand_matrix_Jan_weekend.txt\")\n",
    "demands = Dict{(Int64,Int64), Float64}()\n",
    "n = 8  # number of nodes\n",
    "for i in [1:n]\n",
    "    demands[(i,i)] = 0.0\n",
    "end\n",
    "for line in eachline(file)\n",
    "    OD_demand = split(line, \",\")\n",
    "    key, value = (int(OD_demand[1]),int(OD_demand[2])), float(split(OD_demand[3], \"\\n\")[1])\n",
    "    demands[key] = value\n",
    "end\n",
    "close(file)"
   ]
  },
  {
   "cell_type": "code",
   "execution_count": 10,
   "metadata": {
    "collapsed": false
   },
   "outputs": [
    {
     "data": {
      "text/plain": [
       "Dict{(Int64,Int64),Float64} with 64 entries:\n",
       "  (3,6) => 565.976022\n",
       "  (4,4) => 0.0\n",
       "  (3,1) => 785.222706\n",
       "  (4,5) => 320.111618\n",
       "  (2,4) => 226.560994\n",
       "  (6,5) => 350.127225\n",
       "  (8,4) => 462.613513\n",
       "  (1,2) => 399.39528\n",
       "  (5,1) => 387.178207\n",
       "  (3,4) => 386.238986\n",
       "  (8,2) => 270.127855\n",
       "  (2,3) => 269.647018\n",
       "  (2,6) => 464.650154\n",
       "  (5,4) => 307.254191\n",
       "  (2,1) => 440.494418\n",
       "  (2,5) => 415.776875\n",
       "  (8,5) => 321.143766\n",
       "  (1,4) => 256.395688\n",
       "  (2,8) => 264.004084\n",
       "  (5,8) => 279.018712\n",
       "  (4,8) => 346.14785\n",
       "  (7,8) => 245.267349\n",
       "  (1,1) => 0.0\n",
       "  (7,7) => 0.0\n",
       "  (5,7) => 356.729805\n",
       "  ⋮     => ⋮"
      ]
     },
     "execution_count": 10,
     "metadata": {},
     "output_type": "execute_result"
    }
   ],
   "source": [
    "demands"
   ]
  },
  {
   "cell_type": "code",
   "execution_count": 11,
   "metadata": {
    "collapsed": false
   },
   "outputs": [],
   "source": [
    "using JSON\n",
    "\n",
    "link_day_minute_Jan_dict = readall(\"../temp_files/link_day_minute_Jan_dict_JSON_adjusted.json\");\n",
    "link_day_minute_Jan_dict = replace(link_day_minute_Jan_dict, \"NaN\", 0);\n",
    "\n",
    "link_day_minute_Jan_dict = JSON.parse(link_day_minute_Jan_dict);"
   ]
  },
  {
   "cell_type": "code",
   "execution_count": 12,
   "metadata": {
    "collapsed": true
   },
   "outputs": [],
   "source": [
    "# weekend_Jan_list = [1, 7, 8, 14, 15, 21, 22, 28, 29]\n",
    "\n",
    "# training set 1\n",
    "weekend_Jan_list_1 = [1, 7, 8, 14, 15, 21]\n",
    "\n",
    "# training set 2\n",
    "weekend_Jan_list_2 = [14, 15, 21, 22, 28, 29]\n",
    "\n",
    "# training set 3\n",
    "weekend_Jan_list_3 = [1, 7, 8, 22, 28, 29]\n",
    "\n",
    "arcs_1 = Dict{(Int, Int), Arc}[]\n",
    "for j in weekend_Jan_list_1\n",
    "    arcs_1_ = Dict{(Int, Int), Arc}()\n",
    "    for i = 0:23\n",
    "        key = \"link_$(i)_$(j)\"\n",
    "        initNode = link_day_minute_Jan_dict[key][\"init_node\"]\n",
    "        termNode = link_day_minute_Jan_dict[key][\"term_node\"]\n",
    "        capacity = link_day_minute_Jan_dict[key][\"MD_capac\"]\n",
    "        freeflowtime = link_day_minute_Jan_dict[key][\"free_flow_time\"]\n",
    "        flow = link_day_minute_Jan_dict[key][\"MD_flow\"]\n",
    "        arcs_1_[(initNode, termNode)] = Arc(initNode, termNode, capacity, freeflowtime, flow)\n",
    "    end\n",
    "    push!(arcs_1, arcs_1_)\n",
    "end\n",
    "\n",
    "arcs_2 = Dict{(Int, Int), Arc}[]\n",
    "for j in weekend_Jan_list_2\n",
    "    arcs_2_ = Dict{(Int, Int), Arc}()\n",
    "    for i = 0:23\n",
    "        key = \"link_$(i)_$(j)\"\n",
    "        initNode = link_day_minute_Jan_dict[key][\"init_node\"]\n",
    "        termNode = link_day_minute_Jan_dict[key][\"term_node\"]\n",
    "        capacity = link_day_minute_Jan_dict[key][\"MD_capac\"]\n",
    "        freeflowtime = link_day_minute_Jan_dict[key][\"free_flow_time\"]\n",
    "        flow = link_day_minute_Jan_dict[key][\"MD_flow\"]\n",
    "        arcs_2_[(initNode, termNode)] = Arc(initNode, termNode, capacity, freeflowtime, flow)\n",
    "    end\n",
    "    push!(arcs_2, arcs_2_)\n",
    "end\n",
    "\n",
    "arcs_3 = Dict{(Int, Int), Arc}[]\n",
    "for j in weekend_Jan_list_3\n",
    "    arcs_3_ = Dict{(Int, Int), Arc}()\n",
    "    for i = 0:23\n",
    "        key = \"link_$(i)_$(j)\"\n",
    "        initNode = link_day_minute_Jan_dict[key][\"init_node\"]\n",
    "        termNode = link_day_minute_Jan_dict[key][\"term_node\"]\n",
    "        capacity = link_day_minute_Jan_dict[key][\"MD_capac\"]\n",
    "        freeflowtime = link_day_minute_Jan_dict[key][\"free_flow_time\"]\n",
    "        flow = link_day_minute_Jan_dict[key][\"MD_flow\"]\n",
    "        arcs_3_[(initNode, termNode)] = Arc(initNode, termNode, capacity, freeflowtime, flow)\n",
    "    end\n",
    "    push!(arcs_3, arcs_3_)\n",
    "end"
   ]
  },
  {
   "cell_type": "code",
   "execution_count": 13,
   "metadata": {
    "collapsed": false
   },
   "outputs": [],
   "source": [
    "##########\n",
    "# Set up demand data and flow data\n",
    "##########\n",
    "numData = length(arcs_1); \n",
    "sigma = .0\n",
    "\n",
    "flow_data_1 = Array(Float64, length(arcs_1[1]), numData)\n",
    "flow_data_2 = Array(Float64, length(arcs_2[1]), numData)\n",
    "flow_data_3 = Array(Float64, length(arcs_3[1]), numData)\n",
    "\n",
    "demand_data = Dict{(Int, Int), Array{Float64, 1}}()\n",
    "\n",
    "numNodes = maximum(map(pair->pair[1], keys(demands)))\n",
    "g = simple_inclist(numNodes, is_directed=true)\n",
    "vArcs = Arc[]\n",
    "for arc in values(arcs_1[1])\n",
    "    add_edge!(g, arc.initNode, arc.termNode) \n",
    "    push!(vArcs, arc)\n",
    "end\n",
    "\n",
    "\n",
    "for iRun = 1:numData\n",
    "    for odpair in keys(demands)\n",
    "        if ! haskey(demand_data, odpair)\n",
    "            demand_data[odpair] = [demands[odpair], ]\n",
    "        else\n",
    "            push!(demand_data[odpair], demands[odpair])\n",
    "        end\n",
    "    end\n",
    "\n",
    "    #flow_data[:, iRun] = [a.flow::Float64 for a in vArcs]\n",
    "    flow_data_1[:, iRun] = [a.flow::Float64 for a in values(arcs_1[iRun])]\n",
    "    flow_data_2[:, iRun] = [a.flow::Float64 for a in values(arcs_2[iRun])]\n",
    "    flow_data_3[:, iRun] = [a.flow::Float64 for a in values(arcs_3[iRun])]\n",
    "end"
   ]
  },
  {
   "cell_type": "code",
   "execution_count": 14,
   "metadata": {
    "collapsed": false
   },
   "outputs": [
    {
     "data": {
      "text/plain": [
       "Dict{(Int64,Int64),Array{Float64,1}} with 64 entries:\n",
       "  (3,6) => [565.976022,565.976022,565.976022,565.976022,565.976022,565.976022]\n",
       "  (4,4) => [0.0,0.0,0.0,0.0,0.0,0.0]\n",
       "  (3,1) => [785.222706,785.222706,785.222706,785.222706,785.222706,785.222706]\n",
       "  (4,5) => [320.111618,320.111618,320.111618,320.111618,320.111618,320.111618]\n",
       "  (2,4) => [226.560994,226.560994,226.560994,226.560994,226.560994,226.560994]\n",
       "  (6,5) => [350.127225,350.127225,350.127225,350.127225,350.127225,350.127225]\n",
       "  (8,4) => [462.613513,462.613513,462.613513,462.613513,462.613513,462.613513]\n",
       "  (1,2) => [399.39528,399.39528,399.39528,399.39528,399.39528,399.39528]\n",
       "  (5,1) => [387.178207,387.178207,387.178207,387.178207,387.178207,387.178207]\n",
       "  (3,4) => [386.238986,386.238986,386.238986,386.238986,386.238986,386.238986]\n",
       "  (8,2) => [270.127855,270.127855,270.127855,270.127855,270.127855,270.127855]\n",
       "  (2,3) => [269.647018,269.647018,269.647018,269.647018,269.647018,269.647018]\n",
       "  (2,6) => [464.650154,464.650154,464.650154,464.650154,464.650154,464.650154]\n",
       "  (5,4) => [307.254191,307.254191,307.254191,307.254191,307.254191,307.254191]\n",
       "  (2,1) => [440.494418,440.494418,440.494418,440.494418,440.494418,440.494418]\n",
       "  (2,5) => [415.776875,415.776875,415.776875,415.776875,415.776875,415.776875]\n",
       "  (8,5) => [321.143766,321.143766,321.143766,321.143766,321.143766,321.143766]\n",
       "  (1,4) => [256.395688,256.395688,256.395688,256.395688,256.395688,256.395688]\n",
       "  (2,8) => [264.004084,264.004084,264.004084,264.004084,264.004084,264.004084]\n",
       "  (5,8) => [279.018712,279.018712,279.018712,279.018712,279.018712,279.018712]\n",
       "  (4,8) => [346.14785,346.14785,346.14785,346.14785,346.14785,346.14785]\n",
       "  (7,8) => [245.267349,245.267349,245.267349,245.267349,245.267349,245.267349]\n",
       "  (1,1) => [0.0,0.0,0.0,0.0,0.0,0.0]\n",
       "  (7,7) => [0.0,0.0,0.0,0.0,0.0,0.0]\n",
       "  (5,7) => [356.729805,356.729805,356.729805,356.729805,356.729805,356.729805]\n",
       "  ⋮     => ⋮"
      ]
     },
     "execution_count": 14,
     "metadata": {},
     "output_type": "execute_result"
    }
   ],
   "source": [
    "demand_data"
   ]
  },
  {
   "cell_type": "code",
   "execution_count": 15,
   "metadata": {
    "collapsed": false
   },
   "outputs": [
    {
     "data": {
      "text/plain": [
       "24x6 Array{Float64,2}:\n",
       " 3246.27   2743.59   2567.84   2592.67  2381.48  2660.52 \n",
       " 3584.33   1497.79   2432.25   1931.55  2183.24  2378.23 \n",
       " 2156.79   1264.96   1209.58   1700.23  1395.58  1290.22 \n",
       " 2126.41   1103.52   1414.15   1669.03  1837.39  1332.13 \n",
       " 1731.93   1450.08   1724.32   1914.35  1456.72  2135.41 \n",
       " 3217.69   2281.94   2548.93   2954.91  2505.09  2814.66 \n",
       " 1874.41   2311.54   2716.42   2523.06  2513.34  2643.67 \n",
       "  807.853  2050.73   2477.15   2358.74  2379.4   2784.92 \n",
       " 2106.43   1343.46   1939.25   1671.72  1324.15  1425.82 \n",
       " 2275.48   1547.06   2050.71   2199.79  1826.54  1923.93 \n",
       " 2761.88   2238.0    2101.13   2413.72  1942.18  2068.17 \n",
       " 2526.13   1736.1    2296.42   2220.13  1667.58  1606.79 \n",
       " 2617.7    1486.58   2513.7    1835.71  1716.54  2590.27 \n",
       " 1683.29    906.203  1567.62   2216.62  1947.34  1549.46 \n",
       " 2565.17   1913.15   2336.55   2166.9   1361.81  2130.79 \n",
       " 2406.22   1726.43   2500.8    2154.34  1487.09  1629.69 \n",
       " 2027.17   1217.92    761.985  1428.02  1429.86   992.088\n",
       " 1841.49   1414.89   2034.12   2126.61  1789.45  1693.45 \n",
       " 2155.58   1537.4    2255.09   2133.99  1646.06  1946.82 \n",
       " 2798.49   1710.89   1963.6    2078.67  1590.66  1994.16 \n",
       " 3114.9    2271.14   2889.89   2334.82  1489.63  2572.24 \n",
       " 2465.24   1663.54   2015.83   2098.42  1694.57  2059.99 \n",
       " 2986.39   1559.89   2550.26   2628.57  1946.0   2655.59 \n",
       " 2483.78   1719.65   1839.0    2437.95  1919.58  1947.08 "
      ]
     },
     "execution_count": 15,
     "metadata": {},
     "output_type": "execute_result"
    }
   ],
   "source": [
    "flow_data_3"
   ]
  },
  {
   "cell_type": "code",
   "execution_count": 16,
   "metadata": {
    "collapsed": false
   },
   "outputs": [
    {
     "data": {
      "text/plain": [
       "train (generic function with 1 method)"
      ]
     },
     "execution_count": 16,
     "metadata": {},
     "output_type": "execute_result"
    }
   ],
   "source": [
    "##########\n",
    "#Fitting Funcs\n",
    "##########\n",
    "\n",
    "function train(indices, lam::Float64, deg::Int, c::Float64, demand_data, flow_data, arcs; fcoeffs=nothing)\n",
    "    numNodes = maximum(map(pair->pair[1], keys(arcs)))\n",
    "    m, coeffs, reg_term = setUpFitting(deg, c)\n",
    "    \n",
    "    addIncreasingCnsts(m, coeffs, arcs, TOL=1e-8)  #uses the original obs flows\n",
    "\n",
    "    avgCost = mean( [bpacost(a.flow, a.capacity, 1.0) for a in values(arcs)] )\n",
    "    normalize(m, coeffs, [a.flow / a.capacity for a in values(arcs)], avgCost)\n",
    "\n",
    "\n",
    "    resids = Variable[]\n",
    "    \n",
    "    for i = indices\n",
    "        #copy the flow data over to the arcs, demand data to demands (slow)\n",
    "        for (ix, a) in enumerate(vArcs)\n",
    "            a.flow = flow_data[ix, i]\n",
    "        end\n",
    "        for odpair in keys(demands)\n",
    "            demands[odpair] = demand_data[odpair][i]\n",
    "        end\n",
    "    \n",
    "        #Dual Feasibility\n",
    "        ys = addNetworkCnsts(m, coeffs, demands, arcs, numNodes)\n",
    "        \n",
    "        #add the residual for this data point\n",
    "        push!(resids, addResid(m, coeffs, ys, demands, arcs, 1e6))\n",
    "    end\n",
    "\n",
    "    if fcoeffs != nothing\n",
    "        fixCoeffs(m, fcoeffs, coeffs)\n",
    "    end\n",
    "    @setObjective(m, Min, sum{resids[i], i = 1:length(resids)} + lam*reg_term)\n",
    "    solve(m)\n",
    "    #println(getObjectiveValue(m) - lam * getValue(reg_term) )\n",
    "    return [getValue(coeffs[i]) for i =1:length(coeffs)]\n",
    "end"
   ]
  },
  {
   "cell_type": "code",
   "execution_count": 17,
   "metadata": {
    "collapsed": false
   },
   "outputs": [],
   "source": [
    "#include(\"trafficCval.jl\")\n",
    "\n",
    "coeffs_dict_Jan_weekend = Dict{(Int64,Float64,Float64,Int64),Array{Float64,1}}()\n",
    "\n",
    "deg_grid = [4:8]\n",
    "c_grid = .5:.5:3.\n",
    "lamb_grid = [10. .^(-3:4)]\n",
    "\n",
    "for deg in deg_grid\n",
    "    for c in c_grid\n",
    "        for lam in lamb_grid\n",
    "            coeffs_dict_Jan_weekend[(deg, c, lam, 1)] = train(1:numData, lam, deg, c, demand_data, flow_data_1, arcs_1[1])\n",
    "            coeffs_dict_Jan_weekend[(deg, c, lam, 2)] = train(1:numData, lam, deg, c, demand_data, flow_data_2, arcs_2[1])\n",
    "            coeffs_dict_Jan_weekend[(deg, c, lam, 3)] = train(1:numData, lam, deg, c, demand_data, flow_data_3, arcs_3[1])\n",
    "        end\n",
    "    end\n",
    "end"
   ]
  },
  {
   "cell_type": "code",
   "execution_count": 18,
   "metadata": {
    "collapsed": false
   },
   "outputs": [],
   "source": [
    "outfile = open(\"../temp_files/coeffs_dict_Jan_weekend.json\", \"w\")\n",
    "\n",
    "JSON.print(outfile, coeffs_dict_Jan_weekend)\n",
    "\n",
    "close(outfile)"
   ]
  },
  {
   "cell_type": "code",
   "execution_count": 19,
   "metadata": {
    "collapsed": false
   },
   "outputs": [
    {
     "data": {
      "text/plain": [
       "Dict{UTF8String,Any} with 720 entries:\n",
       "  \"(7,2.5,10000.0,3)\" => {1.0,0.008059874160115384,0.0037347762843615104,0.00101…\n",
       "  \"(5,0.5,100.0,3)\"   => {1.0,0.0049491218767252956,0.009777832848988526,0.00379…\n",
       "  \"(6,1.5,10.0,3)\"    => {1.0,0.007525801535787139,0.004795935721049404,0.001692…\n",
       "  \"(6,2.0,0.1,2)\"     => {1.0,0.00802815613220431,-0.017804743592841038,0.010303…\n",
       "  \"(4,0.5,1000.0,1)\"  => {1.0,0.003915567281577479,0.0042531092551904666,0.00127…\n",
       "  \"(6,2.0,0.01,1)\"    => {1.0,-0.0060062391645666555,-0.02739648990076516,0.3838…\n",
       "  \"(8,1.5,0.01,1)\"    => {1.0,0.036469543397882484,-0.35649355050829684,0.732613…\n",
       "  \"(5,1.5,1.0,1)\"     => {1.0,0.00768757868659992,-0.00448078443171657,-0.006704…\n",
       "  \"(8,2.5,0.001,2)\"   => {1.0,0.016073237213276127,-0.08826951432520458,0.209656…\n",
       "  \"(4,2.0,0.1,1)\"     => {1.0,0.0066297819118690034,0.0011694835984494183,-0.013…\n",
       "  \"(5,1.0,1000.0,2)\"  => {1.0,0.003328855346625643,0.001956083499207787,0.000477…\n",
       "  \"(4,2.0,0.1,2)\"     => {1.0,0.0061294657598479985,-0.007455932726649175,-0.000…\n",
       "  \"(5,2.0,0.001,1)\"   => {1.0,0.005077056405092304,-0.13992134286014526,0.749097…\n",
       "  \"(7,1.5,0.01,3)\"    => {1.0,0.0026254129370802113,-0.03489975723627487,0.09179…\n",
       "  \"(4,0.5,0.1,3)\"     => {1.0,0.00614889919000983,0.007680989733672533,0.0031251…\n",
       "  \"(6,2.0,1000.0,3)\"  => {1.0,0.007990800913268977,0.0039022377177885185,0.00104…\n",
       "  \"(6,2.0,0.1,3)\"     => {1.0,0.004941033676528503,0.00802015093304738,0.0088890…\n",
       "  \"(4,1.5,1.0,1)\"     => {1.0,0.008295338727693023,-0.007420526968782658,-0.0042…\n",
       "  \"(8,2.0,10000.0,1)\" => {1.0,0.004603627513438348,0.0023561740517249515,0.00066…\n",
       "  \"(7,0.5,0.001,2)\"   => {1.0,0.004704470394735591,0.010792147644861758,-0.08352…\n",
       "  \"(5,1.0,10000.0,2)\" => {1.0,0.0033269027635500965,0.001961831412673238,0.00048…\n",
       "  \"(8,3.0,0.01,1)\"    => {1.0,-0.004251477169823675,0.23457634124677074,-2.34164…\n",
       "  \"(8,2.0,0.01,3)\"    => {1.0,0.0018369888001251806,-0.012417887423507301,-0.061…\n",
       "  \"(5,3.0,100.0,3)\"   => {1.0,0.008742572710241262,0.0022934766821348027,0.00031…\n",
       "  \"(5,3.0,10000.0,3)\" => {1.0,0.00876043718853683,0.00225249384005312,0.00030345…\n",
       "  ⋮                    => ⋮"
      ]
     },
     "execution_count": 19,
     "metadata": {},
     "output_type": "execute_result"
    }
   ],
   "source": [
    "coeffs_dict_Jan_weekend_ = readall(\"../temp_files/coeffs_dict_Jan_weekend.json\")\n",
    "coeffs_dict_Jan_weekend_ = JSON.parse(coeffs_dict_Jan_weekend_)"
   ]
  },
  {
   "cell_type": "code",
   "execution_count": 20,
   "metadata": {
    "collapsed": false
   },
   "outputs": [
    {
     "data": {
      "text/plain": [
       "9-element Array{Any,1}:\n",
       "  1.0       \n",
       " -0.00264879\n",
       "  0.0543494 \n",
       " -0.208695  \n",
       "  0.586145  \n",
       " -0.929312  \n",
       "  0.898324  \n",
       " -0.471857  \n",
       "  0.104767  "
      ]
     },
     "execution_count": 20,
     "metadata": {},
     "output_type": "execute_result"
    }
   ],
   "source": [
    "coeffs_dict_Jan_weekend_[\"(8,0.5,10000.0,1)\"]"
   ]
  },
  {
   "cell_type": "code",
   "execution_count": 21,
   "metadata": {
    "collapsed": false
   },
   "outputs": [
    {
     "name": "stderr",
     "output_type": "stream",
     "text": [
      "INFO: Loading help data...\n"
     ]
    },
    {
     "data": {
      "image/png": "[encoded data removed]",
      "text/plain": [
       "Figure(PyObject <matplotlib.figure.Figure object at 0x7f19b62b9090>)"
      ]
     },
     "metadata": {},
     "output_type": "display_data"
    }
   ],
   "source": [
    "using PyPlot\n",
    "\n",
    "fcoeffs = coeffs_dict_Jan_weekend_[\"(6,1.5,10000.0,3)\"]\n",
    "\n",
    "\n",
    "xs = linspace(0, 1.1, 30)\n",
    "ys = map(x->polyEval(fcoeffs, x), xs)\n",
    "\n",
    "plot(xs, ys, \"o-m\", label=\"Jan_weekend\")\n",
    "\n",
    "#legend(loc=\"upper left\",fancybox=\"true\") \n",
    "\n",
    "grid(\"on\")\n",
    "xlim(-0.1, 1.05);\n",
    "ylim(0.99, 1.2);\n",
    "\n",
    "font1 = [\"family\"=>\"serif\",\n",
    "    \"color\"=>\"darkred\",\n",
    "    \"weight\"=>\"normal\",\n",
    "    \"size\"=>14]\n",
    "xlabel(\"Scaled Flow\", fontdict=font1)\n",
    "\n",
    "savefig(\"../temp_files/fitting_Jan_weekend.pdf\")"
   ]
  },
  {
   "cell_type": "code",
   "execution_count": null,
   "metadata": {
    "collapsed": true
   },
   "outputs": [],
   "source": []
  }
 ],
 "metadata": {
  "kernelspec": {
   "display_name": "Julia 0.3.7",
   "language": "julia",
   "name": "julia-0.3"
  },
  "language_info": {
   "file_extension": ".jl",
   "mimetype": "application/julia",
   "name": "julia",
   "version": "0.3.7"
  }
 },
 "nbformat": 4,
 "nbformat_minor": 0
}
