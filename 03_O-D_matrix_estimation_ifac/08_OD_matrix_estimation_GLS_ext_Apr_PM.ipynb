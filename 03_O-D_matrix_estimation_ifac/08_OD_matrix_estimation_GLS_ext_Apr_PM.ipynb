{
 "cells": [
  {
   "cell_type": "code",
   "execution_count": 1,
   "metadata": {
    "collapsed": true
   },
   "outputs": [],
   "source": [
    "%run ../Python_files/load_dicts.py\n",
    "%run ../Python_files/util.py"
   ]
  },
  {
   "cell_type": "code",
   "execution_count": 2,
   "metadata": {
    "collapsed": true
   },
   "outputs": [],
   "source": [
    "import numpy as np\n",
    "import json"
   ]
  },
  {
   "cell_type": "code",
   "execution_count": 3,
   "metadata": {
    "collapsed": true
   },
   "outputs": [],
   "source": [
    "n = 22  # number of nodes\n",
    "m = 74  # number of links"
   ]
  },
  {
   "cell_type": "code",
   "execution_count": 4,
   "metadata": {
    "collapsed": true
   },
   "outputs": [],
   "source": [
    "OD_pair_label_dict = zload('../temp_files/OD_pair_label_dict_ext.pkz')"
   ]
  },
  {
   "cell_type": "code",
   "execution_count": 5,
   "metadata": {
    "collapsed": false
   },
   "outputs": [
    {
     "data": {
      "text/plain": [
       "462"
      ]
     },
     "execution_count": 5,
     "metadata": {},
     "output_type": "execute_result"
    }
   ],
   "source": [
    "len(OD_pair_label_dict)"
   ]
  },
  {
   "cell_type": "code",
   "execution_count": 6,
   "metadata": {
    "collapsed": true
   },
   "outputs": [],
   "source": [
    "L = 22 * (22 - 1)  # dimension of lam"
   ]
  },
  {
   "cell_type": "code",
   "execution_count": 7,
   "metadata": {
    "collapsed": false
   },
   "outputs": [],
   "source": [
    "# od pair correspondence\n",
    "OD_pair_label_dict_MA_small = zload('../temp_files/OD_pair_label_dict__MA.pkz')"
   ]
  },
  {
   "cell_type": "code",
   "execution_count": 8,
   "metadata": {
    "collapsed": true
   },
   "outputs": [],
   "source": [
    "# create a dictionary mapping nodes of small network to nodes of bigger network\n",
    "nodeToNode = {}\n",
    "\n",
    "nodeList = range(9)[1:]\n",
    "nodeListExt = [1, 4, 7, 12, 13, 14, 16, 17]\n",
    "for i in nodeList:\n",
    "    nodeToNode[str(i)] = nodeListExt[i-1]\n",
    "# nodeToNode['1'] = 1\n",
    "# nodeToNode['2']"
   ]
  },
  {
   "cell_type": "code",
   "execution_count": 9,
   "metadata": {
    "collapsed": false
   },
   "outputs": [
    {
     "data": {
      "text/plain": [
       "{'1': 1, '2': 4, '3': 7, '4': 12, '5': 13, '6': 14, '7': 16, '8': 17}"
      ]
     },
     "execution_count": 9,
     "metadata": {},
     "output_type": "execute_result"
    }
   ],
   "source": [
    "nodeToNode"
   ]
  },
  {
   "cell_type": "code",
   "execution_count": 10,
   "metadata": {
    "collapsed": false
   },
   "outputs": [],
   "source": [
    "odMap = {}\n",
    "for i in range(len(OD_pair_label_dict_MA_small)):\n",
    "    key = str(i)\n",
    "    origiSmall = OD_pair_label_dict_MA_small[key][0]\n",
    "    destiSmall = OD_pair_label_dict_MA_small[key][1]\n",
    "    origiExt = nodeToNode[str(origiSmall)]\n",
    "    destiExt = nodeToNode[str(destiSmall)]\n",
    "    odMap[key] = (origiExt, destiExt)"
   ]
  },
  {
   "cell_type": "code",
   "execution_count": 11,
   "metadata": {
    "collapsed": false
   },
   "outputs": [
    {
     "data": {
      "text/plain": [
       "{'0': (1, 4),\n",
       " '1': (1, 7),\n",
       " '10': (4, 13),\n",
       " '11': (4, 14),\n",
       " '12': (4, 16),\n",
       " '13': (4, 17),\n",
       " '14': (7, 1),\n",
       " '15': (7, 4),\n",
       " '16': (7, 12),\n",
       " '17': (7, 13),\n",
       " '18': (7, 14),\n",
       " '19': (7, 16),\n",
       " '2': (1, 12),\n",
       " '20': (7, 17),\n",
       " '21': (12, 1),\n",
       " '22': (12, 4),\n",
       " '23': (12, 7),\n",
       " '24': (12, 13),\n",
       " '25': (12, 14),\n",
       " '26': (12, 16),\n",
       " '27': (12, 17),\n",
       " '28': (13, 1),\n",
       " '29': (13, 4),\n",
       " '3': (1, 13),\n",
       " '30': (13, 7),\n",
       " '31': (13, 12),\n",
       " '32': (13, 14),\n",
       " '33': (13, 16),\n",
       " '34': (13, 17),\n",
       " '35': (14, 1),\n",
       " '36': (14, 4),\n",
       " '37': (14, 7),\n",
       " '38': (14, 12),\n",
       " '39': (14, 13),\n",
       " '4': (1, 14),\n",
       " '40': (14, 16),\n",
       " '41': (14, 17),\n",
       " '42': (16, 1),\n",
       " '43': (16, 4),\n",
       " '44': (16, 7),\n",
       " '45': (16, 12),\n",
       " '46': (16, 13),\n",
       " '47': (16, 14),\n",
       " '48': (16, 17),\n",
       " '49': (17, 1),\n",
       " '5': (1, 16),\n",
       " '50': (17, 4),\n",
       " '51': (17, 7),\n",
       " '52': (17, 12),\n",
       " '53': (17, 13),\n",
       " '54': (17, 14),\n",
       " '55': (17, 16),\n",
       " '6': (1, 17),\n",
       " '7': (4, 1),\n",
       " '8': (4, 7),\n",
       " '9': (4, 12)}"
      ]
     },
     "execution_count": 11,
     "metadata": {},
     "output_type": "execute_result"
    }
   ],
   "source": [
    "odMap"
   ]
  },
  {
   "cell_type": "code",
   "execution_count": 12,
   "metadata": {
    "collapsed": false
   },
   "outputs": [],
   "source": [
    "odIdxExt = []  # OD pair idx in the extended network corresponding to the OD pairs in smaller network\n",
    "\n",
    "for i in range(len(odMap)):\n",
    "    odIdxExt.append(OD_pair_label_dict[str(odMap[str(i)])])"
   ]
  },
  {
   "cell_type": "code",
   "execution_count": 13,
   "metadata": {
    "collapsed": false
   },
   "outputs": [],
   "source": [
    "with open('../temp_files/OD_demand_matrix_Apr_weekday_PM.json', 'r') as json_file:\n",
    "    demandsSmall = json.load(json_file)"
   ]
  },
  {
   "cell_type": "code",
   "execution_count": 14,
   "metadata": {
    "collapsed": false
   },
   "outputs": [
    {
     "data": {
      "text/plain": [
       "{u'0': 364.03056284789056,\n",
       " u'1': 325.3642096212339,\n",
       " u'10': 581.0734714778392,\n",
       " u'11': 663.6806927880613,\n",
       " u'12': 610.2116196610461,\n",
       " u'13': 213.5697406562517,\n",
       " u'14': 302.4472430075604,\n",
       " u'15': 331.9497050726548,\n",
       " u'16': 636.4351563973854,\n",
       " u'17': 1224.5943597139167,\n",
       " u'18': 1315.2752217832524,\n",
       " u'19': 831.6214878399566,\n",
       " u'2': 387.08758064331516,\n",
       " u'20': 334.2680127802108,\n",
       " u'21': 190.45385281027575,\n",
       " u'22': 163.84864172760183,\n",
       " u'23': 276.31651012952824,\n",
       " u'24': 278.5689578767146,\n",
       " u'25': 362.27448482762884,\n",
       " u'26': 272.22593332871327,\n",
       " u'27': 127.83345227622056,\n",
       " u'28': 374.3328825340305,\n",
       " u'29': 399.12287842464355,\n",
       " u'3': 543.743777867746,\n",
       " u'30': 573.7290596935386,\n",
       " u'31': 472.9542650082525,\n",
       " u'32': 777.603653654871,\n",
       " u'33': 600.5097550761641,\n",
       " u'34': 260.0031978858407,\n",
       " u'35': 324.1288951508799,\n",
       " u'36': 461.9549387098018,\n",
       " u'37': 608.2598027446562,\n",
       " u'38': 648.3845429948551,\n",
       " u'39': 754.4785224390603,\n",
       " u'4': 531.0925877650894,\n",
       " u'40': 735.1433821549718,\n",
       " u'41': 254.81836254849324,\n",
       " u'42': 431.09000606736015,\n",
       " u'43': 512.0019416804997,\n",
       " u'44': 714.3371416334473,\n",
       " u'45': 517.8843611034204,\n",
       " u'46': 849.5030502047998,\n",
       " u'47': 1621.3805371975166,\n",
       " u'48': 188.78915342563408,\n",
       " u'49': 239.61233208824714,\n",
       " u'5': 533.4565104378755,\n",
       " u'50': 234.68217268620106,\n",
       " u'51': 514.8326112167802,\n",
       " u'52': 383.70980317513164,\n",
       " u'53': 402.0147191656218,\n",
       " u'54': 566.538449797139,\n",
       " u'55': 282.7762024379924,\n",
       " u'6': 187.0461838303281,\n",
       " u'7': 511.45758759908114,\n",
       " u'8': 326.3000957360785,\n",
       " u'9': 459.38774642717317}"
      ]
     },
     "execution_count": 14,
     "metadata": {},
     "output_type": "execute_result"
    }
   ],
   "source": [
    "demandsSmall"
   ]
  },
  {
   "cell_type": "code",
   "execution_count": 17,
   "metadata": {
    "collapsed": false
   },
   "outputs": [
    {
     "data": {
      "text/plain": [
       "27590.19200783048"
      ]
     },
     "execution_count": 17,
     "metadata": {},
     "output_type": "execute_result"
    }
   ],
   "source": [
    "sum([demandsSmall[key] for key in demandsSmall.keys()])"
   ]
  },
  {
   "cell_type": "code",
   "execution_count": 19,
   "metadata": {
    "collapsed": false
   },
   "outputs": [],
   "source": [
    "lam = []\n",
    "\n",
    "for l in range(L):\n",
    "    lam.append(0)\n",
    "\n",
    "for j in range(len(odMap)):\n",
    "    lam[odIdxExt[j]] = demandsSmall[str(j)] \n",
    "\n",
    "# write estimation result to file\n",
    "n = 22  # number of nodes\n",
    "with open('../temp_files/OD_demand_matrix_Apr_weekday_PM_ext.txt', 'w') as the_file:\n",
    "    idx = 0\n",
    "    for i in range(n + 1)[1:]:\n",
    "        for j in range(n + 1)[1:]:\n",
    "            if i != j: \n",
    "                the_file.write(\"%d,%d,%f\\n\" %(i, j, lam[idx]))\n",
    "                idx += 1"
   ]
  },
  {
   "cell_type": "code",
   "execution_count": null,
   "metadata": {
    "collapsed": true
   },
   "outputs": [],
   "source": []
  }
 ],
 "metadata": {
  "kernelspec": {
   "display_name": "Python [Root]",
   "language": "python",
   "name": "Python [Root]"
  },
  "language_info": {
   "codemirror_mode": {
    "name": "ipython",
    "version": 2
   },
   "file_extension": ".py",
   "mimetype": "text/x-python",
   "name": "python",
   "nbconvert_exporter": "python",
   "pygments_lexer": "ipython2",
   "version": "2.7.11"
  }
 },
 "nbformat": 4,
 "nbformat_minor": 0
}
