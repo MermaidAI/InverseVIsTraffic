{
 "cells": [
  {
   "cell_type": "code",
   "execution_count": 1,
   "metadata": {
    "collapsed": false,
    "scrolled": true
   },
   "outputs": [
    {
     "name": "stdout",
     "output_type": "stream",
     "text": [
      "No dicts found; please check load_dicts...\n",
      "Optimize a model with 462 rows, 462 columns and 462 nonzeros\n",
      "Model has 106953 quadratic objective terms\n",
      "Coefficient statistics:\n",
      "  Matrix range    [1e+00, 1e+00]\n",
      "  Objective range [1e-02, 1e+02]\n",
      "  Bounds range    [0e+00, 0e+00]\n",
      "  RHS range       [0e+00, 0e+00]\n",
      "Warning: diagonal adjustment of 3.8e-07 performed to make Q PSD\n",
      "Presolve removed 462 rows and 0 columns\n",
      "Presolve time: 0.04s\n",
      "Presolved: 0 rows, 462 columns, 0 nonzeros\n",
      "Presolved model has 106953 quadratic objective terms\n",
      "Ordering time: 0.00s\n",
      "\n",
      "Barrier statistics:\n",
      " Free vars  : 68\n",
      " AA' NZ     : 2.278e+03\n",
      " Factor NZ  : 2.346e+03\n",
      " Factor Ops : 1.071e+05 (less than 1 second per iteration)\n",
      " Threads    : 12\n",
      "\n",
      "                  Objective                Residual\n",
      "Iter       Primal          Dual         Primal    Dual     Compl     Time\n",
      "   0  -1.10180942e+07  0.00000000e+00  5.00e+04 2.17e+02  9.63e+05     0s\n",
      "   1   9.32122222e+06 -1.33199596e+07  1.06e+04 1.96e+02  2.61e+05     0s\n",
      "   2   9.12986377e+06 -1.08699906e+07  9.85e+02 1.91e+01  5.82e+04     0s\n",
      "   3   1.56450800e+06 -2.31395805e+06  9.85e-04 8.53e-14  8.39e+03     0s\n",
      "   4   7.03193649e+04 -4.73571172e+05  9.08e-06 5.68e-14  1.18e+03     0s\n",
      "   5  -8.34693068e+04 -2.42438849e+05  1.31e-06 2.84e-14  3.44e+02     0s\n",
      "   6  -1.21311578e+05 -1.82671960e+05  4.05e-11 7.11e-14  1.33e+02     0s\n",
      "   7  -1.36223380e+05 -1.52228644e+05  2.08e-11 1.14e-13  3.46e+01     0s\n",
      "   8  -1.40001975e+05 -1.47674787e+05  7.43e-12 8.53e-14  1.66e+01     0s\n",
      "   9  -1.42015343e+05 -1.43668672e+05  5.88e-12 1.42e-13  3.58e+00     0s\n",
      "  10  -1.42591837e+05 -1.43074776e+05  9.08e-12 8.53e-14  1.05e+00     0s\n",
      "  11  -1.42798730e+05 -1.42933212e+05  5.61e-11 8.53e-14  2.91e-01     0s\n",
      "  12  -1.42862151e+05 -1.42889889e+05  2.14e-11 5.68e-14  6.00e-02     0s\n",
      "  13  -1.42878500e+05 -1.42880058e+05  2.12e-10 4.51e-14  3.37e-03     0s\n",
      "  14  -1.42879346e+05 -1.42879603e+05  3.30e-09 8.53e-14  5.57e-04     0s\n",
      "  15  -1.42879471e+05 -1.42879560e+05  1.39e-09 1.14e-13  1.94e-04     0s\n",
      "  16  -1.42879517e+05 -1.42879540e+05  1.43e-09 1.42e-13  4.92e-05     0s\n",
      "  17  -1.42879529e+05 -1.42879537e+05  4.99e-10 9.95e-14  1.60e-05     0s\n",
      "  18  -1.42879531e+05 -1.42879536e+05  3.52e-10 1.14e-13  9.21e-06     0s\n",
      "  19  -1.42879535e+05 -1.42879535e+05  3.40e-10 1.28e-13  3.90e-07     0s\n",
      "  20  -1.42879535e+05 -1.42879535e+05  1.24e-10 5.68e-14  1.15e-07     0s\n",
      "  21  -1.42879535e+05 -1.42879535e+05  1.10e-10 8.53e-14  1.19e-08     0s\n",
      "  22  -1.42879535e+05 -1.42879535e+05  8.47e-10 4.01e-11  1.68e-09     0s\n",
      "\n",
      "Barrier solved model in 22 iterations and 0.13 seconds\n",
      "Optimal objective -1.42879535e+05\n",
      "\n"
     ]
    }
   ],
   "source": [
    "using PyCall\n",
    "unshift!(PyVector(pyimport(\"sys\")[\"path\"]), \"\");\n",
    "@pyimport GLS_Jul_weekday_PM_ext"
   ]
  },
  {
   "cell_type": "code",
   "execution_count": 2,
   "metadata": {
    "collapsed": false
   },
   "outputs": [
    {
     "data": {
      "text/plain": [
       "462-element Array{Any,1}:\n",
       "    2.84284e-9 \n",
       " 1035.57       \n",
       "    0.00132425 \n",
       "    1.0907     \n",
       "    2.84284e-9 \n",
       "    0.000551469\n",
       "    0.000551452\n",
       "    2.98081    \n",
       "    4.11769e-9 \n",
       "    0.00132513 \n",
       "    0.864581   \n",
       "    9.18219e-9 \n",
       "    9.18219e-9 \n",
       "    ⋮          \n",
       "    2.64655e-10\n",
       "    1.03512e-10\n",
       "   61.7663     \n",
       "  509.957      \n",
       "    5.4021e-10 \n",
       "    1.03512e-10\n",
       "    1.03512e-10\n",
       "   82.1014     \n",
       "    1.17515e-10\n",
       "    6.92191e-10\n",
       "    5.89572e-10\n",
       "    8.68631e-10"
      ]
     },
     "execution_count": 2,
     "metadata": {},
     "output_type": "execute_result"
    }
   ],
   "source": [
    "xi_list = GLS_Jul_weekday_PM_ext.xi_list"
   ]
  },
  {
   "cell_type": "code",
   "execution_count": 3,
   "metadata": {
    "collapsed": false
   },
   "outputs": [
    {
     "data": {
      "text/plain": [
       "74x462 Array{Float64,2}:\n",
       " 0.0  1.0  0.0  0.0  0.0  0.0  0.0  0.0  …  0.0  0.0  0.0  0.0  0.0  0.0  1.0\n",
       " 0.0  0.0  0.0  0.0  0.0  0.0  0.0  0.0     0.0  0.0  0.0  0.0  0.0  0.0  0.0\n",
       " 0.0  0.0  0.0  0.0  0.0  0.0  0.0  0.0     0.0  0.0  0.0  0.0  0.0  0.0  0.0\n",
       " 1.0  0.0  0.0  0.0  1.0  0.0  0.0  0.0     0.0  0.0  1.0  0.0  0.0  0.0  0.0\n",
       " 0.0  0.0  0.0  0.0  0.0  0.0  0.0  0.0     0.0  0.0  0.0  0.0  0.0  0.0  0.0\n",
       " 0.0  0.0  0.0  0.0  0.0  0.0  0.0  0.0  …  1.0  1.0  0.0  1.0  1.0  0.0  0.0\n",
       " 0.0  0.0  0.0  0.0  0.0  0.0  0.0  0.0     1.0  1.0  0.0  0.0  1.0  1.0  1.0\n",
       " 0.0  0.0  0.0  0.0  0.0  0.0  0.0  0.0     0.0  0.0  0.0  0.0  0.0  1.0  0.0\n",
       " 0.0  0.0  0.0  0.0  0.0  0.0  0.0  0.0     0.0  0.0  0.0  0.0  0.0  0.0  0.0\n",
       " 0.0  0.0  0.0  0.0  0.0  0.0  0.0  0.0     0.0  0.0  0.0  0.0  0.0  0.0  0.0\n",
       " 0.0  0.0  0.0  0.0  0.0  0.0  0.0  0.0  …  0.0  0.0  0.0  0.0  0.0  0.0  0.0\n",
       " 0.0  0.0  0.0  0.0  0.0  0.0  0.0  0.0     0.0  0.0  0.0  0.0  0.0  0.0  0.0\n",
       " 0.0  0.0  0.0  0.0  0.0  0.0  0.0  0.0     0.0  0.0  0.0  0.0  0.0  0.0  0.0\n",
       " ⋮                        ⋮              ⋱  ⋮                        ⋮       \n",
       " 0.0  0.0  0.0  0.0  0.0  0.0  0.0  0.0     0.0  0.0  0.0  0.0  0.0  0.0  0.0\n",
       " 1.0  0.0  0.0  0.0  1.0  0.0  0.0  0.0     0.0  0.0  0.0  0.0  0.0  0.0  0.0\n",
       " 0.0  0.0  0.0  0.0  0.0  0.0  0.0  0.0     0.0  0.0  0.0  0.0  0.0  0.0  0.0\n",
       " 0.0  0.0  1.0  0.0  0.0  1.0  1.0  0.0  …  0.0  0.0  0.0  0.0  0.0  0.0  0.0\n",
       " 0.0  0.0  0.0  0.0  0.0  0.0  0.0  0.0     0.0  0.0  0.0  0.0  0.0  1.0  0.0\n",
       " 0.0  0.0  0.0  0.0  0.0  0.0  0.0  0.0     0.0  0.0  0.0  0.0  0.0  0.0  0.0\n",
       " 0.0  0.0  0.0  0.0  0.0  0.0  0.0  0.0     0.0  0.0  0.0  0.0  0.0  0.0  0.0\n",
       " 0.0  0.0  0.0  0.0  0.0  0.0  0.0  0.0     0.0  0.0  0.0  0.0  0.0  0.0  0.0\n",
       " 0.0  0.0  0.0  0.0  0.0  0.0  0.0  0.0  …  0.0  0.0  0.0  0.0  0.0  0.0  0.0\n",
       " 0.0  0.0  0.0  1.0  0.0  0.0  0.0  1.0     0.0  0.0  0.0  0.0  0.0  0.0  0.0\n",
       " 0.0  0.0  0.0  0.0  0.0  0.0  0.0  0.0     0.0  0.0  0.0  0.0  0.0  0.0  0.0\n",
       " 1.0  0.0  1.0  0.0  1.0  1.0  1.0  0.0     0.0  0.0  0.0  0.0  0.0  0.0  0.0"
      ]
     },
     "execution_count": 3,
     "metadata": {},
     "output_type": "execute_result"
    }
   ],
   "source": [
    "A = GLS_Jul_weekday_PM_ext.A"
   ]
  },
  {
   "cell_type": "code",
   "execution_count": 4,
   "metadata": {
    "collapsed": false
   },
   "outputs": [
    {
     "data": {
      "text/plain": [
       "462x462 Array{Float64,2}:\n",
       " 0.0  1.0  0.0  0.0  0.0  0.0  0.0  0.0  …  0.0  0.0  0.0  0.0  0.0  0.0  0.0\n",
       " 0.0  0.0  0.0  0.0  0.0  0.0  0.0  0.0     0.0  0.0  0.0  0.0  0.0  0.0  0.0\n",
       " 0.0  0.0  0.0  0.0  0.0  0.0  0.0  0.0     0.0  0.0  0.0  0.0  0.0  0.0  0.0\n",
       " 0.0  0.0  0.0  0.0  0.0  0.0  0.0  0.0     0.0  0.0  0.0  0.0  0.0  0.0  0.0\n",
       " 0.0  0.0  0.0  0.0  0.0  0.0  0.0  0.0     0.0  0.0  0.0  0.0  0.0  0.0  0.0\n",
       " 0.0  0.0  0.0  0.0  0.0  0.0  0.0  0.0  …  0.0  0.0  0.0  0.0  0.0  0.0  1.0\n",
       " 0.0  0.0  0.0  0.0  0.0  0.0  0.0  0.0     0.0  0.0  0.0  0.0  0.0  0.0  0.0\n",
       " 0.0  0.0  0.0  0.0  0.0  0.0  0.0  0.0     0.0  0.0  0.0  0.0  0.0  0.0  0.0\n",
       " 0.0  0.0  0.0  0.0  0.0  0.0  0.0  0.0     0.0  0.0  0.0  0.0  0.0  0.0  0.0\n",
       " 0.0  0.0  0.0  0.0  0.0  0.0  0.0  0.0     0.0  0.0  0.0  0.0  0.0  0.0  0.0\n",
       " 0.0  0.0  0.0  0.0  0.0  0.0  0.0  0.0  …  0.0  0.0  0.0  0.0  0.0  0.0  0.0\n",
       " 0.0  0.0  0.0  0.0  0.0  0.0  0.0  0.0     0.0  0.0  0.0  0.0  0.0  0.0  0.0\n",
       " 0.0  0.0  0.0  0.0  0.0  0.0  0.0  0.0     0.0  0.0  0.0  0.0  0.0  0.0  0.0\n",
       " ⋮                        ⋮              ⋱  ⋮                        ⋮       \n",
       " 0.0  0.0  0.0  0.0  0.0  0.0  0.0  0.0  …  0.0  0.0  0.0  0.0  0.0  0.0  0.0\n",
       " 0.0  0.0  0.0  0.0  0.0  0.0  0.0  0.0     0.0  0.0  0.0  0.0  0.0  0.0  0.0\n",
       " 0.0  0.0  0.0  0.0  0.0  0.0  0.0  0.0     0.0  0.0  0.0  0.0  0.0  0.0  0.0\n",
       " 0.0  0.0  0.0  0.0  0.0  0.0  0.0  0.0     0.0  0.0  0.0  0.0  0.0  0.0  0.0\n",
       " 0.0  0.0  0.0  0.0  0.0  0.0  0.0  0.0     0.0  0.0  0.0  0.0  0.0  0.0  0.0\n",
       " 0.0  0.0  0.0  0.0  0.0  0.0  0.0  0.0  …  0.0  0.0  0.0  0.0  0.0  0.0  0.0\n",
       " 0.0  0.0  0.0  0.0  0.0  0.0  0.0  0.0     0.0  0.0  0.0  0.0  0.0  0.0  0.0\n",
       " 0.0  0.0  0.0  0.0  0.0  0.0  0.0  0.0     0.0  0.0  0.0  0.0  0.0  0.0  0.0\n",
       " 0.0  0.0  0.0  0.0  0.0  0.0  0.0  0.0     0.0  0.0  0.0  0.0  0.0  0.0  0.0\n",
       " 0.0  0.0  0.0  0.0  0.0  0.0  0.0  0.0     0.0  0.0  0.0  0.0  0.0  0.0  0.0\n",
       " 0.0  0.0  0.0  0.0  0.0  0.0  0.0  0.0  …  0.0  0.0  0.0  0.0  0.0  0.0  0.0\n",
       " 0.0  0.0  0.0  0.0  0.0  0.0  0.0  0.0     0.0  0.0  0.0  0.0  0.0  0.0  0.0"
      ]
     },
     "execution_count": 4,
     "metadata": {},
     "output_type": "execute_result"
    }
   ],
   "source": [
    "P = GLS_Jul_weekday_PM_ext.P"
   ]
  },
  {
   "cell_type": "code",
   "execution_count": 5,
   "metadata": {
    "collapsed": false
   },
   "outputs": [
    {
     "data": {
      "text/plain": [
       "462"
      ]
     },
     "execution_count": 5,
     "metadata": {},
     "output_type": "execute_result"
    }
   ],
   "source": [
    "L = GLS_Jul_weekday_PM_ext.L"
   ]
  },
  {
   "cell_type": "code",
   "execution_count": 6,
   "metadata": {
    "collapsed": false
   },
   "outputs": [
    {
     "data": {
      "text/plain": [
       "(462,462)"
      ]
     },
     "execution_count": 6,
     "metadata": {},
     "output_type": "execute_result"
    }
   ],
   "source": [
    "size(P, 1), size(P, 2)"
   ]
  },
  {
   "cell_type": "code",
   "execution_count": 7,
   "metadata": {
    "collapsed": false
   },
   "outputs": [
    {
     "data": {
      "text/plain": [
       "462"
      ]
     },
     "execution_count": 7,
     "metadata": {},
     "output_type": "execute_result"
    }
   ],
   "source": [
    "length(xi_list)"
   ]
  },
  {
   "cell_type": "code",
   "execution_count": 8,
   "metadata": {
    "collapsed": false
   },
   "outputs": [
    {
     "name": "stdout",
     "output_type": "stream",
     "text": [
      "\n",
      "******************************************************************************\n",
      "This program contains Ipopt, a library for large-scale nonlinear optimization.\n",
      " Ipopt is released as open source code under the Eclipse Public License (EPL).\n",
      "         For more information visit http://projects.coin-or.org/Ipopt\n",
      "******************************************************************************\n",
      "\n",
      "This is Ipopt version 3.12.1, running with linear solver mumps.\n",
      "NOTE: Other linear solvers might be more efficient (see Ipopt documentation).\n",
      "\n",
      "Number of nonzeros in equality constraint Jacobian...:   213444\n",
      "Number of nonzeros in inequality constraint Jacobian.:        0\n",
      "Number of nonzeros in Lagrangian Hessian.............:        0\n",
      "\n",
      "Total number of variables............................:      462\n",
      "                     variables with only lower bounds:      462\n",
      "                variables with lower and upper bounds:        0\n",
      "                     variables with only upper bounds:        0\n",
      "Total number of equality constraints.................:      462\n",
      "Total number of inequality constraints...............:        0\n",
      "        inequality constraints with only lower bounds:        0\n",
      "   inequality constraints with lower and upper bounds:        0\n",
      "        inequality constraints with only upper bounds:        0\n",
      "\n",
      "iter    objective    inf_pr   inf_du lg(mu)  ||d||  lg(rg) alpha_du alpha_pr  ls\n",
      "   0  1.0000000e+00 1.48e+03 1.00e+00  -1.0 0.00e+00    -  0.00e+00 0.00e+00   0\n",
      "   1  1.0000000e+00 1.48e+01 1.46e+05  -1.0 1.48e+03    -  6.70e-06 9.90e-01h  1\n",
      "   2  1.0000000e+00 1.46e-01 1.45e+03  -1.0 1.48e+01    -  9.80e-01 9.90e-01h  1\n",
      "   3  1.0000000e+00 1.06e-22 1.00e-06  -1.0 1.46e-01    -  1.00e+00 1.00e+00h  1\n",
      "\n",
      "Number of Iterations....: 3\n",
      "\n",
      "                                   (scaled)                 (unscaled)\n",
      "Objective...............:   1.0000000000000000e+00    1.0000000000000000e+00\n",
      "Dual infeasibility......:   0.0000000000000000e+00    0.0000000000000000e+00\n",
      "Constraint violation....:   1.0587911840678754e-22    1.0587911840678754e-22\n",
      "Complementarity.........:   0.0000000000000000e+00    0.0000000000000000e+00\n",
      "Overall NLP error.......:   1.0587911840678754e-22    1.0587911840678754e-22\n",
      "\n",
      "\n",
      "Number of objective function evaluations             = 4\n",
      "Number of objective gradient evaluations             = 4\n",
      "Number of equality constraint evaluations            = 4\n",
      "Number of inequality constraint evaluations          = 0\n",
      "Number of equality constraint Jacobian evaluations   = 4\n",
      "Number of inequality constraint Jacobian evaluations = 0\n",
      "Number of Lagrangian Hessian evaluations             = 3\n",
      "Total CPU secs in IPOPT (w/o function evaluations)   =      0.664\n",
      "Total CPU secs in NLP function evaluations           =      0.052\n",
      "\n",
      "EXIT: Optimal Solution Found.\n"
     ]
    },
    {
     "data": {
      "text/plain": [
       ":Optimal"
      ]
     },
     "execution_count": 8,
     "metadata": {},
     "output_type": "execute_result"
    }
   ],
   "source": [
    "using JuMP\n",
    "\n",
    "mGLSJulia = Model()\n",
    "\n",
    "@defVar(mGLSJulia, lam[1:size(P,1)] >= 0)\n",
    "\n",
    "for l = 1:L\n",
    "    @addNLConstraint(mGLSJulia, sum{P[i,l] * lam[i], i = 1:size(P,1)} == xi_list[l])\n",
    "end\n",
    "    \n",
    "@setNLObjective(mGLSJulia, Min, sum{P[1,j], j = 1:size(P,2)})  # play no actual role, but could not use zero objective\n",
    "\n",
    "solve(mGLSJulia)"
   ]
  },
  {
   "cell_type": "code",
   "execution_count": 9,
   "metadata": {
    "collapsed": false
   },
   "outputs": [
    {
     "data": {
      "text/plain": [
       "462-element Array{Float64,1}:\n",
       " 1035.57       \n",
       " 1143.16       \n",
       "    8.68664e-10\n",
       "    8.68664e-10\n",
       "  352.921      \n",
       "    8.68631e-10\n",
       "    8.68664e-10\n",
       "    8.68664e-10\n",
       "    8.53807e-10\n",
       "    5.89578e-10\n",
       "    8.68664e-10\n",
       "    6.92195e-10\n",
       "    5.89578e-10\n",
       "    ⋮          \n",
       "    4.73313e-10\n",
       "    4.7332e-10 \n",
       "    1.37669e-10\n",
       "    4.73313e-10\n",
       "    4.73316e-10\n",
       "    4.7332e-10 \n",
       "    0.0001734  \n",
       "  811.926      \n",
       "    4.7331e-10 \n",
       "    4.73314e-10\n",
       "    1.19027e-10\n",
       "    4.46631e-10"
      ]
     },
     "execution_count": 9,
     "metadata": {},
     "output_type": "execute_result"
    }
   ],
   "source": [
    "getValue(lam)"
   ]
  },
  {
   "cell_type": "code",
   "execution_count": 10,
   "metadata": {
    "collapsed": false
   },
   "outputs": [
    {
     "data": {
      "text/plain": [
       "Dict{Any,Any} with 462 entries:\n",
       "  \"306\" => (15,13)\n",
       "  \"153\" => (8,7)\n",
       "  \"1\"   => (1,3)\n",
       "  \"54\"  => (3,14)\n",
       "  \"101\" => (5,19)\n",
       "  \"371\" => (18,15)\n",
       "  \"41\"  => (2,22)\n",
       "  \"65\"  => (4,3)\n",
       "  \"447\" => (22,7)\n",
       "  \"335\" => (16,22)\n",
       "  \"362\" => (18,6)\n",
       "  \"326\" => (16,12)\n",
       "  \"299\" => (15,6)\n",
       "  \"168\" => (9,1)\n",
       "  \"403\" => (20,5)\n",
       "  \"159\" => (8,14)\n",
       "  \"228\" => (11,20)\n",
       "  \"332\" => (16,19)\n",
       "  \"190\" => (10,2)\n",
       "  \"270\" => (13,20)\n",
       "  \"227\" => (11,19)\n",
       "  \"223\" => (11,15)\n",
       "  \"453\" => (22,13)\n",
       "  \"88\"  => (5,6)\n",
       "  \"297\" => (15,4)\n",
       "  ⋮      => ⋮"
      ]
     },
     "execution_count": 10,
     "metadata": {},
     "output_type": "execute_result"
    }
   ],
   "source": [
    "OD_pair_label_dict_ = GLS_Jul_weekday_PM_ext.OD_pair_label_dict_"
   ]
  },
  {
   "cell_type": "code",
   "execution_count": 11,
   "metadata": {
    "collapsed": false
   },
   "outputs": [],
   "source": [
    "GLS_Jul_weekday_PM_ext.saveDemandVec(getValue(lam))"
   ]
  },
  {
   "cell_type": "code",
   "execution_count": 12,
   "metadata": {
    "collapsed": false
   },
   "outputs": [],
   "source": [
    "# using JuMP\n",
    "\n",
    "# mGLSJulia = Model()\n",
    "\n",
    "# @defVar(mGLSJulia, lam[1:size(P,1)] >= 0)\n",
    "\n",
    "# @defVar(mGLSJulia, p[1:size(P,1), 1:size(P,2)] >= 0)\n",
    "\n",
    "# for i = 1:size(P,1)\n",
    "#     for j = 1:size(P,2)\n",
    "#         if P[i,j] == 0\n",
    "#             @addConstraint(mGLSJulia, p[i,j] == 0)\n",
    "#         end\n",
    "#     end\n",
    "# end\n",
    "            \n",
    "# for i = 1:size(P,1)\n",
    "#     @addNLConstraint(mGLSJulia, sum{p[i,j], j = 1:size(P,2)} == 1)\n",
    "# end\n",
    "\n",
    "# for l = 1:L\n",
    "#     @addNLConstraint(mGLSJulia, sum{p[i,l] * lam[i], i = 1:size(P,1)} == xi_list[l])\n",
    "# end\n",
    "    \n",
    "# @setNLObjective(mGLSJulia, Min, sum{p[1,j], j = 1:size(P,2)})  # play no actual role, but could not use zero objective\n",
    "\n",
    "# solve(mGLSJulia)"
   ]
  },
  {
   "cell_type": "code",
   "execution_count": null,
   "metadata": {
    "collapsed": true
   },
   "outputs": [],
   "source": []
  }
 ],
 "metadata": {
  "kernelspec": {
   "display_name": "Julia 0.3.7",
   "language": "julia",
   "name": "julia-0.3"
  },
  "language_info": {
   "file_extension": ".jl",
   "mimetype": "application/julia",
   "name": "julia",
   "version": "0.3.7"
  }
 },
 "nbformat": 4,
 "nbformat_minor": 0
}
