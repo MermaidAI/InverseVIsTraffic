{
 "cells": [
  {
   "cell_type": "code",
   "execution_count": 1,
   "metadata": {
    "collapsed": true
   },
   "outputs": [],
   "source": [
    "%run ../Python_files/util_data_storage_and_load.py"
   ]
  },
  {
   "cell_type": "code",
   "execution_count": 2,
   "metadata": {
    "collapsed": true
   },
   "outputs": [],
   "source": [
    "%run ../Python_files/load_dicts.py"
   ]
  },
  {
   "cell_type": "code",
   "execution_count": 3,
   "metadata": {
    "collapsed": false
   },
   "outputs": [],
   "source": [
    "%run ../Python_files/util.py"
   ]
  },
  {
   "cell_type": "code",
   "execution_count": 4,
   "metadata": {
    "collapsed": false
   },
   "outputs": [],
   "source": [
    "import numpy as np\n",
    "from numpy.linalg import inv"
   ]
  },
  {
   "cell_type": "code",
   "execution_count": 5,
   "metadata": {
    "collapsed": false
   },
   "outputs": [],
   "source": [
    "# load link flow data\n",
    "\n",
    "import json\n",
    "\n",
    "with open('../temp_files/link_day_minute_Oct_dict_JSON_adjusted.json', 'r') as json_file:\n",
    "    link_day_minute_Oct_dict_JSON = json.load(json_file)"
   ]
  },
  {
   "cell_type": "code",
   "execution_count": 6,
   "metadata": {
    "collapsed": true
   },
   "outputs": [],
   "source": [
    "# weekend_Oct_list = [6, 7, 13, 14, 20, 21, 27, 28]\n",
    "\n",
    "# testing set 1\n",
    "weekend_Oct_list_1 = [27, 28]\n",
    "\n",
    "# testing set 2\n",
    "weekend_Oct_list_2 = [6, 7]\n",
    "\n",
    "# testing set 3\n",
    "weekend_Oct_list_3 = [14, 20]"
   ]
  },
  {
   "cell_type": "code",
   "execution_count": 7,
   "metadata": {
    "collapsed": false
   },
   "outputs": [],
   "source": [
    "link_flow_testing_set_Oct_weekend_1 = []\n",
    "for link_idx in range(24):\n",
    "    for day in weekend_Oct_list_1: \n",
    "            key = 'link_' + str(link_idx) + '_' + str(day)\n",
    "            link_flow_testing_set_Oct_weekend_1.append(link_day_minute_Oct_dict_JSON[key] [\"MD_flow\"])\n",
    "            \n",
    "link_flow_testing_set_Oct_weekend_2 = []\n",
    "for link_idx in range(24):\n",
    "    for day in weekend_Oct_list_2: \n",
    "            key = 'link_' + str(link_idx) + '_' + str(day)\n",
    "            link_flow_testing_set_Oct_weekend_2.append(link_day_minute_Oct_dict_JSON[key] [\"MD_flow\"])\n",
    "            \n",
    "link_flow_testing_set_Oct_weekend_3 = []\n",
    "for link_idx in range(24):\n",
    "    for day in weekend_Oct_list_3: \n",
    "            key = 'link_' + str(link_idx) + '_' + str(day)\n",
    "            link_flow_testing_set_Oct_weekend_3.append(link_day_minute_Oct_dict_JSON[key] [\"MD_flow\"])"
   ]
  },
  {
   "cell_type": "code",
   "execution_count": 8,
   "metadata": {
    "collapsed": false
   },
   "outputs": [],
   "source": [
    "testing_set_1 = np.matrix(link_flow_testing_set_Oct_weekend_1)\n",
    "testing_set_1 = np.matrix.reshape(testing_set_1, 24, 2)\n",
    "testing_set_1 = np.nan_to_num(testing_set_1)\n",
    "y = np.array(np.transpose(testing_set_1))\n",
    "y = y[np.all(y != 0, axis=1)]\n",
    "testing_set_1 = np.transpose(y)\n",
    "testing_set_1 = np.matrix(testing_set_1)\n",
    "\n",
    "testing_set_2 = np.matrix(link_flow_testing_set_Oct_weekend_2)\n",
    "testing_set_2 = np.matrix.reshape(testing_set_2, 24, 2)\n",
    "testing_set_2 = np.nan_to_num(testing_set_2)\n",
    "y = np.array(np.transpose(testing_set_2))\n",
    "y = y[np.all(y != 0, axis=1)]\n",
    "testing_set_2 = np.transpose(y)\n",
    "testing_set_2 = np.matrix(testing_set_2)\n",
    "\n",
    "testing_set_3 = np.matrix(link_flow_testing_set_Oct_weekend_3)\n",
    "testing_set_3 = np.matrix.reshape(testing_set_3, 24, 2)\n",
    "testing_set_3 = np.nan_to_num(testing_set_3)\n",
    "y = np.array(np.transpose(testing_set_3))\n",
    "y = y[np.all(y != 0, axis=1)]\n",
    "testing_set_3 = np.transpose(y)\n",
    "testing_set_3 = np.matrix(testing_set_3)"
   ]
  },
  {
   "cell_type": "code",
   "execution_count": 9,
   "metadata": {
    "collapsed": false
   },
   "outputs": [
    {
     "data": {
      "text/plain": [
       "(24, 2)"
      ]
     },
     "execution_count": 9,
     "metadata": {},
     "output_type": "execute_result"
    }
   ],
   "source": [
    "np.size(testing_set_2, 0), np.size(testing_set_3, 1)"
   ]
  },
  {
   "cell_type": "code",
   "execution_count": 10,
   "metadata": {
    "collapsed": false
   },
   "outputs": [
    {
     "data": {
      "text/plain": [
       "matrix([[ 3692.60214949],\n",
       "        [ 3953.36219603],\n",
       "        [ 5700.62311593],\n",
       "        [ 5439.86306938],\n",
       "        [ 4687.17859109],\n",
       "        [ 5285.09038088],\n",
       "        [ 3151.67631513],\n",
       "        [ 2814.5245719 ],\n",
       "        [ 3964.92033733],\n",
       "        [ 4211.05641596],\n",
       "        [ 5033.42360043],\n",
       "        [ 5124.43926504],\n",
       "        [ 2927.2514407 ],\n",
       "        [ 2768.15170444],\n",
       "        [ 1624.77585814],\n",
       "        [ 2865.88120498],\n",
       "        [ 2943.32672377],\n",
       "        [ 2765.2747168 ],\n",
       "        [ 5149.86917881],\n",
       "        [ 3995.80017434],\n",
       "        [ 1764.03960296],\n",
       "        [ 3096.16061441],\n",
       "        [ 2335.08339648],\n",
       "        [ 2513.13540346]])"
      ]
     },
     "execution_count": 10,
     "metadata": {},
     "output_type": "execute_result"
    }
   ],
   "source": [
    "testing_set_3[:,:1]"
   ]
  },
  {
   "cell_type": "code",
   "execution_count": 11,
   "metadata": {
    "collapsed": false
   },
   "outputs": [],
   "source": [
    "# write testing sets to file\n",
    "\n",
    "zdump([testing_set_1, testing_set_2, testing_set_3], '../temp_files/testing_sets_Oct_weekend.pkz')"
   ]
  },
  {
   "cell_type": "code",
   "execution_count": null,
   "metadata": {
    "collapsed": true
   },
   "outputs": [],
   "source": []
  },
  {
   "cell_type": "code",
   "execution_count": null,
   "metadata": {
    "collapsed": true
   },
   "outputs": [],
   "source": []
  }
 ],
 "metadata": {
  "kernelspec": {
   "display_name": "Python 2",
   "language": "python",
   "name": "python2"
  },
  "language_info": {
   "codemirror_mode": {
    "name": "ipython",
    "version": 2
   },
   "file_extension": ".py",
   "mimetype": "text/x-python",
   "name": "python",
   "nbconvert_exporter": "python",
   "pygments_lexer": "ipython2",
   "version": "2.7.11"
  }
 },
 "nbformat": 4,
 "nbformat_minor": 0
}
