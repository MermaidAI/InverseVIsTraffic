{
 "cells": [
  {
   "cell_type": "code",
   "execution_count": 1,
   "metadata": {
    "collapsed": true
   },
   "outputs": [],
   "source": [
    "%run ../Python_files/util_data_storage_and_load.py"
   ]
  },
  {
   "cell_type": "code",
   "execution_count": 2,
   "metadata": {
    "collapsed": true
   },
   "outputs": [],
   "source": [
    "%run ../Python_files/load_dicts.py"
   ]
  },
  {
   "cell_type": "code",
   "execution_count": 3,
   "metadata": {
    "collapsed": false
   },
   "outputs": [],
   "source": [
    "%run ../Python_files/util.py"
   ]
  },
  {
   "cell_type": "code",
   "execution_count": 4,
   "metadata": {
    "collapsed": false
   },
   "outputs": [],
   "source": [
    "import numpy as np\n",
    "from numpy.linalg import inv"
   ]
  },
  {
   "cell_type": "code",
   "execution_count": 5,
   "metadata": {
    "collapsed": false
   },
   "outputs": [],
   "source": [
    "# load link flow data\n",
    "\n",
    "import json\n",
    "\n",
    "with open('../temp_files/link_day_minute_Jan_dict_JSON_adjusted.json', 'r') as json_file:\n",
    "    link_day_minute_Jan_dict_JSON = json.load(json_file)"
   ]
  },
  {
   "cell_type": "code",
   "execution_count": 6,
   "metadata": {
    "collapsed": true
   },
   "outputs": [],
   "source": [
    "# week_day_Jan_list = [2, 3, 4, 5, 6, 9, 10, 11, 12, 13, 16, 17, 18, 19, 20, 23, 24, 25, 26, 27, 30, 31]\n",
    "\n",
    "# testing set 1\n",
    "week_day_Jan_list_1 = [20, 23, 24, 25, 26, 27, 30, 31]\n",
    "\n",
    "# testing set 2\n",
    "week_day_Jan_list_2 = [11, 12, 13, 16, 17, 18, 19]\n",
    "\n",
    "# testing set 3\n",
    "week_day_Jan_list_3 = [2, 3, 4, 5, 6, 9, 10]"
   ]
  },
  {
   "cell_type": "code",
   "execution_count": 7,
   "metadata": {
    "collapsed": false
   },
   "outputs": [],
   "source": [
    "link_flow_testing_set_Jan_MD_1 = []\n",
    "for link_idx in range(24):\n",
    "    for day in week_day_Jan_list_1: \n",
    "            key = 'link_' + str(link_idx) + '_' + str(day)\n",
    "            link_flow_testing_set_Jan_MD_1.append(link_day_minute_Jan_dict_JSON[key] ['MD_flow'])\n",
    "            \n",
    "link_flow_testing_set_Jan_MD_2 = []\n",
    "for link_idx in range(24):\n",
    "    for day in week_day_Jan_list_2: \n",
    "            key = 'link_' + str(link_idx) + '_' + str(day)\n",
    "            link_flow_testing_set_Jan_MD_2.append(link_day_minute_Jan_dict_JSON[key] ['MD_flow'])\n",
    "            \n",
    "link_flow_testing_set_Jan_MD_3 = []\n",
    "for link_idx in range(24):\n",
    "    for day in week_day_Jan_list_3: \n",
    "            key = 'link_' + str(link_idx) + '_' + str(day)\n",
    "            link_flow_testing_set_Jan_MD_3.append(link_day_minute_Jan_dict_JSON[key] ['MD_flow'])"
   ]
  },
  {
   "cell_type": "code",
   "execution_count": 8,
   "metadata": {
    "collapsed": false
   },
   "outputs": [
    {
     "data": {
      "text/plain": [
       "192"
      ]
     },
     "execution_count": 8,
     "metadata": {},
     "output_type": "execute_result"
    }
   ],
   "source": [
    "len(link_flow_testing_set_Jan_MD_1)"
   ]
  },
  {
   "cell_type": "code",
   "execution_count": 9,
   "metadata": {
    "collapsed": false
   },
   "outputs": [],
   "source": [
    "testing_set_1 = np.matrix(link_flow_testing_set_Jan_MD_1)\n",
    "testing_set_1 = np.matrix.reshape(testing_set_1, 24, 8)\n",
    "testing_set_1 = np.nan_to_num(testing_set_1)\n",
    "y = np.array(np.transpose(testing_set_1))\n",
    "y = y[np.all(y != 0, axis=1)]\n",
    "testing_set_1 = np.transpose(y)\n",
    "testing_set_1 = np.matrix(testing_set_1)\n",
    "\n",
    "testing_set_2 = np.matrix(link_flow_testing_set_Jan_MD_2)\n",
    "testing_set_2 = np.matrix.reshape(testing_set_2, 24, 7)\n",
    "testing_set_2 = np.nan_to_num(testing_set_2)\n",
    "y = np.array(np.transpose(testing_set_2))\n",
    "y = y[np.all(y != 0, axis=1)]\n",
    "testing_set_2 = np.transpose(y)\n",
    "testing_set_2 = np.matrix(testing_set_2)\n",
    "\n",
    "testing_set_3 = np.matrix(link_flow_testing_set_Jan_MD_3)\n",
    "testing_set_3 = np.matrix.reshape(testing_set_3, 24, 7)\n",
    "testing_set_3 = np.nan_to_num(testing_set_3)\n",
    "y = np.array(np.transpose(testing_set_3))\n",
    "y = y[np.all(y != 0, axis=1)]\n",
    "testing_set_3 = np.transpose(y)\n",
    "testing_set_3 = np.matrix(testing_set_3)"
   ]
  },
  {
   "cell_type": "code",
   "execution_count": 10,
   "metadata": {
    "collapsed": false
   },
   "outputs": [
    {
     "data": {
      "text/plain": [
       "(8, 24)"
      ]
     },
     "execution_count": 10,
     "metadata": {},
     "output_type": "execute_result"
    }
   ],
   "source": [
    "np.size(testing_set_1, 1), np.size(testing_set_3, 0)"
   ]
  },
  {
   "cell_type": "code",
   "execution_count": 11,
   "metadata": {
    "collapsed": false
   },
   "outputs": [
    {
     "data": {
      "text/plain": [
       "matrix([[  3414.50348109],\n",
       "        [  1776.3751196 ],\n",
       "        [  4140.59843772],\n",
       "        [  5778.72679921],\n",
       "        [  1502.3561777 ],\n",
       "        [  2479.6882545 ],\n",
       "        [  3838.60871372],\n",
       "        [  1223.14827543],\n",
       "        [  5026.80632807],\n",
       "        [  2263.18050622],\n",
       "        [  5170.54015828],\n",
       "        [ 10549.62641842],\n",
       "        [  8305.87536437],\n",
       "        [  3631.56712868],\n",
       "        [  8123.69100727],\n",
       "        [  1475.04437073],\n",
       "        [  1919.38919465],\n",
       "        [  3978.23699207],\n",
       "        [  4190.98182372],\n",
       "        [  3401.69440272],\n",
       "        [  2716.73319695],\n",
       "        [  1447.17282054],\n",
       "        [  4722.37968193],\n",
       "        [  2663.53188452]])"
      ]
     },
     "execution_count": 11,
     "metadata": {},
     "output_type": "execute_result"
    }
   ],
   "source": [
    "testing_set_3[:,:1]"
   ]
  },
  {
   "cell_type": "code",
   "execution_count": 12,
   "metadata": {
    "collapsed": false
   },
   "outputs": [],
   "source": [
    "# write testing sets to file\n",
    "\n",
    "zdump([testing_set_1, testing_set_2, testing_set_3], '../temp_files/testing_sets_Jan_MD.pkz')"
   ]
  },
  {
   "cell_type": "code",
   "execution_count": null,
   "metadata": {
    "collapsed": true
   },
   "outputs": [],
   "source": []
  },
  {
   "cell_type": "code",
   "execution_count": null,
   "metadata": {
    "collapsed": true
   },
   "outputs": [],
   "source": []
  }
 ],
 "metadata": {
  "kernelspec": {
   "display_name": "Python 2",
   "language": "python",
   "name": "python2"
  },
  "language_info": {
   "codemirror_mode": {
    "name": "ipython",
    "version": 2
   },
   "file_extension": ".py",
   "mimetype": "text/x-python",
   "name": "python",
   "nbconvert_exporter": "python",
   "pygments_lexer": "ipython2",
   "version": "2.7.11"
  }
 },
 "nbformat": 4,
 "nbformat_minor": 0
}
