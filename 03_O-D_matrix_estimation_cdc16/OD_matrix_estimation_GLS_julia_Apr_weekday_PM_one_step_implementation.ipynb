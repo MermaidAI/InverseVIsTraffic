{
 "cells": [
  {
   "cell_type": "code",
   "execution_count": 1,
   "metadata": {
    "collapsed": false
   },
   "outputs": [
    {
     "name": "stdout",
     "output_type": "stream",
     "text": [
      "No dicts found; please check load_dicts...\n",
      "Optimize a model with 314 rows, 314 columns and 314 nonzeros\n",
      "Model has 49455 quadratic objective terms\n",
      "Coefficient statistics:\n",
      "  Matrix range    [1e+00, 1e+00]\n",
      "  Objective range [3e-03, 3e+01]\n",
      "  Bounds range    [0e+00, 0e+00]\n",
      "  RHS range       [0e+00, 0e+00]\n",
      "Presolve removed 314 rows and 0 columns\n",
      "Presolve time: 0.01s\n",
      "Presolved: 0 rows, 314 columns, 0 nonzeros\n",
      "Presolved model has 49455 quadratic objective terms\n",
      "Ordering time: 0.00s\n",
      "\n",
      "Barrier statistics:\n",
      " Free vars  : 24\n",
      " AA' NZ     : 2.760e+02\n",
      " Factor NZ  : 3.000e+02\n",
      " Factor Ops : 4.900e+03 (less than 1 second per iteration)\n",
      " Threads    : 1\n",
      "\n",
      "                  Objective                Residual\n",
      "Iter       Primal          Dual         Primal    Dual     Compl     Time\n",
      "   0  -1.55087626e+07  0.00000000e+00  2.87e+04 2.51e+02  9.27e+05     0s\n",
      "   1   1.23843986e+07 -1.62055166e+07  3.48e+03 2.27e-13  2.08e+05     0s\n",
      "   2   4.11170803e+06 -5.26791800e+06  3.48e-03 1.14e-13  2.99e+04     0s\n",
      "   3   4.23844623e+05 -9.39098058e+05  3.48e-09 1.14e-13  4.34e+03     0s\n",
      "   4  -4.35170416e+04 -2.32899123e+05  2.05e-12 2.27e-13  6.03e+02     0s\n",
      "   5  -8.91732844e+04 -1.08273511e+05  4.55e-13 1.14e-13  6.08e+01     0s\n",
      "   6  -9.09887332e+04 -9.37698445e+04  2.29e-12 1.17e-13  8.86e+00     0s\n",
      "   7  -9.10414095e+04 -9.10535254e+04  5.97e-13 8.53e-14  3.86e-02     0s\n",
      "   8  -9.10414111e+04 -9.10414233e+04  1.96e-12 1.28e-13  3.86e-05     0s\n",
      "   9  -9.10414111e+04 -9.10414112e+04  1.05e-12 5.68e-14  3.86e-08     0s\n",
      "  10  -9.10414111e+04 -9.10414111e+04  1.21e-12 8.53e-14  5.70e-11     0s\n",
      "\n",
      "Barrier solved model in 10 iterations and 0.02 seconds\n",
      "Optimal objective -9.10414111e+04\n",
      "\n"
     ]
    }
   ],
   "source": [
    "using PyCall\n",
    "unshift!(PyVector(pyimport(\"sys\")[\"path\"]), \"\");\n",
    "@pyimport GLS_Apr_weekday_PM"
   ]
  },
  {
   "cell_type": "code",
   "execution_count": 2,
   "metadata": {
    "collapsed": false
   },
   "outputs": [],
   "source": [
    "A = GLS_Apr_weekday_PM.A;\n",
    "P = GLS_Apr_weekday_PM.P;\n",
    "Q = GLS_Apr_weekday_PM.Q;\n",
    "b = GLS_Apr_weekday_PM.b;\n",
    "K = GLS_Apr_weekday_PM.K;"
   ]
  },
  {
   "cell_type": "code",
   "execution_count": 3,
   "metadata": {
    "collapsed": false
   },
   "outputs": [
    {
     "data": {
      "text/plain": [
       "(56,314,24,314)"
      ]
     },
     "execution_count": 3,
     "metadata": {},
     "output_type": "execute_result"
    }
   ],
   "source": [
    "size(P, 1), size(P, 2), size(A, 1), size(A, 2) "
   ]
  },
  {
   "cell_type": "code",
   "execution_count": 4,
   "metadata": {
    "collapsed": false
   },
   "outputs": [
    {
     "name": "stdout",
     "output_type": "stream",
     "text": [
      "\n",
      "******************************************************************************\n",
      "This program contains Ipopt, a library for large-scale nonlinear optimization.\n",
      " Ipopt is released as open source code under the Eclipse Public License (EPL).\n",
      "         For more information visit http://projects.coin-or.org/Ipopt\n",
      "******************************************************************************\n",
      "\n",
      "This is Ipopt version 3.12.1, running with linear solver mumps.\n",
      "NOTE: Other linear solvers might be more efficient (see Ipopt documentation).\n",
      "\n",
      "Number of nonzeros in equality constraint Jacobian...:    34854\n",
      "Number of nonzeros in inequality constraint Jacobian.:    70964\n",
      "Number of nonzeros in Lagrangian Hessian.............:   155587\n",
      "\n",
      "Total number of variables............................:    17954\n",
      "                     variables with only lower bounds:    17640\n",
      "                variables with lower and upper bounds:        0\n",
      "                     variables with only upper bounds:        0\n",
      "Total number of equality constraints.................:    17326\n",
      "Total number of inequality constraints...............:      628\n",
      "        inequality constraints with only lower bounds:      314\n",
      "   inequality constraints with lower and upper bounds:        0\n",
      "        inequality constraints with only upper bounds:      314\n",
      "\n",
      "iter    objective    inf_pr   inf_du lg(mu)  ||d||  lg(rg) alpha_du alpha_pr  ls\n",
      "   0  0.0000000e+00 2.14e+00 1.43e+01  -1.0 0.00e+00    -  0.00e+00 0.00e+00   0\n",
      "   1 -4.1936795e+01 2.02e+00 1.35e+01  -1.0 4.18e-01    -  3.02e-02 5.65e-02h  1\n",
      "   2 -6.8290352e+01 1.49e+00 1.25e+01  -1.0 3.39e-01   2.0 2.96e-01 2.60e-01h  1\n",
      "   3 -1.5344146e+02 1.04e+00 1.66e+01  -1.0 6.76e-01   1.5 1.35e-01 3.07e-01h  1\n",
      "   4 -2.0890893e+02 3.16e-01 2.20e+01  -1.0 2.97e-01   1.9 1.00e+00 6.95e-01h  1\n",
      "   5 -3.0248993e+02 2.40e-01 2.30e+01  -1.0 1.04e+00   1.5 2.65e-01 2.41e-01h  1\n",
      "   6 -3.9120572e+02 3.71e-02 2.42e+01  -1.0 3.16e-01   1.9 1.00e+00 8.45e-01h  1\n",
      "   7 -5.2874268e+02 2.78e-02 1.06e+02  -1.0 9.22e-01   1.4 4.54e-01 2.92e-01h  1\n",
      "   8 -6.2350304e+02 1.67e-02 3.92e+02  -1.0 3.44e-01   1.8 1.00e+00 5.75e-01h  1\n",
      "   9 -7.4243317e+02 2.15e-02 1.21e+03  -1.0 1.03e+00   1.4 6.90e-01 2.17e-01h  2\n",
      "iter    objective    inf_pr   inf_du lg(mu)  ||d||  lg(rg) alpha_du alpha_pr  ls\n",
      "  10 -8.8809899e+02 1.41e-02 9.54e+02  -1.0 3.86e-01   1.8 1.00e+00 7.40e-01h  1\n",
      "  11 -9.5880844e+02 1.44e-02 6.69e+03  -1.0 1.15e+00   1.3 7.37e-01 1.15e-01h  3\n",
      "  12 -1.1214658e+03 1.19e-02 4.79e+03  -1.0 4.33e-01   1.7 1.00e+00 7.23e-01h  1\n",
      "  13 -1.1638790e+03 1.15e-02 3.68e+04  -1.0 1.29e+00   1.3 9.10e-01 6.15e-02h  4\n",
      "  14 -1.1780308e+03 1.66e-02 3.87e+04  -1.0 1.98e+01   0.8 5.63e-02 5.78e-03f  3\n",
      "  15 -1.7617476e+03 1.09e-02 1.93e+04  -1.0 1.45e+00   1.2 1.00e+00 7.57e-01H  1\n",
      "  16 -1.8965723e+03 1.14e-02 9.07e+03  -1.0 4.30e+00   0.7 5.38e-01 5.92e-02f  3\n",
      "  17 -2.0136044e+03 1.03e-02 1.43e+05  -1.0 1.62e+00   1.2 1.00e+00 1.38e-01h  3\n",
      "  18 -2.1527003e+03 1.06e-02 5.38e+04  -1.0 4.81e+00   0.7 6.25e-01 5.53e-02f  4\n",
      "  19 -2.8199391e+03 8.67e-03 6.77e+04  -1.0 1.82e+00   1.1 1.00e+00 7.07e-01H  1\n",
      "iter    objective    inf_pr   inf_du lg(mu)  ||d||  lg(rg) alpha_du alpha_pr  ls\n",
      "  20 -3.0198235e+03 9.26e-03 1.66e+04  -1.0 5.37e+00   0.6 7.57e-01 7.21e-02f  4\n",
      "  21 -3.1201228e+03 9.27e-03 8.76e+03  -1.0 1.55e+01   0.2 4.87e-01 1.26e-02f  5\n",
      "  22 -3.1612723e+03 9.27e-03 8.57e+03  -1.0 4.20e+01  -0.3 2.54e-02 1.90e-03f  5\n",
      "  23 -3.1917943e+03 9.24e-03 3.56e+03  -1.0 1.73e+01   0.1 6.30e-01 3.47e-03f  8\n",
      "  24 -3.2165278e+03 9.23e-03 3.40e+03  -1.0 4.63e+01  -0.4 7.68e-02 1.06e-03f  8\n",
      "  25 -9.2355408e+03 1.36e+00 2.58e+02  -1.0 1.93e+01   0.1 1.00e+00 6.34e-01f  1\n",
      "  26 -1.4149197e+04 1.05e+00 1.13e+02  -1.0 4.90e+01  -0.4 1.40e-01 2.21e-01f  1\n",
      "  27 -2.2009663e+04 3.39e+00 1.77e+02  -1.0 1.05e+02  -0.9 7.95e-02 1.79e-01f  1\n",
      "  28 -3.0293361e+04 8.19e+00 5.29e+02  -1.0 1.71e+02  -1.4 2.51e-02 1.28e-01f  1\n",
      "  29 -4.3533248e+04 4.64e+00 9.88e+02  -1.0 9.84e+01  -0.9 7.74e-02 4.06e-01f  1\n",
      "iter    objective    inf_pr   inf_du lg(mu)  ||d||  lg(rg) alpha_du alpha_pr  ls\n",
      "  30 -4.8598750e+04 8.17e+00 9.56e+02  -1.0 2.02e+02  -1.4 7.21e-02 1.21e-01f  1\n",
      "  31 -6.0039021e+04 6.11e+00 9.50e+02  -1.0 8.23e+01  -1.0 1.20e-01 5.68e-01f  1\n",
      "  32 -6.4153009e+04 5.29e+00 8.43e+02  -1.0 1.07e+02  -1.5 8.28e-02 1.87e-01f  1\n",
      "  33 -6.8209885e+04 5.04e+00 7.25e+02  -1.0 1.44e+02  -2.0 6.08e-02 1.66e-01f  1\n",
      "  34 -6.8465911e+04 5.00e+00 7.19e+02  -1.0 5.75e+02  -2.4 5.55e-03 9.17e-03f  1\n",
      "  35 -6.9456062e+04 4.82e+00 6.88e+02  -1.0 2.11e+02  -2.0 1.23e-01 4.82e-02f  1\n",
      "  36 -7.0487405e+04 1.14e+01 6.62e+02  -1.0 1.14e+03  -2.5 1.84e-02 3.70e-02f  1\n",
      "  37 -7.1461637e+04 1.11e+01 6.24e+02  -1.0 1.73e+02  -2.1 3.49e-02 5.27e-02f  1\n",
      "  38 -7.3324851e+04 9.54e+00 5.17e+02  -1.0 1.11e+02  -1.6 5.87e-02 1.49e-01f  1\n",
      "  39 -7.5374028e+04 1.60e+01 4.34e+02  -1.0 3.57e+02  -2.1 8.73e-02 1.29e-01f  1\n",
      "iter    objective    inf_pr   inf_du lg(mu)  ||d||  lg(rg) alpha_du alpha_pr  ls\n",
      "  40 -7.7380623e+04 1.32e+01 3.31e+02  -1.0 8.58e+01  -1.7 2.53e-02 2.28e-01f  1\n",
      "  41 -7.8280906e+04 1.72e+01 2.96e+02  -1.0 6.18e+02  -2.2 4.01e-02 7.15e-02f  1\n",
      "  42 -7.9109385e+04 1.53e+01 2.53e+02  -1.0 7.86e+01  -1.7 6.02e-02 1.19e-01f  1\n",
      "  43 -8.0039464e+04 1.14e+01 3.20e+02  -1.0 3.78e+01  -1.3 1.26e-01 2.55e-01f  1\n",
      "  44 -8.1042329e+04 9.76e+00 3.58e+02  -1.0 9.01e+01  -1.8 8.82e-02 1.67e-01f  1\n",
      "  45 -8.1513575e+04 8.19e+00 3.46e+02  -1.0 3.67e+01  -1.4 1.12e-01 1.61e-01f  1\n",
      "  46 -8.2296546e+04 7.18e+00 3.56e+02  -1.0 1.33e+02  -1.8 7.45e-02 1.38e-01f  1\n",
      "  47 -8.2608182e+04 8.33e+00 3.55e+02  -1.0 1.14e+03  -2.3 1.44e-02 2.96e-02f  1\n",
      "  48 -8.3796184e+04 7.57e+00 3.83e+02  -1.0 9.50e+01  -1.9 9.57e-02 2.36e-01f  1\n",
      "  49 -8.4688085e+04 7.84e+00 3.86e+02  -1.0 2.19e+02  -2.4 3.42e-02 1.14e-01f  1\n",
      "iter    objective    inf_pr   inf_du lg(mu)  ||d||  lg(rg) alpha_du alpha_pr  ls\n",
      "  50 -8.5606274e+04 6.56e+00 3.75e+02  -1.0 9.06e+01  -1.9 1.00e-01 2.31e-01f  1\n",
      "  51 -8.6874558e+04 2.13e+01 3.47e+02  -1.0 2.59e+02  -2.4 9.29e-02 2.16e-01f  1\n",
      "  52 -8.7393521e+04 1.72e+01 2.96e+02  -1.0 8.33e+01  -2.0 1.69e-01 1.95e-01f  1\n",
      "  53 -8.9315470e+04 1.90e+01 3.30e+02  -1.0 1.74e+02  -2.5 1.26e-01 5.42e-01f  1\n",
      "  54 -8.9724315e+04 2.09e+01 2.84e+02  -1.0 4.12e+02  -2.9 1.40e-01 1.57e-01f  1\n",
      "  55 -9.0212776e+04 1.33e+01 1.99e+02  -1.0 9.95e+01  -2.5 3.01e-01 3.58e-01f  1\n",
      "  56 -9.0760022e+04 7.20e+00 1.23e+02  -1.0 1.24e+02  -3.0 3.74e-01 5.21e-01f  1\n",
      "  57 -9.1039541e+04 5.29e+00 9.87e+01  -1.0 8.56e+01  -3.5 4.89e-01 1.00e+00f  1\n",
      "  58 -9.1041406e+04 5.10e-01 5.35e-01  -1.0 1.70e+01  -3.9 9.99e-01 1.00e+00h  1\n",
      "  59 -9.1041411e+04 8.24e-02 6.15e-02  -1.7 2.02e+01  -4.4 1.00e+00 1.00e+00H  1\n",
      "iter    objective    inf_pr   inf_du lg(mu)  ||d||  lg(rg) alpha_du alpha_pr  ls\n",
      "  60 -9.1041411e+04 4.50e-04 6.59e-03  -2.5 5.53e+00  -4.9 1.00e+00 1.00e+00H  1\n",
      "  61 -9.1041411e+04 9.99e-09 7.74e-05  -5.7 5.65e-04  -0.9 1.00e+00 1.00e+00h  1\n",
      "  62 -9.1041411e+04 9.99e-09 1.41e+02  -8.6 2.55e-05   0.5 1.00e+00 9.54e-07h 21\n",
      "  63 -9.1041411e+04 1.00e-08 7.57e-05  -8.6 9.72e-06   0.9 1.00e+00 1.00e+00s 22\n",
      "  64 -9.1041411e+04 1.00e-08 7.33e-05  -8.6 2.83e-05   0.4 1.00e+00 1.00e+00s 22\n",
      "  65 -9.1041411e+04 1.00e-08 7.24e-05  -8.6 1.05e-05   0.8 1.00e+00 1.00e+00s 22\n",
      "  66 -9.1041411e+04 1.00e-08 6.98e-05  -8.6 3.02e-05   0.4 1.00e+00 1.00e+00s 22\n",
      "  67 -9.1041411e+04 1.00e-08 6.88e-05  -8.6 1.12e-05   0.8 1.00e+00 1.00e+00s 22\n",
      "  68 -9.1041411e+04 1.00e-08 6.62e-05  -8.6 3.23e-05   0.3 1.00e+00 1.00e+00s 22\n",
      "  69 -9.1041411e+04 1.00e-08 6.53e-05  -8.6 1.19e-05   0.7 1.00e+00 1.00e+00s 22\n",
      "iter    objective    inf_pr   inf_du lg(mu)  ||d||  lg(rg) alpha_du alpha_pr  ls\n",
      "  70 -9.1041411e+04 1.00e-08 1.82e+02  -9.0 3.44e-05   0.3 1.00e+00 1.91e-06h 20\n",
      "  71 -9.1041411e+04 1.00e-08 1.82e+02  -9.0 1.32e-05   0.7 1.00e+00 7.63e-06h 18\n",
      "  72 -9.1041411e+04 1.00e-08 6.23e-05  -9.0 3.85e-05   0.2 1.00e+00 1.00e+00s 22\n",
      "  73 -9.1041411e+04 1.00e-08 6.13e-05  -9.0 1.42e-05   0.6 1.00e+00 1.00e+00s 22\n",
      "  74 -9.1041411e+04 1.00e-08 5.84e-05  -9.0 4.05e-05   0.2 1.00e+00 1.00e+00s 22\n",
      "  75 -9.1041411e+04 1.00e-08 5.74e-05  -9.0 1.49e-05   0.6 1.00e+00 1.00e+00s 22\n",
      "  76 -9.1041411e+04 1.00e-08 5.45e-05  -9.0 4.26e-05   0.1 1.00e+00 1.00e+00s 22\n",
      "  77 -9.1041411e+04 1.00e-08 5.35e-05  -9.0 1.57e-05   0.5 1.00e+00 1.00e+00s 22\n",
      "  78 -9.1041411e+04 1.00e-08 5.31e-05  -9.0 5.84e-06   1.0 1.00e+00 1.00e+00s 22\n",
      "  79 -9.1041411e+04 1.00e-08 5.21e-05  -9.0 1.71e-05   0.5 1.00e+00 1.00e+00s 22\n",
      "iter    objective    inf_pr   inf_du lg(mu)  ||d||  lg(rg) alpha_du alpha_pr  ls\n",
      "  80 -9.1041411e+04 1.00e-08 5.16e-05  -9.0 6.38e-06   0.9 1.00e+00 1.00e+00s 22\n",
      "  81 -9.1041411e+04 1.00e-08 5.05e-05  -9.0 1.87e-05   0.4 1.00e+00 1.00e+00s 22\n",
      "  82 -9.1041411e+04 1.00e-08 5.01e-05  -9.0 6.96e-06   0.9 1.00e+00 1.00e+00s 22\n",
      "\n",
      "Number of Iterations....: 82\n",
      "\n",
      "                                   (scaled)                 (unscaled)\n",
      "Objective...............:  -9.1041411146307873e+04   -9.1041411146307873e+04\n",
      "Dual infeasibility......:   5.0061133048728834e-05    5.0061133048728834e-05\n",
      "Constraint violation....:   9.9999965625139208e-09    9.9999965625139208e-09\n",
      "Complementarity.........:   9.0909090909090920e-10    9.0909090909090920e-10\n",
      "Overall NLP error.......:   1.9155865428728485e-08    5.0061133048728834e-05\n",
      "\n",
      "\n",
      "Number of objective function evaluations             = 256\n",
      "Number of objective gradient evaluations             = 83\n",
      "Number of equality constraint evaluations            = 256\n",
      "Number of inequality constraint evaluations          = 256\n",
      "Number of equality constraint Jacobian evaluations   = 83\n",
      "Number of inequality constraint Jacobian evaluations = 83\n",
      "Number of Lagrangian Hessian evaluations             = 83\n",
      "Total CPU secs in IPOPT (w/o function evaluations)   =    105.816\n",
      "Total CPU secs in NLP function evaluations           =     42.044\n",
      "\n",
      "EXIT: Solved To Acceptable Level.\n"
     ]
    },
    {
     "data": {
      "text/plain": [
       ":Optimal"
      ]
     },
     "execution_count": 4,
     "metadata": {},
     "output_type": "execute_result"
    }
   ],
   "source": [
    "using JuMP\n",
    "\n",
    "mGLSJulia = Model()\n",
    "\n",
    "@defVar(mGLSJulia, xi[1:size(P,2)])\n",
    "\n",
    "@defVar(mGLSJulia, lam[1:size(P,1)] >= 0)\n",
    "\n",
    "@defVar(mGLSJulia, p[1:size(P,1), 1:size(P,2)] >= 0)\n",
    "\n",
    "for i = 1:size(P,1)\n",
    "    for j = 1:size(P,2)\n",
    "        if P[i,j] == 0\n",
    "            @addConstraint(mGLSJulia, p[i,j] == 0)\n",
    "        end\n",
    "    end\n",
    "end\n",
    "            \n",
    "for i = 1:size(P,1)\n",
    "    @addNLConstraint(mGLSJulia, sum{p[i,j], j = 1:size(P,2)} == 1)\n",
    "end\n",
    "\n",
    "for i = 1:size(P,2)\n",
    "    @addNLConstraint(mGLSJulia, sum{p[j,i] * lam[j], j = 1:size(P,1)} >= xi[i])\n",
    "end\n",
    "\n",
    "for i = 1:size(P,2)\n",
    "    @addNLConstraint(mGLSJulia, sum{p[j,i] * lam[j], j = 1:size(P,1)} <= xi[i])\n",
    "end\n",
    "\n",
    "    \n",
    "@setNLObjective(mGLSJulia, Min, (K / 2.0) * sum{xi[i] * Q[i,j] * xi[j], i = 1:size(P,2), j = 1:size(P,2)} - sum{b[i] * xi[i], i = 1:size(P,2)}) \n",
    "\n",
    "solve(mGLSJulia)"
   ]
  },
  {
   "cell_type": "code",
   "execution_count": 5,
   "metadata": {
    "collapsed": false
   },
   "outputs": [
    {
     "data": {
      "text/plain": [
       "56-element Array{Float64,1}:\n",
       " 137.65 \n",
       " 131.877\n",
       " 428.527\n",
       " 519.445\n",
       " 576.56 \n",
       " 425.068\n",
       " 271.47 \n",
       " 209.163\n",
       " 149.371\n",
       " 448.533\n",
       " 556.485\n",
       " 625.715\n",
       " 462.355\n",
       "   ⋮    \n",
       " 346.282\n",
       " 606.925\n",
       " 424.97 \n",
       " 508.912\n",
       " 245.035\n",
       " 368.575\n",
       " 349.753\n",
       " 332.535\n",
       " 392.298\n",
       " 495.415\n",
       " 601.759\n",
       " 235.133"
      ]
     },
     "execution_count": 5,
     "metadata": {},
     "output_type": "execute_result"
    }
   ],
   "source": [
    "getValue(lam)"
   ]
  },
  {
   "cell_type": "code",
   "execution_count": 6,
   "metadata": {
    "collapsed": false
   },
   "outputs": [
    {
     "data": {
      "text/plain": [
       "314-element Array{Float64,1}:\n",
       "  31.8717\n",
       "  13.1767\n",
       "  92.6015\n",
       "  11.2329\n",
       "  23.7886\n",
       "  96.8556\n",
       "  47.7263\n",
       " 214.302 \n",
       "  20.4711\n",
       "  38.8208\n",
       " 107.208 \n",
       "  76.0973\n",
       " 174.225 \n",
       "   ⋮     \n",
       "  55.4596\n",
       " 263.803 \n",
       " 123.955 \n",
       "  12.1134\n",
       "  91.2639\n",
       "  69.6957\n",
       "  20.4514\n",
       "  45.509 \n",
       " 238.771 \n",
       "  16.4598\n",
       "  23.0087\n",
       " 195.665 "
      ]
     },
     "execution_count": 6,
     "metadata": {},
     "output_type": "execute_result"
    }
   ],
   "source": [
    "getValue(xi)"
   ]
  },
  {
   "cell_type": "code",
   "execution_count": 7,
   "metadata": {
    "collapsed": false
   },
   "outputs": [
    {
     "data": {
      "text/plain": [
       "314-element Array{Any,1}:\n",
       " 381.5   \n",
       "  62.0596\n",
       "  53.7844\n",
       " 143.728 \n",
       " 147.803 \n",
       "  35.1334\n",
       " 175.442 \n",
       "  84.0441\n",
       "  49.2077\n",
       "  78.6722\n",
       "  38.0729\n",
       " 132.453 \n",
       "  62.2551\n",
       "   ⋮     \n",
       "  91.3238\n",
       "  93.3765\n",
       "  41.1466\n",
       "  34.2938\n",
       "  35.9012\n",
       "  30.5337\n",
       " 215.068 \n",
       " 106.124 \n",
       " 111.63  \n",
       " 222.638 \n",
       "  31.7786\n",
       "  31.1932"
      ]
     },
     "execution_count": 7,
     "metadata": {},
     "output_type": "execute_result"
    }
   ],
   "source": [
    "GLS_Apr_weekday_PM.xi_list"
   ]
  },
  {
   "cell_type": "code",
   "execution_count": 9,
   "metadata": {
    "collapsed": false
   },
   "outputs": [
    {
     "data": {
      "text/plain": [
       "-91041.41114630787"
      ]
     },
     "execution_count": 9,
     "metadata": {},
     "output_type": "execute_result"
    }
   ],
   "source": [
    "getObjectiveValue(mGLSJulia)"
   ]
  },
  {
   "cell_type": "code",
   "execution_count": 5,
   "metadata": {
    "collapsed": false
   },
   "outputs": [
    {
     "data": {
      "text/plain": [
       "56-element Array{Float64,1}:\n",
       "  364.031\n",
       "  325.364\n",
       "  387.088\n",
       "  543.744\n",
       "  531.093\n",
       "  533.457\n",
       "  187.046\n",
       "  511.458\n",
       "  326.3  \n",
       "  459.388\n",
       "  581.073\n",
       "  663.681\n",
       "  610.212\n",
       "    ⋮    \n",
       "  714.337\n",
       "  517.884\n",
       "  849.503\n",
       " 1621.38 \n",
       "  188.789\n",
       "  239.612\n",
       "  234.682\n",
       "  514.833\n",
       "  383.71 \n",
       "  402.015\n",
       "  566.538\n",
       "  282.776"
      ]
     },
     "execution_count": 5,
     "metadata": {},
     "output_type": "execute_result"
    }
   ],
   "source": [
    "getValue(lam)"
   ]
  },
  {
   "cell_type": "code",
   "execution_count": 6,
   "metadata": {
    "collapsed": false
   },
   "outputs": [
    {
     "data": {
      "text/plain": [
       "1.0000000000000073"
      ]
     },
     "execution_count": 6,
     "metadata": {},
     "output_type": "execute_result"
    }
   ],
   "source": [
    "getObjectiveValue(mGLSJulia)"
   ]
  },
  {
   "cell_type": "code",
   "execution_count": 7,
   "metadata": {
    "collapsed": true
   },
   "outputs": [],
   "source": [
    "GLS_Apr_weekday_PM.saveDemandVec(getValue(lam))"
   ]
  },
  {
   "cell_type": "code",
   "execution_count": null,
   "metadata": {
    "collapsed": true
   },
   "outputs": [],
   "source": []
  }
 ],
 "metadata": {
  "kernelspec": {
   "display_name": "Julia 0.5.0",
   "language": "julia",
   "name": "julia-0.5"
  },
  "language_info": {
   "file_extension": ".jl",
   "mimetype": "application/julia",
   "name": "julia",
   "version": "0.5.0"
  }
 },
 "nbformat": 4,
 "nbformat_minor": 0
}
