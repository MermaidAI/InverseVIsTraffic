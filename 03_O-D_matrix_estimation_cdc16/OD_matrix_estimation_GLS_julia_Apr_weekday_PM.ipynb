{
 "cells": [
  {
   "cell_type": "code",
   "execution_count": 1,
   "metadata": {
    "collapsed": false
   },
   "outputs": [
    {
     "name": "stdout",
     "output_type": "stream",
     "text": [
      "No dicts found; please check load_dicts...\n"
     ]
    },
    {
     "ename": "LoadError",
     "evalue": "LoadError: PyError (:PyImport_ImportModule) <class 'gurobipy.GurobiError'>\nGurobiError()\n  File \"GLS_Apr_weekday_PM.py\", line 139, in <module>\n    xi_list = GLS(x, A, L)\n  File \"GLS_Apr_weekday_PM.py\", line 41, in GLS\n    model = Model(\"OD_matrix_estimation\")\n  File \"model.pxi\", line 53, in gurobipy.Model.__init__ (../../src/python/gurobipy.c:38683)\n  File \"gurobi.pxi\", line 15, in gurobipy.gurobi._getdefaultenv (../../src/python/gurobipy.c:82297)\n  File \"env.pxi\", line 28, in gurobipy.Env.__init__ (../../src/python/gurobipy.c:5561)\n\nwhile loading In[1], in expression starting on line 427",
     "output_type": "error",
     "traceback": [
      "LoadError: PyError (:PyImport_ImportModule) <class 'gurobipy.GurobiError'>\nGurobiError()\n  File \"GLS_Apr_weekday_PM.py\", line 139, in <module>\n    xi_list = GLS(x, A, L)\n  File \"GLS_Apr_weekday_PM.py\", line 41, in GLS\n    model = Model(\"OD_matrix_estimation\")\n  File \"model.pxi\", line 53, in gurobipy.Model.__init__ (../../src/python/gurobipy.c:38683)\n  File \"gurobi.pxi\", line 15, in gurobipy.gurobi._getdefaultenv (../../src/python/gurobipy.c:82297)\n  File \"env.pxi\", line 28, in gurobipy.Env.__init__ (../../src/python/gurobipy.c:5561)\n\nwhile loading In[1], in expression starting on line 427",
      "",
      " in pyerr_check at /home/jzh/.julia/v0.5/PyCall/src/exception.jl:56 [inlined]",
      " in pyerr_check at /home/jzh/.julia/v0.5/PyCall/src/exception.jl:61 [inlined]",
      " in macro expansion at /home/jzh/.julia/v0.5/PyCall/src/exception.jl:81 [inlined]",
      " in pyimport(::String) at /home/jzh/.julia/v0.5/PyCall/src/PyCall.jl:387"
     ]
    }
   ],
   "source": [
    "using PyCall\n",
    "unshift!(PyVector(pyimport(\"sys\")[\"path\"]), \"\");\n",
    "@pyimport GLS_Apr_weekday_PM"
   ]
  },
  {
   "cell_type": "code",
   "execution_count": 2,
   "metadata": {
    "collapsed": false
   },
   "outputs": [
    {
     "ename": "LoadError",
     "evalue": "LoadError: UndefVarError: GLS_Apr_weekday_PM not defined\nwhile loading In[2], in expression starting on line 1",
     "output_type": "error",
     "traceback": [
      "LoadError: UndefVarError: GLS_Apr_weekday_PM not defined\nwhile loading In[2], in expression starting on line 1",
      ""
     ]
    }
   ],
   "source": [
    "xi_list = GLS_Apr_weekday_PM.xi_list\n",
    "P = GLS_Apr_weekday_PM.P\n",
    "L = GLS_Apr_weekday_PM.L  # dimension of xi"
   ]
  },
  {
   "cell_type": "code",
   "execution_count": 3,
   "metadata": {
    "collapsed": false
   },
   "outputs": [
    {
     "ename": "LoadError",
     "evalue": "LoadError: UndefVarError: P not defined\nwhile loading In[3], in expression starting on line 1",
     "output_type": "error",
     "traceback": [
      "LoadError: UndefVarError: P not defined\nwhile loading In[3], in expression starting on line 1",
      ""
     ]
    }
   ],
   "source": [
    "size(P, 1), size(P, 2)"
   ]
  },
  {
   "cell_type": "code",
   "execution_count": 4,
   "metadata": {
    "collapsed": false
   },
   "outputs": [
    {
     "ename": "LoadError",
     "evalue": "LoadError: UndefVarError: P not defined\nwhile loading In[4], in expression starting on line 1",
     "output_type": "error",
     "traceback": [
      "LoadError: UndefVarError: P not defined\nwhile loading In[4], in expression starting on line 1",
      ""
     ]
    }
   ],
   "source": [
    "P"
   ]
  },
  {
   "cell_type": "code",
   "execution_count": 5,
   "metadata": {
    "collapsed": false
   },
   "outputs": [
    {
     "ename": "LoadError",
     "evalue": "LoadError: UndefVarError: P not defined\nwhile loading In[5], in expression starting on line 5",
     "output_type": "error",
     "traceback": [
      "LoadError: UndefVarError: P not defined\nwhile loading In[5], in expression starting on line 5",
      "",
      " in macro expansion; at /home/jzh/.julia/v0.5/JuMP/src/macros.jl:157 [inlined]",
      " in anonymous at ./<missing>:?"
     ]
    }
   ],
   "source": [
    "using JuMP\n",
    "\n",
    "mGLSJulia = Model()\n",
    "\n",
    "@variable(mGLSJulia, lam[1:size(P,1)] >= 0)\n",
    "\n",
    "@variable(mGLSJulia, p[1:size(P,1), 1:size(P,2)] >= 0)\n",
    "\n",
    "for i = 1:size(P,1)\n",
    "    for j = 1:size(P,2)\n",
    "        if P[i,j] == 0\n",
    "            @constraint(mGLSJulia, p[i,j] == 0)\n",
    "        end\n",
    "    end\n",
    "end\n",
    "            \n",
    "for i = 1:size(P,1)\n",
    "    @NLconstraint(mGLSJulia, sum{p[i,j], j = 1:size(P,2)} == 1)\n",
    "end\n",
    "\n",
    "for l = 1:L\n",
    "    @NLconstraint(mGLSJulia, sum{p[i,l] * lam[i], i = 1:size(P,1)} == xi_list[l])\n",
    "end\n",
    "    \n",
    "@NLobjective(mGLSJulia, Min, sum{p[1,j], j = 1:size(P,2)})  # play no actual role, but could not use zero objective\n",
    "\n",
    "solve(mGLSJulia)"
   ]
  },
  {
   "cell_type": "code",
   "execution_count": 6,
   "metadata": {
    "collapsed": false
   },
   "outputs": [
    {
     "ename": "LoadError",
     "evalue": "LoadError: UndefVarError: lam not defined\nwhile loading In[6], in expression starting on line 1",
     "output_type": "error",
     "traceback": [
      "LoadError: UndefVarError: lam not defined\nwhile loading In[6], in expression starting on line 1",
      ""
     ]
    }
   ],
   "source": [
    "getvalue(lam)"
   ]
  },
  {
   "cell_type": "code",
   "execution_count": 7,
   "metadata": {
    "collapsed": false
   },
   "outputs": [
    {
     "data": {
      "text/plain": [
       "0"
      ]
     },
     "execution_count": 7,
     "metadata": {},
     "output_type": "execute_result"
    }
   ],
   "source": [
    "getobjectivevalue(mGLSJulia)"
   ]
  },
  {
   "cell_type": "code",
   "execution_count": 8,
   "metadata": {
    "collapsed": false
   },
   "outputs": [
    {
     "ename": "LoadError",
     "evalue": "LoadError: UndefVarError: GLS_Apr_weekday_PM not defined\nwhile loading In[8], in expression starting on line 1",
     "output_type": "error",
     "traceback": [
      "LoadError: UndefVarError: GLS_Apr_weekday_PM not defined\nwhile loading In[8], in expression starting on line 1",
      ""
     ]
    }
   ],
   "source": [
    "GLS_Apr_weekday_PM.saveDemandVec(getvalue(lam))"
   ]
  },
  {
   "cell_type": "code",
   "execution_count": 9,
   "metadata": {
    "collapsed": false
   },
   "outputs": [
    {
     "ename": "LoadError",
     "evalue": "LoadError: UndefVarError: p not defined\nwhile loading In[9], in expression starting on line 1",
     "output_type": "error",
     "traceback": [
      "LoadError: UndefVarError: p not defined\nwhile loading In[9], in expression starting on line 1",
      ""
     ]
    }
   ],
   "source": [
    "getvalue(p)"
   ]
  },
  {
   "cell_type": "code",
   "execution_count": 10,
   "metadata": {
    "collapsed": false
   },
   "outputs": [
    {
     "ename": "LoadError",
     "evalue": "LoadError: UndefVarError: p not defined\nwhile loading In[10], in expression starting on line 1",
     "output_type": "error",
     "traceback": [
      "LoadError: UndefVarError: p not defined\nwhile loading In[10], in expression starting on line 1",
      ""
     ]
    }
   ],
   "source": [
    "route_choice_matrix_Apr_PM = getvalue(p)"
   ]
  },
  {
   "cell_type": "code",
   "execution_count": 11,
   "metadata": {
    "collapsed": false
   },
   "outputs": [
    {
     "ename": "LoadError",
     "evalue": "LoadError: UndefVarError: route_choice_matrix_Apr_PM not defined\nwhile loading In[11], in expression starting on line 1",
     "output_type": "error",
     "traceback": [
      "LoadError: UndefVarError: route_choice_matrix_Apr_PM not defined\nwhile loading In[11], in expression starting on line 1",
      ""
     ]
    }
   ],
   "source": [
    "sum(route_choice_matrix_Apr_PM[1, :])"
   ]
  },
  {
   "cell_type": "code",
   "execution_count": 12,
   "metadata": {
    "collapsed": false
   },
   "outputs": [
    {
     "ename": "LoadError",
     "evalue": "LoadError: UndefVarError: route_choice_matrix_Apr_PM not defined\nwhile loading In[12], in expression starting on line 3",
     "output_type": "error",
     "traceback": [
      "LoadError: UndefVarError: route_choice_matrix_Apr_PM not defined\nwhile loading In[12], in expression starting on line 3",
      "",
      " in anonymous at ./<missing>:?"
     ]
    }
   ],
   "source": [
    "route_choice_matrix_dict_Apr_PM = Dict()\n",
    "\n",
    "for row_idx = 1:size(route_choice_matrix_Apr_PM)[1]\n",
    "    for col_idx = 1:size(route_choice_matrix_Apr_PM)[2]\n",
    "        route_choice_matrix_dict_Apr_PM[(row_idx, col_idx)] = route_choice_matrix_Apr_PM[row_idx, col_idx]\n",
    "    end\n",
    "end"
   ]
  },
  {
   "cell_type": "code",
   "execution_count": 13,
   "metadata": {
    "collapsed": true
   },
   "outputs": [],
   "source": [
    "outfile = open(\"../temp_files/route_choice_CDC_Apr_PM.json\", \"w\")\n",
    "\n",
    "JSON.print(outfile, route_choice_matrix_dict_Apr_PM)\n",
    "\n",
    "close(outfile)"
   ]
  },
  {
   "cell_type": "markdown",
   "metadata": {},
   "source": [
    "# Route flow analysis (see [Eq. (9) in M. Hazelton (2000); Page 556])\n",
    "\n",
    "$\\textbf{P}'\\textbf{g}$ equals the route flow vector. It seems hard to uniquely determine a route flow vector corresponding to a social link flow vector."
   ]
  },
  {
   "cell_type": "code",
   "execution_count": null,
   "metadata": {
    "collapsed": true
   },
   "outputs": [],
   "source": []
  }
 ],
 "metadata": {
  "anaconda-cloud": {},
  "kernelspec": {
   "display_name": "Julia 0.5.0",
   "language": "julia",
   "name": "julia-0.5"
  },
  "language_info": {
   "file_extension": ".jl",
   "mimetype": "application/julia",
   "name": "julia",
   "version": "0.5.0"
  }
 },
 "nbformat": 4,
 "nbformat_minor": 0
}
