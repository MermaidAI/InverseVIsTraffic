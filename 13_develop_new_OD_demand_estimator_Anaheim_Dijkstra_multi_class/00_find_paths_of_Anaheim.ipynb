{
 "cells": [
  {
   "cell_type": "code",
   "execution_count": 1,
   "metadata": {
    "collapsed": false
   },
   "outputs": [
    {
     "name": "stdout",
     "output_type": "stream",
     "text": [
      "No dicts found; please check load_dicts...\n"
     ]
    }
   ],
   "source": [
    "%run ../Python_files/util.py"
   ]
  },
  {
   "cell_type": "code",
   "execution_count": 2,
   "metadata": {
    "collapsed": false
   },
   "outputs": [],
   "source": [
    "import json"
   ]
  },
  {
   "cell_type": "code",
   "execution_count": 3,
   "metadata": {
    "collapsed": true
   },
   "outputs": [],
   "source": [
    "with open('./benchmark_data/Anaheim_flow.txt') as Anaheim_flow:\n",
    "    Anaheim_flow_lines = Anaheim_flow.readlines()\n",
    "Anaheim_links = []\n",
    "i = -1\n",
    "for line in Anaheim_flow_lines:\n",
    "    i += 1\n",
    "    if i > 0:\n",
    "        Anaheim_links.append(line.split('\\t')[1:3])\n",
    "numLinks = i"
   ]
  },
  {
   "cell_type": "code",
   "execution_count": 4,
   "metadata": {
    "collapsed": false
   },
   "outputs": [],
   "source": [
    "link_list_js = [str(int(Anaheim_links[i][0])) + ',' + str(int(Anaheim_links[i][1])) for \\\n",
    "             i in range(len(Anaheim_links))]\n",
    "\n",
    "link_list_pk = [str(int(Anaheim_links[i][0])) + '->' + str(int(Anaheim_links[i][1])) for \\\n",
    "             i in range(len(Anaheim_links))]"
   ]
  },
  {
   "cell_type": "code",
   "execution_count": 5,
   "metadata": {
    "collapsed": false
   },
   "outputs": [],
   "source": [
    "zdump(link_list_js, '../temp_files/Anaheim_link_list_js.pkz')\n",
    "\n",
    "zdump(link_list_pk, '../temp_files/Anaheim_link_list_pk.pkz')"
   ]
  },
  {
   "cell_type": "code",
   "execution_count": 6,
   "metadata": {
    "collapsed": false
   },
   "outputs": [],
   "source": [
    "numNodes = max([int(Anaheim_links[i][1]) for i in range(numLinks)])"
   ]
  },
  {
   "cell_type": "code",
   "execution_count": 7,
   "metadata": {
    "collapsed": false
   },
   "outputs": [
    {
     "data": {
      "text/plain": [
       "416"
      ]
     },
     "execution_count": 7,
     "metadata": {},
     "output_type": "execute_result"
    }
   ],
   "source": [
    "numNodes"
   ]
  },
  {
   "cell_type": "code",
   "execution_count": 8,
   "metadata": {
    "collapsed": false
   },
   "outputs": [],
   "source": [
    "from collections import defaultdict\n",
    "\n",
    "node_neighbors_dict = defaultdict(list)\n",
    "\n",
    "for node in range(numNodes):\n",
    "    for link in Anaheim_links:\n",
    "        if node == int(link[0]):\n",
    "            node_neighbors_dict[str(node)].append(int(link[1]))"
   ]
  },
  {
   "cell_type": "code",
   "execution_count": 9,
   "metadata": {
    "collapsed": false
   },
   "outputs": [
    {
     "data": {
      "text/plain": [
       "[338, 362]"
      ]
     },
     "execution_count": 9,
     "metadata": {},
     "output_type": "execute_result"
    }
   ],
   "source": [
    "node_neighbors_dict['10']"
   ]
  },
  {
   "cell_type": "code",
   "execution_count": 10,
   "metadata": {
    "collapsed": true
   },
   "outputs": [],
   "source": [
    "with open('./benchmark_data/Anaheim_trips.txt') as Anaheim_trips:\n",
    "    Anaheim_trips_lines = Anaheim_trips.readlines()"
   ]
  },
  {
   "cell_type": "code",
   "execution_count": 11,
   "metadata": {
    "collapsed": false
   },
   "outputs": [],
   "source": [
    "numZones = int(Anaheim_trips_lines[0].split(' ')[3])"
   ]
  },
  {
   "cell_type": "code",
   "execution_count": 12,
   "metadata": {
    "collapsed": false
   },
   "outputs": [
    {
     "data": {
      "text/plain": [
       "38"
      ]
     },
     "execution_count": 12,
     "metadata": {},
     "output_type": "execute_result"
    }
   ],
   "source": [
    "numZones"
   ]
  },
  {
   "cell_type": "code",
   "execution_count": 13,
   "metadata": {
    "collapsed": false
   },
   "outputs": [],
   "source": [
    "od_pairs = []\n",
    "for i in range(numZones+1)[1:]:\n",
    "    for j in range(numZones+1)[1:]:\n",
    "        if i != j:\n",
    "            od_pairs.append([i, j])"
   ]
  },
  {
   "cell_type": "code",
   "execution_count": 14,
   "metadata": {
    "collapsed": false,
    "scrolled": true
   },
   "outputs": [],
   "source": [
    "od_pairs;"
   ]
  },
  {
   "cell_type": "code",
   "execution_count": 15,
   "metadata": {
    "collapsed": true
   },
   "outputs": [],
   "source": [
    "# create O-D pair labels\n",
    "# create a dictionary mapping O-D pairs to labels\n",
    "\n",
    "import json\n",
    "\n",
    "OD_pair_label_dict = {}\n",
    "OD_pair_label_dict_ = {}\n",
    "\n",
    "label = 1\n",
    "for i in range(numZones + 1)[1:]:\n",
    "    for j in range(numZones + 1)[1:]:\n",
    "        key = (i, j)\n",
    "        OD_pair_label_dict[str(key)] = label\n",
    "        OD_pair_label_dict_[str(label)] = key\n",
    "        label += 1\n",
    "        \n",
    "with open('../temp_files/od_pair_label_dict_Anaheim.json', 'w') as json_file:\n",
    "    json.dump(OD_pair_label_dict, json_file)\n",
    "    \n",
    "with open('../temp_files/od_pair_label_dict__Anaheim.json', 'w') as json_file:\n",
    "    json.dump(OD_pair_label_dict_, json_file)\n",
    "\n",
    "\n",
    "OD_pair_label_dict_refined = {}\n",
    "OD_pair_label_dict_refined_ = {}\n",
    "\n",
    "label = 1\n",
    "for i in range(numZones + 1)[1:]:\n",
    "    for j in range(numZones + 1)[1:]:\n",
    "        if i != j:\n",
    "            key = (i, j)\n",
    "            OD_pair_label_dict_refined[str(key)] = label\n",
    "            OD_pair_label_dict_refined_[str(label)] = key\n",
    "            label += 1\n",
    "        \n",
    "with open('../temp_files/od_pair_label_dict_Anaheim_refined.json', 'w') as json_file:\n",
    "    json.dump(OD_pair_label_dict_refined, json_file)\n",
    "    \n",
    "with open('../temp_files/od_pair_label_dict__Anaheim_refined.json', 'w') as json_file:\n",
    "    json.dump(OD_pair_label_dict_refined_, json_file)\n",
    "    \n",
    "    \n",
    "# create link labels\n",
    "# create a dictionary mapping directed links to labels\n",
    "link_label_dict = {}\n",
    "link_label_dict_ = {}\n",
    "\n",
    "link_list = zload('../temp_files/Anaheim_link_list_js.pkz')\n",
    "\n",
    "for i in range(numLinks):\n",
    "    link_label_dict[str(i)] = link_list[i]\n",
    "\n",
    "for i in range(numLinks):\n",
    "    link_label_dict_[link_list[i]] = i\n",
    "\n",
    "with open('../temp_files/link_label_dict_Anaheim.json', 'w') as json_file:\n",
    "    json.dump(link_label_dict, json_file)\n",
    "    \n",
    "with open('../temp_files/link_label_dict_Anaheim_.json', 'w') as json_file:\n",
    "    json.dump(link_label_dict_, json_file)\n",
    "    \n",
    "# create link labels\n",
    "# create a dictionary mapping directed links to labels\n",
    "link_label_dict = {}\n",
    "link_label_dict_ = {}\n",
    "\n",
    "link_list = zload('../temp_files/Anaheim_link_list_pk.pkz')\n",
    "\n",
    "for i in range(numLinks):\n",
    "    link_label_dict[str(i)] = link_list[i]\n",
    "\n",
    "for i in range(numLinks):\n",
    "    link_label_dict_[link_list[i]] = i\n",
    "\n",
    "zdump(link_label_dict, '../temp_files/link_label_dict_Anaheim_network.pkz')\n",
    "zdump(link_label_dict_, '../temp_files/link_label_dict_Anaheim_network_.pkz')"
   ]
  },
  {
   "cell_type": "code",
   "execution_count": 16,
   "metadata": {
    "collapsed": false,
    "scrolled": true
   },
   "outputs": [],
   "source": [
    "link_label_dict_;"
   ]
  },
  {
   "cell_type": "code",
   "execution_count": 17,
   "metadata": {
    "collapsed": true
   },
   "outputs": [],
   "source": [
    "link_length_dict_Anaheim = {}  # save free-flow time actually\n",
    "link_capac_dict_Anaheim = {}\n",
    "\n",
    "length_list = []\n",
    "capac_list = []\n",
    "with open('./benchmark_data/Anaheim_net.txt', 'r') as f:\n",
    "    read_data = f.readlines()\n",
    "    flag = 0\n",
    "    for row in read_data:\n",
    "        if ';' in row:\n",
    "            flag += 1\n",
    "            if flag > 1:\n",
    "                length_list.append(float(row.split('\\t')[5]))\n",
    "                capac_list.append(float(row.split('\\t')[3]))\n",
    "                \n",
    "for idx in range(len(length_list)):\n",
    "    key = str(idx)\n",
    "    link_length_dict_Anaheim[key] = length_list[idx]\n",
    "    link_capac_dict_Anaheim[key] = capac_list[idx]\n",
    "\n",
    "with open('../temp_files/link_length_dict_Anaheim.json', 'w') as json_file:\n",
    "    json.dump(link_length_dict_Anaheim, json_file)\n",
    "    \n",
    "with open('../temp_files/link_capac_dict_Anaheim.json', 'w') as json_file:\n",
    "    json.dump(link_capac_dict_Anaheim, json_file)"
   ]
  },
  {
   "cell_type": "code",
   "execution_count": 18,
   "metadata": {
    "collapsed": false
   },
   "outputs": [],
   "source": [
    "link_label_dict = zload('../temp_files/link_label_dict_Anaheim_network.pkz')\n",
    "link_label_dict_ = zload('../temp_files/link_label_dict_Anaheim_network_.pkz')"
   ]
  },
  {
   "cell_type": "code",
   "execution_count": 19,
   "metadata": {
    "collapsed": false
   },
   "outputs": [
    {
     "data": {
      "text/plain": [
       "1.090458488"
      ]
     },
     "execution_count": 19,
     "metadata": {},
     "output_type": "execute_result"
    }
   ],
   "source": [
    "keyLink = str(link_label_dict_['1->117'])\n",
    "link_length_dict_Anaheim[keyLink]"
   ]
  },
  {
   "cell_type": "code",
   "execution_count": 20,
   "metadata": {
    "collapsed": true
   },
   "outputs": [],
   "source": [
    "# compute length of a route\n",
    "def routeLength(route):\n",
    "    link_list = []\n",
    "    node_list = []\n",
    "    for i in route.split('->'):\n",
    "        node_list.append(int(i))\n",
    "    for i in range(len(node_list))[:-1]:\n",
    "        link_list.append('%d->%d' %(node_list[i], node_list[i+1]))\n",
    "    length_of_route = sum([link_length_dict_Anaheim[str(link_label_dict_[link])] for link in link_list])\n",
    "    return length_of_route"
   ]
  },
  {
   "cell_type": "code",
   "execution_count": 21,
   "metadata": {
    "collapsed": false
   },
   "outputs": [
    {
     "data": {
      "text/plain": [
       "1.090458488"
      ]
     },
     "execution_count": 21,
     "metadata": {},
     "output_type": "execute_result"
    }
   ],
   "source": [
    "routeLength('1->117')"
   ]
  },
  {
   "cell_type": "code",
   "execution_count": 22,
   "metadata": {
    "collapsed": false,
    "scrolled": true
   },
   "outputs": [],
   "source": [
    "node_neighbors_dict;"
   ]
  },
  {
   "cell_type": "code",
   "execution_count": 23,
   "metadata": {
    "collapsed": false
   },
   "outputs": [
    {
     "data": {
      "text/plain": [
       "914"
      ]
     },
     "execution_count": 23,
     "metadata": {},
     "output_type": "execute_result"
    }
   ],
   "source": [
    "len(length_list)"
   ]
  },
  {
   "cell_type": "code",
   "execution_count": 24,
   "metadata": {
    "collapsed": false
   },
   "outputs": [],
   "source": [
    "link_list_js;"
   ]
  },
  {
   "cell_type": "code",
   "execution_count": 25,
   "metadata": {
    "collapsed": false
   },
   "outputs": [],
   "source": [
    "import networkx as nx\n",
    "\n",
    "Anaheim = nx.DiGraph()\n",
    "\n",
    "Anaheim.add_nodes_from(range(numNodes+1)[1:])\n",
    "\n",
    "Anaheim_weighted_edges = [(int(link_list_js[i].split(',')[0]), int(link_list_js[i].split(',')[1]), \\\n",
    "                           length_list[i]) for i in range(len(link_list_js))]\n",
    "\n",
    "Anaheim.add_weighted_edges_from(Anaheim_weighted_edges)\n",
    "\n",
    "path = nx.all_pairs_dijkstra_path(Anaheim)\n",
    "\n",
    "with open('../temp_files/path-link_incidence_Anaheim.txt', 'w') as the_file:\n",
    "    for od in od_pairs:\n",
    "        origi = od[0]\n",
    "        desti = od[1]\n",
    "        the_file.write('O-D pair (%s, %s):\\n'%(origi, desti))\n",
    "        route = str(path[origi][desti]).replace(\"[\", \"\").replace(\", \", \"->\").replace(\"]\", \"\")\n",
    "        the_file.write(route)\n",
    "        the_file.write('\\n')"
   ]
  },
  {
   "cell_type": "code",
   "execution_count": 26,
   "metadata": {
    "collapsed": true
   },
   "outputs": [],
   "source": [
    "with open('../temp_files/path-link_incidence_Anaheim.txt', 'r') as the_file:\n",
    "    # path counts\n",
    "    i = 0  \n",
    "    for row in the_file:\n",
    "        if '->' in row:\n",
    "            i = i + 1\n",
    "\n",
    "with open('../temp_files/numRoutes_Anaheim.json', 'w') as json_file:\n",
    "    json.dump(i, json_file)"
   ]
  },
  {
   "cell_type": "code",
   "execution_count": null,
   "metadata": {
    "collapsed": true
   },
   "outputs": [],
   "source": []
  }
 ],
 "metadata": {
  "kernelspec": {
   "display_name": "Python 2",
   "language": "python",
   "name": "python2"
  },
  "language_info": {
   "codemirror_mode": {
    "name": "ipython",
    "version": 2
   },
   "file_extension": ".py",
   "mimetype": "text/x-python",
   "name": "python",
   "nbconvert_exporter": "python",
   "pygments_lexer": "ipython2",
   "version": "2.7.12"
  }
 },
 "nbformat": 4,
 "nbformat_minor": 0
}
