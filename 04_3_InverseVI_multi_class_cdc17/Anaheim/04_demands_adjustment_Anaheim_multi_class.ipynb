{
 "cells": [
  {
   "cell_type": "code",
   "execution_count": 1,
   "metadata": {
    "collapsed": false
   },
   "outputs": [],
   "source": [
    "using PyCall\n",
    "unshift!(PyVector(pyimport(\"sys\")[\"path\"]), \"\");\n",
    "@pyimport Compute_Jacobian_Anaheim_multi_class"
   ]
  },
  {
   "cell_type": "code",
   "execution_count": 2,
   "metadata": {
    "collapsed": false
   },
   "outputs": [],
   "source": [
    "numNodes = Compute_Jacobian_Anaheim_multi_class.numNodes;\n",
    "numLinks = Compute_Jacobian_Anaheim_multi_class.numLinks;\n",
    "numODpairs = Compute_Jacobian_Anaheim_multi_class.numODpairs;\n",
    "numZones = Compute_Jacobian_Anaheim_multi_class.numZones;\n",
    "od_pairs = Compute_Jacobian_Anaheim_multi_class.od_pairs;\n",
    "link_list_js = Compute_Jacobian_Anaheim_multi_class.link_list_js;\n",
    "link_length_list = Compute_Jacobian_Anaheim_multi_class.link_length_list;"
   ]
  },
  {
   "cell_type": "code",
   "execution_count": 3,
   "metadata": {
    "collapsed": false
   },
   "outputs": [
    {
     "name": "stderr",
     "output_type": "stream",
     "text": [
      "WARNING: readall is deprecated, use readstring instead.\n",
      " in depwarn(::String, ::Symbol) at ./deprecated.jl:64\n",
      " in readall(::String, ::Vararg{String,N}) at ./deprecated.jl:30\n",
      " in furInfo() at /home/jzh/Research/Traffic/InverseVIsTraffic/04_3_InverseVI_multi_class_cdc17/Anaheim/prepare_data_Anaheim.jl:202\n",
      " in include_from_node1(::String) at ./loading.jl:488\n",
      " in include_string(::String, ::String) at ./loading.jl:441\n",
      " in execute_request(::ZMQ.Socket, ::IJulia.Msg) at /home/jzh/.julia/v0.5/IJulia/src/execute_request.jl:169\n",
      " in eventloop(::ZMQ.Socket) at /home/jzh/.julia/v0.5/IJulia/src/eventloop.jl:8\n",
      " in (::IJulia.##9#15)() at ./task.jl:360\n",
      "while loading /home/jzh/Research/Traffic/InverseVIsTraffic/04_3_InverseVI_multi_class_cdc17/Anaheim/extract_data_Anaheim.jl, in expression starting on line 10\n",
      "WARNING: readall is deprecated, use readstring instead.\n",
      " in depwarn(::String, ::Symbol) at ./deprecated.jl:64\n",
      " in readall(::String, ::Vararg{String,N}) at ./deprecated.jl:30\n",
      " in furInfo() at /home/jzh/Research/Traffic/InverseVIsTraffic/04_3_InverseVI_multi_class_cdc17/Anaheim/prepare_data_Anaheim.jl:206\n",
      " in include_from_node1(::String) at ./loading.jl:488\n",
      " in include_string(::String, ::String) at ./loading.jl:441\n",
      " in execute_request(::ZMQ.Socket, ::IJulia.Msg) at /home/jzh/.julia/v0.5/IJulia/src/execute_request.jl:169\n",
      " in eventloop(::ZMQ.Socket) at /home/jzh/.julia/v0.5/IJulia/src/eventloop.jl:8\n",
      " in (::IJulia.##9#15)() at ./task.jl:360\n",
      "while loading /home/jzh/Research/Traffic/InverseVIsTraffic/04_3_InverseVI_multi_class_cdc17/Anaheim/extract_data_Anaheim.jl, in expression starting on line 10\n",
      "WARNING: readall is deprecated, use readstring instead.\n",
      " in depwarn(::String, ::Symbol) at ./deprecated.jl:64\n",
      " in readall(::String, ::Vararg{String,N}) at ./deprecated.jl:30\n",
      " in furInfo() at /home/jzh/Research/Traffic/InverseVIsTraffic/04_3_InverseVI_multi_class_cdc17/Anaheim/prepare_data_Anaheim.jl:210\n",
      " in include_from_node1(::String) at ./loading.jl:488\n",
      " in include_string(::String, ::String) at ./loading.jl:441\n",
      " in execute_request(::ZMQ.Socket, ::IJulia.Msg) at /home/jzh/.julia/v0.5/IJulia/src/execute_request.jl:169\n",
      " in eventloop(::ZMQ.Socket) at /home/jzh/.julia/v0.5/IJulia/src/eventloop.jl:8\n",
      " in (::IJulia.##9#15)() at ./task.jl:360\n",
      "while loading /home/jzh/Research/Traffic/InverseVIsTraffic/04_3_InverseVI_multi_class_cdc17/Anaheim/extract_data_Anaheim.jl, in expression starting on line 10\n",
      "WARNING: readall is deprecated, use readstring instead.\n",
      " in depwarn(::String, ::Symbol) at ./deprecated.jl:64\n",
      " in readall(::String, ::Vararg{String,N}) at ./deprecated.jl:30\n",
      " in furInfo() at /home/jzh/Research/Traffic/InverseVIsTraffic/04_3_InverseVI_multi_class_cdc17/Anaheim/prepare_data_Anaheim.jl:213\n",
      " in include_from_node1(::String) at ./loading.jl:488\n",
      " in include_string(::String, ::String) at ./loading.jl:441\n",
      " in execute_request(::ZMQ.Socket, ::IJulia.Msg) at /home/jzh/.julia/v0.5/IJulia/src/execute_request.jl:169\n",
      " in eventloop(::ZMQ.Socket) at /home/jzh/.julia/v0.5/IJulia/src/eventloop.jl:8\n",
      " in (::IJulia.##9#15)() at ./task.jl:360\n",
      "while loading /home/jzh/Research/Traffic/InverseVIsTraffic/04_3_InverseVI_multi_class_cdc17/Anaheim/extract_data_Anaheim.jl, in expression starting on line 10\n",
      "WARNING: readall is deprecated, use readstring instead.\n",
      " in depwarn(::String, ::Symbol) at ./deprecated.jl:64\n",
      " in readall(::String, ::Vararg{String,N}) at ./deprecated.jl:30\n",
      " in furInfo() at /home/jzh/Research/Traffic/InverseVIsTraffic/04_3_InverseVI_multi_class_cdc17/Anaheim/prepare_data_Anaheim.jl:216\n",
      " in include_from_node1(::String) at ./loading.jl:488\n",
      " in include_string(::String, ::String) at ./loading.jl:441\n",
      " in execute_request(::ZMQ.Socket, ::IJulia.Msg) at /home/jzh/.julia/v0.5/IJulia/src/execute_request.jl:169\n",
      " in eventloop(::ZMQ.Socket) at /home/jzh/.julia/v0.5/IJulia/src/eventloop.jl:8\n",
      " in (::IJulia.##9#15)() at ./task.jl:360\n",
      "while loading /home/jzh/Research/Traffic/InverseVIsTraffic/04_3_InverseVI_multi_class_cdc17/Anaheim/extract_data_Anaheim.jl, in expression starting on line 10\n",
      "WARNING: readall is deprecated, use readstring instead.\n",
      " in depwarn(::String, ::Symbol) at ./deprecated.jl:64\n",
      " in readall(::String, ::Vararg{String,N}) at ./deprecated.jl:30\n",
      " in furInfo() at /home/jzh/Research/Traffic/InverseVIsTraffic/04_3_InverseVI_multi_class_cdc17/Anaheim/prepare_data_Anaheim.jl:219\n",
      " in include_from_node1(::String) at ./loading.jl:488\n",
      " in include_string(::String, ::String) at ./loading.jl:441\n",
      " in execute_request(::ZMQ.Socket, ::IJulia.Msg) at /home/jzh/.julia/v0.5/IJulia/src/execute_request.jl:169\n",
      " in eventloop(::ZMQ.Socket) at /home/jzh/.julia/v0.5/IJulia/src/eventloop.jl:8\n",
      " in (::IJulia.##9#15)() at ./task.jl:360\n",
      "while loading /home/jzh/Research/Traffic/InverseVIsTraffic/04_3_InverseVI_multi_class_cdc17/Anaheim/extract_data_Anaheim.jl, in expression starting on line 10\n",
      "WARNING: readall is deprecated, use readstring instead.\n",
      " in depwarn(::String, ::Symbol) at ./deprecated.jl:64\n",
      " in readall(::String, ::Vararg{String,N}) at ./deprecated.jl:30\n",
      " in furInfo() at /home/jzh/Research/Traffic/InverseVIsTraffic/04_3_InverseVI_multi_class_cdc17/Anaheim/prepare_data_Anaheim.jl:222\n",
      " in include_from_node1(::String) at ./loading.jl:488\n",
      " in include_string(::String, ::String) at ./loading.jl:441\n",
      " in execute_request(::ZMQ.Socket, ::IJulia.Msg) at /home/jzh/.julia/v0.5/IJulia/src/execute_request.jl:169\n",
      " in eventloop(::ZMQ.Socket) at /home/jzh/.julia/v0.5/IJulia/src/eventloop.jl:8\n",
      " in (::IJulia.##9#15)() at ./task.jl:360\n",
      "while loading /home/jzh/Research/Traffic/InverseVIsTraffic/04_3_InverseVI_multi_class_cdc17/Anaheim/extract_data_Anaheim.jl, in expression starting on line 10\n",
      "WARNING: readall is deprecated, use readstring instead.\n",
      " in depwarn(::String, ::Symbol) at ./deprecated.jl:64\n",
      " in readall(::String, ::Vararg{String,N}) at ./deprecated.jl:30\n",
      " in include_from_node1(::String) at ./loading.jl:488\n",
      " in include_string(::String, ::String) at ./loading.jl:441\n",
      " in execute_request(::ZMQ.Socket, ::IJulia.Msg) at /home/jzh/.julia/v0.5/IJulia/src/execute_request.jl:169\n",
      " in eventloop(::ZMQ.Socket) at /home/jzh/.julia/v0.5/IJulia/src/eventloop.jl:8\n",
      " in (::IJulia.##9#15)() at ./task.jl:360\n",
      "while loading /home/jzh/Research/Traffic/InverseVIsTraffic/04_3_InverseVI_multi_class_cdc17/Anaheim/extract_data_Anaheim.jl, in expression starting on line 16\n",
      "WARNING: Method definition (::Type{Graphs.KeyVertex})(Int64, #K<:Any) in module Graphs at /home/jzh/.julia/v0.5/Graphs/src/common.jl:12 overwritten at /home/jzh/.julia/v0.5/Graphs/src/common.jl:16.\n",
      "WARNING: Method definition (::Type{Graphs.Edge})(Int64, #V<:Any, #V<:Any) in module Graphs at /home/jzh/.julia/v0.5/Graphs/src/common.jl:54 overwritten at /home/jzh/.julia/v0.5/Graphs/src/common.jl:60.\n",
      "WARNING: Method definition (::Type{Graphs.ExEdge})(Int64, #V<:Any, #V<:Any, Base.Dict{String, Any}) in module Graphs at /home/jzh/.julia/v0.5/Graphs/src/common.jl:72 overwritten at /home/jzh/.julia/v0.5/Graphs/src/common.jl:83.\n",
      "WARNING: Method definition (::Type{Graphs.TargetIterator})(#G<:Graphs.AbstractGraph, #EList<:Any) in module Graphs at /home/jzh/.julia/v0.5/Graphs/src/common.jl:123 overwritten at /home/jzh/.julia/v0.5/Graphs/src/common.jl:127.\n",
      "WARNING: Method definition (::Type{Graphs.SourceIterator})(#G<:Graphs.AbstractGraph, #EList<:Any) in module Graphs at /home/jzh/.julia/v0.5/Graphs/src/common.jl:141 overwritten at /home/jzh/.julia/v0.5/Graphs/src/common.jl:145.\n",
      "WARNING: Method definition edge_property_requirement(Graphs.AbstractEdgePropertyInspector{#T<:Any}, Graphs.AbstractGraph{#V<:Any, E<:Any}) in module Graphs at /home/jzh/.julia/v0.5/Graphs/src/common.jl:164 overwritten at /home/jzh/.julia/v0.5/Graphs/src/common.jl:179.\n",
      "WARNING: Method definition vertex_index(#V<:Union{Graphs.KeyVertex, Graphs.ExVertex}, Graphs.GenericGraph{#V<:Union{Graphs.KeyVertex, Graphs.ExVertex}, E<:Any, VList<:Any, EList<:Any, IncList<:Any}) in module Graphs at /home/jzh/.julia/v0.5/Graphs/src/graph.jl:65 overwritten at /home/jzh/.julia/v0.5/Graphs/src/graph.jl:67.\n",
      "WARNING: Method definition (::Type{Graphs.GDistanceVisitor})(#G<:Graphs.AbstractGraph, #DMap<:Any) in module Graphs at /home/jzh/.julia/v0.5/Graphs/src/breadth_first_visit.jl:107 overwritten at /home/jzh/.julia/v0.5/Graphs/src/breadth_first_visit.jl:111.\n"
     ]
    }
   ],
   "source": [
    "include(\"../../Julia_files/initia_data.jl\");\n",
    "include(\"prepare_data_Anaheim.jl\");\n",
    "include(\"extract_data_Anaheim.jl\");\n",
    "include(\"../../Julia_files/tap_MSA_multi_class.jl\");\n",
    "include(\"../../Julia_files/inverseVI_multi_class.jl\");\n",
    "include(\"../../Julia_files/demands_adjustment_gradi_multi_class.jl\");"
   ]
  },
  {
   "cell_type": "code",
   "execution_count": 4,
   "metadata": {
    "collapsed": false
   },
   "outputs": [
    {
     "data": {
      "text/plain": [
       "Dict{Any,Any} with 1444 entries:\n",
       "  (8,23)  => 0.178372\n",
       "  (21,13) => 4.87443\n",
       "  (23,10) => 2.20033\n",
       "  (30,38) => 21.0584\n",
       "  (9,34)  => 8.32356\n",
       "  (12,27) => 0.430612\n",
       "  (27,32) => 1.83572\n",
       "  (4,5)   => 122.965\n",
       "  (18,21) => 13.0753\n",
       "  (30,21) => 17.7529\n",
       "  (36,35) => 2.55001\n",
       "  (37,37) => 0\n",
       "  (11,32) => 0.941866\n",
       "  (1,33)  => 15.6675\n",
       "  (3,38)  => 21.2042\n",
       "  (6,18)  => 29.2436\n",
       "  (36,8)  => 0.207484\n",
       "  (1,22)  => 12.7339\n",
       "  (24,31) => 2.38991\n",
       "  (19,26) => 0.684418\n",
       "  (36,4)  => 12.2662\n",
       "  (36,25) => 13.6306\n",
       "  (33,33) => 0\n",
       "  (13,19) => 0.208041\n",
       "  (7,19)  => 15.1477\n",
       "  ⋮       => ⋮"
      ]
     },
     "execution_count": 4,
     "metadata": {},
     "output_type": "execute_result"
    }
   ],
   "source": [
    "demandsDictCar[0] = demandsDict[0][\"car\"]\n",
    "demandsDictCar[1] = demandsDict[1][\"car\"]\n",
    "demandsDictTruck[0] = demandsDict[0][\"truck\"]\n",
    "demandsDictTruck[1] = demandsDict[1][\"truck\"]"
   ]
  },
  {
   "cell_type": "code",
   "execution_count": 5,
   "metadata": {
    "collapsed": false
   },
   "outputs": [],
   "source": [
    "demandsDiffDictCar[1] = norm(demandsDicToVec(demandsDictCar[1]) - demandsDicToVec(demandsDictCar[0]))/\n",
    "norm(demandsDicToVec(demandsDictCar[0]));\n",
    "\n",
    "demandsDiffDictTruck[1] = norm(demandsDicToVec(demandsDictTruck[1]) - demandsDicToVec(demandsDictTruck[0]))/\n",
    "norm(demandsDicToVec(demandsDictTruck[0] ));"
   ]
  },
  {
   "cell_type": "code",
   "execution_count": 6,
   "metadata": {
    "collapsed": true
   },
   "outputs": [],
   "source": [
    "demandsVecDictCar[0] = demandsDicToVec(demandsDictCar[0]);\n",
    "demandsVecDictTruck[0] = demandsDicToVec(demandsDictTruck[0]);"
   ]
  },
  {
   "cell_type": "code",
   "execution_count": 7,
   "metadata": {
    "collapsed": false
   },
   "outputs": [
    {
     "data": {
      "text/plain": [
       "Dict{Any,Any} with 1 entry:\n",
       "  0 => [1092.72,325.92,689.12,283.52,436.08,345.2,0.8,45.44,60.24,0.8  …  14.88…"
      ]
     },
     "execution_count": 7,
     "metadata": {},
     "output_type": "execute_result"
    }
   ],
   "source": [
    "demandsVecDictCar"
   ]
  },
  {
   "cell_type": "code",
   "execution_count": 8,
   "metadata": {
    "collapsed": false
   },
   "outputs": [
    {
     "data": {
      "text/plain": [
       "Dict{Any,Any} with 1 entry:\n",
       "  0 => [273.18,81.48,172.28,70.88,109.02,86.3,0.2,11.36,15.06,0.2  …  3.72,5.44…"
      ]
     },
     "execution_count": 8,
     "metadata": {},
     "output_type": "execute_result"
    }
   ],
   "source": [
    "demandsVecDictTruck"
   ]
  },
  {
   "cell_type": "code",
   "execution_count": 9,
   "metadata": {
    "collapsed": false
   },
   "outputs": [],
   "source": [
    "fcoeffs = [1, 0, 0, 0, .15];\n",
    "\n",
    "# get observed flow vector (corresponding to ground truth demands and ground truth costs)\n",
    "tapFlowDicDict[0], tapFlowVecDict[0] = tapMSA_Multi(demandsDictCar[0], demandsDictTruck[0], fcoeffs);"
   ]
  },
  {
   "cell_type": "code",
   "execution_count": 10,
   "metadata": {
    "collapsed": false
   },
   "outputs": [
    {
     "data": {
      "text/plain": [
       "Dict{Any,Any} with 2 entries:\n",
       "  \"car\"   => Dict{Any,Any}(Pair{Any,Any}((71,255),1695.54),Pair{Any,Any}((323,3…\n",
       "  \"truck\" => Dict{Any,Any}(Pair{Any,Any}((71,255),426.628),Pair{Any,Any}((323,3…"
      ]
     },
     "execution_count": 10,
     "metadata": {},
     "output_type": "execute_result"
    }
   ],
   "source": [
    "tapFlowDicDict[0]"
   ]
  },
  {
   "cell_type": "code",
   "execution_count": 11,
   "metadata": {
    "collapsed": false
   },
   "outputs": [
    {
     "data": {
      "text/plain": [
       "2×914 Array{Float64,2}:\n",
       " 5659.92  7730.0  6135.2  9739.04  2069.44  …  956.96  919.44  310.32  1218.0\n",
       " 1414.98  1932.5  1533.8  2434.76   517.36     239.24  229.86   77.58   304.5"
      ]
     },
     "execution_count": 11,
     "metadata": {},
     "output_type": "execute_result"
    }
   ],
   "source": [
    "tapFlowVecDict[0]"
   ]
  },
  {
   "cell_type": "code",
   "execution_count": 12,
   "metadata": {
    "collapsed": false
   },
   "outputs": [],
   "source": [
    "# get arcs data corresponding to ground truth demands and flows\n",
    "arcsDict[0] = observFlow(\"./data_Anaheim/Anaheim_net.txt\", tapFlowDicDict[0]);"
   ]
  },
  {
   "cell_type": "code",
   "execution_count": 13,
   "metadata": {
    "collapsed": false
   },
   "outputs": [
    {
     "data": {
      "text/plain": [
       "Dict{Any,Any} with 914 entries:\n",
       "  (71,255)  => Arc(71,255,1800.0,0.5,2548.79,1695.54,426.628)\n",
       "  (323,324) => Arc(323,324,5400.0,0.5,1325.57,883.196,221.186)\n",
       "  (354,353) => Arc(354,353,5400.0,1.0,0.199,0.0,0.0995)\n",
       "  (60,230)  => Arc(60,230,9000.0,0.333333,2547.6,1697.67,424.963)\n",
       "  (223,346) => Arc(223,346,1800.0,0.5,1678.66,1118.62,280.024)\n",
       "  (147,146) => Arc(147,146,7200.0,0.763321,4091.86,2733.45,679.206)\n",
       "  (337,33)  => Arc(337,33,12600.0,0.149068,7126.09,4721.31,1202.39)\n",
       "  (366,365) => Arc(366,365,5400.0,0.5,1231.08,820.727,205.178)\n",
       "  (390,375) => Arc(390,375,5400.0,2.0,0.02376,0.02376,0.0)\n",
       "  (315,316) => Arc(315,316,5400.0,2.57992,0.0,0.0,0.0)\n",
       "  (198,197) => Arc(198,197,7200.0,0.152623,7068.75,4611.41,1228.67)\n",
       "  (333,334) => Arc(333,334,5400.0,0.420076,1762.54,1175.21,293.663)\n",
       "  (367,368) => Arc(367,368,5400.0,0.720076,159.766,106.511,26.6276)\n",
       "  (244,339) => Arc(244,339,1800.0,0.5,2267.03,1509.58,378.724)\n",
       "  (274,41)  => Arc(274,41,5400.0,1.0,0.0,0.0,0.0)\n",
       "  (225,330) => Arc(225,330,1800.0,0.5,1197.25,798.163,199.541)\n",
       "  (49,369)  => Arc(49,369,5400.0,1.0,0.0,0.0,0.0)\n",
       "  (274,275) => Arc(274,275,5400.0,2.0,601.92,401.28,100.32)\n",
       "  (15,254)  => Arc(15,254,5400.0,1.0,488.52,325.68,81.42)\n",
       "  (226,225) => Arc(226,225,9000.0,0.937836,6171.22,4114.15,1028.53)\n",
       "  (218,392) => Arc(218,392,1800.0,0.5,517.575,344.935,86.32)\n",
       "  (323,322) => Arc(323,322,5400.0,2.0,2031.12,1354.08,338.52)\n",
       "  (203,202) => Arc(203,202,7200.0,0.272615,4531.02,2994.24,768.39)\n",
       "  (367,384) => Arc(367,384,5400.0,2.27992,0.0,0.0,0.0)\n",
       "  (135,298) => Arc(135,298,1800.0,0.5,336.782,224.6,56.0909)\n",
       "  ⋮         => ⋮"
      ]
     },
     "execution_count": 13,
     "metadata": {},
     "output_type": "execute_result"
    }
   ],
   "source": [
    "arcsDict[0]"
   ]
  },
  {
   "cell_type": "code",
   "execution_count": 14,
   "metadata": {
    "collapsed": false
   },
   "outputs": [
    {
     "name": "stderr",
     "output_type": "stream",
     "text": [
      "WARNING: Force throwing a SIGINT\n"
     ]
    },
    {
     "ename": "LoadError",
     "evalue": "LoadError: InterruptException:\nwhile loading In[14], in expression starting on line 5",
     "output_type": "error",
     "traceback": [
      "LoadError: InterruptException:\nwhile loading In[14], in expression starting on line 5",
      "",
      " in optimize(::Gurobi.Model) at /home/jzh/.julia/v0.5/Gurobi/src/grb_solve.jl:5",
      " in optimize!(::Gurobi.GurobiMathProgModel) at /home/jzh/.julia/v0.5/Gurobi/src/GurobiSolverInterface.jl:291",
      " in #solve#88(::Bool, ::Bool, ::Bool, ::Array{Any,1}, ::Function, ::JuMP.Model) at /home/jzh/.julia/v0.5/JuMP/src/solvers.jl:141",
      " in train(::Float64, ::Int64, ::Float64, ::Dict{Any,Any}, ::Dict{Any,Any}, ::Dict{Any,Any}) at /home/jzh/Research/Traffic/InverseVIsTraffic/Julia_files/inverseVI_multi_class.jl:117"
     ]
    }
   ],
   "source": [
    "deg = 6\n",
    "c = 1.5\n",
    "lam = 0.1\n",
    "\n",
    "coeffs_dict[(deg, c, lam, 1)], objInvVIDict[1] = train(lam, deg, c, demandsDictCar[0], demandsDictTruck[0], \n",
    "arcsDict[0]);"
   ]
  },
  {
   "cell_type": "code",
   "execution_count": 15,
   "metadata": {
    "collapsed": false
   },
   "outputs": [
    {
     "ename": "LoadError",
     "evalue": "LoadError: InitError: InterruptException:\nduring initialization of module PyPlot\nwhile loading In[15], in expression starting on line 1",
     "output_type": "error",
     "traceback": [
      "LoadError: InitError: InterruptException:\nduring initialization of module PyPlot\nwhile loading In[15], in expression starting on line 1",
      "",
      " in _include_from_serialized(::String) at ./loading.jl:150",
      " in _require_from_serialized(::Int64, ::Symbol, ::String, ::Bool) at ./loading.jl:187",
      " in _require_search_from_serialized(::Int64, ::Symbol, ::String, ::Bool) at ./loading.jl:217",
      " in require(::Symbol) at ./loading.jl:371"
     ]
    }
   ],
   "source": [
    "using PyPlot\n",
    "\n",
    "iterN = 1\n",
    "\n",
    "true_coeffs = [1, 0, 0, 0, .15]\n",
    "# true_coeffs = [1, .2, .5, .8, .15]\n",
    "\n",
    "est_coeffs = coeffs_dict[(deg, c, lam, iterN)]\n",
    "\n",
    "xs = linspace(0, 2, 20)\n",
    "zs_true = map(x->polyEval(true_coeffs, x), xs)\n",
    "\n",
    "zs = map(x->polyEval(est_coeffs, x), xs)\n",
    "\n",
    "plot(xs, zs_true, \"^-g\", label=\"ground truth\")\n",
    "plot(xs, zs, \"<-r\", label=\"estimation\")\n",
    "\n",
    "legend(loc=\"upper left\",fancybox=\"true\") \n",
    "# plot(xs, ys, \"--b\")\n",
    "grid(\"on\")\n",
    "xlim(-0.1, 2.1);\n",
    "ylim(0.9, 3.5);\n",
    "\n",
    "font1 = [\"family\"=>\"serif\", \"color\"=>\"darkred\", \"weight\"=>\"normal\", \"size\"=>14]\n",
    "xlabel(\"Scaled Flow\", fontdict=font1)\n",
    "ylabel(\"Scaled Cost\", fontdict=font1)\n",
    "\n",
    "savefig(\"./results/fitting_Anaheim_iter_$(iterN)_multi_class.pdf\")"
   ]
  },
  {
   "cell_type": "code",
   "execution_count": 16,
   "metadata": {
    "collapsed": false
   },
   "outputs": [],
   "source": [
    "# outfile = open(\"./results/tapFlowVecDict.json\", \"w\")\n",
    "\n",
    "# JSON.print(outfile, tapFlowVecDict)\n",
    "\n",
    "# close(outfile)"
   ]
  }
 ],
 "metadata": {
  "kernelspec": {
   "display_name": "Julia 0.5.0",
   "language": "julia",
   "name": "julia-0.5"
  },
  "language_info": {
   "file_extension": ".jl",
   "mimetype": "application/julia",
   "name": "julia",
   "version": "0.5.0"
  }
 },
 "nbformat": 4,
 "nbformat_minor": 0
}
