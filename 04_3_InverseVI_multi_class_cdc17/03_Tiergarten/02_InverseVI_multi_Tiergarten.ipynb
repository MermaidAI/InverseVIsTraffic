{
 "cells": [
  {
   "cell_type": "code",
   "execution_count": 1,
   "metadata": {
    "collapsed": false
   },
   "outputs": [],
   "source": [
    "using PyCall\n",
    "unshift!(PyVector(pyimport(\"sys\")[\"path\"]), \"\");\n",
    "@pyimport Compute_Jacobian_Tiergarten_multi_class"
   ]
  },
  {
   "cell_type": "code",
   "execution_count": 2,
   "metadata": {
    "collapsed": false
   },
   "outputs": [],
   "source": [
    "numNodes = Compute_Jacobian_Tiergarten_multi_class.numNodes;\n",
    "numLinks = Compute_Jacobian_Tiergarten_multi_class.numLinks;\n",
    "numODpairs = Compute_Jacobian_Tiergarten_multi_class.numODpairs;\n",
    "numZones = Compute_Jacobian_Tiergarten_multi_class.numZones;\n",
    "od_pairs = Compute_Jacobian_Tiergarten_multi_class.od_pairs;\n",
    "link_list_js = Compute_Jacobian_Tiergarten_multi_class.link_list_js;\n",
    "link_length_list = Compute_Jacobian_Tiergarten_multi_class.link_length_list;"
   ]
  },
  {
   "cell_type": "code",
   "execution_count": 3,
   "metadata": {
    "collapsed": false
   },
   "outputs": [
    {
     "name": "stderr",
     "output_type": "stream",
     "text": [
      "WARNING: Method definition (::Type{Graphs.KeyVertex})(Int64, #K<:Any) in module Graphs at /home/jzh/.julia/v0.5/Graphs/src/common.jl:12 overwritten at /home/jzh/.julia/v0.5/Graphs/src/common.jl:16.\n",
      "WARNING: Method definition (::Type{Graphs.Edge})(Int64, #V<:Any, #V<:Any) in module Graphs at /home/jzh/.julia/v0.5/Graphs/src/common.jl:54 overwritten at /home/jzh/.julia/v0.5/Graphs/src/common.jl:60.\n",
      "WARNING: Method definition (::Type{Graphs.ExEdge})(Int64, #V<:Any, #V<:Any, Base.Dict{String, Any}) in module Graphs at /home/jzh/.julia/v0.5/Graphs/src/common.jl:72 overwritten at /home/jzh/.julia/v0.5/Graphs/src/common.jl:83.\n",
      "WARNING: Method definition (::Type{Graphs.TargetIterator})(#G<:Graphs.AbstractGraph, #EList<:Any) in module Graphs at /home/jzh/.julia/v0.5/Graphs/src/common.jl:123 overwritten at /home/jzh/.julia/v0.5/Graphs/src/common.jl:127.\n",
      "WARNING: Method definition (::Type{Graphs.SourceIterator})(#G<:Graphs.AbstractGraph, #EList<:Any) in module Graphs at /home/jzh/.julia/v0.5/Graphs/src/common.jl:141 overwritten at /home/jzh/.julia/v0.5/Graphs/src/common.jl:145.\n",
      "WARNING: Method definition edge_property_requirement(Graphs.AbstractEdgePropertyInspector{#T<:Any}, Graphs.AbstractGraph{#V<:Any, E<:Any}) in module Graphs at /home/jzh/.julia/v0.5/Graphs/src/common.jl:164 overwritten at /home/jzh/.julia/v0.5/Graphs/src/common.jl:179.\n",
      "WARNING: Method definition vertex_index(#V<:Union{Graphs.KeyVertex, Graphs.ExVertex}, Graphs.GenericGraph{#V<:Union{Graphs.KeyVertex, Graphs.ExVertex}, E<:Any, VList<:Any, EList<:Any, IncList<:Any}) in module Graphs at /home/jzh/.julia/v0.5/Graphs/src/graph.jl:65 overwritten at /home/jzh/.julia/v0.5/Graphs/src/graph.jl:67.\n",
      "WARNING: Method definition (::Type{Graphs.GDistanceVisitor})(#G<:Graphs.AbstractGraph, #DMap<:Any) in module Graphs at /home/jzh/.julia/v0.5/Graphs/src/breadth_first_visit.jl:107 overwritten at /home/jzh/.julia/v0.5/Graphs/src/breadth_first_visit.jl:111.\n"
     ]
    }
   ],
   "source": [
    "include(\"../../Julia_files/initia_data.jl\");\n",
    "include(\"prepare_data_Tiergarten.jl\");\n",
    "include(\"extract_data_Tiergarten.jl\");\n",
    "include(\"../../Julia_files/tap_MSA_multi_class.jl\");\n",
    "include(\"../../Julia_files/inverseVI_multi_class.jl\");\n",
    "include(\"../../Julia_files/demands_adjustment_gradi_multi_class.jl\");"
   ]
  },
  {
   "cell_type": "code",
   "execution_count": 4,
   "metadata": {
    "collapsed": false
   },
   "outputs": [],
   "source": [
    "demandsDictCar[0] = demandsDict[0][\"car\"];\n",
    "demandsDictCar[1] = demandsDict[1][\"car\"];\n",
    "demandsDictTruck[0] = demandsDict[0][\"truck\"];\n",
    "demandsDictTruck[1] = demandsDict[1][\"truck\"];"
   ]
  },
  {
   "cell_type": "code",
   "execution_count": 5,
   "metadata": {
    "collapsed": false
   },
   "outputs": [],
   "source": [
    "demandsDiffDictCar[1] = norm(demandsDicToVec(demandsDictCar[1]) - demandsDicToVec(demandsDictCar[0]))/\n",
    "norm(demandsDicToVec(demandsDictCar[0]));\n",
    "\n",
    "demandsDiffDictTruck[1] = norm(demandsDicToVec(demandsDictTruck[1]) - demandsDicToVec(demandsDictTruck[0]))/\n",
    "norm(demandsDicToVec(demandsDictTruck[0]));"
   ]
  },
  {
   "cell_type": "code",
   "execution_count": 6,
   "metadata": {
    "collapsed": false
   },
   "outputs": [],
   "source": [
    "demandsVecDictCar[0] = demandsDicToVec(demandsDictCar[0]);\n",
    "demandsVecDictTruck[0] = demandsDicToVec(demandsDictTruck[0]);"
   ]
  },
  {
   "cell_type": "code",
   "execution_count": 7,
   "metadata": {
    "collapsed": false
   },
   "outputs": [
    {
     "data": {
      "text/plain": [
       "Dict{Any,Any} with 1 entry:\n",
       "  0 => [18.072,14.656,17.456,12.176,2.984,0.08,0.248,0.976,0.416,0.168  …  5.99…"
      ]
     },
     "execution_count": 7,
     "metadata": {},
     "output_type": "execute_result"
    }
   ],
   "source": [
    "demandsVecDictCar"
   ]
  },
  {
   "cell_type": "code",
   "execution_count": 8,
   "metadata": {
    "collapsed": false
   },
   "outputs": [
    {
     "data": {
      "text/plain": [
       "Dict{Any,Any} with 1 entry:\n",
       "  0 => [4.518,3.664,4.364,3.044,0.746,0.02,0.062,0.244,0.104,0.042  …  1.498,2.…"
      ]
     },
     "execution_count": 8,
     "metadata": {},
     "output_type": "execute_result"
    }
   ],
   "source": [
    "demandsVecDictTruck"
   ]
  },
  {
   "cell_type": "code",
   "execution_count": 9,
   "metadata": {
    "collapsed": false
   },
   "outputs": [],
   "source": [
    "fcoeffs = [1, 0, 0, 0, 1];\n",
    "\n",
    "# get observed flow vector (corresponding to ground truth demands and ground truth costs)\n",
    "tapFlowDicDict[0], tapFlowVecDict[0] = tapMSA_Multi(demandsDictCar[0], demandsDictTruck[0], fcoeffs);"
   ]
  },
  {
   "cell_type": "code",
   "execution_count": 10,
   "metadata": {
    "collapsed": false
   },
   "outputs": [
    {
     "data": {
      "text/plain": [
       "Dict{Any,Any} with 2 entries:\n",
       "  \"car\"   => Dict{Any,Any}(Pair{Any,Any}((248,65),395.656),Pair{Any,Any}((137,1…\n",
       "  \"truck\" => Dict{Any,Any}(Pair{Any,Any}((248,65),98.914),Pair{Any,Any}((137,10…"
      ]
     },
     "execution_count": 10,
     "metadata": {},
     "output_type": "execute_result"
    }
   ],
   "source": [
    "tapFlowDicDict[0]"
   ]
  },
  {
   "cell_type": "code",
   "execution_count": 11,
   "metadata": {
    "collapsed": false
   },
   "outputs": [
    {
     "data": {
      "text/plain": [
       "2×766 Array{Float64,2}:\n",
       " 32.9041  118.439   612.298  0.0  547.093   …  3.17326   29.9437   58.9791\n",
       "  8.224    29.6097  152.431  0.0   97.4636     0.793226   7.48221  14.7385"
      ]
     },
     "execution_count": 11,
     "metadata": {},
     "output_type": "execute_result"
    }
   ],
   "source": [
    "tapFlowVecDict[0]"
   ]
  },
  {
   "cell_type": "code",
   "execution_count": 12,
   "metadata": {
    "collapsed": false
   },
   "outputs": [],
   "source": [
    "# get arcs data corresponding to ground truth demands and flows\n",
    "arcsDict[0] = observFlow(\"./data_Tiergarten/Tiergarten_net.txt\", tapFlowDicDict[0]);"
   ]
  },
  {
   "cell_type": "code",
   "execution_count": 13,
   "metadata": {
    "collapsed": false
   },
   "outputs": [
    {
     "data": {
      "text/plain": [
       "Dict{Any,Any} with 766 entries:\n",
       "  (248,65)  => Arc(248,65,900.0,17.0,593.484,395.656,98.914)\n",
       "  (137,106) => Arc(137,106,2800.0,1.66667,268.764,179.176,44.794)\n",
       "  (267,256) => Arc(267,256,2400.0,7.33333,104.42,69.6041,17.4079)\n",
       "  (354,353) => Arc(354,353,900.0,1.0,344.967,229.883,57.5423)\n",
       "  (56,55)   => Arc(56,55,600.0,0.333333,0.0,0.0,0.0)\n",
       "  (259,255) => Arc(259,255,2400.0,0.666667,0.0,0.0,0.0)\n",
       "  (125,177) => Arc(125,177,900.0,1.66667,0.0,0.0,0.0)\n",
       "  (36,35)   => Arc(36,35,2800.0,0.333333,23.5704,15.7155,3.92747)\n",
       "  (183,184) => Arc(183,184,900.0,0.333333,0.0,0.0,0.0)\n",
       "  (43,361)  => Arc(43,361,2800.0,12.6667,7.81583,5.21975,1.29804)\n",
       "  (16,277)  => Arc(16,277,999999.0,0.0,1833.91,1221.37,306.267)\n",
       "  (298,307) => Arc(298,307,2400.0,1.0,1799.71,1200.47,299.619)\n",
       "  (31,34)   => Arc(31,34,2800.0,0.666667,130.308,86.8762,21.7158)\n",
       "  (187,191) => Arc(187,191,600.0,0.666667,274.182,182.788,45.6969)\n",
       "  (241,244) => Arc(241,244,2400.0,0.333333,0.0,0.0,0.0)\n",
       "  (84,95)   => Arc(84,95,900.0,2.33333,0.0,0.0,0.0)\n",
       "  (221,2)   => Arc(221,2,999999.0,0.0,940.178,569.63,185.274)\n",
       "  (23,351)  => Arc(23,351,999999.0,0.0,0.0,0.0,0.0)\n",
       "  (159,200) => Arc(159,200,2400.0,12.6667,1.05114,1.05114,0.0)\n",
       "  (96,92)   => Arc(96,92,900.0,2.0,0.0,0.0,0.0)\n",
       "  (35,39)   => Arc(35,39,2800.0,0.333333,4.75971,3.17326,0.793226)\n",
       "  (24,243)  => Arc(24,243,999999.0,0.0,0.0,0.0,0.0)\n",
       "  (28,32)   => Arc(28,32,2800.0,3.66667,219.384,146.256,36.564)\n",
       "  (151,17)  => Arc(151,17,999999.0,0.0,1072.9,715.381,178.758)\n",
       "  (107,84)  => Arc(107,84,900.0,0.333333,155.909,103.939,25.9848)\n",
       "  ⋮         => ⋮"
      ]
     },
     "execution_count": 13,
     "metadata": {},
     "output_type": "execute_result"
    }
   ],
   "source": [
    "arcsDict[0]"
   ]
  },
  {
   "cell_type": "code",
   "execution_count": 14,
   "metadata": {
    "collapsed": false
   },
   "outputs": [],
   "source": [
    "deg_list = [3, 4, 5, 6]\n",
    "c_list = [0.5, 1.0, 1.5]\n",
    "lam_list = [0.01, 0.1, 1.0, 10.0, 100.0]\n",
    "\n",
    "for deg in deg_list\n",
    "    for c in c_list\n",
    "        for lam in lam_list\n",
    "            coeffs_dict[(deg, c, lam, 1)], objInvVIDict[1] = train(lam, deg, c, demandsDictCar[0], \n",
    "            demandsDictTruck[0], arcsDict[0]);\n",
    "        end\n",
    "    end\n",
    "end"
   ]
  },
  {
   "cell_type": "code",
   "execution_count": 15,
   "metadata": {
    "collapsed": false
   },
   "outputs": [],
   "source": [
    "outfile = open(\"./results_Tiergarten/coeffs_dict_Tiergarten.json\", \"w\")\n",
    "\n",
    "JSON.print(outfile, coeffs_dict)\n",
    "\n",
    "close(outfile)"
   ]
  }
 ],
 "metadata": {
  "anaconda-cloud": {},
  "kernelspec": {
   "display_name": "Julia 0.5.0",
   "language": "julia",
   "name": "julia-0.5"
  },
  "language_info": {
   "file_extension": ".jl",
   "mimetype": "application/julia",
   "name": "julia",
   "version": "0.5.0"
  }
 },
 "nbformat": 4,
 "nbformat_minor": 0
}
