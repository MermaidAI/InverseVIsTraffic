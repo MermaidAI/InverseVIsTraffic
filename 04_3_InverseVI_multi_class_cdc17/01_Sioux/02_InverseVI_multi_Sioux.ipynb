{
 "cells": [
  {
   "cell_type": "code",
   "execution_count": 1,
   "metadata": {
    "collapsed": false
   },
   "outputs": [
    {
     "data": {
      "text/plain": [
       "tapFlowVecToLinkCostDict (generic function with 1 method)"
      ]
     },
     "execution_count": 1,
     "metadata": {},
     "output_type": "execute_result"
    }
   ],
   "source": [
    "include(\"prepare_data_Sioux.jl\")"
   ]
  },
  {
   "cell_type": "code",
   "execution_count": 2,
   "metadata": {
    "collapsed": false
   },
   "outputs": [
    {
     "data": {
      "text/plain": [
       "train (generic function with 1 method)"
      ]
     },
     "execution_count": 2,
     "metadata": {},
     "output_type": "execute_result"
    }
   ],
   "source": [
    "include(\"../../Julia_files/inverseVI_multi_class.jl\")"
   ]
  },
  {
   "cell_type": "code",
   "execution_count": 3,
   "metadata": {
    "collapsed": true
   },
   "outputs": [],
   "source": [
    "#Read in the demand file\n",
    "\n",
    "file = open(\"../../data_original/SiouxFalls_trips.txt\")\n",
    "\n",
    "demands = Dict()\n",
    "demands_car = Dict()\n",
    "demands_truck = Dict()\n",
    "\n",
    "s = 0\n",
    "for line in eachline(file)\n",
    "    if contains(line, \"Origin\")\n",
    "        s = parse(Int, split(line)[2])\n",
    "    else\n",
    "        pairs = split(line, \";\")\n",
    "        for pair in pairs\n",
    "            if !contains(pair, \"\\n\")\n",
    "                pair_vals = split(pair, \":\")\n",
    "                t, demand = parse(Int, pair_vals[1]), parse(Float64, pair_vals[2])\n",
    "                demands[(s,t)] = demand\n",
    "                demands_car[(s,t)] = demand * .8\n",
    "                demands_truck[(s,t)] = demand * .2\n",
    "            end\n",
    "        end\n",
    "    end\n",
    "end\n",
    "\n",
    "close(file)"
   ]
  },
  {
   "cell_type": "code",
   "execution_count": 4,
   "metadata": {
    "collapsed": false
   },
   "outputs": [],
   "source": [
    "#read in the arc file\n",
    "\n",
    "arcs = arcData(\"./data_Sioux/SiouxFalls_net.txt\");"
   ]
  },
  {
   "cell_type": "code",
   "execution_count": 5,
   "metadata": {
    "collapsed": true
   },
   "outputs": [],
   "source": [
    "tap_flows = readstring(\"./data_Sioux/SiouxFalls_flows.json\");\n",
    "tap_flows = JSON.parse(tap_flows);"
   ]
  },
  {
   "cell_type": "code",
   "execution_count": 6,
   "metadata": {
    "collapsed": false
   },
   "outputs": [],
   "source": [
    "#read in the car flows and truck flows\n",
    "\n",
    "for key in keys(tap_flows[\"car\"])\n",
    "    key_ = (parse(Int, split(split(key, \",\")[1], \"(\")[2]),parse(Int, split(split(key, \",\")[2], \")\")[1]))\n",
    "    arcs[key_].flow_car = tap_flows[\"car\"][key]\n",
    "    arcs[key_].flow_truck = tap_flows[\"truck\"][key]\n",
    "end\n",
    "\n",
    "\n",
    "#calculate the total flow on each link\n",
    "\n",
    "for (s,t) in keys(arcs)\n",
    "    arcs[(s,t)].flow = 1.0 * arcs[(s,t)].flow_car + 2.0 * arcs[(s,t)].flow_truck\n",
    "end"
   ]
  },
  {
   "cell_type": "code",
   "execution_count": 7,
   "metadata": {
    "collapsed": false
   },
   "outputs": [],
   "source": [
    "coeffs_dict = Dict()\n",
    "\n",
    "deg_list = [3, 4, 5, 6]\n",
    "c_list = [0.5, 1.0, 1.5]\n",
    "lam_list = [0.01, 0.1, 1.0, 10.0, 100.0]\n",
    "\n",
    "for deg in deg_list\n",
    "    for c in c_list\n",
    "        for lam in lam_list\n",
    "            coeffs_dict[(deg, c, lam)], _ = train(lam, deg, c, demands_car, demands_truck, arcs)\n",
    "        end\n",
    "    end\n",
    "end"
   ]
  },
  {
   "cell_type": "code",
   "execution_count": 8,
   "metadata": {
    "collapsed": false
   },
   "outputs": [],
   "source": [
    "outfile = open(\"./results_Sioux/coeffs_dict_Sioux.json\", \"w\")\n",
    "\n",
    "JSON.print(outfile, coeffs_dict)\n",
    "\n",
    "close(outfile)"
   ]
  }
 ],
 "metadata": {
  "anaconda-cloud": {},
  "kernelspec": {
   "display_name": "Julia 0.5.0",
   "language": "julia",
   "name": "julia-0.5"
  },
  "language_info": {
   "file_extension": ".jl",
   "mimetype": "application/julia",
   "name": "julia",
   "version": "0.5.0"
  }
 },
 "nbformat": 4,
 "nbformat_minor": 0
}
