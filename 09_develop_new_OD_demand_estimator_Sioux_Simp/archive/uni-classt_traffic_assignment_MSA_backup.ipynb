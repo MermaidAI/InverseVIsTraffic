{
 "cells": [
  {
   "cell_type": "code",
   "execution_count": 1,
   "metadata": {
    "collapsed": false
   },
   "outputs": [],
   "source": [
    "# based on https://github.com/chkwon/TrafficAssignment.jl"
   ]
  },
  {
   "cell_type": "code",
   "execution_count": 2,
   "metadata": {
    "collapsed": false
   },
   "outputs": [
    {
     "data": {
      "text/plain": [
       "load_ta_network (generic function with 2 methods)"
      ]
     },
     "execution_count": 2,
     "metadata": {},
     "output_type": "execute_result"
    }
   ],
   "source": [
    "include(\"load_network_uni-class.jl\")"
   ]
  },
  {
   "cell_type": "code",
   "execution_count": 3,
   "metadata": {
    "collapsed": false
   },
   "outputs": [
    {
     "data": {
      "text/plain": [
       "create_graph (generic function with 1 method)"
      ]
     },
     "execution_count": 3,
     "metadata": {},
     "output_type": "execute_result"
    }
   ],
   "source": [
    "using Graphs\n",
    "\n",
    "function create_graph(start_node, end_node)\n",
    "    @assert Base.length(start_node)==Base.length(end_node)\n",
    "\n",
    "    no_node = max(maximum(start_node), maximum(end_node))\n",
    "    no_arc = Base.length(start_node)\n",
    "\n",
    "    graph = simple_inclist(no_node)\n",
    "    for i=1:no_arc\n",
    "        add_edge!(graph, start_node[i], end_node[i])\n",
    "    end\n",
    "    return graph\n",
    "end"
   ]
  },
  {
   "cell_type": "code",
   "execution_count": 4,
   "metadata": {
    "collapsed": false
   },
   "outputs": [
    {
     "data": {
      "text/plain": [
       "get_vector (generic function with 1 method)"
      ]
     },
     "execution_count": 4,
     "metadata": {},
     "output_type": "execute_result"
    }
   ],
   "source": [
    "function get_vector(state, origin, destination, link_dic)\n",
    "    current = destination\n",
    "    parent = -1\n",
    "    x = zeros(Int, maximum(link_dic))\n",
    "\n",
    "    while parent != origin\n",
    "        parent = state.parents[current]\n",
    "\n",
    "        link_idx = link_dic[parent,current]\n",
    "\n",
    "        if link_idx != 0\n",
    "            x[link_idx] = 1\n",
    "        end\n",
    "\n",
    "        current = parent\n",
    "    end\n",
    "\n",
    "    return x\n",
    "end"
   ]
  },
  {
   "cell_type": "code",
   "execution_count": 5,
   "metadata": {
    "collapsed": false
   },
   "outputs": [
    {
     "data": {
      "text/plain": [
       "TA_Data(\"Sioux Falls\",24,24,1,76,[1,1,2,2,3,3,3,4,4,4  …  22,22,22,22,23,23,23,24,24,24],[2,3,1,6,1,4,12,3,5,11  …  15,20,21,23,14,22,24,13,21,23],[25900.2,23403.5,25900.2,4958.18,23403.5,17110.5,23403.5,17110.5,17782.8,4908.83  …  9599.18,5075.7,5229.91,5000.0,4924.79,5000.0,5078.51,5091.26,4885.36,5078.51],[6.0,4.0,6.0,5.0,4.0,4.0,4.0,4.0,2.0,6.0  …  3.0,5.0,2.0,4.0,4.0,4.0,2.0,4.0,3.0,2.0],[6.0,4.0,6.0,5.0,4.0,4.0,4.0,4.0,2.0,6.0  …  3.0,5.0,2.0,4.0,4.0,4.0,2.0,4.0,3.0,2.0],[0.15,0.15,0.15,0.15,0.15,0.15,0.15,0.15,0.15,0.15  …  0.15,0.15,0.15,0.15,0.15,0.15,0.15,0.15,0.15,0.15],[4.0,4.0,4.0,4.0,4.0,4.0,4.0,4.0,4.0,4.0  …  4.0,4.0,4.0,4.0,4.0,4.0,4.0,4.0,4.0,4.0],[0.0,0.0,0.0,0.0,0.0,0.0,0.0,0.0,0.0,0.0  …  0.0,0.0,0.0,0.0,0.0,0.0,0.0,0.0,0.0,0.0],[0.0,0.0,0.0,0.0,0.0,0.0,0.0,0.0,0.0,0.0  …  0.0,0.0,0.0,0.0,0.0,0.0,0.0,0.0,0.0,0.0],[1,1,1,1,1,1,1,1,1,1  …  1,1,1,1,1,1,1,1,1,1],360600.0,24x24 Array{Float64,2}:\n",
       "    0.0  100.0  100.0   500.0   200.0  …   100.0   400.0   300.0   100.0\n",
       "  100.0    0.0  100.0   200.0   100.0        0.0   100.0     0.0     0.0\n",
       "  100.0  100.0    0.0   200.0   100.0        0.0   100.0   100.0     0.0\n",
       "  500.0  200.0  200.0     0.0   500.0      200.0   400.0   500.0   200.0\n",
       "  200.0  100.0  100.0   500.0     0.0      100.0   200.0   100.0     0.0\n",
       "  300.0  400.0  300.0   400.0   200.0  …   100.0   200.0   100.0   100.0\n",
       "  500.0  200.0  100.0   400.0   200.0      200.0   500.0   200.0   100.0\n",
       "  800.0  400.0  200.0   700.0   500.0      400.0   500.0   300.0   200.0\n",
       "  500.0  200.0  100.0   700.0   800.0      300.0   700.0   500.0   200.0\n",
       " 1300.0  600.0  300.0  1200.0  1000.0     1200.0  2600.0  1800.0   800.0\n",
       "  500.0  200.0  300.0  1500.0   500.0  …   400.0  1100.0  1300.0   600.0\n",
       "  200.0  100.0  200.0   600.0   200.0      300.0   700.0   700.0   500.0\n",
       "  500.0  300.0  100.0   600.0   200.0      600.0  1300.0   800.0   800.0\n",
       "  300.0  100.0  100.0   500.0   100.0      400.0  1200.0  1100.0   400.0\n",
       "  500.0  100.0  100.0   500.0   200.0      800.0  2600.0  1000.0   400.0\n",
       "  500.0  400.0  200.0   800.0   500.0  …   600.0  1200.0   500.0   300.0\n",
       "  400.0  200.0  100.0   500.0   200.0      600.0  1700.0   600.0   300.0\n",
       "  100.0    0.0    0.0   100.0     0.0      100.0   300.0   100.0     0.0\n",
       "  300.0  100.0    0.0   200.0   100.0      400.0  1200.0   300.0   100.0\n",
       "  300.0  100.0    0.0   300.0   100.0     1200.0  2400.0   700.0   400.0\n",
       "  100.0    0.0    0.0   200.0   100.0  …     0.0  1800.0   700.0   500.0\n",
       "  400.0  100.0  100.0   400.0   200.0     1800.0     0.0  2100.0  1100.0\n",
       "  300.0    0.0  100.0   500.0   100.0      700.0  2100.0     0.0   700.0\n",
       "  100.0    0.0    0.0   200.0     0.0      500.0  1100.0   700.0     0.0,[(1,1),(1,2),(1,3),(1,4),(1,5),(1,6),(1,7),(1,8),(1,9),(1,10)  …  (24,15),(24,16),(24,17),(24,18),(24,19),(24,20),(24,21),(24,22),(24,23),(24,24)],0.0,0.0,0.0)"
      ]
     },
     "execution_count": 5,
     "metadata": {},
     "output_type": "execute_result"
    }
   ],
   "source": [
    "ta_data = load_ta_network(\"Sioux Falls\")"
   ]
  },
  {
   "cell_type": "code",
   "execution_count": 6,
   "metadata": {
    "collapsed": false
   },
   "outputs": [
    {
     "data": {
      "text/plain": [
       "24x24 Array{Float64,2}:\n",
       "    0.0  100.0  100.0   500.0   200.0  …   100.0   400.0   300.0   100.0\n",
       "  100.0    0.0  100.0   200.0   100.0        0.0   100.0     0.0     0.0\n",
       "  100.0  100.0    0.0   200.0   100.0        0.0   100.0   100.0     0.0\n",
       "  500.0  200.0  200.0     0.0   500.0      200.0   400.0   500.0   200.0\n",
       "  200.0  100.0  100.0   500.0     0.0      100.0   200.0   100.0     0.0\n",
       "  300.0  400.0  300.0   400.0   200.0  …   100.0   200.0   100.0   100.0\n",
       "  500.0  200.0  100.0   400.0   200.0      200.0   500.0   200.0   100.0\n",
       "  800.0  400.0  200.0   700.0   500.0      400.0   500.0   300.0   200.0\n",
       "  500.0  200.0  100.0   700.0   800.0      300.0   700.0   500.0   200.0\n",
       " 1300.0  600.0  300.0  1200.0  1000.0     1200.0  2600.0  1800.0   800.0\n",
       "  500.0  200.0  300.0  1500.0   500.0  …   400.0  1100.0  1300.0   600.0\n",
       "  200.0  100.0  200.0   600.0   200.0      300.0   700.0   700.0   500.0\n",
       "  500.0  300.0  100.0   600.0   200.0      600.0  1300.0   800.0   800.0\n",
       "  300.0  100.0  100.0   500.0   100.0      400.0  1200.0  1100.0   400.0\n",
       "  500.0  100.0  100.0   500.0   200.0      800.0  2600.0  1000.0   400.0\n",
       "  500.0  400.0  200.0   800.0   500.0  …   600.0  1200.0   500.0   300.0\n",
       "  400.0  200.0  100.0   500.0   200.0      600.0  1700.0   600.0   300.0\n",
       "  100.0    0.0    0.0   100.0     0.0      100.0   300.0   100.0     0.0\n",
       "  300.0  100.0    0.0   200.0   100.0      400.0  1200.0   300.0   100.0\n",
       "  300.0  100.0    0.0   300.0   100.0     1200.0  2400.0   700.0   400.0\n",
       "  100.0    0.0    0.0   200.0   100.0  …     0.0  1800.0   700.0   500.0\n",
       "  400.0  100.0  100.0   400.0   200.0     1800.0     0.0  2100.0  1100.0\n",
       "  300.0    0.0  100.0   500.0   100.0      700.0  2100.0     0.0   700.0\n",
       "  100.0    0.0    0.0   200.0     0.0      500.0  1100.0   700.0     0.0"
      ]
     },
     "execution_count": 6,
     "metadata": {},
     "output_type": "execute_result"
    }
   ],
   "source": [
    "ta_data.travel_demand"
   ]
  },
  {
   "cell_type": "code",
   "execution_count": 7,
   "metadata": {
    "collapsed": false
   },
   "outputs": [
    {
     "data": {
      "text/plain": [
       "0.0"
      ]
     },
     "execution_count": 7,
     "metadata": {},
     "output_type": "execute_result"
    }
   ],
   "source": [
    "# unpacking data from ta_data\n",
    "network_name = ta_data.network_name\n",
    "\n",
    "number_of_zones = ta_data.number_of_zones\n",
    "number_of_nodes = ta_data.number_of_nodes\n",
    "first_thru_node = ta_data.first_thru_node\n",
    "number_of_links = ta_data.number_of_links\n",
    "\n",
    "start_node = ta_data.start_node\n",
    "end_node = ta_data.end_node\n",
    "capacity = ta_data.capacity\n",
    "link_length = ta_data.link_length\n",
    "\n",
    "free_flow_time = ta_data.free_flow_time\n",
    "B = ta_data.B\n",
    "power = ta_data.power\n",
    "speed_limit = ta_data.speed_limit\n",
    "toll = ta_data.toll\n",
    "link_type = ta_data.link_type\n",
    "number_of_zones = ta_data.number_of_zones\n",
    "total_od_flow = ta_data.total_od_flow\n",
    "travel_demand = ta_data.travel_demand\n",
    "od_pairs = ta_data.od_pairs\n",
    "\n",
    "toll_factor = ta_data.toll_factor\n",
    "distance_factor = ta_data.distance_factor\n",
    "\n",
    "best_objective = ta_data.best_objective"
   ]
  },
  {
   "cell_type": "code",
   "execution_count": 8,
   "metadata": {
    "collapsed": false
   },
   "outputs": [
    {
     "data": {
      "text/plain": [
       "76-element Array{Int64,1}:\n",
       "  2\n",
       "  3\n",
       "  1\n",
       "  6\n",
       "  1\n",
       "  4\n",
       " 12\n",
       "  3\n",
       "  5\n",
       " 11\n",
       "  4\n",
       "  6\n",
       "  9\n",
       "  ⋮\n",
       " 22\n",
       " 24\n",
       " 15\n",
       " 20\n",
       " 21\n",
       " 23\n",
       " 14\n",
       " 22\n",
       " 24\n",
       " 13\n",
       " 21\n",
       " 23"
      ]
     },
     "execution_count": 8,
     "metadata": {},
     "output_type": "execute_result"
    }
   ],
   "source": [
    "end_node"
   ]
  },
  {
   "cell_type": "code",
   "execution_count": 9,
   "metadata": {
    "collapsed": false
   },
   "outputs": [
    {
     "data": {
      "text/plain": [
       "24x24 sparse matrix with 76 Int64 entries:\n",
       "\t[2 ,  1]  =  3\n",
       "\t[3 ,  1]  =  5\n",
       "\t[1 ,  2]  =  1\n",
       "\t[6 ,  2]  =  14\n",
       "\t[1 ,  3]  =  2\n",
       "\t[4 ,  3]  =  8\n",
       "\t[12,  3]  =  35\n",
       "\t[3 ,  4]  =  6\n",
       "\t[5 ,  4]  =  11\n",
       "\t[11,  4]  =  31\n",
       "\t⋮\n",
       "\t[24, 21]  =  75\n",
       "\t[15, 22]  =  46\n",
       "\t[20, 22]  =  63\n",
       "\t[21, 22]  =  65\n",
       "\t[23, 22]  =  72\n",
       "\t[14, 23]  =  42\n",
       "\t[22, 23]  =  70\n",
       "\t[24, 23]  =  76\n",
       "\t[13, 24]  =  39\n",
       "\t[21, 24]  =  66\n",
       "\t[23, 24]  =  73"
      ]
     },
     "execution_count": 9,
     "metadata": {},
     "output_type": "execute_result"
    }
   ],
   "source": [
    "# preparing a graph\n",
    "graph = create_graph(start_node, end_node)\n",
    "link_dic = sparse(start_node, end_node, 1:number_of_links)"
   ]
  },
  {
   "cell_type": "code",
   "execution_count": 10,
   "metadata": {
    "collapsed": false,
    "scrolled": true
   },
   "outputs": [
    {
     "data": {
      "text/plain": [
       "([[edge [1]: 1 -- 2,edge [2]: 1 -- 3],[edge [3]: 2 -- 1,edge [4]: 2 -- 6],[edge [5]: 3 -- 1,edge [6]: 3 -- 4,edge [7]: 3 -- 12],[edge [8]: 4 -- 3,edge [9]: 4 -- 5,edge [10]: 4 -- 11],[edge [11]: 5 -- 4,edge [12]: 5 -- 6,edge [13]: 5 -- 9],[edge [14]: 6 -- 2,edge [15]: 6 -- 5,edge [16]: 6 -- 8],[edge [17]: 7 -- 8,edge [18]: 7 -- 18],[edge [19]: 8 -- 6,edge [20]: 8 -- 7,edge [21]: 8 -- 9,edge [22]: 8 -- 16],[edge [23]: 9 -- 5,edge [24]: 9 -- 8,edge [25]: 9 -- 10],[edge [26]: 10 -- 9,edge [27]: 10 -- 11,edge [28]: 10 -- 15,edge [29]: 10 -- 16,edge [30]: 10 -- 17]  …  [edge [43]: 15 -- 10,edge [44]: 15 -- 14,edge [45]: 15 -- 19,edge [46]: 15 -- 22],[edge [47]: 16 -- 8,edge [48]: 16 -- 10,edge [49]: 16 -- 17,edge [50]: 16 -- 18],[edge [51]: 17 -- 10,edge [52]: 17 -- 16,edge [53]: 17 -- 19],[edge [54]: 18 -- 7,edge [55]: 18 -- 16,edge [56]: 18 -- 20],[edge [57]: 19 -- 15,edge [58]: 19 -- 17,edge [59]: 19 -- 20],[edge [60]: 20 -- 18,edge [61]: 20 -- 19,edge [62]: 20 -- 21,edge [63]: 20 -- 22],[edge [64]: 21 -- 20,edge [65]: 21 -- 22,edge [66]: 21 -- 24],[edge [67]: 22 -- 15,edge [68]: 22 -- 20,edge [69]: 22 -- 21,edge [70]: 22 -- 23],[edge [71]: 23 -- 14,edge [72]: 23 -- 22,edge [73]: 23 -- 24],[edge [74]: 24 -- 13,edge [75]: 24 -- 21,edge [76]: 24 -- 23]],true,76,1:24)"
      ]
     },
     "execution_count": 10,
     "metadata": {},
     "output_type": "execute_result"
    }
   ],
   "source": [
    "graph.inclist, graph.is_directed, graph.nedges, graph.vertices"
   ]
  },
  {
   "cell_type": "code",
   "execution_count": 11,
   "metadata": {
    "collapsed": false
   },
   "outputs": [
    {
     "data": {
      "text/plain": [
       "BPR (generic function with 1 method)"
      ]
     },
     "execution_count": 11,
     "metadata": {},
     "output_type": "execute_result"
    }
   ],
   "source": [
    "function BPR(x)\n",
    "    bpr = similar(x)\n",
    "    for i=1:length(bpr)\n",
    "        bpr[i] = free_flow_time[i] * ( 1.0 + B[i] * (x[i]/capacity[i])^power[i] )\n",
    "    end\n",
    "    return bpr\n",
    "end"
   ]
  },
  {
   "cell_type": "code",
   "execution_count": 12,
   "metadata": {
    "collapsed": false
   },
   "outputs": [
    {
     "data": {
      "text/plain": [
       "all_or_nothing (generic function with 1 method)"
      ]
     },
     "execution_count": 12,
     "metadata": {},
     "output_type": "execute_result"
    }
   ],
   "source": [
    "function all_or_nothing(travel_time)\n",
    "    state = []\n",
    "    path = []\n",
    "    x = zeros(size(start_node))\n",
    "\n",
    "    for r=1:size(travel_demand)[1]\n",
    "        # for each origin node r, find shortest paths to all destination nodes\n",
    "        state = dijkstra_shortest_paths(graph, travel_time, r)\n",
    "\n",
    "        for s=1:size(travel_demand)[2]\n",
    "            # for each destination node s, find the shortest-path vector\n",
    "            # load travel demand\n",
    "            x = x + travel_demand[r,s] * get_vector(state, r, s, link_dic)\n",
    "        end\n",
    "    end\n",
    "\n",
    "    return x\n",
    "end"
   ]
  },
  {
   "cell_type": "code",
   "execution_count": 13,
   "metadata": {
    "collapsed": false
   },
   "outputs": [
    {
     "data": {
      "text/plain": [
       "76-element Array{Float64,1}:\n",
       "  3800.0\n",
       "  6000.0\n",
       "  3800.0\n",
       "  6600.0\n",
       "  6000.0\n",
       "  8400.0\n",
       "  8600.0\n",
       "  9200.0\n",
       " 13700.0\n",
       "  5600.0\n",
       " 14400.0\n",
       " 10200.0\n",
       "  7000.0\n",
       "     ⋮  \n",
       " 13000.0\n",
       " 12800.0\n",
       " 25200.0\n",
       "  5300.0\n",
       " 13000.0\n",
       "  7700.0\n",
       "  5500.0\n",
       " 10800.0\n",
       "  5700.0\n",
       " 10800.0\n",
       " 12700.0\n",
       "  5700.0"
      ]
     },
     "execution_count": 13,
     "metadata": {},
     "output_type": "execute_result"
    }
   ],
   "source": [
    "# Finding a starting feasible solution\n",
    "travel_time = BPR(zeros(number_of_links))\n",
    "xl = all_or_nothing(travel_time)"
   ]
  },
  {
   "cell_type": "code",
   "execution_count": 14,
   "metadata": {
    "collapsed": false
   },
   "outputs": [
    {
     "name": "stdout",
     "output_type": "stream",
     "text": [
      "l = 2000------------------------------------------------\n",
      "relative_gap is 0.00010461366363755072\n",
      "l = 4000------------------------------------------------\n",
      "relative_gap is 3.6587185268183635e-5\n"
     ]
    }
   ],
   "source": [
    "max_iter_no = 5e3\n",
    "l = 1\n",
    "#average_excess_cost = 1\n",
    "tol = 1e-6\n",
    "\n",
    "while l < max_iter_no\n",
    "    l += 1\n",
    "    \n",
    "    xl_old = xl\n",
    "    \n",
    "    # Finding yl\n",
    "    travel_time = BPR(xl)\n",
    "    \n",
    "    yl = all_or_nothing(travel_time)\n",
    "    \n",
    "    assert(yl != xl)\n",
    "    \n",
    "    xl = xl + (yl - xl)/l\n",
    "    \n",
    "    xl_new = xl\n",
    "    \n",
    "    relative_gap = norm(xl_new - xl_old, 1) / norm(xl_new, 1)\n",
    "\n",
    "    if l % 2000 == 0\n",
    "        print(\"l = $l------------------------------------------------\\n\")\n",
    "        print(\"relative_gap is $relative_gap\\n\")\n",
    "    end\n",
    "\n",
    "    if relative_gap < tol \n",
    "        print(\"l = $l------------------------------------------------\\n\")\n",
    "        print(\"relative_gap is $relative_gap\\n\")\n",
    "        break\n",
    "    end\n",
    "    \n",
    "end"
   ]
  },
  {
   "cell_type": "code",
   "execution_count": 15,
   "metadata": {
    "collapsed": false
   },
   "outputs": [],
   "source": [
    "outfile = open(\"flows_converge.txt\", \"w\")\n",
    "\n",
    "write(outfile, join((\"From\", \"to\", \"Volume_Capacity\"), \"        \"), \"\\n\")\n",
    "\n",
    "for i = 1:length(ta_data.start_node)\n",
    "     n1, n2, n3 = ta_data.start_node[i], ta_data.end_node[i], xl[i]\n",
    "     write(outfile, join((n1, n2, n3), \"        \"), \"\\n\")\n",
    "end\n",
    "\n",
    "close(outfile)"
   ]
  },
  {
   "cell_type": "code",
   "execution_count": 16,
   "metadata": {
    "collapsed": false
   },
   "outputs": [
    {
     "data": {
      "text/plain": [
       "Dict{(Int64,Int64),Float64} with 0 entries"
      ]
     },
     "execution_count": 16,
     "metadata": {},
     "output_type": "execute_result"
    }
   ],
   "source": [
    "flows = Dict{(Int64,Int64),Float64}()"
   ]
  },
  {
   "cell_type": "code",
   "execution_count": 17,
   "metadata": {
    "collapsed": true
   },
   "outputs": [],
   "source": [
    "for i = 1:length(ta_data.start_node)\n",
    "    key = (ta_data.start_node[i], ta_data.end_node[i])\n",
    "    flows[key] = xl[i]\n",
    "end"
   ]
  },
  {
   "cell_type": "code",
   "execution_count": 18,
   "metadata": {
    "collapsed": false
   },
   "outputs": [
    {
     "data": {
      "text/plain": [
       "Dict{(Int64,Int64),Float64} with 76 entries:\n",
       "  (15,19) => 19085.04000000002\n",
       "  (20,21) => 6305.539999999992\n",
       "  (22,20) => 7003.159999999994\n",
       "  (23,22) => 9626.83999999996\n",
       "  (10,11) => 17727.29999999998\n",
       "  (8,9)   => 6883.940000000008\n",
       "  (13,12) => 12390.49999999999\n",
       "  (24,21) => 10260.01999999999\n",
       "  (3,1)   => 8099.460000000005\n",
       "  (19,17) => 9941.619999999986\n",
       "  (4,5)   => 18016.040000000015\n",
       "  (17,16) => 11682.480000000005\n",
       "  (20,22) => 7003.079999999994\n",
       "  (22,21) => 8608.580000000033\n",
       "  (18,16) => 15349.259999999998\n",
       "  (6,5)   => 8806.159999999985\n",
       "  (16,17) => 11693.160000000003\n",
       "  (22,15) => 18386.780000000042\n",
       "  (1,2)   => 4498.939999999994\n",
       "  (22,23) => 9662.360000000032\n",
       "  (19,20) => 8688.000000000027\n",
       "  (9,8)   => 6837.960000000005\n",
       "  (11,12) => 8365.999999999998\n",
       "  (3,4)   => 14018.759999999986\n",
       "  (8,16)  => 8388.779999999977\n",
       "  ⋮       => ⋮"
      ]
     },
     "execution_count": 18,
     "metadata": {},
     "output_type": "execute_result"
    }
   ],
   "source": [
    "flows"
   ]
  }
 ],
 "metadata": {
  "kernelspec": {
   "display_name": "Julia 0.3.7",
   "language": "julia",
   "name": "julia-0.3"
  },
  "language_info": {
   "file_extension": ".jl",
   "mimetype": "application/julia",
   "name": "julia",
   "version": "0.3.7"
  }
 },
 "nbformat": 4,
 "nbformat_minor": 0
}
