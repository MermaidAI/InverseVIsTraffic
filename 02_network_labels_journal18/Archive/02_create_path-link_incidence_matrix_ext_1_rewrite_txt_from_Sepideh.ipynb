{
 "cells": [
  {
   "cell_type": "code",
   "execution_count": 1,
   "metadata": {
    "collapsed": false
   },
   "outputs": [
    {
     "name": "stdout",
     "output_type": "stream",
     "text": [
      "No dicts found; please check load_dicts...\n"
     ]
    }
   ],
   "source": [
    "%run ../Python_files/util.py"
   ]
  },
  {
   "cell_type": "code",
   "execution_count": 2,
   "metadata": {
    "collapsed": false
   },
   "outputs": [],
   "source": [
    "# read in the path-link incidence file \n",
    "# create path-link incidence matrix A\n",
    "\n",
    "OD_path_dict = {}\n",
    "with open('../temp_files/path-link_incidence_ext_.txt', 'r') as the_file_:\n",
    "    for row in the_file_:\n",
    "        if (':' in row):\n",
    "            path_list_0 = row.split(': ')[1].split(',')\n",
    "\n",
    "            path_list_1 = []  # deal with '\\n'\n",
    "            for path in path_list_0:\n",
    "                if ('\\n' in path):\n",
    "                    path = path.split('\\n')[0]\n",
    "                path_list_1.append((path.split('->')))\n",
    "            key = row.split(': ')[0]\n",
    "            value = []\n",
    "            row_len = len(path_list_1)\n",
    "            for idx in range(row_len):\n",
    "                value.append(path_list_1[idx])\n",
    "            my_list = value\n",
    "            new_list = []\n",
    "            for i in my_list:\n",
    "                if i not in new_list:  # remove duplicate items from a my_list\n",
    "                    new_list.append(i)\n",
    "            OD_path_dict[key] = new_list"
   ]
  },
  {
   "cell_type": "code",
   "execution_count": 3,
   "metadata": {
    "collapsed": false
   },
   "outputs": [
    {
     "data": {
      "text/plain": [
       "[['']]"
      ]
     },
     "execution_count": 3,
     "metadata": {},
     "output_type": "execute_result"
    }
   ],
   "source": [
    "OD_path_dict['O-D pair (1, 10)']"
   ]
  },
  {
   "cell_type": "code",
   "execution_count": 4,
   "metadata": {
    "collapsed": true
   },
   "outputs": [],
   "source": [
    "link_label_dict = zload('../temp_files/link_label_dict_ext.pkz')\n",
    "link_label_dict_ = zload('../temp_files/link_label_dict_ext_.pkz')\n",
    "link_length_dict = zload('../temp_files/link_length_dict_ext.pkz')"
   ]
  },
  {
   "cell_type": "code",
   "execution_count": 5,
   "metadata": {
    "collapsed": false
   },
   "outputs": [
    {
     "data": {
      "text/plain": [
       "11.385941974850725"
      ]
     },
     "execution_count": 5,
     "metadata": {},
     "output_type": "execute_result"
    }
   ],
   "source": [
    "link_length_dict['0'].length"
   ]
  },
  {
   "cell_type": "code",
   "execution_count": 6,
   "metadata": {
    "collapsed": true
   },
   "outputs": [],
   "source": [
    "OD_pair_label_dict = zload('../temp_files/OD_pair_label_dict_ext.pkz')"
   ]
  },
  {
   "cell_type": "code",
   "execution_count": 7,
   "metadata": {
    "collapsed": false
   },
   "outputs": [
    {
     "data": {
      "text/plain": [
       "'O-D pair (7, 12)'"
      ]
     },
     "execution_count": 7,
     "metadata": {},
     "output_type": "execute_result"
    }
   ],
   "source": [
    "'O-D pair ' + OD_pair_label_dict.keys()[0]"
   ]
  },
  {
   "cell_type": "code",
   "execution_count": 8,
   "metadata": {
    "collapsed": false
   },
   "outputs": [
    {
     "data": {
      "text/plain": [
       "[['']]"
      ]
     },
     "execution_count": 8,
     "metadata": {},
     "output_type": "execute_result"
    }
   ],
   "source": [
    "OD_path_dict['O-D pair (1, 10)']"
   ]
  },
  {
   "cell_type": "code",
   "execution_count": 9,
   "metadata": {
    "collapsed": false
   },
   "outputs": [],
   "source": [
    "OD_links_dict = {}\n",
    "for key_ in OD_pair_label_dict.keys():\n",
    "    key = 'O-D pair ' + key_\n",
    "    \n",
    "    path_link_list = []\n",
    "    for a in OD_path_dict[key]:\n",
    "    # a = OD_path_dict['O-D pair (1, 10)'][0]\n",
    "\n",
    "        links_a = []\n",
    "        for idx in range(len(a))[1:]:\n",
    "            links_a.append(str(a[idx-1]) + '->' + str(a[idx]))\n",
    "\n",
    "        # print(links_a)\n",
    "\n",
    "        link_label_vector = []\n",
    "        for link in links_a:\n",
    "            link_label_vector.append(link_label_dict_[link])\n",
    "\n",
    "        import itertools\n",
    "\n",
    "        index_list_ = []\n",
    "        for i in range(len(link_label_vector)):\n",
    "            L = len(link_label_vector[i])\n",
    "            index_list_.append(range(L))\n",
    "\n",
    "        index_list = list(itertools.product(*index_list_))\n",
    "\n",
    "        for idxes in index_list:\n",
    "            path_link_list.append([link_label_vector[i][idx] for i, idx in zip(range(len(link_label_vector)), idxes)])\n",
    "        \n",
    "        OD_links_dict[key] = path_link_list\n",
    "\n",
    "zdump(OD_links_dict, '../temp_files/OD_links_dict_ext.pkz')"
   ]
  },
  {
   "cell_type": "code",
   "execution_count": 10,
   "metadata": {
    "collapsed": false
   },
   "outputs": [
    {
     "data": {
      "text/plain": [
       "([[0]], [[2], [0, 4]], [[0, 6], [2, 5, 6], [2, 8, 11]])"
      ]
     },
     "execution_count": 10,
     "metadata": {},
     "output_type": "execute_result"
    }
   ],
   "source": [
    "OD_links_dict['O-D pair (1, 2)'], \\\n",
    "OD_links_dict['O-D pair (1, 3)'], \\\n",
    "OD_links_dict['O-D pair (1, 4)']"
   ]
  },
  {
   "cell_type": "code",
   "execution_count": 11,
   "metadata": {
    "collapsed": false
   },
   "outputs": [],
   "source": [
    "##### add label to routes\n",
    "\n",
    "i = 0 \n",
    "routes_dict = {}\n",
    "routes_dict_ = {}\n",
    "\n",
    "for j in range(18)[1:]:\n",
    "    for k in range(18)[1:]:\n",
    "        if j != k:\n",
    "            key_ = str((j, k))\n",
    "            key = 'O-D pair ' + key_\n",
    "            for route in OD_links_dict[key]:\n",
    "                routes_dict[str(i)] = route\n",
    "                routes_dict_[str(route)] = i\n",
    "                i += 1\n",
    "num_routes = i\n",
    "                \n",
    "zdump(routes_dict, '../temp_files/routes_dict_ext.pkz')\n",
    "zdump(routes_dict_, '../temp_files/routes_dict__ext.pkz')"
   ]
  },
  {
   "cell_type": "code",
   "execution_count": 12,
   "metadata": {
    "collapsed": false
   },
   "outputs": [
    {
     "data": {
      "text/plain": [
       "([2, 8, 11], 5)"
      ]
     },
     "execution_count": 12,
     "metadata": {},
     "output_type": "execute_result"
    }
   ],
   "source": [
    "routes_dict['5'], routes_dict_[str([2, 8, 11])]"
   ]
  },
  {
   "cell_type": "code",
   "execution_count": 13,
   "metadata": {
    "collapsed": false
   },
   "outputs": [],
   "source": [
    "##### create route labels for each OD pair\n",
    "\n",
    "ODpair_routes = {}\n",
    "\n",
    "for j in range(18)[1:]:\n",
    "    for k in range(18)[1:]:\n",
    "        if j != k:\n",
    "            key_ = str((j, k))\n",
    "            key = 'O-D pair ' + key_\n",
    "            value = []\n",
    "            for route in OD_links_dict[key]:\n",
    "                value.append(routes_dict_[str(route)])\n",
    "            ODpair_routes[key] = value\n",
    "            \n",
    "zdump(ODpair_routes, '../temp_files/ODpair_routes_ext.pkz')"
   ]
  },
  {
   "cell_type": "code",
   "execution_count": 14,
   "metadata": {
    "collapsed": false
   },
   "outputs": [
    {
     "data": {
      "text/plain": [
       "[6, 7, 8]"
      ]
     },
     "execution_count": 14,
     "metadata": {},
     "output_type": "execute_result"
    }
   ],
   "source": [
    "ODpair_routes['O-D pair (1, 5)']"
   ]
  },
  {
   "cell_type": "code",
   "execution_count": 15,
   "metadata": {
    "collapsed": false
   },
   "outputs": [],
   "source": [
    "##### create route-length dict\n",
    "\n",
    "assert(num_routes) == len(routes_dict)\n",
    "\n",
    "route_length_dict = {}\n",
    "for i in range(num_routes):\n",
    "    key = str(i)\n",
    "    value = sum([link_length_dict[str(link)].length for link in routes_dict[str(i)]])\n",
    "    route_length_dict[key] = value\n",
    "    \n",
    "zdump(route_length_dict, '../temp_files/route_length_dict_ext.pkz')"
   ]
  },
  {
   "cell_type": "code",
   "execution_count": 16,
   "metadata": {
    "collapsed": false
   },
   "outputs": [
    {
     "data": {
      "text/plain": [
       "30.553614588975385"
      ]
     },
     "execution_count": 16,
     "metadata": {},
     "output_type": "execute_result"
    }
   ],
   "source": [
    "route_length_dict['10']"
   ]
  },
  {
   "cell_type": "code",
   "execution_count": 17,
   "metadata": {
    "collapsed": false
   },
   "outputs": [],
   "source": [
    "import numpy as np\n",
    "\n",
    "# number of links\n",
    "num_links = 64\n",
    "# number of routes (obtained by counting the rows with '->' in 'path-link_incidence.txt')\n",
    "num_routes = len(routes_dict)\n",
    "\n",
    "# initialize the path-link incidence matrix\n",
    "A = np.zeros((num_links, num_routes))\n",
    "\n",
    "##### create path-link incidence matrix A\n",
    "# path counts\n",
    "j = 0  \n",
    "for r in range(num_routes):\n",
    "    for m in range(num_links):\n",
    "        if m in routes_dict[str(r)]:\n",
    "            A[m, r] = 1\n",
    "    j += 1\n",
    "assert(j == num_routes)\n",
    "\n",
    "zdump(A, '../temp_files/path-link_incidence_matrix_ext.pkz')"
   ]
  },
  {
   "cell_type": "code",
   "execution_count": 18,
   "metadata": {
    "collapsed": false
   },
   "outputs": [
    {
     "data": {
      "text/plain": [
       "(64, 1499, 0.0)"
      ]
     },
     "execution_count": 18,
     "metadata": {},
     "output_type": "execute_result"
    }
   ],
   "source": [
    "np.size(A, 0), np.size(A, 1), A[12, 5]"
   ]
  },
  {
   "cell_type": "code",
   "execution_count": 19,
   "metadata": {
    "collapsed": false
   },
   "outputs": [
    {
     "data": {
      "text/plain": [
       "[6, 7, 8]"
      ]
     },
     "execution_count": 19,
     "metadata": {},
     "output_type": "execute_result"
    }
   ],
   "source": [
    "ODpair_routes['O-D pair (1, 5)']"
   ]
  },
  {
   "cell_type": "code",
   "execution_count": 20,
   "metadata": {
    "collapsed": true
   },
   "outputs": [],
   "source": [
    "OD_pair_label_dict_ = zload('../temp_files/OD_pair_label_dict__ext.pkz')\n",
    "OD_pair_label_dict = zload('../temp_files/OD_pair_label_dict_ext.pkz')"
   ]
  },
  {
   "cell_type": "code",
   "execution_count": 21,
   "metadata": {
    "collapsed": false
   },
   "outputs": [
    {
     "data": {
      "text/plain": [
       "((1, 2), 0)"
      ]
     },
     "execution_count": 21,
     "metadata": {},
     "output_type": "execute_result"
    }
   ],
   "source": [
    "OD_pair_label_dict_['0'], OD_pair_label_dict['(1, 2)']"
   ]
  },
  {
   "cell_type": "code",
   "execution_count": 22,
   "metadata": {
    "collapsed": false
   },
   "outputs": [],
   "source": [
    "# calculate route choice probability matrix P\n",
    "\n",
    "from math import exp\n",
    "\n",
    "# number of O-D pairs\n",
    "num_ODpairs = 17 * (17 - 1)\n",
    "\n",
    "\n",
    "# logit choice parameter\n",
    "theta = 0.5\n",
    "\n",
    "P = np.zeros((num_ODpairs, num_routes))\n",
    "for i in range(num_ODpairs):\n",
    "    key = 'O-D pair ' + str(OD_pair_label_dict_[str(i)])\n",
    "    for r in ODpair_routes[key]:\n",
    "        P[i, r] = exp(- theta * route_length_dict[str(r)]) / \\\n",
    "                    sum([exp(- theta * route_length_dict[str(j)]) \\\n",
    "                         for j in ODpair_routes[key]])\n",
    "zdump(P, '../temp_files/logit_route_choice_probability_matrix_ext.pkz')"
   ]
  },
  {
   "cell_type": "code",
   "execution_count": 23,
   "metadata": {
    "collapsed": false
   },
   "outputs": [
    {
     "data": {
      "text/plain": [
       "(272, 1499)"
      ]
     },
     "execution_count": 23,
     "metadata": {},
     "output_type": "execute_result"
    }
   ],
   "source": [
    "np.size(P, 0), np.size(P, 1)"
   ]
  },
  {
   "cell_type": "code",
   "execution_count": 24,
   "metadata": {
    "collapsed": false
   },
   "outputs": [
    {
     "data": {
      "text/plain": [
       "([6, 7, 8], 3)"
      ]
     },
     "execution_count": 24,
     "metadata": {},
     "output_type": "execute_result"
    }
   ],
   "source": [
    "ODpair_routes['O-D pair (1, 5)'], OD_pair_label_dict['(1, 5)']"
   ]
  },
  {
   "cell_type": "code",
   "execution_count": 25,
   "metadata": {
    "collapsed": false
   },
   "outputs": [
    {
     "data": {
      "text/plain": [
       "(0.99815583185391132,\n",
       " 0.0011575928958337549,\n",
       " 0.00068657525025493226,\n",
       " 21.864729052807235,\n",
       " 35.38386235066037,\n",
       " 36.428626760188095)"
      ]
     },
     "execution_count": 25,
     "metadata": {},
     "output_type": "execute_result"
    }
   ],
   "source": [
    "P[3, 6], P[3, 7], P[3, 8], route_length_dict[str(6)], route_length_dict[str(7)], route_length_dict[str(8)]"
   ]
  },
  {
   "cell_type": "code",
   "execution_count": 26,
   "metadata": {
    "collapsed": false
   },
   "outputs": [
    {
     "data": {
      "text/plain": [
       "(64, 258)"
      ]
     },
     "execution_count": 26,
     "metadata": {},
     "output_type": "execute_result"
    }
   ],
   "source": [
    "np.linalg.matrix_rank(A), np.linalg.matrix_rank(P)"
   ]
  },
  {
   "cell_type": "code",
   "execution_count": 27,
   "metadata": {
    "collapsed": false
   },
   "outputs": [
    {
     "name": "stdout",
     "output_type": "stream",
     "text": [
      "258\n",
      "sizes of P are: \n",
      "272\n",
      "1499\n",
      "rank of A is: \n",
      "64\n",
      "sizes of A are: \n",
      "64\n",
      "1499\n",
      "rank of PA_t is: \n",
      "54\n"
     ]
    }
   ],
   "source": [
    "A_t = np.transpose(A)\n",
    "P_t = np.transpose(P)\n",
    "# PA'\n",
    "PA_t = np.dot(P, A_t)\n",
    "print(matrix_rank(P))\n",
    "print(\"sizes of P are: \")\n",
    "print(np.size(P, 0))\n",
    "print(np.size(P, 1))\n",
    "print(\"rank of A is: \")\n",
    "print(matrix_rank(A))\n",
    "print(\"sizes of A are: \")\n",
    "print(np.size(A, 0))\n",
    "print(np.size(A, 1))\n",
    "print(\"rank of PA_t is: \")\n",
    "print(matrix_rank(PA_t))"
   ]
  },
  {
   "cell_type": "code",
   "execution_count": null,
   "metadata": {
    "collapsed": true
   },
   "outputs": [],
   "source": []
  }
 ],
 "metadata": {
  "kernelspec": {
   "display_name": "Python 2",
   "language": "python",
   "name": "python2"
  },
  "language_info": {
   "codemirror_mode": {
    "name": "ipython",
    "version": 2
   },
   "file_extension": ".py",
   "mimetype": "text/x-python",
   "name": "python",
   "nbconvert_exporter": "python",
   "pygments_lexer": "ipython2",
   "version": "2.7.11"
  }
 },
 "nbformat": 4,
 "nbformat_minor": 0
}
