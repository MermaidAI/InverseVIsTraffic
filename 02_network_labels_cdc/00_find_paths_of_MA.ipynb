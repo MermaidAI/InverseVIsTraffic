{
 "cells": [
  {
   "cell_type": "code",
   "execution_count": 1,
   "metadata": {
    "collapsed": false
   },
   "outputs": [
    {
     "name": "stdout",
     "output_type": "stream",
     "text": [
      "No dicts found; please check load_dicts...\n"
     ]
    }
   ],
   "source": [
    "%run ../Python_files/util.py"
   ]
  },
  {
   "cell_type": "code",
   "execution_count": 2,
   "metadata": {
    "collapsed": true
   },
   "outputs": [],
   "source": [
    "node_neighbors_dict = {}\n",
    "\n",
    "node_neighbors_dict['1'] = [2, 3]\n",
    "node_neighbors_dict['2'] = [1, 3, 4]\n",
    "node_neighbors_dict['3'] = [1, 2, 5, 6]\n",
    "node_neighbors_dict['4'] = [2, 5, 8]\n",
    "node_neighbors_dict['5'] = [3, 4, 6, 7]\n",
    "node_neighbors_dict['6'] = [3, 5, 7]\n",
    "node_neighbors_dict['7'] = [5, 6, 8]\n",
    "node_neighbors_dict['8'] = [4, 7]"
   ]
  },
  {
   "cell_type": "code",
   "execution_count": 3,
   "metadata": {
    "collapsed": true
   },
   "outputs": [],
   "source": [
    "od_pairs = []\n",
    "for i in range(9)[1:]:\n",
    "    for j in range(9)[1:]:\n",
    "        if i != j:\n",
    "            od_pairs.append([i, j])"
   ]
  },
  {
   "cell_type": "code",
   "execution_count": 4,
   "metadata": {
    "collapsed": false
   },
   "outputs": [],
   "source": [
    "od_pairs;"
   ]
  },
  {
   "cell_type": "code",
   "execution_count": 5,
   "metadata": {
    "collapsed": true
   },
   "outputs": [],
   "source": [
    "with open('../temp_files/path_link_incidence_MA_CDC.txt', 'w') as the_file:\n",
    "    for od in od_pairs:\n",
    "        origi = od[0]\n",
    "        desti = od[1]\n",
    "        the_file.write('O-D pair (%s, %s):\\n'%(origi, desti))\n",
    "        if desti in node_neighbors_dict[str(origi)]:\n",
    "            the_file.write('%s->%s\\n'%(origi,desti))\n",
    "        for i in node_neighbors_dict[str(origi)]:\n",
    "            if i in node_neighbors_dict[str(desti)]:\n",
    "                flag = [origi, i, desti]\n",
    "                if len(set(flag)) == len(flag):\n",
    "                    the_file.write('%s->%s->%s\\n'%(origi,i,desti))\n",
    "            for j in node_neighbors_dict[str(i)]:\n",
    "                if j in node_neighbors_dict[str(desti)]:\n",
    "                    flag = [origi, i, j, desti]\n",
    "                    if len(set(flag)) == len(flag):\n",
    "                        the_file.write('%s->%s->%s->%s\\n'%(origi,i,j,desti))\n",
    "                for k in node_neighbors_dict[str(j)]:\n",
    "                    if k in node_neighbors_dict[str(desti)]:\n",
    "                        flag = [origi, i, j, k, desti]\n",
    "                        if len(set(flag)) == len(flag):\n",
    "                            the_file.write('%s->%s->%s->%s->%s\\n'%(origi,i,j,k,desti))\n",
    "#                     for l in node_neighbors_dict[str(k)]:\n",
    "#                         if l in node_neighbors_dict[str(desti)]:\n",
    "#                             flag = [origi, i, j, k, l, desti]\n",
    "#                             if len(set(flag)) == len(flag):\n",
    "#                                 the_file.write('%s->%s->%s->%s->%s->%s\\n'%(origi,i,j,k,l,desti))    \n",
    "#                         for m in node_neighbors_dict[str(l)]:\n",
    "#                             if m in node_neighbors_dict[str(desti)]:\n",
    "#                                 flag = [origi, i, j, k, l, m, desti]\n",
    "#                                 if len(set(flag)) == len(flag):\n",
    "#                                     the_file.write('%s->%s->%s->%s->%s->%s->%s\\n'%(origi,i,j,k,l,m,desti))  \n",
    "#                             for n in node_neighbors_dict[str(m)]:\n",
    "#                                 if n in node_neighbors_dict[str(desti)]:\n",
    "#                                     flag = [origi, i, j, k, l, m, n, desti]\n",
    "#                                     if len(set(flag)) == len(flag):\n",
    "#                                         the_file.write('%s->%s->%s->%s->%s->%s->%s->%s\\n'%(origi,i,j,k,l,m,n,desti))\n",
    "#                                 for o in node_neighbors_dict[str(n)]:\n",
    "#                                     if o in node_neighbors_dict[str(desti)]:\n",
    "#                                         flag = [origi, i, j, k, l, m, n, o, desti]\n",
    "#                                         if len(set(flag)) == len(flag):\n",
    "#                                             the_file.write('%s->%s->%s->%s->%s->%s->%s->%s->%s\\n'%(origi,i,j,k,l,m,n,o,desti))\n",
    "#                                     for p in node_neighbors_dict[str(o)]:\n",
    "#                                         if p in node_neighbors_dict[str(desti)]:\n",
    "#                                             flag = [origi, i, j, k, l, m, n, o, p, desti]\n",
    "#                                             if len(set(flag)) == len(flag):\n",
    "#                                                 the_file.write('%s->%s->%s->%s->%s->%s->%s->%s->%s->%s\\n'%(origi,i,j,k,l,m,n,o,p,desti))\n",
    "#                                                 for q in node_neighbors_dict[str(p)]:\n",
    "#                                                     if q in node_neighbors_dict[str(desti)]:\n",
    "#                                                         flag = [origi, i, j, k, l, m, n, o, p, q, desti]\n",
    "#                                                         if len(set(flag)) == len(flag):\n",
    "#                                                             the_file.write('%s->%s->%s->%s->%s->%s->%s->%s->%s->%s->%s\\n'%(origi,i,j,k,l,m,n,o,p,q,desti))\n",
    "        the_file.write('\\n')"
   ]
  },
  {
   "cell_type": "code",
   "execution_count": null,
   "metadata": {
    "collapsed": true
   },
   "outputs": [],
   "source": []
  }
 ],
 "metadata": {
  "kernelspec": {
   "display_name": "Python [Root]",
   "language": "python",
   "name": "Python [Root]"
  },
  "language_info": {
   "codemirror_mode": {
    "name": "ipython",
    "version": 2
   },
   "file_extension": ".py",
   "mimetype": "text/x-python",
   "name": "python",
   "nbconvert_exporter": "python",
   "pygments_lexer": "ipython2",
   "version": "2.7.11"
  }
 },
 "nbformat": 4,
 "nbformat_minor": 0
}
