{
 "cells": [
  {
   "cell_type": "code",
   "execution_count": 1,
   "metadata": {
    "collapsed": false
   },
   "outputs": [],
   "source": [
    "# based on https://github.com/chkwon/TrafficAssignment.jl\n",
    "\n",
    "include(joinpath(\"/home/jzh/Dropbox/Research/\",\n",
    "\"Data-driven_estimation_inverse_optimization\", \n",
    "\"Experiments/InverseVIsTraffic/Julia_files/load_network_uni-class.jl\"))\n",
    "\n",
    "using Graphs\n",
    "\n",
    "function create_graph(start_node, end_node)\n",
    "    @assert Base.length(start_node)==Base.length(end_node)\n",
    "\n",
    "    no_node = max(maximum(start_node), maximum(end_node))\n",
    "    no_arc = Base.length(start_node)\n",
    "\n",
    "    graph = simple_inclist(no_node)\n",
    "    for i=1:no_arc\n",
    "        add_edge!(graph, start_node[i], end_node[i])\n",
    "    end\n",
    "    return graph\n",
    "end\n",
    "\n",
    "function get_vector(state, origin, destination, link_dic)\n",
    "    current = destination\n",
    "    parent = -1\n",
    "    x = zeros(Int, maximum(link_dic))\n",
    "\n",
    "    while parent != origin\n",
    "        parent = state.parents[current]\n",
    "\n",
    "        link_idx = link_dic[parent,current]\n",
    "\n",
    "        if link_idx != 0\n",
    "            x[link_idx] = 1\n",
    "        end\n",
    "\n",
    "        current = parent\n",
    "    end\n",
    "\n",
    "    return x\n",
    "end\n",
    "\n",
    "ta_data = load_ta_network(\"East_Massachusetts_Apr_MD\")\n",
    "\n",
    "# unpacking data from ta_data\n",
    "network_name = ta_data.network_name\n",
    "\n",
    "number_of_zones = ta_data.number_of_zones\n",
    "number_of_nodes = ta_data.number_of_nodes\n",
    "first_thru_node = ta_data.first_thru_node\n",
    "number_of_links = ta_data.number_of_links\n",
    "\n",
    "start_node = ta_data.start_node\n",
    "end_node = ta_data.end_node\n",
    "capacity = ta_data.capacity\n",
    "link_length = ta_data.link_length\n",
    "\n",
    "free_flow_time = ta_data.free_flow_time\n",
    "B = ta_data.B\n",
    "power = ta_data.power\n",
    "speed_limit = ta_data.speed_limit\n",
    "toll = ta_data.toll\n",
    "link_type = ta_data.link_type\n",
    "number_of_zones = ta_data.number_of_zones\n",
    "total_od_flow = ta_data.total_od_flow\n",
    "travel_demand = ta_data.travel_demand\n",
    "od_pairs = ta_data.od_pairs\n",
    "\n",
    "toll_factor = ta_data.toll_factor\n",
    "distance_factor = ta_data.distance_factor\n",
    "\n",
    "best_objective = ta_data.best_objective\n",
    "\n",
    "# preparing a graph\n",
    "graph = create_graph(start_node, end_node)\n",
    "link_dic = sparse(start_node, end_node, 1:number_of_links);"
   ]
  },
  {
   "cell_type": "code",
   "execution_count": 2,
   "metadata": {
    "collapsed": false
   },
   "outputs": [
    {
     "data": {
      "text/plain": [
       "MSA (generic function with 1 method)"
      ]
     },
     "execution_count": 2,
     "metadata": {},
     "output_type": "execute_result"
    }
   ],
   "source": [
    "function MSA(coeffs) \n",
    "    polyEval(coeffs, pt) = sum([coeffs[i] * pt^(i-1) for i = 1:length(coeffs)]) \n",
    "\n",
    "    function BPR(x)\n",
    "        bpr = similar(x)\n",
    "        for i=1:length(bpr)\n",
    "            bpr[i] = free_flow_time[i] * polyEval( coeffs, (x[i]/capacity[i]) ) \n",
    "        end\n",
    "        return bpr\n",
    "    end\n",
    "\n",
    "    function all_or_nothing(travel_time)\n",
    "        state = []\n",
    "        path = []\n",
    "        x = zeros(size(start_node))\n",
    "\n",
    "        for r=1:size(travel_demand)[1]\n",
    "            # for each origin node r, find shortest paths to all destination nodes\n",
    "            state = dijkstra_shortest_paths(graph, travel_time, r)\n",
    "\n",
    "            for s=1:size(travel_demand)[2]\n",
    "                # for each destination node s, find the shortest-path vector\n",
    "                # load travel demand\n",
    "                x = x + travel_demand[r,s] * get_vector(state, r, s, link_dic)\n",
    "            end\n",
    "        end\n",
    "\n",
    "        return x\n",
    "    end\n",
    "\n",
    "    # Finding a starting feasible solution\n",
    "    travel_time = BPR(zeros(number_of_links))\n",
    "    xl = all_or_nothing(travel_time)\n",
    "\n",
    "    max_iter_no = 1e3\n",
    "    l = 1\n",
    "    #average_excess_cost = 1\n",
    "    tol = 1e-5\n",
    "\n",
    "    while l < max_iter_no\n",
    "        l += 1\n",
    "\n",
    "        xl_old = xl\n",
    "\n",
    "        # Finding yl\n",
    "        travel_time = BPR(xl)\n",
    "\n",
    "        yl = all_or_nothing(travel_time)\n",
    "\n",
    "        xl = xl + (yl - xl)/l\n",
    "\n",
    "        xl_new = xl\n",
    "\n",
    "        relative_gap = norm(xl_new - xl_old, 1) / norm(xl_new, 1)\n",
    "\n",
    "        if relative_gap < tol\n",
    "            break\n",
    "        end\n",
    "    end\n",
    "    \n",
    "    return xl\n",
    "end"
   ]
  },
  {
   "cell_type": "code",
   "execution_count": 1,
   "metadata": {
    "collapsed": false
   },
   "outputs": [
    {
     "data": {
      "text/plain": [
       "Dict{UTF8String,Any} with 720 entries:\n",
       "  \"(7,2.5,10000.0,3)\" => {1.0,0.026508434549360527,0.019026974950925313,0.00846…\n",
       "  \"(5,0.5,100.0,3)\"   => {1.0,0.009050363530470524,0.024152572480543682,0.02722…\n",
       "  \"(6,1.5,10.0,3)\"    => {1.0,0.021304257946142772,0.02095896483299509,0.015049…\n",
       "  \"(6,2.0,0.1,2)\"     => {1.0,0.0893381322482338,-0.1488365439524752,0.06212112…\n",
       "  \"(4,0.5,1000.0,1)\"  => {1.0,0.013190297688232568,0.022715363444720034,0.01777…\n",
       "  \"(6,2.0,0.01,1)\"    => {1.0,0.11605607015037543,-0.28710304839897927,0.278512…\n",
       "  \"(8,1.5,0.01,1)\"    => {1.0,0.1290966082037129,-0.35848974301192743,0.3551066…\n",
       "  \"(5,1.5,1.0,1)\"     => {1.0,0.0388186291576365,-0.0033325669610092513,-0.0088…\n",
       "  \"(8,2.5,0.001,2)\"   => {1.0,0.17681163641481654,-0.7053136167768409,1.0866256…\n",
       "  \"(4,2.0,0.1,1)\"     => {1.0,0.059388061905712705,-0.054260196205745286,0.0094…\n",
       "  \"(5,1.0,1000.0,2)\"  => {1.0,0.0174179352836005,0.019512657485350818,0.0118085…\n",
       "  \"(4,2.0,0.1,2)\"     => {1.0,0.059388061905712705,-0.054260196205745286,0.0094…\n",
       "  \"(5,2.0,0.001,1)\"   => {1.0,0.12222529014519719,-0.32760876090111807,0.370236…\n",
       "  \"(7,1.5,0.01,3)\"    => {1.0,-0.012723317355027526,0.12453278278817474,-0.2617…\n",
       "  \"(4,0.5,0.1,3)\"     => {1.0,0.013029887795689761,0.023385823136349373,0.02795…\n",
       "  \"(6,2.0,1000.0,3)\"  => {1.0,0.02625840913900014,0.019395938221050776,0.008542…\n",
       "  \"(6,2.0,0.1,3)\"     => {1.0,0.04754919040540842,-0.14218001828804722,0.078412…\n",
       "  \"(4,1.5,1.0,1)\"     => {1.0,0.03126707573967068,0.004271644082276527,-0.00086…\n",
       "  \"(8,2.0,10000.0,1)\" => {1.0,0.01834592809545318,0.0178898736245649,0.01098472…\n",
       "  \"(7,0.5,0.001,2)\"   => {1.0,0.06190379404642728,-0.006114429236284528,-0.2082…\n",
       "  \"(5,1.0,10000.0,2)\" => {1.0,0.017428534157803953,0.01950867684523053,0.011790…\n",
       "  \"(8,3.0,0.01,1)\"    => {1.0,0.16387993266662337,-0.6188036784994282,1.0378451…\n",
       "  \"(8,2.0,0.01,3)\"    => {1.0,0.006707509897009414,-0.10590032468205422,0.50641…\n",
       "  \"(5,3.0,100.0,3)\"   => {1.0,0.03272082438889692,0.013148071550220419,0.003283…\n",
       "  \"(5,3.0,10000.0,3)\" => {1.0,0.03294357404700755,0.013051503978075666,0.002951…\n",
       "  ⋮                   => ⋮"
      ]
     },
     "execution_count": 1,
     "metadata": {},
     "output_type": "execute_result"
    }
   ],
   "source": [
    "# getting the coefficients of the costs\n",
    "coeffs_dict_Apr_MD = readall(\"../temp_files/coeffs_dict_Apr_MD.json\")\n",
    "coeffs_dict_Apr_MD = JSON.parse(coeffs_dict_Apr_MD)"
   ]
  },
  {
   "cell_type": "code",
   "execution_count": 3,
   "metadata": {
    "collapsed": false
   },
   "outputs": [],
   "source": [
    "xl = Dict{(Int64,Float64,Float64,Int64),Array{Float64,1}}()\n",
    "\n",
    "deg_grid = [4:8]\n",
    "c_grid = .5:.5:3.\n",
    "lamb_grid = [10. .^(-3:4)]\n",
    "\n",
    "for deg in deg_grid\n",
    "    for c in c_grid\n",
    "        for lam in lamb_grid\n",
    "            coeffs_1 = coeffs_dict_Apr_MD[\"($(deg),$(c),$(lam),1)\"]\n",
    "            coeffs_2 = coeffs_dict_Apr_MD[\"($(deg),$(c),$(lam),2)\"]\n",
    "            coeffs_3 = coeffs_dict_Apr_MD[\"($(deg),$(c),$(lam),3)\"]\n",
    "            xl[(deg, c, lam, 1)] = MSA(coeffs_1)\n",
    "            xl[(deg, c, lam, 2)] = MSA(coeffs_2)\n",
    "            xl[(deg, c, lam, 3)] = MSA(coeffs_3)\n",
    "        end\n",
    "    end\n",
    "end"
   ]
  },
  {
   "cell_type": "code",
   "execution_count": 4,
   "metadata": {
    "collapsed": false
   },
   "outputs": [
    {
     "data": {
      "text/plain": [
       "8-element Array{Float64,1}:\n",
       "     0.001\n",
       "     0.01 \n",
       "     0.1  \n",
       "     1.0  \n",
       "    10.0  \n",
       "   100.0  \n",
       "  1000.0  \n",
       " 10000.0  "
      ]
     },
     "execution_count": 4,
     "metadata": {},
     "output_type": "execute_result"
    }
   ],
   "source": [
    "lamb_grid"
   ]
  },
  {
   "cell_type": "code",
   "execution_count": 5,
   "metadata": {
    "collapsed": true
   },
   "outputs": [],
   "source": [
    "outfile = open(\"../temp_files/uni-class_traffic_assignment_MSA_flows_Apr_MD.json\", \"w\")\n",
    "\n",
    "JSON.print(outfile, xl)\n",
    "\n",
    "close(outfile)"
   ]
  },
  {
   "cell_type": "code",
   "execution_count": 6,
   "metadata": {
    "collapsed": false
   },
   "outputs": [
    {
     "data": {
      "text/plain": [
       "Dict{(Int64,Float64,Float64,Int64),Array{Float64,1}} with 720 entries:\n",
       "  (8,2.5,10.0,3)    => [11107.790194000001,2469.222299,0.0,7966.568875,11107.79…\n",
       "  (4,1.0,0.01,2)    => [11107.790194000001,2469.222299,0.0,7966.568875,11107.79…\n",
       "  (4,3.0,0.001,1)   => [11107.790194000001,2469.222299,0.0,7966.568875,11107.79…\n",
       "  (8,2.0,1000.0,3)  => [11107.790194000001,2469.222299,0.0,7966.568875,11107.79…\n",
       "  (6,1.5,0.1,1)     => [11107.790194000001,2469.222299,0.0,7966.568875,11107.79…\n",
       "  (6,1.5,100.0,1)   => [11107.790194000001,2469.222299,0.0,7966.568875,11107.79…\n",
       "  (4,2.0,1000.0,3)  => [11107.790194000001,2469.222299,0.0,7966.568875,11107.79…\n",
       "  (5,2.5,10.0,1)    => [11107.790194000001,2469.222299,0.0,7966.568875,11107.79…\n",
       "  (7,0.5,1.0,3)     => [11107.790194000001,2469.222299,0.0,7966.568875,11107.79…\n",
       "  (5,0.5,100.0,2)   => [11107.790194000001,2469.222299,0.0,7966.568875,11107.79…\n",
       "  (7,1.5,1.0,3)     => [11107.790194000001,2469.222299,0.0,7966.568875,11107.79…\n",
       "  (4,0.5,0.01,1)    => [11107.790194000001,2469.222299,0.0,7966.568875,11107.79…\n",
       "  (8,1.0,1000.0,2)  => [11107.790194000001,2469.222299,0.0,7966.568875,11107.79…\n",
       "  (4,1.5,0.01,2)    => [11107.790194000001,2469.222299,0.0,7966.568875,11107.79…\n",
       "  (8,0.5,1000.0,2)  => [11107.790194000001,2469.222299,0.0,7966.568875,11107.79…\n",
       "  (8,2.5,100.0,3)   => [11107.790194000001,2469.222299,0.0,7966.568875,11107.79…\n",
       "  (5,1.0,0.1,1)     => [11107.790194000001,2469.222299,0.0,7966.568875,11107.79…\n",
       "  (7,1.5,0.1,1)     => [11107.790194000001,2469.222299,0.0,7966.568875,11107.79…\n",
       "  (4,1.0,10000.0,1) => [11107.790194000001,2469.222299,0.0,7966.568875,11107.79…\n",
       "  (7,1.0,1000.0,2)  => [11107.790194000001,2469.222299,0.0,7966.568875,11107.79…\n",
       "  (6,1.5,0.1,2)     => [11107.790194000001,2469.222299,0.0,7966.568875,11107.79…\n",
       "  (7,3.0,0.1,3)     => [11107.790194000001,2469.222299,0.0,7966.568875,11107.79…\n",
       "  (4,3.0,10.0,3)    => [11107.790194000001,2469.222299,0.0,7966.568875,11107.79…\n",
       "  (6,2.0,0.01,1)    => [11107.790194000001,2469.222299,0.0,7966.568875,11107.79…\n",
       "  (8,2.5,0.1,2)     => [11107.790194000001,2469.222299,0.0,7966.568875,11107.79…\n",
       "  ⋮                 => ⋮"
      ]
     },
     "execution_count": 6,
     "metadata": {},
     "output_type": "execute_result"
    }
   ],
   "source": [
    "xl"
   ]
  },
  {
   "cell_type": "code",
   "execution_count": 7,
   "metadata": {
    "collapsed": false
   },
   "outputs": [
    {
     "data": {
      "text/plain": [
       "24-element Array{Float64,1}:\n",
       " 11107.8 \n",
       "  2469.22\n",
       "     0.0 \n",
       "  7966.57\n",
       " 11107.8 \n",
       "  3186.78\n",
       "  5265.2 \n",
       "  4901.11\n",
       " 10838.3 \n",
       " 13503.0 \n",
       "  4532.1 \n",
       "  3857.81\n",
       "  5152.01\n",
       "  4352.55\n",
       "  5231.84\n",
       "  3947.25\n",
       "  4793.37\n",
       "  3937.57\n",
       " 16037.1 \n",
       " 14429.9 \n",
       "  4001.46\n",
       "  1048.39\n",
       "  4711.72\n",
       "  4487.64"
      ]
     },
     "execution_count": 7,
     "metadata": {},
     "output_type": "execute_result"
    }
   ],
   "source": [
    "xl[(8,2.5,0.1,2)]"
   ]
  },
  {
   "cell_type": "code",
   "execution_count": 4,
   "metadata": {
    "collapsed": false
   },
   "outputs": [
    {
     "data": {
      "image/png": "[encoded data removed]",
      "text/plain": [
       "Figure(PyObject <matplotlib.figure.Figure object at 0x7eff94887e10>)"
      ]
     },
     "metadata": {},
     "output_type": "display_data"
    }
   ],
   "source": [
    "using PyPlot\n",
    "\n",
    "fcoeffs = coeffs_dict_Apr_MD[\"(7,0.5,1000.0,1)\"]\n",
    "\n",
    "polyEval(coeffs, pt) = sum([coeffs[i] * pt^(i-1) for i = 1:length(coeffs)]) \n",
    "\n",
    "xs = linspace(0, 1.1, 30)\n",
    "ys = map(x->polyEval(fcoeffs, x), xs)\n",
    "\n",
    "plot(xs, ys, \"o-m\", label=\"Apr_MD\")\n",
    "\n",
    "#legend(loc=\"upper left\",fancybox=\"true\") \n",
    "\n",
    "grid(\"on\")\n",
    "xlim(-0.1, 1.05);\n",
    "ylim(0.99, 1.2);\n",
    "\n",
    "font1 = [\"family\"=>\"serif\",\n",
    "    \"color\"=>\"darkred\",\n",
    "    \"weight\"=>\"normal\",\n",
    "    \"size\"=>14]\n",
    "xlabel(\"Scaled Flow\", fontdict=font1)\n",
    "\n",
    "savefig(\"../temp_files/fitting_Apr_MD.pdf\")"
   ]
  },
  {
   "cell_type": "code",
   "execution_count": null,
   "metadata": {
    "collapsed": true
   },
   "outputs": [],
   "source": []
  }
 ],
 "metadata": {
  "kernelspec": {
   "display_name": "Julia 0.3.7",
   "language": "julia",
   "name": "julia-0.3"
  },
  "language_info": {
   "file_extension": ".jl",
   "mimetype": "application/julia",
   "name": "julia",
   "version": "0.3.7"
  }
 },
 "nbformat": 4,
 "nbformat_minor": 0
}
