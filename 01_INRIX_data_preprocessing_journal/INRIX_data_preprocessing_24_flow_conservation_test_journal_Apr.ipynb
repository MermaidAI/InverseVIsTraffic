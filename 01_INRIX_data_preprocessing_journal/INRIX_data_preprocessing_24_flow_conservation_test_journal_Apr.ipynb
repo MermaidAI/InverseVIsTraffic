{
 "cells": [
  {
   "cell_type": "code",
   "execution_count": 1,
   "metadata": {
    "collapsed": false
   },
   "outputs": [
    {
     "name": "stdout",
     "output_type": "stream",
     "text": [
      "No dicts found; please check load_dicts...\n"
     ]
    }
   ],
   "source": [
    "%run ../Python_files/util.py\n",
    "%run ../Python_files/load_dicts.py"
   ]
  },
  {
   "cell_type": "code",
   "execution_count": 2,
   "metadata": {
    "collapsed": false
   },
   "outputs": [],
   "source": [
    "import numpy as np\n",
    "from numpy.linalg import inv\n",
    "\n",
    "# load the original link counts data\n",
    "\n",
    "import json\n",
    "\n",
    "with open('../temp_files/link_day_minute_Apr_dict_journal_JSON_adjusted.json', 'r') as json_file:\n",
    "    link_day_minute_Apr_dict_JSON_adjusted = json.load(json_file)\n",
    "\n",
    "AM_flow_list = []\n",
    "MD_flow_list = []\n",
    "PM_flow_list = []\n",
    "NT_flow_list = []\n",
    "AM_flow_minute_list = []\n",
    "MD_flow_minute_list = []\n",
    "PM_flow_minute_list = []\n",
    "NT_flow_minute_list = []\n",
    "for link_idx in range(258):\n",
    "    for day in range(31)[1:]: \n",
    "        key = 'link_' + str(link_idx) + '_' + str(day)\n",
    "        AM_flow_list.append(link_day_minute_Apr_dict_JSON_adjusted[key] ['AM_flow'])\n",
    "        MD_flow_list.append(link_day_minute_Apr_dict_JSON_adjusted[key] ['MD_flow'])\n",
    "        PM_flow_list.append(link_day_minute_Apr_dict_JSON_adjusted[key] ['PM_flow'])\n",
    "        NT_flow_list.append(link_day_minute_Apr_dict_JSON_adjusted[key] ['NT_flow'])\n",
    "        for minute_idx in range(120):\n",
    "            AM_flow_minute_list.append(link_day_minute_Apr_dict_JSON_adjusted[key] ['AM_flow_minute'][minute_idx])\n",
    "            MD_flow_minute_list.append(link_day_minute_Apr_dict_JSON_adjusted[key] ['MD_flow_minute'][minute_idx])\n",
    "            PM_flow_minute_list.append(link_day_minute_Apr_dict_JSON_adjusted[key] ['PM_flow_minute'][minute_idx])\n",
    "            NT_flow_minute_list.append(link_day_minute_Apr_dict_JSON_adjusted[key] ['NT_flow_minute'][minute_idx])\n",
    "\n",
    "x_AM_flow = np.matrix(AM_flow_list)\n",
    "x_AM_flow = np.matrix.reshape(x_AM_flow, 258, 30)\n",
    "x_AM_flow = np.nan_to_num(x_AM_flow)\n",
    "\n",
    "x_MD_flow = np.matrix(MD_flow_list)\n",
    "x_MD_flow = np.matrix.reshape(x_MD_flow, 258, 30)\n",
    "x_MD_flow = np.nan_to_num(x_MD_flow)\n",
    "\n",
    "x_PM_flow = np.matrix(PM_flow_list)\n",
    "x_PM_flow = np.matrix.reshape(x_PM_flow, 258, 30)\n",
    "x_PM_flow = np.nan_to_num(x_PM_flow)\n",
    "\n",
    "x_NT_flow = np.matrix(NT_flow_list)\n",
    "x_NT_flow = np.matrix.reshape(x_NT_flow, 258, 30)\n",
    "x_NT_flow = np.nan_to_num(x_NT_flow)\n",
    "\n",
    "x_AM_flow_minute = np.matrix(AM_flow_minute_list)\n",
    "x_AM_flow_minute = np.matrix.reshape(x_AM_flow_minute, 258, 3600)\n",
    "x_AM_flow_minute = np.nan_to_num(x_AM_flow_minute)\n",
    "\n",
    "x_MD_flow_minute = np.matrix(MD_flow_minute_list)\n",
    "x_MD_flow_minute = np.matrix.reshape(x_MD_flow_minute, 258, 3600)\n",
    "x_MD_flow_minute = np.nan_to_num(x_MD_flow_minute)\n",
    "\n",
    "x_PM_flow_minute = np.matrix(PM_flow_minute_list)\n",
    "x_PM_flow_minute = np.matrix.reshape(x_PM_flow_minute, 258, 3600)\n",
    "x_PM_flow_minute = np.nan_to_num(x_PM_flow_minute)\n",
    "\n",
    "x_NT_flow_minute = np.matrix(NT_flow_minute_list)\n",
    "x_NT_flow_minute = np.matrix.reshape(x_NT_flow_minute, 258, 3600)\n",
    "x_NT_flow_minute = np.nan_to_num(x_NT_flow_minute)\n",
    "\n",
    "zz1 = x_AM_flow_minute[:,3599] \n",
    "zz = x_AM_flow[:,29] "
   ]
  },
  {
   "cell_type": "code",
   "execution_count": 3,
   "metadata": {
    "collapsed": false
   },
   "outputs": [
    {
     "data": {
      "text/plain": [
       "0.0"
      ]
     },
     "execution_count": 3,
     "metadata": {},
     "output_type": "execute_result"
    }
   ],
   "source": [
    "zz1[0,0] + zz1[2,0] + zz1[4,0] -( zz1[1,0] + zz1[3,0] + zz1[5,0])"
   ]
  },
  {
   "cell_type": "code",
   "execution_count": 4,
   "metadata": {
    "collapsed": false
   },
   "outputs": [
    {
     "data": {
      "text/plain": [
       "-2.2737367544323206e-13"
      ]
     },
     "execution_count": 4,
     "metadata": {},
     "output_type": "execute_result"
    }
   ],
   "source": [
    "zz[0,0] + zz[2,0] + zz[4,0] -( zz[1,0] + zz[3,0] + zz[5,0])"
   ]
  },
  {
   "cell_type": "code",
   "execution_count": 5,
   "metadata": {
    "collapsed": false
   },
   "outputs": [],
   "source": [
    "assert(zz1[0,0] + zz1[2,0] + zz1[4,0] - (zz1[1,0] + zz1[3,0] + zz1[5,0]) < 1e-5)\n",
    "assert(zz1[6,0] - zz1[7,0] < 1e-5)\n",
    "assert(zz1[1,0] + zz1[7,0] + zz1[8,0] + zz1[10,0] - (zz1[0,0] + zz1[6,0] + zz1[9,0] + zz1[11,0]) < 1e-5)\n",
    "assert(zz1[12,0] + zz1[14,0] - (zz1[13,0] + zz1[15,0]) < 1e-5)"
   ]
  },
  {
   "cell_type": "code",
   "execution_count": 6,
   "metadata": {
    "collapsed": true
   },
   "outputs": [],
   "source": [
    "from collections import defaultdict\n",
    "import csv\n",
    "\n",
    "ini_node_dict = {}\n",
    "ter_node_dict = {}\n",
    "\n",
    "origi_dict = defaultdict(set)\n",
    "desti_dict = defaultdict(set)\n",
    "\n",
    "input_file = '../00_subnetwork_topology/MA_journal_topology.csv'\n",
    "\n",
    "i = 0\n",
    "with open(input_file, 'rb') as inp:\n",
    "    for row in csv.reader(inp):\n",
    "        if 'origin' not in row:\n",
    "            ini_node_dict[i] = int(row[0])\n",
    "            ter_node_dict[i] = int(row[1])\n",
    "            origi_dict[int(row[0])].add(i)\n",
    "            desti_dict[int(row[1])].add(i)\n",
    "            i += 1"
   ]
  },
  {
   "cell_type": "code",
   "execution_count": 7,
   "metadata": {
    "collapsed": true
   },
   "outputs": [],
   "source": [
    "# for the journal network\n",
    "def flow_conservation_adjustment_journal(y_0):\n",
    "    L = len(y_0)  # dimension of flow vector x\n",
    "    assert(L == 258)\n",
    "\n",
    "    # y_0 = x[:,1]  # initial flow vector\n",
    "\n",
    "    model = Model(\"Flow_conservation_adjustment_journal\")\n",
    "\n",
    "    y = []\n",
    "    for l in range(L):\n",
    "        y.append(model.addVar(name='y_' + str(l)))\n",
    "\n",
    "    model.update() \n",
    "\n",
    "    # Set objective: ||y-y_0||^2\n",
    "    obj = 0\n",
    "    for l in range(L):\n",
    "        obj += (y[l] - y_0[l]) * (y[l] - y_0[l])\n",
    "    model.setObjective(obj)\n",
    "\n",
    "    # Add nonnegative constraint: y >= 0\n",
    "    for l in range(L):\n",
    "        model.addConstr(y[l] >= 0)\n",
    "    # Add flow conservation constraints\n",
    "    for node in range(75)[1:]:\n",
    "        model.addConstr(sum([y[link] for link in origi_dict[node]]) == \\\n",
    "                        sum([y[link] for link in desti_dict[node]])) \n",
    "\n",
    "    model.update() \n",
    "\n",
    "    model.setParam('OutputFlag', False)\n",
    "    model.optimize()\n",
    "\n",
    "    y = []\n",
    "    for v in model.getVars():\n",
    "        # print('%s %g' % (v.varName, v.x))\n",
    "        y.append(v.x)\n",
    "    # print('Obj: %g' % obj.getValue())\n",
    "    return y"
   ]
  },
  {
   "cell_type": "code",
   "execution_count": 8,
   "metadata": {
    "collapsed": false
   },
   "outputs": [
    {
     "data": {
      "text/plain": [
       "({12, 14}, {13, 15})"
      ]
     },
     "execution_count": 8,
     "metadata": {},
     "output_type": "execute_result"
    }
   ],
   "source": [
    "origi_dict[4], desti_dict[4]"
   ]
  },
  {
   "cell_type": "code",
   "execution_count": null,
   "metadata": {
    "collapsed": true
   },
   "outputs": [],
   "source": []
  }
 ],
 "metadata": {
  "kernelspec": {
   "display_name": "Python 2",
   "language": "python",
   "name": "python2"
  },
  "language_info": {
   "codemirror_mode": {
    "name": "ipython",
    "version": 2
   },
   "file_extension": ".py",
   "mimetype": "text/x-python",
   "name": "python",
   "nbconvert_exporter": "python",
   "pygments_lexer": "ipython2",
   "version": "2.7.12"
  }
 },
 "nbformat": 4,
 "nbformat_minor": 0
}
