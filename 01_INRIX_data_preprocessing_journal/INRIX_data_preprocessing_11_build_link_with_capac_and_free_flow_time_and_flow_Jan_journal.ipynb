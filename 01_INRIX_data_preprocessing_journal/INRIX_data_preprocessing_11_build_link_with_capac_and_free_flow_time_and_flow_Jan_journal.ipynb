{
 "cells": [
  {
   "cell_type": "code",
   "execution_count": 1,
   "metadata": {
    "collapsed": false
   },
   "outputs": [
    {
     "ename": "KeyError",
     "evalue": "'129P057931'",
     "output_type": "error",
     "traceback": [
      "\u001b[1;31m---------------------------------------------------------------------------\u001b[0m",
      "\u001b[1;31mKeyError\u001b[0m                                  Traceback (most recent call last)",
      "\u001b[1;32m/home/jzh/Research/Traffic/InverseVIsTraffic/Python_files/INRIX_data_preprocessing_11_build_link_with_capac_and_free_flow_time_and_flow_Jan_journal.py\u001b[0m in \u001b[0;36m<module>\u001b[1;34m()\u001b[0m\n\u001b[0;32m     69\u001b[0m         AM_flow = sum([tmc_day_capac_flow_dict[tmc + str(day)].AM_flow() * tmc_length_dict_journal[tmc] / \\\n\u001b[0;32m     70\u001b[0m                        \u001b[0mtmc_day_speed_dict_Jan_AM\u001b[0m\u001b[1;33m[\u001b[0m\u001b[0mtmc\u001b[0m \u001b[1;33m+\u001b[0m \u001b[0mstr\u001b[0m\u001b[1;33m(\u001b[0m\u001b[0mday\u001b[0m\u001b[1;33m)\u001b[0m\u001b[1;33m]\u001b[0m\u001b[1;33m.\u001b[0m\u001b[0mave_speed\u001b[0m\u001b[1;33m(\u001b[0m\u001b[1;33m)\u001b[0m\u001b[0;31m \u001b[0m\u001b[0;31m\\\u001b[0m\u001b[1;33m\u001b[0m\u001b[0m\n\u001b[1;32m---> 71\u001b[1;33m                        for tmc in link_with_capac.tmc_set]) / \\\n\u001b[0m\u001b[0;32m     72\u001b[0m                   sum([tmc_length_dict_journal[tmc] / tmc_day_speed_dict_Jan_AM[tmc + str(day)].ave_speed() \\\n\u001b[0;32m     73\u001b[0m                        for tmc in link_with_capac.tmc_set])\n",
      "\u001b[1;31mKeyError\u001b[0m: '129P057931'"
     ]
    }
   ],
   "source": [
    "%run ../Python_files/load_dicts.py\n",
    "%run ../Python_files/INRIX_data_preprocessing_11_build_link_with_capac_and_free_flow_time_and_flow_Jan_journal.py"
   ]
  }
 ],
 "metadata": {
  "kernelspec": {
   "display_name": "Python 2",
   "language": "python",
   "name": "python2"
  },
  "language_info": {
   "codemirror_mode": {
    "name": "ipython",
    "version": 2
   },
   "file_extension": ".py",
   "mimetype": "text/x-python",
   "name": "python",
   "nbconvert_exporter": "python",
   "pygments_lexer": "ipython2",
   "version": "2.7.12"
  }
 },
 "nbformat": 4,
 "nbformat_minor": 0
}
