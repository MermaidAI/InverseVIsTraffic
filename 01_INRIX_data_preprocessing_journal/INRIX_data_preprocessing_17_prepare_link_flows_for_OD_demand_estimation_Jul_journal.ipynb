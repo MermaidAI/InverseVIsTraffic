{
 "cells": [
  {
   "cell_type": "code",
   "execution_count": 1,
   "metadata": {
    "collapsed": false
   },
   "outputs": [
    {
     "name": "stdout",
     "output_type": "stream",
     "text": [
      "[522.13621455709051, 577.90890539888244, 577.63642204207304, 791.41920945250149, 781.40447574108248, 860.67239222240835, 813.79982840229161, 975.68502902149589, 1032.7393143856148, 1053.2780048127088]\n",
      "[655.7003849403749, 707.5599598805048, 661.6855832947656, 694.7140523636637, 758.907056796308, 778.8975367358403, 871.9357259276677, 871.9357259276677, 1010.188931189494, 1052.5581677437383]\n"
     ]
    }
   ],
   "source": [
    "%run ../Python_files/load_dicts.py\n",
    "%run ../Python_files/INRIX_data_preprocessing_17_prepare_link_flows_for_OD_demand_estimation_Jul_journal.py"
   ]
  },
  {
   "cell_type": "code",
   "execution_count": null,
   "metadata": {
    "collapsed": true
   },
   "outputs": [],
   "source": []
  }
 ],
 "metadata": {
  "kernelspec": {
   "display_name": "Python 2",
   "language": "python",
   "name": "python2"
  },
  "language_info": {
   "codemirror_mode": {
    "name": "ipython",
    "version": 2
   },
   "file_extension": ".py",
   "mimetype": "text/x-python",
   "name": "python",
   "nbconvert_exporter": "python",
   "pygments_lexer": "ipython2",
   "version": "2.7.12"
  }
 },
 "nbformat": 4,
 "nbformat_minor": 0
}
