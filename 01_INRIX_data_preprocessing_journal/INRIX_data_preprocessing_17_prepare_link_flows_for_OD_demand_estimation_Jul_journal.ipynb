{
 "cells": [
  {
   "cell_type": "code",
   "execution_count": 1,
   "metadata": {
    "collapsed": false
   },
   "outputs": [
    {
     "name": "stdout",
     "output_type": "stream",
     "text": [
      "[550.98828286156993, 616.28919773021425, 615.99861811153369, 829.17481885372217, 819.17709326147815, 898.31252962586541, 870.29193572261215, 1022.4629544292899, 1079.521656919494, 1090.6511122341558]\n",
      "[655.7003849403749, 707.5599598805048, 661.6855832947656, 694.7140523636637, 758.907056796308, 778.8975367358403, 871.9357259276677, 871.9357259276677, 1010.188931189494, 1052.5581677437383]\n"
     ]
    }
   ],
   "source": [
    "%run ../Python_files/load_dicts.py\n",
    "%run ../Python_files/INRIX_data_preprocessing_17_prepare_link_flows_for_OD_demand_estimation_Jul_journal.py"
   ]
  },
  {
   "cell_type": "code",
   "execution_count": null,
   "metadata": {
    "collapsed": true
   },
   "outputs": [],
   "source": []
  }
 ],
 "metadata": {
  "kernelspec": {
   "display_name": "Python [default]",
   "language": "python",
   "name": "python2"
  },
  "language_info": {
   "codemirror_mode": {
    "name": "ipython",
    "version": 2
   },
   "file_extension": ".py",
   "mimetype": "text/x-python",
   "name": "python",
   "nbconvert_exporter": "python",
   "pygments_lexer": "ipython2",
   "version": "2.7.12"
  }
 },
 "nbformat": 4,
 "nbformat_minor": 0
}
