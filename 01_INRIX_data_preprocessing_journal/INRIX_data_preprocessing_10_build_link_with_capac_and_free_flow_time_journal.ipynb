{
 "cells": [
  {
   "cell_type": "code",
   "execution_count": 1,
   "metadata": {
    "collapsed": false
   },
   "outputs": [],
   "source": [
    "%run ../Python_files/extract_tmc_links_journal.py\n",
    "\n",
    "%run ../Python_files/load_dicts.py\n",
    "\n",
    "%run ../Python_files/util.py\n",
    "\n",
    "import csv"
   ]
  },
  {
   "cell_type": "code",
   "execution_count": 2,
   "metadata": {
    "collapsed": true
   },
   "outputs": [],
   "source": [
    "tmc_set_link = {}\n",
    "AM_capac_link = {}\n",
    "MD_capac_link = {}\n",
    "PM_capac_link = {}\n",
    "NT_capac_link = {}\n",
    "\n",
    "num_of_links = 258\n",
    "for idx in range(num_of_links):\n",
    "    idx_ = idx / 2\n",
    "    if (idx % 2 == 0):\n",
    "        tmc_set_link[idx] = [i for i in tmc_list_journal_link_dict[str(idx_+1)] if ('P' in i or '+' in i)]\n",
    "    else:\n",
    "        tmc_set_link[idx] = [i for i in tmc_list_journal_link_dict[str(idx_+1)] if ('N' in i or '-' in i)]\n",
    "        \n",
    "    AM_capac_link[idx] = sum([tmc_capac_dict_AM_journal[i] * tmc_length_dict_journal[i] / \\\n",
    "                              (tmc_ref_speed_dict_journal[i]) for i in tmc_set_link[idx]]) / \\\n",
    "    sum([tmc_length_dict_journal[i] / (tmc_ref_speed_dict_journal[i]) for i in tmc_set_link[idx]])\n",
    "    \n",
    "    MD_capac_link[idx] = sum([tmc_capac_dict_MD_journal[i] * tmc_length_dict_journal[i] / \\\n",
    "                              (tmc_ref_speed_dict_journal[i]) for i in tmc_set_link[idx]]) / \\\n",
    "    sum([tmc_length_dict_journal[i] / (tmc_ref_speed_dict_journal[i]) for i in tmc_set_link[idx]])\n",
    "    \n",
    "    PM_capac_link[idx] = sum([tmc_capac_dict_PM_journal[i] * tmc_length_dict_journal[i] / \\\n",
    "                              (tmc_ref_speed_dict_journal[i]) for i in tmc_set_link[idx]]) / \\\n",
    "    sum([tmc_length_dict_journal[i] / (tmc_ref_speed_dict_journal[i]) for i in tmc_set_link[idx]])\n",
    "    \n",
    "    NT_capac_link[idx] = sum([tmc_capac_dict_NT_journal[i] * tmc_length_dict_journal[i] / \\\n",
    "                              (tmc_ref_speed_dict_journal[i]) for i in tmc_set_link[idx]]) / \\\n",
    "    sum([tmc_length_dict_journal[i] / (tmc_ref_speed_dict_journal[i]) for i in tmc_set_link[idx]])"
   ]
  },
  {
   "cell_type": "code",
   "execution_count": 3,
   "metadata": {
    "collapsed": true
   },
   "outputs": [],
   "source": [
    "ini_node_dict = {}\n",
    "ter_node_dict = {}\n",
    "\n",
    "input_file = '../00_subnetwork_topology/MA_journal_topology.csv'\n",
    "\n",
    "i = 0\n",
    "with open(input_file, 'rb') as inp:\n",
    "    for row in csv.reader(inp):\n",
    "        if 'origin' not in row:\n",
    "            ini_node_dict[i] = int(row[0])\n",
    "            ter_node_dict[i] = int(row[1])\n",
    "            i += 1"
   ]
  },
  {
   "cell_type": "code",
   "execution_count": 4,
   "metadata": {
    "collapsed": false
   },
   "outputs": [],
   "source": [
    "# instantiating Link class\n",
    "link = {}\n",
    "\n",
    "for idx in range(num_of_links):\n",
    "    link[idx] = Link_with_Free_Flow_Time_Journal(ini_node_dict[idx], ter_node_dict[idx], tmc_set_link[idx], \\\n",
    "                                                 AM_capac_link[idx], MD_capac_link[idx], \\\n",
    "                                                 PM_capac_link[idx], NT_capac_link[idx], 0, 0, 0, 0, 0, 0)"
   ]
  },
  {
   "cell_type": "code",
   "execution_count": 5,
   "metadata": {
    "collapsed": true
   },
   "outputs": [],
   "source": [
    "zdump([link[idx] for idx in range(num_of_links)], '../temp_files/links_with_capac_journal.pkz')"
   ]
  },
  {
   "cell_type": "code",
   "execution_count": 6,
   "metadata": {
    "collapsed": false
   },
   "outputs": [],
   "source": [
    "link_with_capac_list = list(zload('../temp_files/links_with_capac_journal.pkz'))\n",
    "\n",
    "link_length_dict = {}\n",
    "\n",
    "i = 0\n",
    "for link_with_capac in link_with_capac_list:\n",
    "    link_with_capac_new = Link_with_Free_Flow_Time_Journal(link_with_capac.init_node, link_with_capac.term_node, \\\n",
    "                                                   link_with_capac.tmc_set, \\\n",
    "                                                   link_with_capac.AM_capac, \\\n",
    "                                                   link_with_capac.MD_capac, \\\n",
    "                                                   link_with_capac.PM_capac, \\\n",
    "                                                   link_with_capac.NT_capac, \\\n",
    "                                                   link_with_capac.length, \\\n",
    "                                                   link_with_capac.free_flow_time, \\\n",
    "                                                   0, 0, 0, 0)\n",
    "    link_length_dict[str(i)] = link_with_capac_new\n",
    "    i = i + 1\n",
    "\n",
    "zdump(link_length_dict, '../temp_files/link_length_dict_journal.pkz')"
   ]
  }
 ],
 "metadata": {
  "kernelspec": {
   "display_name": "Python 2",
   "language": "python",
   "name": "python2"
  },
  "language_info": {
   "codemirror_mode": {
    "name": "ipython",
    "version": 2
   },
   "file_extension": ".py",
   "mimetype": "text/x-python",
   "name": "python",
   "nbconvert_exporter": "python",
   "pygments_lexer": "ipython2",
   "version": "2.7.12"
  }
 },
 "nbformat": 4,
 "nbformat_minor": 0
}
