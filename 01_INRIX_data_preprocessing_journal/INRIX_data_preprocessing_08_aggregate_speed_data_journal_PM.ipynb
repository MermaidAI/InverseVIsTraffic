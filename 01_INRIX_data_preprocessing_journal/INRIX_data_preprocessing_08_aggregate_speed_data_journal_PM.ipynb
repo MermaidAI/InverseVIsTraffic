{
 "cells": [
  {
   "cell_type": "code",
   "execution_count": 1,
   "metadata": {
    "collapsed": false
   },
   "outputs": [
    {
     "name": "stdout",
     "output_type": "stream",
     "text": [
      "No dicts found; please check load_dicts...\n"
     ]
    }
   ],
   "source": [
    "import json\n",
    "\n",
    "%run ../Python_files/util.py\n",
    "\n",
    "tmc_ref_speed_dict =zload('../temp_files/tmc_ref_speed_dict_journal.pkz')\n",
    "\n",
    "data_folder = '/home/jzh/INRIX/All_INRIX_2012_filtered_journal/'\n",
    "\n",
    "def aggregate_speed_data(month):\n",
    "    tmc_day_speed_PM_dict = {}\n",
    "\n",
    "    # reading JSON data\n",
    "    input_file_PM = data_folder + 'filtered_month_%s_PM_dict_journal.json' %(month)\n",
    "    with open(input_file_PM, 'r') as json_file_PM:\n",
    "        filtered_month_PM_dict = json.load(json_file_PM)\n",
    "\n",
    "    for tmc in tmc_ref_speed_dict.keys():\n",
    "        if tmc not in ['129P05793', '129+14189', '129-14188']:\n",
    "            days_ = days(month)\n",
    "            for day in range(days_)[1:]:\n",
    "                speed_PM = []\n",
    "                travel_time_PM = []\n",
    "                for hour in [17, 18]:\n",
    "                    for minute in range(60):\n",
    "                        key = str(tmc) + '_' + str(month) + '_' + str(day) + '_' + str(hour) + '_' + str(minute)\n",
    "                        # dealing with missing data\n",
    "                        if filtered_month_PM_dict[key] == '_':\n",
    "                            filtered_month_PM_dict[key] = '0.1_0.01'\n",
    "                        speed_PM.append(float(filtered_month_PM_dict[key].split('_')[0]))\n",
    "                        travel_time_PM.append(float(filtered_month_PM_dict[key].split('_')[1]))\n",
    "\n",
    "                tmc_day_speed_PM = TMC_Day_Speed(tmc, day, speed_PM, travel_time_PM)\n",
    "                tmc_day_speed_PM_dict[tmc + str(day)] = tmc_day_speed_PM\n",
    "        # dealing with missing data\n",
    "        else:\n",
    "            days_ = days(month)\n",
    "            for day in range(days_)[1:]:\n",
    "                tmc_day_speed_PM_dict[tmc + str(day)] = tmc_day_speed_PM_dict['129+04217' + str(day)]\n",
    "        \n",
    "    zdump(tmc_day_speed_PM_dict, '../temp_files/%s_PM/tmc_day_speed_dict_journal.pkz' %(month_to_str(month)))"
   ]
  },
  {
   "cell_type": "code",
   "execution_count": 2,
   "metadata": {
    "collapsed": true
   },
   "outputs": [],
   "source": [
    "aggregate_speed_data(1)"
   ]
  },
  {
   "cell_type": "code",
   "execution_count": 3,
   "metadata": {
    "collapsed": false
   },
   "outputs": [],
   "source": [
    "aggregate_speed_data(4)"
   ]
  },
  {
   "cell_type": "code",
   "execution_count": 4,
   "metadata": {
    "collapsed": true
   },
   "outputs": [],
   "source": [
    "aggregate_speed_data(7)"
   ]
  },
  {
   "cell_type": "code",
   "execution_count": 5,
   "metadata": {
    "collapsed": true
   },
   "outputs": [],
   "source": [
    "aggregate_speed_data(10)"
   ]
  }
 ],
 "metadata": {
  "anaconda-cloud": {},
  "kernelspec": {
   "display_name": "Python [default]",
   "language": "python",
   "name": "python2"
  },
  "language_info": {
   "codemirror_mode": {
    "name": "ipython",
    "version": 2
   },
   "file_extension": ".py",
   "mimetype": "text/x-python",
   "name": "python",
   "nbconvert_exporter": "python",
   "pygments_lexer": "ipython2",
   "version": "2.7.12"
  }
 },
 "nbformat": 4,
 "nbformat_minor": 0
}
