{
 "cells": [
  {
   "cell_type": "code",
   "execution_count": 1,
   "metadata": {
    "collapsed": false
   },
   "outputs": [
    {
     "name": "stdout",
     "output_type": "stream",
     "text": [
      "[981.66650577281757, 992.83492603350169, 996.93679834557543, 825.19224513210474, 1094.0851205005561, 1163.6152385599205, 1163.6152385599205, 1173.2735368886929, 1294.5604363047894, 1271.7014255157699]\n",
      "[724.2664537042393, 529.5853488507013, 483.89739127135715, 522.6189815041685, 579.2672146689456, 346.26133504501627, 426.68762477829364, 488.2271792513012, 741.80173656634, 643.5890699346908]\n"
     ]
    }
   ],
   "source": [
    "%run ../Python_files/load_dicts.py\n",
    "%run ../Python_files/INRIX_data_preprocessing_15_prepare_link_flows_for_OD_demand_estimation_Jan_journal.py"
   ]
  }
 ],
 "metadata": {
  "kernelspec": {
   "display_name": "Python 2",
   "language": "python",
   "name": "python2"
  },
  "language_info": {
   "codemirror_mode": {
    "name": "ipython",
    "version": 2
   },
   "file_extension": ".py",
   "mimetype": "text/x-python",
   "name": "python",
   "nbconvert_exporter": "python",
   "pygments_lexer": "ipython2",
   "version": "2.7.12"
  }
 },
 "nbformat": 4,
 "nbformat_minor": 0
}
