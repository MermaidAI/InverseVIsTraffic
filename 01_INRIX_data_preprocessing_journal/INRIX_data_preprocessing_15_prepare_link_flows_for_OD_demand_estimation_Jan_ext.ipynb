{
 "cells": [
  {
   "cell_type": "code",
   "execution_count": 1,
   "metadata": {
    "collapsed": false
   },
   "outputs": [
    {
     "name": "stdout",
     "output_type": "stream",
     "text": [
      "[1138.3959311229619, 1156.3618565456939, 1162.5238001984953, 879.1214409415403, 1266.130259696715, 1373.7009440081038, 1373.7009440081038, 1388.1920035980809, 1417.8315956838974, 1390.9142800064435]\n",
      "[493.3796687128294, 317.3028353334388, 259.161009916817, 365.23534264417555, 412.02542785123944, 217.6260430040804, 319.8134886303164, 342.8524920788149, 565.2185997940489, 501.11153962973356]\n"
     ]
    }
   ],
   "source": [
    "%run ../Python_files/load_dicts.py\n",
    "%run ../Python_files/INRIX_data_preprocessing_15_prepare_link_flows_for_OD_demand_estimation_Jan_ext.py"
   ]
  },
  {
   "cell_type": "code",
   "execution_count": null,
   "metadata": {
    "collapsed": true
   },
   "outputs": [],
   "source": []
  }
 ],
 "metadata": {
  "kernelspec": {
   "display_name": "Python 2",
   "language": "python",
   "name": "python2"
  },
  "language_info": {
   "codemirror_mode": {
    "name": "ipython",
    "version": 2
   },
   "file_extension": ".py",
   "mimetype": "text/x-python",
   "name": "python",
   "nbconvert_exporter": "python",
   "pygments_lexer": "ipython2",
   "version": "2.7.11"
  }
 },
 "nbformat": 4,
 "nbformat_minor": 0
}
