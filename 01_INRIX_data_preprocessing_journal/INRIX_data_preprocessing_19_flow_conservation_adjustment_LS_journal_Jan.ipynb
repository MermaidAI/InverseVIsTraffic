{
 "cells": [
  {
   "cell_type": "code",
   "execution_count": 1,
   "metadata": {
    "collapsed": false
   },
   "outputs": [
    {
     "name": "stdout",
     "output_type": "stream",
     "text": [
      "1767.33679707\n"
     ]
    }
   ],
   "source": [
    "%run ../Python_files/load_dicts.py\n",
    "%run ../Python_files/INRIX_data_preprocessing_19_flow_conservation_adjustment_LS_Jan_journal.py"
   ]
  },
  {
   "cell_type": "code",
   "execution_count": 2,
   "metadata": {
    "collapsed": true
   },
   "outputs": [],
   "source": [
    "# from collections import defaultdict\n",
    "# import csv\n",
    "\n",
    "# ini_node_dict = {}\n",
    "# ter_node_dict = {}\n",
    "\n",
    "# origi_dict = defaultdict(set)\n",
    "# desti_dict = defaultdict(set)\n",
    "\n",
    "# input_file = '../00_subnetwork_topology/MA_journal_topology.csv'\n",
    "\n",
    "# i = 0\n",
    "# with open(input_file, 'rb') as inp:\n",
    "#     for row in csv.reader(inp):\n",
    "#         if 'origin' not in row:\n",
    "#             ini_node_dict[i] = int(row[0])\n",
    "#             ter_node_dict[i] = int(row[1])\n",
    "#             origi_dict[int(row[0])].add(i)\n",
    "#             desti_dict[int(row[1])].add(i)\n",
    "#             i += 1"
   ]
  },
  {
   "cell_type": "code",
   "execution_count": 3,
   "metadata": {
    "collapsed": true
   },
   "outputs": [],
   "source": [
    "# # for the journal network\n",
    "# def flow_conservation_adjustment_journal(y_0):\n",
    "#     L = len(y_0)  # dimension of flow vector x\n",
    "#     assert(L == 258)\n",
    "\n",
    "#     # y_0 = x[:,1]  # initial flow vector\n",
    "\n",
    "#     model = Model(\"Flow_conservation_adjustment_journal\")\n",
    "\n",
    "#     y = []\n",
    "#     for l in range(L):\n",
    "#         y.append(model.addVar(name='y_' + str(l)))\n",
    "\n",
    "#     model.update() \n",
    "\n",
    "#     # Set objective: ||y-y_0||^2\n",
    "#     obj = 0\n",
    "#     for l in range(L):\n",
    "#         obj += (y[l] - y_0[l]) * (y[l] - y_0[l])\n",
    "#     model.setObjective(obj)\n",
    "\n",
    "#     # Add nonnegative constraint: y >= 0\n",
    "#     for l in range(L):\n",
    "#         model.addConstr(y[l] >= 0)\n",
    "#     # Add flow conservation constraints\n",
    "#     for node in range(75)[1:]:\n",
    "#         model.addConstr(sum([y[link] for link in origi_dict[node]]) == \\\n",
    "#                         sum([y[link] for link in desti_dict[node]])) \n",
    "\n",
    "#     model.update() \n",
    "\n",
    "#     model.setParam('OutputFlag', False)\n",
    "#     model.optimize()\n",
    "\n",
    "#     y = []\n",
    "#     for v in model.getVars():\n",
    "#         # print('%s %g' % (v.varName, v.x))\n",
    "#         y.append(v.x)\n",
    "#     # print('Obj: %g' % obj.getValue())\n",
    "#     return y"
   ]
  }
 ],
 "metadata": {
  "kernelspec": {
   "display_name": "Python 2",
   "language": "python",
   "name": "python2"
  },
  "language_info": {
   "codemirror_mode": {
    "name": "ipython",
    "version": 2
   },
   "file_extension": ".py",
   "mimetype": "text/x-python",
   "name": "python",
   "nbconvert_exporter": "python",
   "pygments_lexer": "ipython2",
   "version": "2.7.12"
  }
 },
 "nbformat": 4,
 "nbformat_minor": 0
}
