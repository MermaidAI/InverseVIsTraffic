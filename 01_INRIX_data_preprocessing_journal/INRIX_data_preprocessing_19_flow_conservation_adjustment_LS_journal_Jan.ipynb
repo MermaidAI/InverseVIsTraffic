{
 "cells": [
  {
   "cell_type": "code",
   "execution_count": 1,
   "metadata": {
    "collapsed": false
   },
   "outputs": [
    {
     "name": "stdout",
     "output_type": "stream",
     "text": [
      "1926.27798223\n"
     ]
    }
   ],
   "source": [
    "%run ../Python_files/load_dicts.py\n",
    "%run ../Python_files/INRIX_data_preprocessing_19_flow_conservation_adjustment_LS_Jan_journal.py"
   ]
  },
  {
   "cell_type": "code",
   "execution_count": null,
   "metadata": {
    "collapsed": true
   },
   "outputs": [],
   "source": [
    "# for the journal network\n",
    "def flow_conservation_adjustment_journal(y_0):\n",
    "    L = len(y_0)  # dimension of flow vector x\n",
    "    assert(L == 258)\n",
    "\n",
    "    # y_0 = x[:,1]  # initial flow vector\n",
    "\n",
    "    model = Model(\"Flow_conservation_adjustment_journal\")\n",
    "\n",
    "    y = []\n",
    "    for l in range(L):\n",
    "        y.append(model.addVar(name='y_' + str(l)))\n",
    "\n",
    "    model.update() \n",
    "\n",
    "    # Set objective: ||y-y_0||^2\n",
    "    obj = 0\n",
    "    for l in range(L):\n",
    "        obj += (y[l] - y_0[l]) * (y[l] - y_0[l])\n",
    "    model.setObjective(obj)\n",
    "\n",
    "    # Add nonnegative constraint: y >= 0\n",
    "    for l in range(L):\n",
    "        model.addConstr(y[l] >= 0)\n",
    "    # Add flow conservation constraints\n",
    "    model.addConstr(y[1] + y[3] == y[0] + y[2])  # node 1\n",
    "    model.addConstr(y[0] + y[5] + y[7] == y[1] + y[4] + y[6])  # node 2\n",
    "    model.addConstr(y[2] + y[4] + y[9] == y[3] + y[5] + y[8])  # node 3\n",
    "    model.addConstr(y[6] + y[11] + y[13] + y[16] + y[19] == y[7] + y[10] + y[12] + y[14] + y[18])  # node 4\n",
    "    model.addConstr(y[18] + y[23] + y[25] == y[19] + y[22] + y[24])  # node 5\n",
    "    model.addConstr(y[8] + y[10] + y[21] == y[9] + y[11] + y[20])  # node 6\n",
    "    model.addConstr(y[12] + y[15] + y[20] + y[27] + y[29] == y[13] + y[17] + y[21] + y[26] + y[28])  # node 7\n",
    "    model.addConstr(y[22] + y[33] + y[37] == y[23] + y[32] + y[36])  # node 8\n",
    "    model.addConstr(y[24] + y[26] + y[31] == y[25] + y[27] + y[30])  # node 9\n",
    "    model.addConstr(y[30] + y[32] + y[35] + y[39] == y[31] + y[33] + y[34] + y[38])  # node 10\n",
    "    model.addConstr(y[28] + y[34] + y[41] == y[29] + y[35] + y[40])  # node 11\n",
    "    model.addConstr(y[36] + y[43] + y[46] + y[45] + y[50] == y[37] + y[42] + y[44] + y[47] + y[48])  # node 12\n",
    "    model.addConstr(y[38] + y[42] + y[45] + y[49] + y[53] + y[56] + y[61] + y[63] == \\\n",
    "                    y[39] + y[43] + y[47] + y[51] + y[52] + y[54] + y[60] + y[62])  # node 13\n",
    "    model.addConstr(y[40] + y[52] + y[55] + y[65] + y[68] == y[41] + y[53] + y[57] + y[64] + y[66])  # node 14\n",
    "    model.addConstr(y[58] + y[60] + y[71] == y[59] + y[61] + y[70])  # node 15\n",
    "    model.addConstr(y[62] + y[64] + y[67] + y[73] == y[63] + y[65] + y[69] + y[72])  # node 16\n",
    "    model.addConstr(y[70] + y[72] == y[71] + y[73])  # node 17\n",
    "    model.addConstr(y[14] + y[17] == y[15] + y[16])  # node 18\n",
    "    model.addConstr(y[44] + y[47] == y[45] + y[46])  # node 19\n",
    "    model.addConstr(y[48] + y[51] == y[49] + y[50])  # node 20\n",
    "    model.addConstr(y[54] + y[57] == y[55] + y[56])  # node 21\n",
    "    model.addConstr(y[66] + y[69] == y[67] + y[68])  # node 22\n",
    "\n",
    "    model.update() \n",
    "\n",
    "    model.setParam('OutputFlag', False)\n",
    "    model.optimize()\n",
    "\n",
    "    y = []\n",
    "    for v in model.getVars():\n",
    "        # print('%s %g' % (v.varName, v.x))\n",
    "        y.append(v.x)\n",
    "    # print('Obj: %g' % obj.getValue())\n",
    "    return y"
   ]
  }
 ],
 "metadata": {
  "kernelspec": {
   "display_name": "Python 2",
   "language": "python",
   "name": "python2"
  },
  "language_info": {
   "codemirror_mode": {
    "name": "ipython",
    "version": 2
   },
   "file_extension": ".py",
   "mimetype": "text/x-python",
   "name": "python",
   "nbconvert_exporter": "python",
   "pygments_lexer": "ipython2",
   "version": "2.7.12"
  }
 },
 "nbformat": 4,
 "nbformat_minor": 0
}
