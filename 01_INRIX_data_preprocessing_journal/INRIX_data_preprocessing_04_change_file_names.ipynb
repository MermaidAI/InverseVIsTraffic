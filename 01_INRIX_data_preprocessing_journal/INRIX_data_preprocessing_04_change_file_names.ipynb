{
 "cells": [
  {
   "cell_type": "code",
   "execution_count": 1,
   "metadata": {
    "collapsed": false
   },
   "outputs": [
    {
     "name": "stdout",
     "output_type": "stream",
     "text": [
      "Directory exists\n",
      "['filtered_INRIX_attribute_table_journal_link_15.xlsx', 'filtered_INRIX_attribute_table_ext_link_28.xlsx', 'filtered_INRIX_attribute_table_journal_link_120.xlsx', 'filtered_INRIX_attribute_table_ext_link_29.xlsx', 'filtered_INRIX_attribute_table_journal_link_89.xlsx', 'filtered_INRIX_attribute_table_journal_link_32.xlsx', 'filtered_INRIX_attribute_table.xlsx', 'filtered_INRIX_attribute_table_journal_link_38.xlsx', 'filtered_INRIX_attribute_table_ext_link_20.xlsx', 'filtered_INRIX_attribute_table_journal_link_86.xlsx', 'filtered_INRIX_attribute_table_ext_link_30.xlsx', 'filtered_INRIX_attribute_table_journal_link_29.xlsx', 'MA_highway_network_topology_.pdf', 'filtered_INRIX_attribute_table_journal_link_23.xlsx', 'filtered_INRIX_attribute_table_journal_link_20.xlsx', 'filtered_INRIX_attribute_table_journal_link_39.xlsx', 'filtered_INRIX_attribute_table_link_5.xlsx', 'filtered_INRIX_attribute_table_journal_link_30.xlsx', 'filtered_INRIX_attribute_table_journal_link_21.xlsx', 'filtered_INRIX_attribute_table_journal_link_65.xlsx', 'filtered_INRIX_attribute_table_journal_link_87.xlsx', 'filtered_INRIX_attribute_table_journal_link_91.xlsx', 'filtered_INRIX_attribute_table_journal_link_117.xlsx', 'filtered_INRIX_attribute_table_journal_link_70.xlsx', 'MA_highway_network_submap.png', 'filtered_INRIX_attribute_table_journal_link_94.xlsx', 'filtered_INRIX_attribute_table_journal_link_115.xlsx', 'filtered_INRIX_attribute_table_journal_link_109.xlsx', 'filtered_INRIX_attribute_table_journal_link_53.xlsx', 'filtered_INRIX_attribute_table_journal_link_24.xlsx', 'filtered_INRIX_attribute_table_journal_link_16.xlsx', 'filtered_INRIX_attribute_table_journal_link_88.xlsx', 'filtered_INRIX_attribute_table_journal_link_59.xlsx', 'roadinv_id_to_tmc_lookup.xlsx', 'filtered_INRIX_attribute_table_journal_link_96.xlsx', 'filtered_INRIX_attribute_table_ext_link_6.xlsx', 'filtered_INRIX_attribute_table_ext_link_10.xlsx', 'filtered_INRIX_attribute_table_journal_link_101.xlsx', 'filtered_INRIX_attribute_table_journal_link_76.xlsx', 'filtered_INRIX_attribute_table_journal_link_58.xlsx', 'filtered_INRIX_attribute_table_journal_link_97.xlsx', 'filtered_INRIX_attribute_table_journal_link_57.xlsx', 'filtered_INRIX_attribute_table_ext_link_26.xlsx', 'filtered_INRIX_attribute_table_journal_link_2.xlsx', 'filtered_INRIX_attribute_table_journal_link_44.xlsx', 'filtered_INRIX_attribute_table_ext_link_9.xlsx', 'filtered_INRIX_attribute_table_journal_link_95.xlsx', 'filtered_INRIX_attribute_table_ext_link_12.xlsx', 'filtered_INRIX_attribute_table_journal_link_127.xlsx', 'filtered_INRIX_attribute_table_journal_link_48.xlsx', 'filtered_INRIX_attribute_table_ext_link_17.xlsx', 'filtered_INRIX_attribute_table_journal_link_90.xlsx', 'filtered_INRIX_attribute_table_ext_link_7.xlsx', 'filtered_INRIX_attribute_table_journal_link_69.xlsx', 'filtered_INRIX_attribute_table_ext_link_25.xlsx', 'filtered_INRIX_attribute_table_ext_link_24.xlsx', 'filtered_INRIX_attribute_table_journal_link_68.xlsx', 'filtered_INRIX_attribute_table_journal_link_27.xlsx', 'filtered_INRIX_attribute_table_journal_link_121.xlsx', 'filtered_INRIX_attribute_table_journal_link_102.xlsx', 'filtered_INRIX_attribute_table_journal_link_119.xlsx', 'filtered_INRIX_attribute_table_ext_link_18.xlsx', 'filtered_INRIX_attribute_table_journal_link_106.xlsx', 'filtered_INRIX_attribute_table_ext_link_8.xlsx', 'filtered_INRIX_attribute_table_journal_link_37.xlsx', 'filtered_INRIX_attribute_table_journal_link_46.xlsx', 'filtered_INRIX_attribute_table_journal_link_40.xlsx', 'filtered_INRIX_attribute_table_journal_link_105.xlsx', 'filtered_INRIX_attribute_table_journal_link_7.xlsx', 'filtered_INRIX_attribute_table_link_11.xlsx', 'filtered_INRIX_attribute_table_journal_link_9.xlsx', 'filtered_INRIX_attribute_table_link_1.xlsx', 'filtered_INRIX_attribute_table_ext_link_14.xlsx', 'filtered_INRIX_attribute_table_journal_link_10.xlsx', 'filtered_INRIX_attribute_table_ext_link_13.xlsx', 'filtered_INRIX_attribute_table_ext_link_32.xlsx', 'filtered_INRIX_attribute_table_journal_link_99.xlsx', 'filtered_INRIX_attribute_table_link_3.xlsx', 'filtered_INRIX_attribute_table_link_4.xlsx', 'filtered_INRIX_attribute_table_journal_link_129.xlsx', 'filtered_INRIX_attribute_table_journal_link_5.xlsx', 'filtered_INRIX_attribute_table_journal_link_25.xlsx', 'filtered_INRIX_attribute_table_journal_link_77.xlsx', 'filtered_INRIX_attribute_table_journal_link_104.xlsx', 'filtered_INRIX_attribute_table_journal_link_56.xlsx', 'filtered_INRIX_attribute_table_journal_link_118.xlsx', 'filtered_INRIX_attribute_table_journal_link_43.xlsx', 'filtered_INRIX_attribute_table_ext_link_5.xlsx', 'filtered_INRIX_attribute_table_journal_link_63.xlsx', 'filtered_INRIX_attribute_table_journal_link_114.xlsx', 'filtered_INRIX_attribute_table_journal_link_41.xlsx', 'filtered_INRIX_attribute_table_link_2.xlsx', 'filtered_INRIX_attribute_table_journal_link_4.xlsx', 'filtered_INRIX_attribute_table_journal_link_100.xlsx', 'filtered_INRIX_attribute_table_journal_link_31.xlsx', 'filtered_INRIX_attribute_table_journal_link_33.xlsx', 'filtered_INRIX_attribute_table_journal_link_75.xlsx', 'filtered_INRIX_attribute_table_ext_link_23.xlsx', 'filtered_INRIX_attribute_table_journal_link_73.xlsx', 'filtered_INRIX_attribute_table_journal_link_126.xlsx', 'filtered_INRIX_attribute_table_ext_link_11.xlsx', 'filtered_INRIX_attribute_table_journal_link_116.xlsx', 'filtered_INRIX_attribute_table_ext_link_16.xlsx', 'filtered_INRIX_attribute_table_journal_link_67.xlsx', 'filtered_INRIX_attribute_table_journal_link_28.xlsx', 'filtered_INRIX_attribute_table_journal_link_72.xlsx', 'filtered_INRIX_attribute_table_journal_link_60.xlsx', 'filtered_INRIX_attribute_table_journal_link_92.xlsx', 'filtered_INRIX_attribute_table_journal_link_18.xlsx', 'filtered_INRIX_attribute_table_journal_link_49.xlsx', 'filtered_INRIX_attribute_table_journal_link_8.xlsx', 'filtered_INRIX_attribute_table_journal_link_111.xlsx', 'filtered_INRIX_attribute_table_journal_link_81.xlsx', 'filtered_INRIX_attribute_table_journal_link_64.xlsx', 'filtered_INRIX_attribute_table_link_6.xlsx', 'filtered_INRIX_attribute_table_journal_link_51.xlsx', 'capacity_attribute_table_add_column_idx.xlsx', 'filtered_INRIX_attribute_table_ext_link_4.xlsx', 'filtered_INRIX_attribute_table_journal_link_79.xlsx', 'filtered_INRIX_attribute_table_link_10.xlsx', 'filtered_INRIX_attribute_table_journal_link_107.xlsx', 'filtered_INRIX_attribute_table_journal_link_124.xlsx', 'filtered_INRIX_attribute_table_ext_link_22.xlsx', 'filtered_INRIX_attribute_table_journal_link_6.xlsx', 'filtered_INRIX_attribute_table_journal_link_78.xlsx', 'filtered_INRIX_attribute_table_journal_link_80.xlsx', 'filtered_INRIX_attribute_table_journal_link_3.xlsx', 'filtered_INRIX_attribute_table_link_7.xlsx', 'filtered_INRIX_attribute_table_journal_link_50.xlsx', 'filtered_INRIX_attribute_table_journal_link_125.xlsx', 'filtered_INRIX_attribute_table_journal_link_26.xlsx', 'filtered_INRIX_attribute_table_link_12.xlsx', 'filtered_INRIX_attribute_table_ext_link_31.xlsx', 'filtered_INRIX_attribute_table_journal_link_19.xlsx', 'capacity_attribute_table.xlsx', 'filtered_INRIX_attribute_table_journal_link_128.xlsx', 'filtered_INRIX_attribute_table_journal_link_108.xlsx', 'filtered_INRIX_attribute_table_journal_link_84.xlsx', 'filtered_INRIX_attribute_table_journal_link_103.xlsx', 'filtered_INRIX_attribute_table_journal_link_71.xlsx', 'filtered_INRIX_attribute_table_journal_link_82.xlsx', 'filtered_INRIX_attribute_table_journal_link_122.xlsx', 'filtered_INRIX_attribute_table_journal_link_112.xlsx', 'filtered_INRIX_attribute_table_ext_link_27.xlsx', 'filtered_INRIX_attribute_table_journal_link_12.xlsx', 'filtered_INRIX_attribute_table_journal_link_55.xlsx', 'filtered_INRIX_attribute_table_journal_link_93.xlsx', 'filtered_INRIX_attribute_table_ext_link_15.xlsx', 'filtered_capacity_attribute_table.xlsx', 'filtered_INRIX_attribute_table_journal_link_110.xlsx', 'filtered_INRIX_attribute_table_journal_link_13.xlsx', 'filtered_INRIX_attribute_table_journal_link_1.xlsx', 'filtered_INRIX_attribute_table_journal_link_61.xlsx', 'filtered_INRIX_attribute_table_journal_link_47.xlsx', 'filtered_INRIX_attribute_table_journal_link_22.xlsx', 'filtered_INRIX_attribute_table_ext_link_19.xlsx', 'filtered_INRIX_attribute_table_journal_link_45.xlsx', 'filtered_INRIX_attribute_table_link_9.xlsx', 'filtered_INRIX_attribute_table_ext_link_1.xlsx', 'filtered_INRIX_attribute_table_journal_link_36.xlsx', 'filtered_INRIX_attribute_table_journal_link_35.xlsx', 'filtered_INRIX_attribute_table_journal_link_62.xlsx', 'filtered_INRIX_attribute_table_ext_link_21.xlsx', 'filtered_INRIX_attribute_table_ext_link_2.xlsx', 'filtered_INRIX_attribute_table_journal_link_34.xlsx', 'filtered_INRIX_attribute_table_journal_link_17.xlsx', 'filtered_INRIX_attribute_table_journal_link_74.xlsx', 'filtered_INRIX_attribute_table_ext.xlsx', '.~lock.filtered_INRIX_attribute_table.xlsx#', 'filtered_INRIX_attribute_table_journal_link_85.xlsx', 'filtered_INRIX_attribute_table_journal_link_83.xlsx', 'filtered_INRIX_attribute_table_journal_link_11.xlsx', 'filtered_INRIX_attribute_table_journal_link_113.xlsx', 'filtered_INRIX_attribute_table_journal_link_54.xlsx', 'filtered_INRIX_attribute_table_journal_link_42.xlsx', 'filtered_INRIX_attribute_table_journal_link_52.xlsx', 'filtered_INRIX_attribute_table_journal_link_123.xlsx', 'filtered_INRIX_attribute_table_journal_link_98.xlsx', 'filtered_INRIX_attribute_table_journal.xlsx', 'filtered_INRIX_attribute_table_journal_link_66.xlsx', 'filtered_INRIX_attribute_table_journal_link_14.xlsx', 'filtered_INRIX_attribute_table_ext_link_3.xlsx', 'filtered_INRIX_attribute_table_link_8.xlsx']\n"
     ]
    }
   ],
   "source": [
    "# cf. http://world77.blog.51cto.com/414605/552326\n",
    "\n",
    "#!/usr/bin/env python\n",
    "import os\n",
    "import shutil\n",
    "import time\n",
    "\n",
    "data_dir = \"/home/jzh/Dropbox/Research/Data-driven_estimation_inverse_optimization/INRIX/Raw_data\"\n",
    "\n",
    "# 判断是否存在路径\n",
    "if os.path.isdir(data_dir):    \n",
    "    print (\"Directory exists\")\n",
    "else:\n",
    "    print (\"Directory does not exist; please input right dir\")    # 如果不存在，就提示\n",
    "\n",
    "filelist = []\n",
    "\n",
    "filelist = os.listdir(data_dir)    # 得到文件名\n",
    "\n",
    "print(filelist)\n",
    "\n",
    "data_dir = \"/home/jzh/Dropbox/Research/Data-driven_estimation_inverse_optimization/INRIX/Raw_data/\"\n",
    "\n",
    "for i in filelist:\n",
    "    NewFile = i.replace(\"Link\", \"link\")   \n",
    "    # print NewFile     \n",
    "    shutil.move(data_dir + i, data_dir + NewFile)   "
   ]
  },
  {
   "cell_type": "code",
   "execution_count": null,
   "metadata": {
    "collapsed": true
   },
   "outputs": [],
   "source": []
  }
 ],
 "metadata": {
  "anaconda-cloud": {},
  "kernelspec": {
   "display_name": "Python [default]",
   "language": "python",
   "name": "python2"
  },
  "language_info": {
   "codemirror_mode": {
    "name": "ipython",
    "version": 2
   },
   "file_extension": ".py",
   "mimetype": "text/x-python",
   "name": "python",
   "nbconvert_exporter": "python",
   "pygments_lexer": "ipython2",
   "version": "2.7.12"
  }
 },
 "nbformat": 4,
 "nbformat_minor": 0
}
