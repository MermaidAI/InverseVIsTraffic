{
 "cells": [
  {
   "cell_type": "code",
   "execution_count": 1,
   "metadata": {
    "collapsed": false
   },
   "outputs": [
    {
     "name": "stdout",
     "output_type": "stream",
     "text": [
      "No dicts found; please check load_dicts...\n"
     ]
    }
   ],
   "source": [
    "import json\n",
    "\n",
    "%run ../Python_files/util.py\n",
    "\n",
    "tmc_ref_speed_dict =zload('../temp_files/tmc_ref_speed_dict_journal.pkz')\n",
    "\n",
    "data_folder = '/home/jzh/INRIX/All_INRIX_2012_filtered_journal/'\n",
    "\n",
    "def aggregate_speed_data(month):\n",
    "    tmc_day_speed_NT_dict = {}\n",
    "\n",
    "    # Reading JSON data\n",
    "    input_file_NT = data_folder + 'filtered_month_%s_NT_dict_journal.json' %(month)\n",
    "    with open(input_file_NT, 'r') as json_file_NT:\n",
    "        filtered_month_NT_dict = json.load(json_file_NT)\n",
    "\n",
    "    for tmc in tmc_ref_speed_dict.keys():\n",
    "        days_ = days(month)\n",
    "        for day in range(days_)[1:]:\n",
    "            speed_NT = []\n",
    "            travel_time_NT = []\n",
    "            for hour in [21, 22]:\n",
    "                for minute in range(60):\n",
    "                    key = str(tmc) + '_' + str(month) + '_' + str(day) + '_' + str(hour) + '_' + str(minute)\n",
    "                    # dealing with missing data\n",
    "                    if filtered_month_NT_dict[key] == '_':\n",
    "                        filtered_month_NT_dict[key] = '30_0.02'\n",
    "                    speed_NT.append(float(filtered_month_NT_dict[key].split('_')[0]))\n",
    "                    travel_time_NT.append(float(filtered_month_NT_dict[key].split('_')[1]))\n",
    "\n",
    "            tmc_day_speed_NT = TMC_Day_Speed(tmc, day, speed_NT, travel_time_NT)\n",
    "            tmc_day_speed_NT_dict[tmc + str(day)] = tmc_day_speed_NT\n",
    "\n",
    "    zdump(tmc_day_speed_NT_dict, '../temp_files/%s_NT/tmc_day_speed_dict_journal.pkz' %(month_to_str(month)))"
   ]
  },
  {
   "cell_type": "code",
   "execution_count": 2,
   "metadata": {
    "collapsed": true
   },
   "outputs": [],
   "source": [
    "aggregate_speed_data(1)"
   ]
  },
  {
   "cell_type": "code",
   "execution_count": 3,
   "metadata": {
    "collapsed": false
   },
   "outputs": [],
   "source": [
    "aggregate_speed_data(4)"
   ]
  },
  {
   "cell_type": "code",
   "execution_count": 4,
   "metadata": {
    "collapsed": true
   },
   "outputs": [],
   "source": [
    "aggregate_speed_data(7)"
   ]
  },
  {
   "cell_type": "code",
   "execution_count": 5,
   "metadata": {
    "collapsed": true
   },
   "outputs": [],
   "source": [
    "aggregate_speed_data(10)"
   ]
  }
 ],
 "metadata": {
  "anaconda-cloud": {},
  "kernelspec": {
   "display_name": "Python [default]",
   "language": "python",
   "name": "python2"
  },
  "language_info": {
   "codemirror_mode": {
    "name": "ipython",
    "version": 2
   },
   "file_extension": ".py",
   "mimetype": "text/x-python",
   "name": "python",
   "nbconvert_exporter": "python",
   "pygments_lexer": "ipython2",
   "version": "2.7.12"
  }
 },
 "nbformat": 4,
 "nbformat_minor": 0
}
