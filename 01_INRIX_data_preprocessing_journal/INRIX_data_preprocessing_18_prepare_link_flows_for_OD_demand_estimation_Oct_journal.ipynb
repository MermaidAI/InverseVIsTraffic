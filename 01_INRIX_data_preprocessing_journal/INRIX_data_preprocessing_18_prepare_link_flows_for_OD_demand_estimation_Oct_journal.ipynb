{
 "cells": [
  {
   "cell_type": "code",
   "execution_count": 1,
   "metadata": {
    "collapsed": false
   },
   "outputs": [
    {
     "name": "stdout",
     "output_type": "stream",
     "text": [
      "[434.70298544966846, 357.94962948557099, 420.16016649653773, 429.3092916567806, 373.5696510380651, 277.48639265959974, 252.09065598783235, 221.51356410392714, 434.84126380726286, 627.20981167166406]\n",
      "[46.923134708197175, 18.96279582942185, 138.33050300447826, 169.23975318705033, 165.31082480686288, 165.31082480686288, 115.7446708049669, 146.69666060901315, 115.54596963827872, 115.54596963827872]\n"
     ]
    }
   ],
   "source": [
    "%run ../Python_files/load_dicts.py\n",
    "%run ../Python_files/INRIX_data_preprocessing_18_prepare_link_flows_for_OD_demand_estimation_Oct_journal.py"
   ]
  },
  {
   "cell_type": "code",
   "execution_count": null,
   "metadata": {
    "collapsed": true
   },
   "outputs": [],
   "source": []
  }
 ],
 "metadata": {
  "kernelspec": {
   "display_name": "Python [default]",
   "language": "python",
   "name": "python2"
  },
  "language_info": {
   "codemirror_mode": {
    "name": "ipython",
    "version": 2
   },
   "file_extension": ".py",
   "mimetype": "text/x-python",
   "name": "python",
   "nbconvert_exporter": "python",
   "pygments_lexer": "ipython2",
   "version": "2.7.12"
  }
 },
 "nbformat": 4,
 "nbformat_minor": 0
}
