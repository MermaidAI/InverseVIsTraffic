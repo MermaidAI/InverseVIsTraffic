{
 "cells": [
  {
   "cell_type": "code",
   "execution_count": 1,
   "metadata": {
    "collapsed": false
   },
   "outputs": [
    {
     "name": "stdout",
     "output_type": "stream",
     "text": [
      "[405.6926066194959, 328.78684218684862, 390.97745625657899, 390.45136792219921, 334.52795857856592, 228.38329671269645, 202.90860427603658, 172.33432884937906, 386.20065425211578, 579.35260316939321]\n",
      "[46.923134708197175, 18.96279582942185, 138.33050300447826, 169.23975318705033, 165.31082480686288, 165.31082480686288, 115.7446708049669, 146.69666060901315, 115.54596963827872, 115.54596963827872]\n"
     ]
    }
   ],
   "source": [
    "%run ../Python_files/load_dicts.py\n",
    "%run ../Python_files/INRIX_data_preprocessing_18_prepare_link_flows_for_OD_demand_estimation_Oct_journal.py"
   ]
  },
  {
   "cell_type": "code",
   "execution_count": null,
   "metadata": {
    "collapsed": true
   },
   "outputs": [],
   "source": []
  }
 ],
 "metadata": {
  "kernelspec": {
   "display_name": "Python 2",
   "language": "python",
   "name": "python2"
  },
  "language_info": {
   "codemirror_mode": {
    "name": "ipython",
    "version": 2
   },
   "file_extension": ".py",
   "mimetype": "text/x-python",
   "name": "python",
   "nbconvert_exporter": "python",
   "pygments_lexer": "ipython2",
   "version": "2.7.12"
  }
 },
 "nbformat": 4,
 "nbformat_minor": 0
}
