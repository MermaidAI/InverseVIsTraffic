{
 "cells": [
  {
   "cell_type": "code",
   "execution_count": 1,
   "metadata": {
    "collapsed": false
   },
   "outputs": [
    {
     "name": "stdout",
     "output_type": "stream",
     "text": [
      "No dicts found; please check load_dicts...\n"
     ]
    }
   ],
   "source": [
    "import json\n",
    "%run ../Python_files/util.py\n",
    "\n",
    "# tmc_ref_speed_dict.keys\n",
    "\n",
    "# AM: 7:00 am - 9:00 am\n",
    "# MD: 11:00 am - 13:00 pm\n",
    "# PM: 17:00 pm - 19:00 pm\n",
    "# NT: 21:00 pm - 23:00 pm\n",
    "\n",
    "data_folder = '/home/jzh/INRIX/All_INRIX_2012_filtered_journal/'"
   ]
  },
  {
   "cell_type": "code",
   "execution_count": 13,
   "metadata": {
    "collapsed": false
   },
   "outputs": [],
   "source": [
    "month = 'Apr'\n",
    "\n",
    "# Load JSON data\n",
    "input_file = data_folder + 'tmc_%s_%s_day_hour_minute_speed_travelTime_dict_journal.json' %(month, 1)\n",
    "with open(input_file, 'r') as json_file:\n",
    "    temp_dict_1 = json.load(json_file)\n",
    "    \n",
    "input_file = data_folder + 'tmc_%s_%s_day_hour_minute_speed_travelTime_dict_journal.json' %(month, 2)\n",
    "with open(input_file, 'r') as json_file:\n",
    "    temp_dict_2 = json.load(json_file)"
   ]
  },
  {
   "cell_type": "code",
   "execution_count": null,
   "metadata": {
    "collapsed": true
   },
   "outputs": [],
   "source": [
    "temp_dict_1.update(temp_dict_2)"
   ]
  },
  {
   "cell_type": "code",
   "execution_count": null,
   "metadata": {
    "collapsed": true
   },
   "outputs": [],
   "source": []
  }
 ],
 "metadata": {
  "anaconda-cloud": {},
  "kernelspec": {
   "display_name": "Python [default]",
   "language": "python",
   "name": "python2"
  },
  "language_info": {
   "codemirror_mode": {
    "name": "ipython",
    "version": 2
   },
   "file_extension": ".py",
   "mimetype": "text/x-python",
   "name": "python",
   "nbconvert_exporter": "python",
   "pygments_lexer": "ipython2",
   "version": "2.7.12"
  }
 },
 "nbformat": 4,
 "nbformat_minor": 0
}
