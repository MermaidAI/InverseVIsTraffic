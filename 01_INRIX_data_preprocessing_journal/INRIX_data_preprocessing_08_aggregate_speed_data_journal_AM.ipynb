{
 "cells": [
  {
   "cell_type": "code",
   "execution_count": 1,
   "metadata": {
    "collapsed": false
   },
   "outputs": [
    {
     "name": "stdout",
     "output_type": "stream",
     "text": [
      "No dicts found; please check load_dicts...\n"
     ]
    }
   ],
   "source": [
    "import json\n",
    "\n",
    "%run ../Python_files/util.py\n",
    "\n",
    "tmc_ref_speed_dict =zload('../temp_files/tmc_ref_speed_dict_journal.pkz')\n",
    "\n",
    "data_folder = '/home/jzh/INRIX/All_INRIX_2012_filtered_journal/'\n",
    "\n",
    "def aggregate_speed_data(month):\n",
    "    tmc_day_speed_AM_dict = {}\n",
    "\n",
    "    # Reading JSON data\n",
    "    input_file_AM = data_folder + 'filtered_month_%s_AM_dict_journal.json' %(month)\n",
    "    with open(input_file_AM, 'r') as json_file_AM:\n",
    "        filtered_month_AM_dict = json.load(json_file_AM)\n",
    "\n",
    "    for tmc in tmc_ref_speed_dict.keys():\n",
    "        days_ = days(month)\n",
    "        for day in range(days_)[1:]:\n",
    "            speed_AM = []\n",
    "            travel_time_AM = []\n",
    "            for hour in [7, 8]:\n",
    "                for minute in range(60):\n",
    "                    key = str(tmc) + '_' + str(month) + '_' + str(day) + '_' + str(hour) + '_' + str(minute)\n",
    "                    # dealing with missing data\n",
    "                    if filtered_month_AM_dict[key] == '_':\n",
    "                        filtered_month_AM_dict[key] = '30_0.02'\n",
    "                    speed_AM.append(float(filtered_month_AM_dict[key].split('_')[0]))\n",
    "                    travel_time_AM.append(float(filtered_month_AM_dict[key].split('_')[1]))\n",
    "\n",
    "            tmc_day_speed_AM = TMC_Day_Speed(tmc, day, speed_AM, travel_time_AM)\n",
    "            tmc_day_speed_AM_dict[tmc + str(day)] = tmc_day_speed_AM\n",
    "\n",
    "    zdump(tmc_day_speed_AM_dict, '../temp_files/%s_AM/tmc_day_speed_dict_journal.pkz' %(month_to_str(month)))"
   ]
  },
  {
   "cell_type": "code",
   "execution_count": 2,
   "metadata": {
    "collapsed": true
   },
   "outputs": [],
   "source": [
    "aggregate_speed_data(1)"
   ]
  },
  {
   "cell_type": "code",
   "execution_count": 3,
   "metadata": {
    "collapsed": true
   },
   "outputs": [],
   "source": [
    "aggregate_speed_data(4)"
   ]
  },
  {
   "cell_type": "code",
   "execution_count": 4,
   "metadata": {
    "collapsed": true
   },
   "outputs": [],
   "source": [
    "aggregate_speed_data(7)"
   ]
  },
  {
   "cell_type": "code",
   "execution_count": 5,
   "metadata": {
    "collapsed": false
   },
   "outputs": [],
   "source": [
    "aggregate_speed_data(10)"
   ]
  },
  {
   "cell_type": "code",
   "execution_count": null,
   "metadata": {
    "collapsed": true
   },
   "outputs": [],
   "source": []
  }
 ],
 "metadata": {
  "kernelspec": {
   "display_name": "Python [default]",
   "language": "python",
   "name": "python2"
  },
  "language_info": {
   "codemirror_mode": {
    "name": "ipython",
    "version": 2
   },
   "file_extension": ".py",
   "mimetype": "text/x-python",
   "name": "python",
   "nbconvert_exporter": "python",
   "pygments_lexer": "ipython2",
   "version": "2.7.12"
  }
 },
 "nbformat": 4,
 "nbformat_minor": 0
}
