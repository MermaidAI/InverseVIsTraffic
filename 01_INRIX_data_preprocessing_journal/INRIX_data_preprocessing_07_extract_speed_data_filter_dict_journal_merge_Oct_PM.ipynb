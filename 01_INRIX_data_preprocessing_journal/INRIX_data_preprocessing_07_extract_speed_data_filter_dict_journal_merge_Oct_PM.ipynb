{
 "cells": [
  {
   "cell_type": "code",
   "execution_count": 1,
   "metadata": {
    "collapsed": false
   },
   "outputs": [
    {
     "name": "stdout",
     "output_type": "stream",
     "text": [
      "No dicts found; please check load_dicts...\n"
     ]
    }
   ],
   "source": [
    "import json\n",
    "%run ../Python_files/util.py\n",
    "\n",
    "# tmc_ref_speed_dict.keys\n",
    "\n",
    "# AM: 7:00 am - 9:00 am\n",
    "# MD: 11:00 am - 13:00 pm\n",
    "# PM: 17:00 pm - 19:00 pm\n",
    "# NT: 21:00 pm - 23:00 pm\n",
    "\n",
    "data_folder = '/home/jzh/INRIX/All_INRIX_2012_filtered_journal/'"
   ]
  },
  {
   "cell_type": "code",
   "execution_count": 2,
   "metadata": {
    "collapsed": false
   },
   "outputs": [],
   "source": [
    "month = 10\n",
    "\n",
    "# Load JSON data\n",
    "input_file = data_folder + 'filtered_month_%s_%s_PM_dict_journal.json' %(month, 1)\n",
    "with open(input_file, 'r') as json_file:\n",
    "    temp_dict_1 = json.load(json_file)\n",
    "    \n",
    "input_file = data_folder + 'filtered_month_%s_%s_PM_dict_journal.json' %(month, 2)\n",
    "with open(input_file, 'r') as json_file:\n",
    "    temp_dict_2 = json.load(json_file)\n",
    "    \n",
    "input_file = data_folder + 'filtered_month_%s_%s_PM_dict_journal.json' %(month, 3)\n",
    "with open(input_file, 'r') as json_file:\n",
    "    temp_dict_3 = json.load(json_file)\n",
    "    \n",
    "input_file = data_folder + 'filtered_month_%s_%s_PM_dict_journal.json' %(month, 4)\n",
    "with open(input_file, 'r') as json_file:\n",
    "    temp_dict_4 = json.load(json_file)\n",
    "    \n",
    "input_file = data_folder + 'filtered_month_%s_%s_PM_dict_journal.json' %(month, 5)\n",
    "with open(input_file, 'r') as json_file:\n",
    "    temp_dict_5 = json.load(json_file)\n",
    "    \n",
    "input_file = data_folder + 'filtered_month_%s_%s_PM_dict_journal.json' %(month, 6)\n",
    "with open(input_file, 'r') as json_file:\n",
    "    temp_dict_6 = json.load(json_file)\n",
    "    \n",
    "input_file = data_folder + 'filtered_month_%s_%s_PM_dict_journal.json' %(month, 7)\n",
    "with open(input_file, 'r') as json_file:\n",
    "    temp_dict_7 = json.load(json_file)\n",
    "    \n",
    "input_file = data_folder + 'filtered_month_%s_%s_PM_dict_journal.json' %(month, 8)\n",
    "with open(input_file, 'r') as json_file:\n",
    "    temp_dict_8 = json.load(json_file)"
   ]
  },
  {
   "cell_type": "code",
   "execution_count": 3,
   "metadata": {
    "collapsed": true
   },
   "outputs": [],
   "source": [
    "temp_dict_1.update(temp_dict_2)\n",
    "temp_dict_1.update(temp_dict_3)\n",
    "temp_dict_1.update(temp_dict_4)\n",
    "temp_dict_1.update(temp_dict_5)\n",
    "temp_dict_1.update(temp_dict_6)\n",
    "temp_dict_1.update(temp_dict_7)\n",
    "temp_dict_1.update(temp_dict_8)"
   ]
  },
  {
   "cell_type": "code",
   "execution_count": 4,
   "metadata": {
    "collapsed": false
   },
   "outputs": [],
   "source": [
    "# Writing JSON data\n",
    "input_file_PM = data_folder + 'filtered_month_%s_PM_dict_journal.json' %(month)\n",
    "with open(input_file_PM, 'w') as json_file_PM:\n",
    "    json.dump(temp_dict_1, json_file_PM)"
   ]
  }
 ],
 "metadata": {
  "anaconda-cloud": {},
  "kernelspec": {
   "display_name": "Python [default]",
   "language": "python",
   "name": "python2"
  },
  "language_info": {
   "codemirror_mode": {
    "name": "ipython",
    "version": 2
   },
   "file_extension": ".py",
   "mimetype": "text/x-python",
   "name": "python",
   "nbconvert_exporter": "python",
   "pygments_lexer": "ipython2",
   "version": "2.7.12"
  }
 },
 "nbformat": 4,
 "nbformat_minor": 0
}
