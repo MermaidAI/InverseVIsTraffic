{
 "cells": [
  {
   "cell_type": "code",
   "execution_count": 1,
   "metadata": {
    "collapsed": false
   },
   "outputs": [
    {
     "name": "stdout",
     "output_type": "stream",
     "text": [
      "No dicts found; please check load_dicts...\n"
     ]
    }
   ],
   "source": [
    "#!/usr/bin/env python\n",
    "import os\n",
    "import csv\n",
    "import glob\n",
    "import numpy as np\n",
    "import json\n",
    "from multiprocessing import Process\n",
    "\n",
    "%run ../Python_files/util.py\n",
    "\n",
    "tmc_ref_speed_dict =zload('../temp_files/tmc_ref_speed_dict_journal.pkz')\n",
    "\n",
    "# tmc_ref_speed_dict.keys\n",
    "\n",
    "# AM: 7:00 am - 9:00 am\n",
    "# MD: 11:00 am - 13:00 pm\n",
    "# PM: 17:00 pm - 19:00 pm\n",
    "# NT: 21:00 pm - 23:00 pm\n",
    "\n",
    "data_folder = '/home/jzh/INRIX/All_INRIX_2012_filtered_journal/'\n",
    "\n",
    "def data_path(month, idx):\n",
    "    if month == 'Jan':\n",
    "        return data_folder + 'Jan_%s/'%(idx)\n",
    "    elif month == 'Apr':\n",
    "        return data_folder + 'Apr_%s/'%(idx)\n",
    "    elif month == 'Jul':\n",
    "        return data_folder + 'Jul_%s/'%(idx)\n",
    "    elif month == 'Oct':\n",
    "        return data_folder + 'Oct_%s/'%(idx)\n",
    "    else:\n",
    "        raise IOError(\"Invalid input; please input another month.\")\n",
    "        \n",
    "\n",
    "def create_dict(month, idx):\n",
    "    temp_dict = {}\n",
    "    data_dir = data_path(month, idx)\n",
    "    for input_file in glob.glob(data_dir + '*.csv'):\n",
    "        with open(input_file, 'rb') as inp:\n",
    "            reader = csv.reader(inp)\n",
    "            for row in reader:\n",
    "                if 'tmc' not in row:\n",
    "                    key = row[0] + '_' + str(row[1]) + '_' + str(row[2]) + '_' + str(row[4]) + '_' + str(row[5])\n",
    "                    value = str(row[6]) + '_' + str(row[9])\n",
    "                    temp_dict[key] = value\n",
    "                    #print row[0], row[1], row[2], row[4], row[5], row[6], row[9]\n",
    "    # Writing JSON data\n",
    "    input_file = data_folder + 'tmc_%s_%s_day_hour_minute_speed_travelTime_dict_journal.json' %(month, idx)\n",
    "    with open(input_file, 'w') as json_file:\n",
    "        json.dump(temp_dict, json_file)"
   ]
  },
  {
   "cell_type": "code",
   "execution_count": 2,
   "metadata": {
    "collapsed": true
   },
   "outputs": [],
   "source": [
    "for idx in range(9)[1:]:\n",
    "    create_dict('Jan', idx)\n",
    "for idx in range(9)[1:]:\n",
    "    create_dict('Apr', idx)\n",
    "for idx in range(9)[1:]:\n",
    "    create_dict('Jul', idx)\n",
    "for idx in range(9)[1:]:\n",
    "    create_dict('Oct', idx)"
   ]
  },
  {
   "cell_type": "code",
   "execution_count": null,
   "metadata": {
    "collapsed": true
   },
   "outputs": [],
   "source": []
  }
 ],
 "metadata": {
  "anaconda-cloud": {},
  "kernelspec": {
   "display_name": "Python [default]",
   "language": "python",
   "name": "python2"
  },
  "language_info": {
   "codemirror_mode": {
    "name": "ipython",
    "version": 2
   },
   "file_extension": ".py",
   "mimetype": "text/x-python",
   "name": "python",
   "nbconvert_exporter": "python",
   "pygments_lexer": "ipython2",
   "version": "2.7.12"
  }
 },
 "nbformat": 4,
 "nbformat_minor": 0
}
