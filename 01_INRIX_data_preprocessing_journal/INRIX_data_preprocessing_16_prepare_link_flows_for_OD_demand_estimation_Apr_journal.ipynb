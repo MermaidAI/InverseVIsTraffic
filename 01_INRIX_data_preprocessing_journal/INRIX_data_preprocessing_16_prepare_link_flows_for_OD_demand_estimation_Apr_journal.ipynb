{
 "cells": [
  {
   "cell_type": "code",
   "execution_count": 1,
   "metadata": {
    "collapsed": false
   },
   "outputs": [
    {
     "name": "stdout",
     "output_type": "stream",
     "text": [
      "[706.57497866121196, 727.72806763249662, 664.32441527200103, 831.51974081546143, 773.0431712305508, 793.53250483509862, 802.21179620036219, 806.44914005982298, 738.66784295841433, 838.01049582957251]\n",
      "[731.6291426540072, 858.7984280920065, 956.3797893414587, 811.2723622839925, 745.5027990095334, 759.8567951574072, 706.3010101886715, 595.463130706752, 595.3192264625602, 728.2538845701207]\n"
     ]
    }
   ],
   "source": [
    "%run ../Python_files/load_dicts.py\n",
    "%run ../Python_files/INRIX_data_preprocessing_16_prepare_link_flows_for_OD_demand_estimation_Apr_journal.py"
   ]
  },
  {
   "cell_type": "code",
   "execution_count": null,
   "metadata": {
    "collapsed": true
   },
   "outputs": [],
   "source": []
  }
 ],
 "metadata": {
  "kernelspec": {
   "display_name": "Python 2",
   "language": "python",
   "name": "python2"
  },
  "language_info": {
   "codemirror_mode": {
    "name": "ipython",
    "version": 2
   },
   "file_extension": ".py",
   "mimetype": "text/x-python",
   "name": "python",
   "nbconvert_exporter": "python",
   "pygments_lexer": "ipython2",
   "version": "2.7.12"
  }
 },
 "nbformat": 4,
 "nbformat_minor": 0
}
