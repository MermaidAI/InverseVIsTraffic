{
 "cells": [
  {
   "cell_type": "code",
   "execution_count": 1,
   "metadata": {
    "collapsed": false
   },
   "outputs": [
    {
     "name": "stdout",
     "output_type": "stream",
     "text": [
      "[725.61146744920029, 756.22310444512982, 692.89684458564852, 859.87775968189464, 801.48056893381397, 821.96793143631032, 821.18286922897335, 825.41719287776311, 757.68769435420688, 856.91037235431304]\n",
      "[731.6291426540072, 858.7984280920065, 956.3797893414587, 811.2723622839925, 745.5027990095334, 759.8567951574072, 706.3010101886715, 595.463130706752, 595.3192264625602, 728.2538845701207]\n"
     ]
    }
   ],
   "source": [
    "%run ../Python_files/load_dicts.py\n",
    "%run ../Python_files/INRIX_data_preprocessing_16_prepare_link_flows_for_OD_demand_estimation_Apr_journal.py"
   ]
  },
  {
   "cell_type": "code",
   "execution_count": null,
   "metadata": {
    "collapsed": true
   },
   "outputs": [],
   "source": []
  }
 ],
 "metadata": {
  "kernelspec": {
   "display_name": "Python [default]",
   "language": "python",
   "name": "python2"
  },
  "language_info": {
   "codemirror_mode": {
    "name": "ipython",
    "version": 2
   },
   "file_extension": ".py",
   "mimetype": "text/x-python",
   "name": "python",
   "nbconvert_exporter": "python",
   "pygments_lexer": "ipython2",
   "version": "2.7.12"
  }
 },
 "nbformat": 4,
 "nbformat_minor": 0
}
