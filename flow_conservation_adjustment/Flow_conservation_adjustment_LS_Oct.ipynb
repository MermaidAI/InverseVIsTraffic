{
 "cells": [
  {
   "cell_type": "code",
   "execution_count": 1,
   "metadata": {
    "collapsed": true
   },
   "outputs": [],
   "source": [
    "%run ../Python_files/util_data_storage_and_load.py"
   ]
  },
  {
   "cell_type": "code",
   "execution_count": 2,
   "metadata": {
    "collapsed": true
   },
   "outputs": [],
   "source": [
    "%run ../Python_files/load_dicts.py"
   ]
  },
  {
   "cell_type": "code",
   "execution_count": 3,
   "metadata": {
    "collapsed": false
   },
   "outputs": [],
   "source": [
    "%run ../Python_files/util.py"
   ]
  },
  {
   "cell_type": "code",
   "execution_count": 4,
   "metadata": {
    "collapsed": false
   },
   "outputs": [],
   "source": [
    "import numpy as np\n",
    "from numpy.linalg import inv"
   ]
  },
  {
   "cell_type": "code",
   "execution_count": 5,
   "metadata": {
    "collapsed": false
   },
   "outputs": [],
   "source": [
    "# load the original link counts data\n",
    "\n",
    "import json\n",
    "\n",
    "with open('../temp_files/link_day_minute_Oct_dict_JSON.json', 'r') as json_file:\n",
    "    link_day_minute_Oct_dict_JSON = json.load(json_file)"
   ]
  },
  {
   "cell_type": "code",
   "execution_count": 6,
   "metadata": {
    "collapsed": false
   },
   "outputs": [],
   "source": [
    "AM_flow_list = []\n",
    "MD_flow_list = []\n",
    "PM_flow_list = []\n",
    "NT_flow_list = []\n",
    "AM_flow_minute_list = []\n",
    "MD_flow_minute_list = []\n",
    "PM_flow_minute_list = []\n",
    "NT_flow_minute_list = []\n",
    "for link_idx in range(24):\n",
    "    for day in range(32)[1:]: \n",
    "        key = 'link_' + str(link_idx) + '_' + str(day)\n",
    "        AM_flow_list.append(link_day_minute_Oct_dict_JSON[key] ['AM_flow'])\n",
    "        MD_flow_list.append(link_day_minute_Oct_dict_JSON[key] ['MD_flow'])\n",
    "        PM_flow_list.append(link_day_minute_Oct_dict_JSON[key] ['PM_flow'])\n",
    "        NT_flow_list.append(link_day_minute_Oct_dict_JSON[key] ['NT_flow'])\n",
    "        for minute_idx in range(120):\n",
    "            AM_flow_minute_list.append(link_day_minute_Oct_dict_JSON[key] ['AM_flow_minute'][minute_idx])\n",
    "            MD_flow_minute_list.append(link_day_minute_Oct_dict_JSON[key] ['MD_flow_minute'][minute_idx])\n",
    "            PM_flow_minute_list.append(link_day_minute_Oct_dict_JSON[key] ['PM_flow_minute'][minute_idx])\n",
    "            NT_flow_minute_list.append(link_day_minute_Oct_dict_JSON[key] ['NT_flow_minute'][minute_idx])"
   ]
  },
  {
   "cell_type": "code",
   "execution_count": 7,
   "metadata": {
    "collapsed": true
   },
   "outputs": [],
   "source": [
    "x_AM_flow = np.matrix(AM_flow_list)\n",
    "x_AM_flow = np.matrix.reshape(x_AM_flow, 24, 31)\n",
    "x_AM_flow = np.nan_to_num(x_AM_flow)\n",
    "\n",
    "x_MD_flow = np.matrix(MD_flow_list)\n",
    "x_MD_flow = np.matrix.reshape(x_MD_flow, 24, 31)\n",
    "x_MD_flow = np.nan_to_num(x_MD_flow)\n",
    "\n",
    "x_PM_flow = np.matrix(PM_flow_list)\n",
    "x_PM_flow = np.matrix.reshape(x_PM_flow, 24, 31)\n",
    "x_PM_flow = np.nan_to_num(x_PM_flow)\n",
    "\n",
    "x_NT_flow = np.matrix(NT_flow_list)\n",
    "x_NT_flow = np.matrix.reshape(x_NT_flow, 24, 31)\n",
    "x_NT_flow = np.nan_to_num(x_NT_flow)"
   ]
  },
  {
   "cell_type": "code",
   "execution_count": 8,
   "metadata": {
    "collapsed": false
   },
   "outputs": [],
   "source": [
    "x_AM_flow_minute = np.matrix(AM_flow_minute_list)\n",
    "x_AM_flow_minute = np.matrix.reshape(x_AM_flow_minute, 24, 3720)\n",
    "x_AM_flow_minute = np.nan_to_num(x_AM_flow_minute)\n",
    "\n",
    "x_MD_flow_minute = np.matrix(MD_flow_minute_list)\n",
    "x_MD_flow_minute = np.matrix.reshape(x_MD_flow_minute, 24, 3720)\n",
    "x_MD_flow_minute = np.nan_to_num(x_MD_flow_minute)\n",
    "\n",
    "x_PM_flow_minute = np.matrix(PM_flow_minute_list)\n",
    "x_PM_flow_minute = np.matrix.reshape(x_PM_flow_minute, 24, 3720)\n",
    "x_PM_flow_minute = np.nan_to_num(x_PM_flow_minute)\n",
    "\n",
    "x_NT_flow_minute = np.matrix(NT_flow_minute_list)\n",
    "x_NT_flow_minute = np.matrix.reshape(x_NT_flow_minute, 24, 3720)\n",
    "x_NT_flow_minute = np.nan_to_num(x_NT_flow_minute)"
   ]
  },
  {
   "cell_type": "code",
   "execution_count": 9,
   "metadata": {
    "collapsed": false
   },
   "outputs": [
    {
     "data": {
      "text/plain": [
       "1898.414370844065"
      ]
     },
     "execution_count": 9,
     "metadata": {},
     "output_type": "execute_result"
    }
   ],
   "source": [
    "link_day_minute_Oct_dict_JSON['link_0_1'] ['AM_flow_minute'][0]"
   ]
  },
  {
   "cell_type": "code",
   "execution_count": 10,
   "metadata": {
    "collapsed": false
   },
   "outputs": [],
   "source": [
    "y_AM_flow = []\n",
    "y_MD_flow = []\n",
    "y_PM_flow = []\n",
    "y_NT_flow = []\n",
    "\n",
    "for j in range(np.size(x_AM_flow, 1)):\n",
    "    y_AM_flow_0 = x_AM_flow[:,j]  # initial flow vector\n",
    "    y_MD_flow_0 = x_MD_flow[:,j]  # initial flow vector\n",
    "    y_PM_flow_0 = x_PM_flow[:,j]  # initial flow vector\n",
    "    y_NT_flow_0 = x_NT_flow[:,j]  # initial flow vector\n",
    "\n",
    "    y_AM_flow.append(flow_conservation_adjustment(y_AM_flow_0))\n",
    "    y_MD_flow.append(flow_conservation_adjustment(y_MD_flow_0))\n",
    "    y_PM_flow.append(flow_conservation_adjustment(y_PM_flow_0))\n",
    "    y_NT_flow.append(flow_conservation_adjustment(y_NT_flow_0))"
   ]
  },
  {
   "cell_type": "code",
   "execution_count": 11,
   "metadata": {
    "collapsed": false
   },
   "outputs": [],
   "source": [
    "y_AM_flow_minute = []\n",
    "y_MD_flow_minute = []\n",
    "y_PM_flow_minute = []\n",
    "y_NT_flow_minute = []\n",
    "\n",
    "for j in range(np.size(x_AM_flow_minute, 1)):\n",
    "    y_AM_flow_minute_0 = x_AM_flow_minute[:,j]  # initial flow vector\n",
    "    y_MD_flow_minute_0 = x_MD_flow_minute[:,j]  # initial flow vector\n",
    "    y_PM_flow_minute_0 = x_PM_flow_minute[:,j]  # initial flow vector\n",
    "    y_NT_flow_minute_0 = x_NT_flow_minute[:,j]  # initial flow vector\n",
    "\n",
    "    y_AM_flow_minute.append(flow_conservation_adjustment(y_AM_flow_minute_0))\n",
    "    y_MD_flow_minute.append(flow_conservation_adjustment(y_MD_flow_minute_0))\n",
    "    y_PM_flow_minute.append(flow_conservation_adjustment(y_PM_flow_minute_0))\n",
    "    y_NT_flow_minute.append(flow_conservation_adjustment(y_NT_flow_minute_0))"
   ]
  },
  {
   "cell_type": "code",
   "execution_count": 12,
   "metadata": {
    "collapsed": true
   },
   "outputs": [],
   "source": [
    "y_AM_flow = np.matrix(y_AM_flow)\n",
    "y_AM_flow = np.matrix.transpose(y_AM_flow)\n",
    "\n",
    "y_MD_flow = np.matrix(y_MD_flow)\n",
    "y_MD_flow = np.matrix.transpose(y_MD_flow)\n",
    "\n",
    "y_PM_flow = np.matrix(y_PM_flow)\n",
    "y_PM_flow = np.matrix.transpose(y_PM_flow)\n",
    "\n",
    "y_NT_flow = np.matrix(y_NT_flow)\n",
    "y_NT_flow = np.matrix.transpose(y_NT_flow)"
   ]
  },
  {
   "cell_type": "code",
   "execution_count": 13,
   "metadata": {
    "collapsed": false
   },
   "outputs": [],
   "source": [
    "y_AM_flow_minute = np.matrix(y_AM_flow_minute)\n",
    "y_AM_flow_minute = np.matrix.transpose(y_AM_flow_minute)\n",
    "\n",
    "y_MD_flow_minute = np.matrix(y_MD_flow_minute)\n",
    "y_MD_flow_minute = np.matrix.transpose(y_MD_flow_minute)\n",
    "\n",
    "y_PM_flow_minute = np.matrix(y_PM_flow_minute)\n",
    "y_PM_flow_minute = np.matrix.transpose(y_PM_flow_minute)\n",
    "\n",
    "y_NT_flow_minute = np.matrix(y_NT_flow_minute)\n",
    "y_NT_flow_minute = np.matrix.transpose(y_NT_flow_minute)"
   ]
  },
  {
   "cell_type": "code",
   "execution_count": 14,
   "metadata": {
    "collapsed": false
   },
   "outputs": [],
   "source": [
    "link_day_minute_Oct_dict_JSON_adjusted = {}\n",
    "\n",
    "for link_idx in range(24):\n",
    "    AM_flow = np.matrix.reshape(y_AM_flow[link_idx,:], 31, 1)\n",
    "    MD_flow = np.matrix.reshape(y_MD_flow[link_idx,:], 31, 1)\n",
    "    PM_flow = np.matrix.reshape(y_PM_flow[link_idx,:], 31, 1)\n",
    "    NT_flow = np.matrix.reshape(y_NT_flow[link_idx,:], 31, 1)\n",
    "    AM_flow_minute = np.matrix.reshape(y_AM_flow_minute[link_idx,:], 31, 120)\n",
    "    MD_flow_minute = np.matrix.reshape(y_MD_flow_minute[link_idx,:], 31, 120)\n",
    "    PM_flow_minute = np.matrix.reshape(y_PM_flow_minute[link_idx,:], 31, 120)\n",
    "    NT_flow_minute = np.matrix.reshape(y_NT_flow_minute[link_idx,:], 31, 120)\n",
    "\n",
    "    for day in range(32)[1:]:   \n",
    "        key = 'link_' + str(link_idx) + '_' + str(day)\n",
    "        data = {'link_idx': link_idx, 'day': day, \\\n",
    "             'init_node': link_day_minute_Oct_dict_JSON[key]['init_node'], \\\n",
    "             'term_node': link_day_minute_Oct_dict_JSON[key]['term_node'], \\\n",
    "             'AM_capac': link_day_minute_Oct_dict_JSON[key]['AM_capac'], \\\n",
    "             'MD_capac': link_day_minute_Oct_dict_JSON[key]['MD_capac'], \\\n",
    "             'PM_capac': link_day_minute_Oct_dict_JSON[key]['PM_capac'], \\\n",
    "             'NT_capac': link_day_minute_Oct_dict_JSON[key]['NT_capac'], \\\n",
    "             'free_flow_time': link_day_minute_Oct_dict_JSON[key]['free_flow_time'], \\\n",
    "             'length': link_day_minute_Oct_dict_JSON[key]['length'], \\\n",
    "             'AM_flow': np.array(AM_flow)[day-1].tolist()[0], \\\n",
    "             'MD_flow': np.array(AM_flow)[day-1].tolist()[0], \\\n",
    "             'PM_flow': np.array(AM_flow)[day-1].tolist()[0], \\\n",
    "             'NT_flow': np.array(AM_flow)[day-1].tolist()[0], \\\n",
    "             'AM_flow_minute': np.array(AM_flow_minute)[day-1].tolist(), \\\n",
    "             'MD_flow_minute': np.array(MD_flow_minute)[day-1].tolist(), \\\n",
    "             'PM_flow_minute': np.array(PM_flow_minute)[day-1].tolist(), \\\n",
    "             'NT_flow_minute': np.array(NT_flow_minute)[day-1].tolist()}\n",
    "        link_day_minute_Oct_dict_JSON_adjusted[key] = data\n",
    "        \n",
    "import json\n",
    "\n",
    "# Writing JSON data\n",
    "with open('../temp_files/link_day_minute_Oct_dict_JSON_adjusted.json', 'w') as json_file:\n",
    "    json.dump(link_day_minute_Oct_dict_JSON_adjusted, json_file)"
   ]
  },
  {
   "cell_type": "code",
   "execution_count": null,
   "metadata": {
    "collapsed": true
   },
   "outputs": [],
   "source": []
  }
 ],
 "metadata": {
  "kernelspec": {
   "display_name": "Python 2",
   "language": "python",
   "name": "python2"
  },
  "language_info": {
   "codemirror_mode": {
    "name": "ipython",
    "version": 2
   },
   "file_extension": ".py",
   "mimetype": "text/x-python",
   "name": "python",
   "nbconvert_exporter": "python",
   "pygments_lexer": "ipython2",
   "version": "2.7.11"
  }
 },
 "nbformat": 4,
 "nbformat_minor": 0
}
