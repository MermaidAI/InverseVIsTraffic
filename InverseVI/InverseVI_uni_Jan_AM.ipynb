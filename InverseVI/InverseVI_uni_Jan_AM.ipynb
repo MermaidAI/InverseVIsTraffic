{
 "cells": [
  {
   "cell_type": "code",
   "execution_count": 25,
   "metadata": {
    "collapsed": false
   },
   "outputs": [
    {
     "data": {
      "text/plain": [
       "Arc (constructor with 3 methods)"
      ]
     },
     "execution_count": 25,
     "metadata": {},
     "output_type": "execute_result"
    }
   ],
   "source": [
    "#include(\"defArc.jl\")\n",
    "\n",
    "type Arc\n",
    "    initNode::Int \n",
    "    termNode::Int \n",
    "    capacity::Float64\n",
    "    freeflowtime::Float64\n",
    "    flow::Float64\n",
    "end\n",
    "\n",
    "Arc(initNode::Int, termNode::Int, capacity::Float64, freeflowtime::Float64) = \n",
    "    Arc(initNode, termNode, capacity, freeflowtime, 0.)"
   ]
  },
  {
   "cell_type": "code",
   "execution_count": 2,
   "metadata": {
    "collapsed": false
   },
   "outputs": [
    {
     "data": {
      "text/plain": [
       "bpacost (generic function with 3 methods)"
      ]
     },
     "execution_count": 2,
     "metadata": {},
     "output_type": "execute_result"
    }
   ],
   "source": [
    "#include(\"fitTraffic.jl\")\n",
    "\n",
    "## Solve an inverse tarffic problem over polynomials \n",
    "## of degree at most d\n",
    "## optionally use a regularizer from the poly kernel\n",
    "\n",
    "using JuMP\n",
    "using Gurobi\n",
    "using Graphs\n",
    "using Roots\n",
    "\n",
    "\n",
    "polyEval(coeffs, pt) = sum([coeffs[i] * pt^(i-1) for i = 1:length(coeffs)])  \n",
    "\n",
    "polyEval(coeffs::Array{Float64, 1}, pt) = sum([coeffs[i] * pt^(i-1) for i = 1:length(coeffs)]) \n",
    "\n",
    "bpacost(flow::Float64, capacity::Float64, freeflowtime::Float64) = freeflowtime*(1 + .15 * (flow/capacity)^4)\n",
    "bpacost(flow::Float64, arc) = bpacost(flow, arc.capacity, arc.freeflowtime)\n",
    "bpacost(arc::Arc) = bpacost(arc.flow, arc)"
   ]
  },
  {
   "cell_type": "code",
   "execution_count": 3,
   "metadata": {
    "collapsed": false
   },
   "outputs": [
    {
     "data": {
      "text/plain": [
       "setUpFitting (generic function with 1 method)"
      ]
     },
     "execution_count": 3,
     "metadata": {},
     "output_type": "execute_result"
    }
   ],
   "source": [
    "function setUpFitting(deg::Int, c::Float64)\n",
    "\n",
    "\tm = Model(solver=GurobiSolver(OutputFlag=false))\n",
    "    \n",
    "\t@defVar(m, coeffs[1:deg+1])\n",
    "\t@defVar(m, Calphas[1:deg+1])\n",
    "\n",
    "\t#build the graham matrix; cf. Ref. [21] (Regularization Networks and Support Vector Machines), page 47\n",
    "\tsamples = linspace(0, 1, deg + 1)\n",
    "\tk(x,y) = (c + x*y)^deg\n",
    "\tK = [ k(x,y) for x = samples, y=samples]\n",
    "\tK = convert(Array{Float64, 2}, K)\n",
    "\tassert(rank(K) == deg+1)\n",
    "    \n",
    "\tC = chol(K + 1e-6* eye(deg+1))\n",
    "\tfor i=1:deg + 1\n",
    "\t\t@addConstraint(m, polyEval(coeffs, samples[i]) == sum{C[j, i] * Calphas[j], j=1:deg+1})\n",
    "\tend\n",
    "    \n",
    "\t@defVar(m, reg_term >= 0)\n",
    "\treg_term_ = QuadExpr(Calphas[:], Calphas[:], ones(deg+1), AffExpr())\n",
    "    \n",
    "\t@addConstraint(m, reg_term >= reg_term_)\n",
    "    \n",
    "\treturn m, coeffs, reg_term\n",
    "\n",
    "end"
   ]
  },
  {
   "cell_type": "code",
   "execution_count": 4,
   "metadata": {
    "collapsed": false
   },
   "outputs": [
    {
     "data": {
      "text/plain": [
       "fixCoeffs (generic function with 1 method)"
      ]
     },
     "execution_count": 4,
     "metadata": {},
     "output_type": "execute_result"
    }
   ],
   "source": [
    "function fixCoeffs(m, fcoeffs, coeffs)\n",
    "\tfor (fc, c) in zip(fcoeffs, coeffs[:])\n",
    "\t\t@addConstraint(m, fc == c)\n",
    "\tend\n",
    "end"
   ]
  },
  {
   "cell_type": "code",
   "execution_count": 5,
   "metadata": {
    "collapsed": false
   },
   "outputs": [
    {
     "data": {
      "text/plain": [
       "addResid (generic function with 1 method)"
      ]
     },
     "execution_count": 5,
     "metadata": {},
     "output_type": "execute_result"
    }
   ],
   "source": [
    "function addResid(m, coeffs, ys, demands, arcs, scaling)\n",
    "\t@defVar(m, resid)\n",
    "\t@defVar(m, dual_cost)\n",
    "\t@defVar(m, primal_cost)\n",
    "\n",
    "\t@addConstraint(m, dual_cost == sum{demands[(s,t)] * (ys[(s,t), t] - ys[(s,t), s]), (s,t)=keys(demands)})  \n",
    "\t@addConstraint(m, primal_cost == sum{a.flow * a.freeflowtime * polyEval(coeffs, a.flow/a.capacity), a=values(arcs)})\n",
    "\n",
    "\t@addConstraint(m, resid >= (dual_cost - primal_cost) / scaling )\n",
    "\t@addConstraint(m, resid >= (primal_cost - dual_cost) / scaling )\n",
    "\treturn resid\n",
    "end"
   ]
  },
  {
   "cell_type": "code",
   "execution_count": 6,
   "metadata": {
    "collapsed": false
   },
   "outputs": [
    {
     "data": {
      "text/plain": [
       "addIncreasingCnsts (generic function with 1 method)"
      ]
     },
     "execution_count": 6,
     "metadata": {},
     "output_type": "execute_result"
    }
   ],
   "source": [
    "function addIncreasingCnsts(m, coeffs, arcs; TOL=0.)\n",
    "\tsorted_flows = sort([a.flow / a.capacity for a in values(arcs)])\n",
    "\t@addConstraint(m, polyEval(coeffs, 0) <= polyEval(coeffs, sorted_flows[1]))\n",
    "\tfor i = 2:length(sorted_flows)\n",
    "\t\t@addConstraint(m, polyEval(coeffs, sorted_flows[i-1]) <= polyEval(coeffs, sorted_flows[i]) + TOL)\n",
    "\tend\n",
    "end"
   ]
  },
  {
   "cell_type": "code",
   "execution_count": 7,
   "metadata": {
    "collapsed": false
   },
   "outputs": [
    {
     "data": {
      "text/plain": [
       "normalize (generic function with 3 methods)"
      ]
     },
     "execution_count": 7,
     "metadata": {},
     "output_type": "execute_result"
    }
   ],
   "source": [
    "#equates the total cost of the network to the true total cost\n",
    "function normalize(m, coeffs, tot_true_cost::Float64, arcs)\n",
    "\t@addConstraint(m, \n",
    "\t\tsum{a.freeflowtime * a.flow * polyEval(coeffs, a.flow / a.capacity), a=values(arcs)} == tot_true_cost)\n",
    "end\n",
    "\n",
    "function normalize(m, coeffs, scaled_flow::Float64, cost::Float64)\n",
    "\t@addConstraint(m, polyEval(coeffs, scaled_flow) == cost)\n",
    "end\n",
    "\n",
    "function normalize(m, coeffs, scaled_flows::Array{Float64, 1}, avgCost::Float64)\n",
    "    @addConstraint(m, sum{polyEval(coeffs, f), f=scaled_flows} == avgCost * length(scaled_flows))\n",
    "end"
   ]
  },
  {
   "cell_type": "code",
   "execution_count": 8,
   "metadata": {
    "collapsed": false
   },
   "outputs": [
    {
     "data": {
      "text/plain": [
       "addNetworkCnsts (generic function with 1 method)"
      ]
     },
     "execution_count": 8,
     "metadata": {},
     "output_type": "execute_result"
    }
   ],
   "source": [
    "function addNetworkCnsts(m, coeffs, demands, arcs, numNodes)\n",
    "\t@defVar(m, ys[keys(demands), 1:numNodes])\n",
    "\tfor k = keys(arcs)\n",
    "\t\ta = arcs[k]\n",
    "\t\trhs = a.freeflowtime * polyEval(coeffs, a.flow/a.capacity)\n",
    "\t\tfor od in keys(demands)\n",
    "\t\t\t@addConstraint(m, ys[od, k[2]] - ys[od, k[1]] <= rhs)\n",
    "\t\tend\n",
    "\tend\n",
    "\treturn ys\n",
    "end"
   ]
  },
  {
   "cell_type": "code",
   "execution_count": 9,
   "metadata": {
    "collapsed": false
   },
   "outputs": [],
   "source": [
    "############\n",
    "#Read in demand data\n",
    "file = open(\"../temp_files/OD_demand_matrix_Jan_weekday_AM.txt\")\n",
    "demands = Dict{(Int64,Int64), Float64}()\n",
    "n = 8  # number of nodes\n",
    "for i in [1:n]\n",
    "    demands[(i,i)] = 0.0\n",
    "end\n",
    "for line in eachline(file)\n",
    "    OD_demand = split(line, \",\")\n",
    "    key, value = (int(OD_demand[1]),int(OD_demand[2])), float(split(OD_demand[3], \"\\n\")[1])\n",
    "    demands[key] = value\n",
    "end\n",
    "close(file)"
   ]
  },
  {
   "cell_type": "code",
   "execution_count": 10,
   "metadata": {
    "collapsed": false
   },
   "outputs": [
    {
     "data": {
      "text/plain": [
       "Dict{(Int64,Int64),Float64} with 64 entries:\n",
       "  (3,6) => 85874.043246\n",
       "  (4,4) => 0.0\n",
       "  (3,1) => 5.0e-6\n",
       "  (4,5) => 1.0e-6\n",
       "  (2,4) => 0.0\n",
       "  (6,5) => 46401.101434\n",
       "  (8,4) => 78267.147318\n",
       "  (1,2) => 12339.223444\n",
       "  (5,1) => 367356.439305\n",
       "  (3,4) => 0.0\n",
       "  (8,2) => 0.0\n",
       "  (2,3) => 0.0\n",
       "  (2,6) => 0.0\n",
       "  (5,4) => 27950.872394\n",
       "  (2,1) => 1.0e-6\n",
       "  (2,5) => 0.0\n",
       "  (8,5) => 5.0e-6\n",
       "  (1,4) => 74484.486597\n",
       "  (2,8) => 0.0\n",
       "  (5,8) => 28497.539937\n",
       "  (4,8) => 125286.804622\n",
       "  (7,8) => 1.0e-6\n",
       "  (1,1) => 0.0\n",
       "  (7,7) => 0.0\n",
       "  (5,7) => 98965.810316\n",
       "  ⋮     => ⋮"
      ]
     },
     "execution_count": 10,
     "metadata": {},
     "output_type": "execute_result"
    }
   ],
   "source": [
    "demands"
   ]
  },
  {
   "cell_type": "code",
   "execution_count": 11,
   "metadata": {
    "collapsed": false
   },
   "outputs": [],
   "source": [
    "using JSON\n",
    "\n",
    "link_day_minute_Jan_dict = readall(\"../temp_files/link_day_minute_Jan_dict_JSON.json\");\n",
    "link_day_minute_Jan_dict = replace(link_day_minute_Jan_dict, \"NaN\", 0);\n",
    "\n",
    "link_day_minute_Jan_dict = JSON.parse(link_day_minute_Jan_dict);"
   ]
  },
  {
   "cell_type": "code",
   "execution_count": 12,
   "metadata": {
    "collapsed": false
   },
   "outputs": [],
   "source": [
    "week_day_Jan_list = [2, 3, 4, 5, 6, 9, 10, 11, 12, 13, 16, 17, 18, 19, 20, 23, 24, 25, 26, 27, 30, 31]\n",
    "\n",
    "arcs = Dict{(Int, Int), Arc}[]\n",
    "for j in week_day_Jan_list\n",
    "    arcs_ = Dict{(Int, Int), Arc}()\n",
    "    for i = 0:23\n",
    "        key = \"link_$(i)_$(j)\"\n",
    "        initNode = link_day_minute_Jan_dict[key][\"init_node\"]\n",
    "        termNode = link_day_minute_Jan_dict[key][\"term_node\"]\n",
    "        capacity = link_day_minute_Jan_dict[key][\"AM_capac\"]\n",
    "        freeflowtime = link_day_minute_Jan_dict[key][\"free_flow_time\"]\n",
    "        flow = link_day_minute_Jan_dict[key][\"AM_flow\"]\n",
    "        arcs_[(initNode, termNode)] = Arc(initNode, termNode, capacity, freeflowtime, flow)\n",
    "    end\n",
    "    push!(arcs, arcs_)\n",
    "end"
   ]
  },
  {
   "cell_type": "code",
   "execution_count": 13,
   "metadata": {
    "collapsed": false
   },
   "outputs": [
    {
     "data": {
      "text/plain": [
       "Dict{(Int64,Int64),Arc} with 24 entries:\n",
       "  (3,6) => Arc(3,6,601000.0,10.104091401583059,379831.5916228187)\n",
       "  (2,3) => Arc(2,3,198000.0,6.245983825838077,162326.34944762234)\n",
       "  (5,6) => Arc(5,6,190375.0,7.596735314731068,167519.57644958748)\n",
       "  (5,4) => Arc(5,4,119750.0,10.879908330347215,102036.82640756408)\n",
       "  (2,1) => Arc(2,1,416000.0,14.345919651016688,352156.421136116)\n",
       "  (6,3) => Arc(6,3,487500.0,10.755524605163453,373726.3384993627)\n",
       "  (3,1) => Arc(3,1,802000.0,20.553379146316544,704789.1802015489)\n",
       "  (1,3) => Arc(1,3,757000.0,20.136411020613906,639708.0171496908)\n",
       "  (4,5) => Arc(4,5,114750.0,10.653322572942127,108742.78915578734)\n",
       "  (4,8) => Arc(4,8,255000.0,15.071063131308403,213541.75799692076)\n",
       "  (7,5) => Arc(7,5,407875.0,8.16675272101653,353095.2997458434)\n",
       "  (8,7) => Arc(8,7,165000.0,8.841103424391747,137706.0772939838)\n",
       "  (3,2) => Arc(3,2,263000.0,7.409576285430038,215869.79141888767)\n",
       "  (7,6) => Arc(7,6,645458.333328,11.056227551715708,538845.5437120654)\n",
       "  (2,4) => Arc(2,4,495000.0,23.62777840100562,406453.77659470506)\n",
       "  (7,8) => Arc(7,8,165000.0,8.602848723764868,142055.50987902808)\n",
       "  (6,5) => Arc(6,5,176000.0,7.5595227133229255,143915.8082369361)\n",
       "  (6,7) => Arc(6,7,630000.0,11.161346180133824,543521.9354981773)\n",
       "  (8,4) => Arc(8,4,255000.0,15.01931446303996,220740.16584456607)\n",
       "  (1,2) => Arc(1,2,400000.0,13.426132584676868,341653.31941747706)\n",
       "  (5,3) => Arc(5,3,467500.0,10.963455985189942,397393.0124606096)\n",
       "  (4,2) => Arc(4,2,495000.0,24.33883552711905,408235.4105116635)\n",
       "  (3,5) => Arc(3,5,456000.0,10.565070690841445,387936.03812848736)\n",
       "  (5,7) => Arc(5,7,442500.0,8.212552644244445,376470.8705083073)"
      ]
     },
     "execution_count": 13,
     "metadata": {},
     "output_type": "execute_result"
    }
   ],
   "source": [
    "arcs[1]"
   ]
  },
  {
   "cell_type": "code",
   "execution_count": 14,
   "metadata": {
    "collapsed": false
   },
   "outputs": [
    {
     "data": {
      "text/plain": [
       "Dict{(Int64,Int64),Arc} with 24 entries:\n",
       "  (3,6) => Arc(3,6,601000.0,10.104091401583059,394497.84938410594)\n",
       "  (2,3) => Arc(2,3,198000.0,6.245983825838077,167180.85290323294)\n",
       "  (5,6) => Arc(5,6,190375.0,7.596735314731068,155001.37252775577)\n",
       "  (5,4) => Arc(5,4,119750.0,10.879908330347215,99599.33225546897)\n",
       "  (2,1) => Arc(2,1,416000.0,14.345919651016688,341510.315459647)\n",
       "  (6,3) => Arc(6,3,487500.0,10.755524605163453,273433.5220142326)\n",
       "  (3,1) => Arc(3,1,802000.0,20.553379146316544,653609.8470496604)\n",
       "  (1,3) => Arc(1,3,757000.0,20.136411020613906,633724.4614653144)\n",
       "  (4,5) => Arc(4,5,114750.0,10.653322572942127,102314.31898703439)\n",
       "  (4,8) => Arc(4,8,255000.0,15.071063131308403,207938.34488393742)\n",
       "  (7,5) => Arc(7,5,407875.0,8.16675272101653,356870.3731313806)\n",
       "  (8,7) => Arc(8,7,165000.0,8.841103424391747,138741.91182169568)\n",
       "  (3,2) => Arc(3,2,263000.0,7.409576285430038,224490.50700075846)\n",
       "  (7,6) => Arc(7,6,645458.333328,11.056227551715708,593269.9443937025)\n",
       "  (2,4) => Arc(2,4,495000.0,23.62777840100562,397983.5370888567)\n",
       "  (7,8) => Arc(7,8,165000.0,8.602848723764868,135759.77311048604)\n",
       "  (6,5) => Arc(6,5,176000.0,7.5595227133229255,146057.18157355487)\n",
       "  (6,7) => Arc(6,7,630000.0,11.161346180133824,442801.71561992075)\n",
       "  (8,4) => Arc(8,4,255000.0,15.01931446303996,211512.65049085306)\n",
       "  (1,2) => Arc(1,2,400000.0,13.426132584676868,330344.9809235104)\n",
       "  (5,3) => Arc(5,3,467500.0,10.963455985189942,432976.24499377154)\n",
       "  (4,2) => Arc(4,2,495000.0,24.33883552711905,416260.77297297854)\n",
       "  (3,5) => Arc(3,5,456000.0,10.565070690841445,389330.36765756784)\n",
       "  (5,7) => Arc(5,7,442500.0,8.212552644244445,426921.0489129122)"
      ]
     },
     "execution_count": 14,
     "metadata": {},
     "output_type": "execute_result"
    }
   ],
   "source": [
    "arcs[2]"
   ]
  },
  {
   "cell_type": "code",
   "execution_count": 15,
   "metadata": {
    "collapsed": false
   },
   "outputs": [],
   "source": [
    "##########\n",
    "# Set up demand data and flow data\n",
    "##########\n",
    "numData = length(arcs); \n",
    "sigma = .0\n",
    "\n",
    "flow_data = Array(Float64, length(arcs[1]), numData)\n",
    "\n",
    "demand_data = Dict{(Int, Int), Array{Float64, 1}}()\n",
    "\n",
    "numNodes = maximum(map(pair->pair[1], keys(demands)))\n",
    "g = simple_inclist(numNodes, is_directed=true)\n",
    "vArcs = Arc[]\n",
    "for arc in values(arcs[1])\n",
    "    add_edge!(g, arc.initNode, arc.termNode) \n",
    "    push!(vArcs, arc)\n",
    "end\n",
    "\n",
    "\n",
    "for iRun = 1:numData\n",
    "    for odpair in keys(demands)\n",
    "        if ! haskey(demand_data, odpair)\n",
    "            demand_data[odpair] = [demands[odpair], ]\n",
    "        else\n",
    "            push!(demand_data[odpair], demands[odpair])\n",
    "        end\n",
    "    end\n",
    "\n",
    "    #flow_data[:, iRun] = [a.flow::Float64 for a in vArcs]\n",
    "    flow_data[:, iRun] = [a.flow::Float64 for a in values(arcs[iRun])]\n",
    "end"
   ]
  },
  {
   "cell_type": "code",
   "execution_count": 16,
   "metadata": {
    "collapsed": false
   },
   "outputs": [
    {
     "data": {
      "text/plain": [
       "Dict{(Int64,Int64),Array{Float64,1}} with 64 entries:\n",
       "  (3,6) => [85874.043246,85874.043246,85874.043246,85874.043246,85874.043246,85…\n",
       "  (4,4) => [0.0,0.0,0.0,0.0,0.0,0.0,0.0,0.0,0.0,0.0,0.0,0.0,0.0,0.0,0.0,0.0,0.0…\n",
       "  (3,1) => [5.0e-6,5.0e-6,5.0e-6,5.0e-6,5.0e-6,5.0e-6,5.0e-6,5.0e-6,5.0e-6,5.0e…\n",
       "  (4,5) => [1.0e-6,1.0e-6,1.0e-6,1.0e-6,1.0e-6,1.0e-6,1.0e-6,1.0e-6,1.0e-6,1.0e…\n",
       "  (2,4) => [0.0,0.0,0.0,0.0,0.0,0.0,0.0,0.0,0.0,0.0,0.0,0.0,0.0,0.0,0.0,0.0,0.0…\n",
       "  (6,5) => [46401.101434,46401.101434,46401.101434,46401.101434,46401.101434,46…\n",
       "  (8,4) => [78267.147318,78267.147318,78267.147318,78267.147318,78267.147318,78…\n",
       "  (1,2) => [12339.223444,12339.223444,12339.223444,12339.223444,12339.223444,12…\n",
       "  (5,1) => [367356.439305,367356.439305,367356.439305,367356.439305,367356.4393…\n",
       "  (3,4) => [0.0,0.0,0.0,0.0,0.0,0.0,0.0,0.0,0.0,0.0,0.0,0.0,0.0,0.0,0.0,0.0,0.0…\n",
       "  (8,2) => [0.0,0.0,0.0,0.0,0.0,0.0,0.0,0.0,0.0,0.0,0.0,0.0,0.0,0.0,0.0,0.0,0.0…\n",
       "  (2,3) => [0.0,0.0,0.0,0.0,0.0,0.0,0.0,0.0,0.0,0.0,0.0,0.0,0.0,0.0,0.0,0.0,0.0…\n",
       "  (2,6) => [0.0,0.0,0.0,0.0,0.0,0.0,0.0,0.0,0.0,0.0,0.0,0.0,0.0,0.0,0.0,0.0,0.0…\n",
       "  (5,4) => [27950.872394,27950.872394,27950.872394,27950.872394,27950.872394,27…\n",
       "  (2,1) => [1.0e-6,1.0e-6,1.0e-6,1.0e-6,1.0e-6,1.0e-6,1.0e-6,1.0e-6,1.0e-6,1.0e…\n",
       "  (2,5) => [0.0,0.0,0.0,0.0,0.0,0.0,0.0,0.0,0.0,0.0,0.0,0.0,0.0,0.0,0.0,0.0,0.0…\n",
       "  (8,5) => [5.0e-6,5.0e-6,5.0e-6,5.0e-6,5.0e-6,5.0e-6,5.0e-6,5.0e-6,5.0e-6,5.0e…\n",
       "  (1,4) => [74484.486597,74484.486597,74484.486597,74484.486597,74484.486597,74…\n",
       "  (2,8) => [0.0,0.0,0.0,0.0,0.0,0.0,0.0,0.0,0.0,0.0,0.0,0.0,0.0,0.0,0.0,0.0,0.0…\n",
       "  (5,8) => [28497.539937,28497.539937,28497.539937,28497.539937,28497.539937,28…\n",
       "  (4,8) => [125286.804622,125286.804622,125286.804622,125286.804622,125286.8046…\n",
       "  (7,8) => [1.0e-6,1.0e-6,1.0e-6,1.0e-6,1.0e-6,1.0e-6,1.0e-6,1.0e-6,1.0e-6,1.0e…\n",
       "  (1,1) => [0.0,0.0,0.0,0.0,0.0,0.0,0.0,0.0,0.0,0.0,0.0,0.0,0.0,0.0,0.0,0.0,0.0…\n",
       "  (7,7) => [0.0,0.0,0.0,0.0,0.0,0.0,0.0,0.0,0.0,0.0,0.0,0.0,0.0,0.0,0.0,0.0,0.0…\n",
       "  (5,7) => [98965.810316,98965.810316,98965.810316,98965.810316,98965.810316,98…\n",
       "  ⋮     => ⋮"
      ]
     },
     "execution_count": 16,
     "metadata": {},
     "output_type": "execute_result"
    }
   ],
   "source": [
    "demand_data"
   ]
  },
  {
   "cell_type": "code",
   "execution_count": 17,
   "metadata": {
    "collapsed": false
   },
   "outputs": [
    {
     "data": {
      "text/plain": [
       "train (generic function with 1 method)"
      ]
     },
     "execution_count": 17,
     "metadata": {},
     "output_type": "execute_result"
    }
   ],
   "source": [
    "##########\n",
    "#Fitting Funcs\n",
    "##########\n",
    "\n",
    "function train(indices, lam::Float64, deg::Int, c::Float64, demand_data, flow_data, arcs; fcoeffs=nothing)\n",
    "    numNodes = maximum(map(pair->pair[1], keys(arcs)))\n",
    "    m, coeffs, reg_term = setUpFitting(deg, c)\n",
    "    \n",
    "    addIncreasingCnsts(m, coeffs, arcs, TOL=1e-8)  #uses the original obs flows\n",
    "\n",
    "    avgCost = mean( [bpacost(a.flow, a.capacity, 1.0) for a in values(arcs)] )\n",
    "    normalize(m, coeffs, [a.flow / a.capacity for a in values(arcs)], avgCost)\n",
    "\n",
    "\n",
    "    resids = Variable[]\n",
    "    \n",
    "    for i = indices\n",
    "        #copy the flow data over to the arcs, demand data to demands (slow)\n",
    "        for (ix, a) in enumerate(vArcs)\n",
    "            a.flow = flow_data[ix, i]\n",
    "        end\n",
    "        for odpair in keys(demands)\n",
    "            demands[odpair] = demand_data[odpair][i]\n",
    "        end\n",
    "    \n",
    "        #Dual Feasibility\n",
    "        ys = addNetworkCnsts(m, coeffs, demands, arcs, numNodes)\n",
    "        \n",
    "        #add the residual for this data point\n",
    "        push!(resids, addResid(m, coeffs, ys, demands, arcs, 1e6))\n",
    "    end\n",
    "\n",
    "    if fcoeffs != nothing\n",
    "        fixCoeffs(m, fcoeffs, coeffs)\n",
    "    end\n",
    "    @setObjective(m, Min, sum{resids[i], i = 1:length(resids)} + lam*reg_term)\n",
    "    solve(m)\n",
    "    println(getObjectiveValue(m) - lam * getValue(reg_term) )\n",
    "    return [getValue(coeffs[i]) for i =1:length(coeffs)]\n",
    "end"
   ]
  },
  {
   "cell_type": "code",
   "execution_count": 26,
   "metadata": {
    "collapsed": false
   },
   "outputs": [
    {
     "name": "stdout",
     "output_type": "stream",
     "text": [
      "1392.0626112124926\n",
      "1392.1955030679467\n",
      "1392.396648188489\n",
      "1392.3746946568695\n"
     ]
    },
    {
     "data": {
      "text/plain": [
       "10-element Array{Float64,1}:\n",
       "   0.392464 \n",
       "   1.15745  \n",
       "   0.66447  \n",
       "   0.0984442\n",
       "  -5.80739  \n",
       "  12.1972   \n",
       " -19.3926   \n",
       "  19.7578   \n",
       " -10.1548   \n",
       "   2.25582  "
      ]
     },
     "execution_count": 26,
     "metadata": {},
     "output_type": "execute_result"
    }
   ],
   "source": [
    "#include(\"trafficCval.jl\")\n",
    "\n",
    "arcs6 = arcs[1]\n",
    "arcs7 = arcs[1]\n",
    "arcs8 = arcs[1]\n",
    "arcs9 = arcs[1]\n",
    "coeffs_dict = Dict{(Int64,Float64,Float64),Array{Float64,1}}()\n",
    "\n",
    "# deg = 6\n",
    "deg = 6\n",
    "c = 1.\n",
    "lam = 1e1\n",
    "\n",
    "fcoeffs6 = train(1:numData, lam, deg, c, demand_data, flow_data, arcs6)\n",
    "coeffs_dict[(deg, c, lam)] = fcoeffs6\n",
    "\n",
    "# deg = 7\n",
    "deg = 7\n",
    "c = 1.\n",
    "lam = 1e1\n",
    "\n",
    "fcoeffs7 = train(1:numData, lam, deg, c, demand_data, flow_data, arcs7)\n",
    "coeffs_dict[(deg, c, lam)] = fcoeffs7\n",
    "\n",
    "# deg = 8\n",
    "deg = 8\n",
    "c = 1.\n",
    "lam = 1e1\n",
    "\n",
    "fcoeffs8 = train(1:numData, lam, deg, c, demand_data, flow_data, arcs8)\n",
    "coeffs_dict[(deg, c, lam)] = fcoeffs8\n",
    "\n",
    "# deg = 9\n",
    "deg = 9\n",
    "c = 1.\n",
    "lam = 1e1\n",
    "\n",
    "fcoeffs9 = train(1:numData, lam, deg, c, demand_data, flow_data, arcs9)\n",
    "coeffs_dict[(deg, c, lam)] = fcoeffs9"
   ]
  },
  {
   "cell_type": "code",
   "execution_count": 27,
   "metadata": {
    "collapsed": false
   },
   "outputs": [
    {
     "data": {
      "image/png": "[encoded data removed]",
      "text/plain": [
       "Figure(PyObject <matplotlib.figure.Figure object at 0x7fbcae6bf690>)"
      ]
     },
     "metadata": {},
     "output_type": "display_data"
    }
   ],
   "source": [
    "using PyPlot\n",
    "\n",
    "#true_coeffs = [1, 0, 0, 0, .15]\n",
    "fcoeffs6 = coeffs_dict[(6, 1., 1e1)]\n",
    "fcoeffs7 = coeffs_dict[(7, 1., 1e1)]\n",
    "fcoeffs8 = coeffs_dict[(8, 1., 1e1)]\n",
    "fcoeffs9 = coeffs_dict[(9, 1., 1e1)]\n",
    "\n",
    "xs = linspace(0, 2, 20)\n",
    "#ys_true = map(x->polyEval(true_coeffs, x), xs)\n",
    "ys6 = map(x->polyEval(fcoeffs6, x), xs)\n",
    "ys7 = map(x->polyEval(fcoeffs7, x), xs)\n",
    "ys8 = map(x->polyEval(fcoeffs8, x), xs)\n",
    "ys9 = map(x->polyEval(fcoeffs9, x), xs)\n",
    "\n",
    "# ys = map(x->polyEval(fcoeffs, x), xs)\n",
    "\n",
    "#plot(xs, ys_true, \"k\", label=\"True\")\n",
    "plot(xs, ys6, \"^-c\", label=\"deg=6\")\n",
    "plot(xs, ys7, \"--m\", label=\"deg=7\")\n",
    "plot(xs, ys8, \"o-b\", label=\"deg=8\")\n",
    "plot(xs, ys9, \"s-r\", label=\"deg=9\")\n",
    "legend(loc=\"upper left\",fancybox=\"true\") \n",
    "# plot(xs, ys, \"--b\")\n",
    "grid(\"on\")\n",
    "xlim(-0.1, 2.0);\n",
    "ylim(0.0, 5.0);\n",
    "\n",
    "font1 = [\"family\"=>\"serif\",\n",
    "    \"color\"=>\"darkred\",\n",
    "    \"weight\"=>\"normal\",\n",
    "    \"size\"=>14]\n",
    "xlabel(\"Scaled Flow\", fontdict=font1)\n",
    "\n",
    "savefig(\"../temp_files/fitting_Jan_AM.pdf\")"
   ]
  },
  {
   "cell_type": "code",
   "execution_count": 28,
   "metadata": {
    "collapsed": true
   },
   "outputs": [],
   "source": [
    "s = \"{\\\"fcoeffs6\\\": $(fcoeffs6), \\\"fcoeffs7\\\": $(fcoeffs7), \\\"fcoeffs8\\\": $(fcoeffs8), \\\"fcoeffs9\\\": $(fcoeffs9)}\"\n",
    "\n",
    "outfile = open(\"../temp_files/fcoeffs_Jan_AM.json\", \"w\")\n",
    "\n",
    "JSON.print(outfile, s)\n",
    "\n",
    "close(outfile)"
   ]
  },
  {
   "cell_type": "code",
   "execution_count": 29,
   "metadata": {
    "collapsed": false
   },
   "outputs": [
    {
     "data": {
      "text/plain": [
       "Dict{String,Any} with 4 entries:\n",
       "  \"fcoeffs7\" => {0.5049849032469949,1.0981248078022512,0.30599563423096565,-0.99…\n",
       "  \"fcoeffs8\" => {0.43332735158522356,1.1240642057346397,0.5391484673027452,-0.69…\n",
       "  \"fcoeffs6\" => {0.5944854468404844,1.02730868332921,-0.01686968117731251,-0.751…\n",
       "  \"fcoeffs9\" => {0.3924638696502806,1.1574519562613474,0.6644699956953452,0.0984…"
      ]
     },
     "execution_count": 29,
     "metadata": {},
     "output_type": "execute_result"
    }
   ],
   "source": [
    "fcoeffs_Jan_AM = readall(\"../temp_files/fcoeffs_Jan_AM.json\")\n",
    "fcoeffs_Jan_AM = JSON.parse(JSON.parse(fcoeffs_Jan_AM))"
   ]
  },
  {
   "cell_type": "code",
   "execution_count": null,
   "metadata": {
    "collapsed": true
   },
   "outputs": [],
   "source": []
  }
 ],
 "metadata": {
  "kernelspec": {
   "display_name": "Julia 0.3.7",
   "language": "julia",
   "name": "julia-0.3"
  },
  "language_info": {
   "file_extension": ".jl",
   "mimetype": "application/julia",
   "name": "julia",
   "version": "0.3.7"
  }
 },
 "nbformat": 4,
 "nbformat_minor": 0
}
