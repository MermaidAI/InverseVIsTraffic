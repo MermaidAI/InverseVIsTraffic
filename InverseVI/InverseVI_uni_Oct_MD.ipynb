{
 "cells": [
  {
   "cell_type": "code",
   "execution_count": 1,
   "metadata": {
    "collapsed": false
   },
   "outputs": [
    {
     "data": {
      "text/plain": [
       "Arc (constructor with 3 methods)"
      ]
     },
     "execution_count": 1,
     "metadata": {},
     "output_type": "execute_result"
    }
   ],
   "source": [
    "#include(\"defArc.jl\")\n",
    "\n",
    "type Arc\n",
    "    initNode::Int \n",
    "    termNode::Int \n",
    "    capacity::Float64\n",
    "    freeflowtime::Float64\n",
    "    flow::Float64\n",
    "end\n",
    "\n",
    "Arc(initNode::Int, termNode::Int, capacity::Float64, freeflowtime::Float64) = \n",
    "    Arc(initNode, termNode, capacity, freeflowtime, 0.)"
   ]
  },
  {
   "cell_type": "code",
   "execution_count": 2,
   "metadata": {
    "collapsed": false
   },
   "outputs": [
    {
     "data": {
      "text/plain": [
       "bpacost (generic function with 3 methods)"
      ]
     },
     "execution_count": 2,
     "metadata": {},
     "output_type": "execute_result"
    }
   ],
   "source": [
    "#include(\"fitTraffic.jl\")\n",
    "\n",
    "## Solve an inverse tarffic problem over polynomials \n",
    "## of degree at most d\n",
    "## optionally use a regularizer from the poly kernel\n",
    "\n",
    "using JuMP\n",
    "using Gurobi\n",
    "using Graphs\n",
    "using Roots\n",
    "\n",
    "\n",
    "polyEval(coeffs, pt) = sum([coeffs[i] * pt^(i-1) for i = 1:length(coeffs)])  \n",
    "\n",
    "polyEval(coeffs::Array{Float64, 1}, pt) = sum([coeffs[i] * pt^(i-1) for i = 1:length(coeffs)]) \n",
    "\n",
    "bpacost(flow::Float64, capacity::Float64, freeflowtime::Float64) = freeflowtime*(1 + .15 * (flow/capacity)^4)\n",
    "bpacost(flow::Float64, arc) = bpacost(flow, arc.capacity, arc.freeflowtime)\n",
    "bpacost(arc::Arc) = bpacost(arc.flow, arc)"
   ]
  },
  {
   "cell_type": "code",
   "execution_count": 3,
   "metadata": {
    "collapsed": false
   },
   "outputs": [
    {
     "data": {
      "text/plain": [
       "setUpFitting (generic function with 1 method)"
      ]
     },
     "execution_count": 3,
     "metadata": {},
     "output_type": "execute_result"
    }
   ],
   "source": [
    "function setUpFitting(deg::Int, c::Float64)\n",
    "\n",
    "\tm = Model(solver=GurobiSolver(OutputFlag=false))\n",
    "    \n",
    "\t@defVar(m, coeffs[1:deg+1])\n",
    "\t@defVar(m, Calphas[1:deg+1])\n",
    "\n",
    "\t#build the graham matrix; cf. Ref. [21] (Regularization Networks and Support Vector Machines), page 47\n",
    "\tsamples = linspace(0, 1, deg + 1)\n",
    "\tk(x,y) = (c + x*y)^deg\n",
    "\tK = [ k(x,y) for x = samples, y=samples]\n",
    "\tK = convert(Array{Float64, 2}, K)\n",
    "\tassert(rank(K) == deg+1)\n",
    "    \n",
    "\tC = chol(K + 1e-6* eye(deg+1))\n",
    "\tfor i=1:deg + 1\n",
    "\t\t@addConstraint(m, polyEval(coeffs, samples[i]) == sum{C[j, i] * Calphas[j], j=1:deg+1})\n",
    "\tend\n",
    "    \n",
    "\t@defVar(m, reg_term >= 0)\n",
    "\treg_term_ = QuadExpr(Calphas[:], Calphas[:], ones(deg+1), AffExpr())\n",
    "    \n",
    "\t@addConstraint(m, reg_term >= reg_term_)\n",
    "    \n",
    "\treturn m, coeffs, reg_term\n",
    "\n",
    "end"
   ]
  },
  {
   "cell_type": "code",
   "execution_count": 4,
   "metadata": {
    "collapsed": false
   },
   "outputs": [
    {
     "data": {
      "text/plain": [
       "fixCoeffs (generic function with 1 method)"
      ]
     },
     "execution_count": 4,
     "metadata": {},
     "output_type": "execute_result"
    }
   ],
   "source": [
    "function fixCoeffs(m, fcoeffs, coeffs)\n",
    "\tfor (fc, c) in zip(fcoeffs, coeffs[:])\n",
    "\t\t@addConstraint(m, fc == c)\n",
    "\tend\n",
    "end"
   ]
  },
  {
   "cell_type": "code",
   "execution_count": 5,
   "metadata": {
    "collapsed": false
   },
   "outputs": [
    {
     "data": {
      "text/plain": [
       "addResid (generic function with 1 method)"
      ]
     },
     "execution_count": 5,
     "metadata": {},
     "output_type": "execute_result"
    }
   ],
   "source": [
    "function addResid(m, coeffs, ys, demands, arcs, scaling)\n",
    "\t@defVar(m, resid)\n",
    "\t@defVar(m, dual_cost)\n",
    "\t@defVar(m, primal_cost)\n",
    "\n",
    "\t@addConstraint(m, dual_cost == sum{demands[(s,t)] * (ys[(s,t), t] - ys[(s,t), s]), (s,t)=keys(demands)})  \n",
    "\t@addConstraint(m, primal_cost == sum{a.flow * a.freeflowtime * polyEval(coeffs, a.flow/a.capacity), a=values(arcs)})\n",
    "\n",
    "\t@addConstraint(m, resid >= (dual_cost - primal_cost) / scaling )\n",
    "\t@addConstraint(m, resid >= (primal_cost - dual_cost) / scaling )\n",
    "\treturn resid\n",
    "end"
   ]
  },
  {
   "cell_type": "code",
   "execution_count": 6,
   "metadata": {
    "collapsed": false
   },
   "outputs": [
    {
     "data": {
      "text/plain": [
       "addIncreasingCnsts (generic function with 1 method)"
      ]
     },
     "execution_count": 6,
     "metadata": {},
     "output_type": "execute_result"
    }
   ],
   "source": [
    "function addIncreasingCnsts(m, coeffs, arcs; TOL=0.)\n",
    "\tsorted_flows = sort([a.flow / a.capacity for a in values(arcs)])\n",
    "\t@addConstraint(m, polyEval(coeffs, 0) <= polyEval(coeffs, sorted_flows[1]))\n",
    "\tfor i = 2:length(sorted_flows)\n",
    "\t\t@addConstraint(m, polyEval(coeffs, sorted_flows[i-1]) <= polyEval(coeffs, sorted_flows[i]) + TOL)\n",
    "\tend\n",
    "end"
   ]
  },
  {
   "cell_type": "code",
   "execution_count": 7,
   "metadata": {
    "collapsed": false
   },
   "outputs": [
    {
     "data": {
      "text/plain": [
       "normalize (generic function with 3 methods)"
      ]
     },
     "execution_count": 7,
     "metadata": {},
     "output_type": "execute_result"
    }
   ],
   "source": [
    "#equates the total cost of the network to the true total cost\n",
    "function normalize(m, coeffs, tot_true_cost::Float64, arcs)\n",
    "\t@addConstraint(m, \n",
    "\t\tsum{a.freeflowtime * a.flow * polyEval(coeffs, a.flow / a.capacity), a=values(arcs)} == tot_true_cost)\n",
    "end\n",
    "\n",
    "function normalize(m, coeffs, scaled_flow::Float64, cost::Float64)\n",
    "\t@addConstraint(m, polyEval(coeffs, scaled_flow) == cost)\n",
    "end\n",
    "\n",
    "function normalize(m, coeffs, scaled_flows::Array{Float64, 1}, avgCost::Float64)\n",
    "    @addConstraint(m, sum{polyEval(coeffs, f), f=scaled_flows} == avgCost * length(scaled_flows))\n",
    "end"
   ]
  },
  {
   "cell_type": "code",
   "execution_count": 8,
   "metadata": {
    "collapsed": false
   },
   "outputs": [
    {
     "data": {
      "text/plain": [
       "addNetworkCnsts (generic function with 1 method)"
      ]
     },
     "execution_count": 8,
     "metadata": {},
     "output_type": "execute_result"
    }
   ],
   "source": [
    "function addNetworkCnsts(m, coeffs, demands, arcs, numNodes)\n",
    "\t@defVar(m, ys[keys(demands), 1:numNodes])\n",
    "\tfor k = keys(arcs)\n",
    "\t\ta = arcs[k]\n",
    "\t\trhs = a.freeflowtime * polyEval(coeffs, a.flow/a.capacity)\n",
    "\t\tfor od in keys(demands)\n",
    "\t\t\t@addConstraint(m, ys[od, k[2]] - ys[od, k[1]] <= rhs)\n",
    "\t\tend\n",
    "\tend\n",
    "\treturn ys\n",
    "end"
   ]
  },
  {
   "cell_type": "code",
   "execution_count": 9,
   "metadata": {
    "collapsed": false
   },
   "outputs": [],
   "source": [
    "############\n",
    "#Read in demand data\n",
    "file = open(\"../temp_files/OD_demand_matrix_Oct_weekday_MD.txt\")\n",
    "demands = Dict{(Int64,Int64), Float64}()\n",
    "n = 8  # number of nodes\n",
    "for i in [1:n]\n",
    "    demands[(i,i)] = 0.0\n",
    "end\n",
    "for line in eachline(file)\n",
    "    OD_demand = split(line, \",\")\n",
    "    key, value = (int(OD_demand[1]),int(OD_demand[2])), float(split(OD_demand[3], \"\\n\")[1])\n",
    "    demands[key] = value\n",
    "end\n",
    "close(file)"
   ]
  },
  {
   "cell_type": "code",
   "execution_count": 10,
   "metadata": {
    "collapsed": false
   },
   "outputs": [
    {
     "data": {
      "text/plain": [
       "Dict{(Int64,Int64),Float64} with 64 entries:\n",
       "  (3,6) => 145384.620908\n",
       "  (4,4) => 0.0\n",
       "  (3,1) => 374457.845522\n",
       "  (4,5) => 28711.263888\n",
       "  (2,4) => 121484.162625\n",
       "  (6,5) => 195154.038259\n",
       "  (8,4) => 220347.533942\n",
       "  (1,2) => 0.0\n",
       "  (5,1) => 197702.171323\n",
       "  (3,4) => 1.7e-5\n",
       "  (8,2) => 2.4e-5\n",
       "  (2,3) => 0.0\n",
       "  (2,6) => 0.0\n",
       "  (5,4) => 73910.185472\n",
       "  (2,1) => 197213.755378\n",
       "  (2,5) => 0.0\n",
       "  (8,5) => 3.3e-5\n",
       "  (1,4) => 151758.632018\n",
       "  (2,8) => 0.0\n",
       "  (5,8) => 4.3e-5\n",
       "  (4,8) => 209895.64425\n",
       "  (7,8) => 34218.840278\n",
       "  (1,1) => 0.0\n",
       "  (7,7) => 0.0\n",
       "  (5,7) => 1.0e-6\n",
       "  ⋮     => ⋮"
      ]
     },
     "execution_count": 10,
     "metadata": {},
     "output_type": "execute_result"
    }
   ],
   "source": [
    "demands"
   ]
  },
  {
   "cell_type": "code",
   "execution_count": 11,
   "metadata": {
    "collapsed": false
   },
   "outputs": [],
   "source": [
    "using JSON\n",
    "\n",
    "link_day_minute_Oct_dict = readall(\"../temp_files/link_day_minute_Oct_dict_JSON.json\");\n",
    "link_day_minute_Oct_dict = replace(link_day_minute_Oct_dict, \"NaN\", 0);\n",
    "\n",
    "link_day_minute_Oct_dict = JSON.parse(link_day_minute_Oct_dict);"
   ]
  },
  {
   "cell_type": "code",
   "execution_count": 12,
   "metadata": {
    "collapsed": false
   },
   "outputs": [],
   "source": [
    "week_day_Oct_list = [1, 2, 3, 4, 5, 8, 9, 10, 11, 12, 15, 16, 17, 18, 19, 22, 23, 24, 25, 26, 29, 30, 31]\n",
    "\n",
    "arcs = Dict{(Int, Int), Arc}[]\n",
    "for j in week_day_Oct_list\n",
    "    arcs_ = Dict{(Int, Int), Arc}()\n",
    "    for i = 0:23\n",
    "        key = \"link_$(i)_$(j)\"\n",
    "        initNode = link_day_minute_Oct_dict[key][\"init_node\"]\n",
    "        termNode = link_day_minute_Oct_dict[key][\"term_node\"]\n",
    "        capacity = link_day_minute_Oct_dict[key][\"MD_capac\"]\n",
    "        freeflowtime = link_day_minute_Oct_dict[key][\"free_flow_time\"]\n",
    "        flow = link_day_minute_Oct_dict[key][\"MD_flow\"]\n",
    "        arcs_[(initNode, termNode)] = Arc(initNode, termNode, capacity, freeflowtime, flow)\n",
    "    end\n",
    "    push!(arcs, arcs_)\n",
    "end"
   ]
  },
  {
   "cell_type": "code",
   "execution_count": 13,
   "metadata": {
    "collapsed": false
   },
   "outputs": [
    {
     "data": {
      "text/plain": [
       "Dict{(Int64,Int64),Arc} with 24 entries:\n",
       "  (3,6) => Arc(3,6,1.1419e6,10.104091401583059,723941.4012886982)\n",
       "  (2,3) => Arc(2,3,376200.0,6.245983825838077,315068.306265265)\n",
       "  (5,6) => Arc(5,6,361712.5,7.596735314731068,314055.7743795109)\n",
       "  (5,4) => Arc(5,4,227525.0,10.879908330347215,192622.813690021)\n",
       "  (2,1) => Arc(2,1,790400.0,14.345919651016688,666810.5577479386)\n",
       "  (6,3) => Arc(6,3,926250.0,10.755524605163453,643020.8681305537)\n",
       "  (3,1) => Arc(3,1,1.5238e6,20.553379146316544,1.247769663288297e6)\n",
       "  (1,3) => Arc(1,3,1.4383e6,20.136411020613906,1.1771423755703946e6)\n",
       "  (4,5) => Arc(4,5,218025.0,10.653322572942127,177885.64844111446)\n",
       "  (4,8) => Arc(4,8,484500.0,15.071063131308403,405621.45434158563)\n",
       "  (7,5) => Arc(7,5,708462.5,8.16675272101653,601202.643653843)\n",
       "  (8,7) => Arc(8,7,313500.0,8.841103424391747,259551.11103911357)\n",
       "  (3,2) => Arc(3,2,471200.0,7.409576285430038,393952.7806039833)\n",
       "  (7,6) => Arc(7,6,1.19129999999e6,11.056227551715708,1.0412919297144158e6)\n",
       "  (2,4) => Arc(2,4,940500.0,23.62777840100562,762704.8085506208)\n",
       "  (7,8) => Arc(7,8,313500.0,8.602848723764868,254255.90142743988)\n",
       "  (6,5) => Arc(6,5,334400.0,7.5595227133229255,281715.3489260455)\n",
       "  (6,7) => Arc(6,7,1.16375e6,11.161346180133824,981161.9880752993)\n",
       "  (8,4) => Arc(8,4,484500.0,15.01931446303996,407615.6316448109)\n",
       "  (1,2) => Arc(1,2,760000.0,13.426132584676868,624181.409962457)\n",
       "  (5,3) => Arc(5,3,888250.0,10.963455985189942,750816.9719958954)\n",
       "  (4,2) => Arc(4,2,940500.0,24.33883552711905,781163.9957238686)\n",
       "  (3,5) => Arc(3,5,866400.0,10.565070690841445,735510.4982346504)\n",
       "  (5,7) => Arc(5,7,769500.0,8.212552644244445,661260.3731596223)"
      ]
     },
     "execution_count": 13,
     "metadata": {},
     "output_type": "execute_result"
    }
   ],
   "source": [
    "arcs[1]"
   ]
  },
  {
   "cell_type": "code",
   "execution_count": 14,
   "metadata": {
    "collapsed": false
   },
   "outputs": [
    {
     "data": {
      "text/plain": [
       "Dict{(Int64,Int64),Arc} with 24 entries:\n",
       "  (3,6) => Arc(3,6,1.1419e6,10.104091401583059,745278.1300393543)\n",
       "  (2,3) => Arc(2,3,376200.0,6.245983825838077,309284.3897030141)\n",
       "  (5,6) => Arc(5,6,361712.5,7.596735314731068,315218.5137163782)\n",
       "  (5,4) => Arc(5,4,227525.0,10.879908330347215,189961.76741220886)\n",
       "  (2,1) => Arc(2,1,790400.0,14.345919651016688,664031.5549734139)\n",
       "  (6,3) => Arc(6,3,926250.0,10.755524605163453,653180.1753364422)\n",
       "  (3,1) => Arc(3,1,1.5238e6,20.553379146316544,1.2647301195647628e6)\n",
       "  (1,3) => Arc(1,3,1.4383e6,20.136411020613906,1.2076173054703083e6)\n",
       "  (4,5) => Arc(4,5,218025.0,10.653322572942127,178191.0938016631)\n",
       "  (4,8) => Arc(4,8,484500.0,15.071063131308403,403397.98616917286)\n",
       "  (7,5) => Arc(7,5,708462.5,8.16675272101653,600358.3944868924)\n",
       "  (8,7) => Arc(8,7,313500.0,8.841103424391747,256748.30767015181)\n",
       "  (3,2) => Arc(3,2,471200.0,7.409576285430038,390169.879813451)\n",
       "  (7,6) => Arc(7,6,1.19129999999e6,11.056227551715708,1.0217307905853792e6)\n",
       "  (2,4) => Arc(2,4,940500.0,23.62777840100562,751737.6761637633)\n",
       "  (7,8) => Arc(7,8,313500.0,8.602848723764868,260107.19319903833)\n",
       "  (6,5) => Arc(6,5,334400.0,7.5595227133229255,288732.11800823646)\n",
       "  (6,7) => Arc(6,7,1.16375e6,11.161346180133824,1.0617074374024544e6)\n",
       "  (8,4) => Arc(8,4,484500.0,15.01931446303996,407126.15232469345)\n",
       "  (1,2) => Arc(1,2,760000.0,13.426132584676868,640742.4232433373)\n",
       "  (5,3) => Arc(5,3,888250.0,10.963455985189942,751613.4497896347)\n",
       "  (4,2) => Arc(4,2,940500.0,24.33883552711905,767145.2429269676)\n",
       "  (3,5) => Arc(3,5,866400.0,10.565070690841445,743698.307042765)\n",
       "  (5,7) => Arc(5,7,769500.0,8.212552644244445,663290.3993624905)"
      ]
     },
     "execution_count": 14,
     "metadata": {},
     "output_type": "execute_result"
    }
   ],
   "source": [
    "arcs[2]"
   ]
  },
  {
   "cell_type": "code",
   "execution_count": 15,
   "metadata": {
    "collapsed": false
   },
   "outputs": [],
   "source": [
    "##########\n",
    "# Set up demand data and flow data\n",
    "##########\n",
    "numData = length(arcs); \n",
    "sigma = .0\n",
    "\n",
    "flow_data = Array(Float64, length(arcs[1]), numData)\n",
    "\n",
    "demand_data = Dict{(Int, Int), Array{Float64, 1}}()\n",
    "\n",
    "numNodes = maximum(map(pair->pair[1], keys(demands)))\n",
    "g = simple_inclist(numNodes, is_directed=true)\n",
    "vArcs = Arc[]\n",
    "for arc in values(arcs[1])\n",
    "    add_edge!(g, arc.initNode, arc.termNode) \n",
    "    push!(vArcs, arc)\n",
    "end\n",
    "\n",
    "\n",
    "for iRun = 1:numData\n",
    "    for odpair in keys(demands)\n",
    "        if ! haskey(demand_data, odpair)\n",
    "            demand_data[odpair] = [demands[odpair], ]\n",
    "        else\n",
    "            push!(demand_data[odpair], demands[odpair])\n",
    "        end\n",
    "    end\n",
    "\n",
    "    #flow_data[:, iRun] = [a.flow::Float64 for a in vArcs]\n",
    "    flow_data[:, iRun] = [a.flow::Float64 for a in values(arcs[iRun])]\n",
    "end"
   ]
  },
  {
   "cell_type": "code",
   "execution_count": 16,
   "metadata": {
    "collapsed": false
   },
   "outputs": [
    {
     "data": {
      "text/plain": [
       "Dict{(Int64,Int64),Array{Float64,1}} with 64 entries:\n",
       "  (3,6) => [145384.620908,145384.620908,145384.620908,145384.620908,145384.6209…\n",
       "  (4,4) => [0.0,0.0,0.0,0.0,0.0,0.0,0.0,0.0,0.0,0.0,0.0,0.0,0.0,0.0,0.0,0.0,0.0…\n",
       "  (3,1) => [374457.845522,374457.845522,374457.845522,374457.845522,374457.8455…\n",
       "  (4,5) => [28711.263888,28711.263888,28711.263888,28711.263888,28711.263888,28…\n",
       "  (2,4) => [121484.162625,121484.162625,121484.162625,121484.162625,121484.1626…\n",
       "  (6,5) => [195154.038259,195154.038259,195154.038259,195154.038259,195154.0382…\n",
       "  (8,4) => [220347.533942,220347.533942,220347.533942,220347.533942,220347.5339…\n",
       "  (1,2) => [0.0,0.0,0.0,0.0,0.0,0.0,0.0,0.0,0.0,0.0,0.0,0.0,0.0,0.0,0.0,0.0,0.0…\n",
       "  (5,1) => [197702.171323,197702.171323,197702.171323,197702.171323,197702.1713…\n",
       "  (3,4) => [1.7e-5,1.7e-5,1.7e-5,1.7e-5,1.7e-5,1.7e-5,1.7e-5,1.7e-5,1.7e-5,1.7e…\n",
       "  (8,2) => [2.4e-5,2.4e-5,2.4e-5,2.4e-5,2.4e-5,2.4e-5,2.4e-5,2.4e-5,2.4e-5,2.4e…\n",
       "  (2,3) => [0.0,0.0,0.0,0.0,0.0,0.0,0.0,0.0,0.0,0.0,0.0,0.0,0.0,0.0,0.0,0.0,0.0…\n",
       "  (2,6) => [0.0,0.0,0.0,0.0,0.0,0.0,0.0,0.0,0.0,0.0,0.0,0.0,0.0,0.0,0.0,0.0,0.0…\n",
       "  (5,4) => [73910.185472,73910.185472,73910.185472,73910.185472,73910.185472,73…\n",
       "  (2,1) => [197213.755378,197213.755378,197213.755378,197213.755378,197213.7553…\n",
       "  (2,5) => [0.0,0.0,0.0,0.0,0.0,0.0,0.0,0.0,0.0,0.0,0.0,0.0,0.0,0.0,0.0,0.0,0.0…\n",
       "  (8,5) => [3.3e-5,3.3e-5,3.3e-5,3.3e-5,3.3e-5,3.3e-5,3.3e-5,3.3e-5,3.3e-5,3.3e…\n",
       "  (1,4) => [151758.632018,151758.632018,151758.632018,151758.632018,151758.6320…\n",
       "  (2,8) => [0.0,0.0,0.0,0.0,0.0,0.0,0.0,0.0,0.0,0.0,0.0,0.0,0.0,0.0,0.0,0.0,0.0…\n",
       "  (5,8) => [4.3e-5,4.3e-5,4.3e-5,4.3e-5,4.3e-5,4.3e-5,4.3e-5,4.3e-5,4.3e-5,4.3e…\n",
       "  (4,8) => [209895.64425,209895.64425,209895.64425,209895.64425,209895.64425,20…\n",
       "  (7,8) => [34218.840278,34218.840278,34218.840278,34218.840278,34218.840278,34…\n",
       "  (1,1) => [0.0,0.0,0.0,0.0,0.0,0.0,0.0,0.0,0.0,0.0,0.0,0.0,0.0,0.0,0.0,0.0,0.0…\n",
       "  (7,7) => [0.0,0.0,0.0,0.0,0.0,0.0,0.0,0.0,0.0,0.0,0.0,0.0,0.0,0.0,0.0,0.0,0.0…\n",
       "  (5,7) => [1.0e-6,1.0e-6,1.0e-6,1.0e-6,1.0e-6,1.0e-6,1.0e-6,1.0e-6,1.0e-6,1.0e…\n",
       "  ⋮     => ⋮"
      ]
     },
     "execution_count": 16,
     "metadata": {},
     "output_type": "execute_result"
    }
   ],
   "source": [
    "demand_data"
   ]
  },
  {
   "cell_type": "code",
   "execution_count": 17,
   "metadata": {
    "collapsed": false
   },
   "outputs": [
    {
     "data": {
      "text/plain": [
       "train (generic function with 1 method)"
      ]
     },
     "execution_count": 17,
     "metadata": {},
     "output_type": "execute_result"
    }
   ],
   "source": [
    "##########\n",
    "#Fitting Funcs\n",
    "##########\n",
    "\n",
    "function train(indices, lam::Float64, deg::Int, c::Float64, demand_data, flow_data, arcs; fcoeffs=nothing)\n",
    "    numNodes = maximum(map(pair->pair[1], keys(arcs)))\n",
    "    m, coeffs, reg_term = setUpFitting(deg, c)\n",
    "    \n",
    "    addIncreasingCnsts(m, coeffs, arcs, TOL=1e-8)  #uses the original obs flows\n",
    "\n",
    "    avgCost = mean( [bpacost(a.flow, a.capacity, 1.0) for a in values(arcs)] )\n",
    "    normalize(m, coeffs, [a.flow / a.capacity for a in values(arcs)], avgCost)\n",
    "\n",
    "\n",
    "    resids = Variable[]\n",
    "    \n",
    "    for i = indices\n",
    "        #copy the flow data over to the arcs, demand data to demands (slow)\n",
    "        for (ix, a) in enumerate(vArcs)\n",
    "            a.flow = flow_data[ix, i]\n",
    "        end\n",
    "        for odpair in keys(demands)\n",
    "            demands[odpair] = demand_data[odpair][i]\n",
    "        end\n",
    "    \n",
    "        #Dual Feasibility\n",
    "        ys = addNetworkCnsts(m, coeffs, demands, arcs, numNodes)\n",
    "        \n",
    "        #add the residual for this data point\n",
    "        push!(resids, addResid(m, coeffs, ys, demands, arcs, 1e6))\n",
    "    end\n",
    "\n",
    "    if fcoeffs != nothing\n",
    "        fixCoeffs(m, fcoeffs, coeffs)\n",
    "    end\n",
    "    @setObjective(m, Min, sum{resids[i], i = 1:length(resids)} + lam*reg_term)\n",
    "    solve(m)\n",
    "    println(getObjectiveValue(m) - lam * getValue(reg_term) )\n",
    "    return [getValue(coeffs[i]) for i =1:length(coeffs)]\n",
    "end"
   ]
  },
  {
   "cell_type": "code",
   "execution_count": 18,
   "metadata": {
    "collapsed": false
   },
   "outputs": [
    {
     "name": "stdout",
     "output_type": "stream",
     "text": [
      "2993.2113212600025\n",
      "3013.924061572434\n",
      "3023.2793682025695\n",
      "3022.8195819643847\n"
     ]
    },
    {
     "data": {
      "text/plain": [
       "7-element Array{Float64,1}:\n",
       "  0.110898 \n",
       "  0.420131 \n",
       "  0.605009 \n",
       "  0.372964 \n",
       "  0.0459905\n",
       " -0.0518628\n",
       " -0.0160194"
      ]
     },
     "execution_count": 18,
     "metadata": {},
     "output_type": "execute_result"
    }
   ],
   "source": [
    "#include(\"trafficCval.jl\")\n",
    "\n",
    "arcs3 = arcs[1]\n",
    "arcs4 = arcs[1]\n",
    "arcs5 = arcs[1]\n",
    "arcs6 = arcs[1]\n",
    "coeffs_dict = Dict{(Int64,Float64,Float64),Array{Float64,1}}()\n",
    "\n",
    "# deg = 3\n",
    "deg = 3\n",
    "c = 1.\n",
    "lam = 1e3\n",
    "\n",
    "fcoeffs3 = train(1:numData, lam, deg, c, demand_data, flow_data, arcs3)\n",
    "coeffs_dict[(deg, c, lam)] = fcoeffs3\n",
    "\n",
    "# deg = 4\n",
    "deg = 4\n",
    "c = 1.\n",
    "lam = 1e3\n",
    "\n",
    "fcoeffs4 = train(1:numData, lam, deg, c, demand_data, flow_data, arcs4)\n",
    "coeffs_dict[(deg, c, lam)] = fcoeffs4\n",
    "\n",
    "# deg = 5\n",
    "deg = 5\n",
    "c = 1.\n",
    "lam = 1e3\n",
    "\n",
    "fcoeffs5 = train(1:numData, lam, deg, c, demand_data, flow_data, arcs5)\n",
    "coeffs_dict[(deg, c, lam)] = fcoeffs5\n",
    "\n",
    "# deg = 6\n",
    "deg = 6\n",
    "c = 1.\n",
    "lam = 1e3\n",
    "\n",
    "fcoeffs6 = train(1:numData, lam, deg, c, demand_data, flow_data, arcs6)\n",
    "coeffs_dict[(deg, c, lam)] = fcoeffs6"
   ]
  },
  {
   "cell_type": "code",
   "execution_count": 19,
   "metadata": {
    "collapsed": false
   },
   "outputs": [
    {
     "name": "stderr",
     "output_type": "stream",
     "text": [
      "INFO: Loading help data...\n"
     ]
    },
    {
     "data": {
      "image/png": "[encoded data removed]",
      "text/plain": [
       "Figure(PyObject <matplotlib.figure.Figure object at 0x7fb113144890>)"
      ]
     },
     "metadata": {},
     "output_type": "display_data"
    }
   ],
   "source": [
    "using PyPlot\n",
    "\n",
    "#true_coeffs = [1, 0, 0, 0, .15]\n",
    "fcoeffs3 = coeffs_dict[(3, 1., 1e3)]\n",
    "fcoeffs4 = coeffs_dict[(4, 1., 1e3)]\n",
    "fcoeffs5 = coeffs_dict[(5, 1., 1e3)]\n",
    "fcoeffs6 = coeffs_dict[(6, 1., 1e3)]\n",
    "\n",
    "xs = linspace(0, 2, 20)\n",
    "#ys_true = map(x->polyEval(true_coeffs, x), xs)\n",
    "ys3 = map(x->polyEval(fcoeffs3, x), xs)\n",
    "ys4 = map(x->polyEval(fcoeffs4, x), xs)\n",
    "ys5 = map(x->polyEval(fcoeffs5, x), xs)\n",
    "ys6 = map(x->polyEval(fcoeffs6, x), xs)\n",
    "\n",
    "# ys = map(x->polyEval(fcoeffs, x), xs)\n",
    "\n",
    "#plot(xs, ys_true, \"k\", label=\"True\")\n",
    "plot(xs, ys3, \"^-c\", label=\"deg=3\")\n",
    "plot(xs, ys4, \"--m\", label=\"deg=4\")\n",
    "plot(xs, ys5, \"o-b\", label=\"deg=5\")\n",
    "plot(xs, ys6, \"s-r\", label=\"deg=6\")\n",
    "legend(loc=\"upper left\",fancybox=\"true\") \n",
    "# plot(xs, ys, \"--b\")\n",
    "grid(\"on\")\n",
    "xlim(-0.1, 2.0);\n",
    "ylim(0.0, 5.0);\n",
    "\n",
    "font1 = [\"family\"=>\"serif\",\n",
    "    \"color\"=>\"darkred\",\n",
    "    \"weight\"=>\"normal\",\n",
    "    \"size\"=>14]\n",
    "xlabel(\"Scaled Flow\", fontdict=font1)\n",
    "\n",
    "savefig(\"../temp_files/fitting_Oct_MD.pdf\")"
   ]
  },
  {
   "cell_type": "code",
   "execution_count": 20,
   "metadata": {
    "collapsed": true
   },
   "outputs": [],
   "source": [
    "s = \"{\\\"fcoeffs3\\\": $(fcoeffs3), \\\"fcoeffs4\\\": $(fcoeffs4), \\\"fcoeffs5\\\": $(fcoeffs5), \\\"fcoeffs6\\\": $(fcoeffs6)}\"\n",
    "\n",
    "outfile = open(\"../temp_files/fcoeffs_Oct_MD.json\", \"w\")\n",
    "\n",
    "JSON.print(outfile, s)\n",
    "\n",
    "close(outfile)"
   ]
  },
  {
   "cell_type": "code",
   "execution_count": 21,
   "metadata": {
    "collapsed": false
   },
   "outputs": [
    {
     "data": {
      "text/plain": [
       "Dict{String,Any} with 4 entries:\n",
       "  \"fcoeffs5\" => {0.1325780537032712,0.43958025435388576,0.5511902879318314,0.30…\n",
       "  \"fcoeffs3\" => {0.2440323409629254,0.5661854353150091,0.4369466097054198,0.111…\n",
       "  \"fcoeffs6\" => {0.11089767590867088,0.4201305605659863,0.6050090128537958,0.37…\n",
       "  \"fcoeffs4\" => {0.17242303517472177,0.4925902007274486,0.5147289590838772,0.22…"
      ]
     },
     "execution_count": 21,
     "metadata": {},
     "output_type": "execute_result"
    }
   ],
   "source": [
    "fcoeffs_Oct_MD = readall(\"../temp_files/fcoeffs_Oct_MD.json\")\n",
    "fcoeffs_Oct_MD = JSON.parse(JSON.parse(fcoeffs_Oct_MD))"
   ]
  },
  {
   "cell_type": "code",
   "execution_count": null,
   "metadata": {
    "collapsed": true
   },
   "outputs": [],
   "source": []
  }
 ],
 "metadata": {
  "kernelspec": {
   "display_name": "Julia 0.3.7",
   "language": "julia",
   "name": "julia-0.3"
  },
  "language_info": {
   "file_extension": ".jl",
   "mimetype": "application/julia",
   "name": "julia",
   "version": "0.3.7"
  }
 },
 "nbformat": 4,
 "nbformat_minor": 0
}
