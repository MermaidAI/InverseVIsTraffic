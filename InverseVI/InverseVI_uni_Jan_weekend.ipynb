{
 "cells": [
  {
   "cell_type": "code",
   "execution_count": 1,
   "metadata": {
    "collapsed": false
   },
   "outputs": [
    {
     "data": {
      "text/plain": [
       "Arc (constructor with 3 methods)"
      ]
     },
     "execution_count": 1,
     "metadata": {},
     "output_type": "execute_result"
    }
   ],
   "source": [
    "#include(\"defArc.jl\")\n",
    "\n",
    "type Arc\n",
    "    initNode::Int \n",
    "    termNode::Int \n",
    "    capacity::Float64\n",
    "    freeflowtime::Float64\n",
    "    flow::Float64\n",
    "end\n",
    "\n",
    "Arc(initNode::Int, termNode::Int, capacity::Float64, freeflowtime::Float64) = \n",
    "    Arc(initNode, termNode, capacity, freeflowtime, 0.)"
   ]
  },
  {
   "cell_type": "code",
   "execution_count": 2,
   "metadata": {
    "collapsed": false
   },
   "outputs": [
    {
     "data": {
      "text/plain": [
       "bpacost (generic function with 3 methods)"
      ]
     },
     "execution_count": 2,
     "metadata": {},
     "output_type": "execute_result"
    }
   ],
   "source": [
    "#include(\"fitTraffic.jl\")\n",
    "\n",
    "## Solve an inverse tarffic problem over polynomials \n",
    "## of degree at most d\n",
    "## optionally use a regularizer from the poly kernel\n",
    "\n",
    "using JuMP\n",
    "using Gurobi\n",
    "using Graphs\n",
    "using Roots\n",
    "\n",
    "\n",
    "polyEval(coeffs, pt) = sum([coeffs[i] * pt^(i-1) for i = 1:length(coeffs)])  \n",
    "\n",
    "polyEval(coeffs::Array{Float64, 1}, pt) = sum([coeffs[i] * pt^(i-1) for i = 1:length(coeffs)]) \n",
    "\n",
    "bpacost(flow::Float64, capacity::Float64, freeflowtime::Float64) = freeflowtime*(1 + .15 * (flow/capacity)^4)\n",
    "bpacost(flow::Float64, arc) = bpacost(flow, arc.capacity, arc.freeflowtime)\n",
    "bpacost(arc::Arc) = bpacost(arc.flow, arc)"
   ]
  },
  {
   "cell_type": "code",
   "execution_count": 3,
   "metadata": {
    "collapsed": false
   },
   "outputs": [
    {
     "data": {
      "text/plain": [
       "setUpFitting (generic function with 1 method)"
      ]
     },
     "execution_count": 3,
     "metadata": {},
     "output_type": "execute_result"
    }
   ],
   "source": [
    "function setUpFitting(deg::Int, c::Float64)\n",
    "\n",
    "\tm = Model(solver=GurobiSolver(OutputFlag=false))\n",
    "    \n",
    "\t@defVar(m, coeffs[1:deg+1])\n",
    "\t@defVar(m, Calphas[1:deg+1])\n",
    "\n",
    "\t#build the graham matrix; cf. Ref. [21] (Regularization Networks and Support Vector Machines), page 47\n",
    "\tsamples = linspace(0, 1, deg + 1)\n",
    "\tk(x,y) = (c + x*y)^deg\n",
    "\tK = [ k(x,y) for x = samples, y=samples]\n",
    "\tK = convert(Array{Float64, 2}, K)\n",
    "\tassert(rank(K) == deg+1)\n",
    "    \n",
    "\tC = chol(K + 1e-6* eye(deg+1))\n",
    "\tfor i=1:deg + 1\n",
    "\t\t@addConstraint(m, polyEval(coeffs, samples[i]) == sum{C[j, i] * Calphas[j], j=1:deg+1})\n",
    "\tend\n",
    "    \n",
    "\t@defVar(m, reg_term >= 0)\n",
    "\treg_term_ = QuadExpr(Calphas[:], Calphas[:], ones(deg+1), AffExpr())\n",
    "    \n",
    "\t@addConstraint(m, reg_term >= reg_term_)\n",
    "    \n",
    "\treturn m, coeffs, reg_term\n",
    "\n",
    "end"
   ]
  },
  {
   "cell_type": "code",
   "execution_count": 4,
   "metadata": {
    "collapsed": false
   },
   "outputs": [
    {
     "data": {
      "text/plain": [
       "fixCoeffs (generic function with 1 method)"
      ]
     },
     "execution_count": 4,
     "metadata": {},
     "output_type": "execute_result"
    }
   ],
   "source": [
    "function fixCoeffs(m, fcoeffs, coeffs)\n",
    "\tfor (fc, c) in zip(fcoeffs, coeffs[:])\n",
    "\t\t@addConstraint(m, fc == c)\n",
    "\tend\n",
    "end"
   ]
  },
  {
   "cell_type": "code",
   "execution_count": 5,
   "metadata": {
    "collapsed": false
   },
   "outputs": [
    {
     "data": {
      "text/plain": [
       "addResid (generic function with 1 method)"
      ]
     },
     "execution_count": 5,
     "metadata": {},
     "output_type": "execute_result"
    }
   ],
   "source": [
    "function addResid(m, coeffs, ys, demands, arcs, scaling)\n",
    "\t@defVar(m, resid)\n",
    "\t@defVar(m, dual_cost)\n",
    "\t@defVar(m, primal_cost)\n",
    "\n",
    "\t@addConstraint(m, dual_cost == sum{demands[(s,t)] * (ys[(s,t), t] - ys[(s,t), s]), (s,t)=keys(demands)})  \n",
    "\t@addConstraint(m, primal_cost == sum{a.flow * a.freeflowtime * polyEval(coeffs, a.flow/a.capacity), a=values(arcs)})\n",
    "\n",
    "\t@addConstraint(m, resid >= (dual_cost - primal_cost) / scaling )\n",
    "\t@addConstraint(m, resid >= (primal_cost - dual_cost) / scaling )\n",
    "\treturn resid\n",
    "end"
   ]
  },
  {
   "cell_type": "code",
   "execution_count": 6,
   "metadata": {
    "collapsed": false
   },
   "outputs": [
    {
     "data": {
      "text/plain": [
       "addIncreasingCnsts (generic function with 1 method)"
      ]
     },
     "execution_count": 6,
     "metadata": {},
     "output_type": "execute_result"
    }
   ],
   "source": [
    "function addIncreasingCnsts(m, coeffs, arcs; TOL=0.)\n",
    "\tsorted_flows = sort([a.flow / a.capacity for a in values(arcs)])\n",
    "\t@addConstraint(m, polyEval(coeffs, 0) <= polyEval(coeffs, sorted_flows[1]))\n",
    "\tfor i = 2:length(sorted_flows)\n",
    "\t\t@addConstraint(m, polyEval(coeffs, sorted_flows[i-1]) <= polyEval(coeffs, sorted_flows[i]) + TOL)\n",
    "\tend\n",
    "end"
   ]
  },
  {
   "cell_type": "code",
   "execution_count": 7,
   "metadata": {
    "collapsed": false
   },
   "outputs": [
    {
     "data": {
      "text/plain": [
       "normalize (generic function with 3 methods)"
      ]
     },
     "execution_count": 7,
     "metadata": {},
     "output_type": "execute_result"
    }
   ],
   "source": [
    "#equates the total cost of the network to the true total cost\n",
    "function normalize(m, coeffs, tot_true_cost::Float64, arcs)\n",
    "\t@addConstraint(m, \n",
    "\t\tsum{a.freeflowtime * a.flow * polyEval(coeffs, a.flow / a.capacity), a=values(arcs)} == tot_true_cost)\n",
    "end\n",
    "\n",
    "function normalize(m, coeffs, scaled_flow::Float64, cost::Float64)\n",
    "\t@addConstraint(m, polyEval(coeffs, scaled_flow) == cost)\n",
    "end\n",
    "\n",
    "function normalize(m, coeffs, scaled_flows::Array{Float64, 1}, avgCost::Float64)\n",
    "    @addConstraint(m, sum{polyEval(coeffs, f), f=scaled_flows} == avgCost * length(scaled_flows))\n",
    "end"
   ]
  },
  {
   "cell_type": "code",
   "execution_count": 8,
   "metadata": {
    "collapsed": false
   },
   "outputs": [
    {
     "data": {
      "text/plain": [
       "addNetworkCnsts (generic function with 1 method)"
      ]
     },
     "execution_count": 8,
     "metadata": {},
     "output_type": "execute_result"
    }
   ],
   "source": [
    "function addNetworkCnsts(m, coeffs, demands, arcs, numNodes)\n",
    "\t@defVar(m, ys[keys(demands), 1:numNodes])\n",
    "\tfor k = keys(arcs)\n",
    "\t\ta = arcs[k]\n",
    "\t\trhs = a.freeflowtime * polyEval(coeffs, a.flow/a.capacity)\n",
    "\t\tfor od in keys(demands)\n",
    "\t\t\t@addConstraint(m, ys[od, k[2]] - ys[od, k[1]] <= rhs)\n",
    "\t\tend\n",
    "\tend\n",
    "\treturn ys\n",
    "end"
   ]
  },
  {
   "cell_type": "code",
   "execution_count": 54,
   "metadata": {
    "collapsed": false
   },
   "outputs": [],
   "source": [
    "############\n",
    "#Read in demand data\n",
    "file = open(\"../temp_files/OD_demand_matrix_Jan_weekend.txt\")\n",
    "demands = Dict{(Int64,Int64), Float64}()\n",
    "n = 8  # number of nodes\n",
    "for i in [1:n]\n",
    "    demands[(i,i)] = 0.0\n",
    "end\n",
    "for line in eachline(file)\n",
    "    OD_demand = split(line, \",\")\n",
    "    key, value = (int(OD_demand[1]),int(OD_demand[2])), float(split(OD_demand[3], \"\\n\")[1])\n",
    "    demands[key] = value\n",
    "end\n",
    "close(file)"
   ]
  },
  {
   "cell_type": "code",
   "execution_count": 55,
   "metadata": {
    "collapsed": false
   },
   "outputs": [
    {
     "data": {
      "text/plain": [
       "Dict{(Int64,Int64),Float64} with 64 entries:\n",
       "  (3,6) => 165410.048373\n",
       "  (4,4) => 0.0\n",
       "  (3,1) => 375813.876213\n",
       "  (4,5) => 20825.991012\n",
       "  (2,4) => 264193.964554\n",
       "  (6,5) => 97101.087776\n",
       "  (8,4) => 258199.785008\n",
       "  (1,2) => 0.0\n",
       "  (5,1) => 242731.635097\n",
       "  (3,4) => 1.0e-6\n",
       "  (8,2) => 0.0\n",
       "  (2,3) => 0.0\n",
       "  (2,6) => 0.0\n",
       "  (5,4) => 2.0e-6\n",
       "  (2,1) => 0.0\n",
       "  (2,5) => 0.0\n",
       "  (8,5) => 156004.334389\n",
       "  (1,4) => 182180.394368\n",
       "  (2,8) => 0.0\n",
       "  (5,8) => 1319.376109\n",
       "  (4,8) => 236348.126156\n",
       "  (7,8) => 0.003448\n",
       "  (1,1) => 0.0\n",
       "  (7,7) => 0.0\n",
       "  (5,7) => 1.0e-6\n",
       "  ⋮      => ⋮"
      ]
     },
     "execution_count": 55,
     "metadata": {},
     "output_type": "execute_result"
    }
   ],
   "source": [
    "demands"
   ]
  },
  {
   "cell_type": "code",
   "execution_count": 11,
   "metadata": {
    "collapsed": false
   },
   "outputs": [],
   "source": [
    "using JSON\n",
    "\n",
    "link_day_minute_Jan_dict = readall(\"../temp_files/link_day_minute_Jan_dict_JSON.json\");\n",
    "link_day_minute_Jan_dict = replace(link_day_minute_Jan_dict, \"NaN\", 0);\n",
    "\n",
    "link_day_minute_Jan_dict = JSON.parse(link_day_minute_Jan_dict);"
   ]
  },
  {
   "cell_type": "code",
   "execution_count": 58,
   "metadata": {
    "collapsed": false
   },
   "outputs": [],
   "source": [
    "weekend_Jan_list = [1, 7, 8, 14, 15, 21, 22, 28, 29]\n",
    "\n",
    "arcs = Dict{(Int, Int), Arc}[]\n",
    "for j in weekend_Jan_list\n",
    "    arcs_ = Dict{(Int, Int), Arc}()\n",
    "    for i = 0:23\n",
    "        key = \"link_$(i)_$(j)\"\n",
    "        initNode = link_day_minute_Jan_dict[key][\"init_node\"]\n",
    "        termNode = link_day_minute_Jan_dict[key][\"term_node\"]\n",
    "        capacity = link_day_minute_Jan_dict[key][\"MD_capac\"]\n",
    "        freeflowtime = link_day_minute_Jan_dict[key][\"free_flow_time\"]\n",
    "        flow = link_day_minute_Jan_dict[key][\"MD_flow\"]\n",
    "        arcs_[(initNode, termNode)] = Arc(initNode, termNode, capacity, freeflowtime, flow)\n",
    "    end\n",
    "    push!(arcs, arcs_)\n",
    "end"
   ]
  },
  {
   "cell_type": "code",
   "execution_count": 59,
   "metadata": {
    "collapsed": false
   },
   "outputs": [
    {
     "data": {
      "text/plain": [
       "Dict{(Int64,Int64),Arc} with 24 entries:\n",
       "  (3,6) => Arc(3,6,1.1419e6,10.104091401583059,715982.5917050971)\n",
       "  (2,3) => Arc(2,3,376200.0,6.245983825838077,296628.38644539146)\n",
       "  (5,6) => Arc(5,6,361712.5,7.596735314731068,308704.7890747596)\n",
       "  (5,4) => Arc(5,4,227525.0,10.879908330347215,181027.1687678352)\n",
       "  (2,1) => Arc(2,1,790400.0,14.345919651016688,670216.4181349106)\n",
       "  (6,3) => Arc(6,3,926250.0,10.755524605163453,632726.7858219035)\n",
       "  (3,1) => Arc(3,1,1.5238e6,20.553379146316544,1.2504227195959871e6)\n",
       "  (1,3) => Arc(1,3,1.4383e6,20.136411020613906,1.252038014654518e6)\n",
       "  (4,5) => Arc(4,5,218025.0,10.653322572942127,177724.58799902545)\n",
       "  (4,8) => Arc(4,8,484500.0,15.071063131308403,413894.28212024656)\n",
       "  (7,5) => Arc(7,5,708462.5,8.16675272101653,573138.3803845455)\n",
       "  (8,7) => Arc(8,7,313500.0,8.841103424391747,272860.44906488585)\n",
       "  (3,2) => Arc(3,2,471200.0,7.409576285430038,391206.5463331576)\n",
       "  (7,6) => Arc(7,6,1.19129999999e6,11.056227551715708,999725.4134931476)\n",
       "  (2,4) => Arc(2,4,940500.0,23.62777840100562,778459.4795620594)\n",
       "  (7,8) => Arc(7,8,313500.0,8.602848723764868,260906.81077187767)\n",
       "  (6,5) => Arc(6,5,334400.0,7.5595227133229255,281049.19604689296)\n",
       "  (6,7) => Arc(6,7,1.16375e6,11.161346180133824,947362.3425093604)\n",
       "  (8,4) => Arc(8,4,484500.0,15.01931446303996,401227.5927569644)\n",
       "  (1,2) => Arc(1,2,760000.0,13.426132584676868,635279.1179887543)\n",
       "  (5,3) => Arc(5,3,888250.0,10.963455985189942,721291.1894451394)\n",
       "  (4,2) => Arc(4,2,940500.0,24.33883552711905,750861.048810249)\n",
       "  (3,5) => Arc(3,5,866400.0,10.565070690841445,737479.8926913167)\n",
       "  (5,7) => Arc(5,7,769500.0,8.212552644244445,653265.4118745073)"
      ]
     },
     "execution_count": 59,
     "metadata": {},
     "output_type": "execute_result"
    }
   ],
   "source": [
    "arcs[1]"
   ]
  },
  {
   "cell_type": "code",
   "execution_count": 15,
   "metadata": {
    "collapsed": false
   },
   "outputs": [
    {
     "data": {
      "text/plain": [
       "Dict{(Int64,Int64),Arc} with 24 entries:\n",
       "  (3,6) => Arc(3,6,601000.0,10.104091401583059,410149.510207628)\n",
       "  (2,3) => Arc(2,3,208000.0,6.245983825838077,177056.426165157)\n",
       "  (5,6) => Arc(5,6,190375.0,7.596735314731068,165725.75498874945)\n",
       "  (5,4) => Arc(5,4,119750.0,10.879908330347215,98197.49965458916)\n",
       "  (2,1) => Arc(2,1,416000.0,14.345919651016688,361494.25709834625)\n",
       "  (6,3) => Arc(6,3,487500.0,10.755524605163453,356828.6868027247)\n",
       "  (3,1) => Arc(3,1,802000.0,20.553379146316544,678863.3177731099)\n",
       "  (1,3) => Arc(1,3,757000.0,20.136411020613906,631536.8149135448)\n",
       "  (4,5) => Arc(4,5,114750.0,10.653322572942127,98743.68894876787)\n",
       "  (4,8) => Arc(4,8,255000.0,15.071063131308403,214096.67880875437)\n",
       "  (7,5) => Arc(7,5,407875.0,8.16675272101653,336751.88192318426)\n",
       "  (8,7) => Arc(8,7,165000.0,8.841103424391747,139554.9583065253)\n",
       "  (3,2) => Arc(3,2,248000.0,7.409576285430038,203839.90850590923)\n",
       "  (7,6) => Arc(7,6,645458.333328,11.056227551715708,596844.9722554765)\n",
       "  (2,4) => Arc(2,4,495000.0,23.62777840100562,408555.5667380153)\n",
       "  (7,8) => Arc(7,8,165000.0,8.602848723764868,140659.39157626717)\n",
       "  (6,5) => Arc(6,5,176000.0,7.5595227133229255,148578.88306923778)\n",
       "  (6,7) => Arc(6,7,630000.0,11.161346180133824,568161.3818512738)\n",
       "  (8,4) => Arc(8,4,255000.0,15.01931446303996,217195.47875233938)\n",
       "  (1,2) => Arc(1,2,400000.0,13.426132584676868,333890.3451993136)\n",
       "  (5,3) => Arc(5,3,467500.0,10.963455985189942,390516.4631737422)\n",
       "  (4,2) => Arc(4,2,495000.0,24.33883552711905,411960.3137493098)\n",
       "  (3,5) => Arc(3,5,456000.0,10.565070690841445,382925.3124490126)\n",
       "  (5,7) => Arc(5,7,442500.0,8.212552644244445,364457.36123199126)"
      ]
     },
     "execution_count": 15,
     "metadata": {},
     "output_type": "execute_result"
    }
   ],
   "source": [
    "arcs[2]"
   ]
  },
  {
   "cell_type": "code",
   "execution_count": 34,
   "metadata": {
    "collapsed": false
   },
   "outputs": [],
   "source": [
    "##########\n",
    "# Set up demand data and flow data\n",
    "##########\n",
    "numData = length(arcs); \n",
    "sigma = .0\n",
    "\n",
    "flow_data = Array(Float64, length(arcs[1]), numData)\n",
    "\n",
    "demand_data = Dict{(Int, Int), Array{Float64, 1}}()\n",
    "\n",
    "numNodes = maximum(map(pair->pair[1], keys(demands)))\n",
    "g = simple_inclist(numNodes, is_directed=true)\n",
    "vArcs = Arc[]\n",
    "for arc in values(arcs[1])\n",
    "    add_edge!(g, arc.initNode, arc.termNode) \n",
    "    push!(vArcs, arc)\n",
    "end\n",
    "\n",
    "\n",
    "for iRun = 1:numData\n",
    "    for odpair in keys(demands)\n",
    "        if ! haskey(demand_data, odpair)\n",
    "            demand_data[odpair] = [demands[odpair], ]\n",
    "        else\n",
    "            push!(demand_data[odpair], demands[odpair])\n",
    "        end\n",
    "    end\n",
    "\n",
    "    #flow_data[:, iRun] = [a.flow::Float64 for a in vArcs]\n",
    "    flow_data[:, iRun] = [a.flow::Float64 for a in values(arcs[iRun])]\n",
    "end"
   ]
  },
  {
   "cell_type": "code",
   "execution_count": 35,
   "metadata": {
    "collapsed": false
   },
   "outputs": [
    {
     "data": {
      "text/plain": [
       "Dict{(Int64,Int64),Array{Float64,1}} with 64 entries:\n",
       "  (3,6) => [85295.338867,85295.338867,85295.338867,85295.338867,85295.338867,852…\n",
       "  (4,4) => [0.0,0.0,0.0,0.0,0.0,0.0,0.0,0.0,0.0]\n",
       "  (3,1) => [497252.233106,497252.233106,497252.233106,497252.233106,497252.23310…\n",
       "  (4,5) => [0.0,0.0,0.0,0.0,0.0,0.0,0.0,0.0,0.0]\n",
       "  (2,4) => [25579.818774,25579.818774,25579.818774,25579.818774,25579.818774,255…\n",
       "  (6,5) => [57740.750127,57740.750127,57740.750127,57740.750127,57740.750127,577…\n",
       "  (8,4) => [150144.826771,150144.826771,150144.826771,150144.826771,150144.82677…\n",
       "  (1,2) => [0.0,0.0,0.0,0.0,0.0,0.0,0.0,0.0,0.0]\n",
       "  (5,1) => [0.0,0.0,0.0,0.0,0.0,0.0,0.0,0.0,0.0]\n",
       "  (3,4) => [0.0,0.0,0.0,0.0,0.0,0.0,0.0,0.0,0.0]\n",
       "  (8,2) => [0.0,0.0,0.0,0.0,0.0,0.0,0.0,0.0,0.0]\n",
       "  (2,3) => [0.0,0.0,0.0,0.0,0.0,0.0,0.0,0.0,0.0]\n",
       "  (2,6) => [0.0,0.0,0.0,0.0,0.0,0.0,0.0,0.0,0.0]\n",
       "  (5,4) => [0.0,0.0,0.0,0.0,0.0,0.0,0.0,0.0,0.0]\n",
       "  (2,1) => [0.0,0.0,0.0,0.0,0.0,0.0,0.0,0.0,0.0]\n",
       "  (2,5) => [0.0,0.0,0.0,0.0,0.0,0.0,0.0,0.0,0.0]\n",
       "  (8,5) => [73824.082835,73824.082835,73824.082835,73824.082835,73824.082835,738…\n",
       "  (1,4) => [170239.677655,170239.677655,170239.677655,170239.677655,170239.67765…\n",
       "  (2,8) => [0.0,0.0,0.0,0.0,0.0,0.0,0.0,0.0,0.0]\n",
       "  (5,8) => [60000.190981,60000.190981,60000.190981,60000.190981,60000.190981,600…\n",
       "  (4,8) => [125993.191583,125993.191583,125993.191583,125993.191583,125993.19158…\n",
       "  (7,8) => [7941.113973,7941.113973,7941.113973,7941.113973,7941.113973,7941.113…\n",
       "  (1,1) => [0.0,0.0,0.0,0.0,0.0,0.0,0.0,0.0,0.0]\n",
       "  (7,7) => [0.0,0.0,0.0,0.0,0.0,0.0,0.0,0.0,0.0]\n",
       "  (5,7) => [0.0,0.0,0.0,0.0,0.0,0.0,0.0,0.0,0.0]\n",
       "  ⋮      => ⋮"
      ]
     },
     "execution_count": 35,
     "metadata": {},
     "output_type": "execute_result"
    }
   ],
   "source": [
    "demand_data"
   ]
  },
  {
   "cell_type": "code",
   "execution_count": 71,
   "metadata": {
    "collapsed": false
   },
   "outputs": [
    {
     "name": "stdout",
     "output_type": "stream",
     "text": [
      "1500.126429449567\n",
      "1500.1887739635852\n",
      "1498.920461643079\n",
      "1498.9575419729329\n"
     ]
    },
    {
     "data": {
      "text/plain": [
       "10-element Array{Float64,1}:\n",
       "  0.259421\n",
       "  0.961576\n",
       "  1.10783 \n",
       " -0.351071\n",
       " -0.526591\n",
       " -2.96881 \n",
       "  4.02353 \n",
       " -3.20702 \n",
       "  2.25011 \n",
       " -0.430991"
      ]
     },
     "execution_count": 71,
     "metadata": {},
     "output_type": "execute_result"
    }
   ],
   "source": [
    "#include(\"trafficCval.jl\")\n",
    "\n",
    "arcs6 = arcs[1]\n",
    "arcs7 = arcs[1]\n",
    "arcs8 = arcs[1]\n",
    "arcs9 = arcs[1]\n",
    "coeffs_dict = Dict{(Int64,Float64,Float64),Array{Float64,1}}()\n",
    "\n",
    "# deg = 6\n",
    "deg = 6\n",
    "c = 1.\n",
    "lam = 1e1\n",
    "\n",
    "fcoeffs6 = train(1:numData, lam, deg, c, demand_data, flow_data, arcs6)\n",
    "coeffs_dict[(deg, c, lam)] = fcoeffs6\n",
    "\n",
    "# deg = 7\n",
    "deg = 7\n",
    "c = 1.\n",
    "lam = 1e1\n",
    "\n",
    "fcoeffs7 = train(1:numData, lam, deg, c, demand_data, flow_data, arcs7)\n",
    "coeffs_dict[(deg, c, lam)] = fcoeffs7\n",
    "\n",
    "# deg = 8\n",
    "deg = 8\n",
    "c = 1.\n",
    "lam = 5.\n",
    "\n",
    "fcoeffs8 = train(1:numData, lam, deg, c, demand_data, flow_data, arcs8)\n",
    "coeffs_dict[(deg, c, lam)] = fcoeffs8\n",
    "\n",
    "# deg = 9\n",
    "deg = 9\n",
    "c = 1.\n",
    "lam = 5.\n",
    "\n",
    "fcoeffs9 = train(1:numData, lam, deg, c, demand_data, flow_data, arcs9)\n",
    "coeffs_dict[(deg, c, lam)] = fcoeffs9"
   ]
  },
  {
   "cell_type": "code",
   "execution_count": 86,
   "metadata": {
    "collapsed": false
   },
   "outputs": [
    {
     "data": {
      "image/png": "[encoded data removed]",
      "text/plain": [
       "Figure(PyObject <matplotlib.figure.Figure object at 0x7f3088d53510>)"
      ]
     },
     "metadata": {},
     "output_type": "display_data"
    }
   ],
   "source": [
    "using PyPlot\n",
    "\n",
    "#true_coeffs = [1, 0, 0, 0, .15]\n",
    "#fcoeffs6 = coeffs_dict[(6, 1., 1e1)]\n",
    "#fcoeffs7 = coeffs_dict[(7, 1., 1e1)]\n",
    "fcoeffs8 = coeffs_dict[(8, 1., 5.)]\n",
    "fcoeffs9 = coeffs_dict[(9, 1., 5.)]\n",
    "\n",
    "xs = linspace(0, 2, 20)\n",
    "#ys_true = map(x->polyEval(true_coeffs, x), xs)\n",
    "#ys6 = map(x->polyEval(fcoeffs6, x), xs)\n",
    "#ys7 = map(x->polyEval(fcoeffs7, x), xs)\n",
    "ys8 = map(x->polyEval(fcoeffs8, x), xs)\n",
    "ys9 = map(x->polyEval(fcoeffs9, x), xs)\n",
    "\n",
    "# ys = map(x->polyEval(fcoeffs, x), xs)\n",
    "\n",
    "#plot(xs, ys_true, \"k\", label=\"True\")\n",
    "#plot(xs, ys6, \"o-c\", label=\"deg=6\")\n",
    "#plot(xs, ys7, \"s-r\", label=\"deg=7\")\n",
    "plot(xs, ys8, \"o-b\", label=\"deg=8\")\n",
    "plot(xs, ys9, \"s-r\", label=\"deg=9\")\n",
    "legend(loc=\"upper left\",fancybox=\"true\") \n",
    "# plot(xs, ys, \"--b\")\n",
    "grid(\"on\")\n",
    "xlim(-0.1, 2.0);\n",
    "ylim(0.0, 5.0);\n",
    "\n",
    "font1 = [\"family\"=>\"serif\",\n",
    "    \"color\"=>\"darkred\",\n",
    "    \"weight\"=>\"normal\",\n",
    "    \"size\"=>14]\n",
    "xlabel(\"Scaled Flow\", fontdict=font1)\n",
    "\n",
    "savefig(\"../temp_files/fitting_Jan_weekend.pdf\")"
   ]
  },
  {
   "cell_type": "code",
   "execution_count": 87,
   "metadata": {
    "collapsed": false
   },
   "outputs": [
    {
     "data": {
      "text/plain": [
       "([0.324421,1.03367,0.829961,-0.317458,-1.91838,1.41959,-1.5467,1.51947,-0.250301],[0.259421,0.961576,1.10783,-0.351071,-0.526591,-2.96881,4.02353,-3.20702,2.25011,-0.430991])"
      ]
     },
     "execution_count": 87,
     "metadata": {},
     "output_type": "execute_result"
    }
   ],
   "source": [
    "fcoeffs8, fcoeffs9"
   ]
  },
  {
   "cell_type": "code",
   "execution_count": 128,
   "metadata": {
    "collapsed": false
   },
   "outputs": [],
   "source": [
    "s = \"{\\\"fcoeffs8\\\": $(fcoeffs8), \\\"fcoeffs9\\\": $(fcoeffs9)}\"\n",
    "\n",
    "outfile = open(\"../temp_files/fcoeffs_Jan_weekend.json\", \"w\")\n",
    "\n",
    "JSON.print(outfile, s)\n",
    "\n",
    "close(outfile)"
   ]
  },
  {
   "cell_type": "code",
   "execution_count": 133,
   "metadata": {
    "collapsed": false
   },
   "outputs": [
    {
     "data": {
      "text/plain": [
       "Dict{String,Any} with 2 entries:\n",
       "  \"fcoeffs8\" => {0.32442071692244906,1.0336747428056587,0.8299608767225405,-0.31…\n",
       "  \"fcoeffs9\" => {0.25942124739143607,0.9615755831230484,1.1078330771314373,-0.35…"
      ]
     },
     "execution_count": 133,
     "metadata": {},
     "output_type": "execute_result"
    }
   ],
   "source": [
    "fcoeffs_Jan_weekend = readall(\"../temp_files/fcoeffs_Jan_weekend.json\")\n",
    "fcoeffs_Jan_weekend = JSON.parse(JSON.parse(fcoeffs_Jan_weekend))"
   ]
  },
  {
   "cell_type": "code",
   "execution_count": 134,
   "metadata": {
    "collapsed": false
   },
   "outputs": [
    {
     "data": {
      "text/plain": [
       "9-element Array{Any,1}:\n",
       "  0.324421\n",
       "  1.03367 \n",
       "  0.829961\n",
       " -0.317458\n",
       " -1.91838 \n",
       "  1.41959 \n",
       " -1.5467  \n",
       "  1.51947 \n",
       " -0.250301"
      ]
     },
     "execution_count": 134,
     "metadata": {},
     "output_type": "execute_result"
    }
   ],
   "source": [
    "fcoeffs_Jan_weekend[\"fcoeffs8\"]"
   ]
  },
  {
   "cell_type": "code",
   "execution_count": null,
   "metadata": {
    "collapsed": true
   },
   "outputs": [],
   "source": []
  }
 ],
 "metadata": {
  "kernelspec": {
   "display_name": "Julia 0.3.7",
   "language": "julia",
   "name": "julia-0.3"
  },
  "language_info": {
   "file_extension": ".jl",
   "mimetype": "application/julia",
   "name": "julia",
   "version": "0.3.7"
  }
 },
 "nbformat": 4,
 "nbformat_minor": 0
}
