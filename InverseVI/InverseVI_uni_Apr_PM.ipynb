{
 "cells": [
  {
   "cell_type": "code",
   "execution_count": 24,
   "metadata": {
    "collapsed": false
   },
   "outputs": [
    {
     "data": {
      "text/plain": [
       "Arc (constructor with 3 methods)"
      ]
     },
     "execution_count": 24,
     "metadata": {},
     "output_type": "execute_result"
    }
   ],
   "source": [
    "#include(\"defArc.jl\")\n",
    "\n",
    "type Arc\n",
    "    initNode::Int \n",
    "    termNode::Int \n",
    "    capacity::Float64\n",
    "    freeflowtime::Float64\n",
    "    flow::Float64\n",
    "end\n",
    "\n",
    "Arc(initNode::Int, termNode::Int, capacity::Float64, freeflowtime::Float64) = \n",
    "    Arc(initNode, termNode, capacity, freeflowtime, 0.)"
   ]
  },
  {
   "cell_type": "code",
   "execution_count": 25,
   "metadata": {
    "collapsed": false
   },
   "outputs": [
    {
     "data": {
      "text/plain": [
       "bpacost (generic function with 3 methods)"
      ]
     },
     "execution_count": 25,
     "metadata": {},
     "output_type": "execute_result"
    }
   ],
   "source": [
    "#include(\"fitTraffic.jl\")\n",
    "\n",
    "## Solve an inverse tarffic problem over polynomials \n",
    "## of degree at most d\n",
    "## optionally use a regularizer from the poly kernel\n",
    "\n",
    "using JuMP\n",
    "using Gurobi\n",
    "using Graphs\n",
    "using Roots\n",
    "\n",
    "\n",
    "polyEval(coeffs, pt) = sum([coeffs[i] * pt^(i-1) for i = 1:length(coeffs)])  \n",
    "\n",
    "polyEval(coeffs::Array{Float64, 1}, pt) = sum([coeffs[i] * pt^(i-1) for i = 1:length(coeffs)]) \n",
    "\n",
    "bpacost(flow::Float64, capacity::Float64, freeflowtime::Float64) = freeflowtime*(1 + .15 * (flow/capacity)^4)\n",
    "bpacost(flow::Float64, arc) = bpacost(flow, arc.capacity, arc.freeflowtime)\n",
    "bpacost(arc::Arc) = bpacost(arc.flow, arc)"
   ]
  },
  {
   "cell_type": "code",
   "execution_count": 26,
   "metadata": {
    "collapsed": false
   },
   "outputs": [
    {
     "data": {
      "text/plain": [
       "setUpFitting (generic function with 1 method)"
      ]
     },
     "execution_count": 26,
     "metadata": {},
     "output_type": "execute_result"
    }
   ],
   "source": [
    "function setUpFitting(deg::Int, c::Float64)\n",
    "\n",
    "\tm = Model(solver=GurobiSolver(OutputFlag=false))\n",
    "    \n",
    "\t@defVar(m, coeffs[1:deg+1])\n",
    "\t@defVar(m, Calphas[1:deg+1])\n",
    "\n",
    "\t#build the graham matrix; cf. Ref. [21] (Regularization Networks and Support Vector Machines), page 47\n",
    "\tsamples = linspace(0, 1, deg + 1)\n",
    "\tk(x,y) = (c + x*y)^deg\n",
    "\tK = [ k(x,y) for x = samples, y=samples]\n",
    "\tK = convert(Array{Float64, 2}, K)\n",
    "\tassert(rank(K) == deg+1)\n",
    "    \n",
    "\tC = chol(K + 1e-6* eye(deg+1))\n",
    "\tfor i=1:deg + 1\n",
    "\t\t@addConstraint(m, polyEval(coeffs, samples[i]) == sum{C[j, i] * Calphas[j], j=1:deg+1})\n",
    "\tend\n",
    "    \n",
    "\t@defVar(m, reg_term >= 0)\n",
    "\treg_term_ = QuadExpr(Calphas[:], Calphas[:], ones(deg+1), AffExpr())\n",
    "    \n",
    "\t@addConstraint(m, reg_term >= reg_term_)\n",
    "    \n",
    "\treturn m, coeffs, reg_term\n",
    "\n",
    "end"
   ]
  },
  {
   "cell_type": "code",
   "execution_count": 27,
   "metadata": {
    "collapsed": false
   },
   "outputs": [
    {
     "data": {
      "text/plain": [
       "fixCoeffs (generic function with 1 method)"
      ]
     },
     "execution_count": 27,
     "metadata": {},
     "output_type": "execute_result"
    }
   ],
   "source": [
    "function fixCoeffs(m, fcoeffs, coeffs)\n",
    "\tfor (fc, c) in zip(fcoeffs, coeffs[:])\n",
    "\t\t@addConstraint(m, fc == c)\n",
    "\tend\n",
    "end"
   ]
  },
  {
   "cell_type": "code",
   "execution_count": 28,
   "metadata": {
    "collapsed": false
   },
   "outputs": [
    {
     "data": {
      "text/plain": [
       "addResid (generic function with 1 method)"
      ]
     },
     "execution_count": 28,
     "metadata": {},
     "output_type": "execute_result"
    }
   ],
   "source": [
    "function addResid(m, coeffs, ys, demands, arcs, scaling)\n",
    "\t@defVar(m, resid)\n",
    "\t@defVar(m, dual_cost)\n",
    "\t@defVar(m, primal_cost)\n",
    "\n",
    "\t@addConstraint(m, dual_cost == sum{demands[(s,t)] * (ys[(s,t), t] - ys[(s,t), s]), (s,t)=keys(demands)})  \n",
    "\t@addConstraint(m, primal_cost == sum{a.flow * a.freeflowtime * polyEval(coeffs, a.flow/a.capacity), a=values(arcs)})\n",
    "\n",
    "\t@addConstraint(m, resid >= (dual_cost - primal_cost) / scaling )\n",
    "\t@addConstraint(m, resid >= (primal_cost - dual_cost) / scaling )\n",
    "\treturn resid\n",
    "end"
   ]
  },
  {
   "cell_type": "code",
   "execution_count": 29,
   "metadata": {
    "collapsed": false
   },
   "outputs": [
    {
     "data": {
      "text/plain": [
       "addIncreasingCnsts (generic function with 1 method)"
      ]
     },
     "execution_count": 29,
     "metadata": {},
     "output_type": "execute_result"
    }
   ],
   "source": [
    "function addIncreasingCnsts(m, coeffs, arcs; TOL=0.)\n",
    "\tsorted_flows = sort([a.flow / a.capacity for a in values(arcs)])\n",
    "\t@addConstraint(m, polyEval(coeffs, 0) <= polyEval(coeffs, sorted_flows[1]))\n",
    "\tfor i = 2:length(sorted_flows)\n",
    "\t\t@addConstraint(m, polyEval(coeffs, sorted_flows[i-1]) <= polyEval(coeffs, sorted_flows[i]) + TOL)\n",
    "\tend\n",
    "end"
   ]
  },
  {
   "cell_type": "code",
   "execution_count": 30,
   "metadata": {
    "collapsed": false
   },
   "outputs": [
    {
     "data": {
      "text/plain": [
       "normalize (generic function with 3 methods)"
      ]
     },
     "execution_count": 30,
     "metadata": {},
     "output_type": "execute_result"
    }
   ],
   "source": [
    "#equates the total cost of the network to the true total cost\n",
    "function normalize(m, coeffs, tot_true_cost::Float64, arcs)\n",
    "\t@addConstraint(m, \n",
    "\t\tsum{a.freeflowtime * a.flow * polyEval(coeffs, a.flow / a.capacity), a=values(arcs)} == tot_true_cost)\n",
    "end\n",
    "\n",
    "function normalize(m, coeffs, scaled_flow::Float64, cost::Float64)\n",
    "\t@addConstraint(m, polyEval(coeffs, scaled_flow) == cost)\n",
    "end\n",
    "\n",
    "function normalize(m, coeffs, scaled_flows::Array{Float64, 1}, avgCost::Float64)\n",
    "    @addConstraint(m, sum{polyEval(coeffs, f), f=scaled_flows} == avgCost * length(scaled_flows))\n",
    "end"
   ]
  },
  {
   "cell_type": "code",
   "execution_count": 31,
   "metadata": {
    "collapsed": false
   },
   "outputs": [
    {
     "data": {
      "text/plain": [
       "addNetworkCnsts (generic function with 1 method)"
      ]
     },
     "execution_count": 31,
     "metadata": {},
     "output_type": "execute_result"
    }
   ],
   "source": [
    "function addNetworkCnsts(m, coeffs, demands, arcs, numNodes)\n",
    "\t@defVar(m, ys[keys(demands), 1:numNodes])\n",
    "\tfor k = keys(arcs)\n",
    "\t\ta = arcs[k]\n",
    "\t\trhs = a.freeflowtime * polyEval(coeffs, a.flow/a.capacity)\n",
    "\t\tfor od in keys(demands)\n",
    "\t\t\t@addConstraint(m, ys[od, k[2]] - ys[od, k[1]] <= rhs)\n",
    "\t\tend\n",
    "\tend\n",
    "\treturn ys\n",
    "end"
   ]
  },
  {
   "cell_type": "code",
   "execution_count": 9,
   "metadata": {
    "collapsed": false
   },
   "outputs": [],
   "source": [
    "############\n",
    "#Read in demand data\n",
    "file = open(\"../temp_files/OD_demand_matrix_Apr_weekday_PM.txt\")\n",
    "demands = Dict{(Int64,Int64), Float64}()\n",
    "n = 8  # number of nodes\n",
    "for i in [1:n]\n",
    "    demands[(i,i)] = 0.0\n",
    "end\n",
    "for line in eachline(file)\n",
    "    OD_demand = split(line, \",\")\n",
    "    key, value = (int(OD_demand[1]),int(OD_demand[2])), float(split(OD_demand[3], \"\\n\")[1])\n",
    "    demands[key] = value\n",
    "end\n",
    "close(file)"
   ]
  },
  {
   "cell_type": "code",
   "execution_count": 10,
   "metadata": {
    "collapsed": false
   },
   "outputs": [
    {
     "data": {
      "text/plain": [
       "Dict{(Int64,Int64),Float64} with 64 entries:\n",
       "  (3,6) => 249870.515826\n",
       "  (4,4) => 0.0\n",
       "  (3,1) => 457478.855511\n",
       "  (4,5) => 2.8e-5\n",
       "  (2,4) => 272257.041814\n",
       "  (6,5) => 195661.03581\n",
       "  (8,4) => 173005.244793\n",
       "  (1,2) => 0.0\n",
       "  (5,1) => 0.035096\n",
       "  (3,4) => 0.0\n",
       "  (8,2) => 4.0e-6\n",
       "  (2,3) => 0.0\n",
       "  (2,6) => 0.0\n",
       "  (5,4) => 19491.350428\n",
       "  (2,1) => 0.0001\n",
       "  (2,5) => 0.0\n",
       "  (8,5) => 0.037517\n",
       "  (1,4) => 65823.146992\n",
       "  (2,8) => 0.0\n",
       "  (5,8) => 12313.418383\n",
       "  (4,8) => 188756.190663\n",
       "  (7,8) => 82043.136703\n",
       "  (1,1) => 0.0\n",
       "  (7,7) => 0.0\n",
       "  (5,7) => 0.0\n",
       "  ⋮     => ⋮"
      ]
     },
     "execution_count": 10,
     "metadata": {},
     "output_type": "execute_result"
    }
   ],
   "source": [
    "demands"
   ]
  },
  {
   "cell_type": "code",
   "execution_count": 11,
   "metadata": {
    "collapsed": false
   },
   "outputs": [],
   "source": [
    "using JSON\n",
    "\n",
    "link_day_minute_Apr_dict = readall(\"../temp_files/link_day_minute_Apr_dict_JSON.json\");\n",
    "link_day_minute_Apr_dict = replace(link_day_minute_Apr_dict, \"NaN\", 0);\n",
    "\n",
    "link_day_minute_Apr_dict = JSON.parse(link_day_minute_Apr_dict);"
   ]
  },
  {
   "cell_type": "code",
   "execution_count": 12,
   "metadata": {
    "collapsed": false
   },
   "outputs": [],
   "source": [
    "week_day_Apr_list = [2, 3, 4, 5, 6, 9, 10, 11, 12, 13, 16, 17, 18, 19, 20, 23, 24, 25, 26, 27, 30]\n",
    "\n",
    "arcs = Dict{(Int, Int), Arc}[]\n",
    "for j in week_day_Apr_list\n",
    "    arcs_ = Dict{(Int, Int), Arc}()\n",
    "    for i = 0:23\n",
    "        key = \"link_$(i)_$(j)\"\n",
    "        initNode = link_day_minute_Apr_dict[key][\"init_node\"]\n",
    "        termNode = link_day_minute_Apr_dict[key][\"term_node\"]\n",
    "        capacity = link_day_minute_Apr_dict[key][\"PM_capac\"]\n",
    "        freeflowtime = link_day_minute_Apr_dict[key][\"free_flow_time\"]\n",
    "        flow = link_day_minute_Apr_dict[key][\"PM_flow\"]\n",
    "        arcs_[(initNode, termNode)] = Arc(initNode, termNode, capacity, freeflowtime, flow)\n",
    "    end\n",
    "    push!(arcs, arcs_)\n",
    "end"
   ]
  },
  {
   "cell_type": "code",
   "execution_count": 13,
   "metadata": {
    "collapsed": false
   },
   "outputs": [
    {
     "data": {
      "text/plain": [
       "Dict{(Int64,Int64),Arc} with 24 entries:\n",
       "  (3,6) => Arc(3,6,601000.0,10.104091401583059,426532.0621072267)\n",
       "  (2,3) => Arc(2,3,208000.0,6.245983825838077,183649.1754890399)\n",
       "  (5,6) => Arc(5,6,190375.0,7.596735314731068,160822.15945651662)\n",
       "  (5,4) => Arc(5,4,119750.0,10.879908330347215,103395.72336229535)\n",
       "  (2,1) => Arc(2,1,416000.0,14.345919651016688,353347.9497228323)\n",
       "  (6,3) => Arc(6,3,487500.0,10.755524605163453,344129.93027609464)\n",
       "  (3,1) => Arc(3,1,802000.0,20.553379146316544,680270.3830246313)\n",
       "  (1,3) => Arc(1,3,757000.0,20.136411020613906,627133.609262183)\n",
       "  (4,5) => Arc(4,5,114750.0,10.653322572942127,95087.07839637776)\n",
       "  (4,8) => Arc(4,8,255000.0,15.071063131308403,209933.90702374096)\n",
       "  (7,5) => Arc(7,5,407875.0,8.16675272101653,371393.5311869317)\n",
       "  (8,7) => Arc(8,7,165000.0,8.841103424391747,140765.201020892)\n",
       "  (3,2) => Arc(3,2,248000.0,7.409576285430038,209903.67446766395)\n",
       "  (7,6) => Arc(7,6,645458.333328,11.056227551715708,572829.8287282006)\n",
       "  (2,4) => Arc(2,4,495000.0,23.62777840100562,403737.5770407483)\n",
       "  (7,8) => Arc(7,8,165000.0,8.602848723764868,134983.95712725422)\n",
       "  (6,5) => Arc(6,5,176000.0,7.5595227133229255,154616.25524614044)\n",
       "  (6,7) => Arc(6,7,630000.0,11.161346180133824,557972.708138766)\n",
       "  (8,4) => Arc(8,4,255000.0,15.01931446303996,206534.44777469474)\n",
       "  (1,2) => Arc(1,2,400000.0,13.426132584676868,356240.5239464623)\n",
       "  (5,3) => Arc(5,3,467500.0,10.963455985189942,412586.98625319725)\n",
       "  (4,2) => Arc(4,2,495000.0,24.33883552711905,413906.1969838501)\n",
       "  (3,5) => Arc(3,5,456000.0,10.565070690841445,401097.51306000113)\n",
       "  (5,7) => Arc(5,7,442500.0,8.212552644244445,372513.9448214509)"
      ]
     },
     "execution_count": 13,
     "metadata": {},
     "output_type": "execute_result"
    }
   ],
   "source": [
    "arcs[1]"
   ]
  },
  {
   "cell_type": "code",
   "execution_count": 14,
   "metadata": {
    "collapsed": false
   },
   "outputs": [
    {
     "data": {
      "text/plain": [
       "Dict{(Int64,Int64),Arc} with 24 entries:\n",
       "  (3,6) => Arc(3,6,601000.0,10.104091401583059,439017.7819274442)\n",
       "  (2,3) => Arc(2,3,208000.0,6.245983825838077,195551.6138028721)\n",
       "  (5,6) => Arc(5,6,190375.0,7.596735314731068,176450.04016907586)\n",
       "  (5,4) => Arc(5,4,119750.0,10.879908330347215,108413.05036727598)\n",
       "  (2,1) => Arc(2,1,416000.0,14.345919651016688,345380.54283781623)\n",
       "  (6,3) => Arc(6,3,487500.0,10.755524605163453,348992.0125229393)\n",
       "  (3,1) => Arc(3,1,802000.0,20.553379146316544,670664.5107784086)\n",
       "  (1,3) => Arc(1,3,757000.0,20.136411020613906,635737.9115577837)\n",
       "  (4,5) => Arc(4,5,114750.0,10.653322572942127,92981.91489450927)\n",
       "  (4,8) => Arc(4,8,255000.0,15.071063131308403,214135.41532401813)\n",
       "  (7,5) => Arc(7,5,407875.0,8.16675272101653,382800.5049503938)\n",
       "  (8,7) => Arc(8,7,165000.0,8.841103424391747,127543.99957898511)\n",
       "  (3,2) => Arc(3,2,248000.0,7.409576285430038,208573.49796433307)\n",
       "  (7,6) => Arc(7,6,645458.333328,11.056227551715708,584573.9690149287)\n",
       "  (2,4) => Arc(2,4,495000.0,23.62777840100562,433540.4125297721)\n",
       "  (7,8) => Arc(7,8,165000.0,8.602848723764868,136852.13153772676)\n",
       "  (6,5) => Arc(6,5,176000.0,7.5595227133229255,156899.37281948686)\n",
       "  (6,7) => Arc(6,7,630000.0,11.161346180133824,568983.6938149978)\n",
       "  (8,4) => Arc(8,4,255000.0,15.01931446303996,212913.83907451914)\n",
       "  (1,2) => Arc(1,2,400000.0,13.426132584676868,352605.67903991154)\n",
       "  (5,3) => Arc(5,3,467500.0,10.963455985189942,410723.4367848808)\n",
       "  (4,2) => Arc(4,2,495000.0,24.33883552711905,412895.9461449417)\n",
       "  (3,5) => Arc(3,5,456000.0,10.565070690841445,408233.6411300563)\n",
       "  (5,7) => Arc(5,7,442500.0,8.212552644244445,367604.5630559851)"
      ]
     },
     "execution_count": 14,
     "metadata": {},
     "output_type": "execute_result"
    }
   ],
   "source": [
    "arcs[2]"
   ]
  },
  {
   "cell_type": "code",
   "execution_count": 15,
   "metadata": {
    "collapsed": false
   },
   "outputs": [],
   "source": [
    "##########\n",
    "# Set up demand data and flow data\n",
    "##########\n",
    "numData = length(arcs); \n",
    "sigma = .0\n",
    "\n",
    "flow_data = Array(Float64, length(arcs[1]), numData)\n",
    "\n",
    "demand_data = Dict{(Int, Int), Array{Float64, 1}}()\n",
    "\n",
    "numNodes = maximum(map(pair->pair[1], keys(demands)))\n",
    "g = simple_inclist(numNodes, is_directed=true)\n",
    "vArcs = Arc[]\n",
    "for arc in values(arcs[1])\n",
    "    add_edge!(g, arc.initNode, arc.termNode) \n",
    "    push!(vArcs, arc)\n",
    "end\n",
    "\n",
    "\n",
    "for iRun = 1:numData\n",
    "    for odpair in keys(demands)\n",
    "        if ! haskey(demand_data, odpair)\n",
    "            demand_data[odpair] = [demands[odpair], ]\n",
    "        else\n",
    "            push!(demand_data[odpair], demands[odpair])\n",
    "        end\n",
    "    end\n",
    "\n",
    "    #flow_data[:, iRun] = [a.flow::Float64 for a in vArcs]\n",
    "    flow_data[:, iRun] = [a.flow::Float64 for a in values(arcs[iRun])]\n",
    "end"
   ]
  },
  {
   "cell_type": "code",
   "execution_count": 16,
   "metadata": {
    "collapsed": false
   },
   "outputs": [
    {
     "data": {
      "text/plain": [
       "Dict{(Int64,Int64),Array{Float64,1}} with 64 entries:\n",
       "  (3,6) => [249870.515826,249870.515826,249870.515826,249870.515826,249870.5158…\n",
       "  (4,4) => [0.0,0.0,0.0,0.0,0.0,0.0,0.0,0.0,0.0,0.0,0.0,0.0,0.0,0.0,0.0,0.0,0.0…\n",
       "  (3,1) => [457478.855511,457478.855511,457478.855511,457478.855511,457478.8555…\n",
       "  (4,5) => [2.8e-5,2.8e-5,2.8e-5,2.8e-5,2.8e-5,2.8e-5,2.8e-5,2.8e-5,2.8e-5,2.8e…\n",
       "  (2,4) => [272257.041814,272257.041814,272257.041814,272257.041814,272257.0418…\n",
       "  (6,5) => [195661.03581,195661.03581,195661.03581,195661.03581,195661.03581,19…\n",
       "  (8,4) => [173005.244793,173005.244793,173005.244793,173005.244793,173005.2447…\n",
       "  (1,2) => [0.0,0.0,0.0,0.0,0.0,0.0,0.0,0.0,0.0,0.0,0.0,0.0,0.0,0.0,0.0,0.0,0.0…\n",
       "  (5,1) => [0.035096,0.035096,0.035096,0.035096,0.035096,0.035096,0.035096,0.03…\n",
       "  (3,4) => [0.0,0.0,0.0,0.0,0.0,0.0,0.0,0.0,0.0,0.0,0.0,0.0,0.0,0.0,0.0,0.0,0.0…\n",
       "  (8,2) => [4.0e-6,4.0e-6,4.0e-6,4.0e-6,4.0e-6,4.0e-6,4.0e-6,4.0e-6,4.0e-6,4.0e…\n",
       "  (2,3) => [0.0,0.0,0.0,0.0,0.0,0.0,0.0,0.0,0.0,0.0,0.0,0.0,0.0,0.0,0.0,0.0,0.0…\n",
       "  (2,6) => [0.0,0.0,0.0,0.0,0.0,0.0,0.0,0.0,0.0,0.0,0.0,0.0,0.0,0.0,0.0,0.0,0.0…\n",
       "  (5,4) => [19491.350428,19491.350428,19491.350428,19491.350428,19491.350428,19…\n",
       "  (2,1) => [0.0001,0.0001,0.0001,0.0001,0.0001,0.0001,0.0001,0.0001,0.0001,0.00…\n",
       "  (2,5) => [0.0,0.0,0.0,0.0,0.0,0.0,0.0,0.0,0.0,0.0,0.0,0.0,0.0,0.0,0.0,0.0,0.0…\n",
       "  (8,5) => [0.037517,0.037517,0.037517,0.037517,0.037517,0.037517,0.037517,0.03…\n",
       "  (1,4) => [65823.146992,65823.146992,65823.146992,65823.146992,65823.146992,65…\n",
       "  (2,8) => [0.0,0.0,0.0,0.0,0.0,0.0,0.0,0.0,0.0,0.0,0.0,0.0,0.0,0.0,0.0,0.0,0.0…\n",
       "  (5,8) => [12313.418383,12313.418383,12313.418383,12313.418383,12313.418383,12…\n",
       "  (4,8) => [188756.190663,188756.190663,188756.190663,188756.190663,188756.1906…\n",
       "  (7,8) => [82043.136703,82043.136703,82043.136703,82043.136703,82043.136703,82…\n",
       "  (1,1) => [0.0,0.0,0.0,0.0,0.0,0.0,0.0,0.0,0.0,0.0,0.0,0.0,0.0,0.0,0.0,0.0,0.0…\n",
       "  (7,7) => [0.0,0.0,0.0,0.0,0.0,0.0,0.0,0.0,0.0,0.0,0.0,0.0,0.0,0.0,0.0,0.0,0.0…\n",
       "  (5,7) => [0.0,0.0,0.0,0.0,0.0,0.0,0.0,0.0,0.0,0.0,0.0,0.0,0.0,0.0,0.0,0.0,0.0…\n",
       "  ⋮     => ⋮"
      ]
     },
     "execution_count": 16,
     "metadata": {},
     "output_type": "execute_result"
    }
   ],
   "source": [
    "demand_data"
   ]
  },
  {
   "cell_type": "code",
   "execution_count": 17,
   "metadata": {
    "collapsed": false
   },
   "outputs": [
    {
     "data": {
      "text/plain": [
       "train (generic function with 1 method)"
      ]
     },
     "execution_count": 17,
     "metadata": {},
     "output_type": "execute_result"
    }
   ],
   "source": [
    "##########\n",
    "#Fitting Funcs\n",
    "##########\n",
    "\n",
    "function train(indices, lam::Float64, deg::Int, c::Float64, demand_data, flow_data, arcs; fcoeffs=nothing)\n",
    "    numNodes = maximum(map(pair->pair[1], keys(arcs)))\n",
    "    m, coeffs, reg_term = setUpFitting(deg, c)\n",
    "    \n",
    "    addIncreasingCnsts(m, coeffs, arcs, TOL=1e-8)  #uses the original obs flows\n",
    "\n",
    "    avgCost = mean( [bpacost(a.flow, a.capacity, 1.0) for a in values(arcs)] )\n",
    "    normalize(m, coeffs, [a.flow / a.capacity for a in values(arcs)], avgCost)\n",
    "\n",
    "\n",
    "    resids = Variable[]\n",
    "    \n",
    "    for i = indices\n",
    "        #copy the flow data over to the arcs, demand data to demands (slow)\n",
    "        for (ix, a) in enumerate(vArcs)\n",
    "            a.flow = flow_data[ix, i]\n",
    "        end\n",
    "        for odpair in keys(demands)\n",
    "            demands[odpair] = demand_data[odpair][i]\n",
    "        end\n",
    "    \n",
    "        #Dual Feasibility\n",
    "        ys = addNetworkCnsts(m, coeffs, demands, arcs, numNodes)\n",
    "        \n",
    "        #add the residual for this data point\n",
    "        push!(resids, addResid(m, coeffs, ys, demands, arcs, 1e6))\n",
    "    end\n",
    "\n",
    "    if fcoeffs != nothing\n",
    "        fixCoeffs(m, fcoeffs, coeffs)\n",
    "    end\n",
    "    @setObjective(m, Min, sum{resids[i], i = 1:length(resids)} + lam*reg_term)\n",
    "    solve(m)\n",
    "    println(getObjectiveValue(m) - lam * getValue(reg_term) )\n",
    "    return [getValue(coeffs[i]) for i =1:length(coeffs)]\n",
    "end"
   ]
  },
  {
   "cell_type": "code",
   "execution_count": 20,
   "metadata": {
    "collapsed": false
   },
   "outputs": [
    {
     "name": "stdout",
     "output_type": "stream",
     "text": [
      "456.780877113683\n",
      "454.4577715667413\n",
      "450.6997165414267\n",
      "446.8035348895798\n"
     ]
    },
    {
     "data": {
      "text/plain": [
       "10-element Array{Float64,1}:\n",
       "   0.305191\n",
       "   1.029   \n",
       "   0.830421\n",
       "  -1.80297 \n",
       "   0.401532\n",
       "  -7.79475 \n",
       "  13.9251  \n",
       " -10.2503  \n",
       "   7.07456 \n",
       "  -1.33191 "
      ]
     },
     "execution_count": 20,
     "metadata": {},
     "output_type": "execute_result"
    }
   ],
   "source": [
    "#include(\"trafficCval.jl\")\n",
    "\n",
    "arcs6 = arcs[1]\n",
    "arcs7 = arcs[1]\n",
    "arcs8 = arcs[1]\n",
    "arcs9 = arcs[1]\n",
    "coeffs_dict = Dict{(Int64,Float64,Float64),Array{Float64,1}}()\n",
    "\n",
    "# deg = 6\n",
    "deg = 6\n",
    "c = 1.\n",
    "lam = 1e1\n",
    "\n",
    "fcoeffs6 = train(1:numData, lam, deg, c, demand_data, flow_data, arcs6)\n",
    "coeffs_dict[(deg, c, lam)] = fcoeffs6\n",
    "\n",
    "# deg = 7\n",
    "deg = 7\n",
    "c = 1.\n",
    "lam = 1e1\n",
    "\n",
    "fcoeffs7 = train(1:numData, lam, deg, c, demand_data, flow_data, arcs7)\n",
    "coeffs_dict[(deg, c, lam)] = fcoeffs7\n",
    "\n",
    "# deg = 8\n",
    "deg = 8\n",
    "c = 1.\n",
    "lam = 1e1\n",
    "\n",
    "fcoeffs8 = train(1:numData, lam, deg, c, demand_data, flow_data, arcs8)\n",
    "coeffs_dict[(deg, c, lam)] = fcoeffs8\n",
    "\n",
    "# deg = 9\n",
    "deg = 9\n",
    "c = 1.\n",
    "lam = 1e1\n",
    "\n",
    "fcoeffs9 = train(1:numData, lam, deg, c, demand_data, flow_data, arcs9)\n",
    "coeffs_dict[(deg, c, lam)] = fcoeffs9"
   ]
  },
  {
   "cell_type": "code",
   "execution_count": 21,
   "metadata": {
    "collapsed": false
   },
   "outputs": [
    {
     "data": {
      "image/png": "[encoded data removed]",
      "text/plain": [
       "Figure(PyObject <matplotlib.figure.Figure object at 0x7f3ca53cc190>)"
      ]
     },
     "metadata": {},
     "output_type": "display_data"
    }
   ],
   "source": [
    "using PyPlot\n",
    "\n",
    "#true_coeffs = [1, 0, 0, 0, .15]\n",
    "fcoeffs6 = coeffs_dict[(6, 1., 1e1)]\n",
    "fcoeffs7 = coeffs_dict[(7, 1., 1e1)]\n",
    "fcoeffs8 = coeffs_dict[(8, 1., 1e1)]\n",
    "fcoeffs9 = coeffs_dict[(9, 1., 1e1)]\n",
    "\n",
    "xs = linspace(0, 2, 20)\n",
    "#ys_true = map(x->polyEval(true_coeffs, x), xs)\n",
    "ys6 = map(x->polyEval(fcoeffs6, x), xs)\n",
    "ys7 = map(x->polyEval(fcoeffs7, x), xs)\n",
    "ys8 = map(x->polyEval(fcoeffs8, x), xs)\n",
    "ys9 = map(x->polyEval(fcoeffs9, x), xs)\n",
    "\n",
    "# ys = map(x->polyEval(fcoeffs, x), xs)\n",
    "\n",
    "#plot(xs, ys_true, \"k\", label=\"True\")\n",
    "plot(xs, ys6, \"^-c\", label=\"deg=6\")\n",
    "plot(xs, ys7, \"--m\", label=\"deg=7\")\n",
    "plot(xs, ys8, \"o-b\", label=\"deg=8\")\n",
    "plot(xs, ys9, \"s-r\", label=\"deg=9\")\n",
    "legend(loc=\"upper left\",fancybox=\"true\") \n",
    "# plot(xs, ys, \"--b\")\n",
    "grid(\"on\")\n",
    "xlim(-0.1, 2.0);\n",
    "ylim(0.0, 5.0);\n",
    "\n",
    "font1 = [\"family\"=>\"serif\",\n",
    "    \"color\"=>\"darkred\",\n",
    "    \"weight\"=>\"normal\",\n",
    "    \"size\"=>14]\n",
    "xlabel(\"Scaled Flow\", fontdict=font1)\n",
    "\n",
    "savefig(\"../temp_files/fitting_Apr_PM.pdf\")"
   ]
  },
  {
   "cell_type": "code",
   "execution_count": 22,
   "metadata": {
    "collapsed": true
   },
   "outputs": [],
   "source": [
    "s = \"{\\\"fcoeffs6\\\": $(fcoeffs6), \\\"fcoeffs7\\\": $(fcoeffs7), \\\"fcoeffs8\\\": $(fcoeffs8), \\\"fcoeffs9\\\": $(fcoeffs9)}\"\n",
    "\n",
    "outfile = open(\"../temp_files/fcoeffs_Apr_PM.json\", \"w\")\n",
    "\n",
    "JSON.print(outfile, s)\n",
    "\n",
    "close(outfile)"
   ]
  },
  {
   "cell_type": "code",
   "execution_count": 23,
   "metadata": {
    "collapsed": false
   },
   "outputs": [
    {
     "data": {
      "text/plain": [
       "Dict{String,Any} with 4 entries:\n",
       "  \"fcoeffs7\" => {0.252162068624575,0.4881084415805215,-0.07776403288577369,-0.58…\n",
       "  \"fcoeffs8\" => {0.298353288074053,0.7847940365066135,0.17028638554441408,-1.011…\n",
       "  \"fcoeffs6\" => {0.1945453541693946,0.2729898202883802,-0.041228378459040683,0.0…\n",
       "  \"fcoeffs9\" => {0.3051912684921514,1.0290014016588738,0.8304209168239911,-1.802…"
      ]
     },
     "execution_count": 23,
     "metadata": {},
     "output_type": "execute_result"
    }
   ],
   "source": [
    "fcoeffs_Apr_PM = readall(\"../temp_files/fcoeffs_Apr_PM.json\")\n",
    "fcoeffs_Apr_PM = JSON.parse(JSON.parse(fcoeffs_Apr_PM))"
   ]
  },
  {
   "cell_type": "code",
   "execution_count": null,
   "metadata": {
    "collapsed": true
   },
   "outputs": [],
   "source": []
  }
 ],
 "metadata": {
  "kernelspec": {
   "display_name": "Julia 0.3.7",
   "language": "julia",
   "name": "julia-0.3"
  },
  "language_info": {
   "file_extension": ".jl",
   "mimetype": "application/julia",
   "name": "julia",
   "version": "0.3.7"
  }
 },
 "nbformat": 4,
 "nbformat_minor": 0
}
