{
 "cells": [
  {
   "cell_type": "code",
   "execution_count": 1,
   "metadata": {
    "collapsed": false
   },
   "outputs": [
    {
     "data": {
      "text/plain": [
       "Arc (constructor with 3 methods)"
      ]
     },
     "execution_count": 1,
     "metadata": {},
     "output_type": "execute_result"
    }
   ],
   "source": [
    "#include(\"defArc.jl\")\n",
    "\n",
    "type Arc\n",
    "    initNode::Int \n",
    "    termNode::Int \n",
    "    capacity::Float64\n",
    "    freeflowtime::Float64\n",
    "    flow::Float64\n",
    "end\n",
    "\n",
    "Arc(initNode::Int, termNode::Int, capacity::Float64, freeflowtime::Float64) = \n",
    "    Arc(initNode, termNode, capacity, freeflowtime, 0.)"
   ]
  },
  {
   "cell_type": "code",
   "execution_count": 2,
   "metadata": {
    "collapsed": false
   },
   "outputs": [
    {
     "data": {
      "text/plain": [
       "bpacost (generic function with 3 methods)"
      ]
     },
     "execution_count": 2,
     "metadata": {},
     "output_type": "execute_result"
    }
   ],
   "source": [
    "#include(\"fitTraffic.jl\")\n",
    "\n",
    "## Solve an inverse tarffic problem over polynomials \n",
    "## of degree at most d\n",
    "## optionally use a regularizer from the poly kernel\n",
    "\n",
    "using JuMP\n",
    "using Gurobi\n",
    "using Graphs\n",
    "using Roots\n",
    "\n",
    "\n",
    "polyEval(coeffs, pt) = sum([coeffs[i] * pt^(i-1) for i = 1:length(coeffs)])  \n",
    "\n",
    "polyEval(coeffs::Array{Float64, 1}, pt) = sum([coeffs[i] * pt^(i-1) for i = 1:length(coeffs)]) \n",
    "\n",
    "bpacost(flow::Float64, capacity::Float64, freeflowtime::Float64) = freeflowtime*(1 + .15 * (flow/capacity)^4)\n",
    "bpacost(flow::Float64, arc) = bpacost(flow, arc.capacity, arc.freeflowtime)\n",
    "bpacost(arc::Arc) = bpacost(arc.flow, arc)"
   ]
  },
  {
   "cell_type": "code",
   "execution_count": 3,
   "metadata": {
    "collapsed": false
   },
   "outputs": [
    {
     "data": {
      "text/plain": [
       "setUpFitting (generic function with 1 method)"
      ]
     },
     "execution_count": 3,
     "metadata": {},
     "output_type": "execute_result"
    }
   ],
   "source": [
    "function setUpFitting(deg::Int, c::Float64)\n",
    "\n",
    "\tm = Model(solver=GurobiSolver(OutputFlag=false))\n",
    "    \n",
    "\t@defVar(m, coeffs[1:deg+1])\n",
    "\t@defVar(m, Calphas[1:deg+1])\n",
    "\n",
    "\t#build the graham matrix; cf. Ref. [21] (Regularization Networks and Support Vector Machines), page 47\n",
    "\tsamples = linspace(0, 1, deg + 1)\n",
    "\tk(x,y) = (c + x*y)^deg\n",
    "\tK = [ k(x,y) for x = samples, y=samples]\n",
    "\tK = convert(Array{Float64, 2}, K)\n",
    "\tassert(rank(K) == deg+1)\n",
    "    \n",
    "\tC = chol(K + 1e-6* eye(deg+1))\n",
    "\tfor i=1:deg + 1\n",
    "\t\t@addConstraint(m, polyEval(coeffs, samples[i]) == sum{C[j, i] * Calphas[j], j=1:deg+1})\n",
    "\tend\n",
    "    \n",
    "\t@defVar(m, reg_term >= 0)\n",
    "\treg_term_ = QuadExpr(Calphas[:], Calphas[:], ones(deg+1), AffExpr())\n",
    "    \n",
    "\t@addConstraint(m, reg_term >= reg_term_)\n",
    "    \n",
    "\treturn m, coeffs, reg_term\n",
    "\n",
    "end"
   ]
  },
  {
   "cell_type": "code",
   "execution_count": 4,
   "metadata": {
    "collapsed": false
   },
   "outputs": [
    {
     "data": {
      "text/plain": [
       "fixCoeffs (generic function with 1 method)"
      ]
     },
     "execution_count": 4,
     "metadata": {},
     "output_type": "execute_result"
    }
   ],
   "source": [
    "function fixCoeffs(m, fcoeffs, coeffs)\n",
    "\tfor (fc, c) in zip(fcoeffs, coeffs[:])\n",
    "\t\t@addConstraint(m, fc == c)\n",
    "\tend\n",
    "end"
   ]
  },
  {
   "cell_type": "code",
   "execution_count": 5,
   "metadata": {
    "collapsed": false
   },
   "outputs": [
    {
     "data": {
      "text/plain": [
       "addResid (generic function with 1 method)"
      ]
     },
     "execution_count": 5,
     "metadata": {},
     "output_type": "execute_result"
    }
   ],
   "source": [
    "function addResid(m, coeffs, ys, demands, arcs, scaling)\n",
    "\t@defVar(m, resid)\n",
    "\t@defVar(m, dual_cost)\n",
    "\t@defVar(m, primal_cost)\n",
    "\n",
    "\t@addConstraint(m, dual_cost == sum{demands[(s,t)] * (ys[(s,t), t] - ys[(s,t), s]), (s,t)=keys(demands)})  \n",
    "\t@addConstraint(m, primal_cost == sum{a.flow * a.freeflowtime * polyEval(coeffs, a.flow/a.capacity), a=values(arcs)})\n",
    "\n",
    "\t@addConstraint(m, resid >= (dual_cost - primal_cost) / scaling )\n",
    "\t@addConstraint(m, resid >= (primal_cost - dual_cost) / scaling )\n",
    "\treturn resid\n",
    "end"
   ]
  },
  {
   "cell_type": "code",
   "execution_count": 6,
   "metadata": {
    "collapsed": false
   },
   "outputs": [
    {
     "data": {
      "text/plain": [
       "addIncreasingCnsts (generic function with 1 method)"
      ]
     },
     "execution_count": 6,
     "metadata": {},
     "output_type": "execute_result"
    }
   ],
   "source": [
    "function addIncreasingCnsts(m, coeffs, arcs; TOL=0.)\n",
    "\tsorted_flows = sort([a.flow / a.capacity for a in values(arcs)])\n",
    "\t@addConstraint(m, polyEval(coeffs, 0) <= polyEval(coeffs, sorted_flows[1]))\n",
    "\tfor i = 2:length(sorted_flows)\n",
    "\t\t@addConstraint(m, polyEval(coeffs, sorted_flows[i-1]) <= polyEval(coeffs, sorted_flows[i]) + TOL)\n",
    "\tend\n",
    "end"
   ]
  },
  {
   "cell_type": "code",
   "execution_count": 7,
   "metadata": {
    "collapsed": false
   },
   "outputs": [
    {
     "data": {
      "text/plain": [
       "normalize (generic function with 3 methods)"
      ]
     },
     "execution_count": 7,
     "metadata": {},
     "output_type": "execute_result"
    }
   ],
   "source": [
    "#equates the total cost of the network to the true total cost\n",
    "function normalize(m, coeffs, tot_true_cost::Float64, arcs)\n",
    "\t@addConstraint(m, \n",
    "\t\tsum{a.freeflowtime * a.flow * polyEval(coeffs, a.flow / a.capacity), a=values(arcs)} == tot_true_cost)\n",
    "end\n",
    "\n",
    "function normalize(m, coeffs, scaled_flow::Float64, cost::Float64)\n",
    "\t@addConstraint(m, polyEval(coeffs, scaled_flow) == cost)\n",
    "end\n",
    "\n",
    "function normalize(m, coeffs, scaled_flows::Array{Float64, 1}, avgCost::Float64)\n",
    "    @addConstraint(m, sum{polyEval(coeffs, f), f=scaled_flows} == avgCost * length(scaled_flows))\n",
    "end"
   ]
  },
  {
   "cell_type": "code",
   "execution_count": 8,
   "metadata": {
    "collapsed": false
   },
   "outputs": [
    {
     "data": {
      "text/plain": [
       "addNetworkCnsts (generic function with 1 method)"
      ]
     },
     "execution_count": 8,
     "metadata": {},
     "output_type": "execute_result"
    }
   ],
   "source": [
    "function addNetworkCnsts(m, coeffs, demands, arcs, numNodes)\n",
    "\t@defVar(m, ys[keys(demands), 1:numNodes])\n",
    "\tfor k = keys(arcs)\n",
    "\t\ta = arcs[k]\n",
    "\t\trhs = a.freeflowtime * polyEval(coeffs, a.flow/a.capacity)\n",
    "\t\tfor od in keys(demands)\n",
    "\t\t\t@addConstraint(m, ys[od, k[2]] - ys[od, k[1]] <= rhs)\n",
    "\t\tend\n",
    "\tend\n",
    "\treturn ys\n",
    "end"
   ]
  },
  {
   "cell_type": "code",
   "execution_count": 9,
   "metadata": {
    "collapsed": false
   },
   "outputs": [],
   "source": [
    "############\n",
    "#Read in demand data\n",
    "file = open(\"../temp_files/OD_demand_matrix_Oct_weekday_AM.txt\")\n",
    "demands = Dict{(Int64,Int64), Float64}()\n",
    "n = 8  # number of nodes\n",
    "for i in [1:n]\n",
    "    demands[(i,i)] = 0.0\n",
    "end\n",
    "for line in eachline(file)\n",
    "    OD_demand = split(line, \",\")\n",
    "    key, value = (int(OD_demand[1]),int(OD_demand[2])), float(split(OD_demand[3], \"\\n\")[1])\n",
    "    demands[key] = value\n",
    "end\n",
    "close(file)"
   ]
  },
  {
   "cell_type": "code",
   "execution_count": 10,
   "metadata": {
    "collapsed": false
   },
   "outputs": [
    {
     "data": {
      "text/plain": [
       "Dict{(Int64,Int64),Float64} with 64 entries:\n",
       "  (3,6) => 89470.49664\n",
       "  (4,4) => 0.0\n",
       "  (3,1) => 92425.99962\n",
       "  (4,5) => 59109.223301\n",
       "  (2,4) => 181324.063689\n",
       "  (6,5) => 107886.736764\n",
       "  (8,4) => 187993.309047\n",
       "  (1,2) => 0.0\n",
       "  (5,1) => 452858.428618\n",
       "  (3,4) => 0.0\n",
       "  (8,2) => 0.0\n",
       "  (2,3) => 0.0\n",
       "  (2,6) => 0.0\n",
       "  (5,4) => 54520.344871\n",
       "  (2,1) => 0.0\n",
       "  (2,5) => 0.0\n",
       "  (8,5) => 113835.125841\n",
       "  (1,4) => 129461.69602\n",
       "  (2,8) => 0.0\n",
       "  (5,8) => 139614.100162\n",
       "  (4,8) => 190118.040061\n",
       "  (7,8) => 3.4e-5\n",
       "  (1,1) => 0.0\n",
       "  (7,7) => 0.0\n",
       "  (5,7) => 0.0\n",
       "  ⋮     => ⋮"
      ]
     },
     "execution_count": 10,
     "metadata": {},
     "output_type": "execute_result"
    }
   ],
   "source": [
    "demands"
   ]
  },
  {
   "cell_type": "code",
   "execution_count": 11,
   "metadata": {
    "collapsed": false
   },
   "outputs": [],
   "source": [
    "using JSON\n",
    "\n",
    "link_day_minute_Oct_dict = readall(\"../temp_files/link_day_minute_Oct_dict_JSON.json\");\n",
    "link_day_minute_Oct_dict = replace(link_day_minute_Oct_dict, \"NaN\", 0);\n",
    "\n",
    "link_day_minute_Oct_dict = JSON.parse(link_day_minute_Oct_dict);"
   ]
  },
  {
   "cell_type": "code",
   "execution_count": 12,
   "metadata": {
    "collapsed": false
   },
   "outputs": [],
   "source": [
    "week_day_Oct_list = [1, 2, 3, 4, 5, 8, 9, 10, 11, 12, 15, 16, 17, 18, 19, 22, 23, 24, 25, 26, 29, 30, 31]\n",
    "\n",
    "arcs = Dict{(Int, Int), Arc}[]\n",
    "for j in week_day_Oct_list\n",
    "    arcs_ = Dict{(Int, Int), Arc}()\n",
    "    for i = 0:23\n",
    "        key = \"link_$(i)_$(j)\"\n",
    "        initNode = link_day_minute_Oct_dict[key][\"init_node\"]\n",
    "        termNode = link_day_minute_Oct_dict[key][\"term_node\"]\n",
    "        capacity = link_day_minute_Oct_dict[key][\"AM_capac\"]\n",
    "        freeflowtime = link_day_minute_Oct_dict[key][\"free_flow_time\"]\n",
    "        flow = link_day_minute_Oct_dict[key][\"AM_flow\"]\n",
    "        arcs_[(initNode, termNode)] = Arc(initNode, termNode, capacity, freeflowtime, flow)\n",
    "    end\n",
    "    push!(arcs, arcs_)\n",
    "end"
   ]
  },
  {
   "cell_type": "code",
   "execution_count": 13,
   "metadata": {
    "collapsed": false
   },
   "outputs": [
    {
     "data": {
      "text/plain": [
       "Dict{(Int64,Int64),Arc} with 24 entries:\n",
       "  (3,6) => Arc(3,6,601000.0,10.104091401583059,419614.66070640023)\n",
       "  (2,3) => Arc(2,3,198000.0,6.245983825838077,166990.31988393763)\n",
       "  (5,6) => Arc(5,6,190375.0,7.596735314731068,174400.3179070381)\n",
       "  (5,4) => Arc(5,4,119750.0,10.879908330347215,100307.58629317477)\n",
       "  (2,1) => Arc(2,1,416000.0,14.345919651016688,351582.3393940398)\n",
       "  (6,3) => Arc(6,3,487500.0,10.755524605163453,255519.049453901)\n",
       "  (3,1) => Arc(3,1,802000.0,20.553379146316544,631676.4010065143)\n",
       "  (1,3) => Arc(1,3,757000.0,20.136411020613906,627707.5067605266)\n",
       "  (4,5) => Arc(4,5,114750.0,10.653322572942127,92678.0211451839)\n",
       "  (4,8) => Arc(4,8,255000.0,15.071063131308403,218300.14108587062)\n",
       "  (7,5) => Arc(7,5,407875.0,8.16675272101653,353410.1572238506)\n",
       "  (8,7) => Arc(8,7,165000.0,8.841103424391747,138176.895174971)\n",
       "  (3,2) => Arc(3,2,263000.0,7.409576285430038,253749.55010233636)\n",
       "  (7,6) => Arc(7,6,645458.333328,11.056227551715708,584026.470995115)\n",
       "  (2,4) => Arc(2,4,495000.0,23.62777840100562,411328.17400756764)\n",
       "  (7,8) => Arc(7,8,165000.0,8.602848723764868,139195.34458625308)\n",
       "  (6,5) => Arc(6,5,176000.0,7.5595227133229255,150624.8581695546)\n",
       "  (6,7) => Arc(6,7,630000.0,11.161346180133824,438607.1062148623)\n",
       "  (8,4) => Arc(8,4,255000.0,15.01931446303996,212629.72187958195)\n",
       "  (1,2) => Arc(1,2,400000.0,13.426132584676868,334352.3850887499)\n",
       "  (5,3) => Arc(5,3,467500.0,10.963455985189942,412943.30824542965)\n",
       "  (4,2) => Arc(4,2,495000.0,24.33883552711905,422925.2674531428)\n",
       "  (3,5) => Arc(3,5,456000.0,10.565070690841445,398532.14413564914)\n",
       "  (5,7) => Arc(5,7,442500.0,8.212552644244445,389162.8098658768)"
      ]
     },
     "execution_count": 13,
     "metadata": {},
     "output_type": "execute_result"
    }
   ],
   "source": [
    "arcs[1]"
   ]
  },
  {
   "cell_type": "code",
   "execution_count": 14,
   "metadata": {
    "collapsed": false
   },
   "outputs": [
    {
     "data": {
      "text/plain": [
       "Dict{(Int64,Int64),Arc} with 24 entries:\n",
       "  (3,6) => Arc(3,6,601000.0,10.104091401583059,411724.33081537666)\n",
       "  (2,3) => Arc(2,3,198000.0,6.245983825838077,167191.73119264084)\n",
       "  (5,6) => Arc(5,6,190375.0,7.596735314731068,171763.03474816057)\n",
       "  (5,4) => Arc(5,4,119750.0,10.879908330347215,96599.357332512)\n",
       "  (2,1) => Arc(2,1,416000.0,14.345919651016688,353047.2350445253)\n",
       "  (6,3) => Arc(6,3,487500.0,10.755524605163453,265592.7120889578)\n",
       "  (3,1) => Arc(3,1,802000.0,20.553379146316544,618334.3929014057)\n",
       "  (1,3) => Arc(1,3,757000.0,20.136411020613906,621192.4843762912)\n",
       "  (4,5) => Arc(4,5,114750.0,10.653322572942127,101711.24356322814)\n",
       "  (4,8) => Arc(4,8,255000.0,15.071063131308403,215267.3071419021)\n",
       "  (7,5) => Arc(7,5,407875.0,8.16675272101653,349416.5675857143)\n",
       "  (8,7) => Arc(8,7,165000.0,8.841103424391747,136892.09591266877)\n",
       "  (3,2) => Arc(3,2,263000.0,7.409576285430038,253406.67942516334)\n",
       "  (7,6) => Arc(7,6,645458.333328,11.056227551715708,579554.6580909147)\n",
       "  (2,4) => Arc(2,4,495000.0,23.62777840100562,412667.8073857132)\n",
       "  (7,8) => Arc(7,8,165000.0,8.602848723764868,154163.75426488888)\n",
       "  (6,5) => Arc(6,5,176000.0,7.5595227133229255,148951.55418952607)\n",
       "  (6,7) => Arc(6,7,630000.0,11.161346180133824,433049.3100047074)\n",
       "  (8,4) => Arc(8,4,255000.0,15.01931446303996,212101.22866600868)\n",
       "  (1,2) => Arc(1,2,400000.0,13.426132584676868,336881.1360044009)\n",
       "  (5,3) => Arc(5,3,467500.0,10.963455985189942,405221.49783870595)\n",
       "  (4,2) => Arc(4,2,495000.0,24.33883552711905,422347.2190968564)\n",
       "  (3,5) => Arc(3,5,456000.0,10.565070690841445,393733.3890098016)\n",
       "  (5,7) => Arc(5,7,442500.0,8.212552644244445,401151.0774679488)"
      ]
     },
     "execution_count": 14,
     "metadata": {},
     "output_type": "execute_result"
    }
   ],
   "source": [
    "arcs[2]"
   ]
  },
  {
   "cell_type": "code",
   "execution_count": 15,
   "metadata": {
    "collapsed": false
   },
   "outputs": [],
   "source": [
    "##########\n",
    "# Set up demand data and flow data\n",
    "##########\n",
    "numData = length(arcs); \n",
    "sigma = .0\n",
    "\n",
    "flow_data = Array(Float64, length(arcs[1]), numData)\n",
    "\n",
    "demand_data = Dict{(Int, Int), Array{Float64, 1}}()\n",
    "\n",
    "numNodes = maximum(map(pair->pair[1], keys(demands)))\n",
    "g = simple_inclist(numNodes, is_directed=true)\n",
    "vArcs = Arc[]\n",
    "for arc in values(arcs[1])\n",
    "    add_edge!(g, arc.initNode, arc.termNode) \n",
    "    push!(vArcs, arc)\n",
    "end\n",
    "\n",
    "\n",
    "for iRun = 1:numData\n",
    "    for odpair in keys(demands)\n",
    "        if ! haskey(demand_data, odpair)\n",
    "            demand_data[odpair] = [demands[odpair], ]\n",
    "        else\n",
    "            push!(demand_data[odpair], demands[odpair])\n",
    "        end\n",
    "    end\n",
    "\n",
    "    #flow_data[:, iRun] = [a.flow::Float64 for a in vArcs]\n",
    "    flow_data[:, iRun] = [a.flow::Float64 for a in values(arcs[iRun])]\n",
    "end"
   ]
  },
  {
   "cell_type": "code",
   "execution_count": 16,
   "metadata": {
    "collapsed": false
   },
   "outputs": [
    {
     "data": {
      "text/plain": [
       "Dict{(Int64,Int64),Array{Float64,1}} with 64 entries:\n",
       "  (3,6) => [89470.49664,89470.49664,89470.49664,89470.49664,89470.49664,89470.4…\n",
       "  (4,4) => [0.0,0.0,0.0,0.0,0.0,0.0,0.0,0.0,0.0,0.0,0.0,0.0,0.0,0.0,0.0,0.0,0.0…\n",
       "  (3,1) => [92425.99962,92425.99962,92425.99962,92425.99962,92425.99962,92425.9…\n",
       "  (4,5) => [59109.223301,59109.223301,59109.223301,59109.223301,59109.223301,59…\n",
       "  (2,4) => [181324.063689,181324.063689,181324.063689,181324.063689,181324.0636…\n",
       "  (6,5) => [107886.736764,107886.736764,107886.736764,107886.736764,107886.7367…\n",
       "  (8,4) => [187993.309047,187993.309047,187993.309047,187993.309047,187993.3090…\n",
       "  (1,2) => [0.0,0.0,0.0,0.0,0.0,0.0,0.0,0.0,0.0,0.0,0.0,0.0,0.0,0.0,0.0,0.0,0.0…\n",
       "  (5,1) => [452858.428618,452858.428618,452858.428618,452858.428618,452858.4286…\n",
       "  (3,4) => [0.0,0.0,0.0,0.0,0.0,0.0,0.0,0.0,0.0,0.0,0.0,0.0,0.0,0.0,0.0,0.0,0.0…\n",
       "  (8,2) => [0.0,0.0,0.0,0.0,0.0,0.0,0.0,0.0,0.0,0.0,0.0,0.0,0.0,0.0,0.0,0.0,0.0…\n",
       "  (2,3) => [0.0,0.0,0.0,0.0,0.0,0.0,0.0,0.0,0.0,0.0,0.0,0.0,0.0,0.0,0.0,0.0,0.0…\n",
       "  (2,6) => [0.0,0.0,0.0,0.0,0.0,0.0,0.0,0.0,0.0,0.0,0.0,0.0,0.0,0.0,0.0,0.0,0.0…\n",
       "  (5,4) => [54520.344871,54520.344871,54520.344871,54520.344871,54520.344871,54…\n",
       "  (2,1) => [0.0,0.0,0.0,0.0,0.0,0.0,0.0,0.0,0.0,0.0,0.0,0.0,0.0,0.0,0.0,0.0,0.0…\n",
       "  (2,5) => [0.0,0.0,0.0,0.0,0.0,0.0,0.0,0.0,0.0,0.0,0.0,0.0,0.0,0.0,0.0,0.0,0.0…\n",
       "  (8,5) => [113835.125841,113835.125841,113835.125841,113835.125841,113835.1258…\n",
       "  (1,4) => [129461.69602,129461.69602,129461.69602,129461.69602,129461.69602,12…\n",
       "  (2,8) => [0.0,0.0,0.0,0.0,0.0,0.0,0.0,0.0,0.0,0.0,0.0,0.0,0.0,0.0,0.0,0.0,0.0…\n",
       "  (5,8) => [139614.100162,139614.100162,139614.100162,139614.100162,139614.1001…\n",
       "  (4,8) => [190118.040061,190118.040061,190118.040061,190118.040061,190118.0400…\n",
       "  (7,8) => [3.4e-5,3.4e-5,3.4e-5,3.4e-5,3.4e-5,3.4e-5,3.4e-5,3.4e-5,3.4e-5,3.4e…\n",
       "  (1,1) => [0.0,0.0,0.0,0.0,0.0,0.0,0.0,0.0,0.0,0.0,0.0,0.0,0.0,0.0,0.0,0.0,0.0…\n",
       "  (7,7) => [0.0,0.0,0.0,0.0,0.0,0.0,0.0,0.0,0.0,0.0,0.0,0.0,0.0,0.0,0.0,0.0,0.0…\n",
       "  (5,7) => [0.0,0.0,0.0,0.0,0.0,0.0,0.0,0.0,0.0,0.0,0.0,0.0,0.0,0.0,0.0,0.0,0.0…\n",
       "  ⋮     => ⋮"
      ]
     },
     "execution_count": 16,
     "metadata": {},
     "output_type": "execute_result"
    }
   ],
   "source": [
    "demand_data"
   ]
  },
  {
   "cell_type": "code",
   "execution_count": 17,
   "metadata": {
    "collapsed": false
   },
   "outputs": [
    {
     "data": {
      "text/plain": [
       "train (generic function with 1 method)"
      ]
     },
     "execution_count": 17,
     "metadata": {},
     "output_type": "execute_result"
    }
   ],
   "source": [
    "##########\n",
    "#Fitting Funcs\n",
    "##########\n",
    "\n",
    "function train(indices, lam::Float64, deg::Int, c::Float64, demand_data, flow_data, arcs; fcoeffs=nothing)\n",
    "    numNodes = maximum(map(pair->pair[1], keys(arcs)))\n",
    "    m, coeffs, reg_term = setUpFitting(deg, c)\n",
    "    \n",
    "    addIncreasingCnsts(m, coeffs, arcs, TOL=1e-8)  #uses the original obs flows\n",
    "\n",
    "    avgCost = mean( [bpacost(a.flow, a.capacity, 1.0) for a in values(arcs)] )\n",
    "    normalize(m, coeffs, [a.flow / a.capacity for a in values(arcs)], avgCost)\n",
    "\n",
    "\n",
    "    resids = Variable[]\n",
    "    \n",
    "    for i = indices\n",
    "        #copy the flow data over to the arcs, demand data to demands (slow)\n",
    "        for (ix, a) in enumerate(vArcs)\n",
    "            a.flow = flow_data[ix, i]\n",
    "        end\n",
    "        for odpair in keys(demands)\n",
    "            demands[odpair] = demand_data[odpair][i]\n",
    "        end\n",
    "    \n",
    "        #Dual Feasibility\n",
    "        ys = addNetworkCnsts(m, coeffs, demands, arcs, numNodes)\n",
    "        \n",
    "        #add the residual for this data point\n",
    "        push!(resids, addResid(m, coeffs, ys, demands, arcs, 1e6))\n",
    "    end\n",
    "\n",
    "    if fcoeffs != nothing\n",
    "        fixCoeffs(m, fcoeffs, coeffs)\n",
    "    end\n",
    "    @setObjective(m, Min, sum{resids[i], i = 1:length(resids)} + lam*reg_term)\n",
    "    solve(m)\n",
    "    println(getObjectiveValue(m) - lam * getValue(reg_term) )\n",
    "    return [getValue(coeffs[i]) for i =1:length(coeffs)]\n",
    "end"
   ]
  },
  {
   "cell_type": "code",
   "execution_count": 28,
   "metadata": {
    "collapsed": false
   },
   "outputs": [
    {
     "name": "stdout",
     "output_type": "stream",
     "text": [
      "715.4268023900972\n",
      "726.7102322302477\n",
      "736.5517940255202\n",
      "742.533415913811\n"
     ]
    },
    {
     "data": {
      "text/plain": [
       "7-element Array{Float64,1}:\n",
       " 0.0955714 \n",
       " 0.33191   \n",
       " 0.509552  \n",
       " 0.408956  \n",
       " 0.17801   \n",
       " 0.0376712 \n",
       " 0.00297342"
      ]
     },
     "execution_count": 28,
     "metadata": {},
     "output_type": "execute_result"
    }
   ],
   "source": [
    "#include(\"trafficCval.jl\")\n",
    "\n",
    "arcs3 = arcs[1]\n",
    "arcs4 = arcs[1]\n",
    "arcs5 = arcs[1]\n",
    "arcs6 = arcs[1]\n",
    "coeffs_dict = Dict{(Int64,Float64,Float64),Array{Float64,1}}()\n",
    "\n",
    "# deg = 3\n",
    "deg = 3\n",
    "c = 1.\n",
    "lam = 1e3\n",
    "\n",
    "fcoeffs3 = train(1:numData, lam, deg, c, demand_data, flow_data, arcs3)\n",
    "coeffs_dict[(deg, c, lam)] = fcoeffs3\n",
    "\n",
    "# deg = 4\n",
    "deg = 4\n",
    "c = 1.\n",
    "lam = 1e3\n",
    "\n",
    "fcoeffs4 = train(1:numData, lam, deg, c, demand_data, flow_data, arcs4)\n",
    "coeffs_dict[(deg, c, lam)] = fcoeffs4\n",
    "\n",
    "# deg = 5\n",
    "deg = 5\n",
    "c = 1.\n",
    "lam = 1e3\n",
    "\n",
    "fcoeffs5 = train(1:numData, lam, deg, c, demand_data, flow_data, arcs5)\n",
    "coeffs_dict[(deg, c, lam)] = fcoeffs5\n",
    "\n",
    "# deg = 6\n",
    "deg = 6\n",
    "c = 1.\n",
    "lam = 1e3\n",
    "\n",
    "fcoeffs6 = train(1:numData, lam, deg, c, demand_data, flow_data, arcs6)\n",
    "coeffs_dict[(deg, c, lam)] = fcoeffs6"
   ]
  },
  {
   "cell_type": "code",
   "execution_count": 29,
   "metadata": {
    "collapsed": false
   },
   "outputs": [
    {
     "data": {
      "image/png": "[encoded data removed]",
      "text/plain": [
       "Figure(PyObject <matplotlib.figure.Figure object at 0x7f59d2b614d0>)"
      ]
     },
     "metadata": {},
     "output_type": "display_data"
    }
   ],
   "source": [
    "using PyPlot\n",
    "\n",
    "#true_coeffs = [1, 0, 0, 0, .15]\n",
    "fcoeffs3 = coeffs_dict[(3, 1., 1e3)]\n",
    "fcoeffs4 = coeffs_dict[(4, 1., 1e3)]\n",
    "fcoeffs5 = coeffs_dict[(5, 1., 1e3)]\n",
    "fcoeffs6 = coeffs_dict[(6, 1., 1e3)]\n",
    "\n",
    "xs = linspace(0, 2, 20)\n",
    "#ys_true = map(x->polyEval(true_coeffs, x), xs)\n",
    "ys3 = map(x->polyEval(fcoeffs3, x), xs)\n",
    "ys4 = map(x->polyEval(fcoeffs4, x), xs)\n",
    "ys5 = map(x->polyEval(fcoeffs5, x), xs)\n",
    "ys6 = map(x->polyEval(fcoeffs6, x), xs)\n",
    "\n",
    "# ys = map(x->polyEval(fcoeffs, x), xs)\n",
    "\n",
    "#plot(xs, ys_true, \"k\", label=\"True\")\n",
    "plot(xs, ys3, \"^-c\", label=\"deg=3\")\n",
    "plot(xs, ys4, \"--m\", label=\"deg=4\")\n",
    "plot(xs, ys5, \"o-b\", label=\"deg=5\")\n",
    "plot(xs, ys6, \"s-r\", label=\"deg=6\")\n",
    "legend(loc=\"upper left\",fancybox=\"true\") \n",
    "# plot(xs, ys, \"--b\")\n",
    "grid(\"on\")\n",
    "xlim(-0.1, 2.0);\n",
    "ylim(0.0, 5.0);\n",
    "\n",
    "font1 = [\"family\"=>\"serif\",\n",
    "    \"color\"=>\"darkred\",\n",
    "    \"weight\"=>\"normal\",\n",
    "    \"size\"=>14]\n",
    "xlabel(\"Scaled Flow\", fontdict=font1)\n",
    "\n",
    "savefig(\"../temp_files/fitting_Oct_AM.pdf\")"
   ]
  },
  {
   "cell_type": "code",
   "execution_count": 30,
   "metadata": {
    "collapsed": true
   },
   "outputs": [],
   "source": [
    "s = \"{\\\"fcoeffs3\\\": $(fcoeffs3), \\\"fcoeffs4\\\": $(fcoeffs4), \\\"fcoeffs5\\\": $(fcoeffs5), \\\"fcoeffs6\\\": $(fcoeffs6)}\"\n",
    "\n",
    "outfile = open(\"../temp_files/fcoeffs_Oct_AM.json\", \"w\")\n",
    "\n",
    "JSON.print(outfile, s)\n",
    "\n",
    "close(outfile)"
   ]
  },
  {
   "cell_type": "code",
   "execution_count": 31,
   "metadata": {
    "collapsed": false
   },
   "outputs": [
    {
     "data": {
      "text/plain": [
       "Dict{String,Any} with 4 entries:\n",
       "  \"fcoeffs5\" => {0.11725015838774173,0.3764276562472484,0.5172756451744029,0.360…\n",
       "  \"fcoeffs3\" => {0.24391104385402318,0.5520781461096224,0.43594375892501247,0.11…\n",
       "  \"fcoeffs6\" => {0.09557135181824943,0.3319100665430303,0.5095516124370597,0.408…\n",
       "  \"fcoeffs4\" => {0.16302849702112612,0.4566446771509584,0.5096052890468626,0.258…"
      ]
     },
     "execution_count": 31,
     "metadata": {},
     "output_type": "execute_result"
    }
   ],
   "source": [
    "fcoeffs_Oct_AM = readall(\"../temp_files/fcoeffs_Oct_AM.json\")\n",
    "fcoeffs_Oct_AM = JSON.parse(JSON.parse(fcoeffs_Oct_AM))"
   ]
  },
  {
   "cell_type": "code",
   "execution_count": null,
   "metadata": {
    "collapsed": true
   },
   "outputs": [],
   "source": []
  }
 ],
 "metadata": {
  "kernelspec": {
   "display_name": "Julia 0.3.7",
   "language": "julia",
   "name": "julia-0.3"
  },
  "language_info": {
   "file_extension": ".jl",
   "mimetype": "application/julia",
   "name": "julia",
   "version": "0.3.7"
  }
 },
 "nbformat": 4,
 "nbformat_minor": 0
}
