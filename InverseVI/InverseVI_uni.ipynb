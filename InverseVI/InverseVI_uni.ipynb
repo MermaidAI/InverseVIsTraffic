{
 "cells": [
  {
   "cell_type": "code",
   "execution_count": 1,
   "metadata": {
    "collapsed": false
   },
   "outputs": [
    {
     "data": {
      "text/plain": [
       "Arc (constructor with 3 methods)"
      ]
     },
     "execution_count": 1,
     "metadata": {},
     "output_type": "execute_result"
    }
   ],
   "source": [
    "#include(\"defArc.jl\")\n",
    "\n",
    "type Arc\n",
    "    initNode::Int \n",
    "    termNode::Int \n",
    "    capacity::Float64\n",
    "    freeflowtime::Float64\n",
    "    flow::Float64\n",
    "end\n",
    "\n",
    "Arc(initNode::Int, termNode::Int, capacity::Float64, freeflowtime::Float64) = \n",
    "    Arc(initNode, termNode, capacity, freeflowtime, 0.)"
   ]
  },
  {
   "cell_type": "code",
   "execution_count": 2,
   "metadata": {
    "collapsed": false
   },
   "outputs": [
    {
     "data": {
      "text/plain": [
       "bpacost (generic function with 3 methods)"
      ]
     },
     "execution_count": 2,
     "metadata": {},
     "output_type": "execute_result"
    }
   ],
   "source": [
    "#include(\"fitTraffic.jl\")\n",
    "\n",
    "## Solve an inverse tarffic problem over polynomials \n",
    "## of degree at most d\n",
    "## optionally use a regularizer from the poly kernel\n",
    "\n",
    "using JuMP\n",
    "using Gurobi\n",
    "using Graphs\n",
    "using Roots\n",
    "\n",
    "\n",
    "polyEval(coeffs, pt) = sum([coeffs[i] * pt^(i-1) for i = 1:length(coeffs)])  \n",
    "\n",
    "polyEval(coeffs::Array{Float64, 1}, pt) = sum([coeffs[i] * pt^(i-1) for i = 1:length(coeffs)]) \n",
    "\n",
    "bpacost(flow::Float64, capacity::Float64, freeflowtime::Float64) = freeflowtime*(1 + .15 * (flow/capacity)^4)\n",
    "bpacost(flow::Float64, arc) = bpacost(flow, arc.capacity, arc.freeflowtime)\n",
    "bpacost(arc::Arc) = bpacost(arc.flow, arc)"
   ]
  },
  {
   "cell_type": "code",
   "execution_count": 3,
   "metadata": {
    "collapsed": false
   },
   "outputs": [
    {
     "data": {
      "text/plain": [
       "setUpFitting (generic function with 1 method)"
      ]
     },
     "execution_count": 3,
     "metadata": {},
     "output_type": "execute_result"
    }
   ],
   "source": [
    "function setUpFitting(deg::Int, c::Float64)\n",
    "\n",
    "\tm = Model(solver=GurobiSolver(OutputFlag=false))\n",
    "    \n",
    "\t@defVar(m, coeffs[1:deg+1])\n",
    "\t@defVar(m, Calphas[1:deg+1])\n",
    "\n",
    "\t#build the graham matrix; cf. Ref. [21] (Regularization Networks and Support Vector Machines), page 47\n",
    "\tsamples = linspace(0, 1, deg + 1)\n",
    "\tk(x,y) = (c + x*y)^deg\n",
    "\tK = [ k(x,y) for x = samples, y=samples]\n",
    "\tK = convert(Array{Float64, 2}, K)\n",
    "\tassert(rank(K) == deg+1)\n",
    "    \n",
    "\tC = chol(K + 1e-6* eye(deg+1))\n",
    "\tfor i=1:deg + 1\n",
    "\t\t@addConstraint(m, polyEval(coeffs, samples[i]) == sum{C[j, i] * Calphas[j], j=1:deg+1})\n",
    "\tend\n",
    "    \n",
    "\t@defVar(m, reg_term >= 0)\n",
    "\treg_term_ = QuadExpr(Calphas[:], Calphas[:], ones(deg+1), AffExpr())\n",
    "    \n",
    "\t@addConstraint(m, reg_term >= reg_term_)\n",
    "    \n",
    "\treturn m, coeffs, reg_term\n",
    "\n",
    "end"
   ]
  },
  {
   "cell_type": "code",
   "execution_count": 4,
   "metadata": {
    "collapsed": false
   },
   "outputs": [
    {
     "data": {
      "text/plain": [
       "fixCoeffs (generic function with 1 method)"
      ]
     },
     "execution_count": 4,
     "metadata": {},
     "output_type": "execute_result"
    }
   ],
   "source": [
    "function fixCoeffs(m, fcoeffs, coeffs)\n",
    "\tfor (fc, c) in zip(fcoeffs, coeffs[:])\n",
    "\t\t@addConstraint(m, fc == c)\n",
    "\tend\n",
    "end"
   ]
  },
  {
   "cell_type": "code",
   "execution_count": 5,
   "metadata": {
    "collapsed": false
   },
   "outputs": [
    {
     "data": {
      "text/plain": [
       "addResid (generic function with 1 method)"
      ]
     },
     "execution_count": 5,
     "metadata": {},
     "output_type": "execute_result"
    }
   ],
   "source": [
    "function addResid(m, coeffs, ys, demands, arcs, scaling)\n",
    "\t@defVar(m, resid)\n",
    "\t@defVar(m, dual_cost)\n",
    "\t@defVar(m, primal_cost)\n",
    "\n",
    "\t@addConstraint(m, dual_cost == sum{demands[(s,t)] * (ys[(s,t), t] - ys[(s,t), s]), (s,t)=keys(demands)})  \n",
    "\t@addConstraint(m, primal_cost == sum{a.flow * a.freeflowtime * polyEval(coeffs, a.flow/a.capacity), a=values(arcs)})\n",
    "\n",
    "\t@addConstraint(m, resid >= (dual_cost - primal_cost) / scaling )\n",
    "\t@addConstraint(m, resid >= (primal_cost - dual_cost) / scaling )\n",
    "\treturn resid\n",
    "end"
   ]
  },
  {
   "cell_type": "code",
   "execution_count": 6,
   "metadata": {
    "collapsed": false
   },
   "outputs": [
    {
     "data": {
      "text/plain": [
       "addIncreasingCnsts (generic function with 1 method)"
      ]
     },
     "execution_count": 6,
     "metadata": {},
     "output_type": "execute_result"
    }
   ],
   "source": [
    "function addIncreasingCnsts(m, coeffs, arcs; TOL=0.)\n",
    "\tsorted_flows = sort([a.flow / a.capacity for a in values(arcs)])\n",
    "\t@addConstraint(m, polyEval(coeffs, 0) <= polyEval(coeffs, sorted_flows[1]))\n",
    "\tfor i = 2:length(sorted_flows)\n",
    "\t\t@addConstraint(m, polyEval(coeffs, sorted_flows[i-1]) <= polyEval(coeffs, sorted_flows[i]) + TOL)\n",
    "\tend\n",
    "end"
   ]
  },
  {
   "cell_type": "code",
   "execution_count": 7,
   "metadata": {
    "collapsed": false
   },
   "outputs": [
    {
     "data": {
      "text/plain": [
       "normalize (generic function with 3 methods)"
      ]
     },
     "execution_count": 7,
     "metadata": {},
     "output_type": "execute_result"
    }
   ],
   "source": [
    "#equates the total cost of the network to the true total cost\n",
    "function normalize(m, coeffs, tot_true_cost::Float64, arcs)\n",
    "\t@addConstraint(m, \n",
    "\t\tsum{a.freeflowtime * a.flow * polyEval(coeffs, a.flow / a.capacity), a=values(arcs)} == tot_true_cost)\n",
    "end\n",
    "\n",
    "function normalize(m, coeffs, scaled_flow::Float64, cost::Float64)\n",
    "\t@addConstraint(m, polyEval(coeffs, scaled_flow) == cost)\n",
    "end\n",
    "\n",
    "function normalize(m, coeffs, scaled_flows::Array{Float64, 1}, avgCost::Float64)\n",
    "    @addConstraint(m, sum{polyEval(coeffs, f), f=scaled_flows} == avgCost * length(scaled_flows))\n",
    "end"
   ]
  },
  {
   "cell_type": "code",
   "execution_count": 8,
   "metadata": {
    "collapsed": false
   },
   "outputs": [
    {
     "data": {
      "text/plain": [
       "addNetworkCnsts (generic function with 1 method)"
      ]
     },
     "execution_count": 8,
     "metadata": {},
     "output_type": "execute_result"
    }
   ],
   "source": [
    "function addNetworkCnsts(m, coeffs, demands, arcs, numNodes)\n",
    "\t@defVar(m, ys[keys(demands), 1:numNodes])\n",
    "\tfor k = keys(arcs)\n",
    "\t\ta = arcs[k]\n",
    "\t\trhs = a.freeflowtime * polyEval(coeffs, a.flow/a.capacity)\n",
    "\t\tfor od in keys(demands)\n",
    "\t\t\t@addConstraint(m, ys[od, k[2]] - ys[od, k[1]] <= rhs)\n",
    "\t\tend\n",
    "\tend\n",
    "\treturn ys\n",
    "end"
   ]
  },
  {
   "cell_type": "code",
   "execution_count": 9,
   "metadata": {
    "collapsed": false
   },
   "outputs": [],
   "source": [
    "############\n",
    "#Read in the demand file\n",
    "file = open(\"../data_original/SiouxFalls_trips.txt\")\n",
    "demands = Dict{(Int64,Int64), Float64}()\n",
    "s = 0\n",
    "for line in eachline(file)\n",
    "    if contains(line, \"Origin\")\n",
    "        s = int(split(line)[2])\n",
    "    else\n",
    "        pairs = split(line, \";\")\n",
    "        for pair in pairs\n",
    "            if !contains(pair, \"\\n\")\n",
    "                pair_vals = split(pair, \":\")\n",
    "                t, demand = int(pair_vals[1]), float(pair_vals[2])\n",
    "                demands[(s,t)] = demand \n",
    "            end\n",
    "        end\n",
    "    end\n",
    "end                \n",
    "close(file)"
   ]
  },
  {
   "cell_type": "code",
   "execution_count": 10,
   "metadata": {
    "collapsed": false
   },
   "outputs": [
    {
     "data": {
      "text/plain": [
       "Dict{(Int64,Int64),Float64} with 576 entries:\n",
       "  (23,8)  => 300.0\n",
       "  (8,23)  => 300.0\n",
       "  (6,9)   => 400.0\n",
       "  (18,3)  => 0.0\n",
       "  (21,13) => 600.0\n",
       "  (22,16) => 1200.0\n",
       "  (15,17) => 1500.0\n",
       "  (22,14) => 1200.0\n",
       "  (13,9)  => 600.0\n",
       "  (23,10) => 1800.0\n",
       "  (24,22) => 1100.0\n",
       "  (8,9)   => 800.0\n",
       "  (9,1)   => 500.0\n",
       "  (17,14) => 700.0\n",
       "  (16,6)  => 900.0\n",
       "  (16,12) => 700.0\n",
       "  (16,13) => 600.0\n",
       "  (22,2)  => 100.0\n",
       "  (24,3)  => 0.0\n",
       "  (7,16)  => 1400.0\n",
       "  (1,12)  => 200.0\n",
       "  (4,5)   => 500.0\n",
       "  (11,8)  => 800.0\n",
       "  (18,21) => 100.0\n",
       "  (19,4)  => 200.0\n",
       "  ⋮       => ⋮"
      ]
     },
     "execution_count": 10,
     "metadata": {},
     "output_type": "execute_result"
    }
   ],
   "source": [
    "demands"
   ]
  },
  {
   "cell_type": "code",
   "execution_count": 123,
   "metadata": {
    "collapsed": false
   },
   "outputs": [],
   "source": [
    "############\n",
    "#Read in demand data\n",
    "file = open(\"../temp_files/OD_demand_matrix.txt\")\n",
    "demands = Dict{(Int64,Int64), Float64}()\n",
    "n = 8  # number of nodes\n",
    "for i in [1:n]\n",
    "    demands[(i,i)] = 0.0\n",
    "end\n",
    "for line in eachline(file)\n",
    "    OD_demand = split(line, \",\")\n",
    "    key, value = (int(OD_demand[1]),int(OD_demand[2])), float(split(OD_demand[3], \"\\n\")[1])\n",
    "    demands[key] = value\n",
    "end\n",
    "close(file)"
   ]
  },
  {
   "cell_type": "code",
   "execution_count": 124,
   "metadata": {
    "collapsed": false
   },
   "outputs": [
    {
     "data": {
      "text/plain": [
       "Dict{(Int64,Int64),Float64} with 64 entries:\n",
       "  (3,6) => 266530.167897\n",
       "  (4,4) => 0.0\n",
       "  (3,1) => 3.5e-5\n",
       "  (4,5) => 0.0\n",
       "  (2,4) => 325875.079078\n",
       "  (6,5) => 118577.044728\n",
       "  (8,4) => 68657.636628\n",
       "  (1,2) => 0.0\n",
       "  (5,1) => 37070.553042\n",
       "  (3,4) => 2.0e-6\n",
       "  (8,2) => 6.9e-5\n",
       "  (2,3) => 0.0\n",
       "  (2,6) => 0.0\n",
       "  (5,4) => 0.000265\n",
       "  (2,1) => 313908.350923\n",
       "  (2,5) => 0.0\n",
       "  (8,5) => 1.8e-5\n",
       "  (1,4) => 17298.036245\n",
       "  (2,8) => 0.0\n",
       "  (5,8) => 78721.24468\n",
       "  (4,8) => 124634.188241\n",
       "  (7,8) => 2.0e-6\n",
       "  (1,1) => 0.0\n",
       "  (7,7) => 0.0\n",
       "  (5,7) => 99150.358181\n",
       "  ⋮     => ⋮"
      ]
     },
     "execution_count": 124,
     "metadata": {},
     "output_type": "execute_result"
    }
   ],
   "source": [
    "demands"
   ]
  },
  {
   "cell_type": "code",
   "execution_count": 13,
   "metadata": {
    "collapsed": true
   },
   "outputs": [],
   "source": [
    "############\n",
    "#read in the arc files\n",
    "arcs = Dict{(Int, Int), Arc}()\n",
    "file = open(\"../data_original/SiouxFalls_net.txt\")\n",
    "inHeader=true\n",
    "for line in eachline(file)\n",
    "    if inHeader\n",
    "        inHeader = !contains(line, \"Init node\")\n",
    "        continue\n",
    "    end\n",
    "    vals = split(line, )\n",
    "    arcs[(int(vals[1]), int(vals[2]))] = Arc(int(vals[1]), int(vals[2]), float(vals[3]), float(vals[5]))\n",
    "end\n",
    "close(file)"
   ]
  },
  {
   "cell_type": "code",
   "execution_count": 14,
   "metadata": {
    "collapsed": false
   },
   "outputs": [
    {
     "data": {
      "text/plain": [
       "Dict{(Int64,Int64),Arc} with 76 entries:\n",
       "  (15,19) => Arc(15,19,14564.75315,3.0,0.0)\n",
       "  (20,21) => Arc(20,21,5059.91234,6.0,0.0)\n",
       "  (22,20) => Arc(22,20,5075.697193,5.0,0.0)\n",
       "  (23,22) => Arc(23,22,5000.0,4.0,0.0)\n",
       "  (10,11) => Arc(10,11,10000.0,5.0,0.0)\n",
       "  (8,9)   => Arc(8,9,5050.193156,10.0,0.0)\n",
       "  (13,12) => Arc(13,12,25900.20064,3.0,0.0)\n",
       "  (24,21) => Arc(24,21,4885.357564,3.0,0.0)\n",
       "  (3,1)   => Arc(3,1,23403.47319,4.0,0.0)\n",
       "  (19,17) => Arc(19,17,4823.950831,2.0,0.0)\n",
       "  (4,5)   => Arc(4,5,17782.7941,2.0,0.0)\n",
       "  (17,16) => Arc(17,16,5229.910063,2.0,0.0)\n",
       "  (20,22) => Arc(20,22,5075.697193,5.0,0.0)\n",
       "  (22,21) => Arc(22,21,5229.910063,2.0,0.0)\n",
       "  (18,16) => Arc(18,16,19679.89671,3.0,0.0)\n",
       "  (6,5)   => Arc(6,5,4947.995469,4.0,0.0)\n",
       "  (16,17) => Arc(16,17,5229.910063,2.0,0.0)\n",
       "  (22,15) => Arc(22,15,9599.180565,3.0,0.0)\n",
       "  (1,2)   => Arc(1,2,25900.20064,6.0,0.0)\n",
       "  (22,23) => Arc(22,23,5000.0,4.0,0.0)\n",
       "  (19,20) => Arc(19,20,5002.607563,4.0,0.0)\n",
       "  (9,8)   => Arc(9,8,5050.193156,10.0,0.0)\n",
       "  (11,12) => Arc(11,12,4908.82673,6.0,0.0)\n",
       "  (3,4)   => Arc(3,4,17110.52372,4.0,0.0)\n",
       "  (8,16)  => Arc(8,16,5045.822583,5.0,0.0)\n",
       "  ⋮       => ⋮"
      ]
     },
     "execution_count": 14,
     "metadata": {},
     "output_type": "execute_result"
    }
   ],
   "source": [
    "arcs"
   ]
  },
  {
   "cell_type": "code",
   "execution_count": 15,
   "metadata": {
    "collapsed": false
   },
   "outputs": [],
   "source": [
    "###########\n",
    "#read in the flows\n",
    "file = open(\"../data_original/SiouxFallsFlow.txt\")\n",
    "ix = 0; \n",
    "for line in eachline(file)\n",
    "    ix +=1\n",
    "    if ix ==1\n",
    "        continue\n",
    "    end\n",
    "    vals = split(line)\n",
    "    arcs[(int(vals[1]), int(vals[2]))].flow = float(vals[3])\n",
    "end\n",
    "close(file)"
   ]
  },
  {
   "cell_type": "code",
   "execution_count": 16,
   "metadata": {
    "collapsed": false
   },
   "outputs": [
    {
     "data": {
      "text/plain": [
       "Dict{(Int64,Int64),Arc} with 76 entries:\n",
       "  (15,19) => Arc(15,19,14564.75315,3.0,19083.289764747366)\n",
       "  (20,21) => Arc(20,21,5059.91234,6.0,6302.022874186994)\n",
       "  (22,20) => Arc(22,20,5075.697193,5.0,7000.0)\n",
       "  (23,22) => Arc(23,22,5000.0,4.0,9626.21020048335)\n",
       "  (10,11) => Arc(10,11,10000.0,5.0,17726.62503296105)\n",
       "  (8,9)   => Arc(8,9,5050.193156,10.0,6882.664912661778)\n",
       "  (13,12) => Arc(13,12,25900.20064,3.0,12378.642039980477)\n",
       "  (24,21) => Arc(24,21,4885.357564,3.0,10259.524716223794)\n",
       "  (3,1)   => Arc(3,1,23403.47319,4.0,8094.6576464564205)\n",
       "  (19,17) => Arc(19,17,4823.950831,2.0,9941.856797956832)\n",
       "  (4,5)   => Arc(4,5,17782.7941,2.0,18006.371019862527)\n",
       "  (17,16) => Arc(17,16,5229.910063,2.0,11683.838282439508)\n",
       "  (20,22) => Arc(20,22,5075.697193,5.0,7000.0)\n",
       "  (22,21) => Arc(22,21,5229.910063,2.0,8607.387929735014)\n",
       "  (18,16) => Arc(18,16,19679.89671,3.0,15333.406655753832)\n",
       "  (6,5)   => Arc(6,5,4947.995469,4.0,8806.498666814754)\n",
       "  (16,17) => Arc(16,17,5229.910063,2.0,11695.002916533696)\n",
       "  (22,15) => Arc(22,15,9599.180565,3.0,18386.47276399956)\n",
       "  (1,2)   => Arc(1,2,25900.20064,6.0,4494.6576464564205)\n",
       "  (22,23) => Arc(22,23,5000.0,4.0,9661.824231365848)\n",
       "  (19,20) => Arc(19,20,5002.607563,4.0,8688.367040494595)\n",
       "  (9,8)   => Arc(9,8,5050.193156,10.0,6836.705975294404)\n",
       "  (11,12) => Arc(11,12,4908.82673,6.0,8365.285653859217)\n",
       "  (3,4)   => Arc(3,4,17110.52372,4.0,14006.371019862527)\n",
       "  (8,16)  => Arc(8,16,5045.822583,5.0,8388.71306300359)\n",
       "  ⋮       => ⋮"
      ]
     },
     "execution_count": 16,
     "metadata": {},
     "output_type": "execute_result"
    }
   ],
   "source": [
    "arcs"
   ]
  },
  {
   "cell_type": "code",
   "execution_count": 106,
   "metadata": {
    "collapsed": false
   },
   "outputs": [],
   "source": [
    "using JSON\n",
    "\n",
    "link_day_minute_Jan_dict = readall(\"../temp_files/link_day_minute_Jan_dict_JSON.json\");\n",
    "link_day_minute_Jan_dict = replace(link_day_minute_Jan_dict, \"NaN\", 0);\n",
    "\n",
    "link_day_minute_Jan_dict = JSON.parse(link_day_minute_Jan_dict);"
   ]
  },
  {
   "cell_type": "code",
   "execution_count": 120,
   "metadata": {
    "collapsed": false
   },
   "outputs": [],
   "source": [
    "arcs = Dict{(Int, Int), Arc}()\n",
    "\n",
    "for i = 0:23\n",
    "    key = \"link_$(i)_2\"\n",
    "    initNode = link_day_minute_Jan_dict[key][\"init_node\"]\n",
    "    termNode = link_day_minute_Jan_dict[key][\"term_node\"]\n",
    "    capacity = link_day_minute_Jan_dict[key][\"AM_capac\"]\n",
    "    freeflowtime = link_day_minute_Jan_dict[key][\"free_flow_time\"]\n",
    "    flow = link_day_minute_Jan_dict[key][\"AM_flow\"]\n",
    "    arcs[(initNode, termNode)] = Arc(initNode, termNode, capacity, freeflowtime, flow)\n",
    "end"
   ]
  },
  {
   "cell_type": "code",
   "execution_count": 122,
   "metadata": {
    "collapsed": false
   },
   "outputs": [
    {
     "data": {
      "text/plain": [
       "Dict{(Int64,Int64),Arc} with 24 entries:\n",
       "  (3,6) => Arc(3,6,601000.0,10.104091401583059,379831.5916228187)\n",
       "  (2,3) => Arc(2,3,198000.0,6.245983825838077,162326.34944762234)\n",
       "  (5,6) => Arc(5,6,190375.0,7.596735314731068,167519.57644958748)\n",
       "  (5,4) => Arc(5,4,119750.0,10.879908330347215,102036.82640756408)\n",
       "  (2,1) => Arc(2,1,416000.0,14.345919651016688,352156.421136116)\n",
       "  (6,3) => Arc(6,3,487500.0,10.755524605163453,373726.3384993627)\n",
       "  (3,1) => Arc(3,1,802000.0,20.553379146316544,704789.1802015489)\n",
       "  (1,3) => Arc(1,3,757000.0,20.136411020613906,639708.0171496908)\n",
       "  (4,5) => Arc(4,5,114750.0,10.653322572942127,108742.78915578734)\n",
       "  (4,8) => Arc(4,8,255000.0,15.071063131308403,213541.75799692076)\n",
       "  (7,5) => Arc(7,5,407875.0,8.16675272101653,353095.2997458434)\n",
       "  (8,7) => Arc(8,7,165000.0,8.841103424391747,137706.0772939838)\n",
       "  (3,2) => Arc(3,2,263000.0,7.409576285430038,215869.79141888767)\n",
       "  (7,6) => Arc(7,6,645458.333328,11.056227551715708,538845.5437120654)\n",
       "  (2,4) => Arc(2,4,495000.0,23.62777840100562,406453.77659470506)\n",
       "  (7,8) => Arc(7,8,165000.0,8.602848723764868,142055.50987902808)\n",
       "  (6,5) => Arc(6,5,176000.0,7.5595227133229255,143915.8082369361)\n",
       "  (6,7) => Arc(6,7,630000.0,11.161346180133824,543521.9354981773)\n",
       "  (8,4) => Arc(8,4,255000.0,15.01931446303996,220740.16584456607)\n",
       "  (1,2) => Arc(1,2,400000.0,13.426132584676868,341653.31941747706)\n",
       "  (5,3) => Arc(5,3,467500.0,10.963455985189942,397393.0124606096)\n",
       "  (4,2) => Arc(4,2,495000.0,24.33883552711905,408235.4105116635)\n",
       "  (3,5) => Arc(3,5,456000.0,10.565070690841445,387936.03812848736)\n",
       "  (5,7) => Arc(5,7,442500.0,8.212552644244445,376470.8705083073)"
      ]
     },
     "execution_count": 122,
     "metadata": {},
     "output_type": "execute_result"
    }
   ],
   "source": [
    "arcs"
   ]
  },
  {
   "cell_type": "code",
   "execution_count": 125,
   "metadata": {
    "collapsed": false
   },
   "outputs": [],
   "source": [
    "##########\n",
    "# Set up demand data and flow data\n",
    "##########\n",
    "numData = 1; sigma = .0\n",
    "\n",
    "flow_data = Array(Float64, length(arcs), numData)\n",
    "\n",
    "demand_data = Dict{(Int, Int), Array{Float64, 1}}()\n",
    "\n",
    "numNodes = maximum(map(pair->pair[1], keys(demands)))\n",
    "g = simple_inclist(numNodes, is_directed=true)\n",
    "vArcs = Arc[]\n",
    "for arc in values(arcs)\n",
    "    add_edge!(g, arc.initNode, arc.termNode) \n",
    "    push!(vArcs, arc)\n",
    "end\n",
    "\n",
    "\n",
    "for iRun = 1:numData\n",
    "    for odpair in keys(demands)\n",
    "        if ! haskey(demand_data, odpair)\n",
    "            demand_data[odpair] = [demands[odpair], ]\n",
    "        else\n",
    "            push!(demand_data[odpair], demands[odpair])\n",
    "        end\n",
    "    end\n",
    "    \n",
    "    flow_data[:, iRun] = [a.flow::Float64 for a in vArcs]\n",
    "end"
   ]
  },
  {
   "cell_type": "code",
   "execution_count": 126,
   "metadata": {
    "collapsed": false
   },
   "outputs": [
    {
     "data": {
      "text/plain": [
       "train (generic function with 1 method)"
      ]
     },
     "execution_count": 126,
     "metadata": {},
     "output_type": "execute_result"
    }
   ],
   "source": [
    "##########\n",
    "#Fitting Funcs\n",
    "##########\n",
    "\n",
    "function train(indices, lam::Float64, deg::Int, c::Float64, demand_data, flow_data, arcs; fcoeffs=nothing)\n",
    "    numNodes = maximum(map(pair->pair[1], keys(arcs)))\n",
    "    m, coeffs, reg_term = setUpFitting(deg, c)\n",
    "    \n",
    "    addIncreasingCnsts(m, coeffs, arcs, TOL=1e-8)  #uses the original obs flows\n",
    "\n",
    "    avgCost = mean( [bpacost(a.flow, a.capacity, 1.0) for a in values(arcs)] )\n",
    "    normalize(m, coeffs, [a.flow / a.capacity for a in values(arcs)], avgCost)\n",
    "\n",
    "\n",
    "    resids = Variable[]\n",
    "    \n",
    "    for i = indices\n",
    "        #copy the flow data over to the arcs, demand data to demands (slow)\n",
    "        for (ix, a) in enumerate(vArcs)\n",
    "            a.flow = flow_data[ix, i]\n",
    "        end\n",
    "        for odpair in keys(demands)\n",
    "            demands[odpair] = demand_data[odpair][i]\n",
    "        end\n",
    "    \n",
    "        #Dual Feasibility\n",
    "        ys = addNetworkCnsts(m, coeffs, demands, arcs, numNodes)\n",
    "        \n",
    "        #add the residual for this data point\n",
    "        push!(resids, addResid(m, coeffs, ys, demands, arcs, 1e6))\n",
    "    end\n",
    "\n",
    "    if fcoeffs != nothing\n",
    "        fixCoeffs(m, fcoeffs, coeffs)\n",
    "    end\n",
    "    @setObjective(m, Min, sum{resids[i], i = 1:length(resids)} + lam*reg_term)\n",
    "    solve(m)\n",
    "    println(getObjectiveValue(m) - lam * getValue(reg_term) )\n",
    "    return [getValue(coeffs[i]) for i =1:length(coeffs)]\n",
    "end"
   ]
  },
  {
   "cell_type": "code",
   "execution_count": 127,
   "metadata": {
    "collapsed": false
   },
   "outputs": [
    {
     "data": {
      "text/plain": [
       "Dict{(Int64,Int64),Array{Float64,1}} with 64 entries:\n",
       "  (3,6) => [266530.167897]\n",
       "  (4,4) => [0.0]\n",
       "  (3,1) => [3.5e-5]\n",
       "  (4,5) => [0.0]\n",
       "  (2,4) => [325875.079078]\n",
       "  (6,5) => [118577.044728]\n",
       "  (8,4) => [68657.636628]\n",
       "  (1,2) => [0.0]\n",
       "  (5,1) => [37070.553042]\n",
       "  (3,4) => [2.0e-6]\n",
       "  (8,2) => [6.9e-5]\n",
       "  (2,3) => [0.0]\n",
       "  (2,6) => [0.0]\n",
       "  (5,4) => [0.000265]\n",
       "  (2,1) => [313908.350923]\n",
       "  (2,5) => [0.0]\n",
       "  (8,5) => [1.8e-5]\n",
       "  (1,4) => [17298.036245]\n",
       "  (2,8) => [0.0]\n",
       "  (5,8) => [78721.24468]\n",
       "  (4,8) => [124634.188241]\n",
       "  (7,8) => [2.0e-6]\n",
       "  (1,1) => [0.0]\n",
       "  (7,7) => [0.0]\n",
       "  (5,7) => [99150.358181]\n",
       "  ⋮     => ⋮"
      ]
     },
     "execution_count": 127,
     "metadata": {},
     "output_type": "execute_result"
    }
   ],
   "source": [
    "demand_data"
   ]
  },
  {
   "cell_type": "code",
   "execution_count": 156,
   "metadata": {
    "collapsed": false
   },
   "outputs": [
    {
     "name": "stdout",
     "output_type": "stream",
     "text": [
      "33.26722699680166\n",
      "33.2672406631939\n",
      "33.26721685884702\n",
      "33.267219588166476\n"
     ]
    },
    {
     "data": {
      "text/plain": [
       "7-element Array{Float64,1}:\n",
       "  1.041   \n",
       "  0.347816\n",
       " -1.19502 \n",
       "  1.87061 \n",
       " -1.34441 \n",
       "  0.317962\n",
       "  0.03825 "
      ]
     },
     "execution_count": 156,
     "metadata": {},
     "output_type": "execute_result"
    }
   ],
   "source": [
    "#include(\"trafficCval.jl\")\n",
    "\n",
    "arcs3 = arcs\n",
    "arcs4 = arcs\n",
    "arcs5 = arcs\n",
    "arcs6 = arcs\n",
    "coeffs_dict = Dict{(Int64,Float64,Float64),Array{Float64,1}}()\n",
    "\n",
    "# deg = 3\n",
    "deg = 3\n",
    "c = 10.\n",
    "lam = 1e-6\n",
    "\n",
    "fcoeffs3 = train(1:numData, lam, deg, c, demand_data, flow_data, arcs3)\n",
    "coeffs_dict[(deg, c, lam)] = fcoeffs3\n",
    "\n",
    "# deg = 4\n",
    "deg = 4\n",
    "c = 10.\n",
    "lam = 1e-6\n",
    "\n",
    "fcoeffs4 = train(1:numData, lam, deg, c, demand_data, flow_data, arcs4)\n",
    "coeffs_dict[(deg, c, lam)] = fcoeffs4\n",
    "\n",
    "# deg = 5\n",
    "deg = 5\n",
    "c = 10.\n",
    "lam = 1e-5\n",
    "\n",
    "fcoeffs5 = train(1:numData, lam, deg, c, demand_data, flow_data, arcs5)\n",
    "coeffs_dict[(deg, c, lam)] = fcoeffs5\n",
    "\n",
    "# deg = 6\n",
    "deg = 6\n",
    "c = 10.\n",
    "lam = 1e-3\n",
    "\n",
    "fcoeffs6 = train(1:numData, lam, deg, c, demand_data, flow_data, arcs6)\n",
    "coeffs_dict[(deg, c, lam)] = fcoeffs6"
   ]
  },
  {
   "cell_type": "code",
   "execution_count": 158,
   "metadata": {
    "collapsed": false
   },
   "outputs": [
    {
     "data": {
      "image/png": "[encoded data removed]",
      "text/plain": [
       "Figure(PyObject <matplotlib.figure.Figure object at 0x7ffaea156450>)"
      ]
     },
     "metadata": {},
     "output_type": "display_data"
    }
   ],
   "source": [
    "using PyPlot\n",
    "\n",
    "#true_coeffs = [1, 0, 0, 0, .15]\n",
    "fcoeffs3 = coeffs_dict[(3, 10., 1e-6)]\n",
    "fcoeffs4 = coeffs_dict[(4, 10., 1e-6)]\n",
    "fcoeffs5 = coeffs_dict[(5, 10., 1e-5)]\n",
    "fcoeffs6 = coeffs_dict[(6, 10., 1e-3)]\n",
    "\n",
    "xs = linspace(0, 2, 20)\n",
    "#ys_true = map(x->polyEval(true_coeffs, x), xs)\n",
    "ys3 = map(x->polyEval(fcoeffs3, x), xs)\n",
    "ys4 = map(x->polyEval(fcoeffs4, x), xs)\n",
    "ys5 = map(x->polyEval(fcoeffs5, x), xs)\n",
    "ys6 = map(x->polyEval(fcoeffs6, x), xs)\n",
    "\n",
    "# ys = map(x->polyEval(fcoeffs, x), xs)\n",
    "\n",
    "#plot(xs, ys_true, \"k\", label=\"True\")\n",
    "plot(xs, ys3, \"--r\", label=\"deg=3\")\n",
    "plot(xs, ys4, \"--g\", label=\"deg=4\")\n",
    "plot(xs, ys5, \"--b\", label=\"deg=5\")\n",
    "plot(xs, ys6, \"--m\", label=\"deg=6\")\n",
    "legend(loc=\"upper left\",fancybox=\"true\") \n",
    "# plot(xs, ys, \"--b\")\n",
    "grid(\"on\")\n",
    "xlim(-0.1, 2.1);\n",
    "ylim(0.5, 3.5);\n",
    "\n",
    "font1 = [\"family\"=>\"serif\",\n",
    "    \"color\"=>\"darkred\",\n",
    "    \"weight\"=>\"normal\",\n",
    "    \"size\"=>14]\n",
    "xlabel(\"Scaled Flow\", fontdict=font1)\n",
    "\n",
    "savefig(\"fitting.pdf\")"
   ]
  },
  {
   "cell_type": "code",
   "execution_count": null,
   "metadata": {
    "collapsed": true
   },
   "outputs": [],
   "source": []
  }
 ],
 "metadata": {
  "kernelspec": {
   "display_name": "Julia 0.3.7",
   "language": "julia",
   "name": "julia-0.3"
  },
  "language_info": {
   "file_extension": ".jl",
   "mimetype": "application/julia",
   "name": "julia",
   "version": "0.3.7"
  }
 },
 "nbformat": 4,
 "nbformat_minor": 0
}
