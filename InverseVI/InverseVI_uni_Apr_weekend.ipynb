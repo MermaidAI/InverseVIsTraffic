{
 "cells": [
  {
   "cell_type": "code",
   "execution_count": 2,
   "metadata": {
    "collapsed": false
   },
   "outputs": [
    {
     "data": {
      "text/plain": [
       "Arc (constructor with 3 methods)"
      ]
     },
     "execution_count": 2,
     "metadata": {},
     "output_type": "execute_result"
    }
   ],
   "source": [
    "#include(\"defArc.jl\")\n",
    "\n",
    "type Arc\n",
    "    initNode::Int \n",
    "    termNode::Int \n",
    "    capacity::Float64\n",
    "    freeflowtime::Float64\n",
    "    flow::Float64\n",
    "end\n",
    "\n",
    "Arc(initNode::Int, termNode::Int, capacity::Float64, freeflowtime::Float64) = \n",
    "    Arc(initNode, termNode, capacity, freeflowtime, 0.)"
   ]
  },
  {
   "cell_type": "code",
   "execution_count": 3,
   "metadata": {
    "collapsed": false
   },
   "outputs": [
    {
     "data": {
      "text/plain": [
       "bpacost (generic function with 3 methods)"
      ]
     },
     "execution_count": 3,
     "metadata": {},
     "output_type": "execute_result"
    }
   ],
   "source": [
    "#include(\"fitTraffic.jl\")\n",
    "\n",
    "## Solve an inverse tarffic problem over polynomials \n",
    "## of degree at most d\n",
    "## optionally use a regularizer from the poly kernel\n",
    "\n",
    "using JuMP\n",
    "using Gurobi\n",
    "using Graphs\n",
    "using Roots\n",
    "\n",
    "\n",
    "polyEval(coeffs, pt) = sum([coeffs[i] * pt^(i-1) for i = 1:length(coeffs)])  \n",
    "\n",
    "polyEval(coeffs::Array{Float64, 1}, pt) = sum([coeffs[i] * pt^(i-1) for i = 1:length(coeffs)]) \n",
    "\n",
    "bpacost(flow::Float64, capacity::Float64, freeflowtime::Float64) = freeflowtime*(1 + .15 * (flow/capacity)^4)\n",
    "bpacost(flow::Float64, arc) = bpacost(flow, arc.capacity, arc.freeflowtime)\n",
    "bpacost(arc::Arc) = bpacost(arc.flow, arc)"
   ]
  },
  {
   "cell_type": "code",
   "execution_count": 4,
   "metadata": {
    "collapsed": false
   },
   "outputs": [
    {
     "data": {
      "text/plain": [
       "setUpFitting (generic function with 1 method)"
      ]
     },
     "execution_count": 4,
     "metadata": {},
     "output_type": "execute_result"
    }
   ],
   "source": [
    "function setUpFitting(deg::Int, c::Float64)\n",
    "\n",
    "\tm = Model(solver=GurobiSolver(OutputFlag=false))\n",
    "    \n",
    "\t@defVar(m, coeffs[1:deg+1])\n",
    "\t@defVar(m, Calphas[1:deg+1])\n",
    "\n",
    "\t#build the graham matrix; cf. Ref. [21] (Regularization Networks and Support Vector Machines), page 47\n",
    "\tsamples = linspace(0, 1, deg + 1)\n",
    "\tk(x,y) = (c + x*y)^deg\n",
    "\tK = [ k(x,y) for x = samples, y=samples]\n",
    "\tK = convert(Array{Float64, 2}, K)\n",
    "\tassert(rank(K) == deg+1)\n",
    "    \n",
    "\tC = chol(K + 1e-6* eye(deg+1))\n",
    "\tfor i=1:deg + 1\n",
    "\t\t@addConstraint(m, polyEval(coeffs, samples[i]) == sum{C[j, i] * Calphas[j], j=1:deg+1})\n",
    "\tend\n",
    "    \n",
    "\t@defVar(m, reg_term >= 0)\n",
    "\treg_term_ = QuadExpr(Calphas[:], Calphas[:], ones(deg+1), AffExpr())\n",
    "    \n",
    "\t@addConstraint(m, reg_term >= reg_term_)\n",
    "    \n",
    "\treturn m, coeffs, reg_term\n",
    "\n",
    "end"
   ]
  },
  {
   "cell_type": "code",
   "execution_count": 5,
   "metadata": {
    "collapsed": false
   },
   "outputs": [
    {
     "data": {
      "text/plain": [
       "fixCoeffs (generic function with 1 method)"
      ]
     },
     "execution_count": 5,
     "metadata": {},
     "output_type": "execute_result"
    }
   ],
   "source": [
    "function fixCoeffs(m, fcoeffs, coeffs)\n",
    "\tfor (fc, c) in zip(fcoeffs, coeffs[:])\n",
    "\t\t@addConstraint(m, fc == c)\n",
    "\tend\n",
    "end"
   ]
  },
  {
   "cell_type": "code",
   "execution_count": 6,
   "metadata": {
    "collapsed": false
   },
   "outputs": [
    {
     "data": {
      "text/plain": [
       "addResid (generic function with 1 method)"
      ]
     },
     "execution_count": 6,
     "metadata": {},
     "output_type": "execute_result"
    }
   ],
   "source": [
    "function addResid(m, coeffs, ys, demands, arcs, scaling)\n",
    "\t@defVar(m, resid)\n",
    "\t@defVar(m, dual_cost)\n",
    "\t@defVar(m, primal_cost)\n",
    "\n",
    "\t@addConstraint(m, dual_cost == sum{demands[(s,t)] * (ys[(s,t), t] - ys[(s,t), s]), (s,t)=keys(demands)})  \n",
    "\t@addConstraint(m, primal_cost == sum{a.flow * a.freeflowtime * polyEval(coeffs, a.flow/a.capacity), a=values(arcs)})\n",
    "\n",
    "\t@addConstraint(m, resid >= (dual_cost - primal_cost) / scaling )\n",
    "\t@addConstraint(m, resid >= (primal_cost - dual_cost) / scaling )\n",
    "\treturn resid\n",
    "end"
   ]
  },
  {
   "cell_type": "code",
   "execution_count": 7,
   "metadata": {
    "collapsed": false
   },
   "outputs": [
    {
     "data": {
      "text/plain": [
       "addIncreasingCnsts (generic function with 1 method)"
      ]
     },
     "execution_count": 7,
     "metadata": {},
     "output_type": "execute_result"
    }
   ],
   "source": [
    "function addIncreasingCnsts(m, coeffs, arcs; TOL=0.)\n",
    "\tsorted_flows = sort([a.flow / a.capacity for a in values(arcs)])\n",
    "\t@addConstraint(m, polyEval(coeffs, 0) <= polyEval(coeffs, sorted_flows[1]))\n",
    "\tfor i = 2:length(sorted_flows)\n",
    "\t\t@addConstraint(m, polyEval(coeffs, sorted_flows[i-1]) <= polyEval(coeffs, sorted_flows[i]) + TOL)\n",
    "\tend\n",
    "end"
   ]
  },
  {
   "cell_type": "code",
   "execution_count": 8,
   "metadata": {
    "collapsed": false
   },
   "outputs": [
    {
     "data": {
      "text/plain": [
       "normalize (generic function with 3 methods)"
      ]
     },
     "execution_count": 8,
     "metadata": {},
     "output_type": "execute_result"
    }
   ],
   "source": [
    "#equates the total cost of the network to the true total cost\n",
    "function normalize(m, coeffs, tot_true_cost::Float64, arcs)\n",
    "\t@addConstraint(m, \n",
    "\t\tsum{a.freeflowtime * a.flow * polyEval(coeffs, a.flow / a.capacity), a=values(arcs)} == tot_true_cost)\n",
    "end\n",
    "\n",
    "function normalize(m, coeffs, scaled_flow::Float64, cost::Float64)\n",
    "\t@addConstraint(m, polyEval(coeffs, scaled_flow) == cost)\n",
    "end\n",
    "\n",
    "function normalize(m, coeffs, scaled_flows::Array{Float64, 1}, avgCost::Float64)\n",
    "    @addConstraint(m, sum{polyEval(coeffs, f), f=scaled_flows} == avgCost * length(scaled_flows))\n",
    "end"
   ]
  },
  {
   "cell_type": "code",
   "execution_count": 9,
   "metadata": {
    "collapsed": false
   },
   "outputs": [
    {
     "data": {
      "text/plain": [
       "addNetworkCnsts (generic function with 1 method)"
      ]
     },
     "execution_count": 9,
     "metadata": {},
     "output_type": "execute_result"
    }
   ],
   "source": [
    "function addNetworkCnsts(m, coeffs, demands, arcs, numNodes)\n",
    "\t@defVar(m, ys[keys(demands), 1:numNodes])\n",
    "\tfor k = keys(arcs)\n",
    "\t\ta = arcs[k]\n",
    "\t\trhs = a.freeflowtime * polyEval(coeffs, a.flow/a.capacity)\n",
    "\t\tfor od in keys(demands)\n",
    "\t\t\t@addConstraint(m, ys[od, k[2]] - ys[od, k[1]] <= rhs)\n",
    "\t\tend\n",
    "\tend\n",
    "\treturn ys\n",
    "end"
   ]
  },
  {
   "cell_type": "code",
   "execution_count": 10,
   "metadata": {
    "collapsed": false
   },
   "outputs": [],
   "source": [
    "############\n",
    "#Read in demand data\n",
    "file = open(\"../temp_files/OD_demand_matrix_Apr_weekend.txt\")\n",
    "demands = Dict{(Int64,Int64), Float64}()\n",
    "n = 8  # number of nodes\n",
    "for i in [1:n]\n",
    "    demands[(i,i)] = 0.0\n",
    "end\n",
    "for line in eachline(file)\n",
    "    OD_demand = split(line, \",\")\n",
    "    key, value = (int(OD_demand[1]),int(OD_demand[2])), float(split(OD_demand[3], \"\\n\")[1])\n",
    "    demands[key] = value\n",
    "end\n",
    "close(file)"
   ]
  },
  {
   "cell_type": "code",
   "execution_count": 11,
   "metadata": {
    "collapsed": false
   },
   "outputs": [
    {
     "data": {
      "text/plain": [
       "Dict{(Int64,Int64),Float64} with 64 entries:\n",
       "  (3,6) => 497.44432\n",
       "  (4,4) => 0.0\n",
       "  (3,1) => 1915.895466\n",
       "  (4,5) => 0.051761\n",
       "  (2,4) => 1218.194422\n",
       "  (6,5) => 0.116915\n",
       "  (8,4) => 1155.535764\n",
       "  (1,2) => 0.0\n",
       "  (5,1) => 0.031423\n",
       "  (3,4) => 142.564185\n",
       "  (8,2) => 2.0e-6\n",
       "  (2,3) => 0.0\n",
       "  (2,6) => 0.0\n",
       "  (5,4) => 0.061134\n",
       "  (2,1) => 759.807293\n",
       "  (2,5) => 0.0\n",
       "  (8,5) => 1221.975421\n",
       "  (1,4) => 0.0\n",
       "  (2,8) => 0.0\n",
       "  (5,8) => 173.253629\n",
       "  (4,8) => 1072.75666\n",
       "  (7,8) => 333.942788\n",
       "  (1,1) => 0.0\n",
       "  (7,7) => 0.0\n",
       "  (5,7) => 563.296602\n",
       "  ⋮     => ⋮"
      ]
     },
     "execution_count": 11,
     "metadata": {},
     "output_type": "execute_result"
    }
   ],
   "source": [
    "demands"
   ]
  },
  {
   "cell_type": "code",
   "execution_count": 12,
   "metadata": {
    "collapsed": false
   },
   "outputs": [],
   "source": [
    "using JSON\n",
    "\n",
    "link_day_minute_Apr_dict = readall(\"../temp_files/link_day_minute_Apr_dict_JSON.json\");\n",
    "link_day_minute_Apr_dict = replace(link_day_minute_Apr_dict, \"NaN\", 0);\n",
    "\n",
    "link_day_minute_Apr_dict = JSON.parse(link_day_minute_Apr_dict);"
   ]
  },
  {
   "cell_type": "code",
   "execution_count": 13,
   "metadata": {
    "collapsed": false
   },
   "outputs": [],
   "source": [
    "#weekend_Apr_list = [1, 7, 8, 14, 15, 21, 22, 28, 29]\n",
    "weekend_Apr_list = [1, 7, 8, 14, 15, 21, 22]\n",
    "\n",
    "arcs = Dict{(Int, Int), Arc}[]\n",
    "for j in weekend_Apr_list\n",
    "    arcs_ = Dict{(Int, Int), Arc}()\n",
    "    for i = 0:23\n",
    "        key = \"link_$(i)_$(j)\"\n",
    "        initNode = link_day_minute_Apr_dict[key][\"init_node\"]\n",
    "        termNode = link_day_minute_Apr_dict[key][\"term_node\"]\n",
    "        capacity = link_day_minute_Apr_dict[key][\"MD_capac\"]\n",
    "        freeflowtime = link_day_minute_Apr_dict[key][\"free_flow_time\"]\n",
    "        flow = link_day_minute_Apr_dict[key][\"MD_flow\"]\n",
    "        arcs_[(initNode, termNode)] = Arc(initNode, termNode, capacity, freeflowtime, flow)\n",
    "    end\n",
    "    push!(arcs, arcs_)\n",
    "end"
   ]
  },
  {
   "cell_type": "code",
   "execution_count": 14,
   "metadata": {
    "collapsed": false
   },
   "outputs": [
    {
     "data": {
      "text/plain": [
       "Dict{(Int64,Int64),Arc} with 24 entries:\n",
       "  (3,6) => Arc(3,6,3574.677506108397,0.16840152335971761,2624.457611272798)\n",
       "  (2,3) => Arc(2,3,3445.7904354771863,0.10409973043063461,2872.329429621661)\n",
       "  (5,6) => Arc(5,6,2815.1357381573403,0.12661225524551784,2301.182523471624)\n",
       "  (5,4) => Arc(5,4,3035.5186055894346,0.18133180550578695,2406.5329446119304)\n",
       "  (2,1) => Arc(2,1,2719.2412827124335,0.23909866085027826,2302.838308586251)\n",
       "  (6,3) => Arc(6,3,3089.932407794106,0.179258743419391,2429.994387652998)\n",
       "  (3,1) => Arc(3,1,3493.1208277859505,0.3425563191052758,2878.212149170533)\n",
       "  (1,3) => Arc(1,3,3448.115943727041,0.33560685034356513,2923.294265325369)\n",
       "  (4,5) => Arc(4,5,2732.4467906521004,0.1775553762157021,2211.978995320162)\n",
       "  (4,8) => Arc(4,8,2850.0000000000014,0.25118438552180683,2422.5277980222704)\n",
       "  (7,5) => Arc(7,5,3107.277068257584,0.1361125453502755,2560.4968134652167)\n",
       "  (8,7) => Arc(8,7,2850.0,0.14735172373986247,2333.4634963582807)\n",
       "  (3,2) => Arc(3,2,3268.429855192524,0.12349293809050062,2334.116732460134)\n",
       "  (7,6) => Arc(7,6,3066.7556904998564,0.18427045919526183,2640.731630455242)\n",
       "  (2,4) => Arc(2,4,2923.6781836474074,0.39379630668342713,2458.317829990129)\n",
       "  (7,8) => Arc(7,8,2850.000000000001,0.1433808120627478,2391.6563889338177)\n",
       "  (6,5) => Arc(6,5,2267.970034771647,0.12599204522204877,1792.2266570787708)\n",
       "  (6,7) => Arc(6,7,3183.5467243838248,0.18602243633556373,2693.395351159679)\n",
       "  (8,4) => Arc(8,4,2849.9999999999995,0.25032190771733265,2360.0507920359596)\n",
       "  (1,2) => Arc(1,2,2793.2715898351735,0.2237688764112811,2355.3654894013584)\n",
       "  (5,3) => Arc(5,3,3721.5009822278407,0.18272426641983242,3065.5348987164552)\n",
       "  (4,2) => Arc(4,2,2919.1640038798237,0.4056472587853176,2380.8554813610635)\n",
       "  (3,5) => Arc(3,5,3788.8361871231623,0.17608451151402413,3134.2255924629244)\n",
       "  (5,7) => Arc(5,7,3081.033912523371,0.1368758774040741,2635.454575536752)"
      ]
     },
     "execution_count": 14,
     "metadata": {},
     "output_type": "execute_result"
    }
   ],
   "source": [
    "arcs[1]"
   ]
  },
  {
   "cell_type": "code",
   "execution_count": 15,
   "metadata": {
    "collapsed": false
   },
   "outputs": [
    {
     "data": {
      "text/plain": [
       "Dict{(Int64,Int64),Arc} with 24 entries:\n",
       "  (3,6) => Arc(3,6,3574.677506108397,0.16840152335971761,2649.518637953321)\n",
       "  (2,3) => Arc(2,3,3445.7904354771863,0.10409973043063461,2859.0787543794177)\n",
       "  (5,6) => Arc(5,6,2815.1357381573403,0.12661225524551784,2403.841250881988)\n",
       "  (5,4) => Arc(5,4,3035.5186055894346,0.18133180550578695,2525.0605874914354)\n",
       "  (2,1) => Arc(2,1,2719.2412827124335,0.23909866085027826,2325.228516273607)\n",
       "  (6,3) => Arc(6,3,3089.932407794106,0.179258743419391,2355.696161747741)\n",
       "  (3,1) => Arc(3,1,3493.1208277859505,0.3425563191052758,2865.945387911519)\n",
       "  (1,3) => Arc(1,3,3448.115943727041,0.33560685034356513,2833.7136645779738)\n",
       "  (4,5) => Arc(4,5,2732.4467906521004,0.1775553762157021,2222.5576192535236)\n",
       "  (4,8) => Arc(4,8,2850.0000000000014,0.25118438552180683,2354.4868099922687)\n",
       "  (7,5) => Arc(7,5,3107.277068257584,0.1361125453502755,2568.229779675344)\n",
       "  (8,7) => Arc(8,7,2850.0,0.14735172373986247,2360.8558295586445)\n",
       "  (3,2) => Arc(3,2,3268.429855192524,0.12349293809050062,2668.719534269101)\n",
       "  (7,6) => Arc(7,6,3066.7556904998564,0.18427045919526183,2798.196697716922)\n",
       "  (2,4) => Arc(2,4,2923.6781836474074,0.39379630668342713,2389.6945874261583)\n",
       "  (7,8) => Arc(7,8,2850.000000000001,0.1433808120627478,2357.9150500392343)\n",
       "  (6,5) => Arc(6,5,2267.970034771647,0.12599204522204877,1888.852825383997)\n",
       "  (6,7) => Arc(6,7,3183.5467243838248,0.18602243633556373,2782.0391118469634)\n",
       "  (8,4) => Arc(8,4,2849.9999999999995,0.25032190771733265,2307.184192477113)\n",
       "  (1,2) => Arc(1,2,2793.2715898351735,0.2237688764112811,2395.899824438681)\n",
       "  (5,3) => Arc(5,3,3721.5009822278407,0.18272426641983242,3019.3393898122285)\n",
       "  (4,2) => Arc(4,2,2919.1640038798237,0.4056472587853176,2372.9653326390026)\n",
       "  (3,5) => Arc(3,5,3788.8361871231623,0.17608451151402413,3066.358029535783)\n",
       "  (5,7) => Arc(5,7,3081.033912523371,0.1368758774040741,2571.9961110964696)"
      ]
     },
     "execution_count": 15,
     "metadata": {},
     "output_type": "execute_result"
    }
   ],
   "source": [
    "arcs[2]"
   ]
  },
  {
   "cell_type": "code",
   "execution_count": 16,
   "metadata": {
    "collapsed": false
   },
   "outputs": [],
   "source": [
    "##########\n",
    "# Set up demand data and flow data\n",
    "##########\n",
    "numData = length(arcs); \n",
    "sigma = .0\n",
    "\n",
    "flow_data = Array(Float64, length(arcs[1]), numData)\n",
    "\n",
    "demand_data = Dict{(Int, Int), Array{Float64, 1}}()\n",
    "\n",
    "numNodes = maximum(map(pair->pair[1], keys(demands)))\n",
    "g = simple_inclist(numNodes, is_directed=true)\n",
    "vArcs = Arc[]\n",
    "for arc in values(arcs[1])\n",
    "    add_edge!(g, arc.initNode, arc.termNode) \n",
    "    push!(vArcs, arc)\n",
    "end\n",
    "\n",
    "\n",
    "for iRun = 1:numData\n",
    "    for odpair in keys(demands)\n",
    "        if ! haskey(demand_data, odpair)\n",
    "            demand_data[odpair] = [demands[odpair], ]\n",
    "        else\n",
    "            push!(demand_data[odpair], demands[odpair])\n",
    "        end\n",
    "    end\n",
    "\n",
    "    #flow_data[:, iRun] = [a.flow::Float64 for a in vArcs]\n",
    "    flow_data[:, iRun] = [a.flow::Float64 for a in values(arcs[iRun])]\n",
    "end"
   ]
  },
  {
   "cell_type": "code",
   "execution_count": 17,
   "metadata": {
    "collapsed": false
   },
   "outputs": [
    {
     "data": {
      "text/plain": [
       "Dict{(Int64,Int64),Array{Float64,1}} with 64 entries:\n",
       "  (3,6) => [497.44432,497.44432,497.44432,497.44432,497.44432,497.44432,497.444…\n",
       "  (4,4) => [0.0,0.0,0.0,0.0,0.0,0.0,0.0]\n",
       "  (3,1) => [1915.895466,1915.895466,1915.895466,1915.895466,1915.895466,1915.89…\n",
       "  (4,5) => [0.051761,0.051761,0.051761,0.051761,0.051761,0.051761,0.051761]\n",
       "  (2,4) => [1218.194422,1218.194422,1218.194422,1218.194422,1218.194422,1218.19…\n",
       "  (6,5) => [0.116915,0.116915,0.116915,0.116915,0.116915,0.116915,0.116915]\n",
       "  (8,4) => [1155.535764,1155.535764,1155.535764,1155.535764,1155.535764,1155.53…\n",
       "  (1,2) => [0.0,0.0,0.0,0.0,0.0,0.0,0.0]\n",
       "  (5,1) => [0.031423,0.031423,0.031423,0.031423,0.031423,0.031423,0.031423]\n",
       "  (3,4) => [142.564185,142.564185,142.564185,142.564185,142.564185,142.564185,1…\n",
       "  (8,2) => [2.0e-6,2.0e-6,2.0e-6,2.0e-6,2.0e-6,2.0e-6,2.0e-6]\n",
       "  (2,3) => [0.0,0.0,0.0,0.0,0.0,0.0,0.0]\n",
       "  (2,6) => [0.0,0.0,0.0,0.0,0.0,0.0,0.0]\n",
       "  (5,4) => [0.061134,0.061134,0.061134,0.061134,0.061134,0.061134,0.061134]\n",
       "  (2,1) => [759.807293,759.807293,759.807293,759.807293,759.807293,759.807293,7…\n",
       "  (2,5) => [0.0,0.0,0.0,0.0,0.0,0.0,0.0]\n",
       "  (8,5) => [1221.975421,1221.975421,1221.975421,1221.975421,1221.975421,1221.97…\n",
       "  (1,4) => [0.0,0.0,0.0,0.0,0.0,0.0,0.0]\n",
       "  (2,8) => [0.0,0.0,0.0,0.0,0.0,0.0,0.0]\n",
       "  (5,8) => [173.253629,173.253629,173.253629,173.253629,173.253629,173.253629,1…\n",
       "  (4,8) => [1072.75666,1072.75666,1072.75666,1072.75666,1072.75666,1072.75666,1…\n",
       "  (7,8) => [333.942788,333.942788,333.942788,333.942788,333.942788,333.942788,3…\n",
       "  (1,1) => [0.0,0.0,0.0,0.0,0.0,0.0,0.0]\n",
       "  (7,7) => [0.0,0.0,0.0,0.0,0.0,0.0,0.0]\n",
       "  (5,7) => [563.296602,563.296602,563.296602,563.296602,563.296602,563.296602,5…\n",
       "  ⋮     => ⋮"
      ]
     },
     "execution_count": 17,
     "metadata": {},
     "output_type": "execute_result"
    }
   ],
   "source": [
    "demand_data"
   ]
  },
  {
   "cell_type": "code",
   "execution_count": 18,
   "metadata": {
    "collapsed": false
   },
   "outputs": [
    {
     "data": {
      "text/plain": [
       "train (generic function with 1 method)"
      ]
     },
     "execution_count": 18,
     "metadata": {},
     "output_type": "execute_result"
    }
   ],
   "source": [
    "##########\n",
    "#Fitting Funcs\n",
    "##########\n",
    "\n",
    "function train(indices, lam::Float64, deg::Int, c::Float64, demand_data, flow_data, arcs; fcoeffs=nothing)\n",
    "    numNodes = maximum(map(pair->pair[1], keys(arcs)))\n",
    "    m, coeffs, reg_term = setUpFitting(deg, c)\n",
    "    \n",
    "    addIncreasingCnsts(m, coeffs, arcs, TOL=1e-8)  #uses the original obs flows\n",
    "\n",
    "    avgCost = mean( [bpacost(a.flow, a.capacity, 1.0) for a in values(arcs)] )\n",
    "    normalize(m, coeffs, [a.flow / a.capacity for a in values(arcs)], avgCost)\n",
    "\n",
    "\n",
    "    resids = Variable[]\n",
    "    \n",
    "    for i = indices\n",
    "        #copy the flow data over to the arcs, demand data to demands (slow)\n",
    "        for (ix, a) in enumerate(vArcs)\n",
    "            a.flow = flow_data[ix, i]\n",
    "        end\n",
    "        for odpair in keys(demands)\n",
    "            demands[odpair] = demand_data[odpair][i]\n",
    "        end\n",
    "    \n",
    "        #Dual Feasibility\n",
    "        ys = addNetworkCnsts(m, coeffs, demands, arcs, numNodes)\n",
    "        \n",
    "        #add the residual for this data point\n",
    "        push!(resids, addResid(m, coeffs, ys, demands, arcs, 1e6))\n",
    "    end\n",
    "\n",
    "    if fcoeffs != nothing\n",
    "        fixCoeffs(m, fcoeffs, coeffs)\n",
    "    end\n",
    "    @setObjective(m, Min, sum{resids[i], i = 1:length(resids)} + lam*reg_term)\n",
    "    solve(m)\n",
    "    println(getObjectiveValue(m) - lam * getValue(reg_term) )\n",
    "    return [getValue(coeffs[i]) for i =1:length(coeffs)]\n",
    "end"
   ]
  },
  {
   "cell_type": "code",
   "execution_count": 19,
   "metadata": {
    "collapsed": false
   },
   "outputs": [
    {
     "name": "stdout",
     "output_type": "stream",
     "text": [
      "0.04987995946422075\n",
      "0.049143977736321176\n",
      "0.049058960122565054\n",
      "0.04898054287619402\n"
     ]
    },
    {
     "data": {
      "text/plain": [
       "7-element Array{Float64,1}:\n",
       " 0.0455664\n",
       " 0.227197 \n",
       " 0.472774 \n",
       " 0.525527 \n",
       " 0.328951 \n",
       " 0.110061 \n",
       " 0.0153212"
      ]
     },
     "execution_count": 19,
     "metadata": {},
     "output_type": "execute_result"
    }
   ],
   "source": [
    "#include(\"trafficCval.jl\")\n",
    "\n",
    "arcs3 = arcs[1]\n",
    "arcs4 = arcs[1]\n",
    "arcs5 = arcs[1]\n",
    "arcs6 = arcs[1]\n",
    "coeffs_dict = Dict{(Int64,Float64,Float64),Array{Float64,1}}()\n",
    "\n",
    "# deg = 3\n",
    "deg = 3\n",
    "c = 1.\n",
    "lam = 1e3\n",
    "\n",
    "fcoeffs3 = train(1:numData, lam, deg, c, demand_data, flow_data, arcs3)\n",
    "coeffs_dict[(deg, c, lam)] = fcoeffs3\n",
    "\n",
    "# deg = 4\n",
    "deg = 4\n",
    "c = 1.\n",
    "lam = 1e3\n",
    "\n",
    "fcoeffs4 = train(1:numData, lam, deg, c, demand_data, flow_data, arcs4)\n",
    "coeffs_dict[(deg, c, lam)] = fcoeffs4\n",
    "\n",
    "# deg = 5\n",
    "deg = 5\n",
    "c = 1.\n",
    "lam = 1e3\n",
    "\n",
    "fcoeffs5 = train(1:numData, lam, deg, c, demand_data, flow_data, arcs5)\n",
    "coeffs_dict[(deg, c, lam)] = fcoeffs5\n",
    "\n",
    "# deg = 6\n",
    "deg = 6\n",
    "c = 1.\n",
    "lam = 1e3\n",
    "\n",
    "fcoeffs6 = train(1:numData, lam, deg, c, demand_data, flow_data, arcs6)\n",
    "coeffs_dict[(deg, c, lam)] = fcoeffs6"
   ]
  },
  {
   "cell_type": "code",
   "execution_count": 20,
   "metadata": {
    "collapsed": false
   },
   "outputs": [
    {
     "name": "stderr",
     "output_type": "stream",
     "text": [
      "INFO: Loading help data...\n"
     ]
    },
    {
     "data": {
      "image/png": "[encoded data removed]",
      "text/plain": [
       "Figure(PyObject <matplotlib.figure.Figure object at 0x7fa8f8e90710>)"
      ]
     },
     "metadata": {},
     "output_type": "display_data"
    }
   ],
   "source": [
    "using PyPlot\n",
    "\n",
    "#true_coeffs = [1, 0, 0, 0, .15]\n",
    "fcoeffs3 = coeffs_dict[(3, 1., 1e3)]\n",
    "fcoeffs4 = coeffs_dict[(4, 1., 1e3)]\n",
    "fcoeffs5 = coeffs_dict[(5, 1., 1e3)]\n",
    "fcoeffs6 = coeffs_dict[(6, 1., 1e3)]\n",
    "\n",
    "xs = linspace(0, 2, 20)\n",
    "#ys_true = map(x->polyEval(true_coeffs, x), xs)\n",
    "ys3 = map(x->polyEval(fcoeffs3, x), xs)\n",
    "ys4 = map(x->polyEval(fcoeffs4, x), xs)\n",
    "ys5 = map(x->polyEval(fcoeffs5, x), xs)\n",
    "ys6 = map(x->polyEval(fcoeffs6, x), xs)\n",
    "\n",
    "# ys = map(x->polyEval(fcoeffs, x), xs)\n",
    "\n",
    "#plot(xs, ys_true, \"k\", label=\"True\")\n",
    "plot(xs, ys3, \"^-c\", label=\"deg=3\")\n",
    "plot(xs, ys4, \"--m\", label=\"deg=4\")\n",
    "plot(xs, ys5, \"o-b\", label=\"deg=5\")\n",
    "plot(xs, ys6, \"s-r\", label=\"deg=6\")\n",
    "legend(loc=\"upper left\",fancybox=\"true\") \n",
    "# plot(xs, ys, \"--b\")\n",
    "grid(\"on\")\n",
    "xlim(-0.1, 2.0);\n",
    "ylim(0.0, 5.0);\n",
    "\n",
    "font1 = [\"family\"=>\"serif\",\n",
    "    \"color\"=>\"darkred\",\n",
    "    \"weight\"=>\"normal\",\n",
    "    \"size\"=>14]\n",
    "xlabel(\"Scaled Flow\", fontdict=font1)\n",
    "\n",
    "savefig(\"../temp_files/fitting_Apr_weekend.pdf\")"
   ]
  },
  {
   "cell_type": "code",
   "execution_count": 21,
   "metadata": {
    "collapsed": false
   },
   "outputs": [],
   "source": [
    "s = \"{\\\"fcoeffs3\\\": $(fcoeffs3), \\\"fcoeffs4\\\": $(fcoeffs4), \\\"fcoeffs5\\\": $(fcoeffs5), \\\"fcoeffs6\\\": $(fcoeffs6)}\"\n",
    "\n",
    "outfile = open(\"../temp_files/fcoeffs_Apr_weekend.json\", \"w\")\n",
    "\n",
    "JSON.print(outfile, s)\n",
    "\n",
    "close(outfile)"
   ]
  },
  {
   "cell_type": "code",
   "execution_count": 22,
   "metadata": {
    "collapsed": false
   },
   "outputs": [
    {
     "data": {
      "text/plain": [
       "Dict{String,Any} with 4 entries:\n",
       "  \"fcoeffs5\" => {0.07722846399817974,0.3208939731088294,0.5342352010435649,0.44…\n",
       "  \"fcoeffs3\" => {0.22830919268246866,0.5613065744381385,0.4608400393298347,0.12…\n",
       "  \"fcoeffs6\" => {0.04556643990720988,0.2271967100952837,0.472774076051054,0.525…\n",
       "  \"fcoeffs4\" => {0.1308433013211652,0.4349089494680161,0.5430113078603258,0.301…"
      ]
     },
     "execution_count": 22,
     "metadata": {},
     "output_type": "execute_result"
    }
   ],
   "source": [
    "fcoeffs_Apr_weekend = readall(\"../temp_files/fcoeffs_Apr_weekend.json\")\n",
    "fcoeffs_Apr_weekend = JSON.parse(JSON.parse(fcoeffs_Apr_weekend))"
   ]
  },
  {
   "cell_type": "code",
   "execution_count": 23,
   "metadata": {
    "collapsed": false
   },
   "outputs": [
    {
     "data": {
      "text/plain": [
       "4-element Array{Any,1}:\n",
       " 0.228309\n",
       " 0.561307\n",
       " 0.46084 \n",
       " 0.126329"
      ]
     },
     "execution_count": 23,
     "metadata": {},
     "output_type": "execute_result"
    }
   ],
   "source": [
    "fcoeffs_Apr_weekend[\"fcoeffs3\"]"
   ]
  },
  {
   "cell_type": "code",
   "execution_count": null,
   "metadata": {
    "collapsed": true
   },
   "outputs": [],
   "source": []
  }
 ],
 "metadata": {
  "kernelspec": {
   "display_name": "Julia 0.3.7",
   "language": "julia",
   "name": "julia-0.3"
  },
  "language_info": {
   "file_extension": ".jl",
   "mimetype": "application/julia",
   "name": "julia",
   "version": "0.3.7"
  }
 },
 "nbformat": 4,
 "nbformat_minor": 0
}
