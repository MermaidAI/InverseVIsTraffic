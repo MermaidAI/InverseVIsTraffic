{
 "cells": [
  {
   "cell_type": "code",
   "execution_count": 1,
   "metadata": {
    "collapsed": true
   },
   "outputs": [],
   "source": [
    "%run ../Python_files/util_data_storage_and_load.py"
   ]
  },
  {
   "cell_type": "code",
   "execution_count": 2,
   "metadata": {
    "collapsed": false
   },
   "outputs": [
    {
     "name": "stdout",
     "output_type": "stream",
     "text": [
      "No dicts found; please check load_dicts...\n"
     ]
    }
   ],
   "source": [
    "%run ../Python_files/util.py"
   ]
  },
  {
   "cell_type": "code",
   "execution_count": 3,
   "metadata": {
    "collapsed": true
   },
   "outputs": [],
   "source": [
    "link_day_Jul_dict = zload('../temp_files/link_day_Jul_dict.pkz')"
   ]
  },
  {
   "cell_type": "code",
   "execution_count": 19,
   "metadata": {
    "collapsed": true
   },
   "outputs": [],
   "source": [
    "link_label_dict = zload('../temp_files/link_label_dict.pkz')\n",
    "link_label_dict_ = zload('../temp_files/link_label_dict_.pkz')"
   ]
  },
  {
   "cell_type": "code",
   "execution_count": 4,
   "metadata": {
    "collapsed": false
   },
   "outputs": [],
   "source": [
    "# load the estimated g(.) function \n",
    "\n",
    "import json\n",
    "\n",
    "with open('../temp_files/fcoeffs_Jul_AM.json', 'r') as json_file:\n",
    "    fcoeffs_Jul_AM = json.load(json_file)"
   ]
  },
  {
   "cell_type": "code",
   "execution_count": 5,
   "metadata": {
    "collapsed": false
   },
   "outputs": [],
   "source": [
    "fcoeffs_Jul_AM = json.loads(fcoeffs_Jul_AM)"
   ]
  },
  {
   "cell_type": "code",
   "execution_count": 6,
   "metadata": {
    "collapsed": false
   },
   "outputs": [
    {
     "data": {
      "text/plain": [
       "[0.2001068346061103,\n",
       " 0.4485818998873834,\n",
       " -0.0812065959863796,\n",
       " -0.49498344542879935,\n",
       " -1.1072218824409872,\n",
       " 4.005678090559695,\n",
       " -3.55290577448624,\n",
       " 4.809515043530872,\n",
       " -2.3181627495215222,\n",
       " 0.49042518753418674]"
      ]
     },
     "execution_count": 6,
     "metadata": {},
     "output_type": "execute_result"
    }
   ],
   "source": [
    "fcoeffs_Jul_AM['fcoeffs9']"
   ]
  },
  {
   "cell_type": "code",
   "execution_count": 7,
   "metadata": {
    "collapsed": false
   },
   "outputs": [
    {
     "data": {
      "text/plain": [
       "[1, 2, 3, 4, 5, 6, 7, 8, 9]"
      ]
     },
     "execution_count": 7,
     "metadata": {},
     "output_type": "execute_result"
    }
   ],
   "source": [
    "range(10)[1:]"
   ]
  },
  {
   "cell_type": "code",
   "execution_count": 23,
   "metadata": {
    "collapsed": false
   },
   "outputs": [],
   "source": [
    "links_with_sensitivity_list = []\n",
    "\n",
    "for link_idx in range(24):\n",
    "    key = 'link_' + str(link_idx) + '_' + str(8)  # we take July 18 for sensitivity analysis\n",
    "    init_node = link_day_Jul_dict[key].init_node\n",
    "    term_node = link_day_Jul_dict[key].term_node\n",
    "    tmc_set = link_day_Jul_dict[key].tmc_set\n",
    "    AM_capac = link_day_Jul_dict[key].AM_capac\n",
    "    MD_capac = 0\n",
    "    PM_capac = 0\n",
    "    NT_capac = 0\n",
    "    free_flow_time = link_day_Jul_dict[key].free_flow_time\n",
    "    length = 0\n",
    "    AM_flow = link_day_Jul_dict[key].AM_flow\n",
    "    MD_flow = 0\n",
    "    PM_flow = 0\n",
    "    NT_flow = 0\n",
    "    fcoeffs = fcoeffs_Jul_AM['fcoeffs9']\n",
    "    links_with_sensitivity = Link_with_Sensitivity(init_node, term_node, tmc_set, AM_capac, MD_capac, \\\n",
    "                                                   PM_capac, NT_capac, free_flow_time, length, \\\n",
    "                                                   AM_flow, MD_flow, PM_flow, NT_flow, \\\n",
    "                                                   fcoeffs)\n",
    "    links_with_sensitivity_list.append(links_with_sensitivity)"
   ]
  },
  {
   "cell_type": "code",
   "execution_count": 32,
   "metadata": {
    "collapsed": false
   },
   "outputs": [],
   "source": [
    "sensi_dict = {}\n",
    "\n",
    "for i in range(24):\n",
    "    sensi_dict[str(i)] = [links_with_sensitivity_list[i].DV_Dc_0a(), links_with_sensitivity_list[i].DV_Dm_a()]\n",
    "    \n",
    "zdump(sensi_dict, '../temp_files/sensi_dict.pkz')"
   ]
  },
  {
   "cell_type": "code",
   "execution_count": 30,
   "metadata": {
    "collapsed": false
   },
   "outputs": [
    {
     "data": {
      "text/plain": [
       "{'0': [145936.05496480927, -8.331651469481109],\n",
       " '1': [145621.22230683616, -8.0039958298151834],\n",
       " '10': [115213.16480583891, -0.82986741153298993],\n",
       " '11': [104732.92089504475, -1.2965218210808322],\n",
       " '12': [38047.263414344365, -5.1403859369103708],\n",
       " '13': [37056.353431096184, -4.3209857368547526],\n",
       " '14': [63213.474614322266, -3.680097540574105],\n",
       " '15': [46354.234780075923, -1.8239006580834773],\n",
       " '16': [87047.894357953308, -7.8680899580451618],\n",
       " '17': [94454.193629275556, -9.6815888879167922],\n",
       " '18': [134436.56525316549, -3.0909524047384918],\n",
       " '19': [144531.96220073648, -4.7036507598915049],\n",
       " '2': [256860.23564493237, -10.344192411969466],\n",
       " '20': [206001.15309643687, -5.1830180183029633],\n",
       " '21': [196788.75721558847, -4.2045185358958905],\n",
       " '22': [58681.022874259652, -5.0015484455411237],\n",
       " '23': [60134.20180567338, -5.4715611243936948],\n",
       " '3': [272267.92989361938, -10.572836308272338],\n",
       " '4': [67722.015819158783, -3.2778311215271341],\n",
       " '5': [86292.021829506935, -3.4735296144162859],\n",
       " '6': [170480.27707779687, -12.629888085155869],\n",
       " '7': [166247.44115473877, -12.162068882106178],\n",
       " '8': [136552.40857201038, -3.8098374197555129],\n",
       " '9': [158403.02708165068, -5.610456022594394]}"
      ]
     },
     "execution_count": 30,
     "metadata": {},
     "output_type": "execute_result"
    }
   ],
   "source": [
    "sensi_dict"
   ]
  },
  {
   "cell_type": "code",
   "execution_count": 9,
   "metadata": {
    "collapsed": false
   },
   "outputs": [
    {
     "data": {
      "text/plain": [
       "[<__main__.Link_with_Sensitivity at 0x7f3ee6801890>,\n",
       " <__main__.Link_with_Sensitivity at 0x7f3ee6809690>,\n",
       " <__main__.Link_with_Sensitivity at 0x7f3ee68096d0>,\n",
       " <__main__.Link_with_Sensitivity at 0x7f3ee6809710>,\n",
       " <__main__.Link_with_Sensitivity at 0x7f3ee6809750>,\n",
       " <__main__.Link_with_Sensitivity at 0x7f3ee6809790>,\n",
       " <__main__.Link_with_Sensitivity at 0x7f3ee68097d0>,\n",
       " <__main__.Link_with_Sensitivity at 0x7f3ee6809810>,\n",
       " <__main__.Link_with_Sensitivity at 0x7f3ee6809850>,\n",
       " <__main__.Link_with_Sensitivity at 0x7f3ee6809890>,\n",
       " <__main__.Link_with_Sensitivity at 0x7f3ee68098d0>,\n",
       " <__main__.Link_with_Sensitivity at 0x7f3ee6809910>,\n",
       " <__main__.Link_with_Sensitivity at 0x7f3ee6809950>,\n",
       " <__main__.Link_with_Sensitivity at 0x7f3ee6809990>,\n",
       " <__main__.Link_with_Sensitivity at 0x7f3ee68099d0>,\n",
       " <__main__.Link_with_Sensitivity at 0x7f3ee6809a10>,\n",
       " <__main__.Link_with_Sensitivity at 0x7f3ee6809a50>,\n",
       " <__main__.Link_with_Sensitivity at 0x7f3ee6809a90>,\n",
       " <__main__.Link_with_Sensitivity at 0x7f3ee6809ad0>,\n",
       " <__main__.Link_with_Sensitivity at 0x7f3ee6809b10>,\n",
       " <__main__.Link_with_Sensitivity at 0x7f3ee6809b50>,\n",
       " <__main__.Link_with_Sensitivity at 0x7f3ee6809b90>,\n",
       " <__main__.Link_with_Sensitivity at 0x7f3ee6809bd0>,\n",
       " <__main__.Link_with_Sensitivity at 0x7f3ee6809c10>]"
      ]
     },
     "execution_count": 9,
     "metadata": {},
     "output_type": "execute_result"
    }
   ],
   "source": [
    "links_with_sensitivity_list"
   ]
  },
  {
   "cell_type": "code",
   "execution_count": 25,
   "metadata": {
    "collapsed": false
   },
   "outputs": [
    {
     "data": {
      "text/plain": [
       "8"
      ]
     },
     "execution_count": 25,
     "metadata": {},
     "output_type": "execute_result"
    }
   ],
   "source": [
    "links_with_sensitivity_list[23].init_node"
   ]
  },
  {
   "cell_type": "code",
   "execution_count": 22,
   "metadata": {
    "collapsed": false
   },
   "outputs": [
    {
     "data": {
      "text/plain": [
       "7"
      ]
     },
     "execution_count": 22,
     "metadata": {},
     "output_type": "execute_result"
    }
   ],
   "source": [
    "links_with_sensitivity_list[23].term_node"
   ]
  },
  {
   "cell_type": "code",
   "execution_count": 27,
   "metadata": {
    "collapsed": false
   },
   "outputs": [
    {
     "data": {
      "text/plain": [
       "145936.05496480927"
      ]
     },
     "execution_count": 27,
     "metadata": {},
     "output_type": "execute_result"
    }
   ],
   "source": [
    "links_with_sensitivity_list[0].DV_Dc_0a()"
   ]
  },
  {
   "cell_type": "code",
   "execution_count": 26,
   "metadata": {
    "collapsed": false
   },
   "outputs": [
    {
     "data": {
      "text/plain": [
       "-8.331651469481109"
      ]
     },
     "execution_count": 26,
     "metadata": {},
     "output_type": "execute_result"
    }
   ],
   "source": [
    "links_with_sensitivity_list[0].DV_Dm_a()"
   ]
  },
  {
   "cell_type": "code",
   "execution_count": 14,
   "metadata": {
    "collapsed": false
   },
   "outputs": [
    {
     "data": {
      "text/plain": [
       "331985.84054109972"
      ]
     },
     "execution_count": 14,
     "metadata": {},
     "output_type": "execute_result"
    }
   ],
   "source": [
    "links_with_sensitivity_list[0].AM_flow"
   ]
  },
  {
   "cell_type": "code",
   "execution_count": 15,
   "metadata": {
    "collapsed": false
   },
   "outputs": [
    {
     "data": {
      "text/plain": [
       "13.426132584676868"
      ]
     },
     "execution_count": 15,
     "metadata": {},
     "output_type": "execute_result"
    }
   ],
   "source": [
    "links_with_sensitivity_list[0].free_flow_time"
   ]
  },
  {
   "cell_type": "code",
   "execution_count": 16,
   "metadata": {
    "collapsed": false
   },
   "outputs": [
    {
     "data": {
      "text/plain": [
       "400000L"
      ]
     },
     "execution_count": 16,
     "metadata": {},
     "output_type": "execute_result"
    }
   ],
   "source": [
    "links_with_sensitivity_list[0].AM_capac"
   ]
  },
  {
   "cell_type": "code",
   "execution_count": 17,
   "metadata": {
    "collapsed": false
   },
   "outputs": [
    {
     "data": {
      "text/plain": [
       "[0.2001068346061103,\n",
       " 0.4485818998873834,\n",
       " -0.0812065959863796,\n",
       " -0.49498344542879935,\n",
       " -1.1072218824409872,\n",
       " 4.005678090559695,\n",
       " -3.55290577448624,\n",
       " 4.809515043530872,\n",
       " -2.3181627495215222,\n",
       " 0.49042518753418674]"
      ]
     },
     "execution_count": 17,
     "metadata": {},
     "output_type": "execute_result"
    }
   ],
   "source": [
    "links_with_sensitivity_list[0].fcoeffs"
   ]
  },
  {
   "cell_type": "code",
   "execution_count": 18,
   "metadata": {
    "collapsed": false
   },
   "outputs": [
    {
     "data": {
      "text/plain": [
       "24"
      ]
     },
     "execution_count": 18,
     "metadata": {},
     "output_type": "execute_result"
    }
   ],
   "source": [
    "len(links_with_sensitivity_list)"
   ]
  },
  {
   "cell_type": "code",
   "execution_count": null,
   "metadata": {
    "collapsed": true
   },
   "outputs": [],
   "source": []
  }
 ],
 "metadata": {
  "kernelspec": {
   "display_name": "Python 2",
   "language": "python",
   "name": "python2"
  },
  "language_info": {
   "codemirror_mode": {
    "name": "ipython",
    "version": 2
   },
   "file_extension": ".py",
   "mimetype": "text/x-python",
   "name": "python",
   "nbconvert_exporter": "python",
   "pygments_lexer": "ipython2",
   "version": "2.7.11"
  }
 },
 "nbformat": 4,
 "nbformat_minor": 0
}
