{
 "cells": [
  {
   "cell_type": "code",
   "execution_count": 1,
   "metadata": {
    "collapsed": false
   },
   "outputs": [],
   "source": [
    "# based on https://github.com/chkwon/TrafficAssignment.jl"
   ]
  },
  {
   "cell_type": "code",
   "execution_count": 2,
   "metadata": {
    "collapsed": false
   },
   "outputs": [
    {
     "data": {
      "text/plain": [
       "load_ta_network (generic function with 2 methods)"
      ]
     },
     "execution_count": 2,
     "metadata": {},
     "output_type": "execute_result"
    }
   ],
   "source": [
    "include(\"load_network.jl\")"
   ]
  },
  {
   "cell_type": "code",
   "execution_count": 3,
   "metadata": {
    "collapsed": false
   },
   "outputs": [
    {
     "data": {
      "text/plain": [
       "create_graph (generic function with 1 method)"
      ]
     },
     "execution_count": 3,
     "metadata": {},
     "output_type": "execute_result"
    }
   ],
   "source": [
    "using Graphs\n",
    "\n",
    "function create_graph(start_node, end_node)\n",
    "    @assert Base.length(start_node)==Base.length(end_node)\n",
    "\n",
    "    no_node = max(maximum(start_node), maximum(end_node))\n",
    "    no_arc = Base.length(start_node)\n",
    "\n",
    "    graph = simple_inclist(no_node)\n",
    "    for i=1:no_arc\n",
    "        add_edge!(graph, start_node[i], end_node[i])\n",
    "    end\n",
    "    return graph\n",
    "end"
   ]
  },
  {
   "cell_type": "code",
   "execution_count": 4,
   "metadata": {
    "collapsed": false
   },
   "outputs": [
    {
     "data": {
      "text/plain": [
       "get_vector (generic function with 1 method)"
      ]
     },
     "execution_count": 4,
     "metadata": {},
     "output_type": "execute_result"
    }
   ],
   "source": [
    "function get_vector(state, origin, destination, link_dic)\n",
    "    current = destination\n",
    "    parent = -1\n",
    "    x = zeros(Int, maximum(link_dic))\n",
    "\n",
    "    while parent != origin\n",
    "        parent = state.parents[current]\n",
    "\n",
    "        link_idx = link_dic[parent,current]\n",
    "\n",
    "        if link_idx != 0\n",
    "            x[link_idx] = 1\n",
    "        end\n",
    "\n",
    "        current = parent\n",
    "    end\n",
    "\n",
    "    return x\n",
    "end"
   ]
  },
  {
   "cell_type": "code",
   "execution_count": 5,
   "metadata": {
    "collapsed": false
   },
   "outputs": [
    {
     "data": {
      "text/plain": [
       "TA_Data(\"Sioux Falls simplified\",12,12,1,30,[1,1,2,2,3,3,3,4,4,4  …  9,9,9,10,10,11,11,11,12,12],[2,3,1,6,1,4,12,3,5,11  …  5,8,10,9,11,4,10,12,3,11],[25900.2,23403.5,25900.2,4958.18,23403.5,17110.5,23403.5,17110.5,17782.8,4908.83  …  10000.0,5050.19,13915.8,13915.8,10000.0,4908.83,10000.0,4908.83,23403.5,4908.83],[6.0,4.0,6.0,5.0,4.0,4.0,4.0,4.0,2.0,6.0  …  5.0,10.0,3.0,3.0,5.0,6.0,5.0,6.0,4.0,6.0],[6.0,4.0,6.0,5.0,4.0,4.0,4.0,4.0,2.0,6.0  …  5.0,10.0,3.0,3.0,5.0,6.0,5.0,6.0,4.0,6.0],[0.15,0.15,0.15,0.15,0.15,0.15,0.15,0.15,0.15,0.15  …  0.15,0.15,0.15,0.15,0.15,0.15,0.15,0.15,0.15,0.15],[4.0,4.0,4.0,4.0,4.0,4.0,4.0,4.0,4.0,4.0  …  4.0,4.0,4.0,4.0,4.0,4.0,4.0,4.0,4.0,4.0],[0.0,0.0,0.0,0.0,0.0,0.0,0.0,0.0,0.0,0.0  …  0.0,0.0,0.0,0.0,0.0,0.0,0.0,0.0,0.0,0.0],[0.0,0.0,0.0,0.0,0.0,0.0,0.0,0.0,0.0,0.0  …  0.0,0.0,0.0,0.0,0.0,0.0,0.0,0.0,0.0,0.0],[1,1,1,1,1,1,1,1,1,1  …  1,1,1,1,1,1,1,1,1,1],360600.0,12x12 Array{Float64,2}:\n",
       "    0.0  100.0  100.0   500.0   200.0  …   500.0  1300.0   500.0   200.0\n",
       "  100.0    0.0  100.0   200.0   100.0      200.0   600.0   200.0   100.0\n",
       "  100.0  100.0    0.0   200.0   100.0      100.0   300.0   300.0   200.0\n",
       "  500.0  200.0  200.0     0.0   500.0      700.0  1200.0  1400.0   600.0\n",
       "  200.0  100.0  100.0   500.0     0.0      800.0  1000.0   500.0   200.0\n",
       "  300.0  400.0  300.0   400.0   200.0  …   400.0   800.0   400.0   200.0\n",
       "  500.0  200.0  100.0   400.0   200.0      600.0  1900.0   500.0   700.0\n",
       "  800.0  400.0  200.0   700.0   500.0      800.0  1600.0   800.0   600.0\n",
       "  500.0  200.0  100.0   700.0   800.0        0.0  2800.0  1400.0   600.0\n",
       " 1300.0  600.0  300.0  1200.0  1000.0     2800.0     0.0  4000.0  2000.0\n",
       "  500.0  200.0  300.0  1500.0   500.0  …  1400.0  3900.0     0.0  1400.0\n",
       "  200.0  100.0  200.0   600.0   200.0      600.0  2000.0  1400.0     0.0,[(1,1),(1,2),(1,3),(1,4),(1,5),(1,6),(1,7),(1,8),(1,9),(1,10)  …  (12,3),(12,4),(12,5),(12,6),(12,7),(12,8),(12,9),(12,10),(12,11),(12,12)],0.0,0.0,4.23133528710744e6)"
      ]
     },
     "execution_count": 5,
     "metadata": {},
     "output_type": "execute_result"
    }
   ],
   "source": [
    "ta_data = load_ta_network(\"Sioux Falls simplified\")"
   ]
  },
  {
   "cell_type": "code",
   "execution_count": 6,
   "metadata": {
    "collapsed": false
   },
   "outputs": [
    {
     "data": {
      "text/plain": [
       "4.23133528710744e6"
      ]
     },
     "execution_count": 6,
     "metadata": {},
     "output_type": "execute_result"
    }
   ],
   "source": [
    "# unpacking data from ta_data\n",
    "network_name = ta_data.network_name\n",
    "\n",
    "number_of_zones = ta_data.number_of_zones\n",
    "number_of_nodes = ta_data.number_of_nodes\n",
    "first_thru_node = ta_data.first_thru_node\n",
    "number_of_links = ta_data.number_of_links\n",
    "\n",
    "start_node = ta_data.start_node\n",
    "end_node = ta_data.end_node\n",
    "capacity = ta_data.capacity\n",
    "link_length = ta_data.link_length\n",
    "\n",
    "free_flow_time = ta_data.free_flow_time\n",
    "B = ta_data.B\n",
    "power = ta_data.power\n",
    "speed_limit = ta_data.speed_limit\n",
    "toll = ta_data.toll\n",
    "link_type = ta_data.link_type\n",
    "number_of_zones = ta_data.number_of_zones\n",
    "total_od_flow = ta_data.total_od_flow\n",
    "travel_demand = ta_data.travel_demand\n",
    "od_pairs = ta_data.od_pairs\n",
    "\n",
    "toll_factor = ta_data.toll_factor\n",
    "distance_factor = ta_data.distance_factor\n",
    "\n",
    "best_objective = ta_data.best_objective"
   ]
  },
  {
   "cell_type": "code",
   "execution_count": 7,
   "metadata": {
    "collapsed": false
   },
   "outputs": [
    {
     "data": {
      "text/plain": [
       "12x12 sparse matrix with 30 Int64 entries:\n",
       "\t[2 ,  1]  =  3\n",
       "\t[3 ,  1]  =  5\n",
       "\t[1 ,  2]  =  1\n",
       "\t[6 ,  2]  =  14\n",
       "\t[1 ,  3]  =  2\n",
       "\t[4 ,  3]  =  8\n",
       "\t[12,  3]  =  29\n",
       "\t[3 ,  4]  =  6\n",
       "\t[5 ,  4]  =  11\n",
       "\t[11,  4]  =  26\n",
       "\t⋮\n",
       "\t[9 ,  8]  =  22\n",
       "\t[5 ,  9]  =  13\n",
       "\t[8 ,  9]  =  20\n",
       "\t[10,  9]  =  24\n",
       "\t[9 , 10]  =  23\n",
       "\t[11, 10]  =  27\n",
       "\t[4 , 11]  =  10\n",
       "\t[10, 11]  =  25\n",
       "\t[12, 11]  =  30\n",
       "\t[3 , 12]  =  7\n",
       "\t[11, 12]  =  28"
      ]
     },
     "execution_count": 7,
     "metadata": {},
     "output_type": "execute_result"
    }
   ],
   "source": [
    "# preparing a graph\n",
    "graph = create_graph(start_node, end_node)\n",
    "link_dic = sparse(start_node, end_node, 1:number_of_links)"
   ]
  },
  {
   "cell_type": "code",
   "execution_count": 8,
   "metadata": {
    "collapsed": false
   },
   "outputs": [
    {
     "data": {
      "text/plain": [
       "Directed Graph (12 vertices, 30 edges)"
      ]
     },
     "execution_count": 8,
     "metadata": {},
     "output_type": "execute_result"
    }
   ],
   "source": [
    "graph"
   ]
  },
  {
   "cell_type": "code",
   "execution_count": 9,
   "metadata": {
    "collapsed": false
   },
   "outputs": [
    {
     "data": {
      "text/plain": [
       "BPR (generic function with 1 method)"
      ]
     },
     "execution_count": 9,
     "metadata": {},
     "output_type": "execute_result"
    }
   ],
   "source": [
    "function BPR(x)\n",
    "    # travel_time = free_flow_time .* ( 1.0 + B .* (x./capacity).^power )\n",
    "    # generalized_cost = travel_time + toll_factor *toll + distance_factor * link_length\n",
    "    # return generalized_cost\n",
    "\n",
    "    bpr = similar(x)\n",
    "    for i=1:length(bpr)\n",
    "        bpr[i] = free_flow_time[i] * ( 1.0 + B[i] * (x[i]/capacity[i])^power[i] )\n",
    "        bpr[i] += toll_factor *toll[i] + distance_factor * link_length[i]\n",
    "    end\n",
    "    return bpr\n",
    "end"
   ]
  },
  {
   "cell_type": "code",
   "execution_count": 10,
   "metadata": {
    "collapsed": false
   },
   "outputs": [
    {
     "data": {
      "text/plain": [
       "all_or_nothing (generic function with 1 method)"
      ]
     },
     "execution_count": 10,
     "metadata": {},
     "output_type": "execute_result"
    }
   ],
   "source": [
    "function all_or_nothing(travel_time)\n",
    "    state = []\n",
    "    path = []\n",
    "    x = zeros(size(start_node))\n",
    "\n",
    "    for r=1:size(travel_demand)[1]\n",
    "        # for each origin node r, find shortest paths to all destination nodes\n",
    "        state = dijkstra_shortest_paths(graph, travel_time, r)\n",
    "\n",
    "        for s=1:size(travel_demand)[2]\n",
    "            # for each destination node s, find the shortest-path vector\n",
    "            # load travel demand\n",
    "            x = x + travel_demand[r,s] * get_vector(state, r, s, link_dic)\n",
    "        end\n",
    "    end\n",
    "\n",
    "    return x\n",
    "end"
   ]
  },
  {
   "cell_type": "code",
   "execution_count": 11,
   "metadata": {
    "collapsed": false
   },
   "outputs": [
    {
     "data": {
      "text/plain": [
       "30-element Array{Float64,1}:\n",
       "  1900.0\n",
       "  3500.0\n",
       "  1900.0\n",
       "  3900.0\n",
       "  3500.0\n",
       "  6100.0\n",
       "  3600.0\n",
       "  6100.0\n",
       " 11300.0\n",
       "  3800.0\n",
       " 11300.0\n",
       "  8700.0\n",
       "  7900.0\n",
       "     ⋮  \n",
       "  6500.0\n",
       "  4900.0\n",
       "  7900.0\n",
       "  4900.0\n",
       " 13500.0\n",
       " 13500.0\n",
       "  8000.0\n",
       "  3900.0\n",
       "  7900.0\n",
       "  4800.0\n",
       "  3600.0\n",
       "  4800.0"
      ]
     },
     "execution_count": 11,
     "metadata": {},
     "output_type": "execute_result"
    }
   ],
   "source": [
    "# Finding a starting feasible solution\n",
    "travel_time = BPR(zeros(number_of_links))\n",
    "xl = all_or_nothing(travel_time)"
   ]
  },
  {
   "cell_type": "code",
   "execution_count": 12,
   "metadata": {
    "collapsed": false
   },
   "outputs": [
    {
     "name": "stdout",
     "output_type": "stream",
     "text": [
      "l = 10000------------------------------------------------\n",
      "relative_gap is 2.7587705621363506e-6\n",
      "l = 20000------------------------------------------------\n",
      "relative_gap is 2.6840722964007145e-6\n",
      "l = 27578------------------------------------------------\n",
      "relative_gap is 9.999674366381705e-7\n"
     ]
    }
   ],
   "source": [
    "max_iter_no = 1e12\n",
    "l = 1\n",
    "#average_excess_cost = 1\n",
    "tol = 1e-6\n",
    "\n",
    "while l < max_iter_no\n",
    "    l += 1\n",
    "    \n",
    "    xl_old = xl\n",
    "    \n",
    "    # Finding yl\n",
    "    travel_time = BPR(xl)\n",
    "    \n",
    "    yl = all_or_nothing(travel_time)\n",
    "    \n",
    "    assert(yl != xl)\n",
    "    \n",
    "    xl = xl + (yl - xl)/l\n",
    "    \n",
    "    xl_new = xl\n",
    "    \n",
    "    relative_gap = norm(xl_new - xl_old, 1) / norm(xl_new, 1)\n",
    "\n",
    "    if l % 10000 == 0\n",
    "        print(\"l = $l------------------------------------------------\\n\")\n",
    "        print(\"relative_gap is $relative_gap\\n\")\n",
    "    end\n",
    "\n",
    "    if relative_gap < tol \n",
    "        print(\"l = $l------------------------------------------------\\n\")\n",
    "        print(\"relative_gap is $relative_gap\\n\")\n",
    "        break\n",
    "    end\n",
    "    \n",
    "end"
   ]
  },
  {
   "cell_type": "code",
   "execution_count": 13,
   "metadata": {
    "collapsed": false
   },
   "outputs": [],
   "source": [
    "outfile = open(\"./data_small_size/flows_converge_simplified.txt\", \"w\")\n",
    "\n",
    "write(outfile, join((\"From\", \"to\", \"Volume_Capacity\"), \"        \"), \"\\n\")\n",
    "\n",
    "for i = 1:length(ta_data.start_node)\n",
    "     n1, n2, n3 = ta_data.start_node[i], ta_data.end_node[i], xl[i]\n",
    "     write(outfile, join((n1, n2, n3), \"        \"), \"\\n\")\n",
    "end\n",
    "\n",
    "close(outfile)"
   ]
  },
  {
   "cell_type": "code",
   "execution_count": null,
   "metadata": {
    "collapsed": false
   },
   "outputs": [],
   "source": []
  }
 ],
 "metadata": {
  "kernelspec": {
   "display_name": "Julia 0.3.7",
   "language": "julia",
   "name": "julia-0.3"
  },
  "language_info": {
   "file_extension": ".jl",
   "mimetype": "application/julia",
   "name": "julia",
   "version": "0.3.7"
  }
 },
 "nbformat": 4,
 "nbformat_minor": 0
}
