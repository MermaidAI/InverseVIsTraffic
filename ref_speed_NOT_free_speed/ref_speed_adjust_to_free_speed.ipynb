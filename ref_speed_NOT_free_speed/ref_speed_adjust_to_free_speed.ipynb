{
 "cells": [
  {
   "cell_type": "code",
   "execution_count": 142,
   "metadata": {
    "collapsed": false
   },
   "outputs": [],
   "source": [
    "%run ../Python_files/util_data_storage_and_load.py\n",
    "%run ../Python_files/util.py\n",
    "%run ../Python_files/load_dicts.py"
   ]
  },
  {
   "cell_type": "code",
   "execution_count": 145,
   "metadata": {
    "collapsed": false
   },
   "outputs": [
    {
     "data": {
      "text/plain": [
       "['129P04282', '129P04298', '129P04299', '129P04296', '129P04297']"
      ]
     },
     "execution_count": 145,
     "metadata": {},
     "output_type": "execute_result"
    }
   ],
   "source": [
    "tmc_ref_speed_dict.keys()[0:5]"
   ]
  },
  {
   "cell_type": "code",
   "execution_count": 86,
   "metadata": {
    "collapsed": false
   },
   "outputs": [],
   "source": [
    "tmc_day_speed_dict_Jan_AM = zload('../temp_files/Jan_AM/tmc_day_speed_dict.pkz')\n",
    "tmc_day_speed_dict_Jan_MD = zload('../temp_files/Jan_MD/tmc_day_speed_dict.pkz')\n",
    "tmc_day_speed_dict_Jan_PM = zload('../temp_files/Jan_PM/tmc_day_speed_dict.pkz')\n",
    "tmc_day_speed_dict_Jan_NT = zload('../temp_files/Jan_NT/tmc_day_speed_dict.pkz')\n",
    "\n",
    "tmc_day_speed_dict_Apr_AM = zload('../temp_files/Apr_AM/tmc_day_speed_dict.pkz')\n",
    "tmc_day_speed_dict_Apr_MD = zload('../temp_files/Apr_MD/tmc_day_speed_dict.pkz')\n",
    "tmc_day_speed_dict_Apr_PM = zload('../temp_files/Apr_PM/tmc_day_speed_dict.pkz')\n",
    "tmc_day_speed_dict_Apr_NT = zload('../temp_files/Apr_NT/tmc_day_speed_dict.pkz')\n",
    "\n",
    "tmc_day_speed_dict_Jul_AM = zload('../temp_files/Jul_AM/tmc_day_speed_dict.pkz')\n",
    "tmc_day_speed_dict_Jul_MD = zload('../temp_files/Jul_MD/tmc_day_speed_dict.pkz')\n",
    "tmc_day_speed_dict_Jul_PM = zload('../temp_files/Jul_PM/tmc_day_speed_dict.pkz')\n",
    "tmc_day_speed_dict_Jul_NT = zload('../temp_files/Jul_NT/tmc_day_speed_dict.pkz')\n",
    "\n",
    "tmc_day_speed_dict_Oct_AM = zload('../temp_files/Oct_AM/tmc_day_speed_dict.pkz')\n",
    "tmc_day_speed_dict_Oct_MD = zload('../temp_files/Oct_MD/tmc_day_speed_dict.pkz')\n",
    "tmc_day_speed_dict_Oct_PM = zload('../temp_files/Oct_PM/tmc_day_speed_dict.pkz')\n",
    "tmc_day_speed_dict_Oct_NT = zload('../temp_files/Oct_NT/tmc_day_speed_dict.pkz')"
   ]
  },
  {
   "cell_type": "code",
   "execution_count": 87,
   "metadata": {
    "collapsed": false
   },
   "outputs": [],
   "source": [
    "tmc_speed_dict = {}\n",
    "\n",
    "for tmc in tmc_ref_speed_dict.keys():\n",
    "    speed_list = []\n",
    "    for day in range(32)[1:]:\n",
    "        key = tmc + str(day)\n",
    "        speed_list.append(tmc_day_speed_dict_Jan_AM[key].speed)\n",
    "        speed_list.append(tmc_day_speed_dict_Jan_MD[key].speed)\n",
    "        speed_list.append(tmc_day_speed_dict_Jan_PM[key].speed)\n",
    "        speed_list.append(tmc_day_speed_dict_Jan_NT[key].speed)   \n",
    "        speed_list.append(tmc_day_speed_dict_Jul_AM[key].speed)\n",
    "        speed_list.append(tmc_day_speed_dict_Jul_MD[key].speed)\n",
    "        speed_list.append(tmc_day_speed_dict_Jul_PM[key].speed)\n",
    "        speed_list.append(tmc_day_speed_dict_Jul_NT[key].speed)   \n",
    "        speed_list.append(tmc_day_speed_dict_Oct_AM[key].speed)\n",
    "        speed_list.append(tmc_day_speed_dict_Oct_MD[key].speed)\n",
    "        speed_list.append(tmc_day_speed_dict_Oct_PM[key].speed)\n",
    "        speed_list.append(tmc_day_speed_dict_Oct_NT[key].speed)   \n",
    "    for day in range(31)[1:]:\n",
    "        speed_list.append(tmc_day_speed_dict_Apr_AM[key].speed)\n",
    "        speed_list.append(tmc_day_speed_dict_Apr_MD[key].speed)\n",
    "        speed_list.append(tmc_day_speed_dict_Apr_PM[key].speed)\n",
    "        speed_list.append(tmc_day_speed_dict_Apr_NT[key].speed)  \n",
    "        \n",
    "    tmc_speed_dict[tmc] = speed_list"
   ]
  },
  {
   "cell_type": "code",
   "execution_count": 131,
   "metadata": {
    "collapsed": false
   },
   "outputs": [],
   "source": [
    "A = np.array(sum(tmc_speed_dict['129+04292'], []))\n",
    "A = A[~np.isnan(A)]  # delete 'nan' entries in A"
   ]
  },
  {
   "cell_type": "code",
   "execution_count": 138,
   "metadata": {
    "collapsed": false
   },
   "outputs": [
    {
     "data": {
      "text/plain": [
       "nan"
      ]
     },
     "execution_count": 138,
     "metadata": {},
     "output_type": "execute_result"
    }
   ],
   "source": [
    "import numpy as np\n",
    "\n",
    "np.percentile(sum(tmc_speed_dict['129+04292'], []), 85)"
   ]
  },
  {
   "cell_type": "code",
   "execution_count": 136,
   "metadata": {
    "collapsed": false
   },
   "outputs": [],
   "source": [
    "for tmc in tmc_ref_speed_dict.keys():\n",
    "    A = np.array(sum(tmc_speed_dict[tmc], []))\n",
    "    A = A[~np.isnan(A)]  # delete 'nan' entries in A\n",
    "    tmc_ref_speed_dict[tmc] = np.percentile(A, 85)"
   ]
  },
  {
   "cell_type": "code",
   "execution_count": 140,
   "metadata": {
    "collapsed": true
   },
   "outputs": [],
   "source": [
    "zdump(tmc_ref_speed_dict, '../temp_files/tmc_ref_speed_dict.pkz')"
   ]
  }
 ],
 "metadata": {
  "kernelspec": {
   "display_name": "Python 2",
   "language": "python",
   "name": "python2"
  },
  "language_info": {
   "codemirror_mode": {
    "name": "ipython",
    "version": 2
   },
   "file_extension": ".py",
   "mimetype": "text/x-python",
   "name": "python",
   "nbconvert_exporter": "python",
   "pygments_lexer": "ipython2",
   "version": "2.7.11"
  }
 },
 "nbformat": 4,
 "nbformat_minor": 0
}
