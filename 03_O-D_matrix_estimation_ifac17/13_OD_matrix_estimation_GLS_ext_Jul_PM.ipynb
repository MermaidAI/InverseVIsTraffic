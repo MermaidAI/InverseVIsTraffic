{
 "cells": [
  {
   "cell_type": "code",
   "execution_count": 1,
   "metadata": {
    "collapsed": true
   },
   "outputs": [],
   "source": [
    "%run ../Python_files/load_dicts.py\n",
    "%run ../Python_files/util.py"
   ]
  },
  {
   "cell_type": "code",
   "execution_count": 2,
   "metadata": {
    "collapsed": true
   },
   "outputs": [],
   "source": [
    "#!/usr/bin/env python\n",
    "__author__ = \"Jing Zhang\"\n",
    "__email__ = \"jingzbu@gmail.com\"\n",
    "__status__ = \"Development\"\n",
    "\n",
    "from util import *\n",
    "import numpy as np\n",
    "from numpy.linalg import inv, matrix_rank\n",
    "import json"
   ]
  },
  {
   "cell_type": "code",
   "execution_count": 3,
   "metadata": {
    "collapsed": true
   },
   "outputs": [],
   "source": [
    "# load logit_route_choice_probability_matrix\n",
    "P = zload('../temp_files/logit_route_choice_probability_matrix_ext.pkz')\n",
    "P = np.matrix(P)"
   ]
  },
  {
   "cell_type": "code",
   "execution_count": 4,
   "metadata": {
    "collapsed": false
   },
   "outputs": [
    {
     "name": "stdout",
     "output_type": "stream",
     "text": [
      "462\n"
     ]
    }
   ],
   "source": [
    "print(matrix_rank(P))"
   ]
  },
  {
   "cell_type": "code",
   "execution_count": 5,
   "metadata": {
    "collapsed": false
   },
   "outputs": [
    {
     "name": "stdout",
     "output_type": "stream",
     "text": [
      "The history saving thread hit an unexpected error (OperationalError('database is locked',)).History will not be written to the database.\n",
      "(462, 16028)\n"
     ]
    }
   ],
   "source": [
    "print(np.size(P,0), np.size(P,1))"
   ]
  },
  {
   "cell_type": "code",
   "execution_count": 6,
   "metadata": {
    "collapsed": true
   },
   "outputs": [],
   "source": [
    "# load path-link incidence matrix\n",
    "A = zload('../temp_files/path-link_incidence_matrix_ext.pkz')"
   ]
  },
  {
   "cell_type": "code",
   "execution_count": 7,
   "metadata": {
    "collapsed": true
   },
   "outputs": [],
   "source": [
    "# assert(1 == 2)\n",
    "\n",
    "# load link counts data\n",
    "with open('../temp_files/link_day_minute_Jul_dict_ext_JSON_insert_links_adjusted.json', 'r') as json_file:\n",
    "    link_day_minute_Jul_dict_ext_JSON = json.load(json_file)"
   ]
  },
  {
   "cell_type": "code",
   "execution_count": 8,
   "metadata": {
    "collapsed": true
   },
   "outputs": [],
   "source": [
    "week_day_Jul_list = [2, 3, 4, 5, 6, 9, 10, 11, 12, 13, 16, 22, 18, 19, 20, 23, 24, 25, 26, 27, 30, 31]\n",
    "# week_day_Jul_list = [2, 3, 4, 5, 6, 9]"
   ]
  },
  {
   "cell_type": "code",
   "execution_count": 9,
   "metadata": {
    "collapsed": true
   },
   "outputs": [],
   "source": [
    "link_day_minute_Jul_list = []\n",
    "for link_idx in range(74):\n",
    "    for day in week_day_Jul_list: \n",
    "        for minute_idx in range(120):\n",
    "            key = 'link_' + str(link_idx) + '_' + str(day)\n",
    "            link_day_minute_Jul_list.append(link_day_minute_Jul_dict_ext_JSON[key] ['PM_flow_minute'][minute_idx])"
   ]
  },
  {
   "cell_type": "code",
   "execution_count": 10,
   "metadata": {
    "collapsed": false
   },
   "outputs": [
    {
     "name": "stdout",
     "output_type": "stream",
     "text": [
      "195360\n"
     ]
    }
   ],
   "source": [
    "print(len(link_day_minute_Jul_list))"
   ]
  },
  {
   "cell_type": "code",
   "execution_count": 11,
   "metadata": {
    "collapsed": true
   },
   "outputs": [],
   "source": [
    "x = np.matrix(link_day_minute_Jul_list)\n",
    "x = np.matrix.reshape(x, 74, 2640)\n",
    "x[x < 1] = 200\n",
    "# x = np.nan_to_num(x)\n",
    "# y = np.array(np.transpose(x))\n",
    "# y = y[np.all(y != 0, axis=1)]\n",
    "# x = np.transpose(y)\n",
    "# x = np.matrix(x)"
   ]
  },
  {
   "cell_type": "code",
   "execution_count": 12,
   "metadata": {
    "collapsed": false
   },
   "outputs": [],
   "source": [
    "# print(np.size(x,0), np.size(x,1))\n",
    "# print(x[:,:2])\n",
    "# print(np.size(A,0), np.size(A,1))"
   ]
  },
  {
   "cell_type": "code",
   "execution_count": 13,
   "metadata": {
    "collapsed": true
   },
   "outputs": [],
   "source": [
    "# load node-link incidence matrix\n",
    "N = zload('../temp_files/node_link_incidence_MA_ext.pkz')"
   ]
  },
  {
   "cell_type": "code",
   "execution_count": 14,
   "metadata": {
    "collapsed": false
   },
   "outputs": [
    {
     "data": {
      "text/plain": [
       "(22, 74)"
      ]
     },
     "execution_count": 14,
     "metadata": {},
     "output_type": "execute_result"
    }
   ],
   "source": [
    "N.shape"
   ]
  },
  {
   "cell_type": "code",
   "execution_count": 15,
   "metadata": {
    "collapsed": true
   },
   "outputs": [],
   "source": [
    "n = 22  # number of nodes\n",
    "m = 74  # number of links"
   ]
  },
  {
   "cell_type": "code",
   "execution_count": 16,
   "metadata": {
    "collapsed": true
   },
   "outputs": [],
   "source": [
    "x_0 = [x[:,2][i, 0] for i in range(m)]"
   ]
  },
  {
   "cell_type": "code",
   "execution_count": 17,
   "metadata": {
    "collapsed": false
   },
   "outputs": [],
   "source": [
    "# x_0"
   ]
  },
  {
   "cell_type": "code",
   "execution_count": 18,
   "metadata": {
    "collapsed": true
   },
   "outputs": [],
   "source": [
    "OD_pair_label_dict = zload('../temp_files/OD_pair_label_dict_ext.pkz')"
   ]
  },
  {
   "cell_type": "code",
   "execution_count": 19,
   "metadata": {
    "collapsed": false
   },
   "outputs": [
    {
     "data": {
      "text/plain": [
       "462"
      ]
     },
     "execution_count": 19,
     "metadata": {},
     "output_type": "execute_result"
    }
   ],
   "source": [
    "len(OD_pair_label_dict)"
   ]
  },
  {
   "cell_type": "code",
   "execution_count": 20,
   "metadata": {
    "collapsed": true
   },
   "outputs": [],
   "source": [
    "L = 22 * (22 - 1)  # dimension of lam"
   ]
  },
  {
   "cell_type": "code",
   "execution_count": 21,
   "metadata": {
    "collapsed": false
   },
   "outputs": [],
   "source": [
    "# od pair correspondence\n",
    "OD_pair_label_dict_MA_small = zload('../temp_files/OD_pair_label_dict__MA.pkz')"
   ]
  },
  {
   "cell_type": "code",
   "execution_count": 22,
   "metadata": {
    "collapsed": true
   },
   "outputs": [],
   "source": [
    "# create a dictionary mapping nodes of small network to nodes of bigger network\n",
    "nodeToNode = {}\n",
    "\n",
    "nodeList = range(9)[1:]\n",
    "nodeListExt = [1, 4, 7, 12, 13, 14, 16, 17]\n",
    "for i in nodeList:\n",
    "    nodeToNode[str(i)] = nodeListExt[i-1]\n",
    "# nodeToNode['1'] = 1\n",
    "# nodeToNode['2']"
   ]
  },
  {
   "cell_type": "code",
   "execution_count": 23,
   "metadata": {
    "collapsed": false
   },
   "outputs": [
    {
     "data": {
      "text/plain": [
       "{'1': 1, '2': 4, '3': 7, '4': 12, '5': 13, '6': 14, '7': 16, '8': 17}"
      ]
     },
     "execution_count": 23,
     "metadata": {},
     "output_type": "execute_result"
    }
   ],
   "source": [
    "nodeToNode"
   ]
  },
  {
   "cell_type": "code",
   "execution_count": 24,
   "metadata": {
    "collapsed": false
   },
   "outputs": [],
   "source": [
    "odMap = {}\n",
    "for i in range(len(OD_pair_label_dict_MA_small)):\n",
    "    key = str(i)\n",
    "    origiSmall = OD_pair_label_dict_MA_small[key][0]\n",
    "    destiSmall = OD_pair_label_dict_MA_small[key][1]\n",
    "    origiExt = nodeToNode[str(origiSmall)]\n",
    "    destiExt = nodeToNode[str(destiSmall)]\n",
    "    odMap[key] = (origiExt, destiExt)"
   ]
  },
  {
   "cell_type": "code",
   "execution_count": 25,
   "metadata": {
    "collapsed": false
   },
   "outputs": [],
   "source": [
    "# odMap"
   ]
  },
  {
   "cell_type": "code",
   "execution_count": 26,
   "metadata": {
    "collapsed": false
   },
   "outputs": [],
   "source": [
    "odIdxExt = []  # OD pair idx in the extended network corresponding to the OD pairs in smaller network\n",
    "\n",
    "for i in range(len(odMap)):\n",
    "    odIdxExt.append(OD_pair_label_dict[str(odMap[str(i)])])"
   ]
  },
  {
   "cell_type": "code",
   "execution_count": 27,
   "metadata": {
    "collapsed": false
   },
   "outputs": [],
   "source": [
    "with open('../temp_files/OD_demand_matrix_Jul_weekday_PM.json', 'r') as json_file:\n",
    "    demandsSmall = json.load(json_file)"
   ]
  },
  {
   "cell_type": "code",
   "execution_count": 28,
   "metadata": {
    "collapsed": false
   },
   "outputs": [
    {
     "data": {
      "text/plain": [
       "{u'0': 594.9736030601648,\n",
       " u'1': 327.827937966349,\n",
       " u'10': 451.3434281401616,\n",
       " u'11': 582.1328031045414,\n",
       " u'12': 493.2282880864078,\n",
       " u'13': 189.3721886383283,\n",
       " u'14': 327.87607504757216,\n",
       " u'15': 400.93344859775203,\n",
       " u'16': 664.5578887327124,\n",
       " u'17': 1126.4531300342371,\n",
       " u'18': 1731.6669907565256,\n",
       " u'19': 894.2437454641436,\n",
       " u'2': 562.6512710152526,\n",
       " u'20': 316.2605191901717,\n",
       " u'21': 226.0249505123375,\n",
       " u'22': 246.49612879579587,\n",
       " u'23': 300.5736719466628,\n",
       " u'24': 296.28696435683,\n",
       " u'25': 413.83840624514625,\n",
       " u'26': 283.7776924990346,\n",
       " u'27': 163.07497536613047,\n",
       " u'28': 444.40014134098254,\n",
       " u'29': 481.7316926143537,\n",
       " u'3': 530.8260721479143,\n",
       " u'30': 703.6261669166732,\n",
       " u'31': 367.8552964284345,\n",
       " u'32': 775.2280558252141,\n",
       " u'33': 612.0364976303621,\n",
       " u'34': 281.73787377969984,\n",
       " u'35': 345.2967770126723,\n",
       " u'36': 468.9302576715929,\n",
       " u'37': 622.8767098192645,\n",
       " u'38': 545.7282526906412,\n",
       " u'39': 596.0418556659324,\n",
       " u'4': 569.332200203577,\n",
       " u'40': 1136.5912437135562,\n",
       " u'41': 272.15711337191055,\n",
       " u'42': 489.6896407628671,\n",
       " u'43': 537.5978238546171,\n",
       " u'44': 830.0711336380382,\n",
       " u'45': 495.5079283268417,\n",
       " u'46': 742.5729857237035,\n",
       " u'47': 2133.798907672113,\n",
       " u'48': 210.19598258643802,\n",
       " u'49': 291.91778376754127,\n",
       " u'5': 531.9946144511379,\n",
       " u'50': 312.6346889683158,\n",
       " u'51': 562.97527198706,\n",
       " u'52': 399.43067950103625,\n",
       " u'53': 439.91190917492906,\n",
       " u'54': 670.8338134314009,\n",
       " u'55': 198.39488580776788,\n",
       " u'6': 202.8857019383756,\n",
       " u'7': 311.2758838401276,\n",
       " u'8': 283.7247589799658,\n",
       " u'9': 633.4424943947041}"
      ]
     },
     "execution_count": 28,
     "metadata": {},
     "output_type": "execute_result"
    }
   ],
   "source": [
    "demandsSmall"
   ]
  },
  {
   "cell_type": "code",
   "execution_count": 29,
   "metadata": {
    "collapsed": false
   },
   "outputs": [
    {
     "name": "stdout",
     "output_type": "stream",
     "text": [
      "Optimize a model with 764 rows, 462 columns and 764 nonzeros\n",
      "Model has 106953 quadratic objective terms\n",
      "Coefficient statistics:\n",
      "  Matrix range    [1e+00, 1e+00]\n",
      "  Objective range [3e-02, 2e+06]\n",
      "  Bounds range    [0e+00, 0e+00]\n",
      "  RHS range       [1e+02, 3e+03]\n",
      "Presolve removed 764 rows and 190 columns\n",
      "Presolve time: 0.03s\n",
      "Presolved: 0 rows, 272 columns, 0 nonzeros\n",
      "Presolved model has 37128 quadratic objective terms\n",
      "Ordering time: 0.00s\n",
      "\n",
      "Barrier statistics:\n",
      " Free vars  : 271\n",
      " AA' NZ     : 3.658e+04\n",
      " Factor NZ  : 3.686e+04 (roughly 1 MByte of memory)\n",
      " Factor Ops : 6.671e+06 (less than 1 second per iteration)\n",
      " Threads    : 4\n",
      "\n",
      "                  Objective                Residual\n",
      "Iter       Primal          Dual         Primal    Dual     Compl     Time\n",
      "   0  -2.22444443e+07 -1.53368918e+07  1.90e+05 4.18e+02  3.75e+06     0s\n",
      "   1   1.21151741e+07 -2.56088860e+07  5.84e+04 2.96e+02  1.28e+06     0s\n",
      "   2   3.84811406e+07 -4.22392104e+07  1.49e+03 3.28e+00  2.76e+05     0s\n",
      "   3   1.04321561e+07 -7.19274710e+06  1.55e+02 3.40e-01  5.50e+04     0s\n",
      "   4   3.59389398e+06 -7.98138861e+05  1.55e-04 3.40e-07  1.34e+04     0s\n",
      "   5   1.63551737e+06  1.06213387e+06  1.68e-10 5.68e-13  1.75e+03     0s\n",
      "   6   1.32671805e+06  1.26155417e+06  9.29e-11 2.27e-13  1.99e+02     0s\n",
      "   7   1.29397576e+06  1.27986171e+06  1.68e-10 3.98e-13  4.30e+01     0s\n",
      "   8   1.28553234e+06  1.28517709e+06  1.26e-10 2.56e-13  1.08e+00     0s\n",
      "   9   1.28529303e+06  1.28528652e+06  1.03e-09 2.56e-13  1.98e-02     0s\n",
      "  10   1.28528822e+06  1.28528798e+06  9.14e-11 5.54e-13  7.42e-04     0s\n",
      "  11   1.28528800e+06  1.28528800e+06  7.37e-11 4.19e-13  1.19e-05     0s\n",
      "  12   1.28528800e+06  1.28528800e+06  4.27e-09 2.56e-13  1.18e-08     0s\n",
      "  13   1.28528800e+06  1.28528800e+06  9.31e-10 3.69e-13  1.19e-11     0s\n",
      "\n",
      "Barrier solved model in 13 iterations and 0.08 seconds\n",
      "Optimal objective 1.28528800e+06\n",
      "\n"
     ]
    }
   ],
   "source": [
    "# implement GLS method to estimate OD demand matrix\n",
    "def GLS_Jul(x, A, P, L):\n",
    "    \"\"\"\n",
    "    x: sample matrix, each column is a link flow vector sample; 24 * K\n",
    "    A: path-link incidence matrix\n",
    "    P: logit route choice probability matrix\n",
    "    L: dimension of lam\n",
    "    ----------------\n",
    "    return: lam\n",
    "    ----------------\n",
    "    \"\"\"\n",
    "    K = np.size(x, 1)\n",
    "    S = samp_cov(x)\n",
    "\n",
    "    #print(\"rank of S is: \\n\")\n",
    "    #print(matrix_rank(S))\n",
    "    #print(\"sizes of S are: \\n\")\n",
    "    #print(np.size(S, 0))\n",
    "    #print(np.size(S, 1))\n",
    "\n",
    "    inv_S = inv(S).real\n",
    "\n",
    "    A_t = np.transpose(A)\n",
    "    P_t = np.transpose(P)\n",
    "    # PA'\n",
    "    PA_t = np.dot(P, A_t)\n",
    "\n",
    "    #print(\"rank of PA_t is: \\n\")\n",
    "    #print(matrix_rank(PA_t))\n",
    "    #print(\"sizes of PA_t are: \\n\")\n",
    "    #print(np.size(PA_t, 0))\n",
    "    #print(np.size(PA_t, 1))\n",
    "\n",
    "    # AP_t\n",
    "    AP_t = np.transpose(PA_t)\n",
    "\n",
    "    Q_ = np.dot(np.dot(PA_t, inv_S), AP_t)\n",
    "    Q = adj_PSD(Q_).real  # Ensure Q to be PSD\n",
    "#     Q = Q_\n",
    "\n",
    "    #print(\"rank of Q is: \\n\")\n",
    "    #print(matrix_rank(Q))\n",
    "    #print(\"sizes of Q are: \\n\")\n",
    "    #print(np.size(Q, 0))\n",
    "    #print(np.size(Q, 1))\n",
    "\n",
    "    b = sum([np.dot(np.dot(PA_t, inv_S), x[:, k]) for k in range(K)])\n",
    "    # print(b[0])\n",
    "    # assert(1==2)\n",
    "\n",
    "    model = Model(\"OD_matrix_estimation\")\n",
    "\n",
    "    lam = []\n",
    "    for l in range(L):\n",
    "        lam.append(model.addVar(name='lam_' + str(l)))\n",
    "\n",
    "    model.update() \n",
    "\n",
    "    # Set objective: (K/2) lam' * Q * lam - b' * lam\n",
    "    obj = 0\n",
    "    for i in range(L):\n",
    "        for j in range(L):\n",
    "            obj += (1.0 / 2) * K * lam[i] * Q[i, j] * lam[j]\n",
    "    for l in range(L):\n",
    "        obj += - b[l] * lam[l]\n",
    "        \n",
    "    model.setObjective(obj)\n",
    "\n",
    "    # Add constraint: lam >= 0\n",
    "    for l in range(L):\n",
    "        model.addConstr(lam[l] >= 0)\n",
    "        #model.addConstr(lam[l] <= 5000)\n",
    "    fictitious_OD_list = zload('../temp_files/fictitious_OD_list')\n",
    "    for l in fictitious_OD_list:\n",
    "        model.addConstr(lam[l] == 0)\n",
    "        \n",
    "    for j in range(len(odMap)):\n",
    "        model.addConstr(lam[odIdxExt[j]] - demandsSmall[str(j)] <= 0.2 * demandsSmall[str(j)])\n",
    "        model.addConstr(demandsSmall[str(j)] - lam[odIdxExt[j]] <= 0.2 * demandsSmall[str(j)])\n",
    "\n",
    "#     x = {}\n",
    "#     for k in range(m):\n",
    "#         for i in range(n+1)[1:]:\n",
    "#             for j in range(n+1)[1:]:\n",
    "#                 if i != j:\n",
    "#                     key = str(k) + '->' + str(i) + '->' + str(j)\n",
    "#                     x[key] = model.addVar(name='x_' + key)\n",
    "\n",
    "#     model.update()   \n",
    "        \n",
    "#     for k in range(m):\n",
    "#         s = 0\n",
    "#         for i in range(n+1)[1:]:\n",
    "#             for j in range(n+1)[1:]:\n",
    "#                 if i != j:\n",
    "#                     key = str(k) + '->' + str(i) + '->' + str(j)\n",
    "#                     s += x[key]\n",
    "#                     model.addConstr(x[key] >= 0)\n",
    "#         model.addConstr(s - x_0[k] == 0)\n",
    "#         model.addConstr(x_0[k] - s == 0)\n",
    "\n",
    "#     for l in range(n):\n",
    "#         for i in range(n+1)[1:]:\n",
    "#             for j in range(n+1)[1:]:\n",
    "#                 if i != j:\n",
    "#                     key_ = str(i) + '->' + str(j)\n",
    "#                     key__ = '(' + str(i) + ', ' + str(j) + ')'\n",
    "#                     s = 0\n",
    "#                     for k in range(m):\n",
    "#                         key = str(k) + '->' + str(i) + '->' + str(j)\n",
    "#                         s += N[l, k] * x[key]      \n",
    "#                     if (l+1 == i):\n",
    "#                         model.addConstr(s + lam[OD_pair_label_dict[key__]] == 0)\n",
    "#                     elif (l+1 == j):\n",
    "#                         model.addConstr(s - lam[OD_pair_label_dict[key__]] == 0)\n",
    "#                     else:\n",
    "#                         model.addConstr(s == 0)\n",
    "\n",
    "    #                 if (i == 1 and j == 2):\n",
    "    #                     print(s)\n",
    "        \n",
    "        \n",
    "\n",
    "    model.update() \n",
    "\n",
    "#     model.setParam('OutputFlag', False)\n",
    "    model.optimize()\n",
    "\n",
    "    lam_list = []\n",
    "    for v in model.getVars():\n",
    "        # print('%s %g' % (v.varName, v.x))\n",
    "        lam_list.append(v.x)\n",
    "    # print('Obj: %g' % obj.getValue())\n",
    "    return lam_list\n",
    "\n",
    "lam_list = GLS_Jul(x, A, P, L)\n",
    "\n",
    "# write estimation result to file\n",
    "n = 22  # number of nodes\n",
    "with open('../temp_files/OD_demand_matrix_Jul_weekday_PM_ext.txt', 'w') as the_file:\n",
    "    idx = 0\n",
    "    for i in range(n + 1)[1:]:\n",
    "        for j in range(n + 1)[1:]:\n",
    "            if i != j: \n",
    "                the_file.write(\"%d,%d,%f\\n\" %(i, j, lam_list[idx]))\n",
    "                idx += 1"
   ]
  },
  {
   "cell_type": "code",
   "execution_count": null,
   "metadata": {
    "collapsed": true
   },
   "outputs": [],
   "source": []
  }
 ],
 "metadata": {
  "kernelspec": {
   "display_name": "Python 2",
   "language": "python",
   "name": "python2"
  },
  "language_info": {
   "codemirror_mode": {
    "name": "ipython",
    "version": 2
   },
   "file_extension": ".py",
   "mimetype": "text/x-python",
   "name": "python",
   "nbconvert_exporter": "python",
   "pygments_lexer": "ipython2",
   "version": "2.7.12"
  }
 },
 "nbformat": 4,
 "nbformat_minor": 0
}
