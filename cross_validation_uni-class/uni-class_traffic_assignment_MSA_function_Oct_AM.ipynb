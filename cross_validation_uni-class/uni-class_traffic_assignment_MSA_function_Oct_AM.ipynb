{
 "cells": [
  {
   "cell_type": "code",
   "execution_count": 1,
   "metadata": {
    "collapsed": false
   },
   "outputs": [],
   "source": [
    "# based on https://github.com/chkwon/TrafficAssignment.jl\n",
    "\n",
    "include(joinpath(\"/home/jzh/Dropbox/Research/\",\n",
    "\"Data-driven_estimation_inverse_optimization\", \n",
    "\"Experiments/InverseVIsTraffic/Julia_files/load_network_uni-class.jl\"))\n",
    "\n",
    "using Graphs\n",
    "\n",
    "function create_graph(start_node, end_node)\n",
    "    @assert Base.length(start_node)==Base.length(end_node)\n",
    "\n",
    "    no_node = max(maximum(start_node), maximum(end_node))\n",
    "    no_arc = Base.length(start_node)\n",
    "\n",
    "    graph = simple_inclist(no_node)\n",
    "    for i=1:no_arc\n",
    "        add_edge!(graph, start_node[i], end_node[i])\n",
    "    end\n",
    "    return graph\n",
    "end\n",
    "\n",
    "function get_vector(state, origin, destination, link_dic)\n",
    "    current = destination\n",
    "    parent = -1\n",
    "    x = zeros(Int, maximum(link_dic))\n",
    "\n",
    "    while parent != origin\n",
    "        parent = state.parents[current]\n",
    "\n",
    "        link_idx = link_dic[parent,current]\n",
    "\n",
    "        if link_idx != 0\n",
    "            x[link_idx] = 1\n",
    "        end\n",
    "\n",
    "        current = parent\n",
    "    end\n",
    "\n",
    "    return x\n",
    "end\n",
    "\n",
    "ta_data = load_ta_network(\"East_Massachusetts_Oct_AM\")\n",
    "\n",
    "# unpacking data from ta_data\n",
    "network_name = ta_data.network_name\n",
    "\n",
    "number_of_zones = ta_data.number_of_zones\n",
    "number_of_nodes = ta_data.number_of_nodes\n",
    "first_thru_node = ta_data.first_thru_node\n",
    "number_of_links = ta_data.number_of_links\n",
    "\n",
    "start_node = ta_data.start_node\n",
    "end_node = ta_data.end_node\n",
    "capacity = ta_data.capacity\n",
    "link_length = ta_data.link_length\n",
    "\n",
    "free_flow_time = ta_data.free_flow_time\n",
    "B = ta_data.B\n",
    "power = ta_data.power\n",
    "speed_limit = ta_data.speed_limit\n",
    "toll = ta_data.toll\n",
    "link_type = ta_data.link_type\n",
    "number_of_zones = ta_data.number_of_zones\n",
    "total_od_flow = ta_data.total_od_flow\n",
    "travel_demand = ta_data.travel_demand\n",
    "od_pairs = ta_data.od_pairs\n",
    "\n",
    "toll_factor = ta_data.toll_factor\n",
    "distance_factor = ta_data.distance_factor\n",
    "\n",
    "best_objective = ta_data.best_objective\n",
    "\n",
    "# preparing a graph\n",
    "graph = create_graph(start_node, end_node)\n",
    "link_dic = sparse(start_node, end_node, 1:number_of_links);"
   ]
  },
  {
   "cell_type": "code",
   "execution_count": 2,
   "metadata": {
    "collapsed": false
   },
   "outputs": [
    {
     "data": {
      "text/plain": [
       "MSA (generic function with 1 method)"
      ]
     },
     "execution_count": 2,
     "metadata": {},
     "output_type": "execute_result"
    }
   ],
   "source": [
    "function MSA(coeffs) \n",
    "    polyEval(coeffs, pt) = sum([coeffs[i] * pt^(i-1) for i = 1:length(coeffs)]) \n",
    "\n",
    "    function BPR(x)\n",
    "        bpr = similar(x)\n",
    "        for i=1:length(bpr)\n",
    "            bpr[i] = free_flow_time[i] * polyEval( coeffs, (x[i]/capacity[i]) ) \n",
    "        end\n",
    "        return bpr\n",
    "    end\n",
    "\n",
    "    function all_or_nothing(travel_time)\n",
    "        state = []\n",
    "        path = []\n",
    "        x = zeros(size(start_node))\n",
    "\n",
    "        for r=1:size(travel_demand)[1]\n",
    "            # for each origin node r, find shortest paths to all destination nodes\n",
    "            state = dijkstra_shortest_paths(graph, travel_time, r)\n",
    "\n",
    "            for s=1:size(travel_demand)[2]\n",
    "                # for each destination node s, find the shortest-path vector\n",
    "                # load travel demand\n",
    "                x = x + travel_demand[r,s] * get_vector(state, r, s, link_dic)\n",
    "            end\n",
    "        end\n",
    "\n",
    "        return x\n",
    "    end\n",
    "\n",
    "    # Finding a starting feasible solution\n",
    "    travel_time = BPR(zeros(number_of_links))\n",
    "    xl = all_or_nothing(travel_time)\n",
    "\n",
    "    max_iter_no = 1e3\n",
    "    l = 1\n",
    "    #average_excess_cost = 1\n",
    "    tol = 1e-5\n",
    "\n",
    "    while l < max_iter_no\n",
    "        l += 1\n",
    "\n",
    "        xl_old = xl\n",
    "\n",
    "        # Finding yl\n",
    "        travel_time = BPR(xl)\n",
    "\n",
    "        yl = all_or_nothing(travel_time)\n",
    "\n",
    "        xl = xl + (yl - xl)/l\n",
    "\n",
    "        xl_new = xl\n",
    "\n",
    "        relative_gap = norm(xl_new - xl_old, 1) / norm(xl_new, 1)\n",
    "\n",
    "        if relative_gap < tol\n",
    "            break\n",
    "        end\n",
    "    end\n",
    "    \n",
    "    return xl\n",
    "end"
   ]
  },
  {
   "cell_type": "code",
   "execution_count": 3,
   "metadata": {
    "collapsed": false
   },
   "outputs": [],
   "source": [
    "# getting the coefficients of the costs\n",
    "coeffs_dict_Oct_AM = readall(\"../temp_files/coeffs_dict_Oct_AM.json\")\n",
    "coeffs_dict_Oct_AM = JSON.parse(coeffs_dict_Oct_AM)\n",
    "\n",
    "xl = Dict{(Int64,Float64,Float64,Int64),Array{Float64,1}}()\n",
    "\n",
    "deg_grid = [4:8]\n",
    "c_grid = .5:.5:3.\n",
    "lamb_grid = [10. .^(-3:4)]\n",
    "\n",
    "for deg in deg_grid\n",
    "    for c in c_grid\n",
    "        for lam in lamb_grid\n",
    "            coeffs_1 = coeffs_dict_Oct_AM[\"($(deg),$(c),$(lam),1)\"]\n",
    "            coeffs_2 = coeffs_dict_Oct_AM[\"($(deg),$(c),$(lam),2)\"]\n",
    "            coeffs_3 = coeffs_dict_Oct_AM[\"($(deg),$(c),$(lam),3)\"]\n",
    "            xl[(deg, c, lam, 1)] = MSA(coeffs_1)\n",
    "            xl[(deg, c, lam, 2)] = MSA(coeffs_2)\n",
    "            xl[(deg, c, lam, 3)] = MSA(coeffs_3)\n",
    "        end\n",
    "    end\n",
    "end"
   ]
  },
  {
   "cell_type": "code",
   "execution_count": 4,
   "metadata": {
    "collapsed": false
   },
   "outputs": [
    {
     "data": {
      "text/plain": [
       "8-element Array{Float64,1}:\n",
       "     0.001\n",
       "     0.01 \n",
       "     0.1  \n",
       "     1.0  \n",
       "    10.0  \n",
       "   100.0  \n",
       "  1000.0  \n",
       " 10000.0  "
      ]
     },
     "execution_count": 4,
     "metadata": {},
     "output_type": "execute_result"
    }
   ],
   "source": [
    "lamb_grid"
   ]
  },
  {
   "cell_type": "code",
   "execution_count": 5,
   "metadata": {
    "collapsed": true
   },
   "outputs": [],
   "source": [
    "outfile = open(\"../temp_files/uni-class_traffic_assignment_MSA_flows_Oct_AM.json\", \"w\")\n",
    "\n",
    "JSON.print(outfile, xl)\n",
    "\n",
    "close(outfile)"
   ]
  },
  {
   "cell_type": "code",
   "execution_count": 6,
   "metadata": {
    "collapsed": false
   },
   "outputs": [
    {
     "data": {
      "text/plain": [
       "Dict{(Int64,Float64,Float64,Int64),Array{Float64,1}} with 720 entries:\n",
       "  (8,2.5,10.0,3)    => [2657.568208,774.710298,0.0,1780.3442270000003,2657.5682…\n",
       "  (4,1.0,0.01,2)    => [1411.1687184480002,774.710298,1246.399489552,1780.34422…\n",
       "  (4,3.0,0.001,1)   => [1987.8610195840006,774.710298,669.7071884160002,1780.34…\n",
       "  (8,2.0,1000.0,3)  => [1344.7295132479987,826.3402805829994,1312.8386947520014…\n",
       "  (6,1.5,0.1,1)     => [2657.568208,774.710298,0.0,1780.3442270000003,2657.5682…\n",
       "  (6,1.5,100.0,1)   => [1344.7295132479999,826.3402805829996,1312.8386947520003…\n",
       "  (4,2.0,1000.0,3)  => [1405.8535820319987,774.710298,1251.7146259680014,1780.3…\n",
       "  (5,2.5,10.0,1)    => [1389.9081727840007,774.710298,1267.6600352159994,1780.3…\n",
       "  (7,0.5,1.0,3)     => [1291.5781490879992,946.6289777310001,1365.990058912001,…\n",
       "  (5,0.5,100.0,2)   => [1312.838694752002,900.3400278290004,1344.729513247998,1…\n",
       "  (7,1.5,1.0,3)     => [2657.568208,774.710298,0.0,1780.3442270000003,2657.5682…\n",
       "  (4,0.5,0.01,1)    => [1355.35978608,808.5368383130005,1302.20842192,1746.5176…\n",
       "  (8,1.0,1000.0,2)  => [1302.2084219199996,919.9238143259998,1355.3597860800005…\n",
       "  (4,1.5,0.01,2)    => [2657.568208,774.710298,0.0,1780.3442270000003,2657.5682…\n",
       "  (8,0.5,1000.0,2)  => [1280.9478762560004,964.4324200010005,1376.6203317439997…\n",
       "  (8,2.5,100.0,3)   => [1400.538445616001,774.710298,1257.0297623839992,1780.34…\n",
       "  (5,1.0,0.1,1)     => [1360.6749224959988,794.2940844970001,1296.8932855040014…\n",
       "  (7,1.5,0.1,1)     => [2657.568208,774.710298,0.0,1780.3442270000003,2657.5682…\n",
       "  (4,1.0,10000.0,1) => [1360.674922496002,792.5137402700001,1296.8932855039982,…\n",
       "  (7,1.0,1000.0,2)  => [1312.8386947520016,898.559683602,1344.7295132479985,165…\n",
       "  (6,1.5,0.1,2)     => [2657.568208,774.710298,0.0,1780.3442270000003,2657.5682…\n",
       "  (7,3.0,0.1,3)     => [1902.8188369280003,774.710298,754.7493710719996,1780.34…\n",
       "  (4,3.0,10.0,3)    => [1427.1141276959988,774.710298,1230.4540803040013,1780.3…\n",
       "  (6,2.0,0.01,1)    => [1884.2158594719992,774.710298,773.3523485280001,1780.34…\n",
       "  (8,2.5,0.1,2)     => [2657.568208,2540.9693480199517,0.0,14.085176980046958,5…\n",
       "  ⋮                 => ⋮"
      ]
     },
     "execution_count": 6,
     "metadata": {},
     "output_type": "execute_result"
    }
   ],
   "source": [
    "xl"
   ]
  },
  {
   "cell_type": "code",
   "execution_count": 7,
   "metadata": {
    "collapsed": false
   },
   "outputs": [
    {
     "data": {
      "text/plain": [
       "24-element Array{Float64,1}:\n",
       "  2657.57      \n",
       "  2540.97      \n",
       "     0.0       \n",
       "    14.0852    \n",
       "    54.572     \n",
       " 12341.5       \n",
       " 12168.2       \n",
       "     3.89476   \n",
       "    25.5212    \n",
       " 15295.9       \n",
       "  3486.41      \n",
       "     1.40845e-8\n",
       "  7829.61      \n",
       "    26.0228    \n",
       "     5.81666   \n",
       "  2186.23      \n",
       "  4223.7       \n",
       "     8.72703   \n",
       "     8.08171   \n",
       "  5017.99      \n",
       "  1704.65      \n",
       "  1224.54      \n",
       "  1241.39      \n",
       "  5533.93      "
      ]
     },
     "execution_count": 7,
     "metadata": {},
     "output_type": "execute_result"
    }
   ],
   "source": [
    "xl[(8,2.5,0.1,2)]"
   ]
  },
  {
   "cell_type": "code",
   "execution_count": null,
   "metadata": {
    "collapsed": true
   },
   "outputs": [],
   "source": []
  }
 ],
 "metadata": {
  "kernelspec": {
   "display_name": "Julia 0.3.7",
   "language": "julia",
   "name": "julia-0.3"
  },
  "language_info": {
   "file_extension": ".jl",
   "mimetype": "application/julia",
   "name": "julia",
   "version": "0.3.7"
  }
 },
 "nbformat": 4,
 "nbformat_minor": 0
}
