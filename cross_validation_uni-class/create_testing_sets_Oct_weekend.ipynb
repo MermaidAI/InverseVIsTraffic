{
 "cells": [
  {
   "cell_type": "code",
   "execution_count": 1,
   "metadata": {
    "collapsed": true
   },
   "outputs": [],
   "source": [
    "%run ../Python_files/util_data_storage_and_load.py"
   ]
  },
  {
   "cell_type": "code",
   "execution_count": 2,
   "metadata": {
    "collapsed": true
   },
   "outputs": [],
   "source": [
    "%run ../Python_files/load_dicts.py"
   ]
  },
  {
   "cell_type": "code",
   "execution_count": 3,
   "metadata": {
    "collapsed": false
   },
   "outputs": [],
   "source": [
    "%run ../Python_files/util.py"
   ]
  },
  {
   "cell_type": "code",
   "execution_count": 4,
   "metadata": {
    "collapsed": false
   },
   "outputs": [],
   "source": [
    "import numpy as np\n",
    "from numpy.linalg import inv"
   ]
  },
  {
   "cell_type": "code",
   "execution_count": 5,
   "metadata": {
    "collapsed": false
   },
   "outputs": [],
   "source": [
    "# load link flow data\n",
    "\n",
    "import json\n",
    "\n",
    "with open('../temp_files/link_day_minute_Oct_dict_JSON.json', 'r') as json_file:\n",
    "    link_day_minute_Oct_dict_JSON = json.load(json_file)"
   ]
  },
  {
   "cell_type": "code",
   "execution_count": 6,
   "metadata": {
    "collapsed": true
   },
   "outputs": [],
   "source": [
    "# weekend_Oct_list = [6, 7, 13, 14, 20, 21, 27, 28]\n",
    "\n",
    "# testing set 1\n",
    "weekend_Oct_list_1 = [27, 28]\n",
    "\n",
    "# testing set 2\n",
    "weekend_Oct_list_2 = [6, 7]\n",
    "\n",
    "# testing set 3\n",
    "weekend_Oct_list_3 = [14, 20]"
   ]
  },
  {
   "cell_type": "code",
   "execution_count": 7,
   "metadata": {
    "collapsed": false
   },
   "outputs": [],
   "source": [
    "link_flow_testing_set_Oct_weekend_1 = []\n",
    "for link_idx in range(24):\n",
    "    for day in weekend_Oct_list_1: \n",
    "            key = 'link_' + str(link_idx) + '_' + str(day)\n",
    "            link_flow_testing_set_Oct_weekend_1.append(link_day_minute_Oct_dict_JSON[key] [\"MD_flow\"])\n",
    "            \n",
    "link_flow_testing_set_Oct_weekend_2 = []\n",
    "for link_idx in range(24):\n",
    "    for day in weekend_Oct_list_2: \n",
    "            key = 'link_' + str(link_idx) + '_' + str(day)\n",
    "            link_flow_testing_set_Oct_weekend_2.append(link_day_minute_Oct_dict_JSON[key] [\"MD_flow\"])\n",
    "            \n",
    "link_flow_testing_set_Oct_weekend_3 = []\n",
    "for link_idx in range(24):\n",
    "    for day in weekend_Oct_list_3: \n",
    "            key = 'link_' + str(link_idx) + '_' + str(day)\n",
    "            link_flow_testing_set_Oct_weekend_3.append(link_day_minute_Oct_dict_JSON[key] [\"MD_flow\"])"
   ]
  },
  {
   "cell_type": "code",
   "execution_count": 9,
   "metadata": {
    "collapsed": false
   },
   "outputs": [],
   "source": [
    "testing_set_1 = np.matrix(link_flow_testing_set_Oct_weekend_1)\n",
    "testing_set_1 = np.matrix.reshape(testing_set_1, 24, 2)\n",
    "testing_set_1 = np.nan_to_num(testing_set_1)\n",
    "y = np.array(np.transpose(testing_set_1))\n",
    "y = y[np.all(y != 0, axis=1)]\n",
    "testing_set_1 = np.transpose(y)\n",
    "testing_set_1 = np.matrix(testing_set_1)\n",
    "\n",
    "testing_set_2 = np.matrix(link_flow_testing_set_Oct_weekend_2)\n",
    "testing_set_2 = np.matrix.reshape(testing_set_2, 24, 2)\n",
    "testing_set_2 = np.nan_to_num(testing_set_2)\n",
    "y = np.array(np.transpose(testing_set_2))\n",
    "y = y[np.all(y != 0, axis=1)]\n",
    "testing_set_2 = np.transpose(y)\n",
    "testing_set_2 = np.matrix(testing_set_2)\n",
    "\n",
    "testing_set_3 = np.matrix(link_flow_testing_set_Oct_weekend_3)\n",
    "testing_set_3 = np.matrix.reshape(testing_set_3, 24, 2)\n",
    "testing_set_3 = np.nan_to_num(testing_set_3)\n",
    "y = np.array(np.transpose(testing_set_3))\n",
    "y = y[np.all(y != 0, axis=1)]\n",
    "testing_set_3 = np.transpose(y)\n",
    "testing_set_3 = np.matrix(testing_set_3)"
   ]
  },
  {
   "cell_type": "code",
   "execution_count": 10,
   "metadata": {
    "collapsed": false
   },
   "outputs": [
    {
     "data": {
      "text/plain": [
       "(24, 2)"
      ]
     },
     "execution_count": 10,
     "metadata": {},
     "output_type": "execute_result"
    }
   ],
   "source": [
    "np.size(testing_set_2, 0), np.size(testing_set_3, 1)"
   ]
  },
  {
   "cell_type": "code",
   "execution_count": 11,
   "metadata": {
    "collapsed": false
   },
   "outputs": [
    {
     "data": {
      "text/plain": [
       "matrix([[ 2298.34067183],\n",
       "        [ 2282.7235323 ],\n",
       "        [ 2826.32678654],\n",
       "        [ 2935.97020028],\n",
       "        [ 2833.1705868 ],\n",
       "        [ 2764.99747789],\n",
       "        [ 2348.03928923],\n",
       "        [ 2429.57094683],\n",
       "        [ 3166.3733695 ],\n",
       "        [ 3193.22410519],\n",
       "        [ 2667.05676388],\n",
       "        [ 2475.94145616],\n",
       "        [ 2254.20126946],\n",
       "        [ 2588.32651518],\n",
       "        [ 2464.71468255],\n",
       "        [ 1959.376887  ],\n",
       "        [ 2465.88957988],\n",
       "        [ 2360.62382313],\n",
       "        [ 2662.01699128],\n",
       "        [ 2732.12107614],\n",
       "        [ 2924.34914562],\n",
       "        [ 2753.03977126],\n",
       "        [ 2319.93381284],\n",
       "        [ 2372.53843866]])"
      ]
     },
     "execution_count": 11,
     "metadata": {},
     "output_type": "execute_result"
    }
   ],
   "source": [
    "testing_set_3[:,:1]"
   ]
  },
  {
   "cell_type": "code",
   "execution_count": 12,
   "metadata": {
    "collapsed": false
   },
   "outputs": [],
   "source": [
    "# write testing sets to file\n",
    "\n",
    "zdump([testing_set_1, testing_set_2, testing_set_3], '../temp_files/testing_sets_Oct_weekend.pkz')"
   ]
  },
  {
   "cell_type": "code",
   "execution_count": null,
   "metadata": {
    "collapsed": true
   },
   "outputs": [],
   "source": []
  }
 ],
 "metadata": {
  "kernelspec": {
   "display_name": "Python 2",
   "language": "python",
   "name": "python2"
  },
  "language_info": {
   "codemirror_mode": {
    "name": "ipython",
    "version": 2
   },
   "file_extension": ".py",
   "mimetype": "text/x-python",
   "name": "python",
   "nbconvert_exporter": "python",
   "pygments_lexer": "ipython2",
   "version": "2.7.11"
  }
 },
 "nbformat": 4,
 "nbformat_minor": 0
}
