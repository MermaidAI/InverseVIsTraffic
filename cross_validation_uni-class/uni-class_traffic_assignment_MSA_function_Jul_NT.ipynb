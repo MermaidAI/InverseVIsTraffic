{
 "cells": [
  {
   "cell_type": "code",
   "execution_count": 1,
   "metadata": {
    "collapsed": false
   },
   "outputs": [],
   "source": [
    "# based on https://github.com/chkwon/TrafficAssignment.jl\n",
    "\n",
    "include(joinpath(\"/home/jzh/Dropbox/Research/\",\n",
    "\"Data-driven_estimation_inverse_optimization\", \n",
    "\"Experiments/InverseVIsTraffic/Julia_files/load_network_uni-class.jl\"))\n",
    "\n",
    "using Graphs\n",
    "\n",
    "function create_graph(start_node, end_node)\n",
    "    @assert Base.length(start_node)==Base.length(end_node)\n",
    "\n",
    "    no_node = max(maximum(start_node), maximum(end_node))\n",
    "    no_arc = Base.length(start_node)\n",
    "\n",
    "    graph = simple_inclist(no_node)\n",
    "    for i=1:no_arc\n",
    "        add_edge!(graph, start_node[i], end_node[i])\n",
    "    end\n",
    "    return graph\n",
    "end\n",
    "\n",
    "function get_vector(state, origin, destination, link_dic)\n",
    "    current = destination\n",
    "    parent = -1\n",
    "    x = zeros(Int, maximum(link_dic))\n",
    "\n",
    "    while parent != origin\n",
    "        parent = state.parents[current]\n",
    "\n",
    "        link_idx = link_dic[parent,current]\n",
    "\n",
    "        if link_idx != 0\n",
    "            x[link_idx] = 1\n",
    "        end\n",
    "\n",
    "        current = parent\n",
    "    end\n",
    "\n",
    "    return x\n",
    "end\n",
    "\n",
    "ta_data = load_ta_network(\"East_Massachusetts_Jul_NT\")\n",
    "\n",
    "# unpacking data from ta_data\n",
    "network_name = ta_data.network_name\n",
    "\n",
    "number_of_zones = ta_data.number_of_zones\n",
    "number_of_nodes = ta_data.number_of_nodes\n",
    "first_thru_node = ta_data.first_thru_node\n",
    "number_of_links = ta_data.number_of_links\n",
    "\n",
    "start_node = ta_data.start_node\n",
    "end_node = ta_data.end_node\n",
    "capacity = ta_data.capacity\n",
    "link_length = ta_data.link_length\n",
    "\n",
    "free_flow_time = ta_data.free_flow_time\n",
    "B = ta_data.B\n",
    "power = ta_data.power\n",
    "speed_limit = ta_data.speed_limit\n",
    "toll = ta_data.toll\n",
    "link_type = ta_data.link_type\n",
    "number_of_zones = ta_data.number_of_zones\n",
    "total_od_flow = ta_data.total_od_flow\n",
    "travel_demand = ta_data.travel_demand\n",
    "od_pairs = ta_data.od_pairs\n",
    "\n",
    "toll_factor = ta_data.toll_factor\n",
    "distance_factor = ta_data.distance_factor\n",
    "\n",
    "best_objective = ta_data.best_objective\n",
    "\n",
    "# preparing a graph\n",
    "graph = create_graph(start_node, end_node)\n",
    "link_dic = sparse(start_node, end_node, 1:number_of_links);"
   ]
  },
  {
   "cell_type": "code",
   "execution_count": 2,
   "metadata": {
    "collapsed": false
   },
   "outputs": [
    {
     "data": {
      "text/plain": [
       "MSA (generic function with 1 method)"
      ]
     },
     "execution_count": 2,
     "metadata": {},
     "output_type": "execute_result"
    }
   ],
   "source": [
    "function MSA(coeffs) \n",
    "    polyEval(coeffs, pt) = sum([coeffs[i] * pt^(i-1) for i = 1:length(coeffs)]) \n",
    "\n",
    "    function BPR(x)\n",
    "        bpr = similar(x)\n",
    "        for i=1:length(bpr)\n",
    "            bpr[i] = free_flow_time[i] * polyEval( coeffs, (x[i]/capacity[i]) ) \n",
    "        end\n",
    "        return bpr\n",
    "    end\n",
    "\n",
    "    function all_or_nothing(travel_time)\n",
    "        state = []\n",
    "        path = []\n",
    "        x = zeros(size(start_node))\n",
    "\n",
    "        for r=1:size(travel_demand)[1]\n",
    "            # for each origin node r, find shortest paths to all destination nodes\n",
    "            state = dijkstra_shortest_paths(graph, travel_time, r)\n",
    "\n",
    "            for s=1:size(travel_demand)[2]\n",
    "                # for each destination node s, find the shortest-path vector\n",
    "                # load travel demand\n",
    "                x = x + travel_demand[r,s] * get_vector(state, r, s, link_dic)\n",
    "            end\n",
    "        end\n",
    "\n",
    "        return x\n",
    "    end\n",
    "\n",
    "    # Finding a starting feasible solution\n",
    "    travel_time = BPR(zeros(number_of_links))\n",
    "    xl = all_or_nothing(travel_time)\n",
    "\n",
    "    max_iter_no = 1e3\n",
    "    l = 1\n",
    "    #average_excess_cost = 1\n",
    "    tol = 1e-5\n",
    "\n",
    "    while l < max_iter_no\n",
    "        l += 1\n",
    "\n",
    "        xl_old = xl\n",
    "\n",
    "        # Finding yl\n",
    "        travel_time = BPR(xl)\n",
    "\n",
    "        yl = all_or_nothing(travel_time)\n",
    "\n",
    "        xl = xl + (yl - xl)/l\n",
    "\n",
    "        xl_new = xl\n",
    "\n",
    "        relative_gap = norm(xl_new - xl_old, 1) / norm(xl_new, 1)\n",
    "\n",
    "        if relative_gap < tol\n",
    "            break\n",
    "        end\n",
    "    end\n",
    "    \n",
    "    return xl\n",
    "end"
   ]
  },
  {
   "cell_type": "code",
   "execution_count": 3,
   "metadata": {
    "collapsed": false
   },
   "outputs": [],
   "source": [
    "# getting the coefficients of the costs\n",
    "coeffs_dict_Jul_NT = readall(\"../temp_files/coeffs_dict_Jul_NT.json\")\n",
    "coeffs_dict_Jul_NT = JSON.parse(coeffs_dict_Jul_NT)\n",
    "\n",
    "xl = Dict{(Int64,Float64,Float64,Int64),Array{Float64,1}}()\n",
    "\n",
    "deg_grid = [4:8]\n",
    "c_grid = .5:.5:3.\n",
    "lamb_grid = [10. .^(-3:4)]\n",
    "\n",
    "for deg in deg_grid\n",
    "    for c in c_grid\n",
    "        for lam in lamb_grid\n",
    "            coeffs_1 = coeffs_dict_Jul_NT[\"($(deg),$(c),$(lam),1)\"]\n",
    "            coeffs_2 = coeffs_dict_Jul_NT[\"($(deg),$(c),$(lam),2)\"]\n",
    "            coeffs_3 = coeffs_dict_Jul_NT[\"($(deg),$(c),$(lam),3)\"]\n",
    "            xl[(deg, c, lam, 1)] = MSA(coeffs_1)\n",
    "            xl[(deg, c, lam, 2)] = MSA(coeffs_2)\n",
    "            xl[(deg, c, lam, 3)] = MSA(coeffs_3)\n",
    "        end\n",
    "    end\n",
    "end"
   ]
  },
  {
   "cell_type": "code",
   "execution_count": 4,
   "metadata": {
    "collapsed": false
   },
   "outputs": [
    {
     "data": {
      "text/plain": [
       "8-element Array{Float64,1}:\n",
       "     0.001\n",
       "     0.01 \n",
       "     0.1  \n",
       "     1.0  \n",
       "    10.0  \n",
       "   100.0  \n",
       "  1000.0  \n",
       " 10000.0  "
      ]
     },
     "execution_count": 4,
     "metadata": {},
     "output_type": "execute_result"
    }
   ],
   "source": [
    "lamb_grid"
   ]
  },
  {
   "cell_type": "code",
   "execution_count": 5,
   "metadata": {
    "collapsed": true
   },
   "outputs": [],
   "source": [
    "outfile = open(\"../temp_files/uni-class_traffic_assignment_MSA_flows_Jul_NT.json\", \"w\")\n",
    "\n",
    "JSON.print(outfile, xl)\n",
    "\n",
    "close(outfile)"
   ]
  },
  {
   "cell_type": "code",
   "execution_count": 6,
   "metadata": {
    "collapsed": false
   },
   "outputs": [
    {
     "data": {
      "text/plain": [
       "Dict{(Int64,Float64,Float64,Int64),Array{Float64,1}} with 720 entries:\n",
       "  (8,2.5,10.0,3)    => [3229.624103035999,3376.5523714270003,3837.4956607380013…\n",
       "  (4,1.0,0.01,2)    => [3233.5744231119984,3371.0254942089987,3826.919128970997…\n",
       "  (4,3.0,0.001,1)   => [3233.574423112002,3370.218504368999,3826.919128971001,4…\n",
       "  (8,2.0,1000.0,3)  => [3233.574423111998,3369.1927892769936,3826.919128971,432…\n",
       "  (6,1.5,0.1,1)     => [3229.6241030359993,3378.1653706460015,3837.495660738002…\n",
       "  (6,1.5,100.0,1)   => [3240.6358057599996,3361.0549863919987,3819.858922807001…\n",
       "  (4,2.0,1000.0,3)  => [3290.0560724240017,3297.4999621600023,3770.150091575998…\n",
       "  (5,2.5,10.0,1)    => [3275.935660095998,3325.578639553002,3784.270503904002,4…\n",
       "  (7,0.5,1.0,3)     => [3222.563896872001,3381.3186633220043,3844.5558669020006…\n",
       "  (5,0.5,100.0,2)   => [3233.574423111998,3367.5793098519966,3826.919128970998,…\n",
       "  (7,1.5,1.0,3)     => [3229.6241030359993,3376.5523714270003,3837.495660738001…\n",
       "  (4,0.5,0.01,1)    => [3233.5744231120007,3366.5535880770026,3826.919128971001…\n",
       "  (8,1.0,1000.0,2)  => [3226.505289836999,3377.9538412449956,3841.326918094,432…\n",
       "  (4,1.5,0.01,2)    => [3233.574423111997,3367.579796741002,3826.9191289709993,…\n",
       "  (8,0.5,1000.0,2)  => [3221.447197233998,3388.786286106998,3855.419786752,4325…\n",
       "  (8,2.5,100.0,3)   => [3229.0413193629993,3375.2711725490008,3834.266711929997…\n",
       "  (5,1.0,0.1,1)     => [3233.5744231119993,3365.747091809001,3826.9191289709997…\n",
       "  (7,1.5,0.1,1)     => [3225.4685014369957,3381.3590215870026,3844.555866902,43…\n",
       "  (4,1.0,10000.0,1) => [3261.8152477679996,3341.3401672130003,3798.390916232000…\n",
       "  (7,1.0,1000.0,2)  => [3229.041319362999,3375.784276881002,3834.2667119300004,…\n",
       "  (6,1.5,0.1,2)     => [3229.6241030359984,3377.358867695002,3837.4956607380027…\n",
       "  (7,3.0,0.1,3)     => [3225.4685014369957,3381.3585280150014,3844.555866902,43…\n",
       "  (4,3.0,10.0,3)    => [3311.2366909159987,3255.051704339999,3748.9694730840015…\n",
       "  (6,2.0,0.01,1)    => [3229.624103035999,3382.1241657630003,3837.495660738002,…\n",
       "  (8,2.5,0.1,2)     => [3223.9818993900008,3384.158929077,3848.204102958001,432…\n",
       "  ⋮                 => ⋮"
      ]
     },
     "execution_count": 6,
     "metadata": {},
     "output_type": "execute_result"
    }
   ],
   "source": [
    "xl"
   ]
  },
  {
   "cell_type": "code",
   "execution_count": 7,
   "metadata": {
    "collapsed": false
   },
   "outputs": [
    {
     "data": {
      "text/plain": [
       "24-element Array{Float64,1}:\n",
       " 3223.98\n",
       " 3384.16\n",
       " 3848.2 \n",
       " 4325.72\n",
       " 3521.4 \n",
       " 4165.79\n",
       " 3519.26\n",
       " 3756.84\n",
       " 4746.52\n",
       " 4836.81\n",
       " 2910.45\n",
       " 3480.54\n",
       " 3353.42\n",
       " 3545.01\n",
       " 3536.18\n",
       " 2968.5 \n",
       " 3487.34\n",
       " 3683.76\n",
       " 3702.86\n",
       " 3847.89\n",
       " 3819.01\n",
       " 4018.61\n",
       " 1893.78\n",
       " 3373.92"
      ]
     },
     "execution_count": 7,
     "metadata": {},
     "output_type": "execute_result"
    }
   ],
   "source": [
    "xl[(8,2.5,0.1,2)]"
   ]
  },
  {
   "cell_type": "code",
   "execution_count": null,
   "metadata": {
    "collapsed": true
   },
   "outputs": [],
   "source": []
  }
 ],
 "metadata": {
  "kernelspec": {
   "display_name": "Julia 0.3.7",
   "language": "julia",
   "name": "julia-0.3"
  },
  "language_info": {
   "file_extension": ".jl",
   "mimetype": "application/julia",
   "name": "julia",
   "version": "0.3.7"
  }
 },
 "nbformat": 4,
 "nbformat_minor": 0
}
