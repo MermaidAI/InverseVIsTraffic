{
 "cells": [
  {
   "cell_type": "code",
   "execution_count": 1,
   "metadata": {
    "collapsed": false
   },
   "outputs": [],
   "source": [
    "# based on https://github.com/chkwon/TrafficAssignment.jl"
   ]
  },
  {
   "cell_type": "code",
   "execution_count": 2,
   "metadata": {
    "collapsed": false
   },
   "outputs": [
    {
     "data": {
      "text/plain": [
       "load_ta_network (generic function with 2 methods)"
      ]
     },
     "execution_count": 2,
     "metadata": {},
     "output_type": "execute_result"
    }
   ],
   "source": [
    "include(joinpath(\"/home/jzh/Dropbox/Research/\",\n",
    "\"Data-driven_estimation_inverse_optimization\", \n",
    "\"Experiments/InverseVIsTraffic/Julia_files/load_network_uni-class.jl\"))"
   ]
  },
  {
   "cell_type": "code",
   "execution_count": 3,
   "metadata": {
    "collapsed": false
   },
   "outputs": [
    {
     "data": {
      "text/plain": [
       "create_graph (generic function with 1 method)"
      ]
     },
     "execution_count": 3,
     "metadata": {},
     "output_type": "execute_result"
    }
   ],
   "source": [
    "using Graphs\n",
    "\n",
    "function create_graph(start_node, end_node)\n",
    "    @assert Base.length(start_node)==Base.length(end_node)\n",
    "\n",
    "    no_node = max(maximum(start_node), maximum(end_node))\n",
    "    no_arc = Base.length(start_node)\n",
    "\n",
    "    graph = simple_inclist(no_node)\n",
    "    for i=1:no_arc\n",
    "        add_edge!(graph, start_node[i], end_node[i])\n",
    "    end\n",
    "    return graph\n",
    "end"
   ]
  },
  {
   "cell_type": "code",
   "execution_count": 4,
   "metadata": {
    "collapsed": false
   },
   "outputs": [
    {
     "data": {
      "text/plain": [
       "get_vector (generic function with 1 method)"
      ]
     },
     "execution_count": 4,
     "metadata": {},
     "output_type": "execute_result"
    }
   ],
   "source": [
    "function get_vector(state, origin, destination, link_dic)\n",
    "    current = destination\n",
    "    parent = -1\n",
    "    x = zeros(Int, maximum(link_dic))\n",
    "\n",
    "    while parent != origin\n",
    "        parent = state.parents[current]\n",
    "\n",
    "        link_idx = link_dic[parent,current]\n",
    "\n",
    "        if link_idx != 0\n",
    "            x[link_idx] = 1\n",
    "        end\n",
    "\n",
    "        current = parent\n",
    "    end\n",
    "\n",
    "    return x\n",
    "end"
   ]
  },
  {
   "cell_type": "code",
   "execution_count": 5,
   "metadata": {
    "collapsed": false
   },
   "outputs": [
    {
     "data": {
      "text/plain": [
       "TA_Data(\"East Massachusetts\",8,0,1,24,[1,2,1,3,2,3,2,4,3,5  …  5,6,4,8,5,7,6,7,7,8],[2,1,3,1,3,2,4,2,5,3  …  6,5,8,4,7,5,7,6,8,7],[1470.14,1431.18,1814.8,1838.48,1813.57,1842.59,1538.78,1536.4,1994.12,1958.68  …  1481.65,1193.67,1500.0,1500.0,1810.8,1822.92,1731.39,1672.85,1500.0,1500.0],[0.0,0.0,0.0,0.0,0.0,0.0,0.0,0.0,0.0,0.0  …  0.0,0.0,0.0,0.0,0.0,0.0,0.0,0.0,0.0,0.0],[0.223769,0.239099,0.335607,0.342556,0.1041,0.123493,0.393796,0.405647,0.176085,0.182724  …  0.126612,0.125992,0.251184,0.250322,0.136876,0.136113,0.186022,0.18427,0.143381,0.147352],[0.0,0.0,0.0,0.0,0.0,0.0,0.0,0.0,0.0,0.0  …  0.0,0.0,0.0,0.0,0.0,0.0,0.0,0.0,0.0,0.0],[0.0,0.0,0.0,0.0,0.0,0.0,0.0,0.0,0.0,0.0  …  0.0,0.0,0.0,0.0,0.0,0.0,0.0,0.0,0.0,0.0],[0.0,0.0,0.0,0.0,0.0,0.0,0.0,0.0,0.0,0.0  …  0.0,0.0,0.0,0.0,0.0,0.0,0.0,0.0,0.0,0.0],[0.0,0.0,0.0,0.0,0.0,0.0,0.0,0.0,0.0,0.0  …  0.0,0.0,0.0,0.0,0.0,0.0,0.0,0.0,0.0,0.0],[0,0,0,0,0,0,0,0,0,0  …  0,0,0,0,0,0,0,0,0,0],0.0,8x8 Array{Float64,2}:\n",
       "   0.0          0.0       1688.18      …  482.646      12.0036       0.0    \n",
       " 912.103        0.0          0.0            0.0         0.0          0.0    \n",
       " 649.86         0.008159     0.0          588.587       7.4229     196.909  \n",
       "   1.8e-5    1300.92         1.0e-6       741.484       0.074115  1102.06   \n",
       "   1.0e-6       1.0e-6       1.0e-6       301.869       0.756481  1036.76   \n",
       " 219.478        0.005414     0.013463  …    0.0       816.451       15.1131 \n",
       "   0.286276     0.008955   372.652        611.951       0.0          4.66323\n",
       " 139.17      1043.18         0.026391       0.025826    0.028094     0.0    ,[(1,1),(1,2),(1,3),(1,4),(1,5),(1,6),(1,7),(1,8),(2,2),(2,1)  …  (7,6),(7,8),(8,8),(8,1),(8,2),(8,3),(8,4),(8,5),(8,6),(8,7)],0.0,0.0,0.0)"
      ]
     },
     "execution_count": 5,
     "metadata": {},
     "output_type": "execute_result"
    }
   ],
   "source": [
    "ta_data = load_ta_network(\"East Massachusetts\")"
   ]
  },
  {
   "cell_type": "code",
   "execution_count": 6,
   "metadata": {
    "collapsed": false
   },
   "outputs": [
    {
     "data": {
      "text/plain": [
       "0.0"
      ]
     },
     "execution_count": 6,
     "metadata": {},
     "output_type": "execute_result"
    }
   ],
   "source": [
    "# unpacking data from ta_data\n",
    "network_name = ta_data.network_name\n",
    "\n",
    "number_of_zones = ta_data.number_of_zones\n",
    "number_of_nodes = ta_data.number_of_nodes\n",
    "first_thru_node = ta_data.first_thru_node\n",
    "number_of_links = ta_data.number_of_links\n",
    "\n",
    "start_node = ta_data.start_node\n",
    "end_node = ta_data.end_node\n",
    "capacity = ta_data.capacity\n",
    "link_length = ta_data.link_length\n",
    "\n",
    "free_flow_time = ta_data.free_flow_time\n",
    "B = ta_data.B\n",
    "power = ta_data.power\n",
    "speed_limit = ta_data.speed_limit\n",
    "toll = ta_data.toll\n",
    "link_type = ta_data.link_type\n",
    "number_of_zones = ta_data.number_of_zones\n",
    "total_od_flow = ta_data.total_od_flow\n",
    "travel_demand = ta_data.travel_demand\n",
    "od_pairs = ta_data.od_pairs\n",
    "\n",
    "toll_factor = ta_data.toll_factor\n",
    "distance_factor = ta_data.distance_factor\n",
    "\n",
    "best_objective = ta_data.best_objective"
   ]
  },
  {
   "cell_type": "code",
   "execution_count": 7,
   "metadata": {
    "collapsed": false
   },
   "outputs": [
    {
     "data": {
      "text/plain": [
       "8x8 sparse matrix with 24 Int64 entries:\n",
       "\t[2, 1]  =  2\n",
       "\t[3, 1]  =  4\n",
       "\t[1, 2]  =  1\n",
       "\t[3, 2]  =  6\n",
       "\t[4, 2]  =  8\n",
       "\t[1, 3]  =  3\n",
       "\t[2, 3]  =  5\n",
       "\t[5, 3]  =  10\n",
       "\t[6, 3]  =  12\n",
       "\t[2, 4]  =  7\n",
       "\t⋮\n",
       "\t[4, 5]  =  13\n",
       "\t[6, 5]  =  16\n",
       "\t[7, 5]  =  20\n",
       "\t[3, 6]  =  11\n",
       "\t[5, 6]  =  15\n",
       "\t[7, 6]  =  22\n",
       "\t[5, 7]  =  19\n",
       "\t[6, 7]  =  21\n",
       "\t[8, 7]  =  24\n",
       "\t[4, 8]  =  17\n",
       "\t[7, 8]  =  23"
      ]
     },
     "execution_count": 7,
     "metadata": {},
     "output_type": "execute_result"
    }
   ],
   "source": [
    "# preparing a graph\n",
    "graph = create_graph(start_node, end_node)\n",
    "link_dic = sparse(start_node, end_node, 1:number_of_links)"
   ]
  },
  {
   "cell_type": "code",
   "execution_count": 8,
   "metadata": {
    "collapsed": false
   },
   "outputs": [
    {
     "data": {
      "text/plain": [
       "Directed Graph (8 vertices, 24 edges)"
      ]
     },
     "execution_count": 8,
     "metadata": {},
     "output_type": "execute_result"
    }
   ],
   "source": [
    "graph"
   ]
  },
  {
   "cell_type": "code",
   "execution_count": 9,
   "metadata": {
    "collapsed": false
   },
   "outputs": [
    {
     "data": {
      "text/plain": [
       "Dict{String,Any} with 225 entries:\n",
       "  \"(5,1.0,0.1,1)\"    => {0.09607510556659266,0.3450021316819924,0.5443004480578…\n",
       "  \"(6,1.0,1.0,1)\"    => {0.049544514762758195,0.2334131544105789,0.483328618610…\n",
       "  \"(3,3.0,0.1,1)\"    => {0.6492182976903935,0.4228723877486018,0.11501078808698…\n",
       "  \"(3,1.5,0.0001,1)\" => {1.0691359364905215,-0.16586846430857405,0.373587976956…\n",
       "  \"(6,1.0,0.001,1)\"  => {0.4369146360317604,0.24501115984458022,0.7727002425530…\n",
       "  \"(6,1.0,0.0001,1)\" => {1.0246032346003422,-1.3479785115006955,0.9900956162562…\n",
       "  \"(6,2.0,10.0,1)\"   => {0.19637967962593153,0.4577782314914942,0.4721142821578…\n",
       "  \"(6,2.0,0.01,1)\"   => {1.06436506607719,-0.3064529411674317,0.438035415637049…\n",
       "  \"(5,1.5,1.0,1)\"    => {0.1776967981628016,0.4557494512217777,0.49878922088773…\n",
       "  \"(6,1.0,1000.0,1)\" => {0.04776909921954599,0.22973952133610526,0.481128541491…\n",
       "  \"(5,1.0,0.01,1)\"   => {0.21812206497190748,0.5004123698549194,0.5370073503259…\n",
       "  \"(6,2.5,0.1,1)\"    => {0.816363105080458,0.2850473926048943,0.179148820832915…\n",
       "  \"(4,2.0,0.1,1)\"    => {0.4198673599797512,0.5141791331943982,0.29211476805980…\n",
       "  \"(3,2.0,0.1,1)\"    => {0.48515814555715725,0.5295804720582814,0.2159365261407…\n",
       "  \"(7,1.0,0.001,1)\"  => {0.4696086872769872,0.16338062319959346,0.5938523223894…\n",
       "  \"(4,1.0,100.0,1)\"  => {0.13777053431160485,0.44175725706132546,0.555241296731…\n",
       "  \"(4,2.0,0.0001,1)\" => {1.049076506529722,-1.490675768118376,2.939392440451417…\n",
       "  \"(3,2.0,1.0,1)\"    => {0.46011533932842774,0.5478853650701868,0.2289549676175…\n",
       "  \"(3,2.5,10.0,1)\"   => {0.5338056836659312,0.5127665000048216,0.17182455832853…\n",
       "  \"(3,2.0,1000.0,1)\" => {0.4573207769266687,0.5499236515004399,0.23041192905393…\n",
       "  \"(5,2.0,0.01,1)\"   => {0.9023264584918206,0.177557553652205,0.168049317414566…\n",
       "  \"(6,3.0,0.1,1)\"    => {1.0689334884473154,-0.11938757005915436,0.201666600134…\n",
       "  \"(3,2.5,100.0,1)\"  => {0.533431485086602,0.5130868904810145,0.171977493916316…\n",
       "  \"(5,2.0,0.001,1)\"  => {1.0577127795206074,-0.7435649055453706,1.2628285481219…\n",
       "  \"(7,1.5,0.1,1)\"    => {0.28388825757275676,0.5404502768485988,0.5450023997691…\n",
       "  ⋮                  => ⋮"
      ]
     },
     "execution_count": 9,
     "metadata": {},
     "output_type": "execute_result"
    }
   ],
   "source": [
    "coeffs_dict_Apr_AM = readall(\"../temp_files/coeffs_dict_Apr_AM.json\")\n",
    "coeffs_dict_Apr_AM = JSON.parse(coeffs_dict_Apr_AM)"
   ]
  },
  {
   "cell_type": "code",
   "execution_count": 10,
   "metadata": {
    "collapsed": false
   },
   "outputs": [
    {
     "data": {
      "text/plain": [
       "8-element Array{Any,1}:\n",
       "  0.283888  \n",
       "  0.54045   \n",
       "  0.545002  \n",
       "  0.167487  \n",
       " -0.108338  \n",
       " -0.104839  \n",
       " -0.0364901 \n",
       " -0.00346061"
      ]
     },
     "execution_count": 10,
     "metadata": {},
     "output_type": "execute_result"
    }
   ],
   "source": [
    "coeffs = coeffs_dict_Apr_AM[\"(7,1.5,0.1,1)\"]"
   ]
  },
  {
   "cell_type": "code",
   "execution_count": 12,
   "metadata": {
    "collapsed": false
   },
   "outputs": [
    {
     "data": {
      "text/plain": [
       "polyEval (generic function with 1 method)"
      ]
     },
     "execution_count": 12,
     "metadata": {},
     "output_type": "execute_result"
    }
   ],
   "source": [
    "polyEval(coeffs, pt) = sum([coeffs[i] * pt^(i-1) for i = 1:length(coeffs)]) "
   ]
  },
  {
   "cell_type": "code",
   "execution_count": 13,
   "metadata": {
    "collapsed": false
   },
   "outputs": [
    {
     "data": {
      "text/plain": [
       "BPR (generic function with 1 method)"
      ]
     },
     "execution_count": 13,
     "metadata": {},
     "output_type": "execute_result"
    }
   ],
   "source": [
    "function BPR(x)\n",
    "    # travel_time = free_flow_time .* ( 1.0 + B .* (x./capacity).^power )\n",
    "    # generalized_cost = travel_time + toll_factor *toll + distance_factor * link_length\n",
    "    # return generalized_cost\n",
    "\n",
    "    bpr = similar(x)\n",
    "    for i=1:length(bpr)\n",
    "        bpr[i] = free_flow_time[i] * polyEval( coeffs, (x[i]/capacity[i]) ) \n",
    "    end\n",
    "    return bpr\n",
    "end"
   ]
  },
  {
   "cell_type": "code",
   "execution_count": 14,
   "metadata": {
    "collapsed": false
   },
   "outputs": [
    {
     "data": {
      "text/plain": [
       "all_or_nothing (generic function with 1 method)"
      ]
     },
     "execution_count": 14,
     "metadata": {},
     "output_type": "execute_result"
    }
   ],
   "source": [
    "function all_or_nothing(travel_time)\n",
    "    state = []\n",
    "    path = []\n",
    "    x = zeros(size(start_node))\n",
    "\n",
    "    for r=1:size(travel_demand)[1]\n",
    "        # for each origin node r, find shortest paths to all destination nodes\n",
    "        state = dijkstra_shortest_paths(graph, travel_time, r)\n",
    "\n",
    "        for s=1:size(travel_demand)[2]\n",
    "            # for each destination node s, find the shortest-path vector\n",
    "            # load travel demand\n",
    "            x = x + travel_demand[r,s] * get_vector(state, r, s, link_dic)\n",
    "        end\n",
    "    end\n",
    "\n",
    "    return x\n",
    "end"
   ]
  },
  {
   "cell_type": "code",
   "execution_count": 15,
   "metadata": {
    "collapsed": false
   },
   "outputs": [
    {
     "data": {
      "text/plain": [
       "24-element Array{Float64,1}:\n",
       " 2705.4  \n",
       "  912.103\n",
       "    0.0  \n",
       " 1008.79 \n",
       " 2705.4  \n",
       " 1043.2  \n",
       " 1378.19 \n",
       " 1300.92 \n",
       " 1564.8  \n",
       " 1555.32 \n",
       " 1071.23 \n",
       "  219.497\n",
       "  742.897\n",
       " 1186.48 \n",
       " 1043.35 \n",
       "  933.357\n",
       " 1102.06 \n",
       " 1170.95 \n",
       " 1253.92 \n",
       " 2227.5  \n",
       "  831.564\n",
       "  611.977\n",
       " 1253.44 \n",
       " 1182.45 "
      ]
     },
     "execution_count": 15,
     "metadata": {},
     "output_type": "execute_result"
    }
   ],
   "source": [
    "# Finding a starting feasible solution\n",
    "travel_time = BPR(zeros(number_of_links))\n",
    "xl = all_or_nothing(travel_time)"
   ]
  },
  {
   "cell_type": "code",
   "execution_count": 23,
   "metadata": {
    "collapsed": false
   },
   "outputs": [
    {
     "name": "stdout",
     "output_type": "stream",
     "text": [
      "l = 10000------------------------------------------------\n",
      "relative_gap is 1.6553333164100392e-5\n",
      "l = 10450------------------------------------------------\n",
      "relative_gap is 9.994148466453076e-6\n"
     ]
    }
   ],
   "source": [
    "max_iter_no = 1e12\n",
    "l = 1\n",
    "#average_excess_cost = 1\n",
    "tol = 1e-5\n",
    "\n",
    "while l < max_iter_no\n",
    "    l += 1\n",
    "    \n",
    "    xl_old = xl\n",
    "    \n",
    "    # Finding yl\n",
    "    travel_time = BPR(xl)\n",
    "    \n",
    "    yl = all_or_nothing(travel_time)\n",
    "    \n",
    "    xl = xl + (yl - xl)/l\n",
    "    \n",
    "    xl_new = xl\n",
    "    \n",
    "    relative_gap = norm(xl_new - xl_old, 1) / norm(xl_new, 1)\n",
    "\n",
    "    if l % 10000 == 0\n",
    "        print(\"l = $l------------------------------------------------\\n\")\n",
    "        print(\"relative_gap is $relative_gap\\n\")\n",
    "    end\n",
    "\n",
    "    if relative_gap < tol \n",
    "        print(\"l = $l------------------------------------------------\\n\")\n",
    "        print(\"relative_gap is $relative_gap\\n\")\n",
    "        break\n",
    "    end\n",
    "    \n",
    "end"
   ]
  },
  {
   "cell_type": "code",
   "execution_count": 20,
   "metadata": {
    "collapsed": false
   },
   "outputs": [],
   "source": [
    "outfile = open(\"../temp_files/flows_converge_uni-class_case3.txt\", \"w\")\n",
    "\n",
    "write(outfile, join((\"From\", \"to\", \"Volume_Capacity\"), \"        \"), \"\\n\")\n",
    "\n",
    "for i = 1:length(ta_data.start_node)\n",
    "     n1, n2, n3 = ta_data.start_node[i], ta_data.end_node[i], xl[i]\n",
    "     write(outfile, join((n1, n2, n3), \"        \"), \"\\n\")\n",
    "end\n",
    "\n",
    "close(outfile)"
   ]
  },
  {
   "cell_type": "code",
   "execution_count": 22,
   "metadata": {
    "collapsed": false
   },
   "outputs": [
    {
     "data": {
      "text/plain": [
       "24-element Array{Float64,1}:\n",
       " 1470.14\n",
       " 1431.18\n",
       " 1814.8 \n",
       " 1838.48\n",
       " 1813.57\n",
       " 1842.59\n",
       " 1538.78\n",
       " 1536.4 \n",
       " 1994.12\n",
       " 1958.68\n",
       " 1881.41\n",
       " 1626.28\n",
       " 1438.13\n",
       " 1597.64\n",
       " 1481.65\n",
       " 1193.67\n",
       " 1500.0 \n",
       " 1500.0 \n",
       " 1810.8 \n",
       " 1822.92\n",
       " 1731.39\n",
       " 1672.85\n",
       " 1500.0 \n",
       " 1500.0 "
      ]
     },
     "execution_count": 22,
     "metadata": {},
     "output_type": "execute_result"
    }
   ],
   "source": [
    "capacity"
   ]
  },
  {
   "cell_type": "code",
   "execution_count": 21,
   "metadata": {
    "collapsed": false
   },
   "outputs": [
    {
     "data": {
      "text/plain": [
       "24-element Array{Float64,1}:\n",
       " 2705.4  \n",
       "  912.103\n",
       "    0.0  \n",
       " 1008.79 \n",
       " 2705.42 \n",
       " 1201.82 \n",
       " 1378.17 \n",
       " 1142.29 \n",
       " 1441.14 \n",
       " 1120.55 \n",
       " 1194.91 \n",
       "  812.894\n",
       "  901.529\n",
       " 1186.5  \n",
       " 1043.36 \n",
       "  933.357\n",
       " 1102.06 \n",
       " 1170.96 \n",
       " 1130.25 \n",
       " 1634.09 \n",
       "  955.241\n",
       " 1205.37 \n",
       " 1253.44 \n",
       " 1182.44 "
      ]
     },
     "execution_count": 21,
     "metadata": {},
     "output_type": "execute_result"
    }
   ],
   "source": [
    "xl"
   ]
  },
  {
   "cell_type": "code",
   "execution_count": 41,
   "metadata": {
    "collapsed": false
   },
   "outputs": [
    {
     "data": {
      "text/plain": [
       "-5.0:0.5:5.0"
      ]
     },
     "execution_count": 41,
     "metadata": {},
     "output_type": "execute_result"
    }
   ],
   "source": [
    "c_grid = -5.:.5:5"
   ]
  },
  {
   "cell_type": "code",
   "execution_count": 42,
   "metadata": {
    "collapsed": false
   },
   "outputs": [
    {
     "data": {
      "text/plain": [
       "5-element Array{Int64,1}:\n",
       " 2\n",
       " 3\n",
       " 4\n",
       " 5\n",
       " 6"
      ]
     },
     "execution_count": 42,
     "metadata": {},
     "output_type": "execute_result"
    }
   ],
   "source": [
    "deg_grid = [2:6]"
   ]
  },
  {
   "cell_type": "code",
   "execution_count": null,
   "metadata": {
    "collapsed": true
   },
   "outputs": [],
   "source": []
  }
 ],
 "metadata": {
  "kernelspec": {
   "display_name": "Julia 0.3.7",
   "language": "julia",
   "name": "julia-0.3"
  },
  "language_info": {
   "file_extension": ".jl",
   "mimetype": "application/julia",
   "name": "julia",
   "version": "0.3.7"
  }
 },
 "nbformat": 4,
 "nbformat_minor": 0
}
