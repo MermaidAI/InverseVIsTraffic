{
 "cells": [
  {
   "cell_type": "code",
   "execution_count": 1,
   "metadata": {
    "collapsed": true
   },
   "outputs": [],
   "source": [
    "%run ../Python_files/util_data_storage_and_load.py"
   ]
  },
  {
   "cell_type": "code",
   "execution_count": 2,
   "metadata": {
    "collapsed": true
   },
   "outputs": [],
   "source": [
    "%run ../Python_files/load_dicts.py"
   ]
  },
  {
   "cell_type": "code",
   "execution_count": 3,
   "metadata": {
    "collapsed": false
   },
   "outputs": [],
   "source": [
    "%run ../Python_files/util.py"
   ]
  },
  {
   "cell_type": "code",
   "execution_count": 4,
   "metadata": {
    "collapsed": false
   },
   "outputs": [],
   "source": [
    "import numpy as np\n",
    "from numpy.linalg import inv"
   ]
  },
  {
   "cell_type": "code",
   "execution_count": 5,
   "metadata": {
    "collapsed": false
   },
   "outputs": [],
   "source": [
    "# load link flow data\n",
    "\n",
    "import json\n",
    "\n",
    "with open('../temp_files/link_day_minute_Jan_dict_JSON.json', 'r') as json_file:\n",
    "    link_day_minute_Jan_dict_JSON = json.load(json_file)"
   ]
  },
  {
   "cell_type": "code",
   "execution_count": 6,
   "metadata": {
    "collapsed": true
   },
   "outputs": [],
   "source": [
    "# week_day_Jan_list = [2, 3, 4, 5, 6, 9, 10, 11, 12, 13, 16, 17, 18, 19, 20, 23, 24, 25, 26, 27, 30, 31]\n",
    "\n",
    "# testing set 1\n",
    "week_day_Jan_list_1 = [20, 23, 24, 25, 26, 27, 30, 31]\n",
    "\n",
    "# testing set 2\n",
    "week_day_Jan_list_2 = [11, 12, 13, 16, 17, 18, 19]\n",
    "\n",
    "# testing set 3\n",
    "week_day_Jan_list_3 = [2, 3, 4, 5, 6, 9, 10]"
   ]
  },
  {
   "cell_type": "code",
   "execution_count": 7,
   "metadata": {
    "collapsed": false
   },
   "outputs": [],
   "source": [
    "link_flow_testing_set_Jan_PM_1 = []\n",
    "for link_idx in range(24):\n",
    "    for day in week_day_Jan_list_1: \n",
    "            key = 'link_' + str(link_idx) + '_' + str(day)\n",
    "            link_flow_testing_set_Jan_PM_1.append(link_day_minute_Jan_dict_JSON[key] ['PM_flow'])\n",
    "            \n",
    "link_flow_testing_set_Jan_PM_2 = []\n",
    "for link_idx in range(24):\n",
    "    for day in week_day_Jan_list_2: \n",
    "            key = 'link_' + str(link_idx) + '_' + str(day)\n",
    "            link_flow_testing_set_Jan_PM_2.append(link_day_minute_Jan_dict_JSON[key] ['PM_flow'])\n",
    "            \n",
    "link_flow_testing_set_Jan_PM_3 = []\n",
    "for link_idx in range(24):\n",
    "    for day in week_day_Jan_list_3: \n",
    "            key = 'link_' + str(link_idx) + '_' + str(day)\n",
    "            link_flow_testing_set_Jan_PM_3.append(link_day_minute_Jan_dict_JSON[key] ['PM_flow'])"
   ]
  },
  {
   "cell_type": "code",
   "execution_count": 8,
   "metadata": {
    "collapsed": false
   },
   "outputs": [
    {
     "data": {
      "text/plain": [
       "192"
      ]
     },
     "execution_count": 8,
     "metadata": {},
     "output_type": "execute_result"
    }
   ],
   "source": [
    "len(link_flow_testing_set_Jan_PM_1)"
   ]
  },
  {
   "cell_type": "code",
   "execution_count": 9,
   "metadata": {
    "collapsed": false
   },
   "outputs": [],
   "source": [
    "testing_set_1 = np.matrix(link_flow_testing_set_Jan_PM_1)\n",
    "testing_set_1 = np.matrix.reshape(testing_set_1, 24, 8)\n",
    "testing_set_1 = np.nan_to_num(testing_set_1)\n",
    "y = np.array(np.transpose(testing_set_1))\n",
    "y = y[np.all(y != 0, axis=1)]\n",
    "testing_set_1 = np.transpose(y)\n",
    "testing_set_1 = np.matrix(testing_set_1)\n",
    "\n",
    "testing_set_2 = np.matrix(link_flow_testing_set_Jan_PM_2)\n",
    "testing_set_2 = np.matrix.reshape(testing_set_2, 24, 7)\n",
    "testing_set_2 = np.nan_to_num(testing_set_2)\n",
    "y = np.array(np.transpose(testing_set_2))\n",
    "y = y[np.all(y != 0, axis=1)]\n",
    "testing_set_2 = np.transpose(y)\n",
    "testing_set_2 = np.matrix(testing_set_2)\n",
    "\n",
    "testing_set_3 = np.matrix(link_flow_testing_set_Jan_PM_3)\n",
    "testing_set_3 = np.matrix.reshape(testing_set_3, 24, 7)\n",
    "testing_set_3 = np.nan_to_num(testing_set_3)\n",
    "y = np.array(np.transpose(testing_set_3))\n",
    "y = y[np.all(y != 0, axis=1)]\n",
    "testing_set_3 = np.transpose(y)\n",
    "testing_set_3 = np.matrix(testing_set_3)"
   ]
  },
  {
   "cell_type": "code",
   "execution_count": 10,
   "metadata": {
    "collapsed": false
   },
   "outputs": [
    {
     "data": {
      "text/plain": [
       "(8, 24)"
      ]
     },
     "execution_count": 10,
     "metadata": {},
     "output_type": "execute_result"
    }
   ],
   "source": [
    "np.size(testing_set_1, 1), np.size(testing_set_3, 0)"
   ]
  },
  {
   "cell_type": "code",
   "execution_count": 11,
   "metadata": {
    "collapsed": false
   },
   "outputs": [
    {
     "data": {
      "text/plain": [
       "matrix([[ 1244.808392  ],\n",
       "        [ 1224.10347873],\n",
       "        [ 1542.61743297],\n",
       "        [ 1526.64086009],\n",
       "        [ 1569.07514883],\n",
       "        [ 1438.73381084],\n",
       "        [ 1244.05812607],\n",
       "        [ 1295.13027788],\n",
       "        [ 1708.80347754],\n",
       "        [ 1696.53745161],\n",
       "        [ 1429.48400754],\n",
       "        [ 1299.6891394 ],\n",
       "        [ 1229.81161617],\n",
       "        [ 1376.38196645],\n",
       "        [ 1283.21623949],\n",
       "        [ 1066.74365889],\n",
       "        [ 1257.50459095],\n",
       "        [ 1299.48465625],\n",
       "        [ 1555.59139181],\n",
       "        [ 1655.23512515],\n",
       "        [ 1540.16971611],\n",
       "        [ 1467.01040275],\n",
       "        [ 1281.27715107],\n",
       "        [ 1292.110584  ]])"
      ]
     },
     "execution_count": 11,
     "metadata": {},
     "output_type": "execute_result"
    }
   ],
   "source": [
    "testing_set_3[:,:1]"
   ]
  },
  {
   "cell_type": "code",
   "execution_count": 12,
   "metadata": {
    "collapsed": false
   },
   "outputs": [],
   "source": [
    "# write testing sets to file\n",
    "\n",
    "zdump([testing_set_1, testing_set_2, testing_set_3], '../temp_files/testing_sets_Jan_PM.pkz')"
   ]
  },
  {
   "cell_type": "code",
   "execution_count": null,
   "metadata": {
    "collapsed": true
   },
   "outputs": [],
   "source": []
  }
 ],
 "metadata": {
  "kernelspec": {
   "display_name": "Python 2",
   "language": "python",
   "name": "python2"
  },
  "language_info": {
   "codemirror_mode": {
    "name": "ipython",
    "version": 2
   },
   "file_extension": ".py",
   "mimetype": "text/x-python",
   "name": "python",
   "nbconvert_exporter": "python",
   "pygments_lexer": "ipython2",
   "version": "2.7.11"
  }
 },
 "nbformat": 4,
 "nbformat_minor": 0
}
