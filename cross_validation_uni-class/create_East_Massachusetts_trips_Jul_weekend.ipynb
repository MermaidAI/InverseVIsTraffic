{
 "cells": [
  {
   "cell_type": "code",
   "execution_count": 1,
   "metadata": {
    "collapsed": false
   },
   "outputs": [],
   "source": [
    "%run ../Python_files/util_data_storage_and_load.py"
   ]
  },
  {
   "cell_type": "code",
   "execution_count": 2,
   "metadata": {
    "collapsed": false
   },
   "outputs": [
    {
     "name": "stdout",
     "output_type": "stream",
     "text": [
      "No dicts found; please check load_dicts...\n"
     ]
    }
   ],
   "source": [
    "%run ../Python_files/util.py"
   ]
  },
  {
   "cell_type": "code",
   "execution_count": 3,
   "metadata": {
    "collapsed": true
   },
   "outputs": [],
   "source": [
    "list_of_lists = []\n",
    "\n",
    "with open('../temp_files/OD_demand_matrix_Jul_weekend.txt', 'r') as the_file:\n",
    "    idx = 0\n",
    "    for line in the_file:\n",
    "        inner_list = [elt.strip() for elt in line.split(',')]\n",
    "        list_of_lists.append(inner_list)"
   ]
  },
  {
   "cell_type": "code",
   "execution_count": 4,
   "metadata": {
    "collapsed": false
   },
   "outputs": [
    {
     "data": {
      "text/plain": [
       "[['1', '2', '0.000000'],\n",
       " ['1', '3', '1432.000539'],\n",
       " ['1', '4', '0.000000'],\n",
       " ['1', '5', '0.000187'],\n",
       " ['1', '6', '1492.407514'],\n",
       " ['1', '7', '0.000351'],\n",
       " ['1', '8', '0.000000']]"
      ]
     },
     "execution_count": 4,
     "metadata": {},
     "output_type": "execute_result"
    }
   ],
   "source": [
    "list_of_lists[0:7]"
   ]
  },
  {
   "cell_type": "code",
   "execution_count": 5,
   "metadata": {
    "collapsed": false
   },
   "outputs": [],
   "source": [
    "zero_value = 0.0\n",
    "with open(\"../data_traffic_assignment_uni-class/East_Massachusetts_trips_Jul_weekend.txt\", \"w\") as text_file:\n",
    "    text_file.write(\"<NUMBER OF ZONES> 8\\n\")\n",
    "    text_file.write(\"<TOTAL OD FLOW> 0.0\\n\")\n",
    "    text_file.write(\"<END OF METADATA>\\n\\n\\n\")\n",
    "    \n",
    "    for n in range(8):\n",
    "        text_file.write(\"Origin  %d  \\n\" %(n+1))\n",
    "        text_file.write(\"%d :      0.0;    \" %(n+1))\n",
    "        for idx in range(n*7, (n+1)*7):\n",
    "            text_file.write(\"%d :      %f;    \" \\\n",
    "                            %(int(list_of_lists[idx][1]), float(list_of_lists[idx][2])))\n",
    "            if idx % 3 == 0:\n",
    "                text_file.write(\"\\n\")\n",
    "        text_file.write(\"\\n\\n\")"
   ]
  },
  {
   "cell_type": "code",
   "execution_count": 6,
   "metadata": {
    "collapsed": false
   },
   "outputs": [
    {
     "data": {
      "text/plain": [
       "[49, 50, 51, 52, 53, 54, 55]"
      ]
     },
     "execution_count": 6,
     "metadata": {},
     "output_type": "execute_result"
    }
   ],
   "source": [
    "n = 7\n",
    "range(n*7, (n+1)*7)"
   ]
  },
  {
   "cell_type": "code",
   "execution_count": null,
   "metadata": {
    "collapsed": true
   },
   "outputs": [],
   "source": []
  }
 ],
 "metadata": {
  "kernelspec": {
   "display_name": "Python 2",
   "language": "python",
   "name": "python2"
  },
  "language_info": {
   "codemirror_mode": {
    "name": "ipython",
    "version": 2
   },
   "file_extension": ".py",
   "mimetype": "text/x-python",
   "name": "python",
   "nbconvert_exporter": "python",
   "pygments_lexer": "ipython2",
   "version": "2.7.11"
  }
 },
 "nbformat": 4,
 "nbformat_minor": 0
}
