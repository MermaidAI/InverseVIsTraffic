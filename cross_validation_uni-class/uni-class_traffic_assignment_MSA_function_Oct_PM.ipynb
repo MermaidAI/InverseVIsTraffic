{
 "cells": [
  {
   "cell_type": "code",
   "execution_count": 1,
   "metadata": {
    "collapsed": false
   },
   "outputs": [],
   "source": [
    "# based on https://github.com/chkwon/TrafficAssignment.jl\n",
    "\n",
    "include(joinpath(\"/home/jzh/Dropbox/Research/\",\n",
    "\"Data-driven_estimation_inverse_optimization\", \n",
    "\"Experiments/InverseVIsTraffic/Julia_files/load_network_uni-class.jl\"))\n",
    "\n",
    "using Graphs\n",
    "\n",
    "function create_graph(start_node, end_node)\n",
    "    @assert Base.length(start_node)==Base.length(end_node)\n",
    "\n",
    "    no_node = max(maximum(start_node), maximum(end_node))\n",
    "    no_arc = Base.length(start_node)\n",
    "\n",
    "    graph = simple_inclist(no_node)\n",
    "    for i=1:no_arc\n",
    "        add_edge!(graph, start_node[i], end_node[i])\n",
    "    end\n",
    "    return graph\n",
    "end\n",
    "\n",
    "function get_vector(state, origin, destination, link_dic)\n",
    "    current = destination\n",
    "    parent = -1\n",
    "    x = zeros(Int, maximum(link_dic))\n",
    "\n",
    "    while parent != origin\n",
    "        parent = state.parents[current]\n",
    "\n",
    "        link_idx = link_dic[parent,current]\n",
    "\n",
    "        if link_idx != 0\n",
    "            x[link_idx] = 1\n",
    "        end\n",
    "\n",
    "        current = parent\n",
    "    end\n",
    "\n",
    "    return x\n",
    "end\n",
    "\n",
    "ta_data = load_ta_network(\"East_Massachusetts_Oct_PM\")\n",
    "\n",
    "# unpacking data from ta_data\n",
    "network_name = ta_data.network_name\n",
    "\n",
    "number_of_zones = ta_data.number_of_zones\n",
    "number_of_nodes = ta_data.number_of_nodes\n",
    "first_thru_node = ta_data.first_thru_node\n",
    "number_of_links = ta_data.number_of_links\n",
    "\n",
    "start_node = ta_data.start_node\n",
    "end_node = ta_data.end_node\n",
    "capacity = ta_data.capacity\n",
    "link_length = ta_data.link_length\n",
    "\n",
    "free_flow_time = ta_data.free_flow_time\n",
    "B = ta_data.B\n",
    "power = ta_data.power\n",
    "speed_limit = ta_data.speed_limit\n",
    "toll = ta_data.toll\n",
    "link_type = ta_data.link_type\n",
    "number_of_zones = ta_data.number_of_zones\n",
    "total_od_flow = ta_data.total_od_flow\n",
    "travel_demand = ta_data.travel_demand\n",
    "od_pairs = ta_data.od_pairs\n",
    "\n",
    "toll_factor = ta_data.toll_factor\n",
    "distance_factor = ta_data.distance_factor\n",
    "\n",
    "best_objective = ta_data.best_objective\n",
    "\n",
    "# preparing a graph\n",
    "graph = create_graph(start_node, end_node)\n",
    "link_dic = sparse(start_node, end_node, 1:number_of_links);"
   ]
  },
  {
   "cell_type": "code",
   "execution_count": 2,
   "metadata": {
    "collapsed": false
   },
   "outputs": [
    {
     "data": {
      "text/plain": [
       "MSA (generic function with 1 method)"
      ]
     },
     "execution_count": 2,
     "metadata": {},
     "output_type": "execute_result"
    }
   ],
   "source": [
    "function MSA(coeffs) \n",
    "    polyEval(coeffs, pt) = sum([coeffs[i] * pt^(i-1) for i = 1:length(coeffs)]) \n",
    "\n",
    "    function BPR(x)\n",
    "        bpr = similar(x)\n",
    "        for i=1:length(bpr)\n",
    "            bpr[i] = free_flow_time[i] * polyEval( coeffs, (x[i]/capacity[i]) ) \n",
    "        end\n",
    "        return bpr\n",
    "    end\n",
    "\n",
    "    function all_or_nothing(travel_time)\n",
    "        state = []\n",
    "        path = []\n",
    "        x = zeros(size(start_node))\n",
    "\n",
    "        for r=1:size(travel_demand)[1]\n",
    "            # for each origin node r, find shortest paths to all destination nodes\n",
    "            state = dijkstra_shortest_paths(graph, travel_time, r)\n",
    "\n",
    "            for s=1:size(travel_demand)[2]\n",
    "                # for each destination node s, find the shortest-path vector\n",
    "                # load travel demand\n",
    "                x = x + travel_demand[r,s] * get_vector(state, r, s, link_dic)\n",
    "            end\n",
    "        end\n",
    "\n",
    "        return x\n",
    "    end\n",
    "\n",
    "    # Finding a starting feasible solution\n",
    "    travel_time = BPR(zeros(number_of_links))\n",
    "    xl = all_or_nothing(travel_time)\n",
    "\n",
    "    max_iter_no = 1e3\n",
    "    l = 1\n",
    "    #average_excess_cost = 1\n",
    "    tol = 1e-5\n",
    "\n",
    "    while l < max_iter_no\n",
    "        l += 1\n",
    "\n",
    "        xl_old = xl\n",
    "\n",
    "        # Finding yl\n",
    "        travel_time = BPR(xl)\n",
    "\n",
    "        yl = all_or_nothing(travel_time)\n",
    "\n",
    "        xl = xl + (yl - xl)/l\n",
    "\n",
    "        xl_new = xl\n",
    "\n",
    "        relative_gap = norm(xl_new - xl_old, 1) / norm(xl_new, 1)\n",
    "\n",
    "        if relative_gap < tol\n",
    "            break\n",
    "        end\n",
    "    end\n",
    "    \n",
    "    return xl\n",
    "end"
   ]
  },
  {
   "cell_type": "code",
   "execution_count": 3,
   "metadata": {
    "collapsed": false
   },
   "outputs": [],
   "source": [
    "# getting the coefficients of the costs\n",
    "coeffs_dict_Oct_PM = readall(\"../temp_files/coeffs_dict_Oct_PM.json\")\n",
    "coeffs_dict_Oct_PM = JSON.parse(coeffs_dict_Oct_PM)\n",
    "\n",
    "xl = Dict{(Int64,Float64,Float64,Int64),Array{Float64,1}}()\n",
    "\n",
    "deg_grid = [4:8]\n",
    "c_grid = .5:.5:3.\n",
    "lamb_grid = [10. .^(-3:4)]\n",
    "\n",
    "for deg in deg_grid\n",
    "    for c in c_grid\n",
    "        for lam in lamb_grid\n",
    "            coeffs_1 = coeffs_dict_Oct_PM[\"($(deg),$(c),$(lam),1)\"]\n",
    "            coeffs_2 = coeffs_dict_Oct_PM[\"($(deg),$(c),$(lam),2)\"]\n",
    "            coeffs_3 = coeffs_dict_Oct_PM[\"($(deg),$(c),$(lam),3)\"]\n",
    "            xl[(deg, c, lam, 1)] = MSA(coeffs_1)\n",
    "            xl[(deg, c, lam, 2)] = MSA(coeffs_2)\n",
    "            xl[(deg, c, lam, 3)] = MSA(coeffs_3)\n",
    "        end\n",
    "    end\n",
    "end"
   ]
  },
  {
   "cell_type": "code",
   "execution_count": 4,
   "metadata": {
    "collapsed": false
   },
   "outputs": [
    {
     "data": {
      "text/plain": [
       "8-element Array{Float64,1}:\n",
       "     0.001\n",
       "     0.01 \n",
       "     0.1  \n",
       "     1.0  \n",
       "    10.0  \n",
       "   100.0  \n",
       "  1000.0  \n",
       " 10000.0  "
      ]
     },
     "execution_count": 4,
     "metadata": {},
     "output_type": "execute_result"
    }
   ],
   "source": [
    "lamb_grid"
   ]
  },
  {
   "cell_type": "code",
   "execution_count": 5,
   "metadata": {
    "collapsed": true
   },
   "outputs": [],
   "source": [
    "outfile = open(\"../temp_files/uni-class_traffic_assignment_MSA_flows_Oct_PM.json\", \"w\")\n",
    "\n",
    "JSON.print(outfile, xl)\n",
    "\n",
    "close(outfile)"
   ]
  },
  {
   "cell_type": "code",
   "execution_count": 6,
   "metadata": {
    "collapsed": false
   },
   "outputs": [
    {
     "data": {
      "text/plain": [
       "Dict{(Int64,Float64,Float64,Int64),Array{Float64,1}} with 720 entries:\n",
       "  (8,2.5,10.0,3)    => [1250.924086675,1010.8977623959998,1382.6003063250002,16…\n",
       "  (4,1.0,0.01,2)    => [1322.0292452859997,835.963462645,1311.4951477140005,178…\n",
       "  (4,3.0,0.001,1)   => [1245.6570378890003,1035.1947842489992,1387.867355110999…\n",
       "  (8,2.0,1000.0,3)  => [1300.9610501420009,892.0335130750001,1332.5633428579993…\n",
       "  (6,1.5,0.1,1)     => [1269.3587574259993,969.7797254140003,1364.1656355740008…\n",
       "  (6,1.5,100.0,1)   => [1308.8616233209998,871.4744945840002,1324.6627696790003…\n",
       "  (4,2.0,1000.0,3)  => [1350.9980136090003,766.8104004480001,1282.5263793909999…\n",
       "  (5,2.5,10.0,1)    => [1340.463916036998,792.9764239819995,1293.0604769630022,…\n",
       "  (7,0.5,1.0,3)     => [1258.8246598540004,994.0767472669995,1374.6997331459997…\n",
       "  (5,0.5,100.0,2)   => [1279.8928549980003,943.6137018800007,1353.6315380019998…\n",
       "  (7,1.5,1.0,3)     => [1274.6258062119994,952.9587102849998,1358.8985867880008…\n",
       "  (4,0.5,0.01,1)    => [1274.6258062119991,956.6967136470003,1358.898586788001,…\n",
       "  (8,1.0,1000.0,2)  => [1269.3587574259998,964.1727203710008,1364.1656355740004…\n",
       "  (4,1.5,0.01,2)    => [1343.0974404299993,789.2384206199999,1290.4269525700008…\n",
       "  (8,0.5,1000.0,2)  => [1250.9240866749997,1010.8977623959989,1382.600306325000…\n",
       "  (8,2.5,100.0,3)   => [1300.9610501420002,888.2955097129998,1332.563342858,173…\n",
       "  (5,1.0,0.1,1)     => [1282.5263793910005,933.151550056999,1350.9980136089996,…\n",
       "  (7,1.5,0.1,1)     => [1256.1911354610004,1001.5527539910001,1377.333257538999…\n",
       "  (4,1.0,10000.0,1) => [1322.029245285999,837.8324643259994,1311.4951477140012,…\n",
       "  (7,1.0,1000.0,2)  => [1279.8928549980008,941.7447001990007,1353.6315380019994…\n",
       "  (6,1.5,0.1,2)     => [1316.7621965,852.7844777739995,1316.7621965,1768.075590…\n",
       "  (7,3.0,0.1,3)     => [1229.8558915309998,1061.360807783,1403.6685014690004,15…\n",
       "  (4,3.0,10.0,3)    => [1366.7991599670013,751.858387,1266.7252330329989,1869.0…\n",
       "  (6,2.0,0.01,1)    => [2633.524393,1033.3257825679998,0.0,1587.5342854320002,2…\n",
       "  (8,2.5,0.1,2)     => [3897.151702576,25.90720204799997,0.0,3858.580175527999,…\n",
       "  ⋮                 => ⋮"
      ]
     },
     "execution_count": 6,
     "metadata": {},
     "output_type": "execute_result"
    }
   ],
   "source": [
    "xl"
   ]
  },
  {
   "cell_type": "code",
   "execution_count": 7,
   "metadata": {
    "collapsed": false
   },
   "outputs": [
    {
     "data": {
      "text/plain": [
       "24-element Array{Float64,1}:\n",
       " 3897.15  \n",
       "   25.9072\n",
       "    0.0   \n",
       " 3858.58  \n",
       " 5531.38  \n",
       "  444.91  \n",
       "  191.301 \n",
       " 1520.72  \n",
       " 1491.99  \n",
       " 1336.55  \n",
       " 1483.27  \n",
       "  871.656 \n",
       "   25.517 \n",
       " 8311.15  \n",
       "  672.571 \n",
       " 1227.47  \n",
       " 6888.91  \n",
       "   30.9046\n",
       "   17.6145\n",
       " 6026.44  \n",
       "   13.5469\n",
       "  881.15  \n",
       "   13.5188\n",
       " 7104.39  "
      ]
     },
     "execution_count": 7,
     "metadata": {},
     "output_type": "execute_result"
    }
   ],
   "source": [
    "xl[(8,2.5,0.1,2)]"
   ]
  },
  {
   "cell_type": "code",
   "execution_count": null,
   "metadata": {
    "collapsed": true
   },
   "outputs": [],
   "source": []
  }
 ],
 "metadata": {
  "kernelspec": {
   "display_name": "Julia 0.3.7",
   "language": "julia",
   "name": "julia-0.3"
  },
  "language_info": {
   "file_extension": ".jl",
   "mimetype": "application/julia",
   "name": "julia",
   "version": "0.3.7"
  }
 },
 "nbformat": 4,
 "nbformat_minor": 0
}
