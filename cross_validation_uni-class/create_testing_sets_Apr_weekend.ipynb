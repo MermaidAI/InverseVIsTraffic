{
 "cells": [
  {
   "cell_type": "code",
   "execution_count": 1,
   "metadata": {
    "collapsed": true
   },
   "outputs": [],
   "source": [
    "%run ../Python_files/util_data_storage_and_load.py"
   ]
  },
  {
   "cell_type": "code",
   "execution_count": 2,
   "metadata": {
    "collapsed": true
   },
   "outputs": [],
   "source": [
    "%run ../Python_files/load_dicts.py"
   ]
  },
  {
   "cell_type": "code",
   "execution_count": 3,
   "metadata": {
    "collapsed": false
   },
   "outputs": [],
   "source": [
    "%run ../Python_files/util.py"
   ]
  },
  {
   "cell_type": "code",
   "execution_count": 4,
   "metadata": {
    "collapsed": false
   },
   "outputs": [],
   "source": [
    "import numpy as np\n",
    "from numpy.linalg import inv"
   ]
  },
  {
   "cell_type": "code",
   "execution_count": 5,
   "metadata": {
    "collapsed": false
   },
   "outputs": [],
   "source": [
    "# load link flow data\n",
    "\n",
    "import json\n",
    "\n",
    "with open('../temp_files/link_day_minute_Apr_dict_JSON.json', 'r') as json_file:\n",
    "    link_day_minute_Apr_dict_JSON = json.load(json_file)"
   ]
  },
  {
   "cell_type": "code",
   "execution_count": 6,
   "metadata": {
    "collapsed": true
   },
   "outputs": [],
   "source": [
    "# weekend_Apr_list = [1, 7, 8, 14, 15, 21, 22, 28, 29]\n",
    "\n",
    "# training set 1\n",
    "weekend_Apr_list_1 = [22, 28, 29]\n",
    "\n",
    "# training set 2\n",
    "weekend_Apr_list_2 = [1, 7, 8]\n",
    "\n",
    "# training set 3\n",
    "weekend_Apr_list_3 = [14, 15, 21]"
   ]
  },
  {
   "cell_type": "code",
   "execution_count": 8,
   "metadata": {
    "collapsed": false
   },
   "outputs": [],
   "source": [
    "link_flow_testing_set_Apr_weekend_1 = []\n",
    "for link_idx in range(24):\n",
    "    for day in weekend_Apr_list_1: \n",
    "            key = 'link_' + str(link_idx) + '_' + str(day)\n",
    "            link_flow_testing_set_Apr_weekend_1.append(link_day_minute_Apr_dict_JSON[key] [\"MD_flow\"])\n",
    "            \n",
    "link_flow_testing_set_Apr_weekend_2 = []\n",
    "for link_idx in range(24):\n",
    "    for day in weekend_Apr_list_2: \n",
    "            key = 'link_' + str(link_idx) + '_' + str(day)\n",
    "            link_flow_testing_set_Apr_weekend_2.append(link_day_minute_Apr_dict_JSON[key] [\"MD_flow\"])\n",
    "            \n",
    "link_flow_testing_set_Apr_weekend_3 = []\n",
    "for link_idx in range(24):\n",
    "    for day in weekend_Apr_list_3: \n",
    "            key = 'link_' + str(link_idx) + '_' + str(day)\n",
    "            link_flow_testing_set_Apr_weekend_3.append(link_day_minute_Apr_dict_JSON[key] [\"MD_flow\"])"
   ]
  },
  {
   "cell_type": "code",
   "execution_count": 10,
   "metadata": {
    "collapsed": false
   },
   "outputs": [],
   "source": [
    "testing_set_1 = np.matrix(link_flow_testing_set_Apr_weekend_1)\n",
    "testing_set_1 = np.matrix.reshape(testing_set_1, 24, 3)\n",
    "testing_set_1 = np.nan_to_num(testing_set_1)\n",
    "y = np.array(np.transpose(testing_set_1))\n",
    "y = y[np.all(y != 0, axis=1)]\n",
    "testing_set_1 = np.transpose(y)\n",
    "testing_set_1 = np.matrix(testing_set_1)\n",
    "\n",
    "testing_set_2 = np.matrix(link_flow_testing_set_Apr_weekend_2)\n",
    "testing_set_2 = np.matrix.reshape(testing_set_2, 24, 3)\n",
    "testing_set_2 = np.nan_to_num(testing_set_2)\n",
    "y = np.array(np.transpose(testing_set_2))\n",
    "y = y[np.all(y != 0, axis=1)]\n",
    "testing_set_2 = np.transpose(y)\n",
    "testing_set_2 = np.matrix(testing_set_2)\n",
    "\n",
    "testing_set_3 = np.matrix(link_flow_testing_set_Apr_weekend_3)\n",
    "testing_set_3 = np.matrix.reshape(testing_set_3, 24, 3)\n",
    "testing_set_3 = np.nan_to_num(testing_set_3)\n",
    "y = np.array(np.transpose(testing_set_3))\n",
    "y = y[np.all(y != 0, axis=1)]\n",
    "testing_set_3 = np.transpose(y)\n",
    "testing_set_3 = np.matrix(testing_set_3)"
   ]
  },
  {
   "cell_type": "code",
   "execution_count": 11,
   "metadata": {
    "collapsed": false
   },
   "outputs": [
    {
     "data": {
      "text/plain": [
       "(24, 3)"
      ]
     },
     "execution_count": 11,
     "metadata": {},
     "output_type": "execute_result"
    }
   ],
   "source": [
    "np.size(testing_set_2, 0), np.size(testing_set_3, 1)"
   ]
  },
  {
   "cell_type": "code",
   "execution_count": 12,
   "metadata": {
    "collapsed": false
   },
   "outputs": [
    {
     "data": {
      "text/plain": [
       "matrix([[ 2271.0299648 ],\n",
       "        [ 2255.39382617],\n",
       "        [ 2741.54180049],\n",
       "        [ 2852.025252  ],\n",
       "        [ 2846.16156744],\n",
       "        [ 2679.57743231],\n",
       "        [ 2390.79526918],\n",
       "        [ 2366.32648477],\n",
       "        [ 3048.66883983],\n",
       "        [ 3030.52110929],\n",
       "        [ 2686.03454008],\n",
       "        [ 2394.22671878],\n",
       "        [ 2190.68814633],\n",
       "        [ 2464.70118824],\n",
       "        [ 2387.50530107],\n",
       "        [ 1857.86850981],\n",
       "        [ 2359.10019505],\n",
       "        [ 2363.29532924],\n",
       "        [ 2468.9108194 ],\n",
       "        [ 2553.19370834],\n",
       "        [ 2727.99249618],\n",
       "        [ 2717.41162079],\n",
       "        [ 2339.78533751],\n",
       "        [ 2307.33575884]])"
      ]
     },
     "execution_count": 12,
     "metadata": {},
     "output_type": "execute_result"
    }
   ],
   "source": [
    "testing_set_3[:,:1]"
   ]
  },
  {
   "cell_type": "code",
   "execution_count": 13,
   "metadata": {
    "collapsed": false
   },
   "outputs": [],
   "source": [
    "# write testing sets to file\n",
    "\n",
    "zdump([testing_set_1, testing_set_2, testing_set_3], '../temp_files/testing_sets_Apr_weekend.pkz')"
   ]
  },
  {
   "cell_type": "code",
   "execution_count": null,
   "metadata": {
    "collapsed": true
   },
   "outputs": [],
   "source": []
  }
 ],
 "metadata": {
  "kernelspec": {
   "display_name": "Python 2",
   "language": "python",
   "name": "python2"
  },
  "language_info": {
   "codemirror_mode": {
    "name": "ipython",
    "version": 2
   },
   "file_extension": ".py",
   "mimetype": "text/x-python",
   "name": "python",
   "nbconvert_exporter": "python",
   "pygments_lexer": "ipython2",
   "version": "2.7.11"
  }
 },
 "nbformat": 4,
 "nbformat_minor": 0
}
