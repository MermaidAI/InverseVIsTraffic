{
 "cells": [
  {
   "cell_type": "code",
   "execution_count": 1,
   "metadata": {
    "collapsed": true
   },
   "outputs": [],
   "source": [
    "%run ../Python_files/util_data_storage_and_load.py"
   ]
  },
  {
   "cell_type": "code",
   "execution_count": 2,
   "metadata": {
    "collapsed": true
   },
   "outputs": [],
   "source": [
    "%run ../Python_files/load_dicts.py"
   ]
  },
  {
   "cell_type": "code",
   "execution_count": 3,
   "metadata": {
    "collapsed": false
   },
   "outputs": [],
   "source": [
    "%run ../Python_files/util.py"
   ]
  },
  {
   "cell_type": "code",
   "execution_count": 4,
   "metadata": {
    "collapsed": false
   },
   "outputs": [],
   "source": [
    "import numpy as np\n",
    "from numpy.linalg import inv"
   ]
  },
  {
   "cell_type": "code",
   "execution_count": 5,
   "metadata": {
    "collapsed": false
   },
   "outputs": [],
   "source": [
    "# load link flow data\n",
    "\n",
    "import json\n",
    "\n",
    "with open('../temp_files/link_day_minute_Jul_dict_JSON.json', 'r') as json_file:\n",
    "    link_day_minute_Jul_dict_JSON = json.load(json_file)"
   ]
  },
  {
   "cell_type": "code",
   "execution_count": 6,
   "metadata": {
    "collapsed": true
   },
   "outputs": [],
   "source": [
    "# weekend_Jul_list = [1, 7, 8, 14, 15, 21, 22, 28, 29]\n",
    "\n",
    "# testing set 1\n",
    "weekend_Jul_list_1 = [22, 28, 29]\n",
    "\n",
    "# testing set 2\n",
    "weekend_Jul_list_2 = [1, 7, 8]\n",
    "\n",
    "# testing set 3\n",
    "weekend_Jul_list_3 = [14, 15, 21]"
   ]
  },
  {
   "cell_type": "code",
   "execution_count": 8,
   "metadata": {
    "collapsed": false
   },
   "outputs": [],
   "source": [
    "link_flow_testing_set_Jul_weekend_1 = []\n",
    "for link_idx in range(24):\n",
    "    for day in weekend_Jul_list_1: \n",
    "            key = 'link_' + str(link_idx) + '_' + str(day)\n",
    "            link_flow_testing_set_Jul_weekend_1.append(link_day_minute_Jul_dict_JSON[key] [\"MD_flow\"])\n",
    "            \n",
    "link_flow_testing_set_Jul_weekend_2 = []\n",
    "for link_idx in range(24):\n",
    "    for day in weekend_Jul_list_2: \n",
    "            key = 'link_' + str(link_idx) + '_' + str(day)\n",
    "            link_flow_testing_set_Jul_weekend_2.append(link_day_minute_Jul_dict_JSON[key] [\"MD_flow\"])\n",
    "            \n",
    "link_flow_testing_set_Jul_weekend_3 = []\n",
    "for link_idx in range(24):\n",
    "    for day in weekend_Jul_list_3: \n",
    "            key = 'link_' + str(link_idx) + '_' + str(day)\n",
    "            link_flow_testing_set_Jul_weekend_3.append(link_day_minute_Jul_dict_JSON[key] [\"MD_flow\"])"
   ]
  },
  {
   "cell_type": "code",
   "execution_count": 9,
   "metadata": {
    "collapsed": false
   },
   "outputs": [],
   "source": [
    "testing_set_1 = np.matrix(link_flow_testing_set_Jul_weekend_1)\n",
    "testing_set_1 = np.matrix.reshape(testing_set_1, 24, 3)\n",
    "testing_set_1 = np.nan_to_num(testing_set_1)\n",
    "y = np.array(np.transpose(testing_set_1))\n",
    "y = y[np.all(y != 0, axis=1)]\n",
    "testing_set_1 = np.transpose(y)\n",
    "testing_set_1 = np.matrix(testing_set_1)\n",
    "\n",
    "testing_set_2 = np.matrix(link_flow_testing_set_Jul_weekend_2)\n",
    "testing_set_2 = np.matrix.reshape(testing_set_2, 24, 3)\n",
    "testing_set_2 = np.nan_to_num(testing_set_2)\n",
    "y = np.array(np.transpose(testing_set_2))\n",
    "y = y[np.all(y != 0, axis=1)]\n",
    "testing_set_2 = np.transpose(y)\n",
    "testing_set_2 = np.matrix(testing_set_2)\n",
    "\n",
    "testing_set_3 = np.matrix(link_flow_testing_set_Jul_weekend_3)\n",
    "testing_set_3 = np.matrix.reshape(testing_set_3, 24, 3)\n",
    "testing_set_3 = np.nan_to_num(testing_set_3)\n",
    "y = np.array(np.transpose(testing_set_3))\n",
    "y = y[np.all(y != 0, axis=1)]\n",
    "testing_set_3 = np.transpose(y)\n",
    "testing_set_3 = np.matrix(testing_set_3)"
   ]
  },
  {
   "cell_type": "code",
   "execution_count": 10,
   "metadata": {
    "collapsed": false
   },
   "outputs": [
    {
     "data": {
      "text/plain": [
       "(24, 3)"
      ]
     },
     "execution_count": 10,
     "metadata": {},
     "output_type": "execute_result"
    }
   ],
   "source": [
    "np.size(testing_set_2, 0), np.size(testing_set_3, 1)"
   ]
  },
  {
   "cell_type": "code",
   "execution_count": 11,
   "metadata": {
    "collapsed": false
   },
   "outputs": [
    {
     "data": {
      "text/plain": [
       "matrix([[ 2245.71964667],\n",
       "        [ 2261.10717521],\n",
       "        [ 2894.3807301 ],\n",
       "        [ 2839.12918419],\n",
       "        [ 2869.48016022],\n",
       "        [ 2657.34248208],\n",
       "        [ 2372.62715468],\n",
       "        [ 2399.54603656],\n",
       "        [ 3188.13600927],\n",
       "        [ 3100.38201223],\n",
       "        [ 2877.03459353],\n",
       "        [ 2328.03230795],\n",
       "        [ 2199.57222867],\n",
       "        [ 2410.93134294],\n",
       "        [ 2367.63240668],\n",
       "        [ 1899.05006167],\n",
       "        [ 2416.3479521 ],\n",
       "        [ 2329.9641648 ],\n",
       "        [ 2509.41809892],\n",
       "        [ 2612.27160189],\n",
       "        [ 2519.7769313 ],\n",
       "        [ 2281.01319165],\n",
       "        [ 2313.05281023],\n",
       "        [ 2408.61655803]])"
      ]
     },
     "execution_count": 11,
     "metadata": {},
     "output_type": "execute_result"
    }
   ],
   "source": [
    "testing_set_3[:,:1]"
   ]
  },
  {
   "cell_type": "code",
   "execution_count": 12,
   "metadata": {
    "collapsed": false
   },
   "outputs": [],
   "source": [
    "# write testing sets to file\n",
    "\n",
    "zdump([testing_set_1, testing_set_2, testing_set_3], '../temp_files/testing_sets_Jul_weekend.pkz')"
   ]
  },
  {
   "cell_type": "code",
   "execution_count": null,
   "metadata": {
    "collapsed": true
   },
   "outputs": [],
   "source": []
  }
 ],
 "metadata": {
  "kernelspec": {
   "display_name": "Python 2",
   "language": "python",
   "name": "python2"
  },
  "language_info": {
   "codemirror_mode": {
    "name": "ipython",
    "version": 2
   },
   "file_extension": ".py",
   "mimetype": "text/x-python",
   "name": "python",
   "nbconvert_exporter": "python",
   "pygments_lexer": "ipython2",
   "version": "2.7.11"
  }
 },
 "nbformat": 4,
 "nbformat_minor": 0
}
