{
 "cells": [
  {
   "cell_type": "code",
   "execution_count": 1,
   "metadata": {
    "collapsed": true
   },
   "outputs": [],
   "source": [
    "%run ../Python_files/util_data_storage_and_load.py"
   ]
  },
  {
   "cell_type": "code",
   "execution_count": 2,
   "metadata": {
    "collapsed": true
   },
   "outputs": [],
   "source": [
    "%run ../Python_files/load_dicts.py"
   ]
  },
  {
   "cell_type": "code",
   "execution_count": 3,
   "metadata": {
    "collapsed": false
   },
   "outputs": [],
   "source": [
    "%run ../Python_files/util.py"
   ]
  },
  {
   "cell_type": "code",
   "execution_count": 4,
   "metadata": {
    "collapsed": false
   },
   "outputs": [],
   "source": [
    "import numpy as np\n",
    "from numpy.linalg import inv"
   ]
  },
  {
   "cell_type": "code",
   "execution_count": 5,
   "metadata": {
    "collapsed": false
   },
   "outputs": [],
   "source": [
    "# load link flow data\n",
    "\n",
    "import json\n",
    "\n",
    "with open('../temp_files/link_day_minute_Oct_dict_JSON.json', 'r') as json_file:\n",
    "    link_day_minute_Oct_dict_JSON = json.load(json_file)"
   ]
  },
  {
   "cell_type": "code",
   "execution_count": 6,
   "metadata": {
    "collapsed": true
   },
   "outputs": [],
   "source": [
    "# week_day_Oct_list = [1, 2, 3, 4, 5, 8, 9, 10, 11, 12, 15, 16, 17, 18, 19, 22, 23, 24, 25, 26, 29, 30, 31]\n",
    "\n",
    "# testing set 1\n",
    "week_day_Oct_list_1 = [22, 23, 24, 25, 26, 29, 30, 31]\n",
    "\n",
    "# testing set 2\n",
    "week_day_Oct_list_2 = [10, 11, 12, 15, 16, 17, 18, 19]\n",
    "\n",
    "# testing set 3\n",
    "week_day_Oct_list_3 = [1, 2, 3, 4, 5, 8, 9, 10]"
   ]
  },
  {
   "cell_type": "code",
   "execution_count": 7,
   "metadata": {
    "collapsed": false
   },
   "outputs": [],
   "source": [
    "link_flow_testing_set_Oct_PM_1 = []\n",
    "for link_idx in range(24):\n",
    "    for day in week_day_Oct_list_1: \n",
    "            key = 'link_' + str(link_idx) + '_' + str(day)\n",
    "            link_flow_testing_set_Oct_PM_1.append(link_day_minute_Oct_dict_JSON[key] ['PM_flow'])\n",
    "            \n",
    "link_flow_testing_set_Oct_PM_2 = []\n",
    "for link_idx in range(24):\n",
    "    for day in week_day_Oct_list_2: \n",
    "            key = 'link_' + str(link_idx) + '_' + str(day)\n",
    "            link_flow_testing_set_Oct_PM_2.append(link_day_minute_Oct_dict_JSON[key] ['PM_flow'])\n",
    "            \n",
    "link_flow_testing_set_Oct_PM_3 = []\n",
    "for link_idx in range(24):\n",
    "    for day in week_day_Oct_list_3: \n",
    "            key = 'link_' + str(link_idx) + '_' + str(day)\n",
    "            link_flow_testing_set_Oct_PM_3.append(link_day_minute_Oct_dict_JSON[key] ['PM_flow'])"
   ]
  },
  {
   "cell_type": "code",
   "execution_count": 8,
   "metadata": {
    "collapsed": false
   },
   "outputs": [
    {
     "data": {
      "text/plain": [
       "192"
      ]
     },
     "execution_count": 8,
     "metadata": {},
     "output_type": "execute_result"
    }
   ],
   "source": [
    "len(link_flow_testing_set_Oct_PM_1)"
   ]
  },
  {
   "cell_type": "code",
   "execution_count": 9,
   "metadata": {
    "collapsed": false
   },
   "outputs": [],
   "source": [
    "testing_set_1 = np.matrix(link_flow_testing_set_Oct_PM_1)\n",
    "testing_set_1 = np.matrix.reshape(testing_set_1, 24, 8)\n",
    "testing_set_1 = np.nan_to_num(testing_set_1)\n",
    "y = np.array(np.transpose(testing_set_1))\n",
    "y = y[np.all(y != 0, axis=1)]\n",
    "testing_set_1 = np.transpose(y)\n",
    "testing_set_1 = np.matrix(testing_set_1)\n",
    "\n",
    "testing_set_2 = np.matrix(link_flow_testing_set_Oct_PM_2)\n",
    "testing_set_2 = np.matrix.reshape(testing_set_2, 24, 8)\n",
    "testing_set_2 = np.nan_to_num(testing_set_2)\n",
    "y = np.array(np.transpose(testing_set_2))\n",
    "y = y[np.all(y != 0, axis=1)]\n",
    "testing_set_2 = np.transpose(y)\n",
    "testing_set_2 = np.matrix(testing_set_2)\n",
    "\n",
    "testing_set_3 = np.matrix(link_flow_testing_set_Oct_PM_3)\n",
    "testing_set_3 = np.matrix.reshape(testing_set_3, 24, 8)\n",
    "testing_set_3 = np.nan_to_num(testing_set_3)\n",
    "y = np.array(np.transpose(testing_set_3))\n",
    "y = y[np.all(y != 0, axis=1)]\n",
    "testing_set_3 = np.transpose(y)\n",
    "testing_set_3 = np.matrix(testing_set_3)"
   ]
  },
  {
   "cell_type": "code",
   "execution_count": 10,
   "metadata": {
    "collapsed": false
   },
   "outputs": [
    {
     "data": {
      "text/plain": [
       "(8, 24)"
      ]
     },
     "execution_count": 10,
     "metadata": {},
     "output_type": "execute_result"
    }
   ],
   "source": [
    "np.size(testing_set_1, 1), np.size(testing_set_3, 0)"
   ]
  },
  {
   "cell_type": "code",
   "execution_count": 11,
   "metadata": {
    "collapsed": false
   },
   "outputs": [
    {
     "data": {
      "text/plain": [
       "matrix([[ 1239.90667158],\n",
       "        [ 1193.05444481],\n",
       "        [ 1528.17822478],\n",
       "        [ 1529.93990938],\n",
       "        [ 1579.93508375],\n",
       "        [ 1417.4739411 ],\n",
       "        [ 1258.24186222],\n",
       "        [ 1270.651244  ],\n",
       "        [ 1799.41886555],\n",
       "        [ 1761.03995783],\n",
       "        [ 1538.95498059],\n",
       "        [ 1227.08930504],\n",
       "        [ 1159.15380505],\n",
       "        [ 1374.19069228],\n",
       "        [ 1302.00077861],\n",
       "        [  916.59012335],\n",
       "        [ 1248.80019236],\n",
       "        [ 1244.17795266],\n",
       "        [ 1540.52072767],\n",
       "        [ 1608.30111089],\n",
       "        [ 1459.99282577],\n",
       "        [ 1474.65094977],\n",
       "        [ 1212.27937282],\n",
       "        [ 1293.42321682]])"
      ]
     },
     "execution_count": 11,
     "metadata": {},
     "output_type": "execute_result"
    }
   ],
   "source": [
    "testing_set_3[:,:1]"
   ]
  },
  {
   "cell_type": "code",
   "execution_count": 12,
   "metadata": {
    "collapsed": false
   },
   "outputs": [],
   "source": [
    "# write testing sets to file\n",
    "\n",
    "zdump([testing_set_1, testing_set_2, testing_set_3], '../temp_files/testing_sets_Oct_PM.pkz')"
   ]
  },
  {
   "cell_type": "code",
   "execution_count": null,
   "metadata": {
    "collapsed": true
   },
   "outputs": [],
   "source": []
  }
 ],
 "metadata": {
  "kernelspec": {
   "display_name": "Python 2",
   "language": "python",
   "name": "python2"
  },
  "language_info": {
   "codemirror_mode": {
    "name": "ipython",
    "version": 2
   },
   "file_extension": ".py",
   "mimetype": "text/x-python",
   "name": "python",
   "nbconvert_exporter": "python",
   "pygments_lexer": "ipython2",
   "version": "2.7.11"
  }
 },
 "nbformat": 4,
 "nbformat_minor": 0
}
