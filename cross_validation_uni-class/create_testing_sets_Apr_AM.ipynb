{
 "cells": [
  {
   "cell_type": "code",
   "execution_count": 1,
   "metadata": {
    "collapsed": true
   },
   "outputs": [],
   "source": [
    "%run ../Python_files/util_data_storage_and_load.py"
   ]
  },
  {
   "cell_type": "code",
   "execution_count": 2,
   "metadata": {
    "collapsed": false
   },
   "outputs": [],
   "source": [
    "%run ../Python_files/load_dicts.py"
   ]
  },
  {
   "cell_type": "code",
   "execution_count": 3,
   "metadata": {
    "collapsed": false
   },
   "outputs": [],
   "source": [
    "%run ../Python_files/util.py"
   ]
  },
  {
   "cell_type": "code",
   "execution_count": 4,
   "metadata": {
    "collapsed": false
   },
   "outputs": [],
   "source": [
    "import numpy as np\n",
    "from numpy.linalg import inv"
   ]
  },
  {
   "cell_type": "code",
   "execution_count": 5,
   "metadata": {
    "collapsed": false
   },
   "outputs": [],
   "source": [
    "# load link flow data\n",
    "\n",
    "import json\n",
    "\n",
    "with open('../temp_files/link_day_minute_Apr_dict_JSON_adjusted.json', 'r') as json_file:\n",
    "    link_day_minute_Apr_dict_JSON = json.load(json_file)"
   ]
  },
  {
   "cell_type": "code",
   "execution_count": 6,
   "metadata": {
    "collapsed": true
   },
   "outputs": [],
   "source": [
    "# week_day_Apr_list = [2, 3, 4, 5, 6, 9, 10, 11, 12, 13, 16, 17, 18, 19, 20, 23, 24, 25, 26, 27, 30]\n",
    "\n",
    "# testing set 1\n",
    "week_day_Apr_list_1 = [20, 23, 24, 25, 26, 27, 30]\n",
    "\n",
    "# testing set 2\n",
    "week_day_Apr_list_2 = [11, 12, 13, 16, 17, 18, 19]\n",
    "\n",
    "# testing set 3\n",
    "week_day_Apr_list_3 = [2, 3, 4, 5, 6, 9, 10]"
   ]
  },
  {
   "cell_type": "code",
   "execution_count": 7,
   "metadata": {
    "collapsed": false
   },
   "outputs": [],
   "source": [
    "link_flow_testing_set_Apr_AM_1 = []\n",
    "for link_idx in range(24):\n",
    "    for day in week_day_Apr_list_1: \n",
    "            key = 'link_' + str(link_idx) + '_' + str(day)\n",
    "            link_flow_testing_set_Apr_AM_1.append(link_day_minute_Apr_dict_JSON[key] ['AM_flow'])\n",
    "            \n",
    "link_flow_testing_set_Apr_AM_2 = []\n",
    "for link_idx in range(24):\n",
    "    for day in week_day_Apr_list_2: \n",
    "            key = 'link_' + str(link_idx) + '_' + str(day)\n",
    "            link_flow_testing_set_Apr_AM_2.append(link_day_minute_Apr_dict_JSON[key] ['AM_flow'])\n",
    "            \n",
    "link_flow_testing_set_Apr_AM_3 = []\n",
    "for link_idx in range(24):\n",
    "    for day in week_day_Apr_list_3: \n",
    "            key = 'link_' + str(link_idx) + '_' + str(day)\n",
    "            link_flow_testing_set_Apr_AM_3.append(link_day_minute_Apr_dict_JSON[key] ['AM_flow'])"
   ]
  },
  {
   "cell_type": "code",
   "execution_count": 8,
   "metadata": {
    "collapsed": false
   },
   "outputs": [
    {
     "data": {
      "text/plain": [
       "168"
      ]
     },
     "execution_count": 8,
     "metadata": {},
     "output_type": "execute_result"
    }
   ],
   "source": [
    "len(link_flow_testing_set_Apr_AM_1)"
   ]
  },
  {
   "cell_type": "code",
   "execution_count": 9,
   "metadata": {
    "collapsed": false
   },
   "outputs": [],
   "source": [
    "testing_set_1 = np.matrix(link_flow_testing_set_Apr_AM_1)\n",
    "testing_set_1 = np.matrix.reshape(testing_set_1, 24, 7)\n",
    "testing_set_1 = np.nan_to_num(testing_set_1)\n",
    "y = np.array(np.transpose(testing_set_1))\n",
    "y = y[np.all(y != 0, axis=1)]\n",
    "testing_set_1 = np.transpose(y)\n",
    "testing_set_1 = np.matrix(testing_set_1)\n",
    "\n",
    "testing_set_2 = np.matrix(link_flow_testing_set_Apr_AM_2)\n",
    "testing_set_2 = np.matrix.reshape(testing_set_2, 24, 7)\n",
    "testing_set_2 = np.nan_to_num(testing_set_2)\n",
    "y = np.array(np.transpose(testing_set_2))\n",
    "y = y[np.all(y != 0, axis=1)]\n",
    "testing_set_2 = np.transpose(y)\n",
    "testing_set_2 = np.matrix(testing_set_2)\n",
    "\n",
    "testing_set_3 = np.matrix(link_flow_testing_set_Apr_AM_3)\n",
    "testing_set_3 = np.matrix.reshape(testing_set_3, 24, 7)\n",
    "testing_set_3 = np.nan_to_num(testing_set_3)\n",
    "y = np.array(np.transpose(testing_set_3))\n",
    "y = y[np.all(y != 0, axis=1)]\n",
    "testing_set_3 = np.transpose(y)\n",
    "testing_set_3 = np.matrix(testing_set_3)"
   ]
  },
  {
   "cell_type": "code",
   "execution_count": 10,
   "metadata": {
    "collapsed": false
   },
   "outputs": [
    {
     "data": {
      "text/plain": [
       "(24, 7)"
      ]
     },
     "execution_count": 10,
     "metadata": {},
     "output_type": "execute_result"
    }
   ],
   "source": [
    "np.size(testing_set_2, 0), np.size(testing_set_3, 1)"
   ]
  },
  {
   "cell_type": "code",
   "execution_count": 11,
   "metadata": {
    "collapsed": false
   },
   "outputs": [
    {
     "data": {
      "text/plain": [
       "matrix([[  3515.2859834 ],\n",
       "        [  2659.63837302],\n",
       "        [  4191.43371581],\n",
       "        [  5047.08132619],\n",
       "        [  3685.16393886],\n",
       "        [  6677.96138391],\n",
       "        [  5649.82595609],\n",
       "        [  1801.38090067],\n",
       "        [ 10860.81409578],\n",
       "        [ 12910.50601855],\n",
       "        [  8909.53023814],\n",
       "        [ 10708.2833708 ],\n",
       "        [ 11659.63581532],\n",
       "        [  2323.42567499],\n",
       "        [  7917.25948035],\n",
       "        [  4086.24062439],\n",
       "        [    57.23864456],\n",
       "        [  5545.00372947],\n",
       "        [ 11276.30460255],\n",
       "        [  7820.80524094],\n",
       "        [  9993.88742627],\n",
       "        [  7961.62170297],\n",
       "        [  6189.16507155],\n",
       "        [   701.39998664]])"
      ]
     },
     "execution_count": 11,
     "metadata": {},
     "output_type": "execute_result"
    }
   ],
   "source": [
    "testing_set_3[:,:1]"
   ]
  },
  {
   "cell_type": "code",
   "execution_count": 12,
   "metadata": {
    "collapsed": false
   },
   "outputs": [],
   "source": [
    "# write testing sets to file\n",
    "\n",
    "zdump([testing_set_1, testing_set_2, testing_set_3], '../temp_files/testing_sets_Apr_AM.pkz')"
   ]
  },
  {
   "cell_type": "code",
   "execution_count": null,
   "metadata": {
    "collapsed": true
   },
   "outputs": [],
   "source": []
  }
 ],
 "metadata": {
  "kernelspec": {
   "display_name": "Python 2",
   "language": "python",
   "name": "python2"
  },
  "language_info": {
   "codemirror_mode": {
    "name": "ipython",
    "version": 2
   },
   "file_extension": ".py",
   "mimetype": "text/x-python",
   "name": "python",
   "nbconvert_exporter": "python",
   "pygments_lexer": "ipython2",
   "version": "2.7.11"
  }
 },
 "nbformat": 4,
 "nbformat_minor": 0
}
