{
 "cells": [
  {
   "cell_type": "code",
   "execution_count": 1,
   "metadata": {
    "collapsed": false
   },
   "outputs": [],
   "source": [
    "# based on https://github.com/chkwon/TrafficAssignment.jl\n",
    "\n",
    "include(joinpath(\"/home/jzh/Dropbox/Research/\",\n",
    "\"Data-driven_estimation_inverse_optimization\", \n",
    "\"Experiments/InverseVIsTraffic/Julia_files/load_network_uni-class.jl\"))\n",
    "\n",
    "using Graphs\n",
    "\n",
    "function create_graph(start_node, end_node)\n",
    "    @assert Base.length(start_node)==Base.length(end_node)\n",
    "\n",
    "    no_node = max(maximum(start_node), maximum(end_node))\n",
    "    no_arc = Base.length(start_node)\n",
    "\n",
    "    graph = simple_inclist(no_node)\n",
    "    for i=1:no_arc\n",
    "        add_edge!(graph, start_node[i], end_node[i])\n",
    "    end\n",
    "    return graph\n",
    "end\n",
    "\n",
    "function get_vector(state, origin, destination, link_dic)\n",
    "    current = destination\n",
    "    parent = -1\n",
    "    x = zeros(Int, maximum(link_dic))\n",
    "\n",
    "    while parent != origin\n",
    "        parent = state.parents[current]\n",
    "\n",
    "        link_idx = link_dic[parent,current]\n",
    "\n",
    "        if link_idx != 0\n",
    "            x[link_idx] = 1\n",
    "        end\n",
    "\n",
    "        current = parent\n",
    "    end\n",
    "\n",
    "    return x\n",
    "end\n",
    "\n",
    "ta_data = load_ta_network(\"East Massachusetts\")\n",
    "\n",
    "# unpacking data from ta_data\n",
    "network_name = ta_data.network_name\n",
    "\n",
    "number_of_zones = ta_data.number_of_zones\n",
    "number_of_nodes = ta_data.number_of_nodes\n",
    "first_thru_node = ta_data.first_thru_node\n",
    "number_of_links = ta_data.number_of_links\n",
    "\n",
    "start_node = ta_data.start_node\n",
    "end_node = ta_data.end_node\n",
    "capacity = ta_data.capacity\n",
    "link_length = ta_data.link_length\n",
    "\n",
    "free_flow_time = ta_data.free_flow_time\n",
    "B = ta_data.B\n",
    "power = ta_data.power\n",
    "speed_limit = ta_data.speed_limit\n",
    "toll = ta_data.toll\n",
    "link_type = ta_data.link_type\n",
    "number_of_zones = ta_data.number_of_zones\n",
    "total_od_flow = ta_data.total_od_flow\n",
    "travel_demand = ta_data.travel_demand\n",
    "od_pairs = ta_data.od_pairs\n",
    "\n",
    "toll_factor = ta_data.toll_factor\n",
    "distance_factor = ta_data.distance_factor\n",
    "\n",
    "best_objective = ta_data.best_objective\n",
    "\n",
    "# preparing a graph\n",
    "graph = create_graph(start_node, end_node)\n",
    "link_dic = sparse(start_node, end_node, 1:number_of_links);"
   ]
  },
  {
   "cell_type": "code",
   "execution_count": 2,
   "metadata": {
    "collapsed": false
   },
   "outputs": [
    {
     "data": {
      "text/plain": [
       "MSA (generic function with 1 method)"
      ]
     },
     "execution_count": 2,
     "metadata": {},
     "output_type": "execute_result"
    }
   ],
   "source": [
    "function MSA(coeffs) \n",
    "    polyEval(coeffs, pt) = sum([coeffs[i] * pt^(i-1) for i = 1:length(coeffs)]) \n",
    "\n",
    "    function BPR(x)\n",
    "        bpr = similar(x)\n",
    "        for i=1:length(bpr)\n",
    "            bpr[i] = free_flow_time[i] * polyEval( coeffs, (x[i]/capacity[i]) ) \n",
    "        end\n",
    "        return bpr\n",
    "    end\n",
    "\n",
    "    function all_or_nothing(travel_time)\n",
    "        state = []\n",
    "        path = []\n",
    "        x = zeros(size(start_node))\n",
    "\n",
    "        for r=1:size(travel_demand)[1]\n",
    "            # for each origin node r, find shortest paths to all destination nodes\n",
    "            state = dijkstra_shortest_paths(graph, travel_time, r)\n",
    "\n",
    "            for s=1:size(travel_demand)[2]\n",
    "                # for each destination node s, find the shortest-path vector\n",
    "                # load travel demand\n",
    "                x = x + travel_demand[r,s] * get_vector(state, r, s, link_dic)\n",
    "            end\n",
    "        end\n",
    "\n",
    "        return x\n",
    "    end\n",
    "\n",
    "    # Finding a starting feasible solution\n",
    "    travel_time = BPR(zeros(number_of_links))\n",
    "    xl = all_or_nothing(travel_time)\n",
    "\n",
    "    max_iter_no = 1e12\n",
    "    l = 1\n",
    "    #average_excess_cost = 1\n",
    "    tol = 1e-5\n",
    "\n",
    "    while l < max_iter_no\n",
    "        l += 1\n",
    "\n",
    "        xl_old = xl\n",
    "\n",
    "        # Finding yl\n",
    "        travel_time = BPR(xl)\n",
    "\n",
    "        yl = all_or_nothing(travel_time)\n",
    "\n",
    "        xl = xl + (yl - xl)/l\n",
    "\n",
    "        xl_new = xl\n",
    "\n",
    "        relative_gap = norm(xl_new - xl_old, 1) / norm(xl_new, 1)\n",
    "\n",
    "        if relative_gap < tol\n",
    "            break\n",
    "        end\n",
    "    end\n",
    "    \n",
    "    return xl\n",
    "end"
   ]
  },
  {
   "cell_type": "code",
   "execution_count": 4,
   "metadata": {
    "collapsed": false
   },
   "outputs": [],
   "source": [
    "# getting the coefficients of the costs\n",
    "coeffs_dict_Apr_AM = readall(\"../temp_files/coeffs_dict_Apr_AM.json\")\n",
    "coeffs_dict_Apr_AM = JSON.parse(coeffs_dict_Apr_AM)\n",
    "\n",
    "xl = Dict{(Int64,Float64,Float64,Int64),Array{Float64,1}}()\n",
    "\n",
    "deg_grid = [3:7]\n",
    "c_grid = 1.:.5:3.\n",
    "lamb_grid = [10. .^(-5:3)]\n",
    "\n",
    "for deg in deg_grid\n",
    "    for c in c_grid\n",
    "        for lam in lamb_grid\n",
    "            coeffs_1 = coeffs_dict_Apr_AM[\"($(deg),$(c),$(lam),1)\"]\n",
    "            coeffs_2 = coeffs_dict_Apr_AM[\"($(deg),$(c),$(lam),2)\"]\n",
    "            coeffs_3 = coeffs_dict_Apr_AM[\"($(deg),$(c),$(lam),3)\"]\n",
    "            xl[(deg, c, lam, 1)] = MSA(coeffs_1)\n",
    "            xl[(deg, c, lam, 2)] = MSA(coeffs_2)\n",
    "            xl[(deg, c, lam, 3)] = MSA(coeffs_3)\n",
    "        end\n",
    "    end\n",
    "end"
   ]
  },
  {
   "cell_type": "code",
   "execution_count": 8,
   "metadata": {
    "collapsed": false
   },
   "outputs": [
    {
     "data": {
      "text/plain": [
       "9-element Array{Float64,1}:\n",
       "    1.0e-5\n",
       "    0.0001\n",
       "    0.001 \n",
       "    0.01  \n",
       "    0.1   \n",
       "    1.0   \n",
       "   10.0   \n",
       "  100.0   \n",
       " 1000.0   "
      ]
     },
     "execution_count": 8,
     "metadata": {},
     "output_type": "execute_result"
    }
   ],
   "source": [
    "lamb_grid"
   ]
  },
  {
   "cell_type": "code",
   "execution_count": 5,
   "metadata": {
    "collapsed": true
   },
   "outputs": [],
   "source": [
    "outfile = open(\"../temp_files/uni-class_traffic_assignment_MSA_flows_Apr_AM.json\", \"w\")\n",
    "\n",
    "JSON.print(outfile, xl)\n",
    "\n",
    "close(outfile)"
   ]
  },
  {
   "cell_type": "code",
   "execution_count": 6,
   "metadata": {
    "collapsed": false
   },
   "outputs": [
    {
     "data": {
      "text/plain": [
       "Dict{(Int64,Float64,Float64,Int64),Array{Float64,1}} with 675 entries:\n",
       "  (3,1.5,1.0,1)    => [1263.4863185342376,912.1085041783072,1441.9159304657621,…\n",
       "  (3,1.0,0.0001,1) => [1278.6061423231524,912.102904003774,1426.7961066768473,1…\n",
       "  (3,3.0,10.0,2)   => [1279.4346673646353,912.1029040040648,1425.9675816353645,…\n",
       "  (4,1.0,0.01,2)   => [1253.671022092031,912.1029040035999,1451.7312269079687,1…\n",
       "  (4,2.5,10.0,1)   => [1266.7723590848464,912.1029040037038,1438.6298899151534,…\n",
       "  (6,1.5,1.0,3)    => [1245.7365359484297,912.1029040020902,1459.66571305157,10…\n",
       "  (5,1.0,0.1,2)    => [1243.891909452202,912.1029040028566,1461.5103395477977,1…\n",
       "  (4,3.0,0.001,1)  => [1288.998960068451,912.102904004478,1416.4032889315488,10…\n",
       "  (5,1.5,1.0e-5,3) => [2705.4022489999998,912.1029219999999,0.0,1008.7945050000…\n",
       "  (7,1.0,0.1,1)    => [1239.5401322325874,912.1207486254043,1465.9148824400318,…\n",
       "  (7,1.5,100.0,2)  => [1241.718264073906,912.1208234068026,1463.736971723595,10…\n",
       "  (4,1.0,10.0,3)   => [1248.0400385455648,912.1029040028794,1457.362210454435,1…\n",
       "  (5,1.5,1.0,3)    => [1249.2400223373525,912.1029040035734,1456.1622266626473,…\n",
       "  (6,1.0,0.1,3)    => [1241.8308032085206,912.1208220290225,1463.6244285149514,…\n",
       "  (6,1.0,1000.0,2) => [1240.153156029932,912.1207664064285,1465.301911220289,10…\n",
       "  (6,1.5,0.1,1)    => [1253.398325948835,912.1029040035985,1452.0039230511647,1…\n",
       "  (6,1.5,100.0,1)  => [1244.4892166427182,912.1029040028602,1460.9130323572815,…\n",
       "  (6,1.5,1.0,1)    => [1245.2075921369849,912.1029040020875,1460.1946568630149,…\n",
       "  (4,2.0,1000.0,3) => [1261.1918442788847,912.1084781591343,1444.210404721115,1…\n",
       "  (5,2.0,0.0001,1) => [2705.4022489999998,744.0789078441693,0.0,1176.8185191558…\n",
       "  (4,2.0,1.0e-5,3) => [2705.4022489999998,912.1029219999999,0.0,1008.7945050000…\n",
       "  (6,1.0,0.1,1)    => [1241.2227599386742,912.1208027623247,1464.232414814134,1…\n",
       "  (6,2.0,0.001,2)  => [2705.4022489999998,719.0243461650483,0.0,1201.8730808349…\n",
       "  (5,2.5,10.0,1)   => [1258.840670243315,912.1029040050404,1446.5615787566849,1…\n",
       "  (7,2.0,0.01,1)   => [2705.4022489999998,743.9340135177843,0.0,1176.9634134822…\n",
       "  ⋮                => ⋮"
      ]
     },
     "execution_count": 6,
     "metadata": {},
     "output_type": "execute_result"
    }
   ],
   "source": [
    "xl"
   ]
  },
  {
   "cell_type": "code",
   "execution_count": 7,
   "metadata": {
    "collapsed": false
   },
   "outputs": [
    {
     "data": {
      "text/plain": [
       "24-element Array{Float64,1}:\n",
       " 1263.49 \n",
       "  912.109\n",
       " 1441.92 \n",
       " 1008.79 \n",
       " 1291.6  \n",
       " 1190.37 \n",
       " 1350.08 \n",
       " 1153.76 \n",
       " 1472.21 \n",
       " 1113.8  \n",
       " 1191.93 \n",
       "  808.18 \n",
       "  890.101\n",
       " 1214.59 \n",
       " 1043.35 \n",
       "  933.357\n",
       " 1102.06 \n",
       " 1171.0  \n",
       " 1133.23 \n",
       " 1638.77 \n",
       "  952.263\n",
       " 1200.66 \n",
       " 1253.44 \n",
       " 1182.41 "
      ]
     },
     "execution_count": 7,
     "metadata": {},
     "output_type": "execute_result"
    }
   ],
   "source": [
    "xl[(3,1.5,1.0,1)]"
   ]
  },
  {
   "cell_type": "code",
   "execution_count": null,
   "metadata": {
    "collapsed": true
   },
   "outputs": [],
   "source": []
  }
 ],
 "metadata": {
  "kernelspec": {
   "display_name": "Julia 0.3.7",
   "language": "julia",
   "name": "julia-0.3"
  },
  "language_info": {
   "file_extension": ".jl",
   "mimetype": "application/julia",
   "name": "julia",
   "version": "0.3.7"
  }
 },
 "nbformat": 4,
 "nbformat_minor": 0
}
