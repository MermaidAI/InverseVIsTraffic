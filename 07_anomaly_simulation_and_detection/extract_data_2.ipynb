{
 "cells": [
  {
   "cell_type": "code",
   "execution_count": 1,
   "metadata": {
    "collapsed": false
   },
   "outputs": [
    {
     "name": "stdout",
     "output_type": "stream",
     "text": [
      "No dicts found; please check load_dicts...\n"
     ]
    }
   ],
   "source": [
    "%run ../Python_files/util.py\n",
    "%run ../Python_files/load_dicts.py"
   ]
  },
  {
   "cell_type": "code",
   "execution_count": 2,
   "metadata": {
    "collapsed": false
   },
   "outputs": [
    {
     "data": {
      "text/plain": [
       "(17500.0, 28500.0, 15000.0, 42000.0)"
      ]
     },
     "execution_count": 2,
     "metadata": {},
     "output_type": "execute_result"
    }
   ],
   "source": [
    "tmc_capac_dict_AM['129-04138'] * 2.5, \\\n",
    "tmc_capac_dict_MD['129-04138'] * 4.75, \\\n",
    "tmc_capac_dict_PM['129-04138'] * 2.5, \\\n",
    "tmc_capac_dict_NT['129-04138'] * 7"
   ]
  },
  {
   "cell_type": "markdown",
   "metadata": {},
   "source": [
    "## raw data from CTPS capacity dataset\n",
    "\n",
    "ID\tLENGTH\tDIR\tANODE\tBNODE\tCTPS_FUNCT\tSTREETNAME\tROUTENUMBE\tSCEN_00_LA\tSCEN_00_AB\tSCEN_00_BA\tSCEN_00_A1\tSCEN_00_B1\tSCEN_00_A2\tSCEN_00_B2\tSCEN_00_A3\tSCEN_00_B3\tAB_AMCAPAC\tBA_AMCAPAC\tAB_MDCAPAC\tBA_MDCAPAC\tAB_PMCAPAC\tBA_PMCAPAC\tAB_NTCAPAC\tBA_NTCAPAC\tROADINVENT\n",
    "\n",
    "56573\t0.260468\t1\t73398\t73394\t1\tINTERSTATE 93\t93\t2000\t3.5\t1\t3\t1\t3\t1\t3\t1\t17500\t5000\t28500\t9500\t15000\t5000\t42000\t14000\t1132000"
   ]
  },
  {
   "cell_type": "code",
   "execution_count": 3,
   "metadata": {
    "collapsed": false
   },
   "outputs": [],
   "source": [
    "filtered_tmc_speed_dict = zload('../temp_files/tmc_speed_dict_for_anomaly_detection.pkz')"
   ]
  },
  {
   "cell_type": "code",
   "execution_count": 4,
   "metadata": {
    "collapsed": false
   },
   "outputs": [],
   "source": [
    "tmc = '129-04138'\n",
    "month = 1\n",
    "day = 9\n",
    "\n",
    "for hour in range(24):\n",
    "    for minute in range(60):\n",
    "        key = str(tmc) + '_' + str(month) + '_' + str(day) + '_' + str(hour) + '_' + str(minute)\n",
    "        \n",
    "#         print(hour, minute, float(filtered_tmc_speed_dict[key].split('_')[0]))"
   ]
  },
  {
   "cell_type": "code",
   "execution_count": 5,
   "metadata": {
    "collapsed": false
   },
   "outputs": [
    {
     "data": {
      "text/plain": [
       "73.0"
      ]
     },
     "execution_count": 5,
     "metadata": {},
     "output_type": "execute_result"
    }
   ],
   "source": [
    "tmc_ref_speed_dict[tmc]"
   ]
  },
  {
   "cell_type": "code",
   "execution_count": 6,
   "metadata": {
    "collapsed": false
   },
   "outputs": [
    {
     "data": {
      "text/plain": [
       "mpf('4.6056431323658762')"
      ]
     },
     "execution_count": 6,
     "metadata": {},
     "output_type": "execute_result"
    }
   ],
   "source": [
    "from sympy import Symbol, nsolve\n",
    "import sympy\n",
    "x = Symbol('x')\n",
    "nsolve(73*x - x**2 - 315, 0)"
   ]
  },
  {
   "cell_type": "markdown",
   "metadata": {},
   "source": [
    "## Simulating a car accident\n",
    "The road segment has three lanes, and an accident happened in one of the lanes, causing a sudden slow-down of the traffic. The instant flow would not change, while the capacity ($m$) would be reduced to be two thirds of the original value. Thus, using Greenshield's model, we have\n",
    "$$4\\left( {\\frac{2}{3}m} \\right)\\left[ {\\frac{{{v_2}}}{{{v_0}}} - {{\\left( {\\frac{{{v_2}}}{{{v_0}}}} \\right)}^2}} \\right] = 4m\\left[ {\\frac{{{v_1}}}{{{v_0}}} - {{\\left( {\\frac{{{v_1}}}{{{v_0}}}} \\right)}^2}} \\right], \\quad (1)$$\n",
    "where $v_1 = 70$, and $v_0 = 73$.\n",
    "\n",
    "Solving (1), we obtain $v_2 = 4.6056431323658762$. Note that we only care about the road with heavy congestion in this case.\n",
    "\n",
    "Assume that the accident happened during 17:15 - 17:45, Jan. 9, 2012."
   ]
  },
  {
   "cell_type": "code",
   "execution_count": 7,
   "metadata": {
    "collapsed": false
   },
   "outputs": [],
   "source": [
    "tmc = '129-04138'\n",
    "month = 1\n",
    "day = 9\n",
    "\n",
    "traffic_data_with_anomaly = {}\n",
    "\n",
    "for hour in range(24):\n",
    "    for minute in range(60):\n",
    "        key = str(tmc) + '_' + str(month) + '_' + str(day) + '_' + str(hour) + '_' + str(minute)\n",
    "        traffic_data_with_anomaly[key] = float(filtered_tmc_speed_dict[key].split('_')[0])\n",
    "        if hour == 17 and minute > 15 and minute < 46:\n",
    "            traffic_data_with_anomaly[key] = 4.6056431323658762\n",
    "#         print(hour, minute, traffic_data_with_anomaly[key])\n",
    "\n",
    "zdump(traffic_data_with_anomaly, '../temp_files/traffic_data_with_anomaly.pkz')"
   ]
  },
  {
   "cell_type": "code",
   "execution_count": 8,
   "metadata": {
    "collapsed": false
   },
   "outputs": [],
   "source": [
    "# extract reference traffic data, for the purpose of estimating PLs\n",
    "\n",
    "tmc = '129-04138'\n",
    "month = 1\n",
    "day_list = [2, 3, 4, 5, 6, 9]\n",
    "\n",
    "traffic_data_ref = {}\n",
    "\n",
    "for hour in range(24):\n",
    "    for minute in range(60):\n",
    "        for day in day_list:\n",
    "            key = str(tmc) + '_' + str(month) + '_' + str(day) + '_' + str(hour) + '_' + str(minute)\n",
    "            traffic_data_ref[key] = float(filtered_tmc_speed_dict[key].split('_')[0])\n",
    "#         print(hour, minute, float(filtered_tmc_speed_dict[key].split('_')[0]))\n",
    "\n",
    "zdump(traffic_data_ref, '../temp_files/traffic_data_ref.pkz')"
   ]
  },
  {
   "cell_type": "code",
   "execution_count": null,
   "metadata": {
    "collapsed": true
   },
   "outputs": [],
   "source": []
  }
 ],
 "metadata": {
  "kernelspec": {
   "display_name": "Python 2",
   "language": "python",
   "name": "python2"
  },
  "language_info": {
   "codemirror_mode": {
    "name": "ipython",
    "version": 2
   },
   "file_extension": ".py",
   "mimetype": "text/x-python",
   "name": "python",
   "nbconvert_exporter": "python",
   "pygments_lexer": "ipython2",
   "version": "2.7.11"
  }
 },
 "nbformat": 4,
 "nbformat_minor": 0
}
