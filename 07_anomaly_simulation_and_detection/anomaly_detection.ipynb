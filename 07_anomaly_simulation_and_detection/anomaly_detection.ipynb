{
 "cells": [
  {
   "cell_type": "code",
   "execution_count": 1,
   "metadata": {
    "collapsed": false
   },
   "outputs": [
    {
     "name": "stdout",
     "output_type": "stream",
     "text": [
      "No dicts found; please check load_dicts...\n"
     ]
    },
    {
     "name": "stderr",
     "output_type": "stream",
     "text": [
      "/home/jzh/anaconda2/lib/python2.7/site-packages/matplotlib/font_manager.py:273: UserWarning: Matplotlib is building the font cache using fc-list. This may take a moment.\n",
      "  warnings.warn('Matplotlib is building the font cache using fc-list. This may take a moment.')\n"
     ]
    }
   ],
   "source": [
    "%run ../Python_files/util.py\n",
    "%run ../Python_files/util_ano_detec.py\n",
    "%run ../Python_files/load_dicts.py\n",
    "\n",
    "traffic_data_with_anomaly = zload('../temp_files/traffic_data_with_anomaly.pkz')\n",
    "traffic_data_ref = zload('../temp_files/traffic_data_ref.pkz')"
   ]
  },
  {
   "cell_type": "code",
   "execution_count": 2,
   "metadata": {
    "collapsed": false
   },
   "outputs": [],
   "source": [
    "def quantize(x, n, inf, sup):\n",
    "    \"\"\"\n",
    "    x: the input data (scalar)\n",
    "    n: quantization level\n",
    "    inf: the lower bound of the input data x\n",
    "    sup: the upper bound of the input data x\n",
    "    -------------------\n",
    "    Example:\n",
    "    >>> quantize(4, 3, 2, 8)\n",
    "    >>> 1\n",
    "    >>> quantize(6.9, 3, 2, 8)\n",
    "    >>> 2\n",
    "    \"\"\"\n",
    "    if (x < inf):\n",
    "        return 0\n",
    "    elif (x >= sup):\n",
    "        return (n-1)\n",
    "    else:\n",
    "        lev_length = (sup - inf) / float(n)\n",
    "        return int(np.floor((x - inf) / lev_length))"
   ]
  },
  {
   "cell_type": "code",
   "execution_count": 3,
   "metadata": {
    "collapsed": false
   },
   "outputs": [],
   "source": [
    "tmc = '129-04138'\n",
    "month = 1\n",
    "day_list = [2, 3, 4, 5, 6]\n",
    "\n",
    "traffic_data_ref_list = []\n",
    "for hour in range(24):\n",
    "    for minute in range(60):\n",
    "        for day in day_list:\n",
    "            key = str(tmc) + '_' + str(month) + '_' + str(day) + '_' + str(hour) + '_' + str(minute)\n",
    "            traffic_data_ref_list.append(traffic_data_ref[key])"
   ]
  },
  {
   "cell_type": "code",
   "execution_count": 4,
   "metadata": {
    "collapsed": true
   },
   "outputs": [],
   "source": [
    "N = 10\n",
    "inf = min(traffic_data_ref_list)\n",
    "sup = max(traffic_data_ref_list)"
   ]
  },
  {
   "cell_type": "code",
   "execution_count": 5,
   "metadata": {
    "collapsed": false
   },
   "outputs": [],
   "source": [
    "traffic_data_ref_list_quantized = [quantize(s, N, inf, sup) for s in traffic_data_ref_list]"
   ]
  },
  {
   "cell_type": "code",
   "execution_count": 6,
   "metadata": {
    "collapsed": true
   },
   "outputs": [],
   "source": [
    "mapping_dict = {}\n",
    "\n",
    "for i in range(N):\n",
    "    for j in range(N):\n",
    "        mapping_dict[(i, j)] = i * N + j"
   ]
  },
  {
   "cell_type": "code",
   "execution_count": 7,
   "metadata": {
    "collapsed": false
   },
   "outputs": [],
   "source": [
    "traffic_data_ref_list_quantized_trans = [mapping_dict[(traffic_data_ref_list_quantized[i], \\\n",
    "                                                       traffic_data_ref_list_quantized[i+1])] \\\n",
    "                                         for i in range(len(traffic_data_ref_list_quantized)-1)]"
   ]
  },
  {
   "cell_type": "code",
   "execution_count": 8,
   "metadata": {
    "collapsed": true
   },
   "outputs": [],
   "source": [
    "tmc = '129-04138'\n",
    "month = 1\n",
    "day = 9\n",
    "\n",
    "traffic_data_with_anomaly_list = []\n",
    "for hour in range(24):\n",
    "    for minute in range(60):\n",
    "        key = str(tmc) + '_' + str(month) + '_' + str(day) + '_' + str(hour) + '_' + str(minute)\n",
    "        traffic_data_with_anomaly_list.append(traffic_data_with_anomaly[key])"
   ]
  },
  {
   "cell_type": "code",
   "execution_count": 9,
   "metadata": {
    "collapsed": false
   },
   "outputs": [],
   "source": [
    "traffic_data_with_anomaly_list_quantized = [quantize(s, N, inf, sup) for s in traffic_data_with_anomaly_list]"
   ]
  },
  {
   "cell_type": "code",
   "execution_count": 10,
   "metadata": {
    "collapsed": false
   },
   "outputs": [],
   "source": [
    "traffic_data_with_anomaly_list_quantized_trans = \\\n",
    "[mapping_dict[(traffic_data_with_anomaly_list_quantized[i], \\\n",
    "               traffic_data_with_anomaly_list_quantized[i+1])] \\\n",
    " for i in range(len(traffic_data_with_anomaly_list_quantized)-1)]"
   ]
  },
  {
   "cell_type": "code",
   "execution_count": 11,
   "metadata": {
    "collapsed": true
   },
   "outputs": [],
   "source": [
    "mu_1 = mu_est(traffic_data_ref_list_quantized_trans, N)  # normal PL"
   ]
  },
  {
   "cell_type": "code",
   "execution_count": 12,
   "metadata": {
    "collapsed": false
   },
   "outputs": [
    {
     "name": "stderr",
     "output_type": "stream",
     "text": [
      "<string>:443: RuntimeWarning: covariance is not positive-semidefinite.\n"
     ]
    }
   ],
   "source": [
    "mu_1 = mu_adjust(mu_1)  # normal PL\n",
    "mu_01, mu1, mu_11, P1, G_11, H_11, U_11 = ChainGen_(mu_1)\n",
    "\n",
    "zdump([mu1, mu_11, P1, G_11, H_11, U_11], '../temp_files/Traffic_ano_detec_PLs.pkz')"
   ]
  },
  {
   "cell_type": "code",
   "execution_count": 13,
   "metadata": {
    "collapsed": true
   },
   "outputs": [],
   "source": [
    "num_of_samp_per_win = 50\n",
    "num_test_sample = 24 * 60 - num_of_samp_per_win\n",
    "beta = 0.001"
   ]
  },
  {
   "cell_type": "code",
   "execution_count": 14,
   "metadata": {
    "collapsed": false
   },
   "outputs": [],
   "source": [
    "eta_wc = {}\n",
    "eta_Sanov = {}\n",
    "\n",
    "n = num_of_samp_per_win\n",
    "\n",
    "# Get thresholds for Hoeffding's test corresponding to sample length n    \n",
    "key = str(n) + '_' + str(beta)\n",
    "G_list = [G_11]\n",
    "H_list = [H_11]\n",
    "U_list = [U_11]\n",
    "eta_1 = HoeffdingRuleMarkovRobust_(beta, G_list, H_list, U_list, n)\n",
    "eta_2 =  - log(beta) / n\n",
    "eta_wc[key] = eta_1\n",
    "eta_Sanov[key] = eta_2\n",
    "zdump([eta_wc, eta_Sanov], '../temp_files/testSample_threshold_traffic_ano_detec_%d.pkz'%N)"
   ]
  },
  {
   "cell_type": "code",
   "execution_count": 15,
   "metadata": {
    "collapsed": false
   },
   "outputs": [],
   "source": [
    "time_range = range(num_test_sample)\n",
    "\n",
    "eta_wc_list = []\n",
    "eta_Sanov_list = []\n",
    "for idx in time_range:\n",
    "    eta_wc_list.append(np.array(eta_wc[key]).tolist())\n",
    "    eta_Sanov_list.append(np.array(eta_Sanov[key]).tolist())"
   ]
  },
  {
   "cell_type": "code",
   "execution_count": 16,
   "metadata": {
    "collapsed": false
   },
   "outputs": [],
   "source": [
    "test_sample = []\n",
    "\n",
    "for idx in range(num_test_sample):\n",
    "    test_sample.append(traffic_data_with_anomaly_list_quantized_trans[idx : (idx+60)])"
   ]
  },
  {
   "cell_type": "code",
   "execution_count": 17,
   "metadata": {
    "collapsed": true
   },
   "outputs": [],
   "source": [
    "KL = []\n",
    "key = str(n) + '_' + str(beta)\n",
    "for idx in range(num_test_sample):\n",
    "    KL.append(KL_est(test_sample[idx], mu_11))\n",
    "        \n",
    "zdump(KL, '../temp_files/KL_%d_traffic_ano_detec.pkz'%N)"
   ]
  },
  {
   "cell_type": "code",
   "execution_count": 23,
   "metadata": {
    "collapsed": false
   },
   "outputs": [],
   "source": [
    "plot_points(time_range, KL, eta_wc_list)\n",
    "plt.savefig('../temp_files/detec_results_N_%s_WC.eps'%N)\n",
    "\n",
    "plt.ylabel('divergence')\n",
    "plt.xlabel('time (min)')\n",
    "\n",
    "plt.show()"
   ]
  },
  {
   "cell_type": "code",
   "execution_count": 22,
   "metadata": {
    "collapsed": true
   },
   "outputs": [],
   "source": [
    "plot_points(time_range, KL, eta_Sanov_list)\n",
    "plt.savefig('../temp_files/detec_results_N_%s_Sanov.eps'%N)\n",
    "\n",
    "plt.ylabel('divergence')\n",
    "plt.xlabel('time (min)')\n",
    "\n",
    "plt.show()"
   ]
  },
  {
   "cell_type": "code",
   "execution_count": null,
   "metadata": {
    "collapsed": true
   },
   "outputs": [],
   "source": []
  }
 ],
 "metadata": {
  "kernelspec": {
   "display_name": "Python 2",
   "language": "python",
   "name": "python2"
  },
  "language_info": {
   "codemirror_mode": {
    "name": "ipython",
    "version": 2
   },
   "file_extension": ".py",
   "mimetype": "text/x-python",
   "name": "python",
   "nbconvert_exporter": "python",
   "pygments_lexer": "ipython2",
   "version": "2.7.11"
  }
 },
 "nbformat": 4,
 "nbformat_minor": 0
}
