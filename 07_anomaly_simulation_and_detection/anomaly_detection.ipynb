{
 "cells": [
  {
   "cell_type": "code",
   "execution_count": 1,
   "metadata": {
    "collapsed": false
   },
   "outputs": [
    {
     "name": "stdout",
     "output_type": "stream",
     "text": [
      "No dicts found; please check load_dicts...\n"
     ]
    }
   ],
   "source": [
    "%run ../Python_files/util.py\n",
    "%run ../Python_files/util_ano_detec.py\n",
    "%run ../Python_files/load_dicts.py\n",
    "\n",
    "traffic_data_with_anomaly = zload('../temp_files/traffic_data_with_anomaly.pkz')\n",
    "traffic_data_ref = zload('../temp_files/traffic_data_ref.pkz')"
   ]
  },
  {
   "cell_type": "code",
   "execution_count": 2,
   "metadata": {
    "collapsed": false
   },
   "outputs": [],
   "source": [
    "def quantize(x, n, inf, sup):\n",
    "    \"\"\"\n",
    "    x: the input data (scalar)\n",
    "    n: quantization level\n",
    "    inf: the lower bound of the input data x\n",
    "    sup: the upper bound of the input data x\n",
    "    -------------------\n",
    "    Example:\n",
    "    >>> quantize(4, 3, 2, 8)\n",
    "    >>> 1\n",
    "    >>> quantize(6.9, 3, 2, 8)\n",
    "    >>> 2\n",
    "    \"\"\"\n",
    "    if (x < inf):\n",
    "        return 0\n",
    "    elif (x >= sup):\n",
    "        return (n-1)\n",
    "    else:\n",
    "        lev_length = (sup - inf) / float(n)\n",
    "        return int(np.floor((x - inf) / lev_length))"
   ]
  },
  {
   "cell_type": "code",
   "execution_count": 3,
   "metadata": {
    "collapsed": false
   },
   "outputs": [],
   "source": [
    "tmc = '129-04138'\n",
    "month = 1\n",
    "day_list = [2, 3, 4, 5, 6]\n",
    "\n",
    "traffic_data_ref_list = []\n",
    "for hour in range(24):\n",
    "    for minute in range(60):\n",
    "        for day in day_list:\n",
    "            key = str(tmc) + '_' + str(month) + '_' + str(day) + '_' + str(hour) + '_' + str(minute)\n",
    "            traffic_data_ref_list.append(traffic_data_ref[key])"
   ]
  },
  {
   "cell_type": "code",
   "execution_count": 4,
   "metadata": {
    "collapsed": true
   },
   "outputs": [],
   "source": [
    "N = 8\n",
    "inf = min(traffic_data_ref_list)\n",
    "sup = max(traffic_data_ref_list)"
   ]
  },
  {
   "cell_type": "code",
   "execution_count": 5,
   "metadata": {
    "collapsed": false
   },
   "outputs": [],
   "source": [
    "traffic_data_ref_list_quantized = [quantize(s, N, inf, sup) for s in traffic_data_ref_list]"
   ]
  },
  {
   "cell_type": "code",
   "execution_count": 6,
   "metadata": {
    "collapsed": false
   },
   "outputs": [
    {
     "data": {
      "text/plain": [
       "[5, 6, 5, 5, 5, 5, 6, 5, 5, 5]"
      ]
     },
     "execution_count": 6,
     "metadata": {},
     "output_type": "execute_result"
    }
   ],
   "source": [
    "traffic_data_ref_list_quantized[0:10]"
   ]
  },
  {
   "cell_type": "code",
   "execution_count": 11,
   "metadata": {
    "collapsed": true
   },
   "outputs": [],
   "source": [
    "mapping_dict = {}\n",
    "\n",
    "for i in range(N):\n",
    "    for j in range(N):\n",
    "        mapping_dict[(i, j)] = i * N + j"
   ]
  },
  {
   "cell_type": "code",
   "execution_count": 12,
   "metadata": {
    "collapsed": false
   },
   "outputs": [
    {
     "data": {
      "text/plain": [
       "{(0, 0): 0,\n",
       " (0, 1): 1,\n",
       " (0, 2): 2,\n",
       " (0, 3): 3,\n",
       " (0, 4): 4,\n",
       " (0, 5): 5,\n",
       " (0, 6): 6,\n",
       " (0, 7): 7,\n",
       " (1, 0): 8,\n",
       " (1, 1): 9,\n",
       " (1, 2): 10,\n",
       " (1, 3): 11,\n",
       " (1, 4): 12,\n",
       " (1, 5): 13,\n",
       " (1, 6): 14,\n",
       " (1, 7): 15,\n",
       " (2, 0): 16,\n",
       " (2, 1): 17,\n",
       " (2, 2): 18,\n",
       " (2, 3): 19,\n",
       " (2, 4): 20,\n",
       " (2, 5): 21,\n",
       " (2, 6): 22,\n",
       " (2, 7): 23,\n",
       " (3, 0): 24,\n",
       " (3, 1): 25,\n",
       " (3, 2): 26,\n",
       " (3, 3): 27,\n",
       " (3, 4): 28,\n",
       " (3, 5): 29,\n",
       " (3, 6): 30,\n",
       " (3, 7): 31,\n",
       " (4, 0): 32,\n",
       " (4, 1): 33,\n",
       " (4, 2): 34,\n",
       " (4, 3): 35,\n",
       " (4, 4): 36,\n",
       " (4, 5): 37,\n",
       " (4, 6): 38,\n",
       " (4, 7): 39,\n",
       " (5, 0): 40,\n",
       " (5, 1): 41,\n",
       " (5, 2): 42,\n",
       " (5, 3): 43,\n",
       " (5, 4): 44,\n",
       " (5, 5): 45,\n",
       " (5, 6): 46,\n",
       " (5, 7): 47,\n",
       " (6, 0): 48,\n",
       " (6, 1): 49,\n",
       " (6, 2): 50,\n",
       " (6, 3): 51,\n",
       " (6, 4): 52,\n",
       " (6, 5): 53,\n",
       " (6, 6): 54,\n",
       " (6, 7): 55,\n",
       " (7, 0): 56,\n",
       " (7, 1): 57,\n",
       " (7, 2): 58,\n",
       " (7, 3): 59,\n",
       " (7, 4): 60,\n",
       " (7, 5): 61,\n",
       " (7, 6): 62,\n",
       " (7, 7): 63}"
      ]
     },
     "execution_count": 12,
     "metadata": {},
     "output_type": "execute_result"
    }
   ],
   "source": [
    "mapping_dict"
   ]
  },
  {
   "cell_type": "code",
   "execution_count": 13,
   "metadata": {
    "collapsed": false
   },
   "outputs": [],
   "source": [
    "traffic_data_ref_list_quantized_trans = [mapping_dict[(traffic_data_ref_list_quantized[i], \\\n",
    "                                                       traffic_data_ref_list_quantized[i+1])] \\\n",
    "                                         for i in range(len(traffic_data_ref_list_quantized)-1)]"
   ]
  },
  {
   "cell_type": "code",
   "execution_count": 14,
   "metadata": {
    "collapsed": false
   },
   "outputs": [
    {
     "data": {
      "text/plain": [
       "([5, 6, 5, 5, 5, 5, 6, 5, 5, 5], [46, 53, 45, 45, 45, 46, 53, 45, 45, 45])"
      ]
     },
     "execution_count": 14,
     "metadata": {},
     "output_type": "execute_result"
    }
   ],
   "source": [
    "traffic_data_ref_list_quantized[0:10], traffic_data_ref_list_quantized_trans[0:10]"
   ]
  },
  {
   "cell_type": "code",
   "execution_count": 15,
   "metadata": {
    "collapsed": true
   },
   "outputs": [],
   "source": [
    "tmc = '129-04138'\n",
    "month = 1\n",
    "day = 9\n",
    "\n",
    "traffic_data_with_anomaly_list = []\n",
    "for hour in range(24):\n",
    "    for minute in range(60):\n",
    "        key = str(tmc) + '_' + str(month) + '_' + str(day) + '_' + str(hour) + '_' + str(minute)\n",
    "        traffic_data_with_anomaly_list.append(traffic_data_with_anomaly[key])"
   ]
  },
  {
   "cell_type": "code",
   "execution_count": 16,
   "metadata": {
    "collapsed": false
   },
   "outputs": [],
   "source": [
    "traffic_data_with_anomaly_list_quantized = [quantize(s, N, inf, sup) for s in traffic_data_with_anomaly_list]"
   ]
  },
  {
   "cell_type": "code",
   "execution_count": 17,
   "metadata": {
    "collapsed": false
   },
   "outputs": [],
   "source": [
    "traffic_data_with_anomaly_list_quantized_trans = \\\n",
    "[mapping_dict[(traffic_data_with_anomaly_list_quantized[i], \\\n",
    "               traffic_data_with_anomaly_list_quantized[i+1])] \\\n",
    " for i in range(len(traffic_data_with_anomaly_list_quantized)-1)]"
   ]
  },
  {
   "cell_type": "code",
   "execution_count": 18,
   "metadata": {
    "collapsed": false
   },
   "outputs": [
    {
     "data": {
      "text/plain": [
       "([7, 5, 5, 6, 6, 5, 5, 5, 5, 5], [61, 45, 46, 54, 53, 45, 45, 45, 45, 45])"
      ]
     },
     "execution_count": 18,
     "metadata": {},
     "output_type": "execute_result"
    }
   ],
   "source": [
    "traffic_data_with_anomaly_list_quantized[0:10], traffic_data_with_anomaly_list_quantized_trans[0:10]"
   ]
  },
  {
   "cell_type": "code",
   "execution_count": 19,
   "metadata": {
    "collapsed": false
   },
   "outputs": [
    {
     "data": {
      "text/plain": [
       "1439"
      ]
     },
     "execution_count": 19,
     "metadata": {},
     "output_type": "execute_result"
    }
   ],
   "source": [
    "len(traffic_data_with_anomaly_list_quantized_trans)"
   ]
  },
  {
   "cell_type": "code",
   "execution_count": 20,
   "metadata": {
    "collapsed": true
   },
   "outputs": [],
   "source": [
    "mu_1 = mu_est(traffic_data_ref_list_quantized_trans, N)  # normal PL"
   ]
  },
  {
   "cell_type": "code",
   "execution_count": 21,
   "metadata": {
    "collapsed": false
   },
   "outputs": [
    {
     "data": {
      "text/plain": [
       "array([[  9.99999710e-09,   9.99999710e-09,   9.99999710e-09,\n",
       "          9.99999710e-09,   9.99999710e-09,   9.72356990e-04,\n",
       "          1.80580584e-03,   9.99999711e-09],\n",
       "       [  9.99999711e-09,   9.99999711e-09,   9.99999711e-09,\n",
       "          9.99999711e-09,   9.99999711e-09,   4.16724425e-04,\n",
       "          1.38908142e-04,   9.99999711e-09],\n",
       "       [  9.99999711e-09,   9.99999711e-09,   9.99999711e-09,\n",
       "          9.99999711e-09,   9.99999711e-09,   9.99999711e-09,\n",
       "          9.72356991e-04,   9.99999711e-09],\n",
       "       [  9.99999711e-09,   9.99999711e-09,   9.99999711e-09,\n",
       "          9.99999711e-09,   9.99999711e-09,   5.55632566e-04,\n",
       "          2.22253027e-03,   4.16724425e-04],\n",
       "       [  2.77816283e-04,   1.38908142e-04,   9.99999712e-09,\n",
       "          9.99999712e-09,   9.99999712e-09,   3.05597912e-03,\n",
       "          1.80580584e-03,   1.11126514e-03],\n",
       "       [  1.11126514e-03,   1.38908142e-04,   9.99999714e-09,\n",
       "          1.38908142e-03,   2.91707098e-03,   1.96971746e-01,\n",
       "          1.25572968e-01,   5.02847517e-02],\n",
       "       [  8.33448932e-04,   2.77816311e-04,   8.33448932e-04,\n",
       "          8.33448932e-04,   2.77816311e-03,   1.34463095e-01,\n",
       "          2.62953145e-01,   6.72315518e-02],\n",
       "       [  5.55632664e-04,   9.99999888e-09,   1.38908166e-04,\n",
       "          9.72357163e-04,   6.94540831e-04,   4.19502662e-02,\n",
       "          7.47325937e-02,   1.84747863e-02]])"
      ]
     },
     "execution_count": 21,
     "metadata": {},
     "output_type": "execute_result"
    }
   ],
   "source": [
    "mu_1"
   ]
  },
  {
   "cell_type": "code",
   "execution_count": 22,
   "metadata": {
    "collapsed": false
   },
   "outputs": [
    {
     "name": "stderr",
     "output_type": "stream",
     "text": [
      "<string>:339: RuntimeWarning: covariance is not positive-semidefinite.\n"
     ]
    }
   ],
   "source": [
    "N, _ = np.shape(mu_1)\n",
    "assert(N == _)\n",
    "\n",
    "mu_1 = mu_adjust(mu_1)  # normal PL\n",
    "\n",
    "mu_01, mu1, mu_11, P1, G_11, H_11, U_11 = ChainGen_(mu_1)\n",
    "\n",
    "zdump([mu1, mu_11, P1, G_11, H_11, U_11], '../temp_files/Traffic_ano_detec_PLs.pkz')"
   ]
  },
  {
   "cell_type": "code",
   "execution_count": 23,
   "metadata": {
    "collapsed": false
   },
   "outputs": [
    {
     "data": {
      "text/plain": [
       "array([[  1.56249956e-05,   9.99999720e-09,   9.99999720e-09,\n",
       "          9.99999720e-09,   9.99999720e-09,   8.74999755e-04,\n",
       "          1.85937448e-03,   9.99999721e-09],\n",
       "       [  9.99999721e-09,   9.99999721e-09,   9.99999721e-09,\n",
       "          9.99999721e-09,   9.99999721e-09,   3.90624891e-04,\n",
       "          1.09374969e-04,   9.99999721e-09],\n",
       "       [  9.99999721e-09,   9.99999721e-09,   9.99999721e-09,\n",
       "          9.99999721e-09,   9.99999721e-09,   9.99999721e-09,\n",
       "          9.84374725e-04,   9.99999721e-09],\n",
       "       [  9.99999721e-09,   9.99999721e-09,   9.99999721e-09,\n",
       "          9.99999721e-09,   9.99999721e-09,   6.56249817e-04,\n",
       "          2.28124936e-03,   5.15624857e-04],\n",
       "       [  2.65624926e-04,   1.09374970e-04,   9.99999722e-09,\n",
       "          9.99999722e-09,   9.99999722e-09,   3.28124909e-03,\n",
       "          2.06249943e-03,   1.34374963e-03],\n",
       "       [  1.10937469e-03,   1.09374970e-04,   9.99999724e-09,\n",
       "          1.37499962e-03,   3.20312412e-03,   1.96734321e-01,\n",
       "          1.24187473e-01,   5.05624902e-02],\n",
       "       [  8.12499851e-04,   2.81249949e-04,   8.74999840e-04,\n",
       "          9.99999817e-04,   3.03124945e-03,   1.33781226e-01,\n",
       "          2.63281208e-01,   6.71093672e-02],\n",
       "       [  5.31249942e-04,   9.99999892e-09,   1.09374988e-04,\n",
       "          1.07812488e-03,   8.28124910e-04,   4.15624955e-02,\n",
       "          7.54062422e-02,   1.82812482e-02]])"
      ]
     },
     "execution_count": 23,
     "metadata": {},
     "output_type": "execute_result"
    }
   ],
   "source": [
    "mu_11"
   ]
  },
  {
   "cell_type": "code",
   "execution_count": 24,
   "metadata": {
    "collapsed": true
   },
   "outputs": [],
   "source": [
    "# n_range = [40, 70, 100]\n",
    "# num_test_sample = 200\n",
    "# beta_list = list(np.arange(0, 0.2, 0.02)[1:-1]) + list(np.arange(0.2, 1.01, 0.02)[:-1])\n",
    "\n",
    "num_of_samp_per_win = 60\n",
    "num_test_sample = 1380\n",
    "beta = 0.001"
   ]
  },
  {
   "cell_type": "code",
   "execution_count": 25,
   "metadata": {
    "collapsed": false
   },
   "outputs": [],
   "source": [
    "eta_wc = {}\n",
    "eta_Sanov = {}\n",
    "\n",
    "n = num_of_samp_per_win\n",
    "\n",
    "# Get thresholds for Hoeffding's test corresponding to sample length n    \n",
    "key = str(n) + '_' + str(beta)\n",
    "G_list = [G_11]\n",
    "H_list = [H_11]\n",
    "U_list = [U_11]\n",
    "eta_1 = HoeffdingRuleMarkovRobust_(beta, G_list, H_list, U_list, n)\n",
    "eta_2 =  - log(beta) / n\n",
    "eta_wc[key] = eta_1\n",
    "eta_Sanov[key] = eta_2\n",
    "zdump([eta_wc, eta_Sanov], '../temp_files/testSample_threshold_traffic_ano_detec_%d.pkz'%N)"
   ]
  },
  {
   "cell_type": "code",
   "execution_count": 26,
   "metadata": {
    "collapsed": false
   },
   "outputs": [],
   "source": [
    "test_sample = []\n",
    "\n",
    "n = num_of_samp_per_win\n",
    "\n",
    "for idx in range(num_test_sample):\n",
    "    test_sample.append(traffic_data_with_anomaly_list_quantized_trans[idx : (idx+60)])"
   ]
  },
  {
   "cell_type": "code",
   "execution_count": 27,
   "metadata": {
    "collapsed": true
   },
   "outputs": [],
   "source": [
    "KL = []\n",
    "key = str(n) + '_' + str(beta)\n",
    "for idx in range(num_test_sample):\n",
    "    KL.append(KL_est(test_sample[idx], mu_11))\n",
    "        \n",
    "zdump(KL, '../temp_files/KL_%d_traffic_ano_detec.pkz'%N)"
   ]
  },
  {
   "cell_type": "code",
   "execution_count": 28,
   "metadata": {
    "collapsed": false
   },
   "outputs": [
    {
     "data": {
      "text/plain": [
       "60"
      ]
     },
     "execution_count": 28,
     "metadata": {},
     "output_type": "execute_result"
    }
   ],
   "source": [
    "len(test_sample[1])"
   ]
  },
  {
   "cell_type": "code",
   "execution_count": 29,
   "metadata": {
    "collapsed": false
   },
   "outputs": [
    {
     "data": {
      "text/plain": [
       "({'60_0.001': 0.77877554356831069}, {'60_0.001': 0.11512925464970228})"
      ]
     },
     "execution_count": 29,
     "metadata": {},
     "output_type": "execute_result"
    }
   ],
   "source": [
    "eta_wc, eta_Sanov"
   ]
  },
  {
   "cell_type": "code",
   "execution_count": 46,
   "metadata": {
    "collapsed": false
   },
   "outputs": [
    {
     "data": {
      "text/plain": [
       "[0.43524933775240449,\n",
       " 0.44860272070688245,\n",
       " 0.52603836465754239,\n",
       " 0.60349239938464994,\n",
       " 0.6809646128045872,\n",
       " 0.7584557058037531,\n",
       " 0.83596643025653794,\n",
       " 0.91349758642802925,\n",
       " 0.99105002554865917,\n",
       " 1.0686246536758992,\n",
       " 1.1462224362704221,\n",
       " 1.2238444033906206,\n",
       " 1.3014916555259888,\n",
       " 1.3791653701334643,\n",
       " 1.5124395679134306,\n",
       " 1.5880542751294062,\n",
       " 1.6641819825511985,\n",
       " 1.7414957885768645,\n",
       " 1.8188294419191564,\n",
       " 1.8961839482553138,\n",
       " 1.9735603917195486,\n",
       " 2.050959943282002,\n",
       " 2.128383870277931,\n",
       " 2.2058335472818125,\n",
       " 2.2833104685607455,\n",
       " 2.3608162623905895,\n",
       " 2.4383527075795906,\n",
       " 2.5159217526210611,\n",
       " 2.5935255379937616,\n",
       " 2.6711664222521412,\n",
       " 2.7488470127068876,\n",
       " 2.6738460530133228,\n",
       " 2.6738460530133228,\n",
       " 2.6375910115697576,\n",
       " 2.6396510227344261,\n",
       " 2.6396510227344261,\n",
       " 2.6396510227344261,\n",
       " 2.6396510227344261,\n",
       " 2.6752392200254156,\n",
       " 2.7046184687837052,\n",
       " 2.6576541206231039,\n",
       " 2.6375910115697576,\n",
       " 2.6319833266039803,\n",
       " 2.6284572656355749,\n",
       " 2.6284572656355749,\n",
       " 2.6284572656355749,\n",
       " 2.6284572656355749,\n",
       " 2.6284572656355749,\n",
       " 2.6284572656355749,\n",
       " 2.6284572656355749,\n",
       " 2.6284572656355749,\n",
       " 2.6284572656355749,\n",
       " 2.6284572656355749,\n",
       " 2.6284572656355749,\n",
       " 2.6284572656355749,\n",
       " 2.6284572656355749,\n",
       " 2.6284572656355749,\n",
       " 2.6284572656355749,\n",
       " 2.6284572656355749,\n",
       " 2.6284572656355749,\n",
       " 2.6284572656355749,\n",
       " 2.6013915036933204,\n",
       " 2.5241479030888039,\n",
       " 2.4469742599736106,\n",
       " 2.3698684963705281,\n",
       " 2.292829089929397,\n",
       " 2.2158550504610957,\n",
       " 2.1389459108379851,\n",
       " 2.0621017321747299,\n",
       " 1.9853231240440312,\n",
       " 1.9086112814256073,\n",
       " 1.8319680412401487,\n",
       " 1.755395962828131,\n",
       " 1.6788984388088863,\n",
       " 1.6024798457269642,\n",
       " 1.5261457482884584,\n",
       " 1.4499031776856406,\n",
       " 1.3737610150062392,\n",
       " 1.2977305276871101,\n",
       " 1.221826135301864,\n",
       " 1.1100178545419781,\n",
       " 1.0173086211463145,\n",
       " 0.96665347625838016,\n",
       " 0.86951067072292654,\n",
       " 0.79425253744355051,\n",
       " 0.71942135471770785,\n",
       " 0.64517949304623923,\n",
       " 0.57181606011380592,\n",
       " 0.49992692671292438,\n",
       " 0.43111658081087989,\n",
       " 0.37671067203574982,\n",
       " 0.37887248149747127,\n",
       " 0.37887248149747127,\n",
       " 0.41779575155728133,\n",
       " 0.42690065034587765,\n",
       " 0.42690065034587765,\n",
       " 0.42690065034587765,\n",
       " 0.42690065034587765,\n",
       " 0.38765056261995112,\n",
       " 0.37992558474702026,\n",
       " 0.40640037511855531,\n",
       " 0.41779575155728133,\n",
       " 0.43456834443422054,\n",
       " 0.43947392932114054,\n",
       " 0.43947392932114054,\n",
       " 0.43947392932114054,\n",
       " 0.43947392932114054,\n",
       " 0.43947392932114054,\n",
       " 0.43947392932114054,\n",
       " 0.43947392932114054,\n",
       " 0.43947392932114054,\n",
       " 0.43947392932114054,\n",
       " 0.43947392932114054,\n",
       " 0.43947392932114054,\n",
       " 0.43947392932114054,\n",
       " 0.43947392932114054,\n",
       " 0.43947392932114054,\n",
       " 0.43947392932114054,\n",
       " 0.43947392932114054,\n",
       " 0.43947392932114054,\n",
       " 0.43947392932114054,\n",
       " 0.43947392932114054,\n",
       " 0.43947392932114054,\n",
       " 0.43947392932114054,\n",
       " 0.43947392932114054,\n",
       " 0.43947392932114054,\n",
       " 0.43947392932114054,\n",
       " 0.43947392932114054,\n",
       " 0.43947392932114054,\n",
       " 0.43947392932114054,\n",
       " 0.43947392932114054,\n",
       " 0.39990330969199434,\n",
       " 0.38765056261995112,\n",
       " 0.37992558474702026,\n",
       " 0.37452686117495304,\n",
       " 0.370568174500231,\n",
       " 0.35331321016225342,\n",
       " 0.35331321016225342,\n",
       " 0.35331321016225342,\n",
       " 0.35331321016225342,\n",
       " 0.3912157196073533,\n",
       " 0.41694630477575551,\n",
       " 0.37680053366980581,\n",
       " 0.37242563358637326,\n",
       " 0.36178224659942892,\n",
       " 0.32954303597496215,\n",
       " 0.32577252594972811,\n",
       " 0.32275066980498118,\n",
       " 0.32033060225844817,\n",
       " 0.31840728812405328]"
      ]
     },
     "execution_count": 46,
     "metadata": {},
     "output_type": "execute_result"
    }
   ],
   "source": [
    "KL[975:1125]"
   ]
  },
  {
   "cell_type": "code",
   "execution_count": 31,
   "metadata": {
    "collapsed": false
   },
   "outputs": [
    {
     "data": {
      "text/plain": [
       "[61,\n",
       " 45,\n",
       " 46,\n",
       " 54,\n",
       " 53,\n",
       " 45,\n",
       " 45,\n",
       " 45,\n",
       " 45,\n",
       " 45,\n",
       " 45,\n",
       " 45,\n",
       " 45,\n",
       " 45,\n",
       " 45,\n",
       " 45,\n",
       " 45,\n",
       " 45,\n",
       " 45,\n",
       " 45,\n",
       " 45,\n",
       " 45,\n",
       " 45,\n",
       " 45,\n",
       " 45,\n",
       " 45,\n",
       " 45,\n",
       " 45,\n",
       " 45,\n",
       " 45,\n",
       " 45,\n",
       " 45,\n",
       " 45,\n",
       " 45,\n",
       " 45,\n",
       " 45,\n",
       " 45,\n",
       " 45,\n",
       " 45,\n",
       " 45,\n",
       " 45,\n",
       " 45,\n",
       " 45,\n",
       " 45,\n",
       " 45,\n",
       " 45,\n",
       " 45,\n",
       " 45,\n",
       " 45,\n",
       " 45,\n",
       " 45,\n",
       " 45,\n",
       " 45,\n",
       " 45,\n",
       " 45,\n",
       " 45,\n",
       " 45,\n",
       " 45,\n",
       " 45,\n",
       " 45]"
      ]
     },
     "execution_count": 31,
     "metadata": {},
     "output_type": "execute_result"
    }
   ],
   "source": [
    "test_sample[0]"
   ]
  },
  {
   "cell_type": "code",
   "execution_count": null,
   "metadata": {
    "collapsed": true
   },
   "outputs": [],
   "source": []
  }
 ],
 "metadata": {
  "kernelspec": {
   "display_name": "Python 2",
   "language": "python",
   "name": "python2"
  },
  "language_info": {
   "codemirror_mode": {
    "name": "ipython",
    "version": 2
   },
   "file_extension": ".py",
   "mimetype": "text/x-python",
   "name": "python",
   "nbconvert_exporter": "python",
   "pygments_lexer": "ipython2",
   "version": "2.7.11"
  }
 },
 "nbformat": 4,
 "nbformat_minor": 0
}
