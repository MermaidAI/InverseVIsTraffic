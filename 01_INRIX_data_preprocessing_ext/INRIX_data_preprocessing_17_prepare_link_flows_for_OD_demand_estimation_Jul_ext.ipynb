{
 "cells": [
  {
   "cell_type": "code",
   "execution_count": 1,
   "metadata": {
    "collapsed": false
   },
   "outputs": [
    {
     "name": "stdout",
     "output_type": "stream",
     "text": [
      "[421.59415897331553, 508.84417319403627, 508.84417319403627, 760.33178759008558, 760.33178759008558, 882.32004295193951, 900.80402541722992, 1145.1947108092352, 1213.3621102430038, 1215.5311082969015]\n",
      "[643.0614873748544, 687.4440349316768, 545.2126474607147, 565.9341027130936, 606.5438396862372, 621.260789470193, 732.4806406228855, 732.4806406228855, 910.5931108860018, 931.2383888392933]\n"
     ]
    }
   ],
   "source": [
    "%run ../Python_files/load_dicts.py\n",
    "%run ../Python_files/INRIX_data_preprocessing_17_prepare_link_flows_for_OD_demand_estimation_Jul_ext.py"
   ]
  },
  {
   "cell_type": "code",
   "execution_count": null,
   "metadata": {
    "collapsed": true
   },
   "outputs": [],
   "source": []
  }
 ],
 "metadata": {
  "kernelspec": {
   "display_name": "Python 2",
   "language": "python",
   "name": "python2"
  },
  "language_info": {
   "codemirror_mode": {
    "name": "ipython",
    "version": 2
   },
   "file_extension": ".py",
   "mimetype": "text/x-python",
   "name": "python",
   "nbconvert_exporter": "python",
   "pygments_lexer": "ipython2",
   "version": "2.7.11"
  }
 },
 "nbformat": 4,
 "nbformat_minor": 0
}
