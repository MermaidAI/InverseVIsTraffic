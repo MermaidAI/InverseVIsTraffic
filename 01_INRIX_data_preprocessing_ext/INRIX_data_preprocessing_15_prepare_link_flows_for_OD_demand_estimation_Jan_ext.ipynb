{
 "cells": [
  {
   "cell_type": "code",
   "execution_count": 1,
   "metadata": {
    "collapsed": false
   },
   "outputs": [
    {
     "name": "stdout",
     "output_type": "stream",
     "text": [
      "[1930.7250016378171, 1946.5490491492249, 1951.7981034651796, 1702.7649053327973, 2039.1724885055869, 2133.2728254171038, 2133.2728254171038, 2145.466028798242, 2171.733178893448, 2150.0874164979491]\n",
      "[1194.9402366012837, 989.016551376375, 934.8250335210539, 919.4599257876924, 945.4201943431444, 653.7174904143534, 749.440933949545, 874.2043327145673, 1170.9349602664884, 1148.9029246146954]\n"
     ]
    }
   ],
   "source": [
    "%run ../Python_files/load_dicts.py\n",
    "%run ../Python_files/INRIX_data_preprocessing_15_prepare_link_flows_for_OD_demand_estimation_Jan_ext.py"
   ]
  },
  {
   "cell_type": "code",
   "execution_count": null,
   "metadata": {
    "collapsed": true
   },
   "outputs": [],
   "source": []
  }
 ],
 "metadata": {
  "kernelspec": {
   "display_name": "Python 2",
   "language": "python",
   "name": "python2"
  },
  "language_info": {
   "codemirror_mode": {
    "name": "ipython",
    "version": 2
   },
   "file_extension": ".py",
   "mimetype": "text/x-python",
   "name": "python",
   "nbconvert_exporter": "python",
   "pygments_lexer": "ipython2",
   "version": "2.7.11"
  }
 },
 "nbformat": 4,
 "nbformat_minor": 0
}
