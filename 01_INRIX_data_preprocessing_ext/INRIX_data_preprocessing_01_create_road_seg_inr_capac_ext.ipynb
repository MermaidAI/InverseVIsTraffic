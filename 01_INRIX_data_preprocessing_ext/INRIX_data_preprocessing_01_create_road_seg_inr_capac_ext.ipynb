{
 "cells": [
  {
   "cell_type": "code",
   "execution_count": 8,
   "metadata": {
    "collapsed": true
   },
   "outputs": [],
   "source": [
    "%run ../Python_files/util.py"
   ]
  },
  {
   "cell_type": "code",
   "execution_count": null,
   "metadata": {
    "collapsed": true
   },
   "outputs": [],
   "source": [
    "##### read in raw data\n",
    "\n",
    "import openpyxl\n",
    "\n",
    "data_folder = '/home/jzh/Dropbox/Research/\\\n",
    "Data-driven_estimation_inverse_optimization/INRIX/Raw_data/'\n",
    "\n",
    "# load filtered INRIX attribute table raw data\n",
    "wb_INRIX = openpyxl.load_workbook(data_folder + 'filtered_INRIX_attribute_table_ext.xlsx')\n",
    "\n",
    "# load filtered capacity attribute table raw data\n",
    "wb_capac = openpyxl.load_workbook(data_folder + 'capacity_attribute_table.xlsx')"
   ]
  },
  {
   "cell_type": "code",
   "execution_count": 3,
   "metadata": {
    "collapsed": true
   },
   "outputs": [],
   "source": [
    "# get sheet name from workbook\n",
    "sheet_INRIX_name = wb_INRIX.sheetnames[0].encode('utf-8')\n",
    "sheet_capac_name = wb_capac.sheetnames[0].encode('utf-8')"
   ]
  },
  {
   "cell_type": "code",
   "execution_count": 4,
   "metadata": {
    "collapsed": true
   },
   "outputs": [],
   "source": [
    "# get sheet of filtered INRIX attribute table raw data\n",
    "sheet_INRIX = wb_INRIX.get_sheet_by_name(sheet_INRIX_name)\n",
    "\n",
    "# get sheet of capacity attribute table raw data\n",
    "sheet_capac = wb_capac.get_sheet_by_name(sheet_capac_name)"
   ]
  },
  {
   "cell_type": "code",
   "execution_count": 47,
   "metadata": {
    "collapsed": true
   },
   "outputs": [],
   "source": [
    "# road_invent, length, route_num, AB_AM_capac, AB_MD_capac, AB_PM_capac, AB_NT_capac, \n",
    "# AB_AM_lane, AB_MD_lane, AB_PM_lane, AB_NT_lane\n",
    "\n",
    "road_invent = str(sheet_capac.cell(row=2, column=26).value)\n",
    "length = sheet_capac.cell(row=2, column=2).value\n",
    "route_num = str(sheet_capac.cell(row=2, column=8).value)\n",
    "AB_AM_capac = float(sheet_capac.cell(row=2, column=18).value)\n",
    "AB_MD_capac = float(sheet_capac.cell(row=2, column=20).value)\n",
    "AB_PM_capac = float(sheet_capac.cell(row=2, column=22).value)\n",
    "AB_NT_capac = float(sheet_capac.cell(row=2, column=24).value)\n",
    "AB_AM_lane = int(sheet_capac.cell(row=2, column=10).value)\n",
    "AB_MD_lane = int(sheet_capac.cell(row=2, column=12).value)\n",
    "AB_PM_lane = int(sheet_capac.cell(row=2, column=14).value)\n",
    "AB_NT_lane = int(sheet_capac.cell(row=2, column=16).value)\n",
    "\n",
    "RoadSegCapacLane_dict = {}\n",
    "\n",
    "RoadSegCapacLane_dict[road_invent] = \\\n",
    "                RoadSegCapacLane(road_invent, length, route_num, AB_AM_capac, \\\n",
    "                AB_MD_capac, AB_PM_capac, AB_NT_capac, AB_AM_lane, \\\n",
    "                AB_MD_lane, AB_PM_lane, AB_NT_lane)"
   ]
  },
  {
   "cell_type": "code",
   "execution_count": 48,
   "metadata": {
    "collapsed": false
   },
   "outputs": [
    {
     "data": {
      "text/plain": [
       "{'19327900': <__main__.RoadSegCapacLane at 0x7f93000cff90>}"
      ]
     },
     "execution_count": 48,
     "metadata": {},
     "output_type": "execute_result"
    }
   ],
   "source": [
    "RoadSegCapacLane_dict"
   ]
  },
  {
   "cell_type": "code",
   "execution_count": 39,
   "metadata": {
    "collapsed": false
   },
   "outputs": [
    {
     "data": {
      "text/plain": [
       "(0.082878, '80', 2062.5, 3918.75, 2062.5, 5775.0, 1, 1, 1, 3)"
      ]
     },
     "execution_count": 39,
     "metadata": {},
     "output_type": "execute_result"
    }
   ],
   "source": [
    "length, route_num, AB_AM_capac, AB_MD_capac, AB_PM_capac, AB_NT_capac, AB_AM_lane, AB_MD_lane, AB_PM_lane, AB_NT_lane"
   ]
  },
  {
   "cell_type": "code",
   "execution_count": 1,
   "metadata": {
    "collapsed": false
   },
   "outputs": [
    {
     "name": "stdout",
     "output_type": "stream",
     "text": [
      "No dicts found; please check load_dicts...\n"
     ]
    },
    {
     "ename": "KeyError",
     "evalue": "8120001L",
     "output_type": "error",
     "traceback": [
      "\u001b[1;31m---------------------------------------------------------------------------\u001b[0m",
      "\u001b[1;31mKeyError\u001b[0m                                  Traceback (most recent call last)",
      "\u001b[1;32m<ipython-input-1-e1070545c52f>\u001b[0m in \u001b[0;36m<module>\u001b[1;34m()\u001b[0m\n\u001b[0;32m    104\u001b[0m \u001b[1;33m\u001b[0m\u001b[0m\n\u001b[0;32m    105\u001b[0m \u001b[1;32mfor\u001b[0m \u001b[0mi\u001b[0m \u001b[1;32min\u001b[0m \u001b[0mrange\u001b[0m\u001b[1;33m(\u001b[0m\u001b[0mlen\u001b[0m\u001b[1;33m(\u001b[0m\u001b[0mroad_seg_inr\u001b[0m\u001b[1;33m.\u001b[0m\u001b[0mtmc\u001b[0m\u001b[1;33m)\u001b[0m\u001b[1;33m)\u001b[0m\u001b[1;33m:\u001b[0m\u001b[1;33m\u001b[0m\u001b[0m\n\u001b[1;32m--> 106\u001b[1;33m     \u001b[0mcapac_AM\u001b[0m\u001b[1;33m.\u001b[0m\u001b[0mappend\u001b[0m\u001b[1;33m(\u001b[0m\u001b[0mroadInv_capac_dict_AM\u001b[0m\u001b[1;33m[\u001b[0m\u001b[0mtmc_roadInv_dict\u001b[0m\u001b[1;33m[\u001b[0m\u001b[0mroad_seg_inr\u001b[0m\u001b[1;33m.\u001b[0m\u001b[0mtmc\u001b[0m\u001b[1;33m[\u001b[0m\u001b[0mi\u001b[0m\u001b[1;33m]\u001b[0m\u001b[1;33m]\u001b[0m\u001b[1;33m]\u001b[0m\u001b[1;33m)\u001b[0m\u001b[1;33m\u001b[0m\u001b[0m\n\u001b[0m\u001b[0;32m    107\u001b[0m     \u001b[0mcapac_MD\u001b[0m\u001b[1;33m.\u001b[0m\u001b[0mappend\u001b[0m\u001b[1;33m(\u001b[0m\u001b[0mroadInv_capac_dict_MD\u001b[0m\u001b[1;33m[\u001b[0m\u001b[0mtmc_roadInv_dict\u001b[0m\u001b[1;33m[\u001b[0m\u001b[0mroad_seg_inr\u001b[0m\u001b[1;33m.\u001b[0m\u001b[0mtmc\u001b[0m\u001b[1;33m[\u001b[0m\u001b[0mi\u001b[0m\u001b[1;33m]\u001b[0m\u001b[1;33m]\u001b[0m\u001b[1;33m]\u001b[0m\u001b[1;33m)\u001b[0m\u001b[1;33m\u001b[0m\u001b[0m\n\u001b[0;32m    108\u001b[0m     \u001b[0mcapac_PM\u001b[0m\u001b[1;33m.\u001b[0m\u001b[0mappend\u001b[0m\u001b[1;33m(\u001b[0m\u001b[0mroadInv_capac_dict_PM\u001b[0m\u001b[1;33m[\u001b[0m\u001b[0mtmc_roadInv_dict\u001b[0m\u001b[1;33m[\u001b[0m\u001b[0mroad_seg_inr\u001b[0m\u001b[1;33m.\u001b[0m\u001b[0mtmc\u001b[0m\u001b[1;33m[\u001b[0m\u001b[0mi\u001b[0m\u001b[1;33m]\u001b[0m\u001b[1;33m]\u001b[0m\u001b[1;33m]\u001b[0m\u001b[1;33m)\u001b[0m\u001b[1;33m\u001b[0m\u001b[0m\n",
      "\u001b[1;31mKeyError\u001b[0m: 8120001L"
     ]
    }
   ],
   "source": [
    "# load lookup table raw data\n",
    "wb_lookup = openpyxl.load_workbook(data_folder + 'roadinv_id_to_tmc_lookup.xlsx') \n",
    "\n",
    "# get sheet name from workbook\n",
    "sheet_INRIX_name = wb_INRIX.sheetnames[0].encode('utf-8')\n",
    "sheet_capac_name = wb_capac.sheetnames[0].encode('utf-8')\n",
    "sheet_lookup_name = wb_lookup.sheetnames[0].encode('utf-8')\n",
    "\n",
    "# get sheet of filtered INRIX attribute table raw data\n",
    "sheet_INRIX = wb_INRIX.get_sheet_by_name(sheet_INRIX_name)\n",
    "\n",
    "# get sheet of filtered capacity attribute table raw data\n",
    "sheet_capac = wb_capac.get_sheet_by_name(sheet_capac_name)\n",
    "\n",
    "# get sheet of lookup table raw data\n",
    "sheet_lookup = wb_lookup.get_sheet_by_name(sheet_lookup_name)\n",
    "\n",
    "\n",
    "##### extract attributes of interest from INRIX sheet\n",
    "\n",
    "tmc_list = []\n",
    "road_num_list = []\n",
    "shape_length_list = []\n",
    "\n",
    "for i in xrange(2, 1 + sheet_INRIX.max_row):\n",
    "    tmc_list.append(sheet_INRIX.cell(row=i, column=2).value.encode('utf-8'))\n",
    "    road_num_list.append(sheet_INRIX.cell(row=i, column=3).value.encode('utf-8'))\n",
    "    shape_length_list.append(sheet_INRIX.cell(row=i, column=13).value)\n",
    "\n",
    "assert(len(tmc_list) == len(road_num_list) and \\\n",
    "       len(road_num_list) == len(shape_length_list))    \n",
    "\n",
    "\n",
    "##### extract attributes of interest from capacity sheet\n",
    "\n",
    "road_invent_list = []\n",
    "length_list = []\n",
    "route_num_list = []\n",
    "AB_AM_capac_list = [] \n",
    "AB_MD_capac_list = []\n",
    "AB_PM_capac_list = []\n",
    "AB_NT_capac_list = []\n",
    "\n",
    "for i in xrange(2, 1 + sheet_capac.max_row):\n",
    "    road_invent_list.append(sheet_capac.cell(row=i, column=26).value) \n",
    "    length_list.append(sheet_capac.cell(row=i, column=2).value)\n",
    "    route_num_list.append(sheet_capac.cell(row=i, column=8).value)\n",
    "    # take the period capacity factor into consideration\n",
    "    AB_AM_capac_list.append((1.0/2.5)*sheet_capac.cell(row=i, column=18).value)\n",
    "    AB_MD_capac_list.append((1.0/4.75)*sheet_capac.cell(row=i, column=20).value)\n",
    "    AB_PM_capac_list.append((1.0/2.5)*sheet_capac.cell(row=i, column=22).value)\n",
    "    AB_NT_capac_list.append((1.0/7.0)*sheet_capac.cell(row=i, column=24).value)\n",
    "\n",
    "assert(len(road_invent_list) == len(length_list) and \\\n",
    "               len(length_list) == len(route_num_list) and \\\n",
    "               len(route_num_list) == len(AB_AM_capac_list) and \\\n",
    "               len(AB_AM_capac_list) == len(AB_MD_capac_list) and \\\n",
    "               len(AB_MD_capac_list) == len(AB_PM_capac_list) and \\\n",
    "               len(AB_PM_capac_list) == len(AB_NT_capac_list))    \n",
    "\n",
    "\n",
    "##### extract attributes of interest from lookup sheet\n",
    "\n",
    "road_inv_ID_lookup_list = []\n",
    "tmc_lookup_list = []\n",
    "\n",
    "for i in xrange(2, 1 + sheet_lookup.max_row):\n",
    "    road_inv_ID_lookup_list.append(sheet_lookup.cell(row=i, column=1).value) \n",
    "    tmc_lookup_list.append(str(sheet_lookup.cell(row=i, column=4).value))\n",
    "\n",
    "assert(len(road_inv_ID_lookup_list) == len(tmc_lookup_list))    \n",
    "\n",
    "\n",
    "# instantiation of RoadSegInr class\n",
    "road_seg_inr = RoadSegInr(tmc_list, road_num_list, shape_length_list)\n",
    "\n",
    "# instantiation of RoadSegCapac class\n",
    "road_seg_capac = RoadSegCapac(road_invent_list, length_list, route_num_list, \\\n",
    "                              AB_AM_capac_list, AB_MD_capac_list, \\\n",
    "                              AB_PM_capac_list, AB_NT_capac_list)\n",
    "\n",
    "# instantiation of LookUp class\n",
    "look_up = LookUp(road_inv_ID_lookup_list, tmc_lookup_list)\n",
    "\n",
    "# make a dictionary from look_up\n",
    "tmc_roadInv_dict = {i:j for (i, j) in zip(look_up.tmc, look_up.road_inv_ID)}\n",
    "\n",
    "# make dictionaries from road_seg_capac\n",
    "roadInv_capac_dict_AM = {i:j for (i, j) in zip(road_seg_capac.road_invent, \\\n",
    "                                               road_seg_capac.AB_AM_capac)}\n",
    "roadInv_capac_dict_MD = {i:j for (i, j) in zip(road_seg_capac.road_invent, \\\n",
    "                                               road_seg_capac.AB_MD_capac)}\n",
    "roadInv_capac_dict_PM = {i:j for (i, j) in zip(road_seg_capac.road_invent, \\\n",
    "                                               road_seg_capac.AB_PM_capac)}\n",
    "roadInv_capac_dict_NT = {i:j for (i, j) in zip(road_seg_capac.road_invent, \\\n",
    "                                               road_seg_capac.AB_NT_capac)}\n",
    "\n",
    "capac_AM = []\n",
    "capac_MD = []\n",
    "capac_PM = []\n",
    "capac_NT = []\n",
    "\n",
    "for i in range(len(road_seg_inr.tmc)):\n",
    "    capac_AM.append(roadInv_capac_dict_AM[tmc_roadInv_dict[road_seg_inr.tmc[i]]])\n",
    "    capac_MD.append(roadInv_capac_dict_MD[tmc_roadInv_dict[road_seg_inr.tmc[i]]])\n",
    "    capac_PM.append(roadInv_capac_dict_PM[tmc_roadInv_dict[road_seg_inr.tmc[i]]])\n",
    "    capac_NT.append(roadInv_capac_dict_NT[tmc_roadInv_dict[road_seg_inr.tmc[i]]])\n",
    "\n",
    "# instantiation of RoadSegInrCapac class\n",
    "road_seg_inr_capac = RoadSegInrCapac(tmc_list, road_num_list, shape_length_list, \\\n",
    "                                     capac_AM, capac_MD, capac_PM, capac_NT)\n",
    "\n",
    "zdump(road_seg_inr_capac, '../temp_files/road_seg_inr_capac_ext.pkz')"
   ]
  },
  {
   "cell_type": "code",
   "execution_count": null,
   "metadata": {
    "collapsed": true
   },
   "outputs": [],
   "source": []
  }
 ],
 "metadata": {
  "kernelspec": {
   "display_name": "Python 2",
   "language": "python",
   "name": "python2"
  },
  "language_info": {
   "codemirror_mode": {
    "name": "ipython",
    "version": 2
   },
   "file_extension": ".py",
   "mimetype": "text/x-python",
   "name": "python",
   "nbconvert_exporter": "python",
   "pygments_lexer": "ipython2",
   "version": "2.7.11"
  }
 },
 "nbformat": 4,
 "nbformat_minor": 0
}
