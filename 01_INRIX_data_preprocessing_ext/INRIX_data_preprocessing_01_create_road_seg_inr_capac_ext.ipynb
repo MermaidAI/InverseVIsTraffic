{
 "cells": [
  {
   "cell_type": "code",
   "execution_count": 1,
   "metadata": {
    "collapsed": false
   },
   "outputs": [
    {
     "name": "stdout",
     "output_type": "stream",
     "text": [
      "No dicts found; please check load_dicts...\n"
     ]
    }
   ],
   "source": [
    "%run ../Python_files/util.py"
   ]
  },
  {
   "cell_type": "code",
   "execution_count": 2,
   "metadata": {
    "collapsed": false
   },
   "outputs": [],
   "source": [
    "import json\n",
    "\n",
    "with open('../temp_files/RoadSegCapacLane_dict_JSON.json', 'r') as json_file:\n",
    "    RoadSegCapacLane_dict_JSON = json.load(json_file)"
   ]
  },
  {
   "cell_type": "code",
   "execution_count": 3,
   "metadata": {
    "collapsed": true
   },
   "outputs": [],
   "source": [
    "##### read in raw data\n",
    "\n",
    "import openpyxl\n",
    "\n",
    "data_folder = '/home/jzh/Dropbox/Research/\\\n",
    "Data-driven_estimation_inverse_optimization/INRIX/Raw_data/'\n",
    "\n",
    "# load filtered INRIX attribute table raw data\n",
    "wb_INRIX = openpyxl.load_workbook(data_folder + 'filtered_INRIX_attribute_table_ext.xlsx')\n",
    "\n",
    "# load lookup table raw data\n",
    "wb_lookup = openpyxl.load_workbook(data_folder + 'roadinv_id_to_tmc_lookup.xlsx') \n",
    "\n",
    "# get sheet name from workbook\n",
    "sheet_INRIX_name = wb_INRIX.sheetnames[0].encode('utf-8')\n",
    "sheet_lookup_name = wb_lookup.sheetnames[0].encode('utf-8')\n",
    "\n",
    "# get sheet of filtered INRIX attribute table raw data\n",
    "sheet_INRIX = wb_INRIX.get_sheet_by_name(sheet_INRIX_name)\n",
    "\n",
    "# get sheet of lookup table raw data\n",
    "sheet_lookup = wb_lookup.get_sheet_by_name(sheet_lookup_name)"
   ]
  },
  {
   "cell_type": "code",
   "execution_count": 4,
   "metadata": {
    "collapsed": true
   },
   "outputs": [],
   "source": [
    "##### extract attributes of interest from INRIX sheet\n",
    "\n",
    "tmc_list = []\n",
    "road_num_list = []\n",
    "shape_length_list = []\n",
    "\n",
    "for i in xrange(2, 1 + sheet_INRIX.max_row):\n",
    "    tmc_list.append(sheet_INRIX.cell(row=i, column=2).value.encode('utf-8'))\n",
    "    road_num_list.append(sheet_INRIX.cell(row=i, column=3).value.encode('utf-8'))\n",
    "    shape_length_list.append(sheet_INRIX.cell(row=i, column=13).value)\n",
    "\n",
    "assert(len(tmc_list) == len(road_num_list) and \\\n",
    "       len(road_num_list) == len(shape_length_list)) "
   ]
  },
  {
   "cell_type": "code",
   "execution_count": 5,
   "metadata": {
    "collapsed": true
   },
   "outputs": [],
   "source": [
    "##### extract attributes of interest from lookup sheet\n",
    "\n",
    "road_inv_ID_lookup_list = []\n",
    "tmc_lookup_list = []\n",
    "\n",
    "for i in xrange(2, 1 + sheet_lookup.max_row):\n",
    "    road_inv_ID_lookup_list.append(sheet_lookup.cell(row=i, column=1).value) \n",
    "    tmc_lookup_list.append(str(sheet_lookup.cell(row=i, column=4).value))\n",
    "\n",
    "assert(len(road_inv_ID_lookup_list) == len(tmc_lookup_list))    \n",
    "\n",
    "# instantiation of LookUp class\n",
    "look_up = LookUp(road_inv_ID_lookup_list, tmc_lookup_list)\n",
    "\n",
    "# make a dictionary from look_up\n",
    "tmc_roadInv_dict = {i:j for (i, j) in zip(look_up.tmc, look_up.road_inv_ID)}"
   ]
  },
  {
   "cell_type": "code",
   "execution_count": 6,
   "metadata": {
    "collapsed": false
   },
   "outputs": [],
   "source": [
    "capac_AM = []\n",
    "capac_MD = [] \n",
    "capac_PM = [] \n",
    "capac_NT = []\n",
    "\n",
    "for tmc in tmc_list:\n",
    "    if not(tmc in tmc_roadInv_dict.keys()):\n",
    "        capac_AM.append(-1.0)\n",
    "        capac_MD.append(-1.0)\n",
    "        capac_PM.append(-1.0)\n",
    "        capac_NT.append(-1.0)\n",
    "    else:\n",
    "        road_inv_ID = str(tmc_roadInv_dict[tmc])\n",
    "        if not(road_inv_ID in RoadSegCapacLane_dict_JSON.keys()):\n",
    "            capac_AM.append(-1.0)\n",
    "            capac_MD.append(-1.0)\n",
    "            capac_PM.append(-1.0)\n",
    "            capac_NT.append(-1.0)\n",
    "        else:\n",
    "            capac_AM.append(RoadSegCapacLane_dict_JSON[road_inv_ID]['AB_AM_capac'])\n",
    "            capac_MD.append(RoadSegCapacLane_dict_JSON[road_inv_ID]['AB_MD_capac'])\n",
    "            capac_PM.append(RoadSegCapacLane_dict_JSON[road_inv_ID]['AB_PM_capac'])\n",
    "            capac_NT.append(RoadSegCapacLane_dict_JSON[road_inv_ID]['AB_NT_capac'])"
   ]
  },
  {
   "cell_type": "code",
   "execution_count": 7,
   "metadata": {
    "collapsed": false
   },
   "outputs": [],
   "source": [
    "# instantiation of RoadSegInrCapac class\n",
    "road_seg_inr_capac = RoadSegInrCapac(tmc_list, road_num_list, shape_length_list, \\\n",
    "                                     capac_AM, capac_MD, capac_PM, capac_NT)\n",
    "\n",
    "zdump(road_seg_inr_capac, '../temp_files/road_seg_inr_capac_ext.pkz')"
   ]
  },
  {
   "cell_type": "code",
   "execution_count": null,
   "metadata": {
    "collapsed": true
   },
   "outputs": [],
   "source": []
  }
 ],
 "metadata": {
  "kernelspec": {
   "display_name": "Python 2",
   "language": "python",
   "name": "python2"
  },
  "language_info": {
   "codemirror_mode": {
    "name": "ipython",
    "version": 2
   },
   "file_extension": ".py",
   "mimetype": "text/x-python",
   "name": "python",
   "nbconvert_exporter": "python",
   "pygments_lexer": "ipython2",
   "version": "2.7.11"
  }
 },
 "nbformat": 4,
 "nbformat_minor": 0
}
