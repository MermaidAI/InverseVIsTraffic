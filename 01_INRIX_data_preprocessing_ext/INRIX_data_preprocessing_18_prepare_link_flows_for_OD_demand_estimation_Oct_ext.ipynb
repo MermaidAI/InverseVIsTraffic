{
 "cells": [
  {
   "cell_type": "code",
   "execution_count": 1,
   "metadata": {
    "collapsed": false
   },
   "outputs": [
    {
     "name": "stdout",
     "output_type": "stream",
     "text": [
      "[635.69849009762288, 536.71777295632546, 434.11849649602038, 434.11849649602038, 435.74758449450468, 372.97082069571184, 258.71520898158576, 363.57197698669154, 729.05021733774549, 1003.0560335843137]\n",
      "[155.87971694871817, 197.94210599694952, 476.95055669635786, 512.4874401792864, 532.6246369444345, 532.6246369444345, 493.0375110321365, 528.467085733975, 510.45677117160284, 510.45677117160284]\n"
     ]
    }
   ],
   "source": [
    "%run ../Python_files/load_dicts.py\n",
    "%run ../Python_files/INRIX_data_preprocessing_18_prepare_link_flows_for_OD_demand_estimation_Oct_ext.py"
   ]
  },
  {
   "cell_type": "code",
   "execution_count": null,
   "metadata": {
    "collapsed": true
   },
   "outputs": [],
   "source": []
  }
 ],
 "metadata": {
  "kernelspec": {
   "display_name": "Python 2",
   "language": "python",
   "name": "python2"
  },
  "language_info": {
   "codemirror_mode": {
    "name": "ipython",
    "version": 2
   },
   "file_extension": ".py",
   "mimetype": "text/x-python",
   "name": "python",
   "nbconvert_exporter": "python",
   "pygments_lexer": "ipython2",
   "version": "2.7.11"
  }
 },
 "nbformat": 4,
 "nbformat_minor": 0
}
