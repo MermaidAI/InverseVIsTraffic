{
 "cells": [
  {
   "cell_type": "code",
   "execution_count": 1,
   "metadata": {
    "collapsed": false
   },
   "outputs": [
    {
     "name": "stdout",
     "output_type": "stream",
     "text": [
      "[1375.2543448323286, 1379.7891591765374, 1291.7636781378862, 1521.4816622592427, 1441.2075169309405, 1495.0484353219144, 1506.267534935492, 1506.267534935492, 1425.6255251615698, 1561.9200630196462]\n",
      "[1359.2955292544527, 1488.5297751722835, 1626.1574165493387, 1458.482068582815, 1432.37946397723, 1448.8070641826455, 1377.337495044955, 1238.982824285709, 1247.6380519230145, 1419.4795523585656]\n"
     ]
    }
   ],
   "source": [
    "%run ../Python_files/load_dicts.py\n",
    "%run ../Python_files/INRIX_data_preprocessing_16_prepare_link_flows_for_OD_demand_estimation_Apr_ext.py"
   ]
  },
  {
   "cell_type": "code",
   "execution_count": null,
   "metadata": {
    "collapsed": true
   },
   "outputs": [],
   "source": []
  }
 ],
 "metadata": {
  "kernelspec": {
   "display_name": "Python 2",
   "language": "python",
   "name": "python2"
  },
  "language_info": {
   "codemirror_mode": {
    "name": "ipython",
    "version": 2
   },
   "file_extension": ".py",
   "mimetype": "text/x-python",
   "name": "python",
   "nbconvert_exporter": "python",
   "pygments_lexer": "ipython2",
   "version": "2.7.11"
  }
 },
 "nbformat": 4,
 "nbformat_minor": 0
}
