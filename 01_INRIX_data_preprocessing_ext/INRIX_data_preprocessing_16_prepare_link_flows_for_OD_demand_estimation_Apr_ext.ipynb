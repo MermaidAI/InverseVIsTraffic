{
 "cells": [
  {
   "cell_type": "code",
   "execution_count": 1,
   "metadata": {
    "collapsed": false
   },
   "outputs": [
    {
     "name": "stdout",
     "output_type": "stream",
     "text": [
      "[557.46752829184004, 569.44610648624734, 529.23422473638277, 730.05849098016836, 638.96755256736867, 700.00221417644468, 712.72496230821343, 712.72496230821343, 607.55279333749604, 713.05436073000703]\n",
      "[566.4530977326938, 709.1997527921216, 823.4320739537061, 738.1891572473373, 636.7776079044141, 654.6533030685237, 627.8237678044077, 478.91942347303853, 478.7787924515185, 654.4429475057094]\n"
     ]
    }
   ],
   "source": [
    "%run ../Python_files/load_dicts.py\n",
    "%run ../Python_files/INRIX_data_preprocessing_16_prepare_link_flows_for_OD_demand_estimation_Apr_ext.py"
   ]
  },
  {
   "cell_type": "code",
   "execution_count": null,
   "metadata": {
    "collapsed": true
   },
   "outputs": [],
   "source": []
  }
 ],
 "metadata": {
  "kernelspec": {
   "display_name": "Python 2",
   "language": "python",
   "name": "python2"
  },
  "language_info": {
   "codemirror_mode": {
    "name": "ipython",
    "version": 2
   },
   "file_extension": ".py",
   "mimetype": "text/x-python",
   "name": "python",
   "nbconvert_exporter": "python",
   "pygments_lexer": "ipython2",
   "version": "2.7.11"
  }
 },
 "nbformat": 4,
 "nbformat_minor": 0
}
