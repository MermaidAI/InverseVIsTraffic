{
 "cells": [
  {
   "cell_type": "code",
   "execution_count": 13,
   "metadata": {
    "collapsed": false
   },
   "outputs": [
    {
     "ename": "KeyError",
     "evalue": "'129+09223'",
     "output_type": "error",
     "traceback": [
      "\u001b[1;31m---------------------------------------------------------------------------\u001b[0m",
      "\u001b[1;31mKeyError\u001b[0m                                  Traceback (most recent call last)",
      "\u001b[1;32m/home/jzh/Dropbox/Research/Data-driven_estimation_inverse_optimization/Experiments/InverseVIsTraffic/Python_files/save_capacity_links_ext.py\u001b[0m in \u001b[0;36m<module>\u001b[1;34m()\u001b[0m\n\u001b[0;32m     60\u001b[0m \u001b[0mtmc_set_link_3_2\u001b[0m \u001b[1;33m=\u001b[0m \u001b[1;33m[\u001b[0m\u001b[0mi\u001b[0m \u001b[1;32mfor\u001b[0m \u001b[0mi\u001b[0m \u001b[1;32min\u001b[0m \u001b[0mtmc_list_ext_link_dict\u001b[0m\u001b[1;33m[\u001b[0m\u001b[1;34m'3'\u001b[0m\u001b[1;33m]\u001b[0m \u001b[1;32mif\u001b[0m \u001b[1;33m(\u001b[0m\u001b[1;34m'N'\u001b[0m \u001b[1;32min\u001b[0m \u001b[0mi\u001b[0m \u001b[1;32mor\u001b[0m \u001b[1;34m'-'\u001b[0m \u001b[1;32min\u001b[0m \u001b[0mi\u001b[0m\u001b[1;33m)\u001b[0m\u001b[1;33m]\u001b[0m\u001b[1;33m\u001b[0m\u001b[0m\n\u001b[0;32m     61\u001b[0m AM_capac_link_3_1 = sum([tmc_capac_dict_AM[i] * tmc_length_dict[i] / \\\n\u001b[1;32m---> 62\u001b[1;33m \t\t\t (tmc_ref_speed_dict[i]) for i in tmc_set_link_3_1]) / \\\n\u001b[0m\u001b[0;32m     63\u001b[0m                     \u001b[0msum\u001b[0m\u001b[1;33m(\u001b[0m\u001b[1;33m[\u001b[0m\u001b[0mtmc_length_dict\u001b[0m\u001b[1;33m[\u001b[0m\u001b[0mi\u001b[0m\u001b[1;33m]\u001b[0m \u001b[1;33m/\u001b[0m \u001b[1;33m(\u001b[0m\u001b[0mtmc_ref_speed_dict\u001b[0m\u001b[1;33m[\u001b[0m\u001b[0mi\u001b[0m\u001b[1;33m]\u001b[0m\u001b[1;33m)\u001b[0m \u001b[1;32mfor\u001b[0m \u001b[0mi\u001b[0m \u001b[1;32min\u001b[0m \u001b[0mtmc_set_link_3_1\u001b[0m\u001b[1;33m]\u001b[0m\u001b[1;33m)\u001b[0m\u001b[1;33m\u001b[0m\u001b[0m\n\u001b[0;32m     64\u001b[0m AM_capac_link_3_2 = sum([tmc_capac_dict_AM[i] * tmc_length_dict[i] / \\\n",
      "\u001b[1;31mKeyError\u001b[0m: '129+09223'"
     ]
    },
    {
     "ename": "IOError",
     "evalue": "[Errno 2] No such file or directory: '../temp_files/links_with_capac_ext.pkz'",
     "output_type": "error",
     "traceback": [
      "\u001b[1;31m---------------------------------------------------------------------------\u001b[0m",
      "\u001b[1;31mIOError\u001b[0m                                   Traceback (most recent call last)",
      "\u001b[1;32m<ipython-input-13-02ccea66d9e2>\u001b[0m in \u001b[0;36m<module>\u001b[1;34m()\u001b[0m\n\u001b[0;32m     33\u001b[0m \u001b[1;31m#     = zload('../temp_files/links_with_capac_ext.pkz')\u001b[0m\u001b[1;33m\u001b[0m\u001b[1;33m\u001b[0m\u001b[0m\n\u001b[0;32m     34\u001b[0m \u001b[1;33m\u001b[0m\u001b[0m\n\u001b[1;32m---> 35\u001b[1;33m \u001b[0mlink_with_capac_list\u001b[0m \u001b[1;33m=\u001b[0m \u001b[0mlist\u001b[0m\u001b[1;33m(\u001b[0m\u001b[0mzload\u001b[0m\u001b[1;33m(\u001b[0m\u001b[1;34m'../temp_files/links_with_capac_ext.pkz'\u001b[0m\u001b[1;33m)\u001b[0m\u001b[1;33m)\u001b[0m\u001b[1;33m\u001b[0m\u001b[0m\n\u001b[0m\u001b[0;32m     36\u001b[0m \u001b[1;33m\u001b[0m\u001b[0m\n\u001b[0;32m     37\u001b[0m \u001b[0mlink_length_dict\u001b[0m \u001b[1;33m=\u001b[0m \u001b[1;33m{\u001b[0m\u001b[1;33m}\u001b[0m\u001b[1;33m\u001b[0m\u001b[0m\n",
      "\u001b[1;32m/home/jzh/Dropbox/Research/Data-driven_estimation_inverse_optimization/Experiments/InverseVIsTraffic/Python_files/util_data_storage_and_load.pyc\u001b[0m in \u001b[0;36mzload\u001b[1;34m(f_name)\u001b[0m\n\u001b[0;32m     16\u001b[0m \u001b[1;33m\u001b[0m\u001b[0m\n\u001b[0;32m     17\u001b[0m \u001b[1;32mdef\u001b[0m \u001b[0mzload\u001b[0m\u001b[1;33m(\u001b[0m\u001b[0mf_name\u001b[0m\u001b[1;33m)\u001b[0m\u001b[1;33m:\u001b[0m\u001b[1;33m\u001b[0m\u001b[0m\n\u001b[1;32m---> 18\u001b[1;33m     \u001b[0mf\u001b[0m \u001b[1;33m=\u001b[0m \u001b[0mgzip\u001b[0m\u001b[1;33m.\u001b[0m\u001b[0mopen\u001b[0m\u001b[1;33m(\u001b[0m\u001b[0mf_name\u001b[0m\u001b[1;33m,\u001b[0m\u001b[1;34m'rb'\u001b[0m\u001b[1;33m,\u001b[0m \u001b[0mproto\u001b[0m\u001b[1;33m)\u001b[0m\u001b[1;33m\u001b[0m\u001b[0m\n\u001b[0m\u001b[0;32m     19\u001b[0m     \u001b[0mobj\u001b[0m \u001b[1;33m=\u001b[0m \u001b[0mpickle\u001b[0m\u001b[1;33m.\u001b[0m\u001b[0mload\u001b[0m\u001b[1;33m(\u001b[0m\u001b[0mf\u001b[0m\u001b[1;33m)\u001b[0m\u001b[1;33m\u001b[0m\u001b[0m\n\u001b[0;32m     20\u001b[0m     \u001b[0mf\u001b[0m\u001b[1;33m.\u001b[0m\u001b[0mclose\u001b[0m\u001b[1;33m(\u001b[0m\u001b[1;33m)\u001b[0m\u001b[1;33m\u001b[0m\u001b[0m\n",
      "\u001b[1;32m/home/jzh/anaconda2/lib/python2.7/gzip.pyc\u001b[0m in \u001b[0;36mopen\u001b[1;34m(filename, mode, compresslevel)\u001b[0m\n\u001b[0;32m     32\u001b[0m \u001b[1;33m\u001b[0m\u001b[0m\n\u001b[0;32m     33\u001b[0m     \"\"\"\n\u001b[1;32m---> 34\u001b[1;33m     \u001b[1;32mreturn\u001b[0m \u001b[0mGzipFile\u001b[0m\u001b[1;33m(\u001b[0m\u001b[0mfilename\u001b[0m\u001b[1;33m,\u001b[0m \u001b[0mmode\u001b[0m\u001b[1;33m,\u001b[0m \u001b[0mcompresslevel\u001b[0m\u001b[1;33m)\u001b[0m\u001b[1;33m\u001b[0m\u001b[0m\n\u001b[0m\u001b[0;32m     35\u001b[0m \u001b[1;33m\u001b[0m\u001b[0m\n\u001b[0;32m     36\u001b[0m \u001b[1;32mclass\u001b[0m \u001b[0mGzipFile\u001b[0m\u001b[1;33m(\u001b[0m\u001b[0mio\u001b[0m\u001b[1;33m.\u001b[0m\u001b[0mBufferedIOBase\u001b[0m\u001b[1;33m)\u001b[0m\u001b[1;33m:\u001b[0m\u001b[1;33m\u001b[0m\u001b[0m\n",
      "\u001b[1;32m/home/jzh/anaconda2/lib/python2.7/gzip.pyc\u001b[0m in \u001b[0;36m__init__\u001b[1;34m(self, filename, mode, compresslevel, fileobj, mtime)\u001b[0m\n\u001b[0;32m     92\u001b[0m             \u001b[0mmode\u001b[0m \u001b[1;33m+=\u001b[0m \u001b[1;34m'b'\u001b[0m\u001b[1;33m\u001b[0m\u001b[0m\n\u001b[0;32m     93\u001b[0m         \u001b[1;32mif\u001b[0m \u001b[0mfileobj\u001b[0m \u001b[1;32mis\u001b[0m \u001b[0mNone\u001b[0m\u001b[1;33m:\u001b[0m\u001b[1;33m\u001b[0m\u001b[0m\n\u001b[1;32m---> 94\u001b[1;33m             \u001b[0mfileobj\u001b[0m \u001b[1;33m=\u001b[0m \u001b[0mself\u001b[0m\u001b[1;33m.\u001b[0m\u001b[0mmyfileobj\u001b[0m \u001b[1;33m=\u001b[0m \u001b[0m__builtin__\u001b[0m\u001b[1;33m.\u001b[0m\u001b[0mopen\u001b[0m\u001b[1;33m(\u001b[0m\u001b[0mfilename\u001b[0m\u001b[1;33m,\u001b[0m \u001b[0mmode\u001b[0m \u001b[1;32mor\u001b[0m \u001b[1;34m'rb'\u001b[0m\u001b[1;33m)\u001b[0m\u001b[1;33m\u001b[0m\u001b[0m\n\u001b[0m\u001b[0;32m     95\u001b[0m         \u001b[1;32mif\u001b[0m \u001b[0mfilename\u001b[0m \u001b[1;32mis\u001b[0m \u001b[0mNone\u001b[0m\u001b[1;33m:\u001b[0m\u001b[1;33m\u001b[0m\u001b[0m\n\u001b[0;32m     96\u001b[0m             \u001b[1;31m# Issue #13781: os.fdopen() creates a fileobj with a bogus name\u001b[0m\u001b[1;33m\u001b[0m\u001b[1;33m\u001b[0m\u001b[0m\n",
      "\u001b[1;31mIOError\u001b[0m: [Errno 2] No such file or directory: '../temp_files/links_with_capac_ext.pkz'"
     ]
    }
   ],
   "source": [
    "%run ../Python_files/extract_tmc_links_ext.py\n",
    "\n",
    "%run ../Python_files/load_dicts.py\n",
    "\n",
    "%run ../Python_files/util.py\n",
    "\n",
    "road_seg_inr_capac = zload('../temp_files/road_seg_inr_capac.pkz')\n",
    "\n",
    "# make dictionaries mapping tmc to capacities\n",
    "tmc_capac_dict_AM = {i:j for (i, j) in zip(road_seg_inr_capac.tmc, road_seg_inr_capac.AB_AM_capac)}\n",
    "tmc_capac_dict_MD = {i:j for (i, j) in zip(road_seg_inr_capac.tmc, road_seg_inr_capac.AB_MD_capac)}\n",
    "tmc_capac_dict_PM = {i:j for (i, j) in zip(road_seg_inr_capac.tmc, road_seg_inr_capac.AB_PM_capac)}\n",
    "tmc_capac_dict_NT = {i:j for (i, j) in zip(road_seg_inr_capac.tmc, road_seg_inr_capac.AB_NT_capac)}\n",
    "\n",
    "# make a dictionary mapping tmc to segment length\n",
    "tmc_length_dict = {i:j for (i, j) in zip(road_seg_inr_capac.tmc, road_seg_inr_capac.shape_length)}\n",
    "\n",
    "zdump([tmc_capac_dict_AM, tmc_capac_dict_MD, \\\n",
    "       tmc_capac_dict_PM, tmc_capac_dict_NT, tmc_length_dict], '../temp_files/link_dicts.pkz')\n",
    "\n",
    "%run ../Python_files/save_capacity_links_ext.py\n",
    "\n",
    "# link_1_1, link_1_2, link_2_1, link_2_2, link_3_1, link_3_2, \\\n",
    "# \tlink_4_1, link_4_2, link_5_1, link_5_2, link_6_1, link_6_2, \\\n",
    "# \tlink_7_1, link_7_2, link_8_1, link_8_2, link_9_1, link_9_2, \\\n",
    "# \tlink_10_1, link_10_2, link_11_1, link_11_2, link_12_1, link_12_2, \\\n",
    "# \tlink_13_1, link_13_2, link_14_1, link_14_2, link_15_1, link_15_2, \\\n",
    "# \tlink_16_1, link_16_2, link_17_1, link_17_2, link_18_1, link_18_2, \\\n",
    "# \tlink_19_1, link_19_2, link_20_1, link_20_2, link_21_1, link_21_2, \\\n",
    "# \tlink_22_1, link_22_2, link_23_1, link_23_2, link_24_1, link_24_2, \\\n",
    "# \tlink_25_1, link_25_2, link_26_1, link_26_2, link_27_1, link_27_2, \\\n",
    "# \tlink_28_1, link_28_2, link_29_1, link_29_2, link_30_1, link_30_2, \\\n",
    "# \tlink_31_1, link_31_2, link_32_1, link_32_2 \\\n",
    "#     = zload('../temp_files/links_with_capac_ext.pkz')\n",
    "\n",
    "link_with_capac_list = list(zload('../temp_files/links_with_capac_ext.pkz'))\n",
    "\n",
    "link_length_dict = {}\n",
    "\n",
    "i = 0\n",
    "for link_with_capac in link_with_capac_list:\n",
    "    link_with_capac_new = Link_with_Free_Flow_Time(link_with_capac.init_node, link_with_capac.term_node, \\\n",
    "                                                   link_with_capac.tmc_set, \\\n",
    "                                                   link_with_capac.AM_capac, \\\n",
    "                                                   link_with_capac.MD_capac, \\\n",
    "                                                   link_with_capac.PM_capac, \\\n",
    "                                                   link_with_capac.NT_capac, \\\n",
    "                                                   link_with_capac.length, \\\n",
    "                                                   link_with_capac.free_flow_time, \\\n",
    "                                                   0, 0, 0, 0)\n",
    "    link_length_dict[str(i)] = link_with_capac_new\n",
    "    i = i + 1\n",
    "\n",
    "zdump(link_length_dict, '../temp_files/link_length_dict_ext.pkz')"
   ]
  },
  {
   "cell_type": "code",
   "execution_count": null,
   "metadata": {
    "collapsed": true
   },
   "outputs": [],
   "source": []
  }
 ],
 "metadata": {
  "kernelspec": {
   "display_name": "Python 2",
   "language": "python",
   "name": "python2"
  },
  "language_info": {
   "codemirror_mode": {
    "name": "ipython",
    "version": 2
   },
   "file_extension": ".py",
   "mimetype": "text/x-python",
   "name": "python",
   "nbconvert_exporter": "python",
   "pygments_lexer": "ipython2",
   "version": "2.7.11"
  }
 },
 "nbformat": 4,
 "nbformat_minor": 0
}
