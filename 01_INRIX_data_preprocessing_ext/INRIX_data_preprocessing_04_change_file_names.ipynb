{
 "cells": [
  {
   "cell_type": "code",
   "execution_count": 1,
   "metadata": {
    "collapsed": false
   },
   "outputs": [
    {
     "name": "stdout",
     "output_type": "stream",
     "text": [
      "Directory exists\n",
      "['filtered_INRIX_attribute_table_ext_link_20.xlsx', 'filtered_INRIX_attribute_table_link_1.xlsx', 'filtered_INRIX_attribute_table_ext_link_9.xlsx', 'filtered_INRIX_attribute_table_ext_link_12.xlsx', 'filtered_INRIX_attribute_table_ext_link_11.xlsx', 'filtered_INRIX_attribute_table_ext_link_17.xlsx', 'filtered_INRIX_attribute_table_link_5.xlsx', 'filtered_INRIX_attribute_table_ext_link_10.xlsx', 'filtered_INRIX_attribute_table_ext_link_4.xlsx', 'filtered_INRIX_attribute_table_ext_link_24.xlsx', 'capacity_attribute_table.xlsx', 'MA_highway_network_submap.png', 'filtered_INRIX_attribute_table_ext_link_26.xlsx', 'filtered_INRIX_attribute_table_ext_link_27.xlsx', 'MA_highway_network_topology_.pdf', 'filtered_INRIX_attribute_table_link_7.xlsx', 'filtered_INRIX_attribute_table_ext_link_2.xlsx', 'filtered_INRIX_attribute_table_ext_link_25.xlsx', 'filtered_INRIX_attribute_table_ext_link_7.xlsx', 'filtered_INRIX_attribute_table_link_3.xlsx', 'filtered_INRIX_attribute_table_ext_link_16.xlsx', 'filtered_INRIX_attribute_table_link_9.xlsx', 'filtered_INRIX_attribute_table_link_12.xlsx', 'filtered_INRIX_attribute_table_ext_link_18.xlsx', 'filtered_INRIX_attribute_table_ext_link_3.xlsx', 'filtered_INRIX_attribute_table_ext_link_5.xlsx', 'filtered_INRIX_attribute_table_ext_link_8.xlsx', 'filtered_INRIX_attribute_table_link_2.xlsx', 'filtered_INRIX_attribute_table_link_10.xlsx', 'filtered_INRIX_attribute_table_ext_link_23.xlsx', 'filtered_INRIX_attribute_table_ext_link_29.xlsx', 'filtered_INRIX_attribute_table_ext_link_31.xlsx', 'filtered_capacity_attribute_table.xlsx', 'filtered_INRIX_attribute_table_ext_link_21.xlsx', 'filtered_INRIX_attribute_table_ext_link_28.xlsx', 'capacity_attribute_table_add_column_idx.xlsx', 'filtered_INRIX_attribute_table.xlsx', 'filtered_INRIX_attribute_table_ext_link_30.xlsx', 'filtered_INRIX_attribute_table_ext_link_19.xlsx', 'filtered_INRIX_attribute_table_ext_link_32.xlsx', 'filtered_INRIX_attribute_table_link_8.xlsx', 'filtered_INRIX_attribute_table_ext_link_14.xlsx', 'filtered_INRIX_attribute_table_ext_link_13.xlsx', 'filtered_INRIX_attribute_table_ext_link_22.xlsx', 'filtered_INRIX_attribute_table_link_11.xlsx', 'roadinv_id_to_tmc_lookup.xlsx', 'filtered_INRIX_attribute_table_ext_link_15.xlsx', 'filtered_INRIX_attribute_table_ext_link_6.xlsx', 'filtered_INRIX_attribute_table_link_4.xlsx', 'filtered_INRIX_attribute_table_ext.xlsx', 'filtered_INRIX_attribute_table_ext_link_1.xlsx', 'filtered_INRIX_attribute_table_link_6.xlsx']\n"
     ]
    }
   ],
   "source": [
    "# cf. http://world77.blog.51cto.com/414605/552326\n",
    "\n",
    "#!/usr/bin/env python\n",
    "import os\n",
    "import shutil\n",
    "import time\n",
    "\n",
    "data_dir = \"/home/jzh/Dropbox/Research/Data-driven_estimation_inverse_optimization/INRIX/Raw_data\"\n",
    "\n",
    "# 判断是否存在路径\n",
    "if os.path.isdir(data_dir):    \n",
    "    print (\"Directory exists\")\n",
    "else:\n",
    "    print (\"Directory does not exist; please input right dir\")    # 如果不存在，就提示\n",
    "\n",
    "filelist = []\n",
    "\n",
    "filelist = os.listdir(data_dir)    # 得到文件名\n",
    "\n",
    "print(filelist)\n",
    "\n",
    "data_dir = \"/home/jzh/Dropbox/Research/Data-driven_estimation_inverse_optimization/INRIX/Raw_data/\"\n",
    "\n",
    "for i in filelist:\n",
    "    NewFile = i.replace(\"Link\", \"link\")   \n",
    "    # print NewFile     \n",
    "    shutil.move(data_dir + i, data_dir + NewFile)   "
   ]
  },
  {
   "cell_type": "code",
   "execution_count": null,
   "metadata": {
    "collapsed": true
   },
   "outputs": [],
   "source": []
  }
 ],
 "metadata": {
  "kernelspec": {
   "display_name": "Python 2",
   "language": "python",
   "name": "python2"
  },
  "language_info": {
   "codemirror_mode": {
    "name": "ipython",
    "version": 2
   },
   "file_extension": ".py",
   "mimetype": "text/x-python",
   "name": "python",
   "nbconvert_exporter": "python",
   "pygments_lexer": "ipython2",
   "version": "2.7.11"
  }
 },
 "nbformat": 4,
 "nbformat_minor": 0
}
