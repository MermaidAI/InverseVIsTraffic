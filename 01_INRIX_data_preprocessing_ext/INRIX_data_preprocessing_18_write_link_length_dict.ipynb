{
 "cells": [
  {
   "cell_type": "code",
   "execution_count": 1,
   "metadata": {
    "collapsed": false
   },
   "outputs": [
    {
     "name": "stdout",
     "output_type": "stream",
     "text": [
      "No dicts found; please check load_dicts...\n"
     ]
    }
   ],
   "source": [
    "%run ../Python_files/util.py"
   ]
  },
  {
   "cell_type": "code",
   "execution_count": 2,
   "metadata": {
    "collapsed": true
   },
   "outputs": [],
   "source": [
    "link_length_dict_ext = zload('../temp_files/link_length_dict_ext.pkz')"
   ]
  },
  {
   "cell_type": "code",
   "execution_count": 3,
   "metadata": {
    "collapsed": false
   },
   "outputs": [],
   "source": [
    "link_length_ext_dict = {}\n",
    "for i in range(64):\n",
    "    link_length_ext_dict[str(i)] = link_length_dict_ext[str(i)].length"
   ]
  },
  {
   "cell_type": "code",
   "execution_count": 4,
   "metadata": {
    "collapsed": false
   },
   "outputs": [],
   "source": [
    "import json\n",
    "\n",
    "# Writing JSON data\n",
    "with open('../temp_files/link_length_ext_dict_JSON.json', 'w') as json_file:\n",
    "    json.dump(link_length_ext_dict, json_file)"
   ]
  },
  {
   "cell_type": "code",
   "execution_count": 5,
   "metadata": {
    "collapsed": false
   },
   "outputs": [],
   "source": [
    "with open('../temp_files/link_length_ext_dict_JSON.json', 'r') as json_file:\n",
    "    link_length_ext_dict_ = json.load(json_file)"
   ]
  },
  {
   "cell_type": "code",
   "execution_count": 6,
   "metadata": {
    "collapsed": false
   },
   "outputs": [
    {
     "data": {
      "text/plain": [
       "{u'0': 11.385941974850725,\n",
       " u'1': 12.815391281548248,\n",
       " u'10': 11.648764861524382,\n",
       " u'11': 11.739281113808694,\n",
       " u'12': 12.288557352370393,\n",
       " u'13': 12.326099188881543,\n",
       " u'14': 11.213822143756929,\n",
       " u'15': 12.545210344262673,\n",
       " u'16': 2.9598793253562294,\n",
       " u'17': 3.1334428544948167,\n",
       " u'18': 11.604339405850899,\n",
       " u'19': 10.936654099781187,\n",
       " u'2': 13.169036579479975,\n",
       " u'20': 12.495896483232961,\n",
       " u'21': 13.347833079773606,\n",
       " u'22': 11.04161190643383,\n",
       " u'23': 11.090306612888302,\n",
       " u'24': 4.5827194135406,\n",
       " u'25': 4.45251754235305,\n",
       " u'26': 6.739148873201685,\n",
       " u'27': 6.97773712018349,\n",
       " u'28': 6.898986144005945,\n",
       " u'29': 6.881592845935423,\n",
       " u'3': 13.04563653857198,\n",
       " u'30': 15.939966685650132,\n",
       " u'31': 15.984594545678952,\n",
       " u'32': 10.374690091147793,\n",
       " u'33': 10.003639812448075,\n",
       " u'34': 14.964750792362517,\n",
       " u'35': 15.024901672853156,\n",
       " u'36': 4.525774863609242,\n",
       " u'37': 4.543420712189323,\n",
       " u'38': 6.913041636988785,\n",
       " u'39': 6.7786352191089865,\n",
       " u'4': 11.592971084625855,\n",
       " u'40': 16.980232029217774,\n",
       " u'41': 17.127860990870246,\n",
       " u'42': 11.604339405850899,\n",
       " u'43': 11.945303335792973,\n",
       " u'44': 10.419637474239062,\n",
       " u'45': 10.605611517111257,\n",
       " u'46': 9.81845493170901,\n",
       " u'47': 9.846680683748916,\n",
       " u'48': 8.608118984864001,\n",
       " u'49': 8.599900076007554,\n",
       " u'5': 11.736038693223895,\n",
       " u'50': 9.33850861489713,\n",
       " u'51': 9.213129333692127,\n",
       " u'52': 15.221765274426641,\n",
       " u'53': 17.00556753153148,\n",
       " u'54': 10.469586550762118,\n",
       " u'55': 11.049058131306994,\n",
       " u'56': 11.05665943095176,\n",
       " u'57': 11.052465443216674,\n",
       " u'58': 12.49907830689634,\n",
       " u'59': 12.342329285326153,\n",
       " u'6': 7.51890775260028,\n",
       " u'60': 17.433790964850356,\n",
       " u'61': 17.25607828874681,\n",
       " u'62': 13.920130127329351,\n",
       " u'63': 14.591255691094815,\n",
       " u'7': 7.447449801992693,\n",
       " u'8': 8.560429741543196,\n",
       " u'9': 9.469544076971006}"
      ]
     },
     "execution_count": 6,
     "metadata": {},
     "output_type": "execute_result"
    }
   ],
   "source": [
    "link_length_ext_dict_ "
   ]
  },
  {
   "cell_type": "code",
   "execution_count": null,
   "metadata": {
    "collapsed": true
   },
   "outputs": [],
   "source": []
  }
 ],
 "metadata": {
  "kernelspec": {
   "display_name": "Python 2",
   "language": "python",
   "name": "python2"
  },
  "language_info": {
   "codemirror_mode": {
    "name": "ipython",
    "version": 2
   },
   "file_extension": ".py",
   "mimetype": "text/x-python",
   "name": "python",
   "nbconvert_exporter": "python",
   "pygments_lexer": "ipython2",
   "version": "2.7.11"
  }
 },
 "nbformat": 4,
 "nbformat_minor": 0
}
