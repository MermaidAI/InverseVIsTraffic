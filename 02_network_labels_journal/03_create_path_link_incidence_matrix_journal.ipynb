{
 "cells": [
  {
   "cell_type": "code",
   "execution_count": 1,
   "metadata": {
    "collapsed": false
   },
   "outputs": [
    {
     "name": "stdout",
     "output_type": "stream",
     "text": [
      "No dicts found; please check load_dicts...\n"
     ]
    }
   ],
   "source": [
    "%run ../Python_files/util.py"
   ]
  },
  {
   "cell_type": "code",
   "execution_count": 2,
   "metadata": {
    "collapsed": true
   },
   "outputs": [],
   "source": [
    "import numpy as np\n",
    "from math import exp\n",
    "import json"
   ]
  },
  {
   "cell_type": "code",
   "execution_count": 3,
   "metadata": {
    "collapsed": true
   },
   "outputs": [],
   "source": [
    "link_label_dict = zload('../temp_files/link_label_dict_journal.pkz')\n",
    "link_label_dict_ = zload('../temp_files/link_label_dict_journal_.pkz')"
   ]
  },
  {
   "cell_type": "code",
   "execution_count": 4,
   "metadata": {
    "collapsed": true
   },
   "outputs": [],
   "source": [
    "with open('../temp_files/link_length_dict_journal.json', 'r') as json_file:\n",
    "    link_length_dict = json.load(json_file)"
   ]
  },
  {
   "cell_type": "code",
   "execution_count": 5,
   "metadata": {
    "collapsed": true
   },
   "outputs": [],
   "source": [
    "# number of links\n",
    "m = 258"
   ]
  },
  {
   "cell_type": "code",
   "execution_count": 6,
   "metadata": {
    "collapsed": true
   },
   "outputs": [],
   "source": [
    "# number of routes (obtained by counting the rows with '->' in 'path_link_incidence.txt')\n",
    "with open('../temp_files/path_link_incidence_journal.txt', 'r') as the_file:\n",
    "    # path counts\n",
    "    i = 0  \n",
    "    for row in the_file:\n",
    "        if '->' in row:\n",
    "            i = i + 1\n",
    "r = i"
   ]
  },
  {
   "cell_type": "code",
   "execution_count": 7,
   "metadata": {
    "collapsed": true
   },
   "outputs": [],
   "source": [
    "OD_pair_label_dict_ = zload('../temp_files/OD_pair_label_dict__journal.pkz')\n",
    "\n",
    "# number of O-D pairs\n",
    "s = len(OD_pair_label_dict_)"
   ]
  },
  {
   "cell_type": "code",
   "execution_count": 8,
   "metadata": {
    "collapsed": true
   },
   "outputs": [],
   "source": [
    "# initialize the path_link incidence matrix\n",
    "A = np.zeros((m, r))\n",
    "\n",
    "# read in the path_link incidence file \n",
    "# create path_link incidence matrix A\n",
    "with open('../temp_files/path_link_incidence_journal.txt', 'r') as the_file:\n",
    "    # path counts\n",
    "    i = 0  \n",
    "    for row in the_file:\n",
    "        if '->' in row:\n",
    "            for j in range(m):\n",
    "                if link_label_dict[str(j)] in row:\n",
    "                    A[j, i] = 1\n",
    "            i = i + 1\n",
    "    assert(i == r)\n",
    "zdump(A, '../temp_files/path_link_incidence_matrix_journal.pkz')"
   ]
  },
  {
   "cell_type": "code",
   "execution_count": 9,
   "metadata": {
    "collapsed": false
   },
   "outputs": [
    {
     "data": {
      "text/plain": [
       "258"
      ]
     },
     "execution_count": 9,
     "metadata": {},
     "output_type": "execute_result"
    }
   ],
   "source": [
    "matrix_rank(A)"
   ]
  },
  {
   "cell_type": "code",
   "execution_count": 11,
   "metadata": {
    "collapsed": false
   },
   "outputs": [
    {
     "name": "stdout",
     "output_type": "stream",
     "text": [
      "258\n",
      "53165\n"
     ]
    }
   ],
   "source": [
    "print(np.size(A, 0))\n",
    "print(np.size(A, 1))"
   ]
  },
  {
   "cell_type": "code",
   "execution_count": 12,
   "metadata": {
    "collapsed": true
   },
   "outputs": [],
   "source": [
    "# link_length_dict['0'].length\n",
    "\n",
    "# link_label_dict_\n",
    "\n",
    "# read in the path_link incidence file \n",
    "# calculate length of each route\n",
    "\n",
    "length_of_route_list = []\n",
    "with open('../temp_files/path_link_incidence_journal.txt', 'r') as the_file:\n",
    "    for row in the_file:\n",
    "        if '->' in row:\n",
    "            link_list = []\n",
    "            node_list = []\n",
    "            for i in row.split('->'):\n",
    "                node_list.append(int(i))\n",
    "            for i in range(len(node_list))[:-1]:\n",
    "                link_list.append('%d->%d' %(node_list[i], node_list[i+1]))\n",
    "            length_of_route = sum([link_length_dict[str(link_label_dict_[link])] \\\n",
    "                                  for link in link_list])\n",
    "            length_of_route_list.append(length_of_route)\n",
    "zdump(length_of_route_list, '../temp_files/length_of_route_list_journal.pkz')"
   ]
  },
  {
   "cell_type": "code",
   "execution_count": 14,
   "metadata": {
    "collapsed": false
   },
   "outputs": [
    {
     "data": {
      "text/plain": [
       "53165"
      ]
     },
     "execution_count": 14,
     "metadata": {},
     "output_type": "execute_result"
    }
   ],
   "source": [
    "len(length_of_route_list)"
   ]
  },
  {
   "cell_type": "code",
   "execution_count": null,
   "metadata": {
    "collapsed": true
   },
   "outputs": [],
   "source": [
    "# length_of_route_list[139]\n",
    "\n",
    "OD_pair_label_dict = zload('../temp_files/OD_pair_label_dict_journal_paths.pkz')\n",
    "\n",
    "# OD_pair_label_dict['(1, 2)']\n",
    "\n",
    "# read in the path_link incidence file \n",
    "# create label of each route\n",
    "OD_pair_route_label_list = []\n",
    "OD_pair_idx_list = []\n",
    "route_idx_list = []\n",
    "with open('../temp_files/path_link_incidence_journal.txt', 'r') as the_file:\n",
    "    route_idx = 0\n",
    "    for row in the_file:\n",
    "        if '->' in row:\n",
    "            node_list = []\n",
    "            for i in row.split('->'):\n",
    "                node_list.append(int(i))\n",
    "            OD_pair_idx = OD_pair_label_dict[str((node_list[0], node_list[-1]))]\n",
    "            OD_pair_idx_list.append(OD_pair_idx)\n",
    "            route_idx_list.append(route_idx)\n",
    "            OD_pair_route_label_list.append((OD_pair_idx, route_idx))\n",
    "            route_idx += 1\n",
    "\n",
    "OD_pair_route_dict = {}\n",
    "\n",
    "for i in range(s):\n",
    "    route_list = []\n",
    "    for r_ in range(r):\n",
    "        if OD_pair_idx_list[r_] == i:\n",
    "            route_list.append(r_)\n",
    "    OD_pair_route_dict[str(i)] = route_list\n",
    "zdump(OD_pair_route_dict, '../temp_files/OD_pair_route_dict_journal.pkz')"
   ]
  },
  {
   "cell_type": "code",
   "execution_count": 1,
   "metadata": {
    "collapsed": false
   },
   "outputs": [],
   "source": [
    "# OD_pair_route_dict['6']\n",
    "\n",
    "# calculate route choice probability matrix P\n",
    "# logit choice parameter\n",
    "theta = 0\n",
    "\n",
    "P = np.zeros((s, r))\n",
    "for i in range(s):\n",
    "    for r in OD_pair_route_dict[str(i)]:\n",
    "        #P[i, r] = 1\n",
    "        P[i, r] = exp(- theta * length_of_route_list[r]) / \\\n",
    "                     sum([exp(- theta * length_of_route_list[j]) \\\n",
    "                         for j in OD_pair_route_dict[str(i)]])\n",
    "zdump(P, '../temp_files/logit_route_choice_probability_matrix_journal.pkz')\n",
    "\n",
    "# print(A[0, :])\n",
    "# print(sum(A[0, :]))\n",
    "# print(np.size(A, 0))\n",
    "# print(np.size(A, 1))\n",
    "# print(sum(A[:, 0]))\n",
    "# print(sum(A[:, 1]))\n",
    "# print(sum(A[:, 100]))\n",
    "# print(len(A[:, 3]))\n",
    "\n",
    "# length_of_route_list[3], length_of_route_list[4], length_of_route_list[5]\n",
    "\n",
    "# sum(P[2,:])\n",
    "\n",
    "# link_list = []\n",
    "# node_list = []\n",
    "# for i in '1->2->3->5->4'.split('->'):\n",
    "#     node_list.append(int(i))\n",
    "# for i in range(len(node_list))[:-1]:\n",
    "#     link_list.append('%d->%d' %(node_list[i], node_list[i+1]))\n",
    "\n",
    "# node_list\n",
    "# link_list\n",
    "# range(5)[:-1]\n",
    "# link_label_dict\n",
    "# A[23]\n",
    "# np.size(A, 1)\n",
    "# B = np.ones((r, 2))\n",
    "# np.dot(A, B)"
   ]
  },
  {
   "cell_type": "code",
   "execution_count": 2,
   "metadata": {
    "collapsed": false
   },
   "outputs": [
    {
     "data": {
      "text/plain": [
       "array([[ 0.,  0.,  0., ...,  0.,  0.,  0.],\n",
       "       [ 0.,  0.,  0., ...,  0.,  0.,  0.],\n",
       "       [ 0.,  0.,  0., ...,  0.,  0.,  0.],\n",
       "       ..., \n",
       "       [ 0.,  0.,  0., ...,  0.,  0.,  0.],\n",
       "       [ 0.,  0.,  0., ...,  0.,  0.,  0.],\n",
       "       [ 0.,  0.,  0., ...,  0.,  0.,  0.]])"
      ]
     },
     "execution_count": 2,
     "metadata": {},
     "output_type": "execute_result"
    }
   ],
   "source": [
    "P"
   ]
  },
  {
   "cell_type": "code",
   "execution_count": 3,
   "metadata": {
    "collapsed": false
   },
   "outputs": [
    {
     "name": "stdout",
     "output_type": "stream",
     "text": [
      "rank of P is: \n",
      "462\n",
      "sizes of P are: \n",
      "462\n",
      "4614\n",
      "rank of A is: \n",
      "74\n",
      "sizes of A are: \n",
      "74\n",
      "4614\n",
      "rank of PA_t is: \n",
      "74\n"
     ]
    }
   ],
   "source": [
    "A_t = np.transpose(A)\n",
    "P_t = np.transpose(P)\n",
    "# PA'\n",
    "PA_t = np.dot(P, A_t)\n",
    "print(\"rank of P is: \")\n",
    "print(matrix_rank(P))\n",
    "print(\"sizes of P are: \")\n",
    "print(np.size(P, 0))\n",
    "print(np.size(P, 1))\n",
    "print(\"rank of A is: \")\n",
    "print(matrix_rank(A))\n",
    "print(\"sizes of A are: \")\n",
    "print(np.size(A, 0))\n",
    "print(np.size(A, 1))\n",
    "print(\"rank of PA_t is: \")\n",
    "print(matrix_rank(PA_t))"
   ]
  },
  {
   "cell_type": "code",
   "execution_count": null,
   "metadata": {
    "collapsed": true
   },
   "outputs": [],
   "source": []
  }
 ],
 "metadata": {
  "kernelspec": {
   "display_name": "Python 2",
   "language": "python",
   "name": "python2"
  },
  "language_info": {
   "codemirror_mode": {
    "name": "ipython",
    "version": 2
   },
   "file_extension": ".py",
   "mimetype": "text/x-python",
   "name": "python",
   "nbconvert_exporter": "python",
   "pygments_lexer": "ipython2",
   "version": "2.7.12"
  }
 },
 "nbformat": 4,
 "nbformat_minor": 0
}
