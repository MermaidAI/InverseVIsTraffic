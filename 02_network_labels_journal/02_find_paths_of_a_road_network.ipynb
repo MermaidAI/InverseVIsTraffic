{
 "cells": [
  {
   "cell_type": "code",
   "execution_count": 1,
   "metadata": {
    "collapsed": false
   },
   "outputs": [
    {
     "name": "stdout",
     "output_type": "stream",
     "text": [
      "No dicts found; please check load_dicts...\n"
     ]
    }
   ],
   "source": [
    "%run ../Python_files/util.py"
   ]
  },
  {
   "cell_type": "code",
   "execution_count": 2,
   "metadata": {
    "collapsed": true
   },
   "outputs": [],
   "source": [
    "# number of links\n",
    "m = 258"
   ]
  },
  {
   "cell_type": "code",
   "execution_count": 3,
   "metadata": {
    "collapsed": true
   },
   "outputs": [],
   "source": [
    "ini_node_dict, ter_node_dict, node_neighbors_dict, origi_dict, desti_dict = \\\n",
    "zload('../temp_files/origin_terminal_dict_journal.pkz')"
   ]
  },
  {
   "cell_type": "code",
   "execution_count": 4,
   "metadata": {
    "collapsed": false
   },
   "outputs": [
    {
     "data": {
      "text/plain": [
       "defaultdict(list,\n",
       "            {'1': [3, 7, 9],\n",
       "             '10': [5, 11, 18, 20],\n",
       "             '11': [5, 8, 10, 19],\n",
       "             '12': [9],\n",
       "             '13': [6, 7, 9, 14, 15],\n",
       "             '14': [13, 17, 22],\n",
       "             '15': [13],\n",
       "             '16': [8, 17, 19, 22],\n",
       "             '17': [6, 14, 16, 22],\n",
       "             '18': [10, 19, 21],\n",
       "             '19': [11, 16, 18, 22],\n",
       "             '2': [3],\n",
       "             '20': [10, 21, 30, 58],\n",
       "             '21': [18, 20, 22, 23],\n",
       "             '22': [14, 16, 17, 19, 21, 23, 25, 28, 29, 40],\n",
       "             '23': [21, 22, 24, 31],\n",
       "             '24': [23, 25, 26, 33],\n",
       "             '25': [22, 24, 26],\n",
       "             '26': [24, 25, 27, 28],\n",
       "             '27': [26, 28, 33, 35],\n",
       "             '28': [22, 26, 27, 37],\n",
       "             '29': [22, 41, 49],\n",
       "             '3': [1, 2, 6, 7],\n",
       "             '30': [20, 31, 60],\n",
       "             '31': [23, 30, 32, 60],\n",
       "             '32': [31, 33, 34, 60],\n",
       "             '33': [24, 27, 32, 34],\n",
       "             '34': [32, 33, 35, 60],\n",
       "             '35': [27, 34, 36, 71],\n",
       "             '36': [35, 43, 44, 71],\n",
       "             '37': [28, 38, 42],\n",
       "             '38': [37, 39, 42],\n",
       "             '39': [38, 40, 48],\n",
       "             '4': [6, 8],\n",
       "             '40': [22, 39, 41, 48],\n",
       "             '41': [29, 40, 49],\n",
       "             '42': [37, 38, 43, 45],\n",
       "             '43': [36, 42, 44, 45],\n",
       "             '44': [36, 43, 46, 54],\n",
       "             '45': [42, 43, 46, 47],\n",
       "             '46': [44, 45, 47, 54],\n",
       "             '47': [45, 46, 48, 74],\n",
       "             '48': [39, 40, 47, 49, 51, 52, 53, 54, 74],\n",
       "             '49': [29, 41, 48, 50, 73],\n",
       "             '5': [10, 11],\n",
       "             '50': [49, 51, 73],\n",
       "             '51': [48, 50, 52],\n",
       "             '52': [48, 51, 53],\n",
       "             '53': [48, 52, 54],\n",
       "             '54': [44, 46, 48, 53],\n",
       "             '55': [57],\n",
       "             '56': [57],\n",
       "             '57': [55, 56, 58, 59],\n",
       "             '58': [20, 57, 59],\n",
       "             '59': [57, 58, 60, 72],\n",
       "             '6': [3, 4, 8, 13, 17],\n",
       "             '60': [30, 31, 32, 34, 59, 61, 63, 65, 67, 69, 71, 72],\n",
       "             '61': [60],\n",
       "             '62': [63],\n",
       "             '63': [60, 62, 65],\n",
       "             '64': [65],\n",
       "             '65': [60, 63, 64, 66],\n",
       "             '66': [65],\n",
       "             '67': [60, 68, 69],\n",
       "             '68': [67],\n",
       "             '69': [60, 67, 70, 71],\n",
       "             '7': [1, 3, 9, 13],\n",
       "             '70': [69],\n",
       "             '71': [35, 36, 60, 69],\n",
       "             '72': [59, 60],\n",
       "             '73': [49, 50],\n",
       "             '74': [47, 48],\n",
       "             '8': [4, 6, 11, 16],\n",
       "             '9': [1, 7, 12, 13]})"
      ]
     },
     "execution_count": 4,
     "metadata": {},
     "output_type": "execute_result"
    }
   ],
   "source": [
    "node_neighbors_dict"
   ]
  },
  {
   "cell_type": "code",
   "execution_count": 5,
   "metadata": {
    "collapsed": false
   },
   "outputs": [
    {
     "name": "stdout",
     "output_type": "stream",
     "text": [
      "1->7->3->6\n",
      "1->7->13->6\n",
      "1->9->13->6\n"
     ]
    }
   ],
   "source": [
    "for i in node_neighbors_dict['1']:\n",
    "    for j in node_neighbors_dict['6']:\n",
    "        if j in node_neighbors_dict[str(i)]:\n",
    "            print('1->%s->%s->6'%(i,j))"
   ]
  },
  {
   "cell_type": "code",
   "execution_count": 5,
   "metadata": {
    "collapsed": true
   },
   "outputs": [],
   "source": [
    "OD_pair_label_dict_ = zload('../temp_files/OD_pair_label_dict__journal.pkz')\n",
    "OD_pair_label_dict = zload('../temp_files/OD_pair_label_dict_journal.pkz')"
   ]
  },
  {
   "cell_type": "code",
   "execution_count": 6,
   "metadata": {
    "collapsed": false
   },
   "outputs": [],
   "source": [
    "od_pairs = OD_pair_label_dict_.values()"
   ]
  },
  {
   "cell_type": "code",
   "execution_count": 7,
   "metadata": {
    "collapsed": false,
    "scrolled": true
   },
   "outputs": [
    {
     "data": {
      "text/plain": [
       "462"
      ]
     },
     "execution_count": 7,
     "metadata": {},
     "output_type": "execute_result"
    }
   ],
   "source": [
    "len(od_pairs)"
   ]
  },
  {
   "cell_type": "code",
   "execution_count": 8,
   "metadata": {
    "collapsed": true
   },
   "outputs": [],
   "source": [
    "with open('../temp_files/link_length_dict_journal.json', 'r') as json_file:\n",
    "    link_length_dict = json.load(json_file)"
   ]
  },
  {
   "cell_type": "code",
   "execution_count": 9,
   "metadata": {
    "collapsed": true
   },
   "outputs": [],
   "source": [
    "link_label_dict = zload('../temp_files/link_label_dict_journal.pkz')\n",
    "link_label_dict_ = zload('../temp_files/link_label_dict_journal_.pkz')"
   ]
  },
  {
   "cell_type": "code",
   "execution_count": 10,
   "metadata": {
    "collapsed": true
   },
   "outputs": [],
   "source": [
    "# compute length of a route\n",
    "def routeLength(route):\n",
    "    link_list = []\n",
    "    node_list = []\n",
    "    for i in route.split('->'):\n",
    "        node_list.append(int(i))\n",
    "    for i in range(len(node_list))[:-1]:\n",
    "        link_list.append('%d->%d' %(node_list[i], node_list[i+1]))\n",
    "    length_of_route = sum([link_length_dict[str(link_label_dict_[link])] for link in link_list])\n",
    "    return length_of_route"
   ]
  },
  {
   "cell_type": "code",
   "execution_count": 11,
   "metadata": {
    "collapsed": false
   },
   "outputs": [],
   "source": [
    "with open('../temp_files/path-link_incidence_journal.txt', 'w') as the_file:\n",
    "    for od in od_pairs:\n",
    "        origi = od[0]\n",
    "        desti = od[1]\n",
    "        the_file.write('O-D pair (%s, %s):\\n'%(origi, desti))\n",
    "        route_list = []\n",
    "        if desti in node_neighbors_dict[str(origi)]:\n",
    "            route_list.append('%s->%s\\n'%(origi,desti))\n",
    "        for i in node_neighbors_dict[str(origi)]:\n",
    "            if i in node_neighbors_dict[str(desti)]:\n",
    "                flag = [origi, i, desti]\n",
    "                if len(set(flag)) == len(flag):\n",
    "                    route_list.append('%s->%s->%s\\n'%(origi,i,desti))\n",
    "            for j in node_neighbors_dict[str(i)]:\n",
    "                if j in node_neighbors_dict[str(desti)]:\n",
    "                    flag = [origi, i, j, desti]\n",
    "                    if len(set(flag)) == len(flag):\n",
    "                        route_list.append('%s->%s->%s->%s\\n'%(origi,i,j,desti))\n",
    "                for k in node_neighbors_dict[str(j)]:\n",
    "                    if k in node_neighbors_dict[str(desti)]:\n",
    "                        flag = [origi, i, j, k, desti]\n",
    "                        if len(set(flag)) == len(flag):\n",
    "                            route_list.append('%s->%s->%s->%s->%s\\n'%(origi,i,j,k,desti))\n",
    "                    for l in node_neighbors_dict[str(k)]:\n",
    "                        if l in node_neighbors_dict[str(desti)]:\n",
    "                            flag = [origi, i, j, k, l, desti]\n",
    "                            if len(set(flag)) == len(flag):\n",
    "                                route_list.append('%s->%s->%s->%s->%s->%s\\n'%(origi,i,j,k,l,desti))    \n",
    "                        for m in node_neighbors_dict[str(l)]:\n",
    "                            if m in node_neighbors_dict[str(desti)]:\n",
    "                                flag = [origi, i, j, k, l, m, desti]\n",
    "                                if len(set(flag)) == len(flag):\n",
    "                                    route_list.append('%s->%s->%s->%s->%s->%s->%s\\n'%(origi,i,j,k,l,m,desti))  \n",
    "                            for n in node_neighbors_dict[str(m)]:\n",
    "                                if n in node_neighbors_dict[str(desti)]:\n",
    "                                    flag = [origi, i, j, k, l, m, n, desti]\n",
    "                                    if len(set(flag)) == len(flag):\n",
    "                                        route_list.append('%s->%s->%s->%s->%s->%s->%s->%s\\n'%(origi,i,j,k,l,m,n,desti))\n",
    "                                for o in node_neighbors_dict[str(n)]:\n",
    "                                    if o in node_neighbors_dict[str(desti)]:\n",
    "                                        flag = [origi, i, j, k, l, m, n, o, desti]\n",
    "                                        if len(set(flag)) == len(flag):\n",
    "                                            route_list.append('%s->%s->%s->%s->%s->%s->%s->%s->%s\\n'%(origi,i,j,k,l,m,n,o,desti))\n",
    "                                    for p in node_neighbors_dict[str(o)]:\n",
    "                                        if p in node_neighbors_dict[str(desti)]:\n",
    "                                            flag = [origi, i, j, k, l, m, n, o, p, desti]\n",
    "                                            if len(set(flag)) == len(flag):\n",
    "                                                route_list.append('%s->%s->%s->%s->%s->%s->%s->%s->%s->%s\\n'%(origi,i,j,k,l,m,n,o,p,desti))\n",
    "                                                for q in node_neighbors_dict[str(p)]:\n",
    "                                                    if q in node_neighbors_dict[str(desti)]:\n",
    "                                                        flag = [origi, i, j, k, l, m, n, o, p, q, desti]\n",
    "                                                        if len(set(flag)) == len(flag):\n",
    "                                                            route_list.append('%s->%s->%s->%s->%s->%s->%s->%s->%s->%s->%s\\n'%(origi,i,j,k,l,m,n,o,p,q,desti))\n",
    "       \n",
    "        route_length_list = np.array([routeLength(route) for route in route_list])\n",
    "    \n",
    "        refined_route_list = []\n",
    "        \n",
    "        if len(route_list) <= 10:\n",
    "            refined_route_list = route_list\n",
    "        else:\n",
    "            refined_idx_list = [np.argsort(route_length_list)[i] for i in range(10)]\n",
    "            refined_route_list = [route_list[idx] for idx in refined_idx_list]\n",
    "                \n",
    "        for route in refined_route_list:\n",
    "            the_file.write(route)\n",
    "        the_file.write('\\n')"
   ]
  },
  {
   "cell_type": "code",
   "execution_count": 12,
   "metadata": {
    "collapsed": true
   },
   "outputs": [],
   "source": [
    "with open('../temp_files/path-link_incidence_journal.txt', 'r') as the_file:\n",
    "    # path counts\n",
    "    i = 0  \n",
    "    for row in the_file:\n",
    "        if '->' in row:\n",
    "            i = i + 1"
   ]
  },
  {
   "cell_type": "code",
   "execution_count": 13,
   "metadata": {
    "collapsed": false
   },
   "outputs": [
    {
     "data": {
      "text/plain": [
       "4614"
      ]
     },
     "execution_count": 13,
     "metadata": {},
     "output_type": "execute_result"
    }
   ],
   "source": [
    "i"
   ]
  },
  {
   "cell_type": "code",
   "execution_count": null,
   "metadata": {
    "collapsed": true
   },
   "outputs": [],
   "source": []
  }
 ],
 "metadata": {
  "kernelspec": {
   "display_name": "Python [default]",
   "language": "python",
   "name": "python2"
  },
  "language_info": {
   "codemirror_mode": {
    "name": "ipython",
    "version": 2
   },
   "file_extension": ".py",
   "mimetype": "text/x-python",
   "name": "python",
   "nbconvert_exporter": "python",
   "pygments_lexer": "ipython2",
   "version": "2.7.12"
  }
 },
 "nbformat": 4,
 "nbformat_minor": 0
}
