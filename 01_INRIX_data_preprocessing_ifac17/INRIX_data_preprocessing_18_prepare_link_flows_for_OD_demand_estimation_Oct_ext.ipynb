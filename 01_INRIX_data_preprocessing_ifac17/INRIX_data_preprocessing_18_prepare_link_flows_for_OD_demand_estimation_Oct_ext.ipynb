{
 "cells": [
  {
   "cell_type": "code",
   "execution_count": 1,
   "metadata": {
    "collapsed": false
   },
   "outputs": [
    {
     "name": "stdout",
     "output_type": "stream",
     "text": [
      "[122.00376774757109, 47.733126142986386, 48.010314495830592, 48.010314495830592, 48.190479652993687, 48.436071220912147, 32.340595762827661, 64.465161920253678, 367.28144122015505, 657.8768138726133]\n",
      "[0.0, 0.0, 99.41617095070478, 137.4434835853101, 159.58882336294548, 159.58882336294548, 98.45155551529331, 136.38722328677196, 98.39637736427244, 98.39637736427244]\n"
     ]
    }
   ],
   "source": [
    "%run ../Python_files/load_dicts.py\n",
    "%run ../Python_files/INRIX_data_preprocessing_18_prepare_link_flows_for_OD_demand_estimation_Oct_ext.py"
   ]
  },
  {
   "cell_type": "code",
   "execution_count": null,
   "metadata": {
    "collapsed": true
   },
   "outputs": [],
   "source": []
  }
 ],
 "metadata": {
  "kernelspec": {
   "display_name": "Python 2",
   "language": "python",
   "name": "python2"
  },
  "language_info": {
   "codemirror_mode": {
    "name": "ipython",
    "version": 2
   },
   "file_extension": ".py",
   "mimetype": "text/x-python",
   "name": "python",
   "nbconvert_exporter": "python",
   "pygments_lexer": "ipython2",
   "version": "2.7.11"
  }
 },
 "nbformat": 4,
 "nbformat_minor": 0
}
