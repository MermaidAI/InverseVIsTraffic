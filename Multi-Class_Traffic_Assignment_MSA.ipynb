{
 "metadata": {
  "name": ""
 },
 "nbformat": 3,
 "nbformat_minor": 0,
 "worksheets": [
  {
   "cells": [
    {
     "cell_type": "code",
     "collapsed": false,
     "input": [
      "include(\"load_network.jl\")"
     ],
     "language": "python",
     "metadata": {},
     "outputs": [
      {
       "metadata": {},
       "output_type": "pyout",
       "prompt_number": 1,
       "text": [
        "load_ta_network (generic function with 2 methods)"
       ]
      }
     ],
     "prompt_number": 1
    },
    {
     "cell_type": "code",
     "collapsed": false,
     "input": [
      "using Graphs\n",
      "\n",
      "function create_graph(start_node, end_node)\n",
      "    @assert Base.length(start_node)==Base.length(end_node)\n",
      "\n",
      "    no_node = max(maximum(start_node), maximum(end_node))\n",
      "    no_arc = Base.length(start_node)\n",
      "\n",
      "    graph = simple_inclist(no_node)\n",
      "    for i=1:no_arc\n",
      "        add_edge!(graph, start_node[i], end_node[i])\n",
      "    end\n",
      "    return graph\n",
      "end"
     ],
     "language": "python",
     "metadata": {},
     "outputs": [
      {
       "metadata": {},
       "output_type": "pyout",
       "prompt_number": 2,
       "text": [
        "create_graph (generic function with 1 method)"
       ]
      }
     ],
     "prompt_number": 2
    },
    {
     "cell_type": "code",
     "collapsed": false,
     "input": [
      "function get_vector(state, origin, destination, link_dic)\n",
      "    current = destination\n",
      "    parent = -1\n",
      "    x = zeros(Int, maximum(link_dic))\n",
      "\n",
      "    while parent != origin\n",
      "        parent = state.parents[current]\n",
      "\n",
      "        link_idx = link_dic[parent,current]\n",
      "\n",
      "        if link_idx != 0\n",
      "            x[link_idx] = 1\n",
      "        end\n",
      "\n",
      "        current = parent\n",
      "    end\n",
      "\n",
      "    return x\n",
      "end"
     ],
     "language": "python",
     "metadata": {},
     "outputs": [
      {
       "metadata": {},
       "output_type": "pyout",
       "prompt_number": 3,
       "text": [
        "get_vector (generic function with 1 method)"
       ]
      }
     ],
     "prompt_number": 3
    },
    {
     "cell_type": "code",
     "collapsed": false,
     "input": [
      "ta_data = load_ta_network(\"Sioux Falls\");"
     ],
     "language": "python",
     "metadata": {},
     "outputs": [],
     "prompt_number": 4
    },
    {
     "cell_type": "code",
     "collapsed": false,
     "input": [
      "# unpacking data from ta_data\n",
      "network_name = ta_data.network_name\n",
      "\n",
      "number_of_zones = ta_data.number_of_zones\n",
      "number_of_nodes = ta_data.number_of_nodes\n",
      "first_thru_node = ta_data.first_thru_node\n",
      "number_of_links = ta_data.number_of_links\n",
      "\n",
      "start_node = ta_data.start_node\n",
      "end_node = ta_data.end_node\n",
      "capacity = ta_data.capacity\n",
      "link_length = ta_data.link_length\n",
      "\n",
      "free_flow_time = ta_data.free_flow_time\n",
      "B = ta_data.B\n",
      "power = ta_data.power\n",
      "speed_limit = ta_data.speed_limit\n",
      "toll = ta_data.toll\n",
      "link_type = ta_data.link_type\n",
      "number_of_zones = ta_data.number_of_zones\n",
      "total_od_flow = ta_data.total_od_flow\n",
      "travel_demand = ta_data.travel_demand\n",
      "od_pairs = ta_data.od_pairs\n",
      "\n",
      "toll_factor = ta_data.toll_factor\n",
      "distance_factor = ta_data.distance_factor\n",
      "\n",
      "best_objective = ta_data.best_objective"
     ],
     "language": "python",
     "metadata": {},
     "outputs": [
      {
       "metadata": {},
       "output_type": "pyout",
       "prompt_number": 5,
       "text": [
        "4.23133528710744e6"
       ]
      }
     ],
     "prompt_number": 5
    },
    {
     "cell_type": "code",
     "collapsed": false,
     "input": [
      "# dividing the travel_demand into two classes (car and truck)\n",
      "travel_demand_car = travel_demand * .8\n",
      "travel_demand_truck = travel_demand * .2\n",
      "\n",
      "assert(travel_demand_car + travel_demand_truck == travel_demand)"
     ],
     "language": "python",
     "metadata": {},
     "outputs": [],
     "prompt_number": 6
    },
    {
     "cell_type": "code",
     "collapsed": false,
     "input": [
      "# preparing a graph\n",
      "graph = create_graph(start_node, end_node)\n",
      "link_dic = sparse(start_node, end_node, 1:number_of_links)"
     ],
     "language": "python",
     "metadata": {},
     "outputs": [
      {
       "metadata": {},
       "output_type": "pyout",
       "prompt_number": 7,
       "text": [
        "24x24 sparse matrix with 76 Int64 entries:\n",
        "\t[2 ,  1]  =  3\n",
        "\t[3 ,  1]  =  5\n",
        "\t[1 ,  2]  =  1\n",
        "\t[6 ,  2]  =  14\n",
        "\t[1 ,  3]  =  2\n",
        "\t[4 ,  3]  =  8\n",
        "\t[12,  3]  =  35\n",
        "\t[3 ,  4]  =  6\n",
        "\t[5 ,  4]  =  11\n",
        "\t[11,  4]  =  31\n",
        "\t\u22ee\n",
        "\t[24, 21]  =  75\n",
        "\t[15, 22]  =  46\n",
        "\t[20, 22]  =  63\n",
        "\t[21, 22]  =  65\n",
        "\t[23, 22]  =  72\n",
        "\t[14, 23]  =  42\n",
        "\t[22, 23]  =  70\n",
        "\t[24, 23]  =  76\n",
        "\t[13, 24]  =  39\n",
        "\t[21, 24]  =  66\n",
        "\t[23, 24]  =  73"
       ]
      }
     ],
     "prompt_number": 7
    },
    {
     "cell_type": "code",
     "collapsed": false,
     "input": [
      "graph"
     ],
     "language": "python",
     "metadata": {},
     "outputs": [
      {
       "metadata": {},
       "output_type": "pyout",
       "prompt_number": 8,
       "text": [
        "Directed Graph (24 vertices, 76 edges)"
       ]
      }
     ],
     "prompt_number": 8
    },
    {
     "cell_type": "code",
     "collapsed": false,
     "input": [
      "function BPR(x)\n",
      "    # travel_time = free_flow_time .* ( 1.0 + B .* (x./capacity).^power )\n",
      "    # generalized_cost = travel_time + toll_factor *toll + distance_factor * link_length\n",
      "    # return generalized_cost\n",
      "\n",
      "    bpr = similar(x)\n",
      "    for i=1:length(bpr)\n",
      "        bpr[i] = free_flow_time[i] * ( 1.0 + B[i] * (x[i]/capacity[i])^power[i] )\n",
      "        bpr[i] += toll_factor *toll[i] + distance_factor * link_length[i]\n",
      "    end\n",
      "    return bpr\n",
      "end"
     ],
     "language": "python",
     "metadata": {},
     "outputs": [
      {
       "metadata": {},
       "output_type": "pyout",
       "prompt_number": 9,
       "text": [
        "BPR (generic function with 1 method)"
       ]
      }
     ],
     "prompt_number": 9
    },
    {
     "cell_type": "code",
     "collapsed": false,
     "input": [
      "function all_or_nothing(travel_time)\n",
      "    state = []\n",
      "    path = []\n",
      "    x = zeros(size(start_node))\n",
      "\n",
      "    for r=1:size(travel_demand)[1]\n",
      "        # for each origin node r, find shortest paths to all destination nodes\n",
      "        state = dijkstra_shortest_paths(graph, travel_time, r)\n",
      "\n",
      "        for s=1:size(travel_demand)[2]\n",
      "            # for each destination node s, find the shortest-path vector\n",
      "            # load travel demand\n",
      "            x = x + travel_demand[r,s] * get_vector(state, r, s, link_dic)\n",
      "        end\n",
      "    end\n",
      "\n",
      "    return x\n",
      "end"
     ],
     "language": "python",
     "metadata": {},
     "outputs": [
      {
       "metadata": {},
       "output_type": "pyout",
       "prompt_number": 10,
       "text": [
        "all_or_nothing (generic function with 1 method)"
       ]
      }
     ],
     "prompt_number": 10
    },
    {
     "cell_type": "code",
     "collapsed": false,
     "input": [
      "function all_or_nothing_car(travel_time_car)\n",
      "    state = []\n",
      "    path = []\n",
      "    x = zeros(size(start_node))\n",
      "\n",
      "    for r=1:size(travel_demand_car)[1]\n",
      "        # for each origin node r, find shortest paths to all destination nodes\n",
      "        state = dijkstra_shortest_paths(graph, travel_time_car, r)\n",
      "\n",
      "        for s=1:size(travel_demand_car)[2]\n",
      "            # for each destination node s, find the shortest-path vector\n",
      "            # load travel demand\n",
      "            x = x + travel_demand_car[r,s] * get_vector(state, r, s, link_dic)\n",
      "        end\n",
      "    end\n",
      "\n",
      "    return x\n",
      "end"
     ],
     "language": "python",
     "metadata": {},
     "outputs": [
      {
       "metadata": {},
       "output_type": "pyout",
       "prompt_number": 11,
       "text": [
        "all_or_nothing_car (generic function with 1 method)"
       ]
      }
     ],
     "prompt_number": 11
    },
    {
     "cell_type": "code",
     "collapsed": false,
     "input": [
      "function all_or_nothing_truck(travel_time_truck)\n",
      "    state = []\n",
      "    path = []\n",
      "    x = zeros(size(start_node))\n",
      "\n",
      "    for r=1:size(travel_demand_truck)[1]\n",
      "        # for each origin node r, find shortest paths to all destination nodes\n",
      "        state = dijkstra_shortest_paths(graph, travel_time_truck, r)\n",
      "\n",
      "        for s=1:size(travel_demand_truck)[2]\n",
      "            # for each destination node s, find the shortest-path vector\n",
      "            # load travel demand\n",
      "            x = x + travel_demand_truck[r,s] * get_vector(state, r, s, link_dic)\n",
      "        end\n",
      "    end\n",
      "\n",
      "    return x\n",
      "end"
     ],
     "language": "python",
     "metadata": {},
     "outputs": [
      {
       "metadata": {},
       "output_type": "pyout",
       "prompt_number": 12,
       "text": [
        "all_or_nothing_truck (generic function with 1 method)"
       ]
      }
     ],
     "prompt_number": 12
    },
    {
     "cell_type": "code",
     "collapsed": false,
     "input": [
      "# Finding a starting feasible solution\n",
      "travel_time = BPR(zeros(number_of_links));\n",
      "xl = all_or_nothing(travel_time);\n",
      "\n",
      "travel_time_car = 1.0 * BPR(zeros(number_of_links));\n",
      "travel_time_truck = 1.1 * BPR(zeros(number_of_links));\n",
      "\n",
      "xl_car = all_or_nothing_car(travel_time_car);\n",
      "xl_truck = all_or_nothing_truck(travel_time_truck);"
     ],
     "language": "python",
     "metadata": {},
     "outputs": [],
     "prompt_number": 13
    },
    {
     "cell_type": "code",
     "collapsed": false,
     "input": [
      "max_iter_no = 1e12\n",
      "l = 1\n",
      "#average_excess_cost = 1\n",
      "tol = 1e-8\n",
      "\n",
      "while l < max_iter_no\n",
      "    l += 1\n",
      "    \n",
      "    ## Finding yl\n",
      "    #travel_time = BPR(xl)\n",
      "    #yl = all_or_nothing(travel_time)\n",
      "    #xl = xl + (yl - xl)/l\n",
      "    \n",
      "    # Finding yl_car\n",
      "    xl_car_old = xl_car\n",
      "    travel_time_car = 1.0 * BPR(xl_car + 2.0 * xl_truck)\n",
      "    yl_car = all_or_nothing_car(travel_time_car)\n",
      "    xl_car = xl_car + (yl_car - xl_car)/l\n",
      "    xl_car_new = xl_car\n",
      "    \n",
      "    # Finding yl_truck\n",
      "    xl_truck_old = xl_truck\n",
      "    travel_time_truck = 1.1 * BPR(xl_car + 2.0 * xl_truck)\n",
      "    yl_truck = all_or_nothing_truck(travel_time_truck)\n",
      "    xl_truck = xl_truck + (yl_truck - xl_truck)/l\n",
      "    xl_truck_new = xl_truck\n",
      "    \n",
      "    \n",
      "    relative_gap_car = norm(xl_car_new - xl_car_old, 1) / norm(xl_car_new, 1)\n",
      "    relative_gap_truck = norm(xl_truck_new - xl_truck_old, 1) / norm(xl_truck_new, 1)\n",
      "    \n",
      "    if l % 10000 == 0\n",
      "        print(\"l = $l------------------------------------------------\\n\")\n",
      "        print(\"relative_gap_car is $relative_gap_car\\n\")\n",
      "        print(\"relative_gap_truck is $relative_gap_truck\\n\")\n",
      "    end\n",
      "\n",
      "    if relative_gap_car < tol && relative_gap_truck < tol\n",
      "        print(\"l = $l------------------------------------------------\\n\")\n",
      "        print(\"relative_gap_car is $relative_gap_car\\n\")\n",
      "        print(\"relative_gap_truck is $relative_gap_truck\\n\")\n",
      "        break\n",
      "    end\n",
      "    \n",
      "    ## Average Excess Cost\n",
      "    #average_excess_cost = ( dot(xl, travel_time) - dot(yl, travel_time) ) / dot(xl, travel_time)\n",
      "    \n",
      "    #if average_excess_cost < tol\n",
      "    #    break\n",
      "    #end\n",
      "end\n",
      "\n",
      "writedlm(\"flows_car_converge_1e-8.txt\", xl_car)\n",
      "writedlm(\"flows_truck_converge_1e-8.txt\", xl_truck)"
     ],
     "language": "python",
     "metadata": {},
     "outputs": [
      {
       "output_type": "stream",
       "stream": "stdout",
       "text": [
        "l = 10000------------------------------------------------\n",
        "relative_gap_car is 1.7117888283814996e-5\n"
       ]
      },
      {
       "output_type": "stream",
       "stream": "stdout",
       "text": [
        "relative_gap_truck is 2.2437556758111774e-5\n",
        "l = 20000------------------------------------------------\n"
       ]
      },
      {
       "output_type": "stream",
       "stream": "stdout",
       "text": [
        "relative_gap_car is 9.166338692012446e-6\n",
        "relative_gap_truck is 9.270168204488721e-6\n",
        "l = 30000------------------------------------------------\n"
       ]
      },
      {
       "output_type": "stream",
       "stream": "stdout",
       "text": [
        "relative_gap_car is 4.958878038017832e-6\n",
        "relative_gap_truck is 6.1882236127498545e-6\n",
        "l = 40000------------------------------------------------\n"
       ]
      },
      {
       "output_type": "stream",
       "stream": "stdout",
       "text": [
        "relative_gap_car is 5.812390462191347e-6\n",
        "relative_gap_truck is 6.154326843517103e-6\n",
        "l = 50000------------------------------------------------\n"
       ]
      },
      {
       "output_type": "stream",
       "stream": "stdout",
       "text": [
        "relative_gap_car is 3.67921613635919e-6\n",
        "relative_gap_truck is 3.872338966153675e-6\n",
        "l = 60000------------------------------------------------\n"
       ]
      },
      {
       "output_type": "stream",
       "stream": "stdout",
       "text": [
        "relative_gap_car is 3.1660919105487e-6\n",
        "relative_gap_truck is 4.277848917333312e-6\n",
        "l = 70000------------------------------------------------\n"
       ]
      },
      {
       "output_type": "stream",
       "stream": "stdout",
       "text": [
        "relative_gap_car is 2.6337561624179245e-6\n",
        "relative_gap_truck is 3.8253446433042465e-6\n",
        "l = 80000------------------------------------------------\n"
       ]
      },
      {
       "output_type": "stream",
       "stream": "stdout",
       "text": [
        "relative_gap_car is 2.2990511563334735e-6\n",
        "relative_gap_truck is 3.176000607238105e-6\n",
        "l = 90000------------------------------------------------\n"
       ]
      },
      {
       "output_type": "stream",
       "stream": "stdout",
       "text": [
        "relative_gap_car is 1.8801263562006495e-6\n",
        "relative_gap_truck is 2.3863346795997993e-6\n",
        "l = 100000------------------------------------------------\n"
       ]
      },
      {
       "output_type": "stream",
       "stream": "stdout",
       "text": [
        "relative_gap_car is 1.6464661293097115e-6\n",
        "relative_gap_truck is 2.0812962156311706e-6\n",
        "l = 110000------------------------------------------------\n"
       ]
      },
      {
       "output_type": "stream",
       "stream": "stdout",
       "text": [
        "relative_gap_car is 1.6813443966466633e-6\n",
        "relative_gap_truck is 1.9896124169036377e-6\n",
        "l = 120000------------------------------------------------\n"
       ]
      },
      {
       "output_type": "stream",
       "stream": "stdout",
       "text": [
        "relative_gap_car is 1.4742766072598618e-6\n",
        "relative_gap_truck is 1.8084948555527945e-6\n",
        "l = 130000------------------------------------------------\n"
       ]
      },
      {
       "output_type": "stream",
       "stream": "stdout",
       "text": [
        "relative_gap_car is 1.6061929484536465e-6\n",
        "relative_gap_truck is 1.52092177850209e-6\n",
        "l = 140000------------------------------------------------\n"
       ]
      },
      {
       "output_type": "stream",
       "stream": "stdout",
       "text": [
        "relative_gap_car is 1.0535593326928186e-6\n",
        "relative_gap_truck is 1.2653960472670417e-6\n",
        "l = 150000------------------------------------------------\n"
       ]
      },
      {
       "output_type": "stream",
       "stream": "stdout",
       "text": [
        "relative_gap_car is 1.03165427395331e-6\n",
        "relative_gap_truck is 1.2166709254224605e-6\n",
        "l = 160000------------------------------------------------\n"
       ]
      },
      {
       "output_type": "stream",
       "stream": "stdout",
       "text": [
        "relative_gap_car is 9.554843757081201e-7\n",
        "relative_gap_truck is 1.423842784242285e-6\n",
        "l = 170000------------------------------------------------\n"
       ]
      },
      {
       "output_type": "stream",
       "stream": "stdout",
       "text": [
        "relative_gap_car is 1.092941396396149e-6\n",
        "relative_gap_truck is 1.377460171488462e-6\n",
        "l = 180000------------------------------------------------\n"
       ]
      },
      {
       "output_type": "stream",
       "stream": "stdout",
       "text": [
        "relative_gap_car is 1.150382040458011e-6\n",
        "relative_gap_truck is 1.2337888274790136e-6\n",
        "l = 190000------------------------------------------------\n"
       ]
      },
      {
       "output_type": "stream",
       "stream": "stdout",
       "text": [
        "relative_gap_car is 8.562694830323148e-7\n",
        "relative_gap_truck is 9.675050469543528e-7\n",
        "l = 200000------------------------------------------------\n"
       ]
      },
      {
       "output_type": "stream",
       "stream": "stdout",
       "text": [
        "relative_gap_car is 1.0766009479606395e-6\n",
        "relative_gap_truck is 1.048172282512844e-6\n",
        "l = 210000------------------------------------------------\n"
       ]
      },
      {
       "output_type": "stream",
       "stream": "stdout",
       "text": [
        "relative_gap_car is 8.613992449740806e-7\n",
        "relative_gap_truck is 1.0420147349494833e-6\n",
        "l = 220000------------------------------------------------\n"
       ]
      },
      {
       "output_type": "stream",
       "stream": "stdout",
       "text": [
        "relative_gap_car is 8.513867991510055e-7\n",
        "relative_gap_truck is 9.912946090039582e-7\n",
        "l = 230000------------------------------------------------\n"
       ]
      },
      {
       "output_type": "stream",
       "stream": "stdout",
       "text": [
        "relative_gap_car is 7.587500553716356e-7\n",
        "relative_gap_truck is 9.248423782817597e-7\n",
        "l = 240000------------------------------------------------\n"
       ]
      },
      {
       "output_type": "stream",
       "stream": "stdout",
       "text": [
        "relative_gap_car is 5.650520663729799e-7\n",
        "relative_gap_truck is 1.033168199005383e-6\n",
        "l = 250000------------------------------------------------\n"
       ]
      },
      {
       "output_type": "stream",
       "stream": "stdout",
       "text": [
        "relative_gap_car is 6.213839455575949e-7\n",
        "relative_gap_truck is 7.629368749700059e-7\n",
        "l = 260000------------------------------------------------\n"
       ]
      },
      {
       "output_type": "stream",
       "stream": "stdout",
       "text": [
        "relative_gap_car is 7.382439011738253e-7\n",
        "relative_gap_truck is 7.408700023253409e-7\n",
        "l = 270000------------------------------------------------\n"
       ]
      },
      {
       "output_type": "stream",
       "stream": "stdout",
       "text": [
        "relative_gap_car is 5.654103618253793e-7\n",
        "relative_gap_truck is 8.179629470073307e-7\n",
        "l = 280000------------------------------------------------\n"
       ]
      },
      {
       "output_type": "stream",
       "stream": "stdout",
       "text": [
        "relative_gap_car is 8.359143091315832e-7\n",
        "relative_gap_truck is 8.452669097853709e-7\n",
        "l = 290000------------------------------------------------\n"
       ]
      },
      {
       "output_type": "stream",
       "stream": "stdout",
       "text": [
        "relative_gap_car is 7.023346749909706e-7\n",
        "relative_gap_truck is 7.060455017260561e-7\n",
        "l = 300000------------------------------------------------\n"
       ]
      },
      {
       "output_type": "stream",
       "stream": "stdout",
       "text": [
        "relative_gap_car is 5.415921368933635e-7\n",
        "relative_gap_truck is 8.332197505032217e-7\n",
        "l = 310000------------------------------------------------\n"
       ]
      },
      {
       "output_type": "stream",
       "stream": "stdout",
       "text": [
        "relative_gap_car is 5.600879741770944e-7\n",
        "relative_gap_truck is 6.784525581734285e-7\n",
        "l = 320000------------------------------------------------\n"
       ]
      },
      {
       "output_type": "stream",
       "stream": "stdout",
       "text": [
        "relative_gap_car is 4.713872528769516e-7\n",
        "relative_gap_truck is 6.634953996489429e-7\n",
        "l = 330000------------------------------------------------\n"
       ]
      },
      {
       "output_type": "stream",
       "stream": "stdout",
       "text": [
        "relative_gap_car is 5.571706294176274e-7\n",
        "relative_gap_truck is 6.745599529379243e-7\n",
        "l = 340000------------------------------------------------\n"
       ]
      },
      {
       "output_type": "stream",
       "stream": "stdout",
       "text": [
        "relative_gap_car is 5.344158596031747e-7\n",
        "relative_gap_truck is 7.056739557589551e-7\n",
        "l = 350000------------------------------------------------\n"
       ]
      },
      {
       "output_type": "stream",
       "stream": "stdout",
       "text": [
        "relative_gap_car is 4.602699881212844e-7\n",
        "relative_gap_truck is 5.523640140557977e-7\n",
        "l = 360000------------------------------------------------\n"
       ]
      },
      {
       "output_type": "stream",
       "stream": "stdout",
       "text": [
        "relative_gap_car is 4.6830945498510437e-7\n",
        "relative_gap_truck is 6.352680874661657e-7\n",
        "l = 370000------------------------------------------------\n"
       ]
      },
      {
       "output_type": "stream",
       "stream": "stdout",
       "text": [
        "relative_gap_car is 5.047470499474731e-7\n",
        "relative_gap_truck is 5.712152930117039e-7\n",
        "l = 380000------------------------------------------------\n"
       ]
      },
      {
       "output_type": "stream",
       "stream": "stdout",
       "text": [
        "relative_gap_car is 4.701611327346768e-7\n",
        "relative_gap_truck is 5.121114061534708e-7\n",
        "l = 390000------------------------------------------------\n"
       ]
      },
      {
       "output_type": "stream",
       "stream": "stdout",
       "text": [
        "relative_gap_car is 4.7472702923204175e-7\n",
        "relative_gap_truck is 6.94038336348061e-7\n",
        "l = 400000------------------------------------------------\n"
       ]
      },
      {
       "output_type": "stream",
       "stream": "stdout",
       "text": [
        "relative_gap_car is 3.791236534874865e-7\n",
        "relative_gap_truck is 5.224686178398242e-7\n",
        "l = 410000------------------------------------------------\n"
       ]
      },
      {
       "output_type": "stream",
       "stream": "stdout",
       "text": [
        "relative_gap_car is 4.554596636751286e-7\n",
        "relative_gap_truck is 6.206899074576082e-7\n",
        "l = 420000------------------------------------------------\n"
       ]
      },
      {
       "output_type": "stream",
       "stream": "stdout",
       "text": [
        "relative_gap_car is 3.483627733284458e-7\n",
        "relative_gap_truck is 5.828995787929904e-7\n",
        "l = 430000------------------------------------------------\n"
       ]
      },
      {
       "output_type": "stream",
       "stream": "stdout",
       "text": [
        "relative_gap_car is 4.99642813318273e-7\n",
        "relative_gap_truck is 5.481878206768631e-7\n",
        "l = 440000------------------------------------------------\n"
       ]
      },
      {
       "output_type": "stream",
       "stream": "stdout",
       "text": [
        "relative_gap_car is 4.979583316594684e-7\n",
        "relative_gap_truck is 6.345501971814402e-7\n",
        "l = 450000------------------------------------------------\n"
       ]
      },
      {
       "output_type": "stream",
       "stream": "stdout",
       "text": [
        "relative_gap_car is 4.680714808348878e-7\n",
        "relative_gap_truck is 5.354373228043631e-7\n",
        "l = 460000------------------------------------------------\n"
       ]
      },
      {
       "output_type": "stream",
       "stream": "stdout",
       "text": [
        "relative_gap_car is 4.6879650001325884e-7\n",
        "relative_gap_truck is 6.004422230587107e-7\n",
        "l = 470000------------------------------------------------\n"
       ]
      },
      {
       "output_type": "stream",
       "stream": "stdout",
       "text": [
        "relative_gap_car is 3.4504732428316774e-7\n",
        "relative_gap_truck is 4.094557434074963e-7\n",
        "l = 480000------------------------------------------------\n"
       ]
      },
      {
       "output_type": "stream",
       "stream": "stdout",
       "text": [
        "relative_gap_car is 3.763889089761609e-7\n",
        "relative_gap_truck is 4.6653042033957633e-7\n",
        "l = 490000------------------------------------------------\n"
       ]
      },
      {
       "output_type": "stream",
       "stream": "stdout",
       "text": [
        "relative_gap_car is 4.0615195384706673e-7\n",
        "relative_gap_truck is 4.792051576443742e-7\n",
        "l = 500000------------------------------------------------\n"
       ]
      },
      {
       "output_type": "stream",
       "stream": "stdout",
       "text": [
        "relative_gap_car is 3.2908068508806853e-7\n",
        "relative_gap_truck is 4.259509094854191e-7\n",
        "l = 510000------------------------------------------------\n"
       ]
      },
      {
       "output_type": "stream",
       "stream": "stdout",
       "text": [
        "relative_gap_car is 3.945554034565057e-7\n",
        "relative_gap_truck is 4.171497779603743e-7\n",
        "l = 520000------------------------------------------------\n"
       ]
      },
      {
       "output_type": "stream",
       "stream": "stdout",
       "text": [
        "relative_gap_car is 2.28733585094719e-7\n",
        "relative_gap_truck is 3.7754999629063995e-7\n",
        "l = 530000------------------------------------------------\n"
       ]
      },
      {
       "output_type": "stream",
       "stream": "stdout",
       "text": [
        "relative_gap_car is 2.6492953655965536e-7\n",
        "relative_gap_truck is 4.218491966102732e-7\n",
        "l = 540000------------------------------------------------\n"
       ]
      },
      {
       "output_type": "stream",
       "stream": "stdout",
       "text": [
        "relative_gap_car is 2.68977081905751e-7\n",
        "relative_gap_truck is 4.3989752925143527e-7\n",
        "l = 550000------------------------------------------------\n"
       ]
      },
      {
       "output_type": "stream",
       "stream": "stdout",
       "text": [
        "relative_gap_car is 2.993995196321588e-7\n",
        "relative_gap_truck is 3.9872390812625926e-7\n",
        "l = 560000------------------------------------------------\n"
       ]
      },
      {
       "output_type": "stream",
       "stream": "stdout",
       "text": [
        "relative_gap_car is 2.812655067704996e-7\n",
        "relative_gap_truck is 3.329450135381559e-7\n",
        "l = 570000------------------------------------------------\n"
       ]
      },
      {
       "output_type": "stream",
       "stream": "stdout",
       "text": [
        "relative_gap_car is 3.593778542358997e-7\n",
        "relative_gap_truck is 3.967782906997254e-7\n",
        "l = 580000------------------------------------------------\n"
       ]
      },
      {
       "output_type": "stream",
       "stream": "stdout",
       "text": [
        "relative_gap_car is 2.557256910524385e-7\n",
        "relative_gap_truck is 3.694817102873748e-7\n",
        "l = 590000------------------------------------------------\n"
       ]
      },
      {
       "output_type": "stream",
       "stream": "stdout",
       "text": [
        "relative_gap_car is 3.0315658595792764e-7\n",
        "relative_gap_truck is 3.346166329708205e-7\n",
        "l = 600000------------------------------------------------\n"
       ]
      },
      {
       "output_type": "stream",
       "stream": "stdout",
       "text": [
        "relative_gap_car is 2.4354027575259657e-7\n",
        "relative_gap_truck is 4.414586918324657e-7\n",
        "l = 610000------------------------------------------------\n"
       ]
      },
      {
       "output_type": "stream",
       "stream": "stdout",
       "text": [
        "relative_gap_car is 2.7440317952845773e-7\n",
        "relative_gap_truck is 4.503818770136003e-7\n",
        "l = 620000------------------------------------------------\n"
       ]
      },
      {
       "output_type": "stream",
       "stream": "stdout",
       "text": [
        "relative_gap_car is 2.4403823791948335e-7\n",
        "relative_gap_truck is 3.9446314618557807e-7\n",
        "l = 630000------------------------------------------------\n"
       ]
      },
      {
       "output_type": "stream",
       "stream": "stdout",
       "text": [
        "relative_gap_car is 3.036473086614153e-7\n",
        "relative_gap_truck is 3.609619395017363e-7\n",
        "l = 640000------------------------------------------------\n"
       ]
      },
      {
       "output_type": "stream",
       "stream": "stdout",
       "text": [
        "relative_gap_car is 2.497142696461476e-7\n",
        "relative_gap_truck is 3.606751901157865e-7\n",
        "l = 650000------------------------------------------------\n"
       ]
      },
      {
       "output_type": "stream",
       "stream": "stdout",
       "text": [
        "relative_gap_car is 3.2561596214482674e-7\n",
        "relative_gap_truck is 3.437102516426061e-7\n",
        "l = 660000------------------------------------------------\n"
       ]
      },
      {
       "output_type": "stream",
       "stream": "stdout",
       "text": [
        "relative_gap_car is 2.468016442037842e-7\n",
        "relative_gap_truck is 3.3571538184693286e-7\n",
        "l = 670000------------------------------------------------\n"
       ]
      },
      {
       "output_type": "stream",
       "stream": "stdout",
       "text": [
        "relative_gap_car is 2.610391921017475e-7\n",
        "relative_gap_truck is 2.9072666898099925e-7\n",
        "l = 680000------------------------------------------------\n"
       ]
      },
      {
       "output_type": "stream",
       "stream": "stdout",
       "text": [
        "relative_gap_car is 2.746243021084629e-7\n",
        "relative_gap_truck is 3.310351544965329e-7\n",
        "l = 690000------------------------------------------------\n"
       ]
      },
      {
       "output_type": "stream",
       "stream": "stdout",
       "text": [
        "relative_gap_car is 2.28313631873282e-7\n",
        "relative_gap_truck is 3.2035901649836186e-7\n",
        "l = 700000------------------------------------------------\n"
       ]
      },
      {
       "output_type": "stream",
       "stream": "stdout",
       "text": [
        "relative_gap_car is 2.8130384381046783e-7\n",
        "relative_gap_truck is 2.8677065986597877e-7\n",
        "l = 710000------------------------------------------------\n"
       ]
      },
      {
       "output_type": "stream",
       "stream": "stdout",
       "text": [
        "relative_gap_car is 2.947885500217026e-7\n",
        "relative_gap_truck is 3.794507860928601e-7\n",
        "l = 720000------------------------------------------------\n"
       ]
      },
      {
       "output_type": "stream",
       "stream": "stdout",
       "text": [
        "relative_gap_car is 2.5639249928091805e-7\n",
        "relative_gap_truck is 3.578661622792036e-7\n",
        "l = 730000------------------------------------------------\n"
       ]
      },
      {
       "output_type": "stream",
       "stream": "stdout",
       "text": [
        "relative_gap_car is 2.1820789475514795e-7\n",
        "relative_gap_truck is 3.693416941894047e-7\n",
        "l = 740000------------------------------------------------\n"
       ]
      },
      {
       "output_type": "stream",
       "stream": "stdout",
       "text": [
        "relative_gap_car is 2.506341501832789e-7\n",
        "relative_gap_truck is 3.0674325313096294e-7\n",
        "l = 750000------------------------------------------------\n"
       ]
      },
      {
       "output_type": "stream",
       "stream": "stdout",
       "text": [
        "relative_gap_car is 2.037396274377118e-7\n",
        "relative_gap_truck is 2.65114219947068e-7\n",
        "l = 760000------------------------------------------------\n"
       ]
      },
      {
       "output_type": "stream",
       "stream": "stdout",
       "text": [
        "relative_gap_car is 1.852880232866651e-7\n",
        "relative_gap_truck is 2.9994101354516485e-7\n",
        "l = 770000------------------------------------------------\n"
       ]
      },
      {
       "output_type": "stream",
       "stream": "stdout",
       "text": [
        "relative_gap_car is 1.8794851366900392e-7\n",
        "relative_gap_truck is 3.1164832328444353e-7\n",
        "l = 780000------------------------------------------------\n"
       ]
      },
      {
       "output_type": "stream",
       "stream": "stdout",
       "text": [
        "relative_gap_car is 1.8795173899622244e-7\n",
        "relative_gap_truck is 2.8013415229211623e-7\n",
        "l = 790000------------------------------------------------\n"
       ]
      },
      {
       "output_type": "stream",
       "stream": "stdout",
       "text": [
        "relative_gap_car is 2.498105630737988e-7\n",
        "relative_gap_truck is 2.1393743724274108e-7\n",
        "l = 800000------------------------------------------------\n"
       ]
      },
      {
       "output_type": "stream",
       "stream": "stdout",
       "text": [
        "relative_gap_car is 1.801799235130435e-7\n",
        "relative_gap_truck is 2.5162208042136623e-7\n",
        "l = 810000------------------------------------------------\n"
       ]
      },
      {
       "output_type": "stream",
       "stream": "stdout",
       "text": [
        "relative_gap_car is 2.208080154869619e-7\n",
        "relative_gap_truck is 3.175775804287645e-7\n",
        "l = 820000------------------------------------------------\n"
       ]
      },
      {
       "output_type": "stream",
       "stream": "stdout",
       "text": [
        "relative_gap_car is 1.751995179943931e-7\n",
        "relative_gap_truck is 2.2971675713081506e-7\n",
        "l = 830000------------------------------------------------\n"
       ]
      },
      {
       "output_type": "stream",
       "stream": "stdout",
       "text": [
        "relative_gap_car is 2.3414179136560818e-7\n",
        "relative_gap_truck is 2.992970330405007e-7\n",
        "l = 840000------------------------------------------------\n"
       ]
      },
      {
       "output_type": "stream",
       "stream": "stdout",
       "text": [
        "relative_gap_car is 2.2058729084495002e-7\n",
        "relative_gap_truck is 2.500482986889282e-7\n",
        "l = 850000------------------------------------------------\n"
       ]
      },
      {
       "output_type": "stream",
       "stream": "stdout",
       "text": [
        "relative_gap_car is 1.5241230525311443e-7\n",
        "relative_gap_truck is 2.3134568304292374e-7\n",
        "l = 860000------------------------------------------------\n"
       ]
      },
      {
       "output_type": "stream",
       "stream": "stdout",
       "text": [
        "relative_gap_car is 1.6922469476866407e-7\n",
        "relative_gap_truck is 2.5239765591433996e-7\n",
        "l = 870000------------------------------------------------\n"
       ]
      },
      {
       "output_type": "stream",
       "stream": "stdout",
       "text": [
        "relative_gap_car is 2.813267515594385e-7\n",
        "relative_gap_truck is 2.2798659294671162e-7\n",
        "l = 880000------------------------------------------------\n"
       ]
      },
      {
       "output_type": "stream",
       "stream": "stdout",
       "text": [
        "relative_gap_car is 1.67348250853689e-7\n",
        "relative_gap_truck is 2.5655319158633043e-7\n",
        "l = 890000------------------------------------------------\n"
       ]
      },
      {
       "output_type": "stream",
       "stream": "stdout",
       "text": [
        "relative_gap_car is 1.7394500739934394e-7\n",
        "relative_gap_truck is 2.5332816756767976e-7\n",
        "l = 900000------------------------------------------------\n"
       ]
      },
      {
       "output_type": "stream",
       "stream": "stdout",
       "text": [
        "relative_gap_car is 1.5277388755898296e-7\n",
        "relative_gap_truck is 2.757491668176483e-7\n",
        "l = 910000------------------------------------------------\n"
       ]
      },
      {
       "output_type": "stream",
       "stream": "stdout",
       "text": [
        "relative_gap_car is 2.0163625075806272e-7\n",
        "relative_gap_truck is 2.2595087542219482e-7\n",
        "l = 920000------------------------------------------------\n"
       ]
      },
      {
       "output_type": "stream",
       "stream": "stdout",
       "text": [
        "relative_gap_car is 1.672896676902671e-7\n",
        "relative_gap_truck is 2.1129828584925926e-7\n",
        "l = 930000------------------------------------------------\n"
       ]
      },
      {
       "output_type": "stream",
       "stream": "stdout",
       "text": [
        "relative_gap_car is 2.085656082198232e-7\n",
        "relative_gap_truck is 2.904022406681335e-7\n",
        "l = 940000------------------------------------------------\n"
       ]
      },
      {
       "output_type": "stream",
       "stream": "stdout",
       "text": [
        "relative_gap_car is 2.074414675973139e-7\n",
        "relative_gap_truck is 2.3729879157152627e-7\n",
        "l = 950000------------------------------------------------\n"
       ]
      },
      {
       "output_type": "stream",
       "stream": "stdout",
       "text": [
        "relative_gap_car is 1.6770664100469286e-7\n",
        "relative_gap_truck is 2.3432470704829435e-7\n",
        "l = 960000------------------------------------------------\n"
       ]
      },
      {
       "output_type": "stream",
       "stream": "stdout",
       "text": [
        "relative_gap_car is 1.813182775460246e-7\n",
        "relative_gap_truck is 2.8724077366671956e-7\n",
        "l = 970000------------------------------------------------\n"
       ]
      },
      {
       "output_type": "stream",
       "stream": "stdout",
       "text": [
        "relative_gap_car is 1.7520510347801348e-7\n",
        "relative_gap_truck is 2.6843737281185115e-7\n",
        "l = 980000------------------------------------------------\n"
       ]
      },
      {
       "output_type": "stream",
       "stream": "stdout",
       "text": [
        "relative_gap_car is 1.6478738370349863e-7\n",
        "relative_gap_truck is 1.9317230647788178e-7\n",
        "l = 990000------------------------------------------------\n"
       ]
      },
      {
       "output_type": "stream",
       "stream": "stdout",
       "text": [
        "relative_gap_car is 1.995993718258507e-7\n",
        "relative_gap_truck is 2.754909392484034e-7\n",
        "l = 1000000------------------------------------------------\n"
       ]
      },
      {
       "output_type": "stream",
       "stream": "stdout",
       "text": [
        "relative_gap_car is 1.4793750364892897e-7\n",
        "relative_gap_truck is 2.0928832609201775e-7\n",
        "l = 1010000------------------------------------------------\n"
       ]
      },
      {
       "output_type": "stream",
       "stream": "stdout",
       "text": [
        "relative_gap_car is 1.3680068786512214e-7\n",
        "relative_gap_truck is 2.3303952025902673e-7\n",
        "l = 1020000------------------------------------------------\n"
       ]
      },
      {
       "output_type": "stream",
       "stream": "stdout",
       "text": [
        "relative_gap_car is 1.6981632038449233e-7\n",
        "relative_gap_truck is 1.7915167632482372e-7\n",
        "l = 1030000------------------------------------------------\n"
       ]
      },
      {
       "output_type": "stream",
       "stream": "stdout",
       "text": [
        "relative_gap_car is 1.4574386404153706e-7\n",
        "relative_gap_truck is 2.7613876937892635e-7\n",
        "l = 1040000------------------------------------------------\n"
       ]
      },
      {
       "output_type": "stream",
       "stream": "stdout",
       "text": [
        "relative_gap_car is 1.7136283179995075e-7\n",
        "relative_gap_truck is 2.629079008878553e-7\n",
        "l = 1050000------------------------------------------------\n"
       ]
      },
      {
       "output_type": "stream",
       "stream": "stdout",
       "text": [
        "relative_gap_car is 1.6912888420380056e-7\n",
        "relative_gap_truck is 1.9104152539404607e-7\n",
        "l = 1060000------------------------------------------------\n"
       ]
      },
      {
       "output_type": "stream",
       "stream": "stdout",
       "text": [
        "relative_gap_car is 1.4735931039685704e-7\n",
        "relative_gap_truck is 1.6277568221803333e-7\n",
        "l = 1070000------------------------------------------------\n"
       ]
      },
      {
       "output_type": "stream",
       "stream": "stdout",
       "text": [
        "relative_gap_car is 2.1229188059610645e-7\n",
        "relative_gap_truck is 2.052346320888718e-7\n",
        "l = 1080000------------------------------------------------\n"
       ]
      },
      {
       "output_type": "stream",
       "stream": "stdout",
       "text": [
        "relative_gap_car is 1.9963354579042244e-7\n",
        "relative_gap_truck is 2.0696501019078534e-7\n",
        "l = 1090000------------------------------------------------\n"
       ]
      },
      {
       "output_type": "stream",
       "stream": "stdout",
       "text": [
        "relative_gap_car is 1.2479209923843854e-7\n",
        "relative_gap_truck is 1.9812514286128475e-7\n",
        "l = 1100000------------------------------------------------\n"
       ]
      },
      {
       "output_type": "stream",
       "stream": "stdout",
       "text": [
        "relative_gap_car is 2.0396038497308757e-7\n",
        "relative_gap_truck is 2.097663941717304e-7\n",
        "l = 1110000------------------------------------------------\n"
       ]
      },
      {
       "output_type": "stream",
       "stream": "stdout",
       "text": [
        "relative_gap_car is 1.6109570883054257e-7\n",
        "relative_gap_truck is 1.9205118574978852e-7\n",
        "l = 1120000------------------------------------------------\n"
       ]
      },
      {
       "output_type": "stream",
       "stream": "stdout",
       "text": [
        "relative_gap_car is 1.6235486043006867e-7\n",
        "relative_gap_truck is 1.6891705003737768e-7\n",
        "l = 1130000------------------------------------------------\n"
       ]
      },
      {
       "output_type": "stream",
       "stream": "stdout",
       "text": [
        "relative_gap_car is 1.2551997133079898e-7\n",
        "relative_gap_truck is 1.977754968235528e-7\n",
        "l = 1140000------------------------------------------------\n"
       ]
      },
      {
       "output_type": "stream",
       "stream": "stdout",
       "text": [
        "relative_gap_car is 1.38231752877974e-7\n",
        "relative_gap_truck is 1.9907309782783728e-7\n",
        "l = 1150000------------------------------------------------\n"
       ]
      },
      {
       "output_type": "stream",
       "stream": "stdout",
       "text": [
        "relative_gap_car is 1.2931924967683832e-7\n",
        "relative_gap_truck is 1.7659708634141876e-7\n",
        "l = 1160000------------------------------------------------\n"
       ]
      },
      {
       "output_type": "stream",
       "stream": "stdout",
       "text": [
        "relative_gap_car is 1.2170556709588504e-7\n",
        "relative_gap_truck is 1.6250427132476907e-7\n",
        "l = 1170000------------------------------------------------\n"
       ]
      },
      {
       "output_type": "stream",
       "stream": "stdout",
       "text": [
        "relative_gap_car is 1.8865344297361898e-7\n",
        "relative_gap_truck is 1.691527466403654e-7\n",
        "l = 1180000------------------------------------------------\n"
       ]
      },
      {
       "output_type": "stream",
       "stream": "stdout",
       "text": [
        "relative_gap_car is 1.547390296739634e-7\n",
        "relative_gap_truck is 2.1892066933870928e-7\n",
        "l = 1190000------------------------------------------------\n"
       ]
      },
      {
       "output_type": "stream",
       "stream": "stdout",
       "text": [
        "relative_gap_car is 2.03535128234503e-7\n",
        "relative_gap_truck is 2.1592635432364267e-7\n",
        "l = 1200000------------------------------------------------\n"
       ]
      },
      {
       "output_type": "stream",
       "stream": "stdout",
       "text": [
        "relative_gap_car is 1.488209723339004e-7\n",
        "relative_gap_truck is 1.6401200866936506e-7\n",
        "l = 1210000------------------------------------------------\n"
       ]
      },
      {
       "output_type": "stream",
       "stream": "stdout",
       "text": [
        "relative_gap_car is 1.337128066524349e-7\n",
        "relative_gap_truck is 1.966436384211971e-7\n",
        "l = 1220000------------------------------------------------\n"
       ]
      },
      {
       "output_type": "stream",
       "stream": "stdout",
       "text": [
        "relative_gap_car is 1.9836463424663057e-7\n",
        "relative_gap_truck is 2.3985715960423137e-7\n",
        "l = 1230000------------------------------------------------\n"
       ]
      },
      {
       "output_type": "stream",
       "stream": "stdout",
       "text": [
        "relative_gap_car is 1.3322344756501016e-7\n",
        "relative_gap_truck is 2.3227508779725746e-7\n",
        "l = 1240000------------------------------------------------\n"
       ]
      },
      {
       "output_type": "stream",
       "stream": "stdout",
       "text": [
        "relative_gap_car is 1.3798887744002566e-7\n",
        "relative_gap_truck is 2.1893460047966946e-7\n",
        "l = 1250000------------------------------------------------\n"
       ]
      },
      {
       "output_type": "stream",
       "stream": "stdout",
       "text": [
        "relative_gap_car is 1.4472540081668758e-7\n",
        "relative_gap_truck is 1.8185231259410197e-7\n",
        "l = 1260000------------------------------------------------\n"
       ]
      },
      {
       "output_type": "stream",
       "stream": "stdout",
       "text": [
        "relative_gap_car is 1.3596969910055013e-7\n",
        "relative_gap_truck is 1.9178374756319226e-7\n",
        "l = 1270000------------------------------------------------\n"
       ]
      },
      {
       "output_type": "stream",
       "stream": "stdout",
       "text": [
        "relative_gap_car is 1.1510778675895364e-7\n",
        "relative_gap_truck is 1.9817808001483553e-7\n",
        "l = 1280000------------------------------------------------\n"
       ]
      },
      {
       "output_type": "stream",
       "stream": "stdout",
       "text": [
        "relative_gap_car is 1.0998987866759411e-7\n",
        "relative_gap_truck is 1.9003862358651024e-7\n",
        "l = 1290000------------------------------------------------\n"
       ]
      },
      {
       "output_type": "stream",
       "stream": "stdout",
       "text": [
        "relative_gap_car is 1.1755314079358137e-7\n",
        "relative_gap_truck is 1.4997451247883434e-7\n",
        "l = 1300000------------------------------------------------\n"
       ]
      },
      {
       "output_type": "stream",
       "stream": "stdout",
       "text": [
        "relative_gap_car is 1.4876573693883347e-7\n",
        "relative_gap_truck is 1.747578144836649e-7\n",
        "l = 1310000------------------------------------------------\n"
       ]
      },
      {
       "output_type": "stream",
       "stream": "stdout",
       "text": [
        "relative_gap_car is 1.2279414932300883e-7\n",
        "relative_gap_truck is 1.5051982220791301e-7\n",
        "l = 1320000------------------------------------------------\n"
       ]
      },
      {
       "output_type": "stream",
       "stream": "stdout",
       "text": [
        "relative_gap_car is 1.1791655167256362e-7\n",
        "relative_gap_truck is 1.670214309269459e-7\n",
        "l = 1330000------------------------------------------------\n"
       ]
      },
      {
       "output_type": "stream",
       "stream": "stdout",
       "text": [
        "relative_gap_car is 1.1835826184926128e-7\n",
        "relative_gap_truck is 1.486667196680968e-7\n",
        "l = 1340000------------------------------------------------\n"
       ]
      },
      {
       "output_type": "stream",
       "stream": "stdout",
       "text": [
        "relative_gap_car is 1.4559888010117104e-7\n",
        "relative_gap_truck is 1.5932481600504313e-7\n",
        "l = 1350000------------------------------------------------\n"
       ]
      },
      {
       "output_type": "stream",
       "stream": "stdout",
       "text": [
        "relative_gap_car is 1.3737024042766767e-7\n",
        "relative_gap_truck is 2.1336790793300326e-7\n",
        "l = 1360000------------------------------------------------\n"
       ]
      },
      {
       "output_type": "stream",
       "stream": "stdout",
       "text": [
        "relative_gap_car is 1.1443420590687868e-7\n",
        "relative_gap_truck is 1.5590469358716453e-7\n",
        "l = 1370000------------------------------------------------\n"
       ]
      },
      {
       "output_type": "stream",
       "stream": "stdout",
       "text": [
        "relative_gap_car is 1.233615279665205e-7\n",
        "relative_gap_truck is 1.74032911899493e-7\n",
        "l = 1380000------------------------------------------------\n"
       ]
      },
      {
       "output_type": "stream",
       "stream": "stdout",
       "text": [
        "relative_gap_car is 1.1999008281212104e-7\n",
        "relative_gap_truck is 1.460149488847639e-7\n",
        "l = 1390000------------------------------------------------\n"
       ]
      },
      {
       "output_type": "stream",
       "stream": "stdout",
       "text": [
        "relative_gap_car is 1.0586315137793764e-7\n",
        "relative_gap_truck is 1.548222735476034e-7\n",
        "l = 1400000------------------------------------------------\n"
       ]
      },
      {
       "output_type": "stream",
       "stream": "stdout",
       "text": [
        "relative_gap_car is 1.3254615444493903e-7\n",
        "relative_gap_truck is 1.5504771176576385e-7\n",
        "l = 1410000------------------------------------------------\n"
       ]
      },
      {
       "output_type": "stream",
       "stream": "stdout",
       "text": [
        "relative_gap_car is 1.2715649635731712e-7\n",
        "relative_gap_truck is 1.784261876028541e-7\n",
        "l = 1420000------------------------------------------------\n"
       ]
      },
      {
       "output_type": "stream",
       "stream": "stdout",
       "text": [
        "relative_gap_car is 1.2546177074319007e-7\n",
        "relative_gap_truck is 1.7283620384454412e-7\n",
        "l = 1430000------------------------------------------------\n"
       ]
      },
      {
       "output_type": "stream",
       "stream": "stdout",
       "text": [
        "relative_gap_car is 1.2788968494750816e-7\n",
        "relative_gap_truck is 1.5450996947871194e-7\n",
        "l = 1440000------------------------------------------------\n"
       ]
      },
      {
       "output_type": "stream",
       "stream": "stdout",
       "text": [
        "relative_gap_car is 1.091916865412973e-7\n",
        "relative_gap_truck is 1.545436441167189e-7\n",
        "l = 1450000------------------------------------------------\n"
       ]
      },
      {
       "output_type": "stream",
       "stream": "stdout",
       "text": [
        "relative_gap_car is 1.058491804517579e-7\n",
        "relative_gap_truck is 1.391815605961991e-7\n",
        "l = 1460000------------------------------------------------\n"
       ]
      },
      {
       "output_type": "stream",
       "stream": "stdout",
       "text": [
        "relative_gap_car is 9.635003317730991e-8\n",
        "relative_gap_truck is 1.4994132789457752e-7\n",
        "l = 1470000------------------------------------------------\n"
       ]
      },
      {
       "output_type": "stream",
       "stream": "stdout",
       "text": [
        "relative_gap_car is 1.1614586558105632e-7\n",
        "relative_gap_truck is 1.8440918077149252e-7\n",
        "l = 1480000------------------------------------------------\n"
       ]
      },
      {
       "output_type": "stream",
       "stream": "stdout",
       "text": [
        "relative_gap_car is 1.1416021403391282e-7\n",
        "relative_gap_truck is 1.599164655361212e-7\n",
        "l = 1490000------------------------------------------------\n"
       ]
      },
      {
       "output_type": "stream",
       "stream": "stdout",
       "text": [
        "relative_gap_car is 1.25569347138148e-7\n",
        "relative_gap_truck is 1.6081828624759407e-7\n",
        "l = 1500000------------------------------------------------\n"
       ]
      },
      {
       "output_type": "stream",
       "stream": "stdout",
       "text": [
        "relative_gap_car is 1.2677228808765015e-7\n",
        "relative_gap_truck is 1.7485120941534247e-7\n",
        "l = 1510000------------------------------------------------\n"
       ]
      },
      {
       "output_type": "stream",
       "stream": "stdout",
       "text": [
        "relative_gap_car is 1.4444588322794627e-7\n",
        "relative_gap_truck is 1.5258611607748222e-7\n",
        "l = 1520000------------------------------------------------\n"
       ]
      },
      {
       "output_type": "stream",
       "stream": "stdout",
       "text": [
        "relative_gap_car is 8.830146946079157e-8\n",
        "relative_gap_truck is 1.472139075379193e-7\n",
        "l = 1530000------------------------------------------------\n"
       ]
      },
      {
       "output_type": "stream",
       "stream": "stdout",
       "text": [
        "relative_gap_car is 1.0246824929177967e-7\n",
        "relative_gap_truck is 1.3985543701317234e-7\n",
        "l = 1540000------------------------------------------------\n"
       ]
      },
      {
       "output_type": "stream",
       "stream": "stdout",
       "text": [
        "relative_gap_car is 1.2484723000079107e-7\n",
        "relative_gap_truck is 1.5467375191089023e-7\n",
        "l = 1550000------------------------------------------------\n"
       ]
      },
      {
       "output_type": "stream",
       "stream": "stdout",
       "text": [
        "relative_gap_car is 1.015176809358144e-7\n",
        "relative_gap_truck is 1.382867373075317e-7\n",
        "l = 1560000------------------------------------------------\n"
       ]
      },
      {
       "output_type": "stream",
       "stream": "stdout",
       "text": [
        "relative_gap_car is 1.1355422364794807e-7\n",
        "relative_gap_truck is 1.5017265477117733e-7\n",
        "l = 1570000------------------------------------------------\n"
       ]
      },
      {
       "output_type": "stream",
       "stream": "stdout",
       "text": [
        "relative_gap_car is 8.209070905173748e-8\n",
        "relative_gap_truck is 1.2831249847708527e-7\n",
        "l = 1580000------------------------------------------------\n"
       ]
      },
      {
       "output_type": "stream",
       "stream": "stdout",
       "text": [
        "relative_gap_car is 8.373848784571543e-8\n",
        "relative_gap_truck is 1.2539922556603778e-7\n",
        "l = 1590000------------------------------------------------\n"
       ]
      },
      {
       "output_type": "stream",
       "stream": "stdout",
       "text": [
        "relative_gap_car is 9.542437843947156e-8\n",
        "relative_gap_truck is 1.5633266989742248e-7\n",
        "l = 1600000------------------------------------------------\n"
       ]
      },
      {
       "output_type": "stream",
       "stream": "stdout",
       "text": [
        "relative_gap_car is 1.2270924800852368e-7\n",
        "relative_gap_truck is 1.3754034490586492e-7\n",
        "l = 1610000------------------------------------------------\n"
       ]
      },
      {
       "output_type": "stream",
       "stream": "stdout",
       "text": [
        "relative_gap_car is 8.35109023745164e-8\n",
        "relative_gap_truck is 1.220502915012181e-7\n",
        "l = 1620000------------------------------------------------\n"
       ]
      },
      {
       "output_type": "stream",
       "stream": "stdout",
       "text": [
        "relative_gap_car is 1.3096971822543144e-7\n",
        "relative_gap_truck is 1.1300159861899713e-7\n",
        "l = 1630000------------------------------------------------\n"
       ]
      },
      {
       "output_type": "stream",
       "stream": "stdout",
       "text": [
        "relative_gap_car is 9.736056343359038e-8\n",
        "relative_gap_truck is 1.350934647398249e-7\n",
        "l = 1640000------------------------------------------------\n"
       ]
      },
      {
       "output_type": "stream",
       "stream": "stdout",
       "text": [
        "relative_gap_car is 7.965164731573694e-8\n",
        "relative_gap_truck is 1.331005132803428e-7\n",
        "l = 1650000------------------------------------------------\n"
       ]
      },
      {
       "output_type": "stream",
       "stream": "stdout",
       "text": [
        "relative_gap_car is 1.0964771409691207e-7\n",
        "relative_gap_truck is 1.2701322998871491e-7\n",
        "l = 1660000------------------------------------------------\n"
       ]
      },
      {
       "output_type": "stream",
       "stream": "stdout",
       "text": [
        "relative_gap_car is 1.1158870651407238e-7\n",
        "relative_gap_truck is 1.2098034183554925e-7\n",
        "l = 1670000------------------------------------------------\n"
       ]
      },
      {
       "output_type": "stream",
       "stream": "stdout",
       "text": [
        "relative_gap_car is 1.2334443628304942e-7\n",
        "relative_gap_truck is 1.2722872709837353e-7\n",
        "l = 1680000------------------------------------------------\n"
       ]
      },
      {
       "output_type": "stream",
       "stream": "stdout",
       "text": [
        "relative_gap_car is 1.1579986868762895e-7\n",
        "relative_gap_truck is 1.1744046847846174e-7\n",
        "l = 1690000------------------------------------------------\n"
       ]
      },
      {
       "output_type": "stream",
       "stream": "stdout",
       "text": [
        "relative_gap_car is 8.934173678006721e-8\n",
        "relative_gap_truck is 1.4324939475521173e-7\n",
        "l = 1700000------------------------------------------------\n"
       ]
      },
      {
       "output_type": "stream",
       "stream": "stdout",
       "text": [
        "relative_gap_car is 1.0286431551601831e-7\n",
        "relative_gap_truck is 1.3527770033969687e-7\n",
        "l = 1710000------------------------------------------------\n"
       ]
      },
      {
       "output_type": "stream",
       "stream": "stdout",
       "text": [
        "relative_gap_car is 9.049471039807697e-8\n",
        "relative_gap_truck is 1.6692917195258337e-7\n",
        "l = 1720000------------------------------------------------\n"
       ]
      },
      {
       "output_type": "stream",
       "stream": "stdout",
       "text": [
        "relative_gap_car is 9.586562413489151e-8\n",
        "relative_gap_truck is 1.4216450151111034e-7\n",
        "l = 1730000------------------------------------------------\n"
       ]
      },
      {
       "output_type": "stream",
       "stream": "stdout",
       "text": [
        "relative_gap_car is 9.821171824007354e-8\n",
        "relative_gap_truck is 1.240971459054733e-7\n",
        "l = 1740000------------------------------------------------\n"
       ]
      },
      {
       "output_type": "stream",
       "stream": "stdout",
       "text": [
        "relative_gap_car is 1.1456540695524275e-7\n",
        "relative_gap_truck is 1.3634683693922559e-7\n",
        "l = 1750000------------------------------------------------\n"
       ]
      },
      {
       "output_type": "stream",
       "stream": "stdout",
       "text": [
        "relative_gap_car is 9.047109874969338e-8\n",
        "relative_gap_truck is 1.1879901932613718e-7\n",
        "l = 1760000------------------------------------------------\n"
       ]
      },
      {
       "output_type": "stream",
       "stream": "stdout",
       "text": [
        "relative_gap_car is 9.529785443360275e-8\n",
        "relative_gap_truck is 1.27081569671999e-7\n",
        "l = 1770000------------------------------------------------\n"
       ]
      },
      {
       "output_type": "stream",
       "stream": "stdout",
       "text": [
        "relative_gap_car is 7.70245464295493e-8\n",
        "relative_gap_truck is 1.1097436542152756e-7\n",
        "l = 1780000------------------------------------------------\n"
       ]
      },
      {
       "output_type": "stream",
       "stream": "stdout",
       "text": [
        "relative_gap_car is 8.661876392795042e-8\n",
        "relative_gap_truck is 1.2765258227556235e-7\n",
        "l = 1790000------------------------------------------------\n"
       ]
      },
      {
       "output_type": "stream",
       "stream": "stdout",
       "text": [
        "relative_gap_car is 1.0953974032622644e-7\n",
        "relative_gap_truck is 1.389036771289263e-7\n",
        "l = 1800000------------------------------------------------\n"
       ]
      },
      {
       "output_type": "stream",
       "stream": "stdout",
       "text": [
        "relative_gap_car is 1.07258967352596e-7\n",
        "relative_gap_truck is 1.4321496893070968e-7\n",
        "l = 1810000------------------------------------------------\n"
       ]
      },
      {
       "output_type": "stream",
       "stream": "stdout",
       "text": [
        "relative_gap_car is 1.0512459788600093e-7\n",
        "relative_gap_truck is 1.1726047309052491e-7\n",
        "l = 1820000------------------------------------------------\n"
       ]
      },
      {
       "output_type": "stream",
       "stream": "stdout",
       "text": [
        "relative_gap_car is 9.700471446233813e-8\n",
        "relative_gap_truck is 1.0158823363763172e-7\n",
        "l = 1830000------------------------------------------------\n"
       ]
      },
      {
       "output_type": "stream",
       "stream": "stdout",
       "text": [
        "relative_gap_car is 7.244572290541891e-8\n",
        "relative_gap_truck is 1.1279080325712391e-7\n",
        "l = 1840000------------------------------------------------\n"
       ]
      },
      {
       "output_type": "stream",
       "stream": "stdout",
       "text": [
        "relative_gap_car is 1.0723036853515935e-7\n",
        "relative_gap_truck is 1.1329912637310995e-7\n",
        "l = 1850000------------------------------------------------\n"
       ]
      },
      {
       "output_type": "stream",
       "stream": "stdout",
       "text": [
        "relative_gap_car is 7.31639016720095e-8\n",
        "relative_gap_truck is 1.183328529739901e-7\n",
        "l = 1860000------------------------------------------------\n"
       ]
      },
      {
       "output_type": "stream",
       "stream": "stdout",
       "text": [
        "relative_gap_car is 1.1023929465788101e-7\n",
        "relative_gap_truck is 1.1046974622563869e-7\n",
        "l = 1870000------------------------------------------------\n"
       ]
      },
      {
       "output_type": "stream",
       "stream": "stdout",
       "text": [
        "relative_gap_car is 6.984415854259026e-8\n",
        "relative_gap_truck is 1.0806225213854397e-7\n",
        "l = 1880000------------------------------------------------\n"
       ]
      },
      {
       "output_type": "stream",
       "stream": "stdout",
       "text": [
        "relative_gap_car is 9.836690882577527e-8\n",
        "relative_gap_truck is 1.1579268255350097e-7\n",
        "l = 1890000------------------------------------------------\n"
       ]
      },
      {
       "output_type": "stream",
       "stream": "stdout",
       "text": [
        "relative_gap_car is 9.187371764015865e-8\n",
        "relative_gap_truck is 1.298848232320338e-7\n",
        "l = 1900000------------------------------------------------\n"
       ]
      },
      {
       "output_type": "stream",
       "stream": "stdout",
       "text": [
        "relative_gap_car is 1.0300060551653232e-7\n",
        "relative_gap_truck is 1.0096563971609353e-7\n",
        "l = 1910000------------------------------------------------\n"
       ]
      },
      {
       "output_type": "stream",
       "stream": "stdout",
       "text": [
        "relative_gap_car is 1.0299173333733759e-7\n",
        "relative_gap_truck is 1.239545505147548e-7\n",
        "l = 1920000------------------------------------------------\n"
       ]
      },
      {
       "output_type": "stream",
       "stream": "stdout",
       "text": [
        "relative_gap_car is 9.976947089606527e-8\n",
        "relative_gap_truck is 1.1973054170047947e-7\n",
        "l = 1930000------------------------------------------------\n"
       ]
      },
      {
       "output_type": "stream",
       "stream": "stdout",
       "text": [
        "relative_gap_car is 9.359740179532071e-8\n",
        "relative_gap_truck is 1.1141851460453854e-7\n",
        "l = 1940000------------------------------------------------\n"
       ]
      },
      {
       "output_type": "stream",
       "stream": "stdout",
       "text": [
        "relative_gap_car is 8.024705140177969e-8\n",
        "relative_gap_truck is 1.1327093072179221e-7\n",
        "l = 1950000------------------------------------------------\n"
       ]
      },
      {
       "output_type": "stream",
       "stream": "stdout",
       "text": [
        "relative_gap_car is 7.949234061451762e-8\n",
        "relative_gap_truck is 1.0833010613444561e-7\n",
        "l = 1960000------------------------------------------------\n"
       ]
      },
      {
       "output_type": "stream",
       "stream": "stdout",
       "text": [
        "relative_gap_car is 8.152938753879033e-8\n",
        "relative_gap_truck is 1.1837213372712284e-7\n",
        "l = 1970000------------------------------------------------\n"
       ]
      },
      {
       "output_type": "stream",
       "stream": "stdout",
       "text": [
        "relative_gap_car is 6.539125970332995e-8\n",
        "relative_gap_truck is 9.750329968407235e-8\n",
        "l = 1980000------------------------------------------------\n"
       ]
      },
      {
       "output_type": "stream",
       "stream": "stdout",
       "text": [
        "relative_gap_car is 8.942185545035971e-8\n",
        "relative_gap_truck is 1.1578323727887128e-7\n",
        "l = 1990000------------------------------------------------\n"
       ]
      },
      {
       "output_type": "stream",
       "stream": "stdout",
       "text": [
        "relative_gap_car is 8.529050120267093e-8\n",
        "relative_gap_truck is 1.0679904643826836e-7\n",
        "l = 2000000------------------------------------------------\n"
       ]
      },
      {
       "output_type": "stream",
       "stream": "stdout",
       "text": [
        "relative_gap_car is 8.08441403842184e-8\n",
        "relative_gap_truck is 1.0917236684880741e-7\n",
        "l = 2010000------------------------------------------------\n"
       ]
      },
      {
       "output_type": "stream",
       "stream": "stdout",
       "text": [
        "relative_gap_car is 7.713874251129339e-8\n",
        "relative_gap_truck is 1.1332597432650381e-7\n",
        "l = 2020000------------------------------------------------\n"
       ]
      },
      {
       "output_type": "stream",
       "stream": "stdout",
       "text": [
        "relative_gap_car is 8.430925917671662e-8\n",
        "relative_gap_truck is 9.439989525920392e-8\n",
        "l = 2030000------------------------------------------------\n"
       ]
      },
      {
       "output_type": "stream",
       "stream": "stdout",
       "text": [
        "relative_gap_car is 8.170725487753542e-8\n",
        "relative_gap_truck is 1.0945411024084838e-7\n",
        "l = 2040000------------------------------------------------\n"
       ]
      },
      {
       "output_type": "stream",
       "stream": "stdout",
       "text": [
        "relative_gap_car is 8.740232073373011e-8\n",
        "relative_gap_truck is 1.2253755364892756e-7\n",
        "l = 2050000------------------------------------------------\n"
       ]
      },
      {
       "output_type": "stream",
       "stream": "stdout",
       "text": [
        "relative_gap_car is 6.92631518370665e-8\n",
        "relative_gap_truck is 1.0955685994647212e-7\n",
        "l = 2060000------------------------------------------------\n"
       ]
      },
      {
       "output_type": "stream",
       "stream": "stdout",
       "text": [
        "relative_gap_car is 9.160679663156134e-8\n",
        "relative_gap_truck is 1.1390221529502247e-7\n",
        "l = 2070000------------------------------------------------\n"
       ]
      },
      {
       "output_type": "stream",
       "stream": "stdout",
       "text": [
        "relative_gap_car is 6.600905510571336e-8\n",
        "relative_gap_truck is 8.895302716032904e-8\n",
        "l = 2080000------------------------------------------------\n"
       ]
      },
      {
       "output_type": "stream",
       "stream": "stdout",
       "text": [
        "relative_gap_car is 8.884430170005627e-8\n",
        "relative_gap_truck is 1.1211600895393962e-7\n",
        "l = 2090000------------------------------------------------\n"
       ]
      },
      {
       "output_type": "stream",
       "stream": "stdout",
       "text": [
        "relative_gap_car is 7.261541385686681e-8\n",
        "relative_gap_truck is 9.700533045783761e-8\n",
        "l = 2100000------------------------------------------------\n"
       ]
      },
      {
       "output_type": "stream",
       "stream": "stdout",
       "text": [
        "relative_gap_car is 8.414945765659076e-8\n",
        "relative_gap_truck is 9.564697455378464e-8\n",
        "l = 2110000------------------------------------------------\n"
       ]
      },
      {
       "output_type": "stream",
       "stream": "stdout",
       "text": [
        "relative_gap_car is 9.85362588654225e-8\n",
        "relative_gap_truck is 1.01776864774836e-7\n",
        "l = 2120000------------------------------------------------\n"
       ]
      },
      {
       "output_type": "stream",
       "stream": "stdout",
       "text": [
        "relative_gap_car is 7.122079499176563e-8\n",
        "relative_gap_truck is 1.0995400094553496e-7\n",
        "l = 2130000------------------------------------------------\n"
       ]
      },
      {
       "output_type": "stream",
       "stream": "stdout",
       "text": [
        "relative_gap_car is 8.164243922099857e-8\n",
        "relative_gap_truck is 8.363351646522284e-8\n",
        "l = 2140000------------------------------------------------\n"
       ]
      },
      {
       "output_type": "stream",
       "stream": "stdout",
       "text": [
        "relative_gap_car is 8.447842033673482e-8\n",
        "relative_gap_truck is 9.347434415001996e-8\n",
        "l = 2150000------------------------------------------------\n"
       ]
      },
      {
       "output_type": "stream",
       "stream": "stdout",
       "text": [
        "relative_gap_car is 8.652346493021414e-8\n",
        "relative_gap_truck is 9.99252473173012e-8\n",
        "l = 2160000------------------------------------------------\n"
       ]
      },
      {
       "output_type": "stream",
       "stream": "stdout",
       "text": [
        "relative_gap_car is 6.127663861328347e-8\n",
        "relative_gap_truck is 1.0733958380505462e-7\n",
        "l = 2170000------------------------------------------------\n"
       ]
      },
      {
       "output_type": "stream",
       "stream": "stdout",
       "text": [
        "relative_gap_car is 8.442468065760739e-8\n",
        "relative_gap_truck is 1.0984173434905947e-7\n",
        "l = 2180000------------------------------------------------\n"
       ]
      },
      {
       "output_type": "stream",
       "stream": "stdout",
       "text": [
        "relative_gap_car is 6.848201713714341e-8\n",
        "relative_gap_truck is 1.1818850818695194e-7\n",
        "l = 2190000------------------------------------------------\n"
       ]
      },
      {
       "output_type": "stream",
       "stream": "stdout",
       "text": [
        "relative_gap_car is 6.743651896134517e-8\n",
        "relative_gap_truck is 1.1362650442969287e-7\n",
        "l = 2200000------------------------------------------------\n"
       ]
      },
      {
       "output_type": "stream",
       "stream": "stdout",
       "text": [
        "relative_gap_car is 7.086870414770776e-8\n",
        "relative_gap_truck is 1.0236102445780829e-7\n",
        "l = 2210000------------------------------------------------\n"
       ]
      },
      {
       "output_type": "stream",
       "stream": "stdout",
       "text": [
        "relative_gap_car is 1.1357298323640863e-7\n",
        "relative_gap_truck is 8.965735801607525e-8\n",
        "l = 2220000------------------------------------------------\n"
       ]
      },
      {
       "output_type": "stream",
       "stream": "stdout",
       "text": [
        "relative_gap_car is 7.503910566523882e-8\n",
        "relative_gap_truck is 1.1378712856342539e-7\n",
        "l = 2230000------------------------------------------------\n"
       ]
      },
      {
       "output_type": "stream",
       "stream": "stdout",
       "text": [
        "relative_gap_car is 9.096924380467428e-8\n",
        "relative_gap_truck is 9.383798545015854e-8\n",
        "l = 2240000------------------------------------------------\n"
       ]
      },
      {
       "output_type": "stream",
       "stream": "stdout",
       "text": [
        "relative_gap_car is 7.538375970198053e-8\n",
        "relative_gap_truck is 9.60816935412811e-8\n",
        "l = 2250000------------------------------------------------\n"
       ]
      },
      {
       "output_type": "stream",
       "stream": "stdout",
       "text": [
        "relative_gap_car is 7.386308552868629e-8\n",
        "relative_gap_truck is 9.328731244822141e-8\n",
        "l = 2260000------------------------------------------------\n"
       ]
      },
      {
       "output_type": "stream",
       "stream": "stdout",
       "text": [
        "relative_gap_car is 8.576210934059283e-8\n",
        "relative_gap_truck is 9.060174336821233e-8\n",
        "l = 2270000------------------------------------------------\n"
       ]
      },
      {
       "output_type": "stream",
       "stream": "stdout",
       "text": [
        "relative_gap_car is 6.44069883117031e-8\n",
        "relative_gap_truck is 8.32304611260013e-8\n",
        "l = 2280000------------------------------------------------\n"
       ]
      },
      {
       "output_type": "stream",
       "stream": "stdout",
       "text": [
        "relative_gap_car is 8.939767012219931e-8\n",
        "relative_gap_truck is 8.934976608607192e-8\n",
        "l = 2290000------------------------------------------------\n"
       ]
      },
      {
       "output_type": "stream",
       "stream": "stdout",
       "text": [
        "relative_gap_car is 5.7519762517188363e-8\n",
        "relative_gap_truck is 1.0181965947444675e-7\n",
        "l = 2300000------------------------------------------------\n"
       ]
      },
      {
       "output_type": "stream",
       "stream": "stdout",
       "text": [
        "relative_gap_car is 6.6133127457599e-8\n",
        "relative_gap_truck is 8.703937924930234e-8\n",
        "l = 2310000------------------------------------------------\n"
       ]
      },
      {
       "output_type": "stream",
       "stream": "stdout",
       "text": [
        "relative_gap_car is 6.030819234483464e-8\n",
        "relative_gap_truck is 1.016173882629663e-7\n",
        "l = 2320000------------------------------------------------\n"
       ]
      },
      {
       "output_type": "stream",
       "stream": "stdout",
       "text": [
        "relative_gap_car is 5.989738835515816e-8\n",
        "relative_gap_truck is 9.007006888038776e-8\n",
        "l = 2330000------------------------------------------------\n"
       ]
      },
      {
       "output_type": "stream",
       "stream": "stdout",
       "text": [
        "relative_gap_car is 6.830536321827549e-8\n",
        "relative_gap_truck is 8.753997870869479e-8\n",
        "l = 2340000------------------------------------------------\n"
       ]
      },
      {
       "output_type": "stream",
       "stream": "stdout",
       "text": [
        "relative_gap_car is 6.447832515849615e-8\n",
        "relative_gap_truck is 9.659293150534596e-8\n",
        "l = 2350000------------------------------------------------\n"
       ]
      },
      {
       "output_type": "stream",
       "stream": "stdout",
       "text": [
        "relative_gap_car is 9.659384319634889e-8\n",
        "relative_gap_truck is 8.40610823564385e-8\n",
        "l = 2360000------------------------------------------------\n"
       ]
      },
      {
       "output_type": "stream",
       "stream": "stdout",
       "text": [
        "relative_gap_car is 9.602143765190793e-8\n",
        "relative_gap_truck is 1.0321629716443495e-7\n",
        "l = 2370000------------------------------------------------\n"
       ]
      },
      {
       "output_type": "stream",
       "stream": "stdout",
       "text": [
        "relative_gap_car is 7.811465882988513e-8\n",
        "relative_gap_truck is 1.045761167514399e-7\n",
        "l = 2380000------------------------------------------------\n"
       ]
      },
      {
       "output_type": "stream",
       "stream": "stdout",
       "text": [
        "relative_gap_car is 8.228552876809621e-8\n",
        "relative_gap_truck is 7.9984337362817e-8\n",
        "l = 2390000------------------------------------------------\n"
       ]
      },
      {
       "output_type": "stream",
       "stream": "stdout",
       "text": [
        "relative_gap_car is 7.671420822512084e-8\n",
        "relative_gap_truck is 1.0660426131701813e-7\n",
        "l = 2400000------------------------------------------------\n"
       ]
      },
      {
       "output_type": "stream",
       "stream": "stdout",
       "text": [
        "relative_gap_car is 6.180766423821223e-8\n",
        "relative_gap_truck is 9.685114711287234e-8\n",
        "l = 2410000------------------------------------------------\n"
       ]
      },
      {
       "output_type": "stream",
       "stream": "stdout",
       "text": [
        "relative_gap_car is 7.71357772382925e-8\n",
        "relative_gap_truck is 8.820080580841787e-8\n",
        "l = 2420000------------------------------------------------\n"
       ]
      },
      {
       "output_type": "stream",
       "stream": "stdout",
       "text": [
        "relative_gap_car is 8.732318283801318e-8\n",
        "relative_gap_truck is 1.1378473696711074e-7\n",
        "l = 2430000------------------------------------------------\n"
       ]
      },
      {
       "output_type": "stream",
       "stream": "stdout",
       "text": [
        "relative_gap_car is 9.260234747666448e-8\n",
        "relative_gap_truck is 8.834401361594655e-8\n",
        "l = 2440000------------------------------------------------\n"
       ]
      },
      {
       "output_type": "stream",
       "stream": "stdout",
       "text": [
        "relative_gap_car is 5.366878813692527e-8\n",
        "relative_gap_truck is 8.885678922321764e-8\n",
        "l = 2450000------------------------------------------------\n"
       ]
      },
      {
       "output_type": "stream",
       "stream": "stdout",
       "text": [
        "relative_gap_car is 7.798005387263654e-8\n",
        "relative_gap_truck is 8.923682747331011e-8\n",
        "l = 2460000------------------------------------------------\n"
       ]
      },
      {
       "output_type": "stream",
       "stream": "stdout",
       "text": [
        "relative_gap_car is 6.686410979841983e-8\n",
        "relative_gap_truck is 1.0174451295462482e-7\n",
        "l = 2470000------------------------------------------------\n"
       ]
      },
      {
       "output_type": "stream",
       "stream": "stdout",
       "text": [
        "relative_gap_car is 7.139530738562211e-8\n",
        "relative_gap_truck is 8.700492254741554e-8\n",
        "l = 2480000------------------------------------------------\n"
       ]
      },
      {
       "output_type": "stream",
       "stream": "stdout",
       "text": [
        "relative_gap_car is 8.084109625289108e-8\n",
        "relative_gap_truck is 9.800875709423862e-8\n",
        "l = 2490000------------------------------------------------\n"
       ]
      },
      {
       "output_type": "stream",
       "stream": "stdout",
       "text": [
        "relative_gap_car is 8.896230834511312e-8\n",
        "relative_gap_truck is 9.631411737295418e-8\n",
        "l = 2500000------------------------------------------------\n"
       ]
      },
      {
       "output_type": "stream",
       "stream": "stdout",
       "text": [
        "relative_gap_car is 6.747799430290773e-8\n",
        "relative_gap_truck is 9.169375780602246e-8\n",
        "l = 2510000------------------------------------------------\n"
       ]
      },
      {
       "output_type": "stream",
       "stream": "stdout",
       "text": [
        "relative_gap_car is 6.644458012984394e-8\n",
        "relative_gap_truck is 9.652921515995474e-8\n",
        "l = 2520000------------------------------------------------\n"
       ]
      },
      {
       "output_type": "stream",
       "stream": "stdout",
       "text": [
        "relative_gap_car is 6.054139162932955e-8\n",
        "relative_gap_truck is 1.0718644430584462e-7\n",
        "l = 2530000------------------------------------------------\n"
       ]
      },
      {
       "output_type": "stream",
       "stream": "stdout",
       "text": [
        "relative_gap_car is 5.749757725540014e-8\n",
        "relative_gap_truck is 1.0178574993960866e-7\n",
        "l = 2540000------------------------------------------------\n"
       ]
      },
      {
       "output_type": "stream",
       "stream": "stdout",
       "text": [
        "relative_gap_car is 6.074054821475275e-8\n",
        "relative_gap_truck is 8.32839522195524e-8\n",
        "l = 2550000------------------------------------------------\n"
       ]
      },
      {
       "output_type": "stream",
       "stream": "stdout",
       "text": [
        "relative_gap_car is 8.390290338435919e-8\n",
        "relative_gap_truck is 9.186090874849661e-8\n",
        "l = 2560000------------------------------------------------\n"
       ]
      },
      {
       "output_type": "stream",
       "stream": "stdout",
       "text": [
        "relative_gap_car is 6.2543361025974e-8\n",
        "relative_gap_truck is 9.012477072453252e-8\n",
        "l = 2570000------------------------------------------------\n"
       ]
      },
      {
       "output_type": "stream",
       "stream": "stdout",
       "text": [
        "relative_gap_car is 7.461240002726972e-8\n",
        "relative_gap_truck is 7.001843639965133e-8\n",
        "l = 2580000------------------------------------------------\n"
       ]
      },
      {
       "output_type": "stream",
       "stream": "stdout",
       "text": [
        "relative_gap_car is 5.74449300772248e-8\n",
        "relative_gap_truck is 8.924911628732852e-8\n",
        "l = 2590000------------------------------------------------\n"
       ]
      },
      {
       "output_type": "stream",
       "stream": "stdout",
       "text": [
        "relative_gap_car is 6.876709907718218e-8\n",
        "relative_gap_truck is 9.16972047811686e-8\n",
        "l = 2600000------------------------------------------------\n"
       ]
      },
      {
       "output_type": "stream",
       "stream": "stdout",
       "text": [
        "relative_gap_car is 6.534586907968563e-8\n",
        "relative_gap_truck is 8.861954797803172e-8\n",
        "l = 2610000------------------------------------------------\n"
       ]
      },
      {
       "output_type": "stream",
       "stream": "stdout",
       "text": [
        "relative_gap_car is 6.544692044805443e-8\n",
        "relative_gap_truck is 7.08837133793505e-8\n",
        "l = 2620000------------------------------------------------\n"
       ]
      },
      {
       "output_type": "stream",
       "stream": "stdout",
       "text": [
        "relative_gap_car is 7.573214813378748e-8\n",
        "relative_gap_truck is 7.193938477597628e-8\n",
        "l = 2630000------------------------------------------------\n"
       ]
      },
      {
       "output_type": "stream",
       "stream": "stdout",
       "text": [
        "relative_gap_car is 6.22761828102448e-8\n",
        "relative_gap_truck is 7.194734027016388e-8\n",
        "l = 2640000------------------------------------------------\n"
       ]
      },
      {
       "output_type": "stream",
       "stream": "stdout",
       "text": [
        "relative_gap_car is 5.5921857198653823e-8\n",
        "relative_gap_truck is 6.815558919906555e-8\n",
        "l = 2650000------------------------------------------------\n"
       ]
      },
      {
       "output_type": "stream",
       "stream": "stdout",
       "text": [
        "relative_gap_car is 7.532290310269914e-8\n",
        "relative_gap_truck is 6.534492503468033e-8\n",
        "l = 2660000------------------------------------------------\n"
       ]
      },
      {
       "output_type": "stream",
       "stream": "stdout",
       "text": [
        "relative_gap_car is 5.74447825176672e-8\n",
        "relative_gap_truck is 9.11683732931613e-8\n",
        "l = 2670000------------------------------------------------\n"
       ]
      },
      {
       "output_type": "stream",
       "stream": "stdout",
       "text": [
        "relative_gap_car is 6.862167045016017e-8\n",
        "relative_gap_truck is 7.850086040114986e-8\n",
        "l = 2680000------------------------------------------------\n"
       ]
      },
      {
       "output_type": "stream",
       "stream": "stdout",
       "text": [
        "relative_gap_car is 6.507855872411159e-8\n",
        "relative_gap_truck is 8.240154565436055e-8\n",
        "l = 2690000------------------------------------------------\n"
       ]
      },
      {
       "output_type": "stream",
       "stream": "stdout",
       "text": [
        "relative_gap_car is 6.682820797893758e-8\n",
        "relative_gap_truck is 9.129793406155182e-8\n",
        "l = 2700000------------------------------------------------\n"
       ]
      },
      {
       "output_type": "stream",
       "stream": "stdout",
       "text": [
        "relative_gap_car is 6.079700932210113e-8\n",
        "relative_gap_truck is 8.381762422127705e-8\n",
        "l = 2710000------------------------------------------------\n"
       ]
      },
      {
       "output_type": "stream",
       "stream": "stdout",
       "text": [
        "relative_gap_car is 7.42763415810206e-8\n",
        "relative_gap_truck is 7.43501656190338e-8\n",
        "l = 2720000------------------------------------------------\n"
       ]
      },
      {
       "output_type": "stream",
       "stream": "stdout",
       "text": [
        "relative_gap_car is 6.124857547986648e-8\n",
        "relative_gap_truck is 7.033596727427541e-8\n",
        "l = 2730000------------------------------------------------\n"
       ]
      },
      {
       "output_type": "stream",
       "stream": "stdout",
       "text": [
        "relative_gap_car is 5.2061669487103135e-8\n",
        "relative_gap_truck is 6.909730895312032e-8\n",
        "l = 2740000------------------------------------------------\n"
       ]
      },
      {
       "output_type": "stream",
       "stream": "stdout",
       "text": [
        "relative_gap_car is 7.021661696954418e-8\n",
        "relative_gap_truck is 1.1536481124633753e-7\n",
        "l = 2750000------------------------------------------------\n"
       ]
      },
      {
       "output_type": "stream",
       "stream": "stdout",
       "text": [
        "relative_gap_car is 6.547276058482998e-8\n",
        "relative_gap_truck is 8.812919774496942e-8\n",
        "l = 2760000------------------------------------------------\n"
       ]
      },
      {
       "output_type": "stream",
       "stream": "stdout",
       "text": [
        "relative_gap_car is 4.922016923356407e-8\n",
        "relative_gap_truck is 6.994592652785073e-8\n",
        "l = 2770000------------------------------------------------\n"
       ]
      },
      {
       "output_type": "stream",
       "stream": "stdout",
       "text": [
        "relative_gap_car is 6.482662435241669e-8\n",
        "relative_gap_truck is 8.680783366648799e-8\n",
        "l = 2780000------------------------------------------------\n"
       ]
      },
      {
       "output_type": "stream",
       "stream": "stdout",
       "text": [
        "relative_gap_car is 5.72631539944088e-8\n",
        "relative_gap_truck is 8.18230011313193e-8\n",
        "l = 2790000------------------------------------------------\n"
       ]
      },
      {
       "output_type": "stream",
       "stream": "stdout",
       "text": [
        "relative_gap_car is 5.770291359906037e-8\n",
        "relative_gap_truck is 6.129920989168536e-8\n",
        "l = 2800000------------------------------------------------\n"
       ]
      },
      {
       "output_type": "stream",
       "stream": "stdout",
       "text": [
        "relative_gap_car is 7.993777217645544e-8\n",
        "relative_gap_truck is 7.238497329131807e-8\n",
        "l = 2810000------------------------------------------------\n"
       ]
      },
      {
       "output_type": "stream",
       "stream": "stdout",
       "text": [
        "relative_gap_car is 7.83166693604408e-8\n",
        "relative_gap_truck is 9.274167791033103e-8\n",
        "l = 2820000------------------------------------------------\n"
       ]
      },
      {
       "output_type": "stream",
       "stream": "stdout",
       "text": [
        "relative_gap_car is 5.592657527846495e-8\n",
        "relative_gap_truck is 8.398584662529058e-8\n",
        "l = 2830000------------------------------------------------\n"
       ]
      },
      {
       "output_type": "stream",
       "stream": "stdout",
       "text": [
        "relative_gap_car is 6.093882051001387e-8\n",
        "relative_gap_truck is 8.193387719935777e-8\n",
        "l = 2840000------------------------------------------------\n"
       ]
      },
      {
       "output_type": "stream",
       "stream": "stdout",
       "text": [
        "relative_gap_car is 5.2075104291585204e-8\n",
        "relative_gap_truck is 7.269235779929269e-8\n",
        "l = 2850000------------------------------------------------\n"
       ]
      },
      {
       "output_type": "stream",
       "stream": "stdout",
       "text": [
        "relative_gap_car is 5.684745727864255e-8\n",
        "relative_gap_truck is 7.306738084363962e-8\n",
        "l = 2860000------------------------------------------------\n"
       ]
      },
      {
       "output_type": "stream",
       "stream": "stdout",
       "text": [
        "relative_gap_car is 5.068963528836923e-8\n",
        "relative_gap_truck is 9.553845539090151e-8\n",
        "l = 2870000------------------------------------------------\n"
       ]
      },
      {
       "output_type": "stream",
       "stream": "stdout",
       "text": [
        "relative_gap_car is 4.6433578692785675e-8\n",
        "relative_gap_truck is 9.58896171796507e-8\n",
        "l = 2880000------------------------------------------------\n"
       ]
      },
      {
       "output_type": "stream",
       "stream": "stdout",
       "text": [
        "relative_gap_car is 6.008749381193112e-8\n",
        "relative_gap_truck is 8.159091261869026e-8\n",
        "l = 2890000------------------------------------------------\n"
       ]
      },
      {
       "output_type": "stream",
       "stream": "stdout",
       "text": [
        "relative_gap_car is 5.669861823795557e-8\n",
        "relative_gap_truck is 8.152866605304624e-8\n",
        "l = 2900000------------------------------------------------\n"
       ]
      },
      {
       "output_type": "stream",
       "stream": "stdout",
       "text": [
        "relative_gap_car is 6.964813742401238e-8\n",
        "relative_gap_truck is 8.622833777397289e-8\n",
        "l = 2910000------------------------------------------------\n"
       ]
      },
      {
       "output_type": "stream",
       "stream": "stdout",
       "text": [
        "relative_gap_car is 6.299562569287247e-8\n",
        "relative_gap_truck is 6.640924009040287e-8\n",
        "l = 2920000------------------------------------------------\n"
       ]
      },
      {
       "output_type": "stream",
       "stream": "stdout",
       "text": [
        "relative_gap_car is 5.755028167679419e-8\n",
        "relative_gap_truck is 7.020654462357803e-8\n",
        "l = 2930000------------------------------------------------\n"
       ]
      },
      {
       "output_type": "stream",
       "stream": "stdout",
       "text": [
        "relative_gap_car is 5.088596075501697e-8\n",
        "relative_gap_truck is 7.664836495200883e-8\n",
        "l = 2940000------------------------------------------------\n"
       ]
      },
      {
       "output_type": "stream",
       "stream": "stdout",
       "text": [
        "relative_gap_car is 5.1380122238005386e-8\n",
        "relative_gap_truck is 8.308618392655037e-8\n",
        "l = 2950000------------------------------------------------\n"
       ]
      },
      {
       "output_type": "stream",
       "stream": "stdout",
       "text": [
        "relative_gap_car is 4.941237381366692e-8\n",
        "relative_gap_truck is 6.396338250813936e-8\n",
        "l = 2960000------------------------------------------------\n"
       ]
      },
      {
       "output_type": "stream",
       "stream": "stdout",
       "text": [
        "relative_gap_car is 9.150826137603024e-8\n",
        "relative_gap_truck is 8.2520372128385e-8\n",
        "l = 2970000------------------------------------------------\n"
       ]
      },
      {
       "output_type": "stream",
       "stream": "stdout",
       "text": [
        "relative_gap_car is 7.34243977632211e-8\n",
        "relative_gap_truck is 8.245554444477136e-8\n",
        "l = 2980000------------------------------------------------\n"
       ]
      },
      {
       "output_type": "stream",
       "stream": "stdout",
       "text": [
        "relative_gap_car is 5.626053169467932e-8\n",
        "relative_gap_truck is 7.615457131249498e-8\n",
        "l = 2990000------------------------------------------------\n"
       ]
      },
      {
       "output_type": "stream",
       "stream": "stdout",
       "text": [
        "relative_gap_car is 6.279624509389492e-8\n",
        "relative_gap_truck is 7.296633167850718e-8\n",
        "l = 3000000------------------------------------------------\n"
       ]
      },
      {
       "output_type": "stream",
       "stream": "stdout",
       "text": [
        "relative_gap_car is 5.580994838745702e-8\n",
        "relative_gap_truck is 7.189795422560772e-8\n",
        "l = 3010000------------------------------------------------\n"
       ]
      },
      {
       "output_type": "stream",
       "stream": "stdout",
       "text": [
        "relative_gap_car is 5.1803627562298496e-8\n",
        "relative_gap_truck is 6.39805208388753e-8\n",
        "l = 3020000------------------------------------------------\n"
       ]
      },
      {
       "output_type": "stream",
       "stream": "stdout",
       "text": [
        "relative_gap_car is 5.488424090463272e-8\n",
        "relative_gap_truck is 7.91121502858795e-8\n",
        "l = 3030000------------------------------------------------\n"
       ]
      },
      {
       "output_type": "stream",
       "stream": "stdout",
       "text": [
        "relative_gap_car is 5.55363994276575e-8\n",
        "relative_gap_truck is 5.930459104573614e-8\n",
        "l = 3040000------------------------------------------------\n"
       ]
      },
      {
       "output_type": "stream",
       "stream": "stdout",
       "text": [
        "relative_gap_car is 6.121101529208966e-8\n",
        "relative_gap_truck is 8.940373601859896e-8\n",
        "l = 3050000------------------------------------------------\n"
       ]
      },
      {
       "output_type": "stream",
       "stream": "stdout",
       "text": [
        "relative_gap_car is 5.885583376764118e-8\n",
        "relative_gap_truck is 6.266628093685874e-8\n",
        "l = 3060000------------------------------------------------\n"
       ]
      },
      {
       "output_type": "stream",
       "stream": "stdout",
       "text": [
        "relative_gap_car is 5.333865821674813e-8\n",
        "relative_gap_truck is 7.287317073393017e-8\n",
        "l = 3070000------------------------------------------------\n"
       ]
      },
      {
       "output_type": "stream",
       "stream": "stdout",
       "text": [
        "relative_gap_car is 5.880975705885917e-8\n",
        "relative_gap_truck is 9.319257996691928e-8\n",
        "l = 3080000------------------------------------------------\n"
       ]
      },
      {
       "output_type": "stream",
       "stream": "stdout",
       "text": [
        "relative_gap_car is 5.343426122015729e-8\n",
        "relative_gap_truck is 8.006094671438957e-8\n",
        "l = 3090000------------------------------------------------\n"
       ]
      },
      {
       "output_type": "stream",
       "stream": "stdout",
       "text": [
        "relative_gap_car is 5.06558345951442e-8\n",
        "relative_gap_truck is 6.055584881559084e-8\n",
        "l = 3100000------------------------------------------------\n"
       ]
      },
      {
       "output_type": "stream",
       "stream": "stdout",
       "text": [
        "relative_gap_car is 4.737617115379893e-8\n",
        "relative_gap_truck is 7.93942751682581e-8\n",
        "l = 3110000------------------------------------------------\n"
       ]
      },
      {
       "output_type": "stream",
       "stream": "stdout",
       "text": [
        "relative_gap_car is 4.577216708538358e-8\n",
        "relative_gap_truck is 6.014617773696559e-8\n",
        "l = 3120000------------------------------------------------\n"
       ]
      },
      {
       "output_type": "stream",
       "stream": "stdout",
       "text": [
        "relative_gap_car is 6.459810907932316e-8\n",
        "relative_gap_truck is 8.374014680715617e-8\n",
        "l = 3130000------------------------------------------------\n"
       ]
      },
      {
       "output_type": "stream",
       "stream": "stdout",
       "text": [
        "relative_gap_car is 5.3434135108446754e-8\n",
        "relative_gap_truck is 5.972113589142193e-8\n",
        "l = 3140000------------------------------------------------\n"
       ]
      },
      {
       "output_type": "stream",
       "stream": "stdout",
       "text": [
        "relative_gap_car is 5.0049561733677655e-8\n",
        "relative_gap_truck is 5.4612951965375244e-8\n",
        "l = 3150000------------------------------------------------\n"
       ]
      },
      {
       "output_type": "stream",
       "stream": "stdout",
       "text": [
        "relative_gap_car is 5.053134777096105e-8\n",
        "relative_gap_truck is 6.004831331497704e-8\n",
        "l = 3160000------------------------------------------------\n"
       ]
      },
      {
       "output_type": "stream",
       "stream": "stdout",
       "text": [
        "relative_gap_car is 5.174094779121829e-8\n",
        "relative_gap_truck is 6.619320071935786e-8\n",
        "l = 3170000------------------------------------------------\n"
       ]
      },
      {
       "output_type": "stream",
       "stream": "stdout",
       "text": [
        "relative_gap_car is 4.3844821259971053e-8\n",
        "relative_gap_truck is 6.959034097941665e-8\n",
        "l = 3180000------------------------------------------------\n"
       ]
      },
      {
       "output_type": "stream",
       "stream": "stdout",
       "text": [
        "relative_gap_car is 5.772157473308667e-8\n",
        "relative_gap_truck is 6.559983641022497e-8\n",
        "l = 3190000------------------------------------------------\n"
       ]
      },
      {
       "output_type": "stream",
       "stream": "stdout",
       "text": [
        "relative_gap_car is 4.34956770439295e-8\n",
        "relative_gap_truck is 6.373171650271643e-8\n",
        "l = 3200000------------------------------------------------\n"
       ]
      },
      {
       "output_type": "stream",
       "stream": "stdout",
       "text": [
        "relative_gap_car is 4.2770722282297596e-8\n",
        "relative_gap_truck is 7.6303544228883e-8\n",
        "l = 3210000------------------------------------------------\n"
       ]
      },
      {
       "output_type": "stream",
       "stream": "stdout",
       "text": [
        "relative_gap_car is 5.7403451428641734e-8\n",
        "relative_gap_truck is 6.651383448468995e-8\n",
        "l = 3220000------------------------------------------------\n"
       ]
      },
      {
       "output_type": "stream",
       "stream": "stdout",
       "text": [
        "relative_gap_car is 5.339748339941239e-8\n",
        "relative_gap_truck is 6.193529902123998e-8\n",
        "l = 3230000------------------------------------------------\n"
       ]
      },
      {
       "output_type": "stream",
       "stream": "stdout",
       "text": [
        "relative_gap_car is 4.2817597563038504e-8\n",
        "relative_gap_truck is 7.159553731854507e-8\n",
        "l = 3240000------------------------------------------------\n"
       ]
      },
      {
       "output_type": "stream",
       "stream": "stdout",
       "text": [
        "relative_gap_car is 5.942056784318671e-8\n",
        "relative_gap_truck is 7.617178443054645e-8\n",
        "l = 3250000------------------------------------------------\n"
       ]
      },
      {
       "output_type": "stream",
       "stream": "stdout",
       "text": [
        "relative_gap_car is 5.825678001583818e-8\n",
        "relative_gap_truck is 6.256000423776932e-8\n",
        "l = 3260000------------------------------------------------\n"
       ]
      },
      {
       "output_type": "stream",
       "stream": "stdout",
       "text": [
        "relative_gap_car is 5.4585579295879333e-8\n",
        "relative_gap_truck is 7.895257090217267e-8\n",
        "l = 3270000------------------------------------------------\n"
       ]
      },
      {
       "output_type": "stream",
       "stream": "stdout",
       "text": [
        "relative_gap_car is 5.7586709833598655e-8\n",
        "relative_gap_truck is 7.829006785643606e-8\n",
        "l = 3280000------------------------------------------------\n"
       ]
      },
      {
       "output_type": "stream",
       "stream": "stdout",
       "text": [
        "relative_gap_car is 4.835829561167869e-8\n",
        "relative_gap_truck is 6.623095874422917e-8\n",
        "l = 3290000------------------------------------------------\n"
       ]
      },
      {
       "output_type": "stream",
       "stream": "stdout",
       "text": [
        "relative_gap_car is 4.634856398678465e-8\n",
        "relative_gap_truck is 6.490025115141359e-8\n",
        "l = 3300000------------------------------------------------\n"
       ]
      },
      {
       "output_type": "stream",
       "stream": "stdout",
       "text": [
        "relative_gap_car is 5.879888336748934e-8\n",
        "relative_gap_truck is 7.247701145353599e-8\n",
        "l = 3310000------------------------------------------------\n"
       ]
      },
      {
       "output_type": "stream",
       "stream": "stdout",
       "text": [
        "relative_gap_car is 5.128533226329954e-8\n",
        "relative_gap_truck is 6.684461970826507e-8\n",
        "l = 3320000------------------------------------------------\n"
       ]
      },
      {
       "output_type": "stream",
       "stream": "stdout",
       "text": [
        "relative_gap_car is 5.939294841239891e-8\n",
        "relative_gap_truck is 5.27238639643488e-8\n",
        "l = 3330000------------------------------------------------\n"
       ]
      },
      {
       "output_type": "stream",
       "stream": "stdout",
       "text": [
        "relative_gap_car is 4.3306821608252e-8\n",
        "relative_gap_truck is 8.013667062785043e-8\n",
        "l = 3340000------------------------------------------------\n"
       ]
      },
      {
       "output_type": "stream",
       "stream": "stdout",
       "text": [
        "relative_gap_car is 4.3521485245977364e-8\n",
        "relative_gap_truck is 7.149361904927416e-8\n",
        "l = 3350000------------------------------------------------\n"
       ]
      },
      {
       "output_type": "stream",
       "stream": "stdout",
       "text": [
        "relative_gap_car is 5.338875112300739e-8\n",
        "relative_gap_truck is 6.411441866339854e-8\n",
        "l = 3360000------------------------------------------------\n"
       ]
      },
      {
       "output_type": "stream",
       "stream": "stdout",
       "text": [
        "relative_gap_car is 4.339912406164736e-8\n",
        "relative_gap_truck is 6.693779036561564e-8\n",
        "l = 3370000------------------------------------------------\n"
       ]
      },
      {
       "output_type": "stream",
       "stream": "stdout",
       "text": [
        "relative_gap_car is 4.329014454659112e-8\n",
        "relative_gap_truck is 5.3164190504866676e-8\n",
        "l = 3380000------------------------------------------------\n"
       ]
      },
      {
       "output_type": "stream",
       "stream": "stdout",
       "text": [
        "relative_gap_car is 4.543363726592992e-8\n",
        "relative_gap_truck is 6.833317477744013e-8\n",
        "l = 3390000------------------------------------------------\n"
       ]
      },
      {
       "output_type": "stream",
       "stream": "stdout",
       "text": [
        "relative_gap_car is 5.673080835119769e-8\n",
        "relative_gap_truck is 7.163147704974084e-8\n",
        "l = 3400000------------------------------------------------\n"
       ]
      },
      {
       "output_type": "stream",
       "stream": "stdout",
       "text": [
        "relative_gap_car is 4.5489330636359036e-8\n",
        "relative_gap_truck is 5.8513471945872385e-8\n",
        "l = 3410000------------------------------------------------\n"
       ]
      },
      {
       "output_type": "stream",
       "stream": "stdout",
       "text": [
        "relative_gap_car is 4.543314804992949e-8\n",
        "relative_gap_truck is 6.742299769180533e-8\n",
        "l = 3420000------------------------------------------------\n"
       ]
      },
      {
       "output_type": "stream",
       "stream": "stdout",
       "text": [
        "relative_gap_car is 4.890802356170951e-8\n",
        "relative_gap_truck is 8.457717995441183e-8\n",
        "l = 3430000------------------------------------------------\n"
       ]
      },
      {
       "output_type": "stream",
       "stream": "stdout",
       "text": [
        "relative_gap_car is 5.0142657017302747e-8\n",
        "relative_gap_truck is 6.815193405524844e-8\n",
        "l = 3440000------------------------------------------------\n"
       ]
      },
      {
       "output_type": "stream",
       "stream": "stdout",
       "text": [
        "relative_gap_car is 5.5519039164680964e-8\n",
        "relative_gap_truck is 7.466738171913948e-8\n",
        "l = 3450000------------------------------------------------\n"
       ]
      },
      {
       "output_type": "stream",
       "stream": "stdout",
       "text": [
        "relative_gap_car is 5.4644150484663224e-8\n",
        "relative_gap_truck is 7.697994377774783e-8\n",
        "l = 3460000------------------------------------------------\n"
       ]
      },
      {
       "output_type": "stream",
       "stream": "stdout",
       "text": [
        "relative_gap_car is 4.3918298170745456e-8\n",
        "relative_gap_truck is 6.554217618600173e-8\n",
        "l = 3470000------------------------------------------------\n"
       ]
      },
      {
       "output_type": "stream",
       "stream": "stdout",
       "text": [
        "relative_gap_car is 3.985529382823273e-8\n",
        "relative_gap_truck is 6.362535850713983e-8\n",
        "l = 3480000------------------------------------------------\n"
       ]
      },
      {
       "output_type": "stream",
       "stream": "stdout",
       "text": [
        "relative_gap_car is 6.492723856716156e-8\n",
        "relative_gap_truck is 6.376519020973781e-8\n",
        "l = 3490000------------------------------------------------\n"
       ]
      },
      {
       "output_type": "stream",
       "stream": "stdout",
       "text": [
        "relative_gap_car is 5.481766800334091e-8\n",
        "relative_gap_truck is 7.198282346731357e-8\n",
        "l = 3500000------------------------------------------------\n"
       ]
      },
      {
       "output_type": "stream",
       "stream": "stdout",
       "text": [
        "relative_gap_car is 5.6256178468391037e-8\n",
        "relative_gap_truck is 5.96623398466135e-8\n",
        "l = 3510000------------------------------------------------\n"
       ]
      },
      {
       "output_type": "stream",
       "stream": "stdout",
       "text": [
        "relative_gap_car is 6.76185775739069e-8\n",
        "relative_gap_truck is 5.0169643143896585e-8\n",
        "l = 3520000------------------------------------------------\n"
       ]
      },
      {
       "output_type": "stream",
       "stream": "stdout",
       "text": [
        "relative_gap_car is 4.20963149611456e-8\n",
        "relative_gap_truck is 6.231803953910508e-8\n",
        "l = 3530000------------------------------------------------\n"
       ]
      },
      {
       "output_type": "stream",
       "stream": "stdout",
       "text": [
        "relative_gap_car is 4.763023778643807e-8\n",
        "relative_gap_truck is 5.859914866451387e-8\n",
        "l = 3540000------------------------------------------------\n"
       ]
      },
      {
       "output_type": "stream",
       "stream": "stdout",
       "text": [
        "relative_gap_car is 4.006903418551717e-8\n",
        "relative_gap_truck is 7.261957616592177e-8\n",
        "l = 3550000------------------------------------------------\n"
       ]
      },
      {
       "output_type": "stream",
       "stream": "stdout",
       "text": [
        "relative_gap_car is 4.474124484282088e-8\n",
        "relative_gap_truck is 6.55202779962454e-8\n",
        "l = 3560000------------------------------------------------\n"
       ]
      },
      {
       "output_type": "stream",
       "stream": "stdout",
       "text": [
        "relative_gap_car is 5.918670834996889e-8\n",
        "relative_gap_truck is 5.032547770550319e-8\n",
        "l = 3570000------------------------------------------------\n"
       ]
      },
      {
       "output_type": "stream",
       "stream": "stdout",
       "text": [
        "relative_gap_car is 5.230168445340656e-8\n",
        "relative_gap_truck is 6.119494729746576e-8\n",
        "l = 3580000------------------------------------------------\n"
       ]
      },
      {
       "output_type": "stream",
       "stream": "stdout",
       "text": [
        "relative_gap_car is 4.6349950638550047e-8\n",
        "relative_gap_truck is 7.33450325294677e-8\n",
        "l = 3590000------------------------------------------------\n"
       ]
      },
      {
       "output_type": "stream",
       "stream": "stdout",
       "text": [
        "relative_gap_car is 5.290812316246252e-8\n",
        "relative_gap_truck is 6.400461546371358e-8\n",
        "l = 3600000------------------------------------------------\n"
       ]
      },
      {
       "output_type": "stream",
       "stream": "stdout",
       "text": [
        "relative_gap_car is 6.256271964206391e-8\n",
        "relative_gap_truck is 7.114063208618175e-8\n",
        "l = 3610000------------------------------------------------\n"
       ]
      },
      {
       "output_type": "stream",
       "stream": "stdout",
       "text": [
        "relative_gap_car is 4.496166422017226e-8\n",
        "relative_gap_truck is 6.391507866893886e-8\n",
        "l = 3620000------------------------------------------------\n"
       ]
      },
      {
       "output_type": "stream",
       "stream": "stdout",
       "text": [
        "relative_gap_car is 5.348871029983694e-8\n",
        "relative_gap_truck is 5.301966860494014e-8\n",
        "l = 3630000------------------------------------------------\n"
       ]
      },
      {
       "output_type": "stream",
       "stream": "stdout",
       "text": [
        "relative_gap_car is 4.8817503138478384e-8\n",
        "relative_gap_truck is 6.261794635039434e-8\n",
        "l = 3640000------------------------------------------------\n"
       ]
      },
      {
       "output_type": "stream",
       "stream": "stdout",
       "text": [
        "relative_gap_car is 4.432451472426969e-8\n",
        "relative_gap_truck is 5.624780665320429e-8\n",
        "l = 3650000------------------------------------------------\n"
       ]
      },
      {
       "output_type": "stream",
       "stream": "stdout",
       "text": [
        "relative_gap_car is 4.290485922512328e-8\n",
        "relative_gap_truck is 5.788936934315933e-8\n",
        "l = 3660000------------------------------------------------\n"
       ]
      },
      {
       "output_type": "stream",
       "stream": "stdout",
       "text": [
        "relative_gap_car is 5.5520895435728896e-8\n",
        "relative_gap_truck is 6.037831751151881e-8\n",
        "l = 3670000------------------------------------------------\n"
       ]
      },
      {
       "output_type": "stream",
       "stream": "stdout",
       "text": [
        "relative_gap_car is 3.939448944858555e-8\n",
        "relative_gap_truck is 6.64949919497815e-8\n",
        "l = 3680000------------------------------------------------\n"
       ]
      },
      {
       "output_type": "stream",
       "stream": "stdout",
       "text": [
        "relative_gap_car is 4.376294047707935e-8\n",
        "relative_gap_truck is 7.154833556989778e-8\n",
        "l = 3690000------------------------------------------------\n"
       ]
      },
      {
       "output_type": "stream",
       "stream": "stdout",
       "text": [
        "relative_gap_car is 4.6800585939978025e-8\n",
        "relative_gap_truck is 4.743442310532646e-8\n",
        "l = 3700000------------------------------------------------\n"
       ]
      },
      {
       "output_type": "stream",
       "stream": "stdout",
       "text": [
        "relative_gap_car is 4.58939568554691e-8\n",
        "relative_gap_truck is 4.680717272075051e-8\n",
        "l = 3710000------------------------------------------------\n"
       ]
      },
      {
       "output_type": "stream",
       "stream": "stdout",
       "text": [
        "relative_gap_car is 4.245898288391309e-8\n",
        "relative_gap_truck is 6.172056621090389e-8\n",
        "l = 3720000------------------------------------------------\n"
       ]
      },
      {
       "output_type": "stream",
       "stream": "stdout",
       "text": [
        "relative_gap_car is 6.059356423131448e-8\n",
        "relative_gap_truck is 5.968114666762302e-8\n",
        "l = 3730000------------------------------------------------\n"
       ]
      },
      {
       "output_type": "stream",
       "stream": "stdout",
       "text": [
        "relative_gap_car is 3.542903166151327e-8\n",
        "relative_gap_truck is 6.7363866104509e-8\n",
        "l = 3740000------------------------------------------------\n"
       ]
      },
      {
       "output_type": "stream",
       "stream": "stdout",
       "text": [
        "relative_gap_car is 4.6097838825585975e-8\n",
        "relative_gap_truck is 6.506572403090005e-8\n",
        "l = 3750000------------------------------------------------\n"
       ]
      },
      {
       "output_type": "stream",
       "stream": "stdout",
       "text": [
        "relative_gap_car is 6.543580833087244e-8\n",
        "relative_gap_truck is 5.68057598128347e-8\n",
        "l = 3760000------------------------------------------------\n"
       ]
      },
      {
       "output_type": "stream",
       "stream": "stdout",
       "text": [
        "relative_gap_car is 3.354024659885618e-8\n",
        "relative_gap_truck is 4.478021279801136e-8\n",
        "l = 3770000------------------------------------------------\n"
       ]
      },
      {
       "output_type": "stream",
       "stream": "stdout",
       "text": [
        "relative_gap_car is 5.1105183626564845e-8\n",
        "relative_gap_truck is 5.398628409910441e-8\n",
        "l = 3780000------------------------------------------------\n"
       ]
      },
      {
       "output_type": "stream",
       "stream": "stdout",
       "text": [
        "relative_gap_car is 4.979848232579008e-8\n",
        "relative_gap_truck is 5.714057075098009e-8\n",
        "l = 3790000------------------------------------------------\n"
       ]
      },
      {
       "output_type": "stream",
       "stream": "stdout",
       "text": [
        "relative_gap_car is 4.073690699360427e-8\n",
        "relative_gap_truck is 5.530946659364073e-8\n",
        "l = 3800000------------------------------------------------\n"
       ]
      },
      {
       "output_type": "stream",
       "stream": "stdout",
       "text": [
        "relative_gap_car is 4.133739137954037e-8\n",
        "relative_gap_truck is 6.082125097845836e-8\n",
        "l = 3810000------------------------------------------------\n"
       ]
      },
      {
       "output_type": "stream",
       "stream": "stdout",
       "text": [
        "relative_gap_car is 6.892122297452718e-8\n",
        "relative_gap_truck is 6.791550006417092e-8\n",
        "l = 3820000------------------------------------------------\n"
       ]
      },
      {
       "output_type": "stream",
       "stream": "stdout",
       "text": [
        "relative_gap_car is 4.677238021808048e-8\n",
        "relative_gap_truck is 6.793156497557751e-8\n",
        "l = 3830000------------------------------------------------\n"
       ]
      },
      {
       "output_type": "stream",
       "stream": "stdout",
       "text": [
        "relative_gap_car is 4.414014545489557e-8\n",
        "relative_gap_truck is 7.329547844793152e-8\n",
        "l = 3840000------------------------------------------------\n"
       ]
      },
      {
       "output_type": "stream",
       "stream": "stdout",
       "text": [
        "relative_gap_car is 3.8884737819862585e-8\n",
        "relative_gap_truck is 5.898327572281726e-8\n",
        "l = 3850000------------------------------------------------\n"
       ]
      },
      {
       "output_type": "stream",
       "stream": "stdout",
       "text": [
        "relative_gap_car is 5.176186670115821e-8\n",
        "relative_gap_truck is 5.785353540202549e-8\n",
        "l = 3860000------------------------------------------------\n"
       ]
      },
      {
       "output_type": "stream",
       "stream": "stdout",
       "text": [
        "relative_gap_car is 3.7769044971665626e-8\n",
        "relative_gap_truck is 5.545447988798362e-8\n",
        "l = 3870000------------------------------------------------\n"
       ]
      },
      {
       "output_type": "stream",
       "stream": "stdout",
       "text": [
        "relative_gap_car is 4.065670978706954e-8\n",
        "relative_gap_truck is 4.9138876975007034e-8\n",
        "l = 3880000------------------------------------------------\n"
       ]
      },
      {
       "output_type": "stream",
       "stream": "stdout",
       "text": [
        "relative_gap_car is 3.868205588692921e-8\n",
        "relative_gap_truck is 4.950906605363095e-8\n",
        "l = 3890000------------------------------------------------\n"
       ]
      },
      {
       "output_type": "stream",
       "stream": "stdout",
       "text": [
        "relative_gap_car is 5.746190609813487e-8\n",
        "relative_gap_truck is 6.889112699607538e-8\n",
        "l = 3900000------------------------------------------------\n"
       ]
      },
      {
       "output_type": "stream",
       "stream": "stdout",
       "text": [
        "relative_gap_car is 5.276553866322376e-8\n",
        "relative_gap_truck is 6.187647195567329e-8\n",
        "l = 3910000------------------------------------------------\n"
       ]
      },
      {
       "output_type": "stream",
       "stream": "stdout",
       "text": [
        "relative_gap_car is 5.049084383258459e-8\n",
        "relative_gap_truck is 5.211586107271234e-8\n",
        "l = 3920000------------------------------------------------\n"
       ]
      },
      {
       "output_type": "stream",
       "stream": "stdout",
       "text": [
        "relative_gap_car is 3.9121035954678835e-8\n",
        "relative_gap_truck is 5.1412889489920296e-8\n",
        "l = 3930000------------------------------------------------\n"
       ]
      },
      {
       "output_type": "stream",
       "stream": "stdout",
       "text": [
        "relative_gap_car is 4.602589234787733e-8\n",
        "relative_gap_truck is 5.6987313257655435e-8\n",
        "l = 3940000------------------------------------------------\n"
       ]
      },
      {
       "output_type": "stream",
       "stream": "stdout",
       "text": [
        "relative_gap_car is 4.506385918954778e-8\n",
        "relative_gap_truck is 6.462444201701273e-8\n",
        "l = 3950000------------------------------------------------\n"
       ]
      },
      {
       "output_type": "stream",
       "stream": "stdout",
       "text": [
        "relative_gap_car is 3.517993847260858e-8\n",
        "relative_gap_truck is 6.436390519565448e-8\n",
        "l = 3960000------------------------------------------------\n"
       ]
      },
      {
       "output_type": "stream",
       "stream": "stdout",
       "text": [
        "relative_gap_car is 4.460029980132328e-8\n",
        "relative_gap_truck is 5.6745809516083383e-8\n",
        "l = 3970000------------------------------------------------\n"
       ]
      },
      {
       "output_type": "stream",
       "stream": "stdout",
       "text": [
        "relative_gap_car is 5.791274539659315e-8\n",
        "relative_gap_truck is 5.3028777175423114e-8\n",
        "l = 3980000------------------------------------------------\n"
       ]
      },
      {
       "output_type": "stream",
       "stream": "stdout",
       "text": [
        "relative_gap_car is 4.520948426531217e-8\n",
        "relative_gap_truck is 6.234227000287911e-8\n",
        "l = 3990000------------------------------------------------\n"
       ]
      },
      {
       "output_type": "stream",
       "stream": "stdout",
       "text": [
        "relative_gap_car is 3.329818792780205e-8\n",
        "relative_gap_truck is 5.5564115430569956e-8\n",
        "l = 4000000------------------------------------------------\n"
       ]
      },
      {
       "output_type": "stream",
       "stream": "stdout",
       "text": [
        "relative_gap_car is 3.612765659612488e-8\n",
        "relative_gap_truck is 5.607370787865051e-8\n",
        "l = 4010000------------------------------------------------\n"
       ]
      },
      {
       "output_type": "stream",
       "stream": "stdout",
       "text": [
        "relative_gap_car is 4.662107543658441e-8\n",
        "relative_gap_truck is 4.9439017195231756e-8\n",
        "l = 4020000------------------------------------------------\n"
       ]
      },
      {
       "output_type": "stream",
       "stream": "stdout",
       "text": [
        "relative_gap_car is 5.759668294899648e-8\n",
        "relative_gap_truck is 6.020914693682044e-8\n",
        "l = 4030000------------------------------------------------\n"
       ]
      },
      {
       "output_type": "stream",
       "stream": "stdout",
       "text": [
        "relative_gap_car is 4.266712811036474e-8\n",
        "relative_gap_truck is 5.552376620885994e-8\n",
        "l = 4040000------------------------------------------------\n"
       ]
      },
      {
       "output_type": "stream",
       "stream": "stdout",
       "text": [
        "relative_gap_car is 4.0304729962958835e-8\n",
        "relative_gap_truck is 4.814106613436398e-8\n",
        "l = 4050000------------------------------------------------\n"
       ]
      },
      {
       "output_type": "stream",
       "stream": "stdout",
       "text": [
        "relative_gap_car is 4.7052683125692165e-8\n",
        "relative_gap_truck is 5.7989917429601904e-8\n",
        "l = 4060000------------------------------------------------\n"
       ]
      },
      {
       "output_type": "stream",
       "stream": "stdout",
       "text": [
        "relative_gap_car is 4.9219784842638875e-8\n",
        "relative_gap_truck is 5.7382678787532544e-8\n",
        "l = 4070000------------------------------------------------\n"
       ]
      },
      {
       "output_type": "stream",
       "stream": "stdout",
       "text": [
        "relative_gap_car is 2.984975237192901e-8\n",
        "relative_gap_truck is 5.6960362821172116e-8\n",
        "l = 4080000------------------------------------------------\n"
       ]
      },
      {
       "output_type": "stream",
       "stream": "stdout",
       "text": [
        "relative_gap_car is 3.813064558050067e-8\n",
        "relative_gap_truck is 4.7724725479033283e-8\n",
        "l = 4090000------------------------------------------------\n"
       ]
      },
      {
       "output_type": "stream",
       "stream": "stdout",
       "text": [
        "relative_gap_car is 5.086722752088239e-8\n",
        "relative_gap_truck is 4.827417348478241e-8\n",
        "l = 4100000------------------------------------------------\n"
       ]
      },
      {
       "output_type": "stream",
       "stream": "stdout",
       "text": [
        "relative_gap_car is 4.301785153253966e-8\n",
        "relative_gap_truck is 4.9027904744442384e-8\n",
        "l = 4110000------------------------------------------------\n"
       ]
      },
      {
       "output_type": "stream",
       "stream": "stdout",
       "text": [
        "relative_gap_car is 3.980470052135387e-8\n",
        "relative_gap_truck is 6.380405698040318e-8\n",
        "l = 4120000------------------------------------------------\n"
       ]
      },
      {
       "output_type": "stream",
       "stream": "stdout",
       "text": [
        "relative_gap_car is 3.491178581157687e-8\n",
        "relative_gap_truck is 5.067581512414467e-8\n",
        "l = 4130000------------------------------------------------\n"
       ]
      },
      {
       "output_type": "stream",
       "stream": "stdout",
       "text": [
        "relative_gap_car is 3.3469847427355236e-8\n",
        "relative_gap_truck is 5.039402592778279e-8\n",
        "l = 4140000------------------------------------------------\n"
       ]
      },
      {
       "output_type": "stream",
       "stream": "stdout",
       "text": [
        "relative_gap_car is 4.678814567309548e-8\n",
        "relative_gap_truck is 5.154849556718537e-8\n",
        "l = 4150000------------------------------------------------\n"
       ]
      },
      {
       "output_type": "stream",
       "stream": "stdout",
       "text": [
        "relative_gap_car is 4.114847025321531e-8\n",
        "relative_gap_truck is 5.673131977344035e-8\n",
        "l = 4160000------------------------------------------------\n"
       ]
      },
      {
       "output_type": "stream",
       "stream": "stdout",
       "text": [
        "relative_gap_car is 5.391606617108037e-8\n",
        "relative_gap_truck is 5.878446836941147e-8\n",
        "l = 4170000------------------------------------------------\n"
       ]
      },
      {
       "output_type": "stream",
       "stream": "stdout",
       "text": [
        "relative_gap_car is 4.589543554591967e-8\n",
        "relative_gap_truck is 5.7735576369368654e-8\n",
        "l = 4180000------------------------------------------------\n"
       ]
      },
      {
       "output_type": "stream",
       "stream": "stdout",
       "text": [
        "relative_gap_car is 4.888220035614445e-8\n",
        "relative_gap_truck is 5.8156284634217355e-8\n",
        "l = 4190000------------------------------------------------\n"
       ]
      },
      {
       "output_type": "stream",
       "stream": "stdout",
       "text": [
        "relative_gap_car is 4.852247348194733e-8\n",
        "relative_gap_truck is 4.451279762168418e-8\n",
        "l = 4200000------------------------------------------------\n"
       ]
      },
      {
       "output_type": "stream",
       "stream": "stdout",
       "text": [
        "relative_gap_car is 4.137164049132859e-8\n",
        "relative_gap_truck is 5.520672922437983e-8\n",
        "l = 4210000------------------------------------------------\n"
       ]
      },
      {
       "output_type": "stream",
       "stream": "stdout",
       "text": [
        "relative_gap_car is 3.4953003496697764e-8\n",
        "relative_gap_truck is 4.205607956439698e-8\n",
        "l = 4220000------------------------------------------------\n"
       ]
      },
      {
       "output_type": "stream",
       "stream": "stdout",
       "text": [
        "relative_gap_car is 3.272063348819854e-8\n",
        "relative_gap_truck is 5.209453420267587e-8\n",
        "l = 4230000------------------------------------------------\n"
       ]
      },
      {
       "output_type": "stream",
       "stream": "stdout",
       "text": [
        "relative_gap_car is 4.9294428683642345e-8\n",
        "relative_gap_truck is 4.939977895230003e-8\n",
        "l = 4240000------------------------------------------------\n"
       ]
      },
      {
       "output_type": "stream",
       "stream": "stdout",
       "text": [
        "relative_gap_car is 3.166094692562565e-8\n",
        "relative_gap_truck is 5.091933143062561e-8\n",
        "l = 4250000------------------------------------------------\n"
       ]
      },
      {
       "output_type": "stream",
       "stream": "stdout",
       "text": [
        "relative_gap_car is 4.6996805023677385e-8\n",
        "relative_gap_truck is 4.2629299775765484e-8\n",
        "l = 4260000------------------------------------------------\n"
       ]
      },
      {
       "output_type": "stream",
       "stream": "stdout",
       "text": [
        "relative_gap_car is 4.519444673729143e-8\n",
        "relative_gap_truck is 5.690069458628066e-8\n",
        "l = 4270000------------------------------------------------\n"
       ]
      },
      {
       "output_type": "stream",
       "stream": "stdout",
       "text": [
        "relative_gap_car is 3.7357459098219445e-8\n",
        "relative_gap_truck is 5.6155724694847585e-8\n",
        "l = 4280000------------------------------------------------\n"
       ]
      },
      {
       "output_type": "stream",
       "stream": "stdout",
       "text": [
        "relative_gap_car is 4.473749536090924e-8\n",
        "relative_gap_truck is 5.446312797938012e-8\n",
        "l = 4290000------------------------------------------------\n"
       ]
      },
      {
       "output_type": "stream",
       "stream": "stdout",
       "text": [
        "relative_gap_car is 4.200557952436825e-8\n",
        "relative_gap_truck is 5.029914409284036e-8\n",
        "l = 4300000------------------------------------------------\n"
       ]
      },
      {
       "output_type": "stream",
       "stream": "stdout",
       "text": [
        "relative_gap_car is 3.571478230483617e-8\n",
        "relative_gap_truck is 5.96379629590577e-8\n",
        "l = 4310000------------------------------------------------\n"
       ]
      },
      {
       "output_type": "stream",
       "stream": "stdout",
       "text": [
        "relative_gap_car is 4.340502739796962e-8\n",
        "relative_gap_truck is 5.698205836527933e-8\n",
        "l = 4320000------------------------------------------------\n"
       ]
      },
      {
       "output_type": "stream",
       "stream": "stdout",
       "text": [
        "relative_gap_car is 3.4260899339874355e-8\n",
        "relative_gap_truck is 5.29347394602215e-8\n",
        "l = 4330000------------------------------------------------\n"
       ]
      },
      {
       "output_type": "stream",
       "stream": "stdout",
       "text": [
        "relative_gap_car is 4.751804683709654e-8\n",
        "relative_gap_truck is 4.8777470139243076e-8\n",
        "l = 4340000------------------------------------------------\n"
       ]
      },
      {
       "output_type": "stream",
       "stream": "stdout",
       "text": [
        "relative_gap_car is 4.51333029550822e-8\n",
        "relative_gap_truck is 4.801737628699959e-8\n",
        "l = 4350000------------------------------------------------\n"
       ]
      },
      {
       "output_type": "stream",
       "stream": "stdout",
       "text": [
        "relative_gap_car is 3.409618033953659e-8\n",
        "relative_gap_truck is 4.7314588124999734e-8\n",
        "l = 4360000------------------------------------------------\n"
       ]
      },
      {
       "output_type": "stream",
       "stream": "stdout",
       "text": [
        "relative_gap_car is 3.8113648964927427e-8\n",
        "relative_gap_truck is 5.033281935657632e-8\n",
        "l = 4370000------------------------------------------------\n"
       ]
      },
      {
       "output_type": "stream",
       "stream": "stdout",
       "text": [
        "relative_gap_car is 4.6345461039561925e-8\n",
        "relative_gap_truck is 6.345545010378681e-8\n",
        "l = 4380000------------------------------------------------\n"
       ]
      },
      {
       "output_type": "stream",
       "stream": "stdout",
       "text": [
        "relative_gap_car is 4.257694421090129e-8\n",
        "relative_gap_truck is 4.814168893081306e-8\n",
        "l = 4390000------------------------------------------------\n"
       ]
      },
      {
       "output_type": "stream",
       "stream": "stdout",
       "text": [
        "relative_gap_car is 3.7206818867049016e-8\n",
        "relative_gap_truck is 4.494981922347823e-8\n",
        "l = 4400000------------------------------------------------\n"
       ]
      },
      {
       "output_type": "stream",
       "stream": "stdout",
       "text": [
        "relative_gap_car is 3.760875737146296e-8\n",
        "relative_gap_truck is 5.0342112589223314e-8\n",
        "l = 4410000------------------------------------------------\n"
       ]
      },
      {
       "output_type": "stream",
       "stream": "stdout",
       "text": [
        "relative_gap_car is 4.461240915147819e-8\n",
        "relative_gap_truck is 5.929057406969557e-8\n",
        "l = 4420000------------------------------------------------\n"
       ]
      },
      {
       "output_type": "stream",
       "stream": "stdout",
       "text": [
        "relative_gap_car is 3.337821635974722e-8\n",
        "relative_gap_truck is 5.372854403297107e-8\n",
        "l = 4430000------------------------------------------------\n"
       ]
      },
      {
       "output_type": "stream",
       "stream": "stdout",
       "text": [
        "relative_gap_car is 3.262966382450736e-8\n",
        "relative_gap_truck is 4.280231629011014e-8\n",
        "l = 4440000------------------------------------------------\n"
       ]
      },
      {
       "output_type": "stream",
       "stream": "stdout",
       "text": [
        "relative_gap_car is 4.33999630743984e-8\n",
        "relative_gap_truck is 5.1406460138279265e-8\n",
        "l = 4450000------------------------------------------------\n"
       ]
      },
      {
       "output_type": "stream",
       "stream": "stdout",
       "text": [
        "relative_gap_car is 3.197293548555679e-8\n",
        "relative_gap_truck is 5.6440243272885815e-8\n",
        "l = 4460000------------------------------------------------\n"
       ]
      },
      {
       "output_type": "stream",
       "stream": "stdout",
       "text": [
        "relative_gap_car is 3.856480911602563e-8\n",
        "relative_gap_truck is 4.6818137521590815e-8\n",
        "l = 4470000------------------------------------------------\n"
       ]
      },
      {
       "output_type": "stream",
       "stream": "stdout",
       "text": [
        "relative_gap_car is 5.025964891962402e-8\n",
        "relative_gap_truck is 5.8809162536797515e-8\n",
        "l = 4480000------------------------------------------------\n"
       ]
      },
      {
       "output_type": "stream",
       "stream": "stdout",
       "text": [
        "relative_gap_car is 3.894620632208964e-8\n",
        "relative_gap_truck is 4.631097462224366e-8\n",
        "l = 4490000------------------------------------------------\n"
       ]
      },
      {
       "output_type": "stream",
       "stream": "stdout",
       "text": [
        "relative_gap_car is 3.114740182054181e-8\n",
        "relative_gap_truck is 4.814137195553539e-8\n",
        "l = 4500000------------------------------------------------\n"
       ]
      },
      {
       "output_type": "stream",
       "stream": "stdout",
       "text": [
        "relative_gap_car is 4.5737418726627884e-8\n",
        "relative_gap_truck is 5.680465412552844e-8\n",
        "l = 4510000------------------------------------------------\n"
       ]
      },
      {
       "output_type": "stream",
       "stream": "stdout",
       "text": [
        "relative_gap_car is 4.548257818657851e-8\n",
        "relative_gap_truck is 4.9155610638532566e-8\n",
        "l = 4520000------------------------------------------------\n"
       ]
      },
      {
       "output_type": "stream",
       "stream": "stdout",
       "text": [
        "relative_gap_car is 4.081143189578751e-8\n",
        "relative_gap_truck is 6.613868465489529e-8\n",
        "l = 4530000------------------------------------------------\n"
       ]
      },
      {
       "output_type": "stream",
       "stream": "stdout",
       "text": [
        "relative_gap_car is 2.8926019550523217e-8\n",
        "relative_gap_truck is 4.559426905531951e-8\n",
        "l = 4540000------------------------------------------------\n"
       ]
      },
      {
       "output_type": "stream",
       "stream": "stdout",
       "text": [
        "relative_gap_car is 3.010195001337994e-8\n",
        "relative_gap_truck is 4.171603644657785e-8\n",
        "l = 4550000------------------------------------------------\n"
       ]
      },
      {
       "output_type": "stream",
       "stream": "stdout",
       "text": [
        "relative_gap_car is 3.4371516873949937e-8\n",
        "relative_gap_truck is 4.400032933738225e-8\n",
        "l = 4560000------------------------------------------------\n"
       ]
      },
      {
       "output_type": "stream",
       "stream": "stdout",
       "text": [
        "relative_gap_car is 4.260181375013556e-8\n",
        "relative_gap_truck is 5.6542866902637116e-8\n",
        "l = 4570000------------------------------------------------\n"
       ]
      },
      {
       "output_type": "stream",
       "stream": "stdout",
       "text": [
        "relative_gap_car is 3.4850307131114936e-8\n",
        "relative_gap_truck is 6.699105617671442e-8\n",
        "l = 4580000------------------------------------------------\n"
       ]
      },
      {
       "output_type": "stream",
       "stream": "stdout",
       "text": [
        "relative_gap_car is 2.9364765252550662e-8\n",
        "relative_gap_truck is 4.558659509005361e-8\n",
        "l = 4590000------------------------------------------------\n"
       ]
      },
      {
       "output_type": "stream",
       "stream": "stdout",
       "text": [
        "relative_gap_car is 3.494956634431436e-8\n",
        "relative_gap_truck is 4.354690696310403e-8\n",
        "l = 4600000------------------------------------------------\n"
       ]
      },
      {
       "output_type": "stream",
       "stream": "stdout",
       "text": [
        "relative_gap_car is 3.087410343772849e-8\n",
        "relative_gap_truck is 4.405653882824862e-8\n",
        "l = 4610000------------------------------------------------\n"
       ]
      },
      {
       "output_type": "stream",
       "stream": "stdout",
       "text": [
        "relative_gap_car is 3.4548802178232895e-8\n",
        "relative_gap_truck is 5.045726627664592e-8\n",
        "l = 4620000------------------------------------------------\n"
       ]
      },
      {
       "output_type": "stream",
       "stream": "stdout",
       "text": [
        "relative_gap_car is 3.6305651578272694e-8\n",
        "relative_gap_truck is 5.078955610555074e-8\n",
        "l = 4630000------------------------------------------------\n"
       ]
      },
      {
       "output_type": "stream",
       "stream": "stdout",
       "text": [
        "relative_gap_car is 4.242653886857566e-8\n",
        "relative_gap_truck is 4.359868098383406e-8\n",
        "l = 4640000------------------------------------------------\n"
       ]
      },
      {
       "output_type": "stream",
       "stream": "stdout",
       "text": [
        "relative_gap_car is 4.594847543366991e-8\n",
        "relative_gap_truck is 5.538917226040123e-8\n",
        "l = 4650000------------------------------------------------\n"
       ]
      },
      {
       "output_type": "stream",
       "stream": "stdout",
       "text": [
        "relative_gap_car is 3.837451150655492e-8\n",
        "relative_gap_truck is 4.722984400848212e-8\n",
        "l = 4660000------------------------------------------------\n"
       ]
      },
      {
       "output_type": "stream",
       "stream": "stdout",
       "text": [
        "relative_gap_car is 3.1925995153674315e-8\n",
        "relative_gap_truck is 5.5050664346989806e-8\n",
        "l = 4670000------------------------------------------------\n"
       ]
      },
      {
       "output_type": "stream",
       "stream": "stdout",
       "text": [
        "relative_gap_car is 4.535119414206374e-8\n",
        "relative_gap_truck is 4.058416895475916e-8\n",
        "l = 4680000------------------------------------------------\n"
       ]
      },
      {
       "output_type": "stream",
       "stream": "stdout",
       "text": [
        "relative_gap_car is 2.913564315094826e-8\n",
        "relative_gap_truck is 4.7435450722745386e-8\n",
        "l = 4690000------------------------------------------------\n"
       ]
      },
      {
       "output_type": "stream",
       "stream": "stdout",
       "text": [
        "relative_gap_car is 3.105703961825701e-8\n",
        "relative_gap_truck is 4.521463110801767e-8\n",
        "l = 4700000------------------------------------------------\n"
       ]
      },
      {
       "output_type": "stream",
       "stream": "stdout",
       "text": [
        "relative_gap_car is 3.93246928858668e-8\n",
        "relative_gap_truck is 3.9990334518839646e-8\n",
        "l = 4710000------------------------------------------------\n"
       ]
      },
      {
       "output_type": "stream",
       "stream": "stdout",
       "text": [
        "relative_gap_car is 5.684107843744637e-8\n",
        "relative_gap_truck is 5.7728931016804937e-8\n",
        "l = 4720000------------------------------------------------\n"
       ]
      },
      {
       "output_type": "stream",
       "stream": "stdout",
       "text": [
        "relative_gap_car is 3.412697639328223e-8\n",
        "relative_gap_truck is 4.7397308595219955e-8\n",
        "l = 4730000------------------------------------------------\n"
       ]
      },
      {
       "output_type": "stream",
       "stream": "stdout",
       "text": [
        "relative_gap_car is 4.240121660700528e-8\n",
        "relative_gap_truck is 4.767066746567493e-8\n",
        "l = 4740000------------------------------------------------\n"
       ]
      },
      {
       "output_type": "stream",
       "stream": "stdout",
       "text": [
        "relative_gap_car is 4.3081381104528954e-8\n",
        "relative_gap_truck is 4.4201681423201445e-8\n",
        "l = 4750000------------------------------------------------\n"
       ]
      },
      {
       "output_type": "stream",
       "stream": "stdout",
       "text": [
        "relative_gap_car is 4.120723955934997e-8\n",
        "relative_gap_truck is 4.680076958567318e-8\n",
        "l = 4760000------------------------------------------------\n"
       ]
      },
      {
       "output_type": "stream",
       "stream": "stdout",
       "text": [
        "relative_gap_car is 2.769517619304629e-8\n",
        "relative_gap_truck is 5.000817692488245e-8\n",
        "l = 4770000------------------------------------------------\n"
       ]
      },
      {
       "output_type": "stream",
       "stream": "stdout",
       "text": [
        "relative_gap_car is 4.780169559752789e-8\n",
        "relative_gap_truck is 4.770788703269501e-8\n",
        "l = 4780000------------------------------------------------\n"
       ]
      },
      {
       "output_type": "stream",
       "stream": "stdout",
       "text": [
        "relative_gap_car is 3.191999060725265e-8\n",
        "relative_gap_truck is 4.606335655625139e-8\n",
        "l = 4790000------------------------------------------------\n"
       ]
      },
      {
       "output_type": "stream",
       "stream": "stdout",
       "text": [
        "relative_gap_car is 3.310968614544486e-8\n",
        "relative_gap_truck is 3.8206593306293994e-8\n",
        "l = 4800000------------------------------------------------\n"
       ]
      },
      {
       "output_type": "stream",
       "stream": "stdout",
       "text": [
        "relative_gap_car is 3.589332243567862e-8\n",
        "relative_gap_truck is 4.971424788799433e-8\n",
        "l = 4810000------------------------------------------------\n"
       ]
      },
      {
       "output_type": "stream",
       "stream": "stdout",
       "text": [
        "relative_gap_car is 2.986684617598185e-8\n",
        "relative_gap_truck is 4.1960269908800776e-8\n",
        "l = 4820000------------------------------------------------\n"
       ]
      },
      {
       "output_type": "stream",
       "stream": "stdout",
       "text": [
        "relative_gap_car is 3.1771271984594517e-8\n",
        "relative_gap_truck is 4.237170626774601e-8\n",
        "l = 4830000------------------------------------------------\n"
       ]
      },
      {
       "output_type": "stream",
       "stream": "stdout",
       "text": [
        "relative_gap_car is 4.273637806582235e-8\n",
        "relative_gap_truck is 4.332210000425059e-8\n",
        "l = 4840000------------------------------------------------\n"
       ]
      },
      {
       "output_type": "stream",
       "stream": "stdout",
       "text": [
        "relative_gap_car is 4.74365766518504e-8\n",
        "relative_gap_truck is 5.110451984477411e-8\n",
        "l = 4850000------------------------------------------------\n"
       ]
      },
      {
       "output_type": "stream",
       "stream": "stdout",
       "text": [
        "relative_gap_car is 3.362278048425172e-8\n",
        "relative_gap_truck is 5.2933288154631616e-8\n",
        "l = 4860000------------------------------------------------\n"
       ]
      },
      {
       "output_type": "stream",
       "stream": "stdout",
       "text": [
        "relative_gap_car is 3.0997859454959914e-8\n",
        "relative_gap_truck is 3.899767406360825e-8\n",
        "l = 4870000------------------------------------------------\n"
       ]
      },
      {
       "output_type": "stream",
       "stream": "stdout",
       "text": [
        "relative_gap_car is 3.4710107700517425e-8\n",
        "relative_gap_truck is 3.9803608188823726e-8\n",
        "l = 4880000------------------------------------------------\n"
       ]
      },
      {
       "output_type": "stream",
       "stream": "stdout",
       "text": [
        "relative_gap_car is 4.029365465459766e-8\n",
        "relative_gap_truck is 4.1506719148471616e-8\n",
        "l = 4890000------------------------------------------------\n"
       ]
      },
      {
       "output_type": "stream",
       "stream": "stdout",
       "text": [
        "relative_gap_car is 4.8643804468322597e-8\n",
        "relative_gap_truck is 3.9605505702834285e-8\n",
        "l = 4900000------------------------------------------------\n"
       ]
      },
      {
       "output_type": "stream",
       "stream": "stdout",
       "text": [
        "relative_gap_car is 3.635017397918178e-8\n",
        "relative_gap_truck is 4.2845431090432354e-8\n",
        "l = 4910000------------------------------------------------\n"
       ]
      },
      {
       "output_type": "stream",
       "stream": "stdout",
       "text": [
        "relative_gap_car is 3.523533894795894e-8\n",
        "relative_gap_truck is 5.0934791558498455e-8\n",
        "l = 4920000------------------------------------------------\n"
       ]
      },
      {
       "output_type": "stream",
       "stream": "stdout",
       "text": [
        "relative_gap_car is 2.737133478439311e-8\n",
        "relative_gap_truck is 3.942525788824425e-8\n",
        "l = 4930000------------------------------------------------\n"
       ]
      },
      {
       "output_type": "stream",
       "stream": "stdout",
       "text": [
        "relative_gap_car is 3.8576736155871384e-8\n",
        "relative_gap_truck is 4.989831922621004e-8\n",
        "l = 4940000------------------------------------------------\n"
       ]
      },
      {
       "output_type": "stream",
       "stream": "stdout",
       "text": [
        "relative_gap_car is 4.515610219175565e-8\n",
        "relative_gap_truck is 4.894867167270304e-8\n",
        "l = 4950000------------------------------------------------\n"
       ]
      },
      {
       "output_type": "stream",
       "stream": "stdout",
       "text": [
        "relative_gap_car is 3.344995661226824e-8\n",
        "relative_gap_truck is 4.047538968114806e-8\n",
        "l = 4960000------------------------------------------------\n"
       ]
      },
      {
       "output_type": "stream",
       "stream": "stdout",
       "text": [
        "relative_gap_car is 4.684951899363991e-8\n",
        "relative_gap_truck is 4.0283147918699625e-8\n",
        "l = 4970000------------------------------------------------\n"
       ]
      },
      {
       "output_type": "stream",
       "stream": "stdout",
       "text": [
        "relative_gap_car is 4.064145431975084e-8\n",
        "relative_gap_truck is 3.857997918520526e-8\n",
        "l = 4980000------------------------------------------------\n"
       ]
      },
      {
       "output_type": "stream",
       "stream": "stdout",
       "text": [
        "relative_gap_car is 3.56479485542133e-8\n",
        "relative_gap_truck is 3.392736250939692e-8\n",
        "l = 4990000------------------------------------------------\n"
       ]
      },
      {
       "output_type": "stream",
       "stream": "stdout",
       "text": [
        "relative_gap_car is 3.913297999526411e-8\n",
        "relative_gap_truck is 4.5918917526858304e-8\n",
        "l = 5000000------------------------------------------------\n"
       ]
      },
      {
       "output_type": "stream",
       "stream": "stdout",
       "text": [
        "relative_gap_car is 3.172015919586983e-8\n",
        "relative_gap_truck is 4.398186192447806e-8\n",
        "l = 5010000------------------------------------------------\n"
       ]
      },
      {
       "output_type": "stream",
       "stream": "stdout",
       "text": [
        "relative_gap_car is 3.280329104355914e-8\n",
        "relative_gap_truck is 4.090892893476998e-8\n",
        "l = 5020000------------------------------------------------\n"
       ]
      },
      {
       "output_type": "stream",
       "stream": "stdout",
       "text": [
        "relative_gap_car is 3.775106446308939e-8\n",
        "relative_gap_truck is 5.033694232297125e-8\n",
        "l = 5030000------------------------------------------------\n"
       ]
      },
      {
       "output_type": "stream",
       "stream": "stdout",
       "text": [
        "relative_gap_car is 3.651729328811245e-8\n",
        "relative_gap_truck is 3.991098958075908e-8\n",
        "l = 5040000------------------------------------------------\n"
       ]
      },
      {
       "output_type": "stream",
       "stream": "stdout",
       "text": [
        "relative_gap_car is 3.2325164313899133e-8\n",
        "relative_gap_truck is 4.0882686776786595e-8\n",
        "l = 5050000------------------------------------------------\n"
       ]
      },
      {
       "output_type": "stream",
       "stream": "stdout",
       "text": [
        "relative_gap_car is 3.5524716980810615e-8\n",
        "relative_gap_truck is 4.831046992407283e-8\n",
        "l = 5060000------------------------------------------------\n"
       ]
      },
      {
       "output_type": "stream",
       "stream": "stdout",
       "text": [
        "relative_gap_car is 4.8194799345890465e-8\n",
        "relative_gap_truck is 4.654542790517828e-8\n",
        "l = 5070000------------------------------------------------\n"
       ]
      },
      {
       "output_type": "stream",
       "stream": "stdout",
       "text": [
        "relative_gap_car is 4.054955276512871e-8\n",
        "relative_gap_truck is 4.711054144119498e-8\n",
        "l = 5080000------------------------------------------------\n"
       ]
      },
      {
       "output_type": "stream",
       "stream": "stdout",
       "text": [
        "relative_gap_car is 3.8507648278954357e-8\n",
        "relative_gap_truck is 4.5650120493157644e-8\n",
        "l = 5090000------------------------------------------------\n"
       ]
      },
      {
       "output_type": "stream",
       "stream": "stdout",
       "text": [
        "relative_gap_car is 3.426176710417136e-8\n",
        "relative_gap_truck is 4.4423714908632296e-8\n",
        "l = 5100000------------------------------------------------\n"
       ]
      },
      {
       "output_type": "stream",
       "stream": "stdout",
       "text": [
        "relative_gap_car is 2.638585988062585e-8\n",
        "relative_gap_truck is 3.805260011405514e-8\n",
        "l = 5110000------------------------------------------------\n"
       ]
      },
      {
       "output_type": "stream",
       "stream": "stdout",
       "text": [
        "relative_gap_car is 3.8034147920704656e-8\n",
        "relative_gap_truck is 4.703786098942861e-8\n",
        "l = 5120000------------------------------------------------\n"
       ]
      },
      {
       "output_type": "stream",
       "stream": "stdout",
       "text": [
        "relative_gap_car is 3.574864808095958e-8\n",
        "relative_gap_truck is 4.7325429795306005e-8\n",
        "l = 5130000------------------------------------------------\n"
       ]
      },
      {
       "output_type": "stream",
       "stream": "stdout",
       "text": [
        "relative_gap_car is 3.192876494273474e-8\n",
        "relative_gap_truck is 4.7225909892084006e-8\n",
        "l = 5140000------------------------------------------------\n"
       ]
      },
      {
       "output_type": "stream",
       "stream": "stdout",
       "text": [
        "relative_gap_car is 2.404041153509536e-8\n",
        "relative_gap_truck is 3.5581841936281003e-8\n",
        "l = 5150000------------------------------------------------\n"
       ]
      },
      {
       "output_type": "stream",
       "stream": "stdout",
       "text": [
        "relative_gap_car is 3.5215350971087064e-8\n",
        "relative_gap_truck is 3.6084978702427074e-8\n",
        "l = 5160000------------------------------------------------\n"
       ]
      },
      {
       "output_type": "stream",
       "stream": "stdout",
       "text": [
        "relative_gap_car is 3.154221542303794e-8\n",
        "relative_gap_truck is 3.9942363750632374e-8\n",
        "l = 5170000------------------------------------------------\n"
       ]
      },
      {
       "output_type": "stream",
       "stream": "stdout",
       "text": [
        "relative_gap_car is 3.374507639738623e-8\n",
        "relative_gap_truck is 3.3048343955850025e-8\n",
        "l = 5180000------------------------------------------------\n"
       ]
      },
      {
       "output_type": "stream",
       "stream": "stdout",
       "text": [
        "relative_gap_car is 3.096214994172386e-8\n",
        "relative_gap_truck is 3.953336029626162e-8\n",
        "l = 5190000------------------------------------------------\n"
       ]
      },
      {
       "output_type": "stream",
       "stream": "stdout",
       "text": [
        "relative_gap_car is 3.337300765748719e-8\n",
        "relative_gap_truck is 4.9430767438857454e-8\n",
        "l = 5200000------------------------------------------------\n"
       ]
      },
      {
       "output_type": "stream",
       "stream": "stdout",
       "text": [
        "relative_gap_car is 3.6471286509316016e-8\n",
        "relative_gap_truck is 4.5011470156975914e-8\n",
        "l = 5210000------------------------------------------------\n"
       ]
      },
      {
       "output_type": "stream",
       "stream": "stdout",
       "text": [
        "relative_gap_car is 3.9515482793793e-8\n",
        "relative_gap_truck is 4.917822226625949e-8\n",
        "l = 5220000------------------------------------------------\n"
       ]
      },
      {
       "output_type": "stream",
       "stream": "stdout",
       "text": [
        "relative_gap_car is 3.09407263779302e-8\n",
        "relative_gap_truck is 4.211157698255527e-8\n",
        "l = 5230000------------------------------------------------\n"
       ]
      },
      {
       "output_type": "stream",
       "stream": "stdout",
       "text": [
        "relative_gap_car is 2.2520207663265264e-8\n",
        "relative_gap_truck is 4.0366011760538885e-8\n",
        "l = 5240000------------------------------------------------\n"
       ]
      },
      {
       "output_type": "stream",
       "stream": "stdout",
       "text": [
        "relative_gap_car is 3.270611686132014e-8\n",
        "relative_gap_truck is 3.77432529739273e-8\n",
        "l = 5250000------------------------------------------------\n"
       ]
      },
      {
       "output_type": "stream",
       "stream": "stdout",
       "text": [
        "relative_gap_car is 3.8672171679572167e-8\n",
        "relative_gap_truck is 3.5447919320677745e-8\n",
        "l = 5260000------------------------------------------------\n"
       ]
      },
      {
       "output_type": "stream",
       "stream": "stdout",
       "text": [
        "relative_gap_car is 2.829709432963595e-8\n",
        "relative_gap_truck is 4.324319094699881e-8\n",
        "l = 5270000------------------------------------------------\n"
       ]
      },
      {
       "output_type": "stream",
       "stream": "stdout",
       "text": [
        "relative_gap_car is 2.5308666475834133e-8\n",
        "relative_gap_truck is 4.030476096415629e-8\n",
        "l = 5280000------------------------------------------------\n"
       ]
      },
      {
       "output_type": "stream",
       "stream": "stdout",
       "text": [
        "relative_gap_car is 2.715293572978178e-8\n",
        "relative_gap_truck is 3.6702141949376876e-8\n",
        "l = 5290000------------------------------------------------\n"
       ]
      },
      {
       "output_type": "stream",
       "stream": "stdout",
       "text": [
        "relative_gap_car is 2.601139209150063e-8\n",
        "relative_gap_truck is 3.6921422269570875e-8\n",
        "l = 5300000------------------------------------------------\n"
       ]
      },
      {
       "output_type": "stream",
       "stream": "stdout",
       "text": [
        "relative_gap_car is 3.1830339768098695e-8\n",
        "relative_gap_truck is 3.6225667981524964e-8\n",
        "l = 5310000------------------------------------------------\n"
       ]
      },
      {
       "output_type": "stream",
       "stream": "stdout",
       "text": [
        "relative_gap_car is 2.5250593413188596e-8\n",
        "relative_gap_truck is 3.9531367766237584e-8\n",
        "l = 5320000------------------------------------------------\n"
       ]
      },
      {
       "output_type": "stream",
       "stream": "stdout",
       "text": [
        "relative_gap_car is 2.857853584064767e-8\n",
        "relative_gap_truck is 4.7193590466008074e-8\n",
        "l = 5330000------------------------------------------------\n"
       ]
      },
      {
       "output_type": "stream",
       "stream": "stdout",
       "text": [
        "relative_gap_car is 3.170620776583642e-8\n",
        "relative_gap_truck is 4.6383615062410314e-8\n",
        "l = 5340000------------------------------------------------\n"
       ]
      },
      {
       "output_type": "stream",
       "stream": "stdout",
       "text": [
        "relative_gap_car is 4.366121545757731e-8\n",
        "relative_gap_truck is 4.219028598296079e-8\n",
        "l = 5350000------------------------------------------------\n"
       ]
      },
      {
       "output_type": "stream",
       "stream": "stdout",
       "text": [
        "relative_gap_car is 3.147196159625771e-8\n",
        "relative_gap_truck is 3.956561756797294e-8\n",
        "l = 5360000------------------------------------------------\n"
       ]
      },
      {
       "output_type": "stream",
       "stream": "stdout",
       "text": [
        "relative_gap_car is 3.474351703949863e-8\n",
        "relative_gap_truck is 4.931562068991241e-8\n",
        "l = 5370000------------------------------------------------\n"
       ]
      },
      {
       "output_type": "stream",
       "stream": "stdout",
       "text": [
        "relative_gap_car is 3.5638410872336173e-8\n",
        "relative_gap_truck is 3.6743581659632145e-8\n",
        "l = 5380000------------------------------------------------\n"
       ]
      },
      {
       "output_type": "stream",
       "stream": "stdout",
       "text": [
        "relative_gap_car is 2.767426428713719e-8\n",
        "relative_gap_truck is 4.30353705157183e-8\n",
        "l = 5390000------------------------------------------------\n"
       ]
      },
      {
       "output_type": "stream",
       "stream": "stdout",
       "text": [
        "relative_gap_car is 2.910114654800697e-8\n",
        "relative_gap_truck is 3.300541923593641e-8\n",
        "l = 5400000------------------------------------------------\n"
       ]
      },
      {
       "output_type": "stream",
       "stream": "stdout",
       "text": [
        "relative_gap_car is 2.746668483455611e-8\n",
        "relative_gap_truck is 3.496812153120995e-8\n",
        "l = 5410000------------------------------------------------\n"
       ]
      },
      {
       "output_type": "stream",
       "stream": "stdout",
       "text": [
        "relative_gap_car is 3.942460735705495e-8\n",
        "relative_gap_truck is 4.6524430662402514e-8\n",
        "l = 5420000------------------------------------------------\n"
       ]
      },
      {
       "output_type": "stream",
       "stream": "stdout",
       "text": [
        "relative_gap_car is 3.7153996141067833e-8\n",
        "relative_gap_truck is 3.9931034809034275e-8\n",
        "l = 5430000------------------------------------------------\n"
       ]
      },
      {
       "output_type": "stream",
       "stream": "stdout",
       "text": [
        "relative_gap_car is 4.1578295115123346e-8\n",
        "relative_gap_truck is 4.3551033129441747e-8\n",
        "l = 5440000------------------------------------------------\n"
       ]
      },
      {
       "output_type": "stream",
       "stream": "stdout",
       "text": [
        "relative_gap_car is 3.609861797285183e-8\n",
        "relative_gap_truck is 3.692789684507274e-8\n",
        "l = 5450000------------------------------------------------\n"
       ]
      },
      {
       "output_type": "stream",
       "stream": "stdout",
       "text": [
        "relative_gap_car is 3.426087977002219e-8\n",
        "relative_gap_truck is 4.4732443026781864e-8\n",
        "l = 5460000------------------------------------------------\n"
       ]
      },
      {
       "output_type": "stream",
       "stream": "stdout",
       "text": [
        "relative_gap_car is 3.284828213905967e-8\n",
        "relative_gap_truck is 3.96928301455135e-8\n",
        "l = 5470000------------------------------------------------\n"
       ]
      },
      {
       "output_type": "stream",
       "stream": "stdout",
       "text": [
        "relative_gap_car is 3.0746194757213804e-8\n",
        "relative_gap_truck is 3.570074868529823e-8\n",
        "l = 5480000------------------------------------------------\n"
       ]
      },
      {
       "output_type": "stream",
       "stream": "stdout",
       "text": [
        "relative_gap_car is 3.498504941759201e-8\n",
        "relative_gap_truck is 3.76807937787457e-8\n",
        "l = 5490000------------------------------------------------\n"
       ]
      },
      {
       "output_type": "stream",
       "stream": "stdout",
       "text": [
        "relative_gap_car is 3.5848543661842556e-8\n",
        "relative_gap_truck is 5.157224279166332e-8\n",
        "l = 5500000------------------------------------------------\n"
       ]
      },
      {
       "output_type": "stream",
       "stream": "stdout",
       "text": [
        "relative_gap_car is 3.473589131008928e-8\n",
        "relative_gap_truck is 4.962755586516684e-8\n",
        "l = 5510000------------------------------------------------\n"
       ]
      },
      {
       "output_type": "stream",
       "stream": "stdout",
       "text": [
        "relative_gap_car is 4.6636785071197464e-8\n",
        "relative_gap_truck is 4.4467085412477074e-8\n",
        "l = 5520000------------------------------------------------\n"
       ]
      },
      {
       "output_type": "stream",
       "stream": "stdout",
       "text": [
        "relative_gap_car is 2.942890686178202e-8\n",
        "relative_gap_truck is 3.733947774686662e-8\n",
        "l = 5530000------------------------------------------------\n"
       ]
      },
      {
       "output_type": "stream",
       "stream": "stdout",
       "text": [
        "relative_gap_car is 2.64608205199896e-8\n",
        "relative_gap_truck is 3.398931742995078e-8\n",
        "l = 5540000------------------------------------------------\n"
       ]
      },
      {
       "output_type": "stream",
       "stream": "stdout",
       "text": [
        "relative_gap_car is 2.723768393962069e-8\n",
        "relative_gap_truck is 3.480063039993883e-8\n",
        "l = 5550000------------------------------------------------\n"
       ]
      },
      {
       "output_type": "stream",
       "stream": "stdout",
       "text": [
        "relative_gap_car is 2.862986534100937e-8\n",
        "relative_gap_truck is 4.587001474099206e-8\n",
        "l = 5560000------------------------------------------------\n"
       ]
      },
      {
       "output_type": "stream",
       "stream": "stdout",
       "text": [
        "relative_gap_car is 2.5904335518011667e-8\n",
        "relative_gap_truck is 3.281753534965399e-8\n",
        "l = 5570000------------------------------------------------\n"
       ]
      },
      {
       "output_type": "stream",
       "stream": "stdout",
       "text": [
        "relative_gap_car is 3.23256712513008e-8\n",
        "relative_gap_truck is 4.417506519877359e-8\n",
        "l = 5580000------------------------------------------------\n"
       ]
      },
      {
       "output_type": "stream",
       "stream": "stdout",
       "text": [
        "relative_gap_car is 3.089289677717912e-8\n",
        "relative_gap_truck is 4.252299172169916e-8\n",
        "l = 5590000------------------------------------------------\n"
       ]
      },
      {
       "output_type": "stream",
       "stream": "stdout",
       "text": [
        "relative_gap_car is 3.5582684604785263e-8\n",
        "relative_gap_truck is 4.457876345859151e-8\n",
        "l = 5600000------------------------------------------------\n"
       ]
      },
      {
       "output_type": "stream",
       "stream": "stdout",
       "text": [
        "relative_gap_car is 3.715177055050841e-8\n",
        "relative_gap_truck is 4.567892952107757e-8\n",
        "l = 5610000------------------------------------------------\n"
       ]
      },
      {
       "output_type": "stream",
       "stream": "stdout",
       "text": [
        "relative_gap_car is 3.49196511467701e-8\n",
        "relative_gap_truck is 3.902679835591614e-8\n",
        "l = 5620000------------------------------------------------\n"
       ]
      },
      {
       "output_type": "stream",
       "stream": "stdout",
       "text": [
        "relative_gap_car is 2.6034058710564e-8\n",
        "relative_gap_truck is 3.6850768588795216e-8\n",
        "l = 5630000------------------------------------------------\n"
       ]
      },
      {
       "output_type": "stream",
       "stream": "stdout",
       "text": [
        "relative_gap_car is 2.674972180937785e-8\n",
        "relative_gap_truck is 3.661355039974415e-8\n",
        "l = 5640000------------------------------------------------\n"
       ]
      },
      {
       "output_type": "stream",
       "stream": "stdout",
       "text": [
        "relative_gap_car is 2.6793197767936194e-8\n",
        "relative_gap_truck is 3.3930989911286095e-8\n",
        "l = 5650000------------------------------------------------\n"
       ]
      },
      {
       "output_type": "stream",
       "stream": "stdout",
       "text": [
        "relative_gap_car is 3.1750631564916656e-8\n",
        "relative_gap_truck is 3.544617733383433e-8\n",
        "l = 5660000------------------------------------------------\n"
       ]
      },
      {
       "output_type": "stream",
       "stream": "stdout",
       "text": [
        "relative_gap_car is 2.8368947728946903e-8\n",
        "relative_gap_truck is 4.039276620584984e-8\n",
        "l = 5670000------------------------------------------------\n"
       ]
      },
      {
       "output_type": "stream",
       "stream": "stdout",
       "text": [
        "relative_gap_car is 2.9224622178156113e-8\n",
        "relative_gap_truck is 3.6816386371029635e-8\n",
        "l = 5680000------------------------------------------------\n"
       ]
      },
      {
       "output_type": "stream",
       "stream": "stdout",
       "text": [
        "relative_gap_car is 3.0170285949838004e-8\n",
        "relative_gap_truck is 4.970051893245606e-8\n",
        "l = 5690000------------------------------------------------\n"
       ]
      },
      {
       "output_type": "stream",
       "stream": "stdout",
       "text": [
        "relative_gap_car is 4.233291577862677e-8\n",
        "relative_gap_truck is 3.6175306235584516e-8\n",
        "l = 5700000------------------------------------------------\n"
       ]
      },
      {
       "output_type": "stream",
       "stream": "stdout",
       "text": [
        "relative_gap_car is 2.7604630564061424e-8\n",
        "relative_gap_truck is 3.215065280402237e-8\n",
        "l = 5710000------------------------------------------------\n"
       ]
      },
      {
       "output_type": "stream",
       "stream": "stdout",
       "text": [
        "relative_gap_car is 4.057317521757773e-8\n",
        "relative_gap_truck is 3.3921464651820525e-8\n",
        "l = 5720000------------------------------------------------\n"
       ]
      },
      {
       "output_type": "stream",
       "stream": "stdout",
       "text": [
        "relative_gap_car is 2.905754486507596e-8\n",
        "relative_gap_truck is 3.65756701609845e-8\n",
        "l = 5730000------------------------------------------------\n"
       ]
      },
      {
       "output_type": "stream",
       "stream": "stdout",
       "text": [
        "relative_gap_car is 2.8688694326220947e-8\n",
        "relative_gap_truck is 3.315863002103305e-8\n",
        "l = 5740000------------------------------------------------\n"
       ]
      },
      {
       "output_type": "stream",
       "stream": "stdout",
       "text": [
        "relative_gap_car is 2.9071931134797215e-8\n",
        "relative_gap_truck is 3.839832839603792e-8\n",
        "l = 5750000------------------------------------------------\n"
       ]
      },
      {
       "output_type": "stream",
       "stream": "stdout",
       "text": [
        "relative_gap_car is 2.898417965917495e-8\n",
        "relative_gap_truck is 3.276827047789374e-8\n",
        "l = 5760000------------------------------------------------\n"
       ]
      },
      {
       "output_type": "stream",
       "stream": "stdout",
       "text": [
        "relative_gap_car is 3.120445417624915e-8\n",
        "relative_gap_truck is 4.181659564962343e-8\n",
        "l = 5770000------------------------------------------------\n"
       ]
      },
      {
       "output_type": "stream",
       "stream": "stdout",
       "text": [
        "relative_gap_car is 3.4080478644037265e-8\n",
        "relative_gap_truck is 4.346807495093196e-8\n",
        "l = 5780000------------------------------------------------\n"
       ]
      },
      {
       "output_type": "stream",
       "stream": "stdout",
       "text": [
        "relative_gap_car is 3.044117387596368e-8\n",
        "relative_gap_truck is 3.277534958632132e-8\n",
        "l = 5790000------------------------------------------------\n"
       ]
      },
      {
       "output_type": "stream",
       "stream": "stdout",
       "text": [
        "relative_gap_car is 2.9220407564880443e-8\n",
        "relative_gap_truck is 3.3433099417993396e-8\n",
        "l = 5800000------------------------------------------------\n"
       ]
      },
      {
       "output_type": "stream",
       "stream": "stdout",
       "text": [
        "relative_gap_car is 2.6518460213720264e-8\n",
        "relative_gap_truck is 3.230808752600426e-8\n",
        "l = 5810000------------------------------------------------\n"
       ]
      },
      {
       "output_type": "stream",
       "stream": "stdout",
       "text": [
        "relative_gap_car is 2.7815647099638013e-8\n",
        "relative_gap_truck is 4.5454983232137516e-8\n",
        "l = 5820000------------------------------------------------\n"
       ]
      },
      {
       "output_type": "stream",
       "stream": "stdout",
       "text": [
        "relative_gap_car is 2.8242043017263193e-8\n",
        "relative_gap_truck is 3.227970594000279e-8\n",
        "l = 5830000------------------------------------------------\n"
       ]
      },
      {
       "output_type": "stream",
       "stream": "stdout",
       "text": [
        "relative_gap_car is 2.835701096097353e-8\n",
        "relative_gap_truck is 3.358312086191662e-8\n",
        "l = 5840000------------------------------------------------\n"
       ]
      },
      {
       "output_type": "stream",
       "stream": "stdout",
       "text": [
        "relative_gap_car is 3.874099729698607e-8\n",
        "relative_gap_truck is 5.17944696744738e-8\n",
        "l = 5850000------------------------------------------------\n"
       ]
      },
      {
       "output_type": "stream",
       "stream": "stdout",
       "text": [
        "relative_gap_car is 3.1393583101738e-8\n",
        "relative_gap_truck is 4.407231579234212e-8\n",
        "l = 5860000------------------------------------------------\n"
       ]
      },
      {
       "output_type": "stream",
       "stream": "stdout",
       "text": [
        "relative_gap_car is 3.45622819821415e-8\n",
        "relative_gap_truck is 3.9973508396922445e-8\n",
        "l = 5870000------------------------------------------------\n"
       ]
      },
      {
       "output_type": "stream",
       "stream": "stdout",
       "text": [
        "relative_gap_car is 2.3563913200484546e-8\n",
        "relative_gap_truck is 3.911368005406293e-8\n",
        "l = 5880000------------------------------------------------\n"
       ]
      },
      {
       "output_type": "stream",
       "stream": "stdout",
       "text": [
        "relative_gap_car is 3.108483675012323e-8\n",
        "relative_gap_truck is 3.97619443176956e-8\n",
        "l = 5890000------------------------------------------------\n"
       ]
      },
      {
       "output_type": "stream",
       "stream": "stdout",
       "text": [
        "relative_gap_car is 3.601226059247675e-8\n",
        "relative_gap_truck is 3.9642997690356564e-8\n",
        "l = 5900000------------------------------------------------\n"
       ]
      },
      {
       "output_type": "stream",
       "stream": "stdout",
       "text": [
        "relative_gap_car is 2.9246646769117725e-8\n",
        "relative_gap_truck is 3.601905240067578e-8\n",
        "l = 5910000------------------------------------------------\n"
       ]
      },
      {
       "output_type": "stream",
       "stream": "stdout",
       "text": [
        "relative_gap_car is 3.638548220590345e-8\n",
        "relative_gap_truck is 3.465780642094279e-8\n",
        "l = 5920000------------------------------------------------\n"
       ]
      },
      {
       "output_type": "stream",
       "stream": "stdout",
       "text": [
        "relative_gap_car is 2.536107334599206e-8\n",
        "relative_gap_truck is 3.342798716009336e-8\n",
        "l = 5930000------------------------------------------------\n"
       ]
      },
      {
       "output_type": "stream",
       "stream": "stdout",
       "text": [
        "relative_gap_car is 2.675430592437981e-8\n",
        "relative_gap_truck is 3.689684879357042e-8\n",
        "l = 5940000------------------------------------------------\n"
       ]
      },
      {
       "output_type": "stream",
       "stream": "stdout",
       "text": [
        "relative_gap_car is 3.2286746838189475e-8\n",
        "relative_gap_truck is 3.510511523365452e-8\n",
        "l = 5950000------------------------------------------------\n"
       ]
      },
      {
       "output_type": "stream",
       "stream": "stdout",
       "text": [
        "relative_gap_car is 2.7687093821939697e-8\n",
        "relative_gap_truck is 3.7675682355804955e-8\n",
        "l = 5960000------------------------------------------------\n"
       ]
      },
      {
       "output_type": "stream",
       "stream": "stdout",
       "text": [
        "relative_gap_car is 2.728947655626047e-8\n",
        "relative_gap_truck is 4.200029554463501e-8\n",
        "l = 5970000------------------------------------------------\n"
       ]
      },
      {
       "output_type": "stream",
       "stream": "stdout",
       "text": [
        "relative_gap_car is 2.4800950473021234e-8\n",
        "relative_gap_truck is 4.2552037902685816e-8\n",
        "l = 5980000------------------------------------------------\n"
       ]
      },
      {
       "output_type": "stream",
       "stream": "stdout",
       "text": [
        "relative_gap_car is 2.3715711853432016e-8\n",
        "relative_gap_truck is 3.1328519114673767e-8\n",
        "l = 5990000------------------------------------------------\n"
       ]
      },
      {
       "output_type": "stream",
       "stream": "stdout",
       "text": [
        "relative_gap_car is 3.299169201575094e-8\n",
        "relative_gap_truck is 3.3124488167757584e-8\n",
        "l = 6000000------------------------------------------------\n"
       ]
      },
      {
       "output_type": "stream",
       "stream": "stdout",
       "text": [
        "relative_gap_car is 2.108506554851157e-8\n",
        "relative_gap_truck is 3.293002438349571e-8\n",
        "l = 6010000------------------------------------------------\n"
       ]
      },
      {
       "output_type": "stream",
       "stream": "stdout",
       "text": [
        "relative_gap_car is 2.667013799462756e-8\n",
        "relative_gap_truck is 2.7497569532763664e-8\n",
        "l = 6020000------------------------------------------------\n"
       ]
      },
      {
       "output_type": "stream",
       "stream": "stdout",
       "text": [
        "relative_gap_car is 3.272229968764582e-8\n",
        "relative_gap_truck is 4.5090118517763083e-8\n",
        "l = 6030000------------------------------------------------\n"
       ]
      },
      {
       "output_type": "stream",
       "stream": "stdout",
       "text": [
        "relative_gap_car is 3.218820601655876e-8\n",
        "relative_gap_truck is 3.597434537834911e-8\n",
        "l = 6040000------------------------------------------------\n"
       ]
      },
      {
       "output_type": "stream",
       "stream": "stdout",
       "text": [
        "relative_gap_car is 3.68630186971163e-8\n",
        "relative_gap_truck is 3.5498683019526115e-8\n",
        "l = 6050000------------------------------------------------\n"
       ]
      },
      {
       "output_type": "stream",
       "stream": "stdout",
       "text": [
        "relative_gap_car is 2.9572035010949452e-8\n",
        "relative_gap_truck is 3.5397573003555345e-8\n",
        "l = 6060000------------------------------------------------\n"
       ]
      },
      {
       "output_type": "stream",
       "stream": "stdout",
       "text": [
        "relative_gap_car is 2.540235268752995e-8\n",
        "relative_gap_truck is 3.742742224631429e-8\n",
        "l = 6070000------------------------------------------------\n"
       ]
      },
      {
       "output_type": "stream",
       "stream": "stdout",
       "text": [
        "relative_gap_car is 2.7155523937503208e-8\n",
        "relative_gap_truck is 4.993814875899556e-8\n",
        "l = 6080000------------------------------------------------\n"
       ]
      },
      {
       "output_type": "stream",
       "stream": "stdout",
       "text": [
        "relative_gap_car is 3.5166804596654055e-8\n",
        "relative_gap_truck is 3.2960053739719053e-8\n",
        "l = 6090000------------------------------------------------\n"
       ]
      },
      {
       "output_type": "stream",
       "stream": "stdout",
       "text": [
        "relative_gap_car is 3.700057843762941e-8\n",
        "relative_gap_truck is 4.253313411621929e-8\n",
        "l = 6100000------------------------------------------------\n"
       ]
      },
      {
       "output_type": "stream",
       "stream": "stdout",
       "text": [
        "relative_gap_car is 2.9647279069640412e-8\n",
        "relative_gap_truck is 3.647105145380768e-8\n",
        "l = 6110000------------------------------------------------\n"
       ]
      },
      {
       "output_type": "stream",
       "stream": "stdout",
       "text": [
        "relative_gap_car is 2.8410655057114996e-8\n",
        "relative_gap_truck is 3.709457527270921e-8\n",
        "l = 6120000------------------------------------------------\n"
       ]
      },
      {
       "output_type": "stream",
       "stream": "stdout",
       "text": [
        "relative_gap_car is 2.8761137323233757e-8\n",
        "relative_gap_truck is 4.353880444513982e-8\n",
        "l = 6130000------------------------------------------------\n"
       ]
      },
      {
       "output_type": "stream",
       "stream": "stdout",
       "text": [
        "relative_gap_car is 2.0791848808732976e-8\n",
        "relative_gap_truck is 3.265967698767201e-8\n",
        "l = 6140000------------------------------------------------\n"
       ]
      },
      {
       "output_type": "stream",
       "stream": "stdout",
       "text": [
        "relative_gap_car is 2.5541905083512298e-8\n",
        "relative_gap_truck is 3.354514127639888e-8\n",
        "l = 6150000------------------------------------------------\n"
       ]
      },
      {
       "output_type": "stream",
       "stream": "stdout",
       "text": [
        "relative_gap_car is 2.4328756008567077e-8\n",
        "relative_gap_truck is 3.509529191635566e-8\n",
        "l = 6160000------------------------------------------------\n"
       ]
      },
      {
       "output_type": "stream",
       "stream": "stdout",
       "text": [
        "relative_gap_car is 2.922917594187486e-8\n",
        "relative_gap_truck is 3.2385734943687596e-8\n",
        "l = 6170000------------------------------------------------\n"
       ]
      },
      {
       "output_type": "stream",
       "stream": "stdout",
       "text": [
        "relative_gap_car is 2.7845994745706914e-8\n",
        "relative_gap_truck is 3.202756416892669e-8\n",
        "l = 6180000------------------------------------------------\n"
       ]
      },
      {
       "output_type": "stream",
       "stream": "stdout",
       "text": [
        "relative_gap_car is 3.484259925420192e-8\n",
        "relative_gap_truck is 4.059181896379128e-8\n",
        "l = 6190000------------------------------------------------\n"
       ]
      },
      {
       "output_type": "stream",
       "stream": "stdout",
       "text": [
        "relative_gap_car is 2.7236579148008075e-8\n",
        "relative_gap_truck is 4.804372567683843e-8\n",
        "l = 6200000------------------------------------------------\n"
       ]
      },
      {
       "output_type": "stream",
       "stream": "stdout",
       "text": [
        "relative_gap_car is 3.4595686961628405e-8\n",
        "relative_gap_truck is 3.671435264415681e-8\n",
        "l = 6210000------------------------------------------------\n"
       ]
      },
      {
       "output_type": "stream",
       "stream": "stdout",
       "text": [
        "relative_gap_car is 2.923289456233363e-8\n",
        "relative_gap_truck is 4.112931381696379e-8\n",
        "l = 6220000------------------------------------------------\n"
       ]
      },
      {
       "output_type": "stream",
       "stream": "stdout",
       "text": [
        "relative_gap_car is 2.7196173190287715e-8\n",
        "relative_gap_truck is 3.0446637942902096e-8\n",
        "l = 6230000------------------------------------------------\n"
       ]
      },
      {
       "output_type": "stream",
       "stream": "stdout",
       "text": [
        "relative_gap_car is 3.592464092326452e-8\n",
        "relative_gap_truck is 3.908704139378567e-8\n",
        "l = 6240000------------------------------------------------\n"
       ]
      },
      {
       "output_type": "stream",
       "stream": "stdout",
       "text": [
        "relative_gap_car is 2.458911256007265e-8\n",
        "relative_gap_truck is 3.8849483821446806e-8\n",
        "l = 6250000------------------------------------------------\n"
       ]
      },
      {
       "output_type": "stream",
       "stream": "stdout",
       "text": [
        "relative_gap_car is 2.4999285077786393e-8\n",
        "relative_gap_truck is 3.226806565653346e-8\n",
        "l = 6260000------------------------------------------------\n"
       ]
      },
      {
       "output_type": "stream",
       "stream": "stdout",
       "text": [
        "relative_gap_car is 2.9670576596826454e-8\n",
        "relative_gap_truck is 3.806217601350636e-8\n",
        "l = 6270000------------------------------------------------\n"
       ]
      },
      {
       "output_type": "stream",
       "stream": "stdout",
       "text": [
        "relative_gap_car is 2.9122867143901083e-8\n",
        "relative_gap_truck is 4.444576984136623e-8\n",
        "l = 6280000------------------------------------------------\n"
       ]
      },
      {
       "output_type": "stream",
       "stream": "stdout",
       "text": [
        "relative_gap_car is 3.1641101397992235e-8\n",
        "relative_gap_truck is 3.8761014844778136e-8\n",
        "l = 6290000------------------------------------------------\n"
       ]
      },
      {
       "output_type": "stream",
       "stream": "stdout",
       "text": [
        "relative_gap_car is 2.4043539022175503e-8\n",
        "relative_gap_truck is 3.361292711583145e-8\n",
        "l = 6300000------------------------------------------------\n"
       ]
      },
      {
       "output_type": "stream",
       "stream": "stdout",
       "text": [
        "relative_gap_car is 2.9741329922820082e-8\n",
        "relative_gap_truck is 3.206208426750955e-8\n",
        "l = 6310000------------------------------------------------\n"
       ]
      },
      {
       "output_type": "stream",
       "stream": "stdout",
       "text": [
        "relative_gap_car is 2.3843564903133384e-8\n",
        "relative_gap_truck is 2.981711086683477e-8\n",
        "l = 6320000------------------------------------------------\n"
       ]
      },
      {
       "output_type": "stream",
       "stream": "stdout",
       "text": [
        "relative_gap_car is 3.073856286031589e-8\n",
        "relative_gap_truck is 3.878487646384513e-8\n",
        "l = 6330000------------------------------------------------\n"
       ]
      },
      {
       "output_type": "stream",
       "stream": "stdout",
       "text": [
        "relative_gap_car is 2.525114552713368e-8\n",
        "relative_gap_truck is 4.200320947371265e-8\n",
        "l = 6340000------------------------------------------------\n"
       ]
      },
      {
       "output_type": "stream",
       "stream": "stdout",
       "text": [
        "relative_gap_car is 2.60623897824122e-8\n",
        "relative_gap_truck is 3.216559665734317e-8\n",
        "l = 6350000------------------------------------------------\n"
       ]
      },
      {
       "output_type": "stream",
       "stream": "stdout",
       "text": [
        "relative_gap_car is 2.3814606132733096e-8\n",
        "relative_gap_truck is 3.7682907435108186e-8\n",
        "l = 6360000------------------------------------------------\n"
       ]
      },
      {
       "output_type": "stream",
       "stream": "stdout",
       "text": [
        "relative_gap_car is 2.9194101754789232e-8\n",
        "relative_gap_truck is 4.6914588544508435e-8\n",
        "l = 6370000------------------------------------------------\n"
       ]
      },
      {
       "output_type": "stream",
       "stream": "stdout",
       "text": [
        "relative_gap_car is 1.9965046948428514e-8\n",
        "relative_gap_truck is 3.445575773503214e-8\n",
        "l = 6380000------------------------------------------------\n"
       ]
      },
      {
       "output_type": "stream",
       "stream": "stdout",
       "text": [
        "relative_gap_car is 4.062926321316073e-8\n",
        "relative_gap_truck is 3.526450534337826e-8\n",
        "l = 6390000------------------------------------------------\n"
       ]
      },
      {
       "output_type": "stream",
       "stream": "stdout",
       "text": [
        "relative_gap_car is 2.6836922966615248e-8\n",
        "relative_gap_truck is 3.264044413659895e-8\n",
        "l = 6400000------------------------------------------------\n"
       ]
      },
      {
       "output_type": "stream",
       "stream": "stdout",
       "text": [
        "relative_gap_car is 4.135090174151138e-8\n",
        "relative_gap_truck is 3.193862018958468e-8\n",
        "l = 6410000------------------------------------------------\n"
       ]
      },
      {
       "output_type": "stream",
       "stream": "stdout",
       "text": [
        "relative_gap_car is 3.0349759611353696e-8\n",
        "relative_gap_truck is 3.314901976590255e-8\n",
        "l = 6420000------------------------------------------------\n"
       ]
      },
      {
       "output_type": "stream",
       "stream": "stdout",
       "text": [
        "relative_gap_car is 2.5388049141284266e-8\n",
        "relative_gap_truck is 3.027585072566872e-8\n",
        "l = 6430000------------------------------------------------\n"
       ]
      },
      {
       "output_type": "stream",
       "stream": "stdout",
       "text": [
        "relative_gap_car is 2.6865230720508426e-8\n",
        "relative_gap_truck is 3.7458635994825775e-8\n",
        "l = 6440000------------------------------------------------\n"
       ]
      },
      {
       "output_type": "stream",
       "stream": "stdout",
       "text": [
        "relative_gap_car is 2.153693876108146e-8\n",
        "relative_gap_truck is 3.221957463416411e-8\n",
        "l = 6450000------------------------------------------------\n"
       ]
      },
      {
       "output_type": "stream",
       "stream": "stdout",
       "text": [
        "relative_gap_car is 2.0475002842709715e-8\n",
        "relative_gap_truck is 3.2179225822915645e-8\n",
        "l = 6460000------------------------------------------------\n"
       ]
      },
      {
       "output_type": "stream",
       "stream": "stdout",
       "text": [
        "relative_gap_car is 2.499852754077798e-8\n",
        "relative_gap_truck is 3.355495092072454e-8\n",
        "l = 6470000------------------------------------------------\n"
       ]
      },
      {
       "output_type": "stream",
       "stream": "stdout",
       "text": [
        "relative_gap_car is 2.883221043868805e-8\n",
        "relative_gap_truck is 3.6491309803655717e-8\n",
        "l = 6480000------------------------------------------------\n"
       ]
      },
      {
       "output_type": "stream",
       "stream": "stdout",
       "text": [
        "relative_gap_car is 2.4938335128555748e-8\n",
        "relative_gap_truck is 3.7920082582372657e-8\n",
        "l = 6490000------------------------------------------------\n"
       ]
      },
      {
       "output_type": "stream",
       "stream": "stdout",
       "text": [
        "relative_gap_car is 2.4025786750925807e-8\n",
        "relative_gap_truck is 3.4108169857412947e-8\n",
        "l = 6500000------------------------------------------------\n"
       ]
      },
      {
       "output_type": "stream",
       "stream": "stdout",
       "text": [
        "relative_gap_car is 3.15744634359919e-8\n",
        "relative_gap_truck is 3.0826224884225747e-8\n",
        "l = 6510000------------------------------------------------\n"
       ]
      },
      {
       "output_type": "stream",
       "stream": "stdout",
       "text": [
        "relative_gap_car is 2.3889612821481546e-8\n",
        "relative_gap_truck is 2.7478689328454162e-8\n",
        "l = 6520000------------------------------------------------\n"
       ]
      },
      {
       "output_type": "stream",
       "stream": "stdout",
       "text": [
        "relative_gap_car is 2.9587396035497962e-8\n",
        "relative_gap_truck is 3.801722767915384e-8\n",
        "l = 6530000------------------------------------------------\n"
       ]
      },
      {
       "output_type": "stream",
       "stream": "stdout",
       "text": [
        "relative_gap_car is 2.0491081739110422e-8\n",
        "relative_gap_truck is 3.086122311042065e-8\n",
        "l = 6540000------------------------------------------------\n"
       ]
      },
      {
       "output_type": "stream",
       "stream": "stdout",
       "text": [
        "relative_gap_car is 2.9626879744179932e-8\n",
        "relative_gap_truck is 4.109454391591161e-8\n",
        "l = 6550000------------------------------------------------\n"
       ]
      },
      {
       "output_type": "stream",
       "stream": "stdout",
       "text": [
        "relative_gap_car is 3.619674809044323e-8\n",
        "relative_gap_truck is 3.579111108934237e-8\n",
        "l = 6560000------------------------------------------------\n"
       ]
      },
      {
       "output_type": "stream",
       "stream": "stdout",
       "text": [
        "relative_gap_car is 2.1292649598090114e-8\n",
        "relative_gap_truck is 2.8789657713638395e-8\n",
        "l = 6570000------------------------------------------------\n"
       ]
      },
      {
       "output_type": "stream",
       "stream": "stdout",
       "text": [
        "relative_gap_car is 3.0807460068453755e-8\n",
        "relative_gap_truck is 3.0456738108072856e-8\n",
        "l = 6580000------------------------------------------------\n"
       ]
      },
      {
       "output_type": "stream",
       "stream": "stdout",
       "text": [
        "relative_gap_car is 2.1992433249865103e-8\n",
        "relative_gap_truck is 2.970074021311322e-8\n",
        "l = 6590000------------------------------------------------\n"
       ]
      },
      {
       "output_type": "stream",
       "stream": "stdout",
       "text": [
        "relative_gap_car is 2.8669914075611505e-8\n",
        "relative_gap_truck is 2.6806219385084275e-8\n",
        "l = 6600000------------------------------------------------\n"
       ]
      },
      {
       "output_type": "stream",
       "stream": "stdout",
       "text": [
        "relative_gap_car is 3.060297812540355e-8\n",
        "relative_gap_truck is 3.291398995829463e-8\n",
        "l = 6610000------------------------------------------------\n"
       ]
      },
      {
       "output_type": "stream",
       "stream": "stdout",
       "text": [
        "relative_gap_car is 2.469339769629054e-8\n",
        "relative_gap_truck is 4.055911031034855e-8\n",
        "l = 6620000------------------------------------------------\n"
       ]
      },
      {
       "output_type": "stream",
       "stream": "stdout",
       "text": [
        "relative_gap_car is 2.6776801767516675e-8\n",
        "relative_gap_truck is 3.805889803851124e-8\n",
        "l = 6630000------------------------------------------------\n"
       ]
      },
      {
       "output_type": "stream",
       "stream": "stdout",
       "text": [
        "relative_gap_car is 2.0266137629298772e-8\n",
        "relative_gap_truck is 3.213902108344128e-8\n",
        "l = 6640000------------------------------------------------\n"
       ]
      },
      {
       "output_type": "stream",
       "stream": "stdout",
       "text": [
        "relative_gap_car is 3.180102472047274e-8\n",
        "relative_gap_truck is 3.517894114534889e-8\n",
        "l = 6650000------------------------------------------------\n"
       ]
      },
      {
       "output_type": "stream",
       "stream": "stdout",
       "text": [
        "relative_gap_car is 2.7254564091223372e-8\n",
        "relative_gap_truck is 4.276175376681112e-8\n",
        "l = 6660000------------------------------------------------\n"
       ]
      },
      {
       "output_type": "stream",
       "stream": "stdout",
       "text": [
        "relative_gap_car is 2.075157619712487e-8\n",
        "relative_gap_truck is 3.233255018687109e-8\n",
        "l = 6670000------------------------------------------------\n"
       ]
      },
      {
       "output_type": "stream",
       "stream": "stdout",
       "text": [
        "relative_gap_car is 3.254836431694709e-8\n",
        "relative_gap_truck is 3.595540824220209e-8\n",
        "l = 6680000------------------------------------------------\n"
       ]
      },
      {
       "output_type": "stream",
       "stream": "stdout",
       "text": [
        "relative_gap_car is 2.5541242332524152e-8\n",
        "relative_gap_truck is 3.5656802812946054e-8\n",
        "l = 6690000------------------------------------------------\n"
       ]
      },
      {
       "output_type": "stream",
       "stream": "stdout",
       "text": [
        "relative_gap_car is 2.2947788180609427e-8\n",
        "relative_gap_truck is 3.650267607387581e-8\n",
        "l = 6700000------------------------------------------------\n"
       ]
      },
      {
       "output_type": "stream",
       "stream": "stdout",
       "text": [
        "relative_gap_car is 2.9647267128496668e-8\n",
        "relative_gap_truck is 3.4824635954539165e-8\n",
        "l = 6710000------------------------------------------------\n"
       ]
      },
      {
       "output_type": "stream",
       "stream": "stdout",
       "text": [
        "relative_gap_car is 2.028766731601286e-8\n",
        "relative_gap_truck is 3.1056538284070786e-8\n",
        "l = 6720000------------------------------------------------\n"
       ]
      },
      {
       "output_type": "stream",
       "stream": "stdout",
       "text": [
        "relative_gap_car is 2.8901599764094447e-8\n",
        "relative_gap_truck is 3.707675550780732e-8\n",
        "l = 6730000------------------------------------------------\n"
       ]
      },
      {
       "output_type": "stream",
       "stream": "stdout",
       "text": [
        "relative_gap_car is 2.1746571029197082e-8\n",
        "relative_gap_truck is 2.9195855609205404e-8\n",
        "l = 6740000------------------------------------------------\n"
       ]
      },
      {
       "output_type": "stream",
       "stream": "stdout",
       "text": [
        "relative_gap_car is 3.01821658501221e-8\n",
        "relative_gap_truck is 3.6286817206993005e-8\n",
        "l = 6750000------------------------------------------------\n"
       ]
      },
      {
       "output_type": "stream",
       "stream": "stdout",
       "text": [
        "relative_gap_car is 3.030881210637827e-8\n",
        "relative_gap_truck is 3.2721636430311064e-8\n",
        "l = 6760000------------------------------------------------\n"
       ]
      },
      {
       "output_type": "stream",
       "stream": "stdout",
       "text": [
        "relative_gap_car is 3.551738017023816e-8\n",
        "relative_gap_truck is 3.557590555448618e-8\n",
        "l = 6770000------------------------------------------------\n"
       ]
      },
      {
       "output_type": "stream",
       "stream": "stdout",
       "text": [
        "relative_gap_car is 3.08768412715447e-8\n",
        "relative_gap_truck is 3.017760606898254e-8\n",
        "l = 6780000------------------------------------------------\n"
       ]
      },
      {
       "output_type": "stream",
       "stream": "stdout",
       "text": [
        "relative_gap_car is 2.710692608791874e-8\n",
        "relative_gap_truck is 2.8765487531572456e-8\n",
        "l = 6790000------------------------------------------------\n"
       ]
      },
      {
       "output_type": "stream",
       "stream": "stdout",
       "text": [
        "relative_gap_car is 3.446598543628974e-8\n",
        "relative_gap_truck is 3.579263386333053e-8\n",
        "l = 6800000------------------------------------------------\n"
       ]
      },
      {
       "output_type": "stream",
       "stream": "stdout",
       "text": [
        "relative_gap_car is 2.9655559467027136e-8\n",
        "relative_gap_truck is 3.43683245229211e-8\n",
        "l = 6810000------------------------------------------------\n"
       ]
      },
      {
       "output_type": "stream",
       "stream": "stdout",
       "text": [
        "relative_gap_car is 2.544516690508372e-8\n",
        "relative_gap_truck is 3.391560937443832e-8\n",
        "l = 6820000------------------------------------------------\n"
       ]
      },
      {
       "output_type": "stream",
       "stream": "stdout",
       "text": [
        "relative_gap_car is 3.0625943855474905e-8\n",
        "relative_gap_truck is 4.1363166831132046e-8\n",
        "l = 6830000------------------------------------------------\n"
       ]
      },
      {
       "output_type": "stream",
       "stream": "stdout",
       "text": [
        "relative_gap_car is 2.0519605102148528e-8\n",
        "relative_gap_truck is 3.303838923229313e-8\n",
        "l = 6840000------------------------------------------------\n"
       ]
      },
      {
       "output_type": "stream",
       "stream": "stdout",
       "text": [
        "relative_gap_car is 2.344313426254258e-8\n",
        "relative_gap_truck is 3.575785846646375e-8\n",
        "l = 6850000------------------------------------------------\n"
       ]
      },
      {
       "output_type": "stream",
       "stream": "stdout",
       "text": [
        "relative_gap_car is 2.6537379020560765e-8\n",
        "relative_gap_truck is 3.5227957143685474e-8\n",
        "l = 6860000------------------------------------------------\n"
       ]
      },
      {
       "output_type": "stream",
       "stream": "stdout",
       "text": [
        "relative_gap_car is 2.1643955346871897e-8\n",
        "relative_gap_truck is 3.153184830862844e-8\n",
        "l = 6870000------------------------------------------------\n"
       ]
      },
      {
       "output_type": "stream",
       "stream": "stdout",
       "text": [
        "relative_gap_car is 3.1598838356774366e-8\n",
        "relative_gap_truck is 2.6541762334855484e-8\n",
        "l = 6880000------------------------------------------------\n"
       ]
      },
      {
       "output_type": "stream",
       "stream": "stdout",
       "text": [
        "relative_gap_car is 2.614393565017242e-8\n",
        "relative_gap_truck is 3.5895630158220296e-8\n",
        "l = 6890000------------------------------------------------\n"
       ]
      },
      {
       "output_type": "stream",
       "stream": "stdout",
       "text": [
        "relative_gap_car is 2.7056364195545008e-8\n",
        "relative_gap_truck is 3.376184157411306e-8\n",
        "l = 6900000------------------------------------------------\n"
       ]
      },
      {
       "output_type": "stream",
       "stream": "stdout",
       "text": [
        "relative_gap_car is 2.9175663959607157e-8\n",
        "relative_gap_truck is 2.9560409747087496e-8\n",
        "l = 6910000------------------------------------------------\n"
       ]
      },
      {
       "output_type": "stream",
       "stream": "stdout",
       "text": [
        "relative_gap_car is 2.8859576922739927e-8\n",
        "relative_gap_truck is 2.7846678085668338e-8\n",
        "l = 6920000------------------------------------------------\n"
       ]
      },
      {
       "output_type": "stream",
       "stream": "stdout",
       "text": [
        "relative_gap_car is 2.712709870579243e-8\n",
        "relative_gap_truck is 4.171416007893425e-8\n",
        "l = 6930000------------------------------------------------\n"
       ]
      },
      {
       "output_type": "stream",
       "stream": "stdout",
       "text": [
        "relative_gap_car is 2.357647097729144e-8\n",
        "relative_gap_truck is 3.473260303402434e-8\n",
        "l = 6940000------------------------------------------------\n"
       ]
      },
      {
       "output_type": "stream",
       "stream": "stdout",
       "text": [
        "relative_gap_car is 2.3390090510302366e-8\n",
        "relative_gap_truck is 2.9276889125289466e-8\n",
        "l = 6950000------------------------------------------------\n"
       ]
      },
      {
       "output_type": "stream",
       "stream": "stdout",
       "text": [
        "relative_gap_car is 2.8626972645623107e-8\n",
        "relative_gap_truck is 2.9021364787492052e-8\n",
        "l = 6960000------------------------------------------------\n"
       ]
      },
      {
       "output_type": "stream",
       "stream": "stdout",
       "text": [
        "relative_gap_car is 2.1661826350428637e-8\n",
        "relative_gap_truck is 2.6071197472937735e-8\n",
        "l = 6970000------------------------------------------------\n"
       ]
      },
      {
       "output_type": "stream",
       "stream": "stdout",
       "text": [
        "relative_gap_car is 2.9559571365324586e-8\n",
        "relative_gap_truck is 3.322920786442504e-8\n",
        "l = 6980000------------------------------------------------\n"
       ]
      },
      {
       "output_type": "stream",
       "stream": "stdout",
       "text": [
        "relative_gap_car is 2.8361361334772144e-8\n",
        "relative_gap_truck is 3.3043942340967504e-8\n",
        "l = 6990000------------------------------------------------\n"
       ]
      },
      {
       "output_type": "stream",
       "stream": "stdout",
       "text": [
        "relative_gap_car is 3.700076499407875e-8\n",
        "relative_gap_truck is 3.152884699520884e-8\n",
        "l = 7000000------------------------------------------------\n"
       ]
      },
      {
       "output_type": "stream",
       "stream": "stdout",
       "text": [
        "relative_gap_car is 3.181049839194733e-8\n",
        "relative_gap_truck is 3.311957401086204e-8\n",
        "l = 7010000------------------------------------------------\n"
       ]
      },
      {
       "output_type": "stream",
       "stream": "stdout",
       "text": [
        "relative_gap_car is 2.4370640496572292e-8\n",
        "relative_gap_truck is 2.8169302760752003e-8\n",
        "l = 7020000------------------------------------------------\n"
       ]
      },
      {
       "output_type": "stream",
       "stream": "stdout",
       "text": [
        "relative_gap_car is 1.790657206763928e-8\n",
        "relative_gap_truck is 2.717135143265583e-8\n",
        "l = 7030000------------------------------------------------\n"
       ]
      },
      {
       "output_type": "stream",
       "stream": "stdout",
       "text": [
        "relative_gap_car is 2.9052012469484996e-8\n",
        "relative_gap_truck is 2.63708130111013e-8\n",
        "l = 7040000------------------------------------------------\n"
       ]
      },
      {
       "output_type": "stream",
       "stream": "stdout",
       "text": [
        "relative_gap_car is 2.1052198742413065e-8\n",
        "relative_gap_truck is 3.31696010460283e-8\n",
        "l = 7050000------------------------------------------------\n"
       ]
      },
      {
       "output_type": "stream",
       "stream": "stdout",
       "text": [
        "relative_gap_car is 1.888506977773638e-8\n",
        "relative_gap_truck is 2.9143516014040753e-8\n",
        "l = 7060000------------------------------------------------\n"
       ]
      },
      {
       "output_type": "stream",
       "stream": "stdout",
       "text": [
        "relative_gap_car is 2.281854271267995e-8\n",
        "relative_gap_truck is 2.6881499511576793e-8\n",
        "l = 7070000------------------------------------------------\n"
       ]
      },
      {
       "output_type": "stream",
       "stream": "stdout",
       "text": [
        "relative_gap_car is 2.709032407321963e-8\n",
        "relative_gap_truck is 4.1020885362016555e-8\n",
        "l = 7080000------------------------------------------------\n"
       ]
      },
      {
       "output_type": "stream",
       "stream": "stdout",
       "text": [
        "relative_gap_car is 2.2770465374640807e-8\n",
        "relative_gap_truck is 3.422924417244269e-8\n",
        "l = 7090000------------------------------------------------\n"
       ]
      },
      {
       "output_type": "stream",
       "stream": "stdout",
       "text": [
        "relative_gap_car is 2.577428082854676e-8\n",
        "relative_gap_truck is 2.9456018431140142e-8\n",
        "l = 7100000------------------------------------------------\n"
       ]
      },
      {
       "output_type": "stream",
       "stream": "stdout",
       "text": [
        "relative_gap_car is 2.499301555962619e-8\n",
        "relative_gap_truck is 3.768529873248358e-8\n",
        "l = 7110000------------------------------------------------\n"
       ]
      },
      {
       "output_type": "stream",
       "stream": "stdout",
       "text": [
        "relative_gap_car is 2.1878600700386863e-8\n",
        "relative_gap_truck is 3.1699740374662885e-8\n",
        "l = 7120000------------------------------------------------\n"
       ]
      },
      {
       "output_type": "stream",
       "stream": "stdout",
       "text": [
        "relative_gap_car is 2.458178932795309e-8\n",
        "relative_gap_truck is 3.54447130720982e-8\n",
        "l = 7130000------------------------------------------------\n"
       ]
      },
      {
       "output_type": "stream",
       "stream": "stdout",
       "text": [
        "relative_gap_car is 1.785271913536253e-8\n",
        "relative_gap_truck is 2.862001280817223e-8\n",
        "l = 7140000------------------------------------------------\n"
       ]
      },
      {
       "output_type": "stream",
       "stream": "stdout",
       "text": [
        "relative_gap_car is 1.8475354927318262e-8\n",
        "relative_gap_truck is 2.6128918049868908e-8\n",
        "l = 7150000------------------------------------------------\n"
       ]
      },
      {
       "output_type": "stream",
       "stream": "stdout",
       "text": [
        "relative_gap_car is 2.2109258416548237e-8\n",
        "relative_gap_truck is 3.539839465804624e-8\n",
        "l = 7160000------------------------------------------------\n"
       ]
      },
      {
       "output_type": "stream",
       "stream": "stdout",
       "text": [
        "relative_gap_car is 2.409273431346701e-8\n",
        "relative_gap_truck is 3.577620914869684e-8\n",
        "l = 7170000------------------------------------------------\n"
       ]
      },
      {
       "output_type": "stream",
       "stream": "stdout",
       "text": [
        "relative_gap_car is 2.718808190944131e-8\n",
        "relative_gap_truck is 3.1771652635408796e-8\n",
        "l = 7180000------------------------------------------------\n"
       ]
      },
      {
       "output_type": "stream",
       "stream": "stdout",
       "text": [
        "relative_gap_car is 2.472015857278667e-8\n",
        "relative_gap_truck is 3.0044130695991385e-8\n",
        "l = 7190000------------------------------------------------\n"
       ]
      },
      {
       "output_type": "stream",
       "stream": "stdout",
       "text": [
        "relative_gap_car is 2.597274253034299e-8\n",
        "relative_gap_truck is 2.7786447455994276e-8\n",
        "l = 7200000------------------------------------------------\n"
       ]
      },
      {
       "output_type": "stream",
       "stream": "stdout",
       "text": [
        "relative_gap_car is 2.667612917934022e-8\n",
        "relative_gap_truck is 3.008472678124364e-8\n",
        "l = 7210000------------------------------------------------\n"
       ]
      },
      {
       "output_type": "stream",
       "stream": "stdout",
       "text": [
        "relative_gap_car is 1.8365201941048483e-8\n",
        "relative_gap_truck is 2.9277217679195428e-8\n",
        "l = 7220000------------------------------------------------\n"
       ]
      },
      {
       "output_type": "stream",
       "stream": "stdout",
       "text": [
        "relative_gap_car is 2.8928186534550567e-8\n",
        "relative_gap_truck is 2.865937882634972e-8\n",
        "l = 7230000------------------------------------------------\n"
       ]
      },
      {
       "output_type": "stream",
       "stream": "stdout",
       "text": [
        "relative_gap_car is 2.6516230047446036e-8\n",
        "relative_gap_truck is 2.9633593187284757e-8\n",
        "l = 7240000------------------------------------------------\n"
       ]
      },
      {
       "output_type": "stream",
       "stream": "stdout",
       "text": [
        "relative_gap_car is 2.193785707111525e-8\n",
        "relative_gap_truck is 2.8461594969416936e-8\n",
        "l = 7250000------------------------------------------------\n"
       ]
      },
      {
       "output_type": "stream",
       "stream": "stdout",
       "text": [
        "relative_gap_car is 2.5726053530595406e-8\n",
        "relative_gap_truck is 2.869628614469589e-8\n",
        "l = 7260000------------------------------------------------\n"
       ]
      },
      {
       "output_type": "stream",
       "stream": "stdout",
       "text": [
        "relative_gap_car is 2.393124275607752e-8\n",
        "relative_gap_truck is 3.3685018887566775e-8\n",
        "l = 7270000------------------------------------------------\n"
       ]
      },
      {
       "output_type": "stream",
       "stream": "stdout",
       "text": [
        "relative_gap_car is 2.7900328061128826e-8\n",
        "relative_gap_truck is 2.522875583235621e-8\n",
        "l = 7280000------------------------------------------------\n"
       ]
      },
      {
       "output_type": "stream",
       "stream": "stdout",
       "text": [
        "relative_gap_car is 2.3446961449449753e-8\n",
        "relative_gap_truck is 2.923834910959678e-8\n",
        "l = 7290000------------------------------------------------\n"
       ]
      },
      {
       "output_type": "stream",
       "stream": "stdout",
       "text": [
        "relative_gap_car is 1.9849040130708186e-8\n",
        "relative_gap_truck is 3.0664423412294195e-8\n",
        "l = 7300000------------------------------------------------\n"
       ]
      },
      {
       "output_type": "stream",
       "stream": "stdout",
       "text": [
        "relative_gap_car is 1.993409325026492e-8\n",
        "relative_gap_truck is 2.5277175146354748e-8\n",
        "l = 7310000------------------------------------------------\n"
       ]
      },
      {
       "output_type": "stream",
       "stream": "stdout",
       "text": [
        "relative_gap_car is 2.133442632943716e-8\n",
        "relative_gap_truck is 3.11581678318101e-8\n",
        "l = 7320000------------------------------------------------\n"
       ]
      },
      {
       "output_type": "stream",
       "stream": "stdout",
       "text": [
        "relative_gap_car is 1.712852064944159e-8\n",
        "relative_gap_truck is 3.066223277703371e-8\n",
        "l = 7330000------------------------------------------------\n"
       ]
      },
      {
       "output_type": "stream",
       "stream": "stdout",
       "text": [
        "relative_gap_car is 2.6484019183930085e-8\n",
        "relative_gap_truck is 3.616388101932548e-8\n",
        "l = 7340000------------------------------------------------\n"
       ]
      },
      {
       "output_type": "stream",
       "stream": "stdout",
       "text": [
        "relative_gap_car is 2.0091179724958703e-8\n",
        "relative_gap_truck is 2.715153290703579e-8\n",
        "l = 7350000------------------------------------------------\n"
       ]
      },
      {
       "output_type": "stream",
       "stream": "stdout",
       "text": [
        "relative_gap_car is 1.8812369717794515e-8\n",
        "relative_gap_truck is 2.6367410642966596e-8\n",
        "l = 7360000------------------------------------------------\n"
       ]
      },
      {
       "output_type": "stream",
       "stream": "stdout",
       "text": [
        "relative_gap_car is 1.7306433102862125e-8\n",
        "relative_gap_truck is 2.5738191052858502e-8\n",
        "l = 7370000------------------------------------------------\n"
       ]
      },
      {
       "output_type": "stream",
       "stream": "stdout",
       "text": [
        "relative_gap_car is 2.3436196689257902e-8\n",
        "relative_gap_truck is 3.085302479757456e-8\n",
        "l = 7380000------------------------------------------------\n"
       ]
      },
      {
       "output_type": "stream",
       "stream": "stdout",
       "text": [
        "relative_gap_car is 2.4145129422749327e-8\n",
        "relative_gap_truck is 3.071422688729542e-8\n",
        "l = 7390000------------------------------------------------\n"
       ]
      },
      {
       "output_type": "stream",
       "stream": "stdout",
       "text": [
        "relative_gap_car is 2.134855599111142e-8\n",
        "relative_gap_truck is 3.6886742174964014e-8\n",
        "l = 7400000------------------------------------------------\n"
       ]
      },
      {
       "output_type": "stream",
       "stream": "stdout",
       "text": [
        "relative_gap_car is 2.2181608983346082e-8\n",
        "relative_gap_truck is 3.228630334747185e-8\n",
        "l = 7410000------------------------------------------------\n"
       ]
      },
      {
       "output_type": "stream",
       "stream": "stdout",
       "text": [
        "relative_gap_car is 2.2843327704952484e-8\n",
        "relative_gap_truck is 3.254134026866223e-8\n",
        "l = 7420000------------------------------------------------\n"
       ]
      },
      {
       "output_type": "stream",
       "stream": "stdout",
       "text": [
        "relative_gap_car is 2.4359124181221124e-8\n",
        "relative_gap_truck is 3.16365409896829e-8\n",
        "l = 7430000------------------------------------------------\n"
       ]
      },
      {
       "output_type": "stream",
       "stream": "stdout",
       "text": [
        "relative_gap_car is 1.6902374242452022e-8\n",
        "relative_gap_truck is 2.9028017074764282e-8\n",
        "l = 7440000------------------------------------------------\n"
       ]
      },
      {
       "output_type": "stream",
       "stream": "stdout",
       "text": [
        "relative_gap_car is 2.4141194869993694e-8\n",
        "relative_gap_truck is 2.647669333093363e-8\n",
        "l = 7450000------------------------------------------------\n"
       ]
      },
      {
       "output_type": "stream",
       "stream": "stdout",
       "text": [
        "relative_gap_car is 2.2979214213972985e-8\n",
        "relative_gap_truck is 3.2556777158376384e-8\n",
        "l = 7460000------------------------------------------------\n"
       ]
      },
      {
       "output_type": "stream",
       "stream": "stdout",
       "text": [
        "relative_gap_car is 2.202053602868109e-8\n",
        "relative_gap_truck is 2.468868169320324e-8\n",
        "l = 7470000------------------------------------------------\n"
       ]
      },
      {
       "output_type": "stream",
       "stream": "stdout",
       "text": [
        "relative_gap_car is 2.098957071154947e-8\n",
        "relative_gap_truck is 2.8389106221623664e-8\n",
        "l = 7480000------------------------------------------------\n"
       ]
      },
      {
       "output_type": "stream",
       "stream": "stdout",
       "text": [
        "relative_gap_car is 1.9031883240404504e-8\n",
        "relative_gap_truck is 3.0692023095693956e-8\n",
        "l = 7490000------------------------------------------------\n"
       ]
      },
      {
       "output_type": "stream",
       "stream": "stdout",
       "text": [
        "relative_gap_car is 2.8152067856467175e-8\n",
        "relative_gap_truck is 3.38654893212437e-8\n",
        "l = 7500000------------------------------------------------\n"
       ]
      },
      {
       "output_type": "stream",
       "stream": "stdout",
       "text": [
        "relative_gap_car is 1.8549834818898173e-8\n",
        "relative_gap_truck is 2.585359554190334e-8\n",
        "l = 7510000------------------------------------------------\n"
       ]
      },
      {
       "output_type": "stream",
       "stream": "stdout",
       "text": [
        "relative_gap_car is 2.0299841639628766e-8\n",
        "relative_gap_truck is 3.261434721734182e-8\n",
        "l = 7520000------------------------------------------------\n"
       ]
      },
      {
       "output_type": "stream",
       "stream": "stdout",
       "text": [
        "relative_gap_car is 2.6879712413233795e-8\n",
        "relative_gap_truck is 2.7227289520788224e-8\n",
        "l = 7530000------------------------------------------------\n"
       ]
      },
      {
       "output_type": "stream",
       "stream": "stdout",
       "text": [
        "relative_gap_car is 2.375529747661722e-8\n",
        "relative_gap_truck is 2.8479566977912728e-8\n",
        "l = 7540000------------------------------------------------\n"
       ]
      },
      {
       "output_type": "stream",
       "stream": "stdout",
       "text": [
        "relative_gap_car is 2.5008912756936208e-8\n",
        "relative_gap_truck is 3.3765080700196726e-8\n",
        "l = 7550000------------------------------------------------\n"
       ]
      },
      {
       "output_type": "stream",
       "stream": "stdout",
       "text": [
        "relative_gap_car is 1.973819052058459e-8\n",
        "relative_gap_truck is 2.613430401337863e-8\n",
        "l = 7560000------------------------------------------------\n"
       ]
      },
      {
       "output_type": "stream",
       "stream": "stdout",
       "text": [
        "relative_gap_car is 2.872983643684384e-8\n",
        "relative_gap_truck is 3.305905357958761e-8\n",
        "l = 7570000------------------------------------------------\n"
       ]
      },
      {
       "output_type": "stream",
       "stream": "stdout",
       "text": [
        "relative_gap_car is 2.0786136969078002e-8\n",
        "relative_gap_truck is 3.0769373523749984e-8\n",
        "l = 7580000------------------------------------------------\n"
       ]
      },
      {
       "output_type": "stream",
       "stream": "stdout",
       "text": [
        "relative_gap_car is 2.486787178293672e-8\n",
        "relative_gap_truck is 3.131121682585125e-8\n",
        "l = 7590000------------------------------------------------\n"
       ]
      },
      {
       "output_type": "stream",
       "stream": "stdout",
       "text": [
        "relative_gap_car is 2.247944256305449e-8\n",
        "relative_gap_truck is 3.266386618380001e-8\n",
        "l = 7600000------------------------------------------------\n"
       ]
      },
      {
       "output_type": "stream",
       "stream": "stdout",
       "text": [
        "relative_gap_car is 1.6296299088805897e-8\n",
        "relative_gap_truck is 2.6756045419727784e-8\n",
        "l = 7610000------------------------------------------------\n"
       ]
      },
      {
       "output_type": "stream",
       "stream": "stdout",
       "text": [
        "relative_gap_car is 2.4362546587980247e-8\n",
        "relative_gap_truck is 2.981209408533719e-8\n",
        "l = 7620000------------------------------------------------\n"
       ]
      },
      {
       "output_type": "stream",
       "stream": "stdout",
       "text": [
        "relative_gap_car is 2.3613198837262923e-8\n",
        "relative_gap_truck is 2.73355250474252e-8\n",
        "l = 7630000------------------------------------------------\n"
       ]
      },
      {
       "output_type": "stream",
       "stream": "stdout",
       "text": [
        "relative_gap_car is 2.4855165696915518e-8\n",
        "relative_gap_truck is 3.130423299757044e-8\n",
        "l = 7640000------------------------------------------------\n"
       ]
      },
      {
       "output_type": "stream",
       "stream": "stdout",
       "text": [
        "relative_gap_car is 2.1894928130775434e-8\n",
        "relative_gap_truck is 3.4054066700023354e-8\n",
        "l = 7650000------------------------------------------------\n"
       ]
      },
      {
       "output_type": "stream",
       "stream": "stdout",
       "text": [
        "relative_gap_car is 2.5803454956122104e-8\n",
        "relative_gap_truck is 3.2466044030674546e-8\n",
        "l = 7660000------------------------------------------------\n"
       ]
      },
      {
       "output_type": "stream",
       "stream": "stdout",
       "text": [
        "relative_gap_car is 1.6000031671982962e-8\n",
        "relative_gap_truck is 2.7831352538076412e-8\n",
        "l = 7670000------------------------------------------------\n"
       ]
      },
      {
       "output_type": "stream",
       "stream": "stdout",
       "text": [
        "relative_gap_car is 2.0447168747143045e-8\n",
        "relative_gap_truck is 2.734237917199993e-8\n",
        "l = 7680000------------------------------------------------\n"
       ]
      },
      {
       "output_type": "stream",
       "stream": "stdout",
       "text": [
        "relative_gap_car is 2.2384877559431687e-8\n",
        "relative_gap_truck is 2.595568926182829e-8\n",
        "l = 7690000------------------------------------------------\n"
       ]
      },
      {
       "output_type": "stream",
       "stream": "stdout",
       "text": [
        "relative_gap_car is 2.6814415405932534e-8\n",
        "relative_gap_truck is 3.4442493765540834e-8\n",
        "l = 7700000------------------------------------------------\n"
       ]
      },
      {
       "output_type": "stream",
       "stream": "stdout",
       "text": [
        "relative_gap_car is 2.001245854026745e-8\n",
        "relative_gap_truck is 2.9317572677291205e-8\n",
        "l = 7710000------------------------------------------------\n"
       ]
      },
      {
       "output_type": "stream",
       "stream": "stdout",
       "text": [
        "relative_gap_car is 2.1541749772063608e-8\n",
        "relative_gap_truck is 2.7076895294656026e-8\n",
        "l = 7720000------------------------------------------------\n"
       ]
      },
      {
       "output_type": "stream",
       "stream": "stdout",
       "text": [
        "relative_gap_car is 1.97898657650155e-8\n",
        "relative_gap_truck is 2.7482205281585244e-8\n",
        "l = 7730000------------------------------------------------\n"
       ]
      },
      {
       "output_type": "stream",
       "stream": "stdout",
       "text": [
        "relative_gap_car is 3.481694555618986e-8\n",
        "relative_gap_truck is 3.101127675642341e-8\n",
        "l = 7740000------------------------------------------------\n"
       ]
      },
      {
       "output_type": "stream",
       "stream": "stdout",
       "text": [
        "relative_gap_car is 1.9743991938849352e-8\n",
        "relative_gap_truck is 3.243781581964057e-8\n",
        "l = 7750000------------------------------------------------\n"
       ]
      },
      {
       "output_type": "stream",
       "stream": "stdout",
       "text": [
        "relative_gap_car is 2.1331439804238002e-8\n",
        "relative_gap_truck is 2.793945598371088e-8\n",
        "l = 7760000------------------------------------------------\n"
       ]
      },
      {
       "output_type": "stream",
       "stream": "stdout",
       "text": [
        "relative_gap_car is 2.137300347887966e-8\n",
        "relative_gap_truck is 2.9609651986909774e-8\n",
        "l = 7770000------------------------------------------------\n"
       ]
      },
      {
       "output_type": "stream",
       "stream": "stdout",
       "text": [
        "relative_gap_car is 1.843104811263179e-8\n",
        "relative_gap_truck is 2.5567111394611893e-8\n",
        "l = 7780000------------------------------------------------\n"
       ]
      },
      {
       "output_type": "stream",
       "stream": "stdout",
       "text": [
        "relative_gap_car is 2.075348601871334e-8\n",
        "relative_gap_truck is 3.011250247442762e-8\n",
        "l = 7790000------------------------------------------------\n"
       ]
      },
      {
       "output_type": "stream",
       "stream": "stdout",
       "text": [
        "relative_gap_car is 3.066231201136089e-8\n",
        "relative_gap_truck is 2.6571927900688922e-8\n",
        "l = 7800000------------------------------------------------\n"
       ]
      },
      {
       "output_type": "stream",
       "stream": "stdout",
       "text": [
        "relative_gap_car is 2.7337752316645705e-8\n",
        "relative_gap_truck is 3.0219940858350786e-8\n",
        "l = 7810000------------------------------------------------\n"
       ]
      },
      {
       "output_type": "stream",
       "stream": "stdout",
       "text": [
        "relative_gap_car is 2.1491055545723642e-8\n",
        "relative_gap_truck is 2.6382969569283117e-8\n",
        "l = 7820000------------------------------------------------\n"
       ]
      },
      {
       "output_type": "stream",
       "stream": "stdout",
       "text": [
        "relative_gap_car is 2.1236073269915535e-8\n",
        "relative_gap_truck is 3.2059972981685485e-8\n",
        "l = 7830000------------------------------------------------\n"
       ]
      },
      {
       "output_type": "stream",
       "stream": "stdout",
       "text": [
        "relative_gap_car is 2.3589524251554563e-8\n",
        "relative_gap_truck is 2.6189614942774366e-8\n",
        "l = 7840000------------------------------------------------\n"
       ]
      },
      {
       "output_type": "stream",
       "stream": "stdout",
       "text": [
        "relative_gap_car is 2.2467417385067096e-8\n",
        "relative_gap_truck is 2.844252124604874e-8\n",
        "l = 7850000------------------------------------------------\n"
       ]
      },
      {
       "output_type": "stream",
       "stream": "stdout",
       "text": [
        "relative_gap_car is 3.060046035407582e-8\n",
        "relative_gap_truck is 2.967819798614616e-8\n",
        "l = 7860000------------------------------------------------\n"
       ]
      },
      {
       "output_type": "stream",
       "stream": "stdout",
       "text": [
        "relative_gap_car is 2.1411630568188243e-8\n",
        "relative_gap_truck is 2.5340006375522084e-8\n",
        "l = 7870000------------------------------------------------\n"
       ]
      },
      {
       "output_type": "stream",
       "stream": "stdout",
       "text": [
        "relative_gap_car is 2.1742735602754617e-8\n",
        "relative_gap_truck is 2.7842197943796623e-8\n",
        "l = 7880000------------------------------------------------\n"
       ]
      },
      {
       "output_type": "stream",
       "stream": "stdout",
       "text": [
        "relative_gap_car is 2.2763298475126726e-8\n",
        "relative_gap_truck is 2.5269805454674016e-8\n",
        "l = 7890000------------------------------------------------\n"
       ]
      },
      {
       "output_type": "stream",
       "stream": "stdout",
       "text": [
        "relative_gap_car is 2.0450560232859433e-8\n",
        "relative_gap_truck is 2.9835997993683704e-8\n",
        "l = 7900000------------------------------------------------\n"
       ]
      },
      {
       "output_type": "stream",
       "stream": "stdout",
       "text": [
        "relative_gap_car is 1.8460347946380246e-8\n",
        "relative_gap_truck is 2.854482089092649e-8\n",
        "l = 7910000------------------------------------------------\n"
       ]
      },
      {
       "output_type": "stream",
       "stream": "stdout",
       "text": [
        "relative_gap_car is 2.9387593195017985e-8\n",
        "relative_gap_truck is 2.8408627535609303e-8\n",
        "l = 7920000------------------------------------------------\n"
       ]
      },
      {
       "output_type": "stream",
       "stream": "stdout",
       "text": [
        "relative_gap_car is 1.9362985703175573e-8\n",
        "relative_gap_truck is 2.8046449901284408e-8\n",
        "l = 7930000------------------------------------------------\n"
       ]
      },
      {
       "output_type": "stream",
       "stream": "stdout",
       "text": [
        "relative_gap_car is 1.9032116387409294e-8\n",
        "relative_gap_truck is 2.5527233021865863e-8\n",
        "l = 7940000------------------------------------------------\n"
       ]
      },
      {
       "output_type": "stream",
       "stream": "stdout",
       "text": [
        "relative_gap_car is 2.0975626950498017e-8\n",
        "relative_gap_truck is 2.426396737881966e-8\n",
        "l = 7950000------------------------------------------------\n"
       ]
      },
      {
       "output_type": "stream",
       "stream": "stdout",
       "text": [
        "relative_gap_car is 1.6397818841817154e-8\n",
        "relative_gap_truck is 2.4408443471271954e-8\n",
        "l = 7960000------------------------------------------------\n"
       ]
      },
      {
       "output_type": "stream",
       "stream": "stdout",
       "text": [
        "relative_gap_car is 1.9973639400526016e-8\n",
        "relative_gap_truck is 2.797255234239075e-8\n",
        "l = 7970000------------------------------------------------\n"
       ]
      },
      {
       "output_type": "stream",
       "stream": "stdout",
       "text": [
        "relative_gap_car is 1.9029281842795415e-8\n",
        "relative_gap_truck is 2.299918917669702e-8\n",
        "l = 7980000------------------------------------------------\n"
       ]
      },
      {
       "output_type": "stream",
       "stream": "stdout",
       "text": [
        "relative_gap_car is 1.8731912104793378e-8\n",
        "relative_gap_truck is 2.8932601921642137e-8\n",
        "l = 7990000------------------------------------------------\n"
       ]
      },
      {
       "output_type": "stream",
       "stream": "stdout",
       "text": [
        "relative_gap_car is 1.6758084595579872e-8\n",
        "relative_gap_truck is 2.9435364571100866e-8\n",
        "l = 8000000------------------------------------------------\n"
       ]
      },
      {
       "output_type": "stream",
       "stream": "stdout",
       "text": [
        "relative_gap_car is 2.77953411685652e-8\n",
        "relative_gap_truck is 2.4874879485462852e-8\n",
        "l = 8010000------------------------------------------------\n"
       ]
      },
      {
       "output_type": "stream",
       "stream": "stdout",
       "text": [
        "relative_gap_car is 2.6407767801550275e-8\n",
        "relative_gap_truck is 2.4337871552864206e-8\n",
        "l = 8020000------------------------------------------------\n"
       ]
      },
      {
       "output_type": "stream",
       "stream": "stdout",
       "text": [
        "relative_gap_car is 1.9892546654979297e-8\n",
        "relative_gap_truck is 2.5281902513357364e-8\n",
        "l = 8030000------------------------------------------------\n"
       ]
      },
      {
       "output_type": "stream",
       "stream": "stdout",
       "text": [
        "relative_gap_car is 2.57741112751967e-8\n",
        "relative_gap_truck is 2.839245862237111e-8\n",
        "l = 8040000------------------------------------------------\n"
       ]
      },
      {
       "output_type": "stream",
       "stream": "stdout",
       "text": [
        "relative_gap_car is 2.034806975920184e-8\n",
        "relative_gap_truck is 3.394723057524371e-8\n",
        "l = 8050000------------------------------------------------\n"
       ]
      },
      {
       "output_type": "stream",
       "stream": "stdout",
       "text": [
        "relative_gap_car is 1.643210558369594e-8\n",
        "relative_gap_truck is 2.6987470644385856e-8\n",
        "l = 8060000------------------------------------------------\n"
       ]
      },
      {
       "output_type": "stream",
       "stream": "stdout",
       "text": [
        "relative_gap_car is 2.1444284287479145e-8\n",
        "relative_gap_truck is 3.2848141338609665e-8\n",
        "l = 8070000------------------------------------------------\n"
       ]
      },
      {
       "output_type": "stream",
       "stream": "stdout",
       "text": [
        "relative_gap_car is 2.0501483934080764e-8\n",
        "relative_gap_truck is 2.4591176010771008e-8\n",
        "l = 8080000------------------------------------------------\n"
       ]
      },
      {
       "output_type": "stream",
       "stream": "stdout",
       "text": [
        "relative_gap_car is 1.4865738201149475e-8\n",
        "relative_gap_truck is 3.115844470366066e-8\n",
        "l = 8090000------------------------------------------------\n"
       ]
      },
      {
       "output_type": "stream",
       "stream": "stdout",
       "text": [
        "relative_gap_car is 2.080625149765788e-8\n",
        "relative_gap_truck is 3.057282081419556e-8\n",
        "l = 8100000------------------------------------------------\n"
       ]
      },
      {
       "output_type": "stream",
       "stream": "stdout",
       "text": [
        "relative_gap_car is 1.9132753654895746e-8\n",
        "relative_gap_truck is 2.7057426558334773e-8\n",
        "l = 8110000------------------------------------------------\n"
       ]
      },
      {
       "output_type": "stream",
       "stream": "stdout",
       "text": [
        "relative_gap_car is 2.1979346097187583e-8\n",
        "relative_gap_truck is 3.097300541776337e-8\n",
        "l = 8120000------------------------------------------------\n"
       ]
      },
      {
       "output_type": "stream",
       "stream": "stdout",
       "text": [
        "relative_gap_car is 2.6124598887232206e-8\n",
        "relative_gap_truck is 2.8156381740966456e-8\n",
        "l = 8130000------------------------------------------------\n"
       ]
      },
      {
       "output_type": "stream",
       "stream": "stdout",
       "text": [
        "relative_gap_car is 2.5719812229776346e-8\n",
        "relative_gap_truck is 2.6681456394796338e-8\n",
        "l = 8140000------------------------------------------------\n"
       ]
      },
      {
       "output_type": "stream",
       "stream": "stdout",
       "text": [
        "relative_gap_car is 2.2161691404528683e-8\n",
        "relative_gap_truck is 2.635313186232043e-8\n",
        "l = 8150000------------------------------------------------\n"
       ]
      },
      {
       "output_type": "stream",
       "stream": "stdout",
       "text": [
        "relative_gap_car is 2.841079520280676e-8\n",
        "relative_gap_truck is 2.7172951801249988e-8\n",
        "l = 8160000------------------------------------------------\n"
       ]
      },
      {
       "output_type": "stream",
       "stream": "stdout",
       "text": [
        "relative_gap_car is 2.0027872014845385e-8\n",
        "relative_gap_truck is 3.279383022328499e-8\n",
        "l = 8170000------------------------------------------------\n"
       ]
      },
      {
       "output_type": "stream",
       "stream": "stdout",
       "text": [
        "relative_gap_car is 2.1748052374299532e-8\n",
        "relative_gap_truck is 2.5203346986477462e-8\n",
        "l = 8180000------------------------------------------------\n"
       ]
      },
      {
       "output_type": "stream",
       "stream": "stdout",
       "text": [
        "relative_gap_car is 2.2010578068045147e-8\n",
        "relative_gap_truck is 3.006791437319216e-8\n",
        "l = 8190000------------------------------------------------\n"
       ]
      },
      {
       "output_type": "stream",
       "stream": "stdout",
       "text": [
        "relative_gap_car is 2.73414358963865e-8\n",
        "relative_gap_truck is 2.195754635193047e-8\n",
        "l = 8200000------------------------------------------------\n"
       ]
      },
      {
       "output_type": "stream",
       "stream": "stdout",
       "text": [
        "relative_gap_car is 2.2201663694211274e-8\n",
        "relative_gap_truck is 2.742692725852711e-8\n",
        "l = 8210000------------------------------------------------\n"
       ]
      },
      {
       "output_type": "stream",
       "stream": "stdout",
       "text": [
        "relative_gap_car is 2.1885047941392823e-8\n",
        "relative_gap_truck is 2.9371817943694472e-8\n",
        "l = 8220000------------------------------------------------\n"
       ]
      },
      {
       "output_type": "stream",
       "stream": "stdout",
       "text": [
        "relative_gap_car is 2.0647022767540844e-8\n",
        "relative_gap_truck is 2.9019645308190348e-8\n",
        "l = 8230000------------------------------------------------\n"
       ]
      },
      {
       "output_type": "stream",
       "stream": "stdout",
       "text": [
        "relative_gap_car is 2.0753197313541713e-8\n",
        "relative_gap_truck is 2.76724130689844e-8\n",
        "l = 8240000------------------------------------------------\n"
       ]
      },
      {
       "output_type": "stream",
       "stream": "stdout",
       "text": [
        "relative_gap_car is 1.9839132726180486e-8\n",
        "relative_gap_truck is 3.380156046126202e-8\n",
        "l = 8250000------------------------------------------------\n"
       ]
      },
      {
       "output_type": "stream",
       "stream": "stdout",
       "text": [
        "relative_gap_car is 1.9128231877193337e-8\n",
        "relative_gap_truck is 2.267997721776118e-8\n",
        "l = 8260000------------------------------------------------\n"
       ]
      },
      {
       "output_type": "stream",
       "stream": "stdout",
       "text": [
        "relative_gap_car is 1.8065727461329235e-8\n",
        "relative_gap_truck is 2.3433177245506364e-8\n",
        "l = 8270000------------------------------------------------\n"
       ]
      },
      {
       "output_type": "stream",
       "stream": "stdout",
       "text": [
        "relative_gap_car is 1.7779900740704874e-8\n",
        "relative_gap_truck is 2.7700042075681256e-8\n",
        "l = 8280000------------------------------------------------\n"
       ]
      },
      {
       "output_type": "stream",
       "stream": "stdout",
       "text": [
        "relative_gap_car is 1.6300287362250616e-8\n",
        "relative_gap_truck is 2.5520282929630234e-8\n",
        "l = 8290000------------------------------------------------\n"
       ]
      },
      {
       "output_type": "stream",
       "stream": "stdout",
       "text": [
        "relative_gap_car is 1.7025204349005994e-8\n",
        "relative_gap_truck is 2.756584808651138e-8\n",
        "l = 8300000------------------------------------------------\n"
       ]
      },
      {
       "output_type": "stream",
       "stream": "stdout",
       "text": [
        "relative_gap_car is 1.8040470638203766e-8\n",
        "relative_gap_truck is 2.7290675672231286e-8\n",
        "l = 8310000------------------------------------------------\n"
       ]
      },
      {
       "output_type": "stream",
       "stream": "stdout",
       "text": [
        "relative_gap_car is 1.7630617071900823e-8\n",
        "relative_gap_truck is 2.3449066681376677e-8\n",
        "l = 8320000------------------------------------------------\n"
       ]
      },
      {
       "output_type": "stream",
       "stream": "stdout",
       "text": [
        "relative_gap_car is 2.2034094663682625e-8\n",
        "relative_gap_truck is 2.805654014023707e-8\n",
        "l = 8330000------------------------------------------------\n"
       ]
      },
      {
       "output_type": "stream",
       "stream": "stdout",
       "text": [
        "relative_gap_car is 1.9378589981959693e-8\n",
        "relative_gap_truck is 2.705365312398863e-8\n",
        "l = 8340000------------------------------------------------\n"
       ]
      },
      {
       "output_type": "stream",
       "stream": "stdout",
       "text": [
        "relative_gap_car is 2.114403211116885e-8\n",
        "relative_gap_truck is 3.1346652665544734e-8\n",
        "l = 8350000------------------------------------------------\n"
       ]
      },
      {
       "output_type": "stream",
       "stream": "stdout",
       "text": [
        "relative_gap_car is 2.394010732558621e-8\n",
        "relative_gap_truck is 2.7896284121459365e-8\n",
        "l = 8360000------------------------------------------------\n"
       ]
      },
      {
       "output_type": "stream",
       "stream": "stdout",
       "text": [
        "relative_gap_car is 2.3508876594549263e-8\n",
        "relative_gap_truck is 2.271739085368389e-8\n",
        "l = 8370000------------------------------------------------\n"
       ]
      },
      {
       "output_type": "stream",
       "stream": "stdout",
       "text": [
        "relative_gap_car is 2.2124038625177577e-8\n",
        "relative_gap_truck is 2.5941859602591722e-8\n",
        "l = 8380000------------------------------------------------\n"
       ]
      },
      {
       "output_type": "stream",
       "stream": "stdout",
       "text": [
        "relative_gap_car is 1.947879290157982e-8\n",
        "relative_gap_truck is 2.251665090598336e-8\n",
        "l = 8390000------------------------------------------------\n"
       ]
      },
      {
       "output_type": "stream",
       "stream": "stdout",
       "text": [
        "relative_gap_car is 2.1547547960429255e-8\n",
        "relative_gap_truck is 2.5611360023180895e-8\n",
        "l = 8400000------------------------------------------------\n"
       ]
      },
      {
       "output_type": "stream",
       "stream": "stdout",
       "text": [
        "relative_gap_car is 2.184413560863757e-8\n",
        "relative_gap_truck is 3.049047540927333e-8\n",
        "l = 8410000------------------------------------------------\n"
       ]
      },
      {
       "output_type": "stream",
       "stream": "stdout",
       "text": [
        "relative_gap_car is 2.4208418228977594e-8\n",
        "relative_gap_truck is 3.0751547933015474e-8\n",
        "l = 8420000------------------------------------------------\n"
       ]
      },
      {
       "output_type": "stream",
       "stream": "stdout",
       "text": [
        "relative_gap_car is 2.4113986893374817e-8\n",
        "relative_gap_truck is 2.2278119957806355e-8\n",
        "l = 8430000------------------------------------------------\n"
       ]
      },
      {
       "output_type": "stream",
       "stream": "stdout",
       "text": [
        "relative_gap_car is 1.909768938870651e-8\n",
        "relative_gap_truck is 2.9118578553032674e-8\n",
        "l = 8440000------------------------------------------------\n"
       ]
      },
      {
       "output_type": "stream",
       "stream": "stdout",
       "text": [
        "relative_gap_car is 1.830654200030895e-8\n",
        "relative_gap_truck is 2.698016538862858e-8\n",
        "l = 8450000------------------------------------------------\n"
       ]
      },
      {
       "output_type": "stream",
       "stream": "stdout",
       "text": [
        "relative_gap_car is 1.9117113888858794e-8\n",
        "relative_gap_truck is 3.098642721582166e-8\n",
        "l = 8460000------------------------------------------------\n"
       ]
      },
      {
       "output_type": "stream",
       "stream": "stdout",
       "text": [
        "relative_gap_car is 2.430801793998782e-8\n",
        "relative_gap_truck is 2.2829786174192046e-8\n",
        "l = 8470000------------------------------------------------\n"
       ]
      },
      {
       "output_type": "stream",
       "stream": "stdout",
       "text": [
        "relative_gap_car is 2.918206769959095e-8\n",
        "relative_gap_truck is 2.7104537143485192e-8\n",
        "l = 8480000------------------------------------------------\n"
       ]
      },
      {
       "output_type": "stream",
       "stream": "stdout",
       "text": [
        "relative_gap_car is 1.9466136029791033e-8\n",
        "relative_gap_truck is 2.7840978100914057e-8\n",
        "l = 8490000------------------------------------------------\n"
       ]
      },
      {
       "output_type": "stream",
       "stream": "stdout",
       "text": [
        "relative_gap_car is 2.2165481575469792e-8\n",
        "relative_gap_truck is 2.5711473226882e-8\n",
        "l = 8500000------------------------------------------------\n"
       ]
      },
      {
       "output_type": "stream",
       "stream": "stdout",
       "text": [
        "relative_gap_car is 2.0393667952065126e-8\n",
        "relative_gap_truck is 2.49753986812946e-8\n",
        "l = 8510000------------------------------------------------\n"
       ]
      },
      {
       "output_type": "stream",
       "stream": "stdout",
       "text": [
        "relative_gap_car is 1.8809441146861945e-8\n",
        "relative_gap_truck is 2.9156997526335606e-8\n",
        "l = 8520000------------------------------------------------\n"
       ]
      },
      {
       "output_type": "stream",
       "stream": "stdout",
       "text": [
        "relative_gap_car is 2.4244900897810747e-8\n",
        "relative_gap_truck is 2.2852515777840146e-8\n",
        "l = 8530000------------------------------------------------\n"
       ]
      },
      {
       "output_type": "stream",
       "stream": "stdout",
       "text": [
        "relative_gap_car is 2.1074336220054612e-8\n",
        "relative_gap_truck is 2.8237036512927268e-8\n",
        "l = 8540000------------------------------------------------\n"
       ]
      },
      {
       "output_type": "stream",
       "stream": "stdout",
       "text": [
        "relative_gap_car is 2.436197620739982e-8\n",
        "relative_gap_truck is 3.1619184762419086e-8\n",
        "l = 8550000------------------------------------------------\n"
       ]
      },
      {
       "output_type": "stream",
       "stream": "stdout",
       "text": [
        "relative_gap_car is 2.1036125324438273e-8\n",
        "relative_gap_truck is 2.117705614065015e-8\n",
        "l = 8560000------------------------------------------------\n"
       ]
      },
      {
       "output_type": "stream",
       "stream": "stdout",
       "text": [
        "relative_gap_car is 2.157370280160591e-8\n",
        "relative_gap_truck is 2.394920059597477e-8\n",
        "l = 8570000------------------------------------------------\n"
       ]
      },
      {
       "output_type": "stream",
       "stream": "stdout",
       "text": [
        "relative_gap_car is 1.5219330619982958e-8\n",
        "relative_gap_truck is 2.9029026750477957e-8\n",
        "l = 8580000------------------------------------------------\n"
       ]
      },
      {
       "output_type": "stream",
       "stream": "stdout",
       "text": [
        "relative_gap_car is 2.4271994783688573e-8\n",
        "relative_gap_truck is 2.6915522767372107e-8\n",
        "l = 8590000------------------------------------------------\n"
       ]
      },
      {
       "output_type": "stream",
       "stream": "stdout",
       "text": [
        "relative_gap_car is 1.593644943875227e-8\n",
        "relative_gap_truck is 2.3997365799667888e-8\n",
        "l = 8600000------------------------------------------------\n"
       ]
      },
      {
       "output_type": "stream",
       "stream": "stdout",
       "text": [
        "relative_gap_car is 2.0607281289536188e-8\n",
        "relative_gap_truck is 2.7567917476865678e-8\n",
        "l = 8610000------------------------------------------------\n"
       ]
      },
      {
       "output_type": "stream",
       "stream": "stdout",
       "text": [
        "relative_gap_car is 2.0598460363106502e-8\n",
        "relative_gap_truck is 2.9160402050117805e-8\n",
        "l = 8620000------------------------------------------------\n"
       ]
      },
      {
       "output_type": "stream",
       "stream": "stdout",
       "text": [
        "relative_gap_car is 1.8788291790264196e-8\n",
        "relative_gap_truck is 2.403257434067775e-8\n",
        "l = 8630000------------------------------------------------\n"
       ]
      },
      {
       "output_type": "stream",
       "stream": "stdout",
       "text": [
        "relative_gap_car is 2.0521819836664042e-8\n",
        "relative_gap_truck is 2.210621254402784e-8\n",
        "l = 8640000------------------------------------------------\n"
       ]
      },
      {
       "output_type": "stream",
       "stream": "stdout",
       "text": [
        "relative_gap_car is 2.408739647003364e-8\n",
        "relative_gap_truck is 2.6446451305838443e-8\n",
        "l = 8650000------------------------------------------------\n"
       ]
      },
      {
       "output_type": "stream",
       "stream": "stdout",
       "text": [
        "relative_gap_car is 2.423235311428833e-8\n",
        "relative_gap_truck is 2.428918632976161e-8\n",
        "l = 8660000------------------------------------------------\n"
       ]
      },
      {
       "output_type": "stream",
       "stream": "stdout",
       "text": [
        "relative_gap_car is 2.2777796796219386e-8\n",
        "relative_gap_truck is 2.34202705881207e-8\n",
        "l = 8670000------------------------------------------------\n"
       ]
      },
      {
       "output_type": "stream",
       "stream": "stdout",
       "text": [
        "relative_gap_car is 1.8635865289512403e-8\n",
        "relative_gap_truck is 2.859720714693832e-8\n",
        "l = 8680000------------------------------------------------\n"
       ]
      },
      {
       "output_type": "stream",
       "stream": "stdout",
       "text": [
        "relative_gap_car is 2.0414518906327308e-8\n",
        "relative_gap_truck is 2.4095311570572343e-8\n",
        "l = 8690000------------------------------------------------\n"
       ]
      },
      {
       "output_type": "stream",
       "stream": "stdout",
       "text": [
        "relative_gap_car is 1.6643652235554246e-8\n",
        "relative_gap_truck is 2.3809814513697547e-8\n",
        "l = 8700000------------------------------------------------\n"
       ]
      },
      {
       "output_type": "stream",
       "stream": "stdout",
       "text": [
        "relative_gap_car is 2.1405001505687122e-8\n",
        "relative_gap_truck is 2.4858533014540708e-8\n",
        "l = 8710000------------------------------------------------\n"
       ]
      },
      {
       "output_type": "stream",
       "stream": "stdout",
       "text": [
        "relative_gap_car is 2.4474994011068574e-8\n",
        "relative_gap_truck is 2.3977292872538103e-8\n",
        "l = 8720000------------------------------------------------\n"
       ]
      },
      {
       "output_type": "stream",
       "stream": "stdout",
       "text": [
        "relative_gap_car is 2.1268276715621252e-8\n",
        "relative_gap_truck is 2.712102796670008e-8\n",
        "l = 8730000------------------------------------------------\n"
       ]
      },
      {
       "output_type": "stream",
       "stream": "stdout",
       "text": [
        "relative_gap_car is 2.383659861059009e-8\n",
        "relative_gap_truck is 3.005970234668105e-8\n",
        "l = 8740000------------------------------------------------\n"
       ]
      },
      {
       "output_type": "stream",
       "stream": "stdout",
       "text": [
        "relative_gap_car is 1.710726377819358e-8\n",
        "relative_gap_truck is 2.3731861439317002e-8\n",
        "l = 8750000------------------------------------------------\n"
       ]
      },
      {
       "output_type": "stream",
       "stream": "stdout",
       "text": [
        "relative_gap_car is 2.3276192340583426e-8\n",
        "relative_gap_truck is 2.5597298163906837e-8\n",
        "l = 8760000------------------------------------------------\n"
       ]
      },
      {
       "output_type": "stream",
       "stream": "stdout",
       "text": [
        "relative_gap_car is 1.8420530679553277e-8\n",
        "relative_gap_truck is 2.5271140282137854e-8\n",
        "l = 8770000------------------------------------------------\n"
       ]
      },
      {
       "output_type": "stream",
       "stream": "stdout",
       "text": [
        "relative_gap_car is 2.0021590012152935e-8\n",
        "relative_gap_truck is 2.4171751599242326e-8\n",
        "l = 8780000------------------------------------------------\n"
       ]
      },
      {
       "output_type": "stream",
       "stream": "stdout",
       "text": [
        "relative_gap_car is 1.9599546022916325e-8\n",
        "relative_gap_truck is 2.8065303320966728e-8\n",
        "l = 8790000------------------------------------------------\n"
       ]
      },
      {
       "output_type": "stream",
       "stream": "stdout",
       "text": [
        "relative_gap_car is 2.2930321505825286e-8\n",
        "relative_gap_truck is 2.678435839041728e-8\n",
        "l = 8800000------------------------------------------------\n"
       ]
      },
      {
       "output_type": "stream",
       "stream": "stdout",
       "text": [
        "relative_gap_car is 1.5538599042749203e-8\n",
        "relative_gap_truck is 2.0976205128490333e-8\n",
        "l = 8810000------------------------------------------------\n"
       ]
      },
      {
       "output_type": "stream",
       "stream": "stdout",
       "text": [
        "relative_gap_car is 1.8609317331414e-8\n",
        "relative_gap_truck is 2.6949094029814046e-8\n",
        "l = 8820000------------------------------------------------\n"
       ]
      },
      {
       "output_type": "stream",
       "stream": "stdout",
       "text": [
        "relative_gap_car is 1.797878834538838e-8\n",
        "relative_gap_truck is 2.6345893779472672e-8\n",
        "l = 8830000------------------------------------------------\n"
       ]
      },
      {
       "output_type": "stream",
       "stream": "stdout",
       "text": [
        "relative_gap_car is 1.969939466341386e-8\n",
        "relative_gap_truck is 2.4068086475398064e-8\n",
        "l = 8840000------------------------------------------------\n"
       ]
      },
      {
       "output_type": "stream",
       "stream": "stdout",
       "text": [
        "relative_gap_car is 1.857383716271582e-8\n",
        "relative_gap_truck is 2.490296528666784e-8\n",
        "l = 8850000------------------------------------------------\n"
       ]
      },
      {
       "output_type": "stream",
       "stream": "stdout",
       "text": [
        "relative_gap_car is 1.8198888793998587e-8\n",
        "relative_gap_truck is 2.9260795307815178e-8\n",
        "l = 8860000------------------------------------------------\n"
       ]
      },
      {
       "output_type": "stream",
       "stream": "stdout",
       "text": [
        "relative_gap_car is 1.9458362984786687e-8\n",
        "relative_gap_truck is 2.9614992803673038e-8\n",
        "l = 8870000------------------------------------------------\n"
       ]
      },
      {
       "output_type": "stream",
       "stream": "stdout",
       "text": [
        "relative_gap_car is 2.0313810739126358e-8\n",
        "relative_gap_truck is 3.380619133245676e-8\n",
        "l = 8880000------------------------------------------------\n"
       ]
      },
      {
       "output_type": "stream",
       "stream": "stdout",
       "text": [
        "relative_gap_car is 2.1668325933520964e-8\n",
        "relative_gap_truck is 2.3721056620724215e-8\n",
        "l = 8890000------------------------------------------------\n"
       ]
      },
      {
       "output_type": "stream",
       "stream": "stdout",
       "text": [
        "relative_gap_car is 1.8864045585174363e-8\n",
        "relative_gap_truck is 2.0795537794638045e-8\n",
        "l = 8900000------------------------------------------------\n"
       ]
      },
      {
       "output_type": "stream",
       "stream": "stdout",
       "text": [
        "relative_gap_car is 1.4539921350929571e-8\n",
        "relative_gap_truck is 2.5862004045679535e-8\n",
        "l = 8910000------------------------------------------------\n"
       ]
      },
      {
       "output_type": "stream",
       "stream": "stdout",
       "text": [
        "relative_gap_car is 1.9104604058357272e-8\n",
        "relative_gap_truck is 2.256687135029079e-8\n",
        "l = 8920000------------------------------------------------\n"
       ]
      },
      {
       "output_type": "stream",
       "stream": "stdout",
       "text": [
        "relative_gap_car is 2.002725039070222e-8\n",
        "relative_gap_truck is 2.870341599797274e-8\n",
        "l = 8930000------------------------------------------------\n"
       ]
      },
      {
       "output_type": "stream",
       "stream": "stdout",
       "text": [
        "relative_gap_car is 2.0808500318663507e-8\n",
        "relative_gap_truck is 2.614332595826973e-8\n",
        "l = 8940000------------------------------------------------\n"
       ]
      },
      {
       "output_type": "stream",
       "stream": "stdout",
       "text": [
        "relative_gap_car is 1.9873237728347764e-8\n",
        "relative_gap_truck is 2.8502624859126407e-8\n",
        "l = 8950000------------------------------------------------\n"
       ]
      },
      {
       "output_type": "stream",
       "stream": "stdout",
       "text": [
        "relative_gap_car is 2.0821664211497508e-8\n",
        "relative_gap_truck is 2.184966353057568e-8\n",
        "l = 8960000------------------------------------------------\n"
       ]
      },
      {
       "output_type": "stream",
       "stream": "stdout",
       "text": [
        "relative_gap_car is 1.734202856748898e-8\n",
        "relative_gap_truck is 2.45878140056133e-8\n",
        "l = 8970000------------------------------------------------\n"
       ]
      },
      {
       "output_type": "stream",
       "stream": "stdout",
       "text": [
        "relative_gap_car is 2.29088561889396e-8\n",
        "relative_gap_truck is 2.199328282719794e-8\n",
        "l = 8980000------------------------------------------------\n"
       ]
      },
      {
       "output_type": "stream",
       "stream": "stdout",
       "text": [
        "relative_gap_car is 1.6867793171166955e-8\n",
        "relative_gap_truck is 2.3193575342803802e-8\n",
        "l = 8990000------------------------------------------------\n"
       ]
      },
      {
       "output_type": "stream",
       "stream": "stdout",
       "text": [
        "relative_gap_car is 1.8937931086289624e-8\n",
        "relative_gap_truck is 2.2927969900406265e-8\n",
        "l = 9000000------------------------------------------------\n"
       ]
      },
      {
       "output_type": "stream",
       "stream": "stdout",
       "text": [
        "relative_gap_car is 2.1268438562352823e-8\n",
        "relative_gap_truck is 1.902194858942786e-8\n",
        "l = 9010000------------------------------------------------\n"
       ]
      },
      {
       "output_type": "stream",
       "stream": "stdout",
       "text": [
        "relative_gap_car is 2.2822059980607204e-8\n",
        "relative_gap_truck is 2.5397867883057173e-8\n",
        "l = 9020000------------------------------------------------\n"
       ]
      },
      {
       "output_type": "stream",
       "stream": "stdout",
       "text": [
        "relative_gap_car is 2.2621220951596486e-8\n",
        "relative_gap_truck is 2.4548049982421914e-8\n",
        "l = 9030000------------------------------------------------\n"
       ]
      },
      {
       "output_type": "stream",
       "stream": "stdout",
       "text": [
        "relative_gap_car is 1.982015100715208e-8\n",
        "relative_gap_truck is 2.2281194536039178e-8\n",
        "l = 9040000------------------------------------------------\n"
       ]
      },
      {
       "output_type": "stream",
       "stream": "stdout",
       "text": [
        "relative_gap_car is 1.5139534046888113e-8\n",
        "relative_gap_truck is 2.168912959712343e-8\n",
        "l = 9050000------------------------------------------------\n"
       ]
      },
      {
       "output_type": "stream",
       "stream": "stdout",
       "text": [
        "relative_gap_car is 1.5142216652079173e-8\n",
        "relative_gap_truck is 2.1059597989571025e-8\n",
        "l = 9060000------------------------------------------------\n"
       ]
      },
      {
       "output_type": "stream",
       "stream": "stdout",
       "text": [
        "relative_gap_car is 2.0839752395678227e-8\n",
        "relative_gap_truck is 2.8510557504295234e-8\n",
        "l = 9070000------------------------------------------------\n"
       ]
      },
      {
       "output_type": "stream",
       "stream": "stdout",
       "text": [
        "relative_gap_car is 2.1980968409207268e-8\n",
        "relative_gap_truck is 2.433023414386367e-8\n",
        "l = 9080000------------------------------------------------\n"
       ]
      },
      {
       "output_type": "stream",
       "stream": "stdout",
       "text": [
        "relative_gap_car is 1.3961327580859779e-8\n",
        "relative_gap_truck is 2.3019293595023543e-8\n",
        "l = 9090000------------------------------------------------\n"
       ]
      },
      {
       "output_type": "stream",
       "stream": "stdout",
       "text": [
        "relative_gap_car is 1.988018311297088e-8\n",
        "relative_gap_truck is 2.4551475211055962e-8\n",
        "l = 9100000------------------------------------------------\n"
       ]
      },
      {
       "output_type": "stream",
       "stream": "stdout",
       "text": [
        "relative_gap_car is 2.081341673930033e-8\n",
        "relative_gap_truck is 3.0376380869269834e-8\n",
        "l = 9110000------------------------------------------------\n"
       ]
      },
      {
       "output_type": "stream",
       "stream": "stdout",
       "text": [
        "relative_gap_car is 2.0467100520886884e-8\n",
        "relative_gap_truck is 2.9109133649389484e-8\n",
        "l = 9120000------------------------------------------------\n"
       ]
      },
      {
       "output_type": "stream",
       "stream": "stdout",
       "text": [
        "relative_gap_car is 1.991328743863105e-8\n",
        "relative_gap_truck is 2.591197430410176e-8\n",
        "l = 9130000------------------------------------------------\n"
       ]
      },
      {
       "output_type": "stream",
       "stream": "stdout",
       "text": [
        "relative_gap_car is 1.9877865441931497e-8\n",
        "relative_gap_truck is 2.055548380828694e-8\n",
        "l = 9140000------------------------------------------------\n"
       ]
      },
      {
       "output_type": "stream",
       "stream": "stdout",
       "text": [
        "relative_gap_car is 1.7187781188629176e-8\n",
        "relative_gap_truck is 2.160470203149366e-8\n",
        "l = 9150000------------------------------------------------\n"
       ]
      },
      {
       "output_type": "stream",
       "stream": "stdout",
       "text": [
        "relative_gap_car is 2.0278747620418114e-8\n",
        "relative_gap_truck is 1.9168354619386527e-8\n",
        "l = 9160000------------------------------------------------\n"
       ]
      },
      {
       "output_type": "stream",
       "stream": "stdout",
       "text": [
        "relative_gap_car is 1.4098018459350197e-8\n",
        "relative_gap_truck is 2.1982821239937443e-8\n",
        "l = 9170000------------------------------------------------\n"
       ]
      },
      {
       "output_type": "stream",
       "stream": "stdout",
       "text": [
        "relative_gap_car is 1.679669618737614e-8\n",
        "relative_gap_truck is 1.9855330134069845e-8\n",
        "l = 9180000------------------------------------------------\n"
       ]
      },
      {
       "output_type": "stream",
       "stream": "stdout",
       "text": [
        "relative_gap_car is 1.5379801036295483e-8\n",
        "relative_gap_truck is 2.35454828211031e-8\n",
        "l = 9190000------------------------------------------------\n"
       ]
      },
      {
       "output_type": "stream",
       "stream": "stdout",
       "text": [
        "relative_gap_car is 1.7874869722769926e-8\n",
        "relative_gap_truck is 2.3644089787266294e-8\n",
        "l = 9200000------------------------------------------------\n"
       ]
      },
      {
       "output_type": "stream",
       "stream": "stdout",
       "text": [
        "relative_gap_car is 2.2579503882487822e-8\n",
        "relative_gap_truck is 2.3284806857299692e-8\n",
        "l = 9210000------------------------------------------------\n"
       ]
      },
      {
       "output_type": "stream",
       "stream": "stdout",
       "text": [
        "relative_gap_car is 1.663420915420004e-8\n",
        "relative_gap_truck is 2.2819483469194908e-8\n",
        "l = 9220000------------------------------------------------\n"
       ]
      },
      {
       "output_type": "stream",
       "stream": "stdout",
       "text": [
        "relative_gap_car is 1.8862327433326762e-8\n",
        "relative_gap_truck is 2.1618448775099577e-8\n",
        "l = 9230000------------------------------------------------\n"
       ]
      },
      {
       "output_type": "stream",
       "stream": "stdout",
       "text": [
        "relative_gap_car is 2.4423475929701883e-8\n",
        "relative_gap_truck is 2.4987987544736855e-8\n",
        "l = 9240000------------------------------------------------\n"
       ]
      },
      {
       "output_type": "stream",
       "stream": "stdout",
       "text": [
        "relative_gap_car is 1.9250695586569363e-8\n",
        "relative_gap_truck is 2.5739848051194948e-8\n",
        "l = 9250000------------------------------------------------\n"
       ]
      },
      {
       "output_type": "stream",
       "stream": "stdout",
       "text": [
        "relative_gap_car is 1.5858142273377784e-8\n",
        "relative_gap_truck is 2.1052361296059847e-8\n",
        "l = 9260000------------------------------------------------\n"
       ]
      },
      {
       "output_type": "stream",
       "stream": "stdout",
       "text": [
        "relative_gap_car is 1.9717365397453943e-8\n",
        "relative_gap_truck is 2.7843481096774647e-8\n",
        "l = 9270000------------------------------------------------\n"
       ]
      },
      {
       "output_type": "stream",
       "stream": "stdout",
       "text": [
        "relative_gap_car is 2.023564989117726e-8\n",
        "relative_gap_truck is 2.44223645961967e-8\n",
        "l = 9280000------------------------------------------------\n"
       ]
      },
      {
       "output_type": "stream",
       "stream": "stdout",
       "text": [
        "relative_gap_car is 1.7477937914090622e-8\n",
        "relative_gap_truck is 2.435001470654947e-8\n",
        "l = 9290000------------------------------------------------\n"
       ]
      },
      {
       "output_type": "stream",
       "stream": "stdout",
       "text": [
        "relative_gap_car is 1.5044874379967803e-8\n",
        "relative_gap_truck is 2.7074248952341937e-8\n",
        "l = 9300000------------------------------------------------\n"
       ]
      },
      {
       "output_type": "stream",
       "stream": "stdout",
       "text": [
        "relative_gap_car is 1.4036467684695059e-8\n",
        "relative_gap_truck is 2.7666366027964116e-8\n",
        "l = 9310000------------------------------------------------\n"
       ]
      },
      {
       "output_type": "stream",
       "stream": "stdout",
       "text": [
        "relative_gap_car is 1.9882490675166276e-8\n",
        "relative_gap_truck is 2.299123201135737e-8\n",
        "l = 9320000------------------------------------------------\n"
       ]
      },
      {
       "output_type": "stream",
       "stream": "stdout",
       "text": [
        "relative_gap_car is 1.911766155456744e-8\n",
        "relative_gap_truck is 2.0761151464435426e-8\n",
        "l = 9330000------------------------------------------------\n"
       ]
      },
      {
       "output_type": "stream",
       "stream": "stdout",
       "text": [
        "relative_gap_car is 2.1028548553209242e-8\n",
        "relative_gap_truck is 2.8285742202215686e-8\n",
        "l = 9340000------------------------------------------------\n"
       ]
      },
      {
       "output_type": "stream",
       "stream": "stdout",
       "text": [
        "relative_gap_car is 1.9984873304216564e-8\n",
        "relative_gap_truck is 2.5129550224365763e-8\n",
        "l = 9350000------------------------------------------------\n"
       ]
      },
      {
       "output_type": "stream",
       "stream": "stdout",
       "text": [
        "relative_gap_car is 1.7217942193898855e-8\n",
        "relative_gap_truck is 1.9375651811673715e-8\n",
        "l = 9360000------------------------------------------------\n"
       ]
      },
      {
       "output_type": "stream",
       "stream": "stdout",
       "text": [
        "relative_gap_car is 2.6701914478895576e-8\n",
        "relative_gap_truck is 2.699192860081153e-8\n",
        "l = 9370000------------------------------------------------\n"
       ]
      },
      {
       "output_type": "stream",
       "stream": "stdout",
       "text": [
        "relative_gap_car is 1.7296564429872102e-8\n",
        "relative_gap_truck is 2.7525682199528496e-8\n",
        "l = 9380000------------------------------------------------\n"
       ]
      },
      {
       "output_type": "stream",
       "stream": "stdout",
       "text": [
        "relative_gap_car is 2.172429800019202e-8\n",
        "relative_gap_truck is 2.6839722371353837e-8\n",
        "l = 9390000------------------------------------------------\n"
       ]
      },
      {
       "output_type": "stream",
       "stream": "stdout",
       "text": [
        "relative_gap_car is 2.413667773946134e-8\n",
        "relative_gap_truck is 2.7457911458430703e-8\n",
        "l = 9400000------------------------------------------------\n"
       ]
      },
      {
       "output_type": "stream",
       "stream": "stdout",
       "text": [
        "relative_gap_car is 2.028581505693514e-8\n",
        "relative_gap_truck is 2.026730514314747e-8\n",
        "l = 9410000------------------------------------------------\n"
       ]
      },
      {
       "output_type": "stream",
       "stream": "stdout",
       "text": [
        "relative_gap_car is 1.4641835629109336e-8\n",
        "relative_gap_truck is 2.077567200462623e-8\n",
        "l = 9420000------------------------------------------------\n"
       ]
      },
      {
       "output_type": "stream",
       "stream": "stdout",
       "text": [
        "relative_gap_car is 1.5068587957352905e-8\n",
        "relative_gap_truck is 2.7331274951363242e-8\n",
        "l = 9430000------------------------------------------------\n"
       ]
      },
      {
       "output_type": "stream",
       "stream": "stdout",
       "text": [
        "relative_gap_car is 1.7469807176895815e-8\n",
        "relative_gap_truck is 2.082542133376959e-8\n",
        "l = 9440000------------------------------------------------\n"
       ]
      },
      {
       "output_type": "stream",
       "stream": "stdout",
       "text": [
        "relative_gap_car is 1.3253904515413383e-8\n",
        "relative_gap_truck is 1.7348544564950957e-8\n",
        "l = 9450000------------------------------------------------\n"
       ]
      },
      {
       "output_type": "stream",
       "stream": "stdout",
       "text": [
        "relative_gap_car is 2.1903864289609586e-8\n",
        "relative_gap_truck is 2.4924743359620723e-8\n",
        "l = 9460000------------------------------------------------\n"
       ]
      },
      {
       "output_type": "stream",
       "stream": "stdout",
       "text": [
        "relative_gap_car is 2.7824081051962792e-8\n",
        "relative_gap_truck is 2.253292446058964e-8\n",
        "l = 9470000------------------------------------------------\n"
       ]
      },
      {
       "output_type": "stream",
       "stream": "stdout",
       "text": [
        "relative_gap_car is 1.7981549065943735e-8\n",
        "relative_gap_truck is 2.7569861570384347e-8\n",
        "l = 9480000------------------------------------------------\n"
       ]
      },
      {
       "output_type": "stream",
       "stream": "stdout",
       "text": [
        "relative_gap_car is 1.632550270969733e-8\n",
        "relative_gap_truck is 2.106523431361878e-8\n",
        "l = 9490000------------------------------------------------\n"
       ]
      },
      {
       "output_type": "stream",
       "stream": "stdout",
       "text": [
        "relative_gap_car is 1.449705194084333e-8\n",
        "relative_gap_truck is 1.9791677249884158e-8\n",
        "l = 9500000------------------------------------------------\n"
       ]
      },
      {
       "output_type": "stream",
       "stream": "stdout",
       "text": [
        "relative_gap_car is 1.639419473887236e-8\n",
        "relative_gap_truck is 1.990201117687926e-8\n",
        "l = 9510000------------------------------------------------\n"
       ]
      },
      {
       "output_type": "stream",
       "stream": "stdout",
       "text": [
        "relative_gap_car is 1.7639140197101557e-8\n",
        "relative_gap_truck is 2.4311810435675223e-8\n",
        "l = 9520000------------------------------------------------\n"
       ]
      },
      {
       "output_type": "stream",
       "stream": "stdout",
       "text": [
        "relative_gap_car is 2.1872380252363306e-8\n",
        "relative_gap_truck is 2.7823348088172185e-8\n",
        "l = 9530000------------------------------------------------\n"
       ]
      },
      {
       "output_type": "stream",
       "stream": "stdout",
       "text": [
        "relative_gap_car is 1.9993741218184134e-8\n",
        "relative_gap_truck is 2.3687132320700625e-8\n",
        "l = 9540000------------------------------------------------\n"
       ]
      },
      {
       "output_type": "stream",
       "stream": "stdout",
       "text": [
        "relative_gap_car is 1.686417296481301e-8\n",
        "relative_gap_truck is 2.2139289595860653e-8\n",
        "l = 9550000------------------------------------------------\n"
       ]
      },
      {
       "output_type": "stream",
       "stream": "stdout",
       "text": [
        "relative_gap_car is 1.5479469161453794e-8\n",
        "relative_gap_truck is 1.8531293757738327e-8\n",
        "l = 9560000------------------------------------------------\n"
       ]
      },
      {
       "output_type": "stream",
       "stream": "stdout",
       "text": [
        "relative_gap_car is 1.560531140167682e-8\n",
        "relative_gap_truck is 2.7341899613420058e-8\n",
        "l = 9570000------------------------------------------------\n"
       ]
      },
      {
       "output_type": "stream",
       "stream": "stdout",
       "text": [
        "relative_gap_car is 1.6150685361629288e-8\n",
        "relative_gap_truck is 1.946121198357814e-8\n",
        "l = 9580000------------------------------------------------\n"
       ]
      },
      {
       "output_type": "stream",
       "stream": "stdout",
       "text": [
        "relative_gap_car is 1.3332353438395691e-8\n",
        "relative_gap_truck is 2.411543115062895e-8\n",
        "l = 9590000------------------------------------------------\n"
       ]
      },
      {
       "output_type": "stream",
       "stream": "stdout",
       "text": [
        "relative_gap_car is 1.6546788628830928e-8\n",
        "relative_gap_truck is 2.729276828910521e-8\n",
        "l = 9600000------------------------------------------------\n"
       ]
      },
      {
       "output_type": "stream",
       "stream": "stdout",
       "text": [
        "relative_gap_car is 1.3451166191940836e-8\n",
        "relative_gap_truck is 2.1130195857502364e-8\n",
        "l = 9610000------------------------------------------------\n"
       ]
      },
      {
       "output_type": "stream",
       "stream": "stdout",
       "text": [
        "relative_gap_car is 1.645656943782299e-8\n",
        "relative_gap_truck is 2.513119993973279e-8\n",
        "l = 9620000------------------------------------------------\n"
       ]
      },
      {
       "output_type": "stream",
       "stream": "stdout",
       "text": [
        "relative_gap_car is 1.5749446926296644e-8\n",
        "relative_gap_truck is 2.020012066545368e-8\n",
        "l = 9630000------------------------------------------------\n"
       ]
      },
      {
       "output_type": "stream",
       "stream": "stdout",
       "text": [
        "relative_gap_car is 1.5753809533528542e-8\n",
        "relative_gap_truck is 2.1080711693136304e-8\n",
        "l = 9640000------------------------------------------------\n"
       ]
      },
      {
       "output_type": "stream",
       "stream": "stdout",
       "text": [
        "relative_gap_car is 1.3101886344598474e-8\n",
        "relative_gap_truck is 2.415900629167968e-8\n",
        "l = 9650000------------------------------------------------\n"
       ]
      },
      {
       "output_type": "stream",
       "stream": "stdout",
       "text": [
        "relative_gap_car is 1.5840266678186124e-8\n",
        "relative_gap_truck is 2.4994263258164015e-8\n",
        "l = 9660000------------------------------------------------\n"
       ]
      },
      {
       "output_type": "stream",
       "stream": "stdout",
       "text": [
        "relative_gap_car is 2.130438019844663e-8\n",
        "relative_gap_truck is 2.2385674573827378e-8\n",
        "l = 9670000------------------------------------------------\n"
       ]
      },
      {
       "output_type": "stream",
       "stream": "stdout",
       "text": [
        "relative_gap_car is 1.9125626588149713e-8\n",
        "relative_gap_truck is 2.4687702973849876e-8\n"
       ]
      },
      {
       "ename": "LoadError",
       "evalue": "interrupt\nwhile loading In[14], in expression starting on line 6",
       "output_type": "pyerr",
       "traceback": [
        "interrupt\nwhile loading In[14], in expression starting on line 6",
        "",
        " in vertex_index at /home/jzh/.julia/v0.3/Graphs/src/common.jl:38",
        " in process_neighbors! at /home/jzh/.julia/v0.3/Graphs/src/dijkstra_spath.jl:122",
        " in dijkstra_shortest_paths! at /home/jzh/.julia/v0.3/Graphs/src/dijkstra_spath.jl:204",
        " in all_or_nothing_car at In[11]:8",
        " in anonymous at no file:17"
       ]
      }
     ],
     "prompt_number": 14
    },
    {
     "cell_type": "code",
     "collapsed": false,
     "input": [
      "relative_gap_car"
     ],
     "language": "python",
     "metadata": {},
     "outputs": [
      {
       "ename": "LoadError",
       "evalue": "relative_gap_car not defined\nwhile loading In[19], in expression starting on line 1",
       "output_type": "pyerr",
       "traceback": [
        "relative_gap_car not defined\nwhile loading In[19], in expression starting on line 1",
        ""
       ]
      }
     ],
     "prompt_number": 19
    },
    {
     "cell_type": "code",
     "collapsed": false,
     "input": [
      "1001 % 100"
     ],
     "language": "python",
     "metadata": {},
     "outputs": [
      {
       "metadata": {},
       "output_type": "pyout",
       "prompt_number": 25,
       "text": [
        "1"
       ]
      }
     ],
     "prompt_number": 25
    },
    {
     "cell_type": "code",
     "collapsed": false,
     "input": [
      "xl_car_new"
     ],
     "language": "python",
     "metadata": {},
     "outputs": [
      {
       "ename": "LoadError",
       "evalue": "xl_car_new not defined\nwhile loading In[31], in expression starting on line 1",
       "output_type": "pyerr",
       "traceback": [
        "xl_car_new not defined\nwhile loading In[31], in expression starting on line 1",
        ""
       ]
      }
     ],
     "prompt_number": 31
    },
    {
     "cell_type": "code",
     "collapsed": false,
     "input": [
      "car = [4926.294776013948,7844.014289053611,4963.774151047841,4767.97484907212,7806.53491401971,12705.515252301746,9468.083036149226,12662.148617199859,15217.474594224173,4001.584461273331,15250.894961383774,5954.668870019656,13024.805894695348,4805.454224106018,5915.365042363963,10239.923499895911,10150.303681067731,13220.188059032995,10238.099047274098,10102.028432482497,5778.638399606589,6724.638358841304,13097.530089510637,5706.743161525621,17543.501556010917,17624.330512745244,14158.684018518052,18987.747459261096,8829.389745535042,6480.000056816238,4004.7974590118465,14115.985386236373,6752.77362357665,7361.081775901693,9473.970296217223,6755.533239431668,11535.692380957753,11624.339256880752,8395.114301064388,7398.836525503505,6788.401232607855,6066.4908930597885,19036.54764336036,6812.1619798498405,14761.163012733245,13856.224568467744,6746.433895715239,8823.956866314897,8876.877873643023,14133.731866828135,6480.160340953174,8875.12721693556,7311.14451070194,13268.463307618227,14151.84518118937,16616.22740646825,14815.836492930033,7309.5541381314,6653.128988272282,16602.61596941471,6706.21209589854,5063.388617517814,5599.920292252268,5020.700328684395,6779.254109138476,8328.243099917676,13794.112019612206,5602.080251658405,6791.095115649791,7445.28176492968,6080.484895419605,7397.170181991595,5752.237646803381,8403.761176987395,8273.713804572939,5718.120066225123]"
     ],
     "language": "python",
     "metadata": {},
     "outputs": [
      {
       "metadata": {},
       "output_type": "pyout",
       "prompt_number": 33,
       "text": [
        "76-element Array{Float64,1}:\n",
        "  4926.29\n",
        "  7844.01\n",
        "  4963.77\n",
        "  4767.97\n",
        "  7806.53\n",
        " 12705.5 \n",
        "  9468.08\n",
        " 12662.1 \n",
        " 15217.5 \n",
        "  4001.58\n",
        " 15250.9 \n",
        "  5954.67\n",
        " 13024.8 \n",
        "     \u22ee   \n",
        "  6779.25\n",
        "  8328.24\n",
        " 13794.1 \n",
        "  5602.08\n",
        "  6791.1 \n",
        "  7445.28\n",
        "  6080.48\n",
        "  7397.17\n",
        "  5752.24\n",
        "  8403.76\n",
        "  8273.71\n",
        "  5718.12"
       ]
      }
     ],
     "prompt_number": 33
    },
    {
     "cell_type": "code",
     "collapsed": false,
     "input": [
      "norm(car, 1)"
     ],
     "language": "python",
     "metadata": {},
     "outputs": [
      {
       "metadata": {},
       "output_type": "pyout",
       "prompt_number": 35,
       "text": [
        "716356.3271082845"
       ]
      }
     ],
     "prompt_number": 35
    },
    {
     "cell_type": "code",
     "collapsed": false,
     "input": [
      "car1 = [2.1048525077076192,-1.2853901582147955,-1.2837885074050064,2.10309036869603,2.10325085689783,-3.2205148136508797,-1.4330437707521924,-0.1446900263599673,-3.419784341218474,-0.3859003314514666,-0.41546318092150614,-1.074170097796923,-2.3490582936883584,-1.285550646415686,2.3269738350381886,1.0320440500927361,-0.9228266723930574,6.837286535637759,1.0445469678161317,6.833201713570816,-0.980819706267539,-6.697333089886342,-2.7458810662283213,-0.8948941451271821,-1.4402274916792521,-1.7511247030779487,3.7851755189403775,-0.7526530663053563,0.8444057424367202,-0.0005605605601886055,-0.31439670445797674,1.5634894271115627,1.2767477721281466,-0.146263742724841,-1.1202275429295696,1.76761147342404,-0.35196777943383495,0.4517121496828622,-0.08207827781188826,-2.7873099088556046,3.04337245489387,-2.2782856374324183,3.5514008412610565,-3.4674678449564453,-0.5162321451371099,2.8547124183569395,0.9852726526614788,-1.549740165568437,-2.321841069833681,1.4908709253650159,0.00032032030776463216,0.24376445060806873,-1.630056055680143,-0.9187418503261142,4.213725239467749,2.414419073280442,1.9163953800070885,0.9364303456286507,-1.4529031246383965,-2.618754998580698,3.546210801813686,-0.4302220534791559,-0.0009613708652977948,-0.4630808663459902,1.459485204257362,1.3994034842507972,-1.7847014990729804,-0.002162703407520894,1.8230578721131678,-0.016337620382728346,1.5915084962880428,-4.2933802024990655,-0.6745182050781295,0.7216016513066279,1.0029720035290666,-1.081766653474915]"
     ],
     "language": "python",
     "metadata": {},
     "outputs": [
      {
       "metadata": {},
       "output_type": "pyout",
       "prompt_number": 38,
       "text": [
        "76-element Array{Float64,1}:\n",
        "  2.10485  \n",
        " -1.28539  \n",
        " -1.28379  \n",
        "  2.10309  \n",
        "  2.10325  \n",
        " -3.22051  \n",
        " -1.43304  \n",
        " -0.14469  \n",
        " -3.41978  \n",
        " -0.3859   \n",
        " -0.415463 \n",
        " -1.07417  \n",
        " -2.34906  \n",
        "  \u22ee        \n",
        "  1.45949  \n",
        "  1.3994   \n",
        " -1.7847   \n",
        " -0.0021627\n",
        "  1.82306  \n",
        " -0.0163376\n",
        "  1.59151  \n",
        " -4.29338  \n",
        " -0.674518 \n",
        "  0.721602 \n",
        "  1.00297  \n",
        " -1.08177  "
       ]
      }
     ],
     "prompt_number": 38
    },
    {
     "cell_type": "code",
     "collapsed": false,
     "input": [
      "norm(car1, 1)"
     ],
     "language": "python",
     "metadata": {},
     "outputs": [
      {
       "metadata": {},
       "output_type": "pyout",
       "prompt_number": 39,
       "text": [
        "130.05638522695108"
       ]
      }
     ],
     "prompt_number": 39
    },
    {
     "cell_type": "code",
     "collapsed": false,
     "input": [
      "norm(car , 1)"
     ],
     "language": "python",
     "metadata": {},
     "outputs": [
      {
       "metadata": {},
       "output_type": "pyout",
       "prompt_number": 40,
       "text": [
        "716356.3271082845"
       ]
      }
     ],
     "prompt_number": 40
    },
    {
     "cell_type": "code",
     "collapsed": false,
     "input": [
      "130.05638522695108 / 716356.3271082845"
     ],
     "language": "python",
     "metadata": {},
     "outputs": [
      {
       "metadata": {},
       "output_type": "pyout",
       "prompt_number": 41,
       "text": [
        "0.00018155264399206145"
       ]
      }
     ],
     "prompt_number": 41
    },
    {
     "cell_type": "code",
     "collapsed": false,
     "input": [],
     "language": "python",
     "metadata": {},
     "outputs": []
    }
   ],
   "metadata": {}
  }
 ]
}