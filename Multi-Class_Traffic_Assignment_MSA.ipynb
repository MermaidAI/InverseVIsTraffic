{
 "metadata": {
  "name": ""
 },
 "nbformat": 3,
 "nbformat_minor": 0,
 "worksheets": [
  {
   "cells": [
    {
     "cell_type": "code",
     "collapsed": false,
     "input": [
      "# based on https://github.com/chkwon/TrafficAssignment.jl"
     ],
     "language": "python",
     "metadata": {},
     "outputs": [],
     "prompt_number": 1
    },
    {
     "cell_type": "code",
     "collapsed": false,
     "input": [
      "include(\"load_network.jl\")"
     ],
     "language": "python",
     "metadata": {},
     "outputs": [
      {
       "metadata": {},
       "output_type": "pyout",
       "prompt_number": 2,
       "text": [
        "load_ta_network (generic function with 2 methods)"
       ]
      }
     ],
     "prompt_number": 2
    },
    {
     "cell_type": "code",
     "collapsed": false,
     "input": [
      "using Graphs\n",
      "\n",
      "function create_graph(start_node, end_node)\n",
      "    @assert Base.length(start_node)==Base.length(end_node)\n",
      "\n",
      "    no_node = max(maximum(start_node), maximum(end_node))\n",
      "    no_arc = Base.length(start_node)\n",
      "\n",
      "    graph = simple_inclist(no_node)\n",
      "    for i=1:no_arc\n",
      "        add_edge!(graph, start_node[i], end_node[i])\n",
      "    end\n",
      "    return graph\n",
      "end"
     ],
     "language": "python",
     "metadata": {},
     "outputs": [
      {
       "metadata": {},
       "output_type": "pyout",
       "prompt_number": 3,
       "text": [
        "create_graph (generic function with 1 method)"
       ]
      }
     ],
     "prompt_number": 3
    },
    {
     "cell_type": "code",
     "collapsed": false,
     "input": [
      "function get_vector(state, origin, destination, link_dic)\n",
      "    current = destination\n",
      "    parent = -1\n",
      "    x = zeros(Int, maximum(link_dic))\n",
      "\n",
      "    while parent != origin\n",
      "        parent = state.parents[current]\n",
      "\n",
      "        link_idx = link_dic[parent,current]\n",
      "\n",
      "        if link_idx != 0\n",
      "            x[link_idx] = 1\n",
      "        end\n",
      "\n",
      "        current = parent\n",
      "    end\n",
      "\n",
      "    return x\n",
      "end"
     ],
     "language": "python",
     "metadata": {},
     "outputs": [
      {
       "metadata": {},
       "output_type": "pyout",
       "prompt_number": 4,
       "text": [
        "get_vector (generic function with 1 method)"
       ]
      }
     ],
     "prompt_number": 4
    },
    {
     "cell_type": "code",
     "collapsed": false,
     "input": [
      "ta_data = load_ta_network(\"Sioux Falls\");"
     ],
     "language": "python",
     "metadata": {},
     "outputs": [],
     "prompt_number": 5
    },
    {
     "cell_type": "code",
     "collapsed": false,
     "input": [
      "# unpacking data from ta_data\n",
      "network_name = ta_data.network_name\n",
      "\n",
      "number_of_zones = ta_data.number_of_zones\n",
      "number_of_nodes = ta_data.number_of_nodes\n",
      "first_thru_node = ta_data.first_thru_node\n",
      "number_of_links = ta_data.number_of_links\n",
      "\n",
      "start_node = ta_data.start_node\n",
      "end_node = ta_data.end_node\n",
      "capacity = ta_data.capacity\n",
      "link_length = ta_data.link_length\n",
      "\n",
      "free_flow_time = ta_data.free_flow_time\n",
      "B = ta_data.B\n",
      "power = ta_data.power\n",
      "speed_limit = ta_data.speed_limit\n",
      "toll = ta_data.toll\n",
      "link_type = ta_data.link_type\n",
      "number_of_zones = ta_data.number_of_zones\n",
      "total_od_flow = ta_data.total_od_flow\n",
      "travel_demand = ta_data.travel_demand\n",
      "od_pairs = ta_data.od_pairs\n",
      "\n",
      "toll_factor = ta_data.toll_factor\n",
      "distance_factor = ta_data.distance_factor\n",
      "\n",
      "best_objective = ta_data.best_objective"
     ],
     "language": "python",
     "metadata": {},
     "outputs": [
      {
       "metadata": {},
       "output_type": "pyout",
       "prompt_number": 6,
       "text": [
        "4.23133528710744e6"
       ]
      }
     ],
     "prompt_number": 6
    },
    {
     "cell_type": "code",
     "collapsed": false,
     "input": [
      "# dividing the travel_demand into two classes (car and truck)\n",
      "travel_demand_car = travel_demand * .8\n",
      "travel_demand_truck = travel_demand * .2\n",
      "\n",
      "assert(travel_demand_car + travel_demand_truck == travel_demand)"
     ],
     "language": "python",
     "metadata": {},
     "outputs": [],
     "prompt_number": 7
    },
    {
     "cell_type": "code",
     "collapsed": false,
     "input": [
      "# preparing a graph\n",
      "graph = create_graph(start_node, end_node)\n",
      "link_dic = sparse(start_node, end_node, 1:number_of_links)"
     ],
     "language": "python",
     "metadata": {},
     "outputs": [
      {
       "metadata": {},
       "output_type": "pyout",
       "prompt_number": 8,
       "text": [
        "24x24 sparse matrix with 76 Int64 entries:\n",
        "\t[2 ,  1]  =  3\n",
        "\t[3 ,  1]  =  5\n",
        "\t[1 ,  2]  =  1\n",
        "\t[6 ,  2]  =  14\n",
        "\t[1 ,  3]  =  2\n",
        "\t[4 ,  3]  =  8\n",
        "\t[12,  3]  =  35\n",
        "\t[3 ,  4]  =  6\n",
        "\t[5 ,  4]  =  11\n",
        "\t[11,  4]  =  31\n",
        "\t\u22ee\n",
        "\t[24, 21]  =  75\n",
        "\t[15, 22]  =  46\n",
        "\t[20, 22]  =  63\n",
        "\t[21, 22]  =  65\n",
        "\t[23, 22]  =  72\n",
        "\t[14, 23]  =  42\n",
        "\t[22, 23]  =  70\n",
        "\t[24, 23]  =  76\n",
        "\t[13, 24]  =  39\n",
        "\t[21, 24]  =  66\n",
        "\t[23, 24]  =  73"
       ]
      }
     ],
     "prompt_number": 8
    },
    {
     "cell_type": "code",
     "collapsed": false,
     "input": [
      "graph"
     ],
     "language": "python",
     "metadata": {},
     "outputs": [
      {
       "metadata": {},
       "output_type": "pyout",
       "prompt_number": 9,
       "text": [
        "Directed Graph (24 vertices, 76 edges)"
       ]
      }
     ],
     "prompt_number": 9
    },
    {
     "cell_type": "code",
     "collapsed": false,
     "input": [
      "function BPR(x)\n",
      "    # travel_time = free_flow_time .* ( 1.0 + B .* (x./capacity).^power )\n",
      "    # generalized_cost = travel_time + toll_factor *toll + distance_factor * link_length\n",
      "    # return generalized_cost\n",
      "\n",
      "    bpr = similar(x)\n",
      "    for i=1:length(bpr)\n",
      "        bpr[i] = free_flow_time[i] * ( 1.0 + B[i] * (x[i]/capacity[i])^power[i] )\n",
      "        bpr[i] += toll_factor *toll[i] + distance_factor * link_length[i]\n",
      "    end\n",
      "    return bpr\n",
      "end"
     ],
     "language": "python",
     "metadata": {},
     "outputs": [
      {
       "metadata": {},
       "output_type": "pyout",
       "prompt_number": 10,
       "text": [
        "BPR (generic function with 1 method)"
       ]
      }
     ],
     "prompt_number": 10
    },
    {
     "cell_type": "code",
     "collapsed": false,
     "input": [
      "function all_or_nothing(travel_time)\n",
      "    state = []\n",
      "    path = []\n",
      "    x = zeros(size(start_node))\n",
      "\n",
      "    for r=1:size(travel_demand)[1]\n",
      "        # for each origin node r, find shortest paths to all destination nodes\n",
      "        state = dijkstra_shortest_paths(graph, travel_time, r)\n",
      "\n",
      "        for s=1:size(travel_demand)[2]\n",
      "            # for each destination node s, find the shortest-path vector\n",
      "            # load travel demand\n",
      "            x = x + travel_demand[r,s] * get_vector(state, r, s, link_dic)\n",
      "        end\n",
      "    end\n",
      "\n",
      "    return x\n",
      "end"
     ],
     "language": "python",
     "metadata": {},
     "outputs": [
      {
       "metadata": {},
       "output_type": "pyout",
       "prompt_number": 11,
       "text": [
        "all_or_nothing (generic function with 1 method)"
       ]
      }
     ],
     "prompt_number": 11
    },
    {
     "cell_type": "code",
     "collapsed": false,
     "input": [
      "function all_or_nothing_car(travel_time_car)\n",
      "    state = []\n",
      "    path = []\n",
      "    x = zeros(size(start_node))\n",
      "\n",
      "    for r=1:size(travel_demand_car)[1]\n",
      "        # for each origin node r, find shortest paths to all destination nodes\n",
      "        state = dijkstra_shortest_paths(graph, travel_time_car, r)\n",
      "\n",
      "        for s=1:size(travel_demand_car)[2]\n",
      "            # for each destination node s, find the shortest-path vector\n",
      "            # load travel demand\n",
      "            x = x + travel_demand_car[r,s] * get_vector(state, r, s, link_dic)\n",
      "        end\n",
      "    end\n",
      "\n",
      "    return x\n",
      "end"
     ],
     "language": "python",
     "metadata": {},
     "outputs": [
      {
       "metadata": {},
       "output_type": "pyout",
       "prompt_number": 12,
       "text": [
        "all_or_nothing_car (generic function with 1 method)"
       ]
      }
     ],
     "prompt_number": 12
    },
    {
     "cell_type": "code",
     "collapsed": false,
     "input": [
      "function all_or_nothing_truck(travel_time_truck)\n",
      "    state = []\n",
      "    path = []\n",
      "    x = zeros(size(start_node))\n",
      "\n",
      "    for r=1:size(travel_demand_truck)[1]\n",
      "        # for each origin node r, find shortest paths to all destination nodes\n",
      "        state = dijkstra_shortest_paths(graph, travel_time_truck, r)\n",
      "\n",
      "        for s=1:size(travel_demand_truck)[2]\n",
      "            # for each destination node s, find the shortest-path vector\n",
      "            # load travel demand\n",
      "            x = x + travel_demand_truck[r,s] * get_vector(state, r, s, link_dic)\n",
      "        end\n",
      "    end\n",
      "\n",
      "    return x\n",
      "end"
     ],
     "language": "python",
     "metadata": {},
     "outputs": [
      {
       "metadata": {},
       "output_type": "pyout",
       "prompt_number": 13,
       "text": [
        "all_or_nothing_truck (generic function with 1 method)"
       ]
      }
     ],
     "prompt_number": 13
    },
    {
     "cell_type": "code",
     "collapsed": false,
     "input": [
      "# Finding a starting feasible solution\n",
      "travel_time = BPR(zeros(number_of_links));\n",
      "xl = all_or_nothing(travel_time);\n",
      "\n",
      "travel_time_car = 1.0 * BPR(zeros(number_of_links));\n",
      "travel_time_truck = 1.1 * BPR(zeros(number_of_links));\n",
      "\n",
      "xl_car = all_or_nothing_car(travel_time_car);\n",
      "xl_truck = all_or_nothing_truck(travel_time_truck);"
     ],
     "language": "python",
     "metadata": {},
     "outputs": [],
     "prompt_number": 14
    },
    {
     "cell_type": "code",
     "collapsed": false,
     "input": [
      "max_iter_no = 1e12\n",
      "l = 1\n",
      "#average_excess_cost = 1\n",
      "tol = 1e-6\n",
      "\n",
      "while l < max_iter_no\n",
      "    l += 1\n",
      "    \n",
      "    ## Finding yl\n",
      "    #travel_time = BPR(xl)\n",
      "    #yl = all_or_nothing(travel_time)\n",
      "    #xl = xl + (yl - xl)/l\n",
      "    \n",
      "    # Finding yl_car\n",
      "    xl_car_old = xl_car\n",
      "    travel_time_car = 1.0 * BPR(xl_car + 2.0 * xl_truck)\n",
      "    yl_car = all_or_nothing_car(travel_time_car)\n",
      "    xl_car = xl_car + (yl_car - xl_car)/l\n",
      "    xl_car_new = xl_car\n",
      "    \n",
      "    # Finding yl_truck\n",
      "    xl_truck_old = xl_truck\n",
      "    travel_time_truck = 1.1 * BPR(xl_car + 2.0 * xl_truck)\n",
      "    yl_truck = all_or_nothing_truck(travel_time_truck)\n",
      "    xl_truck = xl_truck + (yl_truck - xl_truck)/l\n",
      "    xl_truck_new = xl_truck\n",
      "    \n",
      "    \n",
      "    relative_gap_car = norm(xl_car_new - xl_car_old, 1) / norm(xl_car_new, 1)\n",
      "    relative_gap_truck = norm(xl_truck_new - xl_truck_old, 1) / norm(xl_truck_new, 1)\n",
      "    \n",
      "    if l % 10000 == 0\n",
      "        print(\"l = $l------------------------------------------------\\n\")\n",
      "        print(\"relative_gap_car is $relative_gap_car\\n\")\n",
      "        print(\"relative_gap_truck is $relative_gap_truck\\n\")\n",
      "    end\n",
      "\n",
      "    if relative_gap_car < tol && relative_gap_truck < tol\n",
      "        print(\"l = $l------------------------------------------------\\n\")\n",
      "        print(\"relative_gap_car is $relative_gap_car\\n\")\n",
      "        print(\"relative_gap_truck is $relative_gap_truck\\n\")\n",
      "        break\n",
      "    end\n",
      "    \n",
      "    ## Average Excess Cost\n",
      "    #average_excess_cost = ( dot(xl, travel_time) - dot(yl, travel_time) ) / dot(xl, travel_time)\n",
      "    \n",
      "    #if average_excess_cost < tol\n",
      "    #    break\n",
      "    #end\n",
      "end\n",
      "\n",
      "writedlm(\"flows_car_converge_1e-6.txt\", xl_car)\n",
      "writedlm(\"flows_truck_converge_1e-6.txt\", xl_truck)"
     ],
     "language": "python",
     "metadata": {},
     "outputs": [
      {
       "output_type": "stream",
       "stream": "stdout",
       "text": [
        "l = 10000------------------------------------------------\n",
        "relative_gap_car is 1.3886675413175037e-5\n"
       ]
      },
      {
       "output_type": "stream",
       "stream": "stdout",
       "text": [
        "relative_gap_truck is 2.3415197909046815e-5\n",
        "l = 20000------------------------------------------------\n"
       ]
      },
      {
       "output_type": "stream",
       "stream": "stdout",
       "text": [
        "relative_gap_car is 8.679981924842378e-6\n",
        "relative_gap_truck is 8.515641741905288e-6\n",
        "l = 30000------------------------------------------------\n"
       ]
      },
      {
       "output_type": "stream",
       "stream": "stdout",
       "text": [
        "relative_gap_car is 5.142284391888531e-6\n",
        "relative_gap_truck is 6.785842470039322e-6\n",
        "l = 40000------------------------------------------------\n"
       ]
      },
      {
       "output_type": "stream",
       "stream": "stdout",
       "text": [
        "relative_gap_car is 5.345429981100857e-6\n",
        "relative_gap_truck is 5.0410597810537345e-6\n",
        "l = 50000------------------------------------------------\n"
       ]
      },
      {
       "output_type": "stream",
       "stream": "stdout",
       "text": [
        "relative_gap_car is 4.042135241611035e-6\n",
        "relative_gap_truck is 4.920060212194252e-6\n",
        "l = 60000------------------------------------------------\n"
       ]
      },
      {
       "output_type": "stream",
       "stream": "stdout",
       "text": [
        "relative_gap_car is 2.514490552171761e-6\n",
        "relative_gap_truck is 3.996927526410962e-6\n",
        "l = 70000------------------------------------------------\n"
       ]
      },
      {
       "output_type": "stream",
       "stream": "stdout",
       "text": [
        "relative_gap_car is 2.6180918177559733e-6\n",
        "relative_gap_truck is 2.998796956972567e-6\n",
        "l = 80000------------------------------------------------\n"
       ]
      },
      {
       "output_type": "stream",
       "stream": "stdout",
       "text": [
        "relative_gap_car is 2.7219002145680278e-6\n",
        "relative_gap_truck is 2.7210055861834017e-6\n",
        "l = 90000------------------------------------------------\n"
       ]
      },
      {
       "output_type": "stream",
       "stream": "stdout",
       "text": [
        "relative_gap_car is 1.5613618947098312e-6\n",
        "relative_gap_truck is 2.1056864026041382e-6\n",
        "l = 100000------------------------------------------------\n"
       ]
      },
      {
       "output_type": "stream",
       "stream": "stdout",
       "text": [
        "relative_gap_car is 1.4378164832450125e-6\n",
        "relative_gap_truck is 2.0053564622962707e-6\n",
        "l = 110000------------------------------------------------\n"
       ]
      },
      {
       "output_type": "stream",
       "stream": "stdout",
       "text": [
        "relative_gap_car is 1.6504183303778653e-6\n",
        "relative_gap_truck is 2.2550926020590207e-6\n",
        "l = 120000------------------------------------------------\n"
       ]
      },
      {
       "output_type": "stream",
       "stream": "stdout",
       "text": [
        "relative_gap_car is 1.5167268285790359e-6\n",
        "relative_gap_truck is 1.8312287189011335e-6\n",
        "l = 130000------------------------------------------------\n"
       ]
      },
      {
       "output_type": "stream",
       "stream": "stdout",
       "text": [
        "relative_gap_car is 9.317073955871078e-7\n",
        "relative_gap_truck is 1.6107231888064274e-6\n",
        "l = 140000------------------------------------------------\n"
       ]
      },
      {
       "output_type": "stream",
       "stream": "stdout",
       "text": [
        "relative_gap_car is 1.396939264211395e-6\n",
        "relative_gap_truck is 1.2998873403098886e-6\n",
        "l = 150000------------------------------------------------\n"
       ]
      },
      {
       "output_type": "stream",
       "stream": "stdout",
       "text": [
        "relative_gap_car is 1.3994695489245091e-6\n",
        "relative_gap_truck is 1.5461248970145056e-6\n",
        "l = 160000------------------------------------------------\n"
       ]
      },
      {
       "output_type": "stream",
       "stream": "stdout",
       "text": [
        "relative_gap_car is 8.69376591416221e-7\n",
        "relative_gap_truck is 1.2940468417663188e-6\n",
        "l = 164731------------------------------------------------\n"
       ]
      },
      {
       "output_type": "stream",
       "stream": "stdout",
       "text": [
        "relative_gap_car is 9.288669135929032e-7\n",
        "relative_gap_truck is 9.833618334480429e-7\n"
       ]
      }
     ],
     "prompt_number": 16
    }
   ],
   "metadata": {}
  }
 ]
}