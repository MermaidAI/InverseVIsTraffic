{
 "cells": [
  {
   "cell_type": "code",
   "execution_count": 1,
   "metadata": {
    "collapsed": false
   },
   "outputs": [
    {
     "name": "stdout",
     "output_type": "stream",
     "text": [
      "No dicts found; please check load_dicts...\n",
      "1058\n"
     ]
    }
   ],
   "source": [
    "%run ../Python_files/util.py\n",
    "\n",
    "data_folder = '/home/jzh/INRIX/All_INRIX_2012_filtered_ext/Apr/'\n",
    "\n",
    "import csv\n",
    "import glob\n",
    "\n",
    "tmc_ref_speed = []\n",
    "\n",
    "input_file = data_folder + 'apr000000000000.csv.gz.filtered.csv'\n",
    "\n",
    "# for input_file in glob.glob(data_folder + '*.csv'):\n",
    "with open(input_file, 'rb') as inp:\n",
    "    for row in csv.reader(inp):\n",
    "        if 'tmc' not in row:\n",
    "            tmc_ref_speed.append((row[0], row[8]))\n",
    "tmc_ref_speed = list(set(tmc_ref_speed))\n",
    "\n",
    "print(len(tmc_ref_speed))\n",
    "\n",
    "# make a dictionary mapping tmc to reference speed\n",
    "tmc_ref_speed_dict = {tmc_ref_speed[i][0]: int(tmc_ref_speed[i][1]) for i in range(len(tmc_ref_speed))}\n",
    "\n",
    "zdump(tmc_ref_speed_dict, '../temp_files/tmc_ref_speed_dict_ext.pkz')"
   ]
  },
  {
   "cell_type": "code",
   "execution_count": null,
   "metadata": {
    "collapsed": true
   },
   "outputs": [],
   "source": []
  }
 ],
 "metadata": {
  "kernelspec": {
   "display_name": "Python 2",
   "language": "python",
   "name": "python2"
  },
  "language_info": {
   "codemirror_mode": {
    "name": "ipython",
    "version": 2
   },
   "file_extension": ".py",
   "mimetype": "text/x-python",
   "name": "python",
   "nbconvert_exporter": "python",
   "pygments_lexer": "ipython2",
   "version": "2.7.11"
  }
 },
 "nbformat": 4,
 "nbformat_minor": 0
}
