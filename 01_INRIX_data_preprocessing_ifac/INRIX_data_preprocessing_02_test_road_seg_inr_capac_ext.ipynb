{
 "cells": [
  {
   "cell_type": "code",
   "execution_count": 1,
   "metadata": {
    "collapsed": false
   },
   "outputs": [
    {
     "name": "stdout",
     "output_type": "stream",
     "text": [
      "No dicts found; please check load_dicts...\n",
      "['129-04098', '129-04099', '129-04100', '129-04101', '129-04102']\n",
      "True\n",
      "False\n",
      "[7000.0, 7000.0, 7000.0, 9150.0, 6400.0]\n"
     ]
    }
   ],
   "source": [
    "%run ../Python_files/util.py\n",
    "\n",
    "road_seg_inr_capac = zload('../temp_files/road_seg_inr_capac_ext.pkz')\n",
    "\n",
    "print(road_seg_inr_capac.tmc[0:5])\n",
    "\n",
    "print('129-04098' in road_seg_inr_capac.tmc)\n",
    "\n",
    "print('129+04144' in road_seg_inr_capac.tmc)\n",
    "\n",
    "print(road_seg_inr_capac.AB_AM_capac[0:5])"
   ]
  },
  {
   "cell_type": "code",
   "execution_count": null,
   "metadata": {
    "collapsed": true
   },
   "outputs": [],
   "source": []
  }
 ],
 "metadata": {
  "kernelspec": {
   "display_name": "Python 2",
   "language": "python",
   "name": "python2"
  },
  "language_info": {
   "codemirror_mode": {
    "name": "ipython",
    "version": 2
   },
   "file_extension": ".py",
   "mimetype": "text/x-python",
   "name": "python",
   "nbconvert_exporter": "python",
   "pygments_lexer": "ipython2",
   "version": "2.7.11"
  }
 },
 "nbformat": 4,
 "nbformat_minor": 0
}
