{
 "metadata": {
  "language": "Julia",
  "name": ""
 },
 "nbformat": 3,
 "nbformat_minor": 0,
 "worksheets": [
  {
   "cells": [
    {
     "cell_type": "heading",
     "level": 2,
     "metadata": {},
     "source": [
      "Reading in Data"
     ]
    },
    {
     "cell_type": "code",
     "collapsed": false,
     "input": [
      "cd(\"/home/jzh/Dropbox/Research/Data-driven_estimation_inverse_optimization/Experiments/debug/InverseVIs/Traffic\");"
     ],
     "language": "python",
     "metadata": {},
     "outputs": [],
     "prompt_number": 1
    },
    {
     "cell_type": "code",
     "collapsed": false,
     "input": [
      "type Arc\n",
      "\tinitNode::Int\n",
      "\ttermNode::Int \n",
      "    capacity::Float64\n",
      "    freeflowtime::Float64\n",
      "    trueflow::Float64\n",
      "    obsflow::Float64\n",
      "end\n",
      "\n",
      "Arc(initNode::Int, termNode::Int, capacity::Float64,freeflowtime::Float64) = \n",
      "    Arc(initNode, termNode, capacity, freeflowtime, 0., 0.)"
     ],
     "language": "python",
     "metadata": {},
     "outputs": [
      {
       "metadata": {},
       "output_type": "pyout",
       "prompt_number": 2,
       "text": [
        "Arc (constructor with 3 methods)"
       ]
      }
     ],
     "prompt_number": 2
    },
    {
     "cell_type": "code",
     "collapsed": false,
     "input": [
      "include(\"fitTraffic.jl\")\n",
      "using PyPlot"
     ],
     "language": "python",
     "metadata": {},
     "outputs": [
      {
       "output_type": "stream",
       "stream": "stderr",
       "text": [
        "INFO: Loading help data...\n"
       ]
      }
     ],
     "prompt_number": 3
    },
    {
     "cell_type": "code",
     "collapsed": false,
     "input": [
      "#Read in the demand file\n",
      "file = open(\"SiouxFalls_trips.txt\")\n",
      "demands = Dict{(Int64,Int64), Float64}()\n",
      "s = 0\n",
      "for line in eachline(file)\n",
      "    if contains(line, \"Origin\")\n",
      "        s = int(split(line)[2])\n",
      "    else\n",
      "        pairs = split(line, \";\")\n",
      "        for pair in pairs\n",
      "            if !contains(pair, \"\\n\")\n",
      "                pair_vals = split(pair, \":\")\n",
      "                t, demand = int(pair_vals[1]), float(pair_vals[2])\n",
      "                demands[(s,t)] = demand\n",
      "            end\n",
      "        end\n",
      "    end\n",
      "end                \n",
      "close(file)"
     ],
     "language": "python",
     "metadata": {},
     "outputs": [],
     "prompt_number": 5
    },
    {
     "cell_type": "code",
     "collapsed": false,
     "input": [
      "arcs = Dict{(Int, Int), Arc}()\n",
      "#read in the arc files\n",
      "file = open(\"SiouxFalls_net.txt\")\n",
      "inHeader=true\n",
      "for line in eachline(file)\n",
      "    if inHeader\n",
      "        inHeader = !contains(line, \"Init node\")\n",
      "        continue\n",
      "    end\n",
      "    vals = split(line, )\n",
      "    arcs[(int(vals[1]), int(vals[2]))] = Arc(int(vals[1]), int(vals[2]), \n",
      "                                              float(vals[3]), float(vals[5]))\n",
      "end\n",
      "close(file)"
     ],
     "language": "python",
     "metadata": {},
     "outputs": [],
     "prompt_number": 6
    },
    {
     "cell_type": "code",
     "collapsed": false,
     "input": [
      "#read in the true costs\n",
      "file = open(\"SiouxFallsFlow.txt\")\n",
      "ix = 0; test_cost = 0.0\n",
      "for line in eachline(file)\n",
      "    ix +=1\n",
      "    if ix ==1\n",
      "        continue\n",
      "    end\n",
      "    vals = split(line)\n",
      "    arcs[(int(vals[1]), int(vals[2]))].trueflow = float(vals[3])\n",
      "    test_cost += float(vals[4])\n",
      "end\n",
      "tot_cost = sum(map(a -> bpacost(a.trueflow, a), values(arcs) ))\n",
      "assert( abs( tot_cost - test_cost) <= 1e-8 ) #note, these costs are not scaled by x!!!"
     ],
     "language": "python",
     "metadata": {},
     "outputs": [],
     "prompt_number": 7
    },
    {
     "cell_type": "heading",
     "level": 2,
     "metadata": {},
     "source": [
      "Debugging the \"test\" function"
     ]
    },
    {
     "cell_type": "code",
     "collapsed": false,
     "input": [
      "numNodes = 24\n",
      "g = simple_inclist(numNodes, is_directed=true)\n",
      "vArcs = Arc[]\n",
      "for arc in values(arcs)\n",
      "    arc.obsflow = arc.trueflow\n",
      "    add_edge!(g, arc.initNode, arc.termNode) \n",
      "    push!(vArcs, arc)\n",
      "end"
     ],
     "language": "python",
     "metadata": {},
     "outputs": [],
     "prompt_number": 6
    },
    {
     "cell_type": "code",
     "collapsed": false,
     "input": [
      "# a function for testing.\n",
      "function test(fcoeffs, indices, demand_data, flow_data, arcs, g, vArcs; relative=false)\n",
      "    numNodes = maximum(map(pair->pair[1], keys(arcs)))\n",
      "\n",
      "    tot_error = 0.\n",
      "    for i = indices\n",
      "        costs = [polyEval(fcoeffs, flow_data[ix, i]/a.capacity)*a.freeflowtime \n",
      "                    for (ix, a) in enumerate(vArcs)]\n",
      "        primal = dot(costs, flow_data[:, i])\n",
      "#         println(\"Primal: \\t\", primal)\n",
      "        \n",
      "        #solve a bunch of shortest path problems to get dual cost\n",
      "        dual = 0.\n",
      "        for odpair = keys(demand_data)\n",
      "            #solve the shortest path problems, and update the total flow\n",
      "            r = dijkstra_shortest_paths(g, costs, odpair[1] )\n",
      "            dual += r.dists[odpair[2]] * demand_data[odpair][i]\n",
      "        end\n",
      "#         println(\"Dual:\\t\", dual)\n",
      "        if relative\n",
      "            tot_error += abs(primal - dual) / dual\n",
      "        else\n",
      "            tot_error += abs(primal - dual)\n",
      "        end\n",
      "    end\n",
      "    return tot_error / length(indices)\n",
      "end"
     ],
     "language": "python",
     "metadata": {},
     "outputs": [
      {
       "metadata": {},
       "output_type": "pyout",
       "prompt_number": 11,
       "text": [
        "test (generic function with 2 methods)"
       ]
      }
     ],
     "prompt_number": 11
    },
    {
     "cell_type": "heading",
     "level": 2,
     "metadata": {},
     "source": [
      "Solving via FW"
     ]
    },
    {
     "cell_type": "markdown",
     "metadata": {},
     "source": [
      "###Algorithm###\n",
      "VI condition equivalent to $\\min_{x \\in \\mathcal{F}} F(x)$ for F a potential function.  F is strongly convex...\n",
      "\n",
      "Approximate $F(x) = F(x^k) + \\nabla F(x^k)^T (x - x^k)$.  Approximate minimum by an LP:\n",
      "\n",
      "$$z^{k+1} \\equiv \\arg\\min_{x \\in \\mathcal{F}} \\nabla F(x^k)^T (x - x^k) = \n",
      "\\arg\\min_{x \\in \\mathcal{F}} f(x^k)^T x $$\n",
      "\n",
      "Notice that this problem decouples by odpair.  Each subprobem is a shortest path problem.  Solve as a series of shortest paths.  *Sanity Check: The flows from the shortest path problems should be better than the original flows in this problem*\n",
      "\n",
      "Do a line search:  $x^{k+1} = x^k + \\alpha (z^{k+1} - x^k)$ for $\\alpha = \\arg \\min_{\\alpha} F(x^k + \\alpha(z^{k+1} - x^k))$.  \n"
     ]
    },
    {
     "cell_type": "code",
     "collapsed": false,
     "input": [
      "#Generate the simulated data\n",
      "numData = 20 ; sigma = .1\n",
      "flow_data = Array(Float64, length(arcs), numData)\n",
      "demand_data = Dict{(Int, Int), Array{Float64, 1}}()\n",
      "\n",
      "numNodes = maximum(map(pair->pair[1], keys(demands)))\n",
      "g = simple_inclist(numNodes, is_directed=true)\n",
      "vArcs = Arc[]\n",
      "for arc in values(arcs)\n",
      "    arc.obsflow = arc.trueflow\n",
      "    add_edge!(g, arc.initNode, arc.termNode) \n",
      "    push!(vArcs, arc)\n",
      "end\n",
      "\n",
      "# srand(8675309)\n",
      "srand(5164174290)\n",
      "for iRun = 1:numData\n",
      "    #perturb the demand_data\n",
      "    for odpair in keys(demands)\n",
      "        if ! haskey(demand_data, odpair)\n",
      "            demand_data[odpair] = [demands[odpair] * (1 + sigma * rand()), ]\n",
      "        else\n",
      "            push!(demand_data[odpair], demands[odpair] * (1  + sigma * rand()))\n",
      "        end\n",
      "    end\n",
      "    #solve using FW and record\n",
      "    conv_tol, flow_data[:, iRun] = frank_wolfe(g, vArcs, demand_data, iRun)\n",
      "#    println(conv_tol)\n",
      "end\n",
      "\n",
      "#Just to finish up, go throw and randomzie the flow data a little bit too\n",
      "for i = 1:size(flow_data, 1)\n",
      "    for j = 1:size(flow_data, 2)\n",
      "        flow_data[i, j] *= (1 + sigma * rand() )\n",
      "    end\n",
      "end"
     ],
     "language": "python",
     "metadata": {},
     "outputs": [],
     "prompt_number": 24
    },
    {
     "cell_type": "heading",
     "level": 2,
     "metadata": {},
     "source": [
      "Fitting a Single Function"
     ]
    },
    {
     "cell_type": "code",
     "collapsed": false,
     "input": [
      "#build a little train function that just takes indices\n",
      "function train(indices, lam::Float64, deg::Int, c::Float64, \n",
      "                demand_data, flow_data, arcs; fcoeffs=nothing)\n",
      "    numNodes = maximum(map(pair->pair[1], keys(arcs)))\n",
      "    m, coeffs, reg_term = setUpFitting(deg, c, [k for k=keys(demand_data)], 1:numNodes)\n",
      "    \n",
      "    for a in values(arcs)\n",
      "        a.obsflow = a.trueflow\n",
      "    end\n",
      "    addIncreasingCnsts(m, coeffs, arcs, TOL=1e-8)  #uses the original obs flows\n",
      "\n",
      "    avgCost = mean( [bpacost(a.obsflow, a.capacity, 1.0) for a in values(arcs)] )\n",
      "    normalize(m, coeffs, [a.obsflow / a.capacity for a in values(arcs)], avgCost)\n",
      "\n",
      "    # normalize(m, coeffs, 1., bpacost(1., 1., 1.))\n",
      "\n",
      "\n",
      "    resids = Variable[]\n",
      "    for i = indices\n",
      "        #copy the flow data over to the arcs, demand data to demands (slow)\n",
      "        for (ix, a) in enumerate(vArcs)\n",
      "            a.obsflow = flow_data[ix, i]\n",
      "        end\n",
      "        for odpair in keys(demands)\n",
      "            demands[odpair] = demand_data[odpair][i]\n",
      "        end\n",
      "    \n",
      "        #Dual Feasibility\n",
      "        ys = addNetworkCnsts(m, coeffs, demands, arcs, numNodes)\n",
      "        \n",
      "        #add the residual for this data point\n",
      "        push!(resids, addResid(m, coeffs, ys, demands, arcs, 1e6))\n",
      "    end\n",
      "\n",
      "    if fcoeffs != nothing\n",
      "        fixCoeffs(m, fcoeffs, coeffs)\n",
      "    end\n",
      "    @setObjective(m, Min, sum{resids[i], i = 1:length(resids)} + lam*reg_term)\n",
      "    solve(m)\n",
      "    println(getObjectiveValue(m) - lam * getValue(reg_term) )\n",
      "    return [getValue(coeffs[i]) for i =1:length(coeffs)]\n",
      "end"
     ],
     "language": "python",
     "metadata": {},
     "outputs": [
      {
       "metadata": {},
       "output_type": "pyout",
       "prompt_number": 25,
       "text": [
        "train (generic function with 2 methods)"
       ]
      }
     ],
     "prompt_number": 25
    },
    {
     "cell_type": "code",
     "collapsed": false,
     "input": [
      "#include(\"trafficCval.jl\")\n",
      "\n",
      "coeffs_dict = Dict{(Int64,Float64,Float64),Array{Float64,1}}()\n",
      "deg = 3\n",
      "c = 3.41\n",
      "lam = 1.\n",
      "\n",
      "fcoeffs = train(1:numData, lam, deg, c, demand_data, flow_data, arcs)\n",
      "coeffs_dict[(deg, c, lam)] = fcoeffs"
     ],
     "language": "python",
     "metadata": {},
     "outputs": [
      {
       "output_type": "stream",
       "stream": "stdout",
       "text": [
        "14."
       ]
      },
      {
       "output_type": "stream",
       "stream": "stdout",
       "text": [
        "190123985102858\n"
       ]
      },
      {
       "metadata": {},
       "output_type": "pyout",
       "prompt_number": 26,
       "text": [
        "4-element Array{Float64,1}:\n",
        "  1.20525 \n",
        "  0.175254\n",
        " -0.487751\n",
        "  0.45183 "
       ]
      }
     ],
     "prompt_number": 26
    },
    {
     "cell_type": "code",
     "collapsed": false,
     "input": [
      "keys(coeffs_dict)"
     ],
     "language": "python",
     "metadata": {},
     "outputs": [
      {
       "metadata": {},
       "output_type": "pyout",
       "prompt_number": 23,
       "text": [
        "KeyIterator for a Dict{(Int64,Float64,Float64),Array{Float64,1}} with 1 entry. Keys:\n",
        "  (3,3.41,1.0)"
       ]
      }
     ],
     "prompt_number": 23
    },
    {
     "cell_type": "code",
     "collapsed": false,
     "input": [
      "#try this out for a second\n",
      "using Resampling, DataFrames\n",
      "df = DataFrame()\n",
      "df[\"A\"] = 1:numData\n",
      "train(df) = train(df[\"A\"], 1., 3, 3.41, demand_data, flow_data, arcs)\n",
      "test(df, fit) = test(fit, df[\"A\"], demand_data, flow_data, arcs, g, vArcs)\n",
      "rtrain, rtest = kfold_crossvalidate(df, train, test, 5)\n"
     ],
     "language": "python",
     "metadata": {},
     "outputs": [
      {
       "output_type": "stream",
       "stream": "stdout",
       "text": [
        "0.6021157796781365"
       ]
      },
      {
       "output_type": "stream",
       "stream": "stdout",
       "text": [
        "  0.2372956106199855\n",
        "0."
       ]
      },
      {
       "output_type": "stream",
       "stream": "stdout",
       "text": [
        "6033978941082896  0.24568084566302717\n",
        "0."
       ]
      },
      {
       "output_type": "stream",
       "stream": "stdout",
       "text": [
        "6009989526336291  0.2353597116948669\n",
        "0."
       ]
      },
      {
       "output_type": "stream",
       "stream": "stdout",
       "text": [
        "602682162608173  0.24500201307215225\n",
        "0."
       ]
      },
      {
       "output_type": "stream",
       "stream": "stdout",
       "text": [
        "6037818678078006  0.2595015448587858\n"
       ]
      },
      {
       "metadata": {},
       "output_type": "pyout",
       "prompt_number": 12,
       "text": [
        "({[1.1810059893499811,0.130856207774403,-0.41244210694531597,0.4302316426431943],[1.1867581065125599,0.1442003215123448,-0.435324047959959,0.4371997086534962],[1.1764006807800715,0.1267211553924329,-0.40580701215996495,0.4289489072846875],[1.1855594918512096,0.14290541831608583,-0.4332069520931886,0.4367223216682059],[1.1905511284212609,0.16384931598617333,-0.4697706486904158,0.44891278622863323]},{607024.8395679342,599212.9866781505,612242.5853562704,602278.6042395392,593778.3111355365})"
       ]
      }
     ],
     "prompt_number": 12
    },
    {
     "cell_type": "code",
     "collapsed": false,
     "input": [
      "true_coeffs = [1, 0, 0, 0, .15]\n",
      "fcoeffs3 = coeffs_dict[(3, 3.41, 1.)]\n",
      "#fcoeffs4 = coeffs_dict[(4, 3.41, 1.)]\n",
      "#fcoeffs5 = coeffs_dict[(5, 2.6, .1)]\n",
      "#fcoeffs6 = coeffs_dict[(6, 2.6, 1e-3)]\n",
      "\n",
      "xs = linspace(0, 2, 20)#\n",
      "ys_true = map(x-> polyEval(true_coeffs, x), xs)\n",
      "ys3 = map(x->polyEval(fcoeffs3, x), xs)\n",
      "#ys4 = map(x->polyEval(fcoeffs4, x), xs)\n",
      "#ys5 = map(x->polyEval(fcoeffs5, x), xs)\n",
      "#ys6 = map(x->polyEval(fcoeffs6, x), xs)\n",
      "\n",
      "# ys = map(x->polyEval(fcoeffs, x), xs)\n",
      "\n",
      "plot(xs, ys_true, \"--k\")\n",
      "plot(xs, ys3, \".-r\")\n",
      "ylim(0, 3.5)\n",
      "#plot(xs, ys4, \"s-b\")\n",
      "#plot(xs, ys5, \"o-b\")\n",
      "#plot(xs, ys6, \"*-b\")\n",
      "\n",
      "# plot(xs, ys, \"--b\")\n"
     ],
     "language": "python",
     "metadata": {},
     "outputs": [
      {
       "metadata": {},
       "output_type": "display_data",
       "png": "[encoded data removed]",
       "text": [
        "Figure(PyObject <matplotlib.figure.Figure object at 0x7fdbfe5f1450>)"
       ]
      },
      {
       "metadata": {},
       "output_type": "pyout",
       "prompt_number": 27,
       "text": [
        "(0,3.5)"
       ]
      }
     ],
     "prompt_number": 27
    },
    {
     "cell_type": "code",
     "collapsed": false,
     "input": [
      "df = DataFrame([xs ys_true ys3 ys4 ys5 ys6])\n",
      "colnames!(df, [\"Flow\"; \"True\"; \"Deg3\"; \"Deg4\"; \"Deg5\"; \"Deg6\"])\n",
      "writetable(\"fittedFuncs.csv\", df)"
     ],
     "language": "python",
     "metadata": {},
     "outputs": [
      {
       "ename": "LoadError",
       "evalue": "hcat: mismatched dimensions\nat In[112]:1",
       "output_type": "pyerr",
       "traceback": [
        "hcat: mismatched dimensions\nat In[112]:1",
        " in hcat at abstractarray.jl:727"
       ]
      }
     ],
     "prompt_number": 112
    },
    {
     "cell_type": "code",
     "collapsed": false,
     "input": [
      "fcoeffs = fcoeffs3\n"
     ],
     "language": "python",
     "metadata": {},
     "outputs": [
      {
       "metadata": {},
       "output_type": "pyout",
       "prompt_number": 69,
       "text": [
        "4-element Array{Float64,1}:\n",
        "  1.19177 \n",
        "  0.210887\n",
        " -0.55088 \n",
        "  0.477951"
       ]
      }
     ],
     "prompt_number": 69
    },
    {
     "cell_type": "heading",
     "level": 2,
     "metadata": {},
     "source": [
      "Out of Sample Residuals"
     ]
    },
    {
     "cell_type": "code",
     "collapsed": false,
     "input": [
      "#Generate some out of sample data\n",
      "#Generate the simulated data\n",
      "numDataOut = 500\n",
      "oflow_data = Array(Float64, length(arcs), numDataOut)\n",
      "odemand_data = Dict{(Int, Int), Array{Float64, 1}}()\n",
      "\n",
      "srand(5167462266)\n",
      "for iRun = 1:numDataOut\n",
      "    #perturb the demand_data\n",
      "    for odpair in keys(demands)\n",
      "        if ! haskey(odemand_data, odpair)\n",
      "            odemand_data[odpair] = [demands[odpair] * (1 + sigma * rand()), ]\n",
      "        else\n",
      "            push!(odemand_data[odpair], demands[odpair] * (1  + sigma * rand()))\n",
      "        end\n",
      "    end\n",
      "    #solve using FW and record\n",
      "    conv_tol, oflow_data[:, iRun] = frank_wolfe(g, vArcs, odemand_data, iRun)\n",
      "end\n",
      "\n",
      "#Just to finish up, go throw and randomzie the flow data a little bit too\n",
      "for i = 1:size(oflow_data, 1)\n",
      "    for j = 1:size(oflow_data, 2)\n",
      "        oflow_data[i, j] *= (1 + sigma * rand() )\n",
      "    end\n",
      "end"
     ],
     "language": "python",
     "metadata": {},
     "outputs": [],
     "prompt_number": 13
    },
    {
     "cell_type": "code",
     "collapsed": false,
     "input": [
      "#Calculate the residuals on the out of sample data\n",
      "oResids = Float64[] ; oResidsTrue = Float64[];  oResidsRel = Float64[]\n",
      "true_coeffs = [1, 0, 0, 0, .15]\n",
      "for i = 1:numDataOut\n",
      "    push!(oResids, test(fcoeffs, i, odemand_data, oflow_data, arcs, g, vArcs))\n",
      "    push!(oResidsTrue, test(true_coeffs, i, odemand_data, oflow_data, arcs, g, vArcs))\n",
      "    push!(oResidsRel, test(fcoeffs, i, odemand_data, oflow_data, arcs, g, vArcs, relative=true))\n",
      "end    \n",
      "\n",
      "df = DataFrame([ oResids oResidsTrue oResidsRel ])\n",
      "colnames!(df, [\"Resids\"; \"ResidsTrue\"; \"ResidsRel\"])\n",
      "writetable(\"resids.csv\", df)\n"
     ],
     "language": "python",
     "metadata": {},
     "outputs": [],
     "prompt_number": 23
    },
    {
     "cell_type": "code",
     "collapsed": false,
     "input": [
      "using DataFrames"
     ],
     "language": "python",
     "metadata": {},
     "outputs": [],
     "prompt_number": 16
    },
    {
     "cell_type": "code",
     "collapsed": false,
     "input": [
      "#Compute histograms of the fitted function and the true function\n",
      "subplot(1, 2, 1)\n",
      "plt.hist(oResids * 1e-6)\n",
      "plt.title(\"Out Sample Fitted Resids\")\n",
      "\n",
      "subplot(1, 2, 2)\n",
      "plt.hist(oResidsRel)\n",
      "plt.title(\"Out Sample rel Resids\")\n",
      "\n",
      "println(mean(oResids) * 1e-6, \"  \", std(oResids)*1e-6 )\n",
      "println(mean(oResidsRel), \"  \", std(oResidsRel))\n"
     ],
     "language": "python",
     "metadata": {},
     "outputs": [
      {
       "output_type": "stream",
       "stream": "stdout",
       "text": [
        "0.7072749186588113"
       ]
      },
      {
       "output_type": "stream",
       "stream": "stdout",
       "text": [
        "  0.055027370134098655\n",
        "0.06573006922456988  0.004653405241423066\n"
       ]
      },
      {
       "metadata": {},
       "output_type": "display_data",
       "png": "[encoded data removed]",
       "text": [
        "Figure(PyObject <matplotlib.figure.Figure object at 0x1067c5450>)"
       ]
      }
     ],
     "prompt_number": 24
    },
    {
     "cell_type": "heading",
     "level": 3,
     "metadata": {},
     "source": [
      "Generalization Error\n",
      "\n"
     ]
    },
    {
     "cell_type": "code",
     "collapsed": false,
     "input": [
      "# observed generalization error\n",
      "zN = 0.8146719163729105\n",
      "Hnorm = sqrt(0.609463046750461)\n",
      "R  = 3  ## Guesstimated\n",
      "beta = .1\n",
      "Kbar = sqrt((c + R^2)^deg);\n",
      "Bbar = 2 * R * Kbar * Hnorm * 1e-6\n",
      "R_N = (4 * Bbar + 2 * sqrt(Bbar) * sqrt(2 * log(2/beta) ) ) / sqrt(numData)\n",
      "\n",
      "# Cross Val Error  #pulled from table in R\n",
      "cv_mean = 1e-6 * mean(rtest); cv_std = 1e-6 * std(rtest)\n",
      "\n",
      "alpha = .1\n",
      "#Compute 90% quantiles for each\n",
      "println(\"Pred Bound:\\t $(zN + R_N / alpha)\")\n",
      "println(\"CV Bound:\\t $(cv_mean + sqrt(1/alpha - 1) * cv_std)\")\n",
      "println(\"OutSample:\\t $(quantile(oResids * 1e-6, 1-alpha))\")\n",
      "R_N"
     ],
     "language": "python",
     "metadata": {},
     "outputs": [
      {
       "output_type": "stream",
       "stream": "stdout",
       "text": [
        "Pred Bound:\t 0.97315076282393\n"
       ]
      },
      {
       "output_type": "stream",
       "stream": "stdout",
       "text": [
        "CV Bound:\t 0.6241991890484572\n",
        "OutSample:\t 0.7781879713046712\n"
       ]
      },
      {
       "metadata": {},
       "output_type": "pyout",
       "prompt_number": 25,
       "text": [
        "0.015847884645101947"
       ]
      }
     ],
     "prompt_number": 25
    },
    {
     "cell_type": "code",
     "collapsed": false,
     "input": [
      "println(cv_mean, \"  \", cv_std)\n",
      "println(mean(oResids), \"  \", std(oResids) )"
     ],
     "language": "python",
     "metadata": {},
     "outputs": [
      {
       "output_type": "stream",
       "stream": "stdout",
       "text": [
        "0.7129017842709476"
       ]
      },
      {
       "output_type": "stream",
       "stream": "stdout",
       "text": [
        "  0.04093004657736838\n",
        "822794.3172721053  62516.29681303994\n",
        "0."
       ]
      },
      {
       "output_type": "stream",
       "stream": "stdout",
       "text": [
        "9019244268535506\n",
        "0.900937275725576\n",
        "0.8905734683559084\n",
        "0.8958335921638096\n",
        "0.9090999287266431\n"
       ]
      }
     ],
     "prompt_number": 56
    },
    {
     "cell_type": "heading",
     "level": 3,
     "metadata": {},
     "source": [
      "Difference To Flows"
     ]
    },
    {
     "cell_type": "code",
     "collapsed": false,
     "input": [
      "oFlowDiffs = Array(Float64, numDataOut, 2)\n",
      "temp_flow = Array(Float64, size(oflow_data, 1))\n",
      "for iRun = 1:numDataOut\n",
      "    #solve for the flows with the fitted function\n",
      "    conv_tol, temp_flow = frank_wolfe(g, vArcs, odemand_data, iRun)\n",
      "    oFlowDiffs[iRun, 1] = norm(temp_flow - oflow_data[:, iRun])\n",
      "    oFlowDiffs[iRun, 2] = norm(temp_flow - oflow_data[:, iRun]) / norm(oflow_data[:, iRun])\n",
      "end\n"
     ],
     "language": "python",
     "metadata": {},
     "outputs": [],
     "prompt_number": 26
    },
    {
     "cell_type": "code",
     "collapsed": false,
     "input": [
      "t = DataFrame(oFlowDiffs)\n",
      "colnames!(t, [\"Abs\", \"Rel\"])\n",
      "writetable(\"FlowDiffs.csv\", t)\n",
      "\n",
      "size(oFlowDiffs)"
     ],
     "language": "python",
     "metadata": {},
     "outputs": [
      {
       "metadata": {},
       "output_type": "pyout",
       "prompt_number": 27,
       "text": [
        "(500,2)"
       ]
      }
     ],
     "prompt_number": 27
    },
    {
     "cell_type": "code",
     "collapsed": false,
     "input": [
      "mean(oFlowDiffs, 1)"
     ],
     "language": "python",
     "metadata": {},
     "outputs": [
      {
       "metadata": {},
       "output_type": "pyout",
       "prompt_number": 28,
       "text": [
        "1x2 Array{Float64,2}:\n",
        " 7075.05  0.0550048"
       ]
      }
     ],
     "prompt_number": 28
    },
    {
     "cell_type": "heading",
     "level": 3,
     "metadata": {},
     "source": [
      "Ambiguity Sets"
     ]
    },
    {
     "cell_type": "code",
     "collapsed": false,
     "input": [
      "zN, zN + 2e6 * cv_std"
     ],
     "language": "python",
     "metadata": {},
     "outputs": [
      {
       "metadata": {},
       "output_type": "pyout",
       "prompt_number": 50,
       "text": [
        "(0.8146719163729105,14195.29710723033)"
       ]
      }
     ],
     "prompt_number": 50
    },
    {
     "cell_type": "code",
     "collapsed": false,
     "input": [
      "xs = linspace(0, 2, 30)\n",
      "bounds[:, 3] = calcBound(1:numData, deg, c,  zN + 2*cv_std, demand_data, flow_data, arcs, :Min, xs,  ball_radius=Hnorm)\n",
      "#                         (indices, deg::Int, c::Float64, target_val, \n",
      "#     demand_data, flow_data, arcs, SENSE, xs; ball_radius=nothing)\n",
      "\n",
      "bounds[:, 4] = calcBound(1:numData, deg, c,  zN + 2*cv_std, demand_data, flow_data, arcs, :Max, xs, ball_radius=Hnorm)"
     ],
     "language": "python",
     "metadata": {},
     "outputs": [
      {
       "output_type": "stream",
       "stream": "stdout",
       "text": [
        "Optimal\n"
       ]
      },
      {
       "output_type": "stream",
       "stream": "stdout",
       "text": [
        "Optimal"
       ]
      },
      {
       "output_type": "stream",
       "stream": "stdout",
       "text": [
        "\n",
        "Optimal"
       ]
      },
      {
       "output_type": "stream",
       "stream": "stdout",
       "text": [
        "\n",
        "Optimal"
       ]
      },
      {
       "output_type": "stream",
       "stream": "stdout",
       "text": [
        "\n",
        "Optimal"
       ]
      },
      {
       "output_type": "stream",
       "stream": "stdout",
       "text": [
        "\n",
        "Optimal"
       ]
      },
      {
       "output_type": "stream",
       "stream": "stdout",
       "text": [
        "\n",
        "Optimal"
       ]
      },
      {
       "output_type": "stream",
       "stream": "stdout",
       "text": [
        "\n",
        "Optimal"
       ]
      },
      {
       "output_type": "stream",
       "stream": "stdout",
       "text": [
        "\n",
        "Optimal"
       ]
      },
      {
       "output_type": "stream",
       "stream": "stdout",
       "text": [
        "\n",
        "Optimal"
       ]
      },
      {
       "output_type": "stream",
       "stream": "stdout",
       "text": [
        "\n",
        "Optimal"
       ]
      },
      {
       "output_type": "stream",
       "stream": "stdout",
       "text": [
        "\n",
        "Optimal"
       ]
      },
      {
       "output_type": "stream",
       "stream": "stdout",
       "text": [
        "\n",
        "Optimal"
       ]
      },
      {
       "output_type": "stream",
       "stream": "stdout",
       "text": [
        "\n",
        "Optimal"
       ]
      },
      {
       "output_type": "stream",
       "stream": "stdout",
       "text": [
        "\n",
        "Optimal"
       ]
      },
      {
       "output_type": "stream",
       "stream": "stdout",
       "text": [
        "\n",
        "Optimal"
       ]
      },
      {
       "output_type": "stream",
       "stream": "stdout",
       "text": [
        "\n",
        "Optimal"
       ]
      },
      {
       "output_type": "stream",
       "stream": "stdout",
       "text": [
        "\n",
        "Optimal"
       ]
      },
      {
       "output_type": "stream",
       "stream": "stdout",
       "text": [
        "\n",
        "Optimal"
       ]
      },
      {
       "output_type": "stream",
       "stream": "stdout",
       "text": [
        "\n",
        "Optimal"
       ]
      },
      {
       "output_type": "stream",
       "stream": "stdout",
       "text": [
        "\n",
        "Optimal"
       ]
      },
      {
       "output_type": "stream",
       "stream": "stdout",
       "text": [
        "\n",
        "Optimal"
       ]
      },
      {
       "output_type": "stream",
       "stream": "stdout",
       "text": [
        "\n",
        "Optimal"
       ]
      },
      {
       "output_type": "stream",
       "stream": "stdout",
       "text": [
        "\n",
        "Optimal"
       ]
      },
      {
       "output_type": "stream",
       "stream": "stdout",
       "text": [
        "\n",
        "Optimal"
       ]
      },
      {
       "output_type": "stream",
       "stream": "stdout",
       "text": [
        "\n",
        "Optimal"
       ]
      },
      {
       "output_type": "stream",
       "stream": "stdout",
       "text": [
        "\n",
        "Optimal"
       ]
      },
      {
       "output_type": "stream",
       "stream": "stdout",
       "text": [
        "\n",
        "Optimal"
       ]
      },
      {
       "output_type": "stream",
       "stream": "stdout",
       "text": [
        "\n",
        "Optimal"
       ]
      },
      {
       "output_type": "stream",
       "stream": "stdout",
       "text": [
        "\n",
        "Optimal"
       ]
      },
      {
       "output_type": "stream",
       "stream": "stdout",
       "text": [
        "\n",
        "Optimal"
       ]
      },
      {
       "output_type": "stream",
       "stream": "stdout",
       "text": [
        "\n",
        "Optimal"
       ]
      },
      {
       "output_type": "stream",
       "stream": "stdout",
       "text": [
        "\n",
        "Optimal"
       ]
      },
      {
       "output_type": "stream",
       "stream": "stdout",
       "text": [
        "\n",
        "Optimal"
       ]
      },
      {
       "output_type": "stream",
       "stream": "stdout",
       "text": [
        "\n",
        "Optimal"
       ]
      },
      {
       "output_type": "stream",
       "stream": "stdout",
       "text": [
        "\n",
        "Optimal"
       ]
      },
      {
       "output_type": "stream",
       "stream": "stdout",
       "text": [
        "\n",
        "Optimal"
       ]
      },
      {
       "output_type": "stream",
       "stream": "stdout",
       "text": [
        "\n",
        "Optimal"
       ]
      },
      {
       "output_type": "stream",
       "stream": "stdout",
       "text": [
        "\n",
        "Optimal"
       ]
      },
      {
       "output_type": "stream",
       "stream": "stdout",
       "text": [
        "\n",
        "Optimal"
       ]
      },
      {
       "output_type": "stream",
       "stream": "stdout",
       "text": [
        "\n",
        "Optimal"
       ]
      },
      {
       "output_type": "stream",
       "stream": "stdout",
       "text": [
        "\n",
        "Optimal"
       ]
      },
      {
       "output_type": "stream",
       "stream": "stdout",
       "text": [
        "\n",
        "Optimal"
       ]
      },
      {
       "output_type": "stream",
       "stream": "stdout",
       "text": [
        "\n",
        "Optimal"
       ]
      },
      {
       "output_type": "stream",
       "stream": "stdout",
       "text": [
        "\n",
        "Optimal"
       ]
      },
      {
       "output_type": "stream",
       "stream": "stdout",
       "text": [
        "\n",
        "Optimal"
       ]
      },
      {
       "output_type": "stream",
       "stream": "stdout",
       "text": [
        "\n",
        "Optimal"
       ]
      },
      {
       "output_type": "stream",
       "stream": "stdout",
       "text": [
        "\n",
        "Optimal"
       ]
      },
      {
       "output_type": "stream",
       "stream": "stdout",
       "text": [
        "\n",
        "Optimal"
       ]
      },
      {
       "output_type": "stream",
       "stream": "stdout",
       "text": [
        "\n",
        "Optimal"
       ]
      },
      {
       "output_type": "stream",
       "stream": "stdout",
       "text": [
        "\n",
        "Optimal"
       ]
      },
      {
       "output_type": "stream",
       "stream": "stdout",
       "text": [
        "\n",
        "Optimal"
       ]
      },
      {
       "output_type": "stream",
       "stream": "stdout",
       "text": [
        "\n",
        "Optimal"
       ]
      },
      {
       "output_type": "stream",
       "stream": "stdout",
       "text": [
        "\n",
        "Optimal"
       ]
      },
      {
       "output_type": "stream",
       "stream": "stdout",
       "text": [
        "\n",
        "Optimal"
       ]
      },
      {
       "output_type": "stream",
       "stream": "stdout",
       "text": [
        "\n",
        "Optimal"
       ]
      },
      {
       "output_type": "stream",
       "stream": "stdout",
       "text": [
        "\n",
        "Optimal"
       ]
      },
      {
       "output_type": "stream",
       "stream": "stdout",
       "text": [
        "\n",
        "Optimal"
       ]
      },
      {
       "output_type": "stream",
       "stream": "stdout",
       "text": [
        "\n",
        "Optimal"
       ]
      },
      {
       "output_type": "stream",
       "stream": "stdout",
       "text": [
        "\n",
        "Optimal"
       ]
      },
      {
       "output_type": "stream",
       "stream": "stdout",
       "text": [
        "\n"
       ]
      },
      {
       "metadata": {},
       "output_type": "pyout",
       "prompt_number": 46,
       "text": [
        "30-element Array{Float64,1}:\n",
        " 2.28954\n",
        " 2.28954\n",
        " 2.28954\n",
        " 2.28954\n",
        " 2.28954\n",
        " 2.28955\n",
        " 2.28954\n",
        " 2.28954\n",
        " 2.28954\n",
        " 2.28954\n",
        " 2.28954\n",
        " 2.28954\n",
        " 2.28954\n",
        " \u22ee      \n",
        " 2.38011\n",
        " 2.40956\n",
        " 2.44725\n",
        " 2.5051 \n",
        " 2.56856\n",
        " 2.6259 \n",
        " 2.75244\n",
        " 2.89901\n",
        " 3.0473 \n",
        " 3.29961\n",
        " 3.73759\n",
        " 4.20984"
       ]
      }
     ],
     "prompt_number": 46
    },
    {
     "cell_type": "code",
     "collapsed": false,
     "input": [
      "bounds = Array(Float64, 30, 4);\n",
      "xs = linspace(0, 2, 30)\n",
      "for j = 1:30\n",
      "    bounds[j, 1] = bpacost(xs[j], 1., 1.)\n",
      "    bounds[j, 2] = polyEval(fcoeffs, xs[j])\n",
      "end    \n"
     ],
     "language": "python",
     "metadata": {},
     "outputs": [],
     "prompt_number": 45
    },
    {
     "cell_type": "code",
     "collapsed": false,
     "input": [
      "bounds[1:10, :]"
     ],
     "language": "python",
     "metadata": {},
     "outputs": [
      {
       "metadata": {},
       "output_type": "pyout",
       "prompt_number": 47,
       "text": [
        "10x4 Array{Float64,2}:\n",
        " 1.0      1.19013  -0.731883     2.28954\n",
        " 1.0      1.19966  -0.475851     2.28954\n",
        " 1.00005  1.20553  -0.231676     2.28954\n",
        " 1.00027  1.20861   0.00377095   2.28954\n",
        " 1.00087  1.20981  -0.000286405  2.28954\n",
        " 1.00212  1.21002   0.000254485  2.28955\n",
        " 1.0044   1.21011   0.00328736   2.28954\n",
        " 1.00815  1.21099   0.0107168    2.28954\n",
        " 1.0139   1.21355   0.022816     2.28954\n",
        " 1.02226  1.21867   0.0422392    2.28954"
       ]
      }
     ],
     "prompt_number": 47
    },
    {
     "cell_type": "code",
     "collapsed": false,
     "input": [
      "function calcBound(indices, deg::Int, c::Float64, target_val, \n",
      "    demand_data, flow_data, arcs, SENSE, xs; ball_radius=nothing)\n",
      "\n",
      "    numNodes = maximum(map(pair->pair[1], keys(arcs)))\n",
      "    m, coeffs, reg_term = setUpFitting(deg, c, [k for k=keys(demand_data)], 1:numNodes)\n",
      "    \n",
      "    for a in values(arcs)\n",
      "        a.obsflow = a.trueflow\n",
      "    end\n",
      "    addIncreasingCnsts(m, coeffs, arcs, TOL=1e-8)  #uses the original obs flows\n",
      "    \n",
      "    #Compute the total cost on the network and the avg bpacost\n",
      "    avgCost = mean( [bpacost(a.obsflow, a.capacity, 1.0) for a in values(arcs)] )    \n",
      "    normalize(m, coeffs, [a.obsflow / a.capacity for a in values(arcs)], avgCost)\n",
      "    \n",
      "    resids = Variable[]\n",
      "    for i = indices\n",
      "        #copy the flow data over to the arcs, demand data to demands (slow)\n",
      "        for (ix, a) in enumerate(vArcs)\n",
      "            a.obsflow = flow_data[ix, i]\n",
      "        end\n",
      "        for odpair in keys(demands)\n",
      "            demands[odpair] = demand_data[odpair][i]\n",
      "        end\n",
      "    \n",
      "        #Dual Feasibility\n",
      "        ys = addNetworkCnsts(m, coeffs, demands, arcs, numNodes)\n",
      "        \n",
      "        #add the residual for this data point\n",
      "        push!(resids, addResid(m, coeffs, ys, demands, arcs, 1e6))\n",
      "    end\n",
      "\n",
      "    @addConstraint(m, sum{resids[i], i=1:length(resids)} / length(resids) <= target_val * 1e6)\n",
      "    if ball_radius != nothing\n",
      "        @addConstraint(m, reg_term <= ball_radius^2 )\n",
      "    end\n",
      "    \n",
      "    bounds = Array(Float64, length(xs))\n",
      "    \n",
      "    for (j, x) in enumerate(xs)\n",
      "        setObjective(m, SENSE, polyEval(coeffs, x))\n",
      "        println(solve(m))\n",
      "        bounds[j] = getObjectiveValue(m)\n",
      "    end\n",
      "    return bounds\n",
      "end\n"
     ],
     "language": "python",
     "metadata": {},
     "outputs": [
      {
       "metadata": {},
       "output_type": "pyout",
       "prompt_number": 31,
       "text": [
        "calcBound (generic function with 1 method)"
       ]
      }
     ],
     "prompt_number": 31
    },
    {
     "cell_type": "code",
     "collapsed": false,
     "input": [
      "plot(xs, bounds[:, 1], \"--\")\n",
      "plot(xs, bounds[:, 2], \"s-k\")\n",
      "plot(xs, bounds[:, 3], \".-\")\n",
      "plot(xs, bounds[:, 4], \".-\")\n",
      "plt.ylim(0, 5)\n"
     ],
     "language": "python",
     "metadata": {},
     "outputs": [
      {
       "metadata": {},
       "output_type": "display_data",
       "png": "[encoded data removed]",
       "text": [
        "Figure(PyObject <matplotlib.figure.Figure object at 0x1067fa0d0>)"
       ]
      },
      {
       "metadata": {},
       "output_type": "pyout",
       "prompt_number": 48,
       "text": [
        "(0,5)"
       ]
      }
     ],
     "prompt_number": 48
    },
    {
     "cell_type": "code",
     "collapsed": false,
     "input": [
      "df = DataFrame([xs bounds])\n",
      "colnames!(df, [\"Flows\"; \"True\"; \"Fit\"; \"LB\"; \"UB\"])\n",
      "writetable(\"amgSetsTraffic.csv\", df)"
     ],
     "language": "python",
     "metadata": {},
     "outputs": [],
     "prompt_number": 49
    },
    {
     "cell_type": "heading",
     "level": 2,
     "metadata": {},
     "source": [
      "Cross-Validate Code"
     ]
    },
    {
     "cell_type": "code",
     "collapsed": false,
     "input": [
      "using DataFrames, Resampling"
     ],
     "language": "python",
     "metadata": {},
     "outputs": [],
     "prompt_number": 10
    },
    {
     "cell_type": "code",
     "collapsed": false,
     "input": [
      "#build a little train function that just takes indices\n",
      "function train(indices, lam::Float64, deg::Int, c::Float64, \n",
      "                demand_data, flow_data, arcs)\n",
      "    numNodes = maximum(map(pair->pair[1], keys(arcs)))\n",
      "    m, coeffs, reg_term = setUpFitting(deg, c, [k for k=keys(demand_data)], 1:numNodes)\n",
      "    \n",
      "    for a in values(arcs)\n",
      "        a.obsflow = a.trueflow\n",
      "    end\n",
      "    addIncreasingCnsts(m, coeffs, arcs, TOL=1e-8)  #uses the original obs flows\n",
      "    \n",
      "    #Compute the total cost on the network and the avg bpacost\n",
      "    avgCost = mean( [bpacost(a.obsflow, a.capacity, 1.0) for a in values(arcs)] )    \n",
      "    normalize(m, coeffs, [a.obsflow / a.capacity for a in values(arcs)], avgCost)\n",
      "    \n",
      "    resids = Variable[]\n",
      "    for i = indices\n",
      "        #copy the flow data over to the arcs, demand data to demands (slow)\n",
      "        for (ix, a) in enumerate(vArcs)\n",
      "            a.obsflow = flow_data[ix, i]\n",
      "        end\n",
      "        for odpair in keys(demands)\n",
      "            demands[odpair] = demand_data[odpair][i]\n",
      "        end\n",
      "    \n",
      "        #Dual Feasibility\n",
      "        ys = addNetworkCnsts(m, coeffs, demands, arcs, numNodes)\n",
      "        \n",
      "        #add the residual for this data point\n",
      "        push!(resids, addResid(m, coeffs, ys, demands, arcs, 1e6))\n",
      "    end\n",
      "\n",
      "    @setObjective(m, Min, sum{resids[i], i = 1:length(resids)} + lam*reg_term)\n",
      "    solve(m)\n",
      "    println((getObjectiveValue(m) - lam * getValue(reg_term))/ length(resids), \"  \", getValue(reg_term) )\n",
      "    return [getValue(coeffs[i]) for i =1:length(coeffs)]\n",
      "end\n"
     ],
     "language": "python",
     "metadata": {},
     "outputs": [
      {
       "metadata": {},
       "output_type": "pyout",
       "prompt_number": 8,
       "text": [
        "train (generic function with 1 method)"
       ]
      }
     ],
     "prompt_number": 8
    },
    {
     "cell_type": "code",
     "collapsed": false,
     "input": [
      "df = DataFrame()\n",
      "df[\"A\"] = 1:numData\n",
      "\n",
      "lamb_grid = [10. .^(-6:1)]\n",
      "c_grid = -5.:.5:5\n",
      "deg_grid = [2:6]\n",
      "\n",
      "lamb_grid = [10. .^-6, ]\n",
      "c_grid = 1.\n",
      "deg_grid = 6\n",
      "\n",
      "N = length(lamb_grid) * length(c_grid) * length(deg_grid)\n",
      "\n",
      "res = Array(Float64, N, 5)\n",
      "ix = 1\n",
      "for l in lamb_grid\n",
      "    for c in c_grid\n",
      "        for d in deg_grid\n",
      "            train(df) = train(df[\"A\"], l, d, c, demand_data, flow_data, arcs)\n",
      "            test(df, fit) = test(fit, df[\"A\"], demand_data, flow_data, arcs, g, vArcs)\n",
      "            rtrain, rtest = kfold_crossvalidate(df, train, test, 2)\n",
      "            \n",
      "            res[ix, 1] = l\n",
      "            res[ix, 2] = c\n",
      "            res[ix, 3] = float(d)\n",
      "            res[ix, 4] = mean(rtest) / 1e6\n",
      "            res[ix, 5] = std(rtest) / 1e6\n",
      "\n",
      "            ix +=1\n",
      "        end\n",
      "    end\n",
      "end"
     ],
     "language": "python",
     "metadata": {},
     "outputs": [
      {
       "output_type": "stream",
       "stream": "stdout",
       "text": [
        "1."
       ]
      },
      {
       "output_type": "stream",
       "stream": "stdout",
       "text": [
        "8989195397910659\n",
        "1"
       ]
      },
      {
       "output_type": "stream",
       "stream": "stdout",
       "text": [
        ".8744766393114214\n"
       ]
      }
     ],
     "prompt_number": 20
    },
    {
     "cell_type": "code",
     "collapsed": false,
     "input": [
      "writetable(\"trafficCVal.csv\", DataFrame(res))"
     ],
     "language": "python",
     "metadata": {},
     "outputs": [],
     "prompt_number": 22
    }
   ],
   "metadata": {}
  }
 ]
}