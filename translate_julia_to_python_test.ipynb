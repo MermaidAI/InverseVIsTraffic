{
 "cells": [
  {
   "cell_type": "code",
   "execution_count": 46,
   "metadata": {
    "collapsed": true
   },
   "outputs": [],
   "source": [
    "network_data_file = './data/SiouxFalls_net.txt'"
   ]
  },
  {
   "cell_type": "code",
   "execution_count": 47,
   "metadata": {
    "collapsed": true
   },
   "outputs": [],
   "source": [
    "trip_table_file = './data/SiouxFalls_trips.txt' "
   ]
  },
  {
   "cell_type": "code",
   "execution_count": null,
   "metadata": {
    "collapsed": true
   },
   "outputs": [],
   "source": []
  },
  {
   "cell_type": "code",
   "execution_count": 48,
   "metadata": {
    "collapsed": false
   },
   "outputs": [
    {
     "data": {
      "text/plain": [
       "['1', '2', '25900.20064', '6', '6', '0.15', '4', '0', '0', '1', ';']"
      ]
     },
     "execution_count": 48,
     "metadata": {},
     "output_type": "execute_result"
    }
   ],
   "source": [
    "string1.split()"
   ]
  },
  {
   "cell_type": "code",
   "execution_count": 49,
   "metadata": {
    "collapsed": false
   },
   "outputs": [
    {
     "data": {
      "text/plain": [
       "1"
      ]
     },
     "execution_count": 49,
     "metadata": {},
     "output_type": "execute_result"
    }
   ],
   "source": [
    "int(string1.split()[0])"
   ]
  },
  {
   "cell_type": "code",
   "execution_count": 50,
   "metadata": {
    "collapsed": false
   },
   "outputs": [],
   "source": [
    "start_node = []\n",
    "end_node = []\n",
    "capacity = []\n",
    "free_flow_time = []\n",
    "B = []\n",
    "power = []\n",
    "\n",
    "with open(network_data_file) as network_data_file_:\n",
    "    for line in network_data_file_:\n",
    "        if '<NUMBER OF ZONES>' in line:\n",
    "            number_of_zones = [int(s) for s in line.split() if s.isdigit()][0]\n",
    "        elif '<NUMBER OF NODES>' in line:\n",
    "            number_of_nodes = [int(s) for s in line.split() if s.isdigit()][0]\n",
    "        elif '<NUMBER OF LINKS>' in line:\n",
    "            number_of_links = [int(s) for s in line.split() if s.isdigit()][0]\n",
    "        elif '<FIRST THRU NODE>' in line or '<END OF METADATA>' in line or '~' in line or line == '\\n':\n",
    "            continue\n",
    "        else:\n",
    "            # print(line.split())\n",
    "            start_node.append(int(line.split()[0]))\n",
    "            end_node.append(int(line.split()[1]))\n",
    "            capacity.append(float(line.split()[2]))\n",
    "            free_flow_time.append(float(line.split()[4]))\n",
    "            B.append(float(line.split()[5]))\n",
    "            power.append(int(line.split()[6]))\n",
    "            \n",
    "        "
   ]
  },
  {
   "cell_type": "code",
   "execution_count": 51,
   "metadata": {
    "collapsed": false
   },
   "outputs": [
    {
     "data": {
      "text/plain": [
       "24"
      ]
     },
     "execution_count": 51,
     "metadata": {},
     "output_type": "execute_result"
    }
   ],
   "source": [
    "number_of_zones"
   ]
  },
  {
   "cell_type": "code",
   "execution_count": 52,
   "metadata": {
    "collapsed": false
   },
   "outputs": [
    {
     "data": {
      "text/plain": [
       "24"
      ]
     },
     "execution_count": 52,
     "metadata": {},
     "output_type": "execute_result"
    }
   ],
   "source": [
    "number_of_nodes"
   ]
  },
  {
   "cell_type": "code",
   "execution_count": 53,
   "metadata": {
    "collapsed": false
   },
   "outputs": [
    {
     "data": {
      "text/plain": [
       "76"
      ]
     },
     "execution_count": 53,
     "metadata": {},
     "output_type": "execute_result"
    }
   ],
   "source": [
    "number_of_links"
   ]
  },
  {
   "cell_type": "code",
   "execution_count": 78,
   "metadata": {
    "collapsed": false
   },
   "outputs": [],
   "source": [
    "import numpy as np\n",
    "\n",
    "travel_demand = np.zeros((number_of_zones, number_of_zones))\n",
    "od_pairs = []\n",
    "\n",
    "with open(trip_table_file) as trip_table_file_:\n",
    "    for line in trip_table_file_:\n",
    "        if '<NUMBER OF ZONES>' in line:\n",
    "            number_of_zones_trip = [int(s) for s in line.split() if s.isdigit()][0]\n",
    "            # Check if number_of_zone is same in both txt files\n",
    "            assert(number_of_zones_trip == number_of_zones) \n",
    "        elif '<TOTAL OD FLOW>' in line:\n",
    "            total_od_flow = [float(s) for s in line.split() if s.replace('.','',1).isdigit()][0]\n",
    "            assert(total_od_flow > 0)\n",
    "        elif '<END OF METADATA>' in line or line == '\\n':\n",
    "            continue\n",
    "        else:\n",
    "            if 'Origin' in line:\n",
    "                origin = int(line.split()[1])\n",
    "            elif ';' in line:\n",
    "                pairs = line.split(';')\n",
    "                for i in range(len(pairs)):\n",
    "                    if ':' in pairs[i]:\n",
    "                        pair = pairs[i].split(':')\n",
    "                        destination = int(pair[0])\n",
    "                        od_flow = float(pair[1])\n",
    "                        travel_demand[origin-1, destination-1] = od_flow\n",
    "                        od_pairs.append((origin, destination))"
   ]
  },
  {
   "cell_type": "code",
   "execution_count": 79,
   "metadata": {
    "collapsed": false
   },
   "outputs": [
    {
     "data": {
      "text/plain": [
       "(24, 24)"
      ]
     },
     "execution_count": 79,
     "metadata": {},
     "output_type": "execute_result"
    }
   ],
   "source": [
    "travel_demand.shape"
   ]
  },
  {
   "cell_type": "code",
   "execution_count": 80,
   "metadata": {
    "collapsed": false
   },
   "outputs": [
    {
     "data": {
      "text/plain": [
       "'1234'"
      ]
     },
     "execution_count": 80,
     "metadata": {},
     "output_type": "execute_result"
    }
   ],
   "source": [
    "\"12.34\".replace('.','',1)"
   ]
  },
  {
   "cell_type": "code",
   "execution_count": 81,
   "metadata": {
    "collapsed": false
   },
   "outputs": [
    {
     "data": {
      "text/plain": [
       "'1234'"
      ]
     },
     "execution_count": 81,
     "metadata": {},
     "output_type": "execute_result"
    }
   ],
   "source": [
    " \"12.3.4\".replace('.','',2)"
   ]
  },
  {
   "cell_type": "code",
   "execution_count": 82,
   "metadata": {
    "collapsed": false
   },
   "outputs": [
    {
     "data": {
      "text/plain": [
       "array([[    0.,   100.,   100.,   500.,   200.,   300.,   500.,   800.,\n",
       "          500.,  1300.,   500.,   200.,   500.,   300.,   500.,   500.,\n",
       "          400.,   100.,   300.,   300.,   100.,   400.,   300.,   100.],\n",
       "       [  100.,     0.,   100.,   200.,   100.,   400.,   200.,   400.,\n",
       "          200.,   600.,   200.,   100.,   300.,   100.,   100.,   400.,\n",
       "          200.,     0.,   100.,   100.,     0.,   100.,     0.,     0.],\n",
       "       [  100.,   100.,     0.,   200.,   100.,   300.,   100.,   200.,\n",
       "          100.,   300.,   300.,   200.,   100.,   100.,   100.,   200.,\n",
       "          100.,     0.,     0.,     0.,     0.,   100.,   100.,     0.],\n",
       "       [  500.,   200.,   200.,     0.,   500.,   400.,   400.,   700.,\n",
       "          700.,  1200.,  1400.,   600.,   600.,   500.,   500.,   800.,\n",
       "          500.,   100.,   200.,   300.,   200.,   400.,   500.,   200.],\n",
       "       [  200.,   100.,   100.,   500.,     0.,   200.,   200.,   500.,\n",
       "          800.,  1000.,   500.,   200.,   200.,   100.,   200.,   500.,\n",
       "          200.,     0.,   100.,   100.,   100.,   200.,   100.,     0.],\n",
       "       [  300.,   400.,   300.,   400.,   200.,     0.,   400.,   800.,\n",
       "          400.,   800.,   400.,   200.,   200.,   100.,   200.,   900.,\n",
       "          500.,   100.,   200.,   300.,   100.,   200.,   100.,   100.],\n",
       "       [  500.,   200.,   100.,   400.,   200.,   400.,     0.,  1000.,\n",
       "          600.,  1900.,   500.,   700.,   400.,   200.,   500.,  1400.,\n",
       "         1000.,   200.,   400.,   500.,   200.,   500.,   200.,   100.],\n",
       "       [  800.,   400.,   200.,   700.,   500.,   800.,  1000.,     0.,\n",
       "          800.,  1600.,   800.,   600.,   600.,   400.,   600.,  2200.,\n",
       "         1400.,   300.,   700.,   900.,   400.,   500.,   300.,   200.],\n",
       "       [  500.,   200.,   100.,   700.,   800.,   400.,   600.,   800.,\n",
       "            0.,  2800.,  1400.,   600.,   600.,   600.,   900.,  1400.,\n",
       "          900.,   200.,   400.,   600.,   300.,   700.,   500.,   200.],\n",
       "       [ 1300.,   600.,   300.,  1200.,  1000.,   800.,  1900.,  1600.,\n",
       "         2800.,     0.,  4000.,  2000.,  1900.,  2100.,  4000.,  4400.,\n",
       "         3900.,   700.,  1800.,  2500.,  1200.,  2600.,  1800.,   800.],\n",
       "       [  500.,   200.,   300.,  1500.,   500.,   400.,   500.,   800.,\n",
       "         1400.,  3900.,     0.,  1400.,  1000.,  1600.,  1400.,  1400.,\n",
       "         1000.,   100.,   400.,   600.,   400.,  1100.,  1300.,   600.],\n",
       "       [  200.,   100.,   200.,   600.,   200.,   200.,   700.,   600.,\n",
       "          600.,  2000.,  1400.,     0.,  1300.,   700.,   700.,   700.,\n",
       "          600.,   200.,   300.,   400.,   300.,   700.,   700.,   500.],\n",
       "       [  500.,   300.,   100.,   600.,   200.,   200.,   400.,   600.,\n",
       "          600.,  1900.,  1000.,  1300.,     0.,   600.,   700.,   600.,\n",
       "          500.,   100.,   300.,   600.,   600.,  1300.,   800.,   800.],\n",
       "       [  300.,   100.,   100.,   500.,   100.,   100.,   200.,   400.,\n",
       "          600.,  2100.,  1600.,   700.,   600.,     0.,  1300.,   700.,\n",
       "          700.,   100.,   300.,   500.,   400.,  1200.,  1100.,   400.],\n",
       "       [  500.,   100.,   100.,   500.,   200.,   200.,   500.,   600.,\n",
       "         1000.,  4000.,  1400.,   700.,   700.,  1300.,     0.,  1200.,\n",
       "         1500.,   200.,   800.,  1100.,   800.,  2600.,  1000.,   400.],\n",
       "       [  500.,   400.,   200.,   800.,   500.,   900.,  1400.,  2200.,\n",
       "         1400.,  4400.,  1400.,   700.,   600.,   700.,  1200.,     0.,\n",
       "         2800.,   500.,  1300.,  1600.,   600.,  1200.,   500.,   300.],\n",
       "       [  400.,   200.,   100.,   500.,   200.,   500.,  1000.,  1400.,\n",
       "          900.,  3900.,  1000.,   600.,   500.,   700.,  1500.,  2800.,\n",
       "            0.,   600.,  1700.,  1700.,   600.,  1700.,   600.,   300.],\n",
       "       [  100.,     0.,     0.,   100.,     0.,   100.,   200.,   300.,\n",
       "          200.,   700.,   200.,   200.,   100.,   100.,   200.,   500.,\n",
       "          600.,     0.,   300.,   400.,   100.,   300.,   100.,     0.],\n",
       "       [  300.,   100.,     0.,   200.,   100.,   200.,   400.,   700.,\n",
       "          400.,  1800.,   400.,   300.,   300.,   300.,   800.,  1300.,\n",
       "         1700.,   300.,     0.,  1200.,   400.,  1200.,   300.,   100.],\n",
       "       [  300.,   100.,     0.,   300.,   100.,   300.,   500.,   900.,\n",
       "          600.,  2500.,   600.,   500.,   600.,   500.,  1100.,  1600.,\n",
       "         1700.,   400.,  1200.,     0.,  1200.,  2400.,   700.,   400.],\n",
       "       [  100.,     0.,     0.,   200.,   100.,   100.,   200.,   400.,\n",
       "          300.,  1200.,   400.,   300.,   600.,   400.,   800.,   600.,\n",
       "          600.,   100.,   400.,  1200.,     0.,  1800.,   700.,   500.],\n",
       "       [  400.,   100.,   100.,   400.,   200.,   200.,   500.,   500.,\n",
       "          700.,  2600.,  1100.,   700.,  1300.,  1200.,  2600.,  1200.,\n",
       "         1700.,   300.,  1200.,  2400.,  1800.,     0.,  2100.,  1100.],\n",
       "       [  300.,     0.,   100.,   500.,   100.,   100.,   200.,   300.,\n",
       "          500.,  1800.,  1300.,   700.,   800.,  1100.,  1000.,   500.,\n",
       "          600.,   100.,   300.,   700.,   700.,  2100.,     0.,   700.],\n",
       "       [  100.,     0.,     0.,   200.,     0.,   100.,   100.,   200.,\n",
       "          200.,   800.,   600.,   500.,   700.,   400.,   400.,   300.,\n",
       "          300.,     0.,   100.,   400.,   500.,  1100.,   700.,     0.]])"
      ]
     },
     "execution_count": 82,
     "metadata": {},
     "output_type": "execute_result"
    }
   ],
   "source": [
    "travel_demand"
   ]
  },
  {
   "cell_type": "code",
   "execution_count": 83,
   "metadata": {
    "collapsed": false
   },
   "outputs": [
    {
     "data": {
      "text/plain": [
       "360600.0"
      ]
     },
     "execution_count": 83,
     "metadata": {},
     "output_type": "execute_result"
    }
   ],
   "source": [
    "total_od_flow"
   ]
  },
  {
   "cell_type": "code",
   "execution_count": null,
   "metadata": {
    "collapsed": true
   },
   "outputs": [],
   "source": []
  }
 ],
 "metadata": {
  "kernelspec": {
   "display_name": "Python 2",
   "language": "python",
   "name": "python2"
  },
  "language_info": {
   "codemirror_mode": {
    "name": "ipython",
    "version": 2
   },
   "file_extension": ".py",
   "mimetype": "text/x-python",
   "name": "python",
   "nbconvert_exporter": "python",
   "pygments_lexer": "ipython2",
   "version": "2.7.6"
  }
 },
 "nbformat": 4,
 "nbformat_minor": 0
}
