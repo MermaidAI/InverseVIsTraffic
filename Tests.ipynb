{
 "cells": [
  {
   "cell_type": "code",
   "execution_count": 1,
   "metadata": {
    "collapsed": false
   },
   "outputs": [],
   "source": [
    "cd(\"/home/jzh/Dropbox/Research/Data-driven_estimation_inverse_optimization/Experiments/InverseVIsTraffic\");"
   ]
  },
  {
   "cell_type": "code",
   "execution_count": 2,
   "metadata": {
    "collapsed": false
   },
   "outputs": [
    {
     "data": {
      "text/plain": [
       "Arc (constructor with 2 methods)"
      ]
     },
     "execution_count": 2,
     "metadata": {},
     "output_type": "execute_result"
    }
   ],
   "source": [
    "type Arc\n",
    "    initNode::Int \n",
    "    termNode::Int \n",
    "    capacity::Float64\n",
    "    freeflowtime::Float64\n",
    "            \n",
    "            \n",
    "    trueflow::Float64\n",
    "    obsflow::Float64\n",
    "end\n",
    "\n",
    "Arc(initNode::Int, termNode::Int, capacity::Float64,freeflowtime::Float64) = \n",
    "    Arc(initNode, termNode, capacity, freeflowtime, 0., 0.)"
   ]
  },
  {
   "cell_type": "code",
   "execution_count": 3,
   "metadata": {
    "collapsed": false
   },
   "outputs": [
    {
     "ename": "LoadError",
     "evalue": "JuMP not found\nat In[3]:1",
     "output_type": "error",
     "traceback": [
      "JuMP not found\nat In[3]:1",
      "",
      " in require at loading.jl:39"
     ]
    }
   ],
   "source": [
    "using JuMP\n",
    "using Gurobi\n",
    "using Graphs\n",
    "using Roots\n",
    "\n",
    "polyEval(coeffs, pt) = sum([coeffs[i] * pt^(i-1) for i = 1:length(coeffs)])  #VG think about faster way to do this\n",
    "polyEval(coeffs::Array{Float64, 1}, pt) = sum([coeffs[i] * pt^(i-1) for i = 1:length(coeffs)]) #separate for consts\n",
    "\n",
    "bpacost(flow::Float64, capacity::Float64, freeflowtime::Float64) = freeflowtime*(1 + .15 * (flow/capacity)^4)\n",
    "bpacost(flow::Float64, arc) = bpacost(flow, arc.capacity, arc.freeflowtime)\n",
    "bpacost(arc::Arc) = bpacost(arc.obsflow, arc)"
   ]
  },
  {
   "cell_type": "code",
   "execution_count": 4,
   "metadata": {
    "collapsed": false
   },
   "outputs": [
    {
     "data": {
      "text/plain": [
       "frank_wolfe (generic function with 1 method)"
      ]
     },
     "execution_count": 4,
     "metadata": {},
     "output_type": "execute_result"
    }
   ],
   "source": [
    "#Uses a Frank-Wolfe algorithm to solve bpa cost for the given network.\n",
    "#construct the underlying graph\n",
    "#Fix an ordering of the arcs... should just be pointers\n",
    "function frank_wolfe(g, vArcs, demand_data, idx; TOL=1e-4, MAX_ITERS=100)\n",
    "    #use the observed flows as the starting point\n",
    "    flows =[a.obsflow::Float64 for a in vArcs]\n",
    "    print(\"Initially, we have: \\n\\n\")\n",
    "    print(\"flows = \", \"\\n\", flows, \"\\n\\n\")\n",
    "    costs = [bpacost(a) for a in vArcs]\n",
    "    print(\"costs = \", \"\\n\", costs, \"\\n\\n\")\n",
    "    trace = Float64[]\n",
    "    print(\"trace = \", \"\\n\", trace, \"\\n\\n\")\n",
    "    print(\"==============================================================\", \"\\n\")\n",
    "    for iter = 1:MAX_ITERS\n",
    "        print(\"Iteration times: $iter \\n\\n\")\n",
    "        flow_dict = Dict{(Int, Int), Float64}()\n",
    "        for odpair = keys(demand_data)\n",
    "            #solve the shortest path problems, and update the total flow\n",
    "            r = dijkstra_shortest_paths(g, costs, odpair[1] )\n",
    "            currNode = odpair[2];\n",
    "            while currNode != odpair[1]\n",
    "                parent = r.parents[currNode]\n",
    "                if ! haskey(flow_dict, (parent, currNode) )\n",
    "                    flow_dict[(parent, currNode)] = demand_data[odpair][idx]  \n",
    "                else\n",
    "                    flow_dict[(parent, currNode)] += demand_data[odpair][idx]  \n",
    "                end\n",
    "                currNode = parent\n",
    "            end\n",
    "        end\n",
    "\n",
    "        d = [get(flow_dict, (a.initNode, a.termNode), 0.)::Float64 for a in vArcs]\n",
    "        print(\"d: $d \\n\\n\")\n",
    "        \n",
    "        #In the first iteration, just pull out the flows\n",
    "        if iter == 1\n",
    "        \tflows = d\n",
    "        \tcosts = [bpacost(flows[ix], a) for (ix, a) in enumerate(vArcs)]\n",
    "        \tcontinue\n",
    "        end\n",
    "        assert( dot(costs, d) <= dot(flows, costs) )\n",
    "        d -= flows \n",
    "        derivFun(alpha) = sum([bpacost(flows[ix] + alpha*d[ix], a)*d[ix] for (ix, a) in enumerate(vArcs)])\n",
    "        if derivFun(0) >=0 \n",
    "            alpha = 0\n",
    "        elseif derivFun(1) <= 0\n",
    "            alpha = 1\n",
    "        else\n",
    "            alpha = fzero(derivFun, 0, 1)\n",
    "        end\n",
    "        print(\"alpha: $alpha \\n\\n\")\n",
    "        converge_dist = alpha * norm(d) / norm(flows)\n",
    "        flows += alpha * d\n",
    "        push!(trace, converge_dist)\n",
    "        print(\"trace: $trace \\n\\n\")\n",
    "        print(\"--------------------------------------------------------------\", \"\\n\")\n",
    "        if (iter > 1) & (converge_dist <= TOL)\n",
    "            break\n",
    "        else\n",
    "            costs = [bpacost(flows[ix], a) for (ix, a) in enumerate(vArcs)]\n",
    "        end\n",
    "        \n",
    "    end\n",
    "    # VG Consider doing a polishing step to refine solution at the end...\n",
    "    # Maybe solve a simplicial assignment on last several extreme pt solutions via 1st order method\n",
    "    # Maybe switch over to refined step determination from fukushima paper\n",
    "    return trace[length(trace)], flows\n",
    "end"
   ]
  },
  {
   "cell_type": "code",
   "execution_count": 57,
   "metadata": {
    "collapsed": false
   },
   "outputs": [],
   "source": [
    "############\n",
    "#Read in the demand file\n",
    "file = open(\"./data_small_size/SiouxFalls_trips.txt\")\n",
    "demands = Dict{(Int64,Int64), Float64}()\n",
    "s = 0\n",
    "for line in eachline(file)\n",
    "    if contains(line, \"Origin\")\n",
    "        s = int(split(line)[2])\n",
    "    else\n",
    "        pairs = split(line, \";\")\n",
    "        for pair in pairs\n",
    "            if !contains(pair, \"\\n\")\n",
    "                pair_vals = split(pair, \":\")\n",
    "                t, demand = int(pair_vals[1]), float(pair_vals[2])\n",
    "                demands[(s,t)] = demand\n",
    "            end\n",
    "        end\n",
    "    end\n",
    "end                \n",
    "close(file)"
   ]
  },
  {
   "cell_type": "code",
   "execution_count": 58,
   "metadata": {
    "collapsed": false
   },
   "outputs": [],
   "source": [
    "############\n",
    "#read in the arc files\n",
    "arcs = Dict{(Int, Int), Arc}()\n",
    "file = open(\"./data_small_size/SiouxFalls_net.txt\")\n",
    "inHeader=true\n",
    "for line in eachline(file)\n",
    "    if inHeader\n",
    "        inHeader = !contains(line, \"Init node\")\n",
    "        continue\n",
    "    end\n",
    "    vals = split(line, )\n",
    "    arcs[(int(vals[1]), int(vals[2]))] = Arc(int(vals[1]), int(vals[2]), \n",
    "                                              float(vals[3]), float(vals[5]))\n",
    "end\n",
    "close(file)"
   ]
  },
  {
   "cell_type": "code",
   "execution_count": 59,
   "metadata": {
    "collapsed": false
   },
   "outputs": [],
   "source": [
    "###########\n",
    "#read in the initial flows\n",
    "file = open(\"./data_small_size/SiouxFallsFlow.txt\")\n",
    "ix = 0; \n",
    "for line in eachline(file)\n",
    "    ix +=1\n",
    "    if ix ==1\n",
    "        continue\n",
    "    end\n",
    "    vals = split(line)\n",
    "    arcs[(int(vals[1]), int(vals[2]))].trueflow = float(vals[3])\n",
    "end\n",
    "close(file)"
   ]
  },
  {
   "cell_type": "code",
   "execution_count": 60,
   "metadata": {
    "collapsed": false
   },
   "outputs": [
    {
     "name": "stdout",
     "output_type": "stream",
     "text": [
      "Initially, we have: \n",
      "\n",
      "flows = \n",
      "[0.0,0.0,0.0,0.0,0.0,0.0,0.0,0.0,0.0,0.0,0.0,0.0,0.0,0.0,0.0,0.0,0.0,0.0,0.0,0.0,0.0,0.0]\n",
      "\n",
      "costs = \n",
      "[4.0,5.0,4.0,2.0,2.0,6.0,10.0,4.0,5.0,5.0,2.0,2.0,4.0,3.0,3.0,3.0,4.0,6.0,10.0,3.0,4.0,5.0]\n",
      "\n",
      "trace = \n",
      "[]\n",
      "\n",
      "==============================================================\n",
      "Iteration times: 1 \n",
      "\n",
      "d: [3800.0,3700.0,5300.0,5200.0,7200.0,1800.0,4900.0,2700.0,7900.0,3700.0,5200.0,7200.0,2700.0,5300.0,5300.0,11500.0,5300.0,1800.0,4900.0,11500.0,3800.0,7900.0] \n",
      "\n",
      "Iteration times: 2 \n",
      "\n",
      "d: [3800.0,3700.0,5300.0,5200.0,7200.0,1800.0,4900.0,2700.0,7900.0,3700.0,5200.0,7200.0,2700.0,5300.0,5300.0,11500.0,5300.0,1800.0,4900.0,11500.0,3800.0,7900.0] \n",
      "\n",
      "alpha: 0 \n",
      "\n",
      "trace: [0.0] \n",
      "\n",
      "--------------------------------------------------------------\n",
      "conv_tol = \n",
      "0.0\n",
      "\n",
      "flow_data = \n",
      "[3800.0\n",
      " 3700.0\n",
      " 5300.0\n",
      " 5200.0\n",
      " 7200.0\n",
      " 1800.0\n",
      " 4900.0\n",
      " 2700.0\n",
      " 7900.0\n",
      " 3700.0\n",
      " 5200.0\n",
      " 7200.0\n",
      " 2700.0\n",
      " 5300.0\n",
      " 5300.0\n",
      " 11500.0\n",
      " 5300.0\n",
      " 1800.0\n",
      " 4900.0\n",
      " 11500.0\n",
      " 3800.0\n",
      " 7900.0]\n",
      "\n"
     ]
    }
   ],
   "source": [
    "##########\n",
    "#Generate the simulated data\n",
    "##########\n",
    "numData = 1; sigma = .0\n",
    "flow_data = Array(Float64, length(arcs), numData)\n",
    "demand_data = Dict{(Int, Int), Array{Float64, 1}}()\n",
    "\n",
    "numNodes = maximum(map(pair->pair[1], keys(demands)))\n",
    "g = simple_inclist(numNodes, is_directed=true)\n",
    "vArcs = Arc[]\n",
    "for arc in values(arcs)\n",
    "    arc.obsflow = arc.trueflow\n",
    "    add_edge!(g, arc.initNode, arc.termNode) \n",
    "    push!(vArcs, arc)\n",
    "end\n",
    "\n",
    "#srand(8675309)\n",
    "for iRun = 1:numData\n",
    "    #perturb the demand_data\n",
    "    for odpair in keys(demands)\n",
    "        if ! haskey(demand_data, odpair)\n",
    "            demand_data[odpair] = [demands[odpair] * (1 + sigma * rand()), ]\n",
    "        else\n",
    "            push!(demand_data[odpair], demands[odpair] * (1  + sigma * rand()))\n",
    "        end\n",
    "    end\n",
    "    #solve using FW and record\n",
    "    conv_tol, flow_data[:, iRun] = frank_wolfe(g, vArcs, demand_data, iRun)\n",
    "    print(\"conv_tol = \", \"\\n\", conv_tol, \"\\n\\n\", \"flow_data = \", \"\\n\", flow_data, \"\\n\\n\")\n",
    "end\n",
    "\n",
    "#Randomzie the flow data a little bit too\n",
    "for i = 1:size(flow_data, 1)\n",
    "    for j = 1:size(flow_data, 2)\n",
    "        flow_data[i, j] *= (1 + sigma * rand() )\n",
    "    end\n",
    "end"
   ]
  },
  {
   "cell_type": "code",
   "execution_count": 51,
   "metadata": {
    "collapsed": false
   },
   "outputs": [
    {
     "data": {
      "text/plain": [
       "Dict{(Int64,Int64),Arc} with 6 entries:\n",
       "  (1,2) => Arc(1,2,10000.0,6.0,0.0,0.0)\n",
       "  (3,1) => Arc(3,1,30000.0,4.0,0.0,0.0)\n",
       "  (2,3) => Arc(2,3,500.0,100.0,0.0,0.0)\n",
       "  (3,2) => Arc(3,2,500.0,100.0,0.0,0.0)\n",
       "  (1,3) => Arc(1,3,30000.0,4.0,0.0,0.0)\n",
       "  (2,1) => Arc(2,1,10000.0,6.0,0.0,0.0)"
      ]
     },
     "execution_count": 51,
     "metadata": {},
     "output_type": "execute_result"
    }
   ],
   "source": [
    "arcs"
   ]
  },
  {
   "cell_type": "code",
   "execution_count": 56,
   "metadata": {
    "collapsed": false
   },
   "outputs": [
    {
     "data": {
      "text/plain": [
       "22x1 Array{Float64,2}:\n",
       "  3800.0\n",
       "  3700.0\n",
       "  5300.0\n",
       "  5200.0\n",
       "  7200.0\n",
       "  1800.0\n",
       "  4900.0\n",
       "  2700.0\n",
       "  7900.0\n",
       "  3700.0\n",
       "  5200.0\n",
       "  7200.0\n",
       "  2700.0\n",
       "  5300.0\n",
       "  5300.0\n",
       " 11500.0\n",
       "  5300.0\n",
       "  1800.0\n",
       "  4900.0\n",
       " 11500.0\n",
       "  3800.0\n",
       "  7900.0"
      ]
     },
     "execution_count": 56,
     "metadata": {},
     "output_type": "execute_result"
    }
   ],
   "source": [
    "flow_data"
   ]
  },
  {
   "cell_type": "code",
   "execution_count": 61,
   "metadata": {
    "collapsed": false
   },
   "outputs": [
    {
     "data": {
      "text/plain": [
       "22x1 Array{Float64,2}:\n",
       "  3800.0\n",
       "  3700.0\n",
       "  5300.0\n",
       "  5200.0\n",
       "  7200.0\n",
       "  1800.0\n",
       "  4900.0\n",
       "  2700.0\n",
       "  7900.0\n",
       "  3700.0\n",
       "  5200.0\n",
       "  7200.0\n",
       "  2700.0\n",
       "  5300.0\n",
       "  5300.0\n",
       " 11500.0\n",
       "  5300.0\n",
       "  1800.0\n",
       "  4900.0\n",
       " 11500.0\n",
       "  3800.0\n",
       "  7900.0"
      ]
     },
     "execution_count": 61,
     "metadata": {},
     "output_type": "execute_result"
    }
   ],
   "source": [
    "flow_data"
   ]
  },
  {
   "cell_type": "code",
   "execution_count": 1,
   "metadata": {
    "collapsed": false
   },
   "outputs": [
    {
     "data": {
      "text/plain": [
       "6x6 Array{Float64,2}:\n",
       " 2.0  0.0  0.0  0.0  0.8  0.0\n",
       " 0.0  2.0  0.0  0.0  0.0  0.8\n",
       " 0.0  0.0  5.0  0.0  0.0  0.0\n",
       " 0.0  0.0  0.0  5.0  0.0  0.0\n",
       " 3.0  0.0  0.0  0.0  2.0  0.0\n",
       " 0.0  3.0  0.0  0.0  0.0  2.0"
      ]
     },
     "execution_count": 1,
     "metadata": {},
     "output_type": "execute_result"
    }
   ],
   "source": [
    "M = [[2,0,0,0,3,0] [0,2,0,0,0,3] [0,0,5,0,0,0] [0,0,0,5,0,0] [0.8,0,0,0,2,0] [0,0.8,0,0,0,2]]"
   ]
  },
  {
   "cell_type": "code",
   "execution_count": 2,
   "metadata": {
    "collapsed": false
   },
   "outputs": [
    {
     "data": {
      "text/plain": [
       "6x6 Array{Float64,2}:\n",
       " 2.0  0.0  0.0  0.0  1.9  0.0\n",
       " 0.0  2.0  0.0  0.0  0.0  1.9\n",
       " 0.0  0.0  5.0  0.0  0.0  0.0\n",
       " 0.0  0.0  0.0  5.0  0.0  0.0\n",
       " 1.9  0.0  0.0  0.0  2.0  0.0\n",
       " 0.0  1.9  0.0  0.0  0.0  2.0"
      ]
     },
     "execution_count": 2,
     "metadata": {},
     "output_type": "execute_result"
    }
   ],
   "source": [
    "J=(M+M')/2"
   ]
  },
  {
   "cell_type": "code",
   "execution_count": 3,
   "metadata": {
    "collapsed": false
   },
   "outputs": [
    {
     "data": {
      "text/plain": [
       "([0.1,0.1,3.9,3.9,5.0,5.0],\n",
       "6x6 Array{Float64,2}:\n",
       "  0.0        0.707107      0.707107      0.0        0.0          -2.33731e-16\n",
       " -0.707107   2.22045e-16  -2.22045e-16  -0.707107   0.0           0.0        \n",
       "  0.0        0.0           0.0           0.0        1.0           2.33731e-16\n",
       "  0.0        1.11022e-16   1.11022e-16   0.0       -2.33731e-16   1.0        \n",
       "  0.0       -0.707107      0.707107      0.0        0.0           0.0        \n",
       "  0.707107   0.0           0.0          -0.707107   0.0           0.0        )"
      ]
     },
     "execution_count": 3,
     "metadata": {},
     "output_type": "execute_result"
    }
   ],
   "source": [
    "eig(J)"
   ]
  },
  {
   "cell_type": "code",
   "execution_count": 11,
   "metadata": {
    "collapsed": false
   },
   "outputs": [
    {
     "data": {
      "text/plain": [
       "6x6 Array{Float64,2}:\n",
       " 1.0  0.0  0.0  0.0  1.5   0.0 \n",
       " 0.0  1.0  0.0  0.0  0.0   1.5 \n",
       " 0.0  0.0  1.0  0.0  0.0   0.0 \n",
       " 0.0  0.0  0.0  1.0  0.0   0.0 \n",
       " 1.5  0.0  0.0  0.0  2.25  0.0 \n",
       " 0.0  1.5  0.0  0.0  0.0   2.25"
      ]
     },
     "execution_count": 11,
     "metadata": {},
     "output_type": "execute_result"
    }
   ],
   "source": [
    "A = [[1,0,0,0,1.5,0] [0,1,0,0,0,1.5] [0,0,1,0,0,0] [0,0,0,1,0,0] [1.5,0,0,0,2.25,0] [0,1.5,0,0,0,2.25]]"
   ]
  },
  {
   "cell_type": "code",
   "execution_count": 12,
   "metadata": {
    "collapsed": false
   },
   "outputs": [
    {
     "data": {
      "text/plain": [
       "([1.33227e-15,1.33227e-15,1.0,1.0,3.25,3.25],\n",
       "6x6 Array{Float64,2}:\n",
       "  0.83205   0.0      0.0  0.0  -0.5547   0.0    \n",
       "  0.0      -0.83205  0.0  0.0   0.0      0.5547 \n",
       "  0.0       0.0      1.0  0.0   0.0      0.0    \n",
       "  0.0       0.0      0.0  1.0   0.0      0.0    \n",
       " -0.5547    0.0      0.0  0.0  -0.83205  0.0    \n",
       "  0.0       0.5547   0.0  0.0   0.0      0.83205)"
      ]
     },
     "execution_count": 12,
     "metadata": {},
     "output_type": "execute_result"
    }
   ],
   "source": [
    "eig(A)"
   ]
  },
  {
   "cell_type": "code",
   "execution_count": 1,
   "metadata": {
    "collapsed": false
   },
   "outputs": [],
   "source": [
    "deg = 3\n",
    "c = 1.5\n",
    "samples = linspace(0, 1, deg + 1)\n",
    "k(x,y) = (c + x*y)^deg\n",
    "K = [ k(x,y) for x = samples, y=samples]\n",
    "K = convert(Array{Float64, 2}, K)\n",
    "assert(rank(K) == deg+1)"
   ]
  },
  {
   "cell_type": "code",
   "execution_count": 2,
   "metadata": {
    "collapsed": false
   },
   "outputs": [
    {
     "data": {
      "text/plain": [
       "4x4 Array{Float64,2}:\n",
       " 3.375  3.375     3.375     3.375  \n",
       " 3.375  4.18193   5.1082    6.16204\n",
       " 3.375  5.1082    7.35168  10.1713 \n",
       " 3.375  6.16204  10.1713   15.625  "
      ]
     },
     "execution_count": 2,
     "metadata": {},
     "output_type": "execute_result"
    }
   ],
   "source": [
    "K"
   ]
  },
  {
   "cell_type": "code",
   "execution_count": 3,
   "metadata": {
    "collapsed": false
   },
   "outputs": [
    {
     "data": {
      "text/plain": [
       "4"
      ]
     },
     "execution_count": 3,
     "metadata": {},
     "output_type": "execute_result"
    }
   ],
   "source": [
    "rank(K)"
   ]
  },
  {
   "cell_type": "code",
   "execution_count": 4,
   "metadata": {
    "collapsed": false
   },
   "outputs": [
    {
     "data": {
      "text/plain": [
       "4x4 Array{Float64,2}:\n",
       " 1.83712  1.83712   1.83712   1.83712 \n",
       " 0.0      0.898292  1.92944   3.1026  \n",
       " 0.0      0.0       0.503946  1.60739 \n",
       " 0.0      0.0       0.0       0.200469"
      ]
     },
     "execution_count": 4,
     "metadata": {},
     "output_type": "execute_result"
    }
   ],
   "source": [
    "C = chol(K + 1e-6* eye(deg+1))"
   ]
  },
  {
   "cell_type": "code",
   "execution_count": 1,
   "metadata": {
    "collapsed": false
   },
   "outputs": [
    {
     "data": {
      "text/latex": [
       "$$ -Calphas_{1}^2 - Calphas_{2}^2 - Calphas_{3}^2 - Calphas_{4}^2 + reg_term \\geq 0 $$"
      ],
      "text/plain": [
       "-Calphas[1]² - Calphas[2]² - Calphas[3]² - Calphas[4]² + reg_term ≥ 0"
      ]
     },
     "execution_count": 1,
     "metadata": {},
     "output_type": "execute_result"
    }
   ],
   "source": [
    "using JuMP\n",
    "using Gurobi\n",
    "using Graphs\n",
    "using Roots\n",
    "\n",
    "deg = 3\n",
    "m = Model(solver=GurobiSolver(OutputFlag=false))\n",
    "@defVar(m, Calphas[1:deg+1])\n",
    "@defVar(m, reg_term >= 0)\n",
    "reg_term_ = QuadExpr(Calphas[:], Calphas[:], ones(deg+1), AffExpr() )\n",
    "@addConstraint(m, reg_term >= reg_term_)\n"
   ]
  },
  {
   "cell_type": "code",
   "execution_count": 2,
   "metadata": {
    "collapsed": false
   },
   "outputs": [
    {
     "data": {
      "text/latex": [
       "$$ 0 $$"
      ],
      "text/plain": [
       "0"
      ]
     },
     "execution_count": 2,
     "metadata": {},
     "output_type": "execute_result"
    }
   ],
   "source": [
    "AffExpr()"
   ]
  },
  {
   "cell_type": "code",
   "execution_count": 30,
   "metadata": {
    "collapsed": false
   },
   "outputs": [
    {
     "data": {
      "text/plain": [
       "setUpFitting (generic function with 2 methods)"
      ]
     },
     "execution_count": 30,
     "metadata": {},
     "output_type": "execute_result"
    }
   ],
   "source": [
    "using JuMP\n",
    "using Gurobi\n",
    "using Graphs\n",
    "using Roots\n",
    "\n",
    "\n",
    "polyEval(coeffs, pt) = sum([coeffs[i] * pt^(i-1) for i = 1:length(coeffs)])  #VG think about faster way to do this\n",
    "polyEval(coeffs::Array{Float64, 1}, pt) = sum([coeffs[i] * pt^(i-1) for i = 1:length(coeffs)]) #separate for consts\n",
    "\n",
    "bpacost(flow::Float64, capacity::Float64, freeflowtime::Float64) = freeflowtime*(1 + .15 * (flow/capacity)^4)\n",
    "\n",
    "\n",
    "function setUpFitting(deg::Int, c)\n",
    "\tm = Model(solver=GurobiSolver(OutputFlag=false))\n",
    "\t@defVar(m, coeffs[1:deg+1])\n",
    "\t@defVar(m, Calphas[1:deg+1])\n",
    "\n",
    "\t##VG Probably want to go back and redo this with an intercept term\n",
    "\t#build the graham matrix\n",
    "\tsamples = linspace(0, 1, deg + 1)\n",
    "\tk(x,y) = (c + x*y)^deg\n",
    "\tK = [ k(x,y) for x = samples, y=samples]\n",
    "\tK = convert(Array{Float64, 2}, K)\n",
    "\tassert(rank(K) == deg+1)\n",
    "    \n",
    "    # C是一个上三角阵，满足: C' * C = K\n",
    "\tC = chol(K + 1e-6* eye(deg+1))\n",
    "    \n",
    "\tfor i=1:deg + 1\n",
    "\t\t@addConstraint(m, polyEval(coeffs, samples[i]) == \n",
    "\t\t\t\t\t\tsum{C[j, i] * Calphas[j], j=1:deg+1})\n",
    "\tend\n",
    "\t@defVar(m, reg_term >= 0)\n",
    "\treg_term_ = QuadExpr(Calphas[:], Calphas[:], ones(deg+1), AffExpr() )\n",
    "\t@addConstraint(m, reg_term >= reg_term_)\n",
    "\n",
    "\treturn m, coeffs, reg_term, C, K\n",
    "end"
   ]
  },
  {
   "cell_type": "code",
   "execution_count": 31,
   "metadata": {
    "collapsed": false
   },
   "outputs": [
    {
     "data": {
      "text/plain": [
       "(Feasibility problem with:\n",
       " * 3 linear constraints\n",
       " * 1 quadratic constraint\n",
       " * 7 variables\n",
       "Solver set to Gurobi,coeffs[i] free for all i in {1,2,3},reg_term,\n",
       "3x3 Array{Float64,2}:\n",
       " 1.0  1.0       1.0     \n",
       " 0.0  0.750001  1.66667 \n",
       " 0.0  0.0       0.471412,\n",
       "\n",
       "3x3 Array{Float64,2}:\n",
       " 1.0  1.0     1.0 \n",
       " 1.0  1.5625  2.25\n",
       " 1.0  2.25    4.0 )"
      ]
     },
     "execution_count": 31,
     "metadata": {},
     "output_type": "execute_result"
    }
   ],
   "source": [
    "deg = 2\n",
    "c = 1\n",
    "m, coeffs, reg_term, C, K = setUpFitting(deg, c)"
   ]
  },
  {
   "cell_type": "code",
   "execution_count": 32,
   "metadata": {
    "collapsed": false
   },
   "outputs": [
    {
     "data": {
      "text/latex": [
       "$$ \\begin{alignat*}{1}\\min\\quad & 0\\\\\n",
       "\\text{Subject to} \\quad & coeffs_{1} - 1.000000499999875 Calphas_{1} = 0\\\\\n",
       " & coeffs_{1} + 0.5 coeffs_{2} + 0.25 coeffs_{3} - 0.999999500000375 Calphas_{1} - 0.7500013333314814 Calphas_{2} = 0\\\\\n",
       " & coeffs_{1} + coeffs_{2} + coeffs_{3} - 0.999999500000375 Calphas_{1} - 1.6666650370427163 Calphas_{2} - 0.47141240363231984 Calphas_{3} = 0\\\\\n",
       " & -Calphas_{1}^2 - Calphas_{2}^2 - Calphas_{3}^2 + reg_term \\geq 0\\\\\n",
       " & coeffs_{i} free \\quad\\forall i \\in \\{1,2,3\\}\\\\\n",
       " & Calphas_{i} free \\quad\\forall i \\in \\{1,2,3\\}\\\\\n",
       " & reg_term \\geq 0\\\\\n",
       "\\end{alignat*}\n",
       " $$"
      ],
      "text/plain": [
       "Feasibility problem with:\n",
       " * 3 linear constraints\n",
       " * 1 quadratic constraint\n",
       " * 7 variables\n",
       "Solver set to Gurobi"
      ]
     },
     "execution_count": 32,
     "metadata": {},
     "output_type": "execute_result"
    }
   ],
   "source": [
    "m"
   ]
  },
  {
   "cell_type": "code",
   "execution_count": 33,
   "metadata": {
    "collapsed": false
   },
   "outputs": [
    {
     "data": {
      "text/latex": [
       "$$ coeffs_{i} free \\quad\\forall i \\in \\{1,2,3\\} $$"
      ],
      "text/plain": [
       "coeffs[i] free for all i in {1,2,3}"
      ]
     },
     "execution_count": 33,
     "metadata": {},
     "output_type": "execute_result"
    }
   ],
   "source": [
    "coeffs"
   ]
  },
  {
   "cell_type": "code",
   "execution_count": 34,
   "metadata": {
    "collapsed": false
   },
   "outputs": [
    {
     "data": {
      "text/latex": [
       "$$ reg_term $$"
      ],
      "text/plain": [
       "reg_term"
      ]
     },
     "execution_count": 34,
     "metadata": {},
     "output_type": "execute_result"
    }
   ],
   "source": [
    "reg_term"
   ]
  },
  {
   "cell_type": "code",
   "execution_count": 35,
   "metadata": {
    "collapsed": false
   },
   "outputs": [
    {
     "data": {
      "text/plain": [
       "3x3 Array{Float64,2}:\n",
       " 1.0  1.0       1.0     \n",
       " 0.0  0.750001  1.66667 \n",
       " 0.0  0.0       0.471412"
      ]
     },
     "execution_count": 35,
     "metadata": {},
     "output_type": "execute_result"
    }
   ],
   "source": [
    "C"
   ]
  },
  {
   "cell_type": "code",
   "execution_count": 36,
   "metadata": {
    "collapsed": false
   },
   "outputs": [
    {
     "data": {
      "text/plain": [
       "3x3 Array{Float64,2}:\n",
       " 1.0  1.0     1.0 \n",
       " 1.0  1.5625  2.25\n",
       " 1.0  2.25    4.0 "
      ]
     },
     "execution_count": 36,
     "metadata": {},
     "output_type": "execute_result"
    }
   ],
   "source": [
    "K"
   ]
  },
  {
   "cell_type": "code",
   "execution_count": 37,
   "metadata": {
    "collapsed": false
   },
   "outputs": [
    {
     "data": {
      "text/plain": [
       "3x3 Array{Float64,2}:\n",
       " 3.0       2.41667   0.471412\n",
       " 2.41667   3.34027   0.785687\n",
       " 0.471412  0.785687  0.22223 "
      ]
     },
     "execution_count": 37,
     "metadata": {},
     "output_type": "execute_result"
    }
   ],
   "source": [
    "C*C'"
   ]
  },
  {
   "cell_type": "code",
   "execution_count": 38,
   "metadata": {
    "collapsed": false
   },
   "outputs": [
    {
     "data": {
      "text/plain": [
       "3x3 Array{Float64,2}:\n",
       " 1.0  0.0       0.0     \n",
       " 1.0  0.750001  0.0     \n",
       " 1.0  1.66667   0.471412"
      ]
     },
     "execution_count": 38,
     "metadata": {},
     "output_type": "execute_result"
    }
   ],
   "source": [
    "C'"
   ]
  },
  {
   "cell_type": "code",
   "execution_count": 40,
   "metadata": {
    "collapsed": false
   },
   "outputs": [
    {
     "data": {
      "text/plain": [
       "3x3 Array{Float64,2}:\n",
       " 1.0  1.0     1.0 \n",
       " 1.0  1.5625  2.25\n",
       " 1.0  2.25    4.0 "
      ]
     },
     "execution_count": 40,
     "metadata": {},
     "output_type": "execute_result"
    }
   ],
   "source": [
    "C' * C"
   ]
  },
  {
   "cell_type": "code",
   "execution_count": 5,
   "metadata": {
    "collapsed": false
   },
   "outputs": [
    {
     "data": {
      "text/plain": [
       "3"
      ]
     },
     "execution_count": 5,
     "metadata": {},
     "output_type": "execute_result"
    }
   ],
   "source": [
    "x = 3"
   ]
  },
  {
   "cell_type": "code",
   "execution_count": 6,
   "metadata": {
    "collapsed": false
   },
   "outputs": [
    {
     "data": {
      "text/plain": [
       "3-element Array{Int64,1}:\n",
       " 1\n",
       " 2\n",
       " 3"
      ]
     },
     "execution_count": 6,
     "metadata": {},
     "output_type": "execute_result"
    }
   ],
   "source": [
    "x = [1, 2, 3]"
   ]
  },
  {
   "cell_type": "code",
   "execution_count": 7,
   "metadata": {
    "collapsed": false
   },
   "outputs": [
    {
     "data": {
      "text/plain": [
       "1x3 Array{Int64,2}:\n",
       " 1  2  3"
      ]
     },
     "execution_count": 7,
     "metadata": {},
     "output_type": "execute_result"
    }
   ],
   "source": [
    "y = [1 2 3]"
   ]
  },
  {
   "cell_type": "code",
   "execution_count": 14,
   "metadata": {
    "collapsed": false
   },
   "outputs": [
    {
     "ename": "LoadError",
     "evalue": "syntax: extra token \"2\" after end of expression\nwhile loading In[14], in expression starting on line 1",
     "output_type": "error",
     "traceback": [
      "syntax: extra token \"2\" after end of expression\nwhile loading In[14], in expression starting on line 1",
      ""
     ]
    }
   ],
   "source": [
    "-p 2"
   ]
  },
  {
   "cell_type": "code",
   "execution_count": 3,
   "metadata": {
    "collapsed": false
   },
   "outputs": [],
   "source": [
    "using TrafficAssignment\n",
    "using Base.Test"
   ]
  },
  {
   "cell_type": "code",
   "execution_count": 4,
   "metadata": {
    "collapsed": false
   },
   "outputs": [
    {
     "data": {
      "text/plain": [
       "TA_Data(\"Sioux Falls\",24,24,1,76,[1,1,2,2,3,3,3,4,4,4  …  22,22,22,22,23,23,23,24,24,24],[2,3,1,6,1,4,12,3,5,11  …  15,20,21,23,14,22,24,13,21,23],[25900.2,23403.5,25900.2,4958.18,23403.5,17110.5,23403.5,17110.5,17782.8,4908.83  …  9599.18,5075.7,5229.91,5000.0,4924.79,5000.0,5078.51,5091.26,4885.36,5078.51],[6.0,4.0,6.0,5.0,4.0,4.0,4.0,4.0,2.0,6.0  …  3.0,5.0,2.0,4.0,4.0,4.0,2.0,4.0,3.0,2.0],[6.0,4.0,6.0,5.0,4.0,4.0,4.0,4.0,2.0,6.0  …  3.0,5.0,2.0,4.0,4.0,4.0,2.0,4.0,3.0,2.0],[0.15,0.15,0.15,0.15,0.15,0.15,0.15,0.15,0.15,0.15  …  0.15,0.15,0.15,0.15,0.15,0.15,0.15,0.15,0.15,0.15],[4.0,4.0,4.0,4.0,4.0,4.0,4.0,4.0,4.0,4.0  …  4.0,4.0,4.0,4.0,4.0,4.0,4.0,4.0,4.0,4.0],[0.0,0.0,0.0,0.0,0.0,0.0,0.0,0.0,0.0,0.0  …  0.0,0.0,0.0,0.0,0.0,0.0,0.0,0.0,0.0,0.0],[0.0,0.0,0.0,0.0,0.0,0.0,0.0,0.0,0.0,0.0  …  0.0,0.0,0.0,0.0,0.0,0.0,0.0,0.0,0.0,0.0],[1,1,1,1,1,1,1,1,1,1  …  1,1,1,1,1,1,1,1,1,1],360600.0,24x24 Array{Float64,2}:\n",
       "    0.0  100.0  100.0   500.0   200.0  …   100.0   400.0   300.0   100.0\n",
       "  100.0    0.0  100.0   200.0   100.0        0.0   100.0     0.0     0.0\n",
       "  100.0  100.0    0.0   200.0   100.0        0.0   100.0   100.0     0.0\n",
       "  500.0  200.0  200.0     0.0   500.0      200.0   400.0   500.0   200.0\n",
       "  200.0  100.0  100.0   500.0     0.0      100.0   200.0   100.0     0.0\n",
       "  300.0  400.0  300.0   400.0   200.0  …   100.0   200.0   100.0   100.0\n",
       "  500.0  200.0  100.0   400.0   200.0      200.0   500.0   200.0   100.0\n",
       "  800.0  400.0  200.0   700.0   500.0      400.0   500.0   300.0   200.0\n",
       "  500.0  200.0  100.0   700.0   800.0      300.0   700.0   500.0   200.0\n",
       " 1300.0  600.0  300.0  1200.0  1000.0     1200.0  2600.0  1800.0   800.0\n",
       "  500.0  200.0  300.0  1500.0   500.0  …   400.0  1100.0  1300.0   600.0\n",
       "  200.0  100.0  200.0   600.0   200.0      300.0   700.0   700.0   500.0\n",
       "  500.0  300.0  100.0   600.0   200.0      600.0  1300.0   800.0   800.0\n",
       "  300.0  100.0  100.0   500.0   100.0      400.0  1200.0  1100.0   400.0\n",
       "  500.0  100.0  100.0   500.0   200.0      800.0  2600.0  1000.0   400.0\n",
       "  500.0  400.0  200.0   800.0   500.0  …   600.0  1200.0   500.0   300.0\n",
       "  400.0  200.0  100.0   500.0   200.0      600.0  1700.0   600.0   300.0\n",
       "  100.0    0.0    0.0   100.0     0.0      100.0   300.0   100.0     0.0\n",
       "  300.0  100.0    0.0   200.0   100.0      400.0  1200.0   300.0   100.0\n",
       "  300.0  100.0    0.0   300.0   100.0     1200.0  2400.0   700.0   400.0\n",
       "  100.0    0.0    0.0   200.0   100.0  …     0.0  1800.0   700.0   500.0\n",
       "  400.0  100.0  100.0   400.0   200.0     1800.0     0.0  2100.0  1100.0\n",
       "  300.0    0.0  100.0   500.0   100.0      700.0  2100.0     0.0   700.0\n",
       "  100.0    0.0    0.0   200.0     0.0      500.0  1100.0   700.0     0.0,[(1,1),(1,2),(1,3),(1,4),(1,5),(1,6),(1,7),(1,8),(1,9),(1,10)  …  (24,15),(24,16),(24,17),(24,18),(24,19),(24,20),(24,21),(24,22),(24,23),(24,24)],0.0,0.0,4.23133528710744e6)"
      ]
     },
     "execution_count": 4,
     "metadata": {},
     "output_type": "execute_result"
    }
   ],
   "source": [
    "# write your own tests here\n",
    "data_time = time()\n",
    "ta_data = load_ta_network(\"Sioux Falls\")"
   ]
  },
  {
   "cell_type": "code",
   "execution_count": 5,
   "metadata": {
    "collapsed": false
   },
   "outputs": [
    {
     "name": "stdout",
     "output_type": "stream",
     "text": [
      "Data Loading Completed, time:11.369055032730103 seconds\n"
     ]
    }
   ],
   "source": [
    "println(\"Data Loading Completed, time:\", time() - data_time, \" seconds\")"
   ]
  },
  {
   "cell_type": "code",
   "execution_count": 8,
   "metadata": {
    "collapsed": false
   },
   "outputs": [
    {
     "name": "stdout",
     "output_type": "stream",
     "text": [
      "-------------------------------------\n",
      "Network Name: Sioux Falls\n",
      "Method: bfw\n",
      "Line Search Step: exact\n",
      "Maximum Interation Number: 2000\n",
      "Tolerance for AEC: 1.0e-5\n",
      "Number of processors: 1\n",
      "Setup time = 0.013502120971679688 seconds\n",
      "k=1,\ttauk=0.3199426617213497,\tobjective=1.6368800421965161e7,\taec=172.76814835715197\n",
      "k=2,\ttauk=0.2445967720763769,\tobjective=7.121451141877039e6,\taec=31.05136201349762\n",
      "k=3,\ttauk=0.19907062649129206,\tobjective=5.816530837659503e6,\taec=9.609754845979461\n",
      "k=4,\ttauk=0.8655087931429251,\tobjective=5.468680976781959e6,\taec=6.037390199544071\n",
      "k=5,\ttauk=0.9999999814878309,\tobjective=4.90637856331669e6,\taec=6.380174991147677\n",
      "k=6,\ttauk=0.20521830598638904,\tobjective=4.789330576124015e6,\taec=5.10642826044441\n",
      "k=7,\ttauk=0.2454941147262086,\tobjective=4.603650060534018e6,\taec=2.0136478267985933\n",
      "k=8,\ttauk=0.5123132848338909,\tobjective=4.518965480833182e6,\taec=1.439909496842868\n",
      "k=9,\ttauk=0.9999999814878309,\tobjective=4.441919867581811e6,\taec=1.4335873081349715\n",
      "k=10,\ttauk=0.11199838309503714,\tobjective=4.380604514750459e6,\taec=1.195070541526002\n",
      "k=11,\ttauk=0.1648583209113248,\tobjective=4.356313331893269e6,\taec=0.7405998365699685\n",
      "k=12,\ttauk=0.30358695006521463,\tobjective=4.337460789007139e6,\taec=0.5079298930774204\n",
      "k=13,\ttauk=0.7898190882663105,\tobjective=4.3194538776941225e6,\taec=0.6602169147159629\n",
      "k=14,\ttauk=0.9999999814878309,\tobjective=4.29569645114436e6,\taec=0.7500668296672732\n",
      "k=15,\ttauk=0.11644121058338205,\tobjective=4.285423568140966e6,\taec=0.6495911397226516\n",
      "k=16,\ttauk=0.11529725569344507,\tobjective=4.271881531243402e6,\taec=0.37166783471233034\n",
      "k=17,\ttauk=0.1923997216482101,\tobjective=4.264260694581476e6,\taec=0.24026785497029873\n",
      "k=18,\ttauk=0.26328421833491406,\tobjective=4.260223184399621e6,\taec=0.2714500473535124\n",
      "k=19,\ttauk=0.3436114659880444,\tobjective=4.256015575508204e6,\taec=0.2633981600818542\n",
      "k=20,\ttauk=0.741573876298104,\tobjective=4.252588459199828e6,\taec=0.21008969722780554\n",
      "k=21,\ttauk=0.9999999814878309,\tobjective=4.247486903211823e6,\taec=0.22504976685145736\n",
      "k=22,\ttauk=0.03558943711675438,\tobjective=4.2453752012926685e6,\taec=0.17414763838323932\n",
      "k=23,\ttauk=0.11258984852344543,\tobjective=4.244256400919818e6,\taec=0.13794540618767645\n",
      "k=24,\ttauk=0.10862918640021592,\tobjective=4.242005476225199e6,\taec=0.14237974604489453\n",
      "k=25,\ttauk=0.2505913495679524,\tobjective=4.240662938695137e6,\taec=0.13644447971555843\n",
      "k=26,\ttauk=0.29958637531955074,\tobjective=4.238713305716686e6,\taec=0.1644299357070309\n",
      "k=27,\ttauk=0.308732229565437,\tobjective=4.237417573511155e6,\taec=0.10872765506248915\n",
      "k=28,\ttauk=0.3857649873330956,\tobjective=4.2366946380724e6,\taec=0.10211266528583104\n",
      "k=29,\ttauk=0.8081662764236025,\tobjective=4.235876425515292e6,\taec=0.09803539357666201\n",
      "k=30,\ttauk=0.9999999814878309,\tobjective=4.234874844441906e6,\taec=0.08592811558016741\n",
      "k=31,\ttauk=0.023585986634359124,\tobjective=4.234432286970185e6,\taec=0.05759149275121966\n",
      "k=32,\ttauk=0.06232517352375106,\tobjective=4.234187041601674e6,\taec=0.06601355949942853\n",
      "k=33,\ttauk=0.11566753047374458,\tobjective=4.233776432244331e6,\taec=0.07655286489087877\n",
      "k=34,\ttauk=0.0751788101875661,\tobjective=4.23329886443677e6,\taec=0.060280684741992344\n",
      "k=35,\ttauk=0.08645490874530713,\tobjective=4.233030955700929e6,\taec=0.05156055728192335\n",
      "k=36,\ttauk=0.07984881476819497,\tobjective=4.232797751885933e6,\taec=0.042553558258512286\n",
      "k=37,\ttauk=0.08876302371903448,\tobjective=4.232562229765838e6,\taec=0.04195514333076182\n",
      "k=38,\ttauk=0.150344201624805,\tobjective=4.232404631295001e6,\taec=0.03484887959270031\n",
      "k=39,\ttauk=0.14773024645399258,\tobjective=4.232240181706097e6,\taec=0.04798550649674447\n",
      "k=40,\ttauk=0.04422233220141928,\tobjective=4.232109616351119e6,\taec=0.02446818661684903\n",
      "k=41,\ttauk=0.07281286735423675,\tobjective=4.232075070028126e6,\taec=0.02371190277801716\n",
      "k=42,\ttauk=0.06936484634686989,\tobjective=4.232007188825147e6,\taec=0.021946622843870143\n",
      "k=43,\ttauk=0.043127116298074857,\tobjective=4.231946762829484e6,\taec=0.019871042544454546\n",
      "k=44,\ttauk=0.0445256717369382,\tobjective=4.231918514050426e6,\taec=0.017238174608755697\n",
      "k=45,\ttauk=0.09387044799797607,\tobjective=4.231889543994121e6,\taec=0.019607259318001644\n",
      "k=46,\ttauk=0.05945479025750191,\tobjective=4.231836299408915e6,\taec=0.017293873353465085\n",
      "k=47,\ttauk=0.08987645002260575,\tobjective=4.231806784763687e6,\taec=0.01537506466962581\n",
      "k=48,\ttauk=0.17892646911702229,\tobjective=4.231776597942936e6,\taec=0.019140002808267075\n",
      "k=49,\ttauk=0.2455496701096463,\tobjective=4.2317331655263435e6,\taec=0.022125179950373594\n",
      "k=50,\ttauk=0.23683915424697194,\tobjective=4.231685688954584e6,\taec=0.02262247189301667\n",
      "k=51,\ttauk=0.1788804202838181,\tobjective=4.231650266068017e6,\taec=0.016417303462895032\n",
      "k=52,\ttauk=0.1284647535173743,\tobjective=4.231626964497904e6,\taec=0.013231631800825736\n",
      "k=53,\ttauk=0.17019170190508623,\tobjective=4.23160798648607e6,\taec=0.014658605402572618\n",
      "k=54,\ttauk=0.13307427981024025,\tobjective=4.231585421865085e6,\taec=0.01442161734396446\n",
      "k=55,\ttauk=0.26233467212893896,\tobjective=4.231567837822132e6,\taec=0.014298715238189258\n",
      "k=56,\ttauk=0.24649164298313522,\tobjective=4.231540493493595e6,\taec=0.017764186406904792\n",
      "k=57,\ttauk=0.31912101100191037,\tobjective=4.231521519440127e6,\taec=0.01244865603073481\n",
      "k=58,\ttauk=0.46742869966582684,\tobjective=4.231505077228658e6,\taec=0.01488486677716593\n",
      "k=59,\ttauk=0.9999999814878309,\tobjective=4.2314842752687475e6,\taec=0.013407360283537555\n",
      "k=60,\ttauk=0.004524743820222881,\tobjective=4.231464482831322e6,\taec=0.011908160126533026\n",
      "k=61,\ttauk=0.007125274838929935,\tobjective=4.231454765827409e6,\taec=0.008556008736385498\n",
      "k=62,\ttauk=0.008926765094288748,\tobjective=4.231445811645935e6,\taec=0.008109354174804899\n",
      "k=63,\ttauk=0.009369324441178776,\tobjective=4.231440333321007e6,\taec=0.007524882053741509\n",
      "k=64,\ttauk=0.010148391047479981,\tobjective=4.2314350834354805e6,\taec=0.006287587760897024\n",
      "k=65,\ttauk=0.009453295473321131,\tobjective=4.231432071287141e6,\taec=0.005552468713764484\n",
      "k=66,\ttauk=0.011079849216877687,\tobjective=4.231428538885793e6,\taec=0.006051040485393332\n",
      "k=67,\ttauk=0.008887678054394043,\tobjective=4.231424179424374e6,\taec=0.004799599896938732\n",
      "k=68,\ttauk=0.008529536338541548,\tobjective=4.2314219224167885e6,\taec=0.005303363331815169\n",
      "k=69,\ttauk=0.019677758953563843,\tobjective=4.231419494956145e6,\taec=0.006038530258659668\n",
      "k=70,\ttauk=0.019135175207323458,\tobjective=4.231414151473557e6,\taec=0.006815720451721964\n",
      "k=71,\ttauk=0.014317350967325797,\tobjective=4.231408502090401e6,\taec=0.00794500572127055\n",
      "k=72,\ttauk=0.02386668562287462,\tobjective=4.231405549869858e6,\taec=0.0057468363231526305\n",
      "k=73,\ttauk=0.017061877636023497,\tobjective=4.231401348399844e6,\taec=0.006617025556954485\n",
      "k=74,\ttauk=0.028057748749739396,\tobjective=4.231397924779361e6,\taec=0.00545491247245483\n",
      "k=75,\ttauk=0.024154411319061292,\tobjective=4.231393406842797e6,\taec=0.005599705036259522\n",
      "k=76,\ttauk=0.019638623448181004,\tobjective=4.231390630368977e6,\taec=0.004510240923394813\n",
      "k=77,\ttauk=0.016794647532564592,\tobjective=4.231388766382951e6,\taec=0.0046193779758433385\n",
      "k=78,\ttauk=0.02041914553785221,\tobjective=4.231386409373061e6,\taec=0.004170709718747092\n",
      "k=79,\ttauk=0.013397325344374085,\tobjective=4.231384882591826e6,\taec=0.0037450305996741635\n",
      "k=80,\ttauk=0.013718166809966976,\tobjective=4.231383565969066e6,\taec=0.003889215392978987\n",
      "k=81,\ttauk=0.016219873625377353,\tobjective=4.231382174641392e6,\taec=0.0038249580676089382\n",
      "k=82,\ttauk=0.0178986679494156,\tobjective=4.231380354419185e6,\taec=0.00411816629582703\n",
      "k=83,\ttauk=0.013503467442325166,\tobjective=4.2313780699877255e6,\taec=0.004036371279071398\n",
      "k=84,\ttauk=0.01171631408067909,\tobjective=4.231376678183204e6,\taec=0.0033771472745789373\n",
      "k=85,\ttauk=0.010728665955852193,\tobjective=4.231374947178975e6,\taec=0.003480141737048436\n",
      "k=86,\ttauk=0.006356782843357864,\tobjective=4.231374042173258e6,\taec=0.0023568520741511388\n",
      "k=87,\ttauk=0.0028738135123506123,\tobjective=4.231373598078508e6,\taec=0.0016036967578986108\n",
      "k=88,\ttauk=0.008938638350773707,\tobjective=4.231373382367104e6,\taec=0.001609243308261132\n",
      "k=89,\ttauk=0.0076729613599246255,\tobjective=4.231372915461729e6,\taec=0.00213473797262622\n",
      "k=90,\ttauk=0.012173120704864017,\tobjective=4.231372496054629e6,\taec=0.002013110059145084\n",
      "k=91,\ttauk=0.00695312271060323,\tobjective=4.231372057437079e6,\taec=0.0019341236733765865\n",
      "k=92,\ttauk=0.010627898762899662,\tobjective=4.231371622606062e6,\taec=0.0022539352346986484\n",
      "k=93,\ttauk=0.01813955458495558,\tobjective=4.231371249319895e6,\taec=0.002154807120234113\n",
      "k=94,\ttauk=0.015339230205379513,\tobjective=4.2313703454562025e6,\taec=0.0024638443546632074\n",
      "k=95,\ttauk=0.027532927773182853,\tobjective=4.231369763016697e6,\taec=0.0026471582582763835\n",
      "k=96,\ttauk=0.0562450239696833,\tobjective=4.231368796691438e6,\taec=0.0034221097904774535\n",
      "k=97,\ttauk=0.03748351676442242,\tobjective=4.231366849886599e6,\taec=0.0031452229603839894\n",
      "k=98,\ttauk=0.034696080715693134,\tobjective=4.231365753948598e6,\taec=0.003267488378036563\n",
      "k=99,\ttauk=0.037557118639453345,\tobjective=4.231364592027477e6,\taec=0.0033431759581235313\n",
      "k=100,\ttauk=0.05544209555778209,\tobjective=4.231363630232557e6,\taec=0.003150290564072943\n",
      "k=101,\ttauk=0.01910613220816207,\tobjective=4.2313618407816095e6,\taec=0.003626517504993444\n",
      "k=102,\ttauk=0.02801354057343659,\tobjective=4.231361082581397e6,\taec=0.0025886364648205393\n",
      "k=103,\ttauk=0.04221126371482676,\tobjective=4.231360543855083e6,\taec=0.0023039967844110856\n",
      "k=104,\ttauk=0.049816505491384534,\tobjective=4.2313595277788015e6,\taec=0.0025879460716200656\n",
      "k=105,\ttauk=0.02928430889789022,\tobjective=4.231358615512608e6,\taec=0.0021966511971269194\n",
      "k=106,\ttauk=0.039803553460122876,\tobjective=4.231357758508925e6,\taec=0.0033329078741784865\n",
      "k=107,\ttauk=0.016007324219734966,\tobjective=4.231357049453659e6,\taec=0.0020726320315544978\n",
      "k=108,\ttauk=0.0073351068387540914,\tobjective=4.231356647479988e6,\taec=0.001936454884826732\n",
      "k=109,\ttauk=0.006598236528662241,\tobjective=4.231356422253654e6,\taec=0.0014867286705290584\n",
      "k=110,\ttauk=0.004599646253789899,\tobjective=4.231356181429402e6,\taec=0.0015003915601479705\n",
      "k=111,\ttauk=0.009034344313956034,\tobjective=4.231355996663533e6,\taec=0.0017021514754406632\n",
      "k=112,\ttauk=0.009383504497277335,\tobjective=4.231355687678283e6,\taec=0.001576229461308112\n",
      "k=113,\ttauk=0.015408315412159514,\tobjective=4.231355209745396e6,\taec=0.002059677645093511\n",
      "k=114,\ttauk=0.014499655508511856,\tobjective=4.231354815729013e6,\taec=0.002197441817426572\n",
      "k=115,\ttauk=0.0041557583078250995,\tobjective=4.231354314793929e6,\taec=0.0015335781364848903\n",
      "k=116,\ttauk=0.005421308321355329,\tobjective=4.231354190361005e6,\taec=0.0011533271890372262\n",
      "k=117,\ttauk=0.004558360693384007,\tobjective=4.231354061289694e6,\taec=0.0010654689937275206\n",
      "k=118,\ttauk=0.005143345888420673,\tobjective=4.231353914356498e6,\taec=0.0011922411697968857\n",
      "k=119,\ttauk=0.005939444155492336,\tobjective=4.231353766155993e6,\taec=0.001141534157115935\n",
      "k=120,\ttauk=0.003300589709496614,\tobjective=4.231353602933158e6,\taec=0.0011014542319355775\n",
      "k=121,\ttauk=0.004813681153612997,\tobjective=4.231353497504351e6,\taec=0.001012066211045218\n",
      "k=122,\ttauk=0.005677879749960818,\tobjective=4.231353354937483e6,\taec=0.0010762221905538689\n",
      "k=123,\ttauk=0.0064702445052046125,\tobjective=4.231353207491749e6,\taec=0.0012163771700327859\n",
      "k=124,\ttauk=0.01750990174786893,\tobjective=4.2313530548309805e6,\taec=0.0015000101990937872\n",
      "k=125,\ttauk=0.01730045040093045,\tobjective=4.231352683942186e6,\taec=0.0018068034808692243\n",
      "k=126,\ttauk=0.020324436136862502,\tobjective=4.231352251567658e6,\taec=0.0016576284408430903\n",
      "k=127,\ttauk=0.011051041474137564,\tobjective=4.231351846692478e6,\taec=0.0016101019867890605\n",
      "k=128,\ttauk=0.020438640592311423,\tobjective=4.231351675009388e6,\taec=0.0016409510177009003\n",
      "k=129,\ttauk=0.024246391873082997,\tobjective=4.231351371238314e6,\taec=0.0019058420936020708\n",
      "k=130,\ttauk=0.028209047120697776,\tobjective=4.231350854284622e6,\taec=0.0020121430435269053\n",
      "k=131,\ttauk=0.02747504000694297,\tobjective=4.231350282004727e6,\taec=0.0022296852187325333\n",
      "k=132,\ttauk=0.02933058861738536,\tobjective=4.231349807049708e6,\taec=0.002007675435328448\n",
      "k=133,\ttauk=0.01935406612683807,\tobjective=4.231349342230344e6,\taec=0.0018458246672345214\n",
      "k=134,\ttauk=0.01174071789742467,\tobjective=4.231348914837383e6,\taec=0.0013143546492273542\n",
      "k=135,\ttauk=0.005674997797915565,\tobjective=4.231348764479331e6,\taec=0.0012200254335079015\n",
      "k=136,\ttauk=0.005557538446148562,\tobjective=4.231348571757901e6,\taec=0.0011735555716556267\n",
      "k=137,\ttauk=0.005288019023597419,\tobjective=4.23134838594712e6,\taec=0.001399882377796309\n",
      "k=138,\ttauk=0.013101432257046049,\tobjective=4.231348238598997e6,\taec=0.0013894684386609563\n",
      "k=139,\ttauk=0.012582807397897326,\tobjective=4.231347943114846e6,\taec=0.0016764943720075532\n",
      "k=140,\ttauk=0.013056891893345702,\tobjective=4.231347711786869e6,\taec=0.0012647770174804309\n",
      "k=141,\ttauk=0.011958861653206773,\tobjective=4.231347491924289e6,\taec=0.001404514336479178\n",
      "k=142,\ttauk=0.012983954393109861,\tobjective=4.231347330777629e6,\taec=0.0010718121595579473\n",
      "k=143,\ttauk=0.005053806483381618,\tobjective=4.231347155761904e6,\taec=0.0010331507416207527\n",
      "k=144,\ttauk=0.006798297162567129,\tobjective=4.23134708755152e6,\taec=0.0007498367669301534\n",
      "k=145,\ttauk=0.00480651842733151,\tobjective=4.2313469792633485e6,\taec=0.0007891245498241887\n",
      "k=146,\ttauk=0.005692009033736563,\tobjective=4.231346914945004e6,\taec=0.0008830031565908617\n",
      "k=147,\ttauk=0.0027878813724376223,\tobjective=4.231346837895561e6,\taec=0.0007347364027127499\n",
      "k=148,\ttauk=0.0029430158315173305,\tobjective=4.231346791244427e6,\taec=0.0006279659005273516\n",
      "k=149,\ttauk=0.002211332997897484,\tobjective=4.231346754670433e6,\taec=0.000547639620578184\n",
      "k=150,\ttauk=0.0038805134312240607,\tobjective=4.231346719782386e6,\taec=0.0006776192304882295\n",
      "k=151,\ttauk=0.0028085735280070283,\tobjective=4.23134666524769e6,\taec=0.0007071618918154886\n",
      "k=152,\ttauk=0.006188930639030003,\tobjective=4.231346619402177e6,\taec=0.0007832860690709441\n",
      "k=153,\ttauk=0.006635409257033195,\tobjective=4.23134653374402e6,\taec=0.0009610086881787544\n",
      "k=154,\ttauk=0.002701296542418331,\tobjective=4.231346454272548e6,\taec=0.000701273076656712\n",
      "k=155,\ttauk=0.0026992021169264706,\tobjective=4.231346417958299e6,\taec=0.0006238813619054461\n",
      "k=156,\ttauk=0.004620039814794002,\tobjective=4.231346380406554e6,\taec=0.0006571467698970629\n",
      "k=157,\ttauk=0.0023191670178030546,\tobjective=4.231346326946024e6,\taec=0.00067210519278016\n",
      "k=158,\ttauk=0.004263131980851055,\tobjective=4.231346273910009e6,\taec=0.0007629566450556301\n",
      "k=159,\ttauk=0.004690242428690258,\tobjective=4.231346215701305e6,\taec=0.0007497220795732808\n",
      "k=160,\ttauk=0.005423905913897756,\tobjective=4.231346153027788e6,\taec=0.0007104349656560506\n",
      "k=161,\ttauk=0.007650416561734252,\tobjective=4.231346051157741e6,\taec=0.0010991105138253435\n",
      "k=162,\ttauk=0.010520035821322972,\tobjective=4.231345947272049e6,\taec=0.0010985529879304356\n",
      "k=163,\ttauk=0.01132160553031506,\tobjective=4.231345797500043e6,\taec=0.0012785363807774257\n",
      "k=164,\ttauk=0.009008429326817505,\tobjective=4.231345677301026e6,\taec=0.0008237203292076539\n",
      "k=165,\ttauk=0.014098460047811182,\tobjective=4.231345538336849e6,\taec=0.0011904099197279304\n",
      "k=166,\ttauk=0.01703154728174066,\tobjective=4.23134536145055e6,\taec=0.001279964768097912\n",
      "k=167,\ttauk=0.004390586907863235,\tobjective=4.231345174662273e6,\taec=0.001073873685866582\n",
      "k=168,\ttauk=0.0038112297488221525,\tobjective=4.231345100123398e6,\taec=0.0007180919150831679\n",
      "k=169,\ttauk=0.0036676203970343714,\tobjective=4.231345045713331e6,\taec=0.0008004467000774688\n",
      "k=170,\ttauk=0.002140594956797033,\tobjective=4.231344993966095e6,\taec=0.0006097482423144648\n",
      "k=171,\ttauk=0.0024002153410248674,\tobjective=4.231344957821354e6,\taec=0.0005760551858342114\n",
      "k=172,\ttauk=0.0038384252636017254,\tobjective=4.231344925100792e6,\taec=0.0006573231097133092\n",
      "k=173,\ttauk=0.003901210350978212,\tobjective=4.2313448729356835e6,\taec=0.0007523489319597987\n",
      "k=174,\ttauk=0.003675332054965477,\tobjective=4.23134482595394e6,\taec=0.0005663885074474963\n",
      "k=175,\ttauk=0.0036760748485676472,\tobjective=4.231344784976954e6,\taec=0.0004860638179421152\n",
      "k=176,\ttauk=0.0034131810558525413,\tobjective=4.231344758417295e6,\taec=0.0005327487878059256\n",
      "k=177,\ttauk=0.0035566523257343496,\tobjective=4.231344727979865e6,\taec=0.0004946376554021241\n",
      "k=178,\ttauk=0.002745613090847177,\tobjective=4.231344697751525e6,\taec=0.0005681864409312333\n",
      "k=179,\ttauk=0.004826141003679374,\tobjective=4.231344675391553e6,\taec=0.00043809214044368506\n",
      "k=180,\ttauk=0.003903457881547334,\tobjective=4.231344649027042e6,\taec=0.00036382063721470363\n",
      "k=181,\ttauk=0.004126159062455651,\tobjective=4.231344613332018e6,\taec=0.0005626254152047902\n",
      "k=182,\ttauk=0.007976838235428016,\tobjective=4.231344579642649e6,\taec=0.000642328317028161\n",
      "k=183,\ttauk=0.011401941013253654,\tobjective=4.23134453058083e6,\taec=0.0006192310375155787\n",
      "k=184,\ttauk=0.007407125558010976,\tobjective=4.231344461843699e6,\taec=0.0007282921281311077\n",
      "k=185,\ttauk=0.006603861226175317,\tobjective=4.231344419528957e6,\taec=0.0007109527304485498\n",
      "k=186,\ttauk=0.006015195992522682,\tobjective=4.231344375077514e6,\taec=0.0007607772114649994\n",
      "k=187,\ttauk=0.0034361548219013415,\tobjective=4.231344329081248e6,\taec=0.0006659177100803461\n",
      "k=188,\ttauk=0.00530501381054489,\tobjective=4.231344269497584e6,\taec=0.0007611774428320416\n",
      "k=189,\ttauk=0.00526417160357529,\tobjective=4.231344203882284e6,\taec=0.0006310357992639078\n",
      "k=190,\ttauk=0.004058312745308962,\tobjective=4.231344159980401e6,\taec=0.0006892739556170897\n",
      "k=191,\ttauk=0.005546486402072861,\tobjective=4.231344122076051e6,\taec=0.0005908209356467466\n",
      "k=192,\ttauk=0.005642729855755044,\tobjective=4.231344041491813e6,\taec=0.0008639090333683535\n",
      "k=193,\ttauk=0.010098270325163373,\tobjective=4.231343955331386e6,\taec=0.0010314869029934017\n",
      "k=194,\ttauk=0.0047178483061354436,\tobjective=4.231343822791711e6,\taec=0.001037419467386534\n",
      "k=195,\ttauk=0.004656324990691796,\tobjective=4.23134377541706e6,\taec=0.000732066988042611\n",
      "k=196,\ttauk=0.0016295690133230356,\tobjective=4.231343709540245e6,\taec=0.000634000728338651\n",
      "k=197,\ttauk=0.0023140758347139022,\tobjective=4.231343678403524e6,\taec=0.0005489659160261957\n",
      "k=198,\ttauk=0.005787973135639681,\tobjective=4.231343624412774e6,\taec=0.0010516004656718893\n",
      "k=199,\ttauk=0.003253633536463204,\tobjective=4.231343514092712e6,\taec=0.0007847866378270019\n",
      "k=200,\ttauk=0.0017937829675580485,\tobjective=4.231343462259242e6,\taec=0.0005874815753119246\n",
      "k=201,\ttauk=0.0016370682971324022,\tobjective=4.231343421145861e6,\taec=0.0005073472316786482\n",
      "k=202,\ttauk=0.0023344476380899367,\tobjective=4.231343392490348e6,\taec=0.0005507790166223488\n",
      "k=203,\ttauk=0.0018648612987232952,\tobjective=4.231343340423753e6,\taec=0.0006155976833733284\n",
      "k=204,\ttauk=0.0028397664891678383,\tobjective=4.231343309699005e6,\taec=0.0005559531562221435\n",
      "k=205,\ttauk=0.0022366630606958514,\tobjective=4.231343279112192e6,\taec=0.00046307685210344215\n",
      "k=206,\ttauk=0.004098631603817553,\tobjective=4.2313432538204705e6,\taec=0.000432672505401265\n",
      "k=207,\ttauk=0.00346844127623105,\tobjective=4.231343220582983e6,\taec=0.0004863539994428274\n",
      "k=208,\ttauk=0.0034602220811190396,\tobjective=4.231343200648994e6,\taec=0.0004466124898064479\n",
      "k=209,\ttauk=0.002258151239540311,\tobjective=4.231343168826264e6,\taec=0.00043129782031506666\n",
      "k=210,\ttauk=0.0025895557241971882,\tobjective=4.231343156641026e6,\taec=0.0003772549996776501\n",
      "k=211,\ttauk=0.0020092806653095887,\tobjective=4.231343144202028e6,\taec=0.0003532442634437632\n",
      "k=212,\ttauk=0.002575883205279534,\tobjective=4.23134313211842e6,\taec=0.0004080793381029667\n",
      "k=213,\ttauk=0.006234213796332521,\tobjective=4.2313431161041e6,\taec=0.00039113877739403984\n",
      "k=214,\ttauk=0.010136263871889178,\tobjective=4.231343079274246e6,\taec=0.0006843841138114524\n",
      "k=215,\ttauk=0.008614952595067362,\tobjective=4.231343018618751e6,\taec=0.0005784985600261475\n",
      "k=216,\ttauk=0.0063453986118846215,\tobjective=4.231342961882775e6,\taec=0.0008020418512707765\n",
      "k=217,\ttauk=0.006769030348134239,\tobjective=4.231342917348675e6,\taec=0.0006572468321733239\n",
      "k=218,\ttauk=0.005623977594897999,\tobjective=4.2313428736173e6,\taec=0.0006282996579734025\n",
      "k=219,\ttauk=0.007471823287669957,\tobjective=4.231342831208885e6,\taec=0.0006122218637974624\n",
      "k=220,\ttauk=0.008764135327475607,\tobjective=4.231342780822031e6,\taec=0.0007094141065090878\n",
      "k=221,\ttauk=0.007809202775352232,\tobjective=4.231342713340406e6,\taec=0.0007005404616503073\n",
      "k=222,\ttauk=0.006205279076273546,\tobjective=4.2313426693593105e6,\taec=0.0005613724804259692\n",
      "k=223,\ttauk=0.0039010528757706118,\tobjective=4.231342606175174e6,\taec=0.0006483575819846381\n",
      "k=224,\ttauk=0.006018884377344921,\tobjective=4.23134257794447e6,\taec=0.0005360020714627575\n",
      "k=225,\ttauk=0.0025566048950723974,\tobjective=4.231342544749237e6,\taec=0.00038108848506937043\n",
      "k=226,\ttauk=0.002155409434371724,\tobjective=4.231342532330358e6,\taec=0.00034910893676460566\n",
      "k=227,\ttauk=0.0014741019152996167,\tobjective=4.231342523747028e6,\taec=0.0002580550011981917\n",
      "k=228,\ttauk=0.0014526623524586848,\tobjective=4.2313425185376415e6,\taec=0.0002587768838095726\n",
      "k=229,\ttauk=0.005063596755524481,\tobjective=4.231342510645937e6,\taec=0.00038460439342501276\n",
      "k=230,\ttauk=0.002238529057246854,\tobjective=4.231342484216317e6,\taec=0.00040834718530029636\n",
      "k=231,\ttauk=0.0010081097881597869,\tobjective=4.231342471427041e6,\taec=0.00037698768326445496\n",
      "k=232,\ttauk=0.0022916401967583815,\tobjective=4.231342458195892e6,\taec=0.0003351261009887291\n",
      "k=233,\ttauk=0.0021570219058712906,\tobjective=4.231342445594523e6,\taec=0.00029303442948165696\n",
      "k=234,\ttauk=0.0011572581615868775,\tobjective=4.231342432501486e6,\taec=0.00027529842886325805\n",
      "k=235,\ttauk=0.0018954568627463488,\tobjective=4.231342425586382e6,\taec=0.00029595392683590127\n",
      "k=236,\ttauk=0.0014722367643491912,\tobjective=4.231342414762694e6,\taec=0.00031254586160360645\n",
      "k=237,\ttauk=0.00223658473491239,\tobjective=4.231342407337934e6,\taec=0.0003787385946613877\n",
      "k=238,\ttauk=0.008707475009719268,\tobjective=4.231342393448285e6,\taec=0.0003823017318517639\n",
      "k=239,\ttauk=0.019351046486941255,\tobjective=4.23134234826973e6,\taec=0.0007156570922765164\n",
      "k=240,\ttauk=0.007082556619961808,\tobjective=4.231342252857042e6,\taec=0.0006685391043354688\n",
      "k=241,\ttauk=0.0070238143495112045,\tobjective=4.231342219917065e6,\taec=0.0006110481803470224\n",
      "k=242,\ttauk=0.004247653128481282,\tobjective=4.231342193408334e6,\taec=0.0005565632603126586\n",
      "k=243,\ttauk=0.005066187277047483,\tobjective=4.231342148988471e6,\taec=0.0007767248975838257\n",
      "k=244,\ttauk=0.008680995279651018,\tobjective=4.231342079101634e6,\taec=0.0008718381142109442\n",
      "k=245,\ttauk=0.00897300071842609,\tobjective=4.2313419915042035e6,\taec=0.000724027764929755\n",
      "k=246,\ttauk=0.01116499216099603,\tobjective=4.231341917952813e6,\taec=0.0007426745854721043\n",
      "k=247,\ttauk=0.009107487117294194,\tobjective=4.231341845172022e6,\taec=0.0006649284186983234\n",
      "k=248,\ttauk=0.006082711153919661,\tobjective=4.231341766973126e6,\taec=0.000718701131134622\n",
      "k=249,\ttauk=0.011195389492936192,\tobjective=4.2313417225193735e6,\taec=0.0006551211605807203\n",
      "k=250,\ttauk=0.0032735991967885753,\tobjective=4.231341674899058e6,\taec=0.0004264810014334293\n",
      "k=251,\ttauk=0.0031901470499532607,\tobjective=4.2313416571746e6,\taec=0.00042253640995588705\n",
      "k=252,\ttauk=0.006961386001073039,\tobjective=4.231341638586012e6,\taec=0.0004671909823560187\n",
      "k=253,\ttauk=0.009769963899210405,\tobjective=4.231341597744955e6,\taec=0.0006172209341906495\n",
      "k=254,\ttauk=0.013030234112605002,\tobjective=4.231341549383354e6,\taec=0.0006746333808221308\n",
      "k=255,\ttauk=0.009448204290231977,\tobjective=4.2313414939478785e6,\taec=0.0006111983689533766\n",
      "k=256,\ttauk=0.019398050487869377,\tobjective=4.23134146039078e6,\taec=0.0007209402241801437\n",
      "k=257,\ttauk=0.009631251625020208,\tobjective=4.231341399453499e6,\taec=0.0006117848527586243\n",
      "k=258,\ttauk=0.0053697321156687215,\tobjective=4.231341355347092e6,\taec=0.0006062291214331422\n",
      "k=259,\ttauk=0.004158777704182901,\tobjective=4.231341323605012e6,\taec=0.0004879973551100383\n",
      "k=260,\ttauk=0.0062484123646002684,\tobjective=4.231341296761778e6,\taec=0.0004747180826858686\n",
      "k=261,\ttauk=0.003914838774538068,\tobjective=4.23134127014854e6,\taec=0.0005025049137143719\n",
      "k=262,\ttauk=0.0161895018766258,\tobjective=4.231341248993437e6,\taec=0.0005746745914468749\n",
      "k=263,\ttauk=0.01737545674346954,\tobjective=4.23134115350608e6,\taec=0.0009408372056893116\n",
      "k=264,\ttauk=0.012214514300833305,\tobjective=4.231341079119612e6,\taec=0.0007217403088349702\n",
      "k=265,\ttauk=0.016781310933581397,\tobjective=4.231341035097523e6,\taec=0.000729306730709317\n",
      "k=266,\ttauk=0.014876656825699603,\tobjective=4.2313409516036045e6,\taec=0.0009072767095242566\n",
      "k=267,\ttauk=0.02944801801583341,\tobjective=4.231340849016309e6,\taec=0.0011624297397097555\n",
      "k=268,\ttauk=0.054115402000561454,\tobjective=4.231340673181911e6,\taec=0.0014761322510159608\n",
      "k=269,\ttauk=0.0362193252102623,\tobjective=4.231340409208487e6,\taec=0.0013401352941263642\n",
      "k=270,\ttauk=0.02906475360358052,\tobjective=4.231340225598869e6,\taec=0.0009430291718832789\n",
      "k=271,\ttauk=0.025323568355853598,\tobjective=4.231340101706027e6,\taec=0.0012022202063885973\n",
      "k=272,\ttauk=0.025976889287103077,\tobjective=4.231340012290609e6,\taec=0.0009507619953728258\n",
      "k=273,\ttauk=0.025788418581828156,\tobjective=4.231339873223384e6,\taec=0.0013035489901093455\n",
      "k=274,\ttauk=0.03843298455159039,\tobjective=4.231339718145114e6,\taec=0.0012915301676999717\n",
      "k=275,\ttauk=0.014903333118609493,\tobjective=4.231339577638693e6,\taec=0.0010931777627518813\n",
      "k=276,\ttauk=0.01872257700298036,\tobjective=4.2313394835024495e6,\taec=0.0009830675676802852\n",
      "k=277,\ttauk=0.00653954645623669,\tobjective=4.2313393678838955e6,\taec=0.0008287310230876802\n",
      "k=278,\ttauk=0.00492542197183414,\tobjective=4.231339275209468e6,\taec=0.0006604522847943938\n",
      "k=279,\ttauk=0.004033618135634556,\tobjective=4.231339240586109e6,\taec=0.0007085219890145761\n",
      "k=280,\ttauk=0.0028969043907861296,\tobjective=4.231339206096195e6,\taec=0.0004964496464950471\n",
      "k=281,\ttauk=0.002014957804386735,\tobjective=4.231339177706079e6,\taec=0.0004769609783839639\n",
      "k=282,\ttauk=0.0019735639648784313,\tobjective=4.231339153047434e6,\taec=0.00034461625157460296\n",
      "k=283,\ttauk=0.002537109690097793,\tobjective=4.231339141004578e6,\taec=0.0003914925345920617\n",
      "k=284,\ttauk=0.001843626888469288,\tobjective=4.2313391222011065e6,\taec=0.00042058146308179833\n",
      "k=285,\ttauk=0.0028857325334346257,\tobjective=4.231339104675575e6,\taec=0.00041471026392309566\n",
      "k=286,\ttauk=0.001639472027722277,\tobjective=4.231339078196995e6,\taec=0.0004641695377193247\n",
      "k=287,\ttauk=0.0017968167494937155,\tobjective=4.231339062277557e6,\taec=0.0003946028566282373\n",
      "k=288,\ttauk=0.0024102109162700454,\tobjective=4.231339050747517e6,\taec=0.00034170225881457463\n",
      "k=289,\ttauk=0.0026842536840371296,\tobjective=4.23133903585095e6,\taec=0.0003840711559166412\n",
      "k=290,\ttauk=0.006189673432632174,\tobjective=4.231339016250709e6,\taec=0.0004984938641116477\n",
      "k=291,\ttauk=0.005238055439925768,\tobjective=4.231338981255074e6,\taec=0.0005319820327583042\n",
      "k=292,\ttauk=0.003823151714334268,\tobjective=4.231338949562139e6,\taec=0.0005307503248845381\n",
      "k=293,\ttauk=0.002809983397293365,\tobjective=4.231338924933871e6,\taec=0.00046044995547781057\n",
      "k=294,\ttauk=0.0036725291593207358,\tobjective=4.23133890715469e6,\taec=0.0003993996920082687\n",
      "k=295,\ttauk=0.0020277492042572293,\tobjective=4.231338886795823e6,\taec=0.0003496984021760899\n",
      "k=296,\ttauk=0.0018534774613044593,\tobjective=4.231338874020366e6,\taec=0.0002995098678470567\n",
      "k=297,\ttauk=0.0016727065787564708,\tobjective=4.231338861779667e6,\taec=0.00043128312408357975\n",
      "k=298,\ttauk=0.0028540135229237233,\tobjective=4.231338846899429e6,\taec=0.0003853934542526487\n",
      "k=299,\ttauk=0.003300208175478494,\tobjective=4.231338830310489e6,\taec=0.000342464516431618\n",
      "k=300,\ttauk=0.0024289446649579023,\tobjective=4.231338808991415e6,\taec=0.00032747659749076123\n",
      "k=301,\ttauk=0.001513092081709808,\tobjective=4.231338799453831e6,\taec=0.000340835270384059\n",
      "k=302,\ttauk=0.0009198203198493986,\tobjective=4.231338793644006e6,\taec=0.000213394648921317\n",
      "k=303,\ttauk=0.0010985704315278693,\tobjective=4.231338788854947e6,\taec=0.0002128584961356782\n",
      "k=304,\ttauk=0.0011711730434770852,\tobjective=4.2313387831196645e6,\taec=0.0002475004800385111\n",
      "k=305,\ttauk=0.0017601748346576002,\tobjective=4.231338777906024e6,\taec=0.00029059053075314393\n",
      "k=306,\ttauk=0.0006100281974431229,\tobjective=4.231338771275967e6,\taec=0.0001946644709562791\n",
      "k=307,\ttauk=0.0004424624159137502,\tobjective=4.231338767559255e6,\taec=0.0001645184456072727\n",
      "k=308,\ttauk=0.0007531699808164754,\tobjective=4.231338764848153e6,\taec=0.00018296743279526498\n",
      "k=309,\ttauk=0.0014171508621062155,\tobjective=4.231338761574368e6,\taec=0.00021856969850797968\n",
      "k=310,\ttauk=0.0016921231924486972,\tobjective=4.231338753804376e6,\taec=0.00024911963803403355\n",
      "k=311,\ttauk=0.001803308029960696,\tobjective=4.231338746525319e6,\taec=0.00025376985349841684\n",
      "k=312,\ttauk=0.00108096886958854,\tobjective=4.231338738869269e6,\taec=0.0002598460319106422\n",
      "k=313,\ttauk=0.00055344462925262,\tobjective=4.231338733610806e6,\taec=0.00020469673544827577\n",
      "k=314,\ttauk=0.0014878414693663593,\tobjective=4.23133872985704e6,\taec=0.0002272024096562607\n",
      "k=315,\ttauk=0.0020567322967807167,\tobjective=4.231338723160753e6,\taec=0.00029157024954150714\n",
      "k=316,\ttauk=0.0013598490518543236,\tobjective=4.231338713502494e6,\taec=0.0002452033577684191\n",
      "k=317,\ttauk=0.0018617332867004374,\tobjective=4.231338706547197e6,\taec=0.00025542203518776383\n",
      "k=318,\ttauk=0.0013596023542832949,\tobjective=4.231338699634993e6,\taec=0.0002559880710904772\n",
      "k=319,\ttauk=0.003093982015078166,\tobjective=4.231338692743911e6,\taec=0.0002447882007845717\n",
      "k=320,\ttauk=0.0017352564097116924,\tobjective=4.2313386852673795e6,\taec=0.0001964882976456617\n",
      "k=321,\ttauk=0.0023528563634233036,\tobjective=4.231338680374581e6,\taec=0.00025493046458649406\n",
      "k=322,\ttauk=0.005806360554891148,\tobjective=4.231338674115522e6,\taec=0.0002785990176375292\n",
      "k=323,\ttauk=0.006770975007031347,\tobjective=4.231338658655691e6,\taec=0.00032928992298349565\n",
      "k=324,\ttauk=0.004842283593250805,\tobjective=4.231338637551447e6,\taec=0.00038351732208814494\n",
      "k=325,\ttauk=0.0032029384498237553,\tobjective=4.231338627257833e6,\taec=0.000305604512281034\n",
      "k=326,\ttauk=0.002776824564177175,\tobjective=4.231338620505795e6,\taec=0.00027834481135355767\n",
      "k=327,\ttauk=0.00551982847081677,\tobjective=4.231338611127061e6,\taec=0.00029072553511859807\n",
      "k=328,\ttauk=0.004724805729314615,\tobjective=4.231338596893048e6,\taec=0.0003585033051677862\n",
      "k=329,\ttauk=0.005653449561917815,\tobjective=4.231338584472555e6,\taec=0.00039447438933370565\n",
      "k=330,\ttauk=0.0038171908533477187,\tobjective=4.231338567288644e6,\taec=0.00044890326821760243\n",
      "k=331,\ttauk=0.0030945679710661597,\tobjective=4.231338550960157e6,\taec=0.00034761150253660814\n",
      "k=332,\ttauk=0.002697388747986792,\tobjective=4.231338538059673e6,\taec=0.0003268678555537802\n",
      "k=333,\ttauk=0.0029302543849657864,\tobjective=4.231338526744274e6,\taec=0.0003473669512164317\n",
      "k=334,\ttauk=0.00226556773441225,\tobjective=4.231338516486648e6,\taec=0.00030423615531478316\n",
      "k=335,\ttauk=0.0032066224645156557,\tobjective=4.231338507018595e6,\taec=0.0002580201011657285\n",
      "k=336,\ttauk=0.0028164790478906847,\tobjective=4.231338497149835e6,\taec=0.00027267767491952384\n",
      "k=337,\ttauk=0.003581747769704876,\tobjective=4.231338483459575e6,\taec=0.0003186868348830915\n",
      "k=338,\ttauk=0.003306755235992054,\tobjective=4.231338472994224e6,\taec=0.00033627724033251973\n",
      "k=339,\ttauk=0.002250275672975605,\tobjective=4.231338462455585e6,\taec=0.00028872896239979693\n",
      "k=340,\ttauk=0.002111328142364143,\tobjective=4.231338454216881e6,\taec=0.0002607185751999327\n",
      "k=341,\ttauk=0.0018988871088477968,\tobjective=4.231338445915878e6,\taec=0.00025510439012329806\n",
      "k=342,\ttauk=0.0028515683978651346,\tobjective=4.231338440100875e6,\taec=0.0002949578277312149\n",
      "k=343,\ttauk=0.002699287606752983,\tobjective=4.231338428115919e6,\taec=0.0003278248688527365\n",
      "k=344,\ttauk=0.002411061444404831,\tobjective=4.231338418101537e6,\taec=0.0002696173170119673\n",
      "k=345,\ttauk=0.00265793962486736,\tobjective=4.231338406325351e6,\taec=0.00027870968970791933\n",
      "k=346,\ttauk=0.002930291409304161,\tobjective=4.231338398874088e6,\taec=0.0002663863400907498\n",
      "k=347,\ttauk=0.0008672953798648819,\tobjective=4.231338390522157e6,\taec=0.00021875640618626734\n",
      "k=348,\ttauk=0.0024145407935878406,\tobjective=4.2313383874929305e6,\taec=0.00018617661438698462\n",
      "k=349,\ttauk=0.002569933785442748,\tobjective=4.231338377073123e6,\taec=0.00031073004970171025\n",
      "k=350,\ttauk=0.002734228859373934,\tobjective=4.231338368407114e6,\taec=0.0002904820053632094\n",
      "k=351,\ttauk=0.001929024632825914,\tobjective=4.2313383620806765e6,\taec=0.00028556548261987093\n",
      "k=352,\ttauk=0.002191301484586245,\tobjective=4.231338355481667e6,\taec=0.0001728315121187925\n",
      "k=353,\ttauk=0.0019165643887051297,\tobjective=4.231338349717166e6,\taec=0.00022379965755646336\n",
      "k=354,\ttauk=0.0032883351625325507,\tobjective=4.231338345456731e6,\taec=0.0002396347346450644\n",
      "k=355,\ttauk=0.0034279171146201436,\tobjective=4.231338338147009e6,\taec=0.0003324381831679049\n",
      "k=356,\ttauk=0.0038676920780346155,\tobjective=4.231338328964717e6,\taec=0.00026072633915792074\n",
      "k=357,\ttauk=0.00271547659851689,\tobjective=4.231338320018675e6,\taec=0.00024456512796601124\n",
      "k=358,\ttauk=0.002368750099104417,\tobjective=4.23133831499819e6,\taec=0.00019448631625680363\n",
      "k=359,\ttauk=0.003397574925133136,\tobjective=4.231338311357708e6,\taec=0.0002381229972755056\n",
      "k=360,\ttauk=0.0076077212250656515,\tobjective=4.231338303529885e6,\taec=0.00022089333410353642\n",
      "k=361,\ttauk=0.009148343466302642,\tobjective=4.231338287890619e6,\taec=0.00036869352395195335\n",
      "k=362,\ttauk=0.013184552123460196,\tobjective=4.231338271952781e6,\taec=0.00041648663980736544\n",
      "k=363,\ttauk=0.01770453861723272,\tobjective=4.231338251576261e6,\taec=0.0004904068721855019\n",
      "k=364,\ttauk=0.019250249340669774,\tobjective=4.231338224317308e6,\taec=0.00040970073154385195\n",
      "k=365,\ttauk=0.03286861659820572,\tobjective=4.2313381999806e6,\taec=0.0005585949193516822\n",
      "k=366,\ttauk=0.02874017965780759,\tobjective=4.231338160964507e6,\taec=0.0005832803593710875\n",
      "k=367,\ttauk=0.017862872830177352,\tobjective=4.231338131688797e6,\taec=0.0004959998374543485\n",
      "k=368,\ttauk=0.014995560370202233,\tobjective=4.231338105556926e6,\taec=0.0006223619293242784\n",
      "k=369,\ttauk=0.025189693496162104,\tobjective=4.231338076609417e6,\taec=0.0005533440303547113\n",
      "k=370,\ttauk=0.011837192631452186,\tobjective=4.231338040029869e6,\taec=0.0004344386690494068\n",
      "k=371,\ttauk=0.012280826565287516,\tobjective=4.231338024449636e6,\taec=0.00045983046075020296\n",
      "k=372,\ttauk=0.01752430561923899,\tobjective=4.231338001392873e6,\taec=0.0005326807328602646\n",
      "k=373,\ttauk=0.014073746925967589,\tobjective=4.231337965338782e6,\taec=0.00048610561070689973\n",
      "k=374,\ttauk=0.018675446117757007,\tobjective=4.231337936195059e6,\taec=0.0005505236573475999\n",
      "k=375,\ttauk=0.008473056772346743,\tobjective=4.231337898008019e6,\taec=0.0005088528186388631\n",
      "k=376,\ttauk=0.003322361123172443,\tobjective=4.231337878514236e6,\taec=0.0003982049460056394\n",
      "k=377,\ttauk=0.007739937848658528,\tobjective=4.231337857388732e6,\taec=0.0003843157920088667\n",
      "k=378,\ttauk=0.012334806501564,\tobjective=4.231337836713558e6,\taec=0.0004142022347289509\n",
      "k=379,\ttauk=0.004655865918999029,\tobjective=4.231337798545515e6,\taec=0.0006145010109994967\n",
      "k=380,\ttauk=0.006011511977830781,\tobjective=4.231337781845825e6,\taec=0.0004414756315529421\n",
      "k=381,\ttauk=0.0028519120264124385,\tobjective=4.231337755858947e6,\taec=0.0004651327732835777\n",
      "k=382,\ttauk=0.004578393238343076,\tobjective=4.2313377432251135e6,\taec=0.00036931392108619675\n",
      "k=383,\ttauk=0.004372166683888342,\tobjective=4.2313377249832535e6,\taec=0.000437390035128348\n",
      "k=384,\ttauk=0.002739652473399645,\tobjective=4.231337709693571e6,\taec=0.0002722669251007971\n",
      "k=385,\ttauk=0.0017223909611644485,\tobjective=4.23133770053357e6,\taec=0.000245669820445114\n",
      "k=386,\ttauk=0.0027966518060339295,\tobjective=4.231337694308095e6,\taec=0.00023671179651621062\n",
      "k=387,\ttauk=0.003418779776122599,\tobjective=4.2313376846767785e6,\taec=0.00035964869325117924\n",
      "k=388,\ttauk=0.003313047252728313,\tobjective=4.231337673868305e6,\taec=0.0003355450762298394\n",
      "k=389,\ttauk=0.009046470701438023,\tobjective=4.231337657411828e6,\taec=0.00046930128067454994\n",
      "k=390,\ttauk=0.007002578907609367,\tobjective=4.2313376151519045e6,\taec=0.0005999084535771304\n",
      "k=391,\ttauk=0.014326253049402077,\tobjective=4.231337590844936e6,\taec=0.0006244113285345538\n",
      "k=392,\ttauk=0.01404481229893224,\tobjective=4.231337550220492e6,\taec=0.0005375574370102334\n",
      "k=393,\ttauk=0.010250595849226747,\tobjective=4.231337507926516e6,\taec=0.000400556984716015\n",
      "k=394,\ttauk=0.013598209497522908,\tobjective=4.2313374796445435e6,\taec=0.0004424348825855357\n",
      "k=395,\ttauk=0.020196981209850324,\tobjective=4.231337452636283e6,\taec=0.0005259979672908692\n",
      "k=396,\ttauk=0.00936736127011248,\tobjective=4.231337420214832e6,\taec=0.00043182082166373566\n",
      "k=397,\ttauk=0.009676456363515638,\tobjective=4.231337402770901e6,\taec=0.00036060526218323146\n",
      "k=398,\ttauk=0.011086885058863944,\tobjective=4.231337383367938e6,\taec=0.0003830466081899153\n",
      "k=399,\ttauk=0.013448128803139572,\tobjective=4.231337364935723e6,\taec=0.0004616450920496477\n",
      "k=400,\ttauk=0.007306123746230605,\tobjective=4.23133734340526e6,\taec=0.00047911574890247184\n",
      "k=401,\ttauk=0.028129689687782615,\tobjective=4.231337322739246e6,\taec=0.00047689184324616486\n",
      "k=402,\ttauk=0.021519452624285788,\tobjective=4.231337262400022e6,\taec=0.0006507887660654358\n",
      "k=403,\ttauk=0.015516196865905392,\tobjective=4.231337235347463e6,\taec=0.0005183023608563942\n",
      "k=404,\ttauk=0.0101704161722545,\tobjective=4.231337217388945e6,\taec=0.0004383820851286434\n",
      "k=405,\ttauk=0.011862412896422276,\tobjective=4.231337196363722e6,\taec=0.00047553217786979455\n",
      "k=406,\ttauk=0.006773583009075706,\tobjective=4.231337183786413e6,\taec=0.00032008648839692937\n",
      "k=407,\ttauk=0.0036344757059570292,\tobjective=4.2313371760222465e6,\taec=0.00034186733822548515\n",
      "k=408,\ttauk=0.0019005480458355014,\tobjective=4.231337167150276e6,\taec=0.0003072191338755781\n",
      "k=409,\ttauk=0.002519432560755851,\tobjective=4.2313371609813105e6,\taec=0.00023398433110758836\n",
      "k=410,\ttauk=0.0020576389990164877,\tobjective=4.231337155808687e6,\taec=0.0002779512797522085\n",
      "k=411,\ttauk=0.004147723990865946,\tobjective=4.23133714770917e6,\taec=0.0002893896981210128\n",
      "k=412,\ttauk=0.0022306564351102496,\tobjective=4.231337133719259e6,\taec=0.0002719092409008173\n",
      "k=413,\ttauk=0.002366316415195592,\tobjective=4.231337124040957e6,\taec=0.0003201881825099521\n",
      "k=414,\ttauk=0.0036009089675252946,\tobjective=4.231337115447232e6,\taec=0.0002996573968275481\n",
      "k=415,\ttauk=0.0014447153450826873,\tobjective=4.231337101393869e6,\taec=0.00031186875035956347\n",
      "k=416,\ttauk=0.0023137136939974105,\tobjective=4.231337095063358e6,\taec=0.00025683482180913073\n",
      "k=417,\ttauk=0.002248379479566635,\tobjective=4.231337087116631e6,\taec=0.00027277622686485185\n",
      "k=418,\ttauk=0.0020203822065212587,\tobjective=4.2313370804217085e6,\taec=0.000259871192297656\n",
      "k=419,\ttauk=0.004381479522684641,\tobjective=4.2313370745584e6,\taec=0.0002805480303752112\n",
      "k=420,\ttauk=0.0052054370417375356,\tobjective=4.231337061620905e6,\taec=0.00028485486379200084\n",
      "k=421,\ttauk=0.0017604885098859537,\tobjective=4.231337049190169e6,\taec=0.00027894423080580355\n",
      "k=422,\ttauk=0.0011797429161959241,\tobjective=4.231337042144883e6,\taec=0.00021957746751325466\n",
      "k=423,\ttauk=0.001008744209635918,\tobjective=4.231337036012809e6,\taec=0.0002647244597770195\n",
      "k=424,\ttauk=0.0007092956611524634,\tobjective=4.231337030155914e6,\taec=0.0002357000795064398\n",
      "k=425,\ttauk=0.0005880536944760305,\tobjective=4.231337025416652e6,\taec=0.00018355661615495855\n",
      "k=426,\ttauk=0.0007569808798036023,\tobjective=4.2313370205563335e6,\taec=0.00020180277483505766\n",
      "k=427,\ttauk=0.0007339586482666644,\tobjective=4.2313370158341015e6,\taec=0.00021430224070198426\n",
      "k=428,\ttauk=0.0007097530636039764,\tobjective=4.231337012397112e6,\taec=0.000193345057842628\n",
      "k=429,\ttauk=0.000940565705091688,\tobjective=4.231337009838323e6,\taec=0.00019139676544395871\n",
      "k=430,\ttauk=0.0007480074499396585,\tobjective=4.231337005713279e6,\taec=0.00020786083439500362\n",
      "k=431,\ttauk=0.0007155870402952992,\tobjective=4.2313370017335825e6,\taec=0.00018745547672139644\n",
      "k=432,\ttauk=0.0006336205736879518,\tobjective=4.231336998379805e6,\taec=0.00016363070666411902\n",
      "k=433,\ttauk=0.0007621689938690307,\tobjective=4.231336994626551e6,\taec=0.0001453780877820763\n",
      "k=434,\ttauk=0.001112228786446776,\tobjective=4.231336992476211e6,\taec=0.00015921752009885845\n",
      "k=435,\ttauk=0.0007731241069684567,\tobjective=4.231336990034511e6,\taec=0.00016136205396953302\n",
      "k=436,\ttauk=0.0007374858253443882,\tobjective=4.231336988044096e6,\taec=0.00010763028052625676\n",
      "k=437,\ttauk=0.0015664076431912092,\tobjective=4.2313369865067415e6,\taec=0.0001604591192537118\n",
      "k=438,\ttauk=0.0013533507003679187,\tobjective=4.23133698341518e6,\taec=0.00016946089093191667\n",
      "k=439,\ttauk=0.0016614976970665922,\tobjective=4.231336979817286e6,\taec=0.00020146194034985912\n",
      "k=440,\ttauk=0.001134332839066316,\tobjective=4.231336976188864e6,\taec=0.00014939842909146814\n",
      "k=441,\ttauk=0.0007176585834876331,\tobjective=4.231336972602505e6,\taec=0.0001924348329811156\n",
      "k=442,\ttauk=0.002271510083229612,\tobjective=4.231336970053851e6,\taec=0.00016674018217817865\n",
      "k=443,\ttauk=0.0020902206164053624,\tobjective=4.2313369661970865e6,\taec=0.0002016336370685153\n",
      "k=444,\ttauk=0.0009477398725229379,\tobjective=4.231336961914143e6,\taec=0.00017199424136258535\n",
      "k=445,\ttauk=0.0011417052825002552,\tobjective=4.231336959443114e6,\taec=0.0001698326078774041\n",
      "k=446,\ttauk=0.0007123922011305063,\tobjective=4.231336957444759e6,\taec=0.00013624014588319803\n",
      "k=447,\ttauk=0.001048933482960199,\tobjective=4.231336954136732e6,\taec=0.00014259933536904293\n",
      "k=448,\ttauk=0.0010080727638214122,\tobjective=4.231336951936767e6,\taec=0.00014575536560661848\n",
      "k=449,\ttauk=0.000343658243512126,\tobjective=4.231336950276347e6,\taec=0.00011103362688268894\n",
      "k=450,\ttauk=0.0004304622751335635,\tobjective=4.231336949560752e6,\taec=9.134324106604225e-5\n",
      "k=451,\ttauk=0.00045819505883387473,\tobjective=4.23133694895262e6,\taec=0.00010444603149876767\n",
      "k=452,\ttauk=0.001016317148067627,\tobjective=4.231336947773944e6,\taec=0.00010154068072006743\n",
      "k=453,\ttauk=0.0012804135941864839,\tobjective=4.231336946305403e6,\taec=0.00011329557141263287\n",
      "k=454,\ttauk=0.0012114804608359137,\tobjective=4.231336943665827e6,\taec=0.00015122818302144145\n",
      "k=455,\ttauk=0.0032812508550581526,\tobjective=4.231336941683193e6,\taec=0.00014064156700595098\n",
      "k=456,\ttauk=0.0029929795657043716,\tobjective=4.231336936373578e6,\taec=0.0002296674948756976\n",
      "k=457,\ttauk=0.00320314375292607,\tobjective=4.231336932250592e6,\taec=0.0002384529217738809\n",
      "k=458,\ttauk=0.003818060774784132,\tobjective=4.231336927091474e6,\taec=0.00019770823923237642\n",
      "k=459,\ttauk=0.0016361986192350057,\tobjective=4.231336921908895e6,\taec=0.00016938109184587937\n",
      "k=460,\ttauk=0.003598837424332961,\tobjective=4.23133691950032e6,\taec=0.00022142860795155837\n",
      "k=461,\ttauk=0.0035206774865824014,\tobjective=4.231336914000192e6,\taec=0.0002078997879043734\n",
      "k=462,\ttauk=0.0023619680257086096,\tobjective=4.231336907491585e6,\taec=0.00018980430277179113\n",
      "k=463,\ttauk=0.002630919610386541,\tobjective=4.231336900119069e6,\taec=0.00021705747240068546\n",
      "k=464,\ttauk=0.0024698124551161132,\tobjective=4.231336895827064e6,\taec=0.00017908987665370198\n",
      "k=465,\ttauk=0.0025371098406131833,\tobjective=4.231336891374199e6,\taec=0.0001746143895308309\n",
      "k=466,\ttauk=0.002594646907286341,\tobjective=4.231336888119465e6,\taec=0.00016408740893560057\n",
      "k=467,\ttauk=0.0024637617341727123,\tobjective=4.231336885458336e6,\taec=0.0001135681570092804\n",
      "k=468,\ttauk=0.0023633778949949465,\tobjective=4.231336882449564e6,\taec=0.0001476630553343869\n",
      "k=469,\ttauk=0.0023086524642272088,\tobjective=4.231336880330909e6,\taec=0.00015563880548984457\n",
      "k=470,\ttauk=0.0015635935499357218,\tobjective=4.231336878719621e6,\taec=0.00012896756130191628\n",
      "k=471,\ttauk=0.0013956142177736182,\tobjective=4.231336876716813e6,\taec=0.00013265825036594967\n",
      "k=472,\ttauk=0.0018145664087865431,\tobjective=4.231336874481801e6,\taec=0.0001719458744134413\n",
      "k=473,\ttauk=0.0018374721655301876,\tobjective=4.231336872223138e6,\taec=0.00016641074651309882\n",
      "k=474,\ttauk=0.0025001438410467815,\tobjective=4.231336869547303e6,\taec=0.00016304939828246947\n",
      "k=475,\ttauk=0.0026300798858080953,\tobjective=4.231336866209047e6,\taec=0.00016811646620525512\n",
      "k=476,\ttauk=0.0032846501161928198,\tobjective=4.231336863383664e6,\taec=0.00022403752263656059\n",
      "k=477,\ttauk=0.0023999316191154647,\tobjective=4.231336859242675e6,\taec=0.00020310654593409512\n",
      "k=478,\ttauk=0.003068447680825315,\tobjective=4.231336855160303e6,\taec=0.00017636664452199647\n",
      "k=479,\ttauk=0.0035080957599445605,\tobjective=4.231336850749631e6,\taec=0.0002597237875839025\n",
      "k=480,\ttauk=0.004087120882103492,\tobjective=4.231336843835664e6,\taec=0.0002222294455003644\n",
      "k=481,\ttauk=0.004378127695390281,\tobjective=4.231336838710968e6,\taec=0.00019824336126913678\n",
      "k=482,\ttauk=0.002114015594863421,\tobjective=4.231336833699993e6,\taec=0.00022230519522374047\n",
      "k=483,\ttauk=0.003603263989088015,\tobjective=4.231336828534677e6,\taec=0.00020844055783918877\n",
      "k=484,\ttauk=0.0018101341987143025,\tobjective=4.23133682293026e6,\taec=0.0001752266111534194\n",
      "k=485,\ttauk=0.002314613418237385,\tobjective=4.231336819974525e6,\taec=0.00019174968682774985\n",
      "k=486,\ttauk=0.0026511089929597874,\tobjective=4.231336814763175e6,\taec=0.0002499491847608356\n",
      "k=487,\ttauk=0.0023026905715928287,\tobjective=4.23133680979054e6,\taec=0.00023973713288805796\n",
      "k=488,\ttauk=0.0022641121005268603,\tobjective=4.231336806235799e6,\taec=0.00022194372281624306\n",
      "k=489,\ttauk=0.001456424692934047,\tobjective=4.23133680041118e6,\taec=0.0002064087085376266\n",
      "k=490,\ttauk=0.0021517254196798236,\tobjective=4.231336795006254e6,\taec=0.00019128806601085815\n",
      "k=491,\ttauk=0.0017071914605737396,\tobjective=4.231336791243259e6,\taec=0.00020702793175861843\n",
      "k=492,\ttauk=0.001468219530611919,\tobjective=4.231336788224576e6,\taec=0.0001793267339270684\n",
      "k=493,\ttauk=0.001362458085546513,\tobjective=4.231336785167762e6,\taec=0.00018062918760239897\n",
      "k=494,\ttauk=0.00211175726073796,\tobjective=4.231336781072189e6,\taec=0.0001739159854375863\n",
      "k=495,\ttauk=0.003283322398250487,\tobjective=4.231336777169127e6,\taec=0.00021540981016978744\n",
      "k=496,\ttauk=0.0009195363544009787,\tobjective=4.231336771262164e6,\taec=0.00019110717920713536\n",
      "k=497,\ttauk=0.0009028558802752855,\tobjective=4.231336769076711e6,\taec=0.00014345963060942644\n",
      "k=498,\ttauk=0.002159948984922173,\tobjective=4.2313367671358865e6,\taec=0.0001413441278816253\n",
      "k=499,\ttauk=0.0025895671653469515,\tobjective=4.23133676327191e6,\taec=0.00023897512069491632\n",
      "k=500,\ttauk=0.004130712755044948,\tobjective=4.2313367588391295e6,\taec=0.00020137557847176368\n",
      "k=501,\ttauk=0.0008404373037456293,\tobjective=4.231336750800712e6,\taec=0.00018323952975490246\n",
      "k=502,\ttauk=0.0018257927709977786,\tobjective=4.231336748413287e6,\taec=0.00015057677988849344\n",
      "k=503,\ttauk=0.0018992192962453377,\tobjective=4.23133674510261e6,\taec=0.0001726211949845097\n",
      "k=504,\ttauk=0.003992539640595861,\tobjective=4.231336741485088e6,\taec=0.00022457000460626513\n",
      "k=505,\ttauk=0.0053770930740330986,\tobjective=4.231336734909062e6,\taec=0.00024096760126858684\n",
      "k=506,\ttauk=0.004657623786963007,\tobjective=4.231336727405195e6,\taec=0.0002458853081862545\n",
      "k=507,\ttauk=0.007800033814294484,\tobjective=4.231336720260592e6,\taec=0.0002516883313609365\n",
      "k=508,\ttauk=0.003212583325502205,\tobjective=4.231336707384537e6,\taec=0.00021751126223329003\n",
      "k=509,\ttauk=0.002177815756601718,\tobjective=4.231336701887697e6,\taec=0.00017504625265960205\n",
      "k=510,\ttauk=0.0017841451628990228,\tobjective=4.231336699537969e6,\taec=0.000164068044779003\n",
      "k=511,\ttauk=0.004399362105644288,\tobjective=4.231336697753783e6,\taec=0.00015338636412276488\n",
      "k=512,\ttauk=0.003385575178407356,\tobjective=4.231336693327304e6,\taec=0.00018312246763910344\n",
      "k=513,\ttauk=0.002438921728033893,\tobjective=4.231336689154772e6,\taec=0.0002023877271622031\n",
      "k=514,\ttauk=0.002483462091734241,\tobjective=4.231336684991938e6,\taec=0.00017592085146769278\n",
      "k=515,\ttauk=0.0020598309930780472,\tobjective=4.231336680671551e6,\taec=0.0001970206138962509\n",
      "k=516,\ttauk=0.002603424805956479,\tobjective=4.23133667744864e6,\taec=0.00021225664571456558\n",
      "k=517,\ttauk=0.002947617989594765,\tobjective=4.231336673090515e6,\taec=0.00020623016108139416\n",
      "k=518,\ttauk=0.0014078724972745966,\tobjective=4.23133666618101e6,\taec=0.00019043433601610027\n",
      "k=519,\ttauk=0.0038438486340884193,\tobjective=4.231336662343924e6,\taec=0.0002417922431718779\n",
      "k=520,\ttauk=0.004041710446451341,\tobjective=4.231336653946334e6,\taec=0.00030141656221413835\n",
      "k=521,\ttauk=0.004379564967621873,\tobjective=4.231336644956225e6,\taec=0.000309019819670628\n",
      "k=522,\ttauk=0.0014248810322065083,\tobjective=4.231336637639953e6,\taec=0.00022083122497842882\n",
      "k=523,\ttauk=0.002554738654982378,\tobjective=4.231336632006296e6,\taec=0.00021714944131848006\n",
      "k=524,\ttauk=0.0038052691313746204,\tobjective=4.231336623787169e6,\taec=0.00032286571670908334\n",
      "k=525,\ttauk=0.0034719199878206364,\tobjective=4.231336614372517e6,\taec=0.00026223889156128474\n",
      "k=526,\ttauk=0.0030142624414465167,\tobjective=4.231336605361248e6,\taec=0.00028163282825449855\n",
      "k=527,\ttauk=0.0023486391353382593,\tobjective=4.23133659657526e6,\taec=0.00031050593778181096\n",
      "k=528,\ttauk=0.0031020144192570494,\tobjective=4.231336589089136e6,\taec=0.0002607513811667587\n",
      "k=529,\ttauk=0.0013144090569376283,\tobjective=4.231336578872338e6,\taec=0.00023347248359936116\n",
      "k=530,\ttauk=0.001047215340223678,\tobjective=4.231336574862065e6,\taec=0.00013989142038153317\n",
      "k=531,\ttauk=0.0008571136512800003,\tobjective=4.231336572613991e6,\taec=0.00014250149671194939\n",
      "k=532,\ttauk=0.00042483360154455533,\tobjective=4.231336570733015e6,\taec=0.00012015502019700115\n",
      "k=533,\ttauk=0.00043961812580029555,\tobjective=4.231336569274434e6,\taec=0.0001171984101314546\n",
      "k=534,\ttauk=0.0007745383463851328,\tobjective=4.231336567960358e6,\taec=0.00012211329877041837\n",
      "k=535,\ttauk=0.0005109905883768778,\tobjective=4.231336565882451e6,\taec=0.00010821660207837606\n",
      "k=536,\ttauk=0.0006313137740743528,\tobjective=4.231336564828797e6,\taec=0.00010591762957043834\n",
      "k=537,\ttauk=0.0008469312851016948,\tobjective=4.231336563302841e6,\taec=0.000112146175767621\n",
      "k=538,\ttauk=0.0010568444046220253,\tobjective=4.231336561380599e6,\taec=0.00013496037770973862\n",
      "k=539,\ttauk=0.0006818150917848768,\tobjective=4.231336559580116e6,\taec=0.00012751053483083357\n",
      "k=540,\ttauk=0.0006926916930535876,\tobjective=4.231336557366623e6,\taec=0.00013726145057735991\n",
      "k=541,\ttauk=0.0004857709610002103,\tobjective=4.2313365560283335e6,\taec=0.00012304603227032468\n",
      "k=542,\ttauk=0.0003231663833212722,\tobjective=4.2313365545122465e6,\taec=0.0001327362829686054\n",
      "k=543,\ttauk=0.000351565583152427,\tobjective=4.231336553570499e6,\taec=0.00011040291099649499\n",
      "k=544,\ttauk=6.818017378548427e-5,\tobjective=4.231336552863237e6,\taec=7.24514483417892e-5\n",
      "k=545,\ttauk=0.00019724614659499394,\tobjective=4.231336552390693e6,\taec=5.5693170183332545e-5\n",
      "k=546,\ttauk=0.00017268961882656084,\tobjective=4.231336552038471e6,\taec=6.453336396007176e-5\n",
      "k=547,\ttauk=0.00025620865029557386,\tobjective=4.231336551607978e6,\taec=6.851270126206754e-5\n",
      "k=548,\ttauk=0.0003124512908278575,\tobjective=4.231336551162492e6,\taec=5.079469496060909e-5\n",
      "k=549,\ttauk=0.0003521014095950573,\tobjective=4.231336550720312e6,\taec=7.414666798659996e-5\n",
      "k=550,\ttauk=0.0006628089693137536,\tobjective=4.231336550298806e6,\taec=7.139263859796594e-5\n",
      "k=551,\ttauk=0.0012914352689289289,\tobjective=4.231336549675198e6,\taec=8.492233933125743e-5\n",
      "k=552,\ttauk=0.0016719641792087075,\tobjective=4.231336548078216e6,\taec=0.0001418712845070084\n",
      "k=553,\ttauk=0.0015218683111386916,\tobjective=4.2313365459355125e6,\taec=0.0001599123554290812\n",
      "k=554,\ttauk=0.0020104041117974376,\tobjective=4.231336543833833e6,\taec=0.00013139218545745577\n",
      "k=555,\ttauk=0.0021718848489341194,\tobjective=4.231336541577833e6,\taec=0.00011739215358246698\n",
      "k=556,\ttauk=0.0013156408755515164,\tobjective=4.2313365390546e6,\taec=0.00015033346902748495\n",
      "k=557,\ttauk=0.0015457090541958034,\tobjective=4.231336536761766e6,\taec=0.00011546305889295775\n",
      "k=558,\ttauk=0.0008400822340485619,\tobjective=4.23133653529593e6,\taec=0.00012172305265351658\n",
      "k=559,\ttauk=0.0009859757466894326,\tobjective=4.231336534304459e6,\taec=8.641681675212918e-5\n",
      "k=560,\ttauk=0.0010502164679513095,\tobjective=4.231336533345863e6,\taec=9.37648417316563e-5\n",
      "k=561,\ttauk=0.0007427823115358555,\tobjective=4.231336531882673e6,\taec=0.00010177348022665818\n",
      "k=562,\ttauk=0.0008695722261595303,\tobjective=4.231336531116504e6,\taec=8.445022546356163e-5\n",
      "k=563,\ttauk=0.0007746577656065281,\tobjective=4.231336530281331e6,\taec=8.793804828641616e-5\n",
      "k=564,\ttauk=0.0005228948517885187,\tobjective=4.231336529279358e6,\taec=6.708282205631055e-5\n",
      "k=565,\ttauk=0.0004205636308646613,\tobjective=4.231336528777872e6,\taec=7.33545419583908e-5\n",
      "k=566,\ttauk=0.0006053503214476844,\tobjective=4.231336528234955e6,\taec=7.86079948352721e-5\n",
      "k=567,\ttauk=0.0008304561140783164,\tobjective=4.231336527509912e6,\taec=9.616867877249578e-5\n",
      "k=568,\ttauk=0.0007790849899149052,\tobjective=4.231336526359738e6,\taec=9.365705579273399e-5\n",
      "k=569,\ttauk=0.0007038706214245157,\tobjective=4.231336525372166e6,\taec=8.846888748419595e-5\n",
      "k=570,\ttauk=0.0012246154892537127,\tobjective=4.231336524637776e6,\taec=9.089789310696468e-5\n",
      "k=571,\ttauk=0.000979145207805487,\tobjective=4.2313365233579455e6,\taec=0.00010207303062585481\n",
      "k=572,\ttauk=0.0008979400469694969,\tobjective=4.231336522074773e6,\taec=9.848856553900213e-5\n",
      "k=573,\ttauk=0.0014879198881734476,\tobjective=4.231336521028817e6,\taec=0.00010840138641025414\n",
      "k=574,\ttauk=0.0014245188914900166,\tobjective=4.231336519245496e6,\taec=0.00013778102565587758\n",
      "k=575,\ttauk=0.0014719035453038196,\tobjective=4.231336517422784e6,\taec=0.0001396921314443738\n",
      "k=576,\ttauk=0.0018353918820771752,\tobjective=4.231336515463634e6,\taec=0.0001361713080299699\n",
      "k=577,\ttauk=0.0021364518704123656,\tobjective=4.231336513875622e6,\taec=0.00013108828224095035\n",
      "k=578,\ttauk=0.005956789247952128,\tobjective=4.2313365112335e6,\taec=0.0001633292693914396\n",
      "k=579,\ttauk=0.011344616320702236,\tobjective=4.231336506070541e6,\taec=0.0002426288878990423\n",
      "k=580,\ttauk=0.017995545824573914,\tobjective=4.231336496778592e6,\taec=0.00027610714882312634\n",
      "k=581,\ttauk=0.012661989481029118,\tobjective=4.231336483830975e6,\taec=0.0003488358780555737\n",
      "k=582,\ttauk=0.010686100204367902,\tobjective=4.231336472035504e6,\taec=0.0003657753523196395\n",
      "k=583,\ttauk=0.0055594831050456706,\tobjective=4.231336460845998e6,\taec=0.00023660779830700596\n",
      "k=584,\ttauk=0.012701643964742628,\tobjective=4.231336454266153e6,\taec=0.0002605415109562555\n",
      "k=585,\ttauk=0.006674869878794154,\tobjective=4.231336445586318e6,\taec=0.00023694486646017826\n",
      "k=586,\ttauk=0.004544367428218575,\tobjective=4.23133644131195e6,\taec=0.00022063653466213728\n",
      "k=587,\ttauk=0.001978116625819898,\tobjective=4.2313364368493715e6,\taec=0.00019265116160116673\n",
      "k=588,\ttauk=0.0028292704477611797,\tobjective=4.231336432704776e6,\taec=0.00016342547399064716\n",
      "k=589,\ttauk=0.002439664428612436,\tobjective=4.231336429433128e6,\taec=0.00020365618691530184\n",
      "k=590,\ttauk=0.001995130562529979,\tobjective=4.231336423909144e6,\taec=0.00019091670977853598\n",
      "k=591,\ttauk=0.0015516900965927942,\tobjective=4.231336421375201e6,\taec=0.00014916055219034089\n",
      "k=592,\ttauk=0.002787544420855336,\tobjective=4.23133641942688e6,\taec=0.00015240931719969245\n",
      "k=593,\ttauk=0.0043481948369210556,\tobjective=4.231336415840379e6,\taec=0.00021307598522601364\n",
      "k=594,\ttauk=0.0029683149093489166,\tobjective=4.231336410757105e6,\taec=0.00018961787141944243\n",
      "k=595,\ttauk=0.0022557475089504363,\tobjective=4.231336405204051e6,\taec=0.00020059624615812873\n",
      "k=596,\ttauk=0.0037564587969943783,\tobjective=4.231336401293996e6,\taec=0.0002289169981246127\n",
      "k=597,\ttauk=0.0017191131825468379,\tobjective=4.231336396879622e6,\taec=0.0001920742031390336\n",
      "k=598,\ttauk=0.0012684914781589786,\tobjective=4.231336394226844e6,\taec=0.00017569183679302732\n",
      "k=599,\ttauk=0.0012568534780952835,\tobjective=4.231336390693549e6,\taec=0.00020554868027638113\n",
      "k=600,\ttauk=0.001450131644549957,\tobjective=4.231336386389395e6,\taec=0.00018152876278768794\n",
      "k=601,\ttauk=0.0014878414118745962,\tobjective=4.231336381531442e6,\taec=0.00019123634319861963\n",
      "k=602,\ttauk=0.0012994976483866618,\tobjective=4.231336378286973e6,\taec=0.00015381711985579114\n",
      "k=603,\ttauk=0.0008213484853607054,\tobjective=4.231336375176438e6,\taec=0.00016929669193592887\n",
      "k=604,\ttauk=0.0006442249872206497,\tobjective=4.231336373400915e6,\taec=0.0001307612310147664\n",
      "k=605,\ttauk=0.0002772192588500432,\tobjective=4.231336371682233e6,\taec=0.00011742251384610758\n",
      "k=606,\ttauk=0.0006303953871498015,\tobjective=4.231336369883717e6,\taec=0.00012946169762456344\n",
      "k=607,\ttauk=0.0009204846946444805,\tobjective=4.231336367702248e6,\taec=0.00017904727655156612\n",
      "k=608,\ttauk=0.0003731303610473307,\tobjective=4.231336364629354e6,\taec=0.00013880827039050448\n",
      "k=609,\ttauk=0.0001763022857307971,\tobjective=4.231336363088638e6,\taec=0.00012141193599758863\n",
      "k=610,\ttauk=0.0003501567455139207,\tobjective=4.231336361832839e6,\taec=8.449268441066699e-5\n",
      "k=611,\ttauk=0.00042483360154455533,\tobjective=4.23133636072978e6,\taec=0.00012270198393451938\n",
      "k=612,\ttauk=0.00036855830680423637,\tobjective=4.2313363590251105e6,\taec=0.00011774098445081291\n",
      "k=613,\ttauk=0.00017388981488024395,\tobjective=4.231336358021209e6,\taec=0.00010230399157874663\n",
      "k=614,\ttauk=0.00027405872956257586,\tobjective=4.2313363575243605e6,\taec=9.164145478748375e-5\n",
      "k=615,\ttauk=0.00031889680669578514,\tobjective=4.231336356745387e6,\taec=8.204180188115461e-5\n",
      "k=616,\ttauk=0.00036543031674127804,\tobjective=4.2313363557935655e6,\taec=8.547328314390105e-5\n",
      "k=617,\ttauk=0.00018888131147955312,\tobjective=4.231336354669003e6,\taec=8.756153741866945e-5\n",
      "k=618,\ttauk=0.00031492907009448147,\tobjective=4.231336354166368e6,\taec=9.581166174917735e-5\n",
      "k=619,\ttauk=0.00020602483337394574,\tobjective=4.231336353549434e6,\taec=7.304869692140382e-5\n",
      "k=620,\ttauk=0.0002718443402795233,\tobjective=4.231336353093233e6,\taec=6.149006117738606e-5\n",
      "k=621,\ttauk=0.00029295195926193096,\tobjective=4.2313363526455695e6,\taec=5.759866787580421e-5\n",
      "k=622,\ttauk=0.00030160017972413115,\tobjective=4.231336352036615e6,\taec=7.362896538041511e-5\n",
      "k=623,\ttauk=0.00027982827897026847,\tobjective=4.231336351544628e6,\taec=6.518940067076791e-5\n",
      "k=624,\ttauk=0.0002964006245089395,\tobjective=4.231336351260073e6,\taec=6.426280479324455e-5\n",
      "k=625,\ttauk=0.00021338922324445835,\tobjective=4.231336350603248e6,\taec=7.614443959855266e-5\n",
      "k=626,\ttauk=0.000404879475392574,\tobjective=4.231336350058362e6,\taec=6.35110401908474e-5\n",
      "k=627,\ttauk=0.0003626155639324676,\tobjective=4.231336349547434e6,\taec=6.532086359302881e-5\n",
      "k=628,\ttauk=0.00046382371046298356,\tobjective=4.231336348985477e6,\taec=7.088191970755127e-5\n",
      "k=629,\ttauk=0.0010443754202405626,\tobjective=4.231336348387961e6,\taec=7.934602353767312e-5\n",
      "k=630,\ttauk=0.001047987994121172,\tobjective=4.23133634727425e6,\taec=0.00010491217224157756\n",
      "k=631,\ttauk=0.00038609789881000327,\tobjective=4.231336346573242e6,\taec=6.668532625950265e-5\n",
      "k=632,\ttauk=0.00017307027171223962,\tobjective=4.23133634628623e6,\taec=4.7813376850338523e-5\n",
      "k=633,\ttauk=0.00031687372899158906,\tobjective=4.231336346069214e6,\taec=5.231994193117534e-5\n",
      "k=634,\ttauk=0.00042892827993284836,\tobjective=4.231336345728592e6,\taec=5.634570967703562e-5\n",
      "k=635,\ttauk=0.0003008688272717242,\tobjective=4.231336345128691e6,\taec=7.104023008468378e-5\n",
      "k=636,\ttauk=0.0006267116159969178,\tobjective=4.2313363447579155e6,\taec=6.548979398404483e-5\n",
      "k=637,\ttauk=0.0002854569525592767,\tobjective=4.231336344164556e6,\taec=6.068388612231181e-5\n",
      "k=638,\ttauk=0.00032912660671439764,\tobjective=4.231336343847246e6,\taec=6.06266453374576e-5\n",
      "k=639,\ttauk=0.0003111181711073546,\tobjective=4.231336343338073e6,\taec=5.417318829488685e-5\n",
      "k=640,\ttauk=0.00012604775861492834,\tobjective=4.231336342980975e6,\taec=5.0831207645518776e-5\n",
      "k=641,\ttauk=0.00013447225682925338,\tobjective=4.231336342721625e6,\taec=4.561214253236139e-5\n",
      "k=642,\ttauk=0.00024579539782634255,\tobjective=4.231336342423365e6,\taec=7.717567003480325e-5\n",
      "k=643,\ttauk=0.00031592563228710423,\tobjective=4.231336341922835e6,\taec=7.734008373344483e-5\n",
      "k=644,\ttauk=0.00010783298825774004,\tobjective=4.231336341411138e6,\taec=6.368519276012763e-5\n",
      "k=645,\ttauk=0.00019095246061748015,\tobjective=4.2313363411097145e6,\taec=4.995639296222728e-5\n",
      "k=646,\ttauk=0.00022899471637044037,\tobjective=4.231336340783592e6,\taec=5.7261015830382794e-5\n",
      "k=647,\ttauk=0.00022618077363034312,\tobjective=4.231336340398725e6,\taec=4.933709191923927e-5\n",
      "k=648,\ttauk=0.00027179150466104626,\tobjective=4.231336340074766e6,\taec=5.956748901301797e-5\n",
      "k=649,\ttauk=0.00019617092205626593,\tobjective=4.231336339732611e6,\taec=5.876252089104865e-5\n",
      "k=650,\ttauk=0.00038604879572844174,\tobjective=4.2313363394696e6,\taec=6.353233405246843e-5\n",
      "k=651,\ttauk=0.0005118427857529176,\tobjective=4.231336338969377e6,\taec=7.879090814113088e-5\n",
      "k=652,\ttauk=0.00043468375836542026,\tobjective=4.231336338211201e6,\taec=5.9754474618520196e-5\n",
      "k=653,\ttauk=0.0002749238868142432,\tobjective=4.23133633765787e6,\taec=6.163390722906777e-5\n",
      "k=654,\ttauk=0.0004023189071885224,\tobjective=4.231336337377627e6,\taec=6.41675311756949e-5\n",
      "k=655,\ttauk=0.00044171962231157996,\tobjective=4.231336336757814e6,\taec=8.324250050717619e-5\n",
      "k=656,\ttauk=0.0005392434175875515,\tobjective=4.231336335991351e6,\taec=9.471426359199596e-5\n",
      "k=657,\ttauk=0.0005395756049850924,\tobjective=4.231336335170076e6,\taec=0.0001061248370480873\n",
      "k=658,\ttauk=0.0005072890931636204,\tobjective=4.231336334381653e6,\taec=8.702082963401056e-5\n",
      "k=659,\ttauk=0.000660532123019105,\tobjective=4.231336333406466e6,\taec=7.476935007145058e-5\n",
      "k=660,\ttauk=0.0005288556908151685,\tobjective=4.231336332543164e6,\taec=9.377236347087657e-5\n",
      "k=661,\ttauk=0.0005399148059102943,\tobjective=4.231336331886581e6,\taec=7.769505242304179e-5\n",
      "k=662,\ttauk=0.00040902256177724185,\tobjective=4.231336331125465e6,\taec=9.327914135006819e-5\n",
      "k=663,\ttauk=0.000666286649255509,\tobjective=4.231336330461301e6,\taec=7.40162054716268e-5\n",
      "k=664,\ttauk=0.0006671088933125982,\tobjective=4.231336329738675e6,\taec=6.846996847358317e-5\n",
      "k=665,\ttauk=0.0007994497003116164,\tobjective=4.231336329067705e6,\taec=8.22634350031168e-5\n",
      "k=666,\ttauk=0.0009549695764617495,\tobjective=4.231336328309638e6,\taec=7.578019013486831e-5\n",
      "k=667,\ttauk=0.0006284510648153377,\tobjective=4.231336327568991e6,\taec=8.426561279876309e-5\n",
      "k=668,\ttauk=0.0004076921429458239,\tobjective=4.231336326648366e6,\taec=7.313153877465908e-5\n",
      "k=669,\ttauk=0.00040941465581268387,\tobjective=4.231336326160899e6,\taec=7.736925695595629e-5\n",
      "k=670,\ttauk=0.000788856333874275,\tobjective=4.23133632574818e6,\taec=7.024391409406398e-5\n",
      "k=671,\ttauk=0.0012555062163359327,\tobjective=4.231336325022737e6,\taec=0.00010246877670618672\n",
      "k=672,\ttauk=0.0011434402817366732,\tobjective=4.231336323565706e6,\taec=0.00011557361847115138\n",
      "k=673,\ttauk=0.0014787339911641383,\tobjective=4.231336322364821e6,\taec=0.00011706436444714426\n",
      "k=674,\ttauk=0.0014327821819598257,\tobjective=4.231336321117675e6,\taec=0.00010927582268370187\n",
      "k=675,\ttauk=0.0011684670788086199,\tobjective=4.231336319876838e6,\taec=0.00011365364051537089\n",
      "k=676,\ttauk=0.00029691960283960786,\tobjective=4.2313363185094325e6,\taec=8.055610414873344e-5\n",
      "k=677,\ttauk=0.0003580621148821874,\tobjective=4.231336317980985e6,\taec=6.537484334646432e-5\n",
      "k=678,\ttauk=0.0003198149500813194,\tobjective=4.231336317248558e6,\taec=7.321682653513325e-5\n",
      "k=679,\ttauk=0.0004241692267494735,\tobjective=4.231336316689459e6,\taec=7.441577759607015e-5\n",
      "k=680,\ttauk=0.00028384448105970997,\tobjective=4.231336316025903e6,\taec=8.344229148815506e-5\n",
      "k=681,\ttauk=0.00030528434493142176,\tobjective=4.23133631548919e6,\taec=6.379459682940875e-5\n",
      "k=682,\ttauk=0.00048042600932060516,\tobjective=4.231336314821322e6,\taec=8.097836596935707e-5\n",
      "k=683,\ttauk=0.00028827123186201764,\tobjective=4.231336314120783e6,\taec=6.705688732338907e-5\n",
      "k=684,\ttauk=0.0003889415513300342,\tobjective=4.2313363137640385e6,\taec=7.980983548333297e-5\n",
      "k=685,\ttauk=0.00019972805245294025,\tobjective=4.231336313112576e6,\taec=7.286498803465616e-5\n",
      "k=686,\ttauk=0.0007785291158013528,\tobjective=4.23133631274496e6,\taec=5.9860143924149555e-5\n",
      "k=687,\ttauk=0.0006380958830020242,\tobjective=4.231336311919854e6,\taec=9.467307877733568e-5\n",
      "k=688,\ttauk=0.000724899728576208,\tobjective=4.231336311283884e6,\taec=7.716485124837589e-5\n",
      "k=689,\ttauk=0.000439980266516787,\tobjective=4.231336310835166e6,\taec=7.10922453750836e-5\n",
      "k=690,\ttauk=0.0005458571547276561,\tobjective=4.231336310393264e6,\taec=7.015308670501245e-5\n",
      "k=691,\ttauk=0.0012739148486456723,\tobjective=4.231336309800081e6,\taec=7.356070427568056e-5\n",
      "k=692,\ttauk=0.0011141734673037831,\tobjective=4.2313363084414415e6,\taec=0.00010137015457006293\n",
      "k=693,\ttauk=0.0013844363210505208,\tobjective=4.231336307466543e6,\taec=0.0001087221904790532\n",
      "k=694,\ttauk=0.0011473295995308886,\tobjective=4.231336306181694e6,\taec=9.681894048775691e-5\n",
      "k=695,\ttauk=0.001013252137626162,\tobjective=4.231336305269344e6,\taec=7.312808752202502e-5\n",
      "k=696,\ttauk=0.0009135757369534464,\tobjective=4.231336304423675e6,\taec=8.60573904262365e-5\n",
      "k=697,\ttauk=0.0008875039122007392,\tobjective=4.231336303523682e6,\taec=8.29677669722969e-5\n",
      "k=698,\ttauk=0.0008979700002884475,\tobjective=4.231336302251307e6,\taec=0.00010077137083199477\n",
      "k=699,\ttauk=0.0010080788031930057,\tobjective=4.231336301197397e6,\taec=0.00010459873868184524\n",
      "k=700,\ttauk=0.0006349503549259461,\tobjective=4.231336300257101e6,\taec=9.189957804219612e-5\n",
      "k=701,\ttauk=0.0008341398852312001,\tobjective=4.23133629943732e6,\taec=7.802159739043553e-5\n",
      "k=702,\ttauk=0.0010443868613903258,\tobjective=4.231336298765676e6,\taec=8.092293052464575e-5\n",
      "k=703,\ttauk=0.0007078868235139571,\tobjective=4.231336297949164e6,\taec=7.701184344387557e-5\n",
      "k=704,\ttauk=0.0009017024804684861,\tobjective=4.231336297464657e6,\taec=7.150098396577788e-5\n",
      "k=705,\ttauk=0.0015428963866425537,\tobjective=4.231336296851981e6,\taec=9.054280999847505e-5\n",
      "k=706,\ttauk=0.001996537730927231,\tobjective=4.2313362958922265e6,\taec=8.344150204635036e-5\n",
      "k=707,\ttauk=0.001368751133930603,\tobjective=4.23133629451173e6,\taec=9.77365220460423e-5\n",
      "k=708,\ttauk=0.0014906558061608633,\tobjective=4.23133629344552e6,\taec=9.222424884558683e-5\n",
      "k=709,\ttauk=0.0014791147370734439,\tobjective=4.231336292402782e6,\taec=9.222741313154705e-5\n",
      "k=710,\ttauk=0.0014223204640024566,\tobjective=4.231336291204652e6,\taec=0.00010216191749610688\n",
      "k=711,\ttauk=0.0009923472138806111,\tobjective=4.231336290425195e6,\taec=8.558747525462758e-5\n",
      "k=712,\ttauk=0.0029146671604699747,\tobjective=4.231336289660859e6,\taec=0.00010712109857119508\n",
      "k=713,\ttauk=0.004317111917127538,\tobjective=4.231336287842511e6,\taec=0.0001465497454328755\n",
      "k=714,\ttauk=0.0020982823363097725,\tobjective=4.231336285277414e6,\taec=9.729873628680467e-5\n",
      "k=715,\ttauk=0.0027629097178188313,\tobjective=4.231336283977444e6,\taec=0.00013451824727128825\n",
      "k=716,\ttauk=0.0027631661872983687,\tobjective=4.2313362824752685e6,\taec=0.00011206560386463595\n",
      "k=717,\ttauk=0.0023570037269146833,\tobjective=4.23133628062693e6,\taec=0.00011564109403912765\n",
      "k=718,\ttauk=0.0020456203460671135,\tobjective=4.231336279230856e6,\taec=0.00012750778323751205\n",
      "k=719,\ttauk=0.0031768181595829103,\tobjective=4.2313362778296415e6,\taec=0.0001425279906129075\n",
      "k=720,\ttauk=0.001562186137999453,\tobjective=4.231336275788268e6,\taec=0.00014288396648163854\n",
      "k=721,\ttauk=0.002216425212634467,\tobjective=4.231336273814625e6,\taec=0.00013742451700916555\n",
      "k=722,\ttauk=0.0016660029241677514,\tobjective=4.231336270605858e6,\taec=0.00014933925312109544\n",
      "k=723,\ttauk=0.001517645774299105,\tobjective=4.231336268169513e6,\taec=0.00012986062203300988\n",
      "k=724,\ttauk=0.001044177188157672,\tobjective=4.23133626662065e6,\taec=0.00011868461025894283\n",
      "k=725,\ttauk=0.0005800212902971474,\tobjective=4.231336265312401e6,\taec=0.00010250726450003242\n",
      "k=726,\ttauk=0.000718938867589659,\tobjective=4.231336264514587e6,\taec=9.264884693770196e-5\n",
      "k=727,\ttauk=0.0007099099096060885,\tobjective=4.231336263461394e6,\taec=0.00011144776276663499\n",
      "k=728,\ttauk=0.0009291885801697331,\tobjective=4.231336262144713e6,\taec=0.0001139506572626089\n",
      "k=729,\ttauk=0.0010517461505134486,\tobjective=4.23133626089893e6,\taec=0.00012159932348453629\n",
      "k=730,\ttauk=0.0014012428913626263,\tobjective=4.231336259651911e6,\taec=0.00013656020184634826\n",
      "k=731,\ttauk=0.0010193371820188526,\tobjective=4.23133625787217e6,\taec=0.00010112539104987153\n",
      "k=732,\ttauk=0.0015637942393686803,\tobjective=4.231336256546114e6,\taec=0.00010295894098454178\n",
      "k=733,\ttauk=0.0018192759073421866,\tobjective=4.231336254637447e6,\taec=0.0001297371725190722\n",
      "k=734,\ttauk=0.0014622586696253698,\tobjective=4.231336253346216e6,\taec=0.0001234686910600933\n",
      "k=735,\ttauk=0.00184503405686654,\tobjective=4.231336252102298e6,\taec=0.00011111569359456409\n",
      "k=736,\ttauk=0.0017850148407964194,\tobjective=4.2313362509110635e6,\taec=9.975691783359183e-5\n",
      "k=737,\ttauk=0.002651646483459643,\tobjective=4.231336248790158e6,\taec=0.00015570733714301223\n",
      "k=738,\ttauk=0.0026139372962366643,\tobjective=4.231336246321987e6,\taec=0.00010797205412862652\n",
      "k=739,\ttauk=0.003999368510238552,\tobjective=4.231336243369338e6,\taec=0.0002072502747079935\n",
      "k=740,\ttauk=0.002375629103476501,\tobjective=4.2313362395394845e6,\taec=0.00015933227791702472\n",
      "k=741,\ttauk=0.002350916039124671,\tobjective=4.231336237477482e6,\taec=0.00019166570845361193\n",
      "k=742,\ttauk=0.002195728292880316,\tobjective=4.231336235502322e6,\taec=0.00014212826884925549\n",
      "k=743,\ttauk=0.0005271163350203756,\tobjective=4.231336233187312e6,\taec=0.0001256536208124159\n",
      "k=744,\ttauk=0.0012665468192618711,\tobjective=4.23133623222758e6,\taec=9.95919158960126e-5\n",
      "k=745,\ttauk=0.0007042044780633109,\tobjective=4.231336230882309e6,\taec=0.00010513111366567534\n",
      "k=746,\ttauk=0.00044660550229841796,\tobjective=4.23133623002009e6,\taec=8.195172149752057e-5\n",
      "k=747,\ttauk=0.0005779426760853895,\tobjective=4.231336229485846e6,\taec=8.398375149012538e-5\n",
      "k=748,\ttauk=0.0003228416609975622,\tobjective=4.231336228791883e6,\taec=6.563005686380668e-5\n",
      "k=749,\ttauk=0.0008392011150014022,\tobjective=4.231336228261632e6,\taec=9.542662736350754e-5\n",
      "k=750,\ttauk=0.0011485331340670803,\tobjective=4.231336226924741e6,\taec=0.00012805890458513565\n",
      "k=751,\ttauk=0.0012004169756104487,\tobjective=4.231336225188273e6,\taec=0.0001297805370417895\n",
      "k=752,\ttauk=0.0010838316718711821,\tobjective=4.231336223319808e6,\taec=0.00012995105550567094\n",
      "k=753,\ttauk=0.0007188648189129098,\tobjective=4.2313362218188485e6,\taec=0.00011042739597577405\n",
      "k=754,\ttauk=0.0011081341875101456,\tobjective=4.231336220558002e6,\taec=0.00010380293594397443\n",
      "k=755,\ttauk=0.0009201525072469396,\tobjective=4.231336218137014e6,\taec=0.00011823898795227656\n",
      "k=756,\ttauk=0.0009921419107782965,\tobjective=4.231336216515429e6,\taec=0.00012355331648389084\n",
      "k=757,\ttauk=0.0007024634530272636,\tobjective=4.231336214967266e6,\taec=0.00012005573929418178\n",
      "k=758,\ttauk=0.0011658765572856178,\tobjective=4.231336213486746e6,\taec=0.00012923038977596555\n",
      "k=759,\ttauk=0.0007441110611260192,\tobjective=4.231336211438744e6,\taec=0.0001296220396356621\n",
      "k=760,\ttauk=0.0010259624178004837,\tobjective=4.231336210470753e6,\taec=9.128012383719302e-5\n",
      "k=761,\ttauk=0.000580775525049081,\tobjective=4.231336209505268e6,\taec=0.0001047917265012133\n",
      "k=762,\ttauk=0.0004099706584817267,\tobjective=4.2313362087984085e6,\taec=8.69927189379509e-5\n",
      "k=763,\ttauk=0.0005718619662911745,\tobjective=4.231336208313801e6,\taec=7.623905233865273e-5\n",
      "k=764,\ttauk=0.0005050596807092793,\tobjective=4.231336207347053e6,\taec=8.612248004960124e-5\n",
      "k=765,\ttauk=0.00020904074073384909,\tobjective=4.231336206850556e6,\taec=6.97215833079795e-5\n",
      "k=766,\ttauk=0.00029584565348772724,\tobjective=4.231336206373297e6,\taec=8.689003202628243e-5\n",
      "k=767,\ttauk=0.00029310870385248095,\tobjective=4.231336205719261e6,\taec=6.847513509533073e-5\n",
      "k=768,\ttauk=0.00021109377175699564,\tobjective=4.231336204685789e6,\taec=7.8196563751241e-5\n",
      "k=769,\ttauk=0.0001161501459938567,\tobjective=4.231336204162033e6,\taec=5.375561797686636e-5\n",
      "k=770,\ttauk=0.00015439642966228416,\tobjective=4.231336203860388e6,\taec=5.060650924550234e-5\n",
      "k=771,\ttauk=8.659855604383351e-5,\tobjective=4.231336203597714e6,\taec=4.712040047458292e-5\n",
      "k=772,\ttauk=0.00010033807457871259,\tobjective=4.231336203462146e6,\taec=2.4955668569301243e-5\n",
      "k=773,\ttauk=6.114267612993395e-5,\tobjective=4.231336203369713e6,\taec=3.1027901727609085e-5\n",
      "k=774,\ttauk=9.851990592242437e-5,\tobjective=4.231336203280591e6,\taec=2.3548075892093176e-5\n",
      "k=775,\ttauk=0.00013958902310701738,\tobjective=4.23133620319961e6,\taec=3.357894932236512e-5\n",
      "k=776,\ttauk=0.00016677722332814954,\tobjective=4.231336203090708e6,\taec=3.3631074230413405e-5\n",
      "k=777,\ttauk=0.00018747453713670794,\tobjective=4.231336202925026e6,\taec=3.509466783249471e-5\n",
      "k=778,\ttauk=0.00010239817662128324,\tobjective=4.231336202761462e6,\taec=3.627835699841091e-5\n",
      "k=779,\ttauk=0.0003331438404516698,\tobjective=4.231336202645814e6,\taec=4.364539760139606e-5\n",
      "k=780,\ttauk=0.0002514310849430117,\tobjective=4.231336202388316e6,\taec=4.3033933705023705e-5\n",
      "k=781,\ttauk=0.0005097598014108204,\tobjective=4.231336202090421e6,\taec=5.472217419164599e-5\n",
      "k=782,\ttauk=0.0007393035999462696,\tobjective=4.231336201687518e6,\taec=7.236043541654489e-5\n",
      "k=783,\ttauk=0.0008543107556352593,\tobjective=4.231336201030728e6,\taec=9.264297051436856e-5\n",
      "k=784,\ttauk=0.0007592579696372678,\tobjective=4.23133620040773e6,\taec=6.41201585877317e-5\n",
      "k=785,\ttauk=0.0010071317381363514,\tobjective=4.231336199807961e6,\taec=8.814117245177758e-5\n",
      "k=786,\ttauk=0.0007199838952704195,\tobjective=4.231336199064186e6,\taec=7.808122349746992e-5\n",
      "k=787,\ttauk=0.0004548432095796156,\tobjective=4.231336198547274e6,\taec=7.729635579605534e-5\n",
      "k=788,\ttauk=0.0006245616539974955,\tobjective=4.231336197994937e6,\taec=7.990982799046465e-5\n",
      "k=789,\ttauk=0.0007175344000814917,\tobjective=4.231336197205482e6,\taec=7.521445754475384e-5\n",
      "k=790,\ttauk=0.0006843270084535367,\tobjective=4.231336196162495e6,\taec=9.391843483339597e-5\n",
      "k=791,\ttauk=0.0010770004953938126,\tobjective=4.231336195498933e6,\taec=9.636895677887825e-5\n",
      "k=792,\ttauk=0.0005744710355152276,\tobjective=4.231336194610664e6,\taec=9.733396856588453e-5\n",
      "k=793,\ttauk=0.0009913991171761262,\tobjective=4.23133619410003e6,\taec=8.640316630601553e-5\n",
      "k=794,\ttauk=0.001154824513209916,\tobjective=4.231336193270142e6,\taec=9.053694145238472e-5\n",
      "k=795,\ttauk=0.0012137987015992762,\tobjective=4.231336192009731e6,\taec=8.119733766272986e-5\n",
      "k=796,\ttauk=0.001033856496534377,\tobjective=4.231336191177453e6,\taec=8.493378983900423e-5\n",
      "k=797,\ttauk=0.0023472319669410073,\tobjective=4.231336190429802e6,\taec=9.066000490909607e-5\n",
      "k=798,\ttauk=0.001641495105426473,\tobjective=4.231336189205558e6,\taec=8.98230276279734e-5\n",
      "k=799,\ttauk=0.0035482093153508375,\tobjective=4.231336188364079e6,\taec=9.857357423587254e-5\n",
      "k=800,\ttauk=0.0028306786478062623,\tobjective=4.231336186650559e6,\taec=0.00010219402515179107\n",
      "k=801,\ttauk=0.0031419226715610118,\tobjective=4.231336185157557e6,\taec=0.00011601971236899024\n",
      "k=802,\ttauk=0.004924123175562927,\tobjective=4.2313361831752965e6,\taec=0.00016468103981256087\n",
      "k=803,\ttauk=0.0025592129546085193,\tobjective=4.23133618055312e6,\taec=0.00013205166460085644\n",
      "k=804,\ttauk=0.0013465201614839733,\tobjective=4.231336179200956e6,\taec=8.727518210153462e-5\n",
      "k=805,\ttauk=0.002667046917022327,\tobjective=4.231336178077066e6,\taec=0.00010851449150275966\n",
      "k=806,\ttauk=0.0034191533579888537,\tobjective=4.2313361768994e6,\taec=0.00011132419672373659\n",
      "k=807,\ttauk=0.0022338002584132094,\tobjective=4.231336175043747e6,\taec=0.00011477112066810636\n",
      "k=808,\ttauk=0.002036319098935968,\tobjective=4.231336173950206e6,\taec=0.00010017766956089109\n",
      "k=809,\ttauk=0.00229304672756221,\tobjective=4.231336173083421e6,\taec=9.080724939197731e-5\n",
      "k=810,\ttauk=0.0018331123348934418,\tobjective=4.23133617202232e6,\taec=8.997849525529447e-5\n",
      "k=811,\ttauk=0.0017729672661759253,\tobjective=4.231336171249321e6,\taec=8.294098587996981e-5\n",
      "k=812,\ttauk=0.004939601877417309,\tobjective=4.231336170136778e6,\taec=0.000121360274645925\n",
      "k=813,\ttauk=0.007278596287592508,\tobjective=4.23133616786755e6,\taec=0.00016271149414977346\n",
      "k=814,\ttauk=0.005236648515067533,\tobjective=4.231336164438421e6,\taec=0.00019370464908441553\n",
      "k=815,\ttauk=0.004128424467600537,\tobjective=4.231336161573997e6,\taec=0.00015131880296523364\n",
      "k=816,\ttauk=0.0035013921053558415,\tobjective=4.231336159332709e6,\taec=0.0001406412246764632\n",
      "k=817,\ttauk=0.0021860834172018665,\tobjective=4.2313361578811575e6,\taec=0.0001132138953991007\n",
      "k=818,\ttauk=0.004031449661465947,\tobjective=4.231336155349236e6,\taec=0.00013715455248896125\n",
      "k=819,\ttauk=0.009096972563718348,\tobjective=4.2313361528442865e6,\taec=0.00015993983129683017\n",
      "k=820,\ttauk=0.00662857871814925,\tobjective=4.2313361486245915e6,\taec=0.00020224759959539836\n",
      "k=821,\ttauk=0.009505487588314682,\tobjective=4.231336145820752e6,\taec=0.00016833031301593786\n",
      "k=822,\ttauk=0.005053933367676844,\tobjective=4.231336140155573e6,\taec=0.0001671082678902326\n",
      "k=823,\ttauk=0.012114919019856762,\tobjective=4.231336137918602e6,\taec=0.00020321904070555536\n",
      "k=824,\ttauk=0.014005363118321046,\tobjective=4.231336133100599e6,\taec=0.0002141591855280899\n",
      "k=825,\ttauk=0.016622983791656186,\tobjective=4.231336126659708e6,\taec=0.00020984273519071518\n",
      "k=826,\ttauk=0.008816606794248222,\tobjective=4.231336120980275e6,\taec=0.00023641395783418592\n",
      "k=827,\ttauk=0.008114348644323274,\tobjective=4.231336115586802e6,\taec=0.00025322651900960564\n",
      "k=828,\ttauk=0.0035930791655596414,\tobjective=4.231336110847017e6,\taec=0.000193033530529231\n",
      "k=829,\ttauk=0.004175253118745297,\tobjective=4.23133610656588e6,\taec=0.0001823822362245129\n",
      "k=830,\ttauk=0.0070439542349484815,\tobjective=4.231336102610566e6,\taec=0.00019519229027216905\n",
      "k=831,\ttauk=0.005495115499488568,\tobjective=4.231336096565928e6,\taec=0.00023424857004979006\n",
      "k=832,\ttauk=0.002688278626387249,\tobjective=4.23133609147168e6,\taec=0.00017776389725101337\n",
      "k=833,\ttauk=0.004323065707094663,\tobjective=4.231336088802281e6,\taec=0.00018596659197006634\n",
      "k=834,\ttauk=0.005170590019203774,\tobjective=4.23133608505158e6,\taec=0.00016417579115092076\n",
      "k=835,\ttauk=0.0019464955779331017,\tobjective=4.2313360801711865e6,\taec=0.00015809634597625954\n",
      "k=836,\ttauk=0.002694242188262883,\tobjective=4.231336078274436e6,\taec=0.0001452032623671024\n",
      "k=837,\ttauk=0.005623977594897999,\tobjective=4.231336075928429e6,\taec=0.00017431808886631157\n",
      "k=838,\ttauk=0.0030657117628378992,\tobjective=4.231336070868954e6,\taec=0.00017142900995108497\n",
      "k=839,\ttauk=0.005208046075429724,\tobjective=4.231336067468001e6,\taec=0.00019688270409879208\n",
      "k=840,\ttauk=0.003539434755163208,\tobjective=4.231336062914941e6,\taec=0.00017969329593753772\n",
      "k=841,\ttauk=0.007682068594587831,\tobjective=4.231336059268134e6,\taec=0.0001972378629889428\n",
      "k=842,\ttauk=0.005147567787666837,\tobjective=4.231336052966536e6,\taec=0.00018041141952077546\n",
      "k=843,\ttauk=0.0026337642945544024,\tobjective=4.2313360506616505e6,\taec=0.00014456780518379828\n",
      "k=844,\ttauk=0.007205102784687623,\tobjective=4.2313360487776445e6,\taec=0.00017379949165583565\n",
      "k=845,\ttauk=0.004190858855410296,\tobjective=4.231336043703557e6,\taec=0.00019273493111472426\n",
      "k=846,\ttauk=0.0026114546022699046,\tobjective=4.231336041529687e6,\taec=0.00015123282914337636\n",
      "k=847,\ttauk=0.004175779261119016,\tobjective=4.231336039561534e6,\taec=0.00013526921074773394\n",
      "k=848,\ttauk=0.0043111510561409895,\tobjective=4.231336036714488e6,\taec=0.0001760923339253373\n",
      "k=849,\ttauk=0.005073223119033743,\tobjective=4.231336033332957e6,\taec=0.00014459495742857474\n",
      "k=850,\ttauk=0.00400672946860293,\tobjective=4.231336029074543e6,\taec=0.00016343066914609354\n",
      "k=851,\ttauk=0.008589683470554726,\tobjective=4.231336024950718e6,\taec=0.0001893010790471692\n",
      "k=852,\ttauk=0.008735226283628869,\tobjective=4.231336019003503e6,\taec=0.00027621655140735345\n",
      "k=853,\ttauk=0.0038952195366727125,\tobjective=4.2313360132849915e6,\taec=0.00020189689193127539\n",
      "k=854,\ttauk=0.0009687090730367292,\tobjective=4.231336011159865e6,\taec=0.00013174926167373616\n",
      "k=855,\ttauk=0.002447696925814946,\tobjective=4.231336010120932e6,\taec=0.00010574250973252806\n",
      "k=856,\ttauk=0.0017535196455570187,\tobjective=4.2313360083066635e6,\taec=0.00010853061195270789\n",
      "k=857,\ttauk=0.002260427054187129,\tobjective=4.231336006596587e6,\taec=0.00013373259497321914\n",
      "k=858,\ttauk=0.0013648618161363878,\tobjective=4.231336005272911e6,\taec=0.00012104902280359237\n",
      "k=859,\ttauk=0.0014098127860413651,\tobjective=4.23133600414544e6,\taec=0.0001135005792695874\n",
      "k=860,\ttauk=0.002015749063477043,\tobjective=4.231336002488091e6,\taec=0.00014750130964764376\n",
      "k=861,\ttauk=0.0007606648944955029,\tobjective=4.231335999784058e6,\taec=0.00011652622778171129\n",
      "k=862,\ttauk=0.0011578327119569714,\tobjective=4.231335998817483e6,\taec=0.00010294639584993199\n",
      "k=863,\ttauk=0.0008148501338743006,\tobjective=4.231335997103849e6,\taec=0.0001161653200976439\n",
      "k=864,\ttauk=0.0012273029417529905,\tobjective=4.231335996059626e6,\taec=0.00010518382757972395\n",
      "k=865,\ttauk=0.0012009773484098307,\tobjective=4.231335994755121e6,\taec=0.00012403595434833385\n",
      "k=866,\ttauk=0.0007229550612911652,\tobjective=4.231335993190376e6,\taec=0.00010007186040191338\n",
      "k=867,\ttauk=0.000541303462138359,\tobjective=4.231335992283895e6,\taec=9.63587267892523e-5\n",
      "k=868,\ttauk=0.000516934362896477,\tobjective=4.231335991483487e6,\taec=7.68844261471052e-5\n",
      "k=869,\ttauk=0.00022776304827194243,\tobjective=4.231335990762967e6,\taec=6.832940962126337e-5\n",
      "k=870,\ttauk=0.0005400346191860965,\tobjective=4.231335990347645e6,\taec=7.997488019821614e-5\n",
      "k=871,\ttauk=0.0007918763678255006,\tobjective=4.231335989770456e6,\taec=7.958671727377345e-5\n",
      "k=872,\ttauk=0.0010264999083003392,\tobjective=4.231335988850993e6,\taec=8.872428737969215e-5\n",
      "k=873,\ttauk=0.0006423173526619167,\tobjective=4.231335988009762e6,\taec=6.933897786117218e-5\n",
      "k=874,\ttauk=0.0007427850124249403,\tobjective=4.231335987324569e6,\taec=8.375046146889974e-5\n",
      "k=875,\ttauk=0.0005694996876617765,\tobjective=4.231335986724608e6,\taec=8.197810454113296e-5\n",
      "k=876,\ttauk=0.0009420028268078908,\tobjective=4.231335986180924e6,\taec=7.802392051080516e-5\n",
      "k=877,\ttauk=0.000775733140660646,\tobjective=4.231335985174672e6,\taec=8.407325980512305e-5\n",
      "k=878,\ttauk=0.0006111056357929021,\tobjective=4.231335984475228e6,\taec=6.218049167725141e-5\n",
      "k=879,\ttauk=0.000632672476983467,\tobjective=4.231335983958266e6,\taec=6.888045402759241e-5\n",
      "k=880,\ttauk=0.0005651583472343188,\tobjective=4.231335983402814e6,\taec=8.119386649229298e-5\n",
      "k=881,\ttauk=0.0009746399807043278,\tobjective=4.231335982924433e6,\taec=6.641147164932669e-5\n",
      "k=882,\ttauk=0.00029464275654495924,\tobjective=4.231335981998224e6,\taec=7.598644256007073e-5\n",
      "k=883,\ttauk=0.0011439892133862921,\tobjective=4.231335981528386e6,\taec=9.138140175801496e-5\n",
      "k=884,\ttauk=0.0006514732033286487,\tobjective=4.2313359803059185e6,\taec=9.501448271747552e-5\n",
      "k=885,\ttauk=0.000834472072628741,\tobjective=4.231335979465178e6,\taec=8.693313013030814e-5\n",
      "k=886,\ttauk=0.0009528980332694156,\tobjective=4.231335978592181e6,\taec=9.089732410657905e-5\n",
      "k=887,\ttauk=0.000643519217956854,\tobjective=4.231335977753308e6,\taec=7.592565687894986e-5\n",
      "k=888,\ttauk=0.0005547706779536988,\tobjective=4.231335977278174e6,\taec=7.596232996519017e-5\n",
      "k=889,\ttauk=0.0003098377364899388,\tobjective=4.231335976704173e6,\taec=6.9098407381973e-5\n",
      "k=890,\ttauk=0.0005701640404969589,\tobjective=4.231335976368662e6,\taec=6.034247259776244e-5\n",
      "k=891,\ttauk=0.0006137148555323453,\tobjective=4.231335975754815e6,\taec=7.524980228503776e-5\n",
      "k=892,\ttauk=0.0002800335820725831,\tobjective=4.231335975212823e6,\taec=5.124371117099714e-5\n",
      "k=893,\ttauk=0.00027220648099601476,\tobjective=4.231335974989862e6,\taec=4.8891161723425006e-5\n",
      "k=894,\ttauk=0.00025112890835618447,\tobjective=4.231335974662289e6,\taec=4.619038558430263e-5\n",
      "k=895,\ttauk=0.0003228345899781382,\tobjective=4.231335974376408e6,\taec=6.026747643212048e-5\n",
      "k=896,\ttauk=0.0005719887356028745,\tobjective=4.231335974012932e6,\taec=6.208932000102348e-5\n",
      "k=897,\ttauk=0.000454637906477301,\tobjective=4.231335973425715e6,\taec=7.435724608232363e-5\n",
      "k=898,\ttauk=0.0002259153203511105,\tobjective=4.231335972866741e6,\taec=6.183212775637872e-5\n",
      "k=899,\ttauk=0.0002263858331936409,\tobjective=4.231335972456311e6,\taec=6.305920220477608e-5\n",
      "k=900,\ttauk=0.0004541859058039579,\tobjective=4.231335972153794e6,\taec=6.537810139486146e-5\n",
      "k=901,\ttauk=0.0004983085922802526,\tobjective=4.231335971401212e6,\taec=8.104729160090007e-5\n",
      "k=902,\ttauk=0.00030474670391617616,\tobjective=4.231335970779261e6,\taec=5.321413178629119e-5\n",
      "k=903,\ttauk=0.0002451081407317342,\tobjective=4.231335970549727e6,\taec=5.1453502190671755e-5\n",
      "k=904,\ttauk=0.00023775155249769632,\tobjective=4.231335970404542e6,\taec=4.165625854648951e-5\n",
      "k=905,\ttauk=0.00014132130788238633,\tobjective=4.231335970200846e6,\taec=4.082841644734062e-5\n",
      "k=906,\ttauk=0.00017460432440471793,\tobjective=4.231335970069902e6,\taec=3.882152010819446e-5\n",
      "k=907,\ttauk=0.00025878065964938873,\tobjective=4.231335969854752e6,\taec=4.5641413386198325e-5\n",
      "k=908,\ttauk=0.00021193349633544158,\tobjective=4.231335969580048e6,\taec=3.914528152906954e-5\n",
      "k=909,\ttauk=0.0001515036740606916,\tobjective=4.231335969420659e6,\taec=4.680485292624515e-5\n",
      "k=910,\ttauk=0.0002789885543918225,\tobjective=4.231335969290289e6,\taec=3.673608997486494e-5\n",
      "k=911,\ttauk=0.00015554983267298986,\tobjective=4.231335969096105e6,\taec=4.023207284673363e-5\n",
      "k=912,\ttauk=0.0003756126609596839,\tobjective=4.231335968970676e6,\taec=3.377257394839411e-5\n",
      "k=913,\ttauk=0.00028110856307229427,\tobjective=4.231335968793708e6,\taec=4.403642330967464e-5\n",
      "k=914,\ttauk=0.0002681118600994848,\tobjective=4.231335968650442e6,\taec=3.072588460977565e-5\n",
      "k=915,\ttauk=0.00020113522085019232,\tobjective=4.231335968549603e6,\taec=3.2643841962313e-5\n",
      "k=916,\ttauk=0.00039656334930428797,\tobjective=4.231335968407584e6,\taec=3.714275855779714e-5\n",
      "k=917,\ttauk=0.0009612642940870938,\tobjective=4.231335968111682e6,\taec=6.36290910633625e-5\n",
      "k=918,\ttauk=0.001384024683198061,\tobjective=4.231335967459933e6,\taec=8.828805263670232e-5\n",
      "k=919,\ttauk=0.0013147718352475436,\tobjective=4.231335966663983e6,\taec=9.74244320986217e-5\n",
      "k=920,\ttauk=0.000760664743980113,\tobjective=4.231335965906008e6,\taec=7.151701733215825e-5\n",
      "k=921,\ttauk=0.0012015152329640933,\tobjective=4.231335965342988e6,\taec=6.165392488949889e-5\n",
      "k=922,\ttauk=0.0010887175518580201,\tobjective=4.231335964444746e6,\taec=7.557614842823361e-5\n",
      "k=923,\ttauk=0.001146792109031033,\tobjective=4.231335963873182e6,\taec=9.772261727603356e-5\n",
      "k=924,\ttauk=0.0013047829369673828,\tobjective=4.231335963047567e6,\taec=7.386641060862188e-5\n",
      "k=925,\ttauk=0.0009591910816535058,\tobjective=4.231335962383724e6,\taec=8.965887043044525e-5\n",
      "k=926,\ttauk=0.0013927998809791142,\tobjective=4.231335961707962e6,\taec=8.774485203003097e-5\n",
      "k=927,\ttauk=0.002018974006476176,\tobjective=4.23133596074337e6,\taec=0.00010009031018879651\n",
      "k=928,\ttauk=0.003543118132261685,\tobjective=4.231335959528381e6,\taec=0.00010461430202475354\n",
      "k=929,\ttauk=0.003314466893923159,\tobjective=4.231335957614997e6,\taec=0.00011945376411561777\n",
      "k=930,\ttauk=0.0013376665448958315,\tobjective=4.231335956004448e6,\taec=9.185385798877369e-5\n",
      "k=931,\ttauk=0.0012381496827263776,\tobjective=4.231335955115552e6,\taec=9.50114973559893e-5\n",
      "k=932,\ttauk=0.0007881919590791932,\tobjective=4.2313359542594e6,\taec=7.964499271255249e-5\n",
      "k=933,\ttauk=0.0011113597681027029,\tobjective=4.231335953803373e6,\taec=7.51138720077711e-5\n",
      "k=934,\ttauk=0.0006429790265679136,\tobjective=4.2313359531785855e6,\taec=7.140252438822737e-5\n",
      "k=935,\ttauk=0.0011105678714189709,\tobjective=4.231335952690817e6,\taec=7.251074114071615e-5\n",
      "k=936,\ttauk=0.0010613169555552498,\tobjective=4.231335951938879e6,\taec=7.922064737663193e-5\n",
      "k=937,\ttauk=0.0004415143192092653,\tobjective=4.231335951430219e6,\taec=5.680070191526737e-5\n",
      "k=938,\ttauk=0.0008244950095527504,\tobjective=4.231335951179234e6,\taec=5.1068097440276916e-5\n",
      "k=939,\ttauk=0.0008665532238561353,\tobjective=4.231335950889528e6,\taec=5.270971360043542e-5\n",
      "k=940,\ttauk=0.0019327086475178145,\tobjective=4.231335950496505e6,\taec=5.767342487543293e-5\n",
      "k=941,\ttauk=0.0033405757430142406,\tobjective=4.231335949708175e6,\taec=0.00011187726894679727\n",
      "k=942,\ttauk=0.0016799964328722005,\tobjective=4.231335948311917e6,\taec=0.000100163776537014\n",
      "k=943,\ttauk=0.002831547294055828,\tobjective=4.231335947578748e6,\taec=7.905888033352061e-5\n",
      "k=944,\ttauk=0.003225912215872555,\tobjective=4.231335946594758e6,\taec=0.00010132016594709206\n",
      "k=945,\ttauk=0.003040823291210942,\tobjective=4.231335945122543e6,\taec=0.00010591531736457011\n",
      "k=946,\ttauk=0.001774041215527806,\tobjective=4.231335943999916e6,\taec=8.022688668586946e-5\n",
      "k=947,\ttauk=0.0016319771140432496,\tobjective=4.231335943448062e6,\taec=8.036305105413868e-5\n",
      "k=948,\ttauk=0.0023256653337575955,\tobjective=4.231335942720828e6,\taec=8.971715946457102e-5\n",
      "k=949,\ttauk=0.003589603154859141,\tobjective=4.231335941682863e6,\taec=0.00010857423597247367\n",
      "k=950,\ttauk=0.003430731451414648,\tobjective=4.231335939743787e6,\taec=0.00012503134776567973\n",
      "k=951,\ttauk=0.005482656287015614,\tobjective=4.2313359379833555e6,\taec=0.0001338997479405252\n",
      "k=952,\ttauk=0.007260067842006966,\tobjective=4.23133593519467e6,\taec=0.00016036159523953367\n",
      "k=953,\ttauk=0.009695619230577313,\tobjective=4.231335932101275e6,\taec=0.00016599635193790752\n",
      "k=954,\ttauk=0.016348011439353806,\tobjective=4.231335927906495e6,\taec=0.0002413642997566778\n",
      "k=955,\ttauk=0.024207733951562112,\tobjective=4.2313359207765525e6,\taec=0.0003091600666951783\n",
      "k=956,\ttauk=0.02061337180101137,\tobjective=4.231335910349936e6,\taec=0.00028575578828704355\n",
      "k=957,\ttauk=0.019647096411883464,\tobjective=4.231335900091221e6,\taec=0.00024487151879521785\n",
      "k=958,\ttauk=0.015024494997237582,\tobjective=4.231335894020071e6,\taec=0.0002960464647489161\n",
      "k=959,\ttauk=0.029318129404912404,\tobjective=4.231335886024588e6,\taec=0.00028095729011397644\n",
      "k=960,\ttauk=0.038932368124870345,\tobjective=4.23133587407741e6,\taec=0.000315285294016599\n",
      "k=961,\ttauk=0.03803091941299232,\tobjective=4.231335851319927e6,\taec=0.00042224704368526547\n",
      "k=962,\ttauk=0.016910385403112568,\tobjective=4.2313358401180105e6,\taec=0.00025762599703602193\n",
      "k=963,\ttauk=0.011774734967288494,\tobjective=4.2313358340762295e6,\taec=0.00024433042232672406\n",
      "k=964,\ttauk=0.010767547542129193,\tobjective=4.231335829313143e6,\taec=0.0002776240541729343\n",
      "k=965,\ttauk=0.007847438649518727,\tobjective=4.231335823497965e6,\taec=0.00022739748133442515\n",
      "k=966,\ttauk=0.005306487956599467,\tobjective=4.231335817013272e6,\taec=0.00021152698465365206\n",
      "k=967,\ttauk=0.00673641170640699,\tobjective=4.2313358125982145e6,\taec=0.0002110140315162486\n",
      "k=968,\ttauk=0.0050542655550743845,\tobjective=4.231335808339885e6,\taec=0.0002171880223375605\n",
      "k=969,\ttauk=0.005923838418827338,\tobjective=4.231335805304561e6,\taec=0.00019149073346657962\n",
      "k=970,\ttauk=0.004783876848680251,\tobjective=4.2313357999522e6,\taec=0.00022502573379803566\n",
      "k=971,\ttauk=0.008678763560361999,\tobjective=4.23133579497314e6,\taec=0.0002905808774267824\n",
      "k=972,\ttauk=0.00336951037004959,\tobjective=4.231335787986989e6,\taec=0.00024070092394516178\n",
      "k=973,\ttauk=0.004935048335343402,\tobjective=4.2313357838948695e6,\taec=0.00013328368116440834\n",
      "k=974,\ttauk=0.003757044752982372,\tobjective=4.231335781462738e6,\taec=0.0001560982944277496\n",
      "k=975,\ttauk=0.003550486161645486,\tobjective=4.231335778477343e6,\taec=0.00015964115078287758\n",
      "k=976,\ttauk=0.0051103655000313405,\tobjective=4.231335775999579e6,\taec=0.00016862108697572386\n",
      "k=977,\ttauk=0.004245044094789093,\tobjective=4.231335771665152e6,\taec=0.00016302563959791537\n",
      "k=978,\ttauk=0.005575417690625702,\tobjective=4.231335768832058e6,\taec=0.00017265974763518429\n",
      "k=979,\ttauk=0.0044161697076042245,\tobjective=4.231335764632801e6,\taec=0.00018569869533464255\n",
      "k=980,\ttauk=0.011968506528885222,\tobjective=4.231335760521305e6,\taec=0.00021069574296883557\n",
      "k=981,\ttauk=0.0054468911210963184,\tobjective=4.231335752978144e6,\taec=0.00018751792586189025\n",
      "k=982,\ttauk=0.009265487473600035,\tobjective=4.231335749914493e6,\taec=0.0001801343573385429\n",
      "k=983,\ttauk=0.005247241487450468,\tobjective=4.231335746379851e6,\taec=0.00013833635067231478\n",
      "k=984,\ttauk=0.004163331790826606,\tobjective=4.231335743124811e6,\taec=0.00017083647151602122\n",
      "k=985,\ttauk=0.00607306524659338,\tobjective=4.231335741489665e6,\taec=0.00015685771242005176\n",
      "k=986,\ttauk=0.0033388373613755153,\tobjective=4.231335739286498e6,\taec=0.00015506317712990562\n",
      "k=987,\ttauk=0.008702608279495042,\tobjective=4.231335737754264e6,\taec=0.00013413390983825862\n",
      "k=988,\ttauk=0.005201753027045635,\tobjective=4.231335733882008e6,\taec=0.0001763339956997131\n",
      "k=989,\ttauk=0.004556289150191673,\tobjective=4.231335731799368e6,\taec=0.00015109369731691567\n",
      "k=990,\ttauk=0.004907520876705305,\tobjective=4.231335729867906e6,\taec=0.0001624418220225013\n",
      "k=991,\ttauk=0.00475688688054201,\tobjective=4.231335727380705e6,\taec=0.000133951988667291\n",
      "k=992,\ttauk=0.003807516024350318,\tobjective=4.231335723657008e6,\taec=0.0001628597362841987\n",
      "k=993,\ttauk=0.006852893008150557,\tobjective=4.231335721667464e6,\taec=0.0001362076943019158\n",
      "k=994,\ttauk=0.002429482155457758,\tobjective=4.231335718822655e6,\taec=0.0001478447466293227\n",
      "k=995,\ttauk=0.002747382399960921,\tobjective=4.231335717569541e6,\taec=0.0001084780578692126\n",
      "k=996,\ttauk=0.00186800782291534,\tobjective=4.231335716547979e6,\taec=9.705417803723698e-5\n",
      "k=997,\ttauk=0.0022186721056101652,\tobjective=4.231335715562575e6,\taec=0.00010526069228682528\n",
      "k=998,\ttauk=0.0038386305667040405,\tobjective=4.231335714531031e6,\taec=0.00010417832032980369\n",
      "k=999,\ttauk=0.0042597801535566955,\tobjective=4.231335712538333e6,\taec=0.00012399304288848037\n",
      "k=1000,\ttauk=0.0022155555347370707,\tobjective=4.231335710707604e6,\taec=0.00011012824121821326\n",
      "k=1001,\ttauk=0.0030409202221872178,\tobjective=4.231335708911342e6,\taec=0.00015267929448877862\n",
      "k=1002,\ttauk=0.006006958285241484,\tobjective=4.231335706834913e6,\taec=0.00016398326177676883\n",
      "k=1003,\ttauk=0.006798834896606002,\tobjective=4.231335703055776e6,\taec=0.00019147366545143983\n",
      "k=1004,\ttauk=0.004661845292154764,\tobjective=4.231335699449038e6,\taec=0.0001628746640162374\n",
      "k=1005,\ttauk=0.005046565338293042,\tobjective=4.231335697094044e6,\taec=0.00015299322248885384\n",
      "k=1006,\ttauk=0.004929957789847673,\tobjective=4.231335694636264e6,\taec=0.0001363033605367565\n",
      "k=1007,\ttauk=0.004952930918303049,\tobjective=4.23133569144164e6,\taec=0.00019839686203667407\n",
      "k=1008,\ttauk=0.005456535996774769,\tobjective=4.231335688792023e6,\taec=0.00013526021455390316\n",
      "k=1009,\ttauk=0.0027980589744311815,\tobjective=4.231335686651239e6,\taec=0.00015543245269565188\n",
      "k=1010,\ttauk=0.0023044309590354523,\tobjective=4.231335685079011e6,\taec=0.00013079468251004012\n",
      "k=1011,\ttauk=0.0033558378511319353,\tobjective=4.231335683569472e6,\taec=0.00011070422486505919\n",
      "k=1012,\ttauk=0.0027302126572844925,\tobjective=4.231335681385538e6,\taec=0.0001357609697235867\n",
      "k=1013,\ttauk=0.0018345195607824569,\tobjective=4.231335679420846e6,\taec=0.000129399675797388\n",
      "k=1014,\ttauk=0.00151449925010706,\tobjective=4.231335677912533e6,\taec=0.00014774776809743987\n",
      "k=1015,\ttauk=0.0009594448502439582,\tobjective=4.231335676351822e6,\taec=0.00010713995134750307\n",
      "k=1016,\ttauk=0.0008409706676541626,\tobjective=4.231335675322222e6,\taec=8.933330982400768e-5\n",
      "k=1017,\ttauk=0.0003259811141701832,\tobjective=4.231335674612869e6,\taec=6.813525726127165e-5\n",
      "k=1018,\ttauk=0.0004671755377573432,\tobjective=4.23133567418189e6,\taec=6.399308748933767e-5\n",
      "k=1019,\ttauk=0.0006633470974070329,\tobjective=4.231335673642619e6,\taec=5.84083180580158e-5\n",
      "k=1020,\ttauk=0.0002456826555699644,\tobjective=4.231335673269834e6,\taec=4.67459127049701e-5\n",
      "k=1021,\ttauk=0.0006165292498186125,\tobjective=4.231335673076292e6,\taec=4.397072918409367e-5\n",
      "k=1022,\ttauk=0.0007785774307741009,\tobjective=4.231335672729544e6,\taec=6.509292307730787e-5\n",
      "k=1023,\ttauk=0.0012475892553025125,\tobjective=4.231335672284298e6,\taec=6.59521872304789e-5\n",
      "k=1024,\ttauk=0.0014240119919025356,\tobjective=4.231335671616144e6,\taec=8.335676553534655e-5\n",
      "k=1025,\ttauk=0.0025506517426986965,\tobjective=4.231335670871834e6,\taec=9.16011844122709e-5\n",
      "k=1026,\ttauk=0.0015192582457986717,\tobjective=4.231335669811027e6,\taec=8.184062967596537e-5\n",
      "k=1027,\ttauk=0.0010366816368852206,\tobjective=4.231335669090615e6,\taec=7.982950255737593e-5\n",
      "k=1028,\ttauk=0.0012055310409991278,\tobjective=4.231335668653896e6,\taec=7.709185138791055e-5\n",
      "k=1029,\ttauk=0.0012055310409991278,\tobjective=4.231335668112422e6,\taec=5.6525928945101375e-5\n",
      "k=1030,\ttauk=0.002753518610730834,\tobjective=4.231335667609266e6,\taec=7.996193284899228e-5\n",
      "k=1031,\ttauk=0.001770149196844506,\tobjective=4.231335666713978e6,\taec=7.806930553604018e-5\n",
      "k=1032,\ttauk=0.0007924138583253562,\tobjective=4.231335666151224e6,\taec=6.533563617178865e-5\n",
      "k=1033,\ttauk=0.0010406957756790012,\tobjective=4.231335665808812e6,\taec=6.0785459021351204e-5\n",
      "k=1034,\ttauk=0.002039592507423239,\tobjective=4.231335664967411e6,\taec=9.440401685746987e-5\n",
      "k=1035,\ttauk=0.0016007656407132519,\tobjective=4.231335663621031e6,\taec=8.366479972533415e-5\n",
      "k=1036,\ttauk=0.0008897508051764373,\tobjective=4.231335662733704e6,\taec=9.294113454719385e-5\n",
      "k=1037,\ttauk=0.00024787131114901566,\tobjective=4.231335661972486e6,\taec=7.45456534785467e-5\n",
      "k=1038,\ttauk=0.0004925520027481875,\tobjective=4.231335661580266e6,\taec=6.148829037314296e-5\n",
      "k=1039,\ttauk=0.000563213630845448,\tobjective=4.231335660982639e6,\taec=6.049452243394493e-5\n",
      "k=1040,\ttauk=0.00027461021158588954,\tobjective=4.231335660466936e6,\taec=5.374650711620343e-5\n",
      "k=1041,\ttauk=0.00031265222379983296,\tobjective=4.231335660274672e6,\taec=3.974532888798302e-5\n",
      "k=1042,\ttauk=0.0004145260203122781,\tobjective=4.231335660067984e6,\taec=4.2017000436543164e-5\n",
      "k=1043,\ttauk=0.0006722485418898887,\tobjective=4.231335659830711e6,\taec=5.730550164895063e-5\n",
      "k=1044,\ttauk=0.00029198525736463197,\tobjective=4.231335659514321e6,\taec=4.189690352891196e-5\n",
      "k=1045,\ttauk=0.00010141305557842373,\tobjective=4.2313356593180755e6,\taec=3.593529481854015e-5\n",
      "k=1046,\ttauk=0.0001728165031217871,\tobjective=4.231335659188753e6,\taec=3.4962784781994186e-5\n",
      "k=1047,\ttauk=0.00020878697214339657,\tobjective=4.231335659045869e6,\taec=4.189862249314752e-5\n",
      "k=1048,\ttauk=0.00012860832681897997,\tobjective=4.231335658740259e6,\taec=3.9212452867587475e-5\n",
      "k=1049,\ttauk=6.772046449929338e-5,\tobjective=4.231335658588692e6,\taec=3.130005400098914e-5\n",
      "k=1050,\ttauk=0.0001711256044271968,\tobjective=4.231335658480954e6,\taec=3.167307453981073e-5\n",
      "k=1051,\ttauk=0.000143549688688897,\tobjective=4.231335658319681e6,\taec=3.7204010855805294e-5\n",
      "k=1052,\ttauk=0.0001308851731136285,\tobjective=4.2313356582141e6,\taec=3.6962110871016255e-5\n",
      "k=1053,\ttauk=9.839611657068984e-5,\tobjective=4.23133565811046e6,\taec=2.7173568132523027e-5\n",
      "k=1054,\ttauk=7.257560305836711e-5,\tobjective=4.231335658048685e6,\taec=2.3700948907925035e-5\n",
      "k=1055,\ttauk=7.575183703034582e-5,\tobjective=4.231335657980401e6,\taec=2.4284138256416376e-5\n",
      "k=1056,\ttauk=0.0001683896948277163,\tobjective=4.2313356579039e6,\taec=3.5215268999904275e-5\n",
      "k=1057,\ttauk=0.00014011944258744889,\tobjective=4.231335657777926e6,\taec=3.8652942088214116e-5\n",
      "k=1058,\ttauk=0.00027332953342945685,\tobjective=4.231335657645442e6,\taec=3.446427136205066e-5\n",
      "k=1059,\ttauk=0.0002622778750202268,\tobjective=4.23133565745696e6,\taec=4.116003639960927e-5\n",
      "k=1060,\ttauk=0.0002561786969766233,\tobjective=4.231335657279336e6,\taec=4.201021720306598e-5\n",
      "k=1061,\ttauk=0.00018552948418519346,\tobjective=4.231335657167512e6,\taec=3.333925612527036e-5\n",
      "k=1062,\ttauk=0.0002111122264344198,\tobjective=4.231335657047762e6,\taec=3.0238125331212233e-5\n",
      "k=1063,\ttauk=0.0002993233334294826,\tobjective=4.231335656937227e6,\taec=2.7993413530852124e-5\n",
      "k=1064,\ttauk=0.00049541583667866,\tobjective=4.231335656797634e6,\taec=4.280258689377368e-5\n",
      "k=1065,\ttauk=0.0005549759810560134,\tobjective=4.231335656617163e6,\taec=4.855669903684112e-5\n",
      "k=1066,\ttauk=0.0004117399675954702,\tobjective=4.231335656414168e6,\taec=4.408766922845205e-5\n",
      "k=1067,\ttauk=0.0008309933610391551,\tobjective=4.231335656219179e6,\taec=4.1395588796038265e-5\n",
      "k=1068,\ttauk=0.0008469312851016948,\tobjective=4.231335655816809e6,\taec=6.608551274881766e-5\n",
      "k=1069,\ttauk=0.0011646746919906803,\tobjective=4.2313356554991845e6,\taec=5.671401247816058e-5\n",
      "k=1070,\ttauk=0.0006491478915458624,\tobjective=4.231335655147741e6,\taec=5.868721232169447e-5\n",
      "k=1071,\ttauk=0.000366632160076316,\tobjective=4.231335654908697e6,\taec=3.555803068232203e-5\n",
      "k=1072,\ttauk=0.0002619271838414338,\tobjective=4.231335654697066e6,\taec=3.9939236686695665e-5\n",
      "k=1073,\ttauk=0.00029108395690703064,\tobjective=4.2313356545593245e6,\taec=3.8057436143304826e-5\n",
      "k=1074,\ttauk=0.0004687095904498215,\tobjective=4.231335654238156e6,\taec=5.2359710582823835e-5\n",
      "k=1075,\ttauk=0.0004147298046887285,\tobjective=4.231335653854795e6,\taec=5.3413452854854193e-5\n",
      "k=1076,\ttauk=0.0003299488507714869,\tobjective=4.2313356536098225e6,\taec=5.860556147401688e-5\n",
      "k=1077,\ttauk=0.0003654302947813786,\tobjective=4.231335653389663e6,\taec=6.071034286850965e-5\n",
      "k=1078,\ttauk=0.00013676785883210609,\tobjective=4.231335653099357e6,\taec=3.895610136497007e-5\n",
      "k=1079,\ttauk=9.504158640712238e-5,\tobjective=4.231335652966898e6,\taec=3.710125233870593e-5\n",
      "k=1080,\ttauk=6.89212981464002e-5,\tobjective=4.231335652870582e6,\taec=3.13701914882683e-5\n",
      "k=1081,\ttauk=5.6249711551707634e-5,\tobjective=4.231335652717792e6,\taec=2.8757413374533835e-5\n",
      "k=1082,\ttauk=6.979097726757994e-5,\tobjective=4.231335652662677e6,\taec=2.584849517839985e-5\n",
      "k=1083,\ttauk=5.108718067489064e-5,\tobjective=4.231335652596203e6,\taec=2.395505871245647e-5\n",
      "k=1084,\ttauk=6.579328612354247e-5,\tobjective=4.231335652553529e6,\taec=1.8905931272757297e-5\n",
      "k=1085,\ttauk=6.729031447764618e-5,\tobjective=4.231335652503924e6,\taec=1.8006541422210298e-5\n",
      "k=1086,\ttauk=0.00010294710827090205,\tobjective=4.231335652454685e6,\taec=2.4561007020047684e-5\n",
      "k=1087,\ttauk=0.00012712273961463946,\tobjective=4.231335652399635e6,\taec=2.6501293412419536e-5\n",
      "k=1088,\ttauk=0.00020295299545207367,\tobjective=4.231335652313851e6,\taec=3.068066937399535e-5\n",
      "k=1089,\ttauk=0.00023313795327049812,\tobjective=4.231335652190895e6,\taec=3.134464079031697e-5\n",
      "k=1090,\ttauk=0.00011608213668870096,\tobjective=4.2313356521001365e6,\taec=2.9634455496809976e-5\n",
      "k=1091,\ttauk=0.0001599951499323418,\tobjective=4.2313356520264475e6,\taec=2.7081920549426387e-5\n",
      "k=1092,\ttauk=0.0001298586576020552,\tobjective=4.231335651914483e6,\taec=2.8613968553456478e-5\n",
      "k=1093,\ttauk=0.00013697267485638702,\tobjective=4.231335651841353e6,\taec=3.1233142663146715e-5\n",
      "k=1094,\ttauk=8.854323690084057e-5,\tobjective=4.231335651777776e6,\taec=2.528207944535624e-5\n",
      "k=1095,\ttauk=0.00015777821027559437,\tobjective=4.231335651731109e6,\taec=2.1834656282643676e-5\n",
      "k=1096,\ttauk=9.888244069332269e-5,\tobjective=4.231335651667679e6,\taec=2.4284584074799248e-5\n",
      "k=1097,\ttauk=0.00016114854973914134,\tobjective=4.231335651617993e6,\taec=2.384119330328402e-5\n",
      "k=1098,\ttauk=0.00019694367736532192,\tobjective=4.231335651548915e6,\taec=2.8390433209009688e-5\n",
      "k=1099,\ttauk=0.00019906367765785843,\tobjective=4.231335651424367e6,\taec=3.470220884046849e-5\n",
      "k=1100,\ttauk=0.00020676389443920055,\tobjective=4.231335651331816e6,\taec=2.741969034026149e-5\n",
      "k=1101,\ttauk=0.00010778452276960218,\tobjective=4.231335651217728e6,\taec=2.6183225187621246e-5\n",
      "k=1102,\ttauk=0.0001653700549308975,\tobjective=4.231335651159193e6,\taec=2.6208088070534363e-5\n",
      "k=1103,\ttauk=0.00010295417929032612,\tobjective=4.231335651083895e6,\taec=2.6314341676479833e-5\n",
      "k=1104,\ttauk=0.0001474874803591853,\tobjective=4.231335651011417e6,\taec=3.132583421339393e-5\n",
      "k=1105,\ttauk=0.00017849094130984827,\tobjective=4.231335650915834e6,\taec=3.378183902481481e-5\n",
      "k=1106,\ttauk=0.0001183589829833495,\tobjective=4.23133565082034e6,\taec=2.9996892520501853e-5\n",
      "k=1107,\ttauk=9.520549702084616e-5,\tobjective=4.231335650758448e6,\taec=2.759184299374678e-5\n",
      "k=1108,\ttauk=0.0001813078284780473,\tobjective=4.231335650700194e6,\taec=2.7928825248811752e-5\n",
      "k=1109,\ttauk=0.00011801535443604535,\tobjective=4.231335650585033e6,\taec=2.8794807246594347e-5\n",
      "k=1110,\ttauk=0.00021443415790159208,\tobjective=4.2313356504936535e6,\taec=3.057144756862275e-5\n",
      "k=1111,\ttauk=0.00018698511807058337,\tobjective=4.2313356503821025e6,\taec=2.7362941906343747e-5\n",
      "k=1112,\ttauk=0.00024037909835907307,\tobjective=4.231335650304682e6,\taec=2.993826216414232e-5\n",
      "k=1113,\ttauk=0.0001789782970803117,\tobjective=4.231335650205255e6,\taec=2.444903718290052e-5\n",
      "k=1114,\ttauk=0.00019742125283934119,\tobjective=4.23133565010377e6,\taec=3.2104396925545935e-5\n",
      "k=1115,\ttauk=0.00017447744010949166,\tobjective=4.231335650037483e6,\taec=2.9432912567900043e-5\n",
      "k=1116,\ttauk=0.0003774304355615653,\tobjective=4.231335649969761e6,\taec=2.7969249524692662e-5\n",
      "k=1117,\ttauk=0.0004022704417003846,\tobjective=4.231335649772792e6,\taec=3.693799582515088e-5\n",
      "k=1118,\ttauk=0.0005793562914806062,\tobjective=4.23133564964393e6,\taec=3.4406211689998886e-5\n",
      "k=1119,\ttauk=0.0008318640705843821,\tobjective=4.231335649462693e6,\taec=4.58046511880727e-5\n",
      "k=1120,\ttauk=0.0006127967696385741,\tobjective=4.231335649248001e6,\taec=4.003844823361815e-5\n",
      "k=1121,\ttauk=0.00016151067688366857,\tobjective=4.231335649100682e6,\taec=3.346384261464633e-5\n",
      "k=1122,\ttauk=0.00017319715600746589,\tobjective=4.2313356490336135e6,\taec=2.3890622272670136e-5\n",
      "k=1123,\ttauk=0.00025498827283144916,\tobjective=4.231335648986619e6,\taec=2.6274295748457834e-5\n",
      "k=1124,\ttauk=0.0003395937264499366,\tobjective=4.231335648863924e6,\taec=3.303855088349851e-5\n",
      "k=1125,\ttauk=0.00021390810855149975,\tobjective=4.231335648775488e6,\taec=2.535574106655548e-5\n",
      "k=1126,\ttauk=0.00017553827907035467,\tobjective=4.231335648696754e6,\taec=2.9251620254034608e-5\n",
      "k=1127,\ttauk=0.00020829788963991572,\tobjective=4.231335648625911e6,\taec=2.5335188481917462e-5\n",
      "k=1128,\ttauk=0.0003423306760851829,\tobjective=4.231335648533654e6,\taec=3.7115885095109854e-5\n",
      "k=1129,\ttauk=0.00029203642374185467,\tobjective=4.231335648352955e6,\taec=4.028041343681444e-5\n",
      "k=1130,\ttauk=0.0005784872376046692,\tobjective=4.231335648221519e6,\taec=4.2836203583874146e-5\n",
      "k=1131,\ttauk=0.0005821712522965697,\tobjective=4.231335647948387e6,\taec=5.1590433345278036e-5\n",
      "k=1132,\ttauk=0.0004080259995846191,\tobjective=4.2313356475551305e6,\taec=5.771622202228455e-5\n",
      "k=1133,\ttauk=0.0008616673438692973,\tobjective=4.231335647319728e6,\taec=5.373882792509898e-5\n",
      "k=1134,\ttauk=0.0005651583472343188,\tobjective=4.231335646996001e6,\taec=4.5319447090877176e-5\n",
      "k=1135,\ttauk=0.0006349493232781155,\tobjective=4.23133564672615e6,\taec=5.1579586389312895e-5\n",
      "k=1136,\ttauk=0.000554106303158617,\tobjective=4.231335646487733e6,\taec=4.29578462906938e-5\n",
      "k=1137,\ttauk=0.0010169819169171157,\tobjective=4.231335646271015e6,\taec=4.262379846880156e-5\n",
      "k=1138,\ttauk=0.0012804317123012643,\tobjective=4.231335645993472e6,\taec=5.270170319062997e-5\n",
      "k=1139,\ttauk=0.0018316752131772392,\tobjective=4.231335645563304e6,\taec=6.287654520374534e-5\n",
      "k=1140,\ttauk=0.0016586049414649996,\tobjective=4.231335644986159e6,\taec=7.273518324365267e-5\n",
      "k=1141,\ttauk=0.0010192102977236263,\tobjective=4.2313356444868455e6,\taec=5.4733613206366e-5\n",
      "k=1142,\ttauk=0.0006775564692311192,\tobjective=4.231335644165813e6,\taec=5.2211185521071675e-5\n",
      "k=1143,\ttauk=0.0006238972792024138,\tobjective=4.231335643915229e6,\taec=5.00599661593016e-5\n",
      "k=1144,\ttauk=0.0008186610328614275,\tobjective=4.231335643707761e6,\taec=4.424455677403454e-5\n",
      "k=1145,\ttauk=0.00029704648713483407,\tobjective=4.231335643432677e6,\taec=4.587700980995935e-5\n",
      "k=1146,\ttauk=0.00029216060714799607,\tobjective=4.231335643287584e6,\taec=3.419757116104554e-5\n",
      "k=1147,\ttauk=0.0013014537484335328,\tobjective=4.231335643097179e6,\taec=5.333088391837036e-5\n",
      "k=1148,\ttauk=0.0006894667500544542,\tobjective=4.231335642479831e6,\taec=6.549513947602963e-5\n",
      "k=1149,\ttauk=0.0004338141024279232,\tobjective=4.231335642174701e6,\taec=5.7150058185395534e-5\n",
      "k=1150,\ttauk=0.0013498789092823667,\tobjective=4.231335641932877e6,\taec=6.42977314043007e-5\n",
      "k=1151,\ttauk=0.0009939297320612273,\tobjective=4.231335641192416e6,\taec=6.283769548028146e-5\n",
      "k=1152,\ttauk=0.000672659148094518,\tobjective=4.231335640700594e6,\taec=5.965371677394764e-5\n",
      "k=1153,\ttauk=0.0005719888861182644,\tobjective=4.23133564038169e6,\taec=5.694763407450018e-5\n",
      "k=1154,\ttauk=0.0007762635601410776,\tobjective=4.231335640008385e6,\taec=5.9500209265556424e-5\n",
      "k=1155,\ttauk=0.00039436492181672784,\tobjective=4.231335639571206e6,\taec=6.208646347765881e-5\n",
      "k=1156,\ttauk=0.0005969073110641722,\tobjective=4.231335639127461e6,\taec=4.38471399562736e-5\n",
      "k=1157,\ttauk=0.0006261741474569616,\tobjective=4.231335638865449e6,\taec=5.7821973667057e-5\n",
      "k=1158,\ttauk=0.0012387056853954206,\tobjective=4.231335638549611e6,\taec=6.28822157546853e-5\n",
      "k=1159,\ttauk=0.0009532302206669566,\tobjective=4.231335638061718e6,\taec=4.548051957809637e-5\n",
      "k=1160,\ttauk=0.001030202435161427,\tobjective=4.231335637729511e6,\taec=6.658592729101446e-5\n",
      "k=1161,\ttauk=0.0007578320455318115,\tobjective=4.231335637345657e6,\taec=5.0242405900802964e-5\n",
      "k=1162,\ttauk=0.0005263735414182053,\tobjective=4.231335637074307e6,\taec=5.164711473998317e-5\n",
      "k=1163,\ttauk=0.0001611485716990408,\tobjective=4.231335636759563e6,\taec=3.720232874415381e-5\n",
      "k=1164,\ttauk=0.00017133091591744665,\tobjective=4.231335636658683e6,\taec=3.635331640186339e-5\n",
      "k=1165,\ttauk=0.00012397621542259446,\tobjective=4.231335636506224e6,\taec=4.0814231655545453e-5\n",
      "k=1166,\ttauk=0.00023895341779263371,\tobjective=4.231335636368471e6,\taec=4.772160577789751e-5\n",
      "k=1167,\ttauk=0.00033194197515673237,\tobjective=4.231335636164032e6,\taec=4.883199395829862e-5\n",
      "k=1168,\ttauk=0.0001918154615498594,\tobjective=4.23133563587905e6,\taec=4.306395598328236e-5\n",
      "k=1169,\ttauk=0.0003268507920675797,\tobjective=4.231335635697201e6,\taec=4.119677020260611e-5\n",
      "k=1170,\ttauk=0.00026389035490772866,\tobjective=4.23133563551407e6,\taec=3.394554030817545e-5\n",
      "k=1171,\ttauk=0.0002760173799831416,\tobjective=4.231335635311538e6,\taec=4.314824768832275e-5\n",
      "k=1172,\ttauk=0.00014421402795211516,\tobjective=4.231335635176017e6,\taec=4.0767568081443795e-5\n",
      "k=1173,\ttauk=0.0001549938268000408,\tobjective=4.231335635066886e6,\taec=3.386747338656694e-5\n",
      "k=1174,\ttauk=0.000295639318737582,\tobjective=4.231335634990549e6,\taec=3.340451774888332e-5\n",
      "k=1175,\ttauk=0.0001784936557708974,\tobjective=4.231335634774035e6,\taec=3.7227319209995e-5\n",
      "k=1176,\ttauk=0.00012256634613625752,\tobjective=4.231335634640471e6,\taec=3.234686983642863e-5\n",
      "k=1177,\ttauk=0.00013970844232841272,\tobjective=4.231335634560247e6,\taec=3.3429720719498324e-5\n",
      "k=1178,\ttauk=0.00030528419441603174,\tobjective=4.231335634463582e6,\taec=3.2654039998741796e-5\n",
      "k=1179,\ttauk=0.0006960919858360851,\tobjective=4.231335634305044e6,\taec=3.7123865284711636e-5\n",
      "k=1180,\ttauk=0.0004420518097091209,\tobjective=4.231335633964279e6,\taec=4.965756173207901e-5\n",
      "k=1181,\ttauk=0.0007484109851248638,\tobjective=4.231335633720225e6,\taec=4.988941756561109e-5\n",
      "k=1182,\ttauk=0.0002621509991129357,\tobjective=4.231335633384539e6,\taec=4.3129794758290497e-5\n",
      "k=1183,\ttauk=0.0006675750360247894,\tobjective=4.231335633247808e6,\taec=4.251438127164287e-5\n",
      "k=1184,\ttauk=0.0008758958654559945,\tobjective=4.231335632996516e6,\taec=4.601535124159808e-5\n",
      "k=1185,\ttauk=0.0011893878138342735,\tobjective=4.231335632458064e6,\taec=6.822900384296758e-5\n",
      "k=1186,\ttauk=0.0013405593004974239,\tobjective=4.231335631966573e6,\taec=8.748150141357021e-5\n",
      "k=1187,\ttauk=0.001183300068552498,\tobjective=4.231335631467149e6,\taec=8.893561282433276e-5\n",
      "k=1188,\ttauk=0.0008824100282225016,\tobjective=4.23133563096716e6,\taec=5.8134189503152736e-5\n",
      "k=1189,\ttauk=0.000373649489893389,\tobjective=4.2313356305454355e6,\taec=5.6658491094018673e-5\n",
      "k=1190,\ttauk=0.0005050122113371083,\tobjective=4.231335630283918e6,\taec=4.395826513859889e-5\n",
      "k=1191,\ttauk=0.00023234669418019006,\tobjective=4.231335630076078e6,\taec=3.089827356763965e-5\n",
      "k=1192,\ttauk=0.0004954942554857484,\tobjective=4.231335629973271e6,\taec=3.805250584918033e-5\n",
      "k=1193,\ttauk=0.00047467045143637066,\tobjective=4.231335629778994e6,\taec=4.3521594275274646e-5\n",
      "k=1194,\ttauk=0.0007813618142496543,\tobjective=4.231335629598166e6,\taec=3.917668440652452e-5\n",
      "k=1195,\ttauk=0.0010554344998038247,\tobjective=4.231335629307927e6,\taec=6.347118824187313e-5\n",
      "k=1196,\ttauk=0.0014083571521559752,\tobjective=4.231335628933862e6,\taec=6.478914470864843e-5\n",
      "k=1197,\ttauk=0.0012679556569003775,\tobjective=4.231335628377544e6,\taec=7.394694037223054e-5\n",
      "k=1198,\ttauk=0.0006854505479650127,\tobjective=4.231335627995121e6,\taec=4.500846493435498e-5\n",
      "k=1199,\ttauk=0.0006550788127854251,\tobjective=4.231335627766698e6,\taec=5.2136579901393225e-5\n",
      "k=1200,\ttauk=0.00047380077353897416,\tobjective=4.231335627505927e6,\taec=4.633626362378076e-5\n",
      "k=1201,\ttauk=0.00037822170822383763,\tobjective=4.231335627341941e6,\taec=5.145081661122991e-5\n",
      "k=1202,\ttauk=0.0008461400260113868,\tobjective=4.231335627142888e6,\taec=4.284519528638503e-5\n",
      "k=1203,\ttauk=0.000745059157830504,\tobjective=4.231335626699247e6,\taec=5.0053370931080925e-5\n",
      "k=1204,\ttauk=0.0009215297223252411,\tobjective=4.231335626465465e6,\taec=6.203987953861058e-5\n",
      "k=1205,\ttauk=0.000325976744039844,\tobjective=4.231335626179991e6,\taec=4.523717604589938e-5\n",
      "k=1206,\ttauk=0.0003456030529246236,\tobjective=4.231335626084728e6,\taec=3.208849892377672e-5\n",
      "k=1207,\ttauk=0.00016329851173856364,\tobjective=4.231335625946166e6,\taec=3.5563895207144326e-5\n",
      "k=1208,\ttauk=0.0004709864367444701,\tobjective=4.231335625862026e6,\taec=3.0736744740107e-5\n",
      "k=1209,\ttauk=0.00027461060564029643,\tobjective=4.231335625723935e6,\taec=3.544463857923672e-5\n",
      "k=1210,\ttauk=0.0002510989550372339,\tobjective=4.231335625605836e6,\taec=3.482265681228784e-5\n",
      "k=1211,\ttauk=0.0004879993501946562,\tobjective=4.231335625448901e6,\taec=3.5717991161089405e-5\n",
      "k=1212,\ttauk=0.0009782755299080905,\tobjective=4.231335625142407e6,\taec=6.611331829339415e-5\n",
      "k=1213,\ttauk=0.0013088103366675707,\tobjective=4.231335624696209e6,\taec=7.117154167606575e-5\n",
      "k=1214,\ttauk=0.0006454638768539617,\tobjective=4.23133562409037e6,\taec=5.603975614071041e-5\n",
      "k=1215,\ttauk=0.000915852583248095,\tobjective=4.231335623844213e6,\taec=4.246758021253119e-5\n",
      "k=1216,\ttauk=0.0006123077446268564,\tobjective=4.23133562351449e6,\taec=6.169101999709987e-5\n",
      "k=1217,\ttauk=0.00060862539917621,\tobjective=4.23133562328423e6,\taec=5.320377259696532e-5\n",
      "k=1218,\ttauk=0.0007711800856647727,\tobjective=4.231335623017783e6,\taec=4.499190392698917e-5\n",
      "k=1219,\ttauk=0.0005541090040477018,\tobjective=4.231335622682994e6,\taec=4.9275855892257795e-5\n",
      "k=1220,\ttauk=0.0006224901108051617,\tobjective=4.231335622437248e6,\taec=5.5802861833970744e-5\n",
      "k=1221,\ttauk=0.0005915324060656164,\tobjective=4.231335622189989e6,\taec=5.7196820658929666e-5\n",
      "k=1222,\ttauk=0.0005733661367284295,\tobjective=4.231335621762126e6,\taec=6.471415938260948e-5\n",
      "k=1223,\ttauk=0.0009277759744624476,\tobjective=4.231335621350913e6,\taec=5.543344106093355e-5\n",
      "k=1224,\ttauk=0.000683507544737195,\tobjective=4.231335620813894e6,\taec=6.726853802068757e-5\n",
      "k=1225,\ttauk=0.001161069096105868,\tobjective=4.23133562040237e6,\taec=5.81544382379897e-5\n",
      "k=1226,\ttauk=0.0007776663584079905,\tobjective=4.23133561993423e6,\taec=7.478274843545504e-5\n",
      "k=1227,\ttauk=0.0007671632459819075,\tobjective=4.2313356195051335e6,\taec=5.143683308945205e-5\n",
      "k=1228,\ttauk=0.00036036906501117654,\tobjective=4.231335619127257e6,\taec=6.573901257849093e-5\n",
      "k=1229,\ttauk=0.00037052147787053124,\tobjective=4.23133561891866e6,\taec=4.0244131777239257e-5\n",
      "k=1230,\ttauk=0.0004038044943928629,\tobjective=4.231335618726367e6,\taec=4.948670906130962e-5\n",
      "k=1231,\ttauk=0.0005192064450063795,\tobjective=4.231335618514452e6,\taec=5.044517632113089e-5\n",
      "k=1232,\ttauk=0.0002764279810037419,\tobjective=4.231335618215489e6,\taec=4.738255888450926e-5\n",
      "k=1233,\ttauk=0.0005406505504529398,\tobjective=4.231335618001648e6,\taec=4.799246469835936e-5\n",
      "k=1234,\ttauk=0.0008303289862440732,\tobjective=4.231335617752032e6,\taec=5.510040758000981e-5\n",
      "k=1235,\ttauk=0.0002732030431886375,\tobjective=4.231335617362451e6,\taec=4.2549587455095184e-5\n",
      "k=1236,\ttauk=0.0005518752214630214,\tobjective=4.231335617128399e6,\taec=5.739169038266059e-5\n",
      "k=1237,\ttauk=0.00028828543139262897,\tobjective=4.231335616808222e6,\taec=4.011450614057031e-5\n",
      "k=1238,\ttauk=0.00013717822149771853,\tobjective=4.231335616671664e6,\taec=3.6552323666889336e-5\n",
      "k=1239,\ttauk=0.00030388846716854293,\tobjective=4.231335616582988e6,\taec=3.2181625654254597e-5\n",
      "k=1240,\ttauk=0.0001546502034367657,\tobjective=4.231335616413091e6,\taec=2.7172189157846664e-5\n",
      "k=1241,\ttauk=0.00019466682268273817,\tobjective=4.231335616286162e6,\taec=3.0918427814300266e-5\n",
      "k=1242,\ttauk=0.00023603070887209067,\tobjective=4.23133561619382e6,\taec=3.090863853188865e-5\n",
      "k=1243,\ttauk=0.00014218995413195224,\tobjective=4.23133561609937e6,\taec=2.7222877793960353e-5\n",
      "k=1244,\ttauk=0.00010327826402061238,\tobjective=4.231335616040983e6,\taec=2.2454261601578672e-5\n",
      "k=1245,\ttauk=0.00029369465984047436,\tobjective=4.23133561600418e6,\taec=2.0509796365331064e-5\n",
      "k=1246,\ttauk=0.00046361133634124484,\tobjective=4.23133561590258e6,\taec=3.84482598919845e-5\n",
      "k=1247,\ttauk=0.00022290712160405498,\tobjective=4.23133561573722e6,\taec=3.2914302640357447e-5\n",
      "k=1248,\ttauk=0.0001178100513337307,\tobjective=4.231335615667014e6,\taec=2.8279545214347422e-5\n",
      "k=1249,\ttauk=0.00012136718173040501,\tobjective=4.231335615606811e6,\taec=2.384577005382584e-5\n",
      "k=1250,\ttauk=0.00010521958443521142,\tobjective=4.231335615556758e6,\taec=2.0341545163126404e-5\n",
      "k=1251,\ttauk=9.993183850442246e-5,\tobjective=4.231335615503747e6,\taec=2.4955637254031645e-5\n",
      "k=1252,\ttauk=0.00014073535189439292,\tobjective=4.231335615441206e6,\taec=2.242418220943368e-5\n",
      "k=1253,\ttauk=0.0002547829697291345,\tobjective=4.231335615379036e6,\taec=3.35651722721677e-5\n",
      "k=1254,\ttauk=0.00027179587479138546,\tobjective=4.231335615266591e6,\taec=2.846604703573786e-5\n",
      "k=1255,\ttauk=0.00024091658885892861,\tobjective=4.231335615117542e6,\taec=3.171327696153424e-5\n",
      "k=1256,\ttauk=0.0002346262413639235,\tobjective=4.231335615013286e6,\taec=2.706588380228825e-5\n",
      "k=1257,\ttauk=0.00027005214886625326,\tobjective=4.231335614930564e6,\taec=3.213161791411874e-5\n",
      "k=1258,\ttauk=0.0004788919566281268,\tobjective=4.231335614824751e6,\taec=3.043110585702801e-5\n",
      "k=1259,\ttauk=0.0007839708479418437,\tobjective=4.231335614671706e6,\taec=5.000965712624031e-5\n",
      "k=1260,\ttauk=0.000509565939458269,\tobjective=4.231335614434942e6,\taec=4.005390552559034e-5\n",
      "k=1261,\ttauk=0.0005637511788370667,\tobjective=4.231335614311698e6,\taec=3.1383591443217604e-5\n",
      "k=1262,\ttauk=0.0004953744422099462,\tobjective=4.231335614121173e6,\taec=3.7010501036074385e-5\n",
      "k=1263,\ttauk=0.0005637511788370667,\tobjective=4.231335613952612e6,\taec=4.0646608897210556e-5\n",
      "k=1264,\ttauk=0.0005033997753694052,\tobjective=4.231335613780161e6,\taec=4.753125141644917e-5\n",
      "k=1265,\ttauk=0.0008264407000976886,\tobjective=4.231335613597621e6,\taec=5.004008235260059e-5\n",
      "k=1266,\ttauk=0.0008066151274821878,\tobjective=4.231335613213814e6,\taec=5.521807413087477e-5\n",
      "k=1267,\ttauk=0.001490117921606601,\tobjective=4.231335612892864e6,\taec=4.833954664053632e-5\n",
      "k=1268,\ttauk=0.0011522154795177264,\tobjective=4.23133561231878e6,\taec=6.833625998693047e-5\n",
      "k=1269,\ttauk=0.0015384211128603449,\tobjective=4.231335611892159e6,\taec=5.946947176978447e-5\n",
      "k=1270,\ttauk=0.0010165228452243486,\tobjective=4.231335611614341e6,\taec=5.0903924855006385e-5\n",
      "k=1271,\ttauk=0.0006190598647037136,\tobjective=4.231335611326215e6,\taec=4.604219954876158e-5\n",
      "k=1272,\ttauk=0.0014153630408232849,\tobjective=4.231335611078932e6,\taec=6.0479006961430206e-5\n",
      "k=1273,\ttauk=0.001697214397497749,\tobjective=4.231335610721103e6,\taec=6.113861686190052e-5\n",
      "k=1274,\ttauk=0.0008786802489315481,\tobjective=4.231335610061461e6,\taec=5.859121515741546e-5\n",
      "k=1275,\ttauk=0.001613243365355393,\tobjective=4.231335609674983e6,\taec=6.298177713901217e-5\n",
      "k=1276,\ttauk=0.0008340614664241117,\tobjective=4.23133560915021e6,\taec=6.946181480711325e-5\n",
      "k=1277,\ttauk=0.0008004462625042392,\tobjective=4.231335608824556e6,\taec=5.738286980486171e-5\n",
      "k=1278,\ttauk=0.00120240302897627,\tobjective=4.231335608608795e6,\taec=5.311349803283273e-5\n",
      "k=1279,\ttauk=0.0007774721024010322,\tobjective=4.2313356080502635e6,\taec=6.051564848704415e-5\n",
      "k=1280,\ttauk=0.000957041155185947,\tobjective=4.231335607740557e6,\taec=6.324813973945806e-5\n",
      "k=1281,\ttauk=0.0007175316991924069,\tobjective=4.231335607402775e6,\taec=6.470893297129566e-5\n",
      "k=1282,\ttauk=0.0006142224502050133,\tobjective=4.231335607102063e6,\taec=5.353715701552477e-5\n",
      "k=1283,\ttauk=0.0005476079516722123,\tobjective=4.231335606720938e6,\taec=6.364471161055171e-5\n",
      "k=1284,\ttauk=0.0004732632830391186,\tobjective=4.231335606310766e6,\taec=7.14731014514971e-5\n",
      "k=1285,\ttauk=0.00044950532891943455,\tobjective=4.231335605920306e6,\taec=6.176178215750293e-5\n",
      "k=1286,\ttauk=0.0005743141979010508,\tobjective=4.231335605583105e6,\taec=5.161113060517025e-5\n",
      "k=1287,\ttauk=0.00040835818698216,\tobjective=4.231335605179918e6,\taec=6.259372123401907e-5\n",
      "k=1288,\ttauk=0.00016709089855650316,\tobjective=4.231335604907975e6,\taec=4.276675133926136e-5\n",
      "k=1289,\ttauk=0.00012659502102329285,\tobjective=4.231335604815888e6,\taec=3.244598910080283e-5\n",
      "k=1290,\ttauk=5.360040806226182e-5,\tobjective=4.23133560467458e6,\taec=2.4312562216228237e-5\n",
      "k=1291,\ttauk=9.939022141324457e-5,\tobjective=4.2313356045924015e6,\taec=2.7337249154581406e-5\n",
      "k=1292,\ttauk=0.00010555638550210836,\tobjective=4.231335604506332e6,\taec=3.1253420437892245e-5\n",
      "k=1293,\ttauk=5.8533628865780234e-5,\tobjective=4.231335604436457e6,\taec=2.120910709567835e-5\n",
      "k=1294,\ttauk=2.856978542977287e-5,\tobjective=4.2313356043890985e6,\taec=1.7871209089677828e-5\n",
      "k=1295,\ttauk=6.433765223815257e-5,\tobjective=4.2313356043552235e6,\taec=1.6419295494300554e-5\n",
      "k=1296,\ttauk=5.7996138365924666e-5,\tobjective=4.23133560432328e6,\taec=1.8167638442521947e-5\n",
      "k=1297,\ttauk=5.960885340450823e-5,\tobjective=4.231335604294199e6,\taec=1.8608571759554756e-5\n",
      "k=1298,\ttauk=5.072503995839918e-5,\tobjective=4.2313356042609e6,\taec=1.54986287349927e-5\n",
      "k=1299,\ttauk=7.066065394119317e-5,\tobjective=4.231335604216243e6,\taec=2.0130555986370467e-5\n",
      "k=1300,\ttauk=8.345205381168793e-5,\tobjective=4.23133560418375e6,\taec=1.8591484560099695e-5\n",
      "k=1301,\ttauk=9.383972309230788e-5,\tobjective=4.231335604142961e6,\taec=2.0064590994683953e-5\n",
      "k=1302,\ttauk=0.00017253278121238404,\tobjective=4.231335604105516e6,\taec=1.9421913535543367e-5\n",
      "k=1303,\ttauk=0.00022779300159089298,\tobjective=4.2313356040557865e6,\taec=2.8011696650768014e-5\n",
      "k=1304,\ttauk=9.726996919375597e-5,\tobjective=4.231335603968515e6,\taec=1.890508664117974e-5\n",
      "k=1305,\ttauk=0.0001262715738864303,\tobjective=4.231335603928873e6,\taec=2.320998112494937e-5\n",
      "k=1306,\ttauk=0.00011006136906425072,\tobjective=4.23133560385914e6,\taec=2.308654820487622e-5\n",
      "k=1307,\ttauk=0.00023549323194419934,\tobjective=4.2313356038122345e6,\taec=2.7625293845927558e-5\n",
      "k=1308,\ttauk=0.00014674428431467302,\tobjective=4.23133560372273e6,\taec=3.0874928270471276e-5\n",
      "k=1309,\ttauk=0.00028740161145638434,\tobjective=4.231335603645635e6,\taec=2.5030678926894253e-5\n",
      "k=1310,\ttauk=0.00013589793739569273,\tobjective=4.231335603546666e6,\taec=2.526407512302572e-5\n",
      "k=1311,\ttauk=0.0003774304000297016,\tobjective=4.231335603485501e6,\taec=3.202183375365441e-5\n",
      "k=1312,\ttauk=0.00030615347825902134,\tobjective=4.231335603357658e6,\taec=3.5111838665026894e-5\n",
      "k=1313,\ttauk=0.0007583836780705152,\tobjective=4.231335603277878e6,\taec=2.883258331732342e-5\n",
      "k=1314,\ttauk=0.0012019254451143156,\tobjective=4.231335603096277e6,\taec=3.6827283443937814e-5\n",
      "k=1315,\ttauk=0.0011573066626068792,\tobjective=4.231335602849971e6,\taec=4.1536011981570714e-5\n",
      "k=1316,\ttauk=0.0008293823152418258,\tobjective=4.231335602582131e6,\taec=4.4050781194201226e-5\n",
      "k=1317,\ttauk=0.0008295861926419031,\tobjective=4.231335602329875e6,\taec=3.884027065338357e-5\n",
      "k=1318,\ttauk=0.00042793166024846245,\tobjective=4.231335602067045e6,\taec=3.066773210764262e-5\n",
      "k=1319,\ttauk=0.00045539214122923446,\tobjective=4.231335602001254e6,\taec=3.376587929645232e-5\n",
      "k=1320,\ttauk=0.00038134985719012114,\tobjective=4.23133560189537e6,\taec=2.5191017286051364e-5\n",
      "k=1321,\ttauk=0.00038472004613827806,\tobjective=4.2313356017624475e6,\taec=3.759292234561788e-5\n",
      "k=1322,\ttauk=0.0005700442272211567,\tobjective=4.231335601654627e6,\taec=4.224205267973579e-5\n",
      "k=1323,\ttauk=0.00018780633047984198,\tobjective=4.231335601518123e6,\taec=3.6219282967311705e-5\n",
      "k=1324,\ttauk=0.0004122485364242058,\tobjective=4.2313356014474025e6,\taec=2.9636366337773307e-5\n",
      "k=1325,\ttauk=0.0006008750476654758,\tobjective=4.231335601285585e6,\taec=4.290758434288448e-5\n",
      "k=1326,\ttauk=0.0005013282541369707,\tobjective=4.231335600994666e6,\taec=4.3226281169097386e-5\n",
      "k=1327,\ttauk=0.000565695966289665,\tobjective=4.231335600840714e6,\taec=4.444391987608313e-5\n",
      "k=1328,\ttauk=0.0006198810771129721,\tobjective=4.231335600668275e6,\taec=4.026945952080186e-5\n",
      "k=1329,\ttauk=0.0007308605895627572,\tobjective=4.231335600423993e6,\taec=4.223647035391825e-5\n",
      "k=1330,\ttauk=0.0008372864094232451,\tobjective=4.231335600010416e6,\taec=5.4053308618375314e-5\n",
      "k=1331,\ttauk=0.001172912399271878,\tobjective=4.231335599685626e6,\taec=6.816532108230238e-5\n",
      "k=1332,\ttauk=0.0005160644414600637,\tobjective=4.231335599270905e6,\taec=5.128670563891373e-5\n",
      "k=1333,\ttauk=0.0007524271872143052,\tobjective=4.231335599084367e6,\taec=4.076904946286283e-5\n",
      "k=1334,\ttauk=0.0006417798621620611,\tobjective=4.231335598804052e6,\taec=4.911150759022995e-5\n",
      "k=1335,\ttauk=0.0008185341485662012,\tobjective=4.231335598595909e6,\taec=4.6325787187502805e-5\n",
      "k=1336,\ttauk=0.0011201343282903323,\tobjective=4.231335598359199e6,\taec=5.5458835536367155e-5\n",
      "k=1337,\ttauk=0.001482212795777351,\tobjective=4.231335598022524e6,\taec=5.3873786460494606e-5\n",
      "k=1338,\ttauk=0.00033194197515673237,\tobjective=4.231335597688734e6,\taec=3.362913257780749e-5\n",
      "k=1339,\ttauk=0.0001982424652485998,\tobjective=4.231335597595309e6,\taec=3.4637256526489985e-5\n",
      "k=1340,\ttauk=0.0001553145730478185,\tobjective=4.231335597482593e6,\taec=3.013371707663907e-5\n",
      "k=1341,\ttauk=0.0002195552943096953,\tobjective=4.231335597406194e6,\taec=2.8697163234885806e-5\n",
      "k=1342,\ttauk=0.0005444607898867436,\tobjective=4.231335597259905e6,\taec=4.732201940210095e-5\n",
      "k=1343,\ttauk=0.0004916833648865568,\tobjective=4.231335596956485e6,\taec=6.134948600238552e-5\n",
      "k=1344,\ttauk=0.0003447333750272271,\tobjective=4.231335596743659e6,\taec=5.1900953533777715e-5\n",
      "k=1345,\ttauk=0.00012062875825857396,\tobjective=4.2313355965866605e6,\taec=3.9195405162821296e-5\n",
      "k=1346,\ttauk=0.00011540632074385589,\tobjective=4.231335596472708e6,\taec=3.1010609136143296e-5\n",
      "k=1347,\ttauk=0.00016255586865178342,\tobjective=4.231335596357716e6,\taec=3.629931594031805e-5\n",
      "k=1348,\ttauk=0.00034473335306732766,\tobjective=4.231335596223519e6,\taec=2.5771817280763696e-5\n",
      "k=1349,\ttauk=0.00036683849482646125,\tobjective=4.231335596089202e6,\taec=3.8310478896489424e-5\n",
      "k=1350,\ttauk=0.0003523067075133429,\tobjective=4.231335595934791e6,\taec=3.525351754250754e-5\n",
      "k=1351,\ttauk=0.0002292012016359756,\tobjective=4.23133559579866e6,\taec=2.9585636621191312e-5\n",
      "k=1352,\ttauk=8.823393180282615e-5,\tobjective=4.231335595592688e6,\taec=2.9994130813316774e-5\n",
      "k=1353,\ttauk=0.00018736577095626215,\tobjective=4.231335595529734e6,\taec=2.7795855792190755e-5\n",
      "k=1354,\ttauk=0.00020937292813138998,\tobjective=4.231335595434036e6,\taec=2.7133272418414496e-5\n",
      "k=1355,\ttauk=0.00017763540545129994,\tobjective=4.231335595339935e6,\taec=2.4804680877330562e-5\n",
      "k=1356,\ttauk=0.00012034066621883173,\tobjective=4.231335595275475e6,\taec=2.4790207006210792e-5\n",
      "k=1357,\ttauk=8.48565213198551e-5,\tobjective=4.231335595224765e6,\taec=2.3516402324156435e-5\n",
      "k=1358,\ttauk=8.457550029953693e-5,\tobjective=4.231335595176198e6,\taec=2.4496188391923607e-5\n",
      "k=1359,\ttauk=6.590165824958143e-5,\tobjective=4.231335595097701e6,\taec=2.3922600338666294e-5\n",
      "k=1360,\ttauk=4.321161411018443e-5,\tobjective=4.23133559505841e6,\taec=1.9184720218987413e-5\n",
      "k=1361,\ttauk=4.2595704803240457e-5,\tobjective=4.231335595028656e6,\taec=1.7230567670594104e-5\n",
      "k=1362,\ttauk=6.068192238028786e-5,\tobjective=4.231335595004693e6,\taec=1.81182394918887e-5\n",
      "k=1363,\ttauk=8.488917552789053e-5,\tobjective=4.231335594975283e6,\taec=1.7569157681301343e-5\n",
      "k=1364,\ttauk=1.9562032116539286e-5,\tobjective=4.23133559492501e6,\taec=1.6557115615158032e-5\n",
      "k=1365,\ttauk=2.913968659864701e-5,\tobjective=4.231335594896583e6,\taec=1.819060453179143e-5\n",
      "k=1366,\ttauk=3.348998886590059e-5,\tobjective=4.231335594872767e6,\taec=1.775718531950986e-5\n",
      "k=1367,\ttauk=4.057262709904442e-5,\tobjective=4.23133559484522e6,\taec=1.3466935511316879e-5\n",
      "k=1368,\ttauk=6.577476877032611e-5,\tobjective=4.231335594820371e6,\taec=1.748665401229611e-5\n",
      "k=1369,\ttauk=4.530166947170561e-5,\tobjective=4.231335594780466e6,\taec=1.4396974358746924e-5\n",
      "k=1370,\ttauk=6.262815673868328e-5,\tobjective=4.231335594761597e6,\taec=1.3169209393804363e-5\n",
      "k=1371,\ttauk=7.616283728938199e-5,\tobjective=4.231335594739639e6,\taec=1.3257231559713912e-5\n",
      "k=1372,\ttauk=7.884989573425298e-5,\tobjective=4.231335594707945e6,\taec=1.7932791172987016e-5\n",
      "k=1373,\ttauk=0.00010911325878780158,\tobjective=4.231335594678622e6,\taec=2.0066635361374153e-5\n",
      "k=1374,\ttauk=7.334810125644197e-5,\tobjective=4.231335594648847e6,\taec=2.070988906021589e-5\n",
      "k=1375,\ttauk=9.558614990652493e-5,\tobjective=4.231335594621761e6,\taec=1.6820071901995905e-5\n",
      "k=1376,\ttauk=0.00015373205486720232,\tobjective=4.231335594576075e6,\taec=2.515391275416843e-5\n",
      "k=1377,\ttauk=0.00015431801085519575,\tobjective=4.231335594503396e6,\taec=2.2875744936222246e-5\n",
      "k=1378,\ttauk=0.00017621679590428463,\tobjective=4.231335594444001e6,\taec=2.4460576279930815e-5\n",
      "k=1379,\ttauk=4.996373418704164e-5,\tobjective=4.231335594391921e6,\taec=1.9366552919475854e-5\n",
      "k=1380,\ttauk=9.504158838724528e-5,\tobjective=4.231335594356028e6,\taec=1.7430468883904662e-5\n",
      "k=1381,\ttauk=0.00011867972923112718,\tobjective=4.231335594319424e6,\taec=2.320248605213394e-5\n",
      "k=1382,\ttauk=0.00017601149280196997,\tobjective=4.231335594271488e6,\taec=2.1572943972614793e-5\n",
      "k=1383,\ttauk=0.00022494895501645515,\tobjective=4.231335594162495e6,\taec=2.4187585550215233e-5\n",
      "k=1384,\ttauk=0.00017956901725305118,\tobjective=4.231335594074015e6,\taec=2.928249667854737e-5\n",
      "k=1385,\ttauk=0.00016938627059230328,\tobjective=4.231335594004143e6,\taec=2.767052076068922e-5\n",
      "k=1386,\ttauk=0.000136024821690919,\tobjective=4.231335593949253e6,\taec=2.4001110976337724e-5\n",
      "k=1387,\ttauk=0.00011507413334631498,\tobjective=4.231335593904109e6,\taec=1.982066429597731e-5\n",
      "k=1388,\ttauk=0.00011434985191333206,\tobjective=4.231335593842816e6,\taec=1.947397825887186e-5\n",
      "k=1389,\ttauk=0.00011661525705821736,\tobjective=4.2313355937926145e6,\taec=2.3879704894151908e-5\n",
      "k=1390,\ttauk=8.419484741385815e-5,\tobjective=4.231335593751846e6,\taec=1.9251395632108416e-5\n",
      "k=1391,\ttauk=4.152072380352931e-5,\tobjective=4.2313355937199155e6,\taec=1.584909571189055e-5\n",
      "k=1392,\ttauk=1.9875698956957696e-5,\tobjective=4.2313355936913015e6,\taec=1.5024918682162489e-5\n",
      "k=1393,\ttauk=3.737763741886155e-5,\tobjective=4.231335593670832e6,\taec=1.7377159711132594e-5\n",
      "k=1394,\ttauk=3.522767617577891e-5,\tobjective=4.231335593639013e6,\taec=1.3021971636280807e-5\n",
      "k=1395,\ttauk=4.45359935700089e-5,\tobjective=4.231335593605992e6,\taec=1.6265494841410758e-5\n",
      "k=1396,\ttauk=3.491400019108565e-5,\tobjective=4.231335593577766e6,\taec=1.6331612840150206e-5\n",
      "k=1397,\ttauk=3.469018491958369e-5,\tobjective=4.2313355935588665e6,\taec=1.3324464175434854e-5\n",
      "k=1398,\ttauk=1.0592972382934624e-5,\tobjective=4.231335593545924e6,\taec=1.0377910304287706e-5\n",
      "k=1399,\ttauk=4.909857693537435e-5,\tobjective=4.231335593540048e6,\taec=8.375903034166403e-6\n",
      "Iteration time = 16.245249032974243 seconds\n"
     ]
    },
    {
     "data": {
      "text/plain": [
       "([4494.65,8119.04,4519.04,5967.35,8094.65,14006.6,10022.5,14030.8,18006.6,5200.0  …  18386.1,7000.0,8607.17,9661.84,8394.72,9626.21,7902.66,11112.2,10259.5,7861.48],[6.00082,4.00869,6.00083,6.57361,4.00859,4.26942,4.02018,4.27129,2.31539,7.1333  …  9.05662,7.71313,4.20083,12.3658,9.06552,12.2431,3.75902,17.6163,11.7525,3.72264],4.231335593540048e6)"
      ]
     },
     "execution_count": 8,
     "metadata": {},
     "output_type": "execute_result"
    }
   ],
   "source": [
    "link_flow, link_travel_time, objective = ta_frank_wolfe(ta_data, method=:bfw, step=:exact, log=:on, tol=1e-5, max_iter_no=2000)"
   ]
  },
  {
   "cell_type": "code",
   "execution_count": 7,
   "metadata": {
    "collapsed": false
   },
   "outputs": [
    {
     "data": {
      "text/plain": [
       "76-element Array{Float64,1}:\n",
       "  4494.98\n",
       "  8118.91\n",
       "  4519.21\n",
       "  5967.77\n",
       "  8094.68\n",
       " 14012.9 \n",
       " 10029.8 \n",
       " 14037.3 \n",
       " 18012.0 \n",
       "  5204.89\n",
       " 18036.6 \n",
       "  8796.62\n",
       " 15784.7 \n",
       "     ⋮   \n",
       "  8619.4 \n",
       " 10307.8 \n",
       " 18384.7 \n",
       "  7000.9 \n",
       "  8606.8 \n",
       "  9660.47\n",
       "  8393.37\n",
       "  9625.48\n",
       "  7902.31\n",
       " 11111.2 \n",
       " 10258.0 \n",
       "  7861.46"
      ]
     },
     "execution_count": 7,
     "metadata": {},
     "output_type": "execute_result"
    }
   ],
   "source": [
    "link_flow"
   ]
  },
  {
   "cell_type": "code",
   "execution_count": 16,
   "metadata": {
    "collapsed": false
   },
   "outputs": [
    {
     "data": {
      "text/plain": [
       "\"Sioux Falls\""
      ]
     },
     "execution_count": 16,
     "metadata": {},
     "output_type": "execute_result"
    }
   ],
   "source": [
    "ta_data.network_name"
   ]
  },
  {
   "cell_type": "code",
   "execution_count": 18,
   "metadata": {
    "collapsed": false
   },
   "outputs": [
    {
     "data": {
      "text/plain": [
       "76-element Array{Float64,1}:\n",
       " 25900.2 \n",
       " 23403.5 \n",
       " 25900.2 \n",
       "  4958.18\n",
       " 23403.5 \n",
       " 17110.5 \n",
       " 23403.5 \n",
       " 17110.5 \n",
       " 17782.8 \n",
       "  4908.83\n",
       " 17782.8 \n",
       "  4948.0 \n",
       " 10000.0 \n",
       "     ⋮   \n",
       "  5229.91\n",
       "  4885.36\n",
       "  9599.18\n",
       "  5075.7 \n",
       "  5229.91\n",
       "  5000.0 \n",
       "  4924.79\n",
       "  5000.0 \n",
       "  5078.51\n",
       "  5091.26\n",
       "  4885.36\n",
       "  5078.51"
      ]
     },
     "execution_count": 18,
     "metadata": {},
     "output_type": "execute_result"
    }
   ],
   "source": [
    "ta_data.capacity"
   ]
  },
  {
   "cell_type": "code",
   "execution_count": null,
   "metadata": {
    "collapsed": false
   },
   "outputs": [],
   "source": []
  }
 ],
 "metadata": {
  "kernelspec": {
   "display_name": "Julia 0.3.7",
   "language": "julia",
   "name": "julia-0.3"
  },
  "language_info": {
   "file_extension": ".jl",
   "mimetype": "application/julia",
   "name": "julia",
   "version": "0.3.7"
  }
 },
 "nbformat": 4,
 "nbformat_minor": 0
}
