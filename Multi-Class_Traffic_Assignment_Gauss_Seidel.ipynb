{
 "metadata": {
  "name": ""
 },
 "nbformat": 3,
 "nbformat_minor": 0,
 "worksheets": [
  {
   "cells": [
    {
     "cell_type": "code",
     "collapsed": false,
     "input": [
      "include(\"load_network.jl\")"
     ],
     "language": "python",
     "metadata": {},
     "outputs": [
      {
       "metadata": {},
       "output_type": "pyout",
       "prompt_number": 7,
       "text": [
        "load_ta_network (generic function with 2 methods)"
       ]
      }
     ],
     "prompt_number": 7
    },
    {
     "cell_type": "code",
     "collapsed": false,
     "input": [
      "using Graphs\n",
      "\n",
      "function create_graph(start_node, end_node)\n",
      "    @assert Base.length(start_node)==Base.length(end_node)\n",
      "\n",
      "    no_node = max(maximum(start_node), maximum(end_node))\n",
      "    no_arc = Base.length(start_node)\n",
      "\n",
      "    graph = simple_inclist(no_node)\n",
      "    for i=1:no_arc\n",
      "        add_edge!(graph, start_node[i], end_node[i])\n",
      "    end\n",
      "    return graph\n",
      "end"
     ],
     "language": "python",
     "metadata": {},
     "outputs": [
      {
       "metadata": {},
       "output_type": "pyout",
       "prompt_number": 8,
       "text": [
        "create_graph (generic function with 1 method)"
       ]
      }
     ],
     "prompt_number": 8
    },
    {
     "cell_type": "code",
     "collapsed": false,
     "input": [
      "function get_vector(state, origin, destination, link_dic)\n",
      "    current = destination\n",
      "    parent = -1\n",
      "    x = zeros(Int, maximum(link_dic))\n",
      "\n",
      "    while parent != origin\n",
      "        parent = state.parents[current]\n",
      "\n",
      "        link_idx = link_dic[parent,current]\n",
      "\n",
      "        if link_idx != 0\n",
      "            x[link_idx] = 1\n",
      "        end\n",
      "\n",
      "        current = parent\n",
      "    end\n",
      "\n",
      "    return x\n",
      "end"
     ],
     "language": "python",
     "metadata": {},
     "outputs": [
      {
       "metadata": {},
       "output_type": "pyout",
       "prompt_number": 9,
       "text": [
        "get_vector (generic function with 1 method)"
       ]
      }
     ],
     "prompt_number": 9
    },
    {
     "cell_type": "code",
     "collapsed": false,
     "input": [
      "ta_data = load_ta_network(\"Sioux Falls\");"
     ],
     "language": "python",
     "metadata": {},
     "outputs": [],
     "prompt_number": 10
    },
    {
     "cell_type": "code",
     "collapsed": false,
     "input": [
      "# unpacking data from ta_data\n",
      "network_name = ta_data.network_name\n",
      "\n",
      "number_of_zones = ta_data.number_of_zones\n",
      "number_of_nodes = ta_data.number_of_nodes\n",
      "first_thru_node = ta_data.first_thru_node\n",
      "number_of_links = ta_data.number_of_links\n",
      "\n",
      "start_node = ta_data.start_node\n",
      "end_node = ta_data.end_node\n",
      "capacity = ta_data.capacity\n",
      "link_length = ta_data.link_length\n",
      "\n",
      "free_flow_time = ta_data.free_flow_time\n",
      "B = ta_data.B\n",
      "power = ta_data.power\n",
      "speed_limit = ta_data.speed_limit\n",
      "toll = ta_data.toll\n",
      "link_type = ta_data.link_type\n",
      "number_of_zones = ta_data.number_of_zones\n",
      "total_od_flow = ta_data.total_od_flow\n",
      "travel_demand = ta_data.travel_demand\n",
      "od_pairs = ta_data.od_pairs\n",
      "\n",
      "toll_factor = ta_data.toll_factor\n",
      "distance_factor = ta_data.distance_factor\n",
      "\n",
      "best_objective = ta_data.best_objective"
     ],
     "language": "python",
     "metadata": {},
     "outputs": [
      {
       "metadata": {},
       "output_type": "pyout",
       "prompt_number": 11,
       "text": [
        "4.23133528710744e6"
       ]
      }
     ],
     "prompt_number": 11
    },
    {
     "cell_type": "code",
     "collapsed": false,
     "input": [
      "# dividing the travel_demand into two classes (car and truck)\n",
      "travel_demand_car = travel_demand * .8\n",
      "travel_demand_truck = travel_demand * .2\n",
      "\n",
      "assert(travel_demand_car + travel_demand_truck == travel_demand)"
     ],
     "language": "python",
     "metadata": {},
     "outputs": [],
     "prompt_number": 12
    },
    {
     "cell_type": "code",
     "collapsed": false,
     "input": [
      "# preparing a graph\n",
      "graph = create_graph(start_node, end_node)\n",
      "link_dic = sparse(start_node, end_node, 1:number_of_links)"
     ],
     "language": "python",
     "metadata": {},
     "outputs": [
      {
       "metadata": {},
       "output_type": "pyout",
       "prompt_number": 13,
       "text": [
        "24x24 sparse matrix with 76 Int64 entries:\n",
        "\t[2 ,  1]  =  3\n",
        "\t[3 ,  1]  =  5\n",
        "\t[1 ,  2]  =  1\n",
        "\t[6 ,  2]  =  14\n",
        "\t[1 ,  3]  =  2\n",
        "\t[4 ,  3]  =  8\n",
        "\t[12,  3]  =  35\n",
        "\t[3 ,  4]  =  6\n",
        "\t[5 ,  4]  =  11\n",
        "\t[11,  4]  =  31\n",
        "\t\u22ee\n",
        "\t[24, 21]  =  75\n",
        "\t[15, 22]  =  46\n",
        "\t[20, 22]  =  63\n",
        "\t[21, 22]  =  65\n",
        "\t[23, 22]  =  72\n",
        "\t[14, 23]  =  42\n",
        "\t[22, 23]  =  70\n",
        "\t[24, 23]  =  76\n",
        "\t[13, 24]  =  39\n",
        "\t[21, 24]  =  66\n",
        "\t[23, 24]  =  73"
       ]
      }
     ],
     "prompt_number": 13
    },
    {
     "cell_type": "code",
     "collapsed": false,
     "input": [
      "function BPR(x)\n",
      "    # travel_time = free_flow_time .* ( 1.0 + B .* (x./capacity).^power )\n",
      "    # generalized_cost = travel_time + toll_factor *toll + distance_factor * link_length\n",
      "    # return generalized_cost\n",
      "\n",
      "    bpr = similar(x)\n",
      "    for i=1:length(bpr)\n",
      "        bpr[i] = free_flow_time[i] * ( 1.0 + B[i] * (x[i]/capacity[i])^power[i] )\n",
      "        bpr[i] += toll_factor *toll[i] + distance_factor * link_length[i]\n",
      "    end\n",
      "    return bpr\n",
      "end"
     ],
     "language": "python",
     "metadata": {},
     "outputs": [
      {
       "metadata": {},
       "output_type": "pyout",
       "prompt_number": 14,
       "text": [
        "BPR (generic function with 1 method)"
       ]
      }
     ],
     "prompt_number": 14
    },
    {
     "cell_type": "code",
     "collapsed": false,
     "input": [
      "function all_or_nothing(travel_time)\n",
      "    state = []\n",
      "    path = []\n",
      "    x = zeros(size(start_node))\n",
      "\n",
      "    for r=1:size(travel_demand)[1]\n",
      "        # for each origin node r, find shortest paths to all destination nodes\n",
      "        state = dijkstra_shortest_paths(graph, travel_time, r)\n",
      "\n",
      "        for s=1:size(travel_demand)[2]\n",
      "            # for each destination node s, find the shortest-path vector\n",
      "            # load travel demand\n",
      "            x = x + travel_demand[r,s] * get_vector(state, r, s, link_dic)\n",
      "        end\n",
      "    end\n",
      "\n",
      "    return x\n",
      "end"
     ],
     "language": "python",
     "metadata": {},
     "outputs": [
      {
       "metadata": {},
       "output_type": "pyout",
       "prompt_number": 15,
       "text": [
        "all_or_nothing (generic function with 1 method)"
       ]
      }
     ],
     "prompt_number": 15
    },
    {
     "cell_type": "code",
     "collapsed": false,
     "input": [
      "function all_or_nothing_car(travel_time_car)\n",
      "    state = []\n",
      "    path = []\n",
      "    x = zeros(size(start_node))\n",
      "\n",
      "    for r=1:size(travel_demand_car)[1]\n",
      "        # for each origin node r, find shortest paths to all destination nodes\n",
      "        state = dijkstra_shortest_paths(graph, travel_time_car, r)\n",
      "\n",
      "        for s=1:size(travel_demand_car)[2]\n",
      "            # for each destination node s, find the shortest-path vector\n",
      "            # load travel demand\n",
      "            x = x + travel_demand_car[r,s] * get_vector(state, r, s, link_dic)\n",
      "        end\n",
      "    end\n",
      "\n",
      "    return x\n",
      "end"
     ],
     "language": "python",
     "metadata": {},
     "outputs": [
      {
       "metadata": {},
       "output_type": "pyout",
       "prompt_number": 16,
       "text": [
        "all_or_nothing_car (generic function with 1 method)"
       ]
      }
     ],
     "prompt_number": 16
    },
    {
     "cell_type": "code",
     "collapsed": false,
     "input": [
      "function all_or_nothing_truck(travel_time_truck)\n",
      "    state = []\n",
      "    path = []\n",
      "    x = zeros(size(start_node))\n",
      "\n",
      "    for r=1:size(travel_demand_truck)[1]\n",
      "        # for each origin node r, find shortest paths to all destination nodes\n",
      "        state = dijkstra_shortest_paths(graph, travel_time_truck, r)\n",
      "\n",
      "        for s=1:size(travel_demand_truck)[2]\n",
      "            # for each destination node s, find the shortest-path vector\n",
      "            # load travel demand\n",
      "            x = x + travel_demand_truck[r,s] * get_vector(state, r, s, link_dic)\n",
      "        end\n",
      "    end\n",
      "\n",
      "    return x\n",
      "end"
     ],
     "language": "python",
     "metadata": {},
     "outputs": [
      {
       "metadata": {},
       "output_type": "pyout",
       "prompt_number": 17,
       "text": [
        "all_or_nothing_truck (generic function with 1 method)"
       ]
      }
     ],
     "prompt_number": 17
    },
    {
     "cell_type": "code",
     "collapsed": false,
     "input": [
      "function objective(x)\n",
      "    # value = free_flow_time .* ( x + B.* ( x.^(power+1)) ./ (capacity.^power) ./ (power+1))\n",
      "    # return sum(value)\n",
      "\n",
      "    sum = 0\n",
      "    for i=1:length(x)\n",
      "        sum += free_flow_time[i] * ( x[i] + B[i] * ( x[i]^(power[i]+1)) / (capacity[i]^power[i]) / (power[i]+1))\n",
      "        sum += toll_factor * toll[i] + distance_factor * link_length[i]\n",
      "    end\n",
      "    return sum\n",
      "end"
     ],
     "language": "python",
     "metadata": {},
     "outputs": [
      {
       "metadata": {},
       "output_type": "pyout",
       "prompt_number": 18,
       "text": [
        "objective (generic function with 1 method)"
       ]
      }
     ],
     "prompt_number": 18
    },
    {
     "cell_type": "code",
     "collapsed": false,
     "input": [
      "# phi_car = 1.0\n",
      "phi_truck = 1.1\n",
      "\n",
      "# gama_car = 1.0\n",
      "gama_truck = 2.0"
     ],
     "language": "python",
     "metadata": {},
     "outputs": [
      {
       "metadata": {},
       "output_type": "pyout",
       "prompt_number": 19,
       "text": [
        "2.0"
       ]
      }
     ],
     "prompt_number": 19
    },
    {
     "cell_type": "code",
     "collapsed": false,
     "input": [
      "function objective_car(x_car, x_truck)\n",
      "    # value = free_flow_time .* ( x + B.* ( x.^(power+1)) ./ (capacity.^power) ./ (power+1))\n",
      "    # return sum(value)\n",
      "\n",
      "    sum = 0\n",
      "    for i=1:length(x_car)\n",
      "        sum +=  free_flow_time[i] * ( x_car[i] + B[i] * \\\n",
      "                        ( (x_car[i] + gama_truck * x_truck[i])^(power[i]+1) \\\n",
      "                        - (gama_truck * x_truck[i])^(power[i]+1) ) / \\\n",
      "                        (capacity[i]^power[i]) / (power[i]+1))\n",
      "        sum += toll_factor * toll[i] + distance_factor * link_length[i]\n",
      "    end\n",
      "    return sum\n",
      "end"
     ],
     "language": "python",
     "metadata": {},
     "outputs": [
      {
       "metadata": {},
       "output_type": "pyout",
       "prompt_number": 20,
       "text": [
        "objective_car (generic function with 1 method)"
       ]
      }
     ],
     "prompt_number": 20
    },
    {
     "cell_type": "code",
     "collapsed": false,
     "input": [
      "function objective_truck(x_car, x_truck)\n",
      "    # value = free_flow_time .* ( x + B.* ( x.^(power+1)) ./ (capacity.^power) ./ (power+1))\n",
      "    # return sum(value)\n",
      "\n",
      "    sum = 0\n",
      "    for i=1:length(x_truck)\n",
      "        sum += phi_truck * free_flow_time[i] * ( x_truck[i] + B[i] * \\\n",
      "                        ( (x_car[i] + gama_truck * x_truck[i])^(power[i]+1) \\\n",
      "                        - (x_car[i])^(power[i]+1) ) / (capacity[i]^power[i]) / (power[i]+1) / 2)\n",
      "        sum += toll_factor *toll[i] + distance_factor * link_length[i]\n",
      "    end\n",
      "    return sum\n",
      "end"
     ],
     "language": "python",
     "metadata": {},
     "outputs": [
      {
       "metadata": {},
       "output_type": "pyout",
       "prompt_number": 21,
       "text": [
        "objective_truck (generic function with 1 method)"
       ]
      }
     ],
     "prompt_number": 21
    },
    {
     "cell_type": "code",
     "collapsed": false,
     "input": [
      "function gradient_car(x_car, x_truck)\n",
      "    return BPR(x_car + gama_truck * x_truck)\n",
      "end"
     ],
     "language": "python",
     "metadata": {},
     "outputs": [
      {
       "metadata": {},
       "output_type": "pyout",
       "prompt_number": 32,
       "text": [
        "gradient_car (generic function with 1 method)"
       ]
      }
     ],
     "prompt_number": 32
    },
    {
     "cell_type": "code",
     "collapsed": false,
     "input": [
      "function gradient_truck(x_car, x_truck)\n",
      "    return phi_truck * BPR(x_car + gama_truck * x_truck)\n",
      "end"
     ],
     "language": "python",
     "metadata": {},
     "outputs": [
      {
       "metadata": {},
       "output_type": "pyout",
       "prompt_number": 33,
       "text": [
        "gradient_truck (generic function with 1 method)"
       ]
      }
     ],
     "prompt_number": 33
    },
    {
     "cell_type": "code",
     "collapsed": false,
     "input": [
      "# Finding a starting feasible solution\n",
      "travel_time = BPR(zeros(number_of_links));\n",
      "xl = all_or_nothing(travel_time);\n",
      "\n",
      "travel_time_car = BPR(zeros(number_of_links));\n",
      "travel_time_truck = phi_truck * BPR(zeros(number_of_links));\n",
      "\n",
      "xl_car = all_or_nothing_car(travel_time_car);\n",
      "xl_truck = all_or_nothing_truck(travel_time_truck);"
     ],
     "language": "python",
     "metadata": {},
     "outputs": [],
     "prompt_number": 28
    },
    {
     "cell_type": "code",
     "collapsed": false,
     "input": [
      "max_iter_no = 20000\n",
      "l = 1\n",
      "#average_excess_cost = 1\n",
      "#tol = 1e-6\n",
      "\n",
      "while l < max_iter_no\n",
      "    l += 1\n",
      "    \n",
      "    ## Finding yl\n",
      "    #travel_time = BPR(xl)\n",
      "    #yl = all_or_nothing(travel_time)\n",
      "    #xl = xl + (yl - xl)/l\n",
      "    \n",
      "    # Finding yl_car\n",
      "    travel_time_car = BPR(xl_car + gama_truck * xl_truck)\n",
      "    yl_car = all_or_nothing_car(travel_time_car)\n",
      "    xl_car = xl_car + (yl_car - xl_car)/l\n",
      "    \n",
      "    # Finding yl_truck\n",
      "    travel_time_truck = phi_truck * BPR(xl_car + gama_truck * xl_truck)\n",
      "    yl_truck = all_or_nothing_truck(travel_time_truck)\n",
      "    xl_truck = xl_truck + (yl_truck - xl_truck)/l\n",
      "    \n",
      "    \n",
      "    ## Average Excess Cost\n",
      "    #average_excess_cost = ( dot(xl, travel_time) - dot(yl, travel_time) ) / dot(xl, travel_time)\n",
      "    \n",
      "    #if average_excess_cost < tol\n",
      "    #    break\n",
      "    #end\n",
      "end"
     ],
     "language": "python",
     "metadata": {},
     "outputs": [],
     "prompt_number": 29
    },
    {
     "cell_type": "code",
     "collapsed": false,
     "input": [
      "xl_car"
     ],
     "language": "python",
     "metadata": {},
     "outputs": [
      {
       "metadata": {},
       "output_type": "pyout",
       "prompt_number": 34,
       "text": [
        "76-element Array{Float64,1}:\n",
        "  4936.62\n",
        "  7856.03\n",
        "  4975.96\n",
        "  4776.34\n",
        "  7816.69\n",
        " 12642.7 \n",
        "  9446.11\n",
        " 12630.2 \n",
        " 15152.5 \n",
        "  3993.32\n",
        " 15215.1 \n",
        "  5960.48\n",
        " 12952.1 \n",
        "     \u22ee   \n",
        "  6779.44\n",
        "  8316.24\n",
        " 13797.4 \n",
        "  5601.13\n",
        "  6769.65\n",
        "  7450.65\n",
        "  6081.72\n",
        "  7407.89\n",
        "  5762.25\n",
        "  8398.39\n",
        "  8278.6 \n",
        "  5718.4 "
       ]
      }
     ],
     "prompt_number": 34
    },
    {
     "cell_type": "code",
     "collapsed": false,
     "input": [
      "xl_truck"
     ],
     "language": "python",
     "metadata": {},
     "outputs": [
      {
       "metadata": {},
       "output_type": "pyout",
       "prompt_number": 35,
       "text": [
        "76-element Array{Float64,1}:\n",
        " 1175.68\n",
        " 1892.07\n",
        " 1172.06\n",
        " 1135.62\n",
        " 1895.69\n",
        " 3585.8 \n",
        " 2705.32\n",
        " 3573.11\n",
        " 3935.46\n",
        " 1294.49\n",
        " 3943.2 \n",
        " 1452.09\n",
        " 3423.37\n",
        "    \u22ee   \n",
        " 1448.96\n",
        " 1831.02\n",
        " 3315.22\n",
        " 1399.83\n",
        " 1449.36\n",
        " 1916.54\n",
        " 1698.18\n",
        " 1915.53\n",
        " 1709.7 \n",
        " 2120.71\n",
        " 1817.87\n",
        " 1700.6 "
       ]
      }
     ],
     "prompt_number": 35
    },
    {
     "cell_type": "code",
     "collapsed": false,
     "input": [],
     "language": "python",
     "metadata": {},
     "outputs": []
    }
   ],
   "metadata": {}
  }
 ]
}