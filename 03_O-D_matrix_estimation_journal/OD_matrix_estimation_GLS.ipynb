{
 "cells": [
  {
   "cell_type": "code",
   "execution_count": 1,
   "metadata": {
    "collapsed": false
   },
   "outputs": [
    {
     "name": "stdout",
     "output_type": "stream",
     "text": [
      "No dicts found; please check load_dicts...\n"
     ]
    }
   ],
   "source": [
    "from util import *\n",
    "from util_data_storage_and_load import *\n",
    "import numpy as np\n",
    "from numpy.linalg import inv\n",
    "from scipy.sparse import csr_matrix, csc_matrix\n",
    "import json"
   ]
  },
  {
   "cell_type": "code",
   "execution_count": 2,
   "metadata": {
    "collapsed": true
   },
   "outputs": [],
   "source": [
    "with open('../temp_files/new_route_dict_journal.json', 'r') as json_file:\n",
    "    new_route_dict = json.load(json_file)\n",
    "    \n",
    "number_of_routes = len(new_route_dict)"
   ]
  },
  {
   "cell_type": "code",
   "execution_count": 3,
   "metadata": {
    "collapsed": true
   },
   "outputs": [],
   "source": [
    "# implement GLS method to estimate OD demand matrix\n",
    "def GLS(x, A, L):\n",
    "    \"\"\"\n",
    "    x: sample matrix, each column is a link flow vector sample; number_of_links * K\n",
    "    A: path-link incidence matrix\n",
    "    P: logit route choice probability matrix\n",
    "    L: dimension of xi\n",
    "    ----------------\n",
    "    return: xi\n",
    "    ----------------\n",
    "    \"\"\"\n",
    "    K = np.size(x, 1)\n",
    "    S = samp_cov(x)\n",
    "\n",
    "    #print(\"rank of S is: \\n\")\n",
    "    #print(matrix_rank(S))\n",
    "    #print(\"sizes of S are: \\n\")\n",
    "    #print(np.size(S, 0))\n",
    "    #print(np.size(S, 1))\n",
    "\n",
    "    inv_S = inv(S).real\n",
    "\n",
    "    A_t = A.transpose()\n",
    "\n",
    "    Q_ = A_t * inv_S * A\n",
    "    Q_ = Q_.real\n",
    "    Q = adj_PSD(Q_)  # Ensure Q to be PSD\n",
    "#     Q = Q_\n",
    "\n",
    "    #print(\"rank of Q is: \\n\")\n",
    "    #print(matrix_rank(Q))\n",
    "    #print(\"sizes of Q are: \\n\")\n",
    "    #print(np.size(Q, 0))\n",
    "    #print(np.size(Q, 1))\n",
    "\n",
    "    b = sum([A_t * inv_S * x[:, k] for k in range(K)])\n",
    "    # print(b[0])\n",
    "    # assert(1==2)\n",
    "\n",
    "    model = Model(\"OD_matrix_estimation\")\n",
    "\n",
    "    xi = []\n",
    "    for l in range(L):\n",
    "        xi.append(model.addVar(name='xi_' + str(l)))\n",
    "\n",
    "    model.update() \n",
    "\n",
    "    # Set objective: (K/2) xi' * Q * xi - b' * xi\n",
    "    obj = 0\n",
    "    for i in range(L):\n",
    "        for j in range(L):\n",
    "            obj += (1.0 / 2) * K * xi[i] * Q[i, j] * xi[j]\n",
    "    for l in range(L):\n",
    "        obj += - b[l] * xi[l]\n",
    "    model.setObjective(obj)\n",
    "\n",
    "    # Add constraint: xi >= 0\n",
    "    for l in range(L):\n",
    "        model.addConstr(xi[l] >= 0)\n",
    "        #model.addConstr(xi[l] <= 5000)\n",
    "    #fictitious_OD_list = zload('../temp_files/fictitious_OD_list')\n",
    "    #for l in fictitious_OD_list:\n",
    "        #model.addConstr(xi[l] == 0)\n",
    "    model.update() \n",
    "\n",
    "    #model.setParam('OutputFlag', False)\n",
    "    model.optimize()\n",
    "\n",
    "    xi_list = []\n",
    "    for v in model.getVars():\n",
    "        # print('%s %g' % (v.varName, v.x))\n",
    "        xi_list.append(v.x)\n",
    "    # print('Obj: %g' % obj.getValue())\n",
    "    return xi_list"
   ]
  },
  {
   "cell_type": "code",
   "execution_count": 4,
   "metadata": {
    "collapsed": false
   },
   "outputs": [
    {
     "name": "stderr",
     "output_type": "stream",
     "text": [
      "/home/jzh/ipykernel/ipykernel/__main__.py:52: ComplexWarning: Casting complex values to real discards the imaginary part\n"
     ]
    },
    {
     "name": "stdout",
     "output_type": "stream",
     "text": [
      "Optimize a model with 270 rows, 270 columns and 270 nonzeros\n",
      "Model has 36585 quadratic objective terms\n",
      "Coefficient statistics:\n",
      "  Matrix range    [1e+00, 1e+00]\n",
      "  Objective range [2e-39, 8e+02]\n",
      "  Bounds range    [0e+00, 0e+00]\n",
      "  RHS range       [0e+00, 0e+00]\n",
      "Presolve removed 270 rows and 0 columns\n",
      "Presolve time: 0.01s\n",
      "Presolved: 0 rows, 270 columns, 0 nonzeros\n",
      "Presolved model has 36585 quadratic objective terms\n",
      "Ordering time: 0.00s\n",
      "\n",
      "Barrier statistics:\n",
      " Free vars  : 243\n",
      " AA' NZ     : 2.809e+04\n",
      " Factor NZ  : 2.844e+04 (roughly 1 MByte of memory)\n",
      " Factor Ops : 4.478e+06 (less than 1 second per iteration)\n",
      " Threads    : 12\n",
      "\n",
      "                  Objective                Residual\n",
      "Iter       Primal          Dual         Primal    Dual     Compl     Time\n",
      "   0  -2.23997481e+07 -6.71931880e+05  2.41e+04 2.04e+02  1.00e+06     0s\n",
      "   1   4.63966328e+06 -9.36834688e+06  2.56e+03 1.05e+02  1.62e+05     0s\n",
      "   2   1.77369345e+06 -3.39177391e+06  5.43e+01 4.60e-01  2.08e+04     0s\n",
      "   3   5.91652519e+04 -1.10989412e+06  4.93e+00 4.18e-02  4.47e+03     0s\n",
      "   4  -3.07418330e+05 -5.26041940e+05  3.12e-01 2.64e-03  8.21e+02     0s\n",
      "   5  -3.66664007e+05 -4.18346295e+05  3.18e-02 2.69e-04  1.94e+02     0s\n",
      "   6  -3.81367973e+05 -3.94011987e+05  3.64e-03 3.08e-05  4.75e+01     0s\n",
      "   7  -3.86470824e+05 -3.89245241e+05  1.85e-04 1.57e-06  1.04e+01     0s\n",
      "   8  -3.87924001e+05 -3.88350481e+05  3.22e-06 2.73e-08  1.58e+00     0s\n",
      "   9  -3.88126969e+05 -3.88195063e+05  3.42e-07 2.89e-09  2.52e-01     0s\n",
      "  10  -3.88155248e+05 -3.88183462e+05  1.66e-11 1.48e-11  1.04e-01     0s\n",
      "  11  -3.88170326e+05 -3.88171786e+05  1.71e-11 1.94e-11  5.41e-03     0s\n",
      "  12  -3.88171015e+05 -3.88171180e+05  1.17e-10 8.81e-12  6.11e-04     0s\n",
      "  13  -3.88171088e+05 -3.88171111e+05  7.47e-10 1.81e-12  8.69e-05     0s\n",
      "  14  -3.88171098e+05 -3.88171101e+05  1.69e-11 7.11e-13  1.23e-05     0s\n",
      "  15  -3.88171099e+05 -3.88171100e+05  1.98e-11 5.05e-13  1.75e-06     0s\n",
      "  16  -3.88171099e+05 -3.88171099e+05  1.08e-11 5.68e-13  2.46e-07     0s\n",
      "  17  -3.88171099e+05 -3.88171099e+05  6.62e-12 3.93e-13  3.46e-08     0s\n",
      "  18  -3.88171099e+05 -3.88171099e+05  3.24e-12 2.27e-13  7.62e-09     0s\n",
      "\n",
      "Barrier solved model in 18 iterations and 0.13 seconds\n",
      "Optimal objective -3.88171099e+05\n",
      "\n"
     ]
    },
    {
     "name": "stderr",
     "output_type": "stream",
     "text": [
      "/home/jzh/ipykernel/ipykernel/__main__.py:55: ComplexWarning: Casting complex values to real discards the imaginary part\n"
     ]
    }
   ],
   "source": [
    "# load link_route incidence matrix\n",
    "A = zload('../temp_files/link_route_incidence_matrix_journal.pkz')\n",
    "\n",
    "# load link counts data\n",
    "with open('../temp_files/link_day_minute_Apr_dict_journal_JSON.json', 'r') as json_file:\n",
    "    link_day_minute_Apr_dict_JSON = json.load(json_file)\n",
    "\n",
    "# week_day_Apr_list = [2, 3, 4, 5, 6, 9, 10, 11, 12, 13, 16, 17, 18, 19, 20, 23, 24, 25, 26, 27, 30]\n",
    "week_day_Apr_list = [9, 10, 11, 12, 13]\n",
    "\n",
    "feasible_link_dict = zload('../temp_files/feasible_link_dict_journal.pkz')\n",
    "\n",
    "link_day_minute_Apr_list = []\n",
    "for link_idx in [feasible_link_dict[idx] for idx in range(len(feasible_link_dict))]:\n",
    "    for day in week_day_Apr_list: \n",
    "        for minute_idx in range(120):\n",
    "            key = 'link_' + str(link_idx) + '_' + str(day)\n",
    "            link_day_minute_Apr_list.append(link_day_minute_Apr_dict_JSON[key] ['PM_flow_minute'][minute_idx])\n",
    "\n",
    "x = np.matrix(link_day_minute_Apr_list)\n",
    "# x = np.matrix.reshape(x, len(feasible_link_dict), 2520)\n",
    "x = np.matrix.reshape(x, len(feasible_link_dict), 600)\n",
    "\n",
    "# print(np.size(x,0), np.size(x,1))\n",
    "\n",
    "x = np.nan_to_num(x)\n",
    "# print(np.size(x,0), np.size(x,1))\n",
    "\n",
    "# y = np.array(np.transpose(x))\n",
    "# y = y[np.all(y != 0, axis=1)]\n",
    "# x = np.transpose(y)\n",
    "# x = np.matrix(x)\n",
    "\n",
    "# print(np.size(x,0), np.size(x,1))\n",
    "# print(x[:,:2])\n",
    "# print(np.size(A,0), np.size(A,1))\n",
    "\n",
    "xi_list = GLS(x, A, number_of_routes)"
   ]
  }
 ],
 "metadata": {
  "anaconda-cloud": {},
  "kernelspec": {
   "display_name": "Python 2",
   "language": "python",
   "name": "python2"
  },
  "language_info": {
   "codemirror_mode": {
    "name": "ipython",
    "version": 2
   },
   "file_extension": ".py",
   "mimetype": "text/x-python",
   "name": "python",
   "nbconvert_exporter": "python",
   "pygments_lexer": "ipython2",
   "version": "2.7.12"
  }
 },
 "nbformat": 4,
 "nbformat_minor": 0
}
