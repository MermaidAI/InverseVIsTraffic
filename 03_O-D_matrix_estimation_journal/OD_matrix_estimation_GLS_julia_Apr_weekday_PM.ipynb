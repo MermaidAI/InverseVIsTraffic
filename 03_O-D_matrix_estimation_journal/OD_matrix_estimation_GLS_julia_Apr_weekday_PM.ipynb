{
 "cells": [
  {
   "cell_type": "code",
   "execution_count": 1,
   "metadata": {
    "collapsed": false
   },
   "outputs": [
    {
     "name": "stdout",
     "output_type": "stream",
     "text": [
      "No dicts found; please check load_dicts...\n",
      "Optimize a model with 894 rows, 894 columns and 894 nonzeros\n",
      "Model has 400065 quadratic objective terms\n",
      "Coefficient statistics:\n",
      "  Matrix range    [1e+00, 1e+00]\n",
      "  Objective range [3e+01, 4e+07]\n",
      "  Bounds range    [0e+00, 0e+00]\n",
      "  RHS range       [0e+00, 0e+00]\n",
      "Presolve removed 894 rows and 0 columns\n",
      "Presolve time: 0.02s\n",
      "Presolved: 0 rows, 894 columns, 0 nonzeros\n",
      "Presolved model has 400065 quadratic objective terms\n",
      "Ordering time: 0.00s\n",
      "\n",
      "Barrier statistics:\n",
      " Free vars  : 764\n",
      " AA' NZ     : 2.915e+05\n",
      " Factor NZ  : 2.922e+05 (roughly 3 MBytes of memory)\n",
      " Factor Ops : 1.489e+08 (less than 1 second per iteration)\n",
      " Threads    : 4\n",
      "\n",
      "                  Objective                Residual\n",
      "Iter       Primal          Dual         Primal    Dual     Compl     Time\n",
      "   0  -5.19455382e+10 -2.13211538e+05  5.92e+04 1.00e+04  2.16e+06     0s\n",
      "   1  -3.27086927e+09 -6.09775799e+07  3.84e+03 6.49e+02  3.39e+05     0s\n",
      "   2  -4.91480804e+07 -2.78905882e+07  6.68e+01 1.13e+01  4.42e+04     0s\n",
      "   3  -1.37119540e+07 -1.71709105e+07  5.87e+00 9.94e-01  9.97e+03     0s\n",
      "   4  -1.34088711e+07 -1.47805359e+07  6.59e-01 1.12e-01  2.25e+03     0s\n",
      "   5  -1.38278030e+07 -1.44778866e+07  2.60e-01 4.40e-02  1.02e+03     0s\n",
      "   6  -1.40960752e+07 -1.43087886e+07  2.71e-02 4.58e-03  2.81e+02     0s\n",
      "   7  -1.42170519e+07 -1.42791963e+07  2.75e-04 4.65e-05  7.04e+01     0s\n",
      "   8  -1.42626835e+07 -1.42695099e+07  8.00e-07 5.22e-08  7.65e+00     0s\n",
      "   9  -1.42675548e+07 -1.42679193e+07  6.05e-08 4.47e-08  4.09e-01     0s\n",
      "  10  -1.42669985e+07 -1.42677791e+07  2.53e-05 4.47e-08  8.10e-02     1s\n",
      "  11  -1.42664996e+07 -1.42677626e+07  2.19e-05 5.22e-08  3.36e-02     1s\n",
      "  12  -1.42677490e+07 -1.42677560e+07  5.84e-05 3.73e-08  6.98e-03     1s\n",
      "  13  -1.42740484e+07 -1.42677564e+07  6.19e-04 5.96e-08  1.18e-03     1s\n",
      "  14  -1.44132345e+07 -1.42677842e+07  5.64e-03 7.45e-08  9.86e-04     1s\n",
      "  15  -1.44200914e+07 -1.42677862e+07  5.39e-03 5.96e-08  7.61e-04     1s\n",
      "  16  -1.43614273e+07 -1.42677755e+07  4.41e-03 5.96e-08  4.96e-04     1s\n",
      "  17  -1.42743031e+07 -1.42677801e+07  8.80e-03 5.22e-08  2.39e-03     1s\n",
      "  18  -1.42593843e+07 -1.42678097e+07  8.22e-03 4.47e-08  2.19e-03     1s\n",
      "  19  -1.42209203e+07 -1.42678049e+07  8.50e-03 5.96e-08  2.10e-03     1s\n",
      "  20  -1.38394068e+07 -1.42680488e+07  3.47e-02 5.22e-08  1.02e-03     1s\n",
      "  21  -1.42397935e+07 -1.42680062e+07  2.93e-02 2.98e-08  7.13e-04     1s\n",
      "  22  -1.47914046e+07 -1.42681694e+07  3.00e-02 7.45e-08  1.39e-04     1s\n",
      "  23  -1.47960254e+07 -1.42681550e+07  2.97e-02 5.22e-08  1.58e-04     1s\n",
      "  24  -1.51513050e+07 -1.42682282e+07  3.47e-02 5.29e-08  1.01e-03     1s\n",
      "  25  -1.47803564e+07 -1.42681679e+07  2.68e-02 3.73e-08  8.29e-04     1s\n",
      "  26  -1.48649215e+07 -1.42681440e+07  2.62e-02 2.98e-08  1.87e-03     1s\n",
      "  27  -1.45249409e+07 -1.42681417e+07  3.76e-02 2.98e-08  1.70e-03     1s\n",
      "  28  -1.27573557e+07 -1.42683926e+07  6.62e-02 4.47e-08  8.79e-03     1s\n",
      "  29  -1.37220332e+07 -1.42682954e+07  1.26e-01 2.98e-08  7.18e-03     1s\n",
      "  30  -1.39202711e+07 -1.42680570e+07  1.06e-01 7.16e-08  5.57e-03     1s\n",
      "  31  -1.42291431e+07 -1.42678675e+07  5.67e-02 4.47e-08  3.54e-03     1s\n",
      "  32  -1.50606688e+07 -1.42708050e+07  8.92e-02 2.98e-08  5.57e-03     1s\n",
      "  33  -1.55822439e+07 -1.42704685e+07  1.06e-01 3.73e-08  3.59e-03     1s\n",
      "  34  -1.55867480e+07 -1.42705786e+07  1.03e-01 4.47e-08  3.64e-03     1s\n",
      "  35  -1.68357794e+07 -1.42740486e+07  5.76e-02 5.22e-08  4.31e-02     1s\n",
      "  36  -1.63017979e+07 -1.42729980e+07  7.92e-02 3.73e-08  5.67e-02     1s\n",
      "  37  -1.55444522e+07 -1.42726414e+07  5.43e-02 2.24e-08  3.79e-02     1s\n",
      "  38  -1.44574731e+07 -1.42832633e+07  8.36e-02 3.73e-08  1.35e-02     1s\n",
      "  39  -1.43524587e+07 -1.42765105e+07  5.82e-02 6.71e-08  1.84e-02     1s\n",
      "  40  -1.47075407e+07 -1.42825592e+07  9.52e-02 5.13e-08  1.77e-02     1s\n",
      "  41  -1.48677449e+07 -1.42806419e+07  8.42e-02 2.98e-08  3.35e-02     2s\n",
      "  42  -1.43939246e+07 -1.42983292e+07  6.88e-02 5.22e-08  6.37e-02     2s\n",
      "  43  -1.47466373e+07 -1.43018731e+07  5.75e-02 4.47e-08  6.96e-02     2s\n",
      "  44  -1.47537059e+07 -1.43010823e+07  5.64e-02 4.47e-08  6.94e-02     2s\n",
      "  45  -1.41825891e+07 -1.43025557e+07  5.51e-02 4.47e-08  2.67e-01     2s\n",
      "  46  -1.44505528e+07 -1.43001364e+07  5.35e-02 4.47e-08  2.92e-01     2s\n",
      "  47  -1.43901550e+07 -1.42984987e+07  5.13e-02 8.94e-08  2.87e-01     2s\n",
      "  48  -1.44530227e+07 -1.43035831e+07  5.62e-02 6.71e-08  2.87e-01     2s\n",
      "  49  -1.47694771e+07 -1.42832343e+07  4.62e-02 3.73e-08  9.67e-02     2s\n",
      "  50  -1.39140303e+07 -1.42704038e+07  1.86e-02 6.71e-08  6.15e-02     2s\n",
      "  51  -1.43505884e+07 -1.42692098e+07  2.68e-03 5.22e-08  1.96e-02     2s\n",
      "  52  -1.39111740e+07 -1.42687360e+07  7.58e-03 6.71e-08  3.81e-03     2s\n",
      "  53  -1.27786750e+07 -1.42748182e+07  3.39e-02 3.73e-08  3.67e-03     2s\n",
      "  54  -1.34347545e+07 -1.42741571e+07  4.69e-02 2.98e-08  3.46e-02     2s\n",
      "  55  -1.22111361e+07 -1.42811326e+07  4.54e-02 4.47e-08  6.02e-02     2s\n",
      "  56  -1.43869188e+07 -1.42782322e+07  5.05e-02 4.47e-08  1.48e-01     2s\n",
      "  57  -1.43295906e+07 -1.42763186e+07  4.19e-02 2.98e-08  1.42e-01     2s\n",
      "  58  -1.35564285e+07 -1.42746002e+07  3.27e-02 2.24e-08  1.51e-01     2s\n",
      "  59  -1.37519073e+07 -1.42754115e+07  4.93e-02 2.24e-08  1.65e-01     2s\n",
      "\n",
      "Barrier performed 59 iterations in 2.08 seconds\n",
      "Sub-optimal termination - objective -1.42675548e+07\n",
      "\n"
     ]
    }
   ],
   "source": [
    "using PyCall\n",
    "unshift!(PyVector(pyimport(\"sys\")[\"path\"]), \"\");\n",
    "@pyimport GLS_Apr_weekday_PM"
   ]
  },
  {
   "cell_type": "code",
   "execution_count": 2,
   "metadata": {
    "collapsed": false
   },
   "outputs": [],
   "source": [
    "# x = GLS_Apr_weekday_PM.x; # sample matrix, each column is a link flow vector sample; number_of_links * K\n",
    "# S = GLS_Apr_weekday_PM.S; # sample covariance matrix\n",
    "# A = GLS_Apr_weekday_PM.A; # link_route incidence matrix\n",
    "P = GLS_Apr_weekday_PM.P; # route_choice_probability_matrix\n",
    "# Q = GLS_Apr_weekday_PM.Q; \n",
    "L = GLS_Apr_weekday_PM.L; # dimension of xi\n",
    "number_of_routes = GLS_Apr_weekday_PM.number_of_routes;\n",
    "number_of_links = GLS_Apr_weekday_PM.number_of_links;"
   ]
  },
  {
   "cell_type": "code",
   "execution_count": 3,
   "metadata": {
    "collapsed": false
   },
   "outputs": [],
   "source": [
    "# A = sparse(A);\n",
    "P = sparse(P);\n",
    "# Q = sparse(Q);"
   ]
  },
  {
   "cell_type": "code",
   "execution_count": 4,
   "metadata": {
    "collapsed": false
   },
   "outputs": [],
   "source": [
    "# K = size(x, 2)\n",
    "\n",
    "# inv_S = inv(S)\n",
    "\n",
    "# A_t = transpose(A)\n",
    "\n",
    "# b = sum([A_t * inv_S * x[:, k] for k = 1:K])"
   ]
  },
  {
   "cell_type": "code",
   "execution_count": 5,
   "metadata": {
    "collapsed": true
   },
   "outputs": [],
   "source": [
    "using JuMP"
   ]
  },
  {
   "cell_type": "markdown",
   "metadata": {},
   "source": [
    "### implement GLS method to estimate OD demand matrix"
   ]
  },
  {
   "cell_type": "code",
   "execution_count": 6,
   "metadata": {
    "collapsed": false
   },
   "outputs": [],
   "source": [
    "# model = Model(solver=IpoptSolver())\n",
    "\n",
    "# @variable(model, xi[1:L] >= 0)\n",
    "\n",
    "# # Set objective: (K/2) xi' * Q * xi - b' * xi\n",
    "# obj = 0\n",
    "# for i = 1:L\n",
    "#     for j = 1:L\n",
    "#         obj += (1.0 / 2) * K * xi[i] * Q[i, j] * xi[j]\n",
    "#     end\n",
    "# end\n",
    "# for l = 1:L\n",
    "#     obj += - b[l] * xi[l]\n",
    "# end\n",
    "\n",
    "# @NLobjective(model, Min, obj) \n",
    "\n",
    "# solve(model)"
   ]
  },
  {
   "cell_type": "code",
   "execution_count": 7,
   "metadata": {
    "collapsed": false
   },
   "outputs": [
    {
     "data": {
      "text/plain": [
       "894-element Array{Any,1}:\n",
       "   0.0106748  \n",
       "   0.00181372 \n",
       "   0.00538471 \n",
       "  15.5571     \n",
       "   0.0026123  \n",
       "   0.0274217  \n",
       "   0.00258339 \n",
       "   0.00202091 \n",
       "   0.000828581\n",
       " 487.139      \n",
       " 287.629      \n",
       "   0.00235297 \n",
       "   0.00190731 \n",
       "   ⋮          \n",
       "   8.03428e-6 \n",
       "   8.8706e-6  \n",
       "   8.57096e-6 \n",
       "   8.85979e-6 \n",
       "   2.31588e-5 \n",
       "   1.58445e-5 \n",
       "   1.15725e-5 \n",
       "   6.88696e-7 \n",
       "   1.14576e-5 \n",
       "   3.52878e-5 \n",
       "   7.88324e-7 \n",
       "   5.7259e-7  "
      ]
     },
     "execution_count": 7,
     "metadata": {},
     "output_type": "execute_result"
    }
   ],
   "source": [
    "# xi_list = getvalue(xi)\n",
    "\n",
    "xi_list = GLS_Apr_weekday_PM.xi_list"
   ]
  },
  {
   "cell_type": "code",
   "execution_count": null,
   "metadata": {
    "collapsed": false
   },
   "outputs": [],
   "source": [
    "mGLSJulia = Model()\n",
    "\n",
    "@variable(mGLSJulia, lam[1:size(P,1)] >= 0)\n",
    "\n",
    "@variable(mGLSJulia, p[1:size(P,1), 1:size(P,2)] >= 0)\n",
    "\n",
    "for i = 1:size(P,1)\n",
    "    for j = 1:size(P,2)\n",
    "        if P[i,j] == 0\n",
    "            @constraint(mGLSJulia, p[i,j] == 0)\n",
    "        end\n",
    "    end\n",
    "end\n",
    "            \n",
    "for i = 1:size(P,1)\n",
    "    @NLconstraint(mGLSJulia, sum{p[i,j], j = 1:size(P,2)} == 1)\n",
    "end\n",
    "\n",
    "for l = 1:L\n",
    "    @NLconstraint(mGLSJulia, sum{p[i,l] * lam[i], i = 1:size(P,1)} == xi_list[l])\n",
    "end\n",
    "    \n",
    "@NLobjective(mGLSJulia, Min, sum{p[1,j], j = 1:size(P,2)})  # play no actual role, but could not use zero objective\n",
    "\n",
    "solve(mGLSJulia)"
   ]
  },
  {
   "cell_type": "code",
   "execution_count": null,
   "metadata": {
    "collapsed": false
   },
   "outputs": [],
   "source": [
    "getvalue(lam)"
   ]
  },
  {
   "cell_type": "code",
   "execution_count": null,
   "metadata": {
    "collapsed": false
   },
   "outputs": [],
   "source": [
    "getobjectivevalue(mGLSJulia)"
   ]
  }
 ],
 "metadata": {
  "anaconda-cloud": {},
  "kernelspec": {
   "display_name": "Julia 0.5.0",
   "language": "julia",
   "name": "julia-0.5"
  },
  "language_info": {
   "file_extension": ".jl",
   "mimetype": "application/julia",
   "name": "julia",
   "version": "0.5.0"
  }
 },
 "nbformat": 4,
 "nbformat_minor": 0
}
