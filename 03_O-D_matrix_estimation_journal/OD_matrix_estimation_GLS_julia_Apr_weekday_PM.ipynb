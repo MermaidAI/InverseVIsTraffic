{
 "cells": [
  {
   "cell_type": "code",
   "execution_count": 1,
   "metadata": {
    "collapsed": false
   },
   "outputs": [
    {
     "name": "stdout",
     "output_type": "stream",
     "text": [
      "No dicts found; please check load_dicts...\n",
      "Optimize a model with 8432 rows, 8432 columns and 8432 nonzeros\n",
      "Model has 35553528 quadratic objective terms\n",
      "Coefficient statistics:\n",
      "  Matrix range    [1e+00, 1e+00]\n",
      "  Objective range [2e+00, 2e+07]\n",
      "  Bounds range    [0e+00, 0e+00]\n",
      "  RHS range       [0e+00, 0e+00]\n",
      "Presolve removed 8432 rows and 0 columns (presolve time = 9s) ...\n",
      "Presolve removed 8432 rows and 0 columns\n",
      "Presolve time: 8.91s\n",
      "Presolved: 0 rows, 8432 columns, 0 nonzeros\n",
      "Presolved model has 35553528 quadratic objective terms\n",
      "Ordering time: 0.20s\n",
      "\n",
      "Barrier statistics:\n",
      " Free vars  : 5661\n",
      " AA' NZ     : 1.602e+07\n",
      " Factor NZ  : 1.603e+07 (roughly 140 MBytes of memory)\n",
      " Factor Ops : 6.049e+10 (roughly 6 seconds per iteration)\n",
      " Threads    : 12\n",
      "\n",
      "                  Objective                Residual\n",
      "Iter       Primal          Dual         Primal    Dual     Compl     Time\n",
      "   0  -1.43919149e+11 -2.22738455e+05  5.71e+05 5.07e+03  9.94e+05    44s\n",
      "   1  -1.10454253e+10 -1.29162791e+08  4.44e+04 3.94e+02  1.41e+05    59s\n",
      "   2  -4.03684768e+08 -7.02179093e+07  1.85e+03 1.64e+01  2.00e+04    75s\n",
      "   3  -1.97385470e+07 -2.79155327e+07  1.31e+02 1.16e+00  5.14e+03    89s\n",
      "   4  -4.86700219e+06 -1.39918622e+07  1.17e+01 1.04e-01  1.47e+03   104s\n",
      "   5  -6.63561761e+06 -1.02346917e+07  1.32e+00 1.17e-02  4.83e+02   118s\n",
      "   6  -8.02408632e+06 -9.13788610e+06  1.13e-01 1.01e-03  1.40e+02   133s\n",
      "   7  -8.54658398e+06 -8.92222947e+06  8.53e-03 7.58e-05  4.62e+01   149s\n",
      "   8  -8.74840565e+06 -8.88169821e+06  4.16e-05 2.61e-08  1.58e+01   164s\n",
      "   9  -8.82808142e+06 -8.86250729e+06  2.01e-06 3.17e-08  4.08e+00   180s\n",
      "  10  -8.85243258e+06 -8.85720574e+06  6.79e-08 3.35e-08  5.66e-01   195s\n",
      "  11  -8.86005799e+06 -8.85606523e+06  2.04e-03 4.47e-08  6.07e-02   212s\n",
      "  12  -8.90570665e+06 -8.85619948e+06  1.43e-02 2.61e-08  4.52e-02   227s\n",
      "  13  -8.70323607e+06 -8.87243387e+06  5.62e-02 2.24e-08  5.13e-02   244s\n",
      "  14  -8.65214619e+06 -8.89651726e+06  1.01e-01 2.24e-08  2.34e-01   263s\n",
      "  15  -8.64143844e+06 -8.89835275e+06  1.07e-01 2.24e-08  2.62e-01   279s\n",
      "  16  -8.62073571e+06 -8.92246204e+06  1.22e-01 3.35e-08  3.89e-01   294s\n",
      "  17  -8.62433694e+06 -8.92296821e+06  1.21e-01 2.05e-08  3.87e-01   309s\n",
      "  18  -8.63266560e+06 -8.92211888e+06  1.19e-01 2.05e-08  3.87e-01   324s\n",
      "  19  -8.58923975e+06 -8.92262199e+06  1.23e-01 1.86e-08  4.49e-01   339s\n",
      "  20  -8.41439547e+06 -8.95766478e+06  1.50e-01 2.24e-08  4.78e-01   355s\n",
      "  21  -8.39946306e+06 -8.95241965e+06  1.43e-01 1.49e-08  4.71e-01   369s\n",
      "  22  -8.23405721e+06 -8.94848261e+06  1.79e-01 1.68e-08  4.65e-01   384s\n",
      "  23  -8.15727594e+06 -8.94312673e+06  1.84e-01 2.05e-08  5.75e-01   397s\n",
      "  24  -8.15397324e+06 -8.94301531e+06  1.84e-01 1.21e-08  5.75e-01   412s\n",
      "  25  -8.13825536e+06 -8.94232016e+06  1.84e-01 3.17e-08  5.73e-01   425s\n",
      "  26  -8.09976945e+06 -8.94252864e+06  1.80e-01 1.86e-08  5.67e-01   440s\n",
      "  27  -8.10978894e+06 -8.94819376e+06  1.85e-01 2.42e-08  5.56e-01   455s\n",
      "  28  -8.15998014e+06 -8.94377452e+06  1.81e-01 1.68e-08  6.22e-01   469s\n",
      "  29  -8.22299827e+06 -8.93770021e+06  1.68e-01 2.24e-08  5.96e-01   484s\n",
      "  30  -8.49278225e+06 -8.92758743e+06  1.75e-01 1.68e-08  7.38e-01   499s\n",
      "  31  -8.58659589e+06 -8.93614884e+06  1.88e-01 2.24e-08  8.11e-01   514s\n",
      "  32  -8.42966424e+06 -8.99041530e+06  2.38e-01 1.49e-08  1.13e+00   529s\n",
      "  33  -8.33268226e+06 -9.03377732e+06  2.60e-01 2.61e-08  1.42e+00   545s\n",
      "  34  -8.32208783e+06 -9.02953640e+06  2.46e-01 1.30e-08  1.78e+00   560s\n",
      "  35  -8.31737111e+06 -8.96847747e+06  2.22e-01 2.98e-08  2.47e+00   574s\n",
      "  36  -8.22134740e+06 -9.03220256e+06  1.98e-01 1.30e-08  2.68e+00   590s\n",
      "  37  -8.72537555e+06 -8.92140734e+06  1.32e-01 2.98e-08  1.92e+00   604s\n",
      "  38  -8.67105167e+06 -8.90573028e+06  8.67e-02 2.98e-08  1.39e+00   619s\n",
      "  39  -8.66129027e+06 -8.90453233e+06  8.57e-02 2.24e-08  1.39e+00   633s\n",
      "  40  -8.72306553e+06 -8.90274103e+06  6.67e-02 1.68e-08  1.29e+00   648s\n",
      "  41  -8.76531460e+06 -8.91277516e+06  1.05e-01 2.24e-08  1.89e+00   663s\n",
      "  42  -8.68313703e+06 -8.91991719e+06  1.56e-01 2.24e-08  1.56e+00   677s\n",
      "  43  -8.64113023e+06 -8.97094779e+06  3.12e-01 2.24e-08  1.24e+00   692s\n",
      "  44  -8.89475941e+06 -8.88325041e+06  1.31e-01 2.42e-08  3.72e+00   708s\n",
      "  45  -8.86580177e+06 -8.85935466e+06  5.28e-03 2.79e-08  7.26e-01   723s\n",
      "  46  -8.84184690e+06 -8.85895892e+06  1.95e-02 3.35e-08  2.13e-01   738s\n",
      "  47  -8.91568008e+06 -8.86265886e+06  3.75e-02 2.61e-08  1.07e-01   753s\n",
      "  48  -8.87303841e+06 -8.86713819e+06  1.68e-01 3.35e-08  1.05e-01   768s\n",
      "  49  -9.00194865e+06 -8.87937061e+06  1.29e-01 2.61e-08  9.98e-02   784s\n",
      "  50  -8.75028650e+06 -8.89293312e+06  1.20e-01 2.98e-08  1.45e-01   799s\n",
      "  51  -8.67214038e+06 -8.88670325e+06  9.96e-02 2.98e-08  1.37e-01   813s\n",
      "  52  -8.69474926e+06 -8.89108737e+06  9.88e-02 1.86e-08  1.38e-01   827s\n",
      "  53  -8.58199714e+06 -8.88738295e+06  9.47e-02 2.24e-08  1.48e-01   842s\n",
      "  54  -8.57506128e+06 -8.88295646e+06  9.01e-02 2.05e-08  1.43e-01   857s\n",
      "  55  -8.55757393e+06 -8.89564731e+06  1.16e-01 2.05e-08  1.63e-01   872s\n",
      "  56  -8.31709217e+06 -8.90063223e+06  8.73e-02 1.86e-08  1.95e-01   887s\n",
      "\n",
      "Barrier performed 56 iterations in 887.18 seconds\n",
      "Sub-optimal termination - objective -8.85243258e+06\n",
      "\n"
     ]
    }
   ],
   "source": [
    "using PyCall\n",
    "unshift!(PyVector(pyimport(\"sys\")[\"path\"]), \"\");\n",
    "@pyimport GLS_Apr_weekday_PM"
   ]
  },
  {
   "cell_type": "code",
   "execution_count": 2,
   "metadata": {
    "collapsed": false
   },
   "outputs": [],
   "source": [
    "# x = GLS_Apr_weekday_PM.x; # sample matrix, each column is a link flow vector sample; number_of_links * K\n",
    "# S = GLS_Apr_weekday_PM.S; # sample covariance matrix\n",
    "# A = GLS_Apr_weekday_PM.A; # link_route incidence matrix\n",
    "P = GLS_Apr_weekday_PM.P; # route_choice_probability_matrix\n",
    "# Q = GLS_Apr_weekday_PM.Q; \n",
    "L = GLS_Apr_weekday_PM.L; # dimension of xi\n",
    "number_of_routes = GLS_Apr_weekday_PM.number_of_routes;\n",
    "number_of_links = GLS_Apr_weekday_PM.number_of_links;"
   ]
  },
  {
   "cell_type": "code",
   "execution_count": 3,
   "metadata": {
    "collapsed": false
   },
   "outputs": [],
   "source": [
    "# A = sparse(A);\n",
    "P = sparse(P);\n",
    "# Q = sparse(Q);"
   ]
  },
  {
   "cell_type": "code",
   "execution_count": 4,
   "metadata": {
    "collapsed": false
   },
   "outputs": [],
   "source": [
    "# K = size(x, 2)\n",
    "\n",
    "# inv_S = inv(S)\n",
    "\n",
    "# A_t = transpose(A)\n",
    "\n",
    "# b = sum([A_t * inv_S * x[:, k] for k = 1:K])"
   ]
  },
  {
   "cell_type": "code",
   "execution_count": 5,
   "metadata": {
    "collapsed": true
   },
   "outputs": [],
   "source": [
    "using JuMP"
   ]
  },
  {
   "cell_type": "markdown",
   "metadata": {},
   "source": [
    "### implement GLS method to estimate OD demand matrix"
   ]
  },
  {
   "cell_type": "code",
   "execution_count": 6,
   "metadata": {
    "collapsed": false
   },
   "outputs": [],
   "source": [
    "# model = Model(solver=IpoptSolver())\n",
    "\n",
    "# @variable(model, xi[1:L] >= 0)\n",
    "\n",
    "# # Set objective: (K/2) xi' * Q * xi - b' * xi\n",
    "# obj = 0\n",
    "# for i = 1:L\n",
    "#     for j = 1:L\n",
    "#         obj += (1.0 / 2) * K * xi[i] * Q[i, j] * xi[j]\n",
    "#     end\n",
    "# end\n",
    "# for l = 1:L\n",
    "#     obj += - b[l] * xi[l]\n",
    "# end\n",
    "\n",
    "# @NLobjective(model, Min, obj) \n",
    "\n",
    "# solve(model)"
   ]
  },
  {
   "cell_type": "code",
   "execution_count": 7,
   "metadata": {
    "collapsed": false
   },
   "outputs": [
    {
     "data": {
      "text/plain": [
       "8432-element Array{Any,1}:\n",
       " 319.643     \n",
       " 233.954     \n",
       "   0.0120999 \n",
       "  70.6385    \n",
       " 746.269     \n",
       "   0.00862451\n",
       " 288.642     \n",
       "   0.0363114 \n",
       " 266.362     \n",
       " 395.605     \n",
       " 309.833     \n",
       "   0.0125291 \n",
       " 393.056     \n",
       "   ⋮         \n",
       "   3.77333e-6\n",
       "   9.96508e-6\n",
       "   6.54659e-6\n",
       "   4.92868e-6\n",
       "   3.33238e-6\n",
       "   8.97179e-6\n",
       "   6.50675e-6\n",
       "   4.09649e-6\n",
       "   1.53308e-5\n",
       "   0.0243625 \n",
       "   0.00511183\n",
       "   0.00551115"
      ]
     },
     "execution_count": 7,
     "metadata": {},
     "output_type": "execute_result"
    }
   ],
   "source": [
    "# xi_list = getvalue(xi)\n",
    "\n",
    "xi_list = GLS_Apr_weekday_PM.xi_list"
   ]
  },
  {
   "cell_type": "code",
   "execution_count": 8,
   "metadata": {
    "collapsed": false
   },
   "outputs": [
    {
     "name": "stdout",
     "output_type": "stream",
     "text": [
      "\n",
      "******************************************************************************\n",
      "This program contains Ipopt, a library for large-scale nonlinear optimization.\n",
      " Ipopt is released as open source code under the Eclipse Public License (EPL).\n",
      "         For more information visit http://projects.coin-or.org/Ipopt\n",
      "******************************************************************************\n",
      "\n",
      "This is Ipopt version 3.12.1, running with linear solver mumps.\n",
      "NOTE: Other linear solvers might be more efficient (see Ipopt documentation).\n",
      "\n",
      "Number of nonzeros in equality constraint Jacobian...: 37834384\n",
      "Number of nonzeros in inequality constraint Jacobian.:        0\n",
      "Number of nonzeros in Lagrangian Hessian.............: 28382112\n",
      "\n",
      "Total number of variables............................:  9461826\n",
      "                     variables with only lower bounds:  9461826\n",
      "                variables with lower and upper bounds:        0\n",
      "                     variables with only upper bounds:        0\n",
      "Total number of equality constraints.................:  9461826\n",
      "Total number of inequality constraints...............:        0\n",
      "        inequality constraints with only lower bounds:        0\n",
      "   inequality constraints with lower and upper bounds:        0\n",
      "        inequality constraints with only upper bounds:        0\n",
      "\n",
      "iter    objective    inf_pr   inf_du lg(mu)  ||d||  lg(rg) alpha_du alpha_pr  ls\n",
      "   0  8.4319916e+01 3.54e+03 1.00e+00  -1.0 0.00e+00    -  0.00e+00 0.00e+00   0\n",
      "MUMPS returned INFO(1) =-13 - out of memory when trying to allocate 243795 MB.\n",
      "In some cases it helps to decrease the value of the option \"mumps_mem_percent\".\n",
      "WARNING: Problem in step computation; switching to emergency mode.\n",
      "   1r 8.4319916e+01 3.54e+03 9.99e+02   3.5 0.00e+00    -  0.00e+00 0.00e+00R  1\n",
      "MUMPS returned INFO(1) =-13 - out of memory when trying to allocate 243795 MB.\n",
      "In some cases it helps to decrease the value of the option \"mumps_mem_percent\".\n",
      "WARNING: Problem in step computation; switching to emergency mode.\n",
      "Restoration phase is called at point that is almost feasible,\n",
      "  with constraint violation 0.000000e+00. Abort.\n",
      "Restoration phase in the restoration phase failed.\n",
      "\n",
      "Number of Iterations....: 1\n",
      "\n",
      "                                   (scaled)                 (unscaled)\n",
      "Objective...............:   8.4319915679986948e+01    8.4319915679986948e+01\n",
      "Dual infeasibility......:   1.0000000000000000e+00    1.0000000000000000e+00\n",
      "Constraint violation....:   3.5422592645414438e+03    3.5422592645414438e+03\n",
      "Complementarity.........:   1.0000000000000000e-02    1.0000000000000000e-02\n",
      "Overall NLP error.......:   3.5422592645414438e+03    3.5422592645414438e+03\n",
      "\n",
      "\n",
      "Number of objective function evaluations             = 2\n",
      "Number of objective gradient evaluations             = 2\n",
      "Number of equality constraint evaluations            = 2\n",
      "Number of inequality constraint evaluations          = 0\n",
      "Number of equality constraint Jacobian evaluations   = 2\n",
      "Number of inequality constraint Jacobian evaluations = 0\n",
      "Number of Lagrangian Hessian evaluations             = 2\n",
      "Total CPU secs in IPOPT (w/o function evaluations)   =   2907.248\n",
      "Total CPU secs in NLP function evaluations           =      5.324\n",
      "\n",
      "EXIT: Restoration Failed!\n"
     ]
    },
    {
     "name": "stderr",
     "output_type": "stream",
     "text": [
      "WARNING: Ipopt finished with status Restoration_Failed\n",
      "WARNING: Not solved to optimality, status: Error\n"
     ]
    },
    {
     "data": {
      "text/plain": [
       ":Error"
      ]
     },
     "execution_count": 8,
     "metadata": {},
     "output_type": "execute_result"
    }
   ],
   "source": [
    "mGLSJulia = Model()\n",
    "\n",
    "@variable(mGLSJulia, lam[1:size(P,1)] >= 0)\n",
    "\n",
    "@variable(mGLSJulia, p[1:size(P,1), 1:size(P,2)] >= 0)\n",
    "\n",
    "for i = 1:size(P,1)\n",
    "    for j = 1:size(P,2)\n",
    "        if P[i,j] == 0\n",
    "            @constraint(mGLSJulia, p[i,j] == 0)\n",
    "        end\n",
    "    end\n",
    "end\n",
    "            \n",
    "for i = 1:size(P,1)\n",
    "    @NLconstraint(mGLSJulia, sum{p[i,j], j = 1:size(P,2)} == 1)\n",
    "end\n",
    "\n",
    "for l = 1:L\n",
    "    @NLconstraint(mGLSJulia, sum{p[i,l] * lam[i], i = 1:size(P,1)} == xi_list[l])\n",
    "end\n",
    "    \n",
    "@NLobjective(mGLSJulia, Min, sum{p[1,j], j = 1:size(P,2)})  # play no actual role, but could not use zero objective\n",
    "\n",
    "solve(mGLSJulia)"
   ]
  },
  {
   "cell_type": "code",
   "execution_count": 9,
   "metadata": {
    "collapsed": false
   },
   "outputs": [
    {
     "data": {
      "text/plain": [
       "1122-element Array{Float64,1}:\n",
       " 0.00999999\n",
       " 0.00999999\n",
       " 0.00999999\n",
       " 0.00999999\n",
       " 0.00999999\n",
       " 0.00999999\n",
       " 0.00999999\n",
       " 0.00999999\n",
       " 0.00999999\n",
       " 0.00999999\n",
       " 0.00999999\n",
       " 0.00999999\n",
       " 0.00999999\n",
       " ⋮         \n",
       " 0.00999999\n",
       " 0.00999999\n",
       " 0.00999999\n",
       " 0.00999999\n",
       " 0.00999999\n",
       " 0.00999999\n",
       " 0.00999999\n",
       " 0.00999999\n",
       " 0.00999999\n",
       " 0.00999999\n",
       " 0.00999999\n",
       " 0.00999999"
      ]
     },
     "execution_count": 9,
     "metadata": {},
     "output_type": "execute_result"
    }
   ],
   "source": [
    "getvalue(lam)"
   ]
  },
  {
   "cell_type": "code",
   "execution_count": 10,
   "metadata": {
    "collapsed": false
   },
   "outputs": [
    {
     "data": {
      "text/plain": [
       "84.31991567998695"
      ]
     },
     "execution_count": 10,
     "metadata": {},
     "output_type": "execute_result"
    }
   ],
   "source": [
    "getobjectivevalue(mGLSJulia)"
   ]
  }
 ],
 "metadata": {
  "anaconda-cloud": {},
  "kernelspec": {
   "display_name": "Julia 0.5.0",
   "language": "julia",
   "name": "julia-0.5"
  },
  "language_info": {
   "file_extension": ".jl",
   "mimetype": "application/julia",
   "name": "julia",
   "version": "0.5.0"
  }
 },
 "nbformat": 4,
 "nbformat_minor": 0
}
