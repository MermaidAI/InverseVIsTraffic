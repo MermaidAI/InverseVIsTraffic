{
 "cells": [
  {
   "cell_type": "code",
   "execution_count": 1,
   "metadata": {
    "collapsed": false
   },
   "outputs": [
    {
     "name": "stdout",
     "output_type": "stream",
     "text": [
      "No dicts found; please check load_dicts...\n",
      "Optimize a model with 5184 rows, 5184 columns and 5184 nonzeros\n",
      "Model has 13439520 quadratic objective terms\n",
      "Coefficient statistics:\n",
      "  Matrix range    [1e+00, 1e+00]\n",
      "  Objective range [2e+00, 4e+07]\n",
      "  Bounds range    [0e+00, 0e+00]\n",
      "  RHS range       [0e+00, 0e+00]\n",
      "Presolve removed 5184 rows and 0 columns\n",
      "Presolve time: 1.82s\n",
      "Presolved: 0 rows, 5184 columns, 0 nonzeros\n",
      "Presolved model has 13439520 quadratic objective terms\n",
      "Ordering time: 0.04s\n",
      "\n",
      "Barrier statistics:\n",
      " Free vars  : 3695\n",
      " AA' NZ     : 6.825e+06\n",
      " Factor NZ  : 6.828e+06 (roughly 60 MBytes of memory)\n",
      " Factor Ops : 1.682e+10 (roughly 3 seconds per iteration)\n",
      " Threads    : 4\n",
      "\n",
      "                  Objective                Residual\n",
      "Iter       Primal          Dual         Primal    Dual     Compl     Time\n",
      "   0   4.38842032e+10 -2.33023634e+05  3.01e+05 4.57e+04  3.46e+06     8s\n",
      "   1   4.42008053e+09 -3.20974002e+08  2.62e+04 3.98e+03  5.75e+05    12s\n",
      "   2   3.70137647e+08 -2.13167708e+08  9.68e+02 1.47e+02  9.84e+04    15s\n",
      "   3   2.71185658e+07 -1.04935806e+08  5.33e+01 8.10e+00  2.49e+04    19s\n",
      "   4  -2.99337710e+07 -6.96441466e+07  4.74e+00 7.21e-01  7.77e+03    23s\n",
      "   5  -4.84816169e+07 -5.89480638e+07  3.13e-01 4.76e-02  2.06e+03    26s\n",
      "   6  -5.40360577e+07 -5.68425300e+07  1.86e-02 2.82e-03  5.53e+02    30s\n",
      "   7  -5.57246550e+07 -5.64812362e+07  1.42e-04 2.15e-05  1.46e+02    34s\n",
      "   8  -5.61450696e+07 -5.64030224e+07  5.33e-06 1.07e-07  4.98e+01    37s\n",
      "   9  -5.63177502e+07 -5.63661080e+07  1.61e-07 8.20e-08  9.33e+00    41s\n",
      "  10  -5.63546876e+07 -5.63571312e+07  4.94e-06 8.20e-08  4.55e-01    45s\n",
      "  11  -5.63598719e+07 -5.63561831e+07  1.48e-03 8.94e-08  1.22e-01    48s\n",
      "  12  -5.64032734e+07 -5.63560309e+07  2.38e-03 6.71e-08  2.68e-02    52s\n",
      "  13  -5.63122657e+07 -5.63569023e+07  3.20e-02 6.71e-08  1.24e-02    55s\n",
      "  14  -5.63254356e+07 -5.63568940e+07  3.17e-02 5.22e-08  1.23e-02    59s\n",
      "  15  -5.64141788e+07 -5.63571219e+07  3.20e-02 6.71e-08  1.07e-02    62s\n",
      "  16  -5.64116192e+07 -5.63571125e+07  3.31e-02 8.94e-08  1.07e-02    66s\n",
      "  17  -5.63759452e+07 -5.63571008e+07  3.19e-02 5.22e-08  1.07e-02    69s\n",
      "  18  -5.67511900e+07 -5.63588074e+07  4.41e-02 6.71e-08  1.41e-02    73s\n",
      "  19  -5.63911116e+07 -5.63590161e+07  3.95e-02 5.22e-08  2.35e-02    77s\n",
      "  20  -5.64259628e+07 -5.63592351e+07  4.33e-02 6.71e-08  2.33e-02    81s\n",
      "  21  -5.63184091e+07 -5.63629365e+07  5.75e-02 4.10e-08  1.75e-02    85s\n",
      "  22  -5.45579410e+07 -5.63699068e+07  1.01e-01 7.45e-08  1.40e-02    88s\n",
      "  23  -5.49087092e+07 -5.63700512e+07  9.56e-02 4.47e-08  1.13e-02    92s\n",
      "  24  -5.50760976e+07 -5.63702475e+07  8.54e-02 4.47e-08  1.26e-02    95s\n",
      "  25  -5.51033374e+07 -5.63702393e+07  8.48e-02 4.47e-08  1.25e-02    99s\n",
      "  26  -5.45808159e+07 -5.63859519e+07  1.33e-01 5.22e-08  1.47e-02   103s\n",
      "  27  -5.45858754e+07 -5.63859602e+07  1.33e-01 6.89e-08  1.47e-02   106s\n",
      "  28  -5.46753368e+07 -5.63932832e+07  1.90e-01 6.71e-08  1.18e-02   110s\n",
      "  29  -5.46400619e+07 -5.63940059e+07  1.87e-01 4.47e-08  1.29e-02   113s\n",
      "  30  -5.44205458e+07 -5.63947930e+07  1.84e-01 7.45e-08  1.32e-02   117s\n",
      "  31  -5.44893476e+07 -5.63946893e+07  1.61e-01 6.71e-08  1.28e-02   120s\n",
      "  32  -5.45651584e+07 -5.63944723e+07  1.59e-01 6.71e-08  1.29e-02   124s\n",
      "  33  -5.45796766e+07 -5.63943813e+07  1.60e-01 5.22e-08  1.29e-02   128s\n",
      "  34  -5.45825086e+07 -5.63943725e+07  1.60e-01 6.71e-08  1.29e-02   131s\n",
      "  35  -5.41805437e+07 -5.63929642e+07  1.36e-01 5.22e-08  1.23e-02   135s\n",
      "  36  -5.40374626e+07 -5.63980703e+07  1.80e-01 7.45e-08  1.20e-02   138s\n",
      "  37  -5.53355430e+07 -5.63973484e+07  1.81e-01 7.45e-08  1.68e-02   142s\n",
      "  38  -5.52750945e+07 -5.64014117e+07  1.81e-01 6.71e-08  1.82e-02   145s\n",
      "  39  -5.53478762e+07 -5.64011909e+07  1.86e-01 3.73e-08  1.77e-02   149s\n",
      "  40  -5.47095526e+07 -5.64005549e+07  1.93e-01 5.96e-08  2.10e-02   153s\n",
      "  41  -5.51593390e+07 -5.64002320e+07  1.90e-01 5.96e-08  2.08e-02   156s\n",
      "  42  -5.60752026e+07 -5.63986911e+07  1.84e-01 5.22e-08  2.05e-02   160s\n",
      "  43  -5.51535368e+07 -5.63978556e+07  1.57e-01 5.96e-08  1.91e-02   163s\n",
      "  44  -5.51379661e+07 -5.63978892e+07  1.56e-01 4.47e-08  1.91e-02   167s\n",
      "  45  -5.52684489e+07 -5.63978739e+07  1.54e-01 5.22e-08  1.88e-02   170s\n",
      "  46  -5.36519576e+07 -5.64134265e+07  1.73e-01 4.47e-08  1.77e-02   174s\n",
      "  47  -5.36439122e+07 -5.64134200e+07  1.73e-01 4.47e-08  1.77e-02   178s\n",
      "  48  -5.31344007e+07 -5.64118115e+07  1.84e-01 3.73e-08  1.99e-02   181s\n",
      "  49  -5.28044159e+07 -5.64136433e+07  1.94e-01 5.90e-08  2.05e-02   185s\n",
      "  50  -5.28119904e+07 -5.64136629e+07  1.94e-01 5.22e-08  2.05e-02   188s\n",
      "  51  -5.27766106e+07 -5.64126579e+07  1.90e-01 4.47e-08  2.22e-02   192s\n",
      "\n",
      "Barrier performed 51 iterations in 191.61 seconds\n",
      "Sub-optimal termination - objective -5.63177502e+07\n",
      "\n"
     ]
    }
   ],
   "source": [
    "using PyCall\n",
    "unshift!(PyVector(pyimport(\"sys\")[\"path\"]), \"\");\n",
    "@pyimport GLS_Apr_weekday_PM"
   ]
  },
  {
   "cell_type": "code",
   "execution_count": 2,
   "metadata": {
    "collapsed": false
   },
   "outputs": [],
   "source": [
    "# x = GLS_Apr_weekday_PM.x; # sample matrix, each column is a link flow vector sample; number_of_links * K\n",
    "# S = GLS_Apr_weekday_PM.S; # sample covariance matrix\n",
    "# A = GLS_Apr_weekday_PM.A; # link_route incidence matrix\n",
    "P = GLS_Apr_weekday_PM.P; # route_choice_probability_matrix\n",
    "# Q = GLS_Apr_weekday_PM.Q; \n",
    "L = GLS_Apr_weekday_PM.L; # dimension of xi\n",
    "number_of_routes = GLS_Apr_weekday_PM.number_of_routes;\n",
    "number_of_links = GLS_Apr_weekday_PM.number_of_links;"
   ]
  },
  {
   "cell_type": "code",
   "execution_count": 3,
   "metadata": {
    "collapsed": false
   },
   "outputs": [],
   "source": [
    "# A = sparse(A);\n",
    "P = sparse(P);\n",
    "# Q = sparse(Q);"
   ]
  },
  {
   "cell_type": "code",
   "execution_count": 4,
   "metadata": {
    "collapsed": false
   },
   "outputs": [],
   "source": [
    "# K = size(x, 2)\n",
    "\n",
    "# inv_S = inv(S)\n",
    "\n",
    "# A_t = transpose(A)\n",
    "\n",
    "# b = sum([A_t * inv_S * x[:, k] for k = 1:K])"
   ]
  },
  {
   "cell_type": "code",
   "execution_count": 5,
   "metadata": {
    "collapsed": true
   },
   "outputs": [],
   "source": [
    "using JuMP"
   ]
  },
  {
   "cell_type": "markdown",
   "metadata": {},
   "source": [
    "### implement GLS method to estimate OD demand matrix"
   ]
  },
  {
   "cell_type": "code",
   "execution_count": 6,
   "metadata": {
    "collapsed": false
   },
   "outputs": [],
   "source": [
    "# model = Model(solver=IpoptSolver())\n",
    "\n",
    "# @variable(model, xi[1:L] >= 0)\n",
    "\n",
    "# # Set objective: (K/2) xi' * Q * xi - b' * xi\n",
    "# obj = 0\n",
    "# for i = 1:L\n",
    "#     for j = 1:L\n",
    "#         obj += (1.0 / 2) * K * xi[i] * Q[i, j] * xi[j]\n",
    "#     end\n",
    "# end\n",
    "# for l = 1:L\n",
    "#     obj += - b[l] * xi[l]\n",
    "# end\n",
    "\n",
    "# @NLobjective(model, Min, obj) \n",
    "\n",
    "# solve(model)"
   ]
  },
  {
   "cell_type": "code",
   "execution_count": 7,
   "metadata": {
    "collapsed": false
   },
   "outputs": [
    {
     "data": {
      "text/plain": [
       "5184-element Array{Any,1}:\n",
       "  772.458     \n",
       "  173.096     \n",
       "  854.929     \n",
       "    3.13892   \n",
       "    0.0450955 \n",
       "  959.809     \n",
       " 1042.28      \n",
       "    0.173997  \n",
       " 1752.54      \n",
       "    0.288549  \n",
       "    0.0565601 \n",
       "  744.938     \n",
       " 1973.57      \n",
       "    ⋮         \n",
       "    0.138578  \n",
       "    1.98923e-5\n",
       "    1.97759e-5\n",
       "    1.99852e-5\n",
       "    2.10235e-5\n",
       "    1.74978e-5\n",
       "    4.70417e-5\n",
       "    3.28338e-5\n",
       "    2.76389e-5\n",
       "    0.337478  \n",
       "    0.109441  \n",
       "    0.065578  "
      ]
     },
     "execution_count": 7,
     "metadata": {},
     "output_type": "execute_result"
    }
   ],
   "source": [
    "# xi_list = getvalue(xi)\n",
    "\n",
    "xi_list = GLS_Apr_weekday_PM.xi_list"
   ]
  },
  {
   "cell_type": "code",
   "execution_count": null,
   "metadata": {
    "collapsed": false
   },
   "outputs": [],
   "source": [
    "mGLSJulia = Model()\n",
    "\n",
    "@variable(mGLSJulia, lam[1:size(P,1)] >= 0)\n",
    "\n",
    "@variable(mGLSJulia, p[1:size(P,1), 1:size(P,2)] >= 0)\n",
    "\n",
    "for i = 1:size(P,1)\n",
    "    for j = 1:size(P,2)\n",
    "        if P[i,j] == 0\n",
    "            @constraint(mGLSJulia, p[i,j] == 0)\n",
    "        end\n",
    "    end\n",
    "end\n",
    "            \n",
    "for i = 1:size(P,1)\n",
    "    @NLconstraint(mGLSJulia, sum{p[i,j], j = 1:size(P,2)} == 1)\n",
    "end\n",
    "\n",
    "for l = 1:L\n",
    "    @NLconstraint(mGLSJulia, sum{p[i,l] * lam[i], i = 1:size(P,1)} == xi_list[l])\n",
    "end\n",
    "    \n",
    "@NLobjective(mGLSJulia, Min, sum{p[1,j], j = 1:size(P,2)})  # play no actual role, but could not use zero objective\n",
    "\n",
    "solve(mGLSJulia)"
   ]
  },
  {
   "cell_type": "code",
   "execution_count": null,
   "metadata": {
    "collapsed": false
   },
   "outputs": [],
   "source": [
    "getvalue(lam)"
   ]
  },
  {
   "cell_type": "code",
   "execution_count": null,
   "metadata": {
    "collapsed": false
   },
   "outputs": [],
   "source": [
    "getobjectivevalue(mGLSJulia)"
   ]
  }
 ],
 "metadata": {
  "anaconda-cloud": {},
  "kernelspec": {
   "display_name": "Julia 0.5.0",
   "language": "julia",
   "name": "julia-0.5"
  },
  "language_info": {
   "file_extension": ".jl",
   "mimetype": "application/julia",
   "name": "julia",
   "version": "0.5.0"
  }
 },
 "nbformat": 4,
 "nbformat_minor": 0
}
