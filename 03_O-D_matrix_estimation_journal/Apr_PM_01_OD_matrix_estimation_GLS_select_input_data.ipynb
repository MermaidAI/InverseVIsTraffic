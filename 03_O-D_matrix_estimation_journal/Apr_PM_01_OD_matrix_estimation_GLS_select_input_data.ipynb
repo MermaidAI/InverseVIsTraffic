{
 "cells": [
  {
   "cell_type": "code",
   "execution_count": 1,
   "metadata": {
    "collapsed": false
   },
   "outputs": [
    {
     "name": "stdout",
     "output_type": "stream",
     "text": [
      "No dicts found; please check load_dicts...\n"
     ]
    }
   ],
   "source": [
    "from util import *\n",
    "from util_data_storage_and_load import *\n",
    "import numpy as np\n",
    "from numpy.linalg import inv\n",
    "from scipy.sparse import csr_matrix, csc_matrix\n",
    "import json"
   ]
  },
  {
   "cell_type": "code",
   "execution_count": 2,
   "metadata": {
    "collapsed": true
   },
   "outputs": [],
   "source": [
    "with open('../temp_files/new_route_dict_journal.json', 'r') as json_file:\n",
    "    new_route_dict = json.load(json_file)\n",
    "    \n",
    "number_of_routes = len(new_route_dict)"
   ]
  },
  {
   "cell_type": "code",
   "execution_count": 3,
   "metadata": {
    "collapsed": true
   },
   "outputs": [],
   "source": [
    "# implement GLS method to estimate OD demand matrix\n",
    "def GLS(x, A, L):\n",
    "    \"\"\"\n",
    "    x: sample matrix, each column is a link flow vector sample; number_of_links * K\n",
    "    A: path-link incidence matrix\n",
    "    P: logit route choice probability matrix\n",
    "    L: dimension of xi\n",
    "    ----------------\n",
    "    return: xi\n",
    "    ----------------\n",
    "    \"\"\"\n",
    "    K = np.size(x, 1)\n",
    "    S = samp_cov(x)\n",
    "\n",
    "    #print(\"rank of S is: \\n\")\n",
    "    #print(matrix_rank(S))\n",
    "    #print(\"sizes of S are: \\n\")\n",
    "    #print(np.size(S, 0))\n",
    "    #print(np.size(S, 1))\n",
    "\n",
    "    inv_S = inv(S).real\n",
    "\n",
    "    A_t = A.transpose()\n",
    "\n",
    "    Q_ = A_t * inv_S * A\n",
    "    Q_ = Q_.real\n",
    "#     Q = adj_PSD(Q_)  # Ensure Q to be PSD\n",
    "    Q = Q_\n",
    "\n",
    "    #print(\"rank of Q is: \\n\")\n",
    "    #print(matrix_rank(Q))\n",
    "    #print(\"sizes of Q are: \\n\")\n",
    "    #print(np.size(Q, 0))\n",
    "    #print(np.size(Q, 1))\n",
    "\n",
    "    b = sum([A_t * inv_S * x[:, k] for k in range(K)])\n",
    "    # print(b[0])\n",
    "    # assert(1==2)\n",
    "\n",
    "    model = Model(\"OD_matrix_estimation\")\n",
    "\n",
    "    xi = []\n",
    "    for l in range(L):\n",
    "        xi.append(model.addVar(name='xi_' + str(l)))\n",
    "\n",
    "    model.update() \n",
    "\n",
    "    # Set objective: (K/2) xi' * Q * xi - b' * xi\n",
    "    obj = 0\n",
    "    for i in range(L):\n",
    "        for j in range(L):\n",
    "            obj += (1.0 / 2) * K * xi[i] * Q[i, j] * xi[j]\n",
    "    for l in range(L):\n",
    "        obj += - b[l] * xi[l]\n",
    "    model.setObjective(obj)\n",
    "\n",
    "    # Add constraint: xi >= 0\n",
    "    for l in range(L):\n",
    "        model.addConstr(xi[l] >= 0)\n",
    "        #model.addConstr(xi[l] <= 5000)\n",
    "    #fictitious_OD_list = zload('../temp_files/fictitious_OD_list')\n",
    "    #for l in fictitious_OD_list:\n",
    "        #model.addConstr(xi[l] == 0)\n",
    "    model.update() \n",
    "\n",
    "    #model.setParam('OutputFlag', False)\n",
    "    model.optimize()\n",
    "\n",
    "    xi_list = []\n",
    "    for v in model.getVars():\n",
    "        # print('%s %g' % (v.varName, v.x))\n",
    "        xi_list.append(v.x)\n",
    "    # print('Obj: %g' % obj.getValue())\n",
    "    return xi_list"
   ]
  },
  {
   "cell_type": "code",
   "execution_count": 4,
   "metadata": {
    "collapsed": true
   },
   "outputs": [],
   "source": [
    "# load link_route incidence matrix\n",
    "A = zload('../temp_files/link_route_incidence_matrix_journal.pkz')\n",
    "\n",
    "# load link counts data\n",
    "with open('../temp_files/link_day_minute_Apr_dict_journal_JSON_adjusted.json', 'r') as json_file:\n",
    "    link_day_minute_Apr_dict_JSON = json.load(json_file)\n",
    "\n",
    "# week_day_Apr_list = [2, 3, 4, 5, 6, 9, 10, 11, 12, 13, 16, 17, 18, 19, 20, 23, 24, 25, 26, 27, 30]\n",
    "week_day_Apr_list = [9, 10, 11, 12, 13]\n",
    "\n",
    "feasible_link_dict = zload('../temp_files/feasible_link_dict_journal.pkz')\n",
    "\n",
    "link_day_minute_Apr_list = []\n",
    "for link_idx in [feasible_link_dict[idx] for idx in range(len(feasible_link_dict))]:\n",
    "    for day in week_day_Apr_list: \n",
    "        for minute_idx in range(120):\n",
    "            key = 'link_' + str(link_idx) + '_' + str(day)\n",
    "            link_day_minute_Apr_list.append(link_day_minute_Apr_dict_JSON[key] ['PM_flow_minute'][minute_idx])\n",
    "\n",
    "x = np.matrix(link_day_minute_Apr_list)\n",
    "# x = np.matrix.reshape(x, len(feasible_link_dict), 2520)\n",
    "x = np.matrix.reshape(x, len(feasible_link_dict), 600)\n",
    "\n",
    "# print(np.size(x,0), np.size(x,1))\n",
    "\n",
    "x = np.nan_to_num(x)\n",
    "# print(np.size(x,0), np.size(x,1))\n",
    "\n",
    "# y = np.array(np.transpose(x))\n",
    "# y = y[np.all(y != 0, axis=1)]\n",
    "# x = np.transpose(y)\n",
    "# x = np.matrix(x)\n",
    "\n",
    "# print(np.size(x,0), np.size(x,1))\n",
    "# print(x[:,:2])\n",
    "# print(np.size(A,0), np.size(A,1))"
   ]
  },
  {
   "cell_type": "markdown",
   "metadata": {},
   "source": [
    "### If we see an error message like:\n",
    "#### GurobiError: Objective Q not PSD (diagonal adjustment of \"some number\" would be required), \n",
    "### where \"some number\" is very small, say, less than 1e-2, then, we can safely use the input flow data."
   ]
  },
  {
   "cell_type": "code",
   "execution_count": 5,
   "metadata": {
    "collapsed": false
   },
   "outputs": [
    {
     "name": "stdout",
     "output_type": "stream",
     "text": [
      "Optimize a model with 270 rows, 270 columns and 270 nonzeros\n",
      "Model has 36585 quadratic objective terms\n",
      "Coefficient statistics:\n",
      "  Matrix range    [1e+00, 1e+00]\n",
      "  Objective range [8e-01, 4e+05]\n",
      "  Bounds range    [0e+00, 0e+00]\n",
      "  RHS range       [0e+00, 0e+00]\n",
      "Presolve removed 270 rows and 0 columns\n",
      "Presolve time: 0.01s\n"
     ]
    },
    {
     "ename": "GurobiError",
     "evalue": "Objective Q not PSD (diagonal adjustment of 6.5e-05 would be required)",
     "output_type": "error",
     "traceback": [
      "\u001b[0;31m---------------------------------------------------------------------------\u001b[0m",
      "\u001b[0;31mGurobiError\u001b[0m                               Traceback (most recent call last)",
      "\u001b[0;32m<ipython-input-5-b6270c78116d>\u001b[0m in \u001b[0;36m<module>\u001b[0;34m()\u001b[0m\n\u001b[0;32m----> 1\u001b[0;31m \u001b[0mxi_list\u001b[0m \u001b[0;34m=\u001b[0m \u001b[0mGLS\u001b[0m\u001b[0;34m(\u001b[0m\u001b[0mx\u001b[0m\u001b[0;34m,\u001b[0m \u001b[0mA\u001b[0m\u001b[0;34m,\u001b[0m \u001b[0mnumber_of_routes\u001b[0m\u001b[0;34m)\u001b[0m\u001b[0;34m\u001b[0m\u001b[0m\n\u001b[0m",
      "\u001b[0;32m<ipython-input-3-e1b2db4eb3eb>\u001b[0m in \u001b[0;36mGLS\u001b[0;34m(x, A, L)\u001b[0m\n\u001b[1;32m     65\u001b[0m \u001b[0;34m\u001b[0m\u001b[0m\n\u001b[1;32m     66\u001b[0m     \u001b[0;31m#model.setParam('OutputFlag', False)\u001b[0m\u001b[0;34m\u001b[0m\u001b[0;34m\u001b[0m\u001b[0m\n\u001b[0;32m---> 67\u001b[0;31m     \u001b[0mmodel\u001b[0m\u001b[0;34m.\u001b[0m\u001b[0moptimize\u001b[0m\u001b[0;34m(\u001b[0m\u001b[0;34m)\u001b[0m\u001b[0;34m\u001b[0m\u001b[0m\n\u001b[0m\u001b[1;32m     68\u001b[0m \u001b[0;34m\u001b[0m\u001b[0m\n\u001b[1;32m     69\u001b[0m     \u001b[0mxi_list\u001b[0m \u001b[0;34m=\u001b[0m \u001b[0;34m[\u001b[0m\u001b[0;34m]\u001b[0m\u001b[0;34m\u001b[0m\u001b[0m\n",
      "\u001b[0;32mmodel.pxi\u001b[0m in \u001b[0;36mgurobipy.Model.optimize (../../src/python/gurobipy.c:45556)\u001b[0;34m()\u001b[0m\n",
      "\u001b[0;31mGurobiError\u001b[0m: Objective Q not PSD (diagonal adjustment of 6.5e-05 would be required)"
     ]
    }
   ],
   "source": [
    "xi_list = GLS(x, A, number_of_routes)"
   ]
  },
  {
   "cell_type": "code",
   "execution_count": null,
   "metadata": {
    "collapsed": false
   },
   "outputs": [],
   "source": [
    "xi_list"
   ]
  },
  {
   "cell_type": "code",
   "execution_count": null,
   "metadata": {
    "collapsed": true
   },
   "outputs": [],
   "source": []
  }
 ],
 "metadata": {
  "anaconda-cloud": {},
  "kernelspec": {
   "display_name": "Python [default]",
   "language": "python",
   "name": "python2"
  },
  "language_info": {
   "codemirror_mode": {
    "name": "ipython",
    "version": 2
   },
   "file_extension": ".py",
   "mimetype": "text/x-python",
   "name": "python",
   "nbconvert_exporter": "python",
   "pygments_lexer": "ipython2",
   "version": "2.7.12"
  }
 },
 "nbformat": 4,
 "nbformat_minor": 0
}
