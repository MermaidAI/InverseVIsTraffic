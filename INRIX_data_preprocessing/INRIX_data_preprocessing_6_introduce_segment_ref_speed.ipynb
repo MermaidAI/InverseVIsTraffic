{
 "cells": [
  {
   "cell_type": "code",
   "execution_count": 1,
   "metadata": {
    "collapsed": true
   },
   "outputs": [],
   "source": [
    "%run ../python_files/util.py"
   ]
  },
  {
   "cell_type": "code",
   "execution_count": 2,
   "metadata": {
    "collapsed": true
   },
   "outputs": [],
   "source": [
    "data_folder = '/home/jzh/INRIX/All_INRIX_2012_filtered/'"
   ]
  },
  {
   "cell_type": "code",
   "execution_count": 3,
   "metadata": {
    "collapsed": false
   },
   "outputs": [],
   "source": [
    "import csv\n",
    "import glob\n",
    "\n",
    "tmc_ref_speed = []\n",
    "\n",
    "input_file = data_folder + 'apr000000000000.csv.gz.filtered.csv'\n",
    "\n",
    "# for input_file in glob.glob(data_folder + '*.csv'):\n",
    "\n",
    "with open(input_file, 'rb') as inp:\n",
    "    for row in csv.reader(inp):\n",
    "        tmc_ref_speed.append((row[0], row[8]))\n",
    "tmc_ref_speed = list(set(tmc_ref_speed))"
   ]
  },
  {
   "cell_type": "code",
   "execution_count": 4,
   "metadata": {
    "collapsed": false
   },
   "outputs": [
    {
     "data": {
      "text/plain": [
       "701"
      ]
     },
     "execution_count": 4,
     "metadata": {},
     "output_type": "execute_result"
    }
   ],
   "source": [
    "len(tmc_ref_speed)"
   ]
  },
  {
   "cell_type": "code",
   "execution_count": 5,
   "metadata": {
    "collapsed": true
   },
   "outputs": [],
   "source": [
    "# make a dictionary mapping tmc to reference speed\n",
    "\n",
    "tmc_ref_speed_dict = {tmc_ref_speed[i][0]: int(tmc_ref_speed[i][1]) for i in range(len(tmc_ref_speed))}"
   ]
  },
  {
   "cell_type": "code",
   "execution_count": 6,
   "metadata": {
    "collapsed": true
   },
   "outputs": [],
   "source": [
    "zdump(tmc_ref_speed_dict, '../temp_files/tmc_ref_speed_dict.pkz')"
   ]
  }
 ],
 "metadata": {
  "kernelspec": {
   "display_name": "Python 2",
   "language": "python",
   "name": "python2"
  },
  "language_info": {
   "codemirror_mode": {
    "name": "ipython",
    "version": 2
   },
   "file_extension": ".py",
   "mimetype": "text/x-python",
   "name": "python",
   "nbconvert_exporter": "python",
   "pygments_lexer": "ipython2",
   "version": "2.7.6"
  }
 },
 "nbformat": 4,
 "nbformat_minor": 0
}
