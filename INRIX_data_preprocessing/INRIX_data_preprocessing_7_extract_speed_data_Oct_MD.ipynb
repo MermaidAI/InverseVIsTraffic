{
 "cells": [
  {
   "cell_type": "code",
   "execution_count": 1,
   "metadata": {
    "collapsed": false
   },
   "outputs": [],
   "source": [
    "%run ../Python_files/util.py"
   ]
  },
  {
   "cell_type": "code",
   "execution_count": 2,
   "metadata": {
    "collapsed": true
   },
   "outputs": [],
   "source": [
    "tmc_ref_speed_dict =zload('../temp_files/tmc_ref_speed_dict.pkz')"
   ]
  },
  {
   "cell_type": "code",
   "execution_count": 3,
   "metadata": {
    "collapsed": false
   },
   "outputs": [
    {
     "data": {
      "text/plain": [
       "<function keys>"
      ]
     },
     "execution_count": 3,
     "metadata": {},
     "output_type": "execute_result"
    }
   ],
   "source": [
    "tmc_ref_speed_dict.keys"
   ]
  },
  {
   "cell_type": "code",
   "execution_count": 4,
   "metadata": {
    "collapsed": true
   },
   "outputs": [],
   "source": [
    "# AM: 7:00 am - 9:00 am\n",
    "# MD: 11:00 am - 13:00 pm\n",
    "# PM: 17:00 pm - 19:00 pm\n",
    "# NT: 21:00 pm - 23:00 pm"
   ]
  },
  {
   "cell_type": "code",
   "execution_count": 5,
   "metadata": {
    "collapsed": true
   },
   "outputs": [],
   "source": [
    "data_folder = '/home/jzh/INRIX/All_INRIX_2012_filtered/'"
   ]
  },
  {
   "cell_type": "code",
   "execution_count": 6,
   "metadata": {
    "collapsed": true
   },
   "outputs": [],
   "source": [
    "import pandas as pd\n",
    "\n",
    "store = pd.HDFStore(data_folder + 'store_df_Oct.h5')"
   ]
  },
  {
   "cell_type": "code",
   "execution_count": 8,
   "metadata": {
    "collapsed": false
   },
   "outputs": [],
   "source": [
    "df_Oct = store['df_Oct'] "
   ]
  },
  {
   "cell_type": "code",
   "execution_count": null,
   "metadata": {
    "collapsed": false
   },
   "outputs": [],
   "source": [
    "import glob\n",
    "\n",
    "i = 0\n",
    "\n",
    "for tmc in tmc_ref_speed_dict.keys():\n",
    "    for day in range(32)[1:]:\n",
    "        i = i + 1\n",
    "        df_Oct_MD_tmc_day = df_Oct.loc[(df_Oct['tmc'] == tmc) & (df_Oct['day'] == day) & \\\n",
    "                                       ((df_Oct['hour'] == 11) | (df_Oct['hour'] == 12))]\n",
    "        dump(df_Oct_MD_tmc_day, data_folder + 'Oct_MD/' + 'df_Oct_MD_tmc_day_list_Oct_%s_%s' %(tmc, day))\n",
    "        #df_Oct = df_Oct.loc[((df_Oct['tmc'] != tmc) | (df_Oct['day'] != day) | (df_Oct['hour'] != 6))]\n",
    "        if i % 31 == 0:\n",
    "            print(\"%d df's created\" %i)\n",
    "        #print(\"We still need to add %d elements to df_Oct_MD_tmc_day_list_Oct\\n\" \\\n",
    "         #   %(31 * len(tmc_ref_speed_dict.keys()) - len(df_Oct_MD_tmc_day_list_Oct)))\n",
    "        #print('-' * 70)\n",
    "\n",
    "#store['df_Oct_MD_tmc_day_list_Oct'] = df_Oct_MD_tmc_day_list_Oct"
   ]
  },
  {
   "cell_type": "code",
   "execution_count": null,
   "metadata": {
    "collapsed": true
   },
   "outputs": [],
   "source": []
  }
 ],
 "metadata": {
  "kernelspec": {
   "display_name": "Python 2",
   "language": "python",
   "name": "python2"
  },
  "language_info": {
   "codemirror_mode": {
    "name": "ipython",
    "version": 2
   },
   "file_extension": ".py",
   "mimetype": "text/x-python",
   "name": "python",
   "nbconvert_exporter": "python",
   "pygments_lexer": "ipython2",
   "version": "2.7.10"
  }
 },
 "nbformat": 4,
 "nbformat_minor": 0
}
