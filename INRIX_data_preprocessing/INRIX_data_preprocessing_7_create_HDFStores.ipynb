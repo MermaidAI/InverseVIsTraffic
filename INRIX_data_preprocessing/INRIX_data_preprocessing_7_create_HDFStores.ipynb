{
 "cells": [
  {
   "cell_type": "code",
   "execution_count": 2,
   "metadata": {
    "collapsed": false
   },
   "outputs": [
    {
     "name": "stdout",
     "output_type": "stream",
     "text": [
      "Directory exists\n",
      "Directory exists\n",
      "Directory exists\n",
      "Directory exists\n"
     ]
    }
   ],
   "source": [
    "#!/usr/bin/env python\n",
    "import os\n",
    "import shutil\n",
    "import csv\n",
    "import glob\n",
    "import pandas as pd\n",
    "import numpy as np\n",
    "\n",
    "%run ../Python_files/util.py\n",
    "\n",
    "tmc_ref_speed_dict =zload('../temp_files/tmc_ref_speed_dict.pkz')\n",
    "\n",
    "# tmc_ref_speed_dict.keys\n",
    "\n",
    "# AM: 7:00 am - 9:00 am\n",
    "# MD: 11:00 am - 13:00 pm\n",
    "# PM: 17:00 pm - 19:00 pm\n",
    "# NT: 21:00 pm - 23:00 pm\n",
    "\n",
    "data_folder = '/home/jzh/INRIX/All_INRIX_2012_filtered/'\n",
    "\n",
    "def data_path(month):\n",
    "    if month == 'Jan':\n",
    "        return data_folder + 'Jan/'\n",
    "    elif month == 'Apr':\n",
    "        return data_folder + 'Apr/'\n",
    "    elif month == 'Jul':\n",
    "        return data_folder + 'Jul/'\n",
    "    elif month == 'Oct':\n",
    "        return data_folder + 'Oct/'\n",
    "    else:\n",
    "        raise IOError(\"Invalid input; please input another month.\")\n",
    "        \n",
    "\n",
    "def create_HDFS(month):\n",
    "    data_dir = data_path(month)\n",
    "    for input_file in glob.glob(data_dir + '*.csv'):\n",
    "        with open(input_file, 'rb') as inp, \\\n",
    "                open(input_file + '.add_first_row', 'wb') as out:\n",
    "            writer = csv.writer(out)\n",
    "            row = ['tmc'] + ['month'] + ['day'] + ['dow'] + ['hour'] + \\\n",
    "                  ['minute'] + ['speed'] + ['avg_speed'] + ['ref_speed'] + \\\n",
    "                  ['travel_time'] + ['confidence_score','c_value']\n",
    "            writer.writerow(row)\n",
    "            for row in csv.reader(inp):\n",
    "                if 'tmc' not in row:\n",
    "                    writer.writerow(row)\n",
    "\n",
    "                \n",
    "    # cf. http://world77.blog.51cto.com/414605/552326\n",
    "    # check if path exists\n",
    "    if os.path.isdir(data_dir):    \n",
    "        print (\"Directory exists\")\n",
    "    else:\n",
    "        print (\"Directory does not exist; please input right dir\") \n",
    "\n",
    "    filelist = []\n",
    "\n",
    "    filelist = os.listdir(data_dir)    # obtain file names\n",
    "\n",
    "    # print filelist\n",
    "\n",
    "    for i in filelist:\n",
    "        NewFile = i.replace(\"csv.add_first_row\", \"csv\")   \n",
    "        # print NewFile     \n",
    "        shutil.move(data_dir + i, data_dir + NewFile)   \n",
    "\n",
    "    df_list = []\n",
    "\n",
    "    for input_file in glob.glob(data_dir + '*.csv'):\n",
    "        df_list.append(pd.read_csv(input_file, dtype={'tmc':str, 'month':np.int64, \n",
    "                                                      'day':np.int64, 'dow':np.int64, 'hour':np.int64, \n",
    "                                                      'minute':np.int64, 'speed':np.float64, \n",
    "                                                      'avg_speed':np.float64, 'ref_speed':np.float64, \n",
    "                                                      'travel_time':np.float64, 'confidence_score':str, \n",
    "                                                      'c_value':str}))\n",
    "\n",
    "    df = pd.concat(df_list)\n",
    "\n",
    "    store = pd.HDFStore(data_folder + 'store_df_%s.h5' %month) \n",
    "\n",
    "    del df['avg_speed']\n",
    "    del df['ref_speed']\n",
    "    del df['confidence_score']\n",
    "    del df['c_value']\n",
    "\n",
    "    store['df_%s' %month] = df  # save result\n",
    "    \n",
    "create_HDFS('Jan')\n",
    "create_HDFS('Apr')\n",
    "create_HDFS('Jul')\n",
    "create_HDFS('Oct')"
   ]
  },
  {
   "cell_type": "code",
   "execution_count": null,
   "metadata": {
    "collapsed": true
   },
   "outputs": [],
   "source": []
  }
 ],
 "metadata": {
  "kernelspec": {
   "display_name": "Python 2",
   "language": "python",
   "name": "python2"
  },
  "language_info": {
   "codemirror_mode": {
    "name": "ipython",
    "version": 2
   },
   "file_extension": ".py",
   "mimetype": "text/x-python",
   "name": "python",
   "nbconvert_exporter": "python",
   "pygments_lexer": "ipython2",
   "version": "2.7.11"
  }
 },
 "nbformat": 4,
 "nbformat_minor": 0
}
