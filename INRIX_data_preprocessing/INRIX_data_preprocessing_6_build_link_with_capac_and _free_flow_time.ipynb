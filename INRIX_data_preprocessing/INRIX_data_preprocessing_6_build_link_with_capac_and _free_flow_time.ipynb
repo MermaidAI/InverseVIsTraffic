{
 "cells": [
  {
   "cell_type": "code",
   "execution_count": 3,
   "metadata": {
    "collapsed": false
   },
   "outputs": [],
   "source": [
    "%run ../Python_files/extract_tmc_links.py"
   ]
  },
  {
   "cell_type": "code",
   "execution_count": 4,
   "metadata": {
    "collapsed": true
   },
   "outputs": [],
   "source": [
    "%run ../Python_files/load_dicts.py"
   ]
  },
  {
   "cell_type": "code",
   "execution_count": 5,
   "metadata": {
    "collapsed": true
   },
   "outputs": [],
   "source": [
    "%run ../Python_files/util.py"
   ]
  },
  {
   "cell_type": "code",
   "execution_count": 6,
   "metadata": {
    "collapsed": true
   },
   "outputs": [],
   "source": [
    "road_seg_inr_capac = zload('../temp_files/road_seg_inr_capac.pkz')"
   ]
  },
  {
   "cell_type": "code",
   "execution_count": 7,
   "metadata": {
    "collapsed": false,
    "scrolled": true
   },
   "outputs": [
    {
     "data": {
      "text/plain": [
       "701"
      ]
     },
     "execution_count": 7,
     "metadata": {},
     "output_type": "execute_result"
    }
   ],
   "source": [
    "len(road_seg_inr_capac.tmc)"
   ]
  },
  {
   "cell_type": "code",
   "execution_count": 8,
   "metadata": {
    "collapsed": false
   },
   "outputs": [],
   "source": [
    "# make dictionaries mapping tmc to capacities\n",
    "tmc_capac_dict_AM = {i:j for (i, j) in zip(road_seg_inr_capac.tmc, road_seg_inr_capac.AB_AM_capac)}\n",
    "tmc_capac_dict_MD = {i:j for (i, j) in zip(road_seg_inr_capac.tmc, road_seg_inr_capac.AB_MD_capac)}\n",
    "tmc_capac_dict_PM = {i:j for (i, j) in zip(road_seg_inr_capac.tmc, road_seg_inr_capac.AB_PM_capac)}\n",
    "tmc_capac_dict_NT = {i:j for (i, j) in zip(road_seg_inr_capac.tmc, road_seg_inr_capac.AB_NT_capac)}\n",
    "\n",
    "# make a dictionary mapping tmc to segment length\n",
    "tmc_length_dict = {i:j for (i, j) in zip(road_seg_inr_capac.tmc, road_seg_inr_capac.shape_length)}"
   ]
  },
  {
   "cell_type": "code",
   "execution_count": 9,
   "metadata": {
    "collapsed": false
   },
   "outputs": [],
   "source": [
    "zdump([tmc_capac_dict_AM, tmc_capac_dict_MD, \\\n",
    "       tmc_capac_dict_PM, tmc_capac_dict_NT, tmc_length_dict], '../temp_files/link_dicts.pkz')"
   ]
  },
  {
   "cell_type": "code",
   "execution_count": 10,
   "metadata": {
    "collapsed": false
   },
   "outputs": [],
   "source": [
    "%run ../Python_files/save_capacity_links.py"
   ]
  },
  {
   "cell_type": "code",
   "execution_count": 11,
   "metadata": {
    "collapsed": false
   },
   "outputs": [],
   "source": [
    "link_1_1, link_1_2, link_2_1, link_2_2, link_3_1, link_3_2, \\\n",
    "\tlink_4_1, link_4_2, link_5_1, link_5_2, link_6_1, link_6_2, \\\n",
    "\tlink_7_1, link_7_2, link_8_1, link_8_2, link_9_1, link_9_2, \\\n",
    "\tlink_10_1, link_10_2, link_11_1, link_11_2, link_12_1, link_12_2 \\\n",
    "    = zload('../temp_files/links_with_capac.pkz')"
   ]
  },
  {
   "cell_type": "code",
   "execution_count": 12,
   "metadata": {
    "collapsed": false
   },
   "outputs": [
    {
     "data": {
      "text/plain": [
       "['129+04311',\n",
       " '129+04312',\n",
       " '129+04313',\n",
       " '129+04314',\n",
       " '129+04315',\n",
       " '129+04316',\n",
       " '129+04317',\n",
       " '129+04318',\n",
       " '129+04319',\n",
       " '129+04321',\n",
       " '129+04322',\n",
       " '129+04323',\n",
       " '129+04324',\n",
       " '129+04325',\n",
       " '129P04311',\n",
       " '129P04312',\n",
       " '129P04313',\n",
       " '129P04314',\n",
       " '129P04316',\n",
       " '129P04317',\n",
       " '129P04318',\n",
       " '129P04319',\n",
       " '129P04320',\n",
       " '129P04321',\n",
       " '129P04322',\n",
       " '129P04323',\n",
       " '129P04324']"
      ]
     },
     "execution_count": 12,
     "metadata": {},
     "output_type": "execute_result"
    }
   ],
   "source": [
    "link_1_1.tmc_set"
   ]
  },
  {
   "cell_type": "code",
   "execution_count": 13,
   "metadata": {
    "collapsed": false
   },
   "outputs": [
    {
     "data": {
      "text/plain": [
       "2"
      ]
     },
     "execution_count": 13,
     "metadata": {},
     "output_type": "execute_result"
    }
   ],
   "source": [
    "link_1_1.term_node"
   ]
  },
  {
   "cell_type": "code",
   "execution_count": 14,
   "metadata": {
    "collapsed": false
   },
   "outputs": [
    {
     "data": {
      "text/plain": [
       "198000L"
      ]
     },
     "execution_count": 14,
     "metadata": {},
     "output_type": "execute_result"
    }
   ],
   "source": [
    "link_3_1.AM_capac"
   ]
  },
  {
   "cell_type": "code",
   "execution_count": 15,
   "metadata": {
    "collapsed": false
   },
   "outputs": [
    {
     "data": {
      "text/plain": [
       "5"
      ]
     },
     "execution_count": 15,
     "metadata": {},
     "output_type": "execute_result"
    }
   ],
   "source": [
    "link_5_1.term_node"
   ]
  },
  {
   "cell_type": "code",
   "execution_count": 16,
   "metadata": {
    "collapsed": false
   },
   "outputs": [
    {
     "data": {
      "text/plain": [
       "['129+04346',\n",
       " '129+04347',\n",
       " '129+04348',\n",
       " '129+04349',\n",
       " '129+04350',\n",
       " '129+04351',\n",
       " '129P04346',\n",
       " '129P04347',\n",
       " '129P04348',\n",
       " '129P04349',\n",
       " '129P04350']"
      ]
     },
     "execution_count": 16,
     "metadata": {},
     "output_type": "execute_result"
    }
   ],
   "source": [
    "link_12_1.tmc_set"
   ]
  },
  {
   "cell_type": "code",
   "execution_count": 18,
   "metadata": {
    "collapsed": false
   },
   "outputs": [
    {
     "data": {
      "text/plain": [
       "0"
      ]
     },
     "execution_count": 18,
     "metadata": {},
     "output_type": "execute_result"
    }
   ],
   "source": [
    "link_1_2.AM_flow"
   ]
  },
  {
   "cell_type": "code",
   "execution_count": null,
   "metadata": {
    "collapsed": true
   },
   "outputs": [],
   "source": []
  },
  {
   "cell_type": "code",
   "execution_count": null,
   "metadata": {
    "collapsed": true
   },
   "outputs": [],
   "source": []
  }
 ],
 "metadata": {
  "kernelspec": {
   "display_name": "Python 2",
   "language": "python",
   "name": "python2"
  },
  "language_info": {
   "codemirror_mode": {
    "name": "ipython",
    "version": 2
   },
   "file_extension": ".py",
   "mimetype": "text/x-python",
   "name": "python",
   "nbconvert_exporter": "python",
   "pygments_lexer": "ipython2",
   "version": "2.7.6"
  }
 },
 "nbformat": 4,
 "nbformat_minor": 0
}
