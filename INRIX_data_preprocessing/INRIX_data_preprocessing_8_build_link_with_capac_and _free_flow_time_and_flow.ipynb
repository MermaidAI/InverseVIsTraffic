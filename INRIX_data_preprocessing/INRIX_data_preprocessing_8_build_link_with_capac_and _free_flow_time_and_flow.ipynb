{
 "cells": [
  {
   "cell_type": "code",
   "execution_count": 17,
   "metadata": {
    "collapsed": true
   },
   "outputs": [],
   "source": [
    "%run ../Python_files/load_dicts.py"
   ]
  },
  {
   "cell_type": "code",
   "execution_count": 18,
   "metadata": {
    "collapsed": false
   },
   "outputs": [],
   "source": [
    "%run ../Python_files/util.py"
   ]
  },
  {
   "cell_type": "code",
   "execution_count": 19,
   "metadata": {
    "collapsed": false
   },
   "outputs": [
    {
     "name": "stdout",
     "output_type": "stream",
     "text": [
      "/home/jzh/Dropbox/Research/Data-driven_estimation_inverse_optimization/Experiments/InverseVIsTraffic/temp_files\n"
     ]
    }
   ],
   "source": [
    "cd '/home/jzh/Dropbox/Research/Data-driven_estimation_inverse_optimization/Experiments/InverseVIsTraffic/temp_files/'"
   ]
  },
  {
   "cell_type": "code",
   "execution_count": 20,
   "metadata": {
    "collapsed": false
   },
   "outputs": [],
   "source": [
    "link_1_1, link_1_2, link_2_1, link_2_2, link_3_1, link_3_2, \\\n",
    "\tlink_4_1, link_4_2, link_5_1, link_5_2, link_6_1, link_6_2, \\\n",
    "\tlink_7_1, link_7_2, link_8_1, link_8_2, link_9_1, link_9_2, \\\n",
    "\tlink_10_1, link_10_2, link_11_1, link_11_2, link_12_1, link_12_2, \\\n",
    "\tlink_13_1, link_13_2, link_14_1, link_14_2, link_15_1, link_15_2, \\\n",
    "\tlink_16_1, link_16_2, link_17_1, link_17_2, link_18_1, link_18_2, \\\n",
    "\tlink_19_1, link_19_2, link_20_1, link_20_2, link_21_1, link_21_2, \\\n",
    "\tlink_22_1, link_22_2 = zload('links_with_capac.pkz')"
   ]
  },
  {
   "cell_type": "code",
   "execution_count": 21,
   "metadata": {
    "collapsed": false
   },
   "outputs": [
    {
     "data": {
      "text/plain": [
       "55"
      ]
     },
     "execution_count": 21,
     "metadata": {},
     "output_type": "execute_result"
    }
   ],
   "source": [
    "tmc_ref_speed_dict['129+04099']"
   ]
  },
  {
   "cell_type": "code",
   "execution_count": 22,
   "metadata": {
    "collapsed": false
   },
   "outputs": [
    {
     "data": {
      "text/plain": [
       "8"
      ]
     },
     "execution_count": 22,
     "metadata": {},
     "output_type": "execute_result"
    }
   ],
   "source": [
    "2 ** 3"
   ]
  },
  {
   "cell_type": "code",
   "execution_count": 23,
   "metadata": {
    "collapsed": false
   },
   "outputs": [
    {
     "data": {
      "text/plain": [
       "75000L"
      ]
     },
     "execution_count": 23,
     "metadata": {},
     "output_type": "execute_result"
    }
   ],
   "source": [
    "link_3_1.AM_capac"
   ]
  },
  {
   "cell_type": "code",
   "execution_count": 24,
   "metadata": {
    "collapsed": false
   },
   "outputs": [
    {
     "data": {
      "text/plain": [
       "15"
      ]
     },
     "execution_count": 24,
     "metadata": {},
     "output_type": "execute_result"
    }
   ],
   "source": [
    "link_5_1.term_node"
   ]
  },
  {
   "cell_type": "code",
   "execution_count": 25,
   "metadata": {
    "collapsed": false
   },
   "outputs": [
    {
     "data": {
      "text/plain": [
       "['129+04099',\n",
       " '129+04100',\n",
       " '129+04101',\n",
       " '129+04102',\n",
       " '129+04103',\n",
       " '129+04104',\n",
       " '129+04105',\n",
       " '129+04106',\n",
       " '129+04107',\n",
       " '129+04108',\n",
       " '129+04109',\n",
       " '129+04110',\n",
       " '129+04111',\n",
       " '129+04112',\n",
       " '129+04113',\n",
       " '129+04114',\n",
       " '129+04115',\n",
       " '129+04116',\n",
       " '129P04098',\n",
       " '129P04099',\n",
       " '129P04100',\n",
       " '129P04101',\n",
       " '129P04102',\n",
       " '129P04103',\n",
       " '129P04104',\n",
       " '129P04105',\n",
       " '129P04106',\n",
       " '129P04107',\n",
       " '129P04108',\n",
       " '129P04109',\n",
       " '129P04110',\n",
       " '129P04111',\n",
       " '129P04113',\n",
       " '129P04114',\n",
       " '129P04115']"
      ]
     },
     "execution_count": 25,
     "metadata": {},
     "output_type": "execute_result"
    }
   ],
   "source": [
    "link_12_1.tmc_set"
   ]
  },
  {
   "cell_type": "code",
   "execution_count": 26,
   "metadata": {
    "collapsed": false
   },
   "outputs": [
    {
     "data": {
      "text/plain": [
       "1.436710981463892"
      ]
     },
     "execution_count": 26,
     "metadata": {},
     "output_type": "execute_result"
    }
   ],
   "source": [
    "link_1_2.free_flow_time"
   ]
  },
  {
   "cell_type": "code",
   "execution_count": null,
   "metadata": {
    "collapsed": true
   },
   "outputs": [],
   "source": []
  }
 ],
 "metadata": {
  "kernelspec": {
   "display_name": "Python 2",
   "language": "python",
   "name": "python2"
  },
  "language_info": {
   "codemirror_mode": {
    "name": "ipython",
    "version": 2
   },
   "file_extension": ".py",
   "mimetype": "text/x-python",
   "name": "python",
   "nbconvert_exporter": "python",
   "pygments_lexer": "ipython2",
   "version": "2.7.11"
  }
 },
 "nbformat": 4,
 "nbformat_minor": 0
}
