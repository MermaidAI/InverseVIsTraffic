{
 "cells": [
  {
   "cell_type": "code",
   "execution_count": 3,
   "metadata": {
    "collapsed": false
   },
   "outputs": [],
   "source": [
    "%run ../Python_files/util.py"
   ]
  },
  {
   "cell_type": "code",
   "execution_count": 4,
   "metadata": {
    "collapsed": true
   },
   "outputs": [],
   "source": [
    "tmc_ref_speed_dict =zload('../temp_files/tmc_ref_speed_dict.pkz')"
   ]
  },
  {
   "cell_type": "code",
   "execution_count": 5,
   "metadata": {
    "collapsed": false
   },
   "outputs": [
    {
     "data": {
      "text/plain": [
       "<function keys>"
      ]
     },
     "execution_count": 5,
     "metadata": {},
     "output_type": "execute_result"
    }
   ],
   "source": [
    "tmc_ref_speed_dict.keys"
   ]
  },
  {
   "cell_type": "code",
   "execution_count": 6,
   "metadata": {
    "collapsed": true
   },
   "outputs": [],
   "source": [
    "# AM: 7:00 am - 9:00 am\n",
    "# MD: 11:00 am - 13:00 pm\n",
    "# PM: 17:00 pm - 19:00 pm\n",
    "# NT: 21:00 pm - 23:00 pm"
   ]
  },
  {
   "cell_type": "code",
   "execution_count": 7,
   "metadata": {
    "collapsed": true
   },
   "outputs": [],
   "source": [
    "class TMC_Speed(object):\n",
    "    def __init__(self, tmc, day, speed, travel_time):\n",
    "        self.tmc = tmc\n",
    "        self.day = day\n",
    "        self.speed = speed\n",
    "        self.travel_time = travel_time\n",
    "    def ave_speed(self):\n",
    "        return sum([self.speed[i] * self.travel_time[i] for i in range(len(self.speed))]) / sum(self.travel_time)"
   ]
  },
  {
   "cell_type": "code",
   "execution_count": 8,
   "metadata": {
    "collapsed": true
   },
   "outputs": [],
   "source": [
    "data_folder = '/home/jzh/INRIX/All_INRIX_2012_filtered/'"
   ]
  },
  {
   "cell_type": "code",
   "execution_count": 8,
   "metadata": {
    "collapsed": false
   },
   "outputs": [],
   "source": [
    "import csv\n",
    "import glob\n",
    "\n",
    "for input_file in glob.glob(data_folder + 'Oct/' + '*.csv'):\n",
    "    with open(input_file, 'rb') as inp, \\\n",
    "            open(input_file + '.add_first_row', 'wb') as out:\n",
    "        writer = csv.writer(out)\n",
    "        row = ['tmc'] + ['month'] + ['day'] + ['dow'] + ['hour'] + \\\n",
    "              ['minute'] + ['speed'] + ['avg_speed'] + ['ref_speed'] + \\\n",
    "              ['travel_time'] + ['confidence_score','c_value']\n",
    "        writer.writerow(row)\n",
    "        for row in csv.reader(inp):\n",
    "            writer.writerow(row)"
   ]
  },
  {
   "cell_type": "code",
   "execution_count": 9,
   "metadata": {
    "collapsed": false
   },
   "outputs": [
    {
     "name": "stdout",
     "output_type": "stream",
     "text": [
      "Directory exists\n",
      "['oct000000000038.csv.gz.filtered.csv', 'oct000000000034.csv.gz.filtered.csv.add_first_row', 'oct000000000047.csv.gz.filtered.csv', 'oct000000000063.csv.gz.filtered.csv.add_first_row', 'oct000000000017.csv.gz.filtered.csv', 'oct000000000035.csv.gz.filtered.csv', 'oct000000000041.csv.gz.filtered.csv.add_first_row', 'oct000000000057.csv.gz.filtered.csv', 'oct000000000037.csv.gz.filtered.csv', 'oct000000000068.csv.gz.filtered.csv.add_first_row', 'oct000000000051.csv.gz.filtered.csv.add_first_row', 'oct000000000049.csv.gz.filtered.csv.add_first_row', 'oct000000000012.csv.gz.filtered.csv.add_first_row', 'oct000000000050.csv.gz.filtered.csv.add_first_row', 'oct000000000042.csv.gz.filtered.csv.add_first_row', 'oct000000000034.csv.gz.filtered.csv', 'oct000000000066.csv.gz.filtered.csv', 'oct000000000001.csv.gz.filtered.csv.add_first_row', 'oct000000000063.csv.gz.filtered.csv', 'oct000000000060.csv.gz.filtered.csv.add_first_row', 'oct000000000025.csv.gz.filtered.csv.add_first_row', 'oct000000000064.csv.gz.filtered.csv', 'oct000000000028.csv.gz.filtered.csv.add_first_row', 'oct000000000026.csv.gz.filtered.csv.add_first_row', 'oct000000000074.csv.gz.filtered.csv', 'oct000000000078.csv.gz.filtered.csv', 'oct000000000015.csv.gz.filtered.csv.add_first_row', 'oct000000000029.csv.gz.filtered.csv.add_first_row', 'oct000000000024.csv.gz.filtered.csv', 'oct000000000023.csv.gz.filtered.csv.add_first_row', 'oct000000000074.csv.gz.filtered.csv.add_first_row', 'oct000000000048.csv.gz.filtered.csv.add_first_row', 'oct000000000009.csv.gz.filtered.csv', 'oct000000000059.csv.gz.filtered.csv', 'oct000000000072.csv.gz.filtered.csv.add_first_row', 'oct000000000076.csv.gz.filtered.csv.add_first_row', 'oct000000000073.csv.gz.filtered.csv', 'oct000000000075.csv.gz.filtered.csv.add_first_row', 'oct000000000005.csv.gz.filtered.csv.add_first_row', 'oct000000000061.csv.gz.filtered.csv.add_first_row', 'oct000000000081.csv.gz.filtered.csv.add_first_row', 'oct000000000058.csv.gz.filtered.csv', 'oct000000000010.csv.gz.filtered.csv.add_first_row', 'oct000000000080.csv.gz.filtered.csv.add_first_row', 'oct000000000067.csv.gz.filtered.csv.add_first_row', 'oct000000000026.csv.gz.filtered.csv', 'oct000000000071.csv.gz.filtered.csv.add_first_row', 'oct000000000032.csv.gz.filtered.csv', 'oct000000000033.csv.gz.filtered.csv', 'oct000000000079.csv.gz.filtered.csv', 'oct000000000046.csv.gz.filtered.csv', 'oct000000000031.csv.gz.filtered.csv', 'oct000000000045.csv.gz.filtered.csv', 'oct000000000022.csv.gz.filtered.csv', 'oct000000000053.csv.gz.filtered.csv.add_first_row', 'oct000000000055.csv.gz.filtered.csv.add_first_row', 'oct000000000049.csv.gz.filtered.csv', 'oct000000000016.csv.gz.filtered.csv', 'oct000000000022.csv.gz.filtered.csv.add_first_row', 'oct000000000047.csv.gz.filtered.csv.add_first_row', 'oct000000000069.csv.gz.filtered.csv', 'oct000000000064.csv.gz.filtered.csv.add_first_row', 'oct000000000030.csv.gz.filtered.csv.add_first_row', 'oct000000000071.csv.gz.filtered.csv', 'oct000000000027.csv.gz.filtered.csv', 'oct000000000013.csv.gz.filtered.csv.add_first_row', 'oct000000000041.csv.gz.filtered.csv', 'oct000000000073.csv.gz.filtered.csv.add_first_row', 'oct000000000082.csv.gz.filtered.csv.add_first_row', 'oct000000000039.csv.gz.filtered.csv.add_first_row', 'oct000000000082.csv.gz.filtered.csv', 'oct000000000021.csv.gz.filtered.csv', 'oct000000000054.csv.gz.filtered.csv', 'oct000000000004.csv.gz.filtered.csv', 'oct000000000015.csv.gz.filtered.csv', 'oct000000000013.csv.gz.filtered.csv', 'oct000000000076.csv.gz.filtered.csv', 'oct000000000024.csv.gz.filtered.csv.add_first_row', 'oct000000000000.csv.gz.filtered.csv', 'oct000000000018.csv.gz.filtered.csv', 'oct000000000062.csv.gz.filtered.csv', 'oct000000000040.csv.gz.filtered.csv', 'oct000000000060.csv.gz.filtered.csv', 'oct000000000019.csv.gz.filtered.csv', 'oct000000000052.csv.gz.filtered.csv.add_first_row', 'oct000000000050.csv.gz.filtered.csv', 'oct000000000032.csv.gz.filtered.csv.add_first_row', 'oct000000000065.csv.gz.filtered.csv.add_first_row', 'oct000000000038.csv.gz.filtered.csv.add_first_row', 'oct000000000017.csv.gz.filtered.csv.add_first_row', 'oct000000000006.csv.gz.filtered.csv', 'oct000000000003.csv.gz.filtered.csv', 'oct000000000065.csv.gz.filtered.csv', 'oct000000000028.csv.gz.filtered.csv', 'oct000000000002.csv.gz.filtered.csv', 'oct000000000011.csv.gz.filtered.csv', 'oct000000000031.csv.gz.filtered.csv.add_first_row', 'oct000000000011.csv.gz.filtered.csv.add_first_row', 'oct000000000048.csv.gz.filtered.csv', 'oct000000000079.csv.gz.filtered.csv.add_first_row', 'oct000000000009.csv.gz.filtered.csv.add_first_row', 'oct000000000018.csv.gz.filtered.csv.add_first_row', 'oct000000000066.csv.gz.filtered.csv.add_first_row', 'oct000000000070.csv.gz.filtered.csv', 'oct000000000059.csv.gz.filtered.csv.add_first_row', 'oct000000000044.csv.gz.filtered.csv', 'oct000000000051.csv.gz.filtered.csv', 'oct000000000068.csv.gz.filtered.csv', 'oct000000000061.csv.gz.filtered.csv', 'oct000000000003.csv.gz.filtered.csv.add_first_row', 'oct000000000043.csv.gz.filtered.csv', 'oct000000000025.csv.gz.filtered.csv', 'oct000000000033.csv.gz.filtered.csv.add_first_row', 'oct000000000035.csv.gz.filtered.csv.add_first_row', 'oct000000000008.csv.gz.filtered.csv.add_first_row', 'oct000000000014.csv.gz.filtered.csv.add_first_row', 'oct000000000036.csv.gz.filtered.csv.add_first_row', 'oct000000000081.csv.gz.filtered.csv', 'oct000000000004.csv.gz.filtered.csv.add_first_row', 'oct000000000023.csv.gz.filtered.csv', 'oct000000000043.csv.gz.filtered.csv.add_first_row', 'oct000000000007.csv.gz.filtered.csv.add_first_row', 'oct000000000046.csv.gz.filtered.csv.add_first_row', 'oct000000000002.csv.gz.filtered.csv.add_first_row', 'oct000000000070.csv.gz.filtered.csv.add_first_row', 'oct000000000057.csv.gz.filtered.csv.add_first_row', 'oct000000000077.csv.gz.filtered.csv', 'oct000000000037.csv.gz.filtered.csv.add_first_row', 'oct000000000007.csv.gz.filtered.csv', 'oct000000000045.csv.gz.filtered.csv.add_first_row', 'oct000000000054.csv.gz.filtered.csv.add_first_row', 'oct000000000055.csv.gz.filtered.csv', 'oct000000000016.csv.gz.filtered.csv.add_first_row', 'oct000000000020.csv.gz.filtered.csv.add_first_row', 'oct000000000042.csv.gz.filtered.csv', 'oct000000000010.csv.gz.filtered.csv', 'oct000000000080.csv.gz.filtered.csv', 'oct000000000062.csv.gz.filtered.csv.add_first_row', 'oct000000000052.csv.gz.filtered.csv', 'oct000000000019.csv.gz.filtered.csv.add_first_row', 'oct000000000014.csv.gz.filtered.csv', 'oct000000000036.csv.gz.filtered.csv', 'oct000000000075.csv.gz.filtered.csv', 'oct000000000012.csv.gz.filtered.csv', 'oct000000000001.csv.gz.filtered.csv', 'oct000000000072.csv.gz.filtered.csv', 'oct000000000058.csv.gz.filtered.csv.add_first_row', 'oct000000000039.csv.gz.filtered.csv', 'oct000000000044.csv.gz.filtered.csv.add_first_row', 'oct000000000000.csv.gz.filtered.csv.add_first_row', 'oct000000000005.csv.gz.filtered.csv', 'oct000000000029.csv.gz.filtered.csv', 'oct000000000021.csv.gz.filtered.csv.add_first_row', 'oct000000000020.csv.gz.filtered.csv', 'oct000000000056.csv.gz.filtered.csv', 'oct000000000067.csv.gz.filtered.csv', 'oct000000000069.csv.gz.filtered.csv.add_first_row', 'oct000000000008.csv.gz.filtered.csv', 'oct000000000040.csv.gz.filtered.csv.add_first_row', 'oct000000000077.csv.gz.filtered.csv.add_first_row', 'oct000000000006.csv.gz.filtered.csv.add_first_row', 'oct000000000030.csv.gz.filtered.csv', 'oct000000000027.csv.gz.filtered.csv.add_first_row', 'oct000000000056.csv.gz.filtered.csv.add_first_row', 'oct000000000053.csv.gz.filtered.csv', 'oct000000000078.csv.gz.filtered.csv.add_first_row']\n"
     ]
    }
   ],
   "source": [
    "# cf. http://world77.blog.51cto.com/414605/552326\n",
    "\n",
    "#!/usr/bin/env python\n",
    "import os\n",
    "import shutil\n",
    "\n",
    "data_dir = data_folder + 'Oct/'\n",
    "\n",
    "# 判断是否存在路径\n",
    "if os.path.isdir(data_dir):    \n",
    "    print (\"Directory exists\")\n",
    "else:\n",
    "    print (\"Directory does not exist; please input right dir\")    # 如果不存在，就提示\n",
    "\n",
    "filelist = []\n",
    "\n",
    "filelist = os.listdir(data_dir)    # 得到文件名\n",
    "\n",
    "print filelist"
   ]
  },
  {
   "cell_type": "code",
   "execution_count": 10,
   "metadata": {
    "collapsed": false
   },
   "outputs": [],
   "source": [
    "for i in filelist:\n",
    "    NewFile = i.replace(\"csv.add_first_row\", \"csv\")   \n",
    "    # print NewFile     \n",
    "    shutil.move(data_dir + i, data_dir + NewFile)   "
   ]
  },
  {
   "cell_type": "code",
   "execution_count": 11,
   "metadata": {
    "collapsed": false
   },
   "outputs": [],
   "source": [
    "import glob\n",
    "import pandas as pd\n",
    "\n",
    "df_list = []\n",
    "\n",
    "for input_file in glob.glob(data_folder + 'Oct/' + '*.csv'):\n",
    "    df_list.append(pd.read_csv(input_file))\n",
    "\n",
    "df_Oct = pd.concat(df_list)"
   ]
  },
  {
   "cell_type": "code",
   "execution_count": 9,
   "metadata": {
    "collapsed": true
   },
   "outputs": [],
   "source": [
    "import pandas as pd\n",
    "\n",
    "store = pd.HDFStore(data_folder + 'store_df_Oct.h5')"
   ]
  },
  {
   "cell_type": "code",
   "execution_count": 13,
   "metadata": {
    "collapsed": true
   },
   "outputs": [],
   "source": [
    "del df_Oct['minute']\n",
    "del df_Oct['avg_speed']\n",
    "del df_Oct['ref_speed']\n",
    "del df_Oct['confidence_score']\n",
    "del df_Oct['c_value']"
   ]
  },
  {
   "cell_type": "code",
   "execution_count": 14,
   "metadata": {
    "collapsed": true
   },
   "outputs": [],
   "source": [
    "store['df_Oct'] = df_Oct  # save result"
   ]
  },
  {
   "cell_type": "code",
   "execution_count": 10,
   "metadata": {
    "collapsed": false
   },
   "outputs": [],
   "source": [
    "df_Oct = store['df_Oct'] "
   ]
  },
  {
   "cell_type": "code",
   "execution_count": null,
   "metadata": {
    "collapsed": false
   },
   "outputs": [],
   "source": [
    "import glob\n",
    "\n",
    "i = 0\n",
    "\n",
    "for tmc in tmc_ref_speed_dict.keys():\n",
    "    for day in range(32)[1:]:\n",
    "        i = i + 1\n",
    "        df_Oct_AM_tmc_day = df_Oct.loc[(df_Oct['tmc'] == tmc) & (df_Oct['day'] == day) & \\\n",
    "                                       ((df_Oct['hour'] == 7) | (df_Oct['hour'] == 8))]\n",
    "        dump(df_Oct_AM_tmc_day, data_folder + 'Oct_AM/' + 'df_Oct_AM_tmc_day_list_Oct_%s_%s' %(tmc, day))\n",
    "        #df_Oct = df_Oct.loc[((df_Oct['tmc'] != tmc) | (df_Oct['day'] != day) | (df_Oct['hour'] != 6))]\n",
    "        if i % 31 == 0:\n",
    "            print(\"%d df's created\" %i)\n",
    "        #print(\"We still need to add %d elements to df_Oct_AM_tmc_day_list_Oct\\n\" \\\n",
    "         #   %(31 * len(tmc_ref_speed_dict.keys()) - len(df_Oct_AM_tmc_day_list_Oct)))\n",
    "        #print('-' * 70)\n",
    "\n",
    "#store['df_Oct_AM_tmc_day_list_Oct'] = df_Oct_AM_tmc_day_list_Oct"
   ]
  },
  {
   "cell_type": "code",
   "execution_count": null,
   "metadata": {
    "collapsed": true
   },
   "outputs": [],
   "source": []
  }
 ],
 "metadata": {
  "kernelspec": {
   "display_name": "Python 2",
   "language": "python",
   "name": "python2"
  },
  "language_info": {
   "codemirror_mode": {
    "name": "ipython",
    "version": 2
   },
   "file_extension": ".py",
   "mimetype": "text/x-python",
   "name": "python",
   "nbconvert_exporter": "python",
   "pygments_lexer": "ipython2",
   "version": "2.7.10"
  }
 },
 "nbformat": 4,
 "nbformat_minor": 0
}
