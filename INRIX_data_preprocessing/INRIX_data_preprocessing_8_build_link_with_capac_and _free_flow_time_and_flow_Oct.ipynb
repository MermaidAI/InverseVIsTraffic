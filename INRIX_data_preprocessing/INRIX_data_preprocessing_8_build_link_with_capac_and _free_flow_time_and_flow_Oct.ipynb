{
 "cells": [
  {
   "cell_type": "code",
   "execution_count": 1,
   "metadata": {
    "collapsed": true
   },
   "outputs": [],
   "source": [
    "%run ../Python_files/load_dicts.py"
   ]
  },
  {
   "cell_type": "code",
   "execution_count": 2,
   "metadata": {
    "collapsed": false
   },
   "outputs": [],
   "source": [
    "%run ../Python_files/util.py"
   ]
  },
  {
   "cell_type": "code",
   "execution_count": 3,
   "metadata": {
    "collapsed": false
   },
   "outputs": [
    {
     "name": "stdout",
     "output_type": "stream",
     "text": [
      "/home/jzh/Dropbox/Research/Data-driven_estimation_inverse_optimization/Experiments/InverseVIsTraffic/temp_files\n"
     ]
    }
   ],
   "source": [
    "cd '/home/jzh/Dropbox/Research/Data-driven_estimation_inverse_optimization/Experiments/InverseVIsTraffic/temp_files/'"
   ]
  },
  {
   "cell_type": "code",
   "execution_count": 4,
   "metadata": {
    "collapsed": true
   },
   "outputs": [],
   "source": [
    "link_1_1, link_1_2, link_2_1, link_2_2, link_3_1, link_3_2, \\\n",
    "\tlink_4_1, link_4_2, link_5_1, link_5_2, link_6_1, link_6_2, \\\n",
    "\tlink_7_1, link_7_2, link_8_1, link_8_2, link_9_1, link_9_2, \\\n",
    "\tlink_10_1, link_10_2, link_11_1, link_11_2, link_12_1, link_12_2, \\\n",
    "\tlink_13_1, link_13_2, link_14_1, link_14_2, link_15_1, link_15_2, \\\n",
    "\tlink_16_1, link_16_2, link_17_1, link_17_2, link_18_1, link_18_2, \\\n",
    "\tlink_19_1, link_19_2, link_20_1, link_20_2, link_21_1, link_21_2, \\\n",
    "\tlink_22_1, link_22_2 = zload('../temp_files/links_with_capac.pkz')"
   ]
  },
  {
   "cell_type": "code",
   "execution_count": 5,
   "metadata": {
    "collapsed": true
   },
   "outputs": [],
   "source": [
    "# 0 <---> link_1_1, 1 <---> link_1_2, 2 <---> link_2_1, 3 <---> link_2_2\n",
    "# 4 <---> link_3_1, 5 <---> link_3_2, 6 <---> link_4_1, 7 <---> link_4_2\n",
    "# 8 <---> link_5_1, 9 <---> link_5_2, 10 <---> link_6_1, 11 <---> link_6_2\n",
    "# 12 <---> link_7_1, 13 <---> link_7_2, 14 <---> link_8_1, 15 <---> link_8_2\n",
    "# 16 <---> link_9_1, 17 <---> link_9_2, 18 <---> link_10_1, 19 <---> link_10_2\n",
    "# 20 <---> link_11_1, 21 <---> link_11_2, 22 <---> link_12_1, 23 <---> link_12_2\n",
    "# 24 <---> link_13_1, 25 <---> link_13_2, 26 <---> link_14_1, 27 <---> link_14_2\n",
    "# 28 <---> link_15_1, 29 <---> link_15_2, 30 <---> link_16_1, 31 <---> link_16_2\n",
    "# 32 <---> link_17_1, 33 <---> link_17_2, 34 <---> link_18_1, 35 <---> link_18_2\n",
    "# 36 <---> link_19_1, 37 <---> link_19_2, 38 <---> link_20_1, 39 <---> link_20_2\n",
    "# 40 <---> link_21_1, 41 <---> link_21_2, 42 <---> link_22_1, 43 <---> link_22_2\n",
    "\n",
    "link_with_capac_list = list(zload('links_with_capac.pkz'))"
   ]
  },
  {
   "cell_type": "code",
   "execution_count": 6,
   "metadata": {
    "collapsed": false
   },
   "outputs": [
    {
     "data": {
      "text/plain": [
       "44"
      ]
     },
     "execution_count": 6,
     "metadata": {},
     "output_type": "execute_result"
    }
   ],
   "source": [
    "len(link_with_capac_list)"
   ]
  },
  {
   "cell_type": "code",
   "execution_count": 7,
   "metadata": {
    "collapsed": false
   },
   "outputs": [
    {
     "data": {
      "text/plain": [
       "701"
      ]
     },
     "execution_count": 7,
     "metadata": {},
     "output_type": "execute_result"
    }
   ],
   "source": [
    "len(tmc_capac_dict_AM)"
   ]
  },
  {
   "cell_type": "code",
   "execution_count": 8,
   "metadata": {
    "collapsed": false
   },
   "outputs": [
    {
     "data": {
      "text/plain": [
       "<util.Link_with_Free_Flow_Time at 0x7fe18ebb7f90>"
      ]
     },
     "execution_count": 8,
     "metadata": {},
     "output_type": "execute_result"
    }
   ],
   "source": [
    "link_with_capac_list[0]"
   ]
  },
  {
   "cell_type": "code",
   "execution_count": 9,
   "metadata": {
    "collapsed": false
   },
   "outputs": [
    {
     "data": {
      "text/plain": [
       "0"
      ]
     },
     "execution_count": 9,
     "metadata": {},
     "output_type": "execute_result"
    }
   ],
   "source": [
    "link_1_1.AM_flow"
   ]
  },
  {
   "cell_type": "code",
   "execution_count": 10,
   "metadata": {
    "collapsed": false
   },
   "outputs": [
    {
     "data": {
      "text/plain": [
       "55"
      ]
     },
     "execution_count": 10,
     "metadata": {},
     "output_type": "execute_result"
    }
   ],
   "source": [
    "tmc_ref_speed_dict['129+04099']"
   ]
  },
  {
   "cell_type": "code",
   "execution_count": 11,
   "metadata": {
    "collapsed": true
   },
   "outputs": [],
   "source": [
    "road_seg_inr_capac = zload('../temp_files/road_seg_inr_capac.pkz')"
   ]
  },
  {
   "cell_type": "code",
   "execution_count": 12,
   "metadata": {
    "collapsed": false
   },
   "outputs": [
    {
     "data": {
      "text/plain": [
       "701"
      ]
     },
     "execution_count": 12,
     "metadata": {},
     "output_type": "execute_result"
    }
   ],
   "source": [
    "len(road_seg_inr_capac.tmc)"
   ]
  },
  {
   "cell_type": "code",
   "execution_count": 13,
   "metadata": {
    "collapsed": false
   },
   "outputs": [],
   "source": [
    "# load tmc-day-ave_speed data for AM peak of October\n",
    "tmc_day_speed_dict_Oct_AM = zload('Oct_AM/tmc_day_speed_dict.pkz')\n",
    "\n",
    "# load tmc-day-ave_speed data for MD of October\n",
    "tmc_day_speed_dict_Oct_MD = zload('Oct_MD/tmc_day_speed_dict.pkz')\n",
    "\n",
    "# load tmc-day-ave_speed data for PM peak of October\n",
    "tmc_day_speed_dict_Oct_PM = zload('Oct_PM/tmc_day_speed_dict.pkz')\n",
    "\n",
    "# load tmc-day-ave_speed data for NT of October\n",
    "tmc_day_speed_dict_Oct_NT = zload('Oct_NT/tmc_day_speed_dict.pkz')"
   ]
  },
  {
   "cell_type": "code",
   "execution_count": 14,
   "metadata": {
    "collapsed": false
   },
   "outputs": [
    {
     "data": {
      "text/plain": [
       "30.768747052350278"
      ]
     },
     "execution_count": 14,
     "metadata": {},
     "output_type": "execute_result"
    }
   ],
   "source": [
    "tmc_day_speed_dict_Oct_AM['129+040991'].ave_speed()"
   ]
  },
  {
   "cell_type": "code",
   "execution_count": 16,
   "metadata": {
    "collapsed": false
   },
   "outputs": [
    {
     "data": {
      "text/plain": [
       "30.199260571516632"
      ]
     },
     "execution_count": 16,
     "metadata": {},
     "output_type": "execute_result"
    }
   ],
   "source": [
    "tmc_day_speed_dict_Oct_NT['129+040991'].ave_speed()"
   ]
  },
  {
   "cell_type": "code",
   "execution_count": 17,
   "metadata": {
    "collapsed": false
   },
   "outputs": [],
   "source": [
    "tmc_day_capac_flow_dict = {}\n",
    "\n",
    "for i in range(len(road_seg_inr_capac.tmc)):\n",
    "    for day in range(32)[1:]:\n",
    "        tmc = road_seg_inr_capac.tmc[i]\n",
    "        road_num = road_seg_inr_capac.road_num[i]\n",
    "        shape_length = road_seg_inr_capac.shape_length[i]\n",
    "        day = day\n",
    "        AB_AM_capac = road_seg_inr_capac.AB_AM_capac[i]\n",
    "        AB_MD_capac = road_seg_inr_capac.AB_MD_capac[i]\n",
    "        AB_PM_capac = road_seg_inr_capac.AB_PM_capac[i]\n",
    "        AB_NT_capac = road_seg_inr_capac.AB_NT_capac[i]\n",
    "        AM_ave_speed = tmc_day_speed_dict_Oct_AM[tmc + str(day)].ave_speed()\n",
    "        MD_ave_speed = tmc_day_speed_dict_Oct_MD[tmc + str(day)].ave_speed()\n",
    "        PM_ave_speed = tmc_day_speed_dict_Oct_PM[tmc + str(day)].ave_speed()\n",
    "        NT_ave_speed = tmc_day_speed_dict_Oct_NT[tmc + str(day)].ave_speed()\n",
    "        tmc_day_capac_flow = RoadSegInrCapacFlow(tmc, road_num, shape_length, day, \\\n",
    "                                                  AB_AM_capac, AB_MD_capac, \\\n",
    "                                                  AB_PM_capac, AB_NT_capac, \\\n",
    "                                                  AM_ave_speed, MD_ave_speed, \\\n",
    "                                                  PM_ave_speed, NT_ave_speed)\n",
    "        tmc_day_capac_flow_dict[tmc + str(day)] = tmc_day_capac_flow"
   ]
  },
  {
   "cell_type": "code",
   "execution_count": 18,
   "metadata": {
    "collapsed": false
   },
   "outputs": [
    {
     "data": {
      "text/plain": [
       "21731"
      ]
     },
     "execution_count": 18,
     "metadata": {},
     "output_type": "execute_result"
    }
   ],
   "source": [
    "len(tmc_day_capac_flow_dict)"
   ]
  },
  {
   "cell_type": "code",
   "execution_count": 19,
   "metadata": {
    "collapsed": true
   },
   "outputs": [],
   "source": [
    "zdump(tmc_day_capac_flow_dict, 'tmc_day_capac_flow_dict_Oct.pkz')"
   ]
  },
  {
   "cell_type": "code",
   "execution_count": 20,
   "metadata": {
    "collapsed": false
   },
   "outputs": [
    {
     "data": {
      "text/plain": [
       "17500L"
      ]
     },
     "execution_count": 20,
     "metadata": {},
     "output_type": "execute_result"
    }
   ],
   "source": [
    "tmc_day_capac_flow_dict['129+04099' + '7'].AB_AM_capac"
   ]
  },
  {
   "cell_type": "code",
   "execution_count": 21,
   "metadata": {
    "collapsed": false
   },
   "outputs": [
    {
     "data": {
      "text/plain": [
       "14619.761363719808"
      ]
     },
     "execution_count": 21,
     "metadata": {},
     "output_type": "execute_result"
    }
   ],
   "source": [
    "tmc_day_capac_flow_dict['129+04099' + '7'].PM_flow()"
   ]
  },
  {
   "cell_type": "code",
   "execution_count": 22,
   "metadata": {
    "collapsed": false
   },
   "outputs": [],
   "source": [
    "day = 1\n",
    "\n",
    "link_12_1.AM_flow = sum([tmc_day_capac_flow_dict[tmc + str(day)].AM_flow() for tmc in link_12_1.tmc_set])"
   ]
  },
  {
   "cell_type": "code",
   "execution_count": 23,
   "metadata": {
    "collapsed": false
   },
   "outputs": [
    {
     "data": {
      "text/plain": [
       "35"
      ]
     },
     "execution_count": 23,
     "metadata": {},
     "output_type": "execute_result"
    }
   ],
   "source": [
    "len([tmc_day_capac_flow_dict[tmc + str(day)].AM_flow() for tmc in link_12_1.tmc_set])"
   ]
  },
  {
   "cell_type": "code",
   "execution_count": 24,
   "metadata": {
    "collapsed": false
   },
   "outputs": [
    {
     "data": {
      "text/plain": [
       "35"
      ]
     },
     "execution_count": 24,
     "metadata": {},
     "output_type": "execute_result"
    }
   ],
   "source": [
    "len(link_12_1.tmc_set)"
   ]
  },
  {
   "cell_type": "code",
   "execution_count": 25,
   "metadata": {
    "collapsed": false
   },
   "outputs": [
    {
     "data": {
      "text/plain": [
       "0.9578073209759281"
      ]
     },
     "execution_count": 25,
     "metadata": {},
     "output_type": "execute_result"
    }
   ],
   "source": [
    "link_1_2.free_flow_time"
   ]
  },
  {
   "cell_type": "code",
   "execution_count": 26,
   "metadata": {
    "collapsed": false
   },
   "outputs": [],
   "source": [
    "link_day_Oct_dict = {}\n",
    "\n",
    "for day in range(32)[1:]:\n",
    "    i = 0\n",
    "    for link_with_capac in link_with_capac_list:\n",
    "        link_with_capac.AM_flow = sum([tmc_day_capac_flow_dict[tmc + str(day)].AM_flow() \\\n",
    "                                 for tmc in link_with_capac.tmc_set])\n",
    "        link_with_capac.MD_flow = sum([tmc_day_capac_flow_dict[tmc + str(day)].MD_flow() \\\n",
    "                                 for tmc in link_with_capac.tmc_set])\n",
    "        link_with_capac.PM_flow = sum([tmc_day_capac_flow_dict[tmc + str(day)].PM_flow() \\\n",
    "                                 for tmc in link_with_capac.tmc_set])\n",
    "        link_with_capac.NT_flow = sum([tmc_day_capac_flow_dict[tmc + str(day)].NT_flow() \\\n",
    "                                 for tmc in link_with_capac.tmc_set])\n",
    "        link_day_Oct_dict['link_' + str(i) + '_' + str(day)] = link_with_capac\n",
    "        i = i + 1\n",
    "\n",
    "zdump(link_day_Oct_dict, 'link_day_Oct_dict.pkz')"
   ]
  },
  {
   "cell_type": "code",
   "execution_count": 29,
   "metadata": {
    "collapsed": false
   },
   "outputs": [
    {
     "data": {
      "text/plain": [
       "51159.226228731059"
      ]
     },
     "execution_count": 29,
     "metadata": {},
     "output_type": "execute_result"
    }
   ],
   "source": [
    "link_day_Oct_dict['link_43_1'].PM_flow"
   ]
  },
  {
   "cell_type": "code",
   "execution_count": null,
   "metadata": {
    "collapsed": true
   },
   "outputs": [],
   "source": []
  }
 ],
 "metadata": {
  "kernelspec": {
   "display_name": "Python 2",
   "language": "python",
   "name": "python2"
  },
  "language_info": {
   "codemirror_mode": {
    "name": "ipython",
    "version": 2
   },
   "file_extension": ".py",
   "mimetype": "text/x-python",
   "name": "python",
   "nbconvert_exporter": "python",
   "pygments_lexer": "ipython2",
   "version": "2.7.11"
  }
 },
 "nbformat": 4,
 "nbformat_minor": 0
}
