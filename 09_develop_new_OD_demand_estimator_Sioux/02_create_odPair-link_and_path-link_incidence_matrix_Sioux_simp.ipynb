{
 "cells": [
  {
   "cell_type": "code",
   "execution_count": 1,
   "metadata": {
    "collapsed": false
   },
   "outputs": [],
   "source": [
    "%run ../Python_files/create_path-link_incidence_matrix_Sioux_simp.py"
   ]
  },
  {
   "cell_type": "code",
   "execution_count": 2,
   "metadata": {
    "collapsed": false
   },
   "outputs": [
    {
     "data": {
      "text/plain": [
       "(132, 392)"
      ]
     },
     "execution_count": 2,
     "metadata": {},
     "output_type": "execute_result"
    }
   ],
   "source": [
    "np.shape(P)"
   ]
  },
  {
   "cell_type": "code",
   "execution_count": 3,
   "metadata": {
    "collapsed": true
   },
   "outputs": [],
   "source": [
    "P_dict = {}\n",
    "\n",
    "for i in range(np.shape(P)[0]):\n",
    "    for j in range(np.shape(P)[1]):\n",
    "        key = str(i+1) + '-' + str(j+1)\n",
    "        if (P[i, j] > 1e-1):\n",
    "            # P_dict[key] = P[i, j]\n",
    "            P_dict[key] = 1\n",
    "        \n",
    "with open('../temp_files/od_pair_route_incidence_Sioux_simp.json', 'w') as json_file:\n",
    "    json.dump(P_dict, json_file)"
   ]
  },
  {
   "cell_type": "code",
   "execution_count": 4,
   "metadata": {
    "collapsed": false
   },
   "outputs": [
    {
     "data": {
      "text/plain": [
       "(30, 392)"
      ]
     },
     "execution_count": 4,
     "metadata": {},
     "output_type": "execute_result"
    }
   ],
   "source": [
    "np.shape(A)"
   ]
  },
  {
   "cell_type": "code",
   "execution_count": 5,
   "metadata": {
    "collapsed": true
   },
   "outputs": [],
   "source": [
    "A_dict = {}\n",
    "\n",
    "for i in range(np.shape(A)[0]):\n",
    "    for j in range(np.shape(A)[1]):\n",
    "        key = str(i+1) + '-' + str(j+1)\n",
    "        if (A[i, j] > 1e-3):\n",
    "            A_dict[key] = A[i, j]\n",
    "        \n",
    "with open('../temp_files/link_route_incidence_Sioux_simp.json', 'w') as json_file:\n",
    "    json.dump(A_dict, json_file)"
   ]
  },
  {
   "cell_type": "code",
   "execution_count": 6,
   "metadata": {
    "collapsed": false
   },
   "outputs": [
    {
     "name": "stdout",
     "output_type": "stream",
     "text": [
      "rank of P is: \n",
      "132\n",
      "sizes of P are: \n",
      "132\n",
      "392\n",
      "rank of A is: \n",
      "30\n",
      "sizes of A are: \n",
      "30\n",
      "392\n",
      "rank of AP_t is: \n",
      "30\n",
      "shape of AP_t is: \n",
      "(30, 132)\n"
     ]
    }
   ],
   "source": [
    "A_t = np.transpose(A)\n",
    "P_t = np.transpose(P)\n",
    "# PA'\n",
    "AP_t = np.dot(A, P_t)\n",
    "print(\"rank of P is: \")\n",
    "print(matrix_rank(P))\n",
    "print(\"sizes of P are: \")\n",
    "print(np.size(P, 0))\n",
    "print(np.size(P, 1))\n",
    "print(\"rank of A is: \")\n",
    "print(matrix_rank(A))\n",
    "print(\"sizes of A are: \")\n",
    "print(np.size(A, 0))\n",
    "print(np.size(A, 1))\n",
    "print(\"rank of AP_t is: \")\n",
    "print(matrix_rank(AP_t))\n",
    "print(\"shape of AP_t is: \")\n",
    "print(np.shape(AP_t))"
   ]
  },
  {
   "cell_type": "code",
   "execution_count": null,
   "metadata": {
    "collapsed": true
   },
   "outputs": [],
   "source": []
  }
 ],
 "metadata": {
  "kernelspec": {
   "display_name": "Python 2",
   "language": "python",
   "name": "python2"
  },
  "language_info": {
   "codemirror_mode": {
    "name": "ipython",
    "version": 2
   },
   "file_extension": ".py",
   "mimetype": "text/x-python",
   "name": "python",
   "nbconvert_exporter": "python",
   "pygments_lexer": "ipython2",
   "version": "2.7.11"
  }
 },
 "nbformat": 4,
 "nbformat_minor": 0
}
