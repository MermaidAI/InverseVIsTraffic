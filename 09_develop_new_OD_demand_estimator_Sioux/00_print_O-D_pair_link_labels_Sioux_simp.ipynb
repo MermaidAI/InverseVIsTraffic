{
 "cells": [
  {
   "cell_type": "code",
   "execution_count": 1,
   "metadata": {
    "collapsed": true
   },
   "outputs": [],
   "source": [
    "%run ../Python_files/print_O-D_pair_link_labels_Sioux_simp.py"
   ]
  },
  {
   "cell_type": "code",
   "execution_count": 2,
   "metadata": {
    "collapsed": true
   },
   "outputs": [],
   "source": [
    "link_label_dict_ = zload('../temp_files/link_label_dict_Sioux_simp_.pkz')"
   ]
  },
  {
   "cell_type": "code",
   "execution_count": 3,
   "metadata": {
    "collapsed": false
   },
   "outputs": [
    {
     "data": {
      "text/plain": [
       "{'1->2': 0,\n",
       " '1->3': 1,\n",
       " '10->11': 24,\n",
       " '10->9': 23,\n",
       " '11->10': 26,\n",
       " '11->12': 27,\n",
       " '11->4': 25,\n",
       " '12->11': 29,\n",
       " '12->3': 28,\n",
       " '2->1': 2,\n",
       " '2->6': 3,\n",
       " '3->1': 4,\n",
       " '3->12': 6,\n",
       " '3->4': 5,\n",
       " '4->11': 9,\n",
       " '4->3': 7,\n",
       " '4->5': 8,\n",
       " '5->4': 10,\n",
       " '5->6': 11,\n",
       " '5->9': 12,\n",
       " '6->2': 13,\n",
       " '6->5': 14,\n",
       " '6->8': 15,\n",
       " '7->8': 16,\n",
       " '8->6': 17,\n",
       " '8->7': 18,\n",
       " '8->9': 19,\n",
       " '9->10': 22,\n",
       " '9->5': 20,\n",
       " '9->8': 21}"
      ]
     },
     "execution_count": 3,
     "metadata": {},
     "output_type": "execute_result"
    }
   ],
   "source": [
    "link_label_dict_"
   ]
  },
  {
   "cell_type": "code",
   "execution_count": 4,
   "metadata": {
    "collapsed": true
   },
   "outputs": [],
   "source": [
    "OD_pair_label_dict_ = zload('../temp_files/OD_pair_label_dict__Sioux_simp.pkz')"
   ]
  },
  {
   "cell_type": "code",
   "execution_count": 5,
   "metadata": {
    "collapsed": false
   },
   "outputs": [
    {
     "data": {
      "text/plain": [
       "{'0': (1, 2),\n",
       " '1': (1, 3),\n",
       " '10': (1, 12),\n",
       " '100': (10, 2),\n",
       " '101': (10, 3),\n",
       " '102': (10, 4),\n",
       " '103': (10, 5),\n",
       " '104': (10, 6),\n",
       " '105': (10, 7),\n",
       " '106': (10, 8),\n",
       " '107': (10, 9),\n",
       " '108': (10, 11),\n",
       " '109': (10, 12),\n",
       " '11': (2, 1),\n",
       " '110': (11, 1),\n",
       " '111': (11, 2),\n",
       " '112': (11, 3),\n",
       " '113': (11, 4),\n",
       " '114': (11, 5),\n",
       " '115': (11, 6),\n",
       " '116': (11, 7),\n",
       " '117': (11, 8),\n",
       " '118': (11, 9),\n",
       " '119': (11, 10),\n",
       " '12': (2, 3),\n",
       " '120': (11, 12),\n",
       " '121': (12, 1),\n",
       " '122': (12, 2),\n",
       " '123': (12, 3),\n",
       " '124': (12, 4),\n",
       " '125': (12, 5),\n",
       " '126': (12, 6),\n",
       " '127': (12, 7),\n",
       " '128': (12, 8),\n",
       " '129': (12, 9),\n",
       " '13': (2, 4),\n",
       " '130': (12, 10),\n",
       " '131': (12, 11),\n",
       " '14': (2, 5),\n",
       " '15': (2, 6),\n",
       " '16': (2, 7),\n",
       " '17': (2, 8),\n",
       " '18': (2, 9),\n",
       " '19': (2, 10),\n",
       " '2': (1, 4),\n",
       " '20': (2, 11),\n",
       " '21': (2, 12),\n",
       " '22': (3, 1),\n",
       " '23': (3, 2),\n",
       " '24': (3, 4),\n",
       " '25': (3, 5),\n",
       " '26': (3, 6),\n",
       " '27': (3, 7),\n",
       " '28': (3, 8),\n",
       " '29': (3, 9),\n",
       " '3': (1, 5),\n",
       " '30': (3, 10),\n",
       " '31': (3, 11),\n",
       " '32': (3, 12),\n",
       " '33': (4, 1),\n",
       " '34': (4, 2),\n",
       " '35': (4, 3),\n",
       " '36': (4, 5),\n",
       " '37': (4, 6),\n",
       " '38': (4, 7),\n",
       " '39': (4, 8),\n",
       " '4': (1, 6),\n",
       " '40': (4, 9),\n",
       " '41': (4, 10),\n",
       " '42': (4, 11),\n",
       " '43': (4, 12),\n",
       " '44': (5, 1),\n",
       " '45': (5, 2),\n",
       " '46': (5, 3),\n",
       " '47': (5, 4),\n",
       " '48': (5, 6),\n",
       " '49': (5, 7),\n",
       " '5': (1, 7),\n",
       " '50': (5, 8),\n",
       " '51': (5, 9),\n",
       " '52': (5, 10),\n",
       " '53': (5, 11),\n",
       " '54': (5, 12),\n",
       " '55': (6, 1),\n",
       " '56': (6, 2),\n",
       " '57': (6, 3),\n",
       " '58': (6, 4),\n",
       " '59': (6, 5),\n",
       " '6': (1, 8),\n",
       " '60': (6, 7),\n",
       " '61': (6, 8),\n",
       " '62': (6, 9),\n",
       " '63': (6, 10),\n",
       " '64': (6, 11),\n",
       " '65': (6, 12),\n",
       " '66': (7, 1),\n",
       " '67': (7, 2),\n",
       " '68': (7, 3),\n",
       " '69': (7, 4),\n",
       " '7': (1, 9),\n",
       " '70': (7, 5),\n",
       " '71': (7, 6),\n",
       " '72': (7, 8),\n",
       " '73': (7, 9),\n",
       " '74': (7, 10),\n",
       " '75': (7, 11),\n",
       " '76': (7, 12),\n",
       " '77': (8, 1),\n",
       " '78': (8, 2),\n",
       " '79': (8, 3),\n",
       " '8': (1, 10),\n",
       " '80': (8, 4),\n",
       " '81': (8, 5),\n",
       " '82': (8, 6),\n",
       " '83': (8, 7),\n",
       " '84': (8, 9),\n",
       " '85': (8, 10),\n",
       " '86': (8, 11),\n",
       " '87': (8, 12),\n",
       " '88': (9, 1),\n",
       " '89': (9, 2),\n",
       " '9': (1, 11),\n",
       " '90': (9, 3),\n",
       " '91': (9, 4),\n",
       " '92': (9, 5),\n",
       " '93': (9, 6),\n",
       " '94': (9, 7),\n",
       " '95': (9, 8),\n",
       " '96': (9, 10),\n",
       " '97': (9, 11),\n",
       " '98': (9, 12),\n",
       " '99': (10, 1)}"
      ]
     },
     "execution_count": 5,
     "metadata": {},
     "output_type": "execute_result"
    }
   ],
   "source": [
    "OD_pair_label_dict_"
   ]
  },
  {
   "cell_type": "code",
   "execution_count": 6,
   "metadata": {
    "collapsed": false
   },
   "outputs": [],
   "source": [
    "import json\n",
    "\n",
    "link_length_dict_Sioux = {}\n",
    "\n",
    "length_list = []\n",
    "with open('../data_traffic_assignment_uni-class/SiouxFalls_net_simp.txt', 'r') as f:\n",
    "    read_data = f.readlines()\n",
    "    flag = 0\n",
    "    for row in read_data:\n",
    "        if ';' in row:\n",
    "            flag += 1\n",
    "            if flag > 1:\n",
    "                length_list.append(float(row.split('\\t')[4]))\n",
    "                \n",
    "for idx in range(len(length_list)):\n",
    "    key = str(idx)\n",
    "    link_length_dict_Sioux[key] = length_list[idx]\n",
    "\n",
    "with open('../temp_files/link_length_dict_Sioux_simp.json', 'w') as json_file:\n",
    "    json.dump(link_length_dict_Sioux, json_file)"
   ]
  },
  {
   "cell_type": "code",
   "execution_count": 7,
   "metadata": {
    "collapsed": false
   },
   "outputs": [
    {
     "data": {
      "text/plain": [
       "{'0': 6.0,\n",
       " '1': 4.0,\n",
       " '10': 2.0,\n",
       " '11': 4.0,\n",
       " '12': 5.0,\n",
       " '13': 5.0,\n",
       " '14': 4.0,\n",
       " '15': 2.0,\n",
       " '16': 3.0,\n",
       " '17': 2.0,\n",
       " '18': 3.0,\n",
       " '19': 10.0,\n",
       " '2': 6.0,\n",
       " '20': 5.0,\n",
       " '21': 10.0,\n",
       " '22': 3.0,\n",
       " '23': 3.0,\n",
       " '24': 5.0,\n",
       " '25': 6.0,\n",
       " '26': 5.0,\n",
       " '27': 6.0,\n",
       " '28': 4.0,\n",
       " '29': 6.0,\n",
       " '3': 5.0,\n",
       " '4': 4.0,\n",
       " '5': 4.0,\n",
       " '6': 4.0,\n",
       " '7': 4.0,\n",
       " '8': 2.0,\n",
       " '9': 6.0}"
      ]
     },
     "execution_count": 7,
     "metadata": {},
     "output_type": "execute_result"
    }
   ],
   "source": [
    "link_length_dict_Sioux"
   ]
  },
  {
   "cell_type": "code",
   "execution_count": 8,
   "metadata": {
    "collapsed": false
   },
   "outputs": [],
   "source": [
    "with open('../temp_files/path-link_incidence_Sioux_simp.txt', 'r') as the_file:\n",
    "    # path counts\n",
    "    i = 0  \n",
    "    for row in the_file:\n",
    "        if '->' in row:\n",
    "            i = i + 1"
   ]
  },
  {
   "cell_type": "code",
   "execution_count": 9,
   "metadata": {
    "collapsed": false
   },
   "outputs": [
    {
     "data": {
      "text/plain": [
       "392"
      ]
     },
     "execution_count": 9,
     "metadata": {},
     "output_type": "execute_result"
    }
   ],
   "source": [
    "i"
   ]
  },
  {
   "cell_type": "code",
   "execution_count": 10,
   "metadata": {
    "collapsed": false
   },
   "outputs": [],
   "source": [
    "with open('../temp_files/numRoutes_Sioux_simp.json', 'w') as json_file:\n",
    "    json.dump(i, json_file)"
   ]
  },
  {
   "cell_type": "code",
   "execution_count": 11,
   "metadata": {
    "collapsed": false
   },
   "outputs": [],
   "source": [
    "# number of links\n",
    "m = 30\n",
    "\n",
    "# create link labels\n",
    "# create a dictionary mapping directed links to labels\n",
    "link_label_dict = {}\n",
    "link_label_dict_ = {}\n",
    "        \n",
    "link_list = ['1,2','1,3','2,1','2,6','3,1','3,4','3,12','4,3','4,5', \n",
    "'4,11','5,4','5,6','5,9','6,2','6,5','6,8','7,8','8,6','8,7',\n",
    "'8,9','9,5','9,8','9,10','10,9','10,11','11,4',\n",
    "'11,10','11,12','12,3','12,11']\n",
    "\n",
    "for i in range(m):\n",
    "    link_label_dict[str(i)] = link_list[i]\n",
    "\n",
    "for i in range(m):\n",
    "    link_label_dict_[link_list[i]] = i\n",
    "\n",
    "with open('../temp_files/link_label_dict_Sioux_simp.json', 'w') as json_file:\n",
    "    json.dump(link_label_dict, json_file)\n",
    "    \n",
    "with open('../temp_files/link_label_dict_Sioux_simp_.json', 'w') as json_file:\n",
    "    json.dump(link_label_dict_, json_file)"
   ]
  },
  {
   "cell_type": "code",
   "execution_count": 12,
   "metadata": {
    "collapsed": false
   },
   "outputs": [
    {
     "data": {
      "text/plain": [
       "{'1,2': 0,\n",
       " '1,3': 1,\n",
       " '10,11': 24,\n",
       " '10,9': 23,\n",
       " '11,10': 26,\n",
       " '11,12': 27,\n",
       " '11,4': 25,\n",
       " '12,11': 29,\n",
       " '12,3': 28,\n",
       " '2,1': 2,\n",
       " '2,6': 3,\n",
       " '3,1': 4,\n",
       " '3,12': 6,\n",
       " '3,4': 5,\n",
       " '4,11': 9,\n",
       " '4,3': 7,\n",
       " '4,5': 8,\n",
       " '5,4': 10,\n",
       " '5,6': 11,\n",
       " '5,9': 12,\n",
       " '6,2': 13,\n",
       " '6,5': 14,\n",
       " '6,8': 15,\n",
       " '7,8': 16,\n",
       " '8,6': 17,\n",
       " '8,7': 18,\n",
       " '8,9': 19,\n",
       " '9,10': 22,\n",
       " '9,5': 20,\n",
       " '9,8': 21}"
      ]
     },
     "execution_count": 12,
     "metadata": {},
     "output_type": "execute_result"
    }
   ],
   "source": [
    "link_label_dict_"
   ]
  },
  {
   "cell_type": "code",
   "execution_count": 13,
   "metadata": {
    "collapsed": false
   },
   "outputs": [],
   "source": [
    "# create O-D pair labels\n",
    "# create a dictionary mapping O-D pairs to labels\n",
    "\n",
    "import json\n",
    "\n",
    "n = 12  # number of nodes\n",
    "\n",
    "OD_pair_label_dict = {}\n",
    "OD_pair_label_dict_ = {}\n",
    "\n",
    "label = 1\n",
    "for i in range(n + 1)[1:]:\n",
    "    for j in range(n + 1)[1:]:\n",
    "        key = (i, j)\n",
    "        OD_pair_label_dict[str(key)] = label\n",
    "        OD_pair_label_dict_[str(label)] = key\n",
    "        label += 1\n",
    "        \n",
    "with open('../temp_files/od_pair_label_dict_Sioux_simp.json', 'w') as json_file:\n",
    "    json.dump(OD_pair_label_dict, json_file)\n",
    "    \n",
    "with open('../temp_files/od_pair_label_dict__Sioux_simp.json', 'w') as json_file:\n",
    "    json.dump(OD_pair_label_dict_, json_file)"
   ]
  },
  {
   "cell_type": "code",
   "execution_count": 14,
   "metadata": {
    "collapsed": false
   },
   "outputs": [
    {
     "data": {
      "text/plain": [
       "{'1': (1, 1),\n",
       " '10': (1, 10),\n",
       " '100': (9, 4),\n",
       " '101': (9, 5),\n",
       " '102': (9, 6),\n",
       " '103': (9, 7),\n",
       " '104': (9, 8),\n",
       " '105': (9, 9),\n",
       " '106': (9, 10),\n",
       " '107': (9, 11),\n",
       " '108': (9, 12),\n",
       " '109': (10, 1),\n",
       " '11': (1, 11),\n",
       " '110': (10, 2),\n",
       " '111': (10, 3),\n",
       " '112': (10, 4),\n",
       " '113': (10, 5),\n",
       " '114': (10, 6),\n",
       " '115': (10, 7),\n",
       " '116': (10, 8),\n",
       " '117': (10, 9),\n",
       " '118': (10, 10),\n",
       " '119': (10, 11),\n",
       " '12': (1, 12),\n",
       " '120': (10, 12),\n",
       " '121': (11, 1),\n",
       " '122': (11, 2),\n",
       " '123': (11, 3),\n",
       " '124': (11, 4),\n",
       " '125': (11, 5),\n",
       " '126': (11, 6),\n",
       " '127': (11, 7),\n",
       " '128': (11, 8),\n",
       " '129': (11, 9),\n",
       " '13': (2, 1),\n",
       " '130': (11, 10),\n",
       " '131': (11, 11),\n",
       " '132': (11, 12),\n",
       " '133': (12, 1),\n",
       " '134': (12, 2),\n",
       " '135': (12, 3),\n",
       " '136': (12, 4),\n",
       " '137': (12, 5),\n",
       " '138': (12, 6),\n",
       " '139': (12, 7),\n",
       " '14': (2, 2),\n",
       " '140': (12, 8),\n",
       " '141': (12, 9),\n",
       " '142': (12, 10),\n",
       " '143': (12, 11),\n",
       " '144': (12, 12),\n",
       " '15': (2, 3),\n",
       " '16': (2, 4),\n",
       " '17': (2, 5),\n",
       " '18': (2, 6),\n",
       " '19': (2, 7),\n",
       " '2': (1, 2),\n",
       " '20': (2, 8),\n",
       " '21': (2, 9),\n",
       " '22': (2, 10),\n",
       " '23': (2, 11),\n",
       " '24': (2, 12),\n",
       " '25': (3, 1),\n",
       " '26': (3, 2),\n",
       " '27': (3, 3),\n",
       " '28': (3, 4),\n",
       " '29': (3, 5),\n",
       " '3': (1, 3),\n",
       " '30': (3, 6),\n",
       " '31': (3, 7),\n",
       " '32': (3, 8),\n",
       " '33': (3, 9),\n",
       " '34': (3, 10),\n",
       " '35': (3, 11),\n",
       " '36': (3, 12),\n",
       " '37': (4, 1),\n",
       " '38': (4, 2),\n",
       " '39': (4, 3),\n",
       " '4': (1, 4),\n",
       " '40': (4, 4),\n",
       " '41': (4, 5),\n",
       " '42': (4, 6),\n",
       " '43': (4, 7),\n",
       " '44': (4, 8),\n",
       " '45': (4, 9),\n",
       " '46': (4, 10),\n",
       " '47': (4, 11),\n",
       " '48': (4, 12),\n",
       " '49': (5, 1),\n",
       " '5': (1, 5),\n",
       " '50': (5, 2),\n",
       " '51': (5, 3),\n",
       " '52': (5, 4),\n",
       " '53': (5, 5),\n",
       " '54': (5, 6),\n",
       " '55': (5, 7),\n",
       " '56': (5, 8),\n",
       " '57': (5, 9),\n",
       " '58': (5, 10),\n",
       " '59': (5, 11),\n",
       " '6': (1, 6),\n",
       " '60': (5, 12),\n",
       " '61': (6, 1),\n",
       " '62': (6, 2),\n",
       " '63': (6, 3),\n",
       " '64': (6, 4),\n",
       " '65': (6, 5),\n",
       " '66': (6, 6),\n",
       " '67': (6, 7),\n",
       " '68': (6, 8),\n",
       " '69': (6, 9),\n",
       " '7': (1, 7),\n",
       " '70': (6, 10),\n",
       " '71': (6, 11),\n",
       " '72': (6, 12),\n",
       " '73': (7, 1),\n",
       " '74': (7, 2),\n",
       " '75': (7, 3),\n",
       " '76': (7, 4),\n",
       " '77': (7, 5),\n",
       " '78': (7, 6),\n",
       " '79': (7, 7),\n",
       " '8': (1, 8),\n",
       " '80': (7, 8),\n",
       " '81': (7, 9),\n",
       " '82': (7, 10),\n",
       " '83': (7, 11),\n",
       " '84': (7, 12),\n",
       " '85': (8, 1),\n",
       " '86': (8, 2),\n",
       " '87': (8, 3),\n",
       " '88': (8, 4),\n",
       " '89': (8, 5),\n",
       " '9': (1, 9),\n",
       " '90': (8, 6),\n",
       " '91': (8, 7),\n",
       " '92': (8, 8),\n",
       " '93': (8, 9),\n",
       " '94': (8, 10),\n",
       " '95': (8, 11),\n",
       " '96': (8, 12),\n",
       " '97': (9, 1),\n",
       " '98': (9, 2),\n",
       " '99': (9, 3)}"
      ]
     },
     "execution_count": 14,
     "metadata": {},
     "output_type": "execute_result"
    }
   ],
   "source": [
    "OD_pair_label_dict_"
   ]
  },
  {
   "cell_type": "code",
   "execution_count": 15,
   "metadata": {
    "collapsed": false
   },
   "outputs": [
    {
     "data": {
      "text/plain": [
       "144"
      ]
     },
     "execution_count": 15,
     "metadata": {},
     "output_type": "execute_result"
    }
   ],
   "source": [
    "len(OD_pair_label_dict_)"
   ]
  },
  {
   "cell_type": "code",
   "execution_count": 16,
   "metadata": {
    "collapsed": true
   },
   "outputs": [],
   "source": [
    "# create O-D pair labels\n",
    "# create a dictionary mapping O-D pairs to labels\n",
    "\n",
    "import json\n",
    "\n",
    "n = 12  # number of nodes\n",
    "\n",
    "OD_pair_label_dict_refined = {}\n",
    "OD_pair_label_dict_refined_ = {}\n",
    "\n",
    "label = 1\n",
    "for i in range(n + 1)[1:]:\n",
    "    for j in range(n + 1)[1:]:\n",
    "        if i != j:\n",
    "            key = (i, j)\n",
    "            OD_pair_label_dict_refined[str(key)] = label\n",
    "            OD_pair_label_dict_refined_[str(label)] = key\n",
    "            label += 1\n",
    "        \n",
    "with open('../temp_files/od_pair_label_dict_Sioux_simp_refined.json', 'w') as json_file:\n",
    "    json.dump(OD_pair_label_dict_refined, json_file)\n",
    "    \n",
    "with open('../temp_files/od_pair_label_dict__Sioux_simp_refined.json', 'w') as json_file:\n",
    "    json.dump(OD_pair_label_dict_refined_, json_file)"
   ]
  },
  {
   "cell_type": "code",
   "execution_count": null,
   "metadata": {
    "collapsed": true
   },
   "outputs": [],
   "source": []
  }
 ],
 "metadata": {
  "kernelspec": {
   "display_name": "Python 2",
   "language": "python",
   "name": "python2"
  },
  "language_info": {
   "codemirror_mode": {
    "name": "ipython",
    "version": 2
   },
   "file_extension": ".py",
   "mimetype": "text/x-python",
   "name": "python",
   "nbconvert_exporter": "python",
   "pygments_lexer": "ipython2",
   "version": "2.7.12"
  }
 },
 "nbformat": 4,
 "nbformat_minor": 0
}
