{
 "cells": [
  {
   "cell_type": "code",
   "execution_count": 1,
   "metadata": {
    "collapsed": true
   },
   "outputs": [],
   "source": [
    "#load OD pair-route incidence\n",
    "odPairRoute = readall(\"od_pair_route_incidence_Sioux_simp.json\");\n",
    "odPairRoute = JSON.parse(odPairRoute);\n",
    "\n",
    "#load link-route incidence\n",
    "linkRoute = readall(\"link_route_incidence_Sioux_simp.json\");\n",
    "linkRoute = JSON.parse(linkRoute);\n",
    "\n",
    "#load OD pair labels\n",
    "odPairLabel = readall(\"od_pair_label_dict_Sioux_simp_refined.json\");\n",
    "odPairLabel = JSON.parse(odPairLabel);\n",
    "\n",
    "odPairLabel_ = readall(\"od_pair_label_dict__Sioux_simp_refined.json\");\n",
    "odPairLabel_ = JSON.parse(odPairLabel_);\n",
    "\n",
    "#load link labels\n",
    "linkLabel = readall(\"link_label_dict_Sioux_simp.json\");\n",
    "linkLabel = JSON.parse(linkLabel);\n",
    "\n",
    "linkLabel_ = readall(\"link_label_dict_Sioux_simp_.json\");\n",
    "linkLabel_ = JSON.parse(linkLabel_);\n",
    "\n",
    "#load node-link incidence\n",
    "nodeLink = readall(\"node_link_incidence_Sioux_simp.json\");\n",
    "nodeLink = JSON.parse(nodeLink);"
   ]
  },
  {
   "cell_type": "code",
   "execution_count": 2,
   "metadata": {
    "collapsed": false
   },
   "outputs": [
    {
     "data": {
      "text/plain": [
       "load_ta_network (generic function with 2 methods)"
      ]
     },
     "execution_count": 2,
     "metadata": {},
     "output_type": "execute_result"
    }
   ],
   "source": [
    "include(\"load_network_uni-class.jl\")"
   ]
  },
  {
   "cell_type": "code",
   "execution_count": 3,
   "metadata": {
    "collapsed": false
   },
   "outputs": [],
   "source": [
    "ta_data = load_ta_network(\"Sioux_simp\");"
   ]
  },
  {
   "cell_type": "code",
   "execution_count": 4,
   "metadata": {
    "collapsed": false
   },
   "outputs": [],
   "source": [
    "capacity = ta_data.capacity;\n",
    "free_flow_time = ta_data.free_flow_time;"
   ]
  },
  {
   "cell_type": "code",
   "execution_count": 5,
   "metadata": {
    "collapsed": false
   },
   "outputs": [],
   "source": [
    "############\n",
    "#Read in the demand file\n",
    "file = open(\"../data_traffic_assignment_uni-class/SiouxFalls_trips_simp.txt\")\n",
    "demands = Dict{(Int64,Int64), Float64}()\n",
    "s = 0\n",
    "for line in eachline(file)\n",
    "    if contains(line, \"Origin\")\n",
    "        s = int(split(line)[2])\n",
    "    else\n",
    "        pairs = split(line, \";\")\n",
    "        for pair in pairs\n",
    "            if !contains(pair, \"\\n\")\n",
    "                pair_vals = split(pair, \":\")\n",
    "                t, demand = int(pair_vals[1]), float(pair_vals[2])\n",
    "                demands[(s,t)] = demand \n",
    "            end\n",
    "        end\n",
    "    end\n",
    "end                \n",
    "close(file)"
   ]
  },
  {
   "cell_type": "code",
   "execution_count": 6,
   "metadata": {
    "collapsed": false
   },
   "outputs": [
    {
     "data": {
      "text/plain": [
       "Dict{(Int64,Int64),Float64} with 144 entries:\n",
       "  (8,10)  => 1600.0\n",
       "  (9,5)   => 800.0\n",
       "  (3,6)   => 300.0\n",
       "  (10,5)  => 1000.0\n",
       "  (6,9)   => 400.0\n",
       "  (12,4)  => 600.0\n",
       "  (4,4)   => 0.0\n",
       "  (9,4)   => 700.0\n",
       "  (10,11) => 4000.0\n",
       "  (8,9)   => 800.0\n",
       "  (9,1)   => 500.0\n",
       "  (11,1)  => 500.0\n",
       "  (8,11)  => 800.0\n",
       "  (3,1)   => 100.0\n",
       "  (1,10)  => 1300.0\n",
       "  (1,12)  => 200.0\n",
       "  (12,7)  => 700.0\n",
       "  (4,5)   => 500.0\n",
       "  (9,9)   => 0.0\n",
       "  (11,8)  => 800.0\n",
       "  (12,8)  => 600.0\n",
       "  (2,4)   => 200.0\n",
       "  (6,5)   => 200.0\n",
       "  (4,9)   => 700.0\n",
       "  (8,4)   => 700.0\n",
       "  ⋮       => ⋮"
      ]
     },
     "execution_count": 6,
     "metadata": {},
     "output_type": "execute_result"
    }
   ],
   "source": [
    "demands"
   ]
  },
  {
   "cell_type": "code",
   "execution_count": 7,
   "metadata": {
    "collapsed": false
   },
   "outputs": [
    {
     "data": {
      "text/plain": [
       "Dict{UTF8String,Any} with 132 entries:\n",
       "  \"109\" => {10,11}\n",
       "  \"29\"  => {3,8}\n",
       "  \"81\"  => {8,4}\n",
       "  \"54\"  => {5,11}\n",
       "  \"105\" => {10,6}\n",
       "  \"101\" => {10,2}\n",
       "  \"32\"  => {3,11}\n",
       "  \"30\"  => {3,9}\n",
       "  \"2\"   => {1,3}\n",
       "  \"1\"   => {1,2}\n",
       "  \"74\"  => {7,9}\n",
       "  \"41\"  => {4,9}\n",
       "  \"78\"  => {8,1}\n",
       "  \"65\"  => {6,11}\n",
       "  \"51\"  => {5,8}\n",
       "  \"53\"  => {5,10}\n",
       "  \"119\" => {11,9}\n",
       "  \"106\" => {10,7}\n",
       "  \"27\"  => {3,6}\n",
       "  \"75\"  => {7,10}\n",
       "  \"42\"  => {4,10}\n",
       "  \"33\"  => {3,12}\n",
       "  \"28\"  => {3,7}\n",
       "  \"50\"  => {5,7}\n",
       "  \"52\"  => {5,9}\n",
       "  ⋮     => ⋮"
      ]
     },
     "execution_count": 7,
     "metadata": {},
     "output_type": "execute_result"
    }
   ],
   "source": [
    "odPairLabel_"
   ]
  },
  {
   "cell_type": "code",
   "execution_count": 8,
   "metadata": {
    "collapsed": false
   },
   "outputs": [],
   "source": [
    "demandsVec = zeros(length(odPairLabel_))\n",
    "\n",
    "for i = 1:length(demandsVec)\n",
    "    demandsVec[i] = demands[(odPairLabel_[\"$i\"][1], odPairLabel_[\"$i\"][2])]\n",
    "end"
   ]
  },
  {
   "cell_type": "code",
   "execution_count": 9,
   "metadata": {
    "collapsed": false
   },
   "outputs": [
    {
     "data": {
      "text/plain": [
       "132-element Array{Float64,1}:\n",
       "  100.0\n",
       "  100.0\n",
       "  500.0\n",
       "  200.0\n",
       "  300.0\n",
       "  500.0\n",
       "  800.0\n",
       "  500.0\n",
       " 1300.0\n",
       "  500.0\n",
       "  200.0\n",
       "  100.0\n",
       "  100.0\n",
       "    ⋮  \n",
       " 1400.0\n",
       "  200.0\n",
       "  100.0\n",
       "  200.0\n",
       "  600.0\n",
       "  200.0\n",
       "  200.0\n",
       "  700.0\n",
       "  600.0\n",
       "  600.0\n",
       " 2000.0\n",
       " 1400.0"
      ]
     },
     "execution_count": 9,
     "metadata": {},
     "output_type": "execute_result"
    }
   ],
   "source": [
    "demandsVec"
   ]
  },
  {
   "cell_type": "code",
   "execution_count": 10,
   "metadata": {
    "collapsed": false
   },
   "outputs": [
    {
     "name": "stdout",
     "output_type": "stream",
     "text": [
      "132-1225\n"
     ]
    }
   ],
   "source": [
    "for key=keys(odPairRoute)\n",
    "    if contains(key, \"132-\")\n",
    "        println(key)\n",
    "    end\n",
    "end"
   ]
  },
  {
   "cell_type": "code",
   "execution_count": 11,
   "metadata": {
    "collapsed": false
   },
   "outputs": [
    {
     "name": "stdout",
     "output_type": "stream",
     "text": [
      "\n",
      "******************************************************************************\n",
      "This program contains Ipopt, a library for large-scale nonlinear optimization.\n",
      " Ipopt is released as open source code under the Eclipse Public License (EPL).\n",
      "         For more information visit http://projects.coin-or.org/Ipopt\n",
      "******************************************************************************\n",
      "\n",
      "This is Ipopt version 3.12.1, running with linear solver mumps.\n",
      "NOTE: Other linear solvers might be more efficient (see Ipopt documentation).\n",
      "\n",
      "Number of nonzeros in equality constraint Jacobian...:     8150\n",
      "Number of nonzeros in inequality constraint Jacobian.:     1232\n",
      "Number of nonzeros in Lagrangian Hessian.............:       30\n",
      "\n",
      "Total number of variables............................:     1262\n",
      "                     variables with only lower bounds:        0\n",
      "                variables with lower and upper bounds:        0\n",
      "                     variables with only upper bounds:        0\n",
      "Total number of equality constraints.................:      162\n",
      "Total number of inequality constraints...............:     1232\n",
      "        inequality constraints with only lower bounds:     1232\n",
      "   inequality constraints with lower and upper bounds:        0\n",
      "        inequality constraints with only upper bounds:        0\n",
      "\n",
      "iter    objective    inf_pr   inf_du lg(mu)  ||d||  lg(rg) alpha_du alpha_pr  ls\n",
      "   0  0.0000000e+00 4.00e+03 9.71e+00  -1.0 0.00e+00    -  0.00e+00 0.00e+00   0\n",
      "   1  1.8662019e+04 3.91e+03 8.61e+03  -1.0 1.21e+04    -  2.48e-06 2.15e-02h  1\n",
      "   2  8.1826421e+04 3.62e+03 7.97e+03  -1.0 1.20e+04    -  1.91e-02 7.41e-02h  1\n",
      "   3  9.5462882e+04 3.55e+03 7.80e+03  -1.0 1.45e+04    -  1.72e-02 2.09e-02h  1\n",
      "   4  1.2078265e+05 3.42e+03 7.52e+03  -1.0 1.32e+04    -  3.16e-02 3.60e-02h  1\n",
      "   5  1.6713879e+05 3.19e+03 7.02e+03  -1.0 1.19e+04    -  5.15e-02 6.68e-02h  1\n",
      "   6  2.4072929e+05 2.83e+03 6.23e+03  -1.0 1.11e+04    -  1.29e-01 1.12e-01h  1\n",
      "   7  3.4873606e+05 2.31e+03 5.09e+03  -1.0 9.59e+03    -  1.24e-01 1.84e-01h  1\n",
      "   8  4.1103334e+05 2.01e+03 4.43e+03  -1.0 7.81e+03    -  3.61e-01 1.29e-01h  1\n",
      "   9  5.6191382e+05 1.30e+03 2.86e+03  -1.0 6.80e+03    -  5.30e-01 3.53e-01h  1\n",
      "iter    objective    inf_pr   inf_du lg(mu)  ||d||  lg(rg) alpha_du alpha_pr  ls\n",
      "  10  7.8860239e+05 2.98e+02 6.55e+02  -1.0 4.40e+03    -  6.27e-01 7.71e-01h  1\n",
      "  11  8.3493363e+05 1.06e+02 2.33e+02  -1.0 1.01e+03    -  4.46e-03 6.45e-01h  1\n",
      "  12  8.4050408e+05 7.87e+01 1.73e+02  -1.0 1.23e+03    -  3.31e-02 2.56e-01h  1\n",
      "  13  8.4111474e+05 7.57e+01 1.67e+02  -1.0 1.04e+03    -  3.11e-01 3.77e-02h  1\n",
      "  14  8.4129067e+05 7.49e+01 1.65e+02  -1.0 9.97e+02    -  3.98e-01 1.10e-02h  1\n",
      "  15  8.4259523e+05 6.91e+01 1.52e+02  -1.0 9.25e+02    -  1.94e-01 7.71e-02h  1\n",
      "  16  8.4307878e+05 6.71e+01 1.48e+02  -1.0 4.09e+02    -  6.19e-03 2.91e-02h  1\n",
      "  17  8.5930827e+05 1.87e-11 3.06e+00  -1.0 5.19e+02    -  2.50e-01 1.00e+00h  1\n",
      "  18  8.5921012e+05 1.04e-11 2.77e+00  -1.0 2.18e+02    -  1.83e-02 3.80e-01f  1\n",
      "  19  8.5912349e+05 8.67e-12 1.33e-02  -1.0 1.83e+02    -  1.00e+00 1.00e+00f  1\n",
      "iter    objective    inf_pr   inf_du lg(mu)  ||d||  lg(rg) alpha_du alpha_pr  ls\n",
      "  20  8.5903577e+05 2.10e-11 2.28e-06  -1.7 7.13e+00    -  1.00e+00 1.00e+00f  1\n",
      "  21  8.5901409e+05 1.82e-11 2.42e-08  -3.8 3.82e-01    -  1.00e+00 1.00e+00f  1\n",
      "  22  8.5901393e+05 1.34e-11 1.85e-11  -5.7 4.41e-01    -  1.00e+00 1.00e+00f  1\n",
      "  23  8.5901393e+05 8.78e-12 2.84e-14  -8.6 4.99e-02    -  1.00e+00 1.00e+00f  1\n",
      "\n",
      "Number of Iterations....: 23\n",
      "\n",
      "                                   (scaled)                 (unscaled)\n",
      "Objective...............:   8.5901392868367245e+05    8.5901392868367245e+05\n",
      "Dual infeasibility......:   2.8421709430404007e-14    2.8421709430404007e-14\n",
      "Constraint violation....:   8.7779134276731320e-12    8.7779134276731320e-12\n",
      "Complementarity.........:   3.1442683689727433e-09    3.1442683689727433e-09\n",
      "Overall NLP error.......:   3.1442683689727433e-09    3.1442683689727433e-09\n",
      "\n",
      "\n",
      "Number of objective function evaluations             = 24\n",
      "Number of objective gradient evaluations             = 24\n",
      "Number of equality constraint evaluations            = 24\n",
      "Number of inequality constraint evaluations          = 24\n",
      "Number of equality constraint Jacobian evaluations   = 24\n",
      "Number of inequality constraint Jacobian evaluations = 24\n",
      "Number of Lagrangian Hessian evaluations             = 23\n",
      "Total CPU secs in IPOPT (w/o function evaluations)   =      0.304\n",
      "Total CPU secs in NLP function evaluations           =      0.004\n",
      "\n",
      "EXIT: Optimal Solution Found.\n"
     ]
    },
    {
     "data": {
      "text/plain": [
       ":Optimal"
      ]
     },
     "execution_count": 11,
     "metadata": {},
     "output_type": "execute_result"
    }
   ],
   "source": [
    "using JuMP\n",
    "\n",
    "# m = Model(solver=GurobiSolver(OutputFlag=false))\n",
    "m = Model()\n",
    "\n",
    "numLinks = 30\n",
    "numRoute = 1232\n",
    "numOD = 132\n",
    "\n",
    "@defVar(m, linkFlow[1:numLinks])\n",
    "@defVar(m, pathFlow[1:numRoute])\n",
    "\n",
    "pathFlowSum = Dict()\n",
    "\n",
    "for i=1:numOD\n",
    "    pathFlowSum[i] = 0\n",
    "    for j=1:numRoute\n",
    "        if \"$(i)-$(j)\" in keys(odPairRoute)\n",
    "            pathFlowSum[i] += pathFlow[j]\n",
    "        end\n",
    "    end\n",
    "    @addConstraint(m, pathFlowSum[i] == demandsVec[i])\n",
    "end\n",
    "\n",
    "pathFlowLinkSum = Dict()\n",
    "\n",
    "for a=1:numLinks\n",
    "    pathFlowLinkSum[a] = 0\n",
    "    for j=1:numRoute\n",
    "        if \"$(a)-$(j)\" in keys(linkRoute)\n",
    "            pathFlowLinkSum[a] += pathFlow[j]\n",
    "        end\n",
    "    end\n",
    "    @addConstraint(m, pathFlowLinkSum[a] == linkFlow[a])\n",
    "end\n",
    "\n",
    "for j=1:numRoute\n",
    "    @addConstraint(m, pathFlow[j] >= 0)\n",
    "end\n",
    "\n",
    "@defNLExpr(f, sum{free_flow_time[a]*linkFlow[a] + .03*free_flow_time[a]*((linkFlow[a])^5)/((capacity[a])^4), a = 1:numLinks})\n",
    "# @defNLExpr(f, sum{free_flow_time[a]*linkFlow[a] + .15*free_flow_time[a]*((linkFlow[a])^2)/(capacity[a]), a = 1:numLinks})\n",
    "\n",
    "@setNLObjective(m, Min, f)\n",
    "\n",
    "solve(m)"
   ]
  },
  {
   "cell_type": "code",
   "execution_count": 12,
   "metadata": {
    "collapsed": false
   },
   "outputs": [
    {
     "data": {
      "text/plain": [
       "30-element Array{Float64,1}:\n",
       "  2300.0 \n",
       "  3900.0 \n",
       "  5700.0 \n",
       "  3500.0 \n",
       "  6700.0 \n",
       "  7900.0 \n",
       "  2800.0 \n",
       "  7078.0 \n",
       " 11206.6 \n",
       "  4331.91\n",
       " 10631.9 \n",
       "  8006.58\n",
       "  8500.0 \n",
       "     ⋮   \n",
       "  6500.0 \n",
       "  5168.09\n",
       "  7900.0 \n",
       "  5193.42\n",
       " 13768.1 \n",
       " 13193.4 \n",
       "  8268.09\n",
       "  4184.59\n",
       "  7593.42\n",
       "  4222.0 \n",
       "  3622.0 \n",
       "  3400.0 "
      ]
     },
     "execution_count": 12,
     "metadata": {},
     "output_type": "execute_result"
    }
   ],
   "source": [
    "getValue(linkFlow)"
   ]
  },
  {
   "cell_type": "code",
   "execution_count": 13,
   "metadata": {
    "collapsed": false
   },
   "outputs": [
    {
     "data": {
      "text/plain": [
       "859013.9286836724"
      ]
     },
     "execution_count": 13,
     "metadata": {},
     "output_type": "execute_result"
    }
   ],
   "source": [
    "getObjectiveValue(m)"
   ]
  },
  {
   "cell_type": "code",
   "execution_count": 14,
   "metadata": {
    "collapsed": true
   },
   "outputs": [],
   "source": [
    "# outfile = open(\"flows_converge_simp.txt\", \"w\")\n",
    "\n",
    "# write(outfile, join((\"From\", \"to\", \"Volume Capacity\"), \"        \"), \"\\n\")\n",
    "\n",
    "# for i = 1:length(ta_data.start_node)\n",
    "#      n1, n2, n3 = ta_data.start_node[i], ta_data.end_node[i], getValue(linkFlow)[i]\n",
    "#      write(outfile, join((n1, n2, n3), \"        \"), \"\\n\")\n",
    "# end\n",
    "\n",
    "# close(outfile)"
   ]
  },
  {
   "cell_type": "code",
   "execution_count": 15,
   "metadata": {
    "collapsed": false
   },
   "outputs": [
    {
     "name": "stdout",
     "output_type": "stream",
     "text": [
      "This is Ipopt version 3.12.1, running with linear solver mumps.\n",
      "NOTE: Other linear solvers might be more efficient (see Ipopt documentation).\n",
      "\n",
      "Number of nonzeros in equality constraint Jacobian...:    12270\n",
      "Number of nonzeros in inequality constraint Jacobian.:     4320\n",
      "Number of nonzeros in Lagrangian Hessian.............:       30\n",
      "\n",
      "Total number of variables............................:     4350\n",
      "                     variables with only lower bounds:        0\n",
      "                variables with lower and upper bounds:        0\n",
      "                     variables with only upper bounds:        0\n",
      "Total number of equality constraints.................:     1614\n",
      "Total number of inequality constraints...............:     4320\n",
      "        inequality constraints with only lower bounds:     4320\n",
      "   inequality constraints with lower and upper bounds:        0\n",
      "        inequality constraints with only upper bounds:        0\n",
      "\n",
      "iter    objective    inf_pr   inf_du lg(mu)  ||d||  lg(rg) alpha_du alpha_pr  ls\n",
      "   0  0.0000000e+00 4.00e+03 1.00e+01  -1.0 0.00e+00    -  0.00e+00 0.00e+00   0\n",
      "   1r 0.0000000e+00 4.00e+03 9.99e+02   3.6 0.00e+00    -  0.00e+00 5.12e-08R  8\n",
      "   2r 2.1314352e+03 4.00e+03 9.95e+02   3.6 3.45e+03    -  4.47e-03 4.48e-03f  1\n",
      "   3r 2.1300061e+03 3.98e+03 8.89e+02   1.5 1.05e+02    -  2.88e-01 2.08e-01f  1\n",
      "   4r 2.5916404e+03 3.97e+03 8.68e+02   1.5 6.17e+02    -  5.77e-02 2.33e-02f  1\n",
      "   5r 3.6460880e+03 3.95e+03 8.17e+02   1.5 5.33e+02    -  1.02e-01 5.94e-02f  1\n",
      "   6r 4.8236881e+03 3.92e+03 7.49e+02   1.5 3.99e+02    -  2.65e-01 8.29e-02f  1\n",
      "   7r 6.0860628e+03 3.89e+03 6.54e+02   1.5 3.17e+02    -  1.14e-01 1.27e-01f  1\n",
      "   8r 6.8671895e+03 3.85e+03 5.85e+02   1.5 4.09e+02    -  6.78e-02 1.06e-01f  1\n",
      "   9r 7.2725548e+03 3.82e+03 5.46e+02   1.5 3.98e+02    -  1.23e-01 6.67e-02f  1\n",
      "iter    objective    inf_pr   inf_du lg(mu)  ||d||  lg(rg) alpha_du alpha_pr  ls\n",
      "  10r 7.9090897e+03 3.78e+03 4.79e+02   1.5 3.77e+02    -  1.95e-01 1.22e-01f  1\n",
      "  11r 8.3328342e+03 3.74e+03 4.29e+02   1.5 3.30e+02    -  2.88e-01 1.04e-01f  1\n",
      "  12r 9.2544446e+03 3.68e+03 3.25e+02   1.5 3.00e+02    -  1.47e-01 2.44e-01f  1\n",
      "  13r 9.6094672e+03 3.65e+03 7.25e+02   0.8 2.29e+02    -  2.08e-01 1.23e-01f  1\n",
      "  14r 1.0117680e+04 3.62e+03 7.02e+02   0.8 8.86e+02    -  1.30e-01 3.19e-02f  1\n",
      "  15r 1.0845991e+04 3.58e+03 6.68e+02   0.8 8.60e+02    -  1.90e-01 4.79e-02f  1\n",
      "  16  1.2617678e+04 3.57e+03 9.95e+00  -1.0 8.81e+03    -  4.74e-03 4.76e-03h  1\n",
      "  17  2.4005762e+04 3.49e+03 9.73e+00  -1.0 1.04e+04    -  7.53e-03 2.23e-02h  1\n",
      "  18  5.1395880e+04 3.34e+03 9.33e+00  -1.0 1.14e+04    -  2.55e-02 4.16e-02h  1\n",
      "  19  1.0541348e+05 3.08e+03 8.60e+00  -1.0 1.13e+04    -  4.46e-02 7.78e-02h  1\n",
      "iter    objective    inf_pr   inf_du lg(mu)  ||d||  lg(rg) alpha_du alpha_pr  ls\n",
      "  20  1.5835607e+05 2.83e+03 7.89e+00  -1.0 9.75e+03    -  3.46e-02 8.23e-02h  1\n",
      "  21  1.6962604e+05 2.77e+03 7.74e+00  -1.0 9.78e+03    -  2.94e-02 2.00e-02h  1\n",
      "  22  1.8611855e+05 2.69e+03 7.52e+00  -1.0 7.86e+03    -  6.22e-02 2.81e-02h  1\n",
      "  23  2.3927999e+05 2.45e+03 6.83e+00  -1.0 8.51e+03    -  5.00e-02 9.25e-02h  1\n",
      "  24  2.6093165e+05 2.34e+03 6.54e+00  -1.0 8.78e+03    -  6.57e-02 4.14e-02h  1\n",
      "  25  3.0593246e+05 2.14e+03 5.99e+00  -1.0 7.11e+03    -  1.95e-01 8.57e-02h  1\n",
      "  26  4.4124356e+05 1.55e+03 4.38e+00  -1.0 7.19e+03    -  5.43e-02 2.76e-01h  1\n",
      "  27  4.4283822e+05 1.55e+03 4.36e+00  -1.0 1.19e+04    -  2.22e-02 4.57e-03h  1\n",
      "  28  4.4701933e+05 1.53e+03 4.30e+00  -1.0 1.35e+04    -  2.38e-02 1.21e-02h  1\n",
      "  29  4.6764498e+05 1.43e+03 4.05e+00  -1.0 1.32e+04    -  3.59e-02 6.04e-02h  1\n",
      "iter    objective    inf_pr   inf_du lg(mu)  ||d||  lg(rg) alpha_du alpha_pr  ls\n",
      "  30  4.6799172e+05 1.43e+03 4.04e+00  -1.0 1.10e+04    -  1.68e-01 1.06e-03h  1\n",
      "  31  4.8328726e+05 1.37e+03 3.85e+00  -1.0 9.87e+03    -  2.13e-02 4.66e-02h  1\n",
      "  32  5.2255549e+05 1.20e+03 3.38e+00  -1.0 9.21e+03    -  7.27e-02 1.24e-01h  1\n",
      "  33  5.4539894e+05 1.10e+03 3.12e+00  -1.0 5.06e+03    -  2.97e-01 7.98e-02h  1\n",
      "  34  6.3488799e+05 7.36e+02 2.13e+00  -1.0 4.27e+03    -  3.86e-01 3.31e-01h  1\n",
      "  35  7.0537437e+05 4.59e+02 1.37e+00  -1.0 2.82e+03    -  3.71e-02 3.76e-01h  1\n",
      "  36  7.0964913e+05 4.43e+02 1.32e+00  -1.0 1.82e+03    -  1.36e-01 3.61e-02h  1\n",
      "  37  7.1611731e+05 4.18e+02 1.24e+00  -1.0 1.69e+03    -  1.99e-01 5.65e-02h  1\n",
      "  38  7.2879188e+05 3.69e+02 1.11e+00  -1.0 1.60e+03    -  3.09e-01 1.17e-01h  1\n",
      "  39  8.1193313e+05 5.72e+01 2.45e+00  -1.0 1.50e+03    -  2.20e-02 8.45e-01h  1\n",
      "iter    objective    inf_pr   inf_du lg(mu)  ||d||  lg(rg) alpha_du alpha_pr  ls\n",
      "  40  8.2492295e+05 9.51e+00 3.47e+00  -1.0 4.04e+02    -  1.32e-01 8.34e-01h  1\n",
      "  41  8.2662980e+05 3.27e+00 6.23e+00  -1.0 1.27e+02    -  1.99e-01 6.56e-01h  1\n",
      "  42  8.2735204e+05 6.46e-01 4.48e-01  -1.0 4.34e+01    -  1.00e+00 8.02e-01h  1\n",
      "  43  8.2721329e+05 6.23e-10 1.25e-05  -1.7 1.49e+01    -  1.00e+00 1.00e+00f  1\n",
      "  44  8.2714525e+05 1.69e-10 8.02e-08  -2.5 3.68e+00    -  1.00e+00 1.00e+00f  1\n",
      "  45  8.2713464e+05 2.57e-11 1.88e-09  -3.8 1.28e+00    -  1.00e+00 1.00e+00f  1\n",
      "  46  8.2713405e+05 1.38e-11 1.84e-11  -5.7 2.77e-01    -  1.00e+00 1.00e+00f  1\n",
      "  47  8.2713404e+05 4.05e-11 2.84e-14  -8.6 3.03e-02    -  1.00e+00 1.00e+00f  1\n",
      "\n",
      "Number of Iterations....: 47\n",
      "\n",
      "                                   (scaled)                 (unscaled)\n",
      "Objective...............:   8.2713404277541081e+05    8.2713404277541081e+05\n",
      "Dual infeasibility......:   2.8421709430404007e-14    2.8421709430404007e-14\n",
      "Constraint violation....:   4.0491413566351167e-11    4.0491413566351167e-11\n",
      "Complementarity.........:   3.3655913563540381e-09    3.3655913563540381e-09\n",
      "Overall NLP error.......:   3.3655913563540381e-09    3.3655913563540381e-09\n",
      "\n",
      "\n",
      "Number of objective function evaluations             = 56\n",
      "Number of objective gradient evaluations             = 35\n",
      "Number of equality constraint evaluations            = 56\n",
      "Number of inequality constraint evaluations          = 56\n",
      "Number of equality constraint Jacobian evaluations   = 49\n",
      "Number of inequality constraint Jacobian evaluations = 49\n",
      "Number of Lagrangian Hessian evaluations             = 47\n",
      "Total CPU secs in IPOPT (w/o function evaluations)   =      1.388\n",
      "Total CPU secs in NLP function evaluations           =      0.008\n",
      "\n",
      "EXIT: Optimal Solution Found.\n"
     ]
    },
    {
     "data": {
      "text/plain": [
       ":Optimal"
      ]
     },
     "execution_count": 15,
     "metadata": {},
     "output_type": "execute_result"
    }
   ],
   "source": [
    "using JuMP\n",
    "\n",
    "# m = Model(solver=GurobiSolver(OutputFlag=false))\n",
    "m = Model()\n",
    "\n",
    "numNodes = 12  # number of nodes\n",
    "\n",
    "@defVar(m, linkFlow[1:numLinks])\n",
    "\n",
    "@defVar(m, odLinkFlow[keys(demands), 1:numLinks])\n",
    "for (s,t) = keys(demands)\n",
    "    for k = 1:numLinks\n",
    "        @addConstraint(m, odLinkFlow[(s,t), k] >= 0)\n",
    "    end\n",
    "end\n",
    "\n",
    "for k = 1:numLinks\n",
    "    linkFlowPartial = sum([odLinkFlow[(s,t), k] for (s,t) = keys(demands)])\n",
    "    @addConstraint(m, linkFlowPartial == linkFlow[k])\n",
    "end\n",
    "\n",
    "for l = 1:numNodes\n",
    "    for (s,t) = keys(demands)\n",
    "        if s != t\n",
    "            odLinkFlowPartial = sum([nodeLink[\"$(l-1)-$(k-1)\"] * odLinkFlow[(s,t), k] for k = 1:numLinks])\n",
    "            if (l == s)\n",
    "                @addConstraint(m, odLinkFlowPartial + demands[(s,t)] == 0)\n",
    "            elseif (l == t)\n",
    "                @addConstraint(m, odLinkFlowPartial - demands[(s,t)] == 0)\n",
    "            else\n",
    "                @addConstraint(m, odLinkFlowPartial == 0)\n",
    "            end\n",
    "        end\n",
    "    end\n",
    "end\n",
    "\n",
    "@defNLExpr(f, sum{free_flow_time[a]*linkFlow[a] + .03*free_flow_time[a]*((linkFlow[a])^5)/((capacity[a])^4), a = 1:numLinks})\n",
    "# @defNLExpr(f, sum{free_flow_time[a]*linkFlow[a] + .15*free_flow_time[a]*((linkFlow[a])^2)/(capacity[a]), a = 1:numLinks})\n",
    "\n",
    "@setNLObjective(m, Min, f)\n",
    "\n",
    "solve(m)"
   ]
  },
  {
   "cell_type": "code",
   "execution_count": 16,
   "metadata": {
    "collapsed": false
   },
   "outputs": [
    {
     "data": {
      "text/plain": [
       "30-element Array{Float64,1}:\n",
       "  2300.0 \n",
       "  3900.0 \n",
       "  2300.0 \n",
       "  3500.0 \n",
       "  3900.0 \n",
       "  7060.55\n",
       "  3039.45\n",
       "  7105.27\n",
       " 10650.3 \n",
       "  4202.51\n",
       " 10642.0 \n",
       "  8050.28\n",
       "  7900.0 \n",
       "     ⋮   \n",
       "  6500.0 \n",
       "  5158.04\n",
       "  7900.0 \n",
       "  5149.72\n",
       " 13758.0 \n",
       " 13749.7 \n",
       "  8158.04\n",
       "  4155.55\n",
       "  8249.72\n",
       "  4194.73\n",
       "  2994.73\n",
       "  4239.45"
      ]
     },
     "execution_count": 16,
     "metadata": {},
     "output_type": "execute_result"
    }
   ],
   "source": [
    "getValue(linkFlow)"
   ]
  },
  {
   "cell_type": "code",
   "execution_count": 17,
   "metadata": {
    "collapsed": false
   },
   "outputs": [
    {
     "data": {
      "text/plain": [
       "827134.0427754108"
      ]
     },
     "execution_count": 17,
     "metadata": {},
     "output_type": "execute_result"
    }
   ],
   "source": [
    "getObjectiveValue(m)"
   ]
  },
  {
   "cell_type": "code",
   "execution_count": 18,
   "metadata": {
    "collapsed": true
   },
   "outputs": [],
   "source": [
    "outfile = open(\"flows_converge_simp.txt\", \"w\")\n",
    "\n",
    "write(outfile, join((\"From\", \"to\", \"Volume Capacity\"), \"        \"), \"\\n\")\n",
    "\n",
    "for i = 1:length(ta_data.start_node)\n",
    "     n1, n2, n3 = ta_data.start_node[i], ta_data.end_node[i], getValue(linkFlow)[i]\n",
    "     write(outfile, join((n1, n2, n3), \"        \"), \"\\n\")\n",
    "end\n",
    "\n",
    "close(outfile)"
   ]
  },
  {
   "cell_type": "code",
   "execution_count": null,
   "metadata": {
    "collapsed": true
   },
   "outputs": [],
   "source": []
  }
 ],
 "metadata": {
  "kernelspec": {
   "display_name": "Julia 0.3.7",
   "language": "julia",
   "name": "julia-0.3"
  },
  "language_info": {
   "file_extension": ".jl",
   "mimetype": "application/julia",
   "name": "julia",
   "version": "0.3.7"
  }
 },
 "nbformat": 4,
 "nbformat_minor": 0
}
