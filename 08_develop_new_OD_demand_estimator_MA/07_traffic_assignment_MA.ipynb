{
 "cells": [
  {
   "cell_type": "code",
   "execution_count": 1,
   "metadata": {
    "collapsed": true
   },
   "outputs": [],
   "source": [
    "using JSON\n",
    "\n",
    "#load OD pair-route incidence\n",
    "odPairRoute = readall(\"od_pair_route_incidence_MA.json\");\n",
    "odPairRoute = JSON.parse(odPairRoute);\n",
    "\n",
    "#load link-route incidence\n",
    "linkRoute = readall(\"link_route_incidence_MA.json\");\n",
    "linkRoute = JSON.parse(linkRoute);\n",
    "\n",
    "#load OD pair labels\n",
    "odPairLabel = readall(\"od_pair_label_dict_MA_refined.json\");\n",
    "odPairLabel = JSON.parse(odPairLabel);\n",
    "\n",
    "odPairLabel_ = readall(\"od_pair_label_dict__MA_refined.json\");\n",
    "odPairLabel_ = JSON.parse(odPairLabel_);\n",
    "\n",
    "#load link labels\n",
    "linkLabel = readall(\"link_label_dict_MA.json\");\n",
    "linkLabel = JSON.parse(linkLabel);\n",
    "\n",
    "linkLabel_ = readall(\"link_label_dict_MA_.json\");\n",
    "linkLabel_ = JSON.parse(linkLabel_);\n",
    "\n",
    "#load node-link incidence\n",
    "nodeLink = readall(\"node_link_incidence_MA.json\");\n",
    "nodeLink = JSON.parse(nodeLink);"
   ]
  },
  {
   "cell_type": "code",
   "execution_count": 2,
   "metadata": {
    "collapsed": false
   },
   "outputs": [
    {
     "data": {
      "text/plain": [
       "load_ta_network (generic function with 2 methods)"
      ]
     },
     "execution_count": 2,
     "metadata": {},
     "output_type": "execute_result"
    }
   ],
   "source": [
    "include(\"load_network_uni-class.jl\")"
   ]
  },
  {
   "cell_type": "code",
   "execution_count": 3,
   "metadata": {
    "collapsed": true
   },
   "outputs": [],
   "source": [
    "ta_data = load_ta_network(\"East_Massachusetts_Jan_PM\");"
   ]
  },
  {
   "cell_type": "code",
   "execution_count": 4,
   "metadata": {
    "collapsed": false
   },
   "outputs": [],
   "source": [
    "capacity = ta_data.capacity;\n",
    "free_flow_time = ta_data.free_flow_time;"
   ]
  },
  {
   "cell_type": "code",
   "execution_count": 5,
   "metadata": {
    "collapsed": false
   },
   "outputs": [],
   "source": [
    "############\n",
    "#Read in the demand file\n",
    "file = open(\"East_Massachusetts_trips_Jan_PM.txt\")\n",
    "demands = Dict{(Int64,Int64), Float64}()\n",
    "s = 0\n",
    "for line in eachline(file)\n",
    "    if contains(line, \"Origin\")\n",
    "        s = int(split(line)[2])\n",
    "    else\n",
    "        pairs = split(line, \";\")\n",
    "        for pair in pairs\n",
    "            if !contains(pair, \"\\n\")\n",
    "                pair_vals = split(pair, \":\")\n",
    "                t, demand = int(pair_vals[1]), float(pair_vals[2])\n",
    "                demands[(s,t)] = demand \n",
    "            end\n",
    "        end\n",
    "    end\n",
    "end                \n",
    "close(file)"
   ]
  },
  {
   "cell_type": "code",
   "execution_count": 6,
   "metadata": {
    "collapsed": false
   },
   "outputs": [
    {
     "data": {
      "text/plain": [
       "Dict{(Int64,Int64),Float64} with 64 entries:\n",
       "  (3,6) => 3000.0\n",
       "  (4,4) => 0.0\n",
       "  (3,1) => 1000.0\n",
       "  (4,5) => 5000.0\n",
       "  (2,4) => 2000.0\n",
       "  (6,5) => 2000.0\n",
       "  (8,4) => 7000.0\n",
       "  (1,2) => 1000.0\n",
       "  (5,1) => 2000.0\n",
       "  (3,4) => 2000.0\n",
       "  (8,2) => 4000.0\n",
       "  (2,3) => 1000.0\n",
       "  (2,6) => 4000.0\n",
       "  (5,4) => 5000.0\n",
       "  (2,1) => 1000.0\n",
       "  (2,5) => 1000.0\n",
       "  (8,5) => 5000.0\n",
       "  (1,4) => 5000.0\n",
       "  (2,8) => 4000.0\n",
       "  (5,8) => 5000.0\n",
       "  (4,8) => 7000.0\n",
       "  (7,8) => 10000.0\n",
       "  (1,1) => 0.0\n",
       "  (7,7) => 0.0\n",
       "  (5,7) => 2000.0\n",
       "  ⋮     => ⋮"
      ]
     },
     "execution_count": 6,
     "metadata": {},
     "output_type": "execute_result"
    }
   ],
   "source": [
    "demands"
   ]
  },
  {
   "cell_type": "code",
   "execution_count": 7,
   "metadata": {
    "collapsed": false
   },
   "outputs": [
    {
     "data": {
      "text/plain": [
       "Dict{String,Any} with 56 entries:\n",
       "  \"32\" => {5,4}\n",
       "  \"29\" => {5,1}\n",
       "  \"1\"  => {1,2}\n",
       "  \"54\" => {8,5}\n",
       "  \"2\"  => {1,3}\n",
       "  \"41\" => {6,7}\n",
       "  \"53\" => {8,4}\n",
       "  \"51\" => {8,2}\n",
       "  \"27\" => {4,7}\n",
       "  \"42\" => {6,8}\n",
       "  \"33\" => {5,6}\n",
       "  \"28\" => {4,8}\n",
       "  \"52\" => {8,3}\n",
       "  \"50\" => {8,1}\n",
       "  \"26\" => {4,6}\n",
       "  \"10\" => {2,4}\n",
       "  \"24\" => {4,3}\n",
       "  \"25\" => {4,5}\n",
       "  \"23\" => {4,2}\n",
       "  \"49\" => {7,8}\n",
       "  \"5\"  => {1,6}\n",
       "  \"31\" => {5,3}\n",
       "  \"43\" => {7,1}\n",
       "  \"39\" => {6,4}\n",
       "  \"44\" => {7,2}\n",
       "  ⋮    => ⋮"
      ]
     },
     "execution_count": 7,
     "metadata": {},
     "output_type": "execute_result"
    }
   ],
   "source": [
    "odPairLabel_"
   ]
  },
  {
   "cell_type": "code",
   "execution_count": 8,
   "metadata": {
    "collapsed": false
   },
   "outputs": [],
   "source": [
    "demandsVec = zeros(56)\n",
    "\n",
    "for i = 1:length(demandsVec)\n",
    "    demandsVec[i] = demands[(odPairLabel_[\"$i\"][1], odPairLabel_[\"$i\"][2])]\n",
    "end"
   ]
  },
  {
   "cell_type": "code",
   "execution_count": 9,
   "metadata": {
    "collapsed": false
   },
   "outputs": [
    {
     "data": {
      "text/plain": [
       "56-element Array{Float64,1}:\n",
       "  1000.0\n",
       "  1000.0\n",
       "  5000.0\n",
       "  2000.0\n",
       "  3000.0\n",
       "  5000.0\n",
       "  8000.0\n",
       "  1000.0\n",
       "  1000.0\n",
       "  2000.0\n",
       "  1000.0\n",
       "  4000.0\n",
       "  2000.0\n",
       "     ⋮  \n",
       "  1000.0\n",
       "  4000.0\n",
       "  2000.0\n",
       "  4000.0\n",
       " 10000.0\n",
       "  8000.0\n",
       "  4000.0\n",
       "  2000.0\n",
       "  7000.0\n",
       "  5000.0\n",
       "  8000.0\n",
       " 10000.0"
      ]
     },
     "execution_count": 9,
     "metadata": {},
     "output_type": "execute_result"
    }
   ],
   "source": [
    "demandsVec"
   ]
  },
  {
   "cell_type": "code",
   "execution_count": 10,
   "metadata": {
    "collapsed": false
   },
   "outputs": [
    {
     "name": "stdout",
     "output_type": "stream",
     "text": [
      "56-724\n",
      "56-721\n",
      "56-719\n",
      "56-717\n",
      "56-718\n",
      "56-715\n",
      "56-722\n",
      "56-723\n",
      "56-713\n",
      "56-714\n",
      "56-720\n",
      "56-716\n"
     ]
    }
   ],
   "source": [
    "for key=keys(odPairRoute)\n",
    "    if contains(key, \"56-\")\n",
    "        println(key)\n",
    "    end\n",
    "end"
   ]
  },
  {
   "cell_type": "code",
   "execution_count": 11,
   "metadata": {
    "collapsed": false
   },
   "outputs": [
    {
     "name": "stdout",
     "output_type": "stream",
     "text": [
      "\n",
      "******************************************************************************\n",
      "This program contains Ipopt, a library for large-scale nonlinear optimization.\n",
      " Ipopt is released as open source code under the Eclipse Public License (EPL).\n",
      "         For more information visit http://projects.coin-or.org/Ipopt\n",
      "******************************************************************************\n",
      "\n",
      "This is Ipopt version 3.12.1, running with linear solver mumps.\n",
      "NOTE: Other linear solvers might be more efficient (see Ipopt documentation).\n",
      "\n",
      "Number of nonzeros in equality constraint Jacobian...:     4092\n",
      "Number of nonzeros in inequality constraint Jacobian.:      724\n",
      "Number of nonzeros in Lagrangian Hessian.............:       24\n",
      "\n",
      "Total number of variables............................:      748\n",
      "                     variables with only lower bounds:        0\n",
      "                variables with lower and upper bounds:        0\n",
      "                     variables with only upper bounds:        0\n",
      "Total number of equality constraints.................:       80\n",
      "Total number of inequality constraints...............:      724\n",
      "        inequality constraints with only lower bounds:      724\n",
      "   inequality constraints with lower and upper bounds:        0\n",
      "        inequality constraints with only upper bounds:        0\n",
      "\n",
      "iter    objective    inf_pr   inf_du lg(mu)  ||d||  lg(rg) alpha_du alpha_pr  ls\n",
      "   0  0.0000000e+00 1.00e+04 5.31e-01  -1.0 0.00e+00    -  0.00e+00 0.00e+00   0\n",
      "   1  6.6179779e+05 1.91e-11 8.33e+04  -1.0 4.96e+04    -  1.19e-05 1.00e+00h  1\n",
      "   2  5.8714429e+05 2.42e-11 7.21e+04  -1.0 1.32e+04    -  8.17e-02 1.34e-01f  1\n",
      "   3  5.5951428e+05 6.55e-11 6.81e+04  -1.0 1.29e+04    -  1.71e-01 5.54e-02f  1\n",
      "   4  4.3821676e+05 2.75e-11 4.92e+04  -1.0 1.28e+04    -  1.15e-01 2.78e-01f  1\n",
      "   5  4.1281759e+05 3.00e-11 4.57e+04  -1.0 1.26e+04    -  2.89e-01 7.16e-02f  1\n",
      "   6  3.4782335e+05 2.46e-11 3.63e+04  -1.0 1.33e+04    -  1.77e-01 2.06e-01f  1\n",
      "   7  3.2494845e+05 3.79e-11 3.32e+04  -1.0 1.44e+04    -  2.35e-01 8.40e-02f  1\n",
      "   8  3.0964022e+05 2.80e-11 3.12e+04  -1.0 1.52e+04    -  2.13e-01 6.00e-02f  1\n",
      "   9  2.5372083e+05 2.23e-11 2.35e+04  -1.0 1.65e+04    -  1.43e-01 2.49e-01f  1\n",
      "iter    objective    inf_pr   inf_du lg(mu)  ||d||  lg(rg) alpha_du alpha_pr  ls\n",
      "  10  1.9074316e+05 2.36e-11 1.51e+04  -1.0 2.01e+04    -  2.23e-01 3.57e-01f  1\n",
      "  11  1.6011837e+05 2.38e-11 1.17e+04  -1.0 2.34e+04    -  2.00e-01 2.28e-01f  1\n",
      "  12  1.4451720e+05 2.55e-11 9.71e+03  -1.0 1.60e+04    -  1.99e-01 1.68e-01f  1\n",
      "  13  1.3368589e+05 1.21e-11 8.16e+03  -1.0 1.30e+04    -  1.93e-01 1.59e-01f  1\n",
      "  14  1.2596807e+05 1.00e-11 6.86e+03  -1.0 1.18e+04    -  1.65e-01 1.59e-01f  1\n",
      "  15  1.2354338e+05 2.24e-11 6.41e+03  -1.0 1.59e+04    -  3.43e-02 6.56e-02f  1\n",
      "  16  1.2183486e+05 1.61e-11 6.07e+03  -1.0 1.33e+04    -  7.52e-02 5.19e-02f  1\n",
      "  17  1.2038875e+05 2.50e-11 5.77e+03  -1.0 1.09e+04    -  1.48e-01 5.03e-02f  1\n",
      "  18  1.1718597e+05 2.00e-11 4.98e+03  -1.0 1.10e+04    -  8.75e-02 1.36e-01f  1\n",
      "  19  1.1518771e+05 3.00e-11 4.44e+03  -1.0 1.20e+04    -  1.47e-01 1.10e-01f  1\n",
      "iter    objective    inf_pr   inf_du lg(mu)  ||d||  lg(rg) alpha_du alpha_pr  ls\n",
      "  20  1.1337737e+05 2.00e-11 3.97e+03  -1.0 1.17e+04    -  6.29e-02 1.05e-01f  1\n",
      "  21  1.1173641e+05 1.55e-11 3.55e+03  -1.0 1.41e+04    -  1.08e-01 1.06e-01f  1\n",
      "  22  1.1136634e+05 1.27e-11 3.45e+03  -1.0 1.34e+04    -  5.52e-02 2.80e-02f  1\n",
      "  23  1.0914326e+05 1.09e-11 2.82e+03  -1.0 1.28e+04    -  5.51e-02 1.81e-01f  1\n",
      "  24  1.0910265e+05 1.18e-11 2.81e+03  -1.0 7.42e+03    -  5.66e-01 5.36e-03f  1\n",
      "  25  1.0866112e+05 1.64e-11 2.50e+03  -1.0 3.72e+03    -  6.18e-01 1.10e-01f  1\n",
      "  26  1.0747947e+05 1.52e-11 1.46e+03  -1.0 3.14e+03    -  4.13e-02 4.15e-01f  1\n",
      "  27  1.0629649e+05 1.31e-11 3.12e+02  -1.0 2.01e+03    -  2.05e-01 7.87e-01f  1\n",
      "  28  1.0600627e+05 1.93e-11 8.33e+00  -1.0 1.18e+03    -  3.36e-01 9.73e-01f  1\n",
      "  29  1.0600603e+05 2.73e-11 3.12e-02  -1.0 2.18e+02    -  6.89e-01 1.00e+00f  1\n",
      "iter    objective    inf_pr   inf_du lg(mu)  ||d||  lg(rg) alpha_du alpha_pr  ls\n",
      "  30  1.0595230e+05 2.18e-11 3.17e-05  -1.7 1.64e+02    -  1.00e+00 1.00e+00f  1\n",
      "  31  1.0594109e+05 3.09e-11 5.23e-06  -2.5 9.23e+01    -  1.00e+00 1.00e+00f  1\n",
      "  32  1.0593925e+05 4.18e-11 8.69e-07  -3.8 2.68e+01    -  1.00e+00 1.00e+00f  1\n",
      "  33  1.0593924e+05 1.64e-11 1.15e-07  -3.8 3.99e+01    -  1.00e+00 1.00e+00f  1\n",
      "  34  1.0593914e+05 2.64e-11 2.90e-08  -5.7 5.44e+00    -  1.00e+00 1.00e+00f  1\n",
      "  35  1.0593914e+05 3.73e-11 6.49e-05  -5.7 6.49e-01  -4.0 1.00e+00 1.00e+00f  1\n",
      "  36  1.0593914e+05 3.27e-11 5.27e-05  -5.7 1.58e+00  -4.5 1.00e+00 1.00e+00f  1\n",
      "  37  1.0593914e+05 1.82e-11 3.81e-05  -5.7 1.67e+00  -5.0 1.00e+00 4.28e-01f  1\n",
      "  38  1.0593914e+05 2.36e-11 4.04e-05  -5.7 3.33e-01  -5.4 1.00e+00 7.33e-01f  1\n",
      "  39  1.0593914e+05 2.91e-11 2.45e-07  -5.7 1.98e-01  -5.9 1.00e+00 1.00e+00f  1\n",
      "iter    objective    inf_pr   inf_du lg(mu)  ||d||  lg(rg) alpha_du alpha_pr  ls\n",
      "  40  1.0593914e+05 4.00e-11 2.59e-08  -8.6 6.28e-02  -6.4 1.00e+00 1.00e+00f  1\n",
      "  41  1.0593914e+05 2.18e-11 5.52e-10  -8.6 4.02e-03  -6.9 1.00e+00 1.00e+00h  1\n",
      "\n",
      "Number of Iterations....: 41\n",
      "\n",
      "                                   (scaled)                 (unscaled)\n",
      "Objective...............:   1.0593914129007379e+05    1.0593914129007379e+05\n",
      "Dual infeasibility......:   5.5150234379297558e-10    5.5150234379297558e-10\n",
      "Constraint violation....:   2.1827872842550278e-11    2.1827872842550278e-11\n",
      "Complementarity.........:   2.5059053205201613e-09    2.5059053205201613e-09\n",
      "Overall NLP error.......:   2.5059053205201613e-09    2.5059053205201613e-09\n",
      "\n",
      "\n",
      "Number of objective function evaluations             = 42\n",
      "Number of objective gradient evaluations             = 42\n",
      "Number of equality constraint evaluations            = 42\n",
      "Number of inequality constraint evaluations          = 42\n",
      "Number of equality constraint Jacobian evaluations   = 42\n",
      "Number of inequality constraint Jacobian evaluations = 42\n",
      "Number of Lagrangian Hessian evaluations             = 41\n",
      "Total CPU secs in IPOPT (w/o function evaluations)   =      0.212\n",
      "Total CPU secs in NLP function evaluations           =      0.008\n",
      "\n",
      "EXIT: Optimal Solution Found.\n"
     ]
    },
    {
     "data": {
      "text/plain": [
       ":Optimal"
      ]
     },
     "execution_count": 11,
     "metadata": {},
     "output_type": "execute_result"
    }
   ],
   "source": [
    "using JuMP\n",
    "\n",
    "# m = Model(solver=GurobiSolver(OutputFlag=false))\n",
    "m = Model()\n",
    "\n",
    "numLinks = 24\n",
    "numRoute = 724\n",
    "numOD = 56\n",
    "\n",
    "@defVar(m, linkFlow[1:numLinks])\n",
    "@defVar(m, pathFlow[1:numRoute])\n",
    "\n",
    "pathFlowSum = Dict()\n",
    "\n",
    "for i=1:numOD\n",
    "    pathFlowSum[i] = 0\n",
    "    for j=1:numRoute\n",
    "        if \"$(i)-$(j)\" in keys(odPairRoute)\n",
    "            pathFlowSum[i] += pathFlow[j]\n",
    "        end\n",
    "    end\n",
    "    @addConstraint(m, pathFlowSum[i] == demandsVec[i])\n",
    "end\n",
    "\n",
    "pathFlowLinkSum = Dict()\n",
    "\n",
    "for a=1:numLinks\n",
    "    pathFlowLinkSum[a] = 0\n",
    "    for j=1:numRoute\n",
    "        if \"$(a)-$(j)\" in keys(linkRoute)\n",
    "            pathFlowLinkSum[a] += pathFlow[j]\n",
    "        end\n",
    "    end\n",
    "    @addConstraint(m, pathFlowLinkSum[a] == linkFlow[a])\n",
    "end\n",
    "\n",
    "for j=1:numRoute\n",
    "    @addConstraint(m, pathFlow[j] >= 0)\n",
    "end\n",
    "\n",
    "@defNLExpr(f, sum{free_flow_time[a]*linkFlow[a] + .03*free_flow_time[a]*((linkFlow[a])^5)/((capacity[a])^4), a = 1:numLinks})\n",
    "\n",
    "@setNLObjective(m, Min, f)\n",
    "\n",
    "solve(m)"
   ]
  },
  {
   "cell_type": "code",
   "execution_count": 12,
   "metadata": {
    "collapsed": false
   },
   "outputs": [
    {
     "data": {
      "text/plain": [
       "24-element Array{Float64,1}:\n",
       " 12449.5\n",
       " 12098.2\n",
       " 12550.5\n",
       " 12901.8\n",
       "  8000.0\n",
       "  8000.0\n",
       " 17449.5\n",
       " 17098.2\n",
       " 14969.6\n",
       " 15529.0\n",
       " 12581.0\n",
       " 12372.8\n",
       " 15398.7\n",
       " 15000.0\n",
       "  6000.0\n",
       "  6000.0\n",
       " 17449.5\n",
       " 17496.9\n",
       " 19969.6\n",
       " 20130.3\n",
       " 14581.0\n",
       " 14372.8\n",
       " 26550.5\n",
       " 26503.1"
      ]
     },
     "execution_count": 12,
     "metadata": {},
     "output_type": "execute_result"
    }
   ],
   "source": [
    "getValue(linkFlow)"
   ]
  },
  {
   "cell_type": "code",
   "execution_count": 13,
   "metadata": {
    "collapsed": false
   },
   "outputs": [
    {
     "data": {
      "text/plain": [
       "105939.14129007379"
      ]
     },
     "execution_count": 13,
     "metadata": {},
     "output_type": "execute_result"
    }
   ],
   "source": [
    "getObjectiveValue(m)"
   ]
  },
  {
   "cell_type": "code",
   "execution_count": 14,
   "metadata": {
    "collapsed": false
   },
   "outputs": [
    {
     "data": {
      "text/plain": [
       "Dict{(Int64,Int64),Float64} with 24 entries:\n",
       "  (3,6) => 12580.962934857382\n",
       "  (2,3) => 8000.000006211795\n",
       "  (5,6) => 5999.999999657815\n",
       "  (5,4) => 15000.000045688375\n",
       "  (2,1) => 12098.207517230503\n",
       "  (6,3) => 12372.81605908074\n",
       "  (3,1) => 12901.792481501747\n",
       "  (1,3) => 12550.538550238449\n",
       "  (4,5) => 15398.718801194647\n",
       "  (4,8) => 17449.461488020588\n",
       "  (7,5) => 20130.257621172972\n",
       "  (8,7) => 26503.073680127836\n",
       "  (3,2) => 8000.000000309591\n",
       "  (7,6) => 14372.81605870905\n",
       "  (2,4) => 17449.461441646225\n",
       "  (7,8) => 26550.538510273043\n",
       "  (6,5) => 5999.999999680477\n",
       "  (6,7) => 14580.962934463025\n",
       "  (8,4) => 17496.92631816578\n",
       "  (1,2) => 12449.461448493807\n",
       "  (5,3) => 15528.976422823958\n",
       "  (4,2) => 17098.207516285114\n",
       "  (3,5) => 14969.575621686221\n",
       "  (5,7) => 19969.575575564166"
      ]
     },
     "execution_count": 14,
     "metadata": {},
     "output_type": "execute_result"
    }
   ],
   "source": [
    "flows = Dict{(Int64,Int64),Float64}()\n",
    "\n",
    "for i = 1:length(ta_data.start_node)\n",
    "    key = (ta_data.start_node[i], ta_data.end_node[i])\n",
    "    flows[key] = getValue(linkFlow)[i]\n",
    "end\n",
    "\n",
    "flows"
   ]
  },
  {
   "cell_type": "code",
   "execution_count": 15,
   "metadata": {
    "collapsed": true
   },
   "outputs": [],
   "source": [
    "outfile = open(\"flows_MA.json\", \"w\")\n",
    "\n",
    "JSON.print(outfile, flows)\n",
    "\n",
    "close(outfile)"
   ]
  },
  {
   "cell_type": "code",
   "execution_count": 16,
   "metadata": {
    "collapsed": false
   },
   "outputs": [
    {
     "name": "stdout",
     "output_type": "stream",
     "text": [
      "This is Ipopt version 3.12.1, running with linear solver mumps.\n",
      "NOTE: Other linear solvers might be more efficient (see Ipopt documentation).\n",
      "\n",
      "Number of nonzeros in equality constraint Jacobian...:     4248\n",
      "Number of nonzeros in inequality constraint Jacobian.:     1536\n",
      "Number of nonzeros in Lagrangian Hessian.............:       24\n",
      "\n",
      "Total number of variables............................:     1560\n",
      "                     variables with only lower bounds:        0\n",
      "                variables with lower and upper bounds:        0\n",
      "                     variables with only upper bounds:        0\n",
      "Total number of equality constraints.................:      472\n",
      "Total number of inequality constraints...............:     1536\n",
      "        inequality constraints with only lower bounds:     1536\n",
      "   inequality constraints with lower and upper bounds:        0\n",
      "        inequality constraints with only upper bounds:        0\n",
      "\n",
      "iter    objective    inf_pr   inf_du lg(mu)  ||d||  lg(rg) alpha_du alpha_pr  ls\n",
      "   0  0.0000000e+00 1.00e+04 1.00e+00  -1.0 0.00e+00    -  0.00e+00 0.00e+00   0\n",
      "   1r 0.0000000e+00 1.00e+04 9.99e+02   4.0 0.00e+00    -  0.00e+00 8.95e-08R  6\n",
      "   2r 6.2900766e+01 1.00e+04 9.96e+02   4.0 6.72e+03    -  3.01e-03 3.01e-03f  1\n",
      "   3r 6.3373295e+01 9.97e+03 9.35e+02   1.9 9.71e+01    -  1.00e+00 4.98e-01f  1\n",
      "   4r 7.5491697e+01 9.96e+03 9.16e+02   1.9 5.95e+02    -  1.04e-01 2.02e-02f  1\n",
      "   5r 1.1239686e+02 9.94e+03 8.53e+02   1.9 4.91e+02    -  1.98e-01 6.88e-02f  1\n",
      "   6r 1.5936498e+02 9.91e+03 7.55e+02   1.9 3.57e+02    -  2.89e-01 1.15e-01f  1\n",
      "   7r 2.0305162e+02 9.87e+03 6.39e+02   1.9 3.42e+02    -  9.98e-02 1.53e-01f  1\n",
      "   8r 2.2596084e+02 9.85e+03 9.32e+02   1.2 3.05e+02    -  1.89e-01 1.14e-01f  1\n",
      "   9r 2.7866367e+02 9.78e+03 8.34e+02   1.2 7.93e+02    -  1.22e-01 1.05e-01f  1\n",
      "iter    objective    inf_pr   inf_du lg(mu)  ||d||  lg(rg) alpha_du alpha_pr  ls\n",
      "  10r 3.2525036e+02 9.72e+03 7.42e+02   1.2 7.40e+02    -  2.76e-01 1.11e-01f  1\n",
      "  11r 3.8727257e+02 9.64e+03 6.31e+02   1.2 7.99e+02    -  1.55e-01 1.50e-01f  1\n",
      "  12r 5.1064033e+02 9.50e+03 4.33e+02   1.2 7.50e+02    -  1.91e-01 3.13e-01f  1\n",
      "  13r 6.0472721e+02 9.39e+03 2.86e+02   1.2 5.21e+02    -  4.47e-01 3.40e-01f  1\n",
      "  14r 7.3563422e+02 9.25e+03 9.62e+01   1.2 3.43e+02    -  4.07e-01 6.63e-01f  1\n",
      "  15r 7.4984678e+02 9.23e+03 8.49e+02   0.5 1.14e+02    -  6.26e-01 2.01e-01f  1\n",
      "  16r 7.5731712e+02 9.22e+03 8.43e+02   0.5 1.64e+03    -  3.19e-01 7.20e-03f  1\n",
      "  17r 8.1425725e+02 9.16e+03 7.96e+02   0.5 1.62e+03    -  4.00e-01 5.53e-02f  1\n",
      "  18r 8.6566201e+02 9.11e+03 7.54e+02   0.5 1.53e+03    -  6.17e-01 5.28e-02f  1\n",
      "  19r 1.2032932e+03 8.75e+03 4.78e+02   0.5 1.45e+03    -  6.85e-01 3.66e-01f  1\n",
      "iter    objective    inf_pr   inf_du lg(mu)  ||d||  lg(rg) alpha_du alpha_pr  ls\n",
      "  20  2.2860245e+03 8.66e+03 1.06e+00  -1.0 2.59e+04    -  9.01e-03 1.01e-02h  1\n",
      "  21  1.0928759e+04 7.96e+03 2.01e+00  -1.0 2.61e+04    -  1.67e-02 8.16e-02h  1\n",
      "  22  4.6059760e+04 5.07e+03 2.02e+00  -1.0 2.33e+04    -  9.70e-02 3.63e-01h  1\n",
      "  23  1.1487971e+05 1.34e-08 8.35e-01  -1.0 1.42e+04    -  3.50e-01 1.00e+00h  1\n",
      "  24  1.1064302e+05 7.43e-09 5.78e-01  -1.0 6.80e+03    -  3.11e-01 4.54e-01f  1\n",
      "  25  1.0826807e+05 4.25e-09 2.55e-01  -1.0 3.88e+03    -  5.58e-01 5.40e-01f  1\n",
      "  26  1.0709487e+05 2.08e-09 2.01e-01  -1.0 1.61e+03    -  2.14e-01 6.50e-01f  1\n",
      "  27  1.0641844e+05 5.48e-10 1.94e-01  -1.0 9.55e+02    -  1.48e-01 8.90e-01f  1\n",
      "  28  1.0615871e+05 2.88e-10 1.42e-01  -1.0 9.77e+02    -  2.82e-01 1.00e+00f  1\n",
      "  29  1.0610903e+05 3.67e-10 2.14e-02  -1.0 3.35e+02    -  8.75e-01 1.00e+00f  1\n",
      "iter    objective    inf_pr   inf_du lg(mu)  ||d||  lg(rg) alpha_du alpha_pr  ls\n",
      "  30  1.0608377e+05 2.31e-10 1.57e-05  -1.0 1.39e+02    -  1.00e+00 1.00e+00f  1\n",
      "  31  1.0596785e+05 1.94e-11 3.66e-05  -1.7 2.29e+02    -  1.00e+00 1.00e+00f  1\n",
      "  32  1.0594328e+05 1.22e-11 1.05e-05  -2.5 1.05e+02    -  1.00e+00 1.00e+00f  1\n",
      "  33  1.0594313e+05 2.22e-11 1.47e-06  -2.5 1.37e+02    -  1.00e+00 1.00e+00f  1\n",
      "  34  1.0593936e+05 1.01e-11 5.69e-07  -3.8 2.31e+01    -  1.00e+00 1.00e+00f  1\n",
      "  35  1.0593935e+05 1.27e-11 9.11e-08  -3.8 2.35e+01    -  1.00e+00 1.00e+00f  1\n",
      "  36  1.0593915e+05 1.92e-11 8.11e-07  -5.7 5.52e+00    -  1.00e+00 9.96e-01f  1\n",
      "  37  1.0593914e+05 2.98e-11 5.00e-05  -5.7 5.00e-01  -4.0 1.00e+00 1.00e+00f  1\n",
      "  38  1.0593914e+05 1.96e-11 4.14e-05  -5.7 1.24e+00  -4.5 1.00e+00 1.00e+00f  1\n",
      "  39  1.0593914e+05 2.12e-11 7.41e-05  -5.7 1.41e+01    -  1.00e+00 2.00e-01f  1\n",
      "iter    objective    inf_pr   inf_du lg(mu)  ||d||  lg(rg) alpha_du alpha_pr  ls\n",
      "  40  1.0593914e+05 2.51e-11 4.74e-05  -5.7 3.85e-01  -5.0 3.77e-01 5.35e-01f  1\n",
      "  41  1.0593914e+05 1.16e-11 1.22e-03  -5.7 2.72e+01    -  4.74e-02 1.00e+00f  1\n",
      "  42  1.0593914e+05 8.44e-12 1.17e-03  -5.7 5.34e+03    -  9.24e-02 3.22e-02h  3\n",
      "  43  1.0593914e+05 3.77e-12 1.45e-07  -5.7 3.90e-02  -5.4 1.00e+00 1.00e+00H  1\n",
      "  44  1.0593914e+05 1.33e-11 5.97e-08  -8.6 4.84e-02  -5.9 1.00e+00 1.00e+00f  1\n",
      "  45  1.0593914e+05 1.49e-11 1.11e-09  -8.6 2.69e-03  -6.4 1.00e+00 1.00e+00h  1\n",
      "\n",
      "Number of Iterations....: 45\n",
      "\n",
      "                                   (scaled)                 (unscaled)\n",
      "Objective...............:   1.0593914129382221e+05    1.0593914129382221e+05\n",
      "Dual infeasibility......:   1.1071902283887880e-09    1.1071902283887880e-09\n",
      "Constraint violation....:   1.4860529038050337e-11    1.4860529038050337e-11\n",
      "Complementarity.........:   3.6191833399347970e-09    3.6191833399347970e-09\n",
      "Overall NLP error.......:   3.6191833399347970e-09    3.6191833399347970e-09\n",
      "\n",
      "\n",
      "Number of objective function evaluations             = 56\n",
      "Number of objective gradient evaluations             = 29\n",
      "Number of equality constraint evaluations            = 56\n",
      "Number of inequality constraint evaluations          = 56\n",
      "Number of equality constraint Jacobian evaluations   = 47\n",
      "Number of inequality constraint Jacobian evaluations = 47\n",
      "Number of Lagrangian Hessian evaluations             = 45\n",
      "Total CPU secs in IPOPT (w/o function evaluations)   =      0.548\n",
      "Total CPU secs in NLP function evaluations           =      0.016\n",
      "\n",
      "EXIT: Optimal Solution Found.\n"
     ]
    },
    {
     "data": {
      "text/plain": [
       ":Optimal"
      ]
     },
     "execution_count": 16,
     "metadata": {},
     "output_type": "execute_result"
    }
   ],
   "source": [
    "using JuMP\n",
    "\n",
    "# m = Model(solver=GurobiSolver(OutputFlag=false))\n",
    "m = Model()\n",
    "\n",
    "numLinks = 24  # number of links\n",
    "numNodes = 8  # number of nodes\n",
    "\n",
    "@defVar(m, linkFlow[1:numLinks])\n",
    "\n",
    "@defVar(m, odLinkFlow[keys(demands), 1:numLinks])\n",
    "for (s,t) = keys(demands)\n",
    "    for k = 1:numLinks\n",
    "        @addConstraint(m, odLinkFlow[(s,t), k] >= 0)\n",
    "    end\n",
    "end\n",
    "\n",
    "for k = 1:numLinks\n",
    "    linkFlowPartial = sum([odLinkFlow[(s,t), k] for (s,t) = keys(demands)])\n",
    "    @addConstraint(m, linkFlowPartial == linkFlow[k])\n",
    "end\n",
    "\n",
    "for l = 1:numNodes\n",
    "    for (s,t) = keys(demands)\n",
    "        if s != t\n",
    "            odLinkFlowPartial = sum([nodeLink[\"$(l-1)-$(k-1)\"] * odLinkFlow[(s,t), k] for k = 1:numLinks])\n",
    "            if (l == s)\n",
    "                @addConstraint(m, odLinkFlowPartial + demands[(s,t)] == 0)\n",
    "            elseif (l == t)\n",
    "                @addConstraint(m, odLinkFlowPartial - demands[(s,t)] == 0)\n",
    "            else\n",
    "                @addConstraint(m, odLinkFlowPartial == 0)\n",
    "            end\n",
    "        end\n",
    "    end\n",
    "end\n",
    "\n",
    "@defNLExpr(f, sum{free_flow_time[a]*linkFlow[a] + .03*free_flow_time[a]*((linkFlow[a])^5)/((capacity[a])^4), a = 1:24})\n",
    "\n",
    "@setNLObjective(m, Min, f)\n",
    "\n",
    "solve(m)"
   ]
  },
  {
   "cell_type": "code",
   "execution_count": 17,
   "metadata": {
    "collapsed": false
   },
   "outputs": [
    {
     "data": {
      "text/plain": [
       "24-element Array{Float64,1}:\n",
       " 12449.5\n",
       " 12098.2\n",
       " 12550.5\n",
       " 12901.8\n",
       "  8000.0\n",
       "  8000.0\n",
       " 17449.5\n",
       " 17098.2\n",
       " 14969.6\n",
       " 15529.0\n",
       " 12581.0\n",
       " 12372.8\n",
       " 15398.7\n",
       " 15000.0\n",
       "  6000.0\n",
       "  6000.0\n",
       " 17449.5\n",
       " 17496.9\n",
       " 19969.6\n",
       " 20130.3\n",
       " 14581.0\n",
       " 14372.8\n",
       " 26550.5\n",
       " 26503.1"
      ]
     },
     "execution_count": 17,
     "metadata": {},
     "output_type": "execute_result"
    }
   ],
   "source": [
    "getValue(linkFlow)"
   ]
  },
  {
   "cell_type": "code",
   "execution_count": 18,
   "metadata": {
    "collapsed": false
   },
   "outputs": [
    {
     "data": {
      "text/plain": [
       "105939.1412938222"
      ]
     },
     "execution_count": 18,
     "metadata": {},
     "output_type": "execute_result"
    }
   ],
   "source": [
    "getObjectiveValue(m)"
   ]
  },
  {
   "cell_type": "code",
   "execution_count": 19,
   "metadata": {
    "collapsed": true
   },
   "outputs": [],
   "source": [
    "outfile = open(\"flows_converge.txt\", \"w\")\n",
    "\n",
    "write(outfile, join((\"From\", \"to\", \"Volume_Capacity\"), \"        \"), \"\\n\")\n",
    "\n",
    "for i = 1:length(ta_data.start_node)\n",
    "     n1, n2, n3 = ta_data.start_node[i], ta_data.end_node[i], getValue(linkFlow)[i]\n",
    "     write(outfile, join((n1, n2, n3), \"        \"), \"\\n\")\n",
    "end\n",
    "\n",
    "close(outfile)"
   ]
  },
  {
   "cell_type": "code",
   "execution_count": 20,
   "metadata": {
    "collapsed": false
   },
   "outputs": [
    {
     "data": {
      "text/plain": [
       "24-element Array{Float64,1}:\n",
       " 14699.6\n",
       " 14306.7\n",
       " 18114.8\n",
       " 18355.2\n",
       " 18827.2\n",
       " 17196.2\n",
       " 15365.5\n",
       " 15354.3\n",
       " 19942.7\n",
       " 19596.0\n",
       " 18921.6\n",
       " 16388.7\n",
       " 14387.5\n",
       " 16011.2\n",
       " 14815.3\n",
       " 11905.0\n",
       " 15000.0\n",
       " 15000.0\n",
       " 18095.9\n",
       " 18215.6\n",
       " 17324.1\n",
       " 16728.5\n",
       " 15000.0\n",
       " 15000.0"
      ]
     },
     "execution_count": 20,
     "metadata": {},
     "output_type": "execute_result"
    }
   ],
   "source": [
    "capacity"
   ]
  },
  {
   "cell_type": "code",
   "execution_count": 21,
   "metadata": {
    "collapsed": false
   },
   "outputs": [
    {
     "data": {
      "text/plain": [
       "Dict{(Int64,Int64),Float64} with 24 entries:\n",
       "  (3,6) => 12580.962934857382\n",
       "  (2,3) => 8000.000006211795\n",
       "  (5,6) => 5999.999999657815\n",
       "  (5,4) => 15000.000045688375\n",
       "  (2,1) => 12098.207517230503\n",
       "  (6,3) => 12372.81605908074\n",
       "  (3,1) => 12901.792481501747\n",
       "  (1,3) => 12550.538550238449\n",
       "  (4,5) => 15398.718801194647\n",
       "  (4,8) => 17449.461488020588\n",
       "  (7,5) => 20130.257621172972\n",
       "  (8,7) => 26503.073680127836\n",
       "  (3,2) => 8000.000000309591\n",
       "  (7,6) => 14372.81605870905\n",
       "  (2,4) => 17449.461441646225\n",
       "  (7,8) => 26550.538510273043\n",
       "  (6,5) => 5999.999999680477\n",
       "  (6,7) => 14580.962934463025\n",
       "  (8,4) => 17496.92631816578\n",
       "  (1,2) => 12449.461448493807\n",
       "  (5,3) => 15528.976422823958\n",
       "  (4,2) => 17098.207516285114\n",
       "  (3,5) => 14969.575621686221\n",
       "  (5,7) => 19969.575575564166"
      ]
     },
     "execution_count": 21,
     "metadata": {},
     "output_type": "execute_result"
    }
   ],
   "source": [
    "flows"
   ]
  },
  {
   "cell_type": "code",
   "execution_count": null,
   "metadata": {
    "collapsed": true
   },
   "outputs": [],
   "source": []
  }
 ],
 "metadata": {
  "kernelspec": {
   "display_name": "Julia 0.3.7",
   "language": "julia",
   "name": "julia-0.3"
  },
  "language_info": {
   "file_extension": ".jl",
   "mimetype": "application/julia",
   "name": "julia",
   "version": "0.3.7"
  }
 },
 "nbformat": 4,
 "nbformat_minor": 0
}
