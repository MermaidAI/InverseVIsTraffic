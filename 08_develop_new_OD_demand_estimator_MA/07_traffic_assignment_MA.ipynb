{
 "cells": [
  {
   "cell_type": "code",
   "execution_count": 1,
   "metadata": {
    "collapsed": true
   },
   "outputs": [],
   "source": [
    "using JSON\n",
    "\n",
    "#load OD pair-route incidence\n",
    "odPairRoute = readall(\"od_pair_route_incidence_MA.json\");\n",
    "odPairRoute = JSON.parse(odPairRoute);\n",
    "\n",
    "#load link-route incidence\n",
    "linkRoute = readall(\"link_route_incidence_MA.json\");\n",
    "linkRoute = JSON.parse(linkRoute);\n",
    "\n",
    "#load OD pair labels\n",
    "odPairLabel = readall(\"od_pair_label_dict_MA_refined.json\");\n",
    "odPairLabel = JSON.parse(odPairLabel);\n",
    "\n",
    "odPairLabel_ = readall(\"od_pair_label_dict__MA_refined.json\");\n",
    "odPairLabel_ = JSON.parse(odPairLabel_);\n",
    "\n",
    "#load link labels\n",
    "linkLabel = readall(\"link_label_dict_MA.json\");\n",
    "linkLabel = JSON.parse(linkLabel);\n",
    "\n",
    "linkLabel_ = readall(\"link_label_dict_MA_.json\");\n",
    "linkLabel_ = JSON.parse(linkLabel_);\n",
    "\n",
    "#load node-link incidence\n",
    "nodeLink = readall(\"node_link_incidence_MA.json\");\n",
    "nodeLink = JSON.parse(nodeLink);"
   ]
  },
  {
   "cell_type": "code",
   "execution_count": 2,
   "metadata": {
    "collapsed": false
   },
   "outputs": [
    {
     "data": {
      "text/plain": [
       "load_ta_network (generic function with 2 methods)"
      ]
     },
     "execution_count": 2,
     "metadata": {},
     "output_type": "execute_result"
    }
   ],
   "source": [
    "include(\"load_network_uni-class.jl\")"
   ]
  },
  {
   "cell_type": "code",
   "execution_count": 3,
   "metadata": {
    "collapsed": true
   },
   "outputs": [],
   "source": [
    "ta_data = load_ta_network(\"East_Massachusetts_Jan_PM\");"
   ]
  },
  {
   "cell_type": "code",
   "execution_count": 4,
   "metadata": {
    "collapsed": false
   },
   "outputs": [],
   "source": [
    "capacity = ta_data.capacity;\n",
    "free_flow_time = ta_data.free_flow_time;"
   ]
  },
  {
   "cell_type": "code",
   "execution_count": 5,
   "metadata": {
    "collapsed": false
   },
   "outputs": [],
   "source": [
    "############\n",
    "#Read in the demand file\n",
    "file = open(\"East_Massachusetts_trips_Jan_PM.txt\")\n",
    "demands = Dict{(Int64,Int64), Float64}()\n",
    "s = 0\n",
    "for line in eachline(file)\n",
    "    if contains(line, \"Origin\")\n",
    "        s = int(split(line)[2])\n",
    "    else\n",
    "        pairs = split(line, \";\")\n",
    "        for pair in pairs\n",
    "            if !contains(pair, \"\\n\")\n",
    "                pair_vals = split(pair, \":\")\n",
    "                t, demand = int(pair_vals[1]), float(pair_vals[2])\n",
    "                demands[(s,t)] = demand \n",
    "            end\n",
    "        end\n",
    "    end\n",
    "end                \n",
    "close(file)"
   ]
  },
  {
   "cell_type": "code",
   "execution_count": 6,
   "metadata": {
    "collapsed": false
   },
   "outputs": [
    {
     "data": {
      "text/plain": [
       "Dict{(Int64,Int64),Float64} with 64 entries:\n",
       "  (3,6) => 5000.0\n",
       "  (4,4) => 0.0\n",
       "  (3,1) => 6000.0\n",
       "  (4,5) => 700.0\n",
       "  (2,4) => 4000.0\n",
       "  (6,5) => 6000.0\n",
       "  (8,4) => 3000.0\n",
       "  (1,2) => 1000.0\n",
       "  (5,1) => 1500.0\n",
       "  (3,4) => 2000.0\n",
       "  (8,2) => 2000.0\n",
       "  (2,3) => 1000.0\n",
       "  (2,6) => 900.0\n",
       "  (5,4) => 7000.0\n",
       "  (2,1) => 1500.0\n",
       "  (2,5) => 1400.0\n",
       "  (8,5) => 1000.0\n",
       "  (1,4) => 2000.0\n",
       "  (2,8) => 6000.0\n",
       "  (5,8) => 3000.0\n",
       "  (4,8) => 2500.0\n",
       "  (7,8) => 2000.0\n",
       "  (1,1) => 0.0\n",
       "  (7,7) => 0.0\n",
       "  (5,7) => 2000.0\n",
       "  ⋮     => ⋮"
      ]
     },
     "execution_count": 6,
     "metadata": {},
     "output_type": "execute_result"
    }
   ],
   "source": [
    "demands"
   ]
  },
  {
   "cell_type": "code",
   "execution_count": 7,
   "metadata": {
    "collapsed": false
   },
   "outputs": [
    {
     "data": {
      "text/plain": [
       "Dict{String,Any} with 56 entries:\n",
       "  \"32\" => {5,4}\n",
       "  \"29\" => {5,1}\n",
       "  \"1\"  => {1,2}\n",
       "  \"54\" => {8,5}\n",
       "  \"2\"  => {1,3}\n",
       "  \"41\" => {6,7}\n",
       "  \"53\" => {8,4}\n",
       "  \"51\" => {8,2}\n",
       "  \"27\" => {4,7}\n",
       "  \"42\" => {6,8}\n",
       "  \"33\" => {5,6}\n",
       "  \"28\" => {4,8}\n",
       "  \"52\" => {8,3}\n",
       "  \"50\" => {8,1}\n",
       "  \"26\" => {4,6}\n",
       "  \"10\" => {2,4}\n",
       "  \"24\" => {4,3}\n",
       "  \"25\" => {4,5}\n",
       "  \"23\" => {4,2}\n",
       "  \"49\" => {7,8}\n",
       "  \"5\"  => {1,6}\n",
       "  \"31\" => {5,3}\n",
       "  \"43\" => {7,1}\n",
       "  \"39\" => {6,4}\n",
       "  \"44\" => {7,2}\n",
       "  ⋮    => ⋮"
      ]
     },
     "execution_count": 7,
     "metadata": {},
     "output_type": "execute_result"
    }
   ],
   "source": [
    "odPairLabel_"
   ]
  },
  {
   "cell_type": "code",
   "execution_count": 8,
   "metadata": {
    "collapsed": false
   },
   "outputs": [],
   "source": [
    "demandsVec = zeros(56)\n",
    "\n",
    "for i = 1:length(demandsVec)\n",
    "    demandsVec[i] = demands[(odPairLabel_[\"$i\"][1], odPairLabel_[\"$i\"][2])]\n",
    "end"
   ]
  },
  {
   "cell_type": "code",
   "execution_count": 9,
   "metadata": {
    "collapsed": false
   },
   "outputs": [
    {
     "data": {
      "text/plain": [
       "56-element Array{Float64,1}:\n",
       " 1000.0\n",
       " 4000.0\n",
       " 2000.0\n",
       " 4000.0\n",
       " 1500.0\n",
       " 3000.0\n",
       " 2500.0\n",
       " 1500.0\n",
       " 1000.0\n",
       " 4000.0\n",
       " 1400.0\n",
       "  900.0\n",
       " 1000.0\n",
       "    ⋮  \n",
       " 8000.0\n",
       " 3000.0\n",
       " 1500.0\n",
       " 1500.0\n",
       " 2000.0\n",
       " 4000.0\n",
       " 2000.0\n",
       " 9000.0\n",
       " 3000.0\n",
       " 1000.0\n",
       " 1500.0\n",
       " 3000.0"
      ]
     },
     "execution_count": 9,
     "metadata": {},
     "output_type": "execute_result"
    }
   ],
   "source": [
    "demandsVec"
   ]
  },
  {
   "cell_type": "code",
   "execution_count": 10,
   "metadata": {
    "collapsed": false
   },
   "outputs": [
    {
     "name": "stdout",
     "output_type": "stream",
     "text": [
      "56-724\n",
      "56-721\n",
      "56-719\n",
      "56-717\n",
      "56-718\n",
      "56-715\n",
      "56-722\n",
      "56-723\n",
      "56-713\n",
      "56-714\n",
      "56-720\n",
      "56-716\n"
     ]
    }
   ],
   "source": [
    "for key=keys(odPairRoute)\n",
    "    if contains(key, \"56-\")\n",
    "        println(key)\n",
    "    end\n",
    "end"
   ]
  },
  {
   "cell_type": "code",
   "execution_count": 11,
   "metadata": {
    "collapsed": false
   },
   "outputs": [
    {
     "name": "stdout",
     "output_type": "stream",
     "text": [
      "\n",
      "******************************************************************************\n",
      "This program contains Ipopt, a library for large-scale nonlinear optimization.\n",
      " Ipopt is released as open source code under the Eclipse Public License (EPL).\n",
      "         For more information visit http://projects.coin-or.org/Ipopt\n",
      "******************************************************************************\n",
      "\n",
      "This is Ipopt version 3.12.1, running with linear solver mumps.\n",
      "NOTE: Other linear solvers might be more efficient (see Ipopt documentation).\n",
      "\n",
      "Number of nonzeros in equality constraint Jacobian...:     4092\n",
      "Number of nonzeros in inequality constraint Jacobian.:      724\n",
      "Number of nonzeros in Lagrangian Hessian.............:       24\n",
      "\n",
      "Total number of variables............................:      748\n",
      "                     variables with only lower bounds:        0\n",
      "                variables with lower and upper bounds:        0\n",
      "                     variables with only upper bounds:        0\n",
      "Total number of equality constraints.................:       80\n",
      "Total number of inequality constraints...............:      724\n",
      "        inequality constraints with only lower bounds:      724\n",
      "   inequality constraints with lower and upper bounds:        0\n",
      "        inequality constraints with only upper bounds:        0\n",
      "\n",
      "iter    objective    inf_pr   inf_du lg(mu)  ||d||  lg(rg) alpha_du alpha_pr  ls\n",
      "   0  0.0000000e+00 9.00e+03 5.31e-01  -1.0 0.00e+00    -  0.00e+00 0.00e+00   0\n",
      "   1  4.7550894e+05 3.36e-11 7.00e+04  -1.0 4.59e+04    -  1.41e-05 1.00e+00h  1\n",
      "   2  4.5179870e+05 3.68e-11 6.58e+04  -1.0 1.52e+04    -  4.36e-02 5.97e-02f  1\n",
      "   3  4.3547988e+05 2.40e-11 6.30e+04  -1.0 2.70e+04    -  5.76e-02 4.33e-02f  1\n",
      "   4  4.0686422e+05 3.56e-11 5.78e+04  -1.0 2.26e+04    -  1.24e-01 8.17e-02f  1\n",
      "   5  3.6544757e+05 3.00e-11 5.01e+04  -1.0 1.34e+04    -  1.47e-01 1.33e-01f  1\n",
      "   6  3.3163995e+05 3.00e-11 4.39e+04  -1.0 1.21e+04    -  1.37e-01 1.23e-01f  1\n",
      "   7  2.8496942e+05 2.29e-11 3.52e+04  -1.0 1.35e+04    -  1.74e-01 1.99e-01f  1\n",
      "   8  2.5234648e+05 1.97e-11 2.95e+04  -1.0 1.63e+04    -  2.02e-01 1.61e-01f  1\n",
      "   9  2.1557910e+05 2.33e-11 2.35e+04  -1.0 1.84e+04    -  2.27e-01 2.05e-01f  1\n",
      "iter    objective    inf_pr   inf_du lg(mu)  ||d||  lg(rg) alpha_du alpha_pr  ls\n",
      "  10  1.8233550e+05 3.18e-11 1.84e+04  -1.0 2.05e+04    -  1.96e-01 2.16e-01f  1\n",
      "  11  1.5595469e+05 1.76e-11 1.45e+04  -1.0 1.69e+04    -  2.12e-01 2.10e-01f  1\n",
      "  12  1.3306573e+05 1.66e-11 1.09e+04  -1.0 1.31e+04    -  2.09e-01 2.47e-01f  1\n",
      "  13  1.2604026e+05 1.57e-11 9.73e+03  -1.0 1.28e+04    -  1.27e-01 1.11e-01f  1\n",
      "  14  1.1743429e+05 1.78e-11 8.02e+03  -1.0 1.07e+04    -  1.40e-01 1.75e-01f  1\n",
      "  15  1.1466254e+05 2.18e-11 7.51e+03  -1.0 1.88e+04    -  2.25e-02 6.42e-02f  1\n",
      "  16  1.1453650e+05 1.50e-11 7.48e+03  -1.0 1.84e+04    -  3.43e-02 3.10e-03f  1\n",
      "  17  1.1368797e+05 1.64e-11 7.32e+03  -1.0 1.74e+04    -  2.01e-01 2.15e-02f  1\n",
      "  18  1.1220372e+05 2.11e-11 6.97e+03  -1.0 9.76e+03    -  1.89e-01 4.79e-02f  1\n",
      "  19  1.0027778e+05 1.11e-11 4.03e+03  -1.0 1.03e+04    -  6.28e-02 4.21e-01f  1\n",
      "iter    objective    inf_pr   inf_du lg(mu)  ||d||  lg(rg) alpha_du alpha_pr  ls\n",
      "  20  9.8126386e+04 1.55e-11 3.60e+03  -1.0 1.30e+04    -  1.64e-01 1.07e-01f  1\n",
      "  21  9.7603761e+04 1.68e-11 3.50e+03  -1.0 1.37e+04    -  7.91e-02 2.78e-02f  1\n",
      "  22  9.7348584e+04 1.36e-11 3.45e+03  -1.0 1.28e+04    -  1.15e-01 1.43e-02f  1\n",
      "  23  9.6626867e+04 2.14e-11 3.29e+03  -1.0 1.14e+04    -  1.65e-01 4.72e-02f  1\n",
      "  24  9.5692768e+04 1.68e-11 3.02e+03  -1.0 1.17e+04    -  9.48e-02 8.28e-02f  1\n",
      "  25  9.4706431e+04 1.37e-11 2.73e+03  -1.0 1.22e+04    -  7.25e-02 9.50e-02f  1\n",
      "  26  9.4455172e+04 1.16e-11 2.67e+03  -1.0 1.38e+04    -  2.04e-02 2.08e-02f  1\n",
      "  27  9.4026150e+04 1.36e-11 2.57e+03  -1.0 1.32e+04    -  3.95e-02 3.80e-02f  1\n",
      "  28  9.3718547e+04 2.03e-11 2.49e+03  -1.0 1.10e+04    -  2.31e-01 3.22e-02f  1\n",
      "  29  9.3625704e+04 1.53e-11 2.45e+03  -1.0 7.87e+03    -  5.64e-01 1.50e-02f  1\n",
      "iter    objective    inf_pr   inf_du lg(mu)  ||d||  lg(rg) alpha_du alpha_pr  ls\n",
      "  30  9.2896372e+04 9.28e-12 2.07e+03  -1.0 8.30e+03    -  1.33e-02 1.54e-01f  1\n",
      "  31  9.2728319e+04 1.36e-11 1.98e+03  -1.0 7.51e+03    -  4.29e-01 4.76e-02f  1\n",
      "  32  9.1748322e+04 1.59e-11 1.39e+03  -1.0 6.26e+03    -  3.93e-02 2.96e-01f  1\n",
      "  33  9.1732707e+04 1.31e-11 1.38e+03  -1.0 4.78e+03    -  6.77e-01 7.45e-03f  1\n",
      "  34  9.1441048e+04 1.74e-11 1.15e+03  -1.0 4.41e+03    -  6.23e-01 1.66e-01f  1\n",
      "  35  9.1381192e+04 1.23e-11 1.09e+03  -1.0 2.17e+03    -  1.00e+00 5.45e-02f  1\n",
      "  36  9.0430965e+04 1.52e-11 4.51e-01  -1.0 2.11e+03    -  8.73e-01 1.00e+00f  1\n",
      "  37  9.0377925e+04 2.12e-11 9.01e-05  -1.7 4.24e+02    -  1.00e+00 1.00e+00f  1\n",
      "  38  9.0365226e+04 1.98e-11 7.13e-07  -3.8 3.33e+01    -  1.00e+00 1.00e+00f  1\n",
      "  39  9.0365225e+04 2.29e-11 1.30e-08  -3.8 2.64e+01    -  1.00e+00 1.00e+00f  1\n",
      "iter    objective    inf_pr   inf_du lg(mu)  ||d||  lg(rg) alpha_du alpha_pr  ls\n",
      "  40  9.0365129e+04 2.91e-11 7.87e-11  -5.7 3.32e-01    -  1.00e+00 1.00e+00f  1\n",
      "  41  9.0365128e+04 2.21e-11 5.31e-08  -8.6 5.31e-04  -4.0 1.00e+00 1.00e+00f  1\n",
      "  42  9.0365128e+04 1.72e-11 1.11e-08  -8.6 3.33e-04  -4.5 1.00e+00 1.00e+00h  1\n",
      "  43  9.0365128e+04 2.86e-11 8.36e-09  -9.0 7.52e-04  -5.0 1.00e+00 1.00e+00h  1\n",
      "\n",
      "Number of Iterations....: 43\n",
      "\n",
      "                                   (scaled)                 (unscaled)\n",
      "Objective...............:   9.0365128239663070e+04    9.0365128239663070e+04\n",
      "Dual infeasibility......:   8.3578430010167182e-09    8.3578430010167182e-09\n",
      "Constraint violation....:   2.8608150374032665e-11    2.8608150374032665e-11\n",
      "Complementarity.........:   9.0909965723280429e-10    9.0909965723280429e-10\n",
      "Overall NLP error.......:   8.3578430010167182e-09    8.3578430010167182e-09\n",
      "\n",
      "\n",
      "Number of objective function evaluations             = 44\n",
      "Number of objective gradient evaluations             = 44\n",
      "Number of equality constraint evaluations            = 44\n",
      "Number of inequality constraint evaluations          = 44\n",
      "Number of equality constraint Jacobian evaluations   = 44\n",
      "Number of inequality constraint Jacobian evaluations = 44\n",
      "Number of Lagrangian Hessian evaluations             = 43\n",
      "Total CPU secs in IPOPT (w/o function evaluations)   =      0.200\n",
      "Total CPU secs in NLP function evaluations           =      0.008\n",
      "\n",
      "EXIT: Optimal Solution Found.\n"
     ]
    },
    {
     "data": {
      "text/plain": [
       ":Optimal"
      ]
     },
     "execution_count": 11,
     "metadata": {},
     "output_type": "execute_result"
    }
   ],
   "source": [
    "using JuMP\n",
    "\n",
    "# m = Model(solver=GurobiSolver(OutputFlag=false))\n",
    "m = Model()\n",
    "\n",
    "numLinks = 24\n",
    "numRoute = 724\n",
    "numOD = 56\n",
    "\n",
    "@defVar(m, linkFlow[1:numLinks])\n",
    "@defVar(m, pathFlow[1:numRoute])\n",
    "\n",
    "pathFlowSum = Dict()\n",
    "\n",
    "for i=1:numOD\n",
    "    pathFlowSum[i] = 0\n",
    "    for j=1:numRoute\n",
    "        if \"$(i)-$(j)\" in keys(odPairRoute)\n",
    "            pathFlowSum[i] += pathFlow[j]\n",
    "        end\n",
    "    end\n",
    "    @addConstraint(m, pathFlowSum[i] == demandsVec[i])\n",
    "end\n",
    "\n",
    "pathFlowLinkSum = Dict()\n",
    "\n",
    "for a=1:numLinks\n",
    "    pathFlowLinkSum[a] = 0\n",
    "    for j=1:numRoute\n",
    "        if \"$(a)-$(j)\" in keys(linkRoute)\n",
    "            pathFlowLinkSum[a] += pathFlow[j]\n",
    "        end\n",
    "    end\n",
    "    @addConstraint(m, pathFlowLinkSum[a] == linkFlow[a])\n",
    "end\n",
    "\n",
    "for j=1:numRoute\n",
    "    @addConstraint(m, pathFlow[j] >= 0)\n",
    "end\n",
    "\n",
    "@defNLExpr(f, sum{free_flow_time[a]*linkFlow[a] + .03*free_flow_time[a]*((linkFlow[a])^5)/((capacity[a])^4), a = 1:numLinks})\n",
    "\n",
    "@setNLObjective(m, Min, f)\n",
    "\n",
    "solve(m)"
   ]
  },
  {
   "cell_type": "code",
   "execution_count": 12,
   "metadata": {
    "collapsed": false
   },
   "outputs": [
    {
     "data": {
      "text/plain": [
       "24-element Array{Float64,1}:\n",
       "  8879.4 \n",
       "  7220.93\n",
       "  9120.6 \n",
       " 16279.1 \n",
       " 10607.6 \n",
       " 11220.9 \n",
       " 11571.8 \n",
       " 10000.0 \n",
       " 19893.7 \n",
       " 25415.4 \n",
       " 18334.5 \n",
       " 20584.6 \n",
       " 12700.0 \n",
       " 17000.0 \n",
       "  6000.0 \n",
       " 11000.0 \n",
       "  8071.75\n",
       "  9000.0 \n",
       " 21693.7 \n",
       " 14915.4 \n",
       " 17434.5 \n",
       " 13584.6 \n",
       " 16428.2 \n",
       " 14500.0 "
      ]
     },
     "execution_count": 12,
     "metadata": {},
     "output_type": "execute_result"
    }
   ],
   "source": [
    "getValue(linkFlow)"
   ]
  },
  {
   "cell_type": "code",
   "execution_count": 13,
   "metadata": {
    "collapsed": false
   },
   "outputs": [
    {
     "data": {
      "text/plain": [
       "90365.12823966307"
      ]
     },
     "execution_count": 13,
     "metadata": {},
     "output_type": "execute_result"
    }
   ],
   "source": [
    "getObjectiveValue(m)"
   ]
  },
  {
   "cell_type": "code",
   "execution_count": 14,
   "metadata": {
    "collapsed": true
   },
   "outputs": [],
   "source": [
    "outfile = open(\"flows_converge.txt\", \"w\")\n",
    "\n",
    "write(outfile, join((\"From\", \"to\", \"Volume_Capacity\"), \"        \"), \"\\n\")\n",
    "\n",
    "for i = 1:length(ta_data.start_node)\n",
    "     n1, n2, n3 = ta_data.start_node[i], ta_data.end_node[i], getValue(linkFlow)[i]\n",
    "     write(outfile, join((n1, n2, n3), \"        \"), \"\\n\")\n",
    "end\n",
    "\n",
    "close(outfile)"
   ]
  },
  {
   "cell_type": "code",
   "execution_count": 15,
   "metadata": {
    "collapsed": false
   },
   "outputs": [
    {
     "data": {
      "text/plain": [
       "Dict{(Int64,Int64),Float64} with 24 entries:\n",
       "  (3,6) => 18334.499732188626\n",
       "  (2,3) => 10607.647137162887\n",
       "  (5,6) => 5999.99999922194\n",
       "  (5,4) => 16999.99999925986\n",
       "  (2,1) => 7220.92708574982\n",
       "  (6,3) => 20584.59530831657\n",
       "  (3,1) => 16279.072912800266\n",
       "  (1,3) => 9120.602171834937\n",
       "  (4,5) => 12699.9999992296\n",
       "  (4,8) => 8071.750688885729\n",
       "  (7,5) => 14915.404690649051\n",
       "  (8,7) => 14499.99999917247\n",
       "  (3,2) => 11220.927086100042\n",
       "  (7,6) => 13584.59530809483\n",
       "  (2,4) => 11571.750688806444\n",
       "  (7,8) => 16428.249309239713\n",
       "  (6,5) => 10999.999999179643\n",
       "  (6,7) => 17434.499732009182\n",
       "  (8,4) => 8999.99999895298\n",
       "  (1,2) => 8879.397826715158\n",
       "  (5,3) => 25415.404690671494\n",
       "  (4,2) => 9999.999998903959\n",
       "  (3,5) => 19893.749576896924\n",
       "  (5,7) => 21693.749576801943"
      ]
     },
     "execution_count": 15,
     "metadata": {},
     "output_type": "execute_result"
    }
   ],
   "source": [
    "flows = Dict{(Int64,Int64),Float64}()\n",
    "\n",
    "for i = 1:length(ta_data.start_node)\n",
    "    key = (ta_data.start_node[i], ta_data.end_node[i])\n",
    "    flows[key] = getValue(linkFlow)[i]\n",
    "end\n",
    "\n",
    "flows"
   ]
  },
  {
   "cell_type": "code",
   "execution_count": 16,
   "metadata": {
    "collapsed": false
   },
   "outputs": [
    {
     "name": "stdout",
     "output_type": "stream",
     "text": [
      "This is Ipopt version 3.12.1, running with linear solver mumps.\n",
      "NOTE: Other linear solvers might be more efficient (see Ipopt documentation).\n",
      "\n",
      "Number of nonzeros in equality constraint Jacobian...:     4248\n",
      "Number of nonzeros in inequality constraint Jacobian.:     1536\n",
      "Number of nonzeros in Lagrangian Hessian.............:       24\n",
      "\n",
      "Total number of variables............................:     1560\n",
      "                     variables with only lower bounds:        0\n",
      "                variables with lower and upper bounds:        0\n",
      "                     variables with only upper bounds:        0\n",
      "Total number of equality constraints.................:      472\n",
      "Total number of inequality constraints...............:     1536\n",
      "        inequality constraints with only lower bounds:     1536\n",
      "   inequality constraints with lower and upper bounds:        0\n",
      "        inequality constraints with only upper bounds:        0\n",
      "\n",
      "iter    objective    inf_pr   inf_du lg(mu)  ||d||  lg(rg) alpha_du alpha_pr  ls\n",
      "   0  0.0000000e+00 9.00e+03 1.00e+00  -1.0 0.00e+00    -  0.00e+00 0.00e+00   0\n",
      "   1r 0.0000000e+00 9.00e+03 9.99e+02   4.0 0.00e+00    -  0.00e+00 6.67e-08R  7\n",
      "   2r 6.6583932e+01 9.00e+03 9.96e+02   4.0 5.84e+03    -  3.12e-03 3.12e-03f  1\n",
      "   3r 6.6967775e+01 8.98e+03 8.69e+02   1.9 1.01e+02    -  1.00e+00 4.59e-01f  1\n",
      "   4r 8.0464650e+01 8.98e+03 8.50e+02   1.9 6.17e+02    -  9.92e-02 2.16e-02f  1\n",
      "   5r 1.1847226e+02 8.96e+03 7.92e+02   1.9 5.03e+02    -  1.92e-01 6.86e-02f  1\n",
      "   6r 1.6545588e+02 8.94e+03 7.03e+02   1.9 3.68e+02    -  2.83e-01 1.13e-01f  1\n",
      "   7r 2.0829175e+02 8.94e+03 5.99e+02   1.9 3.51e+02    -  8.98e-02 1.48e-01f  1\n",
      "   8r 2.3213991e+02 8.93e+03 8.86e+02   1.2 3.22e+02    -  1.75e-01 1.15e-01f  1\n",
      "   9r 2.8336687e+02 8.93e+03 7.99e+02   1.2 8.38e+02    -  1.11e-01 9.87e-02f  1\n",
      "iter    objective    inf_pr   inf_du lg(mu)  ||d||  lg(rg) alpha_du alpha_pr  ls\n",
      "  10r 3.2566694e+02 8.93e+03 7.21e+02   1.2 7.84e+02    -  2.76e-01 9.68e-02f  1\n",
      "  11r 3.9060025e+02 8.92e+03 6.15e+02   1.2 8.55e+02    -  1.45e-01 1.47e-01f  1\n",
      "  12r 5.2034342e+02 8.90e+03 4.28e+02   1.2 8.14e+02    -  1.80e-01 3.05e-01f  1\n",
      "  13r 6.3707185e+02 8.87e+03 2.64e+02   1.2 5.73e+02    -  4.09e-01 3.82e-01f  1\n",
      "  14r 6.5195005e+02 8.87e+03 2.45e+02   1.2 3.57e+02    -  4.09e-01 7.27e-02f  1\n",
      "  15r 6.7028027e+02 8.86e+03 2.22e+02   1.2 3.45e+02    -  3.82e-01 9.26e-02f  1\n",
      "  16r 7.5415964e+02 8.81e+03 1.18e+02   1.2 3.13e+02    -  5.32e-01 4.68e-01f  1\n",
      "  17r 7.5690574e+02 8.81e+03 8.55e+02   0.5 1.66e+02    -  7.60e-01 2.96e-02f  1\n",
      "  18r 8.0497354e+02 8.79e+03 8.18e+02   0.5 1.88e+03    -  3.04e-01 4.27e-02f  1\n",
      "  19r 8.2836227e+02 8.78e+03 8.01e+02   0.5 1.92e+03    -  2.66e-01 2.17e-02f  1\n",
      "iter    objective    inf_pr   inf_du lg(mu)  ||d||  lg(rg) alpha_du alpha_pr  ls\n",
      "  20r 9.7937037e+02 8.72e+03 6.86e+02   0.5 1.88e+03    -  1.23e-01 1.43e-01f  1\n",
      "  21r 9.8437845e+02 8.72e+03 6.82e+02   0.5 1.67e+03    -  3.81e-01 5.55e-03f  1\n",
      "  22r 1.0816415e+03 8.68e+03 6.08e+02   0.5 1.68e+03    -  3.11e-01 1.08e-01f  1\n",
      "  23r 1.0885405e+03 8.68e+03 6.03e+02   0.5 1.59e+03    -  2.10e-01 8.65e-03f  1\n",
      "  24r 1.2117284e+03 8.63e+03 5.09e+02   0.5 1.59e+03    -  2.00e-01 1.56e-01f  1\n",
      "  25r 1.2173191e+03 8.63e+03 5.05e+02   0.5 1.29e+03    -  2.14e-01 8.38e-03f  1\n",
      "  26r 1.2524986e+03 8.62e+03 4.78e+02   0.5 1.25e+03    -  1.99e-01 5.32e-02f  1\n",
      "  27r 1.3176614e+03 8.59e+03 4.28e+02   0.5 1.19e+03    -  2.62e-01 1.04e-01f  1\n",
      "  28r 1.4186843e+03 8.56e+03 3.51e+02   0.5 1.06e+03    -  3.15e-01 1.80e-01f  1\n",
      "  29r 1.4333853e+03 8.55e+03 3.40e+02   0.5 8.78e+02    -  7.74e-01 3.19e-02f  1\n",
      "iter    objective    inf_pr   inf_du lg(mu)  ||d||  lg(rg) alpha_du alpha_pr  ls\n",
      "  30r 1.4799829e+03 8.53e+03 3.04e+02   0.5 8.78e+02    -  4.81e-01 1.05e-01f  1\n",
      "  31r 1.5228448e+03 8.51e+03 2.72e+02   0.5 7.87e+02    -  1.00e+00 1.07e-01f  1\n",
      "  32r 1.6162243e+03 8.47e+03 2.00e+02   0.5 7.02e+02    -  7.15e-01 2.63e-01f  1\n",
      "  33r 1.6259164e+03 8.47e+03 9.86e+02  -0.2 5.18e+02    -  8.20e-01 3.70e-02f  1\n",
      "  34r 1.7907579e+03 8.41e+03 9.22e+02  -0.2 5.02e+03    -  9.23e-02 6.43e-02f  1\n",
      "  35r 1.8075737e+03 8.40e+03 9.16e+02  -0.2 4.71e+03    -  1.44e-01 7.01e-03f  1\n",
      "  36r 1.8326008e+03 8.39e+03 9.06e+02  -0.2 4.83e+03    -  7.63e-02 1.05e-02f  1\n",
      "  37r 1.8708754e+03 8.38e+03 8.91e+02  -0.2 4.72e+03    -  7.12e-02 1.62e-02f  1\n",
      "  38r 1.9445548e+03 8.36e+03 8.63e+02  -0.2 4.61e+03    -  6.38e-02 3.18e-02f  1\n",
      "  39r 2.0004868e+03 8.34e+03 8.42e+02  -0.2 4.46e+03    -  8.59e-02 2.49e-02f  1\n",
      "iter    objective    inf_pr   inf_du lg(mu)  ||d||  lg(rg) alpha_du alpha_pr  ls\n",
      "  40r 2.0145283e+03 8.34e+03 8.36e+02  -0.2 4.31e+03    -  8.79e-02 6.44e-03f  1\n",
      "  41r 2.0846208e+03 8.32e+03 8.09e+02  -0.2 4.23e+03    -  1.70e-01 3.24e-02f  1\n",
      "  42r 2.2003064e+03 8.28e+03 7.64e+02  -0.2 4.07e+03    -  2.11e-01 5.54e-02f  1\n",
      "  43r 2.2418982e+03 8.27e+03 7.48e+02  -0.2 3.80e+03    -  1.61e-01 2.11e-02f  1\n",
      "  44r 2.2699594e+03 8.26e+03 7.37e+02  -0.2 3.20e+03    -  1.78e-01 1.45e-02f  1\n",
      "  45r 2.3266039e+03 8.25e+03 7.15e+02  -0.2 3.14e+03    -  9.76e-02 2.98e-02f  1\n",
      "  46r 2.3947555e+03 8.23e+03 6.89e+02  -0.2 3.03e+03    -  1.91e-01 3.70e-02f  1\n",
      "  47r 2.4565021e+03 8.22e+03 6.65e+02  -0.2 2.91e+03    -  8.74e-02 3.47e-02f  1\n",
      "  48r 2.6106415e+03 8.19e+03 6.05e+02  -0.2 2.81e+03    -  1.14e-01 8.98e-02f  1\n",
      "  49r 2.6511577e+03 8.18e+03 5.90e+02  -0.2 2.55e+03    -  1.65e-01 2.58e-02f  1\n",
      "iter    objective    inf_pr   inf_du lg(mu)  ||d||  lg(rg) alpha_du alpha_pr  ls\n",
      "  50r 2.7360194e+03 8.16e+03 5.57e+02  -0.2 2.49e+03    -  8.67e-02 5.54e-02f  1\n",
      "  51r 2.8245348e+03 8.14e+03 5.23e+02  -0.2 2.35e+03    -  1.43e-01 6.13e-02f  1\n",
      "  52r 2.8927078e+03 8.13e+03 4.97e+02  -0.2 2.20e+03    -  1.95e-01 5.04e-02f  1\n",
      "  53r 2.9214614e+03 8.12e+03 4.85e+02  -0.2 2.09e+03    -  2.55e-01 2.25e-02f  1\n",
      "  54r 3.0075148e+03 8.10e+03 4.52e+02  -0.2 2.04e+03    -  1.12e-01 6.88e-02f  1\n",
      "  55r 3.0335750e+03 8.10e+03 4.42e+02  -0.2 1.91e+03    -  2.43e-01 2.24e-02f  1\n",
      "  56  7.9795791e+03 7.67e+03 1.06e+00  -1.0 1.96e+04    -  4.47e-02 5.25e-02h  1\n",
      "  57  7.3281820e+04 2.10e+03 2.36e+00  -1.0 1.85e+04    -  8.77e-02 7.26e-01h  1\n",
      "  58  8.3608557e+04 1.07e+03 1.24e+00  -1.0 8.35e+03    -  3.01e-01 4.90e-01h  1\n",
      "  59  8.7797148e+04 6.06e+02 7.02e-01  -1.0 5.63e+03    -  4.32e-01 4.35e-01h  1\n",
      "iter    objective    inf_pr   inf_du lg(mu)  ||d||  lg(rg) alpha_du alpha_pr  ls\n",
      "  60  9.0894890e+04 2.16e+02 2.57e-01  -1.0 3.32e+03    -  5.39e-01 6.44e-01h  1\n",
      "  61  9.1324156e+04 1.31e+01 2.51e-01  -1.0 1.77e+03    -  4.29e-02 9.39e-01h  1\n",
      "  62  9.0704383e+04 3.35e-01 1.93e-01  -1.0 9.79e+02    -  2.48e-01 9.74e-01f  1\n",
      "  63  9.0365907e+04 3.24e-10 6.40e-02  -1.0 6.30e+02    -  6.72e-01 1.00e+00f  1\n",
      "  64  9.0161510e+04 1.74e-10 3.43e-02  -1.0 1.13e+03    -  5.37e-01 1.00e+00f  1\n",
      "  65  9.0114222e+04 1.76e-10 3.50e-02  -1.0 1.27e+03    -  5.34e-01 1.00e+00f  1\n",
      "  66  9.0108091e+04 7.98e-11 8.79e-03  -1.0 7.80e+02    -  8.31e-01 1.00e+00f  1\n",
      "  67  9.0106705e+04 3.98e-11 1.16e-05  -1.0 3.75e+02    -  1.00e+00 1.00e+00f  1\n",
      "  68  8.9994597e+04 2.10e-11 1.28e-05  -1.7 1.79e+02    -  1.00e+00 1.00e+00f  1\n",
      "  69  8.9970321e+04 2.27e-11 2.91e-06  -2.5 6.27e+01    -  1.00e+00 1.00e+00f  1\n",
      "iter    objective    inf_pr   inf_du lg(mu)  ||d||  lg(rg) alpha_du alpha_pr  ls\n",
      "  70  8.9966534e+04 1.03e-11 8.96e-07  -3.8 3.36e+01    -  1.00e+00 1.00e+00f  1\n",
      "  71  8.9966529e+04 1.31e-11 1.48e-07  -3.8 2.72e+02    -  1.00e+00 1.00e+00f  1\n",
      "  72  8.9966321e+04 1.58e-11 1.64e-08  -5.7 4.44e+00    -  1.00e+00 1.00e+00f  1\n",
      "  73  8.9966321e+04 2.08e-11 1.06e-06  -5.7 1.06e-02  -4.0 1.00e+00 1.00e+00h  1\n",
      "  74  8.9966319e+04 2.44e-11 1.04e-06  -8.6 3.13e-02  -4.5 1.00e+00 1.00e+00f  1\n",
      "  75  8.9966319e+04 2.83e-11 8.31e-07  -8.6 7.48e-02  -5.0 1.00e+00 1.00e+00h  1\n",
      "  76  8.9966319e+04 8.04e-12 4.85e-07  -8.6 1.31e-01  -5.4 1.00e+00 1.00e+00h  1\n",
      "  77  8.9966319e+04 8.29e-12 1.55e-07  -8.6 1.25e-01  -5.9 1.00e+00 1.00e+00h  1\n",
      "  78  8.9966319e+04 6.14e-12 2.10e-08  -8.6 5.10e-02  -6.4 1.00e+00 1.00e+00h  1\n",
      "  79  8.9966319e+04 2.06e-11 1.09e-09  -9.0 7.92e-03  -6.9 1.00e+00 1.00e+00h  1\n",
      "\n",
      "Number of Iterations....: 79\n",
      "\n",
      "                                   (scaled)                 (unscaled)\n",
      "Objective...............:   8.9966318724239565e+04    8.9966318724239565e+04\n",
      "Dual infeasibility......:   1.0860110588595262e-09    1.0860110588595262e-09\n",
      "Constraint violation....:   2.0621334565452379e-11    2.0621334565452379e-11\n",
      "Complementarity.........:   9.0944829462205617e-10    9.0944829462205617e-10\n",
      "Overall NLP error.......:   1.0860110588595262e-09    1.0860110588595262e-09\n",
      "\n",
      "\n",
      "Number of objective function evaluations             = 87\n",
      "Number of objective gradient evaluations             = 27\n",
      "Number of equality constraint evaluations            = 87\n",
      "Number of inequality constraint evaluations          = 87\n",
      "Number of equality constraint Jacobian evaluations   = 81\n",
      "Number of inequality constraint Jacobian evaluations = 81\n",
      "Number of Lagrangian Hessian evaluations             = 79\n",
      "Total CPU secs in IPOPT (w/o function evaluations)   =      0.916\n",
      "Total CPU secs in NLP function evaluations           =      0.016\n",
      "\n",
      "EXIT: Optimal Solution Found.\n"
     ]
    },
    {
     "data": {
      "text/plain": [
       ":Optimal"
      ]
     },
     "execution_count": 16,
     "metadata": {},
     "output_type": "execute_result"
    }
   ],
   "source": [
    "using JuMP\n",
    "\n",
    "# m = Model(solver=GurobiSolver(OutputFlag=false))\n",
    "m = Model()\n",
    "\n",
    "numLinks = 24  # number of links\n",
    "numNodes = 8  # number of nodes\n",
    "\n",
    "@defVar(m, linkFlow[1:numLinks])\n",
    "\n",
    "@defVar(m, odLinkFlow[keys(demands), 1:numLinks])\n",
    "for (s,t) = keys(demands)\n",
    "    for k = 1:numLinks\n",
    "        @addConstraint(m, odLinkFlow[(s,t), k] >= 0)\n",
    "    end\n",
    "end\n",
    "\n",
    "for k = 1:numLinks\n",
    "    linkFlowPartial = sum([odLinkFlow[(s,t), k] for (s,t) = keys(demands)])\n",
    "    @addConstraint(m, linkFlowPartial == linkFlow[k])\n",
    "end\n",
    "\n",
    "for l = 1:numNodes\n",
    "    for (s,t) = keys(demands)\n",
    "        if s != t\n",
    "            odLinkFlowPartial = sum([nodeLink[\"$(l-1)-$(k-1)\"] * odLinkFlow[(s,t), k] for k = 1:numLinks])\n",
    "            if (l == s)\n",
    "                @addConstraint(m, odLinkFlowPartial + demands[(s,t)] == 0)\n",
    "            elseif (l == t)\n",
    "                @addConstraint(m, odLinkFlowPartial - demands[(s,t)] == 0)\n",
    "            else\n",
    "                @addConstraint(m, odLinkFlowPartial == 0)\n",
    "            end\n",
    "        end\n",
    "    end\n",
    "end\n",
    "\n",
    "@defNLExpr(f, sum{free_flow_time[a]*linkFlow[a] + .03*free_flow_time[a]*((linkFlow[a])^5)/((capacity[a])^4), a = 1:24})\n",
    "\n",
    "@setNLObjective(m, Min, f)\n",
    "\n",
    "solve(m)"
   ]
  },
  {
   "cell_type": "code",
   "execution_count": 17,
   "metadata": {
    "collapsed": false
   },
   "outputs": [
    {
     "data": {
      "text/plain": [
       "24-element Array{Float64,1}:\n",
       " 10693.0 \n",
       "  3433.6 \n",
       " 12807.0 \n",
       " 14566.4 \n",
       " 14740.0 \n",
       "  4300.0 \n",
       "  9953.09\n",
       " 12433.6 \n",
       " 24662.8 \n",
       " 20064.0 \n",
       " 21384.1 \n",
       " 17302.4 \n",
       " 17000.0 \n",
       " 12700.0 \n",
       " 11000.0 \n",
       "  6000.0 \n",
       "  8953.09\n",
       "  8933.6 \n",
       " 14162.8 \n",
       " 21864.0 \n",
       " 14384.1 \n",
       " 16402.4 \n",
       " 14546.9 \n",
       " 15566.4 "
      ]
     },
     "execution_count": 17,
     "metadata": {},
     "output_type": "execute_result"
    }
   ],
   "source": [
    "getValue(linkFlow)"
   ]
  },
  {
   "cell_type": "code",
   "execution_count": 18,
   "metadata": {
    "collapsed": false
   },
   "outputs": [
    {
     "data": {
      "text/plain": [
       "89966.31872423957"
      ]
     },
     "execution_count": 18,
     "metadata": {},
     "output_type": "execute_result"
    }
   ],
   "source": [
    "getObjectiveValue(m)"
   ]
  },
  {
   "cell_type": "code",
   "execution_count": 19,
   "metadata": {
    "collapsed": false
   },
   "outputs": [
    {
     "ename": "LoadError",
     "evalue": "syntax: extra token \"Array\" after end of expression\nwhile loading In[19], in expression starting on line 1",
     "output_type": "error",
     "traceback": [
      "syntax: extra token \"Array\" after end of expression\nwhile loading In[19], in expression starting on line 1",
      ""
     ]
    }
   ],
   "source": [
    "8879.4 \n",
    "  7220.93\n",
    "  9120.6 \n",
    " 16279.1 \n",
    " 10607.6 \n",
    " 11220.9 \n",
    " 11571.8 \n",
    " 10000.0 \n",
    " 19893.7 \n",
    " 25415.4 \n",
    " 18334.5 \n",
    " 20584.6 \n",
    " 12700.0 \n",
    " 17000.0 \n",
    "  6000.0 \n",
    " 11000.0 \n",
    "  8071.75\n",
    "  9000.0 \n",
    " 21693.7 \n",
    " 14915.4 \n",
    " 17434.5 \n",
    " 13584.6 \n",
    " 16428.2 \n",
    " 14500.0 "
   ]
  }
 ],
 "metadata": {
  "kernelspec": {
   "display_name": "Julia 0.3.7",
   "language": "julia",
   "name": "julia-0.3"
  },
  "language_info": {
   "file_extension": ".jl",
   "mimetype": "application/julia",
   "name": "julia",
   "version": "0.3.7"
  }
 },
 "nbformat": 4,
 "nbformat_minor": 0
}
