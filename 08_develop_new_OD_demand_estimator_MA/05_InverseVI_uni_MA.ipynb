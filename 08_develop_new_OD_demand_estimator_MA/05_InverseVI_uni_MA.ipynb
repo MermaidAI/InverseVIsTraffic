{
 "cells": [
  {
   "cell_type": "code",
   "execution_count": 1,
   "metadata": {
    "collapsed": false
   },
   "outputs": [
    {
     "data": {
      "text/plain": [
       "Arc (constructor with 3 methods)"
      ]
     },
     "execution_count": 1,
     "metadata": {},
     "output_type": "execute_result"
    }
   ],
   "source": [
    "type Arc\n",
    "    initNode::Int \n",
    "    termNode::Int \n",
    "    capacity::Float64\n",
    "    freeflowtime::Float64\n",
    "    flow::Float64\n",
    "end\n",
    "\n",
    "Arc(initNode::Int, termNode::Int, capacity::Float64, freeflowtime::Float64) = \n",
    "    Arc(initNode, termNode, capacity, freeflowtime, 0.)"
   ]
  },
  {
   "cell_type": "markdown",
   "metadata": {},
   "source": [
    "## Solve an inverse tarffic problem over polynomials of degree at most d\n",
    "\n",
    "## Optionally use a regularizer from the poly kernel"
   ]
  },
  {
   "cell_type": "code",
   "execution_count": 2,
   "metadata": {
    "collapsed": false
   },
   "outputs": [
    {
     "data": {
      "text/plain": [
       "bpacost (generic function with 3 methods)"
      ]
     },
     "execution_count": 2,
     "metadata": {},
     "output_type": "execute_result"
    }
   ],
   "source": [
    "using JuMP\n",
    "using Gurobi\n",
    "using Graphs\n",
    "using Roots\n",
    "\n",
    "\n",
    "polyEval(coeffs, pt) = sum([coeffs[i] * pt^(i-1) for i = 1:length(coeffs)])  \n",
    "\n",
    "polyEval(coeffs::Array{Float64, 1}, pt) = sum([coeffs[i] * pt^(i-1) for i = 1:length(coeffs)]) \n",
    "\n",
    "bpacost(flow::Float64, capacity::Float64, freeflowtime::Float64) = freeflowtime*(1 + .15 * (flow/capacity)^4)\n",
    "bpacost(flow::Float64, arc) = bpacost(flow, arc.capacity, arc.freeflowtime)\n",
    "bpacost(arc::Arc) = bpacost(arc.flow, arc)"
   ]
  },
  {
   "cell_type": "code",
   "execution_count": 3,
   "metadata": {
    "collapsed": false
   },
   "outputs": [
    {
     "data": {
      "text/plain": [
       "setUpFitting (generic function with 1 method)"
      ]
     },
     "execution_count": 3,
     "metadata": {},
     "output_type": "execute_result"
    }
   ],
   "source": [
    "function setUpFitting(deg::Int, c::Float64)\n",
    "\n",
    "\tm = Model(solver=GurobiSolver(OutputFlag=false))\n",
    "    \n",
    "\t@defVar(m, coeffs[1:deg+1])\n",
    "\t@defVar(m, Calphas[1:deg+1])\n",
    "\n",
    "\t#build the graham matrix; cf. Ref. [21] (Regularization Networks and Support Vector Machines), page 47\n",
    "\tsamples = linspace(0, 1, deg + 1)\n",
    "\tk(x,y) = (c + x*y)^deg\n",
    "\tK = [ k(x,y) for x = samples, y=samples]\n",
    "\tK = convert(Array{Float64, 2}, K)\n",
    "\t#assert(rank(K) == deg+1)\n",
    "    \n",
    "\tC = chol(K + 1e-6* eye(deg+1))\n",
    "\tfor i=1:deg + 1\n",
    "\t\t@addConstraint(m, polyEval(coeffs, samples[i]) == sum{C[j, i] * Calphas[j], j=1:deg+1})\n",
    "\tend\n",
    "    \n",
    "\t@defVar(m, reg_term >= 0)\n",
    "\treg_term_ = QuadExpr(Calphas[:], Calphas[:], ones(deg+1), AffExpr())\n",
    "    \n",
    "\t@addConstraint(m, reg_term >= reg_term_)\n",
    "    \n",
    "\treturn m, coeffs, reg_term\n",
    "\n",
    "end"
   ]
  },
  {
   "cell_type": "code",
   "execution_count": 4,
   "metadata": {
    "collapsed": false
   },
   "outputs": [
    {
     "data": {
      "text/plain": [
       "fixCoeffs (generic function with 1 method)"
      ]
     },
     "execution_count": 4,
     "metadata": {},
     "output_type": "execute_result"
    }
   ],
   "source": [
    "function fixCoeffs(m, fcoeffs, coeffs)\n",
    "\tfor (fc, c) in zip(fcoeffs, coeffs[:])\n",
    "\t\t@addConstraint(m, fc == c)\n",
    "\tend\n",
    "end"
   ]
  },
  {
   "cell_type": "code",
   "execution_count": 5,
   "metadata": {
    "collapsed": false
   },
   "outputs": [
    {
     "data": {
      "text/plain": [
       "addResid (generic function with 1 method)"
      ]
     },
     "execution_count": 5,
     "metadata": {},
     "output_type": "execute_result"
    }
   ],
   "source": [
    "function addResid(m, coeffs, ys, demands, arcs, scaling)\n",
    "    @defVar(m, resid)\n",
    "\t@defVar(m, dual_cost)\n",
    "\t@defVar(m, primal_cost)\n",
    "\n",
    "\t@addConstraint(m, dual_cost == sum{demands[(s,t)] * (ys[(s,t), t] - ys[(s,t), s]), (s,t)=keys(demands)})  \n",
    "\t@addConstraint(m, primal_cost == sum{a.flow * a.freeflowtime * polyEval(coeffs, a.flow/a.capacity), a=values(arcs)})\n",
    "\n",
    "\t@addConstraint(m, resid >= (dual_cost - primal_cost) / scaling )\n",
    "\t@addConstraint(m, resid >= (primal_cost - dual_cost) / scaling )\n",
    "\treturn resid\n",
    "end"
   ]
  },
  {
   "cell_type": "code",
   "execution_count": 6,
   "metadata": {
    "collapsed": false
   },
   "outputs": [
    {
     "data": {
      "text/plain": [
       "addIncreasingCnsts (generic function with 1 method)"
      ]
     },
     "execution_count": 6,
     "metadata": {},
     "output_type": "execute_result"
    }
   ],
   "source": [
    "function addIncreasingCnsts(m, coeffs, arcs; TOL=0.)\n",
    "\tsorted_flows = sort([a.flow / a.capacity for a in values(arcs)])\n",
    "\t@addConstraint(m, polyEval(coeffs, 0) <= polyEval(coeffs, sorted_flows[1]))\n",
    "\tfor i = 2:length(sorted_flows)\n",
    "\t\t@addConstraint(m, polyEval(coeffs, sorted_flows[i-1]) <= polyEval(coeffs, sorted_flows[i]) + TOL)\n",
    "\tend\n",
    "    @addConstraint(m, coeffs[1] == 1)\n",
    "end"
   ]
  },
  {
   "cell_type": "code",
   "execution_count": 7,
   "metadata": {
    "collapsed": false
   },
   "outputs": [
    {
     "data": {
      "text/plain": [
       "normalize (generic function with 3 methods)"
      ]
     },
     "execution_count": 7,
     "metadata": {},
     "output_type": "execute_result"
    }
   ],
   "source": [
    "#equates the total cost of the network to the true total cost\n",
    "function normalize(m, coeffs, tot_true_cost::Float64, arcs)\n",
    "\t@addConstraint(m, \n",
    "\t\tsum{a.freeflowtime * a.flow * polyEval(coeffs, a.flow / a.capacity), a=values(arcs)} == tot_true_cost)\n",
    "end\n",
    "\n",
    "function normalize(m, coeffs, scaled_flow::Float64, cost::Float64)\n",
    "\t@addConstraint(m, polyEval(coeffs, scaled_flow) == cost)\n",
    "end\n",
    "\n",
    "function normalize(m, coeffs, scaled_flows::Array{Float64, 1}, avgCost::Float64)\n",
    "    @addConstraint(m, sum{polyEval(coeffs, f), f=scaled_flows} == avgCost * length(scaled_flows))\n",
    "end"
   ]
  },
  {
   "cell_type": "code",
   "execution_count": 8,
   "metadata": {
    "collapsed": false
   },
   "outputs": [
    {
     "data": {
      "text/plain": [
       "addNetworkCnsts (generic function with 1 method)"
      ]
     },
     "execution_count": 8,
     "metadata": {},
     "output_type": "execute_result"
    }
   ],
   "source": [
    "function addNetworkCnsts(m, coeffs, demands, arcs, numNodes)\n",
    "\t@defVar(m, ys[keys(demands), 1:numNodes])\n",
    "\tfor k = keys(arcs)\n",
    "\t\ta = arcs[k]\n",
    "\t\trhs = a.freeflowtime * polyEval(coeffs, a.flow/a.capacity)\n",
    "\t\tfor od in keys(demands)\n",
    "\t\t\t@addConstraint(m, ys[od, k[2]] - ys[od, k[1]] <= rhs)\n",
    "\t\tend\n",
    "\tend\n",
    "\treturn ys\n",
    "end"
   ]
  },
  {
   "cell_type": "code",
   "execution_count": 9,
   "metadata": {
    "collapsed": false
   },
   "outputs": [],
   "source": [
    "############\n",
    "#Read in the demand file\n",
    "file = open(\"East_Massachusetts_trips_Jan_PM.txt\")\n",
    "demands = Dict{(Int64,Int64), Float64}()\n",
    "s = 0\n",
    "for line in eachline(file)\n",
    "    if contains(line, \"Origin\")\n",
    "        s = int(split(line)[2])\n",
    "    else\n",
    "        pairs = split(line, \";\")\n",
    "        for pair in pairs\n",
    "            if !contains(pair, \"\\n\")\n",
    "                pair_vals = split(pair, \":\")\n",
    "                t, demand = int(pair_vals[1]), float(pair_vals[2])\n",
    "                demands[(s,t)] = demand \n",
    "            end\n",
    "        end\n",
    "    end\n",
    "end                \n",
    "close(file)"
   ]
  },
  {
   "cell_type": "code",
   "execution_count": 10,
   "metadata": {
    "collapsed": false
   },
   "outputs": [],
   "source": [
    "############\n",
    "#read in the arc files\n",
    "arcs = Dict{(Int, Int), Arc}()\n",
    "file = open(\"East_Massachusetts_net_Jan_PM.txt\")\n",
    "inHeader=true\n",
    "for line in eachline(file)\n",
    "    if inHeader\n",
    "        inHeader = !contains(line, \"Init node\")\n",
    "        continue\n",
    "    end\n",
    "    vals = split(line, )\n",
    "    arcs[(int(vals[1]), int(vals[2]))] = Arc(int(vals[1]), int(vals[2]), float(vals[3]), float(vals[5]))\n",
    "end\n",
    "close(file)"
   ]
  },
  {
   "cell_type": "code",
   "execution_count": 11,
   "metadata": {
    "collapsed": false
   },
   "outputs": [],
   "source": [
    "###########\n",
    "#read in the initial flows\n",
    "\n",
    "# file = open(\"../data_original/SiouxFallsFlow.txt\")\n",
    "\n",
    "file = open(\"flows_converge.txt\")\n",
    "\n",
    "ix = 0; \n",
    "for line in eachline(file)\n",
    "    ix +=1\n",
    "    if ix ==1\n",
    "        continue\n",
    "    end\n",
    "    vals = split(line)\n",
    "    arcs[(int(vals[1]), int(vals[2]))].flow = float(vals[3])\n",
    "end\n",
    "close(file)"
   ]
  },
  {
   "cell_type": "code",
   "execution_count": 12,
   "metadata": {
    "collapsed": true
   },
   "outputs": [],
   "source": [
    "##########\n",
    "# Set up demand data and flow data\n",
    "##########\n",
    "\n",
    "flow_data = Array(Float64, length(arcs))\n",
    "flows = Dict{(Int64,Int64), Float64}()\n",
    "demand_data = Dict{(Int, Int), Array{Float64, 1}}()\n",
    "\n",
    "numNodes = maximum(map(pair->pair[1], keys(demands)))\n",
    "g = simple_inclist(numNodes, is_directed=true)\n",
    "vArcs = Arc[]\n",
    "for arc in values(arcs)\n",
    "    add_edge!(g, arc.initNode, arc.termNode) \n",
    "    push!(vArcs, arc)\n",
    "end\n",
    "\n",
    "for odpair in keys(demands)\n",
    "    if ! haskey(demand_data, odpair)\n",
    "        demand_data[odpair] = [demands[odpair], ]\n",
    "    else\n",
    "        push!(demand_data[odpair], demands[odpair])\n",
    "    end\n",
    "end\n",
    "\n",
    "flow_data = [a.flow::Float64 for a in vArcs]\n",
    "\n",
    "for a in vArcs\n",
    "    flows[(a.initNode, a.termNode)] = a.flow\n",
    "end"
   ]
  },
  {
   "cell_type": "code",
   "execution_count": 13,
   "metadata": {
    "collapsed": false
   },
   "outputs": [
    {
     "data": {
      "text/plain": [
       "Dict{(Int64,Int64),Float64} with 24 entries:\n",
       "  (3,6) => 12580.962888630183\n",
       "  (2,3) => 8000.00001029226\n",
       "  (5,6) => 6000.000000436973\n",
       "  (5,4) => 15000.00009002714\n",
       "  (2,1) => 12098.207512248424\n",
       "  (6,3) => 12372.816065472918\n",
       "  (3,1) => 12901.792487193356\n",
       "  (4,5) => 15398.718808036634\n",
       "  (1,3) => 12550.538648183572\n",
       "  (4,8) => 17449.46143133243\n",
       "  (7,5) => 20130.257615025897\n",
       "  (8,7) => 26503.07367999163\n",
       "  (3,2) => 8000.0000012240125\n",
       "  (7,6) => 14372.816065090396\n",
       "  (2,4) => 17449.4613410048\n",
       "  (7,8) => 26550.538568039785\n",
       "  (6,5) => 6000.000000432818\n",
       "  (6,7) => 14580.962888247637\n",
       "  (8,4) => 17496.926319379065\n",
       "  (1,2) => 12449.46135126259\n",
       "  (5,3) => 15528.976422877002\n",
       "  (4,2) => 17098.20751103876\n",
       "  (3,5) => 14969.57576976304\n",
       "  (5,7) => 19969.575679915495"
      ]
     },
     "execution_count": 13,
     "metadata": {},
     "output_type": "execute_result"
    }
   ],
   "source": [
    "flows"
   ]
  },
  {
   "cell_type": "code",
   "execution_count": 14,
   "metadata": {
    "collapsed": true
   },
   "outputs": [],
   "source": [
    "#load node-link incidence\n",
    "using JSON\n",
    "\n",
    "nodeLink = readall(\"node_link_incidence_MA.json\");\n",
    "nodeLink = JSON.parse(nodeLink);"
   ]
  },
  {
   "cell_type": "code",
   "execution_count": 15,
   "metadata": {
    "collapsed": false
   },
   "outputs": [
    {
     "data": {
      "text/plain": [
       "0.0"
      ]
     },
     "execution_count": 15,
     "metadata": {},
     "output_type": "execute_result"
    }
   ],
   "source": [
    "nodeLink[\"2-21\"]"
   ]
  },
  {
   "cell_type": "code",
   "execution_count": 16,
   "metadata": {
    "collapsed": true
   },
   "outputs": [],
   "source": [
    "link_label_dict = readall(\"link_label_dict_MA.json\");\n",
    "link_label_dict = JSON.parse(link_label_dict);"
   ]
  },
  {
   "cell_type": "code",
   "execution_count": 17,
   "metadata": {
    "collapsed": false
   },
   "outputs": [
    {
     "data": {
      "text/plain": [
       "\"1\""
      ]
     },
     "execution_count": 17,
     "metadata": {},
     "output_type": "execute_result"
    }
   ],
   "source": [
    "link_label_dict[\"1\"]\n",
    "\n",
    "int(split(link_label_dict[\"1\"], ',')[1]), int(split(link_label_dict[\"1\"], ',')[2])\n",
    "\n",
    "flows[int(split(link_label_dict[\"1\"], ',')[1]), int(split(link_label_dict[\"1\"], ',')[2])]\n",
    "\n",
    "string(1)"
   ]
  },
  {
   "cell_type": "code",
   "execution_count": 18,
   "metadata": {
    "collapsed": false
   },
   "outputs": [
    {
     "data": {
      "text/plain": [
       "addResid_ (generic function with 1 method)"
      ]
     },
     "execution_count": 18,
     "metadata": {},
     "output_type": "execute_result"
    }
   ],
   "source": [
    "function addResid_(m, coeffs, ys, demands_, demands, arcs, scaling)\n",
    "    @defVar(m, resid)\n",
    "\t@defVar(m, dual_cost)\n",
    "\t@defVar(m, primal_cost)\n",
    "\n",
    "    for (s,t)=keys(demands)\n",
    "        @addConstraint(m, demands_[(s,t)] >= 0)\n",
    "    end\n",
    "\n",
    "\t@addConstraint(m, dual_cost == sum{demands_[(s,t)] * (ys[(s,t), t] - ys[(s,t), s]), (s,t)=keys(demands)})  \n",
    "\t@addConstraint(m, primal_cost == sum{a.flow * a.freeflowtime * polyEval(coeffs, a.flow/a.capacity), a=values(arcs)})\n",
    "\n",
    "\t@addConstraint(m, resid >= (dual_cost - primal_cost) / scaling )\n",
    "\t@addConstraint(m, resid >= (primal_cost - dual_cost) / scaling )\n",
    "\treturn resid\n",
    "end"
   ]
  },
  {
   "cell_type": "code",
   "execution_count": 19,
   "metadata": {
    "collapsed": false
   },
   "outputs": [
    {
     "data": {
      "text/plain": [
       "train_cy (generic function with 1 method)"
      ]
     },
     "execution_count": 19,
     "metadata": {},
     "output_type": "execute_result"
    }
   ],
   "source": [
    "##########\n",
    "#Fitting Funcs\n",
    "##########\n",
    "\n",
    "function train_cy(lam::Float64, deg::Int, c::Float64, demands, flow_data, arcs; fcoeffs=nothing)\n",
    "    numNodes = maximum(map(pair->pair[1], keys(arcs)))\n",
    "    m, coeffs, reg_term = setUpFitting(deg, c)\n",
    "    \n",
    "    addIncreasingCnsts(m, coeffs, arcs, TOL=1e-8)  #uses the original obs flows\n",
    "\n",
    "    avgCost = mean( [bpacost(a.flow, a.capacity, 1.0) for a in values(arcs)] )\n",
    "    normalize(m, coeffs, [a.flow / a.capacity for a in values(arcs)], avgCost)\n",
    "\n",
    "\n",
    "    resids = Variable[]\n",
    "    \n",
    "\n",
    "    #copy the flow data over to the arcs\n",
    "    for (ix, a) in enumerate(vArcs)\n",
    "        a.flow = flow_data[ix]\n",
    "    end\n",
    "\n",
    "    #Dual Feasibility\n",
    "    ys = addNetworkCnsts(m, coeffs, demands, arcs, numNodes)\n",
    "\n",
    "    #add the residual for this data point\n",
    "    push!(resids, addResid(m, coeffs, ys, demands, arcs, 1e6))\n",
    "\n",
    "\n",
    "    if fcoeffs != nothing\n",
    "        fixCoeffs(m, fcoeffs, coeffs)\n",
    "    end\n",
    "    @setObjective(m, Min, sum{resids[i], i = 1:length(resids)} + lam*reg_term)\n",
    "    solve(m)\n",
    "    return [getValue(coeffs[i]) for i =1:length(coeffs)], getValue(ys), getValue(resids)\n",
    "end"
   ]
  },
  {
   "cell_type": "code",
   "execution_count": 20,
   "metadata": {
    "collapsed": false
   },
   "outputs": [
    {
     "data": {
      "text/plain": [
       "0.0"
      ]
     },
     "execution_count": 20,
     "metadata": {},
     "output_type": "execute_result"
    }
   ],
   "source": [
    "nodeLink[\"0-23\"]"
   ]
  },
  {
   "cell_type": "code",
   "execution_count": 21,
   "metadata": {
    "collapsed": false
   },
   "outputs": [
    {
     "data": {
      "text/plain": [
       "Dict{(Int64,Int64),Float64} with 64 entries:\n",
       "  (3,6) => 3000.0\n",
       "  (4,4) => 0.0\n",
       "  (3,1) => 1000.0\n",
       "  (4,5) => 5000.0\n",
       "  (2,4) => 2000.0\n",
       "  (6,5) => 2000.0\n",
       "  (8,4) => 7000.0\n",
       "  (1,2) => 1000.0\n",
       "  (5,1) => 2000.0\n",
       "  (3,4) => 2000.0\n",
       "  (8,2) => 4000.0\n",
       "  (2,3) => 1000.0\n",
       "  (2,6) => 4000.0\n",
       "  (5,4) => 5000.0\n",
       "  (2,1) => 1000.0\n",
       "  (2,5) => 1000.0\n",
       "  (8,5) => 5000.0\n",
       "  (1,4) => 5000.0\n",
       "  (2,8) => 4000.0\n",
       "  (5,8) => 5000.0\n",
       "  (4,8) => 7000.0\n",
       "  (7,8) => 10000.0\n",
       "  (1,1) => 0.0\n",
       "  (7,7) => 0.0\n",
       "  (5,7) => 2000.0\n",
       "  ⋮     => ⋮"
      ]
     },
     "execution_count": 21,
     "metadata": {},
     "output_type": "execute_result"
    }
   ],
   "source": [
    "demands"
   ]
  },
  {
   "cell_type": "code",
   "execution_count": 22,
   "metadata": {
    "collapsed": true
   },
   "outputs": [],
   "source": [
    "outfile = open(\"demands_MA.json\", \"w\")\n",
    "\n",
    "JSON.print(outfile, demands)\n",
    "\n",
    "close(outfile)"
   ]
  },
  {
   "cell_type": "code",
   "execution_count": 23,
   "metadata": {
    "collapsed": false
   },
   "outputs": [
    {
     "data": {
      "text/plain": [
       "train_cd (generic function with 1 method)"
      ]
     },
     "execution_count": 23,
     "metadata": {},
     "output_type": "execute_result"
    }
   ],
   "source": [
    "##########\n",
    "#Fitting Funcs\n",
    "##########\n",
    "\n",
    "function train_cd(lam::Float64, deg::Int, c::Float64, ys, flow_data, flows, nodeLink, arcs; fcoeffs=nothing)\n",
    "    numNodes = maximum(map(pair->pair[1], keys(arcs)))\n",
    "    m, coeffs, reg_term = setUpFitting(deg, c)\n",
    "    \n",
    "    addIncreasingCnsts(m, coeffs, arcs, TOL=1e-8)  #uses the original obs flows\n",
    "\n",
    "    avgCost = mean( [bpacost(a.flow, a.capacity, 1.0) for a in values(arcs)] )\n",
    "    normalize(m, coeffs, [a.flow / a.capacity for a in values(arcs)], avgCost)\n",
    "\n",
    "    resids = Variable[]\n",
    "    \n",
    "\n",
    "    #copy the flow data over to the arcs\n",
    "    for (ix, a) in enumerate(vArcs)\n",
    "        a.flow = flow_data[ix]\n",
    "    end\n",
    "\n",
    "    for k = keys(arcs)\n",
    "\t\ta = arcs[k]\n",
    "\t\trhs = a.freeflowtime * polyEval(coeffs, a.flow/a.capacity)\n",
    "\t\tfor od in keys(demands)\n",
    "\t\t\t@addConstraint(m, ys[od, k[2]] - ys[od, k[1]] <= rhs)\n",
    "\t\tend\n",
    "\tend\n",
    "\n",
    "    @defVar(m, demands_[keys(demands)])\n",
    "    \n",
    "    for (s,t) = keys(demands)\n",
    "        @addConstraint(m, demands_[(s,t)] >= 0)\n",
    "        @addConstraint(m, demands_[(s,t)] - demands[(s,t)] <= demands[(s,t)] * 0.1)\n",
    "        @addConstraint(m, demands[(s,t)] - demands_[(s,t)] <= demands[(s,t)] * 0.1)\n",
    "    end\n",
    "    \n",
    "#     numLinks = length(flows)  # number of links\n",
    "#     @defVar(m, odLinkFlow[keys(demands), 1:numLinks])\n",
    "#     for (s,t) = keys(demands)\n",
    "#         for k = 1:numLinks\n",
    "#             @addConstraint(m, odLinkFlow[(s,t), k] >= 0)\n",
    "#         end\n",
    "#     end\n",
    "    \n",
    "#     for k = 1:numLinks\n",
    "#         linkFlowPartial = 0\n",
    "#         for (s,t) = keys(demands)\n",
    "#             linkFlowPartial += odLinkFlow[(s,t), k]\n",
    "#         end\n",
    "#         key = (int(split(link_label_dict[\"$(k-1)\"], ',')[1]), int(split(link_label_dict[\"$(k-1)\"], ',')[2]))\n",
    "#         @addConstraint(m, linkFlowPartial - flows[key] <= 2e3)\n",
    "#         @addConstraint(m, flows[key] - linkFlowPartial <= 2e3)\n",
    "#     end\n",
    "\n",
    "#     for l = 1:numNodes\n",
    "#         for (s,t) = keys(demands)\n",
    "#             if s == t\n",
    "#                 @addConstraint(m, demands_[(s,t)] == 0)\n",
    "#             else\n",
    "#                 odLinkFlowPartial = 0\n",
    "#                 for k = 1:numLinks\n",
    "#                     odLinkFlowPartial += nodeLink[\"$(l-1)-$(k-1)\"] * odLinkFlow[(s,t), k]\n",
    "#                 end\n",
    "\n",
    "#                 if (l+1 == s)\n",
    "#                     @addConstraint(m, odLinkFlowPartial + demands_[(s,t)] == 0)\n",
    "#                 elseif (l+1 == t)\n",
    "#                     @addConstraint(m, odLinkFlowPartial - demands_[(s,t)] == 0)\n",
    "#                 else\n",
    "#                     @addConstraint(m, odLinkFlowPartial == 0)\n",
    "#                 end\n",
    "#             end\n",
    "#         end\n",
    "#     end\n",
    "    \n",
    "    #add the residual for this data point\n",
    "    push!(resids, addResid_(m, coeffs, ys, demands_, demands, arcs, 1e6))\n",
    "\n",
    "    if fcoeffs != nothing\n",
    "        fixCoeffs(m, fcoeffs, coeffs)\n",
    "    end\n",
    "    @setObjective(m, Min, sum{resids[i], i = 1:length(resids)} + lam*reg_term)\n",
    "    solve(m)\n",
    "    return [getValue(coeffs[i]) for i =1:length(coeffs)], getValue(demands_), getValue(resids)\n",
    "end"
   ]
  },
  {
   "cell_type": "code",
   "execution_count": 24,
   "metadata": {
    "collapsed": false
   },
   "outputs": [
    {
     "data": {
      "text/plain": [
       "0.0"
      ]
     },
     "execution_count": 24,
     "metadata": {},
     "output_type": "execute_result"
    }
   ],
   "source": [
    "demands[(1, 1)]"
   ]
  },
  {
   "cell_type": "code",
   "execution_count": 25,
   "metadata": {
    "collapsed": false
   },
   "outputs": [
    {
     "data": {
      "text/plain": [
       "Dict{(Int64,Int64),Float64} with 64 entries:\n",
       "  (3,6) => 3000.0\n",
       "  (4,4) => 0.0\n",
       "  (3,1) => 1000.0\n",
       "  (4,5) => 5000.0\n",
       "  (2,4) => 2000.0\n",
       "  (6,5) => 2000.0\n",
       "  (8,4) => 7000.0\n",
       "  (1,2) => 1000.0\n",
       "  (5,1) => 2000.0\n",
       "  (3,4) => 2000.0\n",
       "  (8,2) => 4000.0\n",
       "  (2,3) => 1000.0\n",
       "  (2,6) => 4000.0\n",
       "  (5,4) => 5000.0\n",
       "  (2,1) => 1000.0\n",
       "  (2,5) => 1000.0\n",
       "  (8,5) => 5000.0\n",
       "  (1,4) => 5000.0\n",
       "  (2,8) => 4000.0\n",
       "  (5,8) => 5000.0\n",
       "  (4,8) => 7000.0\n",
       "  (7,8) => 10000.0\n",
       "  (1,1) => 0.0\n",
       "  (7,7) => 0.0\n",
       "  (5,7) => 2000.0\n",
       "  ⋮     => ⋮"
      ]
     },
     "execution_count": 25,
     "metadata": {},
     "output_type": "execute_result"
    }
   ],
   "source": [
    "#include(\"trafficCval.jl\")\n",
    "\n",
    "coeffs_dict = Dict{(Int64,Float64,Float64),Array{Float64,1}}()\n",
    "\n",
    "deg = 8\n",
    "c = .5\n",
    "lam = 10000.\n",
    "\n",
    "demands_0 = copy(demands)"
   ]
  },
  {
   "cell_type": "code",
   "execution_count": 26,
   "metadata": {
    "collapsed": false
   },
   "outputs": [
    {
     "data": {
      "text/plain": [
       "Dict{(Int64,Int64),Float64} with 24 entries:\n",
       "  (3,6) => 12580.962888630183\n",
       "  (2,3) => 8000.00001029226\n",
       "  (5,6) => 6000.000000436973\n",
       "  (5,4) => 15000.00009002714\n",
       "  (2,1) => 12098.207512248424\n",
       "  (6,3) => 12372.816065472918\n",
       "  (3,1) => 12901.792487193356\n",
       "  (4,5) => 15398.718808036634\n",
       "  (1,3) => 12550.538648183572\n",
       "  (4,8) => 17449.46143133243\n",
       "  (7,5) => 20130.257615025897\n",
       "  (8,7) => 26503.07367999163\n",
       "  (3,2) => 8000.0000012240125\n",
       "  (7,6) => 14372.816065090396\n",
       "  (2,4) => 17449.4613410048\n",
       "  (7,8) => 26550.538568039785\n",
       "  (6,5) => 6000.000000432818\n",
       "  (6,7) => 14580.962888247637\n",
       "  (8,4) => 17496.926319379065\n",
       "  (1,2) => 12449.46135126259\n",
       "  (5,3) => 15528.976422877002\n",
       "  (4,2) => 17098.20751103876\n",
       "  (3,5) => 14969.57576976304\n",
       "  (5,7) => 19969.575679915495"
      ]
     },
     "execution_count": 26,
     "metadata": {},
     "output_type": "execute_result"
    }
   ],
   "source": [
    "flows"
   ]
  },
  {
   "cell_type": "code",
   "execution_count": 27,
   "metadata": {
    "collapsed": false
   },
   "outputs": [
    {
     "data": {
      "text/plain": [
       "9-element Array{Float64,1}:\n",
       "  1.0       \n",
       " -0.00677008\n",
       "  0.0728343 \n",
       " -0.399166  \n",
       "  1.26083   \n",
       " -2.33677   \n",
       "  2.54313   \n",
       " -1.47196   \n",
       "  0.359354  "
      ]
     },
     "execution_count": 27,
     "metadata": {},
     "output_type": "execute_result"
    }
   ],
   "source": [
    "fcoeffs, ys, resids = train_cy(lam, deg, c, demands_0, flow_data, arcs)\n",
    "coeffs_dict[(deg, c, lam)] = fcoeffs"
   ]
  },
  {
   "cell_type": "code",
   "execution_count": 42,
   "metadata": {
    "collapsed": false
   },
   "outputs": [
    {
     "data": {
      "text/plain": [
       "5-element Array{Float64,1}:\n",
       " 1.0        \n",
       " 0.00311707 \n",
       " 0.00289664 \n",
       " 0.000594741\n",
       " 0.000339645"
      ]
     },
     "execution_count": 42,
     "metadata": {},
     "output_type": "execute_result"
    }
   ],
   "source": [
    "fcoeffs, demands_, resides_ = train_cd(lam, deg, c, ys, flow_data, flows, nodeLink, arcs)\n",
    "for (s,t) = keys(demands)\n",
    "    demands_0[(s,t)] = demands_[(s,t)]\n",
    "end\n",
    "coeffs_dict[(deg, c, lam)] = fcoeffs"
   ]
  },
  {
   "cell_type": "code",
   "execution_count": 28,
   "metadata": {
    "collapsed": false,
    "scrolled": true
   },
   "outputs": [
    {
     "name": "stderr",
     "output_type": "stream",
     "text": [
      "INFO: Loading help data...\n"
     ]
    },
    {
     "data": {
      "image/png": "[encoded data removed]",
      "text/plain": [
       "Figure(PyObject <matplotlib.figure.Figure object at 0x7f743e950450>)"
      ]
     },
     "metadata": {},
     "output_type": "display_data"
    }
   ],
   "source": [
    "using PyPlot\n",
    "\n",
    "true_coeffs = [1, 0, 0, 0, .15]\n",
    "\n",
    "fcoeffs = coeffs_dict[(8, .5, 10000.)]\n",
    "\n",
    "xs = linspace(0, 2, 20)\n",
    "zs_true = map(x->polyEval(true_coeffs, x), xs)\n",
    "\n",
    "zs = map(x->polyEval(fcoeffs, x), xs)\n",
    "\n",
    "plot(xs, zs_true, \"s-g\", label=\"True\")\n",
    "\n",
    "plot(xs, zs, \"^-m\", label=\"deg=6\")\n",
    "legend(loc=\"upper left\",fancybox=\"true\") \n",
    "\n",
    "grid(\"on\")\n",
    "xlim(-0.1, 1.6);\n",
    "ylim(0.9, 2.0);\n",
    "\n",
    "font1 = [\"family\"=>\"serif\",\n",
    "    \"color\"=>\"darkred\",\n",
    "    \"weight\"=>\"normal\",\n",
    "    \"size\"=>14]\n",
    "xlabel(\"Scaled Flow\", fontdict=font1)\n",
    "ylabel(\"Scaled Cost\", fontdict=font1)\n",
    "\n",
    "savefig(\"fitting_MA.pdf\")"
   ]
  },
  {
   "cell_type": "code",
   "execution_count": 29,
   "metadata": {
    "collapsed": false,
    "scrolled": true
   },
   "outputs": [
    {
     "data": {
      "text/plain": [
       "Dict{(Int64,Int64),Float64} with 576 entries:\n",
       "  (23,8)  => 270.0\n",
       "  (8,23)  => 270.0\n",
       "  (6,9)   => 440.0\n",
       "  (18,3)  => -0.0\n",
       "  (21,13) => 540.0\n",
       "  (22,16) => 1320.0\n",
       "  (15,17) => 1650.0\n",
       "  (22,14) => 1320.0\n",
       "  (13,9)  => 660.0\n",
       "  (23,10) => 1620.0\n",
       "  (24,22) => 1210.0\n",
       "  (8,9)   => 880.0\n",
       "  (9,1)   => 550.0\n",
       "  (17,14) => 770.0\n",
       "  (16,6)  => 990.0\n",
       "  (16,12) => 630.0\n",
       "  (16,13) => 540.0\n",
       "  (22,2)  => 90.0\n",
       "  (24,3)  => -0.0\n",
       "  (7,16)  => 1540.0\n",
       "  (1,12)  => 220.0\n",
       "  (4,5)   => 550.0\n",
       "  (11,8)  => 720.0\n",
       "  (18,21) => 110.0\n",
       "  (19,4)  => 180.0\n",
       "  ⋮        => ⋮"
      ]
     },
     "execution_count": 29,
     "metadata": {},
     "output_type": "execute_result"
    }
   ],
   "source": [
    "demands_0"
   ]
  }
 ],
 "metadata": {
  "kernelspec": {
   "display_name": "Julia 0.3.7",
   "language": "julia",
   "name": "julia-0.3"
  },
  "language_info": {
   "file_extension": ".jl",
   "mimetype": "application/julia",
   "name": "julia",
   "version": "0.3.7"
  }
 },
 "nbformat": 4,
 "nbformat_minor": 0
}
