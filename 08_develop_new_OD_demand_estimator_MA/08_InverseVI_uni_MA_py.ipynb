{
 "cells": [
  {
   "cell_type": "markdown",
   "metadata": {},
   "source": [
    "## Solve an inverse tarffic problem over polynomials of degree at most d\n",
    "\n",
    "## Optionally use a regularizer from the poly kernel"
   ]
  },
  {
   "cell_type": "code",
   "execution_count": 1,
   "metadata": {
    "collapsed": false
   },
   "outputs": [
    {
     "name": "stdout",
     "output_type": "stream",
     "text": [
      "No dicts found; please check load_dicts...\n"
     ]
    }
   ],
   "source": [
    "%run ../Python_files/util.py"
   ]
  },
  {
   "cell_type": "code",
   "execution_count": 2,
   "metadata": {
    "collapsed": true
   },
   "outputs": [],
   "source": [
    "import json"
   ]
  },
  {
   "cell_type": "code",
   "execution_count": 5,
   "metadata": {
    "collapsed": true
   },
   "outputs": [],
   "source": [
    "# read in node-link incidence matrtix\n",
    "with open('node_link_incidence_MA.json', 'r') as json_file:\n",
    "    N_dict = json.load(json_file)\n",
    "    \n",
    "N = zload('node_link_incidence_MA.pkz')"
   ]
  },
  {
   "cell_type": "code",
   "execution_count": 6,
   "metadata": {
    "collapsed": false
   },
   "outputs": [
    {
     "data": {
      "text/plain": [
       "{u'0-0': 1.0,\n",
       " u'0-1': -1.0,\n",
       " u'0-10': 0.0,\n",
       " u'0-11': 0.0,\n",
       " u'0-12': 0.0,\n",
       " u'0-13': 0.0,\n",
       " u'0-14': 0.0,\n",
       " u'0-15': 0.0,\n",
       " u'0-16': 0.0,\n",
       " u'0-17': 0.0,\n",
       " u'0-18': 0.0,\n",
       " u'0-19': 0.0,\n",
       " u'0-2': 1.0,\n",
       " u'0-20': 0.0,\n",
       " u'0-21': 0.0,\n",
       " u'0-22': 0.0,\n",
       " u'0-23': 0.0,\n",
       " u'0-3': -1.0,\n",
       " u'0-4': 0.0,\n",
       " u'0-5': 0.0,\n",
       " u'0-6': 0.0,\n",
       " u'0-7': 0.0,\n",
       " u'0-8': 0.0,\n",
       " u'0-9': 0.0,\n",
       " u'1-0': -1.0,\n",
       " u'1-1': 1.0,\n",
       " u'1-10': 0.0,\n",
       " u'1-11': 0.0,\n",
       " u'1-12': 0.0,\n",
       " u'1-13': 0.0,\n",
       " u'1-14': 0.0,\n",
       " u'1-15': 0.0,\n",
       " u'1-16': 0.0,\n",
       " u'1-17': 0.0,\n",
       " u'1-18': 0.0,\n",
       " u'1-19': 0.0,\n",
       " u'1-2': 0.0,\n",
       " u'1-20': 0.0,\n",
       " u'1-21': 0.0,\n",
       " u'1-22': 0.0,\n",
       " u'1-23': 0.0,\n",
       " u'1-3': 0.0,\n",
       " u'1-4': 1.0,\n",
       " u'1-5': -1.0,\n",
       " u'1-6': 1.0,\n",
       " u'1-7': -1.0,\n",
       " u'1-8': 0.0,\n",
       " u'1-9': 0.0,\n",
       " u'2-0': 0.0,\n",
       " u'2-1': 0.0,\n",
       " u'2-10': 1.0,\n",
       " u'2-11': -1.0,\n",
       " u'2-12': 0.0,\n",
       " u'2-13': 0.0,\n",
       " u'2-14': 0.0,\n",
       " u'2-15': 0.0,\n",
       " u'2-16': 0.0,\n",
       " u'2-17': 0.0,\n",
       " u'2-18': 0.0,\n",
       " u'2-19': 0.0,\n",
       " u'2-2': -1.0,\n",
       " u'2-20': 0.0,\n",
       " u'2-21': 0.0,\n",
       " u'2-22': 0.0,\n",
       " u'2-23': 0.0,\n",
       " u'2-3': 1.0,\n",
       " u'2-4': -1.0,\n",
       " u'2-5': 1.0,\n",
       " u'2-6': 0.0,\n",
       " u'2-7': 0.0,\n",
       " u'2-8': 1.0,\n",
       " u'2-9': -1.0,\n",
       " u'3-0': 0.0,\n",
       " u'3-1': 0.0,\n",
       " u'3-10': 0.0,\n",
       " u'3-11': 0.0,\n",
       " u'3-12': 1.0,\n",
       " u'3-13': -1.0,\n",
       " u'3-14': 0.0,\n",
       " u'3-15': 0.0,\n",
       " u'3-16': 1.0,\n",
       " u'3-17': -1.0,\n",
       " u'3-18': 0.0,\n",
       " u'3-19': 0.0,\n",
       " u'3-2': 0.0,\n",
       " u'3-20': 0.0,\n",
       " u'3-21': 0.0,\n",
       " u'3-22': 0.0,\n",
       " u'3-23': 0.0,\n",
       " u'3-3': 0.0,\n",
       " u'3-4': 0.0,\n",
       " u'3-5': 0.0,\n",
       " u'3-6': -1.0,\n",
       " u'3-7': 1.0,\n",
       " u'3-8': 0.0,\n",
       " u'3-9': 0.0,\n",
       " u'4-0': 0.0,\n",
       " u'4-1': 0.0,\n",
       " u'4-10': 0.0,\n",
       " u'4-11': 0.0,\n",
       " u'4-12': -1.0,\n",
       " u'4-13': 1.0,\n",
       " u'4-14': 1.0,\n",
       " u'4-15': -1.0,\n",
       " u'4-16': 0.0,\n",
       " u'4-17': 0.0,\n",
       " u'4-18': 1.0,\n",
       " u'4-19': -1.0,\n",
       " u'4-2': 0.0,\n",
       " u'4-20': 0.0,\n",
       " u'4-21': 0.0,\n",
       " u'4-22': 0.0,\n",
       " u'4-23': 0.0,\n",
       " u'4-3': 0.0,\n",
       " u'4-4': 0.0,\n",
       " u'4-5': 0.0,\n",
       " u'4-6': 0.0,\n",
       " u'4-7': 0.0,\n",
       " u'4-8': -1.0,\n",
       " u'4-9': 1.0,\n",
       " u'5-0': 0.0,\n",
       " u'5-1': 0.0,\n",
       " u'5-10': -1.0,\n",
       " u'5-11': 1.0,\n",
       " u'5-12': 0.0,\n",
       " u'5-13': 0.0,\n",
       " u'5-14': -1.0,\n",
       " u'5-15': 1.0,\n",
       " u'5-16': 0.0,\n",
       " u'5-17': 0.0,\n",
       " u'5-18': 0.0,\n",
       " u'5-19': 0.0,\n",
       " u'5-2': 0.0,\n",
       " u'5-20': 1.0,\n",
       " u'5-21': -1.0,\n",
       " u'5-22': 0.0,\n",
       " u'5-23': 0.0,\n",
       " u'5-3': 0.0,\n",
       " u'5-4': 0.0,\n",
       " u'5-5': 0.0,\n",
       " u'5-6': 0.0,\n",
       " u'5-7': 0.0,\n",
       " u'5-8': 0.0,\n",
       " u'5-9': 0.0,\n",
       " u'6-0': 0.0,\n",
       " u'6-1': 0.0,\n",
       " u'6-10': 0.0,\n",
       " u'6-11': 0.0,\n",
       " u'6-12': 0.0,\n",
       " u'6-13': 0.0,\n",
       " u'6-14': 0.0,\n",
       " u'6-15': 0.0,\n",
       " u'6-16': 0.0,\n",
       " u'6-17': 0.0,\n",
       " u'6-18': -1.0,\n",
       " u'6-19': 1.0,\n",
       " u'6-2': 0.0,\n",
       " u'6-20': -1.0,\n",
       " u'6-21': 1.0,\n",
       " u'6-22': 1.0,\n",
       " u'6-23': -1.0,\n",
       " u'6-3': 0.0,\n",
       " u'6-4': 0.0,\n",
       " u'6-5': 0.0,\n",
       " u'6-6': 0.0,\n",
       " u'6-7': 0.0,\n",
       " u'6-8': 0.0,\n",
       " u'6-9': 0.0,\n",
       " u'7-0': 0.0,\n",
       " u'7-1': 0.0,\n",
       " u'7-10': 0.0,\n",
       " u'7-11': 0.0,\n",
       " u'7-12': 0.0,\n",
       " u'7-13': 0.0,\n",
       " u'7-14': 0.0,\n",
       " u'7-15': 0.0,\n",
       " u'7-16': -1.0,\n",
       " u'7-17': 1.0,\n",
       " u'7-18': 0.0,\n",
       " u'7-19': 0.0,\n",
       " u'7-2': 0.0,\n",
       " u'7-20': 0.0,\n",
       " u'7-21': 0.0,\n",
       " u'7-22': -1.0,\n",
       " u'7-23': 1.0,\n",
       " u'7-3': 0.0,\n",
       " u'7-4': 0.0,\n",
       " u'7-5': 0.0,\n",
       " u'7-6': 0.0,\n",
       " u'7-7': 0.0,\n",
       " u'7-8': 0.0,\n",
       " u'7-9': 0.0}"
      ]
     },
     "execution_count": 6,
     "metadata": {},
     "output_type": "execute_result"
    }
   ],
   "source": [
    "N_dict"
   ]
  },
  {
   "cell_type": "code",
   "execution_count": 8,
   "metadata": {
    "collapsed": false
   },
   "outputs": [
    {
     "data": {
      "text/plain": [
       "(8, 24)"
      ]
     },
     "execution_count": 8,
     "metadata": {},
     "output_type": "execute_result"
    }
   ],
   "source": [
    "N.shape"
   ]
  },
  {
   "cell_type": "code",
   "execution_count": 9,
   "metadata": {
    "collapsed": true
   },
   "outputs": [],
   "source": [
    "# define polynomial kernel with degree d\n",
    "def k(x, y, c, d):\n",
    "    return (c + x*y) ** d"
   ]
  },
  {
   "cell_type": "code",
   "execution_count": 20,
   "metadata": {
    "collapsed": false
   },
   "outputs": [],
   "source": [
    "# construct kernel matrix; take d=5 for instance\n",
    "c = 1.0\n",
    "d = 5\n",
    "pts = np.linspace(0.0, 1.0, num=d+1)"
   ]
  },
  {
   "cell_type": "code",
   "execution_count": 21,
   "metadata": {
    "collapsed": false
   },
   "outputs": [
    {
     "data": {
      "text/plain": [
       "array([ 0. ,  0.2,  0.4,  0.6,  0.8,  1. ])"
      ]
     },
     "execution_count": 21,
     "metadata": {},
     "output_type": "execute_result"
    }
   ],
   "source": [
    "pts"
   ]
  },
  {
   "cell_type": "code",
   "execution_count": 25,
   "metadata": {
    "collapsed": true
   },
   "outputs": [],
   "source": [
    "phiSimp_dict = {}\n",
    "for i in range(d+1):\n",
    "    for j in range(d+1):\n",
    "        key = str(i) + ',' + str(j)\n",
    "        phiSimp_dict[key] = k(pts[i], pts[j], c, d)"
   ]
  },
  {
   "cell_type": "code",
   "execution_count": 26,
   "metadata": {
    "collapsed": false
   },
   "outputs": [
    {
     "data": {
      "text/plain": [
       "{'0,0': 1.0,\n",
       " '0,1': 1.0,\n",
       " '0,2': 1.0,\n",
       " '0,3': 1.0,\n",
       " '0,4': 1.0,\n",
       " '0,5': 1.0,\n",
       " '1,0': 1.0,\n",
       " '1,1': 1.2166529024000001,\n",
       " '1,2': 1.4693280768000005,\n",
       " '1,3': 1.7623416832000007,\n",
       " '1,4': 2.1003416576000014,\n",
       " '1,5': 2.4883199999999994,\n",
       " '2,0': 1.0,\n",
       " '2,1': 1.4693280768000005,\n",
       " '2,2': 2.1003416576000014,\n",
       " '2,3': 2.9316250623999998,\n",
       " '2,4': 4.0074642432000012,\n",
       " '2,5': 5.3782399999999981,\n",
       " '3,0': 1.0,\n",
       " '3,1': 1.7623416832000007,\n",
       " '3,2': 2.9316250623999998,\n",
       " '3,3': 4.6525874176000013,\n",
       " '3,4': 7.1008211967999992,\n",
       " '3,5': 10.485760000000003,\n",
       " '4,0': 1.0,\n",
       " '4,1': 2.1003416576000014,\n",
       " '4,2': 4.0074642432000012,\n",
       " '4,3': 7.1008211967999992,\n",
       " '4,4': 11.863674982400005,\n",
       " '4,5': 18.895680000000002,\n",
       " '5,0': 1.0,\n",
       " '5,1': 2.4883199999999994,\n",
       " '5,2': 5.3782399999999981,\n",
       " '5,3': 10.485760000000003,\n",
       " '5,4': 18.895680000000002,\n",
       " '5,5': 32.0}"
      ]
     },
     "execution_count": 26,
     "metadata": {},
     "output_type": "execute_result"
    }
   ],
   "source": [
    "phiSimp_dict"
   ]
  },
  {
   "cell_type": "code",
   "execution_count": 27,
   "metadata": {
    "collapsed": false
   },
   "outputs": [
    {
     "data": {
      "text/plain": [
       "36"
      ]
     },
     "execution_count": 27,
     "metadata": {},
     "output_type": "execute_result"
    }
   ],
   "source": [
    "len(phiSimp_dict)"
   ]
  },
  {
   "cell_type": "code",
   "execution_count": null,
   "metadata": {
    "collapsed": true
   },
   "outputs": [],
   "source": []
  }
 ],
 "metadata": {
  "kernelspec": {
   "display_name": "Python 2",
   "language": "python",
   "name": "python2"
  },
  "language_info": {
   "codemirror_mode": {
    "name": "ipython",
    "version": 2
   },
   "file_extension": ".py",
   "mimetype": "text/x-python",
   "name": "python",
   "nbconvert_exporter": "python",
   "pygments_lexer": "ipython2",
   "version": "2.7.11"
  }
 },
 "nbformat": 4,
 "nbformat_minor": 0
}
