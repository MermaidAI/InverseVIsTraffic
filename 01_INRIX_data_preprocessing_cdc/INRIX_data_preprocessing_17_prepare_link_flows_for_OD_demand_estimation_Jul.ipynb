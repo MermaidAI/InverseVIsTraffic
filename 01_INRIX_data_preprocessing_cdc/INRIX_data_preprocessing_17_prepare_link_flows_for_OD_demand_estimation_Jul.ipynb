{
 "cells": [
  {
   "cell_type": "code",
   "execution_count": 1,
   "metadata": {
    "collapsed": false
   },
   "outputs": [
    {
     "name": "stdout",
     "output_type": "stream",
     "text": [
      "[2549.0826284651985, 2660.2183096319236, 2706.0259162725911, 2851.7699054583491, 2886.1301361415285, 2937.8812904984889, 2972.7237504285999, 3054.1558626931405, 3065.0521922935154, 3072.275811775015]\n",
      "[3256.8450494644107, 3243.421291837662, 3305.8489343221067, 3288.2953792156045, 3265.023220741154, 3299.311187900051, 3322.836168406424, 3343.26812562513, 3350.233473705579, 3405.372309481258]\n"
     ]
    }
   ],
   "source": [
    "%run ../Python_files/load_dicts.py\n",
    "%run ../Python_files/INRIX_data_preprocessing_17_prepare_link_flows_for_OD_demand_estimation_Jul.py"
   ]
  }
 ],
 "metadata": {
  "kernelspec": {
   "display_name": "Python 2",
   "language": "python",
   "name": "python2"
  },
  "language_info": {
   "codemirror_mode": {
    "name": "ipython",
    "version": 2
   },
   "file_extension": ".py",
   "mimetype": "text/x-python",
   "name": "python",
   "nbconvert_exporter": "python",
   "pygments_lexer": "ipython2",
   "version": "2.7.12"
  }
 },
 "nbformat": 4,
 "nbformat_minor": 0
}
