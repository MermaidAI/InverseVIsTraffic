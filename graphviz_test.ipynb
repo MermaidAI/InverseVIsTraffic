{
 "cells": [
  {
   "cell_type": "code",
   "execution_count": 1,
   "metadata": {
    "collapsed": true
   },
   "outputs": [],
   "source": [
    "from graphviz import Digraph"
   ]
  },
  {
   "cell_type": "code",
   "execution_count": 2,
   "metadata": {
    "collapsed": false
   },
   "outputs": [],
   "source": [
    "g1 = Digraph(comment='The Round Table')\n",
    "g1.node('A', 'historical data')\n",
    "g1.node('B', 'empirical Probability Law &pi;')\n",
    "g1.edge('A', 'B', label='statistical inference')"
   ]
  },
  {
   "cell_type": "code",
   "execution_count": 3,
   "metadata": {
    "collapsed": false
   },
   "outputs": [
    {
     "name": "stdout",
     "output_type": "stream",
     "text": [
      "// The Round Table\n",
      "digraph {\n",
      "\tA [label=\"historical data\"]\n",
      "\tB [label=\"empirical Probability Law &pi;\"]\n",
      "\t\tA -> B [label=\"statistical inference\"]\n",
      "}\n"
     ]
    }
   ],
   "source": [
    "print(g1.source)"
   ]
  },
  {
   "cell_type": "code",
   "execution_count": 4,
   "metadata": {
    "collapsed": false
   },
   "outputs": [],
   "source": [
    "filename = g1.render(filename='img/g1')"
   ]
  },
  {
   "cell_type": "code",
   "execution_count": 5,
   "metadata": {
    "collapsed": false
   },
   "outputs": [
    {
     "data": {
      "text/plain": [
       "'detection_procedure.pdf'"
      ]
     },
     "execution_count": 5,
     "metadata": {},
     "output_type": "execute_result"
    }
   ],
   "source": [
    "# cluster.py - http://www.graphviz.org/content/cluster\n",
    "\n",
    "g = Digraph('G', filename='detection_procedure')\n",
    "\n",
    "c0 = Digraph('cluster_0')\n",
    "c0.body.append('style=filled')\n",
    "c0.body.append('color=lightgrey')\n",
    "c0.node_attr.update(style='filled', color='white')\n",
    "c0.edge('historical data', 'Probability Law &pi;', label='statistical inference')\n",
    "\n",
    "c1 = Digraph('cluster_1')\n",
    "c1.node_attr.update(style='filled')\n",
    "c1.edge('data in current detection window', 'empirical Probability Law &nu;', label='estimation')\n",
    "c1.body.append('color=blue')\n",
    "\n",
    "g.subgraph(c0)\n",
    "g.subgraph(c1)\n",
    "\n",
    "g.edge('Probability Law &pi;', 'Divergence between &nu; and &pi;, i.e., D(&nu;||&pi;)')\n",
    "g.edge('empirical Probability Law &nu;', 'Divergence between &nu; and &pi;, i.e., D(&nu;||&pi;)')\n",
    "\n",
    "g.edge('Divergence between &nu; and &pi;, i.e., D(&nu;||&pi;)', 'D(&nu;||&pi;) > &eta;?')\n",
    "g.node('D(&nu;||&pi;) > &eta;?', shape='box')\n",
    "\n",
    "g.edge('D(&nu;||&pi;) > &eta;?', 'report an anomaly', label='YES', fontcolor='red')\n",
    "g.node('report an anomaly', color='red', fontcolor='red')\n",
    "\n",
    "g.edge('D(&nu;||&pi;) > &eta;?', 'NO anomaly reported', label='NO', fontcolor='green')\n",
    "g.node('NO anomaly reported', color='green', fontcolor='green')\n",
    "\n",
    "g.edge('report an anomaly', 'go onto the next detection window')\n",
    "g.edge('NO anomaly reported', 'go onto the next detection window')\n",
    "\n",
    "g.edge('go onto the next detection window', 'Divergence between &nu; and &pi;, i.e., D(&nu;||&pi;)')\n",
    "g.node('go onto the next detection window', shape='box')\n",
    "\n",
    "#g.node('Divergence between &nu; and &pi;')\n",
    "\n",
    "g.view()"
   ]
  },
  {
   "cell_type": "code",
   "execution_count": null,
   "metadata": {
    "collapsed": true
   },
   "outputs": [],
   "source": []
  }
 ],
 "metadata": {
  "kernelspec": {
   "display_name": "Python 2",
   "language": "python",
   "name": "python2"
  },
  "language_info": {
   "codemirror_mode": {
    "name": "ipython",
    "version": 2
   },
   "file_extension": ".py",
   "mimetype": "text/x-python",
   "name": "python",
   "nbconvert_exporter": "python",
   "pygments_lexer": "ipython2",
   "version": "2.7.6"
  }
 },
 "nbformat": 4,
 "nbformat_minor": 0
}
