{
 "cells": [
  {
   "cell_type": "code",
   "execution_count": 1,
   "metadata": {
    "collapsed": false
   },
   "outputs": [
    {
     "name": "stdout",
     "output_type": "stream",
     "text": [
      "No dicts found; please check load_dicts...\n"
     ]
    }
   ],
   "source": [
    "%run ../Python_files/util.py\n",
    "\n",
    "road_seg_inr_capac = zload('../temp_files/road_seg_inr_capac_journal.pkz')\n",
    "\n",
    "raw_data_folder = '/home/jzh/INRIX/All_INRIX_2012_filtered_journal/Oct/'\n",
    "\n",
    "import csv\n",
    "import gzip\n",
    "import glob\n",
    "\n",
    "for input_file in glob.glob(raw_data_folder + '*.csv.gz'):\n",
    "    with gzip.open(input_file, 'rb') as inp, \\\n",
    "            open(input_file + '.filtered.csv', 'wb') as out:\n",
    "        writer = csv.writer(out)\n",
    "        for row in csv.reader(inp):\n",
    "            if row[0] in road_seg_inr_capac.tmc:\n",
    "                writer.writerow(row)"
   ]
  },
  {
   "cell_type": "code",
   "execution_count": null,
   "metadata": {
    "collapsed": true
   },
   "outputs": [],
   "source": []
  }
 ],
 "metadata": {
  "anaconda-cloud": {},
  "kernelspec": {
   "display_name": "Python [default]",
   "language": "python",
   "name": "python2"
  },
  "language_info": {
   "codemirror_mode": {
    "name": "ipython",
    "version": 2
   },
   "file_extension": ".py",
   "mimetype": "text/x-python",
   "name": "python",
   "nbconvert_exporter": "python",
   "pygments_lexer": "ipython2",
   "version": "2.7.12"
  }
 },
 "nbformat": 4,
 "nbformat_minor": 0
}
