{
 "cells": [
  {
   "cell_type": "code",
   "execution_count": 1,
   "metadata": {
    "collapsed": false
   },
   "outputs": [
    {
     "name": "stdout",
     "output_type": "stream",
     "text": [
      "No dicts found; please check load_dicts...\n"
     ]
    }
   ],
   "source": [
    "%run ../Python_files/util_data_storage_and_load.py\n",
    "%run ../Python_files/util.py\n",
    "%run ../Python_files/load_dicts.py\n",
    "\n",
    "import numpy as np\n",
    "\n",
    "# tmc_ref_speed_dict.keys()[0:5]\n",
    "\n",
    "# tmc_day_speed_dict_Jan_AM = zload('../temp_files/Jan_AM/tmc_day_speed_dict_journal.pkz')\n",
    "# tmc_day_speed_dict_Jan_MD = zload('../temp_files/Jan_MD/tmc_day_speed_dict_journal.pkz')\n",
    "# tmc_day_speed_dict_Jan_PM = zload('../temp_files/Jan_PM/tmc_day_speed_dict_journal.pkz')\n",
    "# tmc_day_speed_dict_Jan_NT = zload('../temp_files/Jan_NT/tmc_day_speed_dict_journal.pkz')\n",
    "\n",
    "# tmc_day_speed_dict_Apr_AM = zload('../temp_files/Apr_AM/tmc_day_speed_dict_journal.pkz')\n",
    "# tmc_day_speed_dict_Apr_MD = zload('../temp_files/Apr_MD/tmc_day_speed_dict_journal.pkz')\n",
    "# tmc_day_speed_dict_Apr_PM = zload('../temp_files/Apr_PM/tmc_day_speed_dict_journal.pkz')\n",
    "# tmc_day_speed_dict_Apr_NT = zload('../temp_files/Apr_NT/tmc_day_speed_dict_journal.pkz')\n",
    "\n",
    "tmc_day_speed_dict_Jul_AM = zload('../temp_files/Jul_AM/tmc_day_speed_dict_journal.pkz')\n",
    "tmc_day_speed_dict_Jul_MD = zload('../temp_files/Jul_MD/tmc_day_speed_dict_journal.pkz')\n",
    "tmc_day_speed_dict_Jul_PM = zload('../temp_files/Jul_PM/tmc_day_speed_dict_journal.pkz')\n",
    "tmc_day_speed_dict_Jul_NT = zload('../temp_files/Jul_NT/tmc_day_speed_dict_journal.pkz')\n",
    "\n",
    "# tmc_day_speed_dict_Oct_AM = zload('../temp_files/Oct_AM/tmc_day_speed_dict_journal.pkz')\n",
    "# tmc_day_speed_dict_Oct_MD = zload('../temp_files/Oct_MD/tmc_day_speed_dict_journal.pkz')\n",
    "# tmc_day_speed_dict_Oct_PM = zload('../temp_files/Oct_PM/tmc_day_speed_dict_journal.pkz')\n",
    "# tmc_day_speed_dict_Oct_NT = zload('../temp_files/Oct_NT/tmc_day_speed_dict_journal.pkz')\n",
    "\n",
    "tmc_speed_dict = {}\n",
    "\n",
    "for tmc in tmc_ref_speed_dict_journal.keys():\n",
    "    speed_list = []\n",
    "    for day in range(32)[1:]:\n",
    "        key = tmc + str(day)\n",
    "#         speed_list.append(tmc_day_speed_dict_Jan_AM[key].speed)\n",
    "#         speed_list.append(tmc_day_speed_dict_Jan_MD[key].speed)\n",
    "#         speed_list.append(tmc_day_speed_dict_Jan_PM[key].speed)\n",
    "#         speed_list.append(tmc_day_speed_dict_Jan_NT[key].speed)   \n",
    "        speed_list.append(tmc_day_speed_dict_Jul_AM[key].speed)\n",
    "        speed_list.append(tmc_day_speed_dict_Jul_MD[key].speed)\n",
    "        speed_list.append(tmc_day_speed_dict_Jul_PM[key].speed)\n",
    "        speed_list.append(tmc_day_speed_dict_Jul_NT[key].speed)   \n",
    "#         speed_list.append(tmc_day_speed_dict_Oct_AM[key].speed)\n",
    "#         speed_list.append(tmc_day_speed_dict_Oct_MD[key].speed)\n",
    "#         speed_list.append(tmc_day_speed_dict_Oct_PM[key].speed)\n",
    "#         speed_list.append(tmc_day_speed_dict_Oct_NT[key].speed)   \n",
    "#     for day in range(31)[1:]:\n",
    "#         key = tmc + str(day)\n",
    "#         speed_list.append(tmc_day_speed_dict_Apr_AM[key].speed)\n",
    "#         speed_list.append(tmc_day_speed_dict_Apr_MD[key].speed)\n",
    "#         speed_list.append(tmc_day_speed_dict_Apr_PM[key].speed)\n",
    "#         speed_list.append(tmc_day_speed_dict_Apr_NT[key].speed)  \n",
    "        \n",
    "    tmc_speed_dict[tmc] = speed_list\n",
    "\n",
    "for tmc in tmc_ref_speed_dict_journal.keys():\n",
    "    A = np.array(sum(tmc_speed_dict[tmc], []))\n",
    "    tmc_ref_speed_dict[tmc] = np.percentile(A, 85)\n",
    "\n",
    "zdump(tmc_ref_speed_dict, '../temp_files/tmc_ref_speed_dict_journal.pkz')"
   ]
  },
  {
   "cell_type": "code",
   "execution_count": null,
   "metadata": {
    "collapsed": true
   },
   "outputs": [],
   "source": []
  }
 ],
 "metadata": {
  "anaconda-cloud": {},
  "kernelspec": {
   "display_name": "Python [default]",
   "language": "python",
   "name": "python2"
  },
  "language_info": {
   "codemirror_mode": {
    "name": "ipython",
    "version": 2
   },
   "file_extension": ".py",
   "mimetype": "text/x-python",
   "name": "python",
   "nbconvert_exporter": "python",
   "pygments_lexer": "ipython2",
   "version": "2.7.12"
  }
 },
 "nbformat": 4,
 "nbformat_minor": 0
}
