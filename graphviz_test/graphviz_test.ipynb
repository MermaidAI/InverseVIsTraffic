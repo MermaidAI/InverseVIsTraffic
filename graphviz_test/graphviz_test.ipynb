{
 "cells": [
  {
   "cell_type": "code",
   "execution_count": 1,
   "metadata": {
    "collapsed": false
   },
   "outputs": [],
   "source": [
    "from graphviz import Digraph"
   ]
  },
  {
   "cell_type": "code",
   "execution_count": 2,
   "metadata": {
    "collapsed": false
   },
   "outputs": [],
   "source": [
    "g1 = Digraph(comment='The Round Table')\n",
    "g1.node('A', 'historical data')\n",
    "g1.node('B', 'empirical Probability Law &pi;')\n",
    "g1.edge('A', 'B', label='statistical inference')"
   ]
  },
  {
   "cell_type": "code",
   "execution_count": 3,
   "metadata": {
    "collapsed": false
   },
   "outputs": [
    {
     "name": "stdout",
     "output_type": "stream",
     "text": [
      "// The Round Table\n",
      "digraph {\n",
      "\tA [label=\"historical data\"]\n",
      "\tB [label=\"empirical Probability Law &pi;\"]\n",
      "\t\tA -> B [label=\"statistical inference\"]\n",
      "}\n"
     ]
    }
   ],
   "source": [
    "print(g1.source)"
   ]
  },
  {
   "cell_type": "code",
   "execution_count": 4,
   "metadata": {
    "collapsed": false
   },
   "outputs": [],
   "source": [
    "filename = g1.render(filename='../img/g1')"
   ]
  },
  {
   "cell_type": "code",
   "execution_count": 14,
   "metadata": {
    "collapsed": false
   },
   "outputs": [
    {
     "data": {
      "text/plain": [
       "'detection_procedure.pdf'"
      ]
     },
     "execution_count": 14,
     "metadata": {},
     "output_type": "execute_result"
    }
   ],
   "source": [
    "# cluster.py - http://www.graphviz.org/content/cluster\n",
    "\n",
    "g = Digraph('G', filename='detection_procedure')\n",
    "\n",
    "c0 = Digraph('cluster_0')\n",
    "c0.body.append('style=filled')\n",
    "c0.body.append('color=lightgrey')\n",
    "c0.node_attr.update(style='filled', color='white')\n",
    "c0.edge('historical data', 'Probability Law &pi;', label='statistical inference')\n",
    "\n",
    "c1 = Digraph('cluster_1')\n",
    "c1.node_attr.update(style='filled')\n",
    "c1.edge('data in current detection window', 'empirical Probability Law &nu;', label='estimation')\n",
    "c1.body.append('color=blue')\n",
    "\n",
    "g.subgraph(c0)\n",
    "g.subgraph(c1)\n",
    "\n",
    "g.edge('Probability Law &pi;', 'Divergence between &nu; and &pi;, i.e., D(&nu;||&pi;)')\n",
    "g.edge('empirical Probability Law &nu;', 'Divergence between &nu; and &pi;, i.e., D(&nu;||&pi;)')\n",
    "\n",
    "g.edge('Divergence between &nu; and &pi;, i.e., D(&nu;||&pi;)', 'D(&nu;||&pi;) > &eta;?')\n",
    "g.node('D(&nu;||&pi;) > &eta;?', shape='box')\n",
    "\n",
    "g.edge('D(&nu;||&pi;) > &eta;?', 'report an anomaly', label='YES', fontcolor='red')\n",
    "g.node('report an anomaly', color='red', fontcolor='red')\n",
    "\n",
    "g.edge('D(&nu;||&pi;) > &eta;?', 'NO anomaly reported', label='NO', fontcolor='green')\n",
    "g.node('NO anomaly reported', color='green', fontcolor='green')\n",
    "\n",
    "g.edge('report an anomaly', 'go onto the next detection window')\n",
    "g.edge('NO anomaly reported', 'go onto the next detection window')\n",
    "\n",
    "g.edge('go onto the next detection window', 'Divergence between &nu; and &pi;, i.e., D(&nu;||&pi;)')\n",
    "g.node('go onto the next detection window', shape='box')\n",
    "\n",
    "#g.node('Divergence between &nu; and &pi;')\n",
    "\n",
    "g.view()"
   ]
  },
  {
   "cell_type": "code",
   "execution_count": 6,
   "metadata": {
    "collapsed": false
   },
   "outputs": [
    {
     "data": {
      "text/plain": [
       "'MA_highway_network_topology.pdf'"
      ]
     },
     "execution_count": 6,
     "metadata": {},
     "output_type": "execute_result"
    }
   ],
   "source": [
    "# cluster.py - http://www.graphviz.org/content/cluster\n",
    "\n",
    "g = Digraph('G', filename='MA_highway_network_topology')\n",
    "\n",
    "g.edge('1', '2', label='1-1(0)', fontsize='8')\n",
    "g.edge('2', '1', label='1-2(1)', fontsize='8')\n",
    "g.edge('1', '3', label='2-1(2)', fontsize='8')\n",
    "g.edge('3', '1', label='2-2(3)', fontsize='8')\n",
    "g.edge('2', '3', label='3-1(4)', fontsize='8')\n",
    "g.edge('3', '2', label='3-2(5)', fontsize='8')\n",
    "g.edge('2', '4', label='4-1(6)', fontsize='8')\n",
    "g.edge('4', '2', label='4-2(7)', fontsize='8')\n",
    "g.edge('3', '5', label='5-1(8)', fontsize='8')\n",
    "g.edge('5', '3', label='5-2(9)', fontsize='8')\n",
    "g.edge('3', '6', label='6-1(10)', fontsize='8')\n",
    "g.edge('6', '3', label='6-2(11)', fontsize='8')\n",
    "g.edge('4', '5', label='7-1(12)', fontsize='8')\n",
    "g.edge('5', '4', label='7-2(13)', fontsize='8')\n",
    "g.edge('5', '6', label='8-1(14)', fontsize='8')\n",
    "g.edge('6', '5', label='8-2(15)', fontsize='8')\n",
    "g.edge('4', '8', label='9-1(16)', fontsize='8')\n",
    "g.edge('8', '4', label='9-2(17)', fontsize='8')\n",
    "g.edge('5', '7', label='10-1(18)', fontsize='8')\n",
    "g.edge('7', '5', label='10-2(19)', fontsize='8')\n",
    "g.edge('6', '7', label='11-1(20)', fontsize='8')\n",
    "g.edge('7', '6', label='11-2(21)', fontsize='8')\n",
    "g.edge('7', '8', label='12-1(22)', fontsize='8')\n",
    "g.edge('8', '7', label='12-2(23)', fontsize='8')\n",
    "\n",
    "g.view()"
   ]
  },
  {
   "cell_type": "code",
   "execution_count": 19,
   "metadata": {
    "collapsed": false
   },
   "outputs": [
    {
     "data": {
      "text/plain": [
       "'MA_highway_network_topology.pdf'"
      ]
     },
     "execution_count": 19,
     "metadata": {},
     "output_type": "execute_result"
    }
   ],
   "source": [
    "# cluster.py - http://www.graphviz.org/content/cluster\n",
    "\n",
    "g = Digraph('G', filename='MA_highway_network_topology')\n",
    "\n",
    "#node[fontsize=60]\n",
    "\n",
    "g.edge('1', '2', label='0', fontsize='8')\n",
    "g.edge('2', '1', label='1', fontsize='8')\n",
    "g.edge('1', '3', label='2', fontsize='8')\n",
    "g.edge('3', '1', label='3', fontsize='8')\n",
    "g.edge('2', '3', label='4', fontsize='8')\n",
    "g.edge('3', '2', label='5', fontsize='8')\n",
    "g.edge('2', '4', label='6', fontsize='8')\n",
    "g.edge('4', '2', label='7', fontsize='8')\n",
    "g.edge('3', '5', label='8', fontsize='8')\n",
    "g.edge('5', '3', label='9', fontsize='8')\n",
    "g.edge('3', '6', label='10', fontsize='8')\n",
    "g.edge('6', '3', label='11', fontsize='8')\n",
    "g.edge('4', '5', label='12', fontsize='8')\n",
    "g.edge('5', '4', label='13', fontsize='8')\n",
    "g.edge('5', '6', label='14', fontsize='8')\n",
    "g.edge('6', '5', label='15', fontsize='8')\n",
    "g.edge('4', '8', label='16', fontsize='8')\n",
    "g.edge('8', '4', label='17', fontsize='8')\n",
    "g.edge('5', '7', label='18', fontsize='8')\n",
    "g.edge('7', '5', label='19', fontsize='8')\n",
    "g.edge('6', '7', label='20', fontsize='8')\n",
    "g.edge('7', '6', label='21', fontsize='8')\n",
    "g.edge('7', '8', label='22', fontsize='8')\n",
    "g.edge('8', '7', label='23', fontsize='8')\n",
    "\n",
    "g.view()"
   ]
  },
  {
   "cell_type": "code",
   "execution_count": 21,
   "metadata": {
    "collapsed": false
   },
   "outputs": [
    {
     "data": {
      "text/plain": [
       "'MA_highway_network_topology_.pdf'"
      ]
     },
     "execution_count": 21,
     "metadata": {},
     "output_type": "execute_result"
    }
   ],
   "source": [
    "# cluster.py - http://www.graphviz.org/content/cluster\n",
    "\n",
    "g = Digraph('G', filename='MA_highway_network_topology_')\n",
    "\n",
    "g.node('1', fontsize='20')\n",
    "g.node('2', fontsize='20')\n",
    "g.node('3', fontsize='20')\n",
    "g.node('4', fontsize='20')\n",
    "g.node('5', fontsize='20')\n",
    "g.node('6', fontsize='20')\n",
    "g.node('7', fontsize='20')\n",
    "g.node('8', fontsize='20')\n",
    "\n",
    "g.edge('1', '2', label='0', fontsize='20')\n",
    "g.edge('2', '1', label='1', fontsize='20')\n",
    "g.edge('1', '3', label='2', fontsize='20')\n",
    "g.edge('3', '1', label='3', fontsize='20')\n",
    "\n",
    "g.edge('5', '3', label='9', fontsize='20')\n",
    "\n",
    "g.edge('8', '7', label='23', fontsize='20')\n",
    "g.edge('2', '4', label='6', fontsize='20')\n",
    "g.edge('4', '2', label='7', fontsize='20')\n",
    "g.edge('5', '6', label='14', fontsize='20')\n",
    "\n",
    "g.edge('6', '3', label='11', fontsize='20')\n",
    "\n",
    "g.edge('4', '5', label='12', fontsize='20')\n",
    "g.edge('5', '4', label='13', fontsize='20')\n",
    "g.edge('7', '6', label='21', fontsize='20')\n",
    "g.edge('3', '6', label='10', fontsize='20')\n",
    "g.edge('6', '5', label='15', fontsize='20')\n",
    "g.edge('4', '8', label='16', fontsize='20')\n",
    "g.edge('8', '4', label='17', fontsize='20')\n",
    "g.edge('5', '7', label='18', fontsize='20')\n",
    "g.edge('2', '3', label='4', fontsize='20')\n",
    "g.edge('3', '2', label='5', fontsize='20')\n",
    "g.edge('3', '5', label='8', fontsize='20')\n",
    "\n",
    "g.edge('7', '5', label='19', fontsize='20')\n",
    "g.edge('6', '7', label='20', fontsize='20')\n",
    "\n",
    "g.edge('7', '8', label='22', fontsize='20')\n",
    "\n",
    "g.view()"
   ]
  },
  {
   "cell_type": "code",
   "execution_count": null,
   "metadata": {
    "collapsed": true
   },
   "outputs": [],
   "source": []
  },
  {
   "cell_type": "code",
   "execution_count": null,
   "metadata": {
    "collapsed": true
   },
   "outputs": [],
   "source": []
  }
 ],
 "metadata": {
  "kernelspec": {
   "display_name": "Python 2",
   "language": "python",
   "name": "python2"
  },
  "language_info": {
   "codemirror_mode": {
    "name": "ipython",
    "version": 2
   },
   "file_extension": ".py",
   "mimetype": "text/x-python",
   "name": "python",
   "nbconvert_exporter": "python",
   "pygments_lexer": "ipython2",
   "version": "2.7.11"
  }
 },
 "nbformat": 4,
 "nbformat_minor": 0
}
