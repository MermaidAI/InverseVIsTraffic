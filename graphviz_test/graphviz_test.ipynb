{
 "cells": [
  {
   "cell_type": "code",
   "execution_count": 1,
   "metadata": {
    "collapsed": true
   },
   "outputs": [],
   "source": [
    "from graphviz import Digraph"
   ]
  },
  {
   "cell_type": "code",
   "execution_count": 2,
   "metadata": {
    "collapsed": false
   },
   "outputs": [],
   "source": [
    "g1 = Digraph(comment='The Round Table')\n",
    "g1.node('A', 'historical data')\n",
    "g1.node('B', 'empirical Probability Law &pi;')\n",
    "g1.edge('A', 'B', label='statistical inference')"
   ]
  },
  {
   "cell_type": "code",
   "execution_count": 3,
   "metadata": {
    "collapsed": false
   },
   "outputs": [
    {
     "name": "stdout",
     "output_type": "stream",
     "text": [
      "// The Round Table\n",
      "digraph {\n",
      "\tA [label=\"historical data\"]\n",
      "\tB [label=\"empirical Probability Law &pi;\"]\n",
      "\t\tA -> B [label=\"statistical inference\"]\n",
      "}\n"
     ]
    }
   ],
   "source": [
    "print(g1.source)"
   ]
  },
  {
   "cell_type": "code",
   "execution_count": 4,
   "metadata": {
    "collapsed": false
   },
   "outputs": [],
   "source": [
    "filename = g1.render(filename='../img/g1')"
   ]
  },
  {
   "cell_type": "code",
   "execution_count": 5,
   "metadata": {
    "collapsed": false
   },
   "outputs": [
    {
     "data": {
      "text/plain": [
       "'detection_procedure.pdf'"
      ]
     },
     "execution_count": 5,
     "metadata": {},
     "output_type": "execute_result"
    }
   ],
   "source": [
    "# cluster.py - http://www.graphviz.org/content/cluster\n",
    "\n",
    "g = Digraph('G', filename='detection_procedure')\n",
    "\n",
    "c0 = Digraph('cluster_0')\n",
    "c0.body.append('style=filled')\n",
    "c0.body.append('color=lightgrey')\n",
    "c0.node_attr.update(style='filled', color='white')\n",
    "c0.edge('historical data', 'Probability Law &pi;', label='statistical inference')\n",
    "\n",
    "c1 = Digraph('cluster_1')\n",
    "c1.node_attr.update(style='filled')\n",
    "c1.edge('data in current detection window', 'empirical Probability Law &nu;', label='estimation')\n",
    "c1.body.append('color=blue')\n",
    "\n",
    "g.subgraph(c0)\n",
    "g.subgraph(c1)\n",
    "\n",
    "g.edge('Probability Law &pi;', 'Divergence between &nu; and &pi;, i.e., D(&nu;||&pi;)')\n",
    "g.edge('empirical Probability Law &nu;', 'Divergence between &nu; and &pi;, i.e., D(&nu;||&pi;)')\n",
    "\n",
    "g.edge('Divergence between &nu; and &pi;, i.e., D(&nu;||&pi;)', 'D(&nu;||&pi;) > &eta;?')\n",
    "g.node('D(&nu;||&pi;) > &eta;?', shape='box')\n",
    "\n",
    "g.edge('D(&nu;||&pi;) > &eta;?', 'report an anomaly', label='YES', fontcolor='red')\n",
    "g.node('report an anomaly', color='red', fontcolor='red')\n",
    "\n",
    "g.edge('D(&nu;||&pi;) > &eta;?', 'NO anomaly reported', label='NO', fontcolor='green')\n",
    "g.node('NO anomaly reported', color='green', fontcolor='green')\n",
    "\n",
    "g.edge('report an anomaly', 'go onto the next detection window')\n",
    "g.edge('NO anomaly reported', 'go onto the next detection window')\n",
    "\n",
    "g.edge('go onto the next detection window', 'Divergence between &nu; and &pi;, i.e., D(&nu;||&pi;)')\n",
    "g.node('go onto the next detection window', shape='box')\n",
    "\n",
    "#g.node('Divergence between &nu; and &pi;')\n",
    "\n",
    "g.view()"
   ]
  },
  {
   "cell_type": "code",
   "execution_count": 6,
   "metadata": {
    "collapsed": false
   },
   "outputs": [
    {
     "data": {
      "text/plain": [
       "'MA_highway_network_topology.pdf'"
      ]
     },
     "execution_count": 6,
     "metadata": {},
     "output_type": "execute_result"
    }
   ],
   "source": [
    "# cluster.py - http://www.graphviz.org/content/cluster\n",
    "\n",
    "g = Digraph('G', filename='MA_highway_network_topology')\n",
    "\n",
    "overlap = 'scale';\n",
    "\n",
    "\n",
    "g.edge('1', '2', label='1-1', fontsize='8')\n",
    "g.edge('2', '1', label='1-2', fontsize='8')\n",
    "g.edge('2', '5', label='15-1', fontsize='8')\n",
    "g.edge('5', '2', label='15-2', fontsize='8')\n",
    "g.edge('2', '4', label='16-1', fontsize='8')\n",
    "g.edge('4', '2', label='16-2', fontsize='8')\n",
    "g.edge('10', '11', label='2-1', fontsize='8')\n",
    "g.edge('11', '10', label='2-2', fontsize='8')\n",
    "g.edge('17', '18', label='3-1', fontsize='8')\n",
    "g.edge('18', '17', label='3-2', fontsize='8')\n",
    "g.edge('8', '15', label='5-1', fontsize='8')\n",
    "g.edge('15', '8', label='5-2', fontsize='8')\n",
    "g.edge('5', '8', label='6-1', fontsize='8')\n",
    "g.edge('8', '5', label='6-2', fontsize='8')\n",
    "g.edge('4', '5', label='7-1', fontsize='8')\n",
    "g.edge('5', '4', label='7-2', fontsize='8')\n",
    "g.edge('15', '17', label='8-1', fontsize='8')\n",
    "g.edge('17', '15', label='8-2', fontsize='8')\n",
    "g.edge('4', '17', label='4-1', fontsize='8')\n",
    "g.edge('17', '4', label='4-2', fontsize='8')\n",
    "g.edge('3', '4', label='17-1', fontsize='8')\n",
    "g.edge('4', '3', label='17-2', fontsize='8')\n",
    "g.edge('10', '15', label='9-1', fontsize='8')\n",
    "g.edge('15', '10', label='9-2', fontsize='8')\n",
    "g.edge('9', '10', label='10-1', fontsize='8')\n",
    "g.edge('10', '9', label='10-2', fontsize='8')\n",
    "g.edge('8', '9', label='11-1', fontsize='8')\n",
    "g.edge('9', '8', label='11-2', fontsize='8')\n",
    "g.edge('7', '8', label='13-1', fontsize='8')\n",
    "g.edge('8', '7', label='13-2', fontsize='8')\n",
    "g.edge('5', '7', label='14-1', fontsize='8')\n",
    "g.edge('7', '5', label='14-2', fontsize='8')\n",
    "g.edge('6', '7', label='18-1', fontsize='8')\n",
    "g.edge('7', '6', label='18-2', fontsize='8')\n",
    "g.edge('15', '16', label='19-1', fontsize='8')\n",
    "g.edge('16', '15', label='19-2', fontsize='8')\n",
    "g.edge('12', '13', label='20-1', fontsize='8')\n",
    "g.edge('13', '12', label='20-2', fontsize='8')\n",
    "g.edge('12', '14', label='21-1', fontsize='8')\n",
    "g.edge('14', '12', label='21-2', fontsize='8')\n",
    "g.edge('10', '12', label='22-1', fontsize='8')\n",
    "g.edge('12', '10', label='22-2', fontsize='8')\n",
    "g.edge('7', '9', label='12-1', fontsize='8')\n",
    "g.edge('9', '7', label='12-2', fontsize='8')\n",
    "\n",
    "g.view()"
   ]
  },
  {
   "cell_type": "code",
   "execution_count": 7,
   "metadata": {
    "collapsed": false
   },
   "outputs": [
    {
     "data": {
      "text/plain": [
       "'MA_highway_network_topology.pdf'"
      ]
     },
     "execution_count": 7,
     "metadata": {},
     "output_type": "execute_result"
    }
   ],
   "source": [
    "# cluster.py - http://www.graphviz.org/content/cluster\n",
    "\n",
    "g = Digraph('G', filename='MA_highway_network_topology')\n",
    "\n",
    "g.edge('5', '7', label='14-1', fontsize='8')\n",
    "g.edge('7', '5', label='14-2', fontsize='8')\n",
    "g.edge('7', '9', label='12-1', fontsize='8')\n",
    "g.edge('9', '7', label='12-2', fontsize='8')\n",
    "g.edge('8', '9', label='11-1', fontsize='8')\n",
    "g.edge('9', '8', label='11-2', fontsize='8')\n",
    "g.edge('7', '8', label='13-1', fontsize='8')\n",
    "g.edge('8', '7', label='13-2', fontsize='8')\n",
    "\n",
    "g.edge('6', '7', label='18-1', fontsize='8')\n",
    "g.edge('7', '6', label='18-2', fontsize='8')\n",
    "g.edge('1', '2', label='1-1', fontsize='8')\n",
    "g.edge('2', '1', label='1-2', fontsize='8')\n",
    "g.edge('2', '5', label='15-1', fontsize='8')\n",
    "g.edge('5', '2', label='15-2', fontsize='8')\n",
    "g.edge('2', '4', label='16-1', fontsize='8')\n",
    "g.edge('4', '2', label='16-2', fontsize='8')\n",
    "g.edge('10', '11', label='2-1', fontsize='8')\n",
    "g.edge('11', '10', label='2-2', fontsize='8')\n",
    "g.edge('17', '18', label='3-1', fontsize='8')\n",
    "g.edge('18', '17', label='3-2', fontsize='8')\n",
    "g.edge('8', '15', label='5-1', fontsize='8')\n",
    "g.edge('15', '8', label='5-2', fontsize='8')\n",
    "g.edge('5', '8', label='6-1', fontsize='8')\n",
    "g.edge('8', '5', label='6-2', fontsize='8')\n",
    "g.edge('4', '5', label='7-1', fontsize='8')\n",
    "g.edge('5', '4', label='7-2', fontsize='8')\n",
    "g.edge('15', '17', label='8-1', fontsize='8')\n",
    "g.edge('17', '15', label='8-2', fontsize='8')\n",
    "g.edge('4', '17', label='4-1', fontsize='8')\n",
    "g.edge('17', '4', label='4-2', fontsize='8')\n",
    "g.edge('3', '4', label='17-1', fontsize='8')\n",
    "g.edge('4', '3', label='17-2', fontsize='8')\n",
    "g.edge('10', '15', label='9-1', fontsize='8')\n",
    "g.edge('15', '10', label='9-2', fontsize='8')\n",
    "g.edge('9', '10', label='10-1', fontsize='8')\n",
    "g.edge('10', '9', label='10-2', fontsize='8')\n",
    "\n",
    "g.edge('15', '16', label='19-1', fontsize='8')\n",
    "g.edge('16', '15', label='19-2', fontsize='8')\n",
    "g.edge('12', '13', label='20-1', fontsize='8')\n",
    "g.edge('13', '12', label='20-2', fontsize='8')\n",
    "g.edge('12', '14', label='21-1', fontsize='8')\n",
    "g.edge('14', '12', label='21-2', fontsize='8')\n",
    "g.edge('10', '12', label='22-1', fontsize='8')\n",
    "g.edge('12', '10', label='22-2', fontsize='8')\n",
    "\n",
    "\n",
    "g.view()"
   ]
  },
  {
   "cell_type": "code",
   "execution_count": 8,
   "metadata": {
    "collapsed": false
   },
   "outputs": [
    {
     "data": {
      "text/plain": [
       "'MA_highway_network_topology.pdf'"
      ]
     },
     "execution_count": 8,
     "metadata": {},
     "output_type": "execute_result"
    }
   ],
   "source": [
    "# cluster.py - http://www.graphviz.org/content/cluster\n",
    "\n",
    "g = Digraph('G', filename='MA_highway_network_topology')\n",
    "\n",
    "\n",
    "\n",
    "g.edge('2', '5', label='15-1', fontsize='8')\n",
    "g.edge('5', '2', label='15-2', fontsize='8')\n",
    "\n",
    "g.edge('5', '7', label='14-1', fontsize='8')\n",
    "g.edge('7', '5', label='14-2', fontsize='8')\n",
    "\n",
    "g.edge('5', '8', label='6-1', fontsize='8')\n",
    "g.edge('8', '5', label='6-2', fontsize='8')\n",
    "\n",
    "g.edge('13', '12', label='20-2', fontsize='8')\n",
    "g.edge('12', '14', label='21-1', fontsize='8')\n",
    "g.edge('14', '12', label='21-2', fontsize='8')\n",
    "g.edge('10', '12', label='22-1', fontsize='8')\n",
    "g.edge('12', '10', label='22-2', fontsize='8')\n",
    "\n",
    "g.edge('17', '18', label='3-1', fontsize='8')\n",
    "g.edge('18', '17', label='3-2', fontsize='8')\n",
    "g.edge('8', '15', label='5-1', fontsize='8')\n",
    "g.edge('15', '8', label='5-2', fontsize='8')\n",
    "\n",
    "\n",
    "\n",
    "g.edge('7', '9', label='12-1', fontsize='8')\n",
    "g.edge('9', '7', label='12-2', fontsize='8')\n",
    "g.edge('8', '9', label='11-1', fontsize='8')\n",
    "\n",
    "g.edge('2', '4', label='16-1', fontsize='8')\n",
    "g.edge('4', '2', label='16-2', fontsize='8')\n",
    "\n",
    "g.edge('9', '8', label='11-2', fontsize='8')\n",
    "g.edge('7', '8', label='13-1', fontsize='8')\n",
    "g.edge('8', '7', label='13-2', fontsize='8')\n",
    "\n",
    "g.edge('10', '11', label='2-1', fontsize='8')\n",
    "g.edge('11', '10', label='2-2', fontsize='8')\n",
    "\n",
    "\n",
    "g.edge('4', '5', label='7-1', fontsize='8')\n",
    "g.edge('5', '4', label='7-2', fontsize='8')\n",
    "g.edge('15', '17', label='8-1', fontsize='8')\n",
    "g.edge('17', '15', label='8-2', fontsize='8')\n",
    "g.edge('4', '17', label='4-1', fontsize='8')\n",
    "g.edge('17', '4', label='4-2', fontsize='8')\n",
    "g.edge('3', '4', label='17-1', fontsize='8')\n",
    "\n",
    "g.edge('6', '7', label='18-1', fontsize='8')\n",
    "g.edge('7', '6', label='18-2', fontsize='8')\n",
    "g.edge('1', '2', label='1-1', fontsize='8')\n",
    "g.edge('2', '1', label='1-2', fontsize='8')\n",
    "\n",
    "\n",
    "g.edge('10', '15', label='9-1', fontsize='8')\n",
    "g.edge('15', '10', label='9-2', fontsize='8')\n",
    "g.edge('9', '10', label='10-1', fontsize='8')\n",
    "g.edge('10', '9', label='10-2', fontsize='8')\n",
    "\n",
    "\n",
    "\n",
    "\n",
    "g.edge('4', '3', label='17-2', fontsize='8')\n",
    "\n",
    "g.edge('15', '16', label='19-1', fontsize='8')\n",
    "g.edge('16', '15', label='19-2', fontsize='8')\n",
    "g.edge('12', '13', label='20-1', fontsize='8')\n",
    "\n",
    "\n",
    "\n",
    "\n",
    "g.view()"
   ]
  },
  {
   "cell_type": "code",
   "execution_count": null,
   "metadata": {
    "collapsed": true
   },
   "outputs": [],
   "source": []
  }
 ],
 "metadata": {
  "kernelspec": {
   "display_name": "Python 2",
   "language": "python",
   "name": "python2"
  },
  "language_info": {
   "codemirror_mode": {
    "name": "ipython",
    "version": 2
   },
   "file_extension": ".py",
   "mimetype": "text/x-python",
   "name": "python",
   "nbconvert_exporter": "python",
   "pygments_lexer": "ipython2",
   "version": "2.7.6"
  }
 },
 "nbformat": 4,
 "nbformat_minor": 0
}
