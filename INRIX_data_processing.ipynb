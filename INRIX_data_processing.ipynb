{
 "cells": [
  {
   "cell_type": "code",
   "execution_count": 1,
   "metadata": {
    "collapsed": true
   },
   "outputs": [],
   "source": [
    "# define a road segment class corresponding to the original filtered shape file\n",
    "class RoadSegInr(object):\n",
    "\n",
    "    def __init__(self, tmc, road_num, shape_length):\n",
    "        self.tmc = tmc\n",
    "        self.road_num = road_num\n",
    "        self.shape_length = shape_length"
   ]
  },
  {
   "cell_type": "code",
   "execution_count": 2,
   "metadata": {
    "collapsed": true
   },
   "outputs": [],
   "source": [
    "# define a road segment capacity class corresponding to the capacity file\n",
    "class RoadSegCapac(object):\n",
    "\n",
    "    def __init__(self, road_invent, length, route_num, AB_AM_capac, AB_MD_capac, AB_PM_capac, AB_NT_capac):\n",
    "        self.road_invent = road_invent\n",
    "        self.length = length\n",
    "        self.route_num = route_num\n",
    "        self.AB_AM_capac = AB_AM_capac\n",
    "        self.AB_MD_capac = AB_MD_capac\n",
    "        self.AB_PM_capac = AB_PM_capac\n",
    "        self.AB_NT_capac = AB_NT_capac"
   ]
  },
  {
   "cell_type": "code",
   "execution_count": 3,
   "metadata": {
    "collapsed": true
   },
   "outputs": [],
   "source": [
    "##### read in raw data\n",
    "\n",
    "import openpyxl\n",
    "\n",
    "# load filtered INRIX attribute table raw data\n",
    "wb_INRIX = openpyxl.load_workbook('/home/jzh/Dropbox/Research/Data-driven_estimation_inverse_optimization\\\n",
    "/INRIX/Raw_data/filtered_INRIX_attribute_table.xlsx')\n",
    "\n",
    "# get sheet of filtered INRIX attribute table raw data\n",
    "sheet_INRIX = wb_INRIX.get_sheet_by_name('Sheet1')\n",
    "\n",
    "# load filtered capacity attribute table raw data\n",
    "wb_capac = openpyxl.load_workbook('/home/jzh/Dropbox/Research/Data-driven_estimation_inverse_optimization\\\n",
    "/INRIX/Raw_data/filtered_capacity_attribute_table.xlsx')\n",
    "\n",
    "# get sheet of filtered capacity attribute table raw data\n",
    "sheet_capac = wb_capac.get_sheet_by_name('Sheet1')"
   ]
  },
  {
   "cell_type": "code",
   "execution_count": 4,
   "metadata": {
    "collapsed": false
   },
   "outputs": [],
   "source": [
    "##### extract attributes of interest from INRIX sheet\n",
    "\n",
    "tmc_list = []\n",
    "road_num_list = []\n",
    "shape_length_list = []\n",
    "\n",
    "for i in xrange(2, 1 + sheet_INRIX.max_row):\n",
    "    tmc_list.append(sheet_INRIX.cell(row=i, column=2).value) \n",
    "    road_num_list.append(sheet_INRIX.cell(row=i, column=3).value)\n",
    "    shape_length_list.append(sheet_INRIX.cell(row=i, column=13).value)\n",
    "\n",
    "assert(len(tmc_list) == len(road_num_list) and len(road_num_list) == len(shape_length_list))    "
   ]
  },
  {
   "cell_type": "code",
   "execution_count": 5,
   "metadata": {
    "collapsed": false
   },
   "outputs": [],
   "source": [
    "##### extract attributes of interest from capacity sheet\n",
    "\n",
    "road_invent_list = []\n",
    "length_list = []\n",
    "route_num_list = []\n",
    "AB_AM_capac_list = [] \n",
    "AB_MD_capac_list = []\n",
    "AB_PM_capac_list = []\n",
    "AB_NT_capac_list = []\n",
    "\n",
    "for i in xrange(2, 1 + sheet_capac.max_row):\n",
    "    road_invent_list.append(sheet_capac.cell(row=i, column=26).value) \n",
    "    length_list.append(sheet_capac.cell(row=i, column=2).value)\n",
    "    route_num_list.append(sheet_capac.cell(row=i, column=8).value)\n",
    "    AB_AM_capac_list.append(sheet_capac.cell(row=i, column=18).value)\n",
    "    AB_MD_capac_list.append(sheet_capac.cell(row=i, column=20).value)\n",
    "    AB_PM_capac_list.append(sheet_capac.cell(row=i, column=22).value)\n",
    "    AB_NT_capac_list.append(sheet_capac.cell(row=i, column=24).value)\n",
    "\n",
    "assert(len(road_invent_list) == len(length_list) and len(length_list) == len(route_num_list) \\\n",
    "          and len(route_num_list) == len(AB_AM_capac_list) and \\\n",
    "               len(AB_AM_capac_list) == len(AB_MD_capac_list) and \\\n",
    "               len(AB_MD_capac_list) == len(AB_PM_capac_list) and \\\n",
    "               len(AB_PM_capac_list) == len(AB_NT_capac_list))    "
   ]
  },
  {
   "cell_type": "code",
   "execution_count": 6,
   "metadata": {
    "collapsed": false
   },
   "outputs": [],
   "source": [
    "# instantiation of RoadSegInr class\n",
    "road_seg_inr = RoadSegInr(tmc_list, road_num_list, shape_length_list)\n",
    "\n",
    "# instantiation of RoadSegCapac class\n",
    "road_seg_capac = RoadSegCapac(road_invent_list, length_list, route_num_list, \\\n",
    "                              AB_AM_capac_list, AB_MD_capac_list, \\\n",
    "                              AB_PM_capac_list, AB_NT_capac_list)"
   ]
  },
  {
   "cell_type": "code",
   "execution_count": 7,
   "metadata": {
    "collapsed": false
   },
   "outputs": [
    {
     "data": {
      "text/plain": [
       "[u'129-04098', u'129-04099', u'129-04100', u'129-04101', u'129-04102']"
      ]
     },
     "execution_count": 7,
     "metadata": {},
     "output_type": "execute_result"
    }
   ],
   "source": [
    "road_seg_inr.tmc[0:5]"
   ]
  },
  {
   "cell_type": "code",
   "execution_count": 8,
   "metadata": {
    "collapsed": false
   },
   "outputs": [
    {
     "data": {
      "text/plain": [
       "[42000L, 42000L, 42000L, 42000L, 42000L]"
      ]
     },
     "execution_count": 8,
     "metadata": {},
     "output_type": "execute_result"
    }
   ],
   "source": [
    "road_seg_capac.AB_NT_capac[0:5]"
   ]
  },
  {
   "cell_type": "code",
   "execution_count": null,
   "metadata": {
    "collapsed": true
   },
   "outputs": [],
   "source": []
  }
 ],
 "metadata": {
  "kernelspec": {
   "display_name": "Python 2",
   "language": "python",
   "name": "python2"
  },
  "language_info": {
   "codemirror_mode": {
    "name": "ipython",
    "version": 2
   },
   "file_extension": ".py",
   "mimetype": "text/x-python",
   "name": "python",
   "nbconvert_exporter": "python",
   "pygments_lexer": "ipython2",
   "version": "2.7.6"
  }
 },
 "nbformat": 4,
 "nbformat_minor": 0
}
