{
 "cells": [
  {
   "cell_type": "code",
   "execution_count": 1,
   "metadata": {
    "collapsed": true
   },
   "outputs": [],
   "source": [
    "# define a road segment class corresponding to the original filtered shape file\n",
    "class RoadSegInr(object):\n",
    "    def __init__(self, tmc, road_num, shape_length):\n",
    "        self.tmc = tmc\n",
    "        self.road_num = road_num\n",
    "        self.shape_length = shape_length"
   ]
  },
  {
   "cell_type": "code",
   "execution_count": 2,
   "metadata": {
    "collapsed": true
   },
   "outputs": [],
   "source": [
    "# define a road segment capacity class corresponding to the capacity file\n",
    "class RoadSegCapac(object):\n",
    "    def __init__(self, road_invent, length, route_num, AB_AM_capac, \\\n",
    "                 AB_MD_capac, AB_PM_capac, AB_NT_capac):\n",
    "        self.road_invent = road_invent\n",
    "        self.length = length\n",
    "        self.route_num = route_num\n",
    "        self.AB_AM_capac = AB_AM_capac\n",
    "        self.AB_MD_capac = AB_MD_capac\n",
    "        self.AB_PM_capac = AB_PM_capac\n",
    "        self.AB_NT_capac = AB_NT_capac"
   ]
  },
  {
   "cell_type": "code",
   "execution_count": 3,
   "metadata": {
    "collapsed": true
   },
   "outputs": [],
   "source": [
    "# define a lookup class corresponding to the lookup table file\n",
    "class LookUp(object):\n",
    "    def __init__(self, road_inv_ID, tmc):\n",
    "        self.road_inv_ID = road_inv_ID\n",
    "        self.tmc = tmc"
   ]
  },
  {
   "cell_type": "code",
   "execution_count": 4,
   "metadata": {
    "collapsed": false
   },
   "outputs": [],
   "source": [
    "##### read in raw data\n",
    "\n",
    "import openpyxl\n",
    "\n",
    "data_folder = '/home/jzh/Dropbox/Research/\\\n",
    "Data-driven_estimation_inverse_optimization/INRIX/Raw_data/'\n",
    "\n",
    "# load filtered INRIX attribute table raw data\n",
    "wb_INRIX = openpyxl.load_workbook(data_folder + 'filtered_INRIX_attribute_table.xlsx')\n",
    "\n",
    "# load filtered capacity attribute table raw data\n",
    "wb_capac = openpyxl.load_workbook(data_folder + 'filtered_capacity_attribute_table.xlsx')\n",
    "\n",
    "# load lookup table raw data\n",
    "wb_lookup = openpyxl.load_workbook(data_folder + 'roadinv_id_to_tmc_lookup.xlsx') \n",
    "\n",
    "# get sheet name from workbook\n",
    "sheet_INRIX_name = wb_INRIX.sheetnames[0].encode('utf-8')\n",
    "sheet_capac_name = wb_capac.sheetnames[0].encode('utf-8')\n",
    "sheet_lookup_name = wb_lookup.sheetnames[0].encode('utf-8')\n",
    "\n",
    "# get sheet of filtered INRIX attribute table raw data\n",
    "sheet_INRIX = wb_INRIX.get_sheet_by_name(sheet_INRIX_name)\n",
    "\n",
    "# get sheet of filtered capacity attribute table raw data\n",
    "sheet_capac = wb_capac.get_sheet_by_name(sheet_capac_name)\n",
    "\n",
    "# get sheet of lookup table raw data\n",
    "sheet_lookup = wb_lookup.get_sheet_by_name(sheet_lookup_name)"
   ]
  },
  {
   "cell_type": "code",
   "execution_count": 5,
   "metadata": {
    "collapsed": false
   },
   "outputs": [],
   "source": [
    "##### extract attributes of interest from INRIX sheet\n",
    "\n",
    "tmc_list = []\n",
    "road_num_list = []\n",
    "shape_length_list = []\n",
    "\n",
    "for i in xrange(2, 1 + sheet_INRIX.max_row):\n",
    "    tmc_list.append(sheet_INRIX.cell(row=i, column=2).value.encode('utf-8'))\n",
    "    road_num_list.append(sheet_INRIX.cell(row=i, column=3).value.encode('utf-8'))\n",
    "    shape_length_list.append(sheet_INRIX.cell(row=i, column=13).value)\n",
    "\n",
    "assert(len(tmc_list) == len(road_num_list) and \\\n",
    "       len(road_num_list) == len(shape_length_list))    "
   ]
  },
  {
   "cell_type": "code",
   "execution_count": 6,
   "metadata": {
    "collapsed": true
   },
   "outputs": [],
   "source": [
    "##### extract attributes of interest from capacity sheet\n",
    "\n",
    "road_invent_list = []\n",
    "length_list = []\n",
    "route_num_list = []\n",
    "AB_AM_capac_list = [] \n",
    "AB_MD_capac_list = []\n",
    "AB_PM_capac_list = []\n",
    "AB_NT_capac_list = []\n",
    "\n",
    "for i in xrange(2, 1 + sheet_capac.max_row):\n",
    "    road_invent_list.append(sheet_capac.cell(row=i, column=26).value) \n",
    "    length_list.append(sheet_capac.cell(row=i, column=2).value)\n",
    "    route_num_list.append(sheet_capac.cell(row=i, column=8).value)\n",
    "    AB_AM_capac_list.append(sheet_capac.cell(row=i, column=18).value)\n",
    "    AB_MD_capac_list.append(sheet_capac.cell(row=i, column=20).value)\n",
    "    AB_PM_capac_list.append(sheet_capac.cell(row=i, column=22).value)\n",
    "    AB_NT_capac_list.append(sheet_capac.cell(row=i, column=24).value)\n",
    "\n",
    "assert(len(road_invent_list) == len(length_list) and \\\n",
    "               len(length_list) == len(route_num_list) and \\\n",
    "               len(route_num_list) == len(AB_AM_capac_list) and \\\n",
    "               len(AB_AM_capac_list) == len(AB_MD_capac_list) and \\\n",
    "               len(AB_MD_capac_list) == len(AB_PM_capac_list) and \\\n",
    "               len(AB_PM_capac_list) == len(AB_NT_capac_list))    "
   ]
  },
  {
   "cell_type": "code",
   "execution_count": 7,
   "metadata": {
    "collapsed": false
   },
   "outputs": [],
   "source": [
    "##### extract attributes of interest from lookup sheet\n",
    "\n",
    "road_inv_ID_lookup_list = []\n",
    "tmc_lookup_list = []\n",
    "\n",
    "for i in xrange(2, 1 + sheet_lookup.max_row):\n",
    "    road_inv_ID_lookup_list.append(sheet_lookup.cell(row=i, column=1).value) \n",
    "    tmc_lookup_list.append(str(sheet_lookup.cell(row=i, column=4).value))\n",
    "\n",
    "assert(len(road_inv_ID_lookup_list) == len(tmc_lookup_list))    "
   ]
  },
  {
   "cell_type": "code",
   "execution_count": 8,
   "metadata": {
    "collapsed": true
   },
   "outputs": [],
   "source": [
    "# instantiation of RoadSegInr class\n",
    "road_seg_inr = RoadSegInr(tmc_list, road_num_list, shape_length_list)\n",
    "\n",
    "# instantiation of RoadSegCapac class\n",
    "road_seg_capac = RoadSegCapac(road_invent_list, length_list, route_num_list, \\\n",
    "                              AB_AM_capac_list, AB_MD_capac_list, \\\n",
    "                              AB_PM_capac_list, AB_NT_capac_list)\n",
    "\n",
    "# instantiation of LookUp class\n",
    "look_up = LookUp(road_inv_ID_lookup_list, tmc_lookup_list)"
   ]
  },
  {
   "cell_type": "code",
   "execution_count": 9,
   "metadata": {
    "collapsed": false
   },
   "outputs": [],
   "source": [
    "# define a derived road segment class containing the capacity info\n",
    "class RoadSegInrCapac(RoadSegInr):\n",
    "    def __init__(self, tmc, road_num, shape_length, AB_AM_capac, \\\n",
    "                 AB_MD_capac, AB_PM_capac, AB_NT_capac):\n",
    "        RoadSegInr.__init__(self, tmc, road_num, shape_length)\n",
    "        self.AB_AM_capac = AB_AM_capac\n",
    "        self.AB_MD_capac = AB_MD_capac\n",
    "        self.AB_PM_capac = AB_PM_capac\n",
    "        self.AB_NT_capac = AB_NT_capac"
   ]
  },
  {
   "cell_type": "code",
   "execution_count": 10,
   "metadata": {
    "collapsed": false
   },
   "outputs": [],
   "source": [
    "# make a dictionary from look_up\n",
    "tmc_roadInv_dict = {i:j for (i, j) in zip(look_up.tmc, look_up.road_inv_ID)}\n",
    "\n",
    "# make dictionaries from road_seg_capac\n",
    "roadInv_capac_dict_AM = {i:j for (i, j) in zip(road_seg_capac.road_invent, \\\n",
    "                                               road_seg_capac.AB_AM_capac)}\n",
    "roadInv_capac_dict_MD = {i:j for (i, j) in zip(road_seg_capac.road_invent, \\\n",
    "                                               road_seg_capac.AB_MD_capac)}\n",
    "roadInv_capac_dict_PM = {i:j for (i, j) in zip(road_seg_capac.road_invent, \\\n",
    "                                               road_seg_capac.AB_PM_capac)}\n",
    "roadInv_capac_dict_NT = {i:j for (i, j) in zip(road_seg_capac.road_invent, \\\n",
    "                                               road_seg_capac.AB_NT_capac)}"
   ]
  },
  {
   "cell_type": "code",
   "execution_count": 11,
   "metadata": {
    "collapsed": false
   },
   "outputs": [],
   "source": [
    "capac_AM = []\n",
    "capac_MD = []\n",
    "capac_PM = []\n",
    "capac_NT = []\n",
    "\n",
    "for i in range(len(road_seg_inr.tmc)):\n",
    "    capac_AM.append(roadInv_capac_dict_AM[tmc_roadInv_dict[road_seg_inr.tmc[i]]])\n",
    "    capac_MD.append(roadInv_capac_dict_MD[tmc_roadInv_dict[road_seg_inr.tmc[i]]])\n",
    "    capac_PM.append(roadInv_capac_dict_PM[tmc_roadInv_dict[road_seg_inr.tmc[i]]])\n",
    "    capac_NT.append(roadInv_capac_dict_NT[tmc_roadInv_dict[road_seg_inr.tmc[i]]])"
   ]
  },
  {
   "cell_type": "code",
   "execution_count": 12,
   "metadata": {
    "collapsed": true
   },
   "outputs": [],
   "source": [
    "# instantiation of RoadSegInrCapac class\n",
    "road_seg_inr_capac = RoadSegInrCapac(tmc_list, road_num_list, shape_length_list, \\\n",
    "                                     capac_AM, capac_MD, capac_PM, capac_NT)"
   ]
  }
 ],
 "metadata": {
  "kernelspec": {
   "display_name": "Python 2",
   "language": "python",
   "name": "python2"
  },
  "language_info": {
   "codemirror_mode": {
    "name": "ipython",
    "version": 2
   },
   "file_extension": ".py",
   "mimetype": "text/x-python",
   "name": "python",
   "nbconvert_exporter": "python",
   "pygments_lexer": "ipython2",
   "version": "2.7.6"
  }
 },
 "nbformat": 4,
 "nbformat_minor": 0
}
