{
 "metadata": {
  "name": ""
 },
 "nbformat": 3,
 "nbformat_minor": 0,
 "worksheets": [
  {
   "cells": [
    {
     "cell_type": "code",
     "collapsed": false,
     "input": [
      "cd(\"/home/jzh/Dropbox/Research/Data-driven_estimation_inverse_optimization/Experiments/InverseVIsTraffic\")"
     ],
     "language": "python",
     "metadata": {},
     "outputs": [],
     "prompt_number": 1
    },
    {
     "cell_type": "code",
     "collapsed": false,
     "input": [
      "#include(\"defArc.jl\")\n",
      "\n",
      "type Arc\n",
      "    initNode::Int \n",
      "    termNode::Int \n",
      "    capacity::Float64\n",
      "    freeflowtime::Float64\n",
      "    trueflow::Float64\n",
      "    obsflow::Float64\n",
      "end\n",
      "\n",
      "Arc(initNode::Int, termNode::Int, capacity::Float64,freeflowtime::Float64) = \n",
      "    Arc(initNode, termNode, capacity, freeflowtime, 0., 0.)"
     ],
     "language": "python",
     "metadata": {},
     "outputs": [
      {
       "metadata": {},
       "output_type": "pyout",
       "prompt_number": 2,
       "text": [
        "Arc (constructor with 3 methods)"
       ]
      }
     ],
     "prompt_number": 2
    },
    {
     "cell_type": "code",
     "collapsed": false,
     "input": [
      "#include(\"fitTraffic.jl\")\n",
      "\n",
      "## Solve an inverse tarffic problem over polynomials of degree at most d\n",
      "## optionally use a regularizer from the poly kernel\n",
      "\n",
      "using JuMP\n",
      "using Gurobi\n",
      "using Graphs\n",
      "using Roots\n",
      "\n",
      "\n",
      "polyEval(coeffs, pt) = sum([coeffs[i] * pt^(i-1) for i = 1:length(coeffs)])  \n",
      "polyEval(coeffs::Array{Float64, 1}, pt) = sum([coeffs[i] * pt^(i-1) for i = 1:length(coeffs)]) #separate for consts\n",
      "\n",
      "bpacost(flow::Float64, capacity::Float64, freeflowtime::Float64) = freeflowtime*(1 + .15 * (flow/capacity)^4)\n",
      "bpacost(flow::Float64, arc) = bpacost(flow, arc.capacity, arc.freeflowtime)\n",
      "bpacost(arc::Arc) = bpacost(arc.obsflow, arc)"
     ],
     "language": "python",
     "metadata": {},
     "outputs": [
      {
       "metadata": {},
       "output_type": "pyout",
       "prompt_number": 3,
       "text": [
        "bpacost (generic function with 3 methods)"
       ]
      }
     ],
     "prompt_number": 3
    },
    {
     "cell_type": "code",
     "collapsed": false,
     "input": [
      "function setUpFitting(deg::Int, c, odpairs, nodes)\n",
      "\n",
      "\tm = Model(solver=GurobiSolver(OutputFlag=false))\n",
      "    \n",
      "\t@defVar(m, coeffs[1:deg+1])\n",
      "\t@defVar(m, Calphas[1:deg+1])\n",
      "\n",
      "\t#build the graham matrix\n",
      "\tsamples = linspace(0, 1, deg + 1)\n",
      "\tk(x,y) = (c + x*y)^deg\n",
      "\tK = [ k(x,y) for x = samples, y=samples]\n",
      "\tK = convert(Array{Float64, 2}, K)\n",
      "\tassert(rank(K) == deg+1)\n",
      "    \n",
      "\tC = chol(K + 1e-6* eye(deg+1))\n",
      "\tfor i=1:deg + 1\n",
      "\t\t@addConstraint(m, polyEval(coeffs, samples[i]) == sum{C[j, i] * Calphas[j], j=1:deg+1})\n",
      "\tend\n",
      "    \n",
      "\t@defVar(m, reg_term >= 0)\n",
      "\treg_term_ = QuadExpr(Calphas[:], Calphas[:], ones(deg+1), AffExpr())\n",
      "    \n",
      "\t@addConstraint(m, reg_term >= reg_term_)\n",
      "\n",
      "\treturn m, coeffs, reg_term\n",
      "end"
     ],
     "language": "python",
     "metadata": {},
     "outputs": [
      {
       "metadata": {},
       "output_type": "pyout",
       "prompt_number": 4,
       "text": [
        "setUpFitting (generic function with 1 method)"
       ]
      }
     ],
     "prompt_number": 4
    },
    {
     "cell_type": "code",
     "collapsed": false,
     "input": [
      "function fixCoeffs(m, fcoeffs, coeffs)\n",
      "\tfor (fc, c) in zip(fcoeffs, coeffs[:])\n",
      "\t\t@addConstraint(m, fc == c)\n",
      "\tend\n",
      "end"
     ],
     "language": "python",
     "metadata": {},
     "outputs": [
      {
       "metadata": {},
       "output_type": "pyout",
       "prompt_number": 5,
       "text": [
        "fixCoeffs (generic function with 1 method)"
       ]
      }
     ],
     "prompt_number": 5
    },
    {
     "cell_type": "code",
     "collapsed": false,
     "input": [
      "function addResid(m, coeffs, ys, demands, arcs, scaling)\n",
      "\t@defVar(m, resid)\n",
      "\t@defVar(m, dual_cost)\n",
      "\t@defVar(m, primal_cost)\n",
      "\n",
      "\t@addConstraint(m, dual_cost == sum{demands[(s,t)] * (ys[(s,t), t] - ys[(s,t), s]), (s,t)=keys(demands)})  \n",
      "\t@addConstraint(m, primal_cost == sum{a.obsflow * a.freeflowtime * polyEval(coeffs, a.obsflow/a.capacity), a=values(arcs)})\n",
      "\n",
      "\t@addConstraint(m, resid >= (dual_cost - primal_cost) / scaling )\n",
      "\t@addConstraint(m, resid >= (primal_cost - dual_cost) / scaling )\n",
      "\treturn resid\n",
      "\n",
      "end"
     ],
     "language": "python",
     "metadata": {},
     "outputs": [
      {
       "metadata": {},
       "output_type": "pyout",
       "prompt_number": 6,
       "text": [
        "addResid (generic function with 1 method)"
       ]
      }
     ],
     "prompt_number": 6
    },
    {
     "cell_type": "code",
     "collapsed": false,
     "input": [
      "function addIncreasingCnsts(m, coeffs, arcs; TOL=0.)\n",
      "\tsorted_flows = sort([a.obsflow / a.capacity for a in values(arcs)])\n",
      "\t@addConstraint(m, polyEval(coeffs, 0) <= polyEval(coeffs, sorted_flows[1]))\n",
      "\tfor i = 2:length(sorted_flows)\n",
      "\t\t@addConstraint(m, polyEval(coeffs, sorted_flows[i-1]) <= polyEval(coeffs, sorted_flows[i]) + TOL)\n",
      "\tend\n",
      "end"
     ],
     "language": "python",
     "metadata": {},
     "outputs": [
      {
       "metadata": {},
       "output_type": "pyout",
       "prompt_number": 7,
       "text": [
        "addIncreasingCnsts (generic function with 1 method)"
       ]
      }
     ],
     "prompt_number": 7
    },
    {
     "cell_type": "code",
     "collapsed": false,
     "input": [
      "#equates the total cost of the network to the true total cost\n",
      "function normalize(m, coeffs, tot_true_cost::Float64, arcs)\n",
      "\t@addConstraint(m, \n",
      "\t\tsum{a.freeflowtime * a.obsflow * polyEval(coeffs, a.obsflow / a.capacity), \n",
      "\t\t\ta=values(arcs)} == tot_true_cost)\n",
      "end\n",
      "\n",
      "function normalize(m, coeffs, scaled_flow::Float64, cost::Float64)\n",
      "\t@addConstraint(m, polyEval(coeffs, scaled_flow) == cost)\n",
      "end\n",
      "\n",
      "function normalize(m, coeffs, scaled_flows::Array{Float64, 1}, avgCost::Float64)\n",
      "    @addConstraint(m, sum{polyEval(coeffs, f), f=scaled_flows} == avgCost * length(scaled_flows))\n",
      "end"
     ],
     "language": "python",
     "metadata": {},
     "outputs": [
      {
       "metadata": {},
       "output_type": "pyout",
       "prompt_number": 8,
       "text": [
        "normalize (generic function with 3 methods)"
       ]
      }
     ],
     "prompt_number": 8
    },
    {
     "cell_type": "code",
     "collapsed": false,
     "input": [
      "function addNetworkCnsts(m, coeffs, demands, arcs, numNodes)\n",
      "\t@defVar(m, ys[keys(demands), 1:numNodes])\n",
      "\tfor k = keys(arcs)\n",
      "\t\ta = arcs[k]\n",
      "\t\trhs = a.freeflowtime * polyEval(coeffs, a.obsflow/a.capacity)\n",
      "\t\tfor od in keys(demands)\n",
      "\t\t\t@addConstraint(m, ys[od, k[2]] - ys[od, k[1]] <= rhs)\n",
      "\t\tend\n",
      "\tend\n",
      "\treturn ys\n",
      "end"
     ],
     "language": "python",
     "metadata": {},
     "outputs": [
      {
       "metadata": {},
       "output_type": "pyout",
       "prompt_number": 9,
       "text": [
        "addNetworkCnsts (generic function with 1 method)"
       ]
      }
     ],
     "prompt_number": 9
    },
    {
     "cell_type": "code",
     "collapsed": false,
     "input": [
      "function frank_wolfe(g, vArcs, demand_data, idx)\n",
      "\n",
      "    #use the observed flows as the starting point\n",
      "    flows =[a.obsflow::Float64 for a in vArcs]\n",
      "    \n",
      "    return flows\n",
      "end"
     ],
     "language": "python",
     "metadata": {},
     "outputs": [
      {
       "metadata": {},
       "output_type": "pyout",
       "prompt_number": 10,
       "text": [
        "frank_wolfe (generic function with 1 method)"
       ]
      }
     ],
     "prompt_number": 10
    },
    {
     "cell_type": "code",
     "collapsed": false,
     "input": [
      "#Read in the demand file\n",
      "\n",
      "file = open(\"./data_original/SiouxFalls_trips.txt\")\n",
      "demands = Dict{(Int64,Int64), Float64}()\n",
      "s = 0\n",
      "for line in eachline(file)\n",
      "    if contains(line, \"Origin\")\n",
      "        s = int(split(line)[2])\n",
      "    else\n",
      "        pairs = split(line, \";\")\n",
      "        for pair in pairs\n",
      "            if !contains(pair, \"\\n\")\n",
      "                pair_vals = split(pair, \":\")\n",
      "                t, demand = int(pair_vals[1]), float(pair_vals[2])\n",
      "                demands[(s,t)] = demand\n",
      "            end\n",
      "        end\n",
      "    end\n",
      "end                \n",
      "close(file)"
     ],
     "language": "python",
     "metadata": {},
     "outputs": [],
     "prompt_number": 11
    },
    {
     "cell_type": "code",
     "collapsed": false,
     "input": [
      "#read in the arc files\n",
      "\n",
      "arcs = Dict{(Int, Int), Arc}()\n",
      "file = open(\"./data_original/SiouxFalls_net.txt\")\n",
      "inHeader=true\n",
      "for line in eachline(file)\n",
      "    if inHeader\n",
      "        inHeader = !contains(line, \"Init node\")\n",
      "        continue\n",
      "    end\n",
      "    vals = split(line, )\n",
      "    arcs[(int(vals[1]), int(vals[2]))] = Arc(int(vals[1]), int(vals[2]), \n",
      "                                              float(vals[3]), float(vals[5]))\n",
      "end\n",
      "close(file)"
     ],
     "language": "python",
     "metadata": {},
     "outputs": [],
     "prompt_number": 12
    },
    {
     "cell_type": "code",
     "collapsed": false,
     "input": [
      "#read in the initial flows\n",
      "\n",
      "file = open(\"./data_original/SiouxFallsFlow.txt\")\n",
      "ix = 0; \n",
      "for line in eachline(file)\n",
      "    ix +=1\n",
      "    if ix ==1\n",
      "        continue\n",
      "    end\n",
      "    vals = split(line)\n",
      "    arcs[(int(vals[1]), int(vals[2]))].trueflow = float(vals[3])\n",
      "end\n",
      "close(file)"
     ],
     "language": "python",
     "metadata": {},
     "outputs": [],
     "prompt_number": 13
    },
    {
     "cell_type": "code",
     "collapsed": false,
     "input": [
      "##########\n",
      "#Generate the simulated data\n",
      "##########\n",
      "numData = 1; sigma = .0\n",
      "flow_data = Array(Float64, length(arcs), numData)\n",
      "demand_data = Dict{(Int, Int), Array{Float64, 1}}()\n",
      "\n",
      "numNodes = maximum(map(pair->pair[1], keys(demands)))\n",
      "g = simple_inclist(numNodes, is_directed=true)\n",
      "vArcs = Arc[]\n",
      "for arc in values(arcs)\n",
      "    arc.obsflow = arc.trueflow\n",
      "    add_edge!(g, arc.initNode, arc.termNode) \n",
      "    push!(vArcs, arc)\n",
      "end\n",
      "\n",
      "#srand(8675309)\n",
      "for iRun = 1:numData\n",
      "    #perturb the demand_data\n",
      "    for odpair in keys(demands)\n",
      "        if ! haskey(demand_data, odpair)\n",
      "            demand_data[odpair] = [demands[odpair] * (1 + sigma * rand()), ]\n",
      "        else\n",
      "            push!(demand_data[odpair], demands[odpair] * (1  + sigma * rand()))\n",
      "        end\n",
      "    end\n",
      "    #solve using FW and record\n",
      "    flow_data[:, iRun] = frank_wolfe(g, vArcs, demand_data, iRun)\n",
      "end"
     ],
     "language": "python",
     "metadata": {},
     "outputs": [],
     "prompt_number": 14
    },
    {
     "cell_type": "code",
     "collapsed": false,
     "input": [
      "print(g)"
     ],
     "language": "python",
     "metadata": {},
     "outputs": [
      {
       "output_type": "stream",
       "stream": "stdout",
       "text": [
        "Directed Graph (24 vertices, 76 edges)"
       ]
      }
     ],
     "prompt_number": 15
    },
    {
     "cell_type": "code",
     "collapsed": false,
     "input": [
      "using DataFrames, Resampling\n",
      "\n",
      "\n",
      "##########\n",
      "#Fitting Funcs\n",
      "##########\n",
      "\n",
      "function train(indices, lam::Float64, deg::Int, c::Float64, demand_data, flow_data, arcs; fcoeffs=nothing)\n",
      "    numNodes = maximum(map(pair->pair[1], keys(arcs)))\n",
      "    m, coeffs, reg_term = setUpFitting(deg, c, [k for k=keys(demand_data)], 1:numNodes)\n",
      "    \n",
      "    for a in values(arcs)\n",
      "        a.obsflow = a.trueflow\n",
      "    end\n",
      "    addIncreasingCnsts(m, coeffs, arcs, TOL=1e-8)  #uses the original obs flows\n",
      "\n",
      "    avgCost = mean( [bpacost(a.obsflow, a.capacity, 1.0) for a in values(arcs)] )\n",
      "    normalize(m, coeffs, [a.obsflow / a.capacity for a in values(arcs)], avgCost)\n",
      "\n",
      "\n",
      "    resids = Variable[]\n",
      "    \n",
      "    for i = indices\n",
      "        #copy the flow data over to the arcs, demand data to demands (slow)\n",
      "        for (ix, a) in enumerate(vArcs)\n",
      "            a.obsflow = flow_data[ix, i]\n",
      "        end\n",
      "        for odpair in keys(demands)\n",
      "            demands[odpair] = demand_data[odpair][i]\n",
      "        end\n",
      "    \n",
      "        #Dual Feasibility\n",
      "        ys = addNetworkCnsts(m, coeffs, demands, arcs, numNodes)\n",
      "        \n",
      "        #add the residual for this data point\n",
      "        push!(resids, addResid(m, coeffs, ys, demands, arcs, 1e6))\n",
      "    end\n",
      "\n",
      "    if fcoeffs != nothing\n",
      "        fixCoeffs(m, fcoeffs, coeffs)\n",
      "    end\n",
      "    @setObjective(m, Min, sum{resids[i], i = 1:length(resids)} + lam*reg_term)\n",
      "    solve(m)\n",
      "    println(getObjectiveValue(m) - lam * getValue(reg_term) )\n",
      "    return [getValue(coeffs[i]) for i =1:length(coeffs)]\n",
      "end"
     ],
     "language": "python",
     "metadata": {},
     "outputs": [
      {
       "metadata": {},
       "output_type": "pyout",
       "prompt_number": 16,
       "text": [
        "train (generic function with 1 method)"
       ]
      }
     ],
     "prompt_number": 16
    },
    {
     "cell_type": "code",
     "collapsed": false,
     "input": [
      "#include(\"trafficCval.jl\")\n",
      "\n",
      "arcs3 = arcs\n",
      "arcs4 = arcs\n",
      "arcs5 = arcs\n",
      "arcs6 = arcs\n",
      "coeffs_dict = Dict{(Int64,Float64,Float64),Array{Float64,1}}()\n",
      "\n",
      "# deg = 3\n",
      "deg = 3\n",
      "c = 3.41\n",
      "lam = 1.\n",
      "\n",
      "fcoeffs3 = train(1:numData, lam, deg, c, demand_data, flow_data, arcs3)\n",
      "coeffs_dict[(deg, c, lam)] = fcoeffs3\n",
      "\n",
      "# deg = 4\n",
      "deg = 4\n",
      "c = 3.41\n",
      "lam = 1.\n",
      "\n",
      "fcoeffs4 = train(1:numData, lam, deg, c, demand_data, flow_data, arcs4)\n",
      "coeffs_dict[(deg, c, lam)] = fcoeffs4\n",
      "\n",
      "# deg = 5\n",
      "deg = 5\n",
      "c = 2.6\n",
      "lam = .1\n",
      "\n",
      "fcoeffs5 = train(1:numData, lam, deg, c, demand_data, flow_data, arcs5)\n",
      "coeffs_dict[(deg, c, lam)] = fcoeffs5\n",
      "\n",
      "# deg = 6\n",
      "deg = 6\n",
      "c = 2.6\n",
      "lam = 1e-3\n",
      "\n",
      "fcoeffs6 = train(1:numData, lam, deg, c, demand_data, flow_data, arcs6)\n",
      "coeffs_dict[(deg, c, lam)] = fcoeffs6"
     ],
     "language": "python",
     "metadata": {},
     "outputs": [
      {
       "output_type": "stream",
       "stream": "stdout",
       "text": [
        "0.0"
       ]
      },
      {
       "output_type": "stream",
       "stream": "stdout",
       "text": [
        "9908086561516041\n",
        "0."
       ]
      },
      {
       "output_type": "stream",
       "stream": "stdout",
       "text": [
        "0010840484678833265\n",
        "1"
       ]
      },
      {
       "output_type": "stream",
       "stream": "stdout",
       "text": [
        ".0094106814935791e-5\n",
        "-"
       ]
      },
      {
       "output_type": "stream",
       "stream": "stdout",
       "text": [
        "3.2480217356487856e-6\n"
       ]
      },
      {
       "metadata": {},
       "output_type": "pyout",
       "prompt_number": 17,
       "text": [
        "7-element Array{Float64,1}:\n",
        "  0.99912   \n",
        "  0.00710195\n",
        " -0.0175348 \n",
        "  0.0196006 \n",
        "  0.13888   \n",
        "  0.00314069\n",
        " -0.00035261"
       ]
      }
     ],
     "prompt_number": 17
    },
    {
     "cell_type": "code",
     "collapsed": false,
     "input": [
      "using PyPlot\n",
      "\n",
      "true_coeffs = [1, 0, 0, 0, .15]\n",
      "fcoeffs3 = coeffs_dict[(3, 3.41, 1.)]\n",
      "fcoeffs4 = coeffs_dict[(4, 3.41, 1.)]\n",
      "fcoeffs5 = coeffs_dict[(5, 2.6, .1)]\n",
      "fcoeffs6 = coeffs_dict[(6, 2.6, 1e-3)]\n",
      "\n",
      "xs = linspace(0, 2, 20)\n",
      "ys_true = map(x->polyEval(true_coeffs, x), xs)\n",
      "ys3 = map(x->polyEval(fcoeffs3, x), xs)\n",
      "ys4 = map(x->polyEval(fcoeffs4, x), xs)\n",
      "ys5 = map(x->polyEval(fcoeffs5, x), xs)\n",
      "ys6 = map(x->polyEval(fcoeffs6, x), xs)\n",
      "\n",
      "# ys = map(x->polyEval(fcoeffs, x), xs)\n",
      "\n",
      "plot(xs, ys_true, \"k\", label=\"True\")\n",
      "plot(xs, ys3, \"--r\", label=\"deg=3\")\n",
      "plot(xs, ys4, \"--g\", label=\"deg=4\")\n",
      "plot(xs, ys5, \"--b\", label=\"deg=5\")\n",
      "plot(xs, ys6, \"--m\", label=\"deg=6\")\n",
      "legend(loc=\"upper left\",fancybox=\"true\") \n",
      "# plot(xs, ys, \"--b\")\n",
      "grid(\"on\")\n",
      "xlim(-0.1, 2.1);\n",
      "ylim(0.5, 3.5);\n",
      "\n",
      "font1 = [\"family\"=>\"serif\",\n",
      "    \"color\"=>\"darkred\",\n",
      "    \"weight\"=>\"normal\",\n",
      "    \"size\"=>14]\n",
      "xlabel(\"Scaled Flow\", fontdict=font1)\n",
      "\n",
      "savefig(\"fitting.pdf\")"
     ],
     "language": "python",
     "metadata": {},
     "outputs": [
      {
       "output_type": "stream",
       "stream": "stderr",
       "text": [
        "INFO: Loading help data...\n"
       ]
      },
      {
       "metadata": {},
       "output_type": "display_data",
       "png": "[encoded data removed]",
       "text": [
        "Figure(PyObject <matplotlib.figure.Figure object at 0x7f3de75abf10>)"
       ]
      }
     ],
     "prompt_number": 18
    },
    {
     "cell_type": "code",
     "collapsed": false,
     "input": [],
     "language": "python",
     "metadata": {},
     "outputs": []
    }
   ],
   "metadata": {}
  }
 ]
}