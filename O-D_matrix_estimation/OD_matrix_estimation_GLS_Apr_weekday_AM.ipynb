{
 "cells": [
  {
   "cell_type": "code",
   "execution_count": 1,
   "metadata": {
    "collapsed": true
   },
   "outputs": [],
   "source": [
    "%run ../Python_files/util_data_storage_and_load.py"
   ]
  },
  {
   "cell_type": "code",
   "execution_count": 2,
   "metadata": {
    "collapsed": true
   },
   "outputs": [],
   "source": [
    "%run ../Python_files/load_dicts.py"
   ]
  },
  {
   "cell_type": "code",
   "execution_count": 3,
   "metadata": {
    "collapsed": false
   },
   "outputs": [],
   "source": [
    "%run ../Python_files/util.py"
   ]
  },
  {
   "cell_type": "code",
   "execution_count": 4,
   "metadata": {
    "collapsed": true
   },
   "outputs": [],
   "source": [
    "# load logit_route_choice_probability_matrix\n",
    "P = zload('../temp_files/logit_route_choice_probability_matrix.pkz')"
   ]
  },
  {
   "cell_type": "code",
   "execution_count": 5,
   "metadata": {
    "collapsed": false
   },
   "outputs": [],
   "source": [
    "import numpy as np\n",
    "from numpy.linalg import inv\n",
    "\n",
    "P = np.matrix(P)"
   ]
  },
  {
   "cell_type": "code",
   "execution_count": 6,
   "metadata": {
    "collapsed": false
   },
   "outputs": [
    {
     "data": {
      "text/plain": [
       "(56, 140)"
      ]
     },
     "execution_count": 6,
     "metadata": {},
     "output_type": "execute_result"
    }
   ],
   "source": [
    "np.size(P, 0), np.size(P, 1)"
   ]
  },
  {
   "cell_type": "code",
   "execution_count": 7,
   "metadata": {
    "collapsed": true
   },
   "outputs": [],
   "source": [
    "import numpy as np\n",
    "from numpy.linalg import inv\n",
    "\n",
    "def samp_cov(x):\n",
    "    \"\"\"\n",
    "    x: sample matrix, each column is a link flow vector sample; 24 * K\n",
    "    K: number of samples\n",
    "    S: sample covariance matrix\n",
    "    ----------------\n",
    "    return: inv(S)\n",
    "    ----------------\n",
    "    \"\"\"\n",
    "    x = np.matrix(x)\n",
    "    K = np.size(x, 1)\n",
    "    x_mean = sum(x[:,k] for k in range(K)) / K\n",
    "    S = sum(np.dot(x[:,k] - x_mean, np.transpose(x[:,k] - x_mean)) for k in range(K)) / (K - 1)\n",
    "    return S"
   ]
  },
  {
   "cell_type": "code",
   "execution_count": 8,
   "metadata": {
    "collapsed": false
   },
   "outputs": [],
   "source": [
    "# load path-link incidence matrix\n",
    "A = zload('../temp_files/path-link_incidence_matrix.pkz')"
   ]
  },
  {
   "cell_type": "code",
   "execution_count": 9,
   "metadata": {
    "collapsed": false
   },
   "outputs": [],
   "source": [
    "# load link counts data\n",
    "\n",
    "import json\n",
    "\n",
    "with open('../temp_files/link_day_minute_Apr_dict_JSON.json', 'r') as json_file:\n",
    "    link_day_minute_Apr_dict_JSON = json.load(json_file)"
   ]
  },
  {
   "cell_type": "code",
   "execution_count": 10,
   "metadata": {
    "collapsed": true
   },
   "outputs": [],
   "source": [
    "week_day_Apr_list = [2, 3, 4, 5, 6, 9, 10, 11, 12, 13, 16, 17, 18, 19, 20, 23, 24, 25, 26, 27, 30]"
   ]
  },
  {
   "cell_type": "code",
   "execution_count": 11,
   "metadata": {
    "collapsed": false
   },
   "outputs": [],
   "source": [
    "link_day_minute_Apr_list = []\n",
    "for link_idx in range(24):\n",
    "    for day in week_day_Apr_list: \n",
    "        for minute_idx in range(120):\n",
    "            key = 'link_' + str(link_idx) + '_' + str(day)\n",
    "            link_day_minute_Apr_list.append(link_day_minute_Apr_dict_JSON[key] ['AM_flow_minute'][minute_idx])"
   ]
  },
  {
   "cell_type": "code",
   "execution_count": 12,
   "metadata": {
    "collapsed": false
   },
   "outputs": [
    {
     "data": {
      "text/plain": [
       "60480"
      ]
     },
     "execution_count": 12,
     "metadata": {},
     "output_type": "execute_result"
    }
   ],
   "source": [
    "len(link_day_minute_Apr_list)"
   ]
  },
  {
   "cell_type": "code",
   "execution_count": 13,
   "metadata": {
    "collapsed": false
   },
   "outputs": [],
   "source": [
    "x = np.matrix(link_day_minute_Apr_list)\n",
    "x = np.matrix.reshape(x, 24, 2520)\n",
    "\n",
    "x = np.nan_to_num(x)\n",
    "y = np.array(np.transpose(x))\n",
    "y = y[np.all(y != 0, axis=1)]\n",
    "x = np.transpose(y)\n",
    "x = np.matrix(x)"
   ]
  },
  {
   "cell_type": "code",
   "execution_count": 14,
   "metadata": {
    "collapsed": false
   },
   "outputs": [
    {
     "data": {
      "text/plain": [
       "(24, 2400)"
      ]
     },
     "execution_count": 14,
     "metadata": {},
     "output_type": "execute_result"
    }
   ],
   "source": [
    "np.size(x, 0), np.size(x, 1)"
   ]
  },
  {
   "cell_type": "code",
   "execution_count": 15,
   "metadata": {
    "collapsed": false
   },
   "outputs": [
    {
     "data": {
      "text/plain": [
       "matrix([[ 1249.41244558,  1255.45433719],\n",
       "        [ 1229.34069321,  1226.72965574],\n",
       "        [ 1530.37968128,  1511.08237574],\n",
       "        [ 1472.98509888,  1511.13898489],\n",
       "        [ 1558.81095259,  1562.6866878 ],\n",
       "        [ 1623.29312469,  1625.54842903],\n",
       "        [ 1327.02213278,  1298.41741842],\n",
       "        [ 1303.27834728,  1274.44082988],\n",
       "        [ 1734.56321675,  1718.82562358],\n",
       "        [ 1615.73983028,  1686.31395525],\n",
       "        [ 1474.12155147,  1543.70184845],\n",
       "        [  875.19055874,   890.7326401 ],\n",
       "        [ 1276.09814154,  1376.00757579],\n",
       "        [ 1351.54381935,  1315.01067064],\n",
       "        [ 1228.45631572,  1308.25627423],\n",
       "        [  950.33044993,   950.52232864],\n",
       "        [ 1286.4776891 ,  1285.77044483],\n",
       "        [ 1288.15644082,  1258.62135467],\n",
       "        [ 1708.03291644,  1677.43948194],\n",
       "        [ 1585.86710296,  1561.76945484],\n",
       "        [ 1292.81218273,  1310.93292643],\n",
       "        [ 1495.16837467,  1509.98690213],\n",
       "        [ 1289.79221808,  1290.04729188],\n",
       "        [ 1183.20513023,  1252.3424799 ]])"
      ]
     },
     "execution_count": 15,
     "metadata": {},
     "output_type": "execute_result"
    }
   ],
   "source": [
    "x[:,:2]"
   ]
  },
  {
   "cell_type": "code",
   "execution_count": 16,
   "metadata": {
    "collapsed": false
   },
   "outputs": [
    {
     "data": {
      "text/plain": [
       "(24, 140)"
      ]
     },
     "execution_count": 16,
     "metadata": {},
     "output_type": "execute_result"
    }
   ],
   "source": [
    "np.size(A,0), np.size(A,1)"
   ]
  },
  {
   "cell_type": "code",
   "execution_count": 17,
   "metadata": {
    "collapsed": false
   },
   "outputs": [
    {
     "name": "stdout",
     "output_type": "stream",
     "text": [
      "Optimize a model with 56 rows, 56 columns and 56 nonzeros\n",
      "Model has 1596 quadratic objective terms\n",
      "Coefficient statistics:\n",
      "  Matrix range    [1e+00, 1e+00]\n",
      "  Objective range [2e+01, 3e+03]\n",
      "  Bounds range    [0e+00, 0e+00]\n",
      "  RHS range       [0e+00, 0e+00]\n",
      "Warning: diagonal adjustment of 5.0e-11 performed to make Q PSD\n",
      "Presolve removed 56 rows and 0 columns\n",
      "Presolve time: 0.00s\n",
      "Presolved: 0 rows, 56 columns, 0 nonzeros\n",
      "Presolved model has 1596 quadratic objective terms\n",
      "Ordering time: 0.00s\n",
      "\n",
      "Barrier statistics:\n",
      " Free vars  : 27\n",
      " AA' NZ     : 3.510e+02\n",
      " Factor NZ  : 3.780e+02\n",
      " Factor Ops : 6.930e+03 (less than 1 second per iteration)\n",
      " Threads    : 1\n",
      "\n",
      "                  Objective                Residual\n",
      "Iter       Primal          Dual         Primal    Dual     Compl     Time\n",
      "   0  -4.87950850e+07  0.00000000e+00  6.61e+03 1.39e+03  1.00e+06     0s\n",
      "   1  -1.32710907e+07 -8.28740542e+06  9.80e+02 2.06e+02  2.13e+05     0s\n",
      "   2  -6.72566979e+06 -7.78770784e+06  3.53e+01 7.41e+00  2.79e+04     0s\n",
      "   3  -6.71266719e+06 -6.83537399e+06  1.51e-01 3.17e-02  2.23e+03     0s\n",
      "   4  -6.73890603e+06 -6.75490745e+06  1.51e-07 3.17e-08  2.86e+02     0s\n",
      "   5  -6.74226981e+06 -6.74265294e+06  7.19e-10 1.50e-10  6.84e+00     0s\n",
      "   6  -6.74242115e+06 -6.74242271e+06  2.76e-10 4.55e-13  2.80e-02     0s\n",
      "   7  -6.74242220e+06 -6.74242237e+06  9.62e-11 9.09e-13  3.17e-03     0s\n",
      "   8  -6.74242224e+06 -6.74242224e+06  3.77e-12 1.36e-12  1.91e-05     0s\n",
      "   9  -6.74242224e+06 -6.74242224e+06  1.27e-11 1.14e-12  2.84e-06     0s\n",
      "  10  -6.74242224e+06 -6.74242224e+06  1.91e-11 3.07e-12  3.48e-07     0s\n",
      "  11  -6.74242224e+06 -6.74242224e+06  2.73e-12 1.37e-10  5.08e-08     0s\n",
      "  12  -6.74242224e+06 -6.74242224e+06  1.36e-12 1.63e-10  1.41e-09     0s\n",
      "\n",
      "Barrier solved model in 12 iterations and 0.02 seconds\n",
      "Optimal objective -6.74242224e+06\n",
      "\n",
      "lam_0 1.58088e-12\n",
      "lam_1 1688.18\n",
      "lam_2 1.7554e-12\n",
      "lam_3 522.568\n",
      "lam_4 482.646\n",
      "lam_5 12.0036\n",
      "lam_6 5.29725e-10\n",
      "lam_7 912.103\n",
      "lam_8 7.70491e-12\n",
      "lam_9 1378.19\n",
      "lam_10 7.70491e-12\n",
      "lam_11 7.70491e-12\n",
      "lam_12 7.70491e-12\n",
      "lam_13 7.74909e-12\n",
      "lam_14 649.86\n",
      "lam_15 0.008159\n",
      "lam_16 159.26\n",
      "lam_17 666.638\n",
      "lam_18 588.587\n",
      "lam_19 7.4229\n",
      "lam_20 196.909\n",
      "lam_21 1.84376e-05\n",
      "lam_22 1300.92\n",
      "lam_23 9.50182e-07\n",
      "lam_24 1.33846\n",
      "lam_25 741.484\n",
      "lam_26 0.0741155\n",
      "lam_27 1102.06\n",
      "lam_28 9.50013e-07\n",
      "lam_29 9.49995e-07\n",
      "lam_30 9.50087e-07\n",
      "lam_31 0.0434788\n",
      "lam_32 301.869\n",
      "lam_33 0.756481\n",
      "lam_34 1036.76\n",
      "lam_35 219.478\n",
      "lam_36 0.00541365\n",
      "lam_37 0.0134625\n",
      "lam_38 933.14\n",
      "lam_39 0.216527\n",
      "lam_40 816.451\n",
      "lam_41 15.1131\n",
      "lam_42 0.286276\n",
      "lam_43 0.00895485\n",
      "lam_44 372.652\n",
      "lam_45 94.0405\n",
      "lam_46 578.108\n",
      "lam_47 611.951\n",
      "lam_48 4.66323\n",
      "lam_49 139.17\n",
      "lam_50 1043.18\n",
      "lam_51 0.026391\n",
      "lam_52 1170.95\n",
      "lam_53 0.0254532\n",
      "lam_54 0.025826\n",
      "lam_55 0.0280935\n",
      "Obj: -6.74242e+06\n"
     ]
    }
   ],
   "source": [
    "from gurobipy import *\n",
    "\n",
    "L = 56  # dimension of lam\n",
    "\n",
    "K = np.size(x, 1)\n",
    "S = samp_cov(x)\n",
    "inv_S = inv(S)\n",
    "\n",
    "A_t = np.transpose(A)\n",
    "P_t = np.transpose(P)\n",
    "# PA'\n",
    "PA_t = np.dot(P, A_t)\n",
    "# AP_t\n",
    "AP_t = np.transpose(PA_t)\n",
    "\n",
    "Q = np.dot(np.dot(PA_t, inv_S), AP_t)\n",
    "b = sum([np.dot(np.dot(PA_t, inv_S), x[:, k]) for k in range(K)])\n",
    "\n",
    "\n",
    "model = Model(\"OD_matrix_estimation\")\n",
    "\n",
    "lam = []\n",
    "for l in range(L):\n",
    "    lam.append(model.addVar(name='lam_' + str(l)))\n",
    "\n",
    "model.update() \n",
    "\n",
    "# Set objective: (K/2) lam' * Q * lam - b' * lam\n",
    "obj = 0\n",
    "for i in range(L):\n",
    "    for j in range(L):\n",
    "        obj += (1.0 /2) * K * lam[i] * Q[i, j] * lam[j]\n",
    "for l in range(L):\n",
    "    obj += - b[l] * lam[l]\n",
    "model.setObjective(obj)\n",
    "\n",
    "# Add constraint: lam >= 0\n",
    "for l in range(L):\n",
    "    model.addConstr(lam[l] >= 0)\n",
    "\n",
    "model.update() \n",
    "\n",
    "model.optimize()\n",
    "\n",
    "lam_list = []\n",
    "for v in model.getVars():\n",
    "    print('%s %g' % (v.varName, v.x))\n",
    "    lam_list.append(v.x)\n",
    "print('Obj: %g' % obj.getValue())"
   ]
  },
  {
   "cell_type": "code",
   "execution_count": 18,
   "metadata": {
    "collapsed": false
   },
   "outputs": [],
   "source": [
    "# write estimation result to file\n",
    "n = 8  # number of nodes\n",
    "with open('../temp_files/OD_demand_matrix_Apr_weekday_AM.txt', 'w') as the_file:\n",
    "    idx = 0\n",
    "    for i in range(n + 1)[1:]:\n",
    "        for j in range(n + 1)[1:]:\n",
    "            if i != j: \n",
    "                the_file.write(\"%d,%d,%f\\n\" %(i, j, lam_list[idx]))\n",
    "                idx += 1"
   ]
  },
  {
   "cell_type": "code",
   "execution_count": 19,
   "metadata": {
    "collapsed": false
   },
   "outputs": [
    {
     "data": {
      "text/plain": [
       "[1.5808825630979428e-12,\n",
       " 1688.1845106479782,\n",
       " 1.7553998940341274e-12,\n",
       " 522.5683688483213,\n",
       " 482.64578751562146,\n",
       " 12.00358099046693,\n",
       " 5.297252478478197e-10,\n",
       " 912.1029043327986,\n",
       " 7.704909567558235e-12,\n",
       " 1378.1866028118625,\n",
       " 7.704909567542726e-12,\n",
       " 7.704909567550687e-12,\n",
       " 7.704909567514808e-12,\n",
       " 7.749093015683718e-12,\n",
       " 649.8599538939275,\n",
       " 0.008159001522745513,\n",
       " 159.25955998690435,\n",
       " 666.6380122424335,\n",
       " 588.5871295097495,\n",
       " 7.422897292828736,\n",
       " 196.90888475725473,\n",
       " 1.8437622404361286e-05,\n",
       " 1300.9157551741807,\n",
       " 9.501820916150638e-07,\n",
       " 1.3384584484349027,\n",
       " 741.4843088559168,\n",
       " 0.07411546565038885,\n",
       " 1102.0562166725651,\n",
       " 9.500134051479187e-07,\n",
       " 9.499951789156954e-07,\n",
       " 9.500867396695608e-07,\n",
       " 0.043478822175769594,\n",
       " 301.8689902111281,\n",
       " 0.7564810911491082,\n",
       " 1036.7588687909576,\n",
       " 219.4783326251461,\n",
       " 0.005413651736100145,\n",
       " 0.013462507438695814,\n",
       " 933.1404887586515,\n",
       " 0.21652707698538287,\n",
       " 816.4508533058352,\n",
       " 15.113075090907302,\n",
       " 0.28627629290518897,\n",
       " 0.008954845333959405,\n",
       " 372.6516777231023,\n",
       " 94.0404768213009,\n",
       " 578.107944138954,\n",
       " 611.9512108478026,\n",
       " 4.663232450213812,\n",
       " 139.16994120157673,\n",
       " 1043.1781910240181,\n",
       " 0.02639096146515163,\n",
       " 1170.9531155754482,\n",
       " 0.02545322489586377,\n",
       " 0.025826048273975055,\n",
       " 0.028093512320154]"
      ]
     },
     "execution_count": 19,
     "metadata": {},
     "output_type": "execute_result"
    }
   ],
   "source": [
    "lam_list"
   ]
  },
  {
   "cell_type": "code",
   "execution_count": null,
   "metadata": {
    "collapsed": true
   },
   "outputs": [],
   "source": []
  }
 ],
 "metadata": {
  "kernelspec": {
   "display_name": "Python 2",
   "language": "python",
   "name": "python2"
  },
  "language_info": {
   "codemirror_mode": {
    "name": "ipython",
    "version": 2
   },
   "file_extension": ".py",
   "mimetype": "text/x-python",
   "name": "python",
   "nbconvert_exporter": "python",
   "pygments_lexer": "ipython2",
   "version": "2.7.11"
  }
 },
 "nbformat": 4,
 "nbformat_minor": 0
}
