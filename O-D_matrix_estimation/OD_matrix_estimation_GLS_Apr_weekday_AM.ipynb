{
 "cells": [
  {
   "cell_type": "code",
   "execution_count": 1,
   "metadata": {
    "collapsed": true
   },
   "outputs": [],
   "source": [
    "%run ../Python_files/util_data_storage_and_load.py"
   ]
  },
  {
   "cell_type": "code",
   "execution_count": 2,
   "metadata": {
    "collapsed": true
   },
   "outputs": [],
   "source": [
    "%run ../Python_files/load_dicts.py"
   ]
  },
  {
   "cell_type": "code",
   "execution_count": 3,
   "metadata": {
    "collapsed": false
   },
   "outputs": [],
   "source": [
    "%run ../Python_files/util.py"
   ]
  },
  {
   "cell_type": "code",
   "execution_count": 4,
   "metadata": {
    "collapsed": true
   },
   "outputs": [],
   "source": [
    "# load logit_route_choice_probability_matrix\n",
    "P = zload('../temp_files/logit_route_choice_probability_matrix.pkz')"
   ]
  },
  {
   "cell_type": "code",
   "execution_count": 5,
   "metadata": {
    "collapsed": false
   },
   "outputs": [],
   "source": [
    "import numpy as np\n",
    "from numpy.linalg import inv\n",
    "\n",
    "P = np.matrix(P)"
   ]
  },
  {
   "cell_type": "code",
   "execution_count": 6,
   "metadata": {
    "collapsed": false
   },
   "outputs": [
    {
     "data": {
      "text/plain": [
       "(56, 140)"
      ]
     },
     "execution_count": 6,
     "metadata": {},
     "output_type": "execute_result"
    }
   ],
   "source": [
    "np.size(P, 0), np.size(P, 1)"
   ]
  },
  {
   "cell_type": "code",
   "execution_count": 7,
   "metadata": {
    "collapsed": true
   },
   "outputs": [],
   "source": [
    "import numpy as np\n",
    "from numpy.linalg import inv\n",
    "\n",
    "def samp_cov(x):\n",
    "    \"\"\"\n",
    "    x: sample matrix, each column is a link flow vector sample; 24 * K\n",
    "    K: number of samples\n",
    "    S: sample covariance matrix\n",
    "    ----------------\n",
    "    return: inv(S)\n",
    "    ----------------\n",
    "    \"\"\"\n",
    "    x = np.matrix(x)\n",
    "    K = np.size(x, 1)\n",
    "    x_mean = sum(x[:,k] for k in range(K)) / K\n",
    "    S = sum(np.dot(x[:,k] - x_mean, np.transpose(x[:,k] - x_mean)) for k in range(K)) / (K - 1)\n",
    "    return S"
   ]
  },
  {
   "cell_type": "code",
   "execution_count": 8,
   "metadata": {
    "collapsed": false
   },
   "outputs": [],
   "source": [
    "# load path-link incidence matrix\n",
    "A = zload('../temp_files/path-link_incidence_matrix.pkz')"
   ]
  },
  {
   "cell_type": "code",
   "execution_count": 9,
   "metadata": {
    "collapsed": false
   },
   "outputs": [],
   "source": [
    "# load link counts data\n",
    "\n",
    "import json\n",
    "\n",
    "with open('../temp_files/link_day_minute_Apr_dict_JSON.json', 'r') as json_file:\n",
    "    link_day_minute_Apr_dict_JSON = json.load(json_file)"
   ]
  },
  {
   "cell_type": "code",
   "execution_count": 10,
   "metadata": {
    "collapsed": true
   },
   "outputs": [],
   "source": [
    "week_day_Apr_list = [2, 3, 4, 5, 6, 9, 10, 11, 12, 13, 16, 17, 18, 19, 20, 23, 24, 25, 26, 27, 30]"
   ]
  },
  {
   "cell_type": "code",
   "execution_count": 11,
   "metadata": {
    "collapsed": false
   },
   "outputs": [],
   "source": [
    "link_day_minute_Apr_list = []\n",
    "for link_idx in range(24):\n",
    "    for day in week_day_Apr_list: \n",
    "        for minute_idx in range(120):\n",
    "            key = 'link_' + str(link_idx) + '_' + str(day)\n",
    "            link_day_minute_Apr_list.append(link_day_minute_Apr_dict_JSON[key] ['AM_flow_minute'][minute_idx])"
   ]
  },
  {
   "cell_type": "code",
   "execution_count": 12,
   "metadata": {
    "collapsed": false
   },
   "outputs": [
    {
     "data": {
      "text/plain": [
       "60480"
      ]
     },
     "execution_count": 12,
     "metadata": {},
     "output_type": "execute_result"
    }
   ],
   "source": [
    "len(link_day_minute_Apr_list)"
   ]
  },
  {
   "cell_type": "code",
   "execution_count": 13,
   "metadata": {
    "collapsed": false
   },
   "outputs": [],
   "source": [
    "x = np.matrix(link_day_minute_Apr_list)\n",
    "x = np.matrix.reshape(x, 24, 2520)\n",
    "\n",
    "x = np.nan_to_num(x)\n",
    "y = np.array(np.transpose(x))\n",
    "y = y[np.all(y != 0, axis=1)]\n",
    "x = np.transpose(y)\n",
    "x = np.matrix(x)"
   ]
  },
  {
   "cell_type": "code",
   "execution_count": 14,
   "metadata": {
    "collapsed": false
   },
   "outputs": [
    {
     "data": {
      "text/plain": [
       "(24, 2400)"
      ]
     },
     "execution_count": 14,
     "metadata": {},
     "output_type": "execute_result"
    }
   ],
   "source": [
    "np.size(x, 0), np.size(x, 1)"
   ]
  },
  {
   "cell_type": "code",
   "execution_count": 15,
   "metadata": {
    "collapsed": false
   },
   "outputs": [
    {
     "data": {
      "text/plain": [
       "matrix([[  2512.07934066,   2661.06304182],\n",
       "        [  3369.19698782,   3121.9936462 ],\n",
       "        [  3924.76103391,   3445.18498449],\n",
       "        [  5634.67717605,   4665.40401906],\n",
       "        [  4263.86165094,   4327.47518773],\n",
       "        [  5480.27236726,   5330.31756928],\n",
       "        [  4405.85100893,   3565.33620988],\n",
       "        [  3361.22468207,   2470.16402502],\n",
       "        [  5430.75753853,   8578.34929294],\n",
       "        [ 14473.65164558,  12400.00694082],\n",
       "        [  5888.79539117,   7076.58624941],\n",
       "        [ 10729.44161845,  10732.86354829],\n",
       "        [  8488.22127328,  12505.48508171],\n",
       "        [  3092.40157496,   2329.3003975 ],\n",
       "        [  8943.05790073,   8437.26368043],\n",
       "        [  1135.40582207,    996.78831378],\n",
       "        [  3527.28707193,   3418.49361055],\n",
       "        [  3171.08535536,   2240.91484119],\n",
       "        [ 13547.04557644,  12186.94832528],\n",
       "        [  4265.65421257,   3511.62380378],\n",
       "        [ 12264.01747983,  12295.70442627],\n",
       "        [  5068.39133399,   5084.66882832],\n",
       "        [  3919.81375018,   3906.71184679],\n",
       "        [   650.57256307,   2848.85926992]])"
      ]
     },
     "execution_count": 15,
     "metadata": {},
     "output_type": "execute_result"
    }
   ],
   "source": [
    "x[:,:2]"
   ]
  },
  {
   "cell_type": "code",
   "execution_count": 16,
   "metadata": {
    "collapsed": false
   },
   "outputs": [
    {
     "data": {
      "text/plain": [
       "(24, 140)"
      ]
     },
     "execution_count": 16,
     "metadata": {},
     "output_type": "execute_result"
    }
   ],
   "source": [
    "np.size(A,0), np.size(A,1)"
   ]
  },
  {
   "cell_type": "code",
   "execution_count": 17,
   "metadata": {
    "collapsed": false
   },
   "outputs": [
    {
     "name": "stdout",
     "output_type": "stream",
     "text": [
      "Optimize a model with 56 rows, 56 columns and 56 nonzeros\n",
      "Model has 1596 quadratic objective terms\n",
      "Coefficient statistics:\n",
      "  Matrix range    [1e+00, 1e+00]\n",
      "  Objective range [4e-02, 1e+01]\n",
      "  Bounds range    [0e+00, 0e+00]\n",
      "  RHS range       [0e+00, 0e+00]\n",
      "Presolve removed 56 rows and 0 columns\n",
      "Presolve time: 0.01s\n",
      "Presolved: 0 rows, 56 columns, 0 nonzeros\n",
      "Presolved model has 1596 quadratic objective terms\n",
      "Ordering time: 0.00s\n",
      "\n",
      "Barrier statistics:\n",
      " Free vars  : 24\n",
      " AA' NZ     : 2.760e+02\n",
      " Factor NZ  : 3.000e+02\n",
      " Factor Ops : 4.900e+03 (less than 1 second per iteration)\n",
      " Threads    : 1\n",
      "\n",
      "                  Objective                Residual\n",
      "Iter       Primal          Dual         Primal    Dual     Compl     Time\n",
      "   0  -1.83256895e+06  0.00000000e+00  4.92e+03 1.98e+02  9.39e+05     0s\n",
      "   1   9.54741926e+05 -1.90694228e+06  7.63e+02 1.46e+02  1.92e+05     0s\n",
      "   2   4.79284784e+05 -1.02551522e+06  7.63e-04 1.14e-13  2.69e+04     0s\n",
      "   3  -6.49051875e+04 -2.75215743e+05  7.64e-10 5.68e-14  3.76e+03     0s\n",
      "   4  -1.25287257e+05 -1.55081570e+05  2.24e-12 8.53e-14  5.32e+02     0s\n",
      "   5  -1.30685359e+05 -1.32871213e+05  8.24e-13 9.95e-14  3.90e+01     0s\n",
      "   6  -1.30822198e+05 -1.30898389e+05  5.60e-12 2.84e-14  1.36e+00     0s\n",
      "   7  -1.30836619e+05 -1.30856598e+05  5.91e-12 5.68e-14  3.57e-01     0s\n",
      "   8  -1.30840666e+05 -1.30841688e+05  6.39e-13 2.84e-14  1.83e-02     0s\n",
      "   9  -1.30841197e+05 -1.30841270e+05  2.36e-12 9.95e-14  1.30e-03     0s\n",
      "  10  -1.30841223e+05 -1.30841227e+05  7.11e-13 5.68e-14  5.88e-05     0s\n",
      "  11  -1.30841224e+05 -1.30841225e+05  1.28e-12 8.53e-14  1.24e-06     0s\n",
      "  12  -1.30841224e+05 -1.30841225e+05  5.68e-13 5.68e-14  1.43e-07     0s\n",
      "  13  -1.30841225e+05 -1.30841225e+05  8.53e-13 1.83e-13  7.87e-10     0s\n",
      "\n",
      "Barrier solved model in 13 iterations and 0.02 seconds\n",
      "Optimal objective -1.30841225e+05\n",
      "\n",
      "lam_0 1.34737e-10\n",
      "lam_1 2807.53\n",
      "lam_2 1.47895e-10\n",
      "lam_3 6.66438e-07\n",
      "lam_4 1340.19\n",
      "lam_5 1.11733e-06\n",
      "lam_6 4.29218e-08\n",
      "lam_7 0.000800222\n",
      "lam_8 883.421\n",
      "lam_9 3190.99\n",
      "lam_10 6.66438e-07\n",
      "lam_11 581.764\n",
      "lam_12 1.11733e-06\n",
      "lam_13 1.12373e-06\n",
      "lam_14 5901.7\n",
      "lam_15 6786.29\n",
      "lam_16 6.66438e-07\n",
      "lam_17 6.66438e-07\n",
      "lam_18 1841.61\n",
      "lam_19 9939.58\n",
      "lam_20 1.11709e-06\n",
      "lam_21 2668.09\n",
      "lam_22 1092.22\n",
      "lam_23 1249.14\n",
      "lam_24 2591.05\n",
      "lam_25 1929.57\n",
      "lam_26 1786.19\n",
      "lam_27 3397.04\n",
      "lam_28 0.0526526\n",
      "lam_29 0.0162217\n",
      "lam_30 4452.83\n",
      "lam_31 1299.68\n",
      "lam_32 4603.18\n",
      "lam_33 2580.54\n",
      "lam_34 1031.54\n",
      "lam_35 5.19127e-05\n",
      "lam_36 5.19127e-05\n",
      "lam_37 6241.14\n",
      "lam_38 688.763\n",
      "lam_39 1729.95\n",
      "lam_40 5002.91\n",
      "lam_41 1140.92\n",
      "lam_42 6.65088e-07\n",
      "lam_43 6.65088e-07\n",
      "lam_44 6377.68\n",
      "lam_45 3.31551e-07\n",
      "lam_46 3.27512e-07\n",
      "lam_47 2987.57\n",
      "lam_48 1646.37\n",
      "lam_49 6.66935e-07\n",
      "lam_50 6.72456e-07\n",
      "lam_51 6.65304e-07\n",
      "lam_52 1684.09\n",
      "lam_53 3.27714e-07\n",
      "lam_54 773.437\n",
      "lam_55 1118.37\n",
      "Obj: -130827\n"
     ]
    }
   ],
   "source": [
    "from gurobipy import *\n",
    "\n",
    "L = 56  # dimension of lam\n",
    "\n",
    "K = np.size(x, 1)\n",
    "S = samp_cov(x)\n",
    "inv_S = inv(S)\n",
    "\n",
    "A_t = np.transpose(A)\n",
    "P_t = np.transpose(P)\n",
    "# PA'\n",
    "PA_t = np.dot(P, A_t)\n",
    "# AP_t\n",
    "AP_t = np.transpose(PA_t)\n",
    "\n",
    "Q = np.dot(np.dot(PA_t, inv_S), AP_t)\n",
    "b = sum([np.dot(np.dot(PA_t, inv_S), x[:, k]) for k in range(K)])\n",
    "\n",
    "\n",
    "model = Model(\"OD_matrix_estimation\")\n",
    "\n",
    "lam = []\n",
    "for l in range(L):\n",
    "    lam.append(model.addVar(name='lam_' + str(l)))\n",
    "\n",
    "model.update() \n",
    "\n",
    "# Set objective: (K/2) lam' * Q * lam - b' * lam\n",
    "obj = 0\n",
    "for i in range(L):\n",
    "    for j in range(L):\n",
    "        obj += (1.0 /2) * K * lam[i] * Q[i, j] * lam[j]\n",
    "for l in range(L):\n",
    "    obj += - b[l] * lam[l]\n",
    "model.setObjective(obj)\n",
    "\n",
    "# Add constraint: lam >= 0\n",
    "for l in range(L):\n",
    "    model.addConstr(lam[l] >= 0)\n",
    "\n",
    "model.update() \n",
    "\n",
    "model.optimize()\n",
    "\n",
    "lam_list = []\n",
    "for v in model.getVars():\n",
    "    print('%s %g' % (v.varName, v.x))\n",
    "    lam_list.append(v.x)\n",
    "print('Obj: %g' % obj.getValue())"
   ]
  },
  {
   "cell_type": "code",
   "execution_count": 18,
   "metadata": {
    "collapsed": false
   },
   "outputs": [],
   "source": [
    "# write estimation result to file\n",
    "n = 8  # number of nodes\n",
    "with open('../temp_files/OD_demand_matrix_Apr_weekday_AM.txt', 'w') as the_file:\n",
    "    idx = 0\n",
    "    for i in range(n + 1)[1:]:\n",
    "        for j in range(n + 1)[1:]:\n",
    "            if i != j: \n",
    "                the_file.write(\"%d,%d,%f\\n\" %(i, j, lam_list[idx]))\n",
    "                idx += 1"
   ]
  },
  {
   "cell_type": "code",
   "execution_count": 19,
   "metadata": {
    "collapsed": false
   },
   "outputs": [
    {
     "data": {
      "text/plain": [
       "[1.3473679361259703e-10,\n",
       " 2807.5279406675036,\n",
       " 1.4789527570941162e-10,\n",
       " 6.664381284871544e-07,\n",
       " 1340.185698734798,\n",
       " 1.117331191008154e-06,\n",
       " 4.292180266998288e-08,\n",
       " 0.0008002217637364528,\n",
       " 883.4208140992027,\n",
       " 3190.989735905362,\n",
       " 6.66438366760504e-07,\n",
       " 581.764308809899,\n",
       " 1.1173318479776957e-06,\n",
       " 1.1237312171175182e-06,\n",
       " 5901.698371039733,\n",
       " 6786.292240388291,\n",
       " 6.664382737235706e-07,\n",
       " 6.664380364676905e-07,\n",
       " 1841.6143193380456,\n",
       " 9939.582535475809,\n",
       " 1.1170939176753907e-06,\n",
       " 2668.0948797012643,\n",
       " 1092.223879663977,\n",
       " 1249.1429758493898,\n",
       " 2591.0499451079118,\n",
       " 1929.568514399647,\n",
       " 1786.1854149768706,\n",
       " 3397.0359697039776,\n",
       " 0.05265260077882594,\n",
       " 0.016221712204705252,\n",
       " 4452.8343550655845,\n",
       " 1299.6803823694868,\n",
       " 4603.180819429563,\n",
       " 2580.544048707163,\n",
       " 1031.5373153905373,\n",
       " 5.1912698171565144e-05,\n",
       " 5.1912654500474095e-05,\n",
       " 6241.137400042277,\n",
       " 688.7632924300725,\n",
       " 1729.9460846349782,\n",
       " 5002.914410416363,\n",
       " 1140.9183564847178,\n",
       " 6.650884976128917e-07,\n",
       " 6.650884885248923e-07,\n",
       " 6377.683168294559,\n",
       " 3.3155141830632786e-07,\n",
       " 3.275117794672669e-07,\n",
       " 2987.568010068182,\n",
       " 1646.3681984510608,\n",
       " 6.669345313721248e-07,\n",
       " 6.724555794380353e-07,\n",
       " 6.653041932139204e-07,\n",
       " 1684.0900979372727,\n",
       " 3.277144734077495e-07,\n",
       " 773.436521012243,\n",
       " 1118.3695423717077]"
      ]
     },
     "execution_count": 19,
     "metadata": {},
     "output_type": "execute_result"
    }
   ],
   "source": [
    "lam_list"
   ]
  },
  {
   "cell_type": "code",
   "execution_count": null,
   "metadata": {
    "collapsed": true
   },
   "outputs": [],
   "source": []
  }
 ],
 "metadata": {
  "kernelspec": {
   "display_name": "Python 2",
   "language": "python",
   "name": "python2"
  },
  "language_info": {
   "codemirror_mode": {
    "name": "ipython",
    "version": 2
   },
   "file_extension": ".py",
   "mimetype": "text/x-python",
   "name": "python",
   "nbconvert_exporter": "python",
   "pygments_lexer": "ipython2",
   "version": "2.7.11"
  }
 },
 "nbformat": 4,
 "nbformat_minor": 0
}
