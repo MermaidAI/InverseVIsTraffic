{
 "cells": [
  {
   "cell_type": "code",
   "execution_count": 1,
   "metadata": {
    "collapsed": true
   },
   "outputs": [],
   "source": [
    "%run ../Python_files/util_data_storage_and_load.py"
   ]
  },
  {
   "cell_type": "code",
   "execution_count": 2,
   "metadata": {
    "collapsed": true
   },
   "outputs": [],
   "source": [
    "%run ../Python_files/load_dicts.py"
   ]
  },
  {
   "cell_type": "code",
   "execution_count": 3,
   "metadata": {
    "collapsed": false
   },
   "outputs": [],
   "source": [
    "%run ../Python_files/util.py"
   ]
  },
  {
   "cell_type": "code",
   "execution_count": 4,
   "metadata": {
    "collapsed": true
   },
   "outputs": [],
   "source": [
    "# load logit_route_choice_probability_matrix\n",
    "P = zload('../temp_files/logit_route_choice_probability_matrix.pkz')"
   ]
  },
  {
   "cell_type": "code",
   "execution_count": 5,
   "metadata": {
    "collapsed": false
   },
   "outputs": [],
   "source": [
    "import numpy as np\n",
    "from numpy.linalg import inv\n",
    "\n",
    "P = np.matrix(P)"
   ]
  },
  {
   "cell_type": "code",
   "execution_count": 6,
   "metadata": {
    "collapsed": false
   },
   "outputs": [
    {
     "data": {
      "text/plain": [
       "(56, 140)"
      ]
     },
     "execution_count": 6,
     "metadata": {},
     "output_type": "execute_result"
    }
   ],
   "source": [
    "np.size(P, 0), np.size(P, 1)"
   ]
  },
  {
   "cell_type": "code",
   "execution_count": 7,
   "metadata": {
    "collapsed": true
   },
   "outputs": [],
   "source": [
    "import numpy as np\n",
    "from numpy.linalg import inv\n",
    "\n",
    "def samp_cov(x):\n",
    "    \"\"\"\n",
    "    x: sample matrix, each column is a link flow vector sample; 24 * K\n",
    "    K: number of samples\n",
    "    S: sample covariance matrix\n",
    "    ----------------\n",
    "    return: inv(S)\n",
    "    ----------------\n",
    "    \"\"\"\n",
    "    x = np.matrix(x)\n",
    "    K = np.size(x, 1)\n",
    "    x_mean = sum(x[:,k] for k in range(K)) / K\n",
    "    S = sum(np.dot(x[:,k] - x_mean, np.transpose(x[:,k] - x_mean)) for k in range(K)) / (K - 1)\n",
    "    return S"
   ]
  },
  {
   "cell_type": "code",
   "execution_count": 8,
   "metadata": {
    "collapsed": false
   },
   "outputs": [],
   "source": [
    "# load path-link incidence matrix\n",
    "A = zload('../temp_files/path-link_incidence_matrix.pkz')"
   ]
  },
  {
   "cell_type": "code",
   "execution_count": 9,
   "metadata": {
    "collapsed": false
   },
   "outputs": [],
   "source": [
    "# load link counts data\n",
    "\n",
    "import json\n",
    "\n",
    "with open('../temp_files/link_day_minute_Apr_dict_JSON.json', 'r') as json_file:\n",
    "    link_day_minute_Apr_dict_JSON = json.load(json_file)"
   ]
  },
  {
   "cell_type": "code",
   "execution_count": 10,
   "metadata": {
    "collapsed": true
   },
   "outputs": [],
   "source": [
    "week_day_Apr_list = [2, 3, 4, 5, 6, 9, 10, 11, 12, 13, 16, 17, 18, 19, 20, 23, 24, 25, 26, 27, 30]"
   ]
  },
  {
   "cell_type": "code",
   "execution_count": 11,
   "metadata": {
    "collapsed": false
   },
   "outputs": [],
   "source": [
    "link_day_minute_Apr_list = []\n",
    "for link_idx in range(24):\n",
    "    for day in week_day_Apr_list: \n",
    "        for minute_idx in range(120):\n",
    "            key = 'link_' + str(link_idx) + '_' + str(day)\n",
    "            link_day_minute_Apr_list.append(link_day_minute_Apr_dict_JSON[key] ['AM_flow_minute'][minute_idx])"
   ]
  },
  {
   "cell_type": "code",
   "execution_count": 12,
   "metadata": {
    "collapsed": false
   },
   "outputs": [
    {
     "data": {
      "text/plain": [
       "60480"
      ]
     },
     "execution_count": 12,
     "metadata": {},
     "output_type": "execute_result"
    }
   ],
   "source": [
    "len(link_day_minute_Apr_list)"
   ]
  },
  {
   "cell_type": "code",
   "execution_count": 13,
   "metadata": {
    "collapsed": false
   },
   "outputs": [],
   "source": [
    "x = np.matrix(link_day_minute_Apr_list)\n",
    "x = np.matrix.reshape(x, 24, 2520)\n",
    "\n",
    "x = np.nan_to_num(x)\n",
    "y = np.array(np.transpose(x))\n",
    "y = y[np.all(y != 0, axis=1)]\n",
    "x = np.transpose(y)\n",
    "x = np.matrix(x)"
   ]
  },
  {
   "cell_type": "code",
   "execution_count": 14,
   "metadata": {
    "collapsed": false
   },
   "outputs": [
    {
     "data": {
      "text/plain": [
       "(24, 2400)"
      ]
     },
     "execution_count": 14,
     "metadata": {},
     "output_type": "execute_result"
    }
   ],
   "source": [
    "np.size(x, 0), np.size(x, 1)"
   ]
  },
  {
   "cell_type": "code",
   "execution_count": 15,
   "metadata": {
    "collapsed": false
   },
   "outputs": [
    {
     "data": {
      "text/plain": [
       "matrix([[ 338826.19914217,  340870.69418863],\n",
       "        [ 356607.34023537,  358486.38585181],\n",
       "        [ 637439.82312416,  639230.39632583],\n",
       "        [ 663692.59872856,  664588.27655425],\n",
       "        [ 168716.14583333,  169784.36832265],\n",
       "        [ 230757.04056486,  233410.20644246],\n",
       "        [ 413870.98604879,  419817.0297148 ],\n",
       "        [ 418887.708701  ,  410135.43481856],\n",
       "        [ 397214.3020736 ,  393498.46510653],\n",
       "        [ 412735.07617971,  420136.97259902],\n",
       "        [ 390148.43068691,  430028.83789741],\n",
       "        [ 276985.11125846,  266240.5339992 ],\n",
       "        [  99100.26568219,  103337.77220933],\n",
       "        [ 100285.75382569,   95613.56467784],\n",
       "        [ 157640.81551181,  169261.09059214],\n",
       "        [ 128118.17574525,  129407.53557805],\n",
       "        [ 216276.51935404,  216161.04998767],\n",
       "        [ 218801.92307692,  214551.0093072 ],\n",
       "        [ 408140.1203505 ,  407087.39149114],\n",
       "        [ 352353.44050541,  352159.04364636],\n",
       "        [ 493746.88201778,  498148.97401147],\n",
       "        [ 578239.81828812,  572200.77348568],\n",
       "        [ 141348.20919666,  141588.80516519],\n",
       "        [ 129896.3116637 ,  136945.32244788]])"
      ]
     },
     "execution_count": 15,
     "metadata": {},
     "output_type": "execute_result"
    }
   ],
   "source": [
    "x[:,:2]"
   ]
  },
  {
   "cell_type": "code",
   "execution_count": 16,
   "metadata": {
    "collapsed": false
   },
   "outputs": [
    {
     "data": {
      "text/plain": [
       "(24, 140)"
      ]
     },
     "execution_count": 16,
     "metadata": {},
     "output_type": "execute_result"
    }
   ],
   "source": [
    "np.size(A,0), np.size(A,1)"
   ]
  },
  {
   "cell_type": "code",
   "execution_count": 17,
   "metadata": {
    "collapsed": false
   },
   "outputs": [
    {
     "name": "stdout",
     "output_type": "stream",
     "text": [
      "Optimize a model with 56 rows, 56 columns and 56 nonzeros\n",
      "Model has 1596 quadratic objective terms\n",
      "Coefficient statistics:\n",
      "  Matrix range    [1e+00, 1e+00]\n",
      "  Objective range [1e-01, 2e+01]\n",
      "  Bounds range    [0e+00, 0e+00]\n",
      "  RHS range       [0e+00, 0e+00]\n",
      "Presolve removed 56 rows and 0 columns\n",
      "Presolve time: 0.00s\n",
      "Presolved: 0 rows, 56 columns, 0 nonzeros\n",
      "Presolved model has 1596 quadratic objective terms\n",
      "Ordering time: 0.00s\n",
      "\n",
      "Barrier statistics:\n",
      " Free vars  : 24\n",
      " AA' NZ     : 2.760e+02\n",
      " Factor NZ  : 3.000e+02\n",
      " Factor Ops : 4.900e+03 (less than 1 second per iteration)\n",
      " Threads    : 1\n",
      "\n",
      "                  Objective                Residual\n",
      "Iter       Primal          Dual         Primal    Dual     Compl     Time\n",
      "   0  -2.68253676e+07  0.00000000e+00  5.44e+03 2.52e+03  1.00e+06     0s\n",
      "   1  -1.18126299e+07 -7.68717948e+06  9.92e+02 4.60e+02  2.32e+05     0s\n",
      "   2  -7.64771089e+06 -1.04840479e+07  1.65e+01 7.63e+00  5.58e+04     0s\n",
      "   3  -8.20544578e+06 -8.50246851e+06  1.65e-05 7.63e-06  5.30e+03     0s\n",
      "   4  -8.26755887e+06 -8.28176900e+06  1.74e-07 8.05e-08  2.54e+02     0s\n",
      "   5  -8.27018937e+06 -8.27283423e+06  6.68e-11 3.41e-13  4.72e+01     0s\n",
      "   6  -8.27090709e+06 -8.27148282e+06  3.41e-11 4.55e-13  1.03e+01     0s\n",
      "   7  -8.27106856e+06 -8.27111249e+06  7.50e-11 5.68e-13  7.84e-01     0s\n",
      "   8  -8.27109368e+06 -8.27109562e+06  1.88e-10 3.41e-13  3.46e-02     0s\n",
      "   9  -8.27109499e+06 -8.27109516e+06  2.68e-11 3.41e-13  3.00e-03     0s\n",
      "  10  -8.27109507e+06 -8.27109508e+06  9.09e-12 9.09e-13  1.97e-04     0s\n",
      "  11  -8.27109507e+06 -8.27109507e+06  5.46e-12 5.68e-13  2.10e-07     0s\n",
      "  12  -8.27109507e+06 -8.27109507e+06  1.59e-12 1.47e-11  1.24e-09     0s\n",
      "\n",
      "Barrier solved model in 12 iterations and 0.02 seconds\n",
      "Optimal objective -8.27109507e+06\n",
      "\n",
      "lam_0 2.48338e-09\n",
      "lam_1 162709\n",
      "lam_2 96779.4\n",
      "lam_3 1.37972e-06\n",
      "lam_4 68122\n",
      "lam_5 2.32345e-06\n",
      "lam_6 2.32255e-06\n",
      "lam_7 155188\n",
      "lam_8 1.53716e-10\n",
      "lam_9 134290\n",
      "lam_10 1.53699e-10\n",
      "lam_11 1.53716e-10\n",
      "lam_12 1.53706e-10\n",
      "lam_13 1.54742e-10\n",
      "lam_14 1.59107e-06\n",
      "lam_15 1.58794e-06\n",
      "lam_16 2.73275e-07\n",
      "lam_17 1.38015e-06\n",
      "lam_18 123421\n",
      "lam_19 245432\n",
      "lam_20 2.3017e-06\n",
      "lam_21 6.99914e-06\n",
      "lam_22 224661\n",
      "lam_23 7.85355e-07\n",
      "lam_24 0.000949103\n",
      "lam_25 0.000996886\n",
      "lam_26 5194.48\n",
      "lam_27 82802\n",
      "lam_28 207183\n",
      "lam_29 35315.9\n",
      "lam_30 1.13969e-06\n",
      "lam_31 35946.5\n",
      "lam_32 104594\n",
      "lam_33 5.4901e-07\n",
      "lam_34 18597.1\n",
      "lam_35 13342.6\n",
      "lam_36 21214.1\n",
      "lam_37 462053\n",
      "lam_38 1.06993e-06\n",
      "lam_39 34256.4\n",
      "lam_40 468462\n",
      "lam_41 25832.1\n",
      "lam_42 6.11886e-07\n",
      "lam_43 6.1157e-07\n",
      "lam_44 1.4387e-06\n",
      "lam_45 2.44424e-07\n",
      "lam_46 179897\n",
      "lam_47 299044\n",
      "lam_48 27801.1\n",
      "lam_49 6.13477e-07\n",
      "lam_50 6.18922e-07\n",
      "lam_51 9.934e-07\n",
      "lam_52 122779\n",
      "lam_53 8.22871e-07\n",
      "lam_54 37037.5\n",
      "lam_55 42688.2\n",
      "Obj: -8.27016e+06\n"
     ]
    }
   ],
   "source": [
    "from gurobipy import *\n",
    "\n",
    "L = 56  # dimension of lam\n",
    "\n",
    "K = np.size(x, 1)\n",
    "S = samp_cov(x)\n",
    "inv_S = inv(S)\n",
    "\n",
    "A_t = np.transpose(A)\n",
    "P_t = np.transpose(P)\n",
    "# PA'\n",
    "PA_t = np.dot(P, A_t)\n",
    "# AP_t\n",
    "AP_t = np.transpose(PA_t)\n",
    "\n",
    "Q = np.dot(np.dot(PA_t, inv_S), AP_t)\n",
    "b = sum([np.dot(np.dot(PA_t, inv_S), x[:, k]) for k in range(K)])\n",
    "\n",
    "\n",
    "model = Model(\"OD_matrix_estimation\")\n",
    "\n",
    "lam = []\n",
    "for l in range(L):\n",
    "    lam.append(model.addVar(name='lam_' + str(l)))\n",
    "\n",
    "model.update() \n",
    "\n",
    "# Set objective: (K/2) lam' * Q * lam - b * lam\n",
    "obj = 0\n",
    "for i in range(L):\n",
    "    for j in range(L):\n",
    "        obj += (1.0 /2) * K * lam[i] * Q[i, j] * lam[j]\n",
    "for l in range(L):\n",
    "    obj += - b[l] * lam[l]\n",
    "model.setObjective(obj)\n",
    "\n",
    "# Add constraint: lam >= 0\n",
    "for l in range(L):\n",
    "    model.addConstr(lam[l] >= 0)\n",
    "\n",
    "model.update() \n",
    "\n",
    "model.optimize()\n",
    "\n",
    "lam_list = []\n",
    "for v in model.getVars():\n",
    "    print('%s %g' % (v.varName, v.x))\n",
    "    lam_list.append(v.x)\n",
    "print('Obj: %g' % obj.getValue())"
   ]
  },
  {
   "cell_type": "code",
   "execution_count": 18,
   "metadata": {
    "collapsed": false
   },
   "outputs": [],
   "source": [
    "# write estimation result to file\n",
    "n = 8  # number of nodes\n",
    "with open('../temp_files/OD_demand_matrix_Apr_weekday_AM.txt', 'w') as the_file:\n",
    "    idx = 0\n",
    "    for i in range(n + 1)[1:]:\n",
    "        for j in range(n + 1)[1:]:\n",
    "            if i != j: \n",
    "                the_file.write(\"%d,%d,%f\\n\" %(i, j, lam_list[idx]))\n",
    "                idx += 1"
   ]
  },
  {
   "cell_type": "code",
   "execution_count": 19,
   "metadata": {
    "collapsed": false
   },
   "outputs": [
    {
     "data": {
      "text/plain": [
       "[2.483384785388589e-09,\n",
       " 162708.70057401576,\n",
       " 96779.36663409013,\n",
       " 1.379715161355403e-06,\n",
       " 68121.99923733235,\n",
       " 2.323450999320014e-06,\n",
       " 2.322550198923662e-06,\n",
       " 155188.464240378,\n",
       " 1.5371620503335576e-10,\n",
       " 134290.3953135892,\n",
       " 1.536990868145567e-10,\n",
       " 1.537161991678445e-10,\n",
       " 1.5370604282447191e-10,\n",
       " 1.547421537545398e-10,\n",
       " 1.5910660822117026e-06,\n",
       " 1.5879409453403042e-06,\n",
       " 2.7327535077256026e-07,\n",
       " 1.380149919744686e-06,\n",
       " 123421.29713381936,\n",
       " 245431.6728239135,\n",
       " 2.3016966391255266e-06,\n",
       " 6.9991367527895854e-06,\n",
       " 224660.6081660313,\n",
       " 7.853550280144199e-07,\n",
       " 0.000949102797471707,\n",
       " 0.0009968855814330713,\n",
       " 5194.483560928636,\n",
       " 82802.0079292785,\n",
       " 207182.81704192318,\n",
       " 35315.933423500865,\n",
       " 1.1396878971826202e-06,\n",
       " 35946.46413430407,\n",
       " 104593.61263585293,\n",
       " 5.490098276145905e-07,\n",
       " 18597.116420295682,\n",
       " 13342.55119560248,\n",
       " 21214.135549526003,\n",
       " 462052.77381224156,\n",
       " 1.0699260466897698e-06,\n",
       " 34256.445752319225,\n",
       " 468461.6475765155,\n",
       " 25832.103336461114,\n",
       " 6.118863190984346e-07,\n",
       " 6.115703958539876e-07,\n",
       " 1.438698261888179e-06,\n",
       " 2.44424103922831e-07,\n",
       " 179897.32267212245,\n",
       " 299043.66235791374,\n",
       " 27801.13083902996,\n",
       " 6.134773967569077e-07,\n",
       " 6.189221453342268e-07,\n",
       " 9.933996404666297e-07,\n",
       " 122778.53907529973,\n",
       " 8.228708420512346e-07,\n",
       " 37037.45496480752,\n",
       " 42688.16730721394]"
      ]
     },
     "execution_count": 19,
     "metadata": {},
     "output_type": "execute_result"
    }
   ],
   "source": [
    "lam_list"
   ]
  },
  {
   "cell_type": "code",
   "execution_count": null,
   "metadata": {
    "collapsed": true
   },
   "outputs": [],
   "source": []
  }
 ],
 "metadata": {
  "kernelspec": {
   "display_name": "Python 2",
   "language": "python",
   "name": "python2"
  },
  "language_info": {
   "codemirror_mode": {
    "name": "ipython",
    "version": 2
   },
   "file_extension": ".py",
   "mimetype": "text/x-python",
   "name": "python",
   "nbconvert_exporter": "python",
   "pygments_lexer": "ipython2",
   "version": "2.7.11"
  }
 },
 "nbformat": 4,
 "nbformat_minor": 0
}
