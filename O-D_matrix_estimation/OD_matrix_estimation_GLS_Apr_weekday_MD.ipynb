{
 "cells": [
  {
   "cell_type": "code",
   "execution_count": 1,
   "metadata": {
    "collapsed": true
   },
   "outputs": [],
   "source": [
    "%run ../Python_files/util_data_storage_and_load.py"
   ]
  },
  {
   "cell_type": "code",
   "execution_count": 2,
   "metadata": {
    "collapsed": true
   },
   "outputs": [],
   "source": [
    "%run ../Python_files/load_dicts.py"
   ]
  },
  {
   "cell_type": "code",
   "execution_count": 3,
   "metadata": {
    "collapsed": false
   },
   "outputs": [],
   "source": [
    "%run ../Python_files/util.py"
   ]
  },
  {
   "cell_type": "code",
   "execution_count": 4,
   "metadata": {
    "collapsed": true
   },
   "outputs": [],
   "source": [
    "# load logit_route_choice_probability_matrix\n",
    "P = zload('../temp_files/logit_route_choice_probability_matrix.pkz')"
   ]
  },
  {
   "cell_type": "code",
   "execution_count": 5,
   "metadata": {
    "collapsed": false
   },
   "outputs": [],
   "source": [
    "import numpy as np\n",
    "from numpy.linalg import inv\n",
    "\n",
    "P = np.matrix(P)"
   ]
  },
  {
   "cell_type": "code",
   "execution_count": 6,
   "metadata": {
    "collapsed": false
   },
   "outputs": [
    {
     "data": {
      "text/plain": [
       "(56, 140)"
      ]
     },
     "execution_count": 6,
     "metadata": {},
     "output_type": "execute_result"
    }
   ],
   "source": [
    "np.size(P, 0), np.size(P, 1)"
   ]
  },
  {
   "cell_type": "code",
   "execution_count": 7,
   "metadata": {
    "collapsed": true
   },
   "outputs": [],
   "source": [
    "import numpy as np\n",
    "from numpy.linalg import inv\n",
    "\n",
    "def samp_cov(x):\n",
    "    \"\"\"\n",
    "    x: sample matrix, each column is a link flow vector sample; 24 * K\n",
    "    K: number of samples\n",
    "    S: sample covariance matrix\n",
    "    ----------------\n",
    "    return: inv(S)\n",
    "    ----------------\n",
    "    \"\"\"\n",
    "    x = np.matrix(x)\n",
    "    K = np.size(x, 1)\n",
    "    x_mean = sum(x[:,k] for k in range(K)) / K\n",
    "    S = sum(np.dot(x[:,k] - x_mean, np.transpose(x[:,k] - x_mean)) for k in range(K)) / (K - 1)\n",
    "    return S"
   ]
  },
  {
   "cell_type": "code",
   "execution_count": 8,
   "metadata": {
    "collapsed": false
   },
   "outputs": [],
   "source": [
    "# load path-link incidence matrix\n",
    "A = zload('../temp_files/path-link_incidence_matrix.pkz')"
   ]
  },
  {
   "cell_type": "code",
   "execution_count": 9,
   "metadata": {
    "collapsed": false
   },
   "outputs": [],
   "source": [
    "# load link counts data\n",
    "\n",
    "import json\n",
    "\n",
    "with open('../temp_files/link_day_minute_Apr_dict_JSON.json', 'r') as json_file:\n",
    "    link_day_minute_Apr_dict_JSON = json.load(json_file)"
   ]
  },
  {
   "cell_type": "code",
   "execution_count": 10,
   "metadata": {
    "collapsed": true
   },
   "outputs": [],
   "source": [
    "week_day_Apr_list = [2, 3, 4, 5, 6, 9, 10, 11, 12, 13, 16, 17, 18, 19, 20, 23, 24, 25, 26, 27, 30]"
   ]
  },
  {
   "cell_type": "code",
   "execution_count": 11,
   "metadata": {
    "collapsed": false
   },
   "outputs": [],
   "source": [
    "link_day_minute_Apr_list = []\n",
    "for link_idx in range(24):\n",
    "    for day in week_day_Apr_list: \n",
    "        for minute_idx in range(120):\n",
    "            key = 'link_' + str(link_idx) + '_' + str(day)\n",
    "            link_day_minute_Apr_list.append(link_day_minute_Apr_dict_JSON[key] ['MD_flow_minute'][minute_idx])"
   ]
  },
  {
   "cell_type": "code",
   "execution_count": 12,
   "metadata": {
    "collapsed": false
   },
   "outputs": [
    {
     "data": {
      "text/plain": [
       "60480"
      ]
     },
     "execution_count": 12,
     "metadata": {},
     "output_type": "execute_result"
    }
   ],
   "source": [
    "len(link_day_minute_Apr_list)"
   ]
  },
  {
   "cell_type": "code",
   "execution_count": 13,
   "metadata": {
    "collapsed": false
   },
   "outputs": [],
   "source": [
    "x = np.matrix(link_day_minute_Apr_list)\n",
    "x = np.matrix.reshape(x, 24, 2520)\n",
    "\n",
    "x = np.nan_to_num(x)\n",
    "y = np.array(np.transpose(x))\n",
    "y = y[np.all(y != 0, axis=1)]\n",
    "x = np.transpose(y)\n",
    "x = np.matrix(x)"
   ]
  },
  {
   "cell_type": "code",
   "execution_count": 14,
   "metadata": {
    "collapsed": false
   },
   "outputs": [
    {
     "data": {
      "text/plain": [
       "(24, 2520)"
      ]
     },
     "execution_count": 14,
     "metadata": {},
     "output_type": "execute_result"
    }
   ],
   "source": [
    "np.size(x, 0), np.size(x, 1)"
   ]
  },
  {
   "cell_type": "code",
   "execution_count": 15,
   "metadata": {
    "collapsed": false
   },
   "outputs": [
    {
     "data": {
      "text/plain": [
       "matrix([[ 2359.40210634,  2337.01256984],\n",
       "        [ 2289.06489292,  2294.88891528],\n",
       "        [ 2883.33833614,  2872.965419  ],\n",
       "        [ 2856.7205003 ,  2897.36290514],\n",
       "        [ 2989.5127047 ,  2886.67967098],\n",
       "        [ 2755.20249667,  2757.71269425],\n",
       "        [ 2434.70287806,  2373.94636866],\n",
       "        [ 2404.74286605,  2441.8102877 ],\n",
       "        [ 3153.06425139,  3202.20093408],\n",
       "        [ 3071.24632571,  3101.49609424],\n",
       "        [ 2796.84764738,  2664.79023625],\n",
       "        [ 2431.02788311,  2505.99992656],\n",
       "        [ 2284.14488821,  2187.46896874],\n",
       "        [ 2534.90654419,  2464.4075785 ],\n",
       "        [ 2283.42356399,  2353.64255004],\n",
       "        [ 1843.51004281,  1798.20815298],\n",
       "        [ 2408.43820312,  2414.03983482],\n",
       "        [ 2367.70036212,  2419.71275118],\n",
       "        [ 2679.31127806,  2671.64071345],\n",
       "        [ 2630.67573585,  2610.10425748],\n",
       "        [ 2825.33776339,  2742.55550243],\n",
       "        [ 2641.53488651,  2646.86945136],\n",
       "        [ 2393.1215448 ,  2248.67933905],\n",
       "        [ 2380.13108071,  2425.99116223]])"
      ]
     },
     "execution_count": 15,
     "metadata": {},
     "output_type": "execute_result"
    }
   ],
   "source": [
    "x[:,:2]"
   ]
  },
  {
   "cell_type": "code",
   "execution_count": 16,
   "metadata": {
    "collapsed": false
   },
   "outputs": [
    {
     "data": {
      "text/plain": [
       "(24, 140)"
      ]
     },
     "execution_count": 16,
     "metadata": {},
     "output_type": "execute_result"
    }
   ],
   "source": [
    "np.size(A,0), np.size(A,1)"
   ]
  },
  {
   "cell_type": "code",
   "execution_count": 17,
   "metadata": {
    "collapsed": false
   },
   "outputs": [
    {
     "name": "stdout",
     "output_type": "stream",
     "text": [
      "Optimize a model with 56 rows, 56 columns and 56 nonzeros\n",
      "Model has 1596 quadratic objective terms\n",
      "Coefficient statistics:\n",
      "  Matrix range    [1e+00, 1e+00]\n",
      "  Objective range [3e+01, 7e+03]\n",
      "  Bounds range    [0e+00, 0e+00]\n",
      "  RHS range       [0e+00, 0e+00]\n",
      "Warning: diagonal adjustment of 5.7e-09 performed to make Q PSD\n",
      "Presolve removed 56 rows and 0 columns\n",
      "Presolve time: 0.00s\n",
      "Presolved: 0 rows, 56 columns, 0 nonzeros\n",
      "Presolved model has 1596 quadratic objective terms\n",
      "Ordering time: 0.00s\n",
      "\n",
      "Barrier statistics:\n",
      " Free vars  : 26\n",
      " AA' NZ     : 3.250e+02\n",
      " Factor NZ  : 3.510e+02\n",
      " Factor Ops : 6.201e+03 (less than 1 second per iteration)\n",
      " Threads    : 1\n",
      "\n",
      "                  Objective                Residual\n",
      "Iter       Primal          Dual         Primal    Dual     Compl     Time\n",
      "   0  -1.01323211e+08  0.00000000e+00  9.65e+03 1.78e+03  1.00e+06     0s\n",
      "   1  -5.35834080e+07 -3.37411973e+07  1.47e+03 2.70e+02  2.77e+05     0s\n",
      "   2  -3.93235665e+07 -4.05849589e+07  2.60e+01 4.79e+00  3.34e+04     0s\n",
      "   3  -3.93014237e+07 -3.93641141e+07  2.67e-02 4.93e-03  1.13e+03     0s\n",
      "   4  -3.93290778e+07 -3.93297978e+07  2.93e-05 5.41e-06  1.29e+01     0s\n",
      "   5  -3.93297198e+07 -3.93297385e+07  1.59e-07 2.92e-08  3.34e-01     0s\n",
      "   6  -3.93297293e+07 -3.93297314e+07  8.55e-11 1.50e-11  3.71e-02     0s\n",
      "   7  -3.93297296e+07 -3.93297298e+07  2.07e-10 1.36e-12  4.28e-03     0s\n",
      "   8  -3.93297297e+07 -3.93297297e+07  4.46e-11 1.82e-12  3.86e-04     0s\n",
      "   9  -3.93297297e+07 -3.93297297e+07  2.00e-10 9.09e-13  9.58e-05     0s\n",
      "  10  -3.93297297e+07 -3.93297297e+07  9.41e-11 1.36e-12  6.47e-06     0s\n",
      "  11  -3.93297297e+07 -3.93297297e+07  1.41e-11 1.82e-12  4.56e-07     0s\n",
      "  12  -3.93297297e+07 -3.93297297e+07  5.96e-11 8.44e-10  5.00e-08     0s\n",
      "  13  -3.93297297e+07 -3.93297297e+07  3.14e-11 3.07e-10  6.92e-09     0s\n",
      "\n",
      "Barrier solved model in 13 iterations and 0.02 seconds\n",
      "Optimal objective -3.93297297e+07\n",
      "\n",
      "lam_0 1.00649e-10\n",
      "lam_1 3088.61\n",
      "lam_2 1.57467e-10\n",
      "lam_3 0.00164598\n",
      "lam_4 2731.94\n",
      "lam_5 0.00273127\n",
      "lam_6 4.7518e-08\n",
      "lam_7 1.37192e-05\n",
      "lam_8 1.88344e-11\n",
      "lam_9 2526.62\n",
      "lam_10 1.88344e-11\n",
      "lam_11 1.88344e-11\n",
      "lam_12 1.88344e-11\n",
      "lam_13 1.89424e-11\n",
      "lam_14 3695.38\n",
      "lam_15 1777.88\n",
      "lam_16 0.0279519\n",
      "lam_17 3049.22\n",
      "lam_18 0.00111371\n",
      "lam_19 0.00273121\n",
      "lam_20 0.0027289\n",
      "lam_21 1460.01\n",
      "lam_22 1161.03\n",
      "lam_23 0.0137106\n",
      "lam_24 0.277368\n",
      "lam_25 0.171175\n",
      "lam_26 2121.38\n",
      "lam_27 2353.6\n",
      "lam_28 0.00617583\n",
      "lam_29 0.00602204\n",
      "lam_30 370.068\n",
      "lam_31 2413.19\n",
      "lam_32 2276.87\n",
      "lam_33 50.1885\n",
      "lam_34 29.7987\n",
      "lam_35 8.51645e-07\n",
      "lam_36 8.51643e-07\n",
      "lam_37 8.51638e-07\n",
      "lam_38 0.0324831\n",
      "lam_39 1841.71\n",
      "lam_40 1824.29\n",
      "lam_41 935.874\n",
      "lam_42 0.725012\n",
      "lam_43 5.72217\n",
      "lam_44 2826.7\n",
      "lam_45 0.0278524\n",
      "lam_46 140.573\n",
      "lam_47 49.9671\n",
      "lam_48 1386.23\n",
      "lam_49 0.00216531\n",
      "lam_50 0.00685378\n",
      "lam_51 2350.43\n",
      "lam_52 2373.82\n",
      "lam_53 0.002083\n",
      "lam_54 0.00445701\n",
      "lam_55 0.00449329\n",
      "Obj: -3.93297e+07\n"
     ]
    }
   ],
   "source": [
    "from gurobipy import *\n",
    "\n",
    "L = 56  # dimension of lam\n",
    "\n",
    "K = np.size(x, 1)\n",
    "S = samp_cov(x)\n",
    "inv_S = inv(S)\n",
    "\n",
    "A_t = np.transpose(A)\n",
    "P_t = np.transpose(P)\n",
    "# PA'\n",
    "PA_t = np.dot(P, A_t)\n",
    "# AP_t\n",
    "AP_t = np.transpose(PA_t)\n",
    "\n",
    "Q = np.dot(np.dot(PA_t, inv_S), AP_t)\n",
    "b = sum([np.dot(np.dot(PA_t, inv_S), x[:, k]) for k in range(K)])\n",
    "\n",
    "\n",
    "model = Model(\"OD_matrix_estimation\")\n",
    "\n",
    "lam = []\n",
    "for l in range(L):\n",
    "    lam.append(model.addVar(name='lam_' + str(l)))\n",
    "\n",
    "model.update() \n",
    "\n",
    "# Set objective: (K/2) lam' * Q * lam - b * lam\n",
    "obj = 0\n",
    "for i in range(L):\n",
    "    for j in range(L):\n",
    "        obj += (1.0 /2) * K * lam[i] * Q[i, j] * lam[j]\n",
    "for l in range(L):\n",
    "    obj += - b[l] * lam[l]\n",
    "model.setObjective(obj)\n",
    "\n",
    "# Add constraint: lam >= 0\n",
    "for l in range(L):\n",
    "    model.addConstr(lam[l] >= 0)\n",
    "\n",
    "model.update() \n",
    "\n",
    "model.optimize()\n",
    "\n",
    "lam_list = []\n",
    "for v in model.getVars():\n",
    "    print('%s %g' % (v.varName, v.x))\n",
    "    lam_list.append(v.x)\n",
    "print('Obj: %g' % obj.getValue())"
   ]
  },
  {
   "cell_type": "code",
   "execution_count": 18,
   "metadata": {
    "collapsed": false
   },
   "outputs": [],
   "source": [
    "# write estimation result to file\n",
    "n = 8  # number of nodes\n",
    "with open('../temp_files/OD_demand_matrix_Apr_weekday_MD.txt', 'w') as the_file:\n",
    "    idx = 0\n",
    "    for i in range(n + 1)[1:]:\n",
    "        for j in range(n + 1)[1:]:\n",
    "            if i != j: \n",
    "                the_file.write(\"%d,%d,%f\\n\" %(i, j, lam_list[idx]))\n",
    "                idx += 1"
   ]
  },
  {
   "cell_type": "code",
   "execution_count": 19,
   "metadata": {
    "collapsed": false
   },
   "outputs": [
    {
     "data": {
      "text/plain": [
       "[1.0064874262837873e-10,\n",
       " 3088.605671087576,\n",
       " 1.574674157370647e-10,\n",
       " 0.0016459825032209639,\n",
       " 2731.9396099095347,\n",
       " 0.002731274178865952,\n",
       " 4.751795880083137e-08,\n",
       " 1.3719183356606342e-05,\n",
       " 1.88344043904792e-11,\n",
       " 2526.6224172383695,\n",
       " 1.883440441612141e-11,\n",
       " 1.8834404034046738e-11,\n",
       " 1.883440426064563e-11,\n",
       " 1.8942409279337887e-11,\n",
       " 3695.3849242621227,\n",
       " 1777.8791918767909,\n",
       " 0.027951930410322456,\n",
       " 3049.2174794568796,\n",
       " 0.0011137087964882726,\n",
       " 0.002731210675695102,\n",
       " 0.0027289037809411915,\n",
       " 1460.0104588756594,\n",
       " 1161.0253831707626,\n",
       " 0.013710629801638702,\n",
       " 0.27736800430920994,\n",
       " 0.171174976837827,\n",
       " 2121.382337351787,\n",
       " 2353.59648155441,\n",
       " 0.006175830673448637,\n",
       " 0.00602203833642815,\n",
       " 370.06811575902447,\n",
       " 2413.191848121531,\n",
       " 2276.8717556605984,\n",
       " 50.18847557788135,\n",
       " 29.798738051839052,\n",
       " 8.51644771433527e-07,\n",
       " 8.516426529600472e-07,\n",
       " 8.516384078568531e-07,\n",
       " 0.03248312076955398,\n",
       " 1841.7083165388592,\n",
       " 1824.2945266815088,\n",
       " 935.8736555953129,\n",
       " 0.7250116055913054,\n",
       " 5.72217480513558,\n",
       " 2826.7001411335664,\n",
       " 0.027852422898294066,\n",
       " 140.5728181095413,\n",
       " 49.96714980592742,\n",
       " 1386.234959019521,\n",
       " 0.002165306624711816,\n",
       " 0.006853784054995718,\n",
       " 2350.430615661744,\n",
       " 2373.821135702214,\n",
       " 0.0020830011208150326,\n",
       " 0.004457009727005447,\n",
       " 0.004493285586763575]"
      ]
     },
     "execution_count": 19,
     "metadata": {},
     "output_type": "execute_result"
    }
   ],
   "source": [
    "lam_list"
   ]
  },
  {
   "cell_type": "code",
   "execution_count": null,
   "metadata": {
    "collapsed": true
   },
   "outputs": [],
   "source": []
  }
 ],
 "metadata": {
  "kernelspec": {
   "display_name": "Python 2",
   "language": "python",
   "name": "python2"
  },
  "language_info": {
   "codemirror_mode": {
    "name": "ipython",
    "version": 2
   },
   "file_extension": ".py",
   "mimetype": "text/x-python",
   "name": "python",
   "nbconvert_exporter": "python",
   "pygments_lexer": "ipython2",
   "version": "2.7.11"
  }
 },
 "nbformat": 4,
 "nbformat_minor": 0
}
