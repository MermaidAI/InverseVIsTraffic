{
 "cells": [
  {
   "cell_type": "code",
   "execution_count": 1,
   "metadata": {
    "collapsed": true
   },
   "outputs": [],
   "source": [
    "%run ../Python_files/util_data_storage_and_load.py"
   ]
  },
  {
   "cell_type": "code",
   "execution_count": 2,
   "metadata": {
    "collapsed": true
   },
   "outputs": [],
   "source": [
    "%run ../Python_files/load_dicts.py"
   ]
  },
  {
   "cell_type": "code",
   "execution_count": 3,
   "metadata": {
    "collapsed": false
   },
   "outputs": [],
   "source": [
    "%run ../Python_files/util.py"
   ]
  },
  {
   "cell_type": "code",
   "execution_count": 4,
   "metadata": {
    "collapsed": true
   },
   "outputs": [],
   "source": [
    "# load logit_route_choice_probability_matrix\n",
    "P = zload('../temp_files/logit_route_choice_probability_matrix.pkz')"
   ]
  },
  {
   "cell_type": "code",
   "execution_count": 5,
   "metadata": {
    "collapsed": false
   },
   "outputs": [],
   "source": [
    "import numpy as np\n",
    "from numpy.linalg import inv\n",
    "\n",
    "P = np.matrix(P)"
   ]
  },
  {
   "cell_type": "code",
   "execution_count": 6,
   "metadata": {
    "collapsed": false
   },
   "outputs": [
    {
     "data": {
      "text/plain": [
       "(56, 140)"
      ]
     },
     "execution_count": 6,
     "metadata": {},
     "output_type": "execute_result"
    }
   ],
   "source": [
    "np.size(P, 0), np.size(P, 1)"
   ]
  },
  {
   "cell_type": "code",
   "execution_count": 7,
   "metadata": {
    "collapsed": true
   },
   "outputs": [],
   "source": [
    "import numpy as np\n",
    "from numpy.linalg import inv\n",
    "\n",
    "def samp_cov(x):\n",
    "    \"\"\"\n",
    "    x: sample matrix, each column is a link flow vector sample; 24 * K\n",
    "    K: number of samples\n",
    "    S: sample covariance matrix\n",
    "    ----------------\n",
    "    return: inv(S)\n",
    "    ----------------\n",
    "    \"\"\"\n",
    "    x = np.matrix(x)\n",
    "    K = np.size(x, 1)\n",
    "    x_mean = sum(x[:,k] for k in range(K)) / K\n",
    "    S = sum(np.dot(x[:,k] - x_mean, np.transpose(x[:,k] - x_mean)) for k in range(K)) / (K - 1)\n",
    "    return S"
   ]
  },
  {
   "cell_type": "code",
   "execution_count": 8,
   "metadata": {
    "collapsed": false
   },
   "outputs": [],
   "source": [
    "# load path-link incidence matrix\n",
    "A = zload('../temp_files/path-link_incidence_matrix.pkz')"
   ]
  },
  {
   "cell_type": "code",
   "execution_count": 9,
   "metadata": {
    "collapsed": false
   },
   "outputs": [],
   "source": [
    "# load link counts data\n",
    "\n",
    "import json\n",
    "\n",
    "with open('../temp_files/link_day_minute_Apr_dict_JSON.json', 'r') as json_file:\n",
    "    link_day_minute_Apr_dict_JSON = json.load(json_file)"
   ]
  },
  {
   "cell_type": "code",
   "execution_count": 10,
   "metadata": {
    "collapsed": true
   },
   "outputs": [],
   "source": [
    "week_day_Apr_list = [2, 3, 4, 5, 6, 9, 10, 11, 12, 13, 16, 17, 18, 19, 20, 23, 24, 25, 26, 27, 30]"
   ]
  },
  {
   "cell_type": "code",
   "execution_count": 11,
   "metadata": {
    "collapsed": false
   },
   "outputs": [],
   "source": [
    "link_day_minute_Apr_list = []\n",
    "for link_idx in range(24):\n",
    "    for day in week_day_Apr_list: \n",
    "        for minute_idx in range(120):\n",
    "            key = 'link_' + str(link_idx) + '_' + str(day)\n",
    "            link_day_minute_Apr_list.append(link_day_minute_Apr_dict_JSON[key] ['MD_flow_minute'][minute_idx])"
   ]
  },
  {
   "cell_type": "code",
   "execution_count": 12,
   "metadata": {
    "collapsed": false
   },
   "outputs": [
    {
     "data": {
      "text/plain": [
       "60480"
      ]
     },
     "execution_count": 12,
     "metadata": {},
     "output_type": "execute_result"
    }
   ],
   "source": [
    "len(link_day_minute_Apr_list)"
   ]
  },
  {
   "cell_type": "code",
   "execution_count": 13,
   "metadata": {
    "collapsed": false
   },
   "outputs": [],
   "source": [
    "x = np.matrix(link_day_minute_Apr_list)\n",
    "x = np.matrix.reshape(x, 24, 2520)\n",
    "\n",
    "x = np.nan_to_num(x)\n",
    "y = np.array(np.transpose(x))\n",
    "y = y[np.all(y != 0, axis=1)]\n",
    "x = np.transpose(y)\n",
    "x = np.matrix(x)"
   ]
  },
  {
   "cell_type": "code",
   "execution_count": 14,
   "metadata": {
    "collapsed": false
   },
   "outputs": [
    {
     "data": {
      "text/plain": [
       "(24, 2520)"
      ]
     },
     "execution_count": 14,
     "metadata": {},
     "output_type": "execute_result"
    }
   ],
   "source": [
    "np.size(x, 0), np.size(x, 1)"
   ]
  },
  {
   "cell_type": "code",
   "execution_count": 15,
   "metadata": {
    "collapsed": false
   },
   "outputs": [
    {
     "data": {
      "text/plain": [
       "matrix([[  4054.27745605,   3357.3984904 ],\n",
       "        [  4325.51681309,   4678.20980891],\n",
       "        [  7033.59877281,   6453.67986055],\n",
       "        [  5559.94078391,   6512.51029391],\n",
       "        [  8993.26083982,   6470.39530625],\n",
       "        [  5764.77301069,   5313.77310057],\n",
       "        [  5718.38069914,   4333.41422322],\n",
       "        [  4358.45760101,   5367.74844054],\n",
       "        [  6090.65904116,   8051.29662464],\n",
       "        [  5590.52387593,   5879.329336  ],\n",
       "        [ 10103.59423016,   7219.81802949],\n",
       "        [  6712.57890522,   9235.92014542],\n",
       "        [  5549.75848202,   3445.95657912],\n",
       "        [  4936.30363816,   2998.73689879],\n",
       "        [  2607.53454639,   4553.68429623],\n",
       "        [  3511.46242948,   1619.19983651],\n",
       "        [  5487.88656664,   5627.53659871],\n",
       "        [  3856.26600126,   5116.61759177],\n",
       "        [  9129.10897488,  10057.80926054],\n",
       "        [  4968.48273056,   5006.21682966],\n",
       "        [ 10626.27438914,   5557.25162458],\n",
       "        [  5629.17649226,   4852.06087378],\n",
       "        [  5642.98651953,   3052.02167536],\n",
       "        [  4413.35031719,   5895.48116557]])"
      ]
     },
     "execution_count": 15,
     "metadata": {},
     "output_type": "execute_result"
    }
   ],
   "source": [
    "x[:,:2]"
   ]
  },
  {
   "cell_type": "code",
   "execution_count": 16,
   "metadata": {
    "collapsed": false
   },
   "outputs": [
    {
     "data": {
      "text/plain": [
       "(24, 140)"
      ]
     },
     "execution_count": 16,
     "metadata": {},
     "output_type": "execute_result"
    }
   ],
   "source": [
    "np.size(A,0), np.size(A,1)"
   ]
  },
  {
   "cell_type": "code",
   "execution_count": 17,
   "metadata": {
    "collapsed": false
   },
   "outputs": [
    {
     "name": "stdout",
     "output_type": "stream",
     "text": [
      "Optimize a model with 56 rows, 56 columns and 56 nonzeros\n",
      "Model has 1596 quadratic objective terms\n",
      "Coefficient statistics:\n",
      "  Matrix range    [1e+00, 1e+00]\n",
      "  Objective range [9e-02, 3e+01]\n",
      "  Bounds range    [0e+00, 0e+00]\n",
      "  RHS range       [0e+00, 0e+00]\n",
      "Presolve removed 56 rows and 0 columns\n",
      "Presolve time: 0.00s\n",
      "Presolved: 0 rows, 56 columns, 0 nonzeros\n",
      "Presolved model has 1596 quadratic objective terms\n",
      "Ordering time: 0.00s\n",
      "\n",
      "Barrier statistics:\n",
      " Free vars  : 24\n",
      " AA' NZ     : 2.760e+02\n",
      " Factor NZ  : 3.000e+02\n",
      " Factor Ops : 4.900e+03 (less than 1 second per iteration)\n",
      " Threads    : 1\n",
      "\n",
      "                  Objective                Residual\n",
      "Iter       Primal          Dual         Primal    Dual     Compl     Time\n",
      "   0  -6.85128387e+06  0.00000000e+00  8.06e+03 4.37e+02  8.37e+05     0s\n",
      "   1   1.78545337e+06 -4.15929640e+06  2.30e+02 2.44e+01  1.33e+05     0s\n",
      "   2  -7.21700940e+04 -1.11633499e+06  2.30e-04 1.14e-13  1.86e+04     0s\n",
      "   3  -3.41323251e+05 -4.68023052e+05  3.29e-06 2.84e-14  2.26e+03     0s\n",
      "   4  -3.63936410e+05 -3.77469027e+05  1.53e-11 2.84e-14  2.42e+02     0s\n",
      "   5  -3.66316359e+05 -3.66738023e+05  1.14e-12 5.68e-14  7.53e+00     0s\n",
      "   6  -3.66536476e+05 -3.66601793e+05  6.28e-11 2.27e-13  1.17e+00     0s\n",
      "   7  -3.66565101e+05 -3.66569122e+05  1.02e-11 4.26e-14  7.18e-02     0s\n",
      "   8  -3.66567195e+05 -3.66568554e+05  1.25e-11 1.71e-13  2.43e-02     0s\n",
      "   9  -3.66567590e+05 -3.66567615e+05  1.38e-11 8.53e-14  4.60e-04     0s\n",
      "  10  -3.66567602e+05 -3.66567602e+05  2.42e-11 1.14e-13  6.03e-07     0s\n",
      "  11  -3.66567602e+05 -3.66567602e+05  3.52e-12 5.68e-14  1.23e-08     0s\n",
      "  12  -3.66567602e+05 -3.66567602e+05  3.41e-13 1.14e-10  9.92e-10     0s\n",
      "\n",
      "Barrier solved model in 12 iterations and 0.02 seconds\n",
      "Optimal objective -3.66567602e+05\n",
      "\n",
      "lam_0 8.54649e-10\n",
      "lam_1 9049.05\n",
      "lam_2 9.81683e-10\n",
      "lam_3 5.5261e-07\n",
      "lam_4 2058.74\n",
      "lam_5 9.22746e-07\n",
      "lam_6 2.24085e-07\n",
      "lam_7 2469.22\n",
      "lam_8 1.07379e-09\n",
      "lam_9 5265.2\n",
      "lam_10 1.0717e-09\n",
      "lam_11 1.07378e-09\n",
      "lam_12 1.07254e-09\n",
      "lam_13 1.07868e-09\n",
      "lam_14 5494.95\n",
      "lam_15 1800.58\n",
      "lam_16 5.49058e-07\n",
      "lam_17 5.53432e-07\n",
      "lam_18 2473.36\n",
      "lam_19 10838.3\n",
      "lam_20 9.20292e-07\n",
      "lam_21 0.00015879\n",
      "lam_22 4901.11\n",
      "lam_23 3.96086e-06\n",
      "lam_24 5005.89\n",
      "lam_25 70.3009\n",
      "lam_26 75.8221\n",
      "lam_27 4793.37\n",
      "lam_28 3.95632e-06\n",
      "lam_29 3.89522e-06\n",
      "lam_30 3.95438e-06\n",
      "lam_31 3506.4\n",
      "lam_32 5161.54\n",
      "lam_33 3747.73\n",
      "lam_34 1375.25\n",
      "lam_35 2471.62\n",
      "lam_36 1386.2\n",
      "lam_37 1.90836e-05\n",
      "lam_38 808.735\n",
      "lam_39 3138.52\n",
      "lam_40 3032.53\n",
      "lam_41 968.931\n",
      "lam_42 7.35564e-06\n",
      "lam_43 8.11433e-06\n",
      "lam_44 13503\n",
      "lam_45 37.4195\n",
      "lam_46 608.92\n",
      "lam_47 704.16\n",
      "lam_48 2367.54\n",
      "lam_49 8.70937e-06\n",
      "lam_50 1.0656e-05\n",
      "lam_51 7.43425e-06\n",
      "lam_52 3937.57\n",
      "lam_53 280.551\n",
      "lam_54 344.233\n",
      "lam_55 3862.86\n",
      "Obj: -366557\n"
     ]
    }
   ],
   "source": [
    "from gurobipy import *\n",
    "\n",
    "L = 56  # dimension of lam\n",
    "\n",
    "K = np.size(x, 1)\n",
    "S = samp_cov(x)\n",
    "inv_S = inv(S)\n",
    "\n",
    "A_t = np.transpose(A)\n",
    "P_t = np.transpose(P)\n",
    "# PA'\n",
    "PA_t = np.dot(P, A_t)\n",
    "# AP_t\n",
    "AP_t = np.transpose(PA_t)\n",
    "\n",
    "Q = np.dot(np.dot(PA_t, inv_S), AP_t)\n",
    "b = sum([np.dot(np.dot(PA_t, inv_S), x[:, k]) for k in range(K)])\n",
    "\n",
    "\n",
    "model = Model(\"OD_matrix_estimation\")\n",
    "\n",
    "lam = []\n",
    "for l in range(L):\n",
    "    lam.append(model.addVar(name='lam_' + str(l)))\n",
    "\n",
    "model.update() \n",
    "\n",
    "# Set objective: (K/2) lam' * Q * lam - b' * lam\n",
    "obj = 0\n",
    "for i in range(L):\n",
    "    for j in range(L):\n",
    "        obj += (1.0 /2) * K * lam[i] * Q[i, j] * lam[j]\n",
    "for l in range(L):\n",
    "    obj += - b[l] * lam[l]\n",
    "model.setObjective(obj)\n",
    "\n",
    "# Add constraint: lam >= 0\n",
    "for l in range(L):\n",
    "    model.addConstr(lam[l] >= 0)\n",
    "\n",
    "model.update() \n",
    "\n",
    "model.optimize()\n",
    "\n",
    "lam_list = []\n",
    "for v in model.getVars():\n",
    "    print('%s %g' % (v.varName, v.x))\n",
    "    lam_list.append(v.x)\n",
    "print('Obj: %g' % obj.getValue())"
   ]
  },
  {
   "cell_type": "code",
   "execution_count": 18,
   "metadata": {
    "collapsed": false
   },
   "outputs": [],
   "source": [
    "# write estimation result to file\n",
    "n = 8  # number of nodes\n",
    "with open('../temp_files/OD_demand_matrix_Apr_weekday_MD.txt', 'w') as the_file:\n",
    "    idx = 0\n",
    "    for i in range(n + 1)[1:]:\n",
    "        for j in range(n + 1)[1:]:\n",
    "            if i != j: \n",
    "                the_file.write(\"%d,%d,%f\\n\" %(i, j, lam_list[idx]))\n",
    "                idx += 1"
   ]
  },
  {
   "cell_type": "code",
   "execution_count": 19,
   "metadata": {
    "collapsed": false
   },
   "outputs": [
    {
     "data": {
      "text/plain": [
       "[8.546493573131865e-10,\n",
       " 9049.049299622602,\n",
       " 9.816834008165531e-10,\n",
       " 5.52610338104443e-07,\n",
       " 2058.740891625823,\n",
       " 9.227459005934632e-07,\n",
       " 2.2408451228153092e-07,\n",
       " 2469.2221396911605,\n",
       " 1.0737853121266246e-09,\n",
       " 5265.199257294281,\n",
       " 1.07170252675216e-09,\n",
       " 1.073781694478912e-09,\n",
       " 1.0725384127739955e-09,\n",
       " 1.0786798346086824e-09,\n",
       " 5494.952967978289,\n",
       " 1800.5806899942388,\n",
       " 5.490576195496414e-07,\n",
       " 5.534319943040927e-07,\n",
       " 2473.363445983496,\n",
       " 10838.2687893305,\n",
       " 9.202918785295598e-07,\n",
       " 0.00015879023873487629,\n",
       " 4901.1105742916925,\n",
       " 3.960858749725616e-06,\n",
       " 5005.889329206605,\n",
       " 70.30090538668935,\n",
       " 75.82210230779071,\n",
       " 4793.371468253723,\n",
       " 3.95632011757628e-06,\n",
       " 3.8952241674603705e-06,\n",
       " 3.954383916281303e-06,\n",
       " 3506.3958147840162,\n",
       " 5161.53900853867,\n",
       " 3747.7332202487682,\n",
       " 1375.2457432075023,\n",
       " 2471.6158868550033,\n",
       " 1386.1958669281921,\n",
       " 1.9083638965420213e-05,\n",
       " 808.7350315798872,\n",
       " 3138.518104694666,\n",
       " 3032.528825679184,\n",
       " 968.9309904952413,\n",
       " 7.35563790237029e-06,\n",
       " 8.114332951124066e-06,\n",
       " 13502.995350387382,\n",
       " 37.41951730521964,\n",
       " 608.9201515944741,\n",
       " 704.1601432622191,\n",
       " 2367.538874338663,\n",
       " 8.709370991994342e-06,\n",
       " 1.0655958361563433e-05,\n",
       " 7.4342503803951385e-06,\n",
       " 3937.5700254600442,\n",
       " 280.551409790687,\n",
       " 344.23346589225997,\n",
       " 3862.8599786425166]"
      ]
     },
     "execution_count": 19,
     "metadata": {},
     "output_type": "execute_result"
    }
   ],
   "source": [
    "lam_list"
   ]
  },
  {
   "cell_type": "code",
   "execution_count": null,
   "metadata": {
    "collapsed": true
   },
   "outputs": [],
   "source": []
  }
 ],
 "metadata": {
  "kernelspec": {
   "display_name": "Python 2",
   "language": "python",
   "name": "python2"
  },
  "language_info": {
   "codemirror_mode": {
    "name": "ipython",
    "version": 2
   },
   "file_extension": ".py",
   "mimetype": "text/x-python",
   "name": "python",
   "nbconvert_exporter": "python",
   "pygments_lexer": "ipython2",
   "version": "2.7.11"
  }
 },
 "nbformat": 4,
 "nbformat_minor": 0
}
