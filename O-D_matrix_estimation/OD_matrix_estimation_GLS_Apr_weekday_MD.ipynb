{
 "cells": [
  {
   "cell_type": "code",
   "execution_count": 1,
   "metadata": {
    "collapsed": true
   },
   "outputs": [],
   "source": [
    "%run ../Python_files/util_data_storage_and_load.py"
   ]
  },
  {
   "cell_type": "code",
   "execution_count": 2,
   "metadata": {
    "collapsed": true
   },
   "outputs": [],
   "source": [
    "%run ../Python_files/load_dicts.py"
   ]
  },
  {
   "cell_type": "code",
   "execution_count": 3,
   "metadata": {
    "collapsed": false
   },
   "outputs": [],
   "source": [
    "%run ../Python_files/util.py"
   ]
  },
  {
   "cell_type": "code",
   "execution_count": 4,
   "metadata": {
    "collapsed": true
   },
   "outputs": [],
   "source": [
    "# load logit_route_choice_probability_matrix\n",
    "P = zload('../temp_files/logit_route_choice_probability_matrix.pkz')"
   ]
  },
  {
   "cell_type": "code",
   "execution_count": 5,
   "metadata": {
    "collapsed": false
   },
   "outputs": [],
   "source": [
    "import numpy as np\n",
    "from numpy.linalg import inv\n",
    "\n",
    "P = np.matrix(P)"
   ]
  },
  {
   "cell_type": "code",
   "execution_count": 6,
   "metadata": {
    "collapsed": false
   },
   "outputs": [
    {
     "data": {
      "text/plain": [
       "(56, 140)"
      ]
     },
     "execution_count": 6,
     "metadata": {},
     "output_type": "execute_result"
    }
   ],
   "source": [
    "np.size(P, 0), np.size(P, 1)"
   ]
  },
  {
   "cell_type": "code",
   "execution_count": 7,
   "metadata": {
    "collapsed": true
   },
   "outputs": [],
   "source": [
    "import numpy as np\n",
    "from numpy.linalg import inv\n",
    "\n",
    "def samp_cov(x):\n",
    "    \"\"\"\n",
    "    x: sample matrix, each column is a link flow vector sample; 24 * K\n",
    "    K: number of samples\n",
    "    S: sample covariance matrix\n",
    "    ----------------\n",
    "    return: inv(S)\n",
    "    ----------------\n",
    "    \"\"\"\n",
    "    x = np.matrix(x)\n",
    "    K = np.size(x, 1)\n",
    "    x_mean = sum(x[:,k] for k in range(K)) / K\n",
    "    S = sum(np.dot(x[:,k] - x_mean, np.transpose(x[:,k] - x_mean)) for k in range(K)) / (K - 1)\n",
    "    return S"
   ]
  },
  {
   "cell_type": "code",
   "execution_count": 8,
   "metadata": {
    "collapsed": false
   },
   "outputs": [],
   "source": [
    "# load path-link incidence matrix\n",
    "A = zload('../temp_files/path-link_incidence_matrix.pkz')"
   ]
  },
  {
   "cell_type": "code",
   "execution_count": 9,
   "metadata": {
    "collapsed": false
   },
   "outputs": [],
   "source": [
    "# load link counts data\n",
    "\n",
    "import json\n",
    "\n",
    "with open('../temp_files/link_day_minute_Apr_dict_JSON.json', 'r') as json_file:\n",
    "    link_day_minute_Apr_dict_JSON = json.load(json_file)"
   ]
  },
  {
   "cell_type": "code",
   "execution_count": 10,
   "metadata": {
    "collapsed": true
   },
   "outputs": [],
   "source": [
    "week_day_Apr_list = [2, 3, 4, 5, 6, 9, 10, 11, 12, 13, 16, 17, 18, 19, 20, 23, 24, 25, 26, 27, 30]"
   ]
  },
  {
   "cell_type": "code",
   "execution_count": 11,
   "metadata": {
    "collapsed": false
   },
   "outputs": [],
   "source": [
    "link_day_minute_Apr_list = []\n",
    "for link_idx in range(24):\n",
    "    for day in week_day_Apr_list: \n",
    "        for minute_idx in range(120):\n",
    "            key = 'link_' + str(link_idx) + '_' + str(day)\n",
    "            link_day_minute_Apr_list.append(link_day_minute_Apr_dict_JSON[key] ['MD_flow_minute'][minute_idx])"
   ]
  },
  {
   "cell_type": "code",
   "execution_count": 12,
   "metadata": {
    "collapsed": false
   },
   "outputs": [
    {
     "data": {
      "text/plain": [
       "60480"
      ]
     },
     "execution_count": 12,
     "metadata": {},
     "output_type": "execute_result"
    }
   ],
   "source": [
    "len(link_day_minute_Apr_list)"
   ]
  },
  {
   "cell_type": "code",
   "execution_count": 13,
   "metadata": {
    "collapsed": false
   },
   "outputs": [],
   "source": [
    "x = np.matrix(link_day_minute_Apr_list)\n",
    "x = np.matrix.reshape(x, 24, 2520)\n",
    "\n",
    "x = np.nan_to_num(x)\n",
    "y = np.array(np.transpose(x))\n",
    "y = y[np.all(y != 0, axis=1)]\n",
    "x = np.transpose(y)\n",
    "x = np.matrix(x)"
   ]
  },
  {
   "cell_type": "code",
   "execution_count": 14,
   "metadata": {
    "collapsed": false
   },
   "outputs": [
    {
     "data": {
      "text/plain": [
       "(24, 2520)"
      ]
     },
     "execution_count": 14,
     "metadata": {},
     "output_type": "execute_result"
    }
   ],
   "source": [
    "np.size(x, 0), np.size(x, 1)"
   ]
  },
  {
   "cell_type": "code",
   "execution_count": 15,
   "metadata": {
    "collapsed": false
   },
   "outputs": [
    {
     "data": {
      "text/plain": [
       "matrix([[  638717.30458734,   639265.7632429 ],\n",
       "        [  677226.07891317,   677047.2798253 ],\n",
       "        [ 1201092.48317194,  1206589.90847691],\n",
       "        [ 1238377.97511772,  1264408.99515883],\n",
       "        [  324342.0945821 ,   315812.37518491],\n",
       "        [  402316.51685467,   396726.80484764],\n",
       "        [  786270.61263762,   766612.07577184],\n",
       "        [  779845.97374637,   782186.99964509],\n",
       "        [  730965.96926564,   728562.67052238],\n",
       "        [  743465.02563257,   731694.26725741],\n",
       "        [  763821.42476145,   737182.55198116],\n",
       "        [  643928.53578403,   662958.85970479],\n",
       "        [  184587.57818664,   171665.08096128],\n",
       "        [  187662.86284534,   185937.19043929],\n",
       "        [  289492.02033941,   295412.65662866],\n",
       "        [  260936.98240509,   266527.34250996],\n",
       "        [  403671.48329635,   410312.75856755],\n",
       "        [  405872.08533654,   412976.13427638],\n",
       "        [  652967.70630269,   652046.65250106],\n",
       "        [  604919.97682616,   589420.06186834],\n",
       "        [ 1007412.11155524,  1001545.73373843],\n",
       "        [ 1013979.20706156,  1017541.01497882],\n",
       "        [  259848.93790784,   252195.04950087],\n",
       "        [  261694.48221613,   266219.99115546]])"
      ]
     },
     "execution_count": 15,
     "metadata": {},
     "output_type": "execute_result"
    }
   ],
   "source": [
    "x[:,:2]"
   ]
  },
  {
   "cell_type": "code",
   "execution_count": 16,
   "metadata": {
    "collapsed": false
   },
   "outputs": [
    {
     "data": {
      "text/plain": [
       "(24, 140)"
      ]
     },
     "execution_count": 16,
     "metadata": {},
     "output_type": "execute_result"
    }
   ],
   "source": [
    "np.size(A,0), np.size(A,1)"
   ]
  },
  {
   "cell_type": "code",
   "execution_count": 17,
   "metadata": {
    "collapsed": false
   },
   "outputs": [
    {
     "name": "stdout",
     "output_type": "stream",
     "text": [
      "Optimize a model with 56 rows, 56 columns and 56 nonzeros\n",
      "Model has 1596 quadratic objective terms\n",
      "Coefficient statistics:\n",
      "  Matrix range    [1e+00, 1e+00]\n",
      "  Objective range [9e-02, 4e+01]\n",
      "  Bounds range    [0e+00, 0e+00]\n",
      "  RHS range       [0e+00, 0e+00]\n",
      "Presolve removed 56 rows and 0 columns\n",
      "Presolve time: 0.00s\n",
      "Presolved: 0 rows, 56 columns, 0 nonzeros\n",
      "Presolved model has 1596 quadratic objective terms\n",
      "Ordering time: 0.00s\n",
      "\n",
      "Barrier statistics:\n",
      " Free vars  : 24\n",
      " AA' NZ     : 2.760e+02\n",
      " Factor NZ  : 3.000e+02\n",
      " Factor Ops : 4.900e+03 (less than 1 second per iteration)\n",
      " Threads    : 1\n",
      "\n",
      "                  Objective                Residual\n",
      "Iter       Primal          Dual         Primal    Dual     Compl     Time\n",
      "   0  -4.33200271e+07  0.00000000e+00  5.92e+03 2.77e+03  1.00e+06     0s\n",
      "   1  -4.30227487e+07 -1.17021225e+07  2.07e+03 9.69e+02  3.63e+05     0s\n",
      "   2  -3.83730178e+07 -4.50817066e+07  7.36e+01 3.45e+01  1.71e+05     0s\n",
      "   3  -3.90503854e+07 -4.00361780e+07  7.36e-05 3.45e-05  1.76e+04     0s\n",
      "   4  -3.92467218e+07 -3.93567826e+07  1.91e-06 8.95e-07  1.97e+03     0s\n",
      "   5  -3.92764933e+07 -3.92851379e+07  3.52e-08 1.65e-08  1.54e+02     0s\n",
      "   6  -3.92811575e+07 -3.92831732e+07  5.55e-11 9.09e-13  3.60e+01     0s\n",
      "   7  -3.92818304e+07 -3.92819730e+07  1.14e-11 6.25e-13  2.55e+00     0s\n",
      "   8  -3.92819008e+07 -3.92819174e+07  6.37e-12 4.55e-13  2.97e-01     0s\n",
      "   9  -3.92819111e+07 -3.92819119e+07  1.00e-11 4.55e-13  1.42e-02     0s\n",
      "  10  -3.92819115e+07 -3.92819115e+07  2.27e-11 5.68e-13  1.42e-05     0s\n",
      "  11  -3.92819115e+07 -3.92819115e+07  1.23e-11 1.38e-11  3.14e-08     0s\n",
      "  12  -3.92819115e+07 -3.92819115e+07  1.82e-12 1.53e-11  3.16e-11     0s\n",
      "\n",
      "Barrier solved model in 12 iterations and 0.01 seconds\n",
      "Optimal objective -3.92819115e+07\n",
      "\n",
      "lam_0 7.24659e-11\n",
      "lam_1 478818\n",
      "lam_2 315799\n",
      "lam_3 3.26772e-08\n",
      "lam_4 193395\n",
      "lam_5 4.66638e-08\n",
      "lam_6 5.91478e-08\n",
      "lam_7 2.39968e-10\n",
      "lam_8 4.48129e-12\n",
      "lam_9 353777\n",
      "lam_10 4.48061e-12\n",
      "lam_11 4.48129e-12\n",
      "lam_12 4.48084e-12\n",
      "lam_13 4.51104e-12\n",
      "lam_14 212274\n",
      "lam_15 8.2525e-12\n",
      "lam_16 2.62867e-09\n",
      "lam_17 3.19729e-08\n",
      "lam_18 599217\n",
      "lam_19 577031\n",
      "lam_20 5.61015e-08\n",
      "lam_21 236317\n",
      "lam_22 555172\n",
      "lam_23 6.24418e-09\n",
      "lam_24 77396\n",
      "lam_25 41022.9\n",
      "lam_26 6.49558e-08\n",
      "lam_27 365687\n",
      "lam_28 800984\n",
      "lam_29 8.25247e-12\n",
      "lam_30 5.36933e-09\n",
      "lam_31 130752\n",
      "lam_32 198586\n",
      "lam_33 2.9393e-09\n",
      "lam_34 191009\n",
      "lam_35 637420\n",
      "lam_36 8.25247e-12\n",
      "lam_37 5.51965e-09\n",
      "lam_38 8.50892e-08\n",
      "lam_39 366354\n",
      "lam_40 742432\n",
      "lam_41 21139.8\n",
      "lam_42 1.82302e-08\n",
      "lam_43 8.24884e-12\n",
      "lam_44 4.5756e-09\n",
      "lam_45 8.62438e-09\n",
      "lam_46 304018\n",
      "lam_47 983861\n",
      "lam_48 17859.3\n",
      "lam_49 3.22866e-09\n",
      "lam_50 8.33636e-12\n",
      "lam_51 3.21134e-09\n",
      "lam_52 362746\n",
      "lam_53 256809\n",
      "lam_54 3.93058e-09\n",
      "lam_55 3.91226e-09\n",
      "Obj: -3.92747e+07\n"
     ]
    }
   ],
   "source": [
    "from gurobipy import *\n",
    "\n",
    "L = 56  # dimension of lam\n",
    "\n",
    "K = np.size(x, 1)\n",
    "S = samp_cov(x)\n",
    "inv_S = inv(S)\n",
    "\n",
    "A_t = np.transpose(A)\n",
    "P_t = np.transpose(P)\n",
    "# PA'\n",
    "PA_t = np.dot(P, A_t)\n",
    "# AP_t\n",
    "AP_t = np.transpose(PA_t)\n",
    "\n",
    "Q = np.dot(np.dot(PA_t, inv_S), AP_t)\n",
    "b = sum([np.dot(np.dot(PA_t, inv_S), x[:, k]) for k in range(K)])\n",
    "\n",
    "\n",
    "model = Model(\"OD_matrix_estimation\")\n",
    "\n",
    "lam = []\n",
    "for l in range(L):\n",
    "    lam.append(model.addVar(name='lam_' + str(l)))\n",
    "\n",
    "model.update() \n",
    "\n",
    "# Set objective: (K/2) lam' * Q * lam - b * lam\n",
    "obj = 0\n",
    "for i in range(L):\n",
    "    for j in range(L):\n",
    "        obj += (1.0 /2) * K * lam[i] * Q[i, j] * lam[j]\n",
    "for l in range(L):\n",
    "    obj += - b[l] * lam[l]\n",
    "model.setObjective(obj)\n",
    "\n",
    "# Add constraint: lam >= 0\n",
    "for l in range(L):\n",
    "    model.addConstr(lam[l] >= 0)\n",
    "\n",
    "model.update() \n",
    "\n",
    "model.optimize()\n",
    "\n",
    "lam_list = []\n",
    "for v in model.getVars():\n",
    "    print('%s %g' % (v.varName, v.x))\n",
    "    lam_list.append(v.x)\n",
    "print('Obj: %g' % obj.getValue())"
   ]
  },
  {
   "cell_type": "code",
   "execution_count": 18,
   "metadata": {
    "collapsed": false
   },
   "outputs": [],
   "source": [
    "# write estimation result to file\n",
    "n = 8  # number of nodes\n",
    "with open('../temp_files/OD_demand_matrix_Apr_weekday_MD.txt', 'w') as the_file:\n",
    "    idx = 0\n",
    "    for i in range(n + 1)[1:]:\n",
    "        for j in range(n + 1)[1:]:\n",
    "            if i != j: \n",
    "                the_file.write(\"%d,%d,%f\\n\" %(i, j, lam_list[idx]))\n",
    "                idx += 1"
   ]
  },
  {
   "cell_type": "code",
   "execution_count": 19,
   "metadata": {
    "collapsed": false
   },
   "outputs": [
    {
     "data": {
      "text/plain": [
       "[7.24659319171314e-11,\n",
       " 478818.35086736834,\n",
       " 315798.53580496024,\n",
       " 3.267717941727303e-08,\n",
       " 193395.0774002348,\n",
       " 4.666379833339734e-08,\n",
       " 5.914775723782177e-08,\n",
       " 2.3996807324873307e-10,\n",
       " 4.481294618606095e-12,\n",
       " 353777.328797801,\n",
       " 4.4806096371328195e-12,\n",
       " 4.481286292886818e-12,\n",
       " 4.480838683815012e-12,\n",
       " 4.511037427103197e-12,\n",
       " 212273.8222353439,\n",
       " 8.252500170731958e-12,\n",
       " 2.628666372835312e-09,\n",
       " 3.1972925165467685e-08,\n",
       " 599216.9587146047,\n",
       " 577031.1174528877,\n",
       " 5.610147631814646e-08,\n",
       " 236316.9975221075,\n",
       " 555171.7642079358,\n",
       " 6.244180993665154e-09,\n",
       " 77395.99152915218,\n",
       " 41022.896571824094,\n",
       " 6.495582754935695e-08,\n",
       " 365687.4887320606,\n",
       " 800983.733773289,\n",
       " 8.252473728540484e-12,\n",
       " 5.369328052857925e-09,\n",
       " 130752.46046628794,\n",
       " 198585.6772597659,\n",
       " 2.9392976443080416e-09,\n",
       " 191008.78615581978,\n",
       " 637419.7461524124,\n",
       " 8.252473614588083e-12,\n",
       " 5.519647047952232e-09,\n",
       " 8.508917981305344e-08,\n",
       " 366354.26614050753,\n",
       " 742431.6162563949,\n",
       " 21139.79197624337,\n",
       " 1.8230163055090527e-08,\n",
       " 8.248837430335354e-12,\n",
       " 4.5755993372241735e-09,\n",
       " 8.624383024066163e-09,\n",
       " 304017.9373396009,\n",
       " 983861.1368134586,\n",
       " 17859.311296550335,\n",
       " 3.2286563997385696e-09,\n",
       " 8.33636425111062e-12,\n",
       " 3.211342679091392e-09,\n",
       " 362746.08824203705,\n",
       " 256808.99232592914,\n",
       " 3.93058045783618e-09,\n",
       " 3.912261302996797e-09]"
      ]
     },
     "execution_count": 19,
     "metadata": {},
     "output_type": "execute_result"
    }
   ],
   "source": [
    "lam_list"
   ]
  },
  {
   "cell_type": "code",
   "execution_count": null,
   "metadata": {
    "collapsed": true
   },
   "outputs": [],
   "source": []
  }
 ],
 "metadata": {
  "kernelspec": {
   "display_name": "Python 2",
   "language": "python",
   "name": "python2"
  },
  "language_info": {
   "codemirror_mode": {
    "name": "ipython",
    "version": 2
   },
   "file_extension": ".py",
   "mimetype": "text/x-python",
   "name": "python",
   "nbconvert_exporter": "python",
   "pygments_lexer": "ipython2",
   "version": "2.7.11"
  }
 },
 "nbformat": 4,
 "nbformat_minor": 0
}
