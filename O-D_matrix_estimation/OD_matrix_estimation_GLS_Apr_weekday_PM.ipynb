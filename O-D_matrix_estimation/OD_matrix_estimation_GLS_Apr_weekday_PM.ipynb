{
 "cells": [
  {
   "cell_type": "code",
   "execution_count": 1,
   "metadata": {
    "collapsed": true
   },
   "outputs": [],
   "source": [
    "%run ../Python_files/util_data_storage_and_load.py"
   ]
  },
  {
   "cell_type": "code",
   "execution_count": 2,
   "metadata": {
    "collapsed": true
   },
   "outputs": [],
   "source": [
    "%run ../Python_files/load_dicts.py"
   ]
  },
  {
   "cell_type": "code",
   "execution_count": 3,
   "metadata": {
    "collapsed": false
   },
   "outputs": [],
   "source": [
    "%run ../Python_files/util.py"
   ]
  },
  {
   "cell_type": "code",
   "execution_count": 4,
   "metadata": {
    "collapsed": true
   },
   "outputs": [],
   "source": [
    "# load logit_route_choice_probability_matrix\n",
    "P = zload('../temp_files/logit_route_choice_probability_matrix.pkz')"
   ]
  },
  {
   "cell_type": "code",
   "execution_count": 5,
   "metadata": {
    "collapsed": false
   },
   "outputs": [],
   "source": [
    "import numpy as np\n",
    "from numpy.linalg import inv\n",
    "\n",
    "P = np.matrix(P)"
   ]
  },
  {
   "cell_type": "code",
   "execution_count": 6,
   "metadata": {
    "collapsed": false
   },
   "outputs": [
    {
     "data": {
      "text/plain": [
       "(56, 140)"
      ]
     },
     "execution_count": 6,
     "metadata": {},
     "output_type": "execute_result"
    }
   ],
   "source": [
    "np.size(P, 0), np.size(P, 1)"
   ]
  },
  {
   "cell_type": "code",
   "execution_count": 7,
   "metadata": {
    "collapsed": true
   },
   "outputs": [],
   "source": [
    "import numpy as np\n",
    "from numpy.linalg import inv\n",
    "\n",
    "def samp_cov(x):\n",
    "    \"\"\"\n",
    "    x: sample matrix, each column is a link flow vector sample; 24 * K\n",
    "    K: number of samples\n",
    "    S: sample covariance matrix\n",
    "    ----------------\n",
    "    return: inv(S)\n",
    "    ----------------\n",
    "    \"\"\"\n",
    "    x = np.matrix(x)\n",
    "    K = np.size(x, 1)\n",
    "    x_mean = sum(x[:,k] for k in range(K)) / K\n",
    "    S = sum(np.dot(x[:,k] - x_mean, np.transpose(x[:,k] - x_mean)) for k in range(K)) / (K - 1)\n",
    "    return S"
   ]
  },
  {
   "cell_type": "code",
   "execution_count": 8,
   "metadata": {
    "collapsed": false
   },
   "outputs": [],
   "source": [
    "# load path-link incidence matrix\n",
    "A = zload('../temp_files/path-link_incidence_matrix.pkz')"
   ]
  },
  {
   "cell_type": "code",
   "execution_count": 9,
   "metadata": {
    "collapsed": false
   },
   "outputs": [],
   "source": [
    "# load link counts data\n",
    "\n",
    "import json\n",
    "\n",
    "with open('../temp_files/link_day_minute_Apr_dict_JSON.json', 'r') as json_file:\n",
    "    link_day_minute_Apr_dict_JSON = json.load(json_file)"
   ]
  },
  {
   "cell_type": "code",
   "execution_count": 18,
   "metadata": {
    "collapsed": true
   },
   "outputs": [],
   "source": [
    "#week_day_Apr_list = [2, 3, 4, 5, 6, 9, 10, 11, 12, 13, 16, 17, 18, 19, 20, 23, 24, 25, 26, 27, 30]\n",
    "week_day_Apr_list = [2, 9, 16, 23, 30]"
   ]
  },
  {
   "cell_type": "code",
   "execution_count": 19,
   "metadata": {
    "collapsed": false
   },
   "outputs": [],
   "source": [
    "link_day_minute_Apr_list = []\n",
    "for link_idx in range(24):\n",
    "    for day in week_day_Apr_list: \n",
    "        for minute_idx in range(120):\n",
    "            key = 'link_' + str(link_idx) + '_' + str(day)\n",
    "            link_day_minute_Apr_list.append(link_day_minute_Apr_dict_JSON[key] ['PM_flow_minute'][minute_idx])"
   ]
  },
  {
   "cell_type": "code",
   "execution_count": 20,
   "metadata": {
    "collapsed": false
   },
   "outputs": [
    {
     "data": {
      "text/plain": [
       "14400"
      ]
     },
     "execution_count": 20,
     "metadata": {},
     "output_type": "execute_result"
    }
   ],
   "source": [
    "len(link_day_minute_Apr_list)"
   ]
  },
  {
   "cell_type": "code",
   "execution_count": 21,
   "metadata": {
    "collapsed": false
   },
   "outputs": [],
   "source": [
    "x = np.matrix(link_day_minute_Apr_list)\n",
    "x = np.matrix.reshape(x, 24, 600)\n",
    "\n",
    "x = np.nan_to_num(x)\n",
    "y = np.array(np.transpose(x))\n",
    "y = y[np.all(y != 0, axis=1)]\n",
    "x = np.transpose(y)\n",
    "x = np.matrix(x)"
   ]
  },
  {
   "cell_type": "code",
   "execution_count": 22,
   "metadata": {
    "collapsed": false
   },
   "outputs": [
    {
     "data": {
      "text/plain": [
       "(24, 600)"
      ]
     },
     "execution_count": 22,
     "metadata": {},
     "output_type": "execute_result"
    }
   ],
   "source": [
    "np.size(x, 0), np.size(x, 1)"
   ]
  },
  {
   "cell_type": "code",
   "execution_count": 23,
   "metadata": {
    "collapsed": false
   },
   "outputs": [
    {
     "data": {
      "text/plain": [
       "matrix([[ 1254.00148142,  1241.78943889],\n",
       "        [ 1222.48812966,  1211.24697533],\n",
       "        [ 1481.56003823,  1486.90013962],\n",
       "        [ 1569.53102788,  1544.20614226],\n",
       "        [ 1660.22116064,  1597.06527437],\n",
       "        [ 1495.78271149,  1467.67259215],\n",
       "        [ 1252.54023906,  1219.1787853 ],\n",
       "        [ 1298.14408853,  1276.80390391],\n",
       "        [ 1757.41097293,  1680.94036289],\n",
       "        [ 1662.92852878,  1745.490104  ],\n",
       "        [ 1514.50828613,  1585.54721941],\n",
       "        [ 1251.18489395,  1233.25712411],\n",
       "        [ 1173.15949751,  1200.34071961],\n",
       "        [ 1368.04366583,  1358.26559671],\n",
       "        [ 1224.49181757,  1159.10722546],\n",
       "        [ 1059.03985511,  1041.02464249],\n",
       "        [ 1220.97321887,  1197.89080601],\n",
       "        [ 1191.17181189,  1224.46246572],\n",
       "        [ 1577.88491398,  1562.60664768],\n",
       "        [ 1627.90265065,  1646.15341691],\n",
       "        [ 1470.81220719,  1497.64256652],\n",
       "        [ 1419.91432544,  1420.21492615],\n",
       "        [ 1286.41068927,  1242.64759027],\n",
       "        [ 1308.96366346,  1268.73612738]])"
      ]
     },
     "execution_count": 23,
     "metadata": {},
     "output_type": "execute_result"
    }
   ],
   "source": [
    "x[:,:2]"
   ]
  },
  {
   "cell_type": "code",
   "execution_count": 24,
   "metadata": {
    "collapsed": false
   },
   "outputs": [
    {
     "data": {
      "text/plain": [
       "(24, 140)"
      ]
     },
     "execution_count": 24,
     "metadata": {},
     "output_type": "execute_result"
    }
   ],
   "source": [
    "np.size(A,0), np.size(A,1)"
   ]
  },
  {
   "cell_type": "code",
   "execution_count": 25,
   "metadata": {
    "collapsed": false
   },
   "outputs": [
    {
     "name": "stdout",
     "output_type": "stream",
     "text": [
      "Optimize a model with 56 rows, 56 columns and 56 nonzeros\n",
      "Model has 1596 quadratic objective terms\n",
      "Coefficient statistics:\n",
      "  Matrix range    [1e+00, 1e+00]\n",
      "  Objective range [5e+00, 4e+03]\n",
      "  Bounds range    [0e+00, 0e+00]\n",
      "  RHS range       [0e+00, 0e+00]\n",
      "Warning: diagonal adjustment of 7.7e-10 performed to make Q PSD\n",
      "Presolve removed 56 rows and 0 columns\n",
      "Presolve time: 0.00s\n",
      "Presolved: 0 rows, 56 columns, 0 nonzeros\n",
      "Presolved model has 1596 quadratic objective terms\n",
      "Ordering time: 0.00s\n",
      "\n",
      "Barrier statistics:\n",
      " Free vars  : 27\n",
      " AA' NZ     : 3.510e+02\n",
      " Factor NZ  : 3.780e+02\n",
      " Factor Ops : 6.930e+03 (less than 1 second per iteration)\n",
      " Threads    : 1\n",
      "\n",
      "                  Objective                Residual\n",
      "Iter       Primal          Dual         Primal    Dual     Compl     Time\n",
      "   0  -6.19945853e+07  0.00000000e+00  7.11e+03 1.20e+03  1.00e+06     0s\n",
      "   1  -1.22459276e+07 -1.49119564e+07  3.08e+02 5.19e+01  1.51e+05     0s\n",
      "   2  -1.06545465e+07 -1.17680081e+07  1.85e+01 3.11e+00  2.51e+04     0s\n",
      "   3  -1.06649668e+07 -1.07751825e+07  1.85e-05 3.11e-06  1.97e+03     0s\n",
      "   4  -1.06766285e+07 -1.06796932e+07  1.14e-07 1.92e-08  5.47e+01     0s\n",
      "   5  -1.06768227e+07 -1.06768917e+07  6.84e-11 1.59e-12  1.23e+00     0s\n",
      "   6  -1.06768246e+07 -1.06768263e+07  2.50e-11 6.82e-13  2.89e-02     0s\n",
      "   7  -1.06768252e+07 -1.06768255e+07  3.39e-11 2.27e-12  4.90e-03     0s\n",
      "   8  -1.06768252e+07 -1.06768252e+07  2.10e-11 6.82e-13  6.33e-04     0s\n",
      "   9  -1.06768252e+07 -1.06768252e+07  2.34e-11 1.82e-12  8.57e-05     0s\n",
      "  10  -1.06768252e+07 -1.06768252e+07  5.68e-12 9.09e-13  9.60e-06     0s\n",
      "  11  -1.06768252e+07 -1.06768252e+07  5.34e-12 1.36e-12  1.60e-06     0s\n",
      "  12  -1.06768252e+07 -1.06768252e+07  6.59e-12 6.37e-12  5.34e-07     0s\n",
      "  13  -1.06768252e+07 -1.06768252e+07  2.84e-12 1.07e-10  7.38e-08     0s\n",
      "  14  -1.06768252e+07 -1.06768252e+07  9.09e-13 1.26e-10  2.50e-09     0s\n",
      "\n",
      "Barrier solved model in 14 iterations and 0.02 seconds\n",
      "Optimal objective -1.06768252e+07\n",
      "\n",
      "lam_0 1.05264e-11\n",
      "lam_1 1310.95\n",
      "lam_2 1.15546e-11\n",
      "lam_3 880.596\n",
      "lam_4 397.405\n",
      "lam_5 2.03574\n",
      "lam_6 3.48681e-09\n",
      "lam_7 0.000513099\n",
      "lam_8 0.0755541\n",
      "lam_9 1279.01\n",
      "lam_10 0.0651785\n",
      "lam_11 0.0627219\n",
      "lam_12 0.0533408\n",
      "lam_13 450.555\n",
      "lam_14 1899.08\n",
      "lam_15 975.961\n",
      "lam_16 0.0496958\n",
      "lam_17 671.462\n",
      "lam_18 1011.74\n",
      "lam_19 1.52435\n",
      "lam_20 0.88919\n",
      "lam_21 915.668\n",
      "lam_22 683.705\n",
      "lam_23 207.64\n",
      "lam_24 0.0259226\n",
      "lam_25 820.725\n",
      "lam_26 0.0794125\n",
      "lam_27 1214.05\n",
      "lam_28 0.0179571\n",
      "lam_29 0.0231744\n",
      "lam_30 0.018787\n",
      "lam_31 1304.89\n",
      "lam_32 226.896\n",
      "lam_33 443.669\n",
      "lam_34 794.213\n",
      "lam_35 2.65582e-06\n",
      "lam_36 2.65579e-06\n",
      "lam_37 2.65581e-06\n",
      "lam_38 0.0485991\n",
      "lam_39 555.416\n",
      "lam_40 1352.82\n",
      "lam_41 0.678122\n",
      "lam_42 7.17938\n",
      "lam_43 0.262385\n",
      "lam_44 1292.77\n",
      "lam_45 0.0486314\n",
      "lam_46 215.59\n",
      "lam_47 51.115\n",
      "lam_48 0.0708468\n",
      "lam_49 0.00826848\n",
      "lam_50 0.0846015\n",
      "lam_51 1121.08\n",
      "lam_52 1219.43\n",
      "lam_53 0.00871773\n",
      "lam_54 0.00813087\n",
      "lam_55 0.00884204\n",
      "Obj: -1.06768e+07\n"
     ]
    }
   ],
   "source": [
    "from gurobipy import *\n",
    "\n",
    "L = 56  # dimension of lam\n",
    "\n",
    "K = np.size(x, 1)\n",
    "S = samp_cov(x)\n",
    "inv_S = inv(S)\n",
    "\n",
    "A_t = np.transpose(A)\n",
    "P_t = np.transpose(P)\n",
    "# PA'\n",
    "PA_t = np.dot(P, A_t)\n",
    "# AP_t\n",
    "AP_t = np.transpose(PA_t)\n",
    "\n",
    "Q = np.dot(np.dot(PA_t, inv_S), AP_t)\n",
    "b = sum([np.dot(np.dot(PA_t, inv_S), x[:, k]) for k in range(K)])\n",
    "\n",
    "\n",
    "model = Model(\"OD_matrix_estimation\")\n",
    "\n",
    "lam = []\n",
    "for l in range(L):\n",
    "    lam.append(model.addVar(name='lam_' + str(l)))\n",
    "\n",
    "model.update() \n",
    "\n",
    "# Set objective: (K/2) lam' * Q * lam - b * lam\n",
    "obj = 0\n",
    "for i in range(L):\n",
    "    for j in range(L):\n",
    "        obj += (1.0 /2) * K * lam[i] * Q[i, j] * lam[j]\n",
    "for l in range(L):\n",
    "    obj += - b[l] * lam[l]\n",
    "model.setObjective(obj)\n",
    "\n",
    "# Add constraint: lam >= 0\n",
    "for l in range(L):\n",
    "    model.addConstr(lam[l] >= 0)\n",
    "\n",
    "model.update() \n",
    "\n",
    "model.optimize()\n",
    "\n",
    "lam_list = []\n",
    "for v in model.getVars():\n",
    "    print('%s %g' % (v.varName, v.x))\n",
    "    lam_list.append(v.x)\n",
    "print('Obj: %g' % obj.getValue())"
   ]
  },
  {
   "cell_type": "code",
   "execution_count": 26,
   "metadata": {
    "collapsed": false
   },
   "outputs": [],
   "source": [
    "# write estimation result to file\n",
    "n = 8  # number of nodes\n",
    "with open('../temp_files/OD_demand_matrix_Apr_weekday_PM.txt', 'w') as the_file:\n",
    "    idx = 0\n",
    "    for i in range(n + 1)[1:]:\n",
    "        for j in range(n + 1)[1:]:\n",
    "            if i != j: \n",
    "                the_file.write(\"%d,%d,%f\\n\" %(i, j, lam_list[idx]))\n",
    "                idx += 1"
   ]
  },
  {
   "cell_type": "code",
   "execution_count": 27,
   "metadata": {
    "collapsed": false
   },
   "outputs": [
    {
     "data": {
      "text/plain": [
       "[1.052643395408399e-11,\n",
       " 1310.9488674329448,\n",
       " 1.155455579924171e-11,\n",
       " 880.5964984862734,\n",
       " 397.4048992383454,\n",
       " 2.035738075676541,\n",
       " 3.4868066443003174e-09,\n",
       " 0.000513098932623822,\n",
       " 0.07555405582935837,\n",
       " 1279.0054611069954,\n",
       " 0.06517847146807809,\n",
       " 0.06272191248592751,\n",
       " 0.05334077656430747,\n",
       " 450.5554327065889,\n",
       " 1899.0786494414726,\n",
       " 975.9610558016844,\n",
       " 0.04969577262294722,\n",
       " 671.4615126882144,\n",
       " 1011.739293018169,\n",
       " 1.5243463046532497,\n",
       " 0.8891902225533208,\n",
       " 915.6677417436642,\n",
       " 683.7046904202209,\n",
       " 207.6402161491076,\n",
       " 0.02592264212876927,\n",
       " 820.7249224426134,\n",
       " 0.07941253611173948,\n",
       " 1214.0464354710468,\n",
       " 0.017957083788267436,\n",
       " 0.023174350159238077,\n",
       " 0.01878697304925503,\n",
       " 1304.8917157191806,\n",
       " 226.89611839430498,\n",
       " 443.669373785987,\n",
       " 794.2128079565716,\n",
       " 2.6558243895366508e-06,\n",
       " 2.65579320050515e-06,\n",
       " 2.6558132562009423e-06,\n",
       " 0.04859910801635969,\n",
       " 555.4159328639475,\n",
       " 1352.8208426690614,\n",
       " 0.6781215169492896,\n",
       " 7.179384902505561,\n",
       " 0.26238462249706895,\n",
       " 1292.7698549462998,\n",
       " 0.04863137291133546,\n",
       " 215.5895713589188,\n",
       " 51.114975818909116,\n",
       " 0.07084684108690001,\n",
       " 0.00826847674242645,\n",
       " 0.08460148604651518,\n",
       " 1121.0782979464009,\n",
       " 1219.4320513175999,\n",
       " 0.008717732045222415,\n",
       " 0.008130873255178889,\n",
       " 0.008842039657204592]"
      ]
     },
     "execution_count": 27,
     "metadata": {},
     "output_type": "execute_result"
    }
   ],
   "source": [
    "lam_list"
   ]
  },
  {
   "cell_type": "code",
   "execution_count": null,
   "metadata": {
    "collapsed": true
   },
   "outputs": [],
   "source": []
  }
 ],
 "metadata": {
  "kernelspec": {
   "display_name": "Python 2",
   "language": "python",
   "name": "python2"
  },
  "language_info": {
   "codemirror_mode": {
    "name": "ipython",
    "version": 2
   },
   "file_extension": ".py",
   "mimetype": "text/x-python",
   "name": "python",
   "nbconvert_exporter": "python",
   "pygments_lexer": "ipython2",
   "version": "2.7.11"
  }
 },
 "nbformat": 4,
 "nbformat_minor": 0
}
