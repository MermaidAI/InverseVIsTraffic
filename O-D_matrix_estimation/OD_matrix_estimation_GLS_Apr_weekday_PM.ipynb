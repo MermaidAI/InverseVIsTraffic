{
 "cells": [
  {
   "cell_type": "code",
   "execution_count": 1,
   "metadata": {
    "collapsed": true
   },
   "outputs": [],
   "source": [
    "%run ../Python_files/util_data_storage_and_load.py"
   ]
  },
  {
   "cell_type": "code",
   "execution_count": 2,
   "metadata": {
    "collapsed": true
   },
   "outputs": [],
   "source": [
    "%run ../Python_files/load_dicts.py"
   ]
  },
  {
   "cell_type": "code",
   "execution_count": 3,
   "metadata": {
    "collapsed": false
   },
   "outputs": [],
   "source": [
    "%run ../Python_files/util.py"
   ]
  },
  {
   "cell_type": "code",
   "execution_count": 4,
   "metadata": {
    "collapsed": true
   },
   "outputs": [],
   "source": [
    "# load logit_route_choice_probability_matrix\n",
    "P = zload('../temp_files/logit_route_choice_probability_matrix.pkz')"
   ]
  },
  {
   "cell_type": "code",
   "execution_count": 5,
   "metadata": {
    "collapsed": false
   },
   "outputs": [],
   "source": [
    "import numpy as np\n",
    "from numpy.linalg import inv\n",
    "\n",
    "P = np.matrix(P)"
   ]
  },
  {
   "cell_type": "code",
   "execution_count": 6,
   "metadata": {
    "collapsed": false
   },
   "outputs": [
    {
     "data": {
      "text/plain": [
       "(56, 140)"
      ]
     },
     "execution_count": 6,
     "metadata": {},
     "output_type": "execute_result"
    }
   ],
   "source": [
    "np.size(P, 0), np.size(P, 1)"
   ]
  },
  {
   "cell_type": "code",
   "execution_count": 7,
   "metadata": {
    "collapsed": true
   },
   "outputs": [],
   "source": [
    "import numpy as np\n",
    "from numpy.linalg import inv\n",
    "\n",
    "def samp_cov(x):\n",
    "    \"\"\"\n",
    "    x: sample matrix, each column is a link flow vector sample; 24 * K\n",
    "    K: number of samples\n",
    "    S: sample covariance matrix\n",
    "    ----------------\n",
    "    return: inv(S)\n",
    "    ----------------\n",
    "    \"\"\"\n",
    "    x = np.matrix(x)\n",
    "    K = np.size(x, 1)\n",
    "    x_mean = sum(x[:,k] for k in range(K)) / K\n",
    "    S = sum(np.dot(x[:,k] - x_mean, np.transpose(x[:,k] - x_mean)) for k in range(K)) / (K - 1)\n",
    "    return S"
   ]
  },
  {
   "cell_type": "code",
   "execution_count": 8,
   "metadata": {
    "collapsed": false
   },
   "outputs": [],
   "source": [
    "# load path-link incidence matrix\n",
    "A = zload('../temp_files/path-link_incidence_matrix.pkz')"
   ]
  },
  {
   "cell_type": "code",
   "execution_count": 9,
   "metadata": {
    "collapsed": false
   },
   "outputs": [],
   "source": [
    "# load link counts data\n",
    "\n",
    "import json\n",
    "\n",
    "with open('../temp_files/link_day_minute_Apr_dict_JSON.json', 'r') as json_file:\n",
    "    link_day_minute_Apr_dict_JSON = json.load(json_file)"
   ]
  },
  {
   "cell_type": "code",
   "execution_count": 10,
   "metadata": {
    "collapsed": true
   },
   "outputs": [],
   "source": [
    "week_day_Apr_list = [2, 3, 4, 5, 6, 9, 10, 11, 12, 13, 16, 17, 18, 19, 20, 23, 24, 25, 26, 27, 30]"
   ]
  },
  {
   "cell_type": "code",
   "execution_count": 11,
   "metadata": {
    "collapsed": false
   },
   "outputs": [],
   "source": [
    "link_day_minute_Apr_list = []\n",
    "for link_idx in range(24):\n",
    "    for day in week_day_Apr_list: \n",
    "        for minute_idx in range(120):\n",
    "            key = 'link_' + str(link_idx) + '_' + str(day)\n",
    "            link_day_minute_Apr_list.append(link_day_minute_Apr_dict_JSON[key] ['PM_flow_minute'][minute_idx])"
   ]
  },
  {
   "cell_type": "code",
   "execution_count": 12,
   "metadata": {
    "collapsed": false
   },
   "outputs": [
    {
     "data": {
      "text/plain": [
       "60480"
      ]
     },
     "execution_count": 12,
     "metadata": {},
     "output_type": "execute_result"
    }
   ],
   "source": [
    "len(link_day_minute_Apr_list)"
   ]
  },
  {
   "cell_type": "code",
   "execution_count": 13,
   "metadata": {
    "collapsed": false
   },
   "outputs": [],
   "source": [
    "x = np.matrix(link_day_minute_Apr_list)\n",
    "x = np.matrix.reshape(x, 24, 2520)\n",
    "\n",
    "x = np.nan_to_num(x)\n",
    "y = np.array(np.transpose(x))\n",
    "y = y[np.all(y != 0, axis=1)]\n",
    "x = np.transpose(y)\n",
    "x = np.matrix(x)"
   ]
  },
  {
   "cell_type": "code",
   "execution_count": 14,
   "metadata": {
    "collapsed": false
   },
   "outputs": [
    {
     "data": {
      "text/plain": [
       "(24, 2520)"
      ]
     },
     "execution_count": 14,
     "metadata": {},
     "output_type": "execute_result"
    }
   ],
   "source": [
    "np.size(x, 0), np.size(x, 1)"
   ]
  },
  {
   "cell_type": "code",
   "execution_count": 15,
   "metadata": {
    "collapsed": false
   },
   "outputs": [
    {
     "data": {
      "text/plain": [
       "matrix([[ 344351.69113349,  335268.12872603],\n",
       "        [ 352726.79180001,  347914.61351239],\n",
       "        [ 623863.56776834,  621320.65346466],\n",
       "        [ 675760.8456823 ,  665257.54347434],\n",
       "        [ 182200.39293639,  176117.30306953],\n",
       "        [ 212449.92803494,  213353.22407784],\n",
       "        [ 399861.72209966,  395233.14633024],\n",
       "        [ 415973.43897655,  405855.28773562],\n",
       "        [ 404787.41252918,  388750.46079851],\n",
       "        [ 399919.47030913,  410246.60194474],\n",
       "        [ 406834.23826693,  414651.98651323],\n",
       "        [ 349663.27045432,  344651.80951894],\n",
       "        [  93659.85358612,   94857.02506913],\n",
       "        [ 100186.55057092,  103762.44884542],\n",
       "        [ 158429.54710944,  148697.76176325],\n",
       "        [ 147172.13955102,  150008.27631656],\n",
       "        [ 206017.97799556,  204909.98828895],\n",
       "        [ 201718.40945513,  206795.32482742],\n",
       "        [ 376783.44925823,  361533.00315103],\n",
       "        [ 360170.44610244,  365184.84854169],\n",
       "        [ 540114.1244676 ,  551706.39944653],\n",
       "        [ 566306.87396364,  567899.41092258],\n",
       "        [ 138631.51777732,  136446.61078362],\n",
       "        [ 141895.40995361,  139001.58230596]])"
      ]
     },
     "execution_count": 15,
     "metadata": {},
     "output_type": "execute_result"
    }
   ],
   "source": [
    "x[:,:2]"
   ]
  },
  {
   "cell_type": "code",
   "execution_count": 16,
   "metadata": {
    "collapsed": false
   },
   "outputs": [
    {
     "data": {
      "text/plain": [
       "(24, 140)"
      ]
     },
     "execution_count": 16,
     "metadata": {},
     "output_type": "execute_result"
    }
   ],
   "source": [
    "np.size(A,0), np.size(A,1)"
   ]
  },
  {
   "cell_type": "code",
   "execution_count": 17,
   "metadata": {
    "collapsed": false
   },
   "outputs": [
    {
     "name": "stdout",
     "output_type": "stream",
     "text": [
      "Optimize a model with 56 rows, 56 columns and 56 nonzeros\n",
      "Model has 1596 quadratic objective terms\n",
      "Coefficient statistics:\n",
      "  Matrix range    [1e+00, 1e+00]\n",
      "  Objective range [2e-02, 4e+01]\n",
      "  Bounds range    [0e+00, 0e+00]\n",
      "  RHS range       [0e+00, 0e+00]\n",
      "Presolve removed 56 rows and 0 columns\n",
      "Presolve time: 0.00s\n",
      "Presolved: 0 rows, 56 columns, 0 nonzeros\n",
      "Presolved model has 1596 quadratic objective terms\n",
      "Ordering time: 0.00s\n",
      "\n",
      "Barrier statistics:\n",
      " Free vars  : 24\n",
      " AA' NZ     : 2.760e+02\n",
      " Factor NZ  : 3.000e+02\n",
      " Factor Ops : 4.900e+03 (less than 1 second per iteration)\n",
      " Threads    : 1\n",
      "\n",
      "                  Objective                Residual\n",
      "Iter       Primal          Dual         Primal    Dual     Compl     Time\n",
      "   0  -4.07796481e+07  0.00000000e+00  5.01e+03 1.64e+03  1.00e+06     0s\n",
      "   1  -2.56567129e+07 -1.21774364e+07  1.15e+03 3.76e+02  2.75e+05     0s\n",
      "   2  -1.87608427e+07 -2.12841826e+07  3.23e+01 1.06e+01  6.11e+04     0s\n",
      "   3  -1.91064609e+07 -1.93323474e+07  1.63e-02 5.33e-03  4.04e+03     0s\n",
      "   4  -1.91479274e+07 -1.91763310e+07  1.63e-08 5.33e-09  5.07e+02     0s\n",
      "   5  -1.91532080e+07 -1.91566844e+07  1.03e-10 6.82e-13  6.21e+01     0s\n",
      "   6  -1.91539301e+07 -1.91541975e+07  2.73e-10 6.82e-13  4.77e+00     0s\n",
      "   7  -1.91540209e+07 -1.91540993e+07  2.11e-09 4.55e-13  1.40e+00     0s\n",
      "   8  -1.91540334e+07 -1.91540357e+07  3.64e-10 4.55e-13  4.10e-02     0s\n",
      "   9  -1.91540343e+07 -1.91540347e+07  3.31e-10 9.09e-13  5.92e-03     0s\n",
      "  10  -1.91540345e+07 -1.91540345e+07  1.27e-10 6.82e-13  1.36e-04     0s\n",
      "  11  -1.91540345e+07 -1.91540345e+07  4.62e-11 6.82e-13  1.52e-05     0s\n",
      "  12  -1.91540345e+07 -1.91540345e+07  4.50e-11 3.70e-11  7.29e-07     0s\n",
      "  13  -1.91540345e+07 -1.91540345e+07  1.82e-12 8.73e-11  1.73e-08     0s\n",
      "  14  -1.91540345e+07 -1.91540345e+07  1.82e-12 5.87e-11  9.02e-11     0s\n",
      "\n",
      "Barrier solved model in 14 iterations and 0.02 seconds\n",
      "Optimal objective -1.91540345e+07\n",
      "\n",
      "lam_0 1.9048e-10\n",
      "lam_1 322801\n",
      "lam_2 65823.1\n",
      "lam_3 1.19972e-07\n",
      "lam_4 149455\n",
      "lam_5 2.01468e-07\n",
      "lam_6 2.02312e-07\n",
      "lam_7 0.000100222\n",
      "lam_8 1.17944e-11\n",
      "lam_9 272257\n",
      "lam_10 1.17933e-11\n",
      "lam_11 1.17944e-11\n",
      "lam_12 1.17937e-11\n",
      "lam_13 1.18732e-11\n",
      "lam_14 457479\n",
      "lam_15 1082.24\n",
      "lam_16 1.19972e-07\n",
      "lam_17 1.19972e-07\n",
      "lam_18 249871\n",
      "lam_19 428321\n",
      "lam_20 2.01412e-07\n",
      "lam_21 207762\n",
      "lam_22 162758\n",
      "lam_23 70835.6\n",
      "lam_24 2.8317e-05\n",
      "lam_25 2.83188e-05\n",
      "lam_26 2.86484e-05\n",
      "lam_27 188756\n",
      "lam_28 0.0350961\n",
      "lam_29 0.0129104\n",
      "lam_30 125358\n",
      "lam_31 19491.4\n",
      "lam_32 22544.8\n",
      "lam_33 5.38865e-09\n",
      "lam_34 12313.4\n",
      "lam_35 192338\n",
      "lam_36 989.812\n",
      "lam_37 1.45967e-06\n",
      "lam_38 24801.6\n",
      "lam_39 195661\n",
      "lam_40 425142\n",
      "lam_41 26133.9\n",
      "lam_42 4.34548e-06\n",
      "lam_43 4.34527e-06\n",
      "lam_44 1.78396e-07\n",
      "lam_45 0.198\n",
      "lam_46 451924\n",
      "lam_47 659119\n",
      "lam_48 82043.1\n",
      "lam_49 4.35888e-06\n",
      "lam_50 4.40117e-06\n",
      "lam_51 4.34842e-06\n",
      "lam_52 173005\n",
      "lam_53 0.0375171\n",
      "lam_54 51335.7\n",
      "lam_55 57235.7\n",
      "Obj: -1.91538e+07\n"
     ]
    }
   ],
   "source": [
    "from gurobipy import *\n",
    "\n",
    "L = 56  # dimension of lam\n",
    "\n",
    "K = np.size(x, 1)\n",
    "S = samp_cov(x)\n",
    "inv_S = inv(S)\n",
    "\n",
    "A_t = np.transpose(A)\n",
    "P_t = np.transpose(P)\n",
    "# PA'\n",
    "PA_t = np.dot(P, A_t)\n",
    "# AP_t\n",
    "AP_t = np.transpose(PA_t)\n",
    "\n",
    "Q = np.dot(np.dot(PA_t, inv_S), AP_t)\n",
    "b = sum([np.dot(np.dot(PA_t, inv_S), x[:, k]) for k in range(K)])\n",
    "\n",
    "\n",
    "model = Model(\"OD_matrix_estimation\")\n",
    "\n",
    "lam = []\n",
    "for l in range(L):\n",
    "    lam.append(model.addVar(name='lam_' + str(l)))\n",
    "\n",
    "model.update() \n",
    "\n",
    "# Set objective: (K/2) lam' * Q * lam - b * lam\n",
    "obj = 0\n",
    "for i in range(L):\n",
    "    for j in range(L):\n",
    "        obj += (1.0 /2) * K * lam[i] * Q[i, j] * lam[j]\n",
    "for l in range(L):\n",
    "    obj += - b[l] * lam[l]\n",
    "model.setObjective(obj)\n",
    "\n",
    "# Add constraint: lam >= 0\n",
    "for l in range(L):\n",
    "    model.addConstr(lam[l] >= 0)\n",
    "\n",
    "model.update() \n",
    "\n",
    "model.optimize()\n",
    "\n",
    "lam_list = []\n",
    "for v in model.getVars():\n",
    "    print('%s %g' % (v.varName, v.x))\n",
    "    lam_list.append(v.x)\n",
    "print('Obj: %g' % obj.getValue())"
   ]
  },
  {
   "cell_type": "code",
   "execution_count": 18,
   "metadata": {
    "collapsed": false
   },
   "outputs": [],
   "source": [
    "# write estimation result to file\n",
    "n = 8  # number of nodes\n",
    "with open('../temp_files/OD_demand_matrix_Apr_weekday_PM.txt', 'w') as the_file:\n",
    "    idx = 0\n",
    "    for i in range(n + 1)[1:]:\n",
    "        for j in range(n + 1)[1:]:\n",
    "            if i != j: \n",
    "                the_file.write(\"%d,%d,%f\\n\" %(i, j, lam_list[idx]))\n",
    "                idx += 1"
   ]
  },
  {
   "cell_type": "code",
   "execution_count": 19,
   "metadata": {
    "collapsed": false
   },
   "outputs": [
    {
     "data": {
      "text/plain": [
       "[1.9048031061419927e-10,\n",
       " 322800.69642312406,\n",
       " 65823.14699234409,\n",
       " 1.199721774042599e-07,\n",
       " 149455.22787254216,\n",
       " 2.0146816928882526e-07,\n",
       " 2.0231231923249028e-07,\n",
       " 0.00010022237454825403,\n",
       " 1.1794432141344892e-11,\n",
       " 272257.0418140794,\n",
       " 1.1793272747892243e-11,\n",
       " 1.179443214138377e-11,\n",
       " 1.1793741707267005e-11,\n",
       " 1.1873245323620933e-11,\n",
       " 457478.855511395,\n",
       " 1082.2360582291933,\n",
       " 1.199721334164871e-07,\n",
       " 1.19972176037989e-07,\n",
       " 249870.5158260762,\n",
       " 428320.73975656886,\n",
       " 2.0141223210907815e-07,\n",
       " 207761.9922143385,\n",
       " 162758.03200494678,\n",
       " 70835.55993450715,\n",
       " 2.8317002711729204e-05,\n",
       " 2.831877259660675e-05,\n",
       " 2.86483958425671e-05,\n",
       " 188756.19066296075,\n",
       " 0.03509605868262167,\n",
       " 0.012910401645960246,\n",
       " 125358.34094475288,\n",
       " 19491.350428242615,\n",
       " 22544.81528282214,\n",
       " 5.388646402368055e-09,\n",
       " 12313.418382575297,\n",
       " 192337.99780019993,\n",
       " 989.8117268725439,\n",
       " 1.4596732814818234e-06,\n",
       " 24801.57808119422,\n",
       " 195661.0358104946,\n",
       " 425141.66038653796,\n",
       " 26133.86533602454,\n",
       " 4.345482111746358e-06,\n",
       " 4.345271647097069e-06,\n",
       " 1.7839582220738516e-07,\n",
       " 0.19799976883921033,\n",
       " 451924.1596390502,\n",
       " 659119.4002239403,\n",
       " 82043.13670346254,\n",
       " 4.358879465121918e-06,\n",
       " 4.401170173419099e-06,\n",
       " 4.34842129487913e-06,\n",
       " 173005.24479287962,\n",
       " 0.03751711250247691,\n",
       " 51335.69778866413,\n",
       " 57235.690179782694]"
      ]
     },
     "execution_count": 19,
     "metadata": {},
     "output_type": "execute_result"
    }
   ],
   "source": [
    "lam_list"
   ]
  },
  {
   "cell_type": "code",
   "execution_count": null,
   "metadata": {
    "collapsed": true
   },
   "outputs": [],
   "source": []
  }
 ],
 "metadata": {
  "kernelspec": {
   "display_name": "Python 2",
   "language": "python",
   "name": "python2"
  },
  "language_info": {
   "codemirror_mode": {
    "name": "ipython",
    "version": 2
   },
   "file_extension": ".py",
   "mimetype": "text/x-python",
   "name": "python",
   "nbconvert_exporter": "python",
   "pygments_lexer": "ipython2",
   "version": "2.7.11"
  }
 },
 "nbformat": 4,
 "nbformat_minor": 0
}
