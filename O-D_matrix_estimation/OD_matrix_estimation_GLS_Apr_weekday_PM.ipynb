{
 "cells": [
  {
   "cell_type": "code",
   "execution_count": 1,
   "metadata": {
    "collapsed": true
   },
   "outputs": [],
   "source": [
    "%run ../Python_files/util_data_storage_and_load.py"
   ]
  },
  {
   "cell_type": "code",
   "execution_count": 2,
   "metadata": {
    "collapsed": true
   },
   "outputs": [],
   "source": [
    "%run ../Python_files/load_dicts.py"
   ]
  },
  {
   "cell_type": "code",
   "execution_count": 3,
   "metadata": {
    "collapsed": false
   },
   "outputs": [],
   "source": [
    "%run ../Python_files/util.py"
   ]
  },
  {
   "cell_type": "code",
   "execution_count": 4,
   "metadata": {
    "collapsed": true
   },
   "outputs": [],
   "source": [
    "# load logit_route_choice_probability_matrix\n",
    "P = zload('../temp_files/logit_route_choice_probability_matrix.pkz')"
   ]
  },
  {
   "cell_type": "code",
   "execution_count": 5,
   "metadata": {
    "collapsed": false
   },
   "outputs": [],
   "source": [
    "import numpy as np\n",
    "from numpy.linalg import inv\n",
    "\n",
    "P = np.matrix(P)"
   ]
  },
  {
   "cell_type": "code",
   "execution_count": 6,
   "metadata": {
    "collapsed": false
   },
   "outputs": [
    {
     "data": {
      "text/plain": [
       "(56, 140)"
      ]
     },
     "execution_count": 6,
     "metadata": {},
     "output_type": "execute_result"
    }
   ],
   "source": [
    "np.size(P, 0), np.size(P, 1)"
   ]
  },
  {
   "cell_type": "code",
   "execution_count": 7,
   "metadata": {
    "collapsed": true
   },
   "outputs": [],
   "source": [
    "import numpy as np\n",
    "from numpy.linalg import inv\n",
    "\n",
    "def samp_cov(x):\n",
    "    \"\"\"\n",
    "    x: sample matrix, each column is a link flow vector sample; 24 * K\n",
    "    K: number of samples\n",
    "    S: sample covariance matrix\n",
    "    ----------------\n",
    "    return: inv(S)\n",
    "    ----------------\n",
    "    \"\"\"\n",
    "    x = np.matrix(x)\n",
    "    K = np.size(x, 1)\n",
    "    x_mean = sum(x[:,k] for k in range(K)) / K\n",
    "    S = sum(np.dot(x[:,k] - x_mean, np.transpose(x[:,k] - x_mean)) for k in range(K)) / (K - 1)\n",
    "    return S"
   ]
  },
  {
   "cell_type": "code",
   "execution_count": 8,
   "metadata": {
    "collapsed": false
   },
   "outputs": [],
   "source": [
    "# load path-link incidence matrix\n",
    "A = zload('../temp_files/path-link_incidence_matrix.pkz')"
   ]
  },
  {
   "cell_type": "code",
   "execution_count": 9,
   "metadata": {
    "collapsed": false
   },
   "outputs": [],
   "source": [
    "# load link counts data\n",
    "\n",
    "import json\n",
    "\n",
    "with open('../temp_files/link_day_minute_Apr_dict_JSON.json', 'r') as json_file:\n",
    "    link_day_minute_Apr_dict_JSON = json.load(json_file)"
   ]
  },
  {
   "cell_type": "code",
   "execution_count": 231,
   "metadata": {
    "collapsed": true
   },
   "outputs": [],
   "source": [
    "#week_day_Apr_list = [2, 3, 4, 5, 6, 9, 10, 11, 12, 13, 16, 17, 18, 19, 20, 23, 24, 25, 26, 27, 30]\n",
    "#week_day_Apr_list = [2, 9, 16, 23, 30]\n",
    "week_day_Apr_list = [30]"
   ]
  },
  {
   "cell_type": "code",
   "execution_count": 232,
   "metadata": {
    "collapsed": false
   },
   "outputs": [],
   "source": [
    "link_day_minute_Apr_list = []\n",
    "for link_idx in range(24):\n",
    "    for day in week_day_Apr_list: \n",
    "        for minute_idx in range(120):\n",
    "            key = 'link_' + str(link_idx) + '_' + str(day)\n",
    "            link_day_minute_Apr_list.append(link_day_minute_Apr_dict_JSON[key] ['PM_flow_minute'][minute_idx])"
   ]
  },
  {
   "cell_type": "code",
   "execution_count": 233,
   "metadata": {
    "collapsed": false
   },
   "outputs": [
    {
     "data": {
      "text/plain": [
       "2880"
      ]
     },
     "execution_count": 233,
     "metadata": {},
     "output_type": "execute_result"
    }
   ],
   "source": [
    "len(link_day_minute_Apr_list)"
   ]
  },
  {
   "cell_type": "code",
   "execution_count": 234,
   "metadata": {
    "collapsed": false
   },
   "outputs": [],
   "source": [
    "x = np.matrix(link_day_minute_Apr_list)\n",
    "x = np.matrix.reshape(x, 24, 120)\n",
    "\n",
    "x = np.nan_to_num(x)\n",
    "y = np.array(np.transpose(x))\n",
    "y = y[np.all(y != 0, axis=1)]\n",
    "x = np.transpose(y)\n",
    "x = np.matrix(x)"
   ]
  },
  {
   "cell_type": "code",
   "execution_count": 235,
   "metadata": {
    "collapsed": false
   },
   "outputs": [
    {
     "data": {
      "text/plain": [
       "(24, 120)"
      ]
     },
     "execution_count": 235,
     "metadata": {},
     "output_type": "execute_result"
    }
   ],
   "source": [
    "np.size(x, 0), np.size(x, 1)"
   ]
  },
  {
   "cell_type": "code",
   "execution_count": 236,
   "metadata": {
    "collapsed": false
   },
   "outputs": [
    {
     "data": {
      "text/plain": [
       "matrix([[  2157.45537733,   2960.16519517],\n",
       "        [  4306.70818827,   3421.77815583],\n",
       "        [  4079.9119397 ,   3200.71751413],\n",
       "        [  2567.866728  ,   3525.02764552],\n",
       "        [  7179.19964789,   2962.14165586],\n",
       "        [  2336.03687122,   2032.39882149],\n",
       "        [  1765.71169437,   2610.61776883],\n",
       "        [  4602.89122423,   5268.42549987],\n",
       "        [ 13120.29402794,  10277.03087482],\n",
       "        [  5019.18207941,   8430.19015583],\n",
       "        [ 13694.6039845 ,  14676.96704387],\n",
       "        [  6357.07521285,   4591.79057429],\n",
       "        [  2466.3036143 ,   1879.06107701],\n",
       "        [  2776.95187381,   6290.31072903],\n",
       "        [  6580.97750232,   7107.78389566],\n",
       "        [  3768.74499255,   4476.81609559],\n",
       "        [  1180.35950847,    954.46170617],\n",
       "        [  1638.0609911 ,    972.58974311],\n",
       "        [  2313.5533953 ,   2281.88149522],\n",
       "        [ 10311.48667294,  12495.61028052],\n",
       "        [  6069.26493451,   6662.16339767],\n",
       "        [  6371.785336  ,   8024.18657806],\n",
       "        [  2424.72699972,   2154.00424989],\n",
       "        [  6363.66377839,   3588.21336778]])"
      ]
     },
     "execution_count": 236,
     "metadata": {},
     "output_type": "execute_result"
    }
   ],
   "source": [
    "x[:,:2]"
   ]
  },
  {
   "cell_type": "code",
   "execution_count": 237,
   "metadata": {
    "collapsed": false
   },
   "outputs": [
    {
     "data": {
      "text/plain": [
       "(24, 140)"
      ]
     },
     "execution_count": 237,
     "metadata": {},
     "output_type": "execute_result"
    }
   ],
   "source": [
    "np.size(A,0), np.size(A,1)"
   ]
  },
  {
   "cell_type": "code",
   "execution_count": 238,
   "metadata": {
    "collapsed": false
   },
   "outputs": [
    {
     "name": "stdout",
     "output_type": "stream",
     "text": [
      "Optimize a model with 56 rows, 56 columns and 56 nonzeros\n",
      "Model has 1596 quadratic objective terms\n",
      "Coefficient statistics:\n",
      "  Matrix range    [1e+00, 1e+00]\n",
      "  Objective range [4e-03, 5e+00]\n",
      "  Bounds range    [0e+00, 0e+00]\n",
      "  RHS range       [0e+00, 0e+00]\n",
      "Presolve removed 56 rows and 0 columns\n",
      "Presolve time: 0.00s\n",
      "Presolved: 0 rows, 56 columns, 0 nonzeros\n",
      "Presolved model has 1596 quadratic objective terms\n",
      "Ordering time: 0.00s\n",
      "\n",
      "Barrier statistics:\n",
      " Free vars  : 24\n",
      " AA' NZ     : 2.760e+02\n",
      " Factor NZ  : 3.000e+02\n",
      " Factor Ops : 4.900e+03 (less than 1 second per iteration)\n",
      " Threads    : 1\n",
      "\n",
      "                  Objective                Residual\n",
      "Iter       Primal          Dual         Primal    Dual     Compl     Time\n",
      "   0  -2.74866205e+06  0.00000000e+00  6.54e+03 1.28e+02  9.38e+05     0s\n",
      "   1   3.10080037e+06 -3.89559829e+06  6.54e-03 1.14e-13  1.25e+05     0s\n",
      "   2   3.38585159e+05 -6.78726847e+05  6.54e-09 5.68e-14  1.82e+04     0s\n",
      "   3  -1.47682879e+04 -1.56630229e+05  2.27e-13 1.28e-13  2.53e+03     0s\n",
      "   4  -5.13446648e+04 -6.52791063e+04  1.99e-13 2.84e-14  2.49e+02     0s\n",
      "   5  -5.37051424e+04 -5.51676323e+04  1.18e-12 2.84e-14  2.61e+01     0s\n",
      "   6  -5.39138296e+04 -5.39871651e+04  9.81e-13 4.26e-14  1.31e+00     0s\n",
      "   7  -5.39177442e+04 -5.39220003e+04  2.76e-12 5.68e-14  7.60e-02     0s\n",
      "   8  -5.39192483e+04 -5.39198072e+04  1.82e-12 2.84e-14  9.98e-03     0s\n",
      "   9  -5.39194643e+04 -5.39195438e+04  9.95e-14 7.11e-14  1.42e-03     0s\n",
      "  10  -5.39195074e+04 -5.39195109e+04  2.52e-13 2.84e-14  6.26e-05     0s\n",
      "  11  -5.39195089e+04 -5.39195090e+04  5.91e-12 2.84e-14  8.92e-07     0s\n",
      "  12  -5.39195089e+04 -5.39195089e+04  2.02e-12 2.84e-14  3.18e-09     0s\n",
      "\n",
      "Barrier solved model in 12 iterations and 0.02 seconds\n",
      "Optimal objective -5.39195089e+04\n",
      "\n",
      "lam_0 9.99081e-09\n",
      "lam_1 2543.7\n",
      "lam_2 1.09661e-08\n",
      "lam_3 1780.35\n",
      "lam_4 1876.29\n",
      "lam_5 3.31368e-05\n",
      "lam_6 3.01332e-06\n",
      "lam_7 1713.02\n",
      "lam_8 338.751\n",
      "lam_9 3941.43\n",
      "lam_10 306.468\n",
      "lam_11 310.484\n",
      "lam_12 3.35253e-05\n",
      "lam_13 3.45736e-05\n",
      "lam_14 1.68828e-05\n",
      "lam_15 1.72474e-05\n",
      "lam_16 8.9022e-06\n",
      "lam_17 6941.1\n",
      "lam_18 10215.7\n",
      "lam_19 4120.42\n",
      "lam_20 3.31922e-05\n",
      "lam_21 0.000229825\n",
      "lam_22 4784.6\n",
      "lam_23 2202.87\n",
      "lam_24 0.00030808\n",
      "lam_25 0.000310212\n",
      "lam_26 1.77922e-05\n",
      "lam_27 1644.5\n",
      "lam_28 0.000378399\n",
      "lam_29 0.000202031\n",
      "lam_30 2496.29\n",
      "lam_31 0.00096635\n",
      "lam_32 6341.99\n",
      "lam_33 1.87508e-05\n",
      "lam_34 1.87932e-05\n",
      "lam_35 7.25817e-05\n",
      "lam_36 7.61786e-05\n",
      "lam_37 2798.26\n",
      "lam_38 3.33683e-05\n",
      "lam_39 4723.79\n",
      "lam_40 5361.13\n",
      "lam_41 825.908\n",
      "lam_42 4488.95\n",
      "lam_43 844.785\n",
      "lam_44 9.5459e-05\n",
      "lam_45 4813.83\n",
      "lam_46 249.773\n",
      "lam_47 4474.37\n",
      "lam_48 1138.33\n",
      "lam_49 8.92418e-06\n",
      "lam_50 9.08415e-06\n",
      "lam_51 1.88377e-05\n",
      "lam_52 1516.45\n",
      "lam_53 3406.67\n",
      "lam_54 8.90078e-06\n",
      "lam_55 8.90388e-06\n",
      "Obj: -53919.8\n"
     ]
    }
   ],
   "source": [
    "from gurobipy import *\n",
    "\n",
    "L = 56  # dimension of lam\n",
    "\n",
    "K = np.size(x, 1)\n",
    "S = samp_cov(x)\n",
    "inv_S = inv(S)\n",
    "\n",
    "A_t = np.transpose(A)\n",
    "P_t = np.transpose(P)\n",
    "# PA'\n",
    "PA_t = np.dot(P, A_t)\n",
    "# AP_t\n",
    "AP_t = np.transpose(PA_t)\n",
    "\n",
    "Q = np.dot(np.dot(PA_t, inv_S), AP_t)\n",
    "b = sum([np.dot(np.dot(PA_t, inv_S), x[:, k]) for k in range(K)])\n",
    "\n",
    "\n",
    "model = Model(\"OD_matrix_estimation\")\n",
    "\n",
    "lam = []\n",
    "for l in range(L):\n",
    "    lam.append(model.addVar(name='lam_' + str(l)))\n",
    "\n",
    "model.update() \n",
    "\n",
    "# Set objective: (K/2) lam' * Q * lam - b' * lam\n",
    "obj = 0\n",
    "for i in range(L):\n",
    "    for j in range(L):\n",
    "        obj += (1.0 /2) * K * lam[i] * Q[i, j] * lam[j]\n",
    "for l in range(L):\n",
    "    obj += - b[l] * lam[l]\n",
    "model.setObjective(obj)\n",
    "\n",
    "# Add constraint: lam >= 0\n",
    "for l in range(L):\n",
    "    model.addConstr(lam[l] >= 0)\n",
    "\n",
    "model.update() \n",
    "\n",
    "model.optimize()\n",
    "\n",
    "lam_list = []\n",
    "for v in model.getVars():\n",
    "    print('%s %g' % (v.varName, v.x))\n",
    "    lam_list.append(v.x)\n",
    "print('Obj: %g' % obj.getValue())"
   ]
  },
  {
   "cell_type": "code",
   "execution_count": 239,
   "metadata": {
    "collapsed": false
   },
   "outputs": [],
   "source": [
    "# write estimation result to file\n",
    "n = 8  # number of nodes\n",
    "with open('../temp_files/OD_demand_matrix_Apr_30_PM.txt', 'w') as the_file:\n",
    "    idx = 0\n",
    "    for i in range(n + 1)[1:]:\n",
    "        for j in range(n + 1)[1:]:\n",
    "            if i != j: \n",
    "                the_file.write(\"%d,%d,%f\\n\" %(i, j, lam_list[idx]))\n",
    "                idx += 1"
   ]
  },
  {
   "cell_type": "code",
   "execution_count": 240,
   "metadata": {
    "collapsed": false
   },
   "outputs": [
    {
     "data": {
      "text/plain": [
       "[9.990809450009463e-09,\n",
       " 2543.700306843245,\n",
       " 1.0966104845962986e-08,\n",
       " 1780.3511270837432,\n",
       " 1876.290081438854,\n",
       " 3.313682179789147e-05,\n",
       " 3.013323356432945e-06,\n",
       " 1713.0198718898844,\n",
       " 338.75069086538286,\n",
       " 3941.4325142741336,\n",
       " 306.468139423627,\n",
       " 310.48398440787014,\n",
       " 3.352534404400115e-05,\n",
       " 3.457356841591805e-05,\n",
       " 1.688277902572432e-05,\n",
       " 1.7247396679695784e-05,\n",
       " 8.902198386909633e-06,\n",
       " 6941.096574061657,\n",
       " 10215.68757890814,\n",
       " 4120.423339480798,\n",
       " 3.319223486046921e-05,\n",
       " 0.0002298248833049743,\n",
       " 4784.601556360022,\n",
       " 2202.873907757392,\n",
       " 0.0003080800722412014,\n",
       " 0.000310212052279657,\n",
       " 1.7792242690498755e-05,\n",
       " 1644.5048493374377,\n",
       " 0.00037839885530471795,\n",
       " 0.000202031154513449,\n",
       " 2496.286574362216,\n",
       " 0.0009663495909557618,\n",
       " 6341.98631149177,\n",
       " 1.875083624942875e-05,\n",
       " 1.879318946817598e-05,\n",
       " 7.258167711190339e-05,\n",
       " 7.61786099923549e-05,\n",
       " 2798.256840536934,\n",
       " 3.3368332521674024e-05,\n",
       " 4723.7870284474175,\n",
       " 5361.1313943814275,\n",
       " 825.9082839461495,\n",
       " 4488.953676219058,\n",
       " 844.7850625051484,\n",
       " 9.545903911886353e-05,\n",
       " 4813.829867007777,\n",
       " 249.77321691166597,\n",
       " 4474.374414371276,\n",
       " 1138.3329905157134,\n",
       " 8.924183671059696e-06,\n",
       " 9.084153161152079e-06,\n",
       " 1.883772002338538e-05,\n",
       " 1516.4500916709906,\n",
       " 3406.6657202526617,\n",
       " 8.900777244626786e-06,\n",
       " 8.903876925489464e-06]"
      ]
     },
     "execution_count": 240,
     "metadata": {},
     "output_type": "execute_result"
    }
   ],
   "source": [
    "lam_list"
   ]
  },
  {
   "cell_type": "code",
   "execution_count": null,
   "metadata": {
    "collapsed": true
   },
   "outputs": [],
   "source": []
  }
 ],
 "metadata": {
  "kernelspec": {
   "display_name": "Python 2",
   "language": "python",
   "name": "python2"
  },
  "language_info": {
   "codemirror_mode": {
    "name": "ipython",
    "version": 2
   },
   "file_extension": ".py",
   "mimetype": "text/x-python",
   "name": "python",
   "nbconvert_exporter": "python",
   "pygments_lexer": "ipython2",
   "version": "2.7.11"
  }
 },
 "nbformat": 4,
 "nbformat_minor": 0
}
