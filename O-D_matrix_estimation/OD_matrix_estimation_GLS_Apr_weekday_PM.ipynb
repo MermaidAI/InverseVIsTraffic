{
 "cells": [
  {
   "cell_type": "code",
   "execution_count": 1,
   "metadata": {
    "collapsed": true
   },
   "outputs": [],
   "source": [
    "%run ../Python_files/util_data_storage_and_load.py"
   ]
  },
  {
   "cell_type": "code",
   "execution_count": 2,
   "metadata": {
    "collapsed": true
   },
   "outputs": [],
   "source": [
    "%run ../Python_files/load_dicts.py"
   ]
  },
  {
   "cell_type": "code",
   "execution_count": 3,
   "metadata": {
    "collapsed": false
   },
   "outputs": [],
   "source": [
    "%run ../Python_files/util.py"
   ]
  },
  {
   "cell_type": "code",
   "execution_count": 4,
   "metadata": {
    "collapsed": true
   },
   "outputs": [],
   "source": [
    "# load logit_route_choice_probability_matrix\n",
    "P = zload('../temp_files/logit_route_choice_probability_matrix.pkz')"
   ]
  },
  {
   "cell_type": "code",
   "execution_count": 5,
   "metadata": {
    "collapsed": false
   },
   "outputs": [],
   "source": [
    "import numpy as np\n",
    "from numpy.linalg import inv\n",
    "\n",
    "P = np.matrix(P)"
   ]
  },
  {
   "cell_type": "code",
   "execution_count": 6,
   "metadata": {
    "collapsed": false
   },
   "outputs": [
    {
     "data": {
      "text/plain": [
       "(56, 140)"
      ]
     },
     "execution_count": 6,
     "metadata": {},
     "output_type": "execute_result"
    }
   ],
   "source": [
    "np.size(P, 0), np.size(P, 1)"
   ]
  },
  {
   "cell_type": "code",
   "execution_count": 7,
   "metadata": {
    "collapsed": true
   },
   "outputs": [],
   "source": [
    "import numpy as np\n",
    "from numpy.linalg import inv\n",
    "\n",
    "def samp_cov(x):\n",
    "    \"\"\"\n",
    "    x: sample matrix, each column is a link flow vector sample; 24 * K\n",
    "    K: number of samples\n",
    "    S: sample covariance matrix\n",
    "    ----------------\n",
    "    return: inv(S)\n",
    "    ----------------\n",
    "    \"\"\"\n",
    "    x = np.matrix(x)\n",
    "    K = np.size(x, 1)\n",
    "    x_mean = sum(x[:,k] for k in range(K)) / K\n",
    "    S = sum(np.dot(x[:,k] - x_mean, np.transpose(x[:,k] - x_mean)) for k in range(K)) / (K - 1)\n",
    "    return S"
   ]
  },
  {
   "cell_type": "code",
   "execution_count": 8,
   "metadata": {
    "collapsed": false
   },
   "outputs": [],
   "source": [
    "# load path-link incidence matrix\n",
    "A = zload('../temp_files/path-link_incidence_matrix.pkz')"
   ]
  },
  {
   "cell_type": "code",
   "execution_count": 9,
   "metadata": {
    "collapsed": false
   },
   "outputs": [],
   "source": [
    "# load link counts data\n",
    "\n",
    "import json\n",
    "\n",
    "with open('../temp_files/link_day_minute_Apr_dict_JSON.json', 'r') as json_file:\n",
    "    link_day_minute_Apr_dict_JSON = json.load(json_file)"
   ]
  },
  {
   "cell_type": "code",
   "execution_count": 10,
   "metadata": {
    "collapsed": true
   },
   "outputs": [],
   "source": [
    "#week_day_Apr_list = [2, 3, 4, 5, 6, 9, 10, 11, 12, 13, 16, 17, 18, 19, 20, 23, 24, 25, 26, 27, 30]\n",
    "week_day_Apr_list = [2, 9, 16, 23, 30]"
   ]
  },
  {
   "cell_type": "code",
   "execution_count": 11,
   "metadata": {
    "collapsed": false
   },
   "outputs": [],
   "source": [
    "link_day_minute_Apr_list = []\n",
    "for link_idx in range(24):\n",
    "    for day in week_day_Apr_list: \n",
    "        for minute_idx in range(120):\n",
    "            key = 'link_' + str(link_idx) + '_' + str(day)\n",
    "            link_day_minute_Apr_list.append(link_day_minute_Apr_dict_JSON[key] ['PM_flow_minute'][minute_idx])"
   ]
  },
  {
   "cell_type": "code",
   "execution_count": 12,
   "metadata": {
    "collapsed": false
   },
   "outputs": [
    {
     "data": {
      "text/plain": [
       "14400"
      ]
     },
     "execution_count": 12,
     "metadata": {},
     "output_type": "execute_result"
    }
   ],
   "source": [
    "len(link_day_minute_Apr_list)"
   ]
  },
  {
   "cell_type": "code",
   "execution_count": 13,
   "metadata": {
    "collapsed": false
   },
   "outputs": [],
   "source": [
    "x = np.matrix(link_day_minute_Apr_list)\n",
    "x = np.matrix.reshape(x, 24, 600)\n",
    "\n",
    "x = np.nan_to_num(x)\n",
    "y = np.array(np.transpose(x))\n",
    "y = y[np.all(y != 0, axis=1)]\n",
    "x = np.transpose(y)\n",
    "x = np.matrix(x)"
   ]
  },
  {
   "cell_type": "code",
   "execution_count": 14,
   "metadata": {
    "collapsed": false
   },
   "outputs": [
    {
     "data": {
      "text/plain": [
       "(24, 600)"
      ]
     },
     "execution_count": 14,
     "metadata": {},
     "output_type": "execute_result"
    }
   ],
   "source": [
    "np.size(x, 0), np.size(x, 1)"
   ]
  },
  {
   "cell_type": "code",
   "execution_count": 15,
   "metadata": {
    "collapsed": false
   },
   "outputs": [
    {
     "data": {
      "text/plain": [
       "matrix([[  5579.79525307,   5714.48936252],\n",
       "        [  2788.40374704,   2466.24992324],\n",
       "        [  3110.6419456 ,   2972.17612752],\n",
       "        [  4860.72284868,   4580.2505983 ],\n",
       "        [  5846.4814216 ,   4776.85702352],\n",
       "        [  4317.78815501,   3507.40177929],\n",
       "        [  2414.55979554,   2050.61381169],\n",
       "        [  3156.99053784,   2614.47957377],\n",
       "        [  6213.66574265,   5833.24800427],\n",
       "        [  5937.07944245,   8851.0659437 ],\n",
       "        [  8574.49463147,  11551.74482126],\n",
       "        [  6795.06794891,   5095.35408522],\n",
       "        [  2152.57945447,   2924.35711844],\n",
       "        [  3878.6477567 ,   3558.87849197],\n",
       "        [  2097.20625591,    970.5145146 ],\n",
       "        [  6513.65669111,   6662.20914609],\n",
       "        [  2174.85810621,   1717.51178656],\n",
       "        [  1141.25407058,   1911.47469032],\n",
       "        [  4928.00211585,   4171.80197284],\n",
       "        [  6039.64819484,   7489.91024408],\n",
       "        [  7336.11485544,   6130.86728853],\n",
       "        [  8840.23376351,   8943.17440903],\n",
       "        [  3982.83099134,   3102.92172731],\n",
       "        [  4547.60801569,   2894.18627888]])"
      ]
     },
     "execution_count": 15,
     "metadata": {},
     "output_type": "execute_result"
    }
   ],
   "source": [
    "x[:,:2]"
   ]
  },
  {
   "cell_type": "code",
   "execution_count": 16,
   "metadata": {
    "collapsed": false
   },
   "outputs": [
    {
     "data": {
      "text/plain": [
       "(24, 140)"
      ]
     },
     "execution_count": 16,
     "metadata": {},
     "output_type": "execute_result"
    }
   ],
   "source": [
    "np.size(A,0), np.size(A,1)"
   ]
  },
  {
   "cell_type": "code",
   "execution_count": 17,
   "metadata": {
    "collapsed": false
   },
   "outputs": [
    {
     "name": "stdout",
     "output_type": "stream",
     "text": [
      "Optimize a model with 56 rows, 56 columns and 56 nonzeros\n",
      "Model has 1596 quadratic objective terms\n",
      "Coefficient statistics:\n",
      "  Matrix range    [1e+00, 1e+00]\n",
      "  Objective range [4e-02, 9e+00]\n",
      "  Bounds range    [0e+00, 0e+00]\n",
      "  RHS range       [0e+00, 0e+00]\n",
      "Presolve removed 56 rows and 0 columns\n",
      "Presolve time: 0.01s\n",
      "Presolved: 0 rows, 56 columns, 0 nonzeros\n",
      "Presolved model has 1596 quadratic objective terms\n",
      "Ordering time: 0.00s\n",
      "\n",
      "Barrier statistics:\n",
      " Free vars  : 24\n",
      " AA' NZ     : 2.760e+02\n",
      " Factor NZ  : 3.000e+02\n",
      " Factor Ops : 4.900e+03 (less than 1 second per iteration)\n",
      " Threads    : 1\n",
      "\n",
      "                  Objective                Residual\n",
      "Iter       Primal          Dual         Primal    Dual     Compl     Time\n",
      "   0  -3.58929065e+06  0.00000000e+00  6.19e+03 2.06e+02  9.17e+05     0s\n",
      "   1   2.77190494e+06 -3.84286684e+06  9.92e+01 1.14e-13  1.32e+05     0s\n",
      "   2   3.04605545e+05 -7.70411780e+05  9.92e-05 5.68e-14  1.92e+04     0s\n",
      "   3  -4.93738609e+04 -1.95932304e+05  9.92e-11 5.68e-14  2.62e+03     0s\n",
      "   4  -8.14063184e+04 -9.61248501e+04  2.42e-13 7.11e-14  2.63e+02     0s\n",
      "   5  -8.29279389e+04 -8.39823229e+04  3.61e-12 4.26e-14  1.88e+01     0s\n",
      "   6  -8.30461688e+04 -8.31175531e+04  4.60e-12 2.84e-14  1.27e+00     0s\n",
      "   7  -8.30591093e+04 -8.30653707e+04  3.91e-13 5.68e-14  1.12e-01     0s\n",
      "   8  -8.30608717e+04 -8.30618179e+04  7.59e-13 4.26e-14  1.69e-02     0s\n",
      "   9  -8.30610818e+04 -8.30612614e+04  6.96e-13 1.14e-13  3.21e-03     0s\n",
      "  10  -8.30611370e+04 -8.30611416e+04  5.40e-13 3.20e-14  8.21e-05     0s\n",
      "  11  -8.30611388e+04 -8.30611388e+04  4.83e-13 5.68e-14  1.31e-07     0s\n",
      "  12  -8.30611388e+04 -8.30611388e+04  1.24e-12 5.68e-14  3.91e-09     0s\n",
      "\n",
      "Barrier solved model in 12 iterations and 0.03 seconds\n",
      "Optimal objective -8.30611388e+04\n",
      "\n",
      "lam_0 2.7877e-08\n",
      "lam_1 3657.29\n",
      "lam_2 3.05997e-08\n",
      "lam_3 762.773\n",
      "lam_4 1955.18\n",
      "lam_5 6.50923e-05\n",
      "lam_6 8.01335e-06\n",
      "lam_7 1222.07\n",
      "lam_8 1002.78\n",
      "lam_9 2981.86\n",
      "lam_10 526.701\n",
      "lam_11 859.083\n",
      "lam_12 6.77037e-05\n",
      "lam_13 7.13089e-05\n",
      "lam_14 4722.91\n",
      "lam_15 1456.71\n",
      "lam_16 512.256\n",
      "lam_17 1119.54\n",
      "lam_18 4979.42\n",
      "lam_19 4822.6\n",
      "lam_20 6.55751e-05\n",
      "lam_21 7.16125e-05\n",
      "lam_22 2919.17\n",
      "lam_23 6.30426e-06\n",
      "lam_24 2216.27\n",
      "lam_25 101.581\n",
      "lam_26 3.63833e-05\n",
      "lam_27 1882.18\n",
      "lam_28 6.33035e-06\n",
      "lam_29 6.31189e-06\n",
      "lam_30 6.36956e-06\n",
      "lam_31 2104.13\n",
      "lam_32 3858.76\n",
      "lam_33 3.60037e-05\n",
      "lam_34 3.59593e-05\n",
      "lam_35 321.92\n",
      "lam_36 148.782\n",
      "lam_37 0.000345849\n",
      "lam_38 2044.64\n",
      "lam_39 3270.98\n",
      "lam_40 3103.73\n",
      "lam_41 970.725\n",
      "lam_42 1.10019e-05\n",
      "lam_43 1.10165e-05\n",
      "lam_44 10061.6\n",
      "lam_45 334.517\n",
      "lam_46 377.462\n",
      "lam_47 2053.6\n",
      "lam_48 1459.27\n",
      "lam_49 1.09999e-05\n",
      "lam_50 1.11609e-05\n",
      "lam_51 1.09896e-05\n",
      "lam_52 1715.04\n",
      "lam_53 312.499\n",
      "lam_54 895.056\n",
      "lam_55 2327.82\n",
      "Obj: -83058.2\n"
     ]
    }
   ],
   "source": [
    "from gurobipy import *\n",
    "\n",
    "L = 56  # dimension of lam\n",
    "\n",
    "K = np.size(x, 1)\n",
    "S = samp_cov(x)\n",
    "inv_S = inv(S)\n",
    "\n",
    "A_t = np.transpose(A)\n",
    "P_t = np.transpose(P)\n",
    "# PA'\n",
    "PA_t = np.dot(P, A_t)\n",
    "# AP_t\n",
    "AP_t = np.transpose(PA_t)\n",
    "\n",
    "Q = np.dot(np.dot(PA_t, inv_S), AP_t)\n",
    "b = sum([np.dot(np.dot(PA_t, inv_S), x[:, k]) for k in range(K)])\n",
    "\n",
    "\n",
    "model = Model(\"OD_matrix_estimation\")\n",
    "\n",
    "lam = []\n",
    "for l in range(L):\n",
    "    lam.append(model.addVar(name='lam_' + str(l)))\n",
    "\n",
    "model.update() \n",
    "\n",
    "# Set objective: (K/2) lam' * Q * lam - b' * lam\n",
    "obj = 0\n",
    "for i in range(L):\n",
    "    for j in range(L):\n",
    "        obj += (1.0 /2) * K * lam[i] * Q[i, j] * lam[j]\n",
    "for l in range(L):\n",
    "    obj += - b[l] * lam[l]\n",
    "model.setObjective(obj)\n",
    "\n",
    "# Add constraint: lam >= 0\n",
    "for l in range(L):\n",
    "    model.addConstr(lam[l] >= 0)\n",
    "\n",
    "model.update() \n",
    "\n",
    "model.optimize()\n",
    "\n",
    "lam_list = []\n",
    "for v in model.getVars():\n",
    "    print('%s %g' % (v.varName, v.x))\n",
    "    lam_list.append(v.x)\n",
    "print('Obj: %g' % obj.getValue())"
   ]
  },
  {
   "cell_type": "code",
   "execution_count": 18,
   "metadata": {
    "collapsed": false
   },
   "outputs": [],
   "source": [
    "# write estimation result to file\n",
    "n = 8  # number of nodes\n",
    "with open('../temp_files/OD_demand_matrix_Apr_weekday_PM.txt', 'w') as the_file:\n",
    "    idx = 0\n",
    "    for i in range(n + 1)[1:]:\n",
    "        for j in range(n + 1)[1:]:\n",
    "            if i != j: \n",
    "                the_file.write(\"%d,%d,%f\\n\" %(i, j, lam_list[idx]))\n",
    "                idx += 1"
   ]
  },
  {
   "cell_type": "code",
   "execution_count": 19,
   "metadata": {
    "collapsed": false
   },
   "outputs": [
    {
     "data": {
      "text/plain": [
       "[2.7877049398915935e-08,\n",
       " 3657.289817059476,\n",
       " 3.059973721967415e-08,\n",
       " 762.7733821652765,\n",
       " 1955.1835437376312,\n",
       " 6.50922774447474e-05,\n",
       " 8.013348507293573e-06,\n",
       " 1222.0718088319502,\n",
       " 1002.7772808032807,\n",
       " 2981.859079137279,\n",
       " 526.7008858429685,\n",
       " 859.0827862889792,\n",
       " 6.770374657388747e-05,\n",
       " 7.130885343085633e-05,\n",
       " 4722.906567104572,\n",
       " 1456.7122167824716,\n",
       " 512.2559522111544,\n",
       " 1119.538390065134,\n",
       " 4979.420215670909,\n",
       " 4822.59508856894,\n",
       " 6.55750929841022e-05,\n",
       " 7.161248251496416e-05,\n",
       " 2919.167867333784,\n",
       " 6.304256029940412e-06,\n",
       " 2216.269225370803,\n",
       " 101.58132732074421,\n",
       " 3.6383302410063103e-05,\n",
       " 1882.1833642424874,\n",
       " 6.330349758297711e-06,\n",
       " 6.3118923635790275e-06,\n",
       " 6.369557276800003e-06,\n",
       " 2104.1331814284667,\n",
       " 3858.7607115171945,\n",
       " 3.600369520920948e-05,\n",
       " 3.595929418634153e-05,\n",
       " 321.92022443470535,\n",
       " 148.78194765654735,\n",
       " 0.0003458486687599044,\n",
       " 2044.6351575534381,\n",
       " 3270.978037665124,\n",
       " 3103.7312064998832,\n",
       " 970.7249316000288,\n",
       " 1.1001928786299998e-05,\n",
       " 1.1016462599772105e-05,\n",
       " 10061.630235200066,\n",
       " 334.51693574585676,\n",
       " 377.4617514904516,\n",
       " 2053.599640241485,\n",
       " 1459.2702031285955,\n",
       " 1.0999935551918142e-05,\n",
       " 1.1160854689694637e-05,\n",
       " 1.0989575020115168e-05,\n",
       " 1715.038743553635,\n",
       " 312.49903661906427,\n",
       " 895.0562949496957,\n",
       " 2327.816943336547]"
      ]
     },
     "execution_count": 19,
     "metadata": {},
     "output_type": "execute_result"
    }
   ],
   "source": [
    "lam_list"
   ]
  },
  {
   "cell_type": "code",
   "execution_count": null,
   "metadata": {
    "collapsed": true
   },
   "outputs": [],
   "source": []
  }
 ],
 "metadata": {
  "kernelspec": {
   "display_name": "Python 2",
   "language": "python",
   "name": "python2"
  },
  "language_info": {
   "codemirror_mode": {
    "name": "ipython",
    "version": 2
   },
   "file_extension": ".py",
   "mimetype": "text/x-python",
   "name": "python",
   "nbconvert_exporter": "python",
   "pygments_lexer": "ipython2",
   "version": "2.7.11"
  }
 },
 "nbformat": 4,
 "nbformat_minor": 0
}
