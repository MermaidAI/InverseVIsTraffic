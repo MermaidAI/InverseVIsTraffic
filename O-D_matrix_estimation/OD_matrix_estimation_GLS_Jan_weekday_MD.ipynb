{
 "cells": [
  {
   "cell_type": "code",
   "execution_count": 1,
   "metadata": {
    "collapsed": true
   },
   "outputs": [],
   "source": [
    "%run ../Python_files/util_data_storage_and_load.py"
   ]
  },
  {
   "cell_type": "code",
   "execution_count": 2,
   "metadata": {
    "collapsed": true
   },
   "outputs": [],
   "source": [
    "%run ../Python_files/load_dicts.py"
   ]
  },
  {
   "cell_type": "code",
   "execution_count": 3,
   "metadata": {
    "collapsed": false
   },
   "outputs": [],
   "source": [
    "%run ../Python_files/util.py"
   ]
  },
  {
   "cell_type": "code",
   "execution_count": 4,
   "metadata": {
    "collapsed": true
   },
   "outputs": [],
   "source": [
    "# load logit_route_choice_probability_matrix\n",
    "P = zload('../temp_files/logit_route_choice_probability_matrix.pkz')"
   ]
  },
  {
   "cell_type": "code",
   "execution_count": 5,
   "metadata": {
    "collapsed": false
   },
   "outputs": [],
   "source": [
    "import numpy as np\n",
    "from numpy.linalg import inv\n",
    "\n",
    "P = np.matrix(P)"
   ]
  },
  {
   "cell_type": "code",
   "execution_count": 6,
   "metadata": {
    "collapsed": false
   },
   "outputs": [
    {
     "data": {
      "text/plain": [
       "(56, 140)"
      ]
     },
     "execution_count": 6,
     "metadata": {},
     "output_type": "execute_result"
    }
   ],
   "source": [
    "np.size(P, 0), np.size(P, 1)"
   ]
  },
  {
   "cell_type": "code",
   "execution_count": 7,
   "metadata": {
    "collapsed": true
   },
   "outputs": [],
   "source": [
    "import numpy as np\n",
    "from numpy.linalg import inv\n",
    "\n",
    "def samp_cov(x):\n",
    "    \"\"\"\n",
    "    x: sample matrix, each column is a link flow vector sample; 24 * K\n",
    "    K: number of samples\n",
    "    S: sample covariance matrix\n",
    "    ----------------\n",
    "    return: inv(S)\n",
    "    ----------------\n",
    "    \"\"\"\n",
    "    x = np.matrix(x)\n",
    "    K = np.size(x, 1)\n",
    "    x_mean = sum(x[:,k] for k in range(K)) / K\n",
    "    S = sum(np.dot(x[:,k] - x_mean, np.transpose(x[:,k] - x_mean)) for k in range(K)) / (K - 1)\n",
    "    return S"
   ]
  },
  {
   "cell_type": "code",
   "execution_count": 8,
   "metadata": {
    "collapsed": false
   },
   "outputs": [],
   "source": [
    "# load path-link incidence matrix\n",
    "A = zload('../temp_files/path-link_incidence_matrix.pkz')"
   ]
  },
  {
   "cell_type": "code",
   "execution_count": 9,
   "metadata": {
    "collapsed": false
   },
   "outputs": [],
   "source": [
    "# load link counts data\n",
    "\n",
    "import json\n",
    "\n",
    "with open('../temp_files/link_day_minute_Jan_dict_JSON.json', 'r') as json_file:\n",
    "    link_day_minute_Jan_dict_JSON = json.load(json_file)"
   ]
  },
  {
   "cell_type": "code",
   "execution_count": 10,
   "metadata": {
    "collapsed": true
   },
   "outputs": [],
   "source": [
    "week_day_Jan_list = [2, 3, 4, 5, 6, 9, 10, 11, 12, 13, 16, 17, 18, 19, 20, 23, 24, 25, 26, 27, 30, 31]"
   ]
  },
  {
   "cell_type": "code",
   "execution_count": 11,
   "metadata": {
    "collapsed": false
   },
   "outputs": [],
   "source": [
    "link_day_minute_Jan_list = []\n",
    "for link_idx in range(24):\n",
    "    for day in week_day_Jan_list: \n",
    "        for minute_idx in range(120):\n",
    "            key = 'link_' + str(link_idx) + '_' + str(day)\n",
    "            link_day_minute_Jan_list.append(link_day_minute_Jan_dict_JSON[key] ['MD_flow_minute'][minute_idx])"
   ]
  },
  {
   "cell_type": "code",
   "execution_count": 12,
   "metadata": {
    "collapsed": false
   },
   "outputs": [
    {
     "data": {
      "text/plain": [
       "63360"
      ]
     },
     "execution_count": 12,
     "metadata": {},
     "output_type": "execute_result"
    }
   ],
   "source": [
    "len(link_day_minute_Jan_list)"
   ]
  },
  {
   "cell_type": "code",
   "execution_count": 13,
   "metadata": {
    "collapsed": false
   },
   "outputs": [],
   "source": [
    "x = np.matrix(link_day_minute_Jan_list)\n",
    "x = np.matrix.reshape(x, 24, 2640)\n",
    "\n",
    "x = np.nan_to_num(x)\n",
    "y = np.array(np.transpose(x))\n",
    "y = y[np.all(y != 0, axis=1)]\n",
    "x = np.transpose(y)\n",
    "x = np.matrix(x)"
   ]
  },
  {
   "cell_type": "code",
   "execution_count": 14,
   "metadata": {
    "collapsed": false
   },
   "outputs": [
    {
     "data": {
      "text/plain": [
       "(24, 2640)"
      ]
     },
     "execution_count": 14,
     "metadata": {},
     "output_type": "execute_result"
    }
   ],
   "source": [
    "np.size(x, 0), np.size(x, 1)"
   ]
  },
  {
   "cell_type": "code",
   "execution_count": 15,
   "metadata": {
    "collapsed": false
   },
   "outputs": [
    {
     "data": {
      "text/plain": [
       "matrix([[ 2393.97041023,  2374.81086685],\n",
       "        [ 2343.05589721,  2314.46109355],\n",
       "        [ 2892.07425476,  2851.10871439],\n",
       "        [ 2873.36629234,  2894.618169  ],\n",
       "        [ 2934.19661288,  2913.60174191],\n",
       "        [ 2786.56684629,  2722.42462337],\n",
       "        [ 2457.23628061,  2320.32301718],\n",
       "        [ 2342.04884456,  2373.39056068],\n",
       "        [ 3027.69148029,  2967.391873  ],\n",
       "        [ 2873.83301966,  2972.54077379],\n",
       "        [ 2726.25778847,  2567.16556557],\n",
       "        [ 2357.60761309,  2444.98962748],\n",
       "        [ 2166.91537171,  2318.94792705],\n",
       "        [ 2466.07520272,  2401.38482722],\n",
       "        [ 2390.74913504,  2407.18381175],\n",
       "        [ 1652.07837092,  1908.5450188 ],\n",
       "        [ 1717.2936292 ,  2350.80981197],\n",
       "        [ 2322.3774848 ,  2392.11122478],\n",
       "        [ 2516.00793045,  2557.20848872],\n",
       "        [ 2441.02809097,  2551.05261178],\n",
       "        [ 2567.70737889,  2531.83760797],\n",
       "        [ 2552.07785406,  2551.26332641],\n",
       "        [ 2329.28614702,  2389.43328596],\n",
       "        [ 2377.8692257 ,  2432.63572438]])"
      ]
     },
     "execution_count": 15,
     "metadata": {},
     "output_type": "execute_result"
    }
   ],
   "source": [
    "x[:,:2]"
   ]
  },
  {
   "cell_type": "code",
   "execution_count": 16,
   "metadata": {
    "collapsed": false
   },
   "outputs": [
    {
     "data": {
      "text/plain": [
       "(24, 140)"
      ]
     },
     "execution_count": 16,
     "metadata": {},
     "output_type": "execute_result"
    }
   ],
   "source": [
    "np.size(A,0), np.size(A,1)"
   ]
  },
  {
   "cell_type": "code",
   "execution_count": 17,
   "metadata": {
    "collapsed": false
   },
   "outputs": [
    {
     "name": "stdout",
     "output_type": "stream",
     "text": [
      "Optimize a model with 56 rows, 56 columns and 56 nonzeros\n",
      "Model has 1596 quadratic objective terms\n",
      "Coefficient statistics:\n",
      "  Matrix range    [1e+00, 1e+00]\n",
      "  Objective range [4e+00, 3e+03]\n",
      "  Bounds range    [0e+00, 0e+00]\n",
      "  RHS range       [0e+00, 0e+00]\n",
      "Warning: diagonal adjustment of 9.2e-09 performed to make Q PSD\n",
      "Presolve removed 56 rows and 0 columns\n",
      "Presolve time: 0.00s\n",
      "Presolved: 0 rows, 56 columns, 0 nonzeros\n",
      "Presolved model has 1596 quadratic objective terms\n",
      "Ordering time: 0.00s\n",
      "\n",
      "Barrier statistics:\n",
      " Free vars  : 26\n",
      " AA' NZ     : 3.250e+02\n",
      " Factor NZ  : 3.510e+02\n",
      " Factor Ops : 6.201e+03 (less than 1 second per iteration)\n",
      " Threads    : 1\n",
      "\n",
      "                  Objective                Residual\n",
      "Iter       Primal          Dual         Primal    Dual     Compl     Time\n",
      "   0  -1.83411251e+07  0.00000000e+00  6.44e+03 2.16e+03  1.00e+06     0s\n",
      "   1  -1.56496792e+07 -9.41431304e+06  1.68e+03 5.64e+02  3.50e+05     0s\n",
      "   2  -1.20957178e+07 -1.36828328e+07  4.67e+01 1.57e+01  4.03e+04     0s\n",
      "   3  -1.22583670e+07 -1.24434308e+07  6.25e-01 2.10e-01  3.45e+03     0s\n",
      "   4  -1.22770891e+07 -1.22867922e+07  2.63e-03 8.84e-04  1.74e+02     0s\n",
      "   5  -1.22798005e+07 -1.22808388e+07  5.23e-08 1.75e-08  1.85e+01     0s\n",
      "   6  -1.22799971e+07 -1.22800967e+07  9.01e-09 9.09e-13  1.78e+00     0s\n",
      "   7  -1.22800023e+07 -1.22800061e+07  3.68e-10 4.97e-13  6.82e-02     0s\n",
      "   8  -1.22800027e+07 -1.22800028e+07  4.00e-10 1.48e-12  2.11e-03     0s\n",
      "   9  -1.22800027e+07 -1.22800028e+07  3.51e-10 9.09e-13  2.56e-04     0s\n",
      "  10  -1.22800027e+07 -1.22800027e+07  8.03e-11 9.09e-13  1.36e-05     0s\n",
      "  11  -1.22800027e+07 -1.22800027e+07  1.90e-11 5.15e-13  2.54e-06     0s\n",
      "  12  -1.22800027e+07 -1.22800027e+07  3.05e-11 1.30e-11  2.23e-07     0s\n",
      "  13  -1.22800027e+07 -1.22800027e+07  1.82e-12 4.64e-10  1.21e-08     0s\n",
      "  14  -1.22800027e+07 -1.22800027e+07  1.08e-12 4.20e-10  1.85e-10     0s\n",
      "\n",
      "Barrier solved model in 14 iterations and 0.02 seconds\n",
      "Optimal objective -1.22800027e+07\n",
      "\n",
      "lam_0 1.20674e-13\n",
      "lam_1 1780.57\n",
      "lam_2 1.32461e-13\n",
      "lam_3 2849.43\n",
      "lam_4 1.56282e-05\n",
      "lam_5 3.86955e-05\n",
      "lam_6 3.99724e-11\n",
      "lam_7 1245.83\n",
      "lam_8 43.7784\n",
      "lam_9 2340.54\n",
      "lam_10 2.8077e-05\n",
      "lam_11 8.82847e-05\n",
      "lam_12 3.86857e-05\n",
      "lam_13 3.89122e-05\n",
      "lam_14 2017.23\n",
      "lam_15 12.7652\n",
      "lam_16 2.31847e-05\n",
      "lam_17 2.30969e-05\n",
      "lam_18 2232.06\n",
      "lam_19 3.8692e-05\n",
      "lam_20 3.86989e-05\n",
      "lam_21 2.81574e-06\n",
      "lam_22 2543.09\n",
      "lam_23 0.0018685\n",
      "lam_24 0.0231823\n",
      "lam_25 0.0109116\n",
      "lam_26 1871.12\n",
      "lam_27 2308.69\n",
      "lam_28 1691.82\n",
      "lam_29 1234.19\n",
      "lam_30 0.00362547\n",
      "lam_31 730.195\n",
      "lam_32 1876.65\n",
      "lam_33 55.0046\n",
      "lam_34 150.462\n",
      "lam_35 0.18129\n",
      "lam_36 297.827\n",
      "lam_37 1807.37\n",
      "lam_38 1469.98\n",
      "lam_39 0.00600141\n",
      "lam_40 2399.41\n",
      "lam_41 835.009\n",
      "lam_42 2.44979e-07\n",
      "lam_43 2.44981e-07\n",
      "lam_44 2.4498e-07\n",
      "lam_45 180.026\n",
      "lam_46 0.00646931\n",
      "lam_47 2594.57\n",
      "lam_48 1242.23\n",
      "lam_49 2.45639e-07\n",
      "lam_50 2.47581e-07\n",
      "lam_51 2.44894e-07\n",
      "lam_52 2275.46\n",
      "lam_53 2029.56\n",
      "lam_54 0.00180483\n",
      "lam_55 0.00184424\n",
      "Obj: -1.228e+07\n"
     ]
    }
   ],
   "source": [
    "from gurobipy import *\n",
    "\n",
    "L = 56  # dimension of lam\n",
    "\n",
    "K = np.size(x, 1)\n",
    "S = samp_cov(x)\n",
    "inv_S = inv(S)\n",
    "\n",
    "A_t = np.transpose(A)\n",
    "P_t = np.transpose(P)\n",
    "# PA'\n",
    "PA_t = np.dot(P, A_t)\n",
    "# AP_t\n",
    "AP_t = np.transpose(PA_t)\n",
    "\n",
    "Q = np.dot(np.dot(PA_t, inv_S), AP_t)\n",
    "b = sum([np.dot(np.dot(PA_t, inv_S), x[:, k]) for k in range(K)])\n",
    "\n",
    "\n",
    "model = Model(\"OD_matrix_estimation\")\n",
    "\n",
    "lam = []\n",
    "for l in range(L):\n",
    "    lam.append(model.addVar(name='lam_' + str(l)))\n",
    "\n",
    "model.update() \n",
    "\n",
    "# Set objective: (K/2) lam' * Q * lam - b' * lam\n",
    "obj = 0\n",
    "for i in range(L):\n",
    "    for j in range(L):\n",
    "        obj += (1.0 /2) * K * lam[i] * Q[i, j] * lam[j]\n",
    "for l in range(L):\n",
    "    obj += - b[l] * lam[l]\n",
    "model.setObjective(obj)\n",
    "\n",
    "# Add constraint: lam >= 0\n",
    "for l in range(L):\n",
    "    model.addConstr(lam[l] >= 0)\n",
    "\n",
    "model.update() \n",
    "\n",
    "model.optimize()\n",
    "\n",
    "lam_list = []\n",
    "for v in model.getVars():\n",
    "    print('%s %g' % (v.varName, v.x))\n",
    "    lam_list.append(v.x)\n",
    "print('Obj: %g' % obj.getValue())"
   ]
  },
  {
   "cell_type": "code",
   "execution_count": 18,
   "metadata": {
    "collapsed": false
   },
   "outputs": [],
   "source": [
    "# write estimation result to file\n",
    "n = 8  # number of nodes\n",
    "with open('../temp_files/OD_demand_matrix_Jan_weekday_MD.txt', 'w') as the_file:\n",
    "    idx = 0\n",
    "    for i in range(n + 1)[1:]:\n",
    "        for j in range(n + 1)[1:]:\n",
    "            if i != j: \n",
    "                the_file.write(\"%d,%d,%f\\n\" %(i, j, lam_list[idx]))\n",
    "                idx += 1"
   ]
  },
  {
   "cell_type": "code",
   "execution_count": 19,
   "metadata": {
    "collapsed": false
   },
   "outputs": [
    {
     "data": {
      "text/plain": [
       "[1.2067420564290672e-13,\n",
       " 1780.5724665886473,\n",
       " 1.3246051314502833e-13,\n",
       " 2849.4343291572927,\n",
       " 1.5628178413220782e-05,\n",
       " 3.869548771453981e-05,\n",
       " 3.9972433535125596e-11,\n",
       " 1245.8315785009806,\n",
       " 43.77837271067938,\n",
       " 2340.5386336108895,\n",
       " 2.8077026226620318e-05,\n",
       " 8.828465888844825e-05,\n",
       " 3.868572212851595e-05,\n",
       " 3.891223752047063e-05,\n",
       " 2017.232504240645,\n",
       " 12.765154636031326,\n",
       " 2.318466377292626e-05,\n",
       " 2.309694099990019e-05,\n",
       " 2232.0560010942277,\n",
       " 3.869197488303583e-05,\n",
       " 3.869886633212343e-05,\n",
       " 2.815740171503169e-06,\n",
       " 2543.094382025593,\n",
       " 0.00186850266826101,\n",
       " 0.023182280451389925,\n",
       " 0.010911558477525396,\n",
       " 1871.1218171070168,\n",
       " 2308.690768953434,\n",
       " 1691.8223110358829,\n",
       " 1234.1898339929007,\n",
       " 0.0036254740848237765,\n",
       " 730.1950365628765,\n",
       " 1876.6506878898008,\n",
       " 55.004566079254296,\n",
       " 150.46226573764977,\n",
       " 0.18129024914077263,\n",
       " 297.82724253160256,\n",
       " 1807.3718559785334,\n",
       " 1469.9750470440827,\n",
       " 0.006001414206789846,\n",
       " 2399.4136810984105,\n",
       " 835.0087000897648,\n",
       " 2.4497922260140144e-07,\n",
       " 2.449813633885455e-07,\n",
       " 2.4498009288376324e-07,\n",
       " 180.0259237876848,\n",
       " 0.006469313064009663,\n",
       " 2594.574048321566,\n",
       " 1242.2268581539251,\n",
       " 2.4563923542332753e-07,\n",
       " 2.475811766153706e-07,\n",
       " 2.4489374335303385e-07,\n",
       " 2275.4602662104417,\n",
       " 2029.5607014318916,\n",
       " 0.0018048298460793255,\n",
       " 0.0018442371286897796]"
      ]
     },
     "execution_count": 19,
     "metadata": {},
     "output_type": "execute_result"
    }
   ],
   "source": [
    "lam_list"
   ]
  },
  {
   "cell_type": "code",
   "execution_count": null,
   "metadata": {
    "collapsed": true
   },
   "outputs": [],
   "source": []
  }
 ],
 "metadata": {
  "kernelspec": {
   "display_name": "Python 2",
   "language": "python",
   "name": "python2"
  },
  "language_info": {
   "codemirror_mode": {
    "name": "ipython",
    "version": 2
   },
   "file_extension": ".py",
   "mimetype": "text/x-python",
   "name": "python",
   "nbconvert_exporter": "python",
   "pygments_lexer": "ipython2",
   "version": "2.7.11"
  }
 },
 "nbformat": 4,
 "nbformat_minor": 0
}
