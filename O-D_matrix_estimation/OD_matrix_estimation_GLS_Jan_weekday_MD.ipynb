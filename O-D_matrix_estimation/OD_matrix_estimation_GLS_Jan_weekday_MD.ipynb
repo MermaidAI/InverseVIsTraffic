{
 "cells": [
  {
   "cell_type": "code",
   "execution_count": 1,
   "metadata": {
    "collapsed": true
   },
   "outputs": [],
   "source": [
    "%run ../Python_files/util_data_storage_and_load.py"
   ]
  },
  {
   "cell_type": "code",
   "execution_count": 2,
   "metadata": {
    "collapsed": true
   },
   "outputs": [],
   "source": [
    "%run ../Python_files/load_dicts.py"
   ]
  },
  {
   "cell_type": "code",
   "execution_count": 3,
   "metadata": {
    "collapsed": false
   },
   "outputs": [],
   "source": [
    "%run ../Python_files/util.py"
   ]
  },
  {
   "cell_type": "code",
   "execution_count": 4,
   "metadata": {
    "collapsed": true
   },
   "outputs": [],
   "source": [
    "# load logit_route_choice_probability_matrix\n",
    "P = zload('../temp_files/logit_route_choice_probability_matrix.pkz')"
   ]
  },
  {
   "cell_type": "code",
   "execution_count": 5,
   "metadata": {
    "collapsed": false
   },
   "outputs": [],
   "source": [
    "import numpy as np\n",
    "from numpy.linalg import inv\n",
    "\n",
    "P = np.matrix(P)"
   ]
  },
  {
   "cell_type": "code",
   "execution_count": 6,
   "metadata": {
    "collapsed": false
   },
   "outputs": [
    {
     "data": {
      "text/plain": [
       "(56, 140)"
      ]
     },
     "execution_count": 6,
     "metadata": {},
     "output_type": "execute_result"
    }
   ],
   "source": [
    "np.size(P, 0), np.size(P, 1)"
   ]
  },
  {
   "cell_type": "code",
   "execution_count": 7,
   "metadata": {
    "collapsed": true
   },
   "outputs": [],
   "source": [
    "import numpy as np\n",
    "from numpy.linalg import inv\n",
    "\n",
    "def samp_cov(x):\n",
    "    \"\"\"\n",
    "    x: sample matrix, each column is a link flow vector sample; 24 * K\n",
    "    K: number of samples\n",
    "    S: sample covariance matrix\n",
    "    ----------------\n",
    "    return: inv(S)\n",
    "    ----------------\n",
    "    \"\"\"\n",
    "    x = np.matrix(x)\n",
    "    K = np.size(x, 1)\n",
    "    x_mean = sum(x[:,k] for k in range(K)) / K\n",
    "    S = sum(np.dot(x[:,k] - x_mean, np.transpose(x[:,k] - x_mean)) for k in range(K)) / (K - 1)\n",
    "    return S"
   ]
  },
  {
   "cell_type": "code",
   "execution_count": 8,
   "metadata": {
    "collapsed": false
   },
   "outputs": [],
   "source": [
    "# load path-link incidence matrix\n",
    "A = zload('../temp_files/path-link_incidence_matrix.pkz')"
   ]
  },
  {
   "cell_type": "code",
   "execution_count": 9,
   "metadata": {
    "collapsed": false
   },
   "outputs": [],
   "source": [
    "# load link counts data\n",
    "\n",
    "import json\n",
    "\n",
    "with open('../temp_files/link_day_minute_Jan_dict_JSON.json', 'r') as json_file:\n",
    "    link_day_minute_Jan_dict_JSON = json.load(json_file)"
   ]
  },
  {
   "cell_type": "code",
   "execution_count": 10,
   "metadata": {
    "collapsed": true
   },
   "outputs": [],
   "source": [
    "week_day_Jan_list = [2, 3, 4, 5, 6, 9, 10, 11, 12, 13, 16, 17, 18, 19, 20, 23, 24, 25, 26, 27, 30, 31]"
   ]
  },
  {
   "cell_type": "code",
   "execution_count": 11,
   "metadata": {
    "collapsed": false
   },
   "outputs": [],
   "source": [
    "link_day_minute_Jan_list = []\n",
    "for link_idx in range(24):\n",
    "    for day in week_day_Jan_list: \n",
    "        for minute_idx in range(120):\n",
    "            key = 'link_' + str(link_idx) + '_' + str(day)\n",
    "            link_day_minute_Jan_list.append(link_day_minute_Jan_dict_JSON[key] ['MD_flow_minute'][minute_idx])"
   ]
  },
  {
   "cell_type": "code",
   "execution_count": 12,
   "metadata": {
    "collapsed": false
   },
   "outputs": [
    {
     "data": {
      "text/plain": [
       "63360"
      ]
     },
     "execution_count": 12,
     "metadata": {},
     "output_type": "execute_result"
    }
   ],
   "source": [
    "len(link_day_minute_Jan_list)"
   ]
  },
  {
   "cell_type": "code",
   "execution_count": 13,
   "metadata": {
    "collapsed": false
   },
   "outputs": [],
   "source": [
    "x = np.matrix(link_day_minute_Jan_list)\n",
    "x = np.matrix.reshape(x, 24, 2640)\n",
    "\n",
    "x = np.nan_to_num(x)\n",
    "y = np.array(np.transpose(x))\n",
    "y = y[np.all(y != 0, axis=1)]\n",
    "x = np.transpose(y)\n",
    "x = np.matrix(x)"
   ]
  },
  {
   "cell_type": "code",
   "execution_count": 14,
   "metadata": {
    "collapsed": false
   },
   "outputs": [
    {
     "data": {
      "text/plain": [
       "(24, 2640)"
      ]
     },
     "execution_count": 14,
     "metadata": {},
     "output_type": "execute_result"
    }
   ],
   "source": [
    "np.size(x, 0), np.size(x, 1)"
   ]
  },
  {
   "cell_type": "code",
   "execution_count": 15,
   "metadata": {
    "collapsed": false
   },
   "outputs": [
    {
     "data": {
      "text/plain": [
       "matrix([[ 5706.95021529,  5769.73404425],\n",
       "        [ 5996.70758168,  5727.1912134 ],\n",
       "        [ 7769.37515025,  6968.54352984],\n",
       "        [ 6526.50903616,  7160.76378662],\n",
       "        [ 8345.65321871,  7223.74468502],\n",
       "        [ 6374.32733118,  5444.49174019],\n",
       "        [ 6931.38800943,  4359.10654166],\n",
       "        [ 3370.89827923,  4131.76453876],\n",
       "        [ 4913.78397377,  3644.54925995],\n",
       "        [ 2436.66325747,  5120.43726483],\n",
       "        [ 9497.20235035,  4625.90787758],\n",
       "        [ 6662.38765684,  8659.45857039],\n",
       "        [ 2760.07845131,  6900.90798161],\n",
       "        [ 3460.09542301,  2526.38019712],\n",
       "        [ 5771.10891497,  6485.7370088 ],\n",
       "        [ 2092.00514271,  4053.55624997],\n",
       "        [ 6883.74001144,  4722.73799537],\n",
       "        [ 3429.86933348,  4330.29629178],\n",
       "        [ 4056.08296282,  6188.14457384],\n",
       "        [ 4693.78104603,  5020.20677159],\n",
       "        [ 3571.82719425,  3151.19618574],\n",
       "        [ 3602.97974399,  3270.31054799],\n",
       "        [ 4674.38277454,  5497.26710306],\n",
       "        [ 4802.90575811,  6492.37518315]])"
      ]
     },
     "execution_count": 15,
     "metadata": {},
     "output_type": "execute_result"
    }
   ],
   "source": [
    "x[:,:2]"
   ]
  },
  {
   "cell_type": "code",
   "execution_count": 16,
   "metadata": {
    "collapsed": false
   },
   "outputs": [
    {
     "data": {
      "text/plain": [
       "(24, 140)"
      ]
     },
     "execution_count": 16,
     "metadata": {},
     "output_type": "execute_result"
    }
   ],
   "source": [
    "np.size(A,0), np.size(A,1)"
   ]
  },
  {
   "cell_type": "code",
   "execution_count": 17,
   "metadata": {
    "collapsed": false
   },
   "outputs": [
    {
     "name": "stdout",
     "output_type": "stream",
     "text": [
      "Optimize a model with 56 rows, 56 columns and 56 nonzeros\n",
      "Model has 1596 quadratic objective terms\n",
      "Coefficient statistics:\n",
      "  Matrix range    [1e+00, 1e+00]\n",
      "  Objective range [7e-02, 1e+01]\n",
      "  Bounds range    [0e+00, 0e+00]\n",
      "  RHS range       [0e+00, 0e+00]\n",
      "Presolve removed 56 rows and 0 columns\n",
      "Presolve time: 0.00s\n",
      "Presolved: 0 rows, 56 columns, 0 nonzeros\n",
      "Presolved model has 1596 quadratic objective terms\n",
      "Ordering time: 0.00s\n",
      "\n",
      "Barrier statistics:\n",
      " Free vars  : 24\n",
      " AA' NZ     : 2.760e+02\n",
      " Factor NZ  : 3.000e+02\n",
      " Factor Ops : 4.900e+03 (less than 1 second per iteration)\n",
      " Threads    : 1\n",
      "\n",
      "                  Objective                Residual\n",
      "Iter       Primal          Dual         Primal    Dual     Compl     Time\n",
      "   0  -8.73978595e+05  0.00000000e+00  4.23e+03 1.95e+02  9.67e+05     0s\n",
      "   1   1.03323412e+06 -1.63017609e+06  8.84e+02 2.06e+02  2.43e+05     0s\n",
      "   2   8.53296120e+05 -1.32499140e+06  8.84e-04 1.14e-13  3.89e+04     0s\n",
      "   3   2.01675349e+04 -2.90998285e+05  8.85e-10 5.68e-14  5.56e+03     0s\n",
      "   4  -8.07738202e+04 -1.20818956e+05  1.19e-12 9.24e-14  7.15e+02     0s\n",
      "   5  -8.96239358e+04 -9.35084641e+04  1.08e-12 2.84e-14  6.94e+01     0s\n",
      "   6  -8.99912109e+04 -9.01383553e+04  2.67e-12 3.20e-14  2.63e+00     0s\n",
      "   7  -9.00068130e+04 -9.00233491e+04  9.83e-11 2.13e-14  2.95e-01     0s\n",
      "   8  -9.00107580e+04 -9.00167827e+04  3.54e-12 5.68e-14  1.08e-01     0s\n",
      "   9  -9.00119222e+04 -9.00121359e+04  1.52e-12 3.55e-14  3.82e-03     0s\n",
      "  10  -9.00120638e+04 -9.00120712e+04  2.15e-11 2.84e-14  1.33e-04     0s\n",
      "  11  -9.00120666e+04 -9.00120666e+04  2.53e-12 1.42e-14  1.88e-07     0s\n",
      "  12  -9.00120666e+04 -9.00120666e+04  1.42e-12 2.84e-14  1.09e-08     0s\n",
      "  13  -9.00120666e+04 -9.00120666e+04  3.55e-13 5.34e-11  1.90e-09     0s\n",
      "\n",
      "Barrier solved model in 13 iterations and 0.02 seconds\n",
      "Optimal objective -9.00120666e+04\n",
      "\n",
      "lam_0 4.37502e-10\n",
      "lam_1 6025.39\n",
      "lam_2 4.80229e-10\n",
      "lam_3 2.27246e-06\n",
      "lam_4 1356.17\n",
      "lam_5 3.80999e-06\n",
      "lam_6 1.39626e-07\n",
      "lam_7 2334.16\n",
      "lam_8 316.77\n",
      "lam_9 4473.25\n",
      "lam_10 2.27246e-06\n",
      "lam_11 269.4\n",
      "lam_12 3.81e-06\n",
      "lam_13 3.83182e-06\n",
      "lam_14 7359.68\n",
      "lam_15 2129.66\n",
      "lam_16 2.27246e-06\n",
      "lam_17 2.27246e-06\n",
      "lam_18 2064.8\n",
      "lam_19 7867.87\n",
      "lam_20 3.80918e-06\n",
      "lam_21 2.9633e-05\n",
      "lam_22 4688.44\n",
      "lam_23 2.31033e-06\n",
      "lam_24 4071.49\n",
      "lam_25 32.8042\n",
      "lam_26 30.7856\n",
      "lam_27 4305.33\n",
      "lam_28 2.31032e-06\n",
      "lam_29 2.31032e-06\n",
      "lam_30 2.31033e-06\n",
      "lam_31 1857.32\n",
      "lam_32 3629.2\n",
      "lam_33 5170.06\n",
      "lam_34 1838.79\n",
      "lam_35 9.16047e-05\n",
      "lam_36 9.16045e-05\n",
      "lam_37 3751.27\n",
      "lam_38 682.887\n",
      "lam_39 2509.67\n",
      "lam_40 2738.04\n",
      "lam_41 824.721\n",
      "lam_42 4.42778e-06\n",
      "lam_43 4.42778e-06\n",
      "lam_44 8969.18\n",
      "lam_45 1433.25\n",
      "lam_46 2.93787\n",
      "lam_47 316.4\n",
      "lam_48 1404.75\n",
      "lam_49 4.4408e-06\n",
      "lam_50 4.47683e-06\n",
      "lam_51 4.42645e-06\n",
      "lam_52 3302.68\n",
      "lam_53 32.368\n",
      "lam_54 427.043\n",
      "lam_55 3812.48\n",
      "Obj: -90004.7\n"
     ]
    }
   ],
   "source": [
    "from gurobipy import *\n",
    "\n",
    "L = 56  # dimension of lam\n",
    "\n",
    "K = np.size(x, 1)\n",
    "S = samp_cov(x)\n",
    "inv_S = inv(S)\n",
    "\n",
    "A_t = np.transpose(A)\n",
    "P_t = np.transpose(P)\n",
    "# PA'\n",
    "PA_t = np.dot(P, A_t)\n",
    "# AP_t\n",
    "AP_t = np.transpose(PA_t)\n",
    "\n",
    "Q = np.dot(np.dot(PA_t, inv_S), AP_t)\n",
    "b = sum([np.dot(np.dot(PA_t, inv_S), x[:, k]) for k in range(K)])\n",
    "\n",
    "\n",
    "model = Model(\"OD_matrix_estimation\")\n",
    "\n",
    "lam = []\n",
    "for l in range(L):\n",
    "    lam.append(model.addVar(name='lam_' + str(l)))\n",
    "\n",
    "model.update() \n",
    "\n",
    "# Set objective: (K/2) lam' * Q * lam - b' * lam\n",
    "obj = 0\n",
    "for i in range(L):\n",
    "    for j in range(L):\n",
    "        obj += (1.0 /2) * K * lam[i] * Q[i, j] * lam[j]\n",
    "for l in range(L):\n",
    "    obj += - b[l] * lam[l]\n",
    "model.setObjective(obj)\n",
    "\n",
    "# Add constraint: lam >= 0\n",
    "for l in range(L):\n",
    "    model.addConstr(lam[l] >= 0)\n",
    "\n",
    "model.update() \n",
    "\n",
    "model.optimize()\n",
    "\n",
    "lam_list = []\n",
    "for v in model.getVars():\n",
    "    print('%s %g' % (v.varName, v.x))\n",
    "    lam_list.append(v.x)\n",
    "print('Obj: %g' % obj.getValue())"
   ]
  },
  {
   "cell_type": "code",
   "execution_count": 18,
   "metadata": {
    "collapsed": false
   },
   "outputs": [],
   "source": [
    "# write estimation result to file\n",
    "n = 8  # number of nodes\n",
    "with open('../temp_files/OD_demand_matrix_Jan_weekday_MD.txt', 'w') as the_file:\n",
    "    idx = 0\n",
    "    for i in range(n + 1)[1:]:\n",
    "        for j in range(n + 1)[1:]:\n",
    "            if i != j: \n",
    "                the_file.write(\"%d,%d,%f\\n\" %(i, j, lam_list[idx]))\n",
    "                idx += 1"
   ]
  },
  {
   "cell_type": "code",
   "execution_count": 19,
   "metadata": {
    "collapsed": false
   },
   "outputs": [
    {
     "data": {
      "text/plain": [
       "[4.3750165119324143e-10,\n",
       " 6025.393759917874,\n",
       " 4.802285497198828e-10,\n",
       " 2.27246429599748e-06,\n",
       " 1356.1732518291597,\n",
       " 3.8099913036947164e-06,\n",
       " 1.3962594929846191e-07,\n",
       " 2334.1588611837246,\n",
       " 316.7697148343589,\n",
       " 4473.253281181975,\n",
       " 2.2724642355521992e-06,\n",
       " 269.3999441506581,\n",
       " 3.8099954793124977e-06,\n",
       " 3.831815156313504e-06,\n",
       " 7359.678360605219,\n",
       " 2129.656665243286,\n",
       " 2.2724643335626357e-06,\n",
       " 2.2724643213469874e-06,\n",
       " 2064.8022963218405,\n",
       " 7867.872287053946,\n",
       " 3.8091811856492005e-06,\n",
       " 2.9632967434925572e-05,\n",
       " 4688.438999108004,\n",
       " 2.3103284768194833e-06,\n",
       " 4071.49256592244,\n",
       " 32.80419466673305,\n",
       " 30.785600361245884,\n",
       " 4305.332146463127,\n",
       " 2.3103232285374802e-06,\n",
       " 2.3103237370992127e-06,\n",
       " 2.3103284369622345e-06,\n",
       " 1857.3204027230383,\n",
       " 3629.2012149984603,\n",
       " 5170.0605139528425,\n",
       " 1838.7879658464294,\n",
       " 9.16047337025518e-05,\n",
       " 9.160452009488303e-05,\n",
       " 3751.265976348696,\n",
       " 682.8872155111709,\n",
       " 2509.6683577414497,\n",
       " 2738.0422854478898,\n",
       " 824.7209265967696,\n",
       " 4.427784957040045e-06,\n",
       " 4.42778477410184e-06,\n",
       " 8969.183877312813,\n",
       " 1433.2494036878559,\n",
       " 2.9378743588117686,\n",
       " 316.3995768533817,\n",
       " 1404.746708496787,\n",
       " 4.44080080353436e-06,\n",
       " 4.476828145062348e-06,\n",
       " 4.426449537092326e-06,\n",
       " 3302.684611578055,\n",
       " 32.36799509720339,\n",
       " 427.042819710868,\n",
       " 3812.4786595179603]"
      ]
     },
     "execution_count": 19,
     "metadata": {},
     "output_type": "execute_result"
    }
   ],
   "source": [
    "lam_list"
   ]
  },
  {
   "cell_type": "code",
   "execution_count": null,
   "metadata": {
    "collapsed": true
   },
   "outputs": [],
   "source": []
  }
 ],
 "metadata": {
  "kernelspec": {
   "display_name": "Python 2",
   "language": "python",
   "name": "python2"
  },
  "language_info": {
   "codemirror_mode": {
    "name": "ipython",
    "version": 2
   },
   "file_extension": ".py",
   "mimetype": "text/x-python",
   "name": "python",
   "nbconvert_exporter": "python",
   "pygments_lexer": "ipython2",
   "version": "2.7.11"
  }
 },
 "nbformat": 4,
 "nbformat_minor": 0
}
