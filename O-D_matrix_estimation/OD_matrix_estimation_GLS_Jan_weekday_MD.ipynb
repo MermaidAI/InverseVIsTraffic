{
 "cells": [
  {
   "cell_type": "code",
   "execution_count": 1,
   "metadata": {
    "collapsed": true
   },
   "outputs": [],
   "source": [
    "%run ../Python_files/util_data_storage_and_load.py"
   ]
  },
  {
   "cell_type": "code",
   "execution_count": 2,
   "metadata": {
    "collapsed": true
   },
   "outputs": [],
   "source": [
    "%run ../Python_files/load_dicts.py"
   ]
  },
  {
   "cell_type": "code",
   "execution_count": 3,
   "metadata": {
    "collapsed": false
   },
   "outputs": [],
   "source": [
    "%run ../Python_files/util.py"
   ]
  },
  {
   "cell_type": "code",
   "execution_count": 4,
   "metadata": {
    "collapsed": true
   },
   "outputs": [],
   "source": [
    "# load logit_route_choice_probability_matrix\n",
    "P = zload('../temp_files/logit_route_choice_probability_matrix.pkz')"
   ]
  },
  {
   "cell_type": "code",
   "execution_count": 5,
   "metadata": {
    "collapsed": false
   },
   "outputs": [],
   "source": [
    "import numpy as np\n",
    "from numpy.linalg import inv\n",
    "\n",
    "P = np.matrix(P)"
   ]
  },
  {
   "cell_type": "code",
   "execution_count": 6,
   "metadata": {
    "collapsed": false
   },
   "outputs": [
    {
     "data": {
      "text/plain": [
       "(56, 140)"
      ]
     },
     "execution_count": 6,
     "metadata": {},
     "output_type": "execute_result"
    }
   ],
   "source": [
    "np.size(P, 0), np.size(P, 1)"
   ]
  },
  {
   "cell_type": "code",
   "execution_count": 7,
   "metadata": {
    "collapsed": true
   },
   "outputs": [],
   "source": [
    "import numpy as np\n",
    "from numpy.linalg import inv\n",
    "\n",
    "def samp_cov(x):\n",
    "    \"\"\"\n",
    "    x: sample matrix, each column is a link flow vector sample; 24 * K\n",
    "    K: number of samples\n",
    "    S: sample covariance matrix\n",
    "    ----------------\n",
    "    return: inv(S)\n",
    "    ----------------\n",
    "    \"\"\"\n",
    "    x = np.matrix(x)\n",
    "    K = np.size(x, 1)\n",
    "    x_mean = sum(x[:,k] for k in range(K)) / K\n",
    "    S = sum(np.dot(x[:,k] - x_mean, np.transpose(x[:,k] - x_mean)) for k in range(K)) / (K - 1)\n",
    "    return S"
   ]
  },
  {
   "cell_type": "code",
   "execution_count": 8,
   "metadata": {
    "collapsed": false
   },
   "outputs": [],
   "source": [
    "# load path-link incidence matrix\n",
    "A = zload('../temp_files/path-link_incidence_matrix.pkz')"
   ]
  },
  {
   "cell_type": "code",
   "execution_count": 9,
   "metadata": {
    "collapsed": false
   },
   "outputs": [],
   "source": [
    "# load link counts data\n",
    "\n",
    "import json\n",
    "\n",
    "with open('../temp_files/link_day_minute_Jan_dict_JSON.json', 'r') as json_file:\n",
    "    link_day_minute_Jan_dict_JSON = json.load(json_file)"
   ]
  },
  {
   "cell_type": "code",
   "execution_count": 10,
   "metadata": {
    "collapsed": true
   },
   "outputs": [],
   "source": [
    "week_day_Jan_list = [2, 3, 4, 5, 6, 9, 10, 11, 12, 13, 16, 17, 18, 19, 20, 23, 24, 25, 26, 27, 30, 31]\n",
    "#week_day_Jan_list = [2, 9, 16, 23, 30]"
   ]
  },
  {
   "cell_type": "code",
   "execution_count": 11,
   "metadata": {
    "collapsed": false
   },
   "outputs": [],
   "source": [
    "link_day_minute_Jan_list = []\n",
    "for link_idx in range(24):\n",
    "    for day in week_day_Jan_list: \n",
    "        for minute_idx in range(120):\n",
    "            key = 'link_' + str(link_idx) + '_' + str(day)\n",
    "            link_day_minute_Jan_list.append(link_day_minute_Jan_dict_JSON[key] ['MD_flow_minute'][minute_idx])"
   ]
  },
  {
   "cell_type": "code",
   "execution_count": 12,
   "metadata": {
    "collapsed": false
   },
   "outputs": [
    {
     "data": {
      "text/plain": [
       "63360"
      ]
     },
     "execution_count": 12,
     "metadata": {},
     "output_type": "execute_result"
    }
   ],
   "source": [
    "len(link_day_minute_Jan_list)"
   ]
  },
  {
   "cell_type": "code",
   "execution_count": 14,
   "metadata": {
    "collapsed": false
   },
   "outputs": [],
   "source": [
    "x = np.matrix(link_day_minute_Jan_list)\n",
    "x = np.matrix.reshape(x, 24, 2640)\n",
    "\n",
    "x = np.nan_to_num(x)\n",
    "y = np.array(np.transpose(x))\n",
    "y = y[np.all(y != 0, axis=1)]\n",
    "x = np.transpose(y)\n",
    "x = np.matrix(x)"
   ]
  },
  {
   "cell_type": "code",
   "execution_count": 15,
   "metadata": {
    "collapsed": false
   },
   "outputs": [
    {
     "data": {
      "text/plain": [
       "(24, 2640)"
      ]
     },
     "execution_count": 15,
     "metadata": {},
     "output_type": "execute_result"
    }
   ],
   "source": [
    "np.size(x, 0), np.size(x, 1)"
   ]
  },
  {
   "cell_type": "code",
   "execution_count": 16,
   "metadata": {
    "collapsed": false
   },
   "outputs": [
    {
     "data": {
      "text/plain": [
       "matrix([[  647382.36325344,   640237.8298605 ],\n",
       "        [  678225.89645663,   661148.64361712],\n",
       "        [ 1196529.98249006,  1188788.5281001 ],\n",
       "        [ 1268351.55896686,  1246949.25519545],\n",
       "        [  309510.49283983,   301925.77575403],\n",
       "        [  396527.35793771,   380762.99913631],\n",
       "        [  782394.99884797,   749910.29551765],\n",
       "        [  764039.77542994,   760696.86046897],\n",
       "        [  682585.49002355,   688203.2820016 ],\n",
       "        [  675105.70640671,   707965.89843347],\n",
       "        [  733622.38703719,   699727.69566146],\n",
       "        [  631918.2823594 ,   628820.51443439],\n",
       "        [  179092.60871588,   180575.80381719],\n",
       "        [  185537.7439059 ,   183369.4048835 ],\n",
       "        [  303278.4049973 ,   284382.39444304],\n",
       "        [  262923.53587039,   275200.93253566],\n",
       "        [  382453.08046721,   398597.64654216],\n",
       "        [  395896.30947978,   409521.93802392],\n",
       "        [  608784.21063278,   640370.55357122],\n",
       "        [  565458.25052227,   575998.31370421],\n",
       "        [  935145.17524493,   921911.50522116],\n",
       "        [  981989.47483948,   979720.86659779],\n",
       "        [  258494.31132252,   257761.83931933],\n",
       "        [  263059.31801841,   267340.82341271]])"
      ]
     },
     "execution_count": 16,
     "metadata": {},
     "output_type": "execute_result"
    }
   ],
   "source": [
    "x[:,:2]"
   ]
  },
  {
   "cell_type": "code",
   "execution_count": 17,
   "metadata": {
    "collapsed": false
   },
   "outputs": [
    {
     "data": {
      "text/plain": [
       "(24, 140)"
      ]
     },
     "execution_count": 17,
     "metadata": {},
     "output_type": "execute_result"
    }
   ],
   "source": [
    "np.size(A,0), np.size(A,1)"
   ]
  },
  {
   "cell_type": "code",
   "execution_count": 18,
   "metadata": {
    "collapsed": false
   },
   "outputs": [
    {
     "name": "stdout",
     "output_type": "stream",
     "text": [
      "Optimize a model with 56 rows, 56 columns and 56 nonzeros\n",
      "Model has 1596 quadratic objective terms\n",
      "Coefficient statistics:\n",
      "  Matrix range    [1e+00, 1e+00]\n",
      "  Objective range [6e-02, 2e+01]\n",
      "  Bounds range    [0e+00, 0e+00]\n",
      "  RHS range       [0e+00, 0e+00]\n",
      "Presolve removed 56 rows and 0 columns\n",
      "Presolve time: 0.00s\n",
      "Presolved: 0 rows, 56 columns, 0 nonzeros\n",
      "Presolved model has 1596 quadratic objective terms\n",
      "Ordering time: 0.00s\n",
      "\n",
      "Barrier statistics:\n",
      " Free vars  : 24\n",
      " AA' NZ     : 2.760e+02\n",
      " Factor NZ  : 3.000e+02\n",
      " Factor Ops : 4.900e+03 (less than 1 second per iteration)\n",
      " Threads    : 1\n",
      "\n",
      "                  Objective                Residual\n",
      "Iter       Primal          Dual         Primal    Dual     Compl     Time\n",
      "   0  -1.13831211e+07  0.00000000e+00  4.72e+03 1.73e+03  1.00e+06     0s\n",
      "   1  -1.17056634e+07 -4.21105843e+06  1.66e+03 6.08e+02  3.85e+05     0s\n",
      "   2  -1.16858876e+07 -1.19473834e+07  2.45e+02 8.99e+01  9.69e+04     0s\n",
      "   3  -1.19415919e+07 -1.23941179e+07  1.26e+00 4.64e-01  8.52e+03     0s\n",
      "   4  -1.20864925e+07 -1.21295968e+07  1.26e-06 4.64e-07  7.70e+02     0s\n",
      "   5  -1.20975976e+07 -1.21093968e+07  1.70e-07 6.24e-08  2.11e+02     0s\n",
      "   6  -1.20985541e+07 -1.21039429e+07  1.02e-11 6.82e-13  9.62e+01     0s\n",
      "   7  -1.21002783e+07 -1.21009482e+07  3.07e-12 3.41e-13  1.20e+01     0s\n",
      "   8  -1.21005699e+07 -1.21006575e+07  6.37e-12 6.82e-13  1.56e+00     0s\n",
      "   9  -1.21006064e+07 -1.21006312e+07  1.44e-11 3.02e-13  4.43e-01     0s\n",
      "  10  -1.21006170e+07 -1.21006198e+07  1.05e-11 6.82e-13  5.07e-02     0s\n",
      "  11  -1.21006185e+07 -1.21006192e+07  6.37e-12 2.98e-13  1.24e-02     0s\n",
      "  12  -1.21006188e+07 -1.21006188e+07  3.16e-11 2.27e-13  1.11e-04     0s\n",
      "  13  -1.21006188e+07 -1.21006188e+07  1.45e-10 3.41e-13  1.18e-07     0s\n",
      "  14  -1.21006188e+07 -1.21006188e+07  1.82e-12 4.43e-13  1.18e-10     0s\n",
      "\n",
      "Barrier solved model in 14 iterations and 0.02 seconds\n",
      "Optimal objective -1.21006188e+07\n",
      "\n",
      "lam_0 2.3559e-10\n",
      "lam_1 7.13796e-07\n",
      "lam_2 141791\n",
      "lam_3 6.93998e-07\n",
      "lam_4 7.924e-07\n",
      "lam_5 420998\n",
      "lam_6 7.22329e-07\n",
      "lam_7 5.82334e-10\n",
      "lam_8 1.45866e-11\n",
      "lam_9 257435\n",
      "lam_10 1.45866e-11\n",
      "lam_11 1.45866e-11\n",
      "lam_12 1.45867e-11\n",
      "lam_13 1.46848e-11\n",
      "lam_14 406763\n",
      "lam_15 2.01012e-11\n",
      "lam_16 8.43511e-08\n",
      "lam_17 45822.5\n",
      "lam_18 32824.8\n",
      "lam_19 6.54574e-07\n",
      "lam_20 120824\n",
      "lam_21 186501\n",
      "lam_22 451831\n",
      "lam_23 1.59004e-07\n",
      "lam_24 8.60142e-05\n",
      "lam_25 0.00021593\n",
      "lam_26 48787.1\n",
      "lam_27 361879\n",
      "lam_28 351813\n",
      "lam_29 2.01012e-11\n",
      "lam_30 1.96291e-07\n",
      "lam_31 5.09283e-07\n",
      "lam_32 17116.7\n",
      "lam_33 3.98134e-09\n",
      "lam_34 24346.5\n",
      "lam_35 121873\n",
      "lam_36 2.01012e-11\n",
      "lam_37 1.40367e-07\n",
      "lam_38 79895.5\n",
      "lam_39 4.09136e-07\n",
      "lam_40 236240\n",
      "lam_41 9.59155e-07\n",
      "lam_42 161770\n",
      "lam_43 2.01012e-11\n",
      "lam_44 5.51641e-08\n",
      "lam_45 23673.2\n",
      "lam_46 4.63257e-08\n",
      "lam_47 441742\n",
      "lam_48 7.84464e-07\n",
      "lam_49 8.39292e-08\n",
      "lam_50 2.03515e-11\n",
      "lam_51 8.36576e-08\n",
      "lam_52 306247\n",
      "lam_53 165721\n",
      "lam_54 8.36238e-08\n",
      "lam_55 8.36338e-08\n",
      "Obj: -1.21004e+07\n"
     ]
    }
   ],
   "source": [
    "from gurobipy import *\n",
    "\n",
    "L = 56  # dimension of lam\n",
    "\n",
    "K = np.size(x, 1)\n",
    "S = samp_cov(x)\n",
    "inv_S = inv(S)\n",
    "\n",
    "A_t = np.transpose(A)\n",
    "P_t = np.transpose(P)\n",
    "# PA'\n",
    "PA_t = np.dot(P, A_t)\n",
    "# AP_t\n",
    "AP_t = np.transpose(PA_t)\n",
    "\n",
    "Q = np.dot(np.dot(PA_t, inv_S), AP_t)\n",
    "b = sum([np.dot(np.dot(PA_t, inv_S), x[:, k]) for k in range(K)])\n",
    "\n",
    "\n",
    "model = Model(\"OD_matrix_estimation\")\n",
    "\n",
    "lam = []\n",
    "for l in range(L):\n",
    "    lam.append(model.addVar(name='lam_' + str(l)))\n",
    "\n",
    "model.update() \n",
    "\n",
    "# Set objective: (K/2) lam' * Q * lam - b * lam\n",
    "obj = 0\n",
    "for i in range(L):\n",
    "    for j in range(L):\n",
    "        obj += (1.0 /2) * K * lam[i] * Q[i, j] * lam[j]\n",
    "for l in range(L):\n",
    "    obj += - b[l] * lam[l]\n",
    "model.setObjective(obj)\n",
    "\n",
    "# Add constraint: lam >= 0\n",
    "for l in range(L):\n",
    "    model.addConstr(lam[l] >= 0)\n",
    "\n",
    "model.update() \n",
    "\n",
    "model.optimize()\n",
    "\n",
    "lam_list = []\n",
    "for v in model.getVars():\n",
    "    print('%s %g' % (v.varName, v.x))\n",
    "    lam_list.append(v.x)\n",
    "print('Obj: %g' % obj.getValue())"
   ]
  },
  {
   "cell_type": "code",
   "execution_count": 19,
   "metadata": {
    "collapsed": false
   },
   "outputs": [],
   "source": [
    "# write estimation result to file\n",
    "n = 8  # number of nodes\n",
    "with open('../temp_files/OD_demand_matrix_Jan_weekday_MD.txt', 'w') as the_file:\n",
    "    idx = 0\n",
    "    for i in range(n + 1)[1:]:\n",
    "        for j in range(n + 1)[1:]:\n",
    "            if i != j: \n",
    "                the_file.write(\"%d,%d,%f\\n\" %(i, j, lam_list[idx]))\n",
    "                idx += 1"
   ]
  },
  {
   "cell_type": "code",
   "execution_count": 20,
   "metadata": {
    "collapsed": false
   },
   "outputs": [
    {
     "data": {
      "text/plain": [
       "[2.3558992546909246e-10,\n",
       " 7.137960343510169e-07,\n",
       " 141791.05210124308,\n",
       " 6.939979639114481e-07,\n",
       " 7.92399508402924e-07,\n",
       " 420997.7653718165,\n",
       " 7.223285708468381e-07,\n",
       " 5.823344350310582e-10,\n",
       " 1.4586554606019774e-11,\n",
       " 257435.43755973893,\n",
       " 1.4586566475692642e-11,\n",
       " 1.4586567210367992e-11,\n",
       " 1.4586737811078684e-11,\n",
       " 1.4684819068224633e-11,\n",
       " 406763.0778631107,\n",
       " 2.01011717998532e-11,\n",
       " 8.435113075200512e-08,\n",
       " 45822.45450274898,\n",
       " 32824.83835064018,\n",
       " 6.545739356348008e-07,\n",
       " 120823.95260536138,\n",
       " 186500.76133956813,\n",
       " 451830.70113400085,\n",
       " 1.5900413593083833e-07,\n",
       " 8.601420449887154e-05,\n",
       " 0.0002159303933608192,\n",
       " 48787.09504134045,\n",
       " 361878.9958436341,\n",
       " 351813.1641590776,\n",
       " 2.010117166698814e-11,\n",
       " 1.962906025240285e-07,\n",
       " 5.092828778849529e-07,\n",
       " 17116.713214483374,\n",
       " 3.98133701856849e-09,\n",
       " 24346.487212203116,\n",
       " 121872.87712817198,\n",
       " 2.0101172084859934e-11,\n",
       " 1.4036689784224896e-07,\n",
       " 79895.51249018477,\n",
       " 4.091356616480282e-07,\n",
       " 236239.70822791004,\n",
       " 9.591551491818342e-07,\n",
       " 161770.39592472685,\n",
       " 2.010117218147463e-11,\n",
       " 5.5164100528567745e-08,\n",
       " 23673.21093311097,\n",
       " 4.632566160006239e-08,\n",
       " 441742.19008855877,\n",
       " 7.844642792061022e-07,\n",
       " 8.392919003915363e-08,\n",
       " 2.035149263750101e-11,\n",
       " 8.365763820567104e-08,\n",
       " 306247.3183016755,\n",
       " 165720.5885310207,\n",
       " 8.362382632840924e-08,\n",
       " 8.36337540298653e-08]"
      ]
     },
     "execution_count": 20,
     "metadata": {},
     "output_type": "execute_result"
    }
   ],
   "source": [
    "lam_list"
   ]
  },
  {
   "cell_type": "code",
   "execution_count": null,
   "metadata": {
    "collapsed": true
   },
   "outputs": [],
   "source": []
  }
 ],
 "metadata": {
  "kernelspec": {
   "display_name": "Python 2",
   "language": "python",
   "name": "python2"
  },
  "language_info": {
   "codemirror_mode": {
    "name": "ipython",
    "version": 2
   },
   "file_extension": ".py",
   "mimetype": "text/x-python",
   "name": "python",
   "nbconvert_exporter": "python",
   "pygments_lexer": "ipython2",
   "version": "2.7.11"
  }
 },
 "nbformat": 4,
 "nbformat_minor": 0
}
