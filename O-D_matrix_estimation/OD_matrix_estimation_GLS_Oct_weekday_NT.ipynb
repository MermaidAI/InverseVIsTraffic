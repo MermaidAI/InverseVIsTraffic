{
 "cells": [
  {
   "cell_type": "code",
   "execution_count": 1,
   "metadata": {
    "collapsed": true
   },
   "outputs": [],
   "source": [
    "%run ../Python_files/util_data_storage_and_load.py"
   ]
  },
  {
   "cell_type": "code",
   "execution_count": 2,
   "metadata": {
    "collapsed": true
   },
   "outputs": [],
   "source": [
    "%run ../Python_files/load_dicts.py"
   ]
  },
  {
   "cell_type": "code",
   "execution_count": 3,
   "metadata": {
    "collapsed": false
   },
   "outputs": [],
   "source": [
    "%run ../Python_files/util.py"
   ]
  },
  {
   "cell_type": "code",
   "execution_count": 4,
   "metadata": {
    "collapsed": true
   },
   "outputs": [],
   "source": [
    "# load logit_route_choice_probability_matrix\n",
    "P = zload('../temp_files/logit_route_choice_probability_matrix.pkz')"
   ]
  },
  {
   "cell_type": "code",
   "execution_count": 5,
   "metadata": {
    "collapsed": false
   },
   "outputs": [],
   "source": [
    "import numpy as np\n",
    "from numpy.linalg import inv\n",
    "\n",
    "P = np.matrix(P)"
   ]
  },
  {
   "cell_type": "code",
   "execution_count": 6,
   "metadata": {
    "collapsed": false
   },
   "outputs": [
    {
     "data": {
      "text/plain": [
       "(56, 140)"
      ]
     },
     "execution_count": 6,
     "metadata": {},
     "output_type": "execute_result"
    }
   ],
   "source": [
    "np.size(P, 0), np.size(P, 1)"
   ]
  },
  {
   "cell_type": "code",
   "execution_count": 7,
   "metadata": {
    "collapsed": true
   },
   "outputs": [],
   "source": [
    "import numpy as np\n",
    "from numpy.linalg import inv\n",
    "\n",
    "def samp_cov(x):\n",
    "    \"\"\"\n",
    "    x: sample matrix, each column is a link flow vector sample; 24 * K\n",
    "    K: number of samples\n",
    "    S: sample covariance matrix\n",
    "    ----------------\n",
    "    return: inv(S)\n",
    "    ----------------\n",
    "    \"\"\"\n",
    "    x = np.matrix(x)\n",
    "    K = np.size(x, 1)\n",
    "    x_mean = sum(x[:,k] for k in range(K)) / K\n",
    "    S = sum(np.dot(x[:,k] - x_mean, np.transpose(x[:,k] - x_mean)) for k in range(K)) / (K - 1)\n",
    "    return S"
   ]
  },
  {
   "cell_type": "code",
   "execution_count": 8,
   "metadata": {
    "collapsed": false
   },
   "outputs": [],
   "source": [
    "# load path-link incidence matrix\n",
    "A = zload('../temp_files/path-link_incidence_matrix.pkz')"
   ]
  },
  {
   "cell_type": "code",
   "execution_count": 9,
   "metadata": {
    "collapsed": false
   },
   "outputs": [],
   "source": [
    "# load link counts data\n",
    "\n",
    "import json\n",
    "\n",
    "with open('../temp_files/link_day_minute_Oct_dict_JSON.json', 'r') as json_file:\n",
    "    link_day_minute_Oct_dict_JSON = json.load(json_file)"
   ]
  },
  {
   "cell_type": "code",
   "execution_count": 10,
   "metadata": {
    "collapsed": true
   },
   "outputs": [],
   "source": [
    "week_day_Oct_list = [1, 2, 3, 4, 5, 8, 9, 10, 11, 12, 15, 16, 17, 18, 19, 22, 23, 24, 25, 26, 29, 30, 31]"
   ]
  },
  {
   "cell_type": "code",
   "execution_count": 11,
   "metadata": {
    "collapsed": false
   },
   "outputs": [],
   "source": [
    "link_day_minute_Oct_list = []\n",
    "for link_idx in range(24):\n",
    "    for day in week_day_Oct_list: \n",
    "        for minute_idx in range(120):\n",
    "            key = 'link_' + str(link_idx) + '_' + str(day)\n",
    "            link_day_minute_Oct_list.append(link_day_minute_Oct_dict_JSON[key] ['NT_flow_minute'][minute_idx])"
   ]
  },
  {
   "cell_type": "code",
   "execution_count": 12,
   "metadata": {
    "collapsed": false
   },
   "outputs": [
    {
     "data": {
      "text/plain": [
       "66240"
      ]
     },
     "execution_count": 12,
     "metadata": {},
     "output_type": "execute_result"
    }
   ],
   "source": [
    "len(link_day_minute_Oct_list)"
   ]
  },
  {
   "cell_type": "code",
   "execution_count": 13,
   "metadata": {
    "collapsed": false
   },
   "outputs": [],
   "source": [
    "x = np.matrix(link_day_minute_Oct_list)\n",
    "x = np.matrix.reshape(x, 24, 2760)\n",
    "\n",
    "x = np.nan_to_num(x)\n",
    "y = np.array(np.transpose(x))\n",
    "y = y[np.all(y != 0, axis=1)]\n",
    "x = np.transpose(y)\n",
    "x = np.matrix(x)"
   ]
  },
  {
   "cell_type": "code",
   "execution_count": 14,
   "metadata": {
    "collapsed": false
   },
   "outputs": [
    {
     "data": {
      "text/plain": [
       "(24, 2760)"
      ]
     },
     "execution_count": 14,
     "metadata": {},
     "output_type": "execute_result"
    }
   ],
   "source": [
    "np.size(x, 0), np.size(x, 1)"
   ]
  },
  {
   "cell_type": "code",
   "execution_count": 15,
   "metadata": {
    "collapsed": false
   },
   "outputs": [
    {
     "data": {
      "text/plain": [
       "matrix([[ 3585.47279386,  3576.0851033 ],\n",
       "        [ 3477.40930602,  3494.69857302],\n",
       "        [ 4464.31122495,  4439.79209736],\n",
       "        [ 4372.10239005,  4390.81014768],\n",
       "        [ 4335.43999342,  4199.46306071],\n",
       "        [ 4150.76760104,  4004.80678194],\n",
       "        [ 3693.44131357,  3635.07355358],\n",
       "        [ 3705.53382992,  3681.48036626],\n",
       "        [ 5013.72120339,  4522.20047052],\n",
       "        [ 4751.58429303,  4738.36840881],\n",
       "        [ 3987.4511081 ,  4106.01736415],\n",
       "        [ 3655.75935003,  3768.55578966],\n",
       "        [ 3323.89838984,  3361.45839178],\n",
       "        [ 3746.61357103,  3762.4352956 ],\n",
       "        [ 3698.76066198,  3482.23607329],\n",
       "        [ 2802.12369269,  2754.42225222],\n",
       "        [ 3702.69706733,  3661.01543763],\n",
       "        [ 3625.79851096,  3607.08659819],\n",
       "        [ 3951.77655753,  3996.17568765],\n",
       "        [ 3817.67556057,  3720.6900137 ],\n",
       "        [ 3776.11532857,  3931.97464469],\n",
       "        [ 3941.18120826,  3826.26936239],\n",
       "        [ 3586.49827764,  3410.46402514],\n",
       "        [ 3704.87886873,  3551.56738598]])"
      ]
     },
     "execution_count": 15,
     "metadata": {},
     "output_type": "execute_result"
    }
   ],
   "source": [
    "x[:,:2]"
   ]
  },
  {
   "cell_type": "code",
   "execution_count": 16,
   "metadata": {
    "collapsed": false
   },
   "outputs": [
    {
     "data": {
      "text/plain": [
       "(24, 140)"
      ]
     },
     "execution_count": 16,
     "metadata": {},
     "output_type": "execute_result"
    }
   ],
   "source": [
    "np.size(A,0), np.size(A,1)"
   ]
  },
  {
   "cell_type": "code",
   "execution_count": 17,
   "metadata": {
    "collapsed": false
   },
   "outputs": [
    {
     "name": "stdout",
     "output_type": "stream",
     "text": [
      "Optimize a model with 56 rows, 56 columns and 56 nonzeros\n",
      "Model has 1596 quadratic objective terms\n",
      "Coefficient statistics:\n",
      "  Matrix range    [1e+00, 1e+00]\n",
      "  Objective range [1e+00, 9e+02]\n",
      "  Bounds range    [0e+00, 0e+00]\n",
      "  RHS range       [0e+00, 0e+00]\n",
      "Warning: diagonal adjustment of 6.4e-07 performed to make Q PSD\n",
      "Presolve removed 56 rows and 0 columns\n",
      "Presolve time: 0.00s\n",
      "Presolved: 0 rows, 56 columns, 0 nonzeros\n",
      "Presolved model has 1596 quadratic objective terms\n",
      "Ordering time: 0.00s\n",
      "\n",
      "Barrier statistics:\n",
      " Free vars  : 25\n",
      " AA' NZ     : 3.000e+02\n",
      " Factor NZ  : 3.250e+02\n",
      " Factor Ops : 5.525e+03 (less than 1 second per iteration)\n",
      " Threads    : 1\n",
      "\n",
      "                  Objective                Residual\n",
      "Iter       Primal          Dual         Primal    Dual     Compl     Time\n",
      "   0  -1.51119801e+07  0.00000000e+00  5.44e+03 1.24e+03  1.00e+06     0s\n",
      "   1  -1.08069370e+07 -4.88222061e+06  1.65e+03 3.77e+02  3.62e+05     0s\n",
      "   2  -7.41027158e+06 -8.70957707e+06  1.27e+02 2.90e+01  5.96e+04     0s\n",
      "   3  -7.38868954e+06 -7.86405712e+06  1.27e-04 2.90e-05  8.49e+03     0s\n",
      "   4  -7.43768034e+06 -7.45107891e+06  3.59e-07 8.20e-08  2.39e+02     0s\n",
      "   5  -7.44048262e+06 -7.44198332e+06  8.69e-10 4.55e-13  2.68e+01     0s\n",
      "   6  -7.44063405e+06 -7.44070538e+06  3.86e-10 4.55e-13  1.27e+00     0s\n",
      "   7  -7.44063609e+06 -7.44064681e+06  3.46e-09 4.55e-13  1.91e-01     0s\n",
      "   8  -7.44063698e+06 -7.44063774e+06  1.55e-10 2.27e-13  1.35e-02     0s\n",
      "   9  -7.44063707e+06 -7.44063714e+06  4.75e-11 7.96e-13  1.26e-03     0s\n",
      "  10  -7.44063710e+06 -7.44063710e+06  1.42e-10 3.41e-13  1.21e-04     0s\n",
      "  11  -7.44063710e+06 -7.44063710e+06  7.19e-11 4.55e-13  3.85e-05     0s\n",
      "  12  -7.44063710e+06 -7.44063710e+06  1.80e-11 2.27e-13  1.07e-06     0s\n",
      "  13  -7.44063710e+06 -7.44063710e+06  2.73e-12 8.23e-10  1.50e-07     0s\n",
      "  14  -7.44063710e+06 -7.44063710e+06  1.48e-12 1.89e-10  1.46e-08     0s\n",
      "  15  -7.44063710e+06 -7.44063710e+06  6.82e-13 1.99e-10  2.79e-09     0s\n",
      "\n",
      "Barrier solved model in 15 iterations and 0.01 seconds\n",
      "Optimal objective -7.44063710e+06\n",
      "\n",
      "lam_0 3.41281e-11\n",
      "lam_1 3504.79\n",
      "lam_2 3.74614e-11\n",
      "lam_3 0.00201728\n",
      "lam_4 1168.31\n",
      "lam_5 1810.35\n",
      "lam_6 1.13047e-08\n",
      "lam_7 5.35483e-05\n",
      "lam_8 3.12206\n",
      "lam_9 3752.13\n",
      "lam_10 0.00561593\n",
      "lam_11 0.672473\n",
      "lam_12 280.344\n",
      "lam_13 0.156573\n",
      "lam_14 4022.28\n",
      "lam_15 1156.66\n",
      "lam_16 343.879\n",
      "lam_17 1.59675\n",
      "lam_18 0.658456\n",
      "lam_19 4634.52\n",
      "lam_20 1.35551\n",
      "lam_21 2110.37\n",
      "lam_22 1647.25\n",
      "lam_23 589.231\n",
      "lam_24 2424.06\n",
      "lam_25 1.37201\n",
      "lam_26 0.000154014\n",
      "lam_27 3584.27\n",
      "lam_28 2.65775\n",
      "lam_29 2.30394\n",
      "lam_30 26.0068\n",
      "lam_31 553.538\n",
      "lam_32 3003.53\n",
      "lam_33 0.00015246\n",
      "lam_34 0.000152559\n",
      "lam_35 1.39996\n",
      "lam_36 0.751648\n",
      "lam_37 146.814\n",
      "lam_38 2750.73\n",
      "lam_39 1.00525\n",
      "lam_40 271.267\n",
      "lam_41 595.509\n",
      "lam_42 1699.32\n",
      "lam_43 1311.82\n",
      "lam_44 851.443\n",
      "lam_45 2.96673e-06\n",
      "lam_46 2.93058e-06\n",
      "lam_47 232.825\n",
      "lam_48 3016.9\n",
      "lam_49 0.00929962\n",
      "lam_50 0.359373\n",
      "lam_51 3635.11\n",
      "lam_52 3554.15\n",
      "lam_53 2.93191e-06\n",
      "lam_54 0.0183173\n",
      "lam_55 0.0183257\n",
      "Obj: -7.44059e+06\n"
     ]
    }
   ],
   "source": [
    "from gurobipy import *\n",
    "\n",
    "L = 56  # dimension of lam\n",
    "\n",
    "K = np.size(x, 1)\n",
    "S = samp_cov(x)\n",
    "inv_S = inv(S)\n",
    "\n",
    "A_t = np.transpose(A)\n",
    "P_t = np.transpose(P)\n",
    "# PA'\n",
    "PA_t = np.dot(P, A_t)\n",
    "# AP_t\n",
    "AP_t = np.transpose(PA_t)\n",
    "\n",
    "Q = np.dot(np.dot(PA_t, inv_S), AP_t)\n",
    "b = sum([np.dot(np.dot(PA_t, inv_S), x[:, k]) for k in range(K)])\n",
    "\n",
    "\n",
    "model = Model(\"OD_matrix_estimation\")\n",
    "\n",
    "lam = []\n",
    "for l in range(L):\n",
    "    lam.append(model.addVar(name='lam_' + str(l)))\n",
    "\n",
    "model.update() \n",
    "\n",
    "# Set objective: (K/2) lam' * Q * lam - b' * lam\n",
    "obj = 0\n",
    "for i in range(L):\n",
    "    for j in range(L):\n",
    "        obj += (1.0 /2) * K * lam[i] * Q[i, j] * lam[j]\n",
    "for l in range(L):\n",
    "    obj += - b[l] * lam[l]\n",
    "model.setObjective(obj)\n",
    "\n",
    "# Add constraint: lam >= 0\n",
    "for l in range(L):\n",
    "    model.addConstr(lam[l] >= 0)\n",
    "\n",
    "model.update() \n",
    "\n",
    "model.optimize()\n",
    "\n",
    "lam_list = []\n",
    "for v in model.getVars():\n",
    "    print('%s %g' % (v.varName, v.x))\n",
    "    lam_list.append(v.x)\n",
    "print('Obj: %g' % obj.getValue())"
   ]
  },
  {
   "cell_type": "code",
   "execution_count": 18,
   "metadata": {
    "collapsed": false
   },
   "outputs": [],
   "source": [
    "# write estimation result to file\n",
    "n = 8  # number of nodes\n",
    "with open('../temp_files/OD_demand_matrix_Oct_weekday_NT.txt', 'w') as the_file:\n",
    "    idx = 0\n",
    "    for i in range(n + 1)[1:]:\n",
    "        for j in range(n + 1)[1:]:\n",
    "            if i != j: \n",
    "                the_file.write(\"%d,%d,%f\\n\" %(i, j, lam_list[idx]))\n",
    "                idx += 1"
   ]
  },
  {
   "cell_type": "code",
   "execution_count": 19,
   "metadata": {
    "collapsed": false
   },
   "outputs": [
    {
     "data": {
      "text/plain": [
       "[3.412813074229544e-11,\n",
       " 3504.793874501573,\n",
       " 3.7461442605062415e-11,\n",
       " 0.002017279197427762,\n",
       " 1168.309055719352,\n",
       " 1810.345522860911,\n",
       " 1.1304700826444268e-08,\n",
       " 5.354830559586359e-05,\n",
       " 3.1220642301113415,\n",
       " 3752.134175753437,\n",
       " 0.005615928684767011,\n",
       " 0.6724729271610927,\n",
       " 280.3440344512054,\n",
       " 0.15657272324530697,\n",
       " 4022.2839284778925,\n",
       " 1156.655143513876,\n",
       " 343.87934137900214,\n",
       " 1.5967468205902775,\n",
       " 0.6584558030349873,\n",
       " 4634.520380136688,\n",
       " 1.3555069640462332,\n",
       " 2110.3727179090547,\n",
       " 1647.2472692213703,\n",
       " 589.2306973816765,\n",
       " 2424.0563151602105,\n",
       " 1.3720127843543972,\n",
       " 0.00015401403766151866,\n",
       " 3584.2718126565987,\n",
       " 2.6577525103088426,\n",
       " 2.3039367701590905,\n",
       " 26.00684881701116,\n",
       " 553.5382874137314,\n",
       " 3003.5267162439404,\n",
       " 0.00015245974023064108,\n",
       " 0.00015255859990282377,\n",
       " 1.399957794777336,\n",
       " 0.7516475740490307,\n",
       " 146.81358851594234,\n",
       " 2750.7272818089414,\n",
       " 1.0052458856589979,\n",
       " 271.2674065439755,\n",
       " 595.5090999263607,\n",
       " 1699.3210709751481,\n",
       " 1311.8207357150393,\n",
       " 851.4425235830047,\n",
       " 2.9667274210852693e-06,\n",
       " 2.93057567809607e-06,\n",
       " 232.82507522070463,\n",
       " 3016.8992457798226,\n",
       " 0.009299624142343997,\n",
       " 0.35937340381434296,\n",
       " 3635.110926364738,\n",
       " 3554.1533418987983,\n",
       " 2.9319145907687557e-06,\n",
       " 0.018317283342010188,\n",
       " 0.018325746059310234]"
      ]
     },
     "execution_count": 19,
     "metadata": {},
     "output_type": "execute_result"
    }
   ],
   "source": [
    "lam_list"
   ]
  },
  {
   "cell_type": "code",
   "execution_count": null,
   "metadata": {
    "collapsed": true
   },
   "outputs": [],
   "source": []
  }
 ],
 "metadata": {
  "kernelspec": {
   "display_name": "Python 2",
   "language": "python",
   "name": "python2"
  },
  "language_info": {
   "codemirror_mode": {
    "name": "ipython",
    "version": 2
   },
   "file_extension": ".py",
   "mimetype": "text/x-python",
   "name": "python",
   "nbconvert_exporter": "python",
   "pygments_lexer": "ipython2",
   "version": "2.7.11"
  }
 },
 "nbformat": 4,
 "nbformat_minor": 0
}
