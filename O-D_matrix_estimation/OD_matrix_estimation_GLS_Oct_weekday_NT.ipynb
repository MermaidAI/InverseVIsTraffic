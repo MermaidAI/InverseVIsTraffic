{
 "cells": [
  {
   "cell_type": "code",
   "execution_count": 1,
   "metadata": {
    "collapsed": true
   },
   "outputs": [],
   "source": [
    "%run ../Python_files/util_data_storage_and_load.py"
   ]
  },
  {
   "cell_type": "code",
   "execution_count": 2,
   "metadata": {
    "collapsed": true
   },
   "outputs": [],
   "source": [
    "%run ../Python_files/load_dicts.py"
   ]
  },
  {
   "cell_type": "code",
   "execution_count": 3,
   "metadata": {
    "collapsed": false
   },
   "outputs": [],
   "source": [
    "%run ../Python_files/util.py"
   ]
  },
  {
   "cell_type": "code",
   "execution_count": 4,
   "metadata": {
    "collapsed": true
   },
   "outputs": [],
   "source": [
    "# load logit_route_choice_probability_matrix\n",
    "P = zload('../temp_files/logit_route_choice_probability_matrix.pkz')"
   ]
  },
  {
   "cell_type": "code",
   "execution_count": 5,
   "metadata": {
    "collapsed": false
   },
   "outputs": [],
   "source": [
    "import numpy as np\n",
    "from numpy.linalg import inv\n",
    "\n",
    "P = np.matrix(P)"
   ]
  },
  {
   "cell_type": "code",
   "execution_count": 6,
   "metadata": {
    "collapsed": false
   },
   "outputs": [
    {
     "data": {
      "text/plain": [
       "(56, 140)"
      ]
     },
     "execution_count": 6,
     "metadata": {},
     "output_type": "execute_result"
    }
   ],
   "source": [
    "np.size(P, 0), np.size(P, 1)"
   ]
  },
  {
   "cell_type": "code",
   "execution_count": 7,
   "metadata": {
    "collapsed": true
   },
   "outputs": [],
   "source": [
    "import numpy as np\n",
    "from numpy.linalg import inv\n",
    "\n",
    "def samp_cov(x):\n",
    "    \"\"\"\n",
    "    x: sample matrix, each column is a link flow vector sample; 24 * K\n",
    "    K: number of samples\n",
    "    S: sample covariance matrix\n",
    "    ----------------\n",
    "    return: inv(S)\n",
    "    ----------------\n",
    "    \"\"\"\n",
    "    x = np.matrix(x)\n",
    "    K = np.size(x, 1)\n",
    "    x_mean = sum(x[:,k] for k in range(K)) / K\n",
    "    S = sum(np.dot(x[:,k] - x_mean, np.transpose(x[:,k] - x_mean)) for k in range(K)) / (K - 1)\n",
    "    return S"
   ]
  },
  {
   "cell_type": "code",
   "execution_count": 8,
   "metadata": {
    "collapsed": false
   },
   "outputs": [],
   "source": [
    "# load path-link incidence matrix\n",
    "A = zload('../temp_files/path-link_incidence_matrix.pkz')"
   ]
  },
  {
   "cell_type": "code",
   "execution_count": 9,
   "metadata": {
    "collapsed": false
   },
   "outputs": [],
   "source": [
    "# load link counts data\n",
    "\n",
    "import json\n",
    "\n",
    "with open('../temp_files/link_day_minute_Oct_dict_JSON.json', 'r') as json_file:\n",
    "    link_day_minute_Oct_dict_JSON = json.load(json_file)"
   ]
  },
  {
   "cell_type": "code",
   "execution_count": 10,
   "metadata": {
    "collapsed": true
   },
   "outputs": [],
   "source": [
    "week_day_Oct_list = [1, 2, 3, 4, 5, 8, 9, 10, 11, 12, 15, 16, 17, 18, 19, 22, 23, 24, 25, 26, 29, 30, 31]"
   ]
  },
  {
   "cell_type": "code",
   "execution_count": 11,
   "metadata": {
    "collapsed": false
   },
   "outputs": [],
   "source": [
    "link_day_minute_Oct_list = []\n",
    "for link_idx in range(24):\n",
    "    for day in week_day_Oct_list: \n",
    "        for minute_idx in range(120):\n",
    "            key = 'link_' + str(link_idx) + '_' + str(day)\n",
    "            link_day_minute_Oct_list.append(link_day_minute_Oct_dict_JSON[key] ['NT_flow_minute'][minute_idx])"
   ]
  },
  {
   "cell_type": "code",
   "execution_count": 12,
   "metadata": {
    "collapsed": false
   },
   "outputs": [
    {
     "data": {
      "text/plain": [
       "66240"
      ]
     },
     "execution_count": 12,
     "metadata": {},
     "output_type": "execute_result"
    }
   ],
   "source": [
    "len(link_day_minute_Oct_list)"
   ]
  },
  {
   "cell_type": "code",
   "execution_count": 13,
   "metadata": {
    "collapsed": false
   },
   "outputs": [],
   "source": [
    "x = np.matrix(link_day_minute_Oct_list)\n",
    "x = np.matrix.reshape(x, 24, 2760)\n",
    "\n",
    "x = np.nan_to_num(x)\n",
    "y = np.array(np.transpose(x))\n",
    "y = y[np.all(y != 0, axis=1)]\n",
    "x = np.transpose(y)\n",
    "x = np.matrix(x)"
   ]
  },
  {
   "cell_type": "code",
   "execution_count": 14,
   "metadata": {
    "collapsed": false
   },
   "outputs": [
    {
     "data": {
      "text/plain": [
       "(24, 2760)"
      ]
     },
     "execution_count": 14,
     "metadata": {},
     "output_type": "execute_result"
    }
   ],
   "source": [
    "np.size(x, 0), np.size(x, 1)"
   ]
  },
  {
   "cell_type": "code",
   "execution_count": 15,
   "metadata": {
    "collapsed": false
   },
   "outputs": [
    {
     "data": {
      "text/plain": [
       "matrix([[  9609.4709637 ,   9464.57872558],\n",
       "        [  9659.80854965,  12042.05972524],\n",
       "        [ 16526.94253948,  16128.15643082],\n",
       "        [ 12728.30437374,  13733.35647954],\n",
       "        [ 13168.07730515,  10711.32440986],\n",
       "        [ 10990.95497126,   8050.66420588],\n",
       "        [ 11457.03517662,   9969.94185202],\n",
       "        [ 11136.44949084,  10386.47227524],\n",
       "        [ 24715.30580829,  24683.33769506],\n",
       "        [ 13003.96211757,  12706.30027655],\n",
       "        [ 14532.56292107,  14243.85544923],\n",
       "        [ 19259.38944657,  19028.10159113],\n",
       "        [  7559.078271  ,   8194.11069879],\n",
       "        [  7391.00847088,   7835.85356837],\n",
       "        [ 14178.33527204,   7385.85876195],\n",
       "        [  5832.21802828,   6953.11826129],\n",
       "        [ 12954.96765318,  11565.59837623],\n",
       "        [ 10226.94887995,   8920.05879341],\n",
       "        [ 11616.01736932,  12676.28954443],\n",
       "        [  6806.25101436,   8884.10156559],\n",
       "        [ 17294.60541323,   9229.77280372],\n",
       "        [  9404.28324638,   7736.75653935],\n",
       "        [ 10129.92009943,   5689.94292903],\n",
       "        [ 12838.96527485,   7882.21897458]])"
      ]
     },
     "execution_count": 15,
     "metadata": {},
     "output_type": "execute_result"
    }
   ],
   "source": [
    "x[:,:2]"
   ]
  },
  {
   "cell_type": "code",
   "execution_count": 16,
   "metadata": {
    "collapsed": false
   },
   "outputs": [
    {
     "data": {
      "text/plain": [
       "(24, 140)"
      ]
     },
     "execution_count": 16,
     "metadata": {},
     "output_type": "execute_result"
    }
   ],
   "source": [
    "np.size(A,0), np.size(A,1)"
   ]
  },
  {
   "cell_type": "code",
   "execution_count": 17,
   "metadata": {
    "collapsed": false
   },
   "outputs": [
    {
     "name": "stdout",
     "output_type": "stream",
     "text": [
      "Optimize a model with 56 rows, 56 columns and 56 nonzeros\n",
      "Model has 1596 quadratic objective terms\n",
      "Coefficient statistics:\n",
      "  Matrix range    [1e+00, 1e+00]\n",
      "  Objective range [5e-02, 6e+00]\n",
      "  Bounds range    [0e+00, 0e+00]\n",
      "  RHS range       [0e+00, 0e+00]\n",
      "Presolve removed 56 rows and 0 columns\n",
      "Presolve time: 0.00s\n",
      "Presolved: 0 rows, 56 columns, 0 nonzeros\n",
      "Presolved model has 1596 quadratic objective terms\n",
      "Ordering time: 0.00s\n",
      "\n",
      "Barrier statistics:\n",
      " Free vars  : 24\n",
      " AA' NZ     : 2.760e+02\n",
      " Factor NZ  : 3.000e+02\n",
      " Factor Ops : 4.900e+03 (less than 1 second per iteration)\n",
      " Threads    : 1\n",
      "\n",
      "                  Objective                Residual\n",
      "Iter       Primal          Dual         Primal    Dual     Compl     Time\n",
      "   0  -1.90183383e+06  0.00000000e+00  4.61e+03 1.90e+02  9.46e+05     0s\n",
      "   1   1.65950783e+06 -2.67875644e+06  4.62e+02 9.89e+01  1.67e+05     0s\n",
      "   2   4.18097484e+05 -1.00721696e+06  4.62e-04 1.14e-13  2.55e+04     0s\n",
      "   3  -7.00875625e+04 -2.65848731e+05  4.62e-10 3.55e-14  3.50e+03     0s\n",
      "   4  -1.18875316e+05 -1.38628163e+05  1.73e-12 5.68e-14  3.53e+02     0s\n",
      "   5  -1.23025295e+05 -1.23772431e+05  4.21e-12 3.20e-14  1.33e+01     0s\n",
      "   6  -1.23261295e+05 -1.23279481e+05  7.73e-12 4.26e-14  3.25e-01     0s\n",
      "   7  -1.23268803e+05 -1.23275586e+05  3.17e-12 4.26e-14  1.21e-01     0s\n",
      "   8  -1.23270602e+05 -1.23270890e+05  2.67e-12 2.84e-14  5.14e-03     0s\n",
      "   9  -1.23270816e+05 -1.23270831e+05  1.25e-12 2.84e-14  2.65e-04     0s\n",
      "  10  -1.23270823e+05 -1.23270823e+05  1.42e-12 5.33e-14  1.55e-06     0s\n",
      "  11  -1.23270823e+05 -1.23270823e+05  1.90e-12 4.26e-14  2.07e-09     0s\n",
      "\n",
      "Barrier solved model in 11 iterations and 0.02 seconds\n",
      "Optimal objective -1.23270823e+05\n",
      "\n",
      "lam_0 1.29144e-09\n",
      "lam_1 14901.1\n",
      "lam_2 1.45168e-09\n",
      "lam_3 1154.99\n",
      "lam_4 2880.66\n",
      "lam_5 2.99947e-05\n",
      "lam_6 4.3183e-07\n",
      "lam_7 3026.56\n",
      "lam_8 3.06915e-09\n",
      "lam_9 10610.7\n",
      "lam_10 3.06915e-09\n",
      "lam_11 3.06915e-09\n",
      "lam_12 3.06884e-09\n",
      "lam_13 3.08644e-09\n",
      "lam_14 2.89209e-05\n",
      "lam_15 2.88126e-05\n",
      "lam_16 8.97272e-06\n",
      "lam_17 1419.64\n",
      "lam_18 3743.98\n",
      "lam_19 18180.1\n",
      "lam_20 2.99481e-05\n",
      "lam_21 0.000251056\n",
      "lam_22 10192.7\n",
      "lam_23 5.21611e-05\n",
      "lam_24 4035.42\n",
      "lam_25 2461.93\n",
      "lam_26 2488.68\n",
      "lam_27 11138.5\n",
      "lam_28 13246.2\n",
      "lam_29 2274.3\n",
      "lam_30 4.42908e-05\n",
      "lam_31 7801.37\n",
      "lam_32 6997.72\n",
      "lam_33 0.000456107\n",
      "lam_34 0.000355523\n",
      "lam_35 5228.61\n",
      "lam_36 1379.75\n",
      "lam_37 7299.73\n",
      "lam_38 2.41709e-05\n",
      "lam_39 8345.12\n",
      "lam_40 1.34343e-05\n",
      "lam_41 1.34153e-05\n",
      "lam_42 1.93246e-05\n",
      "lam_43 1.92824e-05\n",
      "lam_44 9.16819e-06\n",
      "lam_45 7.74971e-06\n",
      "lam_46 11036.9\n",
      "lam_47 4958.7\n",
      "lam_48 9347.25\n",
      "lam_49 1.9361e-05\n",
      "lam_50 1.9487e-05\n",
      "lam_51 5.81983e-05\n",
      "lam_52 8443.78\n",
      "lam_53 5.16835e-05\n",
      "lam_54 2626.6\n",
      "lam_55 5387.89\n",
      "Obj: -123268\n"
     ]
    }
   ],
   "source": [
    "from gurobipy import *\n",
    "\n",
    "L = 56  # dimension of lam\n",
    "\n",
    "K = np.size(x, 1)\n",
    "S = samp_cov(x)\n",
    "inv_S = inv(S)\n",
    "\n",
    "A_t = np.transpose(A)\n",
    "P_t = np.transpose(P)\n",
    "# PA'\n",
    "PA_t = np.dot(P, A_t)\n",
    "# AP_t\n",
    "AP_t = np.transpose(PA_t)\n",
    "\n",
    "Q = np.dot(np.dot(PA_t, inv_S), AP_t)\n",
    "b = sum([np.dot(np.dot(PA_t, inv_S), x[:, k]) for k in range(K)])\n",
    "\n",
    "\n",
    "model = Model(\"OD_matrix_estimation\")\n",
    "\n",
    "lam = []\n",
    "for l in range(L):\n",
    "    lam.append(model.addVar(name='lam_' + str(l)))\n",
    "\n",
    "model.update() \n",
    "\n",
    "# Set objective: (K/2) lam' * Q * lam - b' * lam\n",
    "obj = 0\n",
    "for i in range(L):\n",
    "    for j in range(L):\n",
    "        obj += (1.0 /2) * K * lam[i] * Q[i, j] * lam[j]\n",
    "for l in range(L):\n",
    "    obj += - b[l] * lam[l]\n",
    "model.setObjective(obj)\n",
    "\n",
    "# Add constraint: lam >= 0\n",
    "for l in range(L):\n",
    "    model.addConstr(lam[l] >= 0)\n",
    "\n",
    "model.update() \n",
    "\n",
    "model.optimize()\n",
    "\n",
    "lam_list = []\n",
    "for v in model.getVars():\n",
    "    print('%s %g' % (v.varName, v.x))\n",
    "    lam_list.append(v.x)\n",
    "print('Obj: %g' % obj.getValue())"
   ]
  },
  {
   "cell_type": "code",
   "execution_count": 18,
   "metadata": {
    "collapsed": false
   },
   "outputs": [],
   "source": [
    "# write estimation result to file\n",
    "n = 8  # number of nodes\n",
    "with open('../temp_files/OD_demand_matrix_Oct_weekday_NT.txt', 'w') as the_file:\n",
    "    idx = 0\n",
    "    for i in range(n + 1)[1:]:\n",
    "        for j in range(n + 1)[1:]:\n",
    "            if i != j: \n",
    "                the_file.write(\"%d,%d,%f\\n\" %(i, j, lam_list[idx]))\n",
    "                idx += 1"
   ]
  },
  {
   "cell_type": "code",
   "execution_count": 19,
   "metadata": {
    "collapsed": false
   },
   "outputs": [
    {
     "data": {
      "text/plain": [
       "[1.2914406625694632e-09,\n",
       " 14901.090800639044,\n",
       " 1.451676415575905e-09,\n",
       " 1154.9915642992526,\n",
       " 2880.6564216341,\n",
       " 2.9994737461763732e-05,\n",
       " 4.318298997887655e-07,\n",
       " 3026.5563524548575,\n",
       " 3.0691531746724196e-09,\n",
       " 10610.650570667558,\n",
       " 3.0691516325269664e-09,\n",
       " 3.0691525522124706e-09,\n",
       " 3.068839321152288e-09,\n",
       " 3.0864419815606955e-09,\n",
       " 2.8920868174405617e-05,\n",
       " 2.8812610987565684e-05,\n",
       " 8.972717082656595e-06,\n",
       " 1419.6403569976528,\n",
       " 3743.9802400178364,\n",
       " 18180.087333615513,\n",
       " 2.9948142703756925e-05,\n",
       " 0.0002510557241914291,\n",
       " 10192.709363150743,\n",
       " 5.2161140369606784e-05,\n",
       " 4035.4150219383914,\n",
       " 2461.9336796366915,\n",
       " 2488.6801875188276,\n",
       " 11138.509438661786,\n",
       " 13246.159015380748,\n",
       " 2274.304744683614,\n",
       " 4.4290765047513836e-05,\n",
       " 7801.373488313147,\n",
       " 6997.717145741018,\n",
       " 0.00045610707955862084,\n",
       " 0.0003555226544046386,\n",
       " 5228.612855388675,\n",
       " 1379.7509713689608,\n",
       " 7299.734857866466,\n",
       " 2.4170899390742878e-05,\n",
       " 8345.121313269898,\n",
       " 1.3434340696566113e-05,\n",
       " 1.3415307128065296e-05,\n",
       " 1.9324570944861952e-05,\n",
       " 1.92823654796212e-05,\n",
       " 9.168194160228196e-06,\n",
       " 7.749707869108419e-06,\n",
       " 11036.889575878991,\n",
       " 4958.695470315782,\n",
       " 9347.251756762576,\n",
       " 1.9361008071174662e-05,\n",
       " 1.948700893379153e-05,\n",
       " 5.819834191814893e-05,\n",
       " 8443.784191692883,\n",
       " 5.1683457095108576e-05,\n",
       " 2626.6033853569447,\n",
       " 5387.891548591664]"
      ]
     },
     "execution_count": 19,
     "metadata": {},
     "output_type": "execute_result"
    }
   ],
   "source": [
    "lam_list"
   ]
  },
  {
   "cell_type": "code",
   "execution_count": null,
   "metadata": {
    "collapsed": true
   },
   "outputs": [],
   "source": []
  }
 ],
 "metadata": {
  "kernelspec": {
   "display_name": "Python 2",
   "language": "python",
   "name": "python2"
  },
  "language_info": {
   "codemirror_mode": {
    "name": "ipython",
    "version": 2
   },
   "file_extension": ".py",
   "mimetype": "text/x-python",
   "name": "python",
   "nbconvert_exporter": "python",
   "pygments_lexer": "ipython2",
   "version": "2.7.11"
  }
 },
 "nbformat": 4,
 "nbformat_minor": 0
}
