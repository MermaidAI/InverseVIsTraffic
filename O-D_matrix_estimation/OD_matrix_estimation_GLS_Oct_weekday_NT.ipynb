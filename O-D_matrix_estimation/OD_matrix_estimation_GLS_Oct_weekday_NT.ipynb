{
 "cells": [
  {
   "cell_type": "code",
   "execution_count": 1,
   "metadata": {
    "collapsed": true
   },
   "outputs": [],
   "source": [
    "%run ../Python_files/util_data_storage_and_load.py"
   ]
  },
  {
   "cell_type": "code",
   "execution_count": 2,
   "metadata": {
    "collapsed": true
   },
   "outputs": [],
   "source": [
    "%run ../Python_files/load_dicts.py"
   ]
  },
  {
   "cell_type": "code",
   "execution_count": 3,
   "metadata": {
    "collapsed": false
   },
   "outputs": [],
   "source": [
    "%run ../Python_files/util.py"
   ]
  },
  {
   "cell_type": "code",
   "execution_count": 4,
   "metadata": {
    "collapsed": true
   },
   "outputs": [],
   "source": [
    "# load logit_route_choice_probability_matrix\n",
    "P = zload('../temp_files/logit_route_choice_probability_matrix.pkz')"
   ]
  },
  {
   "cell_type": "code",
   "execution_count": 5,
   "metadata": {
    "collapsed": false
   },
   "outputs": [],
   "source": [
    "import numpy as np\n",
    "from numpy.linalg import inv\n",
    "\n",
    "P = np.matrix(P)"
   ]
  },
  {
   "cell_type": "code",
   "execution_count": 6,
   "metadata": {
    "collapsed": false
   },
   "outputs": [
    {
     "data": {
      "text/plain": [
       "(56, 140)"
      ]
     },
     "execution_count": 6,
     "metadata": {},
     "output_type": "execute_result"
    }
   ],
   "source": [
    "np.size(P, 0), np.size(P, 1)"
   ]
  },
  {
   "cell_type": "code",
   "execution_count": 7,
   "metadata": {
    "collapsed": true
   },
   "outputs": [],
   "source": [
    "import numpy as np\n",
    "from numpy.linalg import inv\n",
    "\n",
    "def samp_cov(x):\n",
    "    \"\"\"\n",
    "    x: sample matrix, each column is a link flow vector sample; 24 * K\n",
    "    K: number of samples\n",
    "    S: sample covariance matrix\n",
    "    ----------------\n",
    "    return: inv(S)\n",
    "    ----------------\n",
    "    \"\"\"\n",
    "    x = np.matrix(x)\n",
    "    K = np.size(x, 1)\n",
    "    x_mean = sum(x[:,k] for k in range(K)) / K\n",
    "    S = sum(np.dot(x[:,k] - x_mean, np.transpose(x[:,k] - x_mean)) for k in range(K)) / (K - 1)\n",
    "    return S"
   ]
  },
  {
   "cell_type": "code",
   "execution_count": 8,
   "metadata": {
    "collapsed": false
   },
   "outputs": [],
   "source": [
    "# load path-link incidence matrix\n",
    "A = zload('../temp_files/path-link_incidence_matrix.pkz')"
   ]
  },
  {
   "cell_type": "code",
   "execution_count": 9,
   "metadata": {
    "collapsed": false
   },
   "outputs": [],
   "source": [
    "# load link counts data\n",
    "\n",
    "import json\n",
    "\n",
    "with open('../temp_files/link_day_minute_Oct_dict_JSON.json', 'r') as json_file:\n",
    "    link_day_minute_Oct_dict_JSON = json.load(json_file)"
   ]
  },
  {
   "cell_type": "code",
   "execution_count": 10,
   "metadata": {
    "collapsed": true
   },
   "outputs": [],
   "source": [
    "week_day_Oct_list = [1, 2, 3, 4, 5, 8, 9, 10, 11, 12, 15, 16, 17, 18, 19, 22, 23, 24, 25, 26, 29, 30, 31]"
   ]
  },
  {
   "cell_type": "code",
   "execution_count": 11,
   "metadata": {
    "collapsed": false
   },
   "outputs": [],
   "source": [
    "link_day_minute_Oct_list = []\n",
    "for link_idx in range(24):\n",
    "    for day in week_day_Oct_list: \n",
    "        for minute_idx in range(120):\n",
    "            key = 'link_' + str(link_idx) + '_' + str(day)\n",
    "            link_day_minute_Oct_list.append(link_day_minute_Oct_dict_JSON[key] ['NT_flow_minute'][minute_idx])"
   ]
  },
  {
   "cell_type": "code",
   "execution_count": 12,
   "metadata": {
    "collapsed": false
   },
   "outputs": [
    {
     "data": {
      "text/plain": [
       "66240"
      ]
     },
     "execution_count": 12,
     "metadata": {},
     "output_type": "execute_result"
    }
   ],
   "source": [
    "len(link_day_minute_Oct_list)"
   ]
  },
  {
   "cell_type": "code",
   "execution_count": 13,
   "metadata": {
    "collapsed": false
   },
   "outputs": [],
   "source": [
    "x = np.matrix(link_day_minute_Oct_list)\n",
    "x = np.matrix.reshape(x, 24, 2760)\n",
    "\n",
    "x = np.nan_to_num(x)\n",
    "y = np.array(np.transpose(x))\n",
    "y = y[np.all(y != 0, axis=1)]\n",
    "x = np.transpose(y)\n",
    "x = np.matrix(x)"
   ]
  },
  {
   "cell_type": "code",
   "execution_count": 14,
   "metadata": {
    "collapsed": false
   },
   "outputs": [
    {
     "data": {
      "text/plain": [
       "(24, 2760)"
      ]
     },
     "execution_count": 14,
     "metadata": {},
     "output_type": "execute_result"
    }
   ],
   "source": [
    "np.size(x, 0), np.size(x, 1)"
   ]
  },
  {
   "cell_type": "code",
   "execution_count": 15,
   "metadata": {
    "collapsed": false
   },
   "outputs": [
    {
     "data": {
      "text/plain": [
       "matrix([[  972338.98097009,   969522.26503497],\n",
       "        [ 1001259.35903116,   991961.28059715],\n",
       "        [ 1855773.71165453,  1833622.70026465],\n",
       "        [ 1905585.92669338,  1890611.50609783],\n",
       "        [  458369.97103057,   464647.87886259],\n",
       "        [  588645.39320544,   581513.65021207],\n",
       "        [ 1191830.07697694,  1178897.98850843],\n",
       "        [ 1190760.3098959 ,  1176936.88539783],\n",
       "        [ 1137386.33974524,  1113887.70056067],\n",
       "        [ 1130707.49420183,  1127714.3286336 ],\n",
       "        [ 1113389.25366836,  1113762.18416443],\n",
       "        [ 1084414.20749034,  1136162.95743499],\n",
       "        [  269402.79473094,   268395.21414636],\n",
       "        [  284683.0178454 ,   276706.1309289 ],\n",
       "        [  463673.30885403,   444264.02389411],\n",
       "        [  399206.80037492,   423910.59293823],\n",
       "        [  635204.14879191,   623364.35465976],\n",
       "        [  609048.58234714,   613484.75899901],\n",
       "        [  974528.67626838,   989163.4304645 ],\n",
       "        [  866425.74025559,   878289.14218884],\n",
       "        [ 1482308.79640513,  1440510.83300057],\n",
       "        [ 1494282.52890734,  1477919.25805654],\n",
       "        [  389267.62770834,   384853.04836348],\n",
       "        [  401575.39367943,   393501.50191351]])"
      ]
     },
     "execution_count": 15,
     "metadata": {},
     "output_type": "execute_result"
    }
   ],
   "source": [
    "x[:,:2]"
   ]
  },
  {
   "cell_type": "code",
   "execution_count": 16,
   "metadata": {
    "collapsed": false
   },
   "outputs": [
    {
     "data": {
      "text/plain": [
       "(24, 140)"
      ]
     },
     "execution_count": 16,
     "metadata": {},
     "output_type": "execute_result"
    }
   ],
   "source": [
    "np.size(A,0), np.size(A,1)"
   ]
  },
  {
   "cell_type": "code",
   "execution_count": 17,
   "metadata": {
    "collapsed": false
   },
   "outputs": [
    {
     "name": "stdout",
     "output_type": "stream",
     "text": [
      "Optimize a model with 56 rows, 56 columns and 56 nonzeros\n",
      "Model has 1596 quadratic objective terms\n",
      "Coefficient statistics:\n",
      "  Matrix range    [1e+00, 1e+00]\n",
      "  Objective range [8e-03, 8e+00]\n",
      "  Bounds range    [0e+00, 0e+00]\n",
      "  RHS range       [0e+00, 0e+00]\n",
      "Presolve removed 56 rows and 0 columns\n",
      "Presolve time: 0.00s\n",
      "Presolved: 0 rows, 56 columns, 0 nonzeros\n",
      "Presolved model has 1596 quadratic objective terms\n",
      "Ordering time: 0.00s\n",
      "\n",
      "Barrier statistics:\n",
      " Free vars  : 24\n",
      " AA' NZ     : 2.760e+02\n",
      " Factor NZ  : 3.000e+02\n",
      " Factor Ops : 4.900e+03 (less than 1 second per iteration)\n",
      " Threads    : 1\n",
      "\n",
      "                  Objective                Residual\n",
      "Iter       Primal          Dual         Primal    Dual     Compl     Time\n",
      "   0  -7.98995316e+06  0.00000000e+00  5.86e+03 1.34e+03  1.00e+06     0s\n",
      "   1  -6.29136555e+06 -4.13531916e+06  1.50e+03 3.44e+02  3.02e+05     0s\n",
      "   2  -5.77535459e+06 -7.78348930e+06  1.50e+02 3.43e+01  7.28e+04     0s\n",
      "   3  -6.17370749e+06 -6.62581023e+06  5.76e-01 1.32e-01  8.20e+03     0s\n",
      "   4  -6.32052577e+06 -6.34983301e+06  5.76e-07 1.32e-07  5.23e+02     0s\n",
      "   5  -6.33214490e+06 -6.33740592e+06  5.66e-11 2.84e-13  9.39e+01     0s\n",
      "   6  -6.33410637e+06 -6.33483963e+06  2.15e-11 4.26e-13  1.31e+01     0s\n",
      "   7  -6.33425015e+06 -6.33448072e+06  1.61e-11 1.99e-13  4.12e+00     0s\n",
      "   8  -6.33433936e+06 -6.33435188e+06  9.32e-12 2.27e-13  2.24e-01     0s\n",
      "   9  -6.33434336e+06 -6.33434947e+06  1.14e-11 4.55e-13  1.09e-01     0s\n",
      "  10  -6.33434610e+06 -6.33434671e+06  4.77e-12 2.27e-13  1.09e-02     0s\n",
      "  11  -6.33434635e+06 -6.33434649e+06  8.64e-12 2.27e-13  2.54e-03     0s\n",
      "  12  -6.33434643e+06 -6.33434645e+06  2.32e-11 9.66e-13  4.32e-04     0s\n",
      "  13  -6.33434644e+06 -6.33434644e+06  5.91e-12 3.41e-13  4.97e-07     0s\n",
      "  14  -6.33434644e+06 -6.33434644e+06  2.05e-12 1.17e-11  4.83e-09     0s\n",
      "\n",
      "Barrier solved model in 14 iterations and 0.02 seconds\n",
      "Optimal objective -6.33434644e+06\n",
      "\n",
      "lam_0 2.77628e-08\n",
      "lam_1 375017\n",
      "lam_2 426740\n",
      "lam_3 9.50983e-05\n",
      "lam_4 171874\n",
      "lam_5 0.000167353\n",
      "lam_6 0.000168603\n",
      "lam_7 1.07121e-07\n",
      "lam_8 1.71808e-09\n",
      "lam_9 430474\n",
      "lam_10 1.71805e-09\n",
      "lam_11 1.71808e-09\n",
      "lam_12 1.71806e-09\n",
      "lam_13 1.72964e-09\n",
      "lam_14 262183\n",
      "lam_15 3.69028e-09\n",
      "lam_16 1.99713e-06\n",
      "lam_17 9.50647e-05\n",
      "lam_18 212458\n",
      "lam_19 447196\n",
      "lam_20 0.000157875\n",
      "lam_21 310789\n",
      "lam_22 449842\n",
      "lam_23 4.2553e-06\n",
      "lam_24 76583.2\n",
      "lam_25 3834.67\n",
      "lam_26 32273.9\n",
      "lam_27 447951\n",
      "lam_28 755071\n",
      "lam_29 3.69028e-09\n",
      "lam_30 3.97552e-06\n",
      "lam_31 165875\n",
      "lam_32 253942\n",
      "lam_33 5.48272e-07\n",
      "lam_34 253377\n",
      "lam_35 668822\n",
      "lam_36 3.69028e-09\n",
      "lam_37 4.69409e-06\n",
      "lam_38 8.63648e-06\n",
      "lam_39 328564\n",
      "lam_40 623602\n",
      "lam_41 0.00205624\n",
      "lam_42 4.83313e-06\n",
      "lam_43 3.68746e-09\n",
      "lam_44 3.47332e-06\n",
      "lam_45 2.23154e-06\n",
      "lam_46 230416\n",
      "lam_47 1.1827e+06\n",
      "lam_48 0.00268738\n",
      "lam_49 4.1379e-06\n",
      "lam_50 3.73379e-09\n",
      "lam_51 4.12283e-06\n",
      "lam_52 431361\n",
      "lam_53 289723\n",
      "lam_54 2.80534e-05\n",
      "lam_55 2.80531e-05\n",
      "Obj: -6.33286e+06\n"
     ]
    }
   ],
   "source": [
    "from gurobipy import *\n",
    "\n",
    "L = 56  # dimension of lam\n",
    "\n",
    "K = np.size(x, 1)\n",
    "S = samp_cov(x)\n",
    "inv_S = inv(S)\n",
    "\n",
    "A_t = np.transpose(A)\n",
    "P_t = np.transpose(P)\n",
    "# PA'\n",
    "PA_t = np.dot(P, A_t)\n",
    "# AP_t\n",
    "AP_t = np.transpose(PA_t)\n",
    "\n",
    "Q = np.dot(np.dot(PA_t, inv_S), AP_t)\n",
    "b = sum([np.dot(np.dot(PA_t, inv_S), x[:, k]) for k in range(K)])\n",
    "\n",
    "\n",
    "model = Model(\"OD_matrix_estimation\")\n",
    "\n",
    "lam = []\n",
    "for l in range(L):\n",
    "    lam.append(model.addVar(name='lam_' + str(l)))\n",
    "\n",
    "model.update() \n",
    "\n",
    "# Set objective: (K/2) lam' * Q * lam - b * lam\n",
    "obj = 0\n",
    "for i in range(L):\n",
    "    for j in range(L):\n",
    "        obj += (1.0 /2) * K * lam[i] * Q[i, j] * lam[j]\n",
    "for l in range(L):\n",
    "    obj += - b[l] * lam[l]\n",
    "model.setObjective(obj)\n",
    "\n",
    "# Add constraint: lam >= 0\n",
    "for l in range(L):\n",
    "    model.addConstr(lam[l] >= 0)\n",
    "\n",
    "model.update() \n",
    "\n",
    "model.optimize()\n",
    "\n",
    "lam_list = []\n",
    "for v in model.getVars():\n",
    "    print('%s %g' % (v.varName, v.x))\n",
    "    lam_list.append(v.x)\n",
    "print('Obj: %g' % obj.getValue())"
   ]
  },
  {
   "cell_type": "code",
   "execution_count": 18,
   "metadata": {
    "collapsed": false
   },
   "outputs": [],
   "source": [
    "# write estimation result to file\n",
    "n = 8  # number of nodes\n",
    "with open('../temp_files/OD_demand_matrix_Oct_weekday_NT.txt', 'w') as the_file:\n",
    "    idx = 0\n",
    "    for i in range(n + 1)[1:]:\n",
    "        for j in range(n + 1)[1:]:\n",
    "            if i != j: \n",
    "                the_file.write(\"%d,%d,%f\\n\" %(i, j, lam_list[idx]))\n",
    "                idx += 1"
   ]
  },
  {
   "cell_type": "code",
   "execution_count": 19,
   "metadata": {
    "collapsed": false
   },
   "outputs": [
    {
     "data": {
      "text/plain": [
       "[2.7762770534018084e-08,\n",
       " 375017.4906433238,\n",
       " 426740.493336354,\n",
       " 9.50982987147353e-05,\n",
       " 171873.59939529412,\n",
       " 0.00016735303298123436,\n",
       " 0.00016860311341113793,\n",
       " 1.0712065540102888e-07,\n",
       " 1.7180801155092626e-09,\n",
       " 430474.15265008446,\n",
       " 1.7180490707052365e-09,\n",
       " 1.7180801280155981e-09,\n",
       " 1.718062458924068e-09,\n",
       " 1.7296437072151559e-09,\n",
       " 262183.475691299,\n",
       " 3.690276090124938e-09,\n",
       " 1.997134437466423e-06,\n",
       " 9.506473683084868e-05,\n",
       " 212457.63407708541,\n",
       " 447196.07027748716,\n",
       " 0.00015787493614080952,\n",
       " 310788.6306413933,\n",
       " 449841.6855059123,\n",
       " 4.255303062411313e-06,\n",
       " 76583.22639999722,\n",
       " 3834.6715428706,\n",
       " 32273.93521316447,\n",
       " 447950.5485432352,\n",
       " 755071.1425958002,\n",
       " 3.690276062357451e-09,\n",
       " 3.975518052826035e-06,\n",
       " 165875.46422458827,\n",
       " 253942.3087651609,\n",
       " 5.48272227682964e-07,\n",
       " 253376.75405503053,\n",
       " 668822.057097598,\n",
       " 3.690276064750372e-09,\n",
       " 4.694093873554837e-06,\n",
       " 8.636477612828644e-06,\n",
       " 328563.7087517183,\n",
       " 623601.5070927081,\n",
       " 0.00205624409723143,\n",
       " 4.833131430001308e-06,\n",
       " 3.6874605325277077e-09,\n",
       " 3.4733225044150857e-06,\n",
       " 2.2315356876019153e-06,\n",
       " 230415.89218422794,\n",
       " 1182701.2163291299,\n",
       " 0.0026873776574206087,\n",
       " 4.137898584660759e-06,\n",
       " 3.73378710020783e-09,\n",
       " 4.122825938996733e-06,\n",
       " 431361.29117769434,\n",
       " 289723.28564772685,\n",
       " 2.8053435418149558e-05,\n",
       " 2.80531241870865e-05]"
      ]
     },
     "execution_count": 19,
     "metadata": {},
     "output_type": "execute_result"
    }
   ],
   "source": [
    "lam_list"
   ]
  },
  {
   "cell_type": "code",
   "execution_count": null,
   "metadata": {
    "collapsed": true
   },
   "outputs": [],
   "source": []
  }
 ],
 "metadata": {
  "kernelspec": {
   "display_name": "Python 2",
   "language": "python",
   "name": "python2"
  },
  "language_info": {
   "codemirror_mode": {
    "name": "ipython",
    "version": 2
   },
   "file_extension": ".py",
   "mimetype": "text/x-python",
   "name": "python",
   "nbconvert_exporter": "python",
   "pygments_lexer": "ipython2",
   "version": "2.7.11"
  }
 },
 "nbformat": 4,
 "nbformat_minor": 0
}
