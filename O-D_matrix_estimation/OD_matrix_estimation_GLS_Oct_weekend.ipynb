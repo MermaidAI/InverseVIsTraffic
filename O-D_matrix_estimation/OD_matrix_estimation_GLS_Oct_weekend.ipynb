{
 "cells": [
  {
   "cell_type": "code",
   "execution_count": 1,
   "metadata": {
    "collapsed": true
   },
   "outputs": [],
   "source": [
    "%run ../Python_files/util_data_storage_and_load.py"
   ]
  },
  {
   "cell_type": "code",
   "execution_count": 2,
   "metadata": {
    "collapsed": true
   },
   "outputs": [],
   "source": [
    "%run ../Python_files/load_dicts.py"
   ]
  },
  {
   "cell_type": "code",
   "execution_count": 3,
   "metadata": {
    "collapsed": false
   },
   "outputs": [],
   "source": [
    "%run ../Python_files/util.py"
   ]
  },
  {
   "cell_type": "code",
   "execution_count": 4,
   "metadata": {
    "collapsed": true
   },
   "outputs": [],
   "source": [
    "# load logit_route_choice_probability_matrix\n",
    "P = zload('../temp_files/logit_route_choice_probability_matrix.pkz')"
   ]
  },
  {
   "cell_type": "code",
   "execution_count": 5,
   "metadata": {
    "collapsed": false
   },
   "outputs": [],
   "source": [
    "import numpy as np\n",
    "from numpy.linalg import inv\n",
    "\n",
    "P = np.matrix(P)"
   ]
  },
  {
   "cell_type": "code",
   "execution_count": 6,
   "metadata": {
    "collapsed": false
   },
   "outputs": [
    {
     "data": {
      "text/plain": [
       "(56, 140)"
      ]
     },
     "execution_count": 6,
     "metadata": {},
     "output_type": "execute_result"
    }
   ],
   "source": [
    "np.size(P, 0), np.size(P, 1)"
   ]
  },
  {
   "cell_type": "code",
   "execution_count": 7,
   "metadata": {
    "collapsed": true
   },
   "outputs": [],
   "source": [
    "import numpy as np\n",
    "from numpy.linalg import inv\n",
    "\n",
    "def samp_cov(x):\n",
    "    \"\"\"\n",
    "    x: sample matrix, each column is a link flow vector sample; 24 * K\n",
    "    K: number of samples\n",
    "    S: sample covariance matrix\n",
    "    ----------------\n",
    "    return: inv(S)\n",
    "    ----------------\n",
    "    \"\"\"\n",
    "    x = np.matrix(x)\n",
    "    K = np.size(x, 1)\n",
    "    x_mean = sum(x[:,k] for k in range(K)) / K\n",
    "    S = sum(np.dot(x[:,k] - x_mean, np.transpose(x[:,k] - x_mean)) for k in range(K)) / (K - 1)\n",
    "    return S"
   ]
  },
  {
   "cell_type": "code",
   "execution_count": 8,
   "metadata": {
    "collapsed": false
   },
   "outputs": [],
   "source": [
    "# load path-link incidence matrix\n",
    "A = zload('../temp_files/path-link_incidence_matrix.pkz')"
   ]
  },
  {
   "cell_type": "code",
   "execution_count": 9,
   "metadata": {
    "collapsed": false
   },
   "outputs": [],
   "source": [
    "# load link counts data\n",
    "\n",
    "import json\n",
    "\n",
    "with open('../temp_files/link_day_minute_Oct_dict_JSON.json', 'r') as json_file:\n",
    "    link_day_minute_Oct_dict_JSON = json.load(json_file)"
   ]
  },
  {
   "cell_type": "code",
   "execution_count": 10,
   "metadata": {
    "collapsed": true
   },
   "outputs": [],
   "source": [
    "weekend_Oct_list = [6, 7, 13, 14, 20, 21, 27, 28]"
   ]
  },
  {
   "cell_type": "code",
   "execution_count": 11,
   "metadata": {
    "collapsed": false
   },
   "outputs": [],
   "source": [
    "link_day_minute_Oct_list = []\n",
    "for link_idx in range(24):\n",
    "    for day in weekend_Oct_list: \n",
    "        for minute_idx in range(120):\n",
    "            key = 'link_' + str(link_idx) + '_' + str(day)\n",
    "            link_day_minute_Oct_list.append(link_day_minute_Oct_dict_JSON[key] ['AM_flow_minute'][minute_idx])"
   ]
  },
  {
   "cell_type": "code",
   "execution_count": 16,
   "metadata": {
    "collapsed": false
   },
   "outputs": [
    {
     "data": {
      "text/plain": [
       "23040"
      ]
     },
     "execution_count": 16,
     "metadata": {},
     "output_type": "execute_result"
    }
   ],
   "source": [
    "len(link_day_minute_Oct_list)"
   ]
  },
  {
   "cell_type": "code",
   "execution_count": 17,
   "metadata": {
    "collapsed": false
   },
   "outputs": [],
   "source": [
    "x = np.matrix(link_day_minute_Oct_list)\n",
    "x = np.matrix.reshape(x, 24, 960)\n",
    "\n",
    "x = np.nan_to_num(x)\n",
    "y = np.array(np.transpose(x))\n",
    "y = y[np.all(y != 0, axis=1)]\n",
    "x = np.transpose(y)\n",
    "x = np.matrix(x)"
   ]
  },
  {
   "cell_type": "code",
   "execution_count": 18,
   "metadata": {
    "collapsed": false
   },
   "outputs": [
    {
     "data": {
      "text/plain": [
       "matrix([[ 319339.94812959,  322829.63254807],\n",
       "        [ 321151.27358843,  324192.52603324],\n",
       "        [ 604536.79414522,  603940.25714808],\n",
       "        [ 646966.78253242,  642828.7893651 ],\n",
       "        [ 166326.22657791,  161608.37802022],\n",
       "        [ 208291.09582251,  212708.14898556],\n",
       "        [ 383602.35894361,  374307.40173799],\n",
       "        [ 381778.48335853,  374079.69081353],\n",
       "        [ 358327.89456711,  362211.98946173],\n",
       "        [ 368370.95311028,  360048.32229853],\n",
       "        [ 399414.3896342 ,  415818.05830128],\n",
       "        [ 326493.37968399,  319913.87093684],\n",
       "        [  87465.76160775,   89628.65786679],\n",
       "        [  91876.00413094,   95378.89130406],\n",
       "        [ 151555.2050378 ,  147252.50112781],\n",
       "        [ 139983.68038   ,  138143.4445973 ],\n",
       "        [ 200588.27970907,  201475.87986933],\n",
       "        [ 208319.58518245,  211885.66013314],\n",
       "        [ 358150.25884312,  351634.68698475],\n",
       "        [ 331092.07755642,  319369.37662986],\n",
       "        [ 486770.31156146,  453599.39317856],\n",
       "        [ 531017.37431378,  511818.59232292],\n",
       "        [ 134000.36551418,  132590.34266637],\n",
       "        [ 122259.90999351,  134852.95930144]])"
      ]
     },
     "execution_count": 18,
     "metadata": {},
     "output_type": "execute_result"
    }
   ],
   "source": [
    "x[:,:2]"
   ]
  },
  {
   "cell_type": "code",
   "execution_count": 19,
   "metadata": {
    "collapsed": false
   },
   "outputs": [
    {
     "data": {
      "text/plain": [
       "(24, 960)"
      ]
     },
     "execution_count": 19,
     "metadata": {},
     "output_type": "execute_result"
    }
   ],
   "source": [
    "np.size(x, 0), np.size(x, 1)"
   ]
  },
  {
   "cell_type": "code",
   "execution_count": 20,
   "metadata": {
    "collapsed": false
   },
   "outputs": [
    {
     "data": {
      "text/plain": [
       "(24, 140)"
      ]
     },
     "execution_count": 20,
     "metadata": {},
     "output_type": "execute_result"
    }
   ],
   "source": [
    "np.size(A,0), np.size(A,1)"
   ]
  },
  {
   "cell_type": "code",
   "execution_count": 21,
   "metadata": {
    "collapsed": false
   },
   "outputs": [
    {
     "name": "stdout",
     "output_type": "stream",
     "text": [
      "Optimize a model with 56 rows, 56 columns and 56 nonzeros\n",
      "Model has 1596 quadratic objective terms\n",
      "Coefficient statistics:\n",
      "  Matrix range    [1e+00, 1e+00]\n",
      "  Objective range [2e-01, 8e+00]\n",
      "  Bounds range    [0e+00, 0e+00]\n",
      "  RHS range       [0e+00, 0e+00]\n",
      "Presolve removed 56 rows and 0 columns\n",
      "Presolve time: 0.00s\n",
      "Presolved: 0 rows, 56 columns, 0 nonzeros\n",
      "Presolved model has 1596 quadratic objective terms\n",
      "Ordering time: 0.00s\n",
      "\n",
      "Barrier statistics:\n",
      " Free vars  : 24\n",
      " AA' NZ     : 2.760e+02\n",
      " Factor NZ  : 3.000e+02\n",
      " Factor Ops : 4.900e+03 (less than 1 second per iteration)\n",
      " Threads    : 1\n",
      "\n",
      "                  Objective                Residual\n",
      "Iter       Primal          Dual         Primal    Dual     Compl     Time\n",
      "   0  -8.89884478e+06  0.00000000e+00  5.46e+03 9.16e+02  1.00e+06     0s\n",
      "   1  -2.27421494e+06 -3.16664279e+06  1.20e+03 2.18e+02  2.69e+05     0s\n",
      "   2  -9.45820230e+05 -2.96024562e+06  3.83e+01 6.67e+00  4.23e+04     0s\n",
      "   3  -1.51161458e+06 -1.83646374e+06  1.60e+00 2.69e-01  5.98e+03     0s\n",
      "   4  -1.60235902e+06 -1.64086827e+06  1.12e-03 1.88e-04  6.88e+02     0s\n",
      "   5  -1.62004467e+06 -1.62495022e+06  1.13e-09 1.88e-10  8.76e+01     0s\n",
      "   6  -1.62157917e+06 -1.62177835e+06  2.11e-11 3.41e-12  3.56e+00     0s\n",
      "   7  -1.62169295e+06 -1.62172788e+06  3.18e-12 1.14e-13  6.24e-01     0s\n",
      "   8  -1.62170592e+06 -1.62171285e+06  1.08e-11 3.41e-13  1.24e-01     0s\n",
      "   9  -1.62170935e+06 -1.62171069e+06  1.45e-11 4.55e-13  2.39e-02     0s\n",
      "  10  -1.62170991e+06 -1.62171014e+06  1.04e-11 2.27e-13  4.17e-03     0s\n",
      "  11  -1.62171004e+06 -1.62171004e+06  1.11e-11 6.82e-13  2.98e-05     0s\n",
      "  12  -1.62171004e+06 -1.62171004e+06  6.82e-12 3.41e-13  3.50e-08     0s\n",
      "  13  -1.62171004e+06 -1.62171004e+06  1.48e-12 1.33e-11  2.80e-09     0s\n",
      "\n",
      "Barrier solved model in 13 iterations and 0.02 seconds\n",
      "Optimal objective -1.62171004e+06\n",
      "\n",
      "lam_0 6.58347e-08\n",
      "lam_1 28780.2\n",
      "lam_2 68167.4\n",
      "lam_3 13593.2\n",
      "lam_4 22358.6\n",
      "lam_5 1.15329e-05\n",
      "lam_6 69928.3\n",
      "lam_7 7.55949e-08\n",
      "lam_8 2.3666e-09\n",
      "lam_9 38263.5\n",
      "lam_10 2.3666e-09\n",
      "lam_11 2.3666e-09\n",
      "lam_12 2.36612e-09\n",
      "lam_13 2.38206e-09\n",
      "lam_14 1.5031e-05\n",
      "lam_15 2.60861e-09\n",
      "lam_16 4.22827e-09\n",
      "lam_17 125257\n",
      "lam_18 415146\n",
      "lam_19 3.24813e-05\n",
      "lam_20 5.52192e-06\n",
      "lam_21 15288\n",
      "lam_22 119776\n",
      "lam_23 0.000176421\n",
      "lam_24 23642.8\n",
      "lam_25 14671.6\n",
      "lam_26 6.51793e-06\n",
      "lam_27 58316.1\n",
      "lam_28 26153.9\n",
      "lam_29 2.60905e-09\n",
      "lam_30 8.21117e-05\n",
      "lam_31 4.23107e-09\n",
      "lam_32 39399.5\n",
      "lam_33 122896\n",
      "lam_34 3.19542e-06\n",
      "lam_35 0.000142978\n",
      "lam_36 2.60905e-09\n",
      "lam_37 42931.4\n",
      "lam_38 4.2296e-09\n",
      "lam_39 80724.2\n",
      "lam_40 21087.6\n",
      "lam_41 0.000206019\n",
      "lam_42 123186\n",
      "lam_43 2.60906e-09\n",
      "lam_44 6705.77\n",
      "lam_45 4.29151e-09\n",
      "lam_46 6.73367e-06\n",
      "lam_47 129395\n",
      "lam_48 0.000237788\n",
      "lam_49 7.02515e-06\n",
      "lam_50 2.6412e-09\n",
      "lam_51 1.31133e-05\n",
      "lam_52 117848\n",
      "lam_53 70594.8\n",
      "lam_54 7.00223e-06\n",
      "lam_55 7.00975e-06\n",
      "Obj: -1.62165e+06\n"
     ]
    }
   ],
   "source": [
    "from gurobipy import *\n",
    "\n",
    "L = 56  # dimension of lam\n",
    "\n",
    "K = np.size(x, 1)\n",
    "S = samp_cov(x)\n",
    "inv_S = inv(S)\n",
    "\n",
    "A_t = np.transpose(A)\n",
    "P_t = np.transpose(P)\n",
    "# PA'\n",
    "PA_t = np.dot(P, A_t)\n",
    "# AP_t\n",
    "AP_t = np.transpose(PA_t)\n",
    "\n",
    "Q = np.dot(np.dot(PA_t, inv_S), AP_t)\n",
    "b = sum([np.dot(np.dot(PA_t, inv_S), x[:, k]) for k in range(K)])\n",
    "\n",
    "\n",
    "model = Model(\"OD_matrix_estimation\")\n",
    "\n",
    "lam = []\n",
    "for l in range(L):\n",
    "    lam.append(model.addVar(name='lam_' + str(l)))\n",
    "\n",
    "model.update() \n",
    "\n",
    "# Set objective: (K/2) lam' * Q * lam - b * lam\n",
    "obj = 0\n",
    "for i in range(L):\n",
    "    for j in range(L):\n",
    "        obj += (1.0 /2) * K * lam[i] * Q[i, j] * lam[j]\n",
    "for l in range(L):\n",
    "    obj += - b[l] * lam[l]\n",
    "model.setObjective(obj)\n",
    "\n",
    "# Add constraint: lam >= 0\n",
    "for l in range(L):\n",
    "    model.addConstr(lam[l] >= 0)\n",
    "\n",
    "model.update() \n",
    "\n",
    "model.optimize()\n",
    "\n",
    "lam_list = []\n",
    "for v in model.getVars():\n",
    "    print('%s %g' % (v.varName, v.x))\n",
    "    lam_list.append(v.x)\n",
    "print('Obj: %g' % obj.getValue())"
   ]
  },
  {
   "cell_type": "code",
   "execution_count": 22,
   "metadata": {
    "collapsed": true
   },
   "outputs": [],
   "source": [
    "# write estimation result to file\n",
    "n = 8  # number of nodes\n",
    "with open('../temp_files/OD_demand_matrix_Oct_weekend.txt', 'w') as the_file:\n",
    "    idx = 0\n",
    "    for i in range(n + 1)[1:]:\n",
    "        for j in range(n + 1)[1:]:\n",
    "            if i != j: \n",
    "                the_file.write(\"%d,%d,%f\\n\" %(i, j, lam_list[idx]))\n",
    "                idx += 1"
   ]
  },
  {
   "cell_type": "code",
   "execution_count": 23,
   "metadata": {
    "collapsed": false
   },
   "outputs": [
    {
     "data": {
      "text/plain": [
       "[6.583472719785615e-08,\n",
       " 28780.237570665828,\n",
       " 68167.36334467526,\n",
       " 13593.18212211939,\n",
       " 22358.596023403486,\n",
       " 1.1532851356958073e-05,\n",
       " 69928.27572361386,\n",
       " 7.559488175080495e-08,\n",
       " 2.3666003964290536e-09,\n",
       " 38263.54958789865,\n",
       " 2.3665997145274625e-09,\n",
       " 2.3666001858352654e-09,\n",
       " 2.366116778282102e-09,\n",
       " 2.382056732368905e-09,\n",
       " 1.503103370523523e-05,\n",
       " 2.608606460125847e-09,\n",
       " 4.228269786131046e-09,\n",
       " 125256.98269334178,\n",
       " 415146.1572485195,\n",
       " 3.248132431202364e-05,\n",
       " 5.5219191030451265e-06,\n",
       " 15288.008606770914,\n",
       " 119775.78445898702,\n",
       " 0.00017642136971086648,\n",
       " 23642.83890915836,\n",
       " 14671.626357482046,\n",
       " 6.51793127581515e-06,\n",
       " 58316.08040130123,\n",
       " 26153.927318763057,\n",
       " 2.6090536620853355e-09,\n",
       " 8.211169871261451e-05,\n",
       " 4.231065133178558e-09,\n",
       " 39399.47233293899,\n",
       " 122895.86336133789,\n",
       " 3.1954209139206874e-06,\n",
       " 0.00014297753280450329,\n",
       " 2.6090493543401857e-09,\n",
       " 42931.37610476395,\n",
       " 4.229601637857864e-09,\n",
       " 80724.20134961963,\n",
       " 21087.603780573754,\n",
       " 0.0002060187317678608,\n",
       " 123186.35936909133,\n",
       " 2.6090599428511764e-09,\n",
       " 6705.770699791407,\n",
       " 4.291509144723423e-09,\n",
       " 6.733673756465554e-06,\n",
       " 129395.32111673847,\n",
       " 0.00023778802569700925,\n",
       " 7.0251525877474585e-06,\n",
       " 2.6412033750028986e-09,\n",
       " 1.3113314783203607e-05,\n",
       " 117847.96499248673,\n",
       " 70594.76061896159,\n",
       " 7.002229727631488e-06,\n",
       " 7.009753961664613e-06]"
      ]
     },
     "execution_count": 23,
     "metadata": {},
     "output_type": "execute_result"
    }
   ],
   "source": [
    "lam_list"
   ]
  },
  {
   "cell_type": "code",
   "execution_count": null,
   "metadata": {
    "collapsed": true
   },
   "outputs": [],
   "source": []
  }
 ],
 "metadata": {
  "kernelspec": {
   "display_name": "Python 2",
   "language": "python",
   "name": "python2"
  },
  "language_info": {
   "codemirror_mode": {
    "name": "ipython",
    "version": 2
   },
   "file_extension": ".py",
   "mimetype": "text/x-python",
   "name": "python",
   "nbconvert_exporter": "python",
   "pygments_lexer": "ipython2",
   "version": "2.7.11"
  }
 },
 "nbformat": 4,
 "nbformat_minor": 0
}
