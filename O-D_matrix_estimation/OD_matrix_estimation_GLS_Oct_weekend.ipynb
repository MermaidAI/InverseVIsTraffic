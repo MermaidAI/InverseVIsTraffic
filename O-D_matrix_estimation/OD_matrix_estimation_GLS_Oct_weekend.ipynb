{
 "cells": [
  {
   "cell_type": "code",
   "execution_count": 1,
   "metadata": {
    "collapsed": true
   },
   "outputs": [],
   "source": [
    "%run ../Python_files/util_data_storage_and_load.py"
   ]
  },
  {
   "cell_type": "code",
   "execution_count": 2,
   "metadata": {
    "collapsed": true
   },
   "outputs": [],
   "source": [
    "%run ../Python_files/load_dicts.py"
   ]
  },
  {
   "cell_type": "code",
   "execution_count": 3,
   "metadata": {
    "collapsed": false
   },
   "outputs": [],
   "source": [
    "%run ../Python_files/util.py"
   ]
  },
  {
   "cell_type": "code",
   "execution_count": 4,
   "metadata": {
    "collapsed": true
   },
   "outputs": [],
   "source": [
    "# load logit_route_choice_probability_matrix\n",
    "P = zload('../temp_files/logit_route_choice_probability_matrix.pkz')"
   ]
  },
  {
   "cell_type": "code",
   "execution_count": 5,
   "metadata": {
    "collapsed": false
   },
   "outputs": [],
   "source": [
    "import numpy as np\n",
    "from numpy.linalg import inv\n",
    "\n",
    "P = np.matrix(P)"
   ]
  },
  {
   "cell_type": "code",
   "execution_count": 6,
   "metadata": {
    "collapsed": false
   },
   "outputs": [
    {
     "data": {
      "text/plain": [
       "(56, 140)"
      ]
     },
     "execution_count": 6,
     "metadata": {},
     "output_type": "execute_result"
    }
   ],
   "source": [
    "np.size(P, 0), np.size(P, 1)"
   ]
  },
  {
   "cell_type": "code",
   "execution_count": 7,
   "metadata": {
    "collapsed": true
   },
   "outputs": [],
   "source": [
    "import numpy as np\n",
    "from numpy.linalg import inv\n",
    "\n",
    "def samp_cov(x):\n",
    "    \"\"\"\n",
    "    x: sample matrix, each column is a link flow vector sample; 24 * K\n",
    "    K: number of samples\n",
    "    S: sample covariance matrix\n",
    "    ----------------\n",
    "    return: inv(S)\n",
    "    ----------------\n",
    "    \"\"\"\n",
    "    x = np.matrix(x)\n",
    "    K = np.size(x, 1)\n",
    "    x_mean = sum(x[:,k] for k in range(K)) / K\n",
    "    S = sum(np.dot(x[:,k] - x_mean, np.transpose(x[:,k] - x_mean)) for k in range(K)) / (K - 1)\n",
    "    return S"
   ]
  },
  {
   "cell_type": "code",
   "execution_count": 8,
   "metadata": {
    "collapsed": false
   },
   "outputs": [],
   "source": [
    "# load path-link incidence matrix\n",
    "A = zload('../temp_files/path-link_incidence_matrix.pkz')"
   ]
  },
  {
   "cell_type": "code",
   "execution_count": 9,
   "metadata": {
    "collapsed": false
   },
   "outputs": [],
   "source": [
    "# load link counts data\n",
    "\n",
    "import json\n",
    "\n",
    "with open('../temp_files/link_day_minute_Oct_dict_JSON.json', 'r') as json_file:\n",
    "    link_day_minute_Oct_dict_JSON = json.load(json_file)"
   ]
  },
  {
   "cell_type": "code",
   "execution_count": 26,
   "metadata": {
    "collapsed": true
   },
   "outputs": [],
   "source": [
    "#weekend_Oct_list = [6, 7, 13, 14, 20, 21, 27, 28]\n",
    "weekend_Oct_list = [7, 14, 21, 28]"
   ]
  },
  {
   "cell_type": "code",
   "execution_count": 27,
   "metadata": {
    "collapsed": false
   },
   "outputs": [],
   "source": [
    "link_day_minute_Oct_list = []\n",
    "for link_idx in range(24):\n",
    "    for day in weekend_Oct_list: \n",
    "        for minute_idx in range(120):\n",
    "            key = 'link_' + str(link_idx) + '_' + str(day)\n",
    "            link_day_minute_Oct_list.append(link_day_minute_Oct_dict_JSON[key] ['AM_flow_minute'][minute_idx])"
   ]
  },
  {
   "cell_type": "code",
   "execution_count": 28,
   "metadata": {
    "collapsed": false
   },
   "outputs": [
    {
     "data": {
      "text/plain": [
       "11520"
      ]
     },
     "execution_count": 28,
     "metadata": {},
     "output_type": "execute_result"
    }
   ],
   "source": [
    "len(link_day_minute_Oct_list)"
   ]
  },
  {
   "cell_type": "code",
   "execution_count": 29,
   "metadata": {
    "collapsed": false
   },
   "outputs": [],
   "source": [
    "x = np.matrix(link_day_minute_Oct_list)\n",
    "x = np.matrix.reshape(x, 24, 480)\n",
    "\n",
    "x = np.nan_to_num(x)\n",
    "y = np.array(np.transpose(x))\n",
    "y = y[np.all(y != 0, axis=1)]\n",
    "x = np.transpose(y)\n",
    "x = np.matrix(x)"
   ]
  },
  {
   "cell_type": "code",
   "execution_count": 30,
   "metadata": {
    "collapsed": false
   },
   "outputs": [
    {
     "data": {
      "text/plain": [
       "matrix([[ 1204.46020076,  1265.66641839],\n",
       "        [ 1187.55975966,  1185.29839204],\n",
       "        [ 1533.84659368,  1496.28684053],\n",
       "        [ 1589.90512747,  1524.24404551],\n",
       "        [ 1584.83465184,  1534.46713582],\n",
       "        [ 1433.67503943,  1579.51219766],\n",
       "        [ 1239.00540022,  1280.89491702],\n",
       "        [ 1295.42342651,  1258.18843498],\n",
       "        [ 1663.88318504,  1644.84677691],\n",
       "        [ 1544.39468834,  1557.23349196],\n",
       "        [ 1489.6766154 ,  1454.21826445],\n",
       "        [ 1193.42136088,  1175.16455012],\n",
       "        [ 1193.860984  ,  1187.56945656],\n",
       "        [ 1240.18365593,  1269.89280973],\n",
       "        [ 1170.27892676,  1216.94737784],\n",
       "        [ 1101.89713326,   965.91134794],\n",
       "        [ 1270.49441224,  1279.36847072],\n",
       "        [ 1282.25644398,  1278.87414984],\n",
       "        [ 1520.32015554,  1518.53668328],\n",
       "        [ 1464.97917073,  1500.2901947 ],\n",
       "        [ 1444.95856308,  1395.2222123 ],\n",
       "        [ 1318.54752622,  1294.33427559],\n",
       "        [ 1255.36117507,  1202.65278352],\n",
       "        [ 1218.18133718,  1281.02838547]])"
      ]
     },
     "execution_count": 30,
     "metadata": {},
     "output_type": "execute_result"
    }
   ],
   "source": [
    "x[:,:2]"
   ]
  },
  {
   "cell_type": "code",
   "execution_count": 31,
   "metadata": {
    "collapsed": false
   },
   "outputs": [
    {
     "data": {
      "text/plain": [
       "(24, 480)"
      ]
     },
     "execution_count": 31,
     "metadata": {},
     "output_type": "execute_result"
    }
   ],
   "source": [
    "np.size(x, 0), np.size(x, 1)"
   ]
  },
  {
   "cell_type": "code",
   "execution_count": 32,
   "metadata": {
    "collapsed": false
   },
   "outputs": [
    {
     "data": {
      "text/plain": [
       "(24, 140)"
      ]
     },
     "execution_count": 32,
     "metadata": {},
     "output_type": "execute_result"
    }
   ],
   "source": [
    "np.size(A,0), np.size(A,1)"
   ]
  },
  {
   "cell_type": "code",
   "execution_count": 33,
   "metadata": {
    "collapsed": false
   },
   "outputs": [
    {
     "name": "stdout",
     "output_type": "stream",
     "text": [
      "Optimize a model with 56 rows, 56 columns and 56 nonzeros\n",
      "Model has 1596 quadratic objective terms\n",
      "Coefficient statistics:\n",
      "  Matrix range    [1e+00, 1e+00]\n",
      "  Objective range [5e+00, 3e+03]\n",
      "  Bounds range    [0e+00, 0e+00]\n",
      "  RHS range       [0e+00, 0e+00]\n",
      "Warning: diagonal adjustment of 3.5e-10 performed to make Q PSD\n",
      "Presolve removed 56 rows and 0 columns\n",
      "Presolve time: 0.00s\n",
      "Presolved: 0 rows, 56 columns, 0 nonzeros\n",
      "Presolved model has 1596 quadratic objective terms\n",
      "Ordering time: 0.00s\n",
      "\n",
      "Barrier statistics:\n",
      " Free vars  : 26\n",
      " AA' NZ     : 3.250e+02\n",
      " Factor NZ  : 3.510e+02\n",
      " Factor Ops : 6.201e+03 (less than 1 second per iteration)\n",
      " Threads    : 1\n",
      "\n",
      "                  Objective                Residual\n",
      "Iter       Primal          Dual         Primal    Dual     Compl     Time\n",
      "   0  -2.77465584e+07  0.00000000e+00  7.30e+03 9.94e+02  1.00e+06     0s\n",
      "   1  -5.60646623e+06 -8.68755271e+06  4.77e+02 6.49e+01  1.59e+05     0s\n",
      "   2  -4.97355188e+06 -6.17679091e+06  4.77e-04 6.49e-05  2.15e+04     0s\n",
      "   3  -5.18875554e+06 -5.29679432e+06  2.50e-06 3.40e-07  1.93e+03     0s\n",
      "   4  -5.20945229e+06 -5.21400830e+06  8.86e-09 1.21e-09  8.14e+01     0s\n",
      "   5  -5.21165935e+06 -5.21195216e+06  7.55e-11 4.55e-13  5.23e+00     0s\n",
      "   6  -5.21188105e+06 -5.21188715e+06  2.08e-10 4.55e-13  1.09e-01     0s\n",
      "   7  -5.21188653e+06 -5.21188736e+06  5.16e-10 1.82e-12  1.49e-02     0s\n",
      "   8  -5.21188667e+06 -5.21188668e+06  5.46e-12 9.09e-13  1.89e-04     0s\n",
      "   9  -5.21188667e+06 -5.21188667e+06  5.79e-11 4.55e-13  1.02e-05     0s\n",
      "  10  -5.21188667e+06 -5.21188667e+06  6.12e-11 9.09e-13  4.19e-06     0s\n",
      "  11  -5.21188667e+06 -5.21188667e+06  2.29e-11 9.09e-13  3.98e-07     0s\n",
      "  12  -5.21188667e+06 -5.21188667e+06  6.82e-12 8.48e-11  8.09e-08     0s\n",
      "  13  -5.21188667e+06 -5.21188667e+06  1.19e-12 1.22e-10  5.16e-10     0s\n",
      "\n",
      "Barrier solved model in 13 iterations and 0.02 seconds\n",
      "Optimal objective -5.21188667e+06\n",
      "\n",
      "lam_0 3.11896e-12\n",
      "lam_1 1116.32\n",
      "lam_2 3.45397e-12\n",
      "lam_3 782.549\n",
      "lam_4 328.747\n",
      "lam_5 3.42121\n",
      "lam_6 1.0423e-09\n",
      "lam_7 1.15109e-05\n",
      "lam_8 1.98012e-11\n",
      "lam_9 1179.37\n",
      "lam_10 1.98012e-11\n",
      "lam_11 1.98012e-11\n",
      "lam_12 1.98012e-11\n",
      "lam_13 1.99147e-11\n",
      "lam_14 1833.98\n",
      "lam_15 189.511\n",
      "lam_16 0.00877752\n",
      "lam_17 776.136\n",
      "lam_18 738.471\n",
      "lam_19 3.13528\n",
      "lam_20 0.168922\n",
      "lam_21 582.958\n",
      "lam_22 695.038\n",
      "lam_23 132.927\n",
      "lam_24 663.378\n",
      "lam_25 287.879\n",
      "lam_26 2.41288\n",
      "lam_27 1219.93\n",
      "lam_28 0.0115482\n",
      "lam_29 0.0340643\n",
      "lam_30 0.0183655\n",
      "lam_31 906.411\n",
      "lam_32 768.767\n",
      "lam_33 904.448\n",
      "lam_34 1187.93\n",
      "lam_35 8.87185e-07\n",
      "lam_36 8.87194e-07\n",
      "lam_37 8.87184e-07\n",
      "lam_38 0.0105622\n",
      "lam_39 732.104\n",
      "lam_40 930.06\n",
      "lam_41 0.0771441\n",
      "lam_42 0.0450318\n",
      "lam_43 454.42\n",
      "lam_44 0.0980306\n",
      "lam_45 0.00870282\n",
      "lam_46 592.745\n",
      "lam_47 12.4227\n",
      "lam_48 0.0698054\n",
      "lam_49 0.00177661\n",
      "lam_50 0.00405207\n",
      "lam_51 1263.68\n",
      "lam_52 1272.42\n",
      "lam_53 0.00236202\n",
      "lam_54 0.0022789\n",
      "lam_55 0.00419234\n",
      "Obj: -5.21189e+06\n"
     ]
    }
   ],
   "source": [
    "from gurobipy import *\n",
    "\n",
    "L = 56  # dimension of lam\n",
    "\n",
    "K = np.size(x, 1)\n",
    "S = samp_cov(x)\n",
    "inv_S = inv(S)\n",
    "\n",
    "A_t = np.transpose(A)\n",
    "P_t = np.transpose(P)\n",
    "# PA'\n",
    "PA_t = np.dot(P, A_t)\n",
    "# AP_t\n",
    "AP_t = np.transpose(PA_t)\n",
    "\n",
    "Q = np.dot(np.dot(PA_t, inv_S), AP_t)\n",
    "b = sum([np.dot(np.dot(PA_t, inv_S), x[:, k]) for k in range(K)])\n",
    "\n",
    "\n",
    "model = Model(\"OD_matrix_estimation\")\n",
    "\n",
    "lam = []\n",
    "for l in range(L):\n",
    "    lam.append(model.addVar(name='lam_' + str(l)))\n",
    "\n",
    "model.update() \n",
    "\n",
    "# Set objective: (K/2) lam' * Q * lam - b * lam\n",
    "obj = 0\n",
    "for i in range(L):\n",
    "    for j in range(L):\n",
    "        obj += (1.0 /2) * K * lam[i] * Q[i, j] * lam[j]\n",
    "for l in range(L):\n",
    "    obj += - b[l] * lam[l]\n",
    "model.setObjective(obj)\n",
    "\n",
    "# Add constraint: lam >= 0\n",
    "for l in range(L):\n",
    "    model.addConstr(lam[l] >= 0)\n",
    "\n",
    "model.update() \n",
    "\n",
    "model.optimize()\n",
    "\n",
    "lam_list = []\n",
    "for v in model.getVars():\n",
    "    print('%s %g' % (v.varName, v.x))\n",
    "    lam_list.append(v.x)\n",
    "print('Obj: %g' % obj.getValue())"
   ]
  },
  {
   "cell_type": "code",
   "execution_count": 34,
   "metadata": {
    "collapsed": true
   },
   "outputs": [],
   "source": [
    "# write estimation result to file\n",
    "n = 8  # number of nodes\n",
    "with open('../temp_files/OD_demand_matrix_Oct_weekend.txt', 'w') as the_file:\n",
    "    idx = 0\n",
    "    for i in range(n + 1)[1:]:\n",
    "        for j in range(n + 1)[1:]:\n",
    "            if i != j: \n",
    "                the_file.write(\"%d,%d,%f\\n\" %(i, j, lam_list[idx]))\n",
    "                idx += 1"
   ]
  },
  {
   "cell_type": "code",
   "execution_count": 35,
   "metadata": {
    "collapsed": false
   },
   "outputs": [
    {
     "data": {
      "text/plain": [
       "[3.11896123428376e-12,\n",
       " 1116.3187749159435,\n",
       " 3.453971146008826e-12,\n",
       " 782.5489052207545,\n",
       " 328.746636770248,\n",
       " 3.4212069942166607,\n",
       " 1.0423014652399637e-09,\n",
       " 1.1510889550964305e-05,\n",
       " 1.9801161182257477e-11,\n",
       " 1179.3695831095083,\n",
       " 1.9801161182900196e-11,\n",
       " 1.9801161182513076e-11,\n",
       " 1.980116118141127e-11,\n",
       " 1.9914710094928362e-11,\n",
       " 1833.9755431709434,\n",
       " 189.51124653739294,\n",
       " 0.008777520571285446,\n",
       " 776.1357987153424,\n",
       " 738.4705037215365,\n",
       " 3.13528215038248,\n",
       " 0.16892203179523335,\n",
       " 582.9583292530399,\n",
       " 695.0383473831,\n",
       " 132.9270583954289,\n",
       " 663.3782220024228,\n",
       " 287.8794611057427,\n",
       " 2.412882650185125,\n",
       " 1219.9278795057112,\n",
       " 0.011548227231361174,\n",
       " 0.034064333527755064,\n",
       " 0.01836545016032276,\n",
       " 906.4105417777231,\n",
       " 768.766630917698,\n",
       " 904.4479864254079,\n",
       " 1187.926392855803,\n",
       " 8.871845608087814e-07,\n",
       " 8.871935270670999e-07,\n",
       " 8.871842018735691e-07,\n",
       " 0.010562184241212691,\n",
       " 732.1043944557383,\n",
       " 930.0602247607085,\n",
       " 0.07714412801662895,\n",
       " 0.04503180112097316,\n",
       " 454.4203835881315,\n",
       " 0.098030649021986,\n",
       " 0.008702824068021586,\n",
       " 592.7452993763583,\n",
       " 12.422742802104725,\n",
       " 0.06980541472279711,\n",
       " 0.0017766112773127118,\n",
       " 0.004052074582624576,\n",
       " 1263.6761202648067,\n",
       " 1272.4175671386222,\n",
       " 0.0023620185132470217,\n",
       " 0.002278896659898555,\n",
       " 0.0041923361578022345]"
      ]
     },
     "execution_count": 35,
     "metadata": {},
     "output_type": "execute_result"
    }
   ],
   "source": [
    "lam_list"
   ]
  },
  {
   "cell_type": "code",
   "execution_count": null,
   "metadata": {
    "collapsed": true
   },
   "outputs": [],
   "source": []
  }
 ],
 "metadata": {
  "kernelspec": {
   "display_name": "Python 2",
   "language": "python",
   "name": "python2"
  },
  "language_info": {
   "codemirror_mode": {
    "name": "ipython",
    "version": 2
   },
   "file_extension": ".py",
   "mimetype": "text/x-python",
   "name": "python",
   "nbconvert_exporter": "python",
   "pygments_lexer": "ipython2",
   "version": "2.7.11"
  }
 },
 "nbformat": 4,
 "nbformat_minor": 0
}
