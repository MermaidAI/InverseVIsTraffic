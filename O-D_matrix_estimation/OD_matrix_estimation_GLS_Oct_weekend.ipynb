{
 "cells": [
  {
   "cell_type": "code",
   "execution_count": 1,
   "metadata": {
    "collapsed": true
   },
   "outputs": [],
   "source": [
    "%run ../Python_files/util_data_storage_and_load.py"
   ]
  },
  {
   "cell_type": "code",
   "execution_count": 2,
   "metadata": {
    "collapsed": true
   },
   "outputs": [],
   "source": [
    "%run ../Python_files/load_dicts.py"
   ]
  },
  {
   "cell_type": "code",
   "execution_count": 3,
   "metadata": {
    "collapsed": false
   },
   "outputs": [],
   "source": [
    "%run ../Python_files/util.py"
   ]
  },
  {
   "cell_type": "code",
   "execution_count": 4,
   "metadata": {
    "collapsed": true
   },
   "outputs": [],
   "source": [
    "# load logit_route_choice_probability_matrix\n",
    "P = zload('../temp_files/logit_route_choice_probability_matrix.pkz')"
   ]
  },
  {
   "cell_type": "code",
   "execution_count": 5,
   "metadata": {
    "collapsed": false
   },
   "outputs": [],
   "source": [
    "import numpy as np\n",
    "from numpy.linalg import inv\n",
    "\n",
    "P = np.matrix(P)"
   ]
  },
  {
   "cell_type": "code",
   "execution_count": 6,
   "metadata": {
    "collapsed": false
   },
   "outputs": [
    {
     "data": {
      "text/plain": [
       "(56, 140)"
      ]
     },
     "execution_count": 6,
     "metadata": {},
     "output_type": "execute_result"
    }
   ],
   "source": [
    "np.size(P, 0), np.size(P, 1)"
   ]
  },
  {
   "cell_type": "code",
   "execution_count": 7,
   "metadata": {
    "collapsed": true
   },
   "outputs": [],
   "source": [
    "import numpy as np\n",
    "from numpy.linalg import inv\n",
    "\n",
    "def samp_cov(x):\n",
    "    \"\"\"\n",
    "    x: sample matrix, each column is a link flow vector sample; 24 * K\n",
    "    K: number of samples\n",
    "    S: sample covariance matrix\n",
    "    ----------------\n",
    "    return: inv(S)\n",
    "    ----------------\n",
    "    \"\"\"\n",
    "    x = np.matrix(x)\n",
    "    K = np.size(x, 1)\n",
    "    x_mean = sum(x[:,k] for k in range(K)) / K\n",
    "    S = sum(np.dot(x[:,k] - x_mean, np.transpose(x[:,k] - x_mean)) for k in range(K)) / (K - 1)\n",
    "    return S"
   ]
  },
  {
   "cell_type": "code",
   "execution_count": 8,
   "metadata": {
    "collapsed": false
   },
   "outputs": [],
   "source": [
    "# load path-link incidence matrix\n",
    "A = zload('../temp_files/path-link_incidence_matrix.pkz')"
   ]
  },
  {
   "cell_type": "code",
   "execution_count": 9,
   "metadata": {
    "collapsed": false
   },
   "outputs": [],
   "source": [
    "# load link counts data\n",
    "\n",
    "import json\n",
    "\n",
    "with open('../temp_files/link_day_minute_Oct_dict_JSON.json', 'r') as json_file:\n",
    "    link_day_minute_Oct_dict_JSON = json.load(json_file)"
   ]
  },
  {
   "cell_type": "code",
   "execution_count": 11,
   "metadata": {
    "collapsed": true
   },
   "outputs": [],
   "source": [
    "weekend_Oct_list = [6, 7, 13, 14, 20, 21, 27, 28]\n",
    "#weekend_Oct_list = [7, 14, 21, 28]"
   ]
  },
  {
   "cell_type": "code",
   "execution_count": 12,
   "metadata": {
    "collapsed": false
   },
   "outputs": [],
   "source": [
    "link_day_minute_Oct_list = []\n",
    "for link_idx in range(24):\n",
    "    for day in weekend_Oct_list: \n",
    "        for minute_idx in range(120):\n",
    "            key = 'link_' + str(link_idx) + '_' + str(day)\n",
    "            link_day_minute_Oct_list.append(link_day_minute_Oct_dict_JSON[key] ['AM_flow_minute'][minute_idx])"
   ]
  },
  {
   "cell_type": "code",
   "execution_count": 13,
   "metadata": {
    "collapsed": false
   },
   "outputs": [
    {
     "data": {
      "text/plain": [
       "23040"
      ]
     },
     "execution_count": 13,
     "metadata": {},
     "output_type": "execute_result"
    }
   ],
   "source": [
    "len(link_day_minute_Oct_list)"
   ]
  },
  {
   "cell_type": "code",
   "execution_count": 14,
   "metadata": {
    "collapsed": false
   },
   "outputs": [],
   "source": [
    "x = np.matrix(link_day_minute_Oct_list)\n",
    "x = np.matrix.reshape(x, 24, 960)\n",
    "\n",
    "x = np.nan_to_num(x)\n",
    "y = np.array(np.transpose(x))\n",
    "y = y[np.all(y != 0, axis=1)]\n",
    "x = np.transpose(y)\n",
    "x = np.matrix(x)"
   ]
  },
  {
   "cell_type": "code",
   "execution_count": 15,
   "metadata": {
    "collapsed": false
   },
   "outputs": [
    {
     "data": {
      "text/plain": [
       "matrix([[ 1636.19355318,  1417.12543889],\n",
       "        [ 1626.6008501 ,   932.620851  ],\n",
       "        [ 3824.94048709,  2290.57694614],\n",
       "        [ 3275.51449472,  3251.6479074 ],\n",
       "        [ 2840.15499877,  2727.73950219],\n",
       "        [  869.65389884,  1725.22850698],\n",
       "        [ 1302.00150238,   824.48731805],\n",
       "        [ 1061.44794093,  1236.70943259],\n",
       "        [ 2129.76838186,  1860.10517061],\n",
       "        [ 1663.97337137,  2059.62699908],\n",
       "        [ 4877.42602393,  5558.14668839],\n",
       "        [ 2798.93966838,  2950.75824635],\n",
       "        [  882.16639739,  1065.60229705],\n",
       "        [ 1309.41071724,  1641.84976528],\n",
       "        [ 1356.6688995 ,  2034.53837987],\n",
       "        [ 2165.83854997,  1816.72588542],\n",
       "        [  730.02499282,   923.18088498],\n",
       "        [ 1466.53754782,  2091.50284544],\n",
       "        [ 2653.85126334,  1246.48446434],\n",
       "        [ 2355.96909926,  2097.48561538],\n",
       "        [ 4766.85888951,  4098.48344455],\n",
       "        [ 1317.41529853,  1012.97239054],\n",
       "        [ 2578.56685091,  2058.14904278],\n",
       "        [ 1126.84459114,  1658.84587477]])"
      ]
     },
     "execution_count": 15,
     "metadata": {},
     "output_type": "execute_result"
    }
   ],
   "source": [
    "x[:,:2]"
   ]
  },
  {
   "cell_type": "code",
   "execution_count": 16,
   "metadata": {
    "collapsed": false
   },
   "outputs": [
    {
     "data": {
      "text/plain": [
       "(24, 958)"
      ]
     },
     "execution_count": 16,
     "metadata": {},
     "output_type": "execute_result"
    }
   ],
   "source": [
    "np.size(x, 0), np.size(x, 1)"
   ]
  },
  {
   "cell_type": "code",
   "execution_count": 17,
   "metadata": {
    "collapsed": false
   },
   "outputs": [
    {
     "data": {
      "text/plain": [
       "(24, 140)"
      ]
     },
     "execution_count": 17,
     "metadata": {},
     "output_type": "execute_result"
    }
   ],
   "source": [
    "np.size(A,0), np.size(A,1)"
   ]
  },
  {
   "cell_type": "code",
   "execution_count": 18,
   "metadata": {
    "collapsed": false
   },
   "outputs": [
    {
     "name": "stdout",
     "output_type": "stream",
     "text": [
      "Optimize a model with 56 rows, 56 columns and 56 nonzeros\n",
      "Model has 1596 quadratic objective terms\n",
      "Coefficient statistics:\n",
      "  Matrix range    [1e+00, 1e+00]\n",
      "  Objective range [3e-02, 8e+00]\n",
      "  Bounds range    [0e+00, 0e+00]\n",
      "  RHS range       [0e+00, 0e+00]\n",
      "Presolve removed 56 rows and 0 columns\n",
      "Presolve time: 0.00s\n",
      "Presolved: 0 rows, 56 columns, 0 nonzeros\n",
      "Presolved model has 1596 quadratic objective terms\n",
      "Ordering time: 0.00s\n",
      "\n",
      "Barrier statistics:\n",
      " Free vars  : 24\n",
      " AA' NZ     : 2.760e+02\n",
      " Factor NZ  : 3.000e+02\n",
      " Factor Ops : 4.900e+03 (less than 1 second per iteration)\n",
      " Threads    : 1\n",
      "\n",
      "                  Objective                Residual\n",
      "Iter       Primal          Dual         Primal    Dual     Compl     Time\n",
      "   0  -1.84832224e+06  0.00000000e+00  6.09e+03 1.42e+02  9.48e+05     0s\n",
      "   1   1.27322254e+06 -1.94205757e+06  1.06e+03 1.63e+02  2.25e+05     0s\n",
      "   2   1.08848697e+06 -1.42132691e+06  1.61e+02 2.55e+01  6.72e+04     0s\n",
      "   3   1.93969537e+05 -3.41917396e+05  1.61e-04 1.14e-13  9.57e+03     0s\n",
      "   4  -5.19329068e+03 -8.11191706e+04  1.58e-10 2.84e-14  1.36e+03     0s\n",
      "   5  -2.82277901e+04 -3.73719173e+04  3.07e-12 4.26e-14  1.63e+02     0s\n",
      "   6  -3.04352827e+04 -3.12122529e+04  1.65e-12 2.84e-14  1.39e+01     0s\n",
      "   7  -3.06350916e+04 -3.06730851e+04  4.32e-12 8.53e-14  6.78e-01     0s\n",
      "   8  -3.06481273e+04 -3.06554532e+04  7.89e-12 2.13e-14  1.31e-01     0s\n",
      "   9  -3.06499623e+04 -3.06509179e+04  1.42e-12 2.84e-14  1.71e-02     0s\n",
      "  10  -3.06502716e+04 -3.06503015e+04  1.89e-12 5.68e-14  5.36e-04     0s\n",
      "  11  -3.06502860e+04 -3.06502866e+04  2.45e-12 2.84e-14  1.07e-05     0s\n",
      "  12  -3.06502862e+04 -3.06502862e+04  1.32e-12 5.68e-14  1.14e-07     0s\n",
      "  13  -3.06502862e+04 -3.06502862e+04  6.54e-13 2.84e-14  1.16e-08     0s\n",
      "  14  -3.06502862e+04 -3.06502862e+04  2.98e-13 2.78e-12  1.46e-09     0s\n",
      "\n",
      "Barrier solved model in 14 iterations and 0.02 seconds\n",
      "Optimal objective -3.06502862e+04\n",
      "\n",
      "lam_0 1.12824e-09\n",
      "lam_1 3238.87\n",
      "lam_2 1.26138e-09\n",
      "lam_3 305.12\n",
      "lam_4 1104.81\n",
      "lam_5 3.44034e-06\n",
      "lam_6 3.42829e-07\n",
      "lam_7 0.00224044\n",
      "lam_8 3.46384e-09\n",
      "lam_9 2317.19\n",
      "lam_10 3.46384e-09\n",
      "lam_11 3.46384e-09\n",
      "lam_12 3.46036e-09\n",
      "lam_13 3.4802e-09\n",
      "lam_14 2411.84\n",
      "lam_15 127.038\n",
      "lam_16 22.7241\n",
      "lam_17 282.839\n",
      "lam_18 1578.26\n",
      "lam_19 2780.81\n",
      "lam_20 3.44136e-06\n",
      "lam_21 750.027\n",
      "lam_22 1398.27\n",
      "lam_23 467.231\n",
      "lam_24 282.058\n",
      "lam_25 936.352\n",
      "lam_26 1.97242e-06\n",
      "lam_27 2106.35\n",
      "lam_28 0.586813\n",
      "lam_29 0.561387\n",
      "lam_30 649.765\n",
      "lam_31 1333.57\n",
      "lam_32 438.5\n",
      "lam_33 1.95265e-06\n",
      "lam_34 1.95364e-06\n",
      "lam_35 1630.15\n",
      "lam_36 198.884\n",
      "lam_37 0.000159936\n",
      "lam_38 2.85144\n",
      "lam_39 1335.85\n",
      "lam_40 705.221\n",
      "lam_41 491.195\n",
      "lam_42 4.53575e-06\n",
      "lam_43 4.53575e-06\n",
      "lam_44 1990.44\n",
      "lam_45 2.30495\n",
      "lam_46 1166.7\n",
      "lam_47 2.25619e-06\n",
      "lam_48 1330.6\n",
      "lam_49 4.54832e-06\n",
      "lam_50 4.586e-06\n",
      "lam_51 4.53726e-06\n",
      "lam_52 2022.8\n",
      "lam_53 811.896\n",
      "lam_54 2.25619e-06\n",
      "lam_55 1692.65\n",
      "Obj: -30648.5\n"
     ]
    }
   ],
   "source": [
    "from gurobipy import *\n",
    "\n",
    "L = 56  # dimension of lam\n",
    "\n",
    "K = np.size(x, 1)\n",
    "S = samp_cov(x)\n",
    "inv_S = inv(S)\n",
    "\n",
    "A_t = np.transpose(A)\n",
    "P_t = np.transpose(P)\n",
    "# PA'\n",
    "PA_t = np.dot(P, A_t)\n",
    "# AP_t\n",
    "AP_t = np.transpose(PA_t)\n",
    "\n",
    "Q = np.dot(np.dot(PA_t, inv_S), AP_t)\n",
    "b = sum([np.dot(np.dot(PA_t, inv_S), x[:, k]) for k in range(K)])\n",
    "\n",
    "\n",
    "model = Model(\"OD_matrix_estimation\")\n",
    "\n",
    "lam = []\n",
    "for l in range(L):\n",
    "    lam.append(model.addVar(name='lam_' + str(l)))\n",
    "\n",
    "model.update() \n",
    "\n",
    "# Set objective: (K/2) lam' * Q * lam - b' * lam\n",
    "obj = 0\n",
    "for i in range(L):\n",
    "    for j in range(L):\n",
    "        obj += (1.0 /2) * K * lam[i] * Q[i, j] * lam[j]\n",
    "for l in range(L):\n",
    "    obj += - b[l] * lam[l]\n",
    "model.setObjective(obj)\n",
    "\n",
    "# Add constraint: lam >= 0\n",
    "for l in range(L):\n",
    "    model.addConstr(lam[l] >= 0)\n",
    "\n",
    "model.update() \n",
    "\n",
    "model.optimize()\n",
    "\n",
    "lam_list = []\n",
    "for v in model.getVars():\n",
    "    print('%s %g' % (v.varName, v.x))\n",
    "    lam_list.append(v.x)\n",
    "print('Obj: %g' % obj.getValue())"
   ]
  },
  {
   "cell_type": "code",
   "execution_count": 19,
   "metadata": {
    "collapsed": true
   },
   "outputs": [],
   "source": [
    "# write estimation result to file\n",
    "n = 8  # number of nodes\n",
    "with open('../temp_files/OD_demand_matrix_Oct_weekend.txt', 'w') as the_file:\n",
    "    idx = 0\n",
    "    for i in range(n + 1)[1:]:\n",
    "        for j in range(n + 1)[1:]:\n",
    "            if i != j: \n",
    "                the_file.write(\"%d,%d,%f\\n\" %(i, j, lam_list[idx]))\n",
    "                idx += 1"
   ]
  },
  {
   "cell_type": "code",
   "execution_count": 20,
   "metadata": {
    "collapsed": false
   },
   "outputs": [
    {
     "data": {
      "text/plain": [
       "[1.1282414000052355e-09,\n",
       " 3238.871645054255,\n",
       " 1.2613793157140417e-09,\n",
       " 305.11984195773414,\n",
       " 1104.8076937279284,\n",
       " 3.440344286610693e-06,\n",
       " 3.428285832902002e-07,\n",
       " 0.002240437986217543,\n",
       " 3.4638412925565238e-09,\n",
       " 2317.1904218082213,\n",
       " 3.4638412914890736e-09,\n",
       " 3.463841292439246e-09,\n",
       " 3.460357301615304e-09,\n",
       " 3.4802005365780836e-09,\n",
       " 2411.8440690065895,\n",
       " 127.03825567948354,\n",
       " 22.724111905582674,\n",
       " 282.8393045952599,\n",
       " 1578.2618067726537,\n",
       " 2780.8128794791396,\n",
       " 3.441361829883031e-06,\n",
       " 750.0271144075888,\n",
       " 1398.2742372280845,\n",
       " 467.23090574676286,\n",
       " 282.057506270594,\n",
       " 936.3517246504084,\n",
       " 1.9724209089572963e-06,\n",
       " 2106.3541048765182,\n",
       " 0.5868134164704857,\n",
       " 0.5613871803353043,\n",
       " 649.7653042253831,\n",
       " 1333.5664813781436,\n",
       " 438.50024420528956,\n",
       " 1.952650430377177e-06,\n",
       " 1.953642110702689e-06,\n",
       " 1630.1479395341416,\n",
       " 198.8838021736137,\n",
       " 0.00015993629722903138,\n",
       " 2.8514444639117755,\n",
       " 1335.8497993189108,\n",
       " 705.2212139975547,\n",
       " 491.1948057024839,\n",
       " 4.5357518035030135e-06,\n",
       " 4.535749266152381e-06,\n",
       " 1990.4409853467905,\n",
       " 2.3049453330708616,\n",
       " 1166.7027485067606,\n",
       " 2.2561869782923836e-06,\n",
       " 1330.6027052356787,\n",
       " 4.5483172936577356e-06,\n",
       " 4.586003131120071e-06,\n",
       " 4.537261362836661e-06,\n",
       " 2022.8041330185629,\n",
       " 811.8960261729869,\n",
       " 2.2561869374032233e-06,\n",
       " 1692.6471666572054]"
      ]
     },
     "execution_count": 20,
     "metadata": {},
     "output_type": "execute_result"
    }
   ],
   "source": [
    "lam_list"
   ]
  },
  {
   "cell_type": "code",
   "execution_count": null,
   "metadata": {
    "collapsed": true
   },
   "outputs": [],
   "source": []
  }
 ],
 "metadata": {
  "kernelspec": {
   "display_name": "Python 2",
   "language": "python",
   "name": "python2"
  },
  "language_info": {
   "codemirror_mode": {
    "name": "ipython",
    "version": 2
   },
   "file_extension": ".py",
   "mimetype": "text/x-python",
   "name": "python",
   "nbconvert_exporter": "python",
   "pygments_lexer": "ipython2",
   "version": "2.7.11"
  }
 },
 "nbformat": 4,
 "nbformat_minor": 0
}
