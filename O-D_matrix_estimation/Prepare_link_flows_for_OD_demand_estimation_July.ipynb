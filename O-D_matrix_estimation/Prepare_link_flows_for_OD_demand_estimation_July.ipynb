{
 "cells": [
  {
   "cell_type": "code",
   "execution_count": 1,
   "metadata": {
    "collapsed": true
   },
   "outputs": [],
   "source": [
    "%run ../Python_files/util_data_storage_and_load.py"
   ]
  },
  {
   "cell_type": "code",
   "execution_count": 2,
   "metadata": {
    "collapsed": true
   },
   "outputs": [],
   "source": [
    "%run ../Python_files/load_dicts.py"
   ]
  },
  {
   "cell_type": "code",
   "execution_count": 3,
   "metadata": {
    "collapsed": false
   },
   "outputs": [],
   "source": [
    "%run ../Python_files/util.py"
   ]
  },
  {
   "cell_type": "code",
   "execution_count": 4,
   "metadata": {
    "collapsed": false
   },
   "outputs": [],
   "source": [
    "road_seg_inr_capac = zload('../temp_files/road_seg_inr_capac.pkz')"
   ]
  },
  {
   "cell_type": "code",
   "execution_count": 5,
   "metadata": {
    "collapsed": false
   },
   "outputs": [],
   "source": [
    "# load tmc-day-ave_speed data for AM peak of July\n",
    "tmc_day_speed_dict_Jul_AM = zload('../temp_files/Jul_AM/tmc_day_speed_dict.pkz')\n",
    "\n",
    "# load tmc-day-ave_speed data for MD of July\n",
    "tmc_day_speed_dict_Jul_MD = zload('../temp_files/Jul_MD/tmc_day_speed_dict.pkz')\n",
    "\n",
    "# load tmc-day-ave_speed data for PM peak of July\n",
    "tmc_day_speed_dict_Jul_PM = zload('../temp_files/Jul_PM/tmc_day_speed_dict.pkz')\n",
    "\n",
    "# load tmc-day-ave_speed data for NT of July\n",
    "tmc_day_speed_dict_Jul_NT = zload('../temp_files/Jul_NT/tmc_day_speed_dict.pkz')"
   ]
  },
  {
   "cell_type": "code",
   "execution_count": 6,
   "metadata": {
    "collapsed": false
   },
   "outputs": [
    {
     "data": {
      "text/plain": [
       "59.444591527987932"
      ]
     },
     "execution_count": 6,
     "metadata": {},
     "output_type": "execute_result"
    }
   ],
   "source": [
    "tmc_day_speed_dict_Jul_AM['129N0410818'].ave_speed()"
   ]
  },
  {
   "cell_type": "code",
   "execution_count": 8,
   "metadata": {
    "collapsed": false
   },
   "outputs": [],
   "source": [
    "tmc_day_capac_flow_minute_dict = {}\n",
    "\n",
    "for i in range(len(road_seg_inr_capac.tmc)):\n",
    "    for day in range(32)[1:]:\n",
    "        tmc = road_seg_inr_capac.tmc[i]\n",
    "        road_num = road_seg_inr_capac.road_num[i]\n",
    "        shape_length = road_seg_inr_capac.shape_length[i]\n",
    "        day = day\n",
    "        AB_AM_capac = road_seg_inr_capac.AB_AM_capac[i]\n",
    "        AB_MD_capac = road_seg_inr_capac.AB_MD_capac[i]\n",
    "        AB_PM_capac = road_seg_inr_capac.AB_PM_capac[i]\n",
    "        AB_NT_capac = road_seg_inr_capac.AB_NT_capac[i]\n",
    "        AM_ave_speed = tmc_day_speed_dict_Jul_AM[tmc + str(day)].ave_speed()\n",
    "        MD_ave_speed = tmc_day_speed_dict_Jul_MD[tmc + str(day)].ave_speed()\n",
    "        PM_ave_speed = tmc_day_speed_dict_Jul_PM[tmc + str(day)].ave_speed()\n",
    "        NT_ave_speed = tmc_day_speed_dict_Jul_NT[tmc + str(day)].ave_speed()\n",
    "        AM_speed_minute = tmc_day_speed_dict_Jul_AM[tmc + str(day)].speed\n",
    "        MD_speed_minute = tmc_day_speed_dict_Jul_MD[tmc + str(day)].speed\n",
    "        PM_speed_minute = tmc_day_speed_dict_Jul_PM[tmc + str(day)].speed\n",
    "        NT_speed_minute = tmc_day_speed_dict_Jul_NT[tmc + str(day)].speed\n",
    "        tmc_day_capac_flow_minute = RoadSegInrCapacFlowMinute(tmc, road_num, shape_length, day, \\\n",
    "                                                  AB_AM_capac, AB_MD_capac, \\\n",
    "                                                  AB_PM_capac, AB_NT_capac, \\\n",
    "                                                  AM_ave_speed, MD_ave_speed, \\\n",
    "                                                  PM_ave_speed, NT_ave_speed, \\\n",
    "                                                  AM_speed_minute, MD_speed_minute, \\\n",
    "                                                  PM_speed_minute, NT_speed_minute)\n",
    "        assert(len(tmc_day_capac_flow_minute.AM_flow_minute()) == 120)\n",
    "        assert(len(tmc_day_capac_flow_minute.MD_flow_minute()) == 120)\n",
    "        assert(len(tmc_day_capac_flow_minute.PM_flow_minute()) == 120)\n",
    "        assert(len(tmc_day_capac_flow_minute.NT_flow_minute()) == 120)\n",
    "        tmc_day_capac_flow_minute_dict[tmc + str(day)] = tmc_day_capac_flow_minute"
   ]
  },
  {
   "cell_type": "code",
   "execution_count": 9,
   "metadata": {
    "collapsed": true
   },
   "outputs": [],
   "source": [
    "#zdump(tmc_day_capac_flow_minute_dict, '../temp_files/tmc_day_capac_flow_minute_dict_Jul.pkz')"
   ]
  },
  {
   "cell_type": "code",
   "execution_count": 10,
   "metadata": {
    "collapsed": false
   },
   "outputs": [
    {
     "data": {
      "text/plain": [
       "<bound method RoadSegInrCapacFlowMinute.NT_flow_minute of <__main__.RoadSegInrCapacFlowMinute object at 0x7f9c46bb1b90>>"
      ]
     },
     "execution_count": 10,
     "metadata": {},
     "output_type": "execute_result"
    }
   ],
   "source": [
    "tmc_day_capac_flow_minute_dict['129N0437720'].NT_flow_minute"
   ]
  },
  {
   "cell_type": "code",
   "execution_count": 11,
   "metadata": {
    "collapsed": true
   },
   "outputs": [],
   "source": [
    "link_with_capac_list = list(zload('../temp_files/links_with_capac.pkz'))"
   ]
  },
  {
   "cell_type": "code",
   "execution_count": 12,
   "metadata": {
    "collapsed": true
   },
   "outputs": [],
   "source": [
    "import numpy as np\n",
    "\n",
    "link_day_minute_Jul_dict = {}\n",
    "\n",
    "for day in range(32)[1:]:\n",
    "    i = 0\n",
    "    for link_with_capac in link_with_capac_list:\n",
    "        AM_flow = sum([tmc_day_capac_flow_minute_dict[tmc + str(day)].AM_flow() for tmc in link_with_capac.tmc_set])\n",
    "        MD_flow = sum([tmc_day_capac_flow_minute_dict[tmc + str(day)].MD_flow() for tmc in link_with_capac.tmc_set])\n",
    "        PM_flow = sum([tmc_day_capac_flow_minute_dict[tmc + str(day)].PM_flow() for tmc in link_with_capac.tmc_set])\n",
    "        NT_flow = sum([tmc_day_capac_flow_minute_dict[tmc + str(day)].NT_flow() for tmc in link_with_capac.tmc_set])\n",
    "        AM_flow_minute = list(sum([np.array(tmc_day_capac_flow_minute_dict[tmc + str(day)].AM_flow_minute()) \\\n",
    "                              for tmc in link_with_capac.tmc_set]))\n",
    "        MD_flow_minute = list(sum([np.array(tmc_day_capac_flow_minute_dict[tmc + str(day)].MD_flow_minute()) \\\n",
    "                              for tmc in link_with_capac.tmc_set]))\n",
    "        PM_flow_minute = list(sum([np.array(tmc_day_capac_flow_minute_dict[tmc + str(day)].PM_flow_minute()) \\\n",
    "                              for tmc in link_with_capac.tmc_set]))\n",
    "        NT_flow_minute = list(sum([np.array(tmc_day_capac_flow_minute_dict[tmc + str(day)].NT_flow_minute()) \\\n",
    "                              for tmc in link_with_capac.tmc_set]))\n",
    "        link_with_capac_new = Link_with_Free_Flow_Time_Minute(link_with_capac.init_node, link_with_capac.term_node, \\\n",
    "                                                       link_with_capac.tmc_set, \\\n",
    "                                                       link_with_capac.AM_capac, \\\n",
    "                                                       link_with_capac.MD_capac, \\\n",
    "                                                       link_with_capac.PM_capac, \\\n",
    "                                                       link_with_capac.NT_capac, \\\n",
    "                                                       link_with_capac.free_flow_time, \\\n",
    "                                                       link_with_capac.length, \\\n",
    "                                                       AM_flow, MD_flow, PM_flow, NT_flow, \\\n",
    "                                                       AM_flow_minute, MD_flow_minute, \\\n",
    "                                                       PM_flow_minute, NT_flow_minute)\n",
    "        link_day_minute_Jul_dict['link_' + str(i) + '_' + str(day)] = link_with_capac_new\n",
    "        i = i + 1"
   ]
  },
  {
   "cell_type": "code",
   "execution_count": 14,
   "metadata": {
    "collapsed": false
   },
   "outputs": [],
   "source": [
    "#zdump(link_day_minute_Jul_dict, '../temp_files/link_day_minute_Jul_dict.pkz')"
   ]
  },
  {
   "cell_type": "code",
   "execution_count": 15,
   "metadata": {
    "collapsed": false
   },
   "outputs": [
    {
     "data": {
      "text/plain": [
       "335098.47386578098"
      ]
     },
     "execution_count": 15,
     "metadata": {},
     "output_type": "execute_result"
    }
   ],
   "source": [
    "link_day_minute_Jul_dict['link_0_10'].AM_flow"
   ]
  },
  {
   "cell_type": "code",
   "execution_count": 16,
   "metadata": {
    "collapsed": false
   },
   "outputs": [],
   "source": [
    "link_day_minute_Jul_dict_JSON = {}\n",
    "for link_idx in range(24):\n",
    "    for day in range(32)[1:]:   \n",
    "        key = 'link_' + str(link_idx) + '_' + str(day)\n",
    "        data = {'link_idx': link_idx, 'day': day, \\\n",
    "             'init_node': link_day_minute_Jul_dict[key].init_node, \\\n",
    "             'term_node': link_day_minute_Jul_dict[key].term_node, \\\n",
    "             'AM_capac': link_day_minute_Jul_dict[key].AM_capac, \\\n",
    "             'MD_capac': link_day_minute_Jul_dict[key].MD_capac, \\\n",
    "             'PM_capac': link_day_minute_Jul_dict[key].PM_capac, \\\n",
    "             'NT_capac': link_day_minute_Jul_dict[key].NT_capac, \\\n",
    "             'free_flow_time': link_day_minute_Jul_dict[key].free_flow_time, \\\n",
    "             'length': link_day_minute_Jul_dict[key].length, \\\n",
    "             'AM_flow': link_day_minute_Jul_dict[key].AM_flow, \\\n",
    "             'MD_flow': link_day_minute_Jul_dict[key].MD_flow, \\\n",
    "             'PM_flow': link_day_minute_Jul_dict[key].PM_flow, \\\n",
    "             'NT_flow': link_day_minute_Jul_dict[key].NT_flow, \\\n",
    "             'AM_flow_minute': link_day_minute_Jul_dict[key].AM_flow_minute, \\\n",
    "             'MD_flow_minute': link_day_minute_Jul_dict[key].MD_flow_minute, \\\n",
    "             'PM_flow_minute': link_day_minute_Jul_dict[key].PM_flow_minute, \\\n",
    "             'NT_flow_minute': link_day_minute_Jul_dict[key].NT_flow_minute}\n",
    "        link_day_minute_Jul_dict_JSON[key] = data\n",
    "        \n",
    "import json\n",
    "\n",
    "# Writing JSON data\n",
    "with open('../temp_files/link_day_minute_Jul_dict_JSON.json', 'w') as json_file:\n",
    "    json.dump(link_day_minute_Jul_dict_JSON, json_file)"
   ]
  },
  {
   "cell_type": "code",
   "execution_count": 17,
   "metadata": {
    "collapsed": false
   },
   "outputs": [],
   "source": [
    "with open('../temp_files/link_day_minute_Jul_dict_JSON.json', 'r') as json_file:\n",
    "    link_day_minute_Jul_dict_JSON_ = json.load(json_file)"
   ]
  },
  {
   "cell_type": "code",
   "execution_count": 18,
   "metadata": {
    "collapsed": false
   },
   "outputs": [
    {
     "data": {
      "text/plain": [
       "[557497.9095578715,\n",
       " 564780.8828088716,\n",
       " 559599.2964529182,\n",
       " 581101.6488843053,\n",
       " 563388.4833229508,\n",
       " 569592.6287679165,\n",
       " 536810.9923276908,\n",
       " 572275.6495178754,\n",
       " 557283.6748733394,\n",
       " 577636.1161446965,\n",
       " 563033.9045970498,\n",
       " 562166.4106439644,\n",
       " 571082.5763492374,\n",
       " 568406.1041903137,\n",
       " 561575.491735823,\n",
       " 548136.9865893595,\n",
       " 583802.7421812305,\n",
       " 564088.4806076407,\n",
       " 540003.0290272515,\n",
       " 567794.6409963195,\n",
       " 568090.3723885407,\n",
       " 557659.2520643858,\n",
       " 572647.5298637067,\n",
       " 556320.1464724627,\n",
       " 557118.7462591918,\n",
       " 570165.2564454263,\n",
       " 568545.2055066951,\n",
       " 573853.2388425436,\n",
       " 572237.0072609922,\n",
       " 561008.5066296728,\n",
       " 551963.2544328333,\n",
       " 577758.4686537858,\n",
       " 568754.914033277,\n",
       " 549575.0859277017,\n",
       " 558615.4225456816,\n",
       " 570596.5353449858,\n",
       " 551541.8406767006,\n",
       " 578693.9373007372,\n",
       " 555548.4364067712,\n",
       " 576724.2778381635,\n",
       " 554852.4519550841,\n",
       " 568856.5258737111,\n",
       " 564231.6625305426,\n",
       " 556018.4331427179,\n",
       " 547854.3957710008,\n",
       " 574421.5691807967,\n",
       " 568717.4877178923,\n",
       " 566123.4458817877,\n",
       " 563938.6507826507,\n",
       " 563049.6855154721,\n",
       " 560050.9563890374,\n",
       " 541455.2177750203,\n",
       " 570368.6244217771,\n",
       " 566625.4185785857,\n",
       " 552107.4853867912,\n",
       " 554251.8885403129,\n",
       " 575336.7491159241,\n",
       " 558658.689283845,\n",
       " 572473.3112267227,\n",
       " 567119.0490429305,\n",
       " 567111.0591319648,\n",
       " 565921.0356092266,\n",
       " 554044.6264902884,\n",
       " 570297.9506312449,\n",
       " 548612.4689648394,\n",
       " 574675.3511486254,\n",
       " 575828.9177375926,\n",
       " 574583.9044773048,\n",
       " 580880.2187906865,\n",
       " 554816.1271700697,\n",
       " 561240.6414421832,\n",
       " 562607.7734484107,\n",
       " 577948.7276323453,\n",
       " 556180.770513324,\n",
       " 568741.896311624,\n",
       " 587203.0423145923,\n",
       " 569646.4199258548,\n",
       " 558933.1534294778,\n",
       " 576153.9954254742,\n",
       " 574166.2914150608,\n",
       " 565508.9362534088,\n",
       " 556481.9496716011,\n",
       " 574338.8277463355,\n",
       " 556787.6926182156,\n",
       " 539631.8618686331,\n",
       " 568841.8542613706,\n",
       " 576405.0640654167,\n",
       " 555589.6054207156,\n",
       " 577825.3279191104,\n",
       " 571766.4558411578,\n",
       " 558850.8488247993,\n",
       " 558379.0759261149,\n",
       " 553628.8805594376,\n",
       " 575225.2114073401,\n",
       " 568652.2050156983,\n",
       " 552154.6259574589,\n",
       " 569548.7033000755,\n",
       " 565332.5501315013,\n",
       " 555939.9942486659,\n",
       " 573439.990053148,\n",
       " 552726.5483301932,\n",
       " 575983.1374763259,\n",
       " 550538.3583452213,\n",
       " 564024.497408563,\n",
       " 535433.9560969868,\n",
       " 555158.4505628501,\n",
       " 573059.7607032134,\n",
       " 593192.9939426128,\n",
       " 545521.074868395,\n",
       " 546675.8188263635,\n",
       " 563463.3272914666,\n",
       " 556105.2496717764,\n",
       " 554971.8530646926,\n",
       " 586583.5188890434,\n",
       " 560185.8262188799,\n",
       " 573059.0269334496,\n",
       " 570354.8706168939,\n",
       " 545201.1834887143,\n",
       " 562685.6551798818,\n",
       " 567582.7367415922]"
      ]
     },
     "execution_count": 18,
     "metadata": {},
     "output_type": "execute_result"
    }
   ],
   "source": [
    "link_day_minute_Jul_dict_JSON_['link_3_9'] ['AM_flow_minute']"
   ]
  },
  {
   "cell_type": "code",
   "execution_count": null,
   "metadata": {
    "collapsed": true
   },
   "outputs": [],
   "source": []
  }
 ],
 "metadata": {
  "kernelspec": {
   "display_name": "Python 2",
   "language": "python",
   "name": "python2"
  },
  "language_info": {
   "codemirror_mode": {
    "name": "ipython",
    "version": 2
   },
   "file_extension": ".py",
   "mimetype": "text/x-python",
   "name": "python",
   "nbconvert_exporter": "python",
   "pygments_lexer": "ipython2",
   "version": "2.7.11"
  }
 },
 "nbformat": 4,
 "nbformat_minor": 0
}
