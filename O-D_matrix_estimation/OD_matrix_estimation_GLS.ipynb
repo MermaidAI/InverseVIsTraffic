{
 "cells": [
  {
   "cell_type": "code",
   "execution_count": 93,
   "metadata": {
    "collapsed": true
   },
   "outputs": [],
   "source": [
    "%run ../Python_files/util_data_storage_and_load.py"
   ]
  },
  {
   "cell_type": "code",
   "execution_count": 111,
   "metadata": {
    "collapsed": false
   },
   "outputs": [],
   "source": [
    "%run ../Python_files/util.py"
   ]
  },
  {
   "cell_type": "code",
   "execution_count": 110,
   "metadata": {
    "collapsed": false
   },
   "outputs": [
    {
     "name": "stdout",
     "output_type": "stream",
     "text": [
      "Optimize a model with 2 rows, 3 columns and 5 nonzeros\n",
      "Coefficient statistics:\n",
      "  Matrix range    [1e+00, 3e+00]\n",
      "  Objective range [1e+00, 2e+00]\n",
      "  Bounds range    [1e+00, 1e+00]\n",
      "  RHS range       [1e+00, 4e+00]\n",
      "Found heuristic solution: objective 2\n",
      "Presolve removed 2 rows and 3 columns\n",
      "Presolve time: 0.00s\n",
      "Presolve: All rows and columns removed\n",
      "\n",
      "Explored 0 nodes (0 simplex iterations) in 0.00 seconds\n",
      "Thread count was 1 (of 4 available processors)\n",
      "\n",
      "Optimal solution found (tolerance 1.00e-04)\n",
      "Best objective 3.000000000000e+00, best bound 3.000000000000e+00, gap 0.0%\n",
      "x 1.0\n",
      "Obj: 3.0\n",
      "y 0.0\n",
      "Obj: 3.0\n",
      "z 1.0\n",
      "Obj: 3.0\n"
     ]
    }
   ],
   "source": [
    "from gurobipy import *\n",
    "\n",
    "try:\n",
    "    # Create a new model\n",
    "    m = Model(\"mip1\")\n",
    "    # Create variables\n",
    "    x = m.addVar(vtype=GRB.BINARY, name=\"x\")\n",
    "    y = m.addVar(vtype=GRB.BINARY, name=\"y\")\n",
    "    z = m.addVar(vtype=GRB.BINARY, name=\"z\")\n",
    "    # Integrate new variables\n",
    "    m.update()\n",
    "    # Set objective\n",
    "    m.setObjective(x + y + 2 * z, GRB.MAXIMIZE)\n",
    "    # Add constraint: x + 2 y + 3 z <= 4\n",
    "    m.addConstr(x + 2 * y + 3 * z <= 4, \"c0\")\n",
    "    # Add constraint: x + y >= 1\n",
    "    m.addConstr(x + y >= 1, \"c1\")\n",
    "    m.optimize()\n",
    "    for v in m.getVars():\n",
    "        print v.varName, v.x\n",
    "        print 'Obj:', m.objVal\n",
    "except GurobiError:\n",
    "    print 'Error reported'"
   ]
  },
  {
   "cell_type": "code",
   "execution_count": 80,
   "metadata": {
    "collapsed": false
   },
   "outputs": [],
   "source": [
    "import numpy as np\n",
    "from numpy.linalg import inv\n",
    "\n",
    "x = np.random.rand(12).reshape(3, 4)"
   ]
  },
  {
   "cell_type": "code",
   "execution_count": 70,
   "metadata": {
    "collapsed": false
   },
   "outputs": [],
   "source": [
    "x = np.matrix(x)"
   ]
  },
  {
   "cell_type": "code",
   "execution_count": 71,
   "metadata": {
    "collapsed": false
   },
   "outputs": [
    {
     "data": {
      "text/plain": [
       "matrix([[ 0.26866657,  0.1480158 ,  0.73638968,  0.38257636],\n",
       "        [ 0.3097576 ,  0.88383302,  0.61919737,  0.79336855],\n",
       "        [ 0.19667063,  0.92730648,  0.4690703 ,  0.98224238]])"
      ]
     },
     "execution_count": 71,
     "metadata": {},
     "output_type": "execute_result"
    }
   ],
   "source": [
    "x"
   ]
  },
  {
   "cell_type": "code",
   "execution_count": 72,
   "metadata": {
    "collapsed": false
   },
   "outputs": [],
   "source": [
    "K = np.size(x, 1)"
   ]
  },
  {
   "cell_type": "code",
   "execution_count": 73,
   "metadata": {
    "collapsed": false
   },
   "outputs": [],
   "source": [
    "x_mean = sum(x[:,j] for j in range(K)) "
   ]
  },
  {
   "cell_type": "code",
   "execution_count": 74,
   "metadata": {
    "collapsed": false
   },
   "outputs": [
    {
     "data": {
      "text/plain": [
       "matrix([[ 1.53564842],\n",
       "        [ 2.60615654],\n",
       "        [ 2.57528978]])"
      ]
     },
     "execution_count": 74,
     "metadata": {},
     "output_type": "execute_result"
    }
   ],
   "source": [
    "x_mean"
   ]
  },
  {
   "cell_type": "code",
   "execution_count": 75,
   "metadata": {
    "collapsed": false
   },
   "outputs": [
    {
     "data": {
      "text/plain": [
       "matrix([[ 2.35821606,  4.00214017,  3.95473967],\n",
       "        [ 4.00214017,  6.79205192,  6.71160829],\n",
       "        [ 3.95473967,  6.71160829,  6.63211743]])"
      ]
     },
     "execution_count": 75,
     "metadata": {},
     "output_type": "execute_result"
    }
   ],
   "source": [
    "np.dot(x_mean, np.transpose(x_mean))"
   ]
  },
  {
   "cell_type": "code",
   "execution_count": 88,
   "metadata": {
    "collapsed": true
   },
   "outputs": [],
   "source": [
    "import numpy as np\n",
    "from numpy.linalg import inv\n",
    "\n",
    "def inv_samp_cov(x):\n",
    "    \"\"\"\n",
    "    x: sample matrix, each column is a link flow vector sample; 24 * K\n",
    "    K: number of samples\n",
    "    S: sample covariance matrix\n",
    "    ----------------\n",
    "    return: inv(S)\n",
    "    ----------------\n",
    "    \"\"\"\n",
    "    x = np.matrix(x)\n",
    "    K = np.size(x, 1)\n",
    "    x_mean = sum(x[:,k] for k in range(K)) / K\n",
    "    S = sum(np.dot(x[:,k] - x_mean, np.transpose(x[:,k] - x_mean)) for k in range(K)) / (K - 1)\n",
    "    return inv(S)"
   ]
  },
  {
   "cell_type": "code",
   "execution_count": 86,
   "metadata": {
    "collapsed": true
   },
   "outputs": [],
   "source": [
    "y = inv_samp_cov(x)"
   ]
  },
  {
   "cell_type": "code",
   "execution_count": 87,
   "metadata": {
    "collapsed": false
   },
   "outputs": [
    {
     "data": {
      "text/plain": [
       "matrix([[ 10.77564106,  11.60001975,  -5.43004836],\n",
       "        [ 11.60001975,  30.74021677, -18.96731574],\n",
       "        [ -5.43004836, -18.96731574,  21.07428929]])"
      ]
     },
     "execution_count": 87,
     "metadata": {},
     "output_type": "execute_result"
    }
   ],
   "source": [
    "y"
   ]
  },
  {
   "cell_type": "code",
   "execution_count": 107,
   "metadata": {
    "collapsed": false
   },
   "outputs": [],
   "source": [
    "from gurobipy import *\n",
    "\n",
    "def OD_matrix(x, A, l):\n",
    "    \"\"\"\n",
    "    x: sample matrix, each column is a link flow vector sample; m * K\n",
    "    K: number of samples\n",
    "    l: length of lam\n",
    "    A: path-link incidence matrix; m * r\n",
    "    P: probability matrix, each row sum up to 1; l * r\n",
    "    lam: OD flow vector; estimation target, l * 1\n",
    "    ----------------\n",
    "    Example:\n",
    "    m = 24\n",
    "    r = 140\n",
    "    l = 56\n",
    "    ----------------\n",
    "    \"\"\"\n",
    "    x = np.matrix(x)\n",
    "    A = np.matrix(A)\n",
    "    model = Model(\"OD_matrix\")\n",
    "    z = model.addVar(obj=1, vtype=\"C\", name=\"z\")\n",
    "    lam, P = {}, {}\n",
    "    for i in range(l):\n",
    "        lam[i] = model.addVar(obj=0, vtype=\"C\", name=\"lam[%s]\"%i)\n",
    "        for j in range(r):\n",
    "            P[i,j] = model.addVar(obj=0, vtype=\"C\", name=\"P[%s,%s]\"%(i,j))\n",
    "    model.update()\n",
    "    \n",
    "    # add constraint for probability matrix P\n",
    "    for i in range(l):\n",
    "        coef = [1 for j in range(r)]\n",
    "        var = [P[i,j] for j in range(r)]\n",
    "        model.addConstr(LinExpr(coef,var), \"=\", 1)\n",
    "        for j in range(r):\n",
    "            model.addConstr(P[i,j], \">\", 0)\n",
    "    \n",
    "    # add nonnegative constraint for O-D flow vector lam\n",
    "    for j in range(r):\n",
    "        model.addConstr(lam[j], \">\", 0)\n",
    "        \n",
    "    # add constraint for the relationship between z and x, A, P, lam\n",
    "    x = np.matrix(x)\n",
    "    K = np.size(x, 1)\n",
    "    inv_S = inv_samp_cov(x)\n",
    "    Q = np.transpose(P)\n",
    "    likelihood = - (1/2) * sum(np.dot(np.dot(np.transpose(x[:,k] - np.transpose(np.dot(A, Q), lam)), \\\n",
    "                                     inv_S), x[:,k] - np.transpose(np.dot(A, Q), lam)) \\\n",
    "                              for k in range(K))\n",
    "    model.addConstr(likelihood, \"=\", z)\n",
    "    \n",
    "    model.update()\n",
    "    model.__data = lam, P \n",
    "    return model"
   ]
  },
  {
   "cell_type": "code",
   "execution_count": 105,
   "metadata": {
    "collapsed": false
   },
   "outputs": [],
   "source": [
    "# load path-link incidence matrix\n",
    "A = zload('../temp_files/path-link_incidence_matrix.pkz')"
   ]
  },
  {
   "cell_type": "code",
   "execution_count": 112,
   "metadata": {
    "collapsed": false
   },
   "outputs": [],
   "source": [
    "link_day_Jan_dict = zload('../temp_files/link_day_Jan_dict.pkz')"
   ]
  },
  {
   "cell_type": "code",
   "execution_count": 116,
   "metadata": {
    "collapsed": true
   },
   "outputs": [],
   "source": [
    "week_day_list = [2, 3, 4, 5, 6, 9, 10, 11, 12, 13, 16, 17, 18, 19, 20, 23, 24, 25, 26, 27, 30, 31]"
   ]
  },
  {
   "cell_type": "code",
   "execution_count": 118,
   "metadata": {
    "collapsed": false
   },
   "outputs": [],
   "source": [
    "K = len(week_day_list)"
   ]
  },
  {
   "cell_type": "code",
   "execution_count": 124,
   "metadata": {
    "collapsed": false
   },
   "outputs": [],
   "source": [
    "x = np.zeros((24, K))"
   ]
  },
  {
   "cell_type": "code",
   "execution_count": null,
   "metadata": {
    "collapsed": true
   },
   "outputs": [],
   "source": [
    "m = 24\n",
    "\n",
    "for k in range(K):\n",
    "    for i in range(m):\n",
    "        x[i, k] = link_day_Jan_dict['link_' + str(i) + '_' + str(week_day_list[k])].AM_flow"
   ]
  },
  {
   "cell_type": "code",
   "execution_count": 141,
   "metadata": {
    "collapsed": false
   },
   "outputs": [
    {
     "data": {
      "text/plain": [
       "(632510.40783107991, 632510.40783107991)"
      ]
     },
     "execution_count": 141,
     "metadata": {},
     "output_type": "execute_result"
    }
   ],
   "source": [
    "link_day_Jan_dict['link_2_2'].AM_flow, link_day_Jan_dict['link_2_1'].AM_flow"
   ]
  },
  {
   "cell_type": "code",
   "execution_count": 137,
   "metadata": {
    "collapsed": false
   },
   "outputs": [
    {
     "data": {
      "text/plain": [
       "array([[ 341564.65150776,  341564.65150776,  341564.65150776,\n",
       "         341564.65150776,  341564.65150776,  341564.65150776,\n",
       "         341564.65150776,  341564.65150776,  341564.65150776,\n",
       "         341564.65150776,  341564.65150776,  341564.65150776,\n",
       "         341564.65150776,  341564.65150776,  341564.65150776,\n",
       "         341564.65150776,  341564.65150776,  341564.65150776,\n",
       "         341564.65150776,  341564.65150776,  341564.65150776,\n",
       "         341564.65150776],\n",
       "       [ 361581.32068239,  361581.32068239,  361581.32068239,\n",
       "         361581.32068239,  361581.32068239,  361581.32068239,\n",
       "         361581.32068239,  361581.32068239,  361581.32068239,\n",
       "         361581.32068239,  361581.32068239,  361581.32068239,\n",
       "         361581.32068239,  361581.32068239,  361581.32068239,\n",
       "         361581.32068239,  361581.32068239,  361581.32068239,\n",
       "         361581.32068239,  361581.32068239,  361581.32068239,\n",
       "         361581.32068239],\n",
       "       [ 632510.40783108,  632510.40783108,  632510.40783108,\n",
       "         632510.40783108,  632510.40783108,  632510.40783108,\n",
       "         632510.40783108,  632510.40783108,  632510.40783108,\n",
       "         632510.40783108,  632510.40783108,  632510.40783108,\n",
       "         632510.40783108,  632510.40783108,  632510.40783108,\n",
       "         632510.40783108,  632510.40783108,  632510.40783108,\n",
       "         632510.40783108,  632510.40783108,  632510.40783108,\n",
       "         632510.40783108],\n",
       "       [ 664229.53982551,  664229.53982551,  664229.53982551,\n",
       "         664229.53982551,  664229.53982551,  664229.53982551,\n",
       "         664229.53982551,  664229.53982551,  664229.53982551,\n",
       "         664229.53982551,  664229.53982551,  664229.53982551,\n",
       "         664229.53982551,  664229.53982551,  664229.53982551,\n",
       "         664229.53982551,  664229.53982551,  664229.53982551,\n",
       "         664229.53982551,  664229.53982551,  664229.53982551,\n",
       "         664229.53982551],\n",
       "       [ 167635.07832215,  167635.07832215,  167635.07832215,\n",
       "         167635.07832215,  167635.07832215,  167635.07832215,\n",
       "         167635.07832215,  167635.07832215,  167635.07832215,\n",
       "         167635.07832215,  167635.07832215,  167635.07832215,\n",
       "         167635.07832215,  167635.07832215,  167635.07832215,\n",
       "         167635.07832215,  167635.07832215,  167635.07832215,\n",
       "         167635.07832215,  167635.07832215,  167635.07832215,\n",
       "         167635.07832215],\n",
       "       [ 229933.30642305,  229933.30642305,  229933.30642305,\n",
       "         229933.30642305,  229933.30642305,  229933.30642305,\n",
       "         229933.30642305,  229933.30642305,  229933.30642305,\n",
       "         229933.30642305,  229933.30642305,  229933.30642305,\n",
       "         229933.30642305,  229933.30642305,  229933.30642305,\n",
       "         229933.30642305,  229933.30642305,  229933.30642305,\n",
       "         229933.30642305,  229933.30642305,  229933.30642305,\n",
       "         229933.30642305],\n",
       "       [ 404452.84908033,  404452.84908033,  404452.84908033,\n",
       "         404452.84908033,  404452.84908033,  404452.84908033,\n",
       "         404452.84908033,  404452.84908033,  404452.84908033,\n",
       "         404452.84908033,  404452.84908033,  404452.84908033,\n",
       "         404452.84908033,  404452.84908033,  404452.84908033,\n",
       "         404452.84908033,  404452.84908033,  404452.84908033,\n",
       "         404452.84908033,  404452.84908033,  404452.84908033,\n",
       "         404452.84908033],\n",
       "       [ 406658.16193244,  406658.16193244,  406658.16193244,\n",
       "         406658.16193244,  406658.16193244,  406658.16193244,\n",
       "         406658.16193244,  406658.16193244,  406658.16193244,\n",
       "         406658.16193244,  406658.16193244,  406658.16193244,\n",
       "         406658.16193244,  406658.16193244,  406658.16193244,\n",
       "         406658.16193244,  406658.16193244,  406658.16193244,\n",
       "         406658.16193244,  406658.16193244,  406658.16193244,\n",
       "         406658.16193244],\n",
       "       [ 393885.74384689,  393885.74384689,  393885.74384689,\n",
       "         393885.74384689,  393885.74384689,  393885.74384689,\n",
       "         393885.74384689,  393885.74384689,  393885.74384689,\n",
       "         393885.74384689,  393885.74384689,  393885.74384689,\n",
       "         393885.74384689,  393885.74384689,  393885.74384689,\n",
       "         393885.74384689,  393885.74384689,  393885.74384689,\n",
       "         393885.74384689,  393885.74384689,  393885.74384689,\n",
       "         393885.74384689],\n",
       "       [ 406524.55833176,  406524.55833176,  406524.55833176,\n",
       "         406524.55833176,  406524.55833176,  406524.55833176,\n",
       "         406524.55833176,  406524.55833176,  406524.55833176,\n",
       "         406524.55833176,  406524.55833176,  406524.55833176,\n",
       "         406524.55833176,  406524.55833176,  406524.55833176,\n",
       "         406524.55833176,  406524.55833176,  406524.55833176,\n",
       "         406524.55833176,  406524.55833176,  406524.55833176,\n",
       "         406524.55833176],\n",
       "       [ 400821.34419472,  400821.34419472,  400821.34419472,\n",
       "         400821.34419472,  400821.34419472,  400821.34419472,\n",
       "         400821.34419472,  400821.34419472,  400821.34419472,\n",
       "         400821.34419472,  400821.34419472,  400821.34419472,\n",
       "         400821.34419472,  400821.34419472,  400821.34419472,\n",
       "         400821.34419472,  400821.34419472,  400821.34419472,\n",
       "         400821.34419472,  400821.34419472,  400821.34419472,\n",
       "         400821.34419472],\n",
       "       [ 332290.53451473,  332290.53451473,  332290.53451473,\n",
       "         332290.53451473,  332290.53451473,  332290.53451473,\n",
       "         332290.53451473,  332290.53451473,  332290.53451473,\n",
       "         332290.53451473,  332290.53451473,  332290.53451473,\n",
       "         332290.53451473,  332290.53451473,  332290.53451473,\n",
       "         332290.53451473,  332290.53451473,  332290.53451473,\n",
       "         332290.53451473,  332290.53451473,  332290.53451473,\n",
       "         332290.53451473],\n",
       "       [ 102918.84810768,  102918.84810768,  102918.84810768,\n",
       "         102918.84810768,  102918.84810768,  102918.84810768,\n",
       "         102918.84810768,  102918.84810768,  102918.84810768,\n",
       "         102918.84810768,  102918.84810768,  102918.84810768,\n",
       "         102918.84810768,  102918.84810768,  102918.84810768,\n",
       "         102918.84810768,  102918.84810768,  102918.84810768,\n",
       "         102918.84810768,  102918.84810768,  102918.84810768,\n",
       "         102918.84810768],\n",
       "       [  99397.86271023,   99397.86271023,   99397.86271023,\n",
       "          99397.86271023,   99397.86271023,   99397.86271023,\n",
       "          99397.86271023,   99397.86271023,   99397.86271023,\n",
       "          99397.86271023,   99397.86271023,   99397.86271023,\n",
       "          99397.86271023,   99397.86271023,   99397.86271023,\n",
       "          99397.86271023,   99397.86271023,   99397.86271023,\n",
       "          99397.86271023,   99397.86271023,   99397.86271023,\n",
       "          99397.86271023],\n",
       "       [ 172692.81698587,  172692.81698587,  172692.81698587,\n",
       "         172692.81698587,  172692.81698587,  172692.81698587,\n",
       "         172692.81698587,  172692.81698587,  172692.81698587,\n",
       "         172692.81698587,  172692.81698587,  172692.81698587,\n",
       "         172692.81698587,  172692.81698587,  172692.81698587,\n",
       "         172692.81698587,  172692.81698587,  172692.81698587,\n",
       "         172692.81698587,  172692.81698587,  172692.81698587,\n",
       "         172692.81698587],\n",
       "       [ 142064.39687184,  142064.39687184,  142064.39687184,\n",
       "         142064.39687184,  142064.39687184,  142064.39687184,\n",
       "         142064.39687184,  142064.39687184,  142064.39687184,\n",
       "         142064.39687184,  142064.39687184,  142064.39687184,\n",
       "         142064.39687184,  142064.39687184,  142064.39687184,\n",
       "         142064.39687184,  142064.39687184,  142064.39687184,\n",
       "         142064.39687184,  142064.39687184,  142064.39687184,\n",
       "         142064.39687184],\n",
       "       [ 211711.93466593,  211711.93466593,  211711.93466593,\n",
       "         211711.93466593,  211711.93466593,  211711.93466593,\n",
       "         211711.93466593,  211711.93466593,  211711.93466593,\n",
       "         211711.93466593,  211711.93466593,  211711.93466593,\n",
       "         211711.93466593,  211711.93466593,  211711.93466593,\n",
       "         211711.93466593,  211711.93466593,  211711.93466593,\n",
       "         211711.93466593,  211711.93466593,  211711.93466593,\n",
       "         211711.93466593],\n",
       "       [ 210413.00319436,  210413.00319436,  210413.00319436,\n",
       "         210413.00319436,  210413.00319436,  210413.00319436,\n",
       "         210413.00319436,  210413.00319436,  210413.00319436,\n",
       "         210413.00319436,  210413.00319436,  210413.00319436,\n",
       "         210413.00319436,  210413.00319436,  210413.00319436,\n",
       "         210413.00319436,  210413.00319436,  210413.00319436,\n",
       "         210413.00319436,  210413.00319436,  210413.00319436,\n",
       "         210413.00319436],\n",
       "       [ 409616.32175528,  409616.32175528,  409616.32175528,\n",
       "         409616.32175528,  409616.32175528,  409616.32175528,\n",
       "         409616.32175528,  409616.32175528,  409616.32175528,\n",
       "         409616.32175528,  409616.32175528,  409616.32175528,\n",
       "         409616.32175528,  409616.32175528,  409616.32175528,\n",
       "         409616.32175528,  409616.32175528,  409616.32175528,\n",
       "         409616.32175528,  409616.32175528,  409616.32175528,\n",
       "         409616.32175528],\n",
       "       [ 346650.44733938,  346650.44733938,  346650.44733938,\n",
       "         346650.44733938,  346650.44733938,  346650.44733938,\n",
       "         346650.44733938,  346650.44733938,  346650.44733938,\n",
       "         346650.44733938,  346650.44733938,  346650.44733938,\n",
       "         346650.44733938,  346650.44733938,  346650.44733938,\n",
       "         346650.44733938,  346650.44733938,  346650.44733938,\n",
       "         346650.44733938,  346650.44733938,  346650.44733938,\n",
       "         346650.44733938],\n",
       "       [ 461309.93314592,  461309.93314592,  461309.93314592,\n",
       "         461309.93314592,  461309.93314592,  461309.93314592,\n",
       "         461309.93314592,  461309.93314592,  461309.93314592,\n",
       "         461309.93314592,  461309.93314592,  461309.93314592,\n",
       "         461309.93314592,  461309.93314592,  461309.93314592,\n",
       "         461309.93314592,  461309.93314592,  461309.93314592,\n",
       "         461309.93314592,  461309.93314592,  461309.93314592,\n",
       "         461309.93314592],\n",
       "       [ 582531.48363625,  582531.48363625,  582531.48363625,\n",
       "         582531.48363625,  582531.48363625,  582531.48363625,\n",
       "         582531.48363625,  582531.48363625,  582531.48363625,\n",
       "         582531.48363625,  582531.48363625,  582531.48363625,\n",
       "         582531.48363625,  582531.48363625,  582531.48363625,\n",
       "         582531.48363625,  582531.48363625,  582531.48363625,\n",
       "         582531.48363625,  582531.48363625,  582531.48363625,\n",
       "         582531.48363625],\n",
       "       [ 133258.30817296,  133258.30817296,  133258.30817296,\n",
       "         133258.30817296,  133258.30817296,  133258.30817296,\n",
       "         133258.30817296,  133258.30817296,  133258.30817296,\n",
       "         133258.30817296,  133258.30817296,  133258.30817296,\n",
       "         133258.30817296,  133258.30817296,  133258.30817296,\n",
       "         133258.30817296,  133258.30817296,  133258.30817296,\n",
       "         133258.30817296,  133258.30817296,  133258.30817296,\n",
       "         133258.30817296],\n",
       "       [ 136261.4806242 ,  136261.4806242 ,  136261.4806242 ,\n",
       "         136261.4806242 ,  136261.4806242 ,  136261.4806242 ,\n",
       "         136261.4806242 ,  136261.4806242 ,  136261.4806242 ,\n",
       "         136261.4806242 ,  136261.4806242 ,  136261.4806242 ,\n",
       "         136261.4806242 ,  136261.4806242 ,  136261.4806242 ,\n",
       "         136261.4806242 ,  136261.4806242 ,  136261.4806242 ,\n",
       "         136261.4806242 ,  136261.4806242 ,  136261.4806242 ,\n",
       "         136261.4806242 ]])"
      ]
     },
     "execution_count": 137,
     "metadata": {},
     "output_type": "execute_result"
    }
   ],
   "source": [
    "x"
   ]
  },
  {
   "cell_type": "code",
   "execution_count": 115,
   "metadata": {
    "collapsed": false
   },
   "outputs": [
    {
     "data": {
      "text/plain": [
       "136261.48062420369"
      ]
     },
     "execution_count": 115,
     "metadata": {},
     "output_type": "execute_result"
    }
   ],
   "source": [
    "link_day_Jan_dict['link_23_1'].AM_flow"
   ]
  },
  {
   "cell_type": "code",
   "execution_count": 14,
   "metadata": {
    "collapsed": false
   },
   "outputs": [
    {
     "name": "stdout",
     "output_type": "stream",
     "text": [
      "<gurobi.Model MIP instance k-median: 40002 constrs, 40200 vars, Parameter changes: LogFile=gurobi.log>\n",
      "Optimize a model with 40002 rows, 40200 columns and 80400 nonzeros\n",
      "Coefficient statistics:\n",
      "  Matrix range    [1e+00, 1e+00]\n",
      "  Objective range [2e-03, 1e+00]\n",
      "  Bounds range    [1e+00, 1e+00]\n",
      "  RHS range       [1e+00, 2e+01]\n",
      "Found heuristic solution: objective 0.708945\n",
      "Presolve removed 39800 rows and 39800 columns\n",
      "Presolve time: 0.03s\n",
      "Presolved: 202 rows, 400 columns, 800 nonzeros\n",
      "Variable types: 0 continuous, 400 integer (400 binary)\n",
      "\n",
      "Root relaxation: objective 0.000000e+00, 21 iterations, 0.00 seconds\n",
      "\n",
      "    Nodes    |    Current Node    |     Objective Bounds      |     Work\n",
      " Expl Unexpl |  Obj  Depth IntInf | Incumbent    BestBd   Gap | It/Node Time\n",
      "\n",
      "*    0     0               0       0.0000000    0.00000  0.00%     -    0s\n",
      "\n",
      "Explored 0 nodes (21 simplex iterations) in 0.05 seconds\n",
      "Thread count was 4 (of 4 available processors)\n",
      "\n",
      "Optimal solution found (tolerance 1.00e-04)\n",
      "Best objective 0.000000000000e+00, best bound 0.000000000000e+00, gap 0.0%\n",
      "Optimal value= 0.0\n",
      "Selected nodes: [0, 1, 2, 3, 4, 5, 6, 7, 8, 9, 10, 11, 12, 13, 14, 15, 16, 17, 18, 199]\n",
      "Edges: [(199, 199)]\n"
     ]
    }
   ],
   "source": [
    "n = 200\n",
    "c, x_pos, y_pos = make_data(n)\n",
    "m = n\n",
    "k = 20\n",
    "model = kmedian(m, n, c, k)\n",
    "\n",
    "\n",
    "model.optimize()\n",
    "x,y = model.__data\n",
    "edges = [(i,j) for (i,j) in x if x[i,j].X == 1]\n",
    "nodes = [j for j in y if y[j].X == 1]\n",
    "print \"Optimal value=\", model.ObjVal\n",
    "print \"Selected nodes:\", nodes\n",
    "print \"Edges:\", edges"
   ]
  },
  {
   "cell_type": "code",
   "execution_count": null,
   "metadata": {
    "collapsed": true
   },
   "outputs": [],
   "source": []
  }
 ],
 "metadata": {
  "kernelspec": {
   "display_name": "Python 2",
   "language": "python",
   "name": "python2"
  },
  "language_info": {
   "codemirror_mode": {
    "name": "ipython",
    "version": 2
   },
   "file_extension": ".py",
   "mimetype": "text/x-python",
   "name": "python",
   "nbconvert_exporter": "python",
   "pygments_lexer": "ipython2",
   "version": "2.7.11"
  }
 },
 "nbformat": 4,
 "nbformat_minor": 0
}
