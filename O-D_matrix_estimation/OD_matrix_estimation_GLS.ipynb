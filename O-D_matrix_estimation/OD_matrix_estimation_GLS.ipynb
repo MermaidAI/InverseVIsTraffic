{
 "cells": [
  {
   "cell_type": "code",
   "execution_count": 1,
   "metadata": {
    "collapsed": true
   },
   "outputs": [],
   "source": [
    "%run ../Python_files/util_data_storage_and_load.py"
   ]
  },
  {
   "cell_type": "code",
   "execution_count": 2,
   "metadata": {
    "collapsed": false
   },
   "outputs": [
    {
     "name": "stdout",
     "output_type": "stream",
     "text": [
      "No dicts found; please check load_dicts...\n"
     ]
    }
   ],
   "source": [
    "%run ../Python_files/util.py"
   ]
  },
  {
   "cell_type": "code",
   "execution_count": 3,
   "metadata": {
    "collapsed": true
   },
   "outputs": [],
   "source": [
    "# load logit_route_choice_probability_matrix\n",
    "P = zload('../temp_files/logit_route_choice_probability_matrix.pkz')"
   ]
  },
  {
   "cell_type": "code",
   "execution_count": 6,
   "metadata": {
    "collapsed": false
   },
   "outputs": [],
   "source": [
    "import numpy as np\n",
    "from numpy.linalg import inv\n",
    "\n",
    "P = np.matrix(P)"
   ]
  },
  {
   "cell_type": "code",
   "execution_count": 15,
   "metadata": {
    "collapsed": false
   },
   "outputs": [
    {
     "data": {
      "text/plain": [
       "(56, 140)"
      ]
     },
     "execution_count": 15,
     "metadata": {},
     "output_type": "execute_result"
    }
   ],
   "source": [
    "np.size(P, 0), np.size(P, 1)"
   ]
  },
  {
   "cell_type": "code",
   "execution_count": 170,
   "metadata": {
    "collapsed": true
   },
   "outputs": [],
   "source": [
    "import numpy as np\n",
    "from numpy.linalg import inv\n",
    "\n",
    "def samp_cov(x):\n",
    "    \"\"\"\n",
    "    x: sample matrix, each column is a link flow vector sample; 24 * K\n",
    "    K: number of samples\n",
    "    S: sample covariance matrix\n",
    "    ----------------\n",
    "    return: inv(S)\n",
    "    ----------------\n",
    "    \"\"\"\n",
    "    x = np.matrix(x)\n",
    "    K = np.size(x, 1)\n",
    "    x_mean = sum(x[:,k] for k in range(K)) / K\n",
    "    S = sum(np.dot(x[:,k] - x_mean, np.transpose(x[:,k] - x_mean)) for k in range(K)) / (K - 1)\n",
    "    return S"
   ]
  },
  {
   "cell_type": "code",
   "execution_count": 20,
   "metadata": {
    "collapsed": false
   },
   "outputs": [],
   "source": [
    "# load path-link incidence matrix\n",
    "A = zload('../temp_files/path-link_incidence_matrix.pkz')"
   ]
  },
  {
   "cell_type": "code",
   "execution_count": 90,
   "metadata": {
    "collapsed": false
   },
   "outputs": [],
   "source": [
    "# load link counts data\n",
    "link_day_Jan_dict = zload('../temp_files/link_day_Jan_dict.pkz')\n",
    "link_day_Apr_dict = zload('../temp_files/link_day_Apr_dict.pkz')\n",
    "link_day_Jul_dict = zload('../temp_files/link_day_Jul_dict.pkz')\n",
    "link_day_Oct_dict = zload('../temp_files/link_day_Oct_dict.pkz')"
   ]
  },
  {
   "cell_type": "code",
   "execution_count": 296,
   "metadata": {
    "collapsed": true
   },
   "outputs": [],
   "source": [
    "week_day_Jan_list = [2, 3, 4, 5, 6, 9, 10, 11, 12, 13, 16, 17, 18, 19, 20, 23, 24, 25, 26, 27, 30, 31]\n",
    "week_day_Apr_list = [2, 3, 4, 5, 6, 9, 10, 11, 12, 13, 16, 17, 18, 19, 20, 23, 24, 25, 26, 27, 30]\n",
    "week_day_Jul_list = [2, 3, 4, 5, 6, 9, 10, 11, 12, 13, 16, 17, 18, 19, 20, 23, 24, 25, 26, 27, 30, 31]\n",
    "week_day_Oct_list = [1, 2, 3, 4, 5, 8, 9, 10, 11, 12, 15, 16, 17, 18, 19, 22, 23, 24, 25, 26, 29, 30, 31]"
   ]
  },
  {
   "cell_type": "code",
   "execution_count": 297,
   "metadata": {
    "collapsed": false
   },
   "outputs": [],
   "source": [
    "K = len(week_day_Jan_list) + len(week_day_Apr_list) + len(week_day_Jul_list) + len(week_day_Oct_list)\n",
    "# K = len(week_day_Jan_list)"
   ]
  },
  {
   "cell_type": "code",
   "execution_count": 298,
   "metadata": {
    "collapsed": false
   },
   "outputs": [
    {
     "data": {
      "text/plain": [
       "88"
      ]
     },
     "execution_count": 298,
     "metadata": {},
     "output_type": "execute_result"
    }
   ],
   "source": [
    "K"
   ]
  },
  {
   "cell_type": "code",
   "execution_count": 299,
   "metadata": {
    "collapsed": false
   },
   "outputs": [],
   "source": [
    "x = np.zeros((24, K))"
   ]
  },
  {
   "cell_type": "code",
   "execution_count": 300,
   "metadata": {
    "collapsed": false
   },
   "outputs": [],
   "source": [
    "m = 24\n",
    "\n",
    "for k_1 in range(len(week_day_Jan_list)):\n",
    "    for i in range(m):\n",
    "        x[i, k_1] = link_day_Jan_dict['link_' + str(i) + '_' + str(week_day_Jan_list[k_1])].AM_flow\n",
    "\n",
    "for k_2 in range(len(week_day_Apr_list)):\n",
    "    for i in range(m):\n",
    "        x[i, k_2 + k_1 + 1] = link_day_Apr_dict['link_' + str(i) + '_' + str(week_day_Apr_list[k_2])].AM_flow\n",
    "for k_3 in range(len(week_day_Jul_list)):\n",
    "    for i in range(m):\n",
    "        x[i, k_3 + k_2 + k_1 + 2] = link_day_Jul_dict['link_' + str(i) + '_' + str(week_day_Jul_list[k_3])].AM_flow\n",
    "for k_4 in range(len(week_day_Oct_list)):\n",
    "    for i in range(m):\n",
    "        x[i, k_4 + k_3 + k_2 + k_1 + 3] = link_day_Oct_dict['link_' + str(i) + '_' + str(week_day_Oct_list[k_4])].AM_flow\n",
    "        \n",
    "x = np.matrix(x)\n",
    "x = np.nan_to_num(x)"
   ]
  },
  {
   "cell_type": "code",
   "execution_count": 322,
   "metadata": {
    "collapsed": false
   },
   "outputs": [],
   "source": [
    "y = np.array(np.transpose(x))\n",
    "y = y[np.all(y != 0, axis=1)]\n",
    "x = np.transpose(y)\n",
    "x = np.matrix(x)"
   ]
  },
  {
   "cell_type": "code",
   "execution_count": 287,
   "metadata": {
    "collapsed": false
   },
   "outputs": [
    {
     "data": {
      "text/plain": [
       "86"
      ]
     },
     "execution_count": 287,
     "metadata": {},
     "output_type": "execute_result"
    }
   ],
   "source": [
    "np.size(x, 1)"
   ]
  },
  {
   "cell_type": "code",
   "execution_count": 288,
   "metadata": {
    "collapsed": false
   },
   "outputs": [
    {
     "data": {
      "text/plain": [
       "(639708.01714969077, nan)"
      ]
     },
     "execution_count": 288,
     "metadata": {},
     "output_type": "execute_result"
    }
   ],
   "source": [
    "link_day_Jan_dict['link_2_2'].AM_flow, link_day_Jan_dict['link_2_1'].AM_flow"
   ]
  },
  {
   "cell_type": "code",
   "execution_count": 289,
   "metadata": {
    "collapsed": false
   },
   "outputs": [
    {
     "data": {
      "text/plain": [
       "(24, 86)"
      ]
     },
     "execution_count": 289,
     "metadata": {},
     "output_type": "execute_result"
    }
   ],
   "source": [
    "np.size(x,0), np.size(x,1)"
   ]
  },
  {
   "cell_type": "code",
   "execution_count": 290,
   "metadata": {
    "collapsed": false
   },
   "outputs": [
    {
     "data": {
      "text/plain": [
       "(24, 140)"
      ]
     },
     "execution_count": 290,
     "metadata": {},
     "output_type": "execute_result"
    }
   ],
   "source": [
    "np.size(A,0), np.size(A,1)"
   ]
  },
  {
   "cell_type": "code",
   "execution_count": 301,
   "metadata": {
    "collapsed": false
   },
   "outputs": [],
   "source": [
    "# calculate the GLS solution for the O-D matrix\n",
    "\n",
    "K = np.size(x, 1)\n",
    "S = samp_cov(x)\n",
    "inv_S = inv(S)\n",
    "\n",
    "A_t = np.transpose(A)\n",
    "P_t = np.transpose(P)\n",
    "# PA'\n",
    "PA_t = np.dot(P, A_t)\n",
    "# AP_t\n",
    "AP_t = np.transpose(PA_t)\n",
    "\n",
    "term_1 = inv(np.dot(np.dot(PA_t, inv_S), AP_t))\n",
    "term_2 = sum([np.dot(np.dot(PA_t, inv_S), x[:, k]) for k in range(K)])\n",
    "\n",
    "lam_est = (1.0 / K) * np.dot(term_1, term_2)"
   ]
  },
  {
   "cell_type": "code",
   "execution_count": 323,
   "metadata": {
    "collapsed": false
   },
   "outputs": [
    {
     "name": "stdout",
     "output_type": "stream",
     "text": [
      "Optimize a model with 56 rows, 56 columns and 56 nonzeros\n",
      "Model has 1596 quadratic objective terms\n",
      "Coefficient statistics:\n",
      "  Matrix range    [1e+00, 1e+00]\n",
      "  Objective range [4e-03, 2e+00]\n",
      "  Bounds range    [0e+00, 0e+00]\n",
      "  RHS range       [0e+00, 0e+00]\n",
      "Presolve removed 56 rows and 0 columns\n",
      "Presolve time: 0.01s\n",
      "Presolved: 0 rows, 56 columns, 0 nonzeros\n",
      "Presolved model has 1596 quadratic objective terms\n",
      "Ordering time: 0.00s\n",
      "\n",
      "Barrier statistics:\n",
      " Free vars  : 24\n",
      " AA' NZ     : 2.760e+02\n",
      " Factor NZ  : 3.000e+02\n",
      " Factor Ops : 4.900e+03 (less than 1 second per iteration)\n",
      " Threads    : 1\n",
      "\n",
      "                  Objective                Residual\n",
      "Iter       Primal          Dual         Primal    Dual     Compl     Time\n",
      "   0  -2.72130838e+06  0.00000000e+00  6.73e+03 3.76e+02  8.98e+05     0s\n",
      "   1   8.64381920e+05 -2.62020322e+06  1.36e+03 2.00e+02  2.43e+05     0s\n",
      "   2   4.62314811e+05 -1.58149847e+06  1.36e-03 1.14e-13  3.65e+04     0s\n",
      "   3  -2.36114727e+05 -5.09350639e+05  1.36e-09 5.68e-14  4.88e+03     0s\n",
      "   4  -3.16415529e+05 -3.50366926e+05  1.20e-11 5.68e-14  6.06e+02     0s\n",
      "   5  -3.32150226e+05 -3.37265448e+05  7.39e-12 8.53e-14  9.13e+01     0s\n",
      "   6  -3.34733641e+05 -3.36101213e+05  5.95e-12 2.27e-13  2.44e+01     0s\n",
      "   7  -3.35343461e+05 -3.35608637e+05  2.16e-12 1.14e-13  4.74e+00     0s\n",
      "   8  -3.35505157e+05 -3.35515278e+05  6.33e-12 5.68e-14  1.81e-01     0s\n",
      "   9  -3.35509963e+05 -3.35510917e+05  2.44e-10 1.14e-13  1.70e-02     0s\n",
      "  10  -3.35510487e+05 -3.35510572e+05  5.64e-10 1.71e-13  1.51e-03     0s\n",
      "  11  -3.35510535e+05 -3.35510546e+05  2.18e-09 5.80e-14  2.00e-04     0s\n",
      "  12  -3.35510543e+05 -3.35510544e+05  2.40e-09 4.26e-14  2.65e-05     0s\n",
      "  13  -3.35510544e+05 -3.35510544e+05  4.40e-09 1.14e-13  2.16e-07     0s\n",
      "  14  -3.35510544e+05 -3.35510544e+05  7.01e-10 8.53e-14  2.20e-10     0s\n",
      "\n",
      "Barrier solved model in 14 iterations and 0.03 seconds\n",
      "Optimal objective -3.35510544e+05\n",
      "\n"
     ]
    }
   ],
   "source": [
    "from gurobipy import *\n",
    "\n",
    "L = 56  # dimension of lam\n",
    "\n",
    "K = np.size(x, 1)\n",
    "S = samp_cov(x)\n",
    "inv_S = inv(S)\n",
    "\n",
    "A_t = np.transpose(A)\n",
    "P_t = np.transpose(P)\n",
    "# PA'\n",
    "PA_t = np.dot(P, A_t)\n",
    "# AP_t\n",
    "AP_t = np.transpose(PA_t)\n",
    "\n",
    "Q = np.dot(np.dot(PA_t, inv_S), AP_t)\n",
    "b = sum([np.dot(np.dot(PA_t, inv_S), x[:, k]) for k in range(K)])\n",
    "\n",
    "\n",
    "model = Model(\"OD_matrix_estimation\")\n",
    "\n",
    "lam = []\n",
    "for l in range(L):\n",
    "    lam.append(model.addVar(name='lam_' + str(l)))\n",
    "\n",
    "model.update() \n",
    "\n",
    "# Set objective: (K/2) lam' * Q * lam - b * lam\n",
    "obj = 0\n",
    "for i in range(L):\n",
    "    for j in range(L):\n",
    "        obj += (1.0 /2) * K * lam[i] * Q[i, j] * lam[j]\n",
    "for l in range(L):\n",
    "    obj += - b[l] * lam[l]\n",
    "model.setObjective(obj)\n",
    "\n",
    "# Add constraint: lam >= 0\n",
    "for l in range(L):\n",
    "    model.addConstr(lam[l] >= 0)\n",
    "\n",
    "model.update() \n",
    "\n",
    "model.optimize()"
   ]
  },
  {
   "cell_type": "code",
   "execution_count": 317,
   "metadata": {
    "collapsed": false
   },
   "outputs": [
    {
     "data": {
      "text/plain": [
       "[<gurobi.Var lam_0 (value 44108.5679967)>,\n",
       " <gurobi.Var lam_1 (value 77575.6030945)>,\n",
       " <gurobi.Var lam_2 (value 102683.512651)>,\n",
       " <gurobi.Var lam_3 (value 6.14509203991e-08)>,\n",
       " <gurobi.Var lam_4 (value 0.0333553961187)>,\n",
       " <gurobi.Var lam_5 (value 12.6964943976)>,\n",
       " <gurobi.Var lam_6 (value 67090.195218)>,\n",
       " <gurobi.Var lam_7 (value 783754.986485)>,\n",
       " <gurobi.Var lam_8 (value 2.27004710245e-09)>,\n",
       " <gurobi.Var lam_9 (value 8.61992711646e-09)>,\n",
       " <gurobi.Var lam_10 (value 2.18917713316e-09)>,\n",
       " <gurobi.Var lam_11 (value 2.27004705365e-09)>,\n",
       " <gurobi.Var lam_12 (value 2.27004709844e-09)>,\n",
       " <gurobi.Var lam_13 (value 2.52200436345e-09)>,\n",
       " <gurobi.Var lam_14 (value 4.01873835162e-07)>,\n",
       " <gurobi.Var lam_15 (value 1.05725011598e-07)>,\n",
       " <gurobi.Var lam_16 (value 5.02813083138e-09)>,\n",
       " <gurobi.Var lam_17 (value 6.14509151127e-08)>,\n",
       " <gurobi.Var lam_18 (value 206949.8737)>,\n",
       " <gurobi.Var lam_19 (value 123227.461201)>,\n",
       " <gurobi.Var lam_20 (value 5.65722952508e-08)>,\n",
       " <gurobi.Var lam_21 (value 64779.0195126)>,\n",
       " <gurobi.Var lam_22 (value 157087.174067)>,\n",
       " <gurobi.Var lam_23 (value 1.65708386323e-08)>,\n",
       " <gurobi.Var lam_24 (value 1.65708386793e-08)>,\n",
       " <gurobi.Var lam_25 (value 8.17270327698e-09)>,\n",
       " <gurobi.Var lam_26 (value 2.0239834384e-08)>,\n",
       " <gurobi.Var lam_27 (value 100352.357185)>,\n",
       " <gurobi.Var lam_28 (value 4.01873883304e-07)>,\n",
       " <gurobi.Var lam_29 (value 1.05725005789e-07)>,\n",
       " <gurobi.Var lam_30 (value 188180.75736)>,\n",
       " <gurobi.Var lam_31 (value 5.47620128751e-09)>,\n",
       " <gurobi.Var lam_32 (value 1.61260257376e-08)>,\n",
       " <gurobi.Var lam_33 (value 7971.02506012)>,\n",
       " <gurobi.Var lam_34 (value 4.5536549112e-08)>,\n",
       " <gurobi.Var lam_35 (value 4.01873831209e-07)>,\n",
       " <gurobi.Var lam_36 (value 1.05725005699e-07)>,\n",
       " <gurobi.Var lam_37 (value 223719.22797)>,\n",
       " <gurobi.Var lam_38 (value 4.91954999585e-09)>,\n",
       " <gurobi.Var lam_39 (value 4.82672239193e-08)>,\n",
       " <gurobi.Var lam_40 (value 264362.975994)>,\n",
       " <gurobi.Var lam_41 (value 1.06341939802e-07)>,\n",
       " <gurobi.Var lam_42 (value 4.01873824927e-07)>,\n",
       " <gurobi.Var lam_43 (value 1.05725004264e-07)>,\n",
       " <gurobi.Var lam_44 (value 146309.609107)>,\n",
       " <gurobi.Var lam_45 (value 4.99805822636e-09)>,\n",
       " <gurobi.Var lam_46 (value 1.60480603467e-08)>,\n",
       " <gurobi.Var lam_47 (value 146069.721962)>,\n",
       " <gurobi.Var lam_48 (value 1.06341941162e-07)>,\n",
       " <gurobi.Var lam_49 (value 30453.0592569)>,\n",
       " <gurobi.Var lam_50 (value 2.34789265444e-07)>,\n",
       " <gurobi.Var lam_51 (value 9.03223783576e-07)>,\n",
       " <gurobi.Var lam_52 (value 116313.468007)>,\n",
       " <gurobi.Var lam_53 (value 1.63197439343e-08)>,\n",
       " <gurobi.Var lam_54 (value 18610.5013412)>,\n",
       " <gurobi.Var lam_55 (value 20830.0101295)>]"
      ]
     },
     "execution_count": 317,
     "metadata": {},
     "output_type": "execute_result"
    }
   ],
   "source": [
    "lam"
   ]
  },
  {
   "cell_type": "code",
   "execution_count": 320,
   "metadata": {
    "collapsed": false
   },
   "outputs": [
    {
     "data": {
      "text/plain": [
       "24"
      ]
     },
     "execution_count": 320,
     "metadata": {},
     "output_type": "execute_result"
    }
   ],
   "source": [
    "len(x[:,1])"
   ]
  },
  {
   "cell_type": "code",
   "execution_count": 321,
   "metadata": {
    "collapsed": false
   },
   "outputs": [
    {
     "data": {
      "text/plain": [
       "88"
      ]
     },
     "execution_count": 321,
     "metadata": {},
     "output_type": "execute_result"
    }
   ],
   "source": [
    "K"
   ]
  },
  {
   "cell_type": "code",
   "execution_count": null,
   "metadata": {
    "collapsed": true
   },
   "outputs": [],
   "source": []
  }
 ],
 "metadata": {
  "kernelspec": {
   "display_name": "Python 2",
   "language": "python",
   "name": "python2"
  },
  "language_info": {
   "codemirror_mode": {
    "name": "ipython",
    "version": 2
   },
   "file_extension": ".py",
   "mimetype": "text/x-python",
   "name": "python",
   "nbconvert_exporter": "python",
   "pygments_lexer": "ipython2",
   "version": "2.7.11"
  }
 },
 "nbformat": 4,
 "nbformat_minor": 0
}
