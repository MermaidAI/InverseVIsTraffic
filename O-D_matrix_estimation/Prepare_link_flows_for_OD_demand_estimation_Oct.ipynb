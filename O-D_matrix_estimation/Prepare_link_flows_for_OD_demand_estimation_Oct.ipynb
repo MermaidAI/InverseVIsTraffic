{
 "cells": [
  {
   "cell_type": "code",
   "execution_count": 1,
   "metadata": {
    "collapsed": true
   },
   "outputs": [],
   "source": [
    "%run ../Python_files/util_data_storage_and_load.py"
   ]
  },
  {
   "cell_type": "code",
   "execution_count": 2,
   "metadata": {
    "collapsed": true
   },
   "outputs": [],
   "source": [
    "%run ../Python_files/load_dicts.py"
   ]
  },
  {
   "cell_type": "code",
   "execution_count": 3,
   "metadata": {
    "collapsed": false
   },
   "outputs": [],
   "source": [
    "%run ../Python_files/util.py"
   ]
  },
  {
   "cell_type": "code",
   "execution_count": 4,
   "metadata": {
    "collapsed": false
   },
   "outputs": [],
   "source": [
    "road_seg_inr_capac = zload('../temp_files/road_seg_inr_capac.pkz')"
   ]
  },
  {
   "cell_type": "code",
   "execution_count": 5,
   "metadata": {
    "collapsed": false
   },
   "outputs": [],
   "source": [
    "# load tmc-day-ave_speed data for AM peak of October\n",
    "tmc_day_speed_dict_Oct_AM = zload('../temp_files/Oct_AM/tmc_day_speed_dict.pkz')\n",
    "\n",
    "# load tmc-day-ave_speed data for MD of October\n",
    "tmc_day_speed_dict_Oct_MD = zload('../temp_files/Oct_MD/tmc_day_speed_dict.pkz')\n",
    "\n",
    "# load tmc-day-ave_speed data for PM peak of October\n",
    "tmc_day_speed_dict_Oct_PM = zload('../temp_files/Oct_PM/tmc_day_speed_dict.pkz')\n",
    "\n",
    "# load tmc-day-ave_speed data for NT of October\n",
    "tmc_day_speed_dict_Oct_NT = zload('../temp_files/Oct_NT/tmc_day_speed_dict.pkz')"
   ]
  },
  {
   "cell_type": "code",
   "execution_count": 6,
   "metadata": {
    "collapsed": false
   },
   "outputs": [
    {
     "data": {
      "text/plain": [
       "58.174768089053721"
      ]
     },
     "execution_count": 6,
     "metadata": {},
     "output_type": "execute_result"
    }
   ],
   "source": [
    "tmc_day_speed_dict_Oct_AM['129N0410818'].ave_speed()"
   ]
  },
  {
   "cell_type": "code",
   "execution_count": 7,
   "metadata": {
    "collapsed": false
   },
   "outputs": [],
   "source": [
    "tmc_day_capac_flow_minute_dict = {}\n",
    "\n",
    "for i in range(len(road_seg_inr_capac.tmc)):\n",
    "    for day in range(32)[1:]:\n",
    "        tmc = road_seg_inr_capac.tmc[i]\n",
    "        road_num = road_seg_inr_capac.road_num[i]\n",
    "        shape_length = road_seg_inr_capac.shape_length[i]\n",
    "        day = day\n",
    "        AB_AM_capac = road_seg_inr_capac.AB_AM_capac[i]\n",
    "        AB_MD_capac = road_seg_inr_capac.AB_MD_capac[i]\n",
    "        AB_PM_capac = road_seg_inr_capac.AB_PM_capac[i]\n",
    "        AB_NT_capac = road_seg_inr_capac.AB_NT_capac[i]\n",
    "        AM_ave_speed = tmc_day_speed_dict_Oct_AM[tmc + str(day)].ave_speed()\n",
    "        MD_ave_speed = tmc_day_speed_dict_Oct_MD[tmc + str(day)].ave_speed()\n",
    "        PM_ave_speed = tmc_day_speed_dict_Oct_PM[tmc + str(day)].ave_speed()\n",
    "        NT_ave_speed = tmc_day_speed_dict_Oct_NT[tmc + str(day)].ave_speed()\n",
    "        AM_speed_minute = tmc_day_speed_dict_Oct_AM[tmc + str(day)].speed\n",
    "        MD_speed_minute = tmc_day_speed_dict_Oct_MD[tmc + str(day)].speed\n",
    "        PM_speed_minute = tmc_day_speed_dict_Oct_PM[tmc + str(day)].speed\n",
    "        NT_speed_minute = tmc_day_speed_dict_Oct_NT[tmc + str(day)].speed\n",
    "        tmc_day_capac_flow_minute = RoadSegInrCapacFlowMinute(tmc, road_num, shape_length, day, \\\n",
    "                                                  AB_AM_capac, AB_MD_capac, \\\n",
    "                                                  AB_PM_capac, AB_NT_capac, \\\n",
    "                                                  AM_ave_speed, MD_ave_speed, \\\n",
    "                                                  PM_ave_speed, NT_ave_speed, \\\n",
    "                                                  AM_speed_minute, MD_speed_minute, \\\n",
    "                                                  PM_speed_minute, NT_speed_minute)\n",
    "        assert(len(tmc_day_capac_flow_minute.AM_flow_minute()) == 120)\n",
    "        assert(len(tmc_day_capac_flow_minute.MD_flow_minute()) == 120)\n",
    "        assert(len(tmc_day_capac_flow_minute.PM_flow_minute()) == 120)\n",
    "        #assert(len(tmc_day_capac_flow_minute.NT_flow_minute()) == 120)\n",
    "        tmc_day_capac_flow_minute_dict[tmc + str(day)] = tmc_day_capac_flow_minute"
   ]
  },
  {
   "cell_type": "code",
   "execution_count": 8,
   "metadata": {
    "collapsed": true
   },
   "outputs": [],
   "source": [
    "#zdump(tmc_day_capac_flow_minute_dict, '../temp_files/tmc_day_capac_flow_minute_dict_Oct.pkz')"
   ]
  },
  {
   "cell_type": "code",
   "execution_count": 9,
   "metadata": {
    "collapsed": false
   },
   "outputs": [
    {
     "data": {
      "text/plain": [
       "<bound method RoadSegInrCapacFlowMinute.NT_flow_minute of <__main__.RoadSegInrCapacFlowMinute object at 0x7f3e351b7d90>>"
      ]
     },
     "execution_count": 9,
     "metadata": {},
     "output_type": "execute_result"
    }
   ],
   "source": [
    "tmc_day_capac_flow_minute_dict['129N0437720'].NT_flow_minute"
   ]
  },
  {
   "cell_type": "code",
   "execution_count": 10,
   "metadata": {
    "collapsed": true
   },
   "outputs": [],
   "source": [
    "link_with_capac_list = list(zload('../temp_files/links_with_capac.pkz'))"
   ]
  },
  {
   "cell_type": "code",
   "execution_count": 11,
   "metadata": {
    "collapsed": true
   },
   "outputs": [],
   "source": [
    "import numpy as np\n",
    "\n",
    "link_day_minute_Oct_dict = {}\n",
    "\n",
    "for day in range(32)[1:]:\n",
    "    i = 0\n",
    "    for link_with_capac in link_with_capac_list:\n",
    "        AM_flow = sum([tmc_day_capac_flow_minute_dict[tmc + str(day)].AM_flow() for tmc in link_with_capac.tmc_set])\n",
    "        MD_flow = sum([tmc_day_capac_flow_minute_dict[tmc + str(day)].MD_flow() for tmc in link_with_capac.tmc_set])\n",
    "        PM_flow = sum([tmc_day_capac_flow_minute_dict[tmc + str(day)].PM_flow() for tmc in link_with_capac.tmc_set])\n",
    "        NT_flow = sum([tmc_day_capac_flow_minute_dict[tmc + str(day)].NT_flow() for tmc in link_with_capac.tmc_set])\n",
    "        AM_flow_minute = list(sum([np.array(tmc_day_capac_flow_minute_dict[tmc + str(day)].AM_flow_minute()) \\\n",
    "                              for tmc in link_with_capac.tmc_set]))\n",
    "        MD_flow_minute = list(sum([np.array(tmc_day_capac_flow_minute_dict[tmc + str(day)].MD_flow_minute()) \\\n",
    "                              for tmc in link_with_capac.tmc_set]))\n",
    "        PM_flow_minute = list(sum([np.array(tmc_day_capac_flow_minute_dict[tmc + str(day)].PM_flow_minute()) \\\n",
    "                              for tmc in link_with_capac.tmc_set]))\n",
    "        NT_flow_minute = list(sum([np.array(tmc_day_capac_flow_minute_dict[tmc + str(day)].NT_flow_minute()) \\\n",
    "                              for tmc in link_with_capac.tmc_set]))\n",
    "        link_with_capac_new = Link_with_Free_Flow_Time_Minute(link_with_capac.init_node, link_with_capac.term_node, \\\n",
    "                                                       link_with_capac.tmc_set, \\\n",
    "                                                       link_with_capac.AM_capac, \\\n",
    "                                                       link_with_capac.MD_capac, \\\n",
    "                                                       link_with_capac.PM_capac, \\\n",
    "                                                       link_with_capac.NT_capac, \\\n",
    "                                                       link_with_capac.free_flow_time, \\\n",
    "                                                       link_with_capac.length, \\\n",
    "                                                       AM_flow, MD_flow, PM_flow, NT_flow, \\\n",
    "                                                       AM_flow_minute, MD_flow_minute, \\\n",
    "                                                       PM_flow_minute, NT_flow_minute)\n",
    "        link_day_minute_Oct_dict['link_' + str(i) + '_' + str(day)] = link_with_capac_new\n",
    "        i = i + 1"
   ]
  },
  {
   "cell_type": "code",
   "execution_count": 12,
   "metadata": {
    "collapsed": false
   },
   "outputs": [],
   "source": [
    "#zdump(link_day_minute_Oct_dict, '../temp_files/link_day_minute_Oct_dict.pkz')"
   ]
  },
  {
   "cell_type": "code",
   "execution_count": 13,
   "metadata": {
    "collapsed": false
   },
   "outputs": [
    {
     "data": {
      "text/plain": [
       "336791.10264164413"
      ]
     },
     "execution_count": 13,
     "metadata": {},
     "output_type": "execute_result"
    }
   ],
   "source": [
    "link_day_minute_Oct_dict['link_0_10'].AM_flow"
   ]
  },
  {
   "cell_type": "code",
   "execution_count": 14,
   "metadata": {
    "collapsed": false
   },
   "outputs": [],
   "source": [
    "link_day_minute_Oct_dict_JSON = {}\n",
    "for link_idx in range(24):\n",
    "    for day in range(32)[1:]:   \n",
    "        key = 'link_' + str(link_idx) + '_' + str(day)\n",
    "        data = {'link_idx': link_idx, 'day': day, \\\n",
    "             'init_node': link_day_minute_Oct_dict[key].init_node, \\\n",
    "             'term_node': link_day_minute_Oct_dict[key].term_node, \\\n",
    "             'AM_capac': link_day_minute_Oct_dict[key].AM_capac, \\\n",
    "             'MD_capac': link_day_minute_Oct_dict[key].MD_capac, \\\n",
    "             'PM_capac': link_day_minute_Oct_dict[key].PM_capac, \\\n",
    "             'NT_capac': link_day_minute_Oct_dict[key].NT_capac, \\\n",
    "             'free_flow_time': link_day_minute_Oct_dict[key].free_flow_time, \\\n",
    "             'length': link_day_minute_Oct_dict[key].length, \\\n",
    "             'AM_flow': link_day_minute_Oct_dict[key].AM_flow, \\\n",
    "             'MD_flow': link_day_minute_Oct_dict[key].MD_flow, \\\n",
    "             'PM_flow': link_day_minute_Oct_dict[key].PM_flow, \\\n",
    "             'NT_flow': link_day_minute_Oct_dict[key].NT_flow, \\\n",
    "             'AM_flow_minute': link_day_minute_Oct_dict[key].AM_flow_minute, \\\n",
    "             'MD_flow_minute': link_day_minute_Oct_dict[key].MD_flow_minute, \\\n",
    "             'PM_flow_minute': link_day_minute_Oct_dict[key].PM_flow_minute, \\\n",
    "             'NT_flow_minute': link_day_minute_Oct_dict[key].NT_flow_minute}\n",
    "        link_day_minute_Oct_dict_JSON[key] = data\n",
    "        \n",
    "import json\n",
    "\n",
    "# Writing JSON data\n",
    "with open('../temp_files/link_day_minute_Oct_dict_JSON.json', 'w') as json_file:\n",
    "    json.dump(link_day_minute_Oct_dict_JSON, json_file)"
   ]
  },
  {
   "cell_type": "code",
   "execution_count": 15,
   "metadata": {
    "collapsed": false
   },
   "outputs": [],
   "source": [
    "with open('../temp_files/link_day_minute_Oct_dict_JSON.json', 'r') as json_file:\n",
    "    link_day_minute_Oct_dict_JSON_ = json.load(json_file)"
   ]
  },
  {
   "cell_type": "code",
   "execution_count": 16,
   "metadata": {
    "collapsed": false
   },
   "outputs": [
    {
     "data": {
      "text/plain": [
       "[618523.6055993568,\n",
       " 609087.5423052132,\n",
       " 604548.5820232456,\n",
       " 619372.6812587631,\n",
       " 612043.0192546904,\n",
       " 598886.6108566386,\n",
       " 609102.2496616117,\n",
       " 603389.750823608,\n",
       " 604089.1190966328,\n",
       " 620123.9111011289,\n",
       " 600691.7572643938,\n",
       " 609236.6522632209,\n",
       " 604455.6639537227,\n",
       " 610309.870022206,\n",
       " 610905.5507554765,\n",
       " 601609.2402988041,\n",
       " 618314.4505023971,\n",
       " 610217.900264981,\n",
       " 630247.0916139617,\n",
       " 622293.052579846,\n",
       " 629772.9137151935,\n",
       " 610013.1887875778,\n",
       " 595641.6181096928,\n",
       " 604269.6040866512,\n",
       " 619929.1053615513,\n",
       " 609244.9892969375,\n",
       " 614906.267308011,\n",
       " 613410.9863305858,\n",
       " 590879.4022074104,\n",
       " 613170.5012367086,\n",
       " 624096.9334912281,\n",
       " 610285.3378798169,\n",
       " 619557.6350254144,\n",
       " 598866.2730229042,\n",
       " 606121.0404673242,\n",
       " 608460.8371724075,\n",
       " 597037.0702157757,\n",
       " 618820.6097525023,\n",
       " 610330.3208785041,\n",
       " 605818.7628008204,\n",
       " 595080.4084111238,\n",
       " 626450.1723495526,\n",
       " 621307.353321745,\n",
       " 599338.6353045693,\n",
       " 614140.0091438785,\n",
       " 614563.6139571241,\n",
       " 616990.7014714126,\n",
       " 626404.5247692956,\n",
       " 622351.3044687575,\n",
       " 616444.1449660048,\n",
       " 598643.7316415608,\n",
       " 603047.3635624978,\n",
       " 601470.2899428126,\n",
       " 609621.7946808676,\n",
       " 597357.4002182321,\n",
       " 602508.1283931136,\n",
       " 602110.6745691723,\n",
       " 620737.4807151177,\n",
       " 619737.1249859838,\n",
       " 614194.4171202774,\n",
       " 613117.0874293613,\n",
       " 621848.1995951396,\n",
       " 621355.8936880376,\n",
       " 612463.7556342047,\n",
       " 611990.1938314755,\n",
       " 624171.9871526794,\n",
       " 614313.5199224257,\n",
       " 611544.4722280138,\n",
       " 617470.3506550696,\n",
       " 610632.7788854374,\n",
       " 623938.0397142817,\n",
       " 608666.7286724489,\n",
       " 605149.1958383535,\n",
       " 603766.0195877595,\n",
       " 606304.3247264221,\n",
       " 616336.1058970834,\n",
       " 609397.3903020575,\n",
       " 611216.3597453316,\n",
       " 607711.0833116876,\n",
       " 615917.6073952793,\n",
       " 625815.3041087118,\n",
       " 611940.2125398348,\n",
       " 609163.7596500462,\n",
       " 601850.1561027374,\n",
       " 606823.1191331205,\n",
       " 623470.882759405,\n",
       " 615266.5353239418,\n",
       " 608072.4396664969,\n",
       " 616230.1910863917,\n",
       " 605870.4966469217,\n",
       " 592259.4250051547,\n",
       " 632705.0862827795,\n",
       " 620425.2382757866,\n",
       " 615102.3050640966,\n",
       " 604340.4444019232,\n",
       " 600561.8559015244,\n",
       " 606448.568124126,\n",
       " 605870.3883953202,\n",
       " 618136.9332291866,\n",
       " 621823.4757123624,\n",
       " 617943.7307857829,\n",
       " 605719.9590236937,\n",
       " 623785.9426740899,\n",
       " 609181.1767252609,\n",
       " 604673.1419890075,\n",
       " 621014.0732626242,\n",
       " 610676.7449558552,\n",
       " 623228.3043800449,\n",
       " 616113.8618220292,\n",
       " 619562.4983881915,\n",
       " 613886.7557925138,\n",
       " 609926.2723667443,\n",
       " 621459.4928432744,\n",
       " 604745.2053381046,\n",
       " 618820.0570572017,\n",
       " 610300.3525784635,\n",
       " 605986.5641970132,\n",
       " 605521.0815429306,\n",
       " 594187.7678801201,\n",
       " 625575.5306286981]"
      ]
     },
     "execution_count": 16,
     "metadata": {},
     "output_type": "execute_result"
    }
   ],
   "source": [
    "link_day_minute_Oct_dict_JSON_['link_3_9'] ['AM_flow_minute']"
   ]
  },
  {
   "cell_type": "code",
   "execution_count": null,
   "metadata": {
    "collapsed": true
   },
   "outputs": [],
   "source": []
  }
 ],
 "metadata": {
  "kernelspec": {
   "display_name": "Python 2",
   "language": "python",
   "name": "python2"
  },
  "language_info": {
   "codemirror_mode": {
    "name": "ipython",
    "version": 2
   },
   "file_extension": ".py",
   "mimetype": "text/x-python",
   "name": "python",
   "nbconvert_exporter": "python",
   "pygments_lexer": "ipython2",
   "version": "2.7.11"
  }
 },
 "nbformat": 4,
 "nbformat_minor": 0
}
