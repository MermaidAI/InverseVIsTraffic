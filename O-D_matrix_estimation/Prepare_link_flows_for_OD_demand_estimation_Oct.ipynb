{
 "cells": [
  {
   "cell_type": "code",
   "execution_count": 1,
   "metadata": {
    "collapsed": true
   },
   "outputs": [],
   "source": [
    "%run ../Python_files/util_data_storage_and_load.py"
   ]
  },
  {
   "cell_type": "code",
   "execution_count": 2,
   "metadata": {
    "collapsed": true
   },
   "outputs": [],
   "source": [
    "%run ../Python_files/load_dicts.py"
   ]
  },
  {
   "cell_type": "code",
   "execution_count": 3,
   "metadata": {
    "collapsed": false
   },
   "outputs": [],
   "source": [
    "%run ../Python_files/util.py"
   ]
  },
  {
   "cell_type": "code",
   "execution_count": 4,
   "metadata": {
    "collapsed": false
   },
   "outputs": [],
   "source": [
    "road_seg_inr_capac = zload('../temp_files/road_seg_inr_capac.pkz')"
   ]
  },
  {
   "cell_type": "code",
   "execution_count": 5,
   "metadata": {
    "collapsed": false
   },
   "outputs": [],
   "source": [
    "# load tmc-day-ave_speed data for AM peak of October\n",
    "tmc_day_speed_dict_Oct_AM = zload('../temp_files/Oct_AM/tmc_day_speed_dict.pkz')\n",
    "\n",
    "# load tmc-day-ave_speed data for MD of October\n",
    "tmc_day_speed_dict_Oct_MD = zload('../temp_files/Oct_MD/tmc_day_speed_dict.pkz')\n",
    "\n",
    "# load tmc-day-ave_speed data for PM peak of October\n",
    "tmc_day_speed_dict_Oct_PM = zload('../temp_files/Oct_PM/tmc_day_speed_dict.pkz')\n",
    "\n",
    "# load tmc-day-ave_speed data for NT of October\n",
    "tmc_day_speed_dict_Oct_NT = zload('../temp_files/Oct_NT/tmc_day_speed_dict.pkz')"
   ]
  },
  {
   "cell_type": "code",
   "execution_count": 6,
   "metadata": {
    "collapsed": false
   },
   "outputs": [
    {
     "data": {
      "text/plain": [
       "58.174768089053721"
      ]
     },
     "execution_count": 6,
     "metadata": {},
     "output_type": "execute_result"
    }
   ],
   "source": [
    "tmc_day_speed_dict_Oct_AM['129N0410818'].ave_speed()"
   ]
  },
  {
   "cell_type": "code",
   "execution_count": 7,
   "metadata": {
    "collapsed": false
   },
   "outputs": [],
   "source": [
    "tmc_day_capac_flow_minute_dict = {}\n",
    "\n",
    "for i in range(len(road_seg_inr_capac.tmc)):\n",
    "    for day in range(32)[1:]:\n",
    "        tmc = road_seg_inr_capac.tmc[i]\n",
    "        road_num = road_seg_inr_capac.road_num[i]\n",
    "        shape_length = road_seg_inr_capac.shape_length[i]\n",
    "        day = day\n",
    "        AB_AM_capac = road_seg_inr_capac.AB_AM_capac[i]\n",
    "        AB_MD_capac = road_seg_inr_capac.AB_MD_capac[i]\n",
    "        AB_PM_capac = road_seg_inr_capac.AB_PM_capac[i]\n",
    "        AB_NT_capac = road_seg_inr_capac.AB_NT_capac[i]\n",
    "        AM_ave_speed = tmc_day_speed_dict_Oct_AM[tmc + str(day)].ave_speed()\n",
    "        MD_ave_speed = tmc_day_speed_dict_Oct_MD[tmc + str(day)].ave_speed()\n",
    "        PM_ave_speed = tmc_day_speed_dict_Oct_PM[tmc + str(day)].ave_speed()\n",
    "        NT_ave_speed = tmc_day_speed_dict_Oct_NT[tmc + str(day)].ave_speed()\n",
    "        AM_speed_minute = tmc_day_speed_dict_Oct_AM[tmc + str(day)].speed\n",
    "        MD_speed_minute = tmc_day_speed_dict_Oct_MD[tmc + str(day)].speed\n",
    "        PM_speed_minute = tmc_day_speed_dict_Oct_PM[tmc + str(day)].speed\n",
    "        NT_speed_minute = tmc_day_speed_dict_Oct_NT[tmc + str(day)].speed\n",
    "        tmc_day_capac_flow_minute = RoadSegInrCapacFlowMinute(tmc, road_num, shape_length, day, \\\n",
    "                                                  AB_AM_capac, AB_MD_capac, \\\n",
    "                                                  AB_PM_capac, AB_NT_capac, \\\n",
    "                                                  AM_ave_speed, MD_ave_speed, \\\n",
    "                                                  PM_ave_speed, NT_ave_speed, \\\n",
    "                                                  AM_speed_minute, MD_speed_minute, \\\n",
    "                                                  PM_speed_minute, NT_speed_minute)\n",
    "        assert(len(tmc_day_capac_flow_minute.AM_flow_minute()) == 120)\n",
    "        assert(len(tmc_day_capac_flow_minute.MD_flow_minute()) == 120)\n",
    "        assert(len(tmc_day_capac_flow_minute.PM_flow_minute()) == 120)\n",
    "        #assert(len(tmc_day_capac_flow_minute.NT_flow_minute()) == 120)\n",
    "        tmc_day_capac_flow_minute_dict[tmc + str(day)] = tmc_day_capac_flow_minute"
   ]
  },
  {
   "cell_type": "code",
   "execution_count": 8,
   "metadata": {
    "collapsed": true
   },
   "outputs": [],
   "source": [
    "#zdump(tmc_day_capac_flow_minute_dict, '../temp_files/tmc_day_capac_flow_minute_dict_Oct.pkz')"
   ]
  },
  {
   "cell_type": "code",
   "execution_count": 8,
   "metadata": {
    "collapsed": false
   },
   "outputs": [
    {
     "data": {
      "text/plain": [
       "<bound method RoadSegInrCapacFlowMinute.NT_flow_minute of <__main__.RoadSegInrCapacFlowMinute object at 0x7f65cd40b050>>"
      ]
     },
     "execution_count": 8,
     "metadata": {},
     "output_type": "execute_result"
    }
   ],
   "source": [
    "tmc_day_capac_flow_minute_dict['129N0437720'].NT_flow_minute"
   ]
  },
  {
   "cell_type": "code",
   "execution_count": 9,
   "metadata": {
    "collapsed": true
   },
   "outputs": [],
   "source": [
    "link_with_capac_list = list(zload('../temp_files/links_with_capac.pkz'))"
   ]
  },
  {
   "cell_type": "code",
   "execution_count": 10,
   "metadata": {
    "collapsed": true
   },
   "outputs": [],
   "source": [
    "tmc_day_capac_flow_dict = zload('../temp_files/tmc_day_capac_flow_dict_Oct.pkz')"
   ]
  },
  {
   "cell_type": "code",
   "execution_count": 11,
   "metadata": {
    "collapsed": true
   },
   "outputs": [],
   "source": [
    "import numpy as np\n",
    "\n",
    "link_day_minute_Oct_dict = {}\n",
    "\n",
    "for day in range(32)[1:]:\n",
    "    i = 0\n",
    "    for link_with_capac in link_with_capac_list:\n",
    "        AM_flow = sum([tmc_day_capac_flow_dict[tmc + str(day)].AM_flow() * tmc_length_dict[tmc] / \\\n",
    "                       tmc_day_speed_dict_Oct_AM[tmc + str(day)].ave_speed() \\\n",
    "                       for tmc in link_with_capac.tmc_set]) / \\\n",
    "                  sum([tmc_length_dict[tmc] / tmc_day_speed_dict_Oct_AM[tmc + str(day)].ave_speed() \\\n",
    "                       for tmc in link_with_capac.tmc_set])\n",
    "        MD_flow = sum([tmc_day_capac_flow_dict[tmc + str(day)].MD_flow() * tmc_length_dict[tmc] / \\\n",
    "                       tmc_day_speed_dict_Oct_MD[tmc + str(day)].ave_speed() \\\n",
    "                       for tmc in link_with_capac.tmc_set]) / \\\n",
    "                  sum([tmc_length_dict[tmc] / tmc_day_speed_dict_Oct_MD[tmc + str(day)].ave_speed() \\\n",
    "                       for tmc in link_with_capac.tmc_set])\n",
    "        PM_flow = sum([tmc_day_capac_flow_dict[tmc + str(day)].PM_flow() * tmc_length_dict[tmc] / \\\n",
    "                       tmc_day_speed_dict_Oct_PM[tmc + str(day)].ave_speed() \\\n",
    "                       for tmc in link_with_capac.tmc_set]) / \\\n",
    "                  sum([tmc_length_dict[tmc] / tmc_day_speed_dict_Oct_PM[tmc + str(day)].ave_speed() \\\n",
    "                       for tmc in link_with_capac.tmc_set])\n",
    "        NT_flow = sum([tmc_day_capac_flow_dict[tmc + str(day)].NT_flow() * tmc_length_dict[tmc] / \\\n",
    "                       tmc_day_speed_dict_Oct_NT[tmc + str(day)].ave_speed() \\\n",
    "                       for tmc in link_with_capac.tmc_set]) / \\\n",
    "                  sum([tmc_length_dict[tmc] / tmc_day_speed_dict_Oct_NT[tmc + str(day)].ave_speed() \\\n",
    "                       for tmc in link_with_capac.tmc_set])\n",
    "        AM_flow_minute = list(sum([np.array(tmc_day_capac_flow_minute_dict[tmc + str(day)].AM_flow_minute()) \\\n",
    "                                   * tmc_length_dict[tmc] / tmc_day_speed_dict_Oct_AM[tmc + str(day)].speed \\\n",
    "                                  for tmc in link_with_capac.tmc_set]) / \\\n",
    "                              sum([np.ones(len(tmc_day_capac_flow_minute_dict[tmc + str(day)].AM_flow_minute())) \\\n",
    "                                   * tmc_length_dict[tmc] / tmc_day_speed_dict_Oct_AM[tmc + str(day)].speed \\\n",
    "                                  for tmc in link_with_capac.tmc_set]))\n",
    "        MD_flow_minute = list(sum([np.array(tmc_day_capac_flow_minute_dict[tmc + str(day)].MD_flow_minute()) \\\n",
    "                                   * tmc_length_dict[tmc] / tmc_day_speed_dict_Oct_MD[tmc + str(day)].speed \\\n",
    "                                  for tmc in link_with_capac.tmc_set]) / \\\n",
    "                              sum([np.ones(len(tmc_day_capac_flow_minute_dict[tmc + str(day)].MD_flow_minute())) \\\n",
    "                                   * tmc_length_dict[tmc] / tmc_day_speed_dict_Oct_MD[tmc + str(day)].speed \\\n",
    "                                  for tmc in link_with_capac.tmc_set]))\n",
    "        PM_flow_minute = list(sum([np.array(tmc_day_capac_flow_minute_dict[tmc + str(day)].PM_flow_minute()) \\\n",
    "                                   * tmc_length_dict[tmc] / tmc_day_speed_dict_Oct_PM[tmc + str(day)].speed \\\n",
    "                                  for tmc in link_with_capac.tmc_set]) / \\\n",
    "                              sum([np.ones(len(tmc_day_capac_flow_minute_dict[tmc + str(day)].PM_flow_minute())) \\\n",
    "                                   * tmc_length_dict[tmc] / tmc_day_speed_dict_Oct_PM[tmc + str(day)].speed \\\n",
    "                                  for tmc in link_with_capac.tmc_set]))\n",
    "        NT_flow_minute = list(sum([np.array(tmc_day_capac_flow_minute_dict[tmc + str(day)].NT_flow_minute()) \\\n",
    "                                   * tmc_length_dict[tmc] / tmc_day_speed_dict_Oct_NT[tmc + str(day)].speed \\\n",
    "                                  for tmc in link_with_capac.tmc_set]) / \\\n",
    "                              sum([np.ones(len(tmc_day_capac_flow_minute_dict[tmc + str(day)].NT_flow_minute())) \\\n",
    "                                   * tmc_length_dict[tmc] / tmc_day_speed_dict_Oct_NT[tmc + str(day)].speed \\\n",
    "                                  for tmc in link_with_capac.tmc_set]))\n",
    "        link_with_capac_new = Link_with_Free_Flow_Time_Minute(link_with_capac.init_node, link_with_capac.term_node, \\\n",
    "                                                       link_with_capac.tmc_set, \\\n",
    "                                                       link_with_capac.AM_capac, \\\n",
    "                                                       link_with_capac.MD_capac, \\\n",
    "                                                       link_with_capac.PM_capac, \\\n",
    "                                                       link_with_capac.NT_capac, \\\n",
    "                                                       link_with_capac.free_flow_time, \\\n",
    "                                                       link_with_capac.length, \\\n",
    "                                                       AM_flow, MD_flow, PM_flow, NT_flow, \\\n",
    "                                                       AM_flow_minute, MD_flow_minute, \\\n",
    "                                                       PM_flow_minute, NT_flow_minute)\n",
    "        link_day_minute_Oct_dict['link_' + str(i) + '_' + str(day)] = link_with_capac_new\n",
    "        i = i + 1"
   ]
  },
  {
   "cell_type": "code",
   "execution_count": 12,
   "metadata": {
    "collapsed": false
   },
   "outputs": [],
   "source": [
    "#zdump(link_day_minute_Oct_dict, '../temp_files/link_day_minute_Oct_dict.pkz')"
   ]
  },
  {
   "cell_type": "code",
   "execution_count": 12,
   "metadata": {
    "collapsed": false
   },
   "outputs": [
    {
     "data": {
      "text/plain": [
       "1232.3735068502297"
      ]
     },
     "execution_count": 12,
     "metadata": {},
     "output_type": "execute_result"
    }
   ],
   "source": [
    "link_day_minute_Oct_dict['link_0_10'].AM_flow"
   ]
  },
  {
   "cell_type": "code",
   "execution_count": 13,
   "metadata": {
    "collapsed": false
   },
   "outputs": [],
   "source": [
    "link_day_minute_Oct_dict_JSON = {}\n",
    "for link_idx in range(24):\n",
    "    for day in range(32)[1:]:   \n",
    "        key = 'link_' + str(link_idx) + '_' + str(day)\n",
    "        data = {'link_idx': link_idx, 'day': day, \\\n",
    "             'init_node': link_day_minute_Oct_dict[key].init_node, \\\n",
    "             'term_node': link_day_minute_Oct_dict[key].term_node, \\\n",
    "             'AM_capac': link_day_minute_Oct_dict[key].AM_capac, \\\n",
    "             'MD_capac': link_day_minute_Oct_dict[key].MD_capac, \\\n",
    "             'PM_capac': link_day_minute_Oct_dict[key].PM_capac, \\\n",
    "             'NT_capac': link_day_minute_Oct_dict[key].NT_capac, \\\n",
    "             'free_flow_time': link_day_minute_Oct_dict[key].free_flow_time, \\\n",
    "             'length': link_day_minute_Oct_dict[key].length, \\\n",
    "             'AM_flow': link_day_minute_Oct_dict[key].AM_flow, \\\n",
    "             'MD_flow': link_day_minute_Oct_dict[key].MD_flow, \\\n",
    "             'PM_flow': link_day_minute_Oct_dict[key].PM_flow, \\\n",
    "             'NT_flow': link_day_minute_Oct_dict[key].NT_flow, \\\n",
    "             'AM_flow_minute': link_day_minute_Oct_dict[key].AM_flow_minute, \\\n",
    "             'MD_flow_minute': link_day_minute_Oct_dict[key].MD_flow_minute, \\\n",
    "             'PM_flow_minute': link_day_minute_Oct_dict[key].PM_flow_minute, \\\n",
    "             'NT_flow_minute': link_day_minute_Oct_dict[key].NT_flow_minute}\n",
    "        link_day_minute_Oct_dict_JSON[key] = data\n",
    "        \n",
    "import json\n",
    "\n",
    "# Writing JSON data\n",
    "with open('../temp_files/link_day_minute_Oct_dict_JSON.json', 'w') as json_file:\n",
    "    json.dump(link_day_minute_Oct_dict_JSON, json_file)"
   ]
  },
  {
   "cell_type": "code",
   "execution_count": 14,
   "metadata": {
    "collapsed": false
   },
   "outputs": [],
   "source": [
    "with open('../temp_files/link_day_minute_Oct_dict_JSON.json', 'r') as json_file:\n",
    "    link_day_minute_Oct_dict_JSON_ = json.load(json_file)"
   ]
  },
  {
   "cell_type": "code",
   "execution_count": 16,
   "metadata": {
    "collapsed": false
   },
   "outputs": [
    {
     "data": {
      "text/plain": [
       "[1121.8154563319986,\n",
       " 1174.7369677983322,\n",
       " 1094.82521081593,\n",
       " 1110.4711760690914,\n",
       " 1128.924958597371]"
      ]
     },
     "execution_count": 16,
     "metadata": {},
     "output_type": "execute_result"
    }
   ],
   "source": [
    "link_day_minute_Oct_dict_JSON_['link_3_9'] ['AM_flow_minute'][0:5]"
   ]
  },
  {
   "cell_type": "code",
   "execution_count": null,
   "metadata": {
    "collapsed": true
   },
   "outputs": [],
   "source": []
  }
 ],
 "metadata": {
  "kernelspec": {
   "display_name": "Python 2",
   "language": "python",
   "name": "python2"
  },
  "language_info": {
   "codemirror_mode": {
    "name": "ipython",
    "version": 2
   },
   "file_extension": ".py",
   "mimetype": "text/x-python",
   "name": "python",
   "nbconvert_exporter": "python",
   "pygments_lexer": "ipython2",
   "version": "2.7.11"
  }
 },
 "nbformat": 4,
 "nbformat_minor": 0
}
