{
 "cells": [
  {
   "cell_type": "code",
   "execution_count": 1,
   "metadata": {
    "collapsed": true
   },
   "outputs": [],
   "source": [
    "%run ../Python_files/util_data_storage_and_load.py"
   ]
  },
  {
   "cell_type": "code",
   "execution_count": 2,
   "metadata": {
    "collapsed": true
   },
   "outputs": [],
   "source": [
    "%run ../Python_files/load_dicts.py"
   ]
  },
  {
   "cell_type": "code",
   "execution_count": 3,
   "metadata": {
    "collapsed": false
   },
   "outputs": [],
   "source": [
    "%run ../Python_files/util.py"
   ]
  },
  {
   "cell_type": "code",
   "execution_count": 4,
   "metadata": {
    "collapsed": true
   },
   "outputs": [],
   "source": [
    "# load logit_route_choice_probability_matrix\n",
    "P = zload('../temp_files/logit_route_choice_probability_matrix.pkz')"
   ]
  },
  {
   "cell_type": "code",
   "execution_count": 5,
   "metadata": {
    "collapsed": false
   },
   "outputs": [],
   "source": [
    "import numpy as np\n",
    "from numpy.linalg import inv\n",
    "\n",
    "P = np.matrix(P)"
   ]
  },
  {
   "cell_type": "code",
   "execution_count": 6,
   "metadata": {
    "collapsed": false
   },
   "outputs": [
    {
     "data": {
      "text/plain": [
       "(56, 140)"
      ]
     },
     "execution_count": 6,
     "metadata": {},
     "output_type": "execute_result"
    }
   ],
   "source": [
    "np.size(P, 0), np.size(P, 1)"
   ]
  },
  {
   "cell_type": "code",
   "execution_count": 7,
   "metadata": {
    "collapsed": true
   },
   "outputs": [],
   "source": [
    "import numpy as np\n",
    "from numpy.linalg import inv\n",
    "\n",
    "def samp_cov(x):\n",
    "    \"\"\"\n",
    "    x: sample matrix, each column is a link flow vector sample; 24 * K\n",
    "    K: number of samples\n",
    "    S: sample covariance matrix\n",
    "    ----------------\n",
    "    return: inv(S)\n",
    "    ----------------\n",
    "    \"\"\"\n",
    "    x = np.matrix(x)\n",
    "    K = np.size(x, 1)\n",
    "    x_mean = sum(x[:,k] for k in range(K)) / K\n",
    "    S = sum(np.dot(x[:,k] - x_mean, np.transpose(x[:,k] - x_mean)) for k in range(K)) / (K - 1)\n",
    "    return S"
   ]
  },
  {
   "cell_type": "code",
   "execution_count": 8,
   "metadata": {
    "collapsed": false
   },
   "outputs": [],
   "source": [
    "# load path-link incidence matrix\n",
    "A = zload('../temp_files/path-link_incidence_matrix.pkz')"
   ]
  },
  {
   "cell_type": "code",
   "execution_count": 8,
   "metadata": {
    "collapsed": false
   },
   "outputs": [],
   "source": [
    "# load link counts data\n",
    "link_day_Jan_dict = zload('../temp_files/link_day_Jan_dict.pkz')\n",
    "link_day_Apr_dict = zload('../temp_files/link_day_Apr_dict.pkz')\n",
    "link_day_Jul_dict = zload('../temp_files/link_day_Jul_dict.pkz')\n",
    "link_day_Oct_dict = zload('../temp_files/link_day_Oct_dict.pkz')"
   ]
  },
  {
   "cell_type": "code",
   "execution_count": 9,
   "metadata": {
    "collapsed": true
   },
   "outputs": [],
   "source": [
    "week_day_Jan_list = [2, 3, 4, 5, 6, 9, 10, 11, 12, 13, 16, 17, 18, 19, 20, 23, 24, 25, 26, 27, 30, 31]\n",
    "week_day_Apr_list = [2, 3, 4, 5, 6, 9, 10, 11, 12, 13, 16, 17, 18, 19, 20, 23, 24, 25, 26, 27, 30]\n",
    "week_day_Jul_list = [2, 3, 4, 5, 6, 9, 10, 11, 12, 13, 16, 17, 18, 19, 20, 23, 24, 25, 26, 27, 30, 31]\n",
    "week_day_Oct_list = [1, 2, 3, 4, 5, 8, 9, 10, 11, 12, 15, 16, 17, 18, 19, 22, 23, 24, 25, 26, 29, 30, 31]"
   ]
  },
  {
   "cell_type": "code",
   "execution_count": 10,
   "metadata": {
    "collapsed": false
   },
   "outputs": [],
   "source": [
    "K = len(week_day_Jan_list) + len(week_day_Apr_list) + len(week_day_Jul_list) + len(week_day_Oct_list)\n",
    "#K = len(week_day_Jan_list) + len(week_day_Apr_list)"
   ]
  },
  {
   "cell_type": "code",
   "execution_count": 11,
   "metadata": {
    "collapsed": false
   },
   "outputs": [
    {
     "data": {
      "text/plain": [
       "88"
      ]
     },
     "execution_count": 11,
     "metadata": {},
     "output_type": "execute_result"
    }
   ],
   "source": [
    "K"
   ]
  },
  {
   "cell_type": "code",
   "execution_count": 12,
   "metadata": {
    "collapsed": false
   },
   "outputs": [],
   "source": [
    "x = np.zeros((24, K))"
   ]
  },
  {
   "cell_type": "code",
   "execution_count": 14,
   "metadata": {
    "collapsed": false
   },
   "outputs": [],
   "source": [
    "m = 24\n",
    "\n",
    "for k_1 in range(len(week_day_Jan_list)):\n",
    "    for i in range(m):\n",
    "        x[i, k_1] = link_day_Jan_dict['link_' + str(i) + '_' + str(week_day_Jan_list[k_1])].AM_flow\n",
    "\n",
    "for k_2 in range(len(week_day_Apr_list)):\n",
    "    for i in range(m):\n",
    "        x[i, k_2 + k_1 + 1] = link_day_Apr_dict['link_' + str(i) + '_' + str(week_day_Apr_list[k_2])].AM_flow\n",
    "\n",
    "for k_3 in range(len(week_day_Jul_list)):\n",
    "    for i in range(m):\n",
    "        x[i, k_3 + k_2 + k_1 + 2] = link_day_Jul_dict['link_' + str(i) + '_' + str(week_day_Jul_list[k_3])].AM_flow\n",
    "for k_4 in range(len(week_day_Oct_list)):\n",
    "    for i in range(m):\n",
    "        x[i, k_4 + k_3 + k_2 + k_1 + 3] = link_day_Oct_dict['link_' + str(i) + '_' + str(week_day_Oct_list[k_4])].AM_flow\n",
    "\n",
    "x = np.matrix(x)\n",
    "x = np.nan_to_num(x)"
   ]
  },
  {
   "cell_type": "code",
   "execution_count": 15,
   "metadata": {
    "collapsed": false
   },
   "outputs": [],
   "source": [
    "y = np.array(np.transpose(x))\n",
    "y = y[np.all(y != 0, axis=1)]\n",
    "x = np.transpose(y)\n",
    "x = np.matrix(x)"
   ]
  },
  {
   "cell_type": "code",
   "execution_count": 16,
   "metadata": {
    "collapsed": false
   },
   "outputs": [
    {
     "data": {
      "text/plain": [
       "86"
      ]
     },
     "execution_count": 16,
     "metadata": {},
     "output_type": "execute_result"
    }
   ],
   "source": [
    "np.size(x, 1)"
   ]
  },
  {
   "cell_type": "code",
   "execution_count": 17,
   "metadata": {
    "collapsed": false
   },
   "outputs": [
    {
     "data": {
      "text/plain": [
       "(639708.01714969077, nan)"
      ]
     },
     "execution_count": 17,
     "metadata": {},
     "output_type": "execute_result"
    }
   ],
   "source": [
    "link_day_Jan_dict['link_2_2'].AM_flow, link_day_Jan_dict['link_2_1'].AM_flow"
   ]
  },
  {
   "cell_type": "code",
   "execution_count": 18,
   "metadata": {
    "collapsed": false
   },
   "outputs": [
    {
     "data": {
      "text/plain": [
       "(24, 86)"
      ]
     },
     "execution_count": 18,
     "metadata": {},
     "output_type": "execute_result"
    }
   ],
   "source": [
    "np.size(x,0), np.size(x,1)"
   ]
  },
  {
   "cell_type": "code",
   "execution_count": 19,
   "metadata": {
    "collapsed": false
   },
   "outputs": [
    {
     "data": {
      "text/plain": [
       "(24, 140)"
      ]
     },
     "execution_count": 19,
     "metadata": {},
     "output_type": "execute_result"
    }
   ],
   "source": [
    "np.size(A,0), np.size(A,1)"
   ]
  },
  {
   "cell_type": "code",
   "execution_count": 20,
   "metadata": {
    "collapsed": false
   },
   "outputs": [],
   "source": [
    "# calculate the GLS solution for the O-D matrix\n",
    "\n",
    "K = np.size(x, 1)\n",
    "S = samp_cov(x)\n",
    "inv_S = inv(S)\n",
    "\n",
    "A_t = np.transpose(A)\n",
    "P_t = np.transpose(P)\n",
    "# PA'\n",
    "PA_t = np.dot(P, A_t)\n",
    "# AP_t\n",
    "AP_t = np.transpose(PA_t)\n",
    "\n",
    "term_1 = inv(np.dot(np.dot(PA_t, inv_S), AP_t))\n",
    "term_2 = sum([np.dot(np.dot(PA_t, inv_S), x[:, k]) for k in range(K)])\n",
    "\n",
    "lam_est = (1.0 / K) * np.dot(term_1, term_2)"
   ]
  },
  {
   "cell_type": "code",
   "execution_count": 34,
   "metadata": {
    "collapsed": false
   },
   "outputs": [
    {
     "name": "stdout",
     "output_type": "stream",
     "text": [
      "Optimize a model with 56 rows, 56 columns and 56 nonzeros\n",
      "Model has 1596 quadratic objective terms\n",
      "Coefficient statistics:\n",
      "  Matrix range    [1e+00, 1e+00]\n",
      "  Objective range [1e-02, 2e+00]\n",
      "  Bounds range    [0e+00, 0e+00]\n",
      "  RHS range       [0e+00, 0e+00]\n",
      "Presolve removed 56 rows and 0 columns\n",
      "Presolve time: 0.00s\n",
      "Presolved: 0 rows, 56 columns, 0 nonzeros\n",
      "Presolved model has 1596 quadratic objective terms\n",
      "Ordering time: 0.00s\n",
      "\n",
      "Barrier statistics:\n",
      " Free vars  : 24\n",
      " AA' NZ     : 2.760e+02\n",
      " Factor NZ  : 3.000e+02\n",
      " Factor Ops : 4.900e+03 (less than 1 second per iteration)\n",
      " Threads    : 1\n",
      "\n",
      "                  Objective                Residual\n",
      "Iter       Primal          Dual         Primal    Dual     Compl     Time\n",
      "   0  -1.60570405e+06  0.00000000e+00  5.90e+03 3.76e+02  9.16e+05     0s\n",
      "   1   5.43308970e+05 -2.03615380e+06  1.46e+03 2.46e+02  2.78e+05     0s\n",
      "   2   4.91740417e+05 -1.70978661e+06  1.46e-03 5.68e-14  3.93e+04     0s\n",
      "   3  -2.56129778e+05 -5.55418309e+05  1.46e-09 5.68e-14  5.34e+03     0s\n",
      "   4  -3.35711051e+05 -3.67980464e+05  3.03e-11 2.84e-14  5.76e+02     0s\n",
      "   5  -3.42747987e+05 -3.44670009e+05  2.41e-11 1.14e-13  3.43e+01     0s\n",
      "   6  -3.43001142e+05 -3.43128012e+05  4.65e-12 1.71e-13  2.27e+00     0s\n",
      "   7  -3.43045203e+05 -3.43068188e+05  1.20e-11 5.68e-14  4.10e-01     0s\n",
      "   8  -3.43050607e+05 -3.43054312e+05  2.22e-12 1.42e-13  6.62e-02     0s\n",
      "   9  -3.43052304e+05 -3.43053257e+05  1.31e-12 5.68e-14  1.70e-02     0s\n",
      "  10  -3.43052739e+05 -3.43052749e+05  2.10e-12 1.14e-13  1.66e-04     0s\n",
      "  11  -3.43052744e+05 -3.43052744e+05  6.25e-13 8.53e-14  1.66e-07     0s\n",
      "  12  -3.43052744e+05 -3.43052744e+05  5.97e-13 5.68e-14  2.71e-10     0s\n",
      "\n",
      "Barrier solved model in 12 iterations and 0.02 seconds\n",
      "Optimal objective -3.43052744e+05\n",
      "\n",
      "lam_0 1.28327e-08\n",
      "lam_1 132318\n",
      "lam_2 121388\n",
      "lam_3 8.94006e-06\n",
      "lam_4 63826\n",
      "lam_5 1.11098e-05\n",
      "lam_6 2.04819e-05\n",
      "lam_7 120304\n",
      "lam_8 7.94332e-10\n",
      "lam_9 91544.6\n",
      "lam_10 7.92374e-10\n",
      "lam_11 7.92441e-10\n",
      "lam_12 7.92386e-10\n",
      "lam_13 7.99655e-10\n",
      "lam_14 1.56392e-06\n",
      "lam_15 3.48446e-06\n",
      "lam_16 1.5389e-06\n",
      "lam_17 8.80567e-06\n",
      "lam_18 182385\n",
      "lam_19 279435\n",
      "lam_20 1.88896e-05\n",
      "lam_21 1.54121e-05\n",
      "lam_22 237834\n",
      "lam_23 85402.9\n",
      "lam_24 5.79833e-05\n",
      "lam_25 5.61133e-05\n",
      "lam_26 6.9732e-05\n",
      "lam_27 120195\n",
      "lam_28 183507\n",
      "lam_29 54878.9\n",
      "lam_30 195689\n",
      "lam_31 35254.6\n",
      "lam_32 92344.7\n",
      "lam_33 1.07987e-06\n",
      "lam_34 80909\n",
      "lam_35 4.41343e-06\n",
      "lam_36 1.31975e-05\n",
      "lam_37 347834\n",
      "lam_38 7.08317e-06\n",
      "lam_39 84395.7\n",
      "lam_40 170778\n",
      "lam_41 6570.22\n",
      "lam_42 6.90685e-07\n",
      "lam_43 3.97071e-06\n",
      "lam_44 2.47588e-05\n",
      "lam_45 2.02875e-06\n",
      "lam_46 49918.4\n",
      "lam_47 357782\n",
      "lam_48 6083.25\n",
      "lam_49 1.50372e-06\n",
      "lam_50 3.24559e-06\n",
      "lam_51 6.57281e-05\n",
      "lam_52 136923\n",
      "lam_53 80837.1\n",
      "lam_54 1.47741e-05\n",
      "lam_55 1.47047e-05\n",
      "Obj: -343012\n"
     ]
    }
   ],
   "source": [
    "from gurobipy import *\n",
    "\n",
    "L = 56  # dimension of lam\n",
    "\n",
    "K = np.size(x, 1)\n",
    "S = samp_cov(x)\n",
    "inv_S = inv(S)\n",
    "\n",
    "A_t = np.transpose(A)\n",
    "P_t = np.transpose(P)\n",
    "# PA'\n",
    "PA_t = np.dot(P, A_t)\n",
    "# AP_t\n",
    "AP_t = np.transpose(PA_t)\n",
    "\n",
    "Q = np.dot(np.dot(PA_t, inv_S), AP_t)\n",
    "b = sum([np.dot(np.dot(PA_t, inv_S), x[:, k]) for k in range(K)])\n",
    "\n",
    "\n",
    "model = Model(\"OD_matrix_estimation\")\n",
    "\n",
    "lam = []\n",
    "for l in range(L):\n",
    "    lam.append(model.addVar(name='lam_' + str(l)))\n",
    "\n",
    "model.update() \n",
    "\n",
    "# Set objective: (K/2) lam' * Q * lam - b' * lam\n",
    "obj = 0\n",
    "for i in range(L):\n",
    "    for j in range(L):\n",
    "        obj += (1.0 /2) * K * lam[i] * Q[i, j] * lam[j]\n",
    "for l in range(L):\n",
    "    obj += - b[l] * lam[l]\n",
    "model.setObjective(obj)\n",
    "\n",
    "# Add constraint: lam >= 0\n",
    "for l in range(L):\n",
    "    model.addConstr(lam[l] >= 0)\n",
    "\n",
    "model.update() \n",
    "\n",
    "model.optimize()\n",
    "\n",
    "lam_list = []\n",
    "for v in model.getVars():\n",
    "    print('%s %g' % (v.varName, v.x))\n",
    "    lam_list.append(v.x)\n",
    "print('Obj: %g' % obj.getValue())\n",
    "\n",
    "\n"
   ]
  },
  {
   "cell_type": "code",
   "execution_count": 42,
   "metadata": {
    "collapsed": true
   },
   "outputs": [],
   "source": [
    "# write estimation result to file\n",
    "n = 8  # number of nodes\n",
    "with open('../temp_files/OD_demand_matrix.txt', 'w') as the_file:\n",
    "    idx = 0\n",
    "    for i in range(n + 1)[1:]:\n",
    "        for j in range(n + 1)[1:]:\n",
    "            if i != j: \n",
    "                the_file.write(\"%d,%d,%f\\n\" %(i, j, lam_list[idx]))\n",
    "                idx += 1"
   ]
  },
  {
   "cell_type": "code",
   "execution_count": 35,
   "metadata": {
    "collapsed": false
   },
   "outputs": [
    {
     "data": {
      "text/plain": [
       "[1.28326568563071e-08,\n",
       " 132317.91565476044,\n",
       " 121387.8283282293,\n",
       " 8.940064445506907e-06,\n",
       " 63826.04864740836,\n",
       " 1.110979162233152e-05,\n",
       " 2.0481892994238596e-05,\n",
       " 120303.68969267681,\n",
       " 7.943322558403066e-10,\n",
       " 91544.5780912974,\n",
       " 7.92374306922208e-10,\n",
       " 7.92441286601813e-10,\n",
       " 7.923859643541755e-10,\n",
       " 7.996545144069961e-10,\n",
       " 1.5639214041170656e-06,\n",
       " 3.484458713151877e-06,\n",
       " 1.5389040798815265e-06,\n",
       " 8.805674189602333e-06,\n",
       " 182384.98623645608,\n",
       " 279434.88496791804,\n",
       " 1.8889633990316207e-05,\n",
       " 1.5412065953410506e-05,\n",
       " 237834.24677651213,\n",
       " 85402.93464939862,\n",
       " 5.798327957556859e-05,\n",
       " 5.611326714059783e-05,\n",
       " 6.973199747743047e-05,\n",
       " 120195.11691761157,\n",
       " 183507.05843415068,\n",
       " 54878.942436623394,\n",
       " 195688.70937543458,\n",
       " 35254.639442121996,\n",
       " 92344.73156256636,\n",
       " 1.0798748992073021e-06,\n",
       " 80908.97046726948,\n",
       " 4.4134321307226845e-06,\n",
       " 1.3197503569574442e-05,\n",
       " 347834.1919611446,\n",
       " 7.0831725557177205e-06,\n",
       " 84395.66602366693,\n",
       " 170777.82214787893,\n",
       " 6570.220648076328,\n",
       " 6.906847588415569e-07,\n",
       " 3.9707094747210014e-06,\n",
       " 2.4758797382432376e-05,\n",
       " 2.0287477243740096e-06,\n",
       " 49918.39469603504,\n",
       " 357781.51968932,\n",
       " 6083.2465665859845,\n",
       " 1.5037236050914572e-06,\n",
       " 3.2455930068417925e-06,\n",
       " 6.572805987800634e-05,\n",
       " 136923.11131329625,\n",
       " 80837.14391369367,\n",
       " 1.4774148510863713e-05,\n",
       " 1.4704670996658342e-05]"
      ]
     },
     "execution_count": 35,
     "metadata": {},
     "output_type": "execute_result"
    }
   ],
   "source": [
    "lam_list"
   ]
  },
  {
   "cell_type": "code",
   "execution_count": 353,
   "metadata": {
    "collapsed": false
   },
   "outputs": [
    {
     "data": {
      "text/plain": [
       "matrix([[ 336090.2248882 ],\n",
       "        [ 347781.98764409],\n",
       "        [ 623611.08100628],\n",
       "        [ 646565.47043538],\n",
       "        [ 167366.58140388],\n",
       "        [ 222199.77728294],\n",
       "        [ 395021.98366766],\n",
       "        [ 404603.81413865],\n",
       "        [ 391869.05511341],\n",
       "        [ 407930.2842203 ],\n",
       "        [ 390596.28051459],\n",
       "        [ 360706.68193882],\n",
       "        [  99054.76534118],\n",
       "        [  97082.30249335],\n",
       "        [ 172763.26094238],\n",
       "        [ 146287.14855371],\n",
       "        [ 214727.44269757],\n",
       "        [ 210173.2555332 ],\n",
       "        [ 338221.96584561],\n",
       "        [ 348849.27868725],\n",
       "        [ 488463.61641117],\n",
       "        [ 557490.77861642],\n",
       "        [ 136489.90091001],\n",
       "        [ 139044.61460856]])"
      ]
     },
     "execution_count": 353,
     "metadata": {},
     "output_type": "execute_result"
    }
   ],
   "source": [
    "x[:,3]"
   ]
  },
  {
   "cell_type": "code",
   "execution_count": 320,
   "metadata": {
    "collapsed": false
   },
   "outputs": [
    {
     "data": {
      "text/plain": [
       "24"
      ]
     },
     "execution_count": 320,
     "metadata": {},
     "output_type": "execute_result"
    }
   ],
   "source": [
    "len(x[:,1])"
   ]
  },
  {
   "cell_type": "code",
   "execution_count": 321,
   "metadata": {
    "collapsed": false
   },
   "outputs": [
    {
     "data": {
      "text/plain": [
       "88"
      ]
     },
     "execution_count": 321,
     "metadata": {},
     "output_type": "execute_result"
    }
   ],
   "source": [
    "K"
   ]
  },
  {
   "cell_type": "code",
   "execution_count": null,
   "metadata": {
    "collapsed": true
   },
   "outputs": [],
   "source": []
  }
 ],
 "metadata": {
  "kernelspec": {
   "display_name": "Python 2",
   "language": "python",
   "name": "python2"
  },
  "language_info": {
   "codemirror_mode": {
    "name": "ipython",
    "version": 2
   },
   "file_extension": ".py",
   "mimetype": "text/x-python",
   "name": "python",
   "nbconvert_exporter": "python",
   "pygments_lexer": "ipython2",
   "version": "2.7.11"
  }
 },
 "nbformat": 4,
 "nbformat_minor": 0
}
