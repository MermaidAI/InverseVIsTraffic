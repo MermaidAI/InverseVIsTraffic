{
 "cells": [
  {
   "cell_type": "code",
   "execution_count": 1,
   "metadata": {
    "collapsed": true
   },
   "outputs": [],
   "source": [
    "%run ../Python_files/util_data_storage_and_load.py"
   ]
  },
  {
   "cell_type": "code",
   "execution_count": 2,
   "metadata": {
    "collapsed": true
   },
   "outputs": [],
   "source": [
    "%run ../Python_files/load_dicts.py"
   ]
  },
  {
   "cell_type": "code",
   "execution_count": 3,
   "metadata": {
    "collapsed": false
   },
   "outputs": [],
   "source": [
    "%run ../Python_files/util.py"
   ]
  },
  {
   "cell_type": "code",
   "execution_count": 4,
   "metadata": {
    "collapsed": true
   },
   "outputs": [],
   "source": [
    "# load logit_route_choice_probability_matrix\n",
    "P = zload('../temp_files/logit_route_choice_probability_matrix.pkz')"
   ]
  },
  {
   "cell_type": "code",
   "execution_count": 5,
   "metadata": {
    "collapsed": false
   },
   "outputs": [],
   "source": [
    "import numpy as np\n",
    "from numpy.linalg import inv\n",
    "\n",
    "P = np.matrix(P)"
   ]
  },
  {
   "cell_type": "code",
   "execution_count": 6,
   "metadata": {
    "collapsed": false
   },
   "outputs": [
    {
     "data": {
      "text/plain": [
       "(56, 140)"
      ]
     },
     "execution_count": 6,
     "metadata": {},
     "output_type": "execute_result"
    }
   ],
   "source": [
    "np.size(P, 0), np.size(P, 1)"
   ]
  },
  {
   "cell_type": "code",
   "execution_count": 7,
   "metadata": {
    "collapsed": true
   },
   "outputs": [],
   "source": [
    "import numpy as np\n",
    "from numpy.linalg import inv\n",
    "\n",
    "def samp_cov(x):\n",
    "    \"\"\"\n",
    "    x: sample matrix, each column is a link flow vector sample; 24 * K\n",
    "    K: number of samples\n",
    "    S: sample covariance matrix\n",
    "    ----------------\n",
    "    return: inv(S)\n",
    "    ----------------\n",
    "    \"\"\"\n",
    "    x = np.matrix(x)\n",
    "    K = np.size(x, 1)\n",
    "    x_mean = sum(x[:,k] for k in range(K)) / K\n",
    "    S = sum(np.dot(x[:,k] - x_mean, np.transpose(x[:,k] - x_mean)) for k in range(K)) / (K - 1)\n",
    "    return S"
   ]
  },
  {
   "cell_type": "code",
   "execution_count": 8,
   "metadata": {
    "collapsed": false
   },
   "outputs": [],
   "source": [
    "# load path-link incidence matrix\n",
    "A = zload('../temp_files/path-link_incidence_matrix.pkz')"
   ]
  },
  {
   "cell_type": "code",
   "execution_count": 9,
   "metadata": {
    "collapsed": false
   },
   "outputs": [],
   "source": [
    "# load link counts data\n",
    "\n",
    "import json\n",
    "\n",
    "with open('../temp_files/link_day_minute_Jul_dict_JSON.json', 'r') as json_file:\n",
    "    link_day_minute_Jul_dict_JSON = json.load(json_file)"
   ]
  },
  {
   "cell_type": "code",
   "execution_count": 10,
   "metadata": {
    "collapsed": true
   },
   "outputs": [],
   "source": [
    "weekend_Jul_list = [1, 7, 8, 14, 15, 21, 22, 28, 29]"
   ]
  },
  {
   "cell_type": "code",
   "execution_count": 11,
   "metadata": {
    "collapsed": false
   },
   "outputs": [],
   "source": [
    "link_day_minute_Jul_list = []\n",
    "for link_idx in range(24):\n",
    "    for day in weekend_Jul_list: \n",
    "        for minute_idx in range(120):\n",
    "            key = 'link_' + str(link_idx) + '_' + str(day)\n",
    "            link_day_minute_Jul_list.append(link_day_minute_Jul_dict_JSON[key] ['AM_flow_minute'][minute_idx])"
   ]
  },
  {
   "cell_type": "code",
   "execution_count": 12,
   "metadata": {
    "collapsed": false
   },
   "outputs": [
    {
     "data": {
      "text/plain": [
       "25920"
      ]
     },
     "execution_count": 12,
     "metadata": {},
     "output_type": "execute_result"
    }
   ],
   "source": [
    "len(link_day_minute_Jul_list)"
   ]
  },
  {
   "cell_type": "code",
   "execution_count": 13,
   "metadata": {
    "collapsed": false
   },
   "outputs": [],
   "source": [
    "x = np.matrix(link_day_minute_Jul_list)\n",
    "x = np.matrix.reshape(x, 24, 1080)\n",
    "\n",
    "x = np.nan_to_num(x)\n",
    "y = np.array(np.transpose(x))\n",
    "y = y[np.all(y != 0, axis=1)]\n",
    "x = np.transpose(y)\n",
    "x = np.matrix(x)"
   ]
  },
  {
   "cell_type": "code",
   "execution_count": 14,
   "metadata": {
    "collapsed": false
   },
   "outputs": [
    {
     "data": {
      "text/plain": [
       "matrix([[ 336752.83005355,  338352.11152615],\n",
       "        [ 351081.52796039,  356072.37715531],\n",
       "        [ 624819.17424071,  616402.34285139],\n",
       "        [ 696729.97210139,  678981.37087328],\n",
       "        [ 173440.06461621,  174520.83949704],\n",
       "        [ 210989.63528051,  214716.87762918],\n",
       "        [ 411376.59787012,  415763.388488  ],\n",
       "        [ 419995.80934705,  408775.11594838],\n",
       "        [ 393364.54516856,  381905.72280156],\n",
       "        [ 390106.08744141,  402705.90436935],\n",
       "        [ 374319.78936257,  380768.75741976],\n",
       "        [ 316670.36910445,  332595.54254673],\n",
       "        [  95513.88873282,   94198.86067832],\n",
       "        [ 105126.91116042,  100163.26835863],\n",
       "        [ 155827.9775564 ,  148908.76999296],\n",
       "        [ 143087.69344729,  128552.99340808],\n",
       "        [ 217670.39879191,  216223.56693787],\n",
       "        [ 217154.78149655,  216558.33179241],\n",
       "        [ 365115.3421185 ,  372794.48434694],\n",
       "        [ 323055.95616159,  333251.57909773],\n",
       "        [ 529657.80300225,  517077.28243598],\n",
       "        [ 519840.12097395,  517660.12784643],\n",
       "        [ 139816.51129588,  140328.84949854],\n",
       "        [ 143343.86012257,  139126.87140215]])"
      ]
     },
     "execution_count": 14,
     "metadata": {},
     "output_type": "execute_result"
    }
   ],
   "source": [
    "x[:,:2]"
   ]
  },
  {
   "cell_type": "code",
   "execution_count": 15,
   "metadata": {
    "collapsed": false
   },
   "outputs": [
    {
     "data": {
      "text/plain": [
       "(24, 1080)"
      ]
     },
     "execution_count": 15,
     "metadata": {},
     "output_type": "execute_result"
    }
   ],
   "source": [
    "np.size(x, 0), np.size(x, 1)"
   ]
  },
  {
   "cell_type": "code",
   "execution_count": 16,
   "metadata": {
    "collapsed": false
   },
   "outputs": [
    {
     "data": {
      "text/plain": [
       "(24, 140)"
      ]
     },
     "execution_count": 16,
     "metadata": {},
     "output_type": "execute_result"
    }
   ],
   "source": [
    "np.size(A,0), np.size(A,1)"
   ]
  },
  {
   "cell_type": "code",
   "execution_count": 17,
   "metadata": {
    "collapsed": false
   },
   "outputs": [
    {
     "name": "stdout",
     "output_type": "stream",
     "text": [
      "Optimize a model with 56 rows, 56 columns and 56 nonzeros\n",
      "Model has 1596 quadratic objective terms\n",
      "Coefficient statistics:\n",
      "  Matrix range    [1e+00, 1e+00]\n",
      "  Objective range [5e-02, 9e+00]\n",
      "  Bounds range    [0e+00, 0e+00]\n",
      "  RHS range       [0e+00, 0e+00]\n",
      "Presolve removed 56 rows and 0 columns\n",
      "Presolve time: 0.00s\n",
      "Presolved: 0 rows, 56 columns, 0 nonzeros\n",
      "Presolved model has 1596 quadratic objective terms\n",
      "Ordering time: 0.00s\n",
      "\n",
      "Barrier statistics:\n",
      " Free vars  : 24\n",
      " AA' NZ     : 2.760e+02\n",
      " Factor NZ  : 3.000e+02\n",
      " Factor Ops : 4.900e+03 (less than 1 second per iteration)\n",
      " Threads    : 1\n",
      "\n",
      "                  Objective                Residual\n",
      "Iter       Primal          Dual         Primal    Dual     Compl     Time\n",
      "   0  -1.15255358e+07  0.00000000e+00  5.03e+03 1.17e+03  1.00e+06     0s\n",
      "   1  -6.16650733e+06 -4.33269316e+06  1.06e+03 2.48e+02  2.42e+05     0s\n",
      "   2  -4.60469272e+06 -7.50055640e+06  1.06e-03 2.48e-04  5.17e+04     0s\n",
      "   3  -5.25101435e+06 -5.51143458e+06  1.58e-05 3.69e-06  4.65e+03     0s\n",
      "   4  -5.32185206e+06 -5.33860215e+06  1.83e-07 4.28e-08  2.99e+02     0s\n",
      "   5  -5.32913776e+06 -5.33381689e+06  9.97e-11 2.27e-13  8.36e+01     0s\n",
      "   6  -5.33068895e+06 -5.33086976e+06  1.39e-11 4.55e-13  3.23e+00     0s\n",
      "   7  -5.33078057e+06 -5.33080268e+06  1.48e-11 2.27e-13  3.95e-01     0s\n",
      "   8  -5.33078925e+06 -5.33079183e+06  1.26e-11 1.99e-13  4.61e-02     0s\n",
      "   9  -5.33079013e+06 -5.33079112e+06  1.58e-11 3.98e-13  1.77e-02     0s\n",
      "  10  -5.33079065e+06 -5.33079065e+06  1.88e-11 3.84e-13  3.20e-05     0s\n",
      "  11  -5.33079065e+06 -5.33079065e+06  8.47e-12 3.41e-13  4.41e-08     0s\n",
      "  12  -5.33079065e+06 -5.33079065e+06  9.09e-13 3.72e-11  3.33e-09     0s\n",
      "\n",
      "Barrier solved model in 12 iterations and 0.02 seconds\n",
      "Optimal objective -5.33079065e+06\n",
      "\n",
      "lam_0 2.22358e-08\n",
      "lam_1 42705.4\n",
      "lam_2 31768.6\n",
      "lam_3 25218.4\n",
      "lam_4 47551.5\n",
      "lam_5 163582\n",
      "lam_6 114410\n",
      "lam_7 1.40315e-07\n",
      "lam_8 1.37254e-09\n",
      "lam_9 260195\n",
      "lam_10 1.37254e-09\n",
      "lam_11 1.37254e-09\n",
      "lam_12 1.37254e-09\n",
      "lam_13 1.38179e-09\n",
      "lam_14 179955\n",
      "lam_15 4.75429e-09\n",
      "lam_16 3.20249e-07\n",
      "lam_17 123249\n",
      "lam_18 181368\n",
      "lam_19 5.84252e-05\n",
      "lam_20 0.000407978\n",
      "lam_21 200831\n",
      "lam_22 154053\n",
      "lam_23 6.68504e-07\n",
      "lam_24 52018.3\n",
      "lam_25 31657.5\n",
      "lam_26 2.84399e-05\n",
      "lam_27 141279\n",
      "lam_28 158154\n",
      "lam_29 4.75429e-09\n",
      "lam_30 6.24241e-07\n",
      "lam_31 66429.4\n",
      "lam_32 143729\n",
      "lam_33 1.43931e-06\n",
      "lam_34 0.000437911\n",
      "lam_35 237606\n",
      "lam_36 4.75429e-09\n",
      "lam_37 6.2336e-07\n",
      "lam_38 5.66293e-06\n",
      "lam_39 114371\n",
      "lam_40 499405\n",
      "lam_41 0.0013114\n",
      "lam_42 1.61154e-05\n",
      "lam_43 4.7529e-09\n",
      "lam_44 7.45134e-07\n",
      "lam_45 8.29391e-06\n",
      "lam_46 68582.1\n",
      "lam_47 555488\n",
      "lam_48 0.00088026\n",
      "lam_49 3.27699e-07\n",
      "lam_50 4.74557e-09\n",
      "lam_51 3.26659e-07\n",
      "lam_52 206996\n",
      "lam_53 119235\n",
      "lam_54 3.3328e-07\n",
      "lam_55 3.33286e-07\n",
      "Obj: -5.32901e+06\n"
     ]
    }
   ],
   "source": [
    "from gurobipy import *\n",
    "\n",
    "L = 56  # dimension of lam\n",
    "\n",
    "K = np.size(x, 1)\n",
    "S = samp_cov(x)\n",
    "inv_S = inv(S)\n",
    "\n",
    "A_t = np.transpose(A)\n",
    "P_t = np.transpose(P)\n",
    "# PA'\n",
    "PA_t = np.dot(P, A_t)\n",
    "# AP_t\n",
    "AP_t = np.transpose(PA_t)\n",
    "\n",
    "Q = np.dot(np.dot(PA_t, inv_S), AP_t)\n",
    "b = sum([np.dot(np.dot(PA_t, inv_S), x[:, k]) for k in range(K)])\n",
    "\n",
    "\n",
    "model = Model(\"OD_matrix_estimation\")\n",
    "\n",
    "lam = []\n",
    "for l in range(L):\n",
    "    lam.append(model.addVar(name='lam_' + str(l)))\n",
    "\n",
    "model.update() \n",
    "\n",
    "# Set objective: (K/2) lam' * Q * lam - b * lam\n",
    "obj = 0\n",
    "for i in range(L):\n",
    "    for j in range(L):\n",
    "        obj += (1.0 /2) * K * lam[i] * Q[i, j] * lam[j]\n",
    "for l in range(L):\n",
    "    obj += - b[l] * lam[l]\n",
    "model.setObjective(obj)\n",
    "\n",
    "# Add constraint: lam >= 0\n",
    "for l in range(L):\n",
    "    model.addConstr(lam[l] >= 0)\n",
    "\n",
    "model.update() \n",
    "\n",
    "model.optimize()\n",
    "\n",
    "lam_list = []\n",
    "for v in model.getVars():\n",
    "    print('%s %g' % (v.varName, v.x))\n",
    "    lam_list.append(v.x)\n",
    "print('Obj: %g' % obj.getValue())"
   ]
  },
  {
   "cell_type": "code",
   "execution_count": 18,
   "metadata": {
    "collapsed": true
   },
   "outputs": [],
   "source": [
    "# write estimation result to file\n",
    "n = 8  # number of nodes\n",
    "with open('../temp_files/OD_demand_matrix_Jul_weekend.txt', 'w') as the_file:\n",
    "    idx = 0\n",
    "    for i in range(n + 1)[1:]:\n",
    "        for j in range(n + 1)[1:]:\n",
    "            if i != j: \n",
    "                the_file.write(\"%d,%d,%f\\n\" %(i, j, lam_list[idx]))\n",
    "                idx += 1"
   ]
  },
  {
   "cell_type": "code",
   "execution_count": 19,
   "metadata": {
    "collapsed": false
   },
   "outputs": [
    {
     "data": {
      "text/plain": [
       "[2.2235800811650188e-08,\n",
       " 42705.417343278896,\n",
       " 31768.62491515207,\n",
       " 25218.443007523867,\n",
       " 47551.49184274774,\n",
       " 163582.05128469673,\n",
       " 114409.63851685883,\n",
       " 1.4031538148683214e-07,\n",
       " 1.372540179583016e-09,\n",
       " 260194.66224446098,\n",
       " 1.3725397439148622e-09,\n",
       " 1.3725399466905032e-09,\n",
       " 1.372540070522015e-09,\n",
       " 1.3817883771514293e-09,\n",
       " 179955.26400238724,\n",
       " 4.754290050722487e-09,\n",
       " 3.2024898431528826e-07,\n",
       " 123248.69936553434,\n",
       " 181367.95739589556,\n",
       " 5.842517918925715e-05,\n",
       " 0.0004079777575781724,\n",
       " 200831.3905532728,\n",
       " 154052.8646898536,\n",
       " 6.685038487090191e-07,\n",
       " 52018.26291014948,\n",
       " 31657.50721511805,\n",
       " 2.8439946080774598e-05,\n",
       " 141279.47244208146,\n",
       " 158153.9442423241,\n",
       " 4.754290302942707e-09,\n",
       " 6.242410421697779e-07,\n",
       " 66429.35346867538,\n",
       " 143728.98034212508,\n",
       " 1.4393142708692475e-06,\n",
       " 0.00043791111374058035,\n",
       " 237605.70015698753,\n",
       " 4.754291467298952e-09,\n",
       " 6.233595996210347e-07,\n",
       " 5.662927546390824e-06,\n",
       " 114371.47017303112,\n",
       " 499404.6070039869,\n",
       " 0.0013114006186109861,\n",
       " 1.6115362646048666e-05,\n",
       " 4.752900021067136e-09,\n",
       " 7.451341698072822e-07,\n",
       " 8.293906835399561e-06,\n",
       " 68582.0674693156,\n",
       " 555488.3353215524,\n",
       " 0.0008802598835728308,\n",
       " 3.276990096102012e-07,\n",
       " 4.745568790458071e-09,\n",
       " 3.2665853923669005e-07,\n",
       " 206996.11655289223,\n",
       " 119234.9117638106,\n",
       " 3.332802407726763e-07,\n",
       " 3.332858706079787e-07]"
      ]
     },
     "execution_count": 19,
     "metadata": {},
     "output_type": "execute_result"
    }
   ],
   "source": [
    "lam_list"
   ]
  },
  {
   "cell_type": "code",
   "execution_count": null,
   "metadata": {
    "collapsed": true
   },
   "outputs": [],
   "source": []
  }
 ],
 "metadata": {
  "kernelspec": {
   "display_name": "Python 2",
   "language": "python",
   "name": "python2"
  },
  "language_info": {
   "codemirror_mode": {
    "name": "ipython",
    "version": 2
   },
   "file_extension": ".py",
   "mimetype": "text/x-python",
   "name": "python",
   "nbconvert_exporter": "python",
   "pygments_lexer": "ipython2",
   "version": "2.7.11"
  }
 },
 "nbformat": 4,
 "nbformat_minor": 0
}
