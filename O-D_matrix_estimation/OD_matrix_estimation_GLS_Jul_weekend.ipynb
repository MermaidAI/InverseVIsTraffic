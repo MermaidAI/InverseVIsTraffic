{
 "cells": [
  {
   "cell_type": "code",
   "execution_count": 1,
   "metadata": {
    "collapsed": true
   },
   "outputs": [],
   "source": [
    "%run ../Python_files/util_data_storage_and_load.py"
   ]
  },
  {
   "cell_type": "code",
   "execution_count": 2,
   "metadata": {
    "collapsed": true
   },
   "outputs": [],
   "source": [
    "%run ../Python_files/load_dicts.py"
   ]
  },
  {
   "cell_type": "code",
   "execution_count": 3,
   "metadata": {
    "collapsed": false
   },
   "outputs": [],
   "source": [
    "%run ../Python_files/util.py"
   ]
  },
  {
   "cell_type": "code",
   "execution_count": 4,
   "metadata": {
    "collapsed": true
   },
   "outputs": [],
   "source": [
    "# load logit_route_choice_probability_matrix\n",
    "P = zload('../temp_files/logit_route_choice_probability_matrix.pkz')"
   ]
  },
  {
   "cell_type": "code",
   "execution_count": 5,
   "metadata": {
    "collapsed": false
   },
   "outputs": [],
   "source": [
    "import numpy as np\n",
    "from numpy.linalg import inv\n",
    "\n",
    "P = np.matrix(P)"
   ]
  },
  {
   "cell_type": "code",
   "execution_count": 6,
   "metadata": {
    "collapsed": false
   },
   "outputs": [
    {
     "data": {
      "text/plain": [
       "(56, 140)"
      ]
     },
     "execution_count": 6,
     "metadata": {},
     "output_type": "execute_result"
    }
   ],
   "source": [
    "np.size(P, 0), np.size(P, 1)"
   ]
  },
  {
   "cell_type": "code",
   "execution_count": 7,
   "metadata": {
    "collapsed": true
   },
   "outputs": [],
   "source": [
    "import numpy as np\n",
    "from numpy.linalg import inv\n",
    "\n",
    "def samp_cov(x):\n",
    "    \"\"\"\n",
    "    x: sample matrix, each column is a link flow vector sample; 24 * K\n",
    "    K: number of samples\n",
    "    S: sample covariance matrix\n",
    "    ----------------\n",
    "    return: inv(S)\n",
    "    ----------------\n",
    "    \"\"\"\n",
    "    x = np.matrix(x)\n",
    "    K = np.size(x, 1)\n",
    "    x_mean = sum(x[:,k] for k in range(K)) / K\n",
    "    S = sum(np.dot(x[:,k] - x_mean, np.transpose(x[:,k] - x_mean)) for k in range(K)) / (K - 1)\n",
    "    return S"
   ]
  },
  {
   "cell_type": "code",
   "execution_count": 8,
   "metadata": {
    "collapsed": false
   },
   "outputs": [],
   "source": [
    "# load path-link incidence matrix\n",
    "A = zload('../temp_files/path-link_incidence_matrix.pkz')"
   ]
  },
  {
   "cell_type": "code",
   "execution_count": 9,
   "metadata": {
    "collapsed": false
   },
   "outputs": [],
   "source": [
    "# load link counts data\n",
    "\n",
    "import json\n",
    "\n",
    "with open('../temp_files/link_day_minute_Jul_dict_JSON.json', 'r') as json_file:\n",
    "    link_day_minute_Jul_dict_JSON = json.load(json_file)"
   ]
  },
  {
   "cell_type": "code",
   "execution_count": 10,
   "metadata": {
    "collapsed": true
   },
   "outputs": [],
   "source": [
    "weekend_Jul_list = [1, 7, 8, 14, 15, 21, 22, 28, 29]"
   ]
  },
  {
   "cell_type": "code",
   "execution_count": 11,
   "metadata": {
    "collapsed": false
   },
   "outputs": [],
   "source": [
    "link_day_minute_Jul_list = []\n",
    "for link_idx in range(24):\n",
    "    for day in weekend_Jul_list: \n",
    "        for minute_idx in range(120):\n",
    "            key = 'link_' + str(link_idx) + '_' + str(day)\n",
    "            link_day_minute_Jul_list.append(link_day_minute_Jul_dict_JSON[key] ['AM_flow_minute'][minute_idx])"
   ]
  },
  {
   "cell_type": "code",
   "execution_count": 12,
   "metadata": {
    "collapsed": false
   },
   "outputs": [
    {
     "data": {
      "text/plain": [
       "25920"
      ]
     },
     "execution_count": 12,
     "metadata": {},
     "output_type": "execute_result"
    }
   ],
   "source": [
    "len(link_day_minute_Jul_list)"
   ]
  },
  {
   "cell_type": "code",
   "execution_count": 13,
   "metadata": {
    "collapsed": false
   },
   "outputs": [],
   "source": [
    "x = np.matrix(link_day_minute_Jul_list)\n",
    "x = np.matrix.reshape(x, 24, 1080)\n",
    "\n",
    "x = np.nan_to_num(x)\n",
    "y = np.array(np.transpose(x))\n",
    "y = y[np.all(y != 0, axis=1)]\n",
    "x = np.transpose(y)\n",
    "x = np.matrix(x)"
   ]
  },
  {
   "cell_type": "code",
   "execution_count": 14,
   "metadata": {
    "collapsed": false
   },
   "outputs": [
    {
     "data": {
      "text/plain": [
       "matrix([[ 1258.89024531,  1201.74712093],\n",
       "        [ 1194.93780542,  1238.17293138],\n",
       "        [ 1502.40689022,  1494.93635626],\n",
       "        [ 1603.53657513,  1580.34259714],\n",
       "        [ 1577.71479814,  1573.80777583],\n",
       "        [ 1454.47529121,  1536.92167653],\n",
       "        [ 1282.88403361,  1304.0562683 ],\n",
       "        [ 1316.01687384,  1270.31106743],\n",
       "        [ 1714.87378275,  1670.24551043],\n",
       "        [ 1658.36933114,  1710.70823719],\n",
       "        [ 1379.07932164,  1464.64591842],\n",
       "        [ 1219.23085193,  1252.6758417 ],\n",
       "        [ 1220.91763612,  1185.42650029],\n",
       "        [ 1403.42682395,  1340.54667541],\n",
       "        [ 1221.31801238,  1231.51334839],\n",
       "        [  994.11196795,   934.13661458],\n",
       "        [ 1287.37499386,  1265.70771788],\n",
       "        [ 1263.88313256,  1276.02890664],\n",
       "        [ 1524.82573109,  1534.85972907],\n",
       "        [ 1466.7556654 ,  1552.45551973],\n",
       "        [ 1454.61141155,  1456.04710115],\n",
       "        [ 1354.78903309,  1350.41971678],\n",
       "        [ 1275.23711794,  1277.92862194],\n",
       "        [ 1295.40842208,  1254.123379  ]])"
      ]
     },
     "execution_count": 14,
     "metadata": {},
     "output_type": "execute_result"
    }
   ],
   "source": [
    "x[:,:2]"
   ]
  },
  {
   "cell_type": "code",
   "execution_count": 15,
   "metadata": {
    "collapsed": false
   },
   "outputs": [
    {
     "data": {
      "text/plain": [
       "(24, 1080)"
      ]
     },
     "execution_count": 15,
     "metadata": {},
     "output_type": "execute_result"
    }
   ],
   "source": [
    "np.size(x, 0), np.size(x, 1)"
   ]
  },
  {
   "cell_type": "code",
   "execution_count": 16,
   "metadata": {
    "collapsed": false
   },
   "outputs": [
    {
     "data": {
      "text/plain": [
       "(24, 140)"
      ]
     },
     "execution_count": 16,
     "metadata": {},
     "output_type": "execute_result"
    }
   ],
   "source": [
    "np.size(A,0), np.size(A,1)"
   ]
  },
  {
   "cell_type": "code",
   "execution_count": 17,
   "metadata": {
    "collapsed": false
   },
   "outputs": [
    {
     "name": "stdout",
     "output_type": "stream",
     "text": [
      "Optimize a model with 56 rows, 56 columns and 56 nonzeros\n",
      "Model has 1596 quadratic objective terms\n",
      "Coefficient statistics:\n",
      "  Matrix range    [1e+00, 1e+00]\n",
      "  Objective range [2e+01, 2e+03]\n",
      "  Bounds range    [0e+00, 0e+00]\n",
      "  RHS range       [0e+00, 0e+00]\n",
      "Warning: diagonal adjustment of 1.8e-08 performed to make Q PSD\n",
      "Presolve removed 56 rows and 0 columns\n",
      "Presolve time: 0.00s\n",
      "Presolved: 0 rows, 56 columns, 0 nonzeros\n",
      "Presolved model has 1596 quadratic objective terms\n",
      "Ordering time: 0.00s\n",
      "\n",
      "Barrier statistics:\n",
      " Free vars  : 25\n",
      " AA' NZ     : 3.000e+02\n",
      " Factor NZ  : 3.250e+02\n",
      " Factor Ops : 5.525e+03 (less than 1 second per iteration)\n",
      " Threads    : 1\n",
      "\n",
      "                  Objective                Residual\n",
      "Iter       Primal          Dual         Primal    Dual     Compl     Time\n",
      "   0  -2.20675904e+07  0.00000000e+00  7.85e+03 1.25e+03  1.00e+06     0s\n",
      "   1  -6.21270921e+06 -7.07104069e+06  9.76e+02 1.56e+02  2.03e+05     0s\n",
      "   2  -4.43580276e+06 -5.67739594e+06  3.62e+01 5.77e+00  2.74e+04     0s\n",
      "   3  -4.58802554e+06 -4.69325391e+06  3.62e-05 5.77e-06  1.88e+03     0s\n",
      "   4  -4.60694368e+06 -4.61088926e+06  1.39e-07 2.22e-08  7.05e+01     0s\n",
      "   5  -4.60960751e+06 -4.61002960e+06  1.67e-09 9.09e-13  7.54e+00     0s\n",
      "   6  -4.60995832e+06 -4.60996522e+06  6.72e-10 5.68e-13  1.23e-01     0s\n",
      "   7  -4.60996364e+06 -4.60996497e+06  2.32e-10 6.82e-13  2.38e-02     0s\n",
      "   8  -4.60996382e+06 -4.60996391e+06  1.52e-11 6.82e-13  1.52e-03     0s\n",
      "   9  -4.60996385e+06 -4.60996386e+06  1.15e-11 5.68e-13  2.03e-04     0s\n",
      "  10  -4.60996386e+06 -4.60996386e+06  1.23e-11 6.82e-13  3.18e-05     0s\n",
      "  11  -4.60996386e+06 -4.60996386e+06  3.82e-11 5.68e-13  2.38e-06     0s\n",
      "  12  -4.60996386e+06 -4.60996386e+06  1.49e-10 2.27e-13  4.96e-07     0s\n",
      "  13  -4.60996386e+06 -4.60996386e+06  6.53e-11 3.41e-13  1.36e-07     0s\n",
      "  14  -4.60996386e+06 -4.60996386e+06  1.57e-11 1.61e-11  5.75e-10     0s\n",
      "\n",
      "Barrier solved model in 14 iterations and 0.02 seconds\n",
      "Optimal objective -4.60996386e+06\n",
      "\n",
      "lam_0 2.9109e-12\n",
      "lam_1 1432\n",
      "lam_2 3.22842e-12\n",
      "lam_3 0.000187055\n",
      "lam_4 1492.41\n",
      "lam_5 0.000351123\n",
      "lam_6 9.74241e-10\n",
      "lam_7 709.017\n",
      "lam_8 1.57985e-11\n",
      "lam_9 1337.4\n",
      "lam_10 1.57985e-11\n",
      "lam_11 1.57985e-11\n",
      "lam_12 1.57985e-11\n",
      "lam_13 1.58891e-11\n",
      "lam_14 1697.03\n",
      "lam_15 0.000324164\n",
      "lam_16 0.00234914\n",
      "lam_17 1579.89\n",
      "lam_18 0.000127401\n",
      "lam_19 0.00034139\n",
      "lam_20 0.000239778\n",
      "lam_21 4.81928e-07\n",
      "lam_22 1293.14\n",
      "lam_23 0.000225878\n",
      "lam_24 0.00340102\n",
      "lam_25 1228.19\n",
      "lam_26 0.00385542\n",
      "lam_27 1212.25\n",
      "lam_28 292.883\n",
      "lam_29 0.000169362\n",
      "lam_30 0.000229405\n",
      "lam_31 1167.35\n",
      "lam_32 102.911\n",
      "lam_33 46.6641\n",
      "lam_34 1312.35\n",
      "lam_35 3.78504e-07\n",
      "lam_36 3.78054e-07\n",
      "lam_37 3.7851e-07\n",
      "lam_38 0.00237799\n",
      "lam_39 835.131\n",
      "lam_40 1464.88\n",
      "lam_41 0.000478804\n",
      "lam_42 0.0986985\n",
      "lam_43 0.000312658\n",
      "lam_44 1449.08\n",
      "lam_45 0.000445427\n",
      "lam_46 0.000560361\n",
      "lam_47 249.954\n",
      "lam_48 0.000478452\n",
      "lam_49 0.00050315\n",
      "lam_50 999.787\n",
      "lam_51 62.2875\n",
      "lam_52 1307.1\n",
      "lam_53 202.148\n",
      "lam_54 0.000355082\n",
      "lam_55 0.000337713\n",
      "Obj: -4.60997e+06\n"
     ]
    }
   ],
   "source": [
    "from gurobipy import *\n",
    "\n",
    "L = 56  # dimension of lam\n",
    "\n",
    "K = np.size(x, 1)\n",
    "S = samp_cov(x)\n",
    "inv_S = inv(S)\n",
    "\n",
    "A_t = np.transpose(A)\n",
    "P_t = np.transpose(P)\n",
    "# PA'\n",
    "PA_t = np.dot(P, A_t)\n",
    "# AP_t\n",
    "AP_t = np.transpose(PA_t)\n",
    "\n",
    "Q = np.dot(np.dot(PA_t, inv_S), AP_t)\n",
    "b = sum([np.dot(np.dot(PA_t, inv_S), x[:, k]) for k in range(K)])\n",
    "\n",
    "\n",
    "model = Model(\"OD_matrix_estimation\")\n",
    "\n",
    "lam = []\n",
    "for l in range(L):\n",
    "    lam.append(model.addVar(name='lam_' + str(l)))\n",
    "\n",
    "model.update() \n",
    "\n",
    "# Set objective: (K/2) lam' * Q * lam - b' * lam\n",
    "obj = 0\n",
    "for i in range(L):\n",
    "    for j in range(L):\n",
    "        obj += (1.0 /2) * K * lam[i] * Q[i, j] * lam[j]\n",
    "for l in range(L):\n",
    "    obj += - b[l] * lam[l]\n",
    "model.setObjective(obj)\n",
    "\n",
    "# Add constraint: lam >= 0\n",
    "for l in range(L):\n",
    "    model.addConstr(lam[l] >= 0)\n",
    "\n",
    "model.update() \n",
    "\n",
    "model.optimize()\n",
    "\n",
    "lam_list = []\n",
    "for v in model.getVars():\n",
    "    print('%s %g' % (v.varName, v.x))\n",
    "    lam_list.append(v.x)\n",
    "print('Obj: %g' % obj.getValue())"
   ]
  },
  {
   "cell_type": "code",
   "execution_count": 18,
   "metadata": {
    "collapsed": true
   },
   "outputs": [],
   "source": [
    "# write estimation result to file\n",
    "n = 8  # number of nodes\n",
    "with open('../temp_files/OD_demand_matrix_Jul_weekend.txt', 'w') as the_file:\n",
    "    idx = 0\n",
    "    for i in range(n + 1)[1:]:\n",
    "        for j in range(n + 1)[1:]:\n",
    "            if i != j: \n",
    "                the_file.write(\"%d,%d,%f\\n\" %(i, j, lam_list[idx]))\n",
    "                idx += 1"
   ]
  },
  {
   "cell_type": "code",
   "execution_count": 19,
   "metadata": {
    "collapsed": false
   },
   "outputs": [
    {
     "data": {
      "text/plain": [
       "[2.9108955310611194e-12,\n",
       " 1432.0005386537175,\n",
       " 3.228419669820923e-12,\n",
       " 0.00018705455072470095,\n",
       " 1492.407514252264,\n",
       " 0.0003511228329137056,\n",
       " 9.742406677657194e-10,\n",
       " 709.0169640595683,\n",
       " 1.5798519180442592e-11,\n",
       " 1337.4025180235944,\n",
       " 1.5798520209690607e-11,\n",
       " 1.579851569011057e-11,\n",
       " 1.579851846503724e-11,\n",
       " 1.5889118074744406e-11,\n",
       " 1697.0272345435044,\n",
       " 0.00032416418691980087,\n",
       " 0.0023491447420103673,\n",
       " 1579.8886582804473,\n",
       " 0.00012740141250944248,\n",
       " 0.00034138973318409427,\n",
       " 0.00023977772430856803,\n",
       " 4.819283553175171e-07,\n",
       " 1293.1389827285673,\n",
       " 0.00022587776115499947,\n",
       " 0.003401022544535781,\n",
       " 1228.1939924493013,\n",
       " 0.0038554224376168185,\n",
       " 1212.2529460460225,\n",
       " 292.8831001094382,\n",
       " 0.00016936201287617164,\n",
       " 0.00022940532027532212,\n",
       " 1167.3545547690867,\n",
       " 102.91128073215057,\n",
       " 46.66408983053495,\n",
       " 1312.3473667459382,\n",
       " 3.7850353492304247e-07,\n",
       " 3.780541677966202e-07,\n",
       " 3.785099189049679e-07,\n",
       " 0.0023779860896865346,\n",
       " 835.1307897828692,\n",
       " 1464.880038387798,\n",
       " 0.0004788041772373769,\n",
       " 0.0986984841328713,\n",
       " 0.0003126583627975771,\n",
       " 1449.084226699296,\n",
       " 0.00044542697923785624,\n",
       " 0.0005603610925843105,\n",
       " 249.9538786286129,\n",
       " 0.00047845169968711854,\n",
       " 0.0005031497129867335,\n",
       " 999.7868737118971,\n",
       " 62.28750073729025,\n",
       " 1307.0999968164585,\n",
       " 202.14789039353283,\n",
       " 0.00035508187061319973,\n",
       " 0.0003377126611204123]"
      ]
     },
     "execution_count": 19,
     "metadata": {},
     "output_type": "execute_result"
    }
   ],
   "source": [
    "lam_list"
   ]
  },
  {
   "cell_type": "code",
   "execution_count": null,
   "metadata": {
    "collapsed": true
   },
   "outputs": [],
   "source": []
  }
 ],
 "metadata": {
  "kernelspec": {
   "display_name": "Python 2",
   "language": "python",
   "name": "python2"
  },
  "language_info": {
   "codemirror_mode": {
    "name": "ipython",
    "version": 2
   },
   "file_extension": ".py",
   "mimetype": "text/x-python",
   "name": "python",
   "nbconvert_exporter": "python",
   "pygments_lexer": "ipython2",
   "version": "2.7.11"
  }
 },
 "nbformat": 4,
 "nbformat_minor": 0
}
