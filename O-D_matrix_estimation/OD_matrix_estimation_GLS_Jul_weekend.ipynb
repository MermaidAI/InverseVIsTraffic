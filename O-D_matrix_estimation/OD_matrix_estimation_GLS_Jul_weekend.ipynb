{
 "cells": [
  {
   "cell_type": "code",
   "execution_count": 1,
   "metadata": {
    "collapsed": true
   },
   "outputs": [],
   "source": [
    "%run ../Python_files/util_data_storage_and_load.py"
   ]
  },
  {
   "cell_type": "code",
   "execution_count": 2,
   "metadata": {
    "collapsed": true
   },
   "outputs": [],
   "source": [
    "%run ../Python_files/load_dicts.py"
   ]
  },
  {
   "cell_type": "code",
   "execution_count": 3,
   "metadata": {
    "collapsed": false
   },
   "outputs": [],
   "source": [
    "%run ../Python_files/util.py"
   ]
  },
  {
   "cell_type": "code",
   "execution_count": 4,
   "metadata": {
    "collapsed": true
   },
   "outputs": [],
   "source": [
    "# load logit_route_choice_probability_matrix\n",
    "P = zload('../temp_files/logit_route_choice_probability_matrix.pkz')"
   ]
  },
  {
   "cell_type": "code",
   "execution_count": 5,
   "metadata": {
    "collapsed": false
   },
   "outputs": [],
   "source": [
    "import numpy as np\n",
    "from numpy.linalg import inv\n",
    "\n",
    "P = np.matrix(P)"
   ]
  },
  {
   "cell_type": "code",
   "execution_count": 6,
   "metadata": {
    "collapsed": false
   },
   "outputs": [
    {
     "data": {
      "text/plain": [
       "(56, 140)"
      ]
     },
     "execution_count": 6,
     "metadata": {},
     "output_type": "execute_result"
    }
   ],
   "source": [
    "np.size(P, 0), np.size(P, 1)"
   ]
  },
  {
   "cell_type": "code",
   "execution_count": 7,
   "metadata": {
    "collapsed": true
   },
   "outputs": [],
   "source": [
    "import numpy as np\n",
    "from numpy.linalg import inv\n",
    "\n",
    "def samp_cov(x):\n",
    "    \"\"\"\n",
    "    x: sample matrix, each column is a link flow vector sample; 24 * K\n",
    "    K: number of samples\n",
    "    S: sample covariance matrix\n",
    "    ----------------\n",
    "    return: inv(S)\n",
    "    ----------------\n",
    "    \"\"\"\n",
    "    x = np.matrix(x)\n",
    "    K = np.size(x, 1)\n",
    "    x_mean = sum(x[:,k] for k in range(K)) / K\n",
    "    S = sum(np.dot(x[:,k] - x_mean, np.transpose(x[:,k] - x_mean)) for k in range(K)) / (K - 1)\n",
    "    return S"
   ]
  },
  {
   "cell_type": "code",
   "execution_count": 8,
   "metadata": {
    "collapsed": false
   },
   "outputs": [],
   "source": [
    "# load path-link incidence matrix\n",
    "A = zload('../temp_files/path-link_incidence_matrix.pkz')"
   ]
  },
  {
   "cell_type": "code",
   "execution_count": 9,
   "metadata": {
    "collapsed": false
   },
   "outputs": [],
   "source": [
    "# load link counts data\n",
    "\n",
    "import json\n",
    "\n",
    "with open('../temp_files/link_day_minute_Jul_dict_JSON.json', 'r') as json_file:\n",
    "    link_day_minute_Jul_dict_JSON = json.load(json_file)"
   ]
  },
  {
   "cell_type": "code",
   "execution_count": 10,
   "metadata": {
    "collapsed": true
   },
   "outputs": [],
   "source": [
    "weekend_Jul_list = [1, 7, 8, 14, 15, 21, 22, 28, 29]"
   ]
  },
  {
   "cell_type": "code",
   "execution_count": 11,
   "metadata": {
    "collapsed": false
   },
   "outputs": [],
   "source": [
    "link_day_minute_Jul_list = []\n",
    "for link_idx in range(24):\n",
    "    for day in weekend_Jul_list: \n",
    "        for minute_idx in range(120):\n",
    "            key = 'link_' + str(link_idx) + '_' + str(day)\n",
    "            link_day_minute_Jul_list.append(link_day_minute_Jul_dict_JSON[key] ['AM_flow_minute'][minute_idx])"
   ]
  },
  {
   "cell_type": "code",
   "execution_count": 12,
   "metadata": {
    "collapsed": false
   },
   "outputs": [
    {
     "data": {
      "text/plain": [
       "25920"
      ]
     },
     "execution_count": 12,
     "metadata": {},
     "output_type": "execute_result"
    }
   ],
   "source": [
    "len(link_day_minute_Jul_list)"
   ]
  },
  {
   "cell_type": "code",
   "execution_count": 13,
   "metadata": {
    "collapsed": false
   },
   "outputs": [],
   "source": [
    "x = np.matrix(link_day_minute_Jul_list)\n",
    "x = np.matrix.reshape(x, 24, 1080)\n",
    "\n",
    "x = np.nan_to_num(x)\n",
    "y = np.array(np.transpose(x))\n",
    "y = y[np.all(y != 0, axis=1)]\n",
    "x = np.transpose(y)\n",
    "x = np.matrix(x)"
   ]
  },
  {
   "cell_type": "code",
   "execution_count": 14,
   "metadata": {
    "collapsed": false
   },
   "outputs": [
    {
     "data": {
      "text/plain": [
       "matrix([[ 2921.6936757 ,  1542.79974226],\n",
       "        [ 2436.9682986 ,  3499.63661529],\n",
       "        [ 3759.05641009,  3641.25236258],\n",
       "        [ 5627.25643956,  5230.57258943],\n",
       "        [ 4826.52575298,  4745.26914424],\n",
       "        [ 1627.79604823,  2600.11964125],\n",
       "        [ 3207.73085053,  3826.71238546],\n",
       "        [ 3870.54522946,  3135.52301083],\n",
       "        [ 4429.79428332,  3706.90359387],\n",
       "        [ 4473.6744229 ,  5195.46482137],\n",
       "        [ 3155.67796838,  4790.42706306],\n",
       "        [ 4228.81344028,  4452.26408732],\n",
       "        [ 3462.34304237,  2385.23806519],\n",
       "        [ 4726.48323431,  2832.50174502],\n",
       "        [ 1421.72349669,  2235.68006175],\n",
       "        [ 1794.43681305,  1716.69206256],\n",
       "        [ 3494.697493  ,  2827.83781317],\n",
       "        [ 2881.37535551,  2861.20278105],\n",
       "        [ 3088.83581163,  3041.22053895],\n",
       "        [ 2753.34902367,  3533.88854191],\n",
       "        [ 2906.85168423,  2620.25695734],\n",
       "        [ 1339.67495088,  1544.25826859],\n",
       "        [ 3433.22243065,  3498.46490127],\n",
       "        [ 3760.23807314,  3227.71935079]])"
      ]
     },
     "execution_count": 14,
     "metadata": {},
     "output_type": "execute_result"
    }
   ],
   "source": [
    "x[:,:2]"
   ]
  },
  {
   "cell_type": "code",
   "execution_count": 15,
   "metadata": {
    "collapsed": false
   },
   "outputs": [
    {
     "data": {
      "text/plain": [
       "(24, 1079)"
      ]
     },
     "execution_count": 15,
     "metadata": {},
     "output_type": "execute_result"
    }
   ],
   "source": [
    "np.size(x, 0), np.size(x, 1)"
   ]
  },
  {
   "cell_type": "code",
   "execution_count": 16,
   "metadata": {
    "collapsed": false
   },
   "outputs": [
    {
     "data": {
      "text/plain": [
       "(24, 140)"
      ]
     },
     "execution_count": 16,
     "metadata": {},
     "output_type": "execute_result"
    }
   ],
   "source": [
    "np.size(A,0), np.size(A,1)"
   ]
  },
  {
   "cell_type": "code",
   "execution_count": 17,
   "metadata": {
    "collapsed": false
   },
   "outputs": [
    {
     "name": "stdout",
     "output_type": "stream",
     "text": [
      "Optimize a model with 56 rows, 56 columns and 56 nonzeros\n",
      "Model has 1596 quadratic objective terms\n",
      "Coefficient statistics:\n",
      "  Matrix range    [1e+00, 1e+00]\n",
      "  Objective range [5e-03, 9e+00]\n",
      "  Bounds range    [0e+00, 0e+00]\n",
      "  RHS range       [0e+00, 0e+00]\n",
      "Presolve removed 56 rows and 0 columns\n",
      "Presolve time: 0.00s\n",
      "Presolved: 0 rows, 56 columns, 0 nonzeros\n",
      "Presolved model has 1596 quadratic objective terms\n",
      "Ordering time: 0.00s\n",
      "\n",
      "Barrier statistics:\n",
      " Free vars  : 24\n",
      " AA' NZ     : 2.760e+02\n",
      " Factor NZ  : 3.000e+02\n",
      " Factor Ops : 4.900e+03 (less than 1 second per iteration)\n",
      " Threads    : 1\n",
      "\n",
      "                  Objective                Residual\n",
      "Iter       Primal          Dual         Primal    Dual     Compl     Time\n",
      "   0  -1.86337034e+06  0.00000000e+00  6.73e+03 1.23e+02  9.52e+05     0s\n",
      "   1   1.42811618e+06 -2.20141195e+06  9.81e+02 1.37e+02  2.01e+05     0s\n",
      "   2   6.71146001e+05 -1.02036764e+06  6.92e+00 8.41e-01  3.08e+04     0s\n",
      "   3   3.63537562e+04 -2.10860988e+05  6.92e-06 5.68e-14  4.41e+03     0s\n",
      "   4  -4.05014452e+04 -7.23429214e+04  7.45e-12 3.55e-14  5.69e+02     0s\n",
      "   5  -4.73718803e+04 -5.02028655e+04  1.93e-12 2.84e-14  5.06e+01     0s\n",
      "   6  -4.77220653e+04 -4.78718406e+04  4.77e-12 2.84e-14  2.67e+00     0s\n",
      "   7  -4.77310394e+04 -4.77399735e+04  4.91e-12 6.39e-14  1.60e-01     0s\n",
      "   8  -4.77341130e+04 -4.77354513e+04  3.82e-11 4.97e-14  2.39e-02     0s\n",
      "   9  -4.77344834e+04 -4.77345503e+04  1.19e-12 2.13e-14  1.20e-03     0s\n",
      "  10  -4.77345043e+04 -4.77345063e+04  3.78e-12 4.26e-14  3.64e-05     0s\n",
      "  11  -4.77345051e+04 -4.77345052e+04  7.62e-12 7.11e-14  1.33e-06     0s\n",
      "  12  -4.77345051e+04 -4.77345051e+04  1.22e-12 2.84e-14  5.43e-08     0s\n",
      "  13  -4.77345051e+04 -4.77345051e+04  1.04e-12 2.13e-13  1.23e-08     0s\n",
      "  14  -4.77345051e+04 -4.77345051e+04  2.49e-13 1.68e-12  1.20e-09     0s\n",
      "\n",
      "Barrier solved model in 14 iterations and 0.02 seconds\n",
      "Optimal objective -4.77345051e+04\n",
      "\n",
      "lam_0 8.55817e-10\n",
      "lam_1 4349.26\n",
      "lam_2 9.39405e-10\n",
      "lam_3 85.7284\n",
      "lam_4 950.103\n",
      "lam_5 2.03074e-06\n",
      "lam_6 2.4885e-07\n",
      "lam_7 0.00159396\n",
      "lam_8 170.731\n",
      "lam_9 2567.74\n",
      "lam_10 82.7648\n",
      "lam_11 144.765\n",
      "lam_12 2.03061e-06\n",
      "lam_13 2.04223e-06\n",
      "lam_14 2960.4\n",
      "lam_15 467.566\n",
      "lam_16 99.1673\n",
      "lam_17 84.4147\n",
      "lam_18 1230.6\n",
      "lam_19 3422.52\n",
      "lam_20 2.03134e-06\n",
      "lam_21 1711.23\n",
      "lam_22 861.141\n",
      "lam_23 255.678\n",
      "lam_24 1483.46\n",
      "lam_25 678.356\n",
      "lam_26 1.16438e-06\n",
      "lam_27 2471.14\n",
      "lam_28 0.550683\n",
      "lam_29 0.598304\n",
      "lam_30 400.203\n",
      "lam_31 0.306555\n",
      "lam_32 1495.98\n",
      "lam_33 1.15271e-06\n",
      "lam_34 1.1533e-06\n",
      "lam_35 1301.8\n",
      "lam_36 465.017\n",
      "lam_37 4.80114e-05\n",
      "lam_38 1374.94\n",
      "lam_39 176.256\n",
      "lam_40 183.557\n",
      "lam_41 247.549\n",
      "lam_42 1.50452e-06\n",
      "lam_43 1.5045e-06\n",
      "lam_44 2721\n",
      "lam_45 65.8789\n",
      "lam_46 673.172\n",
      "lam_47 7.59531e-07\n",
      "lam_48 2419.44\n",
      "lam_49 1.50869e-06\n",
      "lam_50 1.52116e-06\n",
      "lam_51 1.50501e-06\n",
      "lam_52 2399.43\n",
      "lam_53 506.782\n",
      "lam_54 7.59529e-07\n",
      "lam_55 2404.92\n",
      "Obj: -47730.4\n"
     ]
    }
   ],
   "source": [
    "from gurobipy import *\n",
    "\n",
    "L = 56  # dimension of lam\n",
    "\n",
    "K = np.size(x, 1)\n",
    "S = samp_cov(x)\n",
    "inv_S = inv(S)\n",
    "\n",
    "A_t = np.transpose(A)\n",
    "P_t = np.transpose(P)\n",
    "# PA'\n",
    "PA_t = np.dot(P, A_t)\n",
    "# AP_t\n",
    "AP_t = np.transpose(PA_t)\n",
    "\n",
    "Q = np.dot(np.dot(PA_t, inv_S), AP_t)\n",
    "b = sum([np.dot(np.dot(PA_t, inv_S), x[:, k]) for k in range(K)])\n",
    "\n",
    "\n",
    "model = Model(\"OD_matrix_estimation\")\n",
    "\n",
    "lam = []\n",
    "for l in range(L):\n",
    "    lam.append(model.addVar(name='lam_' + str(l)))\n",
    "\n",
    "model.update() \n",
    "\n",
    "# Set objective: (K/2) lam' * Q * lam - b' * lam\n",
    "obj = 0\n",
    "for i in range(L):\n",
    "    for j in range(L):\n",
    "        obj += (1.0 /2) * K * lam[i] * Q[i, j] * lam[j]\n",
    "for l in range(L):\n",
    "    obj += - b[l] * lam[l]\n",
    "model.setObjective(obj)\n",
    "\n",
    "# Add constraint: lam >= 0\n",
    "for l in range(L):\n",
    "    model.addConstr(lam[l] >= 0)\n",
    "\n",
    "model.update() \n",
    "\n",
    "model.optimize()\n",
    "\n",
    "lam_list = []\n",
    "for v in model.getVars():\n",
    "    print('%s %g' % (v.varName, v.x))\n",
    "    lam_list.append(v.x)\n",
    "print('Obj: %g' % obj.getValue())"
   ]
  },
  {
   "cell_type": "code",
   "execution_count": 18,
   "metadata": {
    "collapsed": true
   },
   "outputs": [],
   "source": [
    "# write estimation result to file\n",
    "n = 8  # number of nodes\n",
    "with open('../temp_files/OD_demand_matrix_Jul_weekend.txt', 'w') as the_file:\n",
    "    idx = 0\n",
    "    for i in range(n + 1)[1:]:\n",
    "        for j in range(n + 1)[1:]:\n",
    "            if i != j: \n",
    "                the_file.write(\"%d,%d,%f\\n\" %(i, j, lam_list[idx]))\n",
    "                idx += 1"
   ]
  },
  {
   "cell_type": "code",
   "execution_count": 19,
   "metadata": {
    "collapsed": false
   },
   "outputs": [
    {
     "data": {
      "text/plain": [
       "[8.558171540147492e-10,\n",
       " 4349.255567633862,\n",
       " 9.394052226310688e-10,\n",
       " 85.7283623605092,\n",
       " 950.1025323179944,\n",
       " 2.0307428402739045e-06,\n",
       " 2.488496877574486e-07,\n",
       " 0.001593963498688072,\n",
       " 170.73070929072014,\n",
       " 2567.735304488179,\n",
       " 82.76478473515785,\n",
       " 144.7645079873716,\n",
       " 2.0306115580034426e-06,\n",
       " 2.042232970802594e-06,\n",
       " 2960.3993298589803,\n",
       " 467.5658845868958,\n",
       " 99.16728842989606,\n",
       " 84.41469650618859,\n",
       " 1230.5953665931686,\n",
       " 3422.519184582577,\n",
       " 2.031339278165107e-06,\n",
       " 1711.2289249617343,\n",
       " 861.1408969004533,\n",
       " 255.677927255403,\n",
       " 1483.4628690182383,\n",
       " 678.3558402311587,\n",
       " 1.1643793742317272e-06,\n",
       " 2471.142570330282,\n",
       " 0.5506826589365366,\n",
       " 0.5983043112890813,\n",
       " 400.2028443495647,\n",
       " 0.3065554081292798,\n",
       " 1495.9771369596967,\n",
       " 1.1527135425213862e-06,\n",
       " 1.1532952832843544e-06,\n",
       " 1301.8005780117587,\n",
       " 465.0174211506828,\n",
       " 4.801140078681702e-05,\n",
       " 1374.936142774076,\n",
       " 176.25560584994236,\n",
       " 183.55653976043666,\n",
       " 247.54859391859208,\n",
       " 1.5045207929602361e-06,\n",
       " 1.504502462945418e-06,\n",
       " 2721.0030483192327,\n",
       " 65.8788748976628,\n",
       " 673.1721327337075,\n",
       " 7.595312348145845e-07,\n",
       " 2419.441936451819,\n",
       " 1.508689534983756e-06,\n",
       " 1.5211628465392144e-06,\n",
       " 1.505009118046582e-06,\n",
       " 2399.4265762953637,\n",
       " 506.78226181077144,\n",
       " 7.595290518973955e-07,\n",
       " 2404.9155329230734]"
      ]
     },
     "execution_count": 19,
     "metadata": {},
     "output_type": "execute_result"
    }
   ],
   "source": [
    "lam_list"
   ]
  },
  {
   "cell_type": "code",
   "execution_count": null,
   "metadata": {
    "collapsed": true
   },
   "outputs": [],
   "source": []
  }
 ],
 "metadata": {
  "kernelspec": {
   "display_name": "Python 2",
   "language": "python",
   "name": "python2"
  },
  "language_info": {
   "codemirror_mode": {
    "name": "ipython",
    "version": 2
   },
   "file_extension": ".py",
   "mimetype": "text/x-python",
   "name": "python",
   "nbconvert_exporter": "python",
   "pygments_lexer": "ipython2",
   "version": "2.7.11"
  }
 },
 "nbformat": 4,
 "nbformat_minor": 0
}
