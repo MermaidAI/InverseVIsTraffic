{
 "cells": [
  {
   "cell_type": "code",
   "execution_count": 1,
   "metadata": {
    "collapsed": true
   },
   "outputs": [],
   "source": [
    "%run ../Python_files/util_data_storage_and_load.py"
   ]
  },
  {
   "cell_type": "code",
   "execution_count": 2,
   "metadata": {
    "collapsed": true
   },
   "outputs": [],
   "source": [
    "%run ../Python_files/load_dicts.py"
   ]
  },
  {
   "cell_type": "code",
   "execution_count": 3,
   "metadata": {
    "collapsed": false
   },
   "outputs": [],
   "source": [
    "%run ../Python_files/util.py"
   ]
  },
  {
   "cell_type": "code",
   "execution_count": 4,
   "metadata": {
    "collapsed": true
   },
   "outputs": [],
   "source": [
    "# load logit_route_choice_probability_matrix\n",
    "P = zload('../temp_files/logit_route_choice_probability_matrix.pkz')"
   ]
  },
  {
   "cell_type": "code",
   "execution_count": 5,
   "metadata": {
    "collapsed": false
   },
   "outputs": [],
   "source": [
    "import numpy as np\n",
    "from numpy.linalg import inv\n",
    "\n",
    "P = np.matrix(P)"
   ]
  },
  {
   "cell_type": "code",
   "execution_count": 6,
   "metadata": {
    "collapsed": false
   },
   "outputs": [
    {
     "data": {
      "text/plain": [
       "(56, 140)"
      ]
     },
     "execution_count": 6,
     "metadata": {},
     "output_type": "execute_result"
    }
   ],
   "source": [
    "np.size(P, 0), np.size(P, 1)"
   ]
  },
  {
   "cell_type": "code",
   "execution_count": 7,
   "metadata": {
    "collapsed": true
   },
   "outputs": [],
   "source": [
    "import numpy as np\n",
    "from numpy.linalg import inv\n",
    "\n",
    "def samp_cov(x):\n",
    "    \"\"\"\n",
    "    x: sample matrix, each column is a link flow vector sample; 24 * K\n",
    "    K: number of samples\n",
    "    S: sample covariance matrix\n",
    "    ----------------\n",
    "    return: inv(S)\n",
    "    ----------------\n",
    "    \"\"\"\n",
    "    x = np.matrix(x)\n",
    "    K = np.size(x, 1)\n",
    "    x_mean = sum(x[:,k] for k in range(K)) / K\n",
    "    S = sum(np.dot(x[:,k] - x_mean, np.transpose(x[:,k] - x_mean)) for k in range(K)) / (K - 1)\n",
    "    return S"
   ]
  },
  {
   "cell_type": "code",
   "execution_count": 8,
   "metadata": {
    "collapsed": false
   },
   "outputs": [],
   "source": [
    "# load path-link incidence matrix\n",
    "A = zload('../temp_files/path-link_incidence_matrix.pkz')"
   ]
  },
  {
   "cell_type": "code",
   "execution_count": 9,
   "metadata": {
    "collapsed": false
   },
   "outputs": [],
   "source": [
    "# load link counts data\n",
    "\n",
    "import json\n",
    "\n",
    "with open('../temp_files/link_day_minute_Apr_dict_JSON.json', 'r') as json_file:\n",
    "    link_day_minute_Apr_dict_JSON = json.load(json_file)"
   ]
  },
  {
   "cell_type": "code",
   "execution_count": 10,
   "metadata": {
    "collapsed": true
   },
   "outputs": [],
   "source": [
    "weekend_Apr_list = [1, 7, 8, 14, 15, 21, 22, 28, 29]"
   ]
  },
  {
   "cell_type": "code",
   "execution_count": 11,
   "metadata": {
    "collapsed": false
   },
   "outputs": [],
   "source": [
    "link_day_minute_Apr_list = []\n",
    "for link_idx in range(24):\n",
    "    for day in weekend_Apr_list: \n",
    "        for minute_idx in range(120):\n",
    "            key = 'link_' + str(link_idx) + '_' + str(day)\n",
    "            link_day_minute_Apr_list.append(link_day_minute_Apr_dict_JSON[key] ['AM_flow_minute'][minute_idx])"
   ]
  },
  {
   "cell_type": "code",
   "execution_count": 12,
   "metadata": {
    "collapsed": false
   },
   "outputs": [
    {
     "data": {
      "text/plain": [
       "25920"
      ]
     },
     "execution_count": 12,
     "metadata": {},
     "output_type": "execute_result"
    }
   ],
   "source": [
    "len(link_day_minute_Apr_list)"
   ]
  },
  {
   "cell_type": "code",
   "execution_count": 13,
   "metadata": {
    "collapsed": false
   },
   "outputs": [],
   "source": [
    "x = np.matrix(link_day_minute_Apr_list)\n",
    "x = np.matrix.reshape(x, 24, 1080)\n",
    "\n",
    "x = np.nan_to_num(x)\n",
    "y = np.array(np.transpose(x))\n",
    "y = y[np.all(y != 0, axis=1)]\n",
    "x = np.transpose(y)\n",
    "x = np.matrix(x)"
   ]
  },
  {
   "cell_type": "code",
   "execution_count": 14,
   "metadata": {
    "collapsed": false
   },
   "outputs": [
    {
     "data": {
      "text/plain": [
       "matrix([[ 348542.80813655,  345259.62645033],\n",
       "        [ 355086.7459287 ,  362326.11630033],\n",
       "        [ 629648.81511729,  643692.80417731],\n",
       "        [ 670875.04781719,  672386.57959279],\n",
       "        [ 168161.41518738,  166445.30171351],\n",
       "        [ 224655.56228273,  230507.86537481],\n",
       "        [ 414886.06217914,  418039.39635458],\n",
       "        [ 407349.94018725,  400727.96495742],\n",
       "        [ 375670.11875303,  371801.63838264],\n",
       "        [ 398099.30195893,  390149.12125805],\n",
       "        [ 373611.81792515,  364204.22027516],\n",
       "        [ 343596.84118445,  331173.77581141],\n",
       "        [  91858.09207355,   90596.04918198],\n",
       "        [ 102720.59466785,   95587.77120316],\n",
       "        [ 154962.17220949,  160158.6148157 ],\n",
       "        [ 134942.07398453,  139383.66470396],\n",
       "        [ 210545.0613289 ,  212496.9720784 ],\n",
       "        [ 224343.48804241,  217649.99691815],\n",
       "        [ 379221.9535908 ,  359926.6303642 ],\n",
       "        [ 344032.19496048,  334708.70304444],\n",
       "        [ 505519.19006592,  500909.55544178],\n",
       "        [ 499398.62081751,  539719.55070492],\n",
       "        [ 141706.87281405,  140811.51408624],\n",
       "        [ 140944.48100872,  137969.38420932]])"
      ]
     },
     "execution_count": 14,
     "metadata": {},
     "output_type": "execute_result"
    }
   ],
   "source": [
    "x[:,:2]"
   ]
  },
  {
   "cell_type": "code",
   "execution_count": 15,
   "metadata": {
    "collapsed": false
   },
   "outputs": [
    {
     "data": {
      "text/plain": [
       "(24, 1080)"
      ]
     },
     "execution_count": 15,
     "metadata": {},
     "output_type": "execute_result"
    }
   ],
   "source": [
    "np.size(x, 0), np.size(x, 1)"
   ]
  },
  {
   "cell_type": "code",
   "execution_count": 16,
   "metadata": {
    "collapsed": false
   },
   "outputs": [
    {
     "data": {
      "text/plain": [
       "(24, 140)"
      ]
     },
     "execution_count": 16,
     "metadata": {},
     "output_type": "execute_result"
    }
   ],
   "source": [
    "np.size(A,0), np.size(A,1)"
   ]
  },
  {
   "cell_type": "code",
   "execution_count": 17,
   "metadata": {
    "collapsed": false
   },
   "outputs": [
    {
     "name": "stdout",
     "output_type": "stream",
     "text": [
      "Optimize a model with 56 rows, 56 columns and 56 nonzeros\n",
      "Model has 1596 quadratic objective terms\n",
      "Coefficient statistics:\n",
      "  Matrix range    [1e+00, 1e+00]\n",
      "  Objective range [7e-02, 9e+00]\n",
      "  Bounds range    [0e+00, 0e+00]\n",
      "  RHS range       [0e+00, 0e+00]\n",
      "Presolve removed 56 rows and 0 columns\n",
      "Presolve time: 0.00s\n",
      "Presolved: 0 rows, 56 columns, 0 nonzeros\n",
      "Presolved model has 1596 quadratic objective terms\n",
      "Ordering time: 0.00s\n",
      "\n",
      "Barrier statistics:\n",
      " Free vars  : 24\n",
      " AA' NZ     : 2.760e+02\n",
      " Factor NZ  : 3.000e+02\n",
      " Factor Ops : 4.900e+03 (less than 1 second per iteration)\n",
      " Threads    : 1\n",
      "\n",
      "                  Objective                Residual\n",
      "Iter       Primal          Dual         Primal    Dual     Compl     Time\n",
      "   0  -8.81827548e+06  0.00000000e+00  5.27e+03 9.89e+02  1.00e+06     0s\n",
      "   1  -4.60799733e+06 -2.95312641e+06  1.42e+03 2.67e+02  3.03e+05     0s\n",
      "   2  -3.27131219e+06 -4.54046075e+06  1.86e+02 3.50e+01  6.45e+04     0s\n",
      "   3  -3.47295689e+06 -3.92261173e+06  1.86e-04 3.50e-05  8.03e+03     0s\n",
      "   4  -3.57534673e+06 -3.61269797e+06  1.81e-10 3.49e-11  6.67e+02     0s\n",
      "   5  -3.58115295e+06 -3.58292490e+06  3.91e-11 2.84e-13  3.16e+01     0s\n",
      "   6  -3.58163111e+06 -3.58212629e+06  4.77e-12 1.42e-13  8.84e+00     0s\n",
      "   7  -3.58176948e+06 -3.58181409e+06  3.41e-12 2.27e-13  7.97e-01     0s\n",
      "   8  -3.58179295e+06 -3.58179722e+06  1.86e-11 1.14e-13  7.62e-02     0s\n",
      "   9  -3.58179504e+06 -3.58179553e+06  6.14e-12 2.27e-13  8.77e-03     0s\n",
      "  10  -3.58179525e+06 -3.58179525e+06  6.33e-11 2.27e-13  3.62e-05     0s\n",
      "  11  -3.58179525e+06 -3.58179525e+06  5.73e-10 2.27e-13  6.08e-08     0s\n",
      "  12  -3.58179525e+06 -3.58179525e+06  2.47e-11 2.25e-11  1.57e-10     0s\n",
      "\n",
      "Barrier solved model in 12 iterations and 0.02 seconds\n",
      "Optimal objective -3.58179525e+06\n",
      "\n",
      "lam_0 8.41387e-10\n",
      "lam_1 86843.3\n",
      "lam_2 142993\n",
      "lam_3 63986.3\n",
      "lam_4 22598.3\n",
      "lam_5 1.11853e-07\n",
      "lam_6 1.1235e-07\n",
      "lam_7 141828\n",
      "lam_8 5.20434e-11\n",
      "lam_9 137068\n",
      "lam_10 5.20434e-11\n",
      "lam_11 5.20434e-11\n",
      "lam_12 5.20192e-11\n",
      "lam_13 5.23699e-11\n",
      "lam_14 1.30665e-07\n",
      "lam_15 1.30405e-07\n",
      "lam_16 2.27703e-08\n",
      "lam_17 199765\n",
      "lam_18 41255.3\n",
      "lam_19 9.69505e-08\n",
      "lam_20 1.11725e-07\n",
      "lam_21 1.54189e-06\n",
      "lam_22 224558\n",
      "lam_23 4.8811e-06\n",
      "lam_24 42654.3\n",
      "lam_25 13658\n",
      "lam_26 6.56795e-08\n",
      "lam_27 64118.8\n",
      "lam_28 4.1678e-06\n",
      "lam_29 4.19276e-06\n",
      "lam_30 1.36948e-06\n",
      "lam_31 6.61758e-07\n",
      "lam_32 26504.9\n",
      "lam_33 265885\n",
      "lam_34 6.57488e-08\n",
      "lam_35 37951.8\n",
      "lam_36 8563.97\n",
      "lam_37 27974.7\n",
      "lam_38 47670\n",
      "lam_39 320.735\n",
      "lam_40 512366\n",
      "lam_41 24096.2\n",
      "lam_42 360187\n",
      "lam_43 29517.4\n",
      "lam_44 9.41547e-07\n",
      "lam_45 4.17311e-07\n",
      "lam_46 23432\n",
      "lam_47 249885\n",
      "lam_48 25021.4\n",
      "lam_49 6.31919e-08\n",
      "lam_50 6.372e-08\n",
      "lam_51 1.21667e-07\n",
      "lam_52 157883\n",
      "lam_53 95002\n",
      "lam_54 6.29862e-08\n",
      "lam_55 6.2987e-08\n",
      "Obj: -3.58114e+06\n"
     ]
    }
   ],
   "source": [
    "from gurobipy import *\n",
    "\n",
    "L = 56  # dimension of lam\n",
    "\n",
    "K = np.size(x, 1)\n",
    "S = samp_cov(x)\n",
    "inv_S = inv(S)\n",
    "\n",
    "A_t = np.transpose(A)\n",
    "P_t = np.transpose(P)\n",
    "# PA'\n",
    "PA_t = np.dot(P, A_t)\n",
    "# AP_t\n",
    "AP_t = np.transpose(PA_t)\n",
    "\n",
    "Q = np.dot(np.dot(PA_t, inv_S), AP_t)\n",
    "b = sum([np.dot(np.dot(PA_t, inv_S), x[:, k]) for k in range(K)])\n",
    "\n",
    "\n",
    "model = Model(\"OD_matrix_estimation\")\n",
    "\n",
    "lam = []\n",
    "for l in range(L):\n",
    "    lam.append(model.addVar(name='lam_' + str(l)))\n",
    "\n",
    "model.update() \n",
    "\n",
    "# Set objective: (K/2) lam' * Q * lam - b * lam\n",
    "obj = 0\n",
    "for i in range(L):\n",
    "    for j in range(L):\n",
    "        obj += (1.0 /2) * K * lam[i] * Q[i, j] * lam[j]\n",
    "for l in range(L):\n",
    "    obj += - b[l] * lam[l]\n",
    "model.setObjective(obj)\n",
    "\n",
    "# Add constraint: lam >= 0\n",
    "for l in range(L):\n",
    "    model.addConstr(lam[l] >= 0)\n",
    "\n",
    "model.update() \n",
    "\n",
    "model.optimize()\n",
    "\n",
    "lam_list = []\n",
    "for v in model.getVars():\n",
    "    print('%s %g' % (v.varName, v.x))\n",
    "    lam_list.append(v.x)\n",
    "print('Obj: %g' % obj.getValue())"
   ]
  },
  {
   "cell_type": "code",
   "execution_count": 18,
   "metadata": {
    "collapsed": true
   },
   "outputs": [],
   "source": [
    "# write estimation result to file\n",
    "n = 8  # number of nodes\n",
    "with open('../temp_files/OD_demand_matrix_Apr_weekend.txt', 'w') as the_file:\n",
    "    idx = 0\n",
    "    for i in range(n + 1)[1:]:\n",
    "        for j in range(n + 1)[1:]:\n",
    "            if i != j: \n",
    "                the_file.write(\"%d,%d,%f\\n\" %(i, j, lam_list[idx]))\n",
    "                idx += 1"
   ]
  },
  {
   "cell_type": "code",
   "execution_count": 19,
   "metadata": {
    "collapsed": false
   },
   "outputs": [
    {
     "data": {
      "text/plain": [
       "[8.413870140088149e-10,\n",
       " 86843.3126083412,\n",
       " 142993.480437929,\n",
       " 63986.2990702229,\n",
       " 22598.26583716808,\n",
       " 1.1185272503166471e-07,\n",
       " 1.1234978796461302e-07,\n",
       " 141827.65812730882,\n",
       " 5.2043383101937554e-11,\n",
       " 137067.75177975596,\n",
       " 5.204338157074352e-11,\n",
       " 5.204337473699751e-11,\n",
       " 5.20192221252605e-11,\n",
       " 5.2369879901062766e-11,\n",
       " 1.306648845735391e-07,\n",
       " 1.3040549505151123e-07,\n",
       " 2.2770338665155273e-08,\n",
       " 199765.09880834597,\n",
       " 41255.284408466076,\n",
       " 9.695050925267334e-08,\n",
       " 1.1172455710248014e-07,\n",
       " 1.5418947157634774e-06,\n",
       " 224557.6522977542,\n",
       " 4.881095727883285e-06,\n",
       " 42654.344006857464,\n",
       " 13658.00712608882,\n",
       " 6.567947179078639e-08,\n",
       " 64118.797917694086,\n",
       " 4.167798622101843e-06,\n",
       " 4.192762435798608e-06,\n",
       " 1.3694790014042758e-06,\n",
       " 6.617575789531825e-07,\n",
       " 26504.89742692344,\n",
       " 265885.0151996791,\n",
       " 6.574882460141048e-08,\n",
       " 37951.797395919464,\n",
       " 8563.969570813084,\n",
       " 27974.66245272591,\n",
       " 47670.04974698958,\n",
       " 320.7350072617871,\n",
       " 512366.22035066347,\n",
       " 24096.241446412525,\n",
       " 360187.2763634367,\n",
       " 29517.392497688434,\n",
       " 9.415470104810362e-07,\n",
       " 4.1731129589488375e-07,\n",
       " 23431.965933123058,\n",
       " 249885.24649249966,\n",
       " 25021.389473046598,\n",
       " 6.319194185735571e-08,\n",
       " 6.372002961638719e-08,\n",
       " 1.2166659142302485e-07,\n",
       " 157883.48259891575,\n",
       " 95001.98479486325,\n",
       " 6.298615490984513e-08,\n",
       " 6.298695248147911e-08]"
      ]
     },
     "execution_count": 19,
     "metadata": {},
     "output_type": "execute_result"
    }
   ],
   "source": [
    "lam_list"
   ]
  },
  {
   "cell_type": "code",
   "execution_count": null,
   "metadata": {
    "collapsed": true
   },
   "outputs": [],
   "source": []
  }
 ],
 "metadata": {
  "kernelspec": {
   "display_name": "Python 2",
   "language": "python",
   "name": "python2"
  },
  "language_info": {
   "codemirror_mode": {
    "name": "ipython",
    "version": 2
   },
   "file_extension": ".py",
   "mimetype": "text/x-python",
   "name": "python",
   "nbconvert_exporter": "python",
   "pygments_lexer": "ipython2",
   "version": "2.7.11"
  }
 },
 "nbformat": 4,
 "nbformat_minor": 0
}
