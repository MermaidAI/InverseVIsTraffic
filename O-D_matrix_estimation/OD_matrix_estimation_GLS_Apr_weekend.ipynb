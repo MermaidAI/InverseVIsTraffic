{
 "cells": [
  {
   "cell_type": "code",
   "execution_count": 1,
   "metadata": {
    "collapsed": true
   },
   "outputs": [],
   "source": [
    "%run ../Python_files/util_data_storage_and_load.py"
   ]
  },
  {
   "cell_type": "code",
   "execution_count": 2,
   "metadata": {
    "collapsed": true
   },
   "outputs": [],
   "source": [
    "%run ../Python_files/load_dicts.py"
   ]
  },
  {
   "cell_type": "code",
   "execution_count": 3,
   "metadata": {
    "collapsed": false
   },
   "outputs": [],
   "source": [
    "%run ../Python_files/util.py"
   ]
  },
  {
   "cell_type": "code",
   "execution_count": 4,
   "metadata": {
    "collapsed": true
   },
   "outputs": [],
   "source": [
    "# load logit_route_choice_probability_matrix\n",
    "P = zload('../temp_files/logit_route_choice_probability_matrix.pkz')"
   ]
  },
  {
   "cell_type": "code",
   "execution_count": 5,
   "metadata": {
    "collapsed": false
   },
   "outputs": [],
   "source": [
    "import numpy as np\n",
    "from numpy.linalg import inv\n",
    "\n",
    "P = np.matrix(P)"
   ]
  },
  {
   "cell_type": "code",
   "execution_count": 6,
   "metadata": {
    "collapsed": false
   },
   "outputs": [
    {
     "data": {
      "text/plain": [
       "(56, 140)"
      ]
     },
     "execution_count": 6,
     "metadata": {},
     "output_type": "execute_result"
    }
   ],
   "source": [
    "np.size(P, 0), np.size(P, 1)"
   ]
  },
  {
   "cell_type": "code",
   "execution_count": 7,
   "metadata": {
    "collapsed": true
   },
   "outputs": [],
   "source": [
    "import numpy as np\n",
    "from numpy.linalg import inv\n",
    "\n",
    "def samp_cov(x):\n",
    "    \"\"\"\n",
    "    x: sample matrix, each column is a link flow vector sample; 24 * K\n",
    "    K: number of samples\n",
    "    S: sample covariance matrix\n",
    "    ----------------\n",
    "    return: inv(S)\n",
    "    ----------------\n",
    "    \"\"\"\n",
    "    x = np.matrix(x)\n",
    "    K = np.size(x, 1)\n",
    "    x_mean = sum(x[:,k] for k in range(K)) / K\n",
    "    S = sum(np.dot(x[:,k] - x_mean, np.transpose(x[:,k] - x_mean)) for k in range(K)) / (K - 1)\n",
    "    return S"
   ]
  },
  {
   "cell_type": "code",
   "execution_count": 8,
   "metadata": {
    "collapsed": false
   },
   "outputs": [],
   "source": [
    "# load path-link incidence matrix\n",
    "A = zload('../temp_files/path-link_incidence_matrix.pkz')"
   ]
  },
  {
   "cell_type": "code",
   "execution_count": 9,
   "metadata": {
    "collapsed": false
   },
   "outputs": [],
   "source": [
    "# load link counts data\n",
    "\n",
    "import json\n",
    "\n",
    "with open('../temp_files/link_day_minute_Apr_dict_JSON.json', 'r') as json_file:\n",
    "    link_day_minute_Apr_dict_JSON = json.load(json_file)"
   ]
  },
  {
   "cell_type": "code",
   "execution_count": 20,
   "metadata": {
    "collapsed": true
   },
   "outputs": [],
   "source": [
    "weekend_Apr_list = [1, 7, 8, 14, 15, 21, 22, 28, 29]\n",
    "#weekend_Apr_list = [1, 8, 15, 22, 29]"
   ]
  },
  {
   "cell_type": "code",
   "execution_count": 21,
   "metadata": {
    "collapsed": false
   },
   "outputs": [],
   "source": [
    "link_day_minute_Apr_list = []\n",
    "for link_idx in range(24):\n",
    "    for day in weekend_Apr_list: \n",
    "        for minute_idx in range(120):\n",
    "            key = 'link_' + str(link_idx) + '_' + str(day)\n",
    "            link_day_minute_Apr_list.append(link_day_minute_Apr_dict_JSON[key] ['AM_flow_minute'][minute_idx])"
   ]
  },
  {
   "cell_type": "code",
   "execution_count": 22,
   "metadata": {
    "collapsed": false
   },
   "outputs": [
    {
     "data": {
      "text/plain": [
       "25920"
      ]
     },
     "execution_count": 22,
     "metadata": {},
     "output_type": "execute_result"
    }
   ],
   "source": [
    "len(link_day_minute_Apr_list)"
   ]
  },
  {
   "cell_type": "code",
   "execution_count": 23,
   "metadata": {
    "collapsed": false
   },
   "outputs": [],
   "source": [
    "x = np.matrix(link_day_minute_Apr_list)\n",
    "x = np.matrix.reshape(x, 24, 1080)\n",
    "\n",
    "x = np.nan_to_num(x)\n",
    "y = np.array(np.transpose(x))\n",
    "y = y[np.all(y != 0, axis=1)]\n",
    "x = np.transpose(y)\n",
    "x = np.matrix(x)"
   ]
  },
  {
   "cell_type": "code",
   "execution_count": 24,
   "metadata": {
    "collapsed": false
   },
   "outputs": [
    {
     "data": {
      "text/plain": [
       "matrix([[ 3701.33160294,  3109.28071979],\n",
       "        [ 2904.32180234,  3891.24285265],\n",
       "        [ 4902.3279198 ,  4351.79174557],\n",
       "        [ 5006.86458593,  5681.23998511],\n",
       "        [ 3734.12227753,  4771.13133877],\n",
       "        [ 4004.18106334,  4381.57494753],\n",
       "        [ 3853.4360727 ,  4045.83913133],\n",
       "        [ 2498.0265144 ,  3328.36270088],\n",
       "        [ 3836.1406555 ,  3792.44666475],\n",
       "        [ 3762.25837623,  4004.66056363],\n",
       "        [ 4523.70698763,  4049.97312387],\n",
       "        [ 4510.51862058,  4601.05047147],\n",
       "        [ 1247.9195019 ,  2341.99696391],\n",
       "        [ 4230.807537  ,  1857.11335249],\n",
       "        [ 1857.37059317,  1734.92763357],\n",
       "        [ 3642.18701416,  1592.77466883],\n",
       "        [ 3609.61035658,  3515.44671611],\n",
       "        [ 4011.38189023,  3294.9997255 ],\n",
       "        [ 4516.88182814,  2566.27453384],\n",
       "        [ 4137.07408166,  2028.60052489],\n",
       "        [ 1633.69659569,  2016.80919821],\n",
       "        [ 1182.58034151,  2409.33552363],\n",
       "        [ 4140.77965683,  4355.76615039],\n",
       "        [ 4054.62613695,  3655.15637328]])"
      ]
     },
     "execution_count": 24,
     "metadata": {},
     "output_type": "execute_result"
    }
   ],
   "source": [
    "x[:,:2]"
   ]
  },
  {
   "cell_type": "code",
   "execution_count": 25,
   "metadata": {
    "collapsed": false
   },
   "outputs": [
    {
     "data": {
      "text/plain": [
       "(24, 1080)"
      ]
     },
     "execution_count": 25,
     "metadata": {},
     "output_type": "execute_result"
    }
   ],
   "source": [
    "np.size(x, 0), np.size(x, 1)"
   ]
  },
  {
   "cell_type": "code",
   "execution_count": 26,
   "metadata": {
    "collapsed": false
   },
   "outputs": [
    {
     "data": {
      "text/plain": [
       "(24, 140)"
      ]
     },
     "execution_count": 26,
     "metadata": {},
     "output_type": "execute_result"
    }
   ],
   "source": [
    "np.size(A,0), np.size(A,1)"
   ]
  },
  {
   "cell_type": "code",
   "execution_count": 27,
   "metadata": {
    "collapsed": false
   },
   "outputs": [
    {
     "name": "stdout",
     "output_type": "stream",
     "text": [
      "Optimize a model with 56 rows, 56 columns and 56 nonzeros\n",
      "Model has 1596 quadratic objective terms\n",
      "Coefficient statistics:\n",
      "  Matrix range    [1e+00, 1e+00]\n",
      "  Objective range [2e-01, 1e+01]\n",
      "  Bounds range    [0e+00, 0e+00]\n",
      "  RHS range       [0e+00, 0e+00]\n",
      "Presolve removed 56 rows and 0 columns\n",
      "Presolve time: 0.00s\n",
      "Presolved: 0 rows, 56 columns, 0 nonzeros\n",
      "Presolved model has 1596 quadratic objective terms\n",
      "Ordering time: 0.00s\n",
      "\n",
      "Barrier statistics:\n",
      " Free vars  : 24\n",
      " AA' NZ     : 2.760e+02\n",
      " Factor NZ  : 3.000e+02\n",
      " Factor Ops : 4.900e+03 (less than 1 second per iteration)\n",
      " Threads    : 1\n",
      "\n",
      "                  Objective                Residual\n",
      "Iter       Primal          Dual         Primal    Dual     Compl     Time\n",
      "   0  -2.15027341e+06  0.00000000e+00  7.66e+03 1.56e+02  9.46e+05     0s\n",
      "   1   1.25939627e+06 -2.04314645e+06  1.05e+03 1.27e+02  1.86e+05     0s\n",
      "   2   6.99522000e+05 -1.08941179e+06  9.04e+01 1.16e+01  3.98e+04     0s\n",
      "   3   6.33524943e+04 -2.54690698e+05  9.04e-05 5.68e-14  5.68e+03     0s\n",
      "   4  -3.80430427e+04 -7.96855320e+04  9.07e-11 2.13e-14  7.44e+02     0s\n",
      "   5  -4.73099042e+04 -4.99845561e+04  2.19e-12 1.42e-14  4.78e+01     0s\n",
      "   6  -4.76658719e+04 -4.77699121e+04  4.83e-12 1.42e-14  1.86e+00     0s\n",
      "   7  -4.76918384e+04 -4.76994071e+04  2.38e-11 5.68e-14  1.35e-01     0s\n",
      "   8  -4.76950909e+04 -4.76976799e+04  1.87e-10 2.84e-14  4.62e-02     0s\n",
      "   9  -4.76960173e+04 -4.76961429e+04  7.21e-11 5.68e-14  2.24e-03     0s\n",
      "  10  -4.76961199e+04 -4.76961346e+04  4.29e-10 3.55e-14  2.62e-04     0s\n",
      "  11  -4.76961268e+04 -4.76961268e+04  9.25e-11 7.11e-14  4.44e-07     0s\n",
      "  12  -4.76961268e+04 -4.76961268e+04  5.01e-11 2.84e-14  2.62e-08     0s\n",
      "  13  -4.76961268e+04 -4.76961268e+04  6.18e-12 4.26e-11  2.74e-09     0s\n",
      "\n",
      "Barrier solved model in 13 iterations and 0.02 seconds\n",
      "Optimal objective -4.76961268e+04\n",
      "\n",
      "lam_0 8.96455e-10\n",
      "lam_1 3773.94\n",
      "lam_2 9.84419e-10\n",
      "lam_3 1156.12\n",
      "lam_4 1154.68\n",
      "lam_5 43.2772\n",
      "lam_6 2.97067e-07\n",
      "lam_7 0.00641723\n",
      "lam_8 1.21798e-07\n",
      "lam_9 3377.35\n",
      "lam_10 1.21883e-07\n",
      "lam_11 1.2186e-07\n",
      "lam_12 1.21776e-07\n",
      "lam_13 1.22499e-07\n",
      "lam_14 3507.29\n",
      "lam_15 783.669\n",
      "lam_16 254.794\n",
      "lam_17 1537.13\n",
      "lam_18 1679.32\n",
      "lam_19 3.6533e-05\n",
      "lam_20 49.4007\n",
      "lam_21 1626.52\n",
      "lam_22 1114.26\n",
      "lam_23 18.2945\n",
      "lam_24 2814.09\n",
      "lam_25 17.1844\n",
      "lam_26 21.1294\n",
      "lam_27 2522.23\n",
      "lam_28 1.82159\n",
      "lam_29 1.77266\n",
      "lam_30 1202.82\n",
      "lam_31 86.0208\n",
      "lam_32 1879.45\n",
      "lam_33 1520.12\n",
      "lam_34 723.393\n",
      "lam_35 1766.41\n",
      "lam_36 611.941\n",
      "lam_37 9.78329e-05\n",
      "lam_38 1599.04\n",
      "lam_39 29.8726\n",
      "lam_40 1255.05\n",
      "lam_41 557.506\n",
      "lam_42 8.15559e-06\n",
      "lam_43 8.15555e-06\n",
      "lam_44 2606.95\n",
      "lam_45 263.211\n",
      "lam_46 841.248\n",
      "lam_47 4.20854e-06\n",
      "lam_48 1023.61\n",
      "lam_49 8.17821e-06\n",
      "lam_50 8.24588e-06\n",
      "lam_51 8.15826e-06\n",
      "lam_52 2644.46\n",
      "lam_53 652.842\n",
      "lam_54 4.20854e-06\n",
      "lam_55 2585.67\n",
      "Obj: -47695.2\n"
     ]
    }
   ],
   "source": [
    "from gurobipy import *\n",
    "\n",
    "L = 56  # dimension of lam\n",
    "\n",
    "K = np.size(x, 1)\n",
    "S = samp_cov(x)\n",
    "inv_S = inv(S)\n",
    "\n",
    "A_t = np.transpose(A)\n",
    "P_t = np.transpose(P)\n",
    "# PA'\n",
    "PA_t = np.dot(P, A_t)\n",
    "# AP_t\n",
    "AP_t = np.transpose(PA_t)\n",
    "\n",
    "Q = np.dot(np.dot(PA_t, inv_S), AP_t)\n",
    "b = sum([np.dot(np.dot(PA_t, inv_S), x[:, k]) for k in range(K)])\n",
    "\n",
    "\n",
    "model = Model(\"OD_matrix_estimation\")\n",
    "\n",
    "lam = []\n",
    "for l in range(L):\n",
    "    lam.append(model.addVar(name='lam_' + str(l)))\n",
    "\n",
    "model.update() \n",
    "\n",
    "# Set objective: (K/2) lam' * Q * lam - b' * lam\n",
    "obj = 0\n",
    "for i in range(L):\n",
    "    for j in range(L):\n",
    "        obj += (1.0 /2) * K * lam[i] * Q[i, j] * lam[j]\n",
    "for l in range(L):\n",
    "    obj += - b[l] * lam[l]\n",
    "model.setObjective(obj)\n",
    "\n",
    "# Add constraint: lam >= 0\n",
    "for l in range(L):\n",
    "    model.addConstr(lam[l] >= 0)\n",
    "\n",
    "model.update() \n",
    "\n",
    "model.optimize()\n",
    "\n",
    "lam_list = []\n",
    "for v in model.getVars():\n",
    "    print('%s %g' % (v.varName, v.x))\n",
    "    lam_list.append(v.x)\n",
    "print('Obj: %g' % obj.getValue())"
   ]
  },
  {
   "cell_type": "code",
   "execution_count": 28,
   "metadata": {
    "collapsed": true
   },
   "outputs": [],
   "source": [
    "# write estimation result to file\n",
    "n = 8  # number of nodes\n",
    "with open('../temp_files/OD_demand_matrix_Apr_weekend.txt', 'w') as the_file:\n",
    "    idx = 0\n",
    "    for i in range(n + 1)[1:]:\n",
    "        for j in range(n + 1)[1:]:\n",
    "            if i != j: \n",
    "                the_file.write(\"%d,%d,%f\\n\" %(i, j, lam_list[idx]))\n",
    "                idx += 1"
   ]
  },
  {
   "cell_type": "code",
   "execution_count": 29,
   "metadata": {
    "collapsed": false
   },
   "outputs": [
    {
     "data": {
      "text/plain": [
       "[8.964554885740308e-10,\n",
       " 3773.939271226639,\n",
       " 9.844185722588225e-10,\n",
       " 1156.1164860778542,\n",
       " 1154.6775330503447,\n",
       " 43.277160520879306,\n",
       " 2.9706693231923104e-07,\n",
       " 0.00641723019852234,\n",
       " 1.2179815688282382e-07,\n",
       " 3377.3487035427047,\n",
       " 1.2188304730282917e-07,\n",
       " 1.218600577745175e-07,\n",
       " 1.217757250208624e-07,\n",
       " 1.2249901470293265e-07,\n",
       " 3507.289904500509,\n",
       " 783.668753175715,\n",
       " 254.79422545679026,\n",
       " 1537.134821662515,\n",
       " 1679.3220028135415,\n",
       " 3.653298845063366e-05,\n",
       " 49.40072839599571,\n",
       " 1626.51762154985,\n",
       " 1114.2623431829065,\n",
       " 18.294534632173793,\n",
       " 2814.089022174501,\n",
       " 17.184350569877722,\n",
       " 21.129421841498356,\n",
       " 2522.233711416672,\n",
       " 1.8215889006608705,\n",
       " 1.7726589635750187,\n",
       " 1202.8206515013985,\n",
       " 86.02078770462424,\n",
       " 1879.4490183318906,\n",
       " 1520.1153005264455,\n",
       " 723.3933086265813,\n",
       " 1766.4097926005993,\n",
       " 611.9409545312542,\n",
       " 9.783287868070205e-05,\n",
       " 1599.043797511056,\n",
       " 29.872638614930793,\n",
       " 1255.0532878024849,\n",
       " 557.5062284275581,\n",
       " 8.155593988615868e-06,\n",
       " 8.155554871797129e-06,\n",
       " 2606.9543596859717,\n",
       " 263.21114907387573,\n",
       " 841.248041712403,\n",
       " 4.208535417413901e-06,\n",
       " 1023.6146310908221,\n",
       " 8.178206516328901e-06,\n",
       " 8.245875660419216e-06,\n",
       " 8.158262644753587e-06,\n",
       " 2644.4613398294823,\n",
       " 652.8421116443069,\n",
       " 4.208535190991186e-06,\n",
       " 2585.665515788957]"
      ]
     },
     "execution_count": 29,
     "metadata": {},
     "output_type": "execute_result"
    }
   ],
   "source": [
    "lam_list"
   ]
  },
  {
   "cell_type": "code",
   "execution_count": null,
   "metadata": {
    "collapsed": true
   },
   "outputs": [],
   "source": []
  }
 ],
 "metadata": {
  "kernelspec": {
   "display_name": "Python 2",
   "language": "python",
   "name": "python2"
  },
  "language_info": {
   "codemirror_mode": {
    "name": "ipython",
    "version": 2
   },
   "file_extension": ".py",
   "mimetype": "text/x-python",
   "name": "python",
   "nbconvert_exporter": "python",
   "pygments_lexer": "ipython2",
   "version": "2.7.11"
  }
 },
 "nbformat": 4,
 "nbformat_minor": 0
}
