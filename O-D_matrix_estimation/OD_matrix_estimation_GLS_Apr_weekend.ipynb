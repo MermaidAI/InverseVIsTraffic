{
 "cells": [
  {
   "cell_type": "code",
   "execution_count": 1,
   "metadata": {
    "collapsed": true
   },
   "outputs": [],
   "source": [
    "%run ../Python_files/util_data_storage_and_load.py"
   ]
  },
  {
   "cell_type": "code",
   "execution_count": 2,
   "metadata": {
    "collapsed": true
   },
   "outputs": [],
   "source": [
    "%run ../Python_files/load_dicts.py"
   ]
  },
  {
   "cell_type": "code",
   "execution_count": 3,
   "metadata": {
    "collapsed": false
   },
   "outputs": [],
   "source": [
    "%run ../Python_files/util.py"
   ]
  },
  {
   "cell_type": "code",
   "execution_count": 4,
   "metadata": {
    "collapsed": true
   },
   "outputs": [],
   "source": [
    "# load logit_route_choice_probability_matrix\n",
    "P = zload('../temp_files/logit_route_choice_probability_matrix.pkz')"
   ]
  },
  {
   "cell_type": "code",
   "execution_count": 5,
   "metadata": {
    "collapsed": false
   },
   "outputs": [],
   "source": [
    "import numpy as np\n",
    "from numpy.linalg import inv\n",
    "\n",
    "P = np.matrix(P)"
   ]
  },
  {
   "cell_type": "code",
   "execution_count": 6,
   "metadata": {
    "collapsed": false
   },
   "outputs": [
    {
     "data": {
      "text/plain": [
       "(56, 140)"
      ]
     },
     "execution_count": 6,
     "metadata": {},
     "output_type": "execute_result"
    }
   ],
   "source": [
    "np.size(P, 0), np.size(P, 1)"
   ]
  },
  {
   "cell_type": "code",
   "execution_count": 7,
   "metadata": {
    "collapsed": true
   },
   "outputs": [],
   "source": [
    "import numpy as np\n",
    "from numpy.linalg import inv\n",
    "\n",
    "def samp_cov(x):\n",
    "    \"\"\"\n",
    "    x: sample matrix, each column is a link flow vector sample; 24 * K\n",
    "    K: number of samples\n",
    "    S: sample covariance matrix\n",
    "    ----------------\n",
    "    return: inv(S)\n",
    "    ----------------\n",
    "    \"\"\"\n",
    "    x = np.matrix(x)\n",
    "    K = np.size(x, 1)\n",
    "    x_mean = sum(x[:,k] for k in range(K)) / K\n",
    "    S = sum(np.dot(x[:,k] - x_mean, np.transpose(x[:,k] - x_mean)) for k in range(K)) / (K - 1)\n",
    "    return S"
   ]
  },
  {
   "cell_type": "code",
   "execution_count": 8,
   "metadata": {
    "collapsed": false
   },
   "outputs": [],
   "source": [
    "# load path-link incidence matrix\n",
    "A = zload('../temp_files/path-link_incidence_matrix.pkz')"
   ]
  },
  {
   "cell_type": "code",
   "execution_count": 9,
   "metadata": {
    "collapsed": false
   },
   "outputs": [],
   "source": [
    "# load link counts data\n",
    "\n",
    "import json\n",
    "\n",
    "with open('../temp_files/link_day_minute_Apr_dict_JSON.json', 'r') as json_file:\n",
    "    link_day_minute_Apr_dict_JSON = json.load(json_file)"
   ]
  },
  {
   "cell_type": "code",
   "execution_count": 85,
   "metadata": {
    "collapsed": true
   },
   "outputs": [],
   "source": [
    "#weekend_Apr_list = [1, 7, 8, 14, 15, 21, 22, 28, 29]\n",
    "weekend_Apr_list = [29]"
   ]
  },
  {
   "cell_type": "code",
   "execution_count": 86,
   "metadata": {
    "collapsed": false
   },
   "outputs": [],
   "source": [
    "link_day_minute_Apr_list = []\n",
    "for link_idx in range(24):\n",
    "    for day in weekend_Apr_list: \n",
    "        for minute_idx in range(120):\n",
    "            key = 'link_' + str(link_idx) + '_' + str(day)\n",
    "            link_day_minute_Apr_list.append(link_day_minute_Apr_dict_JSON[key] ['AM_flow_minute'][minute_idx])"
   ]
  },
  {
   "cell_type": "code",
   "execution_count": 87,
   "metadata": {
    "collapsed": false
   },
   "outputs": [
    {
     "data": {
      "text/plain": [
       "2880"
      ]
     },
     "execution_count": 87,
     "metadata": {},
     "output_type": "execute_result"
    }
   ],
   "source": [
    "len(link_day_minute_Apr_list)"
   ]
  },
  {
   "cell_type": "code",
   "execution_count": 88,
   "metadata": {
    "collapsed": false
   },
   "outputs": [],
   "source": [
    "x = np.matrix(link_day_minute_Apr_list)\n",
    "x = np.matrix.reshape(x, 24, 120)\n",
    "\n",
    "x = np.nan_to_num(x)\n",
    "y = np.array(np.transpose(x))\n",
    "y = y[np.all(y != 0, axis=1)]\n",
    "x = np.transpose(y)\n",
    "x = np.matrix(x)"
   ]
  },
  {
   "cell_type": "code",
   "execution_count": 89,
   "metadata": {
    "collapsed": false
   },
   "outputs": [
    {
     "data": {
      "text/plain": [
       "matrix([[ 3354.46592907,  2963.39881332],\n",
       "        [ 2338.51305622,  2720.50331889],\n",
       "        [ 3902.74728049,  3369.70731368],\n",
       "        [ 4343.92663555,  4037.38781843],\n",
       "        [ 3084.90398346,  4924.51618539],\n",
       "        [ 2876.24011799,  2903.36938298],\n",
       "        [ 3864.54695307,  3930.93680705],\n",
       "        [ 3243.28341576,  2796.63199938],\n",
       "        [ 3199.4504619 ,  3292.98126132],\n",
       "        [ 3343.32875148,  2494.70113654],\n",
       "        [ 2868.50066407,  2938.59611649],\n",
       "        [ 3844.85479029,  2334.84537858],\n",
       "        [ 2801.53318565,  4170.86075562],\n",
       "        [ 1754.75959421,  2734.17175647],\n",
       "        [ 2270.16645106,  2641.25639428],\n",
       "        [  544.7542192 ,  1550.96837297],\n",
       "        [ 3310.95406712,  2408.38196337],\n",
       "        [ 2724.20704972,  3183.58676193],\n",
       "        [ 2093.66889526,  2697.91510994],\n",
       "        [ 3494.84595788,  4338.72700904],\n",
       "        [ 1423.12272724,  2087.91779539],\n",
       "        [ 1699.32192555,  1878.41541622],\n",
       "        [ 2930.56802053,  2861.92610347],\n",
       "        [ 4127.50401686,  4609.49089332]])"
      ]
     },
     "execution_count": 89,
     "metadata": {},
     "output_type": "execute_result"
    }
   ],
   "source": [
    "x[:,:2]"
   ]
  },
  {
   "cell_type": "code",
   "execution_count": 90,
   "metadata": {
    "collapsed": false
   },
   "outputs": [
    {
     "data": {
      "text/plain": [
       "(24, 120)"
      ]
     },
     "execution_count": 90,
     "metadata": {},
     "output_type": "execute_result"
    }
   ],
   "source": [
    "np.size(x, 0), np.size(x, 1)"
   ]
  },
  {
   "cell_type": "code",
   "execution_count": 91,
   "metadata": {
    "collapsed": false
   },
   "outputs": [
    {
     "data": {
      "text/plain": [
       "(24, 140)"
      ]
     },
     "execution_count": 91,
     "metadata": {},
     "output_type": "execute_result"
    }
   ],
   "source": [
    "np.size(A,0), np.size(A,1)"
   ]
  },
  {
   "cell_type": "code",
   "execution_count": 92,
   "metadata": {
    "collapsed": false
   },
   "outputs": [
    {
     "name": "stdout",
     "output_type": "stream",
     "text": [
      "Optimize a model with 56 rows, 56 columns and 56 nonzeros\n",
      "Model has 1596 quadratic objective terms\n",
      "Coefficient statistics:\n",
      "  Matrix range    [1e+00, 1e+00]\n",
      "  Objective range [2e-01, 6e+00]\n",
      "  Bounds range    [0e+00, 0e+00]\n",
      "  RHS range       [0e+00, 0e+00]\n",
      "Presolve removed 56 rows and 0 columns\n",
      "Presolve time: 0.00s\n",
      "Presolved: 0 rows, 56 columns, 0 nonzeros\n",
      "Presolved model has 1596 quadratic objective terms\n",
      "Ordering time: 0.00s\n",
      "\n",
      "Barrier statistics:\n",
      " Free vars  : 24\n",
      " AA' NZ     : 2.760e+02\n",
      " Factor NZ  : 3.000e+02\n",
      " Factor Ops : 4.900e+03 (less than 1 second per iteration)\n",
      " Threads    : 1\n",
      "\n",
      "                  Objective                Residual\n",
      "Iter       Primal          Dual         Primal    Dual     Compl     Time\n",
      "   0  -3.05753460e+06  0.00000000e+00  9.77e+03 1.43e+02  9.31e+05     0s\n",
      "   1   3.10804076e+06 -3.96955991e+06  1.47e+02 1.14e-13  1.40e+05     0s\n",
      "   2   3.91656933e+05 -7.50496936e+05  1.47e-04 5.68e-14  2.04e+04     0s\n",
      "   3  -6.58490580e+03 -1.66844799e+05  1.47e-10 2.84e-14  2.86e+03     0s\n",
      "   4  -4.75586460e+04 -6.30989434e+04  9.66e-13 2.84e-14  2.78e+02     0s\n",
      "   5  -5.00090257e+04 -5.27443936e+04  1.11e-12 1.42e-14  4.88e+01     0s\n",
      "   6  -5.02424027e+04 -5.03044957e+04  8.53e-14 8.53e-14  1.11e+00     0s\n",
      "   7  -5.02652183e+04 -5.02762017e+04  2.86e-12 2.13e-14  1.96e-01     0s\n",
      "   8  -5.02702752e+04 -5.02724848e+04  5.71e-12 1.42e-14  3.95e-02     0s\n",
      "   9  -5.02711372e+04 -5.02711925e+04  3.50e-12 4.26e-14  9.87e-04     0s\n",
      "  10  -5.02711664e+04 -5.02711681e+04  5.19e-12 4.26e-14  3.03e-05     0s\n",
      "  11  -5.02711673e+04 -5.02711674e+04  1.01e-12 2.84e-14  1.85e-06     0s\n",
      "  12  -5.02711673e+04 -5.02711673e+04  9.46e-12 2.84e-14  6.36e-07     0s\n",
      "  13  -5.02711673e+04 -5.02711673e+04  5.97e-13 2.84e-14  2.12e-08     0s\n",
      "  14  -5.02711673e+04 -5.02711673e+04  8.24e-13 4.26e-14  1.24e-10     0s\n",
      "\n",
      "Barrier solved model in 14 iterations and 0.03 seconds\n",
      "Optimal objective -5.02711673e+04\n",
      "\n",
      "lam_0 5.59914e-10\n",
      "lam_1 1462.7\n",
      "lam_2 6.19025e-10\n",
      "lam_3 226.266\n",
      "lam_4 440.684\n",
      "lam_5 4130.73\n",
      "lam_6 1.86843e-07\n",
      "lam_7 1733.83\n",
      "lam_8 4.32764e-09\n",
      "lam_9 3339.6\n",
      "lam_10 4.32765e-09\n",
      "lam_11 4.32764e-09\n",
      "lam_12 4.32764e-09\n",
      "lam_13 4.35246e-09\n",
      "lam_14 1026.88\n",
      "lam_15 614.97\n",
      "lam_16 3.00449e-07\n",
      "lam_17 253.287\n",
      "lam_18 678.968\n",
      "lam_19 1.95465e-05\n",
      "lam_20 0.00110793\n",
      "lam_21 8.42376e-06\n",
      "lam_22 2920.48\n",
      "lam_23 6.22237e-07\n",
      "lam_24 2966.02\n",
      "lam_25 639.802\n",
      "lam_26 55.3074\n",
      "lam_27 2361.11\n",
      "lam_28 2100.42\n",
      "lam_29 753.881\n",
      "lam_30 5.85028e-07\n",
      "lam_31 1473.3\n",
      "lam_32 1202.28\n",
      "lam_33 2.19705e-07\n",
      "lam_34 0.000963732\n",
      "lam_35 2674.36\n",
      "lam_36 807.538\n",
      "lam_37 5.46871e-07\n",
      "lam_38 1449.7\n",
      "lam_39 0.00038001\n",
      "lam_40 0.00617913\n",
      "lam_41 0.00347163\n",
      "lam_42 5.91902e-07\n",
      "lam_43 5.9193e-07\n",
      "lam_44 2.71018e-07\n",
      "lam_45 3.0406e-07\n",
      "lam_46 2.78986e-07\n",
      "lam_47 1553.97\n",
      "lam_48 2765.16\n",
      "lam_49 5.9384e-07\n",
      "lam_50 5.98742e-07\n",
      "lam_51 5.92131e-07\n",
      "lam_52 3214.55\n",
      "lam_53 3090.94\n",
      "lam_54 169.854\n",
      "lam_55 117.336\n",
      "Obj: -50268.7\n"
     ]
    }
   ],
   "source": [
    "from gurobipy import *\n",
    "\n",
    "L = 56  # dimension of lam\n",
    "\n",
    "K = np.size(x, 1)\n",
    "S = samp_cov(x)\n",
    "inv_S = inv(S)\n",
    "\n",
    "A_t = np.transpose(A)\n",
    "P_t = np.transpose(P)\n",
    "# PA'\n",
    "PA_t = np.dot(P, A_t)\n",
    "# AP_t\n",
    "AP_t = np.transpose(PA_t)\n",
    "\n",
    "Q = np.dot(np.dot(PA_t, inv_S), AP_t)\n",
    "b = sum([np.dot(np.dot(PA_t, inv_S), x[:, k]) for k in range(K)])\n",
    "\n",
    "\n",
    "model = Model(\"OD_matrix_estimation\")\n",
    "\n",
    "lam = []\n",
    "for l in range(L):\n",
    "    lam.append(model.addVar(name='lam_' + str(l)))\n",
    "\n",
    "model.update() \n",
    "\n",
    "# Set objective: (K/2) lam' * Q * lam - b' * lam\n",
    "obj = 0\n",
    "for i in range(L):\n",
    "    for j in range(L):\n",
    "        obj += (1.0 /2) * K * lam[i] * Q[i, j] * lam[j]\n",
    "for l in range(L):\n",
    "    obj += - b[l] * lam[l]\n",
    "model.setObjective(obj)\n",
    "\n",
    "# Add constraint: lam >= 0\n",
    "for l in range(L):\n",
    "    model.addConstr(lam[l] >= 0)\n",
    "\n",
    "model.update() \n",
    "\n",
    "model.optimize()\n",
    "\n",
    "lam_list = []\n",
    "for v in model.getVars():\n",
    "    print('%s %g' % (v.varName, v.x))\n",
    "    lam_list.append(v.x)\n",
    "print('Obj: %g' % obj.getValue())"
   ]
  },
  {
   "cell_type": "code",
   "execution_count": 93,
   "metadata": {
    "collapsed": true
   },
   "outputs": [],
   "source": [
    "# write estimation result to file\n",
    "n = 8  # number of nodes\n",
    "with open('../temp_files/OD_demand_matrix_Apr_29_weekend.txt', 'w') as the_file:\n",
    "    idx = 0\n",
    "    for i in range(n + 1)[1:]:\n",
    "        for j in range(n + 1)[1:]:\n",
    "            if i != j: \n",
    "                the_file.write(\"%d,%d,%f\\n\" %(i, j, lam_list[idx]))\n",
    "                idx += 1"
   ]
  },
  {
   "cell_type": "code",
   "execution_count": 94,
   "metadata": {
    "collapsed": false
   },
   "outputs": [
    {
     "data": {
      "text/plain": [
       "[5.599142076664907e-10,\n",
       " 1462.7038846919995,\n",
       " 6.190252549938277e-10,\n",
       " 226.26649018602458,\n",
       " 440.68371436199254,\n",
       " 4130.73284774021,\n",
       " 1.8684290223928643e-07,\n",
       " 1733.8319870217338,\n",
       " 4.327638311952276e-09,\n",
       " 3339.6001719347555,\n",
       " 4.327645320159098e-09,\n",
       " 4.327641136046096e-09,\n",
       " 4.327639095853317e-09,\n",
       " 4.352457120088865e-09,\n",
       " 1026.879507876131,\n",
       " 614.9703512154442,\n",
       " 3.0044932333914945e-07,\n",
       " 253.28673199377408,\n",
       " 678.9684719779656,\n",
       " 1.9546526168669892e-05,\n",
       " 0.001107927508293416,\n",
       " 8.423763538763706e-06,\n",
       " 2920.4779395354203,\n",
       " 6.222366366778314e-07,\n",
       " 2966.0150622976735,\n",
       " 639.8015482526905,\n",
       " 55.307354578236,\n",
       " 2361.1052202019205,\n",
       " 2100.4171845027304,\n",
       " 753.8809573235212,\n",
       " 5.8502822242587e-07,\n",
       " 1473.3020967372543,\n",
       " 1202.2787163736864,\n",
       " 2.197046729565075e-07,\n",
       " 0.0009637317835601011,\n",
       " 2674.3602723205045,\n",
       " 807.5377526625059,\n",
       " 5.468711042561428e-07,\n",
       " 1449.7038860891996,\n",
       " 0.00038000989279964037,\n",
       " 0.006179130146833023,\n",
       " 0.003471631707992029,\n",
       " 5.919023293271644e-07,\n",
       " 5.919299051661292e-07,\n",
       " 2.710183452005329e-07,\n",
       " 3.0405981268702556e-07,\n",
       " 2.789860486477553e-07,\n",
       " 1553.9735267735032,\n",
       " 2765.1624624030947,\n",
       " 5.938403591150717e-07,\n",
       " 5.987418328748698e-07,\n",
       " 5.921312072708075e-07,\n",
       " 3214.5511811569318,\n",
       " 3090.9384991589004,\n",
       " 169.85438461199115,\n",
       " 117.33632869218313]"
      ]
     },
     "execution_count": 94,
     "metadata": {},
     "output_type": "execute_result"
    }
   ],
   "source": [
    "lam_list"
   ]
  },
  {
   "cell_type": "code",
   "execution_count": null,
   "metadata": {
    "collapsed": true
   },
   "outputs": [],
   "source": []
  }
 ],
 "metadata": {
  "kernelspec": {
   "display_name": "Python 2",
   "language": "python",
   "name": "python2"
  },
  "language_info": {
   "codemirror_mode": {
    "name": "ipython",
    "version": 2
   },
   "file_extension": ".py",
   "mimetype": "text/x-python",
   "name": "python",
   "nbconvert_exporter": "python",
   "pygments_lexer": "ipython2",
   "version": "2.7.11"
  }
 },
 "nbformat": 4,
 "nbformat_minor": 0
}
