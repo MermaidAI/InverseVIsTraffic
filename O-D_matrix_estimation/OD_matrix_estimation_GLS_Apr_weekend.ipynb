{
 "cells": [
  {
   "cell_type": "code",
   "execution_count": 1,
   "metadata": {
    "collapsed": true
   },
   "outputs": [],
   "source": [
    "%run ../Python_files/util_data_storage_and_load.py"
   ]
  },
  {
   "cell_type": "code",
   "execution_count": 2,
   "metadata": {
    "collapsed": true
   },
   "outputs": [],
   "source": [
    "%run ../Python_files/load_dicts.py"
   ]
  },
  {
   "cell_type": "code",
   "execution_count": 3,
   "metadata": {
    "collapsed": false
   },
   "outputs": [],
   "source": [
    "%run ../Python_files/util.py"
   ]
  },
  {
   "cell_type": "code",
   "execution_count": 4,
   "metadata": {
    "collapsed": true
   },
   "outputs": [],
   "source": [
    "# load logit_route_choice_probability_matrix\n",
    "P = zload('../temp_files/logit_route_choice_probability_matrix.pkz')"
   ]
  },
  {
   "cell_type": "code",
   "execution_count": 5,
   "metadata": {
    "collapsed": false
   },
   "outputs": [],
   "source": [
    "import numpy as np\n",
    "from numpy.linalg import inv\n",
    "\n",
    "P = np.matrix(P)"
   ]
  },
  {
   "cell_type": "code",
   "execution_count": 6,
   "metadata": {
    "collapsed": false
   },
   "outputs": [
    {
     "data": {
      "text/plain": [
       "(56, 140)"
      ]
     },
     "execution_count": 6,
     "metadata": {},
     "output_type": "execute_result"
    }
   ],
   "source": [
    "np.size(P, 0), np.size(P, 1)"
   ]
  },
  {
   "cell_type": "code",
   "execution_count": 7,
   "metadata": {
    "collapsed": true
   },
   "outputs": [],
   "source": [
    "import numpy as np\n",
    "from numpy.linalg import inv\n",
    "\n",
    "def samp_cov(x):\n",
    "    \"\"\"\n",
    "    x: sample matrix, each column is a link flow vector sample; 24 * K\n",
    "    K: number of samples\n",
    "    S: sample covariance matrix\n",
    "    ----------------\n",
    "    return: inv(S)\n",
    "    ----------------\n",
    "    \"\"\"\n",
    "    x = np.matrix(x)\n",
    "    K = np.size(x, 1)\n",
    "    x_mean = sum(x[:,k] for k in range(K)) / K\n",
    "    S = sum(np.dot(x[:,k] - x_mean, np.transpose(x[:,k] - x_mean)) for k in range(K)) / (K - 1)\n",
    "    return S"
   ]
  },
  {
   "cell_type": "code",
   "execution_count": 8,
   "metadata": {
    "collapsed": false
   },
   "outputs": [],
   "source": [
    "# load path-link incidence matrix\n",
    "A = zload('../temp_files/path-link_incidence_matrix.pkz')"
   ]
  },
  {
   "cell_type": "code",
   "execution_count": 9,
   "metadata": {
    "collapsed": false
   },
   "outputs": [],
   "source": [
    "# load link counts data\n",
    "\n",
    "import json\n",
    "\n",
    "with open('../temp_files/link_day_minute_Apr_dict_JSON.json', 'r') as json_file:\n",
    "    link_day_minute_Apr_dict_JSON = json.load(json_file)"
   ]
  },
  {
   "cell_type": "code",
   "execution_count": 18,
   "metadata": {
    "collapsed": true
   },
   "outputs": [],
   "source": [
    "#weekend_Apr_list = [1, 7, 8, 14, 15, 21, 22, 28, 29]\n",
    "weekend_Apr_list = [1, 8, 15, 22, 29]"
   ]
  },
  {
   "cell_type": "code",
   "execution_count": 19,
   "metadata": {
    "collapsed": false
   },
   "outputs": [],
   "source": [
    "link_day_minute_Apr_list = []\n",
    "for link_idx in range(24):\n",
    "    for day in weekend_Apr_list: \n",
    "        for minute_idx in range(120):\n",
    "            key = 'link_' + str(link_idx) + '_' + str(day)\n",
    "            link_day_minute_Apr_list.append(link_day_minute_Apr_dict_JSON[key] ['AM_flow_minute'][minute_idx])"
   ]
  },
  {
   "cell_type": "code",
   "execution_count": 20,
   "metadata": {
    "collapsed": false
   },
   "outputs": [
    {
     "data": {
      "text/plain": [
       "14400"
      ]
     },
     "execution_count": 20,
     "metadata": {},
     "output_type": "execute_result"
    }
   ],
   "source": [
    "len(link_day_minute_Apr_list)"
   ]
  },
  {
   "cell_type": "code",
   "execution_count": 21,
   "metadata": {
    "collapsed": false
   },
   "outputs": [],
   "source": [
    "x = np.matrix(link_day_minute_Apr_list)\n",
    "x = np.matrix.reshape(x, 24, 600)\n",
    "\n",
    "x = np.nan_to_num(x)\n",
    "y = np.array(np.transpose(x))\n",
    "y = y[np.all(y != 0, axis=1)]\n",
    "x = np.transpose(y)\n",
    "x = np.matrix(x)"
   ]
  },
  {
   "cell_type": "code",
   "execution_count": 22,
   "metadata": {
    "collapsed": false
   },
   "outputs": [
    {
     "data": {
      "text/plain": [
       "matrix([[ 1287.28948464,  1271.34101398],\n",
       "        [ 1213.522316  ,  1254.38538945],\n",
       "        [ 1556.31480605,  1542.76934181],\n",
       "        [ 1570.56378118,  1592.29391951],\n",
       "        [ 1534.11012025,  1561.65513209],\n",
       "        [ 1579.87929533,  1598.10809301],\n",
       "        [ 1308.3285316 ,  1310.37496981],\n",
       "        [ 1257.64327598,  1283.19889696],\n",
       "        [ 1664.02988359,  1668.86194482],\n",
       "        [ 1669.96452786,  1665.96202488],\n",
       "        [ 1445.05731617,  1427.55655979],\n",
       "        [ 1257.52210986,  1284.88655777],\n",
       "        [ 1129.07710533,  1147.25662807],\n",
       "        [ 1367.91027111,  1266.27863782],\n",
       "        [ 1208.9939992 ,  1222.26082272],\n",
       "        [ 1013.50767283,   919.17982698],\n",
       "        [ 1274.76058234,  1261.49406794],\n",
       "        [ 1313.79783333,  1288.06853512],\n",
       "        [ 1568.33747432,  1495.2566459 ],\n",
       "        [ 1564.0549542 ,  1498.07658732],\n",
       "        [ 1394.98827601,  1419.30274259],\n",
       "        [ 1320.61203112,  1407.91038881],\n",
       "        [ 1298.99132597,  1302.07907642],\n",
       "        [ 1307.31011551,  1289.26707398]])"
      ]
     },
     "execution_count": 22,
     "metadata": {},
     "output_type": "execute_result"
    }
   ],
   "source": [
    "x[:,:2]"
   ]
  },
  {
   "cell_type": "code",
   "execution_count": 23,
   "metadata": {
    "collapsed": false
   },
   "outputs": [
    {
     "data": {
      "text/plain": [
       "(24, 600)"
      ]
     },
     "execution_count": 23,
     "metadata": {},
     "output_type": "execute_result"
    }
   ],
   "source": [
    "np.size(x, 0), np.size(x, 1)"
   ]
  },
  {
   "cell_type": "code",
   "execution_count": 24,
   "metadata": {
    "collapsed": false
   },
   "outputs": [
    {
     "data": {
      "text/plain": [
       "(24, 140)"
      ]
     },
     "execution_count": 24,
     "metadata": {},
     "output_type": "execute_result"
    }
   ],
   "source": [
    "np.size(A,0), np.size(A,1)"
   ]
  },
  {
   "cell_type": "code",
   "execution_count": 25,
   "metadata": {
    "collapsed": false
   },
   "outputs": [
    {
     "name": "stdout",
     "output_type": "stream",
     "text": [
      "Optimize a model with 56 rows, 56 columns and 56 nonzeros\n",
      "Model has 1596 quadratic objective terms\n",
      "Coefficient statistics:\n",
      "  Matrix range    [1e+00, 1e+00]\n",
      "  Objective range [9e+00, 3e+03]\n",
      "  Bounds range    [0e+00, 0e+00]\n",
      "  RHS range       [0e+00, 0e+00]\n",
      "Warning: diagonal adjustment of 7.4e-10 performed to make Q PSD\n",
      "Presolve removed 56 rows and 0 columns\n",
      "Presolve time: 0.00s\n",
      "Presolved: 0 rows, 56 columns, 0 nonzeros\n",
      "Presolved model has 1596 quadratic objective terms\n",
      "Ordering time: 0.00s\n",
      "\n",
      "Barrier statistics:\n",
      " Free vars  : 27\n",
      " AA' NZ     : 3.510e+02\n",
      " Factor NZ  : 3.780e+02\n",
      " Factor Ops : 6.930e+03 (less than 1 second per iteration)\n",
      " Threads    : 1\n",
      "\n",
      "                  Objective                Residual\n",
      "Iter       Primal          Dual         Primal    Dual     Compl     Time\n",
      "   0  -3.58743869e+07  0.00000000e+00  5.98e+03 1.09e+03  1.00e+06     0s\n",
      "   1  -7.81216974e+06 -8.89805032e+06  5.62e+02 1.03e+02  1.89e+05     0s\n",
      "   2  -5.43615933e+06 -6.62008136e+06  1.03e+01 1.88e+00  2.35e+04     0s\n",
      "   3  -5.57013178e+06 -5.66012165e+06  1.81e-03 3.31e-04  1.61e+03     0s\n",
      "   4  -5.58535403e+06 -5.58890923e+06  5.88e-06 1.08e-06  6.35e+01     0s\n",
      "   5  -5.58697373e+06 -5.58750442e+06  5.39e-10 1.14e-12  9.48e+00     0s\n",
      "   6  -5.58726211e+06 -5.58732166e+06  3.32e-10 1.82e-12  1.06e+00     0s\n",
      "   7  -5.58730914e+06 -5.58731266e+06  1.11e-09 4.55e-13  6.28e-02     0s\n",
      "   8  -5.58731177e+06 -5.58731183e+06  5.89e-10 9.09e-13  9.12e-04     0s\n",
      "   9  -5.58731181e+06 -5.58731181e+06  3.09e-10 4.55e-13  3.38e-05     0s\n",
      "  10  -5.58731181e+06 -5.58731181e+06  4.07e-10 9.09e-13  6.56e-06     0s\n",
      "  11  -5.58731181e+06 -5.58731181e+06  7.73e-12 9.09e-13  3.72e-07     0s\n",
      "  12  -5.58731181e+06 -5.58731181e+06  7.96e-12 1.70e-10  2.32e-08     0s\n",
      "  13  -5.58731181e+06 -5.58731181e+06  9.32e-12 2.36e-10  1.41e-09     0s\n",
      "\n",
      "Barrier solved model in 13 iterations and 0.02 seconds\n",
      "Optimal objective -5.58731181e+06\n",
      "\n",
      "lam_0 2.30551e-12\n",
      "lam_1 1277.34\n",
      "lam_2 2.53266e-12\n",
      "lam_3 608.497\n",
      "lam_4 98.463\n",
      "lam_5 330.52\n",
      "lam_6 7.64277e-10\n",
      "lam_7 759.807\n",
      "lam_8 1.66315e-10\n",
      "lam_9 1218.19\n",
      "lam_10 1.66315e-10\n",
      "lam_11 1.66315e-10\n",
      "lam_12 1.66315e-10\n",
      "lam_13 1.67268e-10\n",
      "lam_14 1915.9\n",
      "lam_15 783.644\n",
      "lam_16 142.564\n",
      "lam_17 135.022\n",
      "lam_18 497.444\n",
      "lam_19 260.429\n",
      "lam_20 283.722\n",
      "lam_21 2.03776e-05\n",
      "lam_22 1188.96\n",
      "lam_23 1270.01\n",
      "lam_24 0.0517606\n",
      "lam_25 0.111233\n",
      "lam_26 0.0452608\n",
      "lam_27 1072.76\n",
      "lam_28 0.031423\n",
      "lam_29 103.35\n",
      "lam_30 0.045772\n",
      "lam_31 0.0611345\n",
      "lam_32 1044.62\n",
      "lam_33 563.297\n",
      "lam_34 173.254\n",
      "lam_35 0.105911\n",
      "lam_36 12.0094\n",
      "lam_37 960.211\n",
      "lam_38 938.182\n",
      "lam_39 0.116915\n",
      "lam_40 866.057\n",
      "lam_41 192.608\n",
      "lam_42 2.35073e-06\n",
      "lam_43 2.35075e-06\n",
      "lam_44 2.35075e-06\n",
      "lam_45 205.02\n",
      "lam_46 65.5161\n",
      "lam_47 1131.22\n",
      "lam_48 333.943\n",
      "lam_49 2.35682e-06\n",
      "lam_50 2.37571e-06\n",
      "lam_51 2.34974e-06\n",
      "lam_52 1155.54\n",
      "lam_53 1221.98\n",
      "lam_54 0.00892524\n",
      "lam_55 0.00892722\n",
      "Obj: -5.58731e+06\n"
     ]
    }
   ],
   "source": [
    "from gurobipy import *\n",
    "\n",
    "L = 56  # dimension of lam\n",
    "\n",
    "K = np.size(x, 1)\n",
    "S = samp_cov(x)\n",
    "inv_S = inv(S)\n",
    "\n",
    "A_t = np.transpose(A)\n",
    "P_t = np.transpose(P)\n",
    "# PA'\n",
    "PA_t = np.dot(P, A_t)\n",
    "# AP_t\n",
    "AP_t = np.transpose(PA_t)\n",
    "\n",
    "Q = np.dot(np.dot(PA_t, inv_S), AP_t)\n",
    "b = sum([np.dot(np.dot(PA_t, inv_S), x[:, k]) for k in range(K)])\n",
    "\n",
    "\n",
    "model = Model(\"OD_matrix_estimation\")\n",
    "\n",
    "lam = []\n",
    "for l in range(L):\n",
    "    lam.append(model.addVar(name='lam_' + str(l)))\n",
    "\n",
    "model.update() \n",
    "\n",
    "# Set objective: (K/2) lam' * Q * lam - b * lam\n",
    "obj = 0\n",
    "for i in range(L):\n",
    "    for j in range(L):\n",
    "        obj += (1.0 /2) * K * lam[i] * Q[i, j] * lam[j]\n",
    "for l in range(L):\n",
    "    obj += - b[l] * lam[l]\n",
    "model.setObjective(obj)\n",
    "\n",
    "# Add constraint: lam >= 0\n",
    "for l in range(L):\n",
    "    model.addConstr(lam[l] >= 0)\n",
    "\n",
    "model.update() \n",
    "\n",
    "model.optimize()\n",
    "\n",
    "lam_list = []\n",
    "for v in model.getVars():\n",
    "    print('%s %g' % (v.varName, v.x))\n",
    "    lam_list.append(v.x)\n",
    "print('Obj: %g' % obj.getValue())"
   ]
  },
  {
   "cell_type": "code",
   "execution_count": 26,
   "metadata": {
    "collapsed": true
   },
   "outputs": [],
   "source": [
    "# write estimation result to file\n",
    "n = 8  # number of nodes\n",
    "with open('../temp_files/OD_demand_matrix_Apr_weekend.txt', 'w') as the_file:\n",
    "    idx = 0\n",
    "    for i in range(n + 1)[1:]:\n",
    "        for j in range(n + 1)[1:]:\n",
    "            if i != j: \n",
    "                the_file.write(\"%d,%d,%f\\n\" %(i, j, lam_list[idx]))\n",
    "                idx += 1"
   ]
  },
  {
   "cell_type": "code",
   "execution_count": 27,
   "metadata": {
    "collapsed": false
   },
   "outputs": [
    {
     "data": {
      "text/plain": [
       "[2.305513995101105e-12,\n",
       " 1277.3437539715562,\n",
       " 2.5326551013852442e-12,\n",
       " 608.4965888047899,\n",
       " 98.46299696262315,\n",
       " 330.52031433570824,\n",
       " 7.642767604634633e-10,\n",
       " 759.8072933402378,\n",
       " 1.6631460286263867e-10,\n",
       " 1218.1944218039632,\n",
       " 1.6631460287889814e-10,\n",
       " 1.6631460286964985e-10,\n",
       " 1.663146028626978e-10,\n",
       " 1.6726832626736298e-10,\n",
       " 1915.8954659493352,\n",
       " 783.6444580976985,\n",
       " 142.564184684521,\n",
       " 135.0218465811858,\n",
       " 497.44432005524607,\n",
       " 260.4285275724006,\n",
       " 283.7218433700526,\n",
       " 2.037762686860875e-05,\n",
       " 1188.9560921147047,\n",
       " 1270.0123152707204,\n",
       " 0.051760591790202426,\n",
       " 0.11123272924518801,\n",
       " 0.045260833927113,\n",
       " 1072.7566596246083,\n",
       " 0.03142300521284591,\n",
       " 103.34984717231433,\n",
       " 0.04577202738103403,\n",
       " 0.06113449188906839,\n",
       " 1044.616099687717,\n",
       " 563.2966023460996,\n",
       " 173.2536289370425,\n",
       " 0.1059112608817383,\n",
       " 12.009389413380276,\n",
       " 960.2106754249772,\n",
       " 938.1822277565511,\n",
       " 0.11691509213606777,\n",
       " 866.0574979638762,\n",
       " 192.60789343670626,\n",
       " 2.3507254350347455e-06,\n",
       " 2.3507511708667427e-06,\n",
       " 2.3507492248021767e-06,\n",
       " 205.020308572559,\n",
       " 65.51609507873229,\n",
       " 1131.218808505402,\n",
       " 333.94278787552093,\n",
       " 2.356822099466819e-06,\n",
       " 2.3757122056046215e-06,\n",
       " 2.349740345084006e-06,\n",
       " 1155.5357643322654,\n",
       " 1221.9754214499353,\n",
       " 0.008925241953661595,\n",
       " 0.008927217774097024]"
      ]
     },
     "execution_count": 27,
     "metadata": {},
     "output_type": "execute_result"
    }
   ],
   "source": [
    "lam_list"
   ]
  },
  {
   "cell_type": "code",
   "execution_count": null,
   "metadata": {
    "collapsed": true
   },
   "outputs": [],
   "source": []
  }
 ],
 "metadata": {
  "kernelspec": {
   "display_name": "Python 2",
   "language": "python",
   "name": "python2"
  },
  "language_info": {
   "codemirror_mode": {
    "name": "ipython",
    "version": 2
   },
   "file_extension": ".py",
   "mimetype": "text/x-python",
   "name": "python",
   "nbconvert_exporter": "python",
   "pygments_lexer": "ipython2",
   "version": "2.7.11"
  }
 },
 "nbformat": 4,
 "nbformat_minor": 0
}
