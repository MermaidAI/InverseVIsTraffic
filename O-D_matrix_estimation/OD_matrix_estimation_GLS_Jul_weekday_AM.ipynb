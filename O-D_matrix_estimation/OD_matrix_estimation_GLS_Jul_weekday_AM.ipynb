{
 "cells": [
  {
   "cell_type": "code",
   "execution_count": 20,
   "metadata": {
    "collapsed": true
   },
   "outputs": [],
   "source": [
    "%run ../Python_files/util_data_storage_and_load.py"
   ]
  },
  {
   "cell_type": "code",
   "execution_count": 2,
   "metadata": {
    "collapsed": true
   },
   "outputs": [],
   "source": [
    "%run ../Python_files/load_dicts.py"
   ]
  },
  {
   "cell_type": "code",
   "execution_count": 3,
   "metadata": {
    "collapsed": false
   },
   "outputs": [],
   "source": [
    "%run ../Python_files/util.py"
   ]
  },
  {
   "cell_type": "code",
   "execution_count": 4,
   "metadata": {
    "collapsed": true
   },
   "outputs": [],
   "source": [
    "# load logit_route_choice_probability_matrix\n",
    "P = zload('../temp_files/logit_route_choice_probability_matrix.pkz')"
   ]
  },
  {
   "cell_type": "code",
   "execution_count": 5,
   "metadata": {
    "collapsed": false
   },
   "outputs": [],
   "source": [
    "import numpy as np\n",
    "from numpy.linalg import inv\n",
    "\n",
    "P = np.matrix(P)"
   ]
  },
  {
   "cell_type": "code",
   "execution_count": 6,
   "metadata": {
    "collapsed": false
   },
   "outputs": [
    {
     "data": {
      "text/plain": [
       "(56, 140)"
      ]
     },
     "execution_count": 6,
     "metadata": {},
     "output_type": "execute_result"
    }
   ],
   "source": [
    "np.size(P, 0), np.size(P, 1)"
   ]
  },
  {
   "cell_type": "code",
   "execution_count": 7,
   "metadata": {
    "collapsed": true
   },
   "outputs": [],
   "source": [
    "import numpy as np\n",
    "from numpy.linalg import inv\n",
    "\n",
    "def samp_cov(x):\n",
    "    \"\"\"\n",
    "    x: sample matrix, each column is a link flow vector sample; 24 * K\n",
    "    K: number of samples\n",
    "    S: sample covariance matrix\n",
    "    ----------------\n",
    "    return: inv(S)\n",
    "    ----------------\n",
    "    \"\"\"\n",
    "    x = np.matrix(x)\n",
    "    K = np.size(x, 1)\n",
    "    x_mean = sum(x[:,k] for k in range(K)) / K\n",
    "    S = sum(np.dot(x[:,k] - x_mean, np.transpose(x[:,k] - x_mean)) for k in range(K)) / (K - 1)\n",
    "    return S"
   ]
  },
  {
   "cell_type": "code",
   "execution_count": 8,
   "metadata": {
    "collapsed": false
   },
   "outputs": [],
   "source": [
    "# load path-link incidence matrix\n",
    "A = zload('../temp_files/path-link_incidence_matrix.pkz')"
   ]
  },
  {
   "cell_type": "code",
   "execution_count": 9,
   "metadata": {
    "collapsed": false
   },
   "outputs": [],
   "source": [
    "# load link counts data\n",
    "\n",
    "import json\n",
    "\n",
    "with open('../temp_files/link_day_minute_Jul_dict_JSON.json', 'r') as json_file:\n",
    "    link_day_minute_Jul_dict_JSON = json.load(json_file)"
   ]
  },
  {
   "cell_type": "code",
   "execution_count": 21,
   "metadata": {
    "collapsed": true
   },
   "outputs": [],
   "source": [
    "# week_day_Jul_list = [2, 3, 4, 5, 6, 9, 10, 11, 12, 13, 16, 17, 18, 19, 20, 23, 24, 25, 26, 27, 30, 31]\n",
    "week_day_Jul_list = [2, 9, 16, 23, 30, 31]"
   ]
  },
  {
   "cell_type": "code",
   "execution_count": 22,
   "metadata": {
    "collapsed": false
   },
   "outputs": [],
   "source": [
    "link_day_minute_Jul_list = []\n",
    "for link_idx in range(24):\n",
    "    for day in week_day_Jul_list: \n",
    "        for minute_idx in range(120):\n",
    "            key = 'link_' + str(link_idx) + '_' + str(day)\n",
    "            link_day_minute_Jul_list.append(link_day_minute_Jul_dict_JSON[key] ['AM_flow_minute'][minute_idx])"
   ]
  },
  {
   "cell_type": "code",
   "execution_count": 23,
   "metadata": {
    "collapsed": false
   },
   "outputs": [
    {
     "data": {
      "text/plain": [
       "17280"
      ]
     },
     "execution_count": 23,
     "metadata": {},
     "output_type": "execute_result"
    }
   ],
   "source": [
    "len(link_day_minute_Jul_list)"
   ]
  },
  {
   "cell_type": "code",
   "execution_count": 24,
   "metadata": {
    "collapsed": false
   },
   "outputs": [],
   "source": [
    "x = np.matrix(link_day_minute_Jul_list)\n",
    "x = np.matrix.reshape(x, 24, 720)\n",
    "\n",
    "x = np.nan_to_num(x)\n",
    "y = np.array(np.transpose(x))\n",
    "y = y[np.all(y != 0, axis=1)]\n",
    "x = np.transpose(y)\n",
    "x = np.matrix(x)"
   ]
  },
  {
   "cell_type": "code",
   "execution_count": 25,
   "metadata": {
    "collapsed": false
   },
   "outputs": [
    {
     "data": {
      "text/plain": [
       "(24, 720)"
      ]
     },
     "execution_count": 25,
     "metadata": {},
     "output_type": "execute_result"
    }
   ],
   "source": [
    "np.size(x, 0), np.size(x, 1)"
   ]
  },
  {
   "cell_type": "code",
   "execution_count": 26,
   "metadata": {
    "collapsed": false
   },
   "outputs": [
    {
     "data": {
      "text/plain": [
       "matrix([[  2136.06674665,   2008.03265958],\n",
       "        [  2775.0543623 ,   5468.17490943],\n",
       "        [  3033.91173729,   3047.60914358],\n",
       "        [  5158.83944197,   5394.98263971],\n",
       "        [  3182.06559307,   3444.44727344],\n",
       "        [  9103.90874818,   8867.68405924],\n",
       "        [  2678.65145695,   2640.19073646],\n",
       "        [  2748.06623017,   3296.74133768],\n",
       "        [  6257.27450378,   8436.71914537],\n",
       "        [ 10663.45670255,  10991.55537808],\n",
       "        [  7545.06461598,   8896.28419843],\n",
       "        [  8125.21554502,   8728.30233267],\n",
       "        [  7507.71498527,   6131.11623836],\n",
       "        [  3010.41299015,   1051.25994621],\n",
       "        [  6769.72409266,   3680.54976191],\n",
       "        [  1517.99174628,   1984.67118849],\n",
       "        [  2701.27571664,   3095.10067561],\n",
       "        [  1788.12023883,   2238.52827238],\n",
       "        [ 12473.87484785,  13375.45259996],\n",
       "        [  2315.29324646,   2472.40915216],\n",
       "        [ 10656.4209806 ,  11190.66546003],\n",
       "        [  4000.83198032,   4325.07903563],\n",
       "        [  2582.1359908 ,   3037.29020868],\n",
       "        [  1699.31409008,   2075.65076349]])"
      ]
     },
     "execution_count": 26,
     "metadata": {},
     "output_type": "execute_result"
    }
   ],
   "source": [
    "x[:,:2]"
   ]
  },
  {
   "cell_type": "code",
   "execution_count": 27,
   "metadata": {
    "collapsed": false
   },
   "outputs": [
    {
     "data": {
      "text/plain": [
       "(24, 140)"
      ]
     },
     "execution_count": 27,
     "metadata": {},
     "output_type": "execute_result"
    }
   ],
   "source": [
    "np.size(A,0), np.size(A,1)"
   ]
  },
  {
   "cell_type": "code",
   "execution_count": 28,
   "metadata": {
    "collapsed": false
   },
   "outputs": [
    {
     "name": "stdout",
     "output_type": "stream",
     "text": [
      "Optimize a model with 56 rows, 56 columns and 56 nonzeros\n",
      "Model has 1596 quadratic objective terms\n",
      "Coefficient statistics:\n",
      "  Matrix range    [1e+00, 1e+00]\n",
      "  Objective range [2e-02, 3e+01]\n",
      "  Bounds range    [0e+00, 0e+00]\n",
      "  RHS range       [0e+00, 0e+00]\n",
      "Presolve removed 56 rows and 0 columns\n",
      "Presolve time: 0.01s\n",
      "Presolved: 0 rows, 56 columns, 0 nonzeros\n",
      "Presolved model has 1596 quadratic objective terms\n",
      "Ordering time: 0.00s\n",
      "\n",
      "Barrier statistics:\n",
      " Free vars  : 24\n",
      " AA' NZ     : 2.760e+02\n",
      " Factor NZ  : 3.000e+02\n",
      " Factor Ops : 4.900e+03 (less than 1 second per iteration)\n",
      " Threads    : 1\n",
      "\n",
      "                  Objective                Residual\n",
      "Iter       Primal          Dual         Primal    Dual     Compl     Time\n",
      "   0  -6.33842012e+06  0.00000000e+00  5.83e+03 3.93e+02  1.00e+06     0s\n",
      "   1  -8.52649489e+03 -2.81102190e+06  1.04e+03 1.78e+02  2.36e+05     0s\n",
      "   2   1.24173996e+06 -2.74829849e+06  2.16e+00 1.45e-01  7.17e+04     0s\n",
      "   3  -2.00092437e+05 -7.64632631e+05  2.16e-06 1.45e-07  1.01e+04     0s\n",
      "   4  -3.54476543e+05 -4.46264148e+05  1.57e-07 1.06e-08  1.64e+03     0s\n",
      "   5  -3.69989807e+05 -3.86595159e+05  2.90e-12 1.71e-13  2.97e+02     0s\n",
      "   6  -3.72391020e+05 -3.73736011e+05  2.67e-12 3.41e-13  2.40e+01     0s\n",
      "   7  -3.72474996e+05 -3.72508494e+05  4.21e-12 1.71e-13  5.98e-01     0s\n",
      "   8  -3.72480446e+05 -3.72493078e+05  4.32e-12 5.68e-14  2.26e-01     0s\n",
      "   9  -3.72482366e+05 -3.72483555e+05  5.12e-13 3.41e-13  2.12e-02     0s\n",
      "  10  -3.72483015e+05 -3.72483125e+05  9.21e-12 1.14e-13  1.96e-03     0s\n",
      "  11  -3.72483060e+05 -3.72483082e+05  1.75e-11 2.84e-13  3.87e-04     0s\n",
      "  12  -3.72483070e+05 -3.72483070e+05  1.48e-12 1.14e-13  4.54e-07     0s\n",
      "  13  -3.72483070e+05 -3.72483070e+05  1.08e-12 1.71e-13  7.86e-10     0s\n",
      "\n",
      "Barrier solved model in 13 iterations and 0.03 seconds\n",
      "Optimal objective -3.72483070e+05\n",
      "\n",
      "lam_0 6.53954e-10\n",
      "lam_1 3055.98\n",
      "lam_2 7.17803e-10\n",
      "lam_3 2.67568e-06\n",
      "lam_4 1070.23\n",
      "lam_5 4.40596e-06\n",
      "lam_6 2.06493e-07\n",
      "lam_7 2635.28\n",
      "lam_8 1061.71\n",
      "lam_9 3360.99\n",
      "lam_10 2.63803e-06\n",
      "lam_11 410.811\n",
      "lam_12 4.33333e-06\n",
      "lam_13 4.40007e-06\n",
      "lam_14 254.808\n",
      "lam_15 208.039\n",
      "lam_16 8.69447e-07\n",
      "lam_17 2.68125e-06\n",
      "lam_18 1948.79\n",
      "lam_19 11535.3\n",
      "lam_20 4.38002e-06\n",
      "lam_21 2.97094e-05\n",
      "lam_22 4065.07\n",
      "lam_23 2.98045e-06\n",
      "lam_24 1680.16\n",
      "lam_25 1442.98\n",
      "lam_26 6832.66\n",
      "lam_27 2736.95\n",
      "lam_28 6413.77\n",
      "lam_29 6164.28\n",
      "lam_30 2.7951e-06\n",
      "lam_31 1826.99\n",
      "lam_32 5617.17\n",
      "lam_33 0.00010356\n",
      "lam_34 3.4522e-05\n",
      "lam_35 1.89388e-05\n",
      "lam_36 1.78174e-05\n",
      "lam_37 9062.59\n",
      "lam_38 9.2362e-07\n",
      "lam_39 2614.05\n",
      "lam_40 4069.4\n",
      "lam_41 1952.2\n",
      "lam_42 1042.29\n",
      "lam_43 1077.39\n",
      "lam_44 3.63146e-06\n",
      "lam_45 2.78085e-06\n",
      "lam_46 4.81316e-06\n",
      "lam_47 7685.83\n",
      "lam_48 3501.66\n",
      "lam_49 2.82477e-06\n",
      "lam_50 2.8612e-06\n",
      "lam_51 2.66513e-06\n",
      "lam_52 1889.64\n",
      "lam_53 2009.26\n",
      "lam_54 2.70336e-06\n",
      "lam_55 2.72329e-06\n",
      "Obj: -372478\n"
     ]
    }
   ],
   "source": [
    "from gurobipy import *\n",
    "\n",
    "L = 56  # dimension of lam\n",
    "\n",
    "K = np.size(x, 1)\n",
    "S = samp_cov(x)\n",
    "inv_S = inv(S)\n",
    "\n",
    "A_t = np.transpose(A)\n",
    "P_t = np.transpose(P)\n",
    "# PA'\n",
    "PA_t = np.dot(P, A_t)\n",
    "# AP_t\n",
    "AP_t = np.transpose(PA_t)\n",
    "\n",
    "Q = np.dot(np.dot(PA_t, inv_S), AP_t)\n",
    "b = sum([np.dot(np.dot(PA_t, inv_S), x[:, k]) for k in range(K)])\n",
    "\n",
    "\n",
    "model = Model(\"OD_matrix_estimation\")\n",
    "\n",
    "lam = []\n",
    "for l in range(L):\n",
    "    lam.append(model.addVar(name='lam_' + str(l)))\n",
    "\n",
    "model.update() \n",
    "\n",
    "# Set objective: (K/2) lam' * Q * lam - b' * lam\n",
    "obj = 0\n",
    "for i in range(L):\n",
    "    for j in range(L):\n",
    "        obj += (1.0 /2) * K * lam[i] * Q[i, j] * lam[j]\n",
    "for l in range(L):\n",
    "    obj += - b[l] * lam[l]\n",
    "model.setObjective(obj)\n",
    "\n",
    "# Add constraint: lam >= 0\n",
    "for l in range(L):\n",
    "    model.addConstr(lam[l] >= 0)\n",
    "\n",
    "model.update() \n",
    "\n",
    "model.optimize()\n",
    "\n",
    "lam_list = []\n",
    "for v in model.getVars():\n",
    "    print('%s %g' % (v.varName, v.x))\n",
    "    lam_list.append(v.x)\n",
    "print('Obj: %g' % obj.getValue())"
   ]
  },
  {
   "cell_type": "code",
   "execution_count": 29,
   "metadata": {
    "collapsed": false
   },
   "outputs": [],
   "source": [
    "# write estimation result to file\n",
    "n = 8  # number of nodes\n",
    "with open('../temp_files/OD_demand_matrix_Jul_weekday_AM.txt', 'w') as the_file:\n",
    "    idx = 0\n",
    "    for i in range(n + 1)[1:]:\n",
    "        for j in range(n + 1)[1:]:\n",
    "            if i != j: \n",
    "                the_file.write(\"%d,%d,%f\\n\" %(i, j, lam_list[idx]))\n",
    "                idx += 1"
   ]
  },
  {
   "cell_type": "code",
   "execution_count": 30,
   "metadata": {
    "collapsed": false
   },
   "outputs": [
    {
     "data": {
      "text/plain": [
       "[6.539541572964988e-10,\n",
       " 3055.9841262455293,\n",
       " 7.178027065695695e-10,\n",
       " 2.67567727571332e-06,\n",
       " 1070.2325506790412,\n",
       " 4.405963475041796e-06,\n",
       " 2.0649264673978614e-07,\n",
       " 2635.282555987744,\n",
       " 1061.712555719129,\n",
       " 3360.988427122535,\n",
       " 2.6380315398567833e-06,\n",
       " 410.81091761048117,\n",
       " 4.333330366868872e-06,\n",
       " 4.40006634976715e-06,\n",
       " 254.80849737112038,\n",
       " 208.03869772884337,\n",
       " 8.694466383927417e-07,\n",
       " 2.6812500571035333e-06,\n",
       " 1948.7892187350276,\n",
       " 11535.309000003037,\n",
       " 4.380023113322029e-06,\n",
       " 2.970935574005129e-05,\n",
       " 4065.0660150125623,\n",
       " 2.9804513620665125e-06,\n",
       " 1680.1580198397733,\n",
       " 1442.9838133531568,\n",
       " 6832.664165413636,\n",
       " 2736.9499295628266,\n",
       " 6413.770703933681,\n",
       " 6164.275943778972,\n",
       " 2.7951029263129697e-06,\n",
       " 1826.9911606268374,\n",
       " 5617.174982634314,\n",
       " 0.00010356046409532721,\n",
       " 3.4521996368826885e-05,\n",
       " 1.893884612075465e-05,\n",
       " 1.781743568061815e-05,\n",
       " 9062.590861777968,\n",
       " 9.236202258077831e-07,\n",
       " 2614.0473449505475,\n",
       " 4069.3959499350253,\n",
       " 1952.1986646872479,\n",
       " 1042.2940296963154,\n",
       " 1077.3895699992509,\n",
       " 3.631458475017099e-06,\n",
       " 2.780846806145574e-06,\n",
       " 4.813158892708665e-06,\n",
       " 7685.828613903461,\n",
       " 3501.6639508838007,\n",
       " 2.8247684010971035e-06,\n",
       " 2.861202980753135e-06,\n",
       " 2.665127462949486e-06,\n",
       " 1889.6386095704363,\n",
       " 2009.2601511581227,\n",
       " 2.7033593649266555e-06,\n",
       " 2.723294904321931e-06]"
      ]
     },
     "execution_count": 30,
     "metadata": {},
     "output_type": "execute_result"
    }
   ],
   "source": [
    "lam_list"
   ]
  },
  {
   "cell_type": "code",
   "execution_count": null,
   "metadata": {
    "collapsed": true
   },
   "outputs": [],
   "source": []
  }
 ],
 "metadata": {
  "kernelspec": {
   "display_name": "Python 2",
   "language": "python",
   "name": "python2"
  },
  "language_info": {
   "codemirror_mode": {
    "name": "ipython",
    "version": 2
   },
   "file_extension": ".py",
   "mimetype": "text/x-python",
   "name": "python",
   "nbconvert_exporter": "python",
   "pygments_lexer": "ipython2",
   "version": "2.7.11"
  }
 },
 "nbformat": 4,
 "nbformat_minor": 0
}
