{
 "cells": [
  {
   "cell_type": "code",
   "execution_count": 1,
   "metadata": {
    "collapsed": true
   },
   "outputs": [],
   "source": [
    "%run ../Python_files/util_data_storage_and_load.py"
   ]
  },
  {
   "cell_type": "code",
   "execution_count": 2,
   "metadata": {
    "collapsed": true
   },
   "outputs": [],
   "source": [
    "%run ../Python_files/load_dicts.py"
   ]
  },
  {
   "cell_type": "code",
   "execution_count": 3,
   "metadata": {
    "collapsed": false
   },
   "outputs": [],
   "source": [
    "%run ../Python_files/util.py"
   ]
  },
  {
   "cell_type": "code",
   "execution_count": 4,
   "metadata": {
    "collapsed": true
   },
   "outputs": [],
   "source": [
    "# load logit_route_choice_probability_matrix\n",
    "P = zload('../temp_files/logit_route_choice_probability_matrix.pkz')"
   ]
  },
  {
   "cell_type": "code",
   "execution_count": 5,
   "metadata": {
    "collapsed": false
   },
   "outputs": [],
   "source": [
    "import numpy as np\n",
    "from numpy.linalg import inv\n",
    "\n",
    "P = np.matrix(P)"
   ]
  },
  {
   "cell_type": "code",
   "execution_count": 6,
   "metadata": {
    "collapsed": false
   },
   "outputs": [
    {
     "data": {
      "text/plain": [
       "(56, 140)"
      ]
     },
     "execution_count": 6,
     "metadata": {},
     "output_type": "execute_result"
    }
   ],
   "source": [
    "np.size(P, 0), np.size(P, 1)"
   ]
  },
  {
   "cell_type": "code",
   "execution_count": 7,
   "metadata": {
    "collapsed": true
   },
   "outputs": [],
   "source": [
    "import numpy as np\n",
    "from numpy.linalg import inv\n",
    "\n",
    "def samp_cov(x):\n",
    "    \"\"\"\n",
    "    x: sample matrix, each column is a link flow vector sample; 24 * K\n",
    "    K: number of samples\n",
    "    S: sample covariance matrix\n",
    "    ----------------\n",
    "    return: inv(S)\n",
    "    ----------------\n",
    "    \"\"\"\n",
    "    x = np.matrix(x)\n",
    "    K = np.size(x, 1)\n",
    "    x_mean = sum(x[:,k] for k in range(K)) / K\n",
    "    S = sum(np.dot(x[:,k] - x_mean, np.transpose(x[:,k] - x_mean)) for k in range(K)) / (K - 1)\n",
    "    return S"
   ]
  },
  {
   "cell_type": "code",
   "execution_count": 8,
   "metadata": {
    "collapsed": false
   },
   "outputs": [],
   "source": [
    "# load path-link incidence matrix\n",
    "A = zload('../temp_files/path-link_incidence_matrix.pkz')"
   ]
  },
  {
   "cell_type": "code",
   "execution_count": 9,
   "metadata": {
    "collapsed": false
   },
   "outputs": [],
   "source": [
    "# load link counts data\n",
    "\n",
    "import json\n",
    "\n",
    "with open('../temp_files/link_day_minute_Jul_dict_JSON.json', 'r') as json_file:\n",
    "    link_day_minute_Jul_dict_JSON = json.load(json_file)"
   ]
  },
  {
   "cell_type": "code",
   "execution_count": 10,
   "metadata": {
    "collapsed": true
   },
   "outputs": [],
   "source": [
    "week_day_Jul_list = [2, 3, 4, 5, 6, 9, 10, 11, 12, 13, 16, 17, 18, 19, 20, 23, 24, 25, 26, 27, 30, 31]"
   ]
  },
  {
   "cell_type": "code",
   "execution_count": 11,
   "metadata": {
    "collapsed": false
   },
   "outputs": [],
   "source": [
    "link_day_minute_Jul_list = []\n",
    "for link_idx in range(24):\n",
    "    for day in week_day_Jul_list: \n",
    "        for minute_idx in range(120):\n",
    "            key = 'link_' + str(link_idx) + '_' + str(day)\n",
    "            link_day_minute_Jul_list.append(link_day_minute_Jul_dict_JSON[key] ['AM_flow_minute'][minute_idx])"
   ]
  },
  {
   "cell_type": "code",
   "execution_count": 12,
   "metadata": {
    "collapsed": false
   },
   "outputs": [
    {
     "data": {
      "text/plain": [
       "63360"
      ]
     },
     "execution_count": 12,
     "metadata": {},
     "output_type": "execute_result"
    }
   ],
   "source": [
    "len(link_day_minute_Jul_list)"
   ]
  },
  {
   "cell_type": "code",
   "execution_count": 13,
   "metadata": {
    "collapsed": false
   },
   "outputs": [],
   "source": [
    "x = np.matrix(link_day_minute_Jul_list)\n",
    "x = np.matrix.reshape(x, 24, 2640)\n",
    "\n",
    "x = np.nan_to_num(x)\n",
    "y = np.array(np.transpose(x))\n",
    "y = y[np.all(y != 0, axis=1)]\n",
    "x = np.transpose(y)\n",
    "x = np.matrix(x)"
   ]
  },
  {
   "cell_type": "code",
   "execution_count": 14,
   "metadata": {
    "collapsed": false
   },
   "outputs": [
    {
     "data": {
      "text/plain": [
       "(24, 2640)"
      ]
     },
     "execution_count": 14,
     "metadata": {},
     "output_type": "execute_result"
    }
   ],
   "source": [
    "np.size(x, 0), np.size(x, 1)"
   ]
  },
  {
   "cell_type": "code",
   "execution_count": 15,
   "metadata": {
    "collapsed": false
   },
   "outputs": [
    {
     "data": {
      "text/plain": [
       "matrix([[ 334045.28306914,  333592.30688303],\n",
       "        [ 347818.07505192,  343680.09055295],\n",
       "        [ 618147.37492337,  627342.55586818],\n",
       "        [ 617422.56354646,  639685.37020618],\n",
       "        [ 164340.77703813,  167598.29727564],\n",
       "        [ 206595.51760183,  216214.45811829],\n",
       "        [ 409195.82621593,  406549.74054826],\n",
       "        [ 409148.09599309,  413267.68765339],\n",
       "        [ 393814.30400124,  388356.35990397],\n",
       "        [ 406155.57102336,  408211.3513791 ],\n",
       "        [ 440862.15923249,  454172.36143204],\n",
       "        [ 335373.09430677,  318038.92786086],\n",
       "        [  95764.03325308,   98386.24936647],\n",
       "        [  96009.6241983 ,   92386.5420172 ],\n",
       "        [ 163155.01504804,  160238.68843344],\n",
       "        [ 142133.75778526,  141851.56304812],\n",
       "        [ 210692.49106262,  214161.92369329],\n",
       "        [ 210887.52927761,  214756.13751233],\n",
       "        [ 385674.74413159,  385276.97050591],\n",
       "        [ 335615.97519585,  340468.47637927],\n",
       "        [ 465285.10447507,  459577.73047257],\n",
       "        [ 565146.75813738,  570983.9850452 ],\n",
       "        [ 136058.95711488,  137471.73812033],\n",
       "        [ 134776.09229117,  133024.59692011]])"
      ]
     },
     "execution_count": 15,
     "metadata": {},
     "output_type": "execute_result"
    }
   ],
   "source": [
    "x[:,:2]"
   ]
  },
  {
   "cell_type": "code",
   "execution_count": 16,
   "metadata": {
    "collapsed": false
   },
   "outputs": [
    {
     "data": {
      "text/plain": [
       "(24, 140)"
      ]
     },
     "execution_count": 16,
     "metadata": {},
     "output_type": "execute_result"
    }
   ],
   "source": [
    "np.size(A,0), np.size(A,1)"
   ]
  },
  {
   "cell_type": "code",
   "execution_count": 17,
   "metadata": {
    "collapsed": false
   },
   "outputs": [
    {
     "name": "stdout",
     "output_type": "stream",
     "text": [
      "Optimize a model with 56 rows, 56 columns and 56 nonzeros\n",
      "Model has 1596 quadratic objective terms\n",
      "Coefficient statistics:\n",
      "  Matrix range    [1e+00, 1e+00]\n",
      "  Objective range [1e-01, 8e+01]\n",
      "  Bounds range    [0e+00, 0e+00]\n",
      "  RHS range       [0e+00, 0e+00]\n",
      "Presolve removed 56 rows and 0 columns\n",
      "Presolve time: 0.00s\n",
      "Presolved: 0 rows, 56 columns, 0 nonzeros\n",
      "Presolved model has 1596 quadratic objective terms\n",
      "Ordering time: 0.00s\n",
      "\n",
      "Barrier statistics:\n",
      " Free vars  : 24\n",
      " AA' NZ     : 2.760e+02\n",
      " Factor NZ  : 3.000e+02\n",
      " Factor Ops : 4.900e+03 (less than 1 second per iteration)\n",
      " Threads    : 1\n",
      "\n",
      "                  Objective                Residual\n",
      "Iter       Primal          Dual         Primal    Dual     Compl     Time\n",
      "   0  -7.67846592e+07  0.00000000e+00  5.86e+03 3.53e+03  1.00e+06     0s\n",
      "   1  -6.42919694e+07 -1.67707413e+07  2.15e+03 1.30e+03  4.08e+05     0s\n",
      "   2  -4.75051086e+07 -4.39591172e+07  2.20e+02 1.32e+02  9.71e+04     0s\n",
      "   3  -4.54753356e+07 -4.59354526e+07  2.70e+00 1.63e+00  1.02e+04     0s\n",
      "   4  -4.56117326e+07 -4.56779640e+07  2.70e-06 1.63e-06  1.18e+03     0s\n",
      "   5  -4.56455071e+07 -4.56556114e+07  1.06e-10 1.82e-12  1.80e+02     0s\n",
      "   6  -4.56496206e+07 -4.56504060e+07  4.91e-11 1.36e-12  1.40e+01     0s\n",
      "   7  -4.56499559e+07 -4.56500095e+07  1.00e-11 1.36e-12  9.57e-01     0s\n",
      "   8  -4.56499820e+07 -4.56499833e+07  2.16e-11 2.27e-12  2.20e-02     0s\n",
      "   9  -4.56499827e+07 -4.56499827e+07  1.02e-11 6.82e-13  3.12e-04     0s\n",
      "  10  -4.56499827e+07 -4.56499827e+07  2.11e-11 1.36e-12  2.34e-05     0s\n",
      "  11  -4.56499827e+07 -4.56499827e+07  5.46e-12 2.27e-12  4.66e-07     0s\n",
      "  12  -4.56499827e+07 -4.56499827e+07  2.73e-12 2.11e-10  2.58e-09     0s\n",
      "\n",
      "Barrier solved model in 12 iterations and 0.01 seconds\n",
      "Optimal objective -4.56499827e+07\n",
      "\n",
      "lam_0 2.77806e-09\n",
      "lam_1 150724\n",
      "lam_2 140970\n",
      "lam_3 112244\n",
      "lam_4 103947\n",
      "lam_5 6.4697e-09\n",
      "lam_6 6.11213e-09\n",
      "lam_7 158956\n",
      "lam_8 1.72029e-10\n",
      "lam_9 278650\n",
      "lam_10 1.72029e-10\n",
      "lam_11 1.72029e-10\n",
      "lam_12 1.67574e-10\n",
      "lam_13 1.68432e-10\n",
      "lam_14 591000\n",
      "lam_15 65901.2\n",
      "lam_16 8.32807\n",
      "lam_17 190851\n",
      "lam_18 533277\n",
      "lam_19 6.48504e-09\n",
      "lam_20 6.09298e-09\n",
      "lam_21 5.47527e-06\n",
      "lam_22 459131\n",
      "lam_23 1.03934e-07\n",
      "lam_24 1.03956e-07\n",
      "lam_25 1.03956e-07\n",
      "lam_26 88869.9\n",
      "lam_27 206346\n",
      "lam_28 0.291008\n",
      "lam_29 0.421501\n",
      "lam_30 458885\n",
      "lam_31 17800.5\n",
      "lam_32 118349\n",
      "lam_33 179039\n",
      "lam_34 139751\n",
      "lam_35 6.67082e-09\n",
      "lam_36 6.67082e-09\n",
      "lam_37 6.66419e-09\n",
      "lam_38 22112.4\n",
      "lam_39 148749\n",
      "lam_40 2.73164e-09\n",
      "lam_41 2.6617e-09\n",
      "lam_42 1.41952e-08\n",
      "lam_43 1.41952e-08\n",
      "lam_44 1.4129e-08\n",
      "lam_45 7.35151e-06\n",
      "lam_46 264837\n",
      "lam_47 597856\n",
      "lam_48 1.03956e-07\n",
      "lam_49 1.42416e-08\n",
      "lam_50 1.43756e-08\n",
      "lam_51 1.42006e-08\n",
      "lam_52 199778\n",
      "lam_53 0.000130419\n",
      "lam_54 54711.5\n",
      "lam_55 57596.4\n",
      "Obj: -4.56535e+07\n"
     ]
    }
   ],
   "source": [
    "from gurobipy import *\n",
    "\n",
    "L = 56  # dimension of lam\n",
    "\n",
    "K = np.size(x, 1)\n",
    "S = samp_cov(x)\n",
    "inv_S = inv(S)\n",
    "\n",
    "A_t = np.transpose(A)\n",
    "P_t = np.transpose(P)\n",
    "# PA'\n",
    "PA_t = np.dot(P, A_t)\n",
    "# AP_t\n",
    "AP_t = np.transpose(PA_t)\n",
    "\n",
    "Q = np.dot(np.dot(PA_t, inv_S), AP_t)\n",
    "b = sum([np.dot(np.dot(PA_t, inv_S), x[:, k]) for k in range(K)])\n",
    "\n",
    "\n",
    "model = Model(\"OD_matrix_estimation\")\n",
    "\n",
    "lam = []\n",
    "for l in range(L):\n",
    "    lam.append(model.addVar(name='lam_' + str(l)))\n",
    "\n",
    "model.update() \n",
    "\n",
    "# Set objective: (K/2) lam' * Q * lam - b * lam\n",
    "obj = 0\n",
    "for i in range(L):\n",
    "    for j in range(L):\n",
    "        obj += (1.0 /2) * K * lam[i] * Q[i, j] * lam[j]\n",
    "for l in range(L):\n",
    "    obj += - b[l] * lam[l]\n",
    "model.setObjective(obj)\n",
    "\n",
    "# Add constraint: lam >= 0\n",
    "for l in range(L):\n",
    "    model.addConstr(lam[l] >= 0)\n",
    "\n",
    "model.update() \n",
    "\n",
    "model.optimize()\n",
    "\n",
    "lam_list = []\n",
    "for v in model.getVars():\n",
    "    print('%s %g' % (v.varName, v.x))\n",
    "    lam_list.append(v.x)\n",
    "print('Obj: %g' % obj.getValue())"
   ]
  },
  {
   "cell_type": "code",
   "execution_count": 18,
   "metadata": {
    "collapsed": false
   },
   "outputs": [],
   "source": [
    "# write estimation result to file\n",
    "n = 8  # number of nodes\n",
    "with open('../temp_files/OD_demand_matrix_Jul_weekday_AM.txt', 'w') as the_file:\n",
    "    idx = 0\n",
    "    for i in range(n + 1)[1:]:\n",
    "        for j in range(n + 1)[1:]:\n",
    "            if i != j: \n",
    "                the_file.write(\"%d,%d,%f\\n\" %(i, j, lam_list[idx]))\n",
    "                idx += 1"
   ]
  },
  {
   "cell_type": "code",
   "execution_count": 19,
   "metadata": {
    "collapsed": false
   },
   "outputs": [
    {
     "data": {
      "text/plain": [
       "[2.7780602584612308e-09,\n",
       " 150723.95199906098,\n",
       " 140970.03573476532,\n",
       " 112243.811993874,\n",
       " 103946.91906064985,\n",
       " 6.469704730401238e-09,\n",
       " 6.112134086677945e-09,\n",
       " 158955.51862196013,\n",
       " 1.720293170702691e-10,\n",
       " 278650.263928456,\n",
       " 1.7202931706496854e-10,\n",
       " 1.7202931706837652e-10,\n",
       " 1.675735400574652e-10,\n",
       " 1.6843162535827106e-10,\n",
       " 591000.3703217058,\n",
       " 65901.208215353,\n",
       " 8.328072389630506,\n",
       " 190850.87141037692,\n",
       " 533277.336659049,\n",
       " 6.485039251354384e-09,\n",
       " 6.092980450853172e-09,\n",
       " 5.475273368035251e-06,\n",
       " 459130.83500448114,\n",
       " 1.0393399128568148e-07,\n",
       " 1.0395606245559556e-07,\n",
       " 1.0395605772156908e-07,\n",
       " 88869.89368642715,\n",
       " 206345.93842130434,\n",
       " 0.29100766438097025,\n",
       " 0.4215011219121152,\n",
       " 458885.3840062396,\n",
       " 17800.546139623297,\n",
       " 118348.55320758594,\n",
       " 179039.2259956533,\n",
       " 139751.09678184445,\n",
       " 6.670820850043411e-09,\n",
       " 6.670820780748281e-09,\n",
       " 6.664187841429906e-09,\n",
       " 22112.363742030342,\n",
       " 148748.63007289832,\n",
       " 2.7316405275112534e-09,\n",
       " 2.661699458396729e-09,\n",
       " 1.4195152587027288e-08,\n",
       " 1.4195152271434247e-08,\n",
       " 1.412898260031882e-08,\n",
       " 7.351512909298643e-06,\n",
       " 264836.8241827004,\n",
       " 597855.893415096,\n",
       " 1.0395617633603791e-07,\n",
       " 1.4241592907237407e-08,\n",
       " 1.4375644831856633e-08,\n",
       " 1.4200609267901057e-08,\n",
       " 199778.47103872942,\n",
       " 0.00013041851034303886,\n",
       " 54711.48970117446,\n",
       " 57596.419179668876]"
      ]
     },
     "execution_count": 19,
     "metadata": {},
     "output_type": "execute_result"
    }
   ],
   "source": [
    "lam_list"
   ]
  },
  {
   "cell_type": "code",
   "execution_count": null,
   "metadata": {
    "collapsed": true
   },
   "outputs": [],
   "source": []
  }
 ],
 "metadata": {
  "kernelspec": {
   "display_name": "Python 2",
   "language": "python",
   "name": "python2"
  },
  "language_info": {
   "codemirror_mode": {
    "name": "ipython",
    "version": 2
   },
   "file_extension": ".py",
   "mimetype": "text/x-python",
   "name": "python",
   "nbconvert_exporter": "python",
   "pygments_lexer": "ipython2",
   "version": "2.7.11"
  }
 },
 "nbformat": 4,
 "nbformat_minor": 0
}
