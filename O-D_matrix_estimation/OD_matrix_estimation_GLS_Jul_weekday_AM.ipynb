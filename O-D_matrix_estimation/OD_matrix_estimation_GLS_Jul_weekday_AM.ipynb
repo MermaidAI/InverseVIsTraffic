{
 "cells": [
  {
   "cell_type": "code",
   "execution_count": 1,
   "metadata": {
    "collapsed": true
   },
   "outputs": [],
   "source": [
    "%run ../Python_files/util_data_storage_and_load.py"
   ]
  },
  {
   "cell_type": "code",
   "execution_count": 2,
   "metadata": {
    "collapsed": true
   },
   "outputs": [],
   "source": [
    "%run ../Python_files/load_dicts.py"
   ]
  },
  {
   "cell_type": "code",
   "execution_count": 3,
   "metadata": {
    "collapsed": false
   },
   "outputs": [],
   "source": [
    "%run ../Python_files/util.py"
   ]
  },
  {
   "cell_type": "code",
   "execution_count": 4,
   "metadata": {
    "collapsed": true
   },
   "outputs": [],
   "source": [
    "# load logit_route_choice_probability_matrix\n",
    "P = zload('../temp_files/logit_route_choice_probability_matrix.pkz')"
   ]
  },
  {
   "cell_type": "code",
   "execution_count": 5,
   "metadata": {
    "collapsed": false
   },
   "outputs": [],
   "source": [
    "import numpy as np\n",
    "from numpy.linalg import inv\n",
    "\n",
    "P = np.matrix(P)"
   ]
  },
  {
   "cell_type": "code",
   "execution_count": 6,
   "metadata": {
    "collapsed": false
   },
   "outputs": [
    {
     "data": {
      "text/plain": [
       "(56, 140)"
      ]
     },
     "execution_count": 6,
     "metadata": {},
     "output_type": "execute_result"
    }
   ],
   "source": [
    "np.size(P, 0), np.size(P, 1)"
   ]
  },
  {
   "cell_type": "code",
   "execution_count": 7,
   "metadata": {
    "collapsed": true
   },
   "outputs": [],
   "source": [
    "import numpy as np\n",
    "from numpy.linalg import inv\n",
    "\n",
    "def samp_cov(x):\n",
    "    \"\"\"\n",
    "    x: sample matrix, each column is a link flow vector sample; 24 * K\n",
    "    K: number of samples\n",
    "    S: sample covariance matrix\n",
    "    ----------------\n",
    "    return: inv(S)\n",
    "    ----------------\n",
    "    \"\"\"\n",
    "    x = np.matrix(x)\n",
    "    K = np.size(x, 1)\n",
    "    x_mean = sum(x[:,k] for k in range(K)) / K\n",
    "    S = sum(np.dot(x[:,k] - x_mean, np.transpose(x[:,k] - x_mean)) for k in range(K)) / (K - 1)\n",
    "    return S"
   ]
  },
  {
   "cell_type": "code",
   "execution_count": 8,
   "metadata": {
    "collapsed": false
   },
   "outputs": [],
   "source": [
    "# load path-link incidence matrix\n",
    "A = zload('../temp_files/path-link_incidence_matrix.pkz')"
   ]
  },
  {
   "cell_type": "code",
   "execution_count": 9,
   "metadata": {
    "collapsed": false
   },
   "outputs": [],
   "source": [
    "# load link counts data\n",
    "\n",
    "import json\n",
    "\n",
    "with open('../temp_files/link_day_minute_Jul_dict_JSON.json', 'r') as json_file:\n",
    "    link_day_minute_Jul_dict_JSON = json.load(json_file)"
   ]
  },
  {
   "cell_type": "code",
   "execution_count": 10,
   "metadata": {
    "collapsed": true
   },
   "outputs": [],
   "source": [
    "week_day_Jul_list = [2, 3, 4, 5, 6, 9, 10, 11, 12, 13, 16, 17, 18, 19, 20, 23, 24, 25, 26, 27, 30, 31]"
   ]
  },
  {
   "cell_type": "code",
   "execution_count": 11,
   "metadata": {
    "collapsed": false
   },
   "outputs": [],
   "source": [
    "link_day_minute_Jul_list = []\n",
    "for link_idx in range(24):\n",
    "    for day in week_day_Jul_list: \n",
    "        for minute_idx in range(120):\n",
    "            key = 'link_' + str(link_idx) + '_' + str(day)\n",
    "            link_day_minute_Jul_list.append(link_day_minute_Jul_dict_JSON[key] ['AM_flow_minute'][minute_idx])"
   ]
  },
  {
   "cell_type": "code",
   "execution_count": 12,
   "metadata": {
    "collapsed": false
   },
   "outputs": [
    {
     "data": {
      "text/plain": [
       "63360"
      ]
     },
     "execution_count": 12,
     "metadata": {},
     "output_type": "execute_result"
    }
   ],
   "source": [
    "len(link_day_minute_Jul_list)"
   ]
  },
  {
   "cell_type": "code",
   "execution_count": 13,
   "metadata": {
    "collapsed": false
   },
   "outputs": [],
   "source": [
    "x = np.matrix(link_day_minute_Jul_list)\n",
    "x = np.matrix.reshape(x, 24, 2640)\n",
    "\n",
    "x = np.nan_to_num(x)\n",
    "y = np.array(np.transpose(x))\n",
    "y = y[np.all(y != 0, axis=1)]\n",
    "x = np.transpose(y)\n",
    "x = np.matrix(x)"
   ]
  },
  {
   "cell_type": "code",
   "execution_count": 14,
   "metadata": {
    "collapsed": false
   },
   "outputs": [
    {
     "data": {
      "text/plain": [
       "(24, 2640)"
      ]
     },
     "execution_count": 14,
     "metadata": {},
     "output_type": "execute_result"
    }
   ],
   "source": [
    "np.size(x, 0), np.size(x, 1)"
   ]
  },
  {
   "cell_type": "code",
   "execution_count": 15,
   "metadata": {
    "collapsed": false
   },
   "outputs": [
    {
     "data": {
      "text/plain": [
       "matrix([[  2136.06674665,   2008.03265958],\n",
       "        [  2775.0543623 ,   5468.17490943],\n",
       "        [  3033.91173729,   3047.60914358],\n",
       "        [  5158.83944197,   5394.98263971],\n",
       "        [  3182.06559307,   3444.44727344],\n",
       "        [  9103.90874818,   8867.68405924],\n",
       "        [  2678.65145695,   2640.19073646],\n",
       "        [  2748.06623017,   3296.74133768],\n",
       "        [  6257.27450378,   8436.71914537],\n",
       "        [ 10663.45670255,  10991.55537808],\n",
       "        [  7545.06461598,   8896.28419843],\n",
       "        [  8125.21554502,   8728.30233267],\n",
       "        [  7507.71498527,   6131.11623836],\n",
       "        [  3010.41299015,   1051.25994621],\n",
       "        [  6769.72409266,   3680.54976191],\n",
       "        [  1517.99174628,   1984.67118849],\n",
       "        [  2701.27571664,   3095.10067561],\n",
       "        [  1788.12023883,   2238.52827238],\n",
       "        [ 12473.87484785,  13375.45259996],\n",
       "        [  2315.29324646,   2472.40915216],\n",
       "        [ 10656.4209806 ,  11190.66546003],\n",
       "        [  4000.83198032,   4325.07903563],\n",
       "        [  2582.1359908 ,   3037.29020868],\n",
       "        [  1699.31409008,   2075.65076349]])"
      ]
     },
     "execution_count": 15,
     "metadata": {},
     "output_type": "execute_result"
    }
   ],
   "source": [
    "x[:,:2]"
   ]
  },
  {
   "cell_type": "code",
   "execution_count": 16,
   "metadata": {
    "collapsed": false
   },
   "outputs": [
    {
     "data": {
      "text/plain": [
       "(24, 140)"
      ]
     },
     "execution_count": 16,
     "metadata": {},
     "output_type": "execute_result"
    }
   ],
   "source": [
    "np.size(A,0), np.size(A,1)"
   ]
  },
  {
   "cell_type": "code",
   "execution_count": 17,
   "metadata": {
    "collapsed": false
   },
   "outputs": [
    {
     "name": "stdout",
     "output_type": "stream",
     "text": [
      "Optimize a model with 56 rows, 56 columns and 56 nonzeros\n",
      "Model has 1596 quadratic objective terms\n",
      "Coefficient statistics:\n",
      "  Matrix range    [1e+00, 1e+00]\n",
      "  Objective range [2e-01, 5e+01]\n",
      "  Bounds range    [0e+00, 0e+00]\n",
      "  RHS range       [0e+00, 0e+00]\n",
      "Warning: diagonal adjustment of 1.7e-08 performed to make Q PSD\n",
      "Presolve removed 56 rows and 0 columns\n",
      "Presolve time: 0.00s\n",
      "Presolved: 0 rows, 56 columns, 0 nonzeros\n",
      "Presolved model has 1596 quadratic objective terms\n",
      "Ordering time: 0.00s\n",
      "\n",
      "Barrier statistics:\n",
      " Free vars  : 24\n",
      " AA' NZ     : 2.760e+02\n",
      " Factor NZ  : 3.000e+02\n",
      " Factor Ops : 4.900e+03 (less than 1 second per iteration)\n",
      " Threads    : 1\n",
      "\n",
      "                  Objective                Residual\n",
      "Iter       Primal          Dual         Primal    Dual     Compl     Time\n",
      "   0  -4.23059331e+06  0.00000000e+00  5.46e+03 3.50e+02  8.85e+05     0s\n",
      "   1   2.26668545e+05 -2.32656176e+06  9.02e+02 1.45e+02  1.98e+05     0s\n",
      "   2   1.56258760e+05 -1.22975192e+06  9.02e-04 1.14e-13  2.48e+04     0s\n",
      "   3  -2.76696531e+05 -4.67404470e+05  9.02e-10 5.68e-14  3.41e+03     0s\n",
      "   4  -3.18583619e+05 -3.43351198e+05  1.75e-11 2.84e-14  4.42e+02     0s\n",
      "   5  -3.22711764e+05 -3.26332408e+05  1.53e-11 8.53e-14  6.47e+01     0s\n",
      "   6  -3.22939223e+05 -3.22996784e+05  1.14e-12 1.14e-13  1.03e+00     0s\n",
      "   7  -3.22945364e+05 -3.22950242e+05  3.66e-11 8.53e-14  8.71e-02     0s\n",
      "   8  -3.22946191e+05 -3.22946446e+05  9.66e-13 4.26e-14  4.56e-03     0s\n",
      "   9  -3.22946288e+05 -3.22946302e+05  1.02e-12 5.68e-14  2.45e-04     0s\n",
      "  10  -3.22946292e+05 -3.22946293e+05  1.88e-12 5.68e-14  1.21e-05     0s\n",
      "  11  -3.22946292e+05 -3.22946292e+05  1.36e-12 8.53e-14  2.97e-07     0s\n",
      "  12  -3.22946292e+05 -3.22946292e+05  1.49e-12 3.34e-11  6.07e-08     0s\n",
      "  13  -3.22946292e+05 -3.22946292e+05  6.11e-13 1.47e-10  7.73e-09     0s\n",
      "\n",
      "Barrier solved model in 13 iterations and 0.02 seconds\n",
      "Optimal objective -3.22946292e+05\n",
      "\n",
      "lam_0 1.12126e-09\n",
      "lam_1 2894.67\n",
      "lam_2 1.23077e-09\n",
      "lam_3 1.64643e-05\n",
      "lam_4 1213.7\n",
      "lam_5 2.76288e-05\n",
      "lam_6 3.66499e-07\n",
      "lam_7 0.0114768\n",
      "lam_8 355.778\n",
      "lam_9 3381.52\n",
      "lam_10 1.64626e-05\n",
      "lam_11 638.325\n",
      "lam_12 2.76288e-05\n",
      "lam_13 2.77869e-05\n",
      "lam_14 16.696\n",
      "lam_15 5385.76\n",
      "lam_16 1.64651e-05\n",
      "lam_17 1.6465e-05\n",
      "lam_18 1008.11\n",
      "lam_19 11429.4\n",
      "lam_20 2.76229e-05\n",
      "lam_21 2154.68\n",
      "lam_22 1423.54\n",
      "lam_23 7486.57\n",
      "lam_24 30.9348\n",
      "lam_25 17.1134\n",
      "lam_26 309.853\n",
      "lam_27 2933.72\n",
      "lam_28 395.508\n",
      "lam_29 927.565\n",
      "lam_30 846.16\n",
      "lam_31 380.507\n",
      "lam_32 6862.9\n",
      "lam_33 1995.7\n",
      "lam_34 3423.5\n",
      "lam_35 1629.67\n",
      "lam_36 267.53\n",
      "lam_37 5153.27\n",
      "lam_38 1407.36\n",
      "lam_39 1061.63\n",
      "lam_40 6318.43\n",
      "lam_41 752.213\n",
      "lam_42 4294.92\n",
      "lam_43 36.0768\n",
      "lam_44 27.6976\n",
      "lam_45 0.000469122\n",
      "lam_46 0.000463414\n",
      "lam_47 5000.94\n",
      "lam_48 519.956\n",
      "lam_49 1.40567\n",
      "lam_50 14.1846\n",
      "lam_51 1893.13\n",
      "lam_52 1802.91\n",
      "lam_53 0.000463604\n",
      "lam_54 3.05419\n",
      "lam_55 3.07022\n",
      "Obj: -322942\n"
     ]
    }
   ],
   "source": [
    "from gurobipy import *\n",
    "\n",
    "L = 56  # dimension of lam\n",
    "\n",
    "K = np.size(x, 1)\n",
    "S = samp_cov(x)\n",
    "inv_S = inv(S)\n",
    "\n",
    "A_t = np.transpose(A)\n",
    "P_t = np.transpose(P)\n",
    "# PA'\n",
    "PA_t = np.dot(P, A_t)\n",
    "# AP_t\n",
    "AP_t = np.transpose(PA_t)\n",
    "\n",
    "Q = np.dot(np.dot(PA_t, inv_S), AP_t)\n",
    "b = sum([np.dot(np.dot(PA_t, inv_S), x[:, k]) for k in range(K)])\n",
    "\n",
    "\n",
    "model = Model(\"OD_matrix_estimation\")\n",
    "\n",
    "lam = []\n",
    "for l in range(L):\n",
    "    lam.append(model.addVar(name='lam_' + str(l)))\n",
    "\n",
    "model.update() \n",
    "\n",
    "# Set objective: (K/2) lam' * Q * lam - b' * lam\n",
    "obj = 0\n",
    "for i in range(L):\n",
    "    for j in range(L):\n",
    "        obj += (1.0 /2) * K * lam[i] * Q[i, j] * lam[j]\n",
    "for l in range(L):\n",
    "    obj += - b[l] * lam[l]\n",
    "model.setObjective(obj)\n",
    "\n",
    "# Add constraint: lam >= 0\n",
    "for l in range(L):\n",
    "    model.addConstr(lam[l] >= 0)\n",
    "\n",
    "model.update() \n",
    "\n",
    "model.optimize()\n",
    "\n",
    "lam_list = []\n",
    "for v in model.getVars():\n",
    "    print('%s %g' % (v.varName, v.x))\n",
    "    lam_list.append(v.x)\n",
    "print('Obj: %g' % obj.getValue())"
   ]
  },
  {
   "cell_type": "code",
   "execution_count": 18,
   "metadata": {
    "collapsed": false
   },
   "outputs": [],
   "source": [
    "# write estimation result to file\n",
    "n = 8  # number of nodes\n",
    "with open('../temp_files/OD_demand_matrix_Jul_weekday_AM.txt', 'w') as the_file:\n",
    "    idx = 0\n",
    "    for i in range(n + 1)[1:]:\n",
    "        for j in range(n + 1)[1:]:\n",
    "            if i != j: \n",
    "                the_file.write(\"%d,%d,%f\\n\" %(i, j, lam_list[idx]))\n",
    "                idx += 1"
   ]
  },
  {
   "cell_type": "code",
   "execution_count": 19,
   "metadata": {
    "collapsed": false
   },
   "outputs": [
    {
     "data": {
      "text/plain": [
       "[1.121259195111292e-09,\n",
       " 2894.6714498790243,\n",
       " 1.2307693947690642e-09,\n",
       " 1.646428286292278e-05,\n",
       " 1213.6970674937872,\n",
       " 2.7628826312128205e-05,\n",
       " 3.6649863432705777e-07,\n",
       " 0.011476826316431307,\n",
       " 355.77764443727426,\n",
       " 3381.5160975866584,\n",
       " 1.6462553713742113e-05,\n",
       " 638.3246923113089,\n",
       " 2.762877322756642e-05,\n",
       " 2.7786900230847273e-05,\n",
       " 16.695979990776863,\n",
       " 5385.764318340252,\n",
       " 1.6465053923867337e-05,\n",
       " 1.646504732608081e-05,\n",
       " 1008.1149894457322,\n",
       " 11429.438516742248,\n",
       " 2.7622923075660763e-05,\n",
       " 2154.6844147730963,\n",
       " 1423.5413108337095,\n",
       " 7486.569079876292,\n",
       " 30.934765275311747,\n",
       " 17.11335846529238,\n",
       " 309.852835879974,\n",
       " 2933.718409161956,\n",
       " 395.5084641124031,\n",
       " 927.5654921444665,\n",
       " 846.1595550965931,\n",
       " 380.5066213224944,\n",
       " 6862.898070776836,\n",
       " 1995.695417142654,\n",
       " 3423.4968307483277,\n",
       " 1629.66945580147,\n",
       " 267.53039851409403,\n",
       " 5153.2660246307905,\n",
       " 1407.3595334526822,\n",
       " 1061.6339239812298,\n",
       " 6318.434073356713,\n",
       " 752.2126269832681,\n",
       " 4294.920859733498,\n",
       " 36.076809899284285,\n",
       " 27.697566123399113,\n",
       " 0.0004691224099180728,\n",
       " 0.00046341431629167654,\n",
       " 5000.944169122156,\n",
       " 519.9562383115283,\n",
       " 1.4056692793377152,\n",
       " 14.184589305480188,\n",
       " 1893.1315225080355,\n",
       " 1802.905815306322,\n",
       " 0.0004636040213897943,\n",
       " 3.0541906545651702,\n",
       " 3.070222949757338]"
      ]
     },
     "execution_count": 19,
     "metadata": {},
     "output_type": "execute_result"
    }
   ],
   "source": [
    "lam_list"
   ]
  },
  {
   "cell_type": "code",
   "execution_count": null,
   "metadata": {
    "collapsed": true
   },
   "outputs": [],
   "source": []
  }
 ],
 "metadata": {
  "kernelspec": {
   "display_name": "Python 2",
   "language": "python",
   "name": "python2"
  },
  "language_info": {
   "codemirror_mode": {
    "name": "ipython",
    "version": 2
   },
   "file_extension": ".py",
   "mimetype": "text/x-python",
   "name": "python",
   "nbconvert_exporter": "python",
   "pygments_lexer": "ipython2",
   "version": "2.7.11"
  }
 },
 "nbformat": 4,
 "nbformat_minor": 0
}
