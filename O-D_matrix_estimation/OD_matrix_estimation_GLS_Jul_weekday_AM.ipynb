{
 "cells": [
  {
   "cell_type": "code",
   "execution_count": 1,
   "metadata": {
    "collapsed": true
   },
   "outputs": [],
   "source": [
    "%run ../Python_files/util_data_storage_and_load.py"
   ]
  },
  {
   "cell_type": "code",
   "execution_count": 2,
   "metadata": {
    "collapsed": true
   },
   "outputs": [],
   "source": [
    "%run ../Python_files/load_dicts.py"
   ]
  },
  {
   "cell_type": "code",
   "execution_count": 3,
   "metadata": {
    "collapsed": false
   },
   "outputs": [],
   "source": [
    "%run ../Python_files/util.py"
   ]
  },
  {
   "cell_type": "code",
   "execution_count": 4,
   "metadata": {
    "collapsed": true
   },
   "outputs": [],
   "source": [
    "# load logit_route_choice_probability_matrix\n",
    "P = zload('../temp_files/logit_route_choice_probability_matrix.pkz')"
   ]
  },
  {
   "cell_type": "code",
   "execution_count": 5,
   "metadata": {
    "collapsed": false
   },
   "outputs": [],
   "source": [
    "import numpy as np\n",
    "from numpy.linalg import inv\n",
    "\n",
    "P = np.matrix(P)"
   ]
  },
  {
   "cell_type": "code",
   "execution_count": 6,
   "metadata": {
    "collapsed": false
   },
   "outputs": [
    {
     "data": {
      "text/plain": [
       "(56, 140)"
      ]
     },
     "execution_count": 6,
     "metadata": {},
     "output_type": "execute_result"
    }
   ],
   "source": [
    "np.size(P, 0), np.size(P, 1)"
   ]
  },
  {
   "cell_type": "code",
   "execution_count": 7,
   "metadata": {
    "collapsed": true
   },
   "outputs": [],
   "source": [
    "import numpy as np\n",
    "from numpy.linalg import inv\n",
    "\n",
    "def samp_cov(x):\n",
    "    \"\"\"\n",
    "    x: sample matrix, each column is a link flow vector sample; 24 * K\n",
    "    K: number of samples\n",
    "    S: sample covariance matrix\n",
    "    ----------------\n",
    "    return: inv(S)\n",
    "    ----------------\n",
    "    \"\"\"\n",
    "    x = np.matrix(x)\n",
    "    K = np.size(x, 1)\n",
    "    x_mean = sum(x[:,k] for k in range(K)) / K\n",
    "    S = sum(np.dot(x[:,k] - x_mean, np.transpose(x[:,k] - x_mean)) for k in range(K)) / (K - 1)\n",
    "    return S"
   ]
  },
  {
   "cell_type": "code",
   "execution_count": 8,
   "metadata": {
    "collapsed": false
   },
   "outputs": [],
   "source": [
    "# load path-link incidence matrix\n",
    "A = zload('../temp_files/path-link_incidence_matrix.pkz')"
   ]
  },
  {
   "cell_type": "code",
   "execution_count": 9,
   "metadata": {
    "collapsed": false
   },
   "outputs": [],
   "source": [
    "# load link counts data\n",
    "\n",
    "import json\n",
    "\n",
    "with open('../temp_files/link_day_minute_Jul_dict_JSON.json', 'r') as json_file:\n",
    "    link_day_minute_Jul_dict_JSON = json.load(json_file)"
   ]
  },
  {
   "cell_type": "code",
   "execution_count": 10,
   "metadata": {
    "collapsed": true
   },
   "outputs": [],
   "source": [
    "week_day_Jul_list = [2, 3, 4, 5, 6, 9, 10, 11, 12, 13, 16, 17, 18, 19, 20, 23, 24, 25, 26, 27, 30, 31]"
   ]
  },
  {
   "cell_type": "code",
   "execution_count": 11,
   "metadata": {
    "collapsed": false
   },
   "outputs": [],
   "source": [
    "link_day_minute_Jul_list = []\n",
    "for link_idx in range(24):\n",
    "    for day in week_day_Jul_list: \n",
    "        for minute_idx in range(120):\n",
    "            key = 'link_' + str(link_idx) + '_' + str(day)\n",
    "            link_day_minute_Jul_list.append(link_day_minute_Jul_dict_JSON[key] ['AM_flow_minute'][minute_idx])"
   ]
  },
  {
   "cell_type": "code",
   "execution_count": 12,
   "metadata": {
    "collapsed": false
   },
   "outputs": [
    {
     "data": {
      "text/plain": [
       "63360"
      ]
     },
     "execution_count": 12,
     "metadata": {},
     "output_type": "execute_result"
    }
   ],
   "source": [
    "len(link_day_minute_Jul_list)"
   ]
  },
  {
   "cell_type": "code",
   "execution_count": 13,
   "metadata": {
    "collapsed": false
   },
   "outputs": [],
   "source": [
    "x = np.matrix(link_day_minute_Jul_list)\n",
    "x = np.matrix.reshape(x, 24, 2640)\n",
    "\n",
    "x = np.nan_to_num(x)\n",
    "y = np.array(np.transpose(x))\n",
    "y = y[np.all(y != 0, axis=1)]\n",
    "x = np.transpose(y)\n",
    "x = np.matrix(x)"
   ]
  },
  {
   "cell_type": "code",
   "execution_count": 14,
   "metadata": {
    "collapsed": false
   },
   "outputs": [
    {
     "data": {
      "text/plain": [
       "(24, 2640)"
      ]
     },
     "execution_count": 14,
     "metadata": {},
     "output_type": "execute_result"
    }
   ],
   "source": [
    "np.size(x, 0), np.size(x, 1)"
   ]
  },
  {
   "cell_type": "code",
   "execution_count": 15,
   "metadata": {
    "collapsed": false
   },
   "outputs": [
    {
     "data": {
      "text/plain": [
       "matrix([[ 1239.13630853,  1235.28897801],\n",
       "        [ 1210.58791069,  1119.62262721],\n",
       "        [ 1488.54358671,  1496.84720701],\n",
       "        [ 1235.50714814,  1374.72644697],\n",
       "        [ 1513.5052299 ,  1532.86574706],\n",
       "        [ 1321.96692402,  1406.57684477],\n",
       "        [ 1260.74148969,  1268.48947433],\n",
       "        [ 1281.27145791,  1297.22226973],\n",
       "        [ 1745.92146421,  1703.80034601],\n",
       "        [ 1683.12747108,  1667.66511186],\n",
       "        [ 1506.42369744,  1583.20507441],\n",
       "        [ 1190.37933729,  1105.12745532],\n",
       "        [ 1292.02020419,  1261.14577118],\n",
       "        [ 1342.59385687,  1253.89548693],\n",
       "        [ 1321.78492207,  1251.18261254],\n",
       "        [  975.6725308 ,   993.07325234],\n",
       "        [ 1250.6564891 ,  1275.03109722],\n",
       "        [ 1244.04283596,  1259.33838887],\n",
       "        [ 1561.67136149,  1497.68151885],\n",
       "        [ 1499.69155676,  1513.42899037],\n",
       "        [ 1106.72374652,  1138.42906635],\n",
       "        [ 1473.97520853,  1497.22406251],\n",
       "        [ 1246.82819544,  1262.06300225],\n",
       "        [ 1221.26562755,  1227.15354823]])"
      ]
     },
     "execution_count": 15,
     "metadata": {},
     "output_type": "execute_result"
    }
   ],
   "source": [
    "x[:,:2]"
   ]
  },
  {
   "cell_type": "code",
   "execution_count": 16,
   "metadata": {
    "collapsed": false
   },
   "outputs": [
    {
     "data": {
      "text/plain": [
       "(24, 140)"
      ]
     },
     "execution_count": 16,
     "metadata": {},
     "output_type": "execute_result"
    }
   ],
   "source": [
    "np.size(A,0), np.size(A,1)"
   ]
  },
  {
   "cell_type": "code",
   "execution_count": 17,
   "metadata": {
    "collapsed": false
   },
   "outputs": [
    {
     "name": "stdout",
     "output_type": "stream",
     "text": [
      "Optimize a model with 56 rows, 56 columns and 56 nonzeros\n",
      "Model has 1596 quadratic objective terms\n",
      "Coefficient statistics:\n",
      "  Matrix range    [1e+00, 1e+00]\n",
      "  Objective range [2e+01, 2e+04]\n",
      "  Bounds range    [0e+00, 0e+00]\n",
      "  RHS range       [0e+00, 0e+00]\n",
      "Warning: diagonal adjustment of 5.9e-10 performed to make Q PSD\n",
      "Presolve removed 56 rows and 0 columns\n",
      "Presolve time: 0.00s\n",
      "Presolved: 0 rows, 56 columns, 0 nonzeros\n",
      "Presolved model has 1596 quadratic objective terms\n",
      "Ordering time: 0.00s\n",
      "\n",
      "Barrier statistics:\n",
      " Free vars  : 26\n",
      " AA' NZ     : 3.250e+02\n",
      " Factor NZ  : 3.510e+02\n",
      " Factor Ops : 6.201e+03 (less than 1 second per iteration)\n",
      " Threads    : 1\n",
      "\n",
      "                  Objective                Residual\n",
      "Iter       Primal          Dual         Primal    Dual     Compl     Time\n",
      "   0  -1.92219433e+08  0.00000000e+00  1.13e+04 3.04e+03  1.00e+06     0s\n",
      "   1  -4.45698866e+07 -3.52155865e+07  6.42e+02 1.73e+02  1.50e+05     0s\n",
      "   2  -3.41874076e+07 -3.48404651e+07  6.16e-01 1.66e-01  1.19e+04     0s\n",
      "   3  -3.42539420e+07 -3.43166850e+07  2.16e-02 5.83e-03  1.13e+03     0s\n",
      "   4  -3.42617016e+07 -3.42680091e+07  2.16e-08 5.83e-09  1.13e+02     0s\n",
      "   5  -3.42621893e+07 -3.42622367e+07  7.03e-11 6.37e-12  8.47e-01     0s\n",
      "   6  -3.42622012e+07 -3.42622039e+07  2.51e-10 5.46e-12  4.82e-02     0s\n",
      "   7  -3.42622027e+07 -3.42622029e+07  1.39e-11 3.64e-12  3.56e-03     0s\n",
      "   8  -3.42622027e+07 -3.42622027e+07  9.09e-12 7.28e-12  9.38e-05     0s\n",
      "   9  -3.42622027e+07 -3.42622027e+07  2.14e-11 7.28e-12  1.26e-05     0s\n",
      "  10  -3.42622027e+07 -3.42622027e+07  3.37e-11 3.64e-12  2.16e-06     0s\n",
      "  11  -3.42622027e+07 -3.42622027e+07  1.11e-11 5.46e-12  1.09e-07     0s\n",
      "  12  -3.42622027e+07 -3.42622027e+07  1.18e-11 3.66e-10  7.79e-09     0s\n",
      "\n",
      "Barrier solved model in 12 iterations and 0.02 seconds\n",
      "Optimal objective -3.42622027e+07\n",
      "\n",
      "lam_0 3.91483e-12\n",
      "lam_1 464.305\n",
      "lam_2 4.29719e-12\n",
      "lam_3 1361.72\n",
      "lam_4 673.043\n",
      "lam_5 0.231916\n",
      "lam_6 1.29676e-09\n",
      "lam_7 1.98554e-05\n",
      "lam_8 0.00627699\n",
      "lam_9 1298.48\n",
      "lam_10 0.00627921\n",
      "lam_11 0.00627595\n",
      "lam_12 0.00612087\n",
      "lam_13 113.265\n",
      "lam_14 1522.45\n",
      "lam_15 53.26\n",
      "lam_16 92.3877\n",
      "lam_17 142.003\n",
      "lam_18 896.855\n",
      "lam_19 0.22753\n",
      "lam_20 0.0943363\n",
      "lam_21 796.035\n",
      "lam_22 664.472\n",
      "lam_23 0.0799532\n",
      "lam_24 87.1193\n",
      "lam_25 1102.4\n",
      "lam_26 0.0904743\n",
      "lam_27 1223.82\n",
      "lam_28 0.441589\n",
      "lam_29 1097.44\n",
      "lam_30 0.0945741\n",
      "lam_31 0.0330014\n",
      "lam_32 0.328821\n",
      "lam_33 238.632\n",
      "lam_34 1240.37\n",
      "lam_35 7.13642e-07\n",
      "lam_36 7.13631e-07\n",
      "lam_37 7.13647e-07\n",
      "lam_38 1041.32\n",
      "lam_39 0.741985\n",
      "lam_40 382.424\n",
      "lam_41 0.0628722\n",
      "lam_42 0.00293676\n",
      "lam_43 0.00277792\n",
      "lam_44 0.00300434\n",
      "lam_45 21.2513\n",
      "lam_46 995.773\n",
      "lam_47 887.254\n",
      "lam_48 0.0634522\n",
      "lam_49 0.00206167\n",
      "lam_50 0.0200048\n",
      "lam_51 865.207\n",
      "lam_52 1233.01\n",
      "lam_53 0.00572109\n",
      "lam_54 171.959\n",
      "lam_55 152.185\n",
      "Obj: -3.42622e+07\n"
     ]
    }
   ],
   "source": [
    "from gurobipy import *\n",
    "\n",
    "L = 56  # dimension of lam\n",
    "\n",
    "K = np.size(x, 1)\n",
    "S = samp_cov(x)\n",
    "inv_S = inv(S)\n",
    "\n",
    "A_t = np.transpose(A)\n",
    "P_t = np.transpose(P)\n",
    "# PA'\n",
    "PA_t = np.dot(P, A_t)\n",
    "# AP_t\n",
    "AP_t = np.transpose(PA_t)\n",
    "\n",
    "Q = np.dot(np.dot(PA_t, inv_S), AP_t)\n",
    "b = sum([np.dot(np.dot(PA_t, inv_S), x[:, k]) for k in range(K)])\n",
    "\n",
    "\n",
    "model = Model(\"OD_matrix_estimation\")\n",
    "\n",
    "lam = []\n",
    "for l in range(L):\n",
    "    lam.append(model.addVar(name='lam_' + str(l)))\n",
    "\n",
    "model.update() \n",
    "\n",
    "# Set objective: (K/2) lam' * Q * lam - b * lam\n",
    "obj = 0\n",
    "for i in range(L):\n",
    "    for j in range(L):\n",
    "        obj += (1.0 /2) * K * lam[i] * Q[i, j] * lam[j]\n",
    "for l in range(L):\n",
    "    obj += - b[l] * lam[l]\n",
    "model.setObjective(obj)\n",
    "\n",
    "# Add constraint: lam >= 0\n",
    "for l in range(L):\n",
    "    model.addConstr(lam[l] >= 0)\n",
    "\n",
    "model.update() \n",
    "\n",
    "model.optimize()\n",
    "\n",
    "lam_list = []\n",
    "for v in model.getVars():\n",
    "    print('%s %g' % (v.varName, v.x))\n",
    "    lam_list.append(v.x)\n",
    "print('Obj: %g' % obj.getValue())"
   ]
  },
  {
   "cell_type": "code",
   "execution_count": 18,
   "metadata": {
    "collapsed": false
   },
   "outputs": [],
   "source": [
    "# write estimation result to file\n",
    "n = 8  # number of nodes\n",
    "with open('../temp_files/OD_demand_matrix_Jul_weekday_AM.txt', 'w') as the_file:\n",
    "    idx = 0\n",
    "    for i in range(n + 1)[1:]:\n",
    "        for j in range(n + 1)[1:]:\n",
    "            if i != j: \n",
    "                the_file.write(\"%d,%d,%f\\n\" %(i, j, lam_list[idx]))\n",
    "                idx += 1"
   ]
  },
  {
   "cell_type": "code",
   "execution_count": 19,
   "metadata": {
    "collapsed": false
   },
   "outputs": [
    {
     "data": {
      "text/plain": [
       "[3.9148304033059235e-12,\n",
       " 464.3045145248558,\n",
       " 4.2971937653681865e-12,\n",
       " 1361.720266062351,\n",
       " 673.0431532966536,\n",
       " 0.23191596000482306,\n",
       " 1.296759928965704e-09,\n",
       " 1.9855362090715883e-05,\n",
       " 0.006276985856275855,\n",
       " 1298.4768276643445,\n",
       " 0.006279205801012905,\n",
       " 0.006275945365614592,\n",
       " 0.006120868956509665,\n",
       " 113.26529538793416,\n",
       " 1522.4489264816925,\n",
       " 53.26000467524697,\n",
       " 92.38773852665763,\n",
       " 142.00341887178746,\n",
       " 896.8546185329589,\n",
       " 0.2275297143122792,\n",
       " 0.09433628486138934,\n",
       " 796.0349882040925,\n",
       " 664.4721974134491,\n",
       " 0.07995319918001287,\n",
       " 87.1192623016824,\n",
       " 1102.396463990994,\n",
       " 0.09047428026891069,\n",
       " 1223.8196157469351,\n",
       " 0.441589401578905,\n",
       " 1097.4440313553894,\n",
       " 0.09457406814795788,\n",
       " 0.0330013917892899,\n",
       " 0.3288205679101328,\n",
       " 238.63181515778527,\n",
       " 1240.365801149077,\n",
       " 7.136423188728147e-07,\n",
       " 7.136311207632094e-07,\n",
       " 7.136469474444513e-07,\n",
       " 1041.3167897640444,\n",
       " 0.7419846759731148,\n",
       " 382.4237652074757,\n",
       " 0.06287215238600607,\n",
       " 0.0029367565588591556,\n",
       " 0.0027779156895450866,\n",
       " 0.003004337230178348,\n",
       " 21.251302044359385,\n",
       " 995.7734740533907,\n",
       " 887.2544544935771,\n",
       " 0.06345221945837387,\n",
       " 0.0020616741828715437,\n",
       " 0.02000484185520829,\n",
       " 865.2070275995045,\n",
       " 1233.0137041923745,\n",
       " 0.005721091502884093,\n",
       " 171.95852048369548,\n",
       " 152.18450292799935]"
      ]
     },
     "execution_count": 19,
     "metadata": {},
     "output_type": "execute_result"
    }
   ],
   "source": [
    "lam_list"
   ]
  },
  {
   "cell_type": "code",
   "execution_count": null,
   "metadata": {
    "collapsed": true
   },
   "outputs": [],
   "source": []
  }
 ],
 "metadata": {
  "kernelspec": {
   "display_name": "Python 2",
   "language": "python",
   "name": "python2"
  },
  "language_info": {
   "codemirror_mode": {
    "name": "ipython",
    "version": 2
   },
   "file_extension": ".py",
   "mimetype": "text/x-python",
   "name": "python",
   "nbconvert_exporter": "python",
   "pygments_lexer": "ipython2",
   "version": "2.7.11"
  }
 },
 "nbformat": 4,
 "nbformat_minor": 0
}
