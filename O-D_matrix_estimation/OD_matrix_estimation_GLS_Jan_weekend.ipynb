{
 "cells": [
  {
   "cell_type": "code",
   "execution_count": 1,
   "metadata": {
    "collapsed": true
   },
   "outputs": [],
   "source": [
    "%run ../Python_files/util_data_storage_and_load.py"
   ]
  },
  {
   "cell_type": "code",
   "execution_count": 2,
   "metadata": {
    "collapsed": true
   },
   "outputs": [],
   "source": [
    "%run ../Python_files/load_dicts.py"
   ]
  },
  {
   "cell_type": "code",
   "execution_count": 3,
   "metadata": {
    "collapsed": false
   },
   "outputs": [],
   "source": [
    "%run ../Python_files/util.py"
   ]
  },
  {
   "cell_type": "code",
   "execution_count": 4,
   "metadata": {
    "collapsed": true
   },
   "outputs": [],
   "source": [
    "# load logit_route_choice_probability_matrix\n",
    "P = zload('../temp_files/logit_route_choice_probability_matrix.pkz')"
   ]
  },
  {
   "cell_type": "code",
   "execution_count": 5,
   "metadata": {
    "collapsed": false
   },
   "outputs": [],
   "source": [
    "import numpy as np\n",
    "from numpy.linalg import inv\n",
    "\n",
    "P = np.matrix(P)"
   ]
  },
  {
   "cell_type": "code",
   "execution_count": 6,
   "metadata": {
    "collapsed": false
   },
   "outputs": [
    {
     "data": {
      "text/plain": [
       "(56, 140)"
      ]
     },
     "execution_count": 6,
     "metadata": {},
     "output_type": "execute_result"
    }
   ],
   "source": [
    "np.size(P, 0), np.size(P, 1)"
   ]
  },
  {
   "cell_type": "code",
   "execution_count": 7,
   "metadata": {
    "collapsed": true
   },
   "outputs": [],
   "source": [
    "import numpy as np\n",
    "from numpy.linalg import inv\n",
    "\n",
    "def samp_cov(x):\n",
    "    \"\"\"\n",
    "    x: sample matrix, each column is a link flow vector sample; 24 * K\n",
    "    K: number of samples\n",
    "    S: sample covariance matrix\n",
    "    ----------------\n",
    "    return: inv(S)\n",
    "    ----------------\n",
    "    \"\"\"\n",
    "    x = np.matrix(x)\n",
    "    K = np.size(x, 1)\n",
    "    x_mean = sum(x[:,k] for k in range(K)) / K\n",
    "    S = sum(np.dot(x[:,k] - x_mean, np.transpose(x[:,k] - x_mean)) for k in range(K)) / (K - 1)\n",
    "    return S"
   ]
  },
  {
   "cell_type": "code",
   "execution_count": 8,
   "metadata": {
    "collapsed": false
   },
   "outputs": [],
   "source": [
    "# load path-link incidence matrix\n",
    "A = zload('../temp_files/path-link_incidence_matrix.pkz')"
   ]
  },
  {
   "cell_type": "code",
   "execution_count": 9,
   "metadata": {
    "collapsed": false
   },
   "outputs": [],
   "source": [
    "# load link counts data\n",
    "\n",
    "import json\n",
    "\n",
    "with open('../temp_files/link_day_minute_Jan_dict_JSON.json', 'r') as json_file:\n",
    "    link_day_minute_Jan_dict_JSON = json.load(json_file)"
   ]
  },
  {
   "cell_type": "code",
   "execution_count": 10,
   "metadata": {
    "collapsed": true
   },
   "outputs": [],
   "source": [
    "weekend_Jan_list = [1, 7, 8, 14, 15, 21, 22, 28, 29]"
   ]
  },
  {
   "cell_type": "code",
   "execution_count": 11,
   "metadata": {
    "collapsed": false
   },
   "outputs": [],
   "source": [
    "link_day_minute_Jan_list = []\n",
    "for link_idx in range(24):\n",
    "    for day in weekend_Jan_list: \n",
    "        for minute_idx in range(120):\n",
    "            key = 'link_' + str(link_idx) + '_' + str(day)\n",
    "            link_day_minute_Jan_list.append(link_day_minute_Jan_dict_JSON[key] ['AM_flow_minute'][minute_idx])"
   ]
  },
  {
   "cell_type": "code",
   "execution_count": 12,
   "metadata": {
    "collapsed": false
   },
   "outputs": [
    {
     "data": {
      "text/plain": [
       "25920"
      ]
     },
     "execution_count": 12,
     "metadata": {},
     "output_type": "execute_result"
    }
   ],
   "source": [
    "len(link_day_minute_Jan_list)"
   ]
  },
  {
   "cell_type": "code",
   "execution_count": 13,
   "metadata": {
    "collapsed": false
   },
   "outputs": [],
   "source": [
    "x = np.matrix(link_day_minute_Jan_list)\n",
    "x = np.matrix.reshape(x, 24, 1080)\n",
    "\n",
    "x = np.nan_to_num(x)\n",
    "y = np.array(np.transpose(x))\n",
    "y = y[np.all(y != 0, axis=1)]\n",
    "x = np.transpose(y)\n",
    "x = np.matrix(x)"
   ]
  },
  {
   "cell_type": "code",
   "execution_count": 14,
   "metadata": {
    "collapsed": false
   },
   "outputs": [
    {
     "data": {
      "text/plain": [
       "matrix([[ 3903.22863242,  4242.98320757],\n",
       "        [ 4012.46701366,  3120.52796148],\n",
       "        [ 5691.68393741,  5336.67776288],\n",
       "        [ 4527.89931295,  4509.97567332],\n",
       "        [ 5695.22658189,  5736.27386271],\n",
       "        [ 6265.37546155,  5707.98847921],\n",
       "        [ 5270.66850029,  4963.43625806],\n",
       "        [ 4389.56113904,  4272.73140244],\n",
       "        [ 4432.80777906,  4423.61110269],\n",
       "        [ 5298.76117144,  5061.34716028],\n",
       "        [ 5102.15470676,  6282.53713048],\n",
       "        [ 3826.67506755,  4639.91567803],\n",
       "        [ 4617.11897802,  4064.12260807],\n",
       "        [ 2773.56110633,  3930.01711357],\n",
       "        [ 4293.40930334,  1919.52084127],\n",
       "        [ 3023.9330937 ,  3432.09087348],\n",
       "        [ 4373.65598092,  3428.71656921],\n",
       "        [ 4670.51453081,  4549.3721486 ],\n",
       "        [ 3285.48740622,  4012.23831437],\n",
       "        [ 4785.1938381 ,  3905.4084889 ],\n",
       "        [ 1934.53854541,  2398.9583872 ],\n",
       "        [ 2222.62277852,  2330.74909154],\n",
       "        [ 4132.17932147,  3661.52117374],\n",
       "        [ 5120.70575521,  4812.4591848 ]])"
      ]
     },
     "execution_count": 14,
     "metadata": {},
     "output_type": "execute_result"
    }
   ],
   "source": [
    "x[:,:2]"
   ]
  },
  {
   "cell_type": "code",
   "execution_count": 15,
   "metadata": {
    "collapsed": false
   },
   "outputs": [
    {
     "data": {
      "text/plain": [
       "(24, 961)"
      ]
     },
     "execution_count": 15,
     "metadata": {},
     "output_type": "execute_result"
    }
   ],
   "source": [
    "np.size(x, 0), np.size(x, 1)"
   ]
  },
  {
   "cell_type": "code",
   "execution_count": 16,
   "metadata": {
    "collapsed": false
   },
   "outputs": [
    {
     "data": {
      "text/plain": [
       "(24, 140)"
      ]
     },
     "execution_count": 16,
     "metadata": {},
     "output_type": "execute_result"
    }
   ],
   "source": [
    "np.size(A,0), np.size(A,1)"
   ]
  },
  {
   "cell_type": "code",
   "execution_count": 17,
   "metadata": {
    "collapsed": false
   },
   "outputs": [
    {
     "name": "stdout",
     "output_type": "stream",
     "text": [
      "Optimize a model with 56 rows, 56 columns and 56 nonzeros\n",
      "Model has 1596 quadratic objective terms\n",
      "Coefficient statistics:\n",
      "  Matrix range    [1e+00, 1e+00]\n",
      "  Objective range [1e-01, 1e+01]\n",
      "  Bounds range    [0e+00, 0e+00]\n",
      "  RHS range       [0e+00, 0e+00]\n",
      "Presolve removed 56 rows and 0 columns\n",
      "Presolve time: 0.00s\n",
      "Presolved: 0 rows, 56 columns, 0 nonzeros\n",
      "Presolved model has 1596 quadratic objective terms\n",
      "Ordering time: 0.00s\n",
      "\n",
      "Barrier statistics:\n",
      " Free vars  : 24\n",
      " AA' NZ     : 2.760e+02\n",
      " Factor NZ  : 3.000e+02\n",
      " Factor Ops : 4.900e+03 (less than 1 second per iteration)\n",
      " Threads    : 1\n",
      "\n",
      "                  Objective                Residual\n",
      "Iter       Primal          Dual         Primal    Dual     Compl     Time\n",
      "   0  -1.11197830e+05  0.00000000e+00  3.63e+03 1.59e+02  9.80e+05     0s\n",
      "   1   5.92108293e+05 -7.32846407e+05  9.69e+02 2.66e+02  2.82e+05     0s\n",
      "   2   6.40356744e+05 -8.04719986e+05  2.75e+01 7.03e+00  3.39e+04     0s\n",
      "   3   1.08739611e+05 -2.36505545e+05  1.43e+00 1.14e-13  6.39e+03     0s\n",
      "   4  -2.79296556e+04 -7.89398225e+04  1.43e-06 2.84e-14  9.11e+02     0s\n",
      "   5  -4.64630753e+04 -5.30459752e+04  3.58e-12 2.84e-14  1.18e+02     0s\n",
      "   6  -4.83858947e+04 -4.90207768e+04  2.71e-12 4.26e-14  1.13e+01     0s\n",
      "   7  -4.85178855e+04 -4.85489965e+04  1.19e-11 2.84e-14  5.56e-01     0s\n",
      "   8  -4.85326854e+04 -4.85418978e+04  6.71e-11 4.26e-14  1.65e-01     0s\n",
      "   9  -4.85351544e+04 -4.85362369e+04  4.89e-12 4.26e-14  1.93e-02     0s\n",
      "  10  -4.85355685e+04 -4.85355954e+04  6.91e-12 2.84e-14  4.80e-04     0s\n",
      "  11  -4.85355762e+04 -4.85355787e+04  8.14e-11 5.68e-14  4.33e-05     0s\n",
      "  12  -4.85355773e+04 -4.85355774e+04  1.36e-11 5.68e-14  1.79e-06     0s\n",
      "  13  -4.85355773e+04 -4.85355773e+04  1.15e-10 4.26e-14  2.18e-08     0s\n",
      "  14  -4.85355773e+04 -4.85355773e+04  1.29e-11 1.75e-11  2.57e-09     0s\n",
      "\n",
      "Barrier solved model in 14 iterations and 0.02 seconds\n",
      "Optimal objective -4.85355773e+04\n",
      "\n",
      "lam_0 1.62444e-09\n",
      "lam_1 5972.49\n",
      "lam_2 1.7998e-09\n",
      "lam_3 1.75935\n",
      "lam_4 1106.88\n",
      "lam_5 6.97119e-06\n",
      "lam_6 5.03979e-07\n",
      "lam_7 0.00830698\n",
      "lam_8 9.77137e-09\n",
      "lam_9 3985.41\n",
      "lam_10 9.77137e-09\n",
      "lam_11 9.77137e-09\n",
      "lam_12 9.75769e-09\n",
      "lam_13 9.81365e-09\n",
      "lam_14 4668.57\n",
      "lam_15 1037.89\n",
      "lam_16 2.72874\n",
      "lam_17 1.87231\n",
      "lam_18 1735.03\n",
      "lam_19 6788.03\n",
      "lam_20 6.97326e-06\n",
      "lam_21 1528\n",
      "lam_22 2663.41\n",
      "lam_23 405.319\n",
      "lam_24 1882.7\n",
      "lam_25 864.035\n",
      "lam_26 3.99669e-06\n",
      "lam_27 3376.33\n",
      "lam_28 2.13724\n",
      "lam_29 2.7553\n",
      "lam_30 454.571\n",
      "lam_31 4.1686\n",
      "lam_32 1835.31\n",
      "lam_33 3.95663e-06\n",
      "lam_34 3.95864e-06\n",
      "lam_35 1719.97\n",
      "lam_36 531.629\n",
      "lam_37 0.00219924\n",
      "lam_38 1896.7\n",
      "lam_39 401.982\n",
      "lam_40 193.716\n",
      "lam_41 108.103\n",
      "lam_42 5.0211e-06\n",
      "lam_43 5.0211e-06\n",
      "lam_44 5785.39\n",
      "lam_45 866.268\n",
      "lam_46 182.826\n",
      "lam_47 2.51018e-06\n",
      "lam_48 3308.1\n",
      "lam_49 5.03504e-06\n",
      "lam_50 5.07671e-06\n",
      "lam_51 5.02272e-06\n",
      "lam_52 3330.44\n",
      "lam_53 159.101\n",
      "lam_54 2.51018e-06\n",
      "lam_55 3721.17\n",
      "Obj: -48531.1\n"
     ]
    }
   ],
   "source": [
    "from gurobipy import *\n",
    "\n",
    "L = 56  # dimension of lam\n",
    "\n",
    "K = np.size(x, 1)\n",
    "S = samp_cov(x)\n",
    "inv_S = inv(S)\n",
    "\n",
    "A_t = np.transpose(A)\n",
    "P_t = np.transpose(P)\n",
    "# PA'\n",
    "PA_t = np.dot(P, A_t)\n",
    "# AP_t\n",
    "AP_t = np.transpose(PA_t)\n",
    "\n",
    "Q = np.dot(np.dot(PA_t, inv_S), AP_t)\n",
    "b = sum([np.dot(np.dot(PA_t, inv_S), x[:, k]) for k in range(K)])\n",
    "\n",
    "\n",
    "model = Model(\"OD_matrix_estimation\")\n",
    "\n",
    "lam = []\n",
    "for l in range(L):\n",
    "    lam.append(model.addVar(name='lam_' + str(l)))\n",
    "\n",
    "model.update() \n",
    "\n",
    "# Set objective: (K/2) lam' * Q * lam - b' * lam\n",
    "obj = 0\n",
    "for i in range(L):\n",
    "    for j in range(L):\n",
    "        obj += (1.0 /2) * K * lam[i] * Q[i, j] * lam[j]\n",
    "for l in range(L):\n",
    "    obj += - b[l] * lam[l]\n",
    "model.setObjective(obj)\n",
    "\n",
    "# Add constraint: lam >= 0\n",
    "for l in range(L):\n",
    "    model.addConstr(lam[l] >= 0)\n",
    "\n",
    "model.update() \n",
    "\n",
    "model.optimize()\n",
    "\n",
    "lam_list = []\n",
    "for v in model.getVars():\n",
    "    print('%s %g' % (v.varName, v.x))\n",
    "    lam_list.append(v.x)\n",
    "print('Obj: %g' % obj.getValue())"
   ]
  },
  {
   "cell_type": "code",
   "execution_count": 18,
   "metadata": {
    "collapsed": true
   },
   "outputs": [],
   "source": [
    "# write estimation result to file\n",
    "n = 8  # number of nodes\n",
    "with open('../temp_files/OD_demand_matrix_Jan_weekend.txt', 'w') as the_file:\n",
    "    idx = 0\n",
    "    for i in range(n + 1)[1:]:\n",
    "        for j in range(n + 1)[1:]:\n",
    "            if i != j: \n",
    "                the_file.write(\"%d,%d,%f\\n\" %(i, j, lam_list[idx]))\n",
    "                idx += 1"
   ]
  },
  {
   "cell_type": "code",
   "execution_count": 19,
   "metadata": {
    "collapsed": false
   },
   "outputs": [
    {
     "data": {
      "text/plain": [
       "[1.6244371677484336e-09,\n",
       " 5972.48909092056,\n",
       " 1.7998043662220864e-09,\n",
       " 1.7593478438705525,\n",
       " 1106.880790173908,\n",
       " 6.971193377463536e-06,\n",
       " 5.03978744326971e-07,\n",
       " 0.008306981706679374,\n",
       " 9.771369683228287e-09,\n",
       " 3985.4096442090986,\n",
       " 9.771369871367301e-09,\n",
       " 9.77136968352533e-09,\n",
       " 9.757692538335755e-09,\n",
       " 9.813647480688657e-09,\n",
       " 4668.57098468178,\n",
       " 1037.888890955132,\n",
       " 2.728743487446838,\n",
       " 1.8723088288516945,\n",
       " 1735.0270682127718,\n",
       " 6788.032513141763,\n",
       " 6.973255407661406e-06,\n",
       " 1528.0016978783171,\n",
       " 2663.4073168618884,\n",
       " 405.31896006288537,\n",
       " 1882.7045934584412,\n",
       " 864.0351148423714,\n",
       " 3.9966917553931275e-06,\n",
       " 3376.3279427147177,\n",
       " 2.1372394228458234,\n",
       " 2.755301242315767,\n",
       " 454.57121588031566,\n",
       " 4.168597747614285,\n",
       " 1835.3121666124164,\n",
       " 3.956630878524318e-06,\n",
       " 3.9586404190172234e-06,\n",
       " 1719.9676465159603,\n",
       " 531.6290999030291,\n",
       " 0.002199244233466402,\n",
       " 1896.7014352015358,\n",
       " 401.9818526709239,\n",
       " 193.71616176008243,\n",
       " 108.1033745669775,\n",
       " 5.021103428580138e-06,\n",
       " 5.021103453229481e-06,\n",
       " 5785.387427865429,\n",
       " 866.268410878145,\n",
       " 182.8257413070058,\n",
       " 2.5101843184698528e-06,\n",
       " 3308.0974982004714,\n",
       " 5.035040903372532e-06,\n",
       " 5.076707664479482e-06,\n",
       " 5.022719205598427e-06,\n",
       " 3330.43927796019,\n",
       " 159.10051109778757,\n",
       " 2.510184332773495e-06,\n",
       " 3721.1729804158563]"
      ]
     },
     "execution_count": 19,
     "metadata": {},
     "output_type": "execute_result"
    }
   ],
   "source": [
    "lam_list"
   ]
  },
  {
   "cell_type": "code",
   "execution_count": null,
   "metadata": {
    "collapsed": true
   },
   "outputs": [],
   "source": []
  }
 ],
 "metadata": {
  "kernelspec": {
   "display_name": "Python 2",
   "language": "python",
   "name": "python2"
  },
  "language_info": {
   "codemirror_mode": {
    "name": "ipython",
    "version": 2
   },
   "file_extension": ".py",
   "mimetype": "text/x-python",
   "name": "python",
   "nbconvert_exporter": "python",
   "pygments_lexer": "ipython2",
   "version": "2.7.11"
  }
 },
 "nbformat": 4,
 "nbformat_minor": 0
}
