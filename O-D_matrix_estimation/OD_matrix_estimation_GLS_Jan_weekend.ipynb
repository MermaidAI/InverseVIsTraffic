{
 "cells": [
  {
   "cell_type": "code",
   "execution_count": 1,
   "metadata": {
    "collapsed": true
   },
   "outputs": [],
   "source": [
    "%run ../Python_files/util_data_storage_and_load.py"
   ]
  },
  {
   "cell_type": "code",
   "execution_count": 2,
   "metadata": {
    "collapsed": true
   },
   "outputs": [],
   "source": [
    "%run ../Python_files/load_dicts.py"
   ]
  },
  {
   "cell_type": "code",
   "execution_count": 3,
   "metadata": {
    "collapsed": false
   },
   "outputs": [],
   "source": [
    "%run ../Python_files/util.py"
   ]
  },
  {
   "cell_type": "code",
   "execution_count": 4,
   "metadata": {
    "collapsed": true
   },
   "outputs": [],
   "source": [
    "# load logit_route_choice_probability_matrix\n",
    "P = zload('../temp_files/logit_route_choice_probability_matrix.pkz')"
   ]
  },
  {
   "cell_type": "code",
   "execution_count": 5,
   "metadata": {
    "collapsed": false
   },
   "outputs": [],
   "source": [
    "import numpy as np\n",
    "from numpy.linalg import inv\n",
    "\n",
    "P = np.matrix(P)"
   ]
  },
  {
   "cell_type": "code",
   "execution_count": 6,
   "metadata": {
    "collapsed": false
   },
   "outputs": [
    {
     "data": {
      "text/plain": [
       "(56, 140)"
      ]
     },
     "execution_count": 6,
     "metadata": {},
     "output_type": "execute_result"
    }
   ],
   "source": [
    "np.size(P, 0), np.size(P, 1)"
   ]
  },
  {
   "cell_type": "code",
   "execution_count": 7,
   "metadata": {
    "collapsed": true
   },
   "outputs": [],
   "source": [
    "import numpy as np\n",
    "from numpy.linalg import inv\n",
    "\n",
    "def samp_cov(x):\n",
    "    \"\"\"\n",
    "    x: sample matrix, each column is a link flow vector sample; 24 * K\n",
    "    K: number of samples\n",
    "    S: sample covariance matrix\n",
    "    ----------------\n",
    "    return: inv(S)\n",
    "    ----------------\n",
    "    \"\"\"\n",
    "    x = np.matrix(x)\n",
    "    K = np.size(x, 1)\n",
    "    x_mean = sum(x[:,k] for k in range(K)) / K\n",
    "    S = sum(np.dot(x[:,k] - x_mean, np.transpose(x[:,k] - x_mean)) for k in range(K)) / (K - 1)\n",
    "    return S"
   ]
  },
  {
   "cell_type": "code",
   "execution_count": 8,
   "metadata": {
    "collapsed": false
   },
   "outputs": [],
   "source": [
    "# load path-link incidence matrix\n",
    "A = zload('../temp_files/path-link_incidence_matrix.pkz')"
   ]
  },
  {
   "cell_type": "code",
   "execution_count": 9,
   "metadata": {
    "collapsed": false
   },
   "outputs": [],
   "source": [
    "# load link counts data\n",
    "\n",
    "import json\n",
    "\n",
    "with open('../temp_files/link_day_minute_Jan_dict_JSON.json', 'r') as json_file:\n",
    "    link_day_minute_Jan_dict_JSON = json.load(json_file)"
   ]
  },
  {
   "cell_type": "code",
   "execution_count": 10,
   "metadata": {
    "collapsed": true
   },
   "outputs": [],
   "source": [
    "weekend_Jan_list = [1, 7, 8, 14, 15, 21, 22, 28, 29]"
   ]
  },
  {
   "cell_type": "code",
   "execution_count": 11,
   "metadata": {
    "collapsed": false
   },
   "outputs": [],
   "source": [
    "link_day_minute_Jan_list = []\n",
    "for link_idx in range(24):\n",
    "    for day in weekend_Jan_list: \n",
    "        for minute_idx in range(120):\n",
    "            key = 'link_' + str(link_idx) + '_' + str(day)\n",
    "            link_day_minute_Jan_list.append(link_day_minute_Jan_dict_JSON[key] ['AM_flow_minute'][minute_idx])"
   ]
  },
  {
   "cell_type": "code",
   "execution_count": 12,
   "metadata": {
    "collapsed": false
   },
   "outputs": [
    {
     "data": {
      "text/plain": [
       "25920"
      ]
     },
     "execution_count": 12,
     "metadata": {},
     "output_type": "execute_result"
    }
   ],
   "source": [
    "len(link_day_minute_Jan_list)"
   ]
  },
  {
   "cell_type": "code",
   "execution_count": 13,
   "metadata": {
    "collapsed": false
   },
   "outputs": [],
   "source": [
    "x = np.matrix(link_day_minute_Jan_list)\n",
    "x = np.matrix.reshape(x, 24, 1080)\n",
    "\n",
    "x = np.nan_to_num(x)\n",
    "y = np.array(np.transpose(x))\n",
    "y = y[np.all(y != 0, axis=1)]\n",
    "x = np.transpose(y)\n",
    "x = np.matrix(x)"
   ]
  },
  {
   "cell_type": "code",
   "execution_count": 14,
   "metadata": {
    "collapsed": false
   },
   "outputs": [
    {
     "data": {
      "text/plain": [
       "matrix([[ 1295.70655466,  1301.84667963],\n",
       "        [ 1260.15802585,  1230.47158613],\n",
       "        [ 1583.42086625,  1571.18058951],\n",
       "        [ 1542.85786168,  1540.42855181],\n",
       "        [ 1603.88435238,  1605.71175094],\n",
       "        [ 1648.49635808,  1637.72762733],\n",
       "        [ 1355.5558366 ,  1347.85549439],\n",
       "        [ 1338.46391474,  1332.71811576],\n",
       "        [ 1687.78738992,  1704.94063122],\n",
       "        [ 1657.04422278,  1672.71186971],\n",
       "        [ 1415.94813912,  1517.41559903],\n",
       "        [ 1273.01843746,  1239.54193386],\n",
       "        [ 1259.05925946,  1241.80419088],\n",
       "        [ 1333.82238428,  1378.52477044],\n",
       "        [ 1309.99036988,  1185.31930605],\n",
       "        [ 1036.31942253,  1049.95646759],\n",
       "        [ 1308.58598201,  1258.72365619],\n",
       "        [ 1333.8562281 ,  1328.36982322],\n",
       "        [ 1474.43840622,  1524.14315656],\n",
       "        [ 1494.06320587,  1562.19011815],\n",
       "        [ 1381.21486359,  1426.83485745],\n",
       "        [ 1375.10558197,  1395.27194191],\n",
       "        [ 1296.61363339,  1269.32283407],\n",
       "        [ 1339.57767211,  1329.3478772 ]])"
      ]
     },
     "execution_count": 14,
     "metadata": {},
     "output_type": "execute_result"
    }
   ],
   "source": [
    "x[:,:2]"
   ]
  },
  {
   "cell_type": "code",
   "execution_count": 15,
   "metadata": {
    "collapsed": false
   },
   "outputs": [
    {
     "data": {
      "text/plain": [
       "(24, 962)"
      ]
     },
     "execution_count": 15,
     "metadata": {},
     "output_type": "execute_result"
    }
   ],
   "source": [
    "np.size(x, 0), np.size(x, 1)"
   ]
  },
  {
   "cell_type": "code",
   "execution_count": 16,
   "metadata": {
    "collapsed": false
   },
   "outputs": [
    {
     "data": {
      "text/plain": [
       "(24, 140)"
      ]
     },
     "execution_count": 16,
     "metadata": {},
     "output_type": "execute_result"
    }
   ],
   "source": [
    "np.size(A,0), np.size(A,1)"
   ]
  },
  {
   "cell_type": "code",
   "execution_count": 17,
   "metadata": {
    "collapsed": false
   },
   "outputs": [
    {
     "name": "stdout",
     "output_type": "stream",
     "text": [
      "Optimize a model with 56 rows, 56 columns and 56 nonzeros\n",
      "Model has 1596 quadratic objective terms\n",
      "Coefficient statistics:\n",
      "  Matrix range    [1e+00, 1e+00]\n",
      "  Objective range [1e+01, 2e+03]\n",
      "  Bounds range    [0e+00, 0e+00]\n",
      "  RHS range       [0e+00, 0e+00]\n",
      "Warning: diagonal adjustment of 5.3e-09 performed to make Q PSD\n",
      "Presolve removed 56 rows and 0 columns\n",
      "Presolve time: 0.00s\n",
      "Presolved: 0 rows, 56 columns, 0 nonzeros\n",
      "Presolved model has 1596 quadratic objective terms\n",
      "Ordering time: 0.00s\n",
      "\n",
      "Barrier statistics:\n",
      " Free vars  : 26\n",
      " AA' NZ     : 3.250e+02\n",
      " Factor NZ  : 3.510e+02\n",
      " Factor Ops : 6.201e+03 (less than 1 second per iteration)\n",
      " Threads    : 1\n",
      "\n",
      "                  Objective                Residual\n",
      "Iter       Primal          Dual         Primal    Dual     Compl     Time\n",
      "   0  -6.53173041e+06  0.00000000e+00  5.51e+03 8.57e+02  1.00e+06     0s\n",
      "   1  -4.02264898e+06 -3.53732054e+06  1.26e+03 2.26e+02  2.75e+05     0s\n",
      "   2  -3.05641575e+06 -4.57200471e+06  2.65e+01 4.51e+00  3.21e+04     0s\n",
      "   3  -3.50306997e+06 -3.73021173e+06  2.65e-05 4.12e-06  4.06e+03     0s\n",
      "   4  -3.55421204e+06 -3.56722722e+06  2.36e-11 4.21e-12  2.32e+02     0s\n",
      "   5  -3.55774893e+06 -3.55800554e+06  5.34e-11 3.41e-13  4.58e+00     0s\n",
      "   6  -3.55793505e+06 -3.55793713e+06  1.39e-09 4.55e-13  3.72e-02     0s\n",
      "   7  -3.55793655e+06 -3.55793688e+06  2.58e-10 5.68e-13  5.94e-03     0s\n",
      "   8  -3.55793661e+06 -3.55793665e+06  2.15e-11 4.55e-13  6.52e-04     0s\n",
      "   9  -3.55793662e+06 -3.55793662e+06  1.96e-11 6.82e-13  1.68e-05     0s\n",
      "  10  -3.55793662e+06 -3.55793662e+06  1.84e-11 4.55e-13  2.22e-06     0s\n",
      "  11  -3.55793662e+06 -3.55793662e+06  2.30e-11 1.36e-10  2.94e-07     0s\n",
      "  12  -3.55793662e+06 -3.55793662e+06  5.50e-11 4.87e-10  3.59e-08     0s\n",
      "  13  -3.55793662e+06 -3.55793662e+06  3.58e-12 1.40e-10  9.98e-09     0s\n",
      "\n",
      "Barrier solved model in 13 iterations and 0.02 seconds\n",
      "Optimal objective -3.55793662e+06\n",
      "\n",
      "lam_0 4.79126e-11\n",
      "lam_1 849.208\n",
      "lam_2 5.35954e-11\n",
      "lam_3 1283.18\n",
      "lam_4 168.017\n",
      "lam_5 481.692\n",
      "lam_6 1.61734e-08\n",
      "lam_7 0.000320488\n",
      "lam_8 1.42942e-10\n",
      "lam_9 1377.31\n",
      "lam_10 1.42942e-10\n",
      "lam_11 1.42942e-10\n",
      "lam_12 1.42942e-10\n",
      "lam_13 1.43761e-10\n",
      "lam_14 1682.48\n",
      "lam_15 16.2416\n",
      "lam_16 0.348899\n",
      "lam_17 14.8972\n",
      "lam_18 1151.83\n",
      "lam_19 4.15015\n",
      "lam_20 0.674052\n",
      "lam_21 748.861\n",
      "lam_22 772.878\n",
      "lam_23 3.98552\n",
      "lam_24 608.382\n",
      "lam_25 497.194\n",
      "lam_26 2.93992\n",
      "lam_27 1308.91\n",
      "lam_28 0.45572\n",
      "lam_29 0.196677\n",
      "lam_30 249.83\n",
      "lam_31 1300.23\n",
      "lam_32 865.045\n",
      "lam_33 1274.43\n",
      "lam_34 0.500818\n",
      "lam_35 2.39782e-05\n",
      "lam_36 2.39791e-05\n",
      "lam_37 2.39775e-05\n",
      "lam_38 0.403182\n",
      "lam_39 988.645\n",
      "lam_40 771.8\n",
      "lam_41 533.86\n",
      "lam_42 333.137\n",
      "lam_43 850.427\n",
      "lam_44 87.3826\n",
      "lam_45 0.345222\n",
      "lam_46 290.105\n",
      "lam_47 145.693\n",
      "lam_48 731.593\n",
      "lam_49 0.0403124\n",
      "lam_50 0.120131\n",
      "lam_51 1387.73\n",
      "lam_52 1295.22\n",
      "lam_53 0.0905419\n",
      "lam_54 0.0732893\n",
      "lam_55 0.0734568\n",
      "Obj: -3.55794e+06\n"
     ]
    }
   ],
   "source": [
    "from gurobipy import *\n",
    "\n",
    "L = 56  # dimension of lam\n",
    "\n",
    "K = np.size(x, 1)\n",
    "S = samp_cov(x)\n",
    "inv_S = inv(S)\n",
    "\n",
    "A_t = np.transpose(A)\n",
    "P_t = np.transpose(P)\n",
    "# PA'\n",
    "PA_t = np.dot(P, A_t)\n",
    "# AP_t\n",
    "AP_t = np.transpose(PA_t)\n",
    "\n",
    "Q = np.dot(np.dot(PA_t, inv_S), AP_t)\n",
    "b = sum([np.dot(np.dot(PA_t, inv_S), x[:, k]) for k in range(K)])\n",
    "\n",
    "\n",
    "model = Model(\"OD_matrix_estimation\")\n",
    "\n",
    "lam = []\n",
    "for l in range(L):\n",
    "    lam.append(model.addVar(name='lam_' + str(l)))\n",
    "\n",
    "model.update() \n",
    "\n",
    "# Set objective: (K/2) lam' * Q * lam - b * lam\n",
    "obj = 0\n",
    "for i in range(L):\n",
    "    for j in range(L):\n",
    "        obj += (1.0 /2) * K * lam[i] * Q[i, j] * lam[j]\n",
    "for l in range(L):\n",
    "    obj += - b[l] * lam[l]\n",
    "model.setObjective(obj)\n",
    "\n",
    "# Add constraint: lam >= 0\n",
    "for l in range(L):\n",
    "    model.addConstr(lam[l] >= 0)\n",
    "\n",
    "model.update() \n",
    "\n",
    "model.optimize()\n",
    "\n",
    "lam_list = []\n",
    "for v in model.getVars():\n",
    "    print('%s %g' % (v.varName, v.x))\n",
    "    lam_list.append(v.x)\n",
    "print('Obj: %g' % obj.getValue())"
   ]
  },
  {
   "cell_type": "code",
   "execution_count": 18,
   "metadata": {
    "collapsed": true
   },
   "outputs": [],
   "source": [
    "# write estimation result to file\n",
    "n = 8  # number of nodes\n",
    "with open('../temp_files/OD_demand_matrix_Jan_weekend.txt', 'w') as the_file:\n",
    "    idx = 0\n",
    "    for i in range(n + 1)[1:]:\n",
    "        for j in range(n + 1)[1:]:\n",
    "            if i != j: \n",
    "                the_file.write(\"%d,%d,%f\\n\" %(i, j, lam_list[idx]))\n",
    "                idx += 1"
   ]
  },
  {
   "cell_type": "code",
   "execution_count": 19,
   "metadata": {
    "collapsed": false
   },
   "outputs": [
    {
     "data": {
      "text/plain": [
       "[4.791264514764715e-11,\n",
       " 849.2083931426245,\n",
       " 5.3595434465588924e-11,\n",
       " 1283.175682750575,\n",
       " 168.01685394262827,\n",
       " 481.69172441802675,\n",
       " 1.6173437414168743e-08,\n",
       " 0.00032048772966450584,\n",
       " 1.4294174561247812e-10,\n",
       " 1377.3098690922338,\n",
       " 1.4294174561022437e-10,\n",
       " 1.4294174561085385e-10,\n",
       " 1.429417456081637e-10,\n",
       " 1.4376143803429263e-10,\n",
       " 1682.4843948260566,\n",
       " 16.24159119779332,\n",
       " 0.3488986243236226,\n",
       " 14.897207022512092,\n",
       " 1151.8320261960323,\n",
       " 4.15014804560154,\n",
       " 0.6740520025047196,\n",
       " 748.860574765309,\n",
       " 772.8776184233674,\n",
       " 3.985515674155348,\n",
       " 608.3817493379187,\n",
       " 497.1935079797559,\n",
       " 2.93992133073413,\n",
       " 1308.906166207192,\n",
       " 0.4557202840123191,\n",
       " 0.19667675221262165,\n",
       " 249.82996757064504,\n",
       " 1300.2302849428306,\n",
       " 865.0445701043892,\n",
       " 1274.4348623865358,\n",
       " 0.500818357143409,\n",
       " 2.3978204949555577e-05,\n",
       " 2.397911321363507e-05,\n",
       " 2.397745113832422e-05,\n",
       " 0.4031815269820016,\n",
       " 988.6452197117513,\n",
       " 771.8004404200396,\n",
       " 533.8601831196049,\n",
       " 333.1373142031732,\n",
       " 850.4270061092483,\n",
       " 87.38263539847941,\n",
       " 0.34522208264359666,\n",
       " 290.10544781732756,\n",
       " 145.69287821804625,\n",
       " 731.5927010477639,\n",
       " 0.040312419032544636,\n",
       " 0.12013075779235938,\n",
       " 1387.7331558712337,\n",
       " 1295.2193881113508,\n",
       " 0.09054194467818247,\n",
       " 0.07328934665431946,\n",
       " 0.07345676555957151]"
      ]
     },
     "execution_count": 19,
     "metadata": {},
     "output_type": "execute_result"
    }
   ],
   "source": [
    "lam_list"
   ]
  },
  {
   "cell_type": "code",
   "execution_count": null,
   "metadata": {
    "collapsed": true
   },
   "outputs": [],
   "source": []
  }
 ],
 "metadata": {
  "kernelspec": {
   "display_name": "Python 2",
   "language": "python",
   "name": "python2"
  },
  "language_info": {
   "codemirror_mode": {
    "name": "ipython",
    "version": 2
   },
   "file_extension": ".py",
   "mimetype": "text/x-python",
   "name": "python",
   "nbconvert_exporter": "python",
   "pygments_lexer": "ipython2",
   "version": "2.7.11"
  }
 },
 "nbformat": 4,
 "nbformat_minor": 0
}
