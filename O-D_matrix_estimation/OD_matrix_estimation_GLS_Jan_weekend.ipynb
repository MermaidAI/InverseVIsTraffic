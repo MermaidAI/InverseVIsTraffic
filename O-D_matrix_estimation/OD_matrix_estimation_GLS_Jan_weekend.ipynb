{
 "cells": [
  {
   "cell_type": "code",
   "execution_count": 1,
   "metadata": {
    "collapsed": true
   },
   "outputs": [],
   "source": [
    "%run ../Python_files/util_data_storage_and_load.py"
   ]
  },
  {
   "cell_type": "code",
   "execution_count": 2,
   "metadata": {
    "collapsed": true
   },
   "outputs": [],
   "source": [
    "%run ../Python_files/load_dicts.py"
   ]
  },
  {
   "cell_type": "code",
   "execution_count": 3,
   "metadata": {
    "collapsed": false
   },
   "outputs": [],
   "source": [
    "%run ../Python_files/util.py"
   ]
  },
  {
   "cell_type": "code",
   "execution_count": 4,
   "metadata": {
    "collapsed": true
   },
   "outputs": [],
   "source": [
    "# load logit_route_choice_probability_matrix\n",
    "P = zload('../temp_files/logit_route_choice_probability_matrix.pkz')"
   ]
  },
  {
   "cell_type": "code",
   "execution_count": 5,
   "metadata": {
    "collapsed": false
   },
   "outputs": [],
   "source": [
    "import numpy as np\n",
    "from numpy.linalg import inv\n",
    "\n",
    "P = np.matrix(P)"
   ]
  },
  {
   "cell_type": "code",
   "execution_count": 6,
   "metadata": {
    "collapsed": false
   },
   "outputs": [
    {
     "data": {
      "text/plain": [
       "(56, 140)"
      ]
     },
     "execution_count": 6,
     "metadata": {},
     "output_type": "execute_result"
    }
   ],
   "source": [
    "np.size(P, 0), np.size(P, 1)"
   ]
  },
  {
   "cell_type": "code",
   "execution_count": 7,
   "metadata": {
    "collapsed": true
   },
   "outputs": [],
   "source": [
    "import numpy as np\n",
    "from numpy.linalg import inv\n",
    "\n",
    "def samp_cov(x):\n",
    "    \"\"\"\n",
    "    x: sample matrix, each column is a link flow vector sample; 24 * K\n",
    "    K: number of samples\n",
    "    S: sample covariance matrix\n",
    "    ----------------\n",
    "    return: inv(S)\n",
    "    ----------------\n",
    "    \"\"\"\n",
    "    x = np.matrix(x)\n",
    "    K = np.size(x, 1)\n",
    "    x_mean = sum(x[:,k] for k in range(K)) / K\n",
    "    S = sum(np.dot(x[:,k] - x_mean, np.transpose(x[:,k] - x_mean)) for k in range(K)) / (K - 1)\n",
    "    return S"
   ]
  },
  {
   "cell_type": "code",
   "execution_count": 8,
   "metadata": {
    "collapsed": false
   },
   "outputs": [],
   "source": [
    "# load path-link incidence matrix\n",
    "A = zload('../temp_files/path-link_incidence_matrix.pkz')"
   ]
  },
  {
   "cell_type": "code",
   "execution_count": 9,
   "metadata": {
    "collapsed": false
   },
   "outputs": [],
   "source": [
    "# load link counts data\n",
    "\n",
    "import json\n",
    "\n",
    "with open('../temp_files/link_day_minute_Jan_dict_JSON.json', 'r') as json_file:\n",
    "    link_day_minute_Jan_dict_JSON = json.load(json_file)"
   ]
  },
  {
   "cell_type": "code",
   "execution_count": 10,
   "metadata": {
    "collapsed": true
   },
   "outputs": [],
   "source": [
    "weekend_Jan_list = [1, 7, 8, 14, 15, 21, 22, 28, 29]"
   ]
  },
  {
   "cell_type": "code",
   "execution_count": 11,
   "metadata": {
    "collapsed": false
   },
   "outputs": [],
   "source": [
    "link_day_minute_Jan_list = []\n",
    "for link_idx in range(24):\n",
    "    for day in weekend_Jan_list: \n",
    "        for minute_idx in range(120):\n",
    "            key = 'link_' + str(link_idx) + '_' + str(day)\n",
    "            link_day_minute_Jan_list.append(link_day_minute_Jan_dict_JSON[key] ['AM_flow_minute'][minute_idx])"
   ]
  },
  {
   "cell_type": "code",
   "execution_count": 12,
   "metadata": {
    "collapsed": false
   },
   "outputs": [
    {
     "data": {
      "text/plain": [
       "25920"
      ]
     },
     "execution_count": 12,
     "metadata": {},
     "output_type": "execute_result"
    }
   ],
   "source": [
    "len(link_day_minute_Jan_list)"
   ]
  },
  {
   "cell_type": "code",
   "execution_count": 13,
   "metadata": {
    "collapsed": false
   },
   "outputs": [],
   "source": [
    "x = np.matrix(link_day_minute_Jan_list)\n",
    "x = np.matrix.reshape(x, 24, 1080)\n",
    "\n",
    "x = np.nan_to_num(x)\n",
    "y = np.array(np.transpose(x))\n",
    "y = y[np.all(y != 0, axis=1)]\n",
    "x = np.transpose(y)\n",
    "x = np.matrix(x)"
   ]
  },
  {
   "cell_type": "code",
   "execution_count": 14,
   "metadata": {
    "collapsed": false
   },
   "outputs": [
    {
     "data": {
      "text/plain": [
       "matrix([[ 352345.58212337,  349365.8698338 ],\n",
       "        [ 362347.24968738,  358920.06835082],\n",
       "        [ 656135.70404203,  659239.85596047],\n",
       "        [ 666770.66182925,  673110.47886094],\n",
       "        [ 175713.13948471,  176057.02508629],\n",
       "        [ 235679.51835631,  233766.20179   ],\n",
       "        [ 432851.94024934,  435375.80488904],\n",
       "        [ 428862.53520429,  429748.31783243],\n",
       "        [ 383197.77744651,  385983.94394234],\n",
       "        [ 394997.56567081,  389055.95486397],\n",
       "        [ 385868.75458212,  399346.76289193],\n",
       "        [ 333535.8401955 ,  332337.34755611],\n",
       "        [ 100046.15481047,   99823.31056737],\n",
       "        [  99792.47154631,  103649.59555173],\n",
       "        [ 166183.42761702,  155502.73524167],\n",
       "        [ 148183.81282739,  147046.25125201],\n",
       "        [ 221276.13104043,  216012.37518491],\n",
       "        [ 226625.39293639,  223939.54326923],\n",
       "        [ 371649.50288845,  376225.11111807],\n",
       "        [ 333177.28884753,  344099.70331262],\n",
       "        [ 499745.10215935,  516255.86797819],\n",
       "        [ 531704.51494075,  524323.98654079],\n",
       "        [ 143185.04187742,  140331.78594871],\n",
       "        [ 147720.53062054,  146578.68321645]])"
      ]
     },
     "execution_count": 14,
     "metadata": {},
     "output_type": "execute_result"
    }
   ],
   "source": [
    "x[:,:2]"
   ]
  },
  {
   "cell_type": "code",
   "execution_count": 15,
   "metadata": {
    "collapsed": false
   },
   "outputs": [
    {
     "data": {
      "text/plain": [
       "(24, 962)"
      ]
     },
     "execution_count": 15,
     "metadata": {},
     "output_type": "execute_result"
    }
   ],
   "source": [
    "np.size(x, 0), np.size(x, 1)"
   ]
  },
  {
   "cell_type": "code",
   "execution_count": 16,
   "metadata": {
    "collapsed": false
   },
   "outputs": [
    {
     "data": {
      "text/plain": [
       "(24, 140)"
      ]
     },
     "execution_count": 16,
     "metadata": {},
     "output_type": "execute_result"
    }
   ],
   "source": [
    "np.size(A,0), np.size(A,1)"
   ]
  },
  {
   "cell_type": "code",
   "execution_count": 17,
   "metadata": {
    "collapsed": false
   },
   "outputs": [
    {
     "name": "stdout",
     "output_type": "stream",
     "text": [
      "Optimize a model with 56 rows, 56 columns and 56 nonzeros\n",
      "Model has 1596 quadratic objective terms\n",
      "Coefficient statistics:\n",
      "  Matrix range    [1e+00, 1e+00]\n",
      "  Objective range [2e-01, 7e+00]\n",
      "  Bounds range    [0e+00, 0e+00]\n",
      "  RHS range       [0e+00, 0e+00]\n",
      "Presolve removed 56 rows and 0 columns\n",
      "Presolve time: 0.00s\n",
      "Presolved: 0 rows, 56 columns, 0 nonzeros\n",
      "Presolved model has 1596 quadratic objective terms\n",
      "Ordering time: 0.00s\n",
      "\n",
      "Barrier statistics:\n",
      " Free vars  : 24\n",
      " AA' NZ     : 2.760e+02\n",
      " Factor NZ  : 3.000e+02\n",
      " Factor Ops : 4.900e+03 (less than 1 second per iteration)\n",
      " Threads    : 1\n",
      "\n",
      "                  Objective                Residual\n",
      "Iter       Primal          Dual         Primal    Dual     Compl     Time\n",
      "   0  -5.21603627e+05  0.00000000e+00  4.40e+03 9.36e+02  1.00e+06     0s\n",
      "   1  -1.00280898e+06 -1.86594052e+06  1.15e+03 2.60e+02  2.86e+05     0s\n",
      "   2  -1.80734248e+06 -3.58777759e+06  5.85e+01 1.31e+01  4.60e+04     0s\n",
      "   3  -2.67281635e+06 -3.05506927e+06  5.85e-05 1.24e-05  6.83e+03     0s\n",
      "   4  -2.85787673e+06 -2.89308989e+06  6.54e-07 1.39e-07  6.29e+02     0s\n",
      "   5  -2.87429012e+06 -2.87813026e+06  1.16e-11 2.27e-13  6.86e+01     0s\n",
      "   6  -2.87582512e+06 -2.87638345e+06  5.14e-11 2.27e-13  9.97e+00     0s\n",
      "   7  -2.87611568e+06 -2.87613520e+06  1.46e-11 7.96e-13  3.49e-01     0s\n",
      "   8  -2.87612844e+06 -2.87613059e+06  1.21e-11 3.41e-13  3.83e-02     0s\n",
      "   9  -2.87612966e+06 -2.87612967e+06  8.98e-12 2.34e-13  3.97e-05     0s\n",
      "  10  -2.87612967e+06 -2.87612967e+06  8.19e-12 1.85e-13  4.26e-08     0s\n",
      "  11  -2.87612967e+06 -2.87612967e+06  6.82e-13 6.71e-12  8.56e-11     0s\n",
      "\n",
      "Barrier solved model in 11 iterations and 0.02 seconds\n",
      "Optimal objective -2.87612967e+06\n",
      "\n",
      "lam_0 5.379e-10\n",
      "lam_1 120527\n",
      "lam_2 170240\n",
      "lam_3 2.40664e-10\n",
      "lam_4 44856\n",
      "lam_5 4.04421e-10\n",
      "lam_6 4.06229e-10\n",
      "lam_7 5.2247e-10\n",
      "lam_8 2.79651e-11\n",
      "lam_9 25579.8\n",
      "lam_10 2.50538e-11\n",
      "lam_11 2.79652e-11\n",
      "lam_12 2.61564e-11\n",
      "lam_13 2.63324e-11\n",
      "lam_14 497252\n",
      "lam_15 1.80359e-11\n",
      "lam_16 1.355e-10\n",
      "lam_17 2.4066e-10\n",
      "lam_18 85295.3\n",
      "lam_19 4.04498e-10\n",
      "lam_20 4.04008e-10\n",
      "lam_21 82910.4\n",
      "lam_22 192414\n",
      "lam_23 1.0548e-07\n",
      "lam_24 1.07741e-07\n",
      "lam_25 4.43832e-07\n",
      "lam_26 10930.3\n",
      "lam_27 125993\n",
      "lam_28 2.90644e-07\n",
      "lam_29 1.80348e-11\n",
      "lam_30 120897\n",
      "lam_31 3.09677e-10\n",
      "lam_32 84145\n",
      "lam_33 2.05446e-08\n",
      "lam_34 60000.2\n",
      "lam_35 2.28059e-07\n",
      "lam_36 1.80348e-11\n",
      "lam_37 23816.8\n",
      "lam_38 3.0962e-10\n",
      "lam_39 57740.8\n",
      "lam_40 75757.8\n",
      "lam_41 8164.94\n",
      "lam_42 1.60844e-09\n",
      "lam_43 1.78359e-11\n",
      "lam_44 1.60297e-09\n",
      "lam_45 3.15091e-10\n",
      "lam_46 161398\n",
      "lam_47 8.1077e-10\n",
      "lam_48 7941.11\n",
      "lam_49 1.60647e-09\n",
      "lam_50 1.80614e-11\n",
      "lam_51 1.60188e-09\n",
      "lam_52 150145\n",
      "lam_53 73824.1\n",
      "lam_54 8.08943e-10\n",
      "lam_55 3.31307e-07\n",
      "Obj: -2.87616e+06\n"
     ]
    }
   ],
   "source": [
    "from gurobipy import *\n",
    "\n",
    "L = 56  # dimension of lam\n",
    "\n",
    "K = np.size(x, 1)\n",
    "S = samp_cov(x)\n",
    "inv_S = inv(S)\n",
    "\n",
    "A_t = np.transpose(A)\n",
    "P_t = np.transpose(P)\n",
    "# PA'\n",
    "PA_t = np.dot(P, A_t)\n",
    "# AP_t\n",
    "AP_t = np.transpose(PA_t)\n",
    "\n",
    "Q = np.dot(np.dot(PA_t, inv_S), AP_t)\n",
    "b = sum([np.dot(np.dot(PA_t, inv_S), x[:, k]) for k in range(K)])\n",
    "\n",
    "\n",
    "model = Model(\"OD_matrix_estimation\")\n",
    "\n",
    "lam = []\n",
    "for l in range(L):\n",
    "    lam.append(model.addVar(name='lam_' + str(l)))\n",
    "\n",
    "model.update() \n",
    "\n",
    "# Set objective: (K/2) lam' * Q * lam - b * lam\n",
    "obj = 0\n",
    "for i in range(L):\n",
    "    for j in range(L):\n",
    "        obj += (1.0 /2) * K * lam[i] * Q[i, j] * lam[j]\n",
    "for l in range(L):\n",
    "    obj += - b[l] * lam[l]\n",
    "model.setObjective(obj)\n",
    "\n",
    "# Add constraint: lam >= 0\n",
    "for l in range(L):\n",
    "    model.addConstr(lam[l] >= 0)\n",
    "\n",
    "model.update() \n",
    "\n",
    "model.optimize()\n",
    "\n",
    "lam_list = []\n",
    "for v in model.getVars():\n",
    "    print('%s %g' % (v.varName, v.x))\n",
    "    lam_list.append(v.x)\n",
    "print('Obj: %g' % obj.getValue())"
   ]
  },
  {
   "cell_type": "code",
   "execution_count": 18,
   "metadata": {
    "collapsed": true
   },
   "outputs": [],
   "source": [
    "# write estimation result to file\n",
    "n = 8  # number of nodes\n",
    "with open('../temp_files/OD_demand_matrix_Jan_weekend.txt', 'w') as the_file:\n",
    "    idx = 0\n",
    "    for i in range(n + 1)[1:]:\n",
    "        for j in range(n + 1)[1:]:\n",
    "            if i != j: \n",
    "                the_file.write(\"%d,%d,%f\\n\" %(i, j, lam_list[idx]))\n",
    "                idx += 1"
   ]
  },
  {
   "cell_type": "code",
   "execution_count": 19,
   "metadata": {
    "collapsed": false
   },
   "outputs": [
    {
     "data": {
      "text/plain": [
       "[5.379004327106812e-10,\n",
       " 120527.27729417074,\n",
       " 170239.67765486252,\n",
       " 2.406639171764905e-10,\n",
       " 44855.98192400546,\n",
       " 4.0442088877311266e-10,\n",
       " 4.0622942333747903e-10,\n",
       " 5.224702554007828e-10,\n",
       " 2.7965118140423985e-11,\n",
       " 25579.818774470405,\n",
       " 2.505382391471878e-11,\n",
       " 2.7965190109150757e-11,\n",
       " 2.6156394061566086e-11,\n",
       " 2.6332353938394434e-11,\n",
       " 497252.2331064317,\n",
       " 1.8035915691681162e-11,\n",
       " 1.3549953148297682e-10,\n",
       " 2.406600985712551e-10,\n",
       " 85295.33886702935,\n",
       " 4.0449783654409637e-10,\n",
       " 4.040083670590914e-10,\n",
       " 82910.4059844836,\n",
       " 192413.8249148967,\n",
       " 1.0547965601294011e-07,\n",
       " 1.0774133969340655e-07,\n",
       " 4.4383178621212817e-07,\n",
       " 10930.265997106706,\n",
       " 125993.19158298452,\n",
       " 2.90644329964477e-07,\n",
       " 1.8034794393816557e-11,\n",
       " 120896.50521866423,\n",
       " 3.0967713600315736e-10,\n",
       " 84145.0217212894,\n",
       " 2.0544587212010772e-08,\n",
       " 60000.19098139206,\n",
       " 2.2805936484826788e-07,\n",
       " 1.8034799029915736e-11,\n",
       " 23816.76447050306,\n",
       " 3.096195182584605e-10,\n",
       " 57740.750126667044,\n",
       " 75757.78974742832,\n",
       " 8164.941031938807,\n",
       " 1.6084387723858635e-09,\n",
       " 1.783590774962639e-11,\n",
       " 1.6029686911028448e-09,\n",
       " 3.150908802913208e-10,\n",
       " 161398.31008006146,\n",
       " 8.10769674119379e-10,\n",
       " 7941.113973326102,\n",
       " 1.6064678866862334e-09,\n",
       " 1.8061448043485708e-11,\n",
       " 1.6018837233651468e-09,\n",
       " 150144.82677053125,\n",
       " 73824.08283488418,\n",
       " 8.089430817937324e-10,\n",
       " 3.313069512809693e-07]"
      ]
     },
     "execution_count": 19,
     "metadata": {},
     "output_type": "execute_result"
    }
   ],
   "source": [
    "lam_list"
   ]
  },
  {
   "cell_type": "code",
   "execution_count": null,
   "metadata": {
    "collapsed": true
   },
   "outputs": [],
   "source": []
  }
 ],
 "metadata": {
  "kernelspec": {
   "display_name": "Python 2",
   "language": "python",
   "name": "python2"
  },
  "language_info": {
   "codemirror_mode": {
    "name": "ipython",
    "version": 2
   },
   "file_extension": ".py",
   "mimetype": "text/x-python",
   "name": "python",
   "nbconvert_exporter": "python",
   "pygments_lexer": "ipython2",
   "version": "2.7.11"
  }
 },
 "nbformat": 4,
 "nbformat_minor": 0
}
