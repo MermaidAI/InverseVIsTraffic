{
 "cells": [
  {
   "cell_type": "code",
   "execution_count": 1,
   "metadata": {
    "collapsed": true
   },
   "outputs": [],
   "source": [
    "%run ../Python_files/util_data_storage_and_load.py"
   ]
  },
  {
   "cell_type": "code",
   "execution_count": 2,
   "metadata": {
    "collapsed": true
   },
   "outputs": [],
   "source": [
    "%run ../Python_files/load_dicts.py"
   ]
  },
  {
   "cell_type": "code",
   "execution_count": 3,
   "metadata": {
    "collapsed": false
   },
   "outputs": [],
   "source": [
    "%run ../Python_files/util.py"
   ]
  },
  {
   "cell_type": "code",
   "execution_count": 4,
   "metadata": {
    "collapsed": true
   },
   "outputs": [],
   "source": [
    "# load logit_route_choice_probability_matrix\n",
    "P = zload('../temp_files/logit_route_choice_probability_matrix.pkz')"
   ]
  },
  {
   "cell_type": "code",
   "execution_count": 5,
   "metadata": {
    "collapsed": false
   },
   "outputs": [],
   "source": [
    "import numpy as np\n",
    "from numpy.linalg import inv\n",
    "\n",
    "P = np.matrix(P)"
   ]
  },
  {
   "cell_type": "code",
   "execution_count": 6,
   "metadata": {
    "collapsed": false
   },
   "outputs": [
    {
     "data": {
      "text/plain": [
       "(56, 140)"
      ]
     },
     "execution_count": 6,
     "metadata": {},
     "output_type": "execute_result"
    }
   ],
   "source": [
    "np.size(P, 0), np.size(P, 1)"
   ]
  },
  {
   "cell_type": "code",
   "execution_count": 7,
   "metadata": {
    "collapsed": true
   },
   "outputs": [],
   "source": [
    "import numpy as np\n",
    "from numpy.linalg import inv\n",
    "\n",
    "def samp_cov(x):\n",
    "    \"\"\"\n",
    "    x: sample matrix, each column is a link flow vector sample; 24 * K\n",
    "    K: number of samples\n",
    "    S: sample covariance matrix\n",
    "    ----------------\n",
    "    return: inv(S)\n",
    "    ----------------\n",
    "    \"\"\"\n",
    "    x = np.matrix(x)\n",
    "    K = np.size(x, 1)\n",
    "    x_mean = sum(x[:,k] for k in range(K)) / K\n",
    "    S = sum(np.dot(x[:,k] - x_mean, np.transpose(x[:,k] - x_mean)) for k in range(K)) / (K - 1)\n",
    "    return S"
   ]
  },
  {
   "cell_type": "code",
   "execution_count": 8,
   "metadata": {
    "collapsed": false
   },
   "outputs": [],
   "source": [
    "# load path-link incidence matrix\n",
    "A = zload('../temp_files/path-link_incidence_matrix.pkz')"
   ]
  },
  {
   "cell_type": "code",
   "execution_count": 9,
   "metadata": {
    "collapsed": false
   },
   "outputs": [],
   "source": [
    "# load link counts data\n",
    "\n",
    "import json\n",
    "\n",
    "with open('../temp_files/link_day_minute_Jan_dict_JSON.json', 'r') as json_file:\n",
    "    link_day_minute_Jan_dict_JSON = json.load(json_file)"
   ]
  },
  {
   "cell_type": "code",
   "execution_count": 23,
   "metadata": {
    "collapsed": true
   },
   "outputs": [],
   "source": [
    "#weekend_Jan_list = [1, 7, 8, 14, 15, 21, 22, 28, 29]\n",
    "weekend_Jan_list = [1, 8, 15, 22, 29]"
   ]
  },
  {
   "cell_type": "code",
   "execution_count": 24,
   "metadata": {
    "collapsed": false
   },
   "outputs": [],
   "source": [
    "link_day_minute_Jan_list = []\n",
    "for link_idx in range(24):\n",
    "    for day in weekend_Jan_list: \n",
    "        for minute_idx in range(120):\n",
    "            key = 'link_' + str(link_idx) + '_' + str(day)\n",
    "            link_day_minute_Jan_list.append(link_day_minute_Jan_dict_JSON[key] ['AM_flow_minute'][minute_idx])"
   ]
  },
  {
   "cell_type": "code",
   "execution_count": 25,
   "metadata": {
    "collapsed": false
   },
   "outputs": [
    {
     "data": {
      "text/plain": [
       "14400"
      ]
     },
     "execution_count": 25,
     "metadata": {},
     "output_type": "execute_result"
    }
   ],
   "source": [
    "len(link_day_minute_Jan_list)"
   ]
  },
  {
   "cell_type": "code",
   "execution_count": 26,
   "metadata": {
    "collapsed": false
   },
   "outputs": [],
   "source": [
    "x = np.matrix(link_day_minute_Jan_list)\n",
    "x = np.matrix.reshape(x, 24, 600)\n",
    "\n",
    "x = np.nan_to_num(x)\n",
    "y = np.array(np.transpose(x))\n",
    "y = y[np.all(y != 0, axis=1)]\n",
    "x = np.transpose(y)\n",
    "x = np.matrix(x)"
   ]
  },
  {
   "cell_type": "code",
   "execution_count": 27,
   "metadata": {
    "collapsed": false
   },
   "outputs": [
    {
     "data": {
      "text/plain": [
       "matrix([[ 352345.58212337,  349365.8698338 ],\n",
       "        [ 362347.24968738,  358920.06835082],\n",
       "        [ 656135.70404203,  659239.85596047],\n",
       "        [ 666770.66182925,  673110.47886094],\n",
       "        [ 175713.13948471,  176057.02508629],\n",
       "        [ 235679.51835631,  233766.20179   ],\n",
       "        [ 432851.94024934,  435375.80488904],\n",
       "        [ 428862.53520429,  429748.31783243],\n",
       "        [ 383197.77744651,  385983.94394234],\n",
       "        [ 394997.56567081,  389055.95486397],\n",
       "        [ 385868.75458212,  399346.76289193],\n",
       "        [ 333535.8401955 ,  332337.34755611],\n",
       "        [ 100046.15481047,   99823.31056737],\n",
       "        [  99792.47154631,  103649.59555173],\n",
       "        [ 166183.42761702,  155502.73524167],\n",
       "        [ 148183.81282739,  147046.25125201],\n",
       "        [ 221276.13104043,  216012.37518491],\n",
       "        [ 226625.39293639,  223939.54326923],\n",
       "        [ 371649.50288845,  376225.11111807],\n",
       "        [ 333177.28884753,  344099.70331262],\n",
       "        [ 499745.10215935,  516255.86797819],\n",
       "        [ 531704.51494075,  524323.98654079],\n",
       "        [ 143185.04187742,  140331.78594871],\n",
       "        [ 147720.53062054,  146578.68321645]])"
      ]
     },
     "execution_count": 27,
     "metadata": {},
     "output_type": "execute_result"
    }
   ],
   "source": [
    "x[:,:2]"
   ]
  },
  {
   "cell_type": "code",
   "execution_count": 28,
   "metadata": {
    "collapsed": false
   },
   "outputs": [
    {
     "data": {
      "text/plain": [
       "(24, 482)"
      ]
     },
     "execution_count": 28,
     "metadata": {},
     "output_type": "execute_result"
    }
   ],
   "source": [
    "np.size(x, 0), np.size(x, 1)"
   ]
  },
  {
   "cell_type": "code",
   "execution_count": 29,
   "metadata": {
    "collapsed": false
   },
   "outputs": [
    {
     "data": {
      "text/plain": [
       "(24, 140)"
      ]
     },
     "execution_count": 29,
     "metadata": {},
     "output_type": "execute_result"
    }
   ],
   "source": [
    "np.size(A,0), np.size(A,1)"
   ]
  },
  {
   "cell_type": "code",
   "execution_count": 30,
   "metadata": {
    "collapsed": false
   },
   "outputs": [
    {
     "name": "stdout",
     "output_type": "stream",
     "text": [
      "Optimize a model with 56 rows, 56 columns and 56 nonzeros\n",
      "Model has 1596 quadratic objective terms\n",
      "Coefficient statistics:\n",
      "  Matrix range    [1e+00, 1e+00]\n",
      "  Objective range [1e-01, 2e+01]\n",
      "  Bounds range    [0e+00, 0e+00]\n",
      "  RHS range       [0e+00, 0e+00]\n",
      "Presolve removed 56 rows and 0 columns\n",
      "Presolve time: 0.00s\n",
      "Presolved: 0 rows, 56 columns, 0 nonzeros\n",
      "Presolved model has 1596 quadratic objective terms\n",
      "Ordering time: 0.00s\n",
      "\n",
      "Barrier statistics:\n",
      " Free vars  : 24\n",
      " AA' NZ     : 2.760e+02\n",
      " Factor NZ  : 3.000e+02\n",
      " Factor Ops : 4.900e+03 (less than 1 second per iteration)\n",
      " Threads    : 1\n",
      "\n",
      "                  Objective                Residual\n",
      "Iter       Primal          Dual         Primal    Dual     Compl     Time\n",
      "   0  -4.99102555e+07  0.00000000e+00  6.48e+03 1.84e+03  1.00e+06     0s\n",
      "   1  -2.34510572e+07 -1.31034886e+07  1.19e+03 3.37e+02  2.43e+05     0s\n",
      "   2  -1.61706169e+07 -1.82722124e+07  5.13e+01 1.46e+01  5.60e+04     0s\n",
      "   3  -1.64143530e+07 -1.67323543e+07  5.11e-01 1.45e-01  5.85e+03     0s\n",
      "   4  -1.65138706e+07 -1.65342578e+07  5.11e-07 1.45e-07  3.64e+02     0s\n",
      "   5  -1.65191386e+07 -1.65204782e+07  5.80e-09 1.65e-09  2.39e+01     0s\n",
      "   6  -1.65197090e+07 -1.65199117e+07  6.59e-11 2.14e-11  3.62e+00     0s\n",
      "   7  -1.65197962e+07 -1.65198256e+07  4.55e-12 4.55e-13  5.25e-01     0s\n",
      "   8  -1.65198072e+07 -1.65198109e+07  1.46e-11 4.55e-13  6.60e-02     0s\n",
      "   9  -1.65198083e+07 -1.65198095e+07  9.09e-12 9.09e-13  2.06e-02     0s\n",
      "  10  -1.65198088e+07 -1.65198092e+07  2.24e-11 5.68e-13  7.55e-03     0s\n",
      "  11  -1.65198090e+07 -1.65198090e+07  6.59e-12 9.09e-13  1.61e-04     0s\n",
      "  12  -1.65198090e+07 -1.65198090e+07  1.77e-10 4.55e-13  4.69e-06     0s\n",
      "  13  -1.65198090e+07 -1.65198090e+07  7.16e-12 6.82e-13  4.72e-09     0s\n",
      "\n",
      "Barrier solved model in 13 iterations and 0.01 seconds\n",
      "Optimal objective -1.65198090e+07\n",
      "\n",
      "lam_0 3.51594e-08\n",
      "lam_1 0.000455006\n",
      "lam_2 182180\n",
      "lam_3 0.00109357\n",
      "lam_4 0.00162632\n",
      "lam_5 242865\n",
      "lam_6 145567\n",
      "lam_7 5.08838e-08\n",
      "lam_8 2.17484e-09\n",
      "lam_9 264194\n",
      "lam_10 2.17484e-09\n",
      "lam_11 2.17484e-09\n",
      "lam_12 2.17484e-09\n",
      "lam_13 2.1895e-09\n",
      "lam_14 375814\n",
      "lam_15 1.7563e-09\n",
      "lam_16 1.49308e-06\n",
      "lam_17 314818\n",
      "lam_18 165410\n",
      "lam_19 0.000118315\n",
      "lam_20 0.029085\n",
      "lam_21 107451\n",
      "lam_22 483781\n",
      "lam_23 9.4489e-06\n",
      "lam_24 20826\n",
      "lam_25 18437.4\n",
      "lam_26 0.000149712\n",
      "lam_27 236348\n",
      "lam_28 242732\n",
      "lam_29 1.7563e-09\n",
      "lam_30 8.87717e-06\n",
      "lam_31 2.22111e-06\n",
      "lam_32 146573\n",
      "lam_33 8.87614e-07\n",
      "lam_34 1319.38\n",
      "lam_35 2.13259e-06\n",
      "lam_36 1.75486e-09\n",
      "lam_37 1.70027e-06\n",
      "lam_38 2.14147e-06\n",
      "lam_39 97101.1\n",
      "lam_40 226458\n",
      "lam_41 0.00314054\n",
      "lam_42 419230\n",
      "lam_43 1.7563e-09\n",
      "lam_44 2.96243e-06\n",
      "lam_45 22461.3\n",
      "lam_46 31095.9\n",
      "lam_47 128434\n",
      "lam_48 0.00344791\n",
      "lam_49 1.49812e-06\n",
      "lam_50 1.77651e-09\n",
      "lam_51 1.4937e-06\n",
      "lam_52 258200\n",
      "lam_53 156004\n",
      "lam_54 1.49321e-06\n",
      "lam_55 1.49317e-06\n",
      "Obj: -1.65198e+07\n"
     ]
    }
   ],
   "source": [
    "from gurobipy import *\n",
    "\n",
    "L = 56  # dimension of lam\n",
    "\n",
    "K = np.size(x, 1)\n",
    "S = samp_cov(x)\n",
    "inv_S = inv(S)\n",
    "\n",
    "A_t = np.transpose(A)\n",
    "P_t = np.transpose(P)\n",
    "# PA'\n",
    "PA_t = np.dot(P, A_t)\n",
    "# AP_t\n",
    "AP_t = np.transpose(PA_t)\n",
    "\n",
    "Q = np.dot(np.dot(PA_t, inv_S), AP_t)\n",
    "b = sum([np.dot(np.dot(PA_t, inv_S), x[:, k]) for k in range(K)])\n",
    "\n",
    "\n",
    "model = Model(\"OD_matrix_estimation\")\n",
    "\n",
    "lam = []\n",
    "for l in range(L):\n",
    "    lam.append(model.addVar(name='lam_' + str(l)))\n",
    "\n",
    "model.update() \n",
    "\n",
    "# Set objective: (K/2) lam' * Q * lam - b * lam\n",
    "obj = 0\n",
    "for i in range(L):\n",
    "    for j in range(L):\n",
    "        obj += (1.0 /2) * K * lam[i] * Q[i, j] * lam[j]\n",
    "for l in range(L):\n",
    "    obj += - b[l] * lam[l]\n",
    "model.setObjective(obj)\n",
    "\n",
    "# Add constraint: lam >= 0\n",
    "for l in range(L):\n",
    "    model.addConstr(lam[l] >= 0)\n",
    "\n",
    "model.update() \n",
    "\n",
    "model.optimize()\n",
    "\n",
    "lam_list = []\n",
    "for v in model.getVars():\n",
    "    print('%s %g' % (v.varName, v.x))\n",
    "    lam_list.append(v.x)\n",
    "print('Obj: %g' % obj.getValue())"
   ]
  },
  {
   "cell_type": "code",
   "execution_count": 31,
   "metadata": {
    "collapsed": true
   },
   "outputs": [],
   "source": [
    "# write estimation result to file\n",
    "n = 8  # number of nodes\n",
    "with open('../temp_files/OD_demand_matrix_Jan_weekend.txt', 'w') as the_file:\n",
    "    idx = 0\n",
    "    for i in range(n + 1)[1:]:\n",
    "        for j in range(n + 1)[1:]:\n",
    "            if i != j: \n",
    "                the_file.write(\"%d,%d,%f\\n\" %(i, j, lam_list[idx]))\n",
    "                idx += 1"
   ]
  },
  {
   "cell_type": "code",
   "execution_count": 32,
   "metadata": {
    "collapsed": false
   },
   "outputs": [
    {
     "data": {
      "text/plain": [
       "[3.5159416869315265e-08,\n",
       " 0.00045500574563622775,\n",
       " 182180.39436760606,\n",
       " 0.0010935674213217172,\n",
       " 0.0016263173646806628,\n",
       " 242864.98611843798,\n",
       " 145567.39242888804,\n",
       " 5.0883781290834e-08,\n",
       " 2.174840116410656e-09,\n",
       " 264193.96455410204,\n",
       " 2.1748401607096322e-09,\n",
       " 2.1748401988210327e-09,\n",
       " 2.1748429629017213e-09,\n",
       " 2.1895029690336323e-09,\n",
       " 375813.87621259247,\n",
       " 1.7563045538405628e-09,\n",
       " 1.4930780180754874e-06,\n",
       " 314818.2311969843,\n",
       " 165410.0483733567,\n",
       " 0.00011831506666272473,\n",
       " 0.02908496054276455,\n",
       " 107451.06906722338,\n",
       " 483780.863619679,\n",
       " 9.448900787162318e-06,\n",
       " 20825.99101235908,\n",
       " 18437.382833307238,\n",
       " 0.00014971230440069538,\n",
       " 236348.1261563415,\n",
       " 242731.63509678785,\n",
       " 1.7563045653695282e-09,\n",
       " 8.87717479013464e-06,\n",
       " 2.221109917268163e-06,\n",
       " 146573.35442489953,\n",
       " 8.876139809003893e-07,\n",
       " 1319.3761090890987,\n",
       " 2.132592080195811e-06,\n",
       " 1.7548593199861474e-09,\n",
       " 1.700266500361371e-06,\n",
       " 2.1414699499584973e-06,\n",
       " 97101.08777617534,\n",
       " 226458.4616362522,\n",
       " 0.00314053612945564,\n",
       " 419230.4169693175,\n",
       " 1.7563045511264575e-09,\n",
       " 2.9624292238461525e-06,\n",
       " 22461.256115138625,\n",
       " 31095.889724658395,\n",
       " 128433.85770960106,\n",
       " 0.0034479098157795818,\n",
       " 1.4981224683550693e-06,\n",
       " 1.7765136627128177e-09,\n",
       " 1.4936981341379368e-06,\n",
       " 258199.785007627,\n",
       " 156004.33438946176,\n",
       " 1.49320814061475e-06,\n",
       " 1.493168804693728e-06]"
      ]
     },
     "execution_count": 32,
     "metadata": {},
     "output_type": "execute_result"
    }
   ],
   "source": [
    "lam_list"
   ]
  },
  {
   "cell_type": "code",
   "execution_count": null,
   "metadata": {
    "collapsed": true
   },
   "outputs": [],
   "source": []
  }
 ],
 "metadata": {
  "kernelspec": {
   "display_name": "Python 2",
   "language": "python",
   "name": "python2"
  },
  "language_info": {
   "codemirror_mode": {
    "name": "ipython",
    "version": 2
   },
   "file_extension": ".py",
   "mimetype": "text/x-python",
   "name": "python",
   "nbconvert_exporter": "python",
   "pygments_lexer": "ipython2",
   "version": "2.7.11"
  }
 },
 "nbformat": 4,
 "nbformat_minor": 0
}
