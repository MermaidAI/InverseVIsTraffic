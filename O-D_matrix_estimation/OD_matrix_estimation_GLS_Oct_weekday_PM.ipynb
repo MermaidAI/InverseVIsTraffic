{
 "cells": [
  {
   "cell_type": "code",
   "execution_count": 1,
   "metadata": {
    "collapsed": true
   },
   "outputs": [],
   "source": [
    "%run ../Python_files/util_data_storage_and_load.py"
   ]
  },
  {
   "cell_type": "code",
   "execution_count": 2,
   "metadata": {
    "collapsed": true
   },
   "outputs": [],
   "source": [
    "%run ../Python_files/load_dicts.py"
   ]
  },
  {
   "cell_type": "code",
   "execution_count": 3,
   "metadata": {
    "collapsed": false
   },
   "outputs": [],
   "source": [
    "%run ../Python_files/util.py"
   ]
  },
  {
   "cell_type": "code",
   "execution_count": 4,
   "metadata": {
    "collapsed": true
   },
   "outputs": [],
   "source": [
    "# load logit_route_choice_probability_matrix\n",
    "P = zload('../temp_files/logit_route_choice_probability_matrix.pkz')"
   ]
  },
  {
   "cell_type": "code",
   "execution_count": 5,
   "metadata": {
    "collapsed": false
   },
   "outputs": [],
   "source": [
    "import numpy as np\n",
    "from numpy.linalg import inv\n",
    "\n",
    "P = np.matrix(P)"
   ]
  },
  {
   "cell_type": "code",
   "execution_count": 6,
   "metadata": {
    "collapsed": false
   },
   "outputs": [
    {
     "data": {
      "text/plain": [
       "(56, 140)"
      ]
     },
     "execution_count": 6,
     "metadata": {},
     "output_type": "execute_result"
    }
   ],
   "source": [
    "np.size(P, 0), np.size(P, 1)"
   ]
  },
  {
   "cell_type": "code",
   "execution_count": 7,
   "metadata": {
    "collapsed": true
   },
   "outputs": [],
   "source": [
    "import numpy as np\n",
    "from numpy.linalg import inv\n",
    "\n",
    "def samp_cov(x):\n",
    "    \"\"\"\n",
    "    x: sample matrix, each column is a link flow vector sample; 24 * K\n",
    "    K: number of samples\n",
    "    S: sample covariance matrix\n",
    "    ----------------\n",
    "    return: inv(S)\n",
    "    ----------------\n",
    "    \"\"\"\n",
    "    x = np.matrix(x)\n",
    "    K = np.size(x, 1)\n",
    "    x_mean = sum(x[:,k] for k in range(K)) / K\n",
    "    S = sum(np.dot(x[:,k] - x_mean, np.transpose(x[:,k] - x_mean)) for k in range(K)) / (K - 1)\n",
    "    return S"
   ]
  },
  {
   "cell_type": "code",
   "execution_count": 8,
   "metadata": {
    "collapsed": false
   },
   "outputs": [],
   "source": [
    "# load path-link incidence matrix\n",
    "A = zload('../temp_files/path-link_incidence_matrix.pkz')"
   ]
  },
  {
   "cell_type": "code",
   "execution_count": 9,
   "metadata": {
    "collapsed": false
   },
   "outputs": [],
   "source": [
    "# load link counts data\n",
    "\n",
    "import json\n",
    "\n",
    "with open('../temp_files/link_day_minute_Oct_dict_JSON.json', 'r') as json_file:\n",
    "    link_day_minute_Oct_dict_JSON = json.load(json_file)"
   ]
  },
  {
   "cell_type": "code",
   "execution_count": 10,
   "metadata": {
    "collapsed": true
   },
   "outputs": [],
   "source": [
    "week_day_Oct_list = [1, 2, 3, 4, 5, 8, 9, 10, 11, 12, 15, 16, 17, 18, 19, 22, 23, 24, 25, 26, 29, 30, 31]"
   ]
  },
  {
   "cell_type": "code",
   "execution_count": 11,
   "metadata": {
    "collapsed": false
   },
   "outputs": [],
   "source": [
    "link_day_minute_Oct_list = []\n",
    "for link_idx in range(24):\n",
    "    for day in week_day_Oct_list: \n",
    "        for minute_idx in range(120):\n",
    "            key = 'link_' + str(link_idx) + '_' + str(day)\n",
    "            link_day_minute_Oct_list.append(link_day_minute_Oct_dict_JSON[key] ['PM_flow_minute'][minute_idx])"
   ]
  },
  {
   "cell_type": "code",
   "execution_count": 12,
   "metadata": {
    "collapsed": false
   },
   "outputs": [
    {
     "data": {
      "text/plain": [
       "66240"
      ]
     },
     "execution_count": 12,
     "metadata": {},
     "output_type": "execute_result"
    }
   ],
   "source": [
    "len(link_day_minute_Oct_list)"
   ]
  },
  {
   "cell_type": "code",
   "execution_count": 13,
   "metadata": {
    "collapsed": false
   },
   "outputs": [],
   "source": [
    "x = np.matrix(link_day_minute_Oct_list)\n",
    "x = np.matrix.reshape(x, 24, 2760)\n",
    "\n",
    "x = np.nan_to_num(x)\n",
    "y = np.array(np.transpose(x))\n",
    "y = y[np.all(y != 0, axis=1)]\n",
    "x = np.transpose(y)\n",
    "x = np.matrix(x)"
   ]
  },
  {
   "cell_type": "code",
   "execution_count": 14,
   "metadata": {
    "collapsed": false
   },
   "outputs": [
    {
     "data": {
      "text/plain": [
       "(24, 2760)"
      ]
     },
     "execution_count": 14,
     "metadata": {},
     "output_type": "execute_result"
    }
   ],
   "source": [
    "np.size(x, 0), np.size(x, 1)"
   ]
  },
  {
   "cell_type": "code",
   "execution_count": 15,
   "metadata": {
    "collapsed": false
   },
   "outputs": [
    {
     "data": {
      "text/plain": [
       "matrix([[ 334120.96216501,  340716.07800673],\n",
       "        [ 347248.15225179,  349083.0435739 ],\n",
       "        [ 621097.23609129,  629786.08225115],\n",
       "        [ 663175.62453404,  673045.94651344],\n",
       "        [ 168752.25797173,  171620.17689842],\n",
       "        [ 201242.83650981,  198921.77361329],\n",
       "        [ 405493.2749045 ,  407176.90029079],\n",
       "        [ 403933.49606626,  402938.1620441 ],\n",
       "        [ 394939.65509079,  387093.16161759],\n",
       "        [ 409098.88861844,  403360.66899784],\n",
       "        [ 411894.20808558,  429938.0014987 ],\n",
       "        [ 333850.55711395,  364146.6240118 ],\n",
       "        [  93773.91087962,   92723.35338757],\n",
       "        [  99446.3481581 ,  102264.61004274],\n",
       "        [ 165332.43420605,  164872.05787731],\n",
       "        [ 131057.45664589,  139977.42080595],\n",
       "        [ 210756.24845907,  211272.78568787],\n",
       "        [ 212839.8838141 ,  213874.84436637],\n",
       "        [ 367889.52880085,  366968.8690794 ],\n",
       "        [ 348342.84561268,  355022.56346719],\n",
       "        [ 524961.08385964,  526232.78711439],\n",
       "        [ 568204.35288183,  562315.24287108],\n",
       "        [ 130290.23052268,  131759.59676421],\n",
       "        [ 140099.51529587,  137413.67226384]])"
      ]
     },
     "execution_count": 15,
     "metadata": {},
     "output_type": "execute_result"
    }
   ],
   "source": [
    "x[:,:2]"
   ]
  },
  {
   "cell_type": "code",
   "execution_count": 16,
   "metadata": {
    "collapsed": false
   },
   "outputs": [
    {
     "data": {
      "text/plain": [
       "(24, 140)"
      ]
     },
     "execution_count": 16,
     "metadata": {},
     "output_type": "execute_result"
    }
   ],
   "source": [
    "np.size(A,0), np.size(A,1)"
   ]
  },
  {
   "cell_type": "code",
   "execution_count": 17,
   "metadata": {
    "collapsed": false
   },
   "outputs": [
    {
     "name": "stdout",
     "output_type": "stream",
     "text": [
      "Optimize a model with 56 rows, 56 columns and 56 nonzeros\n",
      "Model has 1596 quadratic objective terms\n",
      "Coefficient statistics:\n",
      "  Matrix range    [1e+00, 1e+00]\n",
      "  Objective range [3e-01, 1e+01]\n",
      "  Bounds range    [0e+00, 0e+00]\n",
      "  RHS range       [0e+00, 0e+00]\n",
      "Presolve removed 56 rows and 0 columns\n",
      "Presolve time: 0.01s\n",
      "Presolved: 0 rows, 56 columns, 0 nonzeros\n",
      "Presolved model has 1596 quadratic objective terms\n",
      "Ordering time: 0.00s\n",
      "\n",
      "Barrier statistics:\n",
      " Free vars  : 24\n",
      " AA' NZ     : 2.760e+02\n",
      " Factor NZ  : 3.000e+02\n",
      " Factor Ops : 4.900e+03 (less than 1 second per iteration)\n",
      " Threads    : 1\n",
      "\n",
      "                  Objective                Residual\n",
      "Iter       Primal          Dual         Primal    Dual     Compl     Time\n",
      "   0  -9.75238981e+06  0.00000000e+00  4.70e+03 1.33e+03  1.00e+06     0s\n",
      "   1  -3.29775362e+06 -4.19116004e+06  6.64e+02 1.88e+02  1.90e+05     0s\n",
      "   2  -2.69618505e+06 -4.28905659e+06  3.19e+01 9.03e+00  3.60e+04     0s\n",
      "   3  -3.20446761e+06 -3.47421339e+06  3.19e-05 9.03e-06  4.82e+03     0s\n",
      "   4  -3.31127368e+06 -3.33503362e+06  4.24e-07 1.20e-07  4.24e+02     0s\n",
      "   5  -3.32612037e+06 -3.33125731e+06  7.00e-11 1.71e-13  9.17e+01     0s\n",
      "   6  -3.32825984e+06 -3.32839436e+06  1.41e-11 1.71e-13  2.40e+00     0s\n",
      "   7  -3.32834547e+06 -3.32836457e+06  5.14e-11 2.84e-13  3.41e-01     0s\n",
      "   8  -3.32835621e+06 -3.32835633e+06  3.40e-11 2.27e-13  2.16e-03     0s\n",
      "   9  -3.32835629e+06 -3.32835629e+06  1.52e-11 2.27e-13  7.65e-06     0s\n",
      "  10  -3.32835629e+06 -3.32835629e+06  2.09e-11 2.27e-13  3.97e-07     0s\n",
      "  11  -3.32835629e+06 -3.32835629e+06  4.66e-12 3.69e-12  4.11e-10     0s\n",
      "\n",
      "Barrier solved model in 11 iterations and 0.02 seconds\n",
      "Optimal objective -3.32835629e+06\n",
      "\n",
      "lam_0 1.62272e-09\n",
      "lam_1 183366\n",
      "lam_2 39784.6\n",
      "lam_3 1.61152e-09\n",
      "lam_4 121718\n",
      "lam_5 2.98472e-09\n",
      "lam_6 2.94532e-09\n",
      "lam_7 1.36904e-08\n",
      "lam_8 9.64144e-11\n",
      "lam_9 139018\n",
      "lam_10 9.09718e-11\n",
      "lam_11 9.64144e-11\n",
      "lam_12 9.33974e-11\n",
      "lam_13 9.39753e-11\n",
      "lam_14 396890\n",
      "lam_15 5.00895e-10\n",
      "lam_16 1.61152e-09\n",
      "lam_17 1.61152e-09\n",
      "lam_18 428648\n",
      "lam_19 2.98656e-09\n",
      "lam_20 2.93218e-09\n",
      "lam_21 96522.6\n",
      "lam_22 139886\n",
      "lam_23 1.69352e-07\n",
      "lam_24 1.69308e-07\n",
      "lam_25 9.54733e-10\n",
      "lam_26 6451.47\n",
      "lam_27 101841\n",
      "lam_28 0.377076\n",
      "lam_29 5.00895e-10\n",
      "lam_30 52849.4\n",
      "lam_31 51757\n",
      "lam_32 9.60147e-10\n",
      "lam_33 174189\n",
      "lam_34 53047.2\n",
      "lam_35 5.06795e-05\n",
      "lam_36 5.0089e-10\n",
      "lam_37 208113\n",
      "lam_38 6.61941e-10\n",
      "lam_39 6.61941e-10\n",
      "lam_40 2.16028e-08\n",
      "lam_41 1.91583e-08\n",
      "lam_42 9.2581e-07\n",
      "lam_43 5.00624e-10\n",
      "lam_44 226780\n",
      "lam_45 1.24493e-08\n",
      "lam_46 1.2286e-08\n",
      "lam_47 47366.6\n",
      "lam_48 1.69307e-07\n",
      "lam_49 9.18038e-07\n",
      "lam_50 5.06984e-10\n",
      "lam_51 9.37228e-07\n",
      "lam_52 71803.3\n",
      "lam_53 1.22951e-08\n",
      "lam_54 19939.8\n",
      "lam_55 76405.4\n",
      "Obj: -3.32868e+06\n"
     ]
    }
   ],
   "source": [
    "from gurobipy import *\n",
    "\n",
    "L = 56  # dimension of lam\n",
    "\n",
    "K = np.size(x, 1)\n",
    "S = samp_cov(x)\n",
    "inv_S = inv(S)\n",
    "\n",
    "A_t = np.transpose(A)\n",
    "P_t = np.transpose(P)\n",
    "# PA'\n",
    "PA_t = np.dot(P, A_t)\n",
    "# AP_t\n",
    "AP_t = np.transpose(PA_t)\n",
    "\n",
    "Q = np.dot(np.dot(PA_t, inv_S), AP_t)\n",
    "b = sum([np.dot(np.dot(PA_t, inv_S), x[:, k]) for k in range(K)])\n",
    "\n",
    "\n",
    "model = Model(\"OD_matrix_estimation\")\n",
    "\n",
    "lam = []\n",
    "for l in range(L):\n",
    "    lam.append(model.addVar(name='lam_' + str(l)))\n",
    "\n",
    "model.update() \n",
    "\n",
    "# Set objective: (K/2) lam' * Q * lam - b * lam\n",
    "obj = 0\n",
    "for i in range(L):\n",
    "    for j in range(L):\n",
    "        obj += (1.0 /2) * K * lam[i] * Q[i, j] * lam[j]\n",
    "for l in range(L):\n",
    "    obj += - b[l] * lam[l]\n",
    "model.setObjective(obj)\n",
    "\n",
    "# Add constraint: lam >= 0\n",
    "for l in range(L):\n",
    "    model.addConstr(lam[l] >= 0)\n",
    "\n",
    "model.update() \n",
    "\n",
    "model.optimize()\n",
    "\n",
    "lam_list = []\n",
    "for v in model.getVars():\n",
    "    print('%s %g' % (v.varName, v.x))\n",
    "    lam_list.append(v.x)\n",
    "print('Obj: %g' % obj.getValue())"
   ]
  },
  {
   "cell_type": "code",
   "execution_count": 18,
   "metadata": {
    "collapsed": false
   },
   "outputs": [],
   "source": [
    "# write estimation result to file\n",
    "n = 8  # number of nodes\n",
    "with open('../temp_files/OD_demand_matrix_Oct_weekday_PM.txt', 'w') as the_file:\n",
    "    idx = 0\n",
    "    for i in range(n + 1)[1:]:\n",
    "        for j in range(n + 1)[1:]:\n",
    "            if i != j: \n",
    "                the_file.write(\"%d,%d,%f\\n\" %(i, j, lam_list[idx]))\n",
    "                idx += 1"
   ]
  },
  {
   "cell_type": "code",
   "execution_count": 19,
   "metadata": {
    "collapsed": false
   },
   "outputs": [
    {
     "data": {
      "text/plain": [
       "[1.6227166473717599e-09,\n",
       " 183366.00822247053,\n",
       " 39784.58411996962,\n",
       " 1.611523748778917e-09,\n",
       " 121717.95557912078,\n",
       " 2.984720636079246e-09,\n",
       " 2.945322230940867e-09,\n",
       " 1.3690437888607345e-08,\n",
       " 9.641442239179514e-11,\n",
       " 139018.3736016918,\n",
       " 9.097175414712696e-11,\n",
       " 9.641442239260247e-11,\n",
       " 9.339743654887994e-11,\n",
       " 9.397531672280053e-11,\n",
       " 396890.06234546815,\n",
       " 5.008949166347016e-10,\n",
       " 1.611523750118076e-09,\n",
       " 1.6115237482571447e-09,\n",
       " 428647.73653190455,\n",
       " 2.986563024893321e-09,\n",
       " 2.9321804003990987e-09,\n",
       " 96522.62524572416,\n",
       " 139885.9729553164,\n",
       " 1.6935195571574275e-07,\n",
       " 1.6930766048368255e-07,\n",
       " 9.547330299381498e-10,\n",
       " 6451.466439412697,\n",
       " 101840.55861192376,\n",
       " 0.3770757480719453,\n",
       " 5.008949157272117e-10,\n",
       " 52849.364788813764,\n",
       " 51756.97147825225,\n",
       " 9.601473618089924e-10,\n",
       " 174188.6412555736,\n",
       " 53047.243089784795,\n",
       " 5.067948680173573e-05,\n",
       " 5.008899647081443e-10,\n",
       " 208112.9446474641,\n",
       " 6.619409075878127e-10,\n",
       " 6.619409072817162e-10,\n",
       " 2.1602800754623268e-08,\n",
       " 1.9158295906294525e-08,\n",
       " 9.258103932447337e-07,\n",
       " 5.006240621027334e-10,\n",
       " 226779.96594709327,\n",
       " 1.2449274931364284e-08,\n",
       " 1.2285997285708234e-08,\n",
       " 47366.64430388487,\n",
       " 1.6930744375044855e-07,\n",
       " 9.180384297613605e-07,\n",
       " 5.069840500793017e-10,\n",
       " 9.372277411460453e-07,\n",
       " 71803.26244480812,\n",
       " 1.2295084326237524e-08,\n",
       " 19939.82380020614,\n",
       " 76405.37201927444]"
      ]
     },
     "execution_count": 19,
     "metadata": {},
     "output_type": "execute_result"
    }
   ],
   "source": [
    "lam_list"
   ]
  },
  {
   "cell_type": "code",
   "execution_count": null,
   "metadata": {
    "collapsed": true
   },
   "outputs": [],
   "source": []
  }
 ],
 "metadata": {
  "kernelspec": {
   "display_name": "Python 2",
   "language": "python",
   "name": "python2"
  },
  "language_info": {
   "codemirror_mode": {
    "name": "ipython",
    "version": 2
   },
   "file_extension": ".py",
   "mimetype": "text/x-python",
   "name": "python",
   "nbconvert_exporter": "python",
   "pygments_lexer": "ipython2",
   "version": "2.7.11"
  }
 },
 "nbformat": 4,
 "nbformat_minor": 0
}
