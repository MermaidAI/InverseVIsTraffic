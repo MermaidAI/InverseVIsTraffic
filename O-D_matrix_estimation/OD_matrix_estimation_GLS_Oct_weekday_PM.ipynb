{
 "cells": [
  {
   "cell_type": "code",
   "execution_count": 1,
   "metadata": {
    "collapsed": true
   },
   "outputs": [],
   "source": [
    "%run ../Python_files/util_data_storage_and_load.py"
   ]
  },
  {
   "cell_type": "code",
   "execution_count": 2,
   "metadata": {
    "collapsed": true
   },
   "outputs": [],
   "source": [
    "%run ../Python_files/load_dicts.py"
   ]
  },
  {
   "cell_type": "code",
   "execution_count": 3,
   "metadata": {
    "collapsed": false
   },
   "outputs": [],
   "source": [
    "%run ../Python_files/util.py"
   ]
  },
  {
   "cell_type": "code",
   "execution_count": 4,
   "metadata": {
    "collapsed": true
   },
   "outputs": [],
   "source": [
    "# load logit_route_choice_probability_matrix\n",
    "P = zload('../temp_files/logit_route_choice_probability_matrix.pkz')"
   ]
  },
  {
   "cell_type": "code",
   "execution_count": 5,
   "metadata": {
    "collapsed": false
   },
   "outputs": [],
   "source": [
    "import numpy as np\n",
    "from numpy.linalg import inv\n",
    "\n",
    "P = np.matrix(P)"
   ]
  },
  {
   "cell_type": "code",
   "execution_count": 6,
   "metadata": {
    "collapsed": false
   },
   "outputs": [
    {
     "data": {
      "text/plain": [
       "(56, 140)"
      ]
     },
     "execution_count": 6,
     "metadata": {},
     "output_type": "execute_result"
    }
   ],
   "source": [
    "np.size(P, 0), np.size(P, 1)"
   ]
  },
  {
   "cell_type": "code",
   "execution_count": 7,
   "metadata": {
    "collapsed": true
   },
   "outputs": [],
   "source": [
    "import numpy as np\n",
    "from numpy.linalg import inv\n",
    "\n",
    "def samp_cov(x):\n",
    "    \"\"\"\n",
    "    x: sample matrix, each column is a link flow vector sample; 24 * K\n",
    "    K: number of samples\n",
    "    S: sample covariance matrix\n",
    "    ----------------\n",
    "    return: inv(S)\n",
    "    ----------------\n",
    "    \"\"\"\n",
    "    x = np.matrix(x)\n",
    "    K = np.size(x, 1)\n",
    "    x_mean = sum(x[:,k] for k in range(K)) / K\n",
    "    S = sum(np.dot(x[:,k] - x_mean, np.transpose(x[:,k] - x_mean)) for k in range(K)) / (K - 1)\n",
    "    return S"
   ]
  },
  {
   "cell_type": "code",
   "execution_count": 8,
   "metadata": {
    "collapsed": false
   },
   "outputs": [],
   "source": [
    "# load path-link incidence matrix\n",
    "A = zload('../temp_files/path-link_incidence_matrix.pkz')"
   ]
  },
  {
   "cell_type": "code",
   "execution_count": 9,
   "metadata": {
    "collapsed": false
   },
   "outputs": [],
   "source": [
    "# load link counts data\n",
    "\n",
    "import json\n",
    "\n",
    "with open('../temp_files/link_day_minute_Oct_dict_JSON.json', 'r') as json_file:\n",
    "    link_day_minute_Oct_dict_JSON = json.load(json_file)"
   ]
  },
  {
   "cell_type": "code",
   "execution_count": 10,
   "metadata": {
    "collapsed": true
   },
   "outputs": [],
   "source": [
    "week_day_Oct_list = [1, 2, 3, 4, 5, 8, 9, 10, 11, 12, 15, 16, 17, 18, 19, 22, 23, 24, 25, 26, 29, 30, 31]"
   ]
  },
  {
   "cell_type": "code",
   "execution_count": 11,
   "metadata": {
    "collapsed": false
   },
   "outputs": [],
   "source": [
    "link_day_minute_Oct_list = []\n",
    "for link_idx in range(24):\n",
    "    for day in week_day_Oct_list: \n",
    "        for minute_idx in range(120):\n",
    "            key = 'link_' + str(link_idx) + '_' + str(day)\n",
    "            link_day_minute_Oct_list.append(link_day_minute_Oct_dict_JSON[key] ['PM_flow_minute'][minute_idx])"
   ]
  },
  {
   "cell_type": "code",
   "execution_count": 12,
   "metadata": {
    "collapsed": false
   },
   "outputs": [
    {
     "data": {
      "text/plain": [
       "66240"
      ]
     },
     "execution_count": 12,
     "metadata": {},
     "output_type": "execute_result"
    }
   ],
   "source": [
    "len(link_day_minute_Oct_list)"
   ]
  },
  {
   "cell_type": "code",
   "execution_count": 13,
   "metadata": {
    "collapsed": false
   },
   "outputs": [],
   "source": [
    "x = np.matrix(link_day_minute_Oct_list)\n",
    "x = np.matrix.reshape(x, 24, 2760)\n",
    "\n",
    "x = np.nan_to_num(x)\n",
    "y = np.array(np.transpose(x))\n",
    "y = y[np.all(y != 0, axis=1)]\n",
    "x = np.transpose(y)\n",
    "x = np.matrix(x)"
   ]
  },
  {
   "cell_type": "code",
   "execution_count": 14,
   "metadata": {
    "collapsed": false
   },
   "outputs": [
    {
     "data": {
      "text/plain": [
       "(24, 2760)"
      ]
     },
     "execution_count": 14,
     "metadata": {},
     "output_type": "execute_result"
    }
   ],
   "source": [
    "np.size(x, 0), np.size(x, 1)"
   ]
  },
  {
   "cell_type": "code",
   "execution_count": 15,
   "metadata": {
    "collapsed": false
   },
   "outputs": [
    {
     "data": {
      "text/plain": [
       "matrix([[ 1228.52259938,  1227.58379738],\n",
       "        [ 1205.70143602,  1198.19920079],\n",
       "        [ 1472.80842838,  1495.06661697],\n",
       "        [ 1525.20789748,  1551.71420734],\n",
       "        [ 1549.70396382,  1514.49201108],\n",
       "        [ 1352.76189511,  1365.06458183],\n",
       "        [ 1268.67487868,  1279.66882338],\n",
       "        [ 1267.1214019 ,  1256.19370661],\n",
       "        [ 1653.11834786,  1527.857326  ],\n",
       "        [ 1692.64550575,  1688.56117386],\n",
       "        [ 1555.41146663,  1543.07128769],\n",
       "        [ 1225.47605676,  1303.35358944],\n",
       "        [ 1178.26581789,  1146.39568106],\n",
       "        [ 1350.6981329 ,  1360.15396894],\n",
       "        [ 1266.99741002,  1298.97358733],\n",
       "        [  931.07432394,   902.82359552],\n",
       "        [ 1254.74934375,  1252.12090991],\n",
       "        [ 1235.65698659,  1247.53684481],\n",
       "        [ 1534.16177308,  1526.19551456],\n",
       "        [ 1589.82194229,  1566.86546908],\n",
       "        [ 1365.07968644,  1372.30851882],\n",
       "        [ 1310.36426964,  1360.30826713],\n",
       "        [ 1179.29797694,  1216.19718826],\n",
       "        [ 1279.18800817,  1225.69788082]])"
      ]
     },
     "execution_count": 15,
     "metadata": {},
     "output_type": "execute_result"
    }
   ],
   "source": [
    "x[:,:2]"
   ]
  },
  {
   "cell_type": "code",
   "execution_count": 16,
   "metadata": {
    "collapsed": false
   },
   "outputs": [
    {
     "data": {
      "text/plain": [
       "(24, 140)"
      ]
     },
     "execution_count": 16,
     "metadata": {},
     "output_type": "execute_result"
    }
   ],
   "source": [
    "np.size(A,0), np.size(A,1)"
   ]
  },
  {
   "cell_type": "code",
   "execution_count": 17,
   "metadata": {
    "collapsed": false
   },
   "outputs": [
    {
     "name": "stdout",
     "output_type": "stream",
     "text": [
      "Optimize a model with 56 rows, 56 columns and 56 nonzeros\n",
      "Model has 1596 quadratic objective terms\n",
      "Coefficient statistics:\n",
      "  Matrix range    [1e+00, 1e+00]\n",
      "  Objective range [1e+01, 1e+03]\n",
      "  Bounds range    [0e+00, 0e+00]\n",
      "  RHS range       [0e+00, 0e+00]\n",
      "Warning: diagonal adjustment of 2.9e-09 performed to make Q PSD\n",
      "Presolve removed 56 rows and 0 columns\n",
      "Presolve time: 0.00s\n",
      "Presolved: 0 rows, 56 columns, 0 nonzeros\n",
      "Presolved model has 1596 quadratic objective terms\n",
      "Ordering time: 0.00s\n",
      "\n",
      "Barrier statistics:\n",
      " Free vars  : 26\n",
      " AA' NZ     : 3.250e+02\n",
      " Factor NZ  : 3.510e+02\n",
      " Factor Ops : 6.201e+03 (less than 1 second per iteration)\n",
      " Threads    : 1\n",
      "\n",
      "                  Objective                Residual\n",
      "Iter       Primal          Dual         Primal    Dual     Compl     Time\n",
      "   0  -2.27347853e+07  0.00000000e+00  7.86e+03 8.75e+02  1.00e+06     0s\n",
      "   1  -5.49351967e+06 -5.67689324e+06  1.15e+03 1.44e+02  2.25e+05     0s\n",
      "   2  -3.03454608e+06 -4.56379911e+06  2.46e+01 2.88e+00  3.09e+04     0s\n",
      "   3  -3.32312744e+06 -3.54435692e+06  1.13e-01 1.26e-02  3.96e+03     0s\n",
      "   4  -3.36699176e+06 -3.39205144e+06  1.13e-07 1.26e-08  4.47e+02     0s\n",
      "   5  -3.36933383e+06 -3.36999972e+06  1.48e-10 1.71e-11  1.19e+01     0s\n",
      "   6  -3.36938259e+06 -3.36939374e+06  1.39e-09 4.55e-13  1.99e-01     0s\n",
      "   7  -3.36939097e+06 -3.36939128e+06  4.58e-09 4.55e-13  5.41e-03     0s\n",
      "   8  -3.36939105e+06 -3.36939105e+06  4.29e-11 6.82e-13  1.09e-04     0s\n",
      "   9  -3.36939105e+06 -3.36939105e+06  3.74e-11 6.82e-13  1.70e-05     0s\n",
      "  10  -3.36939105e+06 -3.36939105e+06  1.40e-11 4.55e-13  1.49e-06     0s\n",
      "  11  -3.36939105e+06 -3.36939105e+06  2.41e-11 1.89e-10  9.36e-08     0s\n",
      "  12  -3.36939105e+06 -3.36939105e+06  1.14e-12 4.62e-11  1.79e-09     0s\n",
      "\n",
      "Barrier solved model in 12 iterations and 0.02 seconds\n",
      "Optimal objective -3.36939105e+06\n",
      "\n",
      "lam_0 7.24526e-12\n",
      "lam_1 1450.28\n",
      "lam_2 7.95291e-12\n",
      "lam_3 0.000431071\n",
      "lam_4 1183.24\n",
      "lam_5 0.000723643\n",
      "lam_6 2.39993e-09\n",
      "lam_7 0.000123719\n",
      "lam_8 0.003789\n",
      "lam_9 1225.15\n",
      "lam_10 187.761\n",
      "lam_11 0.000247684\n",
      "lam_12 0.000610158\n",
      "lam_13 0.000686731\n",
      "lam_14 1868.96\n",
      "lam_15 950.239\n",
      "lam_16 0.654532\n",
      "lam_17 269.721\n",
      "lam_18 0.000294175\n",
      "lam_19 0.00072399\n",
      "lam_20 0.000713622\n",
      "lam_21 751.858\n",
      "lam_22 576.836\n",
      "lam_23 0.0430553\n",
      "lam_24 371.066\n",
      "lam_25 676.63\n",
      "lam_26 0.00602089\n",
      "lam_27 1210.74\n",
      "lam_28 0.0321619\n",
      "lam_29 0.0258463\n",
      "lam_30 893.948\n",
      "lam_31 1171.77\n",
      "lam_32 0.0353432\n",
      "lam_33 256.023\n",
      "lam_34 1228.91\n",
      "lam_35 1.30456e-06\n",
      "lam_36 1.30455e-06\n",
      "lam_37 1.30457e-06\n",
      "lam_38 0.0524697\n",
      "lam_39 394.279\n",
      "lam_40 846.656\n",
      "lam_41 0.029674\n",
      "lam_42 0.00489576\n",
      "lam_43 0.00486961\n",
      "lam_44 0.00530917\n",
      "lam_45 0.0759889\n",
      "lam_46 707.246\n",
      "lam_47 241.322\n",
      "lam_48 0.0263335\n",
      "lam_49 0.00361011\n",
      "lam_50 0.0109561\n",
      "lam_51 1206.13\n",
      "lam_52 1287.69\n",
      "lam_53 54.1937\n",
      "lam_54 64.0973\n",
      "lam_55 60.4398\n",
      "Obj: -3.36939e+06\n"
     ]
    }
   ],
   "source": [
    "from gurobipy import *\n",
    "\n",
    "L = 56  # dimension of lam\n",
    "\n",
    "K = np.size(x, 1)\n",
    "S = samp_cov(x)\n",
    "inv_S = inv(S)\n",
    "\n",
    "A_t = np.transpose(A)\n",
    "P_t = np.transpose(P)\n",
    "# PA'\n",
    "PA_t = np.dot(P, A_t)\n",
    "# AP_t\n",
    "AP_t = np.transpose(PA_t)\n",
    "\n",
    "Q = np.dot(np.dot(PA_t, inv_S), AP_t)\n",
    "b = sum([np.dot(np.dot(PA_t, inv_S), x[:, k]) for k in range(K)])\n",
    "\n",
    "\n",
    "model = Model(\"OD_matrix_estimation\")\n",
    "\n",
    "lam = []\n",
    "for l in range(L):\n",
    "    lam.append(model.addVar(name='lam_' + str(l)))\n",
    "\n",
    "model.update() \n",
    "\n",
    "# Set objective: (K/2) lam' * Q * lam - b' * lam\n",
    "obj = 0\n",
    "for i in range(L):\n",
    "    for j in range(L):\n",
    "        obj += (1.0 /2) * K * lam[i] * Q[i, j] * lam[j]\n",
    "for l in range(L):\n",
    "    obj += - b[l] * lam[l]\n",
    "model.setObjective(obj)\n",
    "\n",
    "# Add constraint: lam >= 0\n",
    "for l in range(L):\n",
    "    model.addConstr(lam[l] >= 0)\n",
    "\n",
    "model.update() \n",
    "\n",
    "model.optimize()\n",
    "\n",
    "lam_list = []\n",
    "for v in model.getVars():\n",
    "    print('%s %g' % (v.varName, v.x))\n",
    "    lam_list.append(v.x)\n",
    "print('Obj: %g' % obj.getValue())"
   ]
  },
  {
   "cell_type": "code",
   "execution_count": 18,
   "metadata": {
    "collapsed": false
   },
   "outputs": [],
   "source": [
    "# write estimation result to file\n",
    "n = 8  # number of nodes\n",
    "with open('../temp_files/OD_demand_matrix_Oct_weekday_PM.txt', 'w') as the_file:\n",
    "    idx = 0\n",
    "    for i in range(n + 1)[1:]:\n",
    "        for j in range(n + 1)[1:]:\n",
    "            if i != j: \n",
    "                the_file.write(\"%d,%d,%f\\n\" %(i, j, lam_list[idx]))\n",
    "                idx += 1"
   ]
  },
  {
   "cell_type": "code",
   "execution_count": 19,
   "metadata": {
    "collapsed": false
   },
   "outputs": [
    {
     "data": {
      "text/plain": [
       "[7.245262672833899e-12,\n",
       " 1450.2787264487033,\n",
       " 7.952910768343458e-12,\n",
       " 0.000431070877524007,\n",
       " 1183.2445118569408,\n",
       " 0.0007236434020286356,\n",
       " 2.399934342918424e-09,\n",
       " 0.00012371883115890915,\n",
       " 0.0037890006992570835,\n",
       " 1225.1498044403988,\n",
       " 187.76054880256095,\n",
       " 0.000247683626582066,\n",
       " 0.0006101576215438755,\n",
       " 0.0006867313363166233,\n",
       " 1868.96101179716,\n",
       " 950.2385016638945,\n",
       " 0.6545315768152449,\n",
       " 269.7212873392095,\n",
       " 0.0002941751710005599,\n",
       " 0.0007239903509816195,\n",
       " 0.0007136216564262166,\n",
       " 751.8582628447087,\n",
       " 576.8364934240168,\n",
       " 0.043055284564384344,\n",
       " 371.0661818142231,\n",
       " 676.6303521741377,\n",
       " 0.006020887924381102,\n",
       " 1210.7409067460105,\n",
       " 0.03216188318988622,\n",
       " 0.0258462981995613,\n",
       " 893.948181529033,\n",
       " 1171.7684990628734,\n",
       " 0.03534323839803244,\n",
       " 256.02338158926085,\n",
       " 1228.906773696326,\n",
       " 1.304555323945194e-06,\n",
       " 1.3045536138847288e-06,\n",
       " 1.3045677922938538e-06,\n",
       " 0.05246974679731542,\n",
       " 394.27942969257174,\n",
       " 846.6561029305315,\n",
       " 0.029674032471216027,\n",
       " 0.004895764317762341,\n",
       " 0.004869614576949122,\n",
       " 0.005309171261589307,\n",
       " 0.0759889218394123,\n",
       " 707.2464416470209,\n",
       " 241.32235987522597,\n",
       " 0.0263335460668635,\n",
       " 0.003610105297073174,\n",
       " 0.010956093865312266,\n",
       " 1206.133516983357,\n",
       " 1287.6919963584503,\n",
       " 54.1937451861215,\n",
       " 64.09729124439765,\n",
       " 60.439819493698344]"
      ]
     },
     "execution_count": 19,
     "metadata": {},
     "output_type": "execute_result"
    }
   ],
   "source": [
    "lam_list"
   ]
  },
  {
   "cell_type": "code",
   "execution_count": null,
   "metadata": {
    "collapsed": true
   },
   "outputs": [],
   "source": []
  }
 ],
 "metadata": {
  "kernelspec": {
   "display_name": "Python 2",
   "language": "python",
   "name": "python2"
  },
  "language_info": {
   "codemirror_mode": {
    "name": "ipython",
    "version": 2
   },
   "file_extension": ".py",
   "mimetype": "text/x-python",
   "name": "python",
   "nbconvert_exporter": "python",
   "pygments_lexer": "ipython2",
   "version": "2.7.11"
  }
 },
 "nbformat": 4,
 "nbformat_minor": 0
}
