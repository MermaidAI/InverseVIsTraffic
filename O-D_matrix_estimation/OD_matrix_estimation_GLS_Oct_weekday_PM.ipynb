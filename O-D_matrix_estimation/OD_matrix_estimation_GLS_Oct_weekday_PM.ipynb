{
 "cells": [
  {
   "cell_type": "code",
   "execution_count": 1,
   "metadata": {
    "collapsed": true
   },
   "outputs": [],
   "source": [
    "%run ../Python_files/util_data_storage_and_load.py"
   ]
  },
  {
   "cell_type": "code",
   "execution_count": 2,
   "metadata": {
    "collapsed": true
   },
   "outputs": [],
   "source": [
    "%run ../Python_files/load_dicts.py"
   ]
  },
  {
   "cell_type": "code",
   "execution_count": 3,
   "metadata": {
    "collapsed": false
   },
   "outputs": [],
   "source": [
    "%run ../Python_files/util.py"
   ]
  },
  {
   "cell_type": "code",
   "execution_count": 4,
   "metadata": {
    "collapsed": true
   },
   "outputs": [],
   "source": [
    "# load logit_route_choice_probability_matrix\n",
    "P = zload('../temp_files/logit_route_choice_probability_matrix.pkz')"
   ]
  },
  {
   "cell_type": "code",
   "execution_count": 5,
   "metadata": {
    "collapsed": false
   },
   "outputs": [],
   "source": [
    "import numpy as np\n",
    "from numpy.linalg import inv\n",
    "\n",
    "P = np.matrix(P)"
   ]
  },
  {
   "cell_type": "code",
   "execution_count": 6,
   "metadata": {
    "collapsed": false
   },
   "outputs": [
    {
     "data": {
      "text/plain": [
       "(56, 140)"
      ]
     },
     "execution_count": 6,
     "metadata": {},
     "output_type": "execute_result"
    }
   ],
   "source": [
    "np.size(P, 0), np.size(P, 1)"
   ]
  },
  {
   "cell_type": "code",
   "execution_count": 7,
   "metadata": {
    "collapsed": true
   },
   "outputs": [],
   "source": [
    "import numpy as np\n",
    "from numpy.linalg import inv\n",
    "\n",
    "def samp_cov(x):\n",
    "    \"\"\"\n",
    "    x: sample matrix, each column is a link flow vector sample; 24 * K\n",
    "    K: number of samples\n",
    "    S: sample covariance matrix\n",
    "    ----------------\n",
    "    return: inv(S)\n",
    "    ----------------\n",
    "    \"\"\"\n",
    "    x = np.matrix(x)\n",
    "    K = np.size(x, 1)\n",
    "    x_mean = sum(x[:,k] for k in range(K)) / K\n",
    "    S = sum(np.dot(x[:,k] - x_mean, np.transpose(x[:,k] - x_mean)) for k in range(K)) / (K - 1)\n",
    "    return S"
   ]
  },
  {
   "cell_type": "code",
   "execution_count": 8,
   "metadata": {
    "collapsed": false
   },
   "outputs": [],
   "source": [
    "# load path-link incidence matrix\n",
    "A = zload('../temp_files/path-link_incidence_matrix.pkz')"
   ]
  },
  {
   "cell_type": "code",
   "execution_count": 9,
   "metadata": {
    "collapsed": false
   },
   "outputs": [],
   "source": [
    "# load link counts data\n",
    "\n",
    "import json\n",
    "\n",
    "with open('../temp_files/link_day_minute_Oct_dict_JSON.json', 'r') as json_file:\n",
    "    link_day_minute_Oct_dict_JSON = json.load(json_file)"
   ]
  },
  {
   "cell_type": "code",
   "execution_count": 10,
   "metadata": {
    "collapsed": true
   },
   "outputs": [],
   "source": [
    "week_day_Oct_list = [1, 2, 3, 4, 5, 8, 9, 10, 11, 12, 15, 16, 17, 18, 19, 22, 23, 24, 25, 26, 29, 30, 31]"
   ]
  },
  {
   "cell_type": "code",
   "execution_count": 11,
   "metadata": {
    "collapsed": false
   },
   "outputs": [],
   "source": [
    "link_day_minute_Oct_list = []\n",
    "for link_idx in range(24):\n",
    "    for day in week_day_Oct_list: \n",
    "        for minute_idx in range(120):\n",
    "            key = 'link_' + str(link_idx) + '_' + str(day)\n",
    "            link_day_minute_Oct_list.append(link_day_minute_Oct_dict_JSON[key] ['PM_flow_minute'][minute_idx])"
   ]
  },
  {
   "cell_type": "code",
   "execution_count": 12,
   "metadata": {
    "collapsed": false
   },
   "outputs": [
    {
     "data": {
      "text/plain": [
       "66240"
      ]
     },
     "execution_count": 12,
     "metadata": {},
     "output_type": "execute_result"
    }
   ],
   "source": [
    "len(link_day_minute_Oct_list)"
   ]
  },
  {
   "cell_type": "code",
   "execution_count": 13,
   "metadata": {
    "collapsed": false
   },
   "outputs": [],
   "source": [
    "x = np.matrix(link_day_minute_Oct_list)\n",
    "x = np.matrix.reshape(x, 24, 2760)\n",
    "\n",
    "x = np.nan_to_num(x)\n",
    "y = np.array(np.transpose(x))\n",
    "y = y[np.all(y != 0, axis=1)]\n",
    "x = np.transpose(y)\n",
    "x = np.matrix(x)"
   ]
  },
  {
   "cell_type": "code",
   "execution_count": 14,
   "metadata": {
    "collapsed": false
   },
   "outputs": [
    {
     "data": {
      "text/plain": [
       "(24, 2760)"
      ]
     },
     "execution_count": 14,
     "metadata": {},
     "output_type": "execute_result"
    }
   ],
   "source": [
    "np.size(x, 0), np.size(x, 1)"
   ]
  },
  {
   "cell_type": "code",
   "execution_count": 15,
   "metadata": {
    "collapsed": false
   },
   "outputs": [
    {
     "data": {
      "text/plain": [
       "matrix([[  1906.55552909,   2047.264259  ],\n",
       "        [  2330.54847006,   2029.3018055 ],\n",
       "        [  3082.55062179,   4583.88210519],\n",
       "        [  3917.44580334,   4366.36268353],\n",
       "        [  2638.24125164,   1513.09744273],\n",
       "        [  1383.62873995,   1082.48784785],\n",
       "        [  2581.54738121,   3010.02092677],\n",
       "        [  2404.67435344,   1976.28653831],\n",
       "        [ 10816.61022581,   9112.47368828],\n",
       "        [  9304.03942826,   4726.30755066],\n",
       "        [  9736.42601349,   9120.25761148],\n",
       "        [  5499.76317369,   5478.4232752 ],\n",
       "        [  2262.44657876,   2164.49716615],\n",
       "        [  3108.21656209,   3520.38169892],\n",
       "        [  6286.63693276,   5925.14907365],\n",
       "        [  5959.64780864,   5584.6852888 ],\n",
       "        [  2544.16798269,   2722.30327516],\n",
       "        [  1707.06994851,   2090.69525365],\n",
       "        [  2984.37374715,   3305.84021667],\n",
       "        [  5313.09970383,   5408.15875339],\n",
       "        [  8565.95292932,   9350.36504538],\n",
       "        [  9445.13758743,   9513.80564911],\n",
       "        [  1294.02119972,   1943.85409419],\n",
       "        [  3223.43055199,   2341.8533055 ]])"
      ]
     },
     "execution_count": 15,
     "metadata": {},
     "output_type": "execute_result"
    }
   ],
   "source": [
    "x[:,:2]"
   ]
  },
  {
   "cell_type": "code",
   "execution_count": 16,
   "metadata": {
    "collapsed": false
   },
   "outputs": [
    {
     "data": {
      "text/plain": [
       "(24, 140)"
      ]
     },
     "execution_count": 16,
     "metadata": {},
     "output_type": "execute_result"
    }
   ],
   "source": [
    "np.size(A,0), np.size(A,1)"
   ]
  },
  {
   "cell_type": "code",
   "execution_count": 17,
   "metadata": {
    "collapsed": false
   },
   "outputs": [
    {
     "name": "stdout",
     "output_type": "stream",
     "text": [
      "Optimize a model with 56 rows, 56 columns and 56 nonzeros\n",
      "Model has 1596 quadratic objective terms\n",
      "Coefficient statistics:\n",
      "  Matrix range    [1e+00, 1e+00]\n",
      "  Objective range [1e-01, 3e+01]\n",
      "  Bounds range    [0e+00, 0e+00]\n",
      "  RHS range       [0e+00, 0e+00]\n",
      "Presolve removed 56 rows and 0 columns\n",
      "Presolve time: 0.00s\n",
      "Presolved: 0 rows, 56 columns, 0 nonzeros\n",
      "Presolved model has 1596 quadratic objective terms\n",
      "Ordering time: 0.00s\n",
      "\n",
      "Barrier statistics:\n",
      " Free vars  : 24\n",
      " AA' NZ     : 2.760e+02\n",
      " Factor NZ  : 3.000e+02\n",
      " Factor Ops : 4.900e+03 (less than 1 second per iteration)\n",
      " Threads    : 1\n",
      "\n",
      "                  Objective                Residual\n",
      "Iter       Primal          Dual         Primal    Dual     Compl     Time\n",
      "   0  -2.80054176e+06  0.00000000e+00  3.91e+03 3.28e+02  9.04e+05     0s\n",
      "   1   6.03769080e+05 -1.90865188e+06  5.85e+02 1.35e+02  1.80e+05     0s\n",
      "   2   3.05238218e+05 -1.08060431e+06  2.12e+01 4.87e+00  2.82e+04     0s\n",
      "   3  -1.62412363e+05 -3.77957444e+05  2.12e-05 5.68e-14  3.85e+03     0s\n",
      "   4  -2.22984944e+05 -2.46015970e+05  4.33e-08 5.68e-14  4.11e+02     0s\n",
      "   5  -2.26616404e+05 -2.28512363e+05  2.10e-12 5.68e-14  3.39e+01     0s\n",
      "   6  -2.26809484e+05 -2.26878445e+05  2.67e-12 5.68e-14  1.23e+00     0s\n",
      "   7  -2.26819226e+05 -2.26833460e+05  3.87e-12 5.68e-14  2.54e-01     0s\n",
      "   8  -2.26821369e+05 -2.26822692e+05  1.11e-12 5.68e-14  2.36e-02     0s\n",
      "   9  -2.26821795e+05 -2.26822020e+05  3.60e-12 5.68e-14  4.03e-03     0s\n",
      "  10  -2.26821854e+05 -2.26821864e+05  2.27e-12 5.68e-14  1.71e-04     0s\n",
      "  11  -2.26821857e+05 -2.26821857e+05  3.52e-12 8.53e-14  8.35e-07     0s\n",
      "  12  -2.26821857e+05 -2.26821857e+05  1.39e-12 5.68e-14  1.14e-07     0s\n",
      "  13  -2.26821857e+05 -2.26821857e+05  1.39e-12 7.06e-11  1.56e-08     0s\n",
      "  14  -2.26821857e+05 -2.26821857e+05  5.04e-13 5.56e-11  6.36e-10     0s\n",
      "\n",
      "Barrier solved model in 14 iterations and 0.02 seconds\n",
      "Optimal objective -2.26821857e+05\n",
      "\n",
      "lam_0 1.12045e-09\n",
      "lam_1 6505.63\n",
      "lam_2 1.22989e-09\n",
      "lam_3 324.119\n",
      "lam_4 3510.64\n",
      "lam_5 1.25474e-05\n",
      "lam_6 3.60132e-07\n",
      "lam_7 0.000109622\n",
      "lam_8 784.298\n",
      "lam_9 5505.68\n",
      "lam_10 545.861\n",
      "lam_11 644.452\n",
      "lam_12 1.29207e-05\n",
      "lam_13 1.32304e-05\n",
      "lam_14 6495.04\n",
      "lam_15 1955.32\n",
      "lam_16 1309.4\n",
      "lam_17 5650.35\n",
      "lam_18 4540.72\n",
      "lam_19 7879.25\n",
      "lam_20 1.26459e-05\n",
      "lam_21 1140.14\n",
      "lam_22 5157.92\n",
      "lam_23 5.30518\n",
      "lam_24 3554.63\n",
      "lam_25 4.47961\n",
      "lam_26 7.13083e-06\n",
      "lam_27 2145.65\n",
      "lam_28 0.396284\n",
      "lam_29 0.419944\n",
      "lam_30 4482.54\n",
      "lam_31 2.89246\n",
      "lam_32 7832.38\n",
      "lam_33 7.05813e-06\n",
      "lam_34 7.06017e-06\n",
      "lam_35 4.2631e-07\n",
      "lam_36 4.26387e-07\n",
      "lam_37 4.16487e-07\n",
      "lam_38 6290.7\n",
      "lam_39 5.49008\n",
      "lam_40 6590.31\n",
      "lam_41 1214.56\n",
      "lam_42 8.89758e-07\n",
      "lam_43 8.89927e-07\n",
      "lam_44 14609.1\n",
      "lam_45 1061.91\n",
      "lam_46 2256.33\n",
      "lam_47 3437.32\n",
      "lam_48 1545.07\n",
      "lam_49 8.92183e-07\n",
      "lam_50 8.99943e-07\n",
      "lam_51 8.90037e-07\n",
      "lam_52 2476.71\n",
      "lam_53 1648.27\n",
      "lam_54 1396.68\n",
      "lam_55 2485.57\n",
      "Obj: -226813\n"
     ]
    }
   ],
   "source": [
    "from gurobipy import *\n",
    "\n",
    "L = 56  # dimension of lam\n",
    "\n",
    "K = np.size(x, 1)\n",
    "S = samp_cov(x)\n",
    "inv_S = inv(S)\n",
    "\n",
    "A_t = np.transpose(A)\n",
    "P_t = np.transpose(P)\n",
    "# PA'\n",
    "PA_t = np.dot(P, A_t)\n",
    "# AP_t\n",
    "AP_t = np.transpose(PA_t)\n",
    "\n",
    "Q = np.dot(np.dot(PA_t, inv_S), AP_t)\n",
    "b = sum([np.dot(np.dot(PA_t, inv_S), x[:, k]) for k in range(K)])\n",
    "\n",
    "\n",
    "model = Model(\"OD_matrix_estimation\")\n",
    "\n",
    "lam = []\n",
    "for l in range(L):\n",
    "    lam.append(model.addVar(name='lam_' + str(l)))\n",
    "\n",
    "model.update() \n",
    "\n",
    "# Set objective: (K/2) lam' * Q * lam - b' * lam\n",
    "obj = 0\n",
    "for i in range(L):\n",
    "    for j in range(L):\n",
    "        obj += (1.0 /2) * K * lam[i] * Q[i, j] * lam[j]\n",
    "for l in range(L):\n",
    "    obj += - b[l] * lam[l]\n",
    "model.setObjective(obj)\n",
    "\n",
    "# Add constraint: lam >= 0\n",
    "for l in range(L):\n",
    "    model.addConstr(lam[l] >= 0)\n",
    "\n",
    "model.update() \n",
    "\n",
    "model.optimize()\n",
    "\n",
    "lam_list = []\n",
    "for v in model.getVars():\n",
    "    print('%s %g' % (v.varName, v.x))\n",
    "    lam_list.append(v.x)\n",
    "print('Obj: %g' % obj.getValue())"
   ]
  },
  {
   "cell_type": "code",
   "execution_count": 18,
   "metadata": {
    "collapsed": false
   },
   "outputs": [],
   "source": [
    "# write estimation result to file\n",
    "n = 8  # number of nodes\n",
    "with open('../temp_files/OD_demand_matrix_Oct_weekday_PM.txt', 'w') as the_file:\n",
    "    idx = 0\n",
    "    for i in range(n + 1)[1:]:\n",
    "        for j in range(n + 1)[1:]:\n",
    "            if i != j: \n",
    "                the_file.write(\"%d,%d,%f\\n\" %(i, j, lam_list[idx]))\n",
    "                idx += 1"
   ]
  },
  {
   "cell_type": "code",
   "execution_count": 19,
   "metadata": {
    "collapsed": false
   },
   "outputs": [
    {
     "data": {
      "text/plain": [
       "[1.1204514851558562e-09,\n",
       " 6505.625137772082,\n",
       " 1.2298865489811992e-09,\n",
       " 324.1191442414438,\n",
       " 3510.6360998481223,\n",
       " 1.2547356884385502e-05,\n",
       " 3.601321640950366e-07,\n",
       " 0.00010962235128691555,\n",
       " 784.2984475859631,\n",
       " 5505.679321892668,\n",
       " 545.8613849135182,\n",
       " 644.45153966064,\n",
       " 1.2920712782498909e-05,\n",
       " 1.32304450731999e-05,\n",
       " 6495.036649728974,\n",
       " 1955.31762204183,\n",
       " 1309.396823322682,\n",
       " 5650.345892495554,\n",
       " 4540.724951322871,\n",
       " 7879.250298212266,\n",
       " 1.2645944345593028e-05,\n",
       " 1140.1448817342916,\n",
       " 5157.920474556963,\n",
       " 5.305175379894592,\n",
       " 3554.6291586946095,\n",
       " 4.479609895427217,\n",
       " 7.130830567889904e-06,\n",
       " 2145.6467477089727,\n",
       " 0.3962839710729362,\n",
       " 0.41994374604164086,\n",
       " 4482.543836841471,\n",
       " 2.8924579806069772,\n",
       " 7832.3778338479015,\n",
       " 7.0581292303277185e-06,\n",
       " 7.06016976282194e-06,\n",
       " 4.2631049619749633e-07,\n",
       " 4.263867247016181e-07,\n",
       " 4.164874559778149e-07,\n",
       " 6290.696699912707,\n",
       " 5.490075970301632,\n",
       " 6590.310685352915,\n",
       " 1214.560968346564,\n",
       " 8.89758302519255e-07,\n",
       " 8.8992689440724e-07,\n",
       " 14609.14372789815,\n",
       " 1061.9068389078745,\n",
       " 2256.327441069253,\n",
       " 3437.316664709873,\n",
       " 1545.069951044803,\n",
       " 8.921830556248144e-07,\n",
       " 8.999427931089591e-07,\n",
       " 8.900365448913535e-07,\n",
       " 2476.7061100191904,\n",
       " 1648.2681746950077,\n",
       " 1396.676119588987,\n",
       " 2485.573221179249]"
      ]
     },
     "execution_count": 19,
     "metadata": {},
     "output_type": "execute_result"
    }
   ],
   "source": [
    "lam_list"
   ]
  },
  {
   "cell_type": "code",
   "execution_count": null,
   "metadata": {
    "collapsed": true
   },
   "outputs": [],
   "source": []
  }
 ],
 "metadata": {
  "kernelspec": {
   "display_name": "Python 2",
   "language": "python",
   "name": "python2"
  },
  "language_info": {
   "codemirror_mode": {
    "name": "ipython",
    "version": 2
   },
   "file_extension": ".py",
   "mimetype": "text/x-python",
   "name": "python",
   "nbconvert_exporter": "python",
   "pygments_lexer": "ipython2",
   "version": "2.7.11"
  }
 },
 "nbformat": 4,
 "nbformat_minor": 0
}
