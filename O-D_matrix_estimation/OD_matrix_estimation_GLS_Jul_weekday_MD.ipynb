{
 "cells": [
  {
   "cell_type": "code",
   "execution_count": 1,
   "metadata": {
    "collapsed": true
   },
   "outputs": [],
   "source": [
    "%run ../Python_files/util_data_storage_and_load.py"
   ]
  },
  {
   "cell_type": "code",
   "execution_count": 2,
   "metadata": {
    "collapsed": true
   },
   "outputs": [],
   "source": [
    "%run ../Python_files/load_dicts.py"
   ]
  },
  {
   "cell_type": "code",
   "execution_count": 3,
   "metadata": {
    "collapsed": false
   },
   "outputs": [],
   "source": [
    "%run ../Python_files/util.py"
   ]
  },
  {
   "cell_type": "code",
   "execution_count": 4,
   "metadata": {
    "collapsed": true
   },
   "outputs": [],
   "source": [
    "# load logit_route_choice_probability_matrix\n",
    "P = zload('../temp_files/logit_route_choice_probability_matrix.pkz')"
   ]
  },
  {
   "cell_type": "code",
   "execution_count": 5,
   "metadata": {
    "collapsed": false
   },
   "outputs": [],
   "source": [
    "import numpy as np\n",
    "from numpy.linalg import inv\n",
    "\n",
    "P = np.matrix(P)"
   ]
  },
  {
   "cell_type": "code",
   "execution_count": 6,
   "metadata": {
    "collapsed": false
   },
   "outputs": [
    {
     "data": {
      "text/plain": [
       "(56, 140)"
      ]
     },
     "execution_count": 6,
     "metadata": {},
     "output_type": "execute_result"
    }
   ],
   "source": [
    "np.size(P, 0), np.size(P, 1)"
   ]
  },
  {
   "cell_type": "code",
   "execution_count": 7,
   "metadata": {
    "collapsed": true
   },
   "outputs": [],
   "source": [
    "import numpy as np\n",
    "from numpy.linalg import inv\n",
    "\n",
    "def samp_cov(x):\n",
    "    \"\"\"\n",
    "    x: sample matrix, each column is a link flow vector sample; 24 * K\n",
    "    K: number of samples\n",
    "    S: sample covariance matrix\n",
    "    ----------------\n",
    "    return: inv(S)\n",
    "    ----------------\n",
    "    \"\"\"\n",
    "    x = np.matrix(x)\n",
    "    K = np.size(x, 1)\n",
    "    x_mean = sum(x[:,k] for k in range(K)) / K\n",
    "    S = sum(np.dot(x[:,k] - x_mean, np.transpose(x[:,k] - x_mean)) for k in range(K)) / (K - 1)\n",
    "    return S"
   ]
  },
  {
   "cell_type": "code",
   "execution_count": 8,
   "metadata": {
    "collapsed": false
   },
   "outputs": [],
   "source": [
    "# load path-link incidence matrix\n",
    "A = zload('../temp_files/path-link_incidence_matrix.pkz')"
   ]
  },
  {
   "cell_type": "code",
   "execution_count": 9,
   "metadata": {
    "collapsed": false
   },
   "outputs": [],
   "source": [
    "# load link counts data\n",
    "\n",
    "import json\n",
    "\n",
    "with open('../temp_files/link_day_minute_Jul_dict_JSON.json', 'r') as json_file:\n",
    "    link_day_minute_Jul_dict_JSON = json.load(json_file)"
   ]
  },
  {
   "cell_type": "code",
   "execution_count": 10,
   "metadata": {
    "collapsed": true
   },
   "outputs": [],
   "source": [
    "week_day_Jul_list = [2, 3, 4, 5, 6, 9, 10, 11, 12, 13, 16, 17, 18, 19, 20, 23, 24, 25, 26, 27, 30, 31]\n",
    "#week_day_Jul_list = [2, 9, 16, 23, 30]"
   ]
  },
  {
   "cell_type": "code",
   "execution_count": 11,
   "metadata": {
    "collapsed": false
   },
   "outputs": [],
   "source": [
    "link_day_minute_Jul_list = []\n",
    "for link_idx in range(24):\n",
    "    for day in week_day_Jul_list: \n",
    "        for minute_idx in range(120):\n",
    "            key = 'link_' + str(link_idx) + '_' + str(day)\n",
    "            link_day_minute_Jul_list.append(link_day_minute_Jul_dict_JSON[key] ['MD_flow_minute'][minute_idx])"
   ]
  },
  {
   "cell_type": "code",
   "execution_count": 12,
   "metadata": {
    "collapsed": false
   },
   "outputs": [
    {
     "data": {
      "text/plain": [
       "63360"
      ]
     },
     "execution_count": 12,
     "metadata": {},
     "output_type": "execute_result"
    }
   ],
   "source": [
    "len(link_day_minute_Jul_list)"
   ]
  },
  {
   "cell_type": "code",
   "execution_count": 13,
   "metadata": {
    "collapsed": false
   },
   "outputs": [],
   "source": [
    "x = np.matrix(link_day_minute_Jul_list)\n",
    "x = np.matrix.reshape(x, 24, 2640)\n",
    "\n",
    "x = np.nan_to_num(x)\n",
    "y = np.array(np.transpose(x))\n",
    "y = y[np.all(y != 0, axis=1)]\n",
    "x = np.transpose(y)\n",
    "x = np.matrix(x)"
   ]
  },
  {
   "cell_type": "code",
   "execution_count": 14,
   "metadata": {
    "collapsed": false
   },
   "outputs": [
    {
     "data": {
      "text/plain": [
       "(24, 2598)"
      ]
     },
     "execution_count": 14,
     "metadata": {},
     "output_type": "execute_result"
    }
   ],
   "source": [
    "np.size(x, 0), np.size(x, 1)"
   ]
  },
  {
   "cell_type": "code",
   "execution_count": 15,
   "metadata": {
    "collapsed": false
   },
   "outputs": [
    {
     "data": {
      "text/plain": [
       "matrix([[  4776.81570248,   5048.12748064],\n",
       "        [  5123.00502512,   5087.17711624],\n",
       "        [  7186.09961576,   6235.34264468],\n",
       "        [  4648.46584343,   5404.64744614],\n",
       "        [  5932.65271731,   6545.53094319],\n",
       "        [  5670.57150601,   3859.14240892],\n",
       "        [  5937.48055559,   8764.49742736],\n",
       "        [  4576.11026836,   5850.08771821],\n",
       "        [  7348.3718596 ,   8241.18128918],\n",
       "        [  7343.34427156,   7840.87017112],\n",
       "        [ 11746.99540223,  11692.411206  ],\n",
       "        [  9560.87198556,  11690.91364377],\n",
       "        [  6306.45897434,   6730.19131819],\n",
       "        [  6986.25030835,   5102.35653027],\n",
       "        [  2692.5091086 ,   5321.00483096],\n",
       "        [  4146.81417148,   2159.83013414],\n",
       "        [  4201.10753243,   5410.28662518],\n",
       "        [  3672.00987576,   3675.50080834],\n",
       "        [ 13794.5170043 ,  15186.65225442],\n",
       "        [ 10657.92411621,   7537.76860231],\n",
       "        [ 18423.89350562,  16733.09665144],\n",
       "        [ 10402.30490222,  13513.18536584],\n",
       "        [  3173.98976307,   5497.76029839],\n",
       "        [  3515.44893812,   4729.51684432]])"
      ]
     },
     "execution_count": 15,
     "metadata": {},
     "output_type": "execute_result"
    }
   ],
   "source": [
    "x[:,:2]"
   ]
  },
  {
   "cell_type": "code",
   "execution_count": 16,
   "metadata": {
    "collapsed": false
   },
   "outputs": [
    {
     "data": {
      "text/plain": [
       "(24, 140)"
      ]
     },
     "execution_count": 16,
     "metadata": {},
     "output_type": "execute_result"
    }
   ],
   "source": [
    "np.size(A,0), np.size(A,1)"
   ]
  },
  {
   "cell_type": "code",
   "execution_count": 17,
   "metadata": {
    "collapsed": false
   },
   "outputs": [
    {
     "name": "stdout",
     "output_type": "stream",
     "text": [
      "Optimize a model with 56 rows, 56 columns and 56 nonzeros\n",
      "Model has 1596 quadratic objective terms\n",
      "Coefficient statistics:\n",
      "  Matrix range    [1e+00, 1e+00]\n",
      "  Objective range [6e-01, 2e+01]\n",
      "  Bounds range    [0e+00, 0e+00]\n",
      "  RHS range       [0e+00, 0e+00]\n",
      "Presolve removed 56 rows and 0 columns\n",
      "Presolve time: 0.00s\n",
      "Presolved: 0 rows, 56 columns, 0 nonzeros\n",
      "Presolved model has 1596 quadratic objective terms\n",
      "Ordering time: 0.00s\n",
      "\n",
      "Barrier statistics:\n",
      " Free vars  : 24\n",
      " AA' NZ     : 2.760e+02\n",
      " Factor NZ  : 3.000e+02\n",
      " Factor Ops : 4.900e+03 (less than 1 second per iteration)\n",
      " Threads    : 1\n",
      "\n",
      "                  Objective                Residual\n",
      "Iter       Primal          Dual         Primal    Dual     Compl     Time\n",
      "   0  -5.66637254e+06  0.00000000e+00  5.40e+03 3.03e+02  8.64e+05     0s\n",
      "   1   1.11594108e+06 -3.32091382e+06  4.66e+02 7.26e+01  1.57e+05     0s\n",
      "   2   9.53557118e+04 -1.13526124e+06  4.66e-04 5.68e-14  2.20e+04     0s\n",
      "   3  -2.48368487e+05 -4.00473784e+05  4.66e-10 2.84e-14  2.72e+03     0s\n",
      "   4  -2.72773373e+05 -2.84545396e+05  1.35e-11 2.84e-14  2.10e+02     0s\n",
      "   5  -2.74261174e+05 -2.74868133e+05  2.39e-12 5.68e-14  1.08e+01     0s\n",
      "   6  -2.74448007e+05 -2.74611934e+05  2.84e-12 5.68e-14  2.93e+00     0s\n",
      "   7  -2.74481202e+05 -2.74490850e+05  8.53e-12 5.68e-14  1.72e-01     0s\n",
      "   8  -2.74486928e+05 -2.74488876e+05  5.12e-11 7.11e-14  3.48e-02     0s\n",
      "   9  -2.74487781e+05 -2.74487849e+05  2.77e-11 1.14e-13  1.21e-03     0s\n",
      "  10  -2.74487809e+05 -2.74487818e+05  1.89e-11 8.53e-14  1.53e-04     0s\n",
      "  11  -2.74487812e+05 -2.74487813e+05  1.06e-11 5.68e-14  5.65e-06     0s\n",
      "  12  -2.74487812e+05 -2.74487812e+05  1.43e-11 5.68e-14  6.28e-08     0s\n",
      "  13  -2.74487812e+05 -2.74487812e+05  2.25e-12 5.40e-13  6.39e-09     0s\n",
      "\n",
      "Barrier solved model in 13 iterations and 0.02 seconds\n",
      "Optimal objective -2.74487812e+05\n",
      "\n",
      "lam_0 1.02996e-08\n",
      "lam_1 9418.64\n",
      "lam_2 1.13656e-08\n",
      "lam_3 8.06369e-06\n",
      "lam_4 3200.08\n",
      "lam_5 1.35195e-05\n",
      "lam_6 2.73771e-06\n",
      "lam_7 0.0122199\n",
      "lam_8 1.07739e-07\n",
      "lam_9 5226.36\n",
      "lam_10 1.06318e-07\n",
      "lam_11 1.07739e-07\n",
      "lam_12 1.06887e-07\n",
      "lam_13 1.075e-07\n",
      "lam_14 4901.78\n",
      "lam_15 1938.22\n",
      "lam_16 8.06369e-06\n",
      "lam_17 8.06369e-06\n",
      "lam_18 4302.23\n",
      "lam_19 14927.5\n",
      "lam_20 1.35166e-05\n",
      "lam_21 3238.83\n",
      "lam_22 2693.4\n",
      "lam_23 437.195\n",
      "lam_24 1551.99\n",
      "lam_25 1162.84\n",
      "lam_26 566.277\n",
      "lam_27 4460.92\n",
      "lam_28 0.469398\n",
      "lam_29 1.88921\n",
      "lam_30 1078.17\n",
      "lam_31 2915.7\n",
      "lam_32 4498.13\n",
      "lam_33 603.631\n",
      "lam_34 581.748\n",
      "lam_35 3525.48\n",
      "lam_36 1616.62\n",
      "lam_37 0.000235958\n",
      "lam_38 1375.93\n",
      "lam_39 3310.95\n",
      "lam_40 6246.67\n",
      "lam_41 1501.1\n",
      "lam_42 9.73391e-05\n",
      "lam_43 9.73391e-05\n",
      "lam_44 12541.1\n",
      "lam_45 5.54865e-05\n",
      "lam_46 5.48105e-05\n",
      "lam_47 4012.18\n",
      "lam_48 2806.64\n",
      "lam_49 9.76068e-05\n",
      "lam_50 9.84198e-05\n",
      "lam_51 9.73751e-05\n",
      "lam_52 3805.26\n",
      "lam_53 5.48444e-05\n",
      "lam_54 1538.96\n",
      "lam_55 3097.61\n",
      "Obj: -274480\n"
     ]
    }
   ],
   "source": [
    "from gurobipy import *\n",
    "\n",
    "L = 56  # dimension of lam\n",
    "\n",
    "K = np.size(x, 1)\n",
    "S = samp_cov(x)\n",
    "inv_S = inv(S)\n",
    "\n",
    "A_t = np.transpose(A)\n",
    "P_t = np.transpose(P)\n",
    "# PA'\n",
    "PA_t = np.dot(P, A_t)\n",
    "# AP_t\n",
    "AP_t = np.transpose(PA_t)\n",
    "\n",
    "Q = np.dot(np.dot(PA_t, inv_S), AP_t)\n",
    "b = sum([np.dot(np.dot(PA_t, inv_S), x[:, k]) for k in range(K)])\n",
    "\n",
    "\n",
    "model = Model(\"OD_matrix_estimation\")\n",
    "\n",
    "lam = []\n",
    "for l in range(L):\n",
    "    lam.append(model.addVar(name='lam_' + str(l)))\n",
    "\n",
    "model.update() \n",
    "\n",
    "# Set objective: (K/2) lam' * Q * lam - b' * lam\n",
    "obj = 0\n",
    "for i in range(L):\n",
    "    for j in range(L):\n",
    "        obj += (1.0 /2) * K * lam[i] * Q[i, j] * lam[j]\n",
    "for l in range(L):\n",
    "    obj += - b[l] * lam[l]\n",
    "model.setObjective(obj)\n",
    "\n",
    "# Add constraint: lam >= 0\n",
    "for l in range(L):\n",
    "    model.addConstr(lam[l] >= 0)\n",
    "\n",
    "model.update() \n",
    "\n",
    "model.optimize()\n",
    "\n",
    "lam_list = []\n",
    "for v in model.getVars():\n",
    "    print('%s %g' % (v.varName, v.x))\n",
    "    lam_list.append(v.x)\n",
    "print('Obj: %g' % obj.getValue())"
   ]
  },
  {
   "cell_type": "code",
   "execution_count": 18,
   "metadata": {
    "collapsed": false
   },
   "outputs": [],
   "source": [
    "# write estimation result to file\n",
    "n = 8  # number of nodes\n",
    "with open('../temp_files/OD_demand_matrix_Jul_weekday_MD.txt', 'w') as the_file:\n",
    "    idx = 0\n",
    "    for i in range(n + 1)[1:]:\n",
    "        for j in range(n + 1)[1:]:\n",
    "            if i != j: \n",
    "                the_file.write(\"%d,%d,%f\\n\" %(i, j, lam_list[idx]))\n",
    "                idx += 1"
   ]
  },
  {
   "cell_type": "code",
   "execution_count": 19,
   "metadata": {
    "collapsed": false
   },
   "outputs": [
    {
     "data": {
      "text/plain": [
       "[1.0299629541323759e-08,\n",
       " 9418.640994246269,\n",
       " 1.1365627546172768e-08,\n",
       " 8.06369134837874e-06,\n",
       " 3200.0820440270422,\n",
       " 1.3519494972751388e-05,\n",
       " 2.7377071083174874e-06,\n",
       " 0.012219899842635981,\n",
       " 1.0773868037537659e-07,\n",
       " 5226.363010322432,\n",
       " 1.0631816728639273e-07,\n",
       " 1.0773868040108647e-07,\n",
       " 1.0688688435515663e-07,\n",
       " 1.0749981581471694e-07,\n",
       " 4901.779587837813,\n",
       " 1938.220287386406,\n",
       " 8.063690987153272e-06,\n",
       " 8.063691218551228e-06,\n",
       " 4302.233930168045,\n",
       " 14927.478690799118,\n",
       " 1.3516620966346862e-05,\n",
       " 3238.8270842518064,\n",
       " 2693.4047200392856,\n",
       " 437.19478284581277,\n",
       " 1551.9926443533373,\n",
       " 1162.837197518109,\n",
       " 566.2767473338288,\n",
       " 4460.924887944706,\n",
       " 0.4693976586809754,\n",
       " 1.8892139751646937,\n",
       " 1078.1652564595424,\n",
       " 2915.7040208511767,\n",
       " 4498.134433501735,\n",
       " 603.6308159368832,\n",
       " 581.7477869985551,\n",
       " 3525.481100490172,\n",
       " 1616.6200140379513,\n",
       " 0.00023595804760056702,\n",
       " 1375.929972749424,\n",
       " 3310.9453852984734,\n",
       " 6246.669054708841,\n",
       " 1501.1021301223664,\n",
       " 9.733907644772434e-05,\n",
       " 9.73390976635566e-05,\n",
       " 12541.103547034634,\n",
       " 5.548648878022668e-05,\n",
       " 5.481045904254592e-05,\n",
       " 4012.1819109944263,\n",
       " 2806.642355861539,\n",
       " 9.76067829064689e-05,\n",
       " 9.8419764089083e-05,\n",
       " 9.73750913171122e-05,\n",
       " 3805.2633710739983,\n",
       " 5.4844381122798975e-05,\n",
       " 1538.9567581439314,\n",
       " 3097.6056106397555]"
      ]
     },
     "execution_count": 19,
     "metadata": {},
     "output_type": "execute_result"
    }
   ],
   "source": [
    "lam_list"
   ]
  },
  {
   "cell_type": "code",
   "execution_count": null,
   "metadata": {
    "collapsed": true
   },
   "outputs": [],
   "source": []
  }
 ],
 "metadata": {
  "kernelspec": {
   "display_name": "Python 2",
   "language": "python",
   "name": "python2"
  },
  "language_info": {
   "codemirror_mode": {
    "name": "ipython",
    "version": 2
   },
   "file_extension": ".py",
   "mimetype": "text/x-python",
   "name": "python",
   "nbconvert_exporter": "python",
   "pygments_lexer": "ipython2",
   "version": "2.7.11"
  }
 },
 "nbformat": 4,
 "nbformat_minor": 0
}
