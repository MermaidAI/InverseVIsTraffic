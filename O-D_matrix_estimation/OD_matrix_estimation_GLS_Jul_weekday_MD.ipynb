{
 "cells": [
  {
   "cell_type": "code",
   "execution_count": 1,
   "metadata": {
    "collapsed": true
   },
   "outputs": [],
   "source": [
    "%run ../Python_files/util_data_storage_and_load.py"
   ]
  },
  {
   "cell_type": "code",
   "execution_count": 2,
   "metadata": {
    "collapsed": true
   },
   "outputs": [],
   "source": [
    "%run ../Python_files/load_dicts.py"
   ]
  },
  {
   "cell_type": "code",
   "execution_count": 3,
   "metadata": {
    "collapsed": false
   },
   "outputs": [],
   "source": [
    "%run ../Python_files/util.py"
   ]
  },
  {
   "cell_type": "code",
   "execution_count": 4,
   "metadata": {
    "collapsed": true
   },
   "outputs": [],
   "source": [
    "# load logit_route_choice_probability_matrix\n",
    "P = zload('../temp_files/logit_route_choice_probability_matrix.pkz')"
   ]
  },
  {
   "cell_type": "code",
   "execution_count": 5,
   "metadata": {
    "collapsed": false
   },
   "outputs": [],
   "source": [
    "import numpy as np\n",
    "from numpy.linalg import inv\n",
    "\n",
    "P = np.matrix(P)"
   ]
  },
  {
   "cell_type": "code",
   "execution_count": 6,
   "metadata": {
    "collapsed": false
   },
   "outputs": [
    {
     "data": {
      "text/plain": [
       "(56, 140)"
      ]
     },
     "execution_count": 6,
     "metadata": {},
     "output_type": "execute_result"
    }
   ],
   "source": [
    "np.size(P, 0), np.size(P, 1)"
   ]
  },
  {
   "cell_type": "code",
   "execution_count": 7,
   "metadata": {
    "collapsed": true
   },
   "outputs": [],
   "source": [
    "import numpy as np\n",
    "from numpy.linalg import inv\n",
    "\n",
    "def samp_cov(x):\n",
    "    \"\"\"\n",
    "    x: sample matrix, each column is a link flow vector sample; 24 * K\n",
    "    K: number of samples\n",
    "    S: sample covariance matrix\n",
    "    ----------------\n",
    "    return: inv(S)\n",
    "    ----------------\n",
    "    \"\"\"\n",
    "    x = np.matrix(x)\n",
    "    K = np.size(x, 1)\n",
    "    x_mean = sum(x[:,k] for k in range(K)) / K\n",
    "    S = sum(np.dot(x[:,k] - x_mean, np.transpose(x[:,k] - x_mean)) for k in range(K)) / (K - 1)\n",
    "    return S"
   ]
  },
  {
   "cell_type": "code",
   "execution_count": 8,
   "metadata": {
    "collapsed": false
   },
   "outputs": [],
   "source": [
    "# load path-link incidence matrix\n",
    "A = zload('../temp_files/path-link_incidence_matrix.pkz')"
   ]
  },
  {
   "cell_type": "code",
   "execution_count": 9,
   "metadata": {
    "collapsed": false
   },
   "outputs": [],
   "source": [
    "# load link counts data\n",
    "\n",
    "import json\n",
    "\n",
    "with open('../temp_files/link_day_minute_Jul_dict_JSON.json', 'r') as json_file:\n",
    "    link_day_minute_Jul_dict_JSON = json.load(json_file)"
   ]
  },
  {
   "cell_type": "code",
   "execution_count": 10,
   "metadata": {
    "collapsed": true
   },
   "outputs": [],
   "source": [
    "week_day_Jul_list = [2, 3, 4, 5, 6, 9, 10, 11, 12, 13, 16, 17, 18, 19, 20, 23, 24, 25, 26, 27, 30, 31]"
   ]
  },
  {
   "cell_type": "code",
   "execution_count": 11,
   "metadata": {
    "collapsed": false
   },
   "outputs": [],
   "source": [
    "link_day_minute_Jul_list = []\n",
    "for link_idx in range(24):\n",
    "    for day in week_day_Jul_list: \n",
    "        for minute_idx in range(120):\n",
    "            key = 'link_' + str(link_idx) + '_' + str(day)\n",
    "            link_day_minute_Jul_list.append(link_day_minute_Jul_dict_JSON[key] ['MD_flow_minute'][minute_idx])"
   ]
  },
  {
   "cell_type": "code",
   "execution_count": 12,
   "metadata": {
    "collapsed": false
   },
   "outputs": [
    {
     "data": {
      "text/plain": [
       "63360"
      ]
     },
     "execution_count": 12,
     "metadata": {},
     "output_type": "execute_result"
    }
   ],
   "source": [
    "len(link_day_minute_Jul_list)"
   ]
  },
  {
   "cell_type": "code",
   "execution_count": 13,
   "metadata": {
    "collapsed": false
   },
   "outputs": [],
   "source": [
    "x = np.matrix(link_day_minute_Jul_list)\n",
    "x = np.matrix.reshape(x, 24, 2640)\n",
    "\n",
    "x = np.nan_to_num(x)\n",
    "y = np.array(np.transpose(x))\n",
    "y = y[np.all(y != 0, axis=1)]\n",
    "x = np.transpose(y)\n",
    "x = np.matrix(x)"
   ]
  },
  {
   "cell_type": "code",
   "execution_count": 14,
   "metadata": {
    "collapsed": false
   },
   "outputs": [
    {
     "data": {
      "text/plain": [
       "(24, 2598)"
      ]
     },
     "execution_count": 14,
     "metadata": {},
     "output_type": "execute_result"
    }
   ],
   "source": [
    "np.size(x, 0), np.size(x, 1)"
   ]
  },
  {
   "cell_type": "code",
   "execution_count": 15,
   "metadata": {
    "collapsed": false
   },
   "outputs": [
    {
     "data": {
      "text/plain": [
       "matrix([[  644016.20653445,   631406.3152466 ],\n",
       "        [  674136.40891449,   673679.56986029],\n",
       "        [ 1196545.02177413,  1201159.12541113],\n",
       "        [ 1220596.81688074,  1256925.78210511],\n",
       "        [  316074.22927967,   313204.37222633],\n",
       "        [  398413.70457977,   388936.63386239],\n",
       "        [  773680.00677557,   787606.07406631],\n",
       "        [  783196.11645375,   757406.26361917],\n",
       "        [  732985.20600945,   737035.73143686],\n",
       "        [  762150.17758647,   757999.6253519 ],\n",
       "        [  775551.76308323,   777052.72271506],\n",
       "        [  669007.37515397,   688568.50058395],\n",
       "        [  184198.28602509,   183485.61686012],\n",
       "        [  194120.28284627,   189895.2240814 ],\n",
       "        [  295975.7412995 ,   307763.42351634],\n",
       "        [  269010.79847377,   257697.6743093 ],\n",
       "        [  400755.09338018,   402614.90400025],\n",
       "        [  404714.37530819,   398862.65285996],\n",
       "        [  659119.79227517,   634879.0084836 ],\n",
       "        [  613854.98378807,   609965.43590426],\n",
       "        [ 1029833.77475012,  1048104.7090143 ],\n",
       "        [ 1063508.59304908,  1031068.81163391],\n",
       "        [  252336.14050263,   260129.63008139],\n",
       "        [  253828.98354088,   262146.33765646]])"
      ]
     },
     "execution_count": 15,
     "metadata": {},
     "output_type": "execute_result"
    }
   ],
   "source": [
    "x[:,:2]"
   ]
  },
  {
   "cell_type": "code",
   "execution_count": 16,
   "metadata": {
    "collapsed": false
   },
   "outputs": [
    {
     "data": {
      "text/plain": [
       "(24, 140)"
      ]
     },
     "execution_count": 16,
     "metadata": {},
     "output_type": "execute_result"
    }
   ],
   "source": [
    "np.size(A,0), np.size(A,1)"
   ]
  },
  {
   "cell_type": "code",
   "execution_count": 17,
   "metadata": {
    "collapsed": false
   },
   "outputs": [
    {
     "name": "stdout",
     "output_type": "stream",
     "text": [
      "Optimize a model with 56 rows, 56 columns and 56 nonzeros\n",
      "Model has 1596 quadratic objective terms\n",
      "Coefficient statistics:\n",
      "  Matrix range    [1e+00, 1e+00]\n",
      "  Objective range [4e-02, 5e+01]\n",
      "  Bounds range    [0e+00, 0e+00]\n",
      "  RHS range       [0e+00, 0e+00]\n",
      "Presolve removed 56 rows and 0 columns\n",
      "Presolve time: 0.00s\n",
      "Presolved: 0 rows, 56 columns, 0 nonzeros\n",
      "Presolved model has 1596 quadratic objective terms\n",
      "Ordering time: 0.00s\n",
      "\n",
      "Barrier statistics:\n",
      " Free vars  : 24\n",
      " AA' NZ     : 2.760e+02\n",
      " Factor NZ  : 3.000e+02\n",
      " Factor Ops : 4.900e+03 (less than 1 second per iteration)\n",
      " Threads    : 1\n",
      "\n",
      "                  Objective                Residual\n",
      "Iter       Primal          Dual         Primal    Dual     Compl     Time\n",
      "   0  -6.48180968e+07  0.00000000e+00  6.11e+03 3.01e+03  1.00e+06     0s\n",
      "   1  -5.66598855e+07 -1.66521320e+07  2.08e+03 1.03e+03  3.86e+05     0s\n",
      "   2  -4.38930819e+07 -4.29010381e+07  1.44e+02 7.11e+01  7.93e+04     0s\n",
      "   3  -4.29635306e+07 -4.32007561e+07  1.43e-01 7.07e-02  4.33e+03     0s\n",
      "   4  -4.30638554e+07 -4.30855496e+07  1.43e-03 7.07e-04  3.88e+02     0s\n",
      "   5  -4.30749404e+07 -4.30789682e+07  1.74e-05 8.58e-06  7.19e+01     0s\n",
      "   6  -4.30762494e+07 -4.30764417e+07  6.18e-07 3.05e-07  3.43e+00     0s\n",
      "   7  -4.30763358e+07 -4.30763766e+07  4.37e-08 2.16e-08  7.29e-01     0s\n",
      "   8  -4.30763577e+07 -4.30763616e+07  2.78e-10 1.35e-10  6.93e-02     0s\n",
      "   9  -4.30763597e+07 -4.30763597e+07  3.00e-11 6.82e-13  1.40e-04     0s\n",
      "  10  -4.30763597e+07 -4.30763597e+07  3.27e-11 9.09e-13  1.74e-07     0s\n",
      "  11  -4.30763597e+07 -4.30763597e+07  3.64e-12 1.78e-11  1.76e-10     0s\n",
      "\n",
      "Barrier solved model in 11 iterations and 0.01 seconds\n",
      "Optimal objective -4.30763597e+07\n",
      "\n",
      "lam_0 8.29073e-10\n",
      "lam_1 442611\n",
      "lam_2 137863\n",
      "lam_3 4.52176e-06\n",
      "lam_4 86182.8\n",
      "lam_5 6.93369e-06\n",
      "lam_6 1.87171e-05\n",
      "lam_7 2.60199e-09\n",
      "lam_8 5.11433e-11\n",
      "lam_9 598751\n",
      "lam_10 5.11426e-11\n",
      "lam_11 5.11433e-11\n",
      "lam_12 5.11429e-11\n",
      "lam_13 5.14874e-11\n",
      "lam_14 386765\n",
      "lam_15 8.88435e-11\n",
      "lam_16 1.00118e-08\n",
      "lam_17 5.59969e-06\n",
      "lam_18 117468\n",
      "lam_19 980837\n",
      "lam_20 4.34528e-06\n",
      "lam_21 282911\n",
      "lam_22 409079\n",
      "lam_23 2.09595e-08\n",
      "lam_24 94370.4\n",
      "lam_25 30767.3\n",
      "lam_26 1.36161e-06\n",
      "lam_27 341142\n",
      "lam_28 587604\n",
      "lam_29 8.88434e-11\n",
      "lam_30 1.95667e-08\n",
      "lam_31 147623\n",
      "lam_32 200819\n",
      "lam_33 1.56406e-08\n",
      "lam_34 39870.4\n",
      "lam_35 477614\n",
      "lam_36 8.88435e-11\n",
      "lam_37 1.95698e-08\n",
      "lam_38 6.41613e-06\n",
      "lam_39 259939\n",
      "lam_40 467412\n",
      "lam_41 77050.6\n",
      "lam_42 9.26165e-07\n",
      "lam_43 8.88349e-11\n",
      "lam_44 2.09786e-08\n",
      "lam_45 4.50032e-07\n",
      "lam_46 288608\n",
      "lam_47 1.21945e+06\n",
      "lam_48 115887\n",
      "lam_49 1.0192e-08\n",
      "lam_50 8.91913e-11\n",
      "lam_51 1.01593e-08\n",
      "lam_52 392669\n",
      "lam_53 227969\n",
      "lam_54 1.02696e-08\n",
      "lam_55 1.02697e-08\n",
      "Obj: -4.30698e+07\n"
     ]
    }
   ],
   "source": [
    "from gurobipy import *\n",
    "\n",
    "L = 56  # dimension of lam\n",
    "\n",
    "K = np.size(x, 1)\n",
    "S = samp_cov(x)\n",
    "inv_S = inv(S)\n",
    "\n",
    "A_t = np.transpose(A)\n",
    "P_t = np.transpose(P)\n",
    "# PA'\n",
    "PA_t = np.dot(P, A_t)\n",
    "# AP_t\n",
    "AP_t = np.transpose(PA_t)\n",
    "\n",
    "Q = np.dot(np.dot(PA_t, inv_S), AP_t)\n",
    "b = sum([np.dot(np.dot(PA_t, inv_S), x[:, k]) for k in range(K)])\n",
    "\n",
    "\n",
    "model = Model(\"OD_matrix_estimation\")\n",
    "\n",
    "lam = []\n",
    "for l in range(L):\n",
    "    lam.append(model.addVar(name='lam_' + str(l)))\n",
    "\n",
    "model.update() \n",
    "\n",
    "# Set objective: (K/2) lam' * Q * lam - b * lam\n",
    "obj = 0\n",
    "for i in range(L):\n",
    "    for j in range(L):\n",
    "        obj += (1.0 /2) * K * lam[i] * Q[i, j] * lam[j]\n",
    "for l in range(L):\n",
    "    obj += - b[l] * lam[l]\n",
    "model.setObjective(obj)\n",
    "\n",
    "# Add constraint: lam >= 0\n",
    "for l in range(L):\n",
    "    model.addConstr(lam[l] >= 0)\n",
    "\n",
    "model.update() \n",
    "\n",
    "model.optimize()\n",
    "\n",
    "lam_list = []\n",
    "for v in model.getVars():\n",
    "    print('%s %g' % (v.varName, v.x))\n",
    "    lam_list.append(v.x)\n",
    "print('Obj: %g' % obj.getValue())"
   ]
  },
  {
   "cell_type": "code",
   "execution_count": 18,
   "metadata": {
    "collapsed": false
   },
   "outputs": [],
   "source": [
    "# write estimation result to file\n",
    "n = 8  # number of nodes\n",
    "with open('../temp_files/OD_demand_matrix_Jul_weekday_MD.txt', 'w') as the_file:\n",
    "    idx = 0\n",
    "    for i in range(n + 1)[1:]:\n",
    "        for j in range(n + 1)[1:]:\n",
    "            if i != j: \n",
    "                the_file.write(\"%d,%d,%f\\n\" %(i, j, lam_list[idx]))\n",
    "                idx += 1"
   ]
  },
  {
   "cell_type": "code",
   "execution_count": 19,
   "metadata": {
    "collapsed": false
   },
   "outputs": [
    {
     "data": {
      "text/plain": [
       "[8.290731958846943e-10,\n",
       " 442611.11887399777,\n",
       " 137862.88621161348,\n",
       " 4.521761220446438e-06,\n",
       " 86182.83843418928,\n",
       " 6.9336881093609234e-06,\n",
       " 1.8717093761798365e-05,\n",
       " 2.6019939645567704e-09,\n",
       " 5.114329595889112e-11,\n",
       " 598751.2700874457,\n",
       " 5.114259853398521e-11,\n",
       " 5.114328429901276e-11,\n",
       " 5.114293501631473e-11,\n",
       " 5.148737849370587e-11,\n",
       " 386764.90515731205,\n",
       " 8.884345569612342e-11,\n",
       " 1.0011761614500914e-08,\n",
       " 5.599689723106115e-06,\n",
       " 117467.56752598129,\n",
       " 980837.2807496139,\n",
       " 4.345275558615205e-06,\n",
       " 282910.89091243607,\n",
       " 409078.7491175158,\n",
       " 2.0959526122480354e-08,\n",
       " 94370.44698601533,\n",
       " 30767.342471865577,\n",
       " 1.3616134053036182e-06,\n",
       " 341141.7729942375,\n",
       " 587604.0231315054,\n",
       " 8.884344665300115e-11,\n",
       " 1.9566700964869315e-08,\n",
       " 147622.6466998118,\n",
       " 200818.79378562974,\n",
       " 1.564056254270489e-08,\n",
       " 39870.427057182074,\n",
       " 477614.09873524465,\n",
       " 8.88434641909242e-11,\n",
       " 1.9569787272378245e-08,\n",
       " 6.416132121170315e-06,\n",
       " 259938.6033094376,\n",
       " 467411.5022767655,\n",
       " 77050.58946412636,\n",
       " 9.261653489238408e-07,\n",
       " 8.883494703765562e-11,\n",
       " 2.097860987362735e-08,\n",
       " 4.500315814233327e-07,\n",
       " 288607.6591531435,\n",
       " 1219450.3409296747,\n",
       " 115886.54440148381,\n",
       " 1.0192009994382424e-08,\n",
       " 8.919129544304027e-11,\n",
       " 1.0159263168018785e-08,\n",
       " 392668.536900542,\n",
       " 227968.9797739602,\n",
       " 1.0269575874335352e-08,\n",
       " 1.0269662559178955e-08]"
      ]
     },
     "execution_count": 19,
     "metadata": {},
     "output_type": "execute_result"
    }
   ],
   "source": [
    "lam_list"
   ]
  },
  {
   "cell_type": "code",
   "execution_count": null,
   "metadata": {
    "collapsed": true
   },
   "outputs": [],
   "source": []
  }
 ],
 "metadata": {
  "kernelspec": {
   "display_name": "Python 2",
   "language": "python",
   "name": "python2"
  },
  "language_info": {
   "codemirror_mode": {
    "name": "ipython",
    "version": 2
   },
   "file_extension": ".py",
   "mimetype": "text/x-python",
   "name": "python",
   "nbconvert_exporter": "python",
   "pygments_lexer": "ipython2",
   "version": "2.7.11"
  }
 },
 "nbformat": 4,
 "nbformat_minor": 0
}
