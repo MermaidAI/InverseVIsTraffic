{
 "cells": [
  {
   "cell_type": "code",
   "execution_count": 1,
   "metadata": {
    "collapsed": true
   },
   "outputs": [],
   "source": [
    "%run ../Python_files/util_data_storage_and_load.py"
   ]
  },
  {
   "cell_type": "code",
   "execution_count": 2,
   "metadata": {
    "collapsed": true
   },
   "outputs": [],
   "source": [
    "%run ../Python_files/load_dicts.py"
   ]
  },
  {
   "cell_type": "code",
   "execution_count": 3,
   "metadata": {
    "collapsed": false
   },
   "outputs": [],
   "source": [
    "%run ../Python_files/util.py"
   ]
  },
  {
   "cell_type": "code",
   "execution_count": 4,
   "metadata": {
    "collapsed": true
   },
   "outputs": [],
   "source": [
    "# load logit_route_choice_probability_matrix\n",
    "P = zload('../temp_files/logit_route_choice_probability_matrix.pkz')"
   ]
  },
  {
   "cell_type": "code",
   "execution_count": 5,
   "metadata": {
    "collapsed": false
   },
   "outputs": [],
   "source": [
    "import numpy as np\n",
    "from numpy.linalg import inv\n",
    "\n",
    "P = np.matrix(P)"
   ]
  },
  {
   "cell_type": "code",
   "execution_count": 6,
   "metadata": {
    "collapsed": false
   },
   "outputs": [
    {
     "data": {
      "text/plain": [
       "(56, 140)"
      ]
     },
     "execution_count": 6,
     "metadata": {},
     "output_type": "execute_result"
    }
   ],
   "source": [
    "np.size(P, 0), np.size(P, 1)"
   ]
  },
  {
   "cell_type": "code",
   "execution_count": 7,
   "metadata": {
    "collapsed": true
   },
   "outputs": [],
   "source": [
    "import numpy as np\n",
    "from numpy.linalg import inv\n",
    "\n",
    "def samp_cov(x):\n",
    "    \"\"\"\n",
    "    x: sample matrix, each column is a link flow vector sample; 24 * K\n",
    "    K: number of samples\n",
    "    S: sample covariance matrix\n",
    "    ----------------\n",
    "    return: inv(S)\n",
    "    ----------------\n",
    "    \"\"\"\n",
    "    x = np.matrix(x)\n",
    "    K = np.size(x, 1)\n",
    "    x_mean = sum(x[:,k] for k in range(K)) / K\n",
    "    S = sum(np.dot(x[:,k] - x_mean, np.transpose(x[:,k] - x_mean)) for k in range(K)) / (K - 1)\n",
    "    return S"
   ]
  },
  {
   "cell_type": "code",
   "execution_count": 8,
   "metadata": {
    "collapsed": false
   },
   "outputs": [],
   "source": [
    "# load path-link incidence matrix\n",
    "A = zload('../temp_files/path-link_incidence_matrix.pkz')"
   ]
  },
  {
   "cell_type": "code",
   "execution_count": 9,
   "metadata": {
    "collapsed": false
   },
   "outputs": [],
   "source": [
    "# load link counts data\n",
    "\n",
    "import json\n",
    "\n",
    "with open('../temp_files/link_day_minute_Jul_dict_JSON.json', 'r') as json_file:\n",
    "    link_day_minute_Jul_dict_JSON = json.load(json_file)"
   ]
  },
  {
   "cell_type": "code",
   "execution_count": 18,
   "metadata": {
    "collapsed": true
   },
   "outputs": [],
   "source": [
    "#week_day_Jul_list = [2, 3, 4, 5, 6, 9, 10, 11, 12, 13, 16, 17, 18, 19, 20, 23, 24, 25, 26, 27, 30, 31]\n",
    "week_day_Jul_list = [2, 9, 16, 23, 30]"
   ]
  },
  {
   "cell_type": "code",
   "execution_count": 19,
   "metadata": {
    "collapsed": false
   },
   "outputs": [],
   "source": [
    "link_day_minute_Jul_list = []\n",
    "for link_idx in range(24):\n",
    "    for day in week_day_Jul_list: \n",
    "        for minute_idx in range(120):\n",
    "            key = 'link_' + str(link_idx) + '_' + str(day)\n",
    "            link_day_minute_Jul_list.append(link_day_minute_Jul_dict_JSON[key] ['MD_flow_minute'][minute_idx])"
   ]
  },
  {
   "cell_type": "code",
   "execution_count": 20,
   "metadata": {
    "collapsed": false
   },
   "outputs": [
    {
     "data": {
      "text/plain": [
       "14400"
      ]
     },
     "execution_count": 20,
     "metadata": {},
     "output_type": "execute_result"
    }
   ],
   "source": [
    "len(link_day_minute_Jul_list)"
   ]
  },
  {
   "cell_type": "code",
   "execution_count": 21,
   "metadata": {
    "collapsed": false
   },
   "outputs": [],
   "source": [
    "x = np.matrix(link_day_minute_Jul_list)\n",
    "x = np.matrix.reshape(x, 24, 600)\n",
    "\n",
    "x = np.nan_to_num(x)\n",
    "y = np.array(np.transpose(x))\n",
    "y = y[np.all(y != 0, axis=1)]\n",
    "x = np.transpose(y)\n",
    "x = np.matrix(x)"
   ]
  },
  {
   "cell_type": "code",
   "execution_count": 22,
   "metadata": {
    "collapsed": false
   },
   "outputs": [
    {
     "data": {
      "text/plain": [
       "(24, 600)"
      ]
     },
     "execution_count": 22,
     "metadata": {},
     "output_type": "execute_result"
    }
   ],
   "source": [
    "np.size(x, 0), np.size(x, 1)"
   ]
  },
  {
   "cell_type": "code",
   "execution_count": 23,
   "metadata": {
    "collapsed": false
   },
   "outputs": [
    {
     "data": {
      "text/plain": [
       "matrix([[ 2370.70334479,  2360.58464542],\n",
       "        [ 2301.68959261,  2316.59146776],\n",
       "        [ 2889.56175804,  2851.70977554],\n",
       "        [ 2802.73660851,  2848.86924585],\n",
       "        [ 2890.27324062,  2909.09044506],\n",
       "        [ 2762.04741028,  2702.96620738],\n",
       "        [ 2432.38992652,  2455.0054697 ],\n",
       "        [ 2397.31898105,  2350.4609361 ],\n",
       "        [ 3207.72162926,  3233.60089579],\n",
       "        [ 3161.88766542,  3165.86712397],\n",
       "        [ 2667.18422786,  2756.84253243],\n",
       "        [ 2346.15032178,  2398.83749558],\n",
       "        [ 2305.05155978,  2324.44571121],\n",
       "        [ 2603.74239828,  2527.28916418],\n",
       "        [ 2323.60918916,  2414.09115152],\n",
       "        [ 1890.51064006,  1808.37206144],\n",
       "        [ 2349.79749197,  2404.79056022],\n",
       "        [ 2373.61518481,  2339.44023135],\n",
       "        [ 2618.94647118,  2346.56745078],\n",
       "        [ 2749.7849551 ,  2688.51560092],\n",
       "        [ 2940.66447176,  2953.40415411],\n",
       "        [ 2439.54837863,  2628.20302865],\n",
       "        [ 2266.44866872,  2385.61203068],\n",
       "        [ 2303.77086466,  2390.50113033]])"
      ]
     },
     "execution_count": 23,
     "metadata": {},
     "output_type": "execute_result"
    }
   ],
   "source": [
    "x[:,:2]"
   ]
  },
  {
   "cell_type": "code",
   "execution_count": 24,
   "metadata": {
    "collapsed": false
   },
   "outputs": [
    {
     "data": {
      "text/plain": [
       "(24, 140)"
      ]
     },
     "execution_count": 24,
     "metadata": {},
     "output_type": "execute_result"
    }
   ],
   "source": [
    "np.size(A,0), np.size(A,1)"
   ]
  },
  {
   "cell_type": "code",
   "execution_count": 25,
   "metadata": {
    "collapsed": false
   },
   "outputs": [
    {
     "name": "stdout",
     "output_type": "stream",
     "text": [
      "Optimize a model with 56 rows, 56 columns and 56 nonzeros\n",
      "Model has 1596 quadratic objective terms\n",
      "Coefficient statistics:\n",
      "  Matrix range    [1e+00, 1e+00]\n",
      "  Objective range [2e+01, 4e+03]\n",
      "  Bounds range    [0e+00, 0e+00]\n",
      "  RHS range       [0e+00, 0e+00]\n",
      "Warning: diagonal adjustment of 7.6e-07 performed to make Q PSD\n",
      "Presolve removed 56 rows and 0 columns\n",
      "Presolve time: 0.00s\n",
      "Presolved: 0 rows, 56 columns, 0 nonzeros\n",
      "Presolved model has 1596 quadratic objective terms\n",
      "Ordering time: 0.00s\n",
      "\n",
      "Barrier statistics:\n",
      " Free vars  : 26\n",
      " AA' NZ     : 3.250e+02\n",
      " Factor NZ  : 3.510e+02\n",
      " Factor Ops : 6.201e+03 (less than 1 second per iteration)\n",
      " Threads    : 1\n",
      "\n",
      "                  Objective                Residual\n",
      "Iter       Primal          Dual         Primal    Dual     Compl     Time\n",
      "   0  -7.47922008e+07  0.00000000e+00  9.57e+03 2.44e+03  1.00e+06     0s\n",
      "   1  -2.80341241e+07 -1.83549455e+07  1.30e+03 3.32e+02  2.23e+05     0s\n",
      "   2  -1.86436940e+07 -1.95772259e+07  3.77e+01 9.61e+00  2.71e+04     0s\n",
      "   3  -1.84490907e+07 -1.85593684e+07  2.48e+00 6.33e-01  2.63e+03     0s\n",
      "   4  -1.84478123e+07 -1.84899613e+07  2.48e-06 6.33e-07  7.53e+02     0s\n",
      "   5  -1.84502709e+07 -1.84512215e+07  1.45e-08 3.68e-09  1.70e+01     0s\n",
      "   6  -1.84503563e+07 -1.84504056e+07  1.99e-10 4.55e-11  8.79e-01     0s\n",
      "   7  -1.84503610e+07 -1.84503722e+07  8.43e-10 1.36e-12  2.01e-01     0s\n",
      "   8  -1.84503619e+07 -1.84503623e+07  1.06e-10 9.09e-13  7.72e-03     0s\n",
      "   9  -1.84503620e+07 -1.84503620e+07  1.82e-11 4.55e-13  1.13e-03     0s\n",
      "  10  -1.84503620e+07 -1.84503620e+07  4.91e-11 1.36e-12  8.83e-05     0s\n",
      "  11  -1.84503620e+07 -1.84503620e+07  8.58e-11 9.09e-13  2.33e-05     0s\n",
      "  12  -1.84503620e+07 -1.84503620e+07  2.96e-11 1.14e-12  9.51e-07     0s\n",
      "  13  -1.84503620e+07 -1.84503620e+07  9.09e-12 4.48e-10  1.34e-07     0s\n",
      "  14  -1.84503620e+07 -1.84503620e+07  2.73e-12 1.58e-10  2.49e-08     0s\n",
      "  15  -1.84503620e+07 -1.84503620e+07  5.46e-12 1.31e-10  2.09e-09     0s\n",
      "\n",
      "Barrier solved model in 15 iterations and 0.02 seconds\n",
      "Optimal objective -1.84503620e+07\n",
      "\n",
      "lam_0 1.93511e-10\n",
      "lam_1 4630.79\n",
      "lam_2 2.12411e-10\n",
      "lam_3 0.0312747\n",
      "lam_4 0.128563\n",
      "lam_5 0.691267\n",
      "lam_6 6.40992e-08\n",
      "lam_7 1.76428e-05\n",
      "lam_8 181.405\n",
      "lam_9 2498.84\n",
      "lam_10 0.0491842\n",
      "lam_11 0.404751\n",
      "lam_12 0.620333\n",
      "lam_13 20.0035\n",
      "lam_14 3776.01\n",
      "lam_15 923.467\n",
      "lam_16 382.375\n",
      "lam_17 17.5809\n",
      "lam_18 898.809\n",
      "lam_19 4315.36\n",
      "lam_20 0.724297\n",
      "lam_21 1381.79\n",
      "lam_22 1172.99\n",
      "lam_23 0.0991016\n",
      "lam_24 2020.57\n",
      "lam_25 48.8011\n",
      "lam_26 5.54372e-05\n",
      "lam_27 2143.16\n",
      "lam_28 0.135229\n",
      "lam_29 2.05847\n",
      "lam_30 382.227\n",
      "lam_31 0.402523\n",
      "lam_32 2311.39\n",
      "lam_33 5.48871e-05\n",
      "lam_34 5.49134e-05\n",
      "lam_35 9.84844e-07\n",
      "lam_36 9.84842e-07\n",
      "lam_37 9.84841e-07\n",
      "lam_38 1936.6\n",
      "lam_39 0.128282\n",
      "lam_40 494.792\n",
      "lam_41 492.393\n",
      "lam_42 1.11328\n",
      "lam_43 748.921\n",
      "lam_44 1946.44\n",
      "lam_45 86.221\n",
      "lam_46 0.509876\n",
      "lam_47 196.334\n",
      "lam_48 1833.39\n",
      "lam_49 0.0031769\n",
      "lam_50 0.0984599\n",
      "lam_51 2231.6\n",
      "lam_52 2352.87\n",
      "lam_53 0.00561689\n",
      "lam_54 0.00588965\n",
      "lam_55 0.0059163\n",
      "Obj: -1.84503e+07\n"
     ]
    }
   ],
   "source": [
    "from gurobipy import *\n",
    "\n",
    "L = 56  # dimension of lam\n",
    "\n",
    "K = np.size(x, 1)\n",
    "S = samp_cov(x)\n",
    "inv_S = inv(S)\n",
    "\n",
    "A_t = np.transpose(A)\n",
    "P_t = np.transpose(P)\n",
    "# PA'\n",
    "PA_t = np.dot(P, A_t)\n",
    "# AP_t\n",
    "AP_t = np.transpose(PA_t)\n",
    "\n",
    "Q = np.dot(np.dot(PA_t, inv_S), AP_t)\n",
    "b = sum([np.dot(np.dot(PA_t, inv_S), x[:, k]) for k in range(K)])\n",
    "\n",
    "\n",
    "model = Model(\"OD_matrix_estimation\")\n",
    "\n",
    "lam = []\n",
    "for l in range(L):\n",
    "    lam.append(model.addVar(name='lam_' + str(l)))\n",
    "\n",
    "model.update() \n",
    "\n",
    "# Set objective: (K/2) lam' * Q * lam - b * lam\n",
    "obj = 0\n",
    "for i in range(L):\n",
    "    for j in range(L):\n",
    "        obj += (1.0 /2) * K * lam[i] * Q[i, j] * lam[j]\n",
    "for l in range(L):\n",
    "    obj += - b[l] * lam[l]\n",
    "model.setObjective(obj)\n",
    "\n",
    "# Add constraint: lam >= 0\n",
    "for l in range(L):\n",
    "    model.addConstr(lam[l] >= 0)\n",
    "\n",
    "model.update() \n",
    "\n",
    "model.optimize()\n",
    "\n",
    "lam_list = []\n",
    "for v in model.getVars():\n",
    "    print('%s %g' % (v.varName, v.x))\n",
    "    lam_list.append(v.x)\n",
    "print('Obj: %g' % obj.getValue())"
   ]
  },
  {
   "cell_type": "code",
   "execution_count": 26,
   "metadata": {
    "collapsed": false
   },
   "outputs": [],
   "source": [
    "# write estimation result to file\n",
    "n = 8  # number of nodes\n",
    "with open('../temp_files/OD_demand_matrix_Jul_weekday_MD.txt', 'w') as the_file:\n",
    "    idx = 0\n",
    "    for i in range(n + 1)[1:]:\n",
    "        for j in range(n + 1)[1:]:\n",
    "            if i != j: \n",
    "                the_file.write(\"%d,%d,%f\\n\" %(i, j, lam_list[idx]))\n",
    "                idx += 1"
   ]
  },
  {
   "cell_type": "code",
   "execution_count": 27,
   "metadata": {
    "collapsed": false
   },
   "outputs": [
    {
     "data": {
      "text/plain": [
       "[1.935110519391285e-10,\n",
       " 4630.789913900822,\n",
       " 2.1241136922231808e-10,\n",
       " 0.031274744459028364,\n",
       " 0.12856347645796973,\n",
       " 0.691266610124905,\n",
       " 6.4099161282207e-08,\n",
       " 1.7642784994666036e-05,\n",
       " 181.40500428941283,\n",
       " 2498.8444469175492,\n",
       " 0.04918420404523355,\n",
       " 0.4047511769685155,\n",
       " 0.620332579852187,\n",
       " 20.003525725124554,\n",
       " 3776.014796899414,\n",
       " 923.4669517092343,\n",
       " 382.37462419564804,\n",
       " 17.580935325677785,\n",
       " 898.8093378413696,\n",
       " 4315.363094203159,\n",
       " 0.7242970923897554,\n",
       " 1381.7883911020488,\n",
       " 1172.9871190187566,\n",
       " 0.09910157738448011,\n",
       " 2020.5745936809558,\n",
       " 48.80107077839149,\n",
       " 5.543720510791067e-05,\n",
       " 2143.1567191089857,\n",
       " 0.13522939493710395,\n",
       " 2.0584727126806968,\n",
       " 382.22715544141704,\n",
       " 0.40252284512806114,\n",
       " 2311.3937547596356,\n",
       " 5.48871030088651e-05,\n",
       " 5.491344828623807e-05,\n",
       " 9.84843977961778e-07,\n",
       " 9.84841870269109e-07,\n",
       " 9.848411120835974e-07,\n",
       " 1936.6049119233082,\n",
       " 0.12828185849064466,\n",
       " 494.792454141546,\n",
       " 492.3932652201356,\n",
       " 1.1132837843031602,\n",
       " 748.9210908299343,\n",
       " 1946.4403632691713,\n",
       " 86.22095172794864,\n",
       " 0.509875970729532,\n",
       " 196.3336686155382,\n",
       " 1833.393858401595,\n",
       " 0.00317689894599181,\n",
       " 0.0984598790096185,\n",
       " 2231.601493818742,\n",
       " 2352.8719779435614,\n",
       " 0.005616888653283664,\n",
       " 0.0058896456771826075,\n",
       " 0.0059162951203063155]"
      ]
     },
     "execution_count": 27,
     "metadata": {},
     "output_type": "execute_result"
    }
   ],
   "source": [
    "lam_list"
   ]
  },
  {
   "cell_type": "code",
   "execution_count": null,
   "metadata": {
    "collapsed": true
   },
   "outputs": [],
   "source": []
  }
 ],
 "metadata": {
  "kernelspec": {
   "display_name": "Python 2",
   "language": "python",
   "name": "python2"
  },
  "language_info": {
   "codemirror_mode": {
    "name": "ipython",
    "version": 2
   },
   "file_extension": ".py",
   "mimetype": "text/x-python",
   "name": "python",
   "nbconvert_exporter": "python",
   "pygments_lexer": "ipython2",
   "version": "2.7.11"
  }
 },
 "nbformat": 4,
 "nbformat_minor": 0
}
