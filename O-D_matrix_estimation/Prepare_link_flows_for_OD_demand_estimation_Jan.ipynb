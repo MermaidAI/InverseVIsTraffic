{
 "cells": [
  {
   "cell_type": "code",
   "execution_count": 1,
   "metadata": {
    "collapsed": true
   },
   "outputs": [],
   "source": [
    "%run ../Python_files/util_data_storage_and_load.py"
   ]
  },
  {
   "cell_type": "code",
   "execution_count": 2,
   "metadata": {
    "collapsed": true
   },
   "outputs": [],
   "source": [
    "%run ../Python_files/load_dicts.py"
   ]
  },
  {
   "cell_type": "code",
   "execution_count": 3,
   "metadata": {
    "collapsed": false
   },
   "outputs": [],
   "source": [
    "%run ../Python_files/util.py"
   ]
  },
  {
   "cell_type": "code",
   "execution_count": 4,
   "metadata": {
    "collapsed": false
   },
   "outputs": [],
   "source": [
    "road_seg_inr_capac = zload('../temp_files/road_seg_inr_capac.pkz')"
   ]
  },
  {
   "cell_type": "code",
   "execution_count": 5,
   "metadata": {
    "collapsed": false
   },
   "outputs": [],
   "source": [
    "# load tmc-day-ave_speed data for AM peak of January\n",
    "tmc_day_speed_dict_Jan_AM = zload('../temp_files/Jan_AM/tmc_day_speed_dict.pkz')\n",
    "\n",
    "# load tmc-day-ave_speed data for MD of January\n",
    "tmc_day_speed_dict_Jan_MD = zload('../temp_files/Jan_MD/tmc_day_speed_dict.pkz')\n",
    "\n",
    "# load tmc-day-ave_speed data for PM peak of January\n",
    "tmc_day_speed_dict_Jan_PM = zload('../temp_files/Jan_PM/tmc_day_speed_dict.pkz')\n",
    "\n",
    "# load tmc-day-ave_speed data for NT of January\n",
    "tmc_day_speed_dict_Jan_NT = zload('../temp_files/Jan_NT/tmc_day_speed_dict.pkz')"
   ]
  },
  {
   "cell_type": "code",
   "execution_count": 6,
   "metadata": {
    "collapsed": false
   },
   "outputs": [
    {
     "data": {
      "text/plain": [
       "58.940018744142527"
      ]
     },
     "execution_count": 6,
     "metadata": {},
     "output_type": "execute_result"
    }
   ],
   "source": [
    "tmc_day_speed_dict_Jan_AM['129N0410818'].ave_speed()"
   ]
  },
  {
   "cell_type": "code",
   "execution_count": 7,
   "metadata": {
    "collapsed": false
   },
   "outputs": [],
   "source": [
    "tmc_day_capac_flow_minute_dict = {}\n",
    "\n",
    "for i in range(len(road_seg_inr_capac.tmc)):\n",
    "    for day in range(32)[1:]:\n",
    "        tmc = road_seg_inr_capac.tmc[i]\n",
    "        road_num = road_seg_inr_capac.road_num[i]\n",
    "        shape_length = road_seg_inr_capac.shape_length[i]\n",
    "        day = day\n",
    "        AB_AM_capac = road_seg_inr_capac.AB_AM_capac[i]\n",
    "        AB_MD_capac = road_seg_inr_capac.AB_MD_capac[i]\n",
    "        AB_PM_capac = road_seg_inr_capac.AB_PM_capac[i]\n",
    "        AB_NT_capac = road_seg_inr_capac.AB_NT_capac[i]\n",
    "        AM_ave_speed = tmc_day_speed_dict_Jan_AM[tmc + str(day)].ave_speed()\n",
    "        MD_ave_speed = tmc_day_speed_dict_Jan_MD[tmc + str(day)].ave_speed()\n",
    "        PM_ave_speed = tmc_day_speed_dict_Jan_PM[tmc + str(day)].ave_speed()\n",
    "        NT_ave_speed = tmc_day_speed_dict_Jan_NT[tmc + str(day)].ave_speed()\n",
    "        AM_speed_minute = tmc_day_speed_dict_Jan_AM[tmc + str(day)].speed\n",
    "        MD_speed_minute = tmc_day_speed_dict_Jan_MD[tmc + str(day)].speed\n",
    "        PM_speed_minute = tmc_day_speed_dict_Jan_PM[tmc + str(day)].speed\n",
    "        NT_speed_minute = tmc_day_speed_dict_Jan_NT[tmc + str(day)].speed\n",
    "        tmc_day_capac_flow_minute = RoadSegInrCapacFlowMinute(tmc, road_num, shape_length, day, \\\n",
    "                                                  AB_AM_capac, AB_MD_capac, \\\n",
    "                                                  AB_PM_capac, AB_NT_capac, \\\n",
    "                                                  AM_ave_speed, MD_ave_speed, \\\n",
    "                                                  PM_ave_speed, NT_ave_speed, \\\n",
    "                                                  AM_speed_minute, MD_speed_minute, \\\n",
    "                                                  PM_speed_minute, NT_speed_minute)\n",
    "        assert(len(tmc_day_capac_flow_minute.AM_flow_minute()) == 120)\n",
    "        assert(len(tmc_day_capac_flow_minute.MD_flow_minute()) == 120)\n",
    "        assert(len(tmc_day_capac_flow_minute.PM_flow_minute()) == 120)\n",
    "        assert(len(tmc_day_capac_flow_minute.NT_flow_minute()) == 120)\n",
    "        tmc_day_capac_flow_minute_dict[tmc + str(day)] = tmc_day_capac_flow_minute"
   ]
  },
  {
   "cell_type": "code",
   "execution_count": 8,
   "metadata": {
    "collapsed": true
   },
   "outputs": [],
   "source": [
    "#zdump(tmc_day_capac_flow_minute_dict, '../temp_files/tmc_day_capac_flow_minute_dict_Jan.pkz')"
   ]
  },
  {
   "cell_type": "code",
   "execution_count": 9,
   "metadata": {
    "collapsed": false
   },
   "outputs": [
    {
     "data": {
      "text/plain": [
       "<bound method RoadSegInrCapacFlowMinute.NT_flow_minute of <__main__.RoadSegInrCapacFlowMinute object at 0x7f151f6b3690>>"
      ]
     },
     "execution_count": 9,
     "metadata": {},
     "output_type": "execute_result"
    }
   ],
   "source": [
    "tmc_day_capac_flow_minute_dict['129N0437720'].NT_flow_minute"
   ]
  },
  {
   "cell_type": "code",
   "execution_count": 10,
   "metadata": {
    "collapsed": true
   },
   "outputs": [],
   "source": [
    "link_with_capac_list = list(zload('../temp_files/links_with_capac.pkz'))"
   ]
  },
  {
   "cell_type": "code",
   "execution_count": 11,
   "metadata": {
    "collapsed": false
   },
   "outputs": [
    {
     "data": {
      "text/plain": [
       "[<util.Link_with_Free_Flow_Time at 0x7f151ed17b10>,\n",
       " <util.Link_with_Free_Flow_Time at 0x7f151ed177d0>,\n",
       " <util.Link_with_Free_Flow_Time at 0x7f151ed17990>,\n",
       " <util.Link_with_Free_Flow_Time at 0x7f151ed17c50>,\n",
       " <util.Link_with_Free_Flow_Time at 0x7f151ed17850>,\n",
       " <util.Link_with_Free_Flow_Time at 0x7f151ed17d10>,\n",
       " <util.Link_with_Free_Flow_Time at 0x7f151ed17d90>,\n",
       " <util.Link_with_Free_Flow_Time at 0x7f151ed17dd0>,\n",
       " <util.Link_with_Free_Flow_Time at 0x7f151ed17e10>,\n",
       " <util.Link_with_Free_Flow_Time at 0x7f151ed17e50>,\n",
       " <util.Link_with_Free_Flow_Time at 0x7f151ed17e90>,\n",
       " <util.Link_with_Free_Flow_Time at 0x7f151ed17d50>,\n",
       " <util.Link_with_Free_Flow_Time at 0x7f151ed17ed0>,\n",
       " <util.Link_with_Free_Flow_Time at 0x7f151ed17f50>,\n",
       " <util.Link_with_Free_Flow_Time at 0x7f151ed17f90>,\n",
       " <util.Link_with_Free_Flow_Time at 0x7f151ed17fd0>,\n",
       " <util.Link_with_Free_Flow_Time at 0x7f151ed17f10>,\n",
       " <util.Link_with_Free_Flow_Time at 0x7f151f2b8390>,\n",
       " <util.Link_with_Free_Flow_Time at 0x7f151f2b8050>,\n",
       " <util.Link_with_Free_Flow_Time at 0x7f151f2b8090>,\n",
       " <util.Link_with_Free_Flow_Time at 0x7f151f2b80d0>,\n",
       " <util.Link_with_Free_Flow_Time at 0x7f151f2b8310>,\n",
       " <util.Link_with_Free_Flow_Time at 0x7f151f2b8110>,\n",
       " <util.Link_with_Free_Flow_Time at 0x7f151f2b8150>]"
      ]
     },
     "execution_count": 11,
     "metadata": {},
     "output_type": "execute_result"
    }
   ],
   "source": [
    "link_with_capac_list"
   ]
  },
  {
   "cell_type": "code",
   "execution_count": 12,
   "metadata": {
    "collapsed": false
   },
   "outputs": [],
   "source": [
    "import numpy as np\n",
    "\n",
    "day = 1\n",
    "\n",
    "link_with_capac = link_with_capac_list[0]\n",
    "\n",
    "AM_flow_minute = list(sum([np.array(tmc_day_capac_flow_minute_dict[tmc + str(day)].AM_flow_minute()) \\\n",
    "                                   * tmc_length_dict[tmc] / tmc_day_speed_dict_Jan_AM[tmc + str(day)].speed \\\n",
    "                              for tmc in link_with_capac.tmc_set]) / \\\n",
    "                      sum([np.ones(len(tmc_day_capac_flow_minute_dict[tmc + str(day)].AM_flow_minute())) * \\\n",
    "                           tmc_length_dict[tmc] / tmc_day_speed_dict_Jan_AM[tmc + str(day)].speed \\\n",
    "                              for tmc in link_with_capac.tmc_set]))"
   ]
  },
  {
   "cell_type": "code",
   "execution_count": 13,
   "metadata": {
    "collapsed": false
   },
   "outputs": [
    {
     "data": {
      "text/plain": [
       "('129P04324', 151.827537194, [64.0, 61.0, 61.0, 64.0, 61.0])"
      ]
     },
     "execution_count": 13,
     "metadata": {},
     "output_type": "execute_result"
    }
   ],
   "source": [
    "tmc, tmc_length_dict[tmc], tmc_day_speed_dict_Jan_AM[tmc + str(day)].speed[0:5] "
   ]
  },
  {
   "cell_type": "code",
   "execution_count": 14,
   "metadata": {
    "collapsed": false
   },
   "outputs": [
    {
     "data": {
      "text/plain": [
       "array([ 4032.76622558,  6149.96849401,  6149.96849401,  4032.76622558,\n",
       "        6149.96849401])"
      ]
     },
     "execution_count": 14,
     "metadata": {},
     "output_type": "execute_result"
    }
   ],
   "source": [
    "np.array(tmc_day_capac_flow_minute_dict[tmc + str(day)].AM_flow_minute())[0:5]"
   ]
  },
  {
   "cell_type": "code",
   "execution_count": 15,
   "metadata": {
    "collapsed": false
   },
   "outputs": [
    {
     "data": {
      "text/plain": [
       "(20.49214747625,\n",
       " 22.507768539508195,\n",
       " 22.507768539508195,\n",
       " 20.49214747625,\n",
       " 22.507768539508195)"
      ]
     },
     "execution_count": 15,
     "metadata": {},
     "output_type": "execute_result"
    }
   ],
   "source": [
    "1311.49743848/64, 1372.97388091/61, 1372.97388091/61, 1311.49743848/64, 1372.97388091/61"
   ]
  },
  {
   "cell_type": "code",
   "execution_count": 16,
   "metadata": {
    "collapsed": false
   },
   "outputs": [
    {
     "data": {
      "text/plain": [
       "[3862.2099758054433,\n",
       " 3214.641544648096,\n",
       " 4000.8694895691242,\n",
       " 3463.3660588064008,\n",
       " 3589.960829087926]"
      ]
     },
     "execution_count": 16,
     "metadata": {},
     "output_type": "execute_result"
    }
   ],
   "source": [
    "AM_flow_minute[0:5]"
   ]
  },
  {
   "cell_type": "code",
   "execution_count": 17,
   "metadata": {
    "collapsed": false
   },
   "outputs": [],
   "source": [
    "aa = [1., 2., 3.]\n",
    "bb = [0.1, 0.2, 4.0]"
   ]
  },
  {
   "cell_type": "code",
   "execution_count": 18,
   "metadata": {
    "collapsed": false
   },
   "outputs": [
    {
     "data": {
      "text/plain": [
       "array([ 10.  ,  10.  ,   0.75])"
      ]
     },
     "execution_count": 18,
     "metadata": {},
     "output_type": "execute_result"
    }
   ],
   "source": [
    "np.array(aa) / bb"
   ]
  },
  {
   "cell_type": "code",
   "execution_count": 19,
   "metadata": {
    "collapsed": false
   },
   "outputs": [
    {
     "data": {
      "text/plain": [
       "array([ 1.1,  2.2,  7. ])"
      ]
     },
     "execution_count": 19,
     "metadata": {},
     "output_type": "execute_result"
    }
   ],
   "source": [
    "sum([np.array(aa), np.array(bb)])"
   ]
  },
  {
   "cell_type": "code",
   "execution_count": 20,
   "metadata": {
    "collapsed": true
   },
   "outputs": [],
   "source": [
    "tmc_day_capac_flow_dict = zload('../temp_files/tmc_day_capac_flow_dict_Jan.pkz')"
   ]
  },
  {
   "cell_type": "code",
   "execution_count": 21,
   "metadata": {
    "collapsed": false
   },
   "outputs": [],
   "source": [
    "import numpy as np\n",
    "\n",
    "link_day_minute_Jan_dict = {}\n",
    "\n",
    "for day in range(32)[1:]:\n",
    "    i = 0\n",
    "    for link_with_capac in link_with_capac_list:\n",
    "        AM_flow = sum([tmc_day_capac_flow_dict[tmc + str(day)].AM_flow() * tmc_length_dict[tmc] / \\\n",
    "                       tmc_day_speed_dict_Jan_AM[tmc + str(day)].ave_speed() \\\n",
    "                       for tmc in link_with_capac.tmc_set]) / \\\n",
    "                  sum([tmc_length_dict[tmc] / tmc_day_speed_dict_Jan_AM[tmc + str(day)].ave_speed() \\\n",
    "                       for tmc in link_with_capac.tmc_set])\n",
    "        MD_flow = sum([tmc_day_capac_flow_dict[tmc + str(day)].MD_flow() * tmc_length_dict[tmc] / \\\n",
    "                       tmc_day_speed_dict_Jan_MD[tmc + str(day)].ave_speed() \\\n",
    "                       for tmc in link_with_capac.tmc_set]) / \\\n",
    "                  sum([tmc_length_dict[tmc] / tmc_day_speed_dict_Jan_MD[tmc + str(day)].ave_speed() \\\n",
    "                       for tmc in link_with_capac.tmc_set])\n",
    "        PM_flow = sum([tmc_day_capac_flow_dict[tmc + str(day)].PM_flow() * tmc_length_dict[tmc] / \\\n",
    "                       tmc_day_speed_dict_Jan_PM[tmc + str(day)].ave_speed() \\\n",
    "                       for tmc in link_with_capac.tmc_set]) / \\\n",
    "                  sum([tmc_length_dict[tmc] / tmc_day_speed_dict_Jan_PM[tmc + str(day)].ave_speed() \\\n",
    "                       for tmc in link_with_capac.tmc_set])\n",
    "        NT_flow = sum([tmc_day_capac_flow_dict[tmc + str(day)].NT_flow() * tmc_length_dict[tmc] / \\\n",
    "                       tmc_day_speed_dict_Jan_NT[tmc + str(day)].ave_speed() \\\n",
    "                       for tmc in link_with_capac.tmc_set]) / \\\n",
    "                  sum([tmc_length_dict[tmc] / tmc_day_speed_dict_Jan_NT[tmc + str(day)].ave_speed() \\\n",
    "                       for tmc in link_with_capac.tmc_set])\n",
    "        AM_flow_minute = list(sum([np.array(tmc_day_capac_flow_minute_dict[tmc + str(day)].AM_flow_minute()) \\\n",
    "                                   * tmc_length_dict[tmc] / tmc_day_speed_dict_Jan_AM[tmc + str(day)].speed \\\n",
    "                                  for tmc in link_with_capac.tmc_set]) / \\\n",
    "                              sum([np.ones(len(tmc_day_capac_flow_minute_dict[tmc + str(day)].AM_flow_minute())) \\\n",
    "                                   * tmc_length_dict[tmc] / tmc_day_speed_dict_Jan_AM[tmc + str(day)].speed \\\n",
    "                                  for tmc in link_with_capac.tmc_set]))\n",
    "        MD_flow_minute = list(sum([np.array(tmc_day_capac_flow_minute_dict[tmc + str(day)].MD_flow_minute()) \\\n",
    "                                   * tmc_length_dict[tmc] / tmc_day_speed_dict_Jan_MD[tmc + str(day)].speed \\\n",
    "                                  for tmc in link_with_capac.tmc_set]) / \\\n",
    "                              sum([np.ones(len(tmc_day_capac_flow_minute_dict[tmc + str(day)].MD_flow_minute())) \\\n",
    "                                   * tmc_length_dict[tmc] / tmc_day_speed_dict_Jan_MD[tmc + str(day)].speed \\\n",
    "                                  for tmc in link_with_capac.tmc_set]))\n",
    "        PM_flow_minute = list(sum([np.array(tmc_day_capac_flow_minute_dict[tmc + str(day)].PM_flow_minute()) \\\n",
    "                                   * tmc_length_dict[tmc] / tmc_day_speed_dict_Jan_PM[tmc + str(day)].speed \\\n",
    "                                  for tmc in link_with_capac.tmc_set]) / \\\n",
    "                              sum([np.ones(len(tmc_day_capac_flow_minute_dict[tmc + str(day)].PM_flow_minute())) \\\n",
    "                                   * tmc_length_dict[tmc] / tmc_day_speed_dict_Jan_PM[tmc + str(day)].speed \\\n",
    "                                  for tmc in link_with_capac.tmc_set]))\n",
    "        NT_flow_minute = list(sum([np.array(tmc_day_capac_flow_minute_dict[tmc + str(day)].NT_flow_minute()) \\\n",
    "                                   * tmc_length_dict[tmc] / tmc_day_speed_dict_Jan_NT[tmc + str(day)].speed \\\n",
    "                                  for tmc in link_with_capac.tmc_set]) / \\\n",
    "                              sum([np.ones(len(tmc_day_capac_flow_minute_dict[tmc + str(day)].NT_flow_minute())) \\\n",
    "                                   * tmc_length_dict[tmc] / tmc_day_speed_dict_Jan_NT[tmc + str(day)].speed \\\n",
    "                                  for tmc in link_with_capac.tmc_set]))\n",
    "        link_with_capac_new = Link_with_Free_Flow_Time_Minute(link_with_capac.init_node, link_with_capac.term_node, \\\n",
    "                                                       link_with_capac.tmc_set, \\\n",
    "                                                       link_with_capac.AM_capac, \\\n",
    "                                                       link_with_capac.MD_capac, \\\n",
    "                                                       link_with_capac.PM_capac, \\\n",
    "                                                       link_with_capac.NT_capac, \\\n",
    "                                                       link_with_capac.free_flow_time, \\\n",
    "                                                       link_with_capac.length, \\\n",
    "                                                       AM_flow, MD_flow, PM_flow, NT_flow, \\\n",
    "                                                       AM_flow_minute, MD_flow_minute, \\\n",
    "                                                       PM_flow_minute, NT_flow_minute)\n",
    "        link_day_minute_Jan_dict['link_' + str(i) + '_' + str(day)] = link_with_capac_new\n",
    "        i = i + 1"
   ]
  },
  {
   "cell_type": "code",
   "execution_count": 22,
   "metadata": {
    "collapsed": false
   },
   "outputs": [],
   "source": [
    "#zdump(link_day_minute_Jan_dict, '../temp_files/link_day_minute_Jan_dict.pkz')"
   ]
  },
  {
   "cell_type": "code",
   "execution_count": 23,
   "metadata": {
    "collapsed": false
   },
   "outputs": [
    {
     "data": {
      "text/plain": [
       "[2881.759829214076,\n",
       " 2450.7892381799829,\n",
       " 4120.3311303048476,\n",
       " 3810.1739537777512,\n",
       " 2918.3557398730409]"
      ]
     },
     "execution_count": 23,
     "metadata": {},
     "output_type": "execute_result"
    }
   ],
   "source": [
    "link_day_minute_Jan_dict['link_0_10'].PM_flow_minute[0:5]"
   ]
  },
  {
   "cell_type": "code",
   "execution_count": 24,
   "metadata": {
    "collapsed": false
   },
   "outputs": [],
   "source": [
    "link_day_minute_Jan_dict_JSON = {}\n",
    "for link_idx in range(24):\n",
    "    for day in range(32)[1:]:   \n",
    "        key = 'link_' + str(link_idx) + '_' + str(day)\n",
    "        data = {'link_idx': link_idx, 'day': day, \\\n",
    "             'init_node': link_day_minute_Jan_dict[key].init_node, \\\n",
    "             'term_node': link_day_minute_Jan_dict[key].term_node, \\\n",
    "             'AM_capac': link_day_minute_Jan_dict[key].AM_capac, \\\n",
    "             'MD_capac': link_day_minute_Jan_dict[key].MD_capac, \\\n",
    "             'PM_capac': link_day_minute_Jan_dict[key].PM_capac, \\\n",
    "             'NT_capac': link_day_minute_Jan_dict[key].NT_capac, \\\n",
    "             'free_flow_time': link_day_minute_Jan_dict[key].free_flow_time, \\\n",
    "             'length': link_day_minute_Jan_dict[key].length, \\\n",
    "             'AM_flow': link_day_minute_Jan_dict[key].AM_flow, \\\n",
    "             'MD_flow': link_day_minute_Jan_dict[key].MD_flow, \\\n",
    "             'PM_flow': link_day_minute_Jan_dict[key].PM_flow, \\\n",
    "             'NT_flow': link_day_minute_Jan_dict[key].NT_flow, \\\n",
    "             'AM_flow_minute': link_day_minute_Jan_dict[key].AM_flow_minute, \\\n",
    "             'MD_flow_minute': link_day_minute_Jan_dict[key].MD_flow_minute, \\\n",
    "             'PM_flow_minute': link_day_minute_Jan_dict[key].PM_flow_minute, \\\n",
    "             'NT_flow_minute': link_day_minute_Jan_dict[key].NT_flow_minute}\n",
    "        link_day_minute_Jan_dict_JSON[key] = data\n",
    "        \n",
    "import json\n",
    "\n",
    "# Writing JSON data\n",
    "with open('../temp_files/link_day_minute_Jan_dict_JSON.json', 'w') as json_file:\n",
    "    json.dump(link_day_minute_Jan_dict_JSON, json_file)"
   ]
  },
  {
   "cell_type": "code",
   "execution_count": 25,
   "metadata": {
    "collapsed": false
   },
   "outputs": [],
   "source": [
    "with open('../temp_files/link_day_minute_Jan_dict_JSON.json', 'r') as json_file:\n",
    "    link_day_minute_Jan_dict_JSON_ = json.load(json_file)"
   ]
  },
  {
   "cell_type": "code",
   "execution_count": 26,
   "metadata": {
    "collapsed": false
   },
   "outputs": [
    {
     "data": {
      "text/plain": [
       "[2688.830697955758,\n",
       " 1970.4236788006626,\n",
       " 2481.5641837991257,\n",
       " 2040.142608207748,\n",
       " 2064.8220515315948]"
      ]
     },
     "execution_count": 26,
     "metadata": {},
     "output_type": "execute_result"
    }
   ],
   "source": [
    "link_day_minute_Jan_dict_JSON_['link_3_9'] ['AM_flow_minute'][0:5]"
   ]
  },
  {
   "cell_type": "code",
   "execution_count": null,
   "metadata": {
    "collapsed": true
   },
   "outputs": [],
   "source": []
  }
 ],
 "metadata": {
  "kernelspec": {
   "display_name": "Python 2",
   "language": "python",
   "name": "python2"
  },
  "language_info": {
   "codemirror_mode": {
    "name": "ipython",
    "version": 2
   },
   "file_extension": ".py",
   "mimetype": "text/x-python",
   "name": "python",
   "nbconvert_exporter": "python",
   "pygments_lexer": "ipython2",
   "version": "2.7.11"
  }
 },
 "nbformat": 4,
 "nbformat_minor": 0
}
