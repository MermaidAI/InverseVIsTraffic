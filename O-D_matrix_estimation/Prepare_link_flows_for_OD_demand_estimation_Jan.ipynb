{
 "cells": [
  {
   "cell_type": "code",
   "execution_count": 21,
   "metadata": {
    "collapsed": true
   },
   "outputs": [],
   "source": [
    "%run ../Python_files/util_data_storage_and_load.py"
   ]
  },
  {
   "cell_type": "code",
   "execution_count": 22,
   "metadata": {
    "collapsed": true
   },
   "outputs": [],
   "source": [
    "%run ../Python_files/load_dicts.py"
   ]
  },
  {
   "cell_type": "code",
   "execution_count": 73,
   "metadata": {
    "collapsed": false
   },
   "outputs": [],
   "source": [
    "%run ../Python_files/util.py"
   ]
  },
  {
   "cell_type": "code",
   "execution_count": 32,
   "metadata": {
    "collapsed": false
   },
   "outputs": [],
   "source": [
    "road_seg_inr_capac = zload('../temp_files/road_seg_inr_capac.pkz')"
   ]
  },
  {
   "cell_type": "code",
   "execution_count": 35,
   "metadata": {
    "collapsed": false
   },
   "outputs": [],
   "source": [
    "# load tmc-day-ave_speed data for AM peak of January\n",
    "tmc_day_speed_dict_Jan_AM = zload('../temp_files/Jan_AM/tmc_day_speed_dict.pkz')\n",
    "\n",
    "# load tmc-day-ave_speed data for MD of January\n",
    "tmc_day_speed_dict_Jan_MD = zload('../temp_files/Jan_MD/tmc_day_speed_dict.pkz')\n",
    "\n",
    "# load tmc-day-ave_speed data for PM peak of January\n",
    "tmc_day_speed_dict_Jan_PM = zload('../temp_files/Jan_PM/tmc_day_speed_dict.pkz')\n",
    "\n",
    "# load tmc-day-ave_speed data for NT of January\n",
    "tmc_day_speed_dict_Jan_NT = zload('../temp_files/Jan_NT/tmc_day_speed_dict.pkz')"
   ]
  },
  {
   "cell_type": "code",
   "execution_count": 47,
   "metadata": {
    "collapsed": false
   },
   "outputs": [
    {
     "data": {
      "text/plain": [
       "58.940018744142527"
      ]
     },
     "execution_count": 47,
     "metadata": {},
     "output_type": "execute_result"
    }
   ],
   "source": [
    "tmc_day_speed_dict_Jan_AM['129N0410818'].ave_speed()"
   ]
  },
  {
   "cell_type": "code",
   "execution_count": 74,
   "metadata": {
    "collapsed": false
   },
   "outputs": [],
   "source": [
    "tmc_day_capac_flow_minute_dict = {}\n",
    "\n",
    "for i in range(len(road_seg_inr_capac.tmc)):\n",
    "    for day in range(32)[1:]:\n",
    "        tmc = road_seg_inr_capac.tmc[i]\n",
    "        road_num = road_seg_inr_capac.road_num[i]\n",
    "        shape_length = road_seg_inr_capac.shape_length[i]\n",
    "        day = day\n",
    "        AB_AM_capac = road_seg_inr_capac.AB_AM_capac[i]\n",
    "        AB_MD_capac = road_seg_inr_capac.AB_MD_capac[i]\n",
    "        AB_PM_capac = road_seg_inr_capac.AB_PM_capac[i]\n",
    "        AB_NT_capac = road_seg_inr_capac.AB_NT_capac[i]\n",
    "        AM_ave_speed = tmc_day_speed_dict_Jan_AM[tmc + str(day)].ave_speed()\n",
    "        MD_ave_speed = tmc_day_speed_dict_Jan_MD[tmc + str(day)].ave_speed()\n",
    "        PM_ave_speed = tmc_day_speed_dict_Jan_PM[tmc + str(day)].ave_speed()\n",
    "        NT_ave_speed = tmc_day_speed_dict_Jan_NT[tmc + str(day)].ave_speed()\n",
    "        AM_speed_minute = tmc_day_speed_dict_Jan_AM[tmc + str(day)].speed\n",
    "        MD_speed_minute = tmc_day_speed_dict_Jan_MD[tmc + str(day)].speed\n",
    "        PM_speed_minute = tmc_day_speed_dict_Jan_PM[tmc + str(day)].speed\n",
    "        NT_speed_minute = tmc_day_speed_dict_Jan_NT[tmc + str(day)].speed\n",
    "        tmc_day_capac_flow_minute = RoadSegInrCapacFlowMinute(tmc, road_num, shape_length, day, \\\n",
    "                                                  AB_AM_capac, AB_MD_capac, \\\n",
    "                                                  AB_PM_capac, AB_NT_capac, \\\n",
    "                                                  AM_ave_speed, MD_ave_speed, \\\n",
    "                                                  PM_ave_speed, NT_ave_speed, \\\n",
    "                                                  AM_speed_minute, MD_speed_minute, \\\n",
    "                                                  PM_speed_minute, NT_speed_minute)\n",
    "        assert(len(tmc_day_capac_flow_minute.AM_flow_minute()) == 120)\n",
    "        assert(len(tmc_day_capac_flow_minute.MD_flow_minute()) == 120)\n",
    "        assert(len(tmc_day_capac_flow_minute.PM_flow_minute()) == 120)\n",
    "        assert(len(tmc_day_capac_flow_minute.NT_flow_minute()) == 120)\n",
    "        tmc_day_capac_flow_minute_dict[tmc + str(day)] = tmc_day_capac_flow_minute"
   ]
  },
  {
   "cell_type": "code",
   "execution_count": 75,
   "metadata": {
    "collapsed": true
   },
   "outputs": [],
   "source": [
    "#zdump(tmc_day_capac_flow_minute_dict, '../temp_files/tmc_day_capac_flow_minute_dict_Jan.pkz')"
   ]
  },
  {
   "cell_type": "code",
   "execution_count": 81,
   "metadata": {
    "collapsed": false
   },
   "outputs": [
    {
     "data": {
      "text/plain": [
       "<bound method RoadSegInrCapacFlowMinute.NT_flow_minute of <__main__.RoadSegInrCapacFlowMinute object at 0x7f41b4e43190>>"
      ]
     },
     "execution_count": 81,
     "metadata": {},
     "output_type": "execute_result"
    }
   ],
   "source": [
    "tmc_day_capac_flow_minute_dict['129N0437720'].NT_flow_minute"
   ]
  },
  {
   "cell_type": "code",
   "execution_count": 69,
   "metadata": {
    "collapsed": true
   },
   "outputs": [],
   "source": [
    "link_with_capac_list = list(zload('../temp_files/links_with_capac.pkz'))"
   ]
  },
  {
   "cell_type": "code",
   "execution_count": 85,
   "metadata": {
    "collapsed": true
   },
   "outputs": [],
   "source": [
    "import numpy as np\n",
    "\n",
    "link_day_minute_Jan_dict = {}\n",
    "\n",
    "for day in range(32)[1:]:\n",
    "    i = 0\n",
    "    for link_with_capac in link_with_capac_list:\n",
    "        AM_flow = sum([tmc_day_capac_flow_minute_dict[tmc + str(day)].AM_flow() for tmc in link_with_capac.tmc_set])\n",
    "        MD_flow = sum([tmc_day_capac_flow_minute_dict[tmc + str(day)].MD_flow() for tmc in link_with_capac.tmc_set])\n",
    "        PM_flow = sum([tmc_day_capac_flow_minute_dict[tmc + str(day)].PM_flow() for tmc in link_with_capac.tmc_set])\n",
    "        NT_flow = sum([tmc_day_capac_flow_minute_dict[tmc + str(day)].NT_flow() for tmc in link_with_capac.tmc_set])\n",
    "        AM_flow_minute = list(sum([np.array(tmc_day_capac_flow_minute_dict[tmc + str(day)].AM_flow_minute()) \\\n",
    "                              for tmc in link_with_capac.tmc_set]))\n",
    "        MD_flow_minute = list(sum([np.array(tmc_day_capac_flow_minute_dict[tmc + str(day)].MD_flow_minute()) \\\n",
    "                              for tmc in link_with_capac.tmc_set]))\n",
    "        PM_flow_minute = list(sum([np.array(tmc_day_capac_flow_minute_dict[tmc + str(day)].PM_flow_minute()) \\\n",
    "                              for tmc in link_with_capac.tmc_set]))\n",
    "        NT_flow_minute = list(sum([np.array(tmc_day_capac_flow_minute_dict[tmc + str(day)].NT_flow_minute()) \\\n",
    "                              for tmc in link_with_capac.tmc_set]))\n",
    "        link_with_capac_new = Link_with_Free_Flow_Time_Minute(link_with_capac.init_node, link_with_capac.term_node, \\\n",
    "                                                       link_with_capac.tmc_set, \\\n",
    "                                                       link_with_capac.AM_capac, \\\n",
    "                                                       link_with_capac.MD_capac, \\\n",
    "                                                       link_with_capac.PM_capac, \\\n",
    "                                                       link_with_capac.NT_capac, \\\n",
    "                                                       link_with_capac.free_flow_time, \\\n",
    "                                                       link_with_capac.length, \\\n",
    "                                                       AM_flow, MD_flow, PM_flow, NT_flow, \\\n",
    "                                                       AM_flow_minute, MD_flow_minute, \\\n",
    "                                                       PM_flow_minute, NT_flow_minute)\n",
    "        link_day_minute_Jan_dict['link_' + str(i) + '_' + str(day)] = link_with_capac_new\n",
    "        i = i + 1"
   ]
  },
  {
   "cell_type": "code",
   "execution_count": 86,
   "metadata": {
    "collapsed": false
   },
   "outputs": [],
   "source": [
    "#zdump(link_day_minute_Jan_dict, '../temp_files/link_day_minute_Jan_dict.pkz')"
   ]
  },
  {
   "cell_type": "code",
   "execution_count": 93,
   "metadata": {
    "collapsed": false
   },
   "outputs": [
    {
     "data": {
      "text/plain": [
       "334648.35750727874"
      ]
     },
     "execution_count": 93,
     "metadata": {},
     "output_type": "execute_result"
    }
   ],
   "source": [
    "link_day_minute_Jan_dict['link_0_10'].AM_flow"
   ]
  },
  {
   "cell_type": "code",
   "execution_count": 131,
   "metadata": {
    "collapsed": false
   },
   "outputs": [],
   "source": [
    "link_day_minute_Jan_dict_JSON = {}\n",
    "for link_idx in range(24):\n",
    "    for day in range(32)[1:]:   \n",
    "        key = 'link_' + str(link_idx) + '_' + str(day)\n",
    "        data = {'link_idx': link_idx, 'day': day, \\\n",
    "             'init_node': link_day_minute_Jan_dict[key].init_node, \\\n",
    "             'term_node': link_day_minute_Jan_dict[key].term_node, \\\n",
    "             'AM_capac': link_day_minute_Jan_dict[key].AM_capac, \\\n",
    "             'MD_capac': link_day_minute_Jan_dict[key].MD_capac, \\\n",
    "             'PM_capac': link_day_minute_Jan_dict[key].PM_capac, \\\n",
    "             'NT_capac': link_day_minute_Jan_dict[key].NT_capac, \\\n",
    "             'free_flow_time': link_day_minute_Jan_dict[key].free_flow_time, \\\n",
    "             'length': link_day_minute_Jan_dict[key].length, \\\n",
    "             'AM_flow': link_day_minute_Jan_dict[key].AM_flow, \\\n",
    "             'MD_flow': link_day_minute_Jan_dict[key].MD_flow, \\\n",
    "             'PM_flow': link_day_minute_Jan_dict[key].PM_flow, \\\n",
    "             'NT_flow': link_day_minute_Jan_dict[key].NT_flow, \\\n",
    "             'AM_flow_minute': link_day_minute_Jan_dict[key].AM_flow_minute, \\\n",
    "             'MD_flow_minute': link_day_minute_Jan_dict[key].MD_flow_minute, \\\n",
    "             'PM_flow_minute': link_day_minute_Jan_dict[key].PM_flow_minute, \\\n",
    "             'NT_flow_minute': link_day_minute_Jan_dict[key].NT_flow_minute}\n",
    "        link_day_minute_Jan_dict_JSON[key] = data\n",
    "        \n",
    "import json\n",
    "\n",
    "# Writing JSON data\n",
    "with open('../temp_files/link_day_minute_Jan_dict_JSON.json', 'w') as json_file:\n",
    "    json.dump(link_day_minute_Jan_dict_JSON, json_file)"
   ]
  },
  {
   "cell_type": "code",
   "execution_count": 149,
   "metadata": {
    "collapsed": false
   },
   "outputs": [],
   "source": [
    "with open('../temp_files/link_day_minute_Jan_dict_JSON.json', 'r') as json_file:\n",
    "    link_day_minute_Jan_dict_JSON_ = json.load(json_file)"
   ]
  },
  {
   "cell_type": "code",
   "execution_count": 152,
   "metadata": {
    "collapsed": false
   },
   "outputs": [
    {
     "data": {
      "text/plain": [
       "[627015.7581123047,\n",
       " 632646.2768060619,\n",
       " 615662.1806283699,\n",
       " 637923.5083821698,\n",
       " 620549.7552948801,\n",
       " 635831.0476736326,\n",
       " 650903.8453416765,\n",
       " 636574.2668965197,\n",
       " 643062.2995542071,\n",
       " 636196.4467736026,\n",
       " 636942.4321975559,\n",
       " 645546.2802063663,\n",
       " 633027.8383092864,\n",
       " 639694.0912113492,\n",
       " 639615.3862674409,\n",
       " 633031.0803901834,\n",
       " 634764.3812841601,\n",
       " 639106.0963555203,\n",
       " 649285.8732593295,\n",
       " 641964.3632741203,\n",
       " 643357.2657133499,\n",
       " 628704.3764719949,\n",
       " 649403.4230763162,\n",
       " 636430.014876315,\n",
       " 638691.5696175551,\n",
       " 630408.2308600625,\n",
       " 629123.5699704948,\n",
       " 647153.2317230613,\n",
       " 621106.5989874534,\n",
       " 635128.6790765708,\n",
       " 638206.9213310801,\n",
       " 628770.885266849,\n",
       " 639646.1094300788,\n",
       " 633784.3933438949,\n",
       " 643212.6918724127,\n",
       " 627345.9796176199,\n",
       " 645662.9918117793,\n",
       " 645050.3340600448,\n",
       " 649435.26840816,\n",
       " 636799.2277455764,\n",
       " 646581.666741757,\n",
       " 640545.6469822824,\n",
       " 631206.509372983,\n",
       " 634488.051531418,\n",
       " 628378.3148839712,\n",
       " 644541.4842990624,\n",
       " 649857.9777406272,\n",
       " 621881.6287428022,\n",
       " 640298.1404456731,\n",
       " 632946.3190015944,\n",
       " 629050.0519971815,\n",
       " 637866.2913829013,\n",
       " 637779.4879821631,\n",
       " 624904.4595804949,\n",
       " 643972.0369887991,\n",
       " 642851.7433254558,\n",
       " 628606.9979966066,\n",
       " 629753.1029298047,\n",
       " 635583.0831799589,\n",
       " 636895.9263709933,\n",
       " 629323.1294980765,\n",
       " 629947.2675511655,\n",
       " 647378.4515392658,\n",
       " 630590.3901279515,\n",
       " 629204.8815582138,\n",
       " 639236.7468799797,\n",
       " 635539.4947665038,\n",
       " 636041.6470690183,\n",
       " 648003.4462186694,\n",
       " 632131.4676794478,\n",
       " 642498.5727333277,\n",
       " 646840.6587399892,\n",
       " 637235.6264189804,\n",
       " 644000.5026407015,\n",
       " 637178.6056672054,\n",
       " 646719.4911537159,\n",
       " 628234.5819957245,\n",
       " 638632.4720414819,\n",
       " 633118.6014988404,\n",
       " 628323.2438571521,\n",
       " 631508.5165030925,\n",
       " 625574.6713693328,\n",
       " 637360.3693344361,\n",
       " 626221.7526289012,\n",
       " 630671.9109119816,\n",
       " 625356.6955034458,\n",
       " 638289.6887566557,\n",
       " 644390.4033567681,\n",
       " 638149.4344388902,\n",
       " 628942.9717538529,\n",
       " 642992.1578521797,\n",
       " 637554.9983320688,\n",
       " 625717.9912107321,\n",
       " 636809.4994748568,\n",
       " 637046.4470685275,\n",
       " 627819.3267944852,\n",
       " 636704.4170050492,\n",
       " 624931.6603407766,\n",
       " 639599.8436080375,\n",
       " 632669.0027181335,\n",
       " 643805.6262569579,\n",
       " 639069.7931925094,\n",
       " 646403.2869488711,\n",
       " 633001.2776604847,\n",
       " 630313.7184607713,\n",
       " 646513.3386716382,\n",
       " 627669.356216499,\n",
       " 629370.5470539546,\n",
       " 627192.7119622371,\n",
       " 635759.0587269781,\n",
       " 630882.6326171274,\n",
       " 650758.5835286381,\n",
       " 635201.5251343407,\n",
       " 640951.4657944004,\n",
       " 640417.9153399045,\n",
       " 632588.0910932518,\n",
       " 626044.3042284504,\n",
       " 633926.9636250541,\n",
       " 636223.0117886034,\n",
       " 629473.0901319702]"
      ]
     },
     "execution_count": 152,
     "metadata": {},
     "output_type": "execute_result"
    }
   ],
   "source": [
    "link_day_minute_Jan_dict_JSON_['link_3_9'] ['AM_flow_minute']"
   ]
  },
  {
   "cell_type": "code",
   "execution_count": null,
   "metadata": {
    "collapsed": true
   },
   "outputs": [],
   "source": []
  }
 ],
 "metadata": {
  "kernelspec": {
   "display_name": "Python 2",
   "language": "python",
   "name": "python2"
  },
  "language_info": {
   "codemirror_mode": {
    "name": "ipython",
    "version": 2
   },
   "file_extension": ".py",
   "mimetype": "text/x-python",
   "name": "python",
   "nbconvert_exporter": "python",
   "pygments_lexer": "ipython2",
   "version": "2.7.11"
  }
 },
 "nbformat": 4,
 "nbformat_minor": 0
}
