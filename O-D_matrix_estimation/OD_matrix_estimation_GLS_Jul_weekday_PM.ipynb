{
 "cells": [
  {
   "cell_type": "code",
   "execution_count": 1,
   "metadata": {
    "collapsed": true
   },
   "outputs": [],
   "source": [
    "%run ../Python_files/util_data_storage_and_load.py"
   ]
  },
  {
   "cell_type": "code",
   "execution_count": 2,
   "metadata": {
    "collapsed": true
   },
   "outputs": [],
   "source": [
    "%run ../Python_files/load_dicts.py"
   ]
  },
  {
   "cell_type": "code",
   "execution_count": 3,
   "metadata": {
    "collapsed": false
   },
   "outputs": [],
   "source": [
    "%run ../Python_files/util.py"
   ]
  },
  {
   "cell_type": "code",
   "execution_count": 4,
   "metadata": {
    "collapsed": true
   },
   "outputs": [],
   "source": [
    "# load logit_route_choice_probability_matrix\n",
    "P = zload('../temp_files/logit_route_choice_probability_matrix.pkz')"
   ]
  },
  {
   "cell_type": "code",
   "execution_count": 5,
   "metadata": {
    "collapsed": false
   },
   "outputs": [],
   "source": [
    "import numpy as np\n",
    "from numpy.linalg import inv\n",
    "\n",
    "P = np.matrix(P)"
   ]
  },
  {
   "cell_type": "code",
   "execution_count": 6,
   "metadata": {
    "collapsed": false
   },
   "outputs": [
    {
     "data": {
      "text/plain": [
       "(56, 140)"
      ]
     },
     "execution_count": 6,
     "metadata": {},
     "output_type": "execute_result"
    }
   ],
   "source": [
    "np.size(P, 0), np.size(P, 1)"
   ]
  },
  {
   "cell_type": "code",
   "execution_count": 7,
   "metadata": {
    "collapsed": true
   },
   "outputs": [],
   "source": [
    "import numpy as np\n",
    "from numpy.linalg import inv\n",
    "\n",
    "def samp_cov(x):\n",
    "    \"\"\"\n",
    "    x: sample matrix, each column is a link flow vector sample; 24 * K\n",
    "    K: number of samples\n",
    "    S: sample covariance matrix\n",
    "    ----------------\n",
    "    return: inv(S)\n",
    "    ----------------\n",
    "    \"\"\"\n",
    "    x = np.matrix(x)\n",
    "    K = np.size(x, 1)\n",
    "    x_mean = sum(x[:,k] for k in range(K)) / K\n",
    "    S = sum(np.dot(x[:,k] - x_mean, np.transpose(x[:,k] - x_mean)) for k in range(K)) / (K - 1)\n",
    "    return S"
   ]
  },
  {
   "cell_type": "code",
   "execution_count": 8,
   "metadata": {
    "collapsed": false
   },
   "outputs": [],
   "source": [
    "# load path-link incidence matrix\n",
    "A = zload('../temp_files/path-link_incidence_matrix.pkz')"
   ]
  },
  {
   "cell_type": "code",
   "execution_count": 9,
   "metadata": {
    "collapsed": false
   },
   "outputs": [],
   "source": [
    "# load link counts data\n",
    "\n",
    "import json\n",
    "\n",
    "with open('../temp_files/link_day_minute_Jul_dict_JSON.json', 'r') as json_file:\n",
    "    link_day_minute_Jul_dict_JSON = json.load(json_file)"
   ]
  },
  {
   "cell_type": "code",
   "execution_count": 11,
   "metadata": {
    "collapsed": true
   },
   "outputs": [],
   "source": [
    "week_day_Jul_list = [2, 3, 4, 5, 6, 9, 10, 11, 12, 13, 16, 17, 18, 19, 20, 23, 24, 25, 26, 27, 30, 31]\n",
    "#week_day_Jul_list = [2, 9, 16, 23, 30]"
   ]
  },
  {
   "cell_type": "code",
   "execution_count": 12,
   "metadata": {
    "collapsed": false
   },
   "outputs": [],
   "source": [
    "link_day_minute_Jul_list = []\n",
    "for link_idx in range(24):\n",
    "    for day in week_day_Jul_list: \n",
    "        for minute_idx in range(120):\n",
    "            key = 'link_' + str(link_idx) + '_' + str(day)\n",
    "            link_day_minute_Jul_list.append(link_day_minute_Jul_dict_JSON[key] ['PM_flow_minute'][minute_idx])"
   ]
  },
  {
   "cell_type": "code",
   "execution_count": 13,
   "metadata": {
    "collapsed": false
   },
   "outputs": [
    {
     "data": {
      "text/plain": [
       "63360"
      ]
     },
     "execution_count": 13,
     "metadata": {},
     "output_type": "execute_result"
    }
   ],
   "source": [
    "len(link_day_minute_Jul_list)"
   ]
  },
  {
   "cell_type": "code",
   "execution_count": 14,
   "metadata": {
    "collapsed": false
   },
   "outputs": [],
   "source": [
    "x = np.matrix(link_day_minute_Jul_list)\n",
    "x = np.matrix.reshape(x, 24, 2640)\n",
    "\n",
    "x = np.nan_to_num(x)\n",
    "y = np.array(np.transpose(x))\n",
    "y = y[np.all(y != 0, axis=1)]\n",
    "x = np.transpose(y)\n",
    "x = np.matrix(x)"
   ]
  },
  {
   "cell_type": "code",
   "execution_count": 15,
   "metadata": {
    "collapsed": false
   },
   "outputs": [
    {
     "data": {
      "text/plain": [
       "(24, 2640)"
      ]
     },
     "execution_count": 15,
     "metadata": {},
     "output_type": "execute_result"
    }
   ],
   "source": [
    "np.size(x, 0), np.size(x, 1)"
   ]
  },
  {
   "cell_type": "code",
   "execution_count": 16,
   "metadata": {
    "collapsed": false
   },
   "outputs": [
    {
     "data": {
      "text/plain": [
       "matrix([[  4720.00071095,   3100.27391698],\n",
       "        [  2161.24531072,   2661.45999365],\n",
       "        [  3682.67741879,   4208.65840104],\n",
       "        [  5194.35658607,   4730.62857294],\n",
       "        [  4573.09361897,   4322.41614521],\n",
       "        [  3221.91848896,   1923.282846  ],\n",
       "        [  2752.2583681 ,   2551.6043617 ],\n",
       "        [  2966.27422946,   4172.52298046],\n",
       "        [ 11229.22412555,  10254.43462874],\n",
       "        [  6265.23773967,   8857.20794618],\n",
       "        [ 14992.6164319 ,  15443.65795142],\n",
       "        [  5630.58999872,   5275.80607693],\n",
       "        [  3084.27369578,   1896.94854445],\n",
       "        [  3310.3345766 ,   1643.36468926],\n",
       "        [  3930.91403416,   2752.79628201],\n",
       "        [  2661.34241823,   1899.00605027],\n",
       "        [  1555.34068427,   2547.98846192],\n",
       "        [  2830.42313638,   3866.60188706],\n",
       "        [  2736.16094686,   2692.27605279],\n",
       "        [  7570.24907376,   8205.13340514],\n",
       "        [ 10558.79114216,   8494.25636705],\n",
       "        [ 10567.88798277,  10815.86736943],\n",
       "        [  5926.75993551,   2098.73102577],\n",
       "        [  8922.52956625,   8556.94101107]])"
      ]
     },
     "execution_count": 16,
     "metadata": {},
     "output_type": "execute_result"
    }
   ],
   "source": [
    "x[:,:2]"
   ]
  },
  {
   "cell_type": "code",
   "execution_count": 17,
   "metadata": {
    "collapsed": false
   },
   "outputs": [
    {
     "data": {
      "text/plain": [
       "(24, 140)"
      ]
     },
     "execution_count": 17,
     "metadata": {},
     "output_type": "execute_result"
    }
   ],
   "source": [
    "np.size(A,0), np.size(A,1)"
   ]
  },
  {
   "cell_type": "code",
   "execution_count": 18,
   "metadata": {
    "collapsed": false
   },
   "outputs": [
    {
     "name": "stdout",
     "output_type": "stream",
     "text": [
      "Optimize a model with 56 rows, 56 columns and 56 nonzeros\n",
      "Model has 1596 quadratic objective terms\n",
      "Coefficient statistics:\n",
      "  Matrix range    [1e+00, 1e+00]\n",
      "  Objective range [8e-02, 3e+01]\n",
      "  Bounds range    [0e+00, 0e+00]\n",
      "  RHS range       [0e+00, 0e+00]\n",
      "Presolve removed 56 rows and 0 columns\n",
      "Presolve time: 0.00s\n",
      "Presolved: 0 rows, 56 columns, 0 nonzeros\n",
      "Presolved model has 1596 quadratic objective terms\n",
      "Ordering time: 0.00s\n",
      "\n",
      "Barrier statistics:\n",
      " Free vars  : 24\n",
      " AA' NZ     : 2.760e+02\n",
      " Factor NZ  : 3.000e+02\n",
      " Factor Ops : 4.900e+03 (less than 1 second per iteration)\n",
      " Threads    : 1\n",
      "\n",
      "                  Objective                Residual\n",
      "Iter       Primal          Dual         Primal    Dual     Compl     Time\n",
      "   0  -2.80462147e+06  0.00000000e+00  4.49e+03 2.41e+02  9.20e+05     0s\n",
      "   1   8.05395124e+05 -2.17699851e+06  7.53e+02 1.52e+02  2.09e+05     0s\n",
      "   2   4.34553443e+05 -1.09586597e+06  7.53e-04 1.14e-13  2.73e+04     0s\n",
      "   3  -9.95346090e+04 -3.08644926e+05  7.53e-10 5.68e-14  3.73e+03     0s\n",
      "   4  -1.56891565e+05 -1.81748098e+05  4.41e-12 5.68e-14  4.44e+02     0s\n",
      "   5  -1.61891968e+05 -1.63791361e+05  2.10e-12 5.68e-14  3.39e+01     0s\n",
      "   6  -1.62239079e+05 -1.62317840e+05  2.17e-11 1.14e-13  1.41e+00     0s\n",
      "   7  -1.62271279e+05 -1.62290837e+05  1.03e-11 8.53e-14  3.49e-01     0s\n",
      "   8  -1.62278170e+05 -1.62279881e+05  6.47e-12 8.53e-14  3.06e-02     0s\n",
      "   9  -1.62279132e+05 -1.62279181e+05  6.31e-12 5.68e-14  8.72e-04     0s\n",
      "  10  -1.62279161e+05 -1.62279162e+05  2.15e-11 2.84e-14  2.91e-05     0s\n",
      "  11  -1.62279161e+05 -1.62279161e+05  1.70e-12 1.14e-13  1.36e-07     0s\n",
      "  12  -1.62279161e+05 -1.62279161e+05  1.47e-12 1.43e-11  2.09e-08     0s\n",
      "  13  -1.62279161e+05 -1.62279161e+05  5.54e-13 5.49e-11  7.50e-10     0s\n",
      "\n",
      "Barrier solved model in 13 iterations and 0.02 seconds\n",
      "Optimal objective -1.62279161e+05\n",
      "\n",
      "lam_0 2.63453e-09\n",
      "lam_1 6668.48\n",
      "lam_2 2.92832e-09\n",
      "lam_3 193.317\n",
      "lam_4 3430.15\n",
      "lam_5 1.55514e-06\n",
      "lam_6 5.64104e-07\n",
      "lam_7 9.86731e-05\n",
      "lam_8 1.18134e-08\n",
      "lam_9 6180.08\n",
      "lam_10 1.18134e-08\n",
      "lam_11 1.18134e-08\n",
      "lam_12 1.17244e-08\n",
      "lam_13 1.17916e-08\n",
      "lam_14 6075.43\n",
      "lam_15 1215.94\n",
      "lam_16 0.704274\n",
      "lam_17 8593.51\n",
      "lam_18 8171.49\n",
      "lam_19 4976.76\n",
      "lam_20 1.5556e-06\n",
      "lam_21 1613.24\n",
      "lam_22 4782.58\n",
      "lam_23 671.349\n",
      "lam_24 1389.69\n",
      "lam_25 939.699\n",
      "lam_26 8.91606e-07\n",
      "lam_27 1986.99\n",
      "lam_28 0.260634\n",
      "lam_29 0.305787\n",
      "lam_30 1809.57\n",
      "lam_31 7548.04\n",
      "lam_32 5793.7\n",
      "lam_33 8.82669e-07\n",
      "lam_34 8.83117e-07\n",
      "lam_35 3.77878e-07\n",
      "lam_36 3.77878e-07\n",
      "lam_37 3.79441e-07\n",
      "lam_38 0.813634\n",
      "lam_39 5341.12\n",
      "lam_40 8087.95\n",
      "lam_41 1043.21\n",
      "lam_42 8.10589e-07\n",
      "lam_43 8.10589e-07\n",
      "lam_44 14408.7\n",
      "lam_45 4.6486\n",
      "lam_46 1608.23\n",
      "lam_47 2723.92\n",
      "lam_48 1342.29\n",
      "lam_49 8.12822e-07\n",
      "lam_50 8.19583e-07\n",
      "lam_51 8.10867e-07\n",
      "lam_52 2476.23\n",
      "lam_53 1850.56\n",
      "lam_54 1188.19\n",
      "lam_55 1964.94\n",
      "Obj: -162266\n"
     ]
    }
   ],
   "source": [
    "from gurobipy import *\n",
    "\n",
    "L = 56  # dimension of lam\n",
    "\n",
    "K = np.size(x, 1)\n",
    "S = samp_cov(x)\n",
    "inv_S = inv(S)\n",
    "\n",
    "A_t = np.transpose(A)\n",
    "P_t = np.transpose(P)\n",
    "# PA'\n",
    "PA_t = np.dot(P, A_t)\n",
    "# AP_t\n",
    "AP_t = np.transpose(PA_t)\n",
    "\n",
    "Q = np.dot(np.dot(PA_t, inv_S), AP_t)\n",
    "b = sum([np.dot(np.dot(PA_t, inv_S), x[:, k]) for k in range(K)])\n",
    "\n",
    "\n",
    "model = Model(\"OD_matrix_estimation\")\n",
    "\n",
    "lam = []\n",
    "for l in range(L):\n",
    "    lam.append(model.addVar(name='lam_' + str(l)))\n",
    "\n",
    "model.update() \n",
    "\n",
    "# Set objective: (K/2) lam' * Q * lam - b' * lam\n",
    "obj = 0\n",
    "for i in range(L):\n",
    "    for j in range(L):\n",
    "        obj += (1.0 /2) * K * lam[i] * Q[i, j] * lam[j]\n",
    "for l in range(L):\n",
    "    obj += - b[l] * lam[l]\n",
    "model.setObjective(obj)\n",
    "\n",
    "# Add constraint: lam >= 0\n",
    "for l in range(L):\n",
    "    model.addConstr(lam[l] >= 0)\n",
    "\n",
    "model.update() \n",
    "\n",
    "model.optimize()\n",
    "\n",
    "lam_list = []\n",
    "for v in model.getVars():\n",
    "    print('%s %g' % (v.varName, v.x))\n",
    "    lam_list.append(v.x)\n",
    "print('Obj: %g' % obj.getValue())"
   ]
  },
  {
   "cell_type": "code",
   "execution_count": 19,
   "metadata": {
    "collapsed": false
   },
   "outputs": [],
   "source": [
    "# write estimation result to file\n",
    "n = 8  # number of nodes\n",
    "with open('../temp_files/OD_demand_matrix_Jul_weekday_PM.txt', 'w') as the_file:\n",
    "    idx = 0\n",
    "    for i in range(n + 1)[1:]:\n",
    "        for j in range(n + 1)[1:]:\n",
    "            if i != j: \n",
    "                the_file.write(\"%d,%d,%f\\n\" %(i, j, lam_list[idx]))\n",
    "                idx += 1"
   ]
  },
  {
   "cell_type": "code",
   "execution_count": 20,
   "metadata": {
    "collapsed": false
   },
   "outputs": [
    {
     "data": {
      "text/plain": [
       "[2.6345339860918783e-09,\n",
       " 6668.481500814973,\n",
       " 2.928315951587706e-09,\n",
       " 193.31657858277595,\n",
       " 3430.14648245008,\n",
       " 1.5551429316610488e-06,\n",
       " 5.641035728977525e-07,\n",
       " 9.867312918222879e-05,\n",
       " 1.181344247512724e-08,\n",
       " 6180.08129923317,\n",
       " 1.1813442463195616e-08,\n",
       " 1.1813442470354739e-08,\n",
       " 1.1724379734147336e-08,\n",
       " 1.17916120421446e-08,\n",
       " 6075.425897317694,\n",
       " 1215.9407120264586,\n",
       " 0.7042741739928395,\n",
       " 8593.510043313747,\n",
       " 8171.489476738776,\n",
       " 4976.757167387854,\n",
       " 1.5556026900164996e-06,\n",
       " 1613.237965715643,\n",
       " 4782.578253862286,\n",
       " 671.3488494169596,\n",
       " 1389.6887577756406,\n",
       " 939.6991365260028,\n",
       " 8.916059893212488e-07,\n",
       " 1986.9859496369147,\n",
       " 0.26063418299503116,\n",
       " 0.30578747386506855,\n",
       " 1809.5725906600524,\n",
       " 7548.036288637269,\n",
       " 5793.702733383603,\n",
       " 8.826690607135152e-07,\n",
       " 8.831172649072892e-07,\n",
       " 3.778784537184363e-07,\n",
       " 3.778784084276693e-07,\n",
       " 3.794409279743039e-07,\n",
       " 0.8136343689901011,\n",
       " 5341.12484741988,\n",
       " 8087.94639947922,\n",
       " 1043.210855178886,\n",
       " 8.105891366854545e-07,\n",
       " 8.105889253313642e-07,\n",
       " 14408.669854546124,\n",
       " 4.64859595325936,\n",
       " 1608.228026769306,\n",
       " 2723.9163148094713,\n",
       " 1342.2858098012996,\n",
       " 8.128219252727648e-07,\n",
       " 8.195827435899283e-07,\n",
       " 8.108670399213903e-07,\n",
       " 2476.231350007221,\n",
       " 1850.5604244146043,\n",
       " 1188.1861229635567,\n",
       " 1964.9386097557717]"
      ]
     },
     "execution_count": 20,
     "metadata": {},
     "output_type": "execute_result"
    }
   ],
   "source": [
    "lam_list"
   ]
  },
  {
   "cell_type": "code",
   "execution_count": null,
   "metadata": {
    "collapsed": true
   },
   "outputs": [],
   "source": []
  }
 ],
 "metadata": {
  "kernelspec": {
   "display_name": "Python 2",
   "language": "python",
   "name": "python2"
  },
  "language_info": {
   "codemirror_mode": {
    "name": "ipython",
    "version": 2
   },
   "file_extension": ".py",
   "mimetype": "text/x-python",
   "name": "python",
   "nbconvert_exporter": "python",
   "pygments_lexer": "ipython2",
   "version": "2.7.11"
  }
 },
 "nbformat": 4,
 "nbformat_minor": 0
}
