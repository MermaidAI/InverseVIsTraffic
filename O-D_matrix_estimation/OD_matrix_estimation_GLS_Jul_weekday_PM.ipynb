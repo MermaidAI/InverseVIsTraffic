{
 "cells": [
  {
   "cell_type": "code",
   "execution_count": 1,
   "metadata": {
    "collapsed": true
   },
   "outputs": [],
   "source": [
    "%run ../Python_files/util_data_storage_and_load.py"
   ]
  },
  {
   "cell_type": "code",
   "execution_count": 2,
   "metadata": {
    "collapsed": true
   },
   "outputs": [],
   "source": [
    "%run ../Python_files/load_dicts.py"
   ]
  },
  {
   "cell_type": "code",
   "execution_count": 3,
   "metadata": {
    "collapsed": false
   },
   "outputs": [],
   "source": [
    "%run ../Python_files/util.py"
   ]
  },
  {
   "cell_type": "code",
   "execution_count": 4,
   "metadata": {
    "collapsed": true
   },
   "outputs": [],
   "source": [
    "# load logit_route_choice_probability_matrix\n",
    "P = zload('../temp_files/logit_route_choice_probability_matrix.pkz')"
   ]
  },
  {
   "cell_type": "code",
   "execution_count": 5,
   "metadata": {
    "collapsed": false
   },
   "outputs": [],
   "source": [
    "import numpy as np\n",
    "from numpy.linalg import inv\n",
    "\n",
    "P = np.matrix(P)"
   ]
  },
  {
   "cell_type": "code",
   "execution_count": 6,
   "metadata": {
    "collapsed": false
   },
   "outputs": [
    {
     "data": {
      "text/plain": [
       "(56, 140)"
      ]
     },
     "execution_count": 6,
     "metadata": {},
     "output_type": "execute_result"
    }
   ],
   "source": [
    "np.size(P, 0), np.size(P, 1)"
   ]
  },
  {
   "cell_type": "code",
   "execution_count": 7,
   "metadata": {
    "collapsed": true
   },
   "outputs": [],
   "source": [
    "import numpy as np\n",
    "from numpy.linalg import inv\n",
    "\n",
    "def samp_cov(x):\n",
    "    \"\"\"\n",
    "    x: sample matrix, each column is a link flow vector sample; 24 * K\n",
    "    K: number of samples\n",
    "    S: sample covariance matrix\n",
    "    ----------------\n",
    "    return: inv(S)\n",
    "    ----------------\n",
    "    \"\"\"\n",
    "    x = np.matrix(x)\n",
    "    K = np.size(x, 1)\n",
    "    x_mean = sum(x[:,k] for k in range(K)) / K\n",
    "    S = sum(np.dot(x[:,k] - x_mean, np.transpose(x[:,k] - x_mean)) for k in range(K)) / (K - 1)\n",
    "    return S"
   ]
  },
  {
   "cell_type": "code",
   "execution_count": 8,
   "metadata": {
    "collapsed": false
   },
   "outputs": [],
   "source": [
    "# load path-link incidence matrix\n",
    "A = zload('../temp_files/path-link_incidence_matrix.pkz')"
   ]
  },
  {
   "cell_type": "code",
   "execution_count": 9,
   "metadata": {
    "collapsed": false
   },
   "outputs": [],
   "source": [
    "# load link counts data\n",
    "\n",
    "import json\n",
    "\n",
    "with open('../temp_files/link_day_minute_Jul_dict_JSON.json', 'r') as json_file:\n",
    "    link_day_minute_Jul_dict_JSON = json.load(json_file)"
   ]
  },
  {
   "cell_type": "code",
   "execution_count": 18,
   "metadata": {
    "collapsed": true
   },
   "outputs": [],
   "source": [
    "#week_day_Jul_list = [2, 3, 4, 5, 6, 9, 10, 11, 12, 13, 16, 17, 18, 19, 20, 23, 24, 25, 26, 27, 30, 31]\n",
    "week_day_Jul_list = [2, 9, 16, 23, 30]"
   ]
  },
  {
   "cell_type": "code",
   "execution_count": 19,
   "metadata": {
    "collapsed": false
   },
   "outputs": [],
   "source": [
    "link_day_minute_Jul_list = []\n",
    "for link_idx in range(24):\n",
    "    for day in week_day_Jul_list: \n",
    "        for minute_idx in range(120):\n",
    "            key = 'link_' + str(link_idx) + '_' + str(day)\n",
    "            link_day_minute_Jul_list.append(link_day_minute_Jul_dict_JSON[key] ['PM_flow_minute'][minute_idx])"
   ]
  },
  {
   "cell_type": "code",
   "execution_count": 20,
   "metadata": {
    "collapsed": false
   },
   "outputs": [
    {
     "data": {
      "text/plain": [
       "14400"
      ]
     },
     "execution_count": 20,
     "metadata": {},
     "output_type": "execute_result"
    }
   ],
   "source": [
    "len(link_day_minute_Jul_list)"
   ]
  },
  {
   "cell_type": "code",
   "execution_count": 21,
   "metadata": {
    "collapsed": false
   },
   "outputs": [],
   "source": [
    "x = np.matrix(link_day_minute_Jul_list)\n",
    "x = np.matrix.reshape(x, 24, 600)\n",
    "\n",
    "x = np.nan_to_num(x)\n",
    "y = np.array(np.transpose(x))\n",
    "y = y[np.all(y != 0, axis=1)]\n",
    "x = np.transpose(y)\n",
    "x = np.matrix(x)"
   ]
  },
  {
   "cell_type": "code",
   "execution_count": 22,
   "metadata": {
    "collapsed": false
   },
   "outputs": [
    {
     "data": {
      "text/plain": [
       "(24, 600)"
      ]
     },
     "execution_count": 22,
     "metadata": {},
     "output_type": "execute_result"
    }
   ],
   "source": [
    "np.size(x, 0), np.size(x, 1)"
   ]
  },
  {
   "cell_type": "code",
   "execution_count": 23,
   "metadata": {
    "collapsed": false
   },
   "outputs": [
    {
     "data": {
      "text/plain": [
       "matrix([[ 1282.49031214,  1234.29593776],\n",
       "        [ 1192.02182961,  1213.71923214],\n",
       "        [ 1472.5629721 ,  1436.70679378],\n",
       "        [ 1495.04134971,  1483.06576028],\n",
       "        [ 1622.07219442,  1603.52930864],\n",
       "        [ 1460.0047391 ,  1390.76279883],\n",
       "        [ 1260.0655806 ,  1254.98473764],\n",
       "        [ 1272.76960344,  1315.77393085],\n",
       "        [ 1359.355558  ,  1388.03683058],\n",
       "        [ 1657.71363566,  1603.15312666],\n",
       "        [ 1532.3011974 ,  1544.73602489],\n",
       "        [ 1150.57500212,  1198.16675689],\n",
       "        [ 1196.3883539 ,  1148.67307418],\n",
       "        [ 1361.80820092,  1298.95813595],\n",
       "        [ 1287.23112097,  1229.97415679],\n",
       "        [ 1020.1848718 ,   441.26046548],\n",
       "        [ 1203.98924648,  1254.45432884],\n",
       "        [ 1272.52641937,  1296.97988453],\n",
       "        [ 1505.25618448,  1462.39140628],\n",
       "        [  801.87718366,   922.25979863],\n",
       "        [ 1307.55706654,  1165.03410251],\n",
       "        [ 1410.96350677,  1333.28527304],\n",
       "        [ 1271.02248225,  1212.2609458 ],\n",
       "        [ 1302.59286008,  1264.85123313]])"
      ]
     },
     "execution_count": 23,
     "metadata": {},
     "output_type": "execute_result"
    }
   ],
   "source": [
    "x[:,:2]"
   ]
  },
  {
   "cell_type": "code",
   "execution_count": 24,
   "metadata": {
    "collapsed": false
   },
   "outputs": [
    {
     "data": {
      "text/plain": [
       "(24, 140)"
      ]
     },
     "execution_count": 24,
     "metadata": {},
     "output_type": "execute_result"
    }
   ],
   "source": [
    "np.size(A,0), np.size(A,1)"
   ]
  },
  {
   "cell_type": "code",
   "execution_count": 25,
   "metadata": {
    "collapsed": false
   },
   "outputs": [
    {
     "name": "stdout",
     "output_type": "stream",
     "text": [
      "Optimize a model with 56 rows, 56 columns and 56 nonzeros\n",
      "Model has 1596 quadratic objective terms\n",
      "Coefficient statistics:\n",
      "  Matrix range    [1e+00, 1e+00]\n",
      "  Objective range [5e+01, 2e+03]\n",
      "  Bounds range    [0e+00, 0e+00]\n",
      "  RHS range       [0e+00, 0e+00]\n",
      "Warning: diagonal adjustment of 4.7e-07 performed to make Q PSD\n",
      "Presolve removed 56 rows and 0 columns\n",
      "Presolve time: 0.00s\n",
      "Presolved: 0 rows, 56 columns, 0 nonzeros\n",
      "Presolved model has 1596 quadratic objective terms\n",
      "Ordering time: 0.00s\n",
      "\n",
      "Barrier statistics:\n",
      " Free vars  : 27\n",
      " AA' NZ     : 3.510e+02\n",
      " Factor NZ  : 3.780e+02\n",
      " Factor Ops : 6.930e+03 (less than 1 second per iteration)\n",
      " Threads    : 1\n",
      "\n",
      "                  Objective                Residual\n",
      "Iter       Primal          Dual         Primal    Dual     Compl     Time\n",
      "   0  -4.71402661e+07  0.00000000e+00  7.06e+03 1.21e+03  1.00e+06     0s\n",
      "   1  -8.28724929e+06 -1.18052812e+07  3.46e+02 5.94e+01  1.62e+05     0s\n",
      "   2  -7.20362423e+06 -8.36478964e+06  2.45e+01 4.20e+00  2.62e+04     0s\n",
      "   3  -7.24852663e+06 -7.41975059e+06  2.45e-05 4.20e-06  3.06e+03     0s\n",
      "   4  -7.27055732e+06 -7.27957949e+06  4.95e-07 8.50e-08  1.61e+02     0s\n",
      "   5  -7.27213377e+06 -7.27278052e+06  4.66e-10 7.91e-11  1.15e+01     0s\n",
      "   6  -7.27220821e+06 -7.27222727e+06  1.91e-10 4.55e-13  3.40e-01     0s\n",
      "   7  -7.27220841e+06 -7.27220884e+06  2.08e-09 4.55e-13  7.68e-03     0s\n",
      "   8  -7.27220847e+06 -7.27220850e+06  1.93e-11 9.09e-13  5.90e-04     0s\n",
      "   9  -7.27220849e+06 -7.27220849e+06  4.32e-11 4.55e-13  2.80e-05     0s\n",
      "  10  -7.27220849e+06 -7.27220849e+06  9.87e-11 9.09e-13  4.96e-06     0s\n",
      "  11  -7.27220849e+06 -7.27220849e+06  1.96e-11 4.55e-13  1.76e-07     0s\n",
      "  12  -7.27220849e+06 -7.27220849e+06  3.41e-12 2.81e-10  3.69e-08     0s\n",
      "  13  -7.27220849e+06 -7.27220849e+06  2.50e-12 2.62e-10  1.63e-09     0s\n",
      "\n",
      "Barrier solved model in 13 iterations and 0.02 seconds\n",
      "Optimal objective -7.27220849e+06\n",
      "\n",
      "lam_0 5.55615e-12\n",
      "lam_1 2646.05\n",
      "lam_2 6.09883e-12\n",
      "lam_3 0.0011503\n",
      "lam_4 0.178087\n",
      "lam_5 0.000468052\n",
      "lam_6 1.84043e-09\n",
      "lam_7 655.19\n",
      "lam_8 0.00704933\n",
      "lam_9 1291.64\n",
      "lam_10 152.03\n",
      "lam_11 0.00704173\n",
      "lam_12 0.000438908\n",
      "lam_13 0.000441641\n",
      "lam_14 591.863\n",
      "lam_15 0.435743\n",
      "lam_16 1023.11\n",
      "lam_17 150.555\n",
      "lam_18 959.877\n",
      "lam_19 0.000468154\n",
      "lam_20 0.000467729\n",
      "lam_21 0.000116488\n",
      "lam_22 1309.07\n",
      "lam_23 262.582\n",
      "lam_24 0.00102918\n",
      "lam_25 807.648\n",
      "lam_26 0.00103959\n",
      "lam_27 1167.48\n",
      "lam_28 393.67\n",
      "lam_29 763.078\n",
      "lam_30 239.229\n",
      "lam_31 0.0205055\n",
      "lam_32 6.70054e-05\n",
      "lam_33 1117.96\n",
      "lam_34 325.574\n",
      "lam_35 992.331\n",
      "lam_36 1.83737\n",
      "lam_37 258.156\n",
      "lam_38 2.8635\n",
      "lam_39 1404.08\n",
      "lam_40 791.095\n",
      "lam_41 256.881\n",
      "lam_42 1.09497e-05\n",
      "lam_43 1.09497e-05\n",
      "lam_44 1.09497e-05\n",
      "lam_45 225.987\n",
      "lam_46 58.2676\n",
      "lam_47 970.02\n",
      "lam_48 627.859\n",
      "lam_49 1.09804e-05\n",
      "lam_50 1.10674e-05\n",
      "lam_51 1.09496e-05\n",
      "lam_52 1217.23\n",
      "lam_53 21.1512\n",
      "lam_54 456.129\n",
      "lam_55 743.468\n",
      "Obj: -7.27221e+06\n"
     ]
    }
   ],
   "source": [
    "from gurobipy import *\n",
    "\n",
    "L = 56  # dimension of lam\n",
    "\n",
    "K = np.size(x, 1)\n",
    "S = samp_cov(x)\n",
    "inv_S = inv(S)\n",
    "\n",
    "A_t = np.transpose(A)\n",
    "P_t = np.transpose(P)\n",
    "# PA'\n",
    "PA_t = np.dot(P, A_t)\n",
    "# AP_t\n",
    "AP_t = np.transpose(PA_t)\n",
    "\n",
    "Q = np.dot(np.dot(PA_t, inv_S), AP_t)\n",
    "b = sum([np.dot(np.dot(PA_t, inv_S), x[:, k]) for k in range(K)])\n",
    "\n",
    "\n",
    "model = Model(\"OD_matrix_estimation\")\n",
    "\n",
    "lam = []\n",
    "for l in range(L):\n",
    "    lam.append(model.addVar(name='lam_' + str(l)))\n",
    "\n",
    "model.update() \n",
    "\n",
    "# Set objective: (K/2) lam' * Q * lam - b * lam\n",
    "obj = 0\n",
    "for i in range(L):\n",
    "    for j in range(L):\n",
    "        obj += (1.0 /2) * K * lam[i] * Q[i, j] * lam[j]\n",
    "for l in range(L):\n",
    "    obj += - b[l] * lam[l]\n",
    "model.setObjective(obj)\n",
    "\n",
    "# Add constraint: lam >= 0\n",
    "for l in range(L):\n",
    "    model.addConstr(lam[l] >= 0)\n",
    "\n",
    "model.update() \n",
    "\n",
    "model.optimize()\n",
    "\n",
    "lam_list = []\n",
    "for v in model.getVars():\n",
    "    print('%s %g' % (v.varName, v.x))\n",
    "    lam_list.append(v.x)\n",
    "print('Obj: %g' % obj.getValue())"
   ]
  },
  {
   "cell_type": "code",
   "execution_count": 26,
   "metadata": {
    "collapsed": false
   },
   "outputs": [],
   "source": [
    "# write estimation result to file\n",
    "n = 8  # number of nodes\n",
    "with open('../temp_files/OD_demand_matrix_Jul_weekday_PM.txt', 'w') as the_file:\n",
    "    idx = 0\n",
    "    for i in range(n + 1)[1:]:\n",
    "        for j in range(n + 1)[1:]:\n",
    "            if i != j: \n",
    "                the_file.write(\"%d,%d,%f\\n\" %(i, j, lam_list[idx]))\n",
    "                idx += 1"
   ]
  },
  {
   "cell_type": "code",
   "execution_count": 27,
   "metadata": {
    "collapsed": false
   },
   "outputs": [
    {
     "data": {
      "text/plain": [
       "[5.556154903070189e-12,\n",
       " 2646.052433425533,\n",
       " 6.098827226346974e-12,\n",
       " 0.0011503002416746108,\n",
       " 0.17808716060451957,\n",
       " 0.0004680521742425267,\n",
       " 1.840429697016467e-09,\n",
       " 655.1904793807379,\n",
       " 0.007049327313584985,\n",
       " 1291.6406603108294,\n",
       " 152.02955006614798,\n",
       " 0.007041730793029832,\n",
       " 0.0004389075858942,\n",
       " 0.0004416406059270881,\n",
       " 591.863146554959,\n",
       " 0.43574310526224325,\n",
       " 1023.1113392984582,\n",
       " 150.5551144107009,\n",
       " 959.8765175436272,\n",
       " 0.00046815380927647116,\n",
       " 0.0004677290647664041,\n",
       " 0.00011648832217857601,\n",
       " 1309.0684658098749,\n",
       " 262.58161491480547,\n",
       " 0.0010291789789719438,\n",
       " 807.6483675209329,\n",
       " 0.0010395900935901703,\n",
       " 1167.4818666377948,\n",
       " 393.6700957140976,\n",
       " 763.0782055670676,\n",
       " 239.22885378389773,\n",
       " 0.020505539182902766,\n",
       " 6.700537982149476e-05,\n",
       " 1117.9639106620975,\n",
       " 325.5736631594198,\n",
       " 992.3313806410487,\n",
       " 1.8373720751088563,\n",
       " 258.1555350431786,\n",
       " 2.8635049273914746,\n",
       " 1404.0779921146861,\n",
       " 791.0952943913877,\n",
       " 256.8808517542495,\n",
       " 1.0949684176273151e-05,\n",
       " 1.0949673227608108e-05,\n",
       " 1.094966135069714e-05,\n",
       " 225.98680506477922,\n",
       " 58.26758145058143,\n",
       " 970.0197830672575,\n",
       " 627.8589959816937,\n",
       " 1.0980434200248896e-05,\n",
       " 1.106740833767706e-05,\n",
       " 1.094960211322452e-05,\n",
       " 1217.2311633784177,\n",
       " 21.151233538141177,\n",
       " 456.1293310939212,\n",
       " 743.4682400442185]"
      ]
     },
     "execution_count": 27,
     "metadata": {},
     "output_type": "execute_result"
    }
   ],
   "source": [
    "lam_list"
   ]
  },
  {
   "cell_type": "code",
   "execution_count": null,
   "metadata": {
    "collapsed": true
   },
   "outputs": [],
   "source": []
  }
 ],
 "metadata": {
  "kernelspec": {
   "display_name": "Python 2",
   "language": "python",
   "name": "python2"
  },
  "language_info": {
   "codemirror_mode": {
    "name": "ipython",
    "version": 2
   },
   "file_extension": ".py",
   "mimetype": "text/x-python",
   "name": "python",
   "nbconvert_exporter": "python",
   "pygments_lexer": "ipython2",
   "version": "2.7.11"
  }
 },
 "nbformat": 4,
 "nbformat_minor": 0
}
