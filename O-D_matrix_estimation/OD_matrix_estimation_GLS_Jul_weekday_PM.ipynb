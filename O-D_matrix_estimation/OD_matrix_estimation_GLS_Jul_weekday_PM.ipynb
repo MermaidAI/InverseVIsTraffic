{
 "cells": [
  {
   "cell_type": "code",
   "execution_count": 1,
   "metadata": {
    "collapsed": true
   },
   "outputs": [],
   "source": [
    "%run ../Python_files/util_data_storage_and_load.py"
   ]
  },
  {
   "cell_type": "code",
   "execution_count": 2,
   "metadata": {
    "collapsed": true
   },
   "outputs": [],
   "source": [
    "%run ../Python_files/load_dicts.py"
   ]
  },
  {
   "cell_type": "code",
   "execution_count": 3,
   "metadata": {
    "collapsed": false
   },
   "outputs": [],
   "source": [
    "%run ../Python_files/util.py"
   ]
  },
  {
   "cell_type": "code",
   "execution_count": 4,
   "metadata": {
    "collapsed": true
   },
   "outputs": [],
   "source": [
    "# load logit_route_choice_probability_matrix\n",
    "P = zload('../temp_files/logit_route_choice_probability_matrix.pkz')"
   ]
  },
  {
   "cell_type": "code",
   "execution_count": 5,
   "metadata": {
    "collapsed": false
   },
   "outputs": [],
   "source": [
    "import numpy as np\n",
    "from numpy.linalg import inv\n",
    "\n",
    "P = np.matrix(P)"
   ]
  },
  {
   "cell_type": "code",
   "execution_count": 6,
   "metadata": {
    "collapsed": false
   },
   "outputs": [
    {
     "data": {
      "text/plain": [
       "(56, 140)"
      ]
     },
     "execution_count": 6,
     "metadata": {},
     "output_type": "execute_result"
    }
   ],
   "source": [
    "np.size(P, 0), np.size(P, 1)"
   ]
  },
  {
   "cell_type": "code",
   "execution_count": 7,
   "metadata": {
    "collapsed": true
   },
   "outputs": [],
   "source": [
    "import numpy as np\n",
    "from numpy.linalg import inv\n",
    "\n",
    "def samp_cov(x):\n",
    "    \"\"\"\n",
    "    x: sample matrix, each column is a link flow vector sample; 24 * K\n",
    "    K: number of samples\n",
    "    S: sample covariance matrix\n",
    "    ----------------\n",
    "    return: inv(S)\n",
    "    ----------------\n",
    "    \"\"\"\n",
    "    x = np.matrix(x)\n",
    "    K = np.size(x, 1)\n",
    "    x_mean = sum(x[:,k] for k in range(K)) / K\n",
    "    S = sum(np.dot(x[:,k] - x_mean, np.transpose(x[:,k] - x_mean)) for k in range(K)) / (K - 1)\n",
    "    return S"
   ]
  },
  {
   "cell_type": "code",
   "execution_count": 8,
   "metadata": {
    "collapsed": false
   },
   "outputs": [],
   "source": [
    "# load path-link incidence matrix\n",
    "A = zload('../temp_files/path-link_incidence_matrix.pkz')"
   ]
  },
  {
   "cell_type": "code",
   "execution_count": 9,
   "metadata": {
    "collapsed": false
   },
   "outputs": [],
   "source": [
    "# load link counts data\n",
    "\n",
    "import json\n",
    "\n",
    "with open('../temp_files/link_day_minute_Jul_dict_JSON.json', 'r') as json_file:\n",
    "    link_day_minute_Jul_dict_JSON = json.load(json_file)"
   ]
  },
  {
   "cell_type": "code",
   "execution_count": 10,
   "metadata": {
    "collapsed": true
   },
   "outputs": [],
   "source": [
    "week_day_Jul_list = [2, 3, 4, 5, 6, 9, 10, 11, 12, 13, 16, 17, 18, 19, 20, 23, 24, 25, 26, 27, 30, 31]"
   ]
  },
  {
   "cell_type": "code",
   "execution_count": 11,
   "metadata": {
    "collapsed": false
   },
   "outputs": [],
   "source": [
    "link_day_minute_Jul_list = []\n",
    "for link_idx in range(24):\n",
    "    for day in week_day_Jul_list: \n",
    "        for minute_idx in range(120):\n",
    "            key = 'link_' + str(link_idx) + '_' + str(day)\n",
    "            link_day_minute_Jul_list.append(link_day_minute_Jul_dict_JSON[key] ['PM_flow_minute'][minute_idx])"
   ]
  },
  {
   "cell_type": "code",
   "execution_count": 12,
   "metadata": {
    "collapsed": false
   },
   "outputs": [
    {
     "data": {
      "text/plain": [
       "63360"
      ]
     },
     "execution_count": 12,
     "metadata": {},
     "output_type": "execute_result"
    }
   ],
   "source": [
    "len(link_day_minute_Jul_list)"
   ]
  },
  {
   "cell_type": "code",
   "execution_count": 13,
   "metadata": {
    "collapsed": false
   },
   "outputs": [],
   "source": [
    "x = np.matrix(link_day_minute_Jul_list)\n",
    "x = np.matrix.reshape(x, 24, 2640)\n",
    "\n",
    "x = np.nan_to_num(x)\n",
    "y = np.array(np.transpose(x))\n",
    "y = y[np.all(y != 0, axis=1)]\n",
    "x = np.transpose(y)\n",
    "x = np.matrix(x)"
   ]
  },
  {
   "cell_type": "code",
   "execution_count": 14,
   "metadata": {
    "collapsed": false
   },
   "outputs": [
    {
     "data": {
      "text/plain": [
       "(24, 2640)"
      ]
     },
     "execution_count": 14,
     "metadata": {},
     "output_type": "execute_result"
    }
   ],
   "source": [
    "np.size(x, 0), np.size(x, 1)"
   ]
  },
  {
   "cell_type": "code",
   "execution_count": 15,
   "metadata": {
    "collapsed": false
   },
   "outputs": [
    {
     "data": {
      "text/plain": [
       "matrix([[ 345370.84266243,  342665.99894833],\n",
       "        [ 345746.23251247,  346284.28258555],\n",
       "        [ 620596.84288011,  619127.94066601],\n",
       "        [ 665444.47618312,  661904.52062703],\n",
       "        [ 176851.19601619,  171276.34189061],\n",
       "        [ 207120.52999045,  201014.94823914],\n",
       "        [ 396369.88731884,  402439.12627338],\n",
       "        [ 405335.12962741,  418074.06936383],\n",
       "        [ 338359.20343074,  342978.63808599],\n",
       "        [ 395401.15335005,  391125.24783867],\n",
       "        [ 428983.30569498,  455566.29955729],\n",
       "        [ 353127.7849623 ,  358448.11355973],\n",
       "        [  94383.74259727,   89424.46592153],\n",
       "        [ 101478.49007601,   98943.95641294],\n",
       "        [ 165000.49323792,  144858.83413119],\n",
       "        [ 151595.76112167,  152648.03137783],\n",
       "        [ 205159.74328156,  210620.20309418],\n",
       "        [ 215668.19526627,  217724.83974359],\n",
       "        [ 366035.72042202,  354082.9977506 ],\n",
       "        [ 275774.75903642,  282746.49135658],\n",
       "        [ 540065.41748488,  534162.16405245],\n",
       "        [ 566368.56227152,  544909.80597268],\n",
       "        [ 135520.72112519,  133944.21511382],\n",
       "        [ 141064.59153665,  135304.28466544]])"
      ]
     },
     "execution_count": 15,
     "metadata": {},
     "output_type": "execute_result"
    }
   ],
   "source": [
    "x[:,:2]"
   ]
  },
  {
   "cell_type": "code",
   "execution_count": 16,
   "metadata": {
    "collapsed": false
   },
   "outputs": [
    {
     "data": {
      "text/plain": [
       "(24, 140)"
      ]
     },
     "execution_count": 16,
     "metadata": {},
     "output_type": "execute_result"
    }
   ],
   "source": [
    "np.size(A,0), np.size(A,1)"
   ]
  },
  {
   "cell_type": "code",
   "execution_count": 17,
   "metadata": {
    "collapsed": false
   },
   "outputs": [
    {
     "name": "stdout",
     "output_type": "stream",
     "text": [
      "Optimize a model with 56 rows, 56 columns and 56 nonzeros\n",
      "Model has 1596 quadratic objective terms\n",
      "Coefficient statistics:\n",
      "  Matrix range    [1e+00, 1e+00]\n",
      "  Objective range [3e-02, 4e+01]\n",
      "  Bounds range    [0e+00, 0e+00]\n",
      "  RHS range       [0e+00, 0e+00]\n",
      "Presolve removed 56 rows and 0 columns\n",
      "Presolve time: 0.00s\n",
      "Presolved: 0 rows, 56 columns, 0 nonzeros\n",
      "Presolved model has 1596 quadratic objective terms\n",
      "Ordering time: 0.00s\n",
      "\n",
      "Barrier statistics:\n",
      " Free vars  : 24\n",
      " AA' NZ     : 2.760e+02\n",
      " Factor NZ  : 3.000e+02\n",
      " Factor Ops : 4.900e+03 (less than 1 second per iteration)\n",
      " Threads    : 1\n",
      "\n",
      "                  Objective                Residual\n",
      "Iter       Primal          Dual         Primal    Dual     Compl     Time\n",
      "   0  -3.52701788e+07  0.00000000e+00  5.02e+03 1.91e+03  1.00e+06     0s\n",
      "   1  -2.56884128e+07 -1.17475445e+07  1.17e+03 4.43e+02  2.60e+05     0s\n",
      "   2  -2.06785548e+07 -2.09658239e+07  8.62e+01 3.28e+01  4.60e+04     0s\n",
      "   3  -2.05634383e+07 -2.08656944e+07  8.62e-05 3.28e-05  5.40e+03     0s\n",
      "   4  -2.06277990e+07 -2.06462691e+07  1.19e-06 4.55e-07  3.30e+02     0s\n",
      "   5  -2.06344303e+07 -2.06393754e+07  7.74e-10 4.55e-13  8.83e+01     0s\n",
      "   6  -2.06354086e+07 -2.06367715e+07  9.94e-11 4.55e-13  2.43e+01     0s\n",
      "   7  -2.06359024e+07 -2.06359621e+07  1.93e-10 4.55e-13  1.07e+00     0s\n",
      "   8  -2.06359287e+07 -2.06359305e+07  1.50e-10 4.55e-13  3.22e-02     0s\n",
      "   9  -2.06359295e+07 -2.06359302e+07  3.98e-10 6.82e-13  1.10e-02     0s\n",
      "  10  -2.06359297e+07 -2.06359298e+07  3.18e-11 6.82e-13  1.95e-04     0s\n",
      "  11  -2.06359298e+07 -2.06359298e+07  1.77e-10 6.82e-13  2.01e-05     0s\n",
      "  12  -2.06359298e+07 -2.06359298e+07  3.11e-10 5.75e-11  2.00e-06     0s\n",
      "  13  -2.06359298e+07 -2.06359298e+07  8.91e-11 3.24e-11  8.13e-09     0s\n",
      "\n",
      "Barrier solved model in 13 iterations and 0.01 seconds\n",
      "Optimal objective -2.06359298e+07\n",
      "\n",
      "lam_0 1.35019e-08\n",
      "lam_1 180476\n",
      "lam_2 64255\n",
      "lam_3 0.00125926\n",
      "lam_4 77296.9\n",
      "lam_5 182401\n",
      "lam_6 0.00119059\n",
      "lam_7 3.51978e-07\n",
      "lam_8 8.36098e-10\n",
      "lam_9 232070\n",
      "lam_10 8.36097e-10\n",
      "lam_11 8.36098e-10\n",
      "lam_12 8.36098e-10\n",
      "lam_13 8.41734e-10\n",
      "lam_14 1.49256\n",
      "lam_15 1.21535e-08\n",
      "lam_16 0.00125446\n",
      "lam_17 0.00126548\n",
      "lam_18 155426\n",
      "lam_19 6.50311e-05\n",
      "lam_20 0.00118625\n",
      "lam_21 176820\n",
      "lam_22 261763\n",
      "lam_23 45260.4\n",
      "lam_24 0.00123488\n",
      "lam_25 0.00142746\n",
      "lam_26 973.505\n",
      "lam_27 184067\n",
      "lam_28 499523\n",
      "lam_29 1.21535e-08\n",
      "lam_30 47959.1\n",
      "lam_31 60586.1\n",
      "lam_32 57420.8\n",
      "lam_33 4.1344e-07\n",
      "lam_34 107538\n",
      "lam_35 283747\n",
      "lam_36 1.21535e-08\n",
      "lam_37 9.78001e-05\n",
      "lam_38 31115.2\n",
      "lam_39 93227.7\n",
      "lam_40 480499\n",
      "lam_41 0.001077\n",
      "lam_42 0.000211524\n",
      "lam_43 1.21528e-08\n",
      "lam_44 1.0848e-05\n",
      "lam_45 0.0286788\n",
      "lam_46 359793\n",
      "lam_47 254711\n",
      "lam_48 0.00109089\n",
      "lam_49 0.000210392\n",
      "lam_50 1.23071e-08\n",
      "lam_51 0.000210467\n",
      "lam_52 187778\n",
      "lam_53 3.55406\n",
      "lam_54 56043.3\n",
      "lam_55 76541.2\n",
      "Obj: -2.06359e+07\n"
     ]
    }
   ],
   "source": [
    "from gurobipy import *\n",
    "\n",
    "L = 56  # dimension of lam\n",
    "\n",
    "K = np.size(x, 1)\n",
    "S = samp_cov(x)\n",
    "inv_S = inv(S)\n",
    "\n",
    "A_t = np.transpose(A)\n",
    "P_t = np.transpose(P)\n",
    "# PA'\n",
    "PA_t = np.dot(P, A_t)\n",
    "# AP_t\n",
    "AP_t = np.transpose(PA_t)\n",
    "\n",
    "Q = np.dot(np.dot(PA_t, inv_S), AP_t)\n",
    "b = sum([np.dot(np.dot(PA_t, inv_S), x[:, k]) for k in range(K)])\n",
    "\n",
    "\n",
    "model = Model(\"OD_matrix_estimation\")\n",
    "\n",
    "lam = []\n",
    "for l in range(L):\n",
    "    lam.append(model.addVar(name='lam_' + str(l)))\n",
    "\n",
    "model.update() \n",
    "\n",
    "# Set objective: (K/2) lam' * Q * lam - b * lam\n",
    "obj = 0\n",
    "for i in range(L):\n",
    "    for j in range(L):\n",
    "        obj += (1.0 /2) * K * lam[i] * Q[i, j] * lam[j]\n",
    "for l in range(L):\n",
    "    obj += - b[l] * lam[l]\n",
    "model.setObjective(obj)\n",
    "\n",
    "# Add constraint: lam >= 0\n",
    "for l in range(L):\n",
    "    model.addConstr(lam[l] >= 0)\n",
    "\n",
    "model.update() \n",
    "\n",
    "model.optimize()\n",
    "\n",
    "lam_list = []\n",
    "for v in model.getVars():\n",
    "    print('%s %g' % (v.varName, v.x))\n",
    "    lam_list.append(v.x)\n",
    "print('Obj: %g' % obj.getValue())"
   ]
  },
  {
   "cell_type": "code",
   "execution_count": 18,
   "metadata": {
    "collapsed": false
   },
   "outputs": [],
   "source": [
    "# write estimation result to file\n",
    "n = 8  # number of nodes\n",
    "with open('../temp_files/OD_demand_matrix_Jul_weekday_PM.txt', 'w') as the_file:\n",
    "    idx = 0\n",
    "    for i in range(n + 1)[1:]:\n",
    "        for j in range(n + 1)[1:]:\n",
    "            if i != j: \n",
    "                the_file.write(\"%d,%d,%f\\n\" %(i, j, lam_list[idx]))\n",
    "                idx += 1"
   ]
  },
  {
   "cell_type": "code",
   "execution_count": 19,
   "metadata": {
    "collapsed": false
   },
   "outputs": [
    {
     "data": {
      "text/plain": [
       "[1.3501946156382637e-08,\n",
       " 180476.18675612108,\n",
       " 64254.99597358357,\n",
       " 0.0012592570161945038,\n",
       " 77296.85901033189,\n",
       " 182401.06071690156,\n",
       " 0.0011905879380243456,\n",
       " 3.519779357612034e-07,\n",
       " 8.360980464028271e-10,\n",
       " 232069.82826963285,\n",
       " 8.360973528494176e-10,\n",
       " 8.360980445159024e-10,\n",
       " 8.360980468058295e-10,\n",
       " 8.41733582546234e-10,\n",
       " 1.4925602746847986,\n",
       " 1.215347235446662e-08,\n",
       " 0.001254455847608582,\n",
       " 0.001265476730953008,\n",
       " 155426.26131111223,\n",
       " 6.503106519875276e-05,\n",
       " 0.0011862521717742602,\n",
       " 176820.16289296816,\n",
       " 261762.7058412137,\n",
       " 45260.36517287859,\n",
       " 0.0012348833238784995,\n",
       " 0.001427456707447483,\n",
       " 973.5049621439566,\n",
       " 184066.8898988616,\n",
       " 499523.3212819144,\n",
       " 1.2153472227884746e-08,\n",
       " 47959.05641355578,\n",
       " 60586.140087371445,\n",
       " 57420.830714460055,\n",
       " 4.134395678696498e-07,\n",
       " 107537.84373047954,\n",
       " 283747.26937405486,\n",
       " 1.2153472342461199e-08,\n",
       " 9.780014352536379e-05,\n",
       " 31115.155008493857,\n",
       " 93227.70245989485,\n",
       " 480498.93670387624,\n",
       " 0.00107699897065483,\n",
       " 0.00021152373136228836,\n",
       " 1.2152774433216341e-08,\n",
       " 1.0847956010483911e-05,\n",
       " 0.02867881937779604,\n",
       " 359792.5983222679,\n",
       " 254711.14427122756,\n",
       " 0.0010908908521440885,\n",
       " 0.00021039205073177664,\n",
       " 1.2307069110302316e-08,\n",
       " 0.00021046748318186148,\n",
       " 187778.43080743018,\n",
       " 3.5540557321910455,\n",
       " 56043.27713804797,\n",
       " 76541.18172780414]"
      ]
     },
     "execution_count": 19,
     "metadata": {},
     "output_type": "execute_result"
    }
   ],
   "source": [
    "lam_list"
   ]
  },
  {
   "cell_type": "code",
   "execution_count": null,
   "metadata": {
    "collapsed": true
   },
   "outputs": [],
   "source": []
  }
 ],
 "metadata": {
  "kernelspec": {
   "display_name": "Python 2",
   "language": "python",
   "name": "python2"
  },
  "language_info": {
   "codemirror_mode": {
    "name": "ipython",
    "version": 2
   },
   "file_extension": ".py",
   "mimetype": "text/x-python",
   "name": "python",
   "nbconvert_exporter": "python",
   "pygments_lexer": "ipython2",
   "version": "2.7.11"
  }
 },
 "nbformat": 4,
 "nbformat_minor": 0
}
