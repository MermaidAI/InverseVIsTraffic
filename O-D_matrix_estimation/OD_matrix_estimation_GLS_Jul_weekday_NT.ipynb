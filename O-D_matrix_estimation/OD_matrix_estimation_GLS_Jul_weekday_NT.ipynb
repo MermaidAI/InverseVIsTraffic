{
 "cells": [
  {
   "cell_type": "code",
   "execution_count": 1,
   "metadata": {
    "collapsed": true
   },
   "outputs": [],
   "source": [
    "%run ../Python_files/util_data_storage_and_load.py"
   ]
  },
  {
   "cell_type": "code",
   "execution_count": 2,
   "metadata": {
    "collapsed": true
   },
   "outputs": [],
   "source": [
    "%run ../Python_files/load_dicts.py"
   ]
  },
  {
   "cell_type": "code",
   "execution_count": 3,
   "metadata": {
    "collapsed": false
   },
   "outputs": [],
   "source": [
    "%run ../Python_files/util.py"
   ]
  },
  {
   "cell_type": "code",
   "execution_count": 4,
   "metadata": {
    "collapsed": true
   },
   "outputs": [],
   "source": [
    "# load logit_route_choice_probability_matrix\n",
    "P = zload('../temp_files/logit_route_choice_probability_matrix.pkz')"
   ]
  },
  {
   "cell_type": "code",
   "execution_count": 5,
   "metadata": {
    "collapsed": false
   },
   "outputs": [],
   "source": [
    "import numpy as np\n",
    "from numpy.linalg import inv\n",
    "\n",
    "P = np.matrix(P)"
   ]
  },
  {
   "cell_type": "code",
   "execution_count": 6,
   "metadata": {
    "collapsed": false
   },
   "outputs": [
    {
     "data": {
      "text/plain": [
       "(56, 140)"
      ]
     },
     "execution_count": 6,
     "metadata": {},
     "output_type": "execute_result"
    }
   ],
   "source": [
    "np.size(P, 0), np.size(P, 1)"
   ]
  },
  {
   "cell_type": "code",
   "execution_count": 7,
   "metadata": {
    "collapsed": true
   },
   "outputs": [],
   "source": [
    "import numpy as np\n",
    "from numpy.linalg import inv\n",
    "\n",
    "def samp_cov(x):\n",
    "    \"\"\"\n",
    "    x: sample matrix, each column is a link flow vector sample; 24 * K\n",
    "    K: number of samples\n",
    "    S: sample covariance matrix\n",
    "    ----------------\n",
    "    return: inv(S)\n",
    "    ----------------\n",
    "    \"\"\"\n",
    "    x = np.matrix(x)\n",
    "    K = np.size(x, 1)\n",
    "    x_mean = sum(x[:,k] for k in range(K)) / K\n",
    "    S = sum(np.dot(x[:,k] - x_mean, np.transpose(x[:,k] - x_mean)) for k in range(K)) / (K - 1)\n",
    "    return S"
   ]
  },
  {
   "cell_type": "code",
   "execution_count": 8,
   "metadata": {
    "collapsed": false
   },
   "outputs": [],
   "source": [
    "# load path-link incidence matrix\n",
    "A = zload('../temp_files/path-link_incidence_matrix.pkz')"
   ]
  },
  {
   "cell_type": "code",
   "execution_count": 9,
   "metadata": {
    "collapsed": false
   },
   "outputs": [],
   "source": [
    "# load link counts data\n",
    "\n",
    "import json\n",
    "\n",
    "with open('../temp_files/link_day_minute_Jul_dict_JSON.json', 'r') as json_file:\n",
    "    link_day_minute_Jul_dict_JSON = json.load(json_file)"
   ]
  },
  {
   "cell_type": "code",
   "execution_count": 10,
   "metadata": {
    "collapsed": true
   },
   "outputs": [],
   "source": [
    "week_day_Jul_list = [2, 3, 4, 5, 6, 9, 10, 11, 12, 13, 16, 17, 18, 19, 20, 23, 24, 25, 26, 27, 30, 31]"
   ]
  },
  {
   "cell_type": "code",
   "execution_count": 11,
   "metadata": {
    "collapsed": false
   },
   "outputs": [],
   "source": [
    "link_day_minute_Jul_list = []\n",
    "for link_idx in range(24):\n",
    "    for day in week_day_Jul_list: \n",
    "        for minute_idx in range(120):\n",
    "            key = 'link_' + str(link_idx) + '_' + str(day)\n",
    "            link_day_minute_Jul_list.append(link_day_minute_Jul_dict_JSON[key] ['NT_flow_minute'][minute_idx])"
   ]
  },
  {
   "cell_type": "code",
   "execution_count": 12,
   "metadata": {
    "collapsed": false
   },
   "outputs": [
    {
     "data": {
      "text/plain": [
       "63360"
      ]
     },
     "execution_count": 12,
     "metadata": {},
     "output_type": "execute_result"
    }
   ],
   "source": [
    "len(link_day_minute_Jul_list)"
   ]
  },
  {
   "cell_type": "code",
   "execution_count": 13,
   "metadata": {
    "collapsed": false
   },
   "outputs": [],
   "source": [
    "x = np.matrix(link_day_minute_Jul_list)\n",
    "x = np.matrix.reshape(x, 24, 2640)\n",
    "\n",
    "x = np.nan_to_num(x)\n",
    "y = np.array(np.transpose(x))\n",
    "y = y[np.all(y != 0, axis=1)]\n",
    "x = np.transpose(y)\n",
    "x = np.matrix(x)"
   ]
  },
  {
   "cell_type": "code",
   "execution_count": 14,
   "metadata": {
    "collapsed": false
   },
   "outputs": [
    {
     "data": {
      "text/plain": [
       "(24, 2536)"
      ]
     },
     "execution_count": 14,
     "metadata": {},
     "output_type": "execute_result"
    }
   ],
   "source": [
    "np.size(x, 0), np.size(x, 1)"
   ]
  },
  {
   "cell_type": "code",
   "execution_count": 15,
   "metadata": {
    "collapsed": false
   },
   "outputs": [
    {
     "data": {
      "text/plain": [
       "matrix([[ 3559.18189461,  3579.6042701 ],\n",
       "        [ 3460.49638594,  3406.27419421],\n",
       "        [ 4216.56952174,  4374.53703851],\n",
       "        [ 4365.28530544,  4418.49159572],\n",
       "        [ 4397.76494879,  4446.15681854],\n",
       "        [ 4135.70576372,  4087.35218113],\n",
       "        [ 3739.01149581,  3680.39350638],\n",
       "        [ 3556.60777478,  3641.83364389],\n",
       "        [ 4537.42235617,  4877.20327903],\n",
       "        [ 4791.34114601,  4666.30814367],\n",
       "        [ 4084.9817152 ,  4196.65291013],\n",
       "        [ 3679.9198082 ,  3814.11198208],\n",
       "        [ 3237.95449346,  3347.71075256],\n",
       "        [ 3941.282821  ,  3963.06621888],\n",
       "        [ 3690.83448591,  3586.29128823],\n",
       "        [ 2721.04283702,  2767.8007412 ],\n",
       "        [ 3626.15372335,  3585.20593881],\n",
       "        [ 3634.55878346,  3600.30836366],\n",
       "        [ 4040.96338604,  4053.44806974],\n",
       "        [ 3730.77030338,  3885.95797859],\n",
       "        [ 4009.36162242,  4150.23724302],\n",
       "        [ 3386.51550601,  3854.56400166],\n",
       "        [ 3686.31606317,  3608.7063837 ],\n",
       "        [ 3647.19307872,  3566.63922824]])"
      ]
     },
     "execution_count": 15,
     "metadata": {},
     "output_type": "execute_result"
    }
   ],
   "source": [
    "x[:,:2]"
   ]
  },
  {
   "cell_type": "code",
   "execution_count": 16,
   "metadata": {
    "collapsed": false
   },
   "outputs": [
    {
     "data": {
      "text/plain": [
       "(24, 140)"
      ]
     },
     "execution_count": 16,
     "metadata": {},
     "output_type": "execute_result"
    }
   ],
   "source": [
    "np.size(A,0), np.size(A,1)"
   ]
  },
  {
   "cell_type": "code",
   "execution_count": 17,
   "metadata": {
    "collapsed": false
   },
   "outputs": [
    {
     "name": "stdout",
     "output_type": "stream",
     "text": [
      "Optimize a model with 56 rows, 56 columns and 56 nonzeros\n",
      "Model has 1596 quadratic objective terms\n",
      "Coefficient statistics:\n",
      "  Matrix range    [1e+00, 1e+00]\n",
      "  Objective range [1e+01, 3e+03]\n",
      "  Bounds range    [0e+00, 0e+00]\n",
      "  RHS range       [0e+00, 0e+00]\n",
      "Warning: diagonal adjustment of 6.5e-07 performed to make Q PSD\n",
      "Presolve removed 56 rows and 0 columns\n",
      "Presolve time: 0.00s\n",
      "Presolved: 0 rows, 56 columns, 0 nonzeros\n",
      "Presolved model has 1596 quadratic objective terms\n",
      "Ordering time: 0.00s\n",
      "\n",
      "Barrier statistics:\n",
      " Free vars  : 24\n",
      " AA' NZ     : 2.760e+02\n",
      " Factor NZ  : 3.000e+02\n",
      " Factor Ops : 4.900e+03 (less than 1 second per iteration)\n",
      " Threads    : 1\n",
      "\n",
      "                  Objective                Residual\n",
      "Iter       Primal          Dual         Primal    Dual     Compl     Time\n",
      "   0  -2.93359963e+07  0.00000000e+00  5.65e+03 2.01e+03  1.00e+06     0s\n",
      "   1  -2.16677198e+07 -1.14790593e+07  1.30e+03 4.63e+02  2.89e+05     0s\n",
      "   2  -1.68770696e+07 -1.82131576e+07  4.98e+01 1.77e+01  4.17e+04     0s\n",
      "   3  -1.69579654e+07 -1.71373247e+07  8.01e-01 2.84e-01  3.47e+03     0s\n",
      "   4  -1.69817837e+07 -1.69925060e+07  8.01e-07 2.84e-07  1.91e+02     0s\n",
      "   5  -1.69834064e+07 -1.69841482e+07  2.63e-09 9.48e-10  1.32e+01     0s\n",
      "   6  -1.69835358e+07 -1.69835606e+07  3.75e-09 6.82e-13  4.42e-01     0s\n",
      "   7  -1.69835361e+07 -1.69835371e+07  1.12e-09 9.09e-13  1.76e-02     0s\n",
      "   8  -1.69835362e+07 -1.69835364e+07  1.08e-09 6.82e-13  5.24e-03     0s\n",
      "   9  -1.69835362e+07 -1.69835362e+07  4.66e-11 2.27e-13  2.69e-04     0s\n",
      "  10  -1.69835362e+07 -1.69835362e+07  3.43e-11 4.55e-13  6.38e-05     0s\n",
      "  11  -1.69835362e+07 -1.69835362e+07  1.73e-11 4.55e-13  6.44e-06     0s\n",
      "  12  -1.69835362e+07 -1.69835362e+07  1.50e-11 5.48e-10  1.10e-06     0s\n",
      "  13  -1.69835362e+07 -1.69835362e+07  7.28e-12 4.87e-10  2.72e-07     0s\n",
      "  14  -1.69835362e+07 -1.69835362e+07  6.82e-13 1.61e-10  6.10e-09     0s\n",
      "\n",
      "Barrier solved model in 14 iterations and 0.02 seconds\n",
      "Optimal objective -1.69835362e+07\n",
      "\n",
      "lam_0 2.1242e-11\n",
      "lam_1 1985.32\n",
      "lam_2 2.33167e-11\n",
      "lam_3 5074.87\n",
      "lam_4 0.00147716\n",
      "lam_5 0.0146768\n",
      "lam_6 7.03625e-09\n",
      "lam_7 0.00668312\n",
      "lam_8 0.0072251\n",
      "lam_9 3516.33\n",
      "lam_10 0.00155253\n",
      "lam_11 287.37\n",
      "lam_12 0.00485284\n",
      "lam_13 0.00488167\n",
      "lam_14 3487.05\n",
      "lam_15 1.17648\n",
      "lam_16 0.00246887\n",
      "lam_17 0.00246545\n",
      "lam_18 2274.42\n",
      "lam_19 0.014788\n",
      "lam_20 0.0145139\n",
      "lam_21 2126.1\n",
      "lam_22 1998.42\n",
      "lam_23 1.30236\n",
      "lam_24 488.988\n",
      "lam_25 48.4676\n",
      "lam_26 2405.42\n",
      "lam_27 3506.14\n",
      "lam_28 941.396\n",
      "lam_29 0.131937\n",
      "lam_30 1.58294\n",
      "lam_31 584.123\n",
      "lam_32 3480.67\n",
      "lam_33 1.03978\n",
      "lam_34 1260.1\n",
      "lam_35 0.000133131\n",
      "lam_36 0.000133075\n",
      "lam_37 0.000133115\n",
      "lam_38 2630.29\n",
      "lam_39 0.319233\n",
      "lam_40 3549.36\n",
      "lam_41 261.26\n",
      "lam_42 1142.86\n",
      "lam_43 2524.45\n",
      "lam_44 1.86421\n",
      "lam_45 274.312\n",
      "lam_46 0.256599\n",
      "lam_47 547.292\n",
      "lam_48 329.56\n",
      "lam_49 0.493572\n",
      "lam_50 1.33942\n",
      "lam_51 3311.08\n",
      "lam_52 3720.21\n",
      "lam_53 0.0688582\n",
      "lam_54 0.202447\n",
      "lam_55 0.246802\n",
      "Obj: -1.69835e+07\n"
     ]
    }
   ],
   "source": [
    "from gurobipy import *\n",
    "\n",
    "L = 56  # dimension of lam\n",
    "\n",
    "K = np.size(x, 1)\n",
    "S = samp_cov(x)\n",
    "inv_S = inv(S)\n",
    "\n",
    "A_t = np.transpose(A)\n",
    "P_t = np.transpose(P)\n",
    "# PA'\n",
    "PA_t = np.dot(P, A_t)\n",
    "# AP_t\n",
    "AP_t = np.transpose(PA_t)\n",
    "\n",
    "Q = np.dot(np.dot(PA_t, inv_S), AP_t)\n",
    "b = sum([np.dot(np.dot(PA_t, inv_S), x[:, k]) for k in range(K)])\n",
    "\n",
    "\n",
    "model = Model(\"OD_matrix_estimation\")\n",
    "\n",
    "lam = []\n",
    "for l in range(L):\n",
    "    lam.append(model.addVar(name='lam_' + str(l)))\n",
    "\n",
    "model.update() \n",
    "\n",
    "# Set objective: (K/2) lam' * Q * lam - b * lam\n",
    "obj = 0\n",
    "for i in range(L):\n",
    "    for j in range(L):\n",
    "        obj += (1.0 /2) * K * lam[i] * Q[i, j] * lam[j]\n",
    "for l in range(L):\n",
    "    obj += - b[l] * lam[l]\n",
    "model.setObjective(obj)\n",
    "\n",
    "# Add constraint: lam >= 0\n",
    "for l in range(L):\n",
    "    model.addConstr(lam[l] >= 0)\n",
    "\n",
    "model.update() \n",
    "\n",
    "model.optimize()\n",
    "\n",
    "lam_list = []\n",
    "for v in model.getVars():\n",
    "    print('%s %g' % (v.varName, v.x))\n",
    "    lam_list.append(v.x)\n",
    "print('Obj: %g' % obj.getValue())"
   ]
  },
  {
   "cell_type": "code",
   "execution_count": 18,
   "metadata": {
    "collapsed": false
   },
   "outputs": [],
   "source": [
    "# write estimation result to file\n",
    "n = 8  # number of nodes\n",
    "with open('../temp_files/OD_demand_matrix_Jul_weekday_NT.txt', 'w') as the_file:\n",
    "    idx = 0\n",
    "    for i in range(n + 1)[1:]:\n",
    "        for j in range(n + 1)[1:]:\n",
    "            if i != j: \n",
    "                the_file.write(\"%d,%d,%f\\n\" %(i, j, lam_list[idx]))\n",
    "                idx += 1"
   ]
  },
  {
   "cell_type": "code",
   "execution_count": 19,
   "metadata": {
    "collapsed": false
   },
   "outputs": [
    {
     "data": {
      "text/plain": [
       "[2.124196086811847e-11,\n",
       " 1985.3170680123103,\n",
       " 2.3316673592932125e-11,\n",
       " 5074.872942122316,\n",
       " 0.0014771638591546676,\n",
       " 0.014676779791360173,\n",
       " 7.036245517390779e-09,\n",
       " 0.00668311605587818,\n",
       " 0.007225097955477933,\n",
       " 3516.3256032302284,\n",
       " 0.0015525314704907256,\n",
       " 287.3695703224846,\n",
       " 0.004852842272908053,\n",
       " 0.004881672071982979,\n",
       " 3487.0494269446617,\n",
       " 1.176484031072789,\n",
       " 0.002468871097298486,\n",
       " 0.0024654529303172468,\n",
       " 2274.4173582596945,\n",
       " 0.014787998000615588,\n",
       " 0.014513931632962662,\n",
       " 2126.0968684820787,\n",
       " 1998.418576004191,\n",
       " 1.3023617287052094,\n",
       " 488.9875439029317,\n",
       " 48.46758907128421,\n",
       " 2405.421795603327,\n",
       " 3506.137294333273,\n",
       " 941.3957591970341,\n",
       " 0.13193690371966582,\n",
       " 1.5829409158039738,\n",
       " 584.1230875906646,\n",
       " 3480.6711534533424,\n",
       " 1.0397781242228143,\n",
       " 1260.09888559464,\n",
       " 0.00013313125654795983,\n",
       " 0.00013307525705111376,\n",
       " 0.00013311456726595224,\n",
       " 2630.2928116563685,\n",
       " 0.3192325775245166,\n",
       " 3549.3631312159673,\n",
       " 261.25978860680294,\n",
       " 1142.8554452452317,\n",
       " 2524.451977236823,\n",
       " 1.8642107616942383,\n",
       " 274.3117527765546,\n",
       " 0.2565985731345375,\n",
       " 547.2922394584434,\n",
       " 329.5600501159052,\n",
       " 0.4935719679436872,\n",
       " 1.3394153230256904,\n",
       " 3311.0829039907876,\n",
       " 3720.205690039817,\n",
       " 0.0688581527105383,\n",
       " 0.20244681233138273,\n",
       " 0.24680233003414287]"
      ]
     },
     "execution_count": 19,
     "metadata": {},
     "output_type": "execute_result"
    }
   ],
   "source": [
    "lam_list"
   ]
  },
  {
   "cell_type": "code",
   "execution_count": null,
   "metadata": {
    "collapsed": true
   },
   "outputs": [],
   "source": []
  }
 ],
 "metadata": {
  "kernelspec": {
   "display_name": "Python 2",
   "language": "python",
   "name": "python2"
  },
  "language_info": {
   "codemirror_mode": {
    "name": "ipython",
    "version": 2
   },
   "file_extension": ".py",
   "mimetype": "text/x-python",
   "name": "python",
   "nbconvert_exporter": "python",
   "pygments_lexer": "ipython2",
   "version": "2.7.11"
  }
 },
 "nbformat": 4,
 "nbformat_minor": 0
}
