{
 "cells": [
  {
   "cell_type": "code",
   "execution_count": 1,
   "metadata": {
    "collapsed": true
   },
   "outputs": [],
   "source": [
    "%run ../Python_files/util_data_storage_and_load.py"
   ]
  },
  {
   "cell_type": "code",
   "execution_count": 2,
   "metadata": {
    "collapsed": true
   },
   "outputs": [],
   "source": [
    "%run ../Python_files/load_dicts.py"
   ]
  },
  {
   "cell_type": "code",
   "execution_count": 3,
   "metadata": {
    "collapsed": false
   },
   "outputs": [],
   "source": [
    "%run ../Python_files/util.py"
   ]
  },
  {
   "cell_type": "code",
   "execution_count": 4,
   "metadata": {
    "collapsed": true
   },
   "outputs": [],
   "source": [
    "# load logit_route_choice_probability_matrix\n",
    "P = zload('../temp_files/logit_route_choice_probability_matrix.pkz')"
   ]
  },
  {
   "cell_type": "code",
   "execution_count": 5,
   "metadata": {
    "collapsed": false
   },
   "outputs": [],
   "source": [
    "import numpy as np\n",
    "from numpy.linalg import inv\n",
    "\n",
    "P = np.matrix(P)"
   ]
  },
  {
   "cell_type": "code",
   "execution_count": 6,
   "metadata": {
    "collapsed": false
   },
   "outputs": [
    {
     "data": {
      "text/plain": [
       "(56, 140)"
      ]
     },
     "execution_count": 6,
     "metadata": {},
     "output_type": "execute_result"
    }
   ],
   "source": [
    "np.size(P, 0), np.size(P, 1)"
   ]
  },
  {
   "cell_type": "code",
   "execution_count": 7,
   "metadata": {
    "collapsed": true
   },
   "outputs": [],
   "source": [
    "import numpy as np\n",
    "from numpy.linalg import inv\n",
    "\n",
    "def samp_cov(x):\n",
    "    \"\"\"\n",
    "    x: sample matrix, each column is a link flow vector sample; 24 * K\n",
    "    K: number of samples\n",
    "    S: sample covariance matrix\n",
    "    ----------------\n",
    "    return: inv(S)\n",
    "    ----------------\n",
    "    \"\"\"\n",
    "    x = np.matrix(x)\n",
    "    K = np.size(x, 1)\n",
    "    x_mean = sum(x[:,k] for k in range(K)) / K\n",
    "    S = sum(np.dot(x[:,k] - x_mean, np.transpose(x[:,k] - x_mean)) for k in range(K)) / (K - 1)\n",
    "    return S"
   ]
  },
  {
   "cell_type": "code",
   "execution_count": 8,
   "metadata": {
    "collapsed": false
   },
   "outputs": [],
   "source": [
    "# load path-link incidence matrix\n",
    "A = zload('../temp_files/path-link_incidence_matrix.pkz')"
   ]
  },
  {
   "cell_type": "code",
   "execution_count": 9,
   "metadata": {
    "collapsed": false
   },
   "outputs": [],
   "source": [
    "# load link counts data\n",
    "\n",
    "import json\n",
    "\n",
    "with open('../temp_files/link_day_minute_Jul_dict_JSON.json', 'r') as json_file:\n",
    "    link_day_minute_Jul_dict_JSON = json.load(json_file)"
   ]
  },
  {
   "cell_type": "code",
   "execution_count": 10,
   "metadata": {
    "collapsed": true
   },
   "outputs": [],
   "source": [
    "week_day_Jul_list = [2, 3, 4, 5, 6, 9, 10, 11, 12, 13, 16, 17, 18, 19, 20, 23, 24, 25, 26, 27, 30, 31]"
   ]
  },
  {
   "cell_type": "code",
   "execution_count": 11,
   "metadata": {
    "collapsed": false
   },
   "outputs": [],
   "source": [
    "link_day_minute_Jul_list = []\n",
    "for link_idx in range(24):\n",
    "    for day in week_day_Jul_list: \n",
    "        for minute_idx in range(120):\n",
    "            key = 'link_' + str(link_idx) + '_' + str(day)\n",
    "            link_day_minute_Jul_list.append(link_day_minute_Jul_dict_JSON[key] ['NT_flow_minute'][minute_idx])"
   ]
  },
  {
   "cell_type": "code",
   "execution_count": 12,
   "metadata": {
    "collapsed": false
   },
   "outputs": [
    {
     "data": {
      "text/plain": [
       "63360"
      ]
     },
     "execution_count": 12,
     "metadata": {},
     "output_type": "execute_result"
    }
   ],
   "source": [
    "len(link_day_minute_Jul_list)"
   ]
  },
  {
   "cell_type": "code",
   "execution_count": 13,
   "metadata": {
    "collapsed": false
   },
   "outputs": [],
   "source": [
    "x = np.matrix(link_day_minute_Jul_list)\n",
    "x = np.matrix.reshape(x, 24, 2640)\n",
    "\n",
    "x = np.nan_to_num(x)\n",
    "y = np.array(np.transpose(x))\n",
    "y = y[np.all(y != 0, axis=1)]\n",
    "x = np.transpose(y)\n",
    "x = np.matrix(x)"
   ]
  },
  {
   "cell_type": "code",
   "execution_count": 14,
   "metadata": {
    "collapsed": false
   },
   "outputs": [
    {
     "data": {
      "text/plain": [
       "(24, 2536)"
      ]
     },
     "execution_count": 14,
     "metadata": {},
     "output_type": "execute_result"
    }
   ],
   "source": [
    "np.size(x, 0), np.size(x, 1)"
   ]
  },
  {
   "cell_type": "code",
   "execution_count": 15,
   "metadata": {
    "collapsed": false
   },
   "outputs": [
    {
     "data": {
      "text/plain": [
       "matrix([[  8641.2762886 ,   9699.88216437],\n",
       "        [  9155.4101036 ,   8569.87208871],\n",
       "        [ 10165.94751452,  14097.18782151],\n",
       "        [ 12758.38421662,  14328.8396033 ],\n",
       "        [ 13260.45046225,  14684.90411116],\n",
       "        [ 10680.6785583 ,   9094.56623383],\n",
       "        [ 13103.13309657,  11295.00614952],\n",
       "        [  6944.68018126,   9291.67467512],\n",
       "        [ 18333.56642812,  15171.06160063],\n",
       "        [ 15848.0437538 ,  12327.58221841],\n",
       "        [ 15579.38823825,  18216.90209321],\n",
       "        [ 14544.52661243,  17231.18619011],\n",
       "        [  8967.91444509,   7740.08957176],\n",
       "        [ 14022.96299893,  15783.89328678],\n",
       "        [ 14842.85476081,   9658.34558263],\n",
       "        [  4965.31040117,   8066.19171572],\n",
       "        [ 10502.40728514,   9239.40024648],\n",
       "        [  9925.84183656,   8746.74420354],\n",
       "        [ 13714.99412816,  14637.09856391],\n",
       "        [  6384.16690799,  10483.00408518],\n",
       "        [  8386.74751889,  11856.88784604],\n",
       "        [ 10235.66926152,   8351.95161044],\n",
       "        [ 13562.43580952,  11426.53648473],\n",
       "        [ 11048.66848955,   8478.26974479]])"
      ]
     },
     "execution_count": 15,
     "metadata": {},
     "output_type": "execute_result"
    }
   ],
   "source": [
    "x[:,:2]"
   ]
  },
  {
   "cell_type": "code",
   "execution_count": 16,
   "metadata": {
    "collapsed": false
   },
   "outputs": [
    {
     "data": {
      "text/plain": [
       "(24, 140)"
      ]
     },
     "execution_count": 16,
     "metadata": {},
     "output_type": "execute_result"
    }
   ],
   "source": [
    "np.size(A,0), np.size(A,1)"
   ]
  },
  {
   "cell_type": "code",
   "execution_count": 17,
   "metadata": {
    "collapsed": false
   },
   "outputs": [
    {
     "name": "stdout",
     "output_type": "stream",
     "text": [
      "Optimize a model with 56 rows, 56 columns and 56 nonzeros\n",
      "Model has 1596 quadratic objective terms\n",
      "Coefficient statistics:\n",
      "  Matrix range    [1e+00, 1e+00]\n",
      "  Objective range [5e-03, 1e+01]\n",
      "  Bounds range    [0e+00, 0e+00]\n",
      "  RHS range       [0e+00, 0e+00]\n",
      "Presolve removed 56 rows and 0 columns\n",
      "Presolve time: 0.00s\n",
      "Presolved: 0 rows, 56 columns, 0 nonzeros\n",
      "Presolved model has 1596 quadratic objective terms\n",
      "Ordering time: 0.00s\n",
      "\n",
      "Barrier statistics:\n",
      " Free vars  : 24\n",
      " AA' NZ     : 2.760e+02\n",
      " Factor NZ  : 3.000e+02\n",
      " Factor Ops : 4.900e+03 (less than 1 second per iteration)\n",
      " Threads    : 1\n",
      "\n",
      "                  Objective                Residual\n",
      "Iter       Primal          Dual         Primal    Dual     Compl     Time\n",
      "   0  -2.65894169e+06  0.00000000e+00  3.70e+03 3.04e+02  9.17e+05     0s\n",
      "   1   1.30241916e+06 -2.77723678e+06  3.83e+02 1.02e+02  1.64e+05     0s\n",
      "   2   2.11891849e+05 -1.05946432e+06  3.83e-04 1.14e-13  2.27e+04     0s\n",
      "   3  -2.05666774e+05 -3.73186382e+05  3.83e-10 5.68e-14  2.99e+03     0s\n",
      "   4  -2.46239820e+05 -2.64911612e+05  1.19e-12 5.68e-14  3.33e+02     0s\n",
      "   5  -2.48910911e+05 -2.49837324e+05  7.73e-12 1.14e-13  1.65e+01     0s\n",
      "   6  -2.48952851e+05 -2.49020015e+05  6.14e-12 5.68e-14  1.20e+00     0s\n",
      "   7  -2.48967815e+05 -2.48980746e+05  6.24e-12 8.53e-14  2.31e-01     0s\n",
      "   8  -2.48970730e+05 -2.48972772e+05  2.50e-12 5.68e-14  3.65e-02     0s\n",
      "   9  -2.48971285e+05 -2.48971408e+05  1.53e-12 5.68e-14  2.19e-03     0s\n",
      "  10  -2.48971324e+05 -2.48971328e+05  1.59e-12 5.68e-14  6.66e-05     0s\n",
      "  11  -2.48971325e+05 -2.48971326e+05  2.16e-12 1.14e-13  1.92e-06     0s\n",
      "  12  -2.48971325e+05 -2.48971325e+05  1.91e-12 1.14e-13  6.94e-08     0s\n",
      "  13  -2.48971325e+05 -2.48971325e+05  9.38e-13 2.37e-11  4.82e-09     0s\n",
      "\n",
      "Barrier solved model in 13 iterations and 0.02 seconds\n",
      "Optimal objective -2.48971325e+05\n",
      "\n",
      "lam_0 2.00793e-09\n",
      "lam_1 13320.9\n",
      "lam_2 2.20405e-09\n",
      "lam_3 1472.77\n",
      "lam_4 2849.96\n",
      "lam_5 3.67582e-05\n",
      "lam_6 6.53328e-07\n",
      "lam_7 0.0139189\n",
      "lam_8 1940.39\n",
      "lam_9 11744.3\n",
      "lam_10 855.898\n",
      "lam_11 922.198\n",
      "lam_12 3.67582e-05\n",
      "lam_13 3.69688e-05\n",
      "lam_14 12535.3\n",
      "lam_15 6036.5\n",
      "lam_16 65.8117\n",
      "lam_17 1641.96\n",
      "lam_18 3192.31\n",
      "lam_19 18902.2\n",
      "lam_20 3.67691e-05\n",
      "lam_21 4219.79\n",
      "lam_22 6188.59\n",
      "lam_23 1912.27\n",
      "lam_24 4189.66\n",
      "lam_25 2647.85\n",
      "lam_26 2.10743e-05\n",
      "lam_27 10623.3\n",
      "lam_28 4.07792\n",
      "lam_29 3.84677\n",
      "lam_30 4286.4\n",
      "lam_31 7991.47\n",
      "lam_32 7578.29\n",
      "lam_33 2.0863e-05\n",
      "lam_34 2.08736e-05\n",
      "lam_35 5275.66\n",
      "lam_36 3213.07\n",
      "lam_37 0.000339175\n",
      "lam_38 9.96519\n",
      "lam_39 8045.94\n",
      "lam_40 1936.17\n",
      "lam_41 1790.7\n",
      "lam_42 6.25627e-06\n",
      "lam_43 6.25627e-06\n",
      "lam_44 19640.8\n",
      "lam_45 44.2575\n",
      "lam_46 1521.1\n",
      "lam_47 3.15763e-06\n",
      "lam_48 7865.98\n",
      "lam_49 6.27364e-06\n",
      "lam_50 6.32555e-06\n",
      "lam_51 6.25828e-06\n",
      "lam_52 10070.5\n",
      "lam_53 1268.28\n",
      "lam_54 3.15763e-06\n",
      "lam_55 11198.5\n",
      "Obj: -248954\n"
     ]
    }
   ],
   "source": [
    "from gurobipy import *\n",
    "\n",
    "L = 56  # dimension of lam\n",
    "\n",
    "K = np.size(x, 1)\n",
    "S = samp_cov(x)\n",
    "inv_S = inv(S)\n",
    "\n",
    "A_t = np.transpose(A)\n",
    "P_t = np.transpose(P)\n",
    "# PA'\n",
    "PA_t = np.dot(P, A_t)\n",
    "# AP_t\n",
    "AP_t = np.transpose(PA_t)\n",
    "\n",
    "Q = np.dot(np.dot(PA_t, inv_S), AP_t)\n",
    "b = sum([np.dot(np.dot(PA_t, inv_S), x[:, k]) for k in range(K)])\n",
    "\n",
    "\n",
    "model = Model(\"OD_matrix_estimation\")\n",
    "\n",
    "lam = []\n",
    "for l in range(L):\n",
    "    lam.append(model.addVar(name='lam_' + str(l)))\n",
    "\n",
    "model.update() \n",
    "\n",
    "# Set objective: (K/2) lam' * Q * lam - b' * lam\n",
    "obj = 0\n",
    "for i in range(L):\n",
    "    for j in range(L):\n",
    "        obj += (1.0 /2) * K * lam[i] * Q[i, j] * lam[j]\n",
    "for l in range(L):\n",
    "    obj += - b[l] * lam[l]\n",
    "model.setObjective(obj)\n",
    "\n",
    "# Add constraint: lam >= 0\n",
    "for l in range(L):\n",
    "    model.addConstr(lam[l] >= 0)\n",
    "\n",
    "model.update() \n",
    "\n",
    "model.optimize()\n",
    "\n",
    "lam_list = []\n",
    "for v in model.getVars():\n",
    "    print('%s %g' % (v.varName, v.x))\n",
    "    lam_list.append(v.x)\n",
    "print('Obj: %g' % obj.getValue())"
   ]
  },
  {
   "cell_type": "code",
   "execution_count": 18,
   "metadata": {
    "collapsed": false
   },
   "outputs": [],
   "source": [
    "# write estimation result to file\n",
    "n = 8  # number of nodes\n",
    "with open('../temp_files/OD_demand_matrix_Jul_weekday_NT.txt', 'w') as the_file:\n",
    "    idx = 0\n",
    "    for i in range(n + 1)[1:]:\n",
    "        for j in range(n + 1)[1:]:\n",
    "            if i != j: \n",
    "                the_file.write(\"%d,%d,%f\\n\" %(i, j, lam_list[idx]))\n",
    "                idx += 1"
   ]
  },
  {
   "cell_type": "code",
   "execution_count": 19,
   "metadata": {
    "collapsed": false
   },
   "outputs": [
    {
     "data": {
      "text/plain": [
       "[2.0079347975719333e-09,\n",
       " 13320.875573772373,\n",
       " 2.204050750578914e-09,\n",
       " 1472.7740653715432,\n",
       " 2849.964698580953,\n",
       " 3.675820767829065e-05,\n",
       " 6.533283335169606e-07,\n",
       " 0.013918873957502548,\n",
       " 1940.386799106939,\n",
       " 11744.261203785278,\n",
       " 855.8982726411656,\n",
       " 922.1979426812499,\n",
       " 3.675820789416978e-05,\n",
       " 3.69687577270363e-05,\n",
       " 12535.290635843252,\n",
       " 6036.496277165886,\n",
       " 65.8116751571556,\n",
       " 1641.9564988257914,\n",
       " 3192.30791116154,\n",
       " 18902.16953391642,\n",
       " 3.6769080876745215e-05,\n",
       " 4219.794970089871,\n",
       " 6188.586593116062,\n",
       " 1912.272186739496,\n",
       " 4189.662430372102,\n",
       " 2647.852826460685,\n",
       " 2.1074273150607705e-05,\n",
       " 10623.32844307531,\n",
       " 4.077923404078774,\n",
       " 3.8467692337174526,\n",
       " 4286.402950862192,\n",
       " 7991.473950609282,\n",
       " 7578.288686520654,\n",
       " 2.0863034639778926e-05,\n",
       " 2.0873630852208717e-05,\n",
       " 5275.660684677696,\n",
       " 3213.0651300885806,\n",
       " 0.0003391754634356767,\n",
       " 9.965188272476098,\n",
       " 8045.941461679888,\n",
       " 1936.1715108744595,\n",
       " 1790.6957122732688,\n",
       " 6.256273825279538e-06,\n",
       " 6.256273778051501e-06,\n",
       " 19640.796808271876,\n",
       " 44.25751255189755,\n",
       " 1521.103128985732,\n",
       " 3.1576331165015438e-06,\n",
       " 7865.976124618127,\n",
       " 6.2736432714230255e-06,\n",
       " 6.325552813215687e-06,\n",
       " 6.258280709720124e-06,\n",
       " 10070.544539070232,\n",
       " 1268.2804918508991,\n",
       " 3.1576331156866032e-06,\n",
       " 11198.491882218668]"
      ]
     },
     "execution_count": 19,
     "metadata": {},
     "output_type": "execute_result"
    }
   ],
   "source": [
    "lam_list"
   ]
  },
  {
   "cell_type": "code",
   "execution_count": null,
   "metadata": {
    "collapsed": true
   },
   "outputs": [],
   "source": []
  }
 ],
 "metadata": {
  "kernelspec": {
   "display_name": "Python 2",
   "language": "python",
   "name": "python2"
  },
  "language_info": {
   "codemirror_mode": {
    "name": "ipython",
    "version": 2
   },
   "file_extension": ".py",
   "mimetype": "text/x-python",
   "name": "python",
   "nbconvert_exporter": "python",
   "pygments_lexer": "ipython2",
   "version": "2.7.11"
  }
 },
 "nbformat": 4,
 "nbformat_minor": 0
}
