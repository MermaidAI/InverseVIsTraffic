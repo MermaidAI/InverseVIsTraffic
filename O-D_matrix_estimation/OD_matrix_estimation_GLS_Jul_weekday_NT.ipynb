{
 "cells": [
  {
   "cell_type": "code",
   "execution_count": 1,
   "metadata": {
    "collapsed": true
   },
   "outputs": [],
   "source": [
    "%run ../Python_files/util_data_storage_and_load.py"
   ]
  },
  {
   "cell_type": "code",
   "execution_count": 2,
   "metadata": {
    "collapsed": true
   },
   "outputs": [],
   "source": [
    "%run ../Python_files/load_dicts.py"
   ]
  },
  {
   "cell_type": "code",
   "execution_count": 3,
   "metadata": {
    "collapsed": false
   },
   "outputs": [],
   "source": [
    "%run ../Python_files/util.py"
   ]
  },
  {
   "cell_type": "code",
   "execution_count": 4,
   "metadata": {
    "collapsed": true
   },
   "outputs": [],
   "source": [
    "# load logit_route_choice_probability_matrix\n",
    "P = zload('../temp_files/logit_route_choice_probability_matrix.pkz')"
   ]
  },
  {
   "cell_type": "code",
   "execution_count": 5,
   "metadata": {
    "collapsed": false
   },
   "outputs": [],
   "source": [
    "import numpy as np\n",
    "from numpy.linalg import inv\n",
    "\n",
    "P = np.matrix(P)"
   ]
  },
  {
   "cell_type": "code",
   "execution_count": 6,
   "metadata": {
    "collapsed": false
   },
   "outputs": [
    {
     "data": {
      "text/plain": [
       "(56, 140)"
      ]
     },
     "execution_count": 6,
     "metadata": {},
     "output_type": "execute_result"
    }
   ],
   "source": [
    "np.size(P, 0), np.size(P, 1)"
   ]
  },
  {
   "cell_type": "code",
   "execution_count": 7,
   "metadata": {
    "collapsed": true
   },
   "outputs": [],
   "source": [
    "import numpy as np\n",
    "from numpy.linalg import inv\n",
    "\n",
    "def samp_cov(x):\n",
    "    \"\"\"\n",
    "    x: sample matrix, each column is a link flow vector sample; 24 * K\n",
    "    K: number of samples\n",
    "    S: sample covariance matrix\n",
    "    ----------------\n",
    "    return: inv(S)\n",
    "    ----------------\n",
    "    \"\"\"\n",
    "    x = np.matrix(x)\n",
    "    K = np.size(x, 1)\n",
    "    x_mean = sum(x[:,k] for k in range(K)) / K\n",
    "    S = sum(np.dot(x[:,k] - x_mean, np.transpose(x[:,k] - x_mean)) for k in range(K)) / (K - 1)\n",
    "    return S"
   ]
  },
  {
   "cell_type": "code",
   "execution_count": 8,
   "metadata": {
    "collapsed": false
   },
   "outputs": [],
   "source": [
    "# load path-link incidence matrix\n",
    "A = zload('../temp_files/path-link_incidence_matrix.pkz')"
   ]
  },
  {
   "cell_type": "code",
   "execution_count": 9,
   "metadata": {
    "collapsed": false
   },
   "outputs": [],
   "source": [
    "# load link counts data\n",
    "\n",
    "import json\n",
    "\n",
    "with open('../temp_files/link_day_minute_Jul_dict_JSON.json', 'r') as json_file:\n",
    "    link_day_minute_Jul_dict_JSON = json.load(json_file)"
   ]
  },
  {
   "cell_type": "code",
   "execution_count": 10,
   "metadata": {
    "collapsed": true
   },
   "outputs": [],
   "source": [
    "week_day_Jul_list = [2, 3, 4, 5, 6, 9, 10, 11, 12, 13, 16, 17, 18, 19, 20, 23, 24, 25, 26, 27, 30, 31]"
   ]
  },
  {
   "cell_type": "code",
   "execution_count": 11,
   "metadata": {
    "collapsed": false
   },
   "outputs": [],
   "source": [
    "link_day_minute_Jul_list = []\n",
    "for link_idx in range(24):\n",
    "    for day in week_day_Jul_list: \n",
    "        for minute_idx in range(120):\n",
    "            key = 'link_' + str(link_idx) + '_' + str(day)\n",
    "            link_day_minute_Jul_list.append(link_day_minute_Jul_dict_JSON[key] ['NT_flow_minute'][minute_idx])"
   ]
  },
  {
   "cell_type": "code",
   "execution_count": 12,
   "metadata": {
    "collapsed": false
   },
   "outputs": [
    {
     "data": {
      "text/plain": [
       "63360"
      ]
     },
     "execution_count": 12,
     "metadata": {},
     "output_type": "execute_result"
    }
   ],
   "source": [
    "len(link_day_minute_Jul_list)"
   ]
  },
  {
   "cell_type": "code",
   "execution_count": 13,
   "metadata": {
    "collapsed": false
   },
   "outputs": [],
   "source": [
    "x = np.matrix(link_day_minute_Jul_list)\n",
    "x = np.matrix.reshape(x, 24, 2640)\n",
    "\n",
    "x = np.nan_to_num(x)\n",
    "y = np.array(np.transpose(x))\n",
    "y = y[np.all(y != 0, axis=1)]\n",
    "x = np.transpose(y)\n",
    "x = np.matrix(x)"
   ]
  },
  {
   "cell_type": "code",
   "execution_count": 14,
   "metadata": {
    "collapsed": false
   },
   "outputs": [
    {
     "data": {
      "text/plain": [
       "(24, 2536)"
      ]
     },
     "execution_count": 14,
     "metadata": {},
     "output_type": "execute_result"
    }
   ],
   "source": [
    "np.size(x, 0), np.size(x, 1)"
   ]
  },
  {
   "cell_type": "code",
   "execution_count": 15,
   "metadata": {
    "collapsed": false
   },
   "outputs": [
    {
     "data": {
      "text/plain": [
       "matrix([[  964873.22929516,   972312.17461912],\n",
       "        [  994524.53734304,   986088.26909181],\n",
       "        [ 1788790.21047118,  1825481.53499941],\n",
       "        [ 1913863.27568426,  1930608.06628325],\n",
       "        [  479236.04022847,   483879.15207922],\n",
       "        [  590670.59023864,   591010.11291544],\n",
       "        [ 1191053.3033519 ,  1169782.09708927],\n",
       "        [ 1137483.9931787 ,  1175772.74465763],\n",
       "        [ 1070460.22107145,  1112237.026778  ],\n",
       "        [ 1124795.19429022,  1119924.21221605],\n",
       "        [ 1163233.58191659,  1186122.58699127],\n",
       "        [ 1073910.67932845,  1069992.47063726],\n",
       "        [  255130.71894429,   266958.43308127],\n",
       "        [  293001.21750258,   286483.5685874 ],\n",
       "        [  446125.70709491,   452312.53701773],\n",
       "        [  398664.2214311 ,   371310.22587344],\n",
       "        [  608958.28217456,   614685.86476824],\n",
       "        [  619117.7872288 ,   609439.61846647],\n",
       "        [  999946.46517858,   953982.8869574 ],\n",
       "        [  834231.78932916,   871085.02742496],\n",
       "        [ 1467815.19935094,  1494516.21289404],\n",
       "        [ 1472088.7732079 ,  1469580.27993419],\n",
       "        [  399691.41326543,   393311.49469921],\n",
       "        [  391780.27279122,   385510.76380081]])"
      ]
     },
     "execution_count": 15,
     "metadata": {},
     "output_type": "execute_result"
    }
   ],
   "source": [
    "x[:,:2]"
   ]
  },
  {
   "cell_type": "code",
   "execution_count": 16,
   "metadata": {
    "collapsed": false
   },
   "outputs": [
    {
     "data": {
      "text/plain": [
       "(24, 140)"
      ]
     },
     "execution_count": 16,
     "metadata": {},
     "output_type": "execute_result"
    }
   ],
   "source": [
    "np.size(A,0), np.size(A,1)"
   ]
  },
  {
   "cell_type": "code",
   "execution_count": 17,
   "metadata": {
    "collapsed": false
   },
   "outputs": [
    {
     "name": "stdout",
     "output_type": "stream",
     "text": [
      "Optimize a model with 56 rows, 56 columns and 56 nonzeros\n",
      "Model has 1596 quadratic objective terms\n",
      "Coefficient statistics:\n",
      "  Matrix range    [1e+00, 1e+00]\n",
      "  Objective range [6e-02, 2e+01]\n",
      "  Bounds range    [0e+00, 0e+00]\n",
      "  RHS range       [0e+00, 0e+00]\n",
      "Presolve removed 56 rows and 0 columns\n",
      "Presolve time: 0.00s\n",
      "Presolved: 0 rows, 56 columns, 0 nonzeros\n",
      "Presolved model has 1596 quadratic objective terms\n",
      "Ordering time: 0.00s\n",
      "\n",
      "Barrier statistics:\n",
      " Free vars  : 24\n",
      " AA' NZ     : 2.760e+02\n",
      " Factor NZ  : 3.000e+02\n",
      " Factor Ops : 4.900e+03 (less than 1 second per iteration)\n",
      " Threads    : 1\n",
      "\n",
      "                  Objective                Residual\n",
      "Iter       Primal          Dual         Primal    Dual     Compl     Time\n",
      "   0  -1.09708985e+07  0.00000000e+00  5.74e+03 2.51e+03  1.00e+06     0s\n",
      "   1  -2.43214904e+07 -1.17665792e+07  1.73e+03 7.57e+02  3.72e+05     0s\n",
      "   2  -2.54711496e+07 -2.85621521e+07  7.10e+01 3.11e+01  8.58e+04     0s\n",
      "   3  -2.63145940e+07 -2.69782536e+07  7.10e-05 3.11e-05  1.19e+04     0s\n",
      "   4  -2.64592924e+07 -2.64760696e+07  2.65e-07 1.16e-07  3.00e+02     0s\n",
      "   5  -2.64667528e+07 -2.64700568e+07  2.78e-10 4.55e-13  5.90e+01     0s\n",
      "   6  -2.64676284e+07 -2.64678106e+07  1.18e-10 4.55e-13  3.25e+00     0s\n",
      "   7  -2.64677386e+07 -2.64677593e+07  4.77e-11 9.09e-13  3.69e-01     0s\n",
      "   8  -2.64677464e+07 -2.64677466e+07  5.18e-11 6.82e-13  3.52e-03     0s\n",
      "   9  -2.64677465e+07 -2.64677465e+07  1.64e-11 4.55e-13  3.55e-06     0s\n",
      "  10  -2.64677465e+07 -2.64677465e+07  8.19e-12 1.65e-11  7.41e-09     0s\n",
      "\n",
      "Barrier solved model in 10 iterations and 0.01 seconds\n",
      "Optimal objective -2.64677465e+07\n",
      "\n",
      "lam_0 5.57529e-08\n",
      "lam_1 839568\n",
      "lam_2 21672.7\n",
      "lam_3 48277.5\n",
      "lam_4 105635\n",
      "lam_5 0.00014874\n",
      "lam_6 0.000185208\n",
      "lam_7 1.30695e-07\n",
      "lam_8 3.44521e-09\n",
      "lam_9 735428\n",
      "lam_10 3.44546e-09\n",
      "lam_11 3.44527e-09\n",
      "lam_12 3.44512e-09\n",
      "lam_13 3.46835e-09\n",
      "lam_14 1.42297e+06\n",
      "lam_15 4.51286e-09\n",
      "lam_16 1.91204e-06\n",
      "lam_17 65336.8\n",
      "lam_18 192075\n",
      "lam_19 1.38211e+06\n",
      "lam_20 0.00016007\n",
      "lam_21 372352\n",
      "lam_22 882793\n",
      "lam_23 126841\n",
      "lam_24 6.09106e-05\n",
      "lam_25 7.23722e-05\n",
      "lam_26 2.80428e-05\n",
      "lam_27 560905\n",
      "lam_28 214036\n",
      "lam_29 4.5186e-09\n",
      "lam_30 213761\n",
      "lam_31 220649\n",
      "lam_32 329650\n",
      "lam_33 1.261e-06\n",
      "lam_34 0.000169678\n",
      "lam_35 374565\n",
      "lam_36 4.51541e-09\n",
      "lam_37 348438\n",
      "lam_38 3.03788e-06\n",
      "lam_39 339618\n",
      "lam_40 687500\n",
      "lam_41 136177\n",
      "lam_42 7.90747e-07\n",
      "lam_43 4.51459e-09\n",
      "lam_44 569664\n",
      "lam_45 2.56378e-06\n",
      "lam_46 2.11748e-05\n",
      "lam_47 1.40035e+06\n",
      "lam_48 265462\n",
      "lam_49 1.5891e-05\n",
      "lam_50 4.56885e-09\n",
      "lam_51 1.58338e-05\n",
      "lam_52 558610\n",
      "lam_53 230258\n",
      "lam_54 6.8576e-06\n",
      "lam_55 6.85577e-06\n",
      "Obj: -2.64672e+07\n"
     ]
    }
   ],
   "source": [
    "from gurobipy import *\n",
    "\n",
    "L = 56  # dimension of lam\n",
    "\n",
    "K = np.size(x, 1)\n",
    "S = samp_cov(x)\n",
    "inv_S = inv(S)\n",
    "\n",
    "A_t = np.transpose(A)\n",
    "P_t = np.transpose(P)\n",
    "# PA'\n",
    "PA_t = np.dot(P, A_t)\n",
    "# AP_t\n",
    "AP_t = np.transpose(PA_t)\n",
    "\n",
    "Q = np.dot(np.dot(PA_t, inv_S), AP_t)\n",
    "b = sum([np.dot(np.dot(PA_t, inv_S), x[:, k]) for k in range(K)])\n",
    "\n",
    "\n",
    "model = Model(\"OD_matrix_estimation\")\n",
    "\n",
    "lam = []\n",
    "for l in range(L):\n",
    "    lam.append(model.addVar(name='lam_' + str(l)))\n",
    "\n",
    "model.update() \n",
    "\n",
    "# Set objective: (K/2) lam' * Q * lam - b * lam\n",
    "obj = 0\n",
    "for i in range(L):\n",
    "    for j in range(L):\n",
    "        obj += (1.0 /2) * K * lam[i] * Q[i, j] * lam[j]\n",
    "for l in range(L):\n",
    "    obj += - b[l] * lam[l]\n",
    "model.setObjective(obj)\n",
    "\n",
    "# Add constraint: lam >= 0\n",
    "for l in range(L):\n",
    "    model.addConstr(lam[l] >= 0)\n",
    "\n",
    "model.update() \n",
    "\n",
    "model.optimize()\n",
    "\n",
    "lam_list = []\n",
    "for v in model.getVars():\n",
    "    print('%s %g' % (v.varName, v.x))\n",
    "    lam_list.append(v.x)\n",
    "print('Obj: %g' % obj.getValue())"
   ]
  },
  {
   "cell_type": "code",
   "execution_count": 18,
   "metadata": {
    "collapsed": false
   },
   "outputs": [],
   "source": [
    "# write estimation result to file\n",
    "n = 8  # number of nodes\n",
    "with open('../temp_files/OD_demand_matrix_Jul_weekday_NT.txt', 'w') as the_file:\n",
    "    idx = 0\n",
    "    for i in range(n + 1)[1:]:\n",
    "        for j in range(n + 1)[1:]:\n",
    "            if i != j: \n",
    "                the_file.write(\"%d,%d,%f\\n\" %(i, j, lam_list[idx]))\n",
    "                idx += 1"
   ]
  },
  {
   "cell_type": "code",
   "execution_count": 19,
   "metadata": {
    "collapsed": false
   },
   "outputs": [
    {
     "data": {
      "text/plain": [
       "[5.575285193091433e-08,\n",
       " 839567.9035984569,\n",
       " 21672.7415733995,\n",
       " 48277.461332129715,\n",
       " 105635.31297840297,\n",
       " 0.00014873961598650676,\n",
       " 0.00018520812179950719,\n",
       " 1.306947436621362e-07,\n",
       " 3.445206776641672e-09,\n",
       " 735428.4371988671,\n",
       " 3.4454590044561207e-09,\n",
       " 3.4452741276357454e-09,\n",
       " 3.4451231829402022e-09,\n",
       " 3.46835454745161e-09,\n",
       " 1422971.8301098465,\n",
       " 4.512857657657628e-09,\n",
       " 1.9120448892335704e-06,\n",
       " 65336.77789664638,\n",
       " 192075.14536456595,\n",
       " 1382105.4297752813,\n",
       " 0.00016007034355119965,\n",
       " 372352.2405308863,\n",
       " 882793.2096808681,\n",
       " 126841.27009178478,\n",
       " 6.0910579448427565e-05,\n",
       " 7.237223074377935e-05,\n",
       " 2.804280462506692e-05,\n",
       " 560904.8409716677,\n",
       " 214036.02669114264,\n",
       " 4.518600481156054e-09,\n",
       " 213760.72141857786,\n",
       " 220649.20230918014,\n",
       " 329650.1782481123,\n",
       " 1.2609993134984855e-06,\n",
       " 0.00016967753201764524,\n",
       " 374564.5494698652,\n",
       " 4.515412642010022e-09,\n",
       " 348438.20973854273,\n",
       " 3.0378814822081945e-06,\n",
       " 339617.73836963886,\n",
       " 687499.9960942519,\n",
       " 136176.95218648852,\n",
       " 7.90747228691165e-07,\n",
       " 4.514587177154183e-09,\n",
       " 569663.7848272943,\n",
       " 2.56377890401672e-06,\n",
       " 2.1174828938852128e-05,\n",
       " 1400353.6543500666,\n",
       " 265461.7146721098,\n",
       " 1.589095089434868e-05,\n",
       " 4.5688484641274656e-09,\n",
       " 1.5833827241244075e-05,\n",
       " 558609.862548375,\n",
       " 230257.79085831682,\n",
       " 6.857598250717065e-06,\n",
       " 6.8557724733349194e-06]"
      ]
     },
     "execution_count": 19,
     "metadata": {},
     "output_type": "execute_result"
    }
   ],
   "source": [
    "lam_list"
   ]
  },
  {
   "cell_type": "code",
   "execution_count": null,
   "metadata": {
    "collapsed": true
   },
   "outputs": [],
   "source": []
  }
 ],
 "metadata": {
  "kernelspec": {
   "display_name": "Python 2",
   "language": "python",
   "name": "python2"
  },
  "language_info": {
   "codemirror_mode": {
    "name": "ipython",
    "version": 2
   },
   "file_extension": ".py",
   "mimetype": "text/x-python",
   "name": "python",
   "nbconvert_exporter": "python",
   "pygments_lexer": "ipython2",
   "version": "2.7.11"
  }
 },
 "nbformat": 4,
 "nbformat_minor": 0
}
