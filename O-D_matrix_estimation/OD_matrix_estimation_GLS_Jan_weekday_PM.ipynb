{
 "cells": [
  {
   "cell_type": "code",
   "execution_count": 1,
   "metadata": {
    "collapsed": true
   },
   "outputs": [],
   "source": [
    "%run ../Python_files/util_data_storage_and_load.py"
   ]
  },
  {
   "cell_type": "code",
   "execution_count": 2,
   "metadata": {
    "collapsed": true
   },
   "outputs": [],
   "source": [
    "%run ../Python_files/load_dicts.py"
   ]
  },
  {
   "cell_type": "code",
   "execution_count": 3,
   "metadata": {
    "collapsed": false
   },
   "outputs": [],
   "source": [
    "%run ../Python_files/util.py"
   ]
  },
  {
   "cell_type": "code",
   "execution_count": 4,
   "metadata": {
    "collapsed": true
   },
   "outputs": [],
   "source": [
    "# load logit_route_choice_probability_matrix\n",
    "P = zload('../temp_files/logit_route_choice_probability_matrix.pkz')"
   ]
  },
  {
   "cell_type": "code",
   "execution_count": 5,
   "metadata": {
    "collapsed": false
   },
   "outputs": [],
   "source": [
    "import numpy as np\n",
    "from numpy.linalg import inv\n",
    "\n",
    "P = np.matrix(P)"
   ]
  },
  {
   "cell_type": "code",
   "execution_count": 6,
   "metadata": {
    "collapsed": false
   },
   "outputs": [
    {
     "data": {
      "text/plain": [
       "(56, 140)"
      ]
     },
     "execution_count": 6,
     "metadata": {},
     "output_type": "execute_result"
    }
   ],
   "source": [
    "np.size(P, 0), np.size(P, 1)"
   ]
  },
  {
   "cell_type": "code",
   "execution_count": 7,
   "metadata": {
    "collapsed": true
   },
   "outputs": [],
   "source": [
    "import numpy as np\n",
    "from numpy.linalg import inv\n",
    "\n",
    "def samp_cov(x):\n",
    "    \"\"\"\n",
    "    x: sample matrix, each column is a link flow vector sample; 24 * K\n",
    "    K: number of samples\n",
    "    S: sample covariance matrix\n",
    "    ----------------\n",
    "    return: inv(S)\n",
    "    ----------------\n",
    "    \"\"\"\n",
    "    x = np.matrix(x)\n",
    "    K = np.size(x, 1)\n",
    "    x_mean = sum(x[:,k] for k in range(K)) / K\n",
    "    S = sum(np.dot(x[:,k] - x_mean, np.transpose(x[:,k] - x_mean)) for k in range(K)) / (K - 1)\n",
    "    return S"
   ]
  },
  {
   "cell_type": "code",
   "execution_count": 8,
   "metadata": {
    "collapsed": false
   },
   "outputs": [],
   "source": [
    "# load path-link incidence matrix\n",
    "A = zload('../temp_files/path-link_incidence_matrix.pkz')"
   ]
  },
  {
   "cell_type": "code",
   "execution_count": 9,
   "metadata": {
    "collapsed": false
   },
   "outputs": [],
   "source": [
    "# load link counts data\n",
    "\n",
    "import json\n",
    "\n",
    "with open('../temp_files/link_day_minute_Jan_dict_JSON.json', 'r') as json_file:\n",
    "    link_day_minute_Jan_dict_JSON = json.load(json_file)"
   ]
  },
  {
   "cell_type": "code",
   "execution_count": 10,
   "metadata": {
    "collapsed": true
   },
   "outputs": [],
   "source": [
    "week_day_Jan_list = [2, 3, 4, 5, 6, 9, 10, 11, 12, 13, 16, 17, 18, 19, 20, 23, 24, 25, 26, 27, 30, 31]"
   ]
  },
  {
   "cell_type": "code",
   "execution_count": 11,
   "metadata": {
    "collapsed": false
   },
   "outputs": [],
   "source": [
    "link_day_minute_Jan_list = []\n",
    "for link_idx in range(24):\n",
    "    for day in week_day_Jan_list: \n",
    "        for minute_idx in range(120):\n",
    "            key = 'link_' + str(link_idx) + '_' + str(day)\n",
    "            link_day_minute_Jan_list.append(link_day_minute_Jan_dict_JSON[key] ['PM_flow_minute'][minute_idx])"
   ]
  },
  {
   "cell_type": "code",
   "execution_count": 12,
   "metadata": {
    "collapsed": false
   },
   "outputs": [
    {
     "data": {
      "text/plain": [
       "63360"
      ]
     },
     "execution_count": 12,
     "metadata": {},
     "output_type": "execute_result"
    }
   ],
   "source": [
    "len(link_day_minute_Jan_list)"
   ]
  },
  {
   "cell_type": "code",
   "execution_count": 13,
   "metadata": {
    "collapsed": false
   },
   "outputs": [],
   "source": [
    "x = np.matrix(link_day_minute_Jan_list)\n",
    "x = np.matrix.reshape(x, 24, 2640)\n",
    "\n",
    "x = np.nan_to_num(x)\n",
    "y = np.array(np.transpose(x))\n",
    "y = y[np.all(y != 0, axis=1)]\n",
    "x = np.transpose(y)\n",
    "x = np.matrix(x)"
   ]
  },
  {
   "cell_type": "code",
   "execution_count": 14,
   "metadata": {
    "collapsed": false
   },
   "outputs": [
    {
     "data": {
      "text/plain": [
       "(24, 2640)"
      ]
     },
     "execution_count": 14,
     "metadata": {},
     "output_type": "execute_result"
    }
   ],
   "source": [
    "np.size(x, 0), np.size(x, 1)"
   ]
  },
  {
   "cell_type": "code",
   "execution_count": 15,
   "metadata": {
    "collapsed": false
   },
   "outputs": [
    {
     "data": {
      "text/plain": [
       "matrix([[ 340343.68736559,  344580.87522118],\n",
       "        [ 354547.26763359,  353278.70784122],\n",
       "        [ 641711.07035668,  640384.03128932],\n",
       "        [ 656881.3361256 ,  655683.87107291],\n",
       "        [ 172686.99226455,  168656.1190212 ],\n",
       "        [ 204528.68874518,  203082.75778331],\n",
       "        [ 398010.66188246,  395633.44759811],\n",
       "        [ 422822.4764407 ,  415113.09819685],\n",
       "        [ 383014.54220228,  382856.1441145 ],\n",
       "        [ 391940.6895835 ,  394702.01014943],\n",
       "        [ 357197.25720961,  381656.98946946],\n",
       "        [ 326764.44115381,  326736.11874513],\n",
       "        [  97105.25740513,  100224.41504694],\n",
       "        [  97581.89869044,  101715.94476647],\n",
       "        [ 151862.83322844,  147102.13551821],\n",
       "        [ 142779.49645596,  142513.79959996],\n",
       "        [ 211467.79924803,  210514.19810158],\n",
       "        [ 216628.85539941,  223073.95679241],\n",
       "        [ 370758.99324132,  367564.39726109],\n",
       "        [ 357073.81439455,  364699.19647178],\n",
       "        [ 559036.00914374,  535975.82065556],\n",
       "        [ 527643.68599091,  529487.37439379],\n",
       "        [ 135491.15627584,  140310.83452073],\n",
       "        [ 140636.81560231,  140564.61758008]])"
      ]
     },
     "execution_count": 15,
     "metadata": {},
     "output_type": "execute_result"
    }
   ],
   "source": [
    "x[:,:2]"
   ]
  },
  {
   "cell_type": "code",
   "execution_count": 16,
   "metadata": {
    "collapsed": false
   },
   "outputs": [
    {
     "data": {
      "text/plain": [
       "(24, 140)"
      ]
     },
     "execution_count": 16,
     "metadata": {},
     "output_type": "execute_result"
    }
   ],
   "source": [
    "np.size(A,0), np.size(A,1)"
   ]
  },
  {
   "cell_type": "code",
   "execution_count": 17,
   "metadata": {
    "collapsed": false
   },
   "outputs": [
    {
     "name": "stdout",
     "output_type": "stream",
     "text": [
      "Optimize a model with 56 rows, 56 columns and 56 nonzeros\n",
      "Model has 1596 quadratic objective terms\n",
      "Coefficient statistics:\n",
      "  Matrix range    [1e+00, 1e+00]\n",
      "  Objective range [2e-01, 3e+01]\n",
      "  Bounds range    [0e+00, 0e+00]\n",
      "  RHS range       [0e+00, 0e+00]\n",
      "Presolve removed 56 rows and 0 columns\n",
      "Presolve time: 0.00s\n",
      "Presolved: 0 rows, 56 columns, 0 nonzeros\n",
      "Presolved model has 1596 quadratic objective terms\n",
      "Ordering time: 0.00s\n",
      "\n",
      "Barrier statistics:\n",
      " Free vars  : 24\n",
      " AA' NZ     : 2.760e+02\n",
      " Factor NZ  : 3.000e+02\n",
      " Factor Ops : 4.900e+03 (less than 1 second per iteration)\n",
      " Threads    : 1\n",
      "\n",
      "                  Objective                Residual\n",
      "Iter       Primal          Dual         Primal    Dual     Compl     Time\n",
      "   0  -1.72806577e+07  0.00000000e+00  4.24e+03 2.04e+03  1.00e+06     0s\n",
      "   1  -1.55789223e+07 -6.61241552e+06  1.27e+03 6.11e+02  3.37e+05     0s\n",
      "   2  -1.32302022e+07 -1.52641649e+07  1.05e+02 5.06e+01  8.65e+04     0s\n",
      "   3  -1.36774248e+07 -1.39940392e+07  1.05e-04 5.06e-05  5.65e+03     0s\n",
      "   4  -1.37853413e+07 -1.38088171e+07  3.03e-07 1.46e-07  4.19e+02     0s\n",
      "   5  -1.37910858e+07 -1.37923852e+07  8.32e-11 4.55e-13  2.32e+01     0s\n",
      "   6  -1.37914905e+07 -1.37915752e+07  2.00e-11 6.82e-13  1.51e+00     0s\n",
      "   7  -1.37915359e+07 -1.37915487e+07  1.34e-11 4.55e-13  2.28e-01     0s\n",
      "   8  -1.37915401e+07 -1.37915405e+07  1.32e-11 3.41e-13  7.38e-03     0s\n",
      "   9  -1.37915403e+07 -1.37915404e+07  1.34e-11 9.09e-13  9.71e-04     0s\n",
      "  10  -1.37915403e+07 -1.37915403e+07  1.91e-11 3.41e-13  1.43e-05     0s\n",
      "  11  -1.37915403e+07 -1.37915403e+07  9.09e-12 4.55e-13  1.17e-06     0s\n",
      "  12  -1.37915403e+07 -1.37915403e+07  2.05e-12 3.98e-11  8.06e-08     0s\n",
      "  13  -1.37915403e+07 -1.37915403e+07  9.09e-13 8.47e-12  7.51e-10     0s\n",
      "\n",
      "Barrier solved model in 13 iterations and 0.02 seconds\n",
      "Optimal objective -1.37915403e+07\n",
      "\n",
      "lam_0 3.06017e-09\n",
      "lam_1 358893\n",
      "lam_2 12268.1\n",
      "lam_3 26457.5\n",
      "lam_4 108234\n",
      "lam_5 4.86129e-06\n",
      "lam_6 4.87837e-06\n",
      "lam_7 3.67558e-09\n",
      "lam_8 1.89499e-10\n",
      "lam_9 375420\n",
      "lam_10 1.89499e-10\n",
      "lam_11 1.89499e-10\n",
      "lam_12 1.89491e-10\n",
      "lam_13 1.90769e-10\n",
      "lam_14 381662\n",
      "lam_15 1.26915e-10\n",
      "lam_16 0.892847\n",
      "lam_17 31814.9\n",
      "lam_18 152808\n",
      "lam_19 521295\n",
      "lam_20 4.86308e-06\n",
      "lam_21 67960.8\n",
      "lam_22 306779\n",
      "lam_23 61982.1\n",
      "lam_24 0.000326733\n",
      "lam_25 0.000326726\n",
      "lam_26 2.74658e-06\n",
      "lam_27 176462\n",
      "lam_28 0.645187\n",
      "lam_29 1.26915e-10\n",
      "lam_30 246552\n",
      "lam_31 20427.9\n",
      "lam_32 173619\n",
      "lam_33 3.43006e-08\n",
      "lam_34 2.73872e-06\n",
      "lam_35 388682\n",
      "lam_36 1.26915e-10\n",
      "lam_37 8.39156e-06\n",
      "lam_38 20220.3\n",
      "lam_39 60857.2\n",
      "lam_40 724941\n",
      "lam_41 51098.2\n",
      "lam_42 1.97832e-05\n",
      "lam_43 1.26914e-10\n",
      "lam_44 5.77921e-06\n",
      "lam_45 0.0835252\n",
      "lam_46 380139\n",
      "lam_47 623074\n",
      "lam_48 73847.3\n",
      "lam_49 1.9844e-05\n",
      "lam_50 1.28525e-10\n",
      "lam_51 1.97912e-05\n",
      "lam_52 186479\n",
      "lam_53 0.407246\n",
      "lam_54 48758.5\n",
      "lam_55 67071.3\n",
      "Obj: -1.37914e+07\n"
     ]
    }
   ],
   "source": [
    "from gurobipy import *\n",
    "\n",
    "L = 56  # dimension of lam\n",
    "\n",
    "K = np.size(x, 1)\n",
    "S = samp_cov(x)\n",
    "inv_S = inv(S)\n",
    "\n",
    "A_t = np.transpose(A)\n",
    "P_t = np.transpose(P)\n",
    "# PA'\n",
    "PA_t = np.dot(P, A_t)\n",
    "# AP_t\n",
    "AP_t = np.transpose(PA_t)\n",
    "\n",
    "Q = np.dot(np.dot(PA_t, inv_S), AP_t)\n",
    "b = sum([np.dot(np.dot(PA_t, inv_S), x[:, k]) for k in range(K)])\n",
    "\n",
    "\n",
    "model = Model(\"OD_matrix_estimation\")\n",
    "\n",
    "lam = []\n",
    "for l in range(L):\n",
    "    lam.append(model.addVar(name='lam_' + str(l)))\n",
    "\n",
    "model.update() \n",
    "\n",
    "# Set objective: (K/2) lam' * Q * lam - b * lam\n",
    "obj = 0\n",
    "for i in range(L):\n",
    "    for j in range(L):\n",
    "        obj += (1.0 /2) * K * lam[i] * Q[i, j] * lam[j]\n",
    "for l in range(L):\n",
    "    obj += - b[l] * lam[l]\n",
    "model.setObjective(obj)\n",
    "\n",
    "# Add constraint: lam >= 0\n",
    "for l in range(L):\n",
    "    model.addConstr(lam[l] >= 0)\n",
    "\n",
    "model.update() \n",
    "\n",
    "model.optimize()\n",
    "\n",
    "lam_list = []\n",
    "for v in model.getVars():\n",
    "    print('%s %g' % (v.varName, v.x))\n",
    "    lam_list.append(v.x)\n",
    "print('Obj: %g' % obj.getValue())"
   ]
  },
  {
   "cell_type": "code",
   "execution_count": 18,
   "metadata": {
    "collapsed": false
   },
   "outputs": [],
   "source": [
    "# write estimation result to file\n",
    "n = 8  # number of nodes\n",
    "with open('../temp_files/OD_demand_matrix_Jan_weekday_PM.txt', 'w') as the_file:\n",
    "    idx = 0\n",
    "    for i in range(n + 1)[1:]:\n",
    "        for j in range(n + 1)[1:]:\n",
    "            if i != j: \n",
    "                the_file.write(\"%d,%d,%f\\n\" %(i, j, lam_list[idx]))\n",
    "                idx += 1"
   ]
  },
  {
   "cell_type": "code",
   "execution_count": 19,
   "metadata": {
    "collapsed": false
   },
   "outputs": [
    {
     "data": {
      "text/plain": [
       "[3.060168115063129e-09,\n",
       " 358892.66030953,\n",
       " 12268.115863617066,\n",
       " 26457.497844365007,\n",
       " 108234.39767681227,\n",
       " 4.861286829328294e-06,\n",
       " 4.878368759741211e-06,\n",
       " 3.675581250032163e-09,\n",
       " 1.8949877512097417e-10,\n",
       " 375419.8211931551,\n",
       " 1.8949877482458874e-10,\n",
       " 1.89498775081114e-10,\n",
       " 1.894913885358131e-10,\n",
       " 1.907687820820807e-10,\n",
       " 381661.88520501886,\n",
       " 1.2691486892239202e-10,\n",
       " 0.8928472360601774,\n",
       " 31814.928589829702,\n",
       " 152808.01587198453,\n",
       " 521294.8545858985,\n",
       " 4.863078767148102e-06,\n",
       " 67960.82406163705,\n",
       " 306779.2617902605,\n",
       " 61982.14020426574,\n",
       " 0.00032673252538868713,\n",
       " 0.00032672647469427635,\n",
       " 2.746580772448339e-06,\n",
       " 176462.12298909973,\n",
       " 0.6451872045199707,\n",
       " 1.269148688807683e-10,\n",
       " 246551.82638791358,\n",
       " 20427.906961365446,\n",
       " 173618.73977246197,\n",
       " 3.430062658854113e-08,\n",
       " 2.7387180993823797e-06,\n",
       " 388682.0439100337,\n",
       " 1.2691486892407947e-10,\n",
       " 8.391564101651737e-06,\n",
       " 20220.287548111868,\n",
       " 60857.23660231244,\n",
       " 724940.6930788545,\n",
       " 51098.21923416373,\n",
       " 1.9783183226383064e-05,\n",
       " 1.269140547431115e-10,\n",
       " 5.779211488136709e-06,\n",
       " 0.08352520396207375,\n",
       " 380139.01552529354,\n",
       " 623073.9526252089,\n",
       " 73847.34719943591,\n",
       " 1.98440227897243e-05,\n",
       " 1.2852540206190148e-10,\n",
       " 1.979123649978494e-05,\n",
       " 186478.793489942,\n",
       " 0.4072458221914772,\n",
       " 48758.51101698007,\n",
       " 67071.32175024602]"
      ]
     },
     "execution_count": 19,
     "metadata": {},
     "output_type": "execute_result"
    }
   ],
   "source": [
    "lam_list"
   ]
  },
  {
   "cell_type": "code",
   "execution_count": null,
   "metadata": {
    "collapsed": true
   },
   "outputs": [],
   "source": []
  }
 ],
 "metadata": {
  "kernelspec": {
   "display_name": "Python 2",
   "language": "python",
   "name": "python2"
  },
  "language_info": {
   "codemirror_mode": {
    "name": "ipython",
    "version": 2
   },
   "file_extension": ".py",
   "mimetype": "text/x-python",
   "name": "python",
   "nbconvert_exporter": "python",
   "pygments_lexer": "ipython2",
   "version": "2.7.11"
  }
 },
 "nbformat": 4,
 "nbformat_minor": 0
}
