{
 "cells": [
  {
   "cell_type": "code",
   "execution_count": 1,
   "metadata": {
    "collapsed": true
   },
   "outputs": [],
   "source": [
    "%run ../Python_files/util_data_storage_and_load.py"
   ]
  },
  {
   "cell_type": "code",
   "execution_count": 2,
   "metadata": {
    "collapsed": true
   },
   "outputs": [],
   "source": [
    "%run ../Python_files/load_dicts.py"
   ]
  },
  {
   "cell_type": "code",
   "execution_count": 3,
   "metadata": {
    "collapsed": false
   },
   "outputs": [],
   "source": [
    "%run ../Python_files/util.py"
   ]
  },
  {
   "cell_type": "code",
   "execution_count": 4,
   "metadata": {
    "collapsed": true
   },
   "outputs": [],
   "source": [
    "# load logit_route_choice_probability_matrix\n",
    "P = zload('../temp_files/logit_route_choice_probability_matrix.pkz')"
   ]
  },
  {
   "cell_type": "code",
   "execution_count": 5,
   "metadata": {
    "collapsed": false
   },
   "outputs": [],
   "source": [
    "import numpy as np\n",
    "from numpy.linalg import inv\n",
    "\n",
    "P = np.matrix(P)"
   ]
  },
  {
   "cell_type": "code",
   "execution_count": 6,
   "metadata": {
    "collapsed": false
   },
   "outputs": [
    {
     "data": {
      "text/plain": [
       "(56, 140)"
      ]
     },
     "execution_count": 6,
     "metadata": {},
     "output_type": "execute_result"
    }
   ],
   "source": [
    "np.size(P, 0), np.size(P, 1)"
   ]
  },
  {
   "cell_type": "code",
   "execution_count": 7,
   "metadata": {
    "collapsed": true
   },
   "outputs": [],
   "source": [
    "import numpy as np\n",
    "from numpy.linalg import inv\n",
    "\n",
    "def samp_cov(x):\n",
    "    \"\"\"\n",
    "    x: sample matrix, each column is a link flow vector sample; 24 * K\n",
    "    K: number of samples\n",
    "    S: sample covariance matrix\n",
    "    ----------------\n",
    "    return: inv(S)\n",
    "    ----------------\n",
    "    \"\"\"\n",
    "    x = np.matrix(x)\n",
    "    K = np.size(x, 1)\n",
    "    x_mean = sum(x[:,k] for k in range(K)) / K\n",
    "    S = sum(np.dot(x[:,k] - x_mean, np.transpose(x[:,k] - x_mean)) for k in range(K)) / (K - 1)\n",
    "    return S"
   ]
  },
  {
   "cell_type": "code",
   "execution_count": 8,
   "metadata": {
    "collapsed": false
   },
   "outputs": [],
   "source": [
    "# load path-link incidence matrix\n",
    "A = zload('../temp_files/path-link_incidence_matrix.pkz')"
   ]
  },
  {
   "cell_type": "code",
   "execution_count": 9,
   "metadata": {
    "collapsed": false
   },
   "outputs": [],
   "source": [
    "# load link counts data\n",
    "\n",
    "import json\n",
    "\n",
    "with open('../temp_files/link_day_minute_Jan_dict_JSON.json', 'r') as json_file:\n",
    "    link_day_minute_Jan_dict_JSON = json.load(json_file)"
   ]
  },
  {
   "cell_type": "code",
   "execution_count": 10,
   "metadata": {
    "collapsed": true
   },
   "outputs": [],
   "source": [
    "#week_day_Jan_list = [2, 3, 4, 5, 6, 9, 10, 11, 12, 13, 16, 17, 18, 19, 20, 23, 24, 25, 26, 27, 30, 31]\n",
    "week_day_Jan_list = [2, 9, 16, 23, 30]"
   ]
  },
  {
   "cell_type": "code",
   "execution_count": 11,
   "metadata": {
    "collapsed": false
   },
   "outputs": [],
   "source": [
    "link_day_minute_Jan_list = []\n",
    "for link_idx in range(24):\n",
    "    for day in week_day_Jan_list: \n",
    "        for minute_idx in range(120):\n",
    "            key = 'link_' + str(link_idx) + '_' + str(day)\n",
    "            link_day_minute_Jan_list.append(link_day_minute_Jan_dict_JSON[key] ['PM_flow_minute'][minute_idx])"
   ]
  },
  {
   "cell_type": "code",
   "execution_count": 12,
   "metadata": {
    "collapsed": false
   },
   "outputs": [
    {
     "data": {
      "text/plain": [
       "14400"
      ]
     },
     "execution_count": 12,
     "metadata": {},
     "output_type": "execute_result"
    }
   ],
   "source": [
    "len(link_day_minute_Jan_list)"
   ]
  },
  {
   "cell_type": "code",
   "execution_count": 13,
   "metadata": {
    "collapsed": false
   },
   "outputs": [],
   "source": [
    "x = np.matrix(link_day_minute_Jan_list)\n",
    "x = np.matrix.reshape(x, 24, 600)\n",
    "\n",
    "x = np.nan_to_num(x)\n",
    "y = np.array(np.transpose(x))\n",
    "y = y[np.all(y != 0, axis=1)]\n",
    "x = np.transpose(y)\n",
    "x = np.matrix(x)"
   ]
  },
  {
   "cell_type": "code",
   "execution_count": 14,
   "metadata": {
    "collapsed": false
   },
   "outputs": [
    {
     "data": {
      "text/plain": [
       "(24, 600)"
      ]
     },
     "execution_count": 14,
     "metadata": {},
     "output_type": "execute_result"
    }
   ],
   "source": [
    "np.size(x, 0), np.size(x, 1)"
   ]
  },
  {
   "cell_type": "code",
   "execution_count": 15,
   "metadata": {
    "collapsed": false
   },
   "outputs": [
    {
     "data": {
      "text/plain": [
       "matrix([[ 340343.68736559,  344580.87522118],\n",
       "        [ 354547.26763359,  353278.70784122],\n",
       "        [ 641711.07035668,  640384.03128932],\n",
       "        [ 656881.3361256 ,  655683.87107291],\n",
       "        [ 172686.99226455,  168656.1190212 ],\n",
       "        [ 204528.68874518,  203082.75778331],\n",
       "        [ 398010.66188246,  395633.44759811],\n",
       "        [ 422822.4764407 ,  415113.09819685],\n",
       "        [ 383014.54220228,  382856.1441145 ],\n",
       "        [ 391940.6895835 ,  394702.01014943],\n",
       "        [ 357197.25720961,  381656.98946946],\n",
       "        [ 326764.44115381,  326736.11874513],\n",
       "        [  97105.25740513,  100224.41504694],\n",
       "        [  97581.89869044,  101715.94476647],\n",
       "        [ 151862.83322844,  147102.13551821],\n",
       "        [ 142779.49645596,  142513.79959996],\n",
       "        [ 211467.79924803,  210514.19810158],\n",
       "        [ 216628.85539941,  223073.95679241],\n",
       "        [ 370758.99324132,  367564.39726109],\n",
       "        [ 357073.81439455,  364699.19647178],\n",
       "        [ 559036.00914374,  535975.82065556],\n",
       "        [ 527643.68599091,  529487.37439379],\n",
       "        [ 135491.15627584,  140310.83452073],\n",
       "        [ 140636.81560231,  140564.61758008]])"
      ]
     },
     "execution_count": 15,
     "metadata": {},
     "output_type": "execute_result"
    }
   ],
   "source": [
    "x[:,:2]"
   ]
  },
  {
   "cell_type": "code",
   "execution_count": 16,
   "metadata": {
    "collapsed": false
   },
   "outputs": [
    {
     "data": {
      "text/plain": [
       "(24, 140)"
      ]
     },
     "execution_count": 16,
     "metadata": {},
     "output_type": "execute_result"
    }
   ],
   "source": [
    "np.size(A,0), np.size(A,1)"
   ]
  },
  {
   "cell_type": "code",
   "execution_count": 17,
   "metadata": {
    "collapsed": false
   },
   "outputs": [
    {
     "name": "stdout",
     "output_type": "stream",
     "text": [
      "Optimize a model with 56 rows, 56 columns and 56 nonzeros\n",
      "Model has 1596 quadratic objective terms\n",
      "Coefficient statistics:\n",
      "  Matrix range    [1e+00, 1e+00]\n",
      "  Objective range [4e-01, 2e+01]\n",
      "  Bounds range    [0e+00, 0e+00]\n",
      "  RHS range       [0e+00, 0e+00]\n",
      "Presolve removed 56 rows and 0 columns\n",
      "Presolve time: 0.00s\n",
      "Presolved: 0 rows, 56 columns, 0 nonzeros\n",
      "Presolved model has 1596 quadratic objective terms\n",
      "Ordering time: 0.00s\n",
      "\n",
      "Barrier statistics:\n",
      " Free vars  : 24\n",
      " AA' NZ     : 2.760e+02\n",
      " Factor NZ  : 3.000e+02\n",
      " Factor Ops : 4.900e+03 (less than 1 second per iteration)\n",
      " Threads    : 1\n",
      "\n",
      "                  Objective                Residual\n",
      "Iter       Primal          Dual         Primal    Dual     Compl     Time\n",
      "   0  -3.45555407e+07  0.00000000e+00  1.13e+04 2.03e+03  1.00e+06     0s\n",
      "   1  -1.86820202e+07 -9.38412620e+06  2.32e+03 4.16e+02  2.34e+05     0s\n",
      "   2  -1.29325031e+07 -1.71616133e+07  8.87e+00 1.59e+00  7.73e+04     0s\n",
      "   3  -1.35807259e+07 -1.41298659e+07  3.61e-01 6.50e-02  9.87e+03     0s\n",
      "   4  -1.37056592e+07 -1.38147974e+07  3.61e-07 6.50e-08  1.95e+03     0s\n",
      "   5  -1.37296610e+07 -1.37361066e+07  4.04e-09 7.27e-10  1.15e+02     0s\n",
      "   6  -1.37326992e+07 -1.37343987e+07  2.07e-11 4.55e-13  3.03e+01     0s\n",
      "   7  -1.37332498e+07 -1.37336342e+07  3.41e-12 9.09e-13  6.87e+00     0s\n",
      "   8  -1.37334263e+07 -1.37334423e+07  4.01e-12 2.27e-13  2.84e-01     0s\n",
      "   9  -1.37334346e+07 -1.37334367e+07  2.73e-12 9.09e-13  3.68e-02     0s\n",
      "  10  -1.37334357e+07 -1.37334357e+07  4.32e-12 4.55e-13  3.73e-05     0s\n",
      "  11  -1.37334357e+07 -1.37334357e+07  8.19e-12 4.55e-13  3.90e-08     0s\n",
      "  12  -1.37334357e+07 -1.37334357e+07  1.14e-12 5.57e-12  6.04e-11     0s\n",
      "\n",
      "Barrier solved model in 12 iterations and 0.02 seconds\n",
      "Optimal objective -1.37334357e+07\n",
      "\n",
      "lam_0 1.3124e-09\n",
      "lam_1 90563.4\n",
      "lam_2 135061\n",
      "lam_3 1.19805e-08\n",
      "lam_4 62001.9\n",
      "lam_5 121478\n",
      "lam_6 1.13934e-08\n",
      "lam_7 1.81347e-09\n",
      "lam_8 8.04115e-11\n",
      "lam_9 239343\n",
      "lam_10 7.98727e-11\n",
      "lam_11 8.0412e-11\n",
      "lam_12 8.04098e-11\n",
      "lam_13 8.03831e-11\n",
      "lam_14 118553\n",
      "lam_15 6.13072e-11\n",
      "lam_16 5.93597e-09\n",
      "lam_17 1.19806e-08\n",
      "lam_18 160456\n",
      "lam_19 1.13101e-06\n",
      "lam_20 1.13408e-08\n",
      "lam_21 91019.7\n",
      "lam_22 336425\n",
      "lam_23 7.82198e-09\n",
      "lam_24 1.14766e-08\n",
      "lam_25 1.1486e-08\n",
      "lam_26 63548.9\n",
      "lam_27 192475\n",
      "lam_28 379106\n",
      "lam_29 6.13071e-11\n",
      "lam_30 2.28982e-08\n",
      "lam_31 51814.6\n",
      "lam_32 119416\n",
      "lam_33 126556\n",
      "lam_34 141506\n",
      "lam_35 424820\n",
      "lam_36 6.13071e-11\n",
      "lam_37 2.84408e-08\n",
      "lam_38 6.13134e-08\n",
      "lam_39 100967\n",
      "lam_40 447311\n",
      "lam_41 1.13667e-08\n",
      "lam_42 1.80249e-07\n",
      "lam_43 6.12861e-11\n",
      "lam_44 2.64898e-08\n",
      "lam_45 4.99037e-08\n",
      "lam_46 352030\n",
      "lam_47 753759\n",
      "lam_48 1.13638e-08\n",
      "lam_49 1.41325e-08\n",
      "lam_50 6.18163e-11\n",
      "lam_51 1.40634e-08\n",
      "lam_52 161774\n",
      "lam_53 134002\n",
      "lam_54 1.52745e-08\n",
      "lam_55 1.52726e-08\n",
      "Obj: -1.37334e+07\n"
     ]
    }
   ],
   "source": [
    "from gurobipy import *\n",
    "\n",
    "L = 56  # dimension of lam\n",
    "\n",
    "K = np.size(x, 1)\n",
    "S = samp_cov(x)\n",
    "inv_S = inv(S)\n",
    "\n",
    "A_t = np.transpose(A)\n",
    "P_t = np.transpose(P)\n",
    "# PA'\n",
    "PA_t = np.dot(P, A_t)\n",
    "# AP_t\n",
    "AP_t = np.transpose(PA_t)\n",
    "\n",
    "Q = np.dot(np.dot(PA_t, inv_S), AP_t)\n",
    "b = sum([np.dot(np.dot(PA_t, inv_S), x[:, k]) for k in range(K)])\n",
    "\n",
    "\n",
    "model = Model(\"OD_matrix_estimation\")\n",
    "\n",
    "lam = []\n",
    "for l in range(L):\n",
    "    lam.append(model.addVar(name='lam_' + str(l)))\n",
    "\n",
    "model.update() \n",
    "\n",
    "# Set objective: (K/2) lam' * Q * lam - b * lam\n",
    "obj = 0\n",
    "for i in range(L):\n",
    "    for j in range(L):\n",
    "        obj += (1.0 /2) * K * lam[i] * Q[i, j] * lam[j]\n",
    "for l in range(L):\n",
    "    obj += - b[l] * lam[l]\n",
    "model.setObjective(obj)\n",
    "\n",
    "# Add constraint: lam >= 0\n",
    "for l in range(L):\n",
    "    model.addConstr(lam[l] >= 0)\n",
    "\n",
    "model.update() \n",
    "\n",
    "model.optimize()\n",
    "\n",
    "lam_list = []\n",
    "for v in model.getVars():\n",
    "    print('%s %g' % (v.varName, v.x))\n",
    "    lam_list.append(v.x)\n",
    "print('Obj: %g' % obj.getValue())"
   ]
  },
  {
   "cell_type": "code",
   "execution_count": 18,
   "metadata": {
    "collapsed": false
   },
   "outputs": [],
   "source": [
    "# write estimation result to file\n",
    "n = 8  # number of nodes\n",
    "with open('../temp_files/OD_demand_matrix_Jan_weekday_PM.txt', 'w') as the_file:\n",
    "    idx = 0\n",
    "    for i in range(n + 1)[1:]:\n",
    "        for j in range(n + 1)[1:]:\n",
    "            if i != j: \n",
    "                the_file.write(\"%d,%d,%f\\n\" %(i, j, lam_list[idx]))\n",
    "                idx += 1"
   ]
  },
  {
   "cell_type": "code",
   "execution_count": 19,
   "metadata": {
    "collapsed": false
   },
   "outputs": [
    {
     "data": {
      "text/plain": [
       "[1.3123996181451336e-09,\n",
       " 90563.4182765725,\n",
       " 135060.9223264384,\n",
       " 1.1980531612607102e-08,\n",
       " 62001.87778897095,\n",
       " 121478.39000602247,\n",
       " 1.1393431908226846e-08,\n",
       " 1.8134687784549047e-09,\n",
       " 8.041147519800366e-11,\n",
       " 239343.2989694527,\n",
       " 7.987271409110992e-11,\n",
       " 8.041195073609762e-11,\n",
       " 8.040979881437853e-11,\n",
       " 8.038311214424166e-11,\n",
       " 118552.65064022635,\n",
       " 6.130719302648528e-11,\n",
       " 5.9359705125024246e-09,\n",
       " 1.1980600628738142e-08,\n",
       " 160455.5506595927,\n",
       " 1.1310060756840367e-06,\n",
       " 1.1340815066506207e-08,\n",
       " 91019.73592461464,\n",
       " 336424.6787049151,\n",
       " 7.821977579814115e-09,\n",
       " 1.1476575851303751e-08,\n",
       " 1.1486025921682211e-08,\n",
       " 63548.867417827365,\n",
       " 192475.00643455557,\n",
       " 379105.79045220575,\n",
       " 6.13071204636807e-11,\n",
       " 2.289821609672154e-08,\n",
       " 51814.60853111876,\n",
       " 119416.32128758379,\n",
       " 126556.11438406266,\n",
       " 141505.98909833637,\n",
       " 424820.0534725928,\n",
       " 6.130709369160298e-11,\n",
       " 2.8440841412376126e-08,\n",
       " 6.131342130611181e-08,\n",
       " 100967.22626830998,\n",
       " 447310.98760312947,\n",
       " 1.1366666233070861e-08,\n",
       " 1.8024890786124282e-07,\n",
       " 6.12861293804858e-11,\n",
       " 2.6489784907282273e-08,\n",
       " 4.990365493272818e-08,\n",
       " 352030.1728630874,\n",
       " 753759.3265139938,\n",
       " 1.1363799268482426e-08,\n",
       " 1.4132490528751332e-08,\n",
       " 6.181631686174277e-11,\n",
       " 1.4063379674550606e-08,\n",
       " 161773.72378856322,\n",
       " 134001.71382075906,\n",
       " 1.5274540432631456e-08,\n",
       " 1.5272631961442553e-08]"
      ]
     },
     "execution_count": 19,
     "metadata": {},
     "output_type": "execute_result"
    }
   ],
   "source": [
    "lam_list"
   ]
  },
  {
   "cell_type": "code",
   "execution_count": null,
   "metadata": {
    "collapsed": true
   },
   "outputs": [],
   "source": []
  }
 ],
 "metadata": {
  "kernelspec": {
   "display_name": "Python 2",
   "language": "python",
   "name": "python2"
  },
  "language_info": {
   "codemirror_mode": {
    "name": "ipython",
    "version": 2
   },
   "file_extension": ".py",
   "mimetype": "text/x-python",
   "name": "python",
   "nbconvert_exporter": "python",
   "pygments_lexer": "ipython2",
   "version": "2.7.11"
  }
 },
 "nbformat": 4,
 "nbformat_minor": 0
}
