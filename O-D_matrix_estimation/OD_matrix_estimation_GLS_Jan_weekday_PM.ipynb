{
 "cells": [
  {
   "cell_type": "code",
   "execution_count": 1,
   "metadata": {
    "collapsed": true
   },
   "outputs": [],
   "source": [
    "%run ../Python_files/util_data_storage_and_load.py"
   ]
  },
  {
   "cell_type": "code",
   "execution_count": 2,
   "metadata": {
    "collapsed": true
   },
   "outputs": [],
   "source": [
    "%run ../Python_files/load_dicts.py"
   ]
  },
  {
   "cell_type": "code",
   "execution_count": 3,
   "metadata": {
    "collapsed": false
   },
   "outputs": [],
   "source": [
    "%run ../Python_files/util.py"
   ]
  },
  {
   "cell_type": "code",
   "execution_count": 4,
   "metadata": {
    "collapsed": true
   },
   "outputs": [],
   "source": [
    "# load logit_route_choice_probability_matrix\n",
    "P = zload('../temp_files/logit_route_choice_probability_matrix.pkz')"
   ]
  },
  {
   "cell_type": "code",
   "execution_count": 5,
   "metadata": {
    "collapsed": false
   },
   "outputs": [],
   "source": [
    "import numpy as np\n",
    "from numpy.linalg import inv\n",
    "\n",
    "P = np.matrix(P)"
   ]
  },
  {
   "cell_type": "code",
   "execution_count": 6,
   "metadata": {
    "collapsed": false
   },
   "outputs": [
    {
     "data": {
      "text/plain": [
       "(56, 140)"
      ]
     },
     "execution_count": 6,
     "metadata": {},
     "output_type": "execute_result"
    }
   ],
   "source": [
    "np.size(P, 0), np.size(P, 1)"
   ]
  },
  {
   "cell_type": "code",
   "execution_count": 7,
   "metadata": {
    "collapsed": true
   },
   "outputs": [],
   "source": [
    "import numpy as np\n",
    "from numpy.linalg import inv\n",
    "\n",
    "def samp_cov(x):\n",
    "    \"\"\"\n",
    "    x: sample matrix, each column is a link flow vector sample; 24 * K\n",
    "    K: number of samples\n",
    "    S: sample covariance matrix\n",
    "    ----------------\n",
    "    return: inv(S)\n",
    "    ----------------\n",
    "    \"\"\"\n",
    "    x = np.matrix(x)\n",
    "    K = np.size(x, 1)\n",
    "    x_mean = sum(x[:,k] for k in range(K)) / K\n",
    "    S = sum(np.dot(x[:,k] - x_mean, np.transpose(x[:,k] - x_mean)) for k in range(K)) / (K - 1)\n",
    "    return S"
   ]
  },
  {
   "cell_type": "code",
   "execution_count": 8,
   "metadata": {
    "collapsed": false
   },
   "outputs": [],
   "source": [
    "# load path-link incidence matrix\n",
    "A = zload('../temp_files/path-link_incidence_matrix.pkz')"
   ]
  },
  {
   "cell_type": "code",
   "execution_count": 9,
   "metadata": {
    "collapsed": false
   },
   "outputs": [],
   "source": [
    "# load link counts data\n",
    "\n",
    "import json\n",
    "\n",
    "with open('../temp_files/link_day_minute_Jan_dict_JSON.json', 'r') as json_file:\n",
    "    link_day_minute_Jan_dict_JSON = json.load(json_file)"
   ]
  },
  {
   "cell_type": "code",
   "execution_count": 10,
   "metadata": {
    "collapsed": true
   },
   "outputs": [],
   "source": [
    "week_day_Jan_list = [2, 3, 4, 5, 6, 9, 10, 11, 12, 13, 16, 17, 18, 19, 20, 23, 24, 25, 26, 27, 30, 31]"
   ]
  },
  {
   "cell_type": "code",
   "execution_count": 11,
   "metadata": {
    "collapsed": false
   },
   "outputs": [],
   "source": [
    "link_day_minute_Jan_list = []\n",
    "for link_idx in range(24):\n",
    "    for day in week_day_Jan_list: \n",
    "        for minute_idx in range(120):\n",
    "            key = 'link_' + str(link_idx) + '_' + str(day)\n",
    "            link_day_minute_Jan_list.append(link_day_minute_Jan_dict_JSON[key] ['PM_flow_minute'][minute_idx])"
   ]
  },
  {
   "cell_type": "code",
   "execution_count": 12,
   "metadata": {
    "collapsed": false
   },
   "outputs": [
    {
     "data": {
      "text/plain": [
       "63360"
      ]
     },
     "execution_count": 12,
     "metadata": {},
     "output_type": "execute_result"
    }
   ],
   "source": [
    "len(link_day_minute_Jan_list)"
   ]
  },
  {
   "cell_type": "code",
   "execution_count": 13,
   "metadata": {
    "collapsed": false
   },
   "outputs": [],
   "source": [
    "x = np.matrix(link_day_minute_Jan_list)\n",
    "x = np.matrix.reshape(x, 24, 2640)\n",
    "\n",
    "x = np.nan_to_num(x)\n",
    "y = np.array(np.transpose(x))\n",
    "y = y[np.all(y != 0, axis=1)]\n",
    "x = np.transpose(y)\n",
    "x = np.matrix(x)"
   ]
  },
  {
   "cell_type": "code",
   "execution_count": 14,
   "metadata": {
    "collapsed": false
   },
   "outputs": [
    {
     "data": {
      "text/plain": [
       "(24, 2640)"
      ]
     },
     "execution_count": 14,
     "metadata": {},
     "output_type": "execute_result"
    }
   ],
   "source": [
    "np.size(x, 0), np.size(x, 1)"
   ]
  },
  {
   "cell_type": "code",
   "execution_count": 15,
   "metadata": {
    "collapsed": false
   },
   "outputs": [
    {
     "data": {
      "text/plain": [
       "matrix([[ 2397.3116686 ,  3403.89050021],\n",
       "        [ 2972.13657819,  2526.82859849],\n",
       "        [ 4391.35938282,  4551.50503312],\n",
       "        [ 2962.92124502,  3317.68641716],\n",
       "        [ 3576.30729231,  2730.76993355],\n",
       "        [ 1907.22712193,  2246.15137891],\n",
       "        [ 2267.77767399,  3014.72444069],\n",
       "        [ 3761.01731468,  3171.92466399],\n",
       "        [ 3961.42761319,  5381.7283612 ],\n",
       "        [ 5053.84798728,  4242.65635446],\n",
       "        [ 3000.87543888,  4359.91425011],\n",
       "        [ 4336.52453263,  4375.72044637],\n",
       "        [ 4423.21058749,  4356.78145045],\n",
       "        [ 3250.54600988,  3548.47865437],\n",
       "        [ 2737.93892372,  5661.60660252],\n",
       "        [ 4951.87169606,  3162.9181512 ],\n",
       "        [ 3008.2822909 ,  2376.1562092 ],\n",
       "        [ 2405.90876275,  3598.51338185],\n",
       "        [ 4135.52045697,  4119.64028174],\n",
       "        [ 5238.23178869,  8321.06261477],\n",
       "        [ 5440.71986222,  3394.63439287],\n",
       "        [ 2067.80285041,  3054.0533749 ],\n",
       "        [ 2504.8986245 ,  3564.50743253],\n",
       "        [ 3438.70962085,  2677.87177733]])"
      ]
     },
     "execution_count": 15,
     "metadata": {},
     "output_type": "execute_result"
    }
   ],
   "source": [
    "x[:,:2]"
   ]
  },
  {
   "cell_type": "code",
   "execution_count": 16,
   "metadata": {
    "collapsed": false
   },
   "outputs": [
    {
     "data": {
      "text/plain": [
       "(24, 140)"
      ]
     },
     "execution_count": 16,
     "metadata": {},
     "output_type": "execute_result"
    }
   ],
   "source": [
    "np.size(A,0), np.size(A,1)"
   ]
  },
  {
   "cell_type": "code",
   "execution_count": 17,
   "metadata": {
    "collapsed": false
   },
   "outputs": [
    {
     "name": "stdout",
     "output_type": "stream",
     "text": [
      "Optimize a model with 56 rows, 56 columns and 56 nonzeros\n",
      "Model has 1596 quadratic objective terms\n",
      "Coefficient statistics:\n",
      "  Matrix range    [1e+00, 1e+00]\n",
      "  Objective range [1e-01, 2e+01]\n",
      "  Bounds range    [0e+00, 0e+00]\n",
      "  RHS range       [0e+00, 0e+00]\n",
      "Presolve removed 56 rows and 0 columns\n",
      "Presolve time: 0.00s\n",
      "Presolved: 0 rows, 56 columns, 0 nonzeros\n",
      "Presolved model has 1596 quadratic objective terms\n",
      "Ordering time: 0.00s\n",
      "\n",
      "Barrier statistics:\n",
      " Free vars  : 24\n",
      " AA' NZ     : 2.760e+02\n",
      " Factor NZ  : 3.000e+02\n",
      " Factor Ops : 4.900e+03 (less than 1 second per iteration)\n",
      " Threads    : 1\n",
      "\n",
      "                  Objective                Residual\n",
      "Iter       Primal          Dual         Primal    Dual     Compl     Time\n",
      "   0  -1.26879370e+06  0.00000000e+00  4.50e+03 2.42e+02  9.52e+05     0s\n",
      "   1   1.01989804e+06 -1.76970722e+06  6.74e+02 1.47e+02  1.87e+05     0s\n",
      "   2   4.89213128e+05 -1.00035885e+06  6.74e-04 5.68e-14  2.66e+04     0s\n",
      "   3  -4.69741777e+04 -2.56961545e+05  6.73e-10 2.84e-14  3.75e+03     0s\n",
      "   4  -1.04595044e+05 -1.29583890e+05  2.02e-12 5.68e-14  4.46e+02     0s\n",
      "   5  -1.08502676e+05 -1.10046019e+05  1.56e-12 5.68e-14  2.76e+01     0s\n",
      "   6  -1.08697028e+05 -1.08764478e+05  3.92e-12 1.14e-13  1.20e+00     0s\n",
      "   7  -1.08710581e+05 -1.08728990e+05  5.26e-12 8.53e-14  3.29e-01     0s\n",
      "   8  -1.08712993e+05 -1.08714789e+05  7.96e-13 5.68e-14  3.21e-02     0s\n",
      "   9  -1.08713745e+05 -1.08714157e+05  3.51e-12 2.84e-14  7.36e-03     0s\n",
      "  10  -1.08713835e+05 -1.08713854e+05  1.80e-12 2.84e-14  3.49e-04     0s\n",
      "  11  -1.08713840e+05 -1.08713842e+05  2.22e-12 7.11e-14  3.59e-05     0s\n",
      "  12  -1.08713841e+05 -1.08713841e+05  1.11e-12 4.26e-14  1.56e-07     0s\n",
      "  13  -1.08713841e+05 -1.08713841e+05  1.46e-12 2.84e-14  1.77e-08     0s\n",
      "  14  -1.08713841e+05 -1.08713841e+05  3.03e-13 7.56e-11  1.80e-09     0s\n",
      "\n",
      "Barrier solved model in 14 iterations and 0.01 seconds\n",
      "Optimal objective -1.08713841e+05\n",
      "\n",
      "lam_0 1.64816e-09\n",
      "lam_1 3563.85\n",
      "lam_2 1.80913e-09\n",
      "lam_3 3713.61\n",
      "lam_4 1428.74\n",
      "lam_5 2.65684e-05\n",
      "lam_6 5.34981e-07\n",
      "lam_7 0.000448791\n",
      "lam_8 963.072\n",
      "lam_9 4120.66\n",
      "lam_10 1384.35\n",
      "lam_11 886.203\n",
      "lam_12 2.65684e-05\n",
      "lam_13 2.67205e-05\n",
      "lam_14 5854.87\n",
      "lam_15 2335.49\n",
      "lam_16 6.9575\n",
      "lam_17 1315.38\n",
      "lam_18 5825.23\n",
      "lam_19 8195.05\n",
      "lam_20 2.65763e-05\n",
      "lam_21 1480.71\n",
      "lam_22 2534.22\n",
      "lam_23 175.843\n",
      "lam_24 27.0679\n",
      "lam_25 3102.26\n",
      "lam_26 1.52329e-05\n",
      "lam_27 2757\n",
      "lam_28 1.39723\n",
      "lam_29 2.0378\n",
      "lam_30 54.9704\n",
      "lam_31 7294.72\n",
      "lam_32 3421.81\n",
      "lam_33 1.50802e-05\n",
      "lam_34 1.50879e-05\n",
      "lam_35 1.7442e-06\n",
      "lam_36 1.7442e-06\n",
      "lam_37 1.73381e-06\n",
      "lam_38 5.7043\n",
      "lam_39 5889.29\n",
      "lam_40 5572.99\n",
      "lam_41 1357.06\n",
      "lam_42 3.70828e-06\n",
      "lam_43 3.70828e-06\n",
      "lam_44 15238.1\n",
      "lam_45 13.7564\n",
      "lam_46 1326.53\n",
      "lam_47 1296.38\n",
      "lam_48 2109.34\n",
      "lam_49 3.7185e-06\n",
      "lam_50 3.74943e-06\n",
      "lam_51 3.70956e-06\n",
      "lam_52 2988.67\n",
      "lam_53 1138.93\n",
      "lam_54 1158.12\n",
      "lam_55 2828.13\n",
      "Obj: -108706\n"
     ]
    }
   ],
   "source": [
    "from gurobipy import *\n",
    "\n",
    "L = 56  # dimension of lam\n",
    "\n",
    "K = np.size(x, 1)\n",
    "S = samp_cov(x)\n",
    "inv_S = inv(S)\n",
    "\n",
    "A_t = np.transpose(A)\n",
    "P_t = np.transpose(P)\n",
    "# PA'\n",
    "PA_t = np.dot(P, A_t)\n",
    "# AP_t\n",
    "AP_t = np.transpose(PA_t)\n",
    "\n",
    "Q = np.dot(np.dot(PA_t, inv_S), AP_t)\n",
    "b = sum([np.dot(np.dot(PA_t, inv_S), x[:, k]) for k in range(K)])\n",
    "\n",
    "\n",
    "model = Model(\"OD_matrix_estimation\")\n",
    "\n",
    "lam = []\n",
    "for l in range(L):\n",
    "    lam.append(model.addVar(name='lam_' + str(l)))\n",
    "\n",
    "model.update() \n",
    "\n",
    "# Set objective: (K/2) lam' * Q * lam - b' * lam\n",
    "obj = 0\n",
    "for i in range(L):\n",
    "    for j in range(L):\n",
    "        obj += (1.0 /2) * K * lam[i] * Q[i, j] * lam[j]\n",
    "for l in range(L):\n",
    "    obj += - b[l] * lam[l]\n",
    "model.setObjective(obj)\n",
    "\n",
    "# Add constraint: lam >= 0\n",
    "for l in range(L):\n",
    "    model.addConstr(lam[l] >= 0)\n",
    "\n",
    "model.update() \n",
    "\n",
    "model.optimize()\n",
    "\n",
    "lam_list = []\n",
    "for v in model.getVars():\n",
    "    print('%s %g' % (v.varName, v.x))\n",
    "    lam_list.append(v.x)\n",
    "print('Obj: %g' % obj.getValue())"
   ]
  },
  {
   "cell_type": "code",
   "execution_count": 18,
   "metadata": {
    "collapsed": false
   },
   "outputs": [],
   "source": [
    "# write estimation result to file\n",
    "n = 8  # number of nodes\n",
    "with open('../temp_files/OD_demand_matrix_Jan_weekday_PM.txt', 'w') as the_file:\n",
    "    idx = 0\n",
    "    for i in range(n + 1)[1:]:\n",
    "        for j in range(n + 1)[1:]:\n",
    "            if i != j: \n",
    "                the_file.write(\"%d,%d,%f\\n\" %(i, j, lam_list[idx]))\n",
    "                idx += 1"
   ]
  },
  {
   "cell_type": "code",
   "execution_count": 19,
   "metadata": {
    "collapsed": false
   },
   "outputs": [
    {
     "data": {
      "text/plain": [
       "[1.6481579793822668e-09,\n",
       " 3563.8545356149225,\n",
       " 1.8091343641793238e-09,\n",
       " 3713.613425340867,\n",
       " 1428.7397101680099,\n",
       " 2.6568438500099303e-05,\n",
       " 5.349807817211262e-07,\n",
       " 0.0004487906753124172,\n",
       " 963.0720624257141,\n",
       " 4120.657315896594,\n",
       " 1384.3480142276187,\n",
       " 886.2033500848895,\n",
       " 2.656839794487007e-05,\n",
       " 2.6720526225434418e-05,\n",
       " 5854.874980815523,\n",
       " 2335.4877889796267,\n",
       " 6.957504338275463,\n",
       " 1315.3771286086921,\n",
       " 5825.22614033648,\n",
       " 8195.048828964656,\n",
       " 2.657627349134388e-05,\n",
       " 1480.7074631142705,\n",
       " 2534.220319807845,\n",
       " 175.84310766251994,\n",
       " 27.06789489612453,\n",
       " 3102.2620282550374,\n",
       " 1.52329097736873e-05,\n",
       " 2756.9968837525917,\n",
       " 1.397227086233947,\n",
       " 2.0377954289051274,\n",
       " 54.97043054912344,\n",
       " 7294.720088254931,\n",
       " 3421.8090439485522,\n",
       " 1.508024169939845e-05,\n",
       " 1.508788970892627e-05,\n",
       " 1.7441967288575651e-06,\n",
       " 1.7441967158195054e-06,\n",
       " 1.7338077784112907e-06,\n",
       " 5.704297794967676,\n",
       " 5889.286264031378,\n",
       " 5572.989201787567,\n",
       " 1357.0639675680306,\n",
       " 3.7082849157719098e-06,\n",
       " 3.708284554345499e-06,\n",
       " 15238.08274113147,\n",
       " 13.756446599669374,\n",
       " 1326.5348924882546,\n",
       " 1296.379007851081,\n",
       " 2109.3438360388795,\n",
       " 3.718498322474709e-06,\n",
       " 3.7494303223878993e-06,\n",
       " 3.7095593191598363e-06,\n",
       " 2988.6693950288864,\n",
       " 1138.9322713078163,\n",
       " 1158.1202006175624,\n",
       " 2828.126499149388]"
      ]
     },
     "execution_count": 19,
     "metadata": {},
     "output_type": "execute_result"
    }
   ],
   "source": [
    "lam_list"
   ]
  },
  {
   "cell_type": "code",
   "execution_count": null,
   "metadata": {
    "collapsed": true
   },
   "outputs": [],
   "source": []
  }
 ],
 "metadata": {
  "kernelspec": {
   "display_name": "Python 2",
   "language": "python",
   "name": "python2"
  },
  "language_info": {
   "codemirror_mode": {
    "name": "ipython",
    "version": 2
   },
   "file_extension": ".py",
   "mimetype": "text/x-python",
   "name": "python",
   "nbconvert_exporter": "python",
   "pygments_lexer": "ipython2",
   "version": "2.7.11"
  }
 },
 "nbformat": 4,
 "nbformat_minor": 0
}
