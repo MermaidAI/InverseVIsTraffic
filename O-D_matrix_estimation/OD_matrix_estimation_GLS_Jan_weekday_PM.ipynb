{
 "cells": [
  {
   "cell_type": "code",
   "execution_count": 1,
   "metadata": {
    "collapsed": true
   },
   "outputs": [],
   "source": [
    "%run ../Python_files/util_data_storage_and_load.py"
   ]
  },
  {
   "cell_type": "code",
   "execution_count": 2,
   "metadata": {
    "collapsed": true
   },
   "outputs": [],
   "source": [
    "%run ../Python_files/load_dicts.py"
   ]
  },
  {
   "cell_type": "code",
   "execution_count": 3,
   "metadata": {
    "collapsed": false
   },
   "outputs": [],
   "source": [
    "%run ../Python_files/util.py"
   ]
  },
  {
   "cell_type": "code",
   "execution_count": 4,
   "metadata": {
    "collapsed": true
   },
   "outputs": [],
   "source": [
    "# load logit_route_choice_probability_matrix\n",
    "P = zload('../temp_files/logit_route_choice_probability_matrix.pkz')"
   ]
  },
  {
   "cell_type": "code",
   "execution_count": 5,
   "metadata": {
    "collapsed": false
   },
   "outputs": [],
   "source": [
    "import numpy as np\n",
    "from numpy.linalg import inv\n",
    "\n",
    "P = np.matrix(P)"
   ]
  },
  {
   "cell_type": "code",
   "execution_count": 6,
   "metadata": {
    "collapsed": false
   },
   "outputs": [
    {
     "data": {
      "text/plain": [
       "(56, 140)"
      ]
     },
     "execution_count": 6,
     "metadata": {},
     "output_type": "execute_result"
    }
   ],
   "source": [
    "np.size(P, 0), np.size(P, 1)"
   ]
  },
  {
   "cell_type": "code",
   "execution_count": 7,
   "metadata": {
    "collapsed": true
   },
   "outputs": [],
   "source": [
    "import numpy as np\n",
    "from numpy.linalg import inv\n",
    "\n",
    "def samp_cov(x):\n",
    "    \"\"\"\n",
    "    x: sample matrix, each column is a link flow vector sample; 24 * K\n",
    "    K: number of samples\n",
    "    S: sample covariance matrix\n",
    "    ----------------\n",
    "    return: inv(S)\n",
    "    ----------------\n",
    "    \"\"\"\n",
    "    x = np.matrix(x)\n",
    "    K = np.size(x, 1)\n",
    "    x_mean = sum(x[:,k] for k in range(K)) / K\n",
    "    S = sum(np.dot(x[:,k] - x_mean, np.transpose(x[:,k] - x_mean)) for k in range(K)) / (K - 1)\n",
    "    return S"
   ]
  },
  {
   "cell_type": "code",
   "execution_count": 8,
   "metadata": {
    "collapsed": false
   },
   "outputs": [],
   "source": [
    "# load path-link incidence matrix\n",
    "A = zload('../temp_files/path-link_incidence_matrix.pkz')"
   ]
  },
  {
   "cell_type": "code",
   "execution_count": 9,
   "metadata": {
    "collapsed": false
   },
   "outputs": [],
   "source": [
    "# load link counts data\n",
    "\n",
    "import json\n",
    "\n",
    "with open('../temp_files/link_day_minute_Jan_dict_JSON.json', 'r') as json_file:\n",
    "    link_day_minute_Jan_dict_JSON = json.load(json_file)"
   ]
  },
  {
   "cell_type": "code",
   "execution_count": 10,
   "metadata": {
    "collapsed": true
   },
   "outputs": [],
   "source": [
    "week_day_Jan_list = [2, 3, 4, 5, 6, 9, 10, 11, 12, 13, 16, 17, 18, 19, 20, 23, 24, 25, 26, 27, 30, 31]"
   ]
  },
  {
   "cell_type": "code",
   "execution_count": 11,
   "metadata": {
    "collapsed": false
   },
   "outputs": [],
   "source": [
    "link_day_minute_Jan_list = []\n",
    "for link_idx in range(24):\n",
    "    for day in week_day_Jan_list: \n",
    "        for minute_idx in range(120):\n",
    "            key = 'link_' + str(link_idx) + '_' + str(day)\n",
    "            link_day_minute_Jan_list.append(link_day_minute_Jan_dict_JSON[key] ['PM_flow_minute'][minute_idx])"
   ]
  },
  {
   "cell_type": "code",
   "execution_count": 12,
   "metadata": {
    "collapsed": false
   },
   "outputs": [
    {
     "data": {
      "text/plain": [
       "63360"
      ]
     },
     "execution_count": 12,
     "metadata": {},
     "output_type": "execute_result"
    }
   ],
   "source": [
    "len(link_day_minute_Jan_list)"
   ]
  },
  {
   "cell_type": "code",
   "execution_count": 13,
   "metadata": {
    "collapsed": false
   },
   "outputs": [],
   "source": [
    "x = np.matrix(link_day_minute_Jan_list)\n",
    "x = np.matrix.reshape(x, 24, 2640)\n",
    "\n",
    "x = np.nan_to_num(x)\n",
    "y = np.array(np.transpose(x))\n",
    "y = y[np.all(y != 0, axis=1)]\n",
    "x = np.transpose(y)\n",
    "x = np.matrix(x)"
   ]
  },
  {
   "cell_type": "code",
   "execution_count": 14,
   "metadata": {
    "collapsed": false
   },
   "outputs": [
    {
     "data": {
      "text/plain": [
       "(24, 2640)"
      ]
     },
     "execution_count": 14,
     "metadata": {},
     "output_type": "execute_result"
    }
   ],
   "source": [
    "np.size(x, 0), np.size(x, 1)"
   ]
  },
  {
   "cell_type": "code",
   "execution_count": 15,
   "metadata": {
    "collapsed": false
   },
   "outputs": [
    {
     "data": {
      "text/plain": [
       "matrix([[ 1230.12416328,  1279.38104524],\n",
       "        [ 1228.05925487,  1209.42588982],\n",
       "        [ 1536.42011653,  1541.94969038],\n",
       "        [ 1482.21724808,  1493.13076857],\n",
       "        [ 1563.84999771,  1546.95935776],\n",
       "        [ 1421.64559003,  1417.08420916],\n",
       "        [ 1218.21818385,  1265.1050915 ],\n",
       "        [ 1313.79255409,  1286.83002547],\n",
       "        [ 1652.3063151 ,  1697.08769505],\n",
       "        [ 1680.54984494,  1671.7467482 ],\n",
       "        [ 1342.67353554,  1430.76524469],\n",
       "        [ 1269.89950211,  1271.68701548],\n",
       "        [ 1247.66327751,  1247.22950748],\n",
       "        [ 1327.46584828,  1347.45889852],\n",
       "        [ 1244.98367115,  1304.71836289],\n",
       "        [  942.74079074,   953.12973098],\n",
       "        [ 1239.47556914,  1239.00705353],\n",
       "        [ 1256.40520692,  1300.86700399],\n",
       "        [ 1568.97186586,  1548.68494056],\n",
       "        [ 1599.34311776,  1660.31884167],\n",
       "        [ 1534.18834188,  1481.70426083],\n",
       "        [ 1403.63055177,  1423.62591683],\n",
       "        [ 1223.48363077,  1275.87847974],\n",
       "        [ 1288.20548244,  1261.90393049]])"
      ]
     },
     "execution_count": 15,
     "metadata": {},
     "output_type": "execute_result"
    }
   ],
   "source": [
    "x[:,:2]"
   ]
  },
  {
   "cell_type": "code",
   "execution_count": 16,
   "metadata": {
    "collapsed": false
   },
   "outputs": [
    {
     "data": {
      "text/plain": [
       "(24, 140)"
      ]
     },
     "execution_count": 16,
     "metadata": {},
     "output_type": "execute_result"
    }
   ],
   "source": [
    "np.size(A,0), np.size(A,1)"
   ]
  },
  {
   "cell_type": "code",
   "execution_count": 17,
   "metadata": {
    "collapsed": false
   },
   "outputs": [
    {
     "name": "stdout",
     "output_type": "stream",
     "text": [
      "Optimize a model with 56 rows, 56 columns and 56 nonzeros\n",
      "Model has 1596 quadratic objective terms\n",
      "Coefficient statistics:\n",
      "  Matrix range    [1e+00, 1e+00]\n",
      "  Objective range [2e+01, 5e+03]\n",
      "  Bounds range    [0e+00, 0e+00]\n",
      "  RHS range       [0e+00, 0e+00]\n",
      "Warning: diagonal adjustment of 1.0e-08 performed to make Q PSD\n",
      "Presolve removed 56 rows and 0 columns\n",
      "Presolve time: 0.00s\n",
      "Presolved: 0 rows, 56 columns, 0 nonzeros\n",
      "Presolved model has 1596 quadratic objective terms\n",
      "Ordering time: 0.00s\n",
      "\n",
      "Barrier statistics:\n",
      " Free vars  : 25\n",
      " AA' NZ     : 3.000e+02\n",
      " Factor NZ  : 3.250e+02\n",
      " Factor Ops : 5.525e+03 (less than 1 second per iteration)\n",
      " Threads    : 1\n",
      "\n",
      "                  Objective                Residual\n",
      "Iter       Primal          Dual         Primal    Dual     Compl     Time\n",
      "   0  -5.85460522e+07  0.00000000e+00  8.20e+03 1.32e+03  1.00e+06     0s\n",
      "   1  -1.48862052e+07 -1.48137575e+07  6.08e+02 9.78e+01  1.76e+05     0s\n",
      "   2  -1.16332007e+07 -1.24413900e+07  3.82e+01 6.15e+00  2.37e+04     0s\n",
      "   3  -1.15339689e+07 -1.16950157e+07  3.82e-05 6.15e-06  2.88e+03     0s\n",
      "   4  -1.15513273e+07 -1.15562038e+07  1.86e-07 2.99e-08  8.71e+01     0s\n",
      "   5  -1.15525582e+07 -1.15531686e+07  1.08e-10 1.36e-12  1.09e+01     0s\n",
      "   6  -1.15526629e+07 -1.15527114e+07  1.93e-10 9.09e-13  8.66e-01     0s\n",
      "   7  -1.15526648e+07 -1.15526825e+07  1.05e-09 1.14e-12  3.15e-01     0s\n",
      "   8  -1.15526659e+07 -1.15526661e+07  3.37e-11 2.73e-12  4.82e-03     0s\n",
      "   9  -1.15526660e+07 -1.15526661e+07  6.62e-11 4.55e-13  9.93e-04     0s\n",
      "  10  -1.15526660e+07 -1.15526660e+07  5.15e-11 2.73e-12  1.68e-04     0s\n",
      "  11  -1.15526660e+07 -1.15526660e+07  2.06e-10 4.55e-13  1.66e-05     0s\n",
      "  12  -1.15526660e+07 -1.15526660e+07  7.56e-10 2.73e-12  2.18e-06     0s\n",
      "  13  -1.15526660e+07 -1.15526660e+07  4.77e-11 1.00e-10  2.95e-07     0s\n",
      "  14  -1.15526660e+07 -1.15526660e+07  2.56e-11 4.55e-10  1.96e-08     0s\n",
      "  15  -1.15526660e+07 -1.15526660e+07  1.36e-12 9.62e-11  1.79e-09     0s\n",
      "\n",
      "Barrier solved model in 15 iterations and 0.02 seconds\n",
      "Optimal objective -1.15526660e+07\n",
      "\n",
      "lam_0 6.71079e-12\n",
      "lam_1 1173.32\n",
      "lam_2 7.36623e-12\n",
      "lam_3 0.00021075\n",
      "lam_4 1522.62\n",
      "lam_5 0.000352861\n",
      "lam_6 2.22289e-09\n",
      "lam_7 0.000130533\n",
      "lam_8 59.6113\n",
      "lam_9 1351.46\n",
      "lam_10 0.000742934\n",
      "lam_11 0.00019902\n",
      "lam_12 0.000352855\n",
      "lam_13 0.000350437\n",
      "lam_14 706.154\n",
      "lam_15 0.0238232\n",
      "lam_16 0.167914\n",
      "lam_17 1525.13\n",
      "lam_18 0.000142555\n",
      "lam_19 0.000352886\n",
      "lam_20 0.000352735\n",
      "lam_21 737.861\n",
      "lam_22 630.649\n",
      "lam_23 0.0167899\n",
      "lam_24 0.215626\n",
      "lam_25 0.093975\n",
      "lam_26 1147.52\n",
      "lam_27 1219.26\n",
      "lam_28 9.4877\n",
      "lam_29 0.016414\n",
      "lam_30 0.014678\n",
      "lam_31 1234.31\n",
      "lam_32 1245.78\n",
      "lam_33 334.529\n",
      "lam_34 23.4453\n",
      "lam_35 1.67075e-06\n",
      "lam_36 1.67063e-06\n",
      "lam_37 1.67076e-06\n",
      "lam_38 0.399598\n",
      "lam_39 971.12\n",
      "lam_40 1036.4\n",
      "lam_41 538.575\n",
      "lam_42 1312.55\n",
      "lam_43 0.0234338\n",
      "lam_44 5.18047\n",
      "lam_45 0.16928\n",
      "lam_46 322.036\n",
      "lam_47 141.168\n",
      "lam_48 694.179\n",
      "lam_49 0.0079929\n",
      "lam_50 959.446\n",
      "lam_51 332.042\n",
      "lam_52 1274.97\n",
      "lam_53 0.00419847\n",
      "lam_54 0.00867885\n",
      "lam_55 0.0086812\n",
      "Obj: -1.15527e+07\n"
     ]
    }
   ],
   "source": [
    "from gurobipy import *\n",
    "\n",
    "L = 56  # dimension of lam\n",
    "\n",
    "K = np.size(x, 1)\n",
    "S = samp_cov(x)\n",
    "inv_S = inv(S)\n",
    "\n",
    "A_t = np.transpose(A)\n",
    "P_t = np.transpose(P)\n",
    "# PA'\n",
    "PA_t = np.dot(P, A_t)\n",
    "# AP_t\n",
    "AP_t = np.transpose(PA_t)\n",
    "\n",
    "Q = np.dot(np.dot(PA_t, inv_S), AP_t)\n",
    "b = sum([np.dot(np.dot(PA_t, inv_S), x[:, k]) for k in range(K)])\n",
    "\n",
    "\n",
    "model = Model(\"OD_matrix_estimation\")\n",
    "\n",
    "lam = []\n",
    "for l in range(L):\n",
    "    lam.append(model.addVar(name='lam_' + str(l)))\n",
    "\n",
    "model.update() \n",
    "\n",
    "# Set objective: (K/2) lam' * Q * lam - b * lam\n",
    "obj = 0\n",
    "for i in range(L):\n",
    "    for j in range(L):\n",
    "        obj += (1.0 /2) * K * lam[i] * Q[i, j] * lam[j]\n",
    "for l in range(L):\n",
    "    obj += - b[l] * lam[l]\n",
    "model.setObjective(obj)\n",
    "\n",
    "# Add constraint: lam >= 0\n",
    "for l in range(L):\n",
    "    model.addConstr(lam[l] >= 0)\n",
    "\n",
    "model.update() \n",
    "\n",
    "model.optimize()\n",
    "\n",
    "lam_list = []\n",
    "for v in model.getVars():\n",
    "    print('%s %g' % (v.varName, v.x))\n",
    "    lam_list.append(v.x)\n",
    "print('Obj: %g' % obj.getValue())"
   ]
  },
  {
   "cell_type": "code",
   "execution_count": 18,
   "metadata": {
    "collapsed": false
   },
   "outputs": [],
   "source": [
    "# write estimation result to file\n",
    "n = 8  # number of nodes\n",
    "with open('../temp_files/OD_demand_matrix_Jan_weekday_PM.txt', 'w') as the_file:\n",
    "    idx = 0\n",
    "    for i in range(n + 1)[1:]:\n",
    "        for j in range(n + 1)[1:]:\n",
    "            if i != j: \n",
    "                the_file.write(\"%d,%d,%f\\n\" %(i, j, lam_list[idx]))\n",
    "                idx += 1"
   ]
  },
  {
   "cell_type": "code",
   "execution_count": 19,
   "metadata": {
    "collapsed": false
   },
   "outputs": [
    {
     "data": {
      "text/plain": [
       "[6.7107862821140095e-12,\n",
       " 1173.323701991738,\n",
       " 7.366231796418669e-12,\n",
       " 0.00021075033778821515,\n",
       " 1522.617494558895,\n",
       " 0.00035286075796152946,\n",
       " 2.2228863049219443e-09,\n",
       " 0.00013053277368749736,\n",
       " 59.61129908386935,\n",
       " 1351.4561866101872,\n",
       " 0.0007429341065525417,\n",
       " 0.00019901991161669938,\n",
       " 0.0003528545990386465,\n",
       " 0.00035043725392813274,\n",
       " 706.1540472112325,\n",
       " 0.023823167817572405,\n",
       " 0.16791421058996092,\n",
       " 1525.1327374934176,\n",
       " 0.0001425546822462708,\n",
       " 0.0003528859535953809,\n",
       " 0.00035273500512810656,\n",
       " 737.8605606300498,\n",
       " 630.6490046789397,\n",
       " 0.01678986861132259,\n",
       " 0.21562578731195803,\n",
       " 0.09397501314415757,\n",
       " 1147.5220400171927,\n",
       " 1219.2581772190192,\n",
       " 9.48769533904601,\n",
       " 0.016414023013980428,\n",
       " 0.01467802659727857,\n",
       " 1234.311658565556,\n",
       " 1245.7767968161513,\n",
       " 334.52867017694484,\n",
       " 23.44533070142724,\n",
       " 1.6707546223535228e-06,\n",
       " 1.6706343705642498e-06,\n",
       " 1.670758399036882e-06,\n",
       " 0.39959800151921243,\n",
       " 971.1204652173864,\n",
       " 1036.3978495155689,\n",
       " 538.5753855175842,\n",
       " 1312.5451255876853,\n",
       " 0.0234337968517013,\n",
       " 5.180474015421396,\n",
       " 0.169279706069138,\n",
       " 322.0356235947274,\n",
       " 141.16846588500923,\n",
       " 694.1794643654472,\n",
       " 0.007992896868082328,\n",
       " 959.4458916964624,\n",
       " 332.0419041820401,\n",
       " 1274.9708375488515,\n",
       " 0.004198473581365478,\n",
       " 0.008678854263006228,\n",
       " 0.008681203797095083]"
      ]
     },
     "execution_count": 19,
     "metadata": {},
     "output_type": "execute_result"
    }
   ],
   "source": [
    "lam_list"
   ]
  },
  {
   "cell_type": "code",
   "execution_count": null,
   "metadata": {
    "collapsed": true
   },
   "outputs": [],
   "source": []
  }
 ],
 "metadata": {
  "kernelspec": {
   "display_name": "Python 2",
   "language": "python",
   "name": "python2"
  },
  "language_info": {
   "codemirror_mode": {
    "name": "ipython",
    "version": 2
   },
   "file_extension": ".py",
   "mimetype": "text/x-python",
   "name": "python",
   "nbconvert_exporter": "python",
   "pygments_lexer": "ipython2",
   "version": "2.7.11"
  }
 },
 "nbformat": 4,
 "nbformat_minor": 0
}
