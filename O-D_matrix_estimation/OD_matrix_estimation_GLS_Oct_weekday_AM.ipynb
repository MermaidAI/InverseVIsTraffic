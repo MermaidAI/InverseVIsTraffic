{
 "cells": [
  {
   "cell_type": "code",
   "execution_count": 1,
   "metadata": {
    "collapsed": true
   },
   "outputs": [],
   "source": [
    "%run ../Python_files/util_data_storage_and_load.py"
   ]
  },
  {
   "cell_type": "code",
   "execution_count": 2,
   "metadata": {
    "collapsed": true
   },
   "outputs": [],
   "source": [
    "%run ../Python_files/load_dicts.py"
   ]
  },
  {
   "cell_type": "code",
   "execution_count": 3,
   "metadata": {
    "collapsed": false
   },
   "outputs": [],
   "source": [
    "%run ../Python_files/util.py"
   ]
  },
  {
   "cell_type": "code",
   "execution_count": 4,
   "metadata": {
    "collapsed": true
   },
   "outputs": [],
   "source": [
    "# load logit_route_choice_probability_matrix\n",
    "P = zload('../temp_files/logit_route_choice_probability_matrix.pkz')"
   ]
  },
  {
   "cell_type": "code",
   "execution_count": 5,
   "metadata": {
    "collapsed": false
   },
   "outputs": [],
   "source": [
    "import numpy as np\n",
    "from numpy.linalg import inv\n",
    "\n",
    "P = np.matrix(P)"
   ]
  },
  {
   "cell_type": "code",
   "execution_count": 6,
   "metadata": {
    "collapsed": false
   },
   "outputs": [
    {
     "data": {
      "text/plain": [
       "(56, 140)"
      ]
     },
     "execution_count": 6,
     "metadata": {},
     "output_type": "execute_result"
    }
   ],
   "source": [
    "np.size(P, 0), np.size(P, 1)"
   ]
  },
  {
   "cell_type": "code",
   "execution_count": 7,
   "metadata": {
    "collapsed": true
   },
   "outputs": [],
   "source": [
    "import numpy as np\n",
    "from numpy.linalg import inv\n",
    "\n",
    "def samp_cov(x):\n",
    "    \"\"\"\n",
    "    x: sample matrix, each column is a link flow vector sample; 24 * K\n",
    "    K: number of samples\n",
    "    S: sample covariance matrix\n",
    "    ----------------\n",
    "    return: inv(S)\n",
    "    ----------------\n",
    "    \"\"\"\n",
    "    x = np.matrix(x)\n",
    "    K = np.size(x, 1)\n",
    "    x_mean = sum(x[:,k] for k in range(K)) / K\n",
    "    S = sum(np.dot(x[:,k] - x_mean, np.transpose(x[:,k] - x_mean)) for k in range(K)) / (K - 1)\n",
    "    return S"
   ]
  },
  {
   "cell_type": "code",
   "execution_count": 8,
   "metadata": {
    "collapsed": false
   },
   "outputs": [],
   "source": [
    "# load path-link incidence matrix\n",
    "A = zload('../temp_files/path-link_incidence_matrix.pkz')"
   ]
  },
  {
   "cell_type": "code",
   "execution_count": 9,
   "metadata": {
    "collapsed": false
   },
   "outputs": [],
   "source": [
    "# load link counts data\n",
    "\n",
    "import json\n",
    "\n",
    "with open('../temp_files/link_day_minute_Oct_dict_JSON.json', 'r') as json_file:\n",
    "    link_day_minute_Oct_dict_JSON = json.load(json_file)"
   ]
  },
  {
   "cell_type": "code",
   "execution_count": 10,
   "metadata": {
    "collapsed": true
   },
   "outputs": [],
   "source": [
    "week_day_Oct_list = [1, 2, 3, 4, 5, 8, 9, 10, 11, 12, 15, 16, 17, 18, 19, 22, 23, 24, 25, 26, 29, 30, 31]"
   ]
  },
  {
   "cell_type": "code",
   "execution_count": 11,
   "metadata": {
    "collapsed": false
   },
   "outputs": [],
   "source": [
    "link_day_minute_Oct_list = []\n",
    "for link_idx in range(24):\n",
    "    for day in week_day_Oct_list: \n",
    "        for minute_idx in range(120):\n",
    "            key = 'link_' + str(link_idx) + '_' + str(day)\n",
    "            link_day_minute_Oct_list.append(link_day_minute_Oct_dict_JSON[key] ['AM_flow_minute'][minute_idx])"
   ]
  },
  {
   "cell_type": "code",
   "execution_count": 12,
   "metadata": {
    "collapsed": false
   },
   "outputs": [
    {
     "data": {
      "text/plain": [
       "66240"
      ]
     },
     "execution_count": 12,
     "metadata": {},
     "output_type": "execute_result"
    }
   ],
   "source": [
    "len(link_day_minute_Oct_list)"
   ]
  },
  {
   "cell_type": "code",
   "execution_count": 13,
   "metadata": {
    "collapsed": false
   },
   "outputs": [],
   "source": [
    "x = np.matrix(link_day_minute_Oct_list)\n",
    "x = np.matrix.reshape(x, 24, 2760)\n",
    "\n",
    "x = np.nan_to_num(x)\n",
    "y = np.array(np.transpose(x))\n",
    "y = y[np.all(y != 0, axis=1)]\n",
    "x = np.transpose(y)\n",
    "x = np.matrix(x)"
   ]
  },
  {
   "cell_type": "code",
   "execution_count": 14,
   "metadata": {
    "collapsed": false
   },
   "outputs": [
    {
     "data": {
      "text/plain": [
       "(24, 2645)"
      ]
     },
     "execution_count": 14,
     "metadata": {},
     "output_type": "execute_result"
    }
   ],
   "source": [
    "np.size(x, 0), np.size(x, 1)"
   ]
  },
  {
   "cell_type": "code",
   "execution_count": 15,
   "metadata": {
    "collapsed": false
   },
   "outputs": [
    {
     "data": {
      "text/plain": [
       "matrix([[ 336858.19604559,  331971.87250321],\n",
       "        [ 348752.92194979,  341479.79193889],\n",
       "        [ 626893.78216522,  632977.82093575],\n",
       "        [ 615162.14549929,  610182.43234577],\n",
       "        [ 163856.43131575,  160682.72723537],\n",
       "        [ 233275.03929364,  227018.93831922],\n",
       "        [ 411153.62524762,  410757.20787492],\n",
       "        [ 415599.55372876,  415497.60527475],\n",
       "        [ 383566.46456258,  393736.7804047 ],\n",
       "        [ 401119.00181937,  395263.57974348],\n",
       "        [ 426484.60526329,  443310.79505501],\n",
       "        [ 261929.32097967,  245471.34066777],\n",
       "        [  92144.33952101,   76289.36065466],\n",
       "        [ 100005.28371506,  100916.65475016],\n",
       "        [ 159127.43928515,  167688.43030126],\n",
       "        [ 151004.68526745,  146887.39218976],\n",
       "        [ 214425.422214  ,  213802.43466469],\n",
       "        [ 207388.76818294,  213567.06576677],\n",
       "        [ 363486.58838623,  380494.34574008],\n",
       "        [ 352252.20118625,  358629.75027434],\n",
       "        [ 448553.75912208,  439084.45375577],\n",
       "        [ 557952.73882521,  555381.63648283],\n",
       "        [ 140590.77937224,  135201.54101049],\n",
       "        [ 138113.08284242,  138822.21423164]])"
      ]
     },
     "execution_count": 15,
     "metadata": {},
     "output_type": "execute_result"
    }
   ],
   "source": [
    "x[:,:2]"
   ]
  },
  {
   "cell_type": "code",
   "execution_count": 16,
   "metadata": {
    "collapsed": false
   },
   "outputs": [
    {
     "data": {
      "text/plain": [
       "(24, 140)"
      ]
     },
     "execution_count": 16,
     "metadata": {},
     "output_type": "execute_result"
    }
   ],
   "source": [
    "np.size(A,0), np.size(A,1)"
   ]
  },
  {
   "cell_type": "code",
   "execution_count": 17,
   "metadata": {
    "collapsed": false
   },
   "outputs": [
    {
     "name": "stdout",
     "output_type": "stream",
     "text": [
      "Optimize a model with 56 rows, 56 columns and 56 nonzeros\n",
      "Model has 1596 quadratic objective terms\n",
      "Coefficient statistics:\n",
      "  Matrix range    [1e+00, 1e+00]\n",
      "  Objective range [7e-03, 3e+01]\n",
      "  Bounds range    [0e+00, 0e+00]\n",
      "  RHS range       [0e+00, 0e+00]\n",
      "Presolve removed 56 rows and 0 columns\n",
      "Presolve time: 0.00s\n",
      "Presolved: 0 rows, 56 columns, 0 nonzeros\n",
      "Presolved model has 1596 quadratic objective terms\n",
      "Ordering time: 0.00s\n",
      "\n",
      "Barrier statistics:\n",
      " Free vars  : 24\n",
      " AA' NZ     : 2.760e+02\n",
      " Factor NZ  : 3.000e+02\n",
      " Factor Ops : 4.900e+03 (less than 1 second per iteration)\n",
      " Threads    : 1\n",
      "\n",
      "                  Objective                Residual\n",
      "Iter       Primal          Dual         Primal    Dual     Compl     Time\n",
      "   0  -1.92957057e+07  0.00000000e+00  5.50e+03 1.62e+03  1.00e+06     0s\n",
      "   1  -1.38699854e+07 -3.97525510e+06  2.05e+03 6.06e+02  4.07e+05     0s\n",
      "   2  -1.02330550e+07 -1.05026314e+07  3.44e+02 1.01e+02  1.19e+05     0s\n",
      "   3  -9.91857904e+06 -1.03911462e+07  1.64e+01 4.83e+00  1.36e+04     0s\n",
      "   4  -1.00656008e+07 -1.01302167e+07  1.64e-05 4.83e-06  1.15e+03     0s\n",
      "   5  -1.00840018e+07 -1.00908652e+07  1.61e-11 4.89e-12  1.23e+02     0s\n",
      "   6  -1.00864335e+07 -1.00879375e+07  9.42e-11 3.41e-13  2.69e+01     0s\n",
      "   7  -1.00868213e+07 -1.00871703e+07  1.49e-11 4.55e-13  6.23e+00     0s\n",
      "   8  -1.00869583e+07 -1.00869936e+07  1.36e-11 2.27e-13  6.30e-01     0s\n",
      "   9  -1.00869721e+07 -1.00869844e+07  5.23e-12 1.36e-12  2.19e-01     0s\n",
      "  10  -1.00869783e+07 -1.00869786e+07  7.96e-12 5.68e-13  3.73e-03     0s\n",
      "  11  -1.00869784e+07 -1.00869784e+07  2.16e-10 6.82e-13  2.81e-05     0s\n",
      "  12  -1.00869784e+07 -1.00869784e+07  4.45e-11 1.14e-12  1.81e-07     0s\n",
      "  13  -1.00869784e+07 -1.00869784e+07  1.36e-12 1.17e-10  1.05e-09     0s\n",
      "\n",
      "Barrier solved model in 13 iterations and 0.01 seconds\n",
      "Optimal objective -1.00869784e+07\n",
      "\n",
      "lam_0 1.65636e-09\n",
      "lam_1 186818\n",
      "lam_2 129462\n",
      "lam_3 3.65327e-06\n",
      "lam_4 70375.2\n",
      "lam_5 8.524e-06\n",
      "lam_6 6.03015e-06\n",
      "lam_7 2.54477e-08\n",
      "lam_8 1.02536e-10\n",
      "lam_9 181324\n",
      "lam_10 1.02532e-10\n",
      "lam_11 1.02536e-10\n",
      "lam_12 1.02535e-10\n",
      "lam_13 1.03224e-10\n",
      "lam_14 92426\n",
      "lam_15 8.75037e-10\n",
      "lam_16 2.48289e-07\n",
      "lam_17 3.72812e-06\n",
      "lam_18 89470.5\n",
      "lam_19 369958\n",
      "lam_20 6.21309e-06\n",
      "lam_21 110007\n",
      "lam_22 264620\n",
      "lam_23 5.71465e-07\n",
      "lam_24 59109.2\n",
      "lam_25 7473.19\n",
      "lam_26 4057.04\n",
      "lam_27 190118\n",
      "lam_28 452858\n",
      "lam_29 8.75037e-10\n",
      "lam_30 5.34528e-07\n",
      "lam_31 54520.3\n",
      "lam_32 118905\n",
      "lam_33 1.41123e-07\n",
      "lam_34 139614\n",
      "lam_35 3.84853e-06\n",
      "lam_36 8.74813e-10\n",
      "lam_37 6.86064e-07\n",
      "lam_38 6.46298e-07\n",
      "lam_39 107887\n",
      "lam_40 122149\n",
      "lam_41 3.56824e-05\n",
      "lam_42 185907\n",
      "lam_43 8.75026e-10\n",
      "lam_44 4.28958e-07\n",
      "lam_45 2.53756e-06\n",
      "lam_46 76850.9\n",
      "lam_47 385885\n",
      "lam_48 3.39359e-05\n",
      "lam_49 3.08155e-07\n",
      "lam_50 8.83625e-10\n",
      "lam_51 3.06945e-07\n",
      "lam_52 187993\n",
      "lam_53 113835\n",
      "lam_54 3.0788e-07\n",
      "lam_55 3.0798e-07\n",
      "Obj: -1.00862e+07\n"
     ]
    }
   ],
   "source": [
    "from gurobipy import *\n",
    "\n",
    "L = 56  # dimension of lam\n",
    "\n",
    "K = np.size(x, 1)\n",
    "S = samp_cov(x)\n",
    "inv_S = inv(S)\n",
    "\n",
    "A_t = np.transpose(A)\n",
    "P_t = np.transpose(P)\n",
    "# PA'\n",
    "PA_t = np.dot(P, A_t)\n",
    "# AP_t\n",
    "AP_t = np.transpose(PA_t)\n",
    "\n",
    "Q = np.dot(np.dot(PA_t, inv_S), AP_t)\n",
    "b = sum([np.dot(np.dot(PA_t, inv_S), x[:, k]) for k in range(K)])\n",
    "\n",
    "\n",
    "model = Model(\"OD_matrix_estimation\")\n",
    "\n",
    "lam = []\n",
    "for l in range(L):\n",
    "    lam.append(model.addVar(name='lam_' + str(l)))\n",
    "\n",
    "model.update() \n",
    "\n",
    "# Set objective: (K/2) lam' * Q * lam - b * lam\n",
    "obj = 0\n",
    "for i in range(L):\n",
    "    for j in range(L):\n",
    "        obj += (1.0 /2) * K * lam[i] * Q[i, j] * lam[j]\n",
    "for l in range(L):\n",
    "    obj += - b[l] * lam[l]\n",
    "model.setObjective(obj)\n",
    "\n",
    "# Add constraint: lam >= 0\n",
    "for l in range(L):\n",
    "    model.addConstr(lam[l] >= 0)\n",
    "\n",
    "model.update() \n",
    "\n",
    "model.optimize()\n",
    "\n",
    "lam_list = []\n",
    "for v in model.getVars():\n",
    "    print('%s %g' % (v.varName, v.x))\n",
    "    lam_list.append(v.x)\n",
    "print('Obj: %g' % obj.getValue())"
   ]
  },
  {
   "cell_type": "code",
   "execution_count": 18,
   "metadata": {
    "collapsed": false
   },
   "outputs": [],
   "source": [
    "# write estimation result to file\n",
    "n = 8  # number of nodes\n",
    "with open('../temp_files/OD_demand_matrix_Oct_weekday_AM.txt', 'w') as the_file:\n",
    "    idx = 0\n",
    "    for i in range(n + 1)[1:]:\n",
    "        for j in range(n + 1)[1:]:\n",
    "            if i != j: \n",
    "                the_file.write(\"%d,%d,%f\\n\" %(i, j, lam_list[idx]))\n",
    "                idx += 1"
   ]
  },
  {
   "cell_type": "code",
   "execution_count": 19,
   "metadata": {
    "collapsed": false
   },
   "outputs": [
    {
     "data": {
      "text/plain": [
       "[1.6563585712207555e-09,\n",
       " 186818.22633673414,\n",
       " 129461.69601975911,\n",
       " 3.653268413535051e-06,\n",
       " 70375.21567264557,\n",
       " 8.523998601659344e-06,\n",
       " 6.030154551899241e-06,\n",
       " 2.5447721428580458e-08,\n",
       " 1.0253639424850611e-10,\n",
       " 181324.0636889508,\n",
       " 1.025318709009762e-10,\n",
       " 1.0253637649139674e-10,\n",
       " 1.0253513039431489e-10,\n",
       " 1.0322373175021062e-10,\n",
       " 92425.99962026141,\n",
       " 8.750366576688432e-10,\n",
       " 2.4828851373819765e-07,\n",
       " 3.7281175156329014e-06,\n",
       " 89470.49663959067,\n",
       " 369957.6526398188,\n",
       " 6.213093167963934e-06,\n",
       " 110007.38168436792,\n",
       " 264620.1641929464,\n",
       " 5.714650847603818e-07,\n",
       " 59109.22330125904,\n",
       " 7473.191306260037,\n",
       " 4057.037245533209,\n",
       " 190118.04006137064,\n",
       " 452858.4286183878,\n",
       " 8.750366946922563e-10,\n",
       " 5.34527618034961e-07,\n",
       " 54520.34487055227,\n",
       " 118904.76625711069,\n",
       " 1.4112294802350774e-07,\n",
       " 139614.10016212513,\n",
       " 3.848530375885769e-06,\n",
       " 8.748132498915504e-10,\n",
       " 6.860635991487202e-07,\n",
       " 6.462984558416179e-07,\n",
       " 107886.73676417599,\n",
       " 122149.38511689655,\n",
       " 3.568238110724341e-05,\n",
       " 185906.5780507822,\n",
       " 8.750258323656429e-10,\n",
       " 4.289580834121833e-07,\n",
       " 2.537556122534138e-06,\n",
       " 76850.90326268013,\n",
       " 385884.8812829535,\n",
       " 3.393589790196168e-05,\n",
       " 3.0815463026146025e-07,\n",
       " 8.836252783045989e-10,\n",
       " 3.069447204525155e-07,\n",
       " 187993.3090467258,\n",
       " 113835.1258406188,\n",
       " 3.078799819842626e-07,\n",
       " 3.0797983863226454e-07]"
      ]
     },
     "execution_count": 19,
     "metadata": {},
     "output_type": "execute_result"
    }
   ],
   "source": [
    "lam_list"
   ]
  },
  {
   "cell_type": "code",
   "execution_count": null,
   "metadata": {
    "collapsed": true
   },
   "outputs": [],
   "source": []
  }
 ],
 "metadata": {
  "kernelspec": {
   "display_name": "Python 2",
   "language": "python",
   "name": "python2"
  },
  "language_info": {
   "codemirror_mode": {
    "name": "ipython",
    "version": 2
   },
   "file_extension": ".py",
   "mimetype": "text/x-python",
   "name": "python",
   "nbconvert_exporter": "python",
   "pygments_lexer": "ipython2",
   "version": "2.7.11"
  }
 },
 "nbformat": 4,
 "nbformat_minor": 0
}
