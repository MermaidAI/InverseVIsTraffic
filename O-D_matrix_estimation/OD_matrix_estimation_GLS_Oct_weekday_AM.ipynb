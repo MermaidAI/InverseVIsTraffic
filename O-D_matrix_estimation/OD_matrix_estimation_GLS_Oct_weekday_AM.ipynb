{
 "cells": [
  {
   "cell_type": "code",
   "execution_count": 1,
   "metadata": {
    "collapsed": true
   },
   "outputs": [],
   "source": [
    "%run ../Python_files/util_data_storage_and_load.py"
   ]
  },
  {
   "cell_type": "code",
   "execution_count": 2,
   "metadata": {
    "collapsed": true
   },
   "outputs": [],
   "source": [
    "%run ../Python_files/load_dicts.py"
   ]
  },
  {
   "cell_type": "code",
   "execution_count": 3,
   "metadata": {
    "collapsed": false
   },
   "outputs": [],
   "source": [
    "%run ../Python_files/util.py"
   ]
  },
  {
   "cell_type": "code",
   "execution_count": 4,
   "metadata": {
    "collapsed": true
   },
   "outputs": [],
   "source": [
    "# load logit_route_choice_probability_matrix\n",
    "P = zload('../temp_files/logit_route_choice_probability_matrix.pkz')"
   ]
  },
  {
   "cell_type": "code",
   "execution_count": 5,
   "metadata": {
    "collapsed": false
   },
   "outputs": [],
   "source": [
    "import numpy as np\n",
    "from numpy.linalg import inv\n",
    "\n",
    "P = np.matrix(P)"
   ]
  },
  {
   "cell_type": "code",
   "execution_count": 6,
   "metadata": {
    "collapsed": false
   },
   "outputs": [
    {
     "data": {
      "text/plain": [
       "(56, 140)"
      ]
     },
     "execution_count": 6,
     "metadata": {},
     "output_type": "execute_result"
    }
   ],
   "source": [
    "np.size(P, 0), np.size(P, 1)"
   ]
  },
  {
   "cell_type": "code",
   "execution_count": 7,
   "metadata": {
    "collapsed": true
   },
   "outputs": [],
   "source": [
    "import numpy as np\n",
    "from numpy.linalg import inv\n",
    "\n",
    "def samp_cov(x):\n",
    "    \"\"\"\n",
    "    x: sample matrix, each column is a link flow vector sample; 24 * K\n",
    "    K: number of samples\n",
    "    S: sample covariance matrix\n",
    "    ----------------\n",
    "    return: inv(S)\n",
    "    ----------------\n",
    "    \"\"\"\n",
    "    x = np.matrix(x)\n",
    "    K = np.size(x, 1)\n",
    "    x_mean = sum(x[:,k] for k in range(K)) / K\n",
    "    S = sum(np.dot(x[:,k] - x_mean, np.transpose(x[:,k] - x_mean)) for k in range(K)) / (K - 1)\n",
    "    return S"
   ]
  },
  {
   "cell_type": "code",
   "execution_count": 8,
   "metadata": {
    "collapsed": false
   },
   "outputs": [],
   "source": [
    "# load path-link incidence matrix\n",
    "A = zload('../temp_files/path-link_incidence_matrix.pkz')"
   ]
  },
  {
   "cell_type": "code",
   "execution_count": 9,
   "metadata": {
    "collapsed": false
   },
   "outputs": [],
   "source": [
    "# load link counts data\n",
    "\n",
    "import json\n",
    "\n",
    "with open('../temp_files/link_day_minute_Oct_dict_JSON.json', 'r') as json_file:\n",
    "    link_day_minute_Oct_dict_JSON = json.load(json_file)"
   ]
  },
  {
   "cell_type": "code",
   "execution_count": 10,
   "metadata": {
    "collapsed": true
   },
   "outputs": [],
   "source": [
    "week_day_Oct_list = [1, 2, 3, 4, 5, 8, 9, 10, 11, 12, 15, 16, 17, 18, 19, 22, 23, 24, 25, 26, 29, 30, 31]"
   ]
  },
  {
   "cell_type": "code",
   "execution_count": 11,
   "metadata": {
    "collapsed": false
   },
   "outputs": [],
   "source": [
    "link_day_minute_Oct_list = []\n",
    "for link_idx in range(24):\n",
    "    for day in week_day_Oct_list: \n",
    "        for minute_idx in range(120):\n",
    "            key = 'link_' + str(link_idx) + '_' + str(day)\n",
    "            link_day_minute_Oct_list.append(link_day_minute_Oct_dict_JSON[key] ['AM_flow_minute'][minute_idx])"
   ]
  },
  {
   "cell_type": "code",
   "execution_count": 12,
   "metadata": {
    "collapsed": false
   },
   "outputs": [
    {
     "data": {
      "text/plain": [
       "66240"
      ]
     },
     "execution_count": 12,
     "metadata": {},
     "output_type": "execute_result"
    }
   ],
   "source": [
    "len(link_day_minute_Oct_list)"
   ]
  },
  {
   "cell_type": "code",
   "execution_count": 13,
   "metadata": {
    "collapsed": false
   },
   "outputs": [],
   "source": [
    "x = np.matrix(link_day_minute_Oct_list)\n",
    "x = np.matrix.reshape(x, 24, 2760)\n",
    "\n",
    "x = np.nan_to_num(x)\n",
    "y = np.array(np.transpose(x))\n",
    "y = y[np.all(y != 0, axis=1)]\n",
    "x = np.transpose(y)\n",
    "x = np.matrix(x)"
   ]
  },
  {
   "cell_type": "code",
   "execution_count": 14,
   "metadata": {
    "collapsed": false
   },
   "outputs": [
    {
     "data": {
      "text/plain": [
       "(24, 2645)"
      ]
     },
     "execution_count": 14,
     "metadata": {},
     "output_type": "execute_result"
    }
   ],
   "source": [
    "np.size(x, 0), np.size(x, 1)"
   ]
  },
  {
   "cell_type": "code",
   "execution_count": 15,
   "metadata": {
    "collapsed": false
   },
   "outputs": [
    {
     "data": {
      "text/plain": [
       "matrix([[ 1233.7155907 ,  1242.33034517],\n",
       "        [ 1200.35279393,  1165.75279872],\n",
       "        [ 1485.72202931,  1500.8669689 ],\n",
       "        [ 1244.37214432,  1163.61193635],\n",
       "        [ 1508.12137715,  1496.13661074],\n",
       "        [ 1676.83252923,  1602.71227194],\n",
       "        [ 1283.00434033,  1285.06288384],\n",
       "        [ 1294.74868919,  1296.14159982],\n",
       "        [ 1719.38354082,  1770.00052896],\n",
       "        [ 1568.56499889,  1519.7618474 ],\n",
       "        [ 1503.05024213,  1512.86327057],\n",
       "        [  956.07017215,   961.85631375],\n",
       "        [ 1171.95570988,  1055.78529179],\n",
       "        [ 1342.08931733,  1340.59088213],\n",
       "        [ 1200.78416174,  1237.04438393],\n",
       "        [ 1025.50544918,  1022.94158802],\n",
       "        [ 1291.56146793,  1258.15655667],\n",
       "        [ 1224.62994611,  1266.99945303],\n",
       "        [ 1432.10213218,  1512.49935677],\n",
       "        [ 1558.75858332,  1600.75120223],\n",
       "        [ 1098.95727029,  1063.46057679],\n",
       "        [ 1334.26859967,  1358.44204878],\n",
       "        [ 1291.52403662,  1040.65780146],\n",
       "        [ 1253.80889369,  1277.13499678]])"
      ]
     },
     "execution_count": 15,
     "metadata": {},
     "output_type": "execute_result"
    }
   ],
   "source": [
    "x[:,:2]"
   ]
  },
  {
   "cell_type": "code",
   "execution_count": 16,
   "metadata": {
    "collapsed": false
   },
   "outputs": [
    {
     "data": {
      "text/plain": [
       "(24, 140)"
      ]
     },
     "execution_count": 16,
     "metadata": {},
     "output_type": "execute_result"
    }
   ],
   "source": [
    "np.size(A,0), np.size(A,1)"
   ]
  },
  {
   "cell_type": "code",
   "execution_count": 17,
   "metadata": {
    "collapsed": false
   },
   "outputs": [
    {
     "name": "stdout",
     "output_type": "stream",
     "text": [
      "Optimize a model with 56 rows, 56 columns and 56 nonzeros\n",
      "Model has 1596 quadratic objective terms\n",
      "Coefficient statistics:\n",
      "  Matrix range    [1e+00, 1e+00]\n",
      "  Objective range [2e+01, 4e+03]\n",
      "  Bounds range    [0e+00, 0e+00]\n",
      "  RHS range       [0e+00, 0e+00]\n",
      "Warning: diagonal adjustment of 5.2e-10 performed to make Q PSD\n",
      "Presolve removed 56 rows and 0 columns\n",
      "Presolve time: 0.01s\n",
      "Presolved: 0 rows, 56 columns, 0 nonzeros\n",
      "Presolved model has 1596 quadratic objective terms\n",
      "Ordering time: 0.00s\n",
      "\n",
      "Barrier statistics:\n",
      " Free vars  : 26\n",
      " AA' NZ     : 3.250e+02\n",
      " Factor NZ  : 3.510e+02\n",
      " Factor Ops : 6.201e+03 (less than 1 second per iteration)\n",
      " Threads    : 1\n",
      "\n",
      "                  Objective                Residual\n",
      "Iter       Primal          Dual         Primal    Dual     Compl     Time\n",
      "   0  -5.26585565e+07  0.00000000e+00  7.96e+03 1.13e+03  1.00e+06     0s\n",
      "   1  -1.49070312e+07 -1.20321714e+07  9.18e+02 1.30e+02  2.06e+05     0s\n",
      "   2  -9.47921794e+06 -1.09539453e+07  1.04e+01 1.47e+00  2.87e+04     0s\n",
      "   3  -9.67099310e+06 -9.83963496e+06  8.84e-02 1.25e-02  3.03e+03     0s\n",
      "   4  -9.70698113e+06 -9.71669607e+06  3.77e-07 5.35e-08  1.73e+02     0s\n",
      "   5  -9.71012561e+06 -9.71039568e+06  4.00e-09 5.46e-10  4.82e+00     0s\n",
      "   6  -9.71030601e+06 -9.71031273e+06  2.52e-10 1.11e-11  1.20e-01     0s\n",
      "   7  -9.71031088e+06 -9.71031193e+06  2.82e-10 1.14e-12  1.87e-02     0s\n",
      "   8  -9.71031102e+06 -9.71031103e+06  1.39e-11 1.02e-12  1.22e-04     0s\n",
      "   9  -9.71031102e+06 -9.71031102e+06  3.18e-12 9.09e-13  2.24e-05     0s\n",
      "  10  -9.71031102e+06 -9.71031102e+06  2.25e-11 9.09e-13  2.91e-06     0s\n",
      "  11  -9.71031102e+06 -9.71031102e+06  3.41e-11 6.82e-13  1.64e-07     0s\n",
      "  12  -9.71031102e+06 -9.71031102e+06  8.47e-13 1.31e-10  3.51e-09     0s\n",
      "\n",
      "Barrier solved model in 12 iterations and 0.03 seconds\n",
      "Optimal objective -9.71031102e+06\n",
      "\n",
      "lam_0 4.28736e-11\n",
      "lam_1 1285\n",
      "lam_2 4.96769e-11\n",
      "lam_3 0.015048\n",
      "lam_4 1372.53\n",
      "lam_5 0.0215661\n",
      "lam_6 1.49909e-08\n",
      "lam_7 1.01277e-05\n",
      "lam_8 4.54647e-11\n",
      "lam_9 1327.68\n",
      "lam_10 4.54647e-11\n",
      "lam_11 4.54647e-11\n",
      "lam_12 4.54647e-11\n",
      "lam_13 4.57254e-11\n",
      "lam_14 1780.02\n",
      "lam_15 974.298\n",
      "lam_16 0.0344676\n",
      "lam_17 1556.17\n",
      "lam_18 0.010607\n",
      "lam_19 0.0227495\n",
      "lam_20 0.0180006\n",
      "lam_21 774.71\n",
      "lam_22 589.639\n",
      "lam_23 615.635\n",
      "lam_24 0.0306133\n",
      "lam_25 0.0282847\n",
      "lam_26 460.16\n",
      "lam_27 1242.13\n",
      "lam_28 0.0108079\n",
      "lam_29 0.0144365\n",
      "lam_30 0.0182076\n",
      "lam_31 1261.04\n",
      "lam_32 1236.69\n",
      "lam_33 909.921\n",
      "lam_34 0.0586167\n",
      "lam_35 1.36143e-06\n",
      "lam_36 1.36145e-06\n",
      "lam_37 1.36145e-06\n",
      "lam_38 0.0330536\n",
      "lam_39 988.297\n",
      "lam_40 974.255\n",
      "lam_41 224.028\n",
      "lam_42 0.310849\n",
      "lam_43 2.98957\n",
      "lam_44 678.227\n",
      "lam_45 0.0365794\n",
      "lam_46 586.801\n",
      "lam_47 403.244\n",
      "lam_48 910.045\n",
      "lam_49 0.00189495\n",
      "lam_50 0.0113768\n",
      "lam_51 1214.58\n",
      "lam_52 1239.24\n",
      "lam_53 0.00460227\n",
      "lam_54 0.00459883\n",
      "lam_55 0.00475381\n",
      "Obj: -9.71031e+06\n"
     ]
    }
   ],
   "source": [
    "from gurobipy import *\n",
    "\n",
    "L = 56  # dimension of lam\n",
    "\n",
    "K = np.size(x, 1)\n",
    "S = samp_cov(x)\n",
    "inv_S = inv(S)\n",
    "\n",
    "A_t = np.transpose(A)\n",
    "P_t = np.transpose(P)\n",
    "# PA'\n",
    "PA_t = np.dot(P, A_t)\n",
    "# AP_t\n",
    "AP_t = np.transpose(PA_t)\n",
    "\n",
    "Q = np.dot(np.dot(PA_t, inv_S), AP_t)\n",
    "b = sum([np.dot(np.dot(PA_t, inv_S), x[:, k]) for k in range(K)])\n",
    "\n",
    "\n",
    "model = Model(\"OD_matrix_estimation\")\n",
    "\n",
    "lam = []\n",
    "for l in range(L):\n",
    "    lam.append(model.addVar(name='lam_' + str(l)))\n",
    "\n",
    "model.update() \n",
    "\n",
    "# Set objective: (K/2) lam' * Q * lam - b' * lam\n",
    "obj = 0\n",
    "for i in range(L):\n",
    "    for j in range(L):\n",
    "        obj += (1.0 /2) * K * lam[i] * Q[i, j] * lam[j]\n",
    "for l in range(L):\n",
    "    obj += - b[l] * lam[l]\n",
    "model.setObjective(obj)\n",
    "\n",
    "# Add constraint: lam >= 0\n",
    "for l in range(L):\n",
    "    model.addConstr(lam[l] >= 0)\n",
    "\n",
    "model.update() \n",
    "\n",
    "model.optimize()\n",
    "\n",
    "lam_list = []\n",
    "for v in model.getVars():\n",
    "    print('%s %g' % (v.varName, v.x))\n",
    "    lam_list.append(v.x)\n",
    "print('Obj: %g' % obj.getValue())"
   ]
  },
  {
   "cell_type": "code",
   "execution_count": 18,
   "metadata": {
    "collapsed": false
   },
   "outputs": [],
   "source": [
    "# write estimation result to file\n",
    "n = 8  # number of nodes\n",
    "with open('../temp_files/OD_demand_matrix_Oct_weekday_AM.txt', 'w') as the_file:\n",
    "    idx = 0\n",
    "    for i in range(n + 1)[1:]:\n",
    "        for j in range(n + 1)[1:]:\n",
    "            if i != j: \n",
    "                the_file.write(\"%d,%d,%f\\n\" %(i, j, lam_list[idx]))\n",
    "                idx += 1"
   ]
  },
  {
   "cell_type": "code",
   "execution_count": 19,
   "metadata": {
    "collapsed": false
   },
   "outputs": [
    {
     "data": {
      "text/plain": [
       "[4.287356857702462e-11,\n",
       " 1285.0048896856931,\n",
       " 4.967689479354947e-11,\n",
       " 0.015048027516733953,\n",
       " 1372.5267041074678,\n",
       " 0.021566117515215644,\n",
       " 1.4990924133806397e-08,\n",
       " 1.0127735606927171e-05,\n",
       " 4.5464708940224945e-11,\n",
       " 1327.6846275934663,\n",
       " 4.546470889072191e-11,\n",
       " 4.5464708815118427e-11,\n",
       " 4.546470885263396e-11,\n",
       " 4.57254239070568e-11,\n",
       " 1780.0206741204338,\n",
       " 974.297971795652,\n",
       " 0.03446761997269787,\n",
       " 1556.1666376684107,\n",
       " 0.010607040470388962,\n",
       " 0.02274953666356694,\n",
       " 0.01800056067856015,\n",
       " 774.7102879951916,\n",
       " 589.6391961299918,\n",
       " 615.6347412483285,\n",
       " 0.030613280902140882,\n",
       " 0.028284682907963488,\n",
       " 460.16027420779926,\n",
       " 1242.1347989725962,\n",
       " 0.010807859733044156,\n",
       " 0.01443651643673588,\n",
       " 0.018207553522180703,\n",
       " 1261.0355279720866,\n",
       " 1236.6853603281895,\n",
       " 909.9208103901057,\n",
       " 0.05861667169665896,\n",
       " 1.3614309716640527e-06,\n",
       " 1.3614487454838222e-06,\n",
       " 1.3614522235660107e-06,\n",
       " 0.033053606725851115,\n",
       " 988.2973918349129,\n",
       " 974.2552772786199,\n",
       " 224.0278379667354,\n",
       " 0.31084888823285084,\n",
       " 2.989572499782099,\n",
       " 678.2274117092279,\n",
       " 0.03657942877028919,\n",
       " 586.800891608808,\n",
       " 403.24411445019575,\n",
       " 910.0453025902359,\n",
       " 0.00189495472028553,\n",
       " 0.011376755153011953,\n",
       " 1214.5820127468855,\n",
       " 1239.2376501312667,\n",
       " 0.0046022705645662465,\n",
       " 0.0045988264783758115,\n",
       " 0.004753813696834641]"
      ]
     },
     "execution_count": 19,
     "metadata": {},
     "output_type": "execute_result"
    }
   ],
   "source": [
    "lam_list"
   ]
  },
  {
   "cell_type": "code",
   "execution_count": null,
   "metadata": {
    "collapsed": true
   },
   "outputs": [],
   "source": []
  }
 ],
 "metadata": {
  "kernelspec": {
   "display_name": "Python 2",
   "language": "python",
   "name": "python2"
  },
  "language_info": {
   "codemirror_mode": {
    "name": "ipython",
    "version": 2
   },
   "file_extension": ".py",
   "mimetype": "text/x-python",
   "name": "python",
   "nbconvert_exporter": "python",
   "pygments_lexer": "ipython2",
   "version": "2.7.11"
  }
 },
 "nbformat": 4,
 "nbformat_minor": 0
}
