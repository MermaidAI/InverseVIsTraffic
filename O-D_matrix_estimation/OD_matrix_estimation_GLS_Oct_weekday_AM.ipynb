{
 "cells": [
  {
   "cell_type": "code",
   "execution_count": 1,
   "metadata": {
    "collapsed": true
   },
   "outputs": [],
   "source": [
    "%run ../Python_files/util_data_storage_and_load.py"
   ]
  },
  {
   "cell_type": "code",
   "execution_count": 2,
   "metadata": {
    "collapsed": true
   },
   "outputs": [],
   "source": [
    "%run ../Python_files/load_dicts.py"
   ]
  },
  {
   "cell_type": "code",
   "execution_count": 3,
   "metadata": {
    "collapsed": false
   },
   "outputs": [],
   "source": [
    "%run ../Python_files/util.py"
   ]
  },
  {
   "cell_type": "code",
   "execution_count": 4,
   "metadata": {
    "collapsed": true
   },
   "outputs": [],
   "source": [
    "# load logit_route_choice_probability_matrix\n",
    "P = zload('../temp_files/logit_route_choice_probability_matrix.pkz')"
   ]
  },
  {
   "cell_type": "code",
   "execution_count": 5,
   "metadata": {
    "collapsed": false
   },
   "outputs": [],
   "source": [
    "import numpy as np\n",
    "from numpy.linalg import inv\n",
    "\n",
    "P = np.matrix(P)"
   ]
  },
  {
   "cell_type": "code",
   "execution_count": 6,
   "metadata": {
    "collapsed": false
   },
   "outputs": [
    {
     "data": {
      "text/plain": [
       "(56, 140)"
      ]
     },
     "execution_count": 6,
     "metadata": {},
     "output_type": "execute_result"
    }
   ],
   "source": [
    "np.size(P, 0), np.size(P, 1)"
   ]
  },
  {
   "cell_type": "code",
   "execution_count": 7,
   "metadata": {
    "collapsed": true
   },
   "outputs": [],
   "source": [
    "import numpy as np\n",
    "from numpy.linalg import inv\n",
    "\n",
    "def samp_cov(x):\n",
    "    \"\"\"\n",
    "    x: sample matrix, each column is a link flow vector sample; 24 * K\n",
    "    K: number of samples\n",
    "    S: sample covariance matrix\n",
    "    ----------------\n",
    "    return: inv(S)\n",
    "    ----------------\n",
    "    \"\"\"\n",
    "    x = np.matrix(x)\n",
    "    K = np.size(x, 1)\n",
    "    x_mean = sum(x[:,k] for k in range(K)) / K\n",
    "    S = sum(np.dot(x[:,k] - x_mean, np.transpose(x[:,k] - x_mean)) for k in range(K)) / (K - 1)\n",
    "    return S"
   ]
  },
  {
   "cell_type": "code",
   "execution_count": 8,
   "metadata": {
    "collapsed": false
   },
   "outputs": [],
   "source": [
    "# load path-link incidence matrix\n",
    "A = zload('../temp_files/path-link_incidence_matrix.pkz')"
   ]
  },
  {
   "cell_type": "code",
   "execution_count": 9,
   "metadata": {
    "collapsed": false
   },
   "outputs": [],
   "source": [
    "# load link counts data\n",
    "\n",
    "import json\n",
    "\n",
    "with open('../temp_files/link_day_minute_Oct_dict_JSON.json', 'r') as json_file:\n",
    "    link_day_minute_Oct_dict_JSON = json.load(json_file)"
   ]
  },
  {
   "cell_type": "code",
   "execution_count": 10,
   "metadata": {
    "collapsed": true
   },
   "outputs": [],
   "source": [
    "week_day_Oct_list = [1, 2, 3, 4, 5, 8, 9, 10, 11, 12, 15, 16, 17, 18, 19, 22, 23, 24, 25, 26, 29, 30, 31]"
   ]
  },
  {
   "cell_type": "code",
   "execution_count": 11,
   "metadata": {
    "collapsed": false
   },
   "outputs": [],
   "source": [
    "link_day_minute_Oct_list = []\n",
    "for link_idx in range(24):\n",
    "    for day in week_day_Oct_list: \n",
    "        for minute_idx in range(120):\n",
    "            key = 'link_' + str(link_idx) + '_' + str(day)\n",
    "            link_day_minute_Oct_list.append(link_day_minute_Oct_dict_JSON[key] ['AM_flow_minute'][minute_idx])"
   ]
  },
  {
   "cell_type": "code",
   "execution_count": 12,
   "metadata": {
    "collapsed": false
   },
   "outputs": [
    {
     "data": {
      "text/plain": [
       "66240"
      ]
     },
     "execution_count": 12,
     "metadata": {},
     "output_type": "execute_result"
    }
   ],
   "source": [
    "len(link_day_minute_Oct_list)"
   ]
  },
  {
   "cell_type": "code",
   "execution_count": 13,
   "metadata": {
    "collapsed": false
   },
   "outputs": [],
   "source": [
    "x = np.matrix(link_day_minute_Oct_list)\n",
    "x = np.matrix.reshape(x, 24, 2760)\n",
    "\n",
    "x = np.nan_to_num(x)\n",
    "y = np.array(np.transpose(x))\n",
    "y = y[np.all(y != 0, axis=1)]\n",
    "x = np.transpose(y)\n",
    "x = np.matrix(x)"
   ]
  },
  {
   "cell_type": "code",
   "execution_count": 14,
   "metadata": {
    "collapsed": false
   },
   "outputs": [
    {
     "data": {
      "text/plain": [
       "(24, 2645)"
      ]
     },
     "execution_count": 14,
     "metadata": {},
     "output_type": "execute_result"
    }
   ],
   "source": [
    "np.size(x, 0), np.size(x, 1)"
   ]
  },
  {
   "cell_type": "code",
   "execution_count": 15,
   "metadata": {
    "collapsed": false
   },
   "outputs": [
    {
     "data": {
      "text/plain": [
       "matrix([[  1898.41437084,   2358.94402945],\n",
       "        [  2311.64818463,   1711.86798692],\n",
       "        [  2735.6127006 ,   3185.30655375],\n",
       "        [  5786.79241704,   5359.24493481],\n",
       "        [  2810.02443508,   2796.60924666],\n",
       "        [ 11406.64962129,  10730.39715986],\n",
       "        [  3169.99714535,   3074.04317923],\n",
       "        [  3075.61861439,   3283.05739101],\n",
       "        [  8094.32335225,   8440.08482888],\n",
       "        [ 14281.49174789,  14730.6085683 ],\n",
       "        [  7644.81146538,   6906.49513998],\n",
       "        [ 11708.99130722,  11492.38607421],\n",
       "        [ 12743.17963071,  12256.51773854],\n",
       "        [  2895.07363898,   2756.34400449],\n",
       "        [ 10725.87187658,  10160.51354753],\n",
       "        [  2575.12070158,   2501.89087769],\n",
       "        [  3685.1163859 ,   2966.22579833],\n",
       "        [  1619.42115847,   2611.23387656],\n",
       "        [ 15042.2830158 ,  14346.31836023],\n",
       "        [  3705.63750748,   4745.47743477],\n",
       "        [ 12472.50010794,  12396.33278345],\n",
       "        [ 10144.27078917,  10010.51909352],\n",
       "        [  4758.92801717,   6611.48950132],\n",
       "        [  2365.68394717,   3216.3646307 ]])"
      ]
     },
     "execution_count": 15,
     "metadata": {},
     "output_type": "execute_result"
    }
   ],
   "source": [
    "x[:,:2]"
   ]
  },
  {
   "cell_type": "code",
   "execution_count": 16,
   "metadata": {
    "collapsed": false
   },
   "outputs": [
    {
     "data": {
      "text/plain": [
       "(24, 140)"
      ]
     },
     "execution_count": 16,
     "metadata": {},
     "output_type": "execute_result"
    }
   ],
   "source": [
    "np.size(A,0), np.size(A,1)"
   ]
  },
  {
   "cell_type": "code",
   "execution_count": 17,
   "metadata": {
    "collapsed": false
   },
   "outputs": [
    {
     "name": "stdout",
     "output_type": "stream",
     "text": [
      "Optimize a model with 56 rows, 56 columns and 56 nonzeros\n",
      "Model has 1596 quadratic objective terms\n",
      "Coefficient statistics:\n",
      "  Matrix range    [1e+00, 1e+00]\n",
      "  Objective range [3e-01, 2e+01]\n",
      "  Bounds range    [0e+00, 0e+00]\n",
      "  RHS range       [0e+00, 0e+00]\n",
      "Warning: diagonal adjustment of 8.6e-09 performed to make Q PSD\n",
      "Presolve removed 56 rows and 0 columns\n",
      "Presolve time: 0.00s\n",
      "Presolved: 0 rows, 56 columns, 0 nonzeros\n",
      "Presolved model has 1596 quadratic objective terms\n",
      "Ordering time: 0.00s\n",
      "\n",
      "Barrier statistics:\n",
      " Free vars  : 24\n",
      " AA' NZ     : 2.760e+02\n",
      " Factor NZ  : 3.000e+02\n",
      " Factor Ops : 4.900e+03 (less than 1 second per iteration)\n",
      " Threads    : 1\n",
      "\n",
      "                  Objective                Residual\n",
      "Iter       Primal          Dual         Primal    Dual     Compl     Time\n",
      "   0  -2.12242648e+06  0.00000000e+00  4.13e+03 1.27e+02  9.46e+05     0s\n",
      "   1   6.95436131e+05 -1.81677751e+06  7.59e+02 1.71e+02  2.15e+05     0s\n",
      "   2   7.46667841e+05 -1.39874312e+06  7.59e-04 5.68e-14  3.83e+04     0s\n",
      "   3  -1.46310363e+04 -3.17133786e+05  7.60e-10 1.14e-13  5.40e+03     0s\n",
      "   4  -9.47153206e+04 -1.29461894e+05  1.71e-12 1.28e-13  6.20e+02     0s\n",
      "   5  -1.01053452e+05 -1.03452368e+05  3.48e-12 1.07e-13  4.28e+01     0s\n",
      "   6  -1.01306674e+05 -1.01396431e+05  8.36e-12 4.26e-14  1.60e+00     0s\n",
      "   7  -1.01313637e+05 -1.01315778e+05  1.15e-10 2.84e-14  3.82e-02     0s\n",
      "   8  -1.01313742e+05 -1.01313783e+05  9.01e-12 4.26e-14  7.31e-04     0s\n",
      "   9  -1.01313752e+05 -1.01313758e+05  7.11e-12 4.26e-14  1.19e-04     0s\n",
      "  10  -1.01313753e+05 -1.01313754e+05  1.11e-12 4.26e-14  1.69e-05     0s\n",
      "  11  -1.01313753e+05 -1.01313753e+05  1.86e-12 1.42e-14  1.35e-06     0s\n",
      "  12  -1.01313753e+05 -1.01313753e+05  7.49e-12 2.84e-14  7.62e-08     0s\n",
      "  13  -1.01313753e+05 -1.01313753e+05  8.23e-12 1.80e-10  1.08e-08     0s\n",
      "  14  -1.01313753e+05 -1.01313753e+05  2.34e-13 1.78e-10  3.73e-10     0s\n",
      "\n",
      "Barrier solved model in 14 iterations and 0.02 seconds\n",
      "Optimal objective -1.01313753e+05\n",
      "\n",
      "lam_0 6.64217e-11\n",
      "lam_1 0.00247313\n",
      "lam_2 7.29092e-11\n",
      "lam_3 0.00232291\n",
      "lam_4 0.00247322\n",
      "lam_5 5398.19\n",
      "lam_6 2.20015e-08\n",
      "lam_7 0.00124451\n",
      "lam_8 0.00247125\n",
      "lam_9 3117.65\n",
      "lam_10 0.00234812\n",
      "lam_11 0.00247203\n",
      "lam_12 598.828\n",
      "lam_13 0.00246328\n",
      "lam_14 128.868\n",
      "lam_15 5406.18\n",
      "lam_16 138.671\n",
      "lam_17 0.665001\n",
      "lam_18 1221.41\n",
      "lam_19 1.72882e-06\n",
      "lam_20 7051.43\n",
      "lam_21 1897.77\n",
      "lam_22 1770.33\n",
      "lam_23 1.25489\n",
      "lam_24 3560.78\n",
      "lam_25 1.25595\n",
      "lam_26 5134.85\n",
      "lam_27 4239.89\n",
      "lam_28 872.425\n",
      "lam_29 0.70165\n",
      "lam_30 7510.56\n",
      "lam_31 2140.35\n",
      "lam_32 7547.98\n",
      "lam_33 2.01012\n",
      "lam_34 0.00246717\n",
      "lam_35 5309.41\n",
      "lam_36 0.700473\n",
      "lam_37 361.771\n",
      "lam_38 0.594484\n",
      "lam_39 2786.71\n",
      "lam_40 4950.01\n",
      "lam_41 0.00246795\n",
      "lam_42 10.4333\n",
      "lam_43 0.588736\n",
      "lam_44 5295.63\n",
      "lam_45 3.83771e-05\n",
      "lam_46 3.79192e-05\n",
      "lam_47 4462.23\n",
      "lam_48 0.00246805\n",
      "lam_49 0.112867\n",
      "lam_50 2194.73\n",
      "lam_51 10.2245\n",
      "lam_52 2019.42\n",
      "lam_53 3.79341e-05\n",
      "lam_54 0.228301\n",
      "lam_55 0.228473\n",
      "Obj: -101313\n"
     ]
    }
   ],
   "source": [
    "from gurobipy import *\n",
    "\n",
    "L = 56  # dimension of lam\n",
    "\n",
    "K = np.size(x, 1)\n",
    "S = samp_cov(x)\n",
    "inv_S = inv(S)\n",
    "\n",
    "A_t = np.transpose(A)\n",
    "P_t = np.transpose(P)\n",
    "# PA'\n",
    "PA_t = np.dot(P, A_t)\n",
    "# AP_t\n",
    "AP_t = np.transpose(PA_t)\n",
    "\n",
    "Q = np.dot(np.dot(PA_t, inv_S), AP_t)\n",
    "b = sum([np.dot(np.dot(PA_t, inv_S), x[:, k]) for k in range(K)])\n",
    "\n",
    "\n",
    "model = Model(\"OD_matrix_estimation\")\n",
    "\n",
    "lam = []\n",
    "for l in range(L):\n",
    "    lam.append(model.addVar(name='lam_' + str(l)))\n",
    "\n",
    "model.update() \n",
    "\n",
    "# Set objective: (K/2) lam' * Q * lam - b' * lam\n",
    "obj = 0\n",
    "for i in range(L):\n",
    "    for j in range(L):\n",
    "        obj += (1.0 /2) * K * lam[i] * Q[i, j] * lam[j]\n",
    "for l in range(L):\n",
    "    obj += - b[l] * lam[l]\n",
    "model.setObjective(obj)\n",
    "\n",
    "# Add constraint: lam >= 0\n",
    "for l in range(L):\n",
    "    model.addConstr(lam[l] >= 0)\n",
    "\n",
    "model.update() \n",
    "\n",
    "model.optimize()\n",
    "\n",
    "lam_list = []\n",
    "for v in model.getVars():\n",
    "    print('%s %g' % (v.varName, v.x))\n",
    "    lam_list.append(v.x)\n",
    "print('Obj: %g' % obj.getValue())"
   ]
  },
  {
   "cell_type": "code",
   "execution_count": 18,
   "metadata": {
    "collapsed": false
   },
   "outputs": [],
   "source": [
    "# write estimation result to file\n",
    "n = 8  # number of nodes\n",
    "with open('../temp_files/OD_demand_matrix_Oct_weekday_AM.txt', 'w') as the_file:\n",
    "    idx = 0\n",
    "    for i in range(n + 1)[1:]:\n",
    "        for j in range(n + 1)[1:]:\n",
    "            if i != j: \n",
    "                the_file.write(\"%d,%d,%f\\n\" %(i, j, lam_list[idx]))\n",
    "                idx += 1"
   ]
  },
  {
   "cell_type": "code",
   "execution_count": 19,
   "metadata": {
    "collapsed": false
   },
   "outputs": [
    {
     "data": {
      "text/plain": [
       "[6.642174565625127e-11,\n",
       " 0.0024731300167046416,\n",
       " 7.290918937694752e-11,\n",
       " 0.002322913235717733,\n",
       " 0.0024732224390318913,\n",
       " 5398.188450852792,\n",
       " 2.2001535979805912e-08,\n",
       " 0.0012445065636211422,\n",
       " 0.0024712540163281255,\n",
       " 3117.647922471892,\n",
       " 0.00234812392866153,\n",
       " 0.0024720332743570217,\n",
       " 598.8276359450766,\n",
       " 0.0024632796962592296,\n",
       " 128.86779323432836,\n",
       " 5406.178495912746,\n",
       " 138.67111608985994,\n",
       " 0.6650009158966128,\n",
       " 1221.4138866197743,\n",
       " 1.7288162223675073e-06,\n",
       " 7051.427999864956,\n",
       " 1897.7696966761018,\n",
       " 1770.3332993799825,\n",
       " 1.25489322480734,\n",
       " 3560.7827977780235,\n",
       " 1.2559497106207544,\n",
       " 5134.852131054291,\n",
       " 4239.886949681056,\n",
       " 872.4251272291059,\n",
       " 0.7016504775880215,\n",
       " 7510.559835662721,\n",
       " 2140.3507070954374,\n",
       " 7547.977966828832,\n",
       " 2.01011972855882,\n",
       " 0.0024671660746270613,\n",
       " 5309.411292866887,\n",
       " 0.7004730209584356,\n",
       " 361.7714501223111,\n",
       " 0.5944842992914996,\n",
       " 2786.7050566949442,\n",
       " 4950.01141352787,\n",
       " 0.0024679506089255038,\n",
       " 10.433301933808877,\n",
       " 0.5887355184123706,\n",
       " 5295.625690741101,\n",
       " 3.83770962743672e-05,\n",
       " 3.7919241842768224e-05,\n",
       " 4462.23153770465,\n",
       " 0.0024680472535851816,\n",
       " 0.1128666382106771,\n",
       " 2194.7329857075647,\n",
       " 10.224496397196607,\n",
       " 2019.4158345761477,\n",
       " 3.793412410407282e-05,\n",
       " 0.22830148246706106,\n",
       " 0.22847264267059408]"
      ]
     },
     "execution_count": 19,
     "metadata": {},
     "output_type": "execute_result"
    }
   ],
   "source": [
    "lam_list"
   ]
  },
  {
   "cell_type": "code",
   "execution_count": null,
   "metadata": {
    "collapsed": true
   },
   "outputs": [],
   "source": []
  }
 ],
 "metadata": {
  "kernelspec": {
   "display_name": "Python 2",
   "language": "python",
   "name": "python2"
  },
  "language_info": {
   "codemirror_mode": {
    "name": "ipython",
    "version": 2
   },
   "file_extension": ".py",
   "mimetype": "text/x-python",
   "name": "python",
   "nbconvert_exporter": "python",
   "pygments_lexer": "ipython2",
   "version": "2.7.11"
  }
 },
 "nbformat": 4,
 "nbformat_minor": 0
}
