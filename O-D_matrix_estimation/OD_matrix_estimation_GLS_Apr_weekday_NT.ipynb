{
 "cells": [
  {
   "cell_type": "code",
   "execution_count": 1,
   "metadata": {
    "collapsed": true
   },
   "outputs": [],
   "source": [
    "%run ../Python_files/util_data_storage_and_load.py"
   ]
  },
  {
   "cell_type": "code",
   "execution_count": 2,
   "metadata": {
    "collapsed": true
   },
   "outputs": [],
   "source": [
    "%run ../Python_files/load_dicts.py"
   ]
  },
  {
   "cell_type": "code",
   "execution_count": 3,
   "metadata": {
    "collapsed": false
   },
   "outputs": [],
   "source": [
    "%run ../Python_files/util.py"
   ]
  },
  {
   "cell_type": "code",
   "execution_count": 4,
   "metadata": {
    "collapsed": true
   },
   "outputs": [],
   "source": [
    "# load logit_route_choice_probability_matrix\n",
    "P = zload('../temp_files/logit_route_choice_probability_matrix.pkz')"
   ]
  },
  {
   "cell_type": "code",
   "execution_count": 5,
   "metadata": {
    "collapsed": false
   },
   "outputs": [],
   "source": [
    "import numpy as np\n",
    "from numpy.linalg import inv\n",
    "\n",
    "P = np.matrix(P)"
   ]
  },
  {
   "cell_type": "code",
   "execution_count": 6,
   "metadata": {
    "collapsed": false
   },
   "outputs": [
    {
     "data": {
      "text/plain": [
       "(56, 140)"
      ]
     },
     "execution_count": 6,
     "metadata": {},
     "output_type": "execute_result"
    }
   ],
   "source": [
    "np.size(P, 0), np.size(P, 1)"
   ]
  },
  {
   "cell_type": "code",
   "execution_count": 7,
   "metadata": {
    "collapsed": true
   },
   "outputs": [],
   "source": [
    "import numpy as np\n",
    "from numpy.linalg import inv\n",
    "\n",
    "def samp_cov(x):\n",
    "    \"\"\"\n",
    "    x: sample matrix, each column is a link flow vector sample; 24 * K\n",
    "    K: number of samples\n",
    "    S: sample covariance matrix\n",
    "    ----------------\n",
    "    return: inv(S)\n",
    "    ----------------\n",
    "    \"\"\"\n",
    "    x = np.matrix(x)\n",
    "    K = np.size(x, 1)\n",
    "    x_mean = sum(x[:,k] for k in range(K)) / K\n",
    "    S = sum(np.dot(x[:,k] - x_mean, np.transpose(x[:,k] - x_mean)) for k in range(K)) / (K - 1)\n",
    "    return S"
   ]
  },
  {
   "cell_type": "code",
   "execution_count": 8,
   "metadata": {
    "collapsed": false
   },
   "outputs": [],
   "source": [
    "# load path-link incidence matrix\n",
    "A = zload('../temp_files/path-link_incidence_matrix.pkz')"
   ]
  },
  {
   "cell_type": "code",
   "execution_count": 9,
   "metadata": {
    "collapsed": false
   },
   "outputs": [],
   "source": [
    "# load link counts data\n",
    "\n",
    "import json\n",
    "\n",
    "with open('../temp_files/link_day_minute_Apr_dict_JSON.json', 'r') as json_file:\n",
    "    link_day_minute_Apr_dict_JSON = json.load(json_file)"
   ]
  },
  {
   "cell_type": "code",
   "execution_count": 10,
   "metadata": {
    "collapsed": true
   },
   "outputs": [],
   "source": [
    "week_day_Apr_list = [2, 3, 4, 5, 6, 9, 10, 11, 12, 13, 16, 17, 18, 19, 20, 23, 24, 25, 26, 27, 30]"
   ]
  },
  {
   "cell_type": "code",
   "execution_count": 11,
   "metadata": {
    "collapsed": false
   },
   "outputs": [],
   "source": [
    "link_day_minute_Apr_list = []\n",
    "for link_idx in range(24):\n",
    "    for day in week_day_Apr_list: \n",
    "        for minute_idx in range(120):\n",
    "            key = 'link_' + str(link_idx) + '_' + str(day)\n",
    "            link_day_minute_Apr_list.append(link_day_minute_Apr_dict_JSON[key] ['NT_flow_minute'][minute_idx])"
   ]
  },
  {
   "cell_type": "code",
   "execution_count": 12,
   "metadata": {
    "collapsed": false
   },
   "outputs": [
    {
     "data": {
      "text/plain": [
       "60480"
      ]
     },
     "execution_count": 12,
     "metadata": {},
     "output_type": "execute_result"
    }
   ],
   "source": [
    "len(link_day_minute_Apr_list)"
   ]
  },
  {
   "cell_type": "code",
   "execution_count": 13,
   "metadata": {
    "collapsed": false
   },
   "outputs": [],
   "source": [
    "x = np.matrix(link_day_minute_Apr_list)\n",
    "x = np.matrix.reshape(x, 24, 2520)\n",
    "\n",
    "x = np.nan_to_num(x)\n",
    "y = np.array(np.transpose(x))\n",
    "y = y[np.all(y != 0, axis=1)]\n",
    "x = np.transpose(y)\n",
    "x = np.matrix(x)"
   ]
  },
  {
   "cell_type": "code",
   "execution_count": 14,
   "metadata": {
    "collapsed": false
   },
   "outputs": [
    {
     "data": {
      "text/plain": [
       "(24, 2516)"
      ]
     },
     "execution_count": 14,
     "metadata": {},
     "output_type": "execute_result"
    }
   ],
   "source": [
    "np.size(x, 0), np.size(x, 1)"
   ]
  },
  {
   "cell_type": "code",
   "execution_count": 15,
   "metadata": {
    "collapsed": false
   },
   "outputs": [
    {
     "data": {
      "text/plain": [
       "matrix([[  975144.75991934,   957700.5924282 ],\n",
       "        [  993674.68453025,  1006905.34294973],\n",
       "        [ 1848348.05701542,  1834395.1268862 ],\n",
       "        [ 1929351.11768772,  1956748.59334819],\n",
       "        [  480903.1784188 ,   486205.56048652],\n",
       "        [  601926.70221072,   596920.4623292 ],\n",
       "        [ 1178769.64348927,  1190911.93260812],\n",
       "        [ 1171879.9565668 ,  1159952.18650977],\n",
       "        [ 1101114.27310236,  1086938.86206366],\n",
       "        [ 1153761.29440029,  1127876.54602288],\n",
       "        [ 1138120.38469258,  1339113.05449946],\n",
       "        [ 1010641.91315051,  1107218.98786112],\n",
       "        [  276198.5322158 ,   273056.24422526],\n",
       "        [  303128.33286372,   296010.32957641],\n",
       "        [  455406.87899511,   462952.004351  ],\n",
       "        [  421616.03522462,   373940.22154089],\n",
       "        [  612150.95784024,   622987.46178501],\n",
       "        [  601824.61600099,   607781.95081361],\n",
       "        [ 1015283.36056256,  1008785.36462254],\n",
       "        [  915815.56318712,   900562.98509864],\n",
       "        [ 1510876.97196134,  1504511.29629193],\n",
       "        [ 1504176.50567437,  1496585.53256925],\n",
       "        [  387522.69254141,   403644.88227318],\n",
       "        [  371461.42874753,   404692.8643938 ]])"
      ]
     },
     "execution_count": 15,
     "metadata": {},
     "output_type": "execute_result"
    }
   ],
   "source": [
    "x[:,:2]"
   ]
  },
  {
   "cell_type": "code",
   "execution_count": 16,
   "metadata": {
    "collapsed": false
   },
   "outputs": [
    {
     "data": {
      "text/plain": [
       "(24, 140)"
      ]
     },
     "execution_count": 16,
     "metadata": {},
     "output_type": "execute_result"
    }
   ],
   "source": [
    "np.size(A,0), np.size(A,1)"
   ]
  },
  {
   "cell_type": "code",
   "execution_count": 17,
   "metadata": {
    "collapsed": false
   },
   "outputs": [
    {
     "name": "stdout",
     "output_type": "stream",
     "text": [
      "Optimize a model with 56 rows, 56 columns and 56 nonzeros\n",
      "Model has 1596 quadratic objective terms\n",
      "Coefficient statistics:\n",
      "  Matrix range    [1e+00, 1e+00]\n",
      "  Objective range [9e-02, 1e+01]\n",
      "  Bounds range    [0e+00, 0e+00]\n",
      "  RHS range       [0e+00, 0e+00]\n",
      "Presolve removed 56 rows and 0 columns\n",
      "Presolve time: 0.00s\n",
      "Presolved: 0 rows, 56 columns, 0 nonzeros\n",
      "Presolved model has 1596 quadratic objective terms\n",
      "Ordering time: 0.00s\n",
      "\n",
      "Barrier statistics:\n",
      " Free vars  : 24\n",
      " AA' NZ     : 2.760e+02\n",
      " Factor NZ  : 3.000e+02\n",
      " Factor Ops : 4.900e+03 (less than 1 second per iteration)\n",
      " Threads    : 1\n",
      "\n",
      "                  Objective                Residual\n",
      "Iter       Primal          Dual         Primal    Dual     Compl     Time\n",
      "   0  -2.63272261e+07  0.00000000e+00  5.71e+03 2.15e+03  1.00e+06     0s\n",
      "   1  -2.17439487e+07 -1.00770122e+07  1.40e+03 5.28e+02  2.88e+05     0s\n",
      "   2  -1.78458064e+07 -1.96269412e+07  6.13e+01 2.31e+01  5.65e+04     0s\n",
      "   3  -1.80416550e+07 -1.82906891e+07  6.13e-05 2.31e-05  4.45e+03     0s\n",
      "   4  -1.80647990e+07 -1.80778653e+07  2.58e-06 9.74e-07  2.33e+02     0s\n",
      "   5  -1.80678721e+07 -1.80700058e+07  7.05e-11 9.66e-13  3.81e+01     0s\n",
      "   6  -1.80685604e+07 -1.80686611e+07  2.73e-12 9.09e-13  1.80e+00     0s\n",
      "   7  -1.80686219e+07 -1.80686534e+07  1.16e-09 7.96e-13  5.62e-01     0s\n",
      "   8  -1.80686339e+07 -1.80686339e+07  2.41e-11 3.41e-13  8.23e-04     0s\n",
      "   9  -1.80686339e+07 -1.80686339e+07  9.55e-11 4.55e-13  8.42e-07     0s\n",
      "  10  -1.80686339e+07 -1.80686339e+07  2.50e-12 1.80e-11  3.52e-09     0s\n",
      "\n",
      "Barrier solved model in 10 iterations and 0.02 seconds\n",
      "Optimal objective -1.80686339e+07\n",
      "\n",
      "lam_0 1.58665e-08\n",
      "lam_1 590886\n",
      "lam_2 439344\n",
      "lam_3 61958.5\n",
      "lam_4 194477\n",
      "lam_5 4.35664e-05\n",
      "lam_6 0.000215767\n",
      "lam_7 443563\n",
      "lam_8 9.81618e-10\n",
      "lam_9 317812\n",
      "lam_10 9.81611e-10\n",
      "lam_11 9.81616e-10\n",
      "lam_12 9.81599e-10\n",
      "lam_13 9.88204e-10\n",
      "lam_14 12622.2\n",
      "lam_15 19218.1\n",
      "lam_16 8.12265e-07\n",
      "lam_17 79782.2\n",
      "lam_18 485018\n",
      "lam_19 1.02813e+06\n",
      "lam_20 0.000109101\n",
      "lam_21 1.47676e-05\n",
      "lam_22 891969\n",
      "lam_23 2.17347e-06\n",
      "lam_24 125386\n",
      "lam_25 39860.7\n",
      "lam_26 2.36658e-06\n",
      "lam_27 410836\n",
      "lam_28 941857\n",
      "lam_29 83800.2\n",
      "lam_30 1.94048e-06\n",
      "lam_31 156386\n",
      "lam_32 98233.2\n",
      "lam_33 5.88305e-07\n",
      "lam_34 5.5664e-06\n",
      "lam_35 709716\n",
      "lam_36 72736.1\n",
      "lam_37 1.97192e-06\n",
      "lam_38 0.000118854\n",
      "lam_39 369394\n",
      "lam_40 637895\n",
      "lam_41 32888.3\n",
      "lam_42 8.08708e-06\n",
      "lam_43 5.01812e-06\n",
      "lam_44 2.04276e-06\n",
      "lam_45 3.23987e-06\n",
      "lam_46 264637\n",
      "lam_47 1.29838e+06\n",
      "lam_48 304670\n",
      "lam_49 9.21359e-07\n",
      "lam_50 9.17316e-07\n",
      "lam_51 1.01486e-06\n",
      "lam_52 487948\n",
      "lam_53 326828\n",
      "lam_54 1.02496e-06\n",
      "lam_55 1.02545e-06\n",
      "Obj: -1.80657e+07\n"
     ]
    }
   ],
   "source": [
    "from gurobipy import *\n",
    "\n",
    "L = 56  # dimension of lam\n",
    "\n",
    "K = np.size(x, 1)\n",
    "S = samp_cov(x)\n",
    "inv_S = inv(S)\n",
    "\n",
    "A_t = np.transpose(A)\n",
    "P_t = np.transpose(P)\n",
    "# PA'\n",
    "PA_t = np.dot(P, A_t)\n",
    "# AP_t\n",
    "AP_t = np.transpose(PA_t)\n",
    "\n",
    "Q = np.dot(np.dot(PA_t, inv_S), AP_t)\n",
    "b = sum([np.dot(np.dot(PA_t, inv_S), x[:, k]) for k in range(K)])\n",
    "\n",
    "\n",
    "model = Model(\"OD_matrix_estimation\")\n",
    "\n",
    "lam = []\n",
    "for l in range(L):\n",
    "    lam.append(model.addVar(name='lam_' + str(l)))\n",
    "\n",
    "model.update() \n",
    "\n",
    "# Set objective: (K/2) lam' * Q * lam - b * lam\n",
    "obj = 0\n",
    "for i in range(L):\n",
    "    for j in range(L):\n",
    "        obj += (1.0 /2) * K * lam[i] * Q[i, j] * lam[j]\n",
    "for l in range(L):\n",
    "    obj += - b[l] * lam[l]\n",
    "model.setObjective(obj)\n",
    "\n",
    "# Add constraint: lam >= 0\n",
    "for l in range(L):\n",
    "    model.addConstr(lam[l] >= 0)\n",
    "\n",
    "model.update() \n",
    "\n",
    "model.optimize()\n",
    "\n",
    "lam_list = []\n",
    "for v in model.getVars():\n",
    "    print('%s %g' % (v.varName, v.x))\n",
    "    lam_list.append(v.x)\n",
    "print('Obj: %g' % obj.getValue())"
   ]
  },
  {
   "cell_type": "code",
   "execution_count": 18,
   "metadata": {
    "collapsed": false
   },
   "outputs": [],
   "source": [
    "# write estimation result to file\n",
    "n = 8  # number of nodes\n",
    "with open('../temp_files/OD_demand_matrix_Apr_weekday_NT.txt', 'w') as the_file:\n",
    "    idx = 0\n",
    "    for i in range(n + 1)[1:]:\n",
    "        for j in range(n + 1)[1:]:\n",
    "            if i != j: \n",
    "                the_file.write(\"%d,%d,%f\\n\" %(i, j, lam_list[idx]))\n",
    "                idx += 1"
   ]
  },
  {
   "cell_type": "code",
   "execution_count": 19,
   "metadata": {
    "collapsed": false
   },
   "outputs": [
    {
     "data": {
      "text/plain": [
       "[1.586647251604345e-08,\n",
       " 590886.2532755232,\n",
       " 439344.417101184,\n",
       " 61958.474075583035,\n",
       " 194476.72745318778,\n",
       " 4.356644703580083e-05,\n",
       " 0.00021576715281983877,\n",
       " 443562.8419036132,\n",
       " 9.816179744411704e-10,\n",
       " 317812.05320098175,\n",
       " 9.81611065906092e-10,\n",
       " 9.816163402122508e-10,\n",
       " 9.81599117577414e-10,\n",
       " 9.882042578756148e-10,\n",
       " 12622.217522304552,\n",
       " 19218.133134649008,\n",
       " 8.122645941727354e-07,\n",
       " 79782.17554085063,\n",
       " 485018.0299282034,\n",
       " 1028131.4040547326,\n",
       " 0.00010910066142823596,\n",
       " 1.4767649928431985e-05,\n",
       " 891969.2086208732,\n",
       " 2.173465949722336e-06,\n",
       " 125386.07970544738,\n",
       " 39860.72641646169,\n",
       " 2.366584221008333e-06,\n",
       " 410836.4084035846,\n",
       " 941857.0217666934,\n",
       " 83800.17369650022,\n",
       " 1.9404834784024125e-06,\n",
       " 156385.50391313856,\n",
       " 98233.1586309046,\n",
       " 5.883051970839292e-07,\n",
       " 5.566403481352096e-06,\n",
       " 709716.0988062294,\n",
       " 72736.14420605393,\n",
       " 1.971923689512978e-06,\n",
       " 0.00011885435947559322,\n",
       " 369394.0698624354,\n",
       " 637895.0111150197,\n",
       " 32888.2557106826,\n",
       " 8.087080739165291e-06,\n",
       " 5.0181225135002925e-06,\n",
       " 2.042763592166553e-06,\n",
       " 3.2398717491904537e-06,\n",
       " 264636.96247514273,\n",
       " 1298384.342779264,\n",
       " 304669.59294140054,\n",
       " 9.213594372678457e-07,\n",
       " 9.173163133871769e-07,\n",
       " 1.0148581698670106e-06,\n",
       " 487948.3999875022,\n",
       " 326827.84260777786,\n",
       " 1.0249642108126154e-06,\n",
       " 1.025447314632205e-06]"
      ]
     },
     "execution_count": 19,
     "metadata": {},
     "output_type": "execute_result"
    }
   ],
   "source": [
    "lam_list"
   ]
  },
  {
   "cell_type": "code",
   "execution_count": null,
   "metadata": {
    "collapsed": true
   },
   "outputs": [],
   "source": []
  }
 ],
 "metadata": {
  "kernelspec": {
   "display_name": "Python 2",
   "language": "python",
   "name": "python2"
  },
  "language_info": {
   "codemirror_mode": {
    "name": "ipython",
    "version": 2
   },
   "file_extension": ".py",
   "mimetype": "text/x-python",
   "name": "python",
   "nbconvert_exporter": "python",
   "pygments_lexer": "ipython2",
   "version": "2.7.11"
  }
 },
 "nbformat": 4,
 "nbformat_minor": 0
}
