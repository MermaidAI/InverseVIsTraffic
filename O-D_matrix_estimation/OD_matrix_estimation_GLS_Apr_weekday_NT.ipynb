{
 "cells": [
  {
   "cell_type": "code",
   "execution_count": 1,
   "metadata": {
    "collapsed": true
   },
   "outputs": [],
   "source": [
    "%run ../Python_files/util_data_storage_and_load.py"
   ]
  },
  {
   "cell_type": "code",
   "execution_count": 2,
   "metadata": {
    "collapsed": true
   },
   "outputs": [],
   "source": [
    "%run ../Python_files/load_dicts.py"
   ]
  },
  {
   "cell_type": "code",
   "execution_count": 3,
   "metadata": {
    "collapsed": false
   },
   "outputs": [],
   "source": [
    "%run ../Python_files/util.py"
   ]
  },
  {
   "cell_type": "code",
   "execution_count": 4,
   "metadata": {
    "collapsed": true
   },
   "outputs": [],
   "source": [
    "# load logit_route_choice_probability_matrix\n",
    "P = zload('../temp_files/logit_route_choice_probability_matrix.pkz')"
   ]
  },
  {
   "cell_type": "code",
   "execution_count": 5,
   "metadata": {
    "collapsed": false
   },
   "outputs": [],
   "source": [
    "import numpy as np\n",
    "from numpy.linalg import inv\n",
    "\n",
    "P = np.matrix(P)"
   ]
  },
  {
   "cell_type": "code",
   "execution_count": 6,
   "metadata": {
    "collapsed": false
   },
   "outputs": [
    {
     "data": {
      "text/plain": [
       "(56, 140)"
      ]
     },
     "execution_count": 6,
     "metadata": {},
     "output_type": "execute_result"
    }
   ],
   "source": [
    "np.size(P, 0), np.size(P, 1)"
   ]
  },
  {
   "cell_type": "code",
   "execution_count": 7,
   "metadata": {
    "collapsed": true
   },
   "outputs": [],
   "source": [
    "import numpy as np\n",
    "from numpy.linalg import inv\n",
    "\n",
    "def samp_cov(x):\n",
    "    \"\"\"\n",
    "    x: sample matrix, each column is a link flow vector sample; 24 * K\n",
    "    K: number of samples\n",
    "    S: sample covariance matrix\n",
    "    ----------------\n",
    "    return: inv(S)\n",
    "    ----------------\n",
    "    \"\"\"\n",
    "    x = np.matrix(x)\n",
    "    K = np.size(x, 1)\n",
    "    x_mean = sum(x[:,k] for k in range(K)) / K\n",
    "    S = sum(np.dot(x[:,k] - x_mean, np.transpose(x[:,k] - x_mean)) for k in range(K)) / (K - 1)\n",
    "    return S"
   ]
  },
  {
   "cell_type": "code",
   "execution_count": 8,
   "metadata": {
    "collapsed": false
   },
   "outputs": [],
   "source": [
    "# load path-link incidence matrix\n",
    "A = zload('../temp_files/path-link_incidence_matrix.pkz')"
   ]
  },
  {
   "cell_type": "code",
   "execution_count": 9,
   "metadata": {
    "collapsed": false
   },
   "outputs": [],
   "source": [
    "# load link counts data\n",
    "\n",
    "import json\n",
    "\n",
    "with open('../temp_files/link_day_minute_Apr_dict_JSON.json', 'r') as json_file:\n",
    "    link_day_minute_Apr_dict_JSON = json.load(json_file)"
   ]
  },
  {
   "cell_type": "code",
   "execution_count": 10,
   "metadata": {
    "collapsed": true
   },
   "outputs": [],
   "source": [
    "week_day_Apr_list = [2, 3, 4, 5, 6, 9, 10, 11, 12, 13, 16, 17, 18, 19, 20, 23, 24, 25, 26, 27, 30]"
   ]
  },
  {
   "cell_type": "code",
   "execution_count": 11,
   "metadata": {
    "collapsed": false
   },
   "outputs": [],
   "source": [
    "link_day_minute_Apr_list = []\n",
    "for link_idx in range(24):\n",
    "    for day in week_day_Apr_list: \n",
    "        for minute_idx in range(120):\n",
    "            key = 'link_' + str(link_idx) + '_' + str(day)\n",
    "            link_day_minute_Apr_list.append(link_day_minute_Apr_dict_JSON[key] ['NT_flow_minute'][minute_idx])"
   ]
  },
  {
   "cell_type": "code",
   "execution_count": 12,
   "metadata": {
    "collapsed": false
   },
   "outputs": [
    {
     "data": {
      "text/plain": [
       "60480"
      ]
     },
     "execution_count": 12,
     "metadata": {},
     "output_type": "execute_result"
    }
   ],
   "source": [
    "len(link_day_minute_Apr_list)"
   ]
  },
  {
   "cell_type": "code",
   "execution_count": 13,
   "metadata": {
    "collapsed": false
   },
   "outputs": [],
   "source": [
    "x = np.matrix(link_day_minute_Apr_list)\n",
    "x = np.matrix.reshape(x, 24, 2520)\n",
    "\n",
    "x = np.nan_to_num(x)\n",
    "y = np.array(np.transpose(x))\n",
    "y = y[np.all(y != 0, axis=1)]\n",
    "x = np.transpose(y)\n",
    "x = np.matrix(x)"
   ]
  },
  {
   "cell_type": "code",
   "execution_count": 14,
   "metadata": {
    "collapsed": false
   },
   "outputs": [
    {
     "data": {
      "text/plain": [
       "(24, 2516)"
      ]
     },
     "execution_count": 14,
     "metadata": {},
     "output_type": "execute_result"
    }
   ],
   "source": [
    "np.size(x, 0), np.size(x, 1)"
   ]
  },
  {
   "cell_type": "code",
   "execution_count": 15,
   "metadata": {
    "collapsed": false
   },
   "outputs": [
    {
     "data": {
      "text/plain": [
       "matrix([[ 3604.00833803,  3536.30874654],\n",
       "        [ 3400.32703429,  3417.55878093],\n",
       "        [ 4470.60008165,  4441.6109453 ],\n",
       "        [ 4417.44600785,  4465.18797617],\n",
       "        [ 4391.55679787,  4491.13579477],\n",
       "        [ 4117.71521812,  4204.62134947],\n",
       "        [ 3680.37857224,  3713.228648  ],\n",
       "        [ 3633.01366936,  3668.08246955],\n",
       "        [ 4896.37125813,  4870.37010637],\n",
       "        [ 4851.34775136,  4758.30905649],\n",
       "        [ 4079.43860397,  4353.24558389],\n",
       "        [ 3678.72287993,  3672.88188334],\n",
       "        [ 3432.2902516 ,  3442.63109993],\n",
       "        [ 3967.53389257,  4007.28308923],\n",
       "        [ 3574.64046677,  3624.79061037],\n",
       "        [ 2796.52083056,  2892.2839259 ],\n",
       "        [ 3604.96228945,  3671.93464521],\n",
       "        [ 3528.22256334,  3604.79440673],\n",
       "        [ 4160.25380027,  4052.55833892],\n",
       "        [ 3889.85733175,  3938.33963816],\n",
       "        [ 4157.76603586,  4111.43558856],\n",
       "        [ 3978.22876562,  3910.57949976],\n",
       "        [ 3585.50044911,  3719.179315  ],\n",
       "        [ 1940.70685733,  3690.87729429]])"
      ]
     },
     "execution_count": 15,
     "metadata": {},
     "output_type": "execute_result"
    }
   ],
   "source": [
    "x[:,:2]"
   ]
  },
  {
   "cell_type": "code",
   "execution_count": 16,
   "metadata": {
    "collapsed": false
   },
   "outputs": [
    {
     "data": {
      "text/plain": [
       "(24, 140)"
      ]
     },
     "execution_count": 16,
     "metadata": {},
     "output_type": "execute_result"
    }
   ],
   "source": [
    "np.size(A,0), np.size(A,1)"
   ]
  },
  {
   "cell_type": "code",
   "execution_count": 17,
   "metadata": {
    "collapsed": false
   },
   "outputs": [
    {
     "name": "stdout",
     "output_type": "stream",
     "text": [
      "Optimize a model with 56 rows, 56 columns and 56 nonzeros\n",
      "Model has 1596 quadratic objective terms\n",
      "Coefficient statistics:\n",
      "  Matrix range    [1e+00, 1e+00]\n",
      "  Objective range [4e+00, 2e+03]\n",
      "  Bounds range    [0e+00, 0e+00]\n",
      "  RHS range       [0e+00, 0e+00]\n",
      "Warning: diagonal adjustment of 9.6e-07 performed to make Q PSD\n",
      "Presolve removed 56 rows and 0 columns\n",
      "Presolve time: 0.00s\n",
      "Presolved: 0 rows, 56 columns, 0 nonzeros\n",
      "Presolved model has 1596 quadratic objective terms\n",
      "Ordering time: 0.00s\n",
      "\n",
      "Barrier statistics:\n",
      " Free vars  : 24\n",
      " AA' NZ     : 2.760e+02\n",
      " Factor NZ  : 3.000e+02\n",
      " Factor Ops : 4.900e+03 (less than 1 second per iteration)\n",
      " Threads    : 1\n",
      "\n",
      "                  Objective                Residual\n",
      "Iter       Primal          Dual         Primal    Dual     Compl     Time\n",
      "   0  -3.38834704e+07  0.00000000e+00  5.66e+03 1.43e+03  1.00e+06     0s\n",
      "   1  -2.11385779e+07 -1.20661915e+07  1.15e+03 2.89e+02  2.69e+05     0s\n",
      "   2  -1.61680771e+07 -1.74273125e+07  7.44e+01 1.88e+01  5.12e+04     0s\n",
      "   3  -1.59695862e+07 -1.61279396e+07  7.85e-01 1.98e-01  3.11e+03     0s\n",
      "   4  -1.59968577e+07 -1.60058340e+07  7.64e-03 1.93e-03  1.63e+02     0s\n",
      "   5  -1.60023690e+07 -1.60032426e+07  7.63e-09 1.93e-09  1.56e+01     0s\n",
      "   6  -1.60030664e+07 -1.60030799e+07  5.63e-10 1.50e-11  2.40e-01     0s\n",
      "   7  -1.60030770e+07 -1.60030785e+07  2.71e-10 9.09e-13  2.64e-02     0s\n",
      "   8  -1.60030773e+07 -1.60030775e+07  1.01e-10 6.82e-13  2.13e-03     0s\n",
      "   9  -1.60030774e+07 -1.60030774e+07  1.72e-09 4.55e-13  2.53e-04     0s\n",
      "  10  -1.60030774e+07 -1.60030774e+07  1.00e-10 9.09e-13  4.28e-05     0s\n",
      "  11  -1.60030774e+07 -1.60030774e+07  3.50e-10 4.55e-13  8.70e-06     0s\n",
      "  12  -1.60030774e+07 -1.60030774e+07  8.25e-11 1.88e-09  1.99e-06     0s\n",
      "  13  -1.60030774e+07 -1.60030774e+07  7.46e-11 1.10e-09  3.41e-07     0s\n",
      "  14  -1.60030774e+07 -1.60030774e+07  1.14e-11 5.95e-10  7.86e-08     0s\n",
      "  15  -1.60030774e+07 -1.60030774e+07  2.96e-12 1.21e-10  5.67e-09     0s\n",
      "\n",
      "Barrier solved model in 15 iterations and 0.02 seconds\n",
      "Optimal objective -1.60030774e+07\n",
      "\n",
      "lam_0 1.23641e-11\n",
      "lam_1 0.33571\n",
      "lam_2 1.36068e-11\n",
      "lam_3 0.000703202\n",
      "lam_4 1355.41\n",
      "lam_5 5745.95\n",
      "lam_6 4.10611e-09\n",
      "lam_7 5.58841e-05\n",
      "lam_8 2.67948e-10\n",
      "lam_9 3490.91\n",
      "lam_10 2.67948e-10\n",
      "lam_11 2.67948e-10\n",
      "lam_12 2.67948e-10\n",
      "lam_13 2.69485e-10\n",
      "lam_14 1641.78\n",
      "lam_15 3124.99\n",
      "lam_16 582.213\n",
      "lam_17 8.05166\n",
      "lam_18 0.00047809\n",
      "lam_19 2.83128\n",
      "lam_20 839.578\n",
      "lam_21 2295.52\n",
      "lam_22 462.225\n",
      "lam_23 894.821\n",
      "lam_24 0.117631\n",
      "lam_25 2001.79\n",
      "lam_26 0.000217956\n",
      "lam_27 3250.5\n",
      "lam_28 1.01362\n",
      "lam_29 0.935808\n",
      "lam_30 2.83109\n",
      "lam_31 259.122\n",
      "lam_32 1086.55\n",
      "lam_33 0.000214483\n",
      "lam_34 0.000216553\n",
      "lam_35 3.66843\n",
      "lam_36 13.6196\n",
      "lam_37 3.89207\n",
      "lam_38 2693.15\n",
      "lam_39 0.439585\n",
      "lam_40 664.915\n",
      "lam_41 434.334\n",
      "lam_42 3405.77\n",
      "lam_43 2.91698\n",
      "lam_44 5.3038\n",
      "lam_45 3.12267e-06\n",
      "lam_46 3.08448e-06\n",
      "lam_47 361.075\n",
      "lam_48 2369.91\n",
      "lam_49 0.00856149\n",
      "lam_50 0.758674\n",
      "lam_51 3905.54\n",
      "lam_52 3445.7\n",
      "lam_53 3.0859e-06\n",
      "lam_54 0.0199784\n",
      "lam_55 0.0168021\n",
      "Obj: -1.6003e+07\n"
     ]
    }
   ],
   "source": [
    "from gurobipy import *\n",
    "\n",
    "L = 56  # dimension of lam\n",
    "\n",
    "K = np.size(x, 1)\n",
    "S = samp_cov(x)\n",
    "inv_S = inv(S)\n",
    "\n",
    "A_t = np.transpose(A)\n",
    "P_t = np.transpose(P)\n",
    "# PA'\n",
    "PA_t = np.dot(P, A_t)\n",
    "# AP_t\n",
    "AP_t = np.transpose(PA_t)\n",
    "\n",
    "Q = np.dot(np.dot(PA_t, inv_S), AP_t)\n",
    "b = sum([np.dot(np.dot(PA_t, inv_S), x[:, k]) for k in range(K)])\n",
    "\n",
    "\n",
    "model = Model(\"OD_matrix_estimation\")\n",
    "\n",
    "lam = []\n",
    "for l in range(L):\n",
    "    lam.append(model.addVar(name='lam_' + str(l)))\n",
    "\n",
    "model.update() \n",
    "\n",
    "# Set objective: (K/2) lam' * Q * lam - b' * lam\n",
    "obj = 0\n",
    "for i in range(L):\n",
    "    for j in range(L):\n",
    "        obj += (1.0 /2) * K * lam[i] * Q[i, j] * lam[j]\n",
    "for l in range(L):\n",
    "    obj += - b[l] * lam[l]\n",
    "model.setObjective(obj)\n",
    "\n",
    "# Add constraint: lam >= 0\n",
    "for l in range(L):\n",
    "    model.addConstr(lam[l] >= 0)\n",
    "\n",
    "model.update() \n",
    "\n",
    "model.optimize()\n",
    "\n",
    "lam_list = []\n",
    "for v in model.getVars():\n",
    "    print('%s %g' % (v.varName, v.x))\n",
    "    lam_list.append(v.x)\n",
    "print('Obj: %g' % obj.getValue())"
   ]
  },
  {
   "cell_type": "code",
   "execution_count": 18,
   "metadata": {
    "collapsed": false
   },
   "outputs": [],
   "source": [
    "# write estimation result to file\n",
    "n = 8  # number of nodes\n",
    "with open('../temp_files/OD_demand_matrix_Apr_weekday_NT.txt', 'w') as the_file:\n",
    "    idx = 0\n",
    "    for i in range(n + 1)[1:]:\n",
    "        for j in range(n + 1)[1:]:\n",
    "            if i != j: \n",
    "                the_file.write(\"%d,%d,%f\\n\" %(i, j, lam_list[idx]))\n",
    "                idx += 1"
   ]
  },
  {
   "cell_type": "code",
   "execution_count": 19,
   "metadata": {
    "collapsed": false
   },
   "outputs": [
    {
     "data": {
      "text/plain": [
       "[1.2364132072989051e-11,\n",
       " 0.33570958379194593,\n",
       " 1.3606802572166925e-11,\n",
       " 0.0007032023483219685,\n",
       " 1355.406675883347,\n",
       " 5745.9543179910825,\n",
       " 4.10611121434664e-09,\n",
       " 5.588410436242915e-05,\n",
       " 2.679484309299023e-10,\n",
       " 3490.9115288666417,\n",
       " 2.679484165837996e-10,\n",
       " 2.6794830522933364e-10,\n",
       " 2.67948431173823e-10,\n",
       " 2.6948496941255556e-10,\n",
       " 1641.7848735686423,\n",
       " 3124.988697005906,\n",
       " 582.2128710325591,\n",
       " 8.051661212765083,\n",
       " 0.0004780897536740686,\n",
       " 2.831282611640347,\n",
       " 839.578240335156,\n",
       " 2295.5206426948025,\n",
       " 462.22504691698634,\n",
       " 894.8213979816585,\n",
       " 0.11763126730734763,\n",
       " 2001.7896051754801,\n",
       " 0.00021795605975342492,\n",
       " 3250.504074408173,\n",
       " 1.0136206509668,\n",
       " 0.9358081541086882,\n",
       " 2.8310892972036044,\n",
       " 259.1220268611682,\n",
       " 1086.5466369645276,\n",
       " 0.00021448346737937577,\n",
       " 0.00021655252809675606,\n",
       " 3.6684265246009264,\n",
       " 13.619583382851063,\n",
       " 3.8920688392609626,\n",
       " 2693.153020877706,\n",
       " 0.43958490385288584,\n",
       " 664.9149425730399,\n",
       " 434.3343596423644,\n",
       " 3405.7725367407247,\n",
       " 2.916975925043605,\n",
       " 5.303796224451958,\n",
       " 3.1226653447772606e-06,\n",
       " 3.084475751131178e-06,\n",
       " 361.0754227174827,\n",
       " 2369.91487296096,\n",
       " 0.008561493277153304,\n",
       " 0.7586743357986361,\n",
       " 3905.5439658208593,\n",
       " 3445.696632436734,\n",
       " 3.0859012126301113e-06,\n",
       " 0.019978409296815713,\n",
       " 0.016802050773225025]"
      ]
     },
     "execution_count": 19,
     "metadata": {},
     "output_type": "execute_result"
    }
   ],
   "source": [
    "lam_list"
   ]
  },
  {
   "cell_type": "code",
   "execution_count": null,
   "metadata": {
    "collapsed": true
   },
   "outputs": [],
   "source": []
  }
 ],
 "metadata": {
  "kernelspec": {
   "display_name": "Python 2",
   "language": "python",
   "name": "python2"
  },
  "language_info": {
   "codemirror_mode": {
    "name": "ipython",
    "version": 2
   },
   "file_extension": ".py",
   "mimetype": "text/x-python",
   "name": "python",
   "nbconvert_exporter": "python",
   "pygments_lexer": "ipython2",
   "version": "2.7.11"
  }
 },
 "nbformat": 4,
 "nbformat_minor": 0
}
