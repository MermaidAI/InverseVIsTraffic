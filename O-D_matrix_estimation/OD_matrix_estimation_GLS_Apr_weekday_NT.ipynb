{
 "cells": [
  {
   "cell_type": "code",
   "execution_count": 1,
   "metadata": {
    "collapsed": true
   },
   "outputs": [],
   "source": [
    "%run ../Python_files/util_data_storage_and_load.py"
   ]
  },
  {
   "cell_type": "code",
   "execution_count": 2,
   "metadata": {
    "collapsed": true
   },
   "outputs": [],
   "source": [
    "%run ../Python_files/load_dicts.py"
   ]
  },
  {
   "cell_type": "code",
   "execution_count": 3,
   "metadata": {
    "collapsed": false
   },
   "outputs": [],
   "source": [
    "%run ../Python_files/util.py"
   ]
  },
  {
   "cell_type": "code",
   "execution_count": 4,
   "metadata": {
    "collapsed": true
   },
   "outputs": [],
   "source": [
    "# load logit_route_choice_probability_matrix\n",
    "P = zload('../temp_files/logit_route_choice_probability_matrix.pkz')"
   ]
  },
  {
   "cell_type": "code",
   "execution_count": 5,
   "metadata": {
    "collapsed": false
   },
   "outputs": [],
   "source": [
    "import numpy as np\n",
    "from numpy.linalg import inv\n",
    "\n",
    "P = np.matrix(P)"
   ]
  },
  {
   "cell_type": "code",
   "execution_count": 6,
   "metadata": {
    "collapsed": false
   },
   "outputs": [
    {
     "data": {
      "text/plain": [
       "(56, 140)"
      ]
     },
     "execution_count": 6,
     "metadata": {},
     "output_type": "execute_result"
    }
   ],
   "source": [
    "np.size(P, 0), np.size(P, 1)"
   ]
  },
  {
   "cell_type": "code",
   "execution_count": 7,
   "metadata": {
    "collapsed": true
   },
   "outputs": [],
   "source": [
    "import numpy as np\n",
    "from numpy.linalg import inv\n",
    "\n",
    "def samp_cov(x):\n",
    "    \"\"\"\n",
    "    x: sample matrix, each column is a link flow vector sample; 24 * K\n",
    "    K: number of samples\n",
    "    S: sample covariance matrix\n",
    "    ----------------\n",
    "    return: inv(S)\n",
    "    ----------------\n",
    "    \"\"\"\n",
    "    x = np.matrix(x)\n",
    "    K = np.size(x, 1)\n",
    "    x_mean = sum(x[:,k] for k in range(K)) / K\n",
    "    S = sum(np.dot(x[:,k] - x_mean, np.transpose(x[:,k] - x_mean)) for k in range(K)) / (K - 1)\n",
    "    return S"
   ]
  },
  {
   "cell_type": "code",
   "execution_count": 8,
   "metadata": {
    "collapsed": false
   },
   "outputs": [],
   "source": [
    "# load path-link incidence matrix\n",
    "A = zload('../temp_files/path-link_incidence_matrix.pkz')"
   ]
  },
  {
   "cell_type": "code",
   "execution_count": 9,
   "metadata": {
    "collapsed": false
   },
   "outputs": [],
   "source": [
    "# load link counts data\n",
    "\n",
    "import json\n",
    "\n",
    "with open('../temp_files/link_day_minute_Apr_dict_JSON.json', 'r') as json_file:\n",
    "    link_day_minute_Apr_dict_JSON = json.load(json_file)"
   ]
  },
  {
   "cell_type": "code",
   "execution_count": 10,
   "metadata": {
    "collapsed": true
   },
   "outputs": [],
   "source": [
    "week_day_Apr_list = [2, 3, 4, 5, 6, 9, 10, 11, 12, 13, 16, 17, 18, 19, 20, 23, 24, 25, 26, 27, 30]"
   ]
  },
  {
   "cell_type": "code",
   "execution_count": 11,
   "metadata": {
    "collapsed": false
   },
   "outputs": [],
   "source": [
    "link_day_minute_Apr_list = []\n",
    "for link_idx in range(24):\n",
    "    for day in week_day_Apr_list: \n",
    "        for minute_idx in range(120):\n",
    "            key = 'link_' + str(link_idx) + '_' + str(day)\n",
    "            link_day_minute_Apr_list.append(link_day_minute_Apr_dict_JSON[key] ['NT_flow_minute'][minute_idx])"
   ]
  },
  {
   "cell_type": "code",
   "execution_count": 12,
   "metadata": {
    "collapsed": false
   },
   "outputs": [
    {
     "data": {
      "text/plain": [
       "60480"
      ]
     },
     "execution_count": 12,
     "metadata": {},
     "output_type": "execute_result"
    }
   ],
   "source": [
    "len(link_day_minute_Apr_list)"
   ]
  },
  {
   "cell_type": "code",
   "execution_count": 13,
   "metadata": {
    "collapsed": false
   },
   "outputs": [],
   "source": [
    "x = np.matrix(link_day_minute_Apr_list)\n",
    "x = np.matrix.reshape(x, 24, 2520)\n",
    "\n",
    "x = np.nan_to_num(x)\n",
    "y = np.array(np.transpose(x))\n",
    "y = y[np.all(y != 0, axis=1)]\n",
    "x = np.transpose(y)\n",
    "x = np.matrix(x)"
   ]
  },
  {
   "cell_type": "code",
   "execution_count": 14,
   "metadata": {
    "collapsed": false
   },
   "outputs": [
    {
     "data": {
      "text/plain": [
       "(24, 2516)"
      ]
     },
     "execution_count": 14,
     "metadata": {},
     "output_type": "execute_result"
    }
   ],
   "source": [
    "np.size(x, 0), np.size(x, 1)"
   ]
  },
  {
   "cell_type": "code",
   "execution_count": 15,
   "metadata": {
    "collapsed": false
   },
   "outputs": [
    {
     "data": {
      "text/plain": [
       "matrix([[ 10271.6381037 ,   8141.65487117],\n",
       "        [  7351.6104606 ,   7786.97735589],\n",
       "        [ 16557.24538454,  15705.88434318],\n",
       "        [ 14046.45432394,  15652.60320729],\n",
       "        [ 12968.08478145,  15968.49104371],\n",
       "        [ 10044.35017536,  12857.52085255],\n",
       "        [ 11130.93656799,  12099.20251847],\n",
       "        [  9235.00698795,  10256.02077644],\n",
       "        [ 16149.29623624,  15486.53934037],\n",
       "        [ 17294.60581251,  14244.57034718],\n",
       "        [ 15831.45532382,  21130.0866284 ],\n",
       "        [ 13629.66712122,  14670.56595316],\n",
       "        [ 10566.75246675,  10960.51705714],\n",
       "        [ 14920.65070766,  15729.51172334],\n",
       "        [ 10024.82601824,  11449.71437314],\n",
       "        [  6792.52410589,  11483.79560689],\n",
       "        [  9844.27865952,  11906.50245041],\n",
       "        [  7347.41078498,   9262.16862339],\n",
       "        [ 19873.07433901,  15037.86238591],\n",
       "        [ 10113.56772777,   9861.76345304],\n",
       "        [ 11484.60037876,  10115.08064786],\n",
       "        [  9568.84965789,   8514.81356368],\n",
       "        [ 10262.94298089,  14613.38864078],\n",
       "        [ 12059.00434409,  12347.87291783]])"
      ]
     },
     "execution_count": 15,
     "metadata": {},
     "output_type": "execute_result"
    }
   ],
   "source": [
    "x[:,:2]"
   ]
  },
  {
   "cell_type": "code",
   "execution_count": 16,
   "metadata": {
    "collapsed": false
   },
   "outputs": [
    {
     "data": {
      "text/plain": [
       "(24, 140)"
      ]
     },
     "execution_count": 16,
     "metadata": {},
     "output_type": "execute_result"
    }
   ],
   "source": [
    "np.size(A,0), np.size(A,1)"
   ]
  },
  {
   "cell_type": "code",
   "execution_count": 17,
   "metadata": {
    "collapsed": false
   },
   "outputs": [
    {
     "name": "stdout",
     "output_type": "stream",
     "text": [
      "Optimize a model with 56 rows, 56 columns and 56 nonzeros\n",
      "Model has 1596 quadratic objective terms\n",
      "Coefficient statistics:\n",
      "  Matrix range    [1e+00, 1e+00]\n",
      "  Objective range [1e-02, 9e+00]\n",
      "  Bounds range    [0e+00, 0e+00]\n",
      "  RHS range       [0e+00, 0e+00]\n",
      "Presolve removed 56 rows and 0 columns\n",
      "Presolve time: 0.00s\n",
      "Presolved: 0 rows, 56 columns, 0 nonzeros\n",
      "Presolved model has 1596 quadratic objective terms\n",
      "Ordering time: 0.00s\n",
      "\n",
      "Barrier statistics:\n",
      " Free vars  : 24\n",
      " AA' NZ     : 2.760e+02\n",
      " Factor NZ  : 3.000e+02\n",
      " Factor Ops : 4.900e+03 (less than 1 second per iteration)\n",
      " Threads    : 1\n",
      "\n",
      "                  Objective                Residual\n",
      "Iter       Primal          Dual         Primal    Dual     Compl     Time\n",
      "   0  -5.18249404e+06  0.00000000e+00  5.76e+03 3.15e+02  8.79e+05     0s\n",
      "   1   1.37268798e+06 -3.39859849e+06  3.59e+02 5.77e+01  1.41e+05     0s\n",
      "   2   6.82439168e+04 -1.03720403e+06  3.59e-04 5.68e-14  1.97e+04     0s\n",
      "   3  -2.28354861e+05 -3.60408931e+05  3.60e-10 5.68e-14  2.36e+03     0s\n",
      "   4  -2.48770309e+05 -2.57735480e+05  1.99e-12 8.53e-14  1.60e+02     0s\n",
      "   5  -2.49592184e+05 -2.49801797e+05  1.56e-12 5.68e-14  3.74e+00     0s\n",
      "   6  -2.49608792e+05 -2.49626607e+05  1.69e-10 1.42e-13  3.18e-01     0s\n",
      "   7  -2.49611118e+05 -2.49613919e+05  2.10e-12 8.53e-14  5.00e-02     0s\n",
      "   8  -2.49611602e+05 -2.49611875e+05  3.50e-12 8.53e-14  4.87e-03     0s\n",
      "   9  -2.49611744e+05 -2.49611776e+05  3.10e-11 7.11e-14  5.65e-04     0s\n",
      "  10  -2.49611750e+05 -2.49611752e+05  2.61e-12 8.53e-14  4.95e-05     0s\n",
      "  11  -2.49611751e+05 -2.49611751e+05  1.31e-12 5.68e-14  2.74e-07     0s\n",
      "  12  -2.49611751e+05 -2.49611751e+05  1.08e-12 5.68e-14  3.92e-08     0s\n",
      "  13  -2.49611751e+05 -2.49611751e+05  9.66e-13 1.37e-10  3.72e-09     0s\n",
      "\n",
      "Barrier solved model in 13 iterations and 0.02 seconds\n",
      "Optimal objective -2.49611751e+05\n",
      "\n",
      "lam_0 1.43498e-09\n",
      "lam_1 14343.2\n",
      "lam_2 1.57514e-09\n",
      "lam_3 1504.26\n",
      "lam_4 2892.6\n",
      "lam_5 0.000312275\n",
      "lam_6 4.74607e-07\n",
      "lam_7 0.00587323\n",
      "lam_8 2373.92\n",
      "lam_9 10371.3\n",
      "lam_10 656.845\n",
      "lam_11 1025.99\n",
      "lam_12 0.000312274\n",
      "lam_13 0.000314062\n",
      "lam_14 12080.4\n",
      "lam_15 7321.17\n",
      "lam_16 1331.18\n",
      "lam_17 2073.16\n",
      "lam_18 3684.55\n",
      "lam_19 21206\n",
      "lam_20 0.000312368\n",
      "lam_21 5304.08\n",
      "lam_22 5451.9\n",
      "lam_23 2527.11\n",
      "lam_24 3.20305\n",
      "lam_25 5827.68\n",
      "lam_26 0.000179037\n",
      "lam_27 8651.34\n",
      "lam_28 1.31145\n",
      "lam_29 1.30796\n",
      "lam_30 1743.65\n",
      "lam_31 30.9059\n",
      "lam_32 1412.28\n",
      "lam_33 0.000177243\n",
      "lam_34 0.000177333\n",
      "lam_35 2723.73\n",
      "lam_36 2014.91\n",
      "lam_37 0.000955448\n",
      "lam_38 5612.38\n",
      "lam_39 1384.78\n",
      "lam_40 362.779\n",
      "lam_41 343.416\n",
      "lam_42 2.25735e-05\n",
      "lam_43 2.25735e-05\n",
      "lam_44 21455\n",
      "lam_45 1385.52\n",
      "lam_46 1412.29\n",
      "lam_47 1.09531e-05\n",
      "lam_48 12620.6\n",
      "lam_49 2.26359e-05\n",
      "lam_50 2.28238e-05\n",
      "lam_51 2.25813e-05\n",
      "lam_52 8480.28\n",
      "lam_53 1415.14\n",
      "lam_54 1.09531e-05\n",
      "lam_55 7823.42\n",
      "Obj: -249609\n"
     ]
    }
   ],
   "source": [
    "from gurobipy import *\n",
    "\n",
    "L = 56  # dimension of lam\n",
    "\n",
    "K = np.size(x, 1)\n",
    "S = samp_cov(x)\n",
    "inv_S = inv(S)\n",
    "\n",
    "A_t = np.transpose(A)\n",
    "P_t = np.transpose(P)\n",
    "# PA'\n",
    "PA_t = np.dot(P, A_t)\n",
    "# AP_t\n",
    "AP_t = np.transpose(PA_t)\n",
    "\n",
    "Q = np.dot(np.dot(PA_t, inv_S), AP_t)\n",
    "b = sum([np.dot(np.dot(PA_t, inv_S), x[:, k]) for k in range(K)])\n",
    "\n",
    "\n",
    "model = Model(\"OD_matrix_estimation\")\n",
    "\n",
    "lam = []\n",
    "for l in range(L):\n",
    "    lam.append(model.addVar(name='lam_' + str(l)))\n",
    "\n",
    "model.update() \n",
    "\n",
    "# Set objective: (K/2) lam' * Q * lam - b' * lam\n",
    "obj = 0\n",
    "for i in range(L):\n",
    "    for j in range(L):\n",
    "        obj += (1.0 /2) * K * lam[i] * Q[i, j] * lam[j]\n",
    "for l in range(L):\n",
    "    obj += - b[l] * lam[l]\n",
    "model.setObjective(obj)\n",
    "\n",
    "# Add constraint: lam >= 0\n",
    "for l in range(L):\n",
    "    model.addConstr(lam[l] >= 0)\n",
    "\n",
    "model.update() \n",
    "\n",
    "model.optimize()\n",
    "\n",
    "lam_list = []\n",
    "for v in model.getVars():\n",
    "    print('%s %g' % (v.varName, v.x))\n",
    "    lam_list.append(v.x)\n",
    "print('Obj: %g' % obj.getValue())"
   ]
  },
  {
   "cell_type": "code",
   "execution_count": 18,
   "metadata": {
    "collapsed": false
   },
   "outputs": [],
   "source": [
    "# write estimation result to file\n",
    "n = 8  # number of nodes\n",
    "with open('../temp_files/OD_demand_matrix_Apr_weekday_NT.txt', 'w') as the_file:\n",
    "    idx = 0\n",
    "    for i in range(n + 1)[1:]:\n",
    "        for j in range(n + 1)[1:]:\n",
    "            if i != j: \n",
    "                the_file.write(\"%d,%d,%f\\n\" %(i, j, lam_list[idx]))\n",
    "                idx += 1"
   ]
  },
  {
   "cell_type": "code",
   "execution_count": 19,
   "metadata": {
    "collapsed": false
   },
   "outputs": [
    {
     "data": {
      "text/plain": [
       "[1.4349819176517333e-09,\n",
       " 14343.18039112415,\n",
       " 1.575137289308894e-09,\n",
       " 1504.263377307014,\n",
       " 2892.604066297441,\n",
       " 0.00031227535471945594,\n",
       " 4.7460734266718946e-07,\n",
       " 0.0058732295984781635,\n",
       " 2373.9227426741486,\n",
       " 10371.268852506195,\n",
       " 656.8452925831161,\n",
       " 1025.988582829719,\n",
       " 0.00031227378941927437,\n",
       " 0.0003140621314482112,\n",
       " 12080.421231538494,\n",
       " 7321.1654930386685,\n",
       " 1331.1774298850553,\n",
       " 2073.1577813857452,\n",
       " 3684.5458278177116,\n",
       " 21206.01728730173,\n",
       " 0.00031236771606116785,\n",
       " 5304.075233990058,\n",
       " 5451.903830272259,\n",
       " 2527.1058518485283,\n",
       " 3.2030466236105894,\n",
       " 5827.683192743084,\n",
       " 0.00017903748140284613,\n",
       " 8651.340494121623,\n",
       " 1.3114504882268734,\n",
       " 1.3079641122463435,\n",
       " 1743.6488576939548,\n",
       " 30.905893640739578,\n",
       " 1412.284053799015,\n",
       " 0.0001772431642046528,\n",
       " 0.00017733310327981114,\n",
       " 2723.7286167970196,\n",
       " 2014.9135740243657,\n",
       " 0.0009554475919237703,\n",
       " 5612.382084851832,\n",
       " 1384.7840167332406,\n",
       " 362.7792838883091,\n",
       " 343.41622545298867,\n",
       " 2.2573513270370232e-05,\n",
       " 2.2573511291884335e-05,\n",
       " 21454.97172883818,\n",
       " 1385.5246817187806,\n",
       " 1412.2909481752974,\n",
       " 1.095305143830418e-05,\n",
       " 12620.625277936693,\n",
       " 2.2635890327372688e-05,\n",
       " 2.2823771889314017e-05,\n",
       " 2.2581348247803214e-05,\n",
       " 8480.277680173343,\n",
       " 1415.1380299585214,\n",
       " 1.0953050882009179e-05,\n",
       " 7823.421597479671]"
      ]
     },
     "execution_count": 19,
     "metadata": {},
     "output_type": "execute_result"
    }
   ],
   "source": [
    "lam_list"
   ]
  },
  {
   "cell_type": "code",
   "execution_count": null,
   "metadata": {
    "collapsed": true
   },
   "outputs": [],
   "source": []
  }
 ],
 "metadata": {
  "kernelspec": {
   "display_name": "Python 2",
   "language": "python",
   "name": "python2"
  },
  "language_info": {
   "codemirror_mode": {
    "name": "ipython",
    "version": 2
   },
   "file_extension": ".py",
   "mimetype": "text/x-python",
   "name": "python",
   "nbconvert_exporter": "python",
   "pygments_lexer": "ipython2",
   "version": "2.7.11"
  }
 },
 "nbformat": 4,
 "nbformat_minor": 0
}
