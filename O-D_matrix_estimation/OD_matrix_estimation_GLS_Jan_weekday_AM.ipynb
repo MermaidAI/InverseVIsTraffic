{
 "cells": [
  {
   "cell_type": "code",
   "execution_count": 1,
   "metadata": {
    "collapsed": true
   },
   "outputs": [],
   "source": [
    "%run ../Python_files/util_data_storage_and_load.py"
   ]
  },
  {
   "cell_type": "code",
   "execution_count": 2,
   "metadata": {
    "collapsed": true
   },
   "outputs": [],
   "source": [
    "%run ../Python_files/load_dicts.py"
   ]
  },
  {
   "cell_type": "code",
   "execution_count": 3,
   "metadata": {
    "collapsed": false
   },
   "outputs": [],
   "source": [
    "%run ../Python_files/util.py"
   ]
  },
  {
   "cell_type": "code",
   "execution_count": 4,
   "metadata": {
    "collapsed": true
   },
   "outputs": [],
   "source": [
    "# load logit_route_choice_probability_matrix\n",
    "P = zload('../temp_files/logit_route_choice_probability_matrix.pkz')"
   ]
  },
  {
   "cell_type": "code",
   "execution_count": 5,
   "metadata": {
    "collapsed": false
   },
   "outputs": [],
   "source": [
    "import numpy as np\n",
    "from numpy.linalg import inv\n",
    "\n",
    "P = np.matrix(P)"
   ]
  },
  {
   "cell_type": "code",
   "execution_count": 6,
   "metadata": {
    "collapsed": false
   },
   "outputs": [
    {
     "data": {
      "text/plain": [
       "(56, 140)"
      ]
     },
     "execution_count": 6,
     "metadata": {},
     "output_type": "execute_result"
    }
   ],
   "source": [
    "np.size(P, 0), np.size(P, 1)"
   ]
  },
  {
   "cell_type": "code",
   "execution_count": 7,
   "metadata": {
    "collapsed": true
   },
   "outputs": [],
   "source": [
    "import numpy as np\n",
    "from numpy.linalg import inv\n",
    "\n",
    "def samp_cov(x):\n",
    "    \"\"\"\n",
    "    x: sample matrix, each column is a link flow vector sample; 24 * K\n",
    "    K: number of samples\n",
    "    S: sample covariance matrix\n",
    "    ----------------\n",
    "    return: inv(S)\n",
    "    ----------------\n",
    "    \"\"\"\n",
    "    x = np.matrix(x)\n",
    "    K = np.size(x, 1)\n",
    "    x_mean = sum(x[:,k] for k in range(K)) / K\n",
    "    S = sum(np.dot(x[:,k] - x_mean, np.transpose(x[:,k] - x_mean)) for k in range(K)) / (K - 1)\n",
    "    return S"
   ]
  },
  {
   "cell_type": "code",
   "execution_count": 8,
   "metadata": {
    "collapsed": false
   },
   "outputs": [],
   "source": [
    "# load path-link incidence matrix\n",
    "A = zload('../temp_files/path-link_incidence_matrix.pkz')"
   ]
  },
  {
   "cell_type": "code",
   "execution_count": 9,
   "metadata": {
    "collapsed": false
   },
   "outputs": [],
   "source": [
    "# load link counts data\n",
    "\n",
    "import json\n",
    "\n",
    "with open('../temp_files/link_day_minute_Jan_dict_JSON.json', 'r') as json_file:\n",
    "    link_day_minute_Jan_dict_JSON = json.load(json_file)"
   ]
  },
  {
   "cell_type": "code",
   "execution_count": 10,
   "metadata": {
    "collapsed": true
   },
   "outputs": [],
   "source": [
    "#week_day_Jan_list = [2, 3, 4, 5, 6, 9, 10, 11, 12, 13, 16, 17, 18, 19, 20, 23, 24, 25, 26, 27, 30, 31]\n",
    "week_day_Jan_list = [2, 9, 16, 23, 30]"
   ]
  },
  {
   "cell_type": "code",
   "execution_count": 11,
   "metadata": {
    "collapsed": false
   },
   "outputs": [],
   "source": [
    "link_day_minute_Jan_list = []\n",
    "for link_idx in range(24):\n",
    "    for day in week_day_Jan_list: \n",
    "        for minute_idx in range(120):\n",
    "            key = 'link_' + str(link_idx) + '_' + str(day)\n",
    "            link_day_minute_Jan_list.append(link_day_minute_Jan_dict_JSON[key] ['AM_flow_minute'][minute_idx])"
   ]
  },
  {
   "cell_type": "code",
   "execution_count": 12,
   "metadata": {
    "collapsed": false
   },
   "outputs": [
    {
     "data": {
      "text/plain": [
       "14400"
      ]
     },
     "execution_count": 12,
     "metadata": {},
     "output_type": "execute_result"
    }
   ],
   "source": [
    "len(link_day_minute_Jan_list)"
   ]
  },
  {
   "cell_type": "code",
   "execution_count": 13,
   "metadata": {
    "collapsed": false
   },
   "outputs": [],
   "source": [
    "x = np.matrix(link_day_minute_Jan_list)\n",
    "x = np.matrix.reshape(x, 24, 600)\n",
    "\n",
    "x = np.nan_to_num(x)\n",
    "y = np.array(np.transpose(x))\n",
    "y = y[np.all(y != 0, axis=1)]\n",
    "x = np.transpose(y)\n",
    "x = np.matrix(x)"
   ]
  },
  {
   "cell_type": "code",
   "execution_count": 14,
   "metadata": {
    "collapsed": false
   },
   "outputs": [
    {
     "data": {
      "text/plain": [
       "(24, 600)"
      ]
     },
     "execution_count": 14,
     "metadata": {},
     "output_type": "execute_result"
    }
   ],
   "source": [
    "np.size(x, 0), np.size(x, 1)"
   ]
  },
  {
   "cell_type": "code",
   "execution_count": 15,
   "metadata": {
    "collapsed": false
   },
   "outputs": [
    {
     "data": {
      "text/plain": [
       "matrix([[ 335114.28657936,  341803.76737447],\n",
       "        [ 348656.74325798,  344115.77367828],\n",
       "        [ 637090.97203516,  636818.41668356],\n",
       "        [ 671131.40678613,  682086.92331011],\n",
       "        [ 166807.10726907,  161340.28445513],\n",
       "        [ 208397.61702566,  212269.66463485],\n",
       "        [ 398222.06456861,  408752.41543812],\n",
       "        [ 401373.32750189,  398944.31943346],\n",
       "        [ 370974.05590849,  388334.49208636],\n",
       "        [ 397215.67348913,  382283.18939738],\n",
       "        [ 369473.63514832,  367222.15318984],\n",
       "        [ 337169.62973333,  333501.63463774],\n",
       "        [ 100266.10205147,   97321.81185715],\n",
       "        [ 101420.15524158,  101477.8589123 ],\n",
       "        [ 162234.50875298,  151077.28824074],\n",
       "        [ 146091.57782324,  141074.9812665 ],\n",
       "        [ 214020.16148915,  210833.90655819],\n",
       "        [ 220813.47078402,  215929.43016519],\n",
       "        [ 369410.5564851 ,  367547.26200248],\n",
       "        [ 355145.37875832,  346053.27198612],\n",
       "        [ 526619.26909059,  523644.1817912 ],\n",
       "        [ 531049.10958179,  532305.41598759],\n",
       "        [ 135789.75598704,  137792.50493097],\n",
       "        [ 136401.78442716,  137189.91654878]])"
      ]
     },
     "execution_count": 15,
     "metadata": {},
     "output_type": "execute_result"
    }
   ],
   "source": [
    "x[:,:2]"
   ]
  },
  {
   "cell_type": "code",
   "execution_count": 16,
   "metadata": {
    "collapsed": false
   },
   "outputs": [
    {
     "data": {
      "text/plain": [
       "(24, 140)"
      ]
     },
     "execution_count": 16,
     "metadata": {},
     "output_type": "execute_result"
    }
   ],
   "source": [
    "np.size(A,0), np.size(A,1)"
   ]
  },
  {
   "cell_type": "code",
   "execution_count": 17,
   "metadata": {
    "collapsed": false
   },
   "outputs": [
    {
     "name": "stdout",
     "output_type": "stream",
     "text": [
      "Optimize a model with 56 rows, 56 columns and 56 nonzeros\n",
      "Model has 1596 quadratic objective terms\n",
      "Coefficient statistics:\n",
      "  Matrix range    [1e+00, 1e+00]\n",
      "  Objective range [2e-01, 2e+01]\n",
      "  Bounds range    [0e+00, 0e+00]\n",
      "  RHS range       [0e+00, 0e+00]\n",
      "Presolve removed 56 rows and 0 columns\n",
      "Presolve time: 0.02s\n",
      "Presolved: 0 rows, 56 columns, 0 nonzeros\n",
      "Presolved model has 1596 quadratic objective terms\n",
      "Ordering time: 0.00s\n",
      "\n",
      "Barrier statistics:\n",
      " Free vars  : 24\n",
      " AA' NZ     : 2.760e+02\n",
      " Factor NZ  : 3.000e+02\n",
      " Factor Ops : 4.900e+03 (less than 1 second per iteration)\n",
      " Threads    : 1\n",
      "\n",
      "                  Objective                Residual\n",
      "Iter       Primal          Dual         Primal    Dual     Compl     Time\n",
      "   0  -3.76050832e+07  0.00000000e+00  5.63e+03 1.87e+03  1.00e+06     0s\n",
      "   1  -1.60096677e+07 -1.02030606e+07  9.25e+02 3.08e+02  2.13e+05     0s\n",
      "   2  -1.07309989e+07 -1.41509002e+07  9.25e-04 3.08e-04  6.11e+04     0s\n",
      "   3  -1.13563559e+07 -1.16802046e+07  1.52e-05 5.04e-06  5.78e+03     0s\n",
      "   4  -1.14458756e+07 -1.14809423e+07  2.39e-11 5.00e-12  6.26e+02     0s\n",
      "   5  -1.14556633e+07 -1.14571459e+07  2.07e-11 6.82e-13  2.65e+01     0s\n",
      "   6  -1.14562924e+07 -1.14566820e+07  1.86e-10 4.55e-13  6.96e+00     0s\n",
      "   7  -1.14563939e+07 -1.14564142e+07  2.18e-11 9.09e-13  3.62e-01     0s\n",
      "   8  -1.14564055e+07 -1.14564079e+07  5.66e-11 1.36e-12  4.31e-02     0s\n",
      "   9  -1.14564067e+07 -1.14564068e+07  3.23e-11 2.27e-13  1.15e-03     0s\n",
      "  10  -1.14564068e+07 -1.14564068e+07  3.16e-11 6.82e-13  1.19e-06     0s\n",
      "  11  -1.14564068e+07 -1.14564068e+07  1.25e-11 5.16e-11  2.78e-09     0s\n",
      "\n",
      "Barrier solved model in 11 iterations and 0.03 seconds\n",
      "Optimal objective -1.14564068e+07\n",
      "\n",
      "lam_0 1.92427e-08\n",
      "lam_1 308585\n",
      "lam_2 17298\n",
      "lam_3 2.24181e-06\n",
      "lam_4 129926\n",
      "lam_5 3.00479e-05\n",
      "lam_6 2.25762e-06\n",
      "lam_7 313908\n",
      "lam_8 1.19097e-09\n",
      "lam_9 325875\n",
      "lam_10 1.19034e-09\n",
      "lam_11 1.19097e-09\n",
      "lam_12 1.19092e-09\n",
      "lam_13 1.19836e-09\n",
      "lam_14 3.54573e-05\n",
      "lam_15 3.26273e-05\n",
      "lam_16 1.94185e-06\n",
      "lam_17 2.24139e-06\n",
      "lam_18 266530\n",
      "lam_19 358704\n",
      "lam_20 2.24781e-06\n",
      "lam_21 8.35278e-08\n",
      "lam_22 442051\n",
      "lam_23 6.76423e-09\n",
      "lam_24 6.76413e-09\n",
      "lam_25 6.76417e-09\n",
      "lam_26 6.86344e-09\n",
      "lam_27 124634\n",
      "lam_28 37070.6\n",
      "lam_29 223958\n",
      "lam_30 341273\n",
      "lam_31 0.000265145\n",
      "lam_32 31957.6\n",
      "lam_33 99150.4\n",
      "lam_34 78721.2\n",
      "lam_35 25856.6\n",
      "lam_36 48668.6\n",
      "lam_37 3.02073e-05\n",
      "lam_38 5.07548e-06\n",
      "lam_39 118577\n",
      "lam_40 35065.7\n",
      "lam_41 2.43737e-06\n",
      "lam_42 0.000160781\n",
      "lam_43 9.31139e-05\n",
      "lam_44 7.59812e-06\n",
      "lam_45 23017\n",
      "lam_46 142930\n",
      "lam_47 823233\n",
      "lam_48 2.43049e-06\n",
      "lam_49 106634\n",
      "lam_50 6.85077e-05\n",
      "lam_51 2.1338e-05\n",
      "lam_52 68657.6\n",
      "lam_53 1.78393e-05\n",
      "lam_54 0.00017055\n",
      "lam_55 0.000168578\n",
      "Obj: -1.14565e+07\n"
     ]
    }
   ],
   "source": [
    "from gurobipy import *\n",
    "\n",
    "L = 56  # dimension of lam\n",
    "\n",
    "K = np.size(x, 1)\n",
    "S = samp_cov(x)\n",
    "inv_S = inv(S)\n",
    "\n",
    "A_t = np.transpose(A)\n",
    "P_t = np.transpose(P)\n",
    "# PA'\n",
    "PA_t = np.dot(P, A_t)\n",
    "# AP_t\n",
    "AP_t = np.transpose(PA_t)\n",
    "\n",
    "Q = np.dot(np.dot(PA_t, inv_S), AP_t)\n",
    "b = sum([np.dot(np.dot(PA_t, inv_S), x[:, k]) for k in range(K)])\n",
    "\n",
    "\n",
    "model = Model(\"OD_matrix_estimation\")\n",
    "\n",
    "lam = []\n",
    "for l in range(L):\n",
    "    lam.append(model.addVar(name='lam_' + str(l)))\n",
    "\n",
    "model.update() \n",
    "\n",
    "# Set objective: (K/2) lam' * Q * lam - b * lam\n",
    "obj = 0\n",
    "for i in range(L):\n",
    "    for j in range(L):\n",
    "        obj += (1.0 /2) * K * lam[i] * Q[i, j] * lam[j]\n",
    "for l in range(L):\n",
    "    obj += - b[l] * lam[l]\n",
    "model.setObjective(obj)\n",
    "\n",
    "# Add constraint: lam >= 0\n",
    "for l in range(L):\n",
    "    model.addConstr(lam[l] >= 0)\n",
    "\n",
    "model.update() \n",
    "\n",
    "model.optimize()\n",
    "\n",
    "lam_list = []\n",
    "for v in model.getVars():\n",
    "    print('%s %g' % (v.varName, v.x))\n",
    "    lam_list.append(v.x)\n",
    "print('Obj: %g' % obj.getValue())"
   ]
  },
  {
   "cell_type": "code",
   "execution_count": 18,
   "metadata": {
    "collapsed": false
   },
   "outputs": [],
   "source": [
    "# write estimation result to file\n",
    "n = 8  # number of nodes\n",
    "with open('../temp_files/OD_demand_matrix_Jan_weekday_AM.txt', 'w') as the_file:\n",
    "    idx = 0\n",
    "    for i in range(n + 1)[1:]:\n",
    "        for j in range(n + 1)[1:]:\n",
    "            if i != j: \n",
    "                the_file.write(\"%d,%d,%f\\n\" %(i, j, lam_list[idx]))\n",
    "                idx += 1"
   ]
  },
  {
   "cell_type": "code",
   "execution_count": 19,
   "metadata": {
    "collapsed": false
   },
   "outputs": [
    {
     "data": {
      "text/plain": [
       "[1.9242655592040456e-08,\n",
       " 308585.421452397,\n",
       " 17298.036244527844,\n",
       " 2.2418077200634084e-06,\n",
       " 129926.35770242596,\n",
       " 3.004788231528166e-05,\n",
       " 2.2576171024026818e-06,\n",
       " 313908.3509225215,\n",
       " 1.1909706509063305e-09,\n",
       " 325875.0790780028,\n",
       " 1.1903381029071789e-09,\n",
       " 1.1909708025558271e-09,\n",
       " 1.1909232562128411e-09,\n",
       " 1.198364433409268e-09,\n",
       " 3.5457308573284135e-05,\n",
       " 3.2627292789522144e-05,\n",
       " 1.941850516645055e-06,\n",
       " 2.2413909629161698e-06,\n",
       " 266530.1678970023,\n",
       " 358704.16498154047,\n",
       " 2.247808411063928e-06,\n",
       " 8.352776981937601e-08,\n",
       " 442050.816990343,\n",
       " 6.764227572130968e-09,\n",
       " 6.764131889459232e-09,\n",
       " 6.7641697979410595e-09,\n",
       " 6.863436964146919e-09,\n",
       " 124634.18824099583,\n",
       " 37070.55304221398,\n",
       " 223957.58632913788,\n",
       " 341272.5234521503,\n",
       " 0.0002651445879534031,\n",
       " 31957.632311613885,\n",
       " 99150.35818127137,\n",
       " 78721.24468040906,\n",
       " 25856.62351224042,\n",
       " 48668.62039926027,\n",
       " 3.0207346584279482e-05,\n",
       " 5.075480790728629e-06,\n",
       " 118577.04472754475,\n",
       " 35065.73750148704,\n",
       " 2.4373700501772316e-06,\n",
       " 0.00016078096376986872,\n",
       " 9.311390982323642e-05,\n",
       " 7.598118812381094e-06,\n",
       " 23016.99779006176,\n",
       " 142930.3650616803,\n",
       " 823232.9882040914,\n",
       " 2.4304915315030966e-06,\n",
       " 106634.25146497306,\n",
       " 6.850770832270148e-05,\n",
       " 2.1337955195313216e-05,\n",
       " 68657.63662838486,\n",
       " 1.7839299280446308e-05,\n",
       " 0.00017055029430339264,\n",
       " 0.00016857821619449542]"
      ]
     },
     "execution_count": 19,
     "metadata": {},
     "output_type": "execute_result"
    }
   ],
   "source": [
    "lam_list"
   ]
  },
  {
   "cell_type": "code",
   "execution_count": null,
   "metadata": {
    "collapsed": true
   },
   "outputs": [],
   "source": []
  }
 ],
 "metadata": {
  "kernelspec": {
   "display_name": "Python 2",
   "language": "python",
   "name": "python2"
  },
  "language_info": {
   "codemirror_mode": {
    "name": "ipython",
    "version": 2
   },
   "file_extension": ".py",
   "mimetype": "text/x-python",
   "name": "python",
   "nbconvert_exporter": "python",
   "pygments_lexer": "ipython2",
   "version": "2.7.11"
  }
 },
 "nbformat": 4,
 "nbformat_minor": 0
}
