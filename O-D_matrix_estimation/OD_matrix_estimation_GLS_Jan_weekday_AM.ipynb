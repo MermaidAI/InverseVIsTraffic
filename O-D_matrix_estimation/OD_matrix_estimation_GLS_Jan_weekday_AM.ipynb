{
 "cells": [
  {
   "cell_type": "code",
   "execution_count": 1,
   "metadata": {
    "collapsed": true
   },
   "outputs": [],
   "source": [
    "%run ../Python_files/util_data_storage_and_load.py"
   ]
  },
  {
   "cell_type": "code",
   "execution_count": 2,
   "metadata": {
    "collapsed": true
   },
   "outputs": [],
   "source": [
    "%run ../Python_files/load_dicts.py"
   ]
  },
  {
   "cell_type": "code",
   "execution_count": 3,
   "metadata": {
    "collapsed": false
   },
   "outputs": [],
   "source": [
    "%run ../Python_files/util.py"
   ]
  },
  {
   "cell_type": "code",
   "execution_count": 4,
   "metadata": {
    "collapsed": true
   },
   "outputs": [],
   "source": [
    "# load logit_route_choice_probability_matrix\n",
    "P = zload('../temp_files/logit_route_choice_probability_matrix.pkz')"
   ]
  },
  {
   "cell_type": "code",
   "execution_count": 5,
   "metadata": {
    "collapsed": false
   },
   "outputs": [],
   "source": [
    "import numpy as np\n",
    "from numpy.linalg import inv\n",
    "\n",
    "P = np.matrix(P)"
   ]
  },
  {
   "cell_type": "code",
   "execution_count": 6,
   "metadata": {
    "collapsed": false
   },
   "outputs": [
    {
     "data": {
      "text/plain": [
       "(56, 140)"
      ]
     },
     "execution_count": 6,
     "metadata": {},
     "output_type": "execute_result"
    }
   ],
   "source": [
    "np.size(P, 0), np.size(P, 1)"
   ]
  },
  {
   "cell_type": "code",
   "execution_count": 7,
   "metadata": {
    "collapsed": true
   },
   "outputs": [],
   "source": [
    "import numpy as np\n",
    "from numpy.linalg import inv\n",
    "\n",
    "def samp_cov(x):\n",
    "    \"\"\"\n",
    "    x: sample matrix, each column is a link flow vector sample; 24 * K\n",
    "    K: number of samples\n",
    "    S: sample covariance matrix\n",
    "    ----------------\n",
    "    return: inv(S)\n",
    "    ----------------\n",
    "    \"\"\"\n",
    "    x = np.matrix(x)\n",
    "    K = np.size(x, 1)\n",
    "    x_mean = sum(x[:,k] for k in range(K)) / K\n",
    "    S = sum(np.dot(x[:,k] - x_mean, np.transpose(x[:,k] - x_mean)) for k in range(K)) / (K - 1)\n",
    "    return S"
   ]
  },
  {
   "cell_type": "code",
   "execution_count": 8,
   "metadata": {
    "collapsed": false
   },
   "outputs": [],
   "source": [
    "# load path-link incidence matrix\n",
    "A = zload('../temp_files/path-link_incidence_matrix.pkz')"
   ]
  },
  {
   "cell_type": "code",
   "execution_count": 9,
   "metadata": {
    "collapsed": false
   },
   "outputs": [],
   "source": [
    "# load link counts data\n",
    "\n",
    "import json\n",
    "\n",
    "with open('../temp_files/link_day_minute_Jan_dict_JSON.json', 'r') as json_file:\n",
    "    link_day_minute_Jan_dict_JSON = json.load(json_file)"
   ]
  },
  {
   "cell_type": "code",
   "execution_count": 10,
   "metadata": {
    "collapsed": true
   },
   "outputs": [],
   "source": [
    "week_day_Jan_list = [2, 3, 4, 5, 6, 9, 10, 11, 12, 13, 16, 17, 18, 19, 20, 23, 24, 25, 26, 27, 30, 31]"
   ]
  },
  {
   "cell_type": "code",
   "execution_count": 11,
   "metadata": {
    "collapsed": false
   },
   "outputs": [],
   "source": [
    "link_day_minute_Jan_list = []\n",
    "for link_idx in range(24):\n",
    "    for day in week_day_Jan_list: \n",
    "        for minute_idx in range(120):\n",
    "            key = 'link_' + str(link_idx) + '_' + str(day)\n",
    "            link_day_minute_Jan_list.append(link_day_minute_Jan_dict_JSON[key] ['AM_flow_minute'][minute_idx])"
   ]
  },
  {
   "cell_type": "code",
   "execution_count": 12,
   "metadata": {
    "collapsed": false
   },
   "outputs": [
    {
     "data": {
      "text/plain": [
       "63360"
      ]
     },
     "execution_count": 12,
     "metadata": {},
     "output_type": "execute_result"
    }
   ],
   "source": [
    "len(link_day_minute_Jan_list)"
   ]
  },
  {
   "cell_type": "code",
   "execution_count": 13,
   "metadata": {
    "collapsed": false
   },
   "outputs": [],
   "source": [
    "x = np.matrix(link_day_minute_Jan_list)\n",
    "x = np.matrix.reshape(x, 24, 2640)\n",
    "\n",
    "x = np.nan_to_num(x)\n",
    "y = np.array(np.transpose(x))\n",
    "y = y[np.all(y != 0, axis=1)]\n",
    "x = np.transpose(y)\n",
    "x = np.matrix(x)"
   ]
  },
  {
   "cell_type": "code",
   "execution_count": 14,
   "metadata": {
    "collapsed": false
   },
   "outputs": [
    {
     "data": {
      "text/plain": [
       "(24, 2640)"
      ]
     },
     "execution_count": 14,
     "metadata": {},
     "output_type": "execute_result"
    }
   ],
   "source": [
    "np.size(x, 0), np.size(x, 1)"
   ]
  },
  {
   "cell_type": "code",
   "execution_count": 15,
   "metadata": {
    "collapsed": false
   },
   "outputs": [
    {
     "data": {
      "text/plain": [
       "matrix([[ 335114.28657936,  341803.76737447],\n",
       "        [ 348656.74325798,  344115.77367828],\n",
       "        [ 637090.97203516,  636818.41668356],\n",
       "        [ 671131.40678613,  682086.92331011],\n",
       "        [ 166807.10726907,  161340.28445513],\n",
       "        [ 208397.61702566,  212269.66463485],\n",
       "        [ 398222.06456861,  408752.41543812],\n",
       "        [ 401373.32750189,  398944.31943346],\n",
       "        [ 370974.05590849,  388334.49208636],\n",
       "        [ 397215.67348913,  382283.18939738],\n",
       "        [ 369473.63514832,  367222.15318984],\n",
       "        [ 337169.62973333,  333501.63463774],\n",
       "        [ 100266.10205147,   97321.81185715],\n",
       "        [ 101420.15524158,  101477.8589123 ],\n",
       "        [ 162234.50875298,  151077.28824074],\n",
       "        [ 146091.57782324,  141074.9812665 ],\n",
       "        [ 214020.16148915,  210833.90655819],\n",
       "        [ 220813.47078402,  215929.43016519],\n",
       "        [ 369410.5564851 ,  367547.26200248],\n",
       "        [ 355145.37875832,  346053.27198612],\n",
       "        [ 526619.26909059,  523644.1817912 ],\n",
       "        [ 531049.10958179,  532305.41598759],\n",
       "        [ 135789.75598704,  137792.50493097],\n",
       "        [ 136401.78442716,  137189.91654878]])"
      ]
     },
     "execution_count": 15,
     "metadata": {},
     "output_type": "execute_result"
    }
   ],
   "source": [
    "x[:,:2]"
   ]
  },
  {
   "cell_type": "code",
   "execution_count": 16,
   "metadata": {
    "collapsed": false
   },
   "outputs": [
    {
     "data": {
      "text/plain": [
       "(24, 140)"
      ]
     },
     "execution_count": 16,
     "metadata": {},
     "output_type": "execute_result"
    }
   ],
   "source": [
    "np.size(A,0), np.size(A,1)"
   ]
  },
  {
   "cell_type": "code",
   "execution_count": 17,
   "metadata": {
    "collapsed": false
   },
   "outputs": [
    {
     "name": "stdout",
     "output_type": "stream",
     "text": [
      "Optimize a model with 56 rows, 56 columns and 56 nonzeros\n",
      "Model has 1596 quadratic objective terms\n",
      "Coefficient statistics:\n",
      "  Matrix range    [1e+00, 1e+00]\n",
      "  Objective range [4e-02, 2e+01]\n",
      "  Bounds range    [0e+00, 0e+00]\n",
      "  RHS range       [0e+00, 0e+00]\n",
      "Presolve removed 56 rows and 0 columns\n",
      "Presolve time: 0.00s\n",
      "Presolved: 0 rows, 56 columns, 0 nonzeros\n",
      "Presolved model has 1596 quadratic objective terms\n",
      "Ordering time: 0.00s\n",
      "\n",
      "Barrier statistics:\n",
      " Free vars  : 24\n",
      " AA' NZ     : 2.760e+02\n",
      " Factor NZ  : 3.000e+02\n",
      " Factor Ops : 4.900e+03 (less than 1 second per iteration)\n",
      " Threads    : 1\n",
      "\n",
      "                  Objective                Residual\n",
      "Iter       Primal          Dual         Primal    Dual     Compl     Time\n",
      "   0  -1.30025370e+07  0.00000000e+00  5.32e+03 2.20e+03  1.00e+06     0s\n",
      "   1  -7.64238224e+06 -5.73938835e+06  1.03e+03 4.26e+02  2.46e+05     0s\n",
      "   2  -6.13898732e+06 -8.47539833e+06  1.03e-03 4.26e-04  4.17e+04     0s\n",
      "   3  -6.83367453e+06 -7.30535610e+06  7.09e-05 2.93e-05  8.42e+03     0s\n",
      "   4  -6.93616834e+06 -7.04656997e+06  7.09e-11 2.93e-11  1.97e+03     0s\n",
      "   5  -6.96769709e+06 -6.97176226e+06  7.50e-12 4.55e-13  7.26e+01     0s\n",
      "   6  -6.97016156e+06 -6.97097532e+06  1.40e-11 9.09e-13  1.45e+01     0s\n",
      "   7  -6.97043692e+06 -6.97046062e+06  4.55e-12 2.27e-13  4.23e-01     0s\n",
      "   8  -6.97045376e+06 -6.97045395e+06  2.82e-11 1.02e-12  3.39e-03     0s\n",
      "   9  -6.97045387e+06 -6.97045387e+06  5.91e-12 1.14e-12  3.39e-06     0s\n",
      "  10  -6.97045387e+06 -6.97045387e+06  9.32e-12 2.27e-13  8.17e-09     0s\n",
      "\n",
      "Barrier solved model in 10 iterations and 0.02 seconds\n",
      "Optimal objective -6.97045387e+06\n",
      "\n",
      "lam_0 12339.2\n",
      "lam_1 152309\n",
      "lam_2 74484.5\n",
      "lam_3 6.15771e-07\n",
      "lam_4 46976.9\n",
      "lam_5 7.19806e-05\n",
      "lam_6 6.05909e-07\n",
      "lam_7 7.45976e-07\n",
      "lam_8 1.0126e-09\n",
      "lam_9 1.73793e-08\n",
      "lam_10 1.01094e-09\n",
      "lam_11 1.01261e-09\n",
      "lam_12 1.01259e-09\n",
      "lam_13 1.01733e-09\n",
      "lam_14 4.78078e-06\n",
      "lam_15 2.25801e-08\n",
      "lam_16 4.92512e-07\n",
      "lam_17 6.15831e-07\n",
      "lam_18 85874\n",
      "lam_19 119798\n",
      "lam_20 6.02945e-07\n",
      "lam_21 44567.5\n",
      "lam_22 110327\n",
      "lam_23 6.04921e-07\n",
      "lam_24 5.99465e-07\n",
      "lam_25 6.09356e-07\n",
      "lam_26 39436\n",
      "lam_27 125287\n",
      "lam_28 367356\n",
      "lam_29 2.26886e-08\n",
      "lam_30 69066.6\n",
      "lam_31 27950.9\n",
      "lam_32 30125\n",
      "lam_33 98965.8\n",
      "lam_34 28497.5\n",
      "lam_35 9.70489e-06\n",
      "lam_36 2.26343e-08\n",
      "lam_37 274080\n",
      "lam_38 1.06299e-05\n",
      "lam_39 46401.1\n",
      "lam_40 521199\n",
      "lam_41 6.06141e-07\n",
      "lam_42 3.35768e-06\n",
      "lam_43 2.25352e-08\n",
      "lam_44 1.60306e-05\n",
      "lam_45 1.61537e-06\n",
      "lam_46 102823\n",
      "lam_47 281172\n",
      "lam_48 6.05903e-07\n",
      "lam_49 3.44163e-06\n",
      "lam_50 2.28217e-08\n",
      "lam_51 1.502e-05\n",
      "lam_52 78267.1\n",
      "lam_53 5.42617e-06\n",
      "lam_54 31216.7\n",
      "lam_55 41129.9\n",
      "Obj: -6.97095e+06\n"
     ]
    }
   ],
   "source": [
    "from gurobipy import *\n",
    "\n",
    "L = 56  # dimension of lam\n",
    "\n",
    "K = np.size(x, 1)\n",
    "S = samp_cov(x)\n",
    "inv_S = inv(S)\n",
    "\n",
    "A_t = np.transpose(A)\n",
    "P_t = np.transpose(P)\n",
    "# PA'\n",
    "PA_t = np.dot(P, A_t)\n",
    "# AP_t\n",
    "AP_t = np.transpose(PA_t)\n",
    "\n",
    "Q = np.dot(np.dot(PA_t, inv_S), AP_t)\n",
    "b = sum([np.dot(np.dot(PA_t, inv_S), x[:, k]) for k in range(K)])\n",
    "\n",
    "\n",
    "model = Model(\"OD_matrix_estimation\")\n",
    "\n",
    "lam = []\n",
    "for l in range(L):\n",
    "    lam.append(model.addVar(name='lam_' + str(l)))\n",
    "\n",
    "model.update() \n",
    "\n",
    "# Set objective: (K/2) lam' * Q * lam - b * lam\n",
    "obj = 0\n",
    "for i in range(L):\n",
    "    for j in range(L):\n",
    "        obj += (1.0 /2) * K * lam[i] * Q[i, j] * lam[j]\n",
    "for l in range(L):\n",
    "    obj += - b[l] * lam[l]\n",
    "model.setObjective(obj)\n",
    "\n",
    "# Add constraint: lam >= 0\n",
    "for l in range(L):\n",
    "    model.addConstr(lam[l] >= 0)\n",
    "\n",
    "model.update() \n",
    "\n",
    "model.optimize()\n",
    "\n",
    "lam_list = []\n",
    "for v in model.getVars():\n",
    "    print('%s %g' % (v.varName, v.x))\n",
    "    lam_list.append(v.x)\n",
    "print('Obj: %g' % obj.getValue())"
   ]
  },
  {
   "cell_type": "code",
   "execution_count": 18,
   "metadata": {
    "collapsed": false
   },
   "outputs": [],
   "source": [
    "# write estimation result to file\n",
    "n = 8  # number of nodes\n",
    "with open('../temp_files/OD_demand_matrix_Jan_weekday_AM.txt', 'w') as the_file:\n",
    "    idx = 0\n",
    "    for i in range(n + 1)[1:]:\n",
    "        for j in range(n + 1)[1:]:\n",
    "            if i != j: \n",
    "                the_file.write(\"%d,%d,%f\\n\" %(i, j, lam_list[idx]))\n",
    "                idx += 1"
   ]
  },
  {
   "cell_type": "code",
   "execution_count": 19,
   "metadata": {
    "collapsed": false
   },
   "outputs": [
    {
     "data": {
      "text/plain": [
       "[12339.223444138632,\n",
       " 152309.32971870698,\n",
       " 74484.48659745885,\n",
       " 6.157705451705097e-07,\n",
       " 46976.8869900123,\n",
       " 7.198056564927668e-05,\n",
       " 6.059090315147604e-07,\n",
       " 7.459762255230206e-07,\n",
       " 1.0125991529094963e-09,\n",
       " 1.737929939928838e-08,\n",
       " 1.010935951017343e-09,\n",
       " 1.0126096342838093e-09,\n",
       " 1.0125858781878123e-09,\n",
       " 1.017333966659257e-09,\n",
       " 4.780778603511327e-06,\n",
       " 2.258014072065559e-08,\n",
       " 4.925123195806608e-07,\n",
       " 6.158313249945003e-07,\n",
       " 85874.04324624025,\n",
       " 119798.11120957871,\n",
       " 6.029446157746984e-07,\n",
       " 44567.54317595367,\n",
       " 110326.7618695317,\n",
       " 6.049213875781285e-07,\n",
       " 5.994649909056961e-07,\n",
       " 6.093559341383307e-07,\n",
       " 39435.9896500579,\n",
       " 125286.80462193431,\n",
       " 367356.43930539157,\n",
       " 2.268857388306463e-08,\n",
       " 69066.63508619973,\n",
       " 27950.87239385975,\n",
       " 30124.997387249336,\n",
       " 98965.81031556544,\n",
       " 28497.53993699823,\n",
       " 9.704886269880537e-06,\n",
       " 2.2634287089279786e-08,\n",
       " 274080.417551923,\n",
       " 1.0629906182403268e-05,\n",
       " 46401.10143378265,\n",
       " 521199.30414508824,\n",
       " 6.061407014406792e-07,\n",
       " 3.357675314834708e-06,\n",
       " 2.2535205073181012e-08,\n",
       " 1.603060502685695e-05,\n",
       " 1.615371324329741e-06,\n",
       " 102823.01544160681,\n",
       " 281171.51905337325,\n",
       " 6.059025508412322e-07,\n",
       " 3.441631325086904e-06,\n",
       " 2.282172393116041e-08,\n",
       " 1.5020026125155128e-05,\n",
       " 78267.14731810239,\n",
       " 5.4261661000605706e-06,\n",
       " 31216.73422088208,\n",
       " 41129.884613602626]"
      ]
     },
     "execution_count": 19,
     "metadata": {},
     "output_type": "execute_result"
    }
   ],
   "source": [
    "lam_list"
   ]
  },
  {
   "cell_type": "code",
   "execution_count": null,
   "metadata": {
    "collapsed": true
   },
   "outputs": [],
   "source": []
  }
 ],
 "metadata": {
  "kernelspec": {
   "display_name": "Python 2",
   "language": "python",
   "name": "python2"
  },
  "language_info": {
   "codemirror_mode": {
    "name": "ipython",
    "version": 2
   },
   "file_extension": ".py",
   "mimetype": "text/x-python",
   "name": "python",
   "nbconvert_exporter": "python",
   "pygments_lexer": "ipython2",
   "version": "2.7.11"
  }
 },
 "nbformat": 4,
 "nbformat_minor": 0
}
