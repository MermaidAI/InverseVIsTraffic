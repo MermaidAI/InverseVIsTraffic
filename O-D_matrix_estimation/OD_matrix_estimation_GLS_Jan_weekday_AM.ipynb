{
 "cells": [
  {
   "cell_type": "code",
   "execution_count": 1,
   "metadata": {
    "collapsed": true
   },
   "outputs": [],
   "source": [
    "%run ../Python_files/util_data_storage_and_load.py"
   ]
  },
  {
   "cell_type": "code",
   "execution_count": 2,
   "metadata": {
    "collapsed": true
   },
   "outputs": [],
   "source": [
    "%run ../Python_files/load_dicts.py"
   ]
  },
  {
   "cell_type": "code",
   "execution_count": 3,
   "metadata": {
    "collapsed": false
   },
   "outputs": [],
   "source": [
    "%run ../Python_files/util.py"
   ]
  },
  {
   "cell_type": "code",
   "execution_count": 4,
   "metadata": {
    "collapsed": true
   },
   "outputs": [],
   "source": [
    "# load logit_route_choice_probability_matrix\n",
    "P = zload('../temp_files/logit_route_choice_probability_matrix.pkz')"
   ]
  },
  {
   "cell_type": "code",
   "execution_count": 5,
   "metadata": {
    "collapsed": false
   },
   "outputs": [],
   "source": [
    "import numpy as np\n",
    "from numpy.linalg import inv\n",
    "\n",
    "P = np.matrix(P)"
   ]
  },
  {
   "cell_type": "code",
   "execution_count": 6,
   "metadata": {
    "collapsed": false
   },
   "outputs": [
    {
     "data": {
      "text/plain": [
       "(56, 140)"
      ]
     },
     "execution_count": 6,
     "metadata": {},
     "output_type": "execute_result"
    }
   ],
   "source": [
    "np.size(P, 0), np.size(P, 1)"
   ]
  },
  {
   "cell_type": "code",
   "execution_count": 7,
   "metadata": {
    "collapsed": true
   },
   "outputs": [],
   "source": [
    "import numpy as np\n",
    "from numpy.linalg import inv\n",
    "\n",
    "def samp_cov(x):\n",
    "    \"\"\"\n",
    "    x: sample matrix, each column is a link flow vector sample; 24 * K\n",
    "    K: number of samples\n",
    "    S: sample covariance matrix\n",
    "    ----------------\n",
    "    return: inv(S)\n",
    "    ----------------\n",
    "    \"\"\"\n",
    "    x = np.matrix(x)\n",
    "    K = np.size(x, 1)\n",
    "    x_mean = sum(x[:,k] for k in range(K)) / K\n",
    "    S = sum(np.dot(x[:,k] - x_mean, np.transpose(x[:,k] - x_mean)) for k in range(K)) / (K - 1)\n",
    "    return S"
   ]
  },
  {
   "cell_type": "code",
   "execution_count": 8,
   "metadata": {
    "collapsed": false
   },
   "outputs": [],
   "source": [
    "# load path-link incidence matrix\n",
    "A = zload('../temp_files/path-link_incidence_matrix.pkz')"
   ]
  },
  {
   "cell_type": "code",
   "execution_count": 9,
   "metadata": {
    "collapsed": false
   },
   "outputs": [],
   "source": [
    "# load link counts data\n",
    "\n",
    "import json\n",
    "\n",
    "with open('../temp_files/link_day_minute_Jan_dict_JSON.json', 'r') as json_file:\n",
    "    link_day_minute_Jan_dict_JSON = json.load(json_file)"
   ]
  },
  {
   "cell_type": "code",
   "execution_count": 29,
   "metadata": {
    "collapsed": true
   },
   "outputs": [],
   "source": [
    "#week_day_Jan_list = [2, 3, 4, 5, 6, 9, 10, 11, 12, 13, 16, 17, 18, 19, 20, 23, 24, 25, 26, 27, 30, 31]\n",
    "week_day_Jan_list = [2, 9, 16, 23, 30]"
   ]
  },
  {
   "cell_type": "code",
   "execution_count": 30,
   "metadata": {
    "collapsed": false
   },
   "outputs": [],
   "source": [
    "link_day_minute_Jan_list = []\n",
    "for link_idx in range(24):\n",
    "    for day in week_day_Jan_list: \n",
    "        for minute_idx in range(120):\n",
    "            key = 'link_' + str(link_idx) + '_' + str(day)\n",
    "            link_day_minute_Jan_list.append(link_day_minute_Jan_dict_JSON[key] ['AM_flow_minute'][minute_idx])"
   ]
  },
  {
   "cell_type": "code",
   "execution_count": 31,
   "metadata": {
    "collapsed": false
   },
   "outputs": [
    {
     "data": {
      "text/plain": [
       "14400"
      ]
     },
     "execution_count": 31,
     "metadata": {},
     "output_type": "execute_result"
    }
   ],
   "source": [
    "len(link_day_minute_Jan_list)"
   ]
  },
  {
   "cell_type": "code",
   "execution_count": 32,
   "metadata": {
    "collapsed": false
   },
   "outputs": [],
   "source": [
    "x = np.matrix(link_day_minute_Jan_list)\n",
    "x = np.matrix.reshape(x, 24, 600)\n",
    "\n",
    "x = np.nan_to_num(x)\n",
    "y = np.array(np.transpose(x))\n",
    "y = y[np.all(y != 0, axis=1)]\n",
    "x = np.transpose(y)\n",
    "x = np.matrix(x)"
   ]
  },
  {
   "cell_type": "code",
   "execution_count": 33,
   "metadata": {
    "collapsed": false
   },
   "outputs": [
    {
     "data": {
      "text/plain": [
       "(24, 600)"
      ]
     },
     "execution_count": 33,
     "metadata": {},
     "output_type": "execute_result"
    }
   ],
   "source": [
    "np.size(x, 0), np.size(x, 1)"
   ]
  },
  {
   "cell_type": "code",
   "execution_count": 34,
   "metadata": {
    "collapsed": false
   },
   "outputs": [
    {
     "data": {
      "text/plain": [
       "matrix([[ 1235.03209639,  1275.32760486],\n",
       "        [ 1202.83746161,  1200.99906373],\n",
       "        [ 1554.94634607,  1537.80960515],\n",
       "        [ 1543.14090375,  1533.71667045],\n",
       "        [ 1506.41819308,  1462.58788742],\n",
       "        [ 1449.97717537,  1489.45836837],\n",
       "        [ 1250.11071279,  1298.88381015],\n",
       "        [ 1280.44551751,  1252.15430278],\n",
       "        [ 1635.03935469,  1726.81615022],\n",
       "        [ 1660.72933309,  1589.84619802],\n",
       "        [ 1340.50766712,  1388.30001736],\n",
       "        [ 1297.24315504,  1245.91501958],\n",
       "        [ 1183.35724495,  1193.1505411 ],\n",
       "        [ 1311.71709436,  1395.07401973],\n",
       "        [ 1135.5074771 ,  1131.68352257],\n",
       "        [ 1022.26780226,  1028.62000699],\n",
       "        [ 1266.22053596,  1243.71833892],\n",
       "        [ 1305.98186902,  1265.41462246],\n",
       "        [ 1555.58628784,  1544.03827366],\n",
       "        [ 1558.14461437,  1542.66401738],\n",
       "        [ 1498.24147246,  1468.86731119],\n",
       "        [ 1347.94716816,  1412.03518371],\n",
       "        [ 1245.36168302,  1238.48285715],\n",
       "        [ 1249.83146055,  1238.23392963]])"
      ]
     },
     "execution_count": 34,
     "metadata": {},
     "output_type": "execute_result"
    }
   ],
   "source": [
    "x[:,:2]"
   ]
  },
  {
   "cell_type": "code",
   "execution_count": 35,
   "metadata": {
    "collapsed": false
   },
   "outputs": [
    {
     "data": {
      "text/plain": [
       "(24, 140)"
      ]
     },
     "execution_count": 35,
     "metadata": {},
     "output_type": "execute_result"
    }
   ],
   "source": [
    "np.size(A,0), np.size(A,1)"
   ]
  },
  {
   "cell_type": "code",
   "execution_count": 36,
   "metadata": {
    "collapsed": false
   },
   "outputs": [
    {
     "name": "stdout",
     "output_type": "stream",
     "text": [
      "Optimize a model with 56 rows, 56 columns and 56 nonzeros\n",
      "Model has 1596 quadratic objective terms\n",
      "Coefficient statistics:\n",
      "  Matrix range    [1e+00, 1e+00]\n",
      "  Objective range [3e+01, 2e+03]\n",
      "  Bounds range    [0e+00, 0e+00]\n",
      "  RHS range       [0e+00, 0e+00]\n",
      "Warning: diagonal adjustment of 3.4e-09 performed to make Q PSD\n",
      "Presolve removed 56 rows and 0 columns\n",
      "Presolve time: 0.00s\n",
      "Presolved: 0 rows, 56 columns, 0 nonzeros\n",
      "Presolved model has 1596 quadratic objective terms\n",
      "Ordering time: 0.00s\n",
      "\n",
      "Barrier statistics:\n",
      " Free vars  : 25\n",
      " AA' NZ     : 3.000e+02\n",
      " Factor NZ  : 3.250e+02\n",
      " Factor Ops : 5.525e+03 (less than 1 second per iteration)\n",
      " Threads    : 1\n",
      "\n",
      "                  Objective                Residual\n",
      "Iter       Primal          Dual         Primal    Dual     Compl     Time\n",
      "   0  -3.20996405e+07  0.00000000e+00  8.87e+03 1.03e+03  1.00e+06     0s\n",
      "   1  -6.32334585e+06 -8.57943979e+06  7.54e+02 8.76e+01  1.82e+05     0s\n",
      "   2  -4.64081449e+06 -5.78430352e+06  2.67e+01 3.11e+00  2.41e+04     0s\n",
      "   3  -4.71170049e+06 -4.80087466e+06  1.31e-01 1.52e-02  1.61e+03     0s\n",
      "   4  -4.71923876e+06 -4.72201753e+06  1.32e-03 1.53e-04  4.98e+01     0s\n",
      "   5  -4.71941303e+06 -4.71943662e+06  2.26e-06 2.63e-07  4.22e-01     0s\n",
      "   6  -4.71942072e+06 -4.71942212e+06  7.71e-08 8.96e-09  2.51e-02     0s\n",
      "   7  -4.71942159e+06 -4.71942201e+06  1.17e-11 4.55e-13  7.48e-03     0s\n",
      "   8  -4.71942161e+06 -4.71942164e+06  1.67e-11 3.41e-13  3.72e-04     0s\n",
      "   9  -4.71942162e+06 -4.71942162e+06  2.79e-11 4.55e-13  6.24e-05     0s\n",
      "  10  -4.71942162e+06 -4.71942162e+06  4.99e-11 4.55e-13  2.79e-05     0s\n",
      "  11  -4.71942162e+06 -4.71942162e+06  5.23e-12 9.09e-13  1.13e-06     0s\n",
      "  12  -4.71942162e+06 -4.71942162e+06  2.61e-12 6.82e-13  3.45e-07     0s\n",
      "  13  -4.71942162e+06 -4.71942162e+06  1.36e-12 1.04e-10  1.21e-08     0s\n",
      "  14  -4.71942162e+06 -4.71942162e+06  2.39e-12 8.65e-11  2.29e-10     0s\n",
      "\n",
      "Barrier solved model in 14 iterations and 0.01 seconds\n",
      "Optimal objective -4.71942162e+06\n",
      "\n",
      "lam_0 6.19801e-13\n",
      "lam_1 941.591\n",
      "lam_2 6.80337e-13\n",
      "lam_3 0.00010167\n",
      "lam_4 1525.83\n",
      "lam_5 0.000169468\n",
      "lam_6 2.05304e-10\n",
      "lam_7 856.582\n",
      "lam_8 0.00113214\n",
      "lam_9 1237.64\n",
      "lam_10 371.549\n",
      "lam_11 5.97841e-05\n",
      "lam_12 0.000147382\n",
      "lam_13 0.000156209\n",
      "lam_14 1497.07\n",
      "lam_15 1425.72\n",
      "lam_16 0.00556605\n",
      "lam_17 1017.92\n",
      "lam_18 6.87685e-05\n",
      "lam_19 0.000169463\n",
      "lam_20 0.000169381\n",
      "lam_21 1.11784e-05\n",
      "lam_22 1353.67\n",
      "lam_23 712.627\n",
      "lam_24 203.771\n",
      "lam_25 0.0884728\n",
      "lam_26 0.478504\n",
      "lam_27 1134.05\n",
      "lam_28 0.0110986\n",
      "lam_29 0.00473394\n",
      "lam_30 0.053473\n",
      "lam_31 1077.69\n",
      "lam_32 1102.43\n",
      "lam_33 165.719\n",
      "lam_34 1100.12\n",
      "lam_35 1.37506e-07\n",
      "lam_36 1.37507e-07\n",
      "lam_37 1.37507e-07\n",
      "lam_38 0.00584542\n",
      "lam_39 865.338\n",
      "lam_40 733.724\n",
      "lam_41 0.0360062\n",
      "lam_42 0.0749398\n",
      "lam_43 0.0750558\n",
      "lam_44 984.478\n",
      "lam_45 0.00558599\n",
      "lam_46 238.212\n",
      "lam_47 293.998\n",
      "lam_48 0.0342735\n",
      "lam_49 0.000463123\n",
      "lam_50 0.000946342\n",
      "lam_51 1204.53\n",
      "lam_52 1030.17\n",
      "lam_53 0.000402461\n",
      "lam_54 0.000529886\n",
      "lam_55 0.000529954\n",
      "Obj: -4.71942e+06\n"
     ]
    }
   ],
   "source": [
    "from gurobipy import *\n",
    "\n",
    "L = 56  # dimension of lam\n",
    "\n",
    "K = np.size(x, 1)\n",
    "S = samp_cov(x)\n",
    "inv_S = inv(S)\n",
    "\n",
    "A_t = np.transpose(A)\n",
    "P_t = np.transpose(P)\n",
    "# PA'\n",
    "PA_t = np.dot(P, A_t)\n",
    "# AP_t\n",
    "AP_t = np.transpose(PA_t)\n",
    "\n",
    "Q = np.dot(np.dot(PA_t, inv_S), AP_t)\n",
    "b = sum([np.dot(np.dot(PA_t, inv_S), x[:, k]) for k in range(K)])\n",
    "\n",
    "\n",
    "model = Model(\"OD_matrix_estimation\")\n",
    "\n",
    "lam = []\n",
    "for l in range(L):\n",
    "    lam.append(model.addVar(name='lam_' + str(l)))\n",
    "\n",
    "model.update() \n",
    "\n",
    "# Set objective: (K/2) lam' * Q * lam - b' * lam\n",
    "obj = 0\n",
    "for i in range(L):\n",
    "    for j in range(L):\n",
    "        obj += (1.0 /2) * K * lam[i] * Q[i, j] * lam[j]\n",
    "for l in range(L):\n",
    "    obj += - b[l] * lam[l]\n",
    "model.setObjective(obj)\n",
    "\n",
    "# Add constraint: lam >= 0\n",
    "for l in range(L):\n",
    "    model.addConstr(lam[l] >= 0)\n",
    "\n",
    "model.update() \n",
    "\n",
    "model.optimize()\n",
    "\n",
    "lam_list = []\n",
    "for v in model.getVars():\n",
    "    print('%s %g' % (v.varName, v.x))\n",
    "    lam_list.append(v.x)\n",
    "print('Obj: %g' % obj.getValue())"
   ]
  },
  {
   "cell_type": "code",
   "execution_count": 18,
   "metadata": {
    "collapsed": false
   },
   "outputs": [],
   "source": [
    "# write estimation result to file\n",
    "n = 8  # number of nodes\n",
    "with open('../temp_files/OD_demand_matrix_Jan_weekday_AM.txt', 'w') as the_file:\n",
    "    idx = 0\n",
    "    for i in range(n + 1)[1:]:\n",
    "        for j in range(n + 1)[1:]:\n",
    "            if i != j: \n",
    "                the_file.write(\"%d,%d,%f\\n\" %(i, j, lam_list[idx]))\n",
    "                idx += 1"
   ]
  },
  {
   "cell_type": "code",
   "execution_count": 38,
   "metadata": {
    "collapsed": false
   },
   "outputs": [
    {
     "data": {
      "text/plain": [
       "[6.198007503349369e-13,\n",
       " 941.5908282467939,\n",
       " 6.803369850153859e-13,\n",
       " 0.00010167000214266007,\n",
       " 1525.8302722171452,\n",
       " 0.0001694683976373023,\n",
       " 2.0530436175232184e-10,\n",
       " 856.582001518788,\n",
       " 0.0011321351268835725,\n",
       " 1237.638600652464,\n",
       " 371.54907114420524,\n",
       " 5.9784112571234244e-05,\n",
       " 0.00014738186899986017,\n",
       " 0.00015620935241639298,\n",
       " 1497.0705291702388,\n",
       " 1425.7210426190504,\n",
       " 0.005566054105685447,\n",
       " 1017.923982439698,\n",
       " 6.876848070059248e-05,\n",
       " 0.00016946333867750955,\n",
       " 0.0001693811977952226,\n",
       " 1.1178382646964225e-05,\n",
       " 1353.6707088032247,\n",
       " 712.6270857766897,\n",
       " 203.77123853638628,\n",
       " 0.08847281503764748,\n",
       " 0.47850438787474303,\n",
       " 1134.0478935693573,\n",
       " 0.011098568092314243,\n",
       " 0.004733937881660932,\n",
       " 0.053473019460260396,\n",
       " 1077.686902133604,\n",
       " 1102.4288537760692,\n",
       " 165.71893021920644,\n",
       " 1100.12157415023,\n",
       " 1.3750649649156775e-07,\n",
       " 1.3750705443802988e-07,\n",
       " 1.3750650629051075e-07,\n",
       " 0.005845422054461313,\n",
       " 865.337541225362,\n",
       " 733.7244947828469,\n",
       " 0.03600618433891811,\n",
       " 0.0749397962435765,\n",
       " 0.07505581841483888,\n",
       " 984.4782190057648,\n",
       " 0.00558599010283517,\n",
       " 238.21237786989713,\n",
       " 293.9981095185339,\n",
       " 0.03427353275039344,\n",
       " 0.00046312266441696226,\n",
       " 0.0009463418520666358,\n",
       " 1204.5261176344563,\n",
       " 1030.1690360517355,\n",
       " 0.0004024605898602634,\n",
       " 0.0005298857459125339,\n",
       " 0.0005299542563585863]"
      ]
     },
     "execution_count": 38,
     "metadata": {},
     "output_type": "execute_result"
    }
   ],
   "source": [
    "lam_list"
   ]
  },
  {
   "cell_type": "code",
   "execution_count": null,
   "metadata": {
    "collapsed": true
   },
   "outputs": [],
   "source": []
  }
 ],
 "metadata": {
  "kernelspec": {
   "display_name": "Python 2",
   "language": "python",
   "name": "python2"
  },
  "language_info": {
   "codemirror_mode": {
    "name": "ipython",
    "version": 2
   },
   "file_extension": ".py",
   "mimetype": "text/x-python",
   "name": "python",
   "nbconvert_exporter": "python",
   "pygments_lexer": "ipython2",
   "version": "2.7.11"
  }
 },
 "nbformat": 4,
 "nbformat_minor": 0
}
