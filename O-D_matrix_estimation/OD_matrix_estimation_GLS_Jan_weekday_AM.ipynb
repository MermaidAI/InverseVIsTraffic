{
 "cells": [
  {
   "cell_type": "code",
   "execution_count": 1,
   "metadata": {
    "collapsed": true
   },
   "outputs": [],
   "source": [
    "%run ../Python_files/util_data_storage_and_load.py"
   ]
  },
  {
   "cell_type": "code",
   "execution_count": 2,
   "metadata": {
    "collapsed": true
   },
   "outputs": [],
   "source": [
    "%run ../Python_files/load_dicts.py"
   ]
  },
  {
   "cell_type": "code",
   "execution_count": 3,
   "metadata": {
    "collapsed": false
   },
   "outputs": [],
   "source": [
    "%run ../Python_files/util.py"
   ]
  },
  {
   "cell_type": "code",
   "execution_count": 4,
   "metadata": {
    "collapsed": true
   },
   "outputs": [],
   "source": [
    "# load logit_route_choice_probability_matrix\n",
    "P = zload('../temp_files/logit_route_choice_probability_matrix.pkz')"
   ]
  },
  {
   "cell_type": "code",
   "execution_count": 5,
   "metadata": {
    "collapsed": false
   },
   "outputs": [],
   "source": [
    "import numpy as np\n",
    "from numpy.linalg import inv\n",
    "\n",
    "P = np.matrix(P)"
   ]
  },
  {
   "cell_type": "code",
   "execution_count": 6,
   "metadata": {
    "collapsed": false
   },
   "outputs": [
    {
     "data": {
      "text/plain": [
       "(56, 140)"
      ]
     },
     "execution_count": 6,
     "metadata": {},
     "output_type": "execute_result"
    }
   ],
   "source": [
    "np.size(P, 0), np.size(P, 1)"
   ]
  },
  {
   "cell_type": "code",
   "execution_count": 7,
   "metadata": {
    "collapsed": true
   },
   "outputs": [],
   "source": [
    "import numpy as np\n",
    "from numpy.linalg import inv\n",
    "\n",
    "def samp_cov(x):\n",
    "    \"\"\"\n",
    "    x: sample matrix, each column is a link flow vector sample; 24 * K\n",
    "    K: number of samples\n",
    "    S: sample covariance matrix\n",
    "    ----------------\n",
    "    return: inv(S)\n",
    "    ----------------\n",
    "    \"\"\"\n",
    "    x = np.matrix(x)\n",
    "    K = np.size(x, 1)\n",
    "    x_mean = sum(x[:,k] for k in range(K)) / K\n",
    "    S = sum(np.dot(x[:,k] - x_mean, np.transpose(x[:,k] - x_mean)) for k in range(K)) / (K - 1)\n",
    "    return S"
   ]
  },
  {
   "cell_type": "code",
   "execution_count": 8,
   "metadata": {
    "collapsed": false
   },
   "outputs": [],
   "source": [
    "# load path-link incidence matrix\n",
    "A = zload('../temp_files/path-link_incidence_matrix.pkz')"
   ]
  },
  {
   "cell_type": "code",
   "execution_count": 9,
   "metadata": {
    "collapsed": false
   },
   "outputs": [],
   "source": [
    "# load link counts data\n",
    "\n",
    "import json\n",
    "\n",
    "with open('../temp_files/link_day_minute_Jan_dict_JSON.json', 'r') as json_file:\n",
    "    link_day_minute_Jan_dict_JSON = json.load(json_file)"
   ]
  },
  {
   "cell_type": "code",
   "execution_count": 11,
   "metadata": {
    "collapsed": true
   },
   "outputs": [],
   "source": [
    "week_day_Jan_list = [2, 3, 4, 5, 6, 9, 10, 11, 12, 13, 16, 17, 18, 19, 20, 23, 24, 25, 26, 27, 30, 31]\n",
    "#week_day_Jan_list = [2, 9, 16, 23, 30]"
   ]
  },
  {
   "cell_type": "code",
   "execution_count": 12,
   "metadata": {
    "collapsed": false
   },
   "outputs": [],
   "source": [
    "link_day_minute_Jan_list = []\n",
    "for link_idx in range(24):\n",
    "    for day in week_day_Jan_list: \n",
    "        for minute_idx in range(120):\n",
    "            key = 'link_' + str(link_idx) + '_' + str(day)\n",
    "            link_day_minute_Jan_list.append(link_day_minute_Jan_dict_JSON[key] ['AM_flow_minute'][minute_idx])"
   ]
  },
  {
   "cell_type": "code",
   "execution_count": 13,
   "metadata": {
    "collapsed": false
   },
   "outputs": [
    {
     "data": {
      "text/plain": [
       "63360"
      ]
     },
     "execution_count": 13,
     "metadata": {},
     "output_type": "execute_result"
    }
   ],
   "source": [
    "len(link_day_minute_Jan_list)"
   ]
  },
  {
   "cell_type": "code",
   "execution_count": 14,
   "metadata": {
    "collapsed": false
   },
   "outputs": [],
   "source": [
    "x = np.matrix(link_day_minute_Jan_list)\n",
    "x = np.matrix.reshape(x, 24, 2640)\n",
    "\n",
    "x = np.nan_to_num(x)\n",
    "y = np.array(np.transpose(x))\n",
    "y = y[np.all(y != 0, axis=1)]\n",
    "x = np.transpose(y)\n",
    "x = np.matrix(x)"
   ]
  },
  {
   "cell_type": "code",
   "execution_count": 15,
   "metadata": {
    "collapsed": false
   },
   "outputs": [
    {
     "data": {
      "text/plain": [
       "(24, 2640)"
      ]
     },
     "execution_count": 15,
     "metadata": {},
     "output_type": "execute_result"
    }
   ],
   "source": [
    "np.size(x, 0), np.size(x, 1)"
   ]
  },
  {
   "cell_type": "code",
   "execution_count": 16,
   "metadata": {
    "collapsed": false
   },
   "outputs": [
    {
     "data": {
      "text/plain": [
       "matrix([[  2549.89020931,   3473.34628721],\n",
       "        [  2216.97886641,   2314.75710284],\n",
       "        [  4683.72502323,   4473.83941121],\n",
       "        [  4977.59590361,   5415.02072177],\n",
       "        [  2678.23030098,   1528.36765517],\n",
       "        [  1370.37941264,   2350.96391052],\n",
       "        [  2751.3851227 ,   3564.13858436],\n",
       "        [  3069.18157878,   2370.34401583],\n",
       "        [  2538.07439233,   6373.4112037 ],\n",
       "        [  5474.63715741,   4205.39275477],\n",
       "        [  4976.33139471,   3723.16269501],\n",
       "        [  8126.4315399 ,  10312.59241407],\n",
       "        [  5726.49802046,   4685.52529624],\n",
       "        [  2044.33945823,   4498.48015026],\n",
       "        [  5825.38372421,   6698.98632309],\n",
       "        [  2523.90644068,   3102.76257684],\n",
       "        [  2833.52610072,   2173.77555997],\n",
       "        [  3771.43907957,   2616.80352047],\n",
       "        [  3944.44735314,   3382.27232185],\n",
       "        [  3740.19651472,   2945.8934212 ],\n",
       "        [  5013.82039391,   2843.93860165],\n",
       "        [  2006.93802715,   2384.89770783],\n",
       "        [  2817.36240904,   2523.89594506],\n",
       "        [  2734.13045894,   2746.84997261]])"
      ]
     },
     "execution_count": 16,
     "metadata": {},
     "output_type": "execute_result"
    }
   ],
   "source": [
    "x[:,:2]"
   ]
  },
  {
   "cell_type": "code",
   "execution_count": 17,
   "metadata": {
    "collapsed": false
   },
   "outputs": [
    {
     "data": {
      "text/plain": [
       "(24, 140)"
      ]
     },
     "execution_count": 17,
     "metadata": {},
     "output_type": "execute_result"
    }
   ],
   "source": [
    "np.size(A,0), np.size(A,1)"
   ]
  },
  {
   "cell_type": "code",
   "execution_count": 18,
   "metadata": {
    "collapsed": false
   },
   "outputs": [
    {
     "name": "stdout",
     "output_type": "stream",
     "text": [
      "Optimize a model with 56 rows, 56 columns and 56 nonzeros\n",
      "Model has 1596 quadratic objective terms\n",
      "Coefficient statistics:\n",
      "  Matrix range    [1e+00, 1e+00]\n",
      "  Objective range [3e-02, 2e+01]\n",
      "  Bounds range    [0e+00, 0e+00]\n",
      "  RHS range       [0e+00, 0e+00]\n",
      "Presolve removed 56 rows and 0 columns\n",
      "Presolve time: 0.01s\n",
      "Presolved: 0 rows, 56 columns, 0 nonzeros\n",
      "Presolved model has 1596 quadratic objective terms\n",
      "Ordering time: 0.00s\n",
      "\n",
      "Barrier statistics:\n",
      " Free vars  : 24\n",
      " AA' NZ     : 2.760e+02\n",
      " Factor NZ  : 3.000e+02\n",
      " Factor Ops : 4.900e+03 (less than 1 second per iteration)\n",
      " Threads    : 1\n",
      "\n",
      "                  Objective                Residual\n",
      "Iter       Primal          Dual         Primal    Dual     Compl     Time\n",
      "   0  -1.55405287e+06  0.00000000e+00  4.88e+03 1.24e+02  9.54e+05     0s\n",
      "   1   8.93658237e+05 -1.65160775e+06  7.81e+02 1.50e+02  1.93e+05     0s\n",
      "   2   8.35496141e+05 -1.22861863e+06  6.25e+00 9.18e-01  3.80e+04     0s\n",
      "   3   4.13130716e+04 -2.64279553e+05  6.25e-06 1.14e-13  5.46e+03     0s\n",
      "   4  -6.04818383e+04 -1.01141955e+05  6.17e-12 3.55e-14  7.26e+02     0s\n",
      "   5  -6.98613318e+04 -7.38406550e+04  1.05e-12 2.84e-14  7.11e+01     0s\n",
      "   6  -7.02314959e+04 -7.03385875e+04  3.35e-12 3.91e-14  1.91e+00     0s\n",
      "   7  -7.02400967e+04 -7.02609484e+04  5.88e-12 5.33e-14  3.72e-01     0s\n",
      "   8  -7.02444990e+04 -7.02473051e+04  2.83e-11 4.26e-14  5.01e-02     0s\n",
      "   9  -7.02456083e+04 -7.02458731e+04  2.41e-12 5.68e-14  4.73e-03     0s\n",
      "  10  -7.02456906e+04 -7.02456957e+04  4.32e-12 2.84e-14  9.15e-05     0s\n",
      "  11  -7.02456923e+04 -7.02456930e+04  1.85e-12 2.84e-14  1.30e-05     0s\n",
      "  12  -7.02456925e+04 -7.02456925e+04  1.56e-12 2.84e-14  1.43e-07     0s\n",
      "  13  -7.02456925e+04 -7.02456925e+04  7.96e-13 4.26e-14  1.13e-08     0s\n",
      "  14  -7.02456925e+04 -7.02456925e+04  3.84e-13 1.30e-11  2.59e-10     0s\n",
      "\n",
      "Barrier solved model in 14 iterations and 0.02 seconds\n",
      "Optimal objective -7.02456925e+04\n",
      "\n",
      "lam_0 3.62951e-11\n",
      "lam_1 4402.21\n",
      "lam_2 3.984e-11\n",
      "lam_3 9.41992e-07\n",
      "lam_4 551.678\n",
      "lam_5 1.57927e-06\n",
      "lam_6 1.19319e-08\n",
      "lam_7 0.000524176\n",
      "lam_8 1035.1\n",
      "lam_9 2720.98\n",
      "lam_10 9.41992e-07\n",
      "lam_11 386.149\n",
      "lam_12 1.57927e-06\n",
      "lam_13 1.58831e-06\n",
      "lam_14 1750.8\n",
      "lam_15 1877.74\n",
      "lam_16 9.41982e-07\n",
      "lam_17 9.41992e-07\n",
      "lam_18 1113.71\n",
      "lam_19 10229.9\n",
      "lam_20 1.57893e-06\n",
      "lam_21 1697.05\n",
      "lam_22 1222.16\n",
      "lam_23 1391.58\n",
      "lam_24 1724.78\n",
      "lam_25 1479.27\n",
      "lam_26 1118.64\n",
      "lam_27 2599.76\n",
      "lam_28 0.173231\n",
      "lam_29 0.17266\n",
      "lam_30 5959.82\n",
      "lam_31 1.02022\n",
      "lam_32 5493.81\n",
      "lam_33 1885.8\n",
      "lam_34 756.476\n",
      "lam_35 3214.31\n",
      "lam_36 2350.48\n",
      "lam_37 7.86042e-06\n",
      "lam_38 2127.5\n",
      "lam_39 69.7471\n",
      "lam_40 4585.08\n",
      "lam_41 862.222\n",
      "lam_42 2.53996e-07\n",
      "lam_43 2.53996e-07\n",
      "lam_44 6738.58\n",
      "lam_45 1.29247e-07\n",
      "lam_46 1.27672e-07\n",
      "lam_47 1065.69\n",
      "lam_48 1221.8\n",
      "lam_49 2.54701e-07\n",
      "lam_50 2.56809e-07\n",
      "lam_51 2.54077e-07\n",
      "lam_52 1833.07\n",
      "lam_53 1.27751e-07\n",
      "lam_54 290.256\n",
      "lam_55 1780.5\n",
      "Obj: -70237.8\n"
     ]
    }
   ],
   "source": [
    "from gurobipy import *\n",
    "\n",
    "L = 56  # dimension of lam\n",
    "\n",
    "K = np.size(x, 1)\n",
    "S = samp_cov(x)\n",
    "inv_S = inv(S)\n",
    "\n",
    "A_t = np.transpose(A)\n",
    "P_t = np.transpose(P)\n",
    "# PA'\n",
    "PA_t = np.dot(P, A_t)\n",
    "# AP_t\n",
    "AP_t = np.transpose(PA_t)\n",
    "\n",
    "Q = np.dot(np.dot(PA_t, inv_S), AP_t)\n",
    "b = sum([np.dot(np.dot(PA_t, inv_S), x[:, k]) for k in range(K)])\n",
    "\n",
    "\n",
    "model = Model(\"OD_matrix_estimation\")\n",
    "\n",
    "lam = []\n",
    "for l in range(L):\n",
    "    lam.append(model.addVar(name='lam_' + str(l)))\n",
    "\n",
    "model.update() \n",
    "\n",
    "# Set objective: (K/2) lam' * Q * lam - b' * lam\n",
    "obj = 0\n",
    "for i in range(L):\n",
    "    for j in range(L):\n",
    "        obj += (1.0 /2) * K * lam[i] * Q[i, j] * lam[j]\n",
    "for l in range(L):\n",
    "    obj += - b[l] * lam[l]\n",
    "model.setObjective(obj)\n",
    "\n",
    "# Add constraint: lam >= 0\n",
    "for l in range(L):\n",
    "    model.addConstr(lam[l] >= 0)\n",
    "\n",
    "model.update() \n",
    "\n",
    "model.optimize()\n",
    "\n",
    "lam_list = []\n",
    "for v in model.getVars():\n",
    "    print('%s %g' % (v.varName, v.x))\n",
    "    lam_list.append(v.x)\n",
    "print('Obj: %g' % obj.getValue())"
   ]
  },
  {
   "cell_type": "code",
   "execution_count": 19,
   "metadata": {
    "collapsed": false
   },
   "outputs": [],
   "source": [
    "# write estimation result to file\n",
    "n = 8  # number of nodes\n",
    "with open('../temp_files/OD_demand_matrix_Jan_weekday_AM.txt', 'w') as the_file:\n",
    "    idx = 0\n",
    "    for i in range(n + 1)[1:]:\n",
    "        for j in range(n + 1)[1:]:\n",
    "            if i != j: \n",
    "                the_file.write(\"%d,%d,%f\\n\" %(i, j, lam_list[idx]))\n",
    "                idx += 1"
   ]
  },
  {
   "cell_type": "code",
   "execution_count": 20,
   "metadata": {
    "collapsed": false
   },
   "outputs": [
    {
     "data": {
      "text/plain": [
       "[3.6295062281518074e-11,\n",
       " 4402.209708270412,\n",
       " 3.9839950364271444e-11,\n",
       " 9.419918289263449e-07,\n",
       " 551.678221678437,\n",
       " 1.5792667873841694e-06,\n",
       " 1.1931947504304461e-08,\n",
       " 0.0005241757138681469,\n",
       " 1035.1047821530676,\n",
       " 2720.980404765787,\n",
       " 9.419916542215373e-07,\n",
       " 386.14877787970346,\n",
       " 1.5792662744402883e-06,\n",
       " 1.588310240036771e-06,\n",
       " 1750.8015827729675,\n",
       " 1877.7444222120175,\n",
       " 9.419824309869887e-07,\n",
       " 9.419917337094333e-07,\n",
       " 1113.7065158509017,\n",
       " 10229.949554276745,\n",
       " 1.5789305213030679e-06,\n",
       " 1697.05225618085,\n",
       " 1222.157180159464,\n",
       " 1391.580844300555,\n",
       " 1724.7765217635342,\n",
       " 1479.2692326287827,\n",
       " 1118.6354707698672,\n",
       " 2599.7623853398622,\n",
       " 0.1732306305327178,\n",
       " 0.17266004657855616,\n",
       " 5959.819336873942,\n",
       " 1.0202175022228346,\n",
       " 5493.811841620787,\n",
       " 1885.8038026363536,\n",
       " 756.4764696817406,\n",
       " 3214.31098816818,\n",
       " 2350.48374072759,\n",
       " 7.860415910722091e-06,\n",
       " 2127.4972041606056,\n",
       " 69.74708599091525,\n",
       " 4585.081808779965,\n",
       " 862.2223611208549,\n",
       " 2.5399569958678227e-07,\n",
       " 2.5399569595971943e-07,\n",
       " 6738.582890073613,\n",
       " 1.2924656017773365e-07,\n",
       " 1.2767200737954303e-07,\n",
       " 1065.6879715425368,\n",
       " 1221.7984997950866,\n",
       " 2.5470093789991383e-07,\n",
       " 2.5680870212139616e-07,\n",
       " 2.540772026549724e-07,\n",
       " 1833.0683971738279,\n",
       " 1.277509969595083e-07,\n",
       " 290.2564119618824,\n",
       " 1780.5000197716033]"
      ]
     },
     "execution_count": 20,
     "metadata": {},
     "output_type": "execute_result"
    }
   ],
   "source": [
    "lam_list"
   ]
  },
  {
   "cell_type": "code",
   "execution_count": null,
   "metadata": {
    "collapsed": true
   },
   "outputs": [],
   "source": []
  }
 ],
 "metadata": {
  "kernelspec": {
   "display_name": "Python 2",
   "language": "python",
   "name": "python2"
  },
  "language_info": {
   "codemirror_mode": {
    "name": "ipython",
    "version": 2
   },
   "file_extension": ".py",
   "mimetype": "text/x-python",
   "name": "python",
   "nbconvert_exporter": "python",
   "pygments_lexer": "ipython2",
   "version": "2.7.11"
  }
 },
 "nbformat": 4,
 "nbformat_minor": 0
}
