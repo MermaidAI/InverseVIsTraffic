{
 "cells": [
  {
   "cell_type": "code",
   "execution_count": 1,
   "metadata": {
    "collapsed": true
   },
   "outputs": [],
   "source": [
    "%run ../Python_files/util_data_storage_and_load.py"
   ]
  },
  {
   "cell_type": "code",
   "execution_count": 2,
   "metadata": {
    "collapsed": true
   },
   "outputs": [],
   "source": [
    "%run ../Python_files/load_dicts.py"
   ]
  },
  {
   "cell_type": "code",
   "execution_count": 3,
   "metadata": {
    "collapsed": false
   },
   "outputs": [],
   "source": [
    "%run ../Python_files/util.py"
   ]
  },
  {
   "cell_type": "code",
   "execution_count": 4,
   "metadata": {
    "collapsed": false
   },
   "outputs": [],
   "source": [
    "road_seg_inr_capac = zload('../temp_files/road_seg_inr_capac.pkz')"
   ]
  },
  {
   "cell_type": "code",
   "execution_count": 5,
   "metadata": {
    "collapsed": false
   },
   "outputs": [],
   "source": [
    "# load tmc-day-ave_speed data for AM peak of April\n",
    "tmc_day_speed_dict_Apr_AM = zload('../temp_files/Apr_AM/tmc_day_speed_dict.pkz')\n",
    "\n",
    "# load tmc-day-ave_speed data for MD of April\n",
    "tmc_day_speed_dict_Apr_MD = zload('../temp_files/Apr_MD/tmc_day_speed_dict.pkz')\n",
    "\n",
    "# load tmc-day-ave_speed data for PM peak of April\n",
    "tmc_day_speed_dict_Apr_PM = zload('../temp_files/Apr_PM/tmc_day_speed_dict.pkz')\n",
    "\n",
    "# load tmc-day-ave_speed data for NT of April\n",
    "tmc_day_speed_dict_Apr_NT = zload('../temp_files/Apr_NT/tmc_day_speed_dict.pkz')"
   ]
  },
  {
   "cell_type": "code",
   "execution_count": 7,
   "metadata": {
    "collapsed": false
   },
   "outputs": [
    {
     "data": {
      "text/plain": [
       "60.150640412923032"
      ]
     },
     "execution_count": 7,
     "metadata": {},
     "output_type": "execute_result"
    }
   ],
   "source": [
    "tmc_day_speed_dict_Apr_AM['129N0410818'].ave_speed()"
   ]
  },
  {
   "cell_type": "code",
   "execution_count": 9,
   "metadata": {
    "collapsed": false
   },
   "outputs": [],
   "source": [
    "tmc_day_capac_flow_minute_dict = {}\n",
    "\n",
    "for i in range(len(road_seg_inr_capac.tmc)):\n",
    "    for day in range(31)[1:]:\n",
    "        tmc = road_seg_inr_capac.tmc[i]\n",
    "        road_num = road_seg_inr_capac.road_num[i]\n",
    "        shape_length = road_seg_inr_capac.shape_length[i]\n",
    "        day = day\n",
    "        AB_AM_capac = road_seg_inr_capac.AB_AM_capac[i]\n",
    "        AB_MD_capac = road_seg_inr_capac.AB_MD_capac[i]\n",
    "        AB_PM_capac = road_seg_inr_capac.AB_PM_capac[i]\n",
    "        AB_NT_capac = road_seg_inr_capac.AB_NT_capac[i]\n",
    "        AM_ave_speed = tmc_day_speed_dict_Apr_AM[tmc + str(day)].ave_speed()\n",
    "        MD_ave_speed = tmc_day_speed_dict_Apr_MD[tmc + str(day)].ave_speed()\n",
    "        PM_ave_speed = tmc_day_speed_dict_Apr_PM[tmc + str(day)].ave_speed()\n",
    "        NT_ave_speed = tmc_day_speed_dict_Apr_NT[tmc + str(day)].ave_speed()\n",
    "        AM_speed_minute = tmc_day_speed_dict_Apr_AM[tmc + str(day)].speed\n",
    "        MD_speed_minute = tmc_day_speed_dict_Apr_MD[tmc + str(day)].speed\n",
    "        PM_speed_minute = tmc_day_speed_dict_Apr_PM[tmc + str(day)].speed\n",
    "        NT_speed_minute = tmc_day_speed_dict_Apr_NT[tmc + str(day)].speed\n",
    "        tmc_day_capac_flow_minute = RoadSegInrCapacFlowMinute(tmc, road_num, shape_length, day, \\\n",
    "                                                  AB_AM_capac, AB_MD_capac, \\\n",
    "                                                  AB_PM_capac, AB_NT_capac, \\\n",
    "                                                  AM_ave_speed, MD_ave_speed, \\\n",
    "                                                  PM_ave_speed, NT_ave_speed, \\\n",
    "                                                  AM_speed_minute, MD_speed_minute, \\\n",
    "                                                  PM_speed_minute, NT_speed_minute)\n",
    "        assert(len(tmc_day_capac_flow_minute.AM_flow_minute()) == 120)\n",
    "        assert(len(tmc_day_capac_flow_minute.MD_flow_minute()) == 120)\n",
    "        assert(len(tmc_day_capac_flow_minute.PM_flow_minute()) == 120)\n",
    "        assert(len(tmc_day_capac_flow_minute.NT_flow_minute()) == 120)\n",
    "        tmc_day_capac_flow_minute_dict[tmc + str(day)] = tmc_day_capac_flow_minute"
   ]
  },
  {
   "cell_type": "code",
   "execution_count": 75,
   "metadata": {
    "collapsed": true
   },
   "outputs": [],
   "source": [
    "#zdump(tmc_day_capac_flow_minute_dict, '../temp_files/tmc_day_capac_flow_minute_dict_Apr.pkz')"
   ]
  },
  {
   "cell_type": "code",
   "execution_count": 10,
   "metadata": {
    "collapsed": false
   },
   "outputs": [
    {
     "data": {
      "text/plain": [
       "<bound method RoadSegInrCapacFlowMinute.NT_flow_minute of <__main__.RoadSegInrCapacFlowMinute object at 0x7f7e57823790>>"
      ]
     },
     "execution_count": 10,
     "metadata": {},
     "output_type": "execute_result"
    }
   ],
   "source": [
    "tmc_day_capac_flow_minute_dict['129N0437720'].NT_flow_minute"
   ]
  },
  {
   "cell_type": "code",
   "execution_count": 11,
   "metadata": {
    "collapsed": true
   },
   "outputs": [],
   "source": [
    "link_with_capac_list = list(zload('../temp_files/links_with_capac.pkz'))"
   ]
  },
  {
   "cell_type": "code",
   "execution_count": 12,
   "metadata": {
    "collapsed": true
   },
   "outputs": [],
   "source": [
    "import numpy as np\n",
    "\n",
    "link_day_minute_Apr_dict = {}\n",
    "\n",
    "for day in range(31)[1:]:\n",
    "    i = 0\n",
    "    for link_with_capac in link_with_capac_list:\n",
    "        AM_flow = sum([tmc_day_capac_flow_minute_dict[tmc + str(day)].AM_flow() for tmc in link_with_capac.tmc_set])\n",
    "        MD_flow = sum([tmc_day_capac_flow_minute_dict[tmc + str(day)].MD_flow() for tmc in link_with_capac.tmc_set])\n",
    "        PM_flow = sum([tmc_day_capac_flow_minute_dict[tmc + str(day)].PM_flow() for tmc in link_with_capac.tmc_set])\n",
    "        NT_flow = sum([tmc_day_capac_flow_minute_dict[tmc + str(day)].NT_flow() for tmc in link_with_capac.tmc_set])\n",
    "        AM_flow_minute = list(sum([np.array(tmc_day_capac_flow_minute_dict[tmc + str(day)].AM_flow_minute()) \\\n",
    "                              for tmc in link_with_capac.tmc_set]))\n",
    "        MD_flow_minute = list(sum([np.array(tmc_day_capac_flow_minute_dict[tmc + str(day)].MD_flow_minute()) \\\n",
    "                              for tmc in link_with_capac.tmc_set]))\n",
    "        PM_flow_minute = list(sum([np.array(tmc_day_capac_flow_minute_dict[tmc + str(day)].PM_flow_minute()) \\\n",
    "                              for tmc in link_with_capac.tmc_set]))\n",
    "        NT_flow_minute = list(sum([np.array(tmc_day_capac_flow_minute_dict[tmc + str(day)].NT_flow_minute()) \\\n",
    "                              for tmc in link_with_capac.tmc_set]))\n",
    "        link_with_capac_new = Link_with_Free_Flow_Time_Minute(link_with_capac.init_node, link_with_capac.term_node, \\\n",
    "                                                       link_with_capac.tmc_set, \\\n",
    "                                                       link_with_capac.AM_capac, \\\n",
    "                                                       link_with_capac.MD_capac, \\\n",
    "                                                       link_with_capac.PM_capac, \\\n",
    "                                                       link_with_capac.NT_capac, \\\n",
    "                                                       link_with_capac.free_flow_time, \\\n",
    "                                                       link_with_capac.length, \\\n",
    "                                                       AM_flow, MD_flow, PM_flow, NT_flow, \\\n",
    "                                                       AM_flow_minute, MD_flow_minute, \\\n",
    "                                                       PM_flow_minute, NT_flow_minute)\n",
    "        link_day_minute_Apr_dict['link_' + str(i) + '_' + str(day)] = link_with_capac_new\n",
    "        i = i + 1"
   ]
  },
  {
   "cell_type": "code",
   "execution_count": 86,
   "metadata": {
    "collapsed": false
   },
   "outputs": [],
   "source": [
    "#zdump(link_day_minute_Apr_dict, '../temp_files/link_day_minute_Apr_dict.pkz')"
   ]
  },
  {
   "cell_type": "code",
   "execution_count": 13,
   "metadata": {
    "collapsed": false
   },
   "outputs": [
    {
     "data": {
      "text/plain": [
       "334585.81301312696"
      ]
     },
     "execution_count": 13,
     "metadata": {},
     "output_type": "execute_result"
    }
   ],
   "source": [
    "link_day_minute_Apr_dict['link_0_10'].AM_flow"
   ]
  },
  {
   "cell_type": "code",
   "execution_count": 18,
   "metadata": {
    "collapsed": false
   },
   "outputs": [],
   "source": [
    "link_day_minute_Apr_dict_JSON = {}\n",
    "for link_idx in range(24):\n",
    "    for day in range(31)[1:]:   \n",
    "        key = 'link_' + str(link_idx) + '_' + str(day)\n",
    "        data = {'link_idx': link_idx, 'day': day, \\\n",
    "             'init_node': link_day_minute_Apr_dict[key].init_node, \\\n",
    "             'term_node': link_day_minute_Apr_dict[key].term_node, \\\n",
    "             'AM_capac': link_day_minute_Apr_dict[key].AM_capac, \\\n",
    "             'MD_capac': link_day_minute_Apr_dict[key].MD_capac, \\\n",
    "             'PM_capac': link_day_minute_Apr_dict[key].PM_capac, \\\n",
    "             'NT_capac': link_day_minute_Apr_dict[key].NT_capac, \\\n",
    "             'free_flow_time': link_day_minute_Apr_dict[key].free_flow_time, \\\n",
    "             'length': link_day_minute_Apr_dict[key].length, \\\n",
    "             'AM_flow': link_day_minute_Apr_dict[key].AM_flow, \\\n",
    "             'MD_flow': link_day_minute_Apr_dict[key].MD_flow, \\\n",
    "             'PM_flow': link_day_minute_Apr_dict[key].PM_flow, \\\n",
    "             'NT_flow': link_day_minute_Apr_dict[key].NT_flow, \\\n",
    "             'AM_flow_minute': link_day_minute_Apr_dict[key].AM_flow_minute, \\\n",
    "             'MD_flow_minute': link_day_minute_Apr_dict[key].MD_flow_minute, \\\n",
    "             'PM_flow_minute': link_day_minute_Apr_dict[key].PM_flow_minute, \\\n",
    "             'NT_flow_minute': link_day_minute_Apr_dict[key].NT_flow_minute}\n",
    "        link_day_minute_Apr_dict_JSON[key] = data\n",
    "        \n",
    "import json\n",
    "\n",
    "# Writing JSON data\n",
    "with open('../temp_files/link_day_minute_Apr_dict_JSON.json', 'w') as json_file:\n",
    "    json.dump(link_day_minute_Apr_dict_JSON, json_file)"
   ]
  },
  {
   "cell_type": "code",
   "execution_count": 20,
   "metadata": {
    "collapsed": false
   },
   "outputs": [],
   "source": [
    "with open('../temp_files/link_day_minute_Apr_dict_JSON.json', 'r') as json_file:\n",
    "    link_day_minute_Apr_dict_JSON_ = json.load(json_file)"
   ]
  },
  {
   "cell_type": "code",
   "execution_count": 22,
   "metadata": {
    "collapsed": false
   },
   "outputs": [
    {
     "data": {
      "text/plain": [
       "[666204.234109018,\n",
       " 647170.0231859997,\n",
       " 648481.9108126306,\n",
       " 654093.970825819,\n",
       " 661653.7549811001,\n",
       " 657809.0235822904,\n",
       " 651705.5350470361,\n",
       " 652956.8175558159,\n",
       " 660684.8868278614,\n",
       " 646179.7236364048,\n",
       " 639993.7802094242,\n",
       " 658690.8956351925,\n",
       " 662297.827966267,\n",
       " 650096.2383474094,\n",
       " 659868.2656340672,\n",
       " 655959.8646669951,\n",
       " 651252.9162960367,\n",
       " 656025.4094720585,\n",
       " 644421.2817657958,\n",
       " 652717.4428806286,\n",
       " 666801.6171790673,\n",
       " 650792.0406505262,\n",
       " 647896.3301050129,\n",
       " 641101.4972620052,\n",
       " 640549.8266441685,\n",
       " 651770.2032300783,\n",
       " 645063.9420626068,\n",
       " 656546.7495404546,\n",
       " 653949.1033054295,\n",
       " 656548.8681227769,\n",
       " 647311.8825359207,\n",
       " 652269.0899956275,\n",
       " 642730.0040780619,\n",
       " 653939.0510149815,\n",
       " 646931.5811752426,\n",
       " 657454.6345466152,\n",
       " 662708.9528040374,\n",
       " 651317.115400684,\n",
       " 652315.8951344035,\n",
       " 654010.9025348632,\n",
       " 663094.8160749042,\n",
       " 650182.6561074846,\n",
       " 646884.7046399973,\n",
       " 640794.1420810363,\n",
       " 645652.128694513,\n",
       " 654282.4464408287,\n",
       " 654302.7250131413,\n",
       " 655351.9071667858,\n",
       " 644940.2121503584,\n",
       " 648994.6871268913,\n",
       " 659937.6069627029,\n",
       " 653656.3424086865,\n",
       " 660682.1698155524,\n",
       " 645079.3725871982,\n",
       " 649357.0159874398,\n",
       " 644593.6776168233,\n",
       " 646240.3100576515,\n",
       " 666536.1946287043,\n",
       " 668597.2999017474,\n",
       " 649430.7889711244,\n",
       " 654340.1447788144,\n",
       " 649648.8681797441,\n",
       " 654306.416832814,\n",
       " 661364.1877341564,\n",
       " 656877.4217364199,\n",
       " 659802.6483461913,\n",
       " 656592.500731458,\n",
       " 658412.2581269641,\n",
       " 655046.7229608312,\n",
       " 653078.0026887506,\n",
       " 653924.878972068,\n",
       " 655916.6417936594,\n",
       " 656525.8118431967,\n",
       " 664658.2020925648,\n",
       " 633755.1220479723,\n",
       " 659558.0534798065,\n",
       " 649270.2682169732,\n",
       " 649277.7091822716,\n",
       " 661240.0154872321,\n",
       " 669450.484965745,\n",
       " 651885.2482750269,\n",
       " 647360.4033865838,\n",
       " 652765.9127908399,\n",
       " 655358.840969132,\n",
       " 644124.518753498,\n",
       " 650804.3794244227,\n",
       " 645762.1101729838,\n",
       " 645400.0957065175,\n",
       " 656726.6710858067,\n",
       " 664884.9441927932,\n",
       " 655620.480208738,\n",
       " 658601.7417253271,\n",
       " 657750.2942433809,\n",
       " 649887.1038347734,\n",
       " 649923.8869520783,\n",
       " 656828.4990049475,\n",
       " 640874.9790040795,\n",
       " 657036.8870823422,\n",
       " 652283.2667569905,\n",
       " 656785.9961601832,\n",
       " 647291.4425186297,\n",
       " 660638.5329142266,\n",
       " 648588.6575854413,\n",
       " 659259.6794772224,\n",
       " 668663.4586917425,\n",
       " 631490.9307482057,\n",
       " 657751.080158176,\n",
       " 659298.1954113166,\n",
       " 648322.1778773258,\n",
       " 655335.9969366714,\n",
       " 657572.3082176337,\n",
       " 639413.2639212136,\n",
       " 661309.8157100815,\n",
       " 651616.1328570867,\n",
       " 645581.3988125244,\n",
       " 651310.1322890501,\n",
       " 671027.7663500037,\n",
       " 645166.8283604125,\n",
       " 645805.0938826749,\n",
       " 658537.7248213638]"
      ]
     },
     "execution_count": 22,
     "metadata": {},
     "output_type": "execute_result"
    }
   ],
   "source": [
    "link_day_minute_Apr_dict_JSON_['link_3_9'] ['AM_flow_minute']"
   ]
  },
  {
   "cell_type": "code",
   "execution_count": null,
   "metadata": {
    "collapsed": true
   },
   "outputs": [],
   "source": []
  }
 ],
 "metadata": {
  "kernelspec": {
   "display_name": "Python 2",
   "language": "python",
   "name": "python2"
  },
  "language_info": {
   "codemirror_mode": {
    "name": "ipython",
    "version": 2
   },
   "file_extension": ".py",
   "mimetype": "text/x-python",
   "name": "python",
   "nbconvert_exporter": "python",
   "pygments_lexer": "ipython2",
   "version": "2.7.11"
  }
 },
 "nbformat": 4,
 "nbformat_minor": 0
}
