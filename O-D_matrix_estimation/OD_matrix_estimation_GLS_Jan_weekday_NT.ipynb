{
 "cells": [
  {
   "cell_type": "code",
   "execution_count": 1,
   "metadata": {
    "collapsed": true
   },
   "outputs": [],
   "source": [
    "%run ../Python_files/util_data_storage_and_load.py"
   ]
  },
  {
   "cell_type": "code",
   "execution_count": 2,
   "metadata": {
    "collapsed": true
   },
   "outputs": [],
   "source": [
    "%run ../Python_files/load_dicts.py"
   ]
  },
  {
   "cell_type": "code",
   "execution_count": 3,
   "metadata": {
    "collapsed": false
   },
   "outputs": [],
   "source": [
    "%run ../Python_files/util.py"
   ]
  },
  {
   "cell_type": "code",
   "execution_count": 4,
   "metadata": {
    "collapsed": true
   },
   "outputs": [],
   "source": [
    "# load logit_route_choice_probability_matrix\n",
    "P = zload('../temp_files/logit_route_choice_probability_matrix.pkz')"
   ]
  },
  {
   "cell_type": "code",
   "execution_count": 5,
   "metadata": {
    "collapsed": false
   },
   "outputs": [],
   "source": [
    "import numpy as np\n",
    "from numpy.linalg import inv\n",
    "\n",
    "P = np.matrix(P)"
   ]
  },
  {
   "cell_type": "code",
   "execution_count": 6,
   "metadata": {
    "collapsed": false
   },
   "outputs": [
    {
     "data": {
      "text/plain": [
       "(56, 140)"
      ]
     },
     "execution_count": 6,
     "metadata": {},
     "output_type": "execute_result"
    }
   ],
   "source": [
    "np.size(P, 0), np.size(P, 1)"
   ]
  },
  {
   "cell_type": "code",
   "execution_count": 7,
   "metadata": {
    "collapsed": true
   },
   "outputs": [],
   "source": [
    "import numpy as np\n",
    "from numpy.linalg import inv\n",
    "\n",
    "def samp_cov(x):\n",
    "    \"\"\"\n",
    "    x: sample matrix, each column is a link flow vector sample; 24 * K\n",
    "    K: number of samples\n",
    "    S: sample covariance matrix\n",
    "    ----------------\n",
    "    return: inv(S)\n",
    "    ----------------\n",
    "    \"\"\"\n",
    "    x = np.matrix(x)\n",
    "    K = np.size(x, 1)\n",
    "    x_mean = sum(x[:,k] for k in range(K)) / K\n",
    "    S = sum(np.dot(x[:,k] - x_mean, np.transpose(x[:,k] - x_mean)) for k in range(K)) / (K - 1)\n",
    "    return S"
   ]
  },
  {
   "cell_type": "code",
   "execution_count": 8,
   "metadata": {
    "collapsed": false
   },
   "outputs": [],
   "source": [
    "# load path-link incidence matrix\n",
    "A = zload('../temp_files/path-link_incidence_matrix.pkz')"
   ]
  },
  {
   "cell_type": "code",
   "execution_count": 9,
   "metadata": {
    "collapsed": false
   },
   "outputs": [],
   "source": [
    "# load link counts data\n",
    "\n",
    "import json\n",
    "\n",
    "with open('../temp_files/link_day_minute_Jan_dict_JSON.json', 'r') as json_file:\n",
    "    link_day_minute_Jan_dict_JSON = json.load(json_file)"
   ]
  },
  {
   "cell_type": "code",
   "execution_count": 18,
   "metadata": {
    "collapsed": true
   },
   "outputs": [],
   "source": [
    "#week_day_Jan_list = [2, 3, 4, 5, 6, 9, 10, 11, 12, 13, 16, 17, 18, 19, 20, 23, 24, 25, 26, 27, 30, 31]\n",
    "week_day_Jan_list = [2, 9, 16, 23, 30]"
   ]
  },
  {
   "cell_type": "code",
   "execution_count": 19,
   "metadata": {
    "collapsed": false
   },
   "outputs": [],
   "source": [
    "link_day_minute_Jan_list = []\n",
    "for link_idx in range(24):\n",
    "    for day in week_day_Jan_list: \n",
    "        for minute_idx in range(120):\n",
    "            key = 'link_' + str(link_idx) + '_' + str(day)\n",
    "            link_day_minute_Jan_list.append(link_day_minute_Jan_dict_JSON[key] ['NT_flow_minute'][minute_idx])"
   ]
  },
  {
   "cell_type": "code",
   "execution_count": 20,
   "metadata": {
    "collapsed": false
   },
   "outputs": [
    {
     "data": {
      "text/plain": [
       "14400"
      ]
     },
     "execution_count": 20,
     "metadata": {},
     "output_type": "execute_result"
    }
   ],
   "source": [
    "len(link_day_minute_Jan_list)"
   ]
  },
  {
   "cell_type": "code",
   "execution_count": 21,
   "metadata": {
    "collapsed": false
   },
   "outputs": [],
   "source": [
    "x = np.matrix(link_day_minute_Jan_list)\n",
    "x = np.matrix.reshape(x, 24, 600)\n",
    "\n",
    "x = np.nan_to_num(x)\n",
    "y = np.array(np.transpose(x))\n",
    "y = y[np.all(y != 0, axis=1)]\n",
    "x = np.transpose(y)\n",
    "x = np.matrix(x)"
   ]
  },
  {
   "cell_type": "code",
   "execution_count": 22,
   "metadata": {
    "collapsed": false
   },
   "outputs": [
    {
     "data": {
      "text/plain": [
       "(24, 600)"
      ]
     },
     "execution_count": 22,
     "metadata": {},
     "output_type": "execute_result"
    }
   ],
   "source": [
    "np.size(x, 0), np.size(x, 1)"
   ]
  },
  {
   "cell_type": "code",
   "execution_count": 23,
   "metadata": {
    "collapsed": false
   },
   "outputs": [
    {
     "data": {
      "text/plain": [
       "matrix([[ 3566.37965311,  3530.21548515],\n",
       "        [ 3408.15693735,  3471.50264591],\n",
       "        [ 4446.26913018,  4438.78882957],\n",
       "        [ 4489.37849326,  4447.13222061],\n",
       "        [ 4463.92996807,  4367.32820001],\n",
       "        [ 4005.18179424,  4090.18604852],\n",
       "        [ 3562.77825539,  3625.5069303 ],\n",
       "        [ 3615.36697367,  3665.77865869],\n",
       "        [ 4755.94434938,  4888.65619982],\n",
       "        [ 4785.12614786,  4628.22498787],\n",
       "        [ 4339.41335095,  4406.70248455],\n",
       "        [ 3733.35563388,  3694.76111735],\n",
       "        [ 3387.95601529,  3299.17532231],\n",
       "        [ 3660.15083428,  3568.87728428],\n",
       "        [ 3476.35158844,  3655.07470176],\n",
       "        [ 2937.68010824,  2859.87350561],\n",
       "        [ 3657.04426948,  3596.84314113],\n",
       "        [ 3655.16096142,  3670.27365722],\n",
       "        [ 3941.98220017,  3982.94914084],\n",
       "        [ 3978.55943801,  4029.57479363],\n",
       "        [ 3975.35982887,  4001.32179676],\n",
       "        [ 3902.46066368,  3842.8010075 ],\n",
       "        [ 3610.46230744,  3509.20812603],\n",
       "        [ 3682.88323075,  3586.74927183]])"
      ]
     },
     "execution_count": 23,
     "metadata": {},
     "output_type": "execute_result"
    }
   ],
   "source": [
    "x[:,:2]"
   ]
  },
  {
   "cell_type": "code",
   "execution_count": 24,
   "metadata": {
    "collapsed": false
   },
   "outputs": [
    {
     "data": {
      "text/plain": [
       "(24, 140)"
      ]
     },
     "execution_count": 24,
     "metadata": {},
     "output_type": "execute_result"
    }
   ],
   "source": [
    "np.size(A,0), np.size(A,1)"
   ]
  },
  {
   "cell_type": "code",
   "execution_count": 25,
   "metadata": {
    "collapsed": false
   },
   "outputs": [
    {
     "name": "stdout",
     "output_type": "stream",
     "text": [
      "Optimize a model with 56 rows, 56 columns and 56 nonzeros\n",
      "Model has 1596 quadratic objective terms\n",
      "Coefficient statistics:\n",
      "  Matrix range    [1e+00, 1e+00]\n",
      "  Objective range [6e+00, 1e+03]\n",
      "  Bounds range    [0e+00, 0e+00]\n",
      "  RHS range       [0e+00, 0e+00]\n",
      "Warning: diagonal adjustment of 2.1e-08 performed to make Q PSD\n",
      "Presolve removed 56 rows and 0 columns\n",
      "Presolve time: 0.00s\n",
      "Presolved: 0 rows, 56 columns, 0 nonzeros\n",
      "Presolved model has 1596 quadratic objective terms\n",
      "Ordering time: 0.00s\n",
      "\n",
      "Barrier statistics:\n",
      " Free vars  : 25\n",
      " AA' NZ     : 3.000e+02\n",
      " Factor NZ  : 3.250e+02\n",
      " Factor Ops : 5.525e+03 (less than 1 second per iteration)\n",
      " Threads    : 1\n",
      "\n",
      "                  Objective                Residual\n",
      "Iter       Primal          Dual         Primal    Dual     Compl     Time\n",
      "   0  -2.35650068e+07  0.00000000e+00  5.84e+03 1.85e+03  1.00e+06     0s\n",
      "   1  -1.34439937e+07 -6.52882093e+06  1.38e+03 4.37e+02  2.64e+05     0s\n",
      "   2  -9.53779562e+06 -1.05455762e+07  1.45e+02 4.59e+01  6.01e+04     0s\n",
      "   3  -9.32641992e+06 -9.72436025e+06  1.45e-04 4.59e-05  7.11e+03     0s\n",
      "   4  -9.39370626e+06 -9.41045231e+06  6.41e-07 2.03e-07  2.99e+02     0s\n",
      "   5  -9.39915635e+06 -9.39975737e+06  4.77e-10 1.57e-10  1.07e+01     0s\n",
      "   6  -9.39964089e+06 -9.39964675e+06  8.81e-09 6.82e-13  1.05e-01     0s\n",
      "   7  -9.39964610e+06 -9.39964673e+06  1.55e-09 4.55e-13  1.13e-02     0s\n",
      "   8  -9.39964621e+06 -9.39964624e+06  1.05e-11 9.09e-13  5.24e-04     0s\n",
      "   9  -9.39964622e+06 -9.39964622e+06  2.90e-11 4.55e-13  8.84e-05     0s\n",
      "  10  -9.39964622e+06 -9.39964622e+06  2.59e-11 5.68e-13  3.81e-06     0s\n",
      "  11  -9.39964622e+06 -9.39964622e+06  4.73e-11 5.75e-10  7.57e-07     0s\n",
      "  12  -9.39964622e+06 -9.39964622e+06  2.27e-12 5.18e-10  7.65e-08     0s\n",
      "  13  -9.39964622e+06 -9.39964622e+06  1.36e-12 2.38e-10  3.10e-09     0s\n",
      "\n",
      "Barrier solved model in 13 iterations and 0.02 seconds\n",
      "Optimal objective -9.39964622e+06\n",
      "\n",
      "lam_0 3.35999e-11\n",
      "lam_1 7003.16\n",
      "lam_2 3.74895e-11\n",
      "lam_3 0.0416016\n",
      "lam_4 4.74438\n",
      "lam_5 1.11214\n",
      "lam_6 1.13132e-08\n",
      "lam_7 0.000519956\n",
      "lam_8 1.15711e-10\n",
      "lam_9 4423.55\n",
      "lam_10 1.15711e-10\n",
      "lam_11 1.15711e-10\n",
      "lam_12 1.15711e-10\n",
      "lam_13 1.16375e-10\n",
      "lam_14 4148.49\n",
      "lam_15 0.413171\n",
      "lam_16 0.235187\n",
      "lam_17 94.5704\n",
      "lam_18 886.824\n",
      "lam_19 6236.32\n",
      "lam_20 0.540002\n",
      "lam_21 2196.43\n",
      "lam_22 1901.89\n",
      "lam_23 0.781044\n",
      "lam_24 2.27962\n",
      "lam_25 3173.04\n",
      "lam_26 0.0012036\n",
      "lam_27 3477.69\n",
      "lam_28 0.206988\n",
      "lam_29 0.166197\n",
      "lam_30 1188.95\n",
      "lam_31 3487.07\n",
      "lam_32 343.521\n",
      "lam_33 0.00119411\n",
      "lam_34 0.00119524\n",
      "lam_35 696.486\n",
      "lam_36 1.75673\n",
      "lam_37 73.7523\n",
      "lam_38 0.205541\n",
      "lam_39 2704.6\n",
      "lam_40 455.876\n",
      "lam_41 575.214\n",
      "lam_42 383.72\n",
      "lam_43 0.661775\n",
      "lam_44 2540.55\n",
      "lam_45 0.163056\n",
      "lam_46 379.041\n",
      "lam_47 2.60522e-05\n",
      "lam_48 3047.21\n",
      "lam_49 0.114166\n",
      "lam_50 2202.93\n",
      "lam_51 1281.86\n",
      "lam_52 3126.61\n",
      "lam_53 0.201497\n",
      "lam_54 2.60482e-05\n",
      "lam_55 0.173112\n",
      "Obj: -9.39964e+06\n"
     ]
    }
   ],
   "source": [
    "from gurobipy import *\n",
    "\n",
    "L = 56  # dimension of lam\n",
    "\n",
    "K = np.size(x, 1)\n",
    "S = samp_cov(x)\n",
    "inv_S = inv(S)\n",
    "\n",
    "A_t = np.transpose(A)\n",
    "P_t = np.transpose(P)\n",
    "# PA'\n",
    "PA_t = np.dot(P, A_t)\n",
    "# AP_t\n",
    "AP_t = np.transpose(PA_t)\n",
    "\n",
    "Q = np.dot(np.dot(PA_t, inv_S), AP_t)\n",
    "b = sum([np.dot(np.dot(PA_t, inv_S), x[:, k]) for k in range(K)])\n",
    "\n",
    "\n",
    "model = Model(\"OD_matrix_estimation\")\n",
    "\n",
    "lam = []\n",
    "for l in range(L):\n",
    "    lam.append(model.addVar(name='lam_' + str(l)))\n",
    "\n",
    "model.update() \n",
    "\n",
    "# Set objective: (K/2) lam' * Q * lam - b * lam\n",
    "obj = 0\n",
    "for i in range(L):\n",
    "    for j in range(L):\n",
    "        obj += (1.0 /2) * K * lam[i] * Q[i, j] * lam[j]\n",
    "for l in range(L):\n",
    "    obj += - b[l] * lam[l]\n",
    "model.setObjective(obj)\n",
    "\n",
    "# Add constraint: lam >= 0\n",
    "for l in range(L):\n",
    "    model.addConstr(lam[l] >= 0)\n",
    "\n",
    "model.update() \n",
    "\n",
    "model.optimize()\n",
    "\n",
    "lam_list = []\n",
    "for v in model.getVars():\n",
    "    print('%s %g' % (v.varName, v.x))\n",
    "    lam_list.append(v.x)\n",
    "print('Obj: %g' % obj.getValue())"
   ]
  },
  {
   "cell_type": "code",
   "execution_count": 26,
   "metadata": {
    "collapsed": false
   },
   "outputs": [],
   "source": [
    "# write estimation result to file\n",
    "n = 8  # number of nodes\n",
    "with open('../temp_files/OD_demand_matrix_Jan_weekday_NT.txt', 'w') as the_file:\n",
    "    idx = 0\n",
    "    for i in range(n + 1)[1:]:\n",
    "        for j in range(n + 1)[1:]:\n",
    "            if i != j: \n",
    "                the_file.write(\"%d,%d,%f\\n\" %(i, j, lam_list[idx]))\n",
    "                idx += 1"
   ]
  },
  {
   "cell_type": "code",
   "execution_count": 27,
   "metadata": {
    "collapsed": false
   },
   "outputs": [
    {
     "data": {
      "text/plain": [
       "[3.359994475879499e-11,\n",
       " 7003.158149690515,\n",
       " 3.748954350466009e-11,\n",
       " 0.041601646588084684,\n",
       " 4.744382268536029,\n",
       " 1.1121358649065236,\n",
       " 1.1313181148285623e-08,\n",
       " 0.0005199558218639128,\n",
       " 1.1571135042771754e-10,\n",
       " 4423.554469882811,\n",
       " 1.157113501215416e-10,\n",
       " 1.1571135042673237e-10,\n",
       " 1.1571135042067575e-10,\n",
       " 1.1637489177975162e-10,\n",
       " 4148.48691196467,\n",
       " 0.41317120544247565,\n",
       " 0.23518653331230688,\n",
       " 94.57039295984511,\n",
       " 886.8243899829932,\n",
       " 6236.322719685787,\n",
       " 0.540002000618216,\n",
       " 2196.4326470035753,\n",
       " 1901.8900127878874,\n",
       " 0.7810444746467624,\n",
       " 2.2796183925197537,\n",
       " 3173.0356883039285,\n",
       " 0.0012035991516392078,\n",
       " 3477.6934376686277,\n",
       " 0.20698787336232272,\n",
       " 0.16619739641670606,\n",
       " 1188.9497674971979,\n",
       " 3487.0654314612884,\n",
       " 343.52091997502237,\n",
       " 0.0011941098945638176,\n",
       " 0.001195242661189047,\n",
       " 696.4859409898917,\n",
       " 1.756729332901429,\n",
       " 73.75228751012781,\n",
       " 0.20554122993264468,\n",
       " 2704.6047917947944,\n",
       " 455.8759678248608,\n",
       " 575.2143157211685,\n",
       " 383.71975333403395,\n",
       " 0.6617750758601133,\n",
       " 2540.554467898457,\n",
       " 0.1630556150756699,\n",
       " 379.0407761543979,\n",
       " 2.6052156070824166e-05,\n",
       " 3047.207360667244,\n",
       " 0.11416557509101244,\n",
       " 2202.9347541640805,\n",
       " 1281.8571742146582,\n",
       " 3126.607333103903,\n",
       " 0.20149698076161449,\n",
       " 2.6048231346760954e-05,\n",
       " 0.1731115772630485]"
      ]
     },
     "execution_count": 27,
     "metadata": {},
     "output_type": "execute_result"
    }
   ],
   "source": [
    "lam_list"
   ]
  },
  {
   "cell_type": "code",
   "execution_count": null,
   "metadata": {
    "collapsed": true
   },
   "outputs": [],
   "source": []
  }
 ],
 "metadata": {
  "kernelspec": {
   "display_name": "Python 2",
   "language": "python",
   "name": "python2"
  },
  "language_info": {
   "codemirror_mode": {
    "name": "ipython",
    "version": 2
   },
   "file_extension": ".py",
   "mimetype": "text/x-python",
   "name": "python",
   "nbconvert_exporter": "python",
   "pygments_lexer": "ipython2",
   "version": "2.7.11"
  }
 },
 "nbformat": 4,
 "nbformat_minor": 0
}
