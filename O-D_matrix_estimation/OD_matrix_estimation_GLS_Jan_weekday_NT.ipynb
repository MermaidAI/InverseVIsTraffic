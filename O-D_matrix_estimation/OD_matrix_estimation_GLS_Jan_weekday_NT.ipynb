{
 "cells": [
  {
   "cell_type": "code",
   "execution_count": 1,
   "metadata": {
    "collapsed": true
   },
   "outputs": [],
   "source": [
    "%run ../Python_files/util_data_storage_and_load.py"
   ]
  },
  {
   "cell_type": "code",
   "execution_count": 2,
   "metadata": {
    "collapsed": true
   },
   "outputs": [],
   "source": [
    "%run ../Python_files/load_dicts.py"
   ]
  },
  {
   "cell_type": "code",
   "execution_count": 3,
   "metadata": {
    "collapsed": false
   },
   "outputs": [],
   "source": [
    "%run ../Python_files/util.py"
   ]
  },
  {
   "cell_type": "code",
   "execution_count": 4,
   "metadata": {
    "collapsed": true
   },
   "outputs": [],
   "source": [
    "# load logit_route_choice_probability_matrix\n",
    "P = zload('../temp_files/logit_route_choice_probability_matrix.pkz')"
   ]
  },
  {
   "cell_type": "code",
   "execution_count": 5,
   "metadata": {
    "collapsed": false
   },
   "outputs": [],
   "source": [
    "import numpy as np\n",
    "from numpy.linalg import inv\n",
    "\n",
    "P = np.matrix(P)"
   ]
  },
  {
   "cell_type": "code",
   "execution_count": 6,
   "metadata": {
    "collapsed": false
   },
   "outputs": [
    {
     "data": {
      "text/plain": [
       "(56, 140)"
      ]
     },
     "execution_count": 6,
     "metadata": {},
     "output_type": "execute_result"
    }
   ],
   "source": [
    "np.size(P, 0), np.size(P, 1)"
   ]
  },
  {
   "cell_type": "code",
   "execution_count": 7,
   "metadata": {
    "collapsed": true
   },
   "outputs": [],
   "source": [
    "import numpy as np\n",
    "from numpy.linalg import inv\n",
    "\n",
    "def samp_cov(x):\n",
    "    \"\"\"\n",
    "    x: sample matrix, each column is a link flow vector sample; 24 * K\n",
    "    K: number of samples\n",
    "    S: sample covariance matrix\n",
    "    ----------------\n",
    "    return: inv(S)\n",
    "    ----------------\n",
    "    \"\"\"\n",
    "    x = np.matrix(x)\n",
    "    K = np.size(x, 1)\n",
    "    x_mean = sum(x[:,k] for k in range(K)) / K\n",
    "    S = sum(np.dot(x[:,k] - x_mean, np.transpose(x[:,k] - x_mean)) for k in range(K)) / (K - 1)\n",
    "    return S"
   ]
  },
  {
   "cell_type": "code",
   "execution_count": 8,
   "metadata": {
    "collapsed": false
   },
   "outputs": [],
   "source": [
    "# load path-link incidence matrix\n",
    "A = zload('../temp_files/path-link_incidence_matrix.pkz')"
   ]
  },
  {
   "cell_type": "code",
   "execution_count": 9,
   "metadata": {
    "collapsed": false
   },
   "outputs": [],
   "source": [
    "# load link counts data\n",
    "\n",
    "import json\n",
    "\n",
    "with open('../temp_files/link_day_minute_Jan_dict_JSON.json', 'r') as json_file:\n",
    "    link_day_minute_Jan_dict_JSON = json.load(json_file)"
   ]
  },
  {
   "cell_type": "code",
   "execution_count": 11,
   "metadata": {
    "collapsed": true
   },
   "outputs": [],
   "source": [
    "week_day_Jan_list = [2, 3, 4, 5, 6, 9, 10, 11, 12, 13, 16, 17, 18, 19, 20, 23, 24, 25, 26, 27, 30, 31]\n",
    "#week_day_Jan_list = [2, 9, 16, 23, 30]"
   ]
  },
  {
   "cell_type": "code",
   "execution_count": 12,
   "metadata": {
    "collapsed": false
   },
   "outputs": [],
   "source": [
    "link_day_minute_Jan_list = []\n",
    "for link_idx in range(24):\n",
    "    for day in week_day_Jan_list: \n",
    "        for minute_idx in range(120):\n",
    "            key = 'link_' + str(link_idx) + '_' + str(day)\n",
    "            link_day_minute_Jan_list.append(link_day_minute_Jan_dict_JSON[key] ['NT_flow_minute'][minute_idx])"
   ]
  },
  {
   "cell_type": "code",
   "execution_count": 13,
   "metadata": {
    "collapsed": false
   },
   "outputs": [
    {
     "data": {
      "text/plain": [
       "63360"
      ]
     },
     "execution_count": 13,
     "metadata": {},
     "output_type": "execute_result"
    }
   ],
   "source": [
    "len(link_day_minute_Jan_list)"
   ]
  },
  {
   "cell_type": "code",
   "execution_count": 14,
   "metadata": {
    "collapsed": false
   },
   "outputs": [],
   "source": [
    "x = np.matrix(link_day_minute_Jan_list)\n",
    "x = np.matrix.reshape(x, 24, 2640)\n",
    "\n",
    "x = np.nan_to_num(x)\n",
    "y = np.array(np.transpose(x))\n",
    "y = y[np.all(y != 0, axis=1)]\n",
    "x = np.transpose(y)\n",
    "x = np.matrix(x)"
   ]
  },
  {
   "cell_type": "code",
   "execution_count": 15,
   "metadata": {
    "collapsed": false
   },
   "outputs": [
    {
     "data": {
      "text/plain": [
       "(24, 2640)"
      ]
     },
     "execution_count": 15,
     "metadata": {},
     "output_type": "execute_result"
    }
   ],
   "source": [
    "np.size(x, 0), np.size(x, 1)"
   ]
  },
  {
   "cell_type": "code",
   "execution_count": 16,
   "metadata": {
    "collapsed": false
   },
   "outputs": [
    {
     "data": {
      "text/plain": [
       "matrix([[  8995.05938759,   8030.02196823],\n",
       "        [  8171.52011713,   9699.77080212],\n",
       "        [ 15959.86338225,  15794.20989479],\n",
       "        [ 15812.44687184,  14824.26829831],\n",
       "        [ 15221.81772592,  11841.23156822],\n",
       "        [  8715.54322512,  10974.2689987 ],\n",
       "        [  8403.94695721,  10028.26373766],\n",
       "        [  8574.12371405,  10204.91138194],\n",
       "        [ 13422.55876947,  16409.93825369],\n",
       "        [ 15063.11181487,  11500.11635996],\n",
       "        [ 18108.61398581,  19085.68170638],\n",
       "        [ 14620.13318487,  15341.42404447],\n",
       "        [  9762.11861732,   6421.97366671],\n",
       "        [  6365.70931551,   7619.39827218],\n",
       "        [  6181.63625046,  11292.25987543],\n",
       "        [  9315.42242297,   6235.43681936],\n",
       "        [ 11607.34606222,  10986.8723308 ],\n",
       "        [ 10573.33969094,  10946.26220292],\n",
       "        [ 11899.45459204,  12904.79944995],\n",
       "        [ 11028.5500341 ,  12205.91156769],\n",
       "        [  8164.74183339,   8603.73202786],\n",
       "        [  8468.58626816,   8737.32726479],\n",
       "        [ 11025.33275984,   8864.07848192],\n",
       "        [ 12428.24210054,   9778.02286454]])"
      ]
     },
     "execution_count": 16,
     "metadata": {},
     "output_type": "execute_result"
    }
   ],
   "source": [
    "x[:,:2]"
   ]
  },
  {
   "cell_type": "code",
   "execution_count": 17,
   "metadata": {
    "collapsed": false
   },
   "outputs": [
    {
     "data": {
      "text/plain": [
       "(24, 140)"
      ]
     },
     "execution_count": 17,
     "metadata": {},
     "output_type": "execute_result"
    }
   ],
   "source": [
    "np.size(A,0), np.size(A,1)"
   ]
  },
  {
   "cell_type": "code",
   "execution_count": 18,
   "metadata": {
    "collapsed": false
   },
   "outputs": [
    {
     "name": "stdout",
     "output_type": "stream",
     "text": [
      "Optimize a model with 56 rows, 56 columns and 56 nonzeros\n",
      "Model has 1596 quadratic objective terms\n",
      "Coefficient statistics:\n",
      "  Matrix range    [1e+00, 1e+00]\n",
      "  Objective range [7e-02, 1e+01]\n",
      "  Bounds range    [0e+00, 0e+00]\n",
      "  RHS range       [0e+00, 0e+00]\n",
      "Presolve removed 56 rows and 0 columns\n",
      "Presolve time: 0.01s\n",
      "Presolved: 0 rows, 56 columns, 0 nonzeros\n",
      "Presolved model has 1596 quadratic objective terms\n",
      "Ordering time: 0.00s\n",
      "\n",
      "Barrier statistics:\n",
      " Free vars  : 24\n",
      " AA' NZ     : 2.760e+02\n",
      " Factor NZ  : 3.000e+02\n",
      " Factor Ops : 4.900e+03 (less than 1 second per iteration)\n",
      " Threads    : 1\n",
      "\n",
      "                  Objective                Residual\n",
      "Iter       Primal          Dual         Primal    Dual     Compl     Time\n",
      "   0  -3.98056856e+06  0.00000000e+00  5.28e+03 3.36e+02  8.97e+05     0s\n",
      "   1   4.88493567e+05 -2.32787652e+06  8.78e+02 1.61e+02  2.02e+05     0s\n",
      "   2   4.03765866e+05 -1.36822100e+06  8.78e-04 5.68e-14  3.16e+04     0s\n",
      "   3  -1.71713576e+05 -4.06068703e+05  8.78e-10 8.53e-14  4.18e+03     0s\n",
      "   4  -2.26943483e+05 -2.50167303e+05  9.52e-13 7.11e-14  4.15e+02     0s\n",
      "   5  -2.31599535e+05 -2.32831780e+05  7.45e-12 4.26e-14  2.20e+01     0s\n",
      "   6  -2.31903195e+05 -2.31971135e+05  9.04e-12 8.53e-14  1.21e+00     0s\n",
      "   7  -2.31935028e+05 -2.31953277e+05  4.45e-11 4.26e-14  3.26e-01     0s\n",
      "   8  -2.31942330e+05 -2.31944838e+05  2.16e-12 5.68e-14  4.48e-02     0s\n",
      "   9  -2.31943520e+05 -2.31943701e+05  2.56e-12 1.14e-13  3.23e-03     0s\n",
      "  10  -2.31943572e+05 -2.31943585e+05  2.05e-11 5.68e-14  2.30e-04     0s\n",
      "  11  -2.31943579e+05 -2.31943580e+05  3.81e-12 1.14e-13  7.03e-06     0s\n",
      "  12  -2.31943579e+05 -2.31943580e+05  6.48e-12 5.68e-14  7.86e-07     0s\n",
      "  13  -2.31943580e+05 -2.31943580e+05  4.21e-12 1.14e-13  1.25e-08     0s\n",
      "  14  -2.31943580e+05 -2.31943580e+05  5.97e-13 1.32e-12  4.86e-11     0s\n",
      "\n",
      "Barrier solved model in 14 iterations and 0.03 seconds\n",
      "Optimal objective -2.31943580e+05\n",
      "\n",
      "lam_0 2.3624e-11\n",
      "lam_1 15271.9\n",
      "lam_2 2.61434e-11\n",
      "lam_3 6.52714e-08\n",
      "lam_4 3852.3\n",
      "lam_5 1.09427e-07\n",
      "lam_6 7.35897e-09\n",
      "lam_7 4383.18\n",
      "lam_8 1.62492e-10\n",
      "lam_9 11518.5\n",
      "lam_10 1.62089e-10\n",
      "lam_11 1.62492e-10\n",
      "lam_12 1.62251e-10\n",
      "lam_13 1.63181e-10\n",
      "lam_14 17315.9\n",
      "lam_15 5038.15\n",
      "lam_16 1.70371e-07\n",
      "lam_17 6.52714e-08\n",
      "lam_18 5474.29\n",
      "lam_19 17990.7\n",
      "lam_20 1.09408e-07\n",
      "lam_21 8.68327e-05\n",
      "lam_22 10476.8\n",
      "lam_23 3.40963e-06\n",
      "lam_24 5940.57\n",
      "lam_25 3311.41\n",
      "lam_26 1.19785e-05\n",
      "lam_27 9570.92\n",
      "lam_28 2.06056e-07\n",
      "lam_29 2.06055e-07\n",
      "lam_30 4771.28\n",
      "lam_31 9070.36\n",
      "lam_32 5094.58\n",
      "lam_33 0.00086817\n",
      "lam_34 298.055\n",
      "lam_35 1.37338e-07\n",
      "lam_36 1.37338e-07\n",
      "lam_37 8752.16\n",
      "lam_38 1.84525e-07\n",
      "lam_39 7387.07\n",
      "lam_40 386.315\n",
      "lam_41 301.458\n",
      "lam_42 4.59825e-08\n",
      "lam_43 4.59825e-08\n",
      "lam_44 15125.1\n",
      "lam_45 9.51632e-08\n",
      "lam_46 2141.75\n",
      "lam_47 4.2751e-08\n",
      "lam_48 8750.17\n",
      "lam_49 4.61103e-08\n",
      "lam_50 4.64917e-08\n",
      "lam_51 4.59971e-08\n",
      "lam_52 9565.95\n",
      "lam_53 4.98094e-08\n",
      "lam_54 4.2751e-08\n",
      "lam_55 9649.31\n",
      "Obj: -231918\n"
     ]
    }
   ],
   "source": [
    "from gurobipy import *\n",
    "\n",
    "L = 56  # dimension of lam\n",
    "\n",
    "K = np.size(x, 1)\n",
    "S = samp_cov(x)\n",
    "inv_S = inv(S)\n",
    "\n",
    "A_t = np.transpose(A)\n",
    "P_t = np.transpose(P)\n",
    "# PA'\n",
    "PA_t = np.dot(P, A_t)\n",
    "# AP_t\n",
    "AP_t = np.transpose(PA_t)\n",
    "\n",
    "Q = np.dot(np.dot(PA_t, inv_S), AP_t)\n",
    "b = sum([np.dot(np.dot(PA_t, inv_S), x[:, k]) for k in range(K)])\n",
    "\n",
    "\n",
    "model = Model(\"OD_matrix_estimation\")\n",
    "\n",
    "lam = []\n",
    "for l in range(L):\n",
    "    lam.append(model.addVar(name='lam_' + str(l)))\n",
    "\n",
    "model.update() \n",
    "\n",
    "# Set objective: (K/2) lam' * Q * lam - b' * lam\n",
    "obj = 0\n",
    "for i in range(L):\n",
    "    for j in range(L):\n",
    "        obj += (1.0 /2) * K * lam[i] * Q[i, j] * lam[j]\n",
    "for l in range(L):\n",
    "    obj += - b[l] * lam[l]\n",
    "model.setObjective(obj)\n",
    "\n",
    "# Add constraint: lam >= 0\n",
    "for l in range(L):\n",
    "    model.addConstr(lam[l] >= 0)\n",
    "\n",
    "model.update() \n",
    "\n",
    "model.optimize()\n",
    "\n",
    "lam_list = []\n",
    "for v in model.getVars():\n",
    "    print('%s %g' % (v.varName, v.x))\n",
    "    lam_list.append(v.x)\n",
    "print('Obj: %g' % obj.getValue())"
   ]
  },
  {
   "cell_type": "code",
   "execution_count": 19,
   "metadata": {
    "collapsed": false
   },
   "outputs": [],
   "source": [
    "# write estimation result to file\n",
    "n = 8  # number of nodes\n",
    "with open('../temp_files/OD_demand_matrix_Jan_weekday_NT.txt', 'w') as the_file:\n",
    "    idx = 0\n",
    "    for i in range(n + 1)[1:]:\n",
    "        for j in range(n + 1)[1:]:\n",
    "            if i != j: \n",
    "                the_file.write(\"%d,%d,%f\\n\" %(i, j, lam_list[idx]))\n",
    "                idx += 1"
   ]
  },
  {
   "cell_type": "code",
   "execution_count": 20,
   "metadata": {
    "collapsed": false
   },
   "outputs": [
    {
     "data": {
      "text/plain": [
       "[2.3623952705493528e-11,\n",
       " 15271.92220697726,\n",
       " 2.614337843237966e-11,\n",
       " 6.527142463118071e-08,\n",
       " 3852.3022784473983,\n",
       " 1.0942729584830326e-07,\n",
       " 7.3589689229596535e-09,\n",
       " 4383.180689768528,\n",
       " 1.62492422550515e-10,\n",
       " 11518.456550143079,\n",
       " 1.6208890423937536e-10,\n",
       " 1.6249242240229085e-10,\n",
       " 1.622514896872986e-10,\n",
       " 1.631806560241298e-10,\n",
       " 17315.88334577116,\n",
       " 5038.154623272669,\n",
       " 1.7037078993242902e-07,\n",
       " 6.52714328294161e-08,\n",
       " 5474.285073795809,\n",
       " 17990.74771055783,\n",
       " 1.0940821650396037e-07,\n",
       " 8.68326903788047e-05,\n",
       " 10476.845089935949,\n",
       " 3.409627939858213e-06,\n",
       " 5940.568524468884,\n",
       " 3311.413713368865,\n",
       " 1.1978452140607235e-05,\n",
       " 9570.917305950901,\n",
       " 2.0605566052164028e-07,\n",
       " 2.0605547136859186e-07,\n",
       " 4771.275410076302,\n",
       " 9070.360896331335,\n",
       " 5094.578597602159,\n",
       " 0.0008681703714453759,\n",
       " 298.05541412797754,\n",
       " 1.3733785779928225e-07,\n",
       " 1.373377740884933e-07,\n",
       " 8752.157731808133,\n",
       " 1.8452547263016092e-07,\n",
       " 7387.071449128779,\n",
       " 386.31491479153516,\n",
       " 301.45846126882657,\n",
       " 4.5982519744585025e-08,\n",
       " 4.598251035234828e-08,\n",
       " 15125.147503023598,\n",
       " 9.516315999888333e-08,\n",
       " 2141.750092824107,\n",
       " 4.275098488301142e-08,\n",
       " 8750.174867165122,\n",
       " 4.6110280230782905e-08,\n",
       " 4.649173591501717e-08,\n",
       " 4.599712709405403e-08,\n",
       " 9565.954823721362,\n",
       " 4.980935932818344e-08,\n",
       " 4.275097916339942e-08,\n",
       " 9649.31475045715]"
      ]
     },
     "execution_count": 20,
     "metadata": {},
     "output_type": "execute_result"
    }
   ],
   "source": [
    "lam_list"
   ]
  },
  {
   "cell_type": "code",
   "execution_count": null,
   "metadata": {
    "collapsed": true
   },
   "outputs": [],
   "source": []
  }
 ],
 "metadata": {
  "kernelspec": {
   "display_name": "Python 2",
   "language": "python",
   "name": "python2"
  },
  "language_info": {
   "codemirror_mode": {
    "name": "ipython",
    "version": 2
   },
   "file_extension": ".py",
   "mimetype": "text/x-python",
   "name": "python",
   "nbconvert_exporter": "python",
   "pygments_lexer": "ipython2",
   "version": "2.7.11"
  }
 },
 "nbformat": 4,
 "nbformat_minor": 0
}
