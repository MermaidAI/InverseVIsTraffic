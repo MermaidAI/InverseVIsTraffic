{
 "cells": [
  {
   "cell_type": "code",
   "execution_count": 1,
   "metadata": {
    "collapsed": true
   },
   "outputs": [],
   "source": [
    "%run ../Python_files/util_data_storage_and_load.py"
   ]
  },
  {
   "cell_type": "code",
   "execution_count": 2,
   "metadata": {
    "collapsed": true
   },
   "outputs": [],
   "source": [
    "%run ../Python_files/load_dicts.py"
   ]
  },
  {
   "cell_type": "code",
   "execution_count": 3,
   "metadata": {
    "collapsed": false
   },
   "outputs": [],
   "source": [
    "%run ../Python_files/util.py"
   ]
  },
  {
   "cell_type": "code",
   "execution_count": 4,
   "metadata": {
    "collapsed": true
   },
   "outputs": [],
   "source": [
    "# load logit_route_choice_probability_matrix\n",
    "P = zload('../temp_files/logit_route_choice_probability_matrix.pkz')"
   ]
  },
  {
   "cell_type": "code",
   "execution_count": 5,
   "metadata": {
    "collapsed": false
   },
   "outputs": [],
   "source": [
    "import numpy as np\n",
    "from numpy.linalg import inv\n",
    "\n",
    "P = np.matrix(P)"
   ]
  },
  {
   "cell_type": "code",
   "execution_count": 6,
   "metadata": {
    "collapsed": false
   },
   "outputs": [
    {
     "data": {
      "text/plain": [
       "(56, 140)"
      ]
     },
     "execution_count": 6,
     "metadata": {},
     "output_type": "execute_result"
    }
   ],
   "source": [
    "np.size(P, 0), np.size(P, 1)"
   ]
  },
  {
   "cell_type": "code",
   "execution_count": 7,
   "metadata": {
    "collapsed": true
   },
   "outputs": [],
   "source": [
    "import numpy as np\n",
    "from numpy.linalg import inv\n",
    "\n",
    "def samp_cov(x):\n",
    "    \"\"\"\n",
    "    x: sample matrix, each column is a link flow vector sample; 24 * K\n",
    "    K: number of samples\n",
    "    S: sample covariance matrix\n",
    "    ----------------\n",
    "    return: inv(S)\n",
    "    ----------------\n",
    "    \"\"\"\n",
    "    x = np.matrix(x)\n",
    "    K = np.size(x, 1)\n",
    "    x_mean = sum(x[:,k] for k in range(K)) / K\n",
    "    S = sum(np.dot(x[:,k] - x_mean, np.transpose(x[:,k] - x_mean)) for k in range(K)) / (K - 1)\n",
    "    return S"
   ]
  },
  {
   "cell_type": "code",
   "execution_count": 8,
   "metadata": {
    "collapsed": false
   },
   "outputs": [],
   "source": [
    "# load path-link incidence matrix\n",
    "A = zload('../temp_files/path-link_incidence_matrix.pkz')"
   ]
  },
  {
   "cell_type": "code",
   "execution_count": 9,
   "metadata": {
    "collapsed": false
   },
   "outputs": [],
   "source": [
    "# load link counts data\n",
    "\n",
    "import json\n",
    "\n",
    "with open('../temp_files/link_day_minute_Jan_dict_JSON.json', 'r') as json_file:\n",
    "    link_day_minute_Jan_dict_JSON = json.load(json_file)"
   ]
  },
  {
   "cell_type": "code",
   "execution_count": 10,
   "metadata": {
    "collapsed": true
   },
   "outputs": [],
   "source": [
    "week_day_Jan_list = [2, 3, 4, 5, 6, 9, 10, 11, 12, 13, 16, 17, 18, 19, 20, 23, 24, 25, 26, 27, 30, 31]"
   ]
  },
  {
   "cell_type": "code",
   "execution_count": 11,
   "metadata": {
    "collapsed": false
   },
   "outputs": [],
   "source": [
    "link_day_minute_Jan_list = []\n",
    "for link_idx in range(24):\n",
    "    for day in week_day_Jan_list: \n",
    "        for minute_idx in range(120):\n",
    "            key = 'link_' + str(link_idx) + '_' + str(day)\n",
    "            link_day_minute_Jan_list.append(link_day_minute_Jan_dict_JSON[key] ['NT_flow_minute'][minute_idx])"
   ]
  },
  {
   "cell_type": "code",
   "execution_count": 12,
   "metadata": {
    "collapsed": false
   },
   "outputs": [
    {
     "data": {
      "text/plain": [
       "63360"
      ]
     },
     "execution_count": 12,
     "metadata": {},
     "output_type": "execute_result"
    }
   ],
   "source": [
    "len(link_day_minute_Jan_list)"
   ]
  },
  {
   "cell_type": "code",
   "execution_count": 13,
   "metadata": {
    "collapsed": false
   },
   "outputs": [],
   "source": [
    "x = np.matrix(link_day_minute_Jan_list)\n",
    "x = np.matrix.reshape(x, 24, 2640)\n",
    "\n",
    "x = np.nan_to_num(x)\n",
    "y = np.array(np.transpose(x))\n",
    "y = y[np.all(y != 0, axis=1)]\n",
    "x = np.transpose(y)\n",
    "x = np.matrix(x)"
   ]
  },
  {
   "cell_type": "code",
   "execution_count": 14,
   "metadata": {
    "collapsed": false
   },
   "outputs": [
    {
     "data": {
      "text/plain": [
       "(24, 2640)"
      ]
     },
     "execution_count": 14,
     "metadata": {},
     "output_type": "execute_result"
    }
   ],
   "source": [
    "np.size(x, 0), np.size(x, 1)"
   ]
  },
  {
   "cell_type": "code",
   "execution_count": 15,
   "metadata": {
    "collapsed": false
   },
   "outputs": [
    {
     "data": {
      "text/plain": [
       "matrix([[  969907.9571843 ,   968063.94595178],\n",
       "        [  978395.30237817,  1008735.41555166],\n",
       "        [ 1853976.53538362,  1841098.31817489],\n",
       "        [ 1947512.47327385,  1931992.27840584],\n",
       "        [  481868.81225345,   473671.12220579],\n",
       "        [  589026.19856293,   597773.88868234],\n",
       "        [ 1136825.10779262,  1140282.48913682],\n",
       "        [ 1158008.53508594,  1158527.98068668],\n",
       "        [ 1061499.20245405,  1113849.97959017],\n",
       "        [ 1143015.38321959,  1098606.53865478],\n",
       "        [ 1185708.91032356,  1322823.55988809],\n",
       "        [ 1040088.21471554,  1036032.51066563],\n",
       "        [  267642.72358573,   267370.96272315],\n",
       "        [  272883.84436931,   277479.63135155],\n",
       "        [  429061.8335527 ,   458372.76314855],\n",
       "        [  431050.070705  ,   403217.04251251],\n",
       "        [  620537.01738166,   622074.11365878],\n",
       "        [  624018.24026134,   622681.45771696],\n",
       "        [  994217.10584384,   989083.19887004],\n",
       "        [  899127.75384335,   913918.28240208],\n",
       "        [ 1441120.05505741,  1475238.81445661],\n",
       "        [ 1482927.02092383,  1448896.59873683],\n",
       "        [  391535.09731375,   388613.05608605],\n",
       "        [  394892.62115567,   382339.19396529]])"
      ]
     },
     "execution_count": 15,
     "metadata": {},
     "output_type": "execute_result"
    }
   ],
   "source": [
    "x[:,:2]"
   ]
  },
  {
   "cell_type": "code",
   "execution_count": 16,
   "metadata": {
    "collapsed": false
   },
   "outputs": [
    {
     "data": {
      "text/plain": [
       "(24, 140)"
      ]
     },
     "execution_count": 16,
     "metadata": {},
     "output_type": "execute_result"
    }
   ],
   "source": [
    "np.size(A,0), np.size(A,1)"
   ]
  },
  {
   "cell_type": "code",
   "execution_count": 17,
   "metadata": {
    "collapsed": false
   },
   "outputs": [
    {
     "name": "stdout",
     "output_type": "stream",
     "text": [
      "Optimize a model with 56 rows, 56 columns and 56 nonzeros\n",
      "Model has 1596 quadratic objective terms\n",
      "Coefficient statistics:\n",
      "  Matrix range    [1e+00, 1e+00]\n",
      "  Objective range [2e-01, 2e+01]\n",
      "  Bounds range    [0e+00, 0e+00]\n",
      "  RHS range       [0e+00, 0e+00]\n",
      "Presolve removed 56 rows and 0 columns\n",
      "Presolve time: 0.00s\n",
      "Presolved: 0 rows, 56 columns, 0 nonzeros\n",
      "Presolved model has 1596 quadratic objective terms\n",
      "Ordering time: 0.00s\n",
      "\n",
      "Barrier statistics:\n",
      " Free vars  : 24\n",
      " AA' NZ     : 2.760e+02\n",
      " Factor NZ  : 3.000e+02\n",
      " Factor Ops : 4.900e+03 (less than 1 second per iteration)\n",
      " Threads    : 1\n",
      "\n",
      "                  Objective                Residual\n",
      "Iter       Primal          Dual         Primal    Dual     Compl     Time\n",
      "   0  -3.87785759e+07  0.00000000e+00  6.10e+03 2.41e+03  1.00e+06     0s\n",
      "   1  -3.46192434e+07 -1.11467415e+07  2.04e+03 8.04e+02  3.70e+05     0s\n",
      "   2  -2.77135497e+07 -3.23336243e+07  9.50e+01 3.75e+01  1.34e+05     0s\n",
      "   3  -2.81458368e+07 -2.86900502e+07  9.50e-05 3.75e-05  9.72e+03     0s\n",
      "   4  -2.82681913e+07 -2.82918513e+07  6.16e-07 2.43e-07  4.23e+02     0s\n",
      "   5  -2.82779760e+07 -2.82837527e+07  5.14e-10 6.82e-13  1.03e+02     0s\n",
      "   6  -2.82803160e+07 -2.82812613e+07  2.66e-10 6.82e-13  1.69e+01     0s\n",
      "   7  -2.82806235e+07 -2.82808075e+07  7.59e-11 1.36e-12  3.29e+00     0s\n",
      "   8  -2.82806960e+07 -2.82807337e+07  5.91e-11 5.68e-13  6.73e-01     0s\n",
      "   9  -2.82807153e+07 -2.82807162e+07  1.91e-10 6.82e-13  1.66e-02     0s\n",
      "  10  -2.82807157e+07 -2.82807157e+07  4.00e-10 9.09e-13  1.69e-04     0s\n",
      "  11  -2.82807157e+07 -2.82807157e+07  2.22e-10 6.82e-13  1.72e-07     0s\n",
      "  12  -2.82807157e+07 -2.82807157e+07  2.27e-12 2.64e-12  1.73e-10     0s\n",
      "\n",
      "Barrier solved model in 12 iterations and 0.02 seconds\n",
      "Optimal objective -2.82807157e+07\n",
      "\n",
      "lam_0 8.65453e-10\n",
      "lam_1 2.69411e-05\n",
      "lam_2 617128\n",
      "lam_3 4.23889e-07\n",
      "lam_4 2.58242e-05\n",
      "lam_5 771491\n",
      "lam_6 3.45026e-07\n",
      "lam_7 2.21584e-08\n",
      "lam_8 5.3591e-11\n",
      "lam_9 623582\n",
      "lam_10 5.35852e-11\n",
      "lam_11 5.3591e-11\n",
      "lam_12 5.35917e-11\n",
      "lam_13 5.39455e-11\n",
      "lam_14 2.03673e+06\n",
      "lam_15 7.61014e-10\n",
      "lam_16 74820.4\n",
      "lam_17 4.99296e-07\n",
      "lam_18 475921\n",
      "lam_19 49013.8\n",
      "lam_20 4.10676e-07\n",
      "lam_21 409955\n",
      "lam_22 835280\n",
      "lam_23 3.55453e-07\n",
      "lam_24 3.76317e-07\n",
      "lam_25 3.68238e-07\n",
      "lam_26 127688\n",
      "lam_27 439713\n",
      "lam_28 1.02841e-06\n",
      "lam_29 7.60451e-10\n",
      "lam_30 255238\n",
      "lam_31 40058.3\n",
      "lam_32 399371\n",
      "lam_33 4.42015e-08\n",
      "lam_34 233839\n",
      "lam_35 3.71304e-07\n",
      "lam_36 7.59457e-10\n",
      "lam_37 319894\n",
      "lam_38 2.53839e-07\n",
      "lam_39 341134\n",
      "lam_40 833376\n",
      "lam_41 3.44446e-07\n",
      "lam_42 9.50656e-08\n",
      "lam_43 7.5497e-10\n",
      "lam_44 1.44563e+06\n",
      "lam_45 5.2758e-08\n",
      "lam_46 1.16558e-06\n",
      "lam_47 459795\n",
      "lam_48 3.46889e-07\n",
      "lam_49 9.54323e-08\n",
      "lam_50 7.64559e-10\n",
      "lam_51 9.5136e-08\n",
      "lam_52 557389\n",
      "lam_53 4.72037e-08\n",
      "lam_54 143960\n",
      "lam_55 260283\n",
      "Obj: -2.82781e+07\n"
     ]
    }
   ],
   "source": [
    "from gurobipy import *\n",
    "\n",
    "L = 56  # dimension of lam\n",
    "\n",
    "K = np.size(x, 1)\n",
    "S = samp_cov(x)\n",
    "inv_S = inv(S)\n",
    "\n",
    "A_t = np.transpose(A)\n",
    "P_t = np.transpose(P)\n",
    "# PA'\n",
    "PA_t = np.dot(P, A_t)\n",
    "# AP_t\n",
    "AP_t = np.transpose(PA_t)\n",
    "\n",
    "Q = np.dot(np.dot(PA_t, inv_S), AP_t)\n",
    "b = sum([np.dot(np.dot(PA_t, inv_S), x[:, k]) for k in range(K)])\n",
    "\n",
    "\n",
    "model = Model(\"OD_matrix_estimation\")\n",
    "\n",
    "lam = []\n",
    "for l in range(L):\n",
    "    lam.append(model.addVar(name='lam_' + str(l)))\n",
    "\n",
    "model.update() \n",
    "\n",
    "# Set objective: (K/2) lam' * Q * lam - b * lam\n",
    "obj = 0\n",
    "for i in range(L):\n",
    "    for j in range(L):\n",
    "        obj += (1.0 /2) * K * lam[i] * Q[i, j] * lam[j]\n",
    "for l in range(L):\n",
    "    obj += - b[l] * lam[l]\n",
    "model.setObjective(obj)\n",
    "\n",
    "# Add constraint: lam >= 0\n",
    "for l in range(L):\n",
    "    model.addConstr(lam[l] >= 0)\n",
    "\n",
    "model.update() \n",
    "\n",
    "model.optimize()\n",
    "\n",
    "lam_list = []\n",
    "for v in model.getVars():\n",
    "    print('%s %g' % (v.varName, v.x))\n",
    "    lam_list.append(v.x)\n",
    "print('Obj: %g' % obj.getValue())"
   ]
  },
  {
   "cell_type": "code",
   "execution_count": 18,
   "metadata": {
    "collapsed": false
   },
   "outputs": [],
   "source": [
    "# write estimation result to file\n",
    "n = 8  # number of nodes\n",
    "with open('../temp_files/OD_demand_matrix_Jan_weekday_NT.txt', 'w') as the_file:\n",
    "    idx = 0\n",
    "    for i in range(n + 1)[1:]:\n",
    "        for j in range(n + 1)[1:]:\n",
    "            if i != j: \n",
    "                the_file.write(\"%d,%d,%f\\n\" %(i, j, lam_list[idx]))\n",
    "                idx += 1"
   ]
  },
  {
   "cell_type": "code",
   "execution_count": 19,
   "metadata": {
    "collapsed": false
   },
   "outputs": [
    {
     "data": {
      "text/plain": [
       "[8.654528630957624e-10,\n",
       " 2.6941135274426153e-05,\n",
       " 617127.8800686705,\n",
       " 4.238886394489108e-07,\n",
       " 2.5824156296823386e-05,\n",
       " 771491.2454546142,\n",
       " 3.450259797093346e-07,\n",
       " 2.2158419994432367e-08,\n",
       " 5.3590955497471624e-11,\n",
       " 623582.3151787068,\n",
       " 5.358523977120299e-11,\n",
       " 5.359095966533033e-11,\n",
       " 5.359174220837859e-11,\n",
       " 5.394553479987468e-11,\n",
       " 2036729.7505796643,\n",
       " 7.610143467279479e-10,\n",
       " 74820.4330423494,\n",
       " 4.992962032622722e-07,\n",
       " 475920.9461802088,\n",
       " 49013.77843947752,\n",
       " 4.1067605234453583e-07,\n",
       " 409955.0594647531,\n",
       " 835279.9462625613,\n",
       " 3.554531923660731e-07,\n",
       " 3.7631651378605777e-07,\n",
       " 3.682379746510465e-07,\n",
       " 127687.70885510807,\n",
       " 439712.97926154634,\n",
       " 1.0284055173019526e-06,\n",
       " 7.604510605951055e-10,\n",
       " 255237.94136810955,\n",
       " 40058.34297669268,\n",
       " 399371.2334814501,\n",
       " 4.420152742978247e-08,\n",
       " 233839.35160039744,\n",
       " 3.71303653693973e-07,\n",
       " 7.59457370739178e-10,\n",
       " 319894.4943824869,\n",
       " 2.538385756077426e-07,\n",
       " 341134.28488374525,\n",
       " 833375.7177087883,\n",
       " 3.4444558628845667e-07,\n",
       " 9.506561287662778e-08,\n",
       " 7.549703362021795e-10,\n",
       " 1445627.6717245453,\n",
       " 5.2757989041954086e-08,\n",
       " 1.1655820187428997e-06,\n",
       " 459795.3589913143,\n",
       " 3.4688876020808794e-07,\n",
       " 9.543230306983865e-08,\n",
       " 7.645586741796007e-10,\n",
       " 9.513597392280014e-08,\n",
       " 557389.1931311653,\n",
       " 4.720369870447118e-08,\n",
       " 143959.62607070722,\n",
       " 260283.3904642335]"
      ]
     },
     "execution_count": 19,
     "metadata": {},
     "output_type": "execute_result"
    }
   ],
   "source": [
    "lam_list"
   ]
  },
  {
   "cell_type": "code",
   "execution_count": null,
   "metadata": {
    "collapsed": true
   },
   "outputs": [],
   "source": []
  }
 ],
 "metadata": {
  "kernelspec": {
   "display_name": "Python 2",
   "language": "python",
   "name": "python2"
  },
  "language_info": {
   "codemirror_mode": {
    "name": "ipython",
    "version": 2
   },
   "file_extension": ".py",
   "mimetype": "text/x-python",
   "name": "python",
   "nbconvert_exporter": "python",
   "pygments_lexer": "ipython2",
   "version": "2.7.11"
  }
 },
 "nbformat": 4,
 "nbformat_minor": 0
}
