{
 "cells": [
  {
   "cell_type": "code",
   "execution_count": 1,
   "metadata": {
    "collapsed": true
   },
   "outputs": [],
   "source": [
    "%run ../Python_files/util_data_storage_and_load.py"
   ]
  },
  {
   "cell_type": "code",
   "execution_count": 2,
   "metadata": {
    "collapsed": true
   },
   "outputs": [],
   "source": [
    "%run ../Python_files/load_dicts.py"
   ]
  },
  {
   "cell_type": "code",
   "execution_count": 3,
   "metadata": {
    "collapsed": false
   },
   "outputs": [],
   "source": [
    "%run ../Python_files/util.py"
   ]
  },
  {
   "cell_type": "code",
   "execution_count": 4,
   "metadata": {
    "collapsed": true
   },
   "outputs": [],
   "source": [
    "# load logit_route_choice_probability_matrix\n",
    "P = zload('../temp_files/logit_route_choice_probability_matrix.pkz')"
   ]
  },
  {
   "cell_type": "code",
   "execution_count": 5,
   "metadata": {
    "collapsed": false
   },
   "outputs": [],
   "source": [
    "import numpy as np\n",
    "from numpy.linalg import inv\n",
    "\n",
    "P = np.matrix(P)"
   ]
  },
  {
   "cell_type": "code",
   "execution_count": 6,
   "metadata": {
    "collapsed": false
   },
   "outputs": [
    {
     "data": {
      "text/plain": [
       "(56, 140)"
      ]
     },
     "execution_count": 6,
     "metadata": {},
     "output_type": "execute_result"
    }
   ],
   "source": [
    "np.size(P, 0), np.size(P, 1)"
   ]
  },
  {
   "cell_type": "code",
   "execution_count": 7,
   "metadata": {
    "collapsed": true
   },
   "outputs": [],
   "source": [
    "import numpy as np\n",
    "from numpy.linalg import inv\n",
    "\n",
    "def samp_cov(x):\n",
    "    \"\"\"\n",
    "    x: sample matrix, each column is a link flow vector sample; 24 * K\n",
    "    K: number of samples\n",
    "    S: sample covariance matrix\n",
    "    ----------------\n",
    "    return: inv(S)\n",
    "    ----------------\n",
    "    \"\"\"\n",
    "    x = np.matrix(x)\n",
    "    K = np.size(x, 1)\n",
    "    x_mean = sum(x[:,k] for k in range(K)) / K\n",
    "    S = sum(np.dot(x[:,k] - x_mean, np.transpose(x[:,k] - x_mean)) for k in range(K)) / (K - 1)\n",
    "    return S"
   ]
  },
  {
   "cell_type": "code",
   "execution_count": 8,
   "metadata": {
    "collapsed": false
   },
   "outputs": [],
   "source": [
    "# load path-link incidence matrix\n",
    "A = zload('../temp_files/path-link_incidence_matrix.pkz')"
   ]
  },
  {
   "cell_type": "code",
   "execution_count": 9,
   "metadata": {
    "collapsed": false
   },
   "outputs": [],
   "source": [
    "# load link counts data\n",
    "\n",
    "import json\n",
    "\n",
    "with open('../temp_files/link_day_minute_Oct_dict_JSON.json', 'r') as json_file:\n",
    "    link_day_minute_Oct_dict_JSON = json.load(json_file)"
   ]
  },
  {
   "cell_type": "code",
   "execution_count": 10,
   "metadata": {
    "collapsed": true
   },
   "outputs": [],
   "source": [
    "week_day_Oct_list = [1, 2, 3, 4, 5, 8, 9, 10, 11, 12, 15, 16, 17, 18, 19, 22, 23, 24, 25, 26, 29, 30, 31]"
   ]
  },
  {
   "cell_type": "code",
   "execution_count": 11,
   "metadata": {
    "collapsed": false
   },
   "outputs": [],
   "source": [
    "link_day_minute_Oct_list = []\n",
    "for link_idx in range(24):\n",
    "    for day in week_day_Oct_list: \n",
    "        for minute_idx in range(120):\n",
    "            key = 'link_' + str(link_idx) + '_' + str(day)\n",
    "            link_day_minute_Oct_list.append(link_day_minute_Oct_dict_JSON[key] ['MD_flow_minute'][minute_idx])"
   ]
  },
  {
   "cell_type": "code",
   "execution_count": 12,
   "metadata": {
    "collapsed": false
   },
   "outputs": [
    {
     "data": {
      "text/plain": [
       "66240"
      ]
     },
     "execution_count": 12,
     "metadata": {},
     "output_type": "execute_result"
    }
   ],
   "source": [
    "len(link_day_minute_Oct_list)"
   ]
  },
  {
   "cell_type": "code",
   "execution_count": 13,
   "metadata": {
    "collapsed": false
   },
   "outputs": [],
   "source": [
    "x = np.matrix(link_day_minute_Oct_list)\n",
    "x = np.matrix.reshape(x, 24, 2760)\n",
    "\n",
    "x = np.nan_to_num(x)\n",
    "y = np.array(np.transpose(x))\n",
    "y = y[np.all(y != 0, axis=1)]\n",
    "x = np.transpose(y)\n",
    "x = np.matrix(x)"
   ]
  },
  {
   "cell_type": "code",
   "execution_count": 14,
   "metadata": {
    "collapsed": false
   },
   "outputs": [
    {
     "data": {
      "text/plain": [
       "(24, 2760)"
      ]
     },
     "execution_count": 14,
     "metadata": {},
     "output_type": "execute_result"
    }
   ],
   "source": [
    "np.size(x, 0), np.size(x, 1)"
   ]
  },
  {
   "cell_type": "code",
   "execution_count": 15,
   "metadata": {
    "collapsed": false
   },
   "outputs": [
    {
     "data": {
      "text/plain": [
       "matrix([[  619406.29887901,   622635.33294238],\n",
       "        [  653954.55158388,   652581.4443882 ],\n",
       "        [ 1168889.43248873,  1179669.38303536],\n",
       "        [ 1238849.0965825 ,  1220846.3695678 ],\n",
       "        [  320553.77147025,   322388.74491494],\n",
       "        [  383997.45174053,   390009.3392451 ],\n",
       "        [  755348.05389466,   755761.70231304],\n",
       "        [  782328.25844677,   789698.3867848 ],\n",
       "        [  723664.60739773,   728581.2545577 ],\n",
       "        [  739863.98839856,   753295.87091122],\n",
       "        [  680020.61036128,   738856.51736715],\n",
       "        [  598594.92902604,   605085.73830962],\n",
       "        [  184930.20122724,   174353.96266184],\n",
       "        [  188448.66627756,   185935.71953199],\n",
       "        [  309372.17909778,   314595.08122636],\n",
       "        [  284342.20591404,   274747.46463815],\n",
       "        [  405462.60570759,   404805.82686144],\n",
       "        [  404924.00302022,   409569.3941075 ],\n",
       "        [  652600.91020055,   651379.20712513],\n",
       "        [  593610.24675752,   589208.03652411],\n",
       "        [  966093.42975912,   981562.5646121 ],\n",
       "        [ 1032880.69553721,  1032773.23601151],\n",
       "        [  246297.86947711,   247610.51782031],\n",
       "        [  258784.70074476,   251620.21800029]])"
      ]
     },
     "execution_count": 15,
     "metadata": {},
     "output_type": "execute_result"
    }
   ],
   "source": [
    "x[:,:2]"
   ]
  },
  {
   "cell_type": "code",
   "execution_count": 16,
   "metadata": {
    "collapsed": false
   },
   "outputs": [
    {
     "data": {
      "text/plain": [
       "(24, 140)"
      ]
     },
     "execution_count": 16,
     "metadata": {},
     "output_type": "execute_result"
    }
   ],
   "source": [
    "np.size(A,0), np.size(A,1)"
   ]
  },
  {
   "cell_type": "code",
   "execution_count": 17,
   "metadata": {
    "collapsed": false
   },
   "outputs": [
    {
     "name": "stdout",
     "output_type": "stream",
     "text": [
      "Optimize a model with 56 rows, 56 columns and 56 nonzeros\n",
      "Model has 1596 quadratic objective terms\n",
      "Coefficient statistics:\n",
      "  Matrix range    [1e+00, 1e+00]\n",
      "  Objective range [7e-02, 1e+01]\n",
      "  Bounds range    [0e+00, 0e+00]\n",
      "  RHS range       [0e+00, 0e+00]\n",
      "Presolve removed 56 rows and 0 columns\n",
      "Presolve time: 0.00s\n",
      "Presolved: 0 rows, 56 columns, 0 nonzeros\n",
      "Presolved model has 1596 quadratic objective terms\n",
      "Ordering time: 0.00s\n",
      "\n",
      "Barrier statistics:\n",
      " Free vars  : 24\n",
      " AA' NZ     : 2.760e+02\n",
      " Factor NZ  : 3.000e+02\n",
      " Factor Ops : 4.900e+03 (less than 1 second per iteration)\n",
      " Threads    : 1\n",
      "\n",
      "                  Objective                Residual\n",
      "Iter       Primal          Dual         Primal    Dual     Compl     Time\n",
      "   0  -1.12548084e+07  0.00000000e+00  5.28e+03 1.91e+03  1.00e+06     0s\n",
      "   1  -7.24608609e+06 -3.86878270e+06  1.48e+03 5.37e+02  3.14e+05     0s\n",
      "   2  -5.09150889e+06 -8.66026591e+06  1.09e+02 3.94e+01  9.62e+04     0s\n",
      "   3  -5.73218337e+06 -6.23072402e+06  2.28e+00 8.26e-01  9.44e+03     0s\n",
      "   4  -5.85343054e+06 -5.88794502e+06  3.32e-02 1.20e-02  6.24e+02     0s\n",
      "   5  -5.86207910e+06 -5.86725722e+06  2.27e-07 8.24e-08  9.25e+01     0s\n",
      "   6  -5.86282099e+06 -5.86353179e+06  4.87e-10 1.14e-13  1.27e+01     0s\n",
      "   7  -5.86297544e+06 -5.86307818e+06  2.37e-10 3.41e-13  1.83e+00     0s\n",
      "   8  -5.86300740e+06 -5.86301609e+06  1.64e-10 2.27e-13  1.55e-01     0s\n",
      "   9  -5.86301159e+06 -5.86301459e+06  1.22e-10 2.84e-13  5.35e-02     0s\n",
      "  10  -5.86301245e+06 -5.86301295e+06  1.51e-09 2.27e-13  8.97e-03     0s\n",
      "  11  -5.86301271e+06 -5.86301272e+06  1.77e-11 1.14e-13  1.81e-04     0s\n",
      "  12  -5.86301272e+06 -5.86301272e+06  1.31e-10 2.27e-13  1.96e-07     0s\n",
      "  13  -5.86301272e+06 -5.86301272e+06  7.79e-12 2.79e-11  6.40e-09     0s\n",
      "\n",
      "Barrier solved model in 13 iterations and 0.02 seconds\n",
      "Optimal objective -5.86301272e+06\n",
      "\n",
      "lam_0 3.23271e-08\n",
      "lam_1 196622\n",
      "lam_2 151759\n",
      "lam_3 28100.7\n",
      "lam_4 75596.7\n",
      "lam_5 7.65122e-05\n",
      "lam_6 7.82428e-05\n",
      "lam_7 197214\n",
      "lam_8 2.00166e-09\n",
      "lam_9 121484\n",
      "lam_10 2.00166e-09\n",
      "lam_11 2.00166e-09\n",
      "lam_12 2.0016e-09\n",
      "lam_13 2.0151e-09\n",
      "lam_14 374458\n",
      "lam_15 784.347\n",
      "lam_16 1.68939e-05\n",
      "lam_17 27290.4\n",
      "lam_18 145385\n",
      "lam_19 478449\n",
      "lam_20 7.75045e-05\n",
      "lam_21 0.000498463\n",
      "lam_22 480733\n",
      "lam_23 3.51932e-05\n",
      "lam_24 28711.3\n",
      "lam_25 20090.8\n",
      "lam_26 4.33155e-05\n",
      "lam_27 209896\n",
      "lam_28 197702\n",
      "lam_29 780.28\n",
      "lam_30 3.27513e-05\n",
      "lam_31 73910.2\n",
      "lam_32 148603\n",
      "lam_33 1.07923e-06\n",
      "lam_34 4.26466e-05\n",
      "lam_35 0.000109483\n",
      "lam_36 2.1441e-05\n",
      "lam_37 178456\n",
      "lam_38 1.06594e-05\n",
      "lam_39 195154\n",
      "lam_40 76300.1\n",
      "lam_41 22507.4\n",
      "lam_42 3.33521e-05\n",
      "lam_43 2.29231e-05\n",
      "lam_44 400176\n",
      "lam_45 1.12735e-05\n",
      "lam_46 1.66551e-05\n",
      "lam_47 148615\n",
      "lam_48 34218.8\n",
      "lam_49 3.35627e-05\n",
      "lam_50 2.36601e-05\n",
      "lam_51 3.34278e-05\n",
      "lam_52 220348\n",
      "lam_53 3.28628e-05\n",
      "lam_54 50307.3\n",
      "lam_55 88880.7\n",
      "Obj: -5.86283e+06\n"
     ]
    }
   ],
   "source": [
    "from gurobipy import *\n",
    "\n",
    "L = 56  # dimension of lam\n",
    "\n",
    "K = np.size(x, 1)\n",
    "S = samp_cov(x)\n",
    "inv_S = inv(S)\n",
    "\n",
    "A_t = np.transpose(A)\n",
    "P_t = np.transpose(P)\n",
    "# PA'\n",
    "PA_t = np.dot(P, A_t)\n",
    "# AP_t\n",
    "AP_t = np.transpose(PA_t)\n",
    "\n",
    "Q = np.dot(np.dot(PA_t, inv_S), AP_t)\n",
    "b = sum([np.dot(np.dot(PA_t, inv_S), x[:, k]) for k in range(K)])\n",
    "\n",
    "\n",
    "model = Model(\"OD_matrix_estimation\")\n",
    "\n",
    "lam = []\n",
    "for l in range(L):\n",
    "    lam.append(model.addVar(name='lam_' + str(l)))\n",
    "\n",
    "model.update() \n",
    "\n",
    "# Set objective: (K/2) lam' * Q * lam - b * lam\n",
    "obj = 0\n",
    "for i in range(L):\n",
    "    for j in range(L):\n",
    "        obj += (1.0 /2) * K * lam[i] * Q[i, j] * lam[j]\n",
    "for l in range(L):\n",
    "    obj += - b[l] * lam[l]\n",
    "model.setObjective(obj)\n",
    "\n",
    "# Add constraint: lam >= 0\n",
    "for l in range(L):\n",
    "    model.addConstr(lam[l] >= 0)\n",
    "\n",
    "model.update() \n",
    "\n",
    "model.optimize()\n",
    "\n",
    "lam_list = []\n",
    "for v in model.getVars():\n",
    "    print('%s %g' % (v.varName, v.x))\n",
    "    lam_list.append(v.x)\n",
    "print('Obj: %g' % obj.getValue())"
   ]
  },
  {
   "cell_type": "code",
   "execution_count": 18,
   "metadata": {
    "collapsed": false
   },
   "outputs": [],
   "source": [
    "# write estimation result to file\n",
    "n = 8  # number of nodes\n",
    "with open('../temp_files/OD_demand_matrix_Oct_weekday_MD.txt', 'w') as the_file:\n",
    "    idx = 0\n",
    "    for i in range(n + 1)[1:]:\n",
    "        for j in range(n + 1)[1:]:\n",
    "            if i != j: \n",
    "                the_file.write(\"%d,%d,%f\\n\" %(i, j, lam_list[idx]))\n",
    "                idx += 1"
   ]
  },
  {
   "cell_type": "code",
   "execution_count": 19,
   "metadata": {
    "collapsed": false
   },
   "outputs": [
    {
     "data": {
      "text/plain": [
       "[3.232708647496154e-08,\n",
       " 196621.54649742073,\n",
       " 151758.6320182256,\n",
       " 28100.73174502886,\n",
       " 75596.68148816073,\n",
       " 7.651219058306012e-05,\n",
       " 7.824279556614125e-05,\n",
       " 197213.75537750166,\n",
       " 2.0016554397828277e-09,\n",
       " 121484.1626251916,\n",
       " 2.001656439107071e-09,\n",
       " 2.0016556536559337e-09,\n",
       " 2.0016029210171914e-09,\n",
       " 2.0150970167877725e-09,\n",
       " 374457.84552244935,\n",
       " 784.3465031757107,\n",
       " 1.6893925879104643e-05,\n",
       " 27290.448675230276,\n",
       " 145384.62090776543,\n",
       " 478449.1233472361,\n",
       " 7.750451396471535e-05,\n",
       " 0.0004984630941945196,\n",
       " 480732.97466810787,\n",
       " 3.519317584573011e-05,\n",
       " 28711.263888455782,\n",
       " 20090.835123493405,\n",
       " 4.3315477040182246e-05,\n",
       " 209895.64424994786,\n",
       " 197702.17132302016,\n",
       " 780.2796488063987,\n",
       " 3.2751251977990365e-05,\n",
       " 73910.18547214135,\n",
       " 148602.90643226524,\n",
       " 1.0792327472790991e-06,\n",
       " 4.264663306329224e-05,\n",
       " 0.00010948306384882646,\n",
       " 2.144096028354925e-05,\n",
       " 178455.9365772239,\n",
       " 1.0659374018355723e-05,\n",
       " 195154.0382589844,\n",
       " 76300.13148983486,\n",
       " 22507.371190780817,\n",
       " 3.335213177072319e-05,\n",
       " 2.2923129754682365e-05,\n",
       " 400176.40570311795,\n",
       " 1.1273455058491714e-05,\n",
       " 1.6655085801474834e-05,\n",
       " 148614.94738898013,\n",
       " 34218.84027790419,\n",
       " 3.356266130471238e-05,\n",
       " 2.366011319644072e-05,\n",
       " 3.342775884597753e-05,\n",
       " 220347.53394182204,\n",
       " 3.286283191231284e-05,\n",
       " 50307.30680355676,\n",
       " 88880.68522391732]"
      ]
     },
     "execution_count": 19,
     "metadata": {},
     "output_type": "execute_result"
    }
   ],
   "source": [
    "lam_list"
   ]
  },
  {
   "cell_type": "code",
   "execution_count": null,
   "metadata": {
    "collapsed": true
   },
   "outputs": [],
   "source": []
  }
 ],
 "metadata": {
  "kernelspec": {
   "display_name": "Python 2",
   "language": "python",
   "name": "python2"
  },
  "language_info": {
   "codemirror_mode": {
    "name": "ipython",
    "version": 2
   },
   "file_extension": ".py",
   "mimetype": "text/x-python",
   "name": "python",
   "nbconvert_exporter": "python",
   "pygments_lexer": "ipython2",
   "version": "2.7.11"
  }
 },
 "nbformat": 4,
 "nbformat_minor": 0
}
