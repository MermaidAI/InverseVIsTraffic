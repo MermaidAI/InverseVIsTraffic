{
 "cells": [
  {
   "cell_type": "code",
   "execution_count": 1,
   "metadata": {
    "collapsed": true
   },
   "outputs": [],
   "source": [
    "%run ../Python_files/util_data_storage_and_load.py"
   ]
  },
  {
   "cell_type": "code",
   "execution_count": 2,
   "metadata": {
    "collapsed": true
   },
   "outputs": [],
   "source": [
    "%run ../Python_files/load_dicts.py"
   ]
  },
  {
   "cell_type": "code",
   "execution_count": 3,
   "metadata": {
    "collapsed": false
   },
   "outputs": [],
   "source": [
    "%run ../Python_files/util.py"
   ]
  },
  {
   "cell_type": "code",
   "execution_count": 4,
   "metadata": {
    "collapsed": true
   },
   "outputs": [],
   "source": [
    "# load logit_route_choice_probability_matrix\n",
    "P = zload('../temp_files/logit_route_choice_probability_matrix.pkz')"
   ]
  },
  {
   "cell_type": "code",
   "execution_count": 5,
   "metadata": {
    "collapsed": false
   },
   "outputs": [],
   "source": [
    "import numpy as np\n",
    "from numpy.linalg import inv\n",
    "\n",
    "P = np.matrix(P)"
   ]
  },
  {
   "cell_type": "code",
   "execution_count": 6,
   "metadata": {
    "collapsed": false
   },
   "outputs": [
    {
     "data": {
      "text/plain": [
       "(56, 140)"
      ]
     },
     "execution_count": 6,
     "metadata": {},
     "output_type": "execute_result"
    }
   ],
   "source": [
    "np.size(P, 0), np.size(P, 1)"
   ]
  },
  {
   "cell_type": "code",
   "execution_count": 7,
   "metadata": {
    "collapsed": true
   },
   "outputs": [],
   "source": [
    "import numpy as np\n",
    "from numpy.linalg import inv\n",
    "\n",
    "def samp_cov(x):\n",
    "    \"\"\"\n",
    "    x: sample matrix, each column is a link flow vector sample; 24 * K\n",
    "    K: number of samples\n",
    "    S: sample covariance matrix\n",
    "    ----------------\n",
    "    return: inv(S)\n",
    "    ----------------\n",
    "    \"\"\"\n",
    "    x = np.matrix(x)\n",
    "    K = np.size(x, 1)\n",
    "    x_mean = sum(x[:,k] for k in range(K)) / K\n",
    "    S = sum(np.dot(x[:,k] - x_mean, np.transpose(x[:,k] - x_mean)) for k in range(K)) / (K - 1)\n",
    "    return S"
   ]
  },
  {
   "cell_type": "code",
   "execution_count": 8,
   "metadata": {
    "collapsed": false
   },
   "outputs": [],
   "source": [
    "# load path-link incidence matrix\n",
    "A = zload('../temp_files/path-link_incidence_matrix.pkz')"
   ]
  },
  {
   "cell_type": "code",
   "execution_count": 9,
   "metadata": {
    "collapsed": false
   },
   "outputs": [],
   "source": [
    "# load link counts data\n",
    "\n",
    "import json\n",
    "\n",
    "with open('../temp_files/link_day_minute_Oct_dict_JSON.json', 'r') as json_file:\n",
    "    link_day_minute_Oct_dict_JSON = json.load(json_file)"
   ]
  },
  {
   "cell_type": "code",
   "execution_count": 10,
   "metadata": {
    "collapsed": true
   },
   "outputs": [],
   "source": [
    "week_day_Oct_list = [1, 2, 3, 4, 5, 8, 9, 10, 11, 12, 15, 16, 17, 18, 19, 22, 23, 24, 25, 26, 29, 30, 31]\n",
    "#week_day_Oct_list = [2, 9, 16, 23, 30]"
   ]
  },
  {
   "cell_type": "code",
   "execution_count": 11,
   "metadata": {
    "collapsed": false
   },
   "outputs": [],
   "source": [
    "link_day_minute_Oct_list = []\n",
    "for link_idx in range(24):\n",
    "    for day in week_day_Oct_list: \n",
    "        for minute_idx in range(120):\n",
    "            key = 'link_' + str(link_idx) + '_' + str(day)\n",
    "            link_day_minute_Oct_list.append(link_day_minute_Oct_dict_JSON[key] ['MD_flow_minute'][minute_idx])"
   ]
  },
  {
   "cell_type": "code",
   "execution_count": 12,
   "metadata": {
    "collapsed": false
   },
   "outputs": [
    {
     "data": {
      "text/plain": [
       "66240"
      ]
     },
     "execution_count": 12,
     "metadata": {},
     "output_type": "execute_result"
    }
   ],
   "source": [
    "len(link_day_minute_Oct_list)"
   ]
  },
  {
   "cell_type": "code",
   "execution_count": 13,
   "metadata": {
    "collapsed": false
   },
   "outputs": [],
   "source": [
    "x = np.matrix(link_day_minute_Oct_list)\n",
    "x = np.matrix.reshape(x, 24, 2760)\n",
    "\n",
    "x = np.nan_to_num(x)\n",
    "y = np.array(np.transpose(x))\n",
    "y = y[np.all(y != 0, axis=1)]\n",
    "x = np.transpose(y)\n",
    "x = np.matrix(x)"
   ]
  },
  {
   "cell_type": "code",
   "execution_count": 14,
   "metadata": {
    "collapsed": false
   },
   "outputs": [
    {
     "data": {
      "text/plain": [
       "(24, 2760)"
      ]
     },
     "execution_count": 14,
     "metadata": {},
     "output_type": "execute_result"
    }
   ],
   "source": [
    "np.size(x, 0), np.size(x, 1)"
   ]
  },
  {
   "cell_type": "code",
   "execution_count": 15,
   "metadata": {
    "collapsed": false
   },
   "outputs": [
    {
     "data": {
      "text/plain": [
       "matrix([[  2727.82029999,   3098.14707426],\n",
       "        [  3905.27489626,   3383.09522346],\n",
       "        [  4076.9221011 ,   4954.11429807],\n",
       "        [  5444.09755492,   3967.35332247],\n",
       "        [  8151.04287328,   7726.21196495],\n",
       "        [  3232.76407051,   5407.99509162],\n",
       "        [  4306.99504063,   3958.38701888],\n",
       "        [  4445.98004865,   6226.92933848],\n",
       "        [  7036.15464385,   5669.05449651],\n",
       "        [  6183.89258262,   7441.75454096],\n",
       "        [  7099.80125721,   7438.15549305],\n",
       "        [  6893.63379938,   7473.50063928],\n",
       "        [  6760.33843474,   4807.59484749],\n",
       "        [  4335.54356474,   3902.29331208],\n",
       "        [  3971.1852384 ,   6541.69569595],\n",
       "        [  4669.25592226,   2396.27762553],\n",
       "        [  4696.30435731,   4970.38202738],\n",
       "        [  3878.06842245,   5096.40991128],\n",
       "        [ 12994.5244703 ,   6508.94258314],\n",
       "        [  5317.60855205,   4374.21012242],\n",
       "        [  3259.84683916,   3849.32031686],\n",
       "        [  6093.22968301,   6393.75807734],\n",
       "        [  1827.27125926,   2835.49234586],\n",
       "        [  4506.7201716 ,   3110.00016503]])"
      ]
     },
     "execution_count": 15,
     "metadata": {},
     "output_type": "execute_result"
    }
   ],
   "source": [
    "x[:,:2]"
   ]
  },
  {
   "cell_type": "code",
   "execution_count": 16,
   "metadata": {
    "collapsed": false
   },
   "outputs": [
    {
     "data": {
      "text/plain": [
       "(24, 140)"
      ]
     },
     "execution_count": 16,
     "metadata": {},
     "output_type": "execute_result"
    }
   ],
   "source": [
    "np.size(A,0), np.size(A,1)"
   ]
  },
  {
   "cell_type": "code",
   "execution_count": 17,
   "metadata": {
    "collapsed": false
   },
   "outputs": [
    {
     "name": "stdout",
     "output_type": "stream",
     "text": [
      "Optimize a model with 56 rows, 56 columns and 56 nonzeros\n",
      "Model has 1596 quadratic objective terms\n",
      "Coefficient statistics:\n",
      "  Matrix range    [1e+00, 1e+00]\n",
      "  Objective range [3e-02, 8e+00]\n",
      "  Bounds range    [0e+00, 0e+00]\n",
      "  RHS range       [0e+00, 0e+00]\n",
      "Presolve removed 56 rows and 0 columns\n",
      "Presolve time: 0.00s\n",
      "Presolved: 0 rows, 56 columns, 0 nonzeros\n",
      "Presolved model has 1596 quadratic objective terms\n",
      "Ordering time: 0.00s\n",
      "\n",
      "Barrier statistics:\n",
      " Free vars  : 24\n",
      " AA' NZ     : 2.760e+02\n",
      " Factor NZ  : 3.000e+02\n",
      " Factor Ops : 4.900e+03 (less than 1 second per iteration)\n",
      " Threads    : 1\n",
      "\n",
      "                  Objective                Residual\n",
      "Iter       Primal          Dual         Primal    Dual     Compl     Time\n",
      "   0  -1.73312431e+06  0.00000000e+00  4.21e+03 1.57e+02  9.55e+05     0s\n",
      "   1   9.05376881e+05 -1.79259484e+06  9.08e+02 2.02e+02  2.49e+05     0s\n",
      "   2   8.91848730e+05 -1.37925563e+06  5.91e+01 1.33e+01  5.09e+04     0s\n",
      "   3   8.01339318e+04 -3.24795500e+05  5.91e-05 5.68e-14  7.23e+03     0s\n",
      "   4  -5.01045965e+04 -1.03813064e+05  5.96e-11 2.84e-14  9.59e+02     0s\n",
      "   5  -6.18736668e+04 -6.71567625e+04  7.67e-13 8.53e-14  9.43e+01     0s\n",
      "   6  -6.25607899e+04 -6.27461719e+04  4.01e-12 2.84e-14  3.31e+00     0s\n",
      "   7  -6.25783494e+04 -6.25999479e+04  2.86e-11 5.68e-14  3.86e-01     0s\n",
      "   8  -6.25839995e+04 -6.25890566e+04  6.74e-12 2.84e-14  9.03e-02     0s\n",
      "   9  -6.25849817e+04 -6.25851983e+04  6.25e-13 8.53e-14  3.87e-03     0s\n",
      "  10  -6.25850576e+04 -6.25850666e+04  8.75e-12 5.68e-14  1.59e-04     0s\n",
      "  11  -6.25850589e+04 -6.25850617e+04  6.55e-09 2.84e-14  5.00e-05     0s\n",
      "  12  -6.25850600e+04 -6.25850600e+04  1.49e-09 4.97e-14  4.53e-07     0s\n",
      "  13  -6.25850600e+04 -6.25850600e+04  9.09e-13 1.28e-13  8.67e-08     0s\n",
      "  14  -6.25850600e+04 -6.25850600e+04  4.27e-11 1.15e-13  3.24e-09     0s\n",
      "\n",
      "Barrier solved model in 14 iterations and 0.02 seconds\n",
      "Optimal objective -6.25850600e+04\n",
      "\n",
      "lam_0 9.46298e-11\n",
      "lam_1 5449.36\n",
      "lam_2 1.03872e-10\n",
      "lam_3 9.0281e-07\n",
      "lam_4 1242.64\n",
      "lam_5 1.51359e-06\n",
      "lam_6 3.07115e-08\n",
      "lam_7 0.000915957\n",
      "lam_8 334.769\n",
      "lam_9 3222.65\n",
      "lam_10 9.02809e-07\n",
      "lam_11 246.461\n",
      "lam_12 1.51358e-06\n",
      "lam_13 1.52225e-06\n",
      "lam_14 1955.23\n",
      "lam_15 974.996\n",
      "lam_16 9.0281e-07\n",
      "lam_17 9.0281e-07\n",
      "lam_18 1490.74\n",
      "lam_19 10357.4\n",
      "lam_20 1.51326e-06\n",
      "lam_21 2154.46\n",
      "lam_22 1984.91\n",
      "lam_23 363.266\n",
      "lam_24 1211.48\n",
      "lam_25 991.906\n",
      "lam_26 587.838\n",
      "lam_27 3594.86\n",
      "lam_28 0.195684\n",
      "lam_29 0.14883\n",
      "lam_30 587.678\n",
      "lam_31 1870.21\n",
      "lam_32 5259.94\n",
      "lam_33 929.231\n",
      "lam_34 547.255\n",
      "lam_35 3178.98\n",
      "lam_36 1355.24\n",
      "lam_37 3.40169e-05\n",
      "lam_38 1135.41\n",
      "lam_39 2567.11\n",
      "lam_40 719.648\n",
      "lam_41 490.91\n",
      "lam_42 3.36628e-07\n",
      "lam_43 3.36628e-07\n",
      "lam_44 7888.05\n",
      "lam_45 1.36593e-07\n",
      "lam_46 1.34924e-07\n",
      "lam_47 0.071093\n",
      "lam_48 1585.93\n",
      "lam_49 3.37563e-07\n",
      "lam_50 3.40356e-07\n",
      "lam_51 3.36736e-07\n",
      "lam_52 3225.32\n",
      "lam_53 1.35004e-07\n",
      "lam_54 0.044072\n",
      "lam_55 4022\n",
      "Obj: -62576.7\n"
     ]
    }
   ],
   "source": [
    "from gurobipy import *\n",
    "\n",
    "L = 56  # dimension of lam\n",
    "\n",
    "K = np.size(x, 1)\n",
    "S = samp_cov(x)\n",
    "inv_S = inv(S)\n",
    "\n",
    "A_t = np.transpose(A)\n",
    "P_t = np.transpose(P)\n",
    "# PA'\n",
    "PA_t = np.dot(P, A_t)\n",
    "# AP_t\n",
    "AP_t = np.transpose(PA_t)\n",
    "\n",
    "Q = np.dot(np.dot(PA_t, inv_S), AP_t)\n",
    "b = sum([np.dot(np.dot(PA_t, inv_S), x[:, k]) for k in range(K)])\n",
    "\n",
    "\n",
    "model = Model(\"OD_matrix_estimation\")\n",
    "\n",
    "lam = []\n",
    "for l in range(L):\n",
    "    lam.append(model.addVar(name='lam_' + str(l)))\n",
    "\n",
    "model.update() \n",
    "\n",
    "# Set objective: (K/2) lam' * Q * lam - b' * lam\n",
    "obj = 0\n",
    "for i in range(L):\n",
    "    for j in range(L):\n",
    "        obj += (1.0 /2) * K * lam[i] * Q[i, j] * lam[j]\n",
    "for l in range(L):\n",
    "    obj += - b[l] * lam[l]\n",
    "model.setObjective(obj)\n",
    "\n",
    "# Add constraint: lam >= 0\n",
    "for l in range(L):\n",
    "    model.addConstr(lam[l] >= 0)\n",
    "\n",
    "model.update() \n",
    "\n",
    "model.optimize()\n",
    "\n",
    "lam_list = []\n",
    "for v in model.getVars():\n",
    "    print('%s %g' % (v.varName, v.x))\n",
    "    lam_list.append(v.x)\n",
    "print('Obj: %g' % obj.getValue())"
   ]
  },
  {
   "cell_type": "code",
   "execution_count": 18,
   "metadata": {
    "collapsed": false
   },
   "outputs": [],
   "source": [
    "# write estimation result to file\n",
    "n = 8  # number of nodes\n",
    "with open('../temp_files/OD_demand_matrix_Oct_weekday_MD.txt', 'w') as the_file:\n",
    "    idx = 0\n",
    "    for i in range(n + 1)[1:]:\n",
    "        for j in range(n + 1)[1:]:\n",
    "            if i != j: \n",
    "                the_file.write(\"%d,%d,%f\\n\" %(i, j, lam_list[idx]))\n",
    "                idx += 1"
   ]
  },
  {
   "cell_type": "code",
   "execution_count": 19,
   "metadata": {
    "collapsed": false
   },
   "outputs": [
    {
     "data": {
      "text/plain": [
       "[9.462975309492649e-11,\n",
       " 5449.364071826014,\n",
       " 1.038718039546307e-10,\n",
       " 9.02809734917734e-07,\n",
       " 1242.6407235392342,\n",
       " 1.513585729894109e-06,\n",
       " 3.071151733491655e-08,\n",
       " 0.0009159566254446638,\n",
       " 334.7691687778002,\n",
       " 3222.6548462807077,\n",
       " 9.02808803872969e-07,\n",
       " 246.46059243451703,\n",
       " 1.5135831133171777e-06,\n",
       " 1.5222504751630477e-06,\n",
       " 1955.231625911226,\n",
       " 974.9961225114952,\n",
       " 9.028095946367451e-07,\n",
       " 9.028097893579916e-07,\n",
       " 1490.743811039035,\n",
       " 10357.363890126006,\n",
       " 1.513263438906754e-06,\n",
       " 2154.4646684687473,\n",
       " 1984.9132087159398,\n",
       " 363.26589305022395,\n",
       " 1211.477257833448,\n",
       " 991.9062031791195,\n",
       " 587.8380184491323,\n",
       " 3594.8575191766704,\n",
       " 0.1956839614874326,\n",
       " 0.14882986411636878,\n",
       " 587.6782299939811,\n",
       " 1870.2090397718173,\n",
       " 5259.939961504766,\n",
       " 929.2309091829682,\n",
       " 547.2548358673282,\n",
       " 3178.97578597615,\n",
       " 1355.2397692570325,\n",
       " 3.401693690071889e-05,\n",
       " 1135.4112108828474,\n",
       " 2567.1073721394496,\n",
       " 719.6477354954365,\n",
       " 490.9097732275619,\n",
       " 3.366280767832955e-07,\n",
       " 3.3662804852294245e-07,\n",
       " 7888.050577499424,\n",
       " 1.3659252667306835e-07,\n",
       " 1.349237825775285e-07,\n",
       " 0.07109302954222249,\n",
       " 1585.9283992202465,\n",
       " 3.3756287124054343e-07,\n",
       " 3.403561966993808e-07,\n",
       " 3.3673602622142767e-07,\n",
       " 3225.3202039606467,\n",
       " 1.3500400864559974e-07,\n",
       " 0.04407195223292343,\n",
       " 4022.0026534189315]"
      ]
     },
     "execution_count": 19,
     "metadata": {},
     "output_type": "execute_result"
    }
   ],
   "source": [
    "lam_list"
   ]
  },
  {
   "cell_type": "code",
   "execution_count": null,
   "metadata": {
    "collapsed": true
   },
   "outputs": [],
   "source": []
  }
 ],
 "metadata": {
  "kernelspec": {
   "display_name": "Python 2",
   "language": "python",
   "name": "python2"
  },
  "language_info": {
   "codemirror_mode": {
    "name": "ipython",
    "version": 2
   },
   "file_extension": ".py",
   "mimetype": "text/x-python",
   "name": "python",
   "nbconvert_exporter": "python",
   "pygments_lexer": "ipython2",
   "version": "2.7.11"
  }
 },
 "nbformat": 4,
 "nbformat_minor": 0
}
