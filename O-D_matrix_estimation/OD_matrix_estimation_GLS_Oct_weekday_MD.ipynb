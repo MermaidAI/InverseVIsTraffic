{
 "cells": [
  {
   "cell_type": "code",
   "execution_count": 1,
   "metadata": {
    "collapsed": true
   },
   "outputs": [],
   "source": [
    "%run ../Python_files/util_data_storage_and_load.py"
   ]
  },
  {
   "cell_type": "code",
   "execution_count": 2,
   "metadata": {
    "collapsed": true
   },
   "outputs": [],
   "source": [
    "%run ../Python_files/load_dicts.py"
   ]
  },
  {
   "cell_type": "code",
   "execution_count": 3,
   "metadata": {
    "collapsed": false
   },
   "outputs": [],
   "source": [
    "%run ../Python_files/util.py"
   ]
  },
  {
   "cell_type": "code",
   "execution_count": 4,
   "metadata": {
    "collapsed": true
   },
   "outputs": [],
   "source": [
    "# load logit_route_choice_probability_matrix\n",
    "P = zload('../temp_files/logit_route_choice_probability_matrix.pkz')"
   ]
  },
  {
   "cell_type": "code",
   "execution_count": 5,
   "metadata": {
    "collapsed": false
   },
   "outputs": [],
   "source": [
    "import numpy as np\n",
    "from numpy.linalg import inv\n",
    "\n",
    "P = np.matrix(P)"
   ]
  },
  {
   "cell_type": "code",
   "execution_count": 6,
   "metadata": {
    "collapsed": false
   },
   "outputs": [
    {
     "data": {
      "text/plain": [
       "(56, 140)"
      ]
     },
     "execution_count": 6,
     "metadata": {},
     "output_type": "execute_result"
    }
   ],
   "source": [
    "np.size(P, 0), np.size(P, 1)"
   ]
  },
  {
   "cell_type": "code",
   "execution_count": 7,
   "metadata": {
    "collapsed": true
   },
   "outputs": [],
   "source": [
    "import numpy as np\n",
    "from numpy.linalg import inv\n",
    "\n",
    "def samp_cov(x):\n",
    "    \"\"\"\n",
    "    x: sample matrix, each column is a link flow vector sample; 24 * K\n",
    "    K: number of samples\n",
    "    S: sample covariance matrix\n",
    "    ----------------\n",
    "    return: inv(S)\n",
    "    ----------------\n",
    "    \"\"\"\n",
    "    x = np.matrix(x)\n",
    "    K = np.size(x, 1)\n",
    "    x_mean = sum(x[:,k] for k in range(K)) / K\n",
    "    S = sum(np.dot(x[:,k] - x_mean, np.transpose(x[:,k] - x_mean)) for k in range(K)) / (K - 1)\n",
    "    return S"
   ]
  },
  {
   "cell_type": "code",
   "execution_count": 8,
   "metadata": {
    "collapsed": false
   },
   "outputs": [],
   "source": [
    "# load path-link incidence matrix\n",
    "A = zload('../temp_files/path-link_incidence_matrix.pkz')"
   ]
  },
  {
   "cell_type": "code",
   "execution_count": 9,
   "metadata": {
    "collapsed": false
   },
   "outputs": [],
   "source": [
    "# load link counts data\n",
    "\n",
    "import json\n",
    "\n",
    "with open('../temp_files/link_day_minute_Oct_dict_JSON.json', 'r') as json_file:\n",
    "    link_day_minute_Oct_dict_JSON = json.load(json_file)"
   ]
  },
  {
   "cell_type": "code",
   "execution_count": 19,
   "metadata": {
    "collapsed": true
   },
   "outputs": [],
   "source": [
    "#week_day_Oct_list = [1, 2, 3, 4, 5, 8, 9, 10, 11, 12, 15, 16, 17, 18, 19, 22, 23, 24, 25, 26, 29, 30, 31]\n",
    "week_day_Oct_list = [2, 9, 16, 23, 30]"
   ]
  },
  {
   "cell_type": "code",
   "execution_count": 20,
   "metadata": {
    "collapsed": false
   },
   "outputs": [],
   "source": [
    "link_day_minute_Oct_list = []\n",
    "for link_idx in range(24):\n",
    "    for day in week_day_Oct_list: \n",
    "        for minute_idx in range(120):\n",
    "            key = 'link_' + str(link_idx) + '_' + str(day)\n",
    "            link_day_minute_Oct_list.append(link_day_minute_Oct_dict_JSON[key] ['MD_flow_minute'][minute_idx])"
   ]
  },
  {
   "cell_type": "code",
   "execution_count": 21,
   "metadata": {
    "collapsed": false
   },
   "outputs": [
    {
     "data": {
      "text/plain": [
       "14400"
      ]
     },
     "execution_count": 21,
     "metadata": {},
     "output_type": "execute_result"
    }
   ],
   "source": [
    "len(link_day_minute_Oct_list)"
   ]
  },
  {
   "cell_type": "code",
   "execution_count": 23,
   "metadata": {
    "collapsed": false
   },
   "outputs": [],
   "source": [
    "x = np.matrix(link_day_minute_Oct_list)\n",
    "x = np.matrix.reshape(x, 24, 600)\n",
    "\n",
    "x = np.nan_to_num(x)\n",
    "y = np.array(np.transpose(x))\n",
    "y = y[np.all(y != 0, axis=1)]\n",
    "x = np.transpose(y)\n",
    "x = np.matrix(x)"
   ]
  },
  {
   "cell_type": "code",
   "execution_count": 24,
   "metadata": {
    "collapsed": false
   },
   "outputs": [
    {
     "data": {
      "text/plain": [
       "(24, 600)"
      ]
     },
     "execution_count": 24,
     "metadata": {},
     "output_type": "execute_result"
    }
   ],
   "source": [
    "np.size(x, 0), np.size(x, 1)"
   ]
  },
  {
   "cell_type": "code",
   "execution_count": 25,
   "metadata": {
    "collapsed": false
   },
   "outputs": [
    {
     "data": {
      "text/plain": [
       "matrix([[ 2388.85023266,  2317.99697662],\n",
       "        [ 2235.15683479,  2298.51147847],\n",
       "        [ 2863.08941813,  2848.89387585],\n",
       "        [ 2894.26108129,  2881.38692522],\n",
       "        [ 2765.61848262,  2812.96945915],\n",
       "        [ 2763.5216542 ,  2607.71742863],\n",
       "        [ 2364.75834274,  2321.03239065],\n",
       "        [ 2369.3219381 ,  2357.92762384],\n",
       "        [ 3229.29411564,  3219.53929543],\n",
       "        [ 3197.48909879,  3066.32983642],\n",
       "        [ 2656.27198223,  2663.43977835],\n",
       "        [ 2414.96150877,  2201.83162751],\n",
       "        [ 2244.96803408,  2307.72951123],\n",
       "        [ 2491.62179065,  2428.84971598],\n",
       "        [ 2410.08382257,  2446.05903492],\n",
       "        [ 1959.05874575,  1931.72972169],\n",
       "        [ 2356.53682403,  2375.54157664],\n",
       "        [ 2376.87214354,  2343.89526826],\n",
       "        [ 2608.89905719,  2652.90711499],\n",
       "        [ 2661.4108332 ,  2551.98646275],\n",
       "        [ 2740.06180662,  2860.73631523],\n",
       "        [ 2651.29507733,  2610.22571774],\n",
       "        [ 2298.6409424 ,  2367.80269209],\n",
       "        [ 2330.89870134,  2336.29939876]])"
      ]
     },
     "execution_count": 25,
     "metadata": {},
     "output_type": "execute_result"
    }
   ],
   "source": [
    "x[:,:2]"
   ]
  },
  {
   "cell_type": "code",
   "execution_count": 26,
   "metadata": {
    "collapsed": false
   },
   "outputs": [
    {
     "data": {
      "text/plain": [
       "(24, 140)"
      ]
     },
     "execution_count": 26,
     "metadata": {},
     "output_type": "execute_result"
    }
   ],
   "source": [
    "np.size(A,0), np.size(A,1)"
   ]
  },
  {
   "cell_type": "code",
   "execution_count": 27,
   "metadata": {
    "collapsed": false
   },
   "outputs": [
    {
     "name": "stdout",
     "output_type": "stream",
     "text": [
      "Optimize a model with 56 rows, 56 columns and 56 nonzeros\n",
      "Model has 1596 quadratic objective terms\n",
      "Coefficient statistics:\n",
      "  Matrix range    [1e+00, 1e+00]\n",
      "  Objective range [7e+00, 4e+03]\n",
      "  Bounds range    [0e+00, 0e+00]\n",
      "  RHS range       [0e+00, 0e+00]\n",
      "Warning: diagonal adjustment of 1.4e-07 performed to make Q PSD\n",
      "Presolve removed 56 rows and 0 columns\n",
      "Presolve time: 0.00s\n",
      "Presolved: 0 rows, 56 columns, 0 nonzeros\n",
      "Presolved model has 1596 quadratic objective terms\n",
      "Ordering time: 0.00s\n",
      "\n",
      "Barrier statistics:\n",
      " Free vars  : 26\n",
      " AA' NZ     : 3.250e+02\n",
      " Factor NZ  : 3.510e+02\n",
      " Factor Ops : 6.201e+03 (less than 1 second per iteration)\n",
      " Threads    : 1\n",
      "\n",
      "                  Objective                Residual\n",
      "Iter       Primal          Dual         Primal    Dual     Compl     Time\n",
      "   0  -6.53255011e+07  0.00000000e+00  8.07e+03 1.82e+03  1.00e+06     0s\n",
      "   1  -3.03520010e+07 -1.80286186e+07  1.28e+03 2.90e+02  2.26e+05     0s\n",
      "   2  -2.13405916e+07 -2.22263939e+07  5.00e+01 1.13e+01  3.25e+04     0s\n",
      "   3  -2.11630780e+07 -2.13392478e+07  5.00e-05 1.13e-05  3.15e+03     0s\n",
      "   4  -2.11815467e+07 -2.11877265e+07  2.56e-07 5.79e-08  1.10e+02     0s\n",
      "   5  -2.11832391e+07 -2.11840645e+07  4.19e-10 4.55e-13  1.47e+01     0s\n",
      "   6  -2.11833615e+07 -2.11834207e+07  1.06e-09 9.09e-13  1.06e+00     0s\n",
      "   7  -2.11833631e+07 -2.11833654e+07  4.33e-09 4.55e-13  3.96e-02     0s\n",
      "   8  -2.11833634e+07 -2.11833635e+07  7.75e-11 6.82e-13  1.69e-03     0s\n",
      "   9  -2.11833634e+07 -2.11833634e+07  8.05e-11 1.59e-12  2.77e-04     0s\n",
      "  10  -2.11833634e+07 -2.11833634e+07  3.21e-11 6.82e-13  1.86e-05     0s\n",
      "  11  -2.11833634e+07 -2.11833634e+07  3.02e-11 9.09e-13  8.43e-06     0s\n",
      "  12  -2.11833634e+07 -2.11833634e+07  4.25e-11 9.09e-13  4.33e-07     0s\n",
      "  13  -2.11833634e+07 -2.11833634e+07  2.96e-12 8.11e-10  8.36e-08     0s\n",
      "  14  -2.11833634e+07 -2.11833634e+07  1.82e-12 2.75e-10  3.59e-09     0s\n",
      "\n",
      "Barrier solved model in 14 iterations and 0.02 seconds\n",
      "Optimal objective -2.11833634e+07\n",
      "\n",
      "lam_0 9.60005e-12\n",
      "lam_1 3013.48\n",
      "lam_2 1.05377e-11\n",
      "lam_3 579.252\n",
      "lam_4 0.000700753\n",
      "lam_5 1300.06\n",
      "lam_6 3.17995e-09\n",
      "lam_7 0.000184061\n",
      "lam_8 0.00327503\n",
      "lam_9 2595.77\n",
      "lam_10 96.9744\n",
      "lam_11 0.000463222\n",
      "lam_12 0.00329286\n",
      "lam_13 0.00328456\n",
      "lam_14 2867.88\n",
      "lam_15 0.246425\n",
      "lam_16 0.000982288\n",
      "lam_17 0.000982974\n",
      "lam_18 1153.92\n",
      "lam_19 169.201\n",
      "lam_20 2429.26\n",
      "lam_21 1352.44\n",
      "lam_22 1276.01\n",
      "lam_23 6.5003e-05\n",
      "lam_24 2119.58\n",
      "lam_25 0.00459399\n",
      "lam_26 0.00199647\n",
      "lam_27 2343.33\n",
      "lam_28 626.592\n",
      "lam_29 0.117928\n",
      "lam_30 0.132901\n",
      "lam_31 2333.82\n",
      "lam_32 2037.94\n",
      "lam_33 0.00197282\n",
      "lam_34 0.00196426\n",
      "lam_35 1.38673e-05\n",
      "lam_36 1.38673e-05\n",
      "lam_37 1.38667e-05\n",
      "lam_38 3.20789\n",
      "lam_39 1563.52\n",
      "lam_40 1035.03\n",
      "lam_41 0.109861\n",
      "lam_42 0.861481\n",
      "lam_43 0.277936\n",
      "lam_44 2274.79\n",
      "lam_45 0.273355\n",
      "lam_46 79.6111\n",
      "lam_47 646.803\n",
      "lam_48 0.206619\n",
      "lam_49 0.0850734\n",
      "lam_50 1789.7\n",
      "lam_51 660.236\n",
      "lam_52 2277.13\n",
      "lam_53 0.0542017\n",
      "lam_54 0.175149\n",
      "lam_55 0.164346\n",
      "Obj: -2.11834e+07\n"
     ]
    }
   ],
   "source": [
    "from gurobipy import *\n",
    "\n",
    "L = 56  # dimension of lam\n",
    "\n",
    "K = np.size(x, 1)\n",
    "S = samp_cov(x)\n",
    "inv_S = inv(S)\n",
    "\n",
    "A_t = np.transpose(A)\n",
    "P_t = np.transpose(P)\n",
    "# PA'\n",
    "PA_t = np.dot(P, A_t)\n",
    "# AP_t\n",
    "AP_t = np.transpose(PA_t)\n",
    "\n",
    "Q = np.dot(np.dot(PA_t, inv_S), AP_t)\n",
    "b = sum([np.dot(np.dot(PA_t, inv_S), x[:, k]) for k in range(K)])\n",
    "\n",
    "\n",
    "model = Model(\"OD_matrix_estimation\")\n",
    "\n",
    "lam = []\n",
    "for l in range(L):\n",
    "    lam.append(model.addVar(name='lam_' + str(l)))\n",
    "\n",
    "model.update() \n",
    "\n",
    "# Set objective: (K/2) lam' * Q * lam - b * lam\n",
    "obj = 0\n",
    "for i in range(L):\n",
    "    for j in range(L):\n",
    "        obj += (1.0 /2) * K * lam[i] * Q[i, j] * lam[j]\n",
    "for l in range(L):\n",
    "    obj += - b[l] * lam[l]\n",
    "model.setObjective(obj)\n",
    "\n",
    "# Add constraint: lam >= 0\n",
    "for l in range(L):\n",
    "    model.addConstr(lam[l] >= 0)\n",
    "\n",
    "model.update() \n",
    "\n",
    "model.optimize()\n",
    "\n",
    "lam_list = []\n",
    "for v in model.getVars():\n",
    "    print('%s %g' % (v.varName, v.x))\n",
    "    lam_list.append(v.x)\n",
    "print('Obj: %g' % obj.getValue())"
   ]
  },
  {
   "cell_type": "code",
   "execution_count": 28,
   "metadata": {
    "collapsed": false
   },
   "outputs": [],
   "source": [
    "# write estimation result to file\n",
    "n = 8  # number of nodes\n",
    "with open('../temp_files/OD_demand_matrix_Oct_weekday_MD.txt', 'w') as the_file:\n",
    "    idx = 0\n",
    "    for i in range(n + 1)[1:]:\n",
    "        for j in range(n + 1)[1:]:\n",
    "            if i != j: \n",
    "                the_file.write(\"%d,%d,%f\\n\" %(i, j, lam_list[idx]))\n",
    "                idx += 1"
   ]
  },
  {
   "cell_type": "code",
   "execution_count": 29,
   "metadata": {
    "collapsed": false
   },
   "outputs": [
    {
     "data": {
      "text/plain": [
       "[9.600048532385772e-12,\n",
       " 3013.482564048393,\n",
       " 1.053768987577737e-11,\n",
       " 579.2524228380736,\n",
       " 0.0007007531874017973,\n",
       " 1300.0588171509787,\n",
       " 3.1799479668009433e-09,\n",
       " 0.00018406057456346776,\n",
       " 0.003275025817570082,\n",
       " 2595.7689246226823,\n",
       " 96.97435381921144,\n",
       " 0.0004632217257994585,\n",
       " 0.0032928557800396413,\n",
       " 0.003284558523909978,\n",
       " 2867.8839837819355,\n",
       " 0.24642510174544618,\n",
       " 0.0009822882303804695,\n",
       " 0.0009829744117517032,\n",
       " 1153.9236229672028,\n",
       " 169.2010454328214,\n",
       " 2429.264405223341,\n",
       " 1352.441744702072,\n",
       " 1276.0077138052102,\n",
       " 6.500297576483047e-05,\n",
       " 2119.5814497438946,\n",
       " 0.004593993522409953,\n",
       " 0.001996472022808414,\n",
       " 2343.3322532493803,\n",
       " 626.5919903070039,\n",
       " 0.1179282174742351,\n",
       " 0.13290129390697958,\n",
       " 2333.8217580480537,\n",
       " 2037.9399908954356,\n",
       " 0.0019728156640467787,\n",
       " 0.0019642578919099735,\n",
       " 1.3867311148602524e-05,\n",
       " 1.386725881208882e-05,\n",
       " 1.3866725120439624e-05,\n",
       " 3.207890576299974,\n",
       " 1563.5200907209728,\n",
       " 1035.0284971243996,\n",
       " 0.10986127894491915,\n",
       " 0.8614805878293019,\n",
       " 0.2779362831365799,\n",
       " 2274.790056320499,\n",
       " 0.273354538306914,\n",
       " 79.61113148000106,\n",
       " 646.8034024001522,\n",
       " 0.20661896649832556,\n",
       " 0.08507341025552151,\n",
       " 1789.6970448299276,\n",
       " 660.2363495367609,\n",
       " 2277.129803932781,\n",
       " 0.05420170232634944,\n",
       " 0.17514925270485815,\n",
       " 0.16434606720223943]"
      ]
     },
     "execution_count": 29,
     "metadata": {},
     "output_type": "execute_result"
    }
   ],
   "source": [
    "lam_list"
   ]
  },
  {
   "cell_type": "code",
   "execution_count": null,
   "metadata": {
    "collapsed": true
   },
   "outputs": [],
   "source": []
  }
 ],
 "metadata": {
  "kernelspec": {
   "display_name": "Python 2",
   "language": "python",
   "name": "python2"
  },
  "language_info": {
   "codemirror_mode": {
    "name": "ipython",
    "version": 2
   },
   "file_extension": ".py",
   "mimetype": "text/x-python",
   "name": "python",
   "nbconvert_exporter": "python",
   "pygments_lexer": "ipython2",
   "version": "2.7.11"
  }
 },
 "nbformat": 4,
 "nbformat_minor": 0
}
