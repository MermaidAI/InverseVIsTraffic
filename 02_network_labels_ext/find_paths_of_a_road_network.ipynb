{
 "cells": [
  {
   "cell_type": "code",
   "execution_count": 1,
   "metadata": {
    "collapsed": true
   },
   "outputs": [],
   "source": [
    "# number of links\n",
    "m = 64\n",
    "\n",
    "# create link labels\n",
    "# create a dictionary mapping directed links to labels\n",
    "link_label_dict = {}\n",
    "link_label_dict_ = {}\n",
    "\n",
    "link_list = ['1->2','2->1','1->3','3->1','2->3','3->2','2->4','4->2','3->6','6->3',\n",
    "'4->6','6->4','4->7#1','7->4#1','4->7#2','7->4#2','4->5','5->4','6->7','7->6',\n",
    "'5->8','8->5','5->9','9->5','7->9','9->7','7->11','11->7','9->10',\n",
    "'10->9','8->10','10->8','10->11','11->10','8->12','12->8','10->13',\n",
    "'13->10','11->14','14->11','12->13#1','13->12#1','12->13#2','13->12#2','12->13#3',\n",
    "'13->12#3','13->14#1','14->13#1','13->14#2','14->13#2','12->15','15->12','13->15',\n",
    "'15->13','13->16','16->13','14->16#1','16->14#1','14->16#2','16->14#2','15->17',\n",
    "'17->15','16->17','17->16']\n",
    "\n",
    "for i in range(m):\n",
    "    link_label_dict[str(i)] = link_list[i]\n",
    "\n",
    "for i in range(m):\n",
    "    link_label_dict_[link_list[i]] = i "
   ]
  },
  {
   "cell_type": "code",
   "execution_count": 2,
   "metadata": {
    "collapsed": false
   },
   "outputs": [
    {
     "data": {
      "text/plain": [
       "'4->7#1'"
      ]
     },
     "execution_count": 2,
     "metadata": {},
     "output_type": "execute_result"
    }
   ],
   "source": [
    "link_label_dict['12']"
   ]
  },
  {
   "cell_type": "code",
   "execution_count": 3,
   "metadata": {
    "collapsed": false
   },
   "outputs": [
    {
     "data": {
      "text/plain": [
       "12"
      ]
     },
     "execution_count": 3,
     "metadata": {},
     "output_type": "execute_result"
    }
   ],
   "source": [
    "link_label_dict_['4->7#1']"
   ]
  },
  {
   "cell_type": "code",
   "execution_count": 4,
   "metadata": {
    "collapsed": false
   },
   "outputs": [],
   "source": [
    "import itertools\n",
    "from multiprocessing import Queue, Process\n",
    "\n",
    "def get_paths(origi, desti, n, queue):\n",
    "    nodes = set(range(18)[1:]) - set([origi, desti])\n",
    "    nodes = list(nodes)\n",
    "    path_list = []\n",
    "    for node_list in itertools.permutations(nodes, n):\n",
    "        links = []\n",
    "        links.append('%s->%s'%(origi, node_list[0]))\n",
    "        L = len(node_list)\n",
    "        for i in range(L)[:-1]:\n",
    "            links.append('%s->%s'%(node_list[i], node_list[i+1]))\n",
    "        links.append('%s->%s'%(node_list[-1], desti))\n",
    "\n",
    "        if any(link not in link_list for link in links):  \n",
    "            continue\n",
    "        else:\n",
    "            path_list.append(links)\n",
    "    queue.put(path_list)"
   ]
  },
  {
   "cell_type": "code",
   "execution_count": 5,
   "metadata": {
    "collapsed": true
   },
   "outputs": [],
   "source": [
    "# get_paths(1, 6, 5, queue)\n",
    "# queue.get()"
   ]
  },
  {
   "cell_type": "code",
   "execution_count": 6,
   "metadata": {
    "collapsed": false
   },
   "outputs": [],
   "source": [
    "path_list = []\n",
    "\n",
    "queue = Queue()\n",
    "proc_list = []\n",
    "for n in range(1, 7):\n",
    "    proc_list.append(Process(target=get_paths, args=(1, 6, n, queue,)))\n",
    "for p in proc_list:\n",
    "    p.start()\n",
    "result_list = []\n",
    "for n in range(1, 7):\n",
    "    result_list.append(queue.get())\n",
    "for p in proc_list:\n",
    "    p.join()"
   ]
  },
  {
   "cell_type": "code",
   "execution_count": 7,
   "metadata": {
    "collapsed": false
   },
   "outputs": [
    {
     "data": {
      "text/plain": [
       "[[['1->3', '3->6']],\n",
       " [['1->2', '2->3', '3->6'], ['1->2', '2->4', '4->6']],\n",
       " [['1->3', '3->2', '2->4', '4->6']],\n",
       " [],\n",
       " [['1->2', '2->4', '4->5', '5->9', '9->7', '7->6']],\n",
       " [['1->3', '3->2', '2->4', '4->5', '5->9', '9->7', '7->6']]]"
      ]
     },
     "execution_count": 7,
     "metadata": {},
     "output_type": "execute_result"
    }
   ],
   "source": [
    "result_list"
   ]
  },
  {
   "cell_type": "code",
   "execution_count": 31,
   "metadata": {
    "collapsed": false
   },
   "outputs": [
    {
     "data": {
      "text/plain": [
       "True"
      ]
     },
     "execution_count": 31,
     "metadata": {},
     "output_type": "execute_result"
    }
   ],
   "source": [
    "items = [[1, 2, 0], [1, 2, 0], [1, 2, 0]]\n",
    "all(item[2] == 0 for item in items)"
   ]
  },
  {
   "cell_type": "code",
   "execution_count": null,
   "metadata": {
    "collapsed": true
   },
   "outputs": [],
   "source": []
  }
 ],
 "metadata": {
  "kernelspec": {
   "display_name": "Python 2",
   "language": "python",
   "name": "python2"
  },
  "language_info": {
   "codemirror_mode": {
    "name": "ipython",
    "version": 2
   },
   "file_extension": ".py",
   "mimetype": "text/x-python",
   "name": "python",
   "nbconvert_exporter": "python",
   "pygments_lexer": "ipython2",
   "version": "2.7.11"
  }
 },
 "nbformat": 4,
 "nbformat_minor": 0
}
