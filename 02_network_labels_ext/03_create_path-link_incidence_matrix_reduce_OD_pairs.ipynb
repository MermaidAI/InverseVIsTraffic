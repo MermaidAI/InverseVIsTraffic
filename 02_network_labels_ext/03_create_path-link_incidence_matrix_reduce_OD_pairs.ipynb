{
 "cells": [
  {
   "cell_type": "code",
   "execution_count": 1,
   "metadata": {
    "collapsed": false,
    "scrolled": true
   },
   "outputs": [
    {
     "name": "stdout",
     "output_type": "stream",
     "text": [
      "No dicts found; please check load_dicts...\n"
     ]
    }
   ],
   "source": [
    "%run ../Python_files/util.py"
   ]
  },
  {
   "cell_type": "code",
   "execution_count": 2,
   "metadata": {
    "collapsed": false
   },
   "outputs": [],
   "source": [
    "OD_pair_label_dict = zload('../temp_files/OD_pair_label_dict_ext.pkz')"
   ]
  },
  {
   "cell_type": "code",
   "execution_count": 3,
   "metadata": {
    "collapsed": true
   },
   "outputs": [],
   "source": [
    "link_label_dict = zload('../temp_files/link_label_dict_ext.pkz')\n",
    "link_label_dict_ = zload('../temp_files/link_label_dict_ext_.pkz')\n",
    "link_length_dict = zload('../temp_files/link_length_dict_ext.pkz')"
   ]
  },
  {
   "cell_type": "code",
   "execution_count": 4,
   "metadata": {
    "collapsed": false
   },
   "outputs": [
    {
     "data": {
      "text/plain": [
       "11.385941974850725"
      ]
     },
     "execution_count": 4,
     "metadata": {},
     "output_type": "execute_result"
    }
   ],
   "source": [
    "link_length_dict['0'].length"
   ]
  },
  {
   "cell_type": "code",
   "execution_count": 5,
   "metadata": {
    "collapsed": true
   },
   "outputs": [],
   "source": [
    "OD_pair_label_dict = zload('../temp_files/OD_pair_label_dict_ext.pkz')"
   ]
  },
  {
   "cell_type": "code",
   "execution_count": 28,
   "metadata": {
    "collapsed": false
   },
   "outputs": [],
   "source": [
    "OD_pair_label_dict_reduced = OD_pair_label_dict"
   ]
  },
  {
   "cell_type": "code",
   "execution_count": 29,
   "metadata": {
    "collapsed": false
   },
   "outputs": [
    {
     "data": {
      "text/plain": [
       "{'(1, 10)': 8,\n",
       " '(1, 11)': 9,\n",
       " '(1, 12)': 10,\n",
       " '(1, 13)': 11,\n",
       " '(1, 14)': 12,\n",
       " '(1, 15)': 13,\n",
       " '(1, 16)': 14,\n",
       " '(1, 17)': 15,\n",
       " '(1, 2)': 0,\n",
       " '(1, 3)': 1,\n",
       " '(1, 4)': 2,\n",
       " '(1, 5)': 3,\n",
       " '(1, 6)': 4,\n",
       " '(1, 7)': 5,\n",
       " '(1, 8)': 6,\n",
       " '(1, 9)': 7,\n",
       " '(10, 1)': 144,\n",
       " '(10, 11)': 153,\n",
       " '(10, 12)': 154,\n",
       " '(10, 13)': 155,\n",
       " '(10, 14)': 156,\n",
       " '(10, 15)': 157,\n",
       " '(10, 16)': 158,\n",
       " '(10, 17)': 159,\n",
       " '(10, 2)': 145,\n",
       " '(10, 3)': 146,\n",
       " '(10, 4)': 147,\n",
       " '(10, 5)': 148,\n",
       " '(10, 6)': 149,\n",
       " '(10, 7)': 150,\n",
       " '(10, 8)': 151,\n",
       " '(10, 9)': 152,\n",
       " '(11, 1)': 160,\n",
       " '(11, 10)': 169,\n",
       " '(11, 12)': 170,\n",
       " '(11, 13)': 171,\n",
       " '(11, 14)': 172,\n",
       " '(11, 15)': 173,\n",
       " '(11, 16)': 174,\n",
       " '(11, 17)': 175,\n",
       " '(11, 2)': 161,\n",
       " '(11, 3)': 162,\n",
       " '(11, 4)': 163,\n",
       " '(11, 5)': 164,\n",
       " '(11, 6)': 165,\n",
       " '(11, 7)': 166,\n",
       " '(11, 8)': 167,\n",
       " '(11, 9)': 168,\n",
       " '(12, 1)': 176,\n",
       " '(12, 10)': 185,\n",
       " '(12, 11)': 186,\n",
       " '(12, 13)': 187,\n",
       " '(12, 14)': 188,\n",
       " '(12, 15)': 189,\n",
       " '(12, 16)': 190,\n",
       " '(12, 17)': 191,\n",
       " '(12, 2)': 177,\n",
       " '(12, 3)': 178,\n",
       " '(12, 4)': 179,\n",
       " '(12, 5)': 180,\n",
       " '(12, 6)': 181,\n",
       " '(12, 7)': 182,\n",
       " '(12, 8)': 183,\n",
       " '(12, 9)': 184,\n",
       " '(13, 1)': 192,\n",
       " '(13, 10)': 201,\n",
       " '(13, 11)': 202,\n",
       " '(13, 12)': 203,\n",
       " '(13, 14)': 204,\n",
       " '(13, 15)': 205,\n",
       " '(13, 16)': 206,\n",
       " '(13, 17)': 207,\n",
       " '(13, 2)': 193,\n",
       " '(13, 3)': 194,\n",
       " '(13, 4)': 195,\n",
       " '(13, 5)': 196,\n",
       " '(13, 6)': 197,\n",
       " '(13, 7)': 198,\n",
       " '(13, 8)': 199,\n",
       " '(13, 9)': 200,\n",
       " '(14, 1)': 208,\n",
       " '(14, 10)': 217,\n",
       " '(14, 11)': 218,\n",
       " '(14, 12)': 219,\n",
       " '(14, 13)': 220,\n",
       " '(14, 15)': 221,\n",
       " '(14, 16)': 222,\n",
       " '(14, 17)': 223,\n",
       " '(14, 2)': 209,\n",
       " '(14, 3)': 210,\n",
       " '(14, 4)': 211,\n",
       " '(14, 5)': 212,\n",
       " '(14, 6)': 213,\n",
       " '(14, 7)': 214,\n",
       " '(14, 8)': 215,\n",
       " '(14, 9)': 216,\n",
       " '(15, 1)': 224,\n",
       " '(15, 10)': 233,\n",
       " '(15, 11)': 234,\n",
       " '(15, 12)': 235,\n",
       " '(15, 13)': 236,\n",
       " '(15, 14)': 237,\n",
       " '(15, 16)': 238,\n",
       " '(15, 17)': 239,\n",
       " '(15, 2)': 225,\n",
       " '(15, 3)': 226,\n",
       " '(15, 4)': 227,\n",
       " '(15, 5)': 228,\n",
       " '(15, 6)': 229,\n",
       " '(15, 7)': 230,\n",
       " '(15, 8)': 231,\n",
       " '(15, 9)': 232,\n",
       " '(16, 1)': 240,\n",
       " '(16, 10)': 249,\n",
       " '(16, 11)': 250,\n",
       " '(16, 12)': 251,\n",
       " '(16, 13)': 252,\n",
       " '(16, 14)': 253,\n",
       " '(16, 15)': 254,\n",
       " '(16, 17)': 255,\n",
       " '(16, 2)': 241,\n",
       " '(16, 3)': 242,\n",
       " '(16, 4)': 243,\n",
       " '(16, 5)': 244,\n",
       " '(16, 6)': 245,\n",
       " '(16, 7)': 246,\n",
       " '(16, 8)': 247,\n",
       " '(16, 9)': 248,\n",
       " '(17, 1)': 256,\n",
       " '(17, 10)': 265,\n",
       " '(17, 11)': 266,\n",
       " '(17, 12)': 267,\n",
       " '(17, 13)': 268,\n",
       " '(17, 14)': 269,\n",
       " '(17, 15)': 270,\n",
       " '(17, 16)': 271,\n",
       " '(17, 2)': 257,\n",
       " '(17, 3)': 258,\n",
       " '(17, 4)': 259,\n",
       " '(17, 5)': 260,\n",
       " '(17, 6)': 261,\n",
       " '(17, 7)': 262,\n",
       " '(17, 8)': 263,\n",
       " '(17, 9)': 264,\n",
       " '(2, 1)': 16,\n",
       " '(2, 10)': 24,\n",
       " '(2, 11)': 25,\n",
       " '(2, 12)': 26,\n",
       " '(2, 13)': 27,\n",
       " '(2, 14)': 28,\n",
       " '(2, 15)': 29,\n",
       " '(2, 16)': 30,\n",
       " '(2, 17)': 31,\n",
       " '(2, 3)': 17,\n",
       " '(2, 4)': 18,\n",
       " '(2, 5)': 19,\n",
       " '(2, 6)': 20,\n",
       " '(2, 7)': 21,\n",
       " '(2, 8)': 22,\n",
       " '(2, 9)': 23,\n",
       " '(3, 1)': 32,\n",
       " '(3, 10)': 40,\n",
       " '(3, 11)': 41,\n",
       " '(3, 12)': 42,\n",
       " '(3, 13)': 43,\n",
       " '(3, 14)': 44,\n",
       " '(3, 15)': 45,\n",
       " '(3, 16)': 46,\n",
       " '(3, 17)': 47,\n",
       " '(3, 2)': 33,\n",
       " '(3, 4)': 34,\n",
       " '(3, 5)': 35,\n",
       " '(3, 6)': 36,\n",
       " '(3, 7)': 37,\n",
       " '(3, 8)': 38,\n",
       " '(3, 9)': 39,\n",
       " '(4, 1)': 48,\n",
       " '(4, 10)': 56,\n",
       " '(4, 11)': 57,\n",
       " '(4, 12)': 58,\n",
       " '(4, 13)': 59,\n",
       " '(4, 14)': 60,\n",
       " '(4, 15)': 61,\n",
       " '(4, 16)': 62,\n",
       " '(4, 17)': 63,\n",
       " '(4, 2)': 49,\n",
       " '(4, 3)': 50,\n",
       " '(4, 5)': 51,\n",
       " '(4, 6)': 52,\n",
       " '(4, 7)': 53,\n",
       " '(4, 8)': 54,\n",
       " '(4, 9)': 55,\n",
       " '(5, 1)': 64,\n",
       " '(5, 10)': 72,\n",
       " '(5, 11)': 73,\n",
       " '(5, 12)': 74,\n",
       " '(5, 13)': 75,\n",
       " '(5, 14)': 76,\n",
       " '(5, 15)': 77,\n",
       " '(5, 16)': 78,\n",
       " '(5, 17)': 79,\n",
       " '(5, 2)': 65,\n",
       " '(5, 3)': 66,\n",
       " '(5, 4)': 67,\n",
       " '(5, 6)': 68,\n",
       " '(5, 7)': 69,\n",
       " '(5, 8)': 70,\n",
       " '(5, 9)': 71,\n",
       " '(6, 1)': 80,\n",
       " '(6, 10)': 88,\n",
       " '(6, 11)': 89,\n",
       " '(6, 12)': 90,\n",
       " '(6, 13)': 91,\n",
       " '(6, 14)': 92,\n",
       " '(6, 15)': 93,\n",
       " '(6, 16)': 94,\n",
       " '(6, 17)': 95,\n",
       " '(6, 2)': 81,\n",
       " '(6, 3)': 82,\n",
       " '(6, 4)': 83,\n",
       " '(6, 5)': 84,\n",
       " '(6, 7)': 85,\n",
       " '(6, 8)': 86,\n",
       " '(6, 9)': 87,\n",
       " '(7, 1)': 96,\n",
       " '(7, 10)': 104,\n",
       " '(7, 11)': 105,\n",
       " '(7, 12)': 106,\n",
       " '(7, 13)': 107,\n",
       " '(7, 14)': 108,\n",
       " '(7, 15)': 109,\n",
       " '(7, 16)': 110,\n",
       " '(7, 17)': 111,\n",
       " '(7, 2)': 97,\n",
       " '(7, 3)': 98,\n",
       " '(7, 4)': 99,\n",
       " '(7, 5)': 100,\n",
       " '(7, 6)': 101,\n",
       " '(7, 8)': 102,\n",
       " '(7, 9)': 103,\n",
       " '(8, 1)': 112,\n",
       " '(8, 10)': 120,\n",
       " '(8, 11)': 121,\n",
       " '(8, 12)': 122,\n",
       " '(8, 13)': 123,\n",
       " '(8, 14)': 124,\n",
       " '(8, 15)': 125,\n",
       " '(8, 16)': 126,\n",
       " '(8, 17)': 127,\n",
       " '(8, 2)': 113,\n",
       " '(8, 3)': 114,\n",
       " '(8, 4)': 115,\n",
       " '(8, 5)': 116,\n",
       " '(8, 6)': 117,\n",
       " '(8, 7)': 118,\n",
       " '(8, 9)': 119,\n",
       " '(9, 1)': 128,\n",
       " '(9, 10)': 136,\n",
       " '(9, 11)': 137,\n",
       " '(9, 12)': 138,\n",
       " '(9, 13)': 139,\n",
       " '(9, 14)': 140,\n",
       " '(9, 15)': 141,\n",
       " '(9, 16)': 142,\n",
       " '(9, 17)': 143,\n",
       " '(9, 2)': 129,\n",
       " '(9, 3)': 130,\n",
       " '(9, 4)': 131,\n",
       " '(9, 5)': 132,\n",
       " '(9, 6)': 133,\n",
       " '(9, 7)': 134,\n",
       " '(9, 8)': 135}"
      ]
     },
     "execution_count": 29,
     "metadata": {},
     "output_type": "execute_result"
    }
   ],
   "source": [
    "\n",
    "\n",
    "\n",
    "OD_pair_label_dict_reduced\n"
   ]
  },
  {
   "cell_type": "code",
   "execution_count": 7,
   "metadata": {
    "collapsed": false
   },
   "outputs": [],
   "source": [
    "OD_links_dict = zload('../temp_files/OD_links_dict_ext.pkz')"
   ]
  },
  {
   "cell_type": "code",
   "execution_count": 8,
   "metadata": {
    "collapsed": false
   },
   "outputs": [
    {
     "data": {
      "text/plain": [
       "([[0]], [[2], [0, 4]], [[0, 6], [2, 5, 6], [2, 8, 11]])"
      ]
     },
     "execution_count": 8,
     "metadata": {},
     "output_type": "execute_result"
    }
   ],
   "source": [
    "OD_links_dict['O-D pair (1, 2)'], \\\n",
    "OD_links_dict['O-D pair (1, 3)'], \\\n",
    "OD_links_dict['O-D pair (1, 4)']"
   ]
  },
  {
   "cell_type": "code",
   "execution_count": 9,
   "metadata": {
    "collapsed": false
   },
   "outputs": [],
   "source": [
    "routes_dict = zload('../temp_files/routes_dict_ext.pkz')\n",
    "routes_dict_ = zload('../temp_files/routes_dict__ext.pkz')"
   ]
  },
  {
   "cell_type": "code",
   "execution_count": 10,
   "metadata": {
    "collapsed": false
   },
   "outputs": [
    {
     "data": {
      "text/plain": [
       "([2, 8, 11], 5)"
      ]
     },
     "execution_count": 10,
     "metadata": {},
     "output_type": "execute_result"
    }
   ],
   "source": [
    "routes_dict['5'], routes_dict_[str([2, 8, 11])]"
   ]
  },
  {
   "cell_type": "code",
   "execution_count": 11,
   "metadata": {
    "collapsed": false
   },
   "outputs": [],
   "source": [
    "ODpair_routes = zload('../temp_files/ODpair_routes_ext.pkz')"
   ]
  },
  {
   "cell_type": "code",
   "execution_count": 12,
   "metadata": {
    "collapsed": false
   },
   "outputs": [
    {
     "data": {
      "text/plain": [
       "[6, 7, 8]"
      ]
     },
     "execution_count": 12,
     "metadata": {},
     "output_type": "execute_result"
    }
   ],
   "source": [
    "ODpair_routes['O-D pair (1, 5)']"
   ]
  },
  {
   "cell_type": "code",
   "execution_count": 13,
   "metadata": {
    "collapsed": false
   },
   "outputs": [],
   "source": [
    "route_length_dict = zload('../temp_files/route_length_dict_ext.pkz')"
   ]
  },
  {
   "cell_type": "code",
   "execution_count": 14,
   "metadata": {
    "collapsed": false
   },
   "outputs": [
    {
     "data": {
      "text/plain": [
       "30.553614588975385"
      ]
     },
     "execution_count": 14,
     "metadata": {},
     "output_type": "execute_result"
    }
   ],
   "source": [
    "route_length_dict['10']"
   ]
  },
  {
   "cell_type": "code",
   "execution_count": 15,
   "metadata": {
    "collapsed": false
   },
   "outputs": [],
   "source": [
    "import numpy as np\n",
    "\n",
    "# number of links\n",
    "num_links = 64\n",
    "# number of routes (obtained by counting the rows with '->' in 'path-link_incidence.txt')\n",
    "num_routes = len(routes_dict)\n",
    "\n",
    "# initialize the path-link incidence matrix\n",
    "A = np.zeros((num_links, num_routes))\n",
    "\n",
    "##### create path-link incidence matrix A\n",
    "# path counts\n",
    "j = 0  \n",
    "for r in range(num_routes):\n",
    "    for m in range(num_links):\n",
    "        if m in routes_dict[str(r)]:\n",
    "            A[m, r] = 1\n",
    "    j += 1\n",
    "assert(j == num_routes)\n",
    "\n",
    "zdump(A, '../temp_files/path-link_incidence_matrix_ext.pkz')"
   ]
  },
  {
   "cell_type": "code",
   "execution_count": 16,
   "metadata": {
    "collapsed": false
   },
   "outputs": [
    {
     "data": {
      "text/plain": [
       "(64, 1499, 0.0)"
      ]
     },
     "execution_count": 16,
     "metadata": {},
     "output_type": "execute_result"
    }
   ],
   "source": [
    "np.size(A, 0), np.size(A, 1), A[12, 5]"
   ]
  },
  {
   "cell_type": "code",
   "execution_count": 17,
   "metadata": {
    "collapsed": false
   },
   "outputs": [
    {
     "data": {
      "text/plain": [
       "[6, 7, 8]"
      ]
     },
     "execution_count": 17,
     "metadata": {},
     "output_type": "execute_result"
    }
   ],
   "source": [
    "ODpair_routes['O-D pair (1, 5)']"
   ]
  },
  {
   "cell_type": "code",
   "execution_count": 18,
   "metadata": {
    "collapsed": true
   },
   "outputs": [],
   "source": [
    "OD_pair_label_dict_ = zload('../temp_files/OD_pair_label_dict__ext.pkz')\n",
    "OD_pair_label_dict = zload('../temp_files/OD_pair_label_dict_ext.pkz')"
   ]
  },
  {
   "cell_type": "code",
   "execution_count": 19,
   "metadata": {
    "collapsed": false
   },
   "outputs": [
    {
     "data": {
      "text/plain": [
       "((1, 2), 0)"
      ]
     },
     "execution_count": 19,
     "metadata": {},
     "output_type": "execute_result"
    }
   ],
   "source": [
    "OD_pair_label_dict_['0'], OD_pair_label_dict['(1, 2)']"
   ]
  },
  {
   "cell_type": "code",
   "execution_count": 20,
   "metadata": {
    "collapsed": false
   },
   "outputs": [],
   "source": [
    "# calculate route choice probability matrix P\n",
    "\n",
    "from math import exp\n",
    "\n",
    "# number of O-D pairs\n",
    "num_ODpairs = 17 * (17 - 1)\n",
    "\n",
    "\n",
    "# logit choice parameter\n",
    "theta = 0.5\n",
    "\n",
    "P = np.zeros((num_ODpairs, num_routes))\n",
    "for i in range(num_ODpairs):\n",
    "    key = 'O-D pair ' + str(OD_pair_label_dict_[str(i)])\n",
    "    for r in ODpair_routes[key]:\n",
    "        P[i, r] = exp(- theta * route_length_dict[str(r)]) / \\\n",
    "                    sum([exp(- theta * route_length_dict[str(j)]) \\\n",
    "                         for j in ODpair_routes[key]])\n",
    "zdump(P, '../temp_files/logit_route_choice_probability_matrix_ext.pkz')"
   ]
  },
  {
   "cell_type": "code",
   "execution_count": 21,
   "metadata": {
    "collapsed": false
   },
   "outputs": [
    {
     "data": {
      "text/plain": [
       "(272, 1499)"
      ]
     },
     "execution_count": 21,
     "metadata": {},
     "output_type": "execute_result"
    }
   ],
   "source": [
    "np.size(P, 0), np.size(P, 1)"
   ]
  },
  {
   "cell_type": "code",
   "execution_count": 22,
   "metadata": {
    "collapsed": false
   },
   "outputs": [
    {
     "data": {
      "text/plain": [
       "([6, 7, 8], 3)"
      ]
     },
     "execution_count": 22,
     "metadata": {},
     "output_type": "execute_result"
    }
   ],
   "source": [
    "ODpair_routes['O-D pair (1, 5)'], OD_pair_label_dict['(1, 5)']"
   ]
  },
  {
   "cell_type": "code",
   "execution_count": 23,
   "metadata": {
    "collapsed": false
   },
   "outputs": [
    {
     "data": {
      "text/plain": [
       "(0.99815583185391132,\n",
       " 0.0011575928958337549,\n",
       " 0.00068657525025493226,\n",
       " 21.864729052807235,\n",
       " 35.38386235066037,\n",
       " 36.428626760188095)"
      ]
     },
     "execution_count": 23,
     "metadata": {},
     "output_type": "execute_result"
    }
   ],
   "source": [
    "P[3, 6], P[3, 7], P[3, 8], route_length_dict[str(6)], route_length_dict[str(7)], route_length_dict[str(8)]"
   ]
  },
  {
   "cell_type": "code",
   "execution_count": 24,
   "metadata": {
    "collapsed": false
   },
   "outputs": [
    {
     "data": {
      "text/plain": [
       "(64, 258)"
      ]
     },
     "execution_count": 24,
     "metadata": {},
     "output_type": "execute_result"
    }
   ],
   "source": [
    "np.linalg.matrix_rank(A), np.linalg.matrix_rank(P)"
   ]
  },
  {
   "cell_type": "code",
   "execution_count": 25,
   "metadata": {
    "collapsed": false
   },
   "outputs": [
    {
     "name": "stdout",
     "output_type": "stream",
     "text": [
      "258\n",
      "sizes of P are: \n",
      "272\n",
      "1499\n",
      "rank of A is: \n",
      "64\n",
      "sizes of A are: \n",
      "64\n",
      "1499\n",
      "rank of PA_t is: \n",
      "54\n"
     ]
    }
   ],
   "source": [
    "A_t = np.transpose(A)\n",
    "P_t = np.transpose(P)\n",
    "# PA'\n",
    "PA_t = np.dot(P, A_t)\n",
    "print(matrix_rank(P))\n",
    "print(\"sizes of P are: \")\n",
    "print(np.size(P, 0))\n",
    "print(np.size(P, 1))\n",
    "print(\"rank of A is: \")\n",
    "print(matrix_rank(A))\n",
    "print(\"sizes of A are: \")\n",
    "print(np.size(A, 0))\n",
    "print(np.size(A, 1))\n",
    "print(\"rank of PA_t is: \")\n",
    "print(matrix_rank(PA_t))"
   ]
  },
  {
   "cell_type": "code",
   "execution_count": 1,
   "metadata": {
    "collapsed": false
   },
   "outputs": [
    {
     "data": {
      "text/plain": [
       "272"
      ]
     },
     "execution_count": 1,
     "metadata": {},
     "output_type": "execute_result"
    }
   ],
   "source": [
    "17 * 16"
   ]
  },
  {
   "cell_type": "code",
   "execution_count": null,
   "metadata": {
    "collapsed": true
   },
   "outputs": [],
   "source": []
  }
 ],
 "metadata": {
  "kernelspec": {
   "display_name": "Python 2",
   "language": "python",
   "name": "python2"
  },
  "language_info": {
   "codemirror_mode": {
    "name": "ipython",
    "version": 2
   },
   "file_extension": ".py",
   "mimetype": "text/x-python",
   "name": "python",
   "nbconvert_exporter": "python",
   "pygments_lexer": "ipython2",
   "version": "2.7.11"
  }
 },
 "nbformat": 4,
 "nbformat_minor": 0
}
