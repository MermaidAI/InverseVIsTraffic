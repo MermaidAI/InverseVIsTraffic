{
 "cells": [
  {
   "cell_type": "code",
   "execution_count": 1,
   "metadata": {
    "collapsed": false
   },
   "outputs": [
    {
     "name": "stdout",
     "output_type": "stream",
     "text": [
      "No dicts found; please check load_dicts...\n"
     ]
    }
   ],
   "source": [
    "%run ../Python_files/util.py"
   ]
  },
  {
   "cell_type": "code",
   "execution_count": 2,
   "metadata": {
    "collapsed": true
   },
   "outputs": [],
   "source": [
    "# number of links\n",
    "m = 74"
   ]
  },
  {
   "cell_type": "code",
   "execution_count": 3,
   "metadata": {
    "collapsed": true
   },
   "outputs": [],
   "source": [
    "node_neighbors_dict = {}\n",
    "\n",
    "node_neighbors_dict['1'] = [2, 3]\n",
    "node_neighbors_dict['2'] = [1, 3, 4]\n",
    "node_neighbors_dict['3'] = [1, 2, 6]\n",
    "node_neighbors_dict['4'] = [2, 5, 6, 7, 18]\n",
    "node_neighbors_dict['5'] = [4, 8, 9]\n",
    "node_neighbors_dict['6'] = [3, 4, 7]\n",
    "node_neighbors_dict['7'] = [4, 6, 9, 11, 18]\n",
    "node_neighbors_dict['8'] = [5, 10, 12]\n",
    "node_neighbors_dict['9'] = [5, 7, 10]\n",
    "node_neighbors_dict['10'] = [8, 9, 11, 13]\n",
    "node_neighbors_dict['11'] = [7, 10, 14]\n",
    "node_neighbors_dict['12'] = [8, 13, 15, 19, 20]\n",
    "node_neighbors_dict['13'] = [10, 12, 14, 16, 19, 20, 21]\n",
    "node_neighbors_dict['14'] = [11, 13, 16, 21, 22]\n",
    "node_neighbors_dict['15'] = [12, 13, 17]\n",
    "node_neighbors_dict['16'] = [13, 14, 17, 22]\n",
    "node_neighbors_dict['17'] = [15, 16]\n",
    "node_neighbors_dict['18'] = [4, 7]\n",
    "node_neighbors_dict['19'] = [12, 13]\n",
    "node_neighbors_dict['20'] = [12, 13]\n",
    "node_neighbors_dict['21'] = [13, 14]\n",
    "node_neighbors_dict['22'] = [14, 16]"
   ]
  },
  {
   "cell_type": "code",
   "execution_count": 4,
   "metadata": {
    "collapsed": false
   },
   "outputs": [
    {
     "name": "stdout",
     "output_type": "stream",
     "text": [
      "1->2->3->6\n",
      "1->2->4->6\n"
     ]
    }
   ],
   "source": [
    "for i in node_neighbors_dict['1']:\n",
    "    for j in node_neighbors_dict['6']:\n",
    "        if j in node_neighbors_dict[str(i)]:\n",
    "            print('1->%s->%s->6'%(i,j))"
   ]
  },
  {
   "cell_type": "code",
   "execution_count": 5,
   "metadata": {
    "collapsed": true
   },
   "outputs": [],
   "source": [
    "od_pairs = []\n",
    "for i in range(23)[1:]:\n",
    "    for j in range(23)[1:]:\n",
    "        if i != j:\n",
    "            od_pairs.append([i, j])"
   ]
  },
  {
   "cell_type": "code",
   "execution_count": 6,
   "metadata": {
    "collapsed": false,
    "scrolled": true
   },
   "outputs": [],
   "source": [
    "od_pairs;"
   ]
  },
  {
   "cell_type": "code",
   "execution_count": 7,
   "metadata": {
    "collapsed": true
   },
   "outputs": [],
   "source": [
    "with open('../temp_files/path-link_incidence_ext_insert_links.txt', 'w') as the_file:\n",
    "    for od in od_pairs:\n",
    "        origi = od[0]\n",
    "        desti = od[1]\n",
    "        the_file.write('O-D pair (%s, %s):\\n'%(origi, desti))\n",
    "        if desti in node_neighbors_dict[str(origi)]:\n",
    "            the_file.write('%s->%s\\n'%(origi,desti))\n",
    "        for i in node_neighbors_dict[str(origi)]:\n",
    "            if i in node_neighbors_dict[str(desti)]:\n",
    "                flag = [origi, i, desti]\n",
    "                if len(set(flag)) == len(flag):\n",
    "                    the_file.write('%s->%s->%s\\n'%(origi,i,desti))\n",
    "            for j in node_neighbors_dict[str(i)]:\n",
    "                if j in node_neighbors_dict[str(desti)]:\n",
    "                    flag = [origi, i, j, desti]\n",
    "                    if len(set(flag)) == len(flag):\n",
    "                        the_file.write('%s->%s->%s->%s\\n'%(origi,i,j,desti))\n",
    "                for k in node_neighbors_dict[str(j)]:\n",
    "                    if k in node_neighbors_dict[str(desti)]:\n",
    "                        flag = [origi, i, j, k, desti]\n",
    "                        if len(set(flag)) == len(flag):\n",
    "                            the_file.write('%s->%s->%s->%s->%s\\n'%(origi,i,j,k,desti))\n",
    "                    for l in node_neighbors_dict[str(k)]:\n",
    "                        if l in node_neighbors_dict[str(desti)]:\n",
    "                            flag = [origi, i, j, k, l, desti]\n",
    "                            if len(set(flag)) == len(flag):\n",
    "                                the_file.write('%s->%s->%s->%s->%s->%s\\n'%(origi,i,j,k,l,desti))    \n",
    "                        for m in node_neighbors_dict[str(l)]:\n",
    "                            if m in node_neighbors_dict[str(desti)]:\n",
    "                                flag = [origi, i, j, k, l, m, desti]\n",
    "                                if len(set(flag)) == len(flag):\n",
    "                                    the_file.write('%s->%s->%s->%s->%s->%s->%s\\n'%(origi,i,j,k,l,m,desti))  \n",
    "                            for n in node_neighbors_dict[str(m)]:\n",
    "                                if n in node_neighbors_dict[str(desti)]:\n",
    "                                    flag = [origi, i, j, k, l, m, n, desti]\n",
    "                                    if len(set(flag)) == len(flag):\n",
    "                                        the_file.write('%s->%s->%s->%s->%s->%s->%s->%s\\n'%(origi,i,j,k,l,m,n,desti))\n",
    "        the_file.write('\\n')"
   ]
  },
  {
   "cell_type": "code",
   "execution_count": null,
   "metadata": {
    "collapsed": true
   },
   "outputs": [],
   "source": []
  }
 ],
 "metadata": {
  "kernelspec": {
   "display_name": "Python 2",
   "language": "python",
   "name": "python2"
  },
  "language_info": {
   "codemirror_mode": {
    "name": "ipython",
    "version": 2
   },
   "file_extension": ".py",
   "mimetype": "text/x-python",
   "name": "python",
   "nbconvert_exporter": "python",
   "pygments_lexer": "ipython2",
   "version": "2.7.12"
  }
 },
 "nbformat": 4,
 "nbformat_minor": 0
}
