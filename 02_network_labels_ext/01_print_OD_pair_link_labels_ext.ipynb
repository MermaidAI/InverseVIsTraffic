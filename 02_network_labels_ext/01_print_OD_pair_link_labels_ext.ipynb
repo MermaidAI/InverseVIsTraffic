{
 "cells": [
  {
   "cell_type": "code",
   "execution_count": 1,
   "metadata": {
    "collapsed": true
   },
   "outputs": [],
   "source": [
    "%run ../Python_files/print_OD_pair_link_labels_ext.py"
   ]
  },
  {
   "cell_type": "code",
   "execution_count": 2,
   "metadata": {
    "collapsed": true
   },
   "outputs": [],
   "source": [
    "# od pair correspondence\n",
    "OD_pair_label_dict_MA_small = zload('../temp_files/OD_pair_label_dict__MA.pkz')"
   ]
  },
  {
   "cell_type": "code",
   "execution_count": 3,
   "metadata": {
    "collapsed": false
   },
   "outputs": [],
   "source": [
    "OD_pair_label_dict_MA_small; "
   ]
  },
  {
   "cell_type": "code",
   "execution_count": 4,
   "metadata": {
    "collapsed": true
   },
   "outputs": [],
   "source": [
    "# create a dictionary mapping nodes of small network to nodes of bigger network\n",
    "nodeToNode = {}\n",
    "\n",
    "nodeList = range(9)[1:]\n",
    "nodeListExt = [1, 4, 7, 12, 13, 14, 16, 17]\n",
    "for i in nodeList:\n",
    "    nodeToNode[str(i)] = nodeListExt[i-1]\n",
    "# nodeToNode['1'] = 1\n",
    "# nodeToNode['2']"
   ]
  },
  {
   "cell_type": "code",
   "execution_count": 5,
   "metadata": {
    "collapsed": false
   },
   "outputs": [
    {
     "data": {
      "text/plain": [
       "{'1': 1, '2': 4, '3': 7, '4': 12, '5': 13, '6': 14, '7': 16, '8': 17}"
      ]
     },
     "execution_count": 5,
     "metadata": {},
     "output_type": "execute_result"
    }
   ],
   "source": [
    "nodeToNode"
   ]
  },
  {
   "cell_type": "code",
   "execution_count": 6,
   "metadata": {
    "collapsed": true
   },
   "outputs": [],
   "source": [
    "nodeListExtCentroids = [1, 4, 7, 8, 10, 12, 13, 14, 16, 17]"
   ]
  },
  {
   "cell_type": "code",
   "execution_count": 7,
   "metadata": {
    "collapsed": true
   },
   "outputs": [],
   "source": [
    "nodeListExtCentroids_paths = range(23)[1:]"
   ]
  },
  {
   "cell_type": "code",
   "execution_count": 8,
   "metadata": {
    "collapsed": false
   },
   "outputs": [],
   "source": [
    "odMap = {}\n",
    "\n",
    "idx = 0\n",
    "for i in nodeListExtCentroids:\n",
    "    for j in nodeListExtCentroids:\n",
    "        if i != j:\n",
    "            key = str(idx)\n",
    "            odMap[key] = (i, j)\n",
    "            idx += 1"
   ]
  },
  {
   "cell_type": "code",
   "execution_count": 9,
   "metadata": {
    "collapsed": false
   },
   "outputs": [],
   "source": [
    "odMap;"
   ]
  },
  {
   "cell_type": "code",
   "execution_count": 10,
   "metadata": {
    "collapsed": false
   },
   "outputs": [],
   "source": [
    "OD_pair_label_dict_ = odMap"
   ]
  },
  {
   "cell_type": "code",
   "execution_count": 11,
   "metadata": {
    "collapsed": false
   },
   "outputs": [],
   "source": [
    "OD_pair_label_dict = {}\n",
    "\n",
    "for key_ in OD_pair_label_dict_.keys():\n",
    "    key = OD_pair_label_dict_[key_]\n",
    "    OD_pair_label_dict[str(key)] = int(key_)"
   ]
  },
  {
   "cell_type": "code",
   "execution_count": 12,
   "metadata": {
    "collapsed": false
   },
   "outputs": [],
   "source": [
    "zdump(OD_pair_label_dict, '../temp_files/OD_pair_label_dict_ext.pkz')\n",
    "zdump(OD_pair_label_dict_, '../temp_files/OD_pair_label_dict__ext.pkz')"
   ]
  },
  {
   "cell_type": "code",
   "execution_count": 13,
   "metadata": {
    "collapsed": true
   },
   "outputs": [],
   "source": [
    "odMap_paths = {}\n",
    "\n",
    "idx = 0\n",
    "for i in nodeListExtCentroids_paths:\n",
    "    for j in nodeListExtCentroids_paths:\n",
    "        if i != j:\n",
    "            key = str(idx)\n",
    "            odMap_paths[key] = (i, j)\n",
    "            idx += 1"
   ]
  },
  {
   "cell_type": "code",
   "execution_count": 14,
   "metadata": {
    "collapsed": true
   },
   "outputs": [],
   "source": [
    "OD_pair_label_dict_paths_ = odMap_paths"
   ]
  },
  {
   "cell_type": "code",
   "execution_count": 15,
   "metadata": {
    "collapsed": true
   },
   "outputs": [],
   "source": [
    "OD_pair_label_dict_paths = {}\n",
    "\n",
    "for key_ in OD_pair_label_dict_paths_.keys():\n",
    "    key = OD_pair_label_dict_paths_[key_]\n",
    "    OD_pair_label_dict_paths[str(key)] = int(key_)"
   ]
  },
  {
   "cell_type": "code",
   "execution_count": 16,
   "metadata": {
    "collapsed": true
   },
   "outputs": [],
   "source": [
    "zdump(OD_pair_label_dict_paths, '../temp_files/OD_pair_label_dict_ext_paths.pkz')\n",
    "zdump(OD_pair_label_dict_paths_, '../temp_files/OD_pair_label_dict__ext_paths.pkz')"
   ]
  },
  {
   "cell_type": "code",
   "execution_count": 17,
   "metadata": {
    "collapsed": true
   },
   "outputs": [],
   "source": [
    "link_label_dict_ = zload('../temp_files/link_label_dict_ext_.pkz')"
   ]
  },
  {
   "cell_type": "code",
   "execution_count": 18,
   "metadata": {
    "collapsed": false,
    "scrolled": true
   },
   "outputs": [
    {
     "data": {
      "text/plain": [
       "{'1->2': 0,\n",
       " '1->3': 2,\n",
       " '10->11': 34,\n",
       " '10->13': 38,\n",
       " '10->8': 33,\n",
       " '10->9': 31,\n",
       " '11->10': 35,\n",
       " '11->14': 40,\n",
       " '11->7': 29,\n",
       " '12->13': 42,\n",
       " '12->15': 58,\n",
       " '12->19': 44,\n",
       " '12->20': 48,\n",
       " '12->8': 37,\n",
       " '13->10': 39,\n",
       " '13->12': 43,\n",
       " '13->14': 52,\n",
       " '13->15': 60,\n",
       " '13->16': 62,\n",
       " '13->19': 47,\n",
       " '13->20': 51,\n",
       " '13->21': 54,\n",
       " '14->11': 41,\n",
       " '14->13': 53,\n",
       " '14->16': 64,\n",
       " '14->21': 57,\n",
       " '14->22': 66,\n",
       " '15->12': 59,\n",
       " '15->13': 61,\n",
       " '15->17': 70,\n",
       " '16->13': 63,\n",
       " '16->14': 65,\n",
       " '16->17': 72,\n",
       " '16->22': 69,\n",
       " '17->15': 71,\n",
       " '17->16': 73,\n",
       " '18->4': 16,\n",
       " '18->7': 15,\n",
       " '19->12': 46,\n",
       " '19->13': 45,\n",
       " '2->1': 1,\n",
       " '2->3': 4,\n",
       " '2->4': 6,\n",
       " '20->12': 50,\n",
       " '20->13': 49,\n",
       " '21->13': 56,\n",
       " '21->14': 55,\n",
       " '22->14': 68,\n",
       " '22->16': 67,\n",
       " '3->1': 3,\n",
       " '3->2': 5,\n",
       " '3->6': 8,\n",
       " '4->18': 14,\n",
       " '4->2': 7,\n",
       " '4->5': 18,\n",
       " '4->6': 10,\n",
       " '4->7': 12,\n",
       " '5->4': 19,\n",
       " '5->8': 22,\n",
       " '5->9': 24,\n",
       " '6->3': 9,\n",
       " '6->4': 11,\n",
       " '6->7': 20,\n",
       " '7->11': 28,\n",
       " '7->18': 17,\n",
       " '7->4': 13,\n",
       " '7->6': 21,\n",
       " '7->9': 26,\n",
       " '8->10': 32,\n",
       " '8->12': 36,\n",
       " '8->5': 23,\n",
       " '9->10': 30,\n",
       " '9->5': 25,\n",
       " '9->7': 27}"
      ]
     },
     "execution_count": 18,
     "metadata": {},
     "output_type": "execute_result"
    }
   ],
   "source": [
    "link_label_dict_"
   ]
  },
  {
   "cell_type": "code",
   "execution_count": 19,
   "metadata": {
    "collapsed": true
   },
   "outputs": [],
   "source": [
    "OD_pair_label_dict_ = zload('../temp_files/OD_pair_label_dict__ext.pkz')\n",
    "OD_pair_label_dict = zload('../temp_files/OD_pair_label_dict_ext.pkz')"
   ]
  },
  {
   "cell_type": "code",
   "execution_count": 20,
   "metadata": {
    "collapsed": false
   },
   "outputs": [],
   "source": [
    "##### obtain link_length_dict_ext_insert_links\n",
    "import json\n",
    "\n",
    "with open('../temp_files/link_day_minute_Jan_dict_ext_JSON_insert_links_adjusted.json', 'r') as json_file:\n",
    "    link_day_minute_Jan_dict_ext_JSON_insert_links_adjusted = json.load(json_file)"
   ]
  },
  {
   "cell_type": "code",
   "execution_count": 21,
   "metadata": {
    "collapsed": false
   },
   "outputs": [],
   "source": [
    "link_length_dict_ext_insert_links = {}\n",
    "\n",
    "for link_idx in range(74):\n",
    "    key = 'link_' + str(link_idx) + '_' + str(1)\n",
    "    link_length_dict_ext_insert_links[str(link_idx)] = \\\n",
    "    link_day_minute_Jan_dict_ext_JSON_insert_links_adjusted[key]['length']\n",
    "    \n",
    "with open('../temp_files/link_length_dict_ext_insert_links.json', 'w') as json_file:\n",
    "    json.dump(link_length_dict_ext_insert_links, json_file)"
   ]
  },
  {
   "cell_type": "code",
   "execution_count": 22,
   "metadata": {
    "collapsed": false,
    "scrolled": true
   },
   "outputs": [
    {
     "data": {
      "text/plain": [
       "74"
      ]
     },
     "execution_count": 22,
     "metadata": {},
     "output_type": "execute_result"
    }
   ],
   "source": [
    "len(link_length_dict_ext_insert_links)"
   ]
  },
  {
   "cell_type": "code",
   "execution_count": 23,
   "metadata": {
    "collapsed": false
   },
   "outputs": [],
   "source": [
    "with open('../temp_files/path-link_incidence_ext_insert_links.txt', 'r') as the_file:\n",
    "    # path counts\n",
    "    i = 0  \n",
    "    for row in the_file:\n",
    "        if '->' in row:\n",
    "            i = i + 1"
   ]
  },
  {
   "cell_type": "code",
   "execution_count": 24,
   "metadata": {
    "collapsed": false
   },
   "outputs": [
    {
     "data": {
      "text/plain": [
       "462"
      ]
     },
     "execution_count": 24,
     "metadata": {},
     "output_type": "execute_result"
    }
   ],
   "source": [
    "i"
   ]
  }
 ],
 "metadata": {
  "kernelspec": {
   "display_name": "Python 2",
   "language": "python",
   "name": "python2"
  },
  "language_info": {
   "codemirror_mode": {
    "name": "ipython",
    "version": 2
   },
   "file_extension": ".py",
   "mimetype": "text/x-python",
   "name": "python",
   "nbconvert_exporter": "python",
   "pygments_lexer": "ipython2",
   "version": "2.7.12"
  }
 },
 "nbformat": 4,
 "nbformat_minor": 0
}
