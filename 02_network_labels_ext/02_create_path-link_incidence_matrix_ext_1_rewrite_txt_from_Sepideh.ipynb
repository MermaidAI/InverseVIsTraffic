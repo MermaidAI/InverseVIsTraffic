{
 "cells": [
  {
   "cell_type": "code",
   "execution_count": 14,
   "metadata": {
    "collapsed": false
   },
   "outputs": [],
   "source": [
    "# read in the path-link incidence file \n",
    "# create path-link incidence matrix A\n",
    "with open('../temp_files/path-link_incidence_ext_.txt', 'r') as the_file_:\n",
    "    with open('../temp_files/path-link_incidence_ext.txt', 'w') as the_file:\n",
    "#         print(the_file_)\n",
    "#         i = 0\n",
    "        for row in the_file_:\n",
    "            if (':' in row):\n",
    "                path_list_0 = row.split(': ')[1].split(',')\n",
    "                \n",
    "                path_list_1 = []  # deal with '\\n'\n",
    "                for path in path_list_0:\n",
    "                    if ('\\n' in path):\n",
    "                        path = path.split('\\n')[0]\n",
    "                    path_list_1.append(path)\n",
    "#                 print(path_list_1)\n",
    "                \n",
    "                path_list_2 = []  # deal with multiple links between (4, 7)\n",
    "                j = 0\n",
    "                for path in path_list_1:\n",
    "                    if ('4->7' in path):\n",
    "                        j += 1\n",
    "                        path = path.replace('4->7', '4->7#%s'%(j))\n",
    "                    path_list_2.append(path)\n",
    "#                 print(path_list_2)\n",
    "                \n",
    "                path_list_3 = []  # deal with multiple links between (7, 4)\n",
    "                j = 0\n",
    "                for path in path_list_2:\n",
    "                    if ('7->4' in path):\n",
    "                        j += 1\n",
    "                        path = path.replace('7->4', '7->4#%s'%(j))\n",
    "                    path_list_3.append(path)\n",
    "#                 print(path_list_3)\n",
    "                \n",
    "                path_list_4 = []  # deal with multiple links between (12, 13)\n",
    "                j = 0\n",
    "                for path in path_list_3:\n",
    "                    if ('12->13' in path):\n",
    "                        j += 1\n",
    "                        path = path.replace('12->13', '12->13#%s'%(j))\n",
    "                    path_list_4.append(path)\n",
    "#                 print(path_list_4)\n",
    "                \n",
    "                path_list_5 = []  # deal with multiple links between (13, 12)\n",
    "                j = 0\n",
    "                for path in path_list_4:\n",
    "                    if ('13->12' in path):\n",
    "                        j += 1\n",
    "                        path = path.replace('13->12', '13->12#%s'%(j))\n",
    "                    path_list_5.append(path)\n",
    "#                 print(path_list_5)\n",
    "                \n",
    "                path_list_6 = []  # deal with multiple links between (13, 14)\n",
    "                j = 0\n",
    "                for path in path_list_5:\n",
    "                    if ('13->14' in path):\n",
    "                        j += 1\n",
    "                        path = path.replace('13->14', '13->14#%s'%(j))\n",
    "                    path_list_6.append(path)\n",
    "#                 print(path_list_6)\n",
    "                \n",
    "                path_list_7 = []  # deal with multiple links between (14, 13)\n",
    "                j = 0\n",
    "                for path in path_list_6:\n",
    "                    if ('14->13' in path):\n",
    "                        j += 1\n",
    "                        path = path.replace('14->13', '14->13#%s'%(j))\n",
    "                    path_list_7.append(path)\n",
    "#                 print(path_list_7)\n",
    "                \n",
    "                path_list_8 = []  # deal with multiple links between (14, 16)\n",
    "                j = 0\n",
    "                for path in path_list_7:\n",
    "                    if ('14->16' in path):\n",
    "                        j += 1\n",
    "                        path = path.replace('14->16', '14->16#%s'%(j))\n",
    "                    path_list_8.append(path)\n",
    "#                 print(path_list_8)\n",
    "                \n",
    "                path_list_9 = []  # deal with multiple links between (16, 14)\n",
    "                j = 0\n",
    "                for path in path_list_8:\n",
    "                    if ('16->14' in path):\n",
    "                        j += 1\n",
    "                        path = path.replace('16->14', '16->14#%s'%(j))\n",
    "                    path_list_9.append(path)\n",
    "#                 print(path_list_9)\n",
    "                \n",
    "#                 i += 1\n",
    "#             if i == 2:\n",
    "#                 assert(1==2)\n",
    "\n",
    "                the_file.write(row.split(': ')[0] + ':\\n')\n",
    "                row_len = len(path_list_9)\n",
    "                for idx in range(row_len):\n",
    "                    the_file.write(path_list_9[idx] + '\\n')\n",
    "                the_file.write('\\n')"
   ]
  },
  {
   "cell_type": "code",
   "execution_count": 15,
   "metadata": {
    "collapsed": false
   },
   "outputs": [
    {
     "name": "stdout",
     "output_type": "stream",
     "text": [
      "2462\n"
     ]
    }
   ],
   "source": [
    "with open('../temp_files/path-link_incidence_ext.txt', 'r') as the_file:\n",
    "    # path counts\n",
    "    i = 0  \n",
    "    for row in the_file:\n",
    "        if '->' in row:\n",
    "            i = i + 1\n",
    "print(i)"
   ]
  },
  {
   "cell_type": "code",
   "execution_count": null,
   "metadata": {
    "collapsed": true
   },
   "outputs": [],
   "source": []
  }
 ],
 "metadata": {
  "kernelspec": {
   "display_name": "Python 2",
   "language": "python",
   "name": "python2"
  },
  "language_info": {
   "codemirror_mode": {
    "name": "ipython",
    "version": 2
   },
   "file_extension": ".py",
   "mimetype": "text/x-python",
   "name": "python",
   "nbconvert_exporter": "python",
   "pygments_lexer": "ipython2",
   "version": "2.7.11"
  }
 },
 "nbformat": 4,
 "nbformat_minor": 0
}
