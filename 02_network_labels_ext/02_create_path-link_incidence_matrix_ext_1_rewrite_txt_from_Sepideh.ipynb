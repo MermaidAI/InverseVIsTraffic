{
 "cells": [
  {
   "cell_type": "code",
   "execution_count": 1,
   "metadata": {
    "collapsed": false
   },
   "outputs": [
    {
     "name": "stdout",
     "output_type": "stream",
     "text": [
      "<open file '../temp_files/path-link_incidence_ext_.txt', mode 'r' at 0x7ff4b67e3d20>\n"
     ]
    }
   ],
   "source": [
    "# read in the path-link incidence file \n",
    "# create path-link incidence matrix A\n",
    "with open('../temp_files/path-link_incidence_ext_.txt', 'r') as the_file_:\n",
    "    with open('../temp_files/path-link_incidence_ext.txt', 'w') as the_file:\n",
    "        print(the_file_)\n",
    "        for row in the_file_:\n",
    "            if (':' in row):\n",
    "                the_file.write(row.split(': ')[0] + ':\\n')\n",
    "                row_len = len(row.split(': ')[1].split(','))\n",
    "                for idx in range(row_len):\n",
    "                    the_file.write(row.split(': ')[1].split(',')[idx] + '\\n')\n",
    "                the_file.write('\\n')"
   ]
  }
 ],
 "metadata": {
  "kernelspec": {
   "display_name": "Python 2",
   "language": "python",
   "name": "python2"
  },
  "language_info": {
   "codemirror_mode": {
    "name": "ipython",
    "version": 2
   },
   "file_extension": ".py",
   "mimetype": "text/x-python",
   "name": "python",
   "nbconvert_exporter": "python",
   "pygments_lexer": "ipython2",
   "version": "2.7.11"
  }
 },
 "nbformat": 4,
 "nbformat_minor": 0
}
