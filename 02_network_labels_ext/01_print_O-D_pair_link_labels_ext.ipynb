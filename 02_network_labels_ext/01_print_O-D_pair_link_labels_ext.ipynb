{
 "cells": [
  {
   "cell_type": "code",
   "execution_count": 1,
   "metadata": {
    "collapsed": true
   },
   "outputs": [],
   "source": [
    "%run ../Python_files/print_O-D_pair_link_labels_ext.py"
   ]
  },
  {
   "cell_type": "code",
   "execution_count": 2,
   "metadata": {
    "collapsed": true
   },
   "outputs": [],
   "source": [
    "link_label_dict_ = zload('../temp_files/link_label_dict_ext_.pkz')"
   ]
  },
  {
   "cell_type": "code",
   "execution_count": 3,
   "metadata": {
    "collapsed": false,
    "scrolled": true
   },
   "outputs": [],
   "source": [
    "link_label_dict_;"
   ]
  },
  {
   "cell_type": "code",
   "execution_count": 4,
   "metadata": {
    "collapsed": true
   },
   "outputs": [],
   "source": [
    "OD_pair_label_dict_ = zload('../temp_files/OD_pair_label_dict__ext.pkz')\n",
    "OD_pair_label_dict = zload('../temp_files/OD_pair_label_dict_ext.pkz')"
   ]
  },
  {
   "cell_type": "code",
   "execution_count": 5,
   "metadata": {
    "collapsed": false
   },
   "outputs": [],
   "source": [
    "fictitious_OD_list = []\n",
    "for key in OD_pair_label_dict.keys():\n",
    "    if ('18' in key) or ('19' in key) or ('20' in key) or ('21' in key) or ('22' in key):\n",
    "        fictitious_OD_list.append(OD_pair_label_dict[key])\n",
    "\n",
    "zdump(fictitious_OD_list, '../temp_files/fictitious_OD_list')"
   ]
  },
  {
   "cell_type": "code",
   "execution_count": 6,
   "metadata": {
    "collapsed": false
   },
   "outputs": [],
   "source": [
    "##### obtain link_length_dict_ext_insert_links\n",
    "import json\n",
    "\n",
    "with open('../temp_files/link_day_minute_Jan_dict_ext_JSON_insert_links_adjusted.json', 'r') as json_file:\n",
    "    link_day_minute_Jan_dict_ext_JSON_insert_links_adjusted = json.load(json_file)"
   ]
  },
  {
   "cell_type": "code",
   "execution_count": 7,
   "metadata": {
    "collapsed": false
   },
   "outputs": [],
   "source": [
    "link_length_dict_ext_insert_links = {}\n",
    "\n",
    "for link_idx in range(74):\n",
    "    key = 'link_' + str(link_idx) + '_' + str(1)\n",
    "    link_length_dict_ext_insert_links[str(link_idx)] = \\\n",
    "    link_day_minute_Jan_dict_ext_JSON_insert_links_adjusted[key]['length']\n",
    "    \n",
    "with open('../temp_files/link_length_dict_ext_insert_links.json', 'w') as json_file:\n",
    "    json.dump(link_length_dict_ext_insert_links, json_file)"
   ]
  },
  {
   "cell_type": "code",
   "execution_count": 8,
   "metadata": {
    "collapsed": false,
    "scrolled": true
   },
   "outputs": [],
   "source": [
    "link_length_dict_ext_insert_links;"
   ]
  },
  {
   "cell_type": "code",
   "execution_count": 9,
   "metadata": {
    "collapsed": false
   },
   "outputs": [],
   "source": [
    "with open('../temp_files/path-link_incidence_ext_insert_links.txt', 'r') as the_file:\n",
    "    # path counts\n",
    "    i = 0  \n",
    "    for row in the_file:\n",
    "        if '->' in row:\n",
    "            i = i + 1"
   ]
  },
  {
   "cell_type": "code",
   "execution_count": 10,
   "metadata": {
    "collapsed": false
   },
   "outputs": [
    {
     "data": {
      "text/plain": [
       "16028"
      ]
     },
     "execution_count": 10,
     "metadata": {},
     "output_type": "execute_result"
    }
   ],
   "source": [
    "i"
   ]
  },
  {
   "cell_type": "code",
   "execution_count": null,
   "metadata": {
    "collapsed": true
   },
   "outputs": [],
   "source": []
  }
 ],
 "metadata": {
  "kernelspec": {
   "display_name": "Python 2",
   "language": "python",
   "name": "python2"
  },
  "language_info": {
   "codemirror_mode": {
    "name": "ipython",
    "version": 2
   },
   "file_extension": ".py",
   "mimetype": "text/x-python",
   "name": "python",
   "nbconvert_exporter": "python",
   "pygments_lexer": "ipython2",
   "version": "2.7.12"
  }
 },
 "nbformat": 4,
 "nbformat_minor": 0
}
