{
 "cells": [
  {
   "cell_type": "code",
   "execution_count": 1,
   "metadata": {
    "collapsed": true
   },
   "outputs": [],
   "source": [
    "%run ../Python_files/print_O-D_pair_link_labels_ext.py"
   ]
  },
  {
   "cell_type": "code",
   "execution_count": 2,
   "metadata": {
    "collapsed": true
   },
   "outputs": [],
   "source": [
    "link_label_dict_ = zload('../temp_files/link_label_dict_ext_.pkz')"
   ]
  },
  {
   "cell_type": "code",
   "execution_count": 3,
   "metadata": {
    "collapsed": false
   },
   "outputs": [
    {
     "data": {
      "text/plain": [
       "{'1->2': 0,\n",
       " '1->3': 2,\n",
       " '10->11': 32,\n",
       " '10->13': 36,\n",
       " '10->8': 31,\n",
       " '10->9': 29,\n",
       " '11->10': 33,\n",
       " '11->14': 38,\n",
       " '11->7': 27,\n",
       " '12->13#1': 40,\n",
       " '12->13#2': 42,\n",
       " '12->13#3': 44,\n",
       " '12->15': 50,\n",
       " '12->8': 35,\n",
       " '13->10': 37,\n",
       " '13->12#1': 41,\n",
       " '13->12#2': 43,\n",
       " '13->12#3': 45,\n",
       " '13->14#1': 46,\n",
       " '13->14#2': 48,\n",
       " '13->15': 52,\n",
       " '13->16': 54,\n",
       " '14->11': 39,\n",
       " '14->13#1': 47,\n",
       " '14->13#2': 49,\n",
       " '14->16#1': 56,\n",
       " '14->16#2': 58,\n",
       " '15->12': 51,\n",
       " '15->13': 53,\n",
       " '15->17': 60,\n",
       " '16->13': 55,\n",
       " '16->14#1': 57,\n",
       " '16->14#2': 59,\n",
       " '16->17': 62,\n",
       " '17->15': 61,\n",
       " '17->16': 63,\n",
       " '2->1': 1,\n",
       " '2->3': 4,\n",
       " '2->4': 6,\n",
       " '3->1': 3,\n",
       " '3->2': 5,\n",
       " '3->6': 8,\n",
       " '4->2': 7,\n",
       " '4->5': 16,\n",
       " '4->6': 10,\n",
       " '4->7#1': 12,\n",
       " '4->7#2': 14,\n",
       " '5->4': 17,\n",
       " '5->8': 20,\n",
       " '5->9': 22,\n",
       " '6->3': 9,\n",
       " '6->4': 11,\n",
       " '6->7': 18,\n",
       " '7->11': 26,\n",
       " '7->4#1': 13,\n",
       " '7->4#2': 15,\n",
       " '7->6': 19,\n",
       " '7->9': 24,\n",
       " '8->10': 30,\n",
       " '8->12': 34,\n",
       " '8->5': 21,\n",
       " '9->10': 28,\n",
       " '9->5': 23,\n",
       " '9->7': 25}"
      ]
     },
     "execution_count": 3,
     "metadata": {},
     "output_type": "execute_result"
    }
   ],
   "source": [
    "link_label_dict_"
   ]
  },
  {
   "cell_type": "code",
   "execution_count": null,
   "metadata": {
    "collapsed": true
   },
   "outputs": [],
   "source": []
  }
 ],
 "metadata": {
  "kernelspec": {
   "display_name": "Python 2",
   "language": "python",
   "name": "python2"
  },
  "language_info": {
   "codemirror_mode": {
    "name": "ipython",
    "version": 2
   },
   "file_extension": ".py",
   "mimetype": "text/x-python",
   "name": "python",
   "nbconvert_exporter": "python",
   "pygments_lexer": "ipython2",
   "version": "2.7.11"
  }
 },
 "nbformat": 4,
 "nbformat_minor": 0
}
