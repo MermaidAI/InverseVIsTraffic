{
 "cells": [
  {
   "cell_type": "code",
   "execution_count": 1,
   "metadata": {
    "collapsed": true
   },
   "outputs": [],
   "source": [
    "%run ../Python_files/print_O-D_pair_link_labels_ext.py"
   ]
  },
  {
   "cell_type": "code",
   "execution_count": 2,
   "metadata": {
    "collapsed": true
   },
   "outputs": [],
   "source": [
    "link_label_dict_ = zload('../temp_files/link_label_dict_ext_.pkz')"
   ]
  },
  {
   "cell_type": "code",
   "execution_count": 3,
   "metadata": {
    "collapsed": false
   },
   "outputs": [
    {
     "data": {
      "text/plain": [
       "{'1->2': 0,\n",
       " '1->3': 2,\n",
       " '10->11': 34,\n",
       " '10->13': 38,\n",
       " '10->8': 33,\n",
       " '10->9': 31,\n",
       " '11->10': 35,\n",
       " '11->14': 40,\n",
       " '11->7': 29,\n",
       " '12->13': 42,\n",
       " '12->15': 58,\n",
       " '12->19': 44,\n",
       " '12->20': 48,\n",
       " '12->8': 37,\n",
       " '13->10': 39,\n",
       " '13->12': 43,\n",
       " '13->14': 52,\n",
       " '13->15': 60,\n",
       " '13->16': 62,\n",
       " '13->19': 47,\n",
       " '13->20': 51,\n",
       " '13->21': 54,\n",
       " '14->11': 41,\n",
       " '14->13': 53,\n",
       " '14->16': 64,\n",
       " '14->21': 57,\n",
       " '14->22': 66,\n",
       " '15->12': 59,\n",
       " '15->13': 61,\n",
       " '15->17': 70,\n",
       " '16->13': 63,\n",
       " '16->14': 65,\n",
       " '16->17': 72,\n",
       " '16->22': 69,\n",
       " '17->15': 71,\n",
       " '17->16': 73,\n",
       " '18->4': 16,\n",
       " '18->7': 15,\n",
       " '19->12': 46,\n",
       " '19->13': 45,\n",
       " '2->1': 1,\n",
       " '2->3': 4,\n",
       " '2->4': 6,\n",
       " '20->12': 50,\n",
       " '20->13': 49,\n",
       " '21->13': 56,\n",
       " '21->14': 55,\n",
       " '22->14': 68,\n",
       " '22->16': 67,\n",
       " '3->1': 3,\n",
       " '3->2': 5,\n",
       " '3->6': 8,\n",
       " '4->18': 14,\n",
       " '4->2': 7,\n",
       " '4->5': 18,\n",
       " '4->6': 10,\n",
       " '4->7': 12,\n",
       " '5->4': 19,\n",
       " '5->8': 22,\n",
       " '5->9': 24,\n",
       " '6->3': 9,\n",
       " '6->4': 11,\n",
       " '6->7': 20,\n",
       " '7->11': 28,\n",
       " '7->18': 17,\n",
       " '7->4': 13,\n",
       " '7->6': 21,\n",
       " '7->9': 26,\n",
       " '8->10': 32,\n",
       " '8->12': 36,\n",
       " '8->5': 23,\n",
       " '9->10': 30,\n",
       " '9->5': 25,\n",
       " '9->7': 27}"
      ]
     },
     "execution_count": 3,
     "metadata": {},
     "output_type": "execute_result"
    }
   ],
   "source": [
    "link_label_dict_"
   ]
  },
  {
   "cell_type": "code",
   "execution_count": 4,
   "metadata": {
    "collapsed": true
   },
   "outputs": [],
   "source": [
    "OD_pair_label_dict_ = zload('../temp_files/OD_pair_label_dict__ext.pkz')\n",
    "OD_pair_label_dict = zload('../temp_files/OD_pair_label_dict_ext.pkz')"
   ]
  },
  {
   "cell_type": "code",
   "execution_count": 5,
   "metadata": {
    "collapsed": false
   },
   "outputs": [],
   "source": [
    "fictitious_OD_list = []\n",
    "for key in OD_pair_label_dict.keys():\n",
    "    if ('18' in key) or ('19' in key) or ('20' in key) or ('21' in key) or ('22' in key):\n",
    "        fictitious_OD_list.append(OD_pair_label_dict[key])\n",
    "\n",
    "zdump(fictitious_OD_list, '../temp_files/fictitious_OD_list')"
   ]
  },
  {
   "cell_type": "code",
   "execution_count": 6,
   "metadata": {
    "collapsed": false
   },
   "outputs": [],
   "source": [
    "##### obtain link_length_dict_ext_insert_links\n",
    "import json\n",
    "\n",
    "with open('../temp_files/link_day_minute_Jan_dict_ext_JSON_insert_links_adjusted.json', 'r') as json_file:\n",
    "    link_day_minute_Jan_dict_ext_JSON_insert_links_adjusted = json.load(json_file)"
   ]
  },
  {
   "cell_type": "code",
   "execution_count": 7,
   "metadata": {
    "collapsed": false
   },
   "outputs": [],
   "source": [
    "link_length_dict_ext_insert_links = {}\n",
    "\n",
    "for link_idx in range(74):\n",
    "    key = 'link_' + str(link_idx) + '_' + str(1)\n",
    "    link_length_dict_ext_insert_links[str(link_idx)] = \\\n",
    "    link_day_minute_Jan_dict_ext_JSON_insert_links_adjusted[key]['length']\n",
    "    \n",
    "with open('../temp_files/link_length_dict_ext_insert_links.json', 'w') as json_file:\n",
    "    json.dump(link_length_dict_ext_insert_links, json_file)"
   ]
  },
  {
   "cell_type": "code",
   "execution_count": 8,
   "metadata": {
    "collapsed": false
   },
   "outputs": [
    {
     "data": {
      "text/plain": [
       "{'0': 11.385941974850725,\n",
       " '1': 12.815391281548248,\n",
       " '10': 11.648764861524382,\n",
       " '11': 11.739281113808694,\n",
       " '12': 12.288557352370393,\n",
       " '13': 12.326099188881543,\n",
       " '14': 4.485528857502771,\n",
       " '15': 6.728293286254157,\n",
       " '16': 5.01808413770507,\n",
       " '17': 7.527126206557603,\n",
       " '18': 2.9598793253562294,\n",
       " '19': 3.1334428544948167,\n",
       " '2': 13.169036579479975,\n",
       " '20': 11.604339405850899,\n",
       " '21': 10.936654099781187,\n",
       " '22': 12.495896483232961,\n",
       " '23': 13.347833079773606,\n",
       " '24': 11.04161190643383,\n",
       " '25': 11.090306612888302,\n",
       " '26': 4.5827194135406,\n",
       " '27': 4.45251754235305,\n",
       " '28': 6.739148873201685,\n",
       " '29': 6.97773712018349,\n",
       " '3': 13.04563653857198,\n",
       " '30': 6.898986144005945,\n",
       " '31': 6.881592845935423,\n",
       " '32': 15.939966685650132,\n",
       " '33': 15.984594545678952,\n",
       " '34': 10.374690091147793,\n",
       " '35': 10.003639812448075,\n",
       " '36': 14.964750792362517,\n",
       " '37': 15.024901672853156,\n",
       " '38': 4.525774863609242,\n",
       " '39': 4.543420712189323,\n",
       " '4': 11.592971084625855,\n",
       " '40': 6.913041636988785,\n",
       " '41': 6.7786352191089865,\n",
       " '42': 16.980232029217774,\n",
       " '43': 17.127860990870246,\n",
       " '44': 4.6417357623403595,\n",
       " '45': 6.96260364351054,\n",
       " '46': 4.7781213343171896,\n",
       " '47': 7.167182001475783,\n",
       " '48': 4.167854989695625,\n",
       " '49': 6.251782484543437,\n",
       " '5': 11.736038693223895,\n",
       " '50': 4.242244606844503,\n",
       " '51': 6.363366910266754,\n",
       " '52': 9.81845493170901,\n",
       " '53': 9.846680683748916,\n",
       " '54': 3.4432475939456006,\n",
       " '55': 5.1648713909184005,\n",
       " '56': 3.4399600304030216,\n",
       " '57': 5.159940045604532,\n",
       " '58': 9.33850861489713,\n",
       " '59': 9.213129333692127,\n",
       " '6': 7.51890775260028,\n",
       " '60': 15.221765274426641,\n",
       " '61': 17.00556753153148,\n",
       " '62': 10.469586550762118,\n",
       " '63': 11.049058131306994,\n",
       " '64': 11.05665943095176,\n",
       " '65': 11.052465443216674,\n",
       " '66': 4.999631322758536,\n",
       " '67': 7.499446984137804,\n",
       " '68': 4.936931714130462,\n",
       " '69': 7.405397571195691,\n",
       " '7': 7.447449801992693,\n",
       " '70': 17.433790964850356,\n",
       " '71': 17.25607828874681,\n",
       " '72': 13.920130127329351,\n",
       " '73': 14.591255691094815,\n",
       " '8': 8.560429741543196,\n",
       " '9': 9.469544076971006}"
      ]
     },
     "execution_count": 8,
     "metadata": {},
     "output_type": "execute_result"
    }
   ],
   "source": [
    "link_length_dict_ext_insert_links"
   ]
  },
  {
   "cell_type": "code",
   "execution_count": 9,
   "metadata": {
    "collapsed": false
   },
   "outputs": [],
   "source": [
    "with open('../temp_files/path-link_incidence_ext_insert_links.txt', 'r') as the_file:\n",
    "    # path counts\n",
    "    i = 0  \n",
    "    for row in the_file:\n",
    "        if '->' in row:\n",
    "            i = i + 1"
   ]
  },
  {
   "cell_type": "code",
   "execution_count": 10,
   "metadata": {
    "collapsed": false
   },
   "outputs": [
    {
     "data": {
      "text/plain": [
       "16028"
      ]
     },
     "execution_count": 10,
     "metadata": {},
     "output_type": "execute_result"
    }
   ],
   "source": [
    "i"
   ]
  },
  {
   "cell_type": "code",
   "execution_count": null,
   "metadata": {
    "collapsed": true
   },
   "outputs": [],
   "source": []
  }
 ],
 "metadata": {
  "kernelspec": {
   "display_name": "Python 2",
   "language": "python",
   "name": "python2"
  },
  "language_info": {
   "codemirror_mode": {
    "name": "ipython",
    "version": 2
   },
   "file_extension": ".py",
   "mimetype": "text/x-python",
   "name": "python",
   "nbconvert_exporter": "python",
   "pygments_lexer": "ipython2",
   "version": "2.7.11"
  }
 },
 "nbformat": 4,
 "nbformat_minor": 0
}
