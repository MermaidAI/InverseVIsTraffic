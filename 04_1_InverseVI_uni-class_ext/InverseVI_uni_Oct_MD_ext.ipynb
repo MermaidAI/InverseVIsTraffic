{
 "cells": [
  {
   "cell_type": "code",
   "execution_count": 1,
   "metadata": {
    "collapsed": false
   },
   "outputs": [
    {
     "data": {
      "text/plain": [
       "Arc (constructor with 3 methods)"
      ]
     },
     "execution_count": 1,
     "metadata": {},
     "output_type": "execute_result"
    }
   ],
   "source": [
    "#include(\"defArc.jl\")\n",
    "\n",
    "type Arc\n",
    "    initNode::Int \n",
    "    termNode::Int \n",
    "    capacity::Float64\n",
    "    freeflowtime::Float64\n",
    "    flow::Float64\n",
    "end\n",
    "\n",
    "Arc(initNode::Int, termNode::Int, capacity::Float64, freeflowtime::Float64) = \n",
    "    Arc(initNode, termNode, capacity, freeflowtime, 0.)"
   ]
  },
  {
   "cell_type": "code",
   "execution_count": 2,
   "metadata": {
    "collapsed": false
   },
   "outputs": [
    {
     "data": {
      "text/plain": [
       "bpacost (generic function with 3 methods)"
      ]
     },
     "execution_count": 2,
     "metadata": {},
     "output_type": "execute_result"
    }
   ],
   "source": [
    "#include(\"fitTraffic.jl\")\n",
    "\n",
    "## Solve an inverse tarffic problem over polynomials \n",
    "## of degree at most d\n",
    "## optionally use a regularizer from the poly kernel\n",
    "\n",
    "using JuMP\n",
    "using Gurobi\n",
    "using Graphs\n",
    "using Roots\n",
    "\n",
    "\n",
    "polyEval(coeffs, pt) = sum([coeffs[i] * pt^(i-1) for i = 1:length(coeffs)])  \n",
    "\n",
    "polyEval(coeffs::Array{Float64, 1}, pt) = sum([coeffs[i] * pt^(i-1) for i = 1:length(coeffs)]) \n",
    "\n",
    "bpacost(flow::Float64, capacity::Float64, freeflowtime::Float64) = freeflowtime*(1 + .15 * (flow/capacity)^4)\n",
    "bpacost(flow::Float64, arc) = bpacost(flow, arc.capacity, arc.freeflowtime)\n",
    "bpacost(arc::Arc) = bpacost(arc.flow, arc)"
   ]
  },
  {
   "cell_type": "code",
   "execution_count": 3,
   "metadata": {
    "collapsed": false
   },
   "outputs": [
    {
     "data": {
      "text/plain": [
       "setUpFitting (generic function with 1 method)"
      ]
     },
     "execution_count": 3,
     "metadata": {},
     "output_type": "execute_result"
    }
   ],
   "source": [
    "function setUpFitting(deg::Int, c::Float64)\n",
    "\n",
    "\tm = Model(solver=GurobiSolver(OutputFlag=false))\n",
    "    \n",
    "\t@defVar(m, coeffs[1:deg+1])\n",
    "\t@defVar(m, Calphas[1:deg+1])\n",
    "\n",
    "\t#build the graham matrix; cf. Ref. [21] (Regularization Networks and Support Vector Machines), page 47\n",
    "\tsamples = linspace(0, 1, deg + 1)\n",
    "\tk(x,y) = (c + x*y)^deg\n",
    "\tK = [ k(x,y) for x = samples, y=samples]\n",
    "\tK = convert(Array{Float64, 2}, K)\n",
    "\t#assert(rank(K) == deg+1)\n",
    "    \n",
    "\tC = chol(K + 1e-6* eye(deg+1))\n",
    "\tfor i=1:deg + 1\n",
    "\t\t@addConstraint(m, polyEval(coeffs, samples[i]) == sum{C[j, i] * Calphas[j], j=1:deg+1})\n",
    "\tend\n",
    "    \n",
    "\t@defVar(m, reg_term >= 0)\n",
    "\treg_term_ = QuadExpr(Calphas[:], Calphas[:], ones(deg+1), AffExpr())\n",
    "    \n",
    "\t@addConstraint(m, reg_term >= reg_term_)\n",
    "    \n",
    "\treturn m, coeffs, reg_term\n",
    "\n",
    "end"
   ]
  },
  {
   "cell_type": "code",
   "execution_count": 4,
   "metadata": {
    "collapsed": false
   },
   "outputs": [
    {
     "data": {
      "text/plain": [
       "fixCoeffs (generic function with 1 method)"
      ]
     },
     "execution_count": 4,
     "metadata": {},
     "output_type": "execute_result"
    }
   ],
   "source": [
    "function fixCoeffs(m, fcoeffs, coeffs)\n",
    "\tfor (fc, c) in zip(fcoeffs, coeffs[:])\n",
    "\t\t@addConstraint(m, fc == c)\n",
    "\tend\n",
    "end"
   ]
  },
  {
   "cell_type": "code",
   "execution_count": 5,
   "metadata": {
    "collapsed": false
   },
   "outputs": [
    {
     "data": {
      "text/plain": [
       "addResid (generic function with 1 method)"
      ]
     },
     "execution_count": 5,
     "metadata": {},
     "output_type": "execute_result"
    }
   ],
   "source": [
    "function addResid(m, coeffs, ys, demands, arcs, scaling)\n",
    "\t@defVar(m, resid)\n",
    "\t@defVar(m, dual_cost)\n",
    "\t@defVar(m, primal_cost)\n",
    "\n",
    "\t@addConstraint(m, dual_cost == sum{demands[(s,t)] * (ys[(s,t), t] - ys[(s,t), s]), (s,t)=keys(demands)})  \n",
    "\t@addConstraint(m, primal_cost == sum{a.flow * a.freeflowtime * polyEval(coeffs, a.flow/a.capacity), a=values(arcs)})\n",
    "\n",
    "\t@addConstraint(m, resid >= (dual_cost - primal_cost) / scaling )\n",
    "\t@addConstraint(m, resid >= (primal_cost - dual_cost) / scaling )\n",
    "\treturn resid\n",
    "end"
   ]
  },
  {
   "cell_type": "code",
   "execution_count": 6,
   "metadata": {
    "collapsed": false
   },
   "outputs": [
    {
     "data": {
      "text/plain": [
       "addIncreasingCnsts (generic function with 1 method)"
      ]
     },
     "execution_count": 6,
     "metadata": {},
     "output_type": "execute_result"
    }
   ],
   "source": [
    "function addIncreasingCnsts(m, coeffs, arcs; TOL=0.)\n",
    "\tsorted_flows = sort([a.flow / a.capacity for a in values(arcs)])\n",
    "\t@addConstraint(m, polyEval(coeffs, 0) <= polyEval(coeffs, sorted_flows[1]))\n",
    "\tfor i = 2:length(sorted_flows)\n",
    "\t\t@addConstraint(m, polyEval(coeffs, sorted_flows[i-1]) <= polyEval(coeffs, sorted_flows[i]) + TOL)\n",
    "\tend\n",
    "    @addConstraint(m, coeffs[1] == 1)\n",
    "end"
   ]
  },
  {
   "cell_type": "code",
   "execution_count": 7,
   "metadata": {
    "collapsed": false
   },
   "outputs": [
    {
     "data": {
      "text/plain": [
       "normalize (generic function with 3 methods)"
      ]
     },
     "execution_count": 7,
     "metadata": {},
     "output_type": "execute_result"
    }
   ],
   "source": [
    "#equates the total cost of the network to the true total cost\n",
    "function normalize(m, coeffs, tot_true_cost::Float64, arcs)\n",
    "\t@addConstraint(m, \n",
    "\t\tsum{a.freeflowtime * a.flow * polyEval(coeffs, a.flow / a.capacity), a=values(arcs)} == tot_true_cost)\n",
    "end\n",
    "\n",
    "function normalize(m, coeffs, scaled_flow::Float64, cost::Float64)\n",
    "\t@addConstraint(m, polyEval(coeffs, scaled_flow) == cost)\n",
    "end\n",
    "\n",
    "function normalize(m, coeffs, scaled_flows::Array{Float64, 1}, avgCost::Float64)\n",
    "    @addConstraint(m, sum{polyEval(coeffs, f), f=scaled_flows} == avgCost * length(scaled_flows))\n",
    "end"
   ]
  },
  {
   "cell_type": "code",
   "execution_count": 8,
   "metadata": {
    "collapsed": false
   },
   "outputs": [
    {
     "data": {
      "text/plain": [
       "addNetworkCnsts (generic function with 1 method)"
      ]
     },
     "execution_count": 8,
     "metadata": {},
     "output_type": "execute_result"
    }
   ],
   "source": [
    "function addNetworkCnsts(m, coeffs, demands, arcs, numNodes)\n",
    "\t@defVar(m, ys[keys(demands), 1:numNodes])\n",
    "\tfor k = keys(arcs)\n",
    "\t\ta = arcs[k]\n",
    "\t\trhs = a.freeflowtime * polyEval(coeffs, a.flow/a.capacity)\n",
    "\t\tfor od in keys(demands)\n",
    "\t\t\t@addConstraint(m, ys[od, k[2]] - ys[od, k[1]] <= rhs)\n",
    "\t\tend\n",
    "\tend\n",
    "\treturn ys\n",
    "end"
   ]
  },
  {
   "cell_type": "code",
   "execution_count": 9,
   "metadata": {
    "collapsed": false
   },
   "outputs": [],
   "source": [
    "############\n",
    "#Read in demand data\n",
    "file = open(\"../temp_files/OD_demand_matrix_Oct_weekday_MD_ext.txt\")\n",
    "demands = Dict{(Int64,Int64), Float64}()\n",
    "n = 22  # number of nodes\n",
    "for i in [1:n]\n",
    "    demands[(i,i)] = 0.0\n",
    "end\n",
    "for line in eachline(file)\n",
    "    OD_demand = split(line, \",\")\n",
    "    key, value = (int(OD_demand[1]),int(OD_demand[2])), float(split(OD_demand[3], \"\\n\")[1])\n",
    "    demands[key] = value\n",
    "end\n",
    "close(file)"
   ]
  },
  {
   "cell_type": "code",
   "execution_count": 10,
   "metadata": {
    "collapsed": false
   },
   "outputs": [
    {
     "data": {
      "text/plain": [
       "Dict{(Int64,Int64),Float64} with 484 entries:\n",
       "  (6,9)   => 20.158009\n",
       "  (18,3)  => 0.0\n",
       "  (21,13) => 0.0\n",
       "  (22,16) => 0.0\n",
       "  (15,17) => 117.235221\n",
       "  (22,14) => 0.0\n",
       "  (13,9)  => 0.0\n",
       "  (8,9)   => 127.662043\n",
       "  (9,1)   => 0.0\n",
       "  (17,14) => 219.510643\n",
       "  (16,6)  => 0.0\n",
       "  (16,12) => 0.0\n",
       "  (16,13) => 0.0\n",
       "  (22,2)  => 0.0\n",
       "  (7,16)  => 0.0\n",
       "  (1,12)  => 17.360211\n",
       "  (4,5)   => 0.0\n",
       "  (11,8)  => 272.813655\n",
       "  (18,21) => 0.0\n",
       "  (19,4)  => 0.0\n",
       "  (20,13) => 0.0\n",
       "  (15,4)  => 0.0\n",
       "  (6,18)  => 0.0\n",
       "  (5,16)  => 0.0\n",
       "  (4,9)   => 0.0\n",
       "  ⋮       => ⋮"
      ]
     },
     "execution_count": 10,
     "metadata": {},
     "output_type": "execute_result"
    }
   ],
   "source": [
    "demands"
   ]
  },
  {
   "cell_type": "code",
   "execution_count": 11,
   "metadata": {
    "collapsed": false
   },
   "outputs": [],
   "source": [
    "using JSON\n",
    "\n",
    "link_day_minute_Oct_dict = readall(\"../temp_files/link_day_minute_Oct_dict_ext_JSON_insert_links_adjusted.json\");\n",
    "link_day_minute_Oct_dict = replace(link_day_minute_Oct_dict, \"NaN\", 0);\n",
    "\n",
    "link_day_minute_Oct_dict = JSON.parse(link_day_minute_Oct_dict);"
   ]
  },
  {
   "cell_type": "code",
   "execution_count": 12,
   "metadata": {
    "collapsed": false
   },
   "outputs": [],
   "source": [
    "# week_day_Oct_list = [1, 2, 3, 4, 5, 8, 9, 10, 11, 12, 15, 16, 17, 18, 19, 22, 23, 24, 25, 26, 29, 30, 31]\n",
    "\n",
    "# training set 1\n",
    "week_day_Oct_list_1 = [1, 2, 3, 4, 5, 8, 9, 10, 11, 12, 15, 16, 17, 18, 19]\n",
    "\n",
    "# training set 2\n",
    "week_day_Oct_list_2 = [1, 2, 3, 4, 5, 8, 9, 22, 23, 24, 25, 26, 29, 30, 31]\n",
    "\n",
    "# training set 3\n",
    "week_day_Oct_list_3 = [11, 12, 15, 16, 17, 18, 19, 22, 23, 24, 25, 26, 29, 30, 31]\n",
    "\n",
    "\n",
    "arcs_1 = Dict{(Int, Int), Arc}[]\n",
    "for j in week_day_Oct_list_1\n",
    "    arcs_1_ = Dict{(Int, Int), Arc}()\n",
    "    for i = 0:73\n",
    "        key = \"link_$(i)_$(j)\"\n",
    "        initNode = link_day_minute_Oct_dict[key][\"init_node\"]\n",
    "        termNode = link_day_minute_Oct_dict[key][\"term_node\"]\n",
    "        capacity = link_day_minute_Oct_dict[key][\"MD_capac\"]\n",
    "        freeflowtime = link_day_minute_Oct_dict[key][\"free_flow_time\"]\n",
    "        flow = link_day_minute_Oct_dict[key][\"MD_flow\"]\n",
    "        arcs_1_[(initNode, termNode)] = Arc(initNode, termNode, capacity, freeflowtime, flow)\n",
    "    end\n",
    "    push!(arcs_1, arcs_1_)\n",
    "end\n",
    "\n",
    "arcs_2 = Dict{(Int, Int), Arc}[]\n",
    "for j in week_day_Oct_list_2\n",
    "    arcs_2_ = Dict{(Int, Int), Arc}()\n",
    "    for i = 0:73\n",
    "        key = \"link_$(i)_$(j)\"\n",
    "        initNode = link_day_minute_Oct_dict[key][\"init_node\"]\n",
    "        termNode = link_day_minute_Oct_dict[key][\"term_node\"]\n",
    "        capacity = link_day_minute_Oct_dict[key][\"MD_capac\"]\n",
    "        freeflowtime = link_day_minute_Oct_dict[key][\"free_flow_time\"]\n",
    "        flow = link_day_minute_Oct_dict[key][\"MD_flow\"]\n",
    "        arcs_2_[(initNode, termNode)] = Arc(initNode, termNode, capacity, freeflowtime, flow)\n",
    "    end\n",
    "    push!(arcs_2, arcs_2_)\n",
    "end\n",
    "\n",
    "arcs_3 = Dict{(Int, Int), Arc}[]\n",
    "for j in week_day_Oct_list_3\n",
    "    arcs_3_ = Dict{(Int, Int), Arc}()\n",
    "    for i = 0:73\n",
    "        key = \"link_$(i)_$(j)\"\n",
    "        initNode = link_day_minute_Oct_dict[key][\"init_node\"]\n",
    "        termNode = link_day_minute_Oct_dict[key][\"term_node\"]\n",
    "        capacity = link_day_minute_Oct_dict[key][\"MD_capac\"]\n",
    "        freeflowtime = link_day_minute_Oct_dict[key][\"free_flow_time\"]\n",
    "        flow = link_day_minute_Oct_dict[key][\"MD_flow\"]\n",
    "        arcs_3_[(initNode, termNode)] = Arc(initNode, termNode, capacity, freeflowtime, flow)\n",
    "    end\n",
    "    push!(arcs_3, arcs_3_)\n",
    "end"
   ]
  },
  {
   "cell_type": "code",
   "execution_count": 13,
   "metadata": {
    "collapsed": false
   },
   "outputs": [],
   "source": [
    "##########\n",
    "# Set up demand data and flow data\n",
    "##########\n",
    "numData = length(arcs_1); \n",
    "sigma = .0\n",
    "\n",
    "flow_data_1 = Array(Float64, length(arcs_1[1]), numData)\n",
    "flow_data_2 = Array(Float64, length(arcs_2[1]), numData)\n",
    "flow_data_3 = Array(Float64, length(arcs_3[1]), numData)\n",
    "\n",
    "demand_data = Dict{(Int, Int), Array{Float64, 1}}()\n",
    "\n",
    "numNodes = maximum(map(pair->pair[1], keys(demands)))\n",
    "g = simple_inclist(numNodes, is_directed=true)\n",
    "vArcs = Arc[]\n",
    "for arc in values(arcs_1[1])\n",
    "    add_edge!(g, arc.initNode, arc.termNode) \n",
    "    push!(vArcs, arc)\n",
    "end\n",
    "\n",
    "\n",
    "for iRun = 1:numData\n",
    "    for odpair in keys(demands)\n",
    "        if ! haskey(demand_data, odpair)\n",
    "            demand_data[odpair] = [demands[odpair], ]\n",
    "        else\n",
    "            push!(demand_data[odpair], demands[odpair])\n",
    "        end\n",
    "    end\n",
    "\n",
    "    #flow_data[:, iRun] = [a.flow::Float64 for a in vArcs]\n",
    "    flow_data_1[:, iRun] = [a.flow::Float64 for a in values(arcs_1[iRun])]\n",
    "    flow_data_2[:, iRun] = [a.flow::Float64 for a in values(arcs_2[iRun])]\n",
    "    flow_data_3[:, iRun] = [a.flow::Float64 for a in values(arcs_3[iRun])]\n",
    "end"
   ]
  },
  {
   "cell_type": "code",
   "execution_count": 14,
   "metadata": {
    "collapsed": false
   },
   "outputs": [
    {
     "data": {
      "text/plain": [
       "Dict{(Int64,Int64),Array{Float64,1}} with 484 entries:\n",
       "  (6,9)   => [20.158009,20.158009,20.158009,20.158009,20.158009,20.158009,20.15…\n",
       "  (18,3)  => [0.0,0.0,0.0,0.0,0.0,0.0,0.0,0.0,0.0,0.0,0.0,0.0,0.0,0.0,0.0]\n",
       "  (21,13) => [0.0,0.0,0.0,0.0,0.0,0.0,0.0,0.0,0.0,0.0,0.0,0.0,0.0,0.0,0.0]\n",
       "  (22,16) => [0.0,0.0,0.0,0.0,0.0,0.0,0.0,0.0,0.0,0.0,0.0,0.0,0.0,0.0,0.0]\n",
       "  (15,17) => [117.235221,117.235221,117.235221,117.235221,117.235221,117.235221…\n",
       "  (22,14) => [0.0,0.0,0.0,0.0,0.0,0.0,0.0,0.0,0.0,0.0,0.0,0.0,0.0,0.0,0.0]\n",
       "  (13,9)  => [0.0,0.0,0.0,0.0,0.0,0.0,0.0,0.0,0.0,0.0,0.0,0.0,0.0,0.0,0.0]\n",
       "  (8,9)   => [127.662043,127.662043,127.662043,127.662043,127.662043,127.662043…\n",
       "  (17,14) => [219.510643,219.510643,219.510643,219.510643,219.510643,219.510643…\n",
       "  (9,1)   => [0.0,0.0,0.0,0.0,0.0,0.0,0.0,0.0,0.0,0.0,0.0,0.0,0.0,0.0,0.0]\n",
       "  (16,6)  => [0.0,0.0,0.0,0.0,0.0,0.0,0.0,0.0,0.0,0.0,0.0,0.0,0.0,0.0,0.0]\n",
       "  (16,12) => [0.0,0.0,0.0,0.0,0.0,0.0,0.0,0.0,0.0,0.0,0.0,0.0,0.0,0.0,0.0]\n",
       "  (16,13) => [0.0,0.0,0.0,0.0,0.0,0.0,0.0,0.0,0.0,0.0,0.0,0.0,0.0,0.0,0.0]\n",
       "  (22,2)  => [0.0,0.0,0.0,0.0,0.0,0.0,0.0,0.0,0.0,0.0,0.0,0.0,0.0,0.0,0.0]\n",
       "  (7,16)  => [0.0,0.0,0.0,0.0,0.0,0.0,0.0,0.0,0.0,0.0,0.0,0.0,0.0,0.0,0.0]\n",
       "  (1,12)  => [17.360211,17.360211,17.360211,17.360211,17.360211,17.360211,17.36…\n",
       "  (4,5)   => [0.0,0.0,0.0,0.0,0.0,0.0,0.0,0.0,0.0,0.0,0.0,0.0,0.0,0.0,0.0]\n",
       "  (11,8)  => [272.813655,272.813655,272.813655,272.813655,272.813655,272.813655…\n",
       "  (18,21) => [0.0,0.0,0.0,0.0,0.0,0.0,0.0,0.0,0.0,0.0,0.0,0.0,0.0,0.0,0.0]\n",
       "  (19,4)  => [0.0,0.0,0.0,0.0,0.0,0.0,0.0,0.0,0.0,0.0,0.0,0.0,0.0,0.0,0.0]\n",
       "  (20,13) => [0.0,0.0,0.0,0.0,0.0,0.0,0.0,0.0,0.0,0.0,0.0,0.0,0.0,0.0,0.0]\n",
       "  (15,4)  => [0.0,0.0,0.0,0.0,0.0,0.0,0.0,0.0,0.0,0.0,0.0,0.0,0.0,0.0,0.0]\n",
       "  (6,18)  => [0.0,0.0,0.0,0.0,0.0,0.0,0.0,0.0,0.0,0.0,0.0,0.0,0.0,0.0,0.0]\n",
       "  (5,16)  => [0.0,0.0,0.0,0.0,0.0,0.0,0.0,0.0,0.0,0.0,0.0,0.0,0.0,0.0,0.0]\n",
       "  (4,9)   => [0.0,0.0,0.0,0.0,0.0,0.0,0.0,0.0,0.0,0.0,0.0,0.0,0.0,0.0,0.0]\n",
       "  ⋮       => ⋮"
      ]
     },
     "execution_count": 14,
     "metadata": {},
     "output_type": "execute_result"
    }
   ],
   "source": [
    "demand_data"
   ]
  },
  {
   "cell_type": "code",
   "execution_count": 15,
   "metadata": {
    "collapsed": false
   },
   "outputs": [
    {
     "data": {
      "text/plain": [
       "74x15 Array{Float64,2}:\n",
       " 1855.91   1328.08    2740.71   1665.92        …  1238.59    1475.58       \n",
       " 1369.23    867.731   1120.93   1005.57            892.855   1034.52       \n",
       " 2275.64   2003.38    2324.11   2131.34           1236.83    2191.17       \n",
       " 2966.59   2914.55    3485.99   3262.07           3436.94    3352.61       \n",
       " 1230.51    604.795   1138.88    889.955          1230.7      788.69       \n",
       " 3221.02   2057.56    2649.04   3513.41        …  2705.94    2703.1        \n",
       "  547.374   247.48    1167.53     55.294           977.853     28.2822     \n",
       " 1032.92    938.831    971.302  1126.65           1296.85     850.778      \n",
       "  425.63    318.413    406.27    491.489           603.909    568.094      \n",
       " 1024.51    900.626    843.445   679.494          1020.83    1104.21       \n",
       " 2465.74   2875.95    3053.93   2821.69        …  2430.3     2885.15       \n",
       " 3510.75   1966.43    2853.33   4138.99           1164.7     3407.92       \n",
       " 4520.56   4128.56    4566.74   4919.66           2098.3     4402.76       \n",
       "    ⋮                                          ⋱                           \n",
       " 5235.13   4381.49    4821.17   4745.74           2772.22    4388.17       \n",
       " 1583.37   1422.7     1808.77   1853.0            1210.57    1693.18       \n",
       "  849.664   589.079    727.125  1028.8            1033.27     717.838      \n",
       "  964.807   923.1     1178.83   1245.15        …   915.43    1049.16       \n",
       "  989.43   1117.35     761.985  1015.25           1347.38    1040.04       \n",
       " 1224.62   1357.18    1246.55   1805.55            725.275   1698.53       \n",
       " 2811.38   1041.27    3254.82   2214.09            990.876   1990.73       \n",
       " 2572.94   1237.31    3271.9    1881.41            849.974   2101.14       \n",
       " 2572.94   1237.31    3271.9    1881.41        …   849.974   2101.14       \n",
       "  212.847    74.9706   185.593     3.4175e-11       83.4954     1.60081e-12\n",
       "  808.81    982.524   1408.93   1044.83            902.057   1110.87       \n",
       "  469.757   348.179    493.63    449.436           581.239    668.169      "
      ]
     },
     "execution_count": 15,
     "metadata": {},
     "output_type": "execute_result"
    }
   ],
   "source": [
    "flow_data_3"
   ]
  },
  {
   "cell_type": "code",
   "execution_count": 16,
   "metadata": {
    "collapsed": false
   },
   "outputs": [
    {
     "data": {
      "text/plain": [
       "train (generic function with 1 method)"
      ]
     },
     "execution_count": 16,
     "metadata": {},
     "output_type": "execute_result"
    }
   ],
   "source": [
    "##########\n",
    "#Fitting Funcs\n",
    "##########\n",
    "\n",
    "function train(indices, lam::Float64, deg::Int, c::Float64, demand_data, flow_data, arcs; fcoeffs=nothing)\n",
    "    numNodes = maximum(map(pair->pair[1], keys(arcs)))\n",
    "    m, coeffs, reg_term = setUpFitting(deg, c)\n",
    "    \n",
    "    addIncreasingCnsts(m, coeffs, arcs, TOL=1e-8)  #uses the original obs flows\n",
    "\n",
    "    avgCost = mean( [bpacost(a.flow, a.capacity, 1.0) for a in values(arcs)] )\n",
    "    normalize(m, coeffs, [a.flow / a.capacity for a in values(arcs)], avgCost)\n",
    "\n",
    "\n",
    "    resids = Variable[]\n",
    "    \n",
    "    for i = indices\n",
    "        #copy the flow data over to the arcs, demand data to demands (slow)\n",
    "        for (ix, a) in enumerate(vArcs)\n",
    "            a.flow = flow_data[ix, i]\n",
    "        end\n",
    "        for odpair in keys(demands)\n",
    "            demands[odpair] = demand_data[odpair][i]\n",
    "        end\n",
    "    \n",
    "        #Dual Feasibility\n",
    "        ys = addNetworkCnsts(m, coeffs, demands, arcs, numNodes)\n",
    "        \n",
    "        #add the residual for this data point\n",
    "        push!(resids, addResid(m, coeffs, ys, demands, arcs, 1e6))\n",
    "    end\n",
    "\n",
    "    if fcoeffs != nothing\n",
    "        fixCoeffs(m, fcoeffs, coeffs)\n",
    "    end\n",
    "    @setObjective(m, Min, sum{resids[i], i = 1:length(resids)} + lam*reg_term)\n",
    "    solve(m)\n",
    "    #println(getObjectiveValue(m) - lam * getValue(reg_term) )\n",
    "    return [getValue(coeffs[i]) for i =1:length(coeffs)]\n",
    "end"
   ]
  },
  {
   "cell_type": "code",
   "execution_count": 17,
   "metadata": {
    "collapsed": false
   },
   "outputs": [],
   "source": [
    "#include(\"trafficCval.jl\")\n",
    "\n",
    "coeffs_dict_Oct_MD = Dict{(Int64,Float64,Float64,Int64),Array{Float64,1}}()\n",
    "\n",
    "deg_grid = [7]\n",
    "c_grid = .5\n",
    "lamb_grid = [10. .^(4)]\n",
    "\n",
    "for deg in deg_grid\n",
    "    for c in c_grid\n",
    "        for lam in lamb_grid\n",
    "            coeffs_dict_Oct_MD[(deg, c, lam, 1)] = train(1:numData, lam, deg, c, demand_data, flow_data_1, arcs_1[1])\n",
    "            coeffs_dict_Oct_MD[(deg, c, lam, 2)] = train(1:numData, lam, deg, c, demand_data, flow_data_2, arcs_2[1])\n",
    "            coeffs_dict_Oct_MD[(deg, c, lam, 3)] = train(1:numData, lam, deg, c, demand_data, flow_data_3, arcs_3[1])\n",
    "        end\n",
    "    end\n",
    "end"
   ]
  },
  {
   "cell_type": "code",
   "execution_count": 18,
   "metadata": {
    "collapsed": false
   },
   "outputs": [],
   "source": [
    "outfile = open(\"../temp_files/coeffs_dict_Oct_MD_ext.json\", \"w\")\n",
    "\n",
    "JSON.print(outfile, coeffs_dict_Oct_MD)\n",
    "\n",
    "close(outfile)"
   ]
  },
  {
   "cell_type": "code",
   "execution_count": 19,
   "metadata": {
    "collapsed": false
   },
   "outputs": [
    {
     "data": {
      "text/plain": [
       "Dict{String,Any} with 3 entries:\n",
       "  \"(7,0.5,10000.0,1)\" => {1.0,-0.00012956976871322277,0.0037647062795702767,0.03…\n",
       "  \"(7,0.5,10000.0,3)\" => {1.0,-0.0001350802249720651,0.00025583842848899904,0.04…\n",
       "  \"(7,0.5,10000.0,2)\" => {1.0,-9.81234829293136e-5,0.00334203701529197,0.0357678…"
      ]
     },
     "execution_count": 19,
     "metadata": {},
     "output_type": "execute_result"
    }
   ],
   "source": [
    "coeffs_dict_Oct_MD_ = readall(\"../temp_files/coeffs_dict_Oct_MD_ext.json\")\n",
    "coeffs_dict_Oct_MD_ = JSON.parse(coeffs_dict_Oct_MD_)"
   ]
  },
  {
   "cell_type": "code",
   "execution_count": 20,
   "metadata": {
    "collapsed": false
   },
   "outputs": [
    {
     "data": {
      "text/plain": [
       "8-element Array{Any,1}:\n",
       "  1.0       \n",
       " -0.00012957\n",
       "  0.00376471\n",
       "  0.0335499 \n",
       " -0.105235  \n",
       "  0.232512  \n",
       " -0.144829  \n",
       "  0.0619417 "
      ]
     },
     "execution_count": 20,
     "metadata": {},
     "output_type": "execute_result"
    }
   ],
   "source": [
    "coeffs_dict_Oct_MD_[\"(7,0.5,10000.0,1)\"]"
   ]
  },
  {
   "cell_type": "code",
   "execution_count": 21,
   "metadata": {
    "collapsed": false
   },
   "outputs": [
    {
     "name": "stderr",
     "output_type": "stream",
     "text": [
      "/home/jzh/.julia/v0.3/Conda/deps/usr/lib/python2.7/site-packages/matplotlib/font_manager.py:273: UserWarning: Matplotlib is building the font cache using fc-list. This may take a moment.\n",
      "  warnings.warn('Matplotlib is building the font cache using fc-list. This may take a moment.')\n",
      "INFO: Loading help data...\n"
     ]
    },
    {
     "data": {
      "image/png": "[encoded data removed]",
      "text/plain": [
       "Figure(PyObject <matplotlib.figure.Figure object at 0x7ff3dcd65690>)"
      ]
     },
     "metadata": {},
     "output_type": "display_data"
    }
   ],
   "source": [
    "using PyPlot\n",
    "\n",
    "fcoeffs = coeffs_dict_Oct_MD_[\"(7,0.5,10000.0,3)\"]\n",
    "\n",
    "\n",
    "xs = linspace(0, 1.1, 30)\n",
    "ys = map(x->polyEval(fcoeffs, x), xs)\n",
    "\n",
    "plot(xs, ys, \"o-m\", label=\"Oct_MD\")\n",
    "\n",
    "#legend(loc=\"upper left\",fancybox=\"true\") \n",
    "\n",
    "grid(\"on\")\n",
    "xlim(-0.1, 1.05);\n",
    "ylim(0.99, 1.2);\n",
    "\n",
    "font1 = [\"family\"=>\"serif\",\n",
    "    \"color\"=>\"darkred\",\n",
    "    \"weight\"=>\"normal\",\n",
    "    \"size\"=>14]\n",
    "xlabel(\"Scaled Flow\", fontdict=font1)\n",
    "\n",
    "savefig(\"../temp_files/fitting_Oct_MD_ext.pdf\")"
   ]
  },
  {
   "cell_type": "code",
   "execution_count": null,
   "metadata": {
    "collapsed": true
   },
   "outputs": [],
   "source": []
  }
 ],
 "metadata": {
  "kernelspec": {
   "display_name": "Julia 0.3.7",
   "language": "julia",
   "name": "julia-0.3"
  },
  "language_info": {
   "file_extension": ".jl",
   "mimetype": "application/julia",
   "name": "julia",
   "version": "0.3.7"
  }
 },
 "nbformat": 4,
 "nbformat_minor": 0
}
