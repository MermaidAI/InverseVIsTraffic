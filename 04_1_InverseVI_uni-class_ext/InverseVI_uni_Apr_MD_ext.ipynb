{
 "cells": [
  {
   "cell_type": "code",
   "execution_count": 1,
   "metadata": {
    "collapsed": false
   },
   "outputs": [
    {
     "data": {
      "text/plain": [
       "Arc (constructor with 3 methods)"
      ]
     },
     "execution_count": 1,
     "metadata": {},
     "output_type": "execute_result"
    }
   ],
   "source": [
    "#include(\"defArc.jl\")\n",
    "\n",
    "type Arc\n",
    "    initNode::Int \n",
    "    termNode::Int \n",
    "    capacity::Float64\n",
    "    freeflowtime::Float64\n",
    "    flow::Float64\n",
    "end\n",
    "\n",
    "Arc(initNode::Int, termNode::Int, capacity::Float64, freeflowtime::Float64) = \n",
    "    Arc(initNode, termNode, capacity, freeflowtime, 0.)"
   ]
  },
  {
   "cell_type": "code",
   "execution_count": 2,
   "metadata": {
    "collapsed": false
   },
   "outputs": [
    {
     "data": {
      "text/plain": [
       "bpacost (generic function with 3 methods)"
      ]
     },
     "execution_count": 2,
     "metadata": {},
     "output_type": "execute_result"
    }
   ],
   "source": [
    "#include(\"fitTraffic.jl\")\n",
    "\n",
    "## Solve an inverse tarffic problem over polynomials \n",
    "## of degree at most d\n",
    "## optionally use a regularizer from the poly kernel\n",
    "\n",
    "using JuMP\n",
    "using Gurobi\n",
    "using Graphs\n",
    "using Roots\n",
    "\n",
    "\n",
    "polyEval(coeffs, pt) = sum([coeffs[i] * pt^(i-1) for i = 1:length(coeffs)])  \n",
    "\n",
    "polyEval(coeffs::Array{Float64, 1}, pt) = sum([coeffs[i] * pt^(i-1) for i = 1:length(coeffs)]) \n",
    "\n",
    "bpacost(flow::Float64, capacity::Float64, freeflowtime::Float64) = freeflowtime*(1 + .15 * (flow/capacity)^4)\n",
    "bpacost(flow::Float64, arc) = bpacost(flow, arc.capacity, arc.freeflowtime)\n",
    "bpacost(arc::Arc) = bpacost(arc.flow, arc)"
   ]
  },
  {
   "cell_type": "code",
   "execution_count": 3,
   "metadata": {
    "collapsed": false
   },
   "outputs": [
    {
     "data": {
      "text/plain": [
       "setUpFitting (generic function with 1 method)"
      ]
     },
     "execution_count": 3,
     "metadata": {},
     "output_type": "execute_result"
    }
   ],
   "source": [
    "function setUpFitting(deg::Int, c::Float64)\n",
    "\n",
    "\tm = Model(solver=GurobiSolver(OutputFlag=false))\n",
    "    \n",
    "\t@defVar(m, coeffs[1:deg+1])\n",
    "\t@defVar(m, Calphas[1:deg+1])\n",
    "\n",
    "\t#build the graham matrix; cf. Ref. [21] (Regularization Networks and Support Vector Machines), page 47\n",
    "\tsamples = linspace(0, 1, deg + 1)\n",
    "\tk(x,y) = (c + x*y)^deg\n",
    "\tK = [ k(x,y) for x = samples, y=samples]\n",
    "\tK = convert(Array{Float64, 2}, K)\n",
    "\t#assert(rank(K) == deg+1)\n",
    "    \n",
    "\tC = chol(K + 1e-6* eye(deg+1))\n",
    "\tfor i=1:deg + 1\n",
    "\t\t@addConstraint(m, polyEval(coeffs, samples[i]) == sum{C[j, i] * Calphas[j], j=1:deg+1})\n",
    "\tend\n",
    "    \n",
    "\t@defVar(m, reg_term >= 0)\n",
    "\treg_term_ = QuadExpr(Calphas[:], Calphas[:], ones(deg+1), AffExpr())\n",
    "    \n",
    "\t@addConstraint(m, reg_term >= reg_term_)\n",
    "    \n",
    "\treturn m, coeffs, reg_term\n",
    "\n",
    "end"
   ]
  },
  {
   "cell_type": "code",
   "execution_count": 4,
   "metadata": {
    "collapsed": false
   },
   "outputs": [
    {
     "data": {
      "text/plain": [
       "fixCoeffs (generic function with 1 method)"
      ]
     },
     "execution_count": 4,
     "metadata": {},
     "output_type": "execute_result"
    }
   ],
   "source": [
    "function fixCoeffs(m, fcoeffs, coeffs)\n",
    "\tfor (fc, c) in zip(fcoeffs, coeffs[:])\n",
    "\t\t@addConstraint(m, fc == c)\n",
    "\tend\n",
    "end"
   ]
  },
  {
   "cell_type": "code",
   "execution_count": 5,
   "metadata": {
    "collapsed": false
   },
   "outputs": [
    {
     "data": {
      "text/plain": [
       "addResid (generic function with 1 method)"
      ]
     },
     "execution_count": 5,
     "metadata": {},
     "output_type": "execute_result"
    }
   ],
   "source": [
    "function addResid(m, coeffs, ys, demands, arcs, scaling)\n",
    "\t@defVar(m, resid)\n",
    "\t@defVar(m, dual_cost)\n",
    "\t@defVar(m, primal_cost)\n",
    "\n",
    "\t@addConstraint(m, dual_cost == sum{demands[(s,t)] * (ys[(s,t), t] - ys[(s,t), s]), (s,t)=keys(demands)})  \n",
    "\t@addConstraint(m, primal_cost == sum{a.flow * a.freeflowtime * polyEval(coeffs, a.flow/a.capacity), a=values(arcs)})\n",
    "\n",
    "\t@addConstraint(m, resid >= (dual_cost - primal_cost) / scaling )\n",
    "\t@addConstraint(m, resid >= (primal_cost - dual_cost) / scaling )\n",
    "\treturn resid\n",
    "end"
   ]
  },
  {
   "cell_type": "code",
   "execution_count": 6,
   "metadata": {
    "collapsed": false
   },
   "outputs": [
    {
     "data": {
      "text/plain": [
       "addIncreasingCnsts (generic function with 1 method)"
      ]
     },
     "execution_count": 6,
     "metadata": {},
     "output_type": "execute_result"
    }
   ],
   "source": [
    "function addIncreasingCnsts(m, coeffs, arcs; TOL=0.)\n",
    "\tsorted_flows = sort([a.flow / a.capacity for a in values(arcs)])\n",
    "\t@addConstraint(m, polyEval(coeffs, 0) <= polyEval(coeffs, sorted_flows[1]))\n",
    "\tfor i = 2:length(sorted_flows)\n",
    "\t\t@addConstraint(m, polyEval(coeffs, sorted_flows[i-1]) <= polyEval(coeffs, sorted_flows[i]) + TOL)\n",
    "\tend\n",
    "    @addConstraint(m, coeffs[1] == 1)  # enforce g(0) = 1\n",
    "end"
   ]
  },
  {
   "cell_type": "code",
   "execution_count": 7,
   "metadata": {
    "collapsed": false
   },
   "outputs": [
    {
     "data": {
      "text/plain": [
       "normalize (generic function with 3 methods)"
      ]
     },
     "execution_count": 7,
     "metadata": {},
     "output_type": "execute_result"
    }
   ],
   "source": [
    "#equates the total cost of the network to the true total cost\n",
    "function normalize(m, coeffs, tot_true_cost::Float64, arcs)\n",
    "\t@addConstraint(m, \n",
    "\t\tsum{a.freeflowtime * a.flow * polyEval(coeffs, a.flow / a.capacity), a=values(arcs)} == tot_true_cost)\n",
    "end\n",
    "\n",
    "function normalize(m, coeffs, scaled_flow::Float64, cost::Float64)\n",
    "\t@addConstraint(m, polyEval(coeffs, scaled_flow) == cost)\n",
    "end\n",
    "\n",
    "function normalize(m, coeffs, scaled_flows::Array{Float64, 1}, avgCost::Float64)\n",
    "    @addConstraint(m, sum{polyEval(coeffs, f), f=scaled_flows} == avgCost * length(scaled_flows))\n",
    "end"
   ]
  },
  {
   "cell_type": "code",
   "execution_count": 8,
   "metadata": {
    "collapsed": false
   },
   "outputs": [
    {
     "data": {
      "text/plain": [
       "addNetworkCnsts (generic function with 1 method)"
      ]
     },
     "execution_count": 8,
     "metadata": {},
     "output_type": "execute_result"
    }
   ],
   "source": [
    "function addNetworkCnsts(m, coeffs, demands, arcs, numNodes)\n",
    "\t@defVar(m, ys[keys(demands), 1:numNodes])\n",
    "\tfor k = keys(arcs)\n",
    "\t\ta = arcs[k]\n",
    "\t\trhs = a.freeflowtime * polyEval(coeffs, a.flow/a.capacity)\n",
    "\t\tfor od in keys(demands)\n",
    "\t\t\t@addConstraint(m, ys[od, k[2]] - ys[od, k[1]] <= rhs)\n",
    "\t\tend\n",
    "\tend\n",
    "\treturn ys\n",
    "end"
   ]
  },
  {
   "cell_type": "code",
   "execution_count": 9,
   "metadata": {
    "collapsed": false
   },
   "outputs": [],
   "source": [
    "############\n",
    "#Read in demand data\n",
    "file = open(\"../temp_files/OD_demand_matrix_Apr_weekday_MD_ext.txt\")\n",
    "demands = Dict{(Int64,Int64), Float64}()\n",
    "n = 22  # number of nodes\n",
    "for i in [1:n]\n",
    "    demands[(i,i)] = 0.0\n",
    "end\n",
    "for line in eachline(file)\n",
    "    OD_demand = split(line, \",\")\n",
    "    key, value = (int(OD_demand[1]),int(OD_demand[2])), float(split(OD_demand[3], \"\\n\")[1])\n",
    "    demands[key] = value\n",
    "end\n",
    "close(file)"
   ]
  },
  {
   "cell_type": "code",
   "execution_count": 10,
   "metadata": {
    "collapsed": false
   },
   "outputs": [
    {
     "data": {
      "text/plain": [
       "Dict{(Int64,Int64),Float64} with 484 entries:\n",
       "  (6,9)   => 7.2e-5\n",
       "  (18,3)  => 0.000804\n",
       "  (21,13) => 1.5e-5\n",
       "  (22,16) => 0.000176\n",
       "  (15,17) => 2.3e-5\n",
       "  (22,14) => 1.5e-5\n",
       "  (13,9)  => 0.000259\n",
       "  (8,9)   => 1.6e-5\n",
       "  (9,1)   => 9.0e-6\n",
       "  (17,14) => 0.003042\n",
       "  (16,6)  => 2.8e-5\n",
       "  (16,12) => 5.0e-6\n",
       "  (16,13) => 1.4e-5\n",
       "  (22,2)  => 1.1e-5\n",
       "  (7,16)  => 9.0e-6\n",
       "  (1,12)  => 0.00012\n",
       "  (4,5)   => 0.00619\n",
       "  (11,8)  => 0.001043\n",
       "  (18,21) => 3.0e-6\n",
       "  (19,4)  => 1.1e-5\n",
       "  (20,13) => 151.356782\n",
       "  (15,4)  => 1.6e-5\n",
       "  (6,18)  => 9.0e-6\n",
       "  (5,16)  => 8.0e-6\n",
       "  (4,9)   => 0.001699\n",
       "  ⋮       => ⋮"
      ]
     },
     "execution_count": 10,
     "metadata": {},
     "output_type": "execute_result"
    }
   ],
   "source": [
    "demands"
   ]
  },
  {
   "cell_type": "code",
   "execution_count": 11,
   "metadata": {
    "collapsed": false
   },
   "outputs": [],
   "source": [
    "using JSON\n",
    "\n",
    "link_day_minute_Apr_dict = readall(\"../temp_files/link_day_minute_Apr_dict_ext_JSON_insert_links_adjusted.json\");\n",
    "link_day_minute_Apr_dict = replace(link_day_minute_Apr_dict, \"NaN\", 0);\n",
    "\n",
    "link_day_minute_Apr_dict = JSON.parse(link_day_minute_Apr_dict);"
   ]
  },
  {
   "cell_type": "code",
   "execution_count": 12,
   "metadata": {
    "collapsed": false
   },
   "outputs": [],
   "source": [
    "# week_day_Apr_list = [2, 3, 4, 5, 6, 9, 10, 11, 12, 13, 16, 17, 18, 19, 20, 23, 24, 25, 26, 27, 30]\n",
    "\n",
    "# training set 1\n",
    "week_day_Apr_list_1 = [2, 3, 4, 5, 6, 9, 10, 11, 12, 13, 16, 17, 18, 19]\n",
    "\n",
    "# training set 2\n",
    "week_day_Apr_list_2 = [2, 3, 4, 5, 6, 9, 10, 20, 23, 24, 25, 26, 27, 30]\n",
    "\n",
    "# training set 3\n",
    "week_day_Apr_list_3 = [11, 12, 13, 16, 17, 18, 19, 20, 23, 24, 25, 26, 27, 30]\n",
    "\n",
    "arcs_1 = Dict{(Int, Int), Arc}[]\n",
    "for j in week_day_Apr_list_1\n",
    "    arcs_1_ = Dict{(Int, Int), Arc}()\n",
    "    for i = 0:73\n",
    "        key = \"link_$(i)_$(j)\"\n",
    "        initNode = link_day_minute_Apr_dict[key][\"init_node\"]\n",
    "        termNode = link_day_minute_Apr_dict[key][\"term_node\"]\n",
    "        capacity = link_day_minute_Apr_dict[key][\"MD_capac\"]\n",
    "        freeflowtime = link_day_minute_Apr_dict[key][\"free_flow_time\"]\n",
    "        flow = link_day_minute_Apr_dict[key][\"MD_flow\"]\n",
    "        arcs_1_[(initNode, termNode)] = Arc(initNode, termNode, capacity, freeflowtime, flow)\n",
    "    end\n",
    "    push!(arcs_1, arcs_1_)\n",
    "end\n",
    "\n",
    "arcs_2 = Dict{(Int, Int), Arc}[]\n",
    "for j in week_day_Apr_list_2\n",
    "    arcs_2_ = Dict{(Int, Int), Arc}()\n",
    "    for i = 0:73\n",
    "        key = \"link_$(i)_$(j)\"\n",
    "        initNode = link_day_minute_Apr_dict[key][\"init_node\"]\n",
    "        termNode = link_day_minute_Apr_dict[key][\"term_node\"]\n",
    "        capacity = link_day_minute_Apr_dict[key][\"MD_capac\"]\n",
    "        freeflowtime = link_day_minute_Apr_dict[key][\"free_flow_time\"]\n",
    "        flow = link_day_minute_Apr_dict[key][\"MD_flow\"]\n",
    "        arcs_2_[(initNode, termNode)] = Arc(initNode, termNode, capacity, freeflowtime, flow)\n",
    "    end\n",
    "    push!(arcs_2, arcs_2_)\n",
    "end\n",
    "\n",
    "arcs_3 = Dict{(Int, Int), Arc}[]\n",
    "for j in week_day_Apr_list_3\n",
    "    arcs_3_ = Dict{(Int, Int), Arc}()\n",
    "    for i = 0:73\n",
    "        key = \"link_$(i)_$(j)\"\n",
    "        initNode = link_day_minute_Apr_dict[key][\"init_node\"]\n",
    "        termNode = link_day_minute_Apr_dict[key][\"term_node\"]\n",
    "        capacity = link_day_minute_Apr_dict[key][\"MD_capac\"]\n",
    "        freeflowtime = link_day_minute_Apr_dict[key][\"free_flow_time\"]\n",
    "        flow = link_day_minute_Apr_dict[key][\"MD_flow\"]\n",
    "        arcs_3_[(initNode, termNode)] = Arc(initNode, termNode, capacity, freeflowtime, flow)\n",
    "    end\n",
    "    push!(arcs_3, arcs_3_)\n",
    "end"
   ]
  },
  {
   "cell_type": "code",
   "execution_count": 13,
   "metadata": {
    "collapsed": false
   },
   "outputs": [],
   "source": [
    "##########\n",
    "# Set up demand data and flow data\n",
    "##########\n",
    "numData = length(arcs_1); \n",
    "sigma = .0\n",
    "\n",
    "flow_data_1 = Array(Float64, length(arcs_1[1]), numData)\n",
    "\n",
    "demand_data = Dict{(Int, Int), Array{Float64, 1}}()\n",
    "\n",
    "numNodes = maximum(map(pair->pair[1], keys(demands)))\n",
    "g = simple_inclist(numNodes, is_directed=true)\n",
    "vArcs = Arc[]\n",
    "for arc in values(arcs_1[1])\n",
    "    add_edge!(g, arc.initNode, arc.termNode) \n",
    "    push!(vArcs, arc)\n",
    "end\n",
    "\n",
    "\n",
    "for iRun = 1:numData\n",
    "    for odpair in keys(demands)\n",
    "        if ! haskey(demand_data, odpair)\n",
    "            demand_data[odpair] = [demands[odpair], ]\n",
    "        else\n",
    "            push!(demand_data[odpair], demands[odpair])\n",
    "        end\n",
    "    end\n",
    "\n",
    "    #flow_data[:, iRun] = [a.flow::Float64 for a in vArcs]\n",
    "    flow_data_1[:, iRun] = [a.flow::Float64 for a in values(arcs_1[iRun])]\n",
    "end"
   ]
  },
  {
   "cell_type": "code",
   "execution_count": 14,
   "metadata": {
    "collapsed": true
   },
   "outputs": [],
   "source": [
    "##########\n",
    "# Set up demand data and flow data\n",
    "##########\n",
    "numData = length(arcs_2); \n",
    "sigma = .0\n",
    "\n",
    "flow_data_2 = Array(Float64, length(arcs_2[1]), numData)\n",
    "\n",
    "demand_data = Dict{(Int, Int), Array{Float64, 1}}()\n",
    "\n",
    "numNodes = maximum(map(pair->pair[1], keys(demands)))\n",
    "g = simple_inclist(numNodes, is_directed=true)\n",
    "vArcs = Arc[]\n",
    "for arc in values(arcs_2[1])\n",
    "    add_edge!(g, arc.initNode, arc.termNode) \n",
    "    push!(vArcs, arc)\n",
    "end\n",
    "\n",
    "\n",
    "for iRun = 1:numData\n",
    "    for odpair in keys(demands)\n",
    "        if ! haskey(demand_data, odpair)\n",
    "            demand_data[odpair] = [demands[odpair], ]\n",
    "        else\n",
    "            push!(demand_data[odpair], demands[odpair])\n",
    "        end\n",
    "    end\n",
    "\n",
    "    #flow_data[:, iRun] = [a.flow::Float64 for a in vArcs]\n",
    "    flow_data_2[:, iRun] = [a.flow::Float64 for a in values(arcs_2[iRun])]\n",
    "end"
   ]
  },
  {
   "cell_type": "code",
   "execution_count": 15,
   "metadata": {
    "collapsed": true
   },
   "outputs": [],
   "source": [
    "##########\n",
    "# Set up demand data and flow data\n",
    "##########\n",
    "numData = length(arcs_3); \n",
    "sigma = .0\n",
    "\n",
    "flow_data_3 = Array(Float64, length(arcs_3[1]), numData)\n",
    "\n",
    "demand_data = Dict{(Int, Int), Array{Float64, 1}}()\n",
    "\n",
    "numNodes = maximum(map(pair->pair[1], keys(demands)))\n",
    "g = simple_inclist(numNodes, is_directed=true)\n",
    "vArcs = Arc[]\n",
    "for arc in values(arcs_3[1])\n",
    "    add_edge!(g, arc.initNode, arc.termNode) \n",
    "    push!(vArcs, arc)\n",
    "end\n",
    "\n",
    "\n",
    "for iRun = 1:numData\n",
    "    for odpair in keys(demands)\n",
    "        if ! haskey(demand_data, odpair)\n",
    "            demand_data[odpair] = [demands[odpair], ]\n",
    "        else\n",
    "            push!(demand_data[odpair], demands[odpair])\n",
    "        end\n",
    "    end\n",
    "\n",
    "    #flow_data[:, iRun] = [a.flow::Float64 for a in vArcs]\n",
    "    flow_data_3[:, iRun] = [a.flow::Float64 for a in values(arcs_3[iRun])]\n",
    "end"
   ]
  },
  {
   "cell_type": "code",
   "execution_count": 16,
   "metadata": {
    "collapsed": false
   },
   "outputs": [
    {
     "data": {
      "text/plain": [
       "Dict{(Int64,Int64),Array{Float64,1}} with 484 entries:\n",
       "  (6,9)   => [7.2e-5,7.2e-5,7.2e-5,7.2e-5,7.2e-5,7.2e-5,7.2e-5,7.2e-5,7.2e-5,7.…\n",
       "  (18,3)  => [0.000804,0.000804,0.000804,0.000804,0.000804,0.000804,0.000804,0.…\n",
       "  (21,13) => [1.5e-5,1.5e-5,1.5e-5,1.5e-5,1.5e-5,1.5e-5,1.5e-5,1.5e-5,1.5e-5,1.…\n",
       "  (22,16) => [0.000176,0.000176,0.000176,0.000176,0.000176,0.000176,0.000176,0.…\n",
       "  (15,17) => [2.3e-5,2.3e-5,2.3e-5,2.3e-5,2.3e-5,2.3e-5,2.3e-5,2.3e-5,2.3e-5,2.…\n",
       "  (22,14) => [1.5e-5,1.5e-5,1.5e-5,1.5e-5,1.5e-5,1.5e-5,1.5e-5,1.5e-5,1.5e-5,1.…\n",
       "  (13,9)  => [0.000259,0.000259,0.000259,0.000259,0.000259,0.000259,0.000259,0.…\n",
       "  (8,9)   => [1.6e-5,1.6e-5,1.6e-5,1.6e-5,1.6e-5,1.6e-5,1.6e-5,1.6e-5,1.6e-5,1.…\n",
       "  (17,14) => [0.003042,0.003042,0.003042,0.003042,0.003042,0.003042,0.003042,0.…\n",
       "  (9,1)   => [9.0e-6,9.0e-6,9.0e-6,9.0e-6,9.0e-6,9.0e-6,9.0e-6,9.0e-6,9.0e-6,9.…\n",
       "  (16,6)  => [2.8e-5,2.8e-5,2.8e-5,2.8e-5,2.8e-5,2.8e-5,2.8e-5,2.8e-5,2.8e-5,2.…\n",
       "  (16,12) => [5.0e-6,5.0e-6,5.0e-6,5.0e-6,5.0e-6,5.0e-6,5.0e-6,5.0e-6,5.0e-6,5.…\n",
       "  (16,13) => [1.4e-5,1.4e-5,1.4e-5,1.4e-5,1.4e-5,1.4e-5,1.4e-5,1.4e-5,1.4e-5,1.…\n",
       "  (22,2)  => [1.1e-5,1.1e-5,1.1e-5,1.1e-5,1.1e-5,1.1e-5,1.1e-5,1.1e-5,1.1e-5,1.…\n",
       "  (7,16)  => [9.0e-6,9.0e-6,9.0e-6,9.0e-6,9.0e-6,9.0e-6,9.0e-6,9.0e-6,9.0e-6,9.…\n",
       "  (1,12)  => [0.00012,0.00012,0.00012,0.00012,0.00012,0.00012,0.00012,0.00012,0…\n",
       "  (4,5)   => [0.00619,0.00619,0.00619,0.00619,0.00619,0.00619,0.00619,0.00619,0…\n",
       "  (11,8)  => [0.001043,0.001043,0.001043,0.001043,0.001043,0.001043,0.001043,0.…\n",
       "  (18,21) => [3.0e-6,3.0e-6,3.0e-6,3.0e-6,3.0e-6,3.0e-6,3.0e-6,3.0e-6,3.0e-6,3.…\n",
       "  (19,4)  => [1.1e-5,1.1e-5,1.1e-5,1.1e-5,1.1e-5,1.1e-5,1.1e-5,1.1e-5,1.1e-5,1.…\n",
       "  (20,13) => [151.356782,151.356782,151.356782,151.356782,151.356782,151.356782…\n",
       "  (15,4)  => [1.6e-5,1.6e-5,1.6e-5,1.6e-5,1.6e-5,1.6e-5,1.6e-5,1.6e-5,1.6e-5,1.…\n",
       "  (6,18)  => [9.0e-6,9.0e-6,9.0e-6,9.0e-6,9.0e-6,9.0e-6,9.0e-6,9.0e-6,9.0e-6,9.…\n",
       "  (5,16)  => [8.0e-6,8.0e-6,8.0e-6,8.0e-6,8.0e-6,8.0e-6,8.0e-6,8.0e-6,8.0e-6,8.…\n",
       "  (4,9)   => [0.001699,0.001699,0.001699,0.001699,0.001699,0.001699,0.001699,0.…\n",
       "  ⋮       => ⋮"
      ]
     },
     "execution_count": 16,
     "metadata": {},
     "output_type": "execute_result"
    }
   ],
   "source": [
    "demand_data"
   ]
  },
  {
   "cell_type": "code",
   "execution_count": 17,
   "metadata": {
    "collapsed": false
   },
   "outputs": [
    {
     "data": {
      "text/plain": [
       "74x14 Array{Float64,2}:\n",
       " 1534.03    2490.7          1783.62    1164.39    …  1118.3     1134.62  \n",
       " 1567.8     1707.67         1933.24    1289.5        1140.28    1082.01  \n",
       " 2292.81    2221.47         1836.8     1116.41       1812.16    2336.62  \n",
       " 3076.05    3436.17         3476.45    2841.78       2886.59    3104.86  \n",
       "  934.742   1192.43         1099.16    1437.7         597.632    544.48  \n",
       " 2225.74    2682.12         2354.28    1547.54    …  1938.49    4040.0   \n",
       "  301.092   1437.4           838.621    760.567       367.726    183.53  \n",
       "  776.572    924.285        1179.05    1020.47        938.113    636.085 \n",
       "  336.324    332.748         245.074    211.369       268.149    252.558 \n",
       "  844.573   1615.48         2027.22    1387.11        668.626    632.194 \n",
       " 3269.56    3259.69         2988.45    1929.38    …  2503.28    2583.76  \n",
       " 3757.16    3471.91         2065.3     1634.52       1542.02    3561.84  \n",
       " 4474.28    4382.26         3725.61    2043.66       3716.28    4906.17  \n",
       "    ⋮                                             ⋱                      \n",
       " 4485.72    5088.22         4241.85    2776.0        2357.99    4051.04  \n",
       " 1772.7     1704.23         1330.24     935.91       1117.29    1705.55  \n",
       "  749.604    895.474         752.456    561.233       259.311    840.891 \n",
       " 1064.52    1303.34         1241.76     803.064   …   777.494   1095.1   \n",
       "  891.47     975.868        1325.78    1466.03       1240.27     711.68  \n",
       " 1555.05    1421.29         1358.49    1238.8        1371.92    1462.1   \n",
       " 2629.24    2587.47         1791.25    1419.45        843.015   2318.21  \n",
       " 2014.08    2948.74         1210.89     885.67        966.485   2078.24  \n",
       " 2014.08    2948.74         1210.89     885.67    …   966.485   2078.24  \n",
       "   20.4096     6.67674e-10    76.4916    20.3595       24.6431    63.3622\n",
       "  934.464   1346.87         1077.36     859.658       958.857    888.772 \n",
       " 1007.58     726.011         700.232    714.662       740.754   1014.41  "
      ]
     },
     "execution_count": 17,
     "metadata": {},
     "output_type": "execute_result"
    }
   ],
   "source": [
    "flow_data_3"
   ]
  },
  {
   "cell_type": "code",
   "execution_count": 18,
   "metadata": {
    "collapsed": false
   },
   "outputs": [
    {
     "data": {
      "text/plain": [
       "Dict{(Int64,Int64),Array{Float64,1}} with 484 entries:\n",
       "  (6,9)   => [7.2e-5,7.2e-5,7.2e-5,7.2e-5,7.2e-5,7.2e-5,7.2e-5,7.2e-5,7.2e-5,7.…\n",
       "  (18,3)  => [0.000804,0.000804,0.000804,0.000804,0.000804,0.000804,0.000804,0.…\n",
       "  (21,13) => [1.5e-5,1.5e-5,1.5e-5,1.5e-5,1.5e-5,1.5e-5,1.5e-5,1.5e-5,1.5e-5,1.…\n",
       "  (22,16) => [0.000176,0.000176,0.000176,0.000176,0.000176,0.000176,0.000176,0.…\n",
       "  (15,17) => [2.3e-5,2.3e-5,2.3e-5,2.3e-5,2.3e-5,2.3e-5,2.3e-5,2.3e-5,2.3e-5,2.…\n",
       "  (22,14) => [1.5e-5,1.5e-5,1.5e-5,1.5e-5,1.5e-5,1.5e-5,1.5e-5,1.5e-5,1.5e-5,1.…\n",
       "  (13,9)  => [0.000259,0.000259,0.000259,0.000259,0.000259,0.000259,0.000259,0.…\n",
       "  (8,9)   => [1.6e-5,1.6e-5,1.6e-5,1.6e-5,1.6e-5,1.6e-5,1.6e-5,1.6e-5,1.6e-5,1.…\n",
       "  (17,14) => [0.003042,0.003042,0.003042,0.003042,0.003042,0.003042,0.003042,0.…\n",
       "  (9,1)   => [9.0e-6,9.0e-6,9.0e-6,9.0e-6,9.0e-6,9.0e-6,9.0e-6,9.0e-6,9.0e-6,9.…\n",
       "  (16,6)  => [2.8e-5,2.8e-5,2.8e-5,2.8e-5,2.8e-5,2.8e-5,2.8e-5,2.8e-5,2.8e-5,2.…\n",
       "  (16,12) => [5.0e-6,5.0e-6,5.0e-6,5.0e-6,5.0e-6,5.0e-6,5.0e-6,5.0e-6,5.0e-6,5.…\n",
       "  (16,13) => [1.4e-5,1.4e-5,1.4e-5,1.4e-5,1.4e-5,1.4e-5,1.4e-5,1.4e-5,1.4e-5,1.…\n",
       "  (22,2)  => [1.1e-5,1.1e-5,1.1e-5,1.1e-5,1.1e-5,1.1e-5,1.1e-5,1.1e-5,1.1e-5,1.…\n",
       "  (7,16)  => [9.0e-6,9.0e-6,9.0e-6,9.0e-6,9.0e-6,9.0e-6,9.0e-6,9.0e-6,9.0e-6,9.…\n",
       "  (1,12)  => [0.00012,0.00012,0.00012,0.00012,0.00012,0.00012,0.00012,0.00012,0…\n",
       "  (4,5)   => [0.00619,0.00619,0.00619,0.00619,0.00619,0.00619,0.00619,0.00619,0…\n",
       "  (11,8)  => [0.001043,0.001043,0.001043,0.001043,0.001043,0.001043,0.001043,0.…\n",
       "  (18,21) => [3.0e-6,3.0e-6,3.0e-6,3.0e-6,3.0e-6,3.0e-6,3.0e-6,3.0e-6,3.0e-6,3.…\n",
       "  (19,4)  => [1.1e-5,1.1e-5,1.1e-5,1.1e-5,1.1e-5,1.1e-5,1.1e-5,1.1e-5,1.1e-5,1.…\n",
       "  (20,13) => [151.356782,151.356782,151.356782,151.356782,151.356782,151.356782…\n",
       "  (15,4)  => [1.6e-5,1.6e-5,1.6e-5,1.6e-5,1.6e-5,1.6e-5,1.6e-5,1.6e-5,1.6e-5,1.…\n",
       "  (6,18)  => [9.0e-6,9.0e-6,9.0e-6,9.0e-6,9.0e-6,9.0e-6,9.0e-6,9.0e-6,9.0e-6,9.…\n",
       "  (5,16)  => [8.0e-6,8.0e-6,8.0e-6,8.0e-6,8.0e-6,8.0e-6,8.0e-6,8.0e-6,8.0e-6,8.…\n",
       "  (4,9)   => [0.001699,0.001699,0.001699,0.001699,0.001699,0.001699,0.001699,0.…\n",
       "  ⋮       => ⋮"
      ]
     },
     "execution_count": 18,
     "metadata": {},
     "output_type": "execute_result"
    }
   ],
   "source": [
    "demand_data"
   ]
  },
  {
   "cell_type": "code",
   "execution_count": 19,
   "metadata": {
    "collapsed": false
   },
   "outputs": [
    {
     "data": {
      "text/plain": [
       "train (generic function with 1 method)"
      ]
     },
     "execution_count": 19,
     "metadata": {},
     "output_type": "execute_result"
    }
   ],
   "source": [
    "##########\n",
    "#Fitting Funcs\n",
    "##########\n",
    "\n",
    "function train(indices, lam::Float64, deg::Int, c::Float64, demand_data, flow_data, arcs; fcoeffs=nothing)\n",
    "    numNodes = maximum(map(pair->pair[1], keys(arcs)))\n",
    "    m, coeffs, reg_term = setUpFitting(deg, c)\n",
    "    \n",
    "    addIncreasingCnsts(m, coeffs, arcs, TOL=1e-8)  #uses the original obs flows\n",
    "\n",
    "    avgCost = mean( [bpacost(a.flow, a.capacity, 1.0) for a in values(arcs)] )\n",
    "    normalize(m, coeffs, [a.flow / a.capacity for a in values(arcs)], avgCost)\n",
    "\n",
    "\n",
    "    resids = Variable[]\n",
    "    \n",
    "    for i = indices\n",
    "        #copy the flow data over to the arcs, demand data to demands (slow)\n",
    "        for (ix, a) in enumerate(vArcs)\n",
    "            a.flow = flow_data[ix, i]\n",
    "        end\n",
    "        for odpair in keys(demands)\n",
    "            demands[odpair] = demand_data[odpair][i]\n",
    "        end\n",
    "    \n",
    "        #Dual Feasibility\n",
    "        ys = addNetworkCnsts(m, coeffs, demands, arcs, numNodes)\n",
    "        \n",
    "        #add the residual for this data point\n",
    "        push!(resids, addResid(m, coeffs, ys, demands, arcs, 1e6))\n",
    "    end\n",
    "\n",
    "    if fcoeffs != nothing\n",
    "        fixCoeffs(m, fcoeffs, coeffs)\n",
    "    end\n",
    "    @setObjective(m, Min, sum{resids[i], i = 1:length(resids)} + lam*reg_term)\n",
    "    solve(m)\n",
    "    #println(getObjectiveValue(m) - lam * getValue(reg_term) )\n",
    "    return [getValue(coeffs[i]) for i =1:length(coeffs)]\n",
    "end"
   ]
  },
  {
   "cell_type": "code",
   "execution_count": 20,
   "metadata": {
    "collapsed": false
   },
   "outputs": [],
   "source": [
    "#include(\"trafficCval.jl\")\n",
    "\n",
    "coeffs_dict_Apr_MD = Dict{(Int64,Float64,Float64,Int64),Array{Float64,1}}()\n",
    "\n",
    "deg_grid = [7]\n",
    "c_grid = .5\n",
    "lamb_grid = [10. .^(4)]\n",
    "\n",
    "for deg in deg_grid\n",
    "    for c in c_grid\n",
    "        for lam in lamb_grid\n",
    "            coeffs_dict_Apr_MD[(deg, c, lam, 1)] = train(1:numData, lam, deg, c, demand_data, flow_data_1, arcs_1[1])\n",
    "            coeffs_dict_Apr_MD[(deg, c, lam, 2)] = train(1:numData, lam, deg, c, demand_data, flow_data_2, arcs_2[1])\n",
    "            coeffs_dict_Apr_MD[(deg, c, lam, 3)] = train(1:numData, lam, deg, c, demand_data, flow_data_3, arcs_3[1])\n",
    "        end\n",
    "    end\n",
    "end"
   ]
  },
  {
   "cell_type": "code",
   "execution_count": 21,
   "metadata": {
    "collapsed": false
   },
   "outputs": [],
   "source": [
    "outfile = open(\"../temp_files/coeffs_dict_Apr_MD_ext.json\", \"w\")\n",
    "\n",
    "JSON.print(outfile, coeffs_dict_Apr_MD)\n",
    "\n",
    "close(outfile)"
   ]
  },
  {
   "cell_type": "code",
   "execution_count": 22,
   "metadata": {
    "collapsed": false
   },
   "outputs": [
    {
     "data": {
      "text/plain": [
       "Dict{String,Any} with 3 entries:\n",
       "  \"(7,0.5,10000.0,1)\" => {1.0,0.0008625489603073774,0.026899131132606894,-0.0347…\n",
       "  \"(7,0.5,10000.0,3)\" => {1.0,-7.272998636678652e-5,0.024219061137211444,-0.0347…\n",
       "  \"(7,0.5,10000.0,2)\" => {1.0,0.0008625489603073774,0.026899131132606894,-0.0347…"
      ]
     },
     "execution_count": 22,
     "metadata": {},
     "output_type": "execute_result"
    }
   ],
   "source": [
    "coeffs_dict_Apr_MD_ = readall(\"../temp_files/coeffs_dict_Apr_MD_ext.json\")\n",
    "coeffs_dict_Apr_MD_ = JSON.parse(coeffs_dict_Apr_MD_)"
   ]
  },
  {
   "cell_type": "code",
   "execution_count": 25,
   "metadata": {
    "collapsed": false
   },
   "outputs": [
    {
     "data": {
      "text/plain": [
       "8-element Array{Any,1}:\n",
       "  1.0        \n",
       "  0.000862549\n",
       "  0.0268991  \n",
       " -0.0347394  \n",
       "  0.156585   \n",
       " -0.0997472  \n",
       "  0.105495   \n",
       " -0.0150461  "
      ]
     },
     "execution_count": 25,
     "metadata": {},
     "output_type": "execute_result"
    }
   ],
   "source": [
    "coeffs_dict_Apr_MD_[\"(7,0.5,10000.0,1)\"]"
   ]
  },
  {
   "cell_type": "code",
   "execution_count": 32,
   "metadata": {
    "collapsed": false
   },
   "outputs": [
    {
     "data": {
      "image/png": "[encoded data removed]",
      "text/plain": [
       "Figure(PyObject <matplotlib.figure.Figure object at 0x7f815b6b2950>)"
      ]
     },
     "metadata": {},
     "output_type": "display_data"
    }
   ],
   "source": [
    "using PyPlot\n",
    "\n",
    "fcoeffs = coeffs_dict_Apr_MD_[\"(7,0.5,10000.0,1)\"]\n",
    "\n",
    "\n",
    "xs = linspace(0, 1.1, 30)\n",
    "ys = map(x->polyEval(fcoeffs, x), xs)\n",
    "\n",
    "plot(xs, ys, \"o-m\", label=\"Apr_MD\")\n",
    "\n",
    "#legend(loc=\"upper left\",fancybox=\"true\") \n",
    "\n",
    "grid(\"on\")\n",
    "xlim(-0.1, 1.05);\n",
    "ylim(0.99, 1.2);\n",
    "\n",
    "font1 = [\"family\"=>\"serif\",\n",
    "    \"color\"=>\"darkred\",\n",
    "    \"weight\"=>\"normal\",\n",
    "    \"size\"=>14]\n",
    "xlabel(\"Scaled Flow\", fontdict=font1)\n",
    "\n",
    "savefig(\"../temp_files/fitting_Apr_MD_ext.pdf\")"
   ]
  },
  {
   "cell_type": "code",
   "execution_count": null,
   "metadata": {
    "collapsed": true
   },
   "outputs": [],
   "source": []
  }
 ],
 "metadata": {
  "kernelspec": {
   "display_name": "Julia 0.3.7",
   "language": "julia",
   "name": "julia-0.3"
  },
  "language_info": {
   "file_extension": ".jl",
   "mimetype": "application/julia",
   "name": "julia",
   "version": "0.3.7"
  }
 },
 "nbformat": 4,
 "nbformat_minor": 0
}
