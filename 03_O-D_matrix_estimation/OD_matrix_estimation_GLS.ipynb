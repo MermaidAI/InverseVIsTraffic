{
 "cells": [
  {
   "cell_type": "code",
   "execution_count": 1,
   "metadata": {
    "collapsed": true
   },
   "outputs": [],
   "source": [
    "%run ../Python_files/load_dicts.py\n",
    "%run ../Python_files/util.py"
   ]
  },
  {
   "cell_type": "code",
   "execution_count": 2,
   "metadata": {
    "collapsed": false
   },
   "outputs": [
    {
     "name": "stdout",
     "output_type": "stream",
     "text": [
      "rank of S is: \n",
      "\n",
      "24\n",
      "sizes of S are: \n",
      "\n",
      "24\n",
      "24\n",
      "rank of PA_t is: \n",
      "\n",
      "24\n",
      "sizes of PA_t are: \n",
      "\n",
      "56\n",
      "24\n",
      "rank of Q is: \n",
      "\n",
      "24\n",
      "sizes of Q are: \n",
      "\n",
      "56\n",
      "56\n"
     ]
    }
   ],
   "source": [
    "%run ../Python_files/OD_matrix_estimation_GLS_Jan_weekday_AM.py"
   ]
  },
  {
   "cell_type": "code",
   "execution_count": 1,
   "metadata": {
    "collapsed": false
   },
   "outputs": [],
   "source": [
    "%run ../Python_files/OD_matrix_estimation_GLS_Jan_weekday_MD.py\n",
    "%run ../Python_files/OD_matrix_estimation_GLS_Jan_weekday_PM.py\n",
    "%run ../Python_files/OD_matrix_estimation_GLS_Jan_weekday_NT.py\n",
    "%run ../Python_files/OD_matrix_estimation_GLS_Jan_weekend.py\n",
    "\n",
    "%run ../Python_files/OD_matrix_estimation_GLS_Apr_weekday_AM.py\n",
    "%run ../Python_files/OD_matrix_estimation_GLS_Apr_weekday_MD.py\n",
    "%run ../Python_files/OD_matrix_estimation_GLS_Apr_weekday_PM.py\n",
    "%run ../Python_files/OD_matrix_estimation_GLS_Apr_weekday_NT.py\n",
    "%run ../Python_files/OD_matrix_estimation_GLS_Apr_weekend.py\n",
    "\n",
    "%run ../Python_files/OD_matrix_estimation_GLS_Jul_weekday_AM.py\n",
    "%run ../Python_files/OD_matrix_estimation_GLS_Jul_weekday_MD.py\n",
    "%run ../Python_files/OD_matrix_estimation_GLS_Jul_weekday_PM.py\n",
    "%run ../Python_files/OD_matrix_estimation_GLS_Jul_weekday_NT.py\n",
    "%run ../Python_files/OD_matrix_estimation_GLS_Jul_weekend.py\n",
    "\n",
    "%run ../Python_files/OD_matrix_estimation_GLS_Oct_weekday_AM.py\n",
    "%run ../Python_files/OD_matrix_estimation_GLS_Oct_weekday_MD.py\n",
    "%run ../Python_files/OD_matrix_estimation_GLS_Oct_weekday_PM.py\n",
    "%run ../Python_files/OD_matrix_estimation_GLS_Oct_weekday_NT.py\n",
    "%run ../Python_files/OD_matrix_estimation_GLS_Oct_weekend.py"
   ]
  },
  {
   "cell_type": "code",
   "execution_count": null,
   "metadata": {
    "collapsed": true
   },
   "outputs": [],
   "source": []
  }
 ],
 "metadata": {
  "kernelspec": {
   "display_name": "Python 2",
   "language": "python",
   "name": "python2"
  },
  "language_info": {
   "codemirror_mode": {
    "name": "ipython",
    "version": 2
   },
   "file_extension": ".py",
   "mimetype": "text/x-python",
   "name": "python",
   "nbconvert_exporter": "python",
   "pygments_lexer": "ipython2",
   "version": "2.7.11"
  }
 },
 "nbformat": 4,
 "nbformat_minor": 0
}
