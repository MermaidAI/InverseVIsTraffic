{
 "cells": [
  {
   "cell_type": "code",
   "execution_count": 1,
   "metadata": {
    "collapsed": true
   },
   "outputs": [],
   "source": [
    "%run ../Python_files/load_dicts.py\n",
    "%run ../Python_files/util.py"
   ]
  },
  {
   "cell_type": "code",
   "execution_count": 2,
   "metadata": {
    "collapsed": false
   },
   "outputs": [],
   "source": [
    "%run ../Python_files/OD_matrix_estimation_GLS_Jan_weekday_AM.py"
   ]
  },
  {
   "cell_type": "code",
   "execution_count": 3,
   "metadata": {
    "collapsed": false
   },
   "outputs": [],
   "source": [
    "%run ../Python_files/OD_matrix_estimation_GLS_Jan_weekday_MD.py\n",
    "%run ../Python_files/OD_matrix_estimation_GLS_Jan_weekday_PM.py\n",
    "%run ../Python_files/OD_matrix_estimation_GLS_Jan_weekday_NT.py\n",
    "%run ../Python_files/OD_matrix_estimation_GLS_Jan_weekend.py\n",
    "\n",
    "%run ../Python_files/OD_matrix_estimation_GLS_Apr_weekday_AM.py\n",
    "%run ../Python_files/OD_matrix_estimation_GLS_Apr_weekday_MD.py\n",
    "%run ../Python_files/OD_matrix_estimation_GLS_Apr_weekday_PM.py\n",
    "%run ../Python_files/OD_matrix_estimation_GLS_Apr_weekday_NT.py\n",
    "%run ../Python_files/OD_matrix_estimation_GLS_Apr_weekend.py\n",
    "\n",
    "%run ../Python_files/OD_matrix_estimation_GLS_Jul_weekday_AM.py\n",
    "%run ../Python_files/OD_matrix_estimation_GLS_Jul_weekday_MD.py\n",
    "%run ../Python_files/OD_matrix_estimation_GLS_Jul_weekday_PM.py\n",
    "%run ../Python_files/OD_matrix_estimation_GLS_Jul_weekday_NT.py\n",
    "%run ../Python_files/OD_matrix_estimation_GLS_Jul_weekend.py\n",
    "\n",
    "%run ../Python_files/OD_matrix_estimation_GLS_Oct_weekday_AM.py\n",
    "%run ../Python_files/OD_matrix_estimation_GLS_Oct_weekday_MD.py\n",
    "%run ../Python_files/OD_matrix_estimation_GLS_Oct_weekday_PM.py\n",
    "%run ../Python_files/OD_matrix_estimation_GLS_Oct_weekday_NT.py\n",
    "%run ../Python_files/OD_matrix_estimation_GLS_Oct_weekend.py"
   ]
  },
  {
   "cell_type": "code",
   "execution_count": null,
   "metadata": {
    "collapsed": true
   },
   "outputs": [],
   "source": []
  }
 ],
 "metadata": {
  "kernelspec": {
   "display_name": "Python 2",
   "language": "python",
   "name": "python2"
  },
  "language_info": {
   "codemirror_mode": {
    "name": "ipython",
    "version": 2
   },
   "file_extension": ".py",
   "mimetype": "text/x-python",
   "name": "python",
   "nbconvert_exporter": "python",
   "pygments_lexer": "ipython2",
   "version": "2.7.11"
  }
 },
 "nbformat": 4,
 "nbformat_minor": 0
}
