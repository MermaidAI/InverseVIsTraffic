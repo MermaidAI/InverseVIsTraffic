{
 "cells": [
  {
   "cell_type": "code",
   "execution_count": 1,
   "metadata": {
    "collapsed": false
   },
   "outputs": [
    {
     "name": "stdout",
     "output_type": "stream",
     "text": [
      "No dicts found; please check load_dicts...\n"
     ]
    }
   ],
   "source": [
    "using PyCall\n",
    "unshift!(PyVector(pyimport(\"sys\")[\"path\"]), \"\");\n",
    "@pyimport GLS_Jul_weekend"
   ]
  },
  {
   "cell_type": "code",
   "execution_count": 2,
   "metadata": {
    "collapsed": false
   },
   "outputs": [
    {
     "data": {
      "text/plain": [
       "314"
      ]
     },
     "execution_count": 2,
     "metadata": {},
     "output_type": "execute_result"
    }
   ],
   "source": [
    "xi_list = GLS_Jul_weekend.xi_list\n",
    "P = GLS_Jul_weekend.P\n",
    "L = GLS_Jul_weekend.L  # dimension of xi"
   ]
  },
  {
   "cell_type": "code",
   "execution_count": 3,
   "metadata": {
    "collapsed": false
   },
   "outputs": [
    {
     "data": {
      "text/plain": [
       "(56,314)"
      ]
     },
     "execution_count": 3,
     "metadata": {},
     "output_type": "execute_result"
    }
   ],
   "source": [
    "size(P, 1), size(P, 2)"
   ]
  },
  {
   "cell_type": "code",
   "execution_count": 4,
   "metadata": {
    "collapsed": false
   },
   "outputs": [
    {
     "name": "stdout",
     "output_type": "stream",
     "text": [
      "\n",
      "******************************************************************************\n",
      "This program contains Ipopt, a library for large-scale nonlinear optimization.\n",
      " Ipopt is released as open source code under the Eclipse Public License (EPL).\n",
      "         For more information visit http://projects.coin-or.org/Ipopt\n",
      "******************************************************************************\n",
      "\n",
      "This is Ipopt version 3.12.1, running with linear solver mumps.\n",
      "NOTE: Other linear solvers might be more efficient (see Ipopt documentation).\n",
      "\n",
      "Number of nonzeros in equality constraint Jacobian...:    70022\n",
      "Number of nonzeros in inequality constraint Jacobian.:        0\n",
      "Number of nonzeros in Lagrangian Hessian.............:    52752\n",
      "\n",
      "Total number of variables............................:    17640\n",
      "                     variables with only lower bounds:    17640\n",
      "                variables with lower and upper bounds:        0\n",
      "                     variables with only upper bounds:        0\n",
      "Total number of equality constraints.................:    17640\n",
      "Total number of inequality constraints...............:        0\n",
      "        inequality constraints with only lower bounds:        0\n",
      "   inequality constraints with lower and upper bounds:        0\n",
      "        inequality constraints with only upper bounds:        0\n",
      "\n",
      "iter    objective    inf_pr   inf_du lg(mu)  ||d||  lg(rg) alpha_du alpha_pr  ls\n",
      "   0  3.1399969e+00 4.09e+02 1.00e+00  -1.0 0.00e+00    -  0.00e+00 0.00e+00   0\n",
      "   1r 3.1399969e+00 4.09e+02 9.99e+02   2.6 0.00e+00    -  0.00e+00 1.60e-10R 13\n",
      "   2r 1.4637191e+01 3.88e+02 1.27e+03   2.6 5.23e+02    -  4.47e-03 2.19e-02f  1\n",
      "   3r 1.3776844e+01 3.89e+02 9.79e+02   1.2 9.82e+00   2.0 1.00e+00 1.77e-01f  1\n",
      "   4r 1.2804315e+01 3.86e+02 9.77e+02   1.2 2.91e+01   1.5 9.17e-01 2.02e-01f  1\n",
      "   5r 1.2464535e+01 3.78e+02 9.74e+02   0.5 8.54e+01   1.0 2.79e-01 1.06e-01f  1\n",
      "   6r 1.1870720e+01 3.75e+02 1.59e+03   0.5 3.23e+01   1.5 8.55e-01 1.20e-01f  1\n",
      "   7r 1.0668670e+01 3.74e+02 1.06e+03   0.5 1.21e+01   1.9 4.54e-01 2.97e-01f  1\n",
      "   8r 9.5143663e+00 3.70e+02 1.09e+03   0.5 3.68e+01   1.4 2.04e-01 1.33e-01f  1\n",
      "   9r 9.1278201e+00 3.69e+02 9.66e+02   0.5 1.37e+01   1.8 9.79e-01 1.20e-01f  1\n",
      "iter    objective    inf_pr   inf_du lg(mu)  ||d||  lg(rg) alpha_du alpha_pr  ls\n",
      "  10r 8.3414923e+00 3.67e+02 9.67e+02   0.5 4.22e+01   1.4 1.92e-01 5.52e-02f  1\n",
      "  11r 7.6811944e+00 3.65e+02 9.67e+02   0.5 1.55e+01   1.8 6.92e-01 2.30e-01f  1\n",
      "  12r 7.3529159e+00 3.64e+02 9.66e+02   0.5 5.79e+00   2.2 5.55e-01 2.14e-01f  1\n",
      "  13r 7.0759182e+00 3.62e+02 9.66e+02   0.5 1.74e+01   1.7 8.93e-01 1.35e-01f  1\n",
      "  14r 6.8125779e+00 3.61e+02 9.66e+02   0.5 6.53e+00   2.2 5.96e-01 2.30e-01f  1\n",
      "  15r 6.7080246e+00 3.59e+02 9.67e+02   0.5 1.97e+01   1.7 1.00e+00 1.13e-01f  1\n",
      "  16r 6.5481497e+00 3.58e+02 9.67e+02   0.5 7.36e+00   2.1 7.01e-01 2.13e-01f  1\n",
      "  17r 6.5504611e+00 3.56e+02 9.68e+02   0.5 2.22e+01   1.6 1.00e+00 1.04e-01f  1\n",
      "  18r 6.4465434e+00 3.54e+02 9.68e+02   0.5 8.29e+00   2.1 8.41e-01 2.08e-01f  1\n",
      "  19r 6.5052141e+00 3.52e+02 9.68e+02   0.5 2.50e+01   1.6 1.00e+00 9.98e-02f  1\n",
      "iter    objective    inf_pr   inf_du lg(mu)  ||d||  lg(rg) alpha_du alpha_pr  ls\n",
      "  20r 6.4482883e+00 3.50e+02 9.69e+02   0.5 9.34e+00   2.0 1.00e+00 1.76e-01f  1\n",
      "  21r 6.5441603e+00 3.48e+02 9.69e+02   0.5 2.81e+01   1.5 1.00e+00 1.02e-01f  1\n",
      "  22r 6.8483927e+00 3.44e+02 9.69e+02   0.5 9.81e+01   1.1 2.54e-02 4.71e-02f  1\n",
      "  23r 7.0555574e+00 3.41e+02 9.69e+02   0.5 5.80e+02   0.6 4.33e-03 8.12e-03f  1\n",
      "  24r 7.2704655e+00 3.39e+02 9.71e+02   0.5 6.61e+03   0.1 7.98e-04 1.72e-03f  1\n",
      "  25r 7.5296257e+00 3.35e+02 9.69e+02   0.5 3.20e+02   0.5 1.73e-01 1.14e-02f  1\n",
      "  26r 7.6874864e+00 3.32e+02 9.69e+02   0.5 1.09e+02   1.0 6.45e-01 3.42e-02f  1\n",
      "  27r 8.3064742e+00 3.22e+02 9.70e+02   0.5 3.65e+02   0.5 1.26e-02 2.57e-02f  1\n",
      "  28r 8.2359400e+00 3.21e+02 9.71e+02   0.5 1.50e+01   1.8 6.85e-01 5.49e-02f  1\n",
      "  29r 8.0231239e+00 3.20e+02 9.72e+02   0.5 5.63e+00   2.2 1.00e+00 3.24e-01f  1\n",
      "iter    objective    inf_pr   inf_du lg(mu)  ||d||  lg(rg) alpha_du alpha_pr  ls\n",
      "  30r 7.9558889e+00 3.18e+02 9.72e+02   0.5 1.69e+01   1.8 8.57e-01 1.09e-01f  1\n",
      "  31r 7.8340805e+00 3.17e+02 9.72e+02   0.5 6.32e+00   2.2 1.00e+00 2.57e-01f  1\n",
      "  32r 7.7647656e+00 3.15e+02 9.72e+02   0.5 1.90e+01   1.7 9.14e-01 1.17e-01f  1\n",
      "  33r 7.7559045e+00 3.11e+02 9.72e+02   0.5 5.73e+01   1.2 1.00e+00 6.43e-02f  1\n",
      "  34r 7.6991102e+00 3.08e+02 9.73e+02   0.5 2.14e+01   1.7 1.00e+00 1.28e-01f  1\n",
      "  35r 7.7083468e+00 3.03e+02 9.73e+02   0.5 6.44e+01   1.2 1.00e+00 7.86e-02f  1\n",
      "  36r 7.6580803e+00 3.00e+02 9.73e+02   0.5 2.41e+01   1.6 1.00e+00 1.48e-01f  1\n",
      "  37r 7.6908587e+00 2.93e+02 9.72e+02   0.5 7.25e+01   1.1 1.00e+00 9.12e-02f  1\n",
      "  38r 7.6571499e+00 2.89e+02 9.72e+02   0.5 2.71e+01   1.6 1.00e+00 1.50e-01f  1\n",
      "  39r 7.7092166e+00 2.82e+02 9.73e+02   0.5 8.17e+01   1.1 1.00e+00 8.65e-02f  1\n",
      "iter    objective    inf_pr   inf_du lg(mu)  ||d||  lg(rg) alpha_du alpha_pr  ls\n",
      "  40r 7.6894998e+00 2.77e+02 9.73e+02   0.5 3.05e+01   1.5 1.00e+00 1.69e-01f  1\n",
      "  41r 7.8029449e+00 2.64e+02 9.74e+02   0.5 9.20e+01   1.0 1.00e+00 1.34e-01f  1\n",
      "  42r 7.8032915e+00 2.63e+02 9.74e+02   0.5 3.43e+01   1.5 1.00e+00 4.09e-02f  1\n",
      "  43r 7.8967597e+00 2.53e+02 9.75e+02   0.5 1.04e+02   1.0 1.00e+00 8.95e-02f  1\n",
      "  44r 7.9092624e+00 2.47e+02 9.75e+02   0.5 3.87e+01   1.4 1.00e+00 1.64e-01f  1\n",
      "  45r 8.0134117e+00 2.38e+02 9.75e+02   0.5 1.17e+02   0.9 1.00e+00 8.12e-02f  1\n",
      "  46r 8.0391028e+00 2.32e+02 9.76e+02   0.5 4.35e+01   1.4 1.00e+00 1.41e-01f  1\n",
      "  47r 8.1851466e+00 2.19e+02 9.76e+02   0.5 1.31e+02   0.9 1.00e+00 9.58e-02f  1\n",
      "  48r 8.2206615e+00 2.13e+02 9.77e+02   0.5 4.90e+01   1.3 1.00e+00 1.26e-01f  1\n",
      "  49r 8.3707044e+00 2.00e+02 9.77e+02   0.5 1.48e+02   0.8 8.11e-01 8.73e-02f  1\n",
      "iter    objective    inf_pr   inf_du lg(mu)  ||d||  lg(rg) alpha_du alpha_pr  ls\n",
      "  50r 8.4004762e+00 1.94e+02 9.77e+02   0.5 5.52e+01   1.2 1.00e+00 1.04e-01f  1\n",
      "  51r 8.3539937e+00 1.80e+02 9.78e+02   0.5 1.66e+02   0.8 2.58e-01 8.37e-02f  1\n",
      "  52r 8.3367784e+00 1.79e+02 9.78e+02   0.5 7.75e+00   2.1 1.00e+00 1.91e-01f  1\n",
      "  53r 8.1117692e+00 1.63e+02 9.79e+02   0.5 2.33e+01   1.6 1.00e+00 7.01e-01f  1\n",
      "  54r 7.9073240e+00 1.39e+02 9.80e+02   0.5 6.99e+01   1.1 8.92e-01 3.37e-01f  1\n",
      "  55r 7.8921752e+00 1.37e+02 9.80e+02   0.5 2.62e+01   1.6 1.00e+00 6.13e-02f  1\n",
      "  56r 7.8865401e+00 1.36e+02 9.80e+02   0.5 7.88e+01   1.1 7.66e-02 1.39e-02f  1\n",
      "  57r 7.7052068e+00 1.17e+02 9.80e+02   0.5 2.95e+01   1.5 1.00e+00 6.73e-01f  1\n",
      "  58r 7.6989176e+00 1.16e+02 9.80e+02   0.5 8.86e+01   1.0 1.00e+00 1.24e-02f  1\n",
      "  59r 7.6721309e+00 1.07e+02 9.80e+02   0.5 2.67e+02   0.6 2.96e-01 3.14e-02f  1\n",
      "iter    objective    inf_pr   inf_du lg(mu)  ||d||  lg(rg) alpha_du alpha_pr  ls\n",
      "  60r 7.6464178e+00 1.02e+02 9.81e+02   0.5 9.98e+01   1.0 1.00e+00 4.82e-02f  1\n",
      "  61r 7.5224786e+00 5.65e+01 9.82e+02   0.5 3.01e+02   0.5 3.14e-01 1.47e-01f  1\n",
      "  62r 7.5195214e+00 5.58e+01 9.81e+02   0.5 1.12e+02   0.9 1.00e+00 6.07e-03f  1\n",
      "  63r 7.4066397e+00 1.00e+01 9.82e+02   0.5 3.38e+02   0.5 2.04e-01 1.47e-01f  1\n",
      "  64r 7.4043224e+00 1.01e+01 9.71e+02   0.5 1.25e+02   0.9 1.00e+00 5.15e-03f  1\n",
      "  65r 7.3805565e+00 1.00e+01 9.14e+02   0.5 4.41e+01   1.3 1.00e+00 1.01e-01f  1\n",
      "  66r 7.3387232e+00 9.99e+00 2.44e+02   0.5 3.55e+01   0.8 1.00e+00 9.26e-02f  1\n",
      "  67r 7.0397463e+00 9.66e+00 1.73e+02  -0.2 3.59e+00   1.3 2.91e-01 2.68e-01f  1\n",
      "  68r 6.9741287e+00 9.85e+00 1.64e+02  -0.2 3.87e+01   0.8 5.14e-02 3.85e-02f  1\n",
      "  69r 6.5651371e+00 9.54e+00 2.08e+02  -0.2 6.82e+00   1.2 2.46e-01 3.45e-01f  1\n",
      "iter    objective    inf_pr   inf_du lg(mu)  ||d||  lg(rg) alpha_du alpha_pr  ls\n",
      "  70r 5.9758724e+00 9.09e+00 3.39e+02  -0.2 1.50e+01   0.7 2.76e-01 4.63e-01f  1\n",
      "  71r 5.3265494e+00 1.27e+01 2.77e+02  -0.2 2.83e+01    -  3.16e-01 4.29e-01f  1\n",
      "  72r 4.4240188e+00 1.71e+01 2.52e+02  -0.2 1.94e+01    -  5.62e-01 1.00e+00f  1\n",
      "  73r 4.4165839e+00 6.37e+00 5.53e+00  -0.2 4.27e+00    -  1.00e+00 1.00e+00h  1\n",
      "  74r 4.3441974e+00 6.22e+00 2.62e+02  -1.6 3.15e+00    -  2.08e-01 5.92e-01f  1\n",
      "  75r 3.3497508e+00 2.00e+01 3.36e+02  -1.6 5.80e+01    -  2.76e-01 6.23e-01f  1\n",
      "  76r 2.5496069e+00 2.58e+01 1.28e+02  -1.6 3.58e+01    -  8.05e-01 1.00e+00f  1\n",
      "  77r 2.5192991e+00 3.08e+00 3.30e+00  -1.6 1.46e+01    -  1.00e+00 1.00e+00h  1\n",
      "  78r 2.5199618e+00 3.08e+00 1.53e-03  -1.6 1.38e-01    -  1.00e+00 1.00e+00h  1\n",
      "  79r 2.5155878e+00 3.07e+00 2.61e+01  -3.6 2.41e-01    -  9.36e-01 1.00e+00f  1\n",
      "iter    objective    inf_pr   inf_du lg(mu)  ||d||  lg(rg) alpha_du alpha_pr  ls\n",
      "  80r 2.3486831e+00 2.71e+01 1.57e+03  -3.6 9.98e+02    -  2.01e-02 1.55e-01f  1\n",
      "  81r 2.3036520e+00 1.68e+01 1.63e+03  -3.6 8.82e+00   0.3 3.66e-05 3.76e-01f  1\n",
      "  82r 2.3036521e+00 1.68e+01 1.63e+03  -3.6 1.81e+01   1.6 3.91e-02 1.35e-04f  1\n",
      "  83r 2.3036467e+00 1.68e+01 1.63e+03  -3.6 9.94e+01   1.1 3.03e-03 4.70e-04f  1\n",
      "  84r 2.3036329e+00 1.68e+01 1.63e+03  -3.6 1.18e+02   0.6 1.32e-02 2.92e-04f  1\n",
      "  85r 2.2391797e+00 1.56e+01 1.52e+03  -3.6 6.65e+01    -  1.20e-01 6.89e-02f  1\n",
      "  86r 2.0596265e+00 1.24e+01 1.21e+03  -3.6 6.74e+01    -  8.04e-01 2.01e-01f  1\n",
      "  87r 1.3867943e+00 4.48e+01 2.94e+02  -3.6 6.89e+01    -  1.00e+00 8.78e-01f  1\n",
      "  88r 1.3866060e+00 4.47e+01 3.16e+02  -3.6 6.63e+01    -  1.00e+00 8.91e-04f  1\n",
      "  89r 1.3150072e+00 3.13e+01 2.48e+02  -3.6 6.63e+01    -  1.00e+00 3.39e-01f  1\n",
      "iter    objective    inf_pr   inf_du lg(mu)  ||d||  lg(rg) alpha_du alpha_pr  ls\n",
      "  90r 1.3149608e+00 3.13e+01 2.63e+02  -3.6 4.97e+01    -  1.00e+00 3.34e-04h  1\n",
      "  91r 1.2498289e+00 1.83e+01 1.47e+02  -3.6 4.97e+01    -  1.00e+00 4.68e-01h  1\n",
      "  92r 1.2497712e+00 1.83e+01 1.54e+02  -3.6 3.02e+01    -  1.00e+00 7.90e-04h  1\n",
      "  93r 1.2444641e+00 1.70e+01 1.45e+02  -3.6 3.02e+01    -  1.00e+00 7.27e-02h  1\n",
      "  94r 1.2062471e+00 8.04e+00 6.36e+01  -3.6 2.82e+01    -  1.00e+00 5.66e-01h  1\n",
      "  95r 1.2061228e+00 8.00e+00 6.84e+01  -3.6 1.34e+01    -  1.00e+00 4.32e-03h  1\n",
      "  96r 1.1774288e+00 6.83e-01 3.90e+00  -3.6 1.33e+01    -  1.00e+00 1.00e+00h  1\n",
      "  97r 1.1775965e+00 6.83e-01 1.60e-04  -3.6 2.80e-01    -  1.00e+00 1.00e+00h  1\n",
      "  98r 1.1775521e+00 6.83e-01 4.60e+00  -5.3 1.16e-02    -  1.00e+00 1.00e+00f  1\n",
      "  99r 1.1727911e+00 6.76e-01 8.03e+02  -5.3 1.30e+02    -  1.00e+00 9.88e-03f  1\n",
      "iter    objective    inf_pr   inf_du lg(mu)  ||d||  lg(rg) alpha_du alpha_pr  ls\n",
      " 100r 1.1727201e+00 6.76e-01 8.69e+02  -5.3 1.31e+02    -  1.00e+00 1.48e-04f  1\n",
      " 101r 1.1655629e+00 6.66e-01 8.57e+02  -5.3 1.31e+02    -  1.00e+00 1.50e-02f  1\n",
      " 102r 1.1511427e+00 6.45e-01 8.40e+02  -5.3 1.31e+02    -  1.00e+00 3.04e-02f  1\n",
      " 103r 1.1353072e+00 6.23e-01 8.31e+02  -5.3 1.31e+02    -  1.00e+00 3.41e-02f  1\n",
      " 104r 1.1144602e+00 5.93e-01 8.02e+02  -5.3 1.32e+02    -  1.00e+00 4.60e-02f  1\n",
      " 105r 1.0907433e+00 5.59e-01 7.93e+02  -5.3 1.33e+02    -  1.00e+00 5.40e-02f  1\n",
      " 106r 1.0565445e+00 8.24e-01 7.59e+02  -5.3 1.34e+02    -  1.00e+00 8.09e-02f  1\n",
      " 107r 1.0394596e+00 8.97e-01 7.82e+02  -5.3 1.34e+02    -  1.00e+00 4.30e-02f  1\n",
      " 108r 1.0124771e+00 1.13e+00 7.41e+02  -5.3 1.35e+02    -  1.00e+00 7.25e-02f  1\n",
      " 109r 1.0004036e+00 1.31e+00 7.25e+02  -5.3 1.35e+02    -  1.00e+00 6.91e-02f  1\n",
      "iter    objective    inf_pr   inf_du lg(mu)  ||d||  lg(rg) alpha_du alpha_pr  ls\n",
      " 110r 1.0003479e+00 1.49e+00 7.09e+02  -5.3 1.35e+02    -  1.00e+00 7.33e-02f  1\n",
      " 111r 1.0003219e+00 1.64e+00 6.92e+02  -5.3 1.34e+02    -  1.00e+00 7.46e-02f  1\n",
      " 112r 1.0002972e+00 1.78e+00 6.72e+02  -5.3 1.33e+02    -  1.00e+00 7.66e-02f  1\n",
      " 113r 1.0002708e+00 1.95e+00 6.46e+02  -5.3 1.32e+02    -  1.00e+00 8.87e-02f  1\n",
      " 114r 1.0002527e+00 1.99e+00 6.44e+02  -5.3 1.30e+02    -  1.00e+00 6.70e-02f  1\n",
      " 115r 1.0002288e+00 2.12e+00 6.01e+02  -5.3 1.28e+02    -  1.00e+00 9.46e-02f  1\n",
      " 116r 1.0002132e+00 2.12e+00 5.99e+02  -5.3 1.25e+02    -  1.00e+00 6.80e-02f  1\n",
      " 117r 1.0001854e+00 2.34e+00 5.37e+02  -5.3 1.22e+02    -  1.00e+00 1.30e-01f  1\n",
      " 118r 1.0001763e+00 2.29e+00 5.23e+02  -5.3 1.17e+02    -  1.00e+00 4.94e-02f  1\n",
      " 119r 1.0001618e+00 2.26e+00 5.21e+02  -5.3 1.14e+02    -  1.00e+00 8.21e-02f  1\n",
      "iter    objective    inf_pr   inf_du lg(mu)  ||d||  lg(rg) alpha_du alpha_pr  ls\n",
      " 120r 1.0001068e+00 3.90e+00 3.55e+02  -5.3 1.10e+02    -  1.00e+00 3.40e-01f  1\n",
      " 121r 1.0001067e+00 3.90e+00 4.20e+02  -5.3 9.13e+01    -  1.00e+00 3.35e-04h  1\n",
      " 122r 1.0000995e+00 3.64e+00 3.94e+02  -5.3 9.10e+01    -  1.00e+00 6.75e-02f  1\n",
      " 123r 1.0000951e+00 3.47e+00 3.85e+02  -5.3 8.35e+01    -  1.00e+00 4.48e-02f  1\n",
      " 124r 1.0000873e+00 3.19e+00 3.54e+02  -5.3 3.71e+01    -  1.00e+00 8.20e-02h  1\n",
      " 125r 1.0000000e+00 4.53e-04 2.92e+00  -5.3 4.29e+00    -  1.00e+00 1.00e+00h  1\n",
      " 126r 1.0000000e+00 9.04e-09 2.23e-07  -5.3 6.05e-04    -  1.00e+00 1.00e+00h  1\n",
      "\n",
      "Number of Iterations....: 126\n",
      "\n",
      "                                   (scaled)                 (unscaled)\n",
      "Objective...............:   1.0000000020047743e+00    1.0000000020047743e+00\n",
      "Dual infeasibility......:   0.0000000000000000e+00    0.0000000000000000e+00\n",
      "Constraint violation....:   9.0426119925268722e-09    9.0426119925268722e-09\n",
      "Complementarity.........:   0.0000000000000000e+00    0.0000000000000000e+00\n",
      "Overall NLP error.......:   9.0426119925268722e-09    9.0426119925268722e-09\n",
      "\n",
      "\n",
      "Number of objective function evaluations             = 140\n",
      "Number of objective gradient evaluations             = 3\n",
      "Number of equality constraint evaluations            = 140\n",
      "Number of inequality constraint evaluations          = 0\n",
      "Number of equality constraint Jacobian evaluations   = 128\n",
      "Number of inequality constraint Jacobian evaluations = 0\n",
      "Number of Lagrangian Hessian evaluations             = 126\n",
      "Total CPU secs in IPOPT (w/o function evaluations)   =     18.096\n",
      "Total CPU secs in NLP function evaluations           =      0.756\n",
      "\n",
      "EXIT: Optimal Solution Found.\n"
     ]
    },
    {
     "data": {
      "text/plain": [
       ":Optimal"
      ]
     },
     "execution_count": 4,
     "metadata": {},
     "output_type": "execute_result"
    }
   ],
   "source": [
    "using JuMP\n",
    "\n",
    "mGLSJulia = Model()\n",
    "\n",
    "@defVar(mGLSJulia, lam[1:size(P,1)] >= 0)\n",
    "\n",
    "@defVar(mGLSJulia, p[1:size(P,1), 1:size(P,2)] >= 0)\n",
    "\n",
    "for i = 1:size(P,1)\n",
    "    for j = 1:size(P,2)\n",
    "        if P[i,j] == 0\n",
    "            @addConstraint(mGLSJulia, p[i,j] == 0)\n",
    "        end\n",
    "    end\n",
    "end\n",
    "            \n",
    "for i = 1:size(P,1)\n",
    "    @addNLConstraint(mGLSJulia, sum{p[i,j], j = 1:size(P,2)} == 1)\n",
    "end\n",
    "\n",
    "for l = 1:L\n",
    "    @addNLConstraint(mGLSJulia, sum{p[i,l] * lam[i], i = 1:size(P,1)} == xi_list[l])\n",
    "end\n",
    "    \n",
    "@setNLObjective(mGLSJulia, Min, sum{p[1,j], j = 1:size(P,2)})  # play no actual role, but could not use zero objective\n",
    "\n",
    "solve(mGLSJulia)"
   ]
  },
  {
   "cell_type": "code",
   "execution_count": 5,
   "metadata": {
    "collapsed": false
   },
   "outputs": [
    {
     "data": {
      "text/plain": [
       "56-element Array{Float64,1}:\n",
       " 313.798\n",
       " 526.551\n",
       " 236.873\n",
       " 321.335\n",
       " 417.427\n",
       " 302.817\n",
       " 208.114\n",
       " 444.307\n",
       " 402.394\n",
       " 248.013\n",
       " 382.058\n",
       " 455.191\n",
       " 374.705\n",
       "   ⋮    \n",
       " 338.698\n",
       " 247.069\n",
       " 401.845\n",
       " 332.844\n",
       " 255.116\n",
       " 224.6  \n",
       " 192.203\n",
       " 328.961\n",
       " 263.63 \n",
       " 314.507\n",
       " 335.639\n",
       " 410.635"
      ]
     },
     "execution_count": 5,
     "metadata": {},
     "output_type": "execute_result"
    }
   ],
   "source": [
    "getValue(lam)"
   ]
  },
  {
   "cell_type": "code",
   "execution_count": 6,
   "metadata": {
    "collapsed": false
   },
   "outputs": [
    {
     "data": {
      "text/plain": [
       "1.0000000020047743"
      ]
     },
     "execution_count": 6,
     "metadata": {},
     "output_type": "execute_result"
    }
   ],
   "source": [
    "getObjectiveValue(mGLSJulia)"
   ]
  },
  {
   "cell_type": "code",
   "execution_count": 7,
   "metadata": {
    "collapsed": false
   },
   "outputs": [],
   "source": [
    "GLS_Jul_weekend.saveDemandVec(getValue(lam))"
   ]
  },
  {
   "cell_type": "code",
   "execution_count": null,
   "metadata": {
    "collapsed": true
   },
   "outputs": [],
   "source": []
  }
 ],
 "metadata": {
  "kernelspec": {
   "display_name": "Julia 0.3.7",
   "language": "julia",
   "name": "julia-0.3"
  },
  "language_info": {
   "file_extension": ".jl",
   "mimetype": "application/julia",
   "name": "julia",
   "version": "0.3.7"
  }
 },
 "nbformat": 4,
 "nbformat_minor": 0
}
