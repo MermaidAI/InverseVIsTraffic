{
 "cells": [
  {
   "cell_type": "code",
   "execution_count": 1,
   "metadata": {
    "collapsed": false
   },
   "outputs": [],
   "source": [
    "%run ../Python_files/util_data_storage_and_load.py"
   ]
  },
  {
   "cell_type": "code",
   "execution_count": 2,
   "metadata": {
    "collapsed": false
   },
   "outputs": [
    {
     "name": "stdout",
     "output_type": "stream",
     "text": [
      "No dicts found; please check load_dicts...\n"
     ]
    }
   ],
   "source": [
    "%run ../Python_files/util.py"
   ]
  },
  {
   "cell_type": "code",
   "execution_count": 3,
   "metadata": {
    "collapsed": true
   },
   "outputs": [],
   "source": [
    "link_day_Jul_dict = zload('../temp_files/link_day_Jul_dict.pkz')"
   ]
  },
  {
   "cell_type": "code",
   "execution_count": 4,
   "metadata": {
    "collapsed": true
   },
   "outputs": [],
   "source": [
    "link_label_dict = zload('../temp_files/link_label_dict.pkz')\n",
    "link_label_dict_ = zload('../temp_files/link_label_dict_.pkz')"
   ]
  },
  {
   "cell_type": "code",
   "execution_count": 5,
   "metadata": {
    "collapsed": false
   },
   "outputs": [],
   "source": [
    "# load the estimated g(.) function \n",
    "\n",
    "import json\n",
    "\n",
    "with open('../temp_files/fcoeffs_Jul_AM.json', 'r') as json_file:\n",
    "    fcoeffs_Jul_AM = json.load(json_file)"
   ]
  },
  {
   "cell_type": "code",
   "execution_count": 6,
   "metadata": {
    "collapsed": false
   },
   "outputs": [],
   "source": [
    "fcoeffs_Jul_AM = json.loads(fcoeffs_Jul_AM)"
   ]
  },
  {
   "cell_type": "code",
   "execution_count": 7,
   "metadata": {
    "collapsed": false
   },
   "outputs": [
    {
     "data": {
      "text/plain": [
       "[0.2001068346061103,\n",
       " 0.4485818998873834,\n",
       " -0.0812065959863796,\n",
       " -0.49498344542879935,\n",
       " -1.1072218824409872,\n",
       " 4.005678090559695,\n",
       " -3.55290577448624,\n",
       " 4.809515043530872,\n",
       " -2.3181627495215222,\n",
       " 0.49042518753418674]"
      ]
     },
     "execution_count": 7,
     "metadata": {},
     "output_type": "execute_result"
    }
   ],
   "source": [
    "fcoeffs_Jul_AM['fcoeffs9']"
   ]
  },
  {
   "cell_type": "code",
   "execution_count": 8,
   "metadata": {
    "collapsed": false
   },
   "outputs": [
    {
     "data": {
      "text/plain": [
       "[1, 2, 3, 4, 5, 6, 7, 8, 9]"
      ]
     },
     "execution_count": 8,
     "metadata": {},
     "output_type": "execute_result"
    }
   ],
   "source": [
    "range(10)[1:]"
   ]
  },
  {
   "cell_type": "code",
   "execution_count": 9,
   "metadata": {
    "collapsed": false
   },
   "outputs": [],
   "source": [
    "links_with_sensitivity_list = []\n",
    "\n",
    "for link_idx in range(24):\n",
    "    key = 'link_' + str(link_idx) + '_' + str(8)  # we take July 8 for sensitivity analysis\n",
    "    init_node = link_day_Jul_dict[key].init_node\n",
    "    term_node = link_day_Jul_dict[key].term_node\n",
    "    tmc_set = link_day_Jul_dict[key].tmc_set\n",
    "    AM_capac = link_day_Jul_dict[key].AM_capac\n",
    "    MD_capac = 0\n",
    "    PM_capac = 0\n",
    "    NT_capac = 0\n",
    "    free_flow_time = link_day_Jul_dict[key].free_flow_time\n",
    "    length = 0\n",
    "    AM_flow = link_day_Jul_dict[key].AM_flow\n",
    "    MD_flow = 0\n",
    "    PM_flow = 0\n",
    "    NT_flow = 0\n",
    "    fcoeffs = fcoeffs_Jul_AM['fcoeffs9']\n",
    "    links_with_sensitivity = Link_with_Sensitivity(init_node, term_node, tmc_set, AM_capac, MD_capac, \\\n",
    "                                                   PM_capac, NT_capac, free_flow_time, length, \\\n",
    "                                                   AM_flow, MD_flow, PM_flow, NT_flow, \\\n",
    "                                                   fcoeffs)\n",
    "    links_with_sensitivity_list.append(links_with_sensitivity)"
   ]
  },
  {
   "cell_type": "code",
   "execution_count": 10,
   "metadata": {
    "collapsed": false
   },
   "outputs": [],
   "source": [
    "sensi_dict = {}\n",
    "\n",
    "for i in range(24):\n",
    "    sensi_dict[str(i)] = [links_with_sensitivity_list[i].DV_Dc_0a(), links_with_sensitivity_list[i].DV_Dm_a()]\n",
    "    \n",
    "zdump(sensi_dict, '../temp_files/sensi_dict.pkz')"
   ]
  },
  {
   "cell_type": "code",
   "execution_count": 11,
   "metadata": {
    "collapsed": false
   },
   "outputs": [
    {
     "data": {
      "text/plain": [
       "{'0': [536.90716710676531, -0.13921420436125226],\n",
       " '1': [503.36273319623621, -0.13505852579176303],\n",
       " '10': [492.32723141313784, -0.039779198482708687],\n",
       " '11': [429.87712361034954, -0.043764712146191175],\n",
       " '12': [483.32025515513328, -0.088883082029642707],\n",
       " '13': [499.69156591366266, -0.074272000275796224],\n",
       " '14': [501.5494477207443, -0.064626875864473049],\n",
       " '15': [326.36731183502746, -0.034305352793609245],\n",
       " '16': [516.74832334689279, -0.13436448044328636],\n",
       " '17': [556.43738459969813, -0.16195749892667755],\n",
       " '18': [561.58993587758187, -0.054710908921850217],\n",
       " '19': [651.56946729327865, -0.08016272908412661],\n",
       " '2': [623.96387197228546, -0.1785868301978995],\n",
       " '20': [572.20005085295952, -0.088957906554754024],\n",
       " '21': [527.85857791883643, -0.077412205414782623],\n",
       " '22': [528.43293373058577, -0.081337144551575841],\n",
       " '23': [541.25574608112595, -0.088914761498081432],\n",
       " '3': [621.59450572040885, -0.17428779787889909],\n",
       " '4': [616.12615403080656, -0.053653235743807405],\n",
       " '5': [601.34769961419704, -0.057042918271705656],\n",
       " '6': [535.61865544093735, -0.21648194254160771],\n",
       " '7': [517.06062450120282, -0.20382460769808933],\n",
       " '8': [607.16893167049068, -0.066702337410010804],\n",
       " '9': [667.86197370575974, -0.095103371176165408]}"
      ]
     },
     "execution_count": 11,
     "metadata": {},
     "output_type": "execute_result"
    }
   ],
   "source": [
    "sensi_dict"
   ]
  },
  {
   "cell_type": "code",
   "execution_count": 12,
   "metadata": {
    "collapsed": false
   },
   "outputs": [
    {
     "data": {
      "text/plain": [
       "[<__main__.Link_with_Sensitivity at 0x7ffa11a31d10>,\n",
       " <__main__.Link_with_Sensitivity at 0x7ffa11a319d0>,\n",
       " <__main__.Link_with_Sensitivity at 0x7ffa11a3c7d0>,\n",
       " <__main__.Link_with_Sensitivity at 0x7ffa11a3c810>,\n",
       " <__main__.Link_with_Sensitivity at 0x7ffa11a3c850>,\n",
       " <__main__.Link_with_Sensitivity at 0x7ffa11a3c890>,\n",
       " <__main__.Link_with_Sensitivity at 0x7ffa11a3c8d0>,\n",
       " <__main__.Link_with_Sensitivity at 0x7ffa11a3c910>,\n",
       " <__main__.Link_with_Sensitivity at 0x7ffa11a3c950>,\n",
       " <__main__.Link_with_Sensitivity at 0x7ffa11a3c990>,\n",
       " <__main__.Link_with_Sensitivity at 0x7ffa11a3c9d0>,\n",
       " <__main__.Link_with_Sensitivity at 0x7ffa11a3ca10>,\n",
       " <__main__.Link_with_Sensitivity at 0x7ffa11a3ca50>,\n",
       " <__main__.Link_with_Sensitivity at 0x7ffa11a3ca90>,\n",
       " <__main__.Link_with_Sensitivity at 0x7ffa11a3cad0>,\n",
       " <__main__.Link_with_Sensitivity at 0x7ffa11a3cb10>,\n",
       " <__main__.Link_with_Sensitivity at 0x7ffa11a3cb50>,\n",
       " <__main__.Link_with_Sensitivity at 0x7ffa11a3cb90>,\n",
       " <__main__.Link_with_Sensitivity at 0x7ffa11a3cbd0>,\n",
       " <__main__.Link_with_Sensitivity at 0x7ffa11a3cc10>,\n",
       " <__main__.Link_with_Sensitivity at 0x7ffa11a3cc50>,\n",
       " <__main__.Link_with_Sensitivity at 0x7ffa11a3cc90>,\n",
       " <__main__.Link_with_Sensitivity at 0x7ffa11a3ccd0>,\n",
       " <__main__.Link_with_Sensitivity at 0x7ffa11a3cd10>]"
      ]
     },
     "execution_count": 12,
     "metadata": {},
     "output_type": "execute_result"
    }
   ],
   "source": [
    "links_with_sensitivity_list"
   ]
  },
  {
   "cell_type": "code",
   "execution_count": 13,
   "metadata": {
    "collapsed": false
   },
   "outputs": [
    {
     "data": {
      "text/plain": [
       "8"
      ]
     },
     "execution_count": 13,
     "metadata": {},
     "output_type": "execute_result"
    }
   ],
   "source": [
    "links_with_sensitivity_list[23].init_node"
   ]
  },
  {
   "cell_type": "code",
   "execution_count": 14,
   "metadata": {
    "collapsed": false
   },
   "outputs": [
    {
     "data": {
      "text/plain": [
       "7"
      ]
     },
     "execution_count": 14,
     "metadata": {},
     "output_type": "execute_result"
    }
   ],
   "source": [
    "links_with_sensitivity_list[23].term_node"
   ]
  },
  {
   "cell_type": "code",
   "execution_count": 15,
   "metadata": {
    "collapsed": false
   },
   "outputs": [
    {
     "data": {
      "text/plain": [
       "536.90716710676531"
      ]
     },
     "execution_count": 15,
     "metadata": {},
     "output_type": "execute_result"
    }
   ],
   "source": [
    "links_with_sensitivity_list[0].DV_Dc_0a()"
   ]
  },
  {
   "cell_type": "code",
   "execution_count": 16,
   "metadata": {
    "collapsed": false
   },
   "outputs": [
    {
     "data": {
      "text/plain": [
       "-0.13921420436125226"
      ]
     },
     "execution_count": 16,
     "metadata": {},
     "output_type": "execute_result"
    }
   ],
   "source": [
    "links_with_sensitivity_list[0].DV_Dm_a()"
   ]
  },
  {
   "cell_type": "code",
   "execution_count": 17,
   "metadata": {
    "collapsed": false
   },
   "outputs": [
    {
     "data": {
      "text/plain": [
       "1262.2221757813795"
      ]
     },
     "execution_count": 17,
     "metadata": {},
     "output_type": "execute_result"
    }
   ],
   "source": [
    "links_with_sensitivity_list[0].AM_flow"
   ]
  },
  {
   "cell_type": "code",
   "execution_count": 18,
   "metadata": {
    "collapsed": false
   },
   "outputs": [
    {
     "data": {
      "text/plain": [
       "0.2237688764112811"
      ]
     },
     "execution_count": 18,
     "metadata": {},
     "output_type": "execute_result"
    }
   ],
   "source": [
    "links_with_sensitivity_list[0].free_flow_time"
   ]
  },
  {
   "cell_type": "code",
   "execution_count": 19,
   "metadata": {
    "collapsed": false
   },
   "outputs": [
    {
     "data": {
      "text/plain": [
       "1470.1429420185125"
      ]
     },
     "execution_count": 19,
     "metadata": {},
     "output_type": "execute_result"
    }
   ],
   "source": [
    "links_with_sensitivity_list[0].AM_capac"
   ]
  },
  {
   "cell_type": "code",
   "execution_count": 20,
   "metadata": {
    "collapsed": false
   },
   "outputs": [
    {
     "data": {
      "text/plain": [
       "[0.2001068346061103,\n",
       " 0.4485818998873834,\n",
       " -0.0812065959863796,\n",
       " -0.49498344542879935,\n",
       " -1.1072218824409872,\n",
       " 4.005678090559695,\n",
       " -3.55290577448624,\n",
       " 4.809515043530872,\n",
       " -2.3181627495215222,\n",
       " 0.49042518753418674]"
      ]
     },
     "execution_count": 20,
     "metadata": {},
     "output_type": "execute_result"
    }
   ],
   "source": [
    "links_with_sensitivity_list[0].fcoeffs"
   ]
  },
  {
   "cell_type": "code",
   "execution_count": 21,
   "metadata": {
    "collapsed": false
   },
   "outputs": [
    {
     "data": {
      "text/plain": [
       "24"
      ]
     },
     "execution_count": 21,
     "metadata": {},
     "output_type": "execute_result"
    }
   ],
   "source": [
    "len(links_with_sensitivity_list)"
   ]
  },
  {
   "cell_type": "code",
   "execution_count": null,
   "metadata": {
    "collapsed": true
   },
   "outputs": [],
   "source": []
  }
 ],
 "metadata": {
  "kernelspec": {
   "display_name": "Python 2",
   "language": "python",
   "name": "python2"
  },
  "language_info": {
   "codemirror_mode": {
    "name": "ipython",
    "version": 2
   },
   "file_extension": ".py",
   "mimetype": "text/x-python",
   "name": "python",
   "nbconvert_exporter": "python",
   "pygments_lexer": "ipython2",
   "version": "2.7.11"
  }
 },
 "nbformat": 4,
 "nbformat_minor": 0
}
