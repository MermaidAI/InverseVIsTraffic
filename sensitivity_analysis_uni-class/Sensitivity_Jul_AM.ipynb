{
 "cells": [
  {
   "cell_type": "code",
   "execution_count": 1,
   "metadata": {
    "collapsed": false
   },
   "outputs": [],
   "source": [
    "%run ../Python_files/util_data_storage_and_load.py"
   ]
  },
  {
   "cell_type": "code",
   "execution_count": 2,
   "metadata": {
    "collapsed": false
   },
   "outputs": [
    {
     "name": "stdout",
     "output_type": "stream",
     "text": [
      "No dicts found; please check load_dicts...\n"
     ]
    }
   ],
   "source": [
    "%run ../Python_files/util.py"
   ]
  },
  {
   "cell_type": "code",
   "execution_count": 3,
   "metadata": {
    "collapsed": true
   },
   "outputs": [],
   "source": [
    "link_day_Jul_dict = zload('../temp_files/link_day_Jul_dict.pkz')"
   ]
  },
  {
   "cell_type": "code",
   "execution_count": 4,
   "metadata": {
    "collapsed": true
   },
   "outputs": [],
   "source": [
    "link_label_dict = zload('../temp_files/link_label_dict.pkz')\n",
    "link_label_dict_ = zload('../temp_files/link_label_dict_.pkz')"
   ]
  },
  {
   "cell_type": "code",
   "execution_count": 5,
   "metadata": {
    "collapsed": false
   },
   "outputs": [],
   "source": [
    "# load the estimated g(.) function \n",
    "\n",
    "import json\n",
    "\n",
    "with open('../temp_files/coeffs_dict_Jul_AM.json', 'r') as json_file:\n",
    "    coeffs_dict_Jul_AM = json.load(json_file)\n",
    "\n",
    "with open('../temp_files/cross_validation_best_key_Jul_AM.json', 'r') as json_file_:\n",
    "    cross_validation_best_key_Apr_AM = json.load(json_file_)"
   ]
  },
  {
   "cell_type": "code",
   "execution_count": 6,
   "metadata": {
    "collapsed": false
   },
   "outputs": [
    {
     "data": {
      "text/plain": [
       "[1.0,\n",
       " -0.004666162532525911,\n",
       " 0.05307904778553722,\n",
       " -0.20154458515258986,\n",
       " 0.6191114573479681,\n",
       " -0.893843998523095,\n",
       " 0.9495862686924353,\n",
       " -0.4583184808936975,\n",
       " 0.11071352133884148]"
      ]
     },
     "execution_count": 6,
     "metadata": {},
     "output_type": "execute_result"
    }
   ],
   "source": [
    "coeffs_dict_Jul_AM[cross_validation_best_key_Apr_AM]\n",
    "#cross_validation_best_key_Apr_AM"
   ]
  },
  {
   "cell_type": "code",
   "execution_count": 7,
   "metadata": {
    "collapsed": false
   },
   "outputs": [
    {
     "data": {
      "text/plain": [
       "[1, 2, 3, 4, 5, 6, 7, 8, 9]"
      ]
     },
     "execution_count": 7,
     "metadata": {},
     "output_type": "execute_result"
    }
   ],
   "source": [
    "range(10)[1:]"
   ]
  },
  {
   "cell_type": "code",
   "execution_count": 8,
   "metadata": {
    "collapsed": false
   },
   "outputs": [],
   "source": [
    "links_with_sensitivity_list = []\n",
    "\n",
    "for link_idx in range(24):\n",
    "    key = 'link_' + str(link_idx) + '_' + str(8)  # we take July 8 for sensitivity analysis\n",
    "    init_node = link_day_Jul_dict[key].init_node\n",
    "    term_node = link_day_Jul_dict[key].term_node\n",
    "    tmc_set = link_day_Jul_dict[key].tmc_set\n",
    "    AM_capac = link_day_Jul_dict[key].AM_capac\n",
    "    MD_capac = 0\n",
    "    PM_capac = 0\n",
    "    NT_capac = 0\n",
    "    free_flow_time = link_day_Jul_dict[key].free_flow_time\n",
    "    length = 0\n",
    "    AM_flow = link_day_Jul_dict[key].AM_flow\n",
    "    MD_flow = 0\n",
    "    PM_flow = 0\n",
    "    NT_flow = 0\n",
    "    coeffs = coeffs_dict_Jul_AM[cross_validation_best_key_Apr_AM]\n",
    "    links_with_sensitivity = Link_with_Sensitivity(init_node, term_node, tmc_set, AM_capac, MD_capac, \\\n",
    "                                                   PM_capac, NT_capac, free_flow_time, length, \\\n",
    "                                                   AM_flow, MD_flow, PM_flow, NT_flow, \\\n",
    "                                                   coeffs)\n",
    "    links_with_sensitivity_list.append(links_with_sensitivity)"
   ]
  },
  {
   "cell_type": "code",
   "execution_count": 52,
   "metadata": {
    "collapsed": false
   },
   "outputs": [],
   "source": [
    "sensi_dict_Jul_AM = {}\n",
    "DV_Dc_0a_Jul_AM_list = []\n",
    "DV_Dm_a_Jul_AM_list = []\n",
    "\n",
    "for i in range(24):\n",
    "    sensi_dict_Jul_AM[str(i)] = [links_with_sensitivity_list[i].DV_Dc_0a(), links_with_sensitivity_list[i].DV_Dm_a()]\n",
    "    DV_Dc_0a_Jul_AM_list.append(links_with_sensitivity_list[i].DV_Dc_0a())\n",
    "    DV_Dm_a_Jul_AM_list.append(links_with_sensitivity_list[i].DV_Dm_a())\n",
    "    \n",
    "zdump(sensi_dict_Jul_AM, '../temp_files/sensi_dict_Jul_AM.pkz')"
   ]
  },
  {
   "cell_type": "code",
   "execution_count": 61,
   "metadata": {
    "collapsed": false
   },
   "outputs": [],
   "source": [
    "DV_Dc_0a_Jul_AM_normalized_list = []\n",
    "DV_Dm_a_Jul_AM_normalized_list = []\n",
    "\n",
    "for i in range(24):\n",
    "    a = \"%.3f\" %(DV_Dc_0a_Jul_AM_list[i] / max(DV_Dc_0a_Jul_AM_list))\n",
    "    a = float(a)\n",
    "    b = \"%.3f\" %(DV_Dm_a_Jul_AM_list[i] / min(DV_Dm_a_Jul_AM_list))\n",
    "    b = float(b)\n",
    "    DV_Dc_0a_Jul_AM_normalized_list.append(a)\n",
    "    DV_Dm_a_Jul_AM_normalized_list.append(b)\n",
    "    \n",
    "zdump(DV_Dc_0a_Jul_AM_normalized_list, '../temp_files/DV_Dc_0a_Jul_AM_normalized_list.pkz')\n",
    "zdump(DV_Dm_a_Jul_AM_normalized_list, '../temp_files/DV_Dm_a_Jul_AM_normalized_list.pkz')"
   ]
  },
  {
   "cell_type": "code",
   "execution_count": 64,
   "metadata": {
    "collapsed": false,
    "scrolled": true
   },
   "outputs": [
    {
     "data": {
      "text/plain": [
       "[0.632,\n",
       " 0.621,\n",
       " 0.829,\n",
       " 0.814,\n",
       " 0.25,\n",
       " 0.27,\n",
       " 1.0,\n",
       " 0.954,\n",
       " 0.325,\n",
       " 0.443,\n",
       " 0.205,\n",
       " 0.225,\n",
       " 0.416,\n",
       " 0.358,\n",
       " 0.302,\n",
       " 0.174,\n",
       " 0.623,\n",
       " 0.731,\n",
       " 0.264,\n",
       " 0.367,\n",
       " 0.419,\n",
       " 0.371,\n",
       " 0.374,\n",
       " 0.405]"
      ]
     },
     "execution_count": 64,
     "metadata": {},
     "output_type": "execute_result"
    }
   ],
   "source": [
    "DV_Dm_a_Jul_AM_normalized_list"
   ]
  },
  {
   "cell_type": "code",
   "execution_count": 65,
   "metadata": {
    "collapsed": false
   },
   "outputs": [
    {
     "data": {
      "text/plain": [
       "{'0': [1281.4064989884628, -0.012911358665604895],\n",
       " '1': [1228.7587119689852, -0.012701201077644128],\n",
       " '10': [1405.5020467436455, -0.0041957385153941528],\n",
       " '11': [1221.5449399675097, -0.0045993687361164095],\n",
       " '12': [1211.593705875136, -0.0085043446249168618],\n",
       " '13': [1304.1595980964275, -0.0073092362773755646],\n",
       " '14': [1252.0724913806987, -0.0061664026826928637],\n",
       " '15': [912.75348781871014, -0.0035600916751681718],\n",
       " '16': [1276.9177748751654, -0.01273494945820714],\n",
       " '17': [1315.4580465055069, -0.014936047991991476],\n",
       " '18': [1472.4670205845066, -0.0054023189044483458],\n",
       " '19': [1575.3426866616908, -0.0074935850861473276],\n",
       " '2': [1543.6330206972914, -0.016938981319192005],\n",
       " '20': [1448.2322657269201, -0.0085669065784693792],\n",
       " '21': [1371.0211055010809, -0.0075916200219014844],\n",
       " '22': [1288.7049869820737, -0.0076444393805900563],\n",
       " '23': [1301.2059249279187, -0.0082827267068650134],\n",
       " '3': [1552.8301838468492, -0.016637400606566894],\n",
       " '4': [1534.8943259753987, -0.0051122810693300085],\n",
       " '5': [1532.8680236767768, -0.0055203519700900107],\n",
       " '6': [1315.5381368188239, -0.020437908154972519],\n",
       " '7': [1295.1444475569151, -0.019491603343217152],\n",
       " '8': [1607.8052013672907, -0.0066348342483796285],\n",
       " '9': [1660.2521698580699, -0.0090491527653003574]}"
      ]
     },
     "execution_count": 65,
     "metadata": {},
     "output_type": "execute_result"
    }
   ],
   "source": [
    "sensi_dict_Jul_AM"
   ]
  },
  {
   "cell_type": "code",
   "execution_count": 11,
   "metadata": {
    "collapsed": false
   },
   "outputs": [
    {
     "data": {
      "text/plain": [
       "[<__main__.Link_with_Sensitivity at 0x7efef4479790>,\n",
       " <__main__.Link_with_Sensitivity at 0x7efef44798d0>,\n",
       " <__main__.Link_with_Sensitivity at 0x7efef44a6310>,\n",
       " <__main__.Link_with_Sensitivity at 0x7efef44a6350>,\n",
       " <__main__.Link_with_Sensitivity at 0x7efef44a6390>,\n",
       " <__main__.Link_with_Sensitivity at 0x7efef44a63d0>,\n",
       " <__main__.Link_with_Sensitivity at 0x7efef44a6410>,\n",
       " <__main__.Link_with_Sensitivity at 0x7efef44a6450>,\n",
       " <__main__.Link_with_Sensitivity at 0x7efef44a6490>,\n",
       " <__main__.Link_with_Sensitivity at 0x7efef44a64d0>,\n",
       " <__main__.Link_with_Sensitivity at 0x7efef44a6510>,\n",
       " <__main__.Link_with_Sensitivity at 0x7efef44a6550>,\n",
       " <__main__.Link_with_Sensitivity at 0x7efef44a6590>,\n",
       " <__main__.Link_with_Sensitivity at 0x7efef44a65d0>,\n",
       " <__main__.Link_with_Sensitivity at 0x7efef44a6610>,\n",
       " <__main__.Link_with_Sensitivity at 0x7efef44a6650>,\n",
       " <__main__.Link_with_Sensitivity at 0x7efef44a6690>,\n",
       " <__main__.Link_with_Sensitivity at 0x7efef44a66d0>,\n",
       " <__main__.Link_with_Sensitivity at 0x7efef44a6710>,\n",
       " <__main__.Link_with_Sensitivity at 0x7efef44a6750>,\n",
       " <__main__.Link_with_Sensitivity at 0x7efef44a6790>,\n",
       " <__main__.Link_with_Sensitivity at 0x7efef44a67d0>,\n",
       " <__main__.Link_with_Sensitivity at 0x7efef44a6810>,\n",
       " <__main__.Link_with_Sensitivity at 0x7efef44a6850>]"
      ]
     },
     "execution_count": 11,
     "metadata": {},
     "output_type": "execute_result"
    }
   ],
   "source": [
    "links_with_sensitivity_list"
   ]
  },
  {
   "cell_type": "code",
   "execution_count": 12,
   "metadata": {
    "collapsed": false
   },
   "outputs": [
    {
     "data": {
      "text/plain": [
       "8"
      ]
     },
     "execution_count": 12,
     "metadata": {},
     "output_type": "execute_result"
    }
   ],
   "source": [
    "links_with_sensitivity_list[23].init_node"
   ]
  },
  {
   "cell_type": "code",
   "execution_count": 13,
   "metadata": {
    "collapsed": false
   },
   "outputs": [
    {
     "data": {
      "text/plain": [
       "7"
      ]
     },
     "execution_count": 13,
     "metadata": {},
     "output_type": "execute_result"
    }
   ],
   "source": [
    "links_with_sensitivity_list[23].term_node"
   ]
  },
  {
   "cell_type": "code",
   "execution_count": 14,
   "metadata": {
    "collapsed": false
   },
   "outputs": [
    {
     "data": {
      "text/plain": [
       "1281.4064989884628"
      ]
     },
     "execution_count": 14,
     "metadata": {},
     "output_type": "execute_result"
    }
   ],
   "source": [
    "links_with_sensitivity_list[0].DV_Dc_0a()"
   ]
  },
  {
   "cell_type": "code",
   "execution_count": 15,
   "metadata": {
    "collapsed": false
   },
   "outputs": [
    {
     "data": {
      "text/plain": [
       "-0.012911358665604895"
      ]
     },
     "execution_count": 15,
     "metadata": {},
     "output_type": "execute_result"
    }
   ],
   "source": [
    "links_with_sensitivity_list[0].DV_Dm_a()"
   ]
  },
  {
   "cell_type": "code",
   "execution_count": 16,
   "metadata": {
    "collapsed": false
   },
   "outputs": [
    {
     "data": {
      "text/plain": [
       "1262.2221757813795"
      ]
     },
     "execution_count": 16,
     "metadata": {},
     "output_type": "execute_result"
    }
   ],
   "source": [
    "links_with_sensitivity_list[0].AM_flow"
   ]
  },
  {
   "cell_type": "code",
   "execution_count": 17,
   "metadata": {
    "collapsed": false
   },
   "outputs": [
    {
     "data": {
      "text/plain": [
       "0.2237688764112811"
      ]
     },
     "execution_count": 17,
     "metadata": {},
     "output_type": "execute_result"
    }
   ],
   "source": [
    "links_with_sensitivity_list[0].free_flow_time"
   ]
  },
  {
   "cell_type": "code",
   "execution_count": 18,
   "metadata": {
    "collapsed": false
   },
   "outputs": [
    {
     "data": {
      "text/plain": [
       "1470.1429420185125"
      ]
     },
     "execution_count": 18,
     "metadata": {},
     "output_type": "execute_result"
    }
   ],
   "source": [
    "links_with_sensitivity_list[0].AM_capac"
   ]
  },
  {
   "cell_type": "code",
   "execution_count": 19,
   "metadata": {
    "collapsed": false
   },
   "outputs": [
    {
     "data": {
      "text/plain": [
       "[1.0,\n",
       " -0.004666162532525911,\n",
       " 0.05307904778553722,\n",
       " -0.20154458515258986,\n",
       " 0.6191114573479681,\n",
       " -0.893843998523095,\n",
       " 0.9495862686924353,\n",
       " -0.4583184808936975,\n",
       " 0.11071352133884148]"
      ]
     },
     "execution_count": 19,
     "metadata": {},
     "output_type": "execute_result"
    }
   ],
   "source": [
    "links_with_sensitivity_list[0].fcoeffs"
   ]
  },
  {
   "cell_type": "code",
   "execution_count": 20,
   "metadata": {
    "collapsed": false
   },
   "outputs": [
    {
     "data": {
      "text/plain": [
       "24"
      ]
     },
     "execution_count": 20,
     "metadata": {},
     "output_type": "execute_result"
    }
   ],
   "source": [
    "len(links_with_sensitivity_list)"
   ]
  },
  {
   "cell_type": "code",
   "execution_count": null,
   "metadata": {
    "collapsed": true
   },
   "outputs": [],
   "source": []
  }
 ],
 "metadata": {
  "kernelspec": {
   "display_name": "Python 2",
   "language": "python",
   "name": "python2"
  },
  "language_info": {
   "codemirror_mode": {
    "name": "ipython",
    "version": 2
   },
   "file_extension": ".py",
   "mimetype": "text/x-python",
   "name": "python",
   "nbconvert_exporter": "python",
   "pygments_lexer": "ipython2",
   "version": "2.7.11"
  }
 },
 "nbformat": 4,
 "nbformat_minor": 0
}
