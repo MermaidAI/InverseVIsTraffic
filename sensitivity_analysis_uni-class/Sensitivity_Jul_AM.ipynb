{
 "cells": [
  {
   "cell_type": "code",
   "execution_count": 1,
   "metadata": {
    "collapsed": false
   },
   "outputs": [],
   "source": [
    "%run ../Python_files/util_data_storage_and_load.py"
   ]
  },
  {
   "cell_type": "code",
   "execution_count": 2,
   "metadata": {
    "collapsed": false
   },
   "outputs": [
    {
     "name": "stdout",
     "output_type": "stream",
     "text": [
      "No dicts found; please check load_dicts...\n"
     ]
    }
   ],
   "source": [
    "%run ../Python_files/util.py"
   ]
  },
  {
   "cell_type": "code",
   "execution_count": 3,
   "metadata": {
    "collapsed": true
   },
   "outputs": [],
   "source": [
    "link_day_Jul_dict = zload('../temp_files/link_day_Jul_dict.pkz')"
   ]
  },
  {
   "cell_type": "code",
   "execution_count": 4,
   "metadata": {
    "collapsed": true
   },
   "outputs": [],
   "source": [
    "link_label_dict = zload('../temp_files/link_label_dict.pkz')\n",
    "link_label_dict_ = zload('../temp_files/link_label_dict_.pkz')"
   ]
  },
  {
   "cell_type": "code",
   "execution_count": 7,
   "metadata": {
    "collapsed": false
   },
   "outputs": [],
   "source": [
    "# load the estimated g(.) function \n",
    "\n",
    "import json\n",
    "\n",
    "with open('../temp_files/coeffs_dict_Jul_AM.json', 'r') as json_file:\n",
    "    coeffs_dict_Jul_AM = json.load(json_file)\n",
    "\n",
    "with open('../temp_files/cross_validation_best_key_Jul_AM.json', 'r') as json_file_:\n",
    "    cross_validation_best_key_Jul_AM = json.load(json_file_)"
   ]
  },
  {
   "cell_type": "code",
   "execution_count": 8,
   "metadata": {
    "collapsed": false
   },
   "outputs": [
    {
     "data": {
      "text/plain": [
       "[1.0,\n",
       " -0.0015262633425194546,\n",
       " 0.0536898271410055,\n",
       " -0.1694332010735469,\n",
       " 0.49405540420142546,\n",
       " -0.6983135589482856,\n",
       " 0.6596802905082108,\n",
       " -0.32005375039483774,\n",
       " 0.06836663523498254]"
      ]
     },
     "execution_count": 8,
     "metadata": {},
     "output_type": "execute_result"
    }
   ],
   "source": [
    "coeffs_dict_Jul_AM[cross_validation_best_key_Jul_AM]\n",
    "#cross_validation_best_key_Apr_AM"
   ]
  },
  {
   "cell_type": "code",
   "execution_count": 9,
   "metadata": {
    "collapsed": false
   },
   "outputs": [
    {
     "data": {
      "text/plain": [
       "[1, 2, 3, 4, 5, 6, 7, 8, 9]"
      ]
     },
     "execution_count": 9,
     "metadata": {},
     "output_type": "execute_result"
    }
   ],
   "source": [
    "range(10)[1:]"
   ]
  },
  {
   "cell_type": "code",
   "execution_count": 10,
   "metadata": {
    "collapsed": false
   },
   "outputs": [],
   "source": [
    "links_with_sensitivity_list = []\n",
    "\n",
    "for link_idx in range(24):\n",
    "    key = 'link_' + str(link_idx) + '_' + str(8)  # we take July 8 for sensitivity analysis\n",
    "    init_node = link_day_Jul_dict[key].init_node\n",
    "    term_node = link_day_Jul_dict[key].term_node\n",
    "    tmc_set = link_day_Jul_dict[key].tmc_set\n",
    "    AM_capac = link_day_Jul_dict[key].AM_capac\n",
    "    MD_capac = 0\n",
    "    PM_capac = 0\n",
    "    NT_capac = 0\n",
    "    free_flow_time = link_day_Jul_dict[key].free_flow_time\n",
    "    length = 0\n",
    "    AM_flow = link_day_Jul_dict[key].AM_flow\n",
    "    MD_flow = 0\n",
    "    PM_flow = 0\n",
    "    NT_flow = 0\n",
    "    coeffs = coeffs_dict_Jul_AM[cross_validation_best_key_Apr_AM]\n",
    "    links_with_sensitivity = Link_with_Sensitivity(init_node, term_node, tmc_set, AM_capac, MD_capac, \\\n",
    "                                                   PM_capac, NT_capac, free_flow_time, length, \\\n",
    "                                                   AM_flow, MD_flow, PM_flow, NT_flow, \\\n",
    "                                                   coeffs)\n",
    "    links_with_sensitivity_list.append(links_with_sensitivity)"
   ]
  },
  {
   "cell_type": "code",
   "execution_count": 11,
   "metadata": {
    "collapsed": false
   },
   "outputs": [],
   "source": [
    "sensi_dict_Jul_AM = {}\n",
    "DV_Dc_0a_Jul_AM_list = []\n",
    "DV_Dm_a_Jul_AM_list = []\n",
    "\n",
    "for i in range(24):\n",
    "    sensi_dict_Jul_AM[str(i)] = [links_with_sensitivity_list[i].DV_Dc_0a(), links_with_sensitivity_list[i].DV_Dm_a()]\n",
    "    DV_Dc_0a_Jul_AM_list.append(links_with_sensitivity_list[i].DV_Dc_0a())\n",
    "    DV_Dm_a_Jul_AM_list.append(links_with_sensitivity_list[i].DV_Dm_a())\n",
    "    \n",
    "zdump(sensi_dict_Jul_AM, '../temp_files/sensi_dict_Jul_AM.pkz')"
   ]
  },
  {
   "cell_type": "code",
   "execution_count": 12,
   "metadata": {
    "collapsed": false
   },
   "outputs": [],
   "source": [
    "DV_Dc_0a_Jul_AM_normalized_list = []\n",
    "DV_Dm_a_Jul_AM_normalized_list = []\n",
    "\n",
    "for i in range(24):\n",
    "    a = \"%.3f\" %(DV_Dc_0a_Jul_AM_list[i] / max(DV_Dc_0a_Jul_AM_list))\n",
    "    a = float(a)\n",
    "    b = \"%.3f\" %(DV_Dm_a_Jul_AM_list[i] / min(DV_Dm_a_Jul_AM_list))\n",
    "    b = float(b)\n",
    "    DV_Dc_0a_Jul_AM_normalized_list.append(a)\n",
    "    DV_Dm_a_Jul_AM_normalized_list.append(b)\n",
    "    \n",
    "zdump(DV_Dc_0a_Jul_AM_normalized_list, '../temp_files/DV_Dc_0a_Jul_AM_normalized_list.pkz')\n",
    "zdump(DV_Dm_a_Jul_AM_normalized_list, '../temp_files/DV_Dm_a_Jul_AM_normalized_list.pkz')"
   ]
  },
  {
   "cell_type": "code",
   "execution_count": 13,
   "metadata": {
    "collapsed": false,
    "scrolled": true
   },
   "outputs": [
    {
     "data": {
      "text/plain": [
       "[0.355,\n",
       " 0.272,\n",
       " 0.556,\n",
       " 0.545,\n",
       " 0.09,\n",
       " 0.023,\n",
       " 1.0,\n",
       " 0.41,\n",
       " 0.003,\n",
       " 0.112,\n",
       " 0.059,\n",
       " 0.204,\n",
       " 0.26,\n",
       " 0.016,\n",
       " 0.058,\n",
       " -0.0,\n",
       " 0.301,\n",
       " 0.663,\n",
       " 0.0,\n",
       " 0.153,\n",
       " 0.007,\n",
       " -0.0,\n",
       " 0.329,\n",
       " 0.333]"
      ]
     },
     "execution_count": 13,
     "metadata": {},
     "output_type": "execute_result"
    }
   ],
   "source": [
    "DV_Dm_a_Jul_AM_normalized_list"
   ]
  },
  {
   "cell_type": "code",
   "execution_count": 14,
   "metadata": {
    "collapsed": false
   },
   "outputs": [
    {
     "data": {
      "text/plain": [
       "{'0': [2791.9466657736875, -3.9311337529571584e-05],\n",
       " '1': [2428.9642906827175, -3.0050564477569364e-05],\n",
       " '10': [2273.168260565375, -6.53341678800704e-06],\n",
       " '11': [2961.0982328388413, -2.2519033635822466e-05],\n",
       " '12': [2682.0794048883304, -2.8794123877704717e-05],\n",
       " '13': [1178.5480553236082, -1.7694038744335701e-06],\n",
       " '14': [1841.7279640232587, -6.3621401605942279e-06],\n",
       " '15': [95.675747753734569, 5.4053268876532228e-09],\n",
       " '16': [2599.695214285332, -3.3279076239446442e-05],\n",
       " '17': [3392.1328430717876, -7.3374722634805774e-05],\n",
       " '18': [574.82239884191983, -4.915867584756392e-08],\n",
       " '19': [3076.7315718212294, -1.6931063048205553e-05],\n",
       " '2': [3513.012521726429, -6.1536515964613769e-05],\n",
       " '20': [998.31269750499007, -8.1712349067582414e-07],\n",
       " '21': [76.771394312285068, 3.2874978241557098e-09],\n",
       " '22': [3247.4103576941857, -3.6411430212033323e-05],\n",
       " '23': [3222.6555146538462, -3.686174267813462e-05],\n",
       " '3': [3513.458778229317, -6.0256682431126908e-05],\n",
       " '4': [2811.6271350924189, -9.9463789753442476e-06],\n",
       " '5': [1703.2582535714453, -2.513243072845105e-06],\n",
       " '6': [3442.9714978067923, -0.00011059249796684693],\n",
       " '7': [2515.1131976221427, -4.5368182613819855e-05],\n",
       " '8': [914.43534125903659, -3.2793004968954985e-07],\n",
       " '9': [2701.7418602954772, -1.2435385174238604e-05]}"
      ]
     },
     "execution_count": 14,
     "metadata": {},
     "output_type": "execute_result"
    }
   ],
   "source": [
    "sensi_dict_Jul_AM"
   ]
  },
  {
   "cell_type": "code",
   "execution_count": 15,
   "metadata": {
    "collapsed": false
   },
   "outputs": [
    {
     "data": {
      "text/plain": [
       "[<__main__.Link_with_Sensitivity at 0x7fe5b4e6e850>,\n",
       " <__main__.Link_with_Sensitivity at 0x7fe5b4e1c490>,\n",
       " <__main__.Link_with_Sensitivity at 0x7fe5b4e1c4d0>,\n",
       " <__main__.Link_with_Sensitivity at 0x7fe5b4e1c510>,\n",
       " <__main__.Link_with_Sensitivity at 0x7fe5b4e1c550>,\n",
       " <__main__.Link_with_Sensitivity at 0x7fe5b4e1c590>,\n",
       " <__main__.Link_with_Sensitivity at 0x7fe5b4e1c5d0>,\n",
       " <__main__.Link_with_Sensitivity at 0x7fe5b4e1c610>,\n",
       " <__main__.Link_with_Sensitivity at 0x7fe5b4e1c650>,\n",
       " <__main__.Link_with_Sensitivity at 0x7fe5b4e1c690>,\n",
       " <__main__.Link_with_Sensitivity at 0x7fe5b4e1c6d0>,\n",
       " <__main__.Link_with_Sensitivity at 0x7fe5b4e1c710>,\n",
       " <__main__.Link_with_Sensitivity at 0x7fe5b4e1c750>,\n",
       " <__main__.Link_with_Sensitivity at 0x7fe5b4e1c790>,\n",
       " <__main__.Link_with_Sensitivity at 0x7fe5b4e1c7d0>,\n",
       " <__main__.Link_with_Sensitivity at 0x7fe5b4e1c810>,\n",
       " <__main__.Link_with_Sensitivity at 0x7fe5b4e1c850>,\n",
       " <__main__.Link_with_Sensitivity at 0x7fe5b4e1c890>,\n",
       " <__main__.Link_with_Sensitivity at 0x7fe5b4e1c8d0>,\n",
       " <__main__.Link_with_Sensitivity at 0x7fe5b4e1c910>,\n",
       " <__main__.Link_with_Sensitivity at 0x7fe5b4e1c950>,\n",
       " <__main__.Link_with_Sensitivity at 0x7fe5b4e1c990>,\n",
       " <__main__.Link_with_Sensitivity at 0x7fe5b4e1c9d0>,\n",
       " <__main__.Link_with_Sensitivity at 0x7fe5b4e1ca10>]"
      ]
     },
     "execution_count": 15,
     "metadata": {},
     "output_type": "execute_result"
    }
   ],
   "source": [
    "links_with_sensitivity_list"
   ]
  },
  {
   "cell_type": "code",
   "execution_count": 16,
   "metadata": {
    "collapsed": false
   },
   "outputs": [
    {
     "data": {
      "text/plain": [
       "8"
      ]
     },
     "execution_count": 16,
     "metadata": {},
     "output_type": "execute_result"
    }
   ],
   "source": [
    "links_with_sensitivity_list[23].init_node"
   ]
  },
  {
   "cell_type": "code",
   "execution_count": 17,
   "metadata": {
    "collapsed": false
   },
   "outputs": [
    {
     "data": {
      "text/plain": [
       "7"
      ]
     },
     "execution_count": 17,
     "metadata": {},
     "output_type": "execute_result"
    }
   ],
   "source": [
    "links_with_sensitivity_list[23].term_node"
   ]
  },
  {
   "cell_type": "code",
   "execution_count": 18,
   "metadata": {
    "collapsed": false
   },
   "outputs": [
    {
     "data": {
      "text/plain": [
       "2791.9466657736875"
      ]
     },
     "execution_count": 18,
     "metadata": {},
     "output_type": "execute_result"
    }
   ],
   "source": [
    "links_with_sensitivity_list[0].DV_Dc_0a()"
   ]
  },
  {
   "cell_type": "code",
   "execution_count": 19,
   "metadata": {
    "collapsed": false
   },
   "outputs": [
    {
     "data": {
      "text/plain": [
       "-3.9311337529571584e-05"
      ]
     },
     "execution_count": 19,
     "metadata": {},
     "output_type": "execute_result"
    }
   ],
   "source": [
    "links_with_sensitivity_list[0].DV_Dm_a()"
   ]
  },
  {
   "cell_type": "code",
   "execution_count": 20,
   "metadata": {
    "collapsed": false
   },
   "outputs": [
    {
     "data": {
      "text/plain": [
       "2791.0698952240054"
      ]
     },
     "execution_count": 20,
     "metadata": {},
     "output_type": "execute_result"
    }
   ],
   "source": [
    "links_with_sensitivity_list[0].AM_flow"
   ]
  },
  {
   "cell_type": "code",
   "execution_count": 21,
   "metadata": {
    "collapsed": false
   },
   "outputs": [
    {
     "data": {
      "text/plain": [
       "0.30907697726948213"
      ]
     },
     "execution_count": 21,
     "metadata": {},
     "output_type": "execute_result"
    }
   ],
   "source": [
    "links_with_sensitivity_list[0].free_flow_time"
   ]
  },
  {
   "cell_type": "code",
   "execution_count": 22,
   "metadata": {
    "collapsed": false
   },
   "outputs": [
    {
     "data": {
      "text/plain": [
       "14699.597922185039"
      ]
     },
     "execution_count": 22,
     "metadata": {},
     "output_type": "execute_result"
    }
   ],
   "source": [
    "links_with_sensitivity_list[0].AM_capac"
   ]
  },
  {
   "cell_type": "code",
   "execution_count": 23,
   "metadata": {
    "collapsed": false
   },
   "outputs": [
    {
     "data": {
      "text/plain": [
       "[1.0,\n",
       " -0.0015262633425194546,\n",
       " 0.0536898271410055,\n",
       " -0.1694332010735469,\n",
       " 0.49405540420142546,\n",
       " -0.6983135589482856,\n",
       " 0.6596802905082108,\n",
       " -0.32005375039483774,\n",
       " 0.06836663523498254]"
      ]
     },
     "execution_count": 23,
     "metadata": {},
     "output_type": "execute_result"
    }
   ],
   "source": [
    "links_with_sensitivity_list[0].fcoeffs"
   ]
  },
  {
   "cell_type": "code",
   "execution_count": 24,
   "metadata": {
    "collapsed": false
   },
   "outputs": [
    {
     "data": {
      "text/plain": [
       "24"
      ]
     },
     "execution_count": 24,
     "metadata": {},
     "output_type": "execute_result"
    }
   ],
   "source": [
    "len(links_with_sensitivity_list)"
   ]
  },
  {
   "cell_type": "code",
   "execution_count": null,
   "metadata": {
    "collapsed": true
   },
   "outputs": [],
   "source": []
  }
 ],
 "metadata": {
  "kernelspec": {
   "display_name": "Python 2",
   "language": "python",
   "name": "python2"
  },
  "language_info": {
   "codemirror_mode": {
    "name": "ipython",
    "version": 2
   },
   "file_extension": ".py",
   "mimetype": "text/x-python",
   "name": "python",
   "nbconvert_exporter": "python",
   "pygments_lexer": "ipython2",
   "version": "2.7.11"
  }
 },
 "nbformat": 4,
 "nbformat_minor": 0
}
