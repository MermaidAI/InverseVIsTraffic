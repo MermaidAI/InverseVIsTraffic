{
 "cells": [
  {
   "cell_type": "code",
   "execution_count": 1,
   "metadata": {
    "collapsed": false
   },
   "outputs": [],
   "source": [
    "%run ../Python_files/util_data_storage_and_load.py"
   ]
  },
  {
   "cell_type": "code",
   "execution_count": 2,
   "metadata": {
    "collapsed": false
   },
   "outputs": [
    {
     "name": "stdout",
     "output_type": "stream",
     "text": [
      "No dicts found; please check load_dicts...\n"
     ]
    }
   ],
   "source": [
    "%run ../Python_files/util.py"
   ]
  },
  {
   "cell_type": "code",
   "execution_count": 11,
   "metadata": {
    "collapsed": true
   },
   "outputs": [],
   "source": [
    "link_day_Jan_dict = zload('../temp_files/link_day_Jan_dict.pkz')"
   ]
  },
  {
   "cell_type": "code",
   "execution_count": 12,
   "metadata": {
    "collapsed": true
   },
   "outputs": [],
   "source": [
    "link_label_dict = zload('../temp_files/link_label_dict.pkz')\n",
    "link_label_dict_ = zload('../temp_files/link_label_dict_.pkz')"
   ]
  },
  {
   "cell_type": "code",
   "execution_count": 13,
   "metadata": {
    "collapsed": false
   },
   "outputs": [],
   "source": [
    "# load the estimated g() function \n",
    "\n",
    "import json\n",
    "\n",
    "with open('../temp_files/coeffs_dict_Jan_AM.json', 'r') as json_file:\n",
    "    coeffs_dict_Jan_AM = json.load(json_file)\n",
    "\n",
    "with open('../temp_files/cross_validation_best_key_Jan_AM.json', 'r') as json_file_:\n",
    "    cross_validation_best_key_Jan_AM = json.load(json_file_)"
   ]
  },
  {
   "cell_type": "code",
   "execution_count": 14,
   "metadata": {
    "collapsed": false
   },
   "outputs": [
    {
     "data": {
      "text/plain": [
       "[1.0,\n",
       " -0.0003538077907278969,\n",
       " 0.03429630584123055,\n",
       " -0.028888984832321916,\n",
       " 0.00988624273127275,\n",
       " 0.32422136659327283,\n",
       " -0.478362599836525,\n",
       " 0.3803955375215328,\n",
       " -0.10264903241135534]"
      ]
     },
     "execution_count": 14,
     "metadata": {},
     "output_type": "execute_result"
    }
   ],
   "source": [
    "coeffs_dict_Jan_AM[cross_validation_best_key_Jan_AM]\n",
    "#cross_validation_best_key_Apr_AM"
   ]
  },
  {
   "cell_type": "code",
   "execution_count": 15,
   "metadata": {
    "collapsed": false
   },
   "outputs": [
    {
     "data": {
      "text/plain": [
       "[1, 2, 3, 4, 5, 6, 7, 8, 9]"
      ]
     },
     "execution_count": 15,
     "metadata": {},
     "output_type": "execute_result"
    }
   ],
   "source": [
    "range(10)[1:]"
   ]
  },
  {
   "cell_type": "code",
   "execution_count": 16,
   "metadata": {
    "collapsed": false
   },
   "outputs": [],
   "source": [
    "links_with_sensitivity_list = []\n",
    "\n",
    "for link_idx in range(24):\n",
    "    key = 'link_' + str(link_idx) + '_' + str(10)  # we take January 10 for sensitivity analysis\n",
    "    init_node = link_day_Jan_dict[key].init_node\n",
    "    term_node = link_day_Jan_dict[key].term_node\n",
    "    tmc_set = link_day_Jan_dict[key].tmc_set\n",
    "    AM_capac = link_day_Jan_dict[key].AM_capac\n",
    "    MD_capac = 0\n",
    "    PM_capac = 0\n",
    "    NT_capac = 0\n",
    "    free_flow_time = link_day_Jan_dict[key].free_flow_time\n",
    "    length = 0\n",
    "    AM_flow = link_day_Jan_dict[key].AM_flow\n",
    "    MD_flow = 0\n",
    "    PM_flow = 0\n",
    "    NT_flow = 0\n",
    "    coeffs = coeffs_dict_Jan_AM[cross_validation_best_key_Jan_AM]\n",
    "    links_with_sensitivity = Link_with_Sensitivity(init_node, term_node, tmc_set, AM_capac, MD_capac, \\\n",
    "                                                   PM_capac, NT_capac, free_flow_time, length, \\\n",
    "                                                   AM_flow, MD_flow, PM_flow, NT_flow, \\\n",
    "                                                   coeffs)\n",
    "    links_with_sensitivity_list.append(links_with_sensitivity)"
   ]
  },
  {
   "cell_type": "code",
   "execution_count": 17,
   "metadata": {
    "collapsed": false
   },
   "outputs": [],
   "source": [
    "sensi_dict_Jan_AM = {}\n",
    "DV_Dc_0a_Jan_AM_list = []\n",
    "DV_Dm_a_Jan_AM_list = []\n",
    "\n",
    "for i in range(24):\n",
    "    sensi_dict_Jan_AM[str(i)] = [links_with_sensitivity_list[i].DV_Dc_0a(), links_with_sensitivity_list[i].DV_Dm_a()]\n",
    "    DV_Dc_0a_Jan_AM_list.append(links_with_sensitivity_list[i].DV_Dc_0a())\n",
    "    DV_Dm_a_Jan_AM_list.append(links_with_sensitivity_list[i].DV_Dm_a())\n",
    "    \n",
    "zdump(sensi_dict_Jan_AM, '../temp_files/sensi_dict_Jan_AM.pkz')"
   ]
  },
  {
   "cell_type": "code",
   "execution_count": 18,
   "metadata": {
    "collapsed": false
   },
   "outputs": [],
   "source": [
    "DV_Dc_0a_Jan_AM_normalized_list = []\n",
    "DV_Dm_a_Jan_AM_normalized_list = []\n",
    "\n",
    "for i in range(24):\n",
    "    a = \"%.3f\" %(DV_Dc_0a_Jan_AM_list[i] / max(DV_Dc_0a_Jan_AM_list))\n",
    "    a = float(a)\n",
    "    b = \"%.3f\" %(DV_Dm_a_Jan_AM_list[i] / min(DV_Dm_a_Jan_AM_list))\n",
    "    b = float(b)\n",
    "    DV_Dc_0a_Jan_AM_normalized_list.append(a)\n",
    "    DV_Dm_a_Jan_AM_normalized_list.append(b)\n",
    "    \n",
    "zdump(DV_Dc_0a_Jan_AM_normalized_list, '../temp_files/DV_Dc_0a_Jan_AM_normalized_list.pkz')\n",
    "zdump(DV_Dm_a_Jan_AM_normalized_list, '../temp_files/DV_Dm_a_Jan_AM_normalized_list.pkz')"
   ]
  },
  {
   "cell_type": "code",
   "execution_count": 19,
   "metadata": {
    "collapsed": false
   },
   "outputs": [
    {
     "data": {
      "text/plain": [
       "[0.095,\n",
       " 0.211,\n",
       " 0.218,\n",
       " 0.309,\n",
       " 0.292,\n",
       " 0.931,\n",
       " 0.162,\n",
       " 0.147,\n",
       " 0.45,\n",
       " 0.827,\n",
       " 0.633,\n",
       " 0.667,\n",
       " 0.712,\n",
       " 0.115,\n",
       " 0.544,\n",
       " 0.159,\n",
       " 0.206,\n",
       " 0.123,\n",
       " 1.0,\n",
       " 0.252,\n",
       " 0.702,\n",
       " 0.767,\n",
       " 0.311,\n",
       " 0.184]"
      ]
     },
     "execution_count": 19,
     "metadata": {},
     "output_type": "execute_result"
    }
   ],
   "source": [
    "DV_Dc_0a_Jan_AM_normalized_list"
   ]
  },
  {
   "cell_type": "code",
   "execution_count": 20,
   "metadata": {
    "collapsed": false,
    "scrolled": true
   },
   "outputs": [
    {
     "data": {
      "text/plain": [
       "[0.001,\n",
       " 0.007,\n",
       " 0.005,\n",
       " 0.016,\n",
       " 0.004,\n",
       " 0.575,\n",
       " 0.004,\n",
       " 0.003,\n",
       " 0.023,\n",
       " 0.352,\n",
       " 0.095,\n",
       " 0.241,\n",
       " 0.73,\n",
       " 0.001,\n",
       " 0.128,\n",
       " 0.003,\n",
       " 0.006,\n",
       " 0.001,\n",
       " 1.0,\n",
       " 0.003,\n",
       " 0.3,\n",
       " 0.542,\n",
       " 0.014,\n",
       " 0.002]"
      ]
     },
     "execution_count": 20,
     "metadata": {},
     "output_type": "execute_result"
    }
   ],
   "source": [
    "DV_Dm_a_Jan_AM_normalized_list"
   ]
  },
  {
   "cell_type": "code",
   "execution_count": 21,
   "metadata": {
    "collapsed": false
   },
   "outputs": [
    {
     "data": {
      "text/plain": [
       "{'0': [1687.0119834891918, -9.0062714551478089e-06],\n",
       " '1': [3733.8096529784852, -0.00011858874269739414],\n",
       " '10': [11191.20924968763, -0.0015467109369231194],\n",
       " '11': [11791.631191884006, -0.0039186268559051034],\n",
       " '12': [12597.829539763934, -0.011872601237656179],\n",
       " '13': [2037.1178107895212, -9.7979050970764388e-06],\n",
       " '14': [9628.152625368708, -0.002077222836574349],\n",
       " '15': [2818.0747504978563, -4.5747066980238861e-05],\n",
       " '16': [3643.1203382957756, -9.8199064580850433e-05],\n",
       " '17': [2183.8410027578384, -2.0491615297388897e-05],\n",
       " '18': [17687.684288379907, -0.016261802162306705],\n",
       " '19': [4461.9368197261574, -5.5363842712409551e-05],\n",
       " '2': [3864.4550567506762, -8.6841585509322549e-05],\n",
       " '20': [12414.50357182383, -0.0048707004988145812],\n",
       " '21': [13561.185889209861, -0.0088072463224543041],\n",
       " '22': [5508.5507442984353, -0.00022418134342288413],\n",
       " '23': [3246.0448629166654, -4.0149120181814429e-05],\n",
       " '3': [5470.2950867330292, -0.00025848456817171878],\n",
       " '4': [5159.5896481248756, -6.7940750003080952e-05],\n",
       " '5': [16474.544746517553, -0.0093535193698841574],\n",
       " '6': [2869.6772730459802, -6.7498092421891575e-05],\n",
       " '7': [2608.2199743656461, -5.2359996020060623e-05],\n",
       " '8': [7958.4117316521815, -0.00037790432785203944],\n",
       " '9': [14635.156609526995, -0.0057264284392469292]}"
      ]
     },
     "execution_count": 21,
     "metadata": {},
     "output_type": "execute_result"
    }
   ],
   "source": [
    "sensi_dict_Jan_AM"
   ]
  },
  {
   "cell_type": "code",
   "execution_count": 22,
   "metadata": {
    "collapsed": false
   },
   "outputs": [
    {
     "data": {
      "text/plain": [
       "[<__main__.Link_with_Sensitivity at 0x7efe22926fd0>,\n",
       " <__main__.Link_with_Sensitivity at 0x7efe22925590>,\n",
       " <__main__.Link_with_Sensitivity at 0x7efe22925050>,\n",
       " <__main__.Link_with_Sensitivity at 0x7efe22925090>,\n",
       " <__main__.Link_with_Sensitivity at 0x7efe229250d0>,\n",
       " <__main__.Link_with_Sensitivity at 0x7efe22925110>,\n",
       " <__main__.Link_with_Sensitivity at 0x7efe22925150>,\n",
       " <__main__.Link_with_Sensitivity at 0x7efe22925190>,\n",
       " <__main__.Link_with_Sensitivity at 0x7efe229251d0>,\n",
       " <__main__.Link_with_Sensitivity at 0x7efe22925210>,\n",
       " <__main__.Link_with_Sensitivity at 0x7efe22925250>,\n",
       " <__main__.Link_with_Sensitivity at 0x7efe22925290>,\n",
       " <__main__.Link_with_Sensitivity at 0x7efe229252d0>,\n",
       " <__main__.Link_with_Sensitivity at 0x7efe22925310>,\n",
       " <__main__.Link_with_Sensitivity at 0x7efe22925350>,\n",
       " <__main__.Link_with_Sensitivity at 0x7efe22925390>,\n",
       " <__main__.Link_with_Sensitivity at 0x7efe229253d0>,\n",
       " <__main__.Link_with_Sensitivity at 0x7efe22925410>,\n",
       " <__main__.Link_with_Sensitivity at 0x7efe22925450>,\n",
       " <__main__.Link_with_Sensitivity at 0x7efe22925490>,\n",
       " <__main__.Link_with_Sensitivity at 0x7efe229254d0>,\n",
       " <__main__.Link_with_Sensitivity at 0x7efe22925510>,\n",
       " <__main__.Link_with_Sensitivity at 0x7efe22925550>,\n",
       " <__main__.Link_with_Sensitivity at 0x7efe228cded0>]"
      ]
     },
     "execution_count": 22,
     "metadata": {},
     "output_type": "execute_result"
    }
   ],
   "source": [
    "links_with_sensitivity_list"
   ]
  },
  {
   "cell_type": "code",
   "execution_count": 23,
   "metadata": {
    "collapsed": false
   },
   "outputs": [
    {
     "data": {
      "text/plain": [
       "8"
      ]
     },
     "execution_count": 23,
     "metadata": {},
     "output_type": "execute_result"
    }
   ],
   "source": [
    "links_with_sensitivity_list[23].init_node"
   ]
  },
  {
   "cell_type": "code",
   "execution_count": 24,
   "metadata": {
    "collapsed": false
   },
   "outputs": [
    {
     "data": {
      "text/plain": [
       "7"
      ]
     },
     "execution_count": 24,
     "metadata": {},
     "output_type": "execute_result"
    }
   ],
   "source": [
    "links_with_sensitivity_list[23].term_node"
   ]
  },
  {
   "cell_type": "code",
   "execution_count": 25,
   "metadata": {
    "collapsed": false
   },
   "outputs": [
    {
     "data": {
      "text/plain": [
       "1687.0119834891918"
      ]
     },
     "execution_count": 25,
     "metadata": {},
     "output_type": "execute_result"
    }
   ],
   "source": [
    "links_with_sensitivity_list[0].DV_Dc_0a()"
   ]
  },
  {
   "cell_type": "code",
   "execution_count": 26,
   "metadata": {
    "collapsed": false
   },
   "outputs": [
    {
     "data": {
      "text/plain": [
       "-9.0062714551478089e-06"
      ]
     },
     "execution_count": 26,
     "metadata": {},
     "output_type": "execute_result"
    }
   ],
   "source": [
    "links_with_sensitivity_list[0].DV_Dm_a()"
   ]
  },
  {
   "cell_type": "code",
   "execution_count": 27,
   "metadata": {
    "collapsed": false
   },
   "outputs": [
    {
     "data": {
      "text/plain": [
       "1686.8085559893791"
      ]
     },
     "execution_count": 27,
     "metadata": {},
     "output_type": "execute_result"
    }
   ],
   "source": [
    "links_with_sensitivity_list[0].AM_flow"
   ]
  },
  {
   "cell_type": "code",
   "execution_count": 28,
   "metadata": {
    "collapsed": false
   },
   "outputs": [
    {
     "data": {
      "text/plain": [
       "0.30907697726948213"
      ]
     },
     "execution_count": 28,
     "metadata": {},
     "output_type": "execute_result"
    }
   ],
   "source": [
    "links_with_sensitivity_list[0].free_flow_time"
   ]
  },
  {
   "cell_type": "code",
   "execution_count": 29,
   "metadata": {
    "collapsed": false
   },
   "outputs": [
    {
     "data": {
      "text/plain": [
       "14699.597922185039"
      ]
     },
     "execution_count": 29,
     "metadata": {},
     "output_type": "execute_result"
    }
   ],
   "source": [
    "links_with_sensitivity_list[0].AM_capac"
   ]
  },
  {
   "cell_type": "code",
   "execution_count": 30,
   "metadata": {
    "collapsed": false
   },
   "outputs": [
    {
     "data": {
      "text/plain": [
       "[1.0,\n",
       " -0.0003538077907278969,\n",
       " 0.03429630584123055,\n",
       " -0.028888984832321916,\n",
       " 0.00988624273127275,\n",
       " 0.32422136659327283,\n",
       " -0.478362599836525,\n",
       " 0.3803955375215328,\n",
       " -0.10264903241135534]"
      ]
     },
     "execution_count": 30,
     "metadata": {},
     "output_type": "execute_result"
    }
   ],
   "source": [
    "links_with_sensitivity_list[0].fcoeffs"
   ]
  },
  {
   "cell_type": "code",
   "execution_count": 31,
   "metadata": {
    "collapsed": false
   },
   "outputs": [
    {
     "data": {
      "text/plain": [
       "24"
      ]
     },
     "execution_count": 31,
     "metadata": {},
     "output_type": "execute_result"
    }
   ],
   "source": [
    "len(links_with_sensitivity_list)"
   ]
  },
  {
   "cell_type": "code",
   "execution_count": null,
   "metadata": {
    "collapsed": true
   },
   "outputs": [],
   "source": []
  }
 ],
 "metadata": {
  "kernelspec": {
   "display_name": "Python 2",
   "language": "python",
   "name": "python2"
  },
  "language_info": {
   "codemirror_mode": {
    "name": "ipython",
    "version": 2
   },
   "file_extension": ".py",
   "mimetype": "text/x-python",
   "name": "python",
   "nbconvert_exporter": "python",
   "pygments_lexer": "ipython2",
   "version": "2.7.11"
  }
 },
 "nbformat": 4,
 "nbformat_minor": 0
}
