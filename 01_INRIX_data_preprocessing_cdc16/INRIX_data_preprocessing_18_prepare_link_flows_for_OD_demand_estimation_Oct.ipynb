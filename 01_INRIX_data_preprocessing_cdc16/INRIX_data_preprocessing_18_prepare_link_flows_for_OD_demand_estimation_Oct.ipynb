{
 "cells": [
  {
   "cell_type": "code",
   "execution_count": 1,
   "metadata": {
    "collapsed": false
   },
   "outputs": [
    {
     "name": "stdout",
     "output_type": "stream",
     "text": [
      "[2320.297550277834, 2183.4729231897704, 2199.1836932059482, 2239.2657189473384, 2328.7268962402604, 2468.7081217265204, 2392.9445027128595, 2521.2596058842132, 2689.9768513709059, 2548.7193042420122]\n",
      "[3072.125235608699, 3028.4645731063006, 2981.094326086284, 3109.573005213429, 3148.921723889337, 3125.6458256648634, 3075.7568438895514, 3155.6233935839964, 3097.8250227937438, 3057.7258246560937]\n"
     ]
    }
   ],
   "source": [
    "%run ../Python_files/load_dicts.py\n",
    "%run ../Python_files/INRIX_data_preprocessing_18_prepare_link_flows_for_OD_demand_estimation_Oct.py"
   ]
  }
 ],
 "metadata": {
  "kernelspec": {
   "display_name": "Python 2",
   "language": "python",
   "name": "python2"
  },
  "language_info": {
   "codemirror_mode": {
    "name": "ipython",
    "version": 2
   },
   "file_extension": ".py",
   "mimetype": "text/x-python",
   "name": "python",
   "nbconvert_exporter": "python",
   "pygments_lexer": "ipython2",
   "version": "2.7.12"
  }
 },
 "nbformat": 4,
 "nbformat_minor": 0
}
