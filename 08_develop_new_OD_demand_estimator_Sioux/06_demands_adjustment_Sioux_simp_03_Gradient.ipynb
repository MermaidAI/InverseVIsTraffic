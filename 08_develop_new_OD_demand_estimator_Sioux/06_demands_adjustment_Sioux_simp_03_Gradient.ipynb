{
 "cells": [
  {
   "cell_type": "code",
   "execution_count": 1,
   "metadata": {
    "collapsed": false
   },
   "outputs": [],
   "source": [
    "# addprocs(7)  # parallel computing"
   ]
  },
  {
   "cell_type": "code",
   "execution_count": 2,
   "metadata": {
    "collapsed": false
   },
   "outputs": [],
   "source": [
    "include(\"prepare_data_Sioux_simp.jl\");\n",
    "include(\"extract_data.jl\");\n",
    "include(\"tap_MSA_Sioux_simp.jl\");\n",
    "include(\"demands_adjustment_Sioux_simp_gradi.jl\");"
   ]
  },
  {
   "cell_type": "code",
   "execution_count": 3,
   "metadata": {
    "collapsed": true
   },
   "outputs": [],
   "source": [
    "fcoeffs = [1, 0, 0, 0, .15];"
   ]
  },
  {
   "cell_type": "code",
   "execution_count": 4,
   "metadata": {
    "collapsed": false
   },
   "outputs": [],
   "source": [
    "tapFlowVecDict = Dict{Int64, Array{Float64, 1}}();\n",
    "tapFlowDicDict = Dict{Int64, Dict{(Int64,Int64),Float64}}();"
   ]
  },
  {
   "cell_type": "code",
   "execution_count": 5,
   "metadata": {
    "collapsed": false
   },
   "outputs": [],
   "source": [
    "# get observed flow vector (corresponding to ground truth demands)\n",
    "tapFlowDicDict[0], tapFlowVecDict[0] = tapMSA(demandsDict[0], fcoeffs);"
   ]
  },
  {
   "cell_type": "code",
   "execution_count": 6,
   "metadata": {
    "collapsed": false
   },
   "outputs": [],
   "source": [
    "# get initial flow vector (corresponding to initial demands)\n",
    "tapFlowDicDict[1], tapFlowVecDict[1] = tapMSA(demandsDict[1], fcoeffs);"
   ]
  },
  {
   "cell_type": "code",
   "execution_count": 7,
   "metadata": {
    "collapsed": false
   },
   "outputs": [
    {
     "data": {
      "text/plain": [
       "Dict{(Int64,Int64),Float64} with 144 entries:\n",
       "  (8,10)  => 1600.0\n",
       "  (9,5)   => 800.0\n",
       "  (3,6)   => 300.0\n",
       "  (10,5)  => 1000.0\n",
       "  (6,9)   => 400.0\n",
       "  (12,4)  => 600.0\n",
       "  (4,4)   => 0.0\n",
       "  (9,4)   => 700.0\n",
       "  (10,11) => 4000.0\n",
       "  (8,9)   => 800.0\n",
       "  (9,1)   => 500.0\n",
       "  (11,1)  => 500.0\n",
       "  (8,11)  => 800.0\n",
       "  (3,1)   => 100.0\n",
       "  (1,10)  => 1300.0\n",
       "  (1,12)  => 200.0\n",
       "  (12,7)  => 700.0\n",
       "  (4,5)   => 500.0\n",
       "  (9,9)   => 0.0\n",
       "  (11,8)  => 800.0\n",
       "  (12,8)  => 600.0\n",
       "  (2,4)   => 200.0\n",
       "  (6,5)   => 200.0\n",
       "  (4,9)   => 700.0\n",
       "  (8,4)   => 700.0\n",
       "  ⋮       => ⋮"
      ]
     },
     "execution_count": 7,
     "metadata": {},
     "output_type": "execute_result"
    }
   ],
   "source": [
    "demandsDict[0]"
   ]
  },
  {
   "cell_type": "code",
   "execution_count": 8,
   "metadata": {
    "collapsed": false
   },
   "outputs": [
    {
     "data": {
      "text/plain": [
       "132x30 Array{Float64,2}:\n",
       " -0.0   0.0   0.0  0.0   0.0  -0.0  0.0  …   1.0  -0.0  0.0   0.0  0.0   1.0\n",
       "  0.0   0.0   0.0  0.0   0.0   0.0  0.0      0.0   0.0  0.0   0.0  0.0   0.0\n",
       "  0.0  -1.0   0.0  0.0   0.0   0.0  0.0      1.0   0.0  0.0   1.0  0.0   0.0\n",
       " -1.0   0.0   0.0  0.0   0.0   0.0  0.0      0.0   0.0  0.0   0.0  0.0   0.0\n",
       "  0.0   0.0   0.0  0.0   0.0   1.0  0.0      0.0   1.0  0.0   0.0  0.0   0.0\n",
       "  0.0   0.0   0.0  0.0   0.0   0.0  0.0  …   1.0   0.0  0.0   0.0  0.0   0.0\n",
       "  0.0   0.0  -0.0  0.0   0.0   0.0  0.0      0.0   0.0  0.0  -0.0  0.0   0.0\n",
       " -1.0   0.0   1.0  0.0   0.0   0.0  0.0      0.0   1.0  0.0   0.0  0.0   0.0\n",
       "  0.0   0.0   0.0  0.0   0.0   0.0  0.0      0.0   0.0  0.0   0.0  0.0   0.0\n",
       "  0.0   0.0   0.0  0.0   0.0   0.0  0.0      0.0   0.0  0.0   0.0  0.0   0.0\n",
       " -1.0   0.0   0.0  0.0   0.0   0.0  0.0  …   0.0   0.0  0.0   0.0  0.0   1.0\n",
       "  0.0   0.0   1.0  0.0   0.0   0.0  0.0      0.0   0.0  0.0   0.0  0.0   0.0\n",
       "  0.0   0.0   0.0  0.0  -0.0   0.0  0.0     -0.0   0.0  0.0   0.0  0.0  -0.0\n",
       "  ⋮                            ⋮         ⋱         ⋮                        \n",
       " -0.0   1.0   0.0  0.0   0.0  -0.0  1.0  …   0.0  -0.0  0.0   0.0  0.0   0.0\n",
       "  0.0   0.0   0.0  0.0   0.0   0.0  0.0      0.0   0.0  0.0   0.0  0.0   0.0\n",
       "  0.0   0.0   0.0  0.0   0.0   0.0  0.0      0.0   0.0  0.0   0.0  1.0   0.0\n",
       "  0.0   0.0   0.0  0.0   0.0   0.0  0.0      0.0   0.0  0.0   0.0  0.0   0.0\n",
       "  0.0   0.0   0.0  0.0   0.0   0.0  0.0      0.0   0.0  0.0   1.0  0.0   0.0\n",
       "  0.0   0.0   0.0  0.0   0.0   1.0  0.0  …   0.0   0.0  0.0   0.0  1.0   0.0\n",
       "  0.0   0.0  -0.0  0.0   0.0   0.0  0.0      1.0   0.0  0.0  -0.0  0.0   0.0\n",
       " -1.0   0.0   1.0  0.0   0.0   0.0  0.0      0.0   0.0  0.0   0.0  0.0   0.0\n",
       "  0.0   0.0   1.0  0.0   0.0   1.0  0.0      0.0   1.0  0.0   0.0  0.0   0.0\n",
       "  0.0   0.0   0.0  1.0   0.0   0.0  0.0      1.0   0.0  0.0   0.0  1.0   0.0\n",
       " -1.0   1.0   0.0  0.0   0.0   0.0  1.0  …   0.0   0.0  0.0   0.0  0.0   0.0\n",
       "  0.0   0.0   1.0  0.0   0.0   1.0  0.0      0.0   0.0  1.0   0.0  0.0   1.0"
      ]
     },
     "execution_count": 8,
     "metadata": {},
     "output_type": "execute_result"
    }
   ],
   "source": [
    "jacobDict = Dict{Int64, Array{Float64}}()\n",
    "\n",
    "jacobDict[1] = jacobian(tapFlowVecDict[1], fcoeffs, capacity, free_flow_time, numLinks, numODpairs, \n",
    "numRoutes, linkRoute, odPairRoute)"
   ]
  },
  {
   "cell_type": "code",
   "execution_count": 9,
   "metadata": {
    "collapsed": false
   },
   "outputs": [
    {
     "data": {
      "text/plain": [
       "Dict{Int64,Array{Float64,N}} with 1 entry:\n",
       "  1 => [-0.0 0.0 0.0 0.0 0.0 -0.0 0.0 0.0 0.0 0.0 -0.0 0.0 0.0 0.0 0.0 -0.0 0.0 …"
      ]
     },
     "execution_count": 9,
     "metadata": {},
     "output_type": "execute_result"
    }
   ],
   "source": [
    "jacobDict"
   ]
  },
  {
   "cell_type": "code",
   "execution_count": 10,
   "metadata": {
    "collapsed": false
   },
   "outputs": [
    {
     "data": {
      "text/plain": [
       "132-element Array{Float64,1}:\n",
       " -161.126 \n",
       "   57.947 \n",
       " -651.939 \n",
       "  129.346 \n",
       "  -85.5632\n",
       " -120.101 \n",
       "   -0.0   \n",
       "  -58.4533\n",
       " -389.406 \n",
       "   -0.0   \n",
       "  147.909 \n",
       " -312.0   \n",
       "   -0.0   \n",
       "    ⋮     \n",
       " -450.156 \n",
       "   -0.0   \n",
       " -516.756 \n",
       "   -0.0   \n",
       " -403.412 \n",
       "   42.4263\n",
       "   41.5019\n",
       "  216.375 \n",
       " -245.098 \n",
       "  460.396 \n",
       " -501.903 \n",
       " -527.534 "
      ]
     },
     "execution_count": 10,
     "metadata": {},
     "output_type": "execute_result"
    }
   ],
   "source": [
    "descDirecDict = Dict{Int64, Array{Float64,1}}()\n",
    "descDirecDict[1] = descDirec(tapFlowVecDict[1], tapFlowVecDict[0], jacobDict[1], numODpairs, numLinks)"
   ]
  },
  {
   "cell_type": "code",
   "execution_count": 11,
   "metadata": {
    "collapsed": false
   },
   "outputs": [
    {
     "data": {
      "text/plain": [
       "132-element Array{Float64,1}:\n",
       "   94.6641\n",
       "   98.6753\n",
       "  503.991 \n",
       "  188.239 \n",
       "  278.751 \n",
       "  529.941 \n",
       "  832.222 \n",
       "  525.316 \n",
       " 1279.29  \n",
       "  485.112 \n",
       "  219.564 \n",
       "  108.672 \n",
       "   97.0662\n",
       "    ⋮     \n",
       " 1425.21  \n",
       "  214.147 \n",
       "   97.0584\n",
       "  180.058 \n",
       "  600.553 \n",
       "  193.828 \n",
       "  186.604 \n",
       "  711.807 \n",
       "  638.069 \n",
       "  559.622 \n",
       " 2024.67  \n",
       " 1346.81  "
      ]
     },
     "execution_count": 11,
     "metadata": {},
     "output_type": "execute_result"
    }
   ],
   "source": [
    "demandsVecDict = Dict{Int64, Array{Float64,1}}()\n",
    "\n",
    "demandsVecDict[1] = demandsDicToVec(demandsDict[1])"
   ]
  },
  {
   "cell_type": "code",
   "execution_count": 12,
   "metadata": {
    "collapsed": false
   },
   "outputs": [
    {
     "data": {
      "text/plain": [
       "132-element Array{Float64,1}:\n",
       " -161.126 \n",
       "   57.947 \n",
       " -651.939 \n",
       "  129.346 \n",
       "  -85.5632\n",
       " -120.101 \n",
       "   -0.0   \n",
       "  -58.4533\n",
       " -389.406 \n",
       "   -0.0   \n",
       "  147.909 \n",
       " -312.0   \n",
       "   -0.0   \n",
       "    ⋮     \n",
       " -450.156 \n",
       "   -0.0   \n",
       " -516.756 \n",
       "   -0.0   \n",
       " -403.412 \n",
       "   42.4263\n",
       "   41.5019\n",
       "  216.375 \n",
       " -245.098 \n",
       "  460.396 \n",
       " -501.903 \n",
       " -527.534 "
      ]
     },
     "execution_count": 12,
     "metadata": {},
     "output_type": "execute_result"
    }
   ],
   "source": [
    "searchDirecDict = Dict{Int64, Array{Float64,1}}()\n",
    "searchDirecDict[1] = searchDirec(demandsVecDict[1], descDirecDict[1], 20)"
   ]
  },
  {
   "cell_type": "code",
   "execution_count": 13,
   "metadata": {
    "collapsed": false
   },
   "outputs": [
    {
     "data": {
      "text/plain": [
       "0.12470290230841002"
      ]
     },
     "execution_count": 13,
     "metadata": {},
     "output_type": "execute_result"
    }
   ],
   "source": [
    "thetaMaxDict = Dict{Int64, Float64}()\n",
    "thetaMaxDict[1] = thetaMax(demandsVecDict[1], searchDirecDict[1])"
   ]
  },
  {
   "cell_type": "code",
   "execution_count": 14,
   "metadata": {
    "collapsed": true
   },
   "outputs": [],
   "source": [
    "# # update\n",
    "\n",
    "# demandsVecNew = similar(demandsVec)\n",
    "# for i = 1:length(demandsVec)\n",
    "#     demandsVecNew[i] = demandsVec[i] + (alpha_max / 81) * r_[i] \n",
    "# end"
   ]
  }
 ],
 "metadata": {
  "kernelspec": {
   "display_name": "Julia 0.3.7",
   "language": "julia",
   "name": "julia-0.3"
  },
  "language_info": {
   "file_extension": ".jl",
   "mimetype": "application/julia",
   "name": "julia",
   "version": "0.3.7"
  }
 },
 "nbformat": 4,
 "nbformat_minor": 0
}
