{
 "cells": [
  {
   "cell_type": "markdown",
   "metadata": {},
   "source": [
    "## Solve an inverse tarffic problem over polynomials of degree at most d\n",
    "\n",
    "## Optionally use a regularizer from the poly kernel"
   ]
  },
  {
   "cell_type": "code",
   "execution_count": 1,
   "metadata": {
    "collapsed": false
   },
   "outputs": [
    {
     "name": "stdout",
     "output_type": "stream",
     "text": [
      "No dicts found; please check load_dicts...\n"
     ]
    }
   ],
   "source": [
    "%run ../Python_files/util.py"
   ]
  },
  {
   "cell_type": "code",
   "execution_count": 2,
   "metadata": {
    "collapsed": true
   },
   "outputs": [],
   "source": [
    "import json"
   ]
  },
  {
   "cell_type": "code",
   "execution_count": 3,
   "metadata": {
    "collapsed": true
   },
   "outputs": [],
   "source": [
    "# read in node-link incidence matrtix\n",
    "with open('node_link_incidence_Sioux.json', 'r') as json_file:\n",
    "    N_dict = json.load(json_file)\n",
    "    \n",
    "N = zload('node_link_incidence_Sioux.pkz')"
   ]
  },
  {
   "cell_type": "code",
   "execution_count": 4,
   "metadata": {
    "collapsed": false
   },
   "outputs": [
    {
     "data": {
      "text/plain": [
       "(24, 76)"
      ]
     },
     "execution_count": 4,
     "metadata": {},
     "output_type": "execute_result"
    }
   ],
   "source": [
    "N.shape"
   ]
  },
  {
   "cell_type": "code",
   "execution_count": 5,
   "metadata": {
    "collapsed": true
   },
   "outputs": [],
   "source": [
    "# define polynomial kernel with degree d\n",
    "def kernel(x, y, c, d):\n",
    "    return (c + x*y) ** d"
   ]
  },
  {
   "cell_type": "code",
   "execution_count": 6,
   "metadata": {
    "collapsed": true
   },
   "outputs": [],
   "source": [
    "capac_list = []\n",
    "free_flow_time_list = []\n",
    "capac_dict = {}\n",
    "free_flow_time_dict = {}\n",
    "\n",
    "with open('SiouxFalls_net.txt', 'r') as f:\n",
    "    read_data = f.readlines()\n",
    "\n",
    "for row in read_data:\n",
    "    if len(row.split()) == 11:\n",
    "        key = row.split()[0] + ',' + row.split()[1]\n",
    "        capac_list.append(float(row.split()[2]))\n",
    "        free_flow_time_list.append(float(row.split()[3]))\n",
    "        capac_dict[key] = float(row.split()[2])\n",
    "        free_flow_time_dict[key] = float(row.split()[3])"
   ]
  },
  {
   "cell_type": "code",
   "execution_count": 7,
   "metadata": {
    "collapsed": true
   },
   "outputs": [],
   "source": [
    "numNode = N.shape[0]\n",
    "numLink = N.shape[1]\n",
    "assert(numLink == len(capac_list))"
   ]
  },
  {
   "cell_type": "code",
   "execution_count": 8,
   "metadata": {
    "collapsed": false
   },
   "outputs": [],
   "source": [
    "flow_list = []\n",
    "flow_dict = {}\n",
    "\n",
    "with open('SiouxFallsFlow.txt', 'r') as f:\n",
    "    read_data = f.readlines()\n",
    "\n",
    "for row in read_data:\n",
    "    if len(row.split()) == 4:\n",
    "        key = row.split()[0] + ',' + row.split()[1]\n",
    "        flow_list.append(float(row.split()[2]))\n",
    "        flow_dict[key] = float(row.split()[2])\n",
    "#         print(row.split())"
   ]
  },
  {
   "cell_type": "code",
   "execution_count": 9,
   "metadata": {
    "collapsed": true
   },
   "outputs": [],
   "source": [
    "flow_normalized = [flow_list[i]/capac_list[i] for i in range(numLink)]"
   ]
  },
  {
   "cell_type": "code",
   "execution_count": 10,
   "metadata": {
    "collapsed": false
   },
   "outputs": [
    {
     "data": {
      "text/plain": [
       "76"
      ]
     },
     "execution_count": 10,
     "metadata": {},
     "output_type": "execute_result"
    }
   ],
   "source": [
    "len(flow_normalized)"
   ]
  },
  {
   "cell_type": "code",
   "execution_count": 11,
   "metadata": {
    "collapsed": true
   },
   "outputs": [],
   "source": [
    "# construct kernel matrix; take d=5 for instance\n",
    "c = 1.0\n",
    "d = 4\n",
    "\n",
    "phi = np.zeros((numLink, numLink))\n",
    "for i in range(numLink):\n",
    "    for j in range(numLink):\n",
    "        phi[i, j] = kernel(flow_normalized[i], flow_normalized[j], c, d)"
   ]
  },
  {
   "cell_type": "code",
   "execution_count": 12,
   "metadata": {
    "collapsed": false
   },
   "outputs": [
    {
     "data": {
      "text/plain": [
       "(76, 76)"
      ]
     },
     "execution_count": 12,
     "metadata": {},
     "output_type": "execute_result"
    }
   ],
   "source": [
    "phi.shape"
   ]
  },
  {
   "cell_type": "code",
   "execution_count": 13,
   "metadata": {
    "collapsed": false
   },
   "outputs": [
    {
     "data": {
      "text/plain": [
       "5"
      ]
     },
     "execution_count": 13,
     "metadata": {},
     "output_type": "execute_result"
    }
   ],
   "source": [
    "np.linalg.matrix_rank(phi)"
   ]
  },
  {
   "cell_type": "code",
   "execution_count": 14,
   "metadata": {
    "collapsed": true
   },
   "outputs": [],
   "source": [
    "# read in demand data\n",
    "with open('demands_Sioux.json', 'r') as json_file:\n",
    "    demands = json.load(json_file)"
   ]
  },
  {
   "cell_type": "code",
   "execution_count": 15,
   "metadata": {
    "collapsed": false
   },
   "outputs": [],
   "source": [
    "od_list = []\n",
    "for i in range(numNode + 1)[1:]:\n",
    "    for j in range(numNode + 1)[1:]:\n",
    "        if i != j:\n",
    "            key = '(' + str(i) + ',' + str(j) + ')'\n",
    "            od_list.append(key)"
   ]
  },
  {
   "cell_type": "code",
   "execution_count": 16,
   "metadata": {
    "collapsed": false
   },
   "outputs": [
    {
     "data": {
      "text/plain": [
       "(24, 76)"
      ]
     },
     "execution_count": 16,
     "metadata": {},
     "output_type": "execute_result"
    }
   ],
   "source": [
    "N.shape"
   ]
  },
  {
   "cell_type": "code",
   "execution_count": 17,
   "metadata": {
    "collapsed": false
   },
   "outputs": [],
   "source": [
    "N_t = np.transpose(N)"
   ]
  },
  {
   "cell_type": "code",
   "execution_count": 18,
   "metadata": {
    "collapsed": false
   },
   "outputs": [
    {
     "data": {
      "text/plain": [
       "(76, 24)"
      ]
     },
     "execution_count": 18,
     "metadata": {},
     "output_type": "execute_result"
    }
   ],
   "source": [
    "N_t.shape"
   ]
  },
  {
   "cell_type": "code",
   "execution_count": 19,
   "metadata": {
    "collapsed": true
   },
   "outputs": [],
   "source": [
    "model = Model(\"InverseVI_Sioux\")\n",
    "\n",
    "alpha = {}\n",
    "for i in range(numLink):\n",
    "    key = str(i)\n",
    "    alpha[key] = model.addVar(name='alpha_' + key)\n",
    "    \n",
    "epsilon = model.addVar(name='epsilon')\n",
    "\n",
    "yw = {}\n",
    "for od in od_list:\n",
    "    for i in range(numNode):\n",
    "        key = od + str(i)\n",
    "        yw[key] = model.addVar(name='yw_' + key)\n",
    "        \n",
    "model.update()"
   ]
  },
  {
   "cell_type": "code",
   "execution_count": 20,
   "metadata": {
    "collapsed": false
   },
   "outputs": [
    {
     "data": {
      "text/plain": [
       "(24, 76)"
      ]
     },
     "execution_count": 20,
     "metadata": {},
     "output_type": "execute_result"
    }
   ],
   "source": [
    "N.shape"
   ]
  },
  {
   "cell_type": "code",
   "execution_count": 21,
   "metadata": {
    "collapsed": false
   },
   "outputs": [],
   "source": [
    "# add dual feasibility constraints\n",
    "for od in od_list:\n",
    "    for a in range(numLink):\n",
    "        model.addConstr(sum([N[i, a] * yw[od+str(i)] for i in range(numNode)]) <= \n",
    "                        free_flow_time_list[a] * sum([alpha[str(j)] * phi[j, a] for j in range(numLink)]))\n",
    "        \n",
    "model.update()"
   ]
  },
  {
   "cell_type": "code",
   "execution_count": 22,
   "metadata": {
    "collapsed": false
   },
   "outputs": [],
   "source": [
    "# add increasing constraints\n",
    "myList = flow_normalized\n",
    "flow_sorted_idx = sorted(range(len(myList)),key=lambda x:myList[x])\n",
    "for i in range(numLink):\n",
    "    if (i < numLink-1):\n",
    "        a_i_1 = flow_sorted_idx[i]\n",
    "        a_i_2 = flow_sorted_idx[i+1]\n",
    "        model.addConstr(sum([alpha[str(j)] * phi[j, a_i_1] for j in range(numLink)]) <= \n",
    "                        sum([alpha[str(j)] * phi[j, a_i_2] for j in range(numLink)]))\n",
    "model.update()"
   ]
  },
  {
   "cell_type": "code",
   "execution_count": 23,
   "metadata": {
    "collapsed": true
   },
   "outputs": [],
   "source": [
    "model.addConstr(epsilon >= 0)\n",
    "\n",
    "model.update()"
   ]
  },
  {
   "cell_type": "code",
   "execution_count": 24,
   "metadata": {
    "collapsed": true
   },
   "outputs": [],
   "source": [
    "# str(int(od.split(',')[0].split('(')[1])-1), str(int(od.split(',')[1].split(')')[0])-1)"
   ]
  },
  {
   "cell_type": "code",
   "execution_count": 25,
   "metadata": {
    "collapsed": false
   },
   "outputs": [],
   "source": [
    "# add primal-dual gap constraint\n",
    "primal_cost = sum([free_flow_time_list[a] * sum([alpha[str(j)] * phi[j, a] for j in range(numLink)]) \n",
    "                   for a in range(numLink)])\n",
    "dual_cost = sum([demands[od] * (yw[od + str(int(od.split(',')[1].split(')')[0])-1)] - \n",
    "                                yw[od + str(int(od.split(',')[0].split('(')[1])-1)]) \n",
    "                 for od in od_list])\n",
    "\n",
    "model.addConstr(primal_cost - dual_cost <= epsilon)\n",
    "model.addConstr(dual_cost - primal_cost <= epsilon)\n",
    "        \n",
    "model.update()"
   ]
  },
  {
   "cell_type": "code",
   "execution_count": 26,
   "metadata": {
    "collapsed": true
   },
   "outputs": [],
   "source": [
    "# add normalization constraint\n",
    "model.addConstr(sum([alpha[str(j)] * phi[j, 0] for j in range(numLink)]) == 1)\n",
    "\n",
    "model.update()"
   ]
  },
  {
   "cell_type": "code",
   "execution_count": 27,
   "metadata": {
    "collapsed": false
   },
   "outputs": [],
   "source": [
    "# Set objective\n",
    "obj = 0\n",
    "\n",
    "gama = 1e4\n",
    "\n",
    "for i in range(numLink):\n",
    "    for j in range(numLink):\n",
    "        obj += alpha[str(i)] * phi[i, j] * alpha[str(j)]\n",
    "\n",
    "obj += gama * epsilon\n",
    "\n",
    "model.setObjective(obj)"
   ]
  },
  {
   "cell_type": "code",
   "execution_count": 28,
   "metadata": {
    "collapsed": false
   },
   "outputs": [
    {
     "name": "stdout",
     "output_type": "stream",
     "text": [
      "Optimize a model with 42031 rows, 13325 columns and 3280147 nonzeros\n",
      "Model has 2926 quadratic objective terms\n",
      "Coefficient statistics:\n",
      "  Matrix range    [7e-04, 2e+05]\n",
      "  Objective range [1e+04, 1e+04]\n",
      "  Bounds range    [0e+00, 0e+00]\n",
      "  RHS range       [1e+00, 1e+00]\n",
      "Warning: diagonal adjustment of 7.1e-10 performed to make Q PSD\n",
      "Presolve removed 76 rows and 0 columns\n",
      "Presolve time: 1.31s\n",
      "Presolved: 41955 rows, 13325 columns, 3274598 nonzeros\n",
      "Presolved model has 2926 quadratic objective terms\n",
      "Ordering time: 0.04s\n",
      "\n",
      "Barrier statistics:\n",
      " Dense cols : 76\n",
      " Free vars  : 6\n",
      " AA' NZ     : 3.420e+06\n",
      " Factor NZ  : 4.284e+06 (roughly 60 MBytes of memory)\n",
      " Factor Ops : 4.430e+08 (less than 1 second per iteration)\n",
      " Threads    : 12\n",
      "\n",
      "                  Objective                Residual\n",
      "Iter       Primal          Dual         Primal    Dual     Compl     Time\n",
      "   0   2.62144000e+12 -8.87730854e-01  5.27e+04 1.00e+00  6.18e+07     2s\n",
      "   1   1.81341176e+12 -1.74458094e+09  3.64e+04 3.52e+03  4.56e+07     3s\n",
      "   2   1.05135923e+12 -4.58242930e+09  2.10e+04 2.67e+03  2.68e+07     3s\n",
      "   3   7.89459007e+11 -5.79429839e+09  1.57e+04 2.09e+03  2.01e+07     3s\n",
      "   4   5.64963447e+11 -7.04280618e+09  1.12e+04 2.21e+03  1.44e+07     3s\n",
      "   5   4.55661263e+11 -7.70944557e+09  9.00e+03 2.41e+03  1.16e+07     3s\n",
      "   6   4.41207426e+11 -7.76622657e+09  8.71e+03 2.30e+03  1.13e+07     3s\n",
      "   7   4.32069193e+11 -7.80090229e+09  8.52e+03 2.21e+03  1.10e+07     4s\n",
      "   8   4.11784623e+11 -7.87648324e+09  8.12e+03 2.03e+03  1.05e+07     4s\n",
      "   9   3.81073985e+11 -7.98187885e+09  7.50e+03 1.85e+03  9.72e+06     4s\n",
      "  10   3.49062984e+11 -8.07839819e+09  6.85e+03 1.80e+03  8.89e+06     4s\n",
      "  11   3.43838019e+11 -8.08681604e+09  6.75e+03 1.76e+03  8.75e+06     4s\n",
      "  12   3.32774700e+11 -8.10098572e+09  6.52e+03 1.57e+03  8.47e+06     4s\n",
      "  13   3.23811549e+11 -8.11098435e+09  6.34e+03 1.44e+03  8.23e+06     4s\n",
      "  14   3.13622608e+11 -8.12072883e+09  6.14e+03 1.26e+03  7.97e+06     5s\n",
      "  15   2.95209775e+11 -8.12323578e+09  5.77e+03 7.73e+02  7.49e+06     5s\n",
      "  16   2.71774467e+11 -8.11064249e+09  5.30e+03 7.04e+02  6.89e+06     5s\n",
      "  17   2.56346596e+11 -8.06704581e+09  4.99e+03 1.27e+03  6.49e+06     5s\n",
      "  18   2.48305534e+11 -8.05130008e+09  4.83e+03 1.28e+03  6.28e+06     5s\n",
      "  19   2.27477824e+11 -7.99129695e+09  4.41e+03 1.20e+03  5.75e+06     5s\n",
      "  20   2.23920784e+11 -7.97102987e+09  4.34e+03 1.18e+03  5.65e+06     6s\n",
      "  21   2.16685618e+11 -7.93699439e+09  4.19e+03 1.14e+03  5.47e+06     6s\n",
      "  22   2.12736397e+11 -7.91861793e+09  4.12e+03 1.11e+03  5.37e+06     6s\n",
      "  23   2.10543925e+11 -7.90759146e+09  4.07e+03 1.09e+03  5.31e+06     6s\n",
      "  24   2.09089706e+11 -7.89979302e+09  4.04e+03 1.09e+03  5.27e+06     6s\n",
      "  25   2.07882845e+11 -7.89263384e+09  4.02e+03 1.08e+03  5.24e+06     6s\n",
      "  26   2.05869989e+11 -7.85980324e+09  3.98e+03 1.07e+03  5.19e+06     6s\n",
      "  27   2.00369839e+11 -7.83776564e+09  3.87e+03 9.39e+02  5.05e+06     7s\n",
      "  28   1.96855480e+11 -7.81123283e+09  3.80e+03 8.55e+02  4.96e+06     7s\n",
      "  29   1.94779153e+11 -7.79399598e+09  3.76e+03 7.08e+02  4.90e+06     7s\n",
      "  30   1.92862900e+11 -7.77555193e+09  3.72e+03 4.69e+02  4.85e+06     7s\n",
      "  31   1.90751956e+11 -7.75042897e+09  3.68e+03 4.63e+02  4.80e+06     7s\n",
      "  32   1.88466372e+11 -7.71366010e+09  3.63e+03 4.56e+02  4.74e+06     7s\n",
      "  33   1.85682637e+11 -7.65560139e+09  3.58e+03 4.46e+02  4.67e+06     7s\n",
      "  34   1.55556737e+11 -7.42643578e+09  2.98e+03 3.57e+02  3.90e+06     8s\n",
      "  35   1.23190251e+11 -7.08854561e+09  2.33e+03 2.87e+02  3.08e+06     8s\n",
      "  36   1.21088352e+11 -7.02985834e+09  2.29e+03 2.83e+02  3.02e+06     8s\n",
      "  37   1.19414450e+11 -6.97274820e+09  2.26e+03 2.80e+02  2.98e+06     8s\n",
      "  38   1.17616123e+11 -6.89816499e+09  2.22e+03 2.76e+02  2.94e+06     8s\n",
      "  39   1.15626284e+11 -6.79531935e+09  2.19e+03 2.72e+02  2.89e+06     8s\n",
      "  40   1.05426517e+11 -5.63364285e+09  2.01e+03 2.56e+02  2.65e+06     9s\n",
      "  41   8.34452567e+10 -3.68794191e+09  1.60e+03 2.33e+02  2.24e+06     9s\n",
      "  42   2.44158691e+10 -3.39391272e+08  4.83e+02 1.27e+02  7.53e+05     9s\n",
      "  43   1.23734010e+10 -1.02231371e+08  2.46e+02 6.69e+01  3.91e+05     9s\n",
      "  44   4.68591309e+09 -3.39326073e+07  9.37e+01 2.35e+01  1.64e+05     9s\n",
      "  45   7.06914525e+08 -2.09371111e+07  1.42e+01 3.22e+00  2.58e+04     9s\n",
      "  46   9.57943689e+06 -1.61546454e+07  1.92e-01 4.95e-02  6.25e+02     9s\n",
      "  47   3.81430753e+04 -1.15317846e+06  5.70e-04 1.37e-04  2.17e+01    10s\n",
      "  48   1.93679777e+04 -5.82923917e+05  1.76e-03 6.91e-05  1.10e+01    10s\n",
      "  49   2.19074209e+02 -1.35229496e+03  2.10e-03 4.77e-07  2.85e-02    10s\n",
      "  50   1.83712664e+02 -3.07026827e+02  2.54e+00 4.77e-07  8.92e-03    10s\n",
      "  51   1.83709658e+02 -3.06978634e+02  2.71e+00 4.77e-07  8.92e-03    10s\n",
      "  52   1.83705482e+02 -3.06912101e+02  2.78e+00 4.77e-07  8.92e-03    11s\n",
      "  53   1.83696044e+02 -3.06761840e+02  3.06e+00 4.77e-07  8.92e-03    11s\n",
      "  54   1.83674555e+02 -3.06420309e+02  3.93e+00 4.77e-07  8.91e-03    11s\n",
      "  55   1.83624544e+02 -3.05628275e+02  4.43e+00 4.77e-07  8.90e-03    11s\n",
      "  56   1.83500080e+02 -3.03673236e+02  4.36e+00 4.77e-07  8.86e-03    11s\n",
      "  57   1.82885857e+02 -2.94174020e+02  4.76e+00 4.77e-07  8.68e-03    12s\n",
      "  58   1.35634373e+02 -1.92746484e+02  2.72e+00 2.27e-06  6.15e-03    12s\n",
      "  59   6.91408329e+01 -8.06950145e+01  1.06e+01 1.05e-05  2.91e-03    13s\n",
      "  60   5.17441995e+01 -6.21745518e+01  7.87e+00 6.99e-06  2.23e-03    13s\n",
      "  61   1.88667673e+01 -2.05668497e+01  9.02e-01 9.60e-07  8.11e-04    13s\n",
      "  62   1.65216672e+01 -1.79347267e+01  7.84e-01 9.54e-07  7.09e-04    13s\n",
      "  63   5.54257144e+00 -5.36995554e+00  2.47e-02 5.52e-09  2.38e-04    14s\n",
      "  64   4.08296432e+00 -4.10169066e+00  1.08e-02 4.52e-08  1.82e-04    14s\n",
      "  65   1.37131818e+00  3.51563152e-02  1.67e-04 1.87e-08  2.72e-05    14s\n",
      "  66   1.19450786e+00  2.95513262e-01  1.26e-04 1.43e-08  1.85e-05    14s\n",
      "  67   9.20695563e-01  7.83957398e-01  2.16e-04 4.39e-08  2.74e-06    14s\n",
      "  68   8.89886377e-01  8.73146267e-01  2.53e-06 9.54e-07  3.37e-07    15s\n",
      "  69   8.88118185e-01  8.87331321e-01  1.47e-07 6.23e-08  1.48e-08    15s\n",
      "  70   8.88091530e-01  8.88083999e-01  2.83e-08 7.40e-09  1.37e-10    15s\n",
      "  71   8.88089680e-01  8.88088995e-01  3.08e-08 3.32e-09  1.27e-11    15s\n",
      "  72   8.88089418e-01  8.88089296e-01  4.02e-09 4.77e-07  2.43e-12    15s\n",
      "  73   8.88089386e-01  8.88089353e-01  2.22e-08 4.77e-07  6.58e-13    15s\n",
      "  74   8.88089382e-01  8.88089360e-01  1.34e-08 4.77e-07  4.48e-13    16s\n",
      "  75   8.88089380e-01  8.88089364e-01  8.24e-09 4.77e-07  3.16e-13    16s\n",
      "\n",
      "Barrier solved model in 75 iterations and 15.76 seconds\n",
      "Optimal objective 8.88089380e-01\n",
      "\n"
     ]
    }
   ],
   "source": [
    "model.optimize()"
   ]
  },
  {
   "cell_type": "code",
   "execution_count": 29,
   "metadata": {
    "collapsed": false
   },
   "outputs": [
    {
     "data": {
      "text/plain": [
       "{'0': <gurobi.Var alpha_0 (value 0.887531610538)>,\n",
       " '1': <gurobi.Var alpha_1 (value 1.92160379967e-05)>,\n",
       " '10': <gurobi.Var alpha_10 (value 2.80808029504e-08)>,\n",
       " '11': <gurobi.Var alpha_11 (value 4.2279596946e-09)>,\n",
       " '12': <gurobi.Var alpha_12 (value 8.58760485512e-09)>,\n",
       " '13': <gurobi.Var alpha_13 (value 9.0098482726e-08)>,\n",
       " '14': <gurobi.Var alpha_14 (value 4.21942621901e-09)>,\n",
       " '15': <gurobi.Var alpha_15 (value 4.10537767517e-10)>,\n",
       " '16': <gurobi.Var alpha_16 (value 1.8512196381e-08)>,\n",
       " '17': <gurobi.Var alpha_17 (value 7.58262385812e-06)>,\n",
       " '18': <gurobi.Var alpha_18 (value 1.19377752819e-09)>,\n",
       " '19': <gurobi.Var alpha_19 (value 2.33173696793e-08)>,\n",
       " '2': <gurobi.Var alpha_2 (value 0.00048113245235)>,\n",
       " '20': <gurobi.Var alpha_20 (value 4.53253698177e-07)>,\n",
       " '21': <gurobi.Var alpha_21 (value 5.42532515419e-09)>,\n",
       " '22': <gurobi.Var alpha_22 (value 8.39135387952e-09)>,\n",
       " '23': <gurobi.Var alpha_23 (value 6.42166900269e-07)>,\n",
       " '24': <gurobi.Var alpha_24 (value 1.13690760212e-08)>,\n",
       " '25': <gurobi.Var alpha_25 (value 1.02653932426e-08)>,\n",
       " '26': <gurobi.Var alpha_26 (value 4.25881814896e-09)>,\n",
       " '27': <gurobi.Var alpha_27 (value 4.8391969252e-09)>,\n",
       " '28': <gurobi.Var alpha_28 (value 3.46374887831e-09)>,\n",
       " '29': <gurobi.Var alpha_29 (value 6.02590793459e-09)>,\n",
       " '3': <gurobi.Var alpha_3 (value 8.12665699934e-08)>,\n",
       " '30': <gurobi.Var alpha_30 (value 2.28051065924e-08)>,\n",
       " '31': <gurobi.Var alpha_31 (value 4.34220332834e-09)>,\n",
       " '32': <gurobi.Var alpha_32 (value 4.9263793169e-09)>,\n",
       " '33': <gurobi.Var alpha_33 (value 1.39136269216e-08)>,\n",
       " '34': <gurobi.Var alpha_34 (value 2.99368829309e-06)>,\n",
       " '35': <gurobi.Var alpha_35 (value 4.83088795515e-09)>,\n",
       " '36': <gurobi.Var alpha_36 (value 4.0353681453e-07)>,\n",
       " '37': <gurobi.Var alpha_37 (value 8.78971391065e-08)>,\n",
       " '38': <gurobi.Var alpha_38 (value 2.10771635348e-08)>,\n",
       " '39': <gurobi.Var alpha_39 (value 9.57944142899e-09)>,\n",
       " '4': <gurobi.Var alpha_4 (value 1.94707318305e-05)>,\n",
       " '40': <gurobi.Var alpha_40 (value 4.32797849213e-09)>,\n",
       " '41': <gurobi.Var alpha_41 (value 4.90721094576e-09)>,\n",
       " '42': <gurobi.Var alpha_42 (value 4.78179096728e-09)>,\n",
       " '43': <gurobi.Var alpha_43 (value 4.27020484328e-09)>,\n",
       " '44': <gurobi.Var alpha_44 (value 1.20929396136e-07)>,\n",
       " '45': <gurobi.Var alpha_45 (value 6.02369197581e-09)>,\n",
       " '46': <gurobi.Var alpha_46 (value 5.38212650086e-09)>,\n",
       " '47': <gurobi.Var alpha_47 (value 3.04714001851e-09)>,\n",
       " '48': <gurobi.Var alpha_48 (value 1.95087286379e-08)>,\n",
       " '49': <gurobi.Var alpha_49 (value 1.49744324509e-07)>,\n",
       " '5': <gurobi.Var alpha_5 (value 1.03977675677e-07)>,\n",
       " '50': <gurobi.Var alpha_50 (value 6.02590837626e-09)>,\n",
       " '51': <gurobi.Var alpha_51 (value 1.9051888896e-08)>,\n",
       " '52': <gurobi.Var alpha_52 (value 9.13628184274e-09)>,\n",
       " '53': <gurobi.Var alpha_53 (value 5.46084012343e-06)>,\n",
       " '54': <gurobi.Var alpha_54 (value 1.47346153734e-07)>,\n",
       " '55': <gurobi.Var alpha_55 (value 1.13003784006e-07)>,\n",
       " '56': <gurobi.Var alpha_56 (value 1.46646168172e-07)>,\n",
       " '57': <gurobi.Var alpha_57 (value 1.18932333039e-08)>,\n",
       " '58': <gurobi.Var alpha_58 (value 4.55712684814e-09)>,\n",
       " '59': <gurobi.Var alpha_59 (value 1.1221608512e-07)>,\n",
       " '6': <gurobi.Var alpha_6 (value 2.97989840448e-06)>,\n",
       " '60': <gurobi.Var alpha_60 (value 4.51202425154e-09)>,\n",
       " '61': <gurobi.Var alpha_61 (value 1.78358459188e-07)>,\n",
       " '62': <gurobi.Var alpha_62 (value 9.82992716643e-09)>,\n",
       " '63': <gurobi.Var alpha_63 (value 1.49388459629e-07)>,\n",
       " '64': <gurobi.Var alpha_64 (value 5.60387284149e-09)>,\n",
       " '65': <gurobi.Var alpha_65 (value 1.25715049289e-08)>,\n",
       " '66': <gurobi.Var alpha_66 (value 5.74755984473e-09)>,\n",
       " '67': <gurobi.Var alpha_67 (value 9.82931764161e-09)>,\n",
       " '68': <gurobi.Var alpha_68 (value 5.63427672048e-09)>,\n",
       " '69': <gurobi.Var alpha_69 (value 7.87546501992e-09)>,\n",
       " '7': <gurobi.Var alpha_7 (value 1.02347023919e-07)>,\n",
       " '70': <gurobi.Var alpha_70 (value 4.92056607086e-09)>,\n",
       " '71': <gurobi.Var alpha_71 (value 6.04660752243e-09)>,\n",
       " '72': <gurobi.Var alpha_72 (value 1.31422666417e-08)>,\n",
       " '73': <gurobi.Var alpha_73 (value 3.36663935828e-07)>,\n",
       " '74': <gurobi.Var alpha_74 (value 3.24351510499e-08)>,\n",
       " '75': <gurobi.Var alpha_75 (value 1.61678966565e-08)>,\n",
       " '8': <gurobi.Var alpha_8 (value 2.82461635887e-08)>,\n",
       " '9': <gurobi.Var alpha_9 (value 2.38157332315e-08)>}"
      ]
     },
     "execution_count": 29,
     "metadata": {},
     "output_type": "execute_result"
    }
   ],
   "source": [
    "alpha"
   ]
  },
  {
   "cell_type": "code",
   "execution_count": null,
   "metadata": {
    "collapsed": true
   },
   "outputs": [],
   "source": []
  }
 ],
 "metadata": {
  "kernelspec": {
   "display_name": "Python 2",
   "language": "python",
   "name": "python2"
  },
  "language_info": {
   "codemirror_mode": {
    "name": "ipython",
    "version": 2
   },
   "file_extension": ".py",
   "mimetype": "text/x-python",
   "name": "python",
   "nbconvert_exporter": "python",
   "pygments_lexer": "ipython2",
   "version": "2.7.11"
  }
 },
 "nbformat": 4,
 "nbformat_minor": 0
}
