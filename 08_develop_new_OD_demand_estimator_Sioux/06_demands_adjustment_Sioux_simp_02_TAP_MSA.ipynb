{
 "cells": [
  {
   "cell_type": "code",
   "execution_count": 1,
   "metadata": {
    "collapsed": false
   },
   "outputs": [],
   "source": [
    "include(\"prepare_data_Sioux_simp.jl\");"
   ]
  },
  {
   "cell_type": "code",
   "execution_count": 2,
   "metadata": {
    "collapsed": false
   },
   "outputs": [],
   "source": [
    "demandsDict = Dict{Int64, Dict{(Int64,Int64), Float64}}();\n",
    "# get ground trueth demands, indexed by 0\n",
    "demandsDict[0] = iniDemand(\"../data_original/SiouxFalls_trips_simp.txt\");\n",
    "# get initial demands, indexed by 1\n",
    "demandsDict[1] = iniDemand(\"../data_original/SiouxFalls_trips_simp.txt\", 1);\n",
    "\n",
    "numNodes, numLinks, numODpairs, capacity, free_flow_time, ta_data = paraNetwork(\"Sioux_simp\");\n",
    "numRoutes, odPairRoute, linkRoute, link_label_dict = furInfo();\n",
    "\n",
    "start_node = ta_data.start_node;\n",
    "end_node = ta_data.end_node;"
   ]
  },
  {
   "cell_type": "code",
   "execution_count": 3,
   "metadata": {
    "collapsed": false
   },
   "outputs": [],
   "source": [
    "include(\"tap_MSA_Sioux_simp.jl\");"
   ]
  },
  {
   "cell_type": "code",
   "execution_count": 4,
   "metadata": {
    "collapsed": false
   },
   "outputs": [],
   "source": [
    "fcoeffs = [1, 0, 0, 0, .15];"
   ]
  },
  {
   "cell_type": "code",
   "execution_count": 5,
   "metadata": {
    "collapsed": false
   },
   "outputs": [],
   "source": [
    "tapFlowVecDict = Dict{Int64, Array{Float64, 1}}();\n",
    "tapFlowDicDict = Dict{Int64, Dict{(Int64,Int64),Float64}}();"
   ]
  },
  {
   "cell_type": "markdown",
   "metadata": {},
   "source": [
    "# generate ground trueth flow vector, indexed by 0 (i.e., the observed flow vector $\\tilde {\\textbf{x}}$"
   ]
  },
  {
   "cell_type": "code",
   "execution_count": 6,
   "metadata": {
    "collapsed": false
   },
   "outputs": [
    {
     "data": {
      "text/plain": [
       "([(11,12)=>4239.4400000000005,(4,3)=>7059.979999999992,(2,6)=>3500.5800000000036,(11,4)=>4202.520000000005,(5,6)=>8041.820000000009,(4,11)=>4155.440000000001,(8,6)=>7550.4,(5,4)=>10650.25999999997,(10,11)=>8249.480000000009,(2,1)=>2300.2599999999993,(8,9)=>5149.6,(12,3)=>3039.680000000007,(11,10)=>8157.800000000014,(3,1)=>3900.2599999999993,(5,9)=>7900.120000000007,(6,2)=>3500.5800000000036,(6,8)=>7542.079999999992,(4,5)=>10641.939999999982,(1,3)=>3900.2599999999993,(8,7)=>6500.0,(7,8)=>6500.0,(12,11)=>4194.84,(9,10)=>13749.480000000009,(3,12)=>2995.080000000005,(6,5)=>8050.1399999999885,(1,2)=>2300.2599999999993,(9,8)=>5157.920000000008,(10,9)=>13757.799999999985,(3,4)=>7104.580000000007,(9,5)=>7900.120000000007],[2300.26,3900.26,2300.26,3500.58,3900.26,7104.58,2995.08,7059.98,10641.9,4155.44  …  7900.12,5157.92,13749.5,13757.8,8249.48,4202.52,8157.8,4239.44,3039.68,4194.84])"
      ]
     },
     "execution_count": 6,
     "metadata": {},
     "output_type": "execute_result"
    }
   ],
   "source": [
    "tapFlowDicDict[0], tapFlowVecDict[0] = tapMSA(demandsDict[0], fcoeffs, 5000, 1e-6)"
   ]
  },
  {
   "cell_type": "markdown",
   "metadata": {},
   "source": [
    "# generate initial flow vector, indexed by 1 (i.e., the flow vector $\\textbf{x}^0$)"
   ]
  },
  {
   "cell_type": "code",
   "execution_count": 7,
   "metadata": {
    "collapsed": false
   },
   "outputs": [
    {
     "data": {
      "text/plain": [
       "([(11,12)=>4338.30152705115,(4,3)=>7144.113856185715,(2,6)=>3574.5355085167803,(11,4)=>4301.941632702298,(5,6)=>8029.357320439546,(4,11)=>4108.327672430691,(8,6)=>7576.2608342429,(5,4)=>10909.939275861398,(10,11)=>8444.762338724158,(2,1)=>2247.9011892455073,(8,9)=>5297.43205844192,(12,3)=>2991.6192223121852,(11,10)=>7850.58287772113,(3,1)=>3996.4114954380047,(5,9)=>8068.77677585696,(6,2)=>3472.91176592473,(6,8)=>7493.890834377024,(4,5)=>10689.9516614935,(1,3)=>3884.832975066063,(8,7)=>6530.5674121276925,(7,8)=>6564.8952602051395,(12,11)=>4149.209768469415,(9,10)=>13859.27601107196,(3,12)=>2921.2782562407683,(6,5)=>8160.841537916506,(1,2)=>2400.414294948403,(9,8)=>5189.793981294237,(10,9)=>13647.529219779868,(3,4)=>7109.303877749196,(9,5)=>8034.125821729041],[2400.41,3884.83,2247.9,3574.54,3996.41,7109.3,2921.28,7144.11,10690.0,4108.33  …  8034.13,5189.79,13859.3,13647.5,8444.76,4301.94,7850.58,4338.3,2991.62,4149.21])"
      ]
     },
     "execution_count": 7,
     "metadata": {},
     "output_type": "execute_result"
    }
   ],
   "source": [
    "tapFlowDicDict[1], tapFlowVecDict[1] = tapMSA(demandsDict[1], fcoeffs, 5000, 1e-6)"
   ]
  },
  {
   "cell_type": "code",
   "execution_count": 8,
   "metadata": {
    "collapsed": true
   },
   "outputs": [],
   "source": [
    "outfile = open(\"tapFlows.json\", \"w\")\n",
    "\n",
    "JSON.print(outfile, tapFlowDicDict)\n",
    "\n",
    "close(outfile)"
   ]
  },
  {
   "cell_type": "code",
   "execution_count": 9,
   "metadata": {
    "collapsed": false
   },
   "outputs": [
    {
     "data": {
      "text/plain": [
       "Dict{UTF8String,Any} with 2 entries:\n",
       "  \"1\" => [\"(9,10)\"=>13859.27601107196,\"(8,7)\"=>6530.5674121276925,\"(6,8)\"=>7493…\n",
       "  \"0\" => [\"(9,10)\"=>13749.480000000009,\"(8,7)\"=>6500.0,\"(6,8)\"=>7542.0799999999…"
      ]
     },
     "execution_count": 9,
     "metadata": {},
     "output_type": "execute_result"
    }
   ],
   "source": [
    "tapFlowDicDict_ = readall(\"tapFlows.json\")\n",
    "tapFlowDicDict_ = JSON.parse(tapFlowDicDict_)"
   ]
  },
  {
   "cell_type": "code",
   "execution_count": 10,
   "metadata": {
    "collapsed": false
   },
   "outputs": [
    {
     "data": {
      "text/plain": [
       "Dict{UTF8String,Any} with 30 entries:\n",
       "  \"(9,10)\"  => 13749.480000000009\n",
       "  \"(8,7)\"   => 6500.0\n",
       "  \"(6,8)\"   => 7542.079999999992\n",
       "  \"(3,1)\"   => 3900.2599999999993\n",
       "  \"(5,4)\"   => 10650.25999999997\n",
       "  \"(12,3)\"  => 3039.680000000007\n",
       "  \"(7,8)\"   => 6500.0\n",
       "  \"(11,4)\"  => 4202.520000000005\n",
       "  \"(11,10)\" => 8157.800000000014\n",
       "  \"(9,8)\"   => 5157.920000000008\n",
       "  \"(2,1)\"   => 2300.2599999999993\n",
       "  \"(8,9)\"   => 5149.6\n",
       "  \"(6,2)\"   => 3500.5800000000036\n",
       "  \"(3,12)\"  => 2995.080000000005\n",
       "  \"(2,6)\"   => 3500.5800000000036\n",
       "  \"(4,3)\"   => 7059.979999999992\n",
       "  \"(5,9)\"   => 7900.120000000007\n",
       "  \"(8,6)\"   => 7550.4\n",
       "  \"(5,6)\"   => 8041.820000000009\n",
       "  \"(4,11)\"  => 4155.440000000001\n",
       "  \"(12,11)\" => 4194.84\n",
       "  \"(6,5)\"   => 8050.1399999999885\n",
       "  \"(3,4)\"   => 7104.580000000007\n",
       "  \"(9,5)\"   => 7900.120000000007\n",
       "  \"(4,5)\"   => 10641.939999999982\n",
       "  ⋮         => ⋮"
      ]
     },
     "execution_count": 10,
     "metadata": {},
     "output_type": "execute_result"
    }
   ],
   "source": [
    "tapFlowDicDict_[\"0\"]"
   ]
  },
  {
   "cell_type": "code",
   "execution_count": 11,
   "metadata": {
    "collapsed": false
   },
   "outputs": [
    {
     "data": {
      "text/plain": [
       "Dict{UTF8String,Any} with 30 entries:\n",
       "  \"(9,10)\"  => 13859.27601107196\n",
       "  \"(8,7)\"   => 6530.5674121276925\n",
       "  \"(6,8)\"   => 7493.890834377024\n",
       "  \"(3,1)\"   => 3996.4114954380047\n",
       "  \"(5,4)\"   => 10909.939275861398\n",
       "  \"(12,3)\"  => 2991.6192223121852\n",
       "  \"(7,8)\"   => 6564.8952602051395\n",
       "  \"(11,4)\"  => 4301.941632702298\n",
       "  \"(11,10)\" => 7850.58287772113\n",
       "  \"(9,8)\"   => 5189.793981294237\n",
       "  \"(2,1)\"   => 2247.9011892455073\n",
       "  \"(8,9)\"   => 5297.43205844192\n",
       "  \"(6,2)\"   => 3472.91176592473\n",
       "  \"(3,12)\"  => 2921.2782562407683\n",
       "  \"(2,6)\"   => 3574.5355085167803\n",
       "  \"(4,3)\"   => 7144.113856185715\n",
       "  \"(5,9)\"   => 8068.77677585696\n",
       "  \"(8,6)\"   => 7576.2608342429\n",
       "  \"(5,6)\"   => 8029.357320439546\n",
       "  \"(4,11)\"  => 4108.327672430691\n",
       "  \"(12,11)\" => 4149.209768469415\n",
       "  \"(6,5)\"   => 8160.841537916506\n",
       "  \"(3,4)\"   => 7109.303877749196\n",
       "  \"(9,5)\"   => 8034.125821729041\n",
       "  \"(4,5)\"   => 10689.9516614935\n",
       "  ⋮         => ⋮"
      ]
     },
     "execution_count": 11,
     "metadata": {},
     "output_type": "execute_result"
    }
   ],
   "source": [
    "tapFlowDicDict_[\"1\"]"
   ]
  }
 ],
 "metadata": {
  "kernelspec": {
   "display_name": "Julia 0.3.7",
   "language": "julia",
   "name": "julia-0.3"
  },
  "language_info": {
   "file_extension": ".jl",
   "mimetype": "application/julia",
   "name": "julia",
   "version": "0.3.7"
  }
 },
 "nbformat": 4,
 "nbformat_minor": 0
}
