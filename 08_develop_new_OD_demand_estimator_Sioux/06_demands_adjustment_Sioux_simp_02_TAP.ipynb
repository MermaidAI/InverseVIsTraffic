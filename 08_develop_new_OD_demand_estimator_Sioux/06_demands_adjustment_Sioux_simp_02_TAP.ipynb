{
 "cells": [
  {
   "cell_type": "markdown",
   "metadata": {},
   "source": [
    "### Prepare data"
   ]
  },
  {
   "cell_type": "code",
   "execution_count": 1,
   "metadata": {
    "collapsed": true
   },
   "outputs": [],
   "source": [
    "############\n",
    "#Read in the demand file\n",
    "file = open(\"../data_traffic_assignment_uni-class/SiouxFalls_trips_simp.txt\")\n",
    "demands = Dict{(Int64,Int64), Float64}()\n",
    "s = 0\n",
    "for line in eachline(file)\n",
    "    if contains(line, \"Origin\")\n",
    "        s = int(split(line)[2])\n",
    "    else\n",
    "        pairs = split(line, \";\")\n",
    "        for pair in pairs\n",
    "            if !contains(pair, \"\\n\")\n",
    "                pair_vals = split(pair, \":\")\n",
    "                t, demand = int(pair_vals[1]), float(pair_vals[2])\n",
    "                #perturb the demands slightly\n",
    "                demands[(s,t)] = demand * 0.9\n",
    "            end\n",
    "        end\n",
    "    end\n",
    "end                \n",
    "close(file)"
   ]
  },
  {
   "cell_type": "code",
   "execution_count": 2,
   "metadata": {
    "collapsed": false
   },
   "outputs": [
    {
     "data": {
      "text/plain": [
       "Dict{(Int64,Int64),Float64} with 144 entries:\n",
       "  (8,10)  => 1440.0\n",
       "  (9,5)   => 720.0\n",
       "  (3,6)   => 270.0\n",
       "  (10,5)  => 900.0\n",
       "  (6,9)   => 360.0\n",
       "  (12,4)  => 540.0\n",
       "  (4,4)   => 0.0\n",
       "  (9,4)   => 630.0\n",
       "  (10,11) => 3600.0\n",
       "  (8,9)   => 720.0\n",
       "  (9,1)   => 450.0\n",
       "  (11,1)  => 450.0\n",
       "  (8,11)  => 720.0\n",
       "  (3,1)   => 90.0\n",
       "  (1,10)  => 1170.0\n",
       "  (1,12)  => 180.0\n",
       "  (12,7)  => 630.0\n",
       "  (4,5)   => 450.0\n",
       "  (9,9)   => 0.0\n",
       "  (11,8)  => 720.0\n",
       "  (12,8)  => 540.0\n",
       "  (2,4)   => 180.0\n",
       "  (6,5)   => 180.0\n",
       "  (4,9)   => 630.0\n",
       "  (8,4)   => 630.0\n",
       "  ⋮       => ⋮"
      ]
     },
     "execution_count": 2,
     "metadata": {},
     "output_type": "execute_result"
    }
   ],
   "source": [
    "demands"
   ]
  },
  {
   "cell_type": "code",
   "execution_count": 3,
   "metadata": {
    "collapsed": false
   },
   "outputs": [
    {
     "data": {
      "text/plain": [
       "TAP (generic function with 1 method)"
      ]
     },
     "execution_count": 3,
     "metadata": {},
     "output_type": "execute_result"
    }
   ],
   "source": [
    "include(\"tap_Sioux_simp.jl\")"
   ]
  },
  {
   "cell_type": "code",
   "execution_count": 4,
   "metadata": {
    "collapsed": false
   },
   "outputs": [
    {
     "data": {
      "text/plain": [
       "([2070.0,3510.0,2070.0,3150.0,3510.0,6240.91,2849.09,6284.98,9810.0,3900.91  …  7110.0,4410.0,12150.0,12150.0,7110.0,3854.98,7200.0,3885.02,2805.02,3929.09],12,30,132)"
      ]
     },
     "execution_count": 4,
     "metadata": {},
     "output_type": "execute_result"
    }
   ],
   "source": [
    "tapFlowVec, numNodes, numLinks, numODpairs = TAP(demands)"
   ]
  },
  {
   "cell_type": "code",
   "execution_count": 5,
   "metadata": {
    "collapsed": false
   },
   "outputs": [],
   "source": [
    "tapFlows = Dict{(Int64,Int64),Float64}()\n",
    "\n",
    "for i = 1:length(ta_data.start_node)\n",
    "    key = (ta_data.start_node[i], ta_data.end_node[i])\n",
    "    tapFlows[key] = tapFlowVec[i]\n",
    "end"
   ]
  },
  {
   "cell_type": "code",
   "execution_count": 6,
   "metadata": {
    "collapsed": false
   },
   "outputs": [
    {
     "data": {
      "text/plain": [
       "Dict{(Int64,Int64),Float64} with 30 entries:\n",
       "  (11,12) => 3885.0244956308134\n",
       "  (4,3)   => 6284.975501544218\n",
       "  (2,6)   => 3149.999998697045\n",
       "  (11,4)  => 3854.9755015772\n",
       "  (5,6)   => 7469.999998586949\n",
       "  (4,11)  => 3900.905726908588\n",
       "  (8,6)   => 7019.9999986354405\n",
       "  (5,4)   => 9809.999998701325\n",
       "  (10,11) => 7109.9999986643\n",
       "  (2,1)   => 2069.999998584984\n",
       "  (8,9)   => 4409.999998632529\n",
       "  (12,3)  => 2805.0244956943825\n",
       "  (11,10) => 7199.999998660668\n",
       "  (3,1)   => 3509.999998610329\n",
       "  (5,9)   => 7109.999998612249\n",
       "  (6,2)   => 3149.9999986970824\n",
       "  (6,8)   => 7019.99999863672\n",
       "  (4,5)   => 9809.999998704987\n",
       "  (1,3)   => 3509.999998610365\n",
       "  (8,7)   => 5849.999998666154\n",
       "  (7,8)   => 5849.999998666157\n",
       "  (12,11) => 3929.094270295784\n",
       "  (9,10)  => 12149.99999864232\n",
       "  (3,12)  => 2849.0942703593632\n",
       "  (6,5)   => 7469.999998585632\n",
       "  ⋮       => ⋮"
      ]
     },
     "execution_count": 6,
     "metadata": {},
     "output_type": "execute_result"
    }
   ],
   "source": [
    "tapFlows"
   ]
  },
  {
   "cell_type": "code",
   "execution_count": 7,
   "metadata": {
    "collapsed": true
   },
   "outputs": [],
   "source": [
    "outfile = open(\"tapFlows.json\", \"w\")\n",
    "\n",
    "JSON.print(outfile, tapFlows)\n",
    "\n",
    "close(outfile)"
   ]
  },
  {
   "cell_type": "code",
   "execution_count": 8,
   "metadata": {
    "collapsed": true
   },
   "outputs": [],
   "source": [
    "tapFlows = readall(\"tapFlows.json\");\n",
    "tapFlows = JSON.parse(tapFlows);"
   ]
  },
  {
   "cell_type": "code",
   "execution_count": null,
   "metadata": {
    "collapsed": true
   },
   "outputs": [],
   "source": []
  }
 ],
 "metadata": {
  "kernelspec": {
   "display_name": "Julia 0.3.7",
   "language": "julia",
   "name": "julia-0.3"
  },
  "language_info": {
   "file_extension": ".jl",
   "mimetype": "application/julia",
   "name": "julia",
   "version": "0.3.7"
  }
 },
 "nbformat": 4,
 "nbformat_minor": 0
}
