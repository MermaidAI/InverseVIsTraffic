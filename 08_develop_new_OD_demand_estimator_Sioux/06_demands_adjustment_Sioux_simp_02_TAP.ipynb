{
 "cells": [
  {
   "cell_type": "markdown",
   "metadata": {},
   "source": [
    "### Prepare data"
   ]
  },
  {
   "cell_type": "code",
   "execution_count": 1,
   "metadata": {
    "collapsed": true
   },
   "outputs": [],
   "source": [
    "############\n",
    "#Read in the demand file\n",
    "file = open(\"../data_traffic_assignment_uni-class/SiouxFalls_trips_simp.txt\")\n",
    "demands = Dict{(Int64,Int64), Float64}()\n",
    "s = 0\n",
    "for line in eachline(file)\n",
    "    if contains(line, \"Origin\")\n",
    "        s = int(split(line)[2])\n",
    "    else\n",
    "        pairs = split(line, \";\")\n",
    "        for pair in pairs\n",
    "            if !contains(pair, \"\\n\")\n",
    "                pair_vals = split(pair, \":\")\n",
    "                t, demand = int(pair_vals[1]), float(pair_vals[2])\n",
    "                demands[(s,t)] = demand \n",
    "            end\n",
    "        end\n",
    "    end\n",
    "end                \n",
    "close(file)\n",
    "\n",
    "include(\"load_network_uni-class.jl\")\n",
    "\n",
    "ta_data = load_ta_network(\"Sioux_simp\");"
   ]
  },
  {
   "cell_type": "code",
   "execution_count": 2,
   "metadata": {
    "collapsed": false
   },
   "outputs": [
    {
     "data": {
      "text/plain": [
       "TAP (generic function with 1 method)"
      ]
     },
     "execution_count": 2,
     "metadata": {},
     "output_type": "execute_result"
    }
   ],
   "source": [
    "using JuMP\n",
    "\n",
    "function TAP(demands)\n",
    "    #load OD pair-route incidence\n",
    "    odPairRoute = readall(\"od_pair_route_incidence_Sioux_simp.json\");\n",
    "    odPairRoute = JSON.parse(odPairRoute);\n",
    "\n",
    "    #load link-route incidence\n",
    "    linkRoute = readall(\"link_route_incidence_Sioux_simp.json\");\n",
    "    linkRoute = JSON.parse(linkRoute);\n",
    "\n",
    "    #load OD pair labels\n",
    "    odPairLabel = readall(\"od_pair_label_dict_Sioux_simp_refined.json\");\n",
    "    odPairLabel = JSON.parse(odPairLabel);\n",
    "\n",
    "    odPairLabel_ = readall(\"od_pair_label_dict__Sioux_simp_refined.json\");\n",
    "    odPairLabel_ = JSON.parse(odPairLabel_);\n",
    "\n",
    "    #load link labels\n",
    "    linkLabel = readall(\"link_label_dict_Sioux_simp.json\");\n",
    "    linkLabel = JSON.parse(linkLabel);\n",
    "\n",
    "    linkLabel_ = readall(\"link_label_dict_Sioux_simp_.json\");\n",
    "    linkLabel_ = JSON.parse(linkLabel_);\n",
    "\n",
    "    #load node-link incidence\n",
    "    nodeLink = readall(\"node_link_incidence_Sioux_simp.json\");\n",
    "    nodeLink = JSON.parse(nodeLink);\n",
    "\n",
    "    include(\"load_network_uni-class.jl\")\n",
    "\n",
    "    ta_data = load_ta_network(\"Sioux_simp\");\n",
    "\n",
    "    start_node = ta_data.start_node\n",
    "    capacity = ta_data.capacity;\n",
    "    free_flow_time = ta_data.free_flow_time;\n",
    "\n",
    "    numNodes = maximum(map(pair->pair[1], keys(demands)));\n",
    "\n",
    "    demandsVec = zeros(length(odPairLabel_))\n",
    "\n",
    "    for i = 1:length(demandsVec)\n",
    "        demandsVec[i] = demands[(odPairLabel_[\"$i\"][1], odPairLabel_[\"$i\"][2])]\n",
    "    end\n",
    "\n",
    "    # m = Model(solver=GurobiSolver(OutputFlag=false))\n",
    "    m = Model()\n",
    "\n",
    "    numLinks = size(start_node)[1]\n",
    "    numODpairs = numNodes * (numNodes - 1)\n",
    "\n",
    "    @defVar(m, linkFlow[1:numLinks])\n",
    "\n",
    "    @defVar(m, odLinkFlow[keys(demands), 1:numLinks])\n",
    "    for (s,t) = keys(demands)\n",
    "        for k = 1:numLinks\n",
    "            @addConstraint(m, odLinkFlow[(s,t), k] >= 0)\n",
    "        end\n",
    "    end\n",
    "\n",
    "    for k = 1:numLinks\n",
    "        linkFlowPartial = sum([odLinkFlow[(s,t), k] for (s,t) = keys(demands)])\n",
    "        @addConstraint(m, linkFlowPartial == linkFlow[k])\n",
    "    end\n",
    "\n",
    "    for l = 1:numNodes\n",
    "        for (s,t) = keys(demands)\n",
    "            if s != t\n",
    "                odLinkFlowPartial = sum([nodeLink[\"$(l-1)-$(k-1)\"] * odLinkFlow[(s,t), k] for k = 1:numLinks])\n",
    "                if (l == s)\n",
    "                    @addConstraint(m, odLinkFlowPartial + demands[(s,t)] == 0)\n",
    "                elseif (l == t)\n",
    "                    @addConstraint(m, odLinkFlowPartial - demands[(s,t)] == 0)\n",
    "                else\n",
    "                    @addConstraint(m, odLinkFlowPartial == 0)\n",
    "                end\n",
    "            end\n",
    "        end\n",
    "    end\n",
    "\n",
    "    @defNLExpr(f, sum{free_flow_time[a]*linkFlow[a] + .03*free_flow_time[a]*((linkFlow[a])^5)/((capacity[a])^4), \n",
    "        a = 1:numLinks})\n",
    "#     @defNLExpr(f, sum{free_flow_time[a]*linkFlow[a] + .15*free_flow_time[a]*((linkFlow[a])^2)/(capacity[a]), \n",
    "#         a = 1:numLinks})\n",
    "\n",
    "    @setNLObjective(m, Min, f)\n",
    "\n",
    "    TT = STDOUT # save original STDOUT stream\n",
    "    redirect_stdout()\n",
    "    solve(m)\n",
    "    redirect_stdout(TT) # restore STDOUT\n",
    "\n",
    "    getValue(linkFlow)\n",
    "\n",
    "    getObjectiveValue(m)\n",
    "\n",
    "    outfile = open(\"flows_converge_simp.txt\", \"w\")\n",
    "\n",
    "    write(outfile, join((\"From\", \"to\", \"Volume Capacity\"), \"        \"), \"\\n\")\n",
    "\n",
    "    for i = 1:length(ta_data.start_node)\n",
    "         n1, n2, n3 = ta_data.start_node[i], ta_data.end_node[i], getValue(linkFlow)[i]\n",
    "         write(outfile, join((n1, n2, n3), \"        \"), \"\\n\")\n",
    "    end\n",
    "\n",
    "    close(outfile)\n",
    "    \n",
    "    return getValue(linkFlow), numNodes, numLinks, numODpairs\n",
    "end"
   ]
  },
  {
   "cell_type": "code",
   "execution_count": 3,
   "metadata": {
    "collapsed": false
   },
   "outputs": [
    {
     "data": {
      "text/plain": [
       "([2300.0,3900.0,2300.0,3500.0,3900.0,7060.55,3039.45,7105.27,10650.3,4202.51  …  7900.0,5149.72,13758.0,13749.7,8158.04,4155.55,8249.72,4194.73,2994.73,4239.45],12,30,132)"
      ]
     },
     "execution_count": 3,
     "metadata": {},
     "output_type": "execute_result"
    }
   ],
   "source": [
    "tapFlowVec, numNodes, numLinks, numODpairs = TAP(demands)"
   ]
  },
  {
   "cell_type": "code",
   "execution_count": 4,
   "metadata": {
    "collapsed": false
   },
   "outputs": [],
   "source": [
    "tapFlows = Dict{(Int64,Int64),Float64}()\n",
    "\n",
    "for i = 1:length(ta_data.start_node)\n",
    "    key = (ta_data.start_node[i], ta_data.end_node[i])\n",
    "    tapFlows[key] = tapFlowVec[i]\n",
    "end"
   ]
  },
  {
   "cell_type": "code",
   "execution_count": 5,
   "metadata": {
    "collapsed": false
   },
   "outputs": [
    {
     "data": {
      "text/plain": [
       "Dict{(Int64,Int64),Float64} with 30 entries:\n",
       "  (11,12) => 4194.728975972957\n",
       "  (4,3)   => 7105.2710212288885\n",
       "  (2,6)   => 3499.9999986713683\n",
       "  (11,4)  => 4155.548193381439\n",
       "  (5,6)   => 8050.27717071561\n",
       "  (4,11)  => 4202.510698517833\n",
       "  (8,6)   => 7541.964082860455\n",
       "  (5,4)   => 10641.964082937508\n",
       "  (10,11) => 8158.035914355255\n",
       "  (2,1)   => 2299.999998663629\n",
       "  (8,9)   => 5158.035914394822\n",
       "  (12,3)  => 2994.7289762235932\n",
       "  (11,10) => 8249.722826326752\n",
       "  (3,1)   => 3899.999998689427\n",
       "  (5,9)   => 7899.9999987258425\n",
       "  (6,2)   => 3499.9999986701755\n",
       "  (6,8)   => 7550.277170840937\n",
       "  (4,5)   => 10650.277170964806\n",
       "  (1,3)   => 3899.999998688233\n",
       "  (8,7)   => 6499.999998663742\n",
       "  (7,8)   => 6499.999998663742\n",
       "  (12,11) => 4239.453382808038\n",
       "  (9,10)  => 13758.035914328017\n",
       "  (3,12)  => 3039.4533830586906\n",
       "  (6,5)   => 8041.964082736314\n",
       "  ⋮       => ⋮"
      ]
     },
     "execution_count": 5,
     "metadata": {},
     "output_type": "execute_result"
    }
   ],
   "source": [
    "tapFlows"
   ]
  },
  {
   "cell_type": "code",
   "execution_count": null,
   "metadata": {
    "collapsed": true
   },
   "outputs": [],
   "source": []
  }
 ],
 "metadata": {
  "kernelspec": {
   "display_name": "Julia 0.3.7",
   "language": "julia",
   "name": "julia-0.3"
  },
  "language_info": {
   "file_extension": ".jl",
   "mimetype": "application/julia",
   "name": "julia",
   "version": "0.3.7"
  }
 },
 "nbformat": 4,
 "nbformat_minor": 0
}
