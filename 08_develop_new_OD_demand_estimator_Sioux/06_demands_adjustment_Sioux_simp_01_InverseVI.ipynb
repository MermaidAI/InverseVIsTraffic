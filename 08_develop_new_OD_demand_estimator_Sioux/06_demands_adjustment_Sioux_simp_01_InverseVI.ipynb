{
 "cells": [
  {
   "cell_type": "code",
   "execution_count": 1,
   "metadata": {
    "collapsed": false
   },
   "outputs": [
    {
     "data": {
      "text/plain": [
       "Arc (constructor with 3 methods)"
      ]
     },
     "execution_count": 1,
     "metadata": {},
     "output_type": "execute_result"
    }
   ],
   "source": [
    "type Arc\n",
    "    initNode::Int \n",
    "    termNode::Int \n",
    "    capacity::Float64\n",
    "    freeflowtime::Float64\n",
    "    flow::Float64\n",
    "end\n",
    "\n",
    "Arc(initNode::Int, termNode::Int, capacity::Float64, freeflowtime::Float64) = \n",
    "    Arc(initNode, termNode, capacity, freeflowtime, 0.)"
   ]
  },
  {
   "cell_type": "markdown",
   "metadata": {},
   "source": [
    "### Prepare data"
   ]
  },
  {
   "cell_type": "code",
   "execution_count": 2,
   "metadata": {
    "collapsed": false
   },
   "outputs": [],
   "source": [
    "############\n",
    "#Read in the demand file\n",
    "file = open(\"../data_original/SiouxFalls_trips_simp.txt\")\n",
    "demands = Dict{(Int64,Int64), Float64}()\n",
    "s = 0\n",
    "for line in eachline(file)\n",
    "    if contains(line, \"Origin\")\n",
    "        s = int(split(line)[2])\n",
    "    else\n",
    "        pairs = split(line, \";\")\n",
    "        for pair in pairs\n",
    "            if !contains(pair, \"\\n\")\n",
    "                pair_vals = split(pair, \":\")\n",
    "                t, demand = int(pair_vals[1]), float(pair_vals[2])\n",
    "                demands[(s,t)] = demand \n",
    "            end\n",
    "        end\n",
    "    end\n",
    "end                \n",
    "close(file)\n",
    "\n",
    "############\n",
    "#read in the arc files\n",
    "arcs = Dict{(Int, Int), Arc}()\n",
    "file = open(\"../data_original/SiouxFalls_net_simp.txt\")\n",
    "inHeader=true\n",
    "for line in eachline(file)\n",
    "    if inHeader\n",
    "        inHeader = !contains(line, \"Init node\")\n",
    "        continue\n",
    "    end\n",
    "    vals = split(line, )\n",
    "    arcs[(int(vals[1]), int(vals[2]))] = Arc(int(vals[1]), int(vals[2]), float(vals[3]), float(vals[5]))\n",
    "end\n",
    "close(file)\n",
    "\n",
    "###########\n",
    "#read in the initial flows\n",
    "file = open(\"../data_original/flows_converge_simp.txt\")\n",
    "ix = 0; \n",
    "for line in eachline(file)\n",
    "    ix +=1\n",
    "    if ix ==1\n",
    "        continue\n",
    "    end\n",
    "    vals = split(line)\n",
    "    arcs[(int(vals[1]), int(vals[2]))].flow = float(vals[3])\n",
    "end\n",
    "close(file)\n",
    "\n",
    "##########\n",
    "# Set up demand data and flow data\n",
    "##########\n",
    "using Graphs\n",
    "\n",
    "flow_data = Array(Float64, length(arcs))\n",
    "flows = Dict{(Int64,Int64), Float64}()\n",
    "demand_data = Dict{(Int, Int), Array{Float64, 1}}()\n",
    "\n",
    "numNodes = maximum(map(pair->pair[1], keys(demands)))\n",
    "g = simple_inclist(numNodes, is_directed=true)\n",
    "vArcs = Arc[]\n",
    "for arc in values(arcs)\n",
    "    add_edge!(g, arc.initNode, arc.termNode) \n",
    "    push!(vArcs, arc)\n",
    "end\n",
    "\n",
    "for odpair in keys(demands)\n",
    "    if ! haskey(demand_data, odpair)\n",
    "        demand_data[odpair] = [demands[odpair], ]\n",
    "    else\n",
    "        push!(demand_data[odpair], demands[odpair])\n",
    "    end\n",
    "end\n",
    "\n",
    "flow_data = [a.flow::Float64 for a in vArcs]\n",
    "\n",
    "for a in vArcs\n",
    "    flows[(a.initNode, a.termNode)] = a.flow\n",
    "end"
   ]
  },
  {
   "cell_type": "markdown",
   "metadata": {},
   "source": [
    "## Solve an inverse tarffic problem over polynomials of degree at most d\n",
    "\n",
    "## Optionally use a regularizer from the poly kernel"
   ]
  },
  {
   "cell_type": "code",
   "execution_count": 3,
   "metadata": {
    "collapsed": false
   },
   "outputs": [
    {
     "data": {
      "text/plain": [
       "train (generic function with 1 method)"
      ]
     },
     "execution_count": 3,
     "metadata": {},
     "output_type": "execute_result"
    }
   ],
   "source": [
    "using JuMP\n",
    "using Gurobi\n",
    "# using Roots\n",
    "\n",
    "polyEval(coeffs, pt) = sum([coeffs[i] * pt^(i-1) for i = 1:length(coeffs)])  \n",
    "\n",
    "function facto(m::Int64)\n",
    "    factori = 1\n",
    "    for j = 1:m\n",
    "        factori = factori * j\n",
    "    end\n",
    "    return factori\n",
    "end\n",
    "\n",
    "function comb(n::Int64, m::Int64)\n",
    "    combi = facto(n) / (facto(m) * facto(n-m))\n",
    "    return int(combi)\n",
    "end\n",
    "\n",
    "function setUpFitting(deg::Int64, c::Float64)\n",
    "    \n",
    "    normCoeffs = Array(Float64, deg+1)\n",
    "    for i=1:deg + 1\n",
    "        normCoeffs[i] = comb(deg, i-1) * c^(deg-i+1)\n",
    "    end\n",
    "\n",
    "\tm = Model(solver=GurobiSolver(OutputFlag=false))\n",
    "    \n",
    "\t@defVar(m, coeffs[1:deg+1])\n",
    "\n",
    "\treturn m, coeffs, normCoeffs\n",
    "\n",
    "end\n",
    "\n",
    "function addResid(m, coeffs, ys, demands, arcs, scaling)\n",
    "    @defVar(m, resid)\n",
    "\t@defVar(m, dual_cost)\n",
    "\t@defVar(m, primal_cost)\n",
    "\n",
    "\t@addConstraint(m, dual_cost == sum{demands[(s,t)] * (ys[(s,t), t] - ys[(s,t), s]), (s,t)=keys(demands)})  \n",
    "\t@addConstraint(m, primal_cost == sum{a.flow * a.freeflowtime * polyEval(coeffs, a.flow/a.capacity), a=values(arcs)})\n",
    "\t@addConstraint(m, resid >= (primal_cost - dual_cost) / scaling )\n",
    "\n",
    "\treturn resid\n",
    "end\n",
    "\n",
    "function addIncreasingCnsts(m, coeffs, arcs)\n",
    "\tsorted_flows = sort([a.flow / a.capacity for a in values(arcs)])\n",
    "\tfor i = 2:length(sorted_flows)\n",
    "\t\t@addConstraint(m, polyEval(coeffs, sorted_flows[i-1]) <= polyEval(coeffs, sorted_flows[i]))\n",
    "\tend\n",
    "end\n",
    "\n",
    "function normalize(m, coeffs)\n",
    "    @addConstraint(m, coeffs[1] == 1)\n",
    "end\n",
    "\n",
    "function addNetworkCnsts(m, coeffs, demands, arcs, numNodes)\n",
    "\t@defVar(m, ys[keys(demands), 1:numNodes])\n",
    "\tfor k = keys(arcs)\n",
    "\t\ta = arcs[k]\n",
    "\t\trhs = a.freeflowtime * polyEval(coeffs, a.flow/a.capacity)\n",
    "\t\tfor od in keys(demands)\n",
    "\t\t\t@addConstraint(m, ys[od, k[2]] - ys[od, k[1]] <= rhs)\n",
    "\t\tend\n",
    "\tend\n",
    "\treturn ys\n",
    "end\n",
    "\n",
    "\n",
    "##########\n",
    "#Fitting Funcs\n",
    "##########\n",
    "\n",
    "function train(lam::Float64, deg::Int, c::Float64, demands, flow_data, arcs; fcoeffs=nothing)\n",
    "    numNodes = maximum(map(pair->pair[1], keys(arcs)))\n",
    "    m, coeffs, normCoeffs = setUpFitting(deg, c)\n",
    "    \n",
    "    addIncreasingCnsts(m, coeffs, arcs)  #uses the original obs flows\n",
    "\n",
    "    normalize(m, coeffs)\n",
    "\n",
    "    resids = Variable[]\n",
    "    \n",
    "    #copy the flow data over to the arcs\n",
    "    for (ix, a) in enumerate(vArcs)\n",
    "        a.flow = flow_data[ix]\n",
    "    end\n",
    "\n",
    "    #Dual Feasibility\n",
    "    ys = addNetworkCnsts(m, coeffs, demands, arcs, numNodes)\n",
    "\n",
    "    #add the residual for this data point\n",
    "    push!(resids, addResid(m, coeffs, ys, demands, arcs, 1e6))\n",
    "\n",
    "\n",
    "    if fcoeffs != nothing\n",
    "        fixCoeffs(m, fcoeffs, coeffs)\n",
    "    end\n",
    "    \n",
    "    @setObjective(m, Min, sum{resids[i], i = 1:length(resids)} \n",
    "                            + lam * sum{coeffs[i] * coeffs[i] / normCoeffs[i], i=1:deg + 1})\n",
    "    solve(m)\n",
    "    \n",
    "    return [getValue(coeffs[i]) for i =1:length(coeffs)], getValue(ys), getValue(resids)\n",
    "end\n",
    "\n",
    "#nodeLink[\"0-75\"]"
   ]
  },
  {
   "cell_type": "code",
   "execution_count": 4,
   "metadata": {
    "collapsed": false
   },
   "outputs": [
    {
     "data": {
      "text/plain": [
       "7-element Array{Float64,1}:\n",
       "  1.0       \n",
       "  0.00509747\n",
       " -0.0436057 \n",
       "  0.111642  \n",
       "  0.069514  \n",
       "  0.0162174 \n",
       "  0.00141756"
      ]
     },
     "execution_count": 4,
     "metadata": {},
     "output_type": "execute_result"
    }
   ],
   "source": [
    "#demands[(1, 1)]\n",
    "\n",
    "#include(\"trafficCval.jl\")\n",
    "\n",
    "coeffs_dict = Dict{(Int64,Float64,Float64),Array{Float64,1}}()\n",
    "\n",
    "deg = 6\n",
    "c = 3.41\n",
    "lam = 1.\n",
    "\n",
    "fcoeffs, ys, resids = train(lam, deg, c, demands, flow_data, arcs)\n",
    "coeffs_dict[(deg, c, lam)] = fcoeffs"
   ]
  },
  {
   "cell_type": "markdown",
   "metadata": {},
   "source": [
    "### Visualize the estimated cost function"
   ]
  },
  {
   "cell_type": "code",
   "execution_count": 5,
   "metadata": {
    "collapsed": false
   },
   "outputs": [
    {
     "name": "stderr",
     "output_type": "stream",
     "text": [
      "INFO: Loading help data...\n"
     ]
    },
    {
     "data": {
      "image/png": "[encoded data removed]",
      "text/plain": [
       "Figure(PyObject <matplotlib.figure.Figure object at 0x7ff50aaf89d0>)"
      ]
     },
     "metadata": {},
     "output_type": "display_data"
    }
   ],
   "source": [
    "using PyPlot\n",
    "\n",
    "true_coeffs = [1, 0, 0, 0, .15]\n",
    "\n",
    "fcoeffs = coeffs_dict[(6, 3.41, 1.)]\n",
    "\n",
    "xs = linspace(0, 2, 20)\n",
    "zs_true = map(x->polyEval(true_coeffs, x), xs)\n",
    "\n",
    "zs = map(x->polyEval(fcoeffs, x), xs)\n",
    "\n",
    "plot(xs, zs_true, \"s-g\", label=\"True\")\n",
    "\n",
    "plot(xs, zs, \"^-m\", label=\"deg=6\")\n",
    "legend(loc=\"upper left\",fancybox=\"true\") \n",
    "\n",
    "grid(\"on\")\n",
    "xlim(-0.1, 1.6);\n",
    "ylim(0.9, 2.0);\n",
    "\n",
    "font1 = [\"family\"=>\"serif\",\"color\"=>\"darkred\",\"weight\"=>\"normal\",\"size\"=>14]\n",
    "xlabel(\"Scaled Flow\", fontdict=font1)\n",
    "ylabel(\"Scaled Cost\", fontdict=font1)\n",
    "\n",
    "savefig(\"fitting_Sioux_simp.pdf\")"
   ]
  }
 ],
 "metadata": {
  "kernelspec": {
   "display_name": "Julia 0.3.7",
   "language": "julia",
   "name": "julia-0.3"
  },
  "language_info": {
   "file_extension": ".jl",
   "mimetype": "application/julia",
   "name": "julia",
   "version": "0.3.7"
  }
 },
 "nbformat": 4,
 "nbformat_minor": 0
}
