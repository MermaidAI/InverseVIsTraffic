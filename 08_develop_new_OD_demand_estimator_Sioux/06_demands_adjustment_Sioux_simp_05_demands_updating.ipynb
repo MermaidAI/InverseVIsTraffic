{
 "cells": [
  {
   "cell_type": "code",
   "execution_count": 1,
   "metadata": {
    "collapsed": false
   },
   "outputs": [
    {
     "data": {
      "text/plain": [
       "TAP (generic function with 1 method)"
      ]
     },
     "execution_count": 1,
     "metadata": {},
     "output_type": "execute_result"
    }
   ],
   "source": [
    "include(\"demands_adjustment_Sioux_simp_gradi.jl\")\n",
    "include(\"tap_Sioux_simp.jl\")"
   ]
  },
  {
   "cell_type": "code",
   "execution_count": 2,
   "metadata": {
    "collapsed": false
   },
   "outputs": [],
   "source": [
    "# load Jacobian\n",
    "jacobian = readall(\"jacobian.json\");\n",
    "jacobian = JSON.parse(jacobian);\n",
    "\n",
    "jacob = zeros(numODpairs, numLinks)\n",
    "for i = 1:numLinks\n",
    "    for j = 1:numODpairs\n",
    "        jacob[j, i] = jacobian[i][j]\n",
    "    end\n",
    "end"
   ]
  },
  {
   "cell_type": "code",
   "execution_count": 3,
   "metadata": {
    "collapsed": false
   },
   "outputs": [
    {
     "data": {
      "text/plain": [
       "132x30 Array{Float64,2}:\n",
       " -0.0   0.0   0.0  0.0   0.0  -0.0  0.0  …   1.0  -0.0  0.0   0.0  0.0   1.0\n",
       "  0.0   0.0   0.0  0.0   0.0   0.0  0.0      0.0   0.0  0.0   0.0  0.0   0.0\n",
       "  0.0  -1.0   0.0  0.0   0.0   0.0  0.0      1.0   0.0  0.0   1.0  0.0   0.0\n",
       " -1.0   0.0   0.0  0.0   0.0   0.0  0.0      0.0   0.0  0.0   0.0  0.0   0.0\n",
       "  0.0   0.0   0.0  0.0   0.0   1.0  0.0      0.0   1.0  0.0   0.0  0.0   0.0\n",
       "  0.0   0.0   0.0  0.0   0.0   0.0  0.0  …   1.0   0.0  0.0   0.0  0.0   0.0\n",
       "  0.0   0.0  -0.0  0.0   0.0   0.0  0.0      0.0   0.0  0.0  -0.0  0.0   0.0\n",
       " -1.0   0.0   1.0  0.0   0.0   0.0  0.0      0.0   1.0  0.0   0.0  0.0   0.0\n",
       "  0.0   0.0   0.0  0.0   0.0   0.0  0.0      0.0   0.0  0.0   0.0  0.0   0.0\n",
       "  0.0   0.0   0.0  0.0   0.0   0.0  0.0      0.0   0.0  0.0   0.0  0.0   0.0\n",
       " -1.0   0.0   0.0  0.0   0.0   0.0  0.0  …   0.0   0.0  0.0   0.0  0.0   1.0\n",
       "  0.0   0.0   1.0  0.0   0.0   0.0  0.0      0.0   0.0  0.0   0.0  0.0   0.0\n",
       "  0.0   0.0   0.0  0.0  -0.0   0.0  0.0     -0.0   0.0  0.0   0.0  0.0  -0.0\n",
       "  ⋮                            ⋮         ⋱         ⋮                        \n",
       " -0.0   1.0   0.0  0.0   0.0  -0.0  1.0  …   0.0  -0.0  0.0   0.0  0.0   0.0\n",
       "  0.0   0.0   0.0  0.0   0.0   0.0  0.0      0.0   0.0  0.0   0.0  0.0   0.0\n",
       "  0.0   0.0   0.0  0.0   0.0   0.0  0.0      0.0   0.0  0.0   0.0  1.0   0.0\n",
       "  0.0   0.0   0.0  0.0   0.0   0.0  0.0      0.0   0.0  0.0   0.0  0.0   0.0\n",
       "  0.0   0.0   0.0  0.0   0.0   0.0  0.0      0.0   0.0  0.0   1.0  0.0   0.0\n",
       "  0.0   0.0   0.0  0.0   0.0   1.0  0.0  …   0.0   0.0  0.0   0.0  1.0   0.0\n",
       "  0.0   0.0  -0.0  0.0   0.0   0.0  0.0      1.0   0.0  0.0  -0.0  0.0   0.0\n",
       " -1.0   0.0   1.0  0.0   0.0   0.0  0.0      0.0   0.0  0.0   0.0  0.0   0.0\n",
       "  0.0   0.0   1.0  0.0   0.0   1.0  0.0      0.0   1.0  0.0   0.0  0.0   0.0\n",
       "  0.0   0.0   0.0  1.0   0.0   0.0  0.0      1.0   0.0  0.0   0.0  1.0   0.0\n",
       " -1.0   1.0   0.0  0.0   0.0   0.0  1.0  …   0.0   0.0  0.0   0.0  0.0   0.0\n",
       "  0.0   0.0   1.0  0.0   0.0   1.0  0.0      0.0   0.0  1.0   0.0  0.0   1.0"
      ]
     },
     "execution_count": 3,
     "metadata": {},
     "output_type": "execute_result"
    }
   ],
   "source": [
    "jacob"
   ]
  },
  {
   "cell_type": "code",
   "execution_count": 31,
   "metadata": {
    "collapsed": false
   },
   "outputs": [
    {
     "data": {
      "text/plain": [
       "([2070.0,3510.0,2070.0,3150.0,3510.0,6240.91,2849.09,6284.98,9810.0,3900.91  …  7110.0,4410.0,12150.0,12150.0,7110.0,3854.98,7200.0,3885.02,2805.02,3929.09],[2300.0,3900.0,2300.0,3500.0,3900.0,7060.55,3039.45,7105.27,10650.3,4202.51  …  7900.0,5149.72,13758.0,13749.7,8158.04,4155.55,8249.72,4194.73,2994.73,4239.45])"
      ]
     },
     "execution_count": 31,
     "metadata": {},
     "output_type": "execute_result"
    }
   ],
   "source": [
    "x, x_0"
   ]
  },
  {
   "cell_type": "code",
   "execution_count": 4,
   "metadata": {
    "collapsed": false
   },
   "outputs": [],
   "source": [
    "# compute the gradient\n",
    "gradi_ = zeros(numODpairs)\n",
    "for i = 1:numODpairs\n",
    "    gradi_[i] = sum([2 * (x[j] - x_0[j]) * jacob[i, j] for j = 1:numLinks])\n",
    "end"
   ]
  },
  {
   "cell_type": "code",
   "execution_count": 5,
   "metadata": {
    "collapsed": false
   },
   "outputs": [
    {
     "data": {
      "text/plain": [
       "12"
      ]
     },
     "execution_count": 5,
     "metadata": {},
     "output_type": "execute_result"
    }
   ],
   "source": [
    "numNodes"
   ]
  },
  {
   "cell_type": "code",
   "execution_count": 6,
   "metadata": {
    "collapsed": false
   },
   "outputs": [],
   "source": [
    "OD_pair_label_dict = Dict()\n",
    "OD_pair_label_dict_ = Dict()\n",
    "label = 1\n",
    "for i = 1:numNodes\n",
    "    for j = 1:numNodes\n",
    "        if i != j\n",
    "            key = \"($(i), $(j))\"\n",
    "            OD_pair_label_dict[key] = label\n",
    "            OD_pair_label_dict_[label] = key\n",
    "            label += 1\n",
    "        end\n",
    "    end\n",
    "end"
   ]
  },
  {
   "cell_type": "code",
   "execution_count": 7,
   "metadata": {
    "collapsed": false
   },
   "outputs": [
    {
     "data": {
      "text/plain": [
       "\"(12, 11)\""
      ]
     },
     "execution_count": 7,
     "metadata": {},
     "output_type": "execute_result"
    }
   ],
   "source": [
    "OD_pair_label_dict_[numODpairs]"
   ]
  },
  {
   "cell_type": "code",
   "execution_count": 8,
   "metadata": {
    "collapsed": true
   },
   "outputs": [],
   "source": [
    "#load OD pair labels\n",
    "odPairLabel = readall(\"od_pair_label_dict_Sioux_simp_refined.json\");\n",
    "odPairLabel = JSON.parse(odPairLabel);\n",
    "\n",
    "odPairLabel_ = readall(\"od_pair_label_dict__Sioux_simp_refined.json\");\n",
    "odPairLabel_ = JSON.parse(odPairLabel_);"
   ]
  },
  {
   "cell_type": "code",
   "execution_count": 9,
   "metadata": {
    "collapsed": false
   },
   "outputs": [],
   "source": [
    "# ensure the consistency of dimensions\n",
    "\n",
    "gradi = zeros(numODpairs)\n",
    "\n",
    "for i = 1:numODpairs\n",
    "    if ~(\"($(odPairLabel_[\"$(i)\"][1]), $(odPairLabel_[\"$(i)\"][2]))\" in keys(OD_pair_label_dict))\n",
    "        gradi[i] = 0\n",
    "    else\n",
    "        gradi[i] = gradi_[OD_pair_label_dict[\"($(odPairLabel_[\"$(i)\"][1]), $(odPairLabel_[\"$(i)\"][2]))\"]]\n",
    "    end\n",
    "end"
   ]
  },
  {
   "cell_type": "code",
   "execution_count": 10,
   "metadata": {
    "collapsed": false
   },
   "outputs": [
    {
     "data": {
      "text/plain": [
       "144"
      ]
     },
     "execution_count": 10,
     "metadata": {},
     "output_type": "execute_result"
    }
   ],
   "source": [
    "length(demands)"
   ]
  },
  {
   "cell_type": "code",
   "execution_count": 12,
   "metadata": {
    "collapsed": false
   },
   "outputs": [],
   "source": [
    "# for convenience of computing the new demand vector\n",
    "demandsVec = zeros(length(odPairLabel_))\n",
    "\n",
    "for i = 1:length(demandsVec)\n",
    "    demandsVec[i] = demands[(odPairLabel_[\"$i\"][1], odPairLabel_[\"$i\"][2])]\n",
    "end"
   ]
  },
  {
   "cell_type": "code",
   "execution_count": 13,
   "metadata": {
    "collapsed": false
   },
   "outputs": [
    {
     "data": {
      "text/plain": [
       "132-element Array{Float64,1}:\n",
       "   90.0\n",
       "   90.0\n",
       "  450.0\n",
       "  180.0\n",
       "  270.0\n",
       "  450.0\n",
       "  720.0\n",
       "  450.0\n",
       " 1170.0\n",
       "  450.0\n",
       "  180.0\n",
       "   90.0\n",
       "   90.0\n",
       "    ⋮  \n",
       " 1260.0\n",
       "  180.0\n",
       "   90.0\n",
       "  180.0\n",
       "  540.0\n",
       "  180.0\n",
       "  180.0\n",
       "  630.0\n",
       "  540.0\n",
       "  540.0\n",
       " 1800.0\n",
       " 1260.0"
      ]
     },
     "execution_count": 13,
     "metadata": {},
     "output_type": "execute_result"
    }
   ],
   "source": [
    "demandsVec"
   ]
  },
  {
   "cell_type": "code",
   "execution_count": 14,
   "metadata": {
    "collapsed": false
   },
   "outputs": [
    {
     "data": {
      "text/plain": [
       "Dict{(Int64,Int64),Float64} with 144 entries:\n",
       "  (8,10)  => 1440.0\n",
       "  (9,5)   => 720.0\n",
       "  (3,6)   => 270.0\n",
       "  (10,5)  => 900.0\n",
       "  (6,9)   => 360.0\n",
       "  (12,4)  => 540.0\n",
       "  (4,4)   => 0.0\n",
       "  (9,4)   => 630.0\n",
       "  (10,11) => 3600.0\n",
       "  (8,9)   => 720.0\n",
       "  (9,1)   => 450.0\n",
       "  (11,1)  => 450.0\n",
       "  (8,11)  => 720.0\n",
       "  (3,1)   => 90.0\n",
       "  (1,10)  => 1170.0\n",
       "  (1,12)  => 180.0\n",
       "  (12,7)  => 630.0\n",
       "  (4,5)   => 450.0\n",
       "  (9,9)   => 0.0\n",
       "  (11,8)  => 720.0\n",
       "  (12,8)  => 540.0\n",
       "  (2,4)   => 180.0\n",
       "  (6,5)   => 180.0\n",
       "  (4,9)   => 630.0\n",
       "  (8,4)   => 630.0\n",
       "  ⋮       => ⋮"
      ]
     },
     "execution_count": 14,
     "metadata": {},
     "output_type": "execute_result"
    }
   ],
   "source": [
    "demands"
   ]
  },
  {
   "cell_type": "code",
   "execution_count": 15,
   "metadata": {
    "collapsed": false
   },
   "outputs": [],
   "source": [
    "# convert the demand data into dictionary; for convenience of solving the TAP problem and the inverse VI problem\n",
    "\n",
    "demandsDict = Dict{(Int64,Int64), Float64}()\n",
    "\n",
    "for key = [(int(split(key, \", \")[1][2:end]), int(split(key, \", \")[2][1:end-1])) for key = keys(odPairLabel)]\n",
    "    demandsDict[key] = demandsVec[odPairLabel[\"($(key[1]), $(key[2]))\"]]\n",
    "end"
   ]
  },
  {
   "cell_type": "code",
   "execution_count": 16,
   "metadata": {
    "collapsed": false
   },
   "outputs": [
    {
     "data": {
      "text/plain": [
       "Dict{(Int64,Int64),Float64} with 132 entries:\n",
       "  (3,8)   => 180.0\n",
       "  (9,5)   => 720.0\n",
       "  (3,6)   => 270.0\n",
       "  (10,5)  => 900.0\n",
       "  (6,9)   => 360.0\n",
       "  (12,4)  => 540.0\n",
       "  (11,1)  => 450.0\n",
       "  (9,4)   => 630.0\n",
       "  (10,11) => 3600.0\n",
       "  (8,9)   => 720.0\n",
       "  (9,1)   => 450.0\n",
       "  (8,11)  => 720.0\n",
       "  (3,1)   => 90.0\n",
       "  (1,10)  => 1170.0\n",
       "  (1,12)  => 180.0\n",
       "  (12,7)  => 630.0\n",
       "  (4,5)   => 450.0\n",
       "  (11,8)  => 720.0\n",
       "  (12,8)  => 540.0\n",
       "  (2,4)   => 180.0\n",
       "  (6,5)   => 180.0\n",
       "  (4,9)   => 630.0\n",
       "  (8,4)   => 630.0\n",
       "  (9,2)   => 180.0\n",
       "  (1,2)   => 90.0\n",
       "  ⋮       => ⋮"
      ]
     },
     "execution_count": 16,
     "metadata": {},
     "output_type": "execute_result"
    }
   ],
   "source": [
    "demandsDict"
   ]
  },
  {
   "cell_type": "code",
   "execution_count": 17,
   "metadata": {
    "collapsed": false
   },
   "outputs": [
    {
     "data": {
      "text/plain": [
       "132-element Array{Float64,1}:\n",
       "  -4212.86      \n",
       "  -6880.0       \n",
       "  -4296.04      \n",
       "    460.0       \n",
       " -11983.8       \n",
       "  -3396.07      \n",
       "      0.0       \n",
       "  -3845.07      \n",
       "  -3479.45      \n",
       "     -0.0       \n",
       "  -3404.65      \n",
       "  -3400.59      \n",
       "      0.0       \n",
       "      ⋮         \n",
       "  -3621.27      \n",
       "     -0.0       \n",
       "  -3359.96      \n",
       "     -0.0       \n",
       "  -1919.41      \n",
       "  -8198.69      \n",
       "  -2096.07      \n",
       "      2.46018e-9\n",
       "  -2700.43      \n",
       "  -8755.48      \n",
       "  -4640.72      \n",
       "  -6483.37      "
      ]
     },
     "execution_count": 17,
     "metadata": {},
     "output_type": "execute_result"
    }
   ],
   "source": [
    "gradi"
   ]
  },
  {
   "cell_type": "code",
   "execution_count": 18,
   "metadata": {
    "collapsed": false
   },
   "outputs": [],
   "source": [
    "# compute a descent direction\n",
    "\n",
    "r = similar(gradi)\n",
    "for i = 1:length(gradi)\n",
    "    r[i] = -1 * gradi[i]\n",
    "end"
   ]
  },
  {
   "cell_type": "code",
   "execution_count": 19,
   "metadata": {
    "collapsed": false
   },
   "outputs": [
    {
     "data": {
      "text/plain": [
       "132-element Array{Float64,1}:\n",
       "  4212.86      \n",
       "  6880.0       \n",
       "  4296.04      \n",
       "  -460.0       \n",
       " 11983.8       \n",
       "  3396.07      \n",
       "    -0.0       \n",
       "  3845.07      \n",
       "  3479.45      \n",
       "     0.0       \n",
       "  3404.65      \n",
       "  3400.59      \n",
       "    -0.0       \n",
       "     ⋮         \n",
       "  3621.27      \n",
       "     0.0       \n",
       "  3359.96      \n",
       "     0.0       \n",
       "  1919.41      \n",
       "  8198.69      \n",
       "  2096.07      \n",
       "    -2.46018e-9\n",
       "  2700.43      \n",
       "  8755.48      \n",
       "  4640.72      \n",
       "  6483.37      "
      ]
     },
     "execution_count": 19,
     "metadata": {},
     "output_type": "execute_result"
    }
   ],
   "source": [
    "r"
   ]
  },
  {
   "cell_type": "code",
   "execution_count": 20,
   "metadata": {
    "collapsed": false
   },
   "outputs": [],
   "source": [
    "# compute a search direction\n",
    "\n",
    "r_ = similar(r)\n",
    "for i = 1:length(r)\n",
    "    if (demandsVec[i] > 20) || (demandsVec[i] <= 20 && r[i] > 0)\n",
    "        r_[i] = r[i]\n",
    "    else\n",
    "        r_[i] = 0\n",
    "    end\n",
    "end"
   ]
  },
  {
   "cell_type": "code",
   "execution_count": 21,
   "metadata": {
    "collapsed": false
   },
   "outputs": [
    {
     "data": {
      "text/plain": [
       "132-element Array{Float64,1}:\n",
       "  4212.86      \n",
       "  6880.0       \n",
       "  4296.04      \n",
       "  -460.0       \n",
       " 11983.8       \n",
       "  3396.07      \n",
       "    -0.0       \n",
       "  3845.07      \n",
       "  3479.45      \n",
       "     0.0       \n",
       "  3404.65      \n",
       "  3400.59      \n",
       "    -0.0       \n",
       "     ⋮         \n",
       "  3621.27      \n",
       "     0.0       \n",
       "  3359.96      \n",
       "     0.0       \n",
       "  1919.41      \n",
       "  8198.69      \n",
       "  2096.07      \n",
       "    -2.46018e-9\n",
       "  2700.43      \n",
       "  8755.48      \n",
       "  4640.72      \n",
       "  6483.37      "
      ]
     },
     "execution_count": 21,
     "metadata": {},
     "output_type": "execute_result"
    }
   ],
   "source": [
    "r_"
   ]
  },
  {
   "cell_type": "code",
   "execution_count": 22,
   "metadata": {
    "collapsed": false
   },
   "outputs": [
    {
     "data": {
      "text/plain": [
       "0.30527055337549003"
      ]
     },
     "execution_count": 22,
     "metadata": {},
     "output_type": "execute_result"
    }
   ],
   "source": [
    "# line search\n",
    "\n",
    "alphaList = Float64[]\n",
    "\n",
    "for i = 1:length(r_)\n",
    "    if r_[i] < 0\n",
    "        push!(alphaList, -demandsVec[i]/r_[i])\n",
    "    end\n",
    "end\n",
    "\n",
    "alpha_max = minimum(alphaList)"
   ]
  },
  {
   "cell_type": "code",
   "execution_count": 23,
   "metadata": {
    "collapsed": false
   },
   "outputs": [
    {
     "data": {
      "text/plain": [
       "132"
      ]
     },
     "execution_count": 23,
     "metadata": {},
     "output_type": "execute_result"
    }
   ],
   "source": [
    "length(r_)"
   ]
  },
  {
   "cell_type": "code",
   "execution_count": 24,
   "metadata": {
    "collapsed": false
   },
   "outputs": [],
   "source": [
    "# update\n",
    "\n",
    "demandsVecNew = similar(demandsVec)\n",
    "for i = 1:length(demandsVec)\n",
    "    demandsVecNew[i] = demandsVec[i] + (alpha_max / 81) * r_[i] \n",
    "end"
   ]
  },
  {
   "cell_type": "code",
   "execution_count": 25,
   "metadata": {
    "collapsed": false
   },
   "outputs": [
    {
     "data": {
      "text/plain": [
       "132-element Array{Float64,1}:\n",
       "  105.877\n",
       "  115.929\n",
       "  466.191\n",
       "  178.266\n",
       "  315.164\n",
       "  462.799\n",
       "  720.0  \n",
       "  464.491\n",
       " 1183.11 \n",
       "  450.0  \n",
       "  192.831\n",
       "  102.816\n",
       "   90.0  \n",
       "    ⋮    \n",
       " 1273.65 \n",
       "  180.0  \n",
       "  102.663\n",
       "  180.0  \n",
       "  547.234\n",
       "  210.899\n",
       "  187.9  \n",
       "  630.0  \n",
       "  550.177\n",
       "  572.997\n",
       " 1817.49 \n",
       " 1284.43 "
      ]
     },
     "execution_count": 25,
     "metadata": {},
     "output_type": "execute_result"
    }
   ],
   "source": [
    "demandsVecNew"
   ]
  },
  {
   "cell_type": "code",
   "execution_count": 26,
   "metadata": {
    "collapsed": true
   },
   "outputs": [],
   "source": [
    "# convert the demand data into dictionary; for convenience of solving the TAP problem and the inverse VI problem\n",
    "\n",
    "demandsDictNew = Dict{(Int64,Int64), Float64}()\n",
    "\n",
    "for key = [(int(split(key, \", \")[1][2:end]), int(split(key, \", \")[2][1:end-1])) for key = keys(odPairLabel)]\n",
    "    demandsDictNew[key] = demandsVecNew[odPairLabel[\"($(key[1]), $(key[2]))\"]]\n",
    "end\n",
    "\n",
    "for i=1:numNodes\n",
    "    key = (i,i)\n",
    "    demandsDictNew[key] = 0\n",
    "end"
   ]
  },
  {
   "cell_type": "code",
   "execution_count": 27,
   "metadata": {
    "collapsed": false
   },
   "outputs": [
    {
     "data": {
      "text/plain": [
       "Dict{(Int64,Int64),Float64} with 144 entries:\n",
       "  (3,8)   => 189.18099995034132\n",
       "  (9,5)   => 727.7635325707039\n",
       "  (3,6)   => 286.59801996262894\n",
       "  (10,5)  => 908.5175636107699\n",
       "  (6,9)   => 364.82389020427894\n",
       "  (12,4)  => 547.2338152540801\n",
       "  (4,4)   => 0.0\n",
       "  (11,1)  => 447.4372348608614\n",
       "  (9,4)   => 631.7336352419937\n",
       "  (10,11) => 3615.1625620457685\n",
       "  (8,9)   => 720.0\n",
       "  (9,1)   => 450.0\n",
       "  (8,11)  => 754.3570163028303\n",
       "  (3,1)   => 95.36423349586329\n",
       "  (1,10)  => 1183.1132382802066\n",
       "  (1,12)  => 192.83133689609093\n",
       "  (12,7)  => 629.9999999999907\n",
       "  (4,5)   => 458.7483476780465\n",
       "  (11,8)  => 722.638140584533\n",
       "  (9,9)   => 0.0\n",
       "  (12,8)  => 550.1772949767255\n",
       "  (2,4)   => 191.9093203529304\n",
       "  (6,5)   => 206.3649916121843\n",
       "  (4,9)   => 653.8219651643093\n",
       "  (8,4)   => 635.954660177466\n",
       "  ⋮       => ⋮"
      ]
     },
     "execution_count": 27,
     "metadata": {},
     "output_type": "execute_result"
    }
   ],
   "source": [
    "demandsDictNew"
   ]
  },
  {
   "cell_type": "code",
   "execution_count": 28,
   "metadata": {
    "collapsed": false
   },
   "outputs": [
    {
     "data": {
      "text/plain": [
       "([2070.0,3510.0,2070.0,3150.0,3510.0,6240.91,2849.09,6284.98,9810.0,3900.91  …  7110.0,4410.0,12150.0,12150.0,7110.0,3854.98,7200.0,3885.02,2805.02,3929.09],12,30,132)"
      ]
     },
     "execution_count": 28,
     "metadata": {},
     "output_type": "execute_result"
    }
   ],
   "source": [
    "tapFlowVec = TAP(demands)[1]"
   ]
  },
  {
   "cell_type": "code",
   "execution_count": null,
   "metadata": {
    "collapsed": true
   },
   "outputs": [],
   "source": []
  }
 ],
 "metadata": {
  "kernelspec": {
   "display_name": "Julia 0.3.7",
   "language": "julia",
   "name": "julia-0.3"
  },
  "language_info": {
   "file_extension": ".jl",
   "mimetype": "application/julia",
   "name": "julia",
   "version": "0.3.7"
  }
 },
 "nbformat": 4,
 "nbformat_minor": 0
}
