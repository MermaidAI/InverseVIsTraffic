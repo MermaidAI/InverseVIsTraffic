{
 "cells": [
  {
   "cell_type": "code",
   "execution_count": 1,
   "metadata": {
    "collapsed": false
   },
   "outputs": [
    {
     "data": {
      "text/plain": [
       "TAP (generic function with 1 method)"
      ]
     },
     "execution_count": 1,
     "metadata": {},
     "output_type": "execute_result"
    }
   ],
   "source": [
    "require(\"prepare_data_Sioux_simp.jl\")\n",
    "require(\"demands_adjustment_Sioux_simp_gradi\")\n",
    "include(\"tap_Sioux_simp.jl\")"
   ]
  },
  {
   "cell_type": "code",
   "execution_count": 2,
   "metadata": {
    "collapsed": false
   },
   "outputs": [],
   "source": [
    "# load Jacobian\n",
    "jacobian = readall(\"jacobian.json\");\n",
    "jacobian = JSON.parse(jacobian);\n",
    "\n",
    "jacob = zeros(numODpairs, numLinks)\n",
    "for i = 1:numLinks\n",
    "    for j = 1:numODpairs\n",
    "        jacob[j, i] = jacobian[i][j]\n",
    "    end\n",
    "end"
   ]
  },
  {
   "cell_type": "code",
   "execution_count": 3,
   "metadata": {
    "collapsed": false
   },
   "outputs": [
    {
     "data": {
      "text/plain": [
       "132x30 Array{Float64,2}:\n",
       " -0.0   0.0   0.0  0.0   0.0  -0.0  0.0  …   1.0  -0.0  0.0   0.0  0.0   1.0\n",
       "  0.0   0.0   0.0  0.0   0.0   0.0  0.0      0.0   0.0  0.0   0.0  0.0   0.0\n",
       "  0.0  -1.0   0.0  0.0   0.0   0.0  0.0      1.0   0.0  0.0   1.0  0.0   0.0\n",
       " -1.0   0.0   0.0  0.0   0.0   0.0  0.0      0.0   0.0  0.0   0.0  0.0   0.0\n",
       "  0.0   0.0   0.0  0.0   0.0   1.0  0.0      0.0   1.0  0.0   0.0  0.0   0.0\n",
       "  0.0   0.0   0.0  0.0   0.0   0.0  0.0  …   1.0   0.0  0.0   0.0  0.0   0.0\n",
       "  0.0   0.0  -0.0  0.0   0.0   0.0  0.0      0.0   0.0  0.0  -0.0  0.0   0.0\n",
       " -1.0   0.0   1.0  0.0   0.0   0.0  0.0      0.0   1.0  0.0   0.0  0.0   0.0\n",
       "  0.0   0.0   0.0  0.0   0.0   0.0  0.0      0.0   0.0  0.0   0.0  0.0   0.0\n",
       "  0.0   0.0   0.0  0.0   0.0   0.0  0.0      0.0   0.0  0.0   0.0  0.0   0.0\n",
       " -1.0   0.0   0.0  0.0   0.0   0.0  0.0  …   0.0   0.0  0.0   0.0  0.0   1.0\n",
       "  0.0   0.0   1.0  0.0   0.0   0.0  0.0      0.0   0.0  0.0   0.0  0.0   0.0\n",
       "  0.0   0.0   0.0  0.0  -0.0   0.0  0.0     -0.0   0.0  0.0   0.0  0.0  -0.0\n",
       "  ⋮                            ⋮         ⋱         ⋮                        \n",
       " -0.0   1.0   0.0  0.0   0.0  -0.0  1.0  …   0.0  -0.0  0.0   0.0  0.0   0.0\n",
       "  0.0   0.0   0.0  0.0   0.0   0.0  0.0      0.0   0.0  0.0   0.0  0.0   0.0\n",
       "  0.0   0.0   0.0  0.0   0.0   0.0  0.0      0.0   0.0  0.0   0.0  1.0   0.0\n",
       "  0.0   0.0   0.0  0.0   0.0   0.0  0.0      0.0   0.0  0.0   0.0  0.0   0.0\n",
       "  0.0   0.0   0.0  0.0   0.0   0.0  0.0      0.0   0.0  0.0   1.0  0.0   0.0\n",
       "  0.0   0.0   0.0  0.0   0.0   1.0  0.0  …   0.0   0.0  0.0   0.0  1.0   0.0\n",
       "  0.0   0.0  -0.0  0.0   0.0   0.0  0.0      1.0   0.0  0.0  -0.0  0.0   0.0\n",
       " -1.0   0.0   1.0  0.0   0.0   0.0  0.0      0.0   0.0  0.0   0.0  0.0   0.0\n",
       "  0.0   0.0   1.0  0.0   0.0   1.0  0.0      0.0   1.0  0.0   0.0  0.0   0.0\n",
       "  0.0   0.0   0.0  1.0   0.0   0.0  0.0      1.0   0.0  0.0   0.0  1.0   0.0\n",
       " -1.0   1.0   0.0  0.0   0.0   0.0  1.0  …   0.0   0.0  0.0   0.0  0.0   0.0\n",
       "  0.0   0.0   1.0  0.0   0.0   1.0  0.0      0.0   0.0  1.0   0.0  0.0   1.0"
      ]
     },
     "execution_count": 3,
     "metadata": {},
     "output_type": "execute_result"
    }
   ],
   "source": [
    "jacob"
   ]
  },
  {
   "cell_type": "code",
   "execution_count": 4,
   "metadata": {
    "collapsed": false
   },
   "outputs": [
    {
     "data": {
      "text/plain": [
       "([2070.0,3510.0,2070.0,3150.0,3510.0,6240.91,2849.09,6284.98,9810.0,3900.91  …  7110.0,4410.0,12150.0,12150.0,7110.0,3854.98,7200.0,3885.02,2805.02,3929.09],[2300.0,3900.0,2300.0,3500.0,3900.0,7060.55,3039.45,7105.27,10650.3,4202.51  …  7900.0,5149.72,13758.0,13749.7,8158.04,4155.55,8249.72,4194.73,2994.73,4239.45])"
      ]
     },
     "execution_count": 4,
     "metadata": {},
     "output_type": "execute_result"
    }
   ],
   "source": [
    "x, x_0"
   ]
  },
  {
   "cell_type": "code",
   "execution_count": 5,
   "metadata": {
    "collapsed": false
   },
   "outputs": [],
   "source": [
    "# compute the gradient\n",
    "gradi_ = zeros(numODpairs)\n",
    "for i = 1:numODpairs\n",
    "    gradi_[i] = sum([2 * (x[j] - x_0[j]) * jacob[i, j] for j = 1:numLinks])\n",
    "end"
   ]
  },
  {
   "cell_type": "code",
   "execution_count": 6,
   "metadata": {
    "collapsed": false
   },
   "outputs": [
    {
     "data": {
      "text/plain": [
       "12"
      ]
     },
     "execution_count": 6,
     "metadata": {},
     "output_type": "execute_result"
    }
   ],
   "source": [
    "numNodes"
   ]
  },
  {
   "cell_type": "code",
   "execution_count": 7,
   "metadata": {
    "collapsed": false
   },
   "outputs": [],
   "source": [
    "OD_pair_label_dict = Dict()\n",
    "OD_pair_label_dict_ = Dict()\n",
    "label = 1\n",
    "for i = 1:numNodes\n",
    "    for j = 1:numNodes\n",
    "        if i != j\n",
    "            key = \"($(i), $(j))\"\n",
    "            OD_pair_label_dict[key] = label\n",
    "            OD_pair_label_dict_[label] = key\n",
    "            label += 1\n",
    "        end\n",
    "    end\n",
    "end"
   ]
  },
  {
   "cell_type": "code",
   "execution_count": 8,
   "metadata": {
    "collapsed": false
   },
   "outputs": [
    {
     "data": {
      "text/plain": [
       "\"(12, 11)\""
      ]
     },
     "execution_count": 8,
     "metadata": {},
     "output_type": "execute_result"
    }
   ],
   "source": [
    "OD_pair_label_dict_[numODpairs]"
   ]
  },
  {
   "cell_type": "code",
   "execution_count": 9,
   "metadata": {
    "collapsed": true
   },
   "outputs": [],
   "source": [
    "#load OD pair labels\n",
    "odPairLabel = readall(\"od_pair_label_dict_Sioux_simp_refined.json\");\n",
    "odPairLabel = JSON.parse(odPairLabel);\n",
    "\n",
    "odPairLabel_ = readall(\"od_pair_label_dict__Sioux_simp_refined.json\");\n",
    "odPairLabel_ = JSON.parse(odPairLabel_);"
   ]
  },
  {
   "cell_type": "code",
   "execution_count": 10,
   "metadata": {
    "collapsed": false
   },
   "outputs": [],
   "source": [
    "# ensure the consistency of dimensions\n",
    "\n",
    "gradi = zeros(numODpairs)\n",
    "\n",
    "for i = 1:numODpairs\n",
    "    if ~(\"($(odPairLabel_[\"$(i)\"][1]), $(odPairLabel_[\"$(i)\"][2]))\" in keys(OD_pair_label_dict))\n",
    "        gradi[i] = 0\n",
    "    else\n",
    "        gradi[i] = gradi_[OD_pair_label_dict[\"($(odPairLabel_[\"$(i)\"][1]), $(odPairLabel_[\"$(i)\"][2]))\"]]\n",
    "    end\n",
    "end"
   ]
  },
  {
   "cell_type": "code",
   "execution_count": 11,
   "metadata": {
    "collapsed": false
   },
   "outputs": [
    {
     "data": {
      "text/plain": [
       "144"
      ]
     },
     "execution_count": 11,
     "metadata": {},
     "output_type": "execute_result"
    }
   ],
   "source": [
    "length(demands)"
   ]
  },
  {
   "cell_type": "code",
   "execution_count": 12,
   "metadata": {
    "collapsed": false
   },
   "outputs": [],
   "source": [
    "# for convenience of computing the new demand vector\n",
    "demandsVec = zeros(length(odPairLabel_))\n",
    "\n",
    "for i = 1:length(demandsVec)\n",
    "    demandsVec[i] = demands[(odPairLabel_[\"$i\"][1], odPairLabel_[\"$i\"][2])]\n",
    "end"
   ]
  },
  {
   "cell_type": "code",
   "execution_count": 13,
   "metadata": {
    "collapsed": false
   },
   "outputs": [
    {
     "data": {
      "text/plain": [
       "132-element Array{Float64,1}:\n",
       "  100.0\n",
       "  100.0\n",
       "  500.0\n",
       "  200.0\n",
       "  300.0\n",
       "  500.0\n",
       "  800.0\n",
       "  500.0\n",
       " 1300.0\n",
       "  500.0\n",
       "  200.0\n",
       "  100.0\n",
       "  100.0\n",
       "    ⋮  \n",
       " 1400.0\n",
       "  200.0\n",
       "  100.0\n",
       "  200.0\n",
       "  600.0\n",
       "  200.0\n",
       "  200.0\n",
       "  700.0\n",
       "  600.0\n",
       "  600.0\n",
       " 2000.0\n",
       " 1400.0"
      ]
     },
     "execution_count": 13,
     "metadata": {},
     "output_type": "execute_result"
    }
   ],
   "source": [
    "demandsVec"
   ]
  },
  {
   "cell_type": "code",
   "execution_count": 14,
   "metadata": {
    "collapsed": false
   },
   "outputs": [
    {
     "data": {
      "text/plain": [
       "Dict{(Int64,Int64),Float64} with 144 entries:\n",
       "  (8,10)  => 1600.0\n",
       "  (9,5)   => 800.0\n",
       "  (3,6)   => 300.0\n",
       "  (10,5)  => 1000.0\n",
       "  (6,9)   => 400.0\n",
       "  (12,4)  => 600.0\n",
       "  (4,4)   => 0.0\n",
       "  (9,4)   => 700.0\n",
       "  (10,11) => 4000.0\n",
       "  (8,9)   => 800.0\n",
       "  (9,1)   => 500.0\n",
       "  (11,1)  => 500.0\n",
       "  (8,11)  => 800.0\n",
       "  (3,1)   => 100.0\n",
       "  (1,10)  => 1300.0\n",
       "  (1,12)  => 200.0\n",
       "  (12,7)  => 700.0\n",
       "  (4,5)   => 500.0\n",
       "  (9,9)   => 0.0\n",
       "  (11,8)  => 800.0\n",
       "  (12,8)  => 600.0\n",
       "  (2,4)   => 200.0\n",
       "  (6,5)   => 200.0\n",
       "  (4,9)   => 700.0\n",
       "  (8,4)   => 700.0\n",
       "  ⋮       => ⋮"
      ]
     },
     "execution_count": 14,
     "metadata": {},
     "output_type": "execute_result"
    }
   ],
   "source": [
    "demands"
   ]
  },
  {
   "cell_type": "code",
   "execution_count": 15,
   "metadata": {
    "collapsed": false
   },
   "outputs": [],
   "source": [
    "# convert the demand data into dictionary; for convenience of solving the TAP problem and the inverse VI problem\n",
    "\n",
    "demandsDict = Dict{(Int64,Int64), Float64}()\n",
    "\n",
    "for key = [(int(split(key, \", \")[1][2:end]), int(split(key, \", \")[2][1:end-1])) for key = keys(odPairLabel)]\n",
    "    demandsDict[key] = demandsVec[odPairLabel[\"($(key[1]), $(key[2]))\"]]\n",
    "end"
   ]
  },
  {
   "cell_type": "code",
   "execution_count": 16,
   "metadata": {
    "collapsed": false
   },
   "outputs": [
    {
     "data": {
      "text/plain": [
       "Dict{(Int64,Int64),Float64} with 132 entries:\n",
       "  (3,8)   => 200.0\n",
       "  (9,5)   => 800.0\n",
       "  (3,6)   => 300.0\n",
       "  (10,5)  => 1000.0\n",
       "  (6,9)   => 400.0\n",
       "  (12,4)  => 600.0\n",
       "  (11,1)  => 500.0\n",
       "  (9,4)   => 700.0\n",
       "  (10,11) => 4000.0\n",
       "  (8,9)   => 800.0\n",
       "  (9,1)   => 500.0\n",
       "  (8,11)  => 800.0\n",
       "  (3,1)   => 100.0\n",
       "  (1,10)  => 1300.0\n",
       "  (1,12)  => 200.0\n",
       "  (12,7)  => 700.0\n",
       "  (4,5)   => 500.0\n",
       "  (11,8)  => 800.0\n",
       "  (12,8)  => 600.0\n",
       "  (2,4)   => 200.0\n",
       "  (6,5)   => 200.0\n",
       "  (4,9)   => 700.0\n",
       "  (8,4)   => 700.0\n",
       "  (9,2)   => 200.0\n",
       "  (1,2)   => 100.0\n",
       "  ⋮       => ⋮"
      ]
     },
     "execution_count": 16,
     "metadata": {},
     "output_type": "execute_result"
    }
   ],
   "source": [
    "demandsDict"
   ]
  },
  {
   "cell_type": "code",
   "execution_count": 17,
   "metadata": {
    "collapsed": false
   },
   "outputs": [
    {
     "data": {
      "text/plain": [
       "132-element Array{Float64,1}:\n",
       "  -4212.86      \n",
       "  -6880.0       \n",
       "  -4296.04      \n",
       "    460.0       \n",
       " -11983.8       \n",
       "  -3396.07      \n",
       "      0.0       \n",
       "  -3845.07      \n",
       "  -3479.45      \n",
       "     -0.0       \n",
       "  -3404.65      \n",
       "  -3400.59      \n",
       "      0.0       \n",
       "      ⋮         \n",
       "  -3621.27      \n",
       "     -0.0       \n",
       "  -3359.96      \n",
       "     -0.0       \n",
       "  -1919.41      \n",
       "  -8198.69      \n",
       "  -2096.07      \n",
       "      2.46018e-9\n",
       "  -2700.43      \n",
       "  -8755.48      \n",
       "  -4640.72      \n",
       "  -6483.37      "
      ]
     },
     "execution_count": 17,
     "metadata": {},
     "output_type": "execute_result"
    }
   ],
   "source": [
    "gradi"
   ]
  },
  {
   "cell_type": "code",
   "execution_count": 18,
   "metadata": {
    "collapsed": false
   },
   "outputs": [],
   "source": [
    "# compute a descent direction\n",
    "\n",
    "r = similar(gradi)\n",
    "for i = 1:length(gradi)\n",
    "    r[i] = -1 * gradi[i]\n",
    "end"
   ]
  },
  {
   "cell_type": "code",
   "execution_count": 19,
   "metadata": {
    "collapsed": false
   },
   "outputs": [
    {
     "data": {
      "text/plain": [
       "132-element Array{Float64,1}:\n",
       "  4212.86      \n",
       "  6880.0       \n",
       "  4296.04      \n",
       "  -460.0       \n",
       " 11983.8       \n",
       "  3396.07      \n",
       "    -0.0       \n",
       "  3845.07      \n",
       "  3479.45      \n",
       "     0.0       \n",
       "  3404.65      \n",
       "  3400.59      \n",
       "    -0.0       \n",
       "     ⋮         \n",
       "  3621.27      \n",
       "     0.0       \n",
       "  3359.96      \n",
       "     0.0       \n",
       "  1919.41      \n",
       "  8198.69      \n",
       "  2096.07      \n",
       "    -2.46018e-9\n",
       "  2700.43      \n",
       "  8755.48      \n",
       "  4640.72      \n",
       "  6483.37      "
      ]
     },
     "execution_count": 19,
     "metadata": {},
     "output_type": "execute_result"
    }
   ],
   "source": [
    "r"
   ]
  },
  {
   "cell_type": "code",
   "execution_count": 20,
   "metadata": {
    "collapsed": false
   },
   "outputs": [],
   "source": [
    "# compute a search direction\n",
    "\n",
    "r_ = similar(r)\n",
    "for i = 1:length(r)\n",
    "    if (demandsVec[i] > 20) || (demandsVec[i] <= 20 && r[i] > 0)\n",
    "        r_[i] = r[i]\n",
    "    else\n",
    "        r_[i] = 0\n",
    "    end\n",
    "end"
   ]
  },
  {
   "cell_type": "code",
   "execution_count": 21,
   "metadata": {
    "collapsed": false
   },
   "outputs": [
    {
     "data": {
      "text/plain": [
       "132-element Array{Float64,1}:\n",
       "  4212.86      \n",
       "  6880.0       \n",
       "  4296.04      \n",
       "  -460.0       \n",
       " 11983.8       \n",
       "  3396.07      \n",
       "    -0.0       \n",
       "  3845.07      \n",
       "  3479.45      \n",
       "     0.0       \n",
       "  3404.65      \n",
       "  3400.59      \n",
       "    -0.0       \n",
       "     ⋮         \n",
       "  3621.27      \n",
       "     0.0       \n",
       "  3359.96      \n",
       "     0.0       \n",
       "  1919.41      \n",
       "  8198.69      \n",
       "  2096.07      \n",
       "    -2.46018e-9\n",
       "  2700.43      \n",
       "  8755.48      \n",
       "  4640.72      \n",
       "  6483.37      "
      ]
     },
     "execution_count": 21,
     "metadata": {},
     "output_type": "execute_result"
    }
   ],
   "source": [
    "r_"
   ]
  },
  {
   "cell_type": "code",
   "execution_count": 22,
   "metadata": {
    "collapsed": false
   },
   "outputs": [
    {
     "data": {
      "text/plain": [
       "0.33918950375054446"
      ]
     },
     "execution_count": 22,
     "metadata": {},
     "output_type": "execute_result"
    }
   ],
   "source": [
    "# line search\n",
    "\n",
    "alphaList = Float64[]\n",
    "\n",
    "for i = 1:length(r_)\n",
    "    if r_[i] < 0\n",
    "        push!(alphaList, -demandsVec[i]/r_[i])\n",
    "    end\n",
    "end\n",
    "\n",
    "alpha_max = minimum(alphaList)"
   ]
  },
  {
   "cell_type": "code",
   "execution_count": 23,
   "metadata": {
    "collapsed": false
   },
   "outputs": [
    {
     "data": {
      "text/plain": [
       "132"
      ]
     },
     "execution_count": 23,
     "metadata": {},
     "output_type": "execute_result"
    }
   ],
   "source": [
    "length(r_)"
   ]
  },
  {
   "cell_type": "code",
   "execution_count": 24,
   "metadata": {
    "collapsed": false
   },
   "outputs": [],
   "source": [
    "# update\n",
    "\n",
    "demandsVecNew = similar(demandsVec)\n",
    "for i = 1:length(demandsVec)\n",
    "    demandsVecNew[i] = demandsVec[i] + (alpha_max / 81) * r_[i] \n",
    "end"
   ]
  },
  {
   "cell_type": "code",
   "execution_count": 25,
   "metadata": {
    "collapsed": false
   },
   "outputs": [
    {
     "data": {
      "text/plain": [
       "132-element Array{Float64,1}:\n",
       "  117.641\n",
       "  128.81 \n",
       "  517.99 \n",
       "  198.074\n",
       "  350.182\n",
       "  514.221\n",
       "  800.0  \n",
       "  516.101\n",
       " 1314.57 \n",
       "  500.0  \n",
       "  214.257\n",
       "  114.24 \n",
       "  100.0  \n",
       "    ⋮    \n",
       " 1415.16 \n",
       "  200.0  \n",
       "  114.07 \n",
       "  200.0  \n",
       "  608.038\n",
       "  234.332\n",
       "  208.777\n",
       "  700.0  \n",
       "  611.308\n",
       "  636.664\n",
       " 2019.43 \n",
       " 1427.15 "
      ]
     },
     "execution_count": 25,
     "metadata": {},
     "output_type": "execute_result"
    }
   ],
   "source": [
    "demandsVecNew"
   ]
  },
  {
   "cell_type": "code",
   "execution_count": 26,
   "metadata": {
    "collapsed": true
   },
   "outputs": [],
   "source": [
    "# convert the demand data into dictionary; for convenience of solving the TAP problem and the inverse VI problem\n",
    "\n",
    "demandsDictNew = Dict{(Int64,Int64), Float64}()\n",
    "\n",
    "for key = [(int(split(key, \", \")[1][2:end]), int(split(key, \", \")[2][1:end-1])) for key = keys(odPairLabel)]\n",
    "    demandsDictNew[key] = demandsVecNew[odPairLabel[\"($(key[1]), $(key[2]))\"]]\n",
    "end\n",
    "\n",
    "for i=1:numNodes\n",
    "    key = (i,i)\n",
    "    demandsDictNew[key] = 0\n",
    "end"
   ]
  },
  {
   "cell_type": "code",
   "execution_count": 27,
   "metadata": {
    "collapsed": false
   },
   "outputs": [
    {
     "data": {
      "text/plain": [
       "Dict{(Int64,Int64),Float64} with 144 entries:\n",
       "  (3,8)   => 210.2011110559348\n",
       "  (9,5)   => 808.6261473007821\n",
       "  (3,6)   => 318.442244402921\n",
       "  (10,5)  => 1009.4639595675221\n",
       "  (6,9)   => 405.35987800475436\n",
       "  (12,4)  => 608.0375725045335\n",
       "  (4,4)   => 0.0\n",
       "  (11,1)  => 497.1524831787349\n",
       "  (9,4)   => 701.9262613799931\n",
       "  (10,11) => 4016.847291161965\n",
       "  (8,9)   => 800.0\n",
       "  (9,1)   => 500.0\n",
       "  (8,11)  => 838.1744625587004\n",
       "  (3,1)   => 105.9602594398481\n",
       "  (1,10)  => 1314.570264755785\n",
       "  (1,12)  => 214.2570409956566\n",
       "  (12,7)  => 699.9999999999897\n",
       "  (4,5)   => 509.7203863089406\n",
       "  (11,8)  => 802.9312673161477\n",
       "  (9,9)   => 0.0\n",
       "  (12,8)  => 611.308105529695\n",
       "  (2,4)   => 213.23257816992265\n",
       "  (6,5)   => 229.2944351246492\n",
       "  (4,9)   => 726.4688501825659\n",
       "  (8,4)   => 706.6162890860734\n",
       "  ⋮       => ⋮"
      ]
     },
     "execution_count": 27,
     "metadata": {},
     "output_type": "execute_result"
    }
   ],
   "source": [
    "demandsDictNew"
   ]
  },
  {
   "cell_type": "code",
   "execution_count": 30,
   "metadata": {
    "collapsed": false
   },
   "outputs": [
    {
     "data": {
      "text/plain": [
       "30-element Array{Float64,1}:\n",
       "  2300.0 \n",
       "  3900.0 \n",
       "  2300.0 \n",
       "  3500.0 \n",
       "  3900.0 \n",
       "  7060.55\n",
       "  3039.45\n",
       "  7105.27\n",
       " 10650.3 \n",
       "  4202.51\n",
       " 10642.0 \n",
       "  8050.28\n",
       "  7900.0 \n",
       "     ⋮   \n",
       "  6500.0 \n",
       "  5158.04\n",
       "  7900.0 \n",
       "  5149.72\n",
       " 13758.0 \n",
       " 13749.7 \n",
       "  8158.04\n",
       "  4155.55\n",
       "  8249.72\n",
       "  4194.73\n",
       "  2994.73\n",
       "  4239.45"
      ]
     },
     "execution_count": 30,
     "metadata": {},
     "output_type": "execute_result"
    }
   ],
   "source": [
    "tapFlowVect = TAP(demands)"
   ]
  },
  {
   "cell_type": "code",
   "execution_count": 31,
   "metadata": {
    "collapsed": false
   },
   "outputs": [
    {
     "data": {
      "text/plain": [
       "Dict{(Int64,Int64),Float64} with 144 entries:\n",
       "  (8,10)  => 1600.0\n",
       "  (9,5)   => 800.0\n",
       "  (3,6)   => 300.0\n",
       "  (10,5)  => 1000.0\n",
       "  (6,9)   => 400.0\n",
       "  (12,4)  => 600.0\n",
       "  (4,4)   => 0.0\n",
       "  (9,4)   => 700.0\n",
       "  (10,11) => 4000.0\n",
       "  (8,9)   => 800.0\n",
       "  (9,1)   => 500.0\n",
       "  (11,1)  => 500.0\n",
       "  (8,11)  => 800.0\n",
       "  (3,1)   => 100.0\n",
       "  (1,10)  => 1300.0\n",
       "  (1,12)  => 200.0\n",
       "  (12,7)  => 700.0\n",
       "  (4,5)   => 500.0\n",
       "  (9,9)   => 0.0\n",
       "  (11,8)  => 800.0\n",
       "  (12,8)  => 600.0\n",
       "  (2,4)   => 200.0\n",
       "  (6,5)   => 200.0\n",
       "  (4,9)   => 700.0\n",
       "  (8,4)   => 700.0\n",
       "  ⋮       => ⋮"
      ]
     },
     "execution_count": 31,
     "metadata": {},
     "output_type": "execute_result"
    }
   ],
   "source": [
    "demands"
   ]
  },
  {
   "cell_type": "code",
   "execution_count": null,
   "metadata": {
    "collapsed": true
   },
   "outputs": [],
   "source": []
  }
 ],
 "metadata": {
  "kernelspec": {
   "display_name": "Julia 0.3.7",
   "language": "julia",
   "name": "julia-0.3"
  },
  "language_info": {
   "file_extension": ".jl",
   "mimetype": "application/julia",
   "name": "julia",
   "version": "0.3.7"
  }
 },
 "nbformat": 4,
 "nbformat_minor": 0
}
