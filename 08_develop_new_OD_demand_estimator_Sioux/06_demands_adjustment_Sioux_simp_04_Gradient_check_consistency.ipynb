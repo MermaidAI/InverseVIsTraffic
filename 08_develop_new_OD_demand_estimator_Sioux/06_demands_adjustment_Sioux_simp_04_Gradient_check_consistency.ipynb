{
 "cells": [
  {
   "cell_type": "code",
   "execution_count": 1,
   "metadata": {
    "collapsed": true
   },
   "outputs": [],
   "source": [
    "using JSON"
   ]
  },
  {
   "cell_type": "code",
   "execution_count": 2,
   "metadata": {
    "collapsed": false
   },
   "outputs": [],
   "source": [
    "# load Jacobian\n",
    "jacobian_backup_2 = readall(\"jacobian_backup_2.json\");\n",
    "jacobian_backup_2 = JSON.parse(jacobian_backup_2);\n",
    "\n",
    "jacob_backup_2 = zeros(132, 30)\n",
    "for i = 1:30\n",
    "    for j = 1:132\n",
    "        jacob_backup_2[j, i] = jacobian_backup_2[i][j]\n",
    "    end\n",
    "end"
   ]
  },
  {
   "cell_type": "code",
   "execution_count": 3,
   "metadata": {
    "collapsed": false
   },
   "outputs": [],
   "source": [
    "# load Jacobian\n",
    "jacobian_backup = readall(\"jacobian_backup.json\");\n",
    "jacobian_backup = JSON.parse(jacobian_backup);\n",
    "\n",
    "jacob_backup = zeros(132, 30)\n",
    "for i = 1:30\n",
    "    for j = 1:132\n",
    "        jacob_backup[j, i] = jacobian_backup[i][j]\n",
    "    end\n",
    "end"
   ]
  },
  {
   "cell_type": "code",
   "execution_count": 4,
   "metadata": {
    "collapsed": false
   },
   "outputs": [],
   "source": [
    "# load Jacobian\n",
    "jacobian = readall(\"jacobian.json\");\n",
    "jacobian = JSON.parse(jacobian);\n",
    "\n",
    "jacob = zeros(132, 30)\n",
    "for i = 1:30\n",
    "    for j = 1:132\n",
    "        jacob[j, i] = jacobian[i][j]\n",
    "    end\n",
    "end"
   ]
  },
  {
   "cell_type": "code",
   "execution_count": 5,
   "metadata": {
    "collapsed": false
   },
   "outputs": [
    {
     "data": {
      "text/plain": [
       "true"
      ]
     },
     "execution_count": 5,
     "metadata": {},
     "output_type": "execute_result"
    }
   ],
   "source": [
    "jacob == jacob_backup"
   ]
  },
  {
   "cell_type": "code",
   "execution_count": 6,
   "metadata": {
    "collapsed": false
   },
   "outputs": [
    {
     "data": {
      "text/plain": [
       "true"
      ]
     },
     "execution_count": 6,
     "metadata": {},
     "output_type": "execute_result"
    }
   ],
   "source": [
    "jacob == jacob_backup_2"
   ]
  },
  {
   "cell_type": "code",
   "execution_count": 7,
   "metadata": {
    "collapsed": false
   },
   "outputs": [
    {
     "data": {
      "text/plain": [
       "true"
      ]
     },
     "execution_count": 7,
     "metadata": {},
     "output_type": "execute_result"
    }
   ],
   "source": [
    "jacob_backup == jacob_backup_2"
   ]
  },
  {
   "cell_type": "code",
   "execution_count": null,
   "metadata": {
    "collapsed": true
   },
   "outputs": [],
   "source": []
  }
 ],
 "metadata": {
  "kernelspec": {
   "display_name": "Julia 0.3.7",
   "language": "julia",
   "name": "julia-0.3"
  },
  "language_info": {
   "file_extension": ".jl",
   "mimetype": "application/julia",
   "name": "julia",
   "version": "0.3.7"
  }
 },
 "nbformat": 4,
 "nbformat_minor": 0
}
