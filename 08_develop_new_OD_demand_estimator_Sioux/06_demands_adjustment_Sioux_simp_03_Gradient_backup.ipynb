{
 "cells": [
  {
   "cell_type": "code",
   "execution_count": 1,
   "metadata": {
    "collapsed": false
   },
   "outputs": [],
   "source": [
    "# addprocs(7)  # parallel computing"
   ]
  },
  {
   "cell_type": "code",
   "execution_count": 2,
   "metadata": {
    "collapsed": false
   },
   "outputs": [],
   "source": [
    "include(\"prepare_data_Sioux_simp.jl\");\n",
    "include(\"extract_data.jl\");\n",
    "include(\"tap_MSA_Sioux_simp.jl\");\n",
    "include(\"demands_adjustment_Sioux_simp_gradi.jl\");"
   ]
  },
  {
   "cell_type": "code",
   "execution_count": 3,
   "metadata": {
    "collapsed": true
   },
   "outputs": [],
   "source": [
    "fcoeffs = [1, 0, 0, 0, .15];"
   ]
  },
  {
   "cell_type": "code",
   "execution_count": 4,
   "metadata": {
    "collapsed": false
   },
   "outputs": [],
   "source": [
    "tapFlowVecDict = Dict{Int64, Array{Float64, 1}}();\n",
    "tapFlowDicDict = Dict{Int64, Dict{(Int64,Int64),Float64}}();"
   ]
  },
  {
   "cell_type": "code",
   "execution_count": 5,
   "metadata": {
    "collapsed": false
   },
   "outputs": [],
   "source": [
    "# get observed flow vector (corresponding to ground truth demands)\n",
    "tapFlowDicDict[0], tapFlowVecDict[0] = tapMSA(demandsDict[0], fcoeffs);"
   ]
  },
  {
   "cell_type": "code",
   "execution_count": 6,
   "metadata": {
    "collapsed": false
   },
   "outputs": [],
   "source": [
    "# get initial flow vector (corresponding to initial demands)\n",
    "tapFlowDicDict[1], tapFlowVecDict[1] = tapMSA(demandsDict[1], fcoeffs);"
   ]
  },
  {
   "cell_type": "code",
   "execution_count": 7,
   "metadata": {
    "collapsed": false
   },
   "outputs": [],
   "source": [
    "jacobDict = Dict{Int64, Array{Float64}}();\n",
    "\n",
    "jacobDict[1] = jacobian(tapFlowVecDict[1], fcoeffs, capacity, free_flow_time, numLinks, numODpairs, \n",
    "numRoutes, linkRoute, odPairRoute);"
   ]
  },
  {
   "cell_type": "code",
   "execution_count": 8,
   "metadata": {
    "collapsed": false
   },
   "outputs": [],
   "source": [
    "jacobDict;"
   ]
  },
  {
   "cell_type": "code",
   "execution_count": 9,
   "metadata": {
    "collapsed": false
   },
   "outputs": [],
   "source": [
    "descDirecDict = Dict{Int64, Array{Float64,1}}();\n",
    "descDirecDict[1] = descDirec(tapFlowVecDict[1], tapFlowVecDict[0], jacobDict[1], numODpairs, numLinks);"
   ]
  },
  {
   "cell_type": "code",
   "execution_count": 10,
   "metadata": {
    "collapsed": false
   },
   "outputs": [],
   "source": [
    "demandsVecDict = Dict{Int64, Array{Float64,1}}();\n",
    "demandsVecDict[0] = demandsDicToVec(demandsDict[0]);\n",
    "demandsVecDict[1] = demandsDicToVec(demandsDict[1]);"
   ]
  },
  {
   "cell_type": "code",
   "execution_count": 11,
   "metadata": {
    "collapsed": false
   },
   "outputs": [],
   "source": [
    "searchDirecDict = Dict{Int64, Array{Float64,1}}();\n",
    "searchDirecDict[1] = searchDirec(demandsVecDict[1], descDirecDict[1], 20);"
   ]
  },
  {
   "cell_type": "code",
   "execution_count": 12,
   "metadata": {
    "collapsed": false
   },
   "outputs": [],
   "source": [
    "thetaMaxDict = Dict{Int64, Float64}();\n",
    "thetaMaxDict[1] = thetaMax(demandsVecDict[1], searchDirecDict[1]);"
   ]
  },
  {
   "cell_type": "code",
   "execution_count": 13,
   "metadata": {
    "collapsed": false
   },
   "outputs": [],
   "source": [
    "objFunDict = Dict{Int64, Float64}();\n",
    "objFunDict[1] = objF(demandsVecDict[1]);"
   ]
  },
  {
   "cell_type": "code",
   "execution_count": 14,
   "metadata": {
    "collapsed": false
   },
   "outputs": [],
   "source": [
    "demandsVecDict[2] = similar(demandsVecDict[0]);\n",
    "demandsVecDict[2], objFunDict[2] = armijo(demandsVecDict[1], searchDirecDict[1], thetaMaxDict[1], 2, 10);"
   ]
  },
  {
   "cell_type": "code",
   "execution_count": 15,
   "metadata": {
    "collapsed": false
   },
   "outputs": [
    {
     "data": {
      "text/plain": [
       "Dict{Int64,Array{Float64,1}} with 3 entries:\n",
       "  0 => [100.0,100.0,500.0,200.0,300.0,500.0,800.0,500.0,1300.0,500.0,200.0,100.0…\n",
       "  2 => [92.1524415098556,99.57852133783419,493.82913760219856,190.2551932127423,…\n",
       "  1 => [94.66405926995482,98.67525166987629,503.9914657537483,188.2389715867282,…"
      ]
     },
     "execution_count": 15,
     "metadata": {},
     "output_type": "execute_result"
    }
   ],
   "source": [
    "demandsVecDict"
   ]
  },
  {
   "cell_type": "code",
   "execution_count": 16,
   "metadata": {
    "collapsed": false
   },
   "outputs": [
    {
     "data": {
      "text/plain": [
       "Dict{Int64,Float64} with 2 entries:\n",
       "  2 => 308910.85799380176\n",
       "  1 => 359156.1146109561"
      ]
     },
     "execution_count": 16,
     "metadata": {},
     "output_type": "execute_result"
    }
   ],
   "source": [
    "objFunDict"
   ]
  },
  {
   "cell_type": "code",
   "execution_count": null,
   "metadata": {
    "collapsed": true
   },
   "outputs": [],
   "source": []
  }
 ],
 "metadata": {
  "kernelspec": {
   "display_name": "Julia 0.3.7",
   "language": "julia",
   "name": "julia-0.3"
  },
  "language_info": {
   "file_extension": ".jl",
   "mimetype": "application/julia",
   "name": "julia",
   "version": "0.3.7"
  }
 },
 "nbformat": 4,
 "nbformat_minor": 0
}
