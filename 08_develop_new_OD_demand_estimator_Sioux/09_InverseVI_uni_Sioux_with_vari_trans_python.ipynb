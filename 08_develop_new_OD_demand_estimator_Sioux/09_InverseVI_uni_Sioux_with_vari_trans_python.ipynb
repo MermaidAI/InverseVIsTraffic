{
 "cells": [
  {
   "cell_type": "markdown",
   "metadata": {},
   "source": [
    "## Solve an inverse tarffic problem over polynomials of degree at most d\n",
    "\n",
    "## Optionally use a regularizer from the poly kernel"
   ]
  },
  {
   "cell_type": "code",
   "execution_count": 1,
   "metadata": {
    "collapsed": false
   },
   "outputs": [
    {
     "name": "stdout",
     "output_type": "stream",
     "text": [
      "No dicts found; please check load_dicts...\n"
     ]
    }
   ],
   "source": [
    "%run ../Python_files/util.py"
   ]
  },
  {
   "cell_type": "code",
   "execution_count": 2,
   "metadata": {
    "collapsed": true
   },
   "outputs": [],
   "source": [
    "import json"
   ]
  },
  {
   "cell_type": "code",
   "execution_count": 3,
   "metadata": {
    "collapsed": true
   },
   "outputs": [],
   "source": [
    "# read in node-link incidence matrtix\n",
    "with open('node_link_incidence_Sioux.json', 'r') as json_file:\n",
    "    N_dict = json.load(json_file)\n",
    "    \n",
    "N = zload('node_link_incidence_Sioux.pkz')"
   ]
  },
  {
   "cell_type": "code",
   "execution_count": 4,
   "metadata": {
    "collapsed": false
   },
   "outputs": [
    {
     "data": {
      "text/plain": [
       "(24, 76)"
      ]
     },
     "execution_count": 4,
     "metadata": {},
     "output_type": "execute_result"
    }
   ],
   "source": [
    "N.shape"
   ]
  },
  {
   "cell_type": "code",
   "execution_count": 5,
   "metadata": {
    "collapsed": true
   },
   "outputs": [],
   "source": [
    "# bpr cost\n",
    "def g_true(t):\n",
    "    return 1 + 0.15 * (t ** 4)"
   ]
  },
  {
   "cell_type": "code",
   "execution_count": 6,
   "metadata": {
    "collapsed": true
   },
   "outputs": [],
   "source": [
    "# define polynomial kernel with degree d\n",
    "def kernel(x, y, c, d):\n",
    "    return (c + x*y) ** d"
   ]
  },
  {
   "cell_type": "code",
   "execution_count": 7,
   "metadata": {
    "collapsed": true
   },
   "outputs": [],
   "source": [
    "capac_list = []\n",
    "free_flow_time_list = []\n",
    "capac_dict = {}\n",
    "free_flow_time_dict = {}\n",
    "\n",
    "with open('SiouxFalls_net.txt', 'r') as f:\n",
    "    read_data = f.readlines()\n",
    "\n",
    "for row in read_data:\n",
    "    if len(row.split()) == 11:\n",
    "        key = row.split()[0] + ',' + row.split()[1]\n",
    "        capac_list.append(float(row.split()[2]))\n",
    "        free_flow_time_list.append(float(row.split()[3]))\n",
    "        capac_dict[key] = float(row.split()[2])\n",
    "        free_flow_time_dict[key] = float(row.split()[3])"
   ]
  },
  {
   "cell_type": "code",
   "execution_count": 8,
   "metadata": {
    "collapsed": true
   },
   "outputs": [],
   "source": [
    "numNode = N.shape[0]\n",
    "numLink = N.shape[1]\n",
    "assert(numLink == len(capac_list))"
   ]
  },
  {
   "cell_type": "code",
   "execution_count": 9,
   "metadata": {
    "collapsed": false
   },
   "outputs": [],
   "source": [
    "flow_list = []\n",
    "flow_dict = {}\n",
    "\n",
    "with open('SiouxFallsFlow.txt', 'r') as f:\n",
    "    read_data = f.readlines()\n",
    "\n",
    "for row in read_data:\n",
    "    if len(row.split()) == 4:\n",
    "        key = row.split()[0] + ',' + row.split()[1]\n",
    "        flow_list.append(float(row.split()[2]))\n",
    "        flow_dict[key] = float(row.split()[2])\n",
    "#         print(row.split())"
   ]
  },
  {
   "cell_type": "code",
   "execution_count": 10,
   "metadata": {
    "collapsed": true
   },
   "outputs": [],
   "source": [
    "flow_normalized = [flow_list[i]/capac_list[i] for i in range(numLink)]"
   ]
  },
  {
   "cell_type": "code",
   "execution_count": 11,
   "metadata": {
    "collapsed": true
   },
   "outputs": [],
   "source": [
    "# construct kernel matrix; take d=5 for instance\n",
    "c = 1.0\n",
    "d = 4\n",
    "\n",
    "phi = np.zeros((numLink, numLink))\n",
    "for i in range(numLink):\n",
    "    for j in range(numLink):\n",
    "        phi[i, j] = kernel(flow_normalized[i], flow_normalized[j], c, d)"
   ]
  },
  {
   "cell_type": "code",
   "execution_count": 12,
   "metadata": {
    "collapsed": false
   },
   "outputs": [
    {
     "data": {
      "text/plain": [
       "(76, 76)"
      ]
     },
     "execution_count": 12,
     "metadata": {},
     "output_type": "execute_result"
    }
   ],
   "source": [
    "phi.shape"
   ]
  },
  {
   "cell_type": "code",
   "execution_count": 13,
   "metadata": {
    "collapsed": false
   },
   "outputs": [
    {
     "data": {
      "text/plain": [
       "5"
      ]
     },
     "execution_count": 13,
     "metadata": {},
     "output_type": "execute_result"
    }
   ],
   "source": [
    "np.linalg.matrix_rank(phi)"
   ]
  },
  {
   "cell_type": "code",
   "execution_count": 14,
   "metadata": {
    "collapsed": true
   },
   "outputs": [],
   "source": [
    "# read in demand data\n",
    "with open('demands_Sioux.json', 'r') as json_file:\n",
    "    demands = json.load(json_file)"
   ]
  },
  {
   "cell_type": "code",
   "execution_count": 15,
   "metadata": {
    "collapsed": false
   },
   "outputs": [],
   "source": [
    "od_list = []\n",
    "for i in range(numNode + 1)[1:]:\n",
    "    for j in range(numNode + 1)[1:]:\n",
    "        if i != j:\n",
    "            key = '(' + str(i) + ',' + str(j) + ')'\n",
    "            od_list.append(key)"
   ]
  },
  {
   "cell_type": "code",
   "execution_count": 16,
   "metadata": {
    "collapsed": false
   },
   "outputs": [
    {
     "data": {
      "text/plain": [
       "(24, 76)"
      ]
     },
     "execution_count": 16,
     "metadata": {},
     "output_type": "execute_result"
    }
   ],
   "source": [
    "N.shape"
   ]
  },
  {
   "cell_type": "code",
   "execution_count": 17,
   "metadata": {
    "collapsed": false
   },
   "outputs": [],
   "source": [
    "N_t = np.transpose(N)"
   ]
  },
  {
   "cell_type": "code",
   "execution_count": 18,
   "metadata": {
    "collapsed": false
   },
   "outputs": [
    {
     "data": {
      "text/plain": [
       "(76, 24)"
      ]
     },
     "execution_count": 18,
     "metadata": {},
     "output_type": "execute_result"
    }
   ],
   "source": [
    "N_t.shape"
   ]
  },
  {
   "cell_type": "code",
   "execution_count": 19,
   "metadata": {
    "collapsed": true
   },
   "outputs": [],
   "source": [
    "model = Model(\"InverseVI_Sioux\")\n",
    "\n",
    "alpha = {}\n",
    "for i in range(numLink):\n",
    "    key = str(i)\n",
    "    alpha[key] = model.addVar(name='alpha_' + key)\n",
    "    \n",
    "epsilon = model.addVar(name='epsilon')\n",
    "\n",
    "yw = {}\n",
    "for od in od_list:\n",
    "    for i in range(numNode):\n",
    "        key = od + str(i)\n",
    "        yw[key] = model.addVar(name='yw_' + key)\n",
    "        \n",
    "model.update()"
   ]
  },
  {
   "cell_type": "code",
   "execution_count": 20,
   "metadata": {
    "collapsed": false
   },
   "outputs": [
    {
     "data": {
      "text/plain": [
       "(24, 76)"
      ]
     },
     "execution_count": 20,
     "metadata": {},
     "output_type": "execute_result"
    }
   ],
   "source": [
    "N.shape"
   ]
  },
  {
   "cell_type": "code",
   "execution_count": 21,
   "metadata": {
    "collapsed": false
   },
   "outputs": [],
   "source": [
    "# add dual feasibility constraints\n",
    "for od in od_list:\n",
    "    for a in range(numLink):\n",
    "        model.addConstr(sum([N[i, a] * yw[od+str(i)] for i in range(numNode)]) <= \n",
    "                        free_flow_time_list[a] * sum([alpha[str(j)] * phi[j, a] for j in range(numLink)]))\n",
    "        \n",
    "model.update()"
   ]
  },
  {
   "cell_type": "code",
   "execution_count": 22,
   "metadata": {
    "collapsed": false
   },
   "outputs": [],
   "source": [
    "# add increasing constraints\n",
    "myList = flow_normalized\n",
    "flow_sorted_idx = sorted(range(len(myList)),key=lambda x:myList[x])\n",
    "for i in range(numLink):\n",
    "    if (i < numLink-1):\n",
    "        a_i_1 = flow_sorted_idx[i]\n",
    "        a_i_2 = flow_sorted_idx[i+1]\n",
    "        model.addConstr(sum([alpha[str(j)] * phi[j, a_i_1] for j in range(numLink)]) <= \n",
    "                        sum([alpha[str(j)] * phi[j, a_i_2] for j in range(numLink)]))\n",
    "model.update()"
   ]
  },
  {
   "cell_type": "code",
   "execution_count": 23,
   "metadata": {
    "collapsed": true
   },
   "outputs": [],
   "source": [
    "model.addConstr(epsilon >= 0)\n",
    "\n",
    "model.update()"
   ]
  },
  {
   "cell_type": "code",
   "execution_count": 24,
   "metadata": {
    "collapsed": true
   },
   "outputs": [],
   "source": [
    "# str(int(od.split(',')[0].split('(')[1])-1), str(int(od.split(',')[1].split(')')[0])-1)"
   ]
  },
  {
   "cell_type": "code",
   "execution_count": 25,
   "metadata": {
    "collapsed": false
   },
   "outputs": [],
   "source": [
    "# add primal-dual gap constraint\n",
    "primal_cost = sum([free_flow_time_list[a] * sum([alpha[str(j)] * phi[j, a] for j in range(numLink)]) \n",
    "                   for a in range(numLink)])\n",
    "dual_cost = sum([demands[od] * (yw[od + str(int(od.split(',')[1].split(')')[0])-1)] - \n",
    "                                yw[od + str(int(od.split(',')[0].split('(')[1])-1)]) \n",
    "                 for od in od_list])\n",
    "\n",
    "model.addConstr(primal_cost - dual_cost <= epsilon)\n",
    "model.addConstr(dual_cost - primal_cost <= epsilon)\n",
    "        \n",
    "model.update()"
   ]
  },
  {
   "cell_type": "code",
   "execution_count": 26,
   "metadata": {
    "collapsed": false
   },
   "outputs": [],
   "source": [
    "# add normalization constraint\n",
    "model.addConstr(sum([alpha[str(j)] * phi[j, 0] for j in range(numLink)]) == 1)\n",
    "total_cost = 0\n",
    "for i in range(numLink):\n",
    "    total_cost += sum([alpha[str(i)] * kernel(flow_normalized[i], flow_normalized[j], c, d) \n",
    "                       for j in range(numLink)])\n",
    "        \n",
    "model.addConstr(total_cost == sum([g_true(flow_normalized[i]) for i in range(numLink)]))\n",
    "# model.addConstr(sum([alpha[str(i)] * kernel(flow_normalized[i], 0, c, d) for i in range(numLink)]) == 1)\n",
    "model.update()"
   ]
  },
  {
   "cell_type": "code",
   "execution_count": 32,
   "metadata": {
    "collapsed": false
   },
   "outputs": [
    {
     "data": {
      "text/plain": [
       "array([[    1.12601279,     1.26344557,     1.12672844, ...,\n",
       "            3.61383226,     3.46589973,     2.59037394],\n",
       "       [    1.26344557,     1.57549796,     1.26500562, ...,\n",
       "            9.53415887,     8.92738905,     5.58150333],\n",
       "       [    1.12672844,     1.26500562,     1.12744832, ...,\n",
       "            3.63545817,     3.48606397,     2.60231664],\n",
       "       ..., \n",
       "       [    3.61383226,     9.53415887,     3.63545817, ...,\n",
       "         1103.76079813,   972.03031773,   367.65861546],\n",
       "       [    3.46589973,     8.92738905,     3.48606397, ...,\n",
       "          972.03031773,   856.77079311,   326.56468055],\n",
       "       [    2.59037394,     5.58150333,     2.60231664, ...,\n",
       "          367.65861546,   326.56468055,   133.0823474 ]])"
      ]
     },
     "execution_count": 32,
     "metadata": {},
     "output_type": "execute_result"
    }
   ],
   "source": [
    "phi"
   ]
  },
  {
   "cell_type": "code",
   "execution_count": 27,
   "metadata": {
    "collapsed": false
   },
   "outputs": [],
   "source": [
    "# Set objective\n",
    "obj = 0\n",
    "\n",
    "gama = 1e-8\n",
    "\n",
    "for i in range(numLink):\n",
    "    obj += sum([alpha[str(i)] * phi[i, j] * alpha[str(j)] for j in range(numLink)])\n",
    "\n",
    "obj += gama * epsilon\n",
    "\n",
    "model.setObjective(obj)"
   ]
  },
  {
   "cell_type": "code",
   "execution_count": 28,
   "metadata": {
    "collapsed": false
   },
   "outputs": [
    {
     "name": "stdout",
     "output_type": "stream",
     "text": [
      "Optimize a model with 42033 rows, 13325 columns and 3280299 nonzeros\n",
      "Model has 2926 quadratic objective terms\n",
      "Coefficient statistics:\n",
      "  Matrix range    [7e-04, 2e+05]\n",
      "  Objective range [1e-08, 1e-08]\n",
      "  Bounds range    [0e+00, 0e+00]\n",
      "  RHS range       [1e+00, 2e+02]\n",
      "Warning: diagonal adjustment of 7.1e-10 performed to make Q PSD\n",
      "Presolve removed 76 rows and 0 columns\n",
      "Presolve time: 0.62s\n",
      "Presolved: 41957 rows, 13325 columns, 3274750 nonzeros\n",
      "Presolved model has 2926 quadratic objective terms\n",
      "Ordering time: 0.02s\n",
      "\n",
      "Barrier statistics:\n",
      " Dense cols : 76\n",
      " Free vars  : 6\n",
      " AA' NZ     : 3.420e+06\n",
      " Factor NZ  : 4.285e+06 (roughly 60 MBytes of memory)\n",
      " Factor Ops : 4.430e+08 (less than 1 second per iteration)\n",
      " Threads    : 4\n",
      "\n",
      "                  Objective                Residual\n",
      "Iter       Primal          Dual         Primal    Dual     Compl     Time\n",
      "   0   3.63482120e+00 -1.01338185e+00  7.60e+04 1.00e+00  1.00e+06     1s\n",
      "   1   2.09097935e+07 -2.09753314e+07  6.41e+04 8.39e+02  8.47e+05     1s\n",
      "   2   1.31100353e+08 -1.31267535e+08  4.61e+04 5.99e+02  6.12e+05     1s\n",
      "   3   1.42218163e+08 -1.42437017e+08  3.94e+04 5.09e+02  5.43e+05     1s\n",
      "   4   6.56176871e+07 -6.59334796e+07  2.83e+04 3.55e+02  4.22e+05     2s\n",
      "   5   9.27717984e+06 -9.71694197e+06  1.01e+04 1.17e+02  1.61e+05     2s\n",
      "   6   1.21173265e+06 -1.71931183e+06  3.57e+03 4.68e+01  6.08e+04     2s\n",
      "   7   1.53202411e+05 -7.12440051e+05  1.22e+03 1.61e+01  2.25e+04     2s\n",
      "   8   1.72191007e+03 -5.74027300e+05  1.29e+02 1.56e+00  2.51e+03     2s\n",
      "   9   4.83108057e+00 -5.14810341e+05  2.01e+00 2.44e-02  4.78e+01     2s\n",
      "  10   5.15598091e+00 -4.30435104e+05  1.38e+00 1.63e-02  3.57e+01     2s\n",
      "  11   5.51387971e+00 -3.75844179e+05  1.02e+00 1.18e-02  2.87e+01     2s\n",
      "  12   5.51722052e+00 -3.10617809e+05  7.30e-01 8.42e-03  2.08e+01     2s\n",
      "  13   5.48724273e+00 -2.74579551e+05  5.89e-01 6.79e-03  1.69e+01     2s\n",
      "  14   5.62815205e+00 -2.53747602e+05  5.01e-01 5.73e-03  1.49e+01     2s\n",
      "  15   5.59267931e+00 -2.36489726e+05  4.46e-01 5.10e-03  1.33e+01     2s\n",
      "  16   5.58190895e+00 -2.32006186e+05  4.33e-01 4.95e-03  1.29e+01     3s\n",
      "  17   5.56798813e+00 -2.26405151e+05  4.17e-01 4.77e-03  1.24e+01     3s\n",
      "  18   5.52930693e+00 -2.12206555e+05  3.76e-01 4.30e-03  1.12e+01     3s\n",
      "  19   5.47314173e+00 -1.93766338e+05  3.27e-01 3.74e-03  9.81e+00     3s\n",
      "  20   5.43242640e+00 -1.83276851e+05  3.01e-01 3.44e-03  9.04e+00     3s\n",
      "  21   5.40945534e+00 -1.77755363e+05  2.88e-01 3.29e-03  8.66e+00     3s\n",
      "  22   5.39066086e+00 -1.72899884e+05  2.78e-01 3.18e-03  8.37e+00     3s\n",
      "  23   5.37308146e+00 -1.68537393e+05  2.70e-01 3.08e-03  8.11e+00     3s\n",
      "  24   5.30184339e+00 -1.51487297e+05  2.34e-01 2.67e-03  7.05e+00     3s\n",
      "  25   5.25957862e+00 -1.44317292e+05  2.18e-01 2.49e-03  6.59e+00     3s\n",
      "  26   5.22794595e+00 -1.35964992e+05  2.09e-01 2.38e-03  6.30e+00     3s\n",
      "  27   5.20431444e+00 -9.64417900e+04  2.03e-01 2.33e-03  6.15e+00     3s\n",
      "  28   5.19703384e+00  3.13926925e+02  2.02e-01 2.31e-03  6.09e+00     4s\n",
      "  29   5.19489105e+00  8.90080597e+05  2.01e-01 2.30e-03  6.09e+00     4s\n",
      "  30   4.63550703e+00  8.11226238e+07  1.25e-01 1.43e-03  3.79e+01     4s\n",
      "  31   1.41205786e+01 -1.01338185e+00  3.80e+05 1.00e+00  2.50e+07     4s\n",
      "  32   8.88313773e+04 -9.30480491e+04  1.78e+05 5.61e+01  5.51e+06     4s\n",
      "  33   5.77295213e+00  3.18550820e+00  1.93e+01 1.30e-01  8.76e-02     4s\n",
      "  34   1.88978894e+00  1.93381150e+00  4.89e+00 4.39e-02  7.98e-03     4s\n",
      "  35   1.30370814e+00  1.15492364e+00  2.92e+00 3.39e-02  3.55e-03     4s\n",
      "  36   1.04225274e+00  3.86991397e-01  1.25e+00 1.43e-02  1.00e-03     4s\n",
      "  37   1.06921273e+00  2.63510884e-01  9.03e-01 1.01e-02  6.39e-04     5s\n",
      "  38   1.08239781e+00  2.45171611e-01  8.12e-01 9.47e-03  5.53e-04     5s\n",
      "  39   1.10836081e+00  2.16033850e-01  6.78e-01 7.72e-03  4.35e-04     5s\n",
      "  40   1.12244077e+00  2.11836672e-01  6.13e-01 7.04e-03  3.81e-04     5s\n",
      "  41   1.13634422e+00  1.90673406e-01  5.56e-01 6.40e-03  3.38e-04     5s\n",
      "  42   1.16034923e+00  2.17241414e-01  4.75e-01 6.19e-03  2.79e-04     5s\n",
      "  43   1.16514185e+00  2.22809854e-01  4.61e-01 6.01e-03  2.68e-04     5s\n",
      "  44   1.17576901e+00  2.34028995e-01  4.31e-01 5.63e-03  2.47e-04     5s\n",
      "  45   1.17611887e+00  2.34654877e-01  4.30e-01 5.61e-03  2.46e-04     5s\n",
      "  46   1.17688704e+00  2.36293297e-01  4.27e-01 5.58e-03  2.45e-04     6s\n",
      "  47   1.17940397e+00  2.40985811e-01  4.20e-01 5.48e-03  2.39e-04     6s\n",
      "  48   1.18220233e+00  2.46095331e-01  4.13e-01 5.35e-03  2.33e-04     6s\n",
      "  49   1.18307915e+00  2.47716571e-01  4.11e-01 5.15e-03  2.31e-04     6s\n",
      "  50   1.18679394e+00  2.58283962e-01  4.01e-01 4.68e-03  2.25e-04     6s\n",
      "  51   1.19492717e+00  2.75540713e-01  3.81e-01 4.46e-03  2.12e-04     6s\n",
      "  52   1.21315824e+00  2.93819862e-01  3.42e-01 4.01e-03  1.86e-04     6s\n",
      "  53   1.21538399e+00  3.08424864e-01  3.37e-01 3.95e-03  1.84e-04     7s\n",
      "  54   1.22014207e+00  3.31271786e-01  3.29e-01 4.13e-03  1.80e-04     7s\n",
      "  55   1.22945546e+00  3.41616484e-01  3.13e-01 3.80e-03  1.69e-04     7s\n",
      "  56   1.23213392e+00  3.46339469e-01  3.08e-01 3.79e-03  1.66e-04     7s\n",
      "  57   1.23570412e+00  3.60735313e-01  3.02e-01 3.90e-03  1.63e-04     7s\n",
      "  58   1.23876672e+00  3.69526646e-01  2.97e-01 3.72e-03  1.60e-04     7s\n",
      "  59   1.24730652e+00  3.79898439e-01  2.84e-01 3.45e-03  1.52e-04     7s\n",
      "  60   1.24760534e+00  3.81123927e-01  2.84e-01 3.44e-03  1.52e-04     8s\n",
      "  61   1.24864250e+00  3.88904266e-01  2.82e-01 3.36e-03  1.51e-04     8s\n",
      "  62   1.25074414e+00  3.97769762e-01  2.79e-01 3.47e-03  1.50e-04     8s\n",
      "  63   1.25607890e+00  4.30591090e-01  2.72e-01 3.36e-03  1.46e-04     8s\n",
      "  64   1.27013336e+00  4.74375071e-01  2.56e-01 3.13e-03  1.38e-04     8s\n",
      "  65   1.28743640e+00  4.90722852e-01  2.39e-01 2.82e-03  1.28e-04     8s\n",
      "  66   1.31868301e+00  5.22947685e-01  2.08e-01 2.44e-03  1.11e-04     8s\n",
      "  67   1.32003198e+00  5.34454492e-01  2.07e-01 2.43e-03  1.10e-04     9s\n",
      "  68   1.31812456e+00  6.02619459e-01  2.08e-01 2.44e-03  1.14e-04     9s\n",
      "  69   1.31856091e+00  6.02727034e-01  2.08e-01 2.43e-03  1.13e-04     9s\n",
      "  70   1.31888969e+00  6.03558025e-01  2.08e-01 2.43e-03  1.13e-04     9s\n",
      "  71   1.31703588e+00  6.44659669e-01  2.09e-01 2.44e-03  1.15e-04     9s\n",
      "  72   1.31755292e+00  6.64605584e-01  2.08e-01 2.44e-03  1.16e-04     9s\n",
      "  73   1.31802666e+00  1.32083800e+00  2.06e-01 2.38e-03  1.48e-04    10s\n",
      "  74   1.31863063e+00  5.60843179e+00  2.05e-01 2.66e-03  4.10e-04    10s\n",
      "  75   1.32128597e+00  2.08342313e+01  2.05e-01 2.59e-03  3.50e-03    10s\n",
      "  76   1.39252189e+00  1.05248647e+02  2.05e-01 2.37e-03  1.02e-01    10s\n",
      "  77   7.37386725e+01  1.78015683e+04  2.06e-01 2.55e-01  1.01e+02    10s\n",
      "  78*  7.20133190e+04  1.50285273e+07  2.78e-03 4.34e-04  7.84e-03    10s\n",
      "  79*  7.20133190e+04  1.50285273e+07  3.49e-03 2.35e-03  7.84e-03    10s\n",
      "  80*  7.20133189e+04  1.50285273e+07  3.81e-03 1.07e-03  7.84e-03    11s\n",
      "  81*  7.20133189e+04  1.50285273e+07  5.71e-03 1.00e-03  7.84e-03    11s\n",
      "  82*  7.20133189e+04  1.50285273e+07  6.51e-03 1.03e-03  7.84e-03    11s\n",
      "  83*  7.20133189e+04  1.50285273e+07  6.60e-03 1.61e-03  7.84e-03    11s\n",
      "  84*  7.20133189e+04  1.50285273e+07  9.30e-03 1.58e-03  7.84e-03    11s\n",
      "  85*  7.20133189e+04  1.50285273e+07  9.32e-03 1.58e-03  7.84e-03    11s\n",
      "  86*  7.20133189e+04  1.50285273e+07  9.53e-03 1.58e-03  7.84e-03    12s\n",
      "  87*  7.20133189e+04  1.50285273e+07  1.47e-02 1.53e-03  7.84e-03    12s\n",
      "  88*  7.20133189e+04  1.50285273e+07  1.48e-02 1.53e-03  7.83e-03    12s\n",
      "\n",
      "Barrier performed 88 iterations in 11.98 seconds\n",
      "Numerical trouble encountered\n",
      "\n"
     ]
    }
   ],
   "source": [
    "model.optimize()"
   ]
  },
  {
   "cell_type": "code",
   "execution_count": 29,
   "metadata": {
    "collapsed": false
   },
   "outputs": [
    {
     "ename": "GurobiError",
     "evalue": "Unable to retrieve attribute 'x'",
     "output_type": "error",
     "traceback": [
      "\u001b[1;31m---------------------------------------------------------------------------\u001b[0m",
      "\u001b[1;31mGurobiError\u001b[0m                               Traceback (most recent call last)",
      "\u001b[1;32m<ipython-input-29-7995e31d9eb5>\u001b[0m in \u001b[0;36m<module>\u001b[1;34m()\u001b[0m\n\u001b[0;32m      3\u001b[0m     \u001b[1;32mif\u001b[0m \u001b[1;34m'alpha'\u001b[0m \u001b[1;32min\u001b[0m \u001b[0mv\u001b[0m\u001b[1;33m.\u001b[0m\u001b[0mvarName\u001b[0m\u001b[1;33m:\u001b[0m\u001b[1;33m\u001b[0m\u001b[0m\n\u001b[0;32m      4\u001b[0m \u001b[1;31m#         print('%s %g' % (v.varName, v.x))\u001b[0m\u001b[1;33m\u001b[0m\u001b[1;33m\u001b[0m\u001b[0m\n\u001b[1;32m----> 5\u001b[1;33m         \u001b[0malpha_list\u001b[0m\u001b[1;33m.\u001b[0m\u001b[0mappend\u001b[0m\u001b[1;33m(\u001b[0m\u001b[0mv\u001b[0m\u001b[1;33m.\u001b[0m\u001b[0mx\u001b[0m\u001b[1;33m)\u001b[0m\u001b[1;33m\u001b[0m\u001b[0m\n\u001b[0m",
      "\u001b[1;32mvar.pxi\u001b[0m in \u001b[0;36mgurobipy.Var.__getattr__ (../../src/python/gurobipy.c:11798)\u001b[1;34m()\u001b[0m\n",
      "\u001b[1;32mvar.pxi\u001b[0m in \u001b[0;36mgurobipy.Var.getAttr (../../src/python/gurobipy.c:12609)\u001b[1;34m()\u001b[0m\n",
      "\u001b[1;31mGurobiError\u001b[0m: Unable to retrieve attribute 'x'"
     ]
    }
   ],
   "source": [
    "alpha_list = []\n",
    "for v in model.getVars():\n",
    "    if 'alpha' in v.varName:\n",
    "#         print('%s %g' % (v.varName, v.x))\n",
    "        alpha_list.append(v.x)"
   ]
  },
  {
   "cell_type": "code",
   "execution_count": null,
   "metadata": {
    "collapsed": false
   },
   "outputs": [],
   "source": [
    "alpha_list"
   ]
  },
  {
   "cell_type": "code",
   "execution_count": null,
   "metadata": {
    "collapsed": true
   },
   "outputs": [],
   "source": [
    "from matplotlib.mlab import prctile\n",
    "import matplotlib.pyplot as plt\n",
    "import pylab\n",
    "from pylab import *"
   ]
  },
  {
   "cell_type": "code",
   "execution_count": null,
   "metadata": {
    "collapsed": true
   },
   "outputs": [],
   "source": [
    "xs = linspace(0, 2, 20)"
   ]
  },
  {
   "cell_type": "code",
   "execution_count": null,
   "metadata": {
    "collapsed": false
   },
   "outputs": [],
   "source": [
    "xs"
   ]
  },
  {
   "cell_type": "code",
   "execution_count": null,
   "metadata": {
    "collapsed": true
   },
   "outputs": [],
   "source": []
  },
  {
   "cell_type": "code",
   "execution_count": null,
   "metadata": {
    "collapsed": true
   },
   "outputs": [],
   "source": [
    "zs_true = [g_true(t) for t in xs]"
   ]
  },
  {
   "cell_type": "code",
   "execution_count": null,
   "metadata": {
    "collapsed": true
   },
   "outputs": [],
   "source": [
    "def g_est(t):\n",
    "    return sum([alpha_list[m] * kernel(flow_normalized[m], t, c, d) for m in range(numLink)])"
   ]
  },
  {
   "cell_type": "code",
   "execution_count": null,
   "metadata": {
    "collapsed": false
   },
   "outputs": [],
   "source": [
    "zs_est = [g_est(t) for t in xs]"
   ]
  },
  {
   "cell_type": "code",
   "execution_count": null,
   "metadata": {
    "collapsed": false
   },
   "outputs": [],
   "source": [
    "true, = plt.plot(xs, zs_true, \"ro-\")\n",
    "est, = plt.plot(xs, zs_est, \"bs-\")\n",
    "\n",
    "plt.legend([true, est], [\"g_true\", \"g_est\"])\n",
    "plt.xlabel('Scaled Flow')\n",
    "plt.ylabel('Scaled Cost')\n",
    "# plt.title('Threshold ($\\eta$) versus Number of samples ($n$)')\n",
    "# pylab.xlim(np.amin(n_range) - 1, np.amax(n_range) + 1)\n",
    "# pylab.ylim(0, 1)\n",
    "grid(\"on\")\n",
    "savefig('fittedCostFunc.eps')\n",
    "plt.show()"
   ]
  },
  {
   "cell_type": "code",
   "execution_count": null,
   "metadata": {
    "collapsed": true
   },
   "outputs": [],
   "source": []
  }
 ],
 "metadata": {
  "kernelspec": {
   "display_name": "Python 2",
   "language": "python",
   "name": "python2"
  },
  "language_info": {
   "codemirror_mode": {
    "name": "ipython",
    "version": 2
   },
   "file_extension": ".py",
   "mimetype": "text/x-python",
   "name": "python",
   "nbconvert_exporter": "python",
   "pygments_lexer": "ipython2",
   "version": "2.7.11"
  }
 },
 "nbformat": 4,
 "nbformat_minor": 0
}
