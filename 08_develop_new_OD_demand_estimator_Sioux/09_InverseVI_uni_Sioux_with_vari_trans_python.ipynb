{
 "cells": [
  {
   "cell_type": "markdown",
   "metadata": {},
   "source": [
    "## Solve an inverse tarffic problem over polynomials of degree at most d\n",
    "\n",
    "## Optionally use a regularizer from the poly kernel"
   ]
  },
  {
   "cell_type": "code",
   "execution_count": 1,
   "metadata": {
    "collapsed": false
   },
   "outputs": [
    {
     "name": "stdout",
     "output_type": "stream",
     "text": [
      "No dicts found; please check load_dicts...\n"
     ]
    }
   ],
   "source": [
    "%run ../Python_files/util.py"
   ]
  },
  {
   "cell_type": "code",
   "execution_count": 2,
   "metadata": {
    "collapsed": true
   },
   "outputs": [],
   "source": [
    "N = zload('node_link_incidence_Sioux.pkz')"
   ]
  },
  {
   "cell_type": "code",
   "execution_count": 3,
   "metadata": {
    "collapsed": true
   },
   "outputs": [],
   "source": [
    "# bpr cost\n",
    "def g_true(t):\n",
    "    return 1 + 0.15 * (t ** 4)"
   ]
  },
  {
   "cell_type": "code",
   "execution_count": 4,
   "metadata": {
    "collapsed": true
   },
   "outputs": [],
   "source": [
    "def polyEval(coeffs, pt):\n",
    "    return sum([coeffs[i] * (pt ** i) for i in range(len(coeffs))])  "
   ]
  },
  {
   "cell_type": "code",
   "execution_count": 5,
   "metadata": {
    "collapsed": true
   },
   "outputs": [],
   "source": [
    "capac_list = []\n",
    "free_flow_time_list = []\n",
    "capac_dict = {}\n",
    "free_flow_time_dict = {}\n",
    "\n",
    "with open('SiouxFalls_net.txt', 'r') as f:\n",
    "    read_data = f.readlines()\n",
    "\n",
    "for row in read_data:\n",
    "    if len(row.split()) == 11:\n",
    "        key = row.split()[0] + ',' + row.split()[1]\n",
    "        capac_list.append(float(row.split()[2]))\n",
    "        free_flow_time_list.append(float(row.split()[3]))\n",
    "        capac_dict[key] = float(row.split()[2])\n",
    "        free_flow_time_dict[key] = float(row.split()[3])"
   ]
  },
  {
   "cell_type": "code",
   "execution_count": 6,
   "metadata": {
    "collapsed": true
   },
   "outputs": [],
   "source": [
    "# read in link labels\n",
    "with open('link_label_dict_Sioux.json', 'r') as json_file:\n",
    "    link_label_dict = json.load(json_file)"
   ]
  },
  {
   "cell_type": "code",
   "execution_count": 7,
   "metadata": {
    "collapsed": true
   },
   "outputs": [],
   "source": [
    "# read in demand data\n",
    "with open('demands_Sioux.json', 'r') as json_file:\n",
    "    demands = json.load(json_file)"
   ]
  },
  {
   "cell_type": "code",
   "execution_count": 8,
   "metadata": {
    "collapsed": true
   },
   "outputs": [],
   "source": [
    "numNode = N.shape[0]\n",
    "numLink = N.shape[1]\n",
    "assert(numLink == len(capac_list))"
   ]
  },
  {
   "cell_type": "code",
   "execution_count": 9,
   "metadata": {
    "collapsed": false
   },
   "outputs": [],
   "source": [
    "flow_list = []\n",
    "flow_dict = {}\n",
    "\n",
    "with open('SiouxFallsFlow.txt', 'r') as f:\n",
    "    read_data = f.readlines()\n",
    "\n",
    "for row in read_data:\n",
    "    if len(row.split()) == 4:\n",
    "        key = row.split()[0] + ',' + row.split()[1]\n",
    "        flow_list.append(float(row.split()[2]))\n",
    "        flow_dict[key] = float(row.split()[2])\n",
    "#         print(row.split())"
   ]
  },
  {
   "cell_type": "code",
   "execution_count": 10,
   "metadata": {
    "collapsed": true
   },
   "outputs": [],
   "source": [
    "flow_normalized = [flow_list[i]/capac_list[i] for i in range(numLink)]"
   ]
  },
  {
   "cell_type": "code",
   "execution_count": 11,
   "metadata": {
    "collapsed": false
   },
   "outputs": [],
   "source": [
    "def fitCost(c, d, gama):\n",
    "\n",
    "    normCoeffs = []\n",
    "\n",
    "    for i in range(d+1):\n",
    "        normCoeffs.append(sc.comb(d, i, exact=True) * (c ** (d-i)))\n",
    "\n",
    "    od_list = []\n",
    "    for i in range(numNode + 1)[1:]:\n",
    "        for j in range(numNode + 1)[1:]:\n",
    "            if i != j:\n",
    "                key = '(' + str(i) + ',' + str(j) + ')'\n",
    "                od_list.append(key)\n",
    "\n",
    "    model = Model(\"InverseVI_Sioux\")\n",
    "\n",
    "    alpha = []\n",
    "    for i in range(d+1):\n",
    "        key = str(i)\n",
    "        alpha.append(model.addVar(name='alpha_' + key))\n",
    "\n",
    "    epsilon = model.addVar(name='epsilon')\n",
    "\n",
    "    yw = {}\n",
    "    for od in od_list:\n",
    "        for i in range(numNode):\n",
    "            key = od + str(i)\n",
    "            yw[key] = model.addVar(name='yw_' + key)\n",
    "\n",
    "    model.update()\n",
    "\n",
    "    # add dual feasibility constraints\n",
    "    for od in od_list:\n",
    "        for a in range(numLink):\n",
    "            model.addConstr(yw[od+str(int(link_label_dict[str(a)].split(',')[0])-1)] - \n",
    "                            yw[od+str(int(link_label_dict[str(a)].split(',')[1])-1)] <= \n",
    "                            free_flow_time_list[a] * polyEval(alpha, flow_normalized[a]))        \n",
    "    model.update()\n",
    "\n",
    "    # add increasing constraints\n",
    "    myList = flow_normalized\n",
    "    flow_sorted_idx = sorted(range(len(myList)),key=lambda x:myList[x])\n",
    "    # model.addConstr(polyEval(alpha, 0) <= polyEval(alpha, flow_normalized[flow_sorted_idx[0]]))\n",
    "    for i in range(numLink):\n",
    "        if (i < numLink-1):\n",
    "            a_i_1 = flow_sorted_idx[i]\n",
    "            a_i_2 = flow_sorted_idx[i+1]\n",
    "            model.addConstr(polyEval(alpha, flow_normalized[a_i_1]) <= polyEval(alpha, flow_normalized[a_i_2]))\n",
    "    model.update()\n",
    "\n",
    "    model.addConstr(epsilon >= 0)\n",
    "    model.update()\n",
    "\n",
    "    # add primal-dual gap constraint\n",
    "\n",
    "    primal_cost = sum([flow_list[a] * free_flow_time_list[a] * polyEval(alpha, flow_normalized[a]) \n",
    "                       for a in range(numLink)])\n",
    "    dual_cost = sum([demands[od] * (yw[od + str(int(od.split(',')[1].split(')')[0])-1)] - \n",
    "                                    yw[od + str(int(od.split(',')[0].split('(')[1])-1)]) \n",
    "                     for od in od_list])\n",
    "\n",
    "    model.addConstr(primal_cost - dual_cost <= epsilon)\n",
    "    model.addConstr(dual_cost - primal_cost <= epsilon)\n",
    "\n",
    "    model.update()\n",
    "\n",
    "    # add normalization constraint\n",
    "    model.addConstr(alpha[0] == 1)\n",
    "    model.update()\n",
    "\n",
    "    # Set objective\n",
    "    obj = 0\n",
    "    obj += sum([alpha[i] * alpha[i] / normCoeffs[i] for i in range(d+1)])\n",
    "    obj += gama * epsilon\n",
    "\n",
    "    model.setObjective(obj)\n",
    "\n",
    "    model.setParam('OutputFlag', False)\n",
    "    model.optimize()\n",
    "    alpha_list = []\n",
    "    for v in model.getVars():\n",
    "    #     print('%s %g' % (v.varName, v.x))\n",
    "        if 'alpha' in v.varName:\n",
    "            alpha_list.append(v.x)\n",
    "    return alpha_list"
   ]
  },
  {
   "cell_type": "code",
   "execution_count": 12,
   "metadata": {
    "collapsed": true
   },
   "outputs": [],
   "source": [
    "alpha_list = fitCost(1.5, 6, 1e-5)"
   ]
  },
  {
   "cell_type": "code",
   "execution_count": 13,
   "metadata": {
    "collapsed": false
   },
   "outputs": [
    {
     "data": {
      "text/plain": [
       "[1.0,\n",
       " 4.416475564334832e-07,\n",
       " 1.4069604359545673e-08,\n",
       " 2.712712438300871e-08,\n",
       " 0.14999975067662813,\n",
       " 4.419967532198706e-08,\n",
       " 1.8596982767320263e-08]"
      ]
     },
     "execution_count": 13,
     "metadata": {},
     "output_type": "execute_result"
    }
   ],
   "source": [
    "alpha_list"
   ]
  },
  {
   "cell_type": "code",
   "execution_count": 14,
   "metadata": {
    "collapsed": true
   },
   "outputs": [],
   "source": [
    "%matplotlib inline"
   ]
  },
  {
   "cell_type": "code",
   "execution_count": 15,
   "metadata": {
    "collapsed": true
   },
   "outputs": [],
   "source": [
    "import matplotlib.pyplot as plt\n",
    "import pylab\n",
    "from pylab import *"
   ]
  },
  {
   "cell_type": "code",
   "execution_count": 16,
   "metadata": {
    "collapsed": true
   },
   "outputs": [],
   "source": [
    "xs = linspace(0, 2, 20)\n",
    "zs_true = [g_true(t) for t in xs]\n",
    "\n",
    "def g_est(t):\n",
    "    return polyEval(alpha_list, t)\n",
    "\n",
    "zs_est = [g_est(t) for t in xs]"
   ]
  },
  {
   "cell_type": "code",
   "execution_count": 17,
   "metadata": {
    "collapsed": false
   },
   "outputs": [
    {
     "data": {
      "image/png": "[encoded data removed]",
      "text/plain": [
       "<matplotlib.figure.Figure at 0x7fdb42ed1710>"
      ]
     },
     "metadata": {},
     "output_type": "display_data"
    }
   ],
   "source": [
    "true, = plt.plot(xs, zs_true, \"bo-\")\n",
    "est, = plt.plot(xs, zs_est, \"rs-\")\n",
    "\n",
    "plt.legend([true, est], [\"g_true\", \"g_est\"], loc=0)\n",
    "plt.xlabel('Scaled Flow')\n",
    "plt.ylabel('Scaled Cost')\n",
    "pylab.xlim(-0.1, 1.6)\n",
    "pylab.ylim(0.9, 2.0)\n",
    "grid(\"on\")\n",
    "savefig('fittedCostFunc.eps')"
   ]
  },
  {
   "cell_type": "code",
   "execution_count": null,
   "metadata": {
    "collapsed": true
   },
   "outputs": [],
   "source": []
  }
 ],
 "metadata": {
  "kernelspec": {
   "display_name": "Python 2",
   "language": "python",
   "name": "python2"
  },
  "language_info": {
   "codemirror_mode": {
    "name": "ipython",
    "version": 2
   },
   "file_extension": ".py",
   "mimetype": "text/x-python",
   "name": "python",
   "nbconvert_exporter": "python",
   "pygments_lexer": "ipython2",
   "version": "2.7.11"
  }
 },
 "nbformat": 4,
 "nbformat_minor": 0
}
