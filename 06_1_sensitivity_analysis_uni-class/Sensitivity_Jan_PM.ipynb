{
 "cells": [
  {
   "cell_type": "code",
   "execution_count": 1,
   "metadata": {
    "collapsed": false
   },
   "outputs": [],
   "source": [
    "%run ../Python_files/util_data_storage_and_load.py"
   ]
  },
  {
   "cell_type": "code",
   "execution_count": 2,
   "metadata": {
    "collapsed": false
   },
   "outputs": [
    {
     "name": "stdout",
     "output_type": "stream",
     "text": [
      "No dicts found; please check load_dicts...\n"
     ]
    }
   ],
   "source": [
    "%run ../Python_files/util.py"
   ]
  },
  {
   "cell_type": "code",
   "execution_count": 3,
   "metadata": {
    "collapsed": true
   },
   "outputs": [],
   "source": [
    "link_day_Jan_dict = zload('../temp_files/link_day_Jan_dict.pkz')"
   ]
  },
  {
   "cell_type": "code",
   "execution_count": 4,
   "metadata": {
    "collapsed": true
   },
   "outputs": [],
   "source": [
    "link_label_dict = zload('../temp_files/link_label_dict.pkz')\n",
    "link_label_dict_ = zload('../temp_files/link_label_dict_.pkz')"
   ]
  },
  {
   "cell_type": "code",
   "execution_count": 5,
   "metadata": {
    "collapsed": false
   },
   "outputs": [],
   "source": [
    "# load the estimated g() function \n",
    "\n",
    "import json\n",
    "\n",
    "with open('../temp_files/coeffs_dict_Jan_PM.json', 'r') as json_file:\n",
    "    coeffs_dict_Jan_PM = json.load(json_file)\n",
    "\n",
    "with open('../temp_files/cross_validation_best_key_Jan_PM.json', 'r') as json_file_:\n",
    "    cross_validation_best_key_Jan_PM = json.load(json_file_)"
   ]
  },
  {
   "cell_type": "code",
   "execution_count": 6,
   "metadata": {
    "collapsed": false
   },
   "outputs": [
    {
     "data": {
      "text/plain": [
       "[1.0,\n",
       " -0.0032911147495300157,\n",
       " 0.05716352566507678,\n",
       " -0.1959178358510771,\n",
       " 0.622724274177005,\n",
       " -0.9034464983958226,\n",
       " 0.9404375065865873,\n",
       " -0.4685770118071956,\n",
       " 0.10906162396529763]"
      ]
     },
     "execution_count": 6,
     "metadata": {},
     "output_type": "execute_result"
    }
   ],
   "source": [
    "coeffs_dict_Jan_PM[cross_validation_best_key_Jan_PM]\n",
    "#cross_validation_best_key_Apr_PM"
   ]
  },
  {
   "cell_type": "code",
   "execution_count": 7,
   "metadata": {
    "collapsed": false
   },
   "outputs": [
    {
     "data": {
      "text/plain": [
       "[1, 2, 3, 4, 5, 6, 7, 8, 9]"
      ]
     },
     "execution_count": 7,
     "metadata": {},
     "output_type": "execute_result"
    }
   ],
   "source": [
    "range(10)[1:]"
   ]
  },
  {
   "cell_type": "code",
   "execution_count": 8,
   "metadata": {
    "collapsed": false
   },
   "outputs": [],
   "source": [
    "links_with_sensitivity_list = []\n",
    "\n",
    "for link_idx in range(24):\n",
    "    key = 'link_' + str(link_idx) + '_' + str(10)  # we take January 10 for sensitivity analysis\n",
    "    init_node = link_day_Jan_dict[key].init_node\n",
    "    term_node = link_day_Jan_dict[key].term_node\n",
    "    tmc_set = link_day_Jan_dict[key].tmc_set\n",
    "    AM_capac = 0\n",
    "    MD_capac = 0\n",
    "    PM_capac = link_day_Jan_dict[key].PM_capac\n",
    "    NT_capac = 0\n",
    "    free_flow_time = link_day_Jan_dict[key].free_flow_time\n",
    "    length = 0\n",
    "    AM_flow = 0\n",
    "    MD_flow = 0\n",
    "    PM_flow = link_day_Jan_dict[key].PM_flow\n",
    "    NT_flow = 0\n",
    "    coeffs = coeffs_dict_Jan_PM[cross_validation_best_key_Jan_PM]\n",
    "    links_with_sensitivity = Link_with_Sensitivity(init_node, term_node, tmc_set, AM_capac, MD_capac, \\\n",
    "                                                   PM_capac, NT_capac, free_flow_time, length, \\\n",
    "                                                   AM_flow, MD_flow, PM_flow, NT_flow, \\\n",
    "                                                   coeffs)\n",
    "    links_with_sensitivity_list.append(links_with_sensitivity)"
   ]
  },
  {
   "cell_type": "code",
   "execution_count": 9,
   "metadata": {
    "collapsed": false
   },
   "outputs": [],
   "source": [
    "sensi_dict_Jan_PM = {}\n",
    "DV_Dc_0a_Jan_PM_list = []\n",
    "DV_Dm_a_Jan_PM_list = []\n",
    "\n",
    "for i in range(24):\n",
    "    sensi_dict_Jan_PM[str(i)] = [links_with_sensitivity_list[i].DV_Dc_0a(), links_with_sensitivity_list[i].DV_Dm_a()]\n",
    "    DV_Dc_0a_Jan_PM_list.append(links_with_sensitivity_list[i].DV_Dc_0a())\n",
    "    DV_Dm_a_Jan_PM_list.append(links_with_sensitivity_list[i].DV_Dm_a())\n",
    "    \n",
    "zdump(sensi_dict_Jan_PM, '../temp_files/sensi_dict_Jan_PM.pkz')"
   ]
  },
  {
   "cell_type": "code",
   "execution_count": 10,
   "metadata": {
    "collapsed": false
   },
   "outputs": [],
   "source": [
    "DV_Dc_0a_Jan_PM_normalized_list = []\n",
    "DV_Dm_a_Jan_PM_normalized_list = []\n",
    "\n",
    "for i in range(24):\n",
    "    a = \"%.3f\" %(DV_Dc_0a_Jan_PM_list[i] / max(DV_Dc_0a_Jan_PM_list))\n",
    "    a = float(a)\n",
    "    b = \"%.3f\" %(DV_Dm_a_Jan_PM_list[i] / min(DV_Dm_a_Jan_PM_list))\n",
    "    b = float(b)\n",
    "    DV_Dc_0a_Jan_PM_normalized_list.append(a)\n",
    "    DV_Dm_a_Jan_PM_normalized_list.append(b)\n",
    "    \n",
    "zdump(DV_Dc_0a_Jan_PM_normalized_list, '../temp_files/DV_Dc_0a_Jan_PM_normalized_list.pkz')\n",
    "zdump(DV_Dm_a_Jan_PM_normalized_list, '../temp_files/DV_Dm_a_Jan_PM_normalized_list.pkz')"
   ]
  },
  {
   "cell_type": "code",
   "execution_count": 11,
   "metadata": {
    "collapsed": false
   },
   "outputs": [
    {
     "data": {
      "text/plain": [
       "[0.344,\n",
       " 0.289,\n",
       " 0.376,\n",
       " 0.329,\n",
       " 0.627,\n",
       " 0.327,\n",
       " 0.307,\n",
       " 0.35,\n",
       " 0.974,\n",
       " 0.527,\n",
       " 0.896,\n",
       " 0.581,\n",
       " 0.425,\n",
       " 0.336,\n",
       " 0.58,\n",
       " 0.466,\n",
       " 0.282,\n",
       " 0.253,\n",
       " 0.501,\n",
       " 1.0,\n",
       " 0.891,\n",
       " 0.846,\n",
       " 0.329,\n",
       " 0.834]"
      ]
     },
     "execution_count": 11,
     "metadata": {},
     "output_type": "execute_result"
    }
   ],
   "source": [
    "DV_Dc_0a_Jan_PM_normalized_list"
   ]
  },
  {
   "cell_type": "code",
   "execution_count": 12,
   "metadata": {
    "collapsed": false,
    "scrolled": true
   },
   "outputs": [
    {
     "data": {
      "text/plain": [
       "[0.029,\n",
       " 0.018,\n",
       " 0.027,\n",
       " 0.016,\n",
       " 0.059,\n",
       " 0.007,\n",
       " 0.028,\n",
       " 0.047,\n",
       " 0.611,\n",
       " 0.04,\n",
       " 0.431,\n",
       " 0.111,\n",
       " 0.059,\n",
       " 0.015,\n",
       " 0.151,\n",
       " 0.151,\n",
       " 0.014,\n",
       " 0.01,\n",
       " 0.035,\n",
       " 0.869,\n",
       " 0.862,\n",
       " 0.787,\n",
       " 0.014,\n",
       " 1.0]"
      ]
     },
     "execution_count": 12,
     "metadata": {},
     "output_type": "execute_result"
    }
   ],
   "source": [
    "DV_Dm_a_Jan_PM_normalized_list"
   ]
  },
  {
   "cell_type": "code",
   "execution_count": 13,
   "metadata": {
    "collapsed": false
   },
   "outputs": [
    {
     "data": {
      "text/plain": [
       "{'0': [2229.8853592394594, -0.00035791102630266066],\n",
       " '1': [1873.9439419927044, -0.00021808351486481944],\n",
       " '10': [5811.9988034754206, -0.0053543279328723149],\n",
       " '11': [3772.9836934811751, -0.0013806591484179951],\n",
       " '12': [2755.7728909014381, -0.00073489741643212412],\n",
       " '13': [2182.2298974093324, -0.00019107864410707311],\n",
       " '14': [3761.9286597540818, -0.001879208897150021],\n",
       " '15': [3025.3973031131627, -0.0018826555077936518],\n",
       " '16': [1829.2458863897077, -0.00017582374515687867],\n",
       " '17': [1641.4453392589983, -0.00011919845854301921],\n",
       " '18': [3252.5475114789128, -0.00043153739986424665],\n",
       " '19': [6488.4725592084569, -0.010802052125451841],\n",
       " '2': [2440.1591042300438, -0.00033473392448124344],\n",
       " '20': [5781.7759228674104, -0.010713277179906703],\n",
       " '21': [5489.7030624773215, -0.0097867369829386236],\n",
       " '22': [2135.370661145836, -0.0001777028281076933],\n",
       " '23': [5408.7494411451971, -0.012428409883822366],\n",
       " '3': [2134.0255655427704, -0.0001990518016942761],\n",
       " '4': [4065.2874721175745, -0.00072963581693343894],\n",
       " '5': [2123.0406101085064, -9.086518963206071e-05],\n",
       " '6': [1991.9451771734925, -0.00034198405374539115],\n",
       " '7': [2272.865027679175, -0.00058363917434333518],\n",
       " '8': [6322.7989151584507, -0.0075876362263398106],\n",
       " '9': [3416.4175350456371, -0.00050214678317294856]}"
      ]
     },
     "execution_count": 13,
     "metadata": {},
     "output_type": "execute_result"
    }
   ],
   "source": [
    "sensi_dict_Jan_PM"
   ]
  },
  {
   "cell_type": "code",
   "execution_count": 14,
   "metadata": {
    "collapsed": false
   },
   "outputs": [
    {
     "data": {
      "text/plain": [
       "[<__main__.Link_with_Sensitivity at 0x7fbef79d5b90>,\n",
       " <__main__.Link_with_Sensitivity at 0x7fbef79d5bd0>,\n",
       " <__main__.Link_with_Sensitivity at 0x7fbef79d5c10>,\n",
       " <__main__.Link_with_Sensitivity at 0x7fbef79d5c50>,\n",
       " <__main__.Link_with_Sensitivity at 0x7fbef79d5c90>,\n",
       " <__main__.Link_with_Sensitivity at 0x7fbef79d5cd0>,\n",
       " <__main__.Link_with_Sensitivity at 0x7fbef79d5d10>,\n",
       " <__main__.Link_with_Sensitivity at 0x7fbef79d5d50>,\n",
       " <__main__.Link_with_Sensitivity at 0x7fbef79d5d90>,\n",
       " <__main__.Link_with_Sensitivity at 0x7fbef79d5dd0>,\n",
       " <__main__.Link_with_Sensitivity at 0x7fbef79d5e10>,\n",
       " <__main__.Link_with_Sensitivity at 0x7fbef79d5e50>,\n",
       " <__main__.Link_with_Sensitivity at 0x7fbef79d5e90>,\n",
       " <__main__.Link_with_Sensitivity at 0x7fbef79d5ed0>,\n",
       " <__main__.Link_with_Sensitivity at 0x7fbef79d5f10>,\n",
       " <__main__.Link_with_Sensitivity at 0x7fbef79d5f50>,\n",
       " <__main__.Link_with_Sensitivity at 0x7fbef79d5f90>,\n",
       " <__main__.Link_with_Sensitivity at 0x7fbef79d5fd0>,\n",
       " <__main__.Link_with_Sensitivity at 0x7fbef79d6050>,\n",
       " <__main__.Link_with_Sensitivity at 0x7fbef79d6090>,\n",
       " <__main__.Link_with_Sensitivity at 0x7fbef79d60d0>,\n",
       " <__main__.Link_with_Sensitivity at 0x7fbef79d6110>,\n",
       " <__main__.Link_with_Sensitivity at 0x7fbef79d6150>,\n",
       " <__main__.Link_with_Sensitivity at 0x7fbef79d6190>]"
      ]
     },
     "execution_count": 14,
     "metadata": {},
     "output_type": "execute_result"
    }
   ],
   "source": [
    "links_with_sensitivity_list"
   ]
  },
  {
   "cell_type": "code",
   "execution_count": 15,
   "metadata": {
    "collapsed": false
   },
   "outputs": [
    {
     "data": {
      "text/plain": [
       "8"
      ]
     },
     "execution_count": 15,
     "metadata": {},
     "output_type": "execute_result"
    }
   ],
   "source": [
    "links_with_sensitivity_list[23].init_node"
   ]
  },
  {
   "cell_type": "code",
   "execution_count": 16,
   "metadata": {
    "collapsed": false
   },
   "outputs": [
    {
     "data": {
      "text/plain": [
       "7"
      ]
     },
     "execution_count": 16,
     "metadata": {},
     "output_type": "execute_result"
    }
   ],
   "source": [
    "links_with_sensitivity_list[23].term_node"
   ]
  },
  {
   "cell_type": "code",
   "execution_count": 17,
   "metadata": {
    "collapsed": false
   },
   "outputs": [
    {
     "data": {
      "text/plain": [
       "2229.8853592394594"
      ]
     },
     "execution_count": 17,
     "metadata": {},
     "output_type": "execute_result"
    }
   ],
   "source": [
    "links_with_sensitivity_list[0].DV_Dc_0a()"
   ]
  },
  {
   "cell_type": "code",
   "execution_count": 18,
   "metadata": {
    "collapsed": false
   },
   "outputs": [
    {
     "data": {
      "text/plain": [
       "-0.00035791102630266066"
      ]
     },
     "execution_count": 18,
     "metadata": {},
     "output_type": "execute_result"
    }
   ],
   "source": [
    "links_with_sensitivity_list[0].DV_Dm_a()"
   ]
  },
  {
   "cell_type": "code",
   "execution_count": 19,
   "metadata": {
    "collapsed": false
   },
   "outputs": [
    {
     "data": {
      "text/plain": [
       "2227.269846061406"
      ]
     },
     "execution_count": 19,
     "metadata": {},
     "output_type": "execute_result"
    }
   ],
   "source": [
    "links_with_sensitivity_list[0].PM_flow"
   ]
  },
  {
   "cell_type": "code",
   "execution_count": 20,
   "metadata": {
    "collapsed": false
   },
   "outputs": [
    {
     "data": {
      "text/plain": [
       "0.29483889080059972"
      ]
     },
     "execution_count": 20,
     "metadata": {},
     "output_type": "execute_result"
    }
   ],
   "source": [
    "links_with_sensitivity_list[0].free_flow_time"
   ]
  },
  {
   "cell_type": "code",
   "execution_count": 21,
   "metadata": {
    "collapsed": false
   },
   "outputs": [
    {
     "data": {
      "text/plain": [
       "5881.0344470790751"
      ]
     },
     "execution_count": 21,
     "metadata": {},
     "output_type": "execute_result"
    }
   ],
   "source": [
    "links_with_sensitivity_list[0].PM_capac"
   ]
  },
  {
   "cell_type": "code",
   "execution_count": 22,
   "metadata": {
    "collapsed": false
   },
   "outputs": [
    {
     "data": {
      "text/plain": [
       "[1.0,\n",
       " -0.0032911147495300157,\n",
       " 0.05716352566507678,\n",
       " -0.1959178358510771,\n",
       " 0.622724274177005,\n",
       " -0.9034464983958226,\n",
       " 0.9404375065865873,\n",
       " -0.4685770118071956,\n",
       " 0.10906162396529763]"
      ]
     },
     "execution_count": 22,
     "metadata": {},
     "output_type": "execute_result"
    }
   ],
   "source": [
    "links_with_sensitivity_list[0].fcoeffs"
   ]
  },
  {
   "cell_type": "code",
   "execution_count": 23,
   "metadata": {
    "collapsed": false
   },
   "outputs": [
    {
     "data": {
      "text/plain": [
       "24"
      ]
     },
     "execution_count": 23,
     "metadata": {},
     "output_type": "execute_result"
    }
   ],
   "source": [
    "len(links_with_sensitivity_list)"
   ]
  },
  {
   "cell_type": "code",
   "execution_count": null,
   "metadata": {
    "collapsed": true
   },
   "outputs": [],
   "source": []
  }
 ],
 "metadata": {
  "kernelspec": {
   "display_name": "Python 2",
   "language": "python",
   "name": "python2"
  },
  "language_info": {
   "codemirror_mode": {
    "name": "ipython",
    "version": 2
   },
   "file_extension": ".py",
   "mimetype": "text/x-python",
   "name": "python",
   "nbconvert_exporter": "python",
   "pygments_lexer": "ipython2",
   "version": "2.7.12"
  }
 },
 "nbformat": 4,
 "nbformat_minor": 0
}
