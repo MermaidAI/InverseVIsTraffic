{
 "cells": [
  {
   "cell_type": "code",
   "execution_count": 10,
   "metadata": {
    "collapsed": false
   },
   "outputs": [],
   "source": [
    "%run ../Python_files/util_data_storage_and_load.py"
   ]
  },
  {
   "cell_type": "code",
   "execution_count": 11,
   "metadata": {
    "collapsed": false
   },
   "outputs": [],
   "source": [
    "%run ../Python_files/util.py"
   ]
  },
  {
   "cell_type": "code",
   "execution_count": 12,
   "metadata": {
    "collapsed": true
   },
   "outputs": [],
   "source": [
    "link_day_Jan_dict = zload('../temp_files/link_day_Jan_dict.pkz')"
   ]
  },
  {
   "cell_type": "code",
   "execution_count": 13,
   "metadata": {
    "collapsed": true
   },
   "outputs": [],
   "source": [
    "link_label_dict = zload('../temp_files/link_label_dict.pkz')\n",
    "link_label_dict_ = zload('../temp_files/link_label_dict_.pkz')"
   ]
  },
  {
   "cell_type": "code",
   "execution_count": 14,
   "metadata": {
    "collapsed": false
   },
   "outputs": [],
   "source": [
    "# load the estimated g() function \n",
    "\n",
    "import json\n",
    "\n",
    "with open('../temp_files/coeffs_dict_Jan_PM.json', 'r') as json_file:\n",
    "    coeffs_dict_Jan_PM = json.load(json_file)\n",
    "\n",
    "with open('../temp_files/cross_validation_best_key_Jan_PM.json', 'r') as json_file_:\n",
    "    cross_validation_best_key_Jan_PM = json.load(json_file_)"
   ]
  },
  {
   "cell_type": "code",
   "execution_count": 15,
   "metadata": {
    "collapsed": false
   },
   "outputs": [
    {
     "data": {
      "text/plain": [
       "[1.0,\n",
       " -0.0003470530128280061,\n",
       " 0.03365480352904097,\n",
       " -0.025303735035488006,\n",
       " -0.002946576187329437,\n",
       " 0.35179250147673224,\n",
       " -0.5080164756168558,\n",
       " 0.39924852978944453,\n",
       " -0.10710290346237086]"
      ]
     },
     "execution_count": 15,
     "metadata": {},
     "output_type": "execute_result"
    }
   ],
   "source": [
    "coeffs_dict_Jan_PM[cross_validation_best_key_Jan_PM]\n",
    "#cross_validation_best_key_Apr_PM"
   ]
  },
  {
   "cell_type": "code",
   "execution_count": 16,
   "metadata": {
    "collapsed": false
   },
   "outputs": [
    {
     "data": {
      "text/plain": [
       "[1, 2, 3, 4, 5, 6, 7, 8, 9]"
      ]
     },
     "execution_count": 16,
     "metadata": {},
     "output_type": "execute_result"
    }
   ],
   "source": [
    "range(10)[1:]"
   ]
  },
  {
   "cell_type": "code",
   "execution_count": 17,
   "metadata": {
    "collapsed": false
   },
   "outputs": [],
   "source": [
    "links_with_sensitivity_list = []\n",
    "\n",
    "for link_idx in range(24):\n",
    "    key = 'link_' + str(link_idx) + '_' + str(10)  # we take January 10 for sensitivity analysis\n",
    "    init_node = link_day_Jan_dict[key].init_node\n",
    "    term_node = link_day_Jan_dict[key].term_node\n",
    "    tmc_set = link_day_Jan_dict[key].tmc_set\n",
    "    AM_capac = 0\n",
    "    MD_capac = 0\n",
    "    PM_capac = link_day_Jan_dict[key].PM_capac\n",
    "    NT_capac = 0\n",
    "    free_flow_time = link_day_Jan_dict[key].free_flow_time\n",
    "    length = 0\n",
    "    AM_flow = 0\n",
    "    MD_flow = 0\n",
    "    PM_flow = link_day_Jan_dict[key].PM_flow\n",
    "    NT_flow = 0\n",
    "    coeffs = coeffs_dict_Jan_PM[cross_validation_best_key_Jan_PM]\n",
    "    links_with_sensitivity = Link_with_Sensitivity(init_node, term_node, tmc_set, AM_capac, MD_capac, \\\n",
    "                                                   PM_capac, NT_capac, free_flow_time, length, \\\n",
    "                                                   AM_flow, MD_flow, PM_flow, NT_flow, \\\n",
    "                                                   coeffs)\n",
    "    links_with_sensitivity_list.append(links_with_sensitivity)"
   ]
  },
  {
   "cell_type": "code",
   "execution_count": 18,
   "metadata": {
    "collapsed": false
   },
   "outputs": [],
   "source": [
    "sensi_dict_Jan_PM = {}\n",
    "DV_Dc_0a_Jan_PM_list = []\n",
    "DV_Dm_a_Jan_PM_list = []\n",
    "\n",
    "for i in range(24):\n",
    "    sensi_dict_Jan_PM[str(i)] = [links_with_sensitivity_list[i].DV_Dc_0a(), links_with_sensitivity_list[i].DV_Dm_a()]\n",
    "    DV_Dc_0a_Jan_PM_list.append(links_with_sensitivity_list[i].DV_Dc_0a())\n",
    "    DV_Dm_a_Jan_PM_list.append(links_with_sensitivity_list[i].DV_Dm_a())\n",
    "    \n",
    "zdump(sensi_dict_Jan_PM, '../temp_files/sensi_dict_Jan_PM.pkz')"
   ]
  },
  {
   "cell_type": "code",
   "execution_count": 19,
   "metadata": {
    "collapsed": false
   },
   "outputs": [],
   "source": [
    "DV_Dc_0a_Jan_PM_normalized_list = []\n",
    "DV_Dm_a_Jan_PM_normalized_list = []\n",
    "\n",
    "for i in range(24):\n",
    "    a = \"%.3f\" %(DV_Dc_0a_Jan_PM_list[i] / max(DV_Dc_0a_Jan_PM_list))\n",
    "    a = float(a)\n",
    "    b = \"%.3f\" %(DV_Dm_a_Jan_PM_list[i] / min(DV_Dm_a_Jan_PM_list))\n",
    "    b = float(b)\n",
    "    DV_Dc_0a_Jan_PM_normalized_list.append(a)\n",
    "    DV_Dm_a_Jan_PM_normalized_list.append(b)\n",
    "    \n",
    "zdump(DV_Dc_0a_Jan_PM_normalized_list, '../temp_files/DV_Dc_0a_Jan_PM_normalized_list.pkz')\n",
    "zdump(DV_Dm_a_Jan_PM_normalized_list, '../temp_files/DV_Dm_a_Jan_PM_normalized_list.pkz')"
   ]
  },
  {
   "cell_type": "code",
   "execution_count": 20,
   "metadata": {
    "collapsed": false
   },
   "outputs": [
    {
     "data": {
      "text/plain": [
       "[0.226,\n",
       " 0.177,\n",
       " 0.26,\n",
       " 0.208,\n",
       " 0.54,\n",
       " 0.198,\n",
       " 0.199,\n",
       " 0.242,\n",
       " 0.924,\n",
       " 0.327,\n",
       " 0.951,\n",
       " 0.543,\n",
       " 0.389,\n",
       " 0.245,\n",
       " 0.539,\n",
       " 0.42,\n",
       " 0.178,\n",
       " 0.129,\n",
       " 0.341,\n",
       " 1.0,\n",
       " 0.892,\n",
       " 0.838,\n",
       " 0.234,\n",
       " 0.833]"
      ]
     },
     "execution_count": 20,
     "metadata": {},
     "output_type": "execute_result"
    }
   ],
   "source": [
    "DV_Dc_0a_Jan_PM_normalized_list"
   ]
  },
  {
   "cell_type": "code",
   "execution_count": 21,
   "metadata": {
    "collapsed": false,
    "scrolled": true
   },
   "outputs": [
    {
     "data": {
      "text/plain": [
       "[0.009,\n",
       " 0.005,\n",
       " 0.011,\n",
       " 0.005,\n",
       " 0.036,\n",
       " 0.002,\n",
       " 0.009,\n",
       " 0.017,\n",
       " 0.496,\n",
       " 0.009,\n",
       " 0.605,\n",
       " 0.094,\n",
       " 0.048,\n",
       " 0.007,\n",
       " 0.119,\n",
       " 0.103,\n",
       " 0.004,\n",
       " 0.002,\n",
       " 0.011,\n",
       " 0.883,\n",
       " 0.888,\n",
       " 0.776,\n",
       " 0.006,\n",
       " 1.0]"
      ]
     },
     "execution_count": 21,
     "metadata": {},
     "output_type": "execute_result"
    }
   ],
   "source": [
    "DV_Dm_a_Jan_PM_normalized_list"
   ]
  },
  {
   "cell_type": "code",
   "execution_count": 22,
   "metadata": {
    "collapsed": false
   },
   "outputs": [
    {
     "data": {
      "text/plain": [
       "{'0': [3496.1094567733708, -8.2437994887736061e-05],\n",
       " '1': [2744.1597247654258, -4.4869950966346949e-05],\n",
       " '10': [14729.593476859716, -0.0055996163856775506],\n",
       " '11': [8400.5116800725173, -0.00086711073362511111],\n",
       " '12': [6015.7002721622148, -0.00044702943984896161],\n",
       " '13': [3791.5193593411104, -6.4857266604592535e-05],\n",
       " '14': [8341.2068097898518, -0.0011019919150386053],\n",
       " '15': [6496.1117497946734, -0.00095420333063972538],\n",
       " '16': [2758.4473869527992, -4.1111823757603268e-05],\n",
       " '17': [1998.7093133961216, -1.55496762334079e-05],\n",
       " '18': [5272.4872663101532, -9.7447823095259557e-05],\n",
       " '19': [15484.297594923064, -0.0081681281328204146],\n",
       " '2': [4020.7134624203045, -9.7631685933687116e-05],\n",
       " '20': [13807.0416556129, -0.0082176239551164983],\n",
       " '21': [12970.540022675357, -0.0071768079346181792],\n",
       " '22': [3622.8292670322871, -5.4411470791814053e-05],\n",
       " '23': [12896.375159482279, -0.0092514246829002427],\n",
       " '3': [3216.7782973823782, -4.7984700180779621e-05],\n",
       " '4': [8363.4057475193276, -0.00033572481576724594],\n",
       " '5': [3073.4779174017654, -1.8659449673698389e-05],\n",
       " '6': [3082.0491292643383, -8.3430283050383593e-05],\n",
       " '7': [3740.0798121951784, -0.00015858396935238472],\n",
       " '8': [14302.775725590624, -0.0045865911989046906],\n",
       " '9': [5055.6650282908531, -8.6814423956298561e-05]}"
      ]
     },
     "execution_count": 22,
     "metadata": {},
     "output_type": "execute_result"
    }
   ],
   "source": [
    "sensi_dict_Jan_PM"
   ]
  },
  {
   "cell_type": "code",
   "execution_count": 23,
   "metadata": {
    "collapsed": false
   },
   "outputs": [
    {
     "data": {
      "text/plain": [
       "[<__main__.Link_with_Sensitivity at 0x7f5665641750>,\n",
       " <__main__.Link_with_Sensitivity at 0x7f5665641d10>,\n",
       " <__main__.Link_with_Sensitivity at 0x7f5665641790>,\n",
       " <__main__.Link_with_Sensitivity at 0x7f5665641850>,\n",
       " <__main__.Link_with_Sensitivity at 0x7f5665641890>,\n",
       " <__main__.Link_with_Sensitivity at 0x7f5665641950>,\n",
       " <__main__.Link_with_Sensitivity at 0x7f5665641990>,\n",
       " <__main__.Link_with_Sensitivity at 0x7f56656419d0>,\n",
       " <__main__.Link_with_Sensitivity at 0x7f5665641a10>,\n",
       " <__main__.Link_with_Sensitivity at 0x7f5665641a50>,\n",
       " <__main__.Link_with_Sensitivity at 0x7f5665641a90>,\n",
       " <__main__.Link_with_Sensitivity at 0x7f5665641ad0>,\n",
       " <__main__.Link_with_Sensitivity at 0x7f5665641b10>,\n",
       " <__main__.Link_with_Sensitivity at 0x7f5665641b50>,\n",
       " <__main__.Link_with_Sensitivity at 0x7f5665641b90>,\n",
       " <__main__.Link_with_Sensitivity at 0x7f5665641bd0>,\n",
       " <__main__.Link_with_Sensitivity at 0x7f5665641c10>,\n",
       " <__main__.Link_with_Sensitivity at 0x7f5665641c50>,\n",
       " <__main__.Link_with_Sensitivity at 0x7f5665641c90>,\n",
       " <__main__.Link_with_Sensitivity at 0x7f5665641cd0>,\n",
       " <__main__.Link_with_Sensitivity at 0x7f566569d6d0>,\n",
       " <__main__.Link_with_Sensitivity at 0x7f566569d710>,\n",
       " <__main__.Link_with_Sensitivity at 0x7f566569d750>,\n",
       " <__main__.Link_with_Sensitivity at 0x7f566569d790>]"
      ]
     },
     "execution_count": 23,
     "metadata": {},
     "output_type": "execute_result"
    }
   ],
   "source": [
    "links_with_sensitivity_list"
   ]
  },
  {
   "cell_type": "code",
   "execution_count": 24,
   "metadata": {
    "collapsed": false
   },
   "outputs": [
    {
     "data": {
      "text/plain": [
       "8"
      ]
     },
     "execution_count": 24,
     "metadata": {},
     "output_type": "execute_result"
    }
   ],
   "source": [
    "links_with_sensitivity_list[23].init_node"
   ]
  },
  {
   "cell_type": "code",
   "execution_count": 25,
   "metadata": {
    "collapsed": false
   },
   "outputs": [
    {
     "data": {
      "text/plain": [
       "7"
      ]
     },
     "execution_count": 25,
     "metadata": {},
     "output_type": "execute_result"
    }
   ],
   "source": [
    "links_with_sensitivity_list[23].term_node"
   ]
  },
  {
   "cell_type": "code",
   "execution_count": 26,
   "metadata": {
    "collapsed": false
   },
   "outputs": [
    {
     "data": {
      "text/plain": [
       "3496.1094567733708"
      ]
     },
     "execution_count": 26,
     "metadata": {},
     "output_type": "execute_result"
    }
   ],
   "source": [
    "links_with_sensitivity_list[0].DV_Dc_0a()"
   ]
  },
  {
   "cell_type": "code",
   "execution_count": 27,
   "metadata": {
    "collapsed": false
   },
   "outputs": [
    {
     "data": {
      "text/plain": [
       "-8.2437994887736061e-05"
      ]
     },
     "execution_count": 27,
     "metadata": {},
     "output_type": "execute_result"
    }
   ],
   "source": [
    "links_with_sensitivity_list[0].DV_Dm_a()"
   ]
  },
  {
   "cell_type": "code",
   "execution_count": 29,
   "metadata": {
    "collapsed": false
   },
   "outputs": [
    {
     "data": {
      "text/plain": [
       "3494.2252991458495"
      ]
     },
     "execution_count": 29,
     "metadata": {},
     "output_type": "execute_result"
    }
   ],
   "source": [
    "links_with_sensitivity_list[0].PM_flow"
   ]
  },
  {
   "cell_type": "code",
   "execution_count": 30,
   "metadata": {
    "collapsed": false
   },
   "outputs": [
    {
     "data": {
      "text/plain": [
       "0.30907697726948213"
      ]
     },
     "execution_count": 30,
     "metadata": {},
     "output_type": "execute_result"
    }
   ],
   "source": [
    "links_with_sensitivity_list[0].free_flow_time"
   ]
  },
  {
   "cell_type": "code",
   "execution_count": 31,
   "metadata": {
    "collapsed": false
   },
   "outputs": [
    {
     "data": {
      "text/plain": [
       "14699.597922185039"
      ]
     },
     "execution_count": 31,
     "metadata": {},
     "output_type": "execute_result"
    }
   ],
   "source": [
    "links_with_sensitivity_list[0].PM_capac"
   ]
  },
  {
   "cell_type": "code",
   "execution_count": 32,
   "metadata": {
    "collapsed": false
   },
   "outputs": [
    {
     "data": {
      "text/plain": [
       "[1.0,\n",
       " -0.0003470530128280061,\n",
       " 0.03365480352904097,\n",
       " -0.025303735035488006,\n",
       " -0.002946576187329437,\n",
       " 0.35179250147673224,\n",
       " -0.5080164756168558,\n",
       " 0.39924852978944453,\n",
       " -0.10710290346237086]"
      ]
     },
     "execution_count": 32,
     "metadata": {},
     "output_type": "execute_result"
    }
   ],
   "source": [
    "links_with_sensitivity_list[0].fcoeffs"
   ]
  },
  {
   "cell_type": "code",
   "execution_count": 33,
   "metadata": {
    "collapsed": false
   },
   "outputs": [
    {
     "data": {
      "text/plain": [
       "24"
      ]
     },
     "execution_count": 33,
     "metadata": {},
     "output_type": "execute_result"
    }
   ],
   "source": [
    "len(links_with_sensitivity_list)"
   ]
  },
  {
   "cell_type": "code",
   "execution_count": null,
   "metadata": {
    "collapsed": true
   },
   "outputs": [],
   "source": []
  }
 ],
 "metadata": {
  "kernelspec": {
   "display_name": "Python 2",
   "language": "python",
   "name": "python2"
  },
  "language_info": {
   "codemirror_mode": {
    "name": "ipython",
    "version": 2
   },
   "file_extension": ".py",
   "mimetype": "text/x-python",
   "name": "python",
   "nbconvert_exporter": "python",
   "pygments_lexer": "ipython2",
   "version": "2.7.11"
  }
 },
 "nbformat": 4,
 "nbformat_minor": 0
}
