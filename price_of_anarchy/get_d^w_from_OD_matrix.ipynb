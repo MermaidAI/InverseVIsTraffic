{
 "cells": [
  {
   "cell_type": "code",
   "execution_count": 5,
   "metadata": {
    "collapsed": true
   },
   "outputs": [],
   "source": [
    "with open('../temp_files/OD_demand_matrix_Apr_weekday_AM.txt', 'r') as f:\n",
    "    read_data = f.readlines()"
   ]
  },
  {
   "cell_type": "code",
   "execution_count": 14,
   "metadata": {
    "collapsed": false
   },
   "outputs": [],
   "source": [
    "demand_dict = {}\n",
    "\n",
    "for line in read_data:\n",
    "    a, b, c = line.split(',')\n",
    "    a = int(a)\n",
    "    b = int(b)\n",
    "    c = float(c)\n",
    "    demand_dict[(a,b)] = c"
   ]
  },
  {
   "cell_type": "code",
   "execution_count": 15,
   "metadata": {
    "collapsed": false
   },
   "outputs": [
    {
     "data": {
      "text/plain": [
       "{(1, 2): 0.0,\n",
       " (1, 3): 3977.424488,\n",
       " (1, 4): 0.0,\n",
       " (1, 5): 3e-06,\n",
       " (1, 6): 1366.839916,\n",
       " (1, 7): 7e-06,\n",
       " (1, 8): 0.0,\n",
       " (2, 1): 1561.820454,\n",
       " (2, 3): 674.186485,\n",
       " (2, 4): 3239.717326,\n",
       " (2, 5): 2e-06,\n",
       " (2, 6): 517.687699,\n",
       " (2, 7): 7e-06,\n",
       " (2, 8): 3e-06,\n",
       " (3, 1): 1e-06,\n",
       " (3, 2): 1e-06,\n",
       " (3, 4): 0.0,\n",
       " (3, 5): 2e-06,\n",
       " (3, 6): 2323.413746,\n",
       " (3, 7): 12246.83753,\n",
       " (3, 8): 2e-06,\n",
       " (4, 1): 3.1e-05,\n",
       " (4, 2): 2702.498589,\n",
       " (4, 3): 8290.410833,\n",
       " (4, 5): 3.6e-05,\n",
       " (4, 6): 3.3e-05,\n",
       " (4, 7): 2251.62298,\n",
       " (4, 8): 5074.950226,\n",
       " (5, 1): 2140.908398,\n",
       " (5, 2): 2078.634211,\n",
       " (5, 3): 252.520097,\n",
       " (5, 4): 4e-06,\n",
       " (5, 6): 7253.119894,\n",
       " (5, 7): 5e-06,\n",
       " (5, 8): 4162.857125,\n",
       " (6, 1): 4133.786172,\n",
       " (6, 2): 4667.312811,\n",
       " (6, 3): 1.8e-05,\n",
       " (6, 4): 1803.049669,\n",
       " (6, 5): 1563.087945,\n",
       " (6, 7): 5868.906844,\n",
       " (6, 8): 1.3e-05,\n",
       " (7, 1): 1301.367846,\n",
       " (7, 2): 1281.089983,\n",
       " (7, 3): 3e-06,\n",
       " (7, 4): 0.0001,\n",
       " (7, 5): 1e-06,\n",
       " (7, 6): 6273.414053,\n",
       " (7, 8): 1.3e-05,\n",
       " (8, 1): 0.0,\n",
       " (8, 2): 0.0,\n",
       " (8, 3): 1e-06,\n",
       " (8, 4): 2067.152705,\n",
       " (8, 5): 1947.339467,\n",
       " (8, 6): 0.0,\n",
       " (8, 7): 0.0}"
      ]
     },
     "execution_count": 15,
     "metadata": {},
     "output_type": "execute_result"
    }
   ],
   "source": [
    "demand_dict"
   ]
  },
  {
   "cell_type": "code",
   "execution_count": null,
   "metadata": {
    "collapsed": true
   },
   "outputs": [],
   "source": []
  }
 ],
 "metadata": {
  "kernelspec": {
   "display_name": "Python 2",
   "language": "python",
   "name": "python2"
  },
  "language_info": {
   "codemirror_mode": {
    "name": "ipython",
    "version": 2
   },
   "file_extension": ".py",
   "mimetype": "text/x-python",
   "name": "python",
   "nbconvert_exporter": "python",
   "pygments_lexer": "ipython2",
   "version": "2.7.11"
  }
 },
 "nbformat": 4,
 "nbformat_minor": 0
}
