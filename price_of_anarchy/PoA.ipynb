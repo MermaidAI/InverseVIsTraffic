{
 "cells": [
  {
   "cell_type": "code",
   "execution_count": null,
   "metadata": {
    "collapsed": true
   },
   "outputs": [],
   "source": [
    "from gurobipy import *\n",
    "\n",
    "# define a function converting rough flow vector to feasible flow vector \n",
    "# (satisfying flow conservation law)\n",
    "def flow_conservation_adjustment(y_0):\n",
    "\n",
    "    L = len(y_0)  # dimension of flow vector x\n",
    "    assert(L == 24)\n",
    "\n",
    "    # y_0 = x[:,1]  # initial flow vector\n",
    "\n",
    "\n",
    "    model = Model(\"Price_of_Anarchy\")\n",
    "\n",
    "    y = []\n",
    "    for l in range(L):\n",
    "        y.append(model.addVar(name='y_' + str(l)))\n",
    "\n",
    "    model.update() \n",
    "\n",
    "    # Set objective: ||y-y_0||^2\n",
    "    obj = 0\n",
    "    for l in range(L):\n",
    "        obj += (y[l] - y_0[l]) * (y[l] - y_0[l])\n",
    "    model.setObjective(obj)\n",
    "\n",
    "    # Add nonnegative constraint: y >= 0\n",
    "    for l in range(L):\n",
    "        model.addConstr(y[l] >= 0)\n",
    "    # Add flow conservation constraints\n",
    "    model.addConstr(y[1] + y[3] == y[0] + y[2])\n",
    "    model.addConstr(y[0] + y[5] + y[7] == y[1] + y[4] + y[6])\n",
    "    model.addConstr(y[2] + y[4] + y[9] + y[11] == y[3] + y[5] + y[8] + y[10])\n",
    "    model.addConstr(y[6] + y[13] + y[17] == y[7] + y[12] + y[16])\n",
    "    model.addConstr(y[8] + y[12] + y[15] + y[19] == y[9] + y[13] + y[14] + y[18])\n",
    "    model.addConstr(y[10] + y[14] + y[21] == y[11] + y[15] + y[20])\n",
    "    model.addConstr(y[18] + y[20] + y[23] == y[19] + y[21] + y[22])\n",
    "    model.addConstr(y[16] + y[22] == y[17] + y[23])\n",
    "\n",
    "    model.update() \n",
    "\n",
    "    model.setParam('OutputFlag', False)\n",
    "    model.optimize()\n",
    "\n",
    "    y = []\n",
    "    for v in model.getVars():\n",
    "        # print('%s %g' % (v.varName, v.x))\n",
    "        y.append(v.x)\n",
    "    # print('Obj: %g' % obj.getValue())\n",
    "    return y"
   ]
  }
 ],
 "metadata": {
  "kernelspec": {
   "display_name": "Python 2",
   "language": "python",
   "name": "python2"
  },
  "language_info": {
   "codemirror_mode": {
    "name": "ipython",
    "version": 2
   },
   "file_extension": ".py",
   "mimetype": "text/x-python",
   "name": "python",
   "nbconvert_exporter": "python",
   "pygments_lexer": "ipython2",
   "version": "2.7.11"
  }
 },
 "nbformat": 4,
 "nbformat_minor": 0
}
