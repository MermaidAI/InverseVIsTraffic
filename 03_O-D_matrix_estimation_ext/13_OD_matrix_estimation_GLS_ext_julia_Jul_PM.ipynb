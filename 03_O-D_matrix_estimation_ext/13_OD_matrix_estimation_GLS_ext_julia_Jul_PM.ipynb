{
 "cells": [
  {
   "cell_type": "code",
   "execution_count": 1,
   "metadata": {
    "collapsed": false
   },
   "outputs": [
    {
     "name": "stdout",
     "output_type": "stream",
     "text": [
      "No dicts found; please check load_dicts...\n",
      "Optimize a model with 462 rows, 462 columns and 462 nonzeros\n",
      "Model has 106953 quadratic objective terms\n",
      "Coefficient statistics:\n",
      "  Matrix range    [1e+00, 1e+00]\n",
      "  Objective range [8e-02, 1e+05]\n",
      "  Bounds range    [0e+00, 0e+00]\n",
      "  RHS range       [0e+00, 0e+00]\n",
      "Warning: diagonal adjustment of 3.7e-08 performed to make Q PSD\n",
      "Presolve removed 462 rows and 0 columns\n",
      "Presolve time: 0.01s\n",
      "Presolved: 0 rows, 462 columns, 0 nonzeros\n",
      "Presolved model has 106953 quadratic objective terms\n",
      "Ordering time: 0.00s\n",
      "\n",
      "Barrier statistics:\n",
      " Free vars  : 64\n",
      " AA' NZ     : 2.016e+03\n",
      " Factor NZ  : 2.080e+03\n",
      " Factor Ops : 8.944e+04 (less than 1 second per iteration)\n",
      " Threads    : 4\n",
      "\n",
      "                  Objective                Residual\n",
      "Iter       Primal          Dual         Primal    Dual     Compl     Time\n",
      "   0  -7.98688753e+07  0.00000000e+00  2.77e+05 1.63e+02  1.00e+06     0s\n",
      "   1  -2.34315639e+06 -2.40472712e+06  1.47e+04 8.64e+00  6.24e+04     0s\n",
      "   2   4.90631654e+05 -1.00152249e+06  7.50e+02 4.41e-01  6.14e+03     0s\n",
      "   3   9.25391247e+04 -2.45023033e+05  5.37e+00 3.16e-03  7.44e+02     0s\n",
      "   4  -2.76104300e+04 -8.95857925e+04  4.10e-01 2.41e-04  1.35e+02     0s\n",
      "   5  -4.24889589e+04 -7.03716153e+04  1.63e-01 9.57e-05  6.09e+01     0s\n",
      "   6  -4.78487476e+04 -6.32507430e+04  8.05e-02 4.74e-05  3.38e+01     0s\n",
      "   7  -5.25098116e+04 -5.69832954e+04  1.11e-02 6.55e-06  9.79e+00     0s\n",
      "   8  -5.47057618e+04 -5.70131922e+04  1.12e-08 4.37e-11  4.99e+00     0s\n",
      "   9  -5.57983402e+04 -5.62624566e+04  8.93e-11 4.37e-11  1.00e+00     0s\n",
      "  10  -5.60333818e+04 -5.61711931e+04  8.48e-11 2.91e-11  2.98e-01     0s\n",
      "  11  -5.61476888e+04 -5.61503697e+04  1.43e-10 2.18e-11  5.80e-03     0s\n",
      "  12  -5.61488601e+04 -5.61495639e+04  1.03e-10 2.91e-11  1.52e-03     0s\n",
      "  13  -5.61492473e+04 -5.61493565e+04  4.31e-10 1.46e-11  2.36e-04     0s\n",
      "  14  -5.61493090e+04 -5.61493274e+04  4.17e-10 5.82e-11  3.99e-05     0s\n",
      "  15  -5.61493218e+04 -5.61493231e+04  9.35e-11 2.91e-11  2.82e-06     0s\n",
      "  16  -5.61493225e+04 -5.61493228e+04  5.86e-11 2.91e-11  5.47e-07     0s\n",
      "  17  -5.61493227e+04 -5.61493227e+04  2.33e-10 4.37e-11  3.15e-08     0s\n",
      "  18  -5.61493227e+04 -5.61493227e+04  4.14e-11 5.82e-11  2.76e-09     0s\n",
      "\n",
      "Barrier solved model in 18 iterations and 0.03 seconds\n",
      "Optimal objective -5.61493227e+04\n",
      "\n"
     ]
    }
   ],
   "source": [
    "using PyCall\n",
    "unshift!(PyVector(pyimport(\"sys\")[\"path\"]), \"\");\n",
    "@pyimport GLS_Jul_weekday_PM_ext"
   ]
  },
  {
   "cell_type": "code",
   "execution_count": 2,
   "metadata": {
    "collapsed": false
   },
   "outputs": [
    {
     "data": {
      "text/plain": [
       "462"
      ]
     },
     "execution_count": 2,
     "metadata": {},
     "output_type": "execute_result"
    }
   ],
   "source": [
    "xi_list = GLS_Jul_weekday_PM_ext.xi_list\n",
    "P = GLS_Jul_weekday_PM_ext.P\n",
    "L = GLS_Jul_weekday_PM_ext.L"
   ]
  },
  {
   "cell_type": "code",
   "execution_count": 3,
   "metadata": {
    "collapsed": false
   },
   "outputs": [
    {
     "data": {
      "text/plain": [
       "(462,8260)"
      ]
     },
     "execution_count": 3,
     "metadata": {},
     "output_type": "execute_result"
    }
   ],
   "source": [
    "size(P, 1), size(P, 2)"
   ]
  },
  {
   "cell_type": "code",
   "execution_count": 4,
   "metadata": {
    "collapsed": false
   },
   "outputs": [
    {
     "data": {
      "text/plain": [
       "190-element Array{Any,1}:\n",
       " 375\n",
       " 331\n",
       " 409\n",
       " 438\n",
       " 404\n",
       " 443\n",
       "  61\n",
       " 429\n",
       " 207\n",
       " 353\n",
       " 439\n",
       " 206\n",
       " 392\n",
       "   ⋮\n",
       " 393\n",
       "  16\n",
       " 366\n",
       " 450\n",
       " 142\n",
       " 422\n",
       "  58\n",
       " 269\n",
       " 364\n",
       " 379\n",
       " 188\n",
       " 436"
      ]
     },
     "execution_count": 4,
     "metadata": {},
     "output_type": "execute_result"
    }
   ],
   "source": [
    "fictitious_OD_list = GLS_Jul_weekday_PM_ext.zload(\"../temp_files/fictitious_OD_list\")"
   ]
  },
  {
   "cell_type": "code",
   "execution_count": 5,
   "metadata": {
    "collapsed": false
   },
   "outputs": [
    {
     "data": {
      "text/plain": [
       "56-element Array{Any,1}:\n",
       "   2\n",
       "   5\n",
       "  10\n",
       "  11\n",
       "  12\n",
       "  14\n",
       "  15\n",
       "  63\n",
       "  68\n",
       "  73\n",
       "  74\n",
       "  75\n",
       "  77\n",
       "   ⋮\n",
       " 321\n",
       " 326\n",
       " 327\n",
       " 328\n",
       " 330\n",
       " 336\n",
       " 339\n",
       " 342\n",
       " 347\n",
       " 348\n",
       " 349\n",
       " 351"
      ]
     },
     "execution_count": 5,
     "metadata": {},
     "output_type": "execute_result"
    }
   ],
   "source": [
    "demandsSmall = GLS_Jul_weekday_PM_ext.demandsSmall\n",
    "odMap = GLS_Jul_weekday_PM_ext.odMap\n",
    "odIdxExt = GLS_Jul_weekday_PM_ext.odIdxExt"
   ]
  },
  {
   "cell_type": "code",
   "execution_count": null,
   "metadata": {
    "collapsed": false
   },
   "outputs": [],
   "source": [
    "using JuMP\n",
    "\n",
    "mGLSJulia = Model()\n",
    "\n",
    "@defVar(mGLSJulia, lam[1:size(P,1)] >= 0)\n",
    "\n",
    "# for l in fictitious_OD_list\n",
    "#     @addConstraint(mGLSJulia, lam[l] == 0)\n",
    "# end\n",
    "\n",
    "# for j = 1:length(odMap)\n",
    "#     @addConstraint(mGLSJulia, lam[odIdxExt[j]] - demandsSmall[\"$(j-1)\"] <= 0.2 * demandsSmall[\"$(j-1)\"])\n",
    "#     @addConstraint(mGLSJulia, demandsSmall[\"$(j-1)\"] - lam[odIdxExt[j]] <= 0.2 * demandsSmall[\"$(j-1)\"])\n",
    "# end\n",
    "\n",
    "@defVar(mGLSJulia, p[1:size(P,1), 1:size(P,2)] >= 0)\n",
    "\n",
    "for i = 1:size(P,1)\n",
    "    for j = 1:size(P,2)\n",
    "        if P[i,j] == 0\n",
    "            @addConstraint(mGLSJulia, p[i,j] == 0)\n",
    "        end\n",
    "    end\n",
    "end\n",
    "            \n",
    "for i = 1:size(P,1)\n",
    "    @addNLConstraint(mGLSJulia, sum{p[i,j], j = 1:size(P,2)} == 1)\n",
    "end\n",
    "\n",
    "for l = 1:L\n",
    "    @addNLConstraint(mGLSJulia, sum{p[i,l] * lam[i], i = 1:size(P,1)} == xi_list[l])\n",
    "end\n",
    "    \n",
    "@setNLObjective(mGLSJulia, Min, sum{p[1,j], j = 1:size(P,2)})  # play no actual role, but could not use zero objective\n",
    "\n",
    "solve(mGLSJulia)"
   ]
  },
  {
   "cell_type": "code",
   "execution_count": null,
   "metadata": {
    "collapsed": true
   },
   "outputs": [],
   "source": []
  }
 ],
 "metadata": {
  "kernelspec": {
   "display_name": "Julia 0.3.7",
   "language": "julia",
   "name": "julia-0.3"
  },
  "language_info": {
   "file_extension": ".jl",
   "mimetype": "application/julia",
   "name": "julia",
   "version": "0.3.7"
  }
 },
 "nbformat": 4,
 "nbformat_minor": 0
}
