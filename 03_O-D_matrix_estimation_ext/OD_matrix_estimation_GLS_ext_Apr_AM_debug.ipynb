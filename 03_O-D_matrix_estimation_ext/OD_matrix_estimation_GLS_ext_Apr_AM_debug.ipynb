{
 "cells": [
  {
   "cell_type": "code",
   "execution_count": 1,
   "metadata": {
    "collapsed": true
   },
   "outputs": [],
   "source": [
    "%run ../Python_files/load_dicts.py\n",
    "%run ../Python_files/util.py"
   ]
  },
  {
   "cell_type": "code",
   "execution_count": 2,
   "metadata": {
    "collapsed": true
   },
   "outputs": [],
   "source": [
    "#!/usr/bin/env python\n",
    "\n",
    "\n",
    "__author__ = \"Jing Zhang\"\n",
    "__email__ = \"jingzbu@gmail.com\"\n",
    "__status__ = \"Development\"\n",
    "\n",
    "\n",
    "from util import *\n",
    "import numpy as np\n",
    "from numpy.linalg import inv, matrix_rank\n",
    "import json"
   ]
  },
  {
   "cell_type": "code",
   "execution_count": 3,
   "metadata": {
    "collapsed": true
   },
   "outputs": [],
   "source": [
    "# load logit_route_choice_probability_matrix\n",
    "P = zload('../temp_files/logit_route_choice_probability_matrix_ext.pkz')\n",
    "P = np.matrix(P)"
   ]
  },
  {
   "cell_type": "code",
   "execution_count": 4,
   "metadata": {
    "collapsed": false
   },
   "outputs": [
    {
     "name": "stdout",
     "output_type": "stream",
     "text": [
      "462\n"
     ]
    }
   ],
   "source": [
    "print(matrix_rank(P))"
   ]
  },
  {
   "cell_type": "code",
   "execution_count": 5,
   "metadata": {
    "collapsed": false
   },
   "outputs": [
    {
     "name": "stdout",
     "output_type": "stream",
     "text": [
      "(462, 462)\n"
     ]
    }
   ],
   "source": [
    "print(np.size(P,0), np.size(P,1))"
   ]
  },
  {
   "cell_type": "code",
   "execution_count": 6,
   "metadata": {
    "collapsed": true
   },
   "outputs": [],
   "source": [
    "# load path-link incidence matrix\n",
    "A = zload('../temp_files/path-link_incidence_matrix_ext.pkz')"
   ]
  },
  {
   "cell_type": "code",
   "execution_count": 7,
   "metadata": {
    "collapsed": true
   },
   "outputs": [],
   "source": [
    "# assert(1 == 2)\n",
    "\n",
    "# load link counts data\n",
    "with open('../temp_files/link_day_minute_Apr_dict_ext_JSON_insert_links_adjusted.json', 'r') as json_file:\n",
    "    link_day_minute_Apr_dict_ext_JSON = json.load(json_file)"
   ]
  },
  {
   "cell_type": "code",
   "execution_count": 8,
   "metadata": {
    "collapsed": true
   },
   "outputs": [],
   "source": [
    "week_day_Apr_list = [2, 3, 4, 5, 6, 9, 10, 11, 12, 13, 16, 22, 18, 19, 20, 23, 24, 25, 26, 27, 30]\n",
    "# week_day_Apr_list = [22, 18, 19, 20, 23]"
   ]
  },
  {
   "cell_type": "code",
   "execution_count": 9,
   "metadata": {
    "collapsed": true
   },
   "outputs": [],
   "source": [
    "link_day_minute_Apr_list = []\n",
    "for link_idx in range(74):\n",
    "    for day in week_day_Apr_list: \n",
    "        for minute_idx in range(120):\n",
    "            key = 'link_' + str(link_idx) + '_' + str(day)\n",
    "            link_day_minute_Apr_list.append(link_day_minute_Apr_dict_ext_JSON[key] ['AM_flow_minute'][minute_idx])"
   ]
  },
  {
   "cell_type": "code",
   "execution_count": 10,
   "metadata": {
    "collapsed": false
   },
   "outputs": [
    {
     "name": "stdout",
     "output_type": "stream",
     "text": [
      "186480\n"
     ]
    }
   ],
   "source": [
    "print(len(link_day_minute_Apr_list))"
   ]
  },
  {
   "cell_type": "code",
   "execution_count": 11,
   "metadata": {
    "collapsed": true
   },
   "outputs": [],
   "source": [
    "x = np.matrix(link_day_minute_Apr_list)\n",
    "x = np.matrix.reshape(x, 74, 2520)\n",
    "x[x < 1] = 200\n",
    "# x = np.nan_to_num(x)\n",
    "# y = np.array(np.transpose(x))\n",
    "# y = y[np.all(y != 0, axis=1)]\n",
    "# x = np.transpose(y)\n",
    "# x = np.matrix(x)"
   ]
  },
  {
   "cell_type": "code",
   "execution_count": 12,
   "metadata": {
    "collapsed": false
   },
   "outputs": [
    {
     "name": "stdout",
     "output_type": "stream",
     "text": [
      "(74, 2520)\n",
      "[[  461.47918251   454.85887076]\n",
      " [  416.78449818   368.97241719]\n",
      " [  724.58737481   657.80305987]\n",
      " [  769.28205914   743.68951344]\n",
      " [   97.39840676   129.00097354]\n",
      " [  302.83145729   324.01897999]\n",
      " [ 1634.22700734  1590.54638824]\n",
      " [ 1384.09927248  1309.64192822]\n",
      " [  144.6194068    159.10277676]\n",
      " [  394.74714166   440.00723678]\n",
      " [  208.68287943   190.55731721]\n",
      " [ 1001.36041683   988.74061355]\n",
      " [  349.52605144   309.10860103]\n",
      " [  168.49606924   197.89503687]\n",
      " [ 1371.81924571  1422.06408466]\n",
      " [ 1371.81924571  1422.06408466]\n",
      " [ 2291.96034633  2160.03318335]\n",
      " [ 2291.96034633  2160.03318335]\n",
      " [ 2392.56767793  2410.48351697]\n",
      " [  610.65128727   704.64022607]\n",
      " [ 1301.14966444  1295.94476437]\n",
      " [ 2343.95493669  2375.03252074]\n",
      " [ 1652.14335553  1515.5124469 ]\n",
      " [  200.           200.        ]\n",
      " [  394.23816195   434.86554963]\n",
      " [  264.46512682   244.53470564]\n",
      " [ 1472.76819385  1236.96787725]\n",
      " [ 2039.26710457  1952.89931147]\n",
      " [ 3481.0338989   3761.41223919]\n",
      " [ 4696.45137883  4751.32409587]\n",
      " [ 1935.01695549  1691.35859311]\n",
      " [ 2371.74283108  2216.95918334]\n",
      " [ 1029.77594631   965.21503349]\n",
      " [  408.10455601   419.86397169]\n",
      " [  647.38964427   539.61042219]\n",
      " [  861.60961633   920.67384022]\n",
      " [ 1264.71947912  1248.70260497]\n",
      " [  234.24751389   278.54121988]\n",
      " [ 1410.9469367   1358.0551686 ]\n",
      " [ 1011.78144993   957.24127899]\n",
      " [ 1597.6808734   1607.58778068]\n",
      " [ 3027.31832539  2978.56305538]\n",
      " [  423.83667575   376.11671158]\n",
      " [  136.99017058   243.99668375]\n",
      " [ 1008.87071838  1082.75924063]\n",
      " [ 1008.87071838  1082.75924063]\n",
      " [  493.27468959   436.37561365]\n",
      " [  493.27468959   436.37561365]\n",
      " [  863.1695615   1011.08871529]\n",
      " [  863.1695615   1011.08871529]\n",
      " [  119.54410144   173.04735802]\n",
      " [  119.54410144   173.04735802]\n",
      " [ 2107.26248697  2104.90576834]\n",
      " [  477.70063413   503.96927537]\n",
      " [ 1203.9303855   1196.49359118]\n",
      " [ 1203.9303855   1196.49359118]\n",
      " [ 1168.79756185  1187.75376104]\n",
      " [ 1168.79756185  1187.75376104]\n",
      " [  732.15581848   642.51299137]\n",
      " [ 1247.75184727  1288.89661835]\n",
      " [  200.           200.        ]\n",
      " [  646.36046778   633.84470717]\n",
      " [ 1982.55395564  2070.65562201]\n",
      " [ 1055.65468357  1029.12833626]\n",
      " [  347.1642523    367.25578077]\n",
      " [ 1971.22695736  2007.62900142]\n",
      " [ 3139.22159103  3151.29255035]\n",
      " [ 3139.22159103  3151.29255035]\n",
      " [ 1280.10166147  1272.2182813 ]\n",
      " [ 1280.10166147  1272.2182813 ]\n",
      " [  234.66191542   285.60360148]\n",
      " [ 1396.61841199  1565.83193562]\n",
      " [ 1644.75545044  1729.83113705]\n",
      " [  482.79895387   449.6028029 ]]\n",
      "(74, 462)\n"
     ]
    }
   ],
   "source": [
    "print(np.size(x,0), np.size(x,1))\n",
    "print(x[:,:2])\n",
    "print(np.size(A,0), np.size(A,1))"
   ]
  },
  {
   "cell_type": "code",
   "execution_count": 13,
   "metadata": {
    "collapsed": true
   },
   "outputs": [],
   "source": [
    "# load node-link incidence matrix\n",
    "N = zload('../temp_files/node_link_incidence_MA_ext.pkz')"
   ]
  },
  {
   "cell_type": "code",
   "execution_count": 14,
   "metadata": {
    "collapsed": false
   },
   "outputs": [
    {
     "data": {
      "text/plain": [
       "(22, 74)"
      ]
     },
     "execution_count": 14,
     "metadata": {},
     "output_type": "execute_result"
    }
   ],
   "source": [
    "N.shape"
   ]
  },
  {
   "cell_type": "code",
   "execution_count": 15,
   "metadata": {
    "collapsed": true
   },
   "outputs": [],
   "source": [
    "n = 22  # number of nodes\n",
    "m = 74  # number of links"
   ]
  },
  {
   "cell_type": "code",
   "execution_count": 16,
   "metadata": {
    "collapsed": true
   },
   "outputs": [],
   "source": [
    "x_0 = [x[:,2][i, 0] for i in range(m)]"
   ]
  },
  {
   "cell_type": "code",
   "execution_count": 17,
   "metadata": {
    "collapsed": false
   },
   "outputs": [
    {
     "data": {
      "text/plain": [
       "[477.25723686644199,\n",
       " 391.44333369671625,\n",
       " 637.36726963130172,\n",
       " 723.1811728010274,\n",
       " 124.6097643568658,\n",
       " 321.73591488225935,\n",
       " 1605.9773383393119,\n",
       " 1323.0372846441926,\n",
       " 158.08497991879511,\n",
       " 441.02503361391445,\n",
       " 15.612041060538402,\n",
       " 893.12903158934762,\n",
       " 354.08791447808562,\n",
       " 195.07058032589245,\n",
       " 1444.7722350412155,\n",
       " 1444.7722350412155,\n",
       " 2134.7036574717858,\n",
       " 2134.7036574717858,\n",
       " 2403.2474377710682,\n",
       " 711.87630526876251,\n",
       " 1297.0862322383241,\n",
       " 2457.5432764622528,\n",
       " 1552.3975001474773,\n",
       " 200.0,\n",
       " 426.63093581973357,\n",
       " 287.65730346490511,\n",
       " 1176.5178707950299,\n",
       " 1954.8228773805349,\n",
       " 3739.5484825005951,\n",
       " 4652.6146084173952,\n",
       " 1768.556029561126,\n",
       " 2407.8874037918026,\n",
       " 972.16357415751133,\n",
       " 373.66116722195648,\n",
       " 500.63382189898704,\n",
       " 903.64450436819084,\n",
       " 1191.2641374854857,\n",
       " 237.36904427356302,\n",
       " 1345.1266308569611,\n",
       " 982.94491568287924,\n",
       " 1548.4784102103779,\n",
       " 2864.555218596382,\n",
       " 394.79513318523487,\n",
       " 277.95954644246962,\n",
       " 1116.7148015353393,\n",
       " 1116.7148015353393,\n",
       " 607.17856338055458,\n",
       " 607.17856338055458,\n",
       " 1007.276994770006,\n",
       " 1007.276994770006,\n",
       " 170.21748830084877,\n",
       " 170.21748830084877,\n",
       " 2167.8222539772155,\n",
       " 622.48088282639628,\n",
       " 1106.7140187356795,\n",
       " 1106.7140187356792,\n",
       " 1196.9565853740173,\n",
       " 1196.9565853740173,\n",
       " 960.33643037990259,\n",
       " 1469.8726685346876,\n",
       " 200.0,\n",
       " 670.82851385002789,\n",
       " 2126.2605279360132,\n",
       " 1084.9177720576777,\n",
       " 325.94954656559935,\n",
       " 2051.1433397617161,\n",
       " 3153.4445220125604,\n",
       " 3153.4445220125604,\n",
       " 1289.2287326899664,\n",
       " 1289.2287326899664,\n",
       " 293.58050269380431,\n",
       " 1473.9452546986172,\n",
       " 1773.884155318274,\n",
       " 593.51940331346134]"
      ]
     },
     "execution_count": 17,
     "metadata": {},
     "output_type": "execute_result"
    }
   ],
   "source": [
    "x_0"
   ]
  },
  {
   "cell_type": "code",
   "execution_count": 22,
   "metadata": {
    "collapsed": true
   },
   "outputs": [],
   "source": [
    "OD_pair_label_dict = zload('../temp_files/OD_pair_label_dict_ext.pkz')"
   ]
  },
  {
   "cell_type": "code",
   "execution_count": 23,
   "metadata": {
    "collapsed": false
   },
   "outputs": [
    {
     "data": {
      "text/plain": [
       "{'(1, 10)': 3,\n",
       " '(1, 12)': 4,\n",
       " '(1, 13)': 5,\n",
       " '(1, 14)': 6,\n",
       " '(1, 16)': 7,\n",
       " '(1, 17)': 8,\n",
       " '(1, 4)': 0,\n",
       " '(1, 7)': 1,\n",
       " '(1, 8)': 2,\n",
       " '(10, 1)': 36,\n",
       " '(10, 12)': 40,\n",
       " '(10, 13)': 41,\n",
       " '(10, 14)': 42,\n",
       " '(10, 16)': 43,\n",
       " '(10, 17)': 44,\n",
       " '(10, 4)': 37,\n",
       " '(10, 7)': 38,\n",
       " '(10, 8)': 39,\n",
       " '(12, 1)': 45,\n",
       " '(12, 10)': 49,\n",
       " '(12, 13)': 50,\n",
       " '(12, 14)': 51,\n",
       " '(12, 16)': 52,\n",
       " '(12, 17)': 53,\n",
       " '(12, 4)': 46,\n",
       " '(12, 7)': 47,\n",
       " '(12, 8)': 48,\n",
       " '(13, 1)': 54,\n",
       " '(13, 10)': 58,\n",
       " '(13, 12)': 59,\n",
       " '(13, 14)': 60,\n",
       " '(13, 16)': 61,\n",
       " '(13, 17)': 62,\n",
       " '(13, 4)': 55,\n",
       " '(13, 7)': 56,\n",
       " '(13, 8)': 57,\n",
       " '(14, 1)': 63,\n",
       " '(14, 10)': 67,\n",
       " '(14, 12)': 68,\n",
       " '(14, 13)': 69,\n",
       " '(14, 16)': 70,\n",
       " '(14, 17)': 71,\n",
       " '(14, 4)': 64,\n",
       " '(14, 7)': 65,\n",
       " '(14, 8)': 66,\n",
       " '(16, 1)': 72,\n",
       " '(16, 10)': 76,\n",
       " '(16, 12)': 77,\n",
       " '(16, 13)': 78,\n",
       " '(16, 14)': 79,\n",
       " '(16, 17)': 80,\n",
       " '(16, 4)': 73,\n",
       " '(16, 7)': 74,\n",
       " '(16, 8)': 75,\n",
       " '(17, 1)': 81,\n",
       " '(17, 10)': 85,\n",
       " '(17, 12)': 86,\n",
       " '(17, 13)': 87,\n",
       " '(17, 14)': 88,\n",
       " '(17, 16)': 89,\n",
       " '(17, 4)': 82,\n",
       " '(17, 7)': 83,\n",
       " '(17, 8)': 84,\n",
       " '(4, 1)': 9,\n",
       " '(4, 10)': 12,\n",
       " '(4, 12)': 13,\n",
       " '(4, 13)': 14,\n",
       " '(4, 14)': 15,\n",
       " '(4, 16)': 16,\n",
       " '(4, 17)': 17,\n",
       " '(4, 7)': 10,\n",
       " '(4, 8)': 11,\n",
       " '(7, 1)': 18,\n",
       " '(7, 10)': 21,\n",
       " '(7, 12)': 22,\n",
       " '(7, 13)': 23,\n",
       " '(7, 14)': 24,\n",
       " '(7, 16)': 25,\n",
       " '(7, 17)': 26,\n",
       " '(7, 4)': 19,\n",
       " '(7, 8)': 20,\n",
       " '(8, 1)': 27,\n",
       " '(8, 10)': 30,\n",
       " '(8, 12)': 31,\n",
       " '(8, 13)': 32,\n",
       " '(8, 14)': 33,\n",
       " '(8, 16)': 34,\n",
       " '(8, 17)': 35,\n",
       " '(8, 4)': 28,\n",
       " '(8, 7)': 29}"
      ]
     },
     "execution_count": 23,
     "metadata": {},
     "output_type": "execute_result"
    }
   ],
   "source": [
    "OD_pair_label_dict"
   ]
  },
  {
   "cell_type": "code",
   "execution_count": 24,
   "metadata": {
    "collapsed": false
   },
   "outputs": [
    {
     "data": {
      "text/plain": [
       "90"
      ]
     },
     "execution_count": 24,
     "metadata": {},
     "output_type": "execute_result"
    }
   ],
   "source": [
    "len(OD_pair_label_dict)"
   ]
  },
  {
   "cell_type": "code",
   "execution_count": 25,
   "metadata": {
    "collapsed": true
   },
   "outputs": [],
   "source": [
    "L = 22 * (22 - 1)  # dimension of lam"
   ]
  },
  {
   "cell_type": "code",
   "execution_count": 26,
   "metadata": {
    "collapsed": false
   },
   "outputs": [],
   "source": [
    "# od pair correspondence\n",
    "OD_pair_label_dict_MA_small = zload('../temp_files/OD_pair_label_dict__MA.pkz')"
   ]
  },
  {
   "cell_type": "code",
   "execution_count": 27,
   "metadata": {
    "collapsed": true
   },
   "outputs": [],
   "source": [
    "# create a dictionary mapping nodes of small network to nodes of bigger network\n",
    "nodeToNode = {}\n",
    "\n",
    "nodeList = range(9)[1:]\n",
    "nodeListExt = [1, 4, 7, 12, 13, 14, 16, 17]\n",
    "for i in nodeList:\n",
    "    nodeToNode[str(i)] = nodeListExt[i-1]\n",
    "# nodeToNode['1'] = 1\n",
    "# nodeToNode['2']"
   ]
  },
  {
   "cell_type": "code",
   "execution_count": 28,
   "metadata": {
    "collapsed": false
   },
   "outputs": [
    {
     "data": {
      "text/plain": [
       "{'1': 1, '2': 4, '3': 7, '4': 12, '5': 13, '6': 14, '7': 16, '8': 17}"
      ]
     },
     "execution_count": 28,
     "metadata": {},
     "output_type": "execute_result"
    }
   ],
   "source": [
    "nodeToNode"
   ]
  },
  {
   "cell_type": "code",
   "execution_count": 29,
   "metadata": {
    "collapsed": false
   },
   "outputs": [],
   "source": [
    "odMap = {}\n",
    "for i in range(len(OD_pair_label_dict_MA_small)):\n",
    "    key = str(i)\n",
    "    origiSmall = OD_pair_label_dict_MA_small[key][0]\n",
    "    destiSmall = OD_pair_label_dict_MA_small[key][1]\n",
    "    origiExt = nodeToNode[str(origiSmall)]\n",
    "    destiExt = nodeToNode[str(destiSmall)]\n",
    "    odMap[key] = (origiExt, destiExt)"
   ]
  },
  {
   "cell_type": "code",
   "execution_count": 30,
   "metadata": {
    "collapsed": false
   },
   "outputs": [
    {
     "data": {
      "text/plain": [
       "{'0': (1, 4),\n",
       " '1': (1, 7),\n",
       " '10': (4, 13),\n",
       " '11': (4, 14),\n",
       " '12': (4, 16),\n",
       " '13': (4, 17),\n",
       " '14': (7, 1),\n",
       " '15': (7, 4),\n",
       " '16': (7, 12),\n",
       " '17': (7, 13),\n",
       " '18': (7, 14),\n",
       " '19': (7, 16),\n",
       " '2': (1, 12),\n",
       " '20': (7, 17),\n",
       " '21': (12, 1),\n",
       " '22': (12, 4),\n",
       " '23': (12, 7),\n",
       " '24': (12, 13),\n",
       " '25': (12, 14),\n",
       " '26': (12, 16),\n",
       " '27': (12, 17),\n",
       " '28': (13, 1),\n",
       " '29': (13, 4),\n",
       " '3': (1, 13),\n",
       " '30': (13, 7),\n",
       " '31': (13, 12),\n",
       " '32': (13, 14),\n",
       " '33': (13, 16),\n",
       " '34': (13, 17),\n",
       " '35': (14, 1),\n",
       " '36': (14, 4),\n",
       " '37': (14, 7),\n",
       " '38': (14, 12),\n",
       " '39': (14, 13),\n",
       " '4': (1, 14),\n",
       " '40': (14, 16),\n",
       " '41': (14, 17),\n",
       " '42': (16, 1),\n",
       " '43': (16, 4),\n",
       " '44': (16, 7),\n",
       " '45': (16, 12),\n",
       " '46': (16, 13),\n",
       " '47': (16, 14),\n",
       " '48': (16, 17),\n",
       " '49': (17, 1),\n",
       " '5': (1, 16),\n",
       " '50': (17, 4),\n",
       " '51': (17, 7),\n",
       " '52': (17, 12),\n",
       " '53': (17, 13),\n",
       " '54': (17, 14),\n",
       " '55': (17, 16),\n",
       " '6': (1, 17),\n",
       " '7': (4, 1),\n",
       " '8': (4, 7),\n",
       " '9': (4, 12)}"
      ]
     },
     "execution_count": 30,
     "metadata": {},
     "output_type": "execute_result"
    }
   ],
   "source": [
    "odMap"
   ]
  },
  {
   "cell_type": "code",
   "execution_count": 31,
   "metadata": {
    "collapsed": false
   },
   "outputs": [],
   "source": [
    "odIdxExt = []  # OD pair idx in the extended network corresponding to the OD pairs in smaller network\n",
    "\n",
    "for i in range(len(odMap)):\n",
    "    odIdxExt.append(OD_pair_label_dict[str(odMap[str(i)])])"
   ]
  },
  {
   "cell_type": "code",
   "execution_count": 32,
   "metadata": {
    "collapsed": false
   },
   "outputs": [
    {
     "data": {
      "text/plain": [
       "[0,\n",
       " 1,\n",
       " 4,\n",
       " 5,\n",
       " 6,\n",
       " 7,\n",
       " 8,\n",
       " 9,\n",
       " 10,\n",
       " 13,\n",
       " 14,\n",
       " 15,\n",
       " 16,\n",
       " 17,\n",
       " 18,\n",
       " 19,\n",
       " 22,\n",
       " 23,\n",
       " 24,\n",
       " 25,\n",
       " 26,\n",
       " 45,\n",
       " 46,\n",
       " 47,\n",
       " 50,\n",
       " 51,\n",
       " 52,\n",
       " 53,\n",
       " 54,\n",
       " 55,\n",
       " 56,\n",
       " 59,\n",
       " 60,\n",
       " 61,\n",
       " 62,\n",
       " 63,\n",
       " 64,\n",
       " 65,\n",
       " 68,\n",
       " 69,\n",
       " 70,\n",
       " 71,\n",
       " 72,\n",
       " 73,\n",
       " 74,\n",
       " 77,\n",
       " 78,\n",
       " 79,\n",
       " 80,\n",
       " 81,\n",
       " 82,\n",
       " 83,\n",
       " 86,\n",
       " 87,\n",
       " 88,\n",
       " 89]"
      ]
     },
     "execution_count": 32,
     "metadata": {},
     "output_type": "execute_result"
    }
   ],
   "source": [
    "odIdxExt"
   ]
  },
  {
   "cell_type": "code",
   "execution_count": 33,
   "metadata": {
    "collapsed": false
   },
   "outputs": [],
   "source": [
    "with open('../temp_files/OD_demand_matrix_Apr_weekday_AM.json', 'r') as json_file:\n",
    "    demandsSmall = json.load(json_file)"
   ]
  },
  {
   "cell_type": "code",
   "execution_count": 34,
   "metadata": {
    "collapsed": false
   },
   "outputs": [
    {
     "data": {
      "text/plain": [
       "{u'0': 290.2923065788561,\n",
       " u'1': 253.9437109323928,\n",
       " u'10': 385.60098382982045,\n",
       " u'11': 580.7880142528966,\n",
       " u'12': 544.238671543492,\n",
       " u'13': 264.60063160276997,\n",
       " u'14': 415.48557107711247,\n",
       " u'15': 535.2881226007167,\n",
       " u'16': 315.2599641402912,\n",
       " u'17': 509.522573049205,\n",
       " u'18': 831.1978513401615,\n",
       " u'19': 738.7804795554536,\n",
       " u'2': 187.85501799251614,\n",
       " u'20': 509.53109700838274,\n",
       " u'21': 415.18238031363086,\n",
       " u'22': 430.75161141660124,\n",
       " u'23': 583.3930968865327,\n",
       " u'24': 418.64520018446177,\n",
       " u'25': 675.3481291815452,\n",
       " u'26': 556.2430593679225,\n",
       " u'27': 714.6847878321809,\n",
       " u'28': 664.7414016022864,\n",
       " u'29': 739.9397589388282,\n",
       " u'3': 372.58154226500193,\n",
       " u'30': 1148.041156249371,\n",
       " u'31': 313.5024135467857,\n",
       " u'32': 1041.5728139766172,\n",
       " u'33': 1971.7449453838683,\n",
       " u'34': 456.0855674111442,\n",
       " u'35': 430.9418365737633,\n",
       " u'36': 567.3820882721697,\n",
       " u'37': 468.8058905352021,\n",
       " u'38': 320.44718145457347,\n",
       " u'39': 411.302507519632,\n",
       " u'4': 430.23092465960843,\n",
       " u'40': 1610.0609468580385,\n",
       " u'41': 401.6388549706719,\n",
       " u'42': 524.0142434348268,\n",
       " u'43': 596.5889416908093,\n",
       " u'44': 590.0882890510462,\n",
       " u'45': 254.07584063014414,\n",
       " u'46': 373.33475724596406,\n",
       " u'47': 751.7786491112022,\n",
       " u'48': 235.25962862258362,\n",
       " u'49': 230.2080336969535,\n",
       " u'5': 480.0808870008364,\n",
       " u'50': 242.9965404380784,\n",
       " u'51': 393.68545873295864,\n",
       " u'52': 136.6669364326778,\n",
       " u'53': 252.81470713728586,\n",
       " u'54': 384.16557538175965,\n",
       " u'55': 205.46239741480372,\n",
       " u'6': 249.14883872030347,\n",
       " u'7': 392.1125291734983,\n",
       " u'8': 312.9390612376045,\n",
       " u'9': 166.03430018398655}"
      ]
     },
     "execution_count": 34,
     "metadata": {},
     "output_type": "execute_result"
    }
   ],
   "source": [
    "demandsSmall"
   ]
  },
  {
   "cell_type": "code",
   "execution_count": 35,
   "metadata": {
    "collapsed": false
   },
   "outputs": [
    {
     "data": {
      "text/plain": [
       "{'0': (1, 4),\n",
       " '1': (1, 7),\n",
       " '10': (4, 13),\n",
       " '11': (4, 14),\n",
       " '12': (4, 16),\n",
       " '13': (4, 17),\n",
       " '14': (7, 1),\n",
       " '15': (7, 4),\n",
       " '16': (7, 12),\n",
       " '17': (7, 13),\n",
       " '18': (7, 14),\n",
       " '19': (7, 16),\n",
       " '2': (1, 12),\n",
       " '20': (7, 17),\n",
       " '21': (12, 1),\n",
       " '22': (12, 4),\n",
       " '23': (12, 7),\n",
       " '24': (12, 13),\n",
       " '25': (12, 14),\n",
       " '26': (12, 16),\n",
       " '27': (12, 17),\n",
       " '28': (13, 1),\n",
       " '29': (13, 4),\n",
       " '3': (1, 13),\n",
       " '30': (13, 7),\n",
       " '31': (13, 12),\n",
       " '32': (13, 14),\n",
       " '33': (13, 16),\n",
       " '34': (13, 17),\n",
       " '35': (14, 1),\n",
       " '36': (14, 4),\n",
       " '37': (14, 7),\n",
       " '38': (14, 12),\n",
       " '39': (14, 13),\n",
       " '4': (1, 14),\n",
       " '40': (14, 16),\n",
       " '41': (14, 17),\n",
       " '42': (16, 1),\n",
       " '43': (16, 4),\n",
       " '44': (16, 7),\n",
       " '45': (16, 12),\n",
       " '46': (16, 13),\n",
       " '47': (16, 14),\n",
       " '48': (16, 17),\n",
       " '49': (17, 1),\n",
       " '5': (1, 16),\n",
       " '50': (17, 4),\n",
       " '51': (17, 7),\n",
       " '52': (17, 12),\n",
       " '53': (17, 13),\n",
       " '54': (17, 14),\n",
       " '55': (17, 16),\n",
       " '6': (1, 17),\n",
       " '7': (4, 1),\n",
       " '8': (4, 7),\n",
       " '9': (4, 12)}"
      ]
     },
     "execution_count": 35,
     "metadata": {},
     "output_type": "execute_result"
    }
   ],
   "source": [
    "odMap"
   ]
  },
  {
   "cell_type": "code",
   "execution_count": 37,
   "metadata": {
    "collapsed": true
   },
   "outputs": [],
   "source": [
    "fictitious_OD_list = zload('../temp_files/fictitious_OD_list')"
   ]
  },
  {
   "cell_type": "code",
   "execution_count": 38,
   "metadata": {
    "collapsed": false
   },
   "outputs": [
    {
     "data": {
      "text/plain": [
       "[]"
      ]
     },
     "execution_count": 38,
     "metadata": {},
     "output_type": "execute_result"
    }
   ],
   "source": [
    "fictitious_OD_list"
   ]
  },
  {
   "cell_type": "code",
   "execution_count": 36,
   "metadata": {
    "collapsed": false
   },
   "outputs": [
    {
     "name": "stdout",
     "output_type": "stream",
     "text": [
      "rank of Q is: \n",
      "\n",
      "462\n",
      "sizes of Q are: \n",
      "\n",
      "462\n",
      "462\n"
     ]
    }
   ],
   "source": [
    "# implement GLS method to estimate OD demand matrix\n",
    "def GLS_Apr(x, A, P, L):\n",
    "    \"\"\"\n",
    "    x: sample matrix, each column is a link flow vector sample; 24 * K\n",
    "    A: path-link incidence matrix\n",
    "    P: logit route choice probability matrix\n",
    "    L: dimension of lam\n",
    "    ----------------\n",
    "    return: lam\n",
    "    ----------------\n",
    "    \"\"\"\n",
    "    K = np.size(x, 1)\n",
    "    S = samp_cov(x)\n",
    "\n",
    "    #print(\"rank of S is: \\n\")\n",
    "    #print(matrix_rank(S))\n",
    "    #print(\"sizes of S are: \\n\")\n",
    "    #print(np.size(S, 0))\n",
    "    #print(np.size(S, 1))\n",
    "\n",
    "    inv_S = inv(S).real\n",
    "\n",
    "    A_t = np.transpose(A)\n",
    "    P_t = np.transpose(P)\n",
    "    # PA'\n",
    "    PA_t = np.dot(P, A_t)\n",
    "\n",
    "    #print(\"rank of PA_t is: \\n\")\n",
    "    #print(matrix_rank(PA_t))\n",
    "    #print(\"sizes of PA_t are: \\n\")\n",
    "    #print(np.size(PA_t, 0))\n",
    "    #print(np.size(PA_t, 1))\n",
    "\n",
    "    # AP_t\n",
    "    AP_t = np.transpose(PA_t)\n",
    "\n",
    "    Q_ = np.dot(np.dot(PA_t, inv_S), AP_t)\n",
    "    Q = adj_PSD(Q_).real  # Ensure Q to be PSD\n",
    "#     Q = Q_\n",
    "\n",
    "    print(\"rank of Q is: \\n\")\n",
    "    print(matrix_rank(Q))\n",
    "    print(\"sizes of Q are: \\n\")\n",
    "    print(np.size(Q, 0))\n",
    "    print(np.size(Q, 1))\n",
    "\n",
    "    b = sum([np.dot(np.dot(PA_t, inv_S), x[:, k]) for k in range(K)])\n",
    "    # print(b[0])\n",
    "    # assert(1==2)\n",
    "\n",
    "    model = Model(\"OD_matrix_estimation\")\n",
    "\n",
    "    lam = []\n",
    "    for l in range(L):\n",
    "        lam.append(model.addVar(name='lam_' + str(l)))\n",
    "\n",
    "    model.update() \n",
    "\n",
    "    # Set objective: (K/2) lam' * Q * lam - b' * lam\n",
    "    obj = 0\n",
    "    for i in range(L):\n",
    "        for j in range(L):\n",
    "            obj += (1.0 / 2) * K * lam[i] * Q[i, j] * lam[j]\n",
    "    for l in range(L):\n",
    "        obj += - b[l] * lam[l]\n",
    "        \n",
    "    model.setObjective(obj)\n",
    "\n",
    "    # Add constraint: lam >= 0\n",
    "    for l in range(L):\n",
    "        model.addConstr(lam[l] >= 0)\n",
    "        #model.addConstr(lam[l] <= 5000)\n",
    "    fictitious_OD_list = zload('../temp_files/fictitious_OD_list')\n",
    "    for l in fictitious_OD_list:\n",
    "        model.addConstr(lam[l] == 0)\n",
    "        \n",
    "    for j in range(len(odMap)):\n",
    "        model.addConstr(lam[odIdxExt[j]] - demandsSmall[str(j)] <= 0.2 * demandsSmall[str(j)])\n",
    "        model.addConstr(demandsSmall[str(j)] - lam[odIdxExt[j]] <= 0.2 * demandsSmall[str(j)])\n",
    "\n",
    "        \n",
    "        \n",
    "\n",
    "    model.update() \n",
    "\n",
    "    model.setParam('OutputFlag', False)\n",
    "    model.optimize()\n",
    "\n",
    "    lam_list = []\n",
    "    for v in model.getVars():\n",
    "        # print('%s %g' % (v.varName, v.x))\n",
    "        lam_list.append(v.x)\n",
    "    # print('Obj: %g' % obj.getValue())\n",
    "    return lam_list\n",
    "\n",
    "lam_list = GLS_Apr(x, A, P, L)\n",
    "\n",
    "# write estimation result to file\n",
    "n = 22  # number of nodes\n",
    "with open('../temp_files/OD_demand_matrix_Apr_weekday_AM_ext.txt', 'w') as the_file:\n",
    "    idx = 0\n",
    "    for i in range(n + 1)[1:]:\n",
    "        for j in range(n + 1)[1:]:\n",
    "            if i != j: \n",
    "                the_file.write(\"%d,%d,%f\\n\" %(i, j, lam_list[idx]))\n",
    "                idx += 1"
   ]
  },
  {
   "cell_type": "code",
   "execution_count": 33,
   "metadata": {
    "collapsed": false
   },
   "outputs": [
    {
     "data": {
      "text/plain": [
       "90"
      ]
     },
     "execution_count": 33,
     "metadata": {},
     "output_type": "execute_result"
    }
   ],
   "source": [
    "len(OD_pair_label_dict)"
   ]
  },
  {
   "cell_type": "code",
   "execution_count": null,
   "metadata": {
    "collapsed": true
   },
   "outputs": [],
   "source": []
  }
 ],
 "metadata": {
  "kernelspec": {
   "display_name": "Python 2",
   "language": "python",
   "name": "python2"
  },
  "language_info": {
   "codemirror_mode": {
    "name": "ipython",
    "version": 2
   },
   "file_extension": ".py",
   "mimetype": "text/x-python",
   "name": "python",
   "nbconvert_exporter": "python",
   "pygments_lexer": "ipython2",
   "version": "2.7.12"
  }
 },
 "nbformat": 4,
 "nbformat_minor": 0
}
