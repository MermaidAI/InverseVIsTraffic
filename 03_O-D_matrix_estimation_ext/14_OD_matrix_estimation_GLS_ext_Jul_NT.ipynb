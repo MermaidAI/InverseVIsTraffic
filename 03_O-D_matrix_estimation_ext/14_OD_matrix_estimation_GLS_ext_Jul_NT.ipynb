{
 "cells": [
  {
   "cell_type": "code",
   "execution_count": 1,
   "metadata": {
    "collapsed": true
   },
   "outputs": [],
   "source": [
    "%run ../Python_files/load_dicts.py\n",
    "%run ../Python_files/util.py"
   ]
  },
  {
   "cell_type": "code",
   "execution_count": 2,
   "metadata": {
    "collapsed": true
   },
   "outputs": [],
   "source": [
    "#!/usr/bin/env python\n",
    "\n",
    "\n",
    "__author__ = \"Jing Zhang\"\n",
    "__email__ = \"jingzbu@gmail.com\"\n",
    "__status__ = \"Development\"\n",
    "\n",
    "\n",
    "from util import *\n",
    "import numpy as np\n",
    "from numpy.linalg import inv, matrix_rank\n",
    "import json"
   ]
  },
  {
   "cell_type": "code",
   "execution_count": 3,
   "metadata": {
    "collapsed": true
   },
   "outputs": [],
   "source": [
    "# load logit_route_choice_probability_matrix\n",
    "P = zload('../temp_files/logit_route_choice_probability_matrix_ext.pkz')\n",
    "P = np.matrix(P)"
   ]
  },
  {
   "cell_type": "code",
   "execution_count": 4,
   "metadata": {
    "collapsed": false
   },
   "outputs": [
    {
     "name": "stdout",
     "output_type": "stream",
     "text": [
      "462\n"
     ]
    }
   ],
   "source": [
    "print(matrix_rank(P))"
   ]
  },
  {
   "cell_type": "code",
   "execution_count": 5,
   "metadata": {
    "collapsed": false
   },
   "outputs": [
    {
     "name": "stdout",
     "output_type": "stream",
     "text": [
      "(462, 16028)\n"
     ]
    }
   ],
   "source": [
    "print(np.size(P,0), np.size(P,1))"
   ]
  },
  {
   "cell_type": "code",
   "execution_count": 6,
   "metadata": {
    "collapsed": true
   },
   "outputs": [],
   "source": [
    "# load path-link incidence matrix\n",
    "A = zload('../temp_files/path-link_incidence_matrix_ext.pkz')"
   ]
  },
  {
   "cell_type": "code",
   "execution_count": 7,
   "metadata": {
    "collapsed": true
   },
   "outputs": [],
   "source": [
    "# assert(1 == 2)\n",
    "\n",
    "# load link counts data\n",
    "with open('../temp_files/link_day_minute_Jul_dict_ext_JSON_insert_links_adjusted.json', 'r') as json_file:\n",
    "    link_day_minute_Jul_dict_ext_JSON = json.load(json_file)"
   ]
  },
  {
   "cell_type": "code",
   "execution_count": 8,
   "metadata": {
    "collapsed": true
   },
   "outputs": [],
   "source": [
    "week_day_Jul_list = [2, 3, 4, 5, 6, 9, 10, 11, 12, 13, 16, 22, 18, 19, 20, 23, 24, 25, 26, 27, 30, 31]\n",
    "# week_day_Jul_list = [2, 3, 4, 5, 6, 9]"
   ]
  },
  {
   "cell_type": "code",
   "execution_count": 9,
   "metadata": {
    "collapsed": true
   },
   "outputs": [],
   "source": [
    "link_day_minute_Jul_list = []\n",
    "for link_idx in range(74):\n",
    "    for day in week_day_Jul_list: \n",
    "        for minute_idx in range(120):\n",
    "            key = 'link_' + str(link_idx) + '_' + str(day)\n",
    "            link_day_minute_Jul_list.append(link_day_minute_Jul_dict_ext_JSON[key] ['NT_flow_minute'][minute_idx])"
   ]
  },
  {
   "cell_type": "code",
   "execution_count": 10,
   "metadata": {
    "collapsed": false
   },
   "outputs": [
    {
     "name": "stdout",
     "output_type": "stream",
     "text": [
      "195360\n"
     ]
    }
   ],
   "source": [
    "print(len(link_day_minute_Jul_list))"
   ]
  },
  {
   "cell_type": "code",
   "execution_count": 11,
   "metadata": {
    "collapsed": true
   },
   "outputs": [],
   "source": [
    "x = np.matrix(link_day_minute_Jul_list)\n",
    "x = np.matrix.reshape(x, 74, 2640)\n",
    "x[x < 1] = 200\n",
    "# x = np.nan_to_num(x)\n",
    "# y = np.array(np.transpose(x))\n",
    "# y = y[np.all(y != 0, axis=1)]\n",
    "# x = np.transpose(y)\n",
    "# x = np.matrix(x)"
   ]
  },
  {
   "cell_type": "code",
   "execution_count": 12,
   "metadata": {
    "collapsed": false
   },
   "outputs": [
    {
     "name": "stdout",
     "output_type": "stream",
     "text": [
      "The history saving thread hit an unexpected error (OperationalError('database is locked',)).History will not be written to the database.\n"
     ]
    }
   ],
   "source": [
    "# print(np.size(x,0), np.size(x,1))\n",
    "# print(x[:,:2])\n",
    "# print(np.size(A,0), np.size(A,1))"
   ]
  },
  {
   "cell_type": "code",
   "execution_count": 13,
   "metadata": {
    "collapsed": true
   },
   "outputs": [],
   "source": [
    "# load node-link incidence matrix\n",
    "N = zload('../temp_files/node_link_incidence_MA_ext.pkz')"
   ]
  },
  {
   "cell_type": "code",
   "execution_count": 14,
   "metadata": {
    "collapsed": false
   },
   "outputs": [
    {
     "data": {
      "text/plain": [
       "(22, 74)"
      ]
     },
     "execution_count": 14,
     "metadata": {},
     "output_type": "execute_result"
    }
   ],
   "source": [
    "N.shape"
   ]
  },
  {
   "cell_type": "code",
   "execution_count": 15,
   "metadata": {
    "collapsed": true
   },
   "outputs": [],
   "source": [
    "n = 22  # number of nodes\n",
    "m = 74  # number of links"
   ]
  },
  {
   "cell_type": "code",
   "execution_count": 16,
   "metadata": {
    "collapsed": true
   },
   "outputs": [],
   "source": [
    "x_0 = [x[:,2][i, 0] for i in range(m)]"
   ]
  },
  {
   "cell_type": "code",
   "execution_count": 17,
   "metadata": {
    "collapsed": false
   },
   "outputs": [],
   "source": [
    "# x_0"
   ]
  },
  {
   "cell_type": "code",
   "execution_count": 18,
   "metadata": {
    "collapsed": true
   },
   "outputs": [],
   "source": [
    "OD_pair_label_dict = zload('../temp_files/OD_pair_label_dict_ext.pkz')"
   ]
  },
  {
   "cell_type": "code",
   "execution_count": 19,
   "metadata": {
    "collapsed": false
   },
   "outputs": [
    {
     "data": {
      "text/plain": [
       "462"
      ]
     },
     "execution_count": 19,
     "metadata": {},
     "output_type": "execute_result"
    }
   ],
   "source": [
    "len(OD_pair_label_dict)"
   ]
  },
  {
   "cell_type": "code",
   "execution_count": 20,
   "metadata": {
    "collapsed": true
   },
   "outputs": [],
   "source": [
    "L = 22 * (22 - 1)  # dimension of lam"
   ]
  },
  {
   "cell_type": "code",
   "execution_count": 21,
   "metadata": {
    "collapsed": false
   },
   "outputs": [],
   "source": [
    "# od pair correspondence\n",
    "OD_pair_label_dict_MA_small = zload('../temp_files/OD_pair_label_dict__MA.pkz')"
   ]
  },
  {
   "cell_type": "code",
   "execution_count": 22,
   "metadata": {
    "collapsed": true
   },
   "outputs": [],
   "source": [
    "# create a dictionary mapping nodes of small network to nodes of bigger network\n",
    "nodeToNode = {}\n",
    "\n",
    "nodeList = range(9)[1:]\n",
    "nodeListExt = [1, 4, 7, 12, 13, 14, 16, 17]\n",
    "for i in nodeList:\n",
    "    nodeToNode[str(i)] = nodeListExt[i-1]\n",
    "# nodeToNode['1'] = 1\n",
    "# nodeToNode['2']"
   ]
  },
  {
   "cell_type": "code",
   "execution_count": 23,
   "metadata": {
    "collapsed": false
   },
   "outputs": [
    {
     "data": {
      "text/plain": [
       "{'1': 1, '2': 4, '3': 7, '4': 12, '5': 13, '6': 14, '7': 16, '8': 17}"
      ]
     },
     "execution_count": 23,
     "metadata": {},
     "output_type": "execute_result"
    }
   ],
   "source": [
    "nodeToNode"
   ]
  },
  {
   "cell_type": "code",
   "execution_count": 24,
   "metadata": {
    "collapsed": false
   },
   "outputs": [],
   "source": [
    "odMap = {}\n",
    "for i in range(len(OD_pair_label_dict_MA_small)):\n",
    "    key = str(i)\n",
    "    origiSmall = OD_pair_label_dict_MA_small[key][0]\n",
    "    destiSmall = OD_pair_label_dict_MA_small[key][1]\n",
    "    origiExt = nodeToNode[str(origiSmall)]\n",
    "    destiExt = nodeToNode[str(destiSmall)]\n",
    "    odMap[key] = (origiExt, destiExt)"
   ]
  },
  {
   "cell_type": "code",
   "execution_count": 25,
   "metadata": {
    "collapsed": false
   },
   "outputs": [],
   "source": [
    "# odMap"
   ]
  },
  {
   "cell_type": "code",
   "execution_count": 26,
   "metadata": {
    "collapsed": false
   },
   "outputs": [],
   "source": [
    "odIdxExt = []  # OD pair idx in the extended network corresponding to the OD pairs in smaller network\n",
    "\n",
    "for i in range(len(odMap)):\n",
    "    odIdxExt.append(OD_pair_label_dict[str(odMap[str(i)])])"
   ]
  },
  {
   "cell_type": "code",
   "execution_count": 27,
   "metadata": {
    "collapsed": false
   },
   "outputs": [],
   "source": [
    "with open('../temp_files/OD_demand_matrix_Jul_weekday_NT.json', 'r') as json_file:\n",
    "    demandsSmall = json.load(json_file)"
   ]
  },
  {
   "cell_type": "code",
   "execution_count": 28,
   "metadata": {
    "collapsed": false
   },
   "outputs": [],
   "source": [
    "# demandsSmall"
   ]
  },
  {
   "cell_type": "code",
   "execution_count": 29,
   "metadata": {
    "collapsed": false
   },
   "outputs": [],
   "source": [
    "# implement GLS method to estimate OD demand matrix\n",
    "def GLS_Jul(x, A, P, L):\n",
    "    \"\"\"\n",
    "    x: sample matrix, each column is a link flow vector sample; 24 * K\n",
    "    A: path-link incidence matrix\n",
    "    P: logit route choice probability matrix\n",
    "    L: dimension of lam\n",
    "    ----------------\n",
    "    return: lam\n",
    "    ----------------\n",
    "    \"\"\"\n",
    "    K = np.size(x, 1)\n",
    "    S = samp_cov(x)\n",
    "\n",
    "    #print(\"rank of S is: \\n\")\n",
    "    #print(matrix_rank(S))\n",
    "    #print(\"sizes of S are: \\n\")\n",
    "    #print(np.size(S, 0))\n",
    "    #print(np.size(S, 1))\n",
    "\n",
    "    inv_S = inv(S).real\n",
    "\n",
    "    A_t = np.transpose(A)\n",
    "    P_t = np.transpose(P)\n",
    "    # PA'\n",
    "    PA_t = np.dot(P, A_t)\n",
    "\n",
    "    #print(\"rank of PA_t is: \\n\")\n",
    "    #print(matrix_rank(PA_t))\n",
    "    #print(\"sizes of PA_t are: \\n\")\n",
    "    #print(np.size(PA_t, 0))\n",
    "    #print(np.size(PA_t, 1))\n",
    "\n",
    "    # AP_t\n",
    "    AP_t = np.transpose(PA_t)\n",
    "\n",
    "    Q_ = np.dot(np.dot(PA_t, inv_S), AP_t)\n",
    "    Q = adj_PSD(Q_).real  # Ensure Q to be PSD\n",
    "#     Q = Q_\n",
    "\n",
    "    #print(\"rank of Q is: \\n\")\n",
    "    #print(matrix_rank(Q))\n",
    "    #print(\"sizes of Q are: \\n\")\n",
    "    #print(np.size(Q, 0))\n",
    "    #print(np.size(Q, 1))\n",
    "\n",
    "    b = sum([np.dot(np.dot(PA_t, inv_S), x[:, k]) for k in range(K)])\n",
    "    # print(b[0])\n",
    "    # assert(1==2)\n",
    "\n",
    "    model = Model(\"OD_matrix_estimation\")\n",
    "\n",
    "    lam = []\n",
    "    for l in range(L):\n",
    "        lam.append(model.addVar(name='lam_' + str(l)))\n",
    "\n",
    "    model.update() \n",
    "\n",
    "    # Set objective: (K/2) lam' * Q * lam - b' * lam\n",
    "    obj = 0\n",
    "    for i in range(L):\n",
    "        for j in range(L):\n",
    "            obj += (1.0 / 2) * K * lam[i] * Q[i, j] * lam[j]\n",
    "    for l in range(L):\n",
    "        obj += - b[l] * lam[l]\n",
    "        \n",
    "    model.setObjective(obj)\n",
    "\n",
    "    # Add constraint: lam >= 0\n",
    "    for l in range(L):\n",
    "        model.addConstr(lam[l] >= 0)\n",
    "        #model.addConstr(lam[l] <= 5000)\n",
    "    fictitious_OD_list = zload('../temp_files/fictitious_OD_list')\n",
    "    for l in fictitious_OD_list:\n",
    "        model.addConstr(lam[l] == 0)\n",
    "        \n",
    "    for j in range(len(odMap)):\n",
    "        model.addConstr(lam[odIdxExt[j]] - demandsSmall[str(j)] <= 0.2 * demandsSmall[str(j)])\n",
    "        model.addConstr(demandsSmall[str(j)] - lam[odIdxExt[j]] <= 0.2 * demandsSmall[str(j)])\n",
    "\n",
    "#     x = {}\n",
    "#     for k in range(m):\n",
    "#         for i in range(n+1)[1:]:\n",
    "#             for j in range(n+1)[1:]:\n",
    "#                 if i != j:\n",
    "#                     key = str(k) + '->' + str(i) + '->' + str(j)\n",
    "#                     x[key] = model.addVar(name='x_' + key)\n",
    "\n",
    "#     model.update()   \n",
    "        \n",
    "#     for k in range(m):\n",
    "#         s = 0\n",
    "#         for i in range(n+1)[1:]:\n",
    "#             for j in range(n+1)[1:]:\n",
    "#                 if i != j:\n",
    "#                     key = str(k) + '->' + str(i) + '->' + str(j)\n",
    "#                     s += x[key]\n",
    "#                     model.addConstr(x[key] >= 0)\n",
    "#         model.addConstr(s - x_0[k] == 0)\n",
    "#         model.addConstr(x_0[k] - s == 0)\n",
    "\n",
    "#     for l in range(n):\n",
    "#         for i in range(n+1)[1:]:\n",
    "#             for j in range(n+1)[1:]:\n",
    "#                 if i != j:\n",
    "#                     key_ = str(i) + '->' + str(j)\n",
    "#                     key__ = '(' + str(i) + ', ' + str(j) + ')'\n",
    "#                     s = 0\n",
    "#                     for k in range(m):\n",
    "#                         key = str(k) + '->' + str(i) + '->' + str(j)\n",
    "#                         s += N[l, k] * x[key]      \n",
    "#                     if (l+1 == i):\n",
    "#                         model.addConstr(s + lam[OD_pair_label_dict[key__]] == 0)\n",
    "#                     elif (l+1 == j):\n",
    "#                         model.addConstr(s - lam[OD_pair_label_dict[key__]] == 0)\n",
    "#                     else:\n",
    "#                         model.addConstr(s == 0)\n",
    "\n",
    "    #                 if (i == 1 and j == 2):\n",
    "    #                     print(s)\n",
    "        \n",
    "        \n",
    "\n",
    "    model.update() \n",
    "\n",
    "    model.setParam('OutputFlag', False)\n",
    "    model.optimize()\n",
    "\n",
    "    lam_list = []\n",
    "    for v in model.getVars():\n",
    "        # print('%s %g' % (v.varName, v.x))\n",
    "        lam_list.append(v.x)\n",
    "    # print('Obj: %g' % obj.getValue())\n",
    "    return lam_list\n",
    "\n",
    "lam_list = GLS_Jul(x, A, P, L)\n",
    "\n",
    "# write estimation result to file\n",
    "n = 22  # number of nodes\n",
    "with open('../temp_files/OD_demand_matrix_Jul_weekday_NT_ext.txt', 'w') as the_file:\n",
    "    idx = 0\n",
    "    for i in range(n + 1)[1:]:\n",
    "        for j in range(n + 1)[1:]:\n",
    "            if i != j: \n",
    "                the_file.write(\"%d,%d,%f\\n\" %(i, j, lam_list[idx]))\n",
    "                idx += 1"
   ]
  },
  {
   "cell_type": "code",
   "execution_count": null,
   "metadata": {
    "collapsed": true
   },
   "outputs": [],
   "source": []
  }
 ],
 "metadata": {
  "kernelspec": {
   "display_name": "Python 2",
   "language": "python",
   "name": "python2"
  },
  "language_info": {
   "codemirror_mode": {
    "name": "ipython",
    "version": 2
   },
   "file_extension": ".py",
   "mimetype": "text/x-python",
   "name": "python",
   "nbconvert_exporter": "python",
   "pygments_lexer": "ipython2",
   "version": "2.7.12"
  }
 },
 "nbformat": 4,
 "nbformat_minor": 0
}
