{
 "cells": [
  {
   "cell_type": "code",
   "execution_count": 1,
   "metadata": {
    "collapsed": true
   },
   "outputs": [],
   "source": [
    "%run ../Python_files/load_dicts.py\n",
    "%run ../Python_files/util.py"
   ]
  },
  {
   "cell_type": "code",
   "execution_count": 2,
   "metadata": {
    "collapsed": true
   },
   "outputs": [],
   "source": [
    "import numpy as np\n",
    "import json"
   ]
  },
  {
   "cell_type": "code",
   "execution_count": 3,
   "metadata": {
    "collapsed": true
   },
   "outputs": [],
   "source": [
    "n = 22  # number of nodes\n",
    "m = 74  # number of links"
   ]
  },
  {
   "cell_type": "code",
   "execution_count": 4,
   "metadata": {
    "collapsed": true
   },
   "outputs": [],
   "source": [
    "OD_pair_label_dict = zload('../temp_files/OD_pair_label_dict_ext.pkz')"
   ]
  },
  {
   "cell_type": "code",
   "execution_count": 5,
   "metadata": {
    "collapsed": false
   },
   "outputs": [
    {
     "data": {
      "text/plain": [
       "462"
      ]
     },
     "execution_count": 5,
     "metadata": {},
     "output_type": "execute_result"
    }
   ],
   "source": [
    "len(OD_pair_label_dict)"
   ]
  },
  {
   "cell_type": "code",
   "execution_count": 6,
   "metadata": {
    "collapsed": true
   },
   "outputs": [],
   "source": [
    "L = 22 * (22 - 1)  # dimension of lam"
   ]
  },
  {
   "cell_type": "code",
   "execution_count": 7,
   "metadata": {
    "collapsed": false
   },
   "outputs": [],
   "source": [
    "# od pair correspondence\n",
    "OD_pair_label_dict_MA_small = zload('../temp_files/OD_pair_label_dict__MA.pkz')"
   ]
  },
  {
   "cell_type": "code",
   "execution_count": 8,
   "metadata": {
    "collapsed": true
   },
   "outputs": [],
   "source": [
    "# create a dictionary mapping nodes of small network to nodes of bigger network\n",
    "nodeToNode = {}\n",
    "\n",
    "nodeList = range(9)[1:]\n",
    "nodeListExt = [1, 4, 7, 12, 13, 14, 16, 17]\n",
    "for i in nodeList:\n",
    "    nodeToNode[str(i)] = nodeListExt[i-1]\n",
    "# nodeToNode['1'] = 1\n",
    "# nodeToNode['2']"
   ]
  },
  {
   "cell_type": "code",
   "execution_count": 9,
   "metadata": {
    "collapsed": false
   },
   "outputs": [
    {
     "data": {
      "text/plain": [
       "{'1': 1, '2': 4, '3': 7, '4': 12, '5': 13, '6': 14, '7': 16, '8': 17}"
      ]
     },
     "execution_count": 9,
     "metadata": {},
     "output_type": "execute_result"
    }
   ],
   "source": [
    "nodeToNode"
   ]
  },
  {
   "cell_type": "code",
   "execution_count": 10,
   "metadata": {
    "collapsed": false
   },
   "outputs": [],
   "source": [
    "odMap = {}\n",
    "for i in range(len(OD_pair_label_dict_MA_small)):\n",
    "    key = str(i)\n",
    "    origiSmall = OD_pair_label_dict_MA_small[key][0]\n",
    "    destiSmall = OD_pair_label_dict_MA_small[key][1]\n",
    "    origiExt = nodeToNode[str(origiSmall)]\n",
    "    destiExt = nodeToNode[str(destiSmall)]\n",
    "    odMap[key] = (origiExt, destiExt)"
   ]
  },
  {
   "cell_type": "code",
   "execution_count": 11,
   "metadata": {
    "collapsed": false
   },
   "outputs": [
    {
     "data": {
      "text/plain": [
       "{'0': (1, 4),\n",
       " '1': (1, 7),\n",
       " '10': (4, 13),\n",
       " '11': (4, 14),\n",
       " '12': (4, 16),\n",
       " '13': (4, 17),\n",
       " '14': (7, 1),\n",
       " '15': (7, 4),\n",
       " '16': (7, 12),\n",
       " '17': (7, 13),\n",
       " '18': (7, 14),\n",
       " '19': (7, 16),\n",
       " '2': (1, 12),\n",
       " '20': (7, 17),\n",
       " '21': (12, 1),\n",
       " '22': (12, 4),\n",
       " '23': (12, 7),\n",
       " '24': (12, 13),\n",
       " '25': (12, 14),\n",
       " '26': (12, 16),\n",
       " '27': (12, 17),\n",
       " '28': (13, 1),\n",
       " '29': (13, 4),\n",
       " '3': (1, 13),\n",
       " '30': (13, 7),\n",
       " '31': (13, 12),\n",
       " '32': (13, 14),\n",
       " '33': (13, 16),\n",
       " '34': (13, 17),\n",
       " '35': (14, 1),\n",
       " '36': (14, 4),\n",
       " '37': (14, 7),\n",
       " '38': (14, 12),\n",
       " '39': (14, 13),\n",
       " '4': (1, 14),\n",
       " '40': (14, 16),\n",
       " '41': (14, 17),\n",
       " '42': (16, 1),\n",
       " '43': (16, 4),\n",
       " '44': (16, 7),\n",
       " '45': (16, 12),\n",
       " '46': (16, 13),\n",
       " '47': (16, 14),\n",
       " '48': (16, 17),\n",
       " '49': (17, 1),\n",
       " '5': (1, 16),\n",
       " '50': (17, 4),\n",
       " '51': (17, 7),\n",
       " '52': (17, 12),\n",
       " '53': (17, 13),\n",
       " '54': (17, 14),\n",
       " '55': (17, 16),\n",
       " '6': (1, 17),\n",
       " '7': (4, 1),\n",
       " '8': (4, 7),\n",
       " '9': (4, 12)}"
      ]
     },
     "execution_count": 11,
     "metadata": {},
     "output_type": "execute_result"
    }
   ],
   "source": [
    "odMap"
   ]
  },
  {
   "cell_type": "code",
   "execution_count": 12,
   "metadata": {
    "collapsed": false
   },
   "outputs": [],
   "source": [
    "odIdxExt = []  # OD pair idx in the extended network corresponding to the OD pairs in smaller network\n",
    "\n",
    "for i in range(len(odMap)):\n",
    "    odIdxExt.append(OD_pair_label_dict[str(odMap[str(i)])])"
   ]
  },
  {
   "cell_type": "code",
   "execution_count": 13,
   "metadata": {
    "collapsed": false
   },
   "outputs": [],
   "source": [
    "with open('../temp_files/OD_demand_matrix_Apr_weekend.json', 'r') as json_file:\n",
    "    demandsSmall = json.load(json_file)"
   ]
  },
  {
   "cell_type": "code",
   "execution_count": 14,
   "metadata": {
    "collapsed": false
   },
   "outputs": [
    {
     "data": {
      "text/plain": [
       "{u'0': 469.8141134747218,\n",
       " u'1': 673.7882331947137,\n",
       " u'10': 416.02895733893155,\n",
       " u'11': 435.44604882571247,\n",
       " u'12': 367.14625631426657,\n",
       " u'13': 280.0702465529538,\n",
       " u'14': 550.4540139954645,\n",
       " u'15': 478.4484599623458,\n",
       " u'16': 337.58995963361855,\n",
       " u'17': 467.2621636386361,\n",
       " u'18': 492.2551735917897,\n",
       " u'19': 338.53845979550346,\n",
       " u'2': 216.96022533042736,\n",
       " u'20': 311.0044833907432,\n",
       " u'21': 213.63758458836992,\n",
       " u'22': 183.26280046988438,\n",
       " u'23': 272.9183537841545,\n",
       " u'24': 297.8198995770941,\n",
       " u'25': 325.91982035854954,\n",
       " u'26': 270.60982249877287,\n",
       " u'27': 207.33250202930245,\n",
       " u'28': 357.2133459370406,\n",
       " u'29': 338.30626936378786,\n",
       " u'3': 419.865495826519,\n",
       " u'30': 268.79579271084623,\n",
       " u'31': 315.59245445392355,\n",
       " u'32': 364.2445536636527,\n",
       " u'33': 486.8987159291161,\n",
       " u'34': 277.4816541053323,\n",
       " u'35': 376.31723833794126,\n",
       " u'36': 400.46345458342506,\n",
       " u'37': 445.4843094738334,\n",
       " u'38': 282.2532110215527,\n",
       " u'39': 337.64274964525265,\n",
       " u'4': 320.700946911582,\n",
       " u'40': 271.06844052859185,\n",
       " u'41': 267.9964389393745,\n",
       " u'42': 362.9766009634673,\n",
       " u'43': 339.4794199319116,\n",
       " u'44': 334.43543891293297,\n",
       " u'45': 332.73008173296216,\n",
       " u'46': 339.458229477461,\n",
       " u'47': 287.7513116839149,\n",
       " u'48': 272.515275635701,\n",
       " u'49': 238.57080529659586,\n",
       " u'5': 388.6292146680845,\n",
       " u'50': 204.43772678729118,\n",
       " u'51': 337.0059069660366,\n",
       " u'52': 393.7498434181447,\n",
       " u'53': 302.14925164535754,\n",
       " u'54': 325.53325436938104,\n",
       " u'55': 389.8386462902197,\n",
       " u'6': 229.39949803711966,\n",
       " u'7': 497.1689474358785,\n",
       " u'8': 370.06064516796596,\n",
       " u'9': 262.68645501873186}"
      ]
     },
     "execution_count": 14,
     "metadata": {},
     "output_type": "execute_result"
    }
   ],
   "source": [
    "demandsSmall"
   ]
  },
  {
   "cell_type": "code",
   "execution_count": 15,
   "metadata": {
    "collapsed": false
   },
   "outputs": [
    {
     "data": {
      "text/plain": [
       "19345.209203216884"
      ]
     },
     "execution_count": 15,
     "metadata": {},
     "output_type": "execute_result"
    }
   ],
   "source": [
    "sum([demandsSmall[key] for key in demandsSmall.keys()])"
   ]
  },
  {
   "cell_type": "code",
   "execution_count": 16,
   "metadata": {
    "collapsed": false
   },
   "outputs": [],
   "source": [
    "lam = []\n",
    "\n",
    "for l in range(L):\n",
    "    lam.append(0)\n",
    "\n",
    "for j in range(len(odMap)):\n",
    "    lam[odIdxExt[j]] = demandsSmall[str(j)] \n",
    "\n",
    "# write estimation result to file\n",
    "n = 22  # number of nodes\n",
    "with open('../temp_files/OD_demand_matrix_Apr_weekend_ext.txt', 'w') as the_file:\n",
    "    idx = 0\n",
    "    for i in range(n + 1)[1:]:\n",
    "        for j in range(n + 1)[1:]:\n",
    "            if i != j: \n",
    "                the_file.write(\"%d,%d,%f\\n\" %(i, j, lam[idx]))\n",
    "                idx += 1"
   ]
  },
  {
   "cell_type": "code",
   "execution_count": null,
   "metadata": {
    "collapsed": true
   },
   "outputs": [],
   "source": []
  }
 ],
 "metadata": {
  "kernelspec": {
   "display_name": "Python [Root]",
   "language": "python",
   "name": "Python [Root]"
  },
  "language_info": {
   "codemirror_mode": {
    "name": "ipython",
    "version": 2
   },
   "file_extension": ".py",
   "mimetype": "text/x-python",
   "name": "python",
   "nbconvert_exporter": "python",
   "pygments_lexer": "ipython2",
   "version": "2.7.11"
  }
 },
 "nbformat": 4,
 "nbformat_minor": 0
}
