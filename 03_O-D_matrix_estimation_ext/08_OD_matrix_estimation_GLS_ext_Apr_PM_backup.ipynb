{
 "cells": [
  {
   "cell_type": "code",
   "execution_count": 1,
   "metadata": {
    "collapsed": false
   },
   "outputs": [
    {
     "name": "stdout",
     "output_type": "stream",
     "text": [
      "No dicts found; please check load_dicts...\n"
     ]
    }
   ],
   "source": [
    "using PyCall\n",
    "unshift!(PyVector(pyimport(\"sys\")[\"path\"]), \"\");\n",
    "@pyimport GLS_Apr_weekday_PM_ext"
   ]
  },
  {
   "cell_type": "code",
   "execution_count": 2,
   "metadata": {
    "collapsed": false
   },
   "outputs": [
    {
     "data": {
      "text/plain": [
       "550"
      ]
     },
     "execution_count": 2,
     "metadata": {},
     "output_type": "execute_result"
    }
   ],
   "source": [
    "xi_list = GLS_Apr_weekday_PM_ext.xi_list\n",
    "P = GLS_Apr_weekday_PM_ext.P\n",
    "L = GLS_Apr_weekday_PM_ext.L  # dimension of xi"
   ]
  },
  {
   "cell_type": "code",
   "execution_count": 3,
   "metadata": {
    "collapsed": false
   },
   "outputs": [
    {
     "data": {
      "text/plain": [
       "550-element Array{Any,1}:\n",
       "   4.15405e-5 \n",
       "   1.52965e-9 \n",
       "   1.52977e-9 \n",
       " 480.571      \n",
       "   1.25646e-9 \n",
       "   3.5177e-5  \n",
       "   5.22872e-7 \n",
       "   1.4927e-9  \n",
       "   1.23142e-9 \n",
       "   6.14785e-8 \n",
       "   4.90978e-5 \n",
       "   5.24944e-7 \n",
       "   1.49272e-9 \n",
       "   ⋮          \n",
       "   1.00895e-5 \n",
       "   1.60462e-9 \n",
       "   9.62445e-6 \n",
       "   1.03966e-5 \n",
       "   9.11491e-6 \n",
       "  62.1084     \n",
       "   5.4964e-6  \n",
       "  30.5506     \n",
       "   4.52269e-11\n",
       "   4.52269e-11\n",
       "   4.52296e-11\n",
       "   2.10319e-9 "
      ]
     },
     "execution_count": 3,
     "metadata": {},
     "output_type": "execute_result"
    }
   ],
   "source": [
    "xi_list"
   ]
  },
  {
   "cell_type": "code",
   "execution_count": 4,
   "metadata": {
    "collapsed": false
   },
   "outputs": [
    {
     "data": {
      "text/plain": [
       "(110,550)"
      ]
     },
     "execution_count": 4,
     "metadata": {},
     "output_type": "execute_result"
    }
   ],
   "source": [
    "size(P, 1), size(P, 2)"
   ]
  },
  {
   "cell_type": "code",
   "execution_count": 5,
   "metadata": {
    "collapsed": false
   },
   "outputs": [
    {
     "name": "stdout",
     "output_type": "stream",
     "text": [
      "\n",
      "******************************************************************************\n",
      "This program contains Ipopt, a library for large-scale nonlinear optimization.\n",
      " Ipopt is released as open source code under the Eclipse Public License (EPL).\n",
      "         For more information visit http://projects.coin-or.org/Ipopt\n",
      "******************************************************************************\n",
      "\n",
      "This is Ipopt version 3.12.1, running with linear solver mumps.\n",
      "NOTE: Other linear solvers might be more efficient (see Ipopt documentation).\n",
      "\n",
      "Number of nonzeros in equality constraint Jacobian...:   241900\n",
      "Number of nonzeros in inequality constraint Jacobian.:        0\n",
      "Number of nonzeros in Lagrangian Hessian.............:   181500\n",
      "\n",
      "Exception of type: TOO_FEW_DOF in file \"IpIpoptApplication.cpp\" at line 887:\n",
      " Exception message: status != TOO_FEW_DEGREES_OF_FREEDOM evaluated false: Too few degrees of freedom (rethrown)!\n",
      "\n",
      "EXIT: Problem has too few degrees of freedom.\n"
     ]
    },
    {
     "name": "stderr",
     "output_type": "stream",
     "text": [
      "WARNING: Ipopt finished with status Not_Enough_Degrees_Of_Freedom\n",
      "WARNING: Not solved to optimality, status: Error\n"
     ]
    },
    {
     "data": {
      "text/plain": [
       ":Error"
      ]
     },
     "execution_count": 5,
     "metadata": {},
     "output_type": "execute_result"
    }
   ],
   "source": [
    "using JuMP\n",
    "\n",
    "mGLSJulia = Model()\n",
    "\n",
    "@defVar(mGLSJulia, lam[1:size(P,1)] >= 0)\n",
    "\n",
    "@defVar(mGLSJulia, p[1:size(P,1), 1:size(P,2)] >= 0)\n",
    "\n",
    "for i = 1:size(P,1)\n",
    "    for j = 1:size(P,2)\n",
    "        if P[i,j] == 0\n",
    "            @addConstraint(mGLSJulia, p[i,j] == 0)\n",
    "        end\n",
    "    end\n",
    "end\n",
    "            \n",
    "for i = 1:size(P,1)\n",
    "    @addNLConstraint(mGLSJulia, sum{p[i,j], j = 1:size(P,2)} == 1)\n",
    "end\n",
    "\n",
    "for l = 1:L\n",
    "    @addNLConstraint(mGLSJulia, sum{p[i,l] * lam[i], i = 1:size(P,1)} == xi_list[l])\n",
    "end\n",
    "    \n",
    "@setNLObjective(mGLSJulia, Min, sum{p[1,j], j = 1:size(P,2)})  # play no actual role, but could not use zero objective\n",
    "\n",
    "solve(mGLSJulia)"
   ]
  },
  {
   "cell_type": "code",
   "execution_count": 6,
   "metadata": {
    "collapsed": false
   },
   "outputs": [
    {
     "data": {
      "text/plain": [
       "110-element Array{Float64,1}:\n",
       " 0.0\n",
       " 0.0\n",
       " 0.0\n",
       " 0.0\n",
       " 0.0\n",
       " 0.0\n",
       " 0.0\n",
       " 0.0\n",
       " 0.0\n",
       " 0.0\n",
       " 0.0\n",
       " 0.0\n",
       " 0.0\n",
       " ⋮  \n",
       " 0.0\n",
       " 0.0\n",
       " 0.0\n",
       " 0.0\n",
       " 0.0\n",
       " 0.0\n",
       " 0.0\n",
       " 0.0\n",
       " 0.0\n",
       " 0.0\n",
       " 0.0\n",
       " 0.0"
      ]
     },
     "execution_count": 6,
     "metadata": {},
     "output_type": "execute_result"
    }
   ],
   "source": [
    "getValue(lam)"
   ]
  },
  {
   "cell_type": "code",
   "execution_count": 7,
   "metadata": {
    "collapsed": false
   },
   "outputs": [
    {
     "data": {
      "text/plain": [
       "0.0"
      ]
     },
     "execution_count": 7,
     "metadata": {},
     "output_type": "execute_result"
    }
   ],
   "source": [
    "getObjectiveValue(mGLSJulia)"
   ]
  },
  {
   "cell_type": "code",
   "execution_count": 8,
   "metadata": {
    "collapsed": false
   },
   "outputs": [
    {
     "ename": "LoadError",
     "evalue": "PyError (:PyObject_Call) <type 'exceptions.IndexError'>\nIndexError('index 110 is out of bounds for axis 0 with size 110',)\n  File \"GLS_Apr_weekday_PM_ext.py\", line 145, in saveDemandVec\n    lam_dict[key] = lam_list[idx]\n\nwhile loading In[8], in expression starting on line 1",
     "output_type": "error",
     "traceback": [
      "PyError (:PyObject_Call) <type 'exceptions.IndexError'>\nIndexError('index 110 is out of bounds for axis 0 with size 110',)\n  File \"GLS_Apr_weekday_PM_ext.py\", line 145, in saveDemandVec\n    lam_dict[key] = lam_list[idx]\n\nwhile loading In[8], in expression starting on line 1",
      "",
      " in pyerr_check at /home/jzh/.julia/v0.3/PyCall/src/exception.jl:61",
      " in pycall at /home/jzh/.julia/v0.3/PyCall/src/PyCall.jl:81",
      " in fn at /home/jzh/.julia/v0.3/PyCall/src/conversions.jl:194"
     ]
    }
   ],
   "source": [
    "GLS_Apr_weekday_PM_ext.saveDemandVec(getValue(lam))"
   ]
  }
 ],
 "metadata": {
  "kernelspec": {
   "display_name": "Julia 0.3.7",
   "language": "julia",
   "name": "julia-0.3"
  },
  "language_info": {
   "file_extension": ".jl",
   "mimetype": "application/julia",
   "name": "julia",
   "version": "0.3.7"
  }
 },
 "nbformat": 4,
 "nbformat_minor": 0
}
