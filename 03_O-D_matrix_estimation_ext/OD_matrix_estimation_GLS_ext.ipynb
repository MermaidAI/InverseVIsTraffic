{
 "cells": [
  {
   "cell_type": "code",
   "execution_count": 24,
   "metadata": {
    "collapsed": true
   },
   "outputs": [],
   "source": [
    "%run ../Python_files/load_dicts.py\n",
    "%run ../Python_files/util.py"
   ]
  },
  {
   "cell_type": "code",
   "execution_count": 25,
   "metadata": {
    "collapsed": false
   },
   "outputs": [
    {
     "ename": "GurobiError",
     "evalue": "Objective Q not PSD (diagonal adjustment of 9.0e+15 would be required)",
     "output_type": "error",
     "traceback": [
      "\u001b[1;31m---------------------------------------------------------------------------\u001b[0m",
      "\u001b[1;31mGurobiError\u001b[0m                               Traceback (most recent call last)",
      "\u001b[1;32m/home/jzh/Dropbox/Research/Data-driven_estimation_inverse_optimization/Experiments/InverseVIsTraffic/Python_files/OD_matrix_estimation_GLS_Jul_weekday_PM_ext.py\u001b[0m in \u001b[0;36m<module>\u001b[1;34m()\u001b[0m\n\u001b[0;32m     53\u001b[0m \u001b[0mL\u001b[0m \u001b[1;33m=\u001b[0m \u001b[1;36m17\u001b[0m \u001b[1;33m*\u001b[0m \u001b[1;33m(\u001b[0m\u001b[1;36m17\u001b[0m \u001b[1;33m-\u001b[0m \u001b[1;36m1\u001b[0m\u001b[1;33m)\u001b[0m  \u001b[1;31m# dimension of lPM\u001b[0m\u001b[1;33m\u001b[0m\u001b[0m\n\u001b[0;32m     54\u001b[0m \u001b[1;33m\u001b[0m\u001b[0m\n\u001b[1;32m---> 55\u001b[1;33m \u001b[0mlam_list\u001b[0m \u001b[1;33m=\u001b[0m \u001b[0mGLS\u001b[0m\u001b[1;33m(\u001b[0m\u001b[0mx\u001b[0m\u001b[1;33m,\u001b[0m \u001b[0mA\u001b[0m\u001b[1;33m,\u001b[0m \u001b[0mP\u001b[0m\u001b[1;33m,\u001b[0m \u001b[0mL\u001b[0m\u001b[1;33m)\u001b[0m\u001b[1;33m\u001b[0m\u001b[0m\n\u001b[0m\u001b[0;32m     56\u001b[0m \u001b[1;33m\u001b[0m\u001b[0m\n\u001b[0;32m     57\u001b[0m \u001b[1;31m# write estimation result to file\u001b[0m\u001b[1;33m\u001b[0m\u001b[1;33m\u001b[0m\u001b[0m\n",
      "\u001b[1;32m/home/jzh/Dropbox/Research/Data-driven_estimation_inverse_optimization/Experiments/InverseVIsTraffic/Python_files/util.pyc\u001b[0m in \u001b[0;36mGLS\u001b[1;34m(x, A, P, L)\u001b[0m\n\u001b[0;32m    108\u001b[0m \u001b[1;33m\u001b[0m\u001b[0m\n\u001b[0;32m    109\u001b[0m     \u001b[0mmodel\u001b[0m\u001b[1;33m.\u001b[0m\u001b[0msetParam\u001b[0m\u001b[1;33m(\u001b[0m\u001b[1;34m'OutputFlag'\u001b[0m\u001b[1;33m,\u001b[0m \u001b[0mFalse\u001b[0m\u001b[1;33m)\u001b[0m\u001b[1;33m\u001b[0m\u001b[0m\n\u001b[1;32m--> 110\u001b[1;33m     \u001b[0mmodel\u001b[0m\u001b[1;33m.\u001b[0m\u001b[0moptimize\u001b[0m\u001b[1;33m(\u001b[0m\u001b[1;33m)\u001b[0m\u001b[1;33m\u001b[0m\u001b[0m\n\u001b[0m\u001b[0;32m    111\u001b[0m \u001b[1;33m\u001b[0m\u001b[0m\n\u001b[0;32m    112\u001b[0m     \u001b[0mlam_list\u001b[0m \u001b[1;33m=\u001b[0m \u001b[1;33m[\u001b[0m\u001b[1;33m]\u001b[0m\u001b[1;33m\u001b[0m\u001b[0m\n",
      "\u001b[1;32mmodel.pxi\u001b[0m in \u001b[0;36mgurobipy.Model.optimize (../../src/python/gurobipy.c:45983)\u001b[1;34m()\u001b[0m\n",
      "\u001b[1;31mGurobiError\u001b[0m: Objective Q not PSD (diagonal adjustment of 9.0e+15 would be required)"
     ]
    }
   ],
   "source": [
    "%run ../Python_files/OD_matrix_estimation_GLS_Jul_weekday_PM_ext.py"
   ]
  },
  {
   "cell_type": "code",
   "execution_count": 1,
   "metadata": {
    "collapsed": false
   },
   "outputs": [],
   "source": [
    "%run ../Python_files/OD_matrix_estimation_GLS_Jan_weekday_MD.py\n",
    "%run ../Python_files/OD_matrix_estimation_GLS_Jan_weekday_PM.py\n",
    "%run ../Python_files/OD_matrix_estimation_GLS_Jan_weekday_NT.py\n",
    "%run ../Python_files/OD_matrix_estimation_GLS_Jan_weekend.py\n",
    "\n",
    "%run ../Python_files/OD_matrix_estimation_GLS_Apr_weekday_AM.py\n",
    "%run ../Python_files/OD_matrix_estimation_GLS_Apr_weekday_MD.py\n",
    "%run ../Python_files/OD_matrix_estimation_GLS_Apr_weekday_PM.py\n",
    "%run ../Python_files/OD_matrix_estimation_GLS_Apr_weekday_NT.py\n",
    "%run ../Python_files/OD_matrix_estimation_GLS_Apr_weekend.py\n",
    "\n",
    "%run ../Python_files/OD_matrix_estimation_GLS_Jul_weekday_AM.py\n",
    "%run ../Python_files/OD_matrix_estimation_GLS_Jul_weekday_MD.py\n",
    "%run ../Python_files/OD_matrix_estimation_GLS_Jul_weekday_PM.py\n",
    "%run ../Python_files/OD_matrix_estimation_GLS_Jul_weekday_NT.py\n",
    "%run ../Python_files/OD_matrix_estimation_GLS_Jul_weekend.py\n",
    "\n",
    "%run ../Python_files/OD_matrix_estimation_GLS_Oct_weekday_AM.py\n",
    "%run ../Python_files/OD_matrix_estimation_GLS_Oct_weekday_MD.py\n",
    "%run ../Python_files/OD_matrix_estimation_GLS_Oct_weekday_PM.py\n",
    "%run ../Python_files/OD_matrix_estimation_GLS_Oct_weekday_NT.py\n",
    "%run ../Python_files/OD_matrix_estimation_GLS_Oct_weekend.py"
   ]
  },
  {
   "cell_type": "code",
   "execution_count": null,
   "metadata": {
    "collapsed": true
   },
   "outputs": [],
   "source": [
    "def Q_adjust(Q):\n",
    "    # Ensure Q to be symmetric\n",
    "    Q = (1.0 / 2) * (Q + np.transpose(Q))\n",
    "\n",
    "    # Ensure Q to be positive semi-definite\n",
    "    D, V = LA.eig(Q)\n",
    "    D = np.diag(D)\n",
    "    Q_, R_ = LA.qr(V)\n",
    "    for i in range(0, np.size(Q, 0)):\n",
    "        if D[i, i] < 0:\n",
    "            D[i, i] = 1e-10\n",
    "    Q = np.dot(np.dot(Q_, D), LA.inv(Q_))\n",
    "    return Q"
   ]
  },
  {
   "cell_type": "code",
   "execution_count": null,
   "metadata": {
    "collapsed": true
   },
   "outputs": [],
   "source": [
    "def flow_conservation_adjustment(y_0):\n",
    "    L = len(y_0)  # dimension of flow vector x\n",
    "    assert(L == 64)\n",
    "\n",
    "    # y_0 = x[:,1]  # initial flow vector\n",
    "\n",
    "    model = Model(\"Flow_conservation_adjustment\")\n",
    "\n",
    "    y = []\n",
    "    for l in range(L):\n",
    "        y.append(model.addVar(name='y_' + str(l)))\n",
    "\n",
    "    model.update() \n",
    "\n",
    "    # Set objective: ||y-y_0||^2\n",
    "    obj = 0\n",
    "    for l in range(L):\n",
    "        obj += (y[l] - y_0[l]) * (y[l] - y_0[l])\n",
    "    model.setObjective(obj)\n",
    "\n",
    "    # Add nonnegative constraint: y >= 0\n",
    "    for l in range(L):\n",
    "        model.addConstr(y[l] >= 0)\n",
    "    # Add flow conservation constraints\n",
    "    model.addConstr(y[1] + y[3] == y[0] + y[2])\n",
    "    model.addConstr(y[0] + y[5] + y[7] == y[1] + y[4] + y[6])\n",
    "    model.addConstr(y[2] + y[4] + y[9] == y[3] + y[5] + y[8])  # node 3\n",
    "    model.addConstr(y[6] + y[11] + y[13] + y[15] + y[17] == y[7] + y[10] + y[12] + y[14] + y[16])\n",
    "    model.addConstr(y[16] + y[21] + y[23] == y[17] + y[20] + y[22])\n",
    "    model.addConstr(y[8] + y[10] + y[19] == y[9] + y[11] + y[18])  # node 6\n",
    "    model.addConstr(y[12] + y[14] + y[18] + y[25] + y[27] == y[13] + y[15] + y[19] + y[24] + y[26])\n",
    "    \n",
    "    model.addConstr(y[20] + y[31] + y[35] == y[17] + y[23])\n",
    "\n",
    "    model.update() \n",
    "\n",
    "    model.setParam('OutputFlag', False)\n",
    "    model.optimize()\n",
    "\n",
    "    y = []\n",
    "    for v in model.getVars():\n",
    "        # print('%s %g' % (v.varName, v.x))\n",
    "        y.append(v.x)\n",
    "    # print('Obj: %g' % obj.getValue())\n",
    "    return y"
   ]
  }
 ],
 "metadata": {
  "kernelspec": {
   "display_name": "Python 2",
   "language": "python",
   "name": "python2"
  },
  "language_info": {
   "codemirror_mode": {
    "name": "ipython",
    "version": 2
   },
   "file_extension": ".py",
   "mimetype": "text/x-python",
   "name": "python",
   "nbconvert_exporter": "python",
   "pygments_lexer": "ipython2",
   "version": "2.7.11"
  }
 },
 "nbformat": 4,
 "nbformat_minor": 0
}
