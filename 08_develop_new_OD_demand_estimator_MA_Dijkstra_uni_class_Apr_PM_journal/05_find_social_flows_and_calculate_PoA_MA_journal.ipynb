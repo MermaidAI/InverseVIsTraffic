{
 "cells": [
  {
   "cell_type": "code",
   "execution_count": 1,
   "metadata": {
    "collapsed": false
   },
   "outputs": [
    {
     "name": "stderr",
     "output_type": "stream",
     "text": [
      "WARNING: the no-op `transpose` fallback is deprecated, and no more specific `transpose` method for Ptr{PyCall.PyObject_struct} exists. Consider `permutedims(x, [2, 1])` or writing a specific `transpose(x::Ptr{PyCall.PyObject_struct})` method if appropriate.\n",
      " in depwarn(::String, ::Symbol) at ./deprecated.jl:64\n",
      " in transpose(::Ptr{PyCall.PyObject_struct}) at ./deprecated.jl:770\n",
      " in transpose_f!(::Base.#transpose, ::Array{Ptr{PyCall.PyObject_struct},2}, ::Array{Ptr{PyCall.PyObject_struct},2}) at ./arraymath.jl:369\n",
      " in transpose(::Array{Ptr{PyCall.PyObject_struct},2}) at ./arraymath.jl:407\n",
      " in copy(::PyCall.PyArray{Ptr{PyCall.PyObject_struct},2}) at /home/jzh/.julia/v0.5/PyCall/src/numpy.jl:337\n",
      " in convert(::Type{Array{Ptr{PyCall.PyObject_struct},N}}, ::PyCall.PyObject) at /home/jzh/.julia/v0.5/PyCall/src/numpy.jl:453\n",
      " in convert(::Type{Array{PyCall.PyObject,N}}, ::PyCall.PyObject) at /home/jzh/.julia/v0.5/PyCall/src/numpy.jl:484\n",
      " in convert(::Type{PyCall.PyAny}, ::PyCall.PyObject) at /home/jzh/.julia/v0.5/PyCall/src/conversions.jl:806\n",
      " in #55 at ./<missing>:0 [inlined]\n",
      " in next at ./generator.jl:26 [inlined]\n",
      " in collect_to!(::Array{Expr,1}, ::Base.Generator{Array{Tuple{AbstractString,PyCall.PyObject},1},PyCall.##55#59}, ::Int64, ::Int64) at ./array.jl:340\n",
      " in collect(::Base.Generator{Array{Tuple{AbstractString,PyCall.PyObject},1},PyCall.##55#59}) at ./array.jl:308\n",
      " in pywrap(::PyCall.PyObject, ::Symbol) at /home/jzh/.julia/v0.5/PyCall/src/PyCall.jl:314\n",
      " in pywrap(::PyCall.PyObject) at /home/jzh/.julia/v0.5/PyCall/src/PyCall.jl:310\n",
      " in include_string(::String, ::String) at ./loading.jl:441\n",
      " in execute_request(::ZMQ.Socket, ::IJulia.Msg) at /home/jzh/.julia/v0.5/IJulia/src/execute_request.jl:169\n",
      " in eventloop(::ZMQ.Socket) at /home/jzh/.julia/v0.5/IJulia/src/eventloop.jl:8\n",
      " in (::IJulia.##9#15)() at ./task.jl:360\n",
      "while loading In[1], in expression starting on line 427\n"
     ]
    }
   ],
   "source": [
    "using PyCall\n",
    "unshift!(PyVector(pyimport(\"sys\")[\"path\"]), \"\");\n",
    "@pyimport Compute_Jacobian_MA_journal\n",
    "@pyimport GLS_Apr_weekday_PM_journal"
   ]
  },
  {
   "cell_type": "code",
   "execution_count": 2,
   "metadata": {
    "collapsed": false
   },
   "outputs": [
    {
     "data": {
      "text/plain": [
       "258×30 Array{Float64,2}:\n",
       " 1393.18     806.378    762.959        …  1122.05    1513.32     356.411 \n",
       " 1245.77    1047.31    1023.88            1058.72    1286.13     737.719 \n",
       " 2175.98    1580.96    1289.54            1310.68    1660.56    1011.89  \n",
       " 2206.51    1358.68    1100.85            1375.95    2022.21     856.967 \n",
       "   27.0447   279.236    279.358            114.702    182.177    319.842 \n",
       "  143.919    260.583    207.122        …   112.767     47.7074    93.4537\n",
       "  128.953     91.0833    77.1364           105.58     127.956     72.177 \n",
       "  128.953     91.0833    77.1364           105.58     127.956     72.177 \n",
       " 1381.89    1661.69    1435.11            1024.77    1282.9     1395.51  \n",
       " 1061.96    1922.71    1849.59             893.572    782.416   2032.03  \n",
       "   85.5516   284.675    357.062        …    50.566     29.8585   369.656 \n",
       "  258.077    264.587    203.507            118.433    303.162    114.442 \n",
       "  322.493    399.126    250.17             333.773    473.913    174.446 \n",
       "    ⋮                                  ⋱                                 \n",
       "  371.823    361.35     469.861            282.682    329.6      440.596 \n",
       "  371.823    361.35     469.861            282.682    329.6      440.596 \n",
       "  667.477    444.253    383.381            551.955    580.559    395.996 \n",
       "  667.477    444.253    383.381            551.955    580.559    395.996 \n",
       "  351.144    281.248    192.214        …   274.145    229.499    113.795 \n",
       "  351.144    281.248    192.214            274.145    229.499    113.795 \n",
       "  242.947    197.688    140.514            245.904    254.263    160.886 \n",
       "  196.842    343.812    499.067            141.266    191.864    452.724 \n",
       "  836.25     618.474    481.192            576.139    832.42     534.522 \n",
       "  836.25     618.474    481.192        …   576.139    832.42     534.522 \n",
       "  120.94      88.6479     6.76777e-14      106.228    136.532     31.5905\n",
       "   84.4671   376.191    633.474             83.8715    74.3588   412.052 "
      ]
     },
     "execution_count": 2,
     "metadata": {},
     "output_type": "execute_result"
    }
   ],
   "source": [
    "numNodes = Compute_Jacobian_MA_journal.numNodes;\n",
    "numLinks = Compute_Jacobian_MA_journal.numLinks;\n",
    "numODpairs = Compute_Jacobian_MA_journal.numODpairs;\n",
    "numZones = Compute_Jacobian_MA_journal.numZones\n",
    "od_pairs = Compute_Jacobian_MA_journal.od_pairs;\n",
    "link_list_js = Compute_Jacobian_MA_journal.link_list_js;\n",
    "link_length_list = Compute_Jacobian_MA_journal.link_length_list;\n",
    "\n",
    "flow_observ = GLS_Apr_weekday_PM_journal.x_"
   ]
  },
  {
   "cell_type": "code",
   "execution_count": 3,
   "metadata": {
    "collapsed": false
   },
   "outputs": [
    {
     "name": "stderr",
     "output_type": "stream",
     "text": [
      "WARNING: readall is deprecated, use readstring instead.\n",
      " in depwarn(::String, ::Symbol) at ./deprecated.jl:64\n",
      " in readall(::String, ::Vararg{String,N}) at ./deprecated.jl:30\n",
      " in furInfo() at /home/jzh/Research/Traffic/InverseVIsTraffic/08_develop_new_OD_demand_estimator_MA_Dijkstra_uni_class_Apr_PM_journal/prepare_data_MA_journal.jl:183\n",
      " in include_from_node1(::String) at ./loading.jl:488\n",
      " in include_string(::String, ::String) at ./loading.jl:441\n",
      " in execute_request(::ZMQ.Socket, ::IJulia.Msg) at /home/jzh/.julia/v0.5/IJulia/src/execute_request.jl:169\n",
      " in eventloop(::ZMQ.Socket) at /home/jzh/.julia/v0.5/IJulia/src/eventloop.jl:8\n",
      " in (::IJulia.##9#15)() at ./task.jl:360\n",
      "while loading /home/jzh/Research/Traffic/InverseVIsTraffic/08_develop_new_OD_demand_estimator_MA_Dijkstra_uni_class_Apr_PM_journal/extract_data_MA_journal.jl, in expression starting on line 10\n",
      "WARNING: readall is deprecated, use readstring instead.\n",
      " in depwarn(::String, ::Symbol) at ./deprecated.jl:64\n",
      " in readall(::String, ::Vararg{String,N}) at ./deprecated.jl:30\n",
      " in furInfo() at /home/jzh/Research/Traffic/InverseVIsTraffic/08_develop_new_OD_demand_estimator_MA_Dijkstra_uni_class_Apr_PM_journal/prepare_data_MA_journal.jl:186\n",
      " in include_from_node1(::String) at ./loading.jl:488\n",
      " in include_string(::String, ::String) at ./loading.jl:441\n",
      " in execute_request(::ZMQ.Socket, ::IJulia.Msg) at /home/jzh/.julia/v0.5/IJulia/src/execute_request.jl:169\n",
      " in eventloop(::ZMQ.Socket) at /home/jzh/.julia/v0.5/IJulia/src/eventloop.jl:8\n",
      " in (::IJulia.##9#15)() at ./task.jl:360\n",
      "while loading /home/jzh/Research/Traffic/InverseVIsTraffic/08_develop_new_OD_demand_estimator_MA_Dijkstra_uni_class_Apr_PM_journal/extract_data_MA_journal.jl, in expression starting on line 10\n",
      "WARNING: readall is deprecated, use readstring instead.\n",
      " in depwarn(::String, ::Symbol) at ./deprecated.jl:64\n",
      " in readall(::String, ::Vararg{String,N}) at ./deprecated.jl:30\n",
      " in furInfo() at /home/jzh/Research/Traffic/InverseVIsTraffic/08_develop_new_OD_demand_estimator_MA_Dijkstra_uni_class_Apr_PM_journal/prepare_data_MA_journal.jl:189\n",
      " in include_from_node1(::String) at ./loading.jl:488\n",
      " in include_string(::String, ::String) at ./loading.jl:441\n",
      " in execute_request(::ZMQ.Socket, ::IJulia.Msg) at /home/jzh/.julia/v0.5/IJulia/src/execute_request.jl:169\n",
      " in eventloop(::ZMQ.Socket) at /home/jzh/.julia/v0.5/IJulia/src/eventloop.jl:8\n",
      " in (::IJulia.##9#15)() at ./task.jl:360\n",
      "while loading /home/jzh/Research/Traffic/InverseVIsTraffic/08_develop_new_OD_demand_estimator_MA_Dijkstra_uni_class_Apr_PM_journal/extract_data_MA_journal.jl, in expression starting on line 10\n",
      "WARNING: readall is deprecated, use readstring instead.\n",
      " in depwarn(::String, ::Symbol) at ./deprecated.jl:64\n",
      " in readall(::String, ::Vararg{String,N}) at ./deprecated.jl:30\n",
      " in include_from_node1(::String) at ./loading.jl:488\n",
      " in include_string(::String, ::String) at ./loading.jl:441\n",
      " in execute_request(::ZMQ.Socket, ::IJulia.Msg) at /home/jzh/.julia/v0.5/IJulia/src/execute_request.jl:169\n",
      " in eventloop(::ZMQ.Socket) at /home/jzh/.julia/v0.5/IJulia/src/eventloop.jl:8\n",
      " in (::IJulia.##9#15)() at ./task.jl:360\n",
      "while loading /home/jzh/Research/Traffic/InverseVIsTraffic/08_develop_new_OD_demand_estimator_MA_Dijkstra_uni_class_Apr_PM_journal/extract_data_MA_journal.jl, in expression starting on line 16\n",
      "WARNING: Method definition (::Type{Graphs.KeyVertex})(Int64, #K<:Any) in module Graphs at /home/jzh/.julia/v0.5/Graphs/src/common.jl:12 overwritten at /home/jzh/.julia/v0.5/Graphs/src/common.jl:16.\n",
      "WARNING: Method definition (::Type{Graphs.Edge})(Int64, #V<:Any, #V<:Any) in module Graphs at /home/jzh/.julia/v0.5/Graphs/src/common.jl:54 overwritten at /home/jzh/.julia/v0.5/Graphs/src/common.jl:60.\n",
      "WARNING: Method definition (::Type{Graphs.ExEdge})(Int64, #V<:Any, #V<:Any, Base.Dict{String, Any}) in module Graphs at /home/jzh/.julia/v0.5/Graphs/src/common.jl:72 overwritten at /home/jzh/.julia/v0.5/Graphs/src/common.jl:83.\n",
      "WARNING: Method definition (::Type{Graphs.TargetIterator})(#G<:Graphs.AbstractGraph, #EList<:Any) in module Graphs at /home/jzh/.julia/v0.5/Graphs/src/common.jl:123 overwritten at /home/jzh/.julia/v0.5/Graphs/src/common.jl:127.\n",
      "WARNING: Method definition (::Type{Graphs.SourceIterator})(#G<:Graphs.AbstractGraph, #EList<:Any) in module Graphs at /home/jzh/.julia/v0.5/Graphs/src/common.jl:141 overwritten at /home/jzh/.julia/v0.5/Graphs/src/common.jl:145.\n",
      "WARNING: Method definition edge_property_requirement(Graphs.AbstractEdgePropertyInspector{#T<:Any}, Graphs.AbstractGraph{#V<:Any, E<:Any}) in module Graphs at /home/jzh/.julia/v0.5/Graphs/src/common.jl:164 overwritten at /home/jzh/.julia/v0.5/Graphs/src/common.jl:179.\n",
      "WARNING: Method definition vertex_index(#V<:Union{Graphs.ExVertex, Graphs.KeyVertex}, Graphs.GenericGraph{#V<:Union{Graphs.ExVertex, Graphs.KeyVertex}, E<:Any, VList<:Any, EList<:Any, IncList<:Any}) in module Graphs at /home/jzh/.julia/v0.5/Graphs/src/graph.jl:65 overwritten at /home/jzh/.julia/v0.5/Graphs/src/graph.jl:67.\n",
      "WARNING: Method definition (::Type{Graphs.GDistanceVisitor})(#G<:Graphs.AbstractGraph, #DMap<:Any) in module Graphs at /home/jzh/.julia/v0.5/Graphs/src/breadth_first_visit.jl:107 overwritten at /home/jzh/.julia/v0.5/Graphs/src/breadth_first_visit.jl:111.\n"
     ]
    }
   ],
   "source": [
    "include(\"../Julia_files/initia_data.jl\");\n",
    "include(\"prepare_data_MA_journal.jl\");\n",
    "include(\"extract_data_MA_journal.jl\");\n",
    "include(\"../Julia_files/tap_MSA.jl\");"
   ]
  },
  {
   "cell_type": "code",
   "execution_count": 4,
   "metadata": {
    "collapsed": false
   },
   "outputs": [
    {
     "data": {
      "text/plain": [
       "9-element Array{Any,1}:\n",
       "  1.0       \n",
       " -0.00303133\n",
       "  0.0577207 \n",
       " -0.195677  \n",
       "  0.620789  \n",
       " -0.905919  \n",
       "  0.935921  \n",
       " -0.469131  \n",
       "  0.108528  "
      ]
     },
     "execution_count": 4,
     "metadata": {},
     "output_type": "execute_result"
    }
   ],
   "source": [
    "deg = 8\n",
    "c = 0.5\n",
    "lam = 10000.0\n",
    "\n",
    "coeffs_dict_Apr_PM_ = readstring(\"../temp_files/coeffs_dict_Apr_PM.json\")\n",
    "coeffs_dict_Apr_PM_ = JSON.parse(coeffs_dict_Apr_PM_)\n",
    "fcoeffs = coeffs_dict_Apr_PM_[\"($(deg),$(c),$(lam),1)\"]"
   ]
  },
  {
   "cell_type": "code",
   "execution_count": 5,
   "metadata": {
    "collapsed": false
   },
   "outputs": [
    {
     "data": {
      "text/plain": [
       "socialObj (generic function with 1 method)"
      ]
     },
     "execution_count": 5,
     "metadata": {},
     "output_type": "execute_result"
    }
   ],
   "source": [
    "function socialObj(linkFlowVec)\n",
    "    objVal = sum([free_flow_time[a] * fcoeffs[1] * linkFlowVec[a] + \n",
    "        free_flow_time[a] * fcoeffs[2] * linkFlowVec[a]^2 / capacity[a] + \n",
    "        free_flow_time[a] * fcoeffs[3] * linkFlowVec[a]^3 / capacity[a]^2 + \n",
    "        free_flow_time[a] * fcoeffs[4] * linkFlowVec[a]^4 / capacity[a]^3 + \n",
    "        free_flow_time[a] * fcoeffs[5] * linkFlowVec[a]^5 / capacity[a]^4 + \n",
    "        free_flow_time[a] * fcoeffs[6] * linkFlowVec[a]^6 / capacity[a]^5 + \n",
    "        free_flow_time[a] * fcoeffs[7] * linkFlowVec[a]^7 / capacity[a]^6 + \n",
    "        free_flow_time[a] * fcoeffs[8] * linkFlowVec[a]^8 / capacity[a]^7 + \n",
    "        free_flow_time[a] * fcoeffs[9] * linkFlowVec[a]^9 / capacity[a]^8 for a = 1:numLinks])\n",
    "    return objVal\n",
    "end"
   ]
  },
  {
   "cell_type": "code",
   "execution_count": 6,
   "metadata": {
    "collapsed": false
   },
   "outputs": [],
   "source": [
    "week_day_Apr_list = [2, 3, 4, 5, 6, 9, 10, 11, 12, 13, 16, 17, 18, 19, 20, 23, 24, 25, 26, 27, 30];\n",
    "# week_day_Apr_list = [6];"
   ]
  },
  {
   "cell_type": "code",
   "execution_count": 7,
   "metadata": {
    "collapsed": false
   },
   "outputs": [],
   "source": [
    "PoA_dict = Dict();\n",
    "tapSocialFlowDicDict = Dict();\n",
    "tapSocialFlowVecDict = Dict();"
   ]
  },
  {
   "cell_type": "code",
   "execution_count": 8,
   "metadata": {
    "collapsed": true
   },
   "outputs": [],
   "source": [
    "# demandsDict = readstring(\"../temp_files/demands_MA_journal.json\");\n",
    "# demandsDict = JSON.parse(demandsDict)\n",
    "\n",
    "# demandsDict_ = Dict()\n",
    "# for key in keys(demandsDict)\n",
    "#     key_ = (parse(Int, split(split(key, ',')[1], '(')[2]), parse(Int, split(split(key, ',')[2], ')')[1]))\n",
    "#     demandsDict_[key_] = demandsDict[key]\n",
    "# end\n",
    "\n",
    "# AA, BB = tapMSASocial(demandsDict_, fcoeffs);"
   ]
  },
  {
   "cell_type": "code",
   "execution_count": 9,
   "metadata": {
    "collapsed": false
   },
   "outputs": [],
   "source": [
    "for day in week_day_Apr_list\n",
    "\n",
    "    demandsDict = readstring(\"../08_develop_new_OD_demand_estimator_MA_Dijkstra_uni_class_Apr_PM_journal/results/demandsDictFixed$(day)_journal.json\");\n",
    "    demandsDict = JSON.parse(demandsDict)\n",
    "\n",
    "    demandsDict_ = Dict()\n",
    "    for key in keys(demandsDict)\n",
    "        key_ = (parse(Int, split(split(key, ',')[1], '(')[2]), parse(Int, split(split(key, ',')[2], ')')[1]))\n",
    "        demandsDict_[key_] = demandsDict[key]\n",
    "    end\n",
    "\n",
    "#     demandsDict_\n",
    "\n",
    "#     tapFlowDicDict = Dict()\n",
    "#     tapFlowVecDict = Dict()\n",
    "#     tapFlowDicDict[day], tapFlowVecDict[day] = tapMSA(demandsDict_, fcoeffs);\n",
    "\n",
    "#     tapFlowVecDict[day]\n",
    "\n",
    "    tapSocialFlowDicDict[day], tapSocialFlowVecDict[day] = tapMSASocial(demandsDict_, fcoeffs);\n",
    "\n",
    "#     tapSocialFlowVecDict[day]\n",
    "\n",
    "#     flow_observ[:, day]\n",
    "\n",
    "    # PoA_dict[day] = socialObj(tapFlowVecDict[day]) / socialObj(tapSocialFlowVecDict[day])\n",
    "\n",
    "    PoA_dict[day] = socialObj(flow_observ[:, day]) / socialObj(tapSocialFlowVecDict[day]);\n",
    "end"
   ]
  },
  {
   "cell_type": "code",
   "execution_count": 10,
   "metadata": {
    "collapsed": false
   },
   "outputs": [
    {
     "data": {
      "text/plain": [
       "Dict{Any,Any} with 21 entries:\n",
       "  30 => 1.89434\n",
       "  2  => 1.76427\n",
       "  16 => 1.67644\n",
       "  11 => 1.3032\n",
       "  26 => 1.34687\n",
       "  9  => 1.23792\n",
       "  25 => 1.44386\n",
       "  10 => 1.41722\n",
       "  19 => 1.73921\n",
       "  17 => 1.21251\n",
       "  6  => 1.21549\n",
       "  24 => 1.66795\n",
       "  4  => 1.75585\n",
       "  3  => 1.88139\n",
       "  5  => 1.60888\n",
       "  20 => 1.34646\n",
       "  23 => 1.53948\n",
       "  13 => 1.30214\n",
       "  27 => 1.5314\n",
       "  12 => 1.62308\n",
       "  18 => 1.28076"
      ]
     },
     "execution_count": 10,
     "metadata": {},
     "output_type": "execute_result"
    }
   ],
   "source": [
    "PoA_dict"
   ]
  },
  {
   "cell_type": "code",
   "execution_count": 11,
   "metadata": {
    "collapsed": false
   },
   "outputs": [
    {
     "data": {
      "text/plain": [
       "Dict{Any,Any} with 21 entries:\n",
       "  30 => [583.945,349.959,1282.25,812.25,0.0,0.0,1265.91,1306.98,1245.91,2319.33…\n",
       "  2  => [581.116,299.312,1251.18,813.664,0.0,0.0,1226.52,1219.92,1161.93,2094.1…\n",
       "  16 => [372.499,187.498,769.741,517.019,0.0,0.0,759.541,745.386,731.38,1295.16…\n",
       "  11 => [563.341,268.266,1260.3,838.389,0.0,0.0,1231.83,1239.11,1152.3,2090.69 …\n",
       "  26 => [583.945,349.959,1282.25,812.25,0.0,0.0,1265.91,1306.98,1245.91,2319.33…\n",
       "  9  => [581.116,299.312,1251.18,813.664,0.0,0.0,1226.52,1219.92,1161.93,2094.1…\n",
       "  25 => [583.945,349.959,1282.25,812.25,0.0,0.0,1265.91,1306.98,1245.91,2319.33…\n",
       "  10 => [563.341,268.266,1260.3,838.389,0.0,0.0,1231.83,1239.11,1152.3,2090.69 …\n",
       "  19 => [357.647,167.377,750.226,483.344,0.0,0.0,752.272,723.959,702.484,1246.7…\n",
       "  17 => [587.958,303.932,1260.33,836.064,0.0,0.0,1229.03,1206.13,1168.67,2063.5…\n",
       "  6  => [367.795,184.638,764.563,503.18,0.0,0.0,757.989,753.912,726.738,1314.29…\n",
       "  24 => [580.363,324.078,1285.97,804.582,0.0,0.0,1277.93,1318.84,1267.58,2321.9…\n",
       "  4  => [581.116,299.312,1251.18,813.664,0.0,0.0,1226.52,1219.92,1161.93,2094.1…\n",
       "  3  => [581.116,299.312,1251.18,813.664,0.0,0.0,1226.52,1219.92,1161.93,2094.1…\n",
       "  5  => [581.116,299.312,1251.18,813.664,0.0,0.0,1226.52,1219.92,1161.93,2094.1…\n",
       "  20 => [357.647,167.377,750.226,483.344,0.0,0.0,752.272,723.959,702.484,1246.7…\n",
       "  23 => [565.153,270.837,1227.52,782.11,0.0,0.0,1217.27,1171.45,1123.14,1956.43…\n",
       "  13 => [587.958,303.932,1260.33,836.064,0.0,0.0,1229.03,1206.13,1168.67,2063.5…\n",
       "  27 => [370.97,215.151,782.34,503.095,0.0,0.0,782.331,807.712,780.063,1432.22 …\n",
       "  12 => [563.341,268.266,1260.3,838.389,0.0,0.0,1231.83,1239.11,1152.3,2090.69 …\n",
       "  18 => [565.153,270.837,1227.52,782.11,0.0,0.0,1217.27,1171.45,1123.14,1956.43…"
      ]
     },
     "execution_count": 11,
     "metadata": {},
     "output_type": "execute_result"
    }
   ],
   "source": [
    "tapSocialFlowVecDict"
   ]
  },
  {
   "cell_type": "code",
   "execution_count": 12,
   "metadata": {
    "collapsed": true
   },
   "outputs": [],
   "source": [
    "outfile = open(\"../temp_files/PoA_dict_Apr_PM_journal.json\", \"w\")\n",
    "\n",
    "JSON.print(outfile, PoA_dict)\n",
    "\n",
    "close(outfile)"
   ]
  },
  {
   "cell_type": "code",
   "execution_count": 13,
   "metadata": {
    "collapsed": true
   },
   "outputs": [],
   "source": [
    "outfile = open(\"../temp_files/tapSocialFlowVecDict_Apr_PM_journal.json\", \"w\")\n",
    "\n",
    "JSON.print(outfile, tapSocialFlowVecDict)\n",
    "\n",
    "close(outfile)"
   ]
  }
 ],
 "metadata": {
  "anaconda-cloud": {},
  "kernelspec": {
   "display_name": "Julia 0.5.0",
   "language": "julia",
   "name": "julia-0.5"
  },
  "language_info": {
   "file_extension": ".jl",
   "mimetype": "application/julia",
   "name": "julia",
   "version": "0.5.0"
  }
 },
 "nbformat": 4,
 "nbformat_minor": 0
}
