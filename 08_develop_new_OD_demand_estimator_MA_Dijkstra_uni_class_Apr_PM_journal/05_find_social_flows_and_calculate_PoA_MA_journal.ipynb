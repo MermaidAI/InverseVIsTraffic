{
 "cells": [
  {
   "cell_type": "code",
   "execution_count": 1,
   "metadata": {
    "collapsed": false
   },
   "outputs": [
    {
     "name": "stderr",
     "output_type": "stream",
     "text": [
      "WARNING: the no-op `transpose` fallback is deprecated, and no more specific `transpose` method for Ptr{PyCall.PyObject_struct} exists. Consider `permutedims(x, [2, 1])` or writing a specific `transpose(x::Ptr{PyCall.PyObject_struct})` method if appropriate.\n",
      " in depwarn(::String, ::Symbol) at ./deprecated.jl:64\n",
      " in transpose(::Ptr{PyCall.PyObject_struct}) at ./deprecated.jl:770\n",
      " in transpose_f!(::Base.#transpose, ::Array{Ptr{PyCall.PyObject_struct},2}, ::Array{Ptr{PyCall.PyObject_struct},2}) at ./arraymath.jl:369\n",
      " in transpose(::Array{Ptr{PyCall.PyObject_struct},2}) at ./arraymath.jl:407\n",
      " in copy(::PyCall.PyArray{Ptr{PyCall.PyObject_struct},2}) at /home/jzh/.julia/v0.5/PyCall/src/numpy.jl:337\n",
      " in convert(::Type{Array{Ptr{PyCall.PyObject_struct},N}}, ::PyCall.PyObject) at /home/jzh/.julia/v0.5/PyCall/src/numpy.jl:453\n",
      " in convert(::Type{Array{PyCall.PyObject,N}}, ::PyCall.PyObject) at /home/jzh/.julia/v0.5/PyCall/src/numpy.jl:484\n",
      " in convert(::Type{PyCall.PyAny}, ::PyCall.PyObject) at /home/jzh/.julia/v0.5/PyCall/src/conversions.jl:806\n",
      " in #55 at ./<missing>:0 [inlined]\n",
      " in next at ./generator.jl:26 [inlined]\n",
      " in collect_to!(::Array{Expr,1}, ::Base.Generator{Array{Tuple{AbstractString,PyCall.PyObject},1},PyCall.##55#59}, ::Int64, ::Int64) at ./array.jl:340\n",
      " in collect(::Base.Generator{Array{Tuple{AbstractString,PyCall.PyObject},1},PyCall.##55#59}) at ./array.jl:308\n",
      " in pywrap(::PyCall.PyObject, ::Symbol) at /home/jzh/.julia/v0.5/PyCall/src/PyCall.jl:314\n",
      " in pywrap(::PyCall.PyObject) at /home/jzh/.julia/v0.5/PyCall/src/PyCall.jl:310\n",
      " in include_string(::String, ::String) at ./loading.jl:441\n",
      " in execute_request(::ZMQ.Socket, ::IJulia.Msg) at /home/jzh/.julia/v0.5/IJulia/src/execute_request.jl:169\n",
      " in eventloop(::ZMQ.Socket) at /home/jzh/.julia/v0.5/IJulia/src/eventloop.jl:8\n",
      " in (::IJulia.##9#15)() at ./task.jl:360\n",
      "while loading In[1], in expression starting on line 427\n"
     ]
    }
   ],
   "source": [
    "using PyCall\n",
    "unshift!(PyVector(pyimport(\"sys\")[\"path\"]), \"\");\n",
    "@pyimport Compute_Jacobian_MA_journal\n",
    "@pyimport GLS_Apr_weekday_PM_journal"
   ]
  },
  {
   "cell_type": "code",
   "execution_count": 2,
   "metadata": {
    "collapsed": false
   },
   "outputs": [
    {
     "data": {
      "text/plain": [
       "258×30 Array{Float64,2}:\n",
       " 1393.18     806.378    762.959        …  1122.05    1513.32     356.411 \n",
       " 1245.77    1047.31    1023.88            1058.72    1286.13     737.719 \n",
       " 2175.98    1580.96    1289.54            1310.68    1660.56    1011.89  \n",
       " 2206.51    1358.68    1100.85            1375.95    2022.21     856.967 \n",
       "   27.0447   279.236    279.358            114.702    182.177    319.842 \n",
       "  143.919    260.583    207.122        …   112.767     47.7074    93.4537\n",
       "  128.953     91.0833    77.1364           105.58     127.956     72.177 \n",
       "  128.953     91.0833    77.1364           105.58     127.956     72.177 \n",
       " 1381.89    1661.69    1435.11            1024.77    1282.9     1395.51  \n",
       " 1061.96    1922.71    1849.59             893.572    782.416   2032.03  \n",
       "   85.5516   284.675    357.062        …    50.566     29.8585   369.656 \n",
       "  258.077    264.587    203.507            118.433    303.162    114.442 \n",
       "  322.493    399.126    250.17             333.773    473.913    174.446 \n",
       "    ⋮                                  ⋱                                 \n",
       "  371.823    361.35     469.861            282.682    329.6      440.596 \n",
       "  371.823    361.35     469.861            282.682    329.6      440.596 \n",
       "  667.477    444.253    383.381            551.955    580.559    395.996 \n",
       "  667.477    444.253    383.381            551.955    580.559    395.996 \n",
       "  351.144    281.248    192.214        …   274.145    229.499    113.795 \n",
       "  351.144    281.248    192.214            274.145    229.499    113.795 \n",
       "  242.947    197.688    140.514            245.904    254.263    160.886 \n",
       "  196.842    343.812    499.067            141.266    191.864    452.724 \n",
       "  836.25     618.474    481.192            576.139    832.42     534.522 \n",
       "  836.25     618.474    481.192        …   576.139    832.42     534.522 \n",
       "  120.94      88.6479     6.76777e-14      106.228    136.532     31.5905\n",
       "   84.4671   376.191    633.474             83.8715    74.3588   412.052 "
      ]
     },
     "execution_count": 2,
     "metadata": {},
     "output_type": "execute_result"
    }
   ],
   "source": [
    "numNodes = Compute_Jacobian_MA_journal.numNodes;\n",
    "numLinks = Compute_Jacobian_MA_journal.numLinks;\n",
    "numODpairs = Compute_Jacobian_MA_journal.numODpairs;\n",
    "numZones = Compute_Jacobian_MA_journal.numZones\n",
    "od_pairs = Compute_Jacobian_MA_journal.od_pairs;\n",
    "link_list_js = Compute_Jacobian_MA_journal.link_list_js;\n",
    "link_length_list = Compute_Jacobian_MA_journal.link_length_list;\n",
    "\n",
    "flow_observ = GLS_Apr_weekday_PM_journal.x_"
   ]
  },
  {
   "cell_type": "code",
   "execution_count": 3,
   "metadata": {
    "collapsed": false
   },
   "outputs": [
    {
     "name": "stderr",
     "output_type": "stream",
     "text": [
      "WARNING: readall is deprecated, use readstring instead.\n",
      " in depwarn(::String, ::Symbol) at ./deprecated.jl:64\n",
      " in readall(::String, ::Vararg{String,N}) at ./deprecated.jl:30\n",
      " in furInfo() at /home/jzh/Research/Traffic/InverseVIsTraffic/08_develop_new_OD_demand_estimator_MA_Dijkstra_uni_class_Apr_PM_journal/prepare_data_MA_journal.jl:183\n",
      " in include_from_node1(::String) at ./loading.jl:488\n",
      " in include_string(::String, ::String) at ./loading.jl:441\n",
      " in execute_request(::ZMQ.Socket, ::IJulia.Msg) at /home/jzh/.julia/v0.5/IJulia/src/execute_request.jl:169\n",
      " in eventloop(::ZMQ.Socket) at /home/jzh/.julia/v0.5/IJulia/src/eventloop.jl:8\n",
      " in (::IJulia.##9#15)() at ./task.jl:360\n",
      "while loading /home/jzh/Research/Traffic/InverseVIsTraffic/08_develop_new_OD_demand_estimator_MA_Dijkstra_uni_class_Apr_PM_journal/extract_data_MA_journal.jl, in expression starting on line 10\n",
      "WARNING: readall is deprecated, use readstring instead.\n",
      " in depwarn(::String, ::Symbol) at ./deprecated.jl:64\n",
      " in readall(::String, ::Vararg{String,N}) at ./deprecated.jl:30\n",
      " in furInfo() at /home/jzh/Research/Traffic/InverseVIsTraffic/08_develop_new_OD_demand_estimator_MA_Dijkstra_uni_class_Apr_PM_journal/prepare_data_MA_journal.jl:186\n",
      " in include_from_node1(::String) at ./loading.jl:488\n",
      " in include_string(::String, ::String) at ./loading.jl:441\n",
      " in execute_request(::ZMQ.Socket, ::IJulia.Msg) at /home/jzh/.julia/v0.5/IJulia/src/execute_request.jl:169\n",
      " in eventloop(::ZMQ.Socket) at /home/jzh/.julia/v0.5/IJulia/src/eventloop.jl:8\n",
      " in (::IJulia.##9#15)() at ./task.jl:360\n",
      "while loading /home/jzh/Research/Traffic/InverseVIsTraffic/08_develop_new_OD_demand_estimator_MA_Dijkstra_uni_class_Apr_PM_journal/extract_data_MA_journal.jl, in expression starting on line 10\n",
      "WARNING: readall is deprecated, use readstring instead.\n",
      " in depwarn(::String, ::Symbol) at ./deprecated.jl:64\n",
      " in readall(::String, ::Vararg{String,N}) at ./deprecated.jl:30\n",
      " in furInfo() at /home/jzh/Research/Traffic/InverseVIsTraffic/08_develop_new_OD_demand_estimator_MA_Dijkstra_uni_class_Apr_PM_journal/prepare_data_MA_journal.jl:189\n",
      " in include_from_node1(::String) at ./loading.jl:488\n",
      " in include_string(::String, ::String) at ./loading.jl:441\n",
      " in execute_request(::ZMQ.Socket, ::IJulia.Msg) at /home/jzh/.julia/v0.5/IJulia/src/execute_request.jl:169\n",
      " in eventloop(::ZMQ.Socket) at /home/jzh/.julia/v0.5/IJulia/src/eventloop.jl:8\n",
      " in (::IJulia.##9#15)() at ./task.jl:360\n",
      "while loading /home/jzh/Research/Traffic/InverseVIsTraffic/08_develop_new_OD_demand_estimator_MA_Dijkstra_uni_class_Apr_PM_journal/extract_data_MA_journal.jl, in expression starting on line 10\n",
      "WARNING: readall is deprecated, use readstring instead.\n",
      " in depwarn(::String, ::Symbol) at ./deprecated.jl:64\n",
      " in readall(::String, ::Vararg{String,N}) at ./deprecated.jl:30\n",
      " in include_from_node1(::String) at ./loading.jl:488\n",
      " in include_string(::String, ::String) at ./loading.jl:441\n",
      " in execute_request(::ZMQ.Socket, ::IJulia.Msg) at /home/jzh/.julia/v0.5/IJulia/src/execute_request.jl:169\n",
      " in eventloop(::ZMQ.Socket) at /home/jzh/.julia/v0.5/IJulia/src/eventloop.jl:8\n",
      " in (::IJulia.##9#15)() at ./task.jl:360\n",
      "while loading /home/jzh/Research/Traffic/InverseVIsTraffic/08_develop_new_OD_demand_estimator_MA_Dijkstra_uni_class_Apr_PM_journal/extract_data_MA_journal.jl, in expression starting on line 16\n",
      "WARNING: Method definition (::Type{Graphs.KeyVertex})(Int64, #K<:Any) in module Graphs at /home/jzh/.julia/v0.5/Graphs/src/common.jl:12 overwritten at /home/jzh/.julia/v0.5/Graphs/src/common.jl:16.\n",
      "WARNING: Method definition (::Type{Graphs.Edge})(Int64, #V<:Any, #V<:Any) in module Graphs at /home/jzh/.julia/v0.5/Graphs/src/common.jl:54 overwritten at /home/jzh/.julia/v0.5/Graphs/src/common.jl:60.\n",
      "WARNING: Method definition (::Type{Graphs.ExEdge})(Int64, #V<:Any, #V<:Any, Base.Dict{String, Any}) in module Graphs at /home/jzh/.julia/v0.5/Graphs/src/common.jl:72 overwritten at /home/jzh/.julia/v0.5/Graphs/src/common.jl:83.\n",
      "WARNING: Method definition (::Type{Graphs.TargetIterator})(#G<:Graphs.AbstractGraph, #EList<:Any) in module Graphs at /home/jzh/.julia/v0.5/Graphs/src/common.jl:123 overwritten at /home/jzh/.julia/v0.5/Graphs/src/common.jl:127.\n",
      "WARNING: Method definition (::Type{Graphs.SourceIterator})(#G<:Graphs.AbstractGraph, #EList<:Any) in module Graphs at /home/jzh/.julia/v0.5/Graphs/src/common.jl:141 overwritten at /home/jzh/.julia/v0.5/Graphs/src/common.jl:145.\n",
      "WARNING: Method definition edge_property_requirement(Graphs.AbstractEdgePropertyInspector{#T<:Any}, Graphs.AbstractGraph{#V<:Any, E<:Any}) in module Graphs at /home/jzh/.julia/v0.5/Graphs/src/common.jl:164 overwritten at /home/jzh/.julia/v0.5/Graphs/src/common.jl:179.\n",
      "WARNING: Method definition vertex_index(#V<:Union{Graphs.KeyVertex, Graphs.ExVertex}, Graphs.GenericGraph{#V<:Union{Graphs.KeyVertex, Graphs.ExVertex}, E<:Any, VList<:Any, EList<:Any, IncList<:Any}) in module Graphs at /home/jzh/.julia/v0.5/Graphs/src/graph.jl:65 overwritten at /home/jzh/.julia/v0.5/Graphs/src/graph.jl:67.\n",
      "WARNING: Method definition (::Type{Graphs.GDistanceVisitor})(#G<:Graphs.AbstractGraph, #DMap<:Any) in module Graphs at /home/jzh/.julia/v0.5/Graphs/src/breadth_first_visit.jl:107 overwritten at /home/jzh/.julia/v0.5/Graphs/src/breadth_first_visit.jl:111.\n"
     ]
    }
   ],
   "source": [
    "include(\"../Julia_files/initia_data.jl\");\n",
    "include(\"prepare_data_MA_journal.jl\");\n",
    "include(\"extract_data_MA_journal.jl\");\n",
    "include(\"../Julia_files/tap_MSA.jl\");"
   ]
  },
  {
   "cell_type": "code",
   "execution_count": 4,
   "metadata": {
    "collapsed": false
   },
   "outputs": [
    {
     "data": {
      "text/plain": [
       "9-element Array{Any,1}:\n",
       "  1.0       \n",
       " -0.00303133\n",
       "  0.0577207 \n",
       " -0.195677  \n",
       "  0.620789  \n",
       " -0.905919  \n",
       "  0.935921  \n",
       " -0.469131  \n",
       "  0.108528  "
      ]
     },
     "execution_count": 4,
     "metadata": {},
     "output_type": "execute_result"
    }
   ],
   "source": [
    "deg = 8\n",
    "c = 0.5\n",
    "lam = 10000.0\n",
    "\n",
    "coeffs_dict_Apr_PM_ = readstring(\"../temp_files/coeffs_dict_Apr_PM.json\")\n",
    "coeffs_dict_Apr_PM_ = JSON.parse(coeffs_dict_Apr_PM_)\n",
    "fcoeffs = coeffs_dict_Apr_PM_[\"($(deg),$(c),$(lam),1)\"]"
   ]
  },
  {
   "cell_type": "code",
   "execution_count": 5,
   "metadata": {
    "collapsed": false
   },
   "outputs": [
    {
     "data": {
      "text/plain": [
       "Dict{String,Any} with 5476 entries:\n",
       "  \"(62,58)\" => 13.9269\n",
       "  \"(57,56)\" => 0.00152636\n",
       "  \"(29,30)\" => 8.26326\n",
       "  \"(69,26)\" => 0.0\n",
       "  \"(37,58)\" => 0.0\n",
       "  \"(45,24)\" => 0.0\n",
       "  \"(41,72)\" => 4.66273\n",
       "  \"(50,33)\" => 0.0\n",
       "  \"(17,23)\" => 0.0987195\n",
       "  \"(11,7)\"  => 0.0\n",
       "  \"(67,15)\" => 0.0\n",
       "  \"(28,45)\" => 0.0\n",
       "  \"(55,28)\" => 0.0\n",
       "  \"(66,63)\" => 0.0\n",
       "  \"(48,58)\" => 0.0\n",
       "  \"(14,32)\" => 10.7954\n",
       "  \"(27,14)\" => 0.0688458\n",
       "  \"(59,35)\" => 13.7493\n",
       "  \"(50,72)\" => 0.0\n",
       "  \"(55,40)\" => 0.0\n",
       "  \"(44,28)\" => 0.0\n",
       "  \"(2,30)\"  => 0.0\n",
       "  \"(34,17)\" => 0.0\n",
       "  \"(68,22)\" => 5.15111\n",
       "  \"(59,38)\" => 0.0\n",
       "  ⋮         => ⋮"
      ]
     },
     "execution_count": 5,
     "metadata": {},
     "output_type": "execute_result"
    }
   ],
   "source": [
    "day = 2\n",
    "\n",
    "demandsDict = readstring(\"../08_develop_new_OD_demand_estimator_MA_Dijkstra_uni_class_Apr_PM_journal/results/demandsDictFixed$(day)_journal.json\");\n",
    "demandsDict = JSON.parse(demandsDict)"
   ]
  },
  {
   "cell_type": "code",
   "execution_count": 6,
   "metadata": {
    "collapsed": false
   },
   "outputs": [],
   "source": [
    "demandsDict_ = Dict()\n",
    "for key in keys(demandsDict)\n",
    "    key_ = (parse(Int, split(split(key, ',')[1], '(')[2]), parse(Int, split(split(key, ',')[2], ')')[1]))\n",
    "    demandsDict_[key_] = demandsDict[key]\n",
    "end"
   ]
  },
  {
   "cell_type": "code",
   "execution_count": 7,
   "metadata": {
    "collapsed": false
   },
   "outputs": [
    {
     "data": {
      "text/plain": [
       "Dict{Any,Any} with 5476 entries:\n",
       "  (59,54) => 32.361\n",
       "  (58,9)  => 0.0\n",
       "  (21,13) => 31.2095\n",
       "  (64,20) => 5.34183\n",
       "  (53,24) => 0.0\n",
       "  (65,20) => 5.34031\n",
       "  (56,55) => 0.0\n",
       "  (32,65) => 12.5782\n",
       "  (41,34) => 0.0\n",
       "  (62,58) => 13.9269\n",
       "  (16,73) => 0.0114563\n",
       "  (16,67) => 0.0\n",
       "  (57,62) => 20.9636\n",
       "  (57,74) => 0.0\n",
       "  (63,12) => 0.0\n",
       "  (24,31) => 0.0\n",
       "  (1,22)  => 31.7149\n",
       "  (6,41)  => 30.7671\n",
       "  (37,55) => 0.0\n",
       "  (61,48) => 0.0\n",
       "  (60,46) => 0.0\n",
       "  (19,26) => 0.0\n",
       "  (68,4)  => 0.0\n",
       "  (50,27) => 0.0\n",
       "  (36,25) => 0.0\n",
       "  ⋮       => ⋮"
      ]
     },
     "execution_count": 7,
     "metadata": {},
     "output_type": "execute_result"
    }
   ],
   "source": [
    "demandsDict_"
   ]
  },
  {
   "cell_type": "code",
   "execution_count": 8,
   "metadata": {
    "collapsed": true
   },
   "outputs": [],
   "source": [
    "tapFlowDicDict = Dict()\n",
    "tapFlowVecDict = Dict()\n",
    "tapFlowDicDict[day], tapFlowVecDict[day] = tapMSA(demandsDict_, fcoeffs);"
   ]
  },
  {
   "cell_type": "code",
   "execution_count": 9,
   "metadata": {
    "collapsed": false
   },
   "outputs": [
    {
     "data": {
      "text/plain": [
       "258-element Array{Float64,1}:\n",
       "  716.607     \n",
       "  405.89      \n",
       " 2148.33      \n",
       " 1531.49      \n",
       "    0.0       \n",
       "    0.0       \n",
       " 1830.86      \n",
       " 1981.31      \n",
       " 2261.46      \n",
       " 3727.38      \n",
       "    0.410871  \n",
       "    0.00619807\n",
       "    0.0       \n",
       "    ⋮         \n",
       "  288.512     \n",
       "  660.443     \n",
       "  660.513     \n",
       "  288.58      \n",
       " 3108.88      \n",
       " 1800.78      \n",
       "  813.404     \n",
       "  976.97      \n",
       " 3112.72      \n",
       " 1806.66      \n",
       " 1228.17      \n",
       " 1623.76      "
      ]
     },
     "execution_count": 9,
     "metadata": {},
     "output_type": "execute_result"
    }
   ],
   "source": [
    "tapFlowVecDict[day]"
   ]
  },
  {
   "cell_type": "code",
   "execution_count": 10,
   "metadata": {
    "collapsed": false
   },
   "outputs": [],
   "source": [
    "tapSocialFlowDicDict = Dict()\n",
    "tapSocialFlowVecDict = Dict()\n",
    "tapSocialFlowDicDict[day], tapSocialFlowVecDict[day] = tapMSASocial(demandsDict_, fcoeffs);"
   ]
  },
  {
   "cell_type": "code",
   "execution_count": 11,
   "metadata": {
    "collapsed": false
   },
   "outputs": [
    {
     "data": {
      "text/plain": [
       "258-element Array{Float64,1}:\n",
       "  716.607     \n",
       "  405.89      \n",
       " 2148.33      \n",
       " 1531.49      \n",
       "    0.0       \n",
       "    0.0       \n",
       " 1830.86      \n",
       " 1981.31      \n",
       " 2261.46      \n",
       " 3727.38      \n",
       "    0.410871  \n",
       "    0.00619807\n",
       "    0.0       \n",
       "    ⋮         \n",
       "  288.512     \n",
       "  660.443     \n",
       "  660.513     \n",
       "  288.58      \n",
       " 3108.88      \n",
       " 1800.78      \n",
       "  813.404     \n",
       "  976.97      \n",
       " 3112.72      \n",
       " 1806.66      \n",
       " 1228.17      \n",
       " 1623.76      "
      ]
     },
     "execution_count": 11,
     "metadata": {},
     "output_type": "execute_result"
    }
   ],
   "source": [
    "tapSocialFlowVecDict[day]"
   ]
  },
  {
   "cell_type": "code",
   "execution_count": 12,
   "metadata": {
    "collapsed": false
   },
   "outputs": [
    {
     "data": {
      "text/plain": [
       "258-element Array{Float64,1}:\n",
       "  806.378 \n",
       " 1047.31  \n",
       " 1580.96  \n",
       " 1358.68  \n",
       "  279.236 \n",
       "  260.583 \n",
       "   91.0833\n",
       "   91.0833\n",
       " 1661.69  \n",
       " 1922.71  \n",
       "  284.675 \n",
       "  264.587 \n",
       "  399.126 \n",
       "    ⋮     \n",
       "  361.35  \n",
       "  361.35  \n",
       "  444.253 \n",
       "  444.253 \n",
       "  281.248 \n",
       "  281.248 \n",
       "  197.688 \n",
       "  343.812 \n",
       "  618.474 \n",
       "  618.474 \n",
       "   88.6479\n",
       "  376.191 "
      ]
     },
     "execution_count": 12,
     "metadata": {},
     "output_type": "execute_result"
    }
   ],
   "source": [
    "flow_observ[:, day]"
   ]
  },
  {
   "cell_type": "code",
   "execution_count": 13,
   "metadata": {
    "collapsed": false
   },
   "outputs": [
    {
     "data": {
      "text/plain": [
       "socialObj (generic function with 1 method)"
      ]
     },
     "execution_count": 13,
     "metadata": {},
     "output_type": "execute_result"
    }
   ],
   "source": [
    "function socialObj(linkFlowVec)\n",
    "    objVal = sum([free_flow_time[a] * fcoeffs[1] * linkFlowVec[a] + \n",
    "        free_flow_time[a] * fcoeffs[2] * linkFlowVec[a]^2 / capacity[a] + \n",
    "        free_flow_time[a] * fcoeffs[3] * linkFlowVec[a]^3 / capacity[a]^2 + \n",
    "        free_flow_time[a] * fcoeffs[4] * linkFlowVec[a]^4 / capacity[a]^3 + \n",
    "        free_flow_time[a] * fcoeffs[5] * linkFlowVec[a]^5 / capacity[a]^4 + \n",
    "        free_flow_time[a] * fcoeffs[6] * linkFlowVec[a]^6 / capacity[a]^5 + \n",
    "        free_flow_time[a] * fcoeffs[7] * linkFlowVec[a]^7 / capacity[a]^6 + \n",
    "        free_flow_time[a] * fcoeffs[8] * linkFlowVec[a]^8 / capacity[a]^7 + \n",
    "        free_flow_time[a] * fcoeffs[9] * linkFlowVec[a]^9 / capacity[a]^8 for a = 1:numLinks])\n",
    "    return objVal\n",
    "end"
   ]
  },
  {
   "cell_type": "code",
   "execution_count": 14,
   "metadata": {
    "collapsed": false
   },
   "outputs": [
    {
     "data": {
      "text/plain": [
       "1.0"
      ]
     },
     "execution_count": 14,
     "metadata": {},
     "output_type": "execute_result"
    }
   ],
   "source": [
    "PoA_dict = Dict()\n",
    "\n",
    "PoA_dict[day] = socialObj(tapFlowVecDict[day]) / socialObj(tapSocialFlowVecDict[day])"
   ]
  },
  {
   "cell_type": "code",
   "execution_count": 15,
   "metadata": {
    "collapsed": false
   },
   "outputs": [
    {
     "data": {
      "text/plain": [
       "0.7423602957544482"
      ]
     },
     "execution_count": 15,
     "metadata": {},
     "output_type": "execute_result"
    }
   ],
   "source": [
    "PoA_dict = Dict()\n",
    "\n",
    "PoA_dict[day] = socialObj(flow_observ[:, day]) / socialObj(tapSocialFlowVecDict[day])"
   ]
  },
  {
   "cell_type": "code",
   "execution_count": null,
   "metadata": {
    "collapsed": true
   },
   "outputs": [],
   "source": []
  }
 ],
 "metadata": {
  "anaconda-cloud": {},
  "kernelspec": {
   "display_name": "Julia 0.5.0",
   "language": "julia",
   "name": "julia-0.5"
  },
  "language_info": {
   "file_extension": ".jl",
   "mimetype": "application/julia",
   "name": "julia",
   "version": "0.5.0"
  }
 },
 "nbformat": 4,
 "nbformat_minor": 0
}
