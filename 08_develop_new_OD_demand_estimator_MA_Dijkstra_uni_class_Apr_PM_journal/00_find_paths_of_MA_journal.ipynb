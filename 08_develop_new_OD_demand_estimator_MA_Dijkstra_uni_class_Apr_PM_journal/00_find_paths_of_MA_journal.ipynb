{
 "cells": [
  {
   "cell_type": "code",
   "execution_count": 1,
   "metadata": {
    "collapsed": false
   },
   "outputs": [
    {
     "name": "stdout",
     "output_type": "stream",
     "text": [
      "No dicts found; please check load_dicts...\n"
     ]
    }
   ],
   "source": [
    "%run ../Python_files/util.py"
   ]
  },
  {
   "cell_type": "code",
   "execution_count": 2,
   "metadata": {
    "collapsed": false
   },
   "outputs": [],
   "source": [
    "import json"
   ]
  },
  {
   "cell_type": "code",
   "execution_count": 3,
   "metadata": {
    "collapsed": false
   },
   "outputs": [],
   "source": [
    "with open('./benchmark_data/journal_net_Apr_PM.txt') as MA_journal_flow:\n",
    "    MA_journal_flow_lines = MA_journal_flow.readlines()\n",
    "MA_journal_links = []\n",
    "i = -9\n",
    "for line in MA_journal_flow_lines:\n",
    "    i += 1\n",
    "    if i > 0:\n",
    "        MA_journal_links.append(line.split('  ')[1:3])\n",
    "numLinks = i"
   ]
  },
  {
   "cell_type": "code",
   "execution_count": 4,
   "metadata": {
    "collapsed": false
   },
   "outputs": [
    {
     "data": {
      "text/plain": [
       "258"
      ]
     },
     "execution_count": 4,
     "metadata": {},
     "output_type": "execute_result"
    }
   ],
   "source": [
    "len(MA_journal_links)"
   ]
  },
  {
   "cell_type": "code",
   "execution_count": 5,
   "metadata": {
    "collapsed": false
   },
   "outputs": [],
   "source": [
    "link_list_js = [str(int(MA_journal_links[i][0])) + ',' + str(int(MA_journal_links[i][1])) for \\\n",
    "             i in range(len(MA_journal_links))]\n",
    "\n",
    "link_list_pk = [str(int(MA_journal_links[i][0])) + '->' + str(int(MA_journal_links[i][1])) for \\\n",
    "             i in range(len(MA_journal_links))]"
   ]
  },
  {
   "cell_type": "code",
   "execution_count": 6,
   "metadata": {
    "collapsed": false
   },
   "outputs": [],
   "source": [
    "zdump(link_list_js, '../temp_files/MA_journal_link_list_js.pkz')\n",
    "\n",
    "zdump(link_list_pk, '../temp_files/MA_journal_link_list_pk.pkz')"
   ]
  },
  {
   "cell_type": "code",
   "execution_count": 7,
   "metadata": {
    "collapsed": false
   },
   "outputs": [],
   "source": [
    "numNodes = max([int(MA_journal_links[i][1]) for i in range(numLinks)])"
   ]
  },
  {
   "cell_type": "code",
   "execution_count": 8,
   "metadata": {
    "collapsed": false
   },
   "outputs": [
    {
     "data": {
      "text/plain": [
       "74"
      ]
     },
     "execution_count": 8,
     "metadata": {},
     "output_type": "execute_result"
    }
   ],
   "source": [
    "numNodes"
   ]
  },
  {
   "cell_type": "code",
   "execution_count": 9,
   "metadata": {
    "collapsed": false
   },
   "outputs": [],
   "source": [
    "link_list_js;"
   ]
  },
  {
   "cell_type": "code",
   "execution_count": 10,
   "metadata": {
    "collapsed": false
   },
   "outputs": [],
   "source": [
    "from collections import defaultdict\n",
    "\n",
    "node_neighbors_dict = defaultdict(list)\n",
    "\n",
    "for node in range(numNodes):\n",
    "    for link in MA_journal_links:\n",
    "        if node == int(link[0]):\n",
    "            node_neighbors_dict[str(node)].append(int(link[1]))"
   ]
  },
  {
   "cell_type": "code",
   "execution_count": 11,
   "metadata": {
    "collapsed": false
   },
   "outputs": [
    {
     "data": {
      "text/plain": [
       "[5, 11, 18, 20]"
      ]
     },
     "execution_count": 11,
     "metadata": {},
     "output_type": "execute_result"
    }
   ],
   "source": [
    "node_neighbors_dict['10']"
   ]
  },
  {
   "cell_type": "code",
   "execution_count": 12,
   "metadata": {
    "collapsed": true
   },
   "outputs": [],
   "source": [
    "with open('./benchmark_data/journal_trips_Apr_PM.txt') as MA_journal_trips:\n",
    "    MA_journal_trips_lines = MA_journal_trips.readlines()"
   ]
  },
  {
   "cell_type": "code",
   "execution_count": 13,
   "metadata": {
    "collapsed": false
   },
   "outputs": [],
   "source": [
    "numZones = int(MA_journal_trips_lines[0].split(' ')[3])"
   ]
  },
  {
   "cell_type": "code",
   "execution_count": 14,
   "metadata": {
    "collapsed": false
   },
   "outputs": [
    {
     "data": {
      "text/plain": [
       "74"
      ]
     },
     "execution_count": 14,
     "metadata": {},
     "output_type": "execute_result"
    }
   ],
   "source": [
    "numZones"
   ]
  },
  {
   "cell_type": "code",
   "execution_count": 15,
   "metadata": {
    "collapsed": false
   },
   "outputs": [],
   "source": [
    "od_pairs = []\n",
    "for i in range(numZones+1)[1:]:\n",
    "    for j in range(numZones+1)[1:]:\n",
    "        if i != j:\n",
    "            od_pairs.append([i, j])"
   ]
  },
  {
   "cell_type": "code",
   "execution_count": 16,
   "metadata": {
    "collapsed": false
   },
   "outputs": [],
   "source": [
    "od_pairs;"
   ]
  },
  {
   "cell_type": "code",
   "execution_count": 17,
   "metadata": {
    "collapsed": true
   },
   "outputs": [],
   "source": [
    "# create O-D pair labels\n",
    "# create a dictionary mapping O-D pairs to labels\n",
    "\n",
    "import json\n",
    "\n",
    "OD_pair_label_dict = {}\n",
    "OD_pair_label_dict_ = {}\n",
    "\n",
    "label = 1\n",
    "for i in range(numZones + 1)[1:]:\n",
    "    for j in range(numZones + 1)[1:]:\n",
    "        key = (i, j)\n",
    "        OD_pair_label_dict[str(key)] = label\n",
    "        OD_pair_label_dict_[str(label)] = key\n",
    "        label += 1\n",
    "        \n",
    "with open('../temp_files/od_pair_label_dict_MA_journal.json', 'w') as json_file:\n",
    "    json.dump(OD_pair_label_dict, json_file)\n",
    "    \n",
    "with open('../temp_files/od_pair_label_dict__MA_journal.json', 'w') as json_file:\n",
    "    json.dump(OD_pair_label_dict_, json_file)\n",
    "\n",
    "\n",
    "OD_pair_label_dict_refined = {}\n",
    "OD_pair_label_dict_refined_ = {}\n",
    "\n",
    "label = 1\n",
    "for i in range(numZones + 1)[1:]:\n",
    "    for j in range(numZones + 1)[1:]:\n",
    "        if i != j:\n",
    "            key = (i, j)\n",
    "            OD_pair_label_dict_refined[str(key)] = label\n",
    "            OD_pair_label_dict_refined_[str(label)] = key\n",
    "            label += 1\n",
    "        \n",
    "with open('../temp_files/od_pair_label_dict_MA_journal_refined.json', 'w') as json_file:\n",
    "    json.dump(OD_pair_label_dict_refined, json_file)\n",
    "    \n",
    "with open('../temp_files/od_pair_label_dict__MA_journal_refined.json', 'w') as json_file:\n",
    "    json.dump(OD_pair_label_dict_refined_, json_file)\n",
    "    \n",
    "    \n",
    "# create link labels\n",
    "# create a dictionary mapping directed links to labels\n",
    "link_label_dict = {}\n",
    "link_label_dict_ = {}\n",
    "\n",
    "link_list = zload('../temp_files/MA_journal_link_list_js.pkz')\n",
    "\n",
    "for i in range(numLinks):\n",
    "    link_label_dict[str(i)] = link_list[i]\n",
    "\n",
    "for i in range(numLinks):\n",
    "    link_label_dict_[link_list[i]] = i\n",
    "\n",
    "with open('../temp_files/link_label_dict_MA_journal.json', 'w') as json_file:\n",
    "    json.dump(link_label_dict, json_file)\n",
    "    \n",
    "with open('../temp_files/link_label_dict_MA_journal_.json', 'w') as json_file:\n",
    "    json.dump(link_label_dict_, json_file)\n",
    "    \n",
    "# create link labels\n",
    "# create a dictionary mapping directed links to labels\n",
    "link_label_dict = {}\n",
    "link_label_dict_ = {}\n",
    "\n",
    "link_list = zload('../temp_files/MA_journal_link_list_pk.pkz')\n",
    "\n",
    "for i in range(numLinks):\n",
    "    link_label_dict[str(i)] = link_list[i]\n",
    "\n",
    "for i in range(numLinks):\n",
    "    link_label_dict_[link_list[i]] = i\n",
    "\n",
    "zdump(link_label_dict, '../temp_files/link_label_dict_MA_journal_network.pkz')\n",
    "zdump(link_label_dict_, '../temp_files/link_label_dict_MA_journal_network_.pkz')"
   ]
  },
  {
   "cell_type": "code",
   "execution_count": 18,
   "metadata": {
    "collapsed": false
   },
   "outputs": [],
   "source": [
    "link_label_dict_;"
   ]
  },
  {
   "cell_type": "code",
   "execution_count": 19,
   "metadata": {
    "collapsed": false
   },
   "outputs": [],
   "source": [
    "link_length_dict_MA_journal = {}  # save free-flow time actually\n",
    "link_capac_dict_MA_journal = {}\n",
    "\n",
    "length_list = []\n",
    "capac_list = []\n",
    "with open('./benchmark_data/journal_net_Apr_PM.txt', 'r') as f:\n",
    "    read_data = f.readlines()\n",
    "    flag = 0\n",
    "    for row in read_data:\n",
    "        if ';' in row:\n",
    "            flag += 1\n",
    "            if flag > 1:\n",
    "                length_list.append(float(row.split('  ')[5]))\n",
    "                capac_list.append(float(row.split('  ')[3]))\n",
    "                \n",
    "for idx in range(len(length_list)):\n",
    "    key = str(idx)\n",
    "    link_length_dict_MA_journal[key] = length_list[idx]\n",
    "    link_capac_dict_MA_journal[key] = capac_list[idx]\n",
    "\n",
    "with open('../temp_files/link_length_dict_MA_journal.json', 'w') as json_file:\n",
    "    json.dump(link_length_dict_MA_journal, json_file)\n",
    "    \n",
    "with open('../temp_files/link_capac_dict_MA_journal.json', 'w') as json_file:\n",
    "    json.dump(link_capac_dict_MA_journal, json_file)"
   ]
  },
  {
   "cell_type": "code",
   "execution_count": 20,
   "metadata": {
    "collapsed": false
   },
   "outputs": [],
   "source": [
    "link_length_dict_MA_journal;"
   ]
  },
  {
   "cell_type": "code",
   "execution_count": 21,
   "metadata": {
    "collapsed": false
   },
   "outputs": [],
   "source": [
    "link_label_dict = zload('../temp_files/link_label_dict_MA_journal_network.pkz')\n",
    "link_label_dict_ = zload('../temp_files/link_label_dict_MA_journal_network_.pkz')"
   ]
  },
  {
   "cell_type": "code",
   "execution_count": 22,
   "metadata": {
    "collapsed": false
   },
   "outputs": [
    {
     "data": {
      "text/plain": [
       "{'1->3': 0,\n",
       " '1->7': 2,\n",
       " '1->9': 4,\n",
       " '10->11': 38,\n",
       " '10->18': 40,\n",
       " '10->20': 42,\n",
       " '10->5': 17,\n",
       " '11->10': 39,\n",
       " '11->19': 44,\n",
       " '11->5': 19,\n",
       " '11->8': 31,\n",
       " '12->9': 35,\n",
       " '13->14': 46,\n",
       " '13->15': 48,\n",
       " '13->6': 23,\n",
       " '13->7': 29,\n",
       " '13->9': 37,\n",
       " '14->13': 47,\n",
       " '14->17': 50,\n",
       " '14->22': 52,\n",
       " '15->13': 49,\n",
       " '16->17': 54,\n",
       " '16->19': 56,\n",
       " '16->22': 58,\n",
       " '16->8': 33,\n",
       " '17->14': 51,\n",
       " '17->16': 55,\n",
       " '17->22': 60,\n",
       " '17->6': 25,\n",
       " '18->10': 41,\n",
       " '18->19': 62,\n",
       " '18->21': 64,\n",
       " '19->11': 45,\n",
       " '19->16': 57,\n",
       " '19->18': 63,\n",
       " '19->22': 66,\n",
       " '2->3': 6,\n",
       " '20->10': 43,\n",
       " '20->21': 68,\n",
       " '20->30': 70,\n",
       " '20->58': 72,\n",
       " '21->18': 65,\n",
       " '21->20': 69,\n",
       " '21->22': 74,\n",
       " '21->23': 76,\n",
       " '22->14': 53,\n",
       " '22->16': 59,\n",
       " '22->17': 61,\n",
       " '22->19': 67,\n",
       " '22->21': 75,\n",
       " '22->23': 78,\n",
       " '22->25': 80,\n",
       " '22->28': 82,\n",
       " '22->29': 84,\n",
       " '22->40': 86,\n",
       " '23->21': 77,\n",
       " '23->22': 79,\n",
       " '23->24': 88,\n",
       " '23->31': 90,\n",
       " '24->23': 89,\n",
       " '24->25': 92,\n",
       " '24->26': 94,\n",
       " '24->33': 96,\n",
       " '25->22': 81,\n",
       " '25->24': 93,\n",
       " '25->26': 98,\n",
       " '26->24': 95,\n",
       " '26->25': 99,\n",
       " '26->27': 100,\n",
       " '26->28': 102,\n",
       " '27->26': 101,\n",
       " '27->28': 104,\n",
       " '27->33': 106,\n",
       " '27->35': 108,\n",
       " '28->22': 83,\n",
       " '28->26': 103,\n",
       " '28->27': 105,\n",
       " '28->37': 110,\n",
       " '29->22': 85,\n",
       " '29->41': 112,\n",
       " '29->49': 114,\n",
       " '3->1': 1,\n",
       " '3->2': 7,\n",
       " '3->6': 8,\n",
       " '3->7': 10,\n",
       " '30->20': 71,\n",
       " '30->31': 116,\n",
       " '30->60': 118,\n",
       " '31->23': 91,\n",
       " '31->30': 117,\n",
       " '31->32': 120,\n",
       " '31->60': 122,\n",
       " '32->31': 121,\n",
       " '32->33': 124,\n",
       " '32->34': 126,\n",
       " '32->60': 128,\n",
       " '33->24': 97,\n",
       " '33->27': 107,\n",
       " '33->32': 125,\n",
       " '33->34': 130,\n",
       " '34->32': 127,\n",
       " '34->33': 131,\n",
       " '34->35': 132,\n",
       " '34->60': 134,\n",
       " '35->27': 109,\n",
       " '35->34': 133,\n",
       " '35->36': 136,\n",
       " '35->71': 138,\n",
       " '36->35': 137,\n",
       " '36->43': 140,\n",
       " '36->44': 142,\n",
       " '36->71': 144,\n",
       " '37->28': 111,\n",
       " '37->38': 146,\n",
       " '37->42': 148,\n",
       " '38->37': 147,\n",
       " '38->39': 150,\n",
       " '38->42': 152,\n",
       " '39->38': 151,\n",
       " '39->40': 154,\n",
       " '39->48': 156,\n",
       " '4->6': 12,\n",
       " '4->8': 14,\n",
       " '40->22': 87,\n",
       " '40->39': 155,\n",
       " '40->41': 158,\n",
       " '40->48': 160,\n",
       " '41->29': 113,\n",
       " '41->40': 159,\n",
       " '41->49': 162,\n",
       " '42->37': 149,\n",
       " '42->38': 153,\n",
       " '42->43': 164,\n",
       " '42->45': 166,\n",
       " '43->36': 141,\n",
       " '43->42': 165,\n",
       " '43->44': 168,\n",
       " '43->45': 170,\n",
       " '44->36': 143,\n",
       " '44->43': 169,\n",
       " '44->46': 172,\n",
       " '44->54': 174,\n",
       " '45->42': 167,\n",
       " '45->43': 171,\n",
       " '45->46': 176,\n",
       " '45->47': 178,\n",
       " '46->44': 173,\n",
       " '46->45': 177,\n",
       " '46->47': 180,\n",
       " '46->54': 182,\n",
       " '47->45': 179,\n",
       " '47->46': 181,\n",
       " '47->48': 184,\n",
       " '47->74': 186,\n",
       " '48->39': 157,\n",
       " '48->40': 161,\n",
       " '48->47': 185,\n",
       " '48->49': 188,\n",
       " '48->51': 190,\n",
       " '48->52': 192,\n",
       " '48->53': 194,\n",
       " '48->54': 196,\n",
       " '48->74': 198,\n",
       " '49->29': 115,\n",
       " '49->41': 163,\n",
       " '49->48': 189,\n",
       " '49->50': 200,\n",
       " '49->73': 202,\n",
       " '5->10': 16,\n",
       " '5->11': 18,\n",
       " '50->49': 201,\n",
       " '50->51': 204,\n",
       " '50->73': 206,\n",
       " '51->48': 191,\n",
       " '51->50': 205,\n",
       " '51->52': 208,\n",
       " '52->48': 193,\n",
       " '52->51': 209,\n",
       " '52->53': 210,\n",
       " '53->48': 195,\n",
       " '53->52': 211,\n",
       " '53->54': 212,\n",
       " '54->44': 175,\n",
       " '54->46': 183,\n",
       " '54->48': 197,\n",
       " '54->53': 213,\n",
       " '55->57': 214,\n",
       " '56->57': 216,\n",
       " '57->55': 215,\n",
       " '57->56': 217,\n",
       " '57->58': 218,\n",
       " '57->59': 220,\n",
       " '58->20': 73,\n",
       " '58->57': 219,\n",
       " '58->59': 222,\n",
       " '59->57': 221,\n",
       " '59->58': 223,\n",
       " '59->60': 224,\n",
       " '59->72': 226,\n",
       " '6->13': 22,\n",
       " '6->17': 24,\n",
       " '6->3': 9,\n",
       " '6->4': 13,\n",
       " '6->8': 20,\n",
       " '60->30': 119,\n",
       " '60->31': 123,\n",
       " '60->32': 129,\n",
       " '60->34': 135,\n",
       " '60->59': 225,\n",
       " '60->61': 228,\n",
       " '60->63': 230,\n",
       " '60->65': 232,\n",
       " '60->67': 234,\n",
       " '60->69': 236,\n",
       " '60->71': 238,\n",
       " '60->72': 240,\n",
       " '61->60': 229,\n",
       " '62->63': 242,\n",
       " '63->60': 231,\n",
       " '63->62': 243,\n",
       " '63->65': 244,\n",
       " '64->65': 246,\n",
       " '65->60': 233,\n",
       " '65->63': 245,\n",
       " '65->64': 247,\n",
       " '65->66': 248,\n",
       " '66->65': 249,\n",
       " '67->60': 235,\n",
       " '67->68': 250,\n",
       " '67->69': 252,\n",
       " '68->67': 251,\n",
       " '69->60': 237,\n",
       " '69->67': 253,\n",
       " '69->70': 254,\n",
       " '69->71': 256,\n",
       " '7->1': 3,\n",
       " '7->13': 28,\n",
       " '7->3': 11,\n",
       " '7->9': 26,\n",
       " '70->69': 255,\n",
       " '71->35': 139,\n",
       " '71->36': 145,\n",
       " '71->60': 239,\n",
       " '71->69': 257,\n",
       " '72->59': 227,\n",
       " '72->60': 241,\n",
       " '73->49': 203,\n",
       " '73->50': 207,\n",
       " '74->47': 187,\n",
       " '74->48': 199,\n",
       " '8->11': 30,\n",
       " '8->16': 32,\n",
       " '8->4': 15,\n",
       " '8->6': 21,\n",
       " '9->1': 5,\n",
       " '9->12': 34,\n",
       " '9->13': 36,\n",
       " '9->7': 27}"
      ]
     },
     "execution_count": 22,
     "metadata": {},
     "output_type": "execute_result"
    }
   ],
   "source": [
    "link_label_dict_"
   ]
  },
  {
   "cell_type": "code",
   "execution_count": 23,
   "metadata": {
    "collapsed": false
   },
   "outputs": [
    {
     "data": {
      "text/plain": [
       "0.238965"
      ]
     },
     "execution_count": 23,
     "metadata": {},
     "output_type": "execute_result"
    }
   ],
   "source": [
    "keyLink = str(link_label_dict_['1->3'])\n",
    "link_length_dict_MA_journal[keyLink]"
   ]
  },
  {
   "cell_type": "code",
   "execution_count": 24,
   "metadata": {
    "collapsed": true
   },
   "outputs": [],
   "source": [
    "# compute length of a route\n",
    "def routeLength(route):\n",
    "    link_list = []\n",
    "    node_list = []\n",
    "    for i in route.split('->'):\n",
    "        node_list.append(int(i))\n",
    "    for i in range(len(node_list))[:-1]:\n",
    "        link_list.append('%d->%d' %(node_list[i], node_list[i+1]))\n",
    "    length_of_route = sum([link_length_dict_MA_journal[str(link_label_dict_[link])] for link in link_list])\n",
    "    return length_of_route"
   ]
  },
  {
   "cell_type": "code",
   "execution_count": 25,
   "metadata": {
    "collapsed": false
   },
   "outputs": [
    {
     "data": {
      "text/plain": [
       "0.238965"
      ]
     },
     "execution_count": 25,
     "metadata": {},
     "output_type": "execute_result"
    }
   ],
   "source": [
    "routeLength('1->3')"
   ]
  },
  {
   "cell_type": "code",
   "execution_count": 26,
   "metadata": {
    "collapsed": false
   },
   "outputs": [],
   "source": [
    "node_neighbors_dict;"
   ]
  },
  {
   "cell_type": "code",
   "execution_count": 27,
   "metadata": {
    "collapsed": false
   },
   "outputs": [
    {
     "data": {
      "text/plain": [
       "258"
      ]
     },
     "execution_count": 27,
     "metadata": {},
     "output_type": "execute_result"
    }
   ],
   "source": [
    "len(length_list)"
   ]
  },
  {
   "cell_type": "code",
   "execution_count": 28,
   "metadata": {
    "collapsed": false
   },
   "outputs": [],
   "source": [
    "import networkx as nx\n",
    "\n",
    "MA_journal = nx.DiGraph()\n",
    "\n",
    "MA_journal.add_nodes_from(range(numNodes+1)[1:])\n",
    "\n",
    "MA_journal_weighted_edges = [(int(link_list_js[i].split(',')[0]), int(link_list_js[i].split(',')[1]), \\\n",
    "                           length_list[i]) for i in range(len(link_list_js))]\n",
    "\n",
    "MA_journal.add_weighted_edges_from(MA_journal_weighted_edges)\n",
    "\n",
    "path = nx.all_pairs_dijkstra_path(MA_journal)\n",
    "\n",
    "with open('../temp_files/path_link_incidence_MA_journal.txt', 'w') as the_file:\n",
    "    for od in od_pairs:\n",
    "        origi = od[0]\n",
    "        desti = od[1]\n",
    "        the_file.write('O-D pair (%s, %s):\\n'%(origi, desti))\n",
    "        route = str(path[origi][desti]).replace(\"[\", \"\").replace(\", \", \"->\").replace(\"]\", \"\")\n",
    "        the_file.write(route)\n",
    "        the_file.write('\\n')"
   ]
  },
  {
   "cell_type": "code",
   "execution_count": 29,
   "metadata": {
    "collapsed": false
   },
   "outputs": [],
   "source": [
    "link_list_js;"
   ]
  },
  {
   "cell_type": "code",
   "execution_count": 30,
   "metadata": {
    "collapsed": true
   },
   "outputs": [],
   "source": [
    "with open('../temp_files/path_link_incidence_MA_journal.txt', 'r') as the_file:\n",
    "    # path counts\n",
    "    i = 0  \n",
    "    for row in the_file:\n",
    "        if '->' in row:\n",
    "            i = i + 1\n",
    "\n",
    "with open('../temp_files/numRoutes_MA_journal.json', 'w') as json_file:\n",
    "    json.dump(i, json_file)"
   ]
  },
  {
   "cell_type": "code",
   "execution_count": 31,
   "metadata": {
    "collapsed": false
   },
   "outputs": [
    {
     "data": {
      "text/plain": [
       "5402"
      ]
     },
     "execution_count": 31,
     "metadata": {},
     "output_type": "execute_result"
    }
   ],
   "source": [
    "i"
   ]
  },
  {
   "cell_type": "code",
   "execution_count": null,
   "metadata": {
    "collapsed": true
   },
   "outputs": [],
   "source": []
  }
 ],
 "metadata": {
  "anaconda-cloud": {},
  "kernelspec": {
   "display_name": "Python [conda root]",
   "language": "python",
   "name": "conda-root-py"
  },
  "language_info": {
   "codemirror_mode": {
    "name": "ipython",
    "version": 2
   },
   "file_extension": ".py",
   "mimetype": "text/x-python",
   "name": "python",
   "nbconvert_exporter": "python",
   "pygments_lexer": "ipython2",
   "version": "2.7.12"
  }
 },
 "nbformat": 4,
 "nbformat_minor": 0
}
