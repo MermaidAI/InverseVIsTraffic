{
 "cells": [
  {
   "cell_type": "code",
   "execution_count": 1,
   "metadata": {
    "collapsed": false
   },
   "outputs": [
    {
     "name": "stderr",
     "output_type": "stream",
     "text": [
      "WARNING: the no-op `transpose` fallback is deprecated, and no more specific `transpose` method for Ptr{PyCall.PyObject_struct} exists. Consider `permutedims(x, [2, 1])` or writing a specific `transpose(x::Ptr{PyCall.PyObject_struct})` method if appropriate.\n",
      " in depwarn(::String, ::Symbol) at ./deprecated.jl:64\n",
      " in transpose(::Ptr{PyCall.PyObject_struct}) at ./deprecated.jl:770\n",
      " in transpose_f!(::Base.#transpose, ::Array{Ptr{PyCall.PyObject_struct},2}, ::Array{Ptr{PyCall.PyObject_struct},2}) at ./arraymath.jl:369\n",
      " in transpose(::Array{Ptr{PyCall.PyObject_struct},2}) at ./arraymath.jl:407\n",
      " in copy(::PyCall.PyArray{Ptr{PyCall.PyObject_struct},2}) at /home/jzh/.julia/v0.5/PyCall/src/numpy.jl:337\n",
      " in convert(::Type{Array{Ptr{PyCall.PyObject_struct},N}}, ::PyCall.PyObject) at /home/jzh/.julia/v0.5/PyCall/src/numpy.jl:453\n",
      " in convert(::Type{Array{PyCall.PyObject,N}}, ::PyCall.PyObject) at /home/jzh/.julia/v0.5/PyCall/src/numpy.jl:484\n",
      " in convert(::Type{PyCall.PyAny}, ::PyCall.PyObject) at /home/jzh/.julia/v0.5/PyCall/src/conversions.jl:806\n",
      " in #55 at ./<missing>:0 [inlined]\n",
      " in next at ./generator.jl:26 [inlined]\n",
      " in collect_to!(::Array{Expr,1}, ::Base.Generator{Array{Tuple{AbstractString,PyCall.PyObject},1},PyCall.##55#59}, ::Int64, ::Int64) at ./array.jl:340\n",
      " in collect(::Base.Generator{Array{Tuple{AbstractString,PyCall.PyObject},1},PyCall.##55#59}) at ./array.jl:308\n",
      " in pywrap(::PyCall.PyObject, ::Symbol) at /home/jzh/.julia/v0.5/PyCall/src/PyCall.jl:314\n",
      " in pywrap(::PyCall.PyObject) at /home/jzh/.julia/v0.5/PyCall/src/PyCall.jl:310\n",
      " in include_string(::String, ::String) at ./loading.jl:441\n",
      " in execute_request(::ZMQ.Socket, ::IJulia.Msg) at /home/jzh/.julia/v0.5/IJulia/src/execute_request.jl:169\n",
      " in eventloop(::ZMQ.Socket) at /home/jzh/.julia/v0.5/IJulia/src/eventloop.jl:8\n",
      " in (::IJulia.##9#15)() at ./task.jl:360\n",
      "while loading In[1], in expression starting on line 427\n"
     ]
    }
   ],
   "source": [
    "using PyCall\n",
    "unshift!(PyVector(pyimport(\"sys\")[\"path\"]), \"\");\n",
    "@pyimport Compute_Jacobian_MA_journal\n",
    "@pyimport GLS_Apr_weekday_PM_journal"
   ]
  },
  {
   "cell_type": "code",
   "execution_count": 2,
   "metadata": {
    "collapsed": false
   },
   "outputs": [
    {
     "data": {
      "text/plain": [
       "258×30 Array{Float64,2}:\n",
       " 1393.18     806.378    762.959        …  1122.05    1513.32     356.411 \n",
       " 1245.77    1047.31    1023.88            1058.72    1286.13     737.719 \n",
       " 2175.98    1580.96    1289.54            1310.68    1660.56    1011.89  \n",
       " 2206.51    1358.68    1100.85            1375.95    2022.21     856.967 \n",
       "   27.0447   279.236    279.358            114.702    182.177    319.842 \n",
       "  143.919    260.583    207.122        …   112.767     47.7074    93.4537\n",
       "  128.953     91.0833    77.1364           105.58     127.956     72.177 \n",
       "  128.953     91.0833    77.1364           105.58     127.956     72.177 \n",
       " 1381.89    1661.69    1435.11            1024.77    1282.9     1395.51  \n",
       " 1061.96    1922.71    1849.59             893.572    782.416   2032.03  \n",
       "   85.5516   284.675    357.062        …    50.566     29.8585   369.656 \n",
       "  258.077    264.587    203.507            118.433    303.162    114.442 \n",
       "  322.493    399.126    250.17             333.773    473.913    174.446 \n",
       "    ⋮                                  ⋱                                 \n",
       "  371.823    361.35     469.861            282.682    329.6      440.596 \n",
       "  371.823    361.35     469.861            282.682    329.6      440.596 \n",
       "  667.477    444.253    383.381            551.955    580.559    395.996 \n",
       "  667.477    444.253    383.381            551.955    580.559    395.996 \n",
       "  351.144    281.248    192.214        …   274.145    229.499    113.795 \n",
       "  351.144    281.248    192.214            274.145    229.499    113.795 \n",
       "  242.947    197.688    140.514            245.904    254.263    160.886 \n",
       "  196.842    343.812    499.067            141.266    191.864    452.724 \n",
       "  836.25     618.474    481.192            576.139    832.42     534.522 \n",
       "  836.25     618.474    481.192        …   576.139    832.42     534.522 \n",
       "  120.94      88.6479     6.76777e-14      106.228    136.532     31.5905\n",
       "   84.4671   376.191    633.474             83.8715    74.3588   412.052 "
      ]
     },
     "execution_count": 2,
     "metadata": {},
     "output_type": "execute_result"
    }
   ],
   "source": [
    "numNodes = Compute_Jacobian_MA_journal.numNodes;\n",
    "numLinks = Compute_Jacobian_MA_journal.numLinks;\n",
    "numODpairs = Compute_Jacobian_MA_journal.numODpairs;\n",
    "numZones = Compute_Jacobian_MA_journal.numZones\n",
    "od_pairs = Compute_Jacobian_MA_journal.od_pairs;\n",
    "link_list_js = Compute_Jacobian_MA_journal.link_list_js;\n",
    "link_length_list = Compute_Jacobian_MA_journal.link_length_list;\n",
    "\n",
    "flow_observ = GLS_Apr_weekday_PM_journal.x_"
   ]
  },
  {
   "cell_type": "code",
   "execution_count": 3,
   "metadata": {
    "collapsed": false
   },
   "outputs": [
    {
     "name": "stderr",
     "output_type": "stream",
     "text": [
      "WARNING: readall is deprecated, use readstring instead.\n",
      " in depwarn(::String, ::Symbol) at ./deprecated.jl:64\n",
      " in readall(::String, ::Vararg{String,N}) at ./deprecated.jl:30\n",
      " in furInfo() at /home/jzh/Research/Traffic/InverseVIsTraffic/08_develop_new_OD_demand_estimator_MA_Dijkstra_uni_class_Apr_PM_journal/prepare_data_MA_journal.jl:183\n",
      " in include_from_node1(::String) at ./loading.jl:488\n",
      " in include_string(::String, ::String) at ./loading.jl:441\n",
      " in execute_request(::ZMQ.Socket, ::IJulia.Msg) at /home/jzh/.julia/v0.5/IJulia/src/execute_request.jl:169\n",
      " in eventloop(::ZMQ.Socket) at /home/jzh/.julia/v0.5/IJulia/src/eventloop.jl:8\n",
      " in (::IJulia.##9#15)() at ./task.jl:360\n",
      "while loading /home/jzh/Research/Traffic/InverseVIsTraffic/08_develop_new_OD_demand_estimator_MA_Dijkstra_uni_class_Apr_PM_journal/extract_data_MA_journal.jl, in expression starting on line 10\n",
      "WARNING: readall is deprecated, use readstring instead.\n",
      " in depwarn(::String, ::Symbol) at ./deprecated.jl:64\n",
      " in readall(::String, ::Vararg{String,N}) at ./deprecated.jl:30\n",
      " in furInfo() at /home/jzh/Research/Traffic/InverseVIsTraffic/08_develop_new_OD_demand_estimator_MA_Dijkstra_uni_class_Apr_PM_journal/prepare_data_MA_journal.jl:186\n",
      " in include_from_node1(::String) at ./loading.jl:488\n",
      " in include_string(::String, ::String) at ./loading.jl:441\n",
      " in execute_request(::ZMQ.Socket, ::IJulia.Msg) at /home/jzh/.julia/v0.5/IJulia/src/execute_request.jl:169\n",
      " in eventloop(::ZMQ.Socket) at /home/jzh/.julia/v0.5/IJulia/src/eventloop.jl:8\n",
      " in (::IJulia.##9#15)() at ./task.jl:360\n",
      "while loading /home/jzh/Research/Traffic/InverseVIsTraffic/08_develop_new_OD_demand_estimator_MA_Dijkstra_uni_class_Apr_PM_journal/extract_data_MA_journal.jl, in expression starting on line 10\n",
      "WARNING: readall is deprecated, use readstring instead.\n",
      " in depwarn(::String, ::Symbol) at ./deprecated.jl:64\n",
      " in readall(::String, ::Vararg{String,N}) at ./deprecated.jl:30\n",
      " in furInfo() at /home/jzh/Research/Traffic/InverseVIsTraffic/08_develop_new_OD_demand_estimator_MA_Dijkstra_uni_class_Apr_PM_journal/prepare_data_MA_journal.jl:189\n",
      " in include_from_node1(::String) at ./loading.jl:488\n",
      " in include_string(::String, ::String) at ./loading.jl:441\n",
      " in execute_request(::ZMQ.Socket, ::IJulia.Msg) at /home/jzh/.julia/v0.5/IJulia/src/execute_request.jl:169\n",
      " in eventloop(::ZMQ.Socket) at /home/jzh/.julia/v0.5/IJulia/src/eventloop.jl:8\n",
      " in (::IJulia.##9#15)() at ./task.jl:360\n",
      "while loading /home/jzh/Research/Traffic/InverseVIsTraffic/08_develop_new_OD_demand_estimator_MA_Dijkstra_uni_class_Apr_PM_journal/extract_data_MA_journal.jl, in expression starting on line 10\n",
      "WARNING: readall is deprecated, use readstring instead.\n",
      " in depwarn(::String, ::Symbol) at ./deprecated.jl:64\n",
      " in readall(::String, ::Vararg{String,N}) at ./deprecated.jl:30\n",
      " in include_from_node1(::String) at ./loading.jl:488\n",
      " in include_string(::String, ::String) at ./loading.jl:441\n",
      " in execute_request(::ZMQ.Socket, ::IJulia.Msg) at /home/jzh/.julia/v0.5/IJulia/src/execute_request.jl:169\n",
      " in eventloop(::ZMQ.Socket) at /home/jzh/.julia/v0.5/IJulia/src/eventloop.jl:8\n",
      " in (::IJulia.##9#15)() at ./task.jl:360\n",
      "while loading /home/jzh/Research/Traffic/InverseVIsTraffic/08_develop_new_OD_demand_estimator_MA_Dijkstra_uni_class_Apr_PM_journal/extract_data_MA_journal.jl, in expression starting on line 16\n",
      "WARNING: Method definition (::Type{Graphs.KeyVertex})(Int64, #K<:Any) in module Graphs at /home/jzh/.julia/v0.5/Graphs/src/common.jl:12 overwritten at /home/jzh/.julia/v0.5/Graphs/src/common.jl:16.\n",
      "WARNING: Method definition (::Type{Graphs.Edge})(Int64, #V<:Any, #V<:Any) in module Graphs at /home/jzh/.julia/v0.5/Graphs/src/common.jl:54 overwritten at /home/jzh/.julia/v0.5/Graphs/src/common.jl:60.\n",
      "WARNING: Method definition (::Type{Graphs.ExEdge})(Int64, #V<:Any, #V<:Any, Base.Dict{String, Any}) in module Graphs at /home/jzh/.julia/v0.5/Graphs/src/common.jl:72 overwritten at /home/jzh/.julia/v0.5/Graphs/src/common.jl:83.\n",
      "WARNING: Method definition (::Type{Graphs.TargetIterator})(#G<:Graphs.AbstractGraph, #EList<:Any) in module Graphs at /home/jzh/.julia/v0.5/Graphs/src/common.jl:123 overwritten at /home/jzh/.julia/v0.5/Graphs/src/common.jl:127.\n",
      "WARNING: Method definition (::Type{Graphs.SourceIterator})(#G<:Graphs.AbstractGraph, #EList<:Any) in module Graphs at /home/jzh/.julia/v0.5/Graphs/src/common.jl:141 overwritten at /home/jzh/.julia/v0.5/Graphs/src/common.jl:145.\n",
      "WARNING: Method definition edge_property_requirement(Graphs.AbstractEdgePropertyInspector{#T<:Any}, Graphs.AbstractGraph{#V<:Any, E<:Any}) in module Graphs at /home/jzh/.julia/v0.5/Graphs/src/common.jl:164 overwritten at /home/jzh/.julia/v0.5/Graphs/src/common.jl:179.\n",
      "WARNING: Method definition vertex_index(#V<:Union{Graphs.KeyVertex, Graphs.ExVertex}, Graphs.GenericGraph{#V<:Union{Graphs.KeyVertex, Graphs.ExVertex}, E<:Any, VList<:Any, EList<:Any, IncList<:Any}) in module Graphs at /home/jzh/.julia/v0.5/Graphs/src/graph.jl:65 overwritten at /home/jzh/.julia/v0.5/Graphs/src/graph.jl:67.\n",
      "WARNING: Method definition (::Type{Graphs.GDistanceVisitor})(#G<:Graphs.AbstractGraph, #DMap<:Any) in module Graphs at /home/jzh/.julia/v0.5/Graphs/src/breadth_first_visit.jl:107 overwritten at /home/jzh/.julia/v0.5/Graphs/src/breadth_first_visit.jl:111.\n"
     ]
    }
   ],
   "source": [
    "include(\"../Julia_files/initia_data.jl\");\n",
    "include(\"prepare_data_MA_journal.jl\");\n",
    "include(\"extract_data_MA_journal.jl\");\n",
    "include(\"../Julia_files/tap_MSA.jl\");\n",
    "include(\"../Julia_files/inverseVI.jl\");\n",
    "include(\"../Julia_files/demands_adjustment_gradi.jl\");"
   ]
  },
  {
   "cell_type": "code",
   "execution_count": 4,
   "metadata": {
    "collapsed": true
   },
   "outputs": [],
   "source": [
    "# demandsDict_ = readall(\"../08_develop_new_OD_demand_estimator_MA_Dijkstra_uni_class_Apr_PM_journal/results/demandsDict.json\");\n",
    "# demandsDict_ = JSON.parse(demandsDict_);"
   ]
  },
  {
   "cell_type": "code",
   "execution_count": 5,
   "metadata": {
    "collapsed": true
   },
   "outputs": [],
   "source": [
    "# demandsDict_"
   ]
  },
  {
   "cell_type": "code",
   "execution_count": 6,
   "metadata": {
    "collapsed": true
   },
   "outputs": [],
   "source": [
    "# demandsDict__ = demandsDict_[\"24\"]\n",
    "\n",
    "# _demandsDict__ = Dict()\n",
    "\n",
    "# for key_ in keys(demandsDict__)\n",
    "#     key = (int(split(split(key_, \",\")[1], \"(\")[2]),int(split(split(key_, \",\")[2], \")\")[1]))\n",
    "#     _demandsDict__[key] = demandsDict__[key_]\n",
    "# end"
   ]
  },
  {
   "cell_type": "code",
   "execution_count": 7,
   "metadata": {
    "collapsed": true
   },
   "outputs": [],
   "source": [
    "# _demandsDict__"
   ]
  },
  {
   "cell_type": "code",
   "execution_count": 8,
   "metadata": {
    "collapsed": false
   },
   "outputs": [],
   "source": [
    "# demandsDict[0] = _demandsDict__;\n",
    "# demandsDict[1] = _demandsDict__;"
   ]
  },
  {
   "cell_type": "code",
   "execution_count": 9,
   "metadata": {
    "collapsed": false
   },
   "outputs": [
    {
     "data": {
      "text/plain": [
       "true"
      ]
     },
     "execution_count": 9,
     "metadata": {},
     "output_type": "execute_result"
    }
   ],
   "source": [
    "demandsDict[0] == demandsDict[1]"
   ]
  },
  {
   "cell_type": "code",
   "execution_count": 10,
   "metadata": {
    "collapsed": false
   },
   "outputs": [],
   "source": [
    "demandsDiffDict[1] = norm(demandsDicToVec(demandsDict[1]) - demandsDicToVec(demandsDict[0]))/\n",
    "                     norm(demandsDicToVec(demandsDict[0]));"
   ]
  },
  {
   "cell_type": "code",
   "execution_count": 11,
   "metadata": {
    "collapsed": false
   },
   "outputs": [
    {
     "data": {
      "text/plain": [
       "0.0"
      ]
     },
     "execution_count": 11,
     "metadata": {},
     "output_type": "execute_result"
    }
   ],
   "source": [
    "demandsDiffDict[1]"
   ]
  },
  {
   "cell_type": "code",
   "execution_count": 12,
   "metadata": {
    "collapsed": false
   },
   "outputs": [
    {
     "data": {
      "text/plain": [
       "demandsDictFixed (generic function with 1 method)"
      ]
     },
     "execution_count": 12,
     "metadata": {},
     "output_type": "execute_result"
    }
   ],
   "source": [
    "function demandsDictFixed(day)\n",
    "#     day = 4  # day of April\n",
    "\n",
    "    # observed flow vector\n",
    "    xl = flow_observ[:, day]\n",
    "\n",
    "    tapFlows = Dict{}()\n",
    "\n",
    "    for i = 1:length(ta_data.start_node)\n",
    "        key = (ta_data.start_node[i], ta_data.end_node[i])\n",
    "        tapFlows[key] = xl[i]\n",
    "    end\n",
    "\n",
    "    tapFlowVect = xl;\n",
    "\n",
    "    # get observed flow vector (corresponding to ground truth demands and ground truth costs)\n",
    "    tapFlowDicDict[0], tapFlowVecDict[0] = tapFlows, tapFlowVect;\n",
    "\n",
    "    # get arcs data corresponding to ground truth demands and flows\n",
    "    arcsDict[0] = observFlow(\"./benchmark_data/journal_net_Apr_PM.txt\", tapFlowDicDict[0]);\n",
    "\n",
    "    arcsDict[0]\n",
    "\n",
    "    deg = 8\n",
    "    c = 0.5\n",
    "    lam = 10000.0\n",
    "\n",
    "    coeffs_dict_Apr_PM_ = readall(\"../temp_files/coeffs_dict_Apr_PM.json\")\n",
    "    coeffs_dict_Apr_PM_ = JSON.parse(coeffs_dict_Apr_PM_)\n",
    "    fcoeffs = coeffs_dict_Apr_PM_[\"($(deg),$(c),$(lam),1)\"]\n",
    "\n",
    "    # fcoeffs = [1, 0, 0, .15]\n",
    "\n",
    "    demandsVecDict[1] = demandsDicToVec(demandsDict[1]);\n",
    "    objFunDict[1] = objF(demandsVecDict[1], fcoeffs);\n",
    "\n",
    "    # get initial flow vector (corresponding to initial demands)\n",
    "    tapFlowDicDict[1], tapFlowVecDict[1] = tapMSA(demandsDict[1], fcoeffs);\n",
    "\n",
    "    demandsVecDict[0] = demandsDicToVec(demandsDict[0]);\n",
    "\n",
    "    # get arcs data corresponding to initial demands and flows\n",
    "    arcsDict[1] = observFlow(\"./benchmark_data/journal_net_Apr_PM.txt\", tapFlowDicDict[1]);\n",
    "\n",
    "    linkCostDicDict[1] = tapFlowVecToLinkCostDict(tapFlowVecDict[1], fcoeffs);\n",
    "\n",
    "    linkCostDicDict[1][\"0\"], link_length_list[1]\n",
    "\n",
    "    jacobiSpiessDict[1] = Compute_Jacobian_MA_journal.jacobianSpiess(numNodes, numLinks, numODpairs, od_pairs, \n",
    "                                                  link_list_js, [linkCostDicDict[1][\"$(i)\"] for i=0:numLinks-1]);\n",
    "\n",
    "    # maximum number of iterations\n",
    "    N = 100;  \n",
    "\n",
    "    # Armijo rule parameters\n",
    "    rho = 2;\n",
    "    M = 10;\n",
    "\n",
    "    # search direction parameter\n",
    "    epsilon_1 = 0;\n",
    "\n",
    "    # stop criterion parameter\n",
    "    epsilon_2 = 1e-20;\n",
    "\n",
    "    for l = 1:N\n",
    "\n",
    "        jacobDict[l] = jacobiSpiessDict[l]\n",
    "\n",
    "        descDirecDict[l] = descDirec(tapFlowVecDict[l], tapFlowVecDict[0], jacobDict[l], numODpairs, numLinks);\n",
    "\n",
    "        demandsVecDict[l] = demandsDicToVec(demandsDict[l]);\n",
    "\n",
    "        searchDirecDict[l] = searchDirec(demandsVecDict[l], descDirecDict[l], epsilon_1);\n",
    "\n",
    "        thetaMaxDict[l] = thetaMax(demandsVecDict[l], searchDirecDict[l]);\n",
    "\n",
    "        demandsVecDict[l+1] = similar(demandsVecDict[0]);\n",
    "\n",
    "        demandsVecDict[l+1], objFunDict[l+1] = armijo(objFunDict[l], demandsVecDict[l], fcoeffs, searchDirecDict[l], \n",
    "        thetaMaxDict[l], rho, M);\n",
    "\n",
    "        demandsDict[l+1] = demandsVecToDic(demandsVecDict[l+1]);\n",
    "\n",
    "        tapFlowDicDict[l+1], tapFlowVecDict[l+1] = tapMSA(demandsDict[l+1], fcoeffs);\n",
    "\n",
    "        arcsDict[l+1] = observFlow(\"./benchmark_data/journal_net_Apr_PM.txt\", tapFlowDicDict[l+1]);\n",
    "\n",
    "        linkCostDicDict[l+1] = tapFlowVecToLinkCostDict(tapFlowVecDict[l+1], fcoeffs);\n",
    "\n",
    "        jacobiSpiessDict[l+1] = Compute_Jacobian_MA_journal.jacobianSpiess(numNodes, numLinks, numODpairs, od_pairs, \n",
    "                                                  link_list_js, [linkCostDicDict[l+1][\"$(i)\"] for i=0:numLinks-1]);\n",
    "\n",
    "        demandsDiffDict[l+1] = norm(demandsVecDict[l+1] - demandsVecDict[0]) / norm(demandsVecDict[0]);\n",
    "\n",
    "        # stopping criterion\n",
    "        if (objFunDict[l] - objFunDict[l+1]) / objFunDict[1] < epsilon_2\n",
    "            break\n",
    "        end\n",
    "        \n",
    "        println(\"iteration $(l) finished...\")\n",
    "\n",
    "    end\n",
    "\n",
    "    # normalize objective function value\n",
    "    for l = 1:(length(objFunDict))\n",
    "        norObjFunDict[l] = objFunDict[l] / objFunDict[1];\n",
    "    end\n",
    "\n",
    "\n",
    "    outfile = open(\"./results/demandsVecDict$(day)_journal.json\", \"w\")\n",
    "\n",
    "    JSON.print(outfile, demandsVecDict)\n",
    "\n",
    "    close(outfile)\n",
    "\n",
    "    outfile = open(\"./results/demandsDict$(day)_journal.json\", \"w\")\n",
    "\n",
    "    JSON.print(outfile, demandsDict)\n",
    "\n",
    "    close(outfile)\n",
    "\n",
    "    outfile = open(\"./results/tapFlowDicDict$(day)_journal.json\", \"w\")\n",
    "\n",
    "    JSON.print(outfile, tapFlowDicDict)\n",
    "\n",
    "    close(outfile)\n",
    "\n",
    "    outfile = open(\"./results/tapFlowVecDict$(day)_journal.json\", \"w\")\n",
    "\n",
    "    JSON.print(outfile, tapFlowVecDict)\n",
    "\n",
    "    close(outfile)\n",
    "\n",
    "    demandsDict[length(demandsDict)-1]\n",
    "\n",
    "    demandsDict_ = Dict{}()\n",
    "\n",
    "    for key in keys(demandsDict[length(demandsDict)-1])\n",
    "        demandsDict_[key] = demandsDict[length(demandsDict)-1][key] \n",
    "    end\n",
    "\n",
    "    outfile = open(\"./results/demandsDictFixed$(day)_journal.json\", \"w\")\n",
    "\n",
    "    JSON.print(outfile, demandsDict_)\n",
    "\n",
    "    close(outfile)\n",
    "end"
   ]
  },
  {
   "cell_type": "code",
   "execution_count": 13,
   "metadata": {
    "collapsed": false
   },
   "outputs": [
    {
     "name": "stderr",
     "output_type": "stream",
     "text": [
      "WARNING: readall is deprecated, use readstring instead.\n",
      " in depwarn(::String, ::Symbol) at ./deprecated.jl:64\n",
      " in readall(::String, ::Vararg{String,N}) at ./deprecated.jl:30\n",
      " in demandsDictFixed(::Int64) at ./In[12]:28\n",
      " in macro expansion; at ./In[13]:5 [inlined]\n",
      " in anonymous at ./<missing>:?\n",
      " in include_string(::String, ::String) at ./loading.jl:441\n",
      " in execute_request(::ZMQ.Socket, ::IJulia.Msg) at /home/jzh/.julia/v0.5/IJulia/src/execute_request.jl:169\n",
      " in eventloop(::ZMQ.Socket) at /home/jzh/.julia/v0.5/IJulia/src/eventloop.jl:8\n",
      " in (::IJulia.##9#15)() at ./task.jl:360\n",
      "while loading In[13], in expression starting on line 4\n"
     ]
    },
    {
     "ename": "LoadError",
     "evalue": "LoadError: InterruptException:\nwhile loading In[13], in expression starting on line 4",
     "output_type": "error",
     "traceback": [
      "LoadError: InterruptException:\nwhile loading In[13], in expression starting on line 4",
      "",
      " in vertex_index(::Int64, ::Graphs.GenericIncidenceList{Int64,Graphs.Edge{Int64},UnitRange{Int64},Array{Array{Graphs.Edge{Int64},1},1}}) at /home/jzh/.julia/v0.5/Graphs/src/common.jl:38",
      " in process_neighbors!(::Graphs.DijkstraStates{Int64,Float64,DataStructures.MutableBinaryHeap{Graphs.DijkstraHEntry{Int64,Float64},DataStructures.LessThan},Int64}, ::Graphs.GenericIncidenceList{Int64,Graphs.Edge{Int64},UnitRange{Int64},Array{Array{Graphs.Edge{Int64},1},1}}, ::Graphs.VectorEdgePropertyInspector{Float64}, ::Int64, ::Float64, ::Graphs.TrivialDijkstraVisitor) at /home/jzh/.julia/v0.5/Graphs/src/dijkstra_spath.jl:122",
      " in dijkstra_shortest_paths!(::Graphs.GenericIncidenceList{Int64,Graphs.Edge{Int64},UnitRange{Int64},Array{Array{Graphs.Edge{Int64},1},1}}, ::Graphs.VectorEdgePropertyInspector{Float64}, ::Array{Int64,1}, ::Graphs.TrivialDijkstraVisitor, ::Graphs.DijkstraStates{Int64,Float64,DataStructures.MutableBinaryHeap{Graphs.DijkstraHEntry{Int64,Float64},DataStructures.LessThan},Int64}) at /home/jzh/.julia/v0.5/Graphs/src/dijkstra_spath.jl:204",
      " in dijkstra_shortest_paths(::Graphs.GenericIncidenceList{Int64,Graphs.Edge{Int64},UnitRange{Int64},Array{Array{Graphs.Edge{Int64},1},1}}, ::Array{Float64,1}, ::Int64) at /home/jzh/.julia/v0.5/Graphs/src/dijkstra_spath.jl:228",
      " in all_or_nothing(::Array{Float64,1}, ::Dict{Any,Any}) at /home/jzh/Research/Traffic/InverseVIsTraffic/Julia_files/tap_MSA.jl:51",
      " in tapMSA(::Dict{Any,Any}, ::Array{Any,1}, ::Int64, ::Float64) at /home/jzh/Research/Traffic/InverseVIsTraffic/Julia_files/tap_MSA.jl:78",
      " in demandsDictFixed(::Int64) at ./In[12]:84",
      " in macro expansion; at ./In[13]:5 [inlined]",
      " in anonymous at ./<missing>:?"
     ]
    }
   ],
   "source": [
    "# week_day_Apr_list = [2, 3, 4, 5, 6, 9, 10, 11, 12, 13, 16, 17, 18, 19, 20, 23, 24, 25, 26, 27, 30]\n",
    "week_day_Apr_list = [2]\n",
    "\n",
    "for day in week_day_Apr_list\n",
    "    demandsDictFixed(day)\n",
    "end"
   ]
  }
 ],
 "metadata": {
  "anaconda-cloud": {},
  "kernelspec": {
   "display_name": "Julia 0.5.0",
   "language": "julia",
   "name": "julia-0.5"
  },
  "language_info": {
   "file_extension": ".jl",
   "mimetype": "application/julia",
   "name": "julia",
   "version": "0.5.0"
  }
 },
 "nbformat": 4,
 "nbformat_minor": 0
}
