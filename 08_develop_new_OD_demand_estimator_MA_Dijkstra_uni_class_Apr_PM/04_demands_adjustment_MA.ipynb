{
 "cells": [
  {
   "cell_type": "code",
   "execution_count": 1,
   "metadata": {
    "collapsed": false
   },
   "outputs": [],
   "source": [
    "using PyCall\n",
    "unshift!(PyVector(pyimport(\"sys\")[\"path\"]), \"\");\n",
    "@pyimport Compute_Jacobian_MA\n",
    "@pyimport GLS_Apr_weekday_PM_ext"
   ]
  },
  {
   "cell_type": "code",
   "execution_count": 2,
   "metadata": {
    "collapsed": false
   },
   "outputs": [
    {
     "data": {
      "text/plain": [
       "74x30 Array{Float64,2}:\n",
       " 1366.35    791.95    771.324  …  1015.01        1624.03     280.272\n",
       " 1206.76    992.338   991.158     1000.59        1273.13     570.559\n",
       " 2114.24   1499.68   1200.6       1171.78        1608.83     947.273\n",
       " 2273.84   1299.3     980.768     1186.21        1959.73     656.986\n",
       "   58.465   201.97    271.021       86.5748        40.0646   261.282\n",
       "  139.064   247.675   201.826  …    23.5801       146.69     143.578\n",
       " 1193.7    1571.81   1353.56       781.132       1109.21    1362.48 \n",
       "  953.514  1726.49   1642.59       829.701        651.679   1770.47 \n",
       " 2124.9    1398.79    938.436     1533.92        1629.54    1007.64 \n",
       " 2365.09   1244.1     649.406     1485.35        2087.07     599.646\n",
       "  406.406   514.047   567.011  …   469.666        455.737    655.187\n",
       "  281.997  1677.2    1591.06       204.042        239.965   1660.44 \n",
       "  204.522   246.959  1020.38         1.2451e-13   268.26    1131.08 \n",
       "    ⋮                          ⋱                                    \n",
       "  817.703  3694.71   4035.01       539.09         517.807   4749.93 \n",
       "  654.675  2893.16   2792.29       121.487        649.479   2740.0  \n",
       "  348.819   435.247   540.454      151.217        334.718    811.411\n",
       "  247.996  1766.27   1758.33   …   419.879        319.617   1306.56 \n",
       "  198.088  3603.02   3166.73       324.488        200.642   3347.82 \n",
       "  198.088  3603.02   3166.73       324.488        200.642   3347.82 \n",
       "  243.615  1577.0    2095.88       113.091         82.1073  3797.05 \n",
       "  243.615  1577.0    2095.88       113.091         82.1073  3797.05 \n",
       " 1232.85    270.493   238.254  …   302.312       1071.01     126.3  \n",
       " 1451.18   1767.05   1333.95       662.65        1072.97    1191.85 \n",
       " 1589.53   2116.41   1833.29      1010.19        1115.65    1281.76 \n",
       " 1371.21    619.855   737.593      649.854       1113.68     216.21 "
      ]
     },
     "execution_count": 2,
     "metadata": {},
     "output_type": "execute_result"
    }
   ],
   "source": [
    "numNodes = Compute_Jacobian_MA.numNodes;\n",
    "numLinks = Compute_Jacobian_MA.numLinks;\n",
    "numODpairs = Compute_Jacobian_MA.numODpairs;\n",
    "numZones = Compute_Jacobian_MA.numZones\n",
    "od_pairs = Compute_Jacobian_MA.od_pairs;\n",
    "link_list_js = Compute_Jacobian_MA.link_list_js;\n",
    "link_length_list = Compute_Jacobian_MA.link_length_list;\n",
    "\n",
    "flow_observ = GLS_Apr_weekday_PM_ext.x_"
   ]
  },
  {
   "cell_type": "code",
   "execution_count": 3,
   "metadata": {
    "collapsed": false
   },
   "outputs": [],
   "source": [
    "require(\"../Julia_files/initia_data.jl\");\n",
    "require(\"prepare_data_MA.jl\");\n",
    "require(\"extract_data_MA.jl\");\n",
    "require(\"../Julia_files/tap_MSA.jl\");\n",
    "require(\"../Julia_files/inverseVI.jl\");\n",
    "require(\"../Julia_files/demands_adjustment_gradi.jl\");"
   ]
  },
  {
   "cell_type": "code",
   "execution_count": 4,
   "metadata": {
    "collapsed": false
   },
   "outputs": [],
   "source": [
    "demandsDict_ = readall(\"../08_develop_new_OD_demand_estimator_MA_Dijkstra_uni_class_Apr_PM/results/demandsDict.json\");\n",
    "demandsDict_ = JSON.parse(demandsDict_);"
   ]
  },
  {
   "cell_type": "code",
   "execution_count": 5,
   "metadata": {
    "collapsed": false
   },
   "outputs": [
    {
     "data": {
      "text/plain": [
       "Dict{UTF8String,Any} with 25 entries:\n",
       "  \"24\" => [\"(16,1)\"=>59.27506785481917,\"(11,20)\"=>0.838315668507335,\"(2,8)\"=>0.…\n",
       "  \"4\"  => [\"(16,1)\"=>349.1092878585743,\"(11,20)\"=>0.0,\"(2,8)\"=>0.0,\"(3,22)\"=>0.…\n",
       "  \"1\"  => [\"(16,1)\"=>431.090006,\"(11,20)\"=>0.0,\"(2,8)\"=>0.0,\"(3,22)\"=>0.0,\"(20,…\n",
       "  \"12\" => [\"(16,1)\"=>279.0283250220699,\"(11,20)\"=>0.0,\"(2,8)\"=>0.0,\"(3,22)\"=>0.…\n",
       "  \"20\" => [\"(16,1)\"=>94.59165589946927,\"(11,20)\"=>0.0,\"(2,8)\"=>0.0,\"(3,22)\"=>0.…\n",
       "  \"2\"  => [\"(16,1)\"=>356.96904796431033,\"(11,20)\"=>0.0,\"(2,8)\"=>0.0,\"(3,22)\"=>0…\n",
       "  \"6\"  => [\"(16,1)\"=>341.03045449064666,\"(11,20)\"=>0.0,\"(2,8)\"=>0.0,\"(3,22)\"=>0…\n",
       "  \"23\" => [\"(16,1)\"=>59.27506785481917,\"(11,20)\"=>0.838315668507335,\"(2,8)\"=>0.…\n",
       "  \"22\" => [\"(16,1)\"=>60.53141855601142,\"(11,20)\"=>0.7529767334679967,\"(2,8)\"=>0…\n",
       "  \"11\" => [\"(16,1)\"=>283.87525035299217,\"(11,20)\"=>0.0,\"(2,8)\"=>0.0,\"(3,22)\"=>0…\n",
       "  \"13\" => [\"(16,1)\"=>267.25807567224774,\"(11,20)\"=>0.0,\"(2,8)\"=>0.0,\"(3,22)\"=>0…\n",
       "  \"5\"  => [\"(16,1)\"=>343.3869629988698,\"(11,20)\"=>0.0,\"(2,8)\"=>0.0,\"(3,22)\"=>0.…\n",
       "  \"15\" => [\"(16,1)\"=>260.989792271706,\"(11,20)\"=>0.0,\"(2,8)\"=>0.0,\"(3,22)\"=>0.0…\n",
       "  \"16\" => [\"(16,1)\"=>236.02689609427165,\"(11,20)\"=>0.0,\"(2,8)\"=>0.0,\"(3,22)\"=>0…\n",
       "  \"14\" => [\"(16,1)\"=>262.3994654173959,\"(11,20)\"=>0.0,\"(2,8)\"=>0.0,\"(3,22)\"=>0.…\n",
       "  \"21\" => [\"(16,1)\"=>66.1730018814379,\"(11,20)\"=>0.4207535865323553,\"(2,8)\"=>0.…\n",
       "  \"7\"  => [\"(16,1)\"=>337.8881308371978,\"(11,20)\"=>0.0,\"(2,8)\"=>0.0,\"(3,22)\"=>0.…\n",
       "  \"8\"  => [\"(16,1)\"=>306.37322969932427,\"(11,20)\"=>0.0,\"(2,8)\"=>0.0,\"(3,22)\"=>0…\n",
       "  \"17\" => [\"(16,1)\"=>214.59371111829813,\"(11,20)\"=>0.0,\"(2,8)\"=>0.0,\"(3,22)\"=>0…\n",
       "  \"10\" => [\"(16,1)\"=>284.1911546504623,\"(11,20)\"=>0.0,\"(2,8)\"=>0.0,\"(3,22)\"=>0.…\n",
       "  \"0\"  => [\"(16,1)\"=>431.090006,\"(11,20)\"=>0.0,\"(2,8)\"=>0.0,\"(3,22)\"=>0.0,\"(20,…\n",
       "  \"19\" => [\"(16,1)\"=>109.4312312250808,\"(11,20)\"=>0.0,\"(2,8)\"=>0.0,\"(3,22)\"=>0.…\n",
       "  \"18\" => [\"(16,1)\"=>202.04223083006514,\"(11,20)\"=>0.0,\"(2,8)\"=>0.0,\"(3,22)\"=>0…\n",
       "  \"9\"  => [\"(16,1)\"=>299.5155937254741,\"(11,20)\"=>0.0,\"(2,8)\"=>0.0,\"(3,22)\"=>0.…\n",
       "  \"3\"  => [\"(16,1)\"=>352.74496908916853,\"(11,20)\"=>0.0,\"(2,8)\"=>0.0,\"(3,22)\"=>0…"
      ]
     },
     "execution_count": 5,
     "metadata": {},
     "output_type": "execute_result"
    }
   ],
   "source": [
    "demandsDict_"
   ]
  },
  {
   "cell_type": "code",
   "execution_count": 6,
   "metadata": {
    "collapsed": false
   },
   "outputs": [],
   "source": [
    "demandsDict__ = demandsDict_[\"24\"]\n",
    "\n",
    "_demandsDict__ = Dict()\n",
    "\n",
    "for key_ in keys(demandsDict__)\n",
    "    key = (int(split(split(key_, \",\")[1], \"(\")[2]),int(split(split(key_, \",\")[2], \")\")[1]))\n",
    "    _demandsDict__[key] = demandsDict__[key_]\n",
    "end"
   ]
  },
  {
   "cell_type": "code",
   "execution_count": 7,
   "metadata": {
    "collapsed": false
   },
   "outputs": [
    {
     "data": {
      "text/plain": [
       "Dict{Any,Any} with 484 entries:\n",
       "  (6,9)   => 0.0\n",
       "  (18,3)  => 54.44751975676304\n",
       "  (21,13) => 11.723222210366636\n",
       "  (22,16) => 0.0\n",
       "  (15,17) => 43.854936347305944\n",
       "  (22,14) => 0.0\n",
       "  (13,9)  => 0.17301819788850809\n",
       "  (8,9)   => 0.0\n",
       "  (17,14) => 383.84355492021365\n",
       "  (9,1)   => 0.0\n",
       "  (16,6)  => 0.0\n",
       "  (16,12) => 297.72321415990035\n",
       "  (16,13) => 733.4176859643633\n",
       "  (22,2)  => 0.0\n",
       "  (7,16)  => 459.80532550548673\n",
       "  (1,12)  => 363.1561006344279\n",
       "  (11,8)  => 30.991240287021498\n",
       "  (19,4)  => 0.0\n",
       "  (18,21) => 0.0\n",
       "  (4,5)   => 3.7418817398365514\n",
       "  (20,13) => 7.81392696304233\n",
       "  (15,4)  => 76.59974560941168\n",
       "  (6,18)  => 0.0\n",
       "  (5,16)  => 0.0\n",
       "  (4,9)   => 0.0\n",
       "  ⋮       => ⋮"
      ]
     },
     "execution_count": 7,
     "metadata": {},
     "output_type": "execute_result"
    }
   ],
   "source": [
    "_demandsDict__"
   ]
  },
  {
   "cell_type": "code",
   "execution_count": 8,
   "metadata": {
    "collapsed": false
   },
   "outputs": [],
   "source": [
    "# demandsDict[0] = _demandsDict__;\n",
    "# demandsDict[1] = _demandsDict__;"
   ]
  },
  {
   "cell_type": "code",
   "execution_count": 9,
   "metadata": {
    "collapsed": false
   },
   "outputs": [
    {
     "data": {
      "text/plain": [
       "Dict{Int64,Dict{(Int64,Int64),Float64}} with 2 entries:\n",
       "  0 => [(6,9)=>0.0,(18,3)=>0.0,(21,13)=>0.0,(22,16)=>0.0,(15,17)=>0.0,(22,14)=>…\n",
       "  1 => [(6,9)=>0.0,(18,3)=>0.0,(21,13)=>0.0,(22,16)=>0.0,(15,17)=>0.0,(22,14)=>…"
      ]
     },
     "execution_count": 9,
     "metadata": {},
     "output_type": "execute_result"
    }
   ],
   "source": [
    "demandsDict"
   ]
  },
  {
   "cell_type": "code",
   "execution_count": 10,
   "metadata": {
    "collapsed": false
   },
   "outputs": [],
   "source": [
    "demandsDiffDict[1] = norm(demandsDicToVec(demandsDict[1]) - demandsDicToVec(demandsDict[0]))/\n",
    "                     norm(demandsDicToVec(demandsDict[0]));"
   ]
  },
  {
   "cell_type": "code",
   "execution_count": 11,
   "metadata": {
    "collapsed": false
   },
   "outputs": [
    {
     "data": {
      "text/plain": [
       "0.0"
      ]
     },
     "execution_count": 11,
     "metadata": {},
     "output_type": "execute_result"
    }
   ],
   "source": [
    "demandsDiffDict[1]"
   ]
  },
  {
   "cell_type": "code",
   "execution_count": 12,
   "metadata": {
    "collapsed": false
   },
   "outputs": [
    {
     "data": {
      "text/plain": [
       "demandsDictFixed (generic function with 1 method)"
      ]
     },
     "execution_count": 12,
     "metadata": {},
     "output_type": "execute_result"
    }
   ],
   "source": [
    "function demandsDictFixed(day)\n",
    "#     day = 4  # day of April\n",
    "\n",
    "    # observed flow vector\n",
    "    xl = flow_observ[:, day]\n",
    "\n",
    "    tapFlows = Dict{(Int64,Int64),Float64}()\n",
    "\n",
    "    for i = 1:length(ta_data.start_node)\n",
    "        key = (ta_data.start_node[i], ta_data.end_node[i])\n",
    "        tapFlows[key] = xl[i]\n",
    "    end\n",
    "\n",
    "    tapFlowVect = xl;\n",
    "\n",
    "    # get observed flow vector (corresponding to ground truth demands and ground truth costs)\n",
    "    tapFlowDicDict[0], tapFlowVecDict[0] = tapFlows, tapFlowVect;\n",
    "\n",
    "    # get arcs data corresponding to ground truth demands and flows\n",
    "    arcsDict[0] = observFlow(\"./benchmark_data/MA_net.txt\", tapFlowDicDict[0]);\n",
    "\n",
    "    arcsDict[0]\n",
    "\n",
    "    deg = 6\n",
    "    c = 0.4\n",
    "    lam = 100.0\n",
    "\n",
    "    coeffs_dict_Apr_PM_ = readall(\"../temp_files/coeffs_dict_Apr_PM.json\")\n",
    "    coeffs_dict_Apr_PM_ = JSON.parse(coeffs_dict_Apr_PM_)\n",
    "    fcoeffs = coeffs_dict_Apr_PM_[\"($(deg),$(c),$(lam),1)\"]\n",
    "\n",
    "    # fcoeffs = [1, 0, 0, .15]\n",
    "\n",
    "    demandsVecDict[1] = demandsDicToVec(demandsDict[1]);\n",
    "    objFunDict[1] = objF(demandsVecDict[1], fcoeffs);\n",
    "\n",
    "    # get initial flow vector (corresponding to initial demands)\n",
    "    tapFlowDicDict[1], tapFlowVecDict[1] = tapMSA(demandsDict[1], fcoeffs);\n",
    "\n",
    "    demandsVecDict[0] = demandsDicToVec(demandsDict[0]);\n",
    "\n",
    "    # get arcs data corresponding to initial demands and flows\n",
    "    arcsDict[1] = observFlow(\"./benchmark_data/MA_net.txt\", tapFlowDicDict[1]);\n",
    "\n",
    "    linkCostDicDict[1] = tapFlowVecToLinkCostDict(tapFlowVecDict[1], fcoeffs);\n",
    "\n",
    "    linkCostDicDict[1][\"0\"], link_length_list[1]\n",
    "\n",
    "    jacobiSpiessDict[1] = Compute_Jacobian_MA.jacobianSpiess(numNodes, numLinks, numODpairs, od_pairs, \n",
    "                                                  link_list_js, [linkCostDicDict[1][\"$(i)\"] for i=0:numLinks-1]);\n",
    "\n",
    "    # maximum number of iterations\n",
    "    N = 100;  \n",
    "\n",
    "    # Armijo rule parameters\n",
    "    rho = 2;\n",
    "    M = 10;\n",
    "\n",
    "    # search direction parameter\n",
    "    epsilon_1 = 0;\n",
    "\n",
    "    # stop criterion parameter\n",
    "    epsilon_2 = 1e-20;\n",
    "\n",
    "    for l = 1:N\n",
    "\n",
    "        jacobDict[l] = jacobiSpiessDict[l]\n",
    "\n",
    "        descDirecDict[l] = descDirec(tapFlowVecDict[l], tapFlowVecDict[0], jacobDict[l], numODpairs, numLinks);\n",
    "\n",
    "        demandsVecDict[l] = demandsDicToVec(demandsDict[l]);\n",
    "\n",
    "        searchDirecDict[l] = searchDirec(demandsVecDict[l], descDirecDict[l], epsilon_1);\n",
    "\n",
    "        thetaMaxDict[l] = thetaMax(demandsVecDict[l], searchDirecDict[l]);\n",
    "\n",
    "        demandsVecDict[l+1] = similar(demandsVecDict[0]);\n",
    "\n",
    "        demandsVecDict[l+1], objFunDict[l+1] = armijo(objFunDict[l], demandsVecDict[l], fcoeffs, searchDirecDict[l], \n",
    "        thetaMaxDict[l], rho, M);\n",
    "\n",
    "        demandsDict[l+1] = demandsVecToDic(demandsVecDict[l+1]);\n",
    "\n",
    "        tapFlowDicDict[l+1], tapFlowVecDict[l+1] = tapMSA(demandsDict[l+1], fcoeffs);\n",
    "\n",
    "        arcsDict[l+1] = observFlow(\"./benchmark_data/MA_net.txt\", tapFlowDicDict[l+1]);\n",
    "\n",
    "        linkCostDicDict[l+1] = tapFlowVecToLinkCostDict(tapFlowVecDict[l+1], fcoeffs);\n",
    "\n",
    "        jacobiSpiessDict[l+1] = Compute_Jacobian_MA.jacobianSpiess(numNodes, numLinks, numODpairs, od_pairs, \n",
    "                                                  link_list_js, [linkCostDicDict[l+1][\"$(i)\"] for i=0:numLinks-1]);\n",
    "\n",
    "        demandsDiffDict[l+1] = norm(demandsVecDict[l+1] - demandsVecDict[0]) / norm(demandsVecDict[0]);\n",
    "\n",
    "        # stopping criterion\n",
    "        if (objFunDict[l] - objFunDict[l+1]) / objFunDict[1] < epsilon_2\n",
    "            break\n",
    "        end\n",
    "\n",
    "    end\n",
    "\n",
    "    # normalize objective function value\n",
    "    for l = 1:(length(objFunDict))\n",
    "        norObjFunDict[l] = objFunDict[l] / objFunDict[1];\n",
    "    end\n",
    "\n",
    "\n",
    "    outfile = open(\"./results/demandsVecDict.json\", \"w\")\n",
    "\n",
    "    JSON.print(outfile, demandsVecDict)\n",
    "\n",
    "    close(outfile)\n",
    "\n",
    "    outfile = open(\"./results/demandsDict$(day).json\", \"w\")\n",
    "\n",
    "    JSON.print(outfile, demandsDict)\n",
    "\n",
    "    close(outfile)\n",
    "\n",
    "    outfile = open(\"./results/tapFlowDicDict.json\", \"w\")\n",
    "\n",
    "    JSON.print(outfile, tapFlowDicDict)\n",
    "\n",
    "    close(outfile)\n",
    "\n",
    "    outfile = open(\"./results/tapFlowVecDict.json\", \"w\")\n",
    "\n",
    "    JSON.print(outfile, tapFlowVecDict)\n",
    "\n",
    "    close(outfile)\n",
    "\n",
    "    demandsDict[length(demandsDict)-1]\n",
    "\n",
    "    demandsDict_ = Dict{}()\n",
    "\n",
    "    for key in keys(demandsDict[length(demandsDict)-1])\n",
    "        demandsDict_[key] = demandsDict[length(demandsDict)-1][key] \n",
    "    end\n",
    "\n",
    "    outfile = open(\"./results/demandsDictFixed$(day).json\", \"w\")\n",
    "\n",
    "    JSON.print(outfile, demandsDict_)\n",
    "\n",
    "    close(outfile)\n",
    "end"
   ]
  },
  {
   "cell_type": "code",
   "execution_count": 13,
   "metadata": {
    "collapsed": false
   },
   "outputs": [],
   "source": [
    "week_day_Apr_list = [2, 3, 4, 5, 6, 9, 10, 11, 12, 13, 16, 17, 18, 19, 20, 23, 24, 25, 26, 27, 30]\n",
    "# week_day_Apr_list = [5, 6, 9, 10, 11, 12, 13, 16, 17, 18, 19, 20, 23, 24, 25, 26, 27, 30]\n",
    "\n",
    "for day in week_day_Apr_list\n",
    "    demandsDictFixed(day)\n",
    "end"
   ]
  }
 ],
 "metadata": {
  "kernelspec": {
   "display_name": "Julia 0.3.7",
   "language": "julia",
   "name": "julia-0.3"
  },
  "language_info": {
   "file_extension": ".jl",
   "mimetype": "application/julia",
   "name": "julia",
   "version": "0.3.7"
  }
 },
 "nbformat": 4,
 "nbformat_minor": 0
}
