{
 "cells": [
  {
   "cell_type": "code",
   "execution_count": 1,
   "metadata": {
    "collapsed": false
   },
   "outputs": [],
   "source": [
    "using PyCall\n",
    "unshift!(PyVector(pyimport(\"sys\")[\"path\"]), \"\");\n",
    "@pyimport Compute_Jacobian_MA\n",
    "@pyimport GLS_Apr_weekday_PM_ext"
   ]
  },
  {
   "cell_type": "code",
   "execution_count": 2,
   "metadata": {
    "collapsed": false
   },
   "outputs": [
    {
     "data": {
      "text/plain": [
       "74x30 Array{Float64,2}:\n",
       " 1366.35    791.95    771.324  …  1015.01        1624.03     280.272\n",
       " 1206.76    992.338   991.158     1000.59        1273.13     570.559\n",
       " 2114.24   1499.68   1200.6       1171.78        1608.83     947.273\n",
       " 2273.84   1299.3     980.768     1186.21        1959.73     656.986\n",
       "   58.465   201.97    271.021       86.5748        40.0646   261.282\n",
       "  139.064   247.675   201.826  …    23.5801       146.69     143.578\n",
       " 1193.7    1571.81   1353.56       781.132       1109.21    1362.48 \n",
       "  953.514  1726.49   1642.59       829.701        651.679   1770.47 \n",
       " 2124.9    1398.79    938.436     1533.92        1629.54    1007.64 \n",
       " 2365.09   1244.1     649.406     1485.35        2087.07     599.646\n",
       "  406.406   514.047   567.011  …   469.666        455.737    655.187\n",
       "  281.997  1677.2    1591.06       204.042        239.965   1660.44 \n",
       "  204.522   246.959  1020.38         1.2451e-13   268.26    1131.08 \n",
       "    ⋮                          ⋱                                    \n",
       "  817.703  3694.71   4035.01       539.09         517.807   4749.93 \n",
       "  654.675  2893.16   2792.29       121.487        649.479   2740.0  \n",
       "  348.819   435.247   540.454      151.217        334.718    811.411\n",
       "  247.996  1766.27   1758.33   …   419.879        319.617   1306.56 \n",
       "  198.088  3603.02   3166.73       324.488        200.642   3347.82 \n",
       "  198.088  3603.02   3166.73       324.488        200.642   3347.82 \n",
       "  243.615  1577.0    2095.88       113.091         82.1073  3797.05 \n",
       "  243.615  1577.0    2095.88       113.091         82.1073  3797.05 \n",
       " 1232.85    270.493   238.254  …   302.312       1071.01     126.3  \n",
       " 1451.18   1767.05   1333.95       662.65        1072.97    1191.85 \n",
       " 1589.53   2116.41   1833.29      1010.19        1115.65    1281.76 \n",
       " 1371.21    619.855   737.593      649.854       1113.68     216.21 "
      ]
     },
     "execution_count": 2,
     "metadata": {},
     "output_type": "execute_result"
    }
   ],
   "source": [
    "numNodes = Compute_Jacobian_MA.numNodes;\n",
    "numLinks = Compute_Jacobian_MA.numLinks;\n",
    "numODpairs = Compute_Jacobian_MA.numODpairs;\n",
    "numZones = Compute_Jacobian_MA.numZones\n",
    "od_pairs = Compute_Jacobian_MA.od_pairs;\n",
    "link_list_js = Compute_Jacobian_MA.link_list_js;\n",
    "link_length_list = Compute_Jacobian_MA.link_length_list;\n",
    "\n",
    "flow_observ = GLS_Apr_weekday_PM_ext.x_"
   ]
  },
  {
   "cell_type": "code",
   "execution_count": 3,
   "metadata": {
    "collapsed": false
   },
   "outputs": [],
   "source": [
    "require(\"../Julia_files/initia_data.jl\");\n",
    "require(\"prepare_data_MA.jl\");\n",
    "require(\"extract_data_MA.jl\");\n",
    "require(\"../Julia_files/tap_MSA.jl\");\n",
    "require(\"../Julia_files/inverseVI.jl\");\n",
    "require(\"../Julia_files/demands_adjustment_gradi.jl\");"
   ]
  },
  {
   "cell_type": "code",
   "execution_count": 4,
   "metadata": {
    "collapsed": true
   },
   "outputs": [],
   "source": [
    "demandsDict_ = readall(\"../08_develop_new_OD_demand_estimator_MA_Dijkstra_uni_class/results/demandsDict1.json\");\n",
    "demandsDict_ = JSON.parse(demandsDict_);"
   ]
  },
  {
   "cell_type": "code",
   "execution_count": 5,
   "metadata": {
    "collapsed": false
   },
   "outputs": [],
   "source": [
    "demandsDict__ = demandsDict_[\"24\"]\n",
    "\n",
    "_demandsDict__ = Dict()\n",
    "\n",
    "for key_ in keys(demandsDict__)\n",
    "    key = (int(split(split(key_, \",\")[1], \"(\")[2]),int(split(split(key_, \",\")[2], \")\")[1]))\n",
    "    _demandsDict__[key] = demandsDict__[key_]\n",
    "end"
   ]
  },
  {
   "cell_type": "code",
   "execution_count": 6,
   "metadata": {
    "collapsed": false
   },
   "outputs": [
    {
     "data": {
      "text/plain": [
       "Dict{Any,Any} with 484 entries:\n",
       "  (6,9)   => 0.0\n",
       "  (18,3)  => 54.44751975676304\n",
       "  (21,13) => 11.723222210366636\n",
       "  (22,16) => 0.0\n",
       "  (15,17) => 43.854936347305944\n",
       "  (22,14) => 0.0\n",
       "  (13,9)  => 0.17301819788850809\n",
       "  (8,9)   => 0.0\n",
       "  (17,14) => 383.84355492021365\n",
       "  (9,1)   => 0.0\n",
       "  (16,6)  => 0.0\n",
       "  (16,12) => 297.72321415990035\n",
       "  (16,13) => 733.4176859643633\n",
       "  (22,2)  => 0.0\n",
       "  (7,16)  => 459.80532550548673\n",
       "  (1,12)  => 363.1561006344279\n",
       "  (11,8)  => 30.991240287021498\n",
       "  (19,4)  => 0.0\n",
       "  (18,21) => 0.0\n",
       "  (4,5)   => 3.7418817398365514\n",
       "  (20,13) => 7.81392696304233\n",
       "  (15,4)  => 76.59974560941168\n",
       "  (6,18)  => 0.0\n",
       "  (5,16)  => 0.0\n",
       "  (4,9)   => 0.0\n",
       "  ⋮       => ⋮"
      ]
     },
     "execution_count": 6,
     "metadata": {},
     "output_type": "execute_result"
    }
   ],
   "source": [
    "_demandsDict__"
   ]
  },
  {
   "cell_type": "code",
   "execution_count": 7,
   "metadata": {
    "collapsed": false
   },
   "outputs": [],
   "source": [
    "# demandsDict[0] = _demandsDict__;\n",
    "# demandsDict[1] = _demandsDict__;"
   ]
  },
  {
   "cell_type": "code",
   "execution_count": 8,
   "metadata": {
    "collapsed": false
   },
   "outputs": [
    {
     "data": {
      "text/plain": [
       "Dict{Int64,Dict{(Int64,Int64),Float64}} with 2 entries:\n",
       "  0 => [(6,9)=>0.0,(18,3)=>0.0,(21,13)=>0.0,(22,16)=>0.0,(15,17)=>0.0,(22,14)=>…\n",
       "  1 => [(6,9)=>0.0,(18,3)=>0.0,(21,13)=>0.0,(22,16)=>0.0,(15,17)=>0.0,(22,14)=>…"
      ]
     },
     "execution_count": 8,
     "metadata": {},
     "output_type": "execute_result"
    }
   ],
   "source": [
    "demandsDict"
   ]
  },
  {
   "cell_type": "code",
   "execution_count": 9,
   "metadata": {
    "collapsed": false
   },
   "outputs": [],
   "source": [
    "demandsDiffDict[1] = norm(demandsDicToVec(demandsDict[1]) - demandsDicToVec(demandsDict[0]))/\n",
    "                     norm(demandsDicToVec(demandsDict[0]));"
   ]
  },
  {
   "cell_type": "code",
   "execution_count": 10,
   "metadata": {
    "collapsed": false
   },
   "outputs": [
    {
     "data": {
      "text/plain": [
       "0.0"
      ]
     },
     "execution_count": 10,
     "metadata": {},
     "output_type": "execute_result"
    }
   ],
   "source": [
    "demandsDiffDict[1]"
   ]
  },
  {
   "cell_type": "code",
   "execution_count": 11,
   "metadata": {
    "collapsed": false
   },
   "outputs": [
    {
     "data": {
      "text/plain": [
       "21"
      ]
     },
     "execution_count": 11,
     "metadata": {},
     "output_type": "execute_result"
    }
   ],
   "source": [
    "week_day_Apr_list = [2, 3, 4, 5, 6, 9, 10, 11, 12, 13, 16, 17, 18, 19, 20, 23, 24, 25, 26, 27, 30]\n",
    "\n",
    "day = 21  # day of April"
   ]
  },
  {
   "cell_type": "code",
   "execution_count": 12,
   "metadata": {
    "collapsed": false
   },
   "outputs": [
    {
     "data": {
      "text/plain": [
       "74-element Array{Float64,1}:\n",
       " 1069.47       \n",
       "  821.886      \n",
       " 1286.29       \n",
       " 1533.87       \n",
       "   99.5381     \n",
       "   73.9925     \n",
       "  482.609      \n",
       "  260.575      \n",
       "  864.537      \n",
       " 1086.57       \n",
       "  208.225      \n",
       "  212.37       \n",
       "  119.4        \n",
       "    ⋮          \n",
       "  740.221      \n",
       "  545.195      \n",
       "  413.692      \n",
       "  344.281      \n",
       "    5.43899e-10\n",
       "    5.43899e-10\n",
       "   94.6625     \n",
       "   94.6625     \n",
       "  653.185      \n",
       "  822.96       \n",
       "  859.239      \n",
       "  689.464      "
      ]
     },
     "execution_count": 12,
     "metadata": {},
     "output_type": "execute_result"
    }
   ],
   "source": [
    "# observed flow vector\n",
    "xl = flow_observ[:, day]"
   ]
  },
  {
   "cell_type": "code",
   "execution_count": 13,
   "metadata": {
    "collapsed": false
   },
   "outputs": [],
   "source": [
    "tapFlows = Dict{(Int64,Int64),Float64}()\n",
    "\n",
    "for i = 1:length(ta_data.start_node)\n",
    "    key = (ta_data.start_node[i], ta_data.end_node[i])\n",
    "    tapFlows[key] = xl[i]\n",
    "end\n",
    "\n",
    "tapFlowVect = xl;"
   ]
  },
  {
   "cell_type": "code",
   "execution_count": 14,
   "metadata": {
    "collapsed": false
   },
   "outputs": [],
   "source": [
    "# get observed flow vector (corresponding to ground truth demands and ground truth costs)\n",
    "tapFlowDicDict[0], tapFlowVecDict[0] = tapFlows, tapFlowVect;"
   ]
  },
  {
   "cell_type": "code",
   "execution_count": 15,
   "metadata": {
    "collapsed": false
   },
   "outputs": [],
   "source": [
    "# get arcs data corresponding to ground truth demands and flows\n",
    "arcsDict[0] = observFlow(\"./benchmark_data/MA_net.txt\", tapFlowDicDict[0]);"
   ]
  },
  {
   "cell_type": "code",
   "execution_count": 16,
   "metadata": {
    "collapsed": false
   },
   "outputs": [
    {
     "data": {
      "text/plain": [
       "Dict{(Int64,Int64),Arc} with 74 entries:\n",
       "  (17,15) => Arc(17,15,5941.509547,0.243392,822.9599619721723)\n",
       "  (3,6)   => Arc(3,6,6438.424264,0.117963,864.5373015750429)\n",
       "  (21,13) => Arc(21,13,2068.636909,0.103075,301.1029667129198)\n",
       "  (22,16) => Arc(22,16,5826.794762,0.118731,5.438987823952629e-10)\n",
       "  (19,12) => Arc(19,12,5540.728327,0.069605,171.69156960443183)\n",
       "  (22,14) => Arc(22,14,4285.78757,0.079134,94.6625069078315)\n",
       "  (15,17) => Arc(15,17,5726.051257,0.245197,653.1852219799919)\n",
       "  (10,11) => Arc(10,11,2934.51529,0.211194,507.16466419361603)\n",
       "  (13,12) => Arc(13,12,918.190114,0.474671,1.0120739549067401e-13)\n",
       "  (3,1)   => Arc(3,1,8000.0,0.179745,1533.8713316973142)\n",
       "  (16,13) => Arc(16,13,6695.591725,0.169855,545.194989091963)\n",
       "  (4,5)   => Arc(4,5,6000.0,0.043136,720.0459623709298)\n",
       "  (13,16) => Arc(13,16,6242.577967,0.158994,740.2210641798455)\n",
       "  (17,16) => Arc(17,16,5877.602649,0.208304,689.4644472180155)\n",
       "  (20,13) => Arc(20,13,2251.546038,0.137259,279.5823134995158)\n",
       "  (12,8)  => Arc(12,8,6000.0,0.212578,379.80044968316554)\n",
       "  (2,4)   => Arc(2,4,6000.0,0.109833,482.60890837120724)\n",
       "  (16,17) => Arc(16,17,6000.0,0.194284,859.239187210196)\n",
       "  (1,2)   => Arc(1,2,5770.740094,0.161995,1069.4651993401042)\n",
       "  (14,21) => Arc(14,21,2068.636909,0.154612,301.10296671291985)\n",
       "  (2,3)   => Arc(2,3,845.09165,0.34941,99.53808126316005)\n",
       "  (13,19) => Arc(13,19,5540.728327,0.104407,171.69156960443183)\n",
       "  (13,14) => Arc(13,14,5666.32431,0.157933,470.8984652502943)\n",
       "  (16,14) => Arc(16,14,1790.182665,0.384494,344.2808121412871)\n",
       "  (8,12)  => Arc(8,12,6000.0,0.209099,917.5718333276523)\n",
       "  ⋮       => ⋮"
      ]
     },
     "execution_count": 16,
     "metadata": {},
     "output_type": "execute_result"
    }
   ],
   "source": [
    "arcsDict[0]"
   ]
  },
  {
   "cell_type": "code",
   "execution_count": 17,
   "metadata": {
    "collapsed": false
   },
   "outputs": [
    {
     "data": {
      "text/plain": [
       "4-element Array{Float64,1}:\n",
       " 1.0 \n",
       " 0.0 \n",
       " 0.0 \n",
       " 0.15"
      ]
     },
     "execution_count": 17,
     "metadata": {},
     "output_type": "execute_result"
    }
   ],
   "source": [
    "deg = 4\n",
    "c = 0.5\n",
    "lam = 100.0\n",
    "\n",
    "coeffs_dict_Apr_PM_ = readall(\"../temp_files/coeffs_dict_Apr_PM.json\")\n",
    "coeffs_dict_Apr_PM_ = JSON.parse(coeffs_dict_Apr_PM_)\n",
    "# fcoeffs = coeffs_dict_Apr_PM_[\"($(deg),$(c),$(lam),1)\"]\n",
    "\n",
    "fcoeffs = [1, 0, 0, .15]"
   ]
  },
  {
   "cell_type": "code",
   "execution_count": 18,
   "metadata": {
    "collapsed": false
   },
   "outputs": [
    {
     "name": "stderr",
     "output_type": "stream",
     "text": [
      "INFO: Loading help data...\n"
     ]
    },
    {
     "data": {
      "image/png": "[encoded data removed]",
      "text/plain": [
       "Figure(PyObject <matplotlib.figure.Figure object at 0x7fc64780c5d0>)"
      ]
     },
     "metadata": {},
     "output_type": "display_data"
    }
   ],
   "source": [
    "using PyPlot\n",
    "\n",
    "est_coeffs = fcoeffs\n",
    "\n",
    "xs = linspace(0, 2, 20)\n",
    "\n",
    "zs = map(x->polyEval(est_coeffs, x), xs)\n",
    "\n",
    "plot(xs, zs, \"^-m\")\n",
    "\n",
    "grid(\"on\")\n",
    "xlim(-0.1, 1.6);\n",
    "ylim(0.9, 1.2);\n",
    "\n",
    "font1 = [\"family\"=>\"serif\",\"color\"=>\"darkred\",\"weight\"=>\"normal\",\"size\"=>14]\n",
    "xlabel(\"Scaled Flow\", fontdict=font1)\n",
    "ylabel(\"Scaled Cost\", fontdict=font1)\n",
    "\n",
    "savefig(\"./results/fitting_MA.pdf\")"
   ]
  },
  {
   "cell_type": "code",
   "execution_count": 19,
   "metadata": {
    "collapsed": false
   },
   "outputs": [],
   "source": [
    "demandsVecDict[1] = demandsDicToVec(demandsDict[1]);\n",
    "objFunDict[1] = objF(demandsVecDict[1], fcoeffs);"
   ]
  },
  {
   "cell_type": "code",
   "execution_count": 20,
   "metadata": {
    "collapsed": false
   },
   "outputs": [],
   "source": [
    "# get initial flow vector (corresponding to initial demands)\n",
    "tapFlowDicDict[1], tapFlowVecDict[1] = tapMSA(demandsDict[1], fcoeffs);\n",
    "\n",
    "demandsVecDict[0] = demandsDicToVec(demandsDict[0]);"
   ]
  },
  {
   "cell_type": "code",
   "execution_count": 21,
   "metadata": {
    "collapsed": false
   },
   "outputs": [],
   "source": [
    "# get arcs data corresponding to initial demands and flows\n",
    "arcsDict[1] = observFlow(\"./benchmark_data/MA_net.txt\", tapFlowDicDict[1]);"
   ]
  },
  {
   "cell_type": "code",
   "execution_count": 22,
   "metadata": {
    "collapsed": false
   },
   "outputs": [],
   "source": [
    "linkCostDicDict[1] = tapFlowVecToLinkCostDict(tapFlowVecDict[1], fcoeffs);"
   ]
  },
  {
   "cell_type": "code",
   "execution_count": 23,
   "metadata": {
    "collapsed": false
   },
   "outputs": [
    {
     "data": {
      "text/plain": [
       "(0.1649898192336673,0.0)"
      ]
     },
     "execution_count": 23,
     "metadata": {},
     "output_type": "execute_result"
    }
   ],
   "source": [
    "linkCostDicDict[1][\"0\"], link_length_list[1]"
   ]
  },
  {
   "cell_type": "code",
   "execution_count": 24,
   "metadata": {
    "collapsed": false
   },
   "outputs": [],
   "source": [
    "jacobiSpiessDict[1] = Compute_Jacobian_MA.jacobianSpiess(numNodes, numLinks, numODpairs, od_pairs, \n",
    "                                              link_list_js, [linkCostDicDict[1][\"$(i)\"] for i=0:numLinks-1]);"
   ]
  },
  {
   "cell_type": "code",
   "execution_count": 25,
   "metadata": {
    "collapsed": true
   },
   "outputs": [],
   "source": [
    "# maximum number of iterations\n",
    "N = 100;  \n",
    "\n",
    "# Armijo rule parameters\n",
    "rho = 2;\n",
    "M = 10;\n",
    "\n",
    "# search direction parameter\n",
    "epsilon_1 = 0;\n",
    "\n",
    "# stop criterion parameter\n",
    "epsilon_2 = 1e-20;"
   ]
  },
  {
   "cell_type": "code",
   "execution_count": 26,
   "metadata": {
    "collapsed": false
   },
   "outputs": [],
   "source": [
    "for l = 1:N\n",
    "    \n",
    "    jacobDict[l] = jacobiSpiessDict[l]\n",
    "\n",
    "    descDirecDict[l] = descDirec(tapFlowVecDict[l], tapFlowVecDict[0], jacobDict[l], numODpairs, numLinks);\n",
    "\n",
    "    demandsVecDict[l] = demandsDicToVec(demandsDict[l]);\n",
    "\n",
    "    searchDirecDict[l] = searchDirec(demandsVecDict[l], descDirecDict[l], epsilon_1);\n",
    "\n",
    "    thetaMaxDict[l] = thetaMax(demandsVecDict[l], searchDirecDict[l]);\n",
    "\n",
    "    demandsVecDict[l+1] = similar(demandsVecDict[0]);\n",
    "    \n",
    "    demandsVecDict[l+1], objFunDict[l+1] = armijo(objFunDict[l], demandsVecDict[l], fcoeffs, searchDirecDict[l], \n",
    "    thetaMaxDict[l], rho, M);\n",
    "            \n",
    "    demandsDict[l+1] = demandsVecToDic(demandsVecDict[l+1]);\n",
    "    \n",
    "    tapFlowDicDict[l+1], tapFlowVecDict[l+1] = tapMSA(demandsDict[l+1], fcoeffs);\n",
    "        \n",
    "    arcsDict[l+1] = observFlow(\"./benchmark_data/MA_net.txt\", tapFlowDicDict[l+1]);\n",
    "        \n",
    "    linkCostDicDict[l+1] = tapFlowVecToLinkCostDict(tapFlowVecDict[l+1], fcoeffs);\n",
    "    \n",
    "    jacobiSpiessDict[l+1] = Compute_Jacobian_MA.jacobianSpiess(numNodes, numLinks, numODpairs, od_pairs, \n",
    "                                              link_list_js, [linkCostDicDict[l+1][\"$(i)\"] for i=0:numLinks-1]);\n",
    "        \n",
    "    demandsDiffDict[l+1] = norm(demandsVecDict[l+1] - demandsVecDict[0]) / norm(demandsVecDict[0]);\n",
    "    \n",
    "    # stopping criterion\n",
    "    if (objFunDict[l] - objFunDict[l+1]) / objFunDict[1] < epsilon_2\n",
    "        break\n",
    "    end\n",
    "  \n",
    "end\n",
    "\n",
    "# normalize objective function value\n",
    "for l = 1:(length(objFunDict))\n",
    "    norObjFunDict[l] = objFunDict[l] / objFunDict[1];\n",
    "end"
   ]
  },
  {
   "cell_type": "code",
   "execution_count": 27,
   "metadata": {
    "collapsed": false
   },
   "outputs": [
    {
     "data": {
      "text/plain": [
       "Dict{Any,Any} with 21 entries:\n",
       "  18 => [2.7011214534173393,64.11112714381733,285.48335137839615,0.0,101.674467…\n",
       "  2  => [0.0,8.194298015027659,337.3282562795663,0.0,13.701816020439942,249.025…\n",
       "  16 => [2.0483164980727717,60.44184492400829,285.92989755703877,0.0,96.2358986…\n",
       "  11 => [0.0,38.857992854571194,292.19639713648337,0.0,63.25714023690994,111.63…\n",
       "  0  => [0.0,0.0,364.030563,0.0,0.0,325.36421,0.0,0.0,0.0,0.0,387.087581,543.74…\n",
       "  7  => [0.0,12.889312283711856,327.8707365633806,0.0,21.413201155849894,221.02…\n",
       "  9  => [0.0,20.310095335678668,315.1928372738682,0.0,33.49901154242475,183.179…\n",
       "  10 => [0.0,22.07610455499057,312.8611151815925,0.0,36.34088032073167,175.9876…\n",
       "  19 => [3.8337080159485817,70.19679297182125,284.8492985971607,0.0,110.6252492…\n",
       "  17 => [2.6813550783191813,64.00478905713788,285.4944820944362,0.0,101.5180300…\n",
       "  8  => [0.0,18.998404972321545,317.0145823835829,0.0,31.38304719399462,188.761…\n",
       "  6  => [0.0,12.292763381770115,328.95355044249203,0.0,20.43856811668011,224.23…\n",
       "  4  => [0.0,9.099085427990001,335.4358721102467,0.0,15.190900066641623,243.420…\n",
       "  3  => [0.0,8.480534981866278,336.7255268983939,0.0,14.173071693016619,247.240…\n",
       "  5  => [0.0,9.25995363269416,335.10762018838784,0.0,15.455304636631563,242.448…\n",
       "  20 => [3.8337080159485817,70.19679297182125,284.8492985971607,0.0,110.6252492…\n",
       "  13 => [0.7889432701879409,51.587543342814755,287.65532631326164,0.0,82.899657…\n",
       "  14 => [1.7353255283030768,58.64790418565493,286.16135921410415,0.0,93.5685754…\n",
       "  15 => [1.921192931673989,59.719526728444954,286.02075528070884,0.0,95.1633905…\n",
       "  12 => [0.16449259325752902,42.964064597525535,290.5510671687504,0.0,69.629249…\n",
       "  1  => [0.0,0.0,364.030563,0.0,0.0,325.36421,0.0,0.0,0.0,0.0,387.087581,543.74…"
      ]
     },
     "execution_count": 27,
     "metadata": {},
     "output_type": "execute_result"
    }
   ],
   "source": [
    "demandsVecDict"
   ]
  },
  {
   "cell_type": "code",
   "execution_count": 28,
   "metadata": {
    "collapsed": false
   },
   "outputs": [
    {
     "data": {
      "text/plain": [
       "Dict{Any,Any} with 20 entries:\n",
       "  18 => 0.11685645782285983\n",
       "  2  => 0.5882706714210775\n",
       "  16 => 0.12281469321811116\n",
       "  11 => 0.18026744912813267\n",
       "  7  => 0.478361047493296\n",
       "  9  => 0.3637023574725201\n",
       "  10 => 0.3406017073035087\n",
       "  19 => 0.10784840892266537\n",
       "  17 => 0.117019820839416\n",
       "  8  => 0.3783819060734307\n",
       "  6  => 0.48974523906185546\n",
       "  4  => 0.5645835094826073\n",
       "  3  => 0.5806562372639943\n",
       "  5  => 0.5604528477405474\n",
       "  20 => 0.10784840892266537\n",
       "  13 => 0.1404169482513499\n",
       "  14 => 0.1258678460550589\n",
       "  15 => 0.12402835871446453\n",
       "  12 => 0.1653652811144667\n",
       "  1  => 1.0"
      ]
     },
     "execution_count": 28,
     "metadata": {},
     "output_type": "execute_result"
    }
   ],
   "source": [
    "norObjFunDict"
   ]
  },
  {
   "cell_type": "code",
   "execution_count": 29,
   "metadata": {
    "collapsed": false
   },
   "outputs": [
    {
     "data": {
      "image/png": "[encoded data removed]",
      "text/plain": [
       "Figure(PyObject <matplotlib.figure.Figure object at 0x7fc647a8fad0>)"
      ]
     },
     "metadata": {},
     "output_type": "display_data"
    }
   ],
   "source": [
    "using PyPlot\n",
    "\n",
    "iterNum = 1:(length(norObjFunDict))\n",
    "\n",
    "objFun = map(iterNum->norObjFunDict[iterNum], iterNum)\n",
    "\n",
    "# plot(iterNum, objFun, \"s-g\", label=\"True\")\n",
    "\n",
    "plot(iterNum, objFun, \"s-b\")\n",
    "\n",
    "# legend(loc=\"upper right\",fancybox=\"true\") \n",
    "\n",
    "grid(\"on\")\n",
    "\n",
    "xlim(.8, length(norObjFunDict) + 1 + .2)\n",
    "ylim(minimum(objFun)-.01, maximum(objFun)+.01)\n",
    "\n",
    "font1 = [\"family\"=>\"serif\", \"color\"=>\"darkred\", \"weight\"=>\"normal\", \"size\"=>14]\n",
    "\n",
    "xlabel(\"Number of iterations\", fontdict=font1)\n",
    "ylabel(\"Normalized objective function value (biLev)\", fontdict=font1)\n",
    "\n",
    "savefig(\"./results/objFun_biLev_MA.pdf\")"
   ]
  },
  {
   "cell_type": "code",
   "execution_count": 30,
   "metadata": {
    "collapsed": false
   },
   "outputs": [
    {
     "data": {
      "image/png": "[encoded data removed]",
      "text/plain": [
       "Figure(PyObject <matplotlib.figure.Figure object at 0x7fc647293dd0>)"
      ]
     },
     "metadata": {},
     "output_type": "display_data"
    }
   ],
   "source": [
    "using PyPlot\n",
    "\n",
    "iterNum = 1:(length(demandsDiffDict))\n",
    "\n",
    "demandsDiff = map(iterNum->demandsDiffDict[iterNum], iterNum)\n",
    "\n",
    "# plot(iterNum, objFun, \"s-g\", label=\"True\")\n",
    "\n",
    "plot(iterNum, demandsDiff, \"o-g\")\n",
    "\n",
    "# legend(loc=\"upper right\",fancybox=\"true\") \n",
    "\n",
    "grid(\"on\")\n",
    "\n",
    "xlim(.8, length(demandsDiffDict) + 1 + .2)\n",
    "ylim(minimum(demandsDiff)-.01, maximum(demandsDiff)+.01)\n",
    "\n",
    "font1 = [\"family\"=>\"serif\", \"color\"=>\"darkred\", \"weight\"=>\"normal\", \"size\"=>14]\n",
    "\n",
    "xlabel(\"Number of iterations\", fontdict=font1)\n",
    "ylabel(\"Normalized demand difference\", fontdict=font1)\n",
    "\n",
    "savefig(\"./results/demandsDiff_biLev_MA.pdf\")"
   ]
  },
  {
   "cell_type": "code",
   "execution_count": 31,
   "metadata": {
    "collapsed": false
   },
   "outputs": [],
   "source": [
    "outfile = open(\"./results/norObjFunDict.json\", \"w\")\n",
    "\n",
    "JSON.print(outfile, norObjFunDict)\n",
    "\n",
    "close(outfile)"
   ]
  },
  {
   "cell_type": "code",
   "execution_count": 32,
   "metadata": {
    "collapsed": false
   },
   "outputs": [],
   "source": [
    "outfile = open(\"./results/demandsDiffDict.json\", \"w\")\n",
    "\n",
    "JSON.print(outfile, demandsDiffDict)\n",
    "\n",
    "close(outfile)"
   ]
  },
  {
   "cell_type": "code",
   "execution_count": 33,
   "metadata": {
    "collapsed": false
   },
   "outputs": [],
   "source": [
    "outfile = open(\"./results/demandsVecDict.json\", \"w\")\n",
    "\n",
    "JSON.print(outfile, demandsVecDict)\n",
    "\n",
    "close(outfile)"
   ]
  },
  {
   "cell_type": "code",
   "execution_count": 34,
   "metadata": {
    "collapsed": false
   },
   "outputs": [],
   "source": [
    "outfile = open(\"./results/demandsDict$(day).json\", \"w\")\n",
    "\n",
    "JSON.print(outfile, demandsDict)\n",
    "\n",
    "close(outfile)"
   ]
  },
  {
   "cell_type": "code",
   "execution_count": 35,
   "metadata": {
    "collapsed": false
   },
   "outputs": [],
   "source": [
    "outfile = open(\"./results/tapFlowDicDict.json\", \"w\")\n",
    "\n",
    "JSON.print(outfile, tapFlowDicDict)\n",
    "\n",
    "close(outfile)"
   ]
  },
  {
   "cell_type": "code",
   "execution_count": 36,
   "metadata": {
    "collapsed": false
   },
   "outputs": [],
   "source": [
    "outfile = open(\"./results/tapFlowVecDict.json\", \"w\")\n",
    "\n",
    "JSON.print(outfile, tapFlowVecDict)\n",
    "\n",
    "close(outfile)"
   ]
  },
  {
   "cell_type": "code",
   "execution_count": 37,
   "metadata": {
    "collapsed": false
   },
   "outputs": [
    {
     "data": {
      "text/plain": [
       "Dict{(Int64,Int64),Float64} with 484 entries:\n",
       "  (6,9)   => 0.0\n",
       "  (18,3)  => 24.547818301506833\n",
       "  (21,13) => 15.716980355636936\n",
       "  (22,16) => 0.0\n",
       "  (15,17) => 24.19880198985159\n",
       "  (22,14) => 0.0\n",
       "  (13,9)  => 2.719096498171676\n",
       "  (8,9)   => 0.0\n",
       "  (9,1)   => 0.0\n",
       "  (17,14) => 308.1167151933829\n",
       "  (16,6)  => 0.0\n",
       "  (16,12) => 220.0534254881345\n",
       "  (16,13) => 721.782217809197\n",
       "  (22,2)  => 0.0\n",
       "  (7,16)  => 429.73343633431944\n",
       "  (1,12)  => 300.29233000247325\n",
       "  (4,5)   => 0.0\n",
       "  (11,8)  => 48.0955147754518\n",
       "  (18,21) => 0.0\n",
       "  (19,4)  => 0.0\n",
       "  (20,13) => 14.205542939245273\n",
       "  (15,4)  => 31.163752711433375\n",
       "  (6,18)  => 0.5146118119300102\n",
       "  (5,16)  => 0.0\n",
       "  (4,9)   => 0.0\n",
       "  ⋮       => ⋮"
      ]
     },
     "execution_count": 37,
     "metadata": {},
     "output_type": "execute_result"
    }
   ],
   "source": [
    "demandsDict[length(demandsDict)-1]"
   ]
  },
  {
   "cell_type": "code",
   "execution_count": 38,
   "metadata": {
    "collapsed": true
   },
   "outputs": [],
   "source": [
    "outfile = open(\"./results/demandsDictFixed.json\", \"w\")\n",
    "\n",
    "JSON.print(outfile, demandsDict[length(demandsDict)-1])\n",
    "\n",
    "close(outfile)"
   ]
  },
  {
   "cell_type": "code",
   "execution_count": null,
   "metadata": {
    "collapsed": true
   },
   "outputs": [],
   "source": []
  }
 ],
 "metadata": {
  "kernelspec": {
   "display_name": "Julia 0.3.7",
   "language": "julia",
   "name": "julia-0.3"
  },
  "language_info": {
   "file_extension": ".jl",
   "mimetype": "application/julia",
   "name": "julia",
   "version": "0.3.7"
  }
 },
 "nbformat": 4,
 "nbformat_minor": 0
}
