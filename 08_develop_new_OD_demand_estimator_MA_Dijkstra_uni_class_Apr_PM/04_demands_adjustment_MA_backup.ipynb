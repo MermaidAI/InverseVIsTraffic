{
 "cells": [
  {
   "cell_type": "code",
   "execution_count": 41,
   "metadata": {
    "collapsed": false
   },
   "outputs": [],
   "source": [
    "using PyCall\n",
    "unshift!(PyVector(pyimport(\"sys\")[\"path\"]), \"\");\n",
    "@pyimport Compute_Jacobian_MA\n",
    "@pyimport GLS_Apr_weekday_PM_ext"
   ]
  },
  {
   "cell_type": "code",
   "execution_count": 42,
   "metadata": {
    "collapsed": false
   },
   "outputs": [
    {
     "data": {
      "text/plain": [
       "74x30 Array{Float64,2}:\n",
       " 1366.35    791.95    771.324  …  1015.01        1624.03     280.272\n",
       " 1206.76    992.338   991.158     1000.59        1273.13     570.559\n",
       " 2114.24   1499.68   1200.6       1171.78        1608.83     947.273\n",
       " 2273.84   1299.3     980.768     1186.21        1959.73     656.986\n",
       "   58.465   201.97    271.021       86.5748        40.0646   261.282\n",
       "  139.064   247.675   201.826  …    23.5801       146.69     143.578\n",
       " 1193.7    1571.81   1353.56       781.132       1109.21    1362.48 \n",
       "  953.514  1726.49   1642.59       829.701        651.679   1770.47 \n",
       " 2124.9    1398.79    938.436     1533.92        1629.54    1007.64 \n",
       " 2365.09   1244.1     649.406     1485.35        2087.07     599.646\n",
       "  406.406   514.047   567.011  …   469.666        455.737    655.187\n",
       "  281.997  1677.2    1591.06       204.042        239.965   1660.44 \n",
       "  204.522   246.959  1020.38         1.2451e-13   268.26    1131.08 \n",
       "    ⋮                          ⋱                                    \n",
       "  817.703  3694.71   4035.01       539.09         517.807   4749.93 \n",
       "  654.675  2893.16   2792.29       121.487        649.479   2740.0  \n",
       "  348.819   435.247   540.454      151.217        334.718    811.411\n",
       "  247.996  1766.27   1758.33   …   419.879        319.617   1306.56 \n",
       "  198.088  3603.02   3166.73       324.488        200.642   3347.82 \n",
       "  198.088  3603.02   3166.73       324.488        200.642   3347.82 \n",
       "  243.615  1577.0    2095.88       113.091         82.1073  3797.05 \n",
       "  243.615  1577.0    2095.88       113.091         82.1073  3797.05 \n",
       " 1232.85    270.493   238.254  …   302.312       1071.01     126.3  \n",
       " 1451.18   1767.05   1333.95       662.65        1072.97    1191.85 \n",
       " 1589.53   2116.41   1833.29      1010.19        1115.65    1281.76 \n",
       " 1371.21    619.855   737.593      649.854       1113.68     216.21 "
      ]
     },
     "execution_count": 42,
     "metadata": {},
     "output_type": "execute_result"
    }
   ],
   "source": [
    "numNodes = Compute_Jacobian_MA.numNodes;\n",
    "numLinks = Compute_Jacobian_MA.numLinks;\n",
    "numODpairs = Compute_Jacobian_MA.numODpairs;\n",
    "numZones = Compute_Jacobian_MA.numZones\n",
    "od_pairs = Compute_Jacobian_MA.od_pairs;\n",
    "link_list_js = Compute_Jacobian_MA.link_list_js;\n",
    "link_length_list = Compute_Jacobian_MA.link_length_list;\n",
    "\n",
    "flow_observ = GLS_Apr_weekday_PM_ext.x_"
   ]
  },
  {
   "cell_type": "code",
   "execution_count": 43,
   "metadata": {
    "collapsed": false
   },
   "outputs": [],
   "source": [
    "require(\"../Julia_files/initia_data.jl\");\n",
    "require(\"prepare_data_MA.jl\");\n",
    "require(\"extract_data_MA.jl\");\n",
    "require(\"../Julia_files/tap_MSA.jl\");\n",
    "require(\"../Julia_files/inverseVI.jl\");\n",
    "require(\"../Julia_files/demands_adjustment_gradi.jl\");"
   ]
  },
  {
   "cell_type": "code",
   "execution_count": 44,
   "metadata": {
    "collapsed": false
   },
   "outputs": [],
   "source": [
    "demandsDict_ = readall(\"../08_develop_new_OD_demand_estimator_MA_Dijkstra_uni_class_Apr_PM/results/demandsDict.json\");\n",
    "demandsDict_ = JSON.parse(demandsDict_);"
   ]
  },
  {
   "cell_type": "code",
   "execution_count": 46,
   "metadata": {
    "collapsed": false
   },
   "outputs": [
    {
     "data": {
      "text/plain": [
       "Dict{UTF8String,Any} with 25 entries:\n",
       "  \"24\" => [\"(16,1)\"=>59.27506785481917,\"(11,20)\"=>0.838315668507335,\"(2,8)\"=>0.…\n",
       "  \"4\"  => [\"(16,1)\"=>349.1092878585743,\"(11,20)\"=>0.0,\"(2,8)\"=>0.0,\"(3,22)\"=>0.…\n",
       "  \"1\"  => [\"(16,1)\"=>431.090006,\"(11,20)\"=>0.0,\"(2,8)\"=>0.0,\"(3,22)\"=>0.0,\"(20,…\n",
       "  \"12\" => [\"(16,1)\"=>279.0283250220699,\"(11,20)\"=>0.0,\"(2,8)\"=>0.0,\"(3,22)\"=>0.…\n",
       "  \"20\" => [\"(16,1)\"=>94.59165589946927,\"(11,20)\"=>0.0,\"(2,8)\"=>0.0,\"(3,22)\"=>0.…\n",
       "  \"2\"  => [\"(16,1)\"=>356.96904796431033,\"(11,20)\"=>0.0,\"(2,8)\"=>0.0,\"(3,22)\"=>0…\n",
       "  \"6\"  => [\"(16,1)\"=>341.03045449064666,\"(11,20)\"=>0.0,\"(2,8)\"=>0.0,\"(3,22)\"=>0…\n",
       "  \"23\" => [\"(16,1)\"=>59.27506785481917,\"(11,20)\"=>0.838315668507335,\"(2,8)\"=>0.…\n",
       "  \"22\" => [\"(16,1)\"=>60.53141855601142,\"(11,20)\"=>0.7529767334679967,\"(2,8)\"=>0…\n",
       "  \"11\" => [\"(16,1)\"=>283.87525035299217,\"(11,20)\"=>0.0,\"(2,8)\"=>0.0,\"(3,22)\"=>0…\n",
       "  \"13\" => [\"(16,1)\"=>267.25807567224774,\"(11,20)\"=>0.0,\"(2,8)\"=>0.0,\"(3,22)\"=>0…\n",
       "  \"5\"  => [\"(16,1)\"=>343.3869629988698,\"(11,20)\"=>0.0,\"(2,8)\"=>0.0,\"(3,22)\"=>0.…\n",
       "  \"15\" => [\"(16,1)\"=>260.989792271706,\"(11,20)\"=>0.0,\"(2,8)\"=>0.0,\"(3,22)\"=>0.0…\n",
       "  \"16\" => [\"(16,1)\"=>236.02689609427165,\"(11,20)\"=>0.0,\"(2,8)\"=>0.0,\"(3,22)\"=>0…\n",
       "  \"14\" => [\"(16,1)\"=>262.3994654173959,\"(11,20)\"=>0.0,\"(2,8)\"=>0.0,\"(3,22)\"=>0.…\n",
       "  \"21\" => [\"(16,1)\"=>66.1730018814379,\"(11,20)\"=>0.4207535865323553,\"(2,8)\"=>0.…\n",
       "  \"7\"  => [\"(16,1)\"=>337.8881308371978,\"(11,20)\"=>0.0,\"(2,8)\"=>0.0,\"(3,22)\"=>0.…\n",
       "  \"8\"  => [\"(16,1)\"=>306.37322969932427,\"(11,20)\"=>0.0,\"(2,8)\"=>0.0,\"(3,22)\"=>0…\n",
       "  \"17\" => [\"(16,1)\"=>214.59371111829813,\"(11,20)\"=>0.0,\"(2,8)\"=>0.0,\"(3,22)\"=>0…\n",
       "  \"10\" => [\"(16,1)\"=>284.1911546504623,\"(11,20)\"=>0.0,\"(2,8)\"=>0.0,\"(3,22)\"=>0.…\n",
       "  \"0\"  => [\"(16,1)\"=>431.090006,\"(11,20)\"=>0.0,\"(2,8)\"=>0.0,\"(3,22)\"=>0.0,\"(20,…\n",
       "  \"19\" => [\"(16,1)\"=>109.4312312250808,\"(11,20)\"=>0.0,\"(2,8)\"=>0.0,\"(3,22)\"=>0.…\n",
       "  \"18\" => [\"(16,1)\"=>202.04223083006514,\"(11,20)\"=>0.0,\"(2,8)\"=>0.0,\"(3,22)\"=>0…\n",
       "  \"9\"  => [\"(16,1)\"=>299.5155937254741,\"(11,20)\"=>0.0,\"(2,8)\"=>0.0,\"(3,22)\"=>0.…\n",
       "  \"3\"  => [\"(16,1)\"=>352.74496908916853,\"(11,20)\"=>0.0,\"(2,8)\"=>0.0,\"(3,22)\"=>0…"
      ]
     },
     "execution_count": 46,
     "metadata": {},
     "output_type": "execute_result"
    }
   ],
   "source": [
    "demandsDict_"
   ]
  },
  {
   "cell_type": "code",
   "execution_count": 5,
   "metadata": {
    "collapsed": false
   },
   "outputs": [],
   "source": [
    "demandsDict__ = demandsDict_[\"24\"]\n",
    "\n",
    "_demandsDict__ = Dict()\n",
    "\n",
    "for key_ in keys(demandsDict__)\n",
    "    key = (int(split(split(key_, \",\")[1], \"(\")[2]),int(split(split(key_, \",\")[2], \")\")[1]))\n",
    "    _demandsDict__[key] = demandsDict__[key_]\n",
    "end"
   ]
  },
  {
   "cell_type": "code",
   "execution_count": 6,
   "metadata": {
    "collapsed": false
   },
   "outputs": [
    {
     "data": {
      "text/plain": [
       "Dict{Any,Any} with 484 entries:\n",
       "  (6,9)   => 0.0\n",
       "  (18,3)  => 54.44751975676304\n",
       "  (21,13) => 11.723222210366636\n",
       "  (22,16) => 0.0\n",
       "  (15,17) => 43.854936347305944\n",
       "  (22,14) => 0.0\n",
       "  (13,9)  => 0.17301819788850809\n",
       "  (8,9)   => 0.0\n",
       "  (17,14) => 383.84355492021365\n",
       "  (9,1)   => 0.0\n",
       "  (16,6)  => 0.0\n",
       "  (16,12) => 297.72321415990035\n",
       "  (16,13) => 733.4176859643633\n",
       "  (22,2)  => 0.0\n",
       "  (7,16)  => 459.80532550548673\n",
       "  (1,12)  => 363.1561006344279\n",
       "  (11,8)  => 30.991240287021498\n",
       "  (19,4)  => 0.0\n",
       "  (18,21) => 0.0\n",
       "  (4,5)   => 3.7418817398365514\n",
       "  (20,13) => 7.81392696304233\n",
       "  (15,4)  => 76.59974560941168\n",
       "  (6,18)  => 0.0\n",
       "  (5,16)  => 0.0\n",
       "  (4,9)   => 0.0\n",
       "  ⋮       => ⋮"
      ]
     },
     "execution_count": 6,
     "metadata": {},
     "output_type": "execute_result"
    }
   ],
   "source": [
    "_demandsDict__"
   ]
  },
  {
   "cell_type": "code",
   "execution_count": 7,
   "metadata": {
    "collapsed": false
   },
   "outputs": [],
   "source": [
    "# demandsDict[0] = _demandsDict__;\n",
    "# demandsDict[1] = _demandsDict__;"
   ]
  },
  {
   "cell_type": "code",
   "execution_count": 8,
   "metadata": {
    "collapsed": false
   },
   "outputs": [
    {
     "data": {
      "text/plain": [
       "Dict{Int64,Dict{(Int64,Int64),Float64}} with 2 entries:\n",
       "  0 => [(6,9)=>0.0,(18,3)=>0.0,(21,13)=>0.0,(22,16)=>0.0,(15,17)=>0.0,(22,14)=>…\n",
       "  1 => [(6,9)=>0.0,(18,3)=>0.0,(21,13)=>0.0,(22,16)=>0.0,(15,17)=>0.0,(22,14)=>…"
      ]
     },
     "execution_count": 8,
     "metadata": {},
     "output_type": "execute_result"
    }
   ],
   "source": [
    "demandsDict"
   ]
  },
  {
   "cell_type": "code",
   "execution_count": 9,
   "metadata": {
    "collapsed": false
   },
   "outputs": [],
   "source": [
    "demandsDiffDict[1] = norm(demandsDicToVec(demandsDict[1]) - demandsDicToVec(demandsDict[0]))/\n",
    "                     norm(demandsDicToVec(demandsDict[0]));"
   ]
  },
  {
   "cell_type": "code",
   "execution_count": 10,
   "metadata": {
    "collapsed": false
   },
   "outputs": [
    {
     "data": {
      "text/plain": [
       "0.0"
      ]
     },
     "execution_count": 10,
     "metadata": {},
     "output_type": "execute_result"
    }
   ],
   "source": [
    "demandsDiffDict[1]"
   ]
  },
  {
   "cell_type": "code",
   "execution_count": 11,
   "metadata": {
    "collapsed": false
   },
   "outputs": [
    {
     "data": {
      "text/plain": [
       "4"
      ]
     },
     "execution_count": 11,
     "metadata": {},
     "output_type": "execute_result"
    }
   ],
   "source": [
    "week_day_Apr_list = [2, 3, 4, 5, 6, 9, 10, 11, 12, 13, 16, 17, 18, 19, 20, 23, 24, 25, 26, 27, 30]\n",
    "\n",
    "day = 4  # day of April"
   ]
  },
  {
   "cell_type": "code",
   "execution_count": 12,
   "metadata": {
    "collapsed": false
   },
   "outputs": [
    {
     "data": {
      "text/plain": [
       "74-element Array{Float64,1}:\n",
       "  670.778      \n",
       "  853.349      \n",
       " 1060.04       \n",
       "  877.468      \n",
       "  131.596      \n",
       "  291.072      \n",
       " 3260.38       \n",
       " 3283.47       \n",
       "  845.102      \n",
       "  822.006      \n",
       "  767.379      \n",
       " 1433.26       \n",
       "  761.825      \n",
       "    ⋮          \n",
       " 3753.7        \n",
       " 2875.22       \n",
       "  566.886      \n",
       " 1653.71       \n",
       " 3334.35       \n",
       " 3334.35       \n",
       " 1601.26       \n",
       " 1601.26       \n",
       "    4.07146e-14\n",
       " 1524.74       \n",
       " 2091.82       \n",
       "  567.087      "
      ]
     },
     "execution_count": 12,
     "metadata": {},
     "output_type": "execute_result"
    }
   ],
   "source": [
    "# observed flow vector\n",
    "xl = flow_observ[:, day]"
   ]
  },
  {
   "cell_type": "code",
   "execution_count": 13,
   "metadata": {
    "collapsed": false
   },
   "outputs": [],
   "source": [
    "tapFlows = Dict{(Int64,Int64),Float64}()\n",
    "\n",
    "for i = 1:length(ta_data.start_node)\n",
    "    key = (ta_data.start_node[i], ta_data.end_node[i])\n",
    "    tapFlows[key] = xl[i]\n",
    "end\n",
    "\n",
    "tapFlowVect = xl;"
   ]
  },
  {
   "cell_type": "code",
   "execution_count": 14,
   "metadata": {
    "collapsed": false
   },
   "outputs": [],
   "source": [
    "# get observed flow vector (corresponding to ground truth demands and ground truth costs)\n",
    "tapFlowDicDict[0], tapFlowVecDict[0] = tapFlows, tapFlowVect;"
   ]
  },
  {
   "cell_type": "code",
   "execution_count": 15,
   "metadata": {
    "collapsed": false
   },
   "outputs": [],
   "source": [
    "# get arcs data corresponding to ground truth demands and flows\n",
    "arcsDict[0] = observFlow(\"./benchmark_data/MA_net.txt\", tapFlowDicDict[0]);"
   ]
  },
  {
   "cell_type": "code",
   "execution_count": 16,
   "metadata": {
    "collapsed": false
   },
   "outputs": [
    {
     "data": {
      "text/plain": [
       "Dict{(Int64,Int64),Arc} with 74 entries:\n",
       "  (17,15) => Arc(17,15,5941.509547,0.243392,1524.7372078126627)\n",
       "  (3,6)   => Arc(3,6,6438.424264,0.117963,845.1023567531454)\n",
       "  (21,13) => Arc(21,13,2068.636909,0.103075,1874.8142676463601)\n",
       "  (22,16) => Arc(22,16,5826.794762,0.118731,3334.348548035745)\n",
       "  (19,12) => Arc(19,12,5540.728327,0.069605,864.3666247282215)\n",
       "  (22,14) => Arc(22,14,4285.78757,0.079134,1601.2607167512951)\n",
       "  (15,17) => Arc(15,17,5726.051257,0.245197,4.071464559420785e-14)\n",
       "  (10,11) => Arc(10,11,2934.51529,0.211194,739.5315998316221)\n",
       "  (13,12) => Arc(13,12,918.190114,0.474671,911.5693968305377)\n",
       "  (3,1)   => Arc(3,1,8000.0,0.179745,877.4680403816698)\n",
       "  (16,13) => Arc(16,13,6695.591725,0.169855,2875.2208159090956)\n",
       "  (4,5)   => Arc(4,5,6000.0,0.043136,3161.385436712397)\n",
       "  (13,16) => Arc(13,16,6242.577967,0.158994,3753.6979842289147)\n",
       "  (17,16) => Arc(17,16,5877.602649,0.208304,567.0874024857847)\n",
       "  (20,13) => Arc(20,13,2251.546038,0.137259,1623.0029342062708)\n",
       "  (12,8)  => Arc(12,8,6000.0,0.212578,2943.9071486078155)\n",
       "  (2,4)   => Arc(2,4,6000.0,0.109833,3260.3782390762326)\n",
       "  (16,17) => Arc(16,17,6000.0,0.194284,2091.824610298447)\n",
       "  (1,2)   => Arc(1,2,5770.740094,0.161995,670.7777814908055)\n",
       "  (14,21) => Arc(14,21,2068.636909,0.154612,1874.8142676463601)\n",
       "  (2,3)   => Arc(2,3,845.09165,0.34941,131.59630656691616)\n",
       "  (13,19) => Arc(13,19,5540.728327,0.104407,864.3666247282215)\n",
       "  (13,14) => Arc(13,14,5666.32431,0.157933,2759.1054406519993)\n",
       "  (16,14) => Arc(16,14,1790.182665,0.384494,1653.7136046568955)\n",
       "  (8,12)  => Arc(8,12,6000.0,0.209099,2915.944704866014)\n",
       "  ⋮       => ⋮"
      ]
     },
     "execution_count": 16,
     "metadata": {},
     "output_type": "execute_result"
    }
   ],
   "source": [
    "arcsDict[0]"
   ]
  },
  {
   "cell_type": "code",
   "execution_count": 17,
   "metadata": {
    "collapsed": false
   },
   "outputs": [
    {
     "data": {
      "text/plain": [
       "7-element Array{Any,1}:\n",
       "  1.0        \n",
       "  0.000382575\n",
       "  0.0334924  \n",
       " -0.0260378  \n",
       "  0.111007   \n",
       " -0.0319598  \n",
       "  0.0227808  "
      ]
     },
     "execution_count": 17,
     "metadata": {},
     "output_type": "execute_result"
    }
   ],
   "source": [
    "deg = 6\n",
    "c = 0.4\n",
    "lam = 100.0\n",
    "\n",
    "coeffs_dict_Apr_PM_ = readall(\"../temp_files/coeffs_dict_Apr_PM.json\")\n",
    "coeffs_dict_Apr_PM_ = JSON.parse(coeffs_dict_Apr_PM_)\n",
    "fcoeffs = coeffs_dict_Apr_PM_[\"($(deg),$(c),$(lam),1)\"]\n",
    "\n",
    "# fcoeffs = [1, 0, 0, .15]"
   ]
  },
  {
   "cell_type": "code",
   "execution_count": 18,
   "metadata": {
    "collapsed": false
   },
   "outputs": [
    {
     "name": "stderr",
     "output_type": "stream",
     "text": [
      "INFO: Loading help data...\n"
     ]
    },
    {
     "data": {
      "image/png": "[encoded data removed]",
      "text/plain": [
       "Figure(PyObject <matplotlib.figure.Figure object at 0x7fab9c1dfe90>)"
      ]
     },
     "metadata": {},
     "output_type": "display_data"
    }
   ],
   "source": [
    "using PyPlot\n",
    "\n",
    "est_coeffs = fcoeffs\n",
    "\n",
    "xs = linspace(0, 2, 20)\n",
    "\n",
    "zs = map(x->polyEval(est_coeffs, x), xs)\n",
    "\n",
    "plot(xs, zs, \"^-m\")\n",
    "\n",
    "grid(\"on\")\n",
    "xlim(-0.1, 1.2);\n",
    "ylim(0.9, 1.4);\n",
    "\n",
    "font1 = [\"family\"=>\"serif\",\"color\"=>\"darkred\",\"weight\"=>\"normal\",\"size\"=>14]\n",
    "xlabel(\"Scaled Flow\", fontdict=font1)\n",
    "ylabel(\"Scaled Cost\", fontdict=font1)\n",
    "\n",
    "savefig(\"./results/fitting_MA.pdf\")"
   ]
  },
  {
   "cell_type": "code",
   "execution_count": 19,
   "metadata": {
    "collapsed": false
   },
   "outputs": [],
   "source": [
    "demandsVecDict[1] = demandsDicToVec(demandsDict[1]);\n",
    "objFunDict[1] = objF(demandsVecDict[1], fcoeffs);"
   ]
  },
  {
   "cell_type": "code",
   "execution_count": 20,
   "metadata": {
    "collapsed": false
   },
   "outputs": [],
   "source": [
    "# get initial flow vector (corresponding to initial demands)\n",
    "tapFlowDicDict[1], tapFlowVecDict[1] = tapMSA(demandsDict[1], fcoeffs);\n",
    "\n",
    "demandsVecDict[0] = demandsDicToVec(demandsDict[0]);"
   ]
  },
  {
   "cell_type": "code",
   "execution_count": 21,
   "metadata": {
    "collapsed": false
   },
   "outputs": [],
   "source": [
    "# get arcs data corresponding to initial demands and flows\n",
    "arcsDict[1] = observFlow(\"./benchmark_data/MA_net.txt\", tapFlowDicDict[1]);"
   ]
  },
  {
   "cell_type": "code",
   "execution_count": 22,
   "metadata": {
    "collapsed": false
   },
   "outputs": [],
   "source": [
    "linkCostDicDict[1] = tapFlowVecToLinkCostDict(tapFlowVecDict[1], fcoeffs);"
   ]
  },
  {
   "cell_type": "code",
   "execution_count": 23,
   "metadata": {
    "collapsed": false
   },
   "outputs": [
    {
     "data": {
      "text/plain": [
       "(0.163850651900163,0.0)"
      ]
     },
     "execution_count": 23,
     "metadata": {},
     "output_type": "execute_result"
    }
   ],
   "source": [
    "linkCostDicDict[1][\"0\"], link_length_list[1]"
   ]
  },
  {
   "cell_type": "code",
   "execution_count": 24,
   "metadata": {
    "collapsed": false
   },
   "outputs": [],
   "source": [
    "jacobiSpiessDict[1] = Compute_Jacobian_MA.jacobianSpiess(numNodes, numLinks, numODpairs, od_pairs, \n",
    "                                              link_list_js, [linkCostDicDict[1][\"$(i)\"] for i=0:numLinks-1]);"
   ]
  },
  {
   "cell_type": "code",
   "execution_count": 25,
   "metadata": {
    "collapsed": true
   },
   "outputs": [],
   "source": [
    "# maximum number of iterations\n",
    "N = 100;  \n",
    "\n",
    "# Armijo rule parameters\n",
    "rho = 2;\n",
    "M = 10;\n",
    "\n",
    "# search direction parameter\n",
    "epsilon_1 = 0;\n",
    "\n",
    "# stop criterion parameter\n",
    "epsilon_2 = 1e-20;"
   ]
  },
  {
   "cell_type": "code",
   "execution_count": 26,
   "metadata": {
    "collapsed": false
   },
   "outputs": [],
   "source": [
    "for l = 1:N\n",
    "    \n",
    "    jacobDict[l] = jacobiSpiessDict[l]\n",
    "\n",
    "    descDirecDict[l] = descDirec(tapFlowVecDict[l], tapFlowVecDict[0], jacobDict[l], numODpairs, numLinks);\n",
    "\n",
    "    demandsVecDict[l] = demandsDicToVec(demandsDict[l]);\n",
    "\n",
    "    searchDirecDict[l] = searchDirec(demandsVecDict[l], descDirecDict[l], epsilon_1);\n",
    "\n",
    "    thetaMaxDict[l] = thetaMax(demandsVecDict[l], searchDirecDict[l]);\n",
    "\n",
    "    demandsVecDict[l+1] = similar(demandsVecDict[0]);\n",
    "    \n",
    "    demandsVecDict[l+1], objFunDict[l+1] = armijo(objFunDict[l], demandsVecDict[l], fcoeffs, searchDirecDict[l], \n",
    "    thetaMaxDict[l], rho, M);\n",
    "            \n",
    "    demandsDict[l+1] = demandsVecToDic(demandsVecDict[l+1]);\n",
    "    \n",
    "    tapFlowDicDict[l+1], tapFlowVecDict[l+1] = tapMSA(demandsDict[l+1], fcoeffs);\n",
    "        \n",
    "    arcsDict[l+1] = observFlow(\"./benchmark_data/MA_net.txt\", tapFlowDicDict[l+1]);\n",
    "        \n",
    "    linkCostDicDict[l+1] = tapFlowVecToLinkCostDict(tapFlowVecDict[l+1], fcoeffs);\n",
    "    \n",
    "    jacobiSpiessDict[l+1] = Compute_Jacobian_MA.jacobianSpiess(numNodes, numLinks, numODpairs, od_pairs, \n",
    "                                              link_list_js, [linkCostDicDict[l+1][\"$(i)\"] for i=0:numLinks-1]);\n",
    "        \n",
    "    demandsDiffDict[l+1] = norm(demandsVecDict[l+1] - demandsVecDict[0]) / norm(demandsVecDict[0]);\n",
    "    \n",
    "    # stopping criterion\n",
    "    if (objFunDict[l] - objFunDict[l+1]) / objFunDict[1] < epsilon_2\n",
    "        break\n",
    "    end\n",
    "  \n",
    "end\n",
    "\n",
    "# normalize objective function value\n",
    "for l = 1:(length(objFunDict))\n",
    "    norObjFunDict[l] = objFunDict[l] / objFunDict[1];\n",
    "end"
   ]
  },
  {
   "cell_type": "code",
   "execution_count": 27,
   "metadata": {
    "collapsed": false
   },
   "outputs": [
    {
     "data": {
      "text/plain": [
       "Dict{Any,Any} with 25 entries:\n",
       "  18 => [0.0,23.26572921868391,330.70579361709565,3.283013238242977,36.12585985…\n",
       "  2  => [0.0,13.78844300803873,340.45468170558695,6.535259779828803,24.78109286…\n",
       "  16 => [0.0,21.58908488120082,332.2287699121984,3.7079449411366325,34.25755105…\n",
       "  11 => [0.0,18.43579906203437,335.3162602629394,4.664043236828911,30.585474582…\n",
       "  21 => [0.0,25.920291122439476,328.42554074012077,2.6954725838156985,38.987432…\n",
       "  0  => [0.0,0.0,364.030563,0.0,0.0,325.36421,0.0,0.0,0.0,0.0,387.087581,543.74…\n",
       "  7  => [0.0,15.459127761986792,338.5228708668434,5.7929866456580585,26.9219031…\n",
       "  9  => [0.0,16.656775064832956,337.1968741266899,5.30974988726973,28.419315635…\n",
       "  10 => [0.0,17.639136516188064,336.1440583393644,4.94169158665065,29.624962167…\n",
       "  19 => [0.0,23.621097222463455,330.3957801264812,3.201403044462903,36.51249181…\n",
       "  17 => [0.0,22.703038910846928,331.2052205920532,3.4175530993911694,35.5073402…\n",
       "  8  => [0.0,15.662506684388992,338.296506701669,5.709956232009555,27.176955662…\n",
       "  22 => [0.0,26.963793950877275,327.58767043743654,2.5009279765987076,40.068362…\n",
       "  6  => [0.0,15.370533623829449,338.62175032349364,5.829378201891663,26.8106234…\n",
       "  24 => [0.0,27.106846483116012,327.4764398883995,2.476533721000899,40.21373945…\n",
       "  4  => [0.0,14.099221190283235,340.09083373291816,6.393416033278434,25.1821402…\n",
       "  3  => [0.0,13.928653033954355,340.2901312138019,6.470931085474486,24.96227638…\n",
       "  5  => [0.0,15.151619224533071,338.86775819399924,5.920677466285066,26.5345752…\n",
       "  20 => [0.0,25.66226003106145,328.63435500660313,2.7445997935950395,38.7188909…\n",
       "  23 => [0.0,27.106846483116012,327.4764398883995,2.476533721000899,40.21373945…\n",
       "  13 => [0.0,19.739318021440532,333.9970690312613,4.237609444438755,32.13321048…\n",
       "  14 => [0.0,20.492089425884622,333.26466265739606,4.013196600588016,33.0067633…\n",
       "  15 => [0.0,21.298417543338868,332.4982378053084,3.785366835955269,33.92971095…\n",
       "  12 => [0.0,18.486636845752358,335.2647339670689,4.6473518136060195,30.6458900…\n",
       "  1  => [0.0,0.0,364.030563,0.0,0.0,325.36421,0.0,0.0,0.0,0.0,387.087581,543.74…"
      ]
     },
     "execution_count": 27,
     "metadata": {},
     "output_type": "execute_result"
    }
   ],
   "source": [
    "demandsVecDict"
   ]
  },
  {
   "cell_type": "code",
   "execution_count": 28,
   "metadata": {
    "collapsed": false
   },
   "outputs": [
    {
     "data": {
      "text/plain": [
       "Dict{Any,Any} with 24 entries:\n",
       "  18 => 0.3877849201694104\n",
       "  2  => 0.4836707260598188\n",
       "  16 => 0.4012044236678823\n",
       "  11 => 0.42959228367531915\n",
       "  21 => 0.3685082000118461\n",
       "  7  => 0.4619921699724773\n",
       "  9  => 0.44832042917865395\n",
       "  10 => 0.43781867955025977\n",
       "  19 => 0.38511837791368636\n",
       "  17 => 0.3922031461475791\n",
       "  8  => 0.4596368262119619\n",
       "  22 => 0.36143814093922433\n",
       "  6  => 0.4630732584381321\n",
       "  24 => 0.3605275110156054\n",
       "  4  => 0.4794162829120321\n",
       "  3  => 0.48176374360365254\n",
       "  5  => 0.46581082064282553\n",
       "  20 => 0.37029084708454757\n",
       "  23 => 0.3605275110156054\n",
       "  13 => 0.4173068857408535\n",
       "  14 => 0.4104458318254982\n",
       "  15 => 0.40358420257181493\n",
       "  12 => 0.42908560199329254\n",
       "  1  => 1.0"
      ]
     },
     "execution_count": 28,
     "metadata": {},
     "output_type": "execute_result"
    }
   ],
   "source": [
    "norObjFunDict"
   ]
  },
  {
   "cell_type": "code",
   "execution_count": 29,
   "metadata": {
    "collapsed": false
   },
   "outputs": [
    {
     "data": {
      "image/png": "[encoded data removed]",
      "text/plain": [
       "Figure(PyObject <matplotlib.figure.Figure object at 0x7fab9c01bed0>)"
      ]
     },
     "metadata": {},
     "output_type": "display_data"
    }
   ],
   "source": [
    "using PyPlot\n",
    "\n",
    "iterNum = 1:(length(norObjFunDict))\n",
    "\n",
    "objFun = map(iterNum->norObjFunDict[iterNum], iterNum)\n",
    "\n",
    "# plot(iterNum, objFun, \"s-g\", label=\"True\")\n",
    "\n",
    "plot(iterNum, objFun, \"s-b\")\n",
    "\n",
    "# legend(loc=\"upper right\",fancybox=\"true\") \n",
    "\n",
    "grid(\"on\")\n",
    "\n",
    "xlim(.8, length(norObjFunDict) + 1 + .2)\n",
    "ylim(minimum(objFun)-.01, maximum(objFun)+.01)\n",
    "\n",
    "font1 = [\"family\"=>\"serif\", \"color\"=>\"darkred\", \"weight\"=>\"normal\", \"size\"=>14]\n",
    "\n",
    "xlabel(\"Number of iterations\", fontdict=font1)\n",
    "ylabel(\"Normalized objective function value (biLev)\", fontdict=font1)\n",
    "\n",
    "savefig(\"./results/objFun_biLev_MA.pdf\")"
   ]
  },
  {
   "cell_type": "code",
   "execution_count": 30,
   "metadata": {
    "collapsed": false
   },
   "outputs": [
    {
     "data": {
      "image/png": "[encoded data removed]",
      "text/plain": [
       "Figure(PyObject <matplotlib.figure.Figure object at 0x7fab9bf5b4d0>)"
      ]
     },
     "metadata": {},
     "output_type": "display_data"
    }
   ],
   "source": [
    "using PyPlot\n",
    "\n",
    "iterNum = 1:(length(demandsDiffDict))\n",
    "\n",
    "demandsDiff = map(iterNum->demandsDiffDict[iterNum], iterNum)\n",
    "\n",
    "# plot(iterNum, objFun, \"s-g\", label=\"True\")\n",
    "\n",
    "plot(iterNum, demandsDiff, \"o-g\")\n",
    "\n",
    "# legend(loc=\"upper right\",fancybox=\"true\") \n",
    "\n",
    "grid(\"on\")\n",
    "\n",
    "xlim(.8, length(demandsDiffDict) + 1 + .2)\n",
    "ylim(minimum(demandsDiff)-.01, maximum(demandsDiff)+.01)\n",
    "\n",
    "font1 = [\"family\"=>\"serif\", \"color\"=>\"darkred\", \"weight\"=>\"normal\", \"size\"=>14]\n",
    "\n",
    "xlabel(\"Number of iterations\", fontdict=font1)\n",
    "ylabel(\"Normalized demand difference\", fontdict=font1)\n",
    "\n",
    "savefig(\"./results/demandsDiff_biLev_MA.pdf\")"
   ]
  },
  {
   "cell_type": "code",
   "execution_count": 31,
   "metadata": {
    "collapsed": false
   },
   "outputs": [],
   "source": [
    "outfile = open(\"./results/norObjFunDict.json\", \"w\")\n",
    "\n",
    "JSON.print(outfile, norObjFunDict)\n",
    "\n",
    "close(outfile)"
   ]
  },
  {
   "cell_type": "code",
   "execution_count": 32,
   "metadata": {
    "collapsed": false
   },
   "outputs": [],
   "source": [
    "outfile = open(\"./results/demandsDiffDict.json\", \"w\")\n",
    "\n",
    "JSON.print(outfile, demandsDiffDict)\n",
    "\n",
    "close(outfile)"
   ]
  },
  {
   "cell_type": "code",
   "execution_count": 33,
   "metadata": {
    "collapsed": false
   },
   "outputs": [],
   "source": [
    "outfile = open(\"./results/demandsVecDict.json\", \"w\")\n",
    "\n",
    "JSON.print(outfile, demandsVecDict)\n",
    "\n",
    "close(outfile)"
   ]
  },
  {
   "cell_type": "code",
   "execution_count": 34,
   "metadata": {
    "collapsed": false
   },
   "outputs": [],
   "source": [
    "outfile = open(\"./results/demandsDict$(day).json\", \"w\")\n",
    "\n",
    "JSON.print(outfile, demandsDict)\n",
    "\n",
    "close(outfile)"
   ]
  },
  {
   "cell_type": "code",
   "execution_count": 35,
   "metadata": {
    "collapsed": false
   },
   "outputs": [],
   "source": [
    "outfile = open(\"./results/tapFlowDicDict.json\", \"w\")\n",
    "\n",
    "JSON.print(outfile, tapFlowDicDict)\n",
    "\n",
    "close(outfile)"
   ]
  },
  {
   "cell_type": "code",
   "execution_count": 36,
   "metadata": {
    "collapsed": false
   },
   "outputs": [],
   "source": [
    "outfile = open(\"./results/tapFlowVecDict.json\", \"w\")\n",
    "\n",
    "JSON.print(outfile, tapFlowVecDict)\n",
    "\n",
    "close(outfile)"
   ]
  },
  {
   "cell_type": "code",
   "execution_count": 37,
   "metadata": {
    "collapsed": false
   },
   "outputs": [
    {
     "data": {
      "text/plain": [
       "Dict{(Int64,Int64),Float64} with 484 entries:\n",
       "  (6,9)   => 5.507132520116008\n",
       "  (18,3)  => 0.0\n",
       "  (21,13) => 43.86687962867125\n",
       "  (22,16) => 55.884457178746416\n",
       "  (15,17) => 0.0\n",
       "  (22,14) => 0.0\n",
       "  (13,9)  => 0.0018335009082821412\n",
       "  (8,9)   => 28.50237610334109\n",
       "  (9,1)   => 0.0\n",
       "  (17,14) => 494.2855452997817\n",
       "  (16,6)  => 0.0\n",
       "  (16,12) => 417.2527600690739\n",
       "  (16,13) => 817.0808937478366\n",
       "  (22,2)  => 22.110013570470805\n",
       "  (7,16)  => 698.7228920797013\n",
       "  (1,12)  => 426.6083145535308\n",
       "  (4,5)   => 39.03065683260137\n",
       "  (11,8)  => 59.34222981263705\n",
       "  (18,21) => 0.0\n",
       "  (19,4)  => 57.86564403711494\n",
       "  (20,13) => 36.74120954532595\n",
       "  (15,4)  => 106.80427332559725\n",
       "  (6,18)  => 41.046401860276774\n",
       "  (5,16)  => 0.0\n",
       "  (4,9)   => 0.0\n",
       "  ⋮       => ⋮"
      ]
     },
     "execution_count": 37,
     "metadata": {},
     "output_type": "execute_result"
    }
   ],
   "source": [
    "demandsDict[length(demandsDict)-1]"
   ]
  },
  {
   "cell_type": "code",
   "execution_count": 38,
   "metadata": {
    "collapsed": true
   },
   "outputs": [],
   "source": [
    "demandsDict_ = Dict{}()\n",
    "\n",
    "for key in keys(demandsDict[length(demandsDict)-1])\n",
    "    demandsDict_[key] = demandsDict[length(demandsDict)-1][key] \n",
    "end"
   ]
  },
  {
   "cell_type": "code",
   "execution_count": 39,
   "metadata": {
    "collapsed": true
   },
   "outputs": [],
   "source": [
    "outfile = open(\"./results/demandsDictFixed$(day).json\", \"w\")\n",
    "\n",
    "JSON.print(outfile, demandsDict_)\n",
    "\n",
    "close(outfile)"
   ]
  },
  {
   "cell_type": "code",
   "execution_count": null,
   "metadata": {
    "collapsed": true
   },
   "outputs": [],
   "source": []
  }
 ],
 "metadata": {
  "kernelspec": {
   "display_name": "Julia 0.3.7",
   "language": "julia",
   "name": "julia-0.3"
  },
  "language_info": {
   "file_extension": ".jl",
   "mimetype": "application/julia",
   "name": "julia",
   "version": "0.3.7"
  }
 },
 "nbformat": 4,
 "nbformat_minor": 0
}
