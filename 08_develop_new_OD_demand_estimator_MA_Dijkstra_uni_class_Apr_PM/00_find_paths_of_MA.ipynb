{
 "cells": [
  {
   "cell_type": "code",
   "execution_count": 1,
   "metadata": {
    "collapsed": false
   },
   "outputs": [
    {
     "name": "stdout",
     "output_type": "stream",
     "text": [
      "No dicts found; please check load_dicts...\n"
     ]
    }
   ],
   "source": [
    "%run ../Python_files/util.py"
   ]
  },
  {
   "cell_type": "code",
   "execution_count": 2,
   "metadata": {
    "collapsed": false
   },
   "outputs": [],
   "source": [
    "import json"
   ]
  },
  {
   "cell_type": "code",
   "execution_count": 3,
   "metadata": {
    "collapsed": false
   },
   "outputs": [],
   "source": [
    "with open('./benchmark_data/MA_net.txt') as MA_flow:\n",
    "    MA_flow_lines = MA_flow.readlines()\n",
    "MA_links = []\n",
    "i = -8\n",
    "for line in MA_flow_lines:\n",
    "    i += 1\n",
    "    if i > 0:\n",
    "        MA_links.append(line.split('  ')[1:3])\n",
    "numLinks = i"
   ]
  },
  {
   "cell_type": "code",
   "execution_count": 4,
   "metadata": {
    "collapsed": false
   },
   "outputs": [],
   "source": [
    "MA_links;"
   ]
  },
  {
   "cell_type": "code",
   "execution_count": 5,
   "metadata": {
    "collapsed": false
   },
   "outputs": [],
   "source": [
    "link_list_js = [str(int(MA_links[i][0])) + ',' + str(int(MA_links[i][1])) for \\\n",
    "             i in range(len(MA_links))]\n",
    "\n",
    "link_list_pk = [str(int(MA_links[i][0])) + '->' + str(int(MA_links[i][1])) for \\\n",
    "             i in range(len(MA_links))]"
   ]
  },
  {
   "cell_type": "code",
   "execution_count": 6,
   "metadata": {
    "collapsed": false
   },
   "outputs": [],
   "source": [
    "zdump(link_list_js, '../temp_files/MA_link_list_js.pkz')\n",
    "\n",
    "zdump(link_list_pk, '../temp_files/MA_link_list_pk.pkz')"
   ]
  },
  {
   "cell_type": "code",
   "execution_count": 7,
   "metadata": {
    "collapsed": false
   },
   "outputs": [],
   "source": [
    "numNodes = max([int(MA_links[i][1]) for i in range(numLinks)])"
   ]
  },
  {
   "cell_type": "code",
   "execution_count": 8,
   "metadata": {
    "collapsed": false
   },
   "outputs": [
    {
     "data": {
      "text/plain": [
       "22"
      ]
     },
     "execution_count": 8,
     "metadata": {},
     "output_type": "execute_result"
    }
   ],
   "source": [
    "numNodes"
   ]
  },
  {
   "cell_type": "code",
   "execution_count": 9,
   "metadata": {
    "collapsed": false
   },
   "outputs": [],
   "source": [
    "link_list_js;"
   ]
  },
  {
   "cell_type": "code",
   "execution_count": 10,
   "metadata": {
    "collapsed": false
   },
   "outputs": [],
   "source": [
    "from collections import defaultdict\n",
    "\n",
    "node_neighbors_dict = defaultdict(list)\n",
    "\n",
    "for node in range(numNodes):\n",
    "    for link in MA_links:\n",
    "        if node == int(link[0]):\n",
    "            node_neighbors_dict[str(node)].append(int(link[1]))"
   ]
  },
  {
   "cell_type": "code",
   "execution_count": 11,
   "metadata": {
    "collapsed": false
   },
   "outputs": [
    {
     "data": {
      "text/plain": [
       "[9, 8, 11, 13]"
      ]
     },
     "execution_count": 11,
     "metadata": {},
     "output_type": "execute_result"
    }
   ],
   "source": [
    "node_neighbors_dict['10']"
   ]
  },
  {
   "cell_type": "code",
   "execution_count": 12,
   "metadata": {
    "collapsed": true
   },
   "outputs": [],
   "source": [
    "with open('./benchmark_data/MA_trips.txt') as MA_trips:\n",
    "    MA_trips_lines = MA_trips.readlines()"
   ]
  },
  {
   "cell_type": "code",
   "execution_count": 13,
   "metadata": {
    "collapsed": false
   },
   "outputs": [],
   "source": [
    "numZones = int(MA_trips_lines[0].split(' ')[3])"
   ]
  },
  {
   "cell_type": "code",
   "execution_count": 14,
   "metadata": {
    "collapsed": false
   },
   "outputs": [
    {
     "data": {
      "text/plain": [
       "22"
      ]
     },
     "execution_count": 14,
     "metadata": {},
     "output_type": "execute_result"
    }
   ],
   "source": [
    "numZones"
   ]
  },
  {
   "cell_type": "code",
   "execution_count": 15,
   "metadata": {
    "collapsed": false
   },
   "outputs": [],
   "source": [
    "od_pairs = []\n",
    "for i in range(numZones+1)[1:]:\n",
    "    for j in range(numZones+1)[1:]:\n",
    "        if i != j:\n",
    "            od_pairs.append([i, j])"
   ]
  },
  {
   "cell_type": "code",
   "execution_count": 16,
   "metadata": {
    "collapsed": false
   },
   "outputs": [],
   "source": [
    "od_pairs;"
   ]
  },
  {
   "cell_type": "code",
   "execution_count": 17,
   "metadata": {
    "collapsed": true
   },
   "outputs": [],
   "source": [
    "# create O-D pair labels\n",
    "# create a dictionary mapping O-D pairs to labels\n",
    "\n",
    "import json\n",
    "\n",
    "OD_pair_label_dict = {}\n",
    "OD_pair_label_dict_ = {}\n",
    "\n",
    "label = 1\n",
    "for i in range(numZones + 1)[1:]:\n",
    "    for j in range(numZones + 1)[1:]:\n",
    "        key = (i, j)\n",
    "        OD_pair_label_dict[str(key)] = label\n",
    "        OD_pair_label_dict_[str(label)] = key\n",
    "        label += 1\n",
    "        \n",
    "with open('../temp_files/od_pair_label_dict_MA.json', 'w') as json_file:\n",
    "    json.dump(OD_pair_label_dict, json_file)\n",
    "    \n",
    "with open('../temp_files/od_pair_label_dict__MA.json', 'w') as json_file:\n",
    "    json.dump(OD_pair_label_dict_, json_file)\n",
    "\n",
    "\n",
    "OD_pair_label_dict_refined = {}\n",
    "OD_pair_label_dict_refined_ = {}\n",
    "\n",
    "label = 1\n",
    "for i in range(numZones + 1)[1:]:\n",
    "    for j in range(numZones + 1)[1:]:\n",
    "        if i != j:\n",
    "            key = (i, j)\n",
    "            OD_pair_label_dict_refined[str(key)] = label\n",
    "            OD_pair_label_dict_refined_[str(label)] = key\n",
    "            label += 1\n",
    "        \n",
    "with open('../temp_files/od_pair_label_dict_MA_refined.json', 'w') as json_file:\n",
    "    json.dump(OD_pair_label_dict_refined, json_file)\n",
    "    \n",
    "with open('../temp_files/od_pair_label_dict__MA_refined.json', 'w') as json_file:\n",
    "    json.dump(OD_pair_label_dict_refined_, json_file)\n",
    "    \n",
    "    \n",
    "# create link labels\n",
    "# create a dictionary mapping directed links to labels\n",
    "link_label_dict = {}\n",
    "link_label_dict_ = {}\n",
    "\n",
    "link_list = zload('../temp_files/MA_link_list_js.pkz')\n",
    "\n",
    "for i in range(numLinks):\n",
    "    link_label_dict[str(i)] = link_list[i]\n",
    "\n",
    "for i in range(numLinks):\n",
    "    link_label_dict_[link_list[i]] = i\n",
    "\n",
    "with open('../temp_files/link_label_dict_MA.json', 'w') as json_file:\n",
    "    json.dump(link_label_dict, json_file)\n",
    "    \n",
    "with open('../temp_files/link_label_dict_MA_.json', 'w') as json_file:\n",
    "    json.dump(link_label_dict_, json_file)\n",
    "    \n",
    "# create link labels\n",
    "# create a dictionary mapping directed links to labels\n",
    "link_label_dict = {}\n",
    "link_label_dict_ = {}\n",
    "\n",
    "link_list = zload('../temp_files/MA_link_list_pk.pkz')\n",
    "\n",
    "for i in range(numLinks):\n",
    "    link_label_dict[str(i)] = link_list[i]\n",
    "\n",
    "for i in range(numLinks):\n",
    "    link_label_dict_[link_list[i]] = i\n",
    "\n",
    "zdump(link_label_dict, '../temp_files/link_label_dict_MA_network.pkz')\n",
    "zdump(link_label_dict_, '../temp_files/link_label_dict_MA_network_.pkz')"
   ]
  },
  {
   "cell_type": "code",
   "execution_count": 18,
   "metadata": {
    "collapsed": false
   },
   "outputs": [],
   "source": [
    "link_label_dict_;"
   ]
  },
  {
   "cell_type": "code",
   "execution_count": 19,
   "metadata": {
    "collapsed": false
   },
   "outputs": [],
   "source": [
    "link_length_dict_MA = {}  # save free-flow time actually\n",
    "link_capac_dict_MA = {}\n",
    "\n",
    "length_list = []\n",
    "capac_list = []\n",
    "with open('./benchmark_data/MA_net.txt', 'r') as f:\n",
    "    read_data = f.readlines()\n",
    "    flag = 0\n",
    "    for row in read_data:\n",
    "        if ';' in row:\n",
    "            flag += 1\n",
    "            if flag > 1:\n",
    "                length_list.append(float(row.split('  ')[5]))\n",
    "                capac_list.append(float(row.split('  ')[3]))\n",
    "                \n",
    "for idx in range(len(length_list)):\n",
    "    key = str(idx)\n",
    "    link_length_dict_MA[key] = length_list[idx]\n",
    "    link_capac_dict_MA[key] = capac_list[idx]\n",
    "\n",
    "with open('../temp_files/link_length_dict_MA.json', 'w') as json_file:\n",
    "    json.dump(link_length_dict_MA, json_file)\n",
    "    \n",
    "with open('../temp_files/link_capac_dict_MA.json', 'w') as json_file:\n",
    "    json.dump(link_capac_dict_MA, json_file)"
   ]
  },
  {
   "cell_type": "code",
   "execution_count": 20,
   "metadata": {
    "collapsed": false
   },
   "outputs": [],
   "source": [
    "link_length_dict_MA;"
   ]
  },
  {
   "cell_type": "code",
   "execution_count": 21,
   "metadata": {
    "collapsed": false
   },
   "outputs": [],
   "source": [
    "link_label_dict = zload('../temp_files/link_label_dict_MA_network.pkz')\n",
    "link_label_dict_ = zload('../temp_files/link_label_dict_MA_network_.pkz')"
   ]
  },
  {
   "cell_type": "code",
   "execution_count": 22,
   "metadata": {
    "collapsed": false
   },
   "outputs": [
    {
     "data": {
      "text/plain": [
       "0.161995"
      ]
     },
     "execution_count": 22,
     "metadata": {},
     "output_type": "execute_result"
    }
   ],
   "source": [
    "keyLink = str(link_label_dict_['1->2'])\n",
    "link_length_dict_MA[keyLink]"
   ]
  },
  {
   "cell_type": "code",
   "execution_count": 23,
   "metadata": {
    "collapsed": true
   },
   "outputs": [],
   "source": [
    "# compute length of a route\n",
    "def routeLength(route):\n",
    "    link_list = []\n",
    "    node_list = []\n",
    "    for i in route.split('->'):\n",
    "        node_list.append(int(i))\n",
    "    for i in range(len(node_list))[:-1]:\n",
    "        link_list.append('%d->%d' %(node_list[i], node_list[i+1]))\n",
    "    length_of_route = sum([link_length_dict_MA[str(link_label_dict_[link])] for link in link_list])\n",
    "    return length_of_route"
   ]
  },
  {
   "cell_type": "code",
   "execution_count": 24,
   "metadata": {
    "collapsed": false
   },
   "outputs": [
    {
     "data": {
      "text/plain": [
       "0.511405"
      ]
     },
     "execution_count": 24,
     "metadata": {},
     "output_type": "execute_result"
    }
   ],
   "source": [
    "routeLength('1->2->3')"
   ]
  },
  {
   "cell_type": "code",
   "execution_count": 25,
   "metadata": {
    "collapsed": false
   },
   "outputs": [],
   "source": [
    "node_neighbors_dict;"
   ]
  },
  {
   "cell_type": "code",
   "execution_count": 26,
   "metadata": {
    "collapsed": false
   },
   "outputs": [
    {
     "data": {
      "text/plain": [
       "74"
      ]
     },
     "execution_count": 26,
     "metadata": {},
     "output_type": "execute_result"
    }
   ],
   "source": [
    "len(length_list)"
   ]
  },
  {
   "cell_type": "code",
   "execution_count": 27,
   "metadata": {
    "collapsed": false
   },
   "outputs": [],
   "source": [
    "import networkx as nx\n",
    "\n",
    "MA = nx.DiGraph()\n",
    "\n",
    "MA.add_nodes_from(range(numNodes+1)[1:])\n",
    "\n",
    "MA_weighted_edges = [(int(link_list_js[i].split(',')[0]), int(link_list_js[i].split(',')[1]), \\\n",
    "                           length_list[i]) for i in range(len(link_list_js))]\n",
    "\n",
    "MA.add_weighted_edges_from(MA_weighted_edges)\n",
    "\n",
    "path = nx.all_pairs_dijkstra_path(MA)\n",
    "\n",
    "with open('../temp_files/path-link_incidence_MA.txt', 'w') as the_file:\n",
    "    for od in od_pairs:\n",
    "        origi = od[0]\n",
    "        desti = od[1]\n",
    "        the_file.write('O-D pair (%s, %s):\\n'%(origi, desti))\n",
    "        route = str(path[origi][desti]).replace(\"[\", \"\").replace(\", \", \"->\").replace(\"]\", \"\")\n",
    "        the_file.write(route)\n",
    "        the_file.write('\\n')"
   ]
  },
  {
   "cell_type": "code",
   "execution_count": 28,
   "metadata": {
    "collapsed": false
   },
   "outputs": [],
   "source": [
    "link_list_js;"
   ]
  },
  {
   "cell_type": "code",
   "execution_count": 29,
   "metadata": {
    "collapsed": true
   },
   "outputs": [],
   "source": [
    "with open('../temp_files/path-link_incidence_MA.txt', 'r') as the_file:\n",
    "    # path counts\n",
    "    i = 0  \n",
    "    for row in the_file:\n",
    "        if '->' in row:\n",
    "            i = i + 1\n",
    "\n",
    "with open('../temp_files/numRoutes_MA.json', 'w') as json_file:\n",
    "    json.dump(i, json_file)"
   ]
  },
  {
   "cell_type": "code",
   "execution_count": null,
   "metadata": {
    "collapsed": true
   },
   "outputs": [],
   "source": []
  }
 ],
 "metadata": {
  "anaconda-cloud": {},
  "kernelspec": {
   "display_name": "Python [conda root]",
   "language": "python",
   "name": "conda-root-py"
  },
  "language_info": {
   "codemirror_mode": {
    "name": "ipython",
    "version": 2
   },
   "file_extension": ".py",
   "mimetype": "text/x-python",
   "name": "python",
   "nbconvert_exporter": "python",
   "pygments_lexer": "ipython2",
   "version": "2.7.12"
  }
 },
 "nbformat": 4,
 "nbformat_minor": 0
}
