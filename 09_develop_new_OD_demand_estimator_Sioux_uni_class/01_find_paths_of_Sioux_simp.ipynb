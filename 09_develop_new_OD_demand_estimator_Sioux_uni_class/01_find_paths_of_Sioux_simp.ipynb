{
 "cells": [
  {
   "cell_type": "code",
   "execution_count": 1,
   "metadata": {
    "collapsed": false
   },
   "outputs": [
    {
     "name": "stdout",
     "output_type": "stream",
     "text": [
      "No dicts found; please check load_dicts...\n"
     ]
    }
   ],
   "source": [
    "%run ../Python_files/util.py"
   ]
  },
  {
   "cell_type": "code",
   "execution_count": 2,
   "metadata": {
    "collapsed": true
   },
   "outputs": [],
   "source": [
    "node_neighbors_dict = {}\n",
    "\n",
    "node_neighbors_dict['1'] = [2, 3]\n",
    "node_neighbors_dict['2'] = [1, 6]\n",
    "node_neighbors_dict['3'] = [1, 4, 12]\n",
    "node_neighbors_dict['4'] = [3, 5, 11]\n",
    "node_neighbors_dict['5'] = [4, 6, 9]\n",
    "node_neighbors_dict['6'] = [2, 5, 8]\n",
    "node_neighbors_dict['7'] = [8]\n",
    "node_neighbors_dict['8'] = [6, 7, 9]\n",
    "node_neighbors_dict['9'] = [5, 8, 10]\n",
    "node_neighbors_dict['10'] = [9, 11]\n",
    "node_neighbors_dict['11'] = [4, 10, 12]\n",
    "node_neighbors_dict['12'] = [3, 11]"
   ]
  },
  {
   "cell_type": "code",
   "execution_count": 3,
   "metadata": {
    "collapsed": true
   },
   "outputs": [],
   "source": [
    "od_pairs = []\n",
    "for i in range(13)[1:]:\n",
    "    for j in range(13)[1:]:\n",
    "        if i != j:\n",
    "            od_pairs.append([i, j])"
   ]
  },
  {
   "cell_type": "code",
   "execution_count": 4,
   "metadata": {
    "collapsed": false
   },
   "outputs": [
    {
     "data": {
      "text/plain": [
       "[[1, 2],\n",
       " [1, 3],\n",
       " [1, 4],\n",
       " [1, 5],\n",
       " [1, 6],\n",
       " [1, 7],\n",
       " [1, 8],\n",
       " [1, 9],\n",
       " [1, 10],\n",
       " [1, 11],\n",
       " [1, 12],\n",
       " [2, 1],\n",
       " [2, 3],\n",
       " [2, 4],\n",
       " [2, 5],\n",
       " [2, 6],\n",
       " [2, 7],\n",
       " [2, 8],\n",
       " [2, 9],\n",
       " [2, 10],\n",
       " [2, 11],\n",
       " [2, 12],\n",
       " [3, 1],\n",
       " [3, 2],\n",
       " [3, 4],\n",
       " [3, 5],\n",
       " [3, 6],\n",
       " [3, 7],\n",
       " [3, 8],\n",
       " [3, 9],\n",
       " [3, 10],\n",
       " [3, 11],\n",
       " [3, 12],\n",
       " [4, 1],\n",
       " [4, 2],\n",
       " [4, 3],\n",
       " [4, 5],\n",
       " [4, 6],\n",
       " [4, 7],\n",
       " [4, 8],\n",
       " [4, 9],\n",
       " [4, 10],\n",
       " [4, 11],\n",
       " [4, 12],\n",
       " [5, 1],\n",
       " [5, 2],\n",
       " [5, 3],\n",
       " [5, 4],\n",
       " [5, 6],\n",
       " [5, 7],\n",
       " [5, 8],\n",
       " [5, 9],\n",
       " [5, 10],\n",
       " [5, 11],\n",
       " [5, 12],\n",
       " [6, 1],\n",
       " [6, 2],\n",
       " [6, 3],\n",
       " [6, 4],\n",
       " [6, 5],\n",
       " [6, 7],\n",
       " [6, 8],\n",
       " [6, 9],\n",
       " [6, 10],\n",
       " [6, 11],\n",
       " [6, 12],\n",
       " [7, 1],\n",
       " [7, 2],\n",
       " [7, 3],\n",
       " [7, 4],\n",
       " [7, 5],\n",
       " [7, 6],\n",
       " [7, 8],\n",
       " [7, 9],\n",
       " [7, 10],\n",
       " [7, 11],\n",
       " [7, 12],\n",
       " [8, 1],\n",
       " [8, 2],\n",
       " [8, 3],\n",
       " [8, 4],\n",
       " [8, 5],\n",
       " [8, 6],\n",
       " [8, 7],\n",
       " [8, 9],\n",
       " [8, 10],\n",
       " [8, 11],\n",
       " [8, 12],\n",
       " [9, 1],\n",
       " [9, 2],\n",
       " [9, 3],\n",
       " [9, 4],\n",
       " [9, 5],\n",
       " [9, 6],\n",
       " [9, 7],\n",
       " [9, 8],\n",
       " [9, 10],\n",
       " [9, 11],\n",
       " [9, 12],\n",
       " [10, 1],\n",
       " [10, 2],\n",
       " [10, 3],\n",
       " [10, 4],\n",
       " [10, 5],\n",
       " [10, 6],\n",
       " [10, 7],\n",
       " [10, 8],\n",
       " [10, 9],\n",
       " [10, 11],\n",
       " [10, 12],\n",
       " [11, 1],\n",
       " [11, 2],\n",
       " [11, 3],\n",
       " [11, 4],\n",
       " [11, 5],\n",
       " [11, 6],\n",
       " [11, 7],\n",
       " [11, 8],\n",
       " [11, 9],\n",
       " [11, 10],\n",
       " [11, 12],\n",
       " [12, 1],\n",
       " [12, 2],\n",
       " [12, 3],\n",
       " [12, 4],\n",
       " [12, 5],\n",
       " [12, 6],\n",
       " [12, 7],\n",
       " [12, 8],\n",
       " [12, 9],\n",
       " [12, 10],\n",
       " [12, 11]]"
      ]
     },
     "execution_count": 4,
     "metadata": {},
     "output_type": "execute_result"
    }
   ],
   "source": [
    "od_pairs"
   ]
  },
  {
   "cell_type": "code",
   "execution_count": 5,
   "metadata": {
    "collapsed": true
   },
   "outputs": [],
   "source": [
    "with open('../temp_files/link_length_dict_Sioux_simp.json', 'r') as json_file:\n",
    "    link_length_dict = json.load(json_file)"
   ]
  },
  {
   "cell_type": "code",
   "execution_count": 6,
   "metadata": {
    "collapsed": true
   },
   "outputs": [],
   "source": [
    "link_label_dict = zload('../temp_files/link_label_dict_Sioux_simp.pkz')\n",
    "link_label_dict_ = zload('../temp_files/link_label_dict_Sioux_simp_.pkz')"
   ]
  },
  {
   "cell_type": "code",
   "execution_count": 7,
   "metadata": {
    "collapsed": true
   },
   "outputs": [],
   "source": [
    "# compute length of a route\n",
    "def routeLength(route):\n",
    "    link_list = []\n",
    "    node_list = []\n",
    "    for i in route.split('->'):\n",
    "        node_list.append(int(i))\n",
    "    for i in range(len(node_list))[:-1]:\n",
    "        link_list.append('%d->%d' %(node_list[i], node_list[i+1]))\n",
    "    length_of_route = sum([link_length_dict[str(link_label_dict_[link])] for link in link_list])\n",
    "    return length_of_route"
   ]
  },
  {
   "cell_type": "code",
   "execution_count": 8,
   "metadata": {
    "collapsed": false
   },
   "outputs": [],
   "source": [
    "with open('../temp_files/path-link_incidence_Sioux_simp.txt', 'w') as the_file:\n",
    "    for od in od_pairs:\n",
    "        origi = od[0]\n",
    "        desti = od[1]\n",
    "        the_file.write('O-D pair (%s, %s):\\n'%(origi, desti))\n",
    "        route_list = []\n",
    "        if desti in node_neighbors_dict[str(origi)]:\n",
    "            route_list.append('%s->%s\\n'%(origi,desti))\n",
    "        for i in node_neighbors_dict[str(origi)]:\n",
    "            if i in node_neighbors_dict[str(desti)]:\n",
    "                flag = [origi, i, desti]\n",
    "                if len(set(flag)) == len(flag):\n",
    "                    route_list.append('%s->%s->%s\\n'%(origi,i,desti))\n",
    "            for j in node_neighbors_dict[str(i)]:\n",
    "                if j in node_neighbors_dict[str(desti)]:\n",
    "                    flag = [origi, i, j, desti]\n",
    "                    if len(set(flag)) == len(flag):\n",
    "                        route_list.append('%s->%s->%s->%s\\n'%(origi,i,j,desti))\n",
    "                for k in node_neighbors_dict[str(j)]:\n",
    "                    if k in node_neighbors_dict[str(desti)]:\n",
    "                        flag = [origi, i, j, k, desti]\n",
    "                        if len(set(flag)) == len(flag):\n",
    "                            route_list.append('%s->%s->%s->%s->%s\\n'%(origi,i,j,k,desti))\n",
    "                    for l in node_neighbors_dict[str(k)]:\n",
    "                        if l in node_neighbors_dict[str(desti)]:\n",
    "                            flag = [origi, i, j, k, l, desti]\n",
    "                            if len(set(flag)) == len(flag):\n",
    "                                route_list.append('%s->%s->%s->%s->%s->%s\\n'%(origi,i,j,k,l,desti))    \n",
    "                        for m in node_neighbors_dict[str(l)]:\n",
    "                            if m in node_neighbors_dict[str(desti)]:\n",
    "                                flag = [origi, i, j, k, l, m, desti]\n",
    "                                if len(set(flag)) == len(flag):\n",
    "                                    route_list.append('%s->%s->%s->%s->%s->%s->%s\\n'%(origi,i,j,k,l,m,desti))  \n",
    "                            for n in node_neighbors_dict[str(m)]:\n",
    "                                if n in node_neighbors_dict[str(desti)]:\n",
    "                                    flag = [origi, i, j, k, l, m, n, desti]\n",
    "                                    if len(set(flag)) == len(flag):\n",
    "                                        route_list.append('%s->%s->%s->%s->%s->%s->%s->%s\\n'%(origi,i,j,k,l,m,n,desti))\n",
    "                                for o in node_neighbors_dict[str(n)]:\n",
    "                                    if o in node_neighbors_dict[str(desti)]:\n",
    "                                        flag = [origi, i, j, k, l, m, n, o, desti]\n",
    "                                        if len(set(flag)) == len(flag):\n",
    "                                            route_list.append('%s->%s->%s->%s->%s->%s->%s->%s->%s\\n'%(origi,i,j,k,l,m,n,o,desti))\n",
    "                                    for p in node_neighbors_dict[str(o)]:\n",
    "                                        if p in node_neighbors_dict[str(desti)]:\n",
    "                                            flag = [origi, i, j, k, l, m, n, o, p, desti]\n",
    "                                            if len(set(flag)) == len(flag):\n",
    "                                                route_list.append('%s->%s->%s->%s->%s->%s->%s->%s->%s->%s\\n'%(origi,i,j,k,l,m,n,o,p,desti))\n",
    "                                                for q in node_neighbors_dict[str(p)]:\n",
    "                                                    if q in node_neighbors_dict[str(desti)]:\n",
    "                                                        flag = [origi, i, j, k, l, m, n, o, p, q, desti]\n",
    "                                                        if len(set(flag)) == len(flag):\n",
    "                                                            route_list.append('%s->%s->%s->%s->%s->%s->%s->%s->%s->%s->%s\\n'%(origi,i,j,k,l,m,n,o,p,q,desti))\n",
    "\n",
    "        route_length_list = np.array([routeLength(route) for route in route_list])\n",
    "    \n",
    "        refined_route_list = []\n",
    "        \n",
    "        if len(route_list) <= 3:\n",
    "            refined_route_list = route_list\n",
    "        else:\n",
    "            refined_idx_list = [np.argsort(route_length_list)[i] for i in range(3)]\n",
    "            refined_route_list = [route_list[idx] for idx in refined_idx_list]\n",
    "                \n",
    "        for route in refined_route_list:\n",
    "            the_file.write(route)\n",
    "        the_file.write('\\n')"
   ]
  },
  {
   "cell_type": "code",
   "execution_count": null,
   "metadata": {
    "collapsed": true
   },
   "outputs": [],
   "source": []
  }
 ],
 "metadata": {
  "kernelspec": {
   "display_name": "Python 2",
   "language": "python",
   "name": "python2"
  },
  "language_info": {
   "codemirror_mode": {
    "name": "ipython",
    "version": 2
   },
   "file_extension": ".py",
   "mimetype": "text/x-python",
   "name": "python",
   "nbconvert_exporter": "python",
   "pygments_lexer": "ipython2",
   "version": "2.7.12"
  }
 },
 "nbformat": 4,
 "nbformat_minor": 0
}
