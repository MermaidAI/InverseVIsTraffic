{
 "cells": [
  {
   "cell_type": "code",
   "execution_count": 253,
   "metadata": {
    "collapsed": true
   },
   "outputs": [],
   "source": [
    "%run ../Python_files/load_dicts.py\n",
    "%run ../Python_files/util.py"
   ]
  },
  {
   "cell_type": "code",
   "execution_count": 254,
   "metadata": {
    "collapsed": false
   },
   "outputs": [],
   "source": [
    "import numpy as np\n",
    "\n",
    "N = np.array([[1, 0, 0, -1, 1, 0], [-1, 1, -1, 1, 0, -1], [0, -1, 1, 0, -1, 1]])"
   ]
  },
  {
   "cell_type": "code",
   "execution_count": 255,
   "metadata": {
    "collapsed": false
   },
   "outputs": [
    {
     "data": {
      "text/plain": [
       "array([[ 1,  0,  0, -1,  1,  0],\n",
       "       [-1,  1, -1,  1,  0, -1],\n",
       "       [ 0, -1,  1,  0, -1,  1]])"
      ]
     },
     "execution_count": 255,
     "metadata": {},
     "output_type": "execute_result"
    }
   ],
   "source": [
    "N"
   ]
  },
  {
   "cell_type": "code",
   "execution_count": 256,
   "metadata": {
    "collapsed": false
   },
   "outputs": [],
   "source": [
    "n = 3  # number of nodes\n",
    "m = 6  # number of links\n",
    "\n",
    "model = Model(\"OD_matrix_est_toy_example\")\n",
    "\n",
    "lam = {}\n",
    "for i in range(n+1)[1:]:\n",
    "    for j in range(n+1)[1:]:\n",
    "        if i != j:\n",
    "            key = str(i) + '->' + str(j)\n",
    "            lam[key] = model.addVar(name='lam_' + key)\n",
    "            \n",
    "x = {}\n",
    "for k in range(m):\n",
    "    for i in range(n+1)[1:]:\n",
    "        for j in range(n+1)[1:]:\n",
    "            if i != j:\n",
    "                key = str(k) + '->' + str(i) + '->' + str(j)\n",
    "                x[key] = model.addVar(name='x_' + key)\n",
    "\n",
    "model.update() "
   ]
  },
  {
   "cell_type": "code",
   "execution_count": 257,
   "metadata": {
    "collapsed": true
   },
   "outputs": [],
   "source": [
    "x_0 = np.array([100, 100, 50, 200, 150, 200])"
   ]
  },
  {
   "cell_type": "code",
   "execution_count": 258,
   "metadata": {
    "collapsed": false
   },
   "outputs": [
    {
     "data": {
      "text/plain": [
       "array([100, 100,  50, 200, 150, 200])"
      ]
     },
     "execution_count": 258,
     "metadata": {},
     "output_type": "execute_result"
    }
   ],
   "source": [
    "x_0"
   ]
  },
  {
   "cell_type": "code",
   "execution_count": 259,
   "metadata": {
    "collapsed": false
   },
   "outputs": [],
   "source": [
    "# Set objective\n",
    "obj = 0\n",
    "\n",
    "for i in range(n+1)[1:]:\n",
    "    for j in range(n+1)[1:]:\n",
    "        if i != j:\n",
    "            key = str(i) + '->' + str(j)\n",
    "            obj += lam[key] * lam[key]\n",
    "            \n",
    "model.setObjective(obj)"
   ]
  },
  {
   "cell_type": "code",
   "execution_count": 260,
   "metadata": {
    "collapsed": false
   },
   "outputs": [
    {
     "name": "stdout",
     "output_type": "stream",
     "text": [
      "<gurobi.LinExpr: x_0->1->2 + x_0->1->3 + x_0->2->1 + x_0->2->3 + x_0->3->1 + x_0->3->2>\n",
      "<gurobi.LinExpr: x_1->1->2 + x_1->1->3 + x_1->2->1 + x_1->2->3 + x_1->3->1 + x_1->3->2>\n",
      "<gurobi.LinExpr: x_2->1->2 + x_2->1->3 + x_2->2->1 + x_2->2->3 + x_2->3->1 + x_2->3->2>\n",
      "<gurobi.LinExpr: x_3->1->2 + x_3->1->3 + x_3->2->1 + x_3->2->3 + x_3->3->1 + x_3->3->2>\n",
      "<gurobi.LinExpr: x_4->1->2 + x_4->1->3 + x_4->2->1 + x_4->2->3 + x_4->3->1 + x_4->3->2>\n",
      "<gurobi.LinExpr: x_5->1->2 + x_5->1->3 + x_5->2->1 + x_5->2->3 + x_5->3->1 + x_5->3->2>\n",
      "<gurobi.LinExpr: x_0->1->2 + 0.0 x_1->1->2 + 0.0 x_2->1->2 + -1.0 x_3->1->2 + x_4->1->2 + 0.0 x_5->1->2>\n",
      "<gurobi.LinExpr: x_0->1->3 + 0.0 x_1->1->3 + 0.0 x_2->1->3 + -1.0 x_3->1->3 + x_4->1->3 + 0.0 x_5->1->3>\n",
      "<gurobi.LinExpr: x_0->2->1 + 0.0 x_1->2->1 + 0.0 x_2->2->1 + -1.0 x_3->2->1 + x_4->2->1 + 0.0 x_5->2->1>\n",
      "<gurobi.LinExpr: x_0->2->3 + 0.0 x_1->2->3 + 0.0 x_2->2->3 + -1.0 x_3->2->3 + x_4->2->3 + 0.0 x_5->2->3>\n",
      "<gurobi.LinExpr: x_0->3->1 + 0.0 x_1->3->1 + 0.0 x_2->3->1 + -1.0 x_3->3->1 + x_4->3->1 + 0.0 x_5->3->1>\n",
      "<gurobi.LinExpr: x_0->3->2 + 0.0 x_1->3->2 + 0.0 x_2->3->2 + -1.0 x_3->3->2 + x_4->3->2 + 0.0 x_5->3->2>\n",
      "<gurobi.LinExpr: -1.0 x_0->1->2 + x_1->1->2 + -1.0 x_2->1->2 + x_3->1->2 + 0.0 x_4->1->2 + -1.0 x_5->1->2>\n",
      "<gurobi.LinExpr: -1.0 x_0->1->3 + x_1->1->3 + -1.0 x_2->1->3 + x_3->1->3 + 0.0 x_4->1->3 + -1.0 x_5->1->3>\n",
      "<gurobi.LinExpr: -1.0 x_0->2->1 + x_1->2->1 + -1.0 x_2->2->1 + x_3->2->1 + 0.0 x_4->2->1 + -1.0 x_5->2->1>\n",
      "<gurobi.LinExpr: -1.0 x_0->2->3 + x_1->2->3 + -1.0 x_2->2->3 + x_3->2->3 + 0.0 x_4->2->3 + -1.0 x_5->2->3>\n",
      "<gurobi.LinExpr: -1.0 x_0->3->1 + x_1->3->1 + -1.0 x_2->3->1 + x_3->3->1 + 0.0 x_4->3->1 + -1.0 x_5->3->1>\n",
      "<gurobi.LinExpr: -1.0 x_0->3->2 + x_1->3->2 + -1.0 x_2->3->2 + x_3->3->2 + 0.0 x_4->3->2 + -1.0 x_5->3->2>\n",
      "<gurobi.LinExpr: 0.0 x_0->1->2 + -1.0 x_1->1->2 + x_2->1->2 + 0.0 x_3->1->2 + -1.0 x_4->1->2 + x_5->1->2>\n",
      "<gurobi.LinExpr: 0.0 x_0->1->3 + -1.0 x_1->1->3 + x_2->1->3 + 0.0 x_3->1->3 + -1.0 x_4->1->3 + x_5->1->3>\n",
      "<gurobi.LinExpr: 0.0 x_0->2->1 + -1.0 x_1->2->1 + x_2->2->1 + 0.0 x_3->2->1 + -1.0 x_4->2->1 + x_5->2->1>\n",
      "<gurobi.LinExpr: 0.0 x_0->2->3 + -1.0 x_1->2->3 + x_2->2->3 + 0.0 x_3->2->3 + -1.0 x_4->2->3 + x_5->2->3>\n",
      "<gurobi.LinExpr: 0.0 x_0->3->1 + -1.0 x_1->3->1 + x_2->3->1 + 0.0 x_3->3->1 + -1.0 x_4->3->1 + x_5->3->1>\n",
      "<gurobi.LinExpr: 0.0 x_0->3->2 + -1.0 x_1->3->2 + x_2->3->2 + 0.0 x_3->3->2 + -1.0 x_4->3->2 + x_5->3->2>\n"
     ]
    }
   ],
   "source": [
    "# Add constraint: lam >= 0\n",
    "for i in range(n+1)[1:]:\n",
    "    for j in range(n+1)[1:]:\n",
    "        if i != j:\n",
    "            key = str(i) + '->' + str(j)\n",
    "            model.addConstr(lam[key] >= 100)\n",
    "            \n",
    "for k in range(m):\n",
    "    s = 0\n",
    "    for i in range(n+1)[1:]:\n",
    "        for j in range(n+1)[1:]:\n",
    "            if i != j:\n",
    "                key = str(k) + '->' + str(i) + '->' + str(j)\n",
    "                s += x[key]\n",
    "                model.addConstr(x[key] >= 0)\n",
    "    model.addConstr(s - x_0[k] == 0)\n",
    "    print(s)\n",
    "            \n",
    "for l in range(n):\n",
    "    for i in range(n+1)[1:]:\n",
    "        for j in range(n+1)[1:]:\n",
    "            if i != j:\n",
    "                key_ = str(i) + '->' + str(j)\n",
    "                s = 0\n",
    "                for k in range(m):\n",
    "                    key = str(k) + '->' + str(i) + '->' + str(j)\n",
    "                    s += N[l, k] * x[key]  \n",
    "                if (l+1 == i):\n",
    "                    model.addConstr(s + lam[key_] == 0)\n",
    "                elif (l+1 == j):\n",
    "                    model.addConstr(s - lam[key_] == 0)\n",
    "                else:\n",
    "                    model.addConstr(s == 0)\n",
    "                print(s)\n",
    "                \n",
    "#                 if (i == 1 and j == 2):\n",
    "#                     print(s)\n",
    "\n",
    "model.update()\n",
    "\n",
    "model.setParam('OutputFlag', False)\n",
    "model.optimize()"
   ]
  },
  {
   "cell_type": "code",
   "execution_count": 261,
   "metadata": {
    "collapsed": false
   },
   "outputs": [
    {
     "name": "stdout",
     "output_type": "stream",
     "text": [
      "lam_1->2 100\n",
      "lam_1->3 100\n",
      "lam_2->1 150\n",
      "lam_2->3 100\n",
      "lam_3->1 100\n",
      "lam_3->2 100\n",
      "x_0->1->2 0\n",
      "x_0->1->3 0\n",
      "x_0->2->1 100\n",
      "x_0->2->3 0\n",
      "x_0->3->1 1.48309e-14\n",
      "x_0->3->2 0\n",
      "x_1->1->2 1.16631e-14\n",
      "x_1->1->3 5.96382e-15\n",
      "x_1->2->1 7.6873e-15\n",
      "x_1->2->3 5.93659e-15\n",
      "x_1->3->1 1.91734e-14\n",
      "x_1->3->2 100\n",
      "x_2->1->2 6.0494e-15\n",
      "x_2->1->3 21.4549\n",
      "x_2->2->1 10.066\n",
      "x_2->2->3 18.479\n",
      "x_2->3->1 4.0985e-15\n",
      "x_2->3->2 5.50592e-15\n",
      "x_3->1->2 100\n",
      "x_3->1->3 100\n",
      "x_3->2->1 0\n",
      "x_3->2->3 0\n",
      "x_3->3->1 0\n",
      "x_3->3->2 0\n",
      "x_4->1->2 0\n",
      "x_4->1->3 0\n",
      "x_4->2->1 50\n",
      "x_4->2->3 0\n",
      "x_4->3->1 100\n",
      "x_4->3->2 0\n",
      "x_5->1->2 7.64681e-15\n",
      "x_5->1->3 78.5451\n",
      "x_5->2->1 39.934\n",
      "x_5->2->3 81.521\n",
      "x_5->3->1 4.31022e-15\n",
      "x_5->3->2 5.30505e-15\n"
     ]
    }
   ],
   "source": [
    "lam_list = []\n",
    "for v in model.getVars():\n",
    "    print('%s %g' % (v.varName, v.x))\n",
    "    lam_list.append(v.x)\n",
    "# print('Obj: %g' % obj.getValue())\n",
    "\n",
    "# 100, 100, 50, 200, 150, 200"
   ]
  },
  {
   "cell_type": "code",
   "execution_count": 262,
   "metadata": {
    "collapsed": false
   },
   "outputs": [
    {
     "data": {
      "text/plain": [
       "650.0000000002403"
      ]
     },
     "execution_count": 262,
     "metadata": {},
     "output_type": "execute_result"
    }
   ],
   "source": [
    "sum(lam_list[0:6])"
   ]
  },
  {
   "cell_type": "code",
   "execution_count": 263,
   "metadata": {
    "collapsed": false
   },
   "outputs": [
    {
     "data": {
      "text/plain": [
       "800"
      ]
     },
     "execution_count": 263,
     "metadata": {},
     "output_type": "execute_result"
    }
   ],
   "source": [
    "sum(x_0)"
   ]
  },
  {
   "cell_type": "code",
   "execution_count": null,
   "metadata": {
    "collapsed": true
   },
   "outputs": [],
   "source": []
  }
 ],
 "metadata": {
  "kernelspec": {
   "display_name": "Python 2",
   "language": "python",
   "name": "python2"
  },
  "language_info": {
   "codemirror_mode": {
    "name": "ipython",
    "version": 2
   },
   "file_extension": ".py",
   "mimetype": "text/x-python",
   "name": "python",
   "nbconvert_exporter": "python",
   "pygments_lexer": "ipython2",
   "version": "2.7.11"
  }
 },
 "nbformat": 4,
 "nbformat_minor": 0
}
