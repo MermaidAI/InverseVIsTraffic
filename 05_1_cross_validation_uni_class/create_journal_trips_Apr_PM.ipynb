{
 "cells": [
  {
   "cell_type": "code",
   "execution_count": 1,
   "metadata": {
    "collapsed": false
   },
   "outputs": [],
   "source": [
    "%run ../Python_files/util_data_storage_and_load.py"
   ]
  },
  {
   "cell_type": "code",
   "execution_count": 2,
   "metadata": {
    "collapsed": false
   },
   "outputs": [
    {
     "name": "stdout",
     "output_type": "stream",
     "text": [
      "No dicts found; please check load_dicts...\n"
     ]
    }
   ],
   "source": [
    "%run ../Python_files/util.py"
   ]
  },
  {
   "cell_type": "code",
   "execution_count": 3,
   "metadata": {
    "collapsed": true
   },
   "outputs": [],
   "source": [
    "list_of_lists = []\n",
    "\n",
    "with open('../temp_files/OD_demand_matrix_Apr_weekday_PM_journal.txt', 'r') as the_file:\n",
    "    idx = 0\n",
    "    for line in the_file:\n",
    "        inner_list = [elt.strip() for elt in line.split(',')]\n",
    "        list_of_lists.append(inner_list)"
   ]
  },
  {
   "cell_type": "code",
   "execution_count": 4,
   "metadata": {
    "collapsed": false
   },
   "outputs": [
    {
     "data": {
      "text/plain": [
       "[['1', '2', '63.802849'],\n",
       " ['1', '3', '471.819480'],\n",
       " ['1', '4', '0.000000'],\n",
       " ['1', '5', '918.488499'],\n",
       " ['1', '6', '0.000000'],\n",
       " ['1', '7', '0.000000'],\n",
       " ['1', '8', '0.000000'],\n",
       " ['1', '9', '0.000000'],\n",
       " ['1', '10', '0.000000'],\n",
       " ['1', '11', '28.772957'],\n",
       " ['1', '12', '31.681824'],\n",
       " ['1', '13', '0.000000'],\n",
       " ['1', '14', '29.681628'],\n",
       " ['1', '15', '8.606275'],\n",
       " ['1', '16', '0.000000'],\n",
       " ['1', '17', '11.722161'],\n",
       " ['1', '18', '20.428002'],\n",
       " ['1', '19', '23.394305'],\n",
       " ['1', '20', '0.000000'],\n",
       " ['1', '21', '14.575279'],\n",
       " ['1', '22', '8.505481'],\n",
       " ['1', '23', '9.077854'],\n",
       " ['1', '24', '4.484028'],\n",
       " ['1', '25', '4.452338'],\n",
       " ['1', '26', '1.875118'],\n",
       " ['1', '27', '0.000000'],\n",
       " ['1', '28', '0.000000'],\n",
       " ['1', '29', '0.000000'],\n",
       " ['1', '30', '2.023540'],\n",
       " ['1', '31', '1.880171'],\n",
       " ['1', '32', '1.936760'],\n",
       " ['1', '33', '1.948398'],\n",
       " ['1', '34', '1.965538']]"
      ]
     },
     "execution_count": 4,
     "metadata": {},
     "output_type": "execute_result"
    }
   ],
   "source": [
    "list_of_lists[0:33]"
   ]
  },
  {
   "cell_type": "code",
   "execution_count": 5,
   "metadata": {
    "collapsed": false
   },
   "outputs": [],
   "source": [
    "zero_value = 0.0\n",
    "with open(\"../data_traffic_assignment_uni_class/journal_trips_Apr_PM.txt\", \"w\") as text_file:\n",
    "    text_file.write(\"<NUMBER OF ZONES> 34\\n\")\n",
    "    text_file.write(\"<TOTAL OD FLOW> 0.0\\n\")\n",
    "    text_file.write(\"<END OF METADATA>\\n\\n\\n\")\n",
    "    \n",
    "    for n in range(34):\n",
    "        text_file.write(\"Origin  %d  \\n\" %(n+1))\n",
    "        text_file.write(\"%d :      0.0;    \" %(n+1))\n",
    "        for idx in range(n*33, (n+1)*33):\n",
    "            text_file.write(\"%d :      %f;    \" \\\n",
    "                            %(int(list_of_lists[idx][1]), float(list_of_lists[idx][2])))\n",
    "            if idx % 3 == 0:\n",
    "                text_file.write(\"\\n\")\n",
    "        text_file.write(\"\\n\\n\")"
   ]
  },
  {
   "cell_type": "code",
   "execution_count": null,
   "metadata": {
    "collapsed": true
   },
   "outputs": [],
   "source": []
  }
 ],
 "metadata": {
  "anaconda-cloud": {},
  "kernelspec": {
   "display_name": "Python [default]",
   "language": "python",
   "name": "python2"
  },
  "language_info": {
   "codemirror_mode": {
    "name": "ipython",
    "version": 2
   },
   "file_extension": ".py",
   "mimetype": "text/x-python",
   "name": "python",
   "nbconvert_exporter": "python",
   "pygments_lexer": "ipython2",
   "version": "2.7.12"
  }
 },
 "nbformat": 4,
 "nbformat_minor": 0
}
