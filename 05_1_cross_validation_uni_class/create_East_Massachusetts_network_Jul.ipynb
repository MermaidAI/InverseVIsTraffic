{
 "cells": [
  {
   "cell_type": "code",
   "execution_count": 1,
   "metadata": {
    "collapsed": false
   },
   "outputs": [],
   "source": [
    "%run ../Python_files/util_data_storage_and_load.py"
   ]
  },
  {
   "cell_type": "code",
   "execution_count": 2,
   "metadata": {
    "collapsed": false
   },
   "outputs": [
    {
     "name": "stdout",
     "output_type": "stream",
     "text": [
      "No dicts found; please check load_dicts...\n"
     ]
    }
   ],
   "source": [
    "%run ../Python_files/util.py"
   ]
  },
  {
   "cell_type": "code",
   "execution_count": 3,
   "metadata": {
    "collapsed": true
   },
   "outputs": [],
   "source": [
    "import json"
   ]
  },
  {
   "cell_type": "code",
   "execution_count": 4,
   "metadata": {
    "collapsed": true
   },
   "outputs": [],
   "source": [
    "with open('../temp_files/link_day_minute_Jul_dict_JSON_adjusted.json', 'r') as json_file:\n",
    "    link_day_minute_Jul_dict_JSON_ = json.load(json_file)"
   ]
  },
  {
   "cell_type": "code",
   "execution_count": 5,
   "metadata": {
    "collapsed": false
   },
   "outputs": [],
   "source": [
    "zero_value = 0.0\n",
    "with open(\"../data_traffic_assignment_uni-class/East_Massachusetts_net_Jul_AM.txt\", \"w\") as text_file:\n",
    "    text_file.write(\"<NUMBER OF ZONES> 8\\n\")\n",
    "    text_file.write(\"<NUMBER OF ZONES> 8\\n\")\n",
    "    text_file.write(\"<FIRST THRU NODE> 1\\n\")\n",
    "    text_file.write(\"<NUMBER OF LINKS> 24\\n\")\n",
    "    text_file.write(\"<NUMBER OF ZONES> 8\\n\")\n",
    "    text_file.write(\"<END OF METADATA>\\n\\n\\n\")\n",
    "    text_file.write(\"~  Init node  Term node  Capacity  Length  Free Flow Time  B  Power  Speed limit  Toll  Type  ;\\n\")\n",
    "    for idx in range(24):\n",
    "         text_file.write(\"  %d  %d  %f  %f  %f  %f  %f  %f  %f  %f  ;\\n\" \\\n",
    "                         %(link_day_minute_Jul_dict_JSON_['link_' + str(idx) + '_2']['init_node'], \\\n",
    "                           link_day_minute_Jul_dict_JSON_['link_' + str(idx) + '_2']['term_node'], \\\n",
    "                           link_day_minute_Jul_dict_JSON_['link_' + str(idx) + '_2']['AM_capac'], \\\n",
    "                           zero_value, \\\n",
    "                           link_day_minute_Jul_dict_JSON_['link_' + str(idx) + '_2']['free_flow_time'], \\\n",
    "                           zero_value, zero_value, zero_value, zero_value, zero_value))"
   ]
  },
  {
   "cell_type": "code",
   "execution_count": 6,
   "metadata": {
    "collapsed": true
   },
   "outputs": [],
   "source": [
    "zero_value = 0.0\n",
    "with open(\"../data_traffic_assignment_uni-class/East_Massachusetts_net_Jul_MD.txt\", \"w\") as text_file:\n",
    "    text_file.write(\"<NUMBER OF ZONES> 8\\n\")\n",
    "    text_file.write(\"<NUMBER OF ZONES> 8\\n\")\n",
    "    text_file.write(\"<FIRST THRU NODE> 1\\n\")\n",
    "    text_file.write(\"<NUMBER OF LINKS> 24\\n\")\n",
    "    text_file.write(\"<NUMBER OF ZONES> 8\\n\")\n",
    "    text_file.write(\"<END OF METADATA>\\n\\n\\n\")\n",
    "    text_file.write(\"~  Init node  Term node  Capacity  Length  Free Flow Time  B  Power  Speed limit  Toll  Type  ;\\n\")\n",
    "    for idx in range(24):\n",
    "         text_file.write(\"  %d  %d  %f  %f  %f  %f  %f  %f  %f  %f  ;\\n\" \\\n",
    "                         %(link_day_minute_Jul_dict_JSON_['link_' + str(idx) + '_2']['init_node'], \\\n",
    "                           link_day_minute_Jul_dict_JSON_['link_' + str(idx) + '_2']['term_node'], \\\n",
    "                           link_day_minute_Jul_dict_JSON_['link_' + str(idx) + '_2']['MD_capac'], \\\n",
    "                           zero_value, \\\n",
    "                           link_day_minute_Jul_dict_JSON_['link_' + str(idx) + '_2']['free_flow_time'], \\\n",
    "                           zero_value, zero_value, zero_value, zero_value, zero_value))"
   ]
  },
  {
   "cell_type": "code",
   "execution_count": 7,
   "metadata": {
    "collapsed": true
   },
   "outputs": [],
   "source": [
    "zero_value = 0.0\n",
    "with open(\"../data_traffic_assignment_uni-class/East_Massachusetts_net_Jul_PM.txt\", \"w\") as text_file:\n",
    "    text_file.write(\"<NUMBER OF ZONES> 8\\n\")\n",
    "    text_file.write(\"<NUMBER OF ZONES> 8\\n\")\n",
    "    text_file.write(\"<FIRST THRU NODE> 1\\n\")\n",
    "    text_file.write(\"<NUMBER OF LINKS> 24\\n\")\n",
    "    text_file.write(\"<NUMBER OF ZONES> 8\\n\")\n",
    "    text_file.write(\"<END OF METADATA>\\n\\n\\n\")\n",
    "    text_file.write(\"~  Init node  Term node  Capacity  Length  Free Flow Time  B  Power  Speed limit  Toll  Type  ;\\n\")\n",
    "    for idx in range(24):\n",
    "         text_file.write(\"  %d  %d  %f  %f  %f  %f  %f  %f  %f  %f  ;\\n\" \\\n",
    "                         %(link_day_minute_Jul_dict_JSON_['link_' + str(idx) + '_2']['init_node'], \\\n",
    "                           link_day_minute_Jul_dict_JSON_['link_' + str(idx) + '_2']['term_node'], \\\n",
    "                           link_day_minute_Jul_dict_JSON_['link_' + str(idx) + '_2']['PM_capac'], \\\n",
    "                           zero_value, \\\n",
    "                           link_day_minute_Jul_dict_JSON_['link_' + str(idx) + '_2']['free_flow_time'], \\\n",
    "                           zero_value, zero_value, zero_value, zero_value, zero_value))"
   ]
  },
  {
   "cell_type": "code",
   "execution_count": 8,
   "metadata": {
    "collapsed": true
   },
   "outputs": [],
   "source": [
    "zero_value = 0.0\n",
    "with open(\"../data_traffic_assignment_uni-class/East_Massachusetts_net_Jul_NT.txt\", \"w\") as text_file:\n",
    "    text_file.write(\"<NUMBER OF ZONES> 8\\n\")\n",
    "    text_file.write(\"<NUMBER OF ZONES> 8\\n\")\n",
    "    text_file.write(\"<FIRST THRU NODE> 1\\n\")\n",
    "    text_file.write(\"<NUMBER OF LINKS> 24\\n\")\n",
    "    text_file.write(\"<NUMBER OF ZONES> 8\\n\")\n",
    "    text_file.write(\"<END OF METADATA>\\n\\n\\n\")\n",
    "    text_file.write(\"~  Init node  Term node  Capacity  Length  Free Flow Time  B  Power  Speed limit  Toll  Type  ;\\n\")\n",
    "    for idx in range(24):\n",
    "         text_file.write(\"  %d  %d  %f  %f  %f  %f  %f  %f  %f  %f  ;\\n\" \\\n",
    "                         %(link_day_minute_Jul_dict_JSON_['link_' + str(idx) + '_2']['init_node'], \\\n",
    "                           link_day_minute_Jul_dict_JSON_['link_' + str(idx) + '_2']['term_node'], \\\n",
    "                           link_day_minute_Jul_dict_JSON_['link_' + str(idx) + '_2']['NT_capac'], \\\n",
    "                           zero_value, \\\n",
    "                           link_day_minute_Jul_dict_JSON_['link_' + str(idx) + '_2']['free_flow_time'], \\\n",
    "                           zero_value, zero_value, zero_value, zero_value, zero_value))"
   ]
  },
  {
   "cell_type": "code",
   "execution_count": 9,
   "metadata": {
    "collapsed": false
   },
   "outputs": [],
   "source": [
    "zero_value = 0.0\n",
    "with open(\"../data_traffic_assignment_uni-class/East_Massachusetts_net_Jul_weekend.txt\", \"w\") as text_file:\n",
    "    text_file.write(\"<NUMBER OF ZONES> 8\\n\")\n",
    "    text_file.write(\"<NUMBER OF ZONES> 8\\n\")\n",
    "    text_file.write(\"<FIRST THRU NODE> 1\\n\")\n",
    "    text_file.write(\"<NUMBER OF LINKS> 24\\n\")\n",
    "    text_file.write(\"<NUMBER OF ZONES> 8\\n\")\n",
    "    text_file.write(\"<END OF METADATA>\\n\\n\\n\")\n",
    "    text_file.write(\"~  Init node  Term node  Capacity  Length  Free Flow Time  B  Power  Speed limit  Toll  Type  ;\\n\")\n",
    "    for idx in range(24):\n",
    "         text_file.write(\"  %d  %d  %f  %f  %f  %f  %f  %f  %f  %f  ;\\n\" \\\n",
    "                         %(link_day_minute_Jul_dict_JSON_['link_' + str(idx) + '_7']['init_node'], \\\n",
    "                           link_day_minute_Jul_dict_JSON_['link_' + str(idx) + '_7']['term_node'], \\\n",
    "                           link_day_minute_Jul_dict_JSON_['link_' + str(idx) + '_7']['MD_capac'], \\\n",
    "                           zero_value, \\\n",
    "                           link_day_minute_Jul_dict_JSON_['link_' + str(idx) + '_7']['free_flow_time'], \\\n",
    "                           zero_value, zero_value, zero_value, zero_value, zero_value))"
   ]
  },
  {
   "cell_type": "code",
   "execution_count": null,
   "metadata": {
    "collapsed": true
   },
   "outputs": [],
   "source": []
  }
 ],
 "metadata": {
  "kernelspec": {
   "display_name": "Python 2",
   "language": "python",
   "name": "python2"
  },
  "language_info": {
   "codemirror_mode": {
    "name": "ipython",
    "version": 2
   },
   "file_extension": ".py",
   "mimetype": "text/x-python",
   "name": "python",
   "nbconvert_exporter": "python",
   "pygments_lexer": "ipython2",
   "version": "2.7.11"
  }
 },
 "nbformat": 4,
 "nbformat_minor": 0
}
