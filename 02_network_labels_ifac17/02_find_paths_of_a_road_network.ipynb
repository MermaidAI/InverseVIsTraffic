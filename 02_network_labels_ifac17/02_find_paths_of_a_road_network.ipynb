{
 "cells": [
  {
   "cell_type": "code",
   "execution_count": 1,
   "metadata": {
    "collapsed": false
   },
   "outputs": [
    {
     "name": "stdout",
     "output_type": "stream",
     "text": [
      "No dicts found; please check load_dicts...\n"
     ]
    }
   ],
   "source": [
    "%run ../Python_files/util.py"
   ]
  },
  {
   "cell_type": "code",
   "execution_count": 2,
   "metadata": {
    "collapsed": true
   },
   "outputs": [],
   "source": [
    "# number of links\n",
    "m = 74"
   ]
  },
  {
   "cell_type": "code",
   "execution_count": 3,
   "metadata": {
    "collapsed": true
   },
   "outputs": [],
   "source": [
    "node_neighbors_dict = {}\n",
    "\n",
    "node_neighbors_dict['1'] = [2, 3]\n",
    "node_neighbors_dict['2'] = [1, 3, 4]\n",
    "node_neighbors_dict['3'] = [1, 2, 6]\n",
    "node_neighbors_dict['4'] = [2, 5, 6, 7, 18]\n",
    "node_neighbors_dict['5'] = [4, 8, 9]\n",
    "node_neighbors_dict['6'] = [3, 4, 7]\n",
    "node_neighbors_dict['7'] = [4, 6, 9, 11, 18]\n",
    "node_neighbors_dict['8'] = [5, 10, 12]\n",
    "node_neighbors_dict['9'] = [5, 7, 10]\n",
    "node_neighbors_dict['10'] = [8, 9, 11, 13]\n",
    "node_neighbors_dict['11'] = [7, 10, 14]\n",
    "node_neighbors_dict['12'] = [8, 13, 15, 19, 20]\n",
    "node_neighbors_dict['13'] = [10, 12, 14, 16, 19, 20, 21]\n",
    "node_neighbors_dict['14'] = [11, 13, 16, 21, 22]\n",
    "node_neighbors_dict['15'] = [12, 13, 17]\n",
    "node_neighbors_dict['16'] = [13, 14, 17, 22]\n",
    "node_neighbors_dict['17'] = [15, 16]\n",
    "node_neighbors_dict['18'] = [4, 7]\n",
    "node_neighbors_dict['19'] = [12, 13]\n",
    "node_neighbors_dict['20'] = [12, 13]\n",
    "node_neighbors_dict['21'] = [13, 14]\n",
    "node_neighbors_dict['22'] = [14, 16]"
   ]
  },
  {
   "cell_type": "code",
   "execution_count": 4,
   "metadata": {
    "collapsed": false
   },
   "outputs": [
    {
     "name": "stdout",
     "output_type": "stream",
     "text": [
      "1->2->3->6\n",
      "1->2->4->6\n"
     ]
    }
   ],
   "source": [
    "for i in node_neighbors_dict['1']:\n",
    "    for j in node_neighbors_dict['6']:\n",
    "        if j in node_neighbors_dict[str(i)]:\n",
    "            print('1->%s->%s->6'%(i,j))"
   ]
  },
  {
   "cell_type": "code",
   "execution_count": 5,
   "metadata": {
    "collapsed": true
   },
   "outputs": [],
   "source": [
    "OD_pair_label_dict_ = zload('../temp_files/OD_pair_label_dict__ext.pkz')\n",
    "OD_pair_label_dict = zload('../temp_files/OD_pair_label_dict_ext.pkz')"
   ]
  },
  {
   "cell_type": "code",
   "execution_count": 6,
   "metadata": {
    "collapsed": false
   },
   "outputs": [],
   "source": [
    "od_pairs = OD_pair_label_dict_.values()"
   ]
  },
  {
   "cell_type": "code",
   "execution_count": 7,
   "metadata": {
    "collapsed": false,
    "scrolled": true
   },
   "outputs": [
    {
     "data": {
      "text/plain": [
       "462"
      ]
     },
     "execution_count": 7,
     "metadata": {},
     "output_type": "execute_result"
    }
   ],
   "source": [
    "len(od_pairs)"
   ]
  },
  {
   "cell_type": "code",
   "execution_count": 8,
   "metadata": {
    "collapsed": true
   },
   "outputs": [],
   "source": [
    "with open('../temp_files/link_length_dict_ext_insert_links.json', 'r') as json_file:\n",
    "    link_length_dict = json.load(json_file)"
   ]
  },
  {
   "cell_type": "code",
   "execution_count": 9,
   "metadata": {
    "collapsed": true
   },
   "outputs": [],
   "source": [
    "link_label_dict = zload('../temp_files/link_label_dict_ext.pkz')\n",
    "link_label_dict_ = zload('../temp_files/link_label_dict_ext_.pkz')"
   ]
  },
  {
   "cell_type": "code",
   "execution_count": 10,
   "metadata": {
    "collapsed": true
   },
   "outputs": [],
   "source": [
    "# compute length of a route\n",
    "def routeLength(route):\n",
    "    link_list = []\n",
    "    node_list = []\n",
    "    for i in route.split('->'):\n",
    "        node_list.append(int(i))\n",
    "    for i in range(len(node_list))[:-1]:\n",
    "        link_list.append('%d->%d' %(node_list[i], node_list[i+1]))\n",
    "    length_of_route = sum([link_length_dict[str(link_label_dict_[link])] for link in link_list])\n",
    "    return length_of_route"
   ]
  },
  {
   "cell_type": "code",
   "execution_count": 11,
   "metadata": {
    "collapsed": false
   },
   "outputs": [],
   "source": [
    "with open('../temp_files/path-link_incidence_ext_insert_links.txt', 'w') as the_file:\n",
    "    for od in od_pairs:\n",
    "        origi = od[0]\n",
    "        desti = od[1]\n",
    "        the_file.write('O-D pair (%s, %s):\\n'%(origi, desti))\n",
    "        route_list = []\n",
    "        if desti in node_neighbors_dict[str(origi)]:\n",
    "            route_list.append('%s->%s\\n'%(origi,desti))\n",
    "        for i in node_neighbors_dict[str(origi)]:\n",
    "            if i in node_neighbors_dict[str(desti)]:\n",
    "                flag = [origi, i, desti]\n",
    "                if len(set(flag)) == len(flag):\n",
    "                    route_list.append('%s->%s->%s\\n'%(origi,i,desti))\n",
    "            for j in node_neighbors_dict[str(i)]:\n",
    "                if j in node_neighbors_dict[str(desti)]:\n",
    "                    flag = [origi, i, j, desti]\n",
    "                    if len(set(flag)) == len(flag):\n",
    "                        route_list.append('%s->%s->%s->%s\\n'%(origi,i,j,desti))\n",
    "                for k in node_neighbors_dict[str(j)]:\n",
    "                    if k in node_neighbors_dict[str(desti)]:\n",
    "                        flag = [origi, i, j, k, desti]\n",
    "                        if len(set(flag)) == len(flag):\n",
    "                            route_list.append('%s->%s->%s->%s->%s\\n'%(origi,i,j,k,desti))\n",
    "                    for l in node_neighbors_dict[str(k)]:\n",
    "                        if l in node_neighbors_dict[str(desti)]:\n",
    "                            flag = [origi, i, j, k, l, desti]\n",
    "                            if len(set(flag)) == len(flag):\n",
    "                                route_list.append('%s->%s->%s->%s->%s->%s\\n'%(origi,i,j,k,l,desti))    \n",
    "                        for m in node_neighbors_dict[str(l)]:\n",
    "                            if m in node_neighbors_dict[str(desti)]:\n",
    "                                flag = [origi, i, j, k, l, m, desti]\n",
    "                                if len(set(flag)) == len(flag):\n",
    "                                    route_list.append('%s->%s->%s->%s->%s->%s->%s\\n'%(origi,i,j,k,l,m,desti))  \n",
    "                            for n in node_neighbors_dict[str(m)]:\n",
    "                                if n in node_neighbors_dict[str(desti)]:\n",
    "                                    flag = [origi, i, j, k, l, m, n, desti]\n",
    "                                    if len(set(flag)) == len(flag):\n",
    "                                        route_list.append('%s->%s->%s->%s->%s->%s->%s->%s\\n'%(origi,i,j,k,l,m,n,desti))\n",
    "                                for o in node_neighbors_dict[str(n)]:\n",
    "                                    if o in node_neighbors_dict[str(desti)]:\n",
    "                                        flag = [origi, i, j, k, l, m, n, o, desti]\n",
    "                                        if len(set(flag)) == len(flag):\n",
    "                                            route_list.append('%s->%s->%s->%s->%s->%s->%s->%s->%s\\n'%(origi,i,j,k,l,m,n,o,desti))\n",
    "                                    for p in node_neighbors_dict[str(o)]:\n",
    "                                        if p in node_neighbors_dict[str(desti)]:\n",
    "                                            flag = [origi, i, j, k, l, m, n, o, p, desti]\n",
    "                                            if len(set(flag)) == len(flag):\n",
    "                                                route_list.append('%s->%s->%s->%s->%s->%s->%s->%s->%s->%s\\n'%(origi,i,j,k,l,m,n,o,p,desti))\n",
    "                                                for q in node_neighbors_dict[str(p)]:\n",
    "                                                    if q in node_neighbors_dict[str(desti)]:\n",
    "                                                        flag = [origi, i, j, k, l, m, n, o, p, q, desti]\n",
    "                                                        if len(set(flag)) == len(flag):\n",
    "                                                            route_list.append('%s->%s->%s->%s->%s->%s->%s->%s->%s->%s->%s\\n'%(origi,i,j,k,l,m,n,o,p,q,desti))\n",
    "       \n",
    "        route_length_list = np.array([routeLength(route) for route in route_list])\n",
    "    \n",
    "        refined_route_list = []\n",
    "        \n",
    "        if len(route_list) <= 10:\n",
    "            refined_route_list = route_list\n",
    "        else:\n",
    "            refined_idx_list = [np.argsort(route_length_list)[i] for i in range(10)]\n",
    "            refined_route_list = [route_list[idx] for idx in refined_idx_list]\n",
    "                \n",
    "        for route in refined_route_list:\n",
    "            the_file.write(route)\n",
    "        the_file.write('\\n')"
   ]
  },
  {
   "cell_type": "code",
   "execution_count": 12,
   "metadata": {
    "collapsed": true
   },
   "outputs": [],
   "source": [
    "with open('../temp_files/path-link_incidence_ext_insert_links.txt', 'r') as the_file:\n",
    "    # path counts\n",
    "    i = 0  \n",
    "    for row in the_file:\n",
    "        if '->' in row:\n",
    "            i = i + 1"
   ]
  },
  {
   "cell_type": "code",
   "execution_count": 13,
   "metadata": {
    "collapsed": false
   },
   "outputs": [
    {
     "data": {
      "text/plain": [
       "4614"
      ]
     },
     "execution_count": 13,
     "metadata": {},
     "output_type": "execute_result"
    }
   ],
   "source": [
    "i"
   ]
  },
  {
   "cell_type": "code",
   "execution_count": null,
   "metadata": {
    "collapsed": true
   },
   "outputs": [],
   "source": []
  }
 ],
 "metadata": {
  "kernelspec": {
   "display_name": "Python [Root]",
   "language": "python",
   "name": "Python [Root]"
  },
  "language_info": {
   "codemirror_mode": {
    "name": "ipython",
    "version": 2
   },
   "file_extension": ".py",
   "mimetype": "text/x-python",
   "name": "python",
   "nbconvert_exporter": "python",
   "pygments_lexer": "ipython2",
   "version": "2.7.11"
  }
 },
 "nbformat": 4,
 "nbformat_minor": 0
}
