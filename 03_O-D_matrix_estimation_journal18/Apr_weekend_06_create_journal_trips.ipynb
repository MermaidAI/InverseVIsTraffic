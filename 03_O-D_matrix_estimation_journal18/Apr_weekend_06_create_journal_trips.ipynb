{
 "cells": [
  {
   "cell_type": "code",
   "execution_count": 1,
   "metadata": {
    "collapsed": false
   },
   "outputs": [],
   "source": [
    "%run ../Python_files/util_data_storage_and_load.py"
   ]
  },
  {
   "cell_type": "code",
   "execution_count": 2,
   "metadata": {
    "collapsed": false
   },
   "outputs": [
    {
     "name": "stdout",
     "output_type": "stream",
     "text": [
      "No dicts found; please check load_dicts...\n"
     ]
    }
   ],
   "source": [
    "%run ../Python_files/util.py"
   ]
  },
  {
   "cell_type": "code",
   "execution_count": 3,
   "metadata": {
    "collapsed": true
   },
   "outputs": [],
   "source": [
    "list_of_lists = []\n",
    "\n",
    "with open('../temp_files/OD_demand_matrix_Apr_weekend_journal.txt', 'r') as the_file:\n",
    "    idx = 0\n",
    "    for line in the_file:\n",
    "        inner_list = [elt.strip() for elt in line.split(',')]\n",
    "        list_of_lists.append(inner_list)"
   ]
  },
  {
   "cell_type": "code",
   "execution_count": 4,
   "metadata": {
    "collapsed": false
   },
   "outputs": [
    {
     "data": {
      "text/plain": [
       "[['1', '2', '88.411859'],\n",
       " ['1', '3', '184.950189'],\n",
       " ['1', '4', '0.000000'],\n",
       " ['1', '5', '0.000000'],\n",
       " ['1', '6', '212.922545'],\n",
       " ['1', '7', '959.296978'],\n",
       " ['1', '8', '0.000000'],\n",
       " ['1', '9', '0.000000'],\n",
       " ['1', '10', '230.839219'],\n",
       " ['1', '11', '0.000000'],\n",
       " ['1', '12', '31.390931'],\n",
       " ['1', '13', '0.000000'],\n",
       " ['1', '14', '0.000000'],\n",
       " ['1', '15', '0.000000'],\n",
       " ['1', '16', '69.628145'],\n",
       " ['1', '17', '0.000000'],\n",
       " ['1', '18', '0.000000'],\n",
       " ['1', '19', '0.000000'],\n",
       " ['1', '20', '1.217228'],\n",
       " ['1', '21', '0.000000'],\n",
       " ['1', '22', '0.000000'],\n",
       " ['1', '23', '0.000000'],\n",
       " ['1', '24', '0.000000'],\n",
       " ['1', '25', '0.000000'],\n",
       " ['1', '26', '0.000000'],\n",
       " ['1', '27', '0.000000'],\n",
       " ['1', '28', '0.000000'],\n",
       " ['1', '29', '0.000000'],\n",
       " ['1', '30', '0.000000'],\n",
       " ['1', '31', '0.000000'],\n",
       " ['1', '32', '0.000000'],\n",
       " ['1', '33', '0.000000'],\n",
       " ['1', '34', '0.000000'],\n",
       " ['1', '35', '0.000000'],\n",
       " ['1', '36', '0.000000'],\n",
       " ['1', '37', '0.000000'],\n",
       " ['1', '38', '0.000000'],\n",
       " ['1', '39', '0.000000'],\n",
       " ['1', '40', '0.000000'],\n",
       " ['1', '41', '0.000000'],\n",
       " ['1', '42', '0.000000'],\n",
       " ['1', '43', '0.000000'],\n",
       " ['1', '44', '0.000000'],\n",
       " ['1', '45', '0.000000'],\n",
       " ['1', '46', '0.000000'],\n",
       " ['1', '47', '0.000000'],\n",
       " ['1', '48', '0.000000'],\n",
       " ['1', '49', '0.000000'],\n",
       " ['1', '50', '0.000000'],\n",
       " ['1', '51', '0.000000'],\n",
       " ['1', '52', '0.000000'],\n",
       " ['1', '53', '0.000000'],\n",
       " ['1', '54', '0.000000'],\n",
       " ['1', '55', '0.000000'],\n",
       " ['1', '56', '0.000000'],\n",
       " ['1', '57', '1.161398'],\n",
       " ['1', '58', '1.177771'],\n",
       " ['1', '59', '0.000000'],\n",
       " ['1', '60', '0.000000'],\n",
       " ['1', '61', '0.000000'],\n",
       " ['1', '62', '0.000000'],\n",
       " ['1', '63', '0.000000'],\n",
       " ['1', '64', '0.000000'],\n",
       " ['1', '65', '0.000000'],\n",
       " ['1', '66', '0.000000'],\n",
       " ['1', '67', '0.000000'],\n",
       " ['1', '68', '0.000000'],\n",
       " ['1', '69', '0.000000'],\n",
       " ['1', '70', '0.000000'],\n",
       " ['1', '71', '0.000000'],\n",
       " ['1', '72', '0.000000'],\n",
       " ['1', '73', '0.000000'],\n",
       " ['1', '74', '0.000000']]"
      ]
     },
     "execution_count": 4,
     "metadata": {},
     "output_type": "execute_result"
    }
   ],
   "source": [
    "list_of_lists[0:73]"
   ]
  },
  {
   "cell_type": "code",
   "execution_count": 5,
   "metadata": {
    "collapsed": false
   },
   "outputs": [],
   "source": [
    "zero_value = 0.0\n",
    "with open(\"../data_traffic_assignment_uni_class/journal_trips_Apr_weekend.txt\", \"w\") as text_file:\n",
    "    text_file.write(\"<NUMBER OF ZONES> 74\\n\")\n",
    "    text_file.write(\"<TOTAL OD FLOW> 0.0\\n\")\n",
    "    text_file.write(\"<END OF METADATA>\\n\\n\\n\")\n",
    "    \n",
    "    for n in range(74):\n",
    "        text_file.write(\"Origin  %d  \\n\" %(n+1))\n",
    "        text_file.write(\"%d :      0.0;    \" %(n+1))\n",
    "        for idx in range(n*73, (n+1)*73):\n",
    "            text_file.write(\"%d :      %f;    \" \\\n",
    "                            %(int(list_of_lists[idx][1]), float(list_of_lists[idx][2])))\n",
    "            if idx % 3 == 0:\n",
    "                text_file.write(\"\\n\")\n",
    "        text_file.write(\"\\n\\n\")"
   ]
  },
  {
   "cell_type": "code",
   "execution_count": 6,
   "metadata": {
    "collapsed": true
   },
   "outputs": [],
   "source": [
    "zero_value = 0.0\n",
    "with open(\"../08_develop_new_OD_demand_estimator_MA_Dijkstra_uni_class_Apr_weekend_journal/benchmark_data/journal_trips_Apr_weekend.txt\", \"w\") as text_file:\n",
    "    text_file.write(\"<NUMBER OF ZONES> 74\\n\")\n",
    "    text_file.write(\"<TOTAL OD FLOW> 0.0\\n\")\n",
    "    text_file.write(\"<END OF METADATA>\\n\\n\\n\")\n",
    "    \n",
    "    for n in range(74):\n",
    "        text_file.write(\"Origin  %d  \\n\" %(n+1))\n",
    "        text_file.write(\"%d :      0.0;    \" %(n+1))\n",
    "        for idx in range(n*73, (n+1)*73):\n",
    "            text_file.write(\"%d :      %f;    \" \\\n",
    "                            %(int(list_of_lists[idx][1]), float(list_of_lists[idx][2])))\n",
    "            if idx % 3 == 0:\n",
    "                text_file.write(\"\\n\")\n",
    "        text_file.write(\"\\n\\n\")"
   ]
  },
  {
   "cell_type": "code",
   "execution_count": 7,
   "metadata": {
    "collapsed": true
   },
   "outputs": [],
   "source": [
    "zero_value = 0.0\n",
    "with open(\"../data_original/journal_trips_Apr_weekend.txt\", \"w\") as text_file:\n",
    "    text_file.write(\"<NUMBER OF ZONES> 74\\n\")\n",
    "    text_file.write(\"<TOTAL OD FLOW> 0.0\\n\")\n",
    "    text_file.write(\"<END OF METADATA>\\n\\n\\n\")\n",
    "    \n",
    "    for n in range(74):\n",
    "        text_file.write(\"Origin  %d  \\n\" %(n+1))\n",
    "        text_file.write(\"%d :      0.0;    \" %(n+1))\n",
    "        for idx in range(n*73, (n+1)*73):\n",
    "            text_file.write(\"%d :      %f;    \" \\\n",
    "                            %(int(list_of_lists[idx][1]), float(list_of_lists[idx][2])))\n",
    "            if idx % 3 == 0:\n",
    "                text_file.write(\"\\n\")\n",
    "        text_file.write(\"\\n\\n\")"
   ]
  }
 ],
 "metadata": {
  "anaconda-cloud": {},
  "kernelspec": {
   "display_name": "Python [default]",
   "language": "python",
   "name": "python2"
  },
  "language_info": {
   "codemirror_mode": {
    "name": "ipython",
    "version": 2
   },
   "file_extension": ".py",
   "mimetype": "text/x-python",
   "name": "python",
   "nbconvert_exporter": "python",
   "pygments_lexer": "ipython2",
   "version": "2.7.12"
  }
 },
 "nbformat": 4,
 "nbformat_minor": 0
}
