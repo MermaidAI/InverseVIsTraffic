{
 "cells": [
  {
   "cell_type": "code",
   "execution_count": 1,
   "metadata": {
    "collapsed": true
   },
   "outputs": [],
   "source": [
    "%run ../Python_files/util_data_storage_and_load.py"
   ]
  },
  {
   "cell_type": "code",
   "execution_count": 2,
   "metadata": {
    "collapsed": true
   },
   "outputs": [],
   "source": [
    "%run ../Python_files/load_dicts.py"
   ]
  },
  {
   "cell_type": "code",
   "execution_count": 3,
   "metadata": {
    "collapsed": false
   },
   "outputs": [],
   "source": [
    "%run ../Python_files/util.py"
   ]
  },
  {
   "cell_type": "code",
   "execution_count": 4,
   "metadata": {
    "collapsed": false
   },
   "outputs": [],
   "source": [
    "import numpy as np\n",
    "from numpy.linalg import inv"
   ]
  },
  {
   "cell_type": "code",
   "execution_count": 5,
   "metadata": {
    "collapsed": false
   },
   "outputs": [],
   "source": [
    "# load link flow data\n",
    "\n",
    "import json\n",
    "\n",
    "with open('../temp_files/link_day_minute_Jul_dict_JSON_adjusted.json', 'r') as json_file:\n",
    "    link_day_minute_Jul_dict_JSON = json.load(json_file)"
   ]
  },
  {
   "cell_type": "code",
   "execution_count": 6,
   "metadata": {
    "collapsed": true
   },
   "outputs": [],
   "source": [
    "# weekend_Jul_list = [1, 7, 8, 14, 15, 21, 22, 28, 29]\n",
    "\n",
    "# testing set 1\n",
    "weekend_Jul_list_1 = [22, 28, 29]\n",
    "\n",
    "# testing set 2\n",
    "weekend_Jul_list_2 = [1, 7, 8]\n",
    "\n",
    "# testing set 3\n",
    "weekend_Jul_list_3 = [14, 15, 21]"
   ]
  },
  {
   "cell_type": "code",
   "execution_count": 7,
   "metadata": {
    "collapsed": false
   },
   "outputs": [],
   "source": [
    "link_flow_testing_set_Jul_weekend_1 = []\n",
    "for link_idx in range(24):\n",
    "    for day in weekend_Jul_list_1: \n",
    "            key = 'link_' + str(link_idx) + '_' + str(day)\n",
    "            link_flow_testing_set_Jul_weekend_1.append(link_day_minute_Jul_dict_JSON[key] [\"MD_flow\"])\n",
    "            \n",
    "link_flow_testing_set_Jul_weekend_2 = []\n",
    "for link_idx in range(24):\n",
    "    for day in weekend_Jul_list_2: \n",
    "            key = 'link_' + str(link_idx) + '_' + str(day)\n",
    "            link_flow_testing_set_Jul_weekend_2.append(link_day_minute_Jul_dict_JSON[key] [\"MD_flow\"])\n",
    "            \n",
    "link_flow_testing_set_Jul_weekend_3 = []\n",
    "for link_idx in range(24):\n",
    "    for day in weekend_Jul_list_3: \n",
    "            key = 'link_' + str(link_idx) + '_' + str(day)\n",
    "            link_flow_testing_set_Jul_weekend_3.append(link_day_minute_Jul_dict_JSON[key] [\"MD_flow\"])"
   ]
  },
  {
   "cell_type": "code",
   "execution_count": 8,
   "metadata": {
    "collapsed": false
   },
   "outputs": [],
   "source": [
    "testing_set_1 = np.matrix(link_flow_testing_set_Jul_weekend_1)\n",
    "testing_set_1 = np.matrix.reshape(testing_set_1, 24, 3)\n",
    "testing_set_1 = np.nan_to_num(testing_set_1)\n",
    "y = np.array(np.transpose(testing_set_1))\n",
    "y = y[np.all(y != 0, axis=1)]\n",
    "testing_set_1 = np.transpose(y)\n",
    "testing_set_1 = np.matrix(testing_set_1)\n",
    "\n",
    "testing_set_2 = np.matrix(link_flow_testing_set_Jul_weekend_2)\n",
    "testing_set_2 = np.matrix.reshape(testing_set_2, 24, 3)\n",
    "testing_set_2 = np.nan_to_num(testing_set_2)\n",
    "y = np.array(np.transpose(testing_set_2))\n",
    "y = y[np.all(y != 0, axis=1)]\n",
    "testing_set_2 = np.transpose(y)\n",
    "testing_set_2 = np.matrix(testing_set_2)\n",
    "\n",
    "testing_set_3 = np.matrix(link_flow_testing_set_Jul_weekend_3)\n",
    "testing_set_3 = np.matrix.reshape(testing_set_3, 24, 3)\n",
    "testing_set_3 = np.nan_to_num(testing_set_3)\n",
    "y = np.array(np.transpose(testing_set_3))\n",
    "y = y[np.all(y != 0, axis=1)]\n",
    "testing_set_3 = np.transpose(y)\n",
    "testing_set_3 = np.matrix(testing_set_3)"
   ]
  },
  {
   "cell_type": "code",
   "execution_count": 9,
   "metadata": {
    "collapsed": false
   },
   "outputs": [
    {
     "data": {
      "text/plain": [
       "(24, 3)"
      ]
     },
     "execution_count": 9,
     "metadata": {},
     "output_type": "execute_result"
    }
   ],
   "source": [
    "np.size(testing_set_2, 0), np.size(testing_set_3, 1)"
   ]
  },
  {
   "cell_type": "code",
   "execution_count": 10,
   "metadata": {
    "collapsed": false
   },
   "outputs": [
    {
     "data": {
      "text/plain": [
       "matrix([[ 2021.41884335],\n",
       "        [ 1289.30710694],\n",
       "        [ 2215.90197686],\n",
       "        [ 2948.01371327],\n",
       "        [ 2397.98709091],\n",
       "        [ 1767.36911973],\n",
       "        [ 1790.41010933],\n",
       "        [ 1688.9163441 ],\n",
       "        [  886.28363127],\n",
       "        [ 1278.91950652],\n",
       "        [ 2728.43273357],\n",
       "        [ 2437.29062355],\n",
       "        [ 1605.47600997],\n",
       "        [ 1360.50783159],\n",
       "        [ 1520.09017124],\n",
       "        [ 1250.70123143],\n",
       "        [ 1353.94377402],\n",
       "        [ 1497.41818716],\n",
       "        [  146.68997618],\n",
       "        [  563.74661286],\n",
       "        [  796.00836778],\n",
       "        [  235.47731795],\n",
       "        [ 1990.31823627],\n",
       "        [ 1846.84382313]])"
      ]
     },
     "execution_count": 10,
     "metadata": {},
     "output_type": "execute_result"
    }
   ],
   "source": [
    "testing_set_3[:,:1]"
   ]
  },
  {
   "cell_type": "code",
   "execution_count": 11,
   "metadata": {
    "collapsed": false
   },
   "outputs": [],
   "source": [
    "# write testing sets to file\n",
    "\n",
    "zdump([testing_set_1, testing_set_2, testing_set_3], '../temp_files/testing_sets_Jul_weekend.pkz')"
   ]
  },
  {
   "cell_type": "code",
   "execution_count": null,
   "metadata": {
    "collapsed": true
   },
   "outputs": [],
   "source": []
  },
  {
   "cell_type": "code",
   "execution_count": null,
   "metadata": {
    "collapsed": true
   },
   "outputs": [],
   "source": []
  },
  {
   "cell_type": "code",
   "execution_count": null,
   "metadata": {
    "collapsed": true
   },
   "outputs": [],
   "source": []
  }
 ],
 "metadata": {
  "kernelspec": {
   "display_name": "Python 2",
   "language": "python",
   "name": "python2"
  },
  "language_info": {
   "codemirror_mode": {
    "name": "ipython",
    "version": 2
   },
   "file_extension": ".py",
   "mimetype": "text/x-python",
   "name": "python",
   "nbconvert_exporter": "python",
   "pygments_lexer": "ipython2",
   "version": "2.7.11"
  }
 },
 "nbformat": 4,
 "nbformat_minor": 0
}
