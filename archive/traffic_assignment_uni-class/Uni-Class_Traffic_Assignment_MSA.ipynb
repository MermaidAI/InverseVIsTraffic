{
 "cells": [
  {
   "cell_type": "code",
   "execution_count": 1,
   "metadata": {
    "collapsed": false
   },
   "outputs": [],
   "source": [
    "# based on https://github.com/chkwon/TrafficAssignment.jl"
   ]
  },
  {
   "cell_type": "code",
   "execution_count": 3,
   "metadata": {
    "collapsed": false
   },
   "outputs": [
    {
     "data": {
      "text/plain": [
       "load_ta_network (generic function with 2 methods)"
      ]
     },
     "execution_count": 3,
     "metadata": {},
     "output_type": "execute_result"
    }
   ],
   "source": [
    "include(joinpath(\"/home/jzh/Dropbox/Research/\",\n",
    "\"Data-driven_estimation_inverse_optimization\", \n",
    "\"Experiments/InverseVIsTraffic/Julia_files/load_network_uni-class.jl\"))"
   ]
  },
  {
   "cell_type": "code",
   "execution_count": 4,
   "metadata": {
    "collapsed": false
   },
   "outputs": [
    {
     "data": {
      "text/plain": [
       "create_graph (generic function with 1 method)"
      ]
     },
     "execution_count": 4,
     "metadata": {},
     "output_type": "execute_result"
    }
   ],
   "source": [
    "using Graphs\n",
    "\n",
    "function create_graph(start_node, end_node)\n",
    "    @assert Base.length(start_node)==Base.length(end_node)\n",
    "\n",
    "    no_node = max(maximum(start_node), maximum(end_node))\n",
    "    no_arc = Base.length(start_node)\n",
    "\n",
    "    graph = simple_inclist(no_node)\n",
    "    for i=1:no_arc\n",
    "        add_edge!(graph, start_node[i], end_node[i])\n",
    "    end\n",
    "    return graph\n",
    "end"
   ]
  },
  {
   "cell_type": "code",
   "execution_count": 5,
   "metadata": {
    "collapsed": false
   },
   "outputs": [
    {
     "data": {
      "text/plain": [
       "get_vector (generic function with 1 method)"
      ]
     },
     "execution_count": 5,
     "metadata": {},
     "output_type": "execute_result"
    }
   ],
   "source": [
    "function get_vector(state, origin, destination, link_dic)\n",
    "    current = destination\n",
    "    parent = -1\n",
    "    x = zeros(Int, maximum(link_dic))\n",
    "\n",
    "    while parent != origin\n",
    "        parent = state.parents[current]\n",
    "\n",
    "        link_idx = link_dic[parent,current]\n",
    "\n",
    "        if link_idx != 0\n",
    "            x[link_idx] = 1\n",
    "        end\n",
    "\n",
    "        current = parent\n",
    "    end\n",
    "\n",
    "    return x\n",
    "end"
   ]
  },
  {
   "cell_type": "code",
   "execution_count": 16,
   "metadata": {
    "collapsed": false
   },
   "outputs": [
    {
     "data": {
      "text/plain": [
       "TA_Data(\"Sioux Falls\",24,24,1,76,[1,1,2,2,3,3,3,4,4,4  …  22,22,22,22,23,23,23,24,24,24],[2,3,1,6,1,4,12,3,5,11  …  15,20,21,23,14,22,24,13,21,23],[25900.2,23403.5,25900.2,4958.18,23403.5,17110.5,23403.5,17110.5,17782.8,4908.83  …  9599.18,5075.7,5229.91,5000.0,4924.79,5000.0,5078.51,5091.26,4885.36,5078.51],[6.0,4.0,6.0,5.0,4.0,4.0,4.0,4.0,2.0,6.0  …  3.0,5.0,2.0,4.0,4.0,4.0,2.0,4.0,3.0,2.0],[6.0,4.0,6.0,5.0,4.0,4.0,4.0,4.0,2.0,6.0  …  3.0,5.0,2.0,4.0,4.0,4.0,2.0,4.0,3.0,2.0],[0.15,0.15,0.15,0.15,0.15,0.15,0.15,0.15,0.15,0.15  …  0.15,0.15,0.15,0.15,0.15,0.15,0.15,0.15,0.15,0.15],[4.0,4.0,4.0,4.0,4.0,4.0,4.0,4.0,4.0,4.0  …  4.0,4.0,4.0,4.0,4.0,4.0,4.0,4.0,4.0,4.0],[0.0,0.0,0.0,0.0,0.0,0.0,0.0,0.0,0.0,0.0  …  0.0,0.0,0.0,0.0,0.0,0.0,0.0,0.0,0.0,0.0],[0.0,0.0,0.0,0.0,0.0,0.0,0.0,0.0,0.0,0.0  …  0.0,0.0,0.0,0.0,0.0,0.0,0.0,0.0,0.0,0.0],[1,1,1,1,1,1,1,1,1,1  …  1,1,1,1,1,1,1,1,1,1],360600.0,24x24 Array{Float64,2}:\n",
       "    0.0  100.0  100.0   500.0   200.0  …   100.0   400.0   300.0   100.0\n",
       "  100.0    0.0  100.0   200.0   100.0        0.0   100.0     0.0     0.0\n",
       "  100.0  100.0    0.0   200.0   100.0        0.0   100.0   100.0     0.0\n",
       "  500.0  200.0  200.0     0.0   500.0      200.0   400.0   500.0   200.0\n",
       "  200.0  100.0  100.0   500.0     0.0      100.0   200.0   100.0     0.0\n",
       "  300.0  400.0  300.0   400.0   200.0  …   100.0   200.0   100.0   100.0\n",
       "  500.0  200.0  100.0   400.0   200.0      200.0   500.0   200.0   100.0\n",
       "  800.0  400.0  200.0   700.0   500.0      400.0   500.0   300.0   200.0\n",
       "  500.0  200.0  100.0   700.0   800.0      300.0   700.0   500.0   200.0\n",
       " 1300.0  600.0  300.0  1200.0  1000.0     1200.0  2600.0  1800.0   800.0\n",
       "  500.0  200.0  300.0  1500.0   500.0  …   400.0  1100.0  1300.0   600.0\n",
       "  200.0  100.0  200.0   600.0   200.0      300.0   700.0   700.0   500.0\n",
       "  500.0  300.0  100.0   600.0   200.0      600.0  1300.0   800.0   800.0\n",
       "  300.0  100.0  100.0   500.0   100.0      400.0  1200.0  1100.0   400.0\n",
       "  500.0  100.0  100.0   500.0   200.0      800.0  2600.0  1000.0   400.0\n",
       "  500.0  400.0  200.0   800.0   500.0  …   600.0  1200.0   500.0   300.0\n",
       "  400.0  200.0  100.0   500.0   200.0      600.0  1700.0   600.0   300.0\n",
       "  100.0    0.0    0.0   100.0     0.0      100.0   300.0   100.0     0.0\n",
       "  300.0  100.0    0.0   200.0   100.0      400.0  1200.0   300.0   100.0\n",
       "  300.0  100.0    0.0   300.0   100.0     1200.0  2400.0   700.0   400.0\n",
       "  100.0    0.0    0.0   200.0   100.0  …     0.0  1800.0   700.0   500.0\n",
       "  400.0  100.0  100.0   400.0   200.0     1800.0     0.0  2100.0  1100.0\n",
       "  300.0    0.0  100.0   500.0   100.0      700.0  2100.0     0.0   700.0\n",
       "  100.0    0.0    0.0   200.0     0.0      500.0  1100.0   700.0     0.0,[(1,1),(1,2),(1,3),(1,4),(1,5),(1,6),(1,7),(1,8),(1,9),(1,10)  …  (24,15),(24,16),(24,17),(24,18),(24,19),(24,20),(24,21),(24,22),(24,23),(24,24)],0.0,0.0,0.0)"
      ]
     },
     "execution_count": 16,
     "metadata": {},
     "output_type": "execute_result"
    }
   ],
   "source": [
    "ta_data = load_ta_network(\"Sioux Falls\")"
   ]
  },
  {
   "cell_type": "code",
   "execution_count": 17,
   "metadata": {
    "collapsed": false
   },
   "outputs": [
    {
     "data": {
      "text/plain": [
       "0.0"
      ]
     },
     "execution_count": 17,
     "metadata": {},
     "output_type": "execute_result"
    }
   ],
   "source": [
    "# unpacking data from ta_data\n",
    "network_name = ta_data.network_name\n",
    "\n",
    "number_of_zones = ta_data.number_of_zones\n",
    "number_of_nodes = ta_data.number_of_nodes\n",
    "first_thru_node = ta_data.first_thru_node\n",
    "number_of_links = ta_data.number_of_links\n",
    "\n",
    "start_node = ta_data.start_node\n",
    "end_node = ta_data.end_node\n",
    "capacity = ta_data.capacity\n",
    "link_length = ta_data.link_length\n",
    "\n",
    "free_flow_time = ta_data.free_flow_time\n",
    "B = ta_data.B\n",
    "power = ta_data.power\n",
    "speed_limit = ta_data.speed_limit\n",
    "toll = ta_data.toll\n",
    "link_type = ta_data.link_type\n",
    "number_of_zones = ta_data.number_of_zones\n",
    "total_od_flow = ta_data.total_od_flow\n",
    "travel_demand = ta_data.travel_demand\n",
    "od_pairs = ta_data.od_pairs\n",
    "\n",
    "toll_factor = ta_data.toll_factor\n",
    "distance_factor = ta_data.distance_factor\n",
    "\n",
    "best_objective = ta_data.best_objective"
   ]
  },
  {
   "cell_type": "code",
   "execution_count": 18,
   "metadata": {
    "collapsed": false
   },
   "outputs": [
    {
     "data": {
      "text/plain": [
       "24x24 sparse matrix with 76 Int64 entries:\n",
       "\t[2 ,  1]  =  3\n",
       "\t[3 ,  1]  =  5\n",
       "\t[1 ,  2]  =  1\n",
       "\t[6 ,  2]  =  14\n",
       "\t[1 ,  3]  =  2\n",
       "\t[4 ,  3]  =  8\n",
       "\t[12,  3]  =  35\n",
       "\t[3 ,  4]  =  6\n",
       "\t[5 ,  4]  =  11\n",
       "\t[11,  4]  =  31\n",
       "\t⋮\n",
       "\t[24, 21]  =  75\n",
       "\t[15, 22]  =  46\n",
       "\t[20, 22]  =  63\n",
       "\t[21, 22]  =  65\n",
       "\t[23, 22]  =  72\n",
       "\t[14, 23]  =  42\n",
       "\t[22, 23]  =  70\n",
       "\t[24, 23]  =  76\n",
       "\t[13, 24]  =  39\n",
       "\t[21, 24]  =  66\n",
       "\t[23, 24]  =  73"
      ]
     },
     "execution_count": 18,
     "metadata": {},
     "output_type": "execute_result"
    }
   ],
   "source": [
    "# preparing a graph\n",
    "graph = create_graph(start_node, end_node)\n",
    "link_dic = sparse(start_node, end_node, 1:number_of_links)"
   ]
  },
  {
   "cell_type": "code",
   "execution_count": 19,
   "metadata": {
    "collapsed": false
   },
   "outputs": [
    {
     "data": {
      "text/plain": [
       "Directed Graph (24 vertices, 76 edges)"
      ]
     },
     "execution_count": 19,
     "metadata": {},
     "output_type": "execute_result"
    }
   ],
   "source": [
    "graph"
   ]
  },
  {
   "cell_type": "code",
   "execution_count": 20,
   "metadata": {
    "collapsed": false
   },
   "outputs": [
    {
     "data": {
      "text/plain": [
       "BPR (generic function with 1 method)"
      ]
     },
     "execution_count": 20,
     "metadata": {},
     "output_type": "execute_result"
    }
   ],
   "source": [
    "function BPR(x)\n",
    "    # travel_time = free_flow_time .* ( 1.0 + B .* (x./capacity).^power )\n",
    "    # generalized_cost = travel_time + toll_factor *toll + distance_factor * link_length\n",
    "    # return generalized_cost\n",
    "\n",
    "    bpr = similar(x)\n",
    "    for i=1:length(bpr)\n",
    "        bpr[i] = free_flow_time[i] * ( 1.0 + B[i] * (x[i]/capacity[i])^power[i] )\n",
    "        bpr[i] += toll_factor *toll[i] + distance_factor * link_length[i]\n",
    "    end\n",
    "    return bpr\n",
    "end"
   ]
  },
  {
   "cell_type": "code",
   "execution_count": 21,
   "metadata": {
    "collapsed": false
   },
   "outputs": [
    {
     "data": {
      "text/plain": [
       "all_or_nothing (generic function with 1 method)"
      ]
     },
     "execution_count": 21,
     "metadata": {},
     "output_type": "execute_result"
    }
   ],
   "source": [
    "function all_or_nothing(travel_time)\n",
    "    state = []\n",
    "    path = []\n",
    "    x = zeros(size(start_node))\n",
    "\n",
    "    for r=1:size(travel_demand)[1]\n",
    "        # for each origin node r, find shortest paths to all destination nodes\n",
    "        state = dijkstra_shortest_paths(graph, travel_time, r)\n",
    "\n",
    "        for s=1:size(travel_demand)[2]\n",
    "            # for each destination node s, find the shortest-path vector\n",
    "            # load travel demand\n",
    "            x = x + travel_demand[r,s] * get_vector(state, r, s, link_dic)\n",
    "        end\n",
    "    end\n",
    "\n",
    "    return x\n",
    "end"
   ]
  },
  {
   "cell_type": "code",
   "execution_count": 22,
   "metadata": {
    "collapsed": false
   },
   "outputs": [
    {
     "data": {
      "text/plain": [
       "76-element Array{Float64,1}:\n",
       "  3800.0\n",
       "  6000.0\n",
       "  3800.0\n",
       "  6600.0\n",
       "  6000.0\n",
       "  8400.0\n",
       "  8600.0\n",
       "  9200.0\n",
       " 13700.0\n",
       "  5600.0\n",
       " 14400.0\n",
       " 10200.0\n",
       "  7000.0\n",
       "     ⋮  \n",
       " 13000.0\n",
       " 12800.0\n",
       " 25200.0\n",
       "  5300.0\n",
       " 13000.0\n",
       "  7700.0\n",
       "  5500.0\n",
       " 10800.0\n",
       "  5700.0\n",
       " 10800.0\n",
       " 12700.0\n",
       "  5700.0"
      ]
     },
     "execution_count": 22,
     "metadata": {},
     "output_type": "execute_result"
    }
   ],
   "source": [
    "# Finding a starting feasible solution\n",
    "travel_time = BPR(zeros(number_of_links))\n",
    "xl = all_or_nothing(travel_time)"
   ]
  },
  {
   "cell_type": "code",
   "execution_count": 23,
   "metadata": {
    "collapsed": false
   },
   "outputs": [
    {
     "name": "stdout",
     "output_type": "stream",
     "text": [
      "l = 10000------------------------------------------------\n",
      "relative_gap is 1.8569850206580012e-5\n"
     ]
    }
   ],
   "source": [
    "max_iter_no = 1e4\n",
    "l = 1\n",
    "#average_excess_cost = 1\n",
    "tol = 1e-6\n",
    "\n",
    "while l < max_iter_no\n",
    "    l += 1\n",
    "    \n",
    "    xl_old = xl\n",
    "    \n",
    "    # Finding yl\n",
    "    travel_time = BPR(xl)\n",
    "    \n",
    "    yl = all_or_nothing(travel_time)\n",
    "    \n",
    "    assert(yl != xl)\n",
    "    \n",
    "    xl = xl + (yl - xl)/l\n",
    "    \n",
    "    xl_new = xl\n",
    "    \n",
    "    relative_gap = norm(xl_new - xl_old, 1) / norm(xl_new, 1)\n",
    "\n",
    "    if l % 10000 == 0\n",
    "        print(\"l = $l------------------------------------------------\\n\")\n",
    "        print(\"relative_gap is $relative_gap\\n\")\n",
    "    end\n",
    "\n",
    "    if relative_gap < tol \n",
    "        print(\"l = $l------------------------------------------------\\n\")\n",
    "        print(\"relative_gap is $relative_gap\\n\")\n",
    "        break\n",
    "    end\n",
    "    \n",
    "end"
   ]
  },
  {
   "cell_type": "code",
   "execution_count": 25,
   "metadata": {
    "collapsed": false
   },
   "outputs": [],
   "source": [
    "outfile = open(\"flows_converge.txt\", \"w\")\n",
    "\n",
    "write(outfile, join((\"From\", \"to\", \"Volume_Capacity\"), \"        \"), \"\\n\")\n",
    "\n",
    "for i = 1:length(ta_data.start_node)\n",
    "     n1, n2, n3 = ta_data.start_node[i], ta_data.end_node[i], xl[i]\n",
    "     write(outfile, join((n1, n2, n3), \"        \"), \"\\n\")\n",
    "end\n",
    "\n",
    "close(outfile)"
   ]
  },
  {
   "cell_type": "code",
   "execution_count": null,
   "metadata": {
    "collapsed": false
   },
   "outputs": [],
   "source": []
  }
 ],
 "metadata": {
  "kernelspec": {
   "display_name": "Julia 0.3.7",
   "language": "julia",
   "name": "julia-0.3"
  },
  "language_info": {
   "file_extension": ".jl",
   "mimetype": "application/julia",
   "name": "julia",
   "version": "0.3.7"
  }
 },
 "nbformat": 4,
 "nbformat_minor": 0
}
