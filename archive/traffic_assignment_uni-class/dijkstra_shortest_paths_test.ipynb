{
 "cells": [
  {
   "cell_type": "code",
   "execution_count": 2,
   "metadata": {
    "collapsed": false
   },
   "outputs": [],
   "source": [
    "using Graphs\n",
    "\n",
    "# construct a graph and the edge distance vector\n",
    "\n",
    "g = simple_inclist(5)\n",
    "\n",
    "inputs = [       # each element is (u, v, dist)\n",
    "    (1, 2, 10.),\n",
    "    (1, 3, 5.),\n",
    "    (2, 3, 2.),\n",
    "    (3, 2, 3.),\n",
    "    (2, 4, 1.),\n",
    "    (3, 5, 2.),\n",
    "    (4, 5, 4.),\n",
    "    (5, 4, 6.),\n",
    "    (5, 1, 7.),\n",
    "    (3, 4, 9.) ]\n",
    "\n",
    "ne = length(inputs)\n",
    "dists = zeros(ne)\n",
    "\n",
    "for i = 1 : ne\n",
    "    a = inputs[i]\n",
    "    add_edge!(g, a[1], a[2])   # add edge\n",
    "    dists[i] = a[3]             # set distance\n",
    "end\n",
    "\n",
    "r = dijkstra_shortest_paths(g, dists, 1)\n",
    "\n",
    "@assert r.parents == [1, 3, 1, 2, 3]\n",
    "@assert r.dists == [0., 8., 5., 9., 7.]"
   ]
  },
  {
   "cell_type": "code",
   "execution_count": 5,
   "metadata": {
    "collapsed": false
   },
   "outputs": [
    {
     "data": {
      "text/plain": [
       "([[edge [1]: 1 -- 2,edge [2]: 1 -- 3],[edge [3]: 2 -- 3,edge [5]: 2 -- 4],[edge [4]: 3 -- 2,edge [6]: 3 -- 5,edge [10]: 3 -- 4],[edge [7]: 4 -- 5],[edge [8]: 5 -- 4,edge [9]: 5 -- 1]],true,10,1:5)"
      ]
     },
     "execution_count": 5,
     "metadata": {},
     "output_type": "execute_result"
    }
   ],
   "source": [
    "g.inclist, g.is_directed, g.nedges, g.vertices"
   ]
  },
  {
   "cell_type": "code",
   "execution_count": 8,
   "metadata": {
    "collapsed": false
   },
   "outputs": [
    {
     "data": {
      "text/plain": [
       "([1,3,1,2,3],[0.0,8.0,5.0,9.0,7.0])"
      ]
     },
     "execution_count": 8,
     "metadata": {},
     "output_type": "execute_result"
    }
   ],
   "source": [
    "r.parents, r.dists"
   ]
  },
  {
   "cell_type": "code",
   "execution_count": 9,
   "metadata": {
    "collapsed": false
   },
   "outputs": [
    {
     "data": {
      "text/plain": [
       "get_vector (generic function with 1 method)"
      ]
     },
     "execution_count": 9,
     "metadata": {},
     "output_type": "execute_result"
    }
   ],
   "source": [
    "function get_vector(state, origin, destination, link_dic)\n",
    "    current = destination\n",
    "    parent = -1\n",
    "    x = zeros(Int, maximum(link_dic))\n",
    "\n",
    "    while parent != origin\n",
    "        parent = state.parents[current]\n",
    "\n",
    "        link_idx = link_dic[parent,current]\n",
    "\n",
    "        if link_idx != 0\n",
    "            x[link_idx] = 1\n",
    "        end\n",
    "\n",
    "        current = parent\n",
    "    end\n",
    "\n",
    "    return x\n",
    "end"
   ]
  },
  {
   "cell_type": "code",
   "execution_count": 10,
   "metadata": {
    "collapsed": false
   },
   "outputs": [
    {
     "ename": "LoadError",
     "evalue": "`Array{T,N}` has no method matching Array{T,N}(::Type{Int64}, ::Float64)\nwhile loading In[10], in expression starting on line 1",
     "output_type": "error",
     "traceback": [
      "`Array{T,N}` has no method matching Array{T,N}(::Type{Int64}, ::Float64)\nwhile loading In[10], in expression starting on line 1",
      "",
      " in get_vector at In[9]:4"
     ]
    }
   ],
   "source": [
    "get_vector(r, 1, 3, link_dic)"
   ]
  },
  {
   "cell_type": "code",
   "execution_count": 12,
   "metadata": {
    "collapsed": false
   },
   "outputs": [
    {
     "ename": "LoadError",
     "evalue": "`sparse` has no method matching sparse(::Int64, ::Int64, ::UnitRange{Int64}, ::Int64, ::Int64, ::Function)\nwhile loading In[12], in expression starting on line 1",
     "output_type": "error",
     "traceback": [
      "`sparse` has no method matching sparse(::Int64, ::Int64, ::UnitRange{Int64}, ::Int64, ::Int64, ::Function)\nwhile loading In[12], in expression starting on line 1",
      "",
      " in sparse at sparse/sparsematrix.jl:298"
     ]
    }
   ],
   "source": [
    "link_dic = sparse(1, 3, 1:ne)"
   ]
  },
  {
   "cell_type": "code",
   "execution_count": null,
   "metadata": {
    "collapsed": true
   },
   "outputs": [],
   "source": []
  }
 ],
 "metadata": {
  "kernelspec": {
   "display_name": "Julia 0.3.7",
   "language": "julia",
   "name": "julia-0.3"
  },
  "language_info": {
   "file_extension": ".jl",
   "mimetype": "application/julia",
   "name": "julia",
   "version": "0.3.7"
  }
 },
 "nbformat": 4,
 "nbformat_minor": 0
}
