{
 "metadata": {
  "name": ""
 },
 "nbformat": 3,
 "nbformat_minor": 0,
 "worksheets": [
  {
   "cells": [
    {
     "cell_type": "code",
     "collapsed": false,
     "input": [
      "cd(\"/home/jzh/Dropbox/Research/Data-driven_estimation_inverse_optimization/Experiments/InverseVIsTraffic\")"
     ],
     "language": "python",
     "metadata": {},
     "outputs": [],
     "prompt_number": 1
    },
    {
     "cell_type": "code",
     "collapsed": false,
     "input": [
      "#include(\"defArc.jl\")\n",
      "\n",
      "type Arc\n",
      "    initNode::Int \n",
      "    termNode::Int \n",
      "    capacity::Float64\n",
      "    freeflowtime::Float64\n",
      "    flow::Float64\n",
      "    flow_car::Float64\n",
      "    flow_truck::Float64\n",
      "end\n",
      "\n",
      "Arc(initNode::Int, termNode::Int, capacity::Float64,freeflowtime::Float64) = \n",
      "    Arc(initNode, termNode, capacity, freeflowtime, 0., 0., 0.)"
     ],
     "language": "python",
     "metadata": {},
     "outputs": [
      {
       "metadata": {},
       "output_type": "pyout",
       "prompt_number": 2,
       "text": [
        "Arc (constructor with 3 methods)"
       ]
      }
     ],
     "prompt_number": 2
    },
    {
     "cell_type": "code",
     "collapsed": false,
     "input": [
      "#include(\"fitTraffic.jl\")\n",
      "\n",
      "## Solve an inverse tarffic problem over polynomials of degree at most d\n",
      "## optionally use a regularizer from the poly kernel\n",
      "\n",
      "using JuMP\n",
      "using Gurobi\n",
      "using Graphs\n",
      "using Roots\n",
      "\n",
      "\n",
      "polyEval(coeffs, pt) = sum([coeffs[i] * pt^(i-1) for i = 1:length(coeffs)])  \n",
      "polyEval(coeffs::Array{Float64, 1}, pt) = sum([coeffs[i] * pt^(i-1) for i = 1:length(coeffs)]) #separate for consts\n",
      "\n",
      "bpacost(flow::Float64, capacity::Float64, freeflowtime::Float64) = freeflowtime*(1 + .15 * (flow/capacity)^4)\n",
      "bpacost(flow::Float64, arc) = bpacost(flow, arc.capacity, arc.freeflowtime)\n",
      "bpacost(arc::Arc) = bpacost(arc.flow, arc)"
     ],
     "language": "python",
     "metadata": {},
     "outputs": [
      {
       "metadata": {},
       "output_type": "pyout",
       "prompt_number": 3,
       "text": [
        "bpacost (generic function with 3 methods)"
       ]
      }
     ],
     "prompt_number": 3
    },
    {
     "cell_type": "code",
     "collapsed": false,
     "input": [
      "function setUpFitting(deg::Int, c::Float64)\n",
      "\n",
      "\tm = Model(solver=GurobiSolver(OutputFlag=false))\n",
      "    \n",
      "\t@defVar(m, coeffs[1:deg+1])\n",
      "\t@defVar(m, Calphas[1:deg+1])\n",
      "\n",
      "\t#build the graham matrix\n",
      "\tsamples = linspace(0, 1, deg + 1)\n",
      "\tk(x,y) = (c + x*y)^deg\n",
      "\tK = [ k(x,y) for x = samples, y=samples]\n",
      "\tK = convert(Array{Float64, 2}, K)\n",
      "\tassert(rank(K) == deg+1)\n",
      "    \n",
      "\tC = chol(K + 1e-6* eye(deg+1))\n",
      "\tfor i=1:deg + 1\n",
      "\t\t@addConstraint(m, polyEval(coeffs, samples[i]) == sum{C[j, i] * Calphas[j], j=1:deg+1})\n",
      "\tend\n",
      "    \n",
      "\t@defVar(m, reg_term >= 0)\n",
      "\treg_term_ = QuadExpr(Calphas[:], Calphas[:], ones(deg+1), AffExpr())\n",
      "    \n",
      "\t@addConstraint(m, reg_term >= reg_term_)\n",
      "    \n",
      "\treturn m, coeffs, reg_term\n",
      "\n",
      "end"
     ],
     "language": "python",
     "metadata": {},
     "outputs": [
      {
       "metadata": {},
       "output_type": "pyout",
       "prompt_number": 4,
       "text": [
        "setUpFitting (generic function with 1 method)"
       ]
      }
     ],
     "prompt_number": 4
    },
    {
     "cell_type": "code",
     "collapsed": false,
     "input": [
      "function fixCoeffs(m, fcoeffs, coeffs)\n",
      "\tfor (fc, c) in zip(fcoeffs, coeffs[:])\n",
      "\t\t@addConstraint(m, fc == c)\n",
      "\tend\n",
      "end"
     ],
     "language": "python",
     "metadata": {},
     "outputs": [
      {
       "metadata": {},
       "output_type": "pyout",
       "prompt_number": 5,
       "text": [
        "fixCoeffs (generic function with 1 method)"
       ]
      }
     ],
     "prompt_number": 5
    },
    {
     "cell_type": "code",
     "collapsed": false,
     "input": [
      "function addResid(m, coeffs, ys_car, ys_truck, demands_car, demands_truck, arcs, scaling)\n",
      "\t@defVar(m, resid)\n",
      "    @defVar(m, dual_cost)\n",
      "\t@defVar(m, dual_cost_car)\n",
      "    @defVar(m, dual_cost_truck)\n",
      "\t@defVar(m, primal_cost)\n",
      "    @defVar(m, primal_cost_car)\n",
      "    @defVar(m, primal_cost_truck)\n",
      "\n",
      "\t@addConstraint(m, dual_cost_car == sum{demands_car[(s,t)] * (ys_car[(s,t), t] - ys_car[(s,t), s]), (s,t)=keys(demands_car)})  \n",
      "    @addConstraint(m, dual_cost_truck == sum{demands_truck[(s,t)] * (ys_truck[(s,t), t] - ys_truck[(s,t), s]), (s,t)=keys(demands_truck)})  \n",
      "    @addConstraint(m, dual_cost == dual_cost_car + dual_cost_truck)\n",
      "    \n",
      "\t@addConstraint(m, primal_cost_car == sum{a.flow_car * 1.0 * a.freeflowtime * polyEval(coeffs, a.flow/a.capacity), a=values(arcs)})\n",
      "\t@addConstraint(m, primal_cost_truck == sum{a.flow_truck * 1.1 * a.freeflowtime * polyEval(coeffs, a.flow/a.capacity), a=values(arcs)})\n",
      "    @addConstraint(m, primal_cost == primal_cost_car + primal_cost_truck)\n",
      "                   \n",
      "\t@addConstraint(m, resid >= (dual_cost - primal_cost) / scaling )\n",
      "\t@addConstraint(m, resid >= (primal_cost - dual_cost) / scaling )\n",
      "\treturn resid\n",
      "end"
     ],
     "language": "python",
     "metadata": {},
     "outputs": [
      {
       "metadata": {},
       "output_type": "pyout",
       "prompt_number": 6,
       "text": [
        "addResid (generic function with 1 method)"
       ]
      }
     ],
     "prompt_number": 6
    },
    {
     "cell_type": "code",
     "collapsed": false,
     "input": [
      "function addIncreasingCnsts(m, coeffs, arcs; TOL=0.)\n",
      "\tsorted_flows = sort([a.flow / a.capacity for a in values(arcs)])\n",
      "\t@addConstraint(m, polyEval(coeffs, 0) <= polyEval(coeffs, sorted_flows[1]))\n",
      "\tfor i = 2:length(sorted_flows)\n",
      "\t\t@addConstraint(m, polyEval(coeffs, sorted_flows[i-1]) <= polyEval(coeffs, sorted_flows[i]) + TOL)\n",
      "\tend\n",
      "end"
     ],
     "language": "python",
     "metadata": {},
     "outputs": [
      {
       "metadata": {},
       "output_type": "pyout",
       "prompt_number": 7,
       "text": [
        "addIncreasingCnsts (generic function with 1 method)"
       ]
      }
     ],
     "prompt_number": 7
    },
    {
     "cell_type": "code",
     "collapsed": false,
     "input": [
      "#equates the total cost of the network to the true total cost\n",
      "function normalize(m, coeffs, tot_true_cost::Float64, arcs)\n",
      "\t@addConstraint(m, \n",
      "\t\tsum{a.freeflowtime * a.flow * polyEval(coeffs, a.flow / a.capacity), \n",
      "\t\t\ta=values(arcs)} == tot_true_cost)\n",
      "end\n",
      "\n",
      "function normalize(m, coeffs, scaled_flow::Float64, cost::Float64)\n",
      "\t@addConstraint(m, polyEval(coeffs, scaled_flow) == cost)\n",
      "end\n",
      "\n",
      "function normalize(m, coeffs, scaled_flows::Array{Float64, 1}, avgCost::Float64)\n",
      "    @addConstraint(m, sum{polyEval(coeffs, f), f=scaled_flows} == avgCost * length(scaled_flows))\n",
      "end"
     ],
     "language": "python",
     "metadata": {},
     "outputs": [
      {
       "metadata": {},
       "output_type": "pyout",
       "prompt_number": 8,
       "text": [
        "normalize (generic function with 3 methods)"
       ]
      }
     ],
     "prompt_number": 8
    },
    {
     "cell_type": "code",
     "collapsed": false,
     "input": [
      "function addNetworkCnsts(m, coeffs, demands_car, demands_truck, arcs, numNodes)\n",
      "\t@defVar(m, ys_car[keys(demands_car), 1:numNodes])\n",
      "    @defVar(m, ys_truck[keys(demands_truck), 1:numNodes])\n",
      "\tfor k = keys(arcs)\n",
      "\t\ta = arcs[k]\n",
      "\t\trhs = a.freeflowtime * polyEval(coeffs, a.flow/a.capacity)\n",
      "\t\tfor od in keys(demands_car)\n",
      "\t\t\t@addConstraint(m, ys_car[od, k[2]] - ys_car[od, k[1]] <= 1.0 * rhs)\n",
      "\t\tend\n",
      "\t\tfor od in keys(demands_truck)\n",
      "\t\t\t@addConstraint(m, ys_truck[od, k[2]] - ys_truck[od, k[1]] <= 1.1 * rhs)\n",
      "\t\tend\n",
      "\tend\n",
      "\treturn ys_car, ys_truck\n",
      "end"
     ],
     "language": "python",
     "metadata": {},
     "outputs": [
      {
       "metadata": {},
       "output_type": "pyout",
       "prompt_number": 9,
       "text": [
        "addNetworkCnsts (generic function with 1 method)"
       ]
      }
     ],
     "prompt_number": 9
    },
    {
     "cell_type": "code",
     "collapsed": false,
     "input": [
      "#Read in the demand file\n",
      "\n",
      "file = open(\"./data_original/SiouxFalls_trips.txt\")\n",
      "\n",
      "demands = Dict{(Int64,Int64), Float64}()\n",
      "demands_car = Dict{(Int64,Int64), Float64}()\n",
      "demands_truck = Dict{(Int64,Int64), Float64}()\n",
      "\n",
      "s = 0\n",
      "for line in eachline(file)\n",
      "    if contains(line, \"Origin\")\n",
      "        s = int(split(line)[2])\n",
      "    else\n",
      "        pairs = split(line, \";\")\n",
      "        for pair in pairs\n",
      "            if !contains(pair, \"\\n\")\n",
      "                pair_vals = split(pair, \":\")\n",
      "                t, demand = int(pair_vals[1]), float(pair_vals[2])\n",
      "                demands[(s,t)] = demand\n",
      "                demands_car[(s,t)] = demand * .8\n",
      "                demands_truck[(s,t)] = demand * .2\n",
      "            end\n",
      "        end\n",
      "    end\n",
      "end                \n",
      "close(file)"
     ],
     "language": "python",
     "metadata": {},
     "outputs": [],
     "prompt_number": 10
    },
    {
     "cell_type": "code",
     "collapsed": false,
     "input": [
      "#read in the arc files\n",
      "\n",
      "arcs = Dict{(Int, Int), Arc}()\n",
      "file = open(\"./data_original/SiouxFalls_net.txt\")\n",
      "inHeader=true\n",
      "for line in eachline(file)\n",
      "    if inHeader\n",
      "        inHeader = !contains(line, \"Init node\")\n",
      "        continue\n",
      "    end\n",
      "    vals = split(line, )\n",
      "    arcs[(int(vals[1]), int(vals[2]))] = Arc(int(vals[1]), int(vals[2]), \n",
      "                                              float(vals[3]), float(vals[5]))\n",
      "end\n",
      "close(file)"
     ],
     "language": "python",
     "metadata": {},
     "outputs": [],
     "prompt_number": 11
    },
    {
     "cell_type": "code",
     "collapsed": false,
     "input": [
      "#read in the car flows\n",
      "\n",
      "file = open(\"./data_original/flows_car_converge_1e-6.txt\")\n",
      "ix = 0; \n",
      "for line in eachline(file)\n",
      "    ix +=1\n",
      "    if ix ==1\n",
      "        continue\n",
      "    end\n",
      "    vals = split(line)\n",
      "    arcs[(int(vals[1]), int(vals[2]))].flow_car = float(vals[3])\n",
      "end\n",
      "\n",
      "close(file)"
     ],
     "language": "python",
     "metadata": {},
     "outputs": [],
     "prompt_number": 13
    },
    {
     "cell_type": "code",
     "collapsed": false,
     "input": [
      "#read in the truck flows\n",
      "\n",
      "file = open(\"./data_original/flows_truck_converge_1e-6.txt\")\n",
      "ix = 0; \n",
      "for line in eachline(file)\n",
      "    ix +=1\n",
      "    if ix ==1\n",
      "        continue\n",
      "    end\n",
      "    vals = split(line)\n",
      "    arcs[(int(vals[1]), int(vals[2]))].flow_truck = float(vals[3])\n",
      "end\n",
      "\n",
      "close(file)"
     ],
     "language": "python",
     "metadata": {},
     "outputs": [],
     "prompt_number": 14
    },
    {
     "cell_type": "code",
     "collapsed": false,
     "input": [
      "#calculate the total flow on each link\n",
      "for (s,t) in keys(arcs)\n",
      "    arcs[(s,t)].flow = 1.0 * arcs[(s,t)].flow_car + 2.0 * arcs[(s,t)].flow_truck\n",
      "end"
     ],
     "language": "python",
     "metadata": {},
     "outputs": [],
     "prompt_number": 15
    },
    {
     "cell_type": "code",
     "collapsed": false,
     "input": [
      "##########\n",
      "#Generate the simulated data\n",
      "##########\n",
      "numData = 1; sigma = .0\n",
      "\n",
      "flow_data = Array(Float64, length(arcs), numData)\n",
      "flow_data_car = Array(Float64, length(arcs), numData)\n",
      "flow_data_truck = Array(Float64, length(arcs), numData)\n",
      "\n",
      "demand_data = Dict{(Int, Int), Array{Float64, 1}}()\n",
      "demand_data_car = Dict{(Int, Int), Array{Float64, 1}}()\n",
      "demand_data_truck = Dict{(Int, Int), Array{Float64, 1}}()\n",
      "\n",
      "numNodes = maximum(map(pair->pair[1], keys(demands)))\n",
      "g = simple_inclist(numNodes, is_directed=true)\n",
      "vArcs = Arc[]\n",
      "for arc in values(arcs)\n",
      "    add_edge!(g, arc.initNode, arc.termNode) \n",
      "    push!(vArcs, arc)\n",
      "end\n",
      "\n",
      "\n",
      "for iRun = 1:numData\n",
      "    for odpair in keys(demands)\n",
      "        if ! haskey(demand_data, odpair)\n",
      "            demand_data[odpair] = [demands[odpair], ]\n",
      "            demand_data_car[odpair] = [demands_car[odpair], ]\n",
      "            demand_data_truck[odpair] = [demands_truck[odpair], ]\n",
      "        else\n",
      "            push!(demand_data[odpair], demands[odpair])\n",
      "            push!(demand_data_car[odpair], demands_car[odpair])\n",
      "            push!(demand_data_truck[odpair], demands_truck[odpair])\n",
      "        end\n",
      "    end\n",
      "    \n",
      "    flow_data[:, iRun] = [a.flow::Float64 for a in vArcs]\n",
      "    flow_data_car[:, iRun] = [a.flow_car::Float64 for a in vArcs]\n",
      "    flow_data_truck[:, iRun] = [a.flow_truck::Float64 for a in vArcs]\n",
      "end"
     ],
     "language": "python",
     "metadata": {},
     "outputs": [],
     "prompt_number": 16
    },
    {
     "cell_type": "code",
     "collapsed": false,
     "input": [
      "using DataFrames, Resampling\n",
      "\n",
      "##########\n",
      "#Fitting Funcs\n",
      "##########\n",
      "\n",
      "function train(indices, lam::Float64, deg::Int, c::Float64, demand_data, flow_data, arcs; fcoeffs=nothing)\n",
      "    numNodes = maximum(map(pair->pair[1], keys(arcs)))\n",
      "    m, coeffs, reg_term = setUpFitting(deg, c)\n",
      "    \n",
      "    addIncreasingCnsts(m, coeffs, arcs, TOL=1e-8)  #uses the original obs flows\n",
      "\n",
      "    avgCost = mean( [bpacost(a.flow, a.capacity, 1.0) for a in values(arcs)] )\n",
      "    normalize(m, coeffs, [a.flow / a.capacity for a in values(arcs)], avgCost)\n",
      "\n",
      "\n",
      "    resids = Variable[]\n",
      "    \n",
      "    for i = indices\n",
      "        #copy the flow data over to the arcs, demand data to demands (slow)\n",
      "        for (ix, a) in enumerate(vArcs)\n",
      "            a.flow = flow_data[ix, i]\n",
      "        end\n",
      "        for odpair in keys(demands)\n",
      "            demands[odpair] = demand_data[odpair][i]\n",
      "        end\n",
      "    \n",
      "        #Dual Feasibility\n",
      "        ys_car, ys_truck = addNetworkCnsts(m, coeffs, demands_car, demands_truck, arcs, numNodes)\n",
      "        \n",
      "        #add the residual for this data point\n",
      "        push!(resids, addResid(m, coeffs, ys_car, ys_truck, demands_car, demands_truck, arcs, 1e6))\n",
      "    end\n",
      "\n",
      "    if fcoeffs != nothing\n",
      "        fixCoeffs(m, fcoeffs, coeffs)\n",
      "    end\n",
      "    @setObjective(m, Min, sum{resids[i], i = 1:length(resids)} + lam*reg_term)\n",
      "    solve(m)\n",
      "    println(getObjectiveValue(m) - lam * getValue(reg_term) )\n",
      "    return [getValue(coeffs[i]) for i =1:length(coeffs)]\n",
      "end"
     ],
     "language": "python",
     "metadata": {},
     "outputs": [
      {
       "metadata": {},
       "output_type": "pyout",
       "prompt_number": 17,
       "text": [
        "train (generic function with 1 method)"
       ]
      }
     ],
     "prompt_number": 17
    },
    {
     "cell_type": "code",
     "collapsed": false,
     "input": [
      "#include(\"trafficCval.jl\")\n",
      "\n",
      "arcs3 = arcs\n",
      "arcs4 = arcs\n",
      "arcs5 = arcs\n",
      "arcs6 = arcs\n",
      "coeffs_dict = Dict{(Int64,Float64,Float64),Array{Float64,1}}()\n",
      "\n",
      "# deg = 3\n",
      "deg = 3\n",
      "c = 3.\n",
      "lam = 1e-4\n",
      "\n",
      "fcoeffs3 = train(1:numData, lam, deg, c, demand_data, flow_data, arcs3)\n",
      "coeffs_dict[(deg, c, lam)] = fcoeffs3\n",
      "\n",
      "# deg = 4\n",
      "deg = 4\n",
      "c = 4.\n",
      "lam = .1\n",
      "\n",
      "fcoeffs4 = train(1:numData, lam, deg, c, demand_data, flow_data, arcs4)\n",
      "coeffs_dict[(deg, c, lam)] = fcoeffs4\n",
      "\n",
      "# deg = 5\n",
      "deg = 5\n",
      "c = 5.\n",
      "lam = .01\n",
      "\n",
      "fcoeffs5 = train(1:numData, lam, deg, c, demand_data, flow_data, arcs5)\n",
      "coeffs_dict[(deg, c, lam)] = fcoeffs5\n",
      "\n",
      "# deg = 6\n",
      "deg = 6\n",
      "c = 6.\n",
      "lam = 1e-3\n",
      "\n",
      "fcoeffs6 = train(1:numData, lam, deg, c, demand_data, flow_data, arcs6)\n",
      "coeffs_dict[(deg, c, lam)] = fcoeffs6"
     ],
     "language": "python",
     "metadata": {},
     "outputs": [
      {
       "output_type": "stream",
       "stream": "stdout",
       "text": [
        "0.0"
       ]
      },
      {
       "output_type": "stream",
       "stream": "stdout",
       "text": [
        "0833117634120031\n",
        "7"
       ]
      },
      {
       "output_type": "stream",
       "stream": "stdout",
       "text": [
        ".685049676846648e-5\n",
        "9"
       ]
      },
      {
       "output_type": "stream",
       "stream": "stdout",
       "text": [
        ".61433500647209e-5\n",
        "2"
       ]
      },
      {
       "output_type": "stream",
       "stream": "stdout",
       "text": [
        ".4351639492926084e-7\n"
       ]
      },
      {
       "metadata": {},
       "output_type": "pyout",
       "prompt_number": 18,
       "text": [
        "7-element Array{Float64,1}:\n",
        "  1.00062    \n",
        " -0.00330874 \n",
        "  0.00575306 \n",
        " -0.00450894 \n",
        "  0.151758   \n",
        " -0.000331102\n",
        "  2.38511e-5 "
       ]
      }
     ],
     "prompt_number": 18
    },
    {
     "cell_type": "code",
     "collapsed": false,
     "input": [
      "using PyPlot\n",
      "\n",
      "true_coeffs = [1, 0, 0, 0, .15]\n",
      "fcoeffs3 = coeffs_dict[(3, 3., 1e-4)]\n",
      "fcoeffs4 = coeffs_dict[(4, 4., .1)]\n",
      "fcoeffs5 = coeffs_dict[(5, 5., .01)]\n",
      "fcoeffs6 = coeffs_dict[(6, 6., 1e-3)]\n",
      "\n",
      "xs = linspace(0, 2, 20)\n",
      "ys_true = map(x->polyEval(true_coeffs, x), xs)\n",
      "ys3 = map(x->polyEval(fcoeffs3, x), xs)\n",
      "ys4 = map(x->polyEval(fcoeffs4, x), xs)\n",
      "ys5 = map(x->polyEval(fcoeffs5, x), xs)\n",
      "ys6 = map(x->polyEval(fcoeffs6, x), xs)\n",
      "\n",
      "# ys = map(x->polyEval(fcoeffs, x), xs)\n",
      "\n",
      "plot(xs, ys_true, \"k\", label=\"True\")\n",
      "plot(xs, ys3, \"--r\", label=\"deg=3\")\n",
      "plot(xs, ys4, \"--g\", label=\"deg=4\")\n",
      "plot(xs, ys5, \"--b\", label=\"deg=5\")\n",
      "plot(xs, ys6, \"--m\", label=\"deg=6\")\n",
      "legend(loc=\"upper left\",fancybox=\"true\") \n",
      "# plot(xs, ys, \"--b\")\n",
      "grid(\"on\")\n",
      "xlim(-0.1, 2.1);\n",
      "ylim(0.5, 3.5);\n",
      "\n",
      "font1 = [\"family\"=>\"serif\",\n",
      "    \"color\"=>\"darkred\",\n",
      "    \"weight\"=>\"normal\",\n",
      "    \"size\"=>14]\n",
      "xlabel(\"Scaled Flow\", fontdict=font1)\n",
      "\n",
      "savefig(\"fitting.pdf\")"
     ],
     "language": "python",
     "metadata": {},
     "outputs": [
      {
       "output_type": "stream",
       "stream": "stderr",
       "text": [
        "INFO: Loading help data...\n"
       ]
      },
      {
       "metadata": {},
       "output_type": "display_data",
       "png": "[encoded data removed]",
       "text": [
        "Figure(PyObject <matplotlib.figure.Figure object at 0x7f6e410fff10>)"
       ]
      }
     ],
     "prompt_number": 19
    },
    {
     "cell_type": "code",
     "collapsed": false,
     "input": [
      "keys(demands)"
     ],
     "language": "python",
     "metadata": {},
     "outputs": [
      {
       "metadata": {},
       "output_type": "pyout",
       "prompt_number": 17,
       "text": [
        "KeyIterator for a Dict{(Int64,Int64),Float64} with 144 entries. Keys:\n",
        "  (8,10)\n",
        "  (9,5)\n",
        "  (3,6)\n",
        "  (10,5)\n",
        "  (6,9)\n",
        "  (12,4)\n",
        "  (4,4)\n",
        "  (9,4)\n",
        "  (10,11)\n",
        "  (8,9)\n",
        "  (9,1)\n",
        "  (11,1)\n",
        "  (8,11)\n",
        "  (3,1)\n",
        "  (1,10)\n",
        "  (1,12)\n",
        "  (12,7)\n",
        "  (4,5)\n",
        "  (9,9)\n",
        "  (11,8)\n",
        "  (12,8)\n",
        "  (2,4)\n",
        "  (6,5)\n",
        "  (4,9)\n",
        "  \u22ee"
       ]
      }
     ],
     "prompt_number": 17
    },
    {
     "cell_type": "code",
     "collapsed": false,
     "input": [
      "keys(arcs)"
     ],
     "language": "python",
     "metadata": {},
     "outputs": [
      {
       "metadata": {},
       "output_type": "pyout",
       "prompt_number": 18,
       "text": [
        "KeyIterator for a Dict{(Int64,Int64),Arc} with 30 entries. Keys:\n",
        "  (11,12)\n",
        "  (4,3)\n",
        "  (2,6)\n",
        "  (11,4)\n",
        "  (5,6)\n",
        "  (4,11)\n",
        "  (8,6)\n",
        "  (5,4)\n",
        "  (10,11)\n",
        "  (2,1)\n",
        "  (8,9)\n",
        "  (12,3)\n",
        "  (11,10)\n",
        "  (3,1)\n",
        "  (5,9)\n",
        "  (6,2)\n",
        "  (6,8)\n",
        "  (4,5)\n",
        "  (1,3)\n",
        "  (8,7)\n",
        "  (7,8)\n",
        "  (12,11)\n",
        "  (9,10)\n",
        "  (3,12)\n",
        "  \u22ee"
       ]
      }
     ],
     "prompt_number": 18
    },
    {
     "cell_type": "code",
     "collapsed": false,
     "input": [],
     "language": "python",
     "metadata": {},
     "outputs": []
    }
   ],
   "metadata": {}
  }
 ]
}