{
 "cells": [
  {
   "cell_type": "code",
   "execution_count": 1,
   "metadata": {
    "collapsed": false
   },
   "outputs": [
    {
     "name": "stderr",
     "output_type": "stream",
     "text": [
      "WARNING: the no-op `transpose` fallback is deprecated, and no more specific `transpose` method for Ptr{PyCall.PyObject_struct} exists. Consider `permutedims(x, [2, 1])` or writing a specific `transpose(x::Ptr{PyCall.PyObject_struct})` method if appropriate.\n",
      " in depwarn(::String, ::Symbol) at ./deprecated.jl:64\n",
      " in transpose(::Ptr{PyCall.PyObject_struct}) at ./deprecated.jl:770\n",
      " in transpose_f!(::Base.#transpose, ::Array{Ptr{PyCall.PyObject_struct},2}, ::Array{Ptr{PyCall.PyObject_struct},2}) at ./arraymath.jl:369\n",
      " in transpose(::Array{Ptr{PyCall.PyObject_struct},2}) at ./arraymath.jl:407\n",
      " in copy(::PyCall.PyArray{Ptr{PyCall.PyObject_struct},2}) at /home/jzh/.julia/v0.5/PyCall/src/numpy.jl:337\n",
      " in convert(::Type{Array{Ptr{PyCall.PyObject_struct},N}}, ::PyCall.PyObject) at /home/jzh/.julia/v0.5/PyCall/src/numpy.jl:453\n",
      " in convert(::Type{Array{PyCall.PyObject,N}}, ::PyCall.PyObject) at /home/jzh/.julia/v0.5/PyCall/src/numpy.jl:484\n",
      " in convert(::Type{PyCall.PyAny}, ::PyCall.PyObject) at /home/jzh/.julia/v0.5/PyCall/src/conversions.jl:806\n",
      " in #55 at ./<missing>:0 [inlined]\n",
      " in next at ./generator.jl:26 [inlined]\n",
      " in collect_to!(::Array{Expr,1}, ::Base.Generator{Array{Tuple{AbstractString,PyCall.PyObject},1},PyCall.##55#59}, ::Int64, ::Int64) at ./array.jl:340\n",
      " in collect(::Base.Generator{Array{Tuple{AbstractString,PyCall.PyObject},1},PyCall.##55#59}) at ./array.jl:308\n",
      " in pywrap(::PyCall.PyObject, ::Symbol) at /home/jzh/.julia/v0.5/PyCall/src/PyCall.jl:314\n",
      " in pywrap(::PyCall.PyObject) at /home/jzh/.julia/v0.5/PyCall/src/PyCall.jl:310\n",
      " in include_string(::String, ::String) at ./loading.jl:441\n",
      " in execute_request(::ZMQ.Socket, ::IJulia.Msg) at /home/jzh/.julia/v0.5/IJulia/src/execute_request.jl:169\n",
      " in eventloop(::ZMQ.Socket) at /home/jzh/.julia/v0.5/IJulia/src/eventloop.jl:8\n",
      " in (::IJulia.##9#15)() at ./task.jl:360\n",
      "while loading In[1], in expression starting on line 427\n"
     ]
    }
   ],
   "source": [
    "using PyCall\n",
    "unshift!(PyVector(pyimport(\"sys\")[\"path\"]), \"\");\n",
    "@pyimport Compute_Jacobian_MA_journal\n",
    "@pyimport GLS_Apr_weekend_journal"
   ]
  },
  {
   "cell_type": "code",
   "execution_count": 2,
   "metadata": {
    "collapsed": false
   },
   "outputs": [
    {
     "data": {
      "text/plain": [
       "258×30 Array{Float64,2}:\n",
       " 1393.18     806.378    762.959        …  1122.05    1513.32     356.411 \n",
       " 1245.77    1047.31    1023.88            1058.72    1286.13     737.719 \n",
       " 2175.98    1580.96    1289.54            1310.68    1660.56    1011.89  \n",
       " 2206.51    1358.68    1100.85            1375.95    2022.21     856.967 \n",
       "   27.0447   279.236    279.358            114.702    182.177    319.842 \n",
       "  143.919    260.583    207.122        …   112.767     47.7074    93.4537\n",
       "  128.953     91.0833    77.1364           105.58     127.956     72.177 \n",
       "  128.953     91.0833    77.1364           105.58     127.956     72.177 \n",
       " 1381.89    1661.69    1435.11            1024.77    1282.9     1395.51  \n",
       " 1061.96    1922.71    1849.59             893.572    782.416   2032.03  \n",
       "   85.5516   284.675    357.062        …    50.566     29.8585   369.656 \n",
       "  258.077    264.587    203.507            118.433    303.162    114.442 \n",
       "  322.493    399.126    250.17             333.773    473.913    174.446 \n",
       "    ⋮                                  ⋱                                 \n",
       "  371.823    361.35     469.861            282.682    329.6      440.596 \n",
       "  371.823    361.35     469.861            282.682    329.6      440.596 \n",
       "  667.477    444.253    383.381            551.955    580.559    395.996 \n",
       "  667.477    444.253    383.381            551.955    580.559    395.996 \n",
       "  351.144    281.248    192.214        …   274.145    229.499    113.795 \n",
       "  351.144    281.248    192.214            274.145    229.499    113.795 \n",
       "  242.947    197.688    140.514            245.904    254.263    160.886 \n",
       "  196.842    343.812    499.067            141.266    191.864    452.724 \n",
       "  836.25     618.474    481.192            576.139    832.42     534.522 \n",
       "  836.25     618.474    481.192        …   576.139    832.42     534.522 \n",
       "  120.94      88.6479     6.76777e-14      106.228    136.532     31.5905\n",
       "   84.4671   376.191    633.474             83.8715    74.3588   412.052 "
      ]
     },
     "execution_count": 2,
     "metadata": {},
     "output_type": "execute_result"
    }
   ],
   "source": [
    "numNodes = Compute_Jacobian_MA_journal.numNodes;\n",
    "numLinks = Compute_Jacobian_MA_journal.numLinks;\n",
    "numODpairs = Compute_Jacobian_MA_journal.numODpairs;\n",
    "numZones = Compute_Jacobian_MA_journal.numZones\n",
    "od_pairs = Compute_Jacobian_MA_journal.od_pairs;\n",
    "link_list_js = Compute_Jacobian_MA_journal.link_list_js;\n",
    "link_length_list = Compute_Jacobian_MA_journal.link_length_list;\n",
    "\n",
    "flow_observ = GLS_Apr_weekend_journal.x_"
   ]
  },
  {
   "cell_type": "code",
   "execution_count": 3,
   "metadata": {
    "collapsed": false
   },
   "outputs": [
    {
     "name": "stderr",
     "output_type": "stream",
     "text": [
      "WARNING: readall is deprecated, use readstring instead.\n",
      " in depwarn(::String, ::Symbol) at ./deprecated.jl:64\n",
      " in readall(::String, ::Vararg{String,N}) at ./deprecated.jl:30\n",
      " in furInfo() at /home/jzh/Research/Traffic/InverseVIsTraffic/08_develop_new_OD_demand_estimator_MA_Dijkstra_uni_class_Apr_weekend_journal/prepare_data_MA_journal.jl:183\n",
      " in include_from_node1(::String) at ./loading.jl:488\n",
      " in include_string(::String, ::String) at ./loading.jl:441\n",
      " in execute_request(::ZMQ.Socket, ::IJulia.Msg) at /home/jzh/.julia/v0.5/IJulia/src/execute_request.jl:169\n",
      " in eventloop(::ZMQ.Socket) at /home/jzh/.julia/v0.5/IJulia/src/eventloop.jl:8\n",
      " in (::IJulia.##9#15)() at ./task.jl:360\n",
      "while loading /home/jzh/Research/Traffic/InverseVIsTraffic/08_develop_new_OD_demand_estimator_MA_Dijkstra_uni_class_Apr_weekend_journal/extract_data_MA_journal.jl, in expression starting on line 10\n",
      "WARNING: readall is deprecated, use readstring instead.\n",
      " in depwarn(::String, ::Symbol) at ./deprecated.jl:64\n",
      " in readall(::String, ::Vararg{String,N}) at ./deprecated.jl:30\n",
      " in furInfo() at /home/jzh/Research/Traffic/InverseVIsTraffic/08_develop_new_OD_demand_estimator_MA_Dijkstra_uni_class_Apr_weekend_journal/prepare_data_MA_journal.jl:186\n",
      " in include_from_node1(::String) at ./loading.jl:488\n",
      " in include_string(::String, ::String) at ./loading.jl:441\n",
      " in execute_request(::ZMQ.Socket, ::IJulia.Msg) at /home/jzh/.julia/v0.5/IJulia/src/execute_request.jl:169\n",
      " in eventloop(::ZMQ.Socket) at /home/jzh/.julia/v0.5/IJulia/src/eventloop.jl:8\n",
      " in (::IJulia.##9#15)() at ./task.jl:360\n",
      "while loading /home/jzh/Research/Traffic/InverseVIsTraffic/08_develop_new_OD_demand_estimator_MA_Dijkstra_uni_class_Apr_weekend_journal/extract_data_MA_journal.jl, in expression starting on line 10\n",
      "WARNING: readall is deprecated, use readstring instead.\n",
      " in depwarn(::String, ::Symbol) at ./deprecated.jl:64\n",
      " in readall(::String, ::Vararg{String,N}) at ./deprecated.jl:30\n",
      " in furInfo() at /home/jzh/Research/Traffic/InverseVIsTraffic/08_develop_new_OD_demand_estimator_MA_Dijkstra_uni_class_Apr_weekend_journal/prepare_data_MA_journal.jl:189\n",
      " in include_from_node1(::String) at ./loading.jl:488\n",
      " in include_string(::String, ::String) at ./loading.jl:441\n",
      " in execute_request(::ZMQ.Socket, ::IJulia.Msg) at /home/jzh/.julia/v0.5/IJulia/src/execute_request.jl:169\n",
      " in eventloop(::ZMQ.Socket) at /home/jzh/.julia/v0.5/IJulia/src/eventloop.jl:8\n",
      " in (::IJulia.##9#15)() at ./task.jl:360\n",
      "while loading /home/jzh/Research/Traffic/InverseVIsTraffic/08_develop_new_OD_demand_estimator_MA_Dijkstra_uni_class_Apr_weekend_journal/extract_data_MA_journal.jl, in expression starting on line 10\n",
      "WARNING: readall is deprecated, use readstring instead.\n",
      " in depwarn(::String, ::Symbol) at ./deprecated.jl:64\n",
      " in readall(::String, ::Vararg{String,N}) at ./deprecated.jl:30\n",
      " in include_from_node1(::String) at ./loading.jl:488\n",
      " in include_string(::String, ::String) at ./loading.jl:441\n",
      " in execute_request(::ZMQ.Socket, ::IJulia.Msg) at /home/jzh/.julia/v0.5/IJulia/src/execute_request.jl:169\n",
      " in eventloop(::ZMQ.Socket) at /home/jzh/.julia/v0.5/IJulia/src/eventloop.jl:8\n",
      " in (::IJulia.##9#15)() at ./task.jl:360\n",
      "while loading /home/jzh/Research/Traffic/InverseVIsTraffic/08_develop_new_OD_demand_estimator_MA_Dijkstra_uni_class_Apr_weekend_journal/extract_data_MA_journal.jl, in expression starting on line 16\n",
      "WARNING: Method definition (::Type{Graphs.KeyVertex})(Int64, #K<:Any) in module Graphs at /home/jzh/.julia/v0.5/Graphs/src/common.jl:12 overwritten at /home/jzh/.julia/v0.5/Graphs/src/common.jl:16.\n",
      "WARNING: Method definition (::Type{Graphs.Edge})(Int64, #V<:Any, #V<:Any) in module Graphs at /home/jzh/.julia/v0.5/Graphs/src/common.jl:54 overwritten at /home/jzh/.julia/v0.5/Graphs/src/common.jl:60.\n",
      "WARNING: Method definition (::Type{Graphs.ExEdge})(Int64, #V<:Any, #V<:Any, Base.Dict{String, Any}) in module Graphs at /home/jzh/.julia/v0.5/Graphs/src/common.jl:72 overwritten at /home/jzh/.julia/v0.5/Graphs/src/common.jl:83.\n",
      "WARNING: Method definition (::Type{Graphs.TargetIterator})(#G<:Graphs.AbstractGraph, #EList<:Any) in module Graphs at /home/jzh/.julia/v0.5/Graphs/src/common.jl:123 overwritten at /home/jzh/.julia/v0.5/Graphs/src/common.jl:127.\n",
      "WARNING: Method definition (::Type{Graphs.SourceIterator})(#G<:Graphs.AbstractGraph, #EList<:Any) in module Graphs at /home/jzh/.julia/v0.5/Graphs/src/common.jl:141 overwritten at /home/jzh/.julia/v0.5/Graphs/src/common.jl:145.\n",
      "WARNING: Method definition edge_property_requirement(Graphs.AbstractEdgePropertyInspector{#T<:Any}, Graphs.AbstractGraph{#V<:Any, E<:Any}) in module Graphs at /home/jzh/.julia/v0.5/Graphs/src/common.jl:164 overwritten at /home/jzh/.julia/v0.5/Graphs/src/common.jl:179.\n",
      "WARNING: Method definition vertex_index(#V<:Union{Graphs.KeyVertex, Graphs.ExVertex}, Graphs.GenericGraph{#V<:Union{Graphs.KeyVertex, Graphs.ExVertex}, E<:Any, VList<:Any, EList<:Any, IncList<:Any}) in module Graphs at /home/jzh/.julia/v0.5/Graphs/src/graph.jl:65 overwritten at /home/jzh/.julia/v0.5/Graphs/src/graph.jl:67.\n",
      "WARNING: Method definition (::Type{Graphs.GDistanceVisitor})(#G<:Graphs.AbstractGraph, #DMap<:Any) in module Graphs at /home/jzh/.julia/v0.5/Graphs/src/breadth_first_visit.jl:107 overwritten at /home/jzh/.julia/v0.5/Graphs/src/breadth_first_visit.jl:111.\n"
     ]
    }
   ],
   "source": [
    "include(\"../Julia_files/initia_data.jl\");\n",
    "include(\"prepare_data_MA_journal.jl\");\n",
    "include(\"extract_data_MA_journal.jl\");\n",
    "include(\"../Julia_files/tap_MSA.jl\");"
   ]
  },
  {
   "cell_type": "code",
   "execution_count": 4,
   "metadata": {
    "collapsed": false
   },
   "outputs": [
    {
     "data": {
      "text/plain": [
       "9-element Array{Any,1}:\n",
       "  1.0       \n",
       "  0.00268857\n",
       "  0.0114664 \n",
       " -0.00834401\n",
       "  0.0234205 \n",
       " -0.0137301 \n",
       "  0.00429399\n",
       "  0         \n",
       "  0         "
      ]
     },
     "execution_count": 4,
     "metadata": {},
     "output_type": "execute_result"
    }
   ],
   "source": [
    "deg = 6\n",
    "c = 0.5\n",
    "lam = 10000.0\n",
    "\n",
    "coeffs_dict_Apr_weekend_ = readstring(\"../temp_files/coeffs_dict_Apr_weekend.json\")\n",
    "coeffs_dict_Apr_weekend_ = JSON.parse(coeffs_dict_Apr_weekend_)\n",
    "fcoeffs = coeffs_dict_Apr_weekend_[\"($(deg),$(c),$(lam),1)\"]\n",
    "push!(fcoeffs, 0)\n",
    "push!(fcoeffs, 0)"
   ]
  },
  {
   "cell_type": "code",
   "execution_count": 5,
   "metadata": {
    "collapsed": false
   },
   "outputs": [
    {
     "data": {
      "text/plain": [
       "socialObj (generic function with 1 method)"
      ]
     },
     "execution_count": 5,
     "metadata": {},
     "output_type": "execute_result"
    }
   ],
   "source": [
    "function socialObj(linkFlowVec)\n",
    "    objVal = sum([free_flow_time[a] * fcoeffs[1] * linkFlowVec[a] + \n",
    "        free_flow_time[a] * fcoeffs[2] * linkFlowVec[a]^2 / capacity[a] + \n",
    "        free_flow_time[a] * fcoeffs[3] * linkFlowVec[a]^3 / capacity[a]^2 + \n",
    "        free_flow_time[a] * fcoeffs[4] * linkFlowVec[a]^4 / capacity[a]^3 + \n",
    "        free_flow_time[a] * fcoeffs[5] * linkFlowVec[a]^5 / capacity[a]^4 + \n",
    "        free_flow_time[a] * fcoeffs[6] * linkFlowVec[a]^6 / capacity[a]^5 + \n",
    "        free_flow_time[a] * fcoeffs[7] * linkFlowVec[a]^7 / capacity[a]^6 + \n",
    "        free_flow_time[a] * fcoeffs[8] * linkFlowVec[a]^8 / capacity[a]^7 + \n",
    "        free_flow_time[a] * fcoeffs[9] * linkFlowVec[a]^9 / capacity[a]^8 for a = 1:numLinks])\n",
    "    return objVal\n",
    "end"
   ]
  },
  {
   "cell_type": "code",
   "execution_count": 6,
   "metadata": {
    "collapsed": false
   },
   "outputs": [
    {
     "data": {
      "text/plain": [
       "9-element Array{Int64,1}:\n",
       "  1\n",
       "  7\n",
       "  8\n",
       " 14\n",
       " 15\n",
       " 21\n",
       " 22\n",
       " 28\n",
       " 29"
      ]
     },
     "execution_count": 6,
     "metadata": {},
     "output_type": "execute_result"
    }
   ],
   "source": [
    "weekend_Apr_list = [1, 7, 8, 14, 15, 21, 22, 28, 29]"
   ]
  },
  {
   "cell_type": "code",
   "execution_count": 7,
   "metadata": {
    "collapsed": false
   },
   "outputs": [],
   "source": [
    "PoA_dict = Dict();\n",
    "tapSocialFlowDicDict = Dict();\n",
    "tapSocialFlowVecDict = Dict();"
   ]
  },
  {
   "cell_type": "code",
   "execution_count": 8,
   "metadata": {
    "collapsed": true
   },
   "outputs": [],
   "source": [
    "# demandsDict = readstring(\"../temp_files/demands_MA_Apr_weekend_journal.json\");\n",
    "# demandsDict = JSON.parse(demandsDict)\n",
    "\n",
    "# demandsDict_ = Dict()\n",
    "# for key in keys(demandsDict)\n",
    "#     key_ = (parse(Int, split(split(key, ',')[1], '(')[2]), parse(Int, split(split(key, ',')[2], ')')[1]))\n",
    "#     demandsDict_[key_] = demandsDict[key]\n",
    "# end\n",
    "\n",
    "# AA, BB = tapMSASocial(demandsDict_, fcoeffs);"
   ]
  },
  {
   "cell_type": "code",
   "execution_count": 9,
   "metadata": {
    "collapsed": false
   },
   "outputs": [],
   "source": [
    "for day in weekend_Apr_list\n",
    "\n",
    "    demandsDict = readstring(\"../08_develop_new_OD_demand_estimator_MA_Dijkstra_uni_class_Apr_weekend_journal/results/demandsDictFixed$(day)_journal.json\");\n",
    "    demandsDict = JSON.parse(demandsDict)\n",
    "\n",
    "    demandsDict_ = Dict()\n",
    "    for key in keys(demandsDict)\n",
    "        key_ = (parse(Int, split(split(key, ',')[1], '(')[2]), parse(Int, split(split(key, ',')[2], ')')[1]))\n",
    "        demandsDict_[key_] = demandsDict[key]\n",
    "    end\n",
    "\n",
    "#     demandsDict_\n",
    "\n",
    "#     tapFlowDicDict = Dict()\n",
    "#     tapFlowVecDict = Dict()\n",
    "#     tapFlowDicDict[day], tapFlowVecDict[day] = tapMSA(demandsDict_, fcoeffs);\n",
    "\n",
    "#     tapFlowVecDict[day]\n",
    "\n",
    "    tapSocialFlowDicDict[day], tapSocialFlowVecDict[day] = tapMSASocial(demandsDict_, fcoeffs);\n",
    "\n",
    "#     tapSocialFlowVecDict[day]\n",
    "\n",
    "#     flow_observ[:, day]\n",
    "\n",
    "    # PoA_dict[day] = socialObj(tapFlowVecDict[day]) / socialObj(tapSocialFlowVecDict[day])\n",
    "\n",
    "    PoA_dict[day] = socialObj(flow_observ[:, day]) / socialObj(tapSocialFlowVecDict[day]);\n",
    "end"
   ]
  },
  {
   "cell_type": "code",
   "execution_count": 10,
   "metadata": {
    "collapsed": false
   },
   "outputs": [
    {
     "data": {
      "text/plain": [
       "Dict{Any,Any} with 9 entries:\n",
       "  7  => 1.41419\n",
       "  22 => 1.91873\n",
       "  14 => 1.24442\n",
       "  29 => 1.76935\n",
       "  28 => 1.36469\n",
       "  8  => 2.00178\n",
       "  15 => 1.74115\n",
       "  21 => 1.37647\n",
       "  1  => 1.78943"
      ]
     },
     "execution_count": 10,
     "metadata": {},
     "output_type": "execute_result"
    }
   ],
   "source": [
    "PoA_dict"
   ]
  },
  {
   "cell_type": "code",
   "execution_count": 11,
   "metadata": {
    "collapsed": false
   },
   "outputs": [
    {
     "data": {
      "text/plain": [
       "Dict{Any,Any} with 9 entries:\n",
       "  7  => [802.283,682.013,1002.52,1088.85,0.0,0.0,819.616,891.126,2019.33,1537.9…\n",
       "  22 => [788.05,665.524,993.862,1069.09,0.0,0.0,806.909,872.725,1979.45,1481.2 …\n",
       "  14 => [802.283,682.013,1002.52,1088.85,0.0,0.0,819.616,891.126,2019.33,1537.9…\n",
       "  29 => [787.834,667.754,997.969,1073.59,0.0,0.0,804.61,871.109,1976.29,1481.83…\n",
       "  28 => [787.834,667.754,997.969,1073.59,0.0,0.0,804.61,871.109,1976.29,1481.83…\n",
       "  8  => [802.283,682.013,1002.52,1088.85,0.0,0.0,819.616,891.126,2019.33,1537.9…\n",
       "  15 => [802.283,682.013,1002.52,1088.85,0.0,0.0,819.616,891.126,2019.33,1537.9…\n",
       "  21 => [788.05,665.524,993.862,1069.09,0.0,0.0,806.909,872.725,1979.45,1481.2 …\n",
       "  1  => [802.283,682.013,1002.52,1088.85,0.0,0.0,819.616,891.126,2019.33,1537.9…"
      ]
     },
     "execution_count": 11,
     "metadata": {},
     "output_type": "execute_result"
    }
   ],
   "source": [
    "tapSocialFlowVecDict"
   ]
  },
  {
   "cell_type": "code",
   "execution_count": 12,
   "metadata": {
    "collapsed": true
   },
   "outputs": [],
   "source": [
    "outfile = open(\"../temp_files/PoA_dict_Apr_weekend_journal.json\", \"w\")\n",
    "\n",
    "JSON.print(outfile, PoA_dict)\n",
    "\n",
    "close(outfile)"
   ]
  },
  {
   "cell_type": "code",
   "execution_count": 13,
   "metadata": {
    "collapsed": true
   },
   "outputs": [],
   "source": [
    "outfile = open(\"../temp_files/tapSocialFlowVecDict_Apr_weekend_journal.json\", \"w\")\n",
    "\n",
    "JSON.print(outfile, tapSocialFlowVecDict)\n",
    "\n",
    "close(outfile)"
   ]
  },
  {
   "cell_type": "code",
   "execution_count": null,
   "metadata": {
    "collapsed": true
   },
   "outputs": [],
   "source": []
  }
 ],
 "metadata": {
  "anaconda-cloud": {},
  "kernelspec": {
   "display_name": "Julia 0.5.0",
   "language": "julia",
   "name": "julia-0.5"
  },
  "language_info": {
   "file_extension": ".jl",
   "mimetype": "application/julia",
   "name": "julia",
   "version": "0.5.0"
  }
 },
 "nbformat": 4,
 "nbformat_minor": 0
}
