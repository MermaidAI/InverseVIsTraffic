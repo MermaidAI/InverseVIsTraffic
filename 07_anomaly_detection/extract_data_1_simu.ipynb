{
 "cells": [
  {
   "cell_type": "code",
   "execution_count": 1,
   "metadata": {
    "collapsed": false
   },
   "outputs": [
    {
     "name": "stdout",
     "output_type": "stream",
     "text": [
      "No dicts found; please check load_dicts...\n"
     ]
    }
   ],
   "source": [
    "%run ../Python_files/util.py"
   ]
  },
  {
   "cell_type": "code",
   "execution_count": 1,
   "metadata": {
    "collapsed": false
   },
   "outputs": [
    {
     "name": "stdout",
     "output_type": "stream",
     "text": [
      "No dicts found; please check load_dicts...\n"
     ]
    }
   ],
   "source": [
    "import json\n",
    "\n",
    "data_folder = '/home/jzh/INRIX/All_INRIX_2012_filtered/'\n",
    "\n",
    "# load the dict for each month\n",
    "def month_dict(month):\n",
    "    if month == 1:\n",
    "        with open(data_folder + 'tmc_Jan_day_hour_minute_speed_travelTime_dict.json', 'r') as json_file:\n",
    "            tmc_Jan_day_hour_minute_speed_travelTime_dict = json.load(json_file)\n",
    "        return tmc_Jan_day_hour_minute_speed_travelTime_dict \n",
    "    elif month == 4:\n",
    "        with open(data_folder + 'tmc_Apr_day_hour_minute_speed_travelTime_dict.json', 'r') as json_file:\n",
    "            tmc_Apr_day_hour_minute_speed_travelTime_dict = json.load(json_file)\n",
    "        return tmc_Apr_day_hour_minute_speed_travelTime_dict \n",
    "    elif month == 7:\n",
    "        with open(data_folder + 'tmc_Jul_day_hour_minute_speed_travelTime_dict.json', 'r') as json_file:\n",
    "            tmc_Jul_day_hour_minute_speed_travelTime_dict = json.load(json_file)\n",
    "        return tmc_Jul_day_hour_minute_speed_travelTime_dict \n",
    "    elif month == 10:\n",
    "        with open(data_folder + 'tmc_Oct_day_hour_minute_speed_travelTime_dict.json', 'r') as json_file:\n",
    "            tmc_Oct_day_hour_minute_speed_travelTime_dict = json.load(json_file)\n",
    "        return tmc_Oct_day_hour_minute_speed_travelTime_dict \n",
    "    else:\n",
    "        raise IOError(\"Invalid input; please input another month.\")\n",
    "        \n",
    "tmc_Jan_day_hour_minute_speed_travelTime_dict = month_dict(1)"
   ]
  },
  {
   "cell_type": "code",
   "execution_count": 15,
   "metadata": {
    "collapsed": false
   },
   "outputs": [
    {
     "data": {
      "text/plain": [
       "u'34_4.92'"
      ]
     },
     "execution_count": 15,
     "metadata": {},
     "output_type": "execute_result"
    }
   ],
   "source": [
    "tmc_Jan_day_hour_minute_speed_travelTime_dict[\"129-04138_1_18_9_26\"]"
   ]
  },
  {
   "cell_type": "code",
   "execution_count": 16,
   "metadata": {
    "collapsed": false
   },
   "outputs": [],
   "source": [
    "#!/usr/bin/env python\n",
    "from funcy import project\n",
    "\n",
    "filtered_keys = []\n",
    "tmc = '129-04138'  # this tmc belongs to I-93\n",
    "month = 1\n",
    "days_ = days(month)\n",
    "for day in range(days_)[1:]:\n",
    "    for hour in range(24):\n",
    "        for minute in range(60):\n",
    "            key = str(tmc) + '_' + str(month) + '_' + str(day) + '_' + str(hour) + '_' + str(minute)\n",
    "            filtered_keys.append(key)\n",
    "            \n",
    "filtered_tmc_speed_dict = project(tmc_Jan_day_hour_minute_speed_travelTime_dict, filtered_keys)"
   ]
  },
  {
   "cell_type": "code",
   "execution_count": 17,
   "metadata": {
    "collapsed": false
   },
   "outputs": [],
   "source": [
    "zdump(filtered_tmc_speed_dict, '../temp_files/tmc_speed_dict_for_anomaly_detection.pkz')"
   ]
  }
 ],
 "metadata": {
  "kernelspec": {
   "display_name": "Python 2",
   "language": "python",
   "name": "python2"
  },
  "language_info": {
   "codemirror_mode": {
    "name": "ipython",
    "version": 2
   },
   "file_extension": ".py",
   "mimetype": "text/x-python",
   "name": "python",
   "nbconvert_exporter": "python",
   "pygments_lexer": "ipython2",
   "version": "2.7.11"
  }
 },
 "nbformat": 4,
 "nbformat_minor": 0
}
