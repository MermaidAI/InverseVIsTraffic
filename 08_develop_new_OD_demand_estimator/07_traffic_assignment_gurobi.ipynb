{
 "cells": [
  {
   "cell_type": "code",
   "execution_count": 1,
   "metadata": {
    "collapsed": true
   },
   "outputs": [],
   "source": [
    "using JSON\n",
    "\n",
    "#load OD pair-route incidence\n",
    "odPairRoute = readall(\"od_pair_route_incidence_Sioux.json\");\n",
    "odPairRoute = JSON.parse(odPairRoute);\n",
    "\n",
    "#load link-route incidence\n",
    "linkRoute = readall(\"link_route_incidence_Sioux.json\");\n",
    "linkRoute = JSON.parse(linkRoute);\n",
    "\n",
    "#load OD pair labels\n",
    "odPairLabel = readall(\"od_pair_label_dict_Sioux_refined.json\");\n",
    "odPairLabel = JSON.parse(odPairLabel);\n",
    "\n",
    "odPairLabel_ = readall(\"od_pair_label_dict__Sioux_refined.json\");\n",
    "odPairLabel_ = JSON.parse(odPairLabel_);\n",
    "\n",
    "#load link labels\n",
    "linkLabel = readall(\"link_label_dict_Sioux.json\");\n",
    "linkLabel = JSON.parse(linkLabel);\n",
    "\n",
    "linkLabel_ = readall(\"link_label_dict_Sioux_.json\");\n",
    "linkLabel_ = JSON.parse(linkLabel_);\n",
    "\n",
    "#load node-link incidence\n",
    "nodeLink = readall(\"node_link_incidence_Sioux.json\");\n",
    "nodeLink = JSON.parse(nodeLink);"
   ]
  },
  {
   "cell_type": "code",
   "execution_count": 2,
   "metadata": {
    "collapsed": false
   },
   "outputs": [
    {
     "data": {
      "text/plain": [
       "load_ta_network (generic function with 2 methods)"
      ]
     },
     "execution_count": 2,
     "metadata": {},
     "output_type": "execute_result"
    }
   ],
   "source": [
    "include(\"load_network_uni-class.jl\")"
   ]
  },
  {
   "cell_type": "code",
   "execution_count": 3,
   "metadata": {
    "collapsed": true
   },
   "outputs": [],
   "source": [
    "ta_data = load_ta_network(\"Sioux Falls\");"
   ]
  },
  {
   "cell_type": "code",
   "execution_count": 4,
   "metadata": {
    "collapsed": false
   },
   "outputs": [],
   "source": [
    "capacity = ta_data.capacity;\n",
    "free_flow_time = ta_data.free_flow_time;"
   ]
  },
  {
   "cell_type": "code",
   "execution_count": 5,
   "metadata": {
    "collapsed": false
   },
   "outputs": [],
   "source": [
    "############\n",
    "#Read in the demand file\n",
    "file = open(\"../data_original/SiouxFalls_trips.txt\")\n",
    "demands = Dict{(Int64,Int64), Float64}()\n",
    "s = 0\n",
    "for line in eachline(file)\n",
    "    if contains(line, \"Origin\")\n",
    "        s = int(split(line)[2])\n",
    "    else\n",
    "        pairs = split(line, \";\")\n",
    "        for pair in pairs\n",
    "            if !contains(pair, \"\\n\")\n",
    "                pair_vals = split(pair, \":\")\n",
    "                t, demand = int(pair_vals[1]), float(pair_vals[2])\n",
    "                demands[(s,t)] = demand \n",
    "            end\n",
    "        end\n",
    "    end\n",
    "end                \n",
    "close(file)"
   ]
  },
  {
   "cell_type": "code",
   "execution_count": 6,
   "metadata": {
    "collapsed": false
   },
   "outputs": [
    {
     "data": {
      "text/plain": [
       "Dict{(Int64,Int64),Float64} with 576 entries:\n",
       "  (23,8)  => 300.0\n",
       "  (8,23)  => 300.0\n",
       "  (6,9)   => 400.0\n",
       "  (18,3)  => 0.0\n",
       "  (21,13) => 600.0\n",
       "  (22,16) => 1200.0\n",
       "  (15,17) => 1500.0\n",
       "  (22,14) => 1200.0\n",
       "  (13,9)  => 600.0\n",
       "  (23,10) => 1800.0\n",
       "  (24,22) => 1100.0\n",
       "  (8,9)   => 800.0\n",
       "  (9,1)   => 500.0\n",
       "  (17,14) => 700.0\n",
       "  (16,6)  => 900.0\n",
       "  (16,12) => 700.0\n",
       "  (16,13) => 600.0\n",
       "  (22,2)  => 100.0\n",
       "  (24,3)  => 0.0\n",
       "  (7,16)  => 1400.0\n",
       "  (1,12)  => 200.0\n",
       "  (4,5)   => 500.0\n",
       "  (11,8)  => 800.0\n",
       "  (18,21) => 100.0\n",
       "  (19,4)  => 200.0\n",
       "  ⋮       => ⋮"
      ]
     },
     "execution_count": 6,
     "metadata": {},
     "output_type": "execute_result"
    }
   ],
   "source": [
    "demands"
   ]
  },
  {
   "cell_type": "code",
   "execution_count": 7,
   "metadata": {
    "collapsed": false
   },
   "outputs": [
    {
     "data": {
      "text/plain": [
       "Dict{String,Any} with 552 entries:\n",
       "  \"306\" => {14,7}\n",
       "  \"153\" => {7,16}\n",
       "  \"1\"   => {1,2}\n",
       "  \"54\"  => {3,9}\n",
       "  \"519\" => {23,13}\n",
       "  \"101\" => {5,10}\n",
       "  \"371\" => {17,3}\n",
       "  \"41\"  => {2,19}\n",
       "  \"464\" => {21,4}\n",
       "  \"65\"  => {3,20}\n",
       "  \"475\" => {21,15}\n",
       "  \"447\" => {20,10}\n",
       "  \"335\" => {15,13}\n",
       "  \"362\" => {16,18}\n",
       "  \"505\" => {22,23}\n",
       "  \"491\" => {22,8}\n",
       "  \"326\" => {15,4}\n",
       "  \"543\" => {24,14}\n",
       "  \"299\" => {13,24}\n",
       "  \"168\" => {8,7}\n",
       "  \"403\" => {18,12}\n",
       "  \"159\" => {7,22}\n",
       "  \"228\" => {10,22}\n",
       "  \"332\" => {15,10}\n",
       "  \"190\" => {9,6}\n",
       "  ⋮     => ⋮"
      ]
     },
     "execution_count": 7,
     "metadata": {},
     "output_type": "execute_result"
    }
   ],
   "source": [
    "odPairLabel_"
   ]
  },
  {
   "cell_type": "code",
   "execution_count": 8,
   "metadata": {
    "collapsed": false
   },
   "outputs": [],
   "source": [
    "demandsVec = zeros(552)\n",
    "\n",
    "for i = 1:length(demandsVec)\n",
    "    demandsVec[i] = demands[(odPairLabel_[\"$i\"][1], odPairLabel_[\"$i\"][2])]\n",
    "end"
   ]
  },
  {
   "cell_type": "code",
   "execution_count": 9,
   "metadata": {
    "collapsed": false
   },
   "outputs": [
    {
     "data": {
      "text/plain": [
       "552-element Array{Float64,1}:\n",
       "  100.0\n",
       "  100.0\n",
       "  500.0\n",
       "  200.0\n",
       "  300.0\n",
       "  500.0\n",
       "  800.0\n",
       "  500.0\n",
       " 1300.0\n",
       "  500.0\n",
       "  200.0\n",
       "  500.0\n",
       "  300.0\n",
       "    ⋮  \n",
       "  500.0\n",
       "  700.0\n",
       "  400.0\n",
       "  400.0\n",
       "  300.0\n",
       "  300.0\n",
       "    0.0\n",
       "  100.0\n",
       "  400.0\n",
       "  500.0\n",
       " 1100.0\n",
       "  700.0"
      ]
     },
     "execution_count": 9,
     "metadata": {},
     "output_type": "execute_result"
    }
   ],
   "source": [
    "demandsVec"
   ]
  },
  {
   "cell_type": "code",
   "execution_count": 17,
   "metadata": {
    "collapsed": false
   },
   "outputs": [
    {
     "name": "stdout",
     "output_type": "stream",
     "text": [
      "552-7117\n",
      "552-7118\n",
      "552-7119\n",
      "552-7123\n",
      "552-7122\n",
      "552-7124\n",
      "552-7121\n",
      "552-7120\n"
     ]
    }
   ],
   "source": [
    "for key=keys(odPairRoute)\n",
    "    if contains(key, \"552-\")\n",
    "        println(key)\n",
    "    end\n",
    "end"
   ]
  },
  {
   "cell_type": "code",
   "execution_count": 19,
   "metadata": {
    "collapsed": false
   },
   "outputs": [
    {
     "data": {
      "text/plain": [
       "true"
      ]
     },
     "execution_count": 19,
     "metadata": {},
     "output_type": "execute_result"
    }
   ],
   "source": [
    "i = 552\n",
    "j = 7117\n",
    "\"$(i)-$(j)\" in keys(odPairRoute)"
   ]
  },
  {
   "cell_type": "code",
   "execution_count": 24,
   "metadata": {
    "collapsed": false
   },
   "outputs": [
    {
     "name": "stdout",
     "output_type": "stream",
     "text": [
      "pathFlow[7117] + pathFlow[7118] + pathFlow[7119] + pathFlow[7120] + pathFlow[7121] + pathFlow[7122] + pathFlow[7123] + pathFlow[7124]\n",
      "pathFlow[1] + pathFlow[4] + pathFlow[5] + pathFlow[6] + pathFlow[9] + pathFlow[10] + pathFlow[15] + pathFlow[19] + pathFlow[20] + pathFlow[21] + pathFlow[24] + pathFlow[25] + pathFlow[32] + pathFlow[33] + pathFlow[34] + pathFlow[40] + pathFlow[41] + pathFlow[42] + pathFlow[43] + pathFlow[44] + pathFlow[50] + pathFlow[51] + pathFlow[52] + pathFlow[53] + pathFlow[57] + pathFlow[58] + pathFlow[63] + pathFlow[69] + pathFlow[70] + pathFlow[71] + pathFlow[77] + pathFlow[78] + pathFlow[79] + pathFlow[80] + pathFlow[81] + pathFlow[89] + pathFlow[90] + pathFlow[91] + pathFlow[92] + pathFlow[98] + pathFlow[99] + pathFlow[102] + pathFlow[109] + pathFlow[110] + pathFlow[111] + pathFlow[119] + pathFlow[268] + pathFlow[273] + pathFlow[276] + pathFlow[277] + pathFlow[282] + pathFlow[292] + pathFlow[301] + pathFlow[302] + pathFlow[314] + pathFlow[315] + pathFlow[325] + pathFlow[326] + pathFlow[327] + pathFlow[337] + pathFlow[365] + pathFlow[368] + pathFlow[381] + pathFlow[396] + pathFlow[397] + pathFlow[407] + pathFlow[418] + pathFlow[433] + pathFlow[434] + pathFlow[454] + pathFlow[455] + pathFlow[467] + pathFlow[476] + pathFlow[482] + pathFlow[488] + pathFlow[495] + pathFlow[503] + pathFlow[504] + pathFlow[516] + pathFlow[530] + pathFlow[531] + pathFlow[591] + pathFlow[662] + pathFlow[673] + pathFlow[678] + pathFlow[681] + pathFlow[683] + pathFlow[684] + pathFlow[702] + pathFlow[711] + pathFlow[716] + pathFlow[730] + pathFlow[733] + pathFlow[736] + pathFlow[743] + pathFlow[744] + pathFlow[763] + pathFlow[780] + pathFlow[944] + pathFlow[998] + pathFlow[1005] + pathFlow[1214] + pathFlow[1221] + pathFlow[1238] + pathFlow[1239] + pathFlow[1317] + pathFlow[1347] + pathFlow[1351] + pathFlow[1352] + pathFlow[1369] + pathFlow[1370] + pathFlow[1371] + pathFlow[1393] + pathFlow[1439] + pathFlow[1472] + pathFlow[1479] + pathFlow[1480] + pathFlow[1493] + pathFlow[1494] + pathFlow[1497] + pathFlow[1498] + pathFlow[1499] + pathFlow[1500] + pathFlow[1501] + pathFlow[1512] + pathFlow[1513] + pathFlow[1622] + pathFlow[1628] + pathFlow[1659] + pathFlow[1675] + pathFlow[1738] + pathFlow[1745] + pathFlow[1773] + pathFlow[1792] + pathFlow[1795] + pathFlow[1797] + pathFlow[1798] + pathFlow[1813] + pathFlow[1814] + pathFlow[1816] + pathFlow[1817] + pathFlow[1822] + pathFlow[1827] + pathFlow[1829] + pathFlow[1830] + pathFlow[1831] + pathFlow[1841] + pathFlow[1844] + pathFlow[1846] + pathFlow[1879] + pathFlow[1948] + pathFlow[2023] + pathFlow[2044] + pathFlow[2063] + pathFlow[2098] + pathFlow[2104] + pathFlow[2110] + pathFlow[2114] + pathFlow[2118] + pathFlow[2131] + pathFlow[2139] + pathFlow[2140] + pathFlow[2144] + pathFlow[2145] + pathFlow[2146] + pathFlow[2148] + pathFlow[2149] + pathFlow[2160] + pathFlow[2163] + pathFlow[2165] + pathFlow[2207] + pathFlow[2210] + pathFlow[2229] + pathFlow[2281] + pathFlow[2292] + pathFlow[2293] + pathFlow[2294] + pathFlow[2296] + pathFlow[2297] + pathFlow[2303] + pathFlow[2321] + pathFlow[2326] + pathFlow[2339] + pathFlow[2351] + pathFlow[2365] + pathFlow[2383] + pathFlow[2393] + pathFlow[2396] + pathFlow[2398] + pathFlow[2399] + pathFlow[2401] + pathFlow[2402] + pathFlow[2406] + pathFlow[2407] + pathFlow[2416] + pathFlow[2448] + pathFlow[2453] + pathFlow[2456] + pathFlow[2458] + pathFlow[2462] + pathFlow[2465] + pathFlow[2467] + pathFlow[2471] + pathFlow[2477] + pathFlow[2478] + pathFlow[2481] + pathFlow[2482] + pathFlow[2486] + pathFlow[2487] + pathFlow[2492] + pathFlow[2493] + pathFlow[2497] + pathFlow[2500] + pathFlow[2503] + pathFlow[2504] + pathFlow[2505] + pathFlow[2507] + pathFlow[2508] + pathFlow[2510] + pathFlow[2511] + pathFlow[2512] + pathFlow[2514] + pathFlow[2516] + pathFlow[2518] + pathFlow[2519] + pathFlow[2528] + pathFlow[2535] + pathFlow[2550] + pathFlow[2557] + pathFlow[2560] + pathFlow[2569] + pathFlow[2592] + pathFlow[2603] + pathFlow[2638] + pathFlow[2641] + pathFlow[2643] + pathFlow[2659] + pathFlow[2665] + pathFlow[2715] + pathFlow[2722] + pathFlow[2728] + pathFlow[2730] + pathFlow[2731] + pathFlow[2737] + pathFlow[2742] + pathFlow[2747] + pathFlow[2750] + pathFlow[2751] + pathFlow[2757] + pathFlow[2764] + pathFlow[2765] + pathFlow[2771] + pathFlow[2774] + pathFlow[2775] + pathFlow[2776] + pathFlow[2806] + pathFlow[2810] + pathFlow[2814] + pathFlow[2815] + pathFlow[2816] + pathFlow[2820] + pathFlow[2822] + pathFlow[2823] + pathFlow[2828] + pathFlow[2834] + pathFlow[2838] + pathFlow[2841] + pathFlow[2842] + pathFlow[2843] + pathFlow[2845] + pathFlow[2846] + pathFlow[2848] + pathFlow[2849] + pathFlow[2850] + pathFlow[2853] + pathFlow[2854] + pathFlow[2859] + pathFlow[2861] + pathFlow[2870] + pathFlow[2874] + pathFlow[2883] + pathFlow[2886] + pathFlow[2893] + pathFlow[2903] + pathFlow[2904] + pathFlow[2918] + pathFlow[2919] + pathFlow[2937] + pathFlow[2953] + pathFlow[2954] + pathFlow[2966] + pathFlow[2967] + pathFlow[2968] + pathFlow[2971] + pathFlow[2987] + pathFlow[2999] + pathFlow[3013] + pathFlow[3014] + pathFlow[3029] + pathFlow[3030] + pathFlow[3031] + pathFlow[3037] + pathFlow[3044] + pathFlow[3046] + pathFlow[3047] + pathFlow[3048] + pathFlow[3049] + pathFlow[3051] + pathFlow[3078] + pathFlow[3079] + pathFlow[3080] + pathFlow[3089] + pathFlow[3090] + pathFlow[3093] + pathFlow[3095] + pathFlow[3098] + pathFlow[3102] + pathFlow[3104] + pathFlow[3114] + pathFlow[3119] + pathFlow[3128] + pathFlow[3129] + pathFlow[3131] + pathFlow[3139] + pathFlow[3140] + pathFlow[3147] + pathFlow[3156] + pathFlow[3157] + pathFlow[3158] + pathFlow[3159] + pathFlow[3160] + pathFlow[3166] + pathFlow[3167] + pathFlow[3168] + pathFlow[3178] + pathFlow[3179] + pathFlow[3180] + pathFlow[3181] + pathFlow[3182] + pathFlow[3191] + pathFlow[3192] + pathFlow[3193] + pathFlow[3194] + pathFlow[3195] + pathFlow[3205] + pathFlow[3206] + pathFlow[3207] + pathFlow[3208] + pathFlow[3219] + pathFlow[3220] + pathFlow[3221] + pathFlow[3222] + pathFlow[3223] + pathFlow[3232] + pathFlow[3233] + pathFlow[3235] + pathFlow[3240] + pathFlow[3241] + pathFlow[3242] + pathFlow[3243] + pathFlow[3247] + pathFlow[3255] + pathFlow[3256] + pathFlow[3257] + pathFlow[3262] + pathFlow[3274] + pathFlow[3275] + pathFlow[3276] + pathFlow[3285] + pathFlow[3286] + pathFlow[3287] + pathFlow[3296] + pathFlow[3301] + pathFlow[3335] + pathFlow[3342] + pathFlow[3366] + pathFlow[3368] + pathFlow[3369] + pathFlow[3421] + pathFlow[3434] + pathFlow[3437] + pathFlow[3442] + pathFlow[3443] + pathFlow[3444] + pathFlow[3446] + pathFlow[3447] + pathFlow[3456] + pathFlow[3457] + pathFlow[3458] + pathFlow[3459] + pathFlow[3475] + pathFlow[3481] + pathFlow[3482] + pathFlow[3495] + pathFlow[3501] + pathFlow[3502] + pathFlow[3521] + pathFlow[3525] + pathFlow[3526] + pathFlow[3527] + pathFlow[3538] + pathFlow[3542] + pathFlow[3543] + pathFlow[3544] + pathFlow[3545] + pathFlow[3548] + pathFlow[3553] + pathFlow[3561] + pathFlow[3562] + pathFlow[3565] + pathFlow[3566] + pathFlow[3567] + pathFlow[3590] + pathFlow[3596] + pathFlow[3598] + pathFlow[3599] + pathFlow[3603] + pathFlow[3604] + pathFlow[3607] + pathFlow[3608] + pathFlow[3610] + pathFlow[3614] + pathFlow[3615] + pathFlow[3617] + pathFlow[3618] + pathFlow[3621] + pathFlow[3622] + pathFlow[3633] + pathFlow[3635] + pathFlow[3638] + pathFlow[3640] + pathFlow[3650] + pathFlow[3724] + pathFlow[3748] + pathFlow[3749] + pathFlow[3783] + pathFlow[3784] + pathFlow[3796] + pathFlow[3797] + pathFlow[3809] + pathFlow[3810] + pathFlow[3811] + pathFlow[3819] + pathFlow[3822] + pathFlow[3823] + pathFlow[3825] + pathFlow[3826] + pathFlow[3834] + pathFlow[3835] + pathFlow[3837] + pathFlow[3838] + pathFlow[3859] + pathFlow[3860] + pathFlow[3875] + pathFlow[3876] + pathFlow[3889] + pathFlow[3890] + pathFlow[3897] + pathFlow[3898] + pathFlow[3908] + pathFlow[3909] + pathFlow[3912] + pathFlow[3913] + pathFlow[3925] + pathFlow[3926] + pathFlow[3927] + pathFlow[3932] + pathFlow[3933] + pathFlow[3958] + pathFlow[3961] + pathFlow[3963] + pathFlow[3964] + pathFlow[3967] + pathFlow[3968] + pathFlow[3976] + pathFlow[3977] + pathFlow[3979] + pathFlow[3981] + pathFlow[3982] + pathFlow[3985] + pathFlow[3986] + pathFlow[3989] + pathFlow[3990] + pathFlow[3991] + pathFlow[3992] + pathFlow[3993] + pathFlow[3995] + pathFlow[3996] + pathFlow[4014] + pathFlow[4016] + pathFlow[4117] + pathFlow[4157] + pathFlow[4164] + pathFlow[4167] + pathFlow[4168] + pathFlow[4169] + pathFlow[4189] + pathFlow[4190] + pathFlow[4191] + pathFlow[4208] + pathFlow[4213] + pathFlow[4235] + pathFlow[4248] + pathFlow[4255] + pathFlow[4268] + pathFlow[4273] + pathFlow[4276] + pathFlow[4307] + pathFlow[4314] + pathFlow[4317] + pathFlow[4326] + pathFlow[4329] + pathFlow[4330] + pathFlow[4341] + pathFlow[4350] + pathFlow[4351] + pathFlow[4355] + pathFlow[4356] + pathFlow[4359] + pathFlow[4360] + pathFlow[4364] + pathFlow[4365] + pathFlow[4366] + pathFlow[4368] + pathFlow[4372] + pathFlow[4375] + pathFlow[4377] + pathFlow[4378] + pathFlow[4380] + pathFlow[4381] + pathFlow[4382] + pathFlow[4395] + pathFlow[4397] + pathFlow[4527] + pathFlow[4557] + pathFlow[4563] + pathFlow[4566] + pathFlow[4570] + pathFlow[4572] + pathFlow[4573] + pathFlow[4590] + pathFlow[4591] + pathFlow[4592] + pathFlow[4604] + pathFlow[4608] + pathFlow[4629] + pathFlow[4639] + pathFlow[4645] + pathFlow[4662] + pathFlow[4668] + pathFlow[4674] + pathFlow[4707] + pathFlow[4709] + pathFlow[4719] + pathFlow[4723] + pathFlow[4724] + pathFlow[4731] + pathFlow[4736] + pathFlow[4737] + pathFlow[4742] + pathFlow[4743] + pathFlow[4744] + pathFlow[4747] + pathFlow[4751] + pathFlow[4752] + pathFlow[4753] + pathFlow[4755] + pathFlow[4759] + pathFlow[4761] + pathFlow[4762] + pathFlow[4765] + pathFlow[4766] + pathFlow[4768] + pathFlow[4769] + pathFlow[4770] + pathFlow[4793] + pathFlow[4867] + pathFlow[4882] + pathFlow[4907] + pathFlow[4908] + pathFlow[4909] + pathFlow[4910] + pathFlow[4911] + pathFlow[4925] + pathFlow[4928] + pathFlow[4933] + pathFlow[4934] + pathFlow[4935] + pathFlow[4955] + pathFlow[4956] + pathFlow[4957] + pathFlow[4960] + pathFlow[4977] + pathFlow[4978] + pathFlow[4979] + pathFlow[4980] + pathFlow[4991] + pathFlow[5006] + pathFlow[5007] + pathFlow[5025] + pathFlow[5033] + pathFlow[5064] + pathFlow[5069] + pathFlow[5070] + pathFlow[5082] + pathFlow[5083] + pathFlow[5084] + pathFlow[5087] + pathFlow[5091] + pathFlow[5093] + pathFlow[5095] + pathFlow[5097] + pathFlow[5098] + pathFlow[5100] + pathFlow[5128] + pathFlow[5192] + pathFlow[5239] + pathFlow[5253] + pathFlow[5270] + pathFlow[5271] + pathFlow[5272] + pathFlow[5273] + pathFlow[5274] + pathFlow[5283] + pathFlow[5291] + pathFlow[5294] + pathFlow[5300] + pathFlow[5301] + pathFlow[5305] + pathFlow[5306] + pathFlow[5307] + pathFlow[5311] + pathFlow[5320] + pathFlow[5321] + pathFlow[5322] + pathFlow[5325] + pathFlow[5336] + pathFlow[5337] + pathFlow[5338] + pathFlow[5339] + pathFlow[5348] + pathFlow[5354] + pathFlow[5367] + pathFlow[5378] + pathFlow[5392] + pathFlow[5393] + pathFlow[5395] + pathFlow[5396] + pathFlow[5398] + pathFlow[5423] + pathFlow[5431] + pathFlow[5434] + pathFlow[5435] + pathFlow[5439] + pathFlow[5440] + pathFlow[5448] + pathFlow[5449] + pathFlow[5450] + pathFlow[5453] + pathFlow[5458] + pathFlow[5459] + pathFlow[5460] + pathFlow[5465] + pathFlow[5467] + pathFlow[5468] + pathFlow[5469] + pathFlow[5471] + pathFlow[5475] + pathFlow[5487] + pathFlow[5492] + pathFlow[5509] + pathFlow[5510] + pathFlow[5511] + pathFlow[5512] + pathFlow[5513] + pathFlow[5514] + pathFlow[5534] + pathFlow[5581] + pathFlow[5582] + pathFlow[5601] + pathFlow[5620] + pathFlow[5621] + pathFlow[5622] + pathFlow[5623] + pathFlow[5624] + pathFlow[5625] + pathFlow[5626] + pathFlow[5627] + pathFlow[5628] + pathFlow[5647] + pathFlow[5648] + pathFlow[5649] + pathFlow[5650] + pathFlow[5651] + pathFlow[5655] + pathFlow[5656] + pathFlow[5666] + pathFlow[5667] + pathFlow[5668] + pathFlow[5669] + pathFlow[5670] + pathFlow[5671] + pathFlow[5674] + pathFlow[5681] + pathFlow[5684] + pathFlow[5685] + pathFlow[5689] + pathFlow[5704] + pathFlow[5705] + pathFlow[5706] + pathFlow[5707] + pathFlow[5708] + pathFlow[5709] + pathFlow[5712] + pathFlow[5726] + pathFlow[5727] + pathFlow[5728] + pathFlow[5729] + pathFlow[5731] + pathFlow[5744] + pathFlow[5745] + pathFlow[5746] + pathFlow[5766] + pathFlow[5767] + pathFlow[5768] + pathFlow[5782] + pathFlow[5792] + pathFlow[5793] + pathFlow[5794] + pathFlow[5795] + pathFlow[5796] + pathFlow[5819] + pathFlow[5820] + pathFlow[5821] + pathFlow[5828] + pathFlow[5832] + pathFlow[5833] + pathFlow[5834] + pathFlow[5838] + pathFlow[5840] + pathFlow[5842] + pathFlow[5843] + pathFlow[5844] + pathFlow[5846] + pathFlow[5848] + pathFlow[5849] + pathFlow[5850] + pathFlow[5851] + pathFlow[5852] + pathFlow[5853] + pathFlow[5854] + pathFlow[5855] + pathFlow[5856] + pathFlow[5857] + pathFlow[5858] + pathFlow[5859] + pathFlow[5860] + pathFlow[5861] + pathFlow[5862] + pathFlow[5863] + pathFlow[5864] + pathFlow[5865] + pathFlow[5866] + pathFlow[5867] + pathFlow[5868] + pathFlow[5869] + pathFlow[5870] + pathFlow[5871] + pathFlow[5872] + pathFlow[5873] + pathFlow[5874] + pathFlow[5875] + pathFlow[5876] + pathFlow[5877] + pathFlow[5878] + pathFlow[5879] + pathFlow[5880] + pathFlow[5881] + pathFlow[5882] + pathFlow[5883] + pathFlow[5884] + pathFlow[5885] + pathFlow[5886] + pathFlow[5887] + pathFlow[5888] + pathFlow[5889] + pathFlow[5890] + pathFlow[5891] + pathFlow[5892] + pathFlow[5893] + pathFlow[5894] + pathFlow[5895] + pathFlow[5896] + pathFlow[5897] + pathFlow[5898] + pathFlow[5899] + pathFlow[5900] + pathFlow[5901] + pathFlow[5902] + pathFlow[5903] + pathFlow[5904] + pathFlow[5905] + pathFlow[5906] + pathFlow[5907] + pathFlow[5908] + pathFlow[5909] + pathFlow[5910] + pathFlow[5911] + pathFlow[5912] + pathFlow[5913] + pathFlow[5914] + pathFlow[5915] + pathFlow[5916] + pathFlow[5917] + pathFlow[5918] + pathFlow[5919] + pathFlow[5920] + pathFlow[5921] + pathFlow[5922] + pathFlow[5923] + pathFlow[5924] + pathFlow[5925] + pathFlow[5926] + pathFlow[5927] + pathFlow[5928] + pathFlow[5929] + pathFlow[5930] + pathFlow[5931] + pathFlow[5932] + pathFlow[5933] + pathFlow[5934] + pathFlow[5935] + pathFlow[5936] + pathFlow[5937] + pathFlow[5938] + pathFlow[5939] + pathFlow[5940] + pathFlow[5941] + pathFlow[5942] + pathFlow[5943] + pathFlow[5944] + pathFlow[5945] + pathFlow[5946] + pathFlow[5947] + pathFlow[5948] + pathFlow[5949] + pathFlow[5950] + pathFlow[5951] + pathFlow[5952] + pathFlow[5953] + pathFlow[5954] + pathFlow[5955] + pathFlow[5956] + pathFlow[5957] + pathFlow[5958] + pathFlow[5959] + pathFlow[5960] + pathFlow[5961] + pathFlow[5962] + pathFlow[5963] + pathFlow[5964] + pathFlow[5965] + pathFlow[5966] + pathFlow[5967] + pathFlow[5968] + pathFlow[5969] + pathFlow[5970] + pathFlow[5971] + pathFlow[5972] + pathFlow[5973] + pathFlow[5974] + pathFlow[5975] + pathFlow[5976] + pathFlow[5977] + pathFlow[5978] + pathFlow[5979] + pathFlow[5980] + pathFlow[5981] + pathFlow[5982] + pathFlow[5983] + pathFlow[5984] + pathFlow[5985] + pathFlow[5986] + pathFlow[5987] + pathFlow[5988] + pathFlow[5989] + pathFlow[5990] + pathFlow[5991] + pathFlow[5992] + pathFlow[5993] + pathFlow[5994] + pathFlow[5995] + pathFlow[5996] + pathFlow[5997] + pathFlow[5998] + pathFlow[5999] + pathFlow[6000] + pathFlow[6001] + pathFlow[6002] + pathFlow[6003] + pathFlow[6004] + pathFlow[6005] + pathFlow[6006] + pathFlow[6007] + pathFlow[6008] + pathFlow[6009] + pathFlow[6010] + pathFlow[6011] + pathFlow[6012] + pathFlow[6013] + pathFlow[6014] + pathFlow[6015] + pathFlow[6016] + pathFlow[6017] + pathFlow[6018] + pathFlow[6019] + pathFlow[6020] + pathFlow[6021] + pathFlow[6022] + pathFlow[6023] + pathFlow[6024] + pathFlow[6025] + pathFlow[6026] + pathFlow[6027] + pathFlow[6028] + pathFlow[6029] + pathFlow[6030] + pathFlow[6031] + pathFlow[6032] + pathFlow[6033] + pathFlow[6034] + pathFlow[6035] + pathFlow[6036] + pathFlow[6037] + pathFlow[6038] + pathFlow[6039] + pathFlow[6040] + pathFlow[6041] + pathFlow[6042] + pathFlow[6043] + pathFlow[6044] + pathFlow[6045] + pathFlow[6046] + pathFlow[6047] + pathFlow[6048] + pathFlow[6049] + pathFlow[6050] + pathFlow[6051] + pathFlow[6052] + pathFlow[6053] + pathFlow[6054] + pathFlow[6055] + pathFlow[6056] + pathFlow[6057] + pathFlow[6058] + pathFlow[6059] + pathFlow[6060] + pathFlow[6061] + pathFlow[6062] + pathFlow[6063] + pathFlow[6064] + pathFlow[6065] + pathFlow[6066] + pathFlow[6067] + pathFlow[6068] + pathFlow[6069] + pathFlow[6070] + pathFlow[6071] + pathFlow[6072] + pathFlow[6073] + pathFlow[6074] + pathFlow[6075] + pathFlow[6076] + pathFlow[6077] + pathFlow[6078] + pathFlow[6079] + pathFlow[6080] + pathFlow[6081] + pathFlow[6082] + pathFlow[6083] + pathFlow[6084] + pathFlow[6085] + pathFlow[6086] + pathFlow[6087] + pathFlow[6088] + pathFlow[6089] + pathFlow[6090] + pathFlow[6091] + pathFlow[6092] + pathFlow[6093] + pathFlow[6094] + pathFlow[6095] + pathFlow[6096] + pathFlow[6097] + pathFlow[6098] + pathFlow[6099] + pathFlow[6100] + pathFlow[6101] + pathFlow[6102] + pathFlow[6103] + pathFlow[6104] + pathFlow[6105] + pathFlow[6106] + pathFlow[6107] + pathFlow[6108] + pathFlow[6109] + pathFlow[6110] + pathFlow[6111] + pathFlow[6112] + pathFlow[6113] + pathFlow[6114] + pathFlow[6115] + pathFlow[6116] + pathFlow[6117] + pathFlow[6118] + pathFlow[6119] + pathFlow[6120] + pathFlow[6121] + pathFlow[6122] + pathFlow[6123] + pathFlow[6124] + pathFlow[6125] + pathFlow[6126] + pathFlow[6127] + pathFlow[6128] + pathFlow[6129] + pathFlow[6130] + pathFlow[6131] + pathFlow[6132] + pathFlow[6133] + pathFlow[6134] + pathFlow[6135] + pathFlow[6136] + pathFlow[6137] + pathFlow[6138] + pathFlow[6139] + pathFlow[6140] + pathFlow[6141] + pathFlow[6142] + pathFlow[6143] + pathFlow[6144] + pathFlow[6145] + pathFlow[6146] + pathFlow[6147] + pathFlow[6148] + pathFlow[6149] + pathFlow[6150] + pathFlow[6151] + pathFlow[6152] + pathFlow[6153] + pathFlow[6154] + pathFlow[6155] + pathFlow[6156] + pathFlow[6157] + pathFlow[6158] + pathFlow[6159] + pathFlow[6160] + pathFlow[6161] + pathFlow[6162] + pathFlow[6163] + pathFlow[6164] + pathFlow[6165] + pathFlow[6166] + pathFlow[6167] + pathFlow[6168] + pathFlow[6169] + pathFlow[6170] + pathFlow[6171] + pathFlow[6172] + pathFlow[6173] + pathFlow[6174] + pathFlow[6175] + pathFlow[6176] + pathFlow[6177] + pathFlow[6178] + pathFlow[6179] + pathFlow[6180] + pathFlow[6181] + pathFlow[6182] + pathFlow[6187] + pathFlow[6201] + pathFlow[6202] + pathFlow[6216] + pathFlow[6217] + pathFlow[6218] + pathFlow[6252] + pathFlow[6253] + pathFlow[6267] + pathFlow[6268] + pathFlow[6269] + pathFlow[6290] + pathFlow[6291] + pathFlow[6292] + pathFlow[6314] + pathFlow[6315] + pathFlow[6316] + pathFlow[6317] + pathFlow[6318] + pathFlow[6336] + pathFlow[6337] + pathFlow[6338] + pathFlow[6339] + pathFlow[6340] + pathFlow[6341] + pathFlow[6342] + pathFlow[6343] + pathFlow[6359] + pathFlow[6360] + pathFlow[6361] + pathFlow[6362] + pathFlow[6363] + pathFlow[6364] + pathFlow[6365] + pathFlow[6366] + pathFlow[6380] + pathFlow[6381] + pathFlow[6382] + pathFlow[6390] + pathFlow[6391] + pathFlow[6392] + pathFlow[6404] + pathFlow[6405] + pathFlow[6406] + pathFlow[6407] + pathFlow[6417] + pathFlow[6418] + pathFlow[6419] + pathFlow[6420] + pathFlow[6421] + pathFlow[6424] + pathFlow[6439] + pathFlow[6440] + pathFlow[6441] + pathFlow[6442] + pathFlow[6443] + pathFlow[6449] + pathFlow[6463] + pathFlow[6464] + pathFlow[6465] + pathFlow[6466] + pathFlow[6472] + pathFlow[6487] + pathFlow[6488] + pathFlow[6492] + pathFlow[6502] + pathFlow[6503] + pathFlow[6504] + pathFlow[6509] + pathFlow[6515] + pathFlow[6518] + pathFlow[6520] + pathFlow[6532] + pathFlow[6534] + pathFlow[6535] + pathFlow[6536] + pathFlow[6541] + pathFlow[6543] + pathFlow[6544] + pathFlow[6550] + pathFlow[6552] + pathFlow[6553] + pathFlow[6562] + pathFlow[6611] + pathFlow[6612] + pathFlow[6613] + pathFlow[6630] + pathFlow[6631] + pathFlow[6632] + pathFlow[6633] + pathFlow[6650] + pathFlow[6665] + pathFlow[6666] + pathFlow[6667] + pathFlow[6669] + pathFlow[6670] + pathFlow[6671] + pathFlow[6672] + pathFlow[6673] + pathFlow[6684] + pathFlow[6687] + pathFlow[6688] + pathFlow[6694] + pathFlow[6695] + pathFlow[6700] + pathFlow[6703] + pathFlow[6704] + pathFlow[6710] + pathFlow[6712] + pathFlow[6713] + pathFlow[6714] + pathFlow[6722] + pathFlow[6725] + pathFlow[6726] + pathFlow[6727] + pathFlow[6728] + pathFlow[6751] + pathFlow[6752] + pathFlow[6754] + pathFlow[6755] + pathFlow[6756] + pathFlow[6757] + pathFlow[6773] + pathFlow[6774] + pathFlow[6776] + pathFlow[6777] + pathFlow[6778] + pathFlow[6779] + pathFlow[6780] + pathFlow[6788] + pathFlow[6795] + pathFlow[6796] + pathFlow[6797] + pathFlow[6805] + pathFlow[6811] + pathFlow[6812] + pathFlow[6813] + pathFlow[6814] + pathFlow[6815] + pathFlow[6824] + pathFlow[6829] + pathFlow[6830] + pathFlow[6831] + pathFlow[6832] + pathFlow[6847] + pathFlow[6848] + pathFlow[6849] + pathFlow[6850] + pathFlow[6853] + pathFlow[6854] + pathFlow[6855] + pathFlow[6856] + pathFlow[6857] + pathFlow[6858] + pathFlow[6863] + pathFlow[6870] + pathFlow[6871] + pathFlow[6872] + pathFlow[6881] + pathFlow[6886] + pathFlow[6889] + pathFlow[6890] + pathFlow[6892] + pathFlow[6893] + pathFlow[6894] + pathFlow[6896] + pathFlow[6899] + pathFlow[6900] + pathFlow[6901] + pathFlow[6902] + pathFlow[6903] + pathFlow[6904] + pathFlow[6905] + pathFlow[6917] + pathFlow[6918] + pathFlow[6919] + pathFlow[6920] + pathFlow[6921] + pathFlow[6922] + pathFlow[6923] + pathFlow[6931] + pathFlow[6932] + pathFlow[6933] + pathFlow[6934] + pathFlow[6935] + pathFlow[6936] + pathFlow[6937] + pathFlow[6938] + pathFlow[6939] + pathFlow[6940] + pathFlow[6941] + pathFlow[6942] + pathFlow[6943] + pathFlow[6944] + pathFlow[6956] + pathFlow[6957] + pathFlow[6958] + pathFlow[6959] + pathFlow[6960] + pathFlow[6961] + pathFlow[6962] + pathFlow[6963] + pathFlow[6964] + pathFlow[6965] + pathFlow[6971] + pathFlow[6972] + pathFlow[6973] + pathFlow[6984] + pathFlow[6985] + pathFlow[6986] + pathFlow[6987] + pathFlow[6988] + pathFlow[6989] + pathFlow[6990] + pathFlow[6997] + pathFlow[6998] + pathFlow[6999] + pathFlow[7000] + pathFlow[7001] + pathFlow[7002] + pathFlow[7003] + pathFlow[7004] + pathFlow[7009] + pathFlow[7012] + pathFlow[7013] + pathFlow[7014] + pathFlow[7015] + pathFlow[7016] + pathFlow[7017] + pathFlow[7018] + pathFlow[7019] + pathFlow[7020] + pathFlow[7021] + pathFlow[7022] + pathFlow[7033] + pathFlow[7036] + pathFlow[7037] + pathFlow[7038] + pathFlow[7039] + pathFlow[7040] + pathFlow[7041] + pathFlow[7042] + pathFlow[7043] + pathFlow[7044] + pathFlow[7045] + pathFlow[7046] + pathFlow[7057] + pathFlow[7059] + pathFlow[7060] + pathFlow[7061] + pathFlow[7062] + pathFlow[7063] + pathFlow[7071] + pathFlow[7075] + pathFlow[7076] + pathFlow[7077] + pathFlow[7078] + pathFlow[7079] + pathFlow[7080] + pathFlow[7081] + pathFlow[7090] + pathFlow[7091] + pathFlow[7092] + pathFlow[7093] + pathFlow[7096] + pathFlow[7099] + pathFlow[7110] + pathFlow[7111] + pathFlow[7112] + pathFlow[7119] + pathFlow[7120] + pathFlow[7121] + pathFlow[7122] + pathFlow[7123] + pathFlow[7124]\n"
     ]
    },
    {
     "ename": "LoadError",
     "evalue": "assertion failed\nwhile loading In[24], in expression starting on line 29",
     "output_type": "error",
     "traceback": [
      "assertion failed\nwhile loading In[24], in expression starting on line 29",
      "",
      " in anonymous at no file:38"
     ]
    }
   ],
   "source": [
    "using JuMP\n",
    "using Gurobi\n",
    "\n",
    "# m = Model(solver=GurobiSolver(OutputFlag=false))\n",
    "m = Model()\n",
    "\n",
    "\n",
    "@defVar(m, linkFlow[1:76])\n",
    "@defVar(m, pathFlow[1:7124])\n",
    "\n",
    "pathFlowSum = Dict()\n",
    "\n",
    "for i=1:552\n",
    "    pathFlowSum[i] = 0\n",
    "    for j=1:7124\n",
    "        if \"$(i)-$(j)\" in keys(odPairRoute)\n",
    "            pathFlowSum[i] += pathFlow[j]\n",
    "        end\n",
    "    end\n",
    "    if i==552\n",
    "        println(pathFlowSum[i])\n",
    "#         assert(1==2)\n",
    "    end\n",
    "    @addConstraint(m, pathFlowSum[i] == demandsVec[i])\n",
    "end\n",
    "\n",
    "pathFlowLinkSum = Dict()\n",
    "\n",
    "for a=1:76\n",
    "    pathFlowLinkSum[a] = 0\n",
    "    for j=1:7124\n",
    "        if \"$(a)-$(j)\" in keys(linkRoute)\n",
    "            pathFlowLinkSum[a] += pathFlow[j]\n",
    "        end\n",
    "    end\n",
    "    if a==1\n",
    "        println(pathFlowLinkSum[a])\n",
    "        assert(1==2)\n",
    "    end\n",
    "    @addConstraint(m, pathFlowLinkSum[a] == linkFlow[a])\n",
    "end\n",
    "\n",
    "for j=1:7124\n",
    "    @addConstraint(m, pathFlow[j] >= 0)\n",
    "end\n",
    "\n",
    "@defNLExpr(f, sum{free_flow_time[a]*linkFlow[a] + .03*free_flow_time[a]*((linkFlow[a])^5)/((capacity[a])^4), a = 1:76})\n",
    "\n",
    "@setNLObjective(m, Min, f)\n",
    "\n",
    "solve(m)"
   ]
  },
  {
   "cell_type": "code",
   "execution_count": 13,
   "metadata": {
    "collapsed": false
   },
   "outputs": [
    {
     "data": {
      "text/plain": [
       "76-element Array{Float64,1}:\n",
       " 26873.3 \n",
       "  8587.79\n",
       " 41331.9 \n",
       "  5812.21\n",
       " 36381.3 \n",
       " 14518.4 \n",
       " 22632.7 \n",
       " 12144.9 \n",
       " 18618.4 \n",
       " 11044.2 \n",
       " 16489.1 \n",
       "  8475.87\n",
       " 18808.8 \n",
       "     ⋮   \n",
       "  7664.24\n",
       "  9768.96\n",
       " 17811.4 \n",
       "  7000.0 \n",
       "  7536.99\n",
       " 10184.8 \n",
       "  8248.59\n",
       " 10271.0 \n",
       "  9824.83\n",
       " 12493.8 \n",
       "  9292.07\n",
       "  8740.61"
      ]
     },
     "execution_count": 13,
     "metadata": {},
     "output_type": "execute_result"
    }
   ],
   "source": [
    "getValue(linkFlow)"
   ]
  },
  {
   "cell_type": "code",
   "execution_count": 14,
   "metadata": {
    "collapsed": false
   },
   "outputs": [
    {
     "data": {
      "text/plain": [
       "5.574336405569012e6"
      ]
     },
     "execution_count": 14,
     "metadata": {},
     "output_type": "execute_result"
    }
   ],
   "source": [
    "getObjectiveValue(m)"
   ]
  },
  {
   "cell_type": "code",
   "execution_count": 15,
   "metadata": {
    "collapsed": false
   },
   "outputs": [
    {
     "data": {
      "text/plain": [
       "true"
      ]
     },
     "execution_count": 15,
     "metadata": {},
     "output_type": "execute_result"
    }
   ],
   "source": [
    "1 != 2"
   ]
  },
  {
   "cell_type": "code",
   "execution_count": 15,
   "metadata": {
    "collapsed": false
   },
   "outputs": [
    {
     "name": "stdout",
     "output_type": "stream",
     "text": [
      "This is Ipopt version 3.12.1, running with linear solver mumps.\n",
      "NOTE: Other linear solvers might be more efficient (see Ipopt documentation).\n",
      "\n",
      "Number of nonzeros in equality constraint Jacobian...:   127756\n",
      "Number of nonzeros in inequality constraint Jacobian.:    43776\n",
      "Number of nonzeros in Lagrangian Hessian.............:       76\n",
      "\n",
      "Total number of variables............................:    43852\n",
      "                     variables with only lower bounds:        0\n",
      "                variables with lower and upper bounds:        0\n",
      "                     variables with only upper bounds:        0\n",
      "Total number of equality constraints.................:    13324\n",
      "Total number of inequality constraints...............:    43776\n",
      "        inequality constraints with only lower bounds:    43776\n",
      "   inequality constraints with lower and upper bounds:        0\n",
      "        inequality constraints with only upper bounds:        0\n",
      "\n",
      "iter    objective    inf_pr   inf_du lg(mu)  ||d||  lg(rg) alpha_du alpha_pr  ls\n",
      "   0  0.0000000e+00 4.40e+03 8.97e+00  -1.0 0.00e+00    -  0.00e+00 0.00e+00   0\n",
      "   1r 0.0000000e+00 4.40e+03 9.99e+02   3.6 0.00e+00    -  0.00e+00 1.81e-08R 10\n",
      "   2r 4.6611255e+03 4.40e+03 9.95e+02   3.6 3.51e+03    -  4.22e-03 4.23e-03f  1\n",
      "   3r 4.6562524e+03 4.37e+03 8.96e+02   1.5 1.47e+02    -  3.36e-01 2.31e-01f  1\n",
      "   4r 5.7162225e+03 4.35e+03 8.75e+02   1.5 8.99e+02    -  6.15e-02 2.33e-02f  1\n",
      "   5r 8.3599452e+03 4.30e+03 8.21e+02   1.5 7.80e+02    -  1.01e-01 6.18e-02f  1\n",
      "   6r 1.2225085e+04 4.24e+03 7.37e+02   1.5 6.21e+02    -  2.50e-01 1.03e-01f  1\n",
      "   7r 1.5967848e+04 4.18e+03 6.44e+02   1.5 4.76e+02    -  1.76e-01 1.26e-01f  1\n",
      "   8r 1.8861303e+04 4.12e+03 5.61e+02   1.5 4.51e+02    -  5.98e-02 1.29e-01f  1\n",
      "   9r 2.0760085e+04 4.08e+03 4.99e+02   1.5 4.28e+02    -  1.41e-01 1.10e-01f  1\n",
      "iter    objective    inf_pr   inf_du lg(mu)  ||d||  lg(rg) alpha_du alpha_pr  ls\n",
      "  10r 2.2218376e+04 4.04e+03 4.45e+02   1.5 3.88e+02    -  2.34e-01 1.09e-01f  1\n",
      "  11r 2.3604043e+04 4.00e+03 7.59e+02   0.8 3.39e+02    -  2.67e-01 1.31e-01f  1\n",
      "  12r 2.6394909e+04 3.93e+03 7.09e+02   0.8 1.08e+03    -  9.77e-02 6.59e-02f  1\n",
      "  13r 2.8854838e+04 3.87e+03 6.64e+02   0.8 1.05e+03    -  9.44e-02 6.41e-02f  1\n",
      "  14r 3.0269906e+04 3.83e+03 6.37e+02   0.8 1.03e+03    -  9.93e-02 4.03e-02f  1\n",
      "  15  2.9275615e+04 3.80e+03 9.93e+00  -1.0 1.17e+04    -  7.36e-03 7.22e-03f  1\n",
      "  16  5.1721326e+04 3.70e+03 9.66e+00  -1.0 1.48e+04    -  7.75e-03 2.70e-02h  1\n",
      "  17  1.3270276e+05 3.54e+03 9.24e+00  -1.0 2.09e+04    -  2.33e-02 4.30e-02h  1\n",
      "  18  2.7092082e+05 3.33e+03 8.71e+00  -1.0 2.41e+04    -  1.89e-02 5.80e-02h  1\n",
      "  19  3.6324172e+05 3.21e+03 8.38e+00  -1.0 2.34e+04    -  5.90e-02 3.71e-02h  1\n",
      "iter    objective    inf_pr   inf_du lg(mu)  ||d||  lg(rg) alpha_du alpha_pr  ls\n",
      "  20  6.2271936e+05 2.87e+03 7.51e+00  -1.0 2.06e+04    -  5.05e-02 1.05e-01h  1\n",
      "  21  7.5300840e+05 2.71e+03 7.09e+00  -1.0 1.69e+04    -  3.79e-02 5.50e-02h  1\n",
      "  22  8.2907672e+05 2.62e+03 6.86e+00  -1.0 1.64e+04    -  4.64e-02 3.32e-02h  1\n",
      "  23  9.2678120e+05 2.51e+03 6.56e+00  -1.0 1.84e+04    -  4.37e-02 4.34e-02h  1\n",
      "  24  1.0236064e+06 2.40e+03 6.27e+00  -1.0 1.93e+04    -  3.23e-02 4.41e-02h  1\n",
      "  25  1.0690819e+06 2.35e+03 6.14e+00  -1.0 1.84e+04    -  6.25e-02 2.11e-02h  1\n",
      "  26  1.1722778e+06 2.24e+03 5.84e+00  -1.0 2.13e+04    -  7.56e-03 4.80e-02h  1\n",
      "  27  1.1783181e+06 2.23e+03 5.83e+00  -1.0 2.19e+04    -  3.60e-02 2.91e-03h  1\n",
      "  28  1.2215865e+06 2.18e+03 5.71e+00  -1.0 1.90e+04    -  4.03e-02 2.07e-02h  1\n",
      "  29  1.2779699e+06 2.12e+03 5.55e+00  -1.0 1.71e+04    -  3.50e-02 2.71e-02h  1\n",
      "iter    objective    inf_pr   inf_du lg(mu)  ||d||  lg(rg) alpha_du alpha_pr  ls\n",
      "  30  1.4561333e+06 1.94e+03 5.07e+00  -1.0 1.88e+04    -  2.69e-02 8.63e-02h  1\n",
      "  31  1.5200739e+06 1.88e+03 4.91e+00  -1.0 1.74e+04    -  4.42e-02 3.28e-02h  1\n",
      "  32  1.5507042e+06 1.85e+03 4.83e+00  -1.0 1.73e+04    -  6.58e-02 1.60e-02h  1\n",
      "  33  1.6462678e+06 1.76e+03 4.59e+00  -1.0 1.85e+04    -  4.51e-02 5.00e-02h  1\n",
      "  34  1.7242453e+06 1.68e+03 4.40e+00  -1.0 1.67e+04    -  4.60e-02 4.22e-02h  1\n",
      "  35  1.8110759e+06 1.60e+03 4.19e+00  -1.0 1.44e+04    -  4.72e-02 4.82e-02h  1\n",
      "  36  1.8745772e+06 1.54e+03 4.04e+00  -1.0 1.23e+04    -  5.27e-02 3.63e-02h  1\n",
      "  37  1.9338407e+06 1.49e+03 3.90e+00  -1.0 1.44e+04    -  7.38e-03 3.43e-02h  1\n",
      "  38  1.9510261e+06 1.47e+03 3.86e+00  -1.0 1.42e+04    -  2.64e-02 1.02e-02h  1\n",
      "  39  1.9876275e+06 1.44e+03 3.78e+00  -1.0 1.27e+04    -  5.59e-02 2.19e-02h  1\n",
      "iter    objective    inf_pr   inf_du lg(mu)  ||d||  lg(rg) alpha_du alpha_pr  ls\n",
      "  40  2.0516956e+06 1.39e+03 3.63e+00  -1.0 1.06e+04    -  6.77e-02 3.88e-02h  1\n",
      "  41  2.1377101e+06 1.31e+03 3.44e+00  -1.0 1.09e+04    -  1.57e-02 5.31e-02h  1\n",
      "  42  2.2423567e+06 1.22e+03 3.21e+00  -1.0 1.02e+04    -  5.28e-02 6.66e-02h  1\n",
      "  43  2.3043495e+06 1.17e+03 3.08e+00  -1.0 9.42e+03    -  7.47e-02 4.12e-02h  1\n",
      "  44  2.3897880e+06 1.11e+03 2.91e+00  -1.0 9.14e+03    -  1.21e-01 5.80e-02h  1\n",
      "  45  2.5217935e+06 1.00e+03 2.64e+00  -1.0 8.08e+03    -  2.18e-02 9.18e-02h  1\n",
      "  46  2.5565449e+06 9.79e+02 2.57e+00  -1.0 7.39e+03    -  8.37e-02 2.59e-02h  1\n",
      "  47  2.6505718e+06 9.10e+02 2.40e+00  -1.0 7.17e+03    -  3.22e-02 7.05e-02h  1\n",
      "  48  2.7906889e+06 8.11e+02 2.15e+00  -1.0 7.03e+03    -  5.01e-02 1.09e-01h  1\n",
      "  49  2.8980022e+06 7.38e+02 1.99e+00  -1.0 7.28e+03    -  5.03e-02 8.98e-02h  1\n",
      "iter    objective    inf_pr   inf_du lg(mu)  ||d||  lg(rg) alpha_du alpha_pr  ls\n",
      "  50  2.9462862e+06 7.06e+02 1.91e+00  -1.0 6.50e+03    -  6.07e-02 4.34e-02h  1\n",
      "  51  2.9916490e+06 6.76e+02 1.83e+00  -1.0 5.52e+03    -  1.09e-01 4.20e-02h  1\n",
      "  52  3.0585270e+06 6.33e+02 1.73e+00  -1.0 5.04e+03    -  3.94e-02 6.36e-02h  1\n",
      "  53  3.0753697e+06 6.22e+02 1.70e+00  -1.0 4.87e+03    -  5.21e-02 1.69e-02h  1\n",
      "  54  3.1283117e+06 5.89e+02 1.62e+00  -1.0 4.84e+03    -  4.78e-02 5.35e-02h  1\n",
      "  55  3.2978625e+06 4.86e+02 1.41e+00  -1.0 4.54e+03    -  8.84e-02 1.75e-01h  1\n",
      "  56  3.3110242e+06 4.78e+02 2.62e+00  -1.0 3.50e+03    -  2.73e-01 1.61e-02h  1\n",
      "  57  3.3879528e+06 4.33e+02 2.59e+00  -1.0 3.26e+03    -  1.18e-01 9.40e-02h  1\n",
      "  58  3.5033233e+06 3.68e+02 2.80e+00  -1.0 2.96e+03    -  2.23e-01 1.51e-01h  1\n",
      "  59  3.9077643e+06 1.55e+02 1.24e+00  -1.0 2.52e+03    -  2.53e-01 5.79e-01h  1\n",
      "iter    objective    inf_pr   inf_du lg(mu)  ||d||  lg(rg) alpha_du alpha_pr  ls\n",
      "  60  4.0141671e+06 1.03e+02 1.96e+00  -1.0 1.06e+03    -  1.59e-01 3.35e-01h  1\n",
      "  61  4.0780894e+06 7.26e+01 1.83e+00  -1.0 9.64e+02    -  2.13e-01 2.95e-01h  1\n",
      "  62  4.1356658e+06 4.56e+01 1.62e+00  -1.0 7.41e+02    -  2.84e-01 3.71e-01h  1\n",
      "  63  4.2069558e+06 1.29e+01 3.36e+00  -1.0 4.47e+02    -  3.15e-01 7.17e-01h  1\n",
      "  64  4.2331443e+06 1.05e+00 2.99e+00  -1.0 2.29e+02    -  6.80e-01 9.19e-01h  1\n",
      "  65  4.2354872e+06 4.47e-08 5.11e+00  -1.0 9.35e+01    -  6.28e-01 1.00e+00h  1\n",
      "  66  4.2354888e+06 2.32e-08 2.00e-05  -1.0 4.28e+01    -  1.00e+00 1.00e+00f  1\n",
      "  67  4.2315703e+06 6.90e-10 6.03e-03  -2.5 4.58e+01    -  8.39e-01 9.72e-01f  1\n",
      "  68  4.2313416e+06 5.92e-11 2.13e-03  -3.8 1.31e+01    -  9.08e-01 1.00e+00f  1\n",
      "  69  4.2313415e+06 5.00e-10 8.41e-07  -3.8 4.29e+00    -  1.00e+00 1.00e+00f  1\n",
      "iter    objective    inf_pr   inf_du lg(mu)  ||d||  lg(rg) alpha_du alpha_pr  ls\n",
      "  70  4.2313354e+06 5.30e-11 5.80e-06  -5.7 1.50e+00    -  9.98e-01 1.00e+00f  1\n",
      "  71  4.2313354e+06 6.06e-11 6.29e-06  -5.7 6.29e-02  -4.0 1.00e+00 1.00e+00h  1\n",
      "  72  4.2313353e+06 5.63e-11 2.19e-06  -8.6 6.56e-02  -4.5 1.00e+00 1.00e+00f  1\n",
      "  73  4.2313353e+06 4.36e-11 3.21e-11  -8.6 8.38e+00    -  1.00e+00 1.00e+00h  1\n",
      "\n",
      "Number of Iterations....: 73\n",
      "\n",
      "                                   (scaled)                 (unscaled)\n",
      "Objective...............:   4.2313352833509119e+06    4.2313352833509119e+06\n",
      "Dual infeasibility......:   3.2061464594335121e-11    3.2061464594335121e-11\n",
      "Constraint violation....:   4.3622567825960459e-11    4.3622567825960459e-11\n",
      "Complementarity.........:   2.5888906316578691e-09    2.5888906316578691e-09\n",
      "Overall NLP error.......:   2.5888906316578691e-09    2.5888906316578691e-09\n",
      "\n",
      "\n",
      "Number of objective function evaluations             = 84\n",
      "Number of objective gradient evaluations             = 62\n",
      "Number of equality constraint evaluations            = 84\n",
      "Number of inequality constraint evaluations          = 84\n",
      "Number of equality constraint Jacobian evaluations   = 75\n",
      "Number of inequality constraint Jacobian evaluations = 75\n",
      "Number of Lagrangian Hessian evaluations             = 73\n",
      "Total CPU secs in IPOPT (w/o function evaluations)   =     47.700\n",
      "Total CPU secs in NLP function evaluations           =      0.220\n",
      "\n",
      "EXIT: Optimal Solution Found.\n"
     ]
    },
    {
     "data": {
      "text/plain": [
       ":Optimal"
      ]
     },
     "execution_count": 15,
     "metadata": {},
     "output_type": "execute_result"
    }
   ],
   "source": [
    "using JuMP\n",
    "using Gurobi\n",
    "\n",
    "# m = Model(solver=GurobiSolver(OutputFlag=false))\n",
    "m = Model()\n",
    "\n",
    "numLinks = 76  # number of links\n",
    "numNodes = 24  # number of nodes\n",
    "\n",
    "@defVar(m, linkFlow[1:numLinks])\n",
    "\n",
    "@defVar(m, odLinkFlow[keys(demands), 1:numLinks])\n",
    "for (s,t) = keys(demands)\n",
    "    for k = 1:numLinks\n",
    "        @addConstraint(m, odLinkFlow[(s,t), k] >= 0)\n",
    "    end\n",
    "end\n",
    "\n",
    "for k = 1:numLinks\n",
    "    linkFlowPartial = sum([odLinkFlow[(s,t), k] for (s,t) = keys(demands)])\n",
    "    @addConstraint(m, linkFlowPartial == linkFlow[k])\n",
    "end\n",
    "\n",
    "for l = 1:numNodes\n",
    "    for (s,t) = keys(demands)\n",
    "        if s != t\n",
    "            odLinkFlowPartial = sum([nodeLink[\"$(l-1)-$(k-1)\"] * odLinkFlow[(s,t), k] for k = 1:numLinks])\n",
    "            if (l == s)\n",
    "                @addConstraint(m, odLinkFlowPartial + demands[(s,t)] == 0)\n",
    "            elseif (l == t)\n",
    "                @addConstraint(m, odLinkFlowPartial - demands[(s,t)] == 0)\n",
    "            else\n",
    "                @addConstraint(m, odLinkFlowPartial == 0)\n",
    "            end\n",
    "        end\n",
    "    end\n",
    "end\n",
    "\n",
    "@defNLExpr(f, sum{free_flow_time[a]*linkFlow[a] + .03*free_flow_time[a]*((linkFlow[a])^5)/((capacity[a])^4), a = 1:76})\n",
    "\n",
    "@setNLObjective(m, Min, f)\n",
    "\n",
    "solve(m)"
   ]
  },
  {
   "cell_type": "code",
   "execution_count": 16,
   "metadata": {
    "collapsed": false
   },
   "outputs": [
    {
     "data": {
      "text/plain": [
       "76-element Array{Float64,1}:\n",
       "  4519.08\n",
       "  8094.66\n",
       "  4494.66\n",
       "  5991.76\n",
       "  8119.08\n",
       " 14030.6 \n",
       "  9973.71\n",
       " 14006.4 \n",
       " 18030.6 \n",
       "  5300.0 \n",
       " 18006.4 \n",
       "  8806.5 \n",
       " 15796.7 \n",
       "     ⋮   \n",
       "  8607.39\n",
       " 10259.5 \n",
       " 18409.9 \n",
       "  7000.0 \n",
       "  8619.54\n",
       "  9626.21\n",
       "  8400.44\n",
       "  9661.82\n",
       "  7861.83\n",
       " 11121.4 \n",
       " 10309.4 \n",
       "  7902.98"
      ]
     },
     "execution_count": 16,
     "metadata": {},
     "output_type": "execute_result"
    }
   ],
   "source": [
    "getValue(linkFlow)"
   ]
  },
  {
   "cell_type": "code",
   "execution_count": 17,
   "metadata": {
    "collapsed": false
   },
   "outputs": [
    {
     "data": {
      "text/plain": [
       "4.231335283350912e6"
      ]
     },
     "execution_count": 17,
     "metadata": {},
     "output_type": "execute_result"
    }
   ],
   "source": [
    "getObjectiveValue(m)"
   ]
  },
  {
   "cell_type": "code",
   "execution_count": null,
   "metadata": {
    "collapsed": true
   },
   "outputs": [],
   "source": []
  }
 ],
 "metadata": {
  "kernelspec": {
   "display_name": "Julia 0.3.7",
   "language": "julia",
   "name": "julia-0.3"
  },
  "language_info": {
   "file_extension": ".jl",
   "mimetype": "application/julia",
   "name": "julia",
   "version": "0.3.7"
  }
 },
 "nbformat": 4,
 "nbformat_minor": 0
}
