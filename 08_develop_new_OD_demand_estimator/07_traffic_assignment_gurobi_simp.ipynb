{
 "cells": [
  {
   "cell_type": "code",
   "execution_count": 1,
   "metadata": {
    "collapsed": true
   },
   "outputs": [],
   "source": [
    "using JSON\n",
    "\n",
    "#load OD pair-route incidence\n",
    "odPairRoute = readall(\"od_pair_route_incidence_Sioux_simp.json\");\n",
    "odPairRoute = JSON.parse(odPairRoute);\n",
    "\n",
    "#load link-route incidence\n",
    "linkRoute = readall(\"link_route_incidence_Sioux_simp.json\");\n",
    "linkRoute = JSON.parse(linkRoute);\n",
    "\n",
    "#load OD pair labels\n",
    "odPairLabel = readall(\"od_pair_label_dict_Sioux_simp_refined.json\");\n",
    "odPairLabel = JSON.parse(odPairLabel);\n",
    "\n",
    "odPairLabel_ = readall(\"od_pair_label_dict__Sioux_simp_refined.json\");\n",
    "odPairLabel_ = JSON.parse(odPairLabel_);\n",
    "\n",
    "#load link labels\n",
    "linkLabel = readall(\"link_label_dict_Sioux_simp.json\");\n",
    "linkLabel = JSON.parse(linkLabel);\n",
    "\n",
    "linkLabel_ = readall(\"link_label_dict_Sioux_simp_.json\");\n",
    "linkLabel_ = JSON.parse(linkLabel_);\n",
    "\n",
    "#load node-link incidence\n",
    "nodeLink = readall(\"node_link_incidence_Sioux_simp.json\");\n",
    "nodeLink = JSON.parse(nodeLink);"
   ]
  },
  {
   "cell_type": "code",
   "execution_count": 2,
   "metadata": {
    "collapsed": false
   },
   "outputs": [
    {
     "data": {
      "text/plain": [
       "load_ta_network (generic function with 2 methods)"
      ]
     },
     "execution_count": 2,
     "metadata": {},
     "output_type": "execute_result"
    }
   ],
   "source": [
    "include(\"load_network_uni-class.jl\")"
   ]
  },
  {
   "cell_type": "code",
   "execution_count": 3,
   "metadata": {
    "collapsed": false
   },
   "outputs": [],
   "source": [
    "ta_data = load_ta_network(\"Sioux_simp\");"
   ]
  },
  {
   "cell_type": "code",
   "execution_count": 4,
   "metadata": {
    "collapsed": false
   },
   "outputs": [],
   "source": [
    "capacity = ta_data.capacity;\n",
    "free_flow_time = ta_data.free_flow_time;"
   ]
  },
  {
   "cell_type": "code",
   "execution_count": 5,
   "metadata": {
    "collapsed": false
   },
   "outputs": [],
   "source": [
    "############\n",
    "#Read in the demand file\n",
    "file = open(\"../data_traffic_assignment_uni-class/SiouxFalls_trips_simp.txt\")\n",
    "demands = Dict{(Int64,Int64), Float64}()\n",
    "s = 0\n",
    "for line in eachline(file)\n",
    "    if contains(line, \"Origin\")\n",
    "        s = int(split(line)[2])\n",
    "    else\n",
    "        pairs = split(line, \";\")\n",
    "        for pair in pairs\n",
    "            if !contains(pair, \"\\n\")\n",
    "                pair_vals = split(pair, \":\")\n",
    "                t, demand = int(pair_vals[1]), float(pair_vals[2])\n",
    "                demands[(s,t)] = demand \n",
    "            end\n",
    "        end\n",
    "    end\n",
    "end                \n",
    "close(file)"
   ]
  },
  {
   "cell_type": "code",
   "execution_count": 6,
   "metadata": {
    "collapsed": false
   },
   "outputs": [
    {
     "data": {
      "text/plain": [
       "Dict{(Int64,Int64),Float64} with 100 entries:\n",
       "  (8,10) => 1600.0\n",
       "  (9,5)  => 800.0\n",
       "  (3,6)  => 300.0\n",
       "  (10,5) => 1000.0\n",
       "  (6,9)  => 400.0\n",
       "  (4,4)  => 0.0\n",
       "  (9,4)  => 700.0\n",
       "  (8,9)  => 800.0\n",
       "  (9,1)  => 500.0\n",
       "  (3,1)  => 100.0\n",
       "  (1,10) => 1300.0\n",
       "  (4,5)  => 500.0\n",
       "  (9,9)  => 0.0\n",
       "  (2,4)  => 200.0\n",
       "  (6,5)  => 200.0\n",
       "  (4,9)  => 700.0\n",
       "  (8,4)  => 700.0\n",
       "  (1,2)  => 100.0\n",
       "  (9,2)  => 200.0\n",
       "  (5,1)  => 200.0\n",
       "  (9,8)  => 800.0\n",
       "  (3,4)  => 200.0\n",
       "  (9,6)  => 400.0\n",
       "  (10,6) => 800.0\n",
       "  (8,2)  => 400.0\n",
       "  ⋮      => ⋮"
      ]
     },
     "execution_count": 6,
     "metadata": {},
     "output_type": "execute_result"
    }
   ],
   "source": [
    "demands"
   ]
  },
  {
   "cell_type": "code",
   "execution_count": 7,
   "metadata": {
    "collapsed": false
   },
   "outputs": [
    {
     "data": {
      "text/plain": [
       "Dict{String,Any} with 90 entries:\n",
       "  \"32\" => {4,6}\n",
       "  \"29\" => {4,2}\n",
       "  \"81\" => {9,10}\n",
       "  \"54\" => {6,10}\n",
       "  \"1\"  => {1,2}\n",
       "  \"78\" => {9,6}\n",
       "  \"2\"  => {1,3}\n",
       "  \"74\" => {9,2}\n",
       "  \"41\" => {5,6}\n",
       "  \"65\" => {8,2}\n",
       "  \"51\" => {6,7}\n",
       "  \"53\" => {6,9}\n",
       "  \"27\" => {3,10}\n",
       "  \"75\" => {9,3}\n",
       "  \"42\" => {5,7}\n",
       "  \"33\" => {4,7}\n",
       "  \"28\" => {4,1}\n",
       "  \"50\" => {6,5}\n",
       "  \"52\" => {6,8}\n",
       "  \"63\" => {7,10}\n",
       "  \"88\" => {10,7}\n",
       "  \"26\" => {3,9}\n",
       "  \"10\" => {2,1}\n",
       "  \"77\" => {9,5}\n",
       "  \"24\" => {3,7}\n",
       "  ⋮    => ⋮"
      ]
     },
     "execution_count": 7,
     "metadata": {},
     "output_type": "execute_result"
    }
   ],
   "source": [
    "odPairLabel_"
   ]
  },
  {
   "cell_type": "code",
   "execution_count": 8,
   "metadata": {
    "collapsed": false
   },
   "outputs": [],
   "source": [
    "demandsVec = zeros(length(odPairLabel_))\n",
    "\n",
    "for i = 1:length(demandsVec)\n",
    "    demandsVec[i] = demands[(odPairLabel_[\"$i\"][1], odPairLabel_[\"$i\"][2])]\n",
    "end"
   ]
  },
  {
   "cell_type": "code",
   "execution_count": 9,
   "metadata": {
    "collapsed": false
   },
   "outputs": [
    {
     "data": {
      "text/plain": [
       "90-element Array{Float64,1}:\n",
       "  100.0\n",
       "  100.0\n",
       "  500.0\n",
       "  200.0\n",
       "  300.0\n",
       "  500.0\n",
       "  800.0\n",
       "  500.0\n",
       " 1300.0\n",
       "  100.0\n",
       "  100.0\n",
       "  200.0\n",
       "  100.0\n",
       "    ⋮  \n",
       "  600.0\n",
       "  800.0\n",
       " 2800.0\n",
       " 1300.0\n",
       "  600.0\n",
       "  300.0\n",
       " 1200.0\n",
       " 1000.0\n",
       "  800.0\n",
       " 1900.0\n",
       " 1600.0\n",
       " 2800.0"
      ]
     },
     "execution_count": 9,
     "metadata": {},
     "output_type": "execute_result"
    }
   ],
   "source": [
    "demandsVec"
   ]
  },
  {
   "cell_type": "code",
   "execution_count": 12,
   "metadata": {
    "collapsed": false
   },
   "outputs": [
    {
     "name": "stdout",
     "output_type": "stream",
     "text": [
      "90-294\n"
     ]
    }
   ],
   "source": [
    "for key=keys(odPairRoute)\n",
    "    if contains(key, \"90-\")\n",
    "        println(key)\n",
    "    end\n",
    "end"
   ]
  },
  {
   "cell_type": "code",
   "execution_count": 13,
   "metadata": {
    "collapsed": false
   },
   "outputs": [
    {
     "name": "stdout",
     "output_type": "stream",
     "text": [
      "This is Ipopt version 3.12.1, running with linear solver mumps.\n",
      "NOTE: Other linear solvers might be more efficient (see Ipopt documentation).\n",
      "\n",
      "Number of nonzeros in equality constraint Jacobian...:     1614\n",
      "Number of nonzeros in inequality constraint Jacobian.:      294\n",
      "Number of nonzeros in Lagrangian Hessian.............:       22\n",
      "\n",
      "Total number of variables............................:      316\n",
      "                     variables with only lower bounds:        0\n",
      "                variables with lower and upper bounds:        0\n",
      "                     variables with only upper bounds:        0\n",
      "Total number of equality constraints.................:      112\n",
      "Total number of inequality constraints...............:      294\n",
      "        inequality constraints with only lower bounds:      294\n",
      "   inequality constraints with lower and upper bounds:        0\n",
      "        inequality constraints with only upper bounds:        0\n",
      "\n",
      "iter    objective    inf_pr   inf_du lg(mu)  ||d||  lg(rg) alpha_du alpha_pr  ls\n",
      "   0  0.0000000e+00 2.80e+03 9.39e+00  -1.0 0.00e+00    -  0.00e+00 0.00e+00   0\n",
      "   1  1.0741218e+06 5.29e-12 2.80e+05  -1.0 1.15e+04    -  3.54e-06 1.00e+00h  1\n",
      "   2  9.3728101e+05 6.93e-12 2.58e+05  -1.0 4.28e+04    -  5.77e-02 8.03e-02f  1\n",
      "   3  8.6572075e+05 7.73e-12 2.44e+05  -1.0 3.26e+04    -  1.28e-01 5.31e-02f  1\n",
      "   4  7.2241560e+05 5.40e-12 2.05e+05  -1.0 1.56e+04    -  1.76e-01 1.61e-01f  1\n",
      "   5  6.5266283e+05 5.51e-12 1.80e+05  -1.0 1.39e+04    -  1.79e-01 1.21e-01f  1\n",
      "   6  6.3241183e+05 4.29e-12 1.69e+05  -1.0 4.57e+03    -  5.45e-02 5.99e-02f  1\n",
      "   7  6.0804947e+05 3.87e-12 1.55e+05  -1.0 4.51e+03    -  6.62e-02 8.03e-02f  1\n",
      "   8  6.0117296e+05 4.26e-12 1.51e+05  -1.0 4.54e+03    -  8.39e-02 2.53e-02f  1\n",
      "   9  5.9102699e+05 5.46e-12 1.44e+05  -1.0 3.49e+03    -  1.13e-01 4.97e-02f  1\n",
      "iter    objective    inf_pr   inf_du lg(mu)  ||d||  lg(rg) alpha_du alpha_pr  ls\n",
      "  10  5.7342453e+05 5.35e-12 1.34e+05  -1.0 5.69e+03    -  1.71e-02 7.21e-02f  1\n",
      "  11  5.7294208e+05 5.14e-12 1.33e+05  -1.0 3.27e+03    -  4.15e-01 3.01e-03f  1\n",
      "  12  5.4918099e+05 3.55e-12 1.07e+05  -1.0 3.30e+03    -  6.20e-03 1.97e-01f  1\n",
      "  13  5.4847627e+05 5.34e-12 1.06e+05  -1.0 4.53e+03    -  3.83e-02 5.26e-03f  1\n",
      "  14  5.4322679e+05 4.32e-12 1.02e+05  -1.0 5.23e+03    -  2.92e-02 3.72e-02f  1\n",
      "  15  5.2792118e+05 5.68e-12 9.09e+04  -1.0 5.62e+03    -  5.11e-02 1.12e-01f  1\n",
      "  16  5.1408126e+05 4.85e-12 8.19e+04  -1.0 6.80e+03    -  1.13e-01 9.96e-02f  1\n",
      "  17  5.1202127e+05 8.41e-12 8.03e+04  -1.0 4.67e+03    -  3.26e-01 1.97e-02f  1\n",
      "  18  5.0281548e+05 6.82e-12 6.48e+04  -1.0 3.20e+03    -  9.81e-02 1.92e-01f  1\n",
      "  19  4.9620297e+05 4.35e-12 5.16e+04  -1.0 2.91e+03    -  2.70e-01 2.04e-01f  1\n",
      "iter    objective    inf_pr   inf_du lg(mu)  ||d||  lg(rg) alpha_du alpha_pr  ls\n",
      "  20  4.9087484e+05 5.91e-12 3.91e+04  -1.0 2.32e+03    -  2.55e-01 2.42e-01f  1\n",
      "  21  4.9012032e+05 2.51e-12 3.66e+04  -1.0 1.32e+03    -  8.54e-01 6.40e-02f  1\n",
      "  22  4.8938884e+05 2.96e-12 2.50e+04  -1.0 6.11e+01    -  1.00e+00 3.18e-01f  1\n",
      "  23  4.8796906e+05 4.09e-12 2.51e+02  -1.0 6.47e+01    -  1.00e+00 9.90e-01f  1\n",
      "  24  4.8795020e+05 5.16e-12 2.69e-06  -1.0 3.27e+00    -  1.00e+00 1.00e+00f  1\n",
      "  25  4.8793035e+05 4.55e-12 2.83e-08  -2.5 5.36e-01    -  1.00e+00 1.00e+00f  1\n",
      "  26  4.8792980e+05 6.37e-12 1.50e-09  -3.8 1.46e-02    -  1.00e+00 1.00e+00f  1\n",
      "  27  4.8792977e+05 5.98e-12 1.85e-11  -5.7 8.01e-04    -  1.00e+00 1.00e+00f  1\n",
      "  28  4.8792977e+05 5.46e-12 2.84e-14  -8.6 9.93e-06    -  1.00e+00 1.00e+00f  1\n",
      "\n",
      "Number of Iterations....: 28\n",
      "\n",
      "                                   (scaled)                 (unscaled)\n",
      "Objective...............:   4.8792977195278450e+05    4.8792977195278450e+05\n",
      "Dual infeasibility......:   2.8421709430404007e-14    2.8421709430404007e-14\n",
      "Constraint violation....:   5.4569682106375694e-12    5.4569682106375694e-12\n",
      "Complementarity.........:   2.5059171484714140e-09    2.5059171484714140e-09\n",
      "Overall NLP error.......:   2.5059171484714140e-09    2.5059171484714140e-09\n",
      "\n",
      "\n",
      "Number of objective function evaluations             = 29\n",
      "Number of objective gradient evaluations             = 29\n",
      "Number of equality constraint evaluations            = 29\n",
      "Number of inequality constraint evaluations          = 29\n",
      "Number of equality constraint Jacobian evaluations   = 29\n",
      "Number of inequality constraint Jacobian evaluations = 29\n",
      "Number of Lagrangian Hessian evaluations             = 28\n",
      "Total CPU secs in IPOPT (w/o function evaluations)   =      0.036\n",
      "Total CPU secs in NLP function evaluations           =      0.000\n",
      "\n",
      "EXIT: Optimal Solution Found.\n"
     ]
    },
    {
     "data": {
      "text/plain": [
       ":Optimal"
      ]
     },
     "execution_count": 13,
     "metadata": {},
     "output_type": "execute_result"
    }
   ],
   "source": [
    "using JuMP\n",
    "using Gurobi\n",
    "\n",
    "# m = Model(solver=GurobiSolver(OutputFlag=false))\n",
    "m = Model()\n",
    "\n",
    "numLinks = 22\n",
    "numRoute = 294\n",
    "numOD = 90\n",
    "\n",
    "@defVar(m, linkFlow[1:numLinks])\n",
    "@defVar(m, pathFlow[1:numRoute])\n",
    "\n",
    "pathFlowSum = Dict()\n",
    "\n",
    "for i=1:numOD\n",
    "    pathFlowSum[i] = 0\n",
    "    for j=1:numRoute\n",
    "        if \"$(i)-$(j)\" in keys(odPairRoute)\n",
    "            pathFlowSum[i] += pathFlow[j]\n",
    "        end\n",
    "    end\n",
    "    @addConstraint(m, pathFlowSum[i] == demandsVec[i])\n",
    "end\n",
    "\n",
    "pathFlowLinkSum = Dict()\n",
    "\n",
    "for a=1:numLinks\n",
    "    pathFlowLinkSum[a] = 0\n",
    "    for j=1:numRoute\n",
    "        if \"$(a)-$(j)\" in keys(linkRoute)\n",
    "            pathFlowLinkSum[a] += pathFlow[j]\n",
    "        end\n",
    "    end\n",
    "    @addConstraint(m, pathFlowLinkSum[a] == linkFlow[a])\n",
    "end\n",
    "\n",
    "for j=1:numRoute\n",
    "    @addConstraint(m, pathFlow[j] >= 0)\n",
    "end\n",
    "\n",
    "@defNLExpr(f, sum{free_flow_time[a]*linkFlow[a] + .03*free_flow_time[a]*((linkFlow[a])^5)/((capacity[a])^4), a = 1:numLinks})\n",
    "\n",
    "@setNLObjective(m, Min, f)\n",
    "\n",
    "solve(m)"
   ]
  },
  {
   "cell_type": "code",
   "execution_count": 14,
   "metadata": {
    "collapsed": false
   },
   "outputs": [
    {
     "data": {
      "text/plain": [
       "22-element Array{Float64,1}:\n",
       "  1800.0\n",
       "  2700.0\n",
       "  1800.0\n",
       "  3700.0\n",
       "  2700.0\n",
       "  3800.0\n",
       "  3800.0\n",
       "  7200.0\n",
       "  7200.0\n",
       "  5300.0\n",
       "  7900.0\n",
       "  3700.0\n",
       "  5300.0\n",
       "  5200.0\n",
       "  5300.0\n",
       "  5200.0\n",
       "  5300.0\n",
       "  4900.0\n",
       "  7900.0\n",
       "  4900.0\n",
       " 11500.0\n",
       " 11500.0"
      ]
     },
     "execution_count": 14,
     "metadata": {},
     "output_type": "execute_result"
    }
   ],
   "source": [
    "getValue(linkFlow)"
   ]
  },
  {
   "cell_type": "code",
   "execution_count": 15,
   "metadata": {
    "collapsed": false
   },
   "outputs": [
    {
     "data": {
      "text/plain": [
       "487929.7719527845"
      ]
     },
     "execution_count": 15,
     "metadata": {},
     "output_type": "execute_result"
    }
   ],
   "source": [
    "getObjectiveValue(m)"
   ]
  },
  {
   "cell_type": "code",
   "execution_count": 16,
   "metadata": {
    "collapsed": false
   },
   "outputs": [
    {
     "name": "stdout",
     "output_type": "stream",
     "text": [
      "This is Ipopt version 3.12.1, running with linear solver mumps.\n",
      "NOTE: Other linear solvers might be more efficient (see Ipopt documentation).\n",
      "\n",
      "Number of nonzeros in equality constraint Jacobian...:     6182\n",
      "Number of nonzeros in inequality constraint Jacobian.:     2200\n",
      "Number of nonzeros in Lagrangian Hessian.............:       22\n",
      "\n",
      "Total number of variables............................:     2222\n",
      "                     variables with only lower bounds:        0\n",
      "                variables with lower and upper bounds:        0\n",
      "                     variables with only upper bounds:        0\n",
      "Total number of equality constraints.................:      922\n",
      "Total number of inequality constraints...............:     2200\n",
      "        inequality constraints with only lower bounds:     2200\n",
      "   inequality constraints with lower and upper bounds:        0\n",
      "        inequality constraints with only upper bounds:        0\n",
      "\n",
      "iter    objective    inf_pr   inf_du lg(mu)  ||d||  lg(rg) alpha_du alpha_pr  ls\n",
      "   0  0.0000000e+00 2.80e+03 1.00e+01  -1.0 0.00e+00    -  0.00e+00 0.00e+00   0\n",
      "   1r 0.0000000e+00 2.80e+03 9.99e+02   3.4 0.00e+00    -  0.00e+00 5.52e-08R  8\n",
      "   2r 1.7653537e+03 2.80e+03 9.93e+02   3.4 3.30e+03    -  5.56e-03 5.58e-03f  1\n",
      "   3r 1.7639168e+03 2.79e+03 8.85e+02   1.4 1.13e+02    -  1.64e-01 1.38e-01f  1\n",
      "   4r 2.1614508e+03 2.78e+03 8.63e+02   1.4 6.02e+02    -  3.46e-02 2.55e-02f  1\n",
      "   5r 2.8132572e+03 2.76e+03 8.21e+02   1.4 5.03e+02    -  7.03e-02 4.86e-02f  1\n",
      "   6r 3.4898187e+03 2.74e+03 7.66e+02   1.4 3.70e+02    -  1.40e-01 6.68e-02f  1\n",
      "   7r 4.0684628e+03 2.71e+03 6.99e+02   1.4 3.26e+02    -  2.26e-01 8.73e-02f  1\n",
      "   8r 4.5307860e+03 2.68e+03 6.33e+02   1.4 5.20e+02    -  2.71e-02 9.42e-02f  1\n",
      "   9r 4.9132730e+03 2.65e+03 5.76e+02   1.4 5.07e+02    -  8.84e-02 9.05e-02f  1\n",
      "iter    objective    inf_pr   inf_du lg(mu)  ||d||  lg(rg) alpha_du alpha_pr  ls\n",
      "  10r 5.2514436e+03 2.60e+03 5.21e+02   1.4 4.81e+02    -  9.01e-02 9.46e-02f  1\n",
      "  11r 5.6172768e+03 2.55e+03 4.59e+02   1.4 4.37e+02    -  2.77e-01 1.21e-01f  1\n",
      "  12r 5.8404637e+03 2.52e+03 4.25e+02   1.4 3.87e+02    -  1.26e-01 7.27e-02f  1\n",
      "  13r 6.3400540e+03 2.47e+03 3.61e+02   1.4 3.64e+02    -  1.18e-01 1.52e-01f  1\n",
      "  14  7.2246579e+03 2.46e+03 9.96e+00  -1.0 7.42e+03    -  4.42e-03 4.44e-03h  1\n",
      "  15  1.3848938e+04 2.41e+03 9.75e+00  -1.0 1.04e+04    -  6.76e-03 2.03e-02h  1\n",
      "  16  3.0998262e+04 2.31e+03 9.35e+00  -1.0 1.07e+04    -  2.34e-02 4.19e-02h  1\n",
      "  17  4.8397574e+04 2.21e+03 8.94e+00  -1.0 1.04e+04    -  1.79e-02 4.33e-02h  1\n",
      "  18  6.8107353e+04 2.10e+03 8.50e+00  -1.0 9.99e+03    -  6.25e-02 4.93e-02h  1\n",
      "  19  1.1135606e+05 1.86e+03 7.54e+00  -1.0 9.58e+03    -  7.09e-02 1.13e-01h  1\n",
      "iter    objective    inf_pr   inf_du lg(mu)  ||d||  lg(rg) alpha_du alpha_pr  ls\n",
      "  20  1.6640968e+05 1.57e+03 6.38e+00  -1.0 8.58e+03    -  1.38e-01 1.55e-01h  1\n",
      "  21  2.1673456e+05 1.32e+03 5.35e+00  -1.0 7.32e+03    -  2.79e-01 1.63e-01h  1\n",
      "  22  3.3167309e+05 7.44e+02 3.15e+00  -1.0 6.17e+03    -  4.69e-01 4.34e-01h  1\n",
      "  23  4.3432656e+05 2.50e+02 1.26e+00  -1.0 3.51e+03    -  7.77e-01 6.64e-01h  1\n",
      "  24  4.8811205e+05 9.41e-09 8.12e-02  -1.0 1.18e+03    -  1.00e+00 1.00e+00h  1\n",
      "  25  4.8793795e+05 5.26e-10 6.52e-03  -2.5 4.31e+00    -  1.00e+00 9.83e-01f  1\n",
      "  26  4.8793007e+05 1.99e-10 2.57e-09  -3.8 1.74e-01    -  1.00e+00 1.00e+00f  1\n",
      "  27  4.8792978e+05 2.36e-11 3.07e-04  -5.7 6.74e-03    -  1.00e+00 9.96e-01f  1\n",
      "  28  4.8792978e+05 1.11e-09 1.84e-11  -5.7 2.57e-05    -  1.00e+00 1.00e+00f  1\n",
      "  29  4.8792977e+05 2.60e-11 2.84e-14  -8.6 8.35e-05    -  1.00e+00 1.00e+00f  1\n",
      "\n",
      "Number of Iterations....: 29\n",
      "\n",
      "                                   (scaled)                 (unscaled)\n",
      "Objective...............:   4.8792977188595134e+05    4.8792977188595134e+05\n",
      "Dual infeasibility......:   2.8421709430404007e-14    2.8421709430404007e-14\n",
      "Constraint violation....:   2.5997978633298495e-11    2.5997978633298495e-11\n",
      "Complementarity.........:   3.2376826403216104e-09    3.2376826403216104e-09\n",
      "Overall NLP error.......:   3.2376826403216104e-09    3.2376826403216104e-09\n",
      "\n",
      "\n",
      "Number of objective function evaluations             = 38\n",
      "Number of objective gradient evaluations             = 19\n",
      "Number of equality constraint evaluations            = 38\n",
      "Number of inequality constraint evaluations          = 38\n",
      "Number of equality constraint Jacobian evaluations   = 31\n",
      "Number of inequality constraint Jacobian evaluations = 31\n",
      "Number of Lagrangian Hessian evaluations             = 29\n",
      "Total CPU secs in IPOPT (w/o function evaluations)   =      0.248\n",
      "Total CPU secs in NLP function evaluations           =      0.000\n",
      "\n",
      "EXIT: Optimal Solution Found.\n"
     ]
    },
    {
     "data": {
      "text/plain": [
       ":Optimal"
      ]
     },
     "execution_count": 16,
     "metadata": {},
     "output_type": "execute_result"
    }
   ],
   "source": [
    "using JuMP\n",
    "using Gurobi\n",
    "\n",
    "# m = Model(solver=GurobiSolver(OutputFlag=false))\n",
    "m = Model()\n",
    "\n",
    "numNodes = 10  # number of nodes\n",
    "\n",
    "@defVar(m, linkFlow[1:numLinks])\n",
    "\n",
    "@defVar(m, odLinkFlow[keys(demands), 1:numLinks])\n",
    "for (s,t) = keys(demands)\n",
    "    for k = 1:numLinks\n",
    "        @addConstraint(m, odLinkFlow[(s,t), k] >= 0)\n",
    "    end\n",
    "end\n",
    "\n",
    "for k = 1:numLinks\n",
    "    linkFlowPartial = sum([odLinkFlow[(s,t), k] for (s,t) = keys(demands)])\n",
    "    @addConstraint(m, linkFlowPartial == linkFlow[k])\n",
    "end\n",
    "\n",
    "for l = 1:numNodes\n",
    "    for (s,t) = keys(demands)\n",
    "        if s != t\n",
    "            odLinkFlowPartial = sum([nodeLink[\"$(l-1)-$(k-1)\"] * odLinkFlow[(s,t), k] for k = 1:numLinks])\n",
    "            if (l == s)\n",
    "                @addConstraint(m, odLinkFlowPartial + demands[(s,t)] == 0)\n",
    "            elseif (l == t)\n",
    "                @addConstraint(m, odLinkFlowPartial - demands[(s,t)] == 0)\n",
    "            else\n",
    "                @addConstraint(m, odLinkFlowPartial == 0)\n",
    "            end\n",
    "        end\n",
    "    end\n",
    "end\n",
    "\n",
    "@defNLExpr(f, sum{free_flow_time[a]*linkFlow[a] + .03*free_flow_time[a]*((linkFlow[a])^5)/((capacity[a])^4), a = 1:numLinks})\n",
    "\n",
    "@setNLObjective(m, Min, f)\n",
    "\n",
    "solve(m)"
   ]
  },
  {
   "cell_type": "code",
   "execution_count": 17,
   "metadata": {
    "collapsed": false
   },
   "outputs": [
    {
     "data": {
      "text/plain": [
       "22-element Array{Float64,1}:\n",
       "  1800.0\n",
       "  2700.0\n",
       "  1800.0\n",
       "  3700.0\n",
       "  2700.0\n",
       "  3800.0\n",
       "  3800.0\n",
       "  7200.0\n",
       "  7200.0\n",
       "  5300.0\n",
       "  7900.0\n",
       "  3700.0\n",
       "  5300.0\n",
       "  5200.0\n",
       "  5300.0\n",
       "  5200.0\n",
       "  5300.0\n",
       "  4900.0\n",
       "  7900.0\n",
       "  4900.0\n",
       " 11500.0\n",
       " 11500.0"
      ]
     },
     "execution_count": 17,
     "metadata": {},
     "output_type": "execute_result"
    }
   ],
   "source": [
    "getValue(linkFlow)"
   ]
  },
  {
   "cell_type": "code",
   "execution_count": 18,
   "metadata": {
    "collapsed": false
   },
   "outputs": [
    {
     "data": {
      "text/plain": [
       "487929.77188595134"
      ]
     },
     "execution_count": 18,
     "metadata": {},
     "output_type": "execute_result"
    }
   ],
   "source": [
    "getObjectiveValue(m)"
   ]
  },
  {
   "cell_type": "code",
   "execution_count": null,
   "metadata": {
    "collapsed": true
   },
   "outputs": [],
   "source": [
    " 1800.0\n",
    "  2700.0\n",
    "  1800.0\n",
    "  3700.0\n",
    "  2700.0\n",
    "  3800.0\n",
    "  3800.0\n",
    "  7200.0\n",
    "  7200.0\n",
    "  5300.0\n",
    "  7900.0\n",
    "  3700.0\n",
    "  5300.0\n",
    "  5200.0\n",
    "  5300.0\n",
    "  5200.0\n",
    "  5300.0\n",
    "  4900.0\n",
    "  7900.0\n",
    "  4900.0\n",
    " 11500.0\n",
    " 11500.0\n",
    "\n",
    "487929.7719527845"
   ]
  }
 ],
 "metadata": {
  "kernelspec": {
   "display_name": "Julia 0.3.7",
   "language": "julia",
   "name": "julia-0.3"
  },
  "language_info": {
   "file_extension": ".jl",
   "mimetype": "application/julia",
   "name": "julia",
   "version": "0.3.7"
  }
 },
 "nbformat": 4,
 "nbformat_minor": 0
}
