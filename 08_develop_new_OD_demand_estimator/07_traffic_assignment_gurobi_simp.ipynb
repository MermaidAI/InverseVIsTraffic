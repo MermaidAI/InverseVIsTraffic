{
 "cells": [
  {
   "cell_type": "code",
   "execution_count": 1,
   "metadata": {
    "collapsed": true
   },
   "outputs": [],
   "source": [
    "using JSON\n",
    "\n",
    "#load OD pair-route incidence\n",
    "odPairRoute = readall(\"od_pair_route_incidence_Sioux_simp.json\");\n",
    "odPairRoute = JSON.parse(odPairRoute);\n",
    "\n",
    "#load link-route incidence\n",
    "linkRoute = readall(\"link_route_incidence_Sioux_simp.json\");\n",
    "linkRoute = JSON.parse(linkRoute);\n",
    "\n",
    "#load OD pair labels\n",
    "odPairLabel = readall(\"od_pair_label_dict_Sioux_simp_refined.json\");\n",
    "odPairLabel = JSON.parse(odPairLabel);\n",
    "\n",
    "odPairLabel_ = readall(\"od_pair_label_dict__Sioux_simp_refined.json\");\n",
    "odPairLabel_ = JSON.parse(odPairLabel_);\n",
    "\n",
    "#load link labels\n",
    "linkLabel = readall(\"link_label_dict_Sioux_simp.json\");\n",
    "linkLabel = JSON.parse(linkLabel);\n",
    "\n",
    "linkLabel_ = readall(\"link_label_dict_Sioux_simp_.json\");\n",
    "linkLabel_ = JSON.parse(linkLabel_);\n",
    "\n",
    "#load node-link incidence\n",
    "nodeLink = readall(\"node_link_incidence_Sioux_simp.json\");\n",
    "nodeLink = JSON.parse(nodeLink);"
   ]
  },
  {
   "cell_type": "code",
   "execution_count": 2,
   "metadata": {
    "collapsed": false
   },
   "outputs": [
    {
     "data": {
      "text/plain": [
       "load_ta_network (generic function with 2 methods)"
      ]
     },
     "execution_count": 2,
     "metadata": {},
     "output_type": "execute_result"
    }
   ],
   "source": [
    "include(\"load_network_uni-class.jl\")"
   ]
  },
  {
   "cell_type": "code",
   "execution_count": 3,
   "metadata": {
    "collapsed": false
   },
   "outputs": [],
   "source": [
    "ta_data = load_ta_network(\"Sioux_simp\");"
   ]
  },
  {
   "cell_type": "code",
   "execution_count": 4,
   "metadata": {
    "collapsed": false
   },
   "outputs": [],
   "source": [
    "capacity = ta_data.capacity;\n",
    "free_flow_time = ta_data.free_flow_time;"
   ]
  },
  {
   "cell_type": "code",
   "execution_count": 5,
   "metadata": {
    "collapsed": false
   },
   "outputs": [],
   "source": [
    "############\n",
    "#Read in the demand file\n",
    "file = open(\"../data_traffic_assignment_uni-class/SiouxFalls_trips_simp.txt\")\n",
    "demands = Dict{(Int64,Int64), Float64}()\n",
    "s = 0\n",
    "for line in eachline(file)\n",
    "    if contains(line, \"Origin\")\n",
    "        s = int(split(line)[2])\n",
    "    else\n",
    "        pairs = split(line, \";\")\n",
    "        for pair in pairs\n",
    "            if !contains(pair, \"\\n\")\n",
    "                pair_vals = split(pair, \":\")\n",
    "                t, demand = int(pair_vals[1]), float(pair_vals[2])\n",
    "                demands[(s,t)] = demand \n",
    "            end\n",
    "        end\n",
    "    end\n",
    "end                \n",
    "close(file)"
   ]
  },
  {
   "cell_type": "code",
   "execution_count": 6,
   "metadata": {
    "collapsed": false
   },
   "outputs": [
    {
     "data": {
      "text/plain": [
       "Dict{(Int64,Int64),Float64} with 81 entries:\n",
       "  (9,5) => 800.0\n",
       "  (3,6) => 300.0\n",
       "  (6,9) => 400.0\n",
       "  (4,4) => 0.0\n",
       "  (9,4) => 700.0\n",
       "  (8,9) => 800.0\n",
       "  (9,1) => 500.0\n",
       "  (3,1) => 100.0\n",
       "  (4,5) => 500.0\n",
       "  (9,9) => 0.0\n",
       "  (2,4) => 200.0\n",
       "  (6,5) => 200.0\n",
       "  (4,9) => 700.0\n",
       "  (8,4) => 700.0\n",
       "  (1,2) => 100.0\n",
       "  (9,2) => 200.0\n",
       "  (5,1) => 200.0\n",
       "  (9,8) => 800.0\n",
       "  (3,4) => 200.0\n",
       "  (9,6) => 400.0\n",
       "  (8,2) => 400.0\n",
       "  (2,3) => 100.0\n",
       "  (2,6) => 400.0\n",
       "  (5,4) => 500.0\n",
       "  (2,1) => 100.0\n",
       "  ⋮     => ⋮"
      ]
     },
     "execution_count": 6,
     "metadata": {},
     "output_type": "execute_result"
    }
   ],
   "source": [
    "demands"
   ]
  },
  {
   "cell_type": "code",
   "execution_count": 7,
   "metadata": {
    "collapsed": false
   },
   "outputs": [
    {
     "data": {
      "text/plain": [
       "Dict{String,Any} with 72 entries:\n",
       "  \"32\" => {4,9}\n",
       "  \"29\" => {4,6}\n",
       "  \"1\"  => {1,2}\n",
       "  \"54\" => {7,6}\n",
       "  \"2\"  => {1,3}\n",
       "  \"41\" => {6,1}\n",
       "  \"65\" => {9,1}\n",
       "  \"53\" => {7,5}\n",
       "  \"51\" => {7,3}\n",
       "  \"27\" => {4,3}\n",
       "  \"42\" => {6,2}\n",
       "  \"33\" => {5,1}\n",
       "  \"28\" => {4,5}\n",
       "  \"52\" => {7,4}\n",
       "  \"50\" => {7,2}\n",
       "  \"63\" => {8,7}\n",
       "  \"26\" => {4,2}\n",
       "  \"10\" => {2,3}\n",
       "  \"24\" => {3,9}\n",
       "  \"58\" => {8,2}\n",
       "  \"25\" => {4,1}\n",
       "  \"23\" => {3,8}\n",
       "  \"49\" => {7,1}\n",
       "  \"59\" => {8,3}\n",
       "  \"5\"  => {1,6}\n",
       "  ⋮    => ⋮"
      ]
     },
     "execution_count": 7,
     "metadata": {},
     "output_type": "execute_result"
    }
   ],
   "source": [
    "odPairLabel_"
   ]
  },
  {
   "cell_type": "code",
   "execution_count": 8,
   "metadata": {
    "collapsed": false
   },
   "outputs": [],
   "source": [
    "demandsVec = zeros(length(odPairLabel_))\n",
    "\n",
    "for i = 1:length(demandsVec)\n",
    "    demandsVec[i] = demands[(odPairLabel_[\"$i\"][1], odPairLabel_[\"$i\"][2])]\n",
    "end"
   ]
  },
  {
   "cell_type": "code",
   "execution_count": 9,
   "metadata": {
    "collapsed": false
   },
   "outputs": [
    {
     "data": {
      "text/plain": [
       "72-element Array{Float64,1}:\n",
       "  100.0\n",
       "  100.0\n",
       "  500.0\n",
       "  200.0\n",
       "  300.0\n",
       "  500.0\n",
       "  800.0\n",
       "  500.0\n",
       "  100.0\n",
       "  100.0\n",
       "  200.0\n",
       "  100.0\n",
       "  400.0\n",
       "    ⋮  \n",
       "  500.0\n",
       "  800.0\n",
       " 1000.0\n",
       "  800.0\n",
       "  500.0\n",
       "  200.0\n",
       "  100.0\n",
       "  700.0\n",
       "  800.0\n",
       "  400.0\n",
       "  600.0\n",
       "  800.0"
      ]
     },
     "execution_count": 9,
     "metadata": {},
     "output_type": "execute_result"
    }
   ],
   "source": [
    "demandsVec"
   ]
  },
  {
   "cell_type": "code",
   "execution_count": 10,
   "metadata": {
    "collapsed": false
   },
   "outputs": [
    {
     "name": "stdout",
     "output_type": "stream",
     "text": [
      "72-232\n",
      "72-233\n"
     ]
    }
   ],
   "source": [
    "for key=keys(odPairRoute)\n",
    "    if contains(key, \"72-\")\n",
    "        println(key)\n",
    "    end\n",
    "end"
   ]
  },
  {
   "cell_type": "code",
   "execution_count": 11,
   "metadata": {
    "collapsed": false
   },
   "outputs": [
    {
     "name": "stdout",
     "output_type": "stream",
     "text": [
      "\n",
      "******************************************************************************\n",
      "This program contains Ipopt, a library for large-scale nonlinear optimization.\n",
      " Ipopt is released as open source code under the Eclipse Public License (EPL).\n",
      "         For more information visit http://projects.coin-or.org/Ipopt\n",
      "******************************************************************************\n",
      "\n",
      "This is Ipopt version 3.12.1, running with linear solver mumps.\n",
      "NOTE: Other linear solvers might be more efficient (see Ipopt documentation).\n",
      "\n",
      "Number of nonzeros in equality constraint Jacobian...:     1235\n",
      "Number of nonzeros in inequality constraint Jacobian.:      233\n",
      "Number of nonzeros in Lagrangian Hessian.............:       20\n",
      "\n",
      "Total number of variables............................:      253\n",
      "                     variables with only lower bounds:        0\n",
      "                variables with lower and upper bounds:        0\n",
      "                     variables with only upper bounds:        0\n",
      "Total number of equality constraints.................:       92\n",
      "Total number of inequality constraints...............:      233\n",
      "        inequality constraints with only lower bounds:      233\n",
      "   inequality constraints with lower and upper bounds:        0\n",
      "        inequality constraints with only upper bounds:        0\n",
      "\n",
      "iter    objective    inf_pr   inf_du lg(mu)  ||d||  lg(rg) alpha_du alpha_pr  ls\n",
      "   0  0.0000000e+00 1.00e+03 9.23e+00  -1.0 0.00e+00    -  0.00e+00 0.00e+00   0\n",
      "   1  5.0423046e+05 2.98e-12 1.00e+05  -1.0 6.13e+03    -  9.90e-06 1.00e+00h  1\n",
      "   2  4.0167599e+05 5.77e-12 9.23e+04  -1.0 3.15e+04    -  5.26e-02 7.67e-02f  1\n",
      "   3  3.4851951e+05 3.58e-12 8.71e+04  -1.0 1.74e+04    -  1.07e-01 5.65e-02f  1\n",
      "   4  2.8899783e+05 2.53e-12 7.72e+04  -1.0 1.08e+04    -  1.31e-01 1.14e-01f  1\n",
      "   5  2.6422245e+05 1.99e-12 7.15e+04  -1.0 1.18e+04    -  1.05e-01 7.44e-02f  1\n",
      "   6  2.5071445e+05 3.73e-12 6.65e+04  -1.0 7.98e+03    -  8.26e-02 6.91e-02f  1\n",
      "   7  2.4510385e+05 1.94e-12 6.39e+04  -1.0 7.10e+03    -  3.40e-02 4.00e-02f  1\n",
      "   8  2.4188700e+05 2.63e-12 6.16e+04  -1.0 5.48e+03    -  5.89e-02 3.59e-02f  1\n",
      "   9  2.3890194e+05 4.04e-12 5.76e+04  -1.0 2.17e+03    -  1.16e-01 6.45e-02f  1\n",
      "iter    objective    inf_pr   inf_du lg(mu)  ||d||  lg(rg) alpha_du alpha_pr  ls\n",
      "  10  2.3678764e+05 1.42e-12 5.46e+04  -1.0 3.92e+03    -  3.29e-02 5.13e-02f  1\n",
      "  11  2.3522203e+05 1.99e-12 5.21e+04  -1.0 3.25e+03    -  6.33e-02 4.72e-02f  1\n",
      "  12  2.3402837e+05 3.28e-12 4.94e+04  -1.0 2.03e+03    -  1.55e-01 5.17e-02f  1\n",
      "  13  2.3197739e+05 1.76e-12 4.17e+04  -1.0 7.59e+02    -  4.72e-01 1.55e-01f  1\n",
      "  14  2.2902873e+05 2.56e-12 1.95e+04  -1.0 1.29e+02    -  9.22e-01 5.32e-01f  1\n",
      "  15  2.2775990e+05 4.18e-12 5.50e+02  -1.0 4.33e+01    -  1.00e+00 9.72e-01f  1\n",
      "  16  2.2774485e+05 3.10e-12 1.00e-06  -1.0 1.40e+00    -  1.00e+00 1.00e+00f  1\n",
      "  17  2.2772921e+05 1.64e-12 2.83e-08  -2.5 3.15e-01    -  1.00e+00 1.00e+00f  1\n",
      "  18  2.2772878e+05 2.91e-12 1.50e-09  -3.8 8.71e-03    -  1.00e+00 1.00e+00f  1\n",
      "  19  2.2772875e+05 4.17e-12 1.85e-11  -5.7 4.82e-04    -  1.00e+00 1.00e+00f  1\n",
      "iter    objective    inf_pr   inf_du lg(mu)  ||d||  lg(rg) alpha_du alpha_pr  ls\n",
      "  20  2.2772875e+05 5.10e-12 2.84e-14  -8.6 5.98e-06    -  1.00e+00 1.00e+00f  1\n",
      "\n",
      "Number of Iterations....: 20\n",
      "\n",
      "                                   (scaled)                 (unscaled)\n",
      "Objective...............:   2.2772875351504557e+05    2.2772875351504557e+05\n",
      "Dual infeasibility......:   2.8421709430404007e-14    2.8421709430404007e-14\n",
      "Constraint violation....:   5.0996539057501955e-12    5.0996539057501955e-12\n",
      "Complementarity.........:   2.5059104768144362e-09    2.5059104768144362e-09\n",
      "Overall NLP error.......:   2.5059104768144362e-09    2.5059104768144362e-09\n",
      "\n",
      "\n",
      "Number of objective function evaluations             = 21\n",
      "Number of objective gradient evaluations             = 21\n",
      "Number of equality constraint evaluations            = 21\n",
      "Number of inequality constraint evaluations          = 21\n",
      "Number of equality constraint Jacobian evaluations   = 21\n",
      "Number of inequality constraint Jacobian evaluations = 21\n",
      "Number of Lagrangian Hessian evaluations             = 20\n",
      "Total CPU secs in IPOPT (w/o function evaluations)   =      0.048\n",
      "Total CPU secs in NLP function evaluations           =      0.012\n",
      "\n",
      "EXIT: Optimal Solution Found.\n"
     ]
    },
    {
     "data": {
      "text/plain": [
       ":Optimal"
      ]
     },
     "execution_count": 11,
     "metadata": {},
     "output_type": "execute_result"
    }
   ],
   "source": [
    "using JuMP\n",
    "using Gurobi\n",
    "\n",
    "# m = Model(solver=GurobiSolver(OutputFlag=false))\n",
    "m = Model()\n",
    "\n",
    "numLinks = 20\n",
    "numRoute = 236\n",
    "numOD = 72\n",
    "\n",
    "@defVar(m, linkFlow[1:numLinks])\n",
    "@defVar(m, pathFlow[1:numRoute])\n",
    "\n",
    "pathFlowSum = Dict()\n",
    "\n",
    "for i=1:numOD\n",
    "    pathFlowSum[i] = 0\n",
    "    for j=1:numRoute\n",
    "        if \"$(i)-$(j)\" in keys(odPairRoute)\n",
    "            pathFlowSum[i] += pathFlow[j]\n",
    "        end\n",
    "    end\n",
    "    @addConstraint(m, pathFlowSum[i] == demandsVec[i])\n",
    "end\n",
    "\n",
    "pathFlowLinkSum = Dict()\n",
    "\n",
    "for a=1:numLinks\n",
    "    pathFlowLinkSum[a] = 0\n",
    "    for j=1:numRoute\n",
    "        if \"$(a)-$(j)\" in keys(linkRoute)\n",
    "            pathFlowLinkSum[a] += pathFlow[j]\n",
    "        end\n",
    "    end\n",
    "    @addConstraint(m, pathFlowLinkSum[a] == linkFlow[a])\n",
    "end\n",
    "\n",
    "for j=1:numRoute\n",
    "    @addConstraint(m, pathFlow[j] >= 0)\n",
    "end\n",
    "\n",
    "@defNLExpr(f, sum{free_flow_time[a]*linkFlow[a] + .03*free_flow_time[a]*((linkFlow[a])^5)/((capacity[a])^4), a = 1:numLinks})\n",
    "\n",
    "@setNLObjective(m, Min, f)\n",
    "\n",
    "solve(m)"
   ]
  },
  {
   "cell_type": "code",
   "execution_count": 12,
   "metadata": {
    "collapsed": false
   },
   "outputs": [
    {
     "data": {
      "text/plain": [
       "20-element Array{Float64,1}:\n",
       " 1800.0\n",
       " 1400.0\n",
       " 1800.0\n",
       " 3100.0\n",
       " 1400.0\n",
       " 2200.0\n",
       " 2200.0\n",
       " 4400.0\n",
       " 4400.0\n",
       " 3900.0\n",
       " 2700.0\n",
       " 3100.0\n",
       " 3900.0\n",
       " 5200.0\n",
       " 3400.0\n",
       " 5200.0\n",
       " 3400.0\n",
       " 1400.0\n",
       " 2700.0\n",
       " 1400.0"
      ]
     },
     "execution_count": 12,
     "metadata": {},
     "output_type": "execute_result"
    }
   ],
   "source": [
    "getValue(linkFlow)"
   ]
  },
  {
   "cell_type": "code",
   "execution_count": 13,
   "metadata": {
    "collapsed": false
   },
   "outputs": [
    {
     "data": {
      "text/plain": [
       "227728.75351504557"
      ]
     },
     "execution_count": 13,
     "metadata": {},
     "output_type": "execute_result"
    }
   ],
   "source": [
    "getObjectiveValue(m)"
   ]
  },
  {
   "cell_type": "code",
   "execution_count": 14,
   "metadata": {
    "collapsed": false
   },
   "outputs": [
    {
     "name": "stdout",
     "output_type": "stream",
     "text": [
      "This is Ipopt version 3.12.1, running with linear solver mumps.\n",
      "NOTE: Other linear solvers might be more efficient (see Ipopt documentation).\n",
      "\n",
      "Number of nonzeros in equality constraint Jacobian...:     4520\n",
      "Number of nonzeros in inequality constraint Jacobian.:     1620\n",
      "Number of nonzeros in Lagrangian Hessian.............:       20\n",
      "\n",
      "Total number of variables............................:     1640\n",
      "                     variables with only lower bounds:        0\n",
      "                variables with lower and upper bounds:        0\n",
      "                     variables with only upper bounds:        0\n",
      "Total number of equality constraints.................:      668\n",
      "Total number of inequality constraints...............:     1620\n",
      "        inequality constraints with only lower bounds:     1620\n",
      "   inequality constraints with lower and upper bounds:        0\n",
      "        inequality constraints with only upper bounds:        0\n",
      "\n",
      "iter    objective    inf_pr   inf_du lg(mu)  ||d||  lg(rg) alpha_du alpha_pr  ls\n",
      "   0  0.0000000e+00 1.00e+03 1.00e+01  -1.0 0.00e+00    -  0.00e+00 0.00e+00   0\n",
      "   1  7.8276388e-03 1.00e+03 1.00e+01  -1.0 5.00e+02    -  1.98e-05 1.98e-05h  1\n",
      "   2  1.2380675e+01 1.00e+03 1.00e+01  -1.0 2.65e+03    -  1.99e-05 8.66e-05h  1\n",
      "   3  6.4750452e+01 1.00e+03 1.00e+01  -1.0 4.25e+03    -  7.83e-05 2.19e-04h  1\n",
      "   4  2.3709666e+02 9.99e+02 9.99e+00  -1.0 4.69e+03    -  2.18e-04 6.73e-04h  1\n",
      "   5  8.1476341e+02 9.97e+02 9.97e+00  -1.0 4.75e+03    -  6.80e-04 2.27e-03h  1\n",
      "   6  6.8275258e+03 9.72e+02 9.72e+00  -1.0 5.25e+03    -  1.69e-03 2.49e-02h  1\n",
      "   7  7.5310064e+03 9.68e+02 9.68e+00  -1.0 6.28e+03    -  7.37e-03 3.86e-03h  1\n",
      "   8  9.6720612e+03 9.58e+02 9.58e+00  -1.0 5.05e+03    -  6.00e-03 1.06e-02h  1\n",
      "   9  1.3403769e+04 9.41e+02 9.41e+00  -1.0 4.92e+03    -  1.31e-02 1.76e-02h  1\n",
      "iter    objective    inf_pr   inf_du lg(mu)  ||d||  lg(rg) alpha_du alpha_pr  ls\n",
      "  10  2.0272456e+04 9.11e+02 9.11e+00  -1.0 4.89e+03    -  3.62e-02 3.24e-02h  1\n",
      "  11  3.6404195e+04 8.39e+02 8.39e+00  -1.0 4.74e+03    -  1.08e-01 7.82e-02h  1\n",
      "  12  1.3913464e+05 3.87e+02 5.59e+00  -1.0 4.37e+03    -  9.16e-01 5.40e-01h  1\n",
      "  13  2.2787554e+05 2.18e-08 3.55e-01  -1.0 2.01e+03    -  7.44e-01 1.00e+00h  1\n",
      "  14  2.2776694e+05 2.31e-09 4.68e-02  -1.7 3.25e+00    -  1.00e+00 8.94e-01f  1\n",
      "  15  2.2773287e+05 7.15e-11 2.83e-08  -2.5 8.10e-01    -  1.00e+00 1.00e+00f  1\n",
      "  16  2.2772897e+05 1.01e-11 1.50e-09  -3.8 8.75e-02    -  1.00e+00 1.00e+00f  1\n",
      "  17  2.2772876e+05 6.95e-12 1.84e-11  -5.7 4.85e-03    -  1.00e+00 1.00e+00f  1\n",
      "  18  2.2772875e+05 4.61e-12 2.84e-14  -8.6 6.02e-05    -  1.00e+00 1.00e+00f  1\n",
      "\n",
      "Number of Iterations....: 18\n",
      "\n",
      "                                   (scaled)                 (unscaled)\n",
      "Objective...............:   2.2772875346819183e+05    2.2772875346819183e+05\n",
      "Dual infeasibility......:   2.8421709430404007e-14    2.8421709430404007e-14\n",
      "Constraint violation....:   4.6071137395671202e-12    4.6071137395671202e-12\n",
      "Complementarity.........:   2.7838149874491022e-09    2.7838149874491022e-09\n",
      "Overall NLP error.......:   2.7838149874491022e-09    2.7838149874491022e-09\n",
      "\n",
      "\n",
      "Number of objective function evaluations             = 19\n",
      "Number of objective gradient evaluations             = 19\n",
      "Number of equality constraint evaluations            = 19\n",
      "Number of inequality constraint evaluations          = 19\n",
      "Number of equality constraint Jacobian evaluations   = 19\n",
      "Number of inequality constraint Jacobian evaluations = 19\n",
      "Number of Lagrangian Hessian evaluations             = 18\n",
      "Total CPU secs in IPOPT (w/o function evaluations)   =      0.264\n",
      "Total CPU secs in NLP function evaluations           =      0.000\n",
      "\n",
      "EXIT: Optimal Solution Found.\n"
     ]
    },
    {
     "data": {
      "text/plain": [
       ":Optimal"
      ]
     },
     "execution_count": 14,
     "metadata": {},
     "output_type": "execute_result"
    }
   ],
   "source": [
    "using JuMP\n",
    "using Gurobi\n",
    "\n",
    "# m = Model(solver=GurobiSolver(OutputFlag=false))\n",
    "m = Model()\n",
    "\n",
    "numNodes = 9  # number of nodes\n",
    "\n",
    "@defVar(m, linkFlow[1:numLinks])\n",
    "\n",
    "@defVar(m, odLinkFlow[keys(demands), 1:numLinks])\n",
    "for (s,t) = keys(demands)\n",
    "    for k = 1:numLinks\n",
    "        @addConstraint(m, odLinkFlow[(s,t), k] >= 0)\n",
    "    end\n",
    "end\n",
    "\n",
    "for k = 1:numLinks\n",
    "    linkFlowPartial = sum([odLinkFlow[(s,t), k] for (s,t) = keys(demands)])\n",
    "    @addConstraint(m, linkFlowPartial == linkFlow[k])\n",
    "end\n",
    "\n",
    "for l = 1:numNodes\n",
    "    for (s,t) = keys(demands)\n",
    "        if s != t\n",
    "            odLinkFlowPartial = sum([nodeLink[\"$(l-1)-$(k-1)\"] * odLinkFlow[(s,t), k] for k = 1:numLinks])\n",
    "            if (l == s)\n",
    "                @addConstraint(m, odLinkFlowPartial + demands[(s,t)] == 0)\n",
    "            elseif (l == t)\n",
    "                @addConstraint(m, odLinkFlowPartial - demands[(s,t)] == 0)\n",
    "            else\n",
    "                @addConstraint(m, odLinkFlowPartial == 0)\n",
    "            end\n",
    "        end\n",
    "    end\n",
    "end\n",
    "\n",
    "@defNLExpr(f, sum{free_flow_time[a]*linkFlow[a] + .03*free_flow_time[a]*((linkFlow[a])^5)/((capacity[a])^4), a = 1:numLinks})\n",
    "\n",
    "@setNLObjective(m, Min, f)\n",
    "\n",
    "solve(m)"
   ]
  },
  {
   "cell_type": "code",
   "execution_count": 15,
   "metadata": {
    "collapsed": false
   },
   "outputs": [
    {
     "data": {
      "text/plain": [
       "20-element Array{Float64,1}:\n",
       " 1800.0\n",
       " 1400.0\n",
       " 1800.0\n",
       " 3100.0\n",
       " 1400.0\n",
       " 2200.0\n",
       " 2200.0\n",
       " 4400.0\n",
       " 4400.0\n",
       " 3900.0\n",
       " 2700.0\n",
       " 3100.0\n",
       " 3900.0\n",
       " 5200.0\n",
       " 3400.0\n",
       " 5200.0\n",
       " 3400.0\n",
       " 1400.0\n",
       " 2700.0\n",
       " 1400.0"
      ]
     },
     "execution_count": 15,
     "metadata": {},
     "output_type": "execute_result"
    }
   ],
   "source": [
    "getValue(linkFlow)"
   ]
  },
  {
   "cell_type": "code",
   "execution_count": 16,
   "metadata": {
    "collapsed": false
   },
   "outputs": [
    {
     "data": {
      "text/plain": [
       "227728.75346819183"
      ]
     },
     "execution_count": 16,
     "metadata": {},
     "output_type": "execute_result"
    }
   ],
   "source": [
    "getObjectiveValue(m)"
   ]
  },
  {
   "cell_type": "code",
   "execution_count": null,
   "metadata": {
    "collapsed": true
   },
   "outputs": [],
   "source": [
    "1800.0\n",
    " 1400.0\n",
    " 1800.0\n",
    " 3100.0\n",
    " 1400.0\n",
    " 2200.0\n",
    " 2200.0\n",
    " 4400.0\n",
    " 4400.0\n",
    " 3900.0\n",
    " 2700.0\n",
    " 3100.0\n",
    " 3900.0\n",
    " 5200.0\n",
    " 3400.0\n",
    " 5200.0\n",
    " 3400.0\n",
    " 1400.0\n",
    " 2700.0\n",
    " 1400.0\n",
    "\n",
    "227728.75351504557"
   ]
  }
 ],
 "metadata": {
  "kernelspec": {
   "display_name": "Julia 0.3.7",
   "language": "julia",
   "name": "julia-0.3"
  },
  "language_info": {
   "file_extension": ".jl",
   "mimetype": "application/julia",
   "name": "julia",
   "version": "0.3.7"
  }
 },
 "nbformat": 4,
 "nbformat_minor": 0
}
