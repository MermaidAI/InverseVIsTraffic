{
 "cells": [
  {
   "cell_type": "code",
   "execution_count": 1,
   "metadata": {
    "collapsed": true
   },
   "outputs": [],
   "source": [
    "using JSON\n",
    "\n",
    "#load OD pair-route incidence\n",
    "odPairRoute = readall(\"od_pair_route_incidence_Sioux_simp.json\");\n",
    "odPairRoute = JSON.parse(odPairRoute);\n",
    "\n",
    "#load link-route incidence\n",
    "linkRoute = readall(\"link_route_incidence_Sioux_simp.json\");\n",
    "linkRoute = JSON.parse(linkRoute);\n",
    "\n",
    "#load OD pair labels\n",
    "odPairLabel = readall(\"od_pair_label_dict_Sioux_simp_refined.json\");\n",
    "odPairLabel = JSON.parse(odPairLabel);\n",
    "\n",
    "odPairLabel_ = readall(\"od_pair_label_dict__Sioux_simp_refined.json\");\n",
    "odPairLabel_ = JSON.parse(odPairLabel_);\n",
    "\n",
    "#load link labels\n",
    "linkLabel = readall(\"link_label_dict_Sioux_simp.json\");\n",
    "linkLabel = JSON.parse(linkLabel);\n",
    "\n",
    "linkLabel_ = readall(\"link_label_dict_Sioux_simp_.json\");\n",
    "linkLabel_ = JSON.parse(linkLabel_);\n",
    "\n",
    "#load node-link incidence\n",
    "nodeLink = readall(\"node_link_incidence_Sioux_simp.json\");\n",
    "nodeLink = JSON.parse(nodeLink);"
   ]
  },
  {
   "cell_type": "code",
   "execution_count": 2,
   "metadata": {
    "collapsed": false
   },
   "outputs": [
    {
     "data": {
      "text/plain": [
       "load_ta_network (generic function with 2 methods)"
      ]
     },
     "execution_count": 2,
     "metadata": {},
     "output_type": "execute_result"
    }
   ],
   "source": [
    "include(\"load_network_uni-class.jl\")"
   ]
  },
  {
   "cell_type": "code",
   "execution_count": 3,
   "metadata": {
    "collapsed": false
   },
   "outputs": [],
   "source": [
    "ta_data = load_ta_network(\"Sioux_simp\");"
   ]
  },
  {
   "cell_type": "code",
   "execution_count": 4,
   "metadata": {
    "collapsed": false
   },
   "outputs": [],
   "source": [
    "capacity = ta_data.capacity;\n",
    "free_flow_time = ta_data.free_flow_time;"
   ]
  },
  {
   "cell_type": "code",
   "execution_count": 5,
   "metadata": {
    "collapsed": false
   },
   "outputs": [],
   "source": [
    "############\n",
    "#Read in the demand file\n",
    "file = open(\"../data_traffic_assignment_uni-class/SiouxFalls_trips_simp.txt\")\n",
    "demands = Dict{(Int64,Int64), Float64}()\n",
    "s = 0\n",
    "for line in eachline(file)\n",
    "    if contains(line, \"Origin\")\n",
    "        s = int(split(line)[2])\n",
    "    else\n",
    "        pairs = split(line, \";\")\n",
    "        for pair in pairs\n",
    "            if !contains(pair, \"\\n\")\n",
    "                pair_vals = split(pair, \":\")\n",
    "                t, demand = int(pair_vals[1]), float(pair_vals[2])\n",
    "                demands[(s,t)] = demand \n",
    "            end\n",
    "        end\n",
    "    end\n",
    "end                \n",
    "close(file)"
   ]
  },
  {
   "cell_type": "code",
   "execution_count": 6,
   "metadata": {
    "collapsed": false
   },
   "outputs": [
    {
     "data": {
      "text/plain": [
       "Dict{(Int64,Int64),Float64} with 121 entries:\n",
       "  (8,10)  => 1600.0\n",
       "  (9,5)   => 800.0\n",
       "  (3,6)   => 300.0\n",
       "  (10,5)  => 1000.0\n",
       "  (6,9)   => 400.0\n",
       "  (4,4)   => 0.0\n",
       "  (9,4)   => 700.0\n",
       "  (10,11) => 4000.0\n",
       "  (8,9)   => 800.0\n",
       "  (9,1)   => 500.0\n",
       "  (11,1)  => 500.0\n",
       "  (8,11)  => 800.0\n",
       "  (3,1)   => 100.0\n",
       "  (1,10)  => 1300.0\n",
       "  (4,5)   => 500.0\n",
       "  (9,9)   => 0.0\n",
       "  (11,8)  => 800.0\n",
       "  (2,4)   => 200.0\n",
       "  (6,5)   => 200.0\n",
       "  (4,9)   => 700.0\n",
       "  (8,4)   => 700.0\n",
       "  (1,2)   => 100.0\n",
       "  (9,2)   => 200.0\n",
       "  (5,1)   => 200.0\n",
       "  (6,11)  => 400.0\n",
       "  ⋮       => ⋮"
      ]
     },
     "execution_count": 6,
     "metadata": {},
     "output_type": "execute_result"
    }
   ],
   "source": [
    "demands"
   ]
  },
  {
   "cell_type": "code",
   "execution_count": 7,
   "metadata": {
    "collapsed": false
   },
   "outputs": [
    {
     "data": {
      "text/plain": [
       "Dict{String,Any} with 110 entries:\n",
       "  \"109\" => {11,9}\n",
       "  \"29\"  => {3,10}\n",
       "  \"81\"  => {9,1}\n",
       "  \"54\"  => {6,4}\n",
       "  \"32\"  => {4,2}\n",
       "  \"101\" => {11,1}\n",
       "  \"30\"  => {3,11}\n",
       "  \"2\"   => {1,3}\n",
       "  \"1\"   => {1,2}\n",
       "  \"78\"  => {8,9}\n",
       "  \"74\"  => {8,4}\n",
       "  \"41\"  => {5,1}\n",
       "  \"65\"  => {7,5}\n",
       "  \"51\"  => {6,1}\n",
       "  \"53\"  => {6,3}\n",
       "  \"106\" => {11,6}\n",
       "  \"27\"  => {3,8}\n",
       "  \"75\"  => {8,5}\n",
       "  \"42\"  => {5,2}\n",
       "  \"33\"  => {4,3}\n",
       "  \"28\"  => {3,9}\n",
       "  \"50\"  => {5,11}\n",
       "  \"52\"  => {6,2}\n",
       "  \"63\"  => {7,3}\n",
       "  \"92\"  => {10,2}\n",
       "  ⋮     => ⋮"
      ]
     },
     "execution_count": 7,
     "metadata": {},
     "output_type": "execute_result"
    }
   ],
   "source": [
    "odPairLabel_"
   ]
  },
  {
   "cell_type": "code",
   "execution_count": 8,
   "metadata": {
    "collapsed": false
   },
   "outputs": [],
   "source": [
    "demandsVec = zeros(length(odPairLabel_))\n",
    "\n",
    "for i = 1:length(demandsVec)\n",
    "    demandsVec[i] = demands[(odPairLabel_[\"$i\"][1], odPairLabel_[\"$i\"][2])]\n",
    "end"
   ]
  },
  {
   "cell_type": "code",
   "execution_count": 9,
   "metadata": {
    "collapsed": false
   },
   "outputs": [
    {
     "data": {
      "text/plain": [
       "110-element Array{Float64,1}:\n",
       "  100.0\n",
       "  100.0\n",
       "  500.0\n",
       "  200.0\n",
       "  300.0\n",
       "  500.0\n",
       "  800.0\n",
       "  500.0\n",
       " 1300.0\n",
       "  500.0\n",
       "  100.0\n",
       "  100.0\n",
       "  200.0\n",
       "    ⋮  \n",
       " 2800.0\n",
       " 4000.0\n",
       "  500.0\n",
       "  200.0\n",
       "  300.0\n",
       " 1500.0\n",
       "  500.0\n",
       "  400.0\n",
       "  500.0\n",
       "  800.0\n",
       " 1400.0\n",
       " 3900.0"
      ]
     },
     "execution_count": 9,
     "metadata": {},
     "output_type": "execute_result"
    }
   ],
   "source": [
    "demandsVec"
   ]
  },
  {
   "cell_type": "code",
   "execution_count": 10,
   "metadata": {
    "collapsed": false
   },
   "outputs": [
    {
     "name": "stdout",
     "output_type": "stream",
     "text": [
      "110-618\n",
      "110-620\n",
      "110-621\n",
      "110-619\n",
      "110-622\n"
     ]
    }
   ],
   "source": [
    "for key=keys(odPairRoute)\n",
    "    if contains(key, \"110-\")\n",
    "        println(key)\n",
    "    end\n",
    "end"
   ]
  },
  {
   "cell_type": "code",
   "execution_count": 11,
   "metadata": {
    "collapsed": false
   },
   "outputs": [
    {
     "name": "stdout",
     "output_type": "stream",
     "text": [
      "\n",
      "******************************************************************************\n",
      "This program contains Ipopt, a library for large-scale nonlinear optimization.\n",
      " Ipopt is released as open source code under the Eclipse Public License (EPL).\n",
      "         For more information visit http://projects.coin-or.org/Ipopt\n",
      "******************************************************************************\n",
      "\n",
      "This is Ipopt version 3.12.1, running with linear solver mumps.\n",
      "NOTE: Other linear solvers might be more efficient (see Ipopt documentation).\n",
      "\n",
      "Number of nonzeros in equality constraint Jacobian...:     3998\n",
      "Number of nonzeros in inequality constraint Jacobian.:      622\n",
      "Number of nonzeros in Lagrangian Hessian.............:       26\n",
      "\n",
      "Total number of variables............................:      648\n",
      "                     variables with only lower bounds:        0\n",
      "                variables with lower and upper bounds:        0\n",
      "                     variables with only upper bounds:        0\n",
      "Total number of equality constraints.................:      136\n",
      "Total number of inequality constraints...............:      622\n",
      "        inequality constraints with only lower bounds:      622\n",
      "   inequality constraints with lower and upper bounds:        0\n",
      "        inequality constraints with only upper bounds:        0\n",
      "\n",
      "iter    objective    inf_pr   inf_du lg(mu)  ||d||  lg(rg) alpha_du alpha_pr  ls\n",
      "   0  0.0000000e+00 4.00e+03 9.69e+00  -1.0 0.00e+00    -  0.00e+00 0.00e+00   0\n",
      "   1  4.1248067e+06 2.66e-11 1.00e+05  -1.0 1.75e+04    -  9.90e-06 1.00e+00h  1\n",
      "   2  3.7605411e+06 1.72e-11 9.21e+04  -1.0 3.78e+04    -  5.64e-02 7.91e-02f  1\n",
      "   3  3.5450503e+06 2.23e-11 8.76e+04  -1.0 4.09e+04    -  4.25e-02 4.91e-02f  1\n",
      "   4  3.2532332e+06 2.36e-11 8.09e+04  -1.0 2.95e+04    -  8.68e-02 7.64e-02f  1\n",
      "   5  2.8634525e+06 1.74e-11 7.11e+04  -1.0 1.66e+04    -  1.04e-01 1.20e-01f  1\n",
      "   6  2.4800078e+06 1.52e-11 6.11e+04  -1.0 1.35e+04    -  1.50e-01 1.41e-01f  1\n",
      "   7  2.0873934e+06 1.40e-11 5.05e+04  -1.0 1.80e+04    -  2.01e-01 1.74e-01f  1\n",
      "   8  1.8468086e+06 1.66e-11 4.45e+04  -1.0 3.06e+04    -  1.17e-01 1.18e-01f  1\n",
      "   9  1.6901790e+06 1.07e-11 4.04e+04  -1.0 1.57e+04    -  1.94e-01 9.38e-02f  1\n",
      "iter    objective    inf_pr   inf_du lg(mu)  ||d||  lg(rg) alpha_du alpha_pr  ls\n",
      "  10  1.5330814e+06 1.16e-11 3.57e+04  -1.0 5.04e+03    -  1.17e-01 1.15e-01f  1\n",
      "  11  1.4472308e+06 1.30e-11 3.31e+04  -1.0 4.89e+03    -  1.54e-01 7.23e-02f  1\n",
      "  12  1.3351128e+06 6.37e-12 2.98e+04  -1.0 5.50e+03    -  6.77e-03 1.02e-01f  1\n",
      "  13  1.3044975e+06 6.60e-12 2.89e+04  -1.0 6.11e+03    -  4.37e-02 2.90e-02f  1\n",
      "  14  1.3028782e+06 8.64e-12 2.89e+04  -1.0 6.21e+03    -  1.83e-02 1.55e-03f  1\n",
      "  15  1.2847537e+06 1.40e-11 2.83e+04  -1.0 6.19e+03    -  4.07e-02 1.75e-02f  1\n",
      "  16  1.2695044e+06 9.29e-12 2.79e+04  -1.0 6.23e+03    -  4.15e-02 1.51e-02f  1\n",
      "  17  1.2515077e+06 1.40e-11 2.74e+04  -1.0 6.30e+03    -  4.75e-03 1.80e-02f  1\n",
      "  18  1.2493775e+06 1.27e-11 2.74e+04  -1.0 6.28e+03    -  4.34e-02 2.17e-03f  1\n",
      "  19  1.2224839e+06 1.19e-11 2.66e+04  -1.0 6.09e+03    -  3.46e-02 2.84e-02f  1\n",
      "iter    objective    inf_pr   inf_du lg(mu)  ||d||  lg(rg) alpha_du alpha_pr  ls\n",
      "  20  1.2118086e+06 1.20e-11 2.63e+04  -1.0 5.50e+03    -  2.63e-02 1.20e-02f  1\n",
      "  21  1.2005330e+06 1.54e-11 2.59e+04  -1.0 5.83e+03    -  6.22e-03 1.28e-02f  1\n",
      "  22  1.1994740e+06 1.42e-11 2.59e+04  -1.0 4.48e+03    -  1.72e-01 1.27e-03f  1\n",
      "  23  1.1243706e+06 1.56e-11 2.32e+04  -1.0 3.98e+03    -  1.81e-03 1.02e-01f  1\n",
      "  24  1.1133785e+06 1.15e-11 2.29e+04  -1.0 4.40e+03    -  1.00e-02 1.59e-02f  1\n",
      "  25  1.1128266e+06 8.64e-12 2.29e+04  -1.0 3.82e+03    -  1.13e-02 8.52e-04f  1\n",
      "  26  1.0982589e+06 1.06e-11 2.24e+04  -1.0 4.36e+03    -  3.15e-03 2.19e-02f  1\n",
      "  27  1.0979120e+06 1.03e-11 2.23e+04  -1.0 3.76e+03    -  9.10e-02 5.59e-04f  1\n",
      "  28  1.0495579e+06 9.05e-12 2.05e+04  -1.0 3.71e+03    -  1.42e-03 8.34e-02f  1\n",
      "  29  1.0444653e+06 7.48e-12 2.03e+04  -1.0 4.78e+03    -  2.08e-02 8.78e-03f  1\n",
      "iter    objective    inf_pr   inf_du lg(mu)  ||d||  lg(rg) alpha_du alpha_pr  ls\n",
      "  30  1.0434510e+06 1.50e-11 2.03e+04  -1.0 4.08e+03    -  9.40e-03 1.85e-03f  1\n",
      "  31  1.0321454e+06 1.04e-11 1.99e+04  -1.0 4.87e+03    -  5.29e-03 1.99e-02f  1\n",
      "  32  1.0318644e+06 1.00e-11 1.99e+04  -1.0 3.95e+03    -  1.70e-02 5.31e-04f  1\n",
      "  33  1.0218209e+06 1.34e-11 1.95e+04  -1.0 4.53e+03    -  1.09e-03 1.90e-02f  1\n",
      "  34  1.0134626e+06 1.27e-11 1.92e+04  -1.0 4.75e+03    -  8.67e-02 1.60e-02f  1\n",
      "  35  1.0112438e+06 1.07e-11 1.91e+04  -1.0 3.84e+03    -  1.38e-03 4.55e-03f  1\n",
      "  36  9.9592493e+05 1.18e-11 1.85e+04  -1.0 4.88e+03    -  1.30e-03 3.03e-02f  1\n",
      "  37  9.9542266e+05 9.44e-12 1.85e+04  -1.0 4.80e+03    -  6.16e-02 1.15e-03f  1\n",
      "  38  9.7086901e+05 1.36e-11 1.75e+04  -1.0 5.54e+03    -  1.71e-03 5.54e-02f  1\n",
      "  39  9.5036762e+05 8.46e-12 1.67e+04  -1.0 5.63e+03    -  1.27e-02 4.37e-02f  1\n",
      "iter    objective    inf_pr   inf_du lg(mu)  ||d||  lg(rg) alpha_du alpha_pr  ls\n",
      "  40  9.4855326e+05 1.15e-11 1.66e+04  -1.0 6.16e+03    -  8.51e-03 3.35e-03f  1\n",
      "  41  9.3467943e+05 1.06e-11 1.62e+04  -1.0 6.19e+03    -  1.53e-02 2.59e-02f  1\n",
      "  42  9.3187362e+05 7.86e-12 1.61e+04  -1.0 6.20e+03    -  1.15e-02 5.34e-03f  1\n",
      "  43  9.3044594e+05 1.32e-11 1.61e+04  -1.0 6.05e+03    -  3.55e-02 2.92e-03f  1\n",
      "  44  9.2316922e+05 1.28e-11 1.58e+04  -1.0 6.10e+03    -  4.97e-02 1.71e-02f  1\n",
      "  45  9.0259796e+05 7.97e-12 1.50e+04  -1.0 6.41e+03    -  3.83e-02 4.87e-02f  1\n",
      "  46  9.0162627e+05 1.13e-11 1.50e+04  -1.0 6.72e+03    -  1.98e-02 2.41e-03f  1\n",
      "  47  8.9660588e+05 6.48e-12 1.48e+04  -1.0 6.82e+03    -  1.59e-03 1.25e-02f  1\n",
      "  48  8.7347224e+05 1.18e-11 1.39e+04  -1.0 6.89e+03    -  4.55e-02 5.89e-02f  1\n",
      "  49  8.4774204e+05 6.05e-12 1.30e+04  -1.0 7.01e+03    -  7.35e-02 6.90e-02f  1\n",
      "iter    objective    inf_pr   inf_du lg(mu)  ||d||  lg(rg) alpha_du alpha_pr  ls\n",
      "  50  8.4483676e+05 9.57e-12 1.29e+04  -1.0 7.69e+03    -  7.75e-03 8.31e-03f  1\n",
      "  51  8.4445132e+05 9.98e-12 1.29e+04  -1.0 8.71e+03    -  4.77e-03 1.01e-03f  1\n",
      "  52  8.4434319e+05 1.05e-11 1.28e+04  -1.0 5.64e+03    -  2.25e-03 3.71e-04f  1\n",
      "  53  8.4401139e+05 1.13e-11 1.28e+04  -1.0 5.31e+03    -  3.55e-02 1.30e-03f  1\n",
      "  54  8.4141891e+05 6.01e-12 1.26e+04  -1.0 4.98e+03    -  5.23e-03 1.48e-02f  1\n",
      "  55  8.3698494e+05 8.64e-12 1.23e+04  -1.0 5.19e+03    -  4.01e-02 2.62e-02f  1\n",
      "  56  8.2269179e+05 5.13e-12 1.14e+04  -1.0 6.31e+03    -  1.52e-02 7.69e-02f  1\n",
      "  57  7.9873426e+05 6.45e-12 1.04e+04  -1.0 1.04e+04    -  9.58e-03 8.39e-02f  1\n",
      "  58  7.9651302e+05 6.37e-12 1.03e+04  -1.0 1.17e+04    -  8.73e-03 6.56e-03f  1\n",
      "  59  7.8300061e+05 1.12e-11 9.93e+03  -1.0 1.18e+04    -  2.94e-02 3.94e-02f  1\n",
      "iter    objective    inf_pr   inf_du lg(mu)  ||d||  lg(rg) alpha_du alpha_pr  ls\n",
      "  60  7.7958763e+05 6.90e-12 9.84e+03  -1.0 1.21e+04    -  5.92e-02 9.40e-03f  1\n",
      "  61  7.7820765e+05 9.46e-12 9.79e+03  -1.0 1.09e+04    -  2.01e-02 5.23e-03f  1\n",
      "  62  7.7188250e+05 5.22e-12 9.55e+03  -1.0 1.10e+04    -  8.75e-02 2.45e-02f  1\n",
      "  63  7.5465311e+05 6.88e-12 8.89e+03  -1.0 1.14e+04    -  1.07e-02 6.89e-02f  1\n",
      "  64  7.5298976e+05 7.28e-12 8.83e+03  -1.0 1.10e+04    -  6.48e-02 7.08e-03f  1\n",
      "  65  7.5248352e+05 7.52e-12 8.80e+03  -1.0 4.59e+03    -  2.99e-02 3.59e-03f  1\n",
      "  66  7.4911484e+05 6.47e-12 8.56e+03  -1.0 4.42e+03    -  7.04e-03 2.63e-02f  1\n",
      "  67  7.4718555e+05 7.76e-12 8.41e+03  -1.0 3.52e+03    -  1.76e-02 1.75e-02f  1\n",
      "  68  7.4481832e+05 1.19e-11 8.25e+03  -1.0 3.27e+03    -  1.79e-02 1.91e-02f  1\n",
      "  69  7.4286736e+05 4.62e-12 8.11e+03  -1.0 3.23e+03    -  2.57e-02 1.76e-02f  1\n",
      "iter    objective    inf_pr   inf_du lg(mu)  ||d||  lg(rg) alpha_du alpha_pr  ls\n",
      "  70  7.3183675e+05 7.73e-12 7.36e+03  -1.0 3.23e+03    -  2.63e-02 9.18e-02f  1\n",
      "  71  7.1794025e+05 3.77e-12 6.40e+03  -1.0 3.25e+03    -  3.81e-02 1.30e-01f  1\n",
      "  72  7.0930226e+05 5.24e-12 6.00e+03  -1.0 4.74e+03    -  1.31e-03 6.29e-02f  1\n",
      "  73  7.0853131e+05 5.57e-12 5.97e+03  -1.0 7.10e+03    -  4.76e-02 5.00e-03f  1\n",
      "  74  7.0290426e+05 8.41e-12 5.75e+03  -1.0 7.13e+03    -  1.02e-01 3.72e-02f  1\n",
      "  75  7.0086375e+05 1.05e-11 5.67e+03  -1.0 9.41e+03    -  2.70e-03 1.35e-02f  1\n",
      "  76  7.0061504e+05 7.04e-12 5.66e+03  -1.0 6.65e+03    -  1.95e-02 1.73e-03f  1\n",
      "  77  6.9806511e+05 6.59e-12 5.57e+03  -1.0 5.16e+03    -  5.63e-04 1.51e-02f  1\n",
      "  78  6.9725067e+05 1.30e-11 5.54e+03  -1.0 6.81e+03    -  4.85e-02 5.45e-03f  1\n",
      "  79  6.9487810e+05 6.82e-12 5.45e+03  -1.0 6.84e+03    -  2.67e-02 1.70e-02f  1\n",
      "iter    objective    inf_pr   inf_du lg(mu)  ||d||  lg(rg) alpha_du alpha_pr  ls\n",
      "  80  6.9394192e+05 1.00e-11 5.41e+03  -1.0 7.01e+03    -  8.98e-02 8.22e-03f  1\n",
      "  81  6.9127045e+05 8.64e-12 5.27e+03  -1.0 7.09e+03    -  1.62e-03 2.54e-02f  1\n",
      "  82  6.9058084e+05 9.09e-12 5.22e+03  -1.0 7.36e+03    -  6.18e-02 8.17e-03f  1\n",
      "  83  6.8859141e+05 7.73e-12 5.10e+03  -1.0 7.18e+03    -  2.03e-01 2.47e-02f  1\n",
      "  84  6.8725094e+05 6.98e-12 4.97e+03  -1.0 3.93e+03    -  5.06e-02 2.57e-02f  1\n",
      "  85  6.8619156e+05 9.78e-12 4.77e+03  -1.0 2.85e+03    -  1.67e-03 3.87e-02f  1\n",
      "  86  6.8095192e+05 6.70e-12 3.85e+03  -1.0 3.45e+03    -  8.06e-02 1.93e-01f  1\n",
      "  87  6.7473925e+05 7.73e-12 3.03e+03  -1.0 3.14e+03    -  6.39e-03 2.12e-01f  1\n",
      "  88  6.6958934e+05 6.85e-12 2.33e+03  -1.0 3.09e+03    -  3.58e-01 2.31e-01f  1\n",
      "  89  6.6928394e+05 5.46e-12 2.29e+03  -1.0 2.72e+03    -  3.82e-01 1.82e-02f  1\n",
      "iter    objective    inf_pr   inf_du lg(mu)  ||d||  lg(rg) alpha_du alpha_pr  ls\n",
      "  90  6.6741045e+05 4.91e-12 1.99e+03  -1.0 2.67e+03    -  6.78e-01 1.32e-01f  1\n",
      "  91  6.6695506e+05 4.69e-12 1.90e+03  -1.0 1.90e+03    -  2.10e-01 4.18e-02f  1\n",
      "  92  6.6342146e+05 3.99e-12 1.11e+03  -1.0 1.82e+03    -  2.85e-01 4.17e-01f  1\n",
      "  93  6.6202747e+05 4.70e-12 8.03e+02  -1.0 1.59e+03    -  9.85e-01 2.78e-01f  1\n",
      "  94  6.6187557e+05 1.14e-11 7.68e+02  -1.0 1.41e+03    -  5.60e-01 4.25e-02f  1\n",
      "  95  6.6174451e+05 7.97e-12 7.22e+02  -1.0 1.37e+03    -  1.00e+00 6.02e-02f  1\n",
      "  96  6.6141941e+05 9.09e-12 5.88e+02  -1.0 1.26e+03    -  1.00e+00 1.85e-01f  1\n",
      "  97  6.6140530e+05 5.23e-12 5.35e+02  -1.0 4.13e+01    -  1.00e+00 9.08e-02f  1\n",
      "  98  6.6130510e+05 5.91e-12 4.24e-04  -1.0 3.87e+01    -  1.00e+00 1.00e+00f  1\n",
      "  99  6.6125560e+05 6.82e-12 1.16e-05  -2.5 6.36e+00    -  1.00e+00 1.00e+00f  1\n",
      "iter    objective    inf_pr   inf_du lg(mu)  ||d||  lg(rg) alpha_du alpha_pr  ls\n",
      " 100  6.6125554e+05 9.69e-12 2.71e-06  -2.5 2.95e+00    -  1.00e+00 1.00e+00f  1\n",
      " 101  6.6125417e+05 6.35e-12 8.95e-07  -3.8 1.70e+00    -  1.00e+00 1.00e+00f  1\n",
      " 102  6.6125416e+05 1.33e-11 2.08e-07  -3.8 8.17e-01    -  1.00e+00 1.00e+00f  1\n",
      " 103  6.6125409e+05 1.62e-11 6.18e-08  -5.7 4.46e-01    -  1.00e+00 1.00e+00f  1\n",
      " 104  6.6125408e+05 1.48e-11 1.28e-08  -5.7 2.03e-01    -  1.00e+00 1.00e+00f  1\n",
      " 105  6.6125408e+05 1.23e-11 1.60e-09  -5.7 7.16e-02    -  1.00e+00 1.00e+00f  1\n",
      " 106  6.6125408e+05 2.52e-11 8.65e-11  -8.6 1.67e-02    -  1.00e+00 1.00e+00f  1\n",
      " 107  6.6125408e+05 1.21e-11 1.52e-13  -8.6 6.99e-04    -  1.00e+00 1.00e+00h  1\n",
      "\n",
      "Number of Iterations....: 107\n",
      "\n",
      "                                   (scaled)                 (unscaled)\n",
      "Objective...............:   6.6125408366409561e+05    6.6125408366409561e+05\n",
      "Dual infeasibility......:   1.5187850976872141e-13    1.5187850976872141e-13\n",
      "Constraint violation....:   1.2141302346250578e-11    1.2141302346250578e-11\n",
      "Complementarity.........:   2.9549258601407043e-09    2.9549258601407043e-09\n",
      "Overall NLP error.......:   2.9549258601407043e-09    2.9549258601407043e-09\n",
      "\n",
      "\n",
      "Number of objective function evaluations             = 108\n",
      "Number of objective gradient evaluations             = 108\n",
      "Number of equality constraint evaluations            = 108\n",
      "Number of inequality constraint evaluations          = 108\n",
      "Number of equality constraint Jacobian evaluations   = 108\n",
      "Number of inequality constraint Jacobian evaluations = 108\n",
      "Number of Lagrangian Hessian evaluations             = 107\n",
      "Total CPU secs in IPOPT (w/o function evaluations)   =      0.236\n",
      "Total CPU secs in NLP function evaluations           =      0.008\n",
      "\n",
      "EXIT: Optimal Solution Found.\n"
     ]
    },
    {
     "data": {
      "text/plain": [
       ":Optimal"
      ]
     },
     "execution_count": 11,
     "metadata": {},
     "output_type": "execute_result"
    }
   ],
   "source": [
    "using JuMP\n",
    "using Gurobi\n",
    "\n",
    "# m = Model(solver=GurobiSolver(OutputFlag=false))\n",
    "m = Model()\n",
    "\n",
    "numLinks = 26\n",
    "numRoute = 622\n",
    "numOD = 110\n",
    "\n",
    "@defVar(m, linkFlow[1:numLinks])\n",
    "@defVar(m, pathFlow[1:numRoute])\n",
    "\n",
    "pathFlowSum = Dict()\n",
    "\n",
    "for i=1:numOD\n",
    "    pathFlowSum[i] = 0\n",
    "    for j=1:numRoute\n",
    "        if \"$(i)-$(j)\" in keys(odPairRoute)\n",
    "            pathFlowSum[i] += pathFlow[j]\n",
    "        end\n",
    "    end\n",
    "    @addConstraint(m, pathFlowSum[i] == demandsVec[i])\n",
    "end\n",
    "\n",
    "pathFlowLinkSum = Dict()\n",
    "\n",
    "for a=1:numLinks\n",
    "    pathFlowLinkSum[a] = 0\n",
    "    for j=1:numRoute\n",
    "        if \"$(a)-$(j)\" in keys(linkRoute)\n",
    "            pathFlowLinkSum[a] += pathFlow[j]\n",
    "        end\n",
    "    end\n",
    "    @addConstraint(m, pathFlowLinkSum[a] == linkFlow[a])\n",
    "end\n",
    "\n",
    "for j=1:numRoute\n",
    "    @addConstraint(m, pathFlow[j] >= 0)\n",
    "end\n",
    "\n",
    "@defNLExpr(f, sum{free_flow_time[a]*linkFlow[a] + .03*free_flow_time[a]*((linkFlow[a])^5)/((capacity[a])^4), a = 1:numLinks})\n",
    "\n",
    "@setNLObjective(m, Min, f)\n",
    "\n",
    "solve(m)"
   ]
  },
  {
   "cell_type": "code",
   "execution_count": 12,
   "metadata": {
    "collapsed": false
   },
   "outputs": [
    {
     "data": {
      "text/plain": [
       "26-element Array{Float64,1}:\n",
       "  1800.0\n",
       "  3200.0\n",
       "  1800.0\n",
       "  3900.0\n",
       "  3200.0\n",
       "  4600.0\n",
       "  4600.0\n",
       "  9600.0\n",
       "  4600.0\n",
       "  9600.0\n",
       "  7200.0\n",
       "  7900.0\n",
       "  3900.0\n",
       "  7200.0\n",
       "  6500.0\n",
       "  5800.0\n",
       "  6500.0\n",
       "  5800.0\n",
       "  4900.0\n",
       "  7900.0\n",
       "  4900.0\n",
       " 12900.0\n",
       " 12900.0\n",
       "  5400.0\n",
       "  4700.0\n",
       "  5300.0"
      ]
     },
     "execution_count": 12,
     "metadata": {},
     "output_type": "execute_result"
    }
   ],
   "source": [
    "getValue(linkFlow)"
   ]
  },
  {
   "cell_type": "code",
   "execution_count": 13,
   "metadata": {
    "collapsed": false
   },
   "outputs": [
    {
     "data": {
      "text/plain": [
       "661254.0836640956"
      ]
     },
     "execution_count": 13,
     "metadata": {},
     "output_type": "execute_result"
    }
   ],
   "source": [
    "getObjectiveValue(m)"
   ]
  },
  {
   "cell_type": "code",
   "execution_count": 14,
   "metadata": {
    "collapsed": false
   },
   "outputs": [
    {
     "name": "stdout",
     "output_type": "stream",
     "text": [
      "This is Ipopt version 3.12.1, running with linear solver mumps.\n",
      "NOTE: Other linear solvers might be more efficient (see Ipopt documentation).\n",
      "\n",
      "Number of nonzeros in equality constraint Jacobian...:     8892\n",
      "Number of nonzeros in inequality constraint Jacobian.:     3146\n",
      "Number of nonzeros in Lagrangian Hessian.............:       26\n",
      "\n",
      "Total number of variables............................:     3172\n",
      "                     variables with only lower bounds:        0\n",
      "                variables with lower and upper bounds:        0\n",
      "                     variables with only upper bounds:        0\n",
      "Total number of equality constraints.................:     1236\n",
      "Total number of inequality constraints...............:     3146\n",
      "        inequality constraints with only lower bounds:     3146\n",
      "   inequality constraints with lower and upper bounds:        0\n",
      "        inequality constraints with only upper bounds:        0\n",
      "\n",
      "iter    objective    inf_pr   inf_du lg(mu)  ||d||  lg(rg) alpha_du alpha_pr  ls\n",
      "   0  0.0000000e+00 4.00e+03 1.00e+01  -1.0 0.00e+00    -  0.00e+00 0.00e+00   0\n",
      "   1r 0.0000000e+00 4.00e+03 9.99e+02   3.6 0.00e+00    -  0.00e+00 4.98e-08R  8\n",
      "   2r 1.8189401e+03 4.00e+03 9.95e+02   3.6 3.43e+03    -  4.48e-03 4.49e-03f  1\n",
      "   3r 1.8178809e+03 3.98e+03 8.87e+02   1.5 1.04e+02    -  2.89e-01 2.08e-01f  1\n",
      "   4r 2.2044756e+03 3.97e+03 8.67e+02   1.5 6.06e+02    -  5.83e-02 2.30e-02f  1\n",
      "   5r 3.0970493e+03 3.95e+03 8.15e+02   1.5 5.19e+02    -  1.03e-01 5.98e-02f  1\n",
      "   6r 4.1301737e+03 3.92e+03 7.43e+02   1.5 3.77e+02    -  2.70e-01 8.83e-02f  1\n",
      "   7r 5.0788941e+03 3.89e+03 6.53e+02   1.5 3.02e+02    -  1.11e-01 1.21e-01f  1\n",
      "   8r 5.7073531e+03 3.85e+03 5.86e+02   1.5 4.15e+02    -  6.59e-02 1.03e-01f  1\n",
      "   9r 6.1443761e+03 3.82e+03 5.36e+02   1.5 3.97e+02    -  1.19e-01 8.68e-02f  1\n",
      "iter    objective    inf_pr   inf_du lg(mu)  ||d||  lg(rg) alpha_du alpha_pr  ls\n",
      "  10r 6.5890213e+03 3.78e+03 4.78e+02   1.5 3.63e+02    -  2.39e-01 1.07e-01f  1\n",
      "  11r 6.9404547e+03 3.75e+03 4.28e+02   1.5 3.26e+02    -  2.49e-01 1.04e-01f  1\n",
      "  12r 7.6253024e+03 3.69e+03 3.38e+02   1.5 2.99e+02    -  1.55e-01 2.11e-01f  1\n",
      "  13r 8.0122648e+03 3.65e+03 7.13e+02   0.8 2.38e+02    -  2.17e-01 1.47e-01f  1\n",
      "  14r 8.5246689e+03 3.62e+03 6.86e+02   0.8 8.84e+02    -  1.48e-01 3.80e-02f  1\n",
      "  15r 9.9576280e+03 3.53e+03 6.10e+02   0.8 8.58e+02    -  2.01e-01 1.10e-01f  1\n",
      "  16  1.1970986e+04 3.51e+03 9.94e+00  -1.0 8.93e+03    -  5.70e-03 5.73e-03h  1\n",
      "  17  2.4381597e+04 3.42e+03 9.68e+00  -1.0 1.03e+04    -  9.57e-03 2.67e-02h  1\n",
      "  18  5.1772481e+04 3.25e+03 9.20e+00  -1.0 1.05e+04    -  2.30e-02 4.95e-02h  1\n",
      "  19  9.7639894e+04 2.98e+03 8.45e+00  -1.0 9.92e+03    -  5.26e-02 8.19e-02h  1\n",
      "iter    objective    inf_pr   inf_du lg(mu)  ||d||  lg(rg) alpha_du alpha_pr  ls\n",
      "  20  1.4758682e+05 2.69e+03 7.63e+00  -1.0 9.10e+03    -  6.50e-02 9.69e-02h  1\n",
      "  21  2.1388091e+05 2.32e+03 6.58e+00  -1.0 7.81e+03    -  8.93e-02 1.38e-01h  1\n",
      "  22  2.3458439e+05 2.20e+03 6.24e+00  -1.0 8.46e+03    -  4.26e-02 5.17e-02h  1\n",
      "  23  2.6185756e+05 2.05e+03 5.82e+00  -1.0 5.71e+03    -  1.57e-01 6.81e-02h  1\n",
      "  24  3.2406860e+05 1.72e+03 4.89e+00  -1.0 6.71e+03    -  5.93e-02 1.62e-01h  1\n",
      "  25  3.5678022e+05 1.54e+03 4.38e+00  -1.0 1.12e+04    -  1.64e-02 1.04e-01h  1\n",
      "  26  3.5708404e+05 1.54e+03 4.38e+00  -1.0 1.12e+04    -  7.96e-02 1.09e-03h  1\n",
      "  27  3.6418991e+05 1.50e+03 4.27e+00  -1.0 1.12e+04    -  1.04e-01 2.50e-02h  1\n",
      "  28  3.6551833e+05 1.49e+03 4.25e+00  -1.0 6.75e+03    -  7.61e-02 4.71e-03h  1\n",
      "  29  3.9879705e+05 1.31e+03 3.75e+00  -1.0 9.21e+03    -  2.39e-02 1.19e-01h  1\n",
      "iter    objective    inf_pr   inf_du lg(mu)  ||d||  lg(rg) alpha_du alpha_pr  ls\n",
      "  30  4.2710991e+05 1.17e+03 3.33e+00  -1.0 6.74e+03    -  9.73e-02 1.14e-01h  1\n",
      "  31  4.5615184e+05 1.01e+03 2.90e+00  -1.0 7.03e+03    -  1.13e-01 1.31e-01h  1\n",
      "  32  4.8103730e+05 8.85e+02 3.81e+00  -1.0 4.42e+03    -  7.14e-01 1.26e-01h  1\n",
      "  33  6.0460255e+05 2.70e+02 1.50e+00  -1.0 3.27e+03    -  8.38e-01 6.95e-01h  1\n",
      "  34  6.5463599e+05 3.22e+01 4.13e-01  -1.0 9.96e+02    -  1.00e+00 8.81e-01h  1\n",
      "  35  6.6153747e+05 2.02e-08 1.21e-03  -1.0 1.19e+02    -  1.00e+00 1.00e+00h  1\n",
      "  36  6.6126226e+05 9.31e-11 6.03e-06  -2.5 7.81e+00    -  1.00e+00 1.00e+00f  1\n",
      "  37  6.6125453e+05 6.73e-11 2.68e-06  -3.8 3.02e+00    -  1.00e+00 1.00e+00f  1\n",
      "  38  6.6125452e+05 1.20e-09 6.30e-07  -3.8 1.42e+00    -  1.00e+00 1.00e+00f  1\n",
      "  39  6.6125409e+05 1.03e-11 1.92e-07  -5.7 7.91e-01    -  1.00e+00 1.00e+00f  1\n",
      "iter    objective    inf_pr   inf_du lg(mu)  ||d||  lg(rg) alpha_du alpha_pr  ls\n",
      "  40  6.6125409e+05 8.33e-12 4.48e-08  -5.7 3.80e-01    -  1.00e+00 1.00e+00f  1\n",
      "  41  6.6125409e+05 6.00e-12 8.53e-09  -5.7 1.66e-01    -  1.00e+00 1.00e+00f  1\n",
      "  42  6.6125408e+05 1.11e-11 1.20e-09  -8.6 6.22e-02    -  1.00e+00 1.00e+00f  1\n",
      "  43  6.6125408e+05 6.51e-12 2.70e-11  -8.6 9.32e-03    -  1.00e+00 1.00e+00h  1\n",
      "  44  6.6125408e+05 1.07e-12 2.84e-14  -8.6 2.19e-04    -  1.00e+00 1.00e+00h  1\n",
      "\n",
      "Number of Iterations....: 44\n",
      "\n",
      "                                   (scaled)                 (unscaled)\n",
      "Objective...............:   6.6125408361039299e+05    6.6125408361039299e+05\n",
      "Dual infeasibility......:   2.8421709430404007e-14    2.8421709430404007e-14\n",
      "Constraint violation....:   1.0726924179246865e-12    1.0726924179246865e-12\n",
      "Complementarity.........:   3.1228605828967036e-09    3.1228605828967036e-09\n",
      "Overall NLP error.......:   3.1228605828967036e-09    3.1228605828967036e-09\n",
      "\n",
      "\n",
      "Number of objective function evaluations             = 53\n",
      "Number of objective gradient evaluations             = 32\n",
      "Number of equality constraint evaluations            = 53\n",
      "Number of inequality constraint evaluations          = 53\n",
      "Number of equality constraint Jacobian evaluations   = 46\n",
      "Number of inequality constraint Jacobian evaluations = 46\n",
      "Number of Lagrangian Hessian evaluations             = 44\n",
      "Total CPU secs in IPOPT (w/o function evaluations)   =      0.564\n",
      "Total CPU secs in NLP function evaluations           =      0.004\n",
      "\n",
      "EXIT: Optimal Solution Found.\n"
     ]
    },
    {
     "data": {
      "text/plain": [
       ":Optimal"
      ]
     },
     "execution_count": 14,
     "metadata": {},
     "output_type": "execute_result"
    }
   ],
   "source": [
    "using JuMP\n",
    "using Gurobi\n",
    "\n",
    "# m = Model(solver=GurobiSolver(OutputFlag=false))\n",
    "m = Model()\n",
    "\n",
    "numNodes = 11  # number of nodes\n",
    "\n",
    "@defVar(m, linkFlow[1:numLinks])\n",
    "\n",
    "@defVar(m, odLinkFlow[keys(demands), 1:numLinks])\n",
    "for (s,t) = keys(demands)\n",
    "    for k = 1:numLinks\n",
    "        @addConstraint(m, odLinkFlow[(s,t), k] >= 0)\n",
    "    end\n",
    "end\n",
    "\n",
    "for k = 1:numLinks\n",
    "    linkFlowPartial = sum([odLinkFlow[(s,t), k] for (s,t) = keys(demands)])\n",
    "    @addConstraint(m, linkFlowPartial == linkFlow[k])\n",
    "end\n",
    "\n",
    "for l = 1:numNodes\n",
    "    for (s,t) = keys(demands)\n",
    "        if s != t\n",
    "            odLinkFlowPartial = sum([nodeLink[\"$(l-1)-$(k-1)\"] * odLinkFlow[(s,t), k] for k = 1:numLinks])\n",
    "            if (l == s)\n",
    "                @addConstraint(m, odLinkFlowPartial + demands[(s,t)] == 0)\n",
    "            elseif (l == t)\n",
    "                @addConstraint(m, odLinkFlowPartial - demands[(s,t)] == 0)\n",
    "            else\n",
    "                @addConstraint(m, odLinkFlowPartial == 0)\n",
    "            end\n",
    "        end\n",
    "    end\n",
    "end\n",
    "\n",
    "@defNLExpr(f, sum{free_flow_time[a]*linkFlow[a] + .03*free_flow_time[a]*((linkFlow[a])^5)/((capacity[a])^4), a = 1:numLinks})\n",
    "\n",
    "@setNLObjective(m, Min, f)\n",
    "\n",
    "solve(m)"
   ]
  },
  {
   "cell_type": "code",
   "execution_count": 15,
   "metadata": {
    "collapsed": false
   },
   "outputs": [
    {
     "data": {
      "text/plain": [
       "26-element Array{Float64,1}:\n",
       "  1800.0\n",
       "  3200.0\n",
       "  1800.0\n",
       "  3900.0\n",
       "  3200.0\n",
       "  4600.0\n",
       "  4600.0\n",
       "  9600.0\n",
       "  4700.0\n",
       "  9600.0\n",
       "  7200.0\n",
       "  7900.0\n",
       "  3900.0\n",
       "  7200.0\n",
       "  6500.0\n",
       "  5800.0\n",
       "  6500.0\n",
       "  5800.0\n",
       "  4900.0\n",
       "  7900.0\n",
       "  4900.0\n",
       " 12900.0\n",
       " 12900.0\n",
       "  5300.0\n",
       "  4600.0\n",
       "  5400.0"
      ]
     },
     "execution_count": 15,
     "metadata": {},
     "output_type": "execute_result"
    }
   ],
   "source": [
    "getValue(linkFlow)"
   ]
  },
  {
   "cell_type": "code",
   "execution_count": 16,
   "metadata": {
    "collapsed": false
   },
   "outputs": [
    {
     "data": {
      "text/plain": [
       "661254.083610393"
      ]
     },
     "execution_count": 16,
     "metadata": {},
     "output_type": "execute_result"
    }
   ],
   "source": [
    "getObjectiveValue(m)"
   ]
  },
  {
   "cell_type": "code",
   "execution_count": 17,
   "metadata": {
    "collapsed": false
   },
   "outputs": [
    {
     "data": {
      "text/plain": [
       "661254.0836640956"
      ]
     },
     "execution_count": 17,
     "metadata": {},
     "output_type": "execute_result"
    }
   ],
   "source": [
    " 1800.0\n",
    "  3200.0\n",
    "  1800.0\n",
    "  3900.0\n",
    "  3200.0\n",
    "  4600.0\n",
    "  4600.0\n",
    "  9600.0\n",
    "  4600.0\n",
    "  9600.0\n",
    "  7200.0\n",
    "  7900.0\n",
    "  3900.0\n",
    "  7200.0\n",
    "  6500.0\n",
    "  5800.0\n",
    "  6500.0\n",
    "  5800.0\n",
    "  4900.0\n",
    "  7900.0\n",
    "  4900.0\n",
    " 12900.0\n",
    " 12900.0\n",
    "  5400.0\n",
    "  4700.0\n",
    "  5300.0\n",
    "\n",
    "661254.0836640956"
   ]
  }
 ],
 "metadata": {
  "kernelspec": {
   "display_name": "Julia 0.3.7",
   "language": "julia",
   "name": "julia-0.3"
  },
  "language_info": {
   "file_extension": ".jl",
   "mimetype": "application/julia",
   "name": "julia",
   "version": "0.3.7"
  }
 },
 "nbformat": 4,
 "nbformat_minor": 0
}
