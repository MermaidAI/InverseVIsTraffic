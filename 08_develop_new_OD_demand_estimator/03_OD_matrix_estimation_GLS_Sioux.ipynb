{
 "cells": [
  {
   "cell_type": "code",
   "execution_count": 1,
   "metadata": {
    "collapsed": true
   },
   "outputs": [],
   "source": [
    "%run ../Python_files/load_dicts.py\n",
    "%run ../Python_files/util.py"
   ]
  },
  {
   "cell_type": "code",
   "execution_count": 2,
   "metadata": {
    "collapsed": true
   },
   "outputs": [],
   "source": [
    "from util import *\n",
    "import numpy as np\n",
    "from numpy.linalg import inv, matrix_rank\n",
    "import json"
   ]
  },
  {
   "cell_type": "code",
   "execution_count": 3,
   "metadata": {
    "collapsed": false
   },
   "outputs": [
    {
     "name": "stdout",
     "output_type": "stream",
     "text": [
      "rank of P is: \n",
      "552\n",
      "shape of P is: \n",
      "(552, 14232)\n"
     ]
    }
   ],
   "source": [
    "# load logit_route_choice_probability_matrix\n",
    "P = zload('../temp_files/logit_route_choice_probability_matrix_Sioux.pkz')\n",
    "P = np.matrix(P)\n",
    "\n",
    "print('rank of P is: ')\n",
    "print(matrix_rank(P))\n",
    "\n",
    "print('shape of P is: ')\n",
    "print(np.shape(P))"
   ]
  },
  {
   "cell_type": "code",
   "execution_count": 4,
   "metadata": {
    "collapsed": false
   },
   "outputs": [
    {
     "name": "stdout",
     "output_type": "stream",
     "text": [
      "rank of A is: \n",
      "76\n",
      "shape of A is: \n",
      "(76, 14232)\n"
     ]
    }
   ],
   "source": [
    "# load path-link incidence matrix\n",
    "A = zload('../temp_files/path-link_incidence_matrix_Sioux-Falls.pkz')\n",
    "\n",
    "print('rank of A is: ')\n",
    "print(matrix_rank(A))\n",
    "\n",
    "print('shape of A is: ')\n",
    "print(np.shape(A))"
   ]
  },
  {
   "cell_type": "code",
   "execution_count": 5,
   "metadata": {
    "collapsed": true
   },
   "outputs": [],
   "source": [
    "# load link counts data\n",
    "\n",
    "flow_list = []\n",
    "with open('SiouxFallsFlow.txt', 'r') as f:\n",
    "    read_data = f.readlines()\n",
    "    flag = 0\n",
    "    for row in read_data:\n",
    "        flag += 1\n",
    "        if flag > 1:\n",
    "            flow_list.append(float(row.split('\\t')[2]))\n",
    "\n",
    "x = np.array(flow_list)"
   ]
  },
  {
   "cell_type": "code",
   "execution_count": 6,
   "metadata": {
    "collapsed": false
   },
   "outputs": [
    {
     "data": {
      "text/plain": [
       "array([  4494.65764646,   8119.07994805,   4519.07994805,   5967.33639617,\n",
       "         8094.65764646,  14006.37101986,  10022.31961516,  14030.5609174 ,\n",
       "        18006.37101986,   5200.        ,  18030.5609174 ,   8798.26771411,\n",
       "        15780.78205547,   5991.75869776,   8806.49866681,  12492.92536056,\n",
       "        12101.52912231,  15794.01060698,  12525.57861486,  12040.91827285,\n",
       "         6882.66491266,   8388.713063  ,  15796.7410003 ,   6836.70597529,\n",
       "        21744.07608018,  21814.07608764,  17726.62503296,  23125.7972901 ,\n",
       "        11047.09388127,   8100.        ,   5300.        ,  17604.22353323,\n",
       "         8365.28565386,   9776.11953275,   9973.70741603,   8404.93462395,\n",
       "        12287.60526902,  12378.64203998,  11121.35796002,   9814.06906293,\n",
       "         9036.33413403,   8400.43683027,  23192.28335936,   9079.82031659,\n",
       "        19083.28976475,  18409.93502652,   8406.71440521,  11073.00931921,\n",
       "        11695.00291653,  15278.32524152,   8100.        ,  11683.83828244,\n",
       "         9953.02143205,  15854.62145644,  15333.40665575,  18976.7961192 ,\n",
       "        19116.72427908,   9941.85679796,   8688.36704049,  18992.4883829 ,\n",
       "         8710.63692073,   6302.02287419,   7000.        ,   6239.98501812,\n",
       "         8619.5396981 ,  10309.41080392,  18386.472764  ,   7000.        ,\n",
       "         8607.38792974,   9661.82423137,   8394.9001779 ,   9626.21020048,\n",
       "         7902.98392706,  11112.39473098,  10259.52471622,   7861.8332438 ])"
      ]
     },
     "execution_count": 6,
     "metadata": {},
     "output_type": "execute_result"
    }
   ],
   "source": [
    "x"
   ]
  },
  {
   "cell_type": "markdown",
   "metadata": {},
   "source": [
    "### Assignment Equation\n",
    "\n",
    "We have the following equation: \n",
    "$$AP'\\boldsymbol{\\lambda} = \\textbf{x},$$\n",
    "whose least-squares solution can be written as\n",
    "$$\\boldsymbol{\\lambda} = (AP')^+\\textbf{x}, \\quad (1)$$\n",
    "where $(AP')^{+}$ is the pseudo-inverse of $AP'$.\n",
    "\n",
    "However, the $\\boldsymbol{\\lambda}$ given by (1) might contain negative entries, which is not desired. Thus, instead, we solve a constrained least-squares problem:\n",
    "$$\\mathop {\\min }\\limits_{\\boldsymbol{\\lambda}  \\geq \\textbf{0}} {\\left\\| {AP'\\boldsymbol{\\lambda}  - \\textbf{x}} \\right\\|_2}. \\quad (2)$$\n",
    "\n",
    "Note that (2) typically contains a non-PSD matrix Q, thus preventing the solver calculating the correct $\\boldsymbol{\\lambda}$.\n",
    "\n",
    "In the end, we give up solving (2), but adjust the solution given by (1) such that all entries in $\\boldsymbol{\\lambda}$ are positive or zero."
   ]
  },
  {
   "cell_type": "code",
   "execution_count": 7,
   "metadata": {
    "collapsed": false
   },
   "outputs": [],
   "source": [
    "P_t = np.transpose(P)\n",
    "# AP'\n",
    "AP_t = np.dot(A, P_t)\n",
    "\n",
    "pinv_AP_t = LA.pinv(AP_t)\n",
    "\n",
    "lam_0 = np.dot(pinv_AP_t, x)"
   ]
  },
  {
   "cell_type": "code",
   "execution_count": 8,
   "metadata": {
    "collapsed": false
   },
   "outputs": [],
   "source": [
    "# assert(1==2)\n",
    "\n",
    "L = 24 * (24 - 1)  # dimension of lam\n",
    "\n",
    "model = Model(\"OD_matrix_estimation\")\n",
    "\n",
    "lam = []\n",
    "for l in range(L):\n",
    "    lam.append(model.addVar(name='lam_' + str(l)))\n",
    "\n",
    "model.update() \n",
    "\n",
    "# Set objective\n",
    "obj = 0\n",
    "\n",
    "for l in range(L):\n",
    "    obj += (lam[l] - lam_0[0, l]) * (lam[l] - lam_0[0, l])\n",
    "    \n",
    "model.setObjective(obj)\n",
    "\n",
    "# Add constraint: lam >= 0\n",
    "for l in range(L):\n",
    "    model.addConstr(lam[l] >= 0)\n",
    "\n",
    "# fictitious_OD_list = zload('fictitious_OD_list')\n",
    "# for l in fictitious_OD_list:\n",
    "#     model.addConstr(lam[l] == 0)\n",
    "model.update() \n",
    "\n",
    "model.setParam('OutputFlag', False)\n",
    "model.optimize()\n",
    "\n",
    "lam_list = []\n",
    "for v in model.getVars():\n",
    "    # print('%s %g' % (v.varName, v.x))\n",
    "    lam_list.append(v.x)\n",
    "# print('Obj: %g' % obj.getValue())"
   ]
  },
  {
   "cell_type": "code",
   "execution_count": 9,
   "metadata": {
    "collapsed": false
   },
   "outputs": [],
   "source": [
    "# write estimation result to file\n",
    "n = 24  # number of nodes\n",
    "with open('OD_demand_matrix_Sioux.txt', 'w') as the_file:\n",
    "    idx = 0\n",
    "    for i in range(n + 1)[1:]:\n",
    "        for j in range(n + 1)[1:]:\n",
    "            if i != j: \n",
    "                the_file.write(\"%d,%d,%f\\n\" %(i, j, lam_list[idx]))\n",
    "                idx += 1"
   ]
  },
  {
   "cell_type": "code",
   "execution_count": null,
   "metadata": {
    "collapsed": true
   },
   "outputs": [],
   "source": []
  }
 ],
 "metadata": {
  "kernelspec": {
   "display_name": "Python 2",
   "language": "python",
   "name": "python2"
  },
  "language_info": {
   "codemirror_mode": {
    "name": "ipython",
    "version": 2
   },
   "file_extension": ".py",
   "mimetype": "text/x-python",
   "name": "python",
   "nbconvert_exporter": "python",
   "pygments_lexer": "ipython2",
   "version": "2.7.11"
  }
 },
 "nbformat": 4,
 "nbformat_minor": 0
}
