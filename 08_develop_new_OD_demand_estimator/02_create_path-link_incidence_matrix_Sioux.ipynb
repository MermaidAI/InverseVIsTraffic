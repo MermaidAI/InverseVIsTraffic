{
 "cells": [
  {
   "cell_type": "code",
   "execution_count": 1,
   "metadata": {
    "collapsed": false
   },
   "outputs": [],
   "source": [
    "%run ../Python_files/create_path-link_incidence_matrix_Sioux.py"
   ]
  },
  {
   "cell_type": "code",
   "execution_count": 3,
   "metadata": {
    "collapsed": false
   },
   "outputs": [
    {
     "data": {
      "text/plain": [
       "(552, 14232)"
      ]
     },
     "execution_count": 3,
     "metadata": {},
     "output_type": "execute_result"
    }
   ],
   "source": [
    "np.shape(P)"
   ]
  },
  {
   "cell_type": "code",
   "execution_count": 9,
   "metadata": {
    "collapsed": true
   },
   "outputs": [],
   "source": [
    "P_dict = {}\n",
    "\n",
    "assert(np.shape(P)[0] == 552)\n",
    "assert(np.shape(P)[1] == 14232)\n",
    "\n",
    "for i in range(np.shape(P)[0]):\n",
    "    for j in range(np.shape(P)[1]):\n",
    "        key = str(i+1) + '-' + str(j+1)\n",
    "        if (P[i, j] != 0):\n",
    "            P_dict[key] = P[i, j]\n",
    "        \n",
    "with open('od_pair_route_incidence_Sioux.json', 'w') as json_file:\n",
    "    json.dump(P_dict, json_file)"
   ]
  },
  {
   "cell_type": "code",
   "execution_count": 10,
   "metadata": {
    "collapsed": false
   },
   "outputs": [
    {
     "data": {
      "text/plain": [
       "(76, 14232)"
      ]
     },
     "execution_count": 10,
     "metadata": {},
     "output_type": "execute_result"
    }
   ],
   "source": [
    "np.shape(A)"
   ]
  },
  {
   "cell_type": "code",
   "execution_count": 11,
   "metadata": {
    "collapsed": true
   },
   "outputs": [],
   "source": [
    "A_dict = {}\n",
    "\n",
    "assert(np.shape(A)[0] == 76)\n",
    "assert(np.shape(A)[1] == 14232)\n",
    "\n",
    "for i in range(np.shape(A)[0]):\n",
    "    for j in range(np.shape(A)[1]):\n",
    "        key = str(i+1) + '-' + str(j+1)\n",
    "        if (A[i, j] != 0):\n",
    "            A_dict[key] = A[i, j]\n",
    "        \n",
    "with open('link_route_incidence_Sioux.json', 'w') as json_file:\n",
    "    json.dump(A_dict, json_file)"
   ]
  },
  {
   "cell_type": "code",
   "execution_count": 8,
   "metadata": {
    "collapsed": false
   },
   "outputs": [
    {
     "name": "stdout",
     "output_type": "stream",
     "text": [
      "rank of P is: \n",
      "552\n",
      "sizes of P are: \n",
      "552\n",
      "14232\n",
      "rank of A is: \n",
      "76\n",
      "sizes of A are: \n",
      "76\n",
      "14232\n",
      "rank of AP_t is: \n",
      "76\n",
      "shape of AP_t is: \n",
      "(76, 552)\n"
     ]
    }
   ],
   "source": [
    "A_t = np.transpose(A)\n",
    "P_t = np.transpose(P)\n",
    "# PA'\n",
    "AP_t = np.dot(A, P_t)\n",
    "print(\"rank of P is: \")\n",
    "print(matrix_rank(P))\n",
    "print(\"sizes of P are: \")\n",
    "print(np.size(P, 0))\n",
    "print(np.size(P, 1))\n",
    "print(\"rank of A is: \")\n",
    "print(matrix_rank(A))\n",
    "print(\"sizes of A are: \")\n",
    "print(np.size(A, 0))\n",
    "print(np.size(A, 1))\n",
    "print(\"rank of AP_t is: \")\n",
    "print(matrix_rank(AP_t))\n",
    "print(\"shape of AP_t is: \")\n",
    "print(np.shape(AP_t))"
   ]
  },
  {
   "cell_type": "code",
   "execution_count": 4,
   "metadata": {
    "collapsed": false
   },
   "outputs": [],
   "source": [
    "pinv_AP_t = np.linalg.pinv(AP_t)"
   ]
  },
  {
   "cell_type": "code",
   "execution_count": 6,
   "metadata": {
    "collapsed": false
   },
   "outputs": [
    {
     "data": {
      "text/plain": [
       "(552, 76)"
      ]
     },
     "execution_count": 6,
     "metadata": {},
     "output_type": "execute_result"
    }
   ],
   "source": [
    "np.shape(pinv_AP_t)"
   ]
  },
  {
   "cell_type": "markdown",
   "metadata": {},
   "source": [
    "### Assignment Equation\n",
    "\n",
    "We have the following equation: \n",
    "$$AP'\\boldsymbol{\\lambda} = \\textbf{x},$$\n",
    "whose least-squares solution can be written as\n",
    "$$\\boldsymbol{\\lambda} = (AP')^+\\textbf{x},$$\n",
    "where $(AP')^{+}$ is the pseudo-inverse of $AP'$."
   ]
  },
  {
   "cell_type": "code",
   "execution_count": 6,
   "metadata": {
    "collapsed": true
   },
   "outputs": [],
   "source": [
    "AA = [[1, 0, 0, 1, 0, 0, 0, 0, 0, 0, 0, 1],\n",
    "      [0, 0, 0, 1, 0, 1, 1, 0, 0, 0, 0, 0],\n",
    "      [0, 0, 0, 0, 0, 1, 0, 0, 1, 0, 0, 1],\n",
    "      [0, 1, 1, 0, 0, 0, 0, 1, 0, 0, 0, 0],\n",
    "      [0, 1, 0, 0, 0, 0, 0, 0, 0, 1, 1, 0],\n",
    "      [0, 0, 0, 0, 1, 0, 0, 1, 0, 1, 0, 0]]"
   ]
  },
  {
   "cell_type": "code",
   "execution_count": 7,
   "metadata": {
    "collapsed": false
   },
   "outputs": [],
   "source": [
    "AA = np.array(AA)"
   ]
  },
  {
   "cell_type": "code",
   "execution_count": 8,
   "metadata": {
    "collapsed": false
   },
   "outputs": [
    {
     "data": {
      "text/plain": [
       "array([[1, 0, 0, 1, 0, 0, 0, 0, 0, 0, 0, 1],\n",
       "       [0, 0, 0, 1, 0, 1, 1, 0, 0, 0, 0, 0],\n",
       "       [0, 0, 0, 0, 0, 1, 0, 0, 1, 0, 0, 1],\n",
       "       [0, 1, 1, 0, 0, 0, 0, 1, 0, 0, 0, 0],\n",
       "       [0, 1, 0, 0, 0, 0, 0, 0, 0, 1, 1, 0],\n",
       "       [0, 0, 0, 0, 1, 0, 0, 1, 0, 1, 0, 0]])"
      ]
     },
     "execution_count": 8,
     "metadata": {},
     "output_type": "execute_result"
    }
   ],
   "source": [
    "AA"
   ]
  },
  {
   "cell_type": "code",
   "execution_count": 9,
   "metadata": {
    "collapsed": true
   },
   "outputs": [],
   "source": [
    "PP = [[0.8, 0.2, 0, 0, 0, 0, 0, 0, 0, 0, 0, 0],\n",
    "      [0, 0, 0.8, 0.2, 0, 0, 0, 0, 0, 0, 0, 0],\n",
    "      [0, 0, 0, 0, 0.8, 0.2, 0, 0, 0, 0, 0, 0],\n",
    "      [0, 0, 0, 0, 0, 0, 0.8, 0.2, 0, 0, 0, 0],\n",
    "      [0, 0, 0, 0, 0, 0, 0, 0, 0.8, 0.2, 0, 0],\n",
    "      [0, 0, 0, 0, 0, 0, 0, 0, 0, 0, 0.8, 0.2]]"
   ]
  },
  {
   "cell_type": "code",
   "execution_count": 10,
   "metadata": {
    "collapsed": true
   },
   "outputs": [],
   "source": [
    "PP = np.array(PP)"
   ]
  },
  {
   "cell_type": "code",
   "execution_count": 11,
   "metadata": {
    "collapsed": false
   },
   "outputs": [
    {
     "data": {
      "text/plain": [
       "array([[ 0.8,  0.2,  0. ,  0. ,  0. ,  0. ,  0. ,  0. ,  0. ,  0. ,  0. ,\n",
       "         0. ],\n",
       "       [ 0. ,  0. ,  0.8,  0.2,  0. ,  0. ,  0. ,  0. ,  0. ,  0. ,  0. ,\n",
       "         0. ],\n",
       "       [ 0. ,  0. ,  0. ,  0. ,  0.8,  0.2,  0. ,  0. ,  0. ,  0. ,  0. ,\n",
       "         0. ],\n",
       "       [ 0. ,  0. ,  0. ,  0. ,  0. ,  0. ,  0.8,  0.2,  0. ,  0. ,  0. ,\n",
       "         0. ],\n",
       "       [ 0. ,  0. ,  0. ,  0. ,  0. ,  0. ,  0. ,  0. ,  0.8,  0.2,  0. ,\n",
       "         0. ],\n",
       "       [ 0. ,  0. ,  0. ,  0. ,  0. ,  0. ,  0. ,  0. ,  0. ,  0. ,  0.8,\n",
       "         0.2]])"
      ]
     },
     "execution_count": 11,
     "metadata": {},
     "output_type": "execute_result"
    }
   ],
   "source": [
    "PP"
   ]
  },
  {
   "cell_type": "code",
   "execution_count": 12,
   "metadata": {
    "collapsed": true
   },
   "outputs": [],
   "source": [
    "AA_t = np.transpose(AA)"
   ]
  },
  {
   "cell_type": "code",
   "execution_count": 17,
   "metadata": {
    "collapsed": true
   },
   "outputs": [],
   "source": [
    "PPAA_t = np.dot(PP, AA_t)"
   ]
  },
  {
   "cell_type": "code",
   "execution_count": 18,
   "metadata": {
    "collapsed": false
   },
   "outputs": [],
   "source": [
    "AAPP_t = np.transpose(PPAA_t)"
   ]
  },
  {
   "cell_type": "code",
   "execution_count": 19,
   "metadata": {
    "collapsed": false
   },
   "outputs": [
    {
     "data": {
      "text/plain": [
       "array([[ 0.8,  0.2,  0. ,  0. ,  0. ,  0.2],\n",
       "       [ 0. ,  0.2,  0.2,  0.8,  0. ,  0. ],\n",
       "       [ 0. ,  0. ,  0.2,  0. ,  0.8,  0.2],\n",
       "       [ 0.2,  0.8,  0. ,  0.2,  0. ,  0. ],\n",
       "       [ 0.2,  0. ,  0. ,  0. ,  0.2,  0.8],\n",
       "       [ 0. ,  0. ,  0.8,  0.2,  0.2,  0. ]])"
      ]
     },
     "execution_count": 19,
     "metadata": {},
     "output_type": "execute_result"
    }
   ],
   "source": [
    "AAPP_t"
   ]
  },
  {
   "cell_type": "code",
   "execution_count": 20,
   "metadata": {
    "collapsed": true
   },
   "outputs": [],
   "source": [
    "lam = [[100], [100], [100], [100], [100], [100]]"
   ]
  },
  {
   "cell_type": "code",
   "execution_count": 21,
   "metadata": {
    "collapsed": false
   },
   "outputs": [],
   "source": [
    "lam = np.array(lam)"
   ]
  },
  {
   "cell_type": "code",
   "execution_count": 22,
   "metadata": {
    "collapsed": false
   },
   "outputs": [
    {
     "data": {
      "text/plain": [
       "array([[100],\n",
       "       [100],\n",
       "       [100],\n",
       "       [100],\n",
       "       [100],\n",
       "       [100]])"
      ]
     },
     "execution_count": 22,
     "metadata": {},
     "output_type": "execute_result"
    }
   ],
   "source": [
    "lam"
   ]
  },
  {
   "cell_type": "code",
   "execution_count": 23,
   "metadata": {
    "collapsed": false
   },
   "outputs": [
    {
     "data": {
      "text/plain": [
       "array([[ 120.],\n",
       "       [ 120.],\n",
       "       [ 120.],\n",
       "       [ 120.],\n",
       "       [ 120.],\n",
       "       [ 120.]])"
      ]
     },
     "execution_count": 23,
     "metadata": {},
     "output_type": "execute_result"
    }
   ],
   "source": [
    "np.dot(AAPP_t, lam)"
   ]
  },
  {
   "cell_type": "code",
   "execution_count": null,
   "metadata": {
    "collapsed": true
   },
   "outputs": [],
   "source": []
  }
 ],
 "metadata": {
  "kernelspec": {
   "display_name": "Python 2",
   "language": "python",
   "name": "python2"
  },
  "language_info": {
   "codemirror_mode": {
    "name": "ipython",
    "version": 2
   },
   "file_extension": ".py",
   "mimetype": "text/x-python",
   "name": "python",
   "nbconvert_exporter": "python",
   "pygments_lexer": "ipython2",
   "version": "2.7.11"
  }
 },
 "nbformat": 4,
 "nbformat_minor": 0
}
