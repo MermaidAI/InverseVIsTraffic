{
 "cells": [
  {
   "cell_type": "code",
   "execution_count": 1,
   "metadata": {
    "collapsed": true
   },
   "outputs": [],
   "source": [
    "%run ../Python_files/print_O-D_pair_link_labels_Sioux_simp.py"
   ]
  },
  {
   "cell_type": "code",
   "execution_count": 2,
   "metadata": {
    "collapsed": true
   },
   "outputs": [],
   "source": [
    "link_label_dict_ = zload('../temp_files/link_label_dict_Sioux_simp_.pkz')"
   ]
  },
  {
   "cell_type": "code",
   "execution_count": 3,
   "metadata": {
    "collapsed": false
   },
   "outputs": [
    {
     "data": {
      "text/plain": [
       "{'1->2': 0,\n",
       " '1->3': 1,\n",
       " '10->9': 21,\n",
       " '2->1': 2,\n",
       " '2->6': 3,\n",
       " '3->1': 4,\n",
       " '3->4': 5,\n",
       " '4->3': 6,\n",
       " '4->5': 7,\n",
       " '5->4': 8,\n",
       " '5->6': 9,\n",
       " '5->9': 10,\n",
       " '6->2': 11,\n",
       " '6->5': 12,\n",
       " '6->8': 13,\n",
       " '7->8': 14,\n",
       " '8->6': 15,\n",
       " '8->7': 16,\n",
       " '8->9': 17,\n",
       " '9->10': 20,\n",
       " '9->5': 18,\n",
       " '9->8': 19}"
      ]
     },
     "execution_count": 3,
     "metadata": {},
     "output_type": "execute_result"
    }
   ],
   "source": [
    "link_label_dict_"
   ]
  },
  {
   "cell_type": "code",
   "execution_count": 4,
   "metadata": {
    "collapsed": true
   },
   "outputs": [],
   "source": [
    "OD_pair_label_dict_ = zload('../temp_files/OD_pair_label_dict__Sioux_simp.pkz')"
   ]
  },
  {
   "cell_type": "code",
   "execution_count": 5,
   "metadata": {
    "collapsed": false
   },
   "outputs": [
    {
     "data": {
      "text/plain": [
       "{'0': (1, 2),\n",
       " '1': (1, 3),\n",
       " '10': (2, 3),\n",
       " '11': (2, 4),\n",
       " '12': (2, 5),\n",
       " '13': (2, 6),\n",
       " '14': (2, 7),\n",
       " '15': (2, 8),\n",
       " '16': (2, 9),\n",
       " '17': (2, 10),\n",
       " '18': (3, 1),\n",
       " '19': (3, 2),\n",
       " '2': (1, 4),\n",
       " '20': (3, 4),\n",
       " '21': (3, 5),\n",
       " '22': (3, 6),\n",
       " '23': (3, 7),\n",
       " '24': (3, 8),\n",
       " '25': (3, 9),\n",
       " '26': (3, 10),\n",
       " '27': (4, 1),\n",
       " '28': (4, 2),\n",
       " '29': (4, 3),\n",
       " '3': (1, 5),\n",
       " '30': (4, 5),\n",
       " '31': (4, 6),\n",
       " '32': (4, 7),\n",
       " '33': (4, 8),\n",
       " '34': (4, 9),\n",
       " '35': (4, 10),\n",
       " '36': (5, 1),\n",
       " '37': (5, 2),\n",
       " '38': (5, 3),\n",
       " '39': (5, 4),\n",
       " '4': (1, 6),\n",
       " '40': (5, 6),\n",
       " '41': (5, 7),\n",
       " '42': (5, 8),\n",
       " '43': (5, 9),\n",
       " '44': (5, 10),\n",
       " '45': (6, 1),\n",
       " '46': (6, 2),\n",
       " '47': (6, 3),\n",
       " '48': (6, 4),\n",
       " '49': (6, 5),\n",
       " '5': (1, 7),\n",
       " '50': (6, 7),\n",
       " '51': (6, 8),\n",
       " '52': (6, 9),\n",
       " '53': (6, 10),\n",
       " '54': (7, 1),\n",
       " '55': (7, 2),\n",
       " '56': (7, 3),\n",
       " '57': (7, 4),\n",
       " '58': (7, 5),\n",
       " '59': (7, 6),\n",
       " '6': (1, 8),\n",
       " '60': (7, 8),\n",
       " '61': (7, 9),\n",
       " '62': (7, 10),\n",
       " '63': (8, 1),\n",
       " '64': (8, 2),\n",
       " '65': (8, 3),\n",
       " '66': (8, 4),\n",
       " '67': (8, 5),\n",
       " '68': (8, 6),\n",
       " '69': (8, 7),\n",
       " '7': (1, 9),\n",
       " '70': (8, 9),\n",
       " '71': (8, 10),\n",
       " '72': (9, 1),\n",
       " '73': (9, 2),\n",
       " '74': (9, 3),\n",
       " '75': (9, 4),\n",
       " '76': (9, 5),\n",
       " '77': (9, 6),\n",
       " '78': (9, 7),\n",
       " '79': (9, 8),\n",
       " '8': (1, 10),\n",
       " '80': (9, 10),\n",
       " '81': (10, 1),\n",
       " '82': (10, 2),\n",
       " '83': (10, 3),\n",
       " '84': (10, 4),\n",
       " '85': (10, 5),\n",
       " '86': (10, 6),\n",
       " '87': (10, 7),\n",
       " '88': (10, 8),\n",
       " '89': (10, 9),\n",
       " '9': (2, 1)}"
      ]
     },
     "execution_count": 5,
     "metadata": {},
     "output_type": "execute_result"
    }
   ],
   "source": [
    "OD_pair_label_dict_"
   ]
  },
  {
   "cell_type": "code",
   "execution_count": 6,
   "metadata": {
    "collapsed": false
   },
   "outputs": [],
   "source": [
    "import json\n",
    "\n",
    "link_length_dict_Sioux = {}\n",
    "\n",
    "length_list = []\n",
    "with open('../data_traffic_assignment_uni-class/SiouxFalls_net_simp.txt', 'r') as f:\n",
    "    read_data = f.readlines()\n",
    "    flag = 0\n",
    "    for row in read_data:\n",
    "        if ';' in row:\n",
    "            flag += 1\n",
    "            if flag > 1:\n",
    "                length_list.append(float(row.split('\\t')[4]))\n",
    "                \n",
    "for idx in range(len(length_list)):\n",
    "    key = str(idx)\n",
    "    link_length_dict_Sioux[key] = length_list[idx]\n",
    "\n",
    "with open('../temp_files/link_length_dict_Sioux_simp.json', 'w') as json_file:\n",
    "    json.dump(link_length_dict_Sioux, json_file)"
   ]
  },
  {
   "cell_type": "code",
   "execution_count": 7,
   "metadata": {
    "collapsed": false
   },
   "outputs": [
    {
     "data": {
      "text/plain": [
       "{'0': 6.0,\n",
       " '1': 4.0,\n",
       " '10': 5.0,\n",
       " '11': 5.0,\n",
       " '12': 4.0,\n",
       " '13': 2.0,\n",
       " '14': 3.0,\n",
       " '15': 2.0,\n",
       " '16': 3.0,\n",
       " '17': 10.0,\n",
       " '18': 5.0,\n",
       " '19': 10.0,\n",
       " '2': 6.0,\n",
       " '20': 3.0,\n",
       " '21': 3.0,\n",
       " '3': 5.0,\n",
       " '4': 4.0,\n",
       " '5': 4.0,\n",
       " '6': 4.0,\n",
       " '7': 2.0,\n",
       " '8': 2.0,\n",
       " '9': 4.0}"
      ]
     },
     "execution_count": 7,
     "metadata": {},
     "output_type": "execute_result"
    }
   ],
   "source": [
    "link_length_dict_Sioux"
   ]
  },
  {
   "cell_type": "code",
   "execution_count": 8,
   "metadata": {
    "collapsed": false
   },
   "outputs": [],
   "source": [
    "with open('../temp_files/path-link_incidence_Sioux_simp.txt', 'r') as the_file:\n",
    "    # path counts\n",
    "    i = 0  \n",
    "    for row in the_file:\n",
    "        if '->' in row:\n",
    "            i = i + 1"
   ]
  },
  {
   "cell_type": "code",
   "execution_count": 9,
   "metadata": {
    "collapsed": false
   },
   "outputs": [
    {
     "data": {
      "text/plain": [
       "294"
      ]
     },
     "execution_count": 9,
     "metadata": {},
     "output_type": "execute_result"
    }
   ],
   "source": [
    "i"
   ]
  },
  {
   "cell_type": "code",
   "execution_count": 10,
   "metadata": {
    "collapsed": false
   },
   "outputs": [],
   "source": [
    "# number of links\n",
    "m = 22\n",
    "\n",
    "# create link labels\n",
    "# create a dictionary mapping directed links to labels\n",
    "link_label_dict = {}\n",
    "link_label_dict_ = {}\n",
    "        \n",
    "link_list = ['1,2','1,3','2,1','2,6','3,1','3,4','4,3','4,5','5,4','5,6',\n",
    "             '5,9','6,2','6,5','6,8','7,8','8,6','8,7','8,9','9,5','9,8','9,10','10,9']\n",
    "\n",
    "for i in range(m):\n",
    "    link_label_dict[str(i)] = link_list[i]\n",
    "\n",
    "for i in range(m):\n",
    "    link_label_dict_[link_list[i]] = i\n",
    "\n",
    "with open('link_label_dict_Sioux_simp.json', 'w') as json_file:\n",
    "    json.dump(link_label_dict, json_file)\n",
    "    \n",
    "with open('link_label_dict_Sioux_simp_.json', 'w') as json_file:\n",
    "    json.dump(link_label_dict_, json_file)"
   ]
  },
  {
   "cell_type": "code",
   "execution_count": 11,
   "metadata": {
    "collapsed": false
   },
   "outputs": [
    {
     "data": {
      "text/plain": [
       "{'1,2': 0,\n",
       " '1,3': 1,\n",
       " '10,9': 21,\n",
       " '2,1': 2,\n",
       " '2,6': 3,\n",
       " '3,1': 4,\n",
       " '3,4': 5,\n",
       " '4,3': 6,\n",
       " '4,5': 7,\n",
       " '5,4': 8,\n",
       " '5,6': 9,\n",
       " '5,9': 10,\n",
       " '6,2': 11,\n",
       " '6,5': 12,\n",
       " '6,8': 13,\n",
       " '7,8': 14,\n",
       " '8,6': 15,\n",
       " '8,7': 16,\n",
       " '8,9': 17,\n",
       " '9,10': 20,\n",
       " '9,5': 18,\n",
       " '9,8': 19}"
      ]
     },
     "execution_count": 11,
     "metadata": {},
     "output_type": "execute_result"
    }
   ],
   "source": [
    "link_label_dict_"
   ]
  },
  {
   "cell_type": "code",
   "execution_count": 12,
   "metadata": {
    "collapsed": false
   },
   "outputs": [],
   "source": [
    "# create O-D pair labels\n",
    "# create a dictionary mapping O-D pairs to labels\n",
    "\n",
    "import json\n",
    "\n",
    "n = 10  # number of nodes\n",
    "\n",
    "OD_pair_label_dict = {}\n",
    "OD_pair_label_dict_ = {}\n",
    "\n",
    "label = 1\n",
    "for i in range(n + 1)[1:]:\n",
    "    for j in range(n + 1)[1:]:\n",
    "        key = (i, j)\n",
    "        OD_pair_label_dict[str(key)] = label\n",
    "        OD_pair_label_dict_[str(label)] = key\n",
    "        label += 1\n",
    "        \n",
    "with open('od_pair_label_dict_Sioux_simp.json', 'w') as json_file:\n",
    "    json.dump(OD_pair_label_dict, json_file)\n",
    "    \n",
    "with open('od_pair_label_dict__Sioux_simp.json', 'w') as json_file:\n",
    "    json.dump(OD_pair_label_dict_, json_file)"
   ]
  },
  {
   "cell_type": "code",
   "execution_count": 13,
   "metadata": {
    "collapsed": false
   },
   "outputs": [
    {
     "data": {
      "text/plain": [
       "{'1': (1, 1),\n",
       " '10': (1, 10),\n",
       " '100': (10, 10),\n",
       " '11': (2, 1),\n",
       " '12': (2, 2),\n",
       " '13': (2, 3),\n",
       " '14': (2, 4),\n",
       " '15': (2, 5),\n",
       " '16': (2, 6),\n",
       " '17': (2, 7),\n",
       " '18': (2, 8),\n",
       " '19': (2, 9),\n",
       " '2': (1, 2),\n",
       " '20': (2, 10),\n",
       " '21': (3, 1),\n",
       " '22': (3, 2),\n",
       " '23': (3, 3),\n",
       " '24': (3, 4),\n",
       " '25': (3, 5),\n",
       " '26': (3, 6),\n",
       " '27': (3, 7),\n",
       " '28': (3, 8),\n",
       " '29': (3, 9),\n",
       " '3': (1, 3),\n",
       " '30': (3, 10),\n",
       " '31': (4, 1),\n",
       " '32': (4, 2),\n",
       " '33': (4, 3),\n",
       " '34': (4, 4),\n",
       " '35': (4, 5),\n",
       " '36': (4, 6),\n",
       " '37': (4, 7),\n",
       " '38': (4, 8),\n",
       " '39': (4, 9),\n",
       " '4': (1, 4),\n",
       " '40': (4, 10),\n",
       " '41': (5, 1),\n",
       " '42': (5, 2),\n",
       " '43': (5, 3),\n",
       " '44': (5, 4),\n",
       " '45': (5, 5),\n",
       " '46': (5, 6),\n",
       " '47': (5, 7),\n",
       " '48': (5, 8),\n",
       " '49': (5, 9),\n",
       " '5': (1, 5),\n",
       " '50': (5, 10),\n",
       " '51': (6, 1),\n",
       " '52': (6, 2),\n",
       " '53': (6, 3),\n",
       " '54': (6, 4),\n",
       " '55': (6, 5),\n",
       " '56': (6, 6),\n",
       " '57': (6, 7),\n",
       " '58': (6, 8),\n",
       " '59': (6, 9),\n",
       " '6': (1, 6),\n",
       " '60': (6, 10),\n",
       " '61': (7, 1),\n",
       " '62': (7, 2),\n",
       " '63': (7, 3),\n",
       " '64': (7, 4),\n",
       " '65': (7, 5),\n",
       " '66': (7, 6),\n",
       " '67': (7, 7),\n",
       " '68': (7, 8),\n",
       " '69': (7, 9),\n",
       " '7': (1, 7),\n",
       " '70': (7, 10),\n",
       " '71': (8, 1),\n",
       " '72': (8, 2),\n",
       " '73': (8, 3),\n",
       " '74': (8, 4),\n",
       " '75': (8, 5),\n",
       " '76': (8, 6),\n",
       " '77': (8, 7),\n",
       " '78': (8, 8),\n",
       " '79': (8, 9),\n",
       " '8': (1, 8),\n",
       " '80': (8, 10),\n",
       " '81': (9, 1),\n",
       " '82': (9, 2),\n",
       " '83': (9, 3),\n",
       " '84': (9, 4),\n",
       " '85': (9, 5),\n",
       " '86': (9, 6),\n",
       " '87': (9, 7),\n",
       " '88': (9, 8),\n",
       " '89': (9, 9),\n",
       " '9': (1, 9),\n",
       " '90': (9, 10),\n",
       " '91': (10, 1),\n",
       " '92': (10, 2),\n",
       " '93': (10, 3),\n",
       " '94': (10, 4),\n",
       " '95': (10, 5),\n",
       " '96': (10, 6),\n",
       " '97': (10, 7),\n",
       " '98': (10, 8),\n",
       " '99': (10, 9)}"
      ]
     },
     "execution_count": 13,
     "metadata": {},
     "output_type": "execute_result"
    }
   ],
   "source": [
    "OD_pair_label_dict_"
   ]
  },
  {
   "cell_type": "code",
   "execution_count": 14,
   "metadata": {
    "collapsed": false
   },
   "outputs": [
    {
     "data": {
      "text/plain": [
       "100"
      ]
     },
     "execution_count": 14,
     "metadata": {},
     "output_type": "execute_result"
    }
   ],
   "source": [
    "len(OD_pair_label_dict_)"
   ]
  },
  {
   "cell_type": "code",
   "execution_count": 15,
   "metadata": {
    "collapsed": true
   },
   "outputs": [],
   "source": [
    "# create O-D pair labels\n",
    "# create a dictionary mapping O-D pairs to labels\n",
    "\n",
    "import json\n",
    "\n",
    "n = 10  # number of nodes\n",
    "\n",
    "OD_pair_label_dict_refined = {}\n",
    "OD_pair_label_dict_refined_ = {}\n",
    "\n",
    "label = 1\n",
    "for i in range(n + 1)[1:]:\n",
    "    for j in range(n + 1)[1:]:\n",
    "        if i != j:\n",
    "            key = (i, j)\n",
    "            OD_pair_label_dict_refined[str(key)] = label\n",
    "            OD_pair_label_dict_refined_[str(label)] = key\n",
    "            label += 1\n",
    "        \n",
    "with open('od_pair_label_dict_Sioux_simp_refined.json', 'w') as json_file:\n",
    "    json.dump(OD_pair_label_dict_refined, json_file)\n",
    "    \n",
    "with open('od_pair_label_dict__Sioux_simp_refined.json', 'w') as json_file:\n",
    "    json.dump(OD_pair_label_dict_refined_, json_file)"
   ]
  },
  {
   "cell_type": "code",
   "execution_count": null,
   "metadata": {
    "collapsed": true
   },
   "outputs": [],
   "source": []
  }
 ],
 "metadata": {
  "kernelspec": {
   "display_name": "Python 2",
   "language": "python",
   "name": "python2"
  },
  "language_info": {
   "codemirror_mode": {
    "name": "ipython",
    "version": 2
   },
   "file_extension": ".py",
   "mimetype": "text/x-python",
   "name": "python",
   "nbconvert_exporter": "python",
   "pygments_lexer": "ipython2",
   "version": "2.7.11"
  }
 },
 "nbformat": 4,
 "nbformat_minor": 0
}
