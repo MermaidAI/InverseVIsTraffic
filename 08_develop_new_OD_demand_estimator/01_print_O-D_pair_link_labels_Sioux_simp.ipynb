{
 "cells": [
  {
   "cell_type": "code",
   "execution_count": 1,
   "metadata": {
    "collapsed": true
   },
   "outputs": [],
   "source": [
    "%run ../Python_files/print_O-D_pair_link_labels_Sioux_simp.py"
   ]
  },
  {
   "cell_type": "code",
   "execution_count": 2,
   "metadata": {
    "collapsed": true
   },
   "outputs": [],
   "source": [
    "link_label_dict_ = zload('../temp_files/link_label_dict_Sioux_simp_.pkz')"
   ]
  },
  {
   "cell_type": "code",
   "execution_count": 3,
   "metadata": {
    "collapsed": false
   },
   "outputs": [
    {
     "data": {
      "text/plain": [
       "{'1->2': 0,\n",
       " '1->3': 1,\n",
       " '10->11': 23,\n",
       " '10->9': 22,\n",
       " '11->10': 25,\n",
       " '11->4': 24,\n",
       " '2->1': 2,\n",
       " '2->6': 3,\n",
       " '3->1': 4,\n",
       " '3->4': 5,\n",
       " '4->11': 8,\n",
       " '4->3': 6,\n",
       " '4->5': 7,\n",
       " '5->4': 9,\n",
       " '5->6': 10,\n",
       " '5->9': 11,\n",
       " '6->2': 12,\n",
       " '6->5': 13,\n",
       " '6->8': 14,\n",
       " '7->8': 15,\n",
       " '8->6': 16,\n",
       " '8->7': 17,\n",
       " '8->9': 18,\n",
       " '9->10': 21,\n",
       " '9->5': 19,\n",
       " '9->8': 20}"
      ]
     },
     "execution_count": 3,
     "metadata": {},
     "output_type": "execute_result"
    }
   ],
   "source": [
    "link_label_dict_"
   ]
  },
  {
   "cell_type": "code",
   "execution_count": 4,
   "metadata": {
    "collapsed": true
   },
   "outputs": [],
   "source": [
    "OD_pair_label_dict_ = zload('../temp_files/OD_pair_label_dict__Sioux_simp.pkz')"
   ]
  },
  {
   "cell_type": "code",
   "execution_count": 5,
   "metadata": {
    "collapsed": false
   },
   "outputs": [
    {
     "data": {
      "text/plain": [
       "{'0': (1, 2),\n",
       " '1': (1, 3),\n",
       " '10': (2, 1),\n",
       " '100': (11, 1),\n",
       " '101': (11, 2),\n",
       " '102': (11, 3),\n",
       " '103': (11, 4),\n",
       " '104': (11, 5),\n",
       " '105': (11, 6),\n",
       " '106': (11, 7),\n",
       " '107': (11, 8),\n",
       " '108': (11, 9),\n",
       " '109': (11, 10),\n",
       " '11': (2, 3),\n",
       " '12': (2, 4),\n",
       " '13': (2, 5),\n",
       " '14': (2, 6),\n",
       " '15': (2, 7),\n",
       " '16': (2, 8),\n",
       " '17': (2, 9),\n",
       " '18': (2, 10),\n",
       " '19': (2, 11),\n",
       " '2': (1, 4),\n",
       " '20': (3, 1),\n",
       " '21': (3, 2),\n",
       " '22': (3, 4),\n",
       " '23': (3, 5),\n",
       " '24': (3, 6),\n",
       " '25': (3, 7),\n",
       " '26': (3, 8),\n",
       " '27': (3, 9),\n",
       " '28': (3, 10),\n",
       " '29': (3, 11),\n",
       " '3': (1, 5),\n",
       " '30': (4, 1),\n",
       " '31': (4, 2),\n",
       " '32': (4, 3),\n",
       " '33': (4, 5),\n",
       " '34': (4, 6),\n",
       " '35': (4, 7),\n",
       " '36': (4, 8),\n",
       " '37': (4, 9),\n",
       " '38': (4, 10),\n",
       " '39': (4, 11),\n",
       " '4': (1, 6),\n",
       " '40': (5, 1),\n",
       " '41': (5, 2),\n",
       " '42': (5, 3),\n",
       " '43': (5, 4),\n",
       " '44': (5, 6),\n",
       " '45': (5, 7),\n",
       " '46': (5, 8),\n",
       " '47': (5, 9),\n",
       " '48': (5, 10),\n",
       " '49': (5, 11),\n",
       " '5': (1, 7),\n",
       " '50': (6, 1),\n",
       " '51': (6, 2),\n",
       " '52': (6, 3),\n",
       " '53': (6, 4),\n",
       " '54': (6, 5),\n",
       " '55': (6, 7),\n",
       " '56': (6, 8),\n",
       " '57': (6, 9),\n",
       " '58': (6, 10),\n",
       " '59': (6, 11),\n",
       " '6': (1, 8),\n",
       " '60': (7, 1),\n",
       " '61': (7, 2),\n",
       " '62': (7, 3),\n",
       " '63': (7, 4),\n",
       " '64': (7, 5),\n",
       " '65': (7, 6),\n",
       " '66': (7, 8),\n",
       " '67': (7, 9),\n",
       " '68': (7, 10),\n",
       " '69': (7, 11),\n",
       " '7': (1, 9),\n",
       " '70': (8, 1),\n",
       " '71': (8, 2),\n",
       " '72': (8, 3),\n",
       " '73': (8, 4),\n",
       " '74': (8, 5),\n",
       " '75': (8, 6),\n",
       " '76': (8, 7),\n",
       " '77': (8, 9),\n",
       " '78': (8, 10),\n",
       " '79': (8, 11),\n",
       " '8': (1, 10),\n",
       " '80': (9, 1),\n",
       " '81': (9, 2),\n",
       " '82': (9, 3),\n",
       " '83': (9, 4),\n",
       " '84': (9, 5),\n",
       " '85': (9, 6),\n",
       " '86': (9, 7),\n",
       " '87': (9, 8),\n",
       " '88': (9, 10),\n",
       " '89': (9, 11),\n",
       " '9': (1, 11),\n",
       " '90': (10, 1),\n",
       " '91': (10, 2),\n",
       " '92': (10, 3),\n",
       " '93': (10, 4),\n",
       " '94': (10, 5),\n",
       " '95': (10, 6),\n",
       " '96': (10, 7),\n",
       " '97': (10, 8),\n",
       " '98': (10, 9),\n",
       " '99': (10, 11)}"
      ]
     },
     "execution_count": 5,
     "metadata": {},
     "output_type": "execute_result"
    }
   ],
   "source": [
    "OD_pair_label_dict_"
   ]
  },
  {
   "cell_type": "code",
   "execution_count": 6,
   "metadata": {
    "collapsed": false
   },
   "outputs": [],
   "source": [
    "import json\n",
    "\n",
    "link_length_dict_Sioux = {}\n",
    "\n",
    "length_list = []\n",
    "with open('../data_traffic_assignment_uni-class/SiouxFalls_net_simp.txt', 'r') as f:\n",
    "    read_data = f.readlines()\n",
    "    flag = 0\n",
    "    for row in read_data:\n",
    "        if ';' in row:\n",
    "            flag += 1\n",
    "            if flag > 1:\n",
    "                length_list.append(float(row.split('\\t')[4]))\n",
    "                \n",
    "for idx in range(len(length_list)):\n",
    "    key = str(idx)\n",
    "    link_length_dict_Sioux[key] = length_list[idx]\n",
    "\n",
    "with open('../temp_files/link_length_dict_Sioux_simp.json', 'w') as json_file:\n",
    "    json.dump(link_length_dict_Sioux, json_file)"
   ]
  },
  {
   "cell_type": "code",
   "execution_count": 7,
   "metadata": {
    "collapsed": false
   },
   "outputs": [
    {
     "data": {
      "text/plain": [
       "{'0': 6.0,\n",
       " '1': 4.0,\n",
       " '10': 4.0,\n",
       " '11': 5.0,\n",
       " '12': 5.0,\n",
       " '13': 4.0,\n",
       " '14': 2.0,\n",
       " '15': 3.0,\n",
       " '16': 2.0,\n",
       " '17': 3.0,\n",
       " '18': 10.0,\n",
       " '19': 5.0,\n",
       " '2': 6.0,\n",
       " '20': 10.0,\n",
       " '21': 3.0,\n",
       " '22': 3.0,\n",
       " '23': 5.0,\n",
       " '24': 6.0,\n",
       " '25': 5.0,\n",
       " '3': 5.0,\n",
       " '4': 4.0,\n",
       " '5': 4.0,\n",
       " '6': 4.0,\n",
       " '7': 2.0,\n",
       " '8': 6.0,\n",
       " '9': 2.0}"
      ]
     },
     "execution_count": 7,
     "metadata": {},
     "output_type": "execute_result"
    }
   ],
   "source": [
    "link_length_dict_Sioux"
   ]
  },
  {
   "cell_type": "code",
   "execution_count": 8,
   "metadata": {
    "collapsed": false
   },
   "outputs": [],
   "source": [
    "with open('../temp_files/path-link_incidence_Sioux_simp.txt', 'r') as the_file:\n",
    "    # path counts\n",
    "    i = 0  \n",
    "    for row in the_file:\n",
    "        if '->' in row:\n",
    "            i = i + 1"
   ]
  },
  {
   "cell_type": "code",
   "execution_count": 9,
   "metadata": {
    "collapsed": false
   },
   "outputs": [
    {
     "data": {
      "text/plain": [
       "622"
      ]
     },
     "execution_count": 9,
     "metadata": {},
     "output_type": "execute_result"
    }
   ],
   "source": [
    "i"
   ]
  },
  {
   "cell_type": "code",
   "execution_count": 10,
   "metadata": {
    "collapsed": false
   },
   "outputs": [],
   "source": [
    "# number of links\n",
    "m = 26\n",
    "\n",
    "# create link labels\n",
    "# create a dictionary mapping directed links to labels\n",
    "link_label_dict = {}\n",
    "link_label_dict_ = {}\n",
    "        \n",
    "link_list = ['1,2','1,3','2,1','2,6','3,1','3,4','4,3','4,5','4,11','5,4','5,6',\n",
    "             '5,9','6,2','6,5','6,8','7,8','8,6','8,7','8,9','9,5','9,8','9,10',\n",
    "             '10,9','10,11','11,4','11,10']\n",
    "\n",
    "for i in range(m):\n",
    "    link_label_dict[str(i)] = link_list[i]\n",
    "\n",
    "for i in range(m):\n",
    "    link_label_dict_[link_list[i]] = i\n",
    "\n",
    "with open('link_label_dict_Sioux_simp.json', 'w') as json_file:\n",
    "    json.dump(link_label_dict, json_file)\n",
    "    \n",
    "with open('link_label_dict_Sioux_simp_.json', 'w') as json_file:\n",
    "    json.dump(link_label_dict_, json_file)"
   ]
  },
  {
   "cell_type": "code",
   "execution_count": 11,
   "metadata": {
    "collapsed": false
   },
   "outputs": [
    {
     "data": {
      "text/plain": [
       "{'1,2': 0,\n",
       " '1,3': 1,\n",
       " '10,11': 23,\n",
       " '10,9': 22,\n",
       " '11,10': 25,\n",
       " '11,4': 24,\n",
       " '2,1': 2,\n",
       " '2,6': 3,\n",
       " '3,1': 4,\n",
       " '3,4': 5,\n",
       " '4,11': 8,\n",
       " '4,3': 6,\n",
       " '4,5': 7,\n",
       " '5,4': 9,\n",
       " '5,6': 10,\n",
       " '5,9': 11,\n",
       " '6,2': 12,\n",
       " '6,5': 13,\n",
       " '6,8': 14,\n",
       " '7,8': 15,\n",
       " '8,6': 16,\n",
       " '8,7': 17,\n",
       " '8,9': 18,\n",
       " '9,10': 21,\n",
       " '9,5': 19,\n",
       " '9,8': 20}"
      ]
     },
     "execution_count": 11,
     "metadata": {},
     "output_type": "execute_result"
    }
   ],
   "source": [
    "link_label_dict_"
   ]
  },
  {
   "cell_type": "code",
   "execution_count": 12,
   "metadata": {
    "collapsed": false
   },
   "outputs": [],
   "source": [
    "# create O-D pair labels\n",
    "# create a dictionary mapping O-D pairs to labels\n",
    "\n",
    "import json\n",
    "\n",
    "n = 11  # number of nodes\n",
    "\n",
    "OD_pair_label_dict = {}\n",
    "OD_pair_label_dict_ = {}\n",
    "\n",
    "label = 1\n",
    "for i in range(n + 1)[1:]:\n",
    "    for j in range(n + 1)[1:]:\n",
    "        key = (i, j)\n",
    "        OD_pair_label_dict[str(key)] = label\n",
    "        OD_pair_label_dict_[str(label)] = key\n",
    "        label += 1\n",
    "        \n",
    "with open('od_pair_label_dict_Sioux_simp.json', 'w') as json_file:\n",
    "    json.dump(OD_pair_label_dict, json_file)\n",
    "    \n",
    "with open('od_pair_label_dict__Sioux_simp.json', 'w') as json_file:\n",
    "    json.dump(OD_pair_label_dict_, json_file)"
   ]
  },
  {
   "cell_type": "code",
   "execution_count": 13,
   "metadata": {
    "collapsed": false
   },
   "outputs": [
    {
     "data": {
      "text/plain": [
       "{'1': (1, 1),\n",
       " '10': (1, 10),\n",
       " '100': (10, 1),\n",
       " '101': (10, 2),\n",
       " '102': (10, 3),\n",
       " '103': (10, 4),\n",
       " '104': (10, 5),\n",
       " '105': (10, 6),\n",
       " '106': (10, 7),\n",
       " '107': (10, 8),\n",
       " '108': (10, 9),\n",
       " '109': (10, 10),\n",
       " '11': (1, 11),\n",
       " '110': (10, 11),\n",
       " '111': (11, 1),\n",
       " '112': (11, 2),\n",
       " '113': (11, 3),\n",
       " '114': (11, 4),\n",
       " '115': (11, 5),\n",
       " '116': (11, 6),\n",
       " '117': (11, 7),\n",
       " '118': (11, 8),\n",
       " '119': (11, 9),\n",
       " '12': (2, 1),\n",
       " '120': (11, 10),\n",
       " '121': (11, 11),\n",
       " '13': (2, 2),\n",
       " '14': (2, 3),\n",
       " '15': (2, 4),\n",
       " '16': (2, 5),\n",
       " '17': (2, 6),\n",
       " '18': (2, 7),\n",
       " '19': (2, 8),\n",
       " '2': (1, 2),\n",
       " '20': (2, 9),\n",
       " '21': (2, 10),\n",
       " '22': (2, 11),\n",
       " '23': (3, 1),\n",
       " '24': (3, 2),\n",
       " '25': (3, 3),\n",
       " '26': (3, 4),\n",
       " '27': (3, 5),\n",
       " '28': (3, 6),\n",
       " '29': (3, 7),\n",
       " '3': (1, 3),\n",
       " '30': (3, 8),\n",
       " '31': (3, 9),\n",
       " '32': (3, 10),\n",
       " '33': (3, 11),\n",
       " '34': (4, 1),\n",
       " '35': (4, 2),\n",
       " '36': (4, 3),\n",
       " '37': (4, 4),\n",
       " '38': (4, 5),\n",
       " '39': (4, 6),\n",
       " '4': (1, 4),\n",
       " '40': (4, 7),\n",
       " '41': (4, 8),\n",
       " '42': (4, 9),\n",
       " '43': (4, 10),\n",
       " '44': (4, 11),\n",
       " '45': (5, 1),\n",
       " '46': (5, 2),\n",
       " '47': (5, 3),\n",
       " '48': (5, 4),\n",
       " '49': (5, 5),\n",
       " '5': (1, 5),\n",
       " '50': (5, 6),\n",
       " '51': (5, 7),\n",
       " '52': (5, 8),\n",
       " '53': (5, 9),\n",
       " '54': (5, 10),\n",
       " '55': (5, 11),\n",
       " '56': (6, 1),\n",
       " '57': (6, 2),\n",
       " '58': (6, 3),\n",
       " '59': (6, 4),\n",
       " '6': (1, 6),\n",
       " '60': (6, 5),\n",
       " '61': (6, 6),\n",
       " '62': (6, 7),\n",
       " '63': (6, 8),\n",
       " '64': (6, 9),\n",
       " '65': (6, 10),\n",
       " '66': (6, 11),\n",
       " '67': (7, 1),\n",
       " '68': (7, 2),\n",
       " '69': (7, 3),\n",
       " '7': (1, 7),\n",
       " '70': (7, 4),\n",
       " '71': (7, 5),\n",
       " '72': (7, 6),\n",
       " '73': (7, 7),\n",
       " '74': (7, 8),\n",
       " '75': (7, 9),\n",
       " '76': (7, 10),\n",
       " '77': (7, 11),\n",
       " '78': (8, 1),\n",
       " '79': (8, 2),\n",
       " '8': (1, 8),\n",
       " '80': (8, 3),\n",
       " '81': (8, 4),\n",
       " '82': (8, 5),\n",
       " '83': (8, 6),\n",
       " '84': (8, 7),\n",
       " '85': (8, 8),\n",
       " '86': (8, 9),\n",
       " '87': (8, 10),\n",
       " '88': (8, 11),\n",
       " '89': (9, 1),\n",
       " '9': (1, 9),\n",
       " '90': (9, 2),\n",
       " '91': (9, 3),\n",
       " '92': (9, 4),\n",
       " '93': (9, 5),\n",
       " '94': (9, 6),\n",
       " '95': (9, 7),\n",
       " '96': (9, 8),\n",
       " '97': (9, 9),\n",
       " '98': (9, 10),\n",
       " '99': (9, 11)}"
      ]
     },
     "execution_count": 13,
     "metadata": {},
     "output_type": "execute_result"
    }
   ],
   "source": [
    "OD_pair_label_dict_"
   ]
  },
  {
   "cell_type": "code",
   "execution_count": 14,
   "metadata": {
    "collapsed": false
   },
   "outputs": [
    {
     "data": {
      "text/plain": [
       "121"
      ]
     },
     "execution_count": 14,
     "metadata": {},
     "output_type": "execute_result"
    }
   ],
   "source": [
    "len(OD_pair_label_dict_)"
   ]
  },
  {
   "cell_type": "code",
   "execution_count": 15,
   "metadata": {
    "collapsed": true
   },
   "outputs": [],
   "source": [
    "# create O-D pair labels\n",
    "# create a dictionary mapping O-D pairs to labels\n",
    "\n",
    "import json\n",
    "\n",
    "n = 11  # number of nodes\n",
    "\n",
    "OD_pair_label_dict_refined = {}\n",
    "OD_pair_label_dict_refined_ = {}\n",
    "\n",
    "label = 1\n",
    "for i in range(n + 1)[1:]:\n",
    "    for j in range(n + 1)[1:]:\n",
    "        if i != j:\n",
    "            key = (i, j)\n",
    "            OD_pair_label_dict_refined[str(key)] = label\n",
    "            OD_pair_label_dict_refined_[str(label)] = key\n",
    "            label += 1\n",
    "        \n",
    "with open('od_pair_label_dict_Sioux_simp_refined.json', 'w') as json_file:\n",
    "    json.dump(OD_pair_label_dict_refined, json_file)\n",
    "    \n",
    "with open('od_pair_label_dict__Sioux_simp_refined.json', 'w') as json_file:\n",
    "    json.dump(OD_pair_label_dict_refined_, json_file)"
   ]
  },
  {
   "cell_type": "code",
   "execution_count": null,
   "metadata": {
    "collapsed": true
   },
   "outputs": [],
   "source": []
  }
 ],
 "metadata": {
  "kernelspec": {
   "display_name": "Python 2",
   "language": "python",
   "name": "python2"
  },
  "language_info": {
   "codemirror_mode": {
    "name": "ipython",
    "version": 2
   },
   "file_extension": ".py",
   "mimetype": "text/x-python",
   "name": "python",
   "nbconvert_exporter": "python",
   "pygments_lexer": "ipython2",
   "version": "2.7.11"
  }
 },
 "nbformat": 4,
 "nbformat_minor": 0
}
