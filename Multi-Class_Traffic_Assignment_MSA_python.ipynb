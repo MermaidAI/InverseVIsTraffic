{
 "cells": [
  {
   "cell_type": "code",
   "execution_count": 1,
   "metadata": {
    "collapsed": true
   },
   "outputs": [],
   "source": [
    "import numpy as np"
   ]
  },
  {
   "cell_type": "code",
   "execution_count": 2,
   "metadata": {
    "collapsed": true
   },
   "outputs": [],
   "source": [
    "# Sioux Falls network data\n",
    "# http://www.bgu.ac.il/~bargera/tntp/\n",
    "\n",
    "#Link travel time = free flow time * ( 1 + B * (flow/capacity)^Power ).\n",
    "#Link generalized cost = Link travel time + toll_factor * toll + distance_factor * distance\n",
    "\n",
    "# Traffic Assignment Data structure\n",
    "\n",
    "class TA_Data(object):\n",
    "    \n",
    "    def __init__(self, network_name, \\\n",
    "                 number_of_zones, number_of_nodes, number_of_links, \\\n",
    "                 start_node, end_node, capacity, free_flow_time, \\\n",
    "                 B, power, total_od_flow, travel_demand, od_pairs):\n",
    "        self.network_name = network_name\n",
    "        self.number_of_zones = number_of_zones\n",
    "        self.number_of_nodes = number_of_nodes\n",
    "        self.number_of_links = number_of_links\n",
    "        self.start_node = start_node\n",
    "        self.end_node = end_node\n",
    "        self.capacity = capacity\n",
    "        self.free_flow_time = free_flow_time\n",
    "        self.B = B\n",
    "        self.power = power\n",
    "        self.total_od_flow = total_od_flow\n",
    "        self.travel_demand = travel_demand\n",
    "        self.od_pairs = od_pairs"
   ]
  },
  {
   "cell_type": "code",
   "execution_count": 3,
   "metadata": {
    "collapsed": false
   },
   "outputs": [],
   "source": [
    "def load_ta_network(network_name):\n",
    "    if network_name == 'Sioux Falls':\n",
    "        network_data_file = './data/SiouxFalls_net.txt'\n",
    "        trip_table_file = './data/SiouxFalls_trips.txt' \n",
    "    else:\n",
    "        raise Exception(\"Invalid network_name; use 'Sioux Falls'.\")\n",
    "\n",
    "    ################\n",
    "    # Network Data\n",
    "    ################\n",
    "    start_node = []\n",
    "    end_node = []\n",
    "    capacity = []\n",
    "    free_flow_time = []\n",
    "    B = []\n",
    "    power = []\n",
    "\n",
    "    with open(network_data_file) as network_data_file_:\n",
    "        for line in network_data_file_:\n",
    "            if '<NUMBER OF ZONES>' in line:\n",
    "                number_of_zones = [int(s) for s in line.split() if s.isdigit()][0]\n",
    "            elif '<NUMBER OF NODES>' in line:\n",
    "                number_of_nodes = [int(s) for s in line.split() if s.isdigit()][0]\n",
    "            elif '<NUMBER OF LINKS>' in line:\n",
    "                number_of_links = [int(s) for s in line.split() if s.isdigit()][0]\n",
    "                assert(number_of_links > 0)\n",
    "            elif '<FIRST THRU NODE>' in line or '<END OF METADATA>' in line or '~' in line or line == '\\n':\n",
    "                continue\n",
    "            else:\n",
    "                start_node.append(int(line.split()[0]))\n",
    "                end_node.append(int(line.split()[1]))\n",
    "                capacity.append(float(line.split()[2]))\n",
    "                free_flow_time.append(float(line.split()[4]))\n",
    "                B.append(float(line.split()[5]))\n",
    "                power.append(int(line.split()[6]))\n",
    "\n",
    "    ##############\n",
    "    # Trip Table\n",
    "    ##############\n",
    "    travel_demand = np.zeros((number_of_zones, number_of_zones))\n",
    "    od_pairs = []\n",
    "\n",
    "    with open(trip_table_file) as trip_table_file_:\n",
    "        for line in trip_table_file_:\n",
    "            if '<NUMBER OF ZONES>' in line:\n",
    "                number_of_zones_trip = [int(s) for s in line.split() if s.isdigit()][0]\n",
    "                # Check if number_of_zone is same in both txt files\n",
    "                assert(number_of_zones_trip == number_of_zones) \n",
    "            elif '<TOTAL OD FLOW>' in line:\n",
    "                total_od_flow = [float(s) for s in line.split() if s.replace('.','',1).isdigit()][0]\n",
    "                assert(total_od_flow > 0)\n",
    "            elif '<END OF METADATA>' in line or line == '\\n':\n",
    "                continue\n",
    "            else:\n",
    "                if 'Origin' in line:\n",
    "                    origin = int(line.split()[1])\n",
    "                elif ';' in line:\n",
    "                    pairs = line.split(';')\n",
    "                    for i in range(len(pairs)):\n",
    "                        if ':' in pairs[i]:\n",
    "                            pair = pairs[i].split(':')\n",
    "                            destination = int(pair[0])\n",
    "                            od_flow = float(pair[1])\n",
    "                            travel_demand[origin-1, destination-1] = od_flow\n",
    "                            od_pairs.append((origin, destination))\n",
    "\n",
    "    ta_data = TA_Data(\n",
    "    network_name,\n",
    "    number_of_zones,\n",
    "    number_of_nodes,\n",
    "    number_of_links,\n",
    "    start_node,\n",
    "    end_node,\n",
    "    capacity,\n",
    "    free_flow_time,\n",
    "    B,\n",
    "    power,\n",
    "    total_od_flow,\n",
    "    travel_demand,\n",
    "    od_pairs)\n",
    "\n",
    "    return ta_data\n"
   ]
  },
  {
   "cell_type": "code",
   "execution_count": 4,
   "metadata": {
    "collapsed": false
   },
   "outputs": [
    {
     "ename": "Exception",
     "evalue": "Invalid network_name; use 'Sioux Falls'.",
     "output_type": "error",
     "traceback": [
      "\u001b[1;31m---------------------------------------------------------------------------\u001b[0m",
      "\u001b[1;31mException\u001b[0m                                 Traceback (most recent call last)",
      "\u001b[1;32m<ipython-input-4-99b77e914374>\u001b[0m in \u001b[0;36m<module>\u001b[1;34m()\u001b[0m\n\u001b[1;32m----> 1\u001b[1;33m \u001b[0mta_data\u001b[0m \u001b[1;33m=\u001b[0m \u001b[0mload_ta_network\u001b[0m\u001b[1;33m(\u001b[0m\u001b[1;34m'Sioux Fall'\u001b[0m\u001b[1;33m)\u001b[0m\u001b[1;33m\u001b[0m\u001b[0m\n\u001b[0m",
      "\u001b[1;32m<ipython-input-3-bf4a22eacf2a>\u001b[0m in \u001b[0;36mload_ta_network\u001b[1;34m(network_name)\u001b[0m\n\u001b[0;32m      4\u001b[0m         \u001b[0mtrip_table_file\u001b[0m \u001b[1;33m=\u001b[0m \u001b[1;34m'./data/SiouxFalls_trips.txt'\u001b[0m\u001b[1;33m\u001b[0m\u001b[0m\n\u001b[0;32m      5\u001b[0m     \u001b[1;32melse\u001b[0m\u001b[1;33m:\u001b[0m\u001b[1;33m\u001b[0m\u001b[0m\n\u001b[1;32m----> 6\u001b[1;33m         \u001b[1;32mraise\u001b[0m \u001b[0mException\u001b[0m\u001b[1;33m(\u001b[0m\u001b[1;34m\"Invalid network_name; use 'Sioux Falls'.\"\u001b[0m\u001b[1;33m)\u001b[0m\u001b[1;33m\u001b[0m\u001b[0m\n\u001b[0m\u001b[0;32m      7\u001b[0m \u001b[1;33m\u001b[0m\u001b[0m\n\u001b[0;32m      8\u001b[0m     \u001b[1;31m################\u001b[0m\u001b[1;33m\u001b[0m\u001b[1;33m\u001b[0m\u001b[0m\n",
      "\u001b[1;31mException\u001b[0m: Invalid network_name; use 'Sioux Falls'."
     ]
    }
   ],
   "source": [
    "ta_data = load_ta_network('Sioux Fall')"
   ]
  },
  {
   "cell_type": "code",
   "execution_count": 5,
   "metadata": {
    "collapsed": false
   },
   "outputs": [],
   "source": [
    "ta_data = load_ta_network('Sioux Falls')"
   ]
  },
  {
   "cell_type": "code",
   "execution_count": 7,
   "metadata": {
    "collapsed": false
   },
   "outputs": [
    {
     "data": {
      "text/plain": [
       "[25900.20064,\n",
       " 23403.47319,\n",
       " 25900.20064,\n",
       " 4958.180928,\n",
       " 23403.47319,\n",
       " 17110.52372,\n",
       " 23403.47319,\n",
       " 17110.52372,\n",
       " 17782.7941,\n",
       " 4908.82673,\n",
       " 17782.7941,\n",
       " 4947.995469,\n",
       " 10000.0,\n",
       " 4958.180928,\n",
       " 4947.995469,\n",
       " 4898.587646,\n",
       " 7841.81131,\n",
       " 23403.47319,\n",
       " 4898.587646,\n",
       " 7841.81131,\n",
       " 5050.193156,\n",
       " 5045.822583,\n",
       " 10000.0,\n",
       " 5050.193156,\n",
       " 13915.78842,\n",
       " 13915.78842,\n",
       " 10000.0,\n",
       " 13512.00155,\n",
       " 4854.917717,\n",
       " 4993.510694,\n",
       " 4908.82673,\n",
       " 10000.0,\n",
       " 4908.82673,\n",
       " 4876.508287,\n",
       " 23403.47319,\n",
       " 4908.82673,\n",
       " 25900.20064,\n",
       " 25900.20064,\n",
       " 5091.256152,\n",
       " 4876.508287,\n",
       " 5127.526119,\n",
       " 4924.790605,\n",
       " 13512.00155,\n",
       " 5127.526119,\n",
       " 14564.75315,\n",
       " 9599.180565,\n",
       " 5045.822583,\n",
       " 4854.917717,\n",
       " 5229.910063,\n",
       " 19679.89671,\n",
       " 4993.510694,\n",
       " 5229.910063,\n",
       " 4823.950831,\n",
       " 23403.47319,\n",
       " 19679.89671,\n",
       " 23403.47319,\n",
       " 14564.75315,\n",
       " 4823.950831,\n",
       " 5002.607563,\n",
       " 23403.47319,\n",
       " 5002.607563,\n",
       " 5059.91234,\n",
       " 5075.697193,\n",
       " 5059.91234,\n",
       " 5229.910063,\n",
       " 4885.357564,\n",
       " 9599.180565,\n",
       " 5075.697193,\n",
       " 5229.910063,\n",
       " 5000.0,\n",
       " 4924.790605,\n",
       " 5000.0,\n",
       " 5078.508436,\n",
       " 5091.256152,\n",
       " 4885.357564,\n",
       " 5078.508436]"
      ]
     },
     "execution_count": 7,
     "metadata": {},
     "output_type": "execute_result"
    }
   ],
   "source": [
    "ta_data.capacity"
   ]
  },
  {
   "cell_type": "code",
   "execution_count": null,
   "metadata": {
    "collapsed": true
   },
   "outputs": [],
   "source": []
  }
 ],
 "metadata": {
  "kernelspec": {
   "display_name": "Python 2",
   "language": "python",
   "name": "python2"
  },
  "language_info": {
   "codemirror_mode": {
    "name": "ipython",
    "version": 2
   },
   "file_extension": ".py",
   "mimetype": "text/x-python",
   "name": "python",
   "nbconvert_exporter": "python",
   "pygments_lexer": "ipython2",
   "version": "2.7.6"
  }
 },
 "nbformat": 4,
 "nbformat_minor": 0
}
