{
 "metadata": {
  "name": ""
 },
 "nbformat": 3,
 "nbformat_minor": 0,
 "worksheets": [
  {
   "cells": [
    {
     "cell_type": "code",
     "collapsed": false,
     "input": [
      "cd(\"/home/jzh/Dropbox/Research/Data-driven_estimation_inverse_optimization/Experiments/InverseVIsTraffic\")"
     ],
     "language": "python",
     "metadata": {},
     "outputs": [],
     "prompt_number": 1
    },
    {
     "cell_type": "code",
     "collapsed": false,
     "input": [
      "#include(\"defArc.jl\")\n",
      "\n",
      "type Arc\n",
      "    initNode::Int \n",
      "    termNode::Int \n",
      "    capacity::Float64\n",
      "    freeflowtime::Float64\n",
      "    trueflow::Float64\n",
      "    obsflow::Float64\n",
      "end\n",
      "\n",
      "Arc(initNode::Int, termNode::Int, capacity::Float64,freeflowtime::Float64) = \n",
      "    Arc(initNode, termNode, capacity, freeflowtime, 0., 0.)"
     ],
     "language": "python",
     "metadata": {},
     "outputs": [
      {
       "metadata": {},
       "output_type": "pyout",
       "prompt_number": 2,
       "text": [
        "Arc (constructor with 3 methods)"
       ]
      }
     ],
     "prompt_number": 2
    },
    {
     "cell_type": "code",
     "collapsed": false,
     "input": [
      "#include(\"fitTraffic.jl\")\n",
      "\n",
      "## Solve an inverse tarffic problem over polynomials of degree at most d\n",
      "## optionally use a regularizer from the poly kernel\n",
      "\n",
      "using JuMP\n",
      "using Gurobi\n",
      "using Graphs\n",
      "using Roots\n",
      "\n",
      "\n",
      "polyEval(coeffs, pt) = sum([coeffs[i] * pt^(i-1) for i = 1:length(coeffs)])  #VG think about faster way to do this\n",
      "polyEval(coeffs::Array{Float64, 1}, pt) = sum([coeffs[i] * pt^(i-1) for i = 1:length(coeffs)]) #separate for consts\n",
      "\n",
      "bpacost(flow::Float64, capacity::Float64, freeflowtime::Float64) = freeflowtime*(1 + .15 * (flow/capacity)^4)\n",
      "bpacost(flow::Float64, arc) = bpacost(flow, arc.capacity, arc.freeflowtime)\n",
      "bpacost(arc::Arc) = bpacost(arc.obsflow, arc)"
     ],
     "language": "python",
     "metadata": {},
     "outputs": [
      {
       "metadata": {},
       "output_type": "pyout",
       "prompt_number": 3,
       "text": [
        "bpacost (generic function with 3 methods)"
       ]
      }
     ],
     "prompt_number": 3
    },
    {
     "cell_type": "code",
     "collapsed": false,
     "input": [
      "function setUpFitting(deg::Int, c, odpairs, nodes)\n",
      "\tm = Model(solver=GurobiSolver(OutputFlag=false))\n",
      "\t@defVar(m, coeffs[1:deg+1])\n",
      "\t@defVar(m, Calphas[1:deg+1])\n",
      "\n",
      "\t##VG Probably want to go back and redo this with an intercept term\n",
      "\t#build the graham matrix\n",
      "\tsamples = linspace(0, 1, deg + 1)\n",
      "\tk(x,y) = (c + x*y)^deg\n",
      "\tK = [ k(x,y) for x = samples, y=samples]\n",
      "\tK = convert(Array{Float64, 2}, K)\n",
      "\tassert(rank(K) == deg+1)\n",
      "\tC = chol(K + 1e-6* eye(deg+1))\n",
      "\tfor i=1:deg + 1\n",
      "\t\t@addConstraint(m, polyEval(coeffs, samples[i]) == \n",
      "\t\t\t\t\t\tsum{C[j, i] * Calphas[j], j=1:deg+1})\n",
      "\tend\n",
      "\t@defVar(m, reg_term >= 0)\n",
      "\treg_term_ = QuadExpr(Calphas[:], Calphas[:], ones(deg+1), AffExpr() )\n",
      "\t@addConstraint(m, reg_term >= reg_term_)\n",
      "\n",
      "\treturn m, coeffs, reg_term\n",
      "end"
     ],
     "language": "python",
     "metadata": {},
     "outputs": [
      {
       "metadata": {},
       "output_type": "pyout",
       "prompt_number": 4,
       "text": [
        "setUpFitting (generic function with 1 method)"
       ]
      }
     ],
     "prompt_number": 4
    },
    {
     "cell_type": "code",
     "collapsed": false,
     "input": [
      "function fixCoeffs(m, fcoeffs, coeffs)\n",
      "\tfor (fc, c) in zip(fcoeffs, coeffs[:])\n",
      "\t\t@addConstraint(m, fc == c)\n",
      "\tend\n",
      "end\n",
      "# function calcTrueCost(coeffs::Array{Float64, 1}, scaled_flows, free_flow_time, capacities)\n",
      "# \treturn sum([free_flow_time[a]*capacities[a]*scaled_flows[a]*polyEval(coeffs, scaled_flows[a]) \n",
      "# \t\t\t\tfor a=1:length(scaled_flows)])\n",
      "# end"
     ],
     "language": "python",
     "metadata": {},
     "outputs": [
      {
       "metadata": {},
       "output_type": "pyout",
       "prompt_number": 5,
       "text": [
        "fixCoeffs (generic function with 1 method)"
       ]
      }
     ],
     "prompt_number": 5
    },
    {
     "cell_type": "code",
     "collapsed": false,
     "input": [
      "function addResid(m, coeffs, ys, demands, arcs, scaling)\n",
      "\t@defVar(m, resid)\n",
      "\t@defVar(m, dual_cost)\n",
      "\t@defVar(m, primal_cost)\n",
      "\n",
      "\t@addConstraint(m, dual_cost == sum{demands[(s,t)] * (ys[(s,t), t] - ys[(s,t), s]), (s,t)=keys(demands)})  \n",
      "\t@addConstraint(m, primal_cost == sum{a.obsflow * a.freeflowtime * polyEval(coeffs, a.obsflow/a.capacity), a=values(arcs)})\n",
      "\n",
      "\t@addConstraint(m, resid >= (dual_cost - primal_cost) / scaling )\n",
      "\t@addConstraint(m, resid >= (primal_cost - dual_cost) / scaling )\n",
      "\treturn resid\n",
      "end"
     ],
     "language": "python",
     "metadata": {},
     "outputs": [
      {
       "metadata": {},
       "output_type": "pyout",
       "prompt_number": 6,
       "text": [
        "addResid (generic function with 1 method)"
       ]
      }
     ],
     "prompt_number": 6
    },
    {
     "cell_type": "code",
     "collapsed": false,
     "input": [
      "function addIncreasingCnsts(m, coeffs, arcs; TOL=0.)\n",
      "\tsorted_flows = sort([a.obsflow / a.capacity for a in values(arcs)])\n",
      "\t@addConstraint(m, polyEval(coeffs, 0) <= polyEval(coeffs, sorted_flows[1]))\n",
      "\tfor i = 2:length(sorted_flows)\n",
      "\t\t@addConstraint(m, polyEval(coeffs, sorted_flows[i-1]) <= polyEval(coeffs, sorted_flows[i]) + TOL)\n",
      "\tend\n",
      "end"
     ],
     "language": "python",
     "metadata": {},
     "outputs": [
      {
       "metadata": {},
       "output_type": "pyout",
       "prompt_number": 7,
       "text": [
        "addIncreasingCnsts (generic function with 1 method)"
       ]
      }
     ],
     "prompt_number": 7
    },
    {
     "cell_type": "code",
     "collapsed": false,
     "input": [
      "#equates the total cost of the network to the true total cost\n",
      "function normalize(m, coeffs, tot_true_cost::Float64, arcs)\n",
      "\t@addConstraint(m, \n",
      "\t\tsum{a.freeflowtime * a.obsflow * polyEval(coeffs, a.obsflow / a.capacity), \n",
      "\t\t\ta=values(arcs)} == tot_true_cost)\n",
      "end\n",
      "\n",
      "function normalize(m, coeffs, scaled_flow::Float64, cost::Float64)\n",
      "\t@addConstraint(m, polyEval(coeffs, scaled_flow) == cost)\n",
      "end\n",
      "\n",
      "function normalize(m, coeffs, scaled_flows::Array{Float64, 1}, avgCost::Float64)\n",
      "    @addConstraint(m, sum{polyEval(coeffs, f), f=scaled_flows} == avgCost * length(scaled_flows))\n",
      "end"
     ],
     "language": "python",
     "metadata": {},
     "outputs": [
      {
       "metadata": {},
       "output_type": "pyout",
       "prompt_number": 8,
       "text": [
        "normalize (generic function with 3 methods)"
       ]
      }
     ],
     "prompt_number": 8
    },
    {
     "cell_type": "code",
     "collapsed": false,
     "input": [
      "function addNetworkCnsts(m, coeffs, demands, arcs, numNodes)\n",
      "\t@defVar(m, ys[keys(demands), 1:numNodes])\n",
      "\tfor k = keys(arcs)\n",
      "\t\ta = arcs[k]\n",
      "\t\trhs = a.freeflowtime * polyEval(coeffs, a.obsflow/a.capacity)\n",
      "\t\tfor od in keys(demands)\n",
      "\t\t\t@addConstraint(m, ys[od, k[2]] - ys[od, k[1]] <= rhs)\n",
      "\t\tend\n",
      "\tend\n",
      "\treturn ys\n",
      "end"
     ],
     "language": "python",
     "metadata": {},
     "outputs": [
      {
       "metadata": {},
       "output_type": "pyout",
       "prompt_number": 9,
       "text": [
        "addNetworkCnsts (generic function with 1 method)"
       ]
      }
     ],
     "prompt_number": 9
    },
    {
     "cell_type": "code",
     "collapsed": false,
     "input": [
      "############\n",
      "#Read in the demand file\n",
      "file = open(\"./data_original/SiouxFalls_trips.txt\")\n",
      "demands = Dict{(Int64,Int64), Float64}()\n",
      "s = 0\n",
      "for line in eachline(file)\n",
      "    if contains(line, \"Origin\")\n",
      "        s = int(split(line)[2])\n",
      "    else\n",
      "        pairs = split(line, \";\")\n",
      "        for pair in pairs\n",
      "            if !contains(pair, \"\\n\")\n",
      "                pair_vals = split(pair, \":\")\n",
      "                t, demand = int(pair_vals[1]), float(pair_vals[2])\n",
      "                demands[(s,t)] = demand\n",
      "            end\n",
      "        end\n",
      "    end\n",
      "end                \n",
      "close(file)"
     ],
     "language": "python",
     "metadata": {},
     "outputs": [],
     "prompt_number": 10
    },
    {
     "cell_type": "code",
     "collapsed": false,
     "input": [
      "demands"
     ],
     "language": "python",
     "metadata": {},
     "outputs": [
      {
       "metadata": {},
       "output_type": "pyout",
       "prompt_number": 11,
       "text": [
        "Dict{(Int64,Int64),Float64} with 576 entries:\n",
        "  (23,8)  => 300.0\n",
        "  (8,23)  => 300.0\n",
        "  (6,9)   => 400.0\n",
        "  (18,3)  => 0.0\n",
        "  (21,13) => 600.0\n",
        "  (22,16) => 1200.0\n",
        "  (15,17) => 1500.0\n",
        "  (22,14) => 1200.0\n",
        "  (13,9)  => 600.0\n",
        "  (23,10) => 1800.0\n",
        "  (24,22) => 1100.0\n",
        "  (8,9)   => 800.0\n",
        "  (9,1)   => 500.0\n",
        "  (17,14) => 700.0\n",
        "  (16,6)  => 900.0\n",
        "  (16,12) => 700.0\n",
        "  (16,13) => 600.0\n",
        "  (22,2)  => 100.0\n",
        "  (24,3)  => 0.0\n",
        "  (7,16)  => 1400.0\n",
        "  (1,12)  => 200.0\n",
        "  (4,5)   => 500.0\n",
        "  (11,8)  => 800.0\n",
        "  (18,21) => 100.0\n",
        "  (19,4)  => 200.0\n",
        "  \u22ee       => \u22ee"
       ]
      }
     ],
     "prompt_number": 11
    },
    {
     "cell_type": "code",
     "collapsed": false,
     "input": [
      "############\n",
      "#read in the arc files\n",
      "arcs = Dict{(Int, Int), Arc}()\n",
      "file = open(\"./data_original/SiouxFalls_net.txt\")\n",
      "inHeader=true\n",
      "for line in eachline(file)\n",
      "    if inHeader\n",
      "        inHeader = !contains(line, \"Init node\")\n",
      "        continue\n",
      "    end\n",
      "    vals = split(line, )\n",
      "    arcs[(int(vals[1]), int(vals[2]))] = Arc(int(vals[1]), int(vals[2]), \n",
      "                                              float(vals[3]), float(vals[5]))\n",
      "end\n",
      "close(file)"
     ],
     "language": "python",
     "metadata": {},
     "outputs": [],
     "prompt_number": 12
    },
    {
     "cell_type": "code",
     "collapsed": false,
     "input": [
      "###########\n",
      "#read in the initial flows\n",
      "file = open(\"./data_original/SiouxFallsFlow.txt\")\n",
      "ix = 0; \n",
      "for line in eachline(file)\n",
      "    ix +=1\n",
      "    if ix ==1\n",
      "        continue\n",
      "    end\n",
      "    vals = split(line)\n",
      "    arcs[(int(vals[1]), int(vals[2]))].trueflow = float(vals[3])\n",
      "end\n",
      "close(file)"
     ],
     "language": "python",
     "metadata": {},
     "outputs": [],
     "prompt_number": 13
    },
    {
     "cell_type": "code",
     "collapsed": false,
     "input": [
      "#include(\"genSimData.jl\")\n",
      "\n",
      "## File that runs the entire cross-val analysis and dumps it for the traffic stuff\n",
      "\n",
      "\n",
      "#include(\"fitTraffic.jl\")\n",
      "#using PyPlot\n",
      "\n",
      "\n",
      "##########\n",
      "#Generate the simulated data\n",
      "##########\n",
      "numData = 1; sigma = .0\n",
      "flow_data = Array(Float64, length(arcs), numData)\n",
      "demand_data = Dict{(Int, Int), Array{Float64, 1}}()\n",
      "\n",
      "numNodes = maximum(map(pair->pair[1], keys(demands)))\n",
      "g = simple_inclist(numNodes, is_directed=true)\n",
      "vArcs = Arc[]\n",
      "for arc in values(arcs)\n",
      "    arc.obsflow = arc.trueflow\n",
      "    add_edge!(g, arc.initNode, arc.termNode) \n",
      "    push!(vArcs, arc)\n",
      "end"
     ],
     "language": "python",
     "metadata": {},
     "outputs": [],
     "prompt_number": 14
    },
    {
     "cell_type": "code",
     "collapsed": false,
     "input": [
      "print(g)"
     ],
     "language": "python",
     "metadata": {},
     "outputs": [
      {
       "output_type": "stream",
       "stream": "stdout",
       "text": [
        "Directed Graph (24 vertices, 76 edges)"
       ]
      }
     ],
     "prompt_number": 15
    },
    {
     "cell_type": "code",
     "collapsed": false,
     "input": [
      "using DataFrames, Resampling\n",
      "\n",
      "\n",
      "##########\n",
      "#Fitting Funcs\n",
      "##########\n",
      "#build a little train function that just takes indices\n",
      "function train(indices, lam::Float64, deg::Int, c::Float64, \n",
      "                demand_data, flow_data, arcs; fcoeffs=nothing)\n",
      "    numNodes = maximum(map(pair->pair[1], keys(arcs)))\n",
      "    m, coeffs, reg_term = setUpFitting(deg, c, [k for k=keys(demand_data)], 1:numNodes)\n",
      "    \n",
      "    for a in values(arcs)\n",
      "        a.obsflow = a.trueflow\n",
      "    end\n",
      "    addIncreasingCnsts(m, coeffs, arcs, TOL=1e-8)  #uses the original obs flows\n",
      "\n",
      "    avgCost = mean( [bpacost(a.obsflow, a.capacity, 1.0) for a in values(arcs)] )\n",
      "    normalize(m, coeffs, [a.obsflow / a.capacity for a in values(arcs)], avgCost)\n",
      "\n",
      "    # normalize(m, coeffs, 1., bpacost(1., 1., 1.))\n",
      "\n",
      "\n",
      "    resids = Variable[]\n",
      "    \n",
      "    print(\"$indices\\n\")\n",
      "    \n",
      "    for i = indices\n",
      "        #copy the flow data over to the arcs, demand data to demands (slow)\n",
      "        for (ix, a) in enumerate(vArcs)\n",
      "            a.obsflow = flow_data[ix, i]\n",
      "        end\n",
      "        for odpair in keys(demands)\n",
      "            demands[odpair] = demand_data[odpair][i]\n",
      "        end\n",
      "    \n",
      "        #Dual Feasibility\n",
      "        ys = addNetworkCnsts(m, coeffs, demands, arcs, numNodes)\n",
      "        \n",
      "        #add the residual for this data point\n",
      "        push!(resids, addResid(m, coeffs, ys, demands, arcs, 1e6))\n",
      "    end\n",
      "\n",
      "    if fcoeffs != nothing\n",
      "        fixCoeffs(m, fcoeffs, coeffs)\n",
      "    end\n",
      "    @setObjective(m, Min, sum{resids[i], i = 1:length(resids)} + lam*reg_term)\n",
      "    solve(m)\n",
      "    println(getObjectiveValue(m) - lam * getValue(reg_term) )\n",
      "    return [getValue(coeffs[i]) for i =1:length(coeffs)]\n",
      "end"
     ],
     "language": "python",
     "metadata": {},
     "outputs": [
      {
       "metadata": {},
       "output_type": "pyout",
       "prompt_number": 16,
       "text": [
        "train (generic function with 1 method)"
       ]
      }
     ],
     "prompt_number": 16
    },
    {
     "cell_type": "code",
     "collapsed": false,
     "input": [
      "#include(\"trafficCval.jl\")\n",
      "\n",
      "arcs3 = arcs\n",
      "arcs4 = arcs\n",
      "arcs5 = arcs\n",
      "arcs6 = arcs\n",
      "coeffs_dict = Dict{(Int64,Float64,Float64),Array{Float64,1}}()\n",
      "\n",
      "# deg = 3\n",
      "deg = 3\n",
      "c = 3.41\n",
      "lam = 1.\n",
      "\n",
      "\n",
      "flow_data =[a.obsflow::Float64 for a in vArcs]\n",
      "\n",
      "\n",
      "fcoeffs3 = train(1:numData, lam, deg, c, demand_data, flow_data, arcs3)\n",
      "coeffs_dict[(deg, c, lam)] = fcoeffs3\n",
      "\n",
      "# deg = 4\n",
      "deg = 4\n",
      "c = 3.41\n",
      "lam = 1.\n",
      "\n",
      "fcoeffs4 = train(1:numData, lam, deg, c, demand_data, flow_data, arcs4)\n",
      "coeffs_dict[(deg, c, lam)] = fcoeffs4\n",
      "\n",
      "# deg = 5\n",
      "deg = 5\n",
      "c = 2.6\n",
      "lam = .1\n",
      "\n",
      "fcoeffs5 = train(1:numData, lam, deg, c, demand_data, flow_data, arcs5)\n",
      "coeffs_dict[(deg, c, lam)] = fcoeffs5\n",
      "\n",
      "# deg = 6\n",
      "deg = 6\n",
      "c = 2.6\n",
      "lam = 1e-3\n",
      "\n",
      "fcoeffs6 = train(1:numData, lam, deg, c, demand_data, flow_data, arcs6)\n",
      "coeffs_dict[(deg, c, lam)] = fcoeffs6"
     ],
     "language": "python",
     "metadata": {},
     "outputs": [
      {
       "output_type": "stream",
       "stream": "stdout",
       "text": [
        "1:1\n"
       ]
      },
      {
       "ename": "LoadError",
       "evalue": "key not found: (23,8)\nwhile loading In[17], in expression starting on line 18",
       "output_type": "pyerr",
       "traceback": [
        "key not found: (23,8)\nwhile loading In[17], in expression starting on line 18",
        "",
        " in train at In[16]:34"
       ]
      }
     ],
     "prompt_number": 17
    },
    {
     "cell_type": "code",
     "collapsed": false,
     "input": [
      "flow_data"
     ],
     "language": "python",
     "metadata": {},
     "outputs": [
      {
       "metadata": {},
       "output_type": "pyout",
       "prompt_number": 18,
       "text": [
        "76-element Array{Float64,1}:\n",
        " 19083.3 \n",
        "  6302.02\n",
        "  7000.0 \n",
        "  9626.21\n",
        " 17726.6 \n",
        "  6882.66\n",
        " 12378.6 \n",
        " 10259.5 \n",
        "  8094.66\n",
        "  9941.86\n",
        " 18006.4 \n",
        " 11683.8 \n",
        "  7000.0 \n",
        "     \u22ee   \n",
        "  9973.71\n",
        " 15854.6 \n",
        " 17604.2 \n",
        " 18409.9 \n",
        "  5991.76\n",
        " 12040.9 \n",
        "  8394.9 \n",
        " 18976.8 \n",
        " 15278.3 \n",
        " 10022.3 \n",
        " 15794.0 \n",
        " 15796.7 "
       ]
      }
     ],
     "prompt_number": 18
    },
    {
     "cell_type": "code",
     "collapsed": false,
     "input": [
      "using PyPlot\n",
      "\n",
      "true_coeffs = [1, 0, 0, 0, .15]\n",
      "fcoeffs3 = coeffs_dict[(3, 3.41, 1.)]\n",
      "fcoeffs4 = coeffs_dict[(4, 3.41, 1.)]\n",
      "fcoeffs5 = coeffs_dict[(5, 2.6, .1)]\n",
      "fcoeffs6 = coeffs_dict[(6, 2.6, 1e-3)]\n",
      "\n",
      "xs = linspace(0, 2, 20)\n",
      "ys_true = map(x->polyEval(true_coeffs, x), xs)\n",
      "ys3 = map(x->polyEval(fcoeffs3, x), xs)\n",
      "ys4 = map(x->polyEval(fcoeffs4, x), xs)\n",
      "ys5 = map(x->polyEval(fcoeffs5, x), xs)\n",
      "ys6 = map(x->polyEval(fcoeffs6, x), xs)\n",
      "\n",
      "# ys = map(x->polyEval(fcoeffs, x), xs)\n",
      "\n",
      "plot(xs, ys_true, \"k\", label=\"True\")\n",
      "plot(xs, ys3, \"--r\", label=\"deg=3\")\n",
      "plot(xs, ys4, \"--g\", label=\"deg=4\")\n",
      "plot(xs, ys5, \"--b\", label=\"deg=5\")\n",
      "plot(xs, ys6, \"--m\", label=\"deg=6\")\n",
      "legend(loc=\"upper left\",fancybox=\"true\") \n",
      "# plot(xs, ys, \"--b\")\n",
      "grid(\"on\")\n",
      "xlim(-0.1, 2.1);\n",
      "ylim(0.5, 3.5);\n",
      "\n",
      "font1 = [\"family\"=>\"serif\",\n",
      "    \"color\"=>\"darkred\",\n",
      "    \"weight\"=>\"normal\",\n",
      "    \"size\"=>14]\n",
      "xlabel(\"Scaled Flow\", fontdict=font1)\n",
      "\n",
      "savefig(\"fitting.pdf\")"
     ],
     "language": "python",
     "metadata": {},
     "outputs": [
      {
       "metadata": {},
       "output_type": "display_data",
       "png": "[encoded data removed]",
       "text": [
        "Figure(PyObject <matplotlib.figure.Figure object at 0x7f2b522e1f10>)"
       ]
      }
     ],
     "prompt_number": 26
    },
    {
     "cell_type": "code",
     "collapsed": false,
     "input": [
      "fcoeffs5"
     ],
     "language": "python",
     "metadata": {},
     "outputs": [
      {
       "metadata": {},
       "output_type": "pyout",
       "prompt_number": 27,
       "text": [
        "6-element Array{Float64,1}:\n",
        "  0.994743  \n",
        "  0.0412282 \n",
        " -0.0866834 \n",
        "  0.0750589 \n",
        "  0.121316  \n",
        "  0.00399538"
       ]
      }
     ],
     "prompt_number": 27
    },
    {
     "cell_type": "code",
     "collapsed": false,
     "input": [],
     "language": "python",
     "metadata": {},
     "outputs": []
    }
   ],
   "metadata": {}
  }
 ]
}