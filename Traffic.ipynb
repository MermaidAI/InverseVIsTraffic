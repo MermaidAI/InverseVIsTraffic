{
 "metadata": {
  "name": ""
 },
 "nbformat": 3,
 "nbformat_minor": 0,
 "worksheets": [
  {
   "cells": [
    {
     "cell_type": "code",
     "collapsed": false,
     "input": [
      "cd(\"/home/jzh/Dropbox/Research/Data-driven_estimation_inverse_optimization/Experiments/InverseVIsTraffic\");"
     ],
     "language": "python",
     "metadata": {},
     "outputs": [],
     "prompt_number": 1
    },
    {
     "cell_type": "code",
     "collapsed": false,
     "input": [
      "include(\"./genSimData.jl\")"
     ],
     "language": "python",
     "metadata": {},
     "outputs": [
      {
       "output_type": "stream",
       "stream": "stdout",
       "text": [
        "0.0"
       ]
      },
      {
       "output_type": "stream",
       "stream": "stdout",
       "text": [
        "018160634537569948\n",
        "0."
       ]
      },
      {
       "output_type": "stream",
       "stream": "stdout",
       "text": [
        "002517224262279949\n",
        "0."
       ]
      },
      {
       "output_type": "stream",
       "stream": "stdout",
       "text": [
        "0018247822212465173\n",
        "0."
       ]
      },
      {
       "output_type": "stream",
       "stream": "stdout",
       "text": [
        "002187133305050468\n",
        "0."
       ]
      },
      {
       "output_type": "stream",
       "stream": "stdout",
       "text": [
        "0021635849967485137\n",
        "0."
       ]
      },
      {
       "output_type": "stream",
       "stream": "stdout",
       "text": [
        "002024273711272337\n",
        "0."
       ]
      },
      {
       "output_type": "stream",
       "stream": "stdout",
       "text": [
        "0021670668146575836\n",
        "0."
       ]
      },
      {
       "output_type": "stream",
       "stream": "stdout",
       "text": [
        "0020506251953861508\n",
        "0."
       ]
      },
      {
       "output_type": "stream",
       "stream": "stdout",
       "text": [
        "0023330579746810545\n",
        "0."
       ]
      },
      {
       "output_type": "stream",
       "stream": "stdout",
       "text": [
        "00227444729584514\n",
        "0."
       ]
      },
      {
       "output_type": "stream",
       "stream": "stdout",
       "text": [
        "001956029938576814\n",
        "0."
       ]
      },
      {
       "output_type": "stream",
       "stream": "stdout",
       "text": [
        "0020470767894197354\n",
        "0."
       ]
      },
      {
       "output_type": "stream",
       "stream": "stdout",
       "text": [
        "002306093014296384\n",
        "0."
       ]
      },
      {
       "output_type": "stream",
       "stream": "stdout",
       "text": [
        "002098185962857238\n",
        "0."
       ]
      },
      {
       "output_type": "stream",
       "stream": "stdout",
       "text": [
        "002663198242632413\n",
        "0."
       ]
      },
      {
       "output_type": "stream",
       "stream": "stdout",
       "text": [
        "002416239880263304\n",
        "0."
       ]
      },
      {
       "output_type": "stream",
       "stream": "stdout",
       "text": [
        "002706880604307453\n",
        "0."
       ]
      },
      {
       "output_type": "stream",
       "stream": "stdout",
       "text": [
        "002295949248151701\n",
        "0."
       ]
      },
      {
       "output_type": "stream",
       "stream": "stdout",
       "text": [
        "0017999916310971534\n",
        "0."
       ]
      },
      {
       "output_type": "stream",
       "stream": "stdout",
       "text": [
        "002081247335021676\n"
       ]
      }
     ],
     "prompt_number": 4
    },
    {
     "cell_type": "code",
     "collapsed": false,
     "input": [
      "include(\"trafficCval.jl\")\n",
      "\n",
      "coeffs_dict = Dict{(Int64,Float64,Float64),Array{Float64,1}}()\n",
      "deg = 6\n",
      "c = 2.6\n",
      "lam = 1e-3\n",
      "\n",
      "fcoeffs = train(1:numData, lam, deg, c, demand_data, flow_data, arcs)\n",
      "coeffs_dict[(deg, c, lam)] = fcoeffs"
     ],
     "language": "python",
     "metadata": {},
     "outputs": [
      {
       "output_type": "stream",
       "stream": "stdout",
       "text": [
        "11."
       ]
      },
      {
       "output_type": "stream",
       "stream": "stdout",
       "text": [
        "710541093940803\n"
       ]
      },
      {
       "metadata": {},
       "output_type": "pyout",
       "prompt_number": 5,
       "text": [
        "7-element Array{Float64,1}:\n",
        "  0.773436\n",
        "  3.17271 \n",
        " -9.19522 \n",
        " 12.4337  \n",
        " -8.07426 \n",
        "  2.56087 \n",
        " -0.303505"
       ]
      }
     ],
     "prompt_number": 5
    },
    {
     "cell_type": "code",
     "collapsed": false,
     "input": [
      "using PyPlot\n",
      "\n",
      "\n",
      "true_coeffs = [1, 0, 0, 0, .15]\n",
      "#fcoeffs3 = coeffs_dict[(3, 3.41, 1.)]\n",
      "#fcoeffs4 = coeffs_dict[(4, 3.41, 1.)]\n",
      "#fcoeffs5 = coeffs_dict[(5, 2.6, .1)]\n",
      "fcoeffs6 = coeffs_dict[(6, 2.6, 1e-3)]\n",
      "\n",
      "xs = linspace(0, 2, 20)#\n",
      "ys_true = map(x-> polyEval(true_coeffs, x), xs)\n",
      "#ys3 = map(x->polyEval(fcoeffs3, x), xs)\n",
      "#ys4 = map(x->polyEval(fcoeffs4, x), xs)\n",
      "#ys5 = map(x->polyEval(fcoeffs5, x), xs)\n",
      "ys6 = map(x->polyEval(fcoeffs6, x), xs)\n",
      "\n",
      "# ys = map(x->polyEval(fcoeffs, x), xs)\n",
      "\n",
      "plot(xs, ys_true, \"--k\")\n",
      "#plot(xs, ys3, \".-r\")\n",
      "ylim(0, 3.5)\n",
      "#plot(xs, ys4, \"s-g\")\n",
      "#plot(xs, ys5, \"o-b\")\n",
      "plot(xs, ys6, \"^-m\")\n",
      "\n",
      "# plot(xs, ys, \"--b\")"
     ],
     "language": "python",
     "metadata": {},
     "outputs": [
      {
       "output_type": "stream",
       "stream": "stderr",
       "text": [
        "INFO: Loading help data...\n",
        "Warning: using PyPlot.plot in module Main conflicts with an existing identifier.\n"
       ]
      },
      {
       "ename": "LoadError",
       "evalue": "`plot` has no method matching plot(::Array{Float64,1}, ::Array{Float64,1}, ::ASCIIString)\nwhile loading In[8], in expression starting on line 19",
       "output_type": "pyerr",
       "traceback": [
        "`plot` has no method matching plot(::Array{Float64,1}, ::Array{Float64,1}, ::ASCIIString)\nwhile loading In[8], in expression starting on line 19",
        ""
       ]
      }
     ],
     "prompt_number": 8
    },
    {
     "cell_type": "code",
     "collapsed": false,
     "input": [],
     "language": "python",
     "metadata": {},
     "outputs": []
    }
   ],
   "metadata": {}
  }
 ]
}