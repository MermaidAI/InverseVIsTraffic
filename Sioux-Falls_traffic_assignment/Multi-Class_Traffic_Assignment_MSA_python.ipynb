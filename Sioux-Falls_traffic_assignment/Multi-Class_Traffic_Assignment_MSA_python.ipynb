{
 "cells": [
  {
   "cell_type": "code",
   "execution_count": 1,
   "metadata": {
    "collapsed": true
   },
   "outputs": [],
   "source": [
    "import numpy as np"
   ]
  },
  {
   "cell_type": "code",
   "execution_count": 2,
   "metadata": {
    "collapsed": true
   },
   "outputs": [],
   "source": [
    "# Sioux Falls network data\n",
    "# http://www.bgu.ac.il/~bargera/tntp/\n",
    "\n",
    "#Link travel time = free flow time * ( 1 + B * (flow/capacity)^Power ).\n",
    "#Link generalized cost = Link travel time + toll_factor * toll + distance_factor * distance\n",
    "\n",
    "# Traffic Assignment Data structure\n",
    "\n",
    "class TA_Data(object):\n",
    "    \n",
    "    def __init__(self, network_name, \\\n",
    "                 number_of_zones, number_of_nodes, number_of_links, \\\n",
    "                 start_node, end_node, capacity, free_flow_time, \\\n",
    "                 B, power, total_od_flow, travel_demand, od_pairs):\n",
    "        self.network_name = network_name\n",
    "        self.number_of_zones = number_of_zones\n",
    "        self.number_of_nodes = number_of_nodes\n",
    "        self.number_of_links = number_of_links\n",
    "        self.start_node = start_node\n",
    "        self.end_node = end_node\n",
    "        self.capacity = capacity\n",
    "        self.free_flow_time = free_flow_time\n",
    "        self.B = B\n",
    "        self.power = power\n",
    "        self.total_od_flow = total_od_flow\n",
    "        self.travel_demand = travel_demand\n",
    "        self.od_pairs = od_pairs"
   ]
  },
  {
   "cell_type": "code",
   "execution_count": 3,
   "metadata": {
    "collapsed": false
   },
   "outputs": [],
   "source": [
    "def load_ta_network(network_name):\n",
    "    if network_name == 'Sioux Falls':\n",
    "        network_data_file = './data/SiouxFalls_net.txt'\n",
    "        trip_table_file = './data/SiouxFalls_trips.txt' \n",
    "    else:\n",
    "        raise Exception(\"Invalid network_name; use 'Sioux Falls'.\")\n",
    "\n",
    "    ################\n",
    "    # Network Data\n",
    "    ################\n",
    "    start_node = []\n",
    "    end_node = []\n",
    "    capacity = []\n",
    "    free_flow_time = []\n",
    "    B = []\n",
    "    power = []\n",
    "\n",
    "    with open(network_data_file) as network_data_file_:\n",
    "        for line in network_data_file_:\n",
    "            if '<NUMBER OF ZONES>' in line:\n",
    "                number_of_zones = [int(s) for s in line.split() if s.isdigit()][0]\n",
    "            elif '<NUMBER OF NODES>' in line:\n",
    "                number_of_nodes = [int(s) for s in line.split() if s.isdigit()][0]\n",
    "            elif '<NUMBER OF LINKS>' in line:\n",
    "                number_of_links = [int(s) for s in line.split() if s.isdigit()][0]\n",
    "                assert(number_of_links > 0)\n",
    "            elif '<FIRST THRU NODE>' in line or '<END OF METADATA>' in line or '~' in line or line == '\\n':\n",
    "                continue\n",
    "            else:\n",
    "                start_node.append(int(line.split()[0]))\n",
    "                end_node.append(int(line.split()[1]))\n",
    "                capacity.append(float(line.split()[2]))\n",
    "                free_flow_time.append(float(line.split()[4]))\n",
    "                B.append(float(line.split()[5]))\n",
    "                power.append(int(line.split()[6]))\n",
    "\n",
    "    ##############\n",
    "    # Trip Table\n",
    "    ##############\n",
    "    travel_demand = np.zeros((number_of_zones, number_of_zones))\n",
    "    od_pairs = []\n",
    "\n",
    "    with open(trip_table_file) as trip_table_file_:\n",
    "        for line in trip_table_file_:\n",
    "            if '<NUMBER OF ZONES>' in line:\n",
    "                number_of_zones_trip = [int(s) for s in line.split() if s.isdigit()][0]\n",
    "                # Check if number_of_zone is same in both txt files\n",
    "                assert(number_of_zones_trip == number_of_zones) \n",
    "            elif '<TOTAL OD FLOW>' in line:\n",
    "                total_od_flow = [float(s) for s in line.split() if s.replace('.','',1).isdigit()][0]\n",
    "                assert(total_od_flow > 0)\n",
    "            elif '<END OF METADATA>' in line or line == '\\n':\n",
    "                continue\n",
    "            else:\n",
    "                if 'Origin' in line:\n",
    "                    origin = int(line.split()[1])\n",
    "                elif ';' in line:\n",
    "                    pairs = line.split(';')\n",
    "                    for i in range(len(pairs)):\n",
    "                        if ':' in pairs[i]:\n",
    "                            pair = pairs[i].split(':')\n",
    "                            destination = int(pair[0])\n",
    "                            od_flow = float(pair[1])\n",
    "                            travel_demand[origin-1, destination-1] = od_flow\n",
    "                            od_pairs.append((origin, destination))\n",
    "\n",
    "    ta_data = TA_Data(\n",
    "    network_name,\n",
    "    number_of_zones,\n",
    "    number_of_nodes,\n",
    "    number_of_links,\n",
    "    start_node,\n",
    "    end_node,\n",
    "    capacity,\n",
    "    free_flow_time,\n",
    "    B,\n",
    "    power,\n",
    "    total_od_flow,\n",
    "    travel_demand,\n",
    "    od_pairs)\n",
    "\n",
    "    return ta_data\n"
   ]
  },
  {
   "cell_type": "code",
   "execution_count": 4,
   "metadata": {
    "collapsed": false
   },
   "outputs": [],
   "source": [
    "ta_data = load_ta_network('Sioux Falls')"
   ]
  },
  {
   "cell_type": "code",
   "execution_count": 99,
   "metadata": {
    "collapsed": false
   },
   "outputs": [],
   "source": [
    "import networkx as nx"
   ]
  },
  {
   "cell_type": "code",
   "execution_count": 108,
   "metadata": {
    "collapsed": false
   },
   "outputs": [],
   "source": [
    "def create_graph(start_node, end_node):\n",
    "    \n",
    "    assert(len(start_node) == len(end_node))\n",
    "\n",
    "    no_node = max(max(start_node), max(end_node))\n",
    "    no_arc = len(start_node)\n",
    "\n",
    "    graph = nx.DiGraph()\n",
    "    \n",
    "    graph.add_nodes_from(range(no_node + 1)[1:])\n",
    "    \n",
    "    for i in range(no_arc):\n",
    "        graph.add_edge(start_node[i], end_node[i])\n",
    "        \n",
    "    return graph"
   ]
  },
  {
   "cell_type": "code",
   "execution_count": 109,
   "metadata": {
    "collapsed": false
   },
   "outputs": [],
   "source": [
    "graph = create_graph(ta_data.start_node, ta_data.end_node)"
   ]
  },
  {
   "cell_type": "code",
   "execution_count": 110,
   "metadata": {
    "collapsed": false
   },
   "outputs": [
    {
     "data": {
      "text/plain": [
       "[(1, 2),\n",
       " (1, 3),\n",
       " (2, 1),\n",
       " (2, 6),\n",
       " (3, 1),\n",
       " (3, 4),\n",
       " (3, 12),\n",
       " (4, 3),\n",
       " (4, 5),\n",
       " (4, 11),\n",
       " (5, 4),\n",
       " (5, 6),\n",
       " (5, 9),\n",
       " (6, 2),\n",
       " (6, 5),\n",
       " (6, 8),\n",
       " (7, 8),\n",
       " (7, 18),\n",
       " (8, 6),\n",
       " (8, 7),\n",
       " (8, 9),\n",
       " (8, 16),\n",
       " (9, 5),\n",
       " (9, 8),\n",
       " (9, 10),\n",
       " (10, 9),\n",
       " (10, 11),\n",
       " (10, 15),\n",
       " (10, 16),\n",
       " (10, 17),\n",
       " (11, 4),\n",
       " (11, 10),\n",
       " (11, 12),\n",
       " (11, 14),\n",
       " (12, 3),\n",
       " (12, 11),\n",
       " (12, 13),\n",
       " (13, 12),\n",
       " (13, 24),\n",
       " (14, 11),\n",
       " (14, 15),\n",
       " (14, 23),\n",
       " (15, 10),\n",
       " (15, 14),\n",
       " (15, 19),\n",
       " (15, 22),\n",
       " (16, 8),\n",
       " (16, 10),\n",
       " (16, 17),\n",
       " (16, 18),\n",
       " (17, 10),\n",
       " (17, 16),\n",
       " (17, 19),\n",
       " (18, 7),\n",
       " (18, 16),\n",
       " (18, 20),\n",
       " (19, 15),\n",
       " (19, 17),\n",
       " (19, 20),\n",
       " (20, 18),\n",
       " (20, 19),\n",
       " (20, 21),\n",
       " (20, 22),\n",
       " (21, 20),\n",
       " (21, 22),\n",
       " (21, 24),\n",
       " (22, 15),\n",
       " (22, 20),\n",
       " (22, 21),\n",
       " (22, 23),\n",
       " (23, 14),\n",
       " (23, 22),\n",
       " (23, 24),\n",
       " (24, 13),\n",
       " (24, 21),\n",
       " (24, 23)]"
      ]
     },
     "execution_count": 110,
     "metadata": {},
     "output_type": "execute_result"
    }
   ],
   "source": [
    "[(ta_data.start_node[i], ta_data.end_node[i]) for i in range(len(ta_data.start_node))]"
   ]
  },
  {
   "cell_type": "code",
   "execution_count": 111,
   "metadata": {
    "collapsed": false
   },
   "outputs": [
    {
     "data": {
      "text/plain": [
       "[(1, 2),\n",
       " (1, 3),\n",
       " (2, 1),\n",
       " (2, 6),\n",
       " (3, 1),\n",
       " (3, 4),\n",
       " (3, 12),\n",
       " (4, 11),\n",
       " (4, 3),\n",
       " (4, 5),\n",
       " (5, 9),\n",
       " (5, 4),\n",
       " (5, 6),\n",
       " (6, 8),\n",
       " (6, 2),\n",
       " (6, 5),\n",
       " (7, 8),\n",
       " (7, 18),\n",
       " (8, 16),\n",
       " (8, 9),\n",
       " (8, 6),\n",
       " (8, 7),\n",
       " (9, 8),\n",
       " (9, 10),\n",
       " (9, 5),\n",
       " (10, 16),\n",
       " (10, 9),\n",
       " (10, 11),\n",
       " (10, 17),\n",
       " (10, 15),\n",
       " (11, 12),\n",
       " (11, 10),\n",
       " (11, 4),\n",
       " (11, 14),\n",
       " (12, 11),\n",
       " (12, 3),\n",
       " (12, 13),\n",
       " (13, 24),\n",
       " (13, 12),\n",
       " (14, 23),\n",
       " (14, 11),\n",
       " (14, 15),\n",
       " (15, 10),\n",
       " (15, 19),\n",
       " (15, 22),\n",
       " (15, 14),\n",
       " (16, 8),\n",
       " (16, 17),\n",
       " (16, 10),\n",
       " (16, 18),\n",
       " (17, 16),\n",
       " (17, 10),\n",
       " (17, 19),\n",
       " (18, 16),\n",
       " (18, 20),\n",
       " (18, 7),\n",
       " (19, 17),\n",
       " (19, 20),\n",
       " (19, 15),\n",
       " (20, 18),\n",
       " (20, 19),\n",
       " (20, 21),\n",
       " (20, 22),\n",
       " (21, 24),\n",
       " (21, 20),\n",
       " (21, 22),\n",
       " (22, 23),\n",
       " (22, 20),\n",
       " (22, 21),\n",
       " (22, 15),\n",
       " (23, 24),\n",
       " (23, 22),\n",
       " (23, 14),\n",
       " (24, 23),\n",
       " (24, 13),\n",
       " (24, 21)]"
      ]
     },
     "execution_count": 111,
     "metadata": {},
     "output_type": "execute_result"
    }
   ],
   "source": [
    "graph.edges()"
   ]
  },
  {
   "cell_type": "code",
   "execution_count": null,
   "metadata": {
    "collapsed": true
   },
   "outputs": [],
   "source": []
  },
  {
   "cell_type": "code",
   "execution_count": null,
   "metadata": {
    "collapsed": true
   },
   "outputs": [],
   "source": []
  }
 ],
 "metadata": {
  "kernelspec": {
   "display_name": "Python 2",
   "language": "python",
   "name": "python2"
  },
  "language_info": {
   "codemirror_mode": {
    "name": "ipython",
    "version": 2
   },
   "file_extension": ".py",
   "mimetype": "text/x-python",
   "name": "python",
   "nbconvert_exporter": "python",
   "pygments_lexer": "ipython2",
   "version": "2.7.6"
  }
 },
 "nbformat": 4,
 "nbformat_minor": 0
}
