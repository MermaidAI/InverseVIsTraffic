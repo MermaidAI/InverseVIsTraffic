{
 "cells": [
  {
   "cell_type": "code",
   "execution_count": 1,
   "metadata": {
    "collapsed": false
   },
   "outputs": [
    {
     "name": "stdout",
     "output_type": "stream",
     "text": [
      "Directory exists\n",
      "['filtered_INRIX_attribute_table_Link_12.xlsx', 'filtered_INRIX_attribute_table_Link_21.xlsx', 'Link_19.png', 'Link_4.png', 'subnetwork.jpeg', 'Link_10.png', 'Link_15.png', '.~lock.filtered_capacity_attribute_table.xlsx#', 'filtered_INRIX_attribute_table_Link_13.xlsx', 'filtered_INRIX_attribute_table_Link_8.xlsx', 'Link_18.png', 'Link_14.png', 'filtered_INRIX_attribute_table_Link_15.xlsx', '.~lock.filtered_INRIX_attribute_table_Link_2.xlsx#', 'Link_8.png', 'Link_20.png', 'filtered_INRIX_attribute_table_Link_1.xlsx', 'filtered_INRIX_attribute_table_Link_10.xlsx', 'roadinv_id_to_tmc_lookup.xlsx', 'filtered_INRIX_attribute_table_Link_2.xlsx', 'Link_11.png', 'filtered_INRIX_attribute_table_Link_16.xlsx', 'Link_5.png', 'Link_12.png', 'Link_1.png', 'filtered_INRIX_attribute_table_Link_11.xlsx', 'filtered_INRIX_attribute_table_Link_20.xlsx', 'Link_7.png', 'filtered_INRIX_attribute_table.xlsx', 'filtered_INRIX_attribute_table_Link_22.xlsx', 'filtered_INRIX_attribute_table_Link_4.xlsx', 'filtered_INRIX_attribute_table_Link_3.xlsx', 'Link_2.png', 'filtered_INRIX_attribute_table_Link_9.xlsx', 'filtered_capacity_attribute_table.xlsx', 'Link_9.png', 'filtered_INRIX_attribute_table_Link_7.xlsx', 'Link_17.png', 'Link_6.png', 'Link_21.png', 'Link_13.png', 'Link_3.png', 'filtered_INRIX_attribute_table_Link_19.xlsx', 'filtered_INRIX_attribute_table_Link_5.xlsx', 'filtered_INRIX_attribute_table_Link_17.xlsx', 'subnetwork.png', 'filtered_INRIX_attribute_table_Link_14.xlsx', 'filtered_INRIX_attribute_table_Link_6.xlsx', 'filtered_INRIX_attribute_table_Link_18.xlsx', 'Link_16.png']\n"
     ]
    }
   ],
   "source": [
    "# cf. http://world77.blog.51cto.com/414605/552326\n",
    "\n",
    "#!/usr/bin/env python\n",
    "import os\n",
    "import shutil\n",
    "import time\n",
    "\n",
    "data_dir = \"/home/jzh/Dropbox/Research/Data-driven_estimation_inverse_optimization/INRIX/Raw_data\"\n",
    "\n",
    "# 判断是否存在路径\n",
    "if os.path.isdir(data_dir):    \n",
    "    print (\"Directory exists\")\n",
    "else:\n",
    "    print (\"Directory does not exist; please input right dir\")    # 如果不存在，就提示\n",
    "\n",
    "filelist = []\n",
    "\n",
    "filelist = os.listdir(data_dir)    # 得到文件名\n",
    "\n",
    "print filelist"
   ]
  },
  {
   "cell_type": "code",
   "execution_count": 2,
   "metadata": {
    "collapsed": false
   },
   "outputs": [],
   "source": [
    "data_dir = \"/home/jzh/Dropbox/Research/Data-driven_estimation_inverse_optimization/INRIX/Raw_data/\"\n",
    "\n",
    "for i in filelist:\n",
    "    NewFile = i.replace(\"Link\", \"link\")   \n",
    "    # print NewFile     \n",
    "    shutil.move(data_dir + i, data_dir + NewFile)   "
   ]
  },
  {
   "cell_type": "code",
   "execution_count": null,
   "metadata": {
    "collapsed": true
   },
   "outputs": [],
   "source": []
  }
 ],
 "metadata": {
  "kernelspec": {
   "display_name": "Python 2",
   "language": "python",
   "name": "python2"
  },
  "language_info": {
   "codemirror_mode": {
    "name": "ipython",
    "version": 2
   },
   "file_extension": ".py",
   "mimetype": "text/x-python",
   "name": "python",
   "nbconvert_exporter": "python",
   "pygments_lexer": "ipython2",
   "version": "2.7.6"
  }
 },
 "nbformat": 4,
 "nbformat_minor": 0
}
