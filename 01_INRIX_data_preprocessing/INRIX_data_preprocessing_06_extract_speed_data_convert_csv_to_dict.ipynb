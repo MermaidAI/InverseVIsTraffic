{
 "cells": [
  {
   "cell_type": "code",
   "execution_count": 1,
   "metadata": {
    "collapsed": false
   },
   "outputs": [
    {
     "name": "stdout",
     "output_type": "stream",
     "text": [
      "No dicts found; please check load_dicts...\n"
     ]
    }
   ],
   "source": [
    "#!/usr/bin/env python\n",
    "import os\n",
    "import csv\n",
    "import glob\n",
    "import numpy as np\n",
    "import json\n",
    "from multiprocessing import Process\n",
    "\n",
    "%run ../Python_files/util.py\n",
    "\n",
    "tmc_ref_speed_dict =zload('../temp_files/tmc_ref_speed_dict.pkz')\n",
    "\n",
    "# tmc_ref_speed_dict.keys\n",
    "\n",
    "# AM: 7:00 am - 9:00 am\n",
    "# MD: 11:00 am - 13:00 pm\n",
    "# PM: 17:00 pm - 19:00 pm\n",
    "# NT: 21:00 pm - 23:00 pm\n",
    "\n",
    "data_folder = '/home/jzh/INRIX/All_INRIX_2012_filtered/'\n",
    "\n",
    "def data_path(month):\n",
    "    if month == 'Jan':\n",
    "        return data_folder + 'Jan/'\n",
    "    elif month == 'Apr':\n",
    "        return data_folder + 'Apr/'\n",
    "    elif month == 'Jul':\n",
    "        return data_folder + 'Jul/'\n",
    "    elif month == 'Oct':\n",
    "        return data_folder + 'Oct/'\n",
    "    else:\n",
    "        raise IOError(\"Invalid input; please input another month.\")\n",
    "        \n",
    "\n",
    "def create_dict(month):\n",
    "    temp_dict = {}\n",
    "    data_dir = data_path(month)\n",
    "    for input_file in glob.glob(data_dir + '*.csv'):\n",
    "        with open(input_file, 'rb') as inp:\n",
    "            reader = csv.reader(inp)\n",
    "            for row in reader:\n",
    "                if 'tmc' not in row:\n",
    "                    key = row[0] + '_' + str(row[1]) + '_' + str(row[2]) + '_' + str(row[4]) + '_' + str(row[5])\n",
    "                    value = str(row[6]) + '_' + str(row[9])\n",
    "                    temp_dict[key] = value\n",
    "                    #print row[0], row[1], row[2], row[4], row[5], row[6], row[9]\n",
    "    # Writing JSON data\n",
    "    input_file = data_folder + 'tmc_%s_day_hour_minute_speed_travelTime_dict.json' %(month)\n",
    "    with open(input_file, 'w') as json_file:\n",
    "        json.dump(temp_dict, json_file)\n",
    "    \n",
    "# create 4 sub-processes to do the work\n",
    "p1 = Process(target=create_dict, args=('Jan',))\n",
    "p1.start()\n",
    "p1.join()\n",
    "\n",
    "p2 = Process(target=create_dict, args=('Apr',))\n",
    "p2.start()\n",
    "p2.join()\n",
    "\n",
    "p3 = Process(target=create_dict, args=('Jul',))\n",
    "p3.start()\n",
    "p3.join()\n",
    "\n",
    "p4 = Process(target=create_dict, args=('Oct',))\n",
    "p4.start()\n",
    "p4.join()"
   ]
  },
  {
   "cell_type": "code",
   "execution_count": null,
   "metadata": {
    "collapsed": true
   },
   "outputs": [],
   "source": []
  }
 ],
 "metadata": {
  "kernelspec": {
   "display_name": "Python 2",
   "language": "python",
   "name": "python2"
  },
  "language_info": {
   "codemirror_mode": {
    "name": "ipython",
    "version": 2
   },
   "file_extension": ".py",
   "mimetype": "text/x-python",
   "name": "python",
   "nbconvert_exporter": "python",
   "pygments_lexer": "ipython2",
   "version": "2.7.11"
  }
 },
 "nbformat": 4,
 "nbformat_minor": 0
}
