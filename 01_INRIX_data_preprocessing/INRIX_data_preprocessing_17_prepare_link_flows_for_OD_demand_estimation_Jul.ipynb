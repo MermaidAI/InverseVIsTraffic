{
 "cells": [
  {
   "cell_type": "code",
   "execution_count": 1,
   "metadata": {
    "collapsed": false
   },
   "outputs": [
    {
     "name": "stdout",
     "output_type": "stream",
     "text": [
      "[2814.4211771340329, 2776.9180910543469, 2787.8428555126243, 2776.1933397489734, 2910.5297789163383, 2891.5402954519, 2863.3650943883667, 2880.7709091316046, 2898.393225397841, 2949.804327987245]\n",
      "[2639.2329726740877, 2531.8464179922, 2426.6058526350885, 2486.748624460352, 2468.1435756426745, 2278.172051220374, 2309.607173476149, 2385.834525218155, 2469.599767138683, 2226.7236849549927]\n"
     ]
    }
   ],
   "source": [
    "%run ../Python_files/load_dicts.py\n",
    "%run ../Python_files/INRIX_data_preprocessing_17_prepare_link_flows_for_OD_demand_estimation_Jul.py"
   ]
  }
 ],
 "metadata": {
  "kernelspec": {
   "display_name": "Python 2",
   "language": "python",
   "name": "python2"
  },
  "language_info": {
   "codemirror_mode": {
    "name": "ipython",
    "version": 2
   },
   "file_extension": ".py",
   "mimetype": "text/x-python",
   "name": "python",
   "nbconvert_exporter": "python",
   "pygments_lexer": "ipython2",
   "version": "2.7.11"
  }
 },
 "nbformat": 4,
 "nbformat_minor": 0
}
