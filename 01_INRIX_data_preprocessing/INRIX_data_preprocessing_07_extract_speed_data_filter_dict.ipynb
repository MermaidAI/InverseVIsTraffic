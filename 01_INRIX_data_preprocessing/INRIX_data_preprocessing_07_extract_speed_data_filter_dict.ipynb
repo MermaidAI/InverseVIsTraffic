{
 "cells": [
  {
   "cell_type": "code",
   "execution_count": 1,
   "metadata": {
    "collapsed": false
   },
   "outputs": [
    {
     "name": "stdout",
     "output_type": "stream",
     "text": [
      "No dicts found; please check load_dicts...\n"
     ]
    }
   ],
   "source": [
    "#!/usr/bin/env python\n",
    "import numpy as np\n",
    "import json\n",
    "from funcy import project\n",
    "\n",
    "%run ../Python_files/util.py\n",
    "\n",
    "tmc_ref_speed_dict =zload('../temp_files/tmc_ref_speed_dict.pkz')\n",
    "\n",
    "# AM: 7:00 am - 9:00 am\n",
    "# MD: 11:00 am - 13:00 pm\n",
    "# PM: 17:00 pm - 19:00 pm\n",
    "# NT: 21:00 pm - 23:00 pm\n",
    "\n",
    "data_folder = '/home/jzh/INRIX/All_INRIX_2012_filtered/'\n",
    "\n",
    "# load the dict for each month\n",
    "def month_dict(month):\n",
    "    if month == 1:\n",
    "        with open(data_folder + 'tmc_Jan_day_hour_minute_speed_travelTime_dict.json', 'r') as json_file:\n",
    "            tmc_Jan_day_hour_minute_speed_travelTime_dict = json.load(json_file)\n",
    "        return tmc_Jan_day_hour_minute_speed_travelTime_dict \n",
    "    elif month == 4:\n",
    "        with open(data_folder + 'tmc_Apr_day_hour_minute_speed_travelTime_dict.json', 'r') as json_file:\n",
    "            tmc_Apr_day_hour_minute_speed_travelTime_dict = json.load(json_file)\n",
    "        return tmc_Apr_day_hour_minute_speed_travelTime_dict \n",
    "    elif month == 7:\n",
    "        with open(data_folder + 'tmc_Jul_day_hour_minute_speed_travelTime_dict.json', 'r') as json_file:\n",
    "            tmc_Jul_day_hour_minute_speed_travelTime_dict = json.load(json_file)\n",
    "        return tmc_Jul_day_hour_minute_speed_travelTime_dict \n",
    "    elif month == 10:\n",
    "        with open(data_folder + 'tmc_Oct_day_hour_minute_speed_travelTime_dict.json', 'r') as json_file:\n",
    "            tmc_Oct_day_hour_minute_speed_travelTime_dict = json.load(json_file)\n",
    "        return tmc_Oct_day_hour_minute_speed_travelTime_dict \n",
    "    else:\n",
    "        raise IOError(\"Invalid input; please input another month.\")\n",
    "        \n",
    "# filter speed dict for each month (tmc, day, hour, minute), corresponding to different periods\n",
    "def filter_dict(month):\n",
    "    month_dict_ = month_dict(month)\n",
    "    filtered_month_AM_dict = {}\n",
    "    filtered_month_MD_dict = {}\n",
    "    filtered_month_PM_dict = {}\n",
    "    filtered_month_NT_dict = {}\n",
    "    AM_keys = []\n",
    "    MD_keys = []\n",
    "    PM_keys = []\n",
    "    NT_keys = []\n",
    "    for tmc in tmc_ref_speed_dict.keys():\n",
    "        days_ = days(month)\n",
    "        for day in range(days_)[1:]:\n",
    "            for hour in [7, 8, 11, 12, 17, 18, 21, 22]:\n",
    "                if hour == 7 or hour == 8:\n",
    "                    for minute in range(60):\n",
    "                        key = str(tmc) + '_' + str(month) + '_' + str(day) + '_' + str(hour) + '_' + str(minute)\n",
    "                        AM_keys.append(key)\n",
    "                if hour == 11 or hour == 12:\n",
    "                    for minute in range(60):\n",
    "                        key = str(tmc) + '_' + str(month) + '_' + str(day) + '_' + str(hour) + '_' + str(minute)\n",
    "                        MD_keys.append(key)\n",
    "                if hour == 17 or hour == 18:\n",
    "                    for minute in range(60):\n",
    "                        key = str(tmc) + '_' + str(month) + '_' + str(day) + '_' + str(hour) + '_' + str(minute)\n",
    "                        PM_keys.append(key)\n",
    "                if hour == 21 or hour == 22:\n",
    "                    for minute in range(60):\n",
    "                        key = str(tmc) + '_' + str(month) + '_' + str(day) + '_' + str(hour) + '_' + str(minute)\n",
    "                        NT_keys.append(key)\n",
    "                        \n",
    "    filtered_month_AM_dict = project(month_dict_, AM_keys)\n",
    "    filtered_month_MD_dict = project(month_dict_, MD_keys)\n",
    "    filtered_month_PM_dict = project(month_dict_, PM_keys)\n",
    "    filtered_month_NT_dict = project(month_dict_, NT_keys)\n",
    "    \n",
    "    # Writing JSON data\n",
    "    input_file_AM = data_folder + 'filtered_month-%s_AM_dict.json' %(month)\n",
    "    with open(input_file_AM, 'w') as json_file_AM:\n",
    "        json.dump(filtered_month_AM_dict, json_file_AM)\n",
    "    input_file_MD = data_folder + 'filtered_month-%s_MD_dict.json' %(month)\n",
    "    with open(input_file_MD, 'w') as json_file_MD:\n",
    "        json.dump(filtered_month_MD_dict, json_file_MD)\n",
    "    input_file_PM = data_folder + 'filtered_month-%s_PM_dict.json' %(month)\n",
    "    with open(input_file_PM, 'w') as json_file_PM:\n",
    "        json.dump(filtered_month_PM_dict, json_file_PM)\n",
    "    input_file_NT = data_folder + 'filtered_month-%s_NT_dict.json' %(month)\n",
    "    with open(input_file_NT, 'w') as json_file_NT:\n",
    "        json.dump(filtered_month_NT_dict, json_file_NT)\n",
    "\n",
    "filter_dict(1)\n",
    "filter_dict(4)\n",
    "filter_dict(7)\n",
    "filter_dict(10)"
   ]
  },
  {
   "cell_type": "code",
   "execution_count": null,
   "metadata": {
    "collapsed": true
   },
   "outputs": [],
   "source": []
  }
 ],
 "metadata": {
  "kernelspec": {
   "display_name": "Python 2",
   "language": "python",
   "name": "python2"
  },
  "language_info": {
   "codemirror_mode": {
    "name": "ipython",
    "version": 2
   },
   "file_extension": ".py",
   "mimetype": "text/x-python",
   "name": "python",
   "nbconvert_exporter": "python",
   "pygments_lexer": "ipython2",
   "version": "2.7.11"
  }
 },
 "nbformat": 4,
 "nbformat_minor": 0
}
