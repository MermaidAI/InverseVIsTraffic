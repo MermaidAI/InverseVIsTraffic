{
 "cells": [
  {
   "cell_type": "code",
   "execution_count": 1,
   "metadata": {
    "collapsed": false
   },
   "outputs": [
    {
     "name": "stdout",
     "output_type": "stream",
     "text": [
      "[2426.0663459769589, 2418.9792222696551, 2377.2280674659137, 2475.8321691070082, 2404.2471651975229, 2394.4268884981984, 2401.1493288955439, 2435.0658714934439, 2411.4076357475819, 2486.5813044071638]\n",
      "[2359.093207758783, 2389.0882608554925, 2338.6959446622227, 2259.69889037733, 2130.167293969874, 2129.8600332519645, 2092.39715508995, 2150.3942212786146, 2132.276449465549, 2156.372322841929]\n"
     ]
    }
   ],
   "source": [
    "%run ../Python_files/load_dicts.py\n",
    "%run ../Python_files/INRIX_data_preprocessing_16_prepare_link_flows_for_OD_demand_estimation_Apr.py"
   ]
  }
 ],
 "metadata": {
  "kernelspec": {
   "display_name": "Python 2",
   "language": "python",
   "name": "python2"
  },
  "language_info": {
   "codemirror_mode": {
    "name": "ipython",
    "version": 2
   },
   "file_extension": ".py",
   "mimetype": "text/x-python",
   "name": "python",
   "nbconvert_exporter": "python",
   "pygments_lexer": "ipython2",
   "version": "2.7.12"
  }
 },
 "nbformat": 4,
 "nbformat_minor": 0
}
