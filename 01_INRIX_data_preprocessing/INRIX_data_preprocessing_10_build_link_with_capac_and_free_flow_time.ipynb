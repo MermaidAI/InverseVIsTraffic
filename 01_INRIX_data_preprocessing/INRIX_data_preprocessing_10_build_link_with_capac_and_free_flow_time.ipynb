{
 "cells": [
  {
   "cell_type": "code",
   "execution_count": 1,
   "metadata": {
    "collapsed": false
   },
   "outputs": [],
   "source": [
    "%run ../Python_files/extract_tmc_links.py\n",
    "\n",
    "%run ../Python_files/load_dicts.py\n",
    "\n",
    "%run ../Python_files/util.py\n",
    "\n",
    "road_seg_inr_capac = zload('../temp_files/road_seg_inr_capac.pkz')\n",
    "\n",
    "# make dictionaries mapping tmc to capacities\n",
    "tmc_capac_dict_AM = {i:j for (i, j) in zip(road_seg_inr_capac.tmc, road_seg_inr_capac.AB_AM_capac)}\n",
    "tmc_capac_dict_MD = {i:j for (i, j) in zip(road_seg_inr_capac.tmc, road_seg_inr_capac.AB_MD_capac)}\n",
    "tmc_capac_dict_PM = {i:j for (i, j) in zip(road_seg_inr_capac.tmc, road_seg_inr_capac.AB_PM_capac)}\n",
    "tmc_capac_dict_NT = {i:j for (i, j) in zip(road_seg_inr_capac.tmc, road_seg_inr_capac.AB_NT_capac)}\n",
    "\n",
    "# make a dictionary mapping tmc to segment length\n",
    "tmc_length_dict = {i:j for (i, j) in zip(road_seg_inr_capac.tmc, road_seg_inr_capac.shape_length)}\n",
    "\n",
    "zdump([tmc_capac_dict_AM, tmc_capac_dict_MD, \\\n",
    "       tmc_capac_dict_PM, tmc_capac_dict_NT, tmc_length_dict], '../temp_files/link_dicts.pkz')\n",
    "\n",
    "%run ../Python_files/save_capacity_links.py\n",
    "\n",
    "link_1_1, link_1_2, link_2_1, link_2_2, link_3_1, link_3_2, \\\n",
    "\tlink_4_1, link_4_2, link_5_1, link_5_2, link_6_1, link_6_2, \\\n",
    "\tlink_7_1, link_7_2, link_8_1, link_8_2, link_9_1, link_9_2, \\\n",
    "\tlink_10_1, link_10_2, link_11_1, link_11_2, link_12_1, link_12_2 \\\n",
    "    = zload('../temp_files/links_with_capac.pkz')\n",
    "\n",
    "link_with_capac_list = list(zload('../temp_files/links_with_capac.pkz'))\n",
    "\n",
    "link_length_dict = {}\n",
    "\n",
    "i = 0\n",
    "for link_with_capac in link_with_capac_list:\n",
    "    link_with_capac_new = Link_with_Free_Flow_Time(link_with_capac.init_node, link_with_capac.term_node, \\\n",
    "                                                   link_with_capac.tmc_set, \\\n",
    "                                                   link_with_capac.AM_capac, \\\n",
    "                                                   link_with_capac.MD_capac, \\\n",
    "                                                   link_with_capac.PM_capac, \\\n",
    "                                                   link_with_capac.NT_capac, \\\n",
    "                                                   link_with_capac.length, \\\n",
    "                                                   link_with_capac.free_flow_time, \\\n",
    "                                                   0, 0, 0, 0)\n",
    "    link_length_dict[str(i)] = link_with_capac_new\n",
    "    i = i + 1\n",
    "\n",
    "zdump(link_length_dict, '../temp_files/link_length_dict.pkz')"
   ]
  },
  {
   "cell_type": "code",
   "execution_count": null,
   "metadata": {
    "collapsed": true
   },
   "outputs": [],
   "source": []
  }
 ],
 "metadata": {
  "kernelspec": {
   "display_name": "Python 2",
   "language": "python",
   "name": "python2"
  },
  "language_info": {
   "codemirror_mode": {
    "name": "ipython",
    "version": 2
   },
   "file_extension": ".py",
   "mimetype": "text/x-python",
   "name": "python",
   "nbconvert_exporter": "python",
   "pygments_lexer": "ipython2",
   "version": "2.7.11"
  }
 },
 "nbformat": 4,
 "nbformat_minor": 0
}
