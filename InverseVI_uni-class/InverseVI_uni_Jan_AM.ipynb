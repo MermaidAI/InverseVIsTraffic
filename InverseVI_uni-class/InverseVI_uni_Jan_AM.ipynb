{
 "cells": [
  {
   "cell_type": "code",
   "execution_count": 1,
   "metadata": {
    "collapsed": false
   },
   "outputs": [
    {
     "data": {
      "text/plain": [
       "Arc (constructor with 3 methods)"
      ]
     },
     "execution_count": 1,
     "metadata": {},
     "output_type": "execute_result"
    }
   ],
   "source": [
    "#include(\"defArc.jl\")\n",
    "\n",
    "type Arc\n",
    "    initNode::Int \n",
    "    termNode::Int \n",
    "    capacity::Float64\n",
    "    freeflowtime::Float64\n",
    "    flow::Float64\n",
    "end\n",
    "\n",
    "Arc(initNode::Int, termNode::Int, capacity::Float64, freeflowtime::Float64) = \n",
    "    Arc(initNode, termNode, capacity, freeflowtime, 0.)"
   ]
  },
  {
   "cell_type": "code",
   "execution_count": 2,
   "metadata": {
    "collapsed": false
   },
   "outputs": [
    {
     "data": {
      "text/plain": [
       "bpacost (generic function with 3 methods)"
      ]
     },
     "execution_count": 2,
     "metadata": {},
     "output_type": "execute_result"
    }
   ],
   "source": [
    "#include(\"fitTraffic.jl\")\n",
    "\n",
    "## Solve an inverse tarffic problem over polynomials \n",
    "## of degree at most d\n",
    "## optionally use a regularizer from the poly kernel\n",
    "\n",
    "using JuMP\n",
    "using Gurobi\n",
    "using Graphs\n",
    "using Roots\n",
    "\n",
    "\n",
    "polyEval(coeffs, pt) = sum([coeffs[i] * pt^(i-1) for i = 1:length(coeffs)])  \n",
    "\n",
    "polyEval(coeffs::Array{Float64, 1}, pt) = sum([coeffs[i] * pt^(i-1) for i = 1:length(coeffs)]) \n",
    "\n",
    "bpacost(flow::Float64, capacity::Float64, freeflowtime::Float64) = freeflowtime*(1 + .15 * (flow/capacity)^4)\n",
    "bpacost(flow::Float64, arc) = bpacost(flow, arc.capacity, arc.freeflowtime)\n",
    "bpacost(arc::Arc) = bpacost(arc.flow, arc)"
   ]
  },
  {
   "cell_type": "code",
   "execution_count": 3,
   "metadata": {
    "collapsed": false
   },
   "outputs": [
    {
     "data": {
      "text/plain": [
       "setUpFitting (generic function with 1 method)"
      ]
     },
     "execution_count": 3,
     "metadata": {},
     "output_type": "execute_result"
    }
   ],
   "source": [
    "function setUpFitting(deg::Int, c::Float64)\n",
    "\n",
    "\tm = Model(solver=GurobiSolver(OutputFlag=false))\n",
    "    \n",
    "\t@defVar(m, coeffs[1:deg+1])\n",
    "\t@defVar(m, Calphas[1:deg+1])\n",
    "\n",
    "\t#build the graham matrix; cf. Ref. [21] (Regularization Networks and Support Vector Machines), page 47\n",
    "\tsamples = linspace(0, 1, deg + 1)\n",
    "\tk(x,y) = (c + x*y)^deg\n",
    "\tK = [ k(x,y) for x = samples, y=samples]\n",
    "\tK = convert(Array{Float64, 2}, K)\n",
    "\t#assert(rank(K) == deg+1)\n",
    "    \n",
    "\tC = chol(K + 1e-6* eye(deg+1))\n",
    "\tfor i=1:deg + 1\n",
    "\t\t@addConstraint(m, polyEval(coeffs, samples[i]) == sum{C[j, i] * Calphas[j], j=1:deg+1})\n",
    "\tend\n",
    "    \n",
    "\t@defVar(m, reg_term >= 0)\n",
    "\treg_term_ = QuadExpr(Calphas[:], Calphas[:], ones(deg+1), AffExpr())\n",
    "    \n",
    "\t@addConstraint(m, reg_term >= reg_term_)\n",
    "    \n",
    "\treturn m, coeffs, reg_term\n",
    "\n",
    "end"
   ]
  },
  {
   "cell_type": "code",
   "execution_count": 4,
   "metadata": {
    "collapsed": false
   },
   "outputs": [
    {
     "data": {
      "text/plain": [
       "fixCoeffs (generic function with 1 method)"
      ]
     },
     "execution_count": 4,
     "metadata": {},
     "output_type": "execute_result"
    }
   ],
   "source": [
    "function fixCoeffs(m, fcoeffs, coeffs)\n",
    "\tfor (fc, c) in zip(fcoeffs, coeffs[:])\n",
    "\t\t@addConstraint(m, fc == c)\n",
    "\tend\n",
    "end"
   ]
  },
  {
   "cell_type": "code",
   "execution_count": 5,
   "metadata": {
    "collapsed": false
   },
   "outputs": [
    {
     "data": {
      "text/plain": [
       "addResid (generic function with 1 method)"
      ]
     },
     "execution_count": 5,
     "metadata": {},
     "output_type": "execute_result"
    }
   ],
   "source": [
    "function addResid(m, coeffs, ys, demands, arcs, scaling)\n",
    "\t@defVar(m, resid)\n",
    "\t@defVar(m, dual_cost)\n",
    "\t@defVar(m, primal_cost)\n",
    "\n",
    "\t@addConstraint(m, dual_cost == sum{demands[(s,t)] * (ys[(s,t), t] - ys[(s,t), s]), (s,t)=keys(demands)})  \n",
    "\t@addConstraint(m, primal_cost == sum{a.flow * a.freeflowtime * polyEval(coeffs, a.flow/a.capacity), a=values(arcs)})\n",
    "\n",
    "\t@addConstraint(m, resid >= (dual_cost - primal_cost) / scaling )\n",
    "\t@addConstraint(m, resid >= (primal_cost - dual_cost) / scaling )\n",
    "\treturn resid\n",
    "end"
   ]
  },
  {
   "cell_type": "code",
   "execution_count": 6,
   "metadata": {
    "collapsed": false
   },
   "outputs": [
    {
     "data": {
      "text/plain": [
       "addIncreasingCnsts (generic function with 1 method)"
      ]
     },
     "execution_count": 6,
     "metadata": {},
     "output_type": "execute_result"
    }
   ],
   "source": [
    "function addIncreasingCnsts(m, coeffs, arcs; TOL=0.)\n",
    "\tsorted_flows = sort([a.flow / a.capacity for a in values(arcs)])\n",
    "\t@addConstraint(m, polyEval(coeffs, 0) <= polyEval(coeffs, sorted_flows[1]))\n",
    "\tfor i = 2:length(sorted_flows)\n",
    "\t\t@addConstraint(m, polyEval(coeffs, sorted_flows[i-1]) <= polyEval(coeffs, sorted_flows[i]) + TOL)\n",
    "\tend\n",
    "    @addConstraint(m, coeffs[1] == 1)\n",
    "end"
   ]
  },
  {
   "cell_type": "code",
   "execution_count": 7,
   "metadata": {
    "collapsed": false
   },
   "outputs": [
    {
     "data": {
      "text/plain": [
       "normalize (generic function with 3 methods)"
      ]
     },
     "execution_count": 7,
     "metadata": {},
     "output_type": "execute_result"
    }
   ],
   "source": [
    "#equates the total cost of the network to the true total cost\n",
    "function normalize(m, coeffs, tot_true_cost::Float64, arcs)\n",
    "\t@addConstraint(m, \n",
    "\t\tsum{a.freeflowtime * a.flow * polyEval(coeffs, a.flow / a.capacity), a=values(arcs)} == tot_true_cost)\n",
    "end\n",
    "\n",
    "function normalize(m, coeffs, scaled_flow::Float64, cost::Float64)\n",
    "\t@addConstraint(m, polyEval(coeffs, scaled_flow) == cost)\n",
    "end\n",
    "\n",
    "function normalize(m, coeffs, scaled_flows::Array{Float64, 1}, avgCost::Float64)\n",
    "    @addConstraint(m, sum{polyEval(coeffs, f), f=scaled_flows} == avgCost * length(scaled_flows))\n",
    "end"
   ]
  },
  {
   "cell_type": "code",
   "execution_count": 8,
   "metadata": {
    "collapsed": false
   },
   "outputs": [
    {
     "data": {
      "text/plain": [
       "addNetworkCnsts (generic function with 1 method)"
      ]
     },
     "execution_count": 8,
     "metadata": {},
     "output_type": "execute_result"
    }
   ],
   "source": [
    "function addNetworkCnsts(m, coeffs, demands, arcs, numNodes)\n",
    "\t@defVar(m, ys[keys(demands), 1:numNodes])\n",
    "\tfor k = keys(arcs)\n",
    "\t\ta = arcs[k]\n",
    "\t\trhs = a.freeflowtime * polyEval(coeffs, a.flow/a.capacity)\n",
    "\t\tfor od in keys(demands)\n",
    "\t\t\t@addConstraint(m, ys[od, k[2]] - ys[od, k[1]] <= rhs)\n",
    "\t\tend\n",
    "\tend\n",
    "\treturn ys\n",
    "end"
   ]
  },
  {
   "cell_type": "code",
   "execution_count": 9,
   "metadata": {
    "collapsed": false
   },
   "outputs": [],
   "source": [
    "############\n",
    "#Read in demand data\n",
    "file = open(\"../temp_files/OD_demand_matrix_Jan_weekday_AM.txt\")\n",
    "demands = Dict{(Int64,Int64), Float64}()\n",
    "n = 8  # number of nodes\n",
    "for i in [1:n]\n",
    "    demands[(i,i)] = 0.0\n",
    "end\n",
    "for line in eachline(file)\n",
    "    OD_demand = split(line, \",\")\n",
    "    key, value = (int(OD_demand[1]),int(OD_demand[2])), float(split(OD_demand[3], \"\\n\")[1])\n",
    "    demands[key] = value\n",
    "end\n",
    "close(file)"
   ]
  },
  {
   "cell_type": "code",
   "execution_count": 10,
   "metadata": {
    "collapsed": false
   },
   "outputs": [
    {
     "data": {
      "text/plain": [
       "Dict{(Int64,Int64),Float64} with 64 entries:\n",
       "  (3,6) => 6.9e-5\n",
       "  (4,4) => 0.0\n",
       "  (3,1) => 1497.070529\n",
       "  (4,5) => 203.771239\n",
       "  (2,4) => 1237.638601\n",
       "  (6,5) => 865.337541\n",
       "  (8,4) => 1030.169036\n",
       "  (1,2) => 0.0\n",
       "  (5,1) => 0.011099\n",
       "  (3,4) => 0.005566\n",
       "  (8,2) => 0.000946\n",
       "  (2,3) => 0.001132\n",
       "  (2,6) => 6.0e-5\n",
       "  (5,4) => 1077.686902\n",
       "  (2,1) => 856.582002\n",
       "  (2,5) => 371.549071\n",
       "  (8,5) => 0.000402\n",
       "  (1,4) => 0.0\n",
       "  (2,8) => 0.000156\n",
       "  (5,8) => 1100.121574\n",
       "  (4,8) => 1134.047894\n",
       "  (7,8) => 0.034274\n",
       "  (1,1) => 0.0\n",
       "  (7,7) => 0.0\n",
       "  (5,7) => 165.71893\n",
       "  ⋮     => ⋮"
      ]
     },
     "execution_count": 10,
     "metadata": {},
     "output_type": "execute_result"
    }
   ],
   "source": [
    "demands"
   ]
  },
  {
   "cell_type": "code",
   "execution_count": 11,
   "metadata": {
    "collapsed": false
   },
   "outputs": [],
   "source": [
    "using JSON\n",
    "\n",
    "link_day_minute_Jan_dict = readall(\"../temp_files/link_day_minute_Jan_dict_JSON.json\");\n",
    "link_day_minute_Jan_dict = replace(link_day_minute_Jan_dict, \"NaN\", 0);\n",
    "\n",
    "link_day_minute_Jan_dict = JSON.parse(link_day_minute_Jan_dict);"
   ]
  },
  {
   "cell_type": "code",
   "execution_count": 12,
   "metadata": {
    "collapsed": false
   },
   "outputs": [],
   "source": [
    "# week_day_Jan_list = [2, 3, 4, 5, 6, 9, 10, 11, 12, 13, 16, 17, 18, 19, 20, 23, 24, 25, 26, 27, 30, 31]\n",
    "\n",
    "# training set 1\n",
    "week_day_Jan_list_1 = [2, 3, 4, 5, 6, 9, 10, 11, 12, 13, 16, 17, 18, 19]\n",
    "\n",
    "# training set 2\n",
    "week_day_Jan_list_2 = [2, 3, 4, 5, 6, 9, 10, 20, 23, 24, 25, 26, 27, 30, 31]\n",
    "\n",
    "# training set 3\n",
    "week_day_Jan_list_3 = [11, 12, 13, 16, 17, 18, 19, 20, 23, 24, 25, 26, 27, 30, 31]\n",
    "\n",
    "\n",
    "arcs_1 = Dict{(Int, Int), Arc}[]\n",
    "for j in week_day_Jan_list_1\n",
    "    arcs_1_ = Dict{(Int, Int), Arc}()\n",
    "    for i = 0:23\n",
    "        key = \"link_$(i)_$(j)\"\n",
    "        initNode = link_day_minute_Jan_dict[key][\"init_node\"]\n",
    "        termNode = link_day_minute_Jan_dict[key][\"term_node\"]\n",
    "        capacity = link_day_minute_Jan_dict[key][\"AM_capac\"]\n",
    "        freeflowtime = link_day_minute_Jan_dict[key][\"free_flow_time\"]\n",
    "        flow = link_day_minute_Jan_dict[key][\"AM_flow\"]\n",
    "        arcs_1_[(initNode, termNode)] = Arc(initNode, termNode, capacity, freeflowtime, flow)\n",
    "    end\n",
    "    push!(arcs_1, arcs_1_)\n",
    "end\n",
    "\n",
    "arcs_2 = Dict{(Int, Int), Arc}[]\n",
    "for j in week_day_Jan_list_2\n",
    "    arcs_2_ = Dict{(Int, Int), Arc}()\n",
    "    for i = 0:23\n",
    "        key = \"link_$(i)_$(j)\"\n",
    "        initNode = link_day_minute_Jan_dict[key][\"init_node\"]\n",
    "        termNode = link_day_minute_Jan_dict[key][\"term_node\"]\n",
    "        capacity = link_day_minute_Jan_dict[key][\"AM_capac\"]\n",
    "        freeflowtime = link_day_minute_Jan_dict[key][\"free_flow_time\"]\n",
    "        flow = link_day_minute_Jan_dict[key][\"AM_flow\"]\n",
    "        arcs_2_[(initNode, termNode)] = Arc(initNode, termNode, capacity, freeflowtime, flow)\n",
    "    end\n",
    "    push!(arcs_2, arcs_2_)\n",
    "end\n",
    "\n",
    "arcs_3 = Dict{(Int, Int), Arc}[]\n",
    "for j in week_day_Jan_list_3\n",
    "    arcs_3_ = Dict{(Int, Int), Arc}()\n",
    "    for i = 0:23\n",
    "        key = \"link_$(i)_$(j)\"\n",
    "        initNode = link_day_minute_Jan_dict[key][\"init_node\"]\n",
    "        termNode = link_day_minute_Jan_dict[key][\"term_node\"]\n",
    "        capacity = link_day_minute_Jan_dict[key][\"AM_capac\"]\n",
    "        freeflowtime = link_day_minute_Jan_dict[key][\"free_flow_time\"]\n",
    "        flow = link_day_minute_Jan_dict[key][\"AM_flow\"]\n",
    "        arcs_3_[(initNode, termNode)] = Arc(initNode, termNode, capacity, freeflowtime, flow)\n",
    "    end\n",
    "    push!(arcs_3, arcs_3_)\n",
    "end"
   ]
  },
  {
   "cell_type": "code",
   "execution_count": 13,
   "metadata": {
    "collapsed": false
   },
   "outputs": [],
   "source": [
    "##########\n",
    "# Set up demand data and flow data\n",
    "##########\n",
    "numData = length(arcs_1); \n",
    "sigma = .0\n",
    "\n",
    "flow_data_1 = Array(Float64, length(arcs_1[1]), numData)\n",
    "flow_data_2 = Array(Float64, length(arcs_2[1]), numData)\n",
    "flow_data_3 = Array(Float64, length(arcs_3[1]), numData)\n",
    "\n",
    "demand_data = Dict{(Int, Int), Array{Float64, 1}}()\n",
    "\n",
    "numNodes = maximum(map(pair->pair[1], keys(demands)))\n",
    "g = simple_inclist(numNodes, is_directed=true)\n",
    "vArcs = Arc[]\n",
    "for arc in values(arcs_1[1])\n",
    "    add_edge!(g, arc.initNode, arc.termNode) \n",
    "    push!(vArcs, arc)\n",
    "end\n",
    "\n",
    "\n",
    "for iRun = 1:numData\n",
    "    for odpair in keys(demands)\n",
    "        if ! haskey(demand_data, odpair)\n",
    "            demand_data[odpair] = [demands[odpair], ]\n",
    "        else\n",
    "            push!(demand_data[odpair], demands[odpair])\n",
    "        end\n",
    "    end\n",
    "\n",
    "    #flow_data[:, iRun] = [a.flow::Float64 for a in vArcs]\n",
    "    flow_data_1[:, iRun] = [a.flow::Float64 for a in values(arcs_1[iRun])]\n",
    "    flow_data_2[:, iRun] = [a.flow::Float64 for a in values(arcs_2[iRun])]\n",
    "    flow_data_3[:, iRun] = [a.flow::Float64 for a in values(arcs_3[iRun])]\n",
    "end"
   ]
  },
  {
   "cell_type": "code",
   "execution_count": 14,
   "metadata": {
    "collapsed": false
   },
   "outputs": [
    {
     "data": {
      "text/plain": [
       "Dict{(Int64,Int64),Array{Float64,1}} with 64 entries:\n",
       "  (3,6) => [6.9e-5,6.9e-5,6.9e-5,6.9e-5,6.9e-5,6.9e-5,6.9e-5,6.9e-5,6.9e-5,6.9e…\n",
       "  (4,4) => [0.0,0.0,0.0,0.0,0.0,0.0,0.0,0.0,0.0,0.0,0.0,0.0,0.0,0.0]\n",
       "  (3,1) => [1497.070529,1497.070529,1497.070529,1497.070529,1497.070529,1497.07…\n",
       "  (4,5) => [203.771239,203.771239,203.771239,203.771239,203.771239,203.771239,2…\n",
       "  (2,4) => [1237.638601,1237.638601,1237.638601,1237.638601,1237.638601,1237.63…\n",
       "  (6,5) => [865.337541,865.337541,865.337541,865.337541,865.337541,865.337541,8…\n",
       "  (8,4) => [1030.169036,1030.169036,1030.169036,1030.169036,1030.169036,1030.16…\n",
       "  (1,2) => [0.0,0.0,0.0,0.0,0.0,0.0,0.0,0.0,0.0,0.0,0.0,0.0,0.0,0.0]\n",
       "  (5,1) => [0.011099,0.011099,0.011099,0.011099,0.011099,0.011099,0.011099,0.01…\n",
       "  (3,4) => [0.005566,0.005566,0.005566,0.005566,0.005566,0.005566,0.005566,0.00…\n",
       "  (8,2) => [0.000946,0.000946,0.000946,0.000946,0.000946,0.000946,0.000946,0.00…\n",
       "  (2,3) => [0.001132,0.001132,0.001132,0.001132,0.001132,0.001132,0.001132,0.00…\n",
       "  (2,6) => [6.0e-5,6.0e-5,6.0e-5,6.0e-5,6.0e-5,6.0e-5,6.0e-5,6.0e-5,6.0e-5,6.0e…\n",
       "  (5,4) => [1077.686902,1077.686902,1077.686902,1077.686902,1077.686902,1077.68…\n",
       "  (2,1) => [856.582002,856.582002,856.582002,856.582002,856.582002,856.582002,8…\n",
       "  (2,5) => [371.549071,371.549071,371.549071,371.549071,371.549071,371.549071,3…\n",
       "  (8,5) => [0.000402,0.000402,0.000402,0.000402,0.000402,0.000402,0.000402,0.00…\n",
       "  (1,4) => [0.0,0.0,0.0,0.0,0.0,0.0,0.0,0.0,0.0,0.0,0.0,0.0,0.0,0.0]\n",
       "  (2,8) => [0.000156,0.000156,0.000156,0.000156,0.000156,0.000156,0.000156,0.00…\n",
       "  (5,8) => [1100.121574,1100.121574,1100.121574,1100.121574,1100.121574,1100.12…\n",
       "  (4,8) => [1134.047894,1134.047894,1134.047894,1134.047894,1134.047894,1134.04…\n",
       "  (7,8) => [0.034274,0.034274,0.034274,0.034274,0.034274,0.034274,0.034274,0.03…\n",
       "  (1,1) => [0.0,0.0,0.0,0.0,0.0,0.0,0.0,0.0,0.0,0.0,0.0,0.0,0.0,0.0]\n",
       "  (7,7) => [0.0,0.0,0.0,0.0,0.0,0.0,0.0,0.0,0.0,0.0,0.0,0.0,0.0,0.0]\n",
       "  (5,7) => [165.71893,165.71893,165.71893,165.71893,165.71893,165.71893,165.718…\n",
       "  ⋮     => ⋮"
      ]
     },
     "execution_count": 14,
     "metadata": {},
     "output_type": "execute_result"
    }
   ],
   "source": [
    "demand_data"
   ]
  },
  {
   "cell_type": "code",
   "execution_count": 15,
   "metadata": {
    "collapsed": false
   },
   "outputs": [
    {
     "data": {
      "text/plain": [
       "24x14 Array{Float64,2}:\n",
       " 1382.51   1537.31   1497.51  1405.82  …  1493.22   1489.12   1527.26\n",
       " 1524.26   1682.68   1600.56  1531.36     1673.89   1596.23   1634.48\n",
       " 1272.23   1245.79   1330.31  1216.66     1180.05   1121.76   1228.55\n",
       " 1318.65   1420.74   1370.18  1296.74     1294.84   1349.27   1309.22\n",
       " 1197.73   1328.61   1256.12  1193.97     1169.57   1263.51   1293.21\n",
       "  836.448   892.292  1220.88  1229.83  …   697.412   680.089  1006.23\n",
       " 1508.93   1520.81   1506.74  1474.81     1347.86   1538.92   1455.09\n",
       " 1530.27   1592.14   1534.35  1489.47     1497.22   1505.34   1504.29\n",
       " 1323.75   1314.49   1315.44  1180.17     1223.93   1277.05   1282.33\n",
       " 1229.38   1371.71   1298.43  1233.17     1245.13   1276.55   1265.92\n",
       " 1610.58   1681.34   1618.96  1510.11  …  1579.64   1618.37   1545.65\n",
       " 1259.36   1309.5    1281.62  1236.72     1225.64   1233.63   1247.15\n",
       " 1587.34   1794.54   1759.43  1529.63     1729.08   1700.8    1798.09\n",
       " 1519.73   1485.7    1478.97  1412.18     1535.5    1531.02   1498.92\n",
       " 1226.02   1455.84   1338.85  1255.97     1246.42   1297.09   1276.31\n",
       " 1279.44   1356.62   1279.02  1241.99  …  1219.75   1252.83   1253.87\n",
       " 1023.75   1108.13   1058.35   988.63     1012.67   1030.48   1132.27\n",
       " 1214.97   1034.79   1270.55  1430.18     1064.26   1095.61   1001.19\n",
       " 1222.34   1345.43   1273.21  1235.44     1221.21   1231.49   1226.9 \n",
       " 1212.46   1321.68   1288.24  1233.03     1228.63   1267.45   1255.09\n",
       " 1768.25   1543.59   1753.52  1621.74  …  1634.38   1782.9    1754.16\n",
       " 1288.95   1440.94   1332.26  1268.97     1250.24   1327.22   1280.99\n",
       " 1741.48   1862.46   1812.73  1612.01     1750.15   1825.39   1746.5 \n",
       " 1701.92   1621.0    1614.78  1516.79     1648.71   1429.97   1609.3 "
      ]
     },
     "execution_count": 15,
     "metadata": {},
     "output_type": "execute_result"
    }
   ],
   "source": [
    "flow_data_3"
   ]
  },
  {
   "cell_type": "code",
   "execution_count": 16,
   "metadata": {
    "collapsed": false
   },
   "outputs": [
    {
     "data": {
      "text/plain": [
       "train (generic function with 1 method)"
      ]
     },
     "execution_count": 16,
     "metadata": {},
     "output_type": "execute_result"
    }
   ],
   "source": [
    "##########\n",
    "#Fitting Funcs\n",
    "##########\n",
    "\n",
    "function train(indices, lam::Float64, deg::Int, c::Float64, demand_data, flow_data, arcs; fcoeffs=nothing)\n",
    "    numNodes = maximum(map(pair->pair[1], keys(arcs)))\n",
    "    m, coeffs, reg_term = setUpFitting(deg, c)\n",
    "    \n",
    "    addIncreasingCnsts(m, coeffs, arcs, TOL=1e-8)  #uses the original obs flows\n",
    "\n",
    "    avgCost = mean( [bpacost(a.flow, a.capacity, 1.0) for a in values(arcs)] )\n",
    "    normalize(m, coeffs, [a.flow / a.capacity for a in values(arcs)], avgCost)\n",
    "\n",
    "\n",
    "    resids = Variable[]\n",
    "    \n",
    "    for i = indices\n",
    "        #copy the flow data over to the arcs, demand data to demands (slow)\n",
    "        for (ix, a) in enumerate(vArcs)\n",
    "            a.flow = flow_data[ix, i]\n",
    "        end\n",
    "        for odpair in keys(demands)\n",
    "            demands[odpair] = demand_data[odpair][i]\n",
    "        end\n",
    "    \n",
    "        #Dual Feasibility\n",
    "        ys = addNetworkCnsts(m, coeffs, demands, arcs, numNodes)\n",
    "        \n",
    "        #add the residual for this data point\n",
    "        push!(resids, addResid(m, coeffs, ys, demands, arcs, 1e6))\n",
    "    end\n",
    "\n",
    "    if fcoeffs != nothing\n",
    "        fixCoeffs(m, fcoeffs, coeffs)\n",
    "    end\n",
    "    @setObjective(m, Min, sum{resids[i], i = 1:length(resids)} + lam*reg_term)\n",
    "    solve(m)\n",
    "    #println(getObjectiveValue(m) - lam * getValue(reg_term) )\n",
    "    return [getValue(coeffs[i]) for i =1:length(coeffs)]\n",
    "end"
   ]
  },
  {
   "cell_type": "code",
   "execution_count": 17,
   "metadata": {
    "collapsed": false
   },
   "outputs": [],
   "source": [
    "#include(\"trafficCval.jl\")\n",
    "\n",
    "coeffs_dict_Jan_AM = Dict{(Int64,Float64,Float64,Int64),Array{Float64,1}}()\n",
    "\n",
    "deg_grid = [4:8]\n",
    "c_grid = .5:.5:3.\n",
    "lamb_grid = [10. .^(-3:4)]\n",
    "\n",
    "for deg in deg_grid\n",
    "    for c in c_grid\n",
    "        for lam in lamb_grid\n",
    "            coeffs_dict_Jan_AM[(deg, c, lam, 1)] = train(1:numData, lam, deg, c, demand_data, flow_data_1, arcs_1[1])\n",
    "            coeffs_dict_Jan_AM[(deg, c, lam, 2)] = train(1:numData, lam, deg, c, demand_data, flow_data_2, arcs_2[1])\n",
    "            coeffs_dict_Jan_AM[(deg, c, lam, 3)] = train(1:numData, lam, deg, c, demand_data, flow_data_3, arcs_3[1])\n",
    "        end\n",
    "    end\n",
    "end"
   ]
  },
  {
   "cell_type": "code",
   "execution_count": 18,
   "metadata": {
    "collapsed": false
   },
   "outputs": [],
   "source": [
    "outfile = open(\"../temp_files/coeffs_dict_Jan_AM.json\", \"w\")\n",
    "\n",
    "JSON.print(outfile, coeffs_dict_Jan_AM)\n",
    "\n",
    "close(outfile)"
   ]
  },
  {
   "cell_type": "code",
   "execution_count": 19,
   "metadata": {
    "collapsed": false
   },
   "outputs": [
    {
     "data": {
      "text/plain": [
       "Dict{String,Any} with 720 entries:\n",
       "  \"(7,2.5,10000.0,3)\" => {1.0,0.037825047919035966,0.038093026770698146,0.021450…\n",
       "  \"(5,0.5,100.0,3)\"   => {1.0,0.0074317207735727165,0.027663084539730393,0.04136…\n",
       "  \"(6,1.5,10.0,3)\"    => {1.0,0.027341537758159482,0.03905236325137549,0.0295708…\n",
       "  \"(6,2.0,0.1,2)\"     => {1.0,0.11019115094462689,0.020683482677016057,-0.030165…\n",
       "  \"(4,0.5,1000.0,1)\"  => {1.0,0.015388645600749965,0.03986326603693301,0.0445498…\n",
       "  \"(6,2.0,0.01,1)\"    => {1.0,-0.03439091820656839,-0.04558824716007314,0.105045…\n",
       "  \"(8,1.5,0.01,1)\"    => {1.0,0.06292298827107896,-0.11881421593706748,-0.122197…\n",
       "  \"(5,1.5,1.0,1)\"     => {1.0,0.0338597469715379,0.04213855369350225,0.025748604…\n",
       "  \"(8,2.5,0.001,2)\"   => {1.0,0.29964485514024536,-0.34276928238360316,0.0195453…\n",
       "  \"(4,2.0,0.1,1)\"     => {1.0,0.03633110677682243,0.04880871717131123,0.01971681…\n",
       "  \"(5,1.0,1000.0,2)\"  => {1.0,0.0238534134204195,0.03992415669688927,0.033399582…\n",
       "  \"(4,2.0,0.1,2)\"     => {1.0,0.0652274345545215,0.02756301982287071,0.004130027…\n",
       "  \"(5,2.0,0.001,1)\"   => {1.0,0.03106675875314085,-0.21697517104997444,0.1789181…\n",
       "  \"(7,1.5,0.01,3)\"    => {1.0,-0.17365025662083508,0.24127357175455244,0.2556047…\n",
       "  \"(4,0.5,0.1,3)\"     => {1.0,0.014636315749873606,0.039172937322998556,0.044086…\n",
       "  \"(6,2.0,1000.0,3)\"  => {1.0,0.03715039844241327,0.038944195310278415,0.0219245…\n",
       "  \"(6,2.0,0.1,3)\"     => {1.0,-0.08231234628029481,0.10288026117479784,0.0958687…\n",
       "  \"(4,1.5,1.0,1)\"     => {1.0,0.04621645910069434,0.04065012276738209,0.01587686…\n",
       "  \"(8,2.0,10000.0,1)\" => {1.0,0.025047315375985816,0.03705335124142447,0.0315302…\n",
       "  \"(7,0.5,0.001,2)\"   => {1.0,0.013955429836260958,0.06992515301471736,0.0288261…\n",
       "  \"(5,1.0,10000.0,2)\" => {1.0,0.023491149773427176,0.03988507489276705,0.0337145…\n",
       "  \"(8,3.0,0.01,1)\"    => {1.0,0.07659784301883234,0.018475163894382446,-0.528449…\n",
       "  \"(8,2.0,0.01,3)\"    => {1.0,-0.23092127489320663,0.3936637304826145,0.21034314…\n",
       "  \"(5,3.0,100.0,3)\"   => {1.0,0.05635125264611336,0.0317893540372983,0.008981166…\n",
       "  \"(5,3.0,10000.0,3)\" => {1.0,0.05657403813370467,0.031600170458344214,0.0088987…\n",
       "  ⋮                    => ⋮"
      ]
     },
     "execution_count": 19,
     "metadata": {},
     "output_type": "execute_result"
    }
   ],
   "source": [
    "coeffs_dict_Jan_AM_ = readall(\"../temp_files/coeffs_dict_Jan_AM.json\")\n",
    "coeffs_dict_Jan_AM_ = JSON.parse(coeffs_dict_Jan_AM_)"
   ]
  },
  {
   "cell_type": "code",
   "execution_count": 20,
   "metadata": {
    "collapsed": false
   },
   "outputs": [
    {
     "data": {
      "text/plain": [
       "9-element Array{Any,1}:\n",
       "  1.0      \n",
       " -0.0047598\n",
       "  0.0527124\n",
       " -0.202509 \n",
       "  0.618022 \n",
       " -0.895168 \n",
       "  0.94988  \n",
       " -0.457956 \n",
       "  0.111064 "
      ]
     },
     "execution_count": 20,
     "metadata": {},
     "output_type": "execute_result"
    }
   ],
   "source": [
    "coeffs_dict_Jan_AM_[\"(8,0.5,10000.0,1)\"]"
   ]
  },
  {
   "cell_type": "code",
   "execution_count": 25,
   "metadata": {
    "collapsed": false
   },
   "outputs": [
    {
     "data": {
      "image/png": "[encoded data removed]",
      "text/plain": [
       "Figure(PyObject <matplotlib.figure.Figure object at 0x7f18be996250>)"
      ]
     },
     "metadata": {},
     "output_type": "display_data"
    }
   ],
   "source": [
    "using PyPlot\n",
    "\n",
    "fcoeffs = coeffs_dict_Jan_AM_[\"(8,0.5,0.01,1)\"]\n",
    "\n",
    "\n",
    "xs = linspace(0, 1.1, 30)\n",
    "ys = map(x->polyEval(fcoeffs, x), xs)\n",
    "\n",
    "plot(xs, ys, \"o-m\", label=\"Jan_AM\")\n",
    "\n",
    "#legend(loc=\"upper left\",fancybox=\"true\") \n",
    "\n",
    "grid(\"on\")\n",
    "xlim(-0.1, 1.05);\n",
    "ylim(0.99, 1.2);\n",
    "\n",
    "font1 = [\"family\"=>\"serif\",\n",
    "    \"color\"=>\"darkred\",\n",
    "    \"weight\"=>\"normal\",\n",
    "    \"size\"=>14]\n",
    "xlabel(\"Scaled Flow\", fontdict=font1)\n",
    "\n",
    "savefig(\"../temp_files/fitting_Jan_AM.pdf\")"
   ]
  },
  {
   "cell_type": "code",
   "execution_count": null,
   "metadata": {
    "collapsed": true
   },
   "outputs": [],
   "source": []
  }
 ],
 "metadata": {
  "kernelspec": {
   "display_name": "Julia 0.3.7",
   "language": "julia",
   "name": "julia-0.3"
  },
  "language_info": {
   "file_extension": ".jl",
   "mimetype": "application/julia",
   "name": "julia",
   "version": "0.3.7"
  }
 },
 "nbformat": 4,
 "nbformat_minor": 0
}
