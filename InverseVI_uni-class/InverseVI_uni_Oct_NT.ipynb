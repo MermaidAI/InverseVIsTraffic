{
 "cells": [
  {
   "cell_type": "code",
   "execution_count": 1,
   "metadata": {
    "collapsed": false
   },
   "outputs": [
    {
     "data": {
      "text/plain": [
       "Arc (constructor with 3 methods)"
      ]
     },
     "execution_count": 1,
     "metadata": {},
     "output_type": "execute_result"
    }
   ],
   "source": [
    "#include(\"defArc.jl\")\n",
    "\n",
    "type Arc\n",
    "    initNode::Int \n",
    "    termNode::Int \n",
    "    capacity::Float64\n",
    "    freeflowtime::Float64\n",
    "    flow::Float64\n",
    "end\n",
    "\n",
    "Arc(initNode::Int, termNode::Int, capacity::Float64, freeflowtime::Float64) = \n",
    "    Arc(initNode, termNode, capacity, freeflowtime, 0.)"
   ]
  },
  {
   "cell_type": "code",
   "execution_count": 2,
   "metadata": {
    "collapsed": false
   },
   "outputs": [
    {
     "data": {
      "text/plain": [
       "bpacost (generic function with 3 methods)"
      ]
     },
     "execution_count": 2,
     "metadata": {},
     "output_type": "execute_result"
    }
   ],
   "source": [
    "#include(\"fitTraffic.jl\")\n",
    "\n",
    "## Solve an inverse tarffic problem over polynomials \n",
    "## of degree at most d\n",
    "## optionally use a regularizer from the poly kernel\n",
    "\n",
    "using JuMP\n",
    "using Gurobi\n",
    "using Graphs\n",
    "using Roots\n",
    "\n",
    "\n",
    "polyEval(coeffs, pt) = sum([coeffs[i] * pt^(i-1) for i = 1:length(coeffs)])  \n",
    "\n",
    "polyEval(coeffs::Array{Float64, 1}, pt) = sum([coeffs[i] * pt^(i-1) for i = 1:length(coeffs)]) \n",
    "\n",
    "bpacost(flow::Float64, capacity::Float64, freeflowtime::Float64) = freeflowtime*(1 + .15 * (flow/capacity)^4)\n",
    "bpacost(flow::Float64, arc) = bpacost(flow, arc.capacity, arc.freeflowtime)\n",
    "bpacost(arc::Arc) = bpacost(arc.flow, arc)"
   ]
  },
  {
   "cell_type": "code",
   "execution_count": 3,
   "metadata": {
    "collapsed": false
   },
   "outputs": [
    {
     "data": {
      "text/plain": [
       "setUpFitting (generic function with 1 method)"
      ]
     },
     "execution_count": 3,
     "metadata": {},
     "output_type": "execute_result"
    }
   ],
   "source": [
    "function setUpFitting(deg::Int, c::Float64)\n",
    "\n",
    "\tm = Model(solver=GurobiSolver(OutputFlag=false))\n",
    "    \n",
    "\t@defVar(m, coeffs[1:deg+1])\n",
    "\t@defVar(m, Calphas[1:deg+1])\n",
    "\n",
    "\t#build the graham matrix; cf. Ref. [21] (Regularization Networks and Support Vector Machines), page 47\n",
    "\tsamples = linspace(0, 1, deg + 1)\n",
    "\tk(x,y) = (c + x*y)^deg\n",
    "\tK = [ k(x,y) for x = samples, y=samples]\n",
    "\tK = convert(Array{Float64, 2}, K)\n",
    "\t#assert(rank(K) == deg+1)\n",
    "    \n",
    "\tC = chol(K + 1e-6* eye(deg+1))\n",
    "\tfor i=1:deg + 1\n",
    "\t\t@addConstraint(m, polyEval(coeffs, samples[i]) == sum{C[j, i] * Calphas[j], j=1:deg+1})\n",
    "\tend\n",
    "    \n",
    "\t@defVar(m, reg_term >= 0)\n",
    "\treg_term_ = QuadExpr(Calphas[:], Calphas[:], ones(deg+1), AffExpr())\n",
    "    \n",
    "\t@addConstraint(m, reg_term >= reg_term_)\n",
    "    \n",
    "\treturn m, coeffs, reg_term\n",
    "\n",
    "end"
   ]
  },
  {
   "cell_type": "code",
   "execution_count": 4,
   "metadata": {
    "collapsed": false
   },
   "outputs": [
    {
     "data": {
      "text/plain": [
       "fixCoeffs (generic function with 1 method)"
      ]
     },
     "execution_count": 4,
     "metadata": {},
     "output_type": "execute_result"
    }
   ],
   "source": [
    "function fixCoeffs(m, fcoeffs, coeffs)\n",
    "\tfor (fc, c) in zip(fcoeffs, coeffs[:])\n",
    "\t\t@addConstraint(m, fc == c)\n",
    "\tend\n",
    "end"
   ]
  },
  {
   "cell_type": "code",
   "execution_count": 5,
   "metadata": {
    "collapsed": false
   },
   "outputs": [
    {
     "data": {
      "text/plain": [
       "addResid (generic function with 1 method)"
      ]
     },
     "execution_count": 5,
     "metadata": {},
     "output_type": "execute_result"
    }
   ],
   "source": [
    "function addResid(m, coeffs, ys, demands, arcs, scaling)\n",
    "\t@defVar(m, resid)\n",
    "\t@defVar(m, dual_cost)\n",
    "\t@defVar(m, primal_cost)\n",
    "\n",
    "\t@addConstraint(m, dual_cost == sum{demands[(s,t)] * (ys[(s,t), t] - ys[(s,t), s]), (s,t)=keys(demands)})  \n",
    "\t@addConstraint(m, primal_cost == sum{a.flow * a.freeflowtime * polyEval(coeffs, a.flow/a.capacity), a=values(arcs)})\n",
    "\n",
    "\t@addConstraint(m, resid >= (dual_cost - primal_cost) / scaling )\n",
    "\t@addConstraint(m, resid >= (primal_cost - dual_cost) / scaling )\n",
    "\treturn resid\n",
    "end"
   ]
  },
  {
   "cell_type": "code",
   "execution_count": 6,
   "metadata": {
    "collapsed": false
   },
   "outputs": [
    {
     "data": {
      "text/plain": [
       "addIncreasingCnsts (generic function with 1 method)"
      ]
     },
     "execution_count": 6,
     "metadata": {},
     "output_type": "execute_result"
    }
   ],
   "source": [
    "function addIncreasingCnsts(m, coeffs, arcs; TOL=0.)\n",
    "\tsorted_flows = sort([a.flow / a.capacity for a in values(arcs)])\n",
    "\t@addConstraint(m, polyEval(coeffs, 0) <= polyEval(coeffs, sorted_flows[1]))\n",
    "\tfor i = 2:length(sorted_flows)\n",
    "\t\t@addConstraint(m, polyEval(coeffs, sorted_flows[i-1]) <= polyEval(coeffs, sorted_flows[i]) + TOL)\n",
    "\tend\n",
    "    @addConstraint(m, coeffs[1] == 1)\n",
    "end"
   ]
  },
  {
   "cell_type": "code",
   "execution_count": 7,
   "metadata": {
    "collapsed": false
   },
   "outputs": [
    {
     "data": {
      "text/plain": [
       "normalize (generic function with 3 methods)"
      ]
     },
     "execution_count": 7,
     "metadata": {},
     "output_type": "execute_result"
    }
   ],
   "source": [
    "#equates the total cost of the network to the true total cost\n",
    "function normalize(m, coeffs, tot_true_cost::Float64, arcs)\n",
    "\t@addConstraint(m, \n",
    "\t\tsum{a.freeflowtime * a.flow * polyEval(coeffs, a.flow / a.capacity), a=values(arcs)} == tot_true_cost)\n",
    "end\n",
    "\n",
    "function normalize(m, coeffs, scaled_flow::Float64, cost::Float64)\n",
    "\t@addConstraint(m, polyEval(coeffs, scaled_flow) == cost)\n",
    "end\n",
    "\n",
    "function normalize(m, coeffs, scaled_flows::Array{Float64, 1}, avgCost::Float64)\n",
    "    @addConstraint(m, sum{polyEval(coeffs, f), f=scaled_flows} == avgCost * length(scaled_flows))\n",
    "end"
   ]
  },
  {
   "cell_type": "code",
   "execution_count": 8,
   "metadata": {
    "collapsed": false
   },
   "outputs": [
    {
     "data": {
      "text/plain": [
       "addNetworkCnsts (generic function with 1 method)"
      ]
     },
     "execution_count": 8,
     "metadata": {},
     "output_type": "execute_result"
    }
   ],
   "source": [
    "function addNetworkCnsts(m, coeffs, demands, arcs, numNodes)\n",
    "\t@defVar(m, ys[keys(demands), 1:numNodes])\n",
    "\tfor k = keys(arcs)\n",
    "\t\ta = arcs[k]\n",
    "\t\trhs = a.freeflowtime * polyEval(coeffs, a.flow/a.capacity)\n",
    "\t\tfor od in keys(demands)\n",
    "\t\t\t@addConstraint(m, ys[od, k[2]] - ys[od, k[1]] <= rhs)\n",
    "\t\tend\n",
    "\tend\n",
    "\treturn ys\n",
    "end"
   ]
  },
  {
   "cell_type": "code",
   "execution_count": 9,
   "metadata": {
    "collapsed": false
   },
   "outputs": [],
   "source": [
    "############\n",
    "#Read in demand data\n",
    "file = open(\"../temp_files/OD_demand_matrix_Oct_weekday_NT.txt\")\n",
    "demands = Dict{(Int64,Int64), Float64}()\n",
    "n = 8  # number of nodes\n",
    "for i in [1:n]\n",
    "    demands[(i,i)] = 0.0\n",
    "end\n",
    "for line in eachline(file)\n",
    "    OD_demand = split(line, \",\")\n",
    "    key, value = (int(OD_demand[1]),int(OD_demand[2])), float(split(OD_demand[3], \"\\n\")[1])\n",
    "    demands[key] = value\n",
    "end\n",
    "close(file)"
   ]
  },
  {
   "cell_type": "code",
   "execution_count": 10,
   "metadata": {
    "collapsed": false
   },
   "outputs": [
    {
     "data": {
      "text/plain": [
       "Dict{(Int64,Int64),Float64} with 64 entries:\n",
       "  (3,6) => 0.658456\n",
       "  (4,4) => 0.0\n",
       "  (3,1) => 4022.283928\n",
       "  (4,5) => 2424.056315\n",
       "  (2,4) => 3752.134176\n",
       "  (6,5) => 1.005246\n",
       "  (8,4) => 3554.153342\n",
       "  (1,2) => 0.0\n",
       "  (5,1) => 2.657753\n",
       "  (3,4) => 343.879341\n",
       "  (8,2) => 0.359373\n",
       "  (2,3) => 3.122064\n",
       "  (2,6) => 0.672473\n",
       "  (5,4) => 553.538287\n",
       "  (2,1) => 5.4e-5\n",
       "  (2,5) => 0.005616\n",
       "  (8,5) => 3.0e-6\n",
       "  (1,4) => 0.0\n",
       "  (2,8) => 0.156573\n",
       "  (5,8) => 0.000153\n",
       "  (4,8) => 3584.271813\n",
       "  (7,8) => 3016.899246\n",
       "  (1,1) => 0.0\n",
       "  (7,7) => 0.0\n",
       "  (5,7) => 0.000152\n",
       "  ⋮     => ⋮"
      ]
     },
     "execution_count": 10,
     "metadata": {},
     "output_type": "execute_result"
    }
   ],
   "source": [
    "demands"
   ]
  },
  {
   "cell_type": "code",
   "execution_count": 11,
   "metadata": {
    "collapsed": false
   },
   "outputs": [],
   "source": [
    "using JSON\n",
    "\n",
    "link_day_minute_Oct_dict = readall(\"../temp_files/link_day_minute_Oct_dict_JSON.json\");\n",
    "link_day_minute_Oct_dict = replace(link_day_minute_Oct_dict, \"NaN\", 0);\n",
    "\n",
    "link_day_minute_Oct_dict = JSON.parse(link_day_minute_Oct_dict);"
   ]
  },
  {
   "cell_type": "code",
   "execution_count": 12,
   "metadata": {
    "collapsed": false
   },
   "outputs": [],
   "source": [
    "# week_day_Oct_list = [1, 2, 3, 4, 5, 8, 9, 10, 11, 12, 15, 16, 17, 18, 19, 22, 23, 24, 25, 26, 29, 30, 31]\n",
    "\n",
    "# training set 1\n",
    "week_day_Oct_list_1 = [1, 2, 3, 4, 5, 8, 9, 10, 11, 12, 15, 16, 17, 18, 19]\n",
    "\n",
    "# training set 2\n",
    "week_day_Oct_list_2 = [1, 2, 3, 4, 5, 8, 9, 22, 23, 24, 25, 26, 29, 30, 31]\n",
    "\n",
    "# training set 3\n",
    "week_day_Oct_list_3 = [11, 12, 15, 16, 17, 18, 19, 22, 23, 24, 25, 26, 29, 30, 31]\n",
    "\n",
    "\n",
    "arcs_1 = Dict{(Int, Int), Arc}[]\n",
    "for j in week_day_Oct_list_1\n",
    "    arcs_1_ = Dict{(Int, Int), Arc}()\n",
    "    for i = 0:23\n",
    "        key = \"link_$(i)_$(j)\"\n",
    "        initNode = link_day_minute_Oct_dict[key][\"init_node\"]\n",
    "        termNode = link_day_minute_Oct_dict[key][\"term_node\"]\n",
    "        capacity = link_day_minute_Oct_dict[key][\"NT_capac\"]\n",
    "        freeflowtime = link_day_minute_Oct_dict[key][\"free_flow_time\"]\n",
    "        flow = link_day_minute_Oct_dict[key][\"NT_flow\"]\n",
    "        arcs_1_[(initNode, termNode)] = Arc(initNode, termNode, capacity, freeflowtime, flow)\n",
    "    end\n",
    "    push!(arcs_1, arcs_1_)\n",
    "end\n",
    "\n",
    "arcs_2 = Dict{(Int, Int), Arc}[]\n",
    "for j in week_day_Oct_list_2\n",
    "    arcs_2_ = Dict{(Int, Int), Arc}()\n",
    "    for i = 0:23\n",
    "        key = \"link_$(i)_$(j)\"\n",
    "        initNode = link_day_minute_Oct_dict[key][\"init_node\"]\n",
    "        termNode = link_day_minute_Oct_dict[key][\"term_node\"]\n",
    "        capacity = link_day_minute_Oct_dict[key][\"NT_capac\"]\n",
    "        freeflowtime = link_day_minute_Oct_dict[key][\"free_flow_time\"]\n",
    "        flow = link_day_minute_Oct_dict[key][\"NT_flow\"]\n",
    "        arcs_2_[(initNode, termNode)] = Arc(initNode, termNode, capacity, freeflowtime, flow)\n",
    "    end\n",
    "    push!(arcs_2, arcs_2_)\n",
    "end\n",
    "\n",
    "arcs_3 = Dict{(Int, Int), Arc}[]\n",
    "for j in week_day_Oct_list_3\n",
    "    arcs_3_ = Dict{(Int, Int), Arc}()\n",
    "    for i = 0:23\n",
    "        key = \"link_$(i)_$(j)\"\n",
    "        initNode = link_day_minute_Oct_dict[key][\"init_node\"]\n",
    "        termNode = link_day_minute_Oct_dict[key][\"term_node\"]\n",
    "        capacity = link_day_minute_Oct_dict[key][\"NT_capac\"]\n",
    "        freeflowtime = link_day_minute_Oct_dict[key][\"free_flow_time\"]\n",
    "        flow = link_day_minute_Oct_dict[key][\"NT_flow\"]\n",
    "        arcs_3_[(initNode, termNode)] = Arc(initNode, termNode, capacity, freeflowtime, flow)\n",
    "    end\n",
    "    push!(arcs_3, arcs_3_)\n",
    "end"
   ]
  },
  {
   "cell_type": "code",
   "execution_count": 13,
   "metadata": {
    "collapsed": false
   },
   "outputs": [],
   "source": [
    "##########\n",
    "# Set up demand data and flow data\n",
    "##########\n",
    "numData = length(arcs_1); \n",
    "sigma = .0\n",
    "\n",
    "flow_data_1 = Array(Float64, length(arcs_1[1]), numData)\n",
    "flow_data_2 = Array(Float64, length(arcs_2[1]), numData)\n",
    "flow_data_3 = Array(Float64, length(arcs_3[1]), numData)\n",
    "\n",
    "demand_data = Dict{(Int, Int), Array{Float64, 1}}()\n",
    "\n",
    "numNodes = maximum(map(pair->pair[1], keys(demands)))\n",
    "g = simple_inclist(numNodes, is_directed=true)\n",
    "vArcs = Arc[]\n",
    "for arc in values(arcs_1[1])\n",
    "    add_edge!(g, arc.initNode, arc.termNode) \n",
    "    push!(vArcs, arc)\n",
    "end\n",
    "\n",
    "\n",
    "for iRun = 1:numData\n",
    "    for odpair in keys(demands)\n",
    "        if ! haskey(demand_data, odpair)\n",
    "            demand_data[odpair] = [demands[odpair], ]\n",
    "        else\n",
    "            push!(demand_data[odpair], demands[odpair])\n",
    "        end\n",
    "    end\n",
    "\n",
    "    #flow_data[:, iRun] = [a.flow::Float64 for a in vArcs]\n",
    "    flow_data_1[:, iRun] = [a.flow::Float64 for a in values(arcs_1[iRun])]\n",
    "    flow_data_2[:, iRun] = [a.flow::Float64 for a in values(arcs_2[iRun])]\n",
    "    flow_data_3[:, iRun] = [a.flow::Float64 for a in values(arcs_3[iRun])]\n",
    "end"
   ]
  },
  {
   "cell_type": "code",
   "execution_count": 14,
   "metadata": {
    "collapsed": false
   },
   "outputs": [
    {
     "data": {
      "text/plain": [
       "Dict{(Int64,Int64),Array{Float64,1}} with 64 entries:\n",
       "  (3,6) => [0.658456,0.658456,0.658456,0.658456,0.658456,0.658456,0.658456,0.65…\n",
       "  (4,4) => [0.0,0.0,0.0,0.0,0.0,0.0,0.0,0.0,0.0,0.0,0.0,0.0,0.0,0.0,0.0]\n",
       "  (3,1) => [4022.283928,4022.283928,4022.283928,4022.283928,4022.283928,4022.28…\n",
       "  (4,5) => [2424.056315,2424.056315,2424.056315,2424.056315,2424.056315,2424.05…\n",
       "  (2,4) => [3752.134176,3752.134176,3752.134176,3752.134176,3752.134176,3752.13…\n",
       "  (6,5) => [1.005246,1.005246,1.005246,1.005246,1.005246,1.005246,1.005246,1.00…\n",
       "  (8,4) => [3554.153342,3554.153342,3554.153342,3554.153342,3554.153342,3554.15…\n",
       "  (1,2) => [0.0,0.0,0.0,0.0,0.0,0.0,0.0,0.0,0.0,0.0,0.0,0.0,0.0,0.0,0.0]\n",
       "  (5,1) => [2.657753,2.657753,2.657753,2.657753,2.657753,2.657753,2.657753,2.65…\n",
       "  (3,4) => [343.879341,343.879341,343.879341,343.879341,343.879341,343.879341,3…\n",
       "  (8,2) => [0.359373,0.359373,0.359373,0.359373,0.359373,0.359373,0.359373,0.35…\n",
       "  (2,3) => [3.122064,3.122064,3.122064,3.122064,3.122064,3.122064,3.122064,3.12…\n",
       "  (2,6) => [0.672473,0.672473,0.672473,0.672473,0.672473,0.672473,0.672473,0.67…\n",
       "  (5,4) => [553.538287,553.538287,553.538287,553.538287,553.538287,553.538287,5…\n",
       "  (2,1) => [5.4e-5,5.4e-5,5.4e-5,5.4e-5,5.4e-5,5.4e-5,5.4e-5,5.4e-5,5.4e-5,5.4e…\n",
       "  (2,5) => [0.005616,0.005616,0.005616,0.005616,0.005616,0.005616,0.005616,0.00…\n",
       "  (8,5) => [3.0e-6,3.0e-6,3.0e-6,3.0e-6,3.0e-6,3.0e-6,3.0e-6,3.0e-6,3.0e-6,3.0e…\n",
       "  (1,4) => [0.0,0.0,0.0,0.0,0.0,0.0,0.0,0.0,0.0,0.0,0.0,0.0,0.0,0.0,0.0]\n",
       "  (2,8) => [0.156573,0.156573,0.156573,0.156573,0.156573,0.156573,0.156573,0.15…\n",
       "  (5,8) => [0.000153,0.000153,0.000153,0.000153,0.000153,0.000153,0.000153,0.00…\n",
       "  (4,8) => [3584.271813,3584.271813,3584.271813,3584.271813,3584.271813,3584.27…\n",
       "  (7,8) => [3016.899246,3016.899246,3016.899246,3016.899246,3016.899246,3016.89…\n",
       "  (1,1) => [0.0,0.0,0.0,0.0,0.0,0.0,0.0,0.0,0.0,0.0,0.0,0.0,0.0,0.0,0.0]\n",
       "  (7,7) => [0.0,0.0,0.0,0.0,0.0,0.0,0.0,0.0,0.0,0.0,0.0,0.0,0.0,0.0,0.0]\n",
       "  (5,7) => [0.000152,0.000152,0.000152,0.000152,0.000152,0.000152,0.000152,0.00…\n",
       "  ⋮     => ⋮"
      ]
     },
     "execution_count": 14,
     "metadata": {},
     "output_type": "execute_result"
    }
   ],
   "source": [
    "demand_data"
   ]
  },
  {
   "cell_type": "code",
   "execution_count": 15,
   "metadata": {
    "collapsed": false
   },
   "outputs": [
    {
     "data": {
      "text/plain": [
       "24x15 Array{Float64,2}:\n",
       " 3885.75  3795.42  3929.4   4218.75  …  3796.33  4233.75  3995.61  3769.68\n",
       " 4187.78  4073.51  4187.52  4301.96     4268.33  4561.44  4587.04  4150.87\n",
       " 3254.15  3510.11  3677.13  3621.88     3444.02  3869.42  3737.52  3561.03\n",
       " 3865.38  3656.18  3785.2   3718.18     3769.93  4010.38  3906.93  3878.28\n",
       " 3490.3   3389.95  3493.98  3449.49     3365.76  3608.93  3518.13  3433.41\n",
       " 3690.13  3512.23  3602.85  3760.79  …  3571.84  3833.25  3527.58  3639.04\n",
       " 4464.34  4448.01  4438.62  4112.57     4345.45  4610.41  4496.84  4316.72\n",
       " 3774.29  4268.78  4340.72  4344.41     4212.75  4566.89  4518.85  4376.67\n",
       " 3361.07  3239.46  3381.99  3673.92     3305.59  3549.38  3553.97  3356.09\n",
       " 3640.24  3697.37  3642.94  3704.39     3570.63  3790.78  3684.57  3713.06\n",
       " 3897.91  3919.59  4012.0   3949.81  …  3905.82  4130.27  4292.93  4124.93\n",
       " 3794.18  3461.73  3512.23  3586.77     3459.25  3731.4   3594.11  3623.53\n",
       " 4162.28  4036.19  4086.32  4169.61     4123.42  4304.53  4267.59  4078.23\n",
       " 4095.59  3902.21  3864.88  3796.55     3942.26  4075.97  4037.08  3968.54\n",
       " 3622.97  3188.1   3598.16  3646.29     3646.79  3788.21  3699.09  3657.55\n",
       " 3693.43  3575.66  3674.43  3502.77  …  3529.89  3754.16  3667.99  3506.15\n",
       " 2833.82  2937.37  2944.98  2941.7      2868.91  2886.79  3023.97  2947.57\n",
       " 3857.74  3986.77  4129.54  4130.06     3948.45  4241.03  4195.13  4116.85\n",
       " 3612.46  3586.93  3596.64  3663.48     3556.25  3816.87  3661.72  3632.75\n",
       " 3519.69  3579.85  3517.74  3526.93     3481.12  3706.91  3657.23  3556.6 \n",
       " 4740.52  4770.96  4847.66  4632.89  …  4596.74  4963.66  4809.73  4836.72\n",
       " 3620.85  3591.89  3661.74  3576.08     3309.51  3798.7   3708.12  3580.2 \n",
       " 4625.56  4680.34  4832.18  5006.27     4606.03  5083.66  5010.77  4998.9 \n",
       " 3981.05  3945.74  4045.47  3949.32     3815.67  4092.72  4117.53  4016.98"
      ]
     },
     "execution_count": 15,
     "metadata": {},
     "output_type": "execute_result"
    }
   ],
   "source": [
    "flow_data_3"
   ]
  },
  {
   "cell_type": "code",
   "execution_count": 16,
   "metadata": {
    "collapsed": false
   },
   "outputs": [
    {
     "data": {
      "text/plain": [
       "train (generic function with 1 method)"
      ]
     },
     "execution_count": 16,
     "metadata": {},
     "output_type": "execute_result"
    }
   ],
   "source": [
    "##########\n",
    "#Fitting Funcs\n",
    "##########\n",
    "\n",
    "function train(indices, lam::Float64, deg::Int, c::Float64, demand_data, flow_data, arcs; fcoeffs=nothing)\n",
    "    numNodes = maximum(map(pair->pair[1], keys(arcs)))\n",
    "    m, coeffs, reg_term = setUpFitting(deg, c)\n",
    "    \n",
    "    addIncreasingCnsts(m, coeffs, arcs, TOL=1e-8)  #uses the original obs flows\n",
    "\n",
    "    avgCost = mean( [bpacost(a.flow, a.capacity, 1.0) for a in values(arcs)] )\n",
    "    normalize(m, coeffs, [a.flow / a.capacity for a in values(arcs)], avgCost)\n",
    "\n",
    "\n",
    "    resids = Variable[]\n",
    "    \n",
    "    for i = indices\n",
    "        #copy the flow data over to the arcs, demand data to demands (slow)\n",
    "        for (ix, a) in enumerate(vArcs)\n",
    "            a.flow = flow_data[ix, i]\n",
    "        end\n",
    "        for odpair in keys(demands)\n",
    "            demands[odpair] = demand_data[odpair][i]\n",
    "        end\n",
    "    \n",
    "        #Dual Feasibility\n",
    "        ys = addNetworkCnsts(m, coeffs, demands, arcs, numNodes)\n",
    "        \n",
    "        #add the residual for this data point\n",
    "        push!(resids, addResid(m, coeffs, ys, demands, arcs, 1e6))\n",
    "    end\n",
    "\n",
    "    if fcoeffs != nothing\n",
    "        fixCoeffs(m, fcoeffs, coeffs)\n",
    "    end\n",
    "    @setObjective(m, Min, sum{resids[i], i = 1:length(resids)} + lam*reg_term)\n",
    "    solve(m)\n",
    "    #println(getObjectiveValue(m) - lam * getValue(reg_term) )\n",
    "    return [getValue(coeffs[i]) for i =1:length(coeffs)]\n",
    "end"
   ]
  },
  {
   "cell_type": "code",
   "execution_count": 17,
   "metadata": {
    "collapsed": false
   },
   "outputs": [],
   "source": [
    "#include(\"trafficCval.jl\")\n",
    "\n",
    "coeffs_dict_Oct_NT = Dict{(Int64,Float64,Float64,Int64),Array{Float64,1}}()\n",
    "\n",
    "deg_grid = [4:8]\n",
    "c_grid = .5:.5:3.\n",
    "lamb_grid = [10. .^(-3:4)]\n",
    "\n",
    "for deg in deg_grid\n",
    "    for c in c_grid\n",
    "        for lam in lamb_grid\n",
    "            coeffs_dict_Oct_NT[(deg, c, lam, 1)] = train(1:numData, lam, deg, c, demand_data, flow_data_1, arcs_1[1])\n",
    "            coeffs_dict_Oct_NT[(deg, c, lam, 2)] = train(1:numData, lam, deg, c, demand_data, flow_data_2, arcs_2[1])\n",
    "            coeffs_dict_Oct_NT[(deg, c, lam, 3)] = train(1:numData, lam, deg, c, demand_data, flow_data_3, arcs_3[1])\n",
    "        end\n",
    "    end\n",
    "end"
   ]
  },
  {
   "cell_type": "code",
   "execution_count": 18,
   "metadata": {
    "collapsed": false
   },
   "outputs": [],
   "source": [
    "outfile = open(\"../temp_files/coeffs_dict_Oct_NT.json\", \"w\")\n",
    "\n",
    "JSON.print(outfile, coeffs_dict_Oct_NT)\n",
    "\n",
    "close(outfile)"
   ]
  },
  {
   "cell_type": "code",
   "execution_count": 19,
   "metadata": {
    "collapsed": false
   },
   "outputs": [
    {
     "data": {
      "text/plain": [
       "Dict{String,Any} with 720 entries:\n",
       "  \"(7,2.5,10000.0,3)\" => {1.0,0.03770498420347919,0.03846656369105533,0.02183483…\n",
       "  \"(5,0.5,100.0,3)\"   => {1.0,0.007405749836412291,0.027745366990003514,0.041556…\n",
       "  \"(6,1.5,10.0,3)\"    => {1.0,0.021902846648836183,0.03867120126617947,0.0341496…\n",
       "  \"(6,2.0,0.1,2)\"     => {1.0,-0.2419401783322878,0.07089629936273086,0.23175165…\n",
       "  \"(4,0.5,1000.0,1)\"  => {1.0,0.015248631910002457,0.03983465178363252,0.0446686…\n",
       "  \"(6,2.0,0.01,1)\"    => {1.0,0.013710183242597252,-0.3003820683735953,0.1340180…\n",
       "  \"(8,1.5,0.01,1)\"    => {1.0,0.4949169972682565,-0.48140454822296447,-0.8246564…\n",
       "  \"(5,1.5,1.0,1)\"     => {1.0,0.01999554792534914,0.04457632913649831,0.03658976…\n",
       "  \"(8,2.5,0.001,2)\"   => {1.0,0.9653445943358476,0.4682931721294511,-3.686977530…\n",
       "  \"(4,2.0,0.1,1)\"     => {1.0,-0.04854724042968092,0.10413874889476005,0.0645695…\n",
       "  \"(5,1.0,1000.0,2)\"  => {1.0,0.023983065556611057,0.04039472668520381,0.0341355…\n",
       "  \"(4,2.0,0.1,2)\"     => {1.0,-0.03462517932126812,0.09476193813717967,0.0573766…\n",
       "  \"(5,2.0,0.001,1)\"   => {1.0,0.28059972069947625,-0.9040226107008258,0.34134776…\n",
       "  \"(7,1.5,0.01,3)\"    => {1.0,-0.1185065851669041,0.1481422717262833,0.213344926…\n",
       "  \"(4,0.5,0.1,3)\"     => {1.0,0.006954398758516938,0.034045411370301766,0.053183…\n",
       "  \"(6,2.0,1000.0,3)\"  => {1.0,0.036902070797174336,0.03935610204908586,0.0224027…\n",
       "  \"(6,2.0,0.1,3)\"     => {1.0,-0.020967729152260525,0.06617709701584898,0.061666…\n",
       "  \"(4,1.5,1.0,1)\"     => {1.0,0.04071263671937683,0.04357522483732476,0.01956680…\n",
       "  \"(8,2.0,10000.0,1)\" => {1.0,0.024670730703360576,0.03705651198225415,0.0318433…\n",
       "  \"(7,0.5,0.001,2)\"   => {1.0,-0.013736168879903766,-0.03209406321448763,-0.1937…\n",
       "  \"(5,1.0,10000.0,2)\" => {1.0,0.023471117395815148,0.04040847329598401,0.0345855…\n",
       "  \"(8,3.0,0.01,1)\"    => {1.0,2.353661285949866,-3.5371137680532314,-1.745735775…\n",
       "  \"(8,2.0,0.01,3)\"    => {1.0,-0.23576947295174094,0.23487166233684018,0.3885639…\n",
       "  \"(5,3.0,100.0,3)\"   => {1.0,0.05462479146824974,0.033585771761638177,0.0101657…\n",
       "  \"(5,3.0,10000.0,3)\" => {1.0,0.05684414930482871,0.032072887323518005,0.0090668…\n",
       "  ⋮                    => ⋮"
      ]
     },
     "execution_count": 19,
     "metadata": {},
     "output_type": "execute_result"
    }
   ],
   "source": [
    "coeffs_dict_Oct_NT_ = readall(\"../temp_files/coeffs_dict_Oct_NT.json\")\n",
    "coeffs_dict_Oct_NT_ = JSON.parse(coeffs_dict_Oct_NT_)"
   ]
  },
  {
   "cell_type": "code",
   "execution_count": 20,
   "metadata": {
    "collapsed": false
   },
   "outputs": [
    {
     "data": {
      "text/plain": [
       "9-element Array{Any,1}:\n",
       "  1.0       \n",
       " -0.00476327\n",
       "  0.0528034 \n",
       " -0.202322  \n",
       "  0.619411  \n",
       " -0.895835  \n",
       "  0.951397  \n",
       " -0.459327  \n",
       "  0.111098  "
      ]
     },
     "execution_count": 20,
     "metadata": {},
     "output_type": "execute_result"
    }
   ],
   "source": [
    "coeffs_dict_Oct_NT_[\"(8,0.5,10000.0,1)\"]"
   ]
  },
  {
   "cell_type": "code",
   "execution_count": 21,
   "metadata": {
    "collapsed": false
   },
   "outputs": [
    {
     "name": "stderr",
     "output_type": "stream",
     "text": [
      "INFO: Loading help data...\n"
     ]
    },
    {
     "data": {
      "image/png": "[encoded data removed]",
      "text/plain": [
       "Figure(PyObject <matplotlib.figure.Figure object at 0x7f7ae700d190>)"
      ]
     },
     "metadata": {},
     "output_type": "display_data"
    }
   ],
   "source": [
    "using PyPlot\n",
    "\n",
    "fcoeffs = coeffs_dict_Oct_NT_[\"(8,0.5,10.0,3)\"]\n",
    "\n",
    "\n",
    "xs = linspace(0, 1.1, 30)\n",
    "ys = map(x->polyEval(fcoeffs, x), xs)\n",
    "\n",
    "plot(xs, ys, \"o-m\", label=\"Oct_NT\")\n",
    "\n",
    "#legend(loc=\"upper left\",fancybox=\"true\") \n",
    "\n",
    "grid(\"on\")\n",
    "xlim(-0.1, 1.05);\n",
    "ylim(0.99, 1.2);\n",
    "\n",
    "font1 = [\"family\"=>\"serif\",\n",
    "    \"color\"=>\"darkred\",\n",
    "    \"weight\"=>\"normal\",\n",
    "    \"size\"=>14]\n",
    "xlabel(\"Scaled Flow\", fontdict=font1)\n",
    "\n",
    "savefig(\"../temp_files/fitting_Oct_NT.pdf\")"
   ]
  },
  {
   "cell_type": "code",
   "execution_count": null,
   "metadata": {
    "collapsed": true
   },
   "outputs": [],
   "source": []
  }
 ],
 "metadata": {
  "kernelspec": {
   "display_name": "Julia 0.3.7",
   "language": "julia",
   "name": "julia-0.3"
  },
  "language_info": {
   "file_extension": ".jl",
   "mimetype": "application/julia",
   "name": "julia",
   "version": "0.3.7"
  }
 },
 "nbformat": 4,
 "nbformat_minor": 0
}
