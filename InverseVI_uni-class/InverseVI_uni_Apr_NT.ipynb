{
 "cells": [
  {
   "cell_type": "code",
   "execution_count": 1,
   "metadata": {
    "collapsed": false
   },
   "outputs": [
    {
     "data": {
      "text/plain": [
       "Arc (constructor with 3 methods)"
      ]
     },
     "execution_count": 1,
     "metadata": {},
     "output_type": "execute_result"
    }
   ],
   "source": [
    "#include(\"defArc.jl\")\n",
    "\n",
    "type Arc\n",
    "    initNode::Int \n",
    "    termNode::Int \n",
    "    capacity::Float64\n",
    "    freeflowtime::Float64\n",
    "    flow::Float64\n",
    "end\n",
    "\n",
    "Arc(initNode::Int, termNode::Int, capacity::Float64, freeflowtime::Float64) = \n",
    "    Arc(initNode, termNode, capacity, freeflowtime, 0.)"
   ]
  },
  {
   "cell_type": "code",
   "execution_count": 2,
   "metadata": {
    "collapsed": false
   },
   "outputs": [
    {
     "data": {
      "text/plain": [
       "bpacost (generic function with 3 methods)"
      ]
     },
     "execution_count": 2,
     "metadata": {},
     "output_type": "execute_result"
    }
   ],
   "source": [
    "#include(\"fitTraffic.jl\")\n",
    "\n",
    "## Solve an inverse tarffic problem over polynomials \n",
    "## of degree at most d\n",
    "## optionally use a regularizer from the poly kernel\n",
    "\n",
    "using JuMP\n",
    "using Gurobi\n",
    "using Graphs\n",
    "using Roots\n",
    "\n",
    "\n",
    "polyEval(coeffs, pt) = sum([coeffs[i] * pt^(i-1) for i = 1:length(coeffs)])  \n",
    "\n",
    "polyEval(coeffs::Array{Float64, 1}, pt) = sum([coeffs[i] * pt^(i-1) for i = 1:length(coeffs)]) \n",
    "\n",
    "bpacost(flow::Float64, capacity::Float64, freeflowtime::Float64) = freeflowtime*(1 + .15 * (flow/capacity)^4)\n",
    "bpacost(flow::Float64, arc) = bpacost(flow, arc.capacity, arc.freeflowtime)\n",
    "bpacost(arc::Arc) = bpacost(arc.flow, arc)"
   ]
  },
  {
   "cell_type": "code",
   "execution_count": 3,
   "metadata": {
    "collapsed": false
   },
   "outputs": [
    {
     "data": {
      "text/plain": [
       "setUpFitting (generic function with 1 method)"
      ]
     },
     "execution_count": 3,
     "metadata": {},
     "output_type": "execute_result"
    }
   ],
   "source": [
    "function setUpFitting(deg::Int, c::Float64)\n",
    "\n",
    "\tm = Model(solver=GurobiSolver(OutputFlag=false))\n",
    "    \n",
    "\t@defVar(m, coeffs[1:deg+1])\n",
    "\t@defVar(m, Calphas[1:deg+1])\n",
    "\n",
    "\t#build the graham matrix; cf. Ref. [21] (Regularization Networks and Support Vector Machines), page 47\n",
    "\tsamples = linspace(0, 1, deg + 1)\n",
    "\tk(x,y) = (c + x*y)^deg\n",
    "\tK = [ k(x,y) for x = samples, y=samples]\n",
    "\tK = convert(Array{Float64, 2}, K)\n",
    "\tassert(rank(K) == deg+1)\n",
    "    \n",
    "\tC = chol(K + 1e-6* eye(deg+1))\n",
    "\tfor i=1:deg + 1\n",
    "\t\t@addConstraint(m, polyEval(coeffs, samples[i]) == sum{C[j, i] * Calphas[j], j=1:deg+1})\n",
    "\tend\n",
    "    \n",
    "\t@defVar(m, reg_term >= 0)\n",
    "\treg_term_ = QuadExpr(Calphas[:], Calphas[:], ones(deg+1), AffExpr())\n",
    "    \n",
    "\t@addConstraint(m, reg_term >= reg_term_)\n",
    "    \n",
    "\treturn m, coeffs, reg_term\n",
    "\n",
    "end"
   ]
  },
  {
   "cell_type": "code",
   "execution_count": 4,
   "metadata": {
    "collapsed": false
   },
   "outputs": [
    {
     "data": {
      "text/plain": [
       "fixCoeffs (generic function with 1 method)"
      ]
     },
     "execution_count": 4,
     "metadata": {},
     "output_type": "execute_result"
    }
   ],
   "source": [
    "function fixCoeffs(m, fcoeffs, coeffs)\n",
    "\tfor (fc, c) in zip(fcoeffs, coeffs[:])\n",
    "\t\t@addConstraint(m, fc == c)\n",
    "\tend\n",
    "end"
   ]
  },
  {
   "cell_type": "code",
   "execution_count": 5,
   "metadata": {
    "collapsed": false
   },
   "outputs": [
    {
     "data": {
      "text/plain": [
       "addResid (generic function with 1 method)"
      ]
     },
     "execution_count": 5,
     "metadata": {},
     "output_type": "execute_result"
    }
   ],
   "source": [
    "function addResid(m, coeffs, ys, demands, arcs, scaling)\n",
    "\t@defVar(m, resid)\n",
    "\t@defVar(m, dual_cost)\n",
    "\t@defVar(m, primal_cost)\n",
    "\n",
    "\t@addConstraint(m, dual_cost == sum{demands[(s,t)] * (ys[(s,t), t] - ys[(s,t), s]), (s,t)=keys(demands)})  \n",
    "\t@addConstraint(m, primal_cost == sum{a.flow * a.freeflowtime * polyEval(coeffs, a.flow/a.capacity), a=values(arcs)})\n",
    "\n",
    "\t@addConstraint(m, resid >= (dual_cost - primal_cost) / scaling )\n",
    "\t@addConstraint(m, resid >= (primal_cost - dual_cost) / scaling )\n",
    "\treturn resid\n",
    "end"
   ]
  },
  {
   "cell_type": "code",
   "execution_count": 6,
   "metadata": {
    "collapsed": false
   },
   "outputs": [
    {
     "data": {
      "text/plain": [
       "addIncreasingCnsts (generic function with 1 method)"
      ]
     },
     "execution_count": 6,
     "metadata": {},
     "output_type": "execute_result"
    }
   ],
   "source": [
    "function addIncreasingCnsts(m, coeffs, arcs; TOL=0.)\n",
    "\tsorted_flows = sort([a.flow / a.capacity for a in values(arcs)])\n",
    "\t@addConstraint(m, polyEval(coeffs, 0) <= polyEval(coeffs, sorted_flows[1]))\n",
    "\tfor i = 2:length(sorted_flows)\n",
    "\t\t@addConstraint(m, polyEval(coeffs, sorted_flows[i-1]) <= polyEval(coeffs, sorted_flows[i]) + TOL)\n",
    "\tend\n",
    "end"
   ]
  },
  {
   "cell_type": "code",
   "execution_count": 7,
   "metadata": {
    "collapsed": false
   },
   "outputs": [
    {
     "data": {
      "text/plain": [
       "normalize (generic function with 3 methods)"
      ]
     },
     "execution_count": 7,
     "metadata": {},
     "output_type": "execute_result"
    }
   ],
   "source": [
    "#equates the total cost of the network to the true total cost\n",
    "function normalize(m, coeffs, tot_true_cost::Float64, arcs)\n",
    "\t@addConstraint(m, \n",
    "\t\tsum{a.freeflowtime * a.flow * polyEval(coeffs, a.flow / a.capacity), a=values(arcs)} == tot_true_cost)\n",
    "end\n",
    "\n",
    "function normalize(m, coeffs, scaled_flow::Float64, cost::Float64)\n",
    "\t@addConstraint(m, polyEval(coeffs, scaled_flow) == cost)\n",
    "end\n",
    "\n",
    "function normalize(m, coeffs, scaled_flows::Array{Float64, 1}, avgCost::Float64)\n",
    "    @addConstraint(m, sum{polyEval(coeffs, f), f=scaled_flows} == avgCost * length(scaled_flows))\n",
    "end"
   ]
  },
  {
   "cell_type": "code",
   "execution_count": 8,
   "metadata": {
    "collapsed": false
   },
   "outputs": [
    {
     "data": {
      "text/plain": [
       "addNetworkCnsts (generic function with 1 method)"
      ]
     },
     "execution_count": 8,
     "metadata": {},
     "output_type": "execute_result"
    }
   ],
   "source": [
    "function addNetworkCnsts(m, coeffs, demands, arcs, numNodes)\n",
    "\t@defVar(m, ys[keys(demands), 1:numNodes])\n",
    "\tfor k = keys(arcs)\n",
    "\t\ta = arcs[k]\n",
    "\t\trhs = a.freeflowtime * polyEval(coeffs, a.flow/a.capacity)\n",
    "\t\tfor od in keys(demands)\n",
    "\t\t\t@addConstraint(m, ys[od, k[2]] - ys[od, k[1]] <= rhs)\n",
    "\t\tend\n",
    "\tend\n",
    "\treturn ys\n",
    "end"
   ]
  },
  {
   "cell_type": "code",
   "execution_count": 9,
   "metadata": {
    "collapsed": false
   },
   "outputs": [],
   "source": [
    "############\n",
    "#Read in demand data\n",
    "file = open(\"../temp_files/OD_demand_matrix_Apr_weekday_NT.txt\")\n",
    "demands = Dict{(Int64,Int64), Float64}()\n",
    "n = 8  # number of nodes\n",
    "for i in [1:n]\n",
    "    demands[(i,i)] = 0.0\n",
    "end\n",
    "for line in eachline(file)\n",
    "    OD_demand = split(line, \",\")\n",
    "    key, value = (int(OD_demand[1]),int(OD_demand[2])), float(split(OD_demand[3], \"\\n\")[1])\n",
    "    demands[key] = value\n",
    "end\n",
    "close(file)"
   ]
  },
  {
   "cell_type": "code",
   "execution_count": 10,
   "metadata": {
    "collapsed": false
   },
   "outputs": [
    {
     "data": {
      "text/plain": [
       "Dict{(Int64,Int64),Float64} with 64 entries:\n",
       "  (3,6) => 0.000478\n",
       "  (4,4) => 0.0\n",
       "  (3,1) => 1641.784874\n",
       "  (4,5) => 0.117631\n",
       "  (2,4) => 3490.911529\n",
       "  (6,5) => 0.439585\n",
       "  (8,4) => 3445.696632\n",
       "  (1,2) => 0.0\n",
       "  (5,1) => 1.013621\n",
       "  (3,4) => 582.212871\n",
       "  (8,2) => 0.758674\n",
       "  (2,3) => 0.0\n",
       "  (2,6) => 0.0\n",
       "  (5,4) => 259.122027\n",
       "  (2,1) => 5.6e-5\n",
       "  (2,5) => 0.0\n",
       "  (8,5) => 3.0e-6\n",
       "  (1,4) => 0.0\n",
       "  (2,8) => 0.0\n",
       "  (5,8) => 0.000217\n",
       "  (4,8) => 3250.504074\n",
       "  (7,8) => 2369.914873\n",
       "  (1,1) => 0.0\n",
       "  (7,7) => 0.0\n",
       "  (5,7) => 0.000214\n",
       "  ⋮     => ⋮"
      ]
     },
     "execution_count": 10,
     "metadata": {},
     "output_type": "execute_result"
    }
   ],
   "source": [
    "demands"
   ]
  },
  {
   "cell_type": "code",
   "execution_count": 11,
   "metadata": {
    "collapsed": false
   },
   "outputs": [],
   "source": [
    "using JSON\n",
    "\n",
    "link_day_minute_Apr_dict = readall(\"../temp_files/link_day_minute_Apr_dict_JSON.json\");\n",
    "link_day_minute_Apr_dict = replace(link_day_minute_Apr_dict, \"NaN\", 0);\n",
    "\n",
    "link_day_minute_Apr_dict = JSON.parse(link_day_minute_Apr_dict);"
   ]
  },
  {
   "cell_type": "code",
   "execution_count": 12,
   "metadata": {
    "collapsed": false
   },
   "outputs": [],
   "source": [
    "week_day_Apr_list = [2, 3, 4, 5, 6, 9, 10, 11, 12, 13, 16, 17, 18, 19, 20, 23, 24, 25, 26, 27, 30]\n",
    "\n",
    "arcs = Dict{(Int, Int), Arc}[]\n",
    "for j in week_day_Apr_list\n",
    "    arcs_ = Dict{(Int, Int), Arc}()\n",
    "    for i = 0:23\n",
    "        key = \"link_$(i)_$(j)\"\n",
    "        initNode = link_day_minute_Apr_dict[key][\"init_node\"]\n",
    "        termNode = link_day_minute_Apr_dict[key][\"term_node\"]\n",
    "        capacity = link_day_minute_Apr_dict[key][\"NT_capac\"]\n",
    "        freeflowtime = link_day_minute_Apr_dict[key][\"free_flow_time\"]\n",
    "        flow = link_day_minute_Apr_dict[key][\"NT_flow\"]\n",
    "        arcs_[(initNode, termNode)] = Arc(initNode, termNode, capacity, freeflowtime, flow)\n",
    "    end\n",
    "    push!(arcs, arcs_)\n",
    "end"
   ]
  },
  {
   "cell_type": "code",
   "execution_count": 13,
   "metadata": {
    "collapsed": false
   },
   "outputs": [
    {
     "data": {
      "text/plain": [
       "Dict{(Int64,Int64),Arc} with 24 entries:\n",
       "  (3,6) => Arc(3,6,5267.945798475534,0.16840152335971761,4039.95621177377)\n",
       "  (2,3) => Arc(2,3,5078.006957545327,0.10409973043063461,4393.203666530491)\n",
       "  (5,6) => Arc(5,6,4148.621087810818,0.12661225524551784,3642.5556112040135)\n",
       "  (5,4) => Arc(5,4,4473.395839816008,0.18133180550578695,3855.2744088328304)\n",
       "  (2,1) => Arc(2,1,4007.302942944639,0.23909866085027826,3418.01985462712)\n",
       "  (6,3) => Arc(6,3,4553.584600959735,0.179258743419391,3394.8253736841134)\n",
       "  (3,1) => Arc(3,1,5147.757009368769,0.3425563191052758,4447.1010701130235)\n",
       "  (1,3) => Arc(1,3,5081.434022334587,0.33560685034356513,4439.87717997366)\n",
       "  (4,5) => Arc(4,5,4026.763691487305,0.1775553762157021,3470.833600076505)\n",
       "  (4,8) => Arc(4,8,4200.0,0.25118438552180683,3674.2200843291025)\n",
       "  (7,5) => Arc(7,5,4579.145153221703,0.1361125453502755,3982.9443259480245)\n",
       "  (8,7) => Arc(8,7,4200.000000000001,0.14735172373986247,3210.239010682092)\n",
       "  (3,2) => Arc(3,2,4816.633470810035,0.12349293809050062,4162.428209606383)\n",
       "  (7,6) => Arc(7,6,4519.429438633917,0.18427045919526183,3932.475968799654)\n",
       "  (2,4) => Arc(2,4,4308.578375901444,0.39379630668342713,3684.843701719493)\n",
       "  (7,8) => Arc(7,8,4200.000000000001,0.1433808120627478,3686.5214890148586)\n",
       "  (6,5) => Arc(6,5,3342.2716301897967,0.12599204522204877,3053.3990132233275)\n",
       "  (6,7) => Arc(6,7,4691.542541197216,0.18602243633556373,4157.402144191251)\n",
       "  (8,4) => Arc(8,4,4200.0,0.25032190771733265,3562.0285613360093)\n",
       "  (1,2) => Arc(1,2,4116.4002376518365,0.2237688764112811,3540.4660172949816)\n",
       "  (5,3) => Arc(5,3,5484.317236967345,0.18272426641983242,4854.295163964035)\n",
       "  (4,2) => Arc(4,2,4301.925900454477,0.4056472587853176,3690.3082386773594)\n",
       "  (3,5) => Arc(3,5,5583.548065234137,0.17608451151402413,4955.848338272033)\n",
       "  (5,7) => Arc(5,7,4540.471028981812,0.1368758774040741,4155.1438586651075)"
      ]
     },
     "execution_count": 13,
     "metadata": {},
     "output_type": "execute_result"
    }
   ],
   "source": [
    "arcs[1]"
   ]
  },
  {
   "cell_type": "code",
   "execution_count": 14,
   "metadata": {
    "collapsed": false
   },
   "outputs": [
    {
     "data": {
      "text/plain": [
       "Dict{(Int64,Int64),Arc} with 24 entries:\n",
       "  (3,6) => Arc(3,6,5267.945798475534,0.16840152335971761,3976.1386779482887)\n",
       "  (2,3) => Arc(2,3,5078.006957545327,0.10409973043063461,4339.272286209819)\n",
       "  (5,6) => Arc(5,6,4148.621087810818,0.12661225524551784,3639.147137443336)\n",
       "  (5,4) => Arc(5,4,4473.395839816008,0.18133180550578695,3809.382193061443)\n",
       "  (2,1) => Arc(2,1,4007.302942944639,0.23909866085027826,3428.1699187651207)\n",
       "  (6,3) => Arc(6,3,4553.584600959735,0.179258743419391,3472.456840604981)\n",
       "  (3,1) => Arc(3,1,5147.757009368769,0.3425563191052758,4461.387314621956)\n",
       "  (1,3) => Arc(1,3,5081.434022334587,0.33560685034356513,4403.697766215966)\n",
       "  (4,5) => Arc(4,5,4026.763691487305,0.1775553762157021,3404.646908822015)\n",
       "  (4,8) => Arc(4,8,4200.0,0.25118438552180683,3681.1840307326174)\n",
       "  (7,5) => Arc(7,5,4579.145153221703,0.1361125453502755,4115.670817673452)\n",
       "  (8,7) => Arc(8,7,4200.000000000001,0.14735172373986247,3720.5845044669645)\n",
       "  (3,2) => Arc(3,2,4816.633470810035,0.12349293809050062,4209.673407705846)\n",
       "  (7,6) => Arc(7,6,4519.429438633917,0.18427045919526183,3837.278537078516)\n",
       "  (2,4) => Arc(2,4,4308.578375901444,0.39379630668342713,3677.3112356623024)\n",
       "  (7,8) => Arc(7,8,4200.000000000001,0.1433808120627478,3598.0948559559965)\n",
       "  (6,5) => Arc(6,5,3342.2716301897967,0.12599204522204877,2866.912278908604)\n",
       "  (6,7) => Arc(6,7,4691.542541197216,0.18602243633556373,4087.7099029337546)\n",
       "  (8,4) => Arc(8,4,4200.0,0.25032190771733265,3592.6802350937696)\n",
       "  (1,2) => Arc(1,2,4116.4002376518365,0.2237688764112811,3558.5816517387357)\n",
       "  (5,3) => Arc(5,3,5484.317236967345,0.18272426641983242,4923.919406540914)\n",
       "  (4,2) => Arc(4,2,4301.925900454477,0.4056472587853176,3687.861330488959)\n",
       "  (3,5) => Arc(3,5,5583.548065234137,0.17608451151402413,5049.673424649387)\n",
       "  (5,7) => Arc(5,7,4540.471028981812,0.1368758774040741,3980.6849949794605)"
      ]
     },
     "execution_count": 14,
     "metadata": {},
     "output_type": "execute_result"
    }
   ],
   "source": [
    "arcs[2]"
   ]
  },
  {
   "cell_type": "code",
   "execution_count": 15,
   "metadata": {
    "collapsed": false
   },
   "outputs": [],
   "source": [
    "##########\n",
    "# Set up demand data and flow data\n",
    "##########\n",
    "numData = length(arcs); \n",
    "sigma = .0\n",
    "\n",
    "flow_data = Array(Float64, length(arcs[1]), numData)\n",
    "\n",
    "demand_data = Dict{(Int, Int), Array{Float64, 1}}()\n",
    "\n",
    "numNodes = maximum(map(pair->pair[1], keys(demands)))\n",
    "g = simple_inclist(numNodes, is_directed=true)\n",
    "vArcs = Arc[]\n",
    "for arc in values(arcs[1])\n",
    "    add_edge!(g, arc.initNode, arc.termNode) \n",
    "    push!(vArcs, arc)\n",
    "end\n",
    "\n",
    "\n",
    "for iRun = 1:numData\n",
    "    for odpair in keys(demands)\n",
    "        if ! haskey(demand_data, odpair)\n",
    "            demand_data[odpair] = [demands[odpair], ]\n",
    "        else\n",
    "            push!(demand_data[odpair], demands[odpair])\n",
    "        end\n",
    "    end\n",
    "\n",
    "    #flow_data[:, iRun] = [a.flow::Float64 for a in vArcs]\n",
    "    flow_data[:, iRun] = [a.flow::Float64 for a in values(arcs[iRun])]\n",
    "end"
   ]
  },
  {
   "cell_type": "code",
   "execution_count": 16,
   "metadata": {
    "collapsed": false
   },
   "outputs": [
    {
     "data": {
      "text/plain": [
       "Dict{(Int64,Int64),Array{Float64,1}} with 64 entries:\n",
       "  (3,6) => [0.000478,0.000478,0.000478,0.000478,0.000478,0.000478,0.000478,0.00…\n",
       "  (4,4) => [0.0,0.0,0.0,0.0,0.0,0.0,0.0,0.0,0.0,0.0,0.0,0.0,0.0,0.0,0.0,0.0,0.0…\n",
       "  (3,1) => [1641.784874,1641.784874,1641.784874,1641.784874,1641.784874,1641.78…\n",
       "  (4,5) => [0.117631,0.117631,0.117631,0.117631,0.117631,0.117631,0.117631,0.11…\n",
       "  (2,4) => [3490.911529,3490.911529,3490.911529,3490.911529,3490.911529,3490.91…\n",
       "  (6,5) => [0.439585,0.439585,0.439585,0.439585,0.439585,0.439585,0.439585,0.43…\n",
       "  (8,4) => [3445.696632,3445.696632,3445.696632,3445.696632,3445.696632,3445.69…\n",
       "  (1,2) => [0.0,0.0,0.0,0.0,0.0,0.0,0.0,0.0,0.0,0.0,0.0,0.0,0.0,0.0,0.0,0.0,0.0…\n",
       "  (5,1) => [1.013621,1.013621,1.013621,1.013621,1.013621,1.013621,1.013621,1.01…\n",
       "  (3,4) => [582.212871,582.212871,582.212871,582.212871,582.212871,582.212871,5…\n",
       "  (8,2) => [0.758674,0.758674,0.758674,0.758674,0.758674,0.758674,0.758674,0.75…\n",
       "  (2,3) => [0.0,0.0,0.0,0.0,0.0,0.0,0.0,0.0,0.0,0.0,0.0,0.0,0.0,0.0,0.0,0.0,0.0…\n",
       "  (2,6) => [0.0,0.0,0.0,0.0,0.0,0.0,0.0,0.0,0.0,0.0,0.0,0.0,0.0,0.0,0.0,0.0,0.0…\n",
       "  (5,4) => [259.122027,259.122027,259.122027,259.122027,259.122027,259.122027,2…\n",
       "  (2,1) => [5.6e-5,5.6e-5,5.6e-5,5.6e-5,5.6e-5,5.6e-5,5.6e-5,5.6e-5,5.6e-5,5.6e…\n",
       "  (2,5) => [0.0,0.0,0.0,0.0,0.0,0.0,0.0,0.0,0.0,0.0,0.0,0.0,0.0,0.0,0.0,0.0,0.0…\n",
       "  (8,5) => [3.0e-6,3.0e-6,3.0e-6,3.0e-6,3.0e-6,3.0e-6,3.0e-6,3.0e-6,3.0e-6,3.0e…\n",
       "  (1,4) => [0.0,0.0,0.0,0.0,0.0,0.0,0.0,0.0,0.0,0.0,0.0,0.0,0.0,0.0,0.0,0.0,0.0…\n",
       "  (2,8) => [0.0,0.0,0.0,0.0,0.0,0.0,0.0,0.0,0.0,0.0,0.0,0.0,0.0,0.0,0.0,0.0,0.0…\n",
       "  (5,8) => [0.000217,0.000217,0.000217,0.000217,0.000217,0.000217,0.000217,0.00…\n",
       "  (4,8) => [3250.504074,3250.504074,3250.504074,3250.504074,3250.504074,3250.50…\n",
       "  (7,8) => [2369.914873,2369.914873,2369.914873,2369.914873,2369.914873,2369.91…\n",
       "  (1,1) => [0.0,0.0,0.0,0.0,0.0,0.0,0.0,0.0,0.0,0.0,0.0,0.0,0.0,0.0,0.0,0.0,0.0…\n",
       "  (7,7) => [0.0,0.0,0.0,0.0,0.0,0.0,0.0,0.0,0.0,0.0,0.0,0.0,0.0,0.0,0.0,0.0,0.0…\n",
       "  (5,7) => [0.000214,0.000214,0.000214,0.000214,0.000214,0.000214,0.000214,0.00…\n",
       "  ⋮     => ⋮"
      ]
     },
     "execution_count": 16,
     "metadata": {},
     "output_type": "execute_result"
    }
   ],
   "source": [
    "demand_data"
   ]
  },
  {
   "cell_type": "code",
   "execution_count": 17,
   "metadata": {
    "collapsed": false
   },
   "outputs": [
    {
     "data": {
      "text/plain": [
       "train (generic function with 1 method)"
      ]
     },
     "execution_count": 17,
     "metadata": {},
     "output_type": "execute_result"
    }
   ],
   "source": [
    "##########\n",
    "#Fitting Funcs\n",
    "##########\n",
    "\n",
    "function train(indices, lam::Float64, deg::Int, c::Float64, demand_data, flow_data, arcs; fcoeffs=nothing)\n",
    "    numNodes = maximum(map(pair->pair[1], keys(arcs)))\n",
    "    m, coeffs, reg_term = setUpFitting(deg, c)\n",
    "    \n",
    "    addIncreasingCnsts(m, coeffs, arcs, TOL=1e-8)  #uses the original obs flows\n",
    "\n",
    "    avgCost = mean( [bpacost(a.flow, a.capacity, 1.0) for a in values(arcs)] )\n",
    "    normalize(m, coeffs, [a.flow / a.capacity for a in values(arcs)], avgCost)\n",
    "\n",
    "\n",
    "    resids = Variable[]\n",
    "    \n",
    "    for i = indices\n",
    "        #copy the flow data over to the arcs, demand data to demands (slow)\n",
    "        for (ix, a) in enumerate(vArcs)\n",
    "            a.flow = flow_data[ix, i]\n",
    "        end\n",
    "        for odpair in keys(demands)\n",
    "            demands[odpair] = demand_data[odpair][i]\n",
    "        end\n",
    "    \n",
    "        #Dual Feasibility\n",
    "        ys = addNetworkCnsts(m, coeffs, demands, arcs, numNodes)\n",
    "        \n",
    "        #add the residual for this data point\n",
    "        push!(resids, addResid(m, coeffs, ys, demands, arcs, 1e6))\n",
    "    end\n",
    "\n",
    "    if fcoeffs != nothing\n",
    "        fixCoeffs(m, fcoeffs, coeffs)\n",
    "    end\n",
    "    @setObjective(m, Min, sum{resids[i], i = 1:length(resids)} + lam*reg_term)\n",
    "    solve(m)\n",
    "    println(getObjectiveValue(m) - lam * getValue(reg_term) )\n",
    "    return [getValue(coeffs[i]) for i =1:length(coeffs)]\n",
    "end"
   ]
  },
  {
   "cell_type": "code",
   "execution_count": 18,
   "metadata": {
    "collapsed": false
   },
   "outputs": [
    {
     "name": "stdout",
     "output_type": "stream",
     "text": [
      "0.040429956691146574\n",
      "0.041414533287986666\n",
      "0.04294459177810542\n",
      "0.04443208577013437\n"
     ]
    },
    {
     "data": {
      "text/plain": [
       "10-element Array{Float64,1}:\n",
       " 0.00790884\n",
       " 0.0593431 \n",
       " 0.199304  \n",
       " 0.392733  \n",
       " 0.494626  \n",
       " 0.429499  \n",
       " 0.226198  \n",
       " 0.0998307 \n",
       " 0.0118703 \n",
       " 0.00328218"
      ]
     },
     "execution_count": 18,
     "metadata": {},
     "output_type": "execute_result"
    }
   ],
   "source": [
    "#include(\"trafficCval.jl\")\n",
    "\n",
    "arcs6 = arcs[1]\n",
    "arcs7 = arcs[1]\n",
    "arcs8 = arcs[1]\n",
    "arcs9 = arcs[1]\n",
    "coeffs_dict = Dict{(Int64,Float64,Float64),Array{Float64,1}}()\n",
    "\n",
    "# deg = 6\n",
    "deg = 6\n",
    "c = 1.\n",
    "lam = 1e1\n",
    "\n",
    "fcoeffs6 = train(1:numData, lam, deg, c, demand_data, flow_data, arcs6)\n",
    "coeffs_dict[(deg, c, lam)] = fcoeffs6\n",
    "\n",
    "# deg = 7\n",
    "deg = 7\n",
    "c = 1.\n",
    "lam = 1e1\n",
    "\n",
    "fcoeffs7 = train(1:numData, lam, deg, c, demand_data, flow_data, arcs7)\n",
    "coeffs_dict[(deg, c, lam)] = fcoeffs7\n",
    "\n",
    "# deg = 8\n",
    "deg = 8\n",
    "c = 1.\n",
    "lam = 1e1\n",
    "\n",
    "fcoeffs8 = train(1:numData, lam, deg, c, demand_data, flow_data, arcs8)\n",
    "coeffs_dict[(deg, c, lam)] = fcoeffs8\n",
    "\n",
    "# deg = 9\n",
    "deg = 9\n",
    "c = 1.\n",
    "lam = 1e1\n",
    "\n",
    "fcoeffs9 = train(1:numData, lam, deg, c, demand_data, flow_data, arcs9)\n",
    "coeffs_dict[(deg, c, lam)] = fcoeffs9"
   ]
  },
  {
   "cell_type": "code",
   "execution_count": 19,
   "metadata": {
    "collapsed": false
   },
   "outputs": [
    {
     "name": "stderr",
     "output_type": "stream",
     "text": [
      "INFO: Loading help data...\n"
     ]
    },
    {
     "data": {
      "image/png": "[encoded data removed]",
      "text/plain": [
       "Figure(PyObject <matplotlib.figure.Figure object at 0x7f6ed39cb710>)"
      ]
     },
     "metadata": {},
     "output_type": "display_data"
    }
   ],
   "source": [
    "using PyPlot\n",
    "\n",
    "#true_coeffs = [1, 0, 0, 0, .15]\n",
    "fcoeffs6 = coeffs_dict[(6, 1., 1e1)]\n",
    "fcoeffs7 = coeffs_dict[(7, 1., 1e1)]\n",
    "fcoeffs8 = coeffs_dict[(8, 1., 1e1)]\n",
    "fcoeffs9 = coeffs_dict[(9, 1., 1e1)]\n",
    "\n",
    "xs = linspace(0, 2, 20)\n",
    "#ys_true = map(x->polyEval(true_coeffs, x), xs)\n",
    "ys6 = map(x->polyEval(fcoeffs6, x), xs)\n",
    "ys7 = map(x->polyEval(fcoeffs7, x), xs)\n",
    "ys8 = map(x->polyEval(fcoeffs8, x), xs)\n",
    "ys9 = map(x->polyEval(fcoeffs9, x), xs)\n",
    "\n",
    "# ys = map(x->polyEval(fcoeffs, x), xs)\n",
    "\n",
    "#plot(xs, ys_true, \"k\", label=\"True\")\n",
    "plot(xs, ys6, \"^-c\", label=\"deg=6\")\n",
    "plot(xs, ys7, \"--m\", label=\"deg=7\")\n",
    "plot(xs, ys8, \"o-b\", label=\"deg=8\")\n",
    "plot(xs, ys9, \"s-r\", label=\"deg=9\")\n",
    "legend(loc=\"upper left\",fancybox=\"true\") \n",
    "# plot(xs, ys, \"--b\")\n",
    "grid(\"on\")\n",
    "xlim(-0.1, 2.0);\n",
    "ylim(0.0, 5.0);\n",
    "\n",
    "font1 = [\"family\"=>\"serif\",\n",
    "    \"color\"=>\"darkred\",\n",
    "    \"weight\"=>\"normal\",\n",
    "    \"size\"=>14]\n",
    "xlabel(\"Scaled Flow\", fontdict=font1)\n",
    "\n",
    "savefig(\"../temp_files/fitting_Apr_NT.pdf\")"
   ]
  },
  {
   "cell_type": "code",
   "execution_count": 20,
   "metadata": {
    "collapsed": true
   },
   "outputs": [],
   "source": [
    "s = \"{\\\"fcoeffs6\\\": $(fcoeffs6), \\\"fcoeffs7\\\": $(fcoeffs7), \\\"fcoeffs8\\\": $(fcoeffs8), \\\"fcoeffs9\\\": $(fcoeffs9)}\"\n",
    "\n",
    "outfile = open(\"../temp_files/fcoeffs_Apr_NT.json\", \"w\")\n",
    "\n",
    "JSON.print(outfile, s)\n",
    "\n",
    "close(outfile)"
   ]
  },
  {
   "cell_type": "code",
   "execution_count": 21,
   "metadata": {
    "collapsed": false
   },
   "outputs": [
    {
     "data": {
      "text/plain": [
       "Dict{String,Any} with 4 entries:\n",
       "  \"fcoeffs7\" => {0.022351563269369726,0.1335819313661333,0.34343942221011253,0.…\n",
       "  \"fcoeffs8\" => {0.013148051180686857,0.08896636939230021,0.26478545809087484,0…\n",
       "  \"fcoeffs6\" => {0.03944194543678593,0.20205408991599483,0.4326712609113768,0.4…\n",
       "  \"fcoeffs9\" => {0.0079088376263208,0.05934309822147129,0.1993039651891591,0.39…"
      ]
     },
     "execution_count": 21,
     "metadata": {},
     "output_type": "execute_result"
    }
   ],
   "source": [
    "fcoeffs_Apr_NT = readall(\"../temp_files/fcoeffs_Apr_NT.json\")\n",
    "fcoeffs_Apr_NT = JSON.parse(JSON.parse(fcoeffs_Apr_NT))"
   ]
  },
  {
   "cell_type": "code",
   "execution_count": null,
   "metadata": {
    "collapsed": true
   },
   "outputs": [],
   "source": []
  }
 ],
 "metadata": {
  "kernelspec": {
   "display_name": "Julia 0.3.7",
   "language": "julia",
   "name": "julia-0.3"
  },
  "language_info": {
   "file_extension": ".jl",
   "mimetype": "application/julia",
   "name": "julia",
   "version": "0.3.7"
  }
 },
 "nbformat": 4,
 "nbformat_minor": 0
}
