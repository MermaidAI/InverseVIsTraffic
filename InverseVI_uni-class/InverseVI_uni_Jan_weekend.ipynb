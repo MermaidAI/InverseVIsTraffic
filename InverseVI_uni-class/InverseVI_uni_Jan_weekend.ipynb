{
 "cells": [
  {
   "cell_type": "code",
   "execution_count": 1,
   "metadata": {
    "collapsed": false
   },
   "outputs": [
    {
     "data": {
      "text/plain": [
       "Arc (constructor with 3 methods)"
      ]
     },
     "execution_count": 1,
     "metadata": {},
     "output_type": "execute_result"
    }
   ],
   "source": [
    "#include(\"defArc.jl\")\n",
    "\n",
    "type Arc\n",
    "    initNode::Int \n",
    "    termNode::Int \n",
    "    capacity::Float64\n",
    "    freeflowtime::Float64\n",
    "    flow::Float64\n",
    "end\n",
    "\n",
    "Arc(initNode::Int, termNode::Int, capacity::Float64, freeflowtime::Float64) = \n",
    "    Arc(initNode, termNode, capacity, freeflowtime, 0.)"
   ]
  },
  {
   "cell_type": "code",
   "execution_count": 2,
   "metadata": {
    "collapsed": false
   },
   "outputs": [
    {
     "data": {
      "text/plain": [
       "bpacost (generic function with 3 methods)"
      ]
     },
     "execution_count": 2,
     "metadata": {},
     "output_type": "execute_result"
    }
   ],
   "source": [
    "#include(\"fitTraffic.jl\")\n",
    "\n",
    "## Solve an inverse tarffic problem over polynomials \n",
    "## of degree at most d\n",
    "## optionally use a regularizer from the poly kernel\n",
    "\n",
    "using JuMP\n",
    "using Gurobi\n",
    "using Graphs\n",
    "using Roots\n",
    "\n",
    "\n",
    "polyEval(coeffs, pt) = sum([coeffs[i] * pt^(i-1) for i = 1:length(coeffs)])  \n",
    "\n",
    "polyEval(coeffs::Array{Float64, 1}, pt) = sum([coeffs[i] * pt^(i-1) for i = 1:length(coeffs)]) \n",
    "\n",
    "bpacost(flow::Float64, capacity::Float64, freeflowtime::Float64) = freeflowtime*(1 + .15 * (flow/capacity)^4)\n",
    "bpacost(flow::Float64, arc) = bpacost(flow, arc.capacity, arc.freeflowtime)\n",
    "bpacost(arc::Arc) = bpacost(arc.flow, arc)"
   ]
  },
  {
   "cell_type": "code",
   "execution_count": 3,
   "metadata": {
    "collapsed": false
   },
   "outputs": [
    {
     "data": {
      "text/plain": [
       "setUpFitting (generic function with 1 method)"
      ]
     },
     "execution_count": 3,
     "metadata": {},
     "output_type": "execute_result"
    }
   ],
   "source": [
    "function setUpFitting(deg::Int, c::Float64)\n",
    "\n",
    "\tm = Model(solver=GurobiSolver(OutputFlag=false))\n",
    "    \n",
    "\t@defVar(m, coeffs[1:deg+1])\n",
    "\t@defVar(m, Calphas[1:deg+1])\n",
    "\n",
    "\t#build the graham matrix; cf. Ref. [21] (Regularization Networks and Support Vector Machines), page 47\n",
    "\tsamples = linspace(0, 1, deg + 1)\n",
    "\tk(x,y) = (c + x*y)^deg\n",
    "\tK = [ k(x,y) for x = samples, y=samples]\n",
    "\tK = convert(Array{Float64, 2}, K)\n",
    "\t#assert(rank(K) == deg+1)\n",
    "    \n",
    "\tC = chol(K + 1e-6* eye(deg+1))\n",
    "\tfor i=1:deg + 1\n",
    "\t\t@addConstraint(m, polyEval(coeffs, samples[i]) == sum{C[j, i] * Calphas[j], j=1:deg+1})\n",
    "\tend\n",
    "    \n",
    "\t@defVar(m, reg_term >= 0)\n",
    "\treg_term_ = QuadExpr(Calphas[:], Calphas[:], ones(deg+1), AffExpr())\n",
    "    \n",
    "\t@addConstraint(m, reg_term >= reg_term_)\n",
    "    \n",
    "\treturn m, coeffs, reg_term\n",
    "\n",
    "end"
   ]
  },
  {
   "cell_type": "code",
   "execution_count": 4,
   "metadata": {
    "collapsed": false
   },
   "outputs": [
    {
     "data": {
      "text/plain": [
       "fixCoeffs (generic function with 1 method)"
      ]
     },
     "execution_count": 4,
     "metadata": {},
     "output_type": "execute_result"
    }
   ],
   "source": [
    "function fixCoeffs(m, fcoeffs, coeffs)\n",
    "\tfor (fc, c) in zip(fcoeffs, coeffs[:])\n",
    "\t\t@addConstraint(m, fc == c)\n",
    "\tend\n",
    "end"
   ]
  },
  {
   "cell_type": "code",
   "execution_count": 5,
   "metadata": {
    "collapsed": false
   },
   "outputs": [
    {
     "data": {
      "text/plain": [
       "addResid (generic function with 1 method)"
      ]
     },
     "execution_count": 5,
     "metadata": {},
     "output_type": "execute_result"
    }
   ],
   "source": [
    "function addResid(m, coeffs, ys, demands, arcs, scaling)\n",
    "\t@defVar(m, resid)\n",
    "\t@defVar(m, dual_cost)\n",
    "\t@defVar(m, primal_cost)\n",
    "\n",
    "\t@addConstraint(m, dual_cost == sum{demands[(s,t)] * (ys[(s,t), t] - ys[(s,t), s]), (s,t)=keys(demands)})  \n",
    "\t@addConstraint(m, primal_cost == sum{a.flow * a.freeflowtime * polyEval(coeffs, a.flow/a.capacity), a=values(arcs)})\n",
    "\n",
    "\t@addConstraint(m, resid >= (dual_cost - primal_cost) / scaling )\n",
    "\t@addConstraint(m, resid >= (primal_cost - dual_cost) / scaling )\n",
    "\treturn resid\n",
    "end"
   ]
  },
  {
   "cell_type": "code",
   "execution_count": 6,
   "metadata": {
    "collapsed": false
   },
   "outputs": [
    {
     "data": {
      "text/plain": [
       "addIncreasingCnsts (generic function with 1 method)"
      ]
     },
     "execution_count": 6,
     "metadata": {},
     "output_type": "execute_result"
    }
   ],
   "source": [
    "function addIncreasingCnsts(m, coeffs, arcs; TOL=0.)\n",
    "\tsorted_flows = sort([a.flow / a.capacity for a in values(arcs)])\n",
    "\t@addConstraint(m, polyEval(coeffs, 0) <= polyEval(coeffs, sorted_flows[1]))\n",
    "\tfor i = 2:length(sorted_flows)\n",
    "\t\t@addConstraint(m, polyEval(coeffs, sorted_flows[i-1]) <= polyEval(coeffs, sorted_flows[i]) + TOL)\n",
    "\tend\n",
    "    @addConstraint(m, coeffs[1] == 1)\n",
    "end"
   ]
  },
  {
   "cell_type": "code",
   "execution_count": 7,
   "metadata": {
    "collapsed": false
   },
   "outputs": [
    {
     "data": {
      "text/plain": [
       "normalize (generic function with 3 methods)"
      ]
     },
     "execution_count": 7,
     "metadata": {},
     "output_type": "execute_result"
    }
   ],
   "source": [
    "#equates the total cost of the network to the true total cost\n",
    "function normalize(m, coeffs, tot_true_cost::Float64, arcs)\n",
    "\t@addConstraint(m, \n",
    "\t\tsum{a.freeflowtime * a.flow * polyEval(coeffs, a.flow / a.capacity), a=values(arcs)} == tot_true_cost)\n",
    "end\n",
    "\n",
    "function normalize(m, coeffs, scaled_flow::Float64, cost::Float64)\n",
    "\t@addConstraint(m, polyEval(coeffs, scaled_flow) == cost)\n",
    "end\n",
    "\n",
    "function normalize(m, coeffs, scaled_flows::Array{Float64, 1}, avgCost::Float64)\n",
    "    @addConstraint(m, sum{polyEval(coeffs, f), f=scaled_flows} == avgCost * length(scaled_flows))\n",
    "end"
   ]
  },
  {
   "cell_type": "code",
   "execution_count": 8,
   "metadata": {
    "collapsed": false
   },
   "outputs": [
    {
     "data": {
      "text/plain": [
       "addNetworkCnsts (generic function with 1 method)"
      ]
     },
     "execution_count": 8,
     "metadata": {},
     "output_type": "execute_result"
    }
   ],
   "source": [
    "function addNetworkCnsts(m, coeffs, demands, arcs, numNodes)\n",
    "\t@defVar(m, ys[keys(demands), 1:numNodes])\n",
    "\tfor k = keys(arcs)\n",
    "\t\ta = arcs[k]\n",
    "\t\trhs = a.freeflowtime * polyEval(coeffs, a.flow/a.capacity)\n",
    "\t\tfor od in keys(demands)\n",
    "\t\t\t@addConstraint(m, ys[od, k[2]] - ys[od, k[1]] <= rhs)\n",
    "\t\tend\n",
    "\tend\n",
    "\treturn ys\n",
    "end"
   ]
  },
  {
   "cell_type": "code",
   "execution_count": 9,
   "metadata": {
    "collapsed": false
   },
   "outputs": [],
   "source": [
    "############\n",
    "#Read in demand data\n",
    "file = open(\"../temp_files/OD_demand_matrix_Jan_weekend.txt\")\n",
    "demands = Dict{(Int64,Int64), Float64}()\n",
    "n = 8  # number of nodes\n",
    "for i in [1:n]\n",
    "    demands[(i,i)] = 0.0\n",
    "end\n",
    "for line in eachline(file)\n",
    "    OD_demand = split(line, \",\")\n",
    "    key, value = (int(OD_demand[1]),int(OD_demand[2])), float(split(OD_demand[3], \"\\n\")[1])\n",
    "    demands[key] = value\n",
    "end\n",
    "close(file)"
   ]
  },
  {
   "cell_type": "code",
   "execution_count": 10,
   "metadata": {
    "collapsed": false
   },
   "outputs": [
    {
     "data": {
      "text/plain": [
       "Dict{(Int64,Int64),Float64} with 64 entries:\n",
       "  (3,6) => 1735.027068\n",
       "  (4,4) => 0.0\n",
       "  (3,1) => 4668.570985\n",
       "  (4,5) => 1882.704593\n",
       "  (2,4) => 3985.409644\n",
       "  (6,5) => 401.981853\n",
       "  (8,4) => 3330.439278\n",
       "  (1,2) => 0.0\n",
       "  (5,1) => 2.137239\n",
       "  (3,4) => 2.728743\n",
       "  (8,2) => 5.0e-6\n",
       "  (2,3) => 0.0\n",
       "  (2,6) => 0.0\n",
       "  (5,4) => 4.168598\n",
       "  (2,1) => 0.008307\n",
       "  (2,5) => 0.0\n",
       "  (8,5) => 159.100511\n",
       "  (1,4) => 0.0\n",
       "  (2,8) => 0.0\n",
       "  (5,8) => 4.0e-6\n",
       "  (4,8) => 3376.327943\n",
       "  (7,8) => 3308.097498\n",
       "  (1,1) => 0.0\n",
       "  (7,7) => 0.0\n",
       "  (5,7) => 4.0e-6\n",
       "  ⋮     => ⋮"
      ]
     },
     "execution_count": 10,
     "metadata": {},
     "output_type": "execute_result"
    }
   ],
   "source": [
    "demands"
   ]
  },
  {
   "cell_type": "code",
   "execution_count": 11,
   "metadata": {
    "collapsed": false
   },
   "outputs": [],
   "source": [
    "using JSON\n",
    "\n",
    "link_day_minute_Jan_dict = readall(\"../temp_files/link_day_minute_Jan_dict_JSON_adjusted.json\");\n",
    "link_day_minute_Jan_dict = replace(link_day_minute_Jan_dict, \"NaN\", 0);\n",
    "\n",
    "link_day_minute_Jan_dict = JSON.parse(link_day_minute_Jan_dict);"
   ]
  },
  {
   "cell_type": "code",
   "execution_count": 12,
   "metadata": {
    "collapsed": true
   },
   "outputs": [],
   "source": [
    "# weekend_Jan_list = [1, 7, 8, 14, 15, 21, 22, 28, 29]\n",
    "\n",
    "# training set 1\n",
    "weekend_Jan_list_1 = [1, 7, 8, 14, 15, 21]\n",
    "\n",
    "# training set 2\n",
    "weekend_Jan_list_2 = [14, 15, 21, 22, 28, 29]\n",
    "\n",
    "# training set 3\n",
    "weekend_Jan_list_3 = [1, 7, 8, 22, 28, 29]\n",
    "\n",
    "arcs_1 = Dict{(Int, Int), Arc}[]\n",
    "for j in weekend_Jan_list_1\n",
    "    arcs_1_ = Dict{(Int, Int), Arc}()\n",
    "    for i = 0:23\n",
    "        key = \"link_$(i)_$(j)\"\n",
    "        initNode = link_day_minute_Jan_dict[key][\"init_node\"]\n",
    "        termNode = link_day_minute_Jan_dict[key][\"term_node\"]\n",
    "        capacity = link_day_minute_Jan_dict[key][\"MD_capac\"]\n",
    "        freeflowtime = link_day_minute_Jan_dict[key][\"free_flow_time\"]\n",
    "        flow = link_day_minute_Jan_dict[key][\"MD_flow\"]\n",
    "        arcs_1_[(initNode, termNode)] = Arc(initNode, termNode, capacity, freeflowtime, flow)\n",
    "    end\n",
    "    push!(arcs_1, arcs_1_)\n",
    "end\n",
    "\n",
    "arcs_2 = Dict{(Int, Int), Arc}[]\n",
    "for j in weekend_Jan_list_2\n",
    "    arcs_2_ = Dict{(Int, Int), Arc}()\n",
    "    for i = 0:23\n",
    "        key = \"link_$(i)_$(j)\"\n",
    "        initNode = link_day_minute_Jan_dict[key][\"init_node\"]\n",
    "        termNode = link_day_minute_Jan_dict[key][\"term_node\"]\n",
    "        capacity = link_day_minute_Jan_dict[key][\"MD_capac\"]\n",
    "        freeflowtime = link_day_minute_Jan_dict[key][\"free_flow_time\"]\n",
    "        flow = link_day_minute_Jan_dict[key][\"MD_flow\"]\n",
    "        arcs_2_[(initNode, termNode)] = Arc(initNode, termNode, capacity, freeflowtime, flow)\n",
    "    end\n",
    "    push!(arcs_2, arcs_2_)\n",
    "end\n",
    "\n",
    "arcs_3 = Dict{(Int, Int), Arc}[]\n",
    "for j in weekend_Jan_list_3\n",
    "    arcs_3_ = Dict{(Int, Int), Arc}()\n",
    "    for i = 0:23\n",
    "        key = \"link_$(i)_$(j)\"\n",
    "        initNode = link_day_minute_Jan_dict[key][\"init_node\"]\n",
    "        termNode = link_day_minute_Jan_dict[key][\"term_node\"]\n",
    "        capacity = link_day_minute_Jan_dict[key][\"MD_capac\"]\n",
    "        freeflowtime = link_day_minute_Jan_dict[key][\"free_flow_time\"]\n",
    "        flow = link_day_minute_Jan_dict[key][\"MD_flow\"]\n",
    "        arcs_3_[(initNode, termNode)] = Arc(initNode, termNode, capacity, freeflowtime, flow)\n",
    "    end\n",
    "    push!(arcs_3, arcs_3_)\n",
    "end"
   ]
  },
  {
   "cell_type": "code",
   "execution_count": 13,
   "metadata": {
    "collapsed": false
   },
   "outputs": [],
   "source": [
    "##########\n",
    "# Set up demand data and flow data\n",
    "##########\n",
    "numData = length(arcs_1); \n",
    "sigma = .0\n",
    "\n",
    "flow_data_1 = Array(Float64, length(arcs_1[1]), numData)\n",
    "flow_data_2 = Array(Float64, length(arcs_2[1]), numData)\n",
    "flow_data_3 = Array(Float64, length(arcs_3[1]), numData)\n",
    "\n",
    "demand_data = Dict{(Int, Int), Array{Float64, 1}}()\n",
    "\n",
    "numNodes = maximum(map(pair->pair[1], keys(demands)))\n",
    "g = simple_inclist(numNodes, is_directed=true)\n",
    "vArcs = Arc[]\n",
    "for arc in values(arcs_1[1])\n",
    "    add_edge!(g, arc.initNode, arc.termNode) \n",
    "    push!(vArcs, arc)\n",
    "end\n",
    "\n",
    "\n",
    "for iRun = 1:numData\n",
    "    for odpair in keys(demands)\n",
    "        if ! haskey(demand_data, odpair)\n",
    "            demand_data[odpair] = [demands[odpair], ]\n",
    "        else\n",
    "            push!(demand_data[odpair], demands[odpair])\n",
    "        end\n",
    "    end\n",
    "\n",
    "    #flow_data[:, iRun] = [a.flow::Float64 for a in vArcs]\n",
    "    flow_data_1[:, iRun] = [a.flow::Float64 for a in values(arcs_1[iRun])]\n",
    "    flow_data_2[:, iRun] = [a.flow::Float64 for a in values(arcs_2[iRun])]\n",
    "    flow_data_3[:, iRun] = [a.flow::Float64 for a in values(arcs_3[iRun])]\n",
    "end"
   ]
  },
  {
   "cell_type": "code",
   "execution_count": 14,
   "metadata": {
    "collapsed": false
   },
   "outputs": [
    {
     "data": {
      "text/plain": [
       "Dict{(Int64,Int64),Array{Float64,1}} with 64 entries:\n",
       "  (3,6) => [1735.027068,1735.027068,1735.027068,1735.027068,1735.027068,1735.02…\n",
       "  (4,4) => [0.0,0.0,0.0,0.0,0.0,0.0]\n",
       "  (3,1) => [4668.570985,4668.570985,4668.570985,4668.570985,4668.570985,4668.57…\n",
       "  (4,5) => [1882.704593,1882.704593,1882.704593,1882.704593,1882.704593,1882.70…\n",
       "  (2,4) => [3985.409644,3985.409644,3985.409644,3985.409644,3985.409644,3985.40…\n",
       "  (6,5) => [401.981853,401.981853,401.981853,401.981853,401.981853,401.981853]\n",
       "  (8,4) => [3330.439278,3330.439278,3330.439278,3330.439278,3330.439278,3330.43…\n",
       "  (1,2) => [0.0,0.0,0.0,0.0,0.0,0.0]\n",
       "  (5,1) => [2.137239,2.137239,2.137239,2.137239,2.137239,2.137239]\n",
       "  (3,4) => [2.728743,2.728743,2.728743,2.728743,2.728743,2.728743]\n",
       "  (8,2) => [5.0e-6,5.0e-6,5.0e-6,5.0e-6,5.0e-6,5.0e-6]\n",
       "  (2,3) => [0.0,0.0,0.0,0.0,0.0,0.0]\n",
       "  (2,6) => [0.0,0.0,0.0,0.0,0.0,0.0]\n",
       "  (5,4) => [4.168598,4.168598,4.168598,4.168598,4.168598,4.168598]\n",
       "  (2,1) => [0.008307,0.008307,0.008307,0.008307,0.008307,0.008307]\n",
       "  (2,5) => [0.0,0.0,0.0,0.0,0.0,0.0]\n",
       "  (8,5) => [159.100511,159.100511,159.100511,159.100511,159.100511,159.100511]\n",
       "  (1,4) => [0.0,0.0,0.0,0.0,0.0,0.0]\n",
       "  (2,8) => [0.0,0.0,0.0,0.0,0.0,0.0]\n",
       "  (5,8) => [4.0e-6,4.0e-6,4.0e-6,4.0e-6,4.0e-6,4.0e-6]\n",
       "  (4,8) => [3376.327943,3376.327943,3376.327943,3376.327943,3376.327943,3376.32…\n",
       "  (7,8) => [3308.097498,3308.097498,3308.097498,3308.097498,3308.097498,3308.09…\n",
       "  (1,1) => [0.0,0.0,0.0,0.0,0.0,0.0]\n",
       "  (7,7) => [0.0,0.0,0.0,0.0,0.0,0.0]\n",
       "  (5,7) => [4.0e-6,4.0e-6,4.0e-6,4.0e-6,4.0e-6,4.0e-6]\n",
       "  ⋮     => ⋮"
      ]
     },
     "execution_count": 14,
     "metadata": {},
     "output_type": "execute_result"
    }
   ],
   "source": [
    "demand_data"
   ]
  },
  {
   "cell_type": "code",
   "execution_count": 15,
   "metadata": {
    "collapsed": false
   },
   "outputs": [
    {
     "data": {
      "text/plain": [
       "24x6 Array{Float64,2}:\n",
       " 5603.41  3965.13        3581.42         3547.48  3122.18   3840.89 \n",
       " 6630.29  1110.45        3743.73         2322.71  2915.06   3546.94 \n",
       " 3514.28   978.038       1092.79         2218.63  1316.31   1251.6  \n",
       " 3900.79  1019.05        1786.85         2497.85  2886.27   1601.66 \n",
       " 2733.85  1335.05        2137.22         2671.56  1365.63   3307.42 \n",
       " 5491.82  3346.34        3645.8          4753.93  3329.4    4692.67 \n",
       " 3355.09  3812.28        4792.34         4272.71  4282.53   4617.09 \n",
       " 1375.51  2986.07        4056.11         3710.26  3758.2    4886.33 \n",
       " 3892.24  1907.37        3548.55         2831.55  2005.64   2217.71 \n",
       " 3824.49  1876.09        3251.38         3674.51  2631.44   2929.85 \n",
       " 3717.98  2043.86        1899.29         2711.24  1434.74   1611.1  \n",
       " 4493.39  2353.82        3886.18         3689.21  2128.57   1965.61 \n",
       " 4815.91  1263.27        4134.46         2254.07  2010.17   4397.39 \n",
       " 1015.45     3.4617e-10   817.612        2447.89  1681.05   1130.52 \n",
       " 4567.38  2910.57        4083.66         3639.9   1486.2    3584.83 \n",
       " 4319.64  2263.12        4520.92         3529.1   1628.5    2000.45 \n",
       " 3180.91   880.827          5.01424e-13  1409.88  1589.07    367.817\n",
       " 1460.41   715.999       1846.03         2050.19  1201.06   1162.51 \n",
       " 3650.75  1785.39        3886.11         3514.41  2131.37   2964.69 \n",
       " 4713.43  2161.26        2873.46         3234.01  1889.96   3038.17 \n",
       " 3929.38  1828.38        3328.7          1878.01   319.539  2333.41 \n",
       " 4402.18  1931.55        2956.69         3146.1   1866.75   3003.62 \n",
       " 3652.59   230.569       2266.11         2590.65   907.322  2603.99 \n",
       " 3099.28  1237.15        1505.6          2948.84  1414.67   1613.94 "
      ]
     },
     "execution_count": 15,
     "metadata": {},
     "output_type": "execute_result"
    }
   ],
   "source": [
    "flow_data_3"
   ]
  },
  {
   "cell_type": "code",
   "execution_count": 16,
   "metadata": {
    "collapsed": false
   },
   "outputs": [
    {
     "data": {
      "text/plain": [
       "train (generic function with 1 method)"
      ]
     },
     "execution_count": 16,
     "metadata": {},
     "output_type": "execute_result"
    }
   ],
   "source": [
    "##########\n",
    "#Fitting Funcs\n",
    "##########\n",
    "\n",
    "function train(indices, lam::Float64, deg::Int, c::Float64, demand_data, flow_data, arcs; fcoeffs=nothing)\n",
    "    numNodes = maximum(map(pair->pair[1], keys(arcs)))\n",
    "    m, coeffs, reg_term = setUpFitting(deg, c)\n",
    "    \n",
    "    addIncreasingCnsts(m, coeffs, arcs, TOL=1e-8)  #uses the original obs flows\n",
    "\n",
    "    avgCost = mean( [bpacost(a.flow, a.capacity, 1.0) for a in values(arcs)] )\n",
    "    normalize(m, coeffs, [a.flow / a.capacity for a in values(arcs)], avgCost)\n",
    "\n",
    "\n",
    "    resids = Variable[]\n",
    "    \n",
    "    for i = indices\n",
    "        #copy the flow data over to the arcs, demand data to demands (slow)\n",
    "        for (ix, a) in enumerate(vArcs)\n",
    "            a.flow = flow_data[ix, i]\n",
    "        end\n",
    "        for odpair in keys(demands)\n",
    "            demands[odpair] = demand_data[odpair][i]\n",
    "        end\n",
    "    \n",
    "        #Dual Feasibility\n",
    "        ys = addNetworkCnsts(m, coeffs, demands, arcs, numNodes)\n",
    "        \n",
    "        #add the residual for this data point\n",
    "        push!(resids, addResid(m, coeffs, ys, demands, arcs, 1e6))\n",
    "    end\n",
    "\n",
    "    if fcoeffs != nothing\n",
    "        fixCoeffs(m, fcoeffs, coeffs)\n",
    "    end\n",
    "    @setObjective(m, Min, sum{resids[i], i = 1:length(resids)} + lam*reg_term)\n",
    "    solve(m)\n",
    "    #println(getObjectiveValue(m) - lam * getValue(reg_term) )\n",
    "    return [getValue(coeffs[i]) for i =1:length(coeffs)]\n",
    "end"
   ]
  },
  {
   "cell_type": "code",
   "execution_count": 17,
   "metadata": {
    "collapsed": false
   },
   "outputs": [],
   "source": [
    "#include(\"trafficCval.jl\")\n",
    "\n",
    "coeffs_dict_Jan_weekend = Dict{(Int64,Float64,Float64,Int64),Array{Float64,1}}()\n",
    "\n",
    "deg_grid = [4:8]\n",
    "c_grid = .5:.5:3.\n",
    "lamb_grid = [10. .^(-3:4)]\n",
    "\n",
    "for deg in deg_grid\n",
    "    for c in c_grid\n",
    "        for lam in lamb_grid\n",
    "            coeffs_dict_Jan_weekend[(deg, c, lam, 1)] = train(1:numData, lam, deg, c, demand_data, flow_data_1, arcs_1[1])\n",
    "            coeffs_dict_Jan_weekend[(deg, c, lam, 2)] = train(1:numData, lam, deg, c, demand_data, flow_data_2, arcs_2[1])\n",
    "            coeffs_dict_Jan_weekend[(deg, c, lam, 3)] = train(1:numData, lam, deg, c, demand_data, flow_data_3, arcs_3[1])\n",
    "        end\n",
    "    end\n",
    "end"
   ]
  },
  {
   "cell_type": "code",
   "execution_count": 18,
   "metadata": {
    "collapsed": false
   },
   "outputs": [],
   "source": [
    "outfile = open(\"../temp_files/coeffs_dict_Jan_weekend.json\", \"w\")\n",
    "\n",
    "JSON.print(outfile, coeffs_dict_Jan_weekend)\n",
    "\n",
    "close(outfile)"
   ]
  },
  {
   "cell_type": "code",
   "execution_count": 19,
   "metadata": {
    "collapsed": false
   },
   "outputs": [
    {
     "data": {
      "text/plain": [
       "Dict{String,Any} with 720 entries:\n",
       "  \"(7,2.5,10000.0,3)\" => {1.0,0.00044178775865154953,0.00010087145839853451,9.99…\n",
       "  \"(5,0.5,100.0,3)\"   => {1.0,0.00023471154579459617,0.0019386601281052708,-0.00…\n",
       "  \"(6,1.5,10.0,3)\"    => {1.0,0.0005025788018175483,-0.0003156521074461146,-0.00…\n",
       "  \"(6,2.0,0.1,2)\"     => {1.0,1.786396137790861e-5,0.0009315216140588431,0.00153…\n",
       "  \"(4,0.5,1000.0,1)\"  => {1.0,0.00016749779225785005,0.00044570120707627904,-0.0…\n",
       "  \"(6,2.0,0.01,1)\"    => {1.0,-3.1878855615776494e-5,0.0015261431611684985,0.029…\n",
       "  \"(8,1.5,0.01,1)\"    => {1.0,0.00042468323564826704,-0.01574035596009201,0.2182…\n",
       "  \"(5,1.5,1.0,1)\"     => {1.0,0.00028328582522496853,-0.00048046727492136973,-0.…\n",
       "  \"(8,2.5,0.001,2)\"   => {1.0,3.0389325137011166e-5,-0.00018233327003700428,0.01…\n",
       "  \"(4,2.0,0.1,1)\"     => {1.0,0.00023136324625222865,0.00037592415914978827,-0.0…\n",
       "  \"(5,1.0,1000.0,2)\"  => {1.0,0.00011049574391569373,-8.034174456977569e-5,-0.00…\n",
       "  \"(4,2.0,0.1,2)\"     => {1.0,4.980821025641012e-5,0.0006007007660553623,0.00075…\n",
       "  \"(5,2.0,0.001,1)\"   => {1.0,-1.2113305666675135e-5,1.2735199599199628e-5,0.049…\n",
       "  \"(7,1.5,0.01,3)\"    => {1.0,0.0011355510760661894,-0.006858687434445495,0.0121…\n",
       "  \"(4,0.5,0.1,3)\"     => {1.0,0.0004610918385740321,4.544459289199473e-5,-0.0005…\n",
       "  \"(6,2.0,1000.0,3)\"  => {1.0,0.0004301918571178315,0.00018009359409964774,4.183…\n",
       "  \"(6,2.0,0.1,3)\"     => {1.0,0.0008506478912436655,-0.0034525622070575397,0.003…\n",
       "  \"(4,1.5,1.0,1)\"     => {1.0,0.0003148284777638487,-0.0010021361481773944,-0.00…\n",
       "  \"(8,2.0,10000.0,1)\" => {1.0,0.00022114046449746137,-0.00011749196761000254,-4.…\n",
       "  \"(7,0.5,0.001,2)\"   => {1.0,7.958314320496538e-5,-0.0012578019733393917,0.0270…\n",
       "  \"(5,1.0,10000.0,2)\" => {1.0,9.519717218187823e-5,0.00010810955116558461,-7.972…\n",
       "  \"(8,3.0,0.01,1)\"    => {1.0,-2.629242641400053e-5,0.0044577229361030665,-0.182…\n",
       "  \"(8,2.0,0.01,3)\"    => {1.0,0.0011410370235426454,-0.005780405695011769,-0.006…\n",
       "  \"(5,3.0,100.0,3)\"   => {1.0,0.0006022932883808844,-0.0010463704313713857,-9.51…\n",
       "  \"(5,3.0,10000.0,3)\" => {1.0,0.0004494287328762876,4.666263228509393e-5,2.46447…\n",
       "  ⋮                    => ⋮"
      ]
     },
     "execution_count": 19,
     "metadata": {},
     "output_type": "execute_result"
    }
   ],
   "source": [
    "coeffs_dict_Jan_weekend_ = readall(\"../temp_files/coeffs_dict_Jan_weekend.json\")\n",
    "coeffs_dict_Jan_weekend_ = JSON.parse(coeffs_dict_Jan_weekend_)"
   ]
  },
  {
   "cell_type": "code",
   "execution_count": 20,
   "metadata": {
    "collapsed": false
   },
   "outputs": [
    {
     "data": {
      "text/plain": [
       "9-element Array{Any,1}:\n",
       "  1.0        \n",
       "  0.000405851\n",
       " -0.0136924  \n",
       "  0.183563   \n",
       " -0.873756   \n",
       "  1.98102    \n",
       " -2.41104    \n",
       "  1.5115     \n",
       " -0.383467   "
      ]
     },
     "execution_count": 20,
     "metadata": {},
     "output_type": "execute_result"
    }
   ],
   "source": [
    "coeffs_dict_Jan_weekend_[\"(8,0.5,10000.0,1)\"]"
   ]
  },
  {
   "cell_type": "code",
   "execution_count": 33,
   "metadata": {
    "collapsed": false
   },
   "outputs": [
    {
     "data": {
      "image/png": "[encoded data removed]",
      "text/plain": [
       "Figure(PyObject <matplotlib.figure.Figure object at 0x7f2924aa7710>)"
      ]
     },
     "metadata": {},
     "output_type": "display_data"
    }
   ],
   "source": [
    "using PyPlot\n",
    "\n",
    "fcoeffs = coeffs_dict_Jan_weekend_[\"(6,1.5,10000.0,3)\"]\n",
    "\n",
    "\n",
    "xs = linspace(0, 1.1, 30)\n",
    "ys = map(x->polyEval(fcoeffs, x), xs)\n",
    "\n",
    "plot(xs, ys, \"o-m\", label=\"Jan_weekend\")\n",
    "\n",
    "#legend(loc=\"upper left\",fancybox=\"true\") \n",
    "\n",
    "grid(\"on\")\n",
    "xlim(-0.1, 1.05);\n",
    "ylim(0.99, 1.2);\n",
    "\n",
    "font1 = [\"family\"=>\"serif\",\n",
    "    \"color\"=>\"darkred\",\n",
    "    \"weight\"=>\"normal\",\n",
    "    \"size\"=>14]\n",
    "xlabel(\"Scaled Flow\", fontdict=font1)\n",
    "\n",
    "savefig(\"../temp_files/fitting_Jan_weekend.pdf\")"
   ]
  },
  {
   "cell_type": "code",
   "execution_count": null,
   "metadata": {
    "collapsed": true
   },
   "outputs": [],
   "source": []
  }
 ],
 "metadata": {
  "kernelspec": {
   "display_name": "Julia 0.3.7",
   "language": "julia",
   "name": "julia-0.3"
  },
  "language_info": {
   "file_extension": ".jl",
   "mimetype": "application/julia",
   "name": "julia",
   "version": "0.3.7"
  }
 },
 "nbformat": 4,
 "nbformat_minor": 0
}
