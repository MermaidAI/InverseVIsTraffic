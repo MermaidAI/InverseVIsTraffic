{
 "cells": [
  {
   "cell_type": "code",
   "execution_count": 1,
   "metadata": {
    "collapsed": false
   },
   "outputs": [
    {
     "data": {
      "text/plain": [
       "Arc (constructor with 3 methods)"
      ]
     },
     "execution_count": 1,
     "metadata": {},
     "output_type": "execute_result"
    }
   ],
   "source": [
    "#include(\"defArc.jl\")\n",
    "\n",
    "type Arc\n",
    "    initNode::Int \n",
    "    termNode::Int \n",
    "    capacity::Float64\n",
    "    freeflowtime::Float64\n",
    "    flow::Float64\n",
    "end\n",
    "\n",
    "Arc(initNode::Int, termNode::Int, capacity::Float64, freeflowtime::Float64) = \n",
    "    Arc(initNode, termNode, capacity, freeflowtime, 0.)"
   ]
  },
  {
   "cell_type": "code",
   "execution_count": 2,
   "metadata": {
    "collapsed": false
   },
   "outputs": [
    {
     "data": {
      "text/plain": [
       "bpacost (generic function with 3 methods)"
      ]
     },
     "execution_count": 2,
     "metadata": {},
     "output_type": "execute_result"
    }
   ],
   "source": [
    "#include(\"fitTraffic.jl\")\n",
    "\n",
    "## Solve an inverse tarffic problem over polynomials \n",
    "## of degree at most d\n",
    "## optionally use a regularizer from the poly kernel\n",
    "\n",
    "using JuMP\n",
    "using Gurobi\n",
    "using Graphs\n",
    "using Roots\n",
    "\n",
    "\n",
    "polyEval(coeffs, pt) = sum([coeffs[i] * pt^(i-1) for i = 1:length(coeffs)])  \n",
    "\n",
    "polyEval(coeffs::Array{Float64, 1}, pt) = sum([coeffs[i] * pt^(i-1) for i = 1:length(coeffs)]) \n",
    "\n",
    "bpacost(flow::Float64, capacity::Float64, freeflowtime::Float64) = freeflowtime*(1 + .15 * (flow/capacity)^4)\n",
    "bpacost(flow::Float64, arc) = bpacost(flow, arc.capacity, arc.freeflowtime)\n",
    "bpacost(arc::Arc) = bpacost(arc.flow, arc)"
   ]
  },
  {
   "cell_type": "code",
   "execution_count": 3,
   "metadata": {
    "collapsed": false
   },
   "outputs": [
    {
     "data": {
      "text/plain": [
       "setUpFitting (generic function with 1 method)"
      ]
     },
     "execution_count": 3,
     "metadata": {},
     "output_type": "execute_result"
    }
   ],
   "source": [
    "function setUpFitting(deg::Int, c::Float64)\n",
    "\n",
    "\tm = Model(solver=GurobiSolver(OutputFlag=false))\n",
    "    \n",
    "\t@defVar(m, coeffs[1:deg+1])\n",
    "\t@defVar(m, Calphas[1:deg+1])\n",
    "\n",
    "\t#build the graham matrix; cf. Ref. [21] (Regularization Networks and Support Vector Machines), page 47\n",
    "\tsamples = linspace(0, 1, deg + 1)\n",
    "\tk(x,y) = (c + x*y)^deg\n",
    "\tK = [ k(x,y) for x = samples, y=samples]\n",
    "\tK = convert(Array{Float64, 2}, K)\n",
    "\t#assert(rank(K) == deg+1)\n",
    "    \n",
    "\tC = chol(K + 1e-6* eye(deg+1))\n",
    "\tfor i=1:deg + 1\n",
    "\t\t@addConstraint(m, polyEval(coeffs, samples[i]) == sum{C[j, i] * Calphas[j], j=1:deg+1})\n",
    "\tend\n",
    "    \n",
    "\t@defVar(m, reg_term >= 0)\n",
    "\treg_term_ = QuadExpr(Calphas[:], Calphas[:], ones(deg+1), AffExpr())\n",
    "    \n",
    "\t@addConstraint(m, reg_term >= reg_term_)\n",
    "    \n",
    "\treturn m, coeffs, reg_term\n",
    "\n",
    "end"
   ]
  },
  {
   "cell_type": "code",
   "execution_count": 4,
   "metadata": {
    "collapsed": false
   },
   "outputs": [
    {
     "data": {
      "text/plain": [
       "fixCoeffs (generic function with 1 method)"
      ]
     },
     "execution_count": 4,
     "metadata": {},
     "output_type": "execute_result"
    }
   ],
   "source": [
    "function fixCoeffs(m, fcoeffs, coeffs)\n",
    "\tfor (fc, c) in zip(fcoeffs, coeffs[:])\n",
    "\t\t@addConstraint(m, fc == c)\n",
    "\tend\n",
    "end"
   ]
  },
  {
   "cell_type": "code",
   "execution_count": 5,
   "metadata": {
    "collapsed": false
   },
   "outputs": [
    {
     "data": {
      "text/plain": [
       "addResid (generic function with 1 method)"
      ]
     },
     "execution_count": 5,
     "metadata": {},
     "output_type": "execute_result"
    }
   ],
   "source": [
    "function addResid(m, coeffs, ys, demands, arcs, scaling)\n",
    "\t@defVar(m, resid)\n",
    "\t@defVar(m, dual_cost)\n",
    "\t@defVar(m, primal_cost)\n",
    "\n",
    "\t@addConstraint(m, dual_cost == sum{demands[(s,t)] * (ys[(s,t), t] - ys[(s,t), s]), (s,t)=keys(demands)})  \n",
    "\t@addConstraint(m, primal_cost == sum{a.flow * a.freeflowtime * polyEval(coeffs, a.flow/a.capacity), a=values(arcs)})\n",
    "\n",
    "\t@addConstraint(m, resid >= (dual_cost - primal_cost) / scaling )\n",
    "\t@addConstraint(m, resid >= (primal_cost - dual_cost) / scaling )\n",
    "\treturn resid\n",
    "end"
   ]
  },
  {
   "cell_type": "code",
   "execution_count": 6,
   "metadata": {
    "collapsed": false
   },
   "outputs": [
    {
     "data": {
      "text/plain": [
       "addIncreasingCnsts (generic function with 1 method)"
      ]
     },
     "execution_count": 6,
     "metadata": {},
     "output_type": "execute_result"
    }
   ],
   "source": [
    "function addIncreasingCnsts(m, coeffs, arcs; TOL=0.)\n",
    "\tsorted_flows = sort([a.flow / a.capacity for a in values(arcs)])\n",
    "\t@addConstraint(m, polyEval(coeffs, 0) <= polyEval(coeffs, sorted_flows[1]))\n",
    "\tfor i = 2:length(sorted_flows)\n",
    "\t\t@addConstraint(m, polyEval(coeffs, sorted_flows[i-1]) <= polyEval(coeffs, sorted_flows[i]) + TOL)\n",
    "\tend\n",
    "end"
   ]
  },
  {
   "cell_type": "code",
   "execution_count": 7,
   "metadata": {
    "collapsed": false
   },
   "outputs": [
    {
     "data": {
      "text/plain": [
       "normalize (generic function with 3 methods)"
      ]
     },
     "execution_count": 7,
     "metadata": {},
     "output_type": "execute_result"
    }
   ],
   "source": [
    "#equates the total cost of the network to the true total cost\n",
    "function normalize(m, coeffs, tot_true_cost::Float64, arcs)\n",
    "\t@addConstraint(m, \n",
    "\t\tsum{a.freeflowtime * a.flow * polyEval(coeffs, a.flow / a.capacity), a=values(arcs)} == tot_true_cost)\n",
    "end\n",
    "\n",
    "function normalize(m, coeffs, scaled_flow::Float64, cost::Float64)\n",
    "\t@addConstraint(m, polyEval(coeffs, scaled_flow) == cost)\n",
    "end\n",
    "\n",
    "function normalize(m, coeffs, scaled_flows::Array{Float64, 1}, avgCost::Float64)\n",
    "    @addConstraint(m, sum{polyEval(coeffs, f), f=scaled_flows} == avgCost * length(scaled_flows))\n",
    "end"
   ]
  },
  {
   "cell_type": "code",
   "execution_count": 8,
   "metadata": {
    "collapsed": false
   },
   "outputs": [
    {
     "data": {
      "text/plain": [
       "addNetworkCnsts (generic function with 1 method)"
      ]
     },
     "execution_count": 8,
     "metadata": {},
     "output_type": "execute_result"
    }
   ],
   "source": [
    "function addNetworkCnsts(m, coeffs, demands, arcs, numNodes)\n",
    "\t@defVar(m, ys[keys(demands), 1:numNodes])\n",
    "\tfor k = keys(arcs)\n",
    "\t\ta = arcs[k]\n",
    "\t\trhs = a.freeflowtime * polyEval(coeffs, a.flow/a.capacity)\n",
    "\t\tfor od in keys(demands)\n",
    "\t\t\t@addConstraint(m, ys[od, k[2]] - ys[od, k[1]] <= rhs)\n",
    "\t\tend\n",
    "\tend\n",
    "\treturn ys\n",
    "end"
   ]
  },
  {
   "cell_type": "code",
   "execution_count": 9,
   "metadata": {
    "collapsed": false
   },
   "outputs": [],
   "source": [
    "############\n",
    "#Read in demand data\n",
    "file = open(\"../temp_files/OD_demand_matrix_Jul_weekend.txt\")\n",
    "demands = Dict{(Int64,Int64), Float64}()\n",
    "n = 8  # number of nodes\n",
    "for i in [1:n]\n",
    "    demands[(i,i)] = 0.0\n",
    "end\n",
    "for line in eachline(file)\n",
    "    OD_demand = split(line, \",\")\n",
    "    key, value = (int(OD_demand[1]),int(OD_demand[2])), float(split(OD_demand[3], \"\\n\")[1])\n",
    "    demands[key] = value\n",
    "end\n",
    "close(file)"
   ]
  },
  {
   "cell_type": "code",
   "execution_count": 10,
   "metadata": {
    "collapsed": false
   },
   "outputs": [
    {
     "data": {
      "text/plain": [
       "Dict{(Int64,Int64),Float64} with 64 entries:\n",
       "  (3,6) => 0.000127\n",
       "  (4,4) => 0.0\n",
       "  (3,1) => 1697.027235\n",
       "  (4,5) => 0.003401\n",
       "  (2,4) => 1337.402518\n",
       "  (6,5) => 835.13079\n",
       "  (8,4) => 1307.099997\n",
       "  (1,2) => 0.0\n",
       "  (5,1) => 292.8831\n",
       "  (3,4) => 0.002349\n",
       "  (8,2) => 999.786874\n",
       "  (2,3) => 0.0\n",
       "  (2,6) => 0.0\n",
       "  (5,4) => 1167.354555\n",
       "  (2,1) => 709.016964\n",
       "  (2,5) => 0.0\n",
       "  (8,5) => 202.14789\n",
       "  (1,4) => 0.0\n",
       "  (2,8) => 0.0\n",
       "  (5,8) => 1312.347367\n",
       "  (4,8) => 1212.252946\n",
       "  (7,8) => 0.000478\n",
       "  (1,1) => 0.0\n",
       "  (7,7) => 0.0\n",
       "  (5,7) => 46.66409\n",
       "  ⋮     => ⋮"
      ]
     },
     "execution_count": 10,
     "metadata": {},
     "output_type": "execute_result"
    }
   ],
   "source": [
    "demands"
   ]
  },
  {
   "cell_type": "code",
   "execution_count": 11,
   "metadata": {
    "collapsed": false
   },
   "outputs": [],
   "source": [
    "using JSON\n",
    "\n",
    "link_day_minute_Jul_dict = readall(\"../temp_files/link_day_minute_Jul_dict_JSON.json\");\n",
    "link_day_minute_Jul_dict = replace(link_day_minute_Jul_dict, \"NaN\", 0);\n",
    "\n",
    "link_day_minute_Jul_dict = JSON.parse(link_day_minute_Jul_dict);"
   ]
  },
  {
   "cell_type": "code",
   "execution_count": 12,
   "metadata": {
    "collapsed": true
   },
   "outputs": [],
   "source": [
    "# weekend_Jul_list = [1, 7, 8, 14, 15, 21, 22, 28, 29]\n",
    "\n",
    "# training set 1\n",
    "weekend_Jul_list_1 = [1, 7, 8, 14, 15, 21]\n",
    "\n",
    "# training set 2\n",
    "weekend_Jul_list_2 = [14, 15, 21, 22, 28, 29]\n",
    "\n",
    "# training set 3\n",
    "weekend_Jul_list_3 = [1, 7, 8, 22, 28, 29]\n",
    "\n",
    "arcs_1 = Dict{(Int, Int), Arc}[]\n",
    "for j in weekend_Jul_list_1\n",
    "    arcs_1_ = Dict{(Int, Int), Arc}()\n",
    "    for i = 0:23\n",
    "        key = \"link_$(i)_$(j)\"\n",
    "        initNode = link_day_minute_Jul_dict[key][\"init_node\"]\n",
    "        termNode = link_day_minute_Jul_dict[key][\"term_node\"]\n",
    "        capacity = link_day_minute_Jul_dict[key][\"MD_capac\"]\n",
    "        freeflowtime = link_day_minute_Jul_dict[key][\"free_flow_time\"]\n",
    "        flow = link_day_minute_Jul_dict[key][\"MD_flow\"]\n",
    "        arcs_1_[(initNode, termNode)] = Arc(initNode, termNode, capacity, freeflowtime, flow)\n",
    "    end\n",
    "    push!(arcs_1, arcs_1_)\n",
    "end\n",
    "\n",
    "arcs_2 = Dict{(Int, Int), Arc}[]\n",
    "for j in weekend_Jul_list_2\n",
    "    arcs_2_ = Dict{(Int, Int), Arc}()\n",
    "    for i = 0:23\n",
    "        key = \"link_$(i)_$(j)\"\n",
    "        initNode = link_day_minute_Jul_dict[key][\"init_node\"]\n",
    "        termNode = link_day_minute_Jul_dict[key][\"term_node\"]\n",
    "        capacity = link_day_minute_Jul_dict[key][\"MD_capac\"]\n",
    "        freeflowtime = link_day_minute_Jul_dict[key][\"free_flow_time\"]\n",
    "        flow = link_day_minute_Jul_dict[key][\"MD_flow\"]\n",
    "        arcs_2_[(initNode, termNode)] = Arc(initNode, termNode, capacity, freeflowtime, flow)\n",
    "    end\n",
    "    push!(arcs_2, arcs_2_)\n",
    "end\n",
    "\n",
    "arcs_3 = Dict{(Int, Int), Arc}[]\n",
    "for j in weekend_Jul_list_3\n",
    "    arcs_3_ = Dict{(Int, Int), Arc}()\n",
    "    for i = 0:23\n",
    "        key = \"link_$(i)_$(j)\"\n",
    "        initNode = link_day_minute_Jul_dict[key][\"init_node\"]\n",
    "        termNode = link_day_minute_Jul_dict[key][\"term_node\"]\n",
    "        capacity = link_day_minute_Jul_dict[key][\"MD_capac\"]\n",
    "        freeflowtime = link_day_minute_Jul_dict[key][\"free_flow_time\"]\n",
    "        flow = link_day_minute_Jul_dict[key][\"MD_flow\"]\n",
    "        arcs_3_[(initNode, termNode)] = Arc(initNode, termNode, capacity, freeflowtime, flow)\n",
    "    end\n",
    "    push!(arcs_3, arcs_3_)\n",
    "end"
   ]
  },
  {
   "cell_type": "code",
   "execution_count": 13,
   "metadata": {
    "collapsed": false
   },
   "outputs": [],
   "source": [
    "##########\n",
    "# Set up demand data and flow data\n",
    "##########\n",
    "numData = length(arcs_1); \n",
    "sigma = .0\n",
    "\n",
    "flow_data_1 = Array(Float64, length(arcs_1[1]), numData)\n",
    "flow_data_2 = Array(Float64, length(arcs_2[1]), numData)\n",
    "flow_data_3 = Array(Float64, length(arcs_3[1]), numData)\n",
    "\n",
    "demand_data = Dict{(Int, Int), Array{Float64, 1}}()\n",
    "\n",
    "numNodes = maximum(map(pair->pair[1], keys(demands)))\n",
    "g = simple_inclist(numNodes, is_directed=true)\n",
    "vArcs = Arc[]\n",
    "for arc in values(arcs_1[1])\n",
    "    add_edge!(g, arc.initNode, arc.termNode) \n",
    "    push!(vArcs, arc)\n",
    "end\n",
    "\n",
    "\n",
    "for iRun = 1:numData\n",
    "    for odpair in keys(demands)\n",
    "        if ! haskey(demand_data, odpair)\n",
    "            demand_data[odpair] = [demands[odpair], ]\n",
    "        else\n",
    "            push!(demand_data[odpair], demands[odpair])\n",
    "        end\n",
    "    end\n",
    "\n",
    "    #flow_data[:, iRun] = [a.flow::Float64 for a in vArcs]\n",
    "    flow_data_1[:, iRun] = [a.flow::Float64 for a in values(arcs_1[iRun])]\n",
    "    flow_data_2[:, iRun] = [a.flow::Float64 for a in values(arcs_2[iRun])]\n",
    "    flow_data_3[:, iRun] = [a.flow::Float64 for a in values(arcs_3[iRun])]\n",
    "end"
   ]
  },
  {
   "cell_type": "code",
   "execution_count": 14,
   "metadata": {
    "collapsed": false
   },
   "outputs": [
    {
     "data": {
      "text/plain": [
       "Dict{(Int64,Int64),Array{Float64,1}} with 64 entries:\n",
       "  (3,6) => [0.000127,0.000127,0.000127,0.000127,0.000127,0.000127]\n",
       "  (4,4) => [0.0,0.0,0.0,0.0,0.0,0.0]\n",
       "  (3,1) => [1697.027235,1697.027235,1697.027235,1697.027235,1697.027235,1697.02…\n",
       "  (4,5) => [0.003401,0.003401,0.003401,0.003401,0.003401,0.003401]\n",
       "  (2,4) => [1337.402518,1337.402518,1337.402518,1337.402518,1337.402518,1337.40…\n",
       "  (6,5) => [835.13079,835.13079,835.13079,835.13079,835.13079,835.13079]\n",
       "  (8,4) => [1307.099997,1307.099997,1307.099997,1307.099997,1307.099997,1307.09…\n",
       "  (1,2) => [0.0,0.0,0.0,0.0,0.0,0.0]\n",
       "  (5,1) => [292.8831,292.8831,292.8831,292.8831,292.8831,292.8831]\n",
       "  (3,4) => [0.002349,0.002349,0.002349,0.002349,0.002349,0.002349]\n",
       "  (8,2) => [999.786874,999.786874,999.786874,999.786874,999.786874,999.786874]\n",
       "  (2,3) => [0.0,0.0,0.0,0.0,0.0,0.0]\n",
       "  (2,6) => [0.0,0.0,0.0,0.0,0.0,0.0]\n",
       "  (5,4) => [1167.354555,1167.354555,1167.354555,1167.354555,1167.354555,1167.35…\n",
       "  (2,1) => [709.016964,709.016964,709.016964,709.016964,709.016964,709.016964]\n",
       "  (2,5) => [0.0,0.0,0.0,0.0,0.0,0.0]\n",
       "  (8,5) => [202.14789,202.14789,202.14789,202.14789,202.14789,202.14789]\n",
       "  (1,4) => [0.0,0.0,0.0,0.0,0.0,0.0]\n",
       "  (2,8) => [0.0,0.0,0.0,0.0,0.0,0.0]\n",
       "  (5,8) => [1312.347367,1312.347367,1312.347367,1312.347367,1312.347367,1312.34…\n",
       "  (4,8) => [1212.252946,1212.252946,1212.252946,1212.252946,1212.252946,1212.25…\n",
       "  (7,8) => [0.000478,0.000478,0.000478,0.000478,0.000478,0.000478]\n",
       "  (1,1) => [0.0,0.0,0.0,0.0,0.0,0.0]\n",
       "  (7,7) => [0.0,0.0,0.0,0.0,0.0,0.0]\n",
       "  (5,7) => [46.66409,46.66409,46.66409,46.66409,46.66409,46.66409]\n",
       "  ⋮     => ⋮"
      ]
     },
     "execution_count": 14,
     "metadata": {},
     "output_type": "execute_result"
    }
   ],
   "source": [
    "demand_data"
   ]
  },
  {
   "cell_type": "code",
   "execution_count": 15,
   "metadata": {
    "collapsed": false
   },
   "outputs": [
    {
     "data": {
      "text/plain": [
       "24x6 Array{Float64,2}:\n",
       " 2593.62  2649.96  2617.47  2600.39  2613.01  2670.95\n",
       " 2805.18  2776.74  2819.67  2819.28  2747.59  2833.0 \n",
       " 2369.43  2345.81  2307.57  2328.86  2389.89  2368.46\n",
       " 2491.33  2445.83  2467.86  2498.86  2452.47  2450.08\n",
       " 2353.94  2296.95  2310.29  2268.57  2304.03  2273.45\n",
       " 2289.0   2383.65  2344.89  2370.89  2362.64  2382.88\n",
       " 2854.8   2862.85  2909.42  2933.33  2811.0   2821.23\n",
       " 2786.55  2833.61  2720.88  2835.24  2863.59  2779.18\n",
       " 2148.55  2282.56  2231.56  2161.25  2176.56  2203.32\n",
       " 2410.4   2360.93  2410.8   2373.94  2253.55  2431.27\n",
       " 2549.15  2587.01  2486.63  2619.09  2583.25  2646.56\n",
       " 2289.01  2410.04  2266.56  2323.17  2493.1   2379.77\n",
       " 2662.51  2690.82  2755.86  2717.98  2739.15  2662.66\n",
       " 2663.76  2812.83  2639.54  2263.34  2749.58  2632.17\n",
       " 2371.73  2376.29  2352.49  2376.83  2294.75  2398.72\n",
       " 2435.1   2336.6   2301.52  2369.03  2358.73  2328.15\n",
       " 1896.03  1840.37  1876.17  1884.43  1865.39  1820.92\n",
       " 2686.45  2898.43  2734.73  2815.12  2937.64  2749.48\n",
       " 2396.19  2327.95  2338.79  2296.38  2350.74  2416.2 \n",
       " 2307.79  2367.91  2320.4   2294.35  1967.56  2332.43\n",
       " 2973.01  3098.95  2932.4   3053.24  3056.27  3067.23\n",
       " 2387.59  2390.43  2367.15  2388.93  2375.2   2412.95\n",
       " 3050.78  3142.83  3167.02  3152.08  3154.97  3101.76\n",
       " 2487.46  2496.95  2552.75  2594.14  2548.64  2592.99"
      ]
     },
     "execution_count": 15,
     "metadata": {},
     "output_type": "execute_result"
    }
   ],
   "source": [
    "flow_data_3"
   ]
  },
  {
   "cell_type": "code",
   "execution_count": 16,
   "metadata": {
    "collapsed": false
   },
   "outputs": [
    {
     "data": {
      "text/plain": [
       "train (generic function with 1 method)"
      ]
     },
     "execution_count": 16,
     "metadata": {},
     "output_type": "execute_result"
    }
   ],
   "source": [
    "##########\n",
    "#Fitting Funcs\n",
    "##########\n",
    "\n",
    "function train(indices, lam::Float64, deg::Int, c::Float64, demand_data, flow_data, arcs; fcoeffs=nothing)\n",
    "    numNodes = maximum(map(pair->pair[1], keys(arcs)))\n",
    "    m, coeffs, reg_term = setUpFitting(deg, c)\n",
    "    \n",
    "    addIncreasingCnsts(m, coeffs, arcs, TOL=1e-8)  #uses the original obs flows\n",
    "\n",
    "    avgCost = mean( [bpacost(a.flow, a.capacity, 1.0) for a in values(arcs)] )\n",
    "    normalize(m, coeffs, [a.flow / a.capacity for a in values(arcs)], avgCost)\n",
    "\n",
    "\n",
    "    resids = Variable[]\n",
    "    \n",
    "    for i = indices\n",
    "        #copy the flow data over to the arcs, demand data to demands (slow)\n",
    "        for (ix, a) in enumerate(vArcs)\n",
    "            a.flow = flow_data[ix, i]\n",
    "        end\n",
    "        for odpair in keys(demands)\n",
    "            demands[odpair] = demand_data[odpair][i]\n",
    "        end\n",
    "    \n",
    "        #Dual Feasibility\n",
    "        ys = addNetworkCnsts(m, coeffs, demands, arcs, numNodes)\n",
    "        \n",
    "        #add the residual for this data point\n",
    "        push!(resids, addResid(m, coeffs, ys, demands, arcs, 1e6))\n",
    "    end\n",
    "\n",
    "    if fcoeffs != nothing\n",
    "        fixCoeffs(m, fcoeffs, coeffs)\n",
    "    end\n",
    "    @setObjective(m, Min, sum{resids[i], i = 1:length(resids)} + lam*reg_term)\n",
    "    solve(m)\n",
    "    #println(getObjectiveValue(m) - lam * getValue(reg_term) )\n",
    "    return [getValue(coeffs[i]) for i =1:length(coeffs)]\n",
    "end"
   ]
  },
  {
   "cell_type": "code",
   "execution_count": 17,
   "metadata": {
    "collapsed": false
   },
   "outputs": [],
   "source": [
    "#include(\"trafficCval.jl\")\n",
    "\n",
    "coeffs_dict_Jul_weekend = Dict{(Int64,Float64,Float64,Int64),Array{Float64,1}}()\n",
    "\n",
    "deg_grid = [4:8]\n",
    "c_grid = .5:.5:3.\n",
    "lamb_grid = [10. .^(-3:4)]\n",
    "\n",
    "for deg in deg_grid\n",
    "    for c in c_grid\n",
    "        for lam in lamb_grid\n",
    "            coeffs_dict_Jul_weekend[(deg, c, lam, 1)] = train(1:numData, lam, deg, c, demand_data, flow_data_1, arcs_1[1])\n",
    "            coeffs_dict_Jul_weekend[(deg, c, lam, 2)] = train(1:numData, lam, deg, c, demand_data, flow_data_2, arcs_2[1])\n",
    "            coeffs_dict_Jul_weekend[(deg, c, lam, 3)] = train(1:numData, lam, deg, c, demand_data, flow_data_3, arcs_3[1])\n",
    "        end\n",
    "    end\n",
    "end"
   ]
  },
  {
   "cell_type": "code",
   "execution_count": 18,
   "metadata": {
    "collapsed": false
   },
   "outputs": [],
   "source": [
    "outfile = open(\"../temp_files/coeffs_dict_Jul_weekend.json\", \"w\")\n",
    "\n",
    "JSON.print(outfile, coeffs_dict_Jul_weekend)\n",
    "\n",
    "close(outfile)"
   ]
  },
  {
   "cell_type": "code",
   "execution_count": 19,
   "metadata": {
    "collapsed": false
   },
   "outputs": [
    {
     "data": {
      "text/plain": [
       "Dict{String,Any} with 720 entries:\n",
       "  \"(7,2.5,10000.0,3)\" => {0.2028835260076956,0.464277990096865,0.456063305417785…\n",
       "  \"(5,0.5,100.0,3)\"   => {0.01518757058794899,0.1242013188940965,0.4067269612922…\n",
       "  \"(6,1.5,10.0,3)\"    => {0.1167777790092281,0.3814647500150833,0.52000795237251…\n",
       "  \"(6,2.0,0.1,2)\"     => {0.2638314993802478,0.5242740581428375,0.41239241759042…\n",
       "  \"(4,0.5,1000.0,1)\"  => {0.0346165823318732,0.2279447280158789,0.56345109414101…\n",
       "  \"(6,2.0,0.01,1)\"    => {0.2066015414571198,0.6416651652712382,0.53417486108362…\n",
       "  \"(8,1.5,0.01,1)\"    => {0.08160445988151072,0.5240927193897553,0.9608245921334…\n",
       "  \"(5,1.5,1.0,1)\"     => {0.16632224653736558,0.455110730753175,0.49833852520016…\n",
       "  \"(8,2.5,0.001,2)\"   => {-2.0708681681222303,2.1436508423939316,4.2533981743392…\n",
       "  \"(4,2.0,0.1,1)\"     => {0.33133084728775375,0.5500001320143194,0.3381373709375…\n",
       "  \"(5,1.0,1000.0,2)\"  => {0.08280986717137065,0.33794461897203043,0.552260919096…\n",
       "  \"(4,2.0,0.1,2)\"     => {0.3314103680460224,0.5516724938604386,0.34354703761264…\n",
       "  \"(5,2.0,0.001,1)\"   => {0.01126700845336304,0.9853736219122509,0.6751285686412…\n",
       "  \"(7,1.5,0.01,3)\"    => {0.1599176391398265,0.5000712749631284,0.58546230637258…\n",
       "  \"(4,0.5,0.1,3)\"     => {0.0357269724138626,0.23336001915292723,0.5723777254889…\n",
       "  \"(6,2.0,1000.0,3)\"  => {0.18890762137870826,0.46315251034827,0.473892687666303…\n",
       "  \"(6,2.0,0.1,3)\"     => {0.2277385760653173,0.49996316047903905,0.4439287860168…\n",
       "  \"(4,1.5,1.0,1)\"     => {0.24077132911695648,0.5280403168896043,0.4345889549673…\n",
       "  \"(8,2.0,10000.0,1)\" => {0.10324565143338481,0.33993797660518604,0.490167177770…\n",
       "  \"(7,0.5,0.001,2)\"   => {0.00989141558847391,0.09135799702273548,0.341145127386…\n",
       "  \"(5,1.0,10000.0,2)\" => {0.08283006011645232,0.33799835137288153,0.552329654218…\n",
       "  \"(8,3.0,0.01,1)\"    => {-4.375597702046347,3.9005251744828695,7.03657910333303…\n",
       "  \"(8,2.0,0.01,3)\"    => {0.17940130635542492,0.7487229500068487,0.8422741847239…\n",
       "  \"(5,3.0,100.0,3)\"   => {0.3903508147906857,0.5317057357646908,0.29004695152815…\n",
       "  \"(5,3.0,10000.0,3)\" => {0.3903436249495997,0.5316892926191416,0.29005877677387…\n",
       "  ⋮                    => ⋮"
      ]
     },
     "execution_count": 19,
     "metadata": {},
     "output_type": "execute_result"
    }
   ],
   "source": [
    "coeffs_dict_Jul_weekend_ = readall(\"../temp_files/coeffs_dict_Jul_weekend.json\")\n",
    "coeffs_dict_Jul_weekend_ = JSON.parse(coeffs_dict_Jul_weekend_)"
   ]
  },
  {
   "cell_type": "code",
   "execution_count": 20,
   "metadata": {
    "collapsed": false
   },
   "outputs": [
    {
     "data": {
      "text/plain": [
       "9-element Array{Any,1}:\n",
       " 0.0011096\n",
       " 0.0145534\n",
       " 0.0854119\n",
       " 0.269542 \n",
       " 0.60603  \n",
       " 0.691029 \n",
       " 0.707501 \n",
       " 0.247041 \n",
       " 0.0740962"
      ]
     },
     "execution_count": 20,
     "metadata": {},
     "output_type": "execute_result"
    }
   ],
   "source": [
    "coeffs_dict_Jul_weekend_[\"(8,0.5,10000.0,1)\"]"
   ]
  },
  {
   "cell_type": "code",
   "execution_count": 22,
   "metadata": {
    "collapsed": false
   },
   "outputs": [
    {
     "data": {
      "image/png": "[encoded data removed]",
      "text/plain": [
       "Figure(PyObject <matplotlib.figure.Figure object at 0x7f6664ad9690>)"
      ]
     },
     "metadata": {},
     "output_type": "display_data"
    }
   ],
   "source": [
    "using PyPlot\n",
    "\n",
    "fcoeffs = coeffs_dict_Jul_weekend_[\"(8,0.5,0.1,3)\"]\n",
    "\n",
    "\n",
    "xs = linspace(0, 1.1, 30)\n",
    "ys = map(x->polyEval(fcoeffs, x), xs)\n",
    "\n",
    "plot(xs, ys, \"o-m\", label=\"Jul_weekend\")\n",
    "\n",
    "#legend(loc=\"upper left\",fancybox=\"true\") \n",
    "\n",
    "grid(\"on\")\n",
    "xlim(-0.1, 1.1);\n",
    "ylim(-0.1, 2.5);\n",
    "\n",
    "font1 = [\"family\"=>\"serif\",\n",
    "    \"color\"=>\"darkred\",\n",
    "    \"weight\"=>\"normal\",\n",
    "    \"size\"=>14]\n",
    "xlabel(\"Scaled Flow\", fontdict=font1)\n",
    "\n",
    "savefig(\"../temp_files/fitting_Jul_weekend.pdf\")"
   ]
  },
  {
   "cell_type": "code",
   "execution_count": null,
   "metadata": {
    "collapsed": true
   },
   "outputs": [],
   "source": []
  }
 ],
 "metadata": {
  "kernelspec": {
   "display_name": "Julia 0.3.7",
   "language": "julia",
   "name": "julia-0.3"
  },
  "language_info": {
   "file_extension": ".jl",
   "mimetype": "application/julia",
   "name": "julia",
   "version": "0.3.7"
  }
 },
 "nbformat": 4,
 "nbformat_minor": 0
}
