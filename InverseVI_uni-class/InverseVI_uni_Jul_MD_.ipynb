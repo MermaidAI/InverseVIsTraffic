{
 "cells": [
  {
   "cell_type": "code",
   "execution_count": 1,
   "metadata": {
    "collapsed": false
   },
   "outputs": [
    {
     "data": {
      "text/plain": [
       "Arc (constructor with 3 methods)"
      ]
     },
     "execution_count": 1,
     "metadata": {},
     "output_type": "execute_result"
    }
   ],
   "source": [
    "#include(\"defArc.jl\")\n",
    "\n",
    "type Arc\n",
    "    initNode::Int \n",
    "    termNode::Int \n",
    "    capacity::Float64\n",
    "    freeflowtime::Float64\n",
    "    flow::Float64\n",
    "end\n",
    "\n",
    "Arc(initNode::Int, termNode::Int, capacity::Float64, freeflowtime::Float64) = \n",
    "    Arc(initNode, termNode, capacity, freeflowtime, 0.)"
   ]
  },
  {
   "cell_type": "code",
   "execution_count": 2,
   "metadata": {
    "collapsed": false
   },
   "outputs": [
    {
     "data": {
      "text/plain": [
       "bpacost (generic function with 3 methods)"
      ]
     },
     "execution_count": 2,
     "metadata": {},
     "output_type": "execute_result"
    }
   ],
   "source": [
    "#include(\"fitTraffic.jl\")\n",
    "\n",
    "## Solve an inverse tarffic problem over polynomials \n",
    "## of degree at most d\n",
    "## optionally use a regularizer from the poly kernel\n",
    "\n",
    "using JuMP\n",
    "using Gurobi\n",
    "using Graphs\n",
    "using Roots\n",
    "\n",
    "\n",
    "polyEval(coeffs, pt) = sum([coeffs[i] * pt^(i-1) for i = 1:length(coeffs)])  \n",
    "\n",
    "polyEval(coeffs::Array{Float64, 1}, pt) = sum([coeffs[i] * pt^(i-1) for i = 1:length(coeffs)]) \n",
    "\n",
    "bpacost(flow::Float64, capacity::Float64, freeflowtime::Float64) = freeflowtime*(1 + .15 * (flow/capacity)^4)\n",
    "bpacost(flow::Float64, arc) = bpacost(flow, arc.capacity, arc.freeflowtime)\n",
    "bpacost(arc::Arc) = bpacost(arc.flow, arc)"
   ]
  },
  {
   "cell_type": "code",
   "execution_count": 3,
   "metadata": {
    "collapsed": false
   },
   "outputs": [
    {
     "data": {
      "text/plain": [
       "setUpFitting (generic function with 1 method)"
      ]
     },
     "execution_count": 3,
     "metadata": {},
     "output_type": "execute_result"
    }
   ],
   "source": [
    "function setUpFitting(deg::Int, c::Float64)\n",
    "\n",
    "\tm = Model(solver=GurobiSolver(OutputFlag=false))\n",
    "    \n",
    "\t@defVar(m, coeffs[1:deg+1])\n",
    "\t@defVar(m, Calphas[1:deg+1])\n",
    "\n",
    "\t#build the graham matrix; cf. Ref. [21] (Regularization Networks and Support Vector Machines), page 47\n",
    "\tsamples = linspace(0, 1, deg + 1)\n",
    "\tk(x,y) = (c + x*y)^deg\n",
    "\tK = [ k(x,y) for x = samples, y=samples]\n",
    "\tK = convert(Array{Float64, 2}, K)\n",
    "\t#assert(rank(K) == deg+1)\n",
    "    \n",
    "\tC = chol(K + 1e-6* eye(deg+1))\n",
    "\tfor i=1:deg + 1\n",
    "\t\t@addConstraint(m, polyEval(coeffs, samples[i]) == sum{C[j, i] * Calphas[j], j=1:deg+1})\n",
    "\tend\n",
    "    \n",
    "\t@defVar(m, reg_term >= 0)\n",
    "\treg_term_ = QuadExpr(Calphas[:], Calphas[:], ones(deg+1), AffExpr())\n",
    "    \n",
    "\t@addConstraint(m, reg_term >= reg_term_)\n",
    "    \n",
    "\treturn m, coeffs, reg_term\n",
    "\n",
    "end"
   ]
  },
  {
   "cell_type": "code",
   "execution_count": 4,
   "metadata": {
    "collapsed": false
   },
   "outputs": [
    {
     "data": {
      "text/plain": [
       "fixCoeffs (generic function with 1 method)"
      ]
     },
     "execution_count": 4,
     "metadata": {},
     "output_type": "execute_result"
    }
   ],
   "source": [
    "function fixCoeffs(m, fcoeffs, coeffs)\n",
    "\tfor (fc, c) in zip(fcoeffs, coeffs[:])\n",
    "\t\t@addConstraint(m, fc == c)\n",
    "\tend\n",
    "end"
   ]
  },
  {
   "cell_type": "code",
   "execution_count": 5,
   "metadata": {
    "collapsed": false
   },
   "outputs": [
    {
     "data": {
      "text/plain": [
       "addResid (generic function with 1 method)"
      ]
     },
     "execution_count": 5,
     "metadata": {},
     "output_type": "execute_result"
    }
   ],
   "source": [
    "function addResid(m, coeffs, ys, demands, arcs, scaling)\n",
    "\t@defVar(m, resid)\n",
    "\t@defVar(m, dual_cost)\n",
    "\t@defVar(m, primal_cost)\n",
    "\n",
    "\t@addConstraint(m, dual_cost == sum{demands[(s,t)] * (ys[(s,t), t] - ys[(s,t), s]), (s,t)=keys(demands)})  \n",
    "\t@addConstraint(m, primal_cost == sum{a.flow * a.freeflowtime * polyEval(coeffs, a.flow/a.capacity), a=values(arcs)})\n",
    "\n",
    "\t@addConstraint(m, resid >= (dual_cost - primal_cost) / scaling )\n",
    "\t@addConstraint(m, resid >= (primal_cost - dual_cost) / scaling )\n",
    "\treturn resid\n",
    "end"
   ]
  },
  {
   "cell_type": "code",
   "execution_count": 6,
   "metadata": {
    "collapsed": false
   },
   "outputs": [
    {
     "data": {
      "text/plain": [
       "addIncreasingCnsts (generic function with 1 method)"
      ]
     },
     "execution_count": 6,
     "metadata": {},
     "output_type": "execute_result"
    }
   ],
   "source": [
    "function addIncreasingCnsts(m, coeffs, arcs; TOL=0.)\n",
    "\tsorted_flows = sort([a.flow / a.capacity for a in values(arcs)])\n",
    "\t@addConstraint(m, polyEval(coeffs, 0) <= polyEval(coeffs, sorted_flows[1]))\n",
    "\tfor i = 2:length(sorted_flows)\n",
    "\t\t@addConstraint(m, polyEval(coeffs, sorted_flows[i-1]) <= polyEval(coeffs, sorted_flows[i]) + TOL)\n",
    "\tend\n",
    "end"
   ]
  },
  {
   "cell_type": "code",
   "execution_count": 7,
   "metadata": {
    "collapsed": false
   },
   "outputs": [
    {
     "data": {
      "text/plain": [
       "normalize (generic function with 3 methods)"
      ]
     },
     "execution_count": 7,
     "metadata": {},
     "output_type": "execute_result"
    }
   ],
   "source": [
    "#equates the total cost of the network to the true total cost\n",
    "function normalize(m, coeffs, tot_true_cost::Float64, arcs)\n",
    "\t@addConstraint(m, \n",
    "\t\tsum{a.freeflowtime * a.flow * polyEval(coeffs, a.flow / a.capacity), a=values(arcs)} == tot_true_cost)\n",
    "end\n",
    "\n",
    "function normalize(m, coeffs, scaled_flow::Float64, cost::Float64)\n",
    "\t@addConstraint(m, polyEval(coeffs, scaled_flow) == cost)\n",
    "end\n",
    "\n",
    "function normalize(m, coeffs, scaled_flows::Array{Float64, 1}, avgCost::Float64)\n",
    "    @addConstraint(m, sum{polyEval(coeffs, f), f=scaled_flows} == avgCost * length(scaled_flows))\n",
    "end"
   ]
  },
  {
   "cell_type": "code",
   "execution_count": 8,
   "metadata": {
    "collapsed": false
   },
   "outputs": [
    {
     "data": {
      "text/plain": [
       "addNetworkCnsts (generic function with 1 method)"
      ]
     },
     "execution_count": 8,
     "metadata": {},
     "output_type": "execute_result"
    }
   ],
   "source": [
    "function addNetworkCnsts(m, coeffs, demands, arcs, numNodes)\n",
    "\t@defVar(m, ys[keys(demands), 1:numNodes])\n",
    "\tfor k = keys(arcs)\n",
    "\t\ta = arcs[k]\n",
    "\t\trhs = a.freeflowtime * polyEval(coeffs, a.flow/a.capacity)\n",
    "\t\tfor od in keys(demands)\n",
    "\t\t\t@addConstraint(m, ys[od, k[2]] - ys[od, k[1]] <= rhs)\n",
    "\t\tend\n",
    "\tend\n",
    "\treturn ys\n",
    "end"
   ]
  },
  {
   "cell_type": "code",
   "execution_count": 9,
   "metadata": {
    "collapsed": false
   },
   "outputs": [],
   "source": [
    "############\n",
    "#Read in demand data\n",
    "file = open(\"../temp_files/OD_demand_matrix_Jul_weekday_MD.txt\")\n",
    "demands = Dict{(Int64,Int64), Float64}()\n",
    "n = 8  # number of nodes\n",
    "for i in [1:n]\n",
    "    demands[(i,i)] = 0.0\n",
    "end\n",
    "for line in eachline(file)\n",
    "    OD_demand = split(line, \",\")\n",
    "    key, value = (int(OD_demand[1]),int(OD_demand[2])), float(split(OD_demand[3], \"\\n\")[1])\n",
    "    demands[key] = value\n",
    "end\n",
    "close(file)"
   ]
  },
  {
   "cell_type": "code",
   "execution_count": 10,
   "metadata": {
    "collapsed": false
   },
   "outputs": [
    {
     "data": {
      "text/plain": [
       "Dict{(Int64,Int64),Float64} with 64 entries:\n",
       "  (3,6) => 898.809338\n",
       "  (4,4) => 0.0\n",
       "  (3,1) => 3776.014797\n",
       "  (4,5) => 2020.574594\n",
       "  (2,4) => 2498.844447\n",
       "  (6,5) => 0.128282\n",
       "  (8,4) => 2352.871978\n",
       "  (1,2) => 0.0\n",
       "  (5,1) => 0.135229\n",
       "  (3,4) => 382.374624\n",
       "  (8,2) => 0.09846\n",
       "  (2,3) => 181.405004\n",
       "  (2,6) => 0.404751\n",
       "  (5,4) => 0.402523\n",
       "  (2,1) => 1.8e-5\n",
       "  (2,5) => 0.049184\n",
       "  (8,5) => 0.005617\n",
       "  (1,4) => 0.0\n",
       "  (2,8) => 20.003526\n",
       "  (5,8) => 5.5e-5\n",
       "  (4,8) => 2143.156719\n",
       "  (7,8) => 1833.393858\n",
       "  (1,1) => 0.0\n",
       "  (7,7) => 0.0\n",
       "  (5,7) => 5.5e-5\n",
       "  ⋮     => ⋮"
      ]
     },
     "execution_count": 10,
     "metadata": {},
     "output_type": "execute_result"
    }
   ],
   "source": [
    "demands"
   ]
  },
  {
   "cell_type": "code",
   "execution_count": 11,
   "metadata": {
    "collapsed": false
   },
   "outputs": [],
   "source": [
    "using JSON\n",
    "\n",
    "link_day_minute_Jul_dict = readall(\"../temp_files/link_day_minute_Jul_dict_JSON.json\");\n",
    "link_day_minute_Jul_dict = replace(link_day_minute_Jul_dict, \"NaN\", 0);\n",
    "\n",
    "link_day_minute_Jul_dict = JSON.parse(link_day_minute_Jul_dict);"
   ]
  },
  {
   "cell_type": "code",
   "execution_count": 12,
   "metadata": {
    "collapsed": false
   },
   "outputs": [],
   "source": [
    "# week_day_Jul_list = [2, 3, 4, 5, 6, 9, 10, 11, 12, 13, 16, 17, 18, 19, 20, 23, 24, 25, 26, 27, 30, 31]\n",
    "\n",
    "# training set 1\n",
    "week_day_Jul_list_1 = [2, 3, 4, 5, 6, 9, 10, 11, 12, 13, 16, 17, 18, 19]\n",
    "\n",
    "# training set 2\n",
    "week_day_Jul_list_2 = [2, 3, 4, 5, 6, 9, 10, 20, 23, 24, 25, 26, 27, 30, 31]\n",
    "\n",
    "# training set 3\n",
    "week_day_Jul_list_3 = [11, 12, 13, 16, 17, 18, 19, 20, 23, 24, 25, 26, 27, 30, 31]\n",
    "\n",
    "\n",
    "arcs_1 = Dict{(Int, Int), Arc}[]\n",
    "for j in week_day_Jul_list_1\n",
    "    arcs_1_ = Dict{(Int, Int), Arc}()\n",
    "    for i = 0:23\n",
    "        key = \"link_$(i)_$(j)\"\n",
    "        initNode = link_day_minute_Jul_dict[key][\"init_node\"]\n",
    "        termNode = link_day_minute_Jul_dict[key][\"term_node\"]\n",
    "        capacity = link_day_minute_Jul_dict[key][\"MD_capac\"]\n",
    "        freeflowtime = link_day_minute_Jul_dict[key][\"free_flow_time\"]\n",
    "        flow = link_day_minute_Jul_dict[key][\"MD_flow\"]\n",
    "        arcs_1_[(initNode, termNode)] = Arc(initNode, termNode, capacity, freeflowtime, flow)\n",
    "    end\n",
    "    push!(arcs_1, arcs_1_)\n",
    "end\n",
    "\n",
    "arcs_2 = Dict{(Int, Int), Arc}[]\n",
    "for j in week_day_Jul_list_2\n",
    "    arcs_2_ = Dict{(Int, Int), Arc}()\n",
    "    for i = 0:23\n",
    "        key = \"link_$(i)_$(j)\"\n",
    "        initNode = link_day_minute_Jul_dict[key][\"init_node\"]\n",
    "        termNode = link_day_minute_Jul_dict[key][\"term_node\"]\n",
    "        capacity = link_day_minute_Jul_dict[key][\"MD_capac\"]\n",
    "        freeflowtime = link_day_minute_Jul_dict[key][\"free_flow_time\"]\n",
    "        flow = link_day_minute_Jul_dict[key][\"MD_flow\"]\n",
    "        arcs_2_[(initNode, termNode)] = Arc(initNode, termNode, capacity, freeflowtime, flow)\n",
    "    end\n",
    "    push!(arcs_2, arcs_2_)\n",
    "end\n",
    "\n",
    "arcs_3 = Dict{(Int, Int), Arc}[]\n",
    "for j in week_day_Jul_list_3\n",
    "    arcs_3_ = Dict{(Int, Int), Arc}()\n",
    "    for i = 0:23\n",
    "        key = \"link_$(i)_$(j)\"\n",
    "        initNode = link_day_minute_Jul_dict[key][\"init_node\"]\n",
    "        termNode = link_day_minute_Jul_dict[key][\"term_node\"]\n",
    "        capacity = link_day_minute_Jul_dict[key][\"MD_capac\"]\n",
    "        freeflowtime = link_day_minute_Jul_dict[key][\"free_flow_time\"]\n",
    "        flow = link_day_minute_Jul_dict[key][\"MD_flow\"]\n",
    "        arcs_3_[(initNode, termNode)] = Arc(initNode, termNode, capacity, freeflowtime, flow)\n",
    "    end\n",
    "    push!(arcs_3, arcs_3_)\n",
    "end"
   ]
  },
  {
   "cell_type": "code",
   "execution_count": 13,
   "metadata": {
    "collapsed": false
   },
   "outputs": [],
   "source": [
    "##########\n",
    "# Set up demand data and flow data\n",
    "##########\n",
    "numData = length(arcs_1); \n",
    "sigma = .0\n",
    "\n",
    "flow_data_1 = Array(Float64, length(arcs_1[1]), numData)\n",
    "flow_data_2 = Array(Float64, length(arcs_2[1]), numData)\n",
    "flow_data_3 = Array(Float64, length(arcs_3[1]), numData)\n",
    "\n",
    "demand_data = Dict{(Int, Int), Array{Float64, 1}}()\n",
    "\n",
    "numNodes = maximum(map(pair->pair[1], keys(demands)))\n",
    "g = simple_inclist(numNodes, is_directed=true)\n",
    "vArcs = Arc[]\n",
    "for arc in values(arcs_1[1])\n",
    "    add_edge!(g, arc.initNode, arc.termNode) \n",
    "    push!(vArcs, arc)\n",
    "end\n",
    "\n",
    "\n",
    "for iRun = 1:numData\n",
    "    for odpair in keys(demands)\n",
    "        if ! haskey(demand_data, odpair)\n",
    "            demand_data[odpair] = [demands[odpair], ]\n",
    "        else\n",
    "            push!(demand_data[odpair], demands[odpair])\n",
    "        end\n",
    "    end\n",
    "\n",
    "    #flow_data[:, iRun] = [a.flow::Float64 for a in vArcs]\n",
    "    flow_data_1[:, iRun] = [a.flow::Float64 for a in values(arcs_1[iRun])]\n",
    "    flow_data_2[:, iRun] = [a.flow::Float64 for a in values(arcs_2[iRun])]\n",
    "    flow_data_3[:, iRun] = [a.flow::Float64 for a in values(arcs_3[iRun])]\n",
    "end"
   ]
  },
  {
   "cell_type": "code",
   "execution_count": 14,
   "metadata": {
    "collapsed": false
   },
   "outputs": [
    {
     "data": {
      "text/plain": [
       "Dict{(Int64,Int64),Array{Float64,1}} with 64 entries:\n",
       "  (3,6) => [898.809338,898.809338,898.809338,898.809338,898.809338,898.809338,8…\n",
       "  (4,4) => [0.0,0.0,0.0,0.0,0.0,0.0,0.0,0.0,0.0,0.0,0.0,0.0,0.0,0.0]\n",
       "  (3,1) => [3776.014797,3776.014797,3776.014797,3776.014797,3776.014797,3776.01…\n",
       "  (4,5) => [2020.574594,2020.574594,2020.574594,2020.574594,2020.574594,2020.57…\n",
       "  (2,4) => [2498.844447,2498.844447,2498.844447,2498.844447,2498.844447,2498.84…\n",
       "  (6,5) => [0.128282,0.128282,0.128282,0.128282,0.128282,0.128282,0.128282,0.12…\n",
       "  (8,4) => [2352.871978,2352.871978,2352.871978,2352.871978,2352.871978,2352.87…\n",
       "  (1,2) => [0.0,0.0,0.0,0.0,0.0,0.0,0.0,0.0,0.0,0.0,0.0,0.0,0.0,0.0]\n",
       "  (5,1) => [0.135229,0.135229,0.135229,0.135229,0.135229,0.135229,0.135229,0.13…\n",
       "  (3,4) => [382.374624,382.374624,382.374624,382.374624,382.374624,382.374624,3…\n",
       "  (8,2) => [0.09846,0.09846,0.09846,0.09846,0.09846,0.09846,0.09846,0.09846,0.0…\n",
       "  (2,3) => [181.405004,181.405004,181.405004,181.405004,181.405004,181.405004,1…\n",
       "  (2,6) => [0.404751,0.404751,0.404751,0.404751,0.404751,0.404751,0.404751,0.40…\n",
       "  (5,4) => [0.402523,0.402523,0.402523,0.402523,0.402523,0.402523,0.402523,0.40…\n",
       "  (2,1) => [1.8e-5,1.8e-5,1.8e-5,1.8e-5,1.8e-5,1.8e-5,1.8e-5,1.8e-5,1.8e-5,1.8e…\n",
       "  (2,5) => [0.049184,0.049184,0.049184,0.049184,0.049184,0.049184,0.049184,0.04…\n",
       "  (8,5) => [0.005617,0.005617,0.005617,0.005617,0.005617,0.005617,0.005617,0.00…\n",
       "  (1,4) => [0.0,0.0,0.0,0.0,0.0,0.0,0.0,0.0,0.0,0.0,0.0,0.0,0.0,0.0]\n",
       "  (2,8) => [20.003526,20.003526,20.003526,20.003526,20.003526,20.003526,20.0035…\n",
       "  (5,8) => [5.5e-5,5.5e-5,5.5e-5,5.5e-5,5.5e-5,5.5e-5,5.5e-5,5.5e-5,5.5e-5,5.5e…\n",
       "  (4,8) => [2143.156719,2143.156719,2143.156719,2143.156719,2143.156719,2143.15…\n",
       "  (7,8) => [1833.393858,1833.393858,1833.393858,1833.393858,1833.393858,1833.39…\n",
       "  (1,1) => [0.0,0.0,0.0,0.0,0.0,0.0,0.0,0.0,0.0,0.0,0.0,0.0,0.0,0.0]\n",
       "  (7,7) => [0.0,0.0,0.0,0.0,0.0,0.0,0.0,0.0,0.0,0.0,0.0,0.0,0.0,0.0]\n",
       "  (5,7) => [5.5e-5,5.5e-5,5.5e-5,5.5e-5,5.5e-5,5.5e-5,5.5e-5,5.5e-5,5.5e-5,5.5e…\n",
       "  ⋮     => ⋮"
      ]
     },
     "execution_count": 14,
     "metadata": {},
     "output_type": "execute_result"
    }
   ],
   "source": [
    "demand_data"
   ]
  },
  {
   "cell_type": "code",
   "execution_count": 15,
   "metadata": {
    "collapsed": false
   },
   "outputs": [
    {
     "data": {
      "text/plain": [
       "24x14 Array{Float64,2}:\n",
       " 2794.37  2750.77  2914.17  2753.28  …  2877.0   2529.23  2883.67  2694.76\n",
       " 3118.28  2910.8   2906.68  2905.44     2935.47  2866.94  2946.46  2928.69\n",
       " 2378.89  2437.42  2385.18  2486.0      2437.68  2436.81  2444.91  2413.33\n",
       " 2501.99  2506.5   2560.93  2514.92     2531.59  2471.86  2495.61  2541.04\n",
       " 2291.02  2298.6   2278.92  2293.23     2271.81  2114.17  2056.86  2284.21\n",
       " 2448.57  2424.44  2438.8   2470.5   …  2367.96  2390.24  1706.14  2396.89\n",
       " 2853.79  2936.28  2942.67  2855.04     2886.23  2377.44  2908.63  2906.19\n",
       " 2818.99  2758.24  2964.11  2924.61     2837.91  2802.54  2909.33  2463.93\n",
       " 2242.18  2238.3   2245.84  2498.3      2237.28  2223.11  2256.06  2227.82\n",
       " 2386.87  2363.0   2378.43  2385.91     2371.74  2398.2   2353.79  2419.22\n",
       " 2684.21  2722.97  2692.72  2614.73  …  2647.44  2674.34  2693.11  2660.39\n",
       " 2396.6   2391.46  2376.37  2373.24     2397.67  2369.84  2338.89  2323.52\n",
       " 2780.57  2793.15  2762.35  2755.8      2730.76  2810.06  2832.96  2751.63\n",
       " 2706.15  2759.65  2453.78  2753.66     2743.94  2702.79  1868.53  2784.75\n",
       " 2421.46  2403.22  2379.23  2413.05     2408.9   2399.01  2411.46  2389.93\n",
       " 2401.56  2402.54  2368.95  2419.71  …  2410.3   2375.08  2302.33  2326.67\n",
       " 1937.62  1953.72  1950.71  2002.48     1997.44  1958.31  1992.03  1995.35\n",
       " 2942.59  2952.02  2684.0   2736.76     2992.36  2922.83  2943.19  2891.1 \n",
       " 2365.28  2357.69  2354.84  2368.32     2352.09  2381.56  2360.63  2374.15\n",
       " 2361.0   2371.62  2362.82  2355.24     2082.33  2343.69  2467.69  2261.95\n",
       " 3219.68  3229.94  3195.9   3192.51  …  3176.83  3163.08  3239.26  3151.43\n",
       " 2431.82  2429.09  2403.17  2423.44     2416.95  2434.62  2505.26  2400.46\n",
       " 3255.08  3259.63  3356.08  2543.62     3371.16  2659.85  3321.32  3227.54\n",
       " 2685.85  2752.38  2657.49  2584.43     2693.17  2594.23  2681.84  2692.31"
      ]
     },
     "execution_count": 15,
     "metadata": {},
     "output_type": "execute_result"
    }
   ],
   "source": [
    "flow_data_3"
   ]
  },
  {
   "cell_type": "code",
   "execution_count": 16,
   "metadata": {
    "collapsed": false
   },
   "outputs": [
    {
     "data": {
      "text/plain": [
       "train (generic function with 1 method)"
      ]
     },
     "execution_count": 16,
     "metadata": {},
     "output_type": "execute_result"
    }
   ],
   "source": [
    "##########\n",
    "#Fitting Funcs\n",
    "##########\n",
    "\n",
    "function train(indices, lam::Float64, deg::Int, c::Float64, demand_data, flow_data, arcs; fcoeffs=nothing)\n",
    "    numNodes = maximum(map(pair->pair[1], keys(arcs)))\n",
    "    m, coeffs, reg_term = setUpFitting(deg, c)\n",
    "    \n",
    "    addIncreasingCnsts(m, coeffs, arcs, TOL=1e-8)  #uses the original obs flows\n",
    "\n",
    "    avgCost = mean( [bpacost(a.flow, a.capacity, 1.0) for a in values(arcs)] )\n",
    "    normalize(m, coeffs, [a.flow / a.capacity for a in values(arcs)], avgCost)\n",
    "\n",
    "\n",
    "    resids = Variable[]\n",
    "    \n",
    "    for i = indices\n",
    "        #copy the flow data over to the arcs, demand data to demands (slow)\n",
    "        for (ix, a) in enumerate(vArcs)\n",
    "            a.flow = flow_data[ix, i]\n",
    "        end\n",
    "        for odpair in keys(demands)\n",
    "            demands[odpair] = demand_data[odpair][i]\n",
    "        end\n",
    "    \n",
    "        #Dual Feasibility\n",
    "        ys = addNetworkCnsts(m, coeffs, demands, arcs, numNodes)\n",
    "        \n",
    "        #add the residual for this data point\n",
    "        push!(resids, addResid(m, coeffs, ys, demands, arcs, 1e6))\n",
    "    end\n",
    "\n",
    "    if fcoeffs != nothing\n",
    "        fixCoeffs(m, fcoeffs, coeffs)\n",
    "    end\n",
    "    @setObjective(m, Min, sum{resids[i], i = 1:length(resids)} + lam*reg_term)\n",
    "    solve(m)\n",
    "    #println(getObjectiveValue(m) - lam * getValue(reg_term) )\n",
    "    return [getValue(coeffs[i]) for i =1:length(coeffs)]\n",
    "end"
   ]
  },
  {
   "cell_type": "code",
   "execution_count": 17,
   "metadata": {
    "collapsed": false
   },
   "outputs": [],
   "source": [
    "#include(\"trafficCval.jl\")\n",
    "\n",
    "coeffs_dict_Jul_MD = Dict{(Int64,Float64,Float64,Int64),Array{Float64,1}}()\n",
    "\n",
    "deg_grid = [4:8]\n",
    "c_grid = .5:.5:3.\n",
    "lamb_grid = [10. .^(-3:4)]\n",
    "\n",
    "for deg in deg_grid\n",
    "    for c in c_grid\n",
    "        for lam in lamb_grid\n",
    "            coeffs_dict_Jul_MD[(deg, c, lam, 1)] = train(1:numData, lam, deg, c, demand_data, flow_data_1, arcs_1[1])\n",
    "            coeffs_dict_Jul_MD[(deg, c, lam, 2)] = train(1:numData, lam, deg, c, demand_data, flow_data_2, arcs_2[1])\n",
    "            coeffs_dict_Jul_MD[(deg, c, lam, 3)] = train(1:numData, lam, deg, c, demand_data, flow_data_3, arcs_3[1])\n",
    "        end\n",
    "    end\n",
    "end"
   ]
  },
  {
   "cell_type": "code",
   "execution_count": 18,
   "metadata": {
    "collapsed": false
   },
   "outputs": [],
   "source": [
    "outfile = open(\"../temp_files/coeffs_dict_Jul_MD.json\", \"w\")\n",
    "\n",
    "JSON.print(outfile, coeffs_dict_Jul_MD)\n",
    "\n",
    "close(outfile)"
   ]
  },
  {
   "cell_type": "code",
   "execution_count": 19,
   "metadata": {
    "collapsed": false
   },
   "outputs": [
    {
     "data": {
      "text/plain": [
       "Dict{String,Any} with 720 entries:\n",
       "  \"(7,2.5,10000.0,3)\" => {0.18518521247540998,0.4380176223026437,0.4446109452200…\n",
       "  \"(5,0.5,100.0,3)\"   => {0.012660582012846804,0.1069470779865783,0.361994679321…\n",
       "  \"(6,1.5,10.0,3)\"    => {0.10431320143123665,0.35175715245174416,0.494655332888…\n",
       "  \"(6,2.0,0.1,2)\"     => {0.29041090344764786,0.6101960564952402,0.4144666044988…\n",
       "  \"(4,0.5,1000.0,1)\"  => {0.03258896789065949,0.2173221507395188,0.5447236725906…\n",
       "  \"(6,2.0,0.01,1)\"    => {0.9708450229598391,-0.36436621023169974,0.445973501318…\n",
       "  \"(8,1.5,0.01,1)\"    => {0.44023976238687107,-0.14934997796039567,0.76924361846…\n",
       "  \"(5,1.5,1.0,1)\"     => {0.16232266441061627,0.4432977028302475,0.4912171959058…\n",
       "  \"(8,2.5,0.001,2)\"   => {-5.729598865979836,1.7192087865108678,10.0320420656092…\n",
       "  \"(4,2.0,0.1,1)\"     => {0.3572459047745908,0.5246543627267906,0.32237188021338…\n",
       "  \"(5,1.0,1000.0,2)\"  => {0.07509585851741206,0.3143219922609645,0.5270636502120…\n",
       "  \"(4,2.0,0.1,2)\"     => {0.3389332432135168,0.5475857514044795,0.32180172462848…\n",
       "  \"(5,2.0,0.001,1)\"   => {1.0012890097886193,-0.7589292553654491,1.1228372302544…\n",
       "  \"(7,1.5,0.01,3)\"    => {0.10693153178631214,0.622721763991542,0.93355735492066…\n",
       "  \"(4,0.5,0.1,3)\"     => {0.03118942563125148,0.20998906628692215,0.530313820300…\n",
       "  \"(6,2.0,1000.0,3)\"  => {0.1721492851811576,0.4362274983768298,0.46124478897936…\n",
       "  \"(6,2.0,0.1,3)\"     => {0.39620365208677677,0.6936267026040656,0.3277359828601…\n",
       "  \"(4,1.5,1.0,1)\"     => {0.23465618450091522,0.518596027021765,0.43302284167045…\n",
       "  \"(8,2.0,10000.0,1)\" => {0.09791017822574644,0.3264008494937354,0.4773213024782…\n",
       "  \"(7,0.5,0.001,2)\"   => {0.008266222654905965,0.09064922283299959,0.38242025989…\n",
       "  \"(5,1.0,10000.0,2)\" => {0.07509285420554071,0.31431499216635755,0.527062081807…\n",
       "  \"(8,3.0,0.01,1)\"    => {0.8994463358495748,-2.6215867781560345,3.0950704180880…\n",
       "  \"(8,2.0,0.01,3)\"    => {-0.15501333781123905,0.7073550126551499,1.343911664536…\n",
       "  \"(5,3.0,100.0,3)\"   => {0.3706366934854395,0.5211964975778854,0.29347712277755…\n",
       "  \"(5,3.0,10000.0,3)\" => {0.37015095360031913,0.5211650629623417,0.2939121411461…\n",
       "  ⋮                    => ⋮"
      ]
     },
     "execution_count": 19,
     "metadata": {},
     "output_type": "execute_result"
    }
   ],
   "source": [
    "coeffs_dict_Jul_MD_ = readall(\"../temp_files/coeffs_dict_Jul_MD.json\")\n",
    "coeffs_dict_Jul_MD_ = JSON.parse(coeffs_dict_Jul_MD_)"
   ]
  },
  {
   "cell_type": "code",
   "execution_count": 20,
   "metadata": {
    "collapsed": false
   },
   "outputs": [
    {
     "data": {
      "text/plain": [
       "9-element Array{Any,1}:\n",
       " 0.000965609\n",
       " 0.0128362  \n",
       " 0.0758151  \n",
       " 0.247785   \n",
       " 0.545262   \n",
       " 0.678019   \n",
       " 0.640809   \n",
       " 0.264826   \n",
       " 0.0677113  "
      ]
     },
     "execution_count": 20,
     "metadata": {},
     "output_type": "execute_result"
    }
   ],
   "source": [
    "coeffs_dict_Jul_MD_[\"(8,0.5,10000.0,1)\"]"
   ]
  },
  {
   "cell_type": "code",
   "execution_count": 22,
   "metadata": {
    "collapsed": false
   },
   "outputs": [
    {
     "data": {
      "image/png": "[encoded data removed]",
      "text/plain": [
       "Figure(PyObject <matplotlib.figure.Figure object at 0x7fc75c1981d0>)"
      ]
     },
     "metadata": {},
     "output_type": "display_data"
    }
   ],
   "source": [
    "using PyPlot\n",
    "\n",
    "fcoeffs = coeffs_dict_Jul_MD_[\"(8,0.5,1000.0,3)\"]\n",
    "\n",
    "\n",
    "xs = linspace(0, 1.1, 30)\n",
    "ys = map(x->polyEval(fcoeffs, x), xs)\n",
    "\n",
    "plot(xs, ys, \"o-m\", label=\"Jul_MD\")\n",
    "\n",
    "#legend(loc=\"upper left\",fancybox=\"true\") \n",
    "\n",
    "grid(\"on\")\n",
    "xlim(-0.1, 1.1);\n",
    "ylim(-0.1, 2.5);\n",
    "\n",
    "font1 = [\"family\"=>\"serif\",\n",
    "    \"color\"=>\"darkred\",\n",
    "    \"weight\"=>\"normal\",\n",
    "    \"size\"=>14]\n",
    "xlabel(\"Scaled Flow\", fontdict=font1)\n",
    "\n",
    "savefig(\"../temp_files/fitting_Jul_MD.pdf\")"
   ]
  },
  {
   "cell_type": "code",
   "execution_count": null,
   "metadata": {
    "collapsed": true
   },
   "outputs": [],
   "source": []
  }
 ],
 "metadata": {
  "kernelspec": {
   "display_name": "Julia 0.3.7",
   "language": "julia",
   "name": "julia-0.3"
  },
  "language_info": {
   "file_extension": ".jl",
   "mimetype": "application/julia",
   "name": "julia",
   "version": "0.3.7"
  }
 },
 "nbformat": 4,
 "nbformat_minor": 0
}
