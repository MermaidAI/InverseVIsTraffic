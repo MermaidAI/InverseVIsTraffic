{
 "cells": [
  {
   "cell_type": "code",
   "execution_count": 1,
   "metadata": {
    "collapsed": false
   },
   "outputs": [
    {
     "data": {
      "text/plain": [
       "Arc (constructor with 3 methods)"
      ]
     },
     "execution_count": 1,
     "metadata": {},
     "output_type": "execute_result"
    }
   ],
   "source": [
    "#include(\"defArc.jl\")\n",
    "\n",
    "type Arc\n",
    "    initNode::Int \n",
    "    termNode::Int \n",
    "    capacity::Float64\n",
    "    freeflowtime::Float64\n",
    "    flow::Float64\n",
    "end\n",
    "\n",
    "Arc(initNode::Int, termNode::Int, capacity::Float64, freeflowtime::Float64) = \n",
    "    Arc(initNode, termNode, capacity, freeflowtime, 0.)"
   ]
  },
  {
   "cell_type": "code",
   "execution_count": 2,
   "metadata": {
    "collapsed": false
   },
   "outputs": [
    {
     "data": {
      "text/plain": [
       "bpacost (generic function with 3 methods)"
      ]
     },
     "execution_count": 2,
     "metadata": {},
     "output_type": "execute_result"
    }
   ],
   "source": [
    "#include(\"fitTraffic.jl\")\n",
    "\n",
    "## Solve an inverse tarffic problem over polynomials \n",
    "## of degree at most d\n",
    "## optionally use a regularizer from the poly kernel\n",
    "\n",
    "using JuMP\n",
    "using Gurobi\n",
    "using Graphs\n",
    "using Roots\n",
    "\n",
    "\n",
    "polyEval(coeffs, pt) = sum([coeffs[i] * pt^(i-1) for i = 1:length(coeffs)])  \n",
    "\n",
    "polyEval(coeffs::Array{Float64, 1}, pt) = sum([coeffs[i] * pt^(i-1) for i = 1:length(coeffs)]) \n",
    "\n",
    "bpacost(flow::Float64, capacity::Float64, freeflowtime::Float64) = freeflowtime*(1 + .15 * (flow/capacity)^4)\n",
    "bpacost(flow::Float64, arc) = bpacost(flow, arc.capacity, arc.freeflowtime)\n",
    "bpacost(arc::Arc) = bpacost(arc.flow, arc)"
   ]
  },
  {
   "cell_type": "code",
   "execution_count": 3,
   "metadata": {
    "collapsed": false
   },
   "outputs": [
    {
     "data": {
      "text/plain": [
       "setUpFitting (generic function with 1 method)"
      ]
     },
     "execution_count": 3,
     "metadata": {},
     "output_type": "execute_result"
    }
   ],
   "source": [
    "function setUpFitting(deg::Int, c::Float64)\n",
    "\n",
    "\tm = Model(solver=GurobiSolver(OutputFlag=false))\n",
    "    \n",
    "\t@defVar(m, coeffs[1:deg+1])\n",
    "\t@defVar(m, Calphas[1:deg+1])\n",
    "\n",
    "\t#build the graham matrix; cf. Ref. [21] (Regularization Networks and Support Vector Machines), page 47\n",
    "\tsamples = linspace(0, 1, deg + 1)\n",
    "\tk(x,y) = (c + x*y)^deg\n",
    "\tK = [ k(x,y) for x = samples, y=samples]\n",
    "\tK = convert(Array{Float64, 2}, K)\n",
    "\t#assert(rank(K) == deg+1)\n",
    "    \n",
    "\tC = chol(K + 1e-6* eye(deg+1))\n",
    "\tfor i=1:deg + 1\n",
    "\t\t@addConstraint(m, polyEval(coeffs, samples[i]) == sum{C[j, i] * Calphas[j], j=1:deg+1})\n",
    "\tend\n",
    "    \n",
    "\t@defVar(m, reg_term >= 0)\n",
    "\treg_term_ = QuadExpr(Calphas[:], Calphas[:], ones(deg+1), AffExpr())\n",
    "    \n",
    "\t@addConstraint(m, reg_term >= reg_term_)\n",
    "    \n",
    "\treturn m, coeffs, reg_term\n",
    "\n",
    "end"
   ]
  },
  {
   "cell_type": "code",
   "execution_count": 4,
   "metadata": {
    "collapsed": false
   },
   "outputs": [
    {
     "data": {
      "text/plain": [
       "fixCoeffs (generic function with 1 method)"
      ]
     },
     "execution_count": 4,
     "metadata": {},
     "output_type": "execute_result"
    }
   ],
   "source": [
    "function fixCoeffs(m, fcoeffs, coeffs)\n",
    "\tfor (fc, c) in zip(fcoeffs, coeffs[:])\n",
    "\t\t@addConstraint(m, fc == c)\n",
    "\tend\n",
    "end"
   ]
  },
  {
   "cell_type": "code",
   "execution_count": 5,
   "metadata": {
    "collapsed": false
   },
   "outputs": [
    {
     "data": {
      "text/plain": [
       "addResid (generic function with 1 method)"
      ]
     },
     "execution_count": 5,
     "metadata": {},
     "output_type": "execute_result"
    }
   ],
   "source": [
    "function addResid(m, coeffs, ys, demands, arcs, scaling)\n",
    "\t@defVar(m, resid)\n",
    "\t@defVar(m, dual_cost)\n",
    "\t@defVar(m, primal_cost)\n",
    "\n",
    "\t@addConstraint(m, dual_cost == sum{demands[(s,t)] * (ys[(s,t), t] - ys[(s,t), s]), (s,t)=keys(demands)})  \n",
    "\t@addConstraint(m, primal_cost == sum{a.flow * a.freeflowtime * polyEval(coeffs, a.flow/a.capacity), a=values(arcs)})\n",
    "\n",
    "\t@addConstraint(m, resid >= (dual_cost - primal_cost) / scaling )\n",
    "\t@addConstraint(m, resid >= (primal_cost - dual_cost) / scaling )\n",
    "\treturn resid\n",
    "end"
   ]
  },
  {
   "cell_type": "code",
   "execution_count": 6,
   "metadata": {
    "collapsed": false
   },
   "outputs": [
    {
     "data": {
      "text/plain": [
       "addIncreasingCnsts (generic function with 1 method)"
      ]
     },
     "execution_count": 6,
     "metadata": {},
     "output_type": "execute_result"
    }
   ],
   "source": [
    "function addIncreasingCnsts(m, coeffs, arcs; TOL=0.)\n",
    "\tsorted_flows = sort([a.flow / a.capacity for a in values(arcs)])\n",
    "\t@addConstraint(m, polyEval(coeffs, 0) <= polyEval(coeffs, sorted_flows[1]))\n",
    "\tfor i = 2:length(sorted_flows)\n",
    "\t\t@addConstraint(m, polyEval(coeffs, sorted_flows[i-1]) <= polyEval(coeffs, sorted_flows[i]) + TOL)\n",
    "\tend\n",
    "end"
   ]
  },
  {
   "cell_type": "code",
   "execution_count": 7,
   "metadata": {
    "collapsed": false
   },
   "outputs": [
    {
     "data": {
      "text/plain": [
       "normalize (generic function with 3 methods)"
      ]
     },
     "execution_count": 7,
     "metadata": {},
     "output_type": "execute_result"
    }
   ],
   "source": [
    "#equates the total cost of the network to the true total cost\n",
    "function normalize(m, coeffs, tot_true_cost::Float64, arcs)\n",
    "\t@addConstraint(m, \n",
    "\t\tsum{a.freeflowtime * a.flow * polyEval(coeffs, a.flow / a.capacity), a=values(arcs)} == tot_true_cost)\n",
    "end\n",
    "\n",
    "function normalize(m, coeffs, scaled_flow::Float64, cost::Float64)\n",
    "\t@addConstraint(m, polyEval(coeffs, scaled_flow) == cost)\n",
    "end\n",
    "\n",
    "function normalize(m, coeffs, scaled_flows::Array{Float64, 1}, avgCost::Float64)\n",
    "    @addConstraint(m, sum{polyEval(coeffs, f), f=scaled_flows} == avgCost * length(scaled_flows))\n",
    "end"
   ]
  },
  {
   "cell_type": "code",
   "execution_count": 8,
   "metadata": {
    "collapsed": false
   },
   "outputs": [
    {
     "data": {
      "text/plain": [
       "addNetworkCnsts (generic function with 1 method)"
      ]
     },
     "execution_count": 8,
     "metadata": {},
     "output_type": "execute_result"
    }
   ],
   "source": [
    "function addNetworkCnsts(m, coeffs, demands, arcs, numNodes)\n",
    "\t@defVar(m, ys[keys(demands), 1:numNodes])\n",
    "\tfor k = keys(arcs)\n",
    "\t\ta = arcs[k]\n",
    "\t\trhs = a.freeflowtime * polyEval(coeffs, a.flow/a.capacity)\n",
    "\t\tfor od in keys(demands)\n",
    "\t\t\t@addConstraint(m, ys[od, k[2]] - ys[od, k[1]] <= rhs)\n",
    "\t\tend\n",
    "\tend\n",
    "\treturn ys\n",
    "end"
   ]
  },
  {
   "cell_type": "code",
   "execution_count": 9,
   "metadata": {
    "collapsed": false
   },
   "outputs": [],
   "source": [
    "############\n",
    "#Read in demand data\n",
    "file = open(\"../temp_files/OD_demand_matrix_Jul_weekday_NT.txt\")\n",
    "demands = Dict{(Int64,Int64), Float64}()\n",
    "n = 8  # number of nodes\n",
    "for i in [1:n]\n",
    "    demands[(i,i)] = 0.0\n",
    "end\n",
    "for line in eachline(file)\n",
    "    OD_demand = split(line, \",\")\n",
    "    key, value = (int(OD_demand[1]),int(OD_demand[2])), float(split(OD_demand[3], \"\\n\")[1])\n",
    "    demands[key] = value\n",
    "end\n",
    "close(file)"
   ]
  },
  {
   "cell_type": "code",
   "execution_count": 10,
   "metadata": {
    "collapsed": false
   },
   "outputs": [
    {
     "data": {
      "text/plain": [
       "Dict{(Int64,Int64),Float64} with 64 entries:\n",
       "  (3,6) => 2274.417358\n",
       "  (4,4) => 0.0\n",
       "  (3,1) => 3487.049427\n",
       "  (4,5) => 488.987544\n",
       "  (2,4) => 3516.325603\n",
       "  (6,5) => 0.319233\n",
       "  (8,4) => 3720.20569\n",
       "  (1,2) => 0.0\n",
       "  (5,1) => 941.395759\n",
       "  (3,4) => 0.002469\n",
       "  (8,2) => 1.339415\n",
       "  (2,3) => 0.007225\n",
       "  (2,6) => 287.36957\n",
       "  (5,4) => 584.123088\n",
       "  (2,1) => 0.006683\n",
       "  (2,5) => 0.001553\n",
       "  (8,5) => 0.068858\n",
       "  (1,4) => 0.0\n",
       "  (2,8) => 0.004882\n",
       "  (5,8) => 1260.098886\n",
       "  (4,8) => 3506.137294\n",
       "  (7,8) => 329.56005\n",
       "  (1,1) => 0.0\n",
       "  (7,7) => 0.0\n",
       "  (5,7) => 1.039778\n",
       "  ⋮     => ⋮"
      ]
     },
     "execution_count": 10,
     "metadata": {},
     "output_type": "execute_result"
    }
   ],
   "source": [
    "demands"
   ]
  },
  {
   "cell_type": "code",
   "execution_count": 11,
   "metadata": {
    "collapsed": false
   },
   "outputs": [],
   "source": [
    "using JSON\n",
    "\n",
    "link_day_minute_Jul_dict = readall(\"../temp_files/link_day_minute_Jul_dict_JSON.json\");\n",
    "link_day_minute_Jul_dict = replace(link_day_minute_Jul_dict, \"NaN\", 0);\n",
    "\n",
    "link_day_minute_Jul_dict = JSON.parse(link_day_minute_Jul_dict);"
   ]
  },
  {
   "cell_type": "code",
   "execution_count": 12,
   "metadata": {
    "collapsed": false
   },
   "outputs": [],
   "source": [
    "# week_day_Jul_list = [2, 3, 4, 5, 6, 9, 10, 11, 12, 13, 16, 17, 18, 19, 20, 23, 24, 25, 26, 27, 30, 31]\n",
    "\n",
    "# training set 1\n",
    "week_day_Jul_list_1 = [2, 3, 4, 5, 6, 9, 10, 11, 12, 13, 16, 17, 18, 19]\n",
    "\n",
    "# training set 2\n",
    "week_day_Jul_list_2 = [2, 3, 4, 5, 6, 9, 10, 20, 23, 24, 25, 26, 27, 30, 31]\n",
    "\n",
    "# training set 3\n",
    "week_day_Jul_list_3 = [11, 12, 13, 16, 17, 18, 19, 20, 23, 24, 25, 26, 27, 30, 31]\n",
    "\n",
    "\n",
    "arcs_1 = Dict{(Int, Int), Arc}[]\n",
    "for j in week_day_Jul_list_1\n",
    "    arcs_1_ = Dict{(Int, Int), Arc}()\n",
    "    for i = 0:23\n",
    "        key = \"link_$(i)_$(j)\"\n",
    "        initNode = link_day_minute_Jul_dict[key][\"init_node\"]\n",
    "        termNode = link_day_minute_Jul_dict[key][\"term_node\"]\n",
    "        capacity = link_day_minute_Jul_dict[key][\"NT_capac\"]\n",
    "        freeflowtime = link_day_minute_Jul_dict[key][\"free_flow_time\"]\n",
    "        flow = link_day_minute_Jul_dict[key][\"NT_flow\"]\n",
    "        arcs_1_[(initNode, termNode)] = Arc(initNode, termNode, capacity, freeflowtime, flow)\n",
    "    end\n",
    "    push!(arcs_1, arcs_1_)\n",
    "end\n",
    "\n",
    "arcs_2 = Dict{(Int, Int), Arc}[]\n",
    "for j in week_day_Jul_list_2\n",
    "    arcs_2_ = Dict{(Int, Int), Arc}()\n",
    "    for i = 0:23\n",
    "        key = \"link_$(i)_$(j)\"\n",
    "        initNode = link_day_minute_Jul_dict[key][\"init_node\"]\n",
    "        termNode = link_day_minute_Jul_dict[key][\"term_node\"]\n",
    "        capacity = link_day_minute_Jul_dict[key][\"NT_capac\"]\n",
    "        freeflowtime = link_day_minute_Jul_dict[key][\"free_flow_time\"]\n",
    "        flow = link_day_minute_Jul_dict[key][\"NT_flow\"]\n",
    "        arcs_2_[(initNode, termNode)] = Arc(initNode, termNode, capacity, freeflowtime, flow)\n",
    "    end\n",
    "    push!(arcs_2, arcs_2_)\n",
    "end\n",
    "\n",
    "arcs_3 = Dict{(Int, Int), Arc}[]\n",
    "for j in week_day_Jul_list_3\n",
    "    arcs_3_ = Dict{(Int, Int), Arc}()\n",
    "    for i = 0:23\n",
    "        key = \"link_$(i)_$(j)\"\n",
    "        initNode = link_day_minute_Jul_dict[key][\"init_node\"]\n",
    "        termNode = link_day_minute_Jul_dict[key][\"term_node\"]\n",
    "        capacity = link_day_minute_Jul_dict[key][\"NT_capac\"]\n",
    "        freeflowtime = link_day_minute_Jul_dict[key][\"free_flow_time\"]\n",
    "        flow = link_day_minute_Jul_dict[key][\"NT_flow\"]\n",
    "        arcs_3_[(initNode, termNode)] = Arc(initNode, termNode, capacity, freeflowtime, flow)\n",
    "    end\n",
    "    push!(arcs_3, arcs_3_)\n",
    "end"
   ]
  },
  {
   "cell_type": "code",
   "execution_count": 13,
   "metadata": {
    "collapsed": false
   },
   "outputs": [],
   "source": [
    "##########\n",
    "# Set up demand data and flow data\n",
    "##########\n",
    "numData = length(arcs_1); \n",
    "sigma = .0\n",
    "\n",
    "flow_data_1 = Array(Float64, length(arcs_1[1]), numData)\n",
    "flow_data_2 = Array(Float64, length(arcs_2[1]), numData)\n",
    "flow_data_3 = Array(Float64, length(arcs_3[1]), numData)\n",
    "\n",
    "demand_data = Dict{(Int, Int), Array{Float64, 1}}()\n",
    "\n",
    "numNodes = maximum(map(pair->pair[1], keys(demands)))\n",
    "g = simple_inclist(numNodes, is_directed=true)\n",
    "vArcs = Arc[]\n",
    "for arc in values(arcs_1[1])\n",
    "    add_edge!(g, arc.initNode, arc.termNode) \n",
    "    push!(vArcs, arc)\n",
    "end\n",
    "\n",
    "\n",
    "for iRun = 1:numData\n",
    "    for odpair in keys(demands)\n",
    "        if ! haskey(demand_data, odpair)\n",
    "            demand_data[odpair] = [demands[odpair], ]\n",
    "        else\n",
    "            push!(demand_data[odpair], demands[odpair])\n",
    "        end\n",
    "    end\n",
    "\n",
    "    #flow_data[:, iRun] = [a.flow::Float64 for a in vArcs]\n",
    "    flow_data_1[:, iRun] = [a.flow::Float64 for a in values(arcs_1[iRun])]\n",
    "    flow_data_2[:, iRun] = [a.flow::Float64 for a in values(arcs_2[iRun])]\n",
    "    flow_data_3[:, iRun] = [a.flow::Float64 for a in values(arcs_3[iRun])]\n",
    "end"
   ]
  },
  {
   "cell_type": "code",
   "execution_count": 14,
   "metadata": {
    "collapsed": false
   },
   "outputs": [
    {
     "data": {
      "text/plain": [
       "Dict{(Int64,Int64),Array{Float64,1}} with 64 entries:\n",
       "  (3,6) => [2274.417358,2274.417358,2274.417358,2274.417358,2274.417358,2274.41…\n",
       "  (4,4) => [0.0,0.0,0.0,0.0,0.0,0.0,0.0,0.0,0.0,0.0,0.0,0.0,0.0,0.0]\n",
       "  (3,1) => [3487.049427,3487.049427,3487.049427,3487.049427,3487.049427,3487.04…\n",
       "  (4,5) => [488.987544,488.987544,488.987544,488.987544,488.987544,488.987544,4…\n",
       "  (2,4) => [3516.325603,3516.325603,3516.325603,3516.325603,3516.325603,3516.32…\n",
       "  (6,5) => [0.319233,0.319233,0.319233,0.319233,0.319233,0.319233,0.319233,0.31…\n",
       "  (8,4) => [3720.20569,3720.20569,3720.20569,3720.20569,3720.20569,3720.20569,3…\n",
       "  (1,2) => [0.0,0.0,0.0,0.0,0.0,0.0,0.0,0.0,0.0,0.0,0.0,0.0,0.0,0.0]\n",
       "  (5,1) => [941.395759,941.395759,941.395759,941.395759,941.395759,941.395759,9…\n",
       "  (3,4) => [0.002469,0.002469,0.002469,0.002469,0.002469,0.002469,0.002469,0.00…\n",
       "  (8,2) => [1.339415,1.339415,1.339415,1.339415,1.339415,1.339415,1.339415,1.33…\n",
       "  (2,3) => [0.007225,0.007225,0.007225,0.007225,0.007225,0.007225,0.007225,0.00…\n",
       "  (2,6) => [287.36957,287.36957,287.36957,287.36957,287.36957,287.36957,287.369…\n",
       "  (5,4) => [584.123088,584.123088,584.123088,584.123088,584.123088,584.123088,5…\n",
       "  (2,1) => [0.006683,0.006683,0.006683,0.006683,0.006683,0.006683,0.006683,0.00…\n",
       "  (2,5) => [0.001553,0.001553,0.001553,0.001553,0.001553,0.001553,0.001553,0.00…\n",
       "  (8,5) => [0.068858,0.068858,0.068858,0.068858,0.068858,0.068858,0.068858,0.06…\n",
       "  (1,4) => [0.0,0.0,0.0,0.0,0.0,0.0,0.0,0.0,0.0,0.0,0.0,0.0,0.0,0.0]\n",
       "  (2,8) => [0.004882,0.004882,0.004882,0.004882,0.004882,0.004882,0.004882,0.00…\n",
       "  (5,8) => [1260.098886,1260.098886,1260.098886,1260.098886,1260.098886,1260.09…\n",
       "  (4,8) => [3506.137294,3506.137294,3506.137294,3506.137294,3506.137294,3506.13…\n",
       "  (7,8) => [329.56005,329.56005,329.56005,329.56005,329.56005,329.56005,329.560…\n",
       "  (1,1) => [0.0,0.0,0.0,0.0,0.0,0.0,0.0,0.0,0.0,0.0,0.0,0.0,0.0,0.0]\n",
       "  (7,7) => [0.0,0.0,0.0,0.0,0.0,0.0,0.0,0.0,0.0,0.0,0.0,0.0,0.0,0.0]\n",
       "  (5,7) => [1.039778,1.039778,1.039778,1.039778,1.039778,1.039778,1.039778,1.03…\n",
       "  ⋮     => ⋮"
      ]
     },
     "execution_count": 14,
     "metadata": {},
     "output_type": "execute_result"
    }
   ],
   "source": [
    "demand_data"
   ]
  },
  {
   "cell_type": "code",
   "execution_count": 15,
   "metadata": {
    "collapsed": false
   },
   "outputs": [
    {
     "data": {
      "text/plain": [
       "24x14 Array{Float64,2}:\n",
       " 4064.04  4034.71  3933.65  3868.4   …  3096.06  3951.55  3936.62  4186.33\n",
       " 4125.37  4117.83  4406.49  4297.76     4380.13  4367.04  4280.02  4351.03\n",
       " 3616.05  3643.13  3680.89  3693.23     3629.04  3719.06  3691.88  3718.05\n",
       " 3828.02  3839.91  3829.89  3781.51     3706.1   3732.49  3667.3   3808.64\n",
       " 3433.67  3393.51  3422.56  3415.92     3456.5   3371.62  3551.57  3448.96\n",
       " 3554.01  3428.72  3409.15  3508.8   …  3579.96  3724.16  3480.77  3358.53\n",
       " 4469.35  4374.97  4386.34  4494.8      4354.97  4487.83  4402.34  4357.91\n",
       " 4394.32  4293.28  4269.82  4426.23     4176.18  4320.63  4271.04  4425.7 \n",
       " 3474.73  3379.02  3240.15  3402.95     3291.68  3337.28  3276.7   3408.22\n",
       " 3700.49  3640.01  3613.4   3631.06     3571.05  3657.56  3634.31  3674.22\n",
       " 4121.94  4202.56  3858.04  4077.96  …  3980.96  4062.31  3937.5   3227.81\n",
       " 3639.17  2883.52  3178.86  2820.85     3680.85  3621.77  3461.84  3495.31\n",
       " 4312.81  4299.11  4201.8   4178.22     4097.1   4075.32  4002.62  4150.58\n",
       " 3944.26  3980.31  3984.52  3959.43     3973.57  3938.79  3916.71  3711.21\n",
       " 3635.97  3026.01  3606.93  3639.4      3642.22  3627.18  3535.39  3723.11\n",
       " 3579.48  3608.68  3583.81  3588.71  …  2402.02  3644.86  3609.03  3335.37\n",
       " 2918.92  2989.47  2983.29  2820.6      2982.58  2829.59  2922.15  2962.26\n",
       " 3986.59  4080.33  4078.98  4099.04     4165.69  4020.59  3200.14  4001.44\n",
       " 3660.44  3657.4   3573.51  3586.15     3677.56  3748.27  3602.91  3617.93\n",
       " 3585.11  3516.8   3419.38  3506.02     3560.11  3555.51  3487.84  3498.97\n",
       " 5057.27  4971.88  4816.71     0.0   …  4937.93  4843.37  4661.27  4936.21\n",
       " 3703.47  3678.02  3658.94  3631.59     3672.01  3626.35  3645.59  3662.41\n",
       " 4958.27  5105.19  4672.56     0.0      4996.62  4727.23  4648.45  5083.67\n",
       " 3961.27  3944.22  3862.47  4058.96     3955.0   3958.92  3893.24  3970.29"
      ]
     },
     "execution_count": 15,
     "metadata": {},
     "output_type": "execute_result"
    }
   ],
   "source": [
    "flow_data_3"
   ]
  },
  {
   "cell_type": "code",
   "execution_count": 16,
   "metadata": {
    "collapsed": false
   },
   "outputs": [
    {
     "data": {
      "text/plain": [
       "train (generic function with 1 method)"
      ]
     },
     "execution_count": 16,
     "metadata": {},
     "output_type": "execute_result"
    }
   ],
   "source": [
    "##########\n",
    "#Fitting Funcs\n",
    "##########\n",
    "\n",
    "function train(indices, lam::Float64, deg::Int, c::Float64, demand_data, flow_data, arcs; fcoeffs=nothing)\n",
    "    numNodes = maximum(map(pair->pair[1], keys(arcs)))\n",
    "    m, coeffs, reg_term = setUpFitting(deg, c)\n",
    "    \n",
    "    addIncreasingCnsts(m, coeffs, arcs, TOL=1e-8)  #uses the original obs flows\n",
    "\n",
    "    avgCost = mean( [bpacost(a.flow, a.capacity, 1.0) for a in values(arcs)] )\n",
    "    normalize(m, coeffs, [a.flow / a.capacity for a in values(arcs)], avgCost)\n",
    "\n",
    "\n",
    "    resids = Variable[]\n",
    "    \n",
    "    for i = indices\n",
    "        #copy the flow data over to the arcs, demand data to demands (slow)\n",
    "        for (ix, a) in enumerate(vArcs)\n",
    "            a.flow = flow_data[ix, i]\n",
    "        end\n",
    "        for odpair in keys(demands)\n",
    "            demands[odpair] = demand_data[odpair][i]\n",
    "        end\n",
    "    \n",
    "        #Dual Feasibility\n",
    "        ys = addNetworkCnsts(m, coeffs, demands, arcs, numNodes)\n",
    "        \n",
    "        #add the residual for this data point\n",
    "        push!(resids, addResid(m, coeffs, ys, demands, arcs, 1e6))\n",
    "    end\n",
    "\n",
    "    if fcoeffs != nothing\n",
    "        fixCoeffs(m, fcoeffs, coeffs)\n",
    "    end\n",
    "    @setObjective(m, Min, sum{resids[i], i = 1:length(resids)} + lam*reg_term)\n",
    "    solve(m)\n",
    "    #println(getObjectiveValue(m) - lam * getValue(reg_term) )\n",
    "    return [getValue(coeffs[i]) for i =1:length(coeffs)]\n",
    "end"
   ]
  },
  {
   "cell_type": "code",
   "execution_count": 17,
   "metadata": {
    "collapsed": false
   },
   "outputs": [],
   "source": [
    "#include(\"trafficCval.jl\")\n",
    "\n",
    "coeffs_dict_Jul_NT = Dict{(Int64,Float64,Float64,Int64),Array{Float64,1}}()\n",
    "\n",
    "deg_grid = [4:8]\n",
    "c_grid = .5:.5:3.\n",
    "lamb_grid = [10. .^(-3:4)]\n",
    "\n",
    "for deg in deg_grid\n",
    "    for c in c_grid\n",
    "        for lam in lamb_grid\n",
    "            coeffs_dict_Jul_NT[(deg, c, lam, 1)] = train(1:numData, lam, deg, c, demand_data, flow_data_1, arcs_1[1])\n",
    "            coeffs_dict_Jul_NT[(deg, c, lam, 2)] = train(1:numData, lam, deg, c, demand_data, flow_data_2, arcs_2[1])\n",
    "            coeffs_dict_Jul_NT[(deg, c, lam, 3)] = train(1:numData, lam, deg, c, demand_data, flow_data_3, arcs_3[1])\n",
    "        end\n",
    "    end\n",
    "end"
   ]
  },
  {
   "cell_type": "code",
   "execution_count": 18,
   "metadata": {
    "collapsed": false
   },
   "outputs": [],
   "source": [
    "outfile = open(\"../temp_files/coeffs_dict_Jul_NT.json\", \"w\")\n",
    "\n",
    "JSON.print(outfile, coeffs_dict_Jul_NT)\n",
    "\n",
    "close(outfile)"
   ]
  },
  {
   "cell_type": "code",
   "execution_count": 19,
   "metadata": {
    "collapsed": false
   },
   "outputs": [
    {
     "data": {
      "text/plain": [
       "Dict{String,Any} with 720 entries:\n",
       "  \"(7,2.5,10000.0,3)\" => {0.17536878292830943,0.42268890259239356,0.437262551470…\n",
       "  \"(5,0.5,100.0,3)\"   => {0.011366164912768062,0.09785487969041587,0.33763801473…\n",
       "  \"(6,1.5,10.0,3)\"    => {0.09869402134627248,0.3367065889513864,0.4793032421343…\n",
       "  \"(6,2.0,0.1,2)\"     => {0.10456417085372065,0.3892511893341691,0.5080277296511…\n",
       "  \"(4,0.5,1000.0,1)\"  => {0.030489743744765187,0.20633228749233617,0.52514433774…\n",
       "  \"(6,2.0,0.01,1)\"    => {0.8416361107661451,-0.5631034220813046,0.1706663646472…\n",
       "  \"(8,1.5,0.01,1)\"    => {0.8414653812301159,-0.24464317944632877,-0.16282611035…\n",
       "  \"(5,1.5,1.0,1)\"     => {0.1635165995996089,0.42291977211516973,0.4805720371470…\n",
       "  \"(8,2.5,0.001,2)\"   => {-1.54616500216471,1.3113794439514044,3.115057392687065…\n",
       "  \"(4,2.0,0.1,1)\"     => {0.45939032937004853,0.3797700783113729,0.3119962974320…\n",
       "  \"(5,1.0,1000.0,2)\"  => {0.06910086124871141,0.29553273461528357,0.506266450625…\n",
       "  \"(4,2.0,0.1,2)\"     => {0.17973029361328802,0.5214770959982843,0.4628383720553…\n",
       "  \"(5,2.0,0.001,1)\"   => {0.8417825948146372,-0.6153724652549165,0.2218937492946…\n",
       "  \"(7,1.5,0.01,3)\"    => {0.14195475998274582,0.46937230257134094,0.574692643354…\n",
       "  \"(4,0.5,0.1,3)\"     => {0.029555996412565767,0.20005454048116314,0.50834847554…\n",
       "  \"(6,2.0,1000.0,3)\"  => {0.16288569452169385,0.42062364566177,0.453234229504527…\n",
       "  \"(6,2.0,0.1,3)\"     => {0.2223971888865554,0.4848497660697713,0.41777559422090…\n",
       "  \"(4,1.5,1.0,1)\"     => {0.2316834100155894,0.5038179801414346,0.42966370974693…\n",
       "  \"(8,2.0,10000.0,1)\" => {0.0923385124050274,0.31224960301153587,0.4636089797981…\n",
       "  \"(7,0.5,0.001,2)\"   => {0.014183336221796742,0.13493407926738712,0.49171080480…\n",
       "  \"(5,1.0,10000.0,2)\" => {0.06909796643770584,0.29552649808544057,0.506265659098…\n",
       "  \"(8,3.0,0.01,1)\"    => {0.8435157621652166,0.010700118601160755,-1.15391519919…\n",
       "  \"(8,2.0,0.01,3)\"    => {-0.06184453965747456,0.4480554052749216,0.940445011509…\n",
       "  \"(5,3.0,100.0,3)\"   => {0.35668029730965445,0.5146833289324444,0.2974672742458…\n",
       "  \"(5,3.0,10000.0,3)\" => {0.3585981930740722,0.5146271686767069,0.29587340501806…\n",
       "  ⋮                    => ⋮"
      ]
     },
     "execution_count": 19,
     "metadata": {},
     "output_type": "execute_result"
    }
   ],
   "source": [
    "coeffs_dict_Jul_NT_ = readall(\"../temp_files/coeffs_dict_Jul_NT.json\")\n",
    "coeffs_dict_Jul_NT_ = JSON.parse(coeffs_dict_Jul_NT_)"
   ]
  },
  {
   "cell_type": "code",
   "execution_count": 20,
   "metadata": {
    "collapsed": false
   },
   "outputs": [
    {
     "data": {
      "text/plain": [
       "9-element Array{Any,1}:\n",
       " 0.00083747\n",
       " 0.0113217 \n",
       " 0.0675315 \n",
       " 0.227441  \n",
       " 0.494725  \n",
       " 0.655292  \n",
       " 0.587796  \n",
       " 0.271438  \n",
       " 0.0627454 "
      ]
     },
     "execution_count": 20,
     "metadata": {},
     "output_type": "execute_result"
    }
   ],
   "source": [
    "coeffs_dict_Jul_NT_[\"(8,0.5,10000.0,1)\"]"
   ]
  },
  {
   "cell_type": "code",
   "execution_count": 22,
   "metadata": {
    "collapsed": false
   },
   "outputs": [
    {
     "data": {
      "image/png": "[encoded data removed]",
      "text/plain": [
       "Figure(PyObject <matplotlib.figure.Figure object at 0x7fe478319690>)"
      ]
     },
     "metadata": {},
     "output_type": "display_data"
    }
   ],
   "source": [
    "using PyPlot\n",
    "\n",
    "fcoeffs = coeffs_dict_Jul_NT_[\"(8,0.5,10.0,3)\"]\n",
    "\n",
    "\n",
    "xs = linspace(0, 1.1, 30)\n",
    "ys = map(x->polyEval(fcoeffs, x), xs)\n",
    "\n",
    "plot(xs, ys, \"o-m\", label=\"Jul_NT\")\n",
    "\n",
    "#legend(loc=\"upper left\",fancybox=\"true\") \n",
    "\n",
    "grid(\"on\")\n",
    "xlim(-0.1, 1.1);\n",
    "ylim(-0.1, 2.5);\n",
    "\n",
    "font1 = [\"family\"=>\"serif\",\n",
    "    \"color\"=>\"darkred\",\n",
    "    \"weight\"=>\"normal\",\n",
    "    \"size\"=>14]\n",
    "xlabel(\"Scaled Flow\", fontdict=font1)\n",
    "\n",
    "savefig(\"../temp_files/fitting_Jul_NT.pdf\")"
   ]
  },
  {
   "cell_type": "code",
   "execution_count": null,
   "metadata": {
    "collapsed": true
   },
   "outputs": [],
   "source": []
  }
 ],
 "metadata": {
  "kernelspec": {
   "display_name": "Julia 0.3.7",
   "language": "julia",
   "name": "julia-0.3"
  },
  "language_info": {
   "file_extension": ".jl",
   "mimetype": "application/julia",
   "name": "julia",
   "version": "0.3.7"
  }
 },
 "nbformat": 4,
 "nbformat_minor": 0
}
