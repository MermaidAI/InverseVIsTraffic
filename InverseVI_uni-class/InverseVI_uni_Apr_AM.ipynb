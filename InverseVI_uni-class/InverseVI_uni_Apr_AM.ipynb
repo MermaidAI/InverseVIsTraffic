{
 "cells": [
  {
   "cell_type": "code",
   "execution_count": 1,
   "metadata": {
    "collapsed": false
   },
   "outputs": [
    {
     "data": {
      "text/plain": [
       "Arc (constructor with 3 methods)"
      ]
     },
     "execution_count": 1,
     "metadata": {},
     "output_type": "execute_result"
    }
   ],
   "source": [
    "#include(\"defArc.jl\")\n",
    "\n",
    "type Arc\n",
    "    initNode::Int \n",
    "    termNode::Int \n",
    "    capacity::Float64\n",
    "    freeflowtime::Float64\n",
    "    flow::Float64\n",
    "end\n",
    "\n",
    "Arc(initNode::Int, termNode::Int, capacity::Float64, freeflowtime::Float64) = \n",
    "    Arc(initNode, termNode, capacity, freeflowtime, 0.)"
   ]
  },
  {
   "cell_type": "code",
   "execution_count": 2,
   "metadata": {
    "collapsed": false
   },
   "outputs": [
    {
     "data": {
      "text/plain": [
       "bpacost (generic function with 3 methods)"
      ]
     },
     "execution_count": 2,
     "metadata": {},
     "output_type": "execute_result"
    }
   ],
   "source": [
    "#include(\"fitTraffic.jl\")\n",
    "\n",
    "## Solve an inverse tarffic problem over polynomials \n",
    "## of degree at most d\n",
    "## optionally use a regularizer from the poly kernel\n",
    "\n",
    "using JuMP\n",
    "using Gurobi\n",
    "using Graphs\n",
    "using Roots\n",
    "\n",
    "\n",
    "polyEval(coeffs, pt) = sum([coeffs[i] * pt^(i-1) for i = 1:length(coeffs)])  \n",
    "\n",
    "polyEval(coeffs::Array{Float64, 1}, pt) = sum([coeffs[i] * pt^(i-1) for i = 1:length(coeffs)]) \n",
    "\n",
    "bpacost(flow::Float64, capacity::Float64, freeflowtime::Float64) = freeflowtime*(1 + .15 * (flow/capacity)^4)\n",
    "bpacost(flow::Float64, arc) = bpacost(flow, arc.capacity, arc.freeflowtime)\n",
    "bpacost(arc::Arc) = bpacost(arc.flow, arc)"
   ]
  },
  {
   "cell_type": "code",
   "execution_count": 3,
   "metadata": {
    "collapsed": false
   },
   "outputs": [
    {
     "data": {
      "text/plain": [
       "setUpFitting (generic function with 1 method)"
      ]
     },
     "execution_count": 3,
     "metadata": {},
     "output_type": "execute_result"
    }
   ],
   "source": [
    "function setUpFitting(deg::Int, c::Float64)\n",
    "\n",
    "\tm = Model(solver=GurobiSolver(OutputFlag=false))\n",
    "    \n",
    "\t@defVar(m, coeffs[1:deg+1])\n",
    "\t@defVar(m, Calphas[1:deg+1])\n",
    "\n",
    "\t#build the graham matrix; cf. Ref. [21] (Regularization Networks and Support Vector Machines), page 47\n",
    "\tsamples = linspace(0, 1, deg + 1)\n",
    "\tk(x,y) = (c + x*y)^deg\n",
    "\tK = [ k(x,y) for x = samples, y=samples]\n",
    "\tK = convert(Array{Float64, 2}, K)\n",
    "\tassert(rank(K) == deg+1)\n",
    "    \n",
    "\tC = chol(K + 1e-6* eye(deg+1))\n",
    "\tfor i=1:deg + 1\n",
    "\t\t@addConstraint(m, polyEval(coeffs, samples[i]) == sum{C[j, i] * Calphas[j], j=1:deg+1})\n",
    "\tend\n",
    "    \n",
    "\t@defVar(m, reg_term >= 0)\n",
    "\treg_term_ = QuadExpr(Calphas[:], Calphas[:], ones(deg+1), AffExpr())\n",
    "    \n",
    "\t@addConstraint(m, reg_term >= reg_term_)\n",
    "    \n",
    "\treturn m, coeffs, reg_term\n",
    "\n",
    "end"
   ]
  },
  {
   "cell_type": "code",
   "execution_count": 4,
   "metadata": {
    "collapsed": false
   },
   "outputs": [
    {
     "data": {
      "text/plain": [
       "fixCoeffs (generic function with 1 method)"
      ]
     },
     "execution_count": 4,
     "metadata": {},
     "output_type": "execute_result"
    }
   ],
   "source": [
    "function fixCoeffs(m, fcoeffs, coeffs)\n",
    "\tfor (fc, c) in zip(fcoeffs, coeffs[:])\n",
    "\t\t@addConstraint(m, fc == c)\n",
    "\tend\n",
    "end"
   ]
  },
  {
   "cell_type": "code",
   "execution_count": 5,
   "metadata": {
    "collapsed": false
   },
   "outputs": [
    {
     "data": {
      "text/plain": [
       "addResid (generic function with 1 method)"
      ]
     },
     "execution_count": 5,
     "metadata": {},
     "output_type": "execute_result"
    }
   ],
   "source": [
    "function addResid(m, coeffs, ys, demands, arcs, scaling)\n",
    "\t@defVar(m, resid)\n",
    "\t@defVar(m, dual_cost)\n",
    "\t@defVar(m, primal_cost)\n",
    "\n",
    "\t@addConstraint(m, dual_cost == sum{demands[(s,t)] * (ys[(s,t), t] - ys[(s,t), s]), (s,t)=keys(demands)})  \n",
    "\t@addConstraint(m, primal_cost == sum{a.flow * a.freeflowtime * polyEval(coeffs, a.flow/a.capacity), a=values(arcs)})\n",
    "\n",
    "\t@addConstraint(m, resid >= (dual_cost - primal_cost) / scaling )\n",
    "\t@addConstraint(m, resid >= (primal_cost - dual_cost) / scaling )\n",
    "\treturn resid\n",
    "end"
   ]
  },
  {
   "cell_type": "code",
   "execution_count": 6,
   "metadata": {
    "collapsed": false
   },
   "outputs": [
    {
     "data": {
      "text/plain": [
       "addIncreasingCnsts (generic function with 1 method)"
      ]
     },
     "execution_count": 6,
     "metadata": {},
     "output_type": "execute_result"
    }
   ],
   "source": [
    "function addIncreasingCnsts(m, coeffs, arcs; TOL=0.)\n",
    "\tsorted_flows = sort([a.flow / a.capacity for a in values(arcs)])\n",
    "\t@addConstraint(m, polyEval(coeffs, 0) <= polyEval(coeffs, sorted_flows[1]))\n",
    "\tfor i = 2:length(sorted_flows)\n",
    "\t\t@addConstraint(m, polyEval(coeffs, sorted_flows[i-1]) <= polyEval(coeffs, sorted_flows[i]) + TOL)\n",
    "\tend\n",
    "end"
   ]
  },
  {
   "cell_type": "code",
   "execution_count": 7,
   "metadata": {
    "collapsed": false
   },
   "outputs": [
    {
     "data": {
      "text/plain": [
       "normalize (generic function with 3 methods)"
      ]
     },
     "execution_count": 7,
     "metadata": {},
     "output_type": "execute_result"
    }
   ],
   "source": [
    "#equates the total cost of the network to the true total cost\n",
    "function normalize(m, coeffs, tot_true_cost::Float64, arcs)\n",
    "\t@addConstraint(m, \n",
    "\t\tsum{a.freeflowtime * a.flow * polyEval(coeffs, a.flow / a.capacity), a=values(arcs)} == tot_true_cost)\n",
    "end\n",
    "\n",
    "function normalize(m, coeffs, scaled_flow::Float64, cost::Float64)\n",
    "\t@addConstraint(m, polyEval(coeffs, scaled_flow) == cost)\n",
    "end\n",
    "\n",
    "function normalize(m, coeffs, scaled_flows::Array{Float64, 1}, avgCost::Float64)\n",
    "    @addConstraint(m, sum{polyEval(coeffs, f), f=scaled_flows} == avgCost * length(scaled_flows))\n",
    "end"
   ]
  },
  {
   "cell_type": "code",
   "execution_count": 8,
   "metadata": {
    "collapsed": false
   },
   "outputs": [
    {
     "data": {
      "text/plain": [
       "addNetworkCnsts (generic function with 1 method)"
      ]
     },
     "execution_count": 8,
     "metadata": {},
     "output_type": "execute_result"
    }
   ],
   "source": [
    "function addNetworkCnsts(m, coeffs, demands, arcs, numNodes)\n",
    "\t@defVar(m, ys[keys(demands), 1:numNodes])\n",
    "\tfor k = keys(arcs)\n",
    "\t\ta = arcs[k]\n",
    "\t\trhs = a.freeflowtime * polyEval(coeffs, a.flow/a.capacity)\n",
    "\t\tfor od in keys(demands)\n",
    "\t\t\t@addConstraint(m, ys[od, k[2]] - ys[od, k[1]] <= rhs)\n",
    "\t\tend\n",
    "\tend\n",
    "\treturn ys\n",
    "end"
   ]
  },
  {
   "cell_type": "code",
   "execution_count": 9,
   "metadata": {
    "collapsed": false
   },
   "outputs": [],
   "source": [
    "############\n",
    "#Read in demand data\n",
    "file = open(\"../temp_files/OD_demand_matrix_Apr_weekday_AM.txt\")\n",
    "demands = Dict{(Int64,Int64), Float64}()\n",
    "n = 8  # number of nodes\n",
    "for i in [1:n]\n",
    "    demands[(i,i)] = 0.0\n",
    "end\n",
    "for line in eachline(file)\n",
    "    OD_demand = split(line, \",\")\n",
    "    key, value = (int(OD_demand[1]),int(OD_demand[2])), float(split(OD_demand[3], \"\\n\")[1])\n",
    "    demands[key] = value\n",
    "end\n",
    "close(file)"
   ]
  },
  {
   "cell_type": "code",
   "execution_count": 10,
   "metadata": {
    "collapsed": false
   },
   "outputs": [
    {
     "data": {
      "text/plain": [
       "Dict{(Int64,Int64),Float64} with 64 entries:\n",
       "  (3,6) => 588.58713\n",
       "  (4,4) => 0.0\n",
       "  (3,1) => 649.859954\n",
       "  (4,5) => 1.338458\n",
       "  (2,4) => 1378.186603\n",
       "  (6,5) => 0.216527\n",
       "  (8,4) => 1170.953116\n",
       "  (1,2) => 0.0\n",
       "  (5,1) => 1.0e-6\n",
       "  (3,4) => 159.25956\n",
       "  (8,2) => 1043.178191\n",
       "  (2,3) => 0.0\n",
       "  (2,6) => 0.0\n",
       "  (5,4) => 0.043479\n",
       "  (2,1) => 912.102904\n",
       "  (2,5) => 0.0\n",
       "  (8,5) => 0.025453\n",
       "  (1,4) => 0.0\n",
       "  (2,8) => 0.0\n",
       "  (5,8) => 1036.758869\n",
       "  (4,8) => 1102.056217\n",
       "  (7,8) => 4.663232\n",
       "  (1,1) => 0.0\n",
       "  (7,7) => 0.0\n",
       "  (5,7) => 0.756481\n",
       "  ⋮     => ⋮"
      ]
     },
     "execution_count": 10,
     "metadata": {},
     "output_type": "execute_result"
    }
   ],
   "source": [
    "demands"
   ]
  },
  {
   "cell_type": "code",
   "execution_count": 11,
   "metadata": {
    "collapsed": false
   },
   "outputs": [],
   "source": [
    "using JSON\n",
    "\n",
    "link_day_minute_Apr_dict = readall(\"../temp_files/link_day_minute_Apr_dict_JSON.json\");\n",
    "link_day_minute_Apr_dict = replace(link_day_minute_Apr_dict, \"NaN\", 0);\n",
    "\n",
    "link_day_minute_Apr_dict = JSON.parse(link_day_minute_Apr_dict);"
   ]
  },
  {
   "cell_type": "code",
   "execution_count": 12,
   "metadata": {
    "collapsed": false
   },
   "outputs": [],
   "source": [
    "# week_day_Apr_list = [2, 3, 4, 5, 6, 9, 10, 11, 12, 13, 16, 17, 18, 19, 20, 23, 24, 25, 26, 27, 30]\n",
    "\n",
    "# training set 1\n",
    "week_day_Apr_list_1 = [2, 3, 4, 5, 6, 9, 10, 11, 12, 13, 16, 17, 18, 19]\n",
    "\n",
    "# training set 2\n",
    "week_day_Apr_list_2 = [2, 3, 4, 5, 6, 9, 10, 20, 23, 24, 25, 26, 27, 30]\n",
    "\n",
    "# training set 3\n",
    "week_day_Apr_list_3 = [11, 12, 13, 16, 17, 18, 19, 20, 23, 24, 25, 26, 27, 30]\n",
    "\n",
    "arcs_1 = Dict{(Int, Int), Arc}[]\n",
    "for j in week_day_Apr_list_1\n",
    "    arcs_1_ = Dict{(Int, Int), Arc}()\n",
    "    for i = 0:23\n",
    "        key = \"link_$(i)_$(j)\"\n",
    "        initNode = link_day_minute_Apr_dict[key][\"init_node\"]\n",
    "        termNode = link_day_minute_Apr_dict[key][\"term_node\"]\n",
    "        capacity = link_day_minute_Apr_dict[key][\"AM_capac\"]\n",
    "        freeflowtime = link_day_minute_Apr_dict[key][\"free_flow_time\"]\n",
    "        flow = link_day_minute_Apr_dict[key][\"AM_flow\"]\n",
    "        arcs_1_[(initNode, termNode)] = Arc(initNode, termNode, capacity, freeflowtime, flow)\n",
    "    end\n",
    "    push!(arcs_1, arcs_1_)\n",
    "end\n",
    "\n",
    "arcs_2 = Dict{(Int, Int), Arc}[]\n",
    "for j in week_day_Apr_list_2\n",
    "    arcs_2_ = Dict{(Int, Int), Arc}()\n",
    "    for i = 0:23\n",
    "        key = \"link_$(i)_$(j)\"\n",
    "        initNode = link_day_minute_Apr_dict[key][\"init_node\"]\n",
    "        termNode = link_day_minute_Apr_dict[key][\"term_node\"]\n",
    "        capacity = link_day_minute_Apr_dict[key][\"AM_capac\"]\n",
    "        freeflowtime = link_day_minute_Apr_dict[key][\"free_flow_time\"]\n",
    "        flow = link_day_minute_Apr_dict[key][\"AM_flow\"]\n",
    "        arcs_2_[(initNode, termNode)] = Arc(initNode, termNode, capacity, freeflowtime, flow)\n",
    "    end\n",
    "    push!(arcs_2, arcs_2_)\n",
    "end\n",
    "\n",
    "arcs_3 = Dict{(Int, Int), Arc}[]\n",
    "for j in week_day_Apr_list_3\n",
    "    arcs_3_ = Dict{(Int, Int), Arc}()\n",
    "    for i = 0:23\n",
    "        key = \"link_$(i)_$(j)\"\n",
    "        initNode = link_day_minute_Apr_dict[key][\"init_node\"]\n",
    "        termNode = link_day_minute_Apr_dict[key][\"term_node\"]\n",
    "        capacity = link_day_minute_Apr_dict[key][\"AM_capac\"]\n",
    "        freeflowtime = link_day_minute_Apr_dict[key][\"free_flow_time\"]\n",
    "        flow = link_day_minute_Apr_dict[key][\"AM_flow\"]\n",
    "        arcs_3_[(initNode, termNode)] = Arc(initNode, termNode, capacity, freeflowtime, flow)\n",
    "    end\n",
    "    push!(arcs_3, arcs_3_)\n",
    "end"
   ]
  },
  {
   "cell_type": "code",
   "execution_count": 13,
   "metadata": {
    "collapsed": false
   },
   "outputs": [],
   "source": [
    "##########\n",
    "# Set up demand data and flow data\n",
    "##########\n",
    "numData = length(arcs_1); \n",
    "sigma = .0\n",
    "\n",
    "flow_data_1 = Array(Float64, length(arcs_1[1]), numData)\n",
    "\n",
    "demand_data = Dict{(Int, Int), Array{Float64, 1}}()\n",
    "\n",
    "numNodes = maximum(map(pair->pair[1], keys(demands)))\n",
    "g = simple_inclist(numNodes, is_directed=true)\n",
    "vArcs = Arc[]\n",
    "for arc in values(arcs_1[1])\n",
    "    add_edge!(g, arc.initNode, arc.termNode) \n",
    "    push!(vArcs, arc)\n",
    "end\n",
    "\n",
    "\n",
    "for iRun = 1:numData\n",
    "    for odpair in keys(demands)\n",
    "        if ! haskey(demand_data, odpair)\n",
    "            demand_data[odpair] = [demands[odpair], ]\n",
    "        else\n",
    "            push!(demand_data[odpair], demands[odpair])\n",
    "        end\n",
    "    end\n",
    "\n",
    "    #flow_data[:, iRun] = [a.flow::Float64 for a in vArcs]\n",
    "    flow_data_1[:, iRun] = [a.flow::Float64 for a in values(arcs_1[iRun])]\n",
    "end"
   ]
  },
  {
   "cell_type": "code",
   "execution_count": 13,
   "metadata": {
    "collapsed": true
   },
   "outputs": [],
   "source": [
    "##########\n",
    "# Set up demand data and flow data\n",
    "##########\n",
    "numData = length(arcs_2); \n",
    "sigma = .0\n",
    "\n",
    "flow_data_2 = Array(Float64, length(arcs_2[1]), numData)\n",
    "\n",
    "demand_data = Dict{(Int, Int), Array{Float64, 1}}()\n",
    "\n",
    "numNodes = maximum(map(pair->pair[1], keys(demands)))\n",
    "g = simple_inclist(numNodes, is_directed=true)\n",
    "vArcs = Arc[]\n",
    "for arc in values(arcs_2[1])\n",
    "    add_edge!(g, arc.initNode, arc.termNode) \n",
    "    push!(vArcs, arc)\n",
    "end\n",
    "\n",
    "\n",
    "for iRun = 1:numData\n",
    "    for odpair in keys(demands)\n",
    "        if ! haskey(demand_data, odpair)\n",
    "            demand_data[odpair] = [demands[odpair], ]\n",
    "        else\n",
    "            push!(demand_data[odpair], demands[odpair])\n",
    "        end\n",
    "    end\n",
    "\n",
    "    #flow_data[:, iRun] = [a.flow::Float64 for a in vArcs]\n",
    "    flow_data_2[:, iRun] = [a.flow::Float64 for a in values(arcs_2[iRun])]\n",
    "end"
   ]
  },
  {
   "cell_type": "code",
   "execution_count": 15,
   "metadata": {
    "collapsed": true
   },
   "outputs": [],
   "source": [
    "##########\n",
    "# Set up demand data and flow data\n",
    "##########\n",
    "numData = length(arcs_3); \n",
    "sigma = .0\n",
    "\n",
    "flow_data_3 = Array(Float64, length(arcs_3[1]), numData)\n",
    "\n",
    "demand_data = Dict{(Int, Int), Array{Float64, 1}}()\n",
    "\n",
    "numNodes = maximum(map(pair->pair[1], keys(demands)))\n",
    "g = simple_inclist(numNodes, is_directed=true)\n",
    "vArcs = Arc[]\n",
    "for arc in values(arcs_3[1])\n",
    "    add_edge!(g, arc.initNode, arc.termNode) \n",
    "    push!(vArcs, arc)\n",
    "end\n",
    "\n",
    "\n",
    "for iRun = 1:numData\n",
    "    for odpair in keys(demands)\n",
    "        if ! haskey(demand_data, odpair)\n",
    "            demand_data[odpair] = [demands[odpair], ]\n",
    "        else\n",
    "            push!(demand_data[odpair], demands[odpair])\n",
    "        end\n",
    "    end\n",
    "\n",
    "    #flow_data[:, iRun] = [a.flow::Float64 for a in vArcs]\n",
    "    flow_data_3[:, iRun] = [a.flow::Float64 for a in values(arcs_3[iRun])]\n",
    "end"
   ]
  },
  {
   "cell_type": "code",
   "execution_count": 14,
   "metadata": {
    "collapsed": false
   },
   "outputs": [
    {
     "data": {
      "text/plain": [
       "Dict{(Int64,Int64),Array{Float64,1}} with 64 entries:\n",
       "  (3,6) => [588.58713,588.58713,588.58713,588.58713,588.58713,588.58713,588.587…\n",
       "  (4,4) => [0.0,0.0,0.0,0.0,0.0,0.0,0.0,0.0,0.0,0.0,0.0,0.0,0.0,0.0]\n",
       "  (3,1) => [649.859954,649.859954,649.859954,649.859954,649.859954,649.859954,6…\n",
       "  (4,5) => [1.338458,1.338458,1.338458,1.338458,1.338458,1.338458,1.338458,1.33…\n",
       "  (2,4) => [1378.186603,1378.186603,1378.186603,1378.186603,1378.186603,1378.18…\n",
       "  (6,5) => [0.216527,0.216527,0.216527,0.216527,0.216527,0.216527,0.216527,0.21…\n",
       "  (8,4) => [1170.953116,1170.953116,1170.953116,1170.953116,1170.953116,1170.95…\n",
       "  (1,2) => [0.0,0.0,0.0,0.0,0.0,0.0,0.0,0.0,0.0,0.0,0.0,0.0,0.0,0.0]\n",
       "  (5,1) => [1.0e-6,1.0e-6,1.0e-6,1.0e-6,1.0e-6,1.0e-6,1.0e-6,1.0e-6,1.0e-6,1.0e…\n",
       "  (3,4) => [159.25956,159.25956,159.25956,159.25956,159.25956,159.25956,159.259…\n",
       "  (8,2) => [1043.178191,1043.178191,1043.178191,1043.178191,1043.178191,1043.17…\n",
       "  (2,3) => [0.0,0.0,0.0,0.0,0.0,0.0,0.0,0.0,0.0,0.0,0.0,0.0,0.0,0.0]\n",
       "  (2,6) => [0.0,0.0,0.0,0.0,0.0,0.0,0.0,0.0,0.0,0.0,0.0,0.0,0.0,0.0]\n",
       "  (5,4) => [0.043479,0.043479,0.043479,0.043479,0.043479,0.043479,0.043479,0.04…\n",
       "  (2,1) => [912.102904,912.102904,912.102904,912.102904,912.102904,912.102904,9…\n",
       "  (2,5) => [0.0,0.0,0.0,0.0,0.0,0.0,0.0,0.0,0.0,0.0,0.0,0.0,0.0,0.0]\n",
       "  (8,5) => [0.025453,0.025453,0.025453,0.025453,0.025453,0.025453,0.025453,0.02…\n",
       "  (1,4) => [0.0,0.0,0.0,0.0,0.0,0.0,0.0,0.0,0.0,0.0,0.0,0.0,0.0,0.0]\n",
       "  (2,8) => [0.0,0.0,0.0,0.0,0.0,0.0,0.0,0.0,0.0,0.0,0.0,0.0,0.0,0.0]\n",
       "  (5,8) => [1036.758869,1036.758869,1036.758869,1036.758869,1036.758869,1036.75…\n",
       "  (4,8) => [1102.056217,1102.056217,1102.056217,1102.056217,1102.056217,1102.05…\n",
       "  (7,8) => [4.663232,4.663232,4.663232,4.663232,4.663232,4.663232,4.663232,4.66…\n",
       "  (1,1) => [0.0,0.0,0.0,0.0,0.0,0.0,0.0,0.0,0.0,0.0,0.0,0.0,0.0,0.0]\n",
       "  (7,7) => [0.0,0.0,0.0,0.0,0.0,0.0,0.0,0.0,0.0,0.0,0.0,0.0,0.0,0.0]\n",
       "  (5,7) => [0.756481,0.756481,0.756481,0.756481,0.756481,0.756481,0.756481,0.75…\n",
       "  ⋮     => ⋮"
      ]
     },
     "execution_count": 14,
     "metadata": {},
     "output_type": "execute_result"
    }
   ],
   "source": [
    "demand_data"
   ]
  },
  {
   "cell_type": "code",
   "execution_count": 18,
   "metadata": {
    "collapsed": false
   },
   "outputs": [
    {
     "data": {
      "text/plain": [
       "24x14 Array{Float64,2}:\n",
       " 1564.48  1529.95   1530.7   1406.36  1480.45  …  1421.8    1404.16  1460.25 \n",
       " 1526.28  1572.08   1584.68  1526.3   1544.48     1508.15   1528.91  1534.56 \n",
       " 1215.37  1304.57   1281.36  1346.86  1247.56     1203.15   1336.05  1281.43 \n",
       " 1337.33  1362.9    1362.77  1376.69  1328.4      1319.07   1325.78  1297.65 \n",
       " 1297.01  1271.38   1238.97  1190.3   1282.53     1239.03   1252.34  1244.21 \n",
       " 1081.3    967.493  1161.36  1380.0   1095.68  …   914.437  1023.76   953.911\n",
       " 1442.48  1436.49   1588.68  1533.35  1203.33      914.282  1474.14  1268.65 \n",
       " 1524.69  1554.79   1567.03  1528.52  1501.38     1476.1    1492.62  1480.59 \n",
       " 1247.62  1375.83   1293.79  1293.75  1328.7      1293.71   1167.36  1130.77 \n",
       " 1284.57  1360.83   1305.23  1308.8   1247.65     1296.45   1258.47  1264.2  \n",
       " 1620.25  1618.87   1617.23  1578.78  1582.13  …  1590.8    1564.78  1555.71 \n",
       " 1239.25  1277.55   1291.51  1248.46  1246.3      1254.48   1245.57  1215.81 \n",
       " 1761.44  1776.07   1619.91  1574.99  1762.86     1595.38   1573.25  1794.09 \n",
       " 1541.9   1564.35   1555.58  1473.02  1536.05     1523.01   1507.43  1443.43 \n",
       " 1300.93  1350.53   1355.33  1332.13  1306.68     1304.31   1272.56  1326.65 \n",
       " 1287.3   1265.17   1317.82  1264.09  1260.38  …  1255.41   1232.87  1247.85 \n",
       " 1085.16  1056.02   1100.28   985.62  1007.16     1082.35    999.92  1039.52 \n",
       " 1158.0   1195.64   1319.05  1655.52  1247.61     1093.91   1231.64  1087.81 \n",
       " 1255.64  1268.69   1288.22  1279.42  1253.91     1219.69   1235.47  1222.14 \n",
       " 1244.17  1262.93   1259.92  1231.13  1229.84     1227.64   1221.37  1216.02 \n",
       " 1816.87  1748.37   1866.23  1779.41  1711.63  …  1605.4    1725.19  1626.03 \n",
       " 1301.97  1338.37   1321.87  1289.82  1294.4      1291.02   1265.45  1343.52 \n",
       " 1740.01  1798.85   1791.84  1697.32  1763.52     1797.85   1748.15  1728.11 \n",
       " 1672.11  1713.3    1722.43  1682.38  1418.4      1577.07   1744.13  1558.07 "
      ]
     },
     "execution_count": 18,
     "metadata": {},
     "output_type": "execute_result"
    }
   ],
   "source": [
    "flow_data_3"
   ]
  },
  {
   "cell_type": "code",
   "execution_count": 19,
   "metadata": {
    "collapsed": false
   },
   "outputs": [
    {
     "data": {
      "text/plain": [
       "Dict{(Int64,Int64),Array{Float64,1}} with 64 entries:\n",
       "  (3,6) => [588.58713,588.58713,588.58713,588.58713,588.58713,588.58713,588.587…\n",
       "  (4,4) => [0.0,0.0,0.0,0.0,0.0,0.0,0.0,0.0,0.0,0.0,0.0,0.0,0.0,0.0]\n",
       "  (3,1) => [649.859954,649.859954,649.859954,649.859954,649.859954,649.859954,6…\n",
       "  (4,5) => [1.338458,1.338458,1.338458,1.338458,1.338458,1.338458,1.338458,1.33…\n",
       "  (2,4) => [1378.186603,1378.186603,1378.186603,1378.186603,1378.186603,1378.18…\n",
       "  (6,5) => [0.216527,0.216527,0.216527,0.216527,0.216527,0.216527,0.216527,0.21…\n",
       "  (8,4) => [1170.953116,1170.953116,1170.953116,1170.953116,1170.953116,1170.95…\n",
       "  (1,2) => [0.0,0.0,0.0,0.0,0.0,0.0,0.0,0.0,0.0,0.0,0.0,0.0,0.0,0.0]\n",
       "  (5,1) => [1.0e-6,1.0e-6,1.0e-6,1.0e-6,1.0e-6,1.0e-6,1.0e-6,1.0e-6,1.0e-6,1.0e…\n",
       "  (3,4) => [159.25956,159.25956,159.25956,159.25956,159.25956,159.25956,159.259…\n",
       "  (8,2) => [1043.178191,1043.178191,1043.178191,1043.178191,1043.178191,1043.17…\n",
       "  (2,3) => [0.0,0.0,0.0,0.0,0.0,0.0,0.0,0.0,0.0,0.0,0.0,0.0,0.0,0.0]\n",
       "  (2,6) => [0.0,0.0,0.0,0.0,0.0,0.0,0.0,0.0,0.0,0.0,0.0,0.0,0.0,0.0]\n",
       "  (5,4) => [0.043479,0.043479,0.043479,0.043479,0.043479,0.043479,0.043479,0.04…\n",
       "  (2,1) => [912.102904,912.102904,912.102904,912.102904,912.102904,912.102904,9…\n",
       "  (2,5) => [0.0,0.0,0.0,0.0,0.0,0.0,0.0,0.0,0.0,0.0,0.0,0.0,0.0,0.0]\n",
       "  (8,5) => [0.025453,0.025453,0.025453,0.025453,0.025453,0.025453,0.025453,0.02…\n",
       "  (1,4) => [0.0,0.0,0.0,0.0,0.0,0.0,0.0,0.0,0.0,0.0,0.0,0.0,0.0,0.0]\n",
       "  (2,8) => [0.0,0.0,0.0,0.0,0.0,0.0,0.0,0.0,0.0,0.0,0.0,0.0,0.0,0.0]\n",
       "  (5,8) => [1036.758869,1036.758869,1036.758869,1036.758869,1036.758869,1036.75…\n",
       "  (4,8) => [1102.056217,1102.056217,1102.056217,1102.056217,1102.056217,1102.05…\n",
       "  (7,8) => [4.663232,4.663232,4.663232,4.663232,4.663232,4.663232,4.663232,4.66…\n",
       "  (1,1) => [0.0,0.0,0.0,0.0,0.0,0.0,0.0,0.0,0.0,0.0,0.0,0.0,0.0,0.0]\n",
       "  (7,7) => [0.0,0.0,0.0,0.0,0.0,0.0,0.0,0.0,0.0,0.0,0.0,0.0,0.0,0.0]\n",
       "  (5,7) => [0.756481,0.756481,0.756481,0.756481,0.756481,0.756481,0.756481,0.75…\n",
       "  ⋮     => ⋮"
      ]
     },
     "execution_count": 19,
     "metadata": {},
     "output_type": "execute_result"
    }
   ],
   "source": [
    "demand_data"
   ]
  },
  {
   "cell_type": "code",
   "execution_count": 20,
   "metadata": {
    "collapsed": false
   },
   "outputs": [
    {
     "data": {
      "text/plain": [
       "train (generic function with 1 method)"
      ]
     },
     "execution_count": 20,
     "metadata": {},
     "output_type": "execute_result"
    }
   ],
   "source": [
    "##########\n",
    "#Fitting Funcs\n",
    "##########\n",
    "\n",
    "function train(indices, lam::Float64, deg::Int, c::Float64, demand_data, flow_data, arcs; fcoeffs=nothing)\n",
    "    numNodes = maximum(map(pair->pair[1], keys(arcs)))\n",
    "    m, coeffs, reg_term = setUpFitting(deg, c)\n",
    "    \n",
    "    addIncreasingCnsts(m, coeffs, arcs, TOL=1e-8)  #uses the original obs flows\n",
    "\n",
    "    avgCost = mean( [bpacost(a.flow, a.capacity, 1.0) for a in values(arcs)] )\n",
    "    normalize(m, coeffs, [a.flow / a.capacity for a in values(arcs)], avgCost)\n",
    "\n",
    "\n",
    "    resids = Variable[]\n",
    "    \n",
    "    for i = indices\n",
    "        #copy the flow data over to the arcs, demand data to demands (slow)\n",
    "        for (ix, a) in enumerate(vArcs)\n",
    "            a.flow = flow_data[ix, i]\n",
    "        end\n",
    "        for odpair in keys(demands)\n",
    "            demands[odpair] = demand_data[odpair][i]\n",
    "        end\n",
    "    \n",
    "        #Dual Feasibility\n",
    "        ys = addNetworkCnsts(m, coeffs, demands, arcs, numNodes)\n",
    "        \n",
    "        #add the residual for this data point\n",
    "        push!(resids, addResid(m, coeffs, ys, demands, arcs, 1e6))\n",
    "    end\n",
    "\n",
    "    if fcoeffs != nothing\n",
    "        fixCoeffs(m, fcoeffs, coeffs)\n",
    "    end\n",
    "    @setObjective(m, Min, sum{resids[i], i = 1:length(resids)} + lam*reg_term)\n",
    "    solve(m)\n",
    "    #println(getObjectiveValue(m) - lam * getValue(reg_term) )\n",
    "    return [getValue(coeffs[i]) for i =1:length(coeffs)]\n",
    "end"
   ]
  },
  {
   "cell_type": "code",
   "execution_count": 22,
   "metadata": {
    "collapsed": false
   },
   "outputs": [],
   "source": [
    "#include(\"trafficCval.jl\")\n",
    "\n",
    "coeffs_dict_Apr_AM = Dict{(Int64,Float64,Float64,Int64),Array{Float64,1}}()\n",
    "\n",
    "deg_grid = [3:7]\n",
    "c_grid = 1.:.5:3.\n",
    "lamb_grid = [10. .^(-5:3)]\n",
    "\n",
    "for deg in deg_grid\n",
    "    for c in c_grid\n",
    "        for lam in lamb_grid\n",
    "            coeffs_dict_Apr_AM[(deg, c, lam, 1)] = train(1:numData, lam, deg, c, demand_data, flow_data_1, arcs_1[1])\n",
    "            coeffs_dict_Apr_AM[(deg, c, lam, 2)] = train(1:numData, lam, deg, c, demand_data, flow_data_2, arcs_2[1])\n",
    "            coeffs_dict_Apr_AM[(deg, c, lam, 3)] = train(1:numData, lam, deg, c, demand_data, flow_data_3, arcs_3[1])\n",
    "        end\n",
    "    end\n",
    "end"
   ]
  },
  {
   "cell_type": "code",
   "execution_count": 23,
   "metadata": {
    "collapsed": false
   },
   "outputs": [],
   "source": [
    "outfile = open(\"../temp_files/coeffs_dict_Apr_AM.json\", \"w\")\n",
    "\n",
    "JSON.print(outfile, coeffs_dict_Apr_AM)\n",
    "\n",
    "close(outfile)"
   ]
  },
  {
   "cell_type": "code",
   "execution_count": 24,
   "metadata": {
    "collapsed": false
   },
   "outputs": [
    {
     "data": {
      "text/plain": [
       "Dict{String,Any} with 675 entries:\n",
       "  \"(7,2.0,0.1,3)\"    => {0.5824044306385704,0.5665047157698211,0.272196129173485…\n",
       "  \"(5,1.0,0.1,1)\"    => {0.08236513383587758,0.31937445807203446,0.5067722577722…\n",
       "  \"(6,1.0,1.0,1)\"    => {0.041533142113572466,0.2079082677771045,0.4385868101667…\n",
       "  \"(3,3.0,0.1,1)\"    => {0.5433813244306891,0.49759977983360343,0.14679733752493…\n",
       "  \"(6,2.0,1.0,3)\"    => {0.2579344231949968,0.49235827888352474,0.41468556341692…\n",
       "  \"(7,2.0,0.01,3)\"   => {0.8115031668947593,0.26745855635579047,0.16284798894227…\n",
       "  \"(6,2.0,1000.0,2)\" => {0.16788884404476237,0.4274573556000276,0.45730540136003…\n",
       "  \"(3,1.5,0.0001,1)\" => {0.18538771905481596,1.1782504666136195,0.09074126968589…\n",
       "  \"(6,2.5,0.0001,3)\" => {1.0627879620309155,0.29666887880359016,-1.1696517160567…\n",
       "  \"(6,1.0,0.001,1)\"  => {0.27139331099821584,0.7243221830024915,0.61539048912756…\n",
       "  \"(6,1.0,0.0001,1)\" => {0.27459342002631887,0.7117918648933252,0.62953954227347…\n",
       "  \"(4,3.0,0.0001,3)\" => {1.070969112359602,0.005161168856181561,-0.0219350557307…\n",
       "  \"(3,1.5,10.0,2)\"   => {0.3316256902960867,0.5628489024901969,0.321139351644536…\n",
       "  \"(6,1.5,0.01,3)\"   => {0.5679962635333061,0.594270729389832,0.2803291060121047…\n",
       "  \"(6,1.5,10.0,3)\"   => {0.11526335352763936,0.37386752693289765,0.5118862843250…\n",
       "  \"(6,2.0,10.0,1)\"   => {0.17348509351349342,0.43122620663006916,0.4531210360230…\n",
       "  \"(6,2.0,0.1,2)\"    => {0.387547855493763,0.6252295006959651,0.3112202125703861…\n",
       "  \"(6,2.0,0.01,1)\"   => {0.23762443345551656,0.8365016690408474,0.57295587683245…\n",
       "  \"(7,1.5,10.0,3)\"   => {0.08099201974502253,0.30212979067254003,0.4914590354566…\n",
       "  \"(5,1.5,1.0,3)\"    => {0.17462799007193533,0.4579456576615643,0.49150574417879…\n",
       "  \"(5,1.5,1.0,1)\"    => {0.15620260661921173,0.42849036152204223,0.4775506504935…\n",
       "  \"(6,1.0,1000.0,1)\" => {0.040036415982016134,0.20393932959674402,0.436429230577…\n",
       "  \"(7,2.0,1.0e-5,3)\" => {0.9533261232288787,4.422317288071515,-17.71516965276933…\n",
       "  \"(5,2.0,1.0,3)\"    => {0.27797389241304576,0.514864716760812,0.39671979130055,…\n",
       "  \"(5,3.0,0.001,3)\"  => {1.0707809556135803,0.008389067032514396,-0.034002364495…\n",
       "  ⋮                   => ⋮"
      ]
     },
     "execution_count": 24,
     "metadata": {},
     "output_type": "execute_result"
    }
   ],
   "source": [
    "coeffs_dict_Apr_AM_ = readall(\"../temp_files/coeffs_dict_Apr_AM.json\")\n",
    "coeffs_dict_Apr_AM_ = JSON.parse(coeffs_dict_Apr_AM_)"
   ]
  },
  {
   "cell_type": "code",
   "execution_count": 25,
   "metadata": {
    "collapsed": false
   },
   "outputs": [
    {
     "data": {
      "text/plain": [
       "6-element Array{Any,1}:\n",
       " 0.0823651\n",
       " 0.319374 \n",
       " 0.506772 \n",
       " 0.408833 \n",
       " 0.166972 \n",
       " 0.0274709"
      ]
     },
     "execution_count": 25,
     "metadata": {},
     "output_type": "execute_result"
    }
   ],
   "source": [
    "coeffs_dict_Apr_AM_[\"(5,1.0,0.1,1)\"]"
   ]
  },
  {
   "cell_type": "code",
   "execution_count": 26,
   "metadata": {
    "collapsed": false
   },
   "outputs": [
    {
     "name": "stderr",
     "output_type": "stream",
     "text": [
      "INFO: Loading help data...\n"
     ]
    },
    {
     "data": {
      "image/png": "[encoded data removed]",
      "text/plain": [
       "Figure(PyObject <matplotlib.figure.Figure object at 0x7f17a16ae710>)"
      ]
     },
     "metadata": {},
     "output_type": "display_data"
    }
   ],
   "source": [
    "using PyPlot\n",
    "\n",
    "fcoeffs = coeffs_dict_Apr_AM_[\"(5,1.0,0.1,1)\"]\n",
    "\n",
    "\n",
    "xs = linspace(0, 1.1, 20)\n",
    "ys = map(x->polyEval(fcoeffs, x), xs)\n",
    "\n",
    "plot(xs, ys, \"^-c\", label=\"deg=3\")\n",
    "\n",
    "#legend(loc=\"upper left\",fancybox=\"true\") \n",
    "\n",
    "grid(\"on\")\n",
    "xlim(-0.1, 1.1);\n",
    "ylim(0.0, 2.5);\n",
    "\n",
    "font1 = [\"family\"=>\"serif\",\n",
    "    \"color\"=>\"darkred\",\n",
    "    \"weight\"=>\"normal\",\n",
    "    \"size\"=>14]\n",
    "xlabel(\"Scaled Flow\", fontdict=font1)\n",
    "\n",
    "savefig(\"../temp_files/fitting_Apr_AM.pdf\")"
   ]
  },
  {
   "cell_type": "code",
   "execution_count": null,
   "metadata": {
    "collapsed": true
   },
   "outputs": [],
   "source": []
  }
 ],
 "metadata": {
  "kernelspec": {
   "display_name": "Julia 0.3.7",
   "language": "julia",
   "name": "julia-0.3"
  },
  "language_info": {
   "file_extension": ".jl",
   "mimetype": "application/julia",
   "name": "julia",
   "version": "0.3.7"
  }
 },
 "nbformat": 4,
 "nbformat_minor": 0
}
