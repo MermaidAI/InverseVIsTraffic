{
 "cells": [
  {
   "cell_type": "code",
   "execution_count": 1,
   "metadata": {
    "collapsed": false
   },
   "outputs": [
    {
     "data": {
      "text/plain": [
       "Arc (constructor with 3 methods)"
      ]
     },
     "execution_count": 1,
     "metadata": {},
     "output_type": "execute_result"
    }
   ],
   "source": [
    "#include(\"defArc.jl\")\n",
    "\n",
    "type Arc\n",
    "    initNode::Int \n",
    "    termNode::Int \n",
    "    capacity::Float64\n",
    "    freeflowtime::Float64\n",
    "    flow::Float64\n",
    "end\n",
    "\n",
    "Arc(initNode::Int, termNode::Int, capacity::Float64, freeflowtime::Float64) = \n",
    "    Arc(initNode, termNode, capacity, freeflowtime, 0.)"
   ]
  },
  {
   "cell_type": "code",
   "execution_count": 2,
   "metadata": {
    "collapsed": false
   },
   "outputs": [
    {
     "data": {
      "text/plain": [
       "bpacost (generic function with 3 methods)"
      ]
     },
     "execution_count": 2,
     "metadata": {},
     "output_type": "execute_result"
    }
   ],
   "source": [
    "#include(\"fitTraffic.jl\")\n",
    "\n",
    "## Solve an inverse tarffic problem over polynomials \n",
    "## of degree at most d\n",
    "## optionally use a regularizer from the poly kernel\n",
    "\n",
    "using JuMP\n",
    "using Gurobi\n",
    "using Graphs\n",
    "using Roots\n",
    "\n",
    "\n",
    "polyEval(coeffs, pt) = sum([coeffs[i] * pt^(i-1) for i = 1:length(coeffs)])  \n",
    "\n",
    "polyEval(coeffs::Array{Float64, 1}, pt) = sum([coeffs[i] * pt^(i-1) for i = 1:length(coeffs)]) \n",
    "\n",
    "bpacost(flow::Float64, capacity::Float64, freeflowtime::Float64) = freeflowtime*(1 + .15 * (flow/capacity)^4)\n",
    "bpacost(flow::Float64, arc) = bpacost(flow, arc.capacity, arc.freeflowtime)\n",
    "bpacost(arc::Arc) = bpacost(arc.flow, arc)"
   ]
  },
  {
   "cell_type": "code",
   "execution_count": 3,
   "metadata": {
    "collapsed": false
   },
   "outputs": [
    {
     "data": {
      "text/plain": [
       "setUpFitting (generic function with 1 method)"
      ]
     },
     "execution_count": 3,
     "metadata": {},
     "output_type": "execute_result"
    }
   ],
   "source": [
    "function setUpFitting(deg::Int, c::Float64)\n",
    "\n",
    "\tm = Model(solver=GurobiSolver(OutputFlag=false))\n",
    "    \n",
    "\t@defVar(m, coeffs[1:deg+1])\n",
    "\t@defVar(m, Calphas[1:deg+1])\n",
    "\n",
    "\t#build the graham matrix; cf. Ref. [21] (Regularization Networks and Support Vector Machines), page 47\n",
    "\tsamples = linspace(0, 1, deg + 1)\n",
    "\tk(x,y) = (c + x*y)^deg\n",
    "\tK = [ k(x,y) for x = samples, y=samples]\n",
    "\tK = convert(Array{Float64, 2}, K)\n",
    "\t#assert(rank(K) == deg+1)\n",
    "    \n",
    "\tC = chol(K + 1e-6* eye(deg+1))\n",
    "\tfor i=1:deg + 1\n",
    "\t\t@addConstraint(m, polyEval(coeffs, samples[i]) == sum{C[j, i] * Calphas[j], j=1:deg+1})\n",
    "\tend\n",
    "    \n",
    "\t@defVar(m, reg_term >= 0)\n",
    "\treg_term_ = QuadExpr(Calphas[:], Calphas[:], ones(deg+1), AffExpr())\n",
    "    \n",
    "\t@addConstraint(m, reg_term >= reg_term_)\n",
    "    \n",
    "\treturn m, coeffs, reg_term\n",
    "\n",
    "end"
   ]
  },
  {
   "cell_type": "code",
   "execution_count": 4,
   "metadata": {
    "collapsed": false
   },
   "outputs": [
    {
     "data": {
      "text/plain": [
       "fixCoeffs (generic function with 1 method)"
      ]
     },
     "execution_count": 4,
     "metadata": {},
     "output_type": "execute_result"
    }
   ],
   "source": [
    "function fixCoeffs(m, fcoeffs, coeffs)\n",
    "\tfor (fc, c) in zip(fcoeffs, coeffs[:])\n",
    "\t\t@addConstraint(m, fc == c)\n",
    "\tend\n",
    "end"
   ]
  },
  {
   "cell_type": "code",
   "execution_count": 5,
   "metadata": {
    "collapsed": false
   },
   "outputs": [
    {
     "data": {
      "text/plain": [
       "addResid (generic function with 1 method)"
      ]
     },
     "execution_count": 5,
     "metadata": {},
     "output_type": "execute_result"
    }
   ],
   "source": [
    "function addResid(m, coeffs, ys, demands, arcs, scaling)\n",
    "\t@defVar(m, resid)\n",
    "\t@defVar(m, dual_cost)\n",
    "\t@defVar(m, primal_cost)\n",
    "\n",
    "\t@addConstraint(m, dual_cost == sum{demands[(s,t)] * (ys[(s,t), t] - ys[(s,t), s]), (s,t)=keys(demands)})  \n",
    "\t@addConstraint(m, primal_cost == sum{a.flow * a.freeflowtime * polyEval(coeffs, a.flow/a.capacity), a=values(arcs)})\n",
    "\n",
    "\t@addConstraint(m, resid >= (dual_cost - primal_cost) / scaling )\n",
    "\t@addConstraint(m, resid >= (primal_cost - dual_cost) / scaling )\n",
    "\treturn resid\n",
    "end"
   ]
  },
  {
   "cell_type": "code",
   "execution_count": 7,
   "metadata": {
    "collapsed": false
   },
   "outputs": [
    {
     "data": {
      "text/plain": [
       "addIncreasingCnsts (generic function with 1 method)"
      ]
     },
     "execution_count": 7,
     "metadata": {},
     "output_type": "execute_result"
    }
   ],
   "source": [
    "function addIncreasingCnsts(m, coeffs, arcs; TOL=0.)\n",
    "\tsorted_flows = sort([a.flow / a.capacity for a in values(arcs)])\n",
    "\t@addConstraint(m, polyEval(coeffs, 0) <= polyEval(coeffs, sorted_flows[1]))\n",
    "\tfor i = 2:length(sorted_flows)\n",
    "\t\t@addConstraint(m, polyEval(coeffs, sorted_flows[i-1]) <= polyEval(coeffs, sorted_flows[i]) + TOL)\n",
    "\tend\n",
    "    @addConstraint(m, coeffs[1] == 1)\n",
    "end"
   ]
  },
  {
   "cell_type": "code",
   "execution_count": 8,
   "metadata": {
    "collapsed": false
   },
   "outputs": [
    {
     "data": {
      "text/plain": [
       "normalize (generic function with 3 methods)"
      ]
     },
     "execution_count": 8,
     "metadata": {},
     "output_type": "execute_result"
    }
   ],
   "source": [
    "#equates the total cost of the network to the true total cost\n",
    "function normalize(m, coeffs, tot_true_cost::Float64, arcs)\n",
    "\t@addConstraint(m, \n",
    "\t\tsum{a.freeflowtime * a.flow * polyEval(coeffs, a.flow / a.capacity), a=values(arcs)} == tot_true_cost)\n",
    "end\n",
    "\n",
    "function normalize(m, coeffs, scaled_flow::Float64, cost::Float64)\n",
    "\t@addConstraint(m, polyEval(coeffs, scaled_flow) == cost)\n",
    "end\n",
    "\n",
    "function normalize(m, coeffs, scaled_flows::Array{Float64, 1}, avgCost::Float64)\n",
    "    @addConstraint(m, sum{polyEval(coeffs, f), f=scaled_flows} == avgCost * length(scaled_flows))\n",
    "end"
   ]
  },
  {
   "cell_type": "code",
   "execution_count": 9,
   "metadata": {
    "collapsed": false
   },
   "outputs": [
    {
     "data": {
      "text/plain": [
       "addNetworkCnsts (generic function with 1 method)"
      ]
     },
     "execution_count": 9,
     "metadata": {},
     "output_type": "execute_result"
    }
   ],
   "source": [
    "function addNetworkCnsts(m, coeffs, demands, arcs, numNodes)\n",
    "\t@defVar(m, ys[keys(demands), 1:numNodes])\n",
    "\tfor k = keys(arcs)\n",
    "\t\ta = arcs[k]\n",
    "\t\trhs = a.freeflowtime * polyEval(coeffs, a.flow/a.capacity)\n",
    "\t\tfor od in keys(demands)\n",
    "\t\t\t@addConstraint(m, ys[od, k[2]] - ys[od, k[1]] <= rhs)\n",
    "\t\tend\n",
    "\tend\n",
    "\treturn ys\n",
    "end"
   ]
  },
  {
   "cell_type": "code",
   "execution_count": 10,
   "metadata": {
    "collapsed": false
   },
   "outputs": [],
   "source": [
    "############\n",
    "#Read in demand data\n",
    "file = open(\"../temp_files/OD_demand_matrix_Jul_weekday_PM.txt\")\n",
    "demands = Dict{(Int64,Int64), Float64}()\n",
    "n = 8  # number of nodes\n",
    "for i in [1:n]\n",
    "    demands[(i,i)] = 0.0\n",
    "end\n",
    "for line in eachline(file)\n",
    "    OD_demand = split(line, \",\")\n",
    "    key, value = (int(OD_demand[1]),int(OD_demand[2])), float(split(OD_demand[3], \"\\n\")[1])\n",
    "    demands[key] = value\n",
    "end\n",
    "close(file)"
   ]
  },
  {
   "cell_type": "code",
   "execution_count": 11,
   "metadata": {
    "collapsed": false
   },
   "outputs": [
    {
     "data": {
      "text/plain": [
       "Dict{(Int64,Int64),Float64} with 64 entries:\n",
       "  (3,6) => 959.876518\n",
       "  (4,4) => 0.0\n",
       "  (3,1) => 591.863147\n",
       "  (4,5) => 0.001029\n",
       "  (2,4) => 1291.64066\n",
       "  (6,5) => 1404.077992\n",
       "  (8,4) => 1217.231163\n",
       "  (1,2) => 0.0\n",
       "  (5,1) => 393.670096\n",
       "  (3,4) => 1023.111339\n",
       "  (8,2) => 1.1e-5\n",
       "  (2,3) => 0.007049\n",
       "  (2,6) => 0.007042\n",
       "  (5,4) => 0.020506\n",
       "  (2,1) => 655.190479\n",
       "  (2,5) => 152.02955\n",
       "  (8,5) => 21.151234\n",
       "  (1,4) => 0.0\n",
       "  (2,8) => 0.000442\n",
       "  (5,8) => 325.573663\n",
       "  (4,8) => 1167.481867\n",
       "  (7,8) => 627.858996\n",
       "  (1,1) => 0.0\n",
       "  (7,7) => 0.0\n",
       "  (5,7) => 1117.963911\n",
       "  ⋮     => ⋮"
      ]
     },
     "execution_count": 11,
     "metadata": {},
     "output_type": "execute_result"
    }
   ],
   "source": [
    "demands"
   ]
  },
  {
   "cell_type": "code",
   "execution_count": 12,
   "metadata": {
    "collapsed": false
   },
   "outputs": [],
   "source": [
    "using JSON\n",
    "\n",
    "link_day_minute_Jul_dict = readall(\"../temp_files/link_day_minute_Jul_dict_JSON.json\");\n",
    "link_day_minute_Jul_dict = replace(link_day_minute_Jul_dict, \"NaN\", 0);\n",
    "\n",
    "link_day_minute_Jul_dict = JSON.parse(link_day_minute_Jul_dict);"
   ]
  },
  {
   "cell_type": "code",
   "execution_count": 13,
   "metadata": {
    "collapsed": false
   },
   "outputs": [],
   "source": [
    "# week_day_Jul_list = [2, 3, 4, 5, 6, 9, 10, 11, 12, 13, 16, 17, 18, 19, 20, 23, 24, 25, 26, 27, 30, 31]\n",
    "\n",
    "# training set 1\n",
    "week_day_Jul_list_1 = [2, 3, 4, 5, 6, 9, 10, 11, 12, 13, 16, 17, 18, 19]\n",
    "\n",
    "# training set 2\n",
    "week_day_Jul_list_2 = [2, 3, 4, 5, 6, 9, 10, 20, 23, 24, 25, 26, 27, 30, 31]\n",
    "\n",
    "# training set 3\n",
    "week_day_Jul_list_3 = [11, 12, 13, 16, 17, 18, 19, 20, 23, 24, 25, 26, 27, 30, 31]\n",
    "\n",
    "\n",
    "arcs_1 = Dict{(Int, Int), Arc}[]\n",
    "for j in week_day_Jul_list_1\n",
    "    arcs_1_ = Dict{(Int, Int), Arc}()\n",
    "    for i = 0:23\n",
    "        key = \"link_$(i)_$(j)\"\n",
    "        initNode = link_day_minute_Jul_dict[key][\"init_node\"]\n",
    "        termNode = link_day_minute_Jul_dict[key][\"term_node\"]\n",
    "        capacity = link_day_minute_Jul_dict[key][\"PM_capac\"]\n",
    "        freeflowtime = link_day_minute_Jul_dict[key][\"free_flow_time\"]\n",
    "        flow = link_day_minute_Jul_dict[key][\"PM_flow\"]\n",
    "        arcs_1_[(initNode, termNode)] = Arc(initNode, termNode, capacity, freeflowtime, flow)\n",
    "    end\n",
    "    push!(arcs_1, arcs_1_)\n",
    "end\n",
    "\n",
    "arcs_2 = Dict{(Int, Int), Arc}[]\n",
    "for j in week_day_Jul_list_2\n",
    "    arcs_2_ = Dict{(Int, Int), Arc}()\n",
    "    for i = 0:23\n",
    "        key = \"link_$(i)_$(j)\"\n",
    "        initNode = link_day_minute_Jul_dict[key][\"init_node\"]\n",
    "        termNode = link_day_minute_Jul_dict[key][\"term_node\"]\n",
    "        capacity = link_day_minute_Jul_dict[key][\"PM_capac\"]\n",
    "        freeflowtime = link_day_minute_Jul_dict[key][\"free_flow_time\"]\n",
    "        flow = link_day_minute_Jul_dict[key][\"PM_flow\"]\n",
    "        arcs_2_[(initNode, termNode)] = Arc(initNode, termNode, capacity, freeflowtime, flow)\n",
    "    end\n",
    "    push!(arcs_2, arcs_2_)\n",
    "end\n",
    "\n",
    "arcs_3 = Dict{(Int, Int), Arc}[]\n",
    "for j in week_day_Jul_list_3\n",
    "    arcs_3_ = Dict{(Int, Int), Arc}()\n",
    "    for i = 0:23\n",
    "        key = \"link_$(i)_$(j)\"\n",
    "        initNode = link_day_minute_Jul_dict[key][\"init_node\"]\n",
    "        termNode = link_day_minute_Jul_dict[key][\"term_node\"]\n",
    "        capacity = link_day_minute_Jul_dict[key][\"PM_capac\"]\n",
    "        freeflowtime = link_day_minute_Jul_dict[key][\"free_flow_time\"]\n",
    "        flow = link_day_minute_Jul_dict[key][\"PM_flow\"]\n",
    "        arcs_3_[(initNode, termNode)] = Arc(initNode, termNode, capacity, freeflowtime, flow)\n",
    "    end\n",
    "    push!(arcs_3, arcs_3_)\n",
    "end"
   ]
  },
  {
   "cell_type": "code",
   "execution_count": 14,
   "metadata": {
    "collapsed": false
   },
   "outputs": [],
   "source": [
    "##########\n",
    "# Set up demand data and flow data\n",
    "##########\n",
    "numData = length(arcs_1); \n",
    "sigma = .0\n",
    "\n",
    "flow_data_1 = Array(Float64, length(arcs_1[1]), numData)\n",
    "flow_data_2 = Array(Float64, length(arcs_2[1]), numData)\n",
    "flow_data_3 = Array(Float64, length(arcs_3[1]), numData)\n",
    "\n",
    "demand_data = Dict{(Int, Int), Array{Float64, 1}}()\n",
    "\n",
    "numNodes = maximum(map(pair->pair[1], keys(demands)))\n",
    "g = simple_inclist(numNodes, is_directed=true)\n",
    "vArcs = Arc[]\n",
    "for arc in values(arcs_1[1])\n",
    "    add_edge!(g, arc.initNode, arc.termNode) \n",
    "    push!(vArcs, arc)\n",
    "end\n",
    "\n",
    "\n",
    "for iRun = 1:numData\n",
    "    for odpair in keys(demands)\n",
    "        if ! haskey(demand_data, odpair)\n",
    "            demand_data[odpair] = [demands[odpair], ]\n",
    "        else\n",
    "            push!(demand_data[odpair], demands[odpair])\n",
    "        end\n",
    "    end\n",
    "\n",
    "    #flow_data[:, iRun] = [a.flow::Float64 for a in vArcs]\n",
    "    flow_data_1[:, iRun] = [a.flow::Float64 for a in values(arcs_1[iRun])]\n",
    "    flow_data_2[:, iRun] = [a.flow::Float64 for a in values(arcs_2[iRun])]\n",
    "    flow_data_3[:, iRun] = [a.flow::Float64 for a in values(arcs_3[iRun])]\n",
    "end"
   ]
  },
  {
   "cell_type": "code",
   "execution_count": 15,
   "metadata": {
    "collapsed": false
   },
   "outputs": [
    {
     "data": {
      "text/plain": [
       "Dict{(Int64,Int64),Array{Float64,1}} with 64 entries:\n",
       "  (3,6) => [959.876518,959.876518,959.876518,959.876518,959.876518,959.876518,9…\n",
       "  (4,4) => [0.0,0.0,0.0,0.0,0.0,0.0,0.0,0.0,0.0,0.0,0.0,0.0,0.0,0.0]\n",
       "  (3,1) => [591.863147,591.863147,591.863147,591.863147,591.863147,591.863147,5…\n",
       "  (4,5) => [0.001029,0.001029,0.001029,0.001029,0.001029,0.001029,0.001029,0.00…\n",
       "  (2,4) => [1291.64066,1291.64066,1291.64066,1291.64066,1291.64066,1291.64066,1…\n",
       "  (6,5) => [1404.077992,1404.077992,1404.077992,1404.077992,1404.077992,1404.07…\n",
       "  (8,4) => [1217.231163,1217.231163,1217.231163,1217.231163,1217.231163,1217.23…\n",
       "  (1,2) => [0.0,0.0,0.0,0.0,0.0,0.0,0.0,0.0,0.0,0.0,0.0,0.0,0.0,0.0]\n",
       "  (5,1) => [393.670096,393.670096,393.670096,393.670096,393.670096,393.670096,3…\n",
       "  (3,4) => [1023.111339,1023.111339,1023.111339,1023.111339,1023.111339,1023.11…\n",
       "  (8,2) => [1.1e-5,1.1e-5,1.1e-5,1.1e-5,1.1e-5,1.1e-5,1.1e-5,1.1e-5,1.1e-5,1.1e…\n",
       "  (2,3) => [0.007049,0.007049,0.007049,0.007049,0.007049,0.007049,0.007049,0.00…\n",
       "  (2,6) => [0.007042,0.007042,0.007042,0.007042,0.007042,0.007042,0.007042,0.00…\n",
       "  (5,4) => [0.020506,0.020506,0.020506,0.020506,0.020506,0.020506,0.020506,0.02…\n",
       "  (2,1) => [655.190479,655.190479,655.190479,655.190479,655.190479,655.190479,6…\n",
       "  (2,5) => [152.02955,152.02955,152.02955,152.02955,152.02955,152.02955,152.029…\n",
       "  (8,5) => [21.151234,21.151234,21.151234,21.151234,21.151234,21.151234,21.1512…\n",
       "  (1,4) => [0.0,0.0,0.0,0.0,0.0,0.0,0.0,0.0,0.0,0.0,0.0,0.0,0.0,0.0]\n",
       "  (2,8) => [0.000442,0.000442,0.000442,0.000442,0.000442,0.000442,0.000442,0.00…\n",
       "  (5,8) => [325.573663,325.573663,325.573663,325.573663,325.573663,325.573663,3…\n",
       "  (4,8) => [1167.481867,1167.481867,1167.481867,1167.481867,1167.481867,1167.48…\n",
       "  (7,8) => [627.858996,627.858996,627.858996,627.858996,627.858996,627.858996,6…\n",
       "  (1,1) => [0.0,0.0,0.0,0.0,0.0,0.0,0.0,0.0,0.0,0.0,0.0,0.0,0.0,0.0]\n",
       "  (7,7) => [0.0,0.0,0.0,0.0,0.0,0.0,0.0,0.0,0.0,0.0,0.0,0.0,0.0,0.0]\n",
       "  (5,7) => [1117.963911,1117.963911,1117.963911,1117.963911,1117.963911,1117.96…\n",
       "  ⋮     => ⋮"
      ]
     },
     "execution_count": 15,
     "metadata": {},
     "output_type": "execute_result"
    }
   ],
   "source": [
    "demand_data"
   ]
  },
  {
   "cell_type": "code",
   "execution_count": 16,
   "metadata": {
    "collapsed": false
   },
   "outputs": [
    {
     "data": {
      "text/plain": [
       "24x14 Array{Float64,2}:\n",
       " 1356.6    1576.43   1630.09   1657.14   …  1502.74   1581.48   1580.02\n",
       " 1682.93   1820.32   1647.27   1626.33      1661.09   1650.16   1588.7 \n",
       " 1260.62   1007.18   1266.85   1298.45      1185.2    1312.34   1267.79\n",
       " 1542.76   1526.39   1421.14   1472.14      1449.9    1414.88   1429.76\n",
       " 1245.38   1149.56   1241.09   1192.28      1124.54   1203.3    1184.13\n",
       " 1171.45    824.496   988.021  1229.58   …   976.995   710.571  1338.47\n",
       " 1495.6    1502.09   1504.89   1502.97      1511.84   1485.59   1510.09\n",
       " 1417.66   1462.18   1460.56   1512.0       1498.51   1488.54   1471.87\n",
       " 1166.5    1136.28   1142.88   1228.95      1198.81   1166.31   1170.31\n",
       " 1237.39   1201.05   1221.87   1239.09      1213.07   1215.63   1210.6 \n",
       " 1554.5    1135.55   1741.64   1718.96   …  1477.12   1320.3    1679.1 \n",
       " 1345.22   1361.1    1333.2    1372.44      1260.44   1236.75   1323.26\n",
       " 1478.8    1458.89   1410.85   1467.35      1445.37   1409.38   1446.76\n",
       " 1265.05    880.726  1211.24   1355.65      1271.33   1069.63   1382.0 \n",
       " 1335.01   1283.09   1192.19   1334.16      1322.04   1344.5    1304.22\n",
       " 1229.64   1272.17   1214.34   1203.21   …  1262.44   1240.46   1206.86\n",
       "  973.697   876.232   975.328   888.048      899.836   988.179  1022.9 \n",
       " 1226.65   1043.3    1251.69   1347.53      1121.71   1252.49   1477.42\n",
       " 1247.33   1233.16   1250.94   1284.97      1321.27   1279.22   1270.72\n",
       " 1306.12   1286.77   1287.84   1274.88      1272.98   1297.72   1283.8 \n",
       " 1726.95   1408.59   1687.7    1788.35   …  1713.89   1722.81   1790.51\n",
       " 1309.41   1229.54   1372.03   1383.96      1298.18   1284.08   1381.1 \n",
       "  993.186  1394.28   1122.57   1749.89      1704.23   1674.91   1566.48\n",
       " 1508.82   1486.32   1415.72   1508.16      1540.83   1487.92   1496.94"
      ]
     },
     "execution_count": 16,
     "metadata": {},
     "output_type": "execute_result"
    }
   ],
   "source": [
    "flow_data_3"
   ]
  },
  {
   "cell_type": "code",
   "execution_count": 17,
   "metadata": {
    "collapsed": false
   },
   "outputs": [
    {
     "data": {
      "text/plain": [
       "train (generic function with 1 method)"
      ]
     },
     "execution_count": 17,
     "metadata": {},
     "output_type": "execute_result"
    }
   ],
   "source": [
    "##########\n",
    "#Fitting Funcs\n",
    "##########\n",
    "\n",
    "function train(indices, lam::Float64, deg::Int, c::Float64, demand_data, flow_data, arcs; fcoeffs=nothing)\n",
    "    numNodes = maximum(map(pair->pair[1], keys(arcs)))\n",
    "    m, coeffs, reg_term = setUpFitting(deg, c)\n",
    "    \n",
    "    addIncreasingCnsts(m, coeffs, arcs, TOL=1e-8)  #uses the original obs flows\n",
    "\n",
    "    avgCost = mean( [bpacost(a.flow, a.capacity, 1.0) for a in values(arcs)] )\n",
    "    normalize(m, coeffs, [a.flow / a.capacity for a in values(arcs)], avgCost)\n",
    "\n",
    "\n",
    "    resids = Variable[]\n",
    "    \n",
    "    for i = indices\n",
    "        #copy the flow data over to the arcs, demand data to demands (slow)\n",
    "        for (ix, a) in enumerate(vArcs)\n",
    "            a.flow = flow_data[ix, i]\n",
    "        end\n",
    "        for odpair in keys(demands)\n",
    "            demands[odpair] = demand_data[odpair][i]\n",
    "        end\n",
    "    \n",
    "        #Dual Feasibility\n",
    "        ys = addNetworkCnsts(m, coeffs, demands, arcs, numNodes)\n",
    "        \n",
    "        #add the residual for this data point\n",
    "        push!(resids, addResid(m, coeffs, ys, demands, arcs, 1e6))\n",
    "    end\n",
    "\n",
    "    if fcoeffs != nothing\n",
    "        fixCoeffs(m, fcoeffs, coeffs)\n",
    "    end\n",
    "    @setObjective(m, Min, sum{resids[i], i = 1:length(resids)} + lam*reg_term)\n",
    "    solve(m)\n",
    "    #println(getObjectiveValue(m) - lam * getValue(reg_term) )\n",
    "    return [getValue(coeffs[i]) for i =1:length(coeffs)]\n",
    "end"
   ]
  },
  {
   "cell_type": "code",
   "execution_count": 18,
   "metadata": {
    "collapsed": false
   },
   "outputs": [],
   "source": [
    "#include(\"trafficCval.jl\")\n",
    "\n",
    "coeffs_dict_Jul_PM = Dict{(Int64,Float64,Float64,Int64),Array{Float64,1}}()\n",
    "\n",
    "deg_grid = [4:8]\n",
    "c_grid = .5:.5:3.\n",
    "lamb_grid = [10. .^(-3:4)]\n",
    "\n",
    "for deg in deg_grid\n",
    "    for c in c_grid\n",
    "        for lam in lamb_grid\n",
    "            coeffs_dict_Jul_PM[(deg, c, lam, 1)] = train(1:numData, lam, deg, c, demand_data, flow_data_1, arcs_1[1])\n",
    "            coeffs_dict_Jul_PM[(deg, c, lam, 2)] = train(1:numData, lam, deg, c, demand_data, flow_data_2, arcs_2[1])\n",
    "            coeffs_dict_Jul_PM[(deg, c, lam, 3)] = train(1:numData, lam, deg, c, demand_data, flow_data_3, arcs_3[1])\n",
    "        end\n",
    "    end\n",
    "end"
   ]
  },
  {
   "cell_type": "code",
   "execution_count": 19,
   "metadata": {
    "collapsed": false
   },
   "outputs": [],
   "source": [
    "outfile = open(\"../temp_files/coeffs_dict_Jul_PM.json\", \"w\")\n",
    "\n",
    "JSON.print(outfile, coeffs_dict_Jul_PM)\n",
    "\n",
    "close(outfile)"
   ]
  },
  {
   "cell_type": "code",
   "execution_count": 20,
   "metadata": {
    "collapsed": false
   },
   "outputs": [
    {
     "data": {
      "text/plain": [
       "Dict{String,Any} with 720 entries:\n",
       "  \"(7,2.5,10000.0,3)\" => {1.0,0.03736092598312617,0.037086039567714786,0.0206493…\n",
       "  \"(5,0.5,100.0,3)\"   => {1.0,0.0075385054112267254,0.027665273346319883,0.04083…\n",
       "  \"(6,1.5,10.0,3)\"    => {1.0,0.026907184073874223,0.0382461149277509,0.02886719…\n",
       "  \"(6,2.0,0.1,2)\"     => {1.0,-0.11826913651941998,0.07289390641647568,0.1374766…\n",
       "  \"(4,0.5,1000.0,1)\"  => {1.0,0.015220852630644615,0.03948111250732522,0.0438686…\n",
       "  \"(6,2.0,0.01,1)\"    => {1.0,0.10751867431529628,-0.12226731463762555,0.0391526…\n",
       "  \"(8,1.5,0.01,1)\"    => {1.0,0.20026271864096173,-0.14843224635583915,-0.150245…\n",
       "  \"(5,1.5,1.0,1)\"     => {1.0,0.03543945934874554,0.04077675897016042,0.02384022…\n",
       "  \"(8,2.5,0.001,2)\"   => {1.0,-0.5870809056452022,1.1812931404950489,-0.25805723…\n",
       "  \"(4,2.0,0.1,1)\"     => {1.0,0.050111258620321994,0.03688606983891006,0.0131525…\n",
       "  \"(5,1.0,1000.0,2)\"  => {1.0,0.023344029126177383,0.038890269154809545,0.032318…\n",
       "  \"(4,2.0,0.1,2)\"     => {1.0,0.027482163750171363,0.05042199339683705,0.0227996…\n",
       "  \"(5,2.0,0.001,1)\"   => {1.0,0.2868514631979563,-0.4802440298580494,0.143625361…\n",
       "  \"(7,1.5,0.01,3)\"    => {1.0,0.18721735251647018,-0.16651653389340731,-0.124612…\n",
       "  \"(4,0.5,0.1,3)\"     => {1.0,0.014488648891384112,0.037956368334529936,0.043326…\n",
       "  \"(6,2.0,1000.0,3)\"  => {1.0,0.03665251997490119,0.03795662877831283,0.02112558…\n",
       "  \"(6,2.0,0.1,3)\"     => {1.0,0.025585317034330125,0.012106679530074027,0.041638…\n",
       "  \"(4,1.5,1.0,1)\"     => {1.0,0.04622895832838098,0.039495534020409,0.0151031065…\n",
       "  \"(8,2.0,10000.0,1)\" => {1.0,0.024712386722265316,0.03666476749864871,0.0311389…\n",
       "  \"(7,0.5,0.001,2)\"   => {1.0,-0.009986062919884199,0.0013898755148418905,-0.042…\n",
       "  \"(5,1.0,10000.0,2)\" => {1.0,0.023352016108000237,0.0388828132939048,0.03231157…\n",
       "  \"(8,3.0,0.01,1)\"    => {1.0,2.29884446402928,-5.207973673755324,2.178369276057…\n",
       "  \"(8,2.0,0.01,3)\"    => {1.0,0.2511427097405554,-0.267636988312052,-0.140639866…\n",
       "  \"(5,3.0,100.0,3)\"   => {1.0,0.055094482435316935,0.030610532506604782,0.008605…\n",
       "  \"(5,3.0,10000.0,3)\" => {1.0,0.055293327050921985,0.03049175001839865,0.0084867…\n",
       "  ⋮                    => ⋮"
      ]
     },
     "execution_count": 20,
     "metadata": {},
     "output_type": "execute_result"
    }
   ],
   "source": [
    "coeffs_dict_Jul_PM_ = readall(\"../temp_files/coeffs_dict_Jul_PM.json\")\n",
    "coeffs_dict_Jul_PM_ = JSON.parse(coeffs_dict_Jul_PM_)"
   ]
  },
  {
   "cell_type": "code",
   "execution_count": 21,
   "metadata": {
    "collapsed": false
   },
   "outputs": [
    {
     "data": {
      "text/plain": [
       "9-element Array{Any,1}:\n",
       "  1.0       \n",
       " -0.00472129\n",
       "  0.0529846 \n",
       " -0.202108  \n",
       "  0.620263  \n",
       " -0.896476  \n",
       "  0.952151  \n",
       " -0.460169  \n",
       "  0.111099  "
      ]
     },
     "execution_count": 21,
     "metadata": {},
     "output_type": "execute_result"
    }
   ],
   "source": [
    "coeffs_dict_Jul_PM_[\"(8,0.5,10000.0,1)\"]"
   ]
  },
  {
   "cell_type": "code",
   "execution_count": 22,
   "metadata": {
    "collapsed": false
   },
   "outputs": [
    {
     "name": "stderr",
     "output_type": "stream",
     "text": [
      "INFO: Loading help data...\n"
     ]
    },
    {
     "data": {
      "image/png": "[encoded data removed]",
      "text/plain": [
       "Figure(PyObject <matplotlib.figure.Figure object at 0x7f05369da0d0>)"
      ]
     },
     "metadata": {},
     "output_type": "display_data"
    }
   ],
   "source": [
    "using PyPlot\n",
    "\n",
    "fcoeffs = coeffs_dict_Jul_PM_[\"(8,0.5,10.0,3)\"]\n",
    "\n",
    "\n",
    "xs = linspace(0, 1.1, 30)\n",
    "ys = map(x->polyEval(fcoeffs, x), xs)\n",
    "\n",
    "plot(xs, ys, \"o-m\", label=\"Jul_PM\")\n",
    "\n",
    "#legend(loc=\"upper left\",fancybox=\"true\") \n",
    "\n",
    "grid(\"on\")\n",
    "xlim(-0.1, 1.05);\n",
    "ylim(0.99, 1.2);\n",
    "\n",
    "font1 = [\"family\"=>\"serif\",\n",
    "    \"color\"=>\"darkred\",\n",
    "    \"weight\"=>\"normal\",\n",
    "    \"size\"=>14]\n",
    "xlabel(\"Scaled Flow\", fontdict=font1)\n",
    "\n",
    "savefig(\"../temp_files/fitting_Jul_PM.pdf\")"
   ]
  },
  {
   "cell_type": "code",
   "execution_count": null,
   "metadata": {
    "collapsed": true
   },
   "outputs": [],
   "source": []
  }
 ],
 "metadata": {
  "kernelspec": {
   "display_name": "Julia 0.3.7",
   "language": "julia",
   "name": "julia-0.3"
  },
  "language_info": {
   "file_extension": ".jl",
   "mimetype": "application/julia",
   "name": "julia",
   "version": "0.3.7"
  }
 },
 "nbformat": 4,
 "nbformat_minor": 0
}
