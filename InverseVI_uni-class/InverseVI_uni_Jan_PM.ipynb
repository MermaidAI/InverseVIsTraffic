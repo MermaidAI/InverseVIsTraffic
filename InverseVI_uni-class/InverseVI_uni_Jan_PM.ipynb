{
 "cells": [
  {
   "cell_type": "code",
   "execution_count": 1,
   "metadata": {
    "collapsed": false
   },
   "outputs": [
    {
     "data": {
      "text/plain": [
       "Arc (constructor with 3 methods)"
      ]
     },
     "execution_count": 1,
     "metadata": {},
     "output_type": "execute_result"
    }
   ],
   "source": [
    "#include(\"defArc.jl\")\n",
    "\n",
    "type Arc\n",
    "    initNode::Int \n",
    "    termNode::Int \n",
    "    capacity::Float64\n",
    "    freeflowtime::Float64\n",
    "    flow::Float64\n",
    "end\n",
    "\n",
    "Arc(initNode::Int, termNode::Int, capacity::Float64, freeflowtime::Float64) = \n",
    "    Arc(initNode, termNode, capacity, freeflowtime, 0.)"
   ]
  },
  {
   "cell_type": "code",
   "execution_count": 2,
   "metadata": {
    "collapsed": false
   },
   "outputs": [
    {
     "data": {
      "text/plain": [
       "bpacost (generic function with 3 methods)"
      ]
     },
     "execution_count": 2,
     "metadata": {},
     "output_type": "execute_result"
    }
   ],
   "source": [
    "#include(\"fitTraffic.jl\")\n",
    "\n",
    "## Solve an inverse tarffic problem over polynomials \n",
    "## of degree at most d\n",
    "## optionally use a regularizer from the poly kernel\n",
    "\n",
    "using JuMP\n",
    "using Gurobi\n",
    "using Graphs\n",
    "using Roots\n",
    "\n",
    "\n",
    "polyEval(coeffs, pt) = sum([coeffs[i] * pt^(i-1) for i = 1:length(coeffs)])  \n",
    "\n",
    "polyEval(coeffs::Array{Float64, 1}, pt) = sum([coeffs[i] * pt^(i-1) for i = 1:length(coeffs)]) \n",
    "\n",
    "bpacost(flow::Float64, capacity::Float64, freeflowtime::Float64) = freeflowtime*(1 + .15 * (flow/capacity)^4)\n",
    "bpacost(flow::Float64, arc) = bpacost(flow, arc.capacity, arc.freeflowtime)\n",
    "bpacost(arc::Arc) = bpacost(arc.flow, arc)"
   ]
  },
  {
   "cell_type": "code",
   "execution_count": 3,
   "metadata": {
    "collapsed": false
   },
   "outputs": [
    {
     "data": {
      "text/plain": [
       "setUpFitting (generic function with 1 method)"
      ]
     },
     "execution_count": 3,
     "metadata": {},
     "output_type": "execute_result"
    }
   ],
   "source": [
    "function setUpFitting(deg::Int, c::Float64)\n",
    "\n",
    "\tm = Model(solver=GurobiSolver(OutputFlag=false))\n",
    "    \n",
    "\t@defVar(m, coeffs[1:deg+1])\n",
    "\t@defVar(m, Calphas[1:deg+1])\n",
    "\n",
    "\t#build the graham matrix; cf. Ref. [21] (Regularization Networks and Support Vector Machines), page 47\n",
    "\tsamples = linspace(0, 1, deg + 1)\n",
    "\tk(x,y) = (c + x*y)^deg\n",
    "\tK = [ k(x,y) for x = samples, y=samples]\n",
    "\tK = convert(Array{Float64, 2}, K)\n",
    "\t#assert(rank(K) == deg+1)\n",
    "    \n",
    "\tC = chol(K + 1e-6* eye(deg+1))\n",
    "\tfor i=1:deg + 1\n",
    "\t\t@addConstraint(m, polyEval(coeffs, samples[i]) == sum{C[j, i] * Calphas[j], j=1:deg+1})\n",
    "\tend\n",
    "    \n",
    "\t@defVar(m, reg_term >= 0)\n",
    "\treg_term_ = QuadExpr(Calphas[:], Calphas[:], ones(deg+1), AffExpr())\n",
    "    \n",
    "\t@addConstraint(m, reg_term >= reg_term_)\n",
    "    \n",
    "\treturn m, coeffs, reg_term\n",
    "\n",
    "end"
   ]
  },
  {
   "cell_type": "code",
   "execution_count": 4,
   "metadata": {
    "collapsed": false
   },
   "outputs": [
    {
     "data": {
      "text/plain": [
       "fixCoeffs (generic function with 1 method)"
      ]
     },
     "execution_count": 4,
     "metadata": {},
     "output_type": "execute_result"
    }
   ],
   "source": [
    "function fixCoeffs(m, fcoeffs, coeffs)\n",
    "\tfor (fc, c) in zip(fcoeffs, coeffs[:])\n",
    "\t\t@addConstraint(m, fc == c)\n",
    "\tend\n",
    "end"
   ]
  },
  {
   "cell_type": "code",
   "execution_count": 5,
   "metadata": {
    "collapsed": false
   },
   "outputs": [
    {
     "data": {
      "text/plain": [
       "addResid (generic function with 1 method)"
      ]
     },
     "execution_count": 5,
     "metadata": {},
     "output_type": "execute_result"
    }
   ],
   "source": [
    "function addResid(m, coeffs, ys, demands, arcs, scaling)\n",
    "\t@defVar(m, resid)\n",
    "\t@defVar(m, dual_cost)\n",
    "\t@defVar(m, primal_cost)\n",
    "\n",
    "\t@addConstraint(m, dual_cost == sum{demands[(s,t)] * (ys[(s,t), t] - ys[(s,t), s]), (s,t)=keys(demands)})  \n",
    "\t@addConstraint(m, primal_cost == sum{a.flow * a.freeflowtime * polyEval(coeffs, a.flow/a.capacity), a=values(arcs)})\n",
    "\n",
    "\t@addConstraint(m, resid >= (dual_cost - primal_cost) / scaling )\n",
    "\t@addConstraint(m, resid >= (primal_cost - dual_cost) / scaling )\n",
    "\treturn resid\n",
    "end"
   ]
  },
  {
   "cell_type": "code",
   "execution_count": 6,
   "metadata": {
    "collapsed": false
   },
   "outputs": [
    {
     "data": {
      "text/plain": [
       "addIncreasingCnsts (generic function with 1 method)"
      ]
     },
     "execution_count": 6,
     "metadata": {},
     "output_type": "execute_result"
    }
   ],
   "source": [
    "function addIncreasingCnsts(m, coeffs, arcs; TOL=0.)\n",
    "\tsorted_flows = sort([a.flow / a.capacity for a in values(arcs)])\n",
    "\t@addConstraint(m, polyEval(coeffs, 0) <= polyEval(coeffs, sorted_flows[1]))\n",
    "\tfor i = 2:length(sorted_flows)\n",
    "\t\t@addConstraint(m, polyEval(coeffs, sorted_flows[i-1]) <= polyEval(coeffs, sorted_flows[i]) + TOL)\n",
    "\tend\n",
    "    @addConstraint(m, coeffs[1] == 1)\n",
    "end"
   ]
  },
  {
   "cell_type": "code",
   "execution_count": 7,
   "metadata": {
    "collapsed": false
   },
   "outputs": [
    {
     "data": {
      "text/plain": [
       "normalize (generic function with 3 methods)"
      ]
     },
     "execution_count": 7,
     "metadata": {},
     "output_type": "execute_result"
    }
   ],
   "source": [
    "#equates the total cost of the network to the true total cost\n",
    "function normalize(m, coeffs, tot_true_cost::Float64, arcs)\n",
    "\t@addConstraint(m, \n",
    "\t\tsum{a.freeflowtime * a.flow * polyEval(coeffs, a.flow / a.capacity), a=values(arcs)} == tot_true_cost)\n",
    "end\n",
    "\n",
    "function normalize(m, coeffs, scaled_flow::Float64, cost::Float64)\n",
    "\t@addConstraint(m, polyEval(coeffs, scaled_flow) == cost)\n",
    "end\n",
    "\n",
    "function normalize(m, coeffs, scaled_flows::Array{Float64, 1}, avgCost::Float64)\n",
    "    @addConstraint(m, sum{polyEval(coeffs, f), f=scaled_flows} == avgCost * length(scaled_flows))\n",
    "end"
   ]
  },
  {
   "cell_type": "code",
   "execution_count": 8,
   "metadata": {
    "collapsed": false
   },
   "outputs": [
    {
     "data": {
      "text/plain": [
       "addNetworkCnsts (generic function with 1 method)"
      ]
     },
     "execution_count": 8,
     "metadata": {},
     "output_type": "execute_result"
    }
   ],
   "source": [
    "function addNetworkCnsts(m, coeffs, demands, arcs, numNodes)\n",
    "\t@defVar(m, ys[keys(demands), 1:numNodes])\n",
    "\tfor k = keys(arcs)\n",
    "\t\ta = arcs[k]\n",
    "\t\trhs = a.freeflowtime * polyEval(coeffs, a.flow/a.capacity)\n",
    "\t\tfor od in keys(demands)\n",
    "\t\t\t@addConstraint(m, ys[od, k[2]] - ys[od, k[1]] <= rhs)\n",
    "\t\tend\n",
    "\tend\n",
    "\treturn ys\n",
    "end"
   ]
  },
  {
   "cell_type": "code",
   "execution_count": 9,
   "metadata": {
    "collapsed": false
   },
   "outputs": [],
   "source": [
    "############\n",
    "#Read in demand data\n",
    "file = open(\"../temp_files/OD_demand_matrix_Jan_weekday_PM.txt\")\n",
    "demands = Dict{(Int64,Int64), Float64}()\n",
    "n = 8  # number of nodes\n",
    "for i in [1:n]\n",
    "    demands[(i,i)] = 0.0\n",
    "end\n",
    "for line in eachline(file)\n",
    "    OD_demand = split(line, \",\")\n",
    "    key, value = (int(OD_demand[1]),int(OD_demand[2])), float(split(OD_demand[3], \"\\n\")[1])\n",
    "    demands[key] = value\n",
    "end\n",
    "close(file)"
   ]
  },
  {
   "cell_type": "code",
   "execution_count": 10,
   "metadata": {
    "collapsed": false
   },
   "outputs": [
    {
     "data": {
      "text/plain": [
       "Dict{(Int64,Int64),Float64} with 64 entries:\n",
       "  (3,6) => 5825.22614\n",
       "  (4,4) => 0.0\n",
       "  (3,1) => 5854.874981\n",
       "  (4,5) => 27.067895\n",
       "  (2,4) => 4120.657316\n",
       "  (6,5) => 5889.286264\n",
       "  (8,4) => 2988.669395\n",
       "  (1,2) => 0.0\n",
       "  (5,1) => 1.397227\n",
       "  (3,4) => 6.957504\n",
       "  (8,2) => 4.0e-6\n",
       "  (2,3) => 963.072062\n",
       "  (2,6) => 886.20335\n",
       "  (5,4) => 7294.720088\n",
       "  (2,1) => 0.000449\n",
       "  (2,5) => 1384.348014\n",
       "  (8,5) => 1138.932271\n",
       "  (1,4) => 0.0\n",
       "  (2,8) => 2.7e-5\n",
       "  (5,8) => 1.5e-5\n",
       "  (4,8) => 2756.996884\n",
       "  (7,8) => 2109.343836\n",
       "  (1,1) => 0.0\n",
       "  (7,7) => 0.0\n",
       "  (5,7) => 1.5e-5\n",
       "  ⋮     => ⋮"
      ]
     },
     "execution_count": 10,
     "metadata": {},
     "output_type": "execute_result"
    }
   ],
   "source": [
    "demands"
   ]
  },
  {
   "cell_type": "code",
   "execution_count": 11,
   "metadata": {
    "collapsed": false
   },
   "outputs": [],
   "source": [
    "using JSON\n",
    "\n",
    "link_day_minute_Jan_dict = readall(\"../temp_files/link_day_minute_Jan_dict_JSON_adjusted.json\");\n",
    "link_day_minute_Jan_dict = replace(link_day_minute_Jan_dict, \"NaN\", 0);\n",
    "\n",
    "link_day_minute_Jan_dict = JSON.parse(link_day_minute_Jan_dict);"
   ]
  },
  {
   "cell_type": "code",
   "execution_count": 12,
   "metadata": {
    "collapsed": false
   },
   "outputs": [],
   "source": [
    "# week_day_Jan_list = [2, 3, 4, 5, 6, 9, 10, 11, 12, 13, 16, 17, 18, 19, 20, 23, 24, 25, 26, 27, 30, 31]\n",
    "\n",
    "# training set 1\n",
    "week_day_Jan_list_1 = [2, 3, 4, 5, 6, 9, 10, 11, 12, 13, 16, 17, 18, 19]\n",
    "\n",
    "# training set 2\n",
    "week_day_Jan_list_2 = [2, 3, 4, 5, 6, 9, 10, 20, 23, 24, 25, 26, 27, 30, 31]\n",
    "\n",
    "# training set 3\n",
    "week_day_Jan_list_3 = [11, 12, 13, 16, 17, 18, 19, 20, 23, 24, 25, 26, 27, 30, 31]\n",
    "\n",
    "\n",
    "arcs_1 = Dict{(Int, Int), Arc}[]\n",
    "for j in week_day_Jan_list_1\n",
    "    arcs_1_ = Dict{(Int, Int), Arc}()\n",
    "    for i = 0:23\n",
    "        key = \"link_$(i)_$(j)\"\n",
    "        initNode = link_day_minute_Jan_dict[key][\"init_node\"]\n",
    "        termNode = link_day_minute_Jan_dict[key][\"term_node\"]\n",
    "        capacity = link_day_minute_Jan_dict[key][\"PM_capac\"]\n",
    "        freeflowtime = link_day_minute_Jan_dict[key][\"free_flow_time\"]\n",
    "        flow = link_day_minute_Jan_dict[key][\"PM_flow\"]\n",
    "        arcs_1_[(initNode, termNode)] = Arc(initNode, termNode, capacity, freeflowtime, flow)\n",
    "    end\n",
    "    push!(arcs_1, arcs_1_)\n",
    "end\n",
    "\n",
    "arcs_2 = Dict{(Int, Int), Arc}[]\n",
    "for j in week_day_Jan_list_2\n",
    "    arcs_2_ = Dict{(Int, Int), Arc}()\n",
    "    for i = 0:23\n",
    "        key = \"link_$(i)_$(j)\"\n",
    "        initNode = link_day_minute_Jan_dict[key][\"init_node\"]\n",
    "        termNode = link_day_minute_Jan_dict[key][\"term_node\"]\n",
    "        capacity = link_day_minute_Jan_dict[key][\"PM_capac\"]\n",
    "        freeflowtime = link_day_minute_Jan_dict[key][\"free_flow_time\"]\n",
    "        flow = link_day_minute_Jan_dict[key][\"PM_flow\"]\n",
    "        arcs_2_[(initNode, termNode)] = Arc(initNode, termNode, capacity, freeflowtime, flow)\n",
    "    end\n",
    "    push!(arcs_2, arcs_2_)\n",
    "end\n",
    "\n",
    "arcs_3 = Dict{(Int, Int), Arc}[]\n",
    "for j in week_day_Jan_list_3\n",
    "    arcs_3_ = Dict{(Int, Int), Arc}()\n",
    "    for i = 0:23\n",
    "        key = \"link_$(i)_$(j)\"\n",
    "        initNode = link_day_minute_Jan_dict[key][\"init_node\"]\n",
    "        termNode = link_day_minute_Jan_dict[key][\"term_node\"]\n",
    "        capacity = link_day_minute_Jan_dict[key][\"PM_capac\"]\n",
    "        freeflowtime = link_day_minute_Jan_dict[key][\"free_flow_time\"]\n",
    "        flow = link_day_minute_Jan_dict[key][\"PM_flow\"]\n",
    "        arcs_3_[(initNode, termNode)] = Arc(initNode, termNode, capacity, freeflowtime, flow)\n",
    "    end\n",
    "    push!(arcs_3, arcs_3_)\n",
    "end"
   ]
  },
  {
   "cell_type": "code",
   "execution_count": 13,
   "metadata": {
    "collapsed": false
   },
   "outputs": [],
   "source": [
    "##########\n",
    "# Set up demand data and flow data\n",
    "##########\n",
    "numData = length(arcs_1); \n",
    "sigma = .0\n",
    "\n",
    "flow_data_1 = Array(Float64, length(arcs_1[1]), numData)\n",
    "flow_data_2 = Array(Float64, length(arcs_2[1]), numData)\n",
    "flow_data_3 = Array(Float64, length(arcs_3[1]), numData)\n",
    "\n",
    "demand_data = Dict{(Int, Int), Array{Float64, 1}}()\n",
    "\n",
    "numNodes = maximum(map(pair->pair[1], keys(demands)))\n",
    "g = simple_inclist(numNodes, is_directed=true)\n",
    "vArcs = Arc[]\n",
    "for arc in values(arcs_1[1])\n",
    "    add_edge!(g, arc.initNode, arc.termNode) \n",
    "    push!(vArcs, arc)\n",
    "end\n",
    "\n",
    "\n",
    "for iRun = 1:numData\n",
    "    for odpair in keys(demands)\n",
    "        if ! haskey(demand_data, odpair)\n",
    "            demand_data[odpair] = [demands[odpair], ]\n",
    "        else\n",
    "            push!(demand_data[odpair], demands[odpair])\n",
    "        end\n",
    "    end\n",
    "\n",
    "    #flow_data[:, iRun] = [a.flow::Float64 for a in vArcs]\n",
    "    flow_data_1[:, iRun] = [a.flow::Float64 for a in values(arcs_1[iRun])]\n",
    "    flow_data_2[:, iRun] = [a.flow::Float64 for a in values(arcs_2[iRun])]\n",
    "    flow_data_3[:, iRun] = [a.flow::Float64 for a in values(arcs_3[iRun])]\n",
    "end"
   ]
  },
  {
   "cell_type": "code",
   "execution_count": 14,
   "metadata": {
    "collapsed": false
   },
   "outputs": [
    {
     "data": {
      "text/plain": [
       "Dict{(Int64,Int64),Array{Float64,1}} with 64 entries:\n",
       "  (3,6) => [5825.22614,5825.22614,5825.22614,5825.22614,5825.22614,5825.22614,5…\n",
       "  (4,4) => [0.0,0.0,0.0,0.0,0.0,0.0,0.0,0.0,0.0,0.0,0.0,0.0,0.0,0.0]\n",
       "  (3,1) => [5854.874981,5854.874981,5854.874981,5854.874981,5854.874981,5854.87…\n",
       "  (4,5) => [27.067895,27.067895,27.067895,27.067895,27.067895,27.067895,27.0678…\n",
       "  (2,4) => [4120.657316,4120.657316,4120.657316,4120.657316,4120.657316,4120.65…\n",
       "  (6,5) => [5889.286264,5889.286264,5889.286264,5889.286264,5889.286264,5889.28…\n",
       "  (8,4) => [2988.669395,2988.669395,2988.669395,2988.669395,2988.669395,2988.66…\n",
       "  (1,2) => [0.0,0.0,0.0,0.0,0.0,0.0,0.0,0.0,0.0,0.0,0.0,0.0,0.0,0.0]\n",
       "  (5,1) => [1.397227,1.397227,1.397227,1.397227,1.397227,1.397227,1.397227,1.39…\n",
       "  (3,4) => [6.957504,6.957504,6.957504,6.957504,6.957504,6.957504,6.957504,6.95…\n",
       "  (8,2) => [4.0e-6,4.0e-6,4.0e-6,4.0e-6,4.0e-6,4.0e-6,4.0e-6,4.0e-6,4.0e-6,4.0e…\n",
       "  (2,3) => [963.072062,963.072062,963.072062,963.072062,963.072062,963.072062,9…\n",
       "  (2,6) => [886.20335,886.20335,886.20335,886.20335,886.20335,886.20335,886.203…\n",
       "  (5,4) => [7294.720088,7294.720088,7294.720088,7294.720088,7294.720088,7294.72…\n",
       "  (2,1) => [0.000449,0.000449,0.000449,0.000449,0.000449,0.000449,0.000449,0.00…\n",
       "  (2,5) => [1384.348014,1384.348014,1384.348014,1384.348014,1384.348014,1384.34…\n",
       "  (8,5) => [1138.932271,1138.932271,1138.932271,1138.932271,1138.932271,1138.93…\n",
       "  (1,4) => [0.0,0.0,0.0,0.0,0.0,0.0,0.0,0.0,0.0,0.0,0.0,0.0,0.0,0.0]\n",
       "  (2,8) => [2.7e-5,2.7e-5,2.7e-5,2.7e-5,2.7e-5,2.7e-5,2.7e-5,2.7e-5,2.7e-5,2.7e…\n",
       "  (5,8) => [1.5e-5,1.5e-5,1.5e-5,1.5e-5,1.5e-5,1.5e-5,1.5e-5,1.5e-5,1.5e-5,1.5e…\n",
       "  (4,8) => [2756.996884,2756.996884,2756.996884,2756.996884,2756.996884,2756.99…\n",
       "  (7,8) => [2109.343836,2109.343836,2109.343836,2109.343836,2109.343836,2109.34…\n",
       "  (1,1) => [0.0,0.0,0.0,0.0,0.0,0.0,0.0,0.0,0.0,0.0,0.0,0.0,0.0,0.0]\n",
       "  (7,7) => [0.0,0.0,0.0,0.0,0.0,0.0,0.0,0.0,0.0,0.0,0.0,0.0,0.0,0.0]\n",
       "  (5,7) => [1.5e-5,1.5e-5,1.5e-5,1.5e-5,1.5e-5,1.5e-5,1.5e-5,1.5e-5,1.5e-5,1.5e…\n",
       "  ⋮     => ⋮"
      ]
     },
     "execution_count": 14,
     "metadata": {},
     "output_type": "execute_result"
    }
   ],
   "source": [
    "demand_data"
   ]
  },
  {
   "cell_type": "code",
   "execution_count": 15,
   "metadata": {
    "collapsed": false
   },
   "outputs": [
    {
     "data": {
      "text/plain": [
       "24x14 Array{Float64,2}:\n",
       "  6265.4   10369.3   10443.6   4371.57   12517.2    …   8309.05   10655.9  \n",
       "  2030.12   8473.22   7611.8   2813.63    7399.17       5590.31    6980.41 \n",
       "  7256.88  10089.8    7711.86  1214.97    6915.05      10099.2     7638.72 \n",
       "  2677.51   5910.09   2069.27  1681.96    3310.29       2407.64    1889.71 \n",
       "  1329.1    5763.72   4413.73  1757.39    4773.36       3417.85    4726.39 \n",
       "  9982.2   12976.2   13036.7   4212.88   13849.1    …   9875.45   11893.1  \n",
       "  3967.21   6585.4    4188.91  2312.97    4411.69       4242.04    3371.59 \n",
       "  3475.86   6760.65   5496.46  2131.74    6661.76       4025.4     4454.79 \n",
       "  8610.07  12603.1    8419.04  2178.22   12508.9        7617.41   10049.7  \n",
       "  2569.19   5357.57   2729.09  1437.93     328.563       885.332    156.072\n",
       "  8767.84  10939.3    8560.0   1778.66    7785.9    …   8970.47    6620.65 \n",
       "  2004.2    3566.38   2789.26  1911.15    2918.98        870.218    914.505\n",
       "  5168.74  12287.1   14105.0   2733.4    14886.5        7863.79   12508.8  \n",
       " 12369.2   11270.3    9826.03  1137.95   13366.7        7934.36   10948.4  \n",
       "  5920.54  11236.7    7174.06  2288.95    5900.67       4972.42    4941.71 \n",
       "  4306.79   6620.74   3953.33  2306.41    6880.4    …   3589.88    4629.27 \n",
       "  5273.4    7719.37   5000.85  1542.47    8341.09       6003.08    7876.03 \n",
       " 10635.9   11033.7    9943.99   969.145  10608.7       10464.0     9473.86 \n",
       "  4871.78   8411.92   3893.17  1833.19    4289.99       3604.99    3870.84 \n",
       "  1820.44   5588.47   3106.19  1938.62    2523.29       3634.48    3643.19 \n",
       " 10458.1   14770.4   12786.9   1817.6    14078.1    …  11959.3    12409.2  \n",
       "  2290.57   7598.01   1988.36  2187.94     663.441      2482.31     496.52 \n",
       " 10544.9   13738.6   10194.2   1557.89   10172.8       11035.6     9201.23 \n",
       " 12803.7   14230.2    9606.12  2342.73   14505.3        9160.46   11809.9  "
      ]
     },
     "execution_count": 15,
     "metadata": {},
     "output_type": "execute_result"
    }
   ],
   "source": [
    "flow_data_3"
   ]
  },
  {
   "cell_type": "code",
   "execution_count": 16,
   "metadata": {
    "collapsed": false
   },
   "outputs": [
    {
     "data": {
      "text/plain": [
       "train (generic function with 1 method)"
      ]
     },
     "execution_count": 16,
     "metadata": {},
     "output_type": "execute_result"
    }
   ],
   "source": [
    "##########\n",
    "#Fitting Funcs\n",
    "##########\n",
    "\n",
    "function train(indices, lam::Float64, deg::Int, c::Float64, demand_data, flow_data, arcs; fcoeffs=nothing)\n",
    "    numNodes = maximum(map(pair->pair[1], keys(arcs)))\n",
    "    m, coeffs, reg_term = setUpFitting(deg, c)\n",
    "    \n",
    "    addIncreasingCnsts(m, coeffs, arcs, TOL=1e-8)  #uses the original obs flows\n",
    "\n",
    "    avgCost = mean( [bpacost(a.flow, a.capacity, 1.0) for a in values(arcs)] )\n",
    "    normalize(m, coeffs, [a.flow / a.capacity for a in values(arcs)], avgCost)\n",
    "\n",
    "\n",
    "    resids = Variable[]\n",
    "    \n",
    "    for i = indices\n",
    "        #copy the flow data over to the arcs, demand data to demands (slow)\n",
    "        for (ix, a) in enumerate(vArcs)\n",
    "            a.flow = flow_data[ix, i]\n",
    "        end\n",
    "        for odpair in keys(demands)\n",
    "            demands[odpair] = demand_data[odpair][i]\n",
    "        end\n",
    "    \n",
    "        #Dual Feasibility\n",
    "        ys = addNetworkCnsts(m, coeffs, demands, arcs, numNodes)\n",
    "        \n",
    "        #add the residual for this data point\n",
    "        push!(resids, addResid(m, coeffs, ys, demands, arcs, 1e6))\n",
    "    end\n",
    "\n",
    "    if fcoeffs != nothing\n",
    "        fixCoeffs(m, fcoeffs, coeffs)\n",
    "    end\n",
    "    @setObjective(m, Min, sum{resids[i], i = 1:length(resids)} + lam*reg_term)\n",
    "    solve(m)\n",
    "    #println(getObjectiveValue(m) - lam * getValue(reg_term) )\n",
    "    return [getValue(coeffs[i]) for i =1:length(coeffs)]\n",
    "end"
   ]
  },
  {
   "cell_type": "code",
   "execution_count": 17,
   "metadata": {
    "collapsed": false
   },
   "outputs": [],
   "source": [
    "#include(\"trafficCval.jl\")\n",
    "\n",
    "coeffs_dict_Jan_PM = Dict{(Int64,Float64,Float64,Int64),Array{Float64,1}}()\n",
    "\n",
    "deg_grid = [4:8]\n",
    "c_grid = .5:.5:3.\n",
    "lamb_grid = [10. .^(-3:4)]\n",
    "\n",
    "for deg in deg_grid\n",
    "    for c in c_grid\n",
    "        for lam in lamb_grid\n",
    "            coeffs_dict_Jan_PM[(deg, c, lam, 1)] = train(1:numData, lam, deg, c, demand_data, flow_data_1, arcs_1[1])\n",
    "            coeffs_dict_Jan_PM[(deg, c, lam, 2)] = train(1:numData, lam, deg, c, demand_data, flow_data_2, arcs_2[1])\n",
    "            coeffs_dict_Jan_PM[(deg, c, lam, 3)] = train(1:numData, lam, deg, c, demand_data, flow_data_3, arcs_3[1])\n",
    "        end\n",
    "    end\n",
    "end"
   ]
  },
  {
   "cell_type": "code",
   "execution_count": 18,
   "metadata": {
    "collapsed": false
   },
   "outputs": [],
   "source": [
    "outfile = open(\"../temp_files/coeffs_dict_Jan_PM.json\", \"w\")\n",
    "\n",
    "JSON.print(outfile, coeffs_dict_Jan_PM)\n",
    "\n",
    "close(outfile)"
   ]
  },
  {
   "cell_type": "code",
   "execution_count": 19,
   "metadata": {
    "collapsed": false
   },
   "outputs": [
    {
     "data": {
      "text/plain": [
       "Dict{String,Any} with 720 entries:\n",
       "  \"(7,2.5,10000.0,3)\" => {1.0,0.018004645643640942,0.008676758515512016,0.002709…\n",
       "  \"(5,0.5,100.0,3)\"   => {1.0,0.008358737602479871,0.01793716219211221,0.0150676…\n",
       "  \"(6,1.5,10.0,3)\"    => {1.0,0.029981939404052044,-0.00949315924411612,-0.00908…\n",
       "  \"(6,2.0,0.1,2)\"     => {1.0,0.010116714153841137,0.001558238263781507,0.002937…\n",
       "  \"(4,0.5,1000.0,1)\"  => {1.0,0.012591557248240745,0.0205766607734448,0.01550660…\n",
       "  \"(6,2.0,0.01,1)\"    => {1.0,0.11198866278846559,-0.34260153083031997,0.4260256…\n",
       "  \"(8,1.5,0.01,1)\"    => {1.0,0.10188759728741553,-0.24172437693586651,-0.040736…\n",
       "  \"(5,1.5,1.0,1)\"     => {1.0,0.04322895947912044,-0.021349779575881155,-0.00818…\n",
       "  \"(8,2.5,0.001,2)\"   => {1.0,0.005810309230670172,0.027222528199716045,-0.06418…\n",
       "  \"(4,2.0,0.1,1)\"     => {1.0,0.06306478779401124,-0.08383233781796123,0.0301862…\n",
       "  \"(5,1.0,1000.0,2)\"  => {1.0,0.0087395635175501,0.00588098644449663,0.002447399…\n",
       "  \"(4,2.0,0.1,2)\"     => {1.0,0.010218086983368502,0.0024493305963020125,0.00051…\n",
       "  \"(5,2.0,0.001,1)\"   => {1.0,0.11394402806353791,-0.3579110770202083,0.46869388…\n",
       "  \"(7,1.5,0.01,3)\"    => {1.0,0.09034391265447912,-0.3541299372140118,0.66375300…\n",
       "  \"(4,0.5,0.1,3)\"     => {1.0,0.03107747594689484,-0.011464577038461198,-0.01259…\n",
       "  \"(6,2.0,1000.0,3)\"  => {1.0,0.017957773258828153,0.008812251104755111,0.002680…\n",
       "  \"(6,2.0,0.1,3)\"     => {1.0,0.06835108459101208,-0.17956556123093353,0.1903743…\n",
       "  \"(4,1.5,1.0,1)\"     => {1.0,0.041280333640811476,-0.015872984865233607,-0.0100…\n",
       "  \"(8,2.0,10000.0,1)\" => {1.0,0.017734467229436383,0.015518603892175825,0.008622…\n",
       "  \"(7,0.5,0.001,2)\"   => {1.0,0.002667166910924015,0.0270933074344418,-0.0545601…\n",
       "  \"(5,1.0,10000.0,2)\" => {1.0,0.008741066008573656,0.005877045703973458,0.002446…\n",
       "  \"(8,3.0,0.01,1)\"    => {1.0,0.14523309244369648,-0.6197415589025678,1.19826105…\n",
       "  \"(8,2.0,0.01,3)\"    => {1.0,0.10596171419416085,-0.5186534674687376,1.31185846…\n",
       "  \"(5,3.0,100.0,3)\"   => {1.0,0.029658457805329587,-0.011247305687248615,-0.0050…\n",
       "  \"(5,3.0,10000.0,3)\" => {1.0,0.019768070437715574,0.0060135058655838135,0.00106…\n",
       "  ⋮                    => ⋮"
      ]
     },
     "execution_count": 19,
     "metadata": {},
     "output_type": "execute_result"
    }
   ],
   "source": [
    "coeffs_dict_Jan_PM_ = readall(\"../temp_files/coeffs_dict_Jan_PM.json\")\n",
    "coeffs_dict_Jan_PM_ = JSON.parse(coeffs_dict_Jan_PM_)"
   ]
  },
  {
   "cell_type": "code",
   "execution_count": 20,
   "metadata": {
    "collapsed": false
   },
   "outputs": [
    {
     "data": {
      "text/plain": [
       "9-element Array{Any,1}:\n",
       "  1.0        \n",
       " -0.000347053\n",
       "  0.0336548  \n",
       " -0.0253037  \n",
       " -0.00294658 \n",
       "  0.351793   \n",
       " -0.508016   \n",
       "  0.399249   \n",
       " -0.107103   "
      ]
     },
     "execution_count": 20,
     "metadata": {},
     "output_type": "execute_result"
    }
   ],
   "source": [
    "coeffs_dict_Jan_PM_[\"(8,0.5,10000.0,1)\"]"
   ]
  },
  {
   "cell_type": "code",
   "execution_count": 22,
   "metadata": {
    "collapsed": false
   },
   "outputs": [
    {
     "data": {
      "image/png": "[encoded data removed]",
      "text/plain": [
       "Figure(PyObject <matplotlib.figure.Figure object at 0x7fde76bea290>)"
      ]
     },
     "metadata": {},
     "output_type": "display_data"
    }
   ],
   "source": [
    "using PyPlot\n",
    "\n",
    "fcoeffs = coeffs_dict_Jan_PM_[\"(8,0.5,10000.0,1)\"]\n",
    "\n",
    "\n",
    "xs = linspace(0, 1.1, 30)\n",
    "ys = map(x->polyEval(fcoeffs, x), xs)\n",
    "\n",
    "plot(xs, ys, \"o-m\", label=\"Jan_PM\")\n",
    "\n",
    "#legend(loc=\"upper left\",fancybox=\"true\") \n",
    "\n",
    "grid(\"on\")\n",
    "xlim(-0.1, 1.05);\n",
    "ylim(0.99, 1.2);\n",
    "\n",
    "font1 = [\"family\"=>\"serif\",\n",
    "    \"color\"=>\"darkred\",\n",
    "    \"weight\"=>\"normal\",\n",
    "    \"size\"=>14]\n",
    "xlabel(\"Scaled Flow\", fontdict=font1)\n",
    "\n",
    "savefig(\"../temp_files/fitting_Jan_PM.pdf\")"
   ]
  },
  {
   "cell_type": "code",
   "execution_count": null,
   "metadata": {
    "collapsed": true
   },
   "outputs": [],
   "source": []
  }
 ],
 "metadata": {
  "kernelspec": {
   "display_name": "Julia 0.3.7",
   "language": "julia",
   "name": "julia-0.3"
  },
  "language_info": {
   "file_extension": ".jl",
   "mimetype": "application/julia",
   "name": "julia",
   "version": "0.3.7"
  }
 },
 "nbformat": 4,
 "nbformat_minor": 0
}
