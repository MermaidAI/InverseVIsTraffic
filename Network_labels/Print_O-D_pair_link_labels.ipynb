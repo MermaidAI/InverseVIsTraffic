{
 "cells": [
  {
   "cell_type": "code",
   "execution_count": 1,
   "metadata": {
    "collapsed": true
   },
   "outputs": [],
   "source": [
    "%run ../Python_files/util_data_storage_and_load.py"
   ]
  },
  {
   "cell_type": "code",
   "execution_count": 2,
   "metadata": {
    "collapsed": false
   },
   "outputs": [],
   "source": [
    "# number of nodes\n",
    "n = 8\n",
    "\n",
    "# create O-D pair labels\n",
    "# create a dictionary mapping O-D pairs to labels\n",
    "OD_pair_label_dict = {}\n",
    "with open('../temp_files/O-D_pair_labels.txt', 'w') as the_file:\n",
    "    label = 0\n",
    "    for i in range(n + 1)[1:]:\n",
    "        for j in range(n + 1)[1:]:\n",
    "            if i != j: \n",
    "                key = (i, j)\n",
    "                OD_pair_label_dict[str(key)] = label\n",
    "                the_file.write(\"O-D pair (%d, %d) ---> label %d    \\n\" %(i, j, label))\n",
    "                label = label + 1\n",
    "                if label % 7 == 0:\n",
    "                    the_file.write('\\n')\n",
    "\n",
    "zdump(OD_pair_label_dict, '../temp_files/OD_pair_label_dict.pkz')"
   ]
  },
  {
   "cell_type": "code",
   "execution_count": 3,
   "metadata": {
    "collapsed": true
   },
   "outputs": [],
   "source": [
    "# 0 <---> link_1_1, 1 <---> link_1_2, 2 <---> link_2_1, 3 <---> link_2_2\n",
    "# 4 <---> link_3_1, 5 <---> link_3_2, 6 <---> link_4_1, 7 <---> link_4_2\n",
    "# 8 <---> link_5_1, 9 <---> link_5_2, 10 <---> link_6_1, 11 <---> link_6_2\n",
    "# 12 <---> link_7_1, 13 <---> link_7_2, 14 <---> link_8_1, 15 <---> link_8_2\n",
    "# 16 <---> link_9_1, 17 <---> link_9_2, 18 <---> link_10_1, 19 <---> link_10_2\n",
    "# 20 <---> link_11_1, 21 <---> link_11_2, 22 <---> link_12_1, 23 <---> link_12_2\n",
    "\n",
    "# number of links\n",
    "m = 24\n",
    "\n",
    "# create link labels\n",
    "# create a dictionary mapping directed links to labels\n",
    "link_label_dict = {}\n",
    "link_label_dict_ = {}\n",
    "\n",
    "link_label_dict['0'] = '1->2'\n",
    "link_label_dict['1'] = '2->1' \n",
    "link_label_dict['2'] = '1->3' \n",
    "link_label_dict['3'] = '3->1' \n",
    "link_label_dict['4'] = '2->3' \n",
    "link_label_dict['5'] = '3->2' \n",
    "link_label_dict['6'] = '2->4' \n",
    "link_label_dict['7'] = '4->2' \n",
    "link_label_dict['8'] = '3->5' \n",
    "link_label_dict['9'] = '5->3' \n",
    "link_label_dict['10'] = '3->6' \n",
    "link_label_dict['11'] = '6->3' \n",
    "link_label_dict['12'] = '4->5'\n",
    "link_label_dict['13'] = '5->4' \n",
    "link_label_dict['14'] = '5->6' \n",
    "link_label_dict['15'] = '6->5' \n",
    "link_label_dict['16'] = '4->8' \n",
    "link_label_dict['17'] = '8->4' \n",
    "link_label_dict['18'] = '5->7' \n",
    "link_label_dict['19'] = '7->5' \n",
    "link_label_dict['20'] = '6->7' \n",
    "link_label_dict['21'] = '7->6' \n",
    "link_label_dict['22'] = '7->8' \n",
    "link_label_dict['23'] = '8->7' \n",
    "\n",
    "link_label_dict_['1->2'] = 0\n",
    "link_label_dict_['2->1'] = 1\n",
    "link_label_dict_['1->3'] = 2 \n",
    "link_label_dict_['3->1'] = 3 \n",
    "link_label_dict_['2->3'] = 4 \n",
    "link_label_dict_['3->2'] = 5 \n",
    "link_label_dict_['2->4'] = 6 \n",
    "link_label_dict_['4->2'] = 7 \n",
    "link_label_dict_['3->5'] = 8 \n",
    "link_label_dict_['5->3'] = 9 \n",
    "link_label_dict_['3->6'] = 10 \n",
    "link_label_dict_['6->3'] = 11 \n",
    "link_label_dict_['4->5'] = 12\n",
    "link_label_dict_['5->4'] = 13 \n",
    "link_label_dict_['5->6'] = 14 \n",
    "link_label_dict_['6->5'] = 15 \n",
    "link_label_dict_['4->8'] = 16 \n",
    "link_label_dict_['8->4'] = 17 \n",
    "link_label_dict_['5->7'] = 18 \n",
    "link_label_dict_['7->5'] = 19 \n",
    "link_label_dict_['6->7'] = 20 \n",
    "link_label_dict_['7->6'] = 21 \n",
    "link_label_dict_['7->8'] = 22 \n",
    "link_label_dict_['8->7'] = 23 \n",
    "\n",
    "zdump(link_label_dict, '../temp_files/link_label_dict.pkz')\n",
    "zdump(link_label_dict_, '../temp_files/link_label_dict_.pkz')"
   ]
  },
  {
   "cell_type": "code",
   "execution_count": 4,
   "metadata": {
    "collapsed": false
   },
   "outputs": [
    {
     "data": {
      "text/plain": [
       "{'0': '1->2',\n",
       " '1': '2->1',\n",
       " '10': '3->6',\n",
       " '11': '6->3',\n",
       " '12': '4->5',\n",
       " '13': '5->4',\n",
       " '14': '5->6',\n",
       " '15': '6->5',\n",
       " '16': '4->8',\n",
       " '17': '8->4',\n",
       " '18': '5->7',\n",
       " '19': '7->5',\n",
       " '2': '1->3',\n",
       " '20': '6->7',\n",
       " '21': '7->6',\n",
       " '22': '7->8',\n",
       " '23': '8->7',\n",
       " '3': '3->1',\n",
       " '4': '2->3',\n",
       " '5': '3->2',\n",
       " '6': '2->4',\n",
       " '7': '4->2',\n",
       " '8': '3->5',\n",
       " '9': '5->3'}"
      ]
     },
     "execution_count": 4,
     "metadata": {},
     "output_type": "execute_result"
    }
   ],
   "source": [
    "link_label_dict"
   ]
  },
  {
   "cell_type": "code",
   "execution_count": 5,
   "metadata": {
    "collapsed": false
   },
   "outputs": [
    {
     "data": {
      "text/plain": [
       "{'1->2': 0,\n",
       " '1->3': 2,\n",
       " '2->1': 1,\n",
       " '2->3': 4,\n",
       " '2->4': 6,\n",
       " '3->1': 3,\n",
       " '3->2': 5,\n",
       " '3->5': 8,\n",
       " '3->6': 10,\n",
       " '4->2': 7,\n",
       " '4->5': 12,\n",
       " '4->8': 16,\n",
       " '5->3': 9,\n",
       " '5->4': 13,\n",
       " '5->6': 14,\n",
       " '5->7': 18,\n",
       " '6->3': 11,\n",
       " '6->5': 15,\n",
       " '6->7': 20,\n",
       " '7->5': 19,\n",
       " '7->6': 21,\n",
       " '7->8': 22,\n",
       " '8->4': 17,\n",
       " '8->7': 23}"
      ]
     },
     "execution_count": 5,
     "metadata": {},
     "output_type": "execute_result"
    }
   ],
   "source": [
    "link_label_dict_"
   ]
  },
  {
   "cell_type": "code",
   "execution_count": null,
   "metadata": {
    "collapsed": true
   },
   "outputs": [],
   "source": []
  }
 ],
 "metadata": {
  "kernelspec": {
   "display_name": "Python 2",
   "language": "python",
   "name": "python2"
  },
  "language_info": {
   "codemirror_mode": {
    "name": "ipython",
    "version": 2
   },
   "file_extension": ".py",
   "mimetype": "text/x-python",
   "name": "python",
   "nbconvert_exporter": "python",
   "pygments_lexer": "ipython2",
   "version": "2.7.11"
  }
 },
 "nbformat": 4,
 "nbformat_minor": 0
}
