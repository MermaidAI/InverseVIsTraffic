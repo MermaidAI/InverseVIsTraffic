{
 "cells": [
  {
   "cell_type": "code",
   "execution_count": 1,
   "metadata": {
    "collapsed": true
   },
   "outputs": [],
   "source": [
    "%run ../Python_files/util_data_storage_and_load.py"
   ]
  },
  {
   "cell_type": "code",
   "execution_count": 2,
   "metadata": {
    "collapsed": false
   },
   "outputs": [
    {
     "name": "stdout",
     "output_type": "stream",
     "text": [
      "No dicts found; please check load_dicts...\n"
     ]
    }
   ],
   "source": [
    "%run ../Python_files/util.py"
   ]
  },
  {
   "cell_type": "code",
   "execution_count": 3,
   "metadata": {
    "collapsed": false
   },
   "outputs": [],
   "source": [
    "link_label_dict = zload('../temp_files/link_label_dict.pkz')"
   ]
  },
  {
   "cell_type": "code",
   "execution_count": 4,
   "metadata": {
    "collapsed": true
   },
   "outputs": [],
   "source": [
    "link_label_dict_ = zload('../temp_files/link_label_dict_.pkz')"
   ]
  },
  {
   "cell_type": "code",
   "execution_count": 5,
   "metadata": {
    "collapsed": false
   },
   "outputs": [],
   "source": [
    "link_length_dict = zload('../temp_files/link_length_dict.pkz')"
   ]
  },
  {
   "cell_type": "code",
   "execution_count": 6,
   "metadata": {
    "collapsed": false
   },
   "outputs": [],
   "source": [
    "import numpy as np\n",
    "\n",
    "# number of links\n",
    "m = 24\n",
    "# number of routes (obtained by counting the rows with '->' in 'path-link_incidence.txt')\n",
    "r = 140\n",
    "\n",
    "# initialize the path-link incidence matrix\n",
    "A = np.zeros((m, r))\n",
    "\n",
    "# read in the manually created path-link incidence file \n",
    "# create path-link incidence matrix A\n",
    "with open('../temp_files/path-link_incidence.txt', 'r') as the_file:\n",
    "    # path counts\n",
    "    i = 0  \n",
    "    for row in the_file:\n",
    "        if '->' in row:\n",
    "            for j in range(m):\n",
    "                if link_label_dict[str(j)] in row:\n",
    "                    A[j, i] = 1\n",
    "            i = i + 1\n",
    "    assert(i == r)\n",
    "zdump(A, '../temp_files/path-link_incidence_matrix.pkz')"
   ]
  },
  {
   "cell_type": "code",
   "execution_count": 7,
   "metadata": {
    "collapsed": false
   },
   "outputs": [
    {
     "data": {
      "text/plain": [
       "21.485922426146935"
      ]
     },
     "execution_count": 7,
     "metadata": {},
     "output_type": "execute_result"
    }
   ],
   "source": [
    "link_length_dict['0'].length"
   ]
  },
  {
   "cell_type": "code",
   "execution_count": 8,
   "metadata": {
    "collapsed": false
   },
   "outputs": [
    {
     "data": {
      "text/plain": [
       "{'1->2': 0,\n",
       " '1->3': 2,\n",
       " '2->1': 1,\n",
       " '2->3': 4,\n",
       " '2->4': 6,\n",
       " '3->1': 3,\n",
       " '3->2': 5,\n",
       " '3->5': 8,\n",
       " '3->6': 10,\n",
       " '4->2': 7,\n",
       " '4->5': 12,\n",
       " '4->8': 16,\n",
       " '5->3': 9,\n",
       " '5->4': 13,\n",
       " '5->6': 14,\n",
       " '5->7': 18,\n",
       " '6->3': 11,\n",
       " '6->5': 15,\n",
       " '6->7': 20,\n",
       " '7->5': 19,\n",
       " '7->6': 21,\n",
       " '7->8': 22,\n",
       " '8->4': 17,\n",
       " '8->7': 23}"
      ]
     },
     "execution_count": 8,
     "metadata": {},
     "output_type": "execute_result"
    }
   ],
   "source": [
    "link_label_dict_"
   ]
  },
  {
   "cell_type": "code",
   "execution_count": 9,
   "metadata": {
    "collapsed": false
   },
   "outputs": [],
   "source": [
    "# read in the manually created path-link incidence file \n",
    "# calculate length of each route\n",
    "\n",
    "length_of_route_list = []\n",
    "with open('../temp_files/path-link_incidence.txt', 'r') as the_file:\n",
    "    for row in the_file:\n",
    "        if '->' in row:\n",
    "            link_list = []\n",
    "            node_list = []\n",
    "            for i in row.split('->'):\n",
    "                node_list.append(int(i))\n",
    "            for i in range(len(node_list))[:-1]:\n",
    "                link_list.append('%d->%d' %(node_list[i], node_list[i+1]))\n",
    "            length_of_route = sum([link_length_dict[str(link_label_dict_[link])].length \\\n",
    "                                  for link in link_list])\n",
    "            length_of_route_list.append(length_of_route)\n",
    "zdump(length_of_route_list, '../temp_files/length_of_route_list.pkz')"
   ]
  },
  {
   "cell_type": "code",
   "execution_count": 10,
   "metadata": {
    "collapsed": false
   },
   "outputs": [
    {
     "data": {
      "text/plain": [
       "14.194653045839052"
      ]
     },
     "execution_count": 10,
     "metadata": {},
     "output_type": "execute_result"
    }
   ],
   "source": [
    "length_of_route_list[139]"
   ]
  },
  {
   "cell_type": "code",
   "execution_count": 11,
   "metadata": {
    "collapsed": true
   },
   "outputs": [],
   "source": [
    "OD_pair_label_dict = zload('../temp_files/OD_pair_label_dict.pkz')"
   ]
  },
  {
   "cell_type": "code",
   "execution_count": 12,
   "metadata": {
    "collapsed": false
   },
   "outputs": [
    {
     "data": {
      "text/plain": [
       "0"
      ]
     },
     "execution_count": 12,
     "metadata": {},
     "output_type": "execute_result"
    }
   ],
   "source": [
    "OD_pair_label_dict['(1, 2)']"
   ]
  },
  {
   "cell_type": "code",
   "execution_count": 13,
   "metadata": {
    "collapsed": false
   },
   "outputs": [],
   "source": [
    "# read in the manually created path-link incidence file \n",
    "# create label of each route\n",
    "\n",
    "OD_pair_route_label_list = []\n",
    "OD_pair_idx_list = []\n",
    "route_idx_list = []\n",
    "with open('../temp_files/path-link_incidence.txt', 'r') as the_file:\n",
    "    route_idx = 0\n",
    "    for row in the_file:\n",
    "        if '->' in row:\n",
    "            node_list = []\n",
    "            for i in row.split('->'):\n",
    "                node_list.append(int(i))\n",
    "            OD_pair_idx = OD_pair_label_dict[str((node_list[0], node_list[-1]))]\n",
    "            OD_pair_idx_list.append(OD_pair_idx)\n",
    "            route_idx_list.append(route_idx)\n",
    "            OD_pair_route_label_list.append((OD_pair_idx, route_idx))\n",
    "            route_idx += 1"
   ]
  },
  {
   "cell_type": "code",
   "execution_count": 14,
   "metadata": {
    "collapsed": false
   },
   "outputs": [],
   "source": [
    "OD_pair_route_dict = {}\n",
    "\n",
    "for i in range(56):\n",
    "    route_list = []\n",
    "    for r in range(140):\n",
    "        if OD_pair_idx_list[r] == i:\n",
    "            route_list.append(r)\n",
    "    OD_pair_route_dict[str(i)] = route_list\n",
    "zdump(OD_pair_route_dict, '../temp_files/OD_pair_route_dict.pkz')"
   ]
  },
  {
   "cell_type": "code",
   "execution_count": 15,
   "metadata": {
    "collapsed": false
   },
   "outputs": [
    {
     "data": {
      "text/plain": [
       "[18, 19, 20, 21, 22]"
      ]
     },
     "execution_count": 15,
     "metadata": {},
     "output_type": "execute_result"
    }
   ],
   "source": [
    "OD_pair_route_dict['6']"
   ]
  },
  {
   "cell_type": "code",
   "execution_count": 16,
   "metadata": {
    "collapsed": false
   },
   "outputs": [
    {
     "data": {
      "text/plain": [
       "0.36787944117144233"
      ]
     },
     "execution_count": 16,
     "metadata": {},
     "output_type": "execute_result"
    }
   ],
   "source": [
    "from math import exp\n",
    "\n",
    "exp(-1)"
   ]
  },
  {
   "cell_type": "code",
   "execution_count": 17,
   "metadata": {
    "collapsed": false
   },
   "outputs": [],
   "source": [
    "import numpy as np\n",
    "from math import exp\n",
    "\n",
    "# calculate route choice probability matrix P\n",
    "\n",
    "# logit choice parameter\n",
    "theta = 0.5\n",
    "\n",
    "P = np.zeros((56, 140))\n",
    "for i in range(56):\n",
    "    for r in OD_pair_route_dict[str(i)]:\n",
    "        P[i, r] = exp(- theta * length_of_route_list[r]) / \\\n",
    "                    sum([exp(- theta * length_of_route_list[j]) \\\n",
    "                         for j in OD_pair_route_dict[str(i)]])\n",
    "zdump(P, '../temp_files/logit_route_choice_probability_matrix.pkz')"
   ]
  },
  {
   "cell_type": "code",
   "execution_count": 18,
   "metadata": {
    "collapsed": false
   },
   "outputs": [
    {
     "data": {
      "text/plain": [
       "(0.91102021860568971, 0.039370036355052901, 0.049609745039257337)"
      ]
     },
     "execution_count": 18,
     "metadata": {},
     "output_type": "execute_result"
    }
   ],
   "source": [
    "P[2, 3], P[2, 4], P[2, 5]"
   ]
  },
  {
   "cell_type": "code",
   "execution_count": 19,
   "metadata": {
    "collapsed": false
   },
   "outputs": [
    {
     "data": {
      "text/plain": [
       "(59.12053772448086, 65.4036578494757, 64.94129333222983)"
      ]
     },
     "execution_count": 19,
     "metadata": {},
     "output_type": "execute_result"
    }
   ],
   "source": [
    "length_of_route_list[3], length_of_route_list[4], length_of_route_list[5]"
   ]
  },
  {
   "cell_type": "code",
   "execution_count": 20,
   "metadata": {
    "collapsed": false
   },
   "outputs": [
    {
     "data": {
      "text/plain": [
       "0.99999999999999989"
      ]
     },
     "execution_count": 20,
     "metadata": {},
     "output_type": "execute_result"
    }
   ],
   "source": [
    "sum(P[2,:])"
   ]
  },
  {
   "cell_type": "code",
   "execution_count": 21,
   "metadata": {
    "collapsed": false
   },
   "outputs": [],
   "source": [
    "link_list = []\n",
    "node_list = []\n",
    "for i in '1->2->3->5->4'.split('->'):\n",
    "    node_list.append(int(i))\n",
    "for i in range(len(node_list))[:-1]:\n",
    "    link_list.append('%d->%d' %(node_list[i], node_list[i+1]))"
   ]
  },
  {
   "cell_type": "code",
   "execution_count": 22,
   "metadata": {
    "collapsed": false
   },
   "outputs": [
    {
     "data": {
      "text/plain": [
       "[1, 2, 3, 5, 4]"
      ]
     },
     "execution_count": 22,
     "metadata": {},
     "output_type": "execute_result"
    }
   ],
   "source": [
    "node_list"
   ]
  },
  {
   "cell_type": "code",
   "execution_count": 23,
   "metadata": {
    "collapsed": false
   },
   "outputs": [
    {
     "data": {
      "text/plain": [
       "['1->2', '2->3', '3->5', '5->4']"
      ]
     },
     "execution_count": 23,
     "metadata": {},
     "output_type": "execute_result"
    }
   ],
   "source": [
    "link_list"
   ]
  },
  {
   "cell_type": "code",
   "execution_count": 24,
   "metadata": {
    "collapsed": false
   },
   "outputs": [
    {
     "data": {
      "text/plain": [
       "[0, 1, 2, 3]"
      ]
     },
     "execution_count": 24,
     "metadata": {},
     "output_type": "execute_result"
    }
   ],
   "source": [
    "range(5)[:-1]"
   ]
  },
  {
   "cell_type": "code",
   "execution_count": 25,
   "metadata": {
    "collapsed": false
   },
   "outputs": [
    {
     "data": {
      "text/plain": [
       "{'0': '1->2',\n",
       " '1': '2->1',\n",
       " '10': '3->6',\n",
       " '11': '6->3',\n",
       " '12': '4->5',\n",
       " '13': '5->4',\n",
       " '14': '5->6',\n",
       " '15': '6->5',\n",
       " '16': '4->8',\n",
       " '17': '8->4',\n",
       " '18': '5->7',\n",
       " '19': '7->5',\n",
       " '2': '1->3',\n",
       " '20': '6->7',\n",
       " '21': '7->6',\n",
       " '22': '7->8',\n",
       " '23': '8->7',\n",
       " '3': '3->1',\n",
       " '4': '2->3',\n",
       " '5': '3->2',\n",
       " '6': '2->4',\n",
       " '7': '4->2',\n",
       " '8': '3->5',\n",
       " '9': '5->3'}"
      ]
     },
     "execution_count": 25,
     "metadata": {},
     "output_type": "execute_result"
    }
   ],
   "source": [
    "link_label_dict"
   ]
  },
  {
   "cell_type": "code",
   "execution_count": 26,
   "metadata": {
    "collapsed": false
   },
   "outputs": [
    {
     "data": {
      "text/plain": [
       "array([ 0.,  0.,  0.,  0.,  0.,  0.,  0.,  0.,  0.,  0.,  0.,  0.,  0.,\n",
       "        0.,  0.,  0.,  0.,  0.,  0.,  0.,  0.,  0.,  0.,  0.,  0.,  0.,\n",
       "        0.,  0.,  0.,  0.,  0.,  0.,  0.,  0.,  0.,  0.,  0.,  0.,  0.,\n",
       "        0.,  0.,  0.,  0.,  0.,  0.,  0.,  0.,  0.,  0.,  0.,  0.,  0.,\n",
       "        0.,  0.,  0.,  0.,  0.,  0.,  0.,  0.,  0.,  0.,  0.,  0.,  0.,\n",
       "        1.,  0.,  0.,  0.,  0.,  0.,  0.,  0.,  0.,  0.,  0.,  0.,  0.,\n",
       "        0.,  0.,  0.,  0.,  0.,  0.,  0.,  0.,  0.,  0.,  0.,  0.,  0.,\n",
       "        0.,  0.,  0.,  0.,  0.,  0.,  0.,  0.,  0.,  0.,  0.,  0.,  0.,\n",
       "        0.,  0.,  0.,  0.,  0.,  0.,  0.,  0.,  0.,  0.,  0.,  0.,  0.,\n",
       "        0.,  0.,  0.,  1.,  1.,  1.,  1.,  0.,  1.,  1.,  0.,  0.,  1.,\n",
       "        1.,  0.,  0.,  1.,  1.,  1.,  0.,  1.,  1.,  1.])"
      ]
     },
     "execution_count": 26,
     "metadata": {},
     "output_type": "execute_result"
    }
   ],
   "source": [
    "A[23]"
   ]
  },
  {
   "cell_type": "code",
   "execution_count": 27,
   "metadata": {
    "collapsed": false
   },
   "outputs": [
    {
     "data": {
      "text/plain": [
       "140"
      ]
     },
     "execution_count": 27,
     "metadata": {},
     "output_type": "execute_result"
    }
   ],
   "source": [
    "np.size(A, 1)"
   ]
  },
  {
   "cell_type": "code",
   "execution_count": 28,
   "metadata": {
    "collapsed": true
   },
   "outputs": [],
   "source": [
    "B = np.ones((140, 2))"
   ]
  },
  {
   "cell_type": "code",
   "execution_count": 29,
   "metadata": {
    "collapsed": false
   },
   "outputs": [
    {
     "data": {
      "text/plain": [
       "array([[ 13.,  13.],\n",
       "       [ 13.,  13.],\n",
       "       [ 10.,  10.],\n",
       "       [ 10.,  10.],\n",
       "       [ 22.,  22.],\n",
       "       [ 22.,  22.],\n",
       "       [  4.,   4.],\n",
       "       [  4.,   4.],\n",
       "       [ 24.,  24.],\n",
       "       [ 24.,  24.],\n",
       "       [ 20.,  20.],\n",
       "       [ 20.,  20.],\n",
       "       [ 16.,  16.],\n",
       "       [ 16.,  16.],\n",
       "       [ 17.,  17.],\n",
       "       [ 17.,  17.],\n",
       "       [  7.,   7.],\n",
       "       [  7.,   7.],\n",
       "       [ 16.,  16.],\n",
       "       [ 16.,  16.],\n",
       "       [ 15.,  15.],\n",
       "       [ 15.,  15.],\n",
       "       [ 15.,  15.],\n",
       "       [ 15.,  15.]])"
      ]
     },
     "execution_count": 29,
     "metadata": {},
     "output_type": "execute_result"
    }
   ],
   "source": [
    "np.dot(A, B)"
   ]
  },
  {
   "cell_type": "code",
   "execution_count": null,
   "metadata": {
    "collapsed": true
   },
   "outputs": [],
   "source": []
  }
 ],
 "metadata": {
  "kernelspec": {
   "display_name": "Python 2",
   "language": "python",
   "name": "python2"
  },
  "language_info": {
   "codemirror_mode": {
    "name": "ipython",
    "version": 2
   },
   "file_extension": ".py",
   "mimetype": "text/x-python",
   "name": "python",
   "nbconvert_exporter": "python",
   "pygments_lexer": "ipython2",
   "version": "2.7.11"
  }
 },
 "nbformat": 4,
 "nbformat_minor": 0
}
