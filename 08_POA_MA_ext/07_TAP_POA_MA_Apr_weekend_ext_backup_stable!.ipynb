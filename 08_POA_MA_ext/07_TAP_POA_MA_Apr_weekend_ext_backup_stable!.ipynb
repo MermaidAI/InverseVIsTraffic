{
 "cells": [
  {
   "cell_type": "code",
   "execution_count": 1,
   "metadata": {
    "collapsed": true
   },
   "outputs": [],
   "source": [
    "using JSON\n",
    "\n",
    "#load OD pair-route incidence\n",
    "odPairRoute = readall(\"od_pair_route_incidence_MA_ext.json\");\n",
    "odPairRoute = JSON.parse(odPairRoute);\n",
    "\n",
    "#load link-route incidence\n",
    "linkRoute = readall(\"link_route_incidence_MA_ext.json\");\n",
    "linkRoute = JSON.parse(linkRoute);\n",
    "\n",
    "#load OD pair labels\n",
    "odPairLabel = readall(\"od_pair_label_dict_MA_refined_ext.json\");\n",
    "odPairLabel = JSON.parse(odPairLabel);\n",
    "\n",
    "odPairLabel_ = readall(\"od_pair_label_dict__MA_refined_ext.json\");\n",
    "odPairLabel_ = JSON.parse(odPairLabel_);\n",
    "\n",
    "#load link labels\n",
    "linkLabel = readall(\"link_label_dict_MA_ext.json\");\n",
    "linkLabel = JSON.parse(linkLabel);\n",
    "\n",
    "linkLabel_ = readall(\"link_label_dict_MA__ext.json\");\n",
    "linkLabel_ = JSON.parse(linkLabel_);\n",
    "\n",
    "#load node-link incidence\n",
    "nodeLink = readall(\"node_link_incidence_MA_ext.json\");\n",
    "nodeLink = JSON.parse(nodeLink);"
   ]
  },
  {
   "cell_type": "code",
   "execution_count": 2,
   "metadata": {
    "collapsed": false
   },
   "outputs": [
    {
     "data": {
      "text/plain": [
       "load_ta_network (generic function with 2 methods)"
      ]
     },
     "execution_count": 2,
     "metadata": {},
     "output_type": "execute_result"
    }
   ],
   "source": [
    "include(\"load_network_uni-class.jl\")"
   ]
  },
  {
   "cell_type": "code",
   "execution_count": 3,
   "metadata": {
    "collapsed": false
   },
   "outputs": [],
   "source": [
    "ta_data = load_ta_network(\"MA_Apr_weekend_ext\");"
   ]
  },
  {
   "cell_type": "code",
   "execution_count": 4,
   "metadata": {
    "collapsed": false
   },
   "outputs": [],
   "source": [
    "capacity = ta_data.capacity;\n",
    "free_flow_time = ta_data.free_flow_time;"
   ]
  },
  {
   "cell_type": "code",
   "execution_count": 5,
   "metadata": {
    "collapsed": false
   },
   "outputs": [],
   "source": [
    "demandsDict = readall(\"../08_develop_new_OD_demand_estimator_MA_Dijkstra_uni_class_Apr_weekend/results/demandsDictFixed1.json\");\n",
    "demandsDict = JSON.parse(demandsDict);"
   ]
  },
  {
   "cell_type": "code",
   "execution_count": 6,
   "metadata": {
    "collapsed": false
   },
   "outputs": [
    {
     "data": {
      "text/plain": [
       "Dict{UTF8String,Any} with 484 entries:\n",
       "  \"(16,1)\"  => 0.0\n",
       "  \"(11,20)\" => 77.46554012209326\n",
       "  \"(2,8)\"   => 0.0\n",
       "  \"(3,22)\"  => 0.0\n",
       "  \"(20,1)\"  => 0.0\n",
       "  \"(14,5)\"  => 0.0\n",
       "  \"(19,5)\"  => 0.0\n",
       "  \"(11,1)\"  => 0.0\n",
       "  \"(9,6)\"   => 0.0\n",
       "  \"(2,17)\"  => 0.0\n",
       "  \"(15,20)\" => 73.18127123342225\n",
       "  \"(8,12)\"  => 0.0\n",
       "  \"(22,20)\" => 0.0\n",
       "  \"(8,9)\"   => 9.269549717518359\n",
       "  \"(14,11)\" => 3.425299799596956\n",
       "  \"(15,22)\" => 0.0\n",
       "  \"(13,16)\" => 470.61705551061226\n",
       "  \"(19,2)\"  => 0.0\n",
       "  \"(2,18)\"  => 0.0\n",
       "  \"(11,17)\" => 0.0\n",
       "  \"(11,7)\"  => 0.0\n",
       "  \"(3,3)\"   => 0.0\n",
       "  \"(15,21)\" => 13.57008000222226\n",
       "  \"(4,1)\"   => 409.9983112770102\n",
       "  \"(16,3)\"  => 0.0\n",
       "  ⋮         => ⋮"
      ]
     },
     "execution_count": 6,
     "metadata": {},
     "output_type": "execute_result"
    }
   ],
   "source": [
    "# demands = demandsDict[\"$(length(demandsDict)-1)\"]\n",
    "\n",
    "demands = demandsDict"
   ]
  },
  {
   "cell_type": "code",
   "execution_count": 7,
   "metadata": {
    "collapsed": false
   },
   "outputs": [],
   "source": [
    "odPairLabel_;"
   ]
  },
  {
   "cell_type": "code",
   "execution_count": 8,
   "metadata": {
    "collapsed": false
   },
   "outputs": [],
   "source": [
    "demandsVec = zeros(462)\n",
    "\n",
    "for i = 1:length(demandsVec)\n",
    "    demandsVec[i] = demands[\"($(odPairLabel_[\"$i\"][1]),$(odPairLabel_[\"$i\"][2]))\"]\n",
    "end"
   ]
  },
  {
   "cell_type": "code",
   "execution_count": 9,
   "metadata": {
    "collapsed": false
   },
   "outputs": [
    {
     "data": {
      "text/plain": [
       "462-element Array{Float64,1}:\n",
       "  30.7515\n",
       " 187.255 \n",
       " 287.624 \n",
       "   0.0   \n",
       " 261.377 \n",
       "  86.4444\n",
       "   0.0   \n",
       "   0.0   \n",
       "   0.0   \n",
       "   0.0   \n",
       " 274.937 \n",
       "   0.0   \n",
       "   0.0   \n",
       "   ⋮     \n",
       "   0.0   \n",
       "   0.0   \n",
       "   0.0   \n",
       "   0.0   \n",
       "   0.0   \n",
       "   0.0   \n",
       "   0.0   \n",
       "   0.0   \n",
       "   0.0   \n",
       "   0.0   \n",
       "   0.0   \n",
       "   0.0   "
      ]
     },
     "execution_count": 9,
     "metadata": {},
     "output_type": "execute_result"
    }
   ],
   "source": [
    "demandsVec"
   ]
  },
  {
   "cell_type": "code",
   "execution_count": 10,
   "metadata": {
    "collapsed": false
   },
   "outputs": [
    {
     "name": "stdout",
     "output_type": "stream",
     "text": [
      "462-329\n"
     ]
    }
   ],
   "source": [
    "for key=keys(odPairRoute)\n",
    "    if contains(key, \"462-\")\n",
    "        println(key)\n",
    "    end\n",
    "end"
   ]
  },
  {
   "cell_type": "code",
   "execution_count": 11,
   "metadata": {
    "collapsed": false
   },
   "outputs": [
    {
     "data": {
      "text/plain": [
       "Dict{UTF8String,Any} with 1729 entries:\n",
       "  \"24-106\" => 1.0\n",
       "  \"42-74\"  => 1.0\n",
       "  \"42-365\" => 1.0\n",
       "  \"60-8\"   => 1.0\n",
       "  \"73-260\" => 1.0\n",
       "  \"22-355\" => 1.0\n",
       "  \"19-180\" => 1.0\n",
       "  \"62-421\" => 1.0\n",
       "  \"68-199\" => 1.0\n",
       "  \"2-47\"   => 1.0\n",
       "  \"66-86\"  => 1.0\n",
       "  \"50-450\" => 1.0\n",
       "  \"7-225\"  => 1.0\n",
       "  \"32-306\" => 1.0\n",
       "  \"40-13\"  => 1.0\n",
       "  \"39-243\" => 1.0\n",
       "  \"1-225\"  => 1.0\n",
       "  \"41-157\" => 1.0\n",
       "  \"28-23\"  => 1.0\n",
       "  \"70-83\"  => 1.0\n",
       "  \"40-1\"   => 1.0\n",
       "  \"50-273\" => 1.0\n",
       "  \"8-28\"   => 1.0\n",
       "  \"6-291\"  => 1.0\n",
       "  \"57-195\" => 1.0\n",
       "  ⋮        => ⋮"
      ]
     },
     "execution_count": 11,
     "metadata": {},
     "output_type": "execute_result"
    }
   ],
   "source": [
    "linkRoute"
   ]
  },
  {
   "cell_type": "code",
   "execution_count": 12,
   "metadata": {
    "collapsed": false
   },
   "outputs": [
    {
     "data": {
      "text/plain": [
       "7-element Array{Any,1}:\n",
       "  1.0       \n",
       "  0.00268857\n",
       "  0.0114664 \n",
       " -0.00834401\n",
       "  0.0234205 \n",
       " -0.0137301 \n",
       "  0.00429399"
      ]
     },
     "execution_count": 12,
     "metadata": {},
     "output_type": "execute_result"
    }
   ],
   "source": [
    "deg = 6\n",
    "c = 0.5\n",
    "lam = 10000.0\n",
    "\n",
    "coeffs_dict = readall(\"../temp_files/coeffs_dict_Apr_weekend.json\")\n",
    "coeffs_dict = JSON.parse(coeffs_dict)\n",
    "fcoeffs = coeffs_dict[\"($(deg),$(c),$(lam),1)\"]\n",
    "\n",
    "# fcoeffs = [1, 0, 0, 0, 0, 0, 0, 0, 0]"
   ]
  },
  {
   "cell_type": "code",
   "execution_count": 13,
   "metadata": {
    "collapsed": false
   },
   "outputs": [
    {
     "name": "stdout",
     "output_type": "stream",
     "text": [
      "\n",
      "******************************************************************************\n",
      "This program contains Ipopt, a library for large-scale nonlinear optimization.\n",
      " Ipopt is released as open source code under the Eclipse Public License (EPL).\n",
      "         For more information visit http://projects.coin-or.org/Ipopt\n",
      "******************************************************************************\n",
      "\n",
      "This is Ipopt version 3.12.1, running with linear solver mumps.\n",
      "NOTE: Other linear solvers might be more efficient (see Ipopt documentation).\n",
      "\n",
      "Number of nonzeros in equality constraint Jacobian...:     2265\n",
      "Number of nonzeros in inequality constraint Jacobian.:     4614\n",
      "Number of nonzeros in Lagrangian Hessian.............:       74\n",
      "\n",
      "Total number of variables............................:     4688\n",
      "                     variables with only lower bounds:        0\n",
      "                variables with lower and upper bounds:        0\n",
      "                     variables with only upper bounds:        0\n",
      "Total number of equality constraints.................:      536\n",
      "Total number of inequality constraints...............:     4614\n",
      "        inequality constraints with only lower bounds:     4614\n",
      "   inequality constraints with lower and upper bounds:        0\n",
      "        inequality constraints with only upper bounds:        0\n",
      "\n",
      "iter    objective    inf_pr   inf_du lg(mu)  ||d||  lg(rg) alpha_du alpha_pr  ls\n",
      "   0  0.0000000e+00 1.09e+03 5.00e-01  -1.0 0.00e+00    -  0.00e+00 0.00e+00   0\n",
      "   1  7.9779547e+03 1.09e+01 1.08e+05  -1.0 2.95e+03    -  9.09e-06 9.90e-01h  1\n",
      "   2  8.0965855e+03 1.08e-01 1.07e+03  -1.0 2.95e+01    -  9.80e-01 9.90e-01f  1\n",
      "   3  8.0977858e+03 3.58e-07 9.95e+02  -1.0 5.12e+00    -  9.90e-01 1.00e+00f  1\n",
      "   4  8.0977859e+03 4.95e-07 5.31e+00  -1.0 5.12e+02    -  9.95e-01 1.00e+00f  1\n",
      "   5  8.0977858e+03 9.01e-09 2.83e-08  -2.5 1.44e+03    -  1.00e+00 1.00e+00f  1\n",
      "   6  8.0977858e+03 5.08e-09 2.91e-11  -5.7 6.40e+01    -  1.00e+00 1.00e+00h  1\n",
      "   7  8.0977858e+03 5.02e-09 1.46e-11  -8.6 1.33e+02    -  1.00e+00 1.00e+00h  1\n",
      "\n",
      "Number of Iterations....: 7\n",
      "\n",
      "                                   (scaled)                 (unscaled)\n",
      "Objective...............:   8.0977858159733451e+03    8.0977858159733451e+03\n",
      "Dual infeasibility......:   1.4551915228366852e-11    1.4551915228366852e-11\n",
      "Constraint violation....:   5.0204103259920445e-09    5.0204103259920445e-09\n",
      "Complementarity.........:   4.0585597158442315e-09    4.0585597158442315e-09\n",
      "Overall NLP error.......:   5.0204103259920445e-09    5.0204103259920445e-09\n",
      "\n",
      "\n",
      "Number of objective function evaluations             = 8\n",
      "Number of objective gradient evaluations             = 8\n",
      "Number of equality constraint evaluations            = 8\n",
      "Number of inequality constraint evaluations          = 8\n",
      "Number of equality constraint Jacobian evaluations   = 8\n",
      "Number of inequality constraint Jacobian evaluations = 8\n",
      "Number of Lagrangian Hessian evaluations             = 7\n",
      "Total CPU secs in IPOPT (w/o function evaluations)   =      0.296\n",
      "Total CPU secs in NLP function evaluations           =      0.024\n",
      "\n",
      "EXIT: Optimal Solution Found.\n"
     ]
    },
    {
     "data": {
      "text/plain": [
       ":Optimal"
      ]
     },
     "execution_count": 13,
     "metadata": {},
     "output_type": "execute_result"
    }
   ],
   "source": [
    "using JuMP\n",
    "\n",
    "# m = Model(solver=GurobiSolver(OutputFlag=false))\n",
    "m = Model()\n",
    "\n",
    "numLinks = 74\n",
    "numRoute = 4614\n",
    "numOD = 462\n",
    "\n",
    "@defVar(m, linkFlow[1:numLinks])\n",
    "@defVar(m, pathFlow[1:numRoute])\n",
    "\n",
    "pathFlowSum = Dict()\n",
    "\n",
    "for i=1:numOD\n",
    "    pathFlowSum[i] = 0\n",
    "    for j=1:numRoute\n",
    "        if \"$(i)-$(j)\" in keys(odPairRoute)\n",
    "            pathFlowSum[i] += pathFlow[j]\n",
    "        end\n",
    "    end\n",
    "    @addConstraint(m, pathFlowSum[i] == demandsVec[i])\n",
    "end\n",
    "\n",
    "pathFlowLinkSum = Dict()\n",
    "\n",
    "for a=1:numLinks\n",
    "    pathFlowLinkSum[a] = 0\n",
    "    for j=1:numRoute\n",
    "        if \"$(a)-$(j)\" in keys(linkRoute)\n",
    "            pathFlowLinkSum[a] += pathFlow[j]\n",
    "        end\n",
    "    end\n",
    "    @addConstraint(m, pathFlowLinkSum[a] == linkFlow[a])\n",
    "end\n",
    "\n",
    "for j=1:numRoute\n",
    "    @addConstraint(m, pathFlow[j] >= 0)\n",
    "end\n",
    "\n",
    "@defNLExpr(f, sum{free_flow_time[a] * fcoeffs[1] * linkFlow[a] + \n",
    "    free_flow_time[a] * fcoeffs[2] * linkFlow[a]^2 / capacity[a] +\n",
    "    free_flow_time[a] * fcoeffs[3] * linkFlow[a]^3 / capacity[a]^2 +\n",
    "    free_flow_time[a] * fcoeffs[4] * linkFlow[a]^4 / capacity[a]^3 +\n",
    "    free_flow_time[a] * fcoeffs[5] * linkFlow[a]^5 / capacity[a]^4 +\n",
    "    free_flow_time[a] * fcoeffs[6] * linkFlow[a]^6 / capacity[a]^5 +\n",
    "    free_flow_time[a] * fcoeffs[7] * linkFlow[a]^7 / capacity[a]^6, a = 1:numLinks})\n",
    "\n",
    "@setNLObjective(m, Min, f)\n",
    "\n",
    "solve(m)"
   ]
  },
  {
   "cell_type": "code",
   "execution_count": 14,
   "metadata": {
    "collapsed": false
   },
   "outputs": [
    {
     "data": {
      "text/plain": [
       "74-element Array{Float64,1}:\n",
       "  693.453     \n",
       " 1094.09      \n",
       "  448.632     \n",
       " 2945.37      \n",
       "  298.658     \n",
       " 2159.65      \n",
       "  944.538     \n",
       " 1667.93      \n",
       "  491.379     \n",
       "  791.602     \n",
       "   35.4982    \n",
       "   37.6282    \n",
       "   -5.02041e-9\n",
       "    ⋮         \n",
       "  940.339     \n",
       "  892.708     \n",
       "  802.509     \n",
       " 1393.21      \n",
       "   -9.49996e-8\n",
       "   -9.99996e-9\n",
       "   -9.49996e-8\n",
       "   -9.99996e-9\n",
       "  351.459     \n",
       "  687.401     \n",
       "  638.695     \n",
       "  478.043     "
      ]
     },
     "execution_count": 14,
     "metadata": {},
     "output_type": "execute_result"
    }
   ],
   "source": [
    "getValue(linkFlow)"
   ]
  },
  {
   "cell_type": "code",
   "execution_count": 15,
   "metadata": {
    "collapsed": false
   },
   "outputs": [
    {
     "data": {
      "text/plain": [
       "8097.785815973345"
      ]
     },
     "execution_count": 15,
     "metadata": {},
     "output_type": "execute_result"
    }
   ],
   "source": [
    "getObjectiveValue(m)"
   ]
  },
  {
   "cell_type": "code",
   "execution_count": 16,
   "metadata": {
    "collapsed": false
   },
   "outputs": [
    {
     "data": {
      "text/plain": [
       "Dict{(Int64,Int64),Float64} with 74 entries:\n",
       "  (17,15) => 687.4013836643727\n",
       "  (3,6)   => 491.37871267149467\n",
       "  (21,13) => 1038.3016567234538\n",
       "  (22,16) => -9.999959819928062e-9\n",
       "  (19,12) => -1.999991964305247e-8\n",
       "  (22,14) => -9.499961830277479e-8\n",
       "  (15,17) => 351.45876586824306\n",
       "  (10,11) => 421.92344778342357\n",
       "  (13,12) => 0.0\n",
       "  (3,1)   => 2945.369124707012\n",
       "  (16,13) => 892.7079553775958\n",
       "  (4,5)   => 828.2450940454478\n",
       "  (13,16) => 940.3394445857888\n",
       "  (17,16) => 478.0425555830145\n",
       "  (20,13) => 925.9678063503316\n",
       "  (12,8)  => 385.9003695948744\n",
       "  (2,4)   => 944.5377707237731\n",
       "  (16,17) => 638.6950688229305\n",
       "  (1,2)   => 693.4531884365739\n",
       "  (14,21) => 829.5914871290009\n",
       "  (2,3)   => 298.65819618447307\n",
       "  (13,19) => 12.051888555161101\n",
       "  (13,14) => 0.0\n",
       "  (16,14) => 1393.2130447323577\n",
       "  (8,12)  => 873.5609038783274\n",
       "  ⋮       => ⋮"
      ]
     },
     "execution_count": 16,
     "metadata": {},
     "output_type": "execute_result"
    }
   ],
   "source": [
    "flows = Dict{(Int64,Int64),Float64}()\n",
    "\n",
    "for i = 1:length(ta_data.start_node)\n",
    "    key = (ta_data.start_node[i], ta_data.end_node[i])\n",
    "    flows[key] = getValue(linkFlow)[i]\n",
    "end\n",
    "\n",
    "flows"
   ]
  },
  {
   "cell_type": "code",
   "execution_count": 17,
   "metadata": {
    "collapsed": false
   },
   "outputs": [],
   "source": [
    "using PyCall\n",
    "unshift!(PyVector(pyimport(\"sys\")[\"path\"]), \"\");\n",
    "@pyimport GLS_Apr_weekend_ext"
   ]
  },
  {
   "cell_type": "code",
   "execution_count": 18,
   "metadata": {
    "collapsed": false
   },
   "outputs": [
    {
     "data": {
      "text/plain": [
       "74x30 Array{Float64,2}:\n",
       " 1366.35    791.95    771.324  …  1015.01        1624.03     280.272\n",
       " 1206.76    992.338   991.158     1000.59        1273.13     570.559\n",
       " 2114.24   1499.68   1200.6       1171.78        1608.83     947.273\n",
       " 2273.84   1299.3     980.768     1186.21        1959.73     656.986\n",
       "   58.465   201.97    271.021       86.5748        40.0646   261.282\n",
       "  139.064   247.675   201.826  …    23.5801       146.69     143.578\n",
       " 1193.7    1571.81   1353.56       781.132       1109.21    1362.48 \n",
       "  953.514  1726.49   1642.59       829.701        651.679   1770.47 \n",
       " 2124.9    1398.79    938.436     1533.92        1629.54    1007.64 \n",
       " 2365.09   1244.1     649.406     1485.35        2087.07     599.646\n",
       "  406.406   514.047   567.011  …   469.666        455.737    655.187\n",
       "  281.997  1677.2    1591.06       204.042        239.965   1660.44 \n",
       "  204.522   246.959  1020.38         1.2451e-13   268.26    1131.08 \n",
       "    ⋮                          ⋱                                    \n",
       "  817.703  3694.71   4035.01       539.09         517.807   4749.93 \n",
       "  654.675  2893.16   2792.29       121.487        649.479   2740.0  \n",
       "  348.819   435.247   540.454      151.217        334.718    811.411\n",
       "  247.996  1766.27   1758.33   …   419.879        319.617   1306.56 \n",
       "  198.088  3603.02   3166.73       324.488        200.642   3347.82 \n",
       "  198.088  3603.02   3166.73       324.488        200.642   3347.82 \n",
       "  243.615  1577.0    2095.88       113.091         82.1073  3797.05 \n",
       "  243.615  1577.0    2095.88       113.091         82.1073  3797.05 \n",
       " 1232.85    270.493   238.254  …   302.312       1071.01     126.3  \n",
       " 1451.18   1767.05   1333.95       662.65        1072.97    1191.85 \n",
       " 1589.53   2116.41   1833.29      1010.19        1115.65    1281.76 \n",
       " 1371.21    619.855   737.593      649.854       1113.68     216.21 "
      ]
     },
     "execution_count": 18,
     "metadata": {},
     "output_type": "execute_result"
    }
   ],
   "source": [
    "flow_user = GLS_Apr_weekend_ext.x_"
   ]
  },
  {
   "cell_type": "code",
   "execution_count": 19,
   "metadata": {
    "collapsed": false
   },
   "outputs": [
    {
     "data": {
      "text/plain": [
       "socialObj (generic function with 1 method)"
      ]
     },
     "execution_count": 19,
     "metadata": {},
     "output_type": "execute_result"
    }
   ],
   "source": [
    "function socialObj(linkFlowVec)\n",
    "    objVal = sum([free_flow_time[a] * fcoeffs[1] * linkFlowVec[a] + \n",
    "        free_flow_time[a] * fcoeffs[2] * linkFlowVec[a]^2 / capacity[a] + \n",
    "        free_flow_time[a] * fcoeffs[3] * linkFlowVec[a]^3 / capacity[a]^2 + \n",
    "        free_flow_time[a] * fcoeffs[4] * linkFlowVec[a]^4 / capacity[a]^3 + \n",
    "        free_flow_time[a] * fcoeffs[5] * linkFlowVec[a]^5 / capacity[a]^4 + \n",
    "        free_flow_time[a] * fcoeffs[6] * linkFlowVec[a]^6 / capacity[a]^5 + \n",
    "        free_flow_time[a] * fcoeffs[7] * linkFlowVec[a]^7 / capacity[a]^6 for a = 1:numLinks])\n",
    "    return objVal\n",
    "end"
   ]
  },
  {
   "cell_type": "code",
   "execution_count": 20,
   "metadata": {
    "collapsed": false
   },
   "outputs": [
    {
     "name": "stdout",
     "output_type": "stream",
     "text": [
      "1.1031084747780133\n",
      "0.8528166089135252\n",
      "1.2710336880796254\n",
      "0.7736200889352572\n",
      "1.1092363627794535\n",
      "0.7611861294427611\n",
      "1.0770833909241309\n",
      "0.7730301302101971\n",
      "0.8953988022852275\n"
     ]
    }
   ],
   "source": [
    "weekend_Apr_list = [1, 7, 8, 14, 15, 21, 22, 28, 29]\n",
    "\n",
    "for i in weekend_Apr_list\n",
    "    println(socialObj(flow_user[:, i])/getObjectiveValue(m))\n",
    "end"
   ]
  },
  {
   "cell_type": "code",
   "execution_count": 21,
   "metadata": {
    "collapsed": false
   },
   "outputs": [
    {
     "data": {
      "text/plain": [
       "9"
      ]
     },
     "execution_count": 21,
     "metadata": {},
     "output_type": "execute_result"
    }
   ],
   "source": [
    "length(weekend_Apr_list)"
   ]
  }
 ],
 "metadata": {
  "kernelspec": {
   "display_name": "Julia 0.3.7",
   "language": "julia",
   "name": "julia-0.3"
  },
  "language_info": {
   "file_extension": ".jl",
   "mimetype": "application/julia",
   "name": "julia",
   "version": "0.3.7"
  }
 },
 "nbformat": 4,
 "nbformat_minor": 0
}
