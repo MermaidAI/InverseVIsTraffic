{
 "cells": [
  {
   "cell_type": "code",
   "execution_count": 1,
   "metadata": {
    "collapsed": true
   },
   "outputs": [],
   "source": [
    "using PyCall"
   ]
  },
  {
   "cell_type": "code",
   "execution_count": 2,
   "metadata": {
    "collapsed": false
   },
   "outputs": [],
   "source": [
    "unshift!(PyVector(pyimport(\"sys\")[\"path\"]), \"\");"
   ]
  },
  {
   "cell_type": "code",
   "execution_count": 3,
   "metadata": {
    "collapsed": false
   },
   "outputs": [
    {
     "ename": "LoadError",
     "evalue": "PyError (:PyImport_ImportModule) <type 'exceptions.ImportError'>\nImportError('No module named gurobipy',)\n  File \"Compute_Jacobian_Sioux.py\", line 1, in <module>\n    from util import *\n  File \"util.py\", line 5, in <module>\n    from gurobipy import *\n\nwhile loading In[3], in expression starting on line 341",
     "output_type": "error",
     "traceback": [
      "PyError (:PyImport_ImportModule) <type 'exceptions.ImportError'>\nImportError('No module named gurobipy',)\n  File \"Compute_Jacobian_Sioux.py\", line 1, in <module>\n    from util import *\n  File \"util.py\", line 5, in <module>\n    from gurobipy import *\n\nwhile loading In[3], in expression starting on line 341",
      "",
      " in pyerr_check at /home/jzh/.julia/v0.3/PyCall/src/exception.jl:61",
      " in pyimport at /home/jzh/.julia/v0.3/PyCall/src/PyCall.jl:81"
     ]
    }
   ],
   "source": [
    "@pyimport Compute_Jacobian_Sioux"
   ]
  },
  {
   "cell_type": "code",
   "execution_count": 4,
   "metadata": {
    "collapsed": false
   },
   "outputs": [
    {
     "ename": "LoadError",
     "evalue": "Compute_Jacobian_Sioux not defined\nwhile loading In[4], in expression starting on line 1",
     "output_type": "error",
     "traceback": [
      "Compute_Jacobian_Sioux not defined\nwhile loading In[4], in expression starting on line 1",
      ""
     ]
    }
   ],
   "source": [
    "numNodes = Compute_Jacobian_Sioux.numNodes;\n",
    "numLinks = Compute_Jacobian_Sioux.numLinks;\n",
    "numODpairs = Compute_Jacobian_Sioux.numODpairs;\n",
    "od_pairs = Compute_Jacobian_Sioux.od_pairs;\n",
    "link_list_js = Compute_Jacobian_Sioux.link_list_js;\n",
    "link_length_list = Compute_Jacobian_Sioux.link_length_list;"
   ]
  },
  {
   "cell_type": "code",
   "execution_count": 5,
   "metadata": {
    "collapsed": false
   },
   "outputs": [
    {
     "ename": "LoadError",
     "evalue": "Compute_Jacobian_Sioux not defined\nwhile loading In[5], in expression starting on line 1",
     "output_type": "error",
     "traceback": [
      "Compute_Jacobian_Sioux not defined\nwhile loading In[5], in expression starting on line 1",
      ""
     ]
    }
   ],
   "source": [
    "jacob = Compute_Jacobian_Sioux.jacobianSpiess(numNodes, numLinks, numODpairs, od_pairs, \n",
    "                                              link_list_js, link_length_list)"
   ]
  },
  {
   "cell_type": "code",
   "execution_count": null,
   "metadata": {
    "collapsed": true
   },
   "outputs": [],
   "source": []
  }
 ],
 "metadata": {
  "kernelspec": {
   "display_name": "Julia 0.3.7",
   "language": "julia",
   "name": "julia-0.3"
  },
  "language_info": {
   "file_extension": ".jl",
   "mimetype": "application/julia",
   "name": "julia",
   "version": "0.3.7"
  }
 },
 "nbformat": 4,
 "nbformat_minor": 0
}
