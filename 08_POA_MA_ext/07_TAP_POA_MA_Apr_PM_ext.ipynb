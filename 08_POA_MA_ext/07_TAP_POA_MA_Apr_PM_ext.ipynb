{
 "cells": [
  {
   "cell_type": "code",
   "execution_count": 1,
   "metadata": {
    "collapsed": false
   },
   "outputs": [],
   "source": [
    "using JSON\n",
    "\n",
    "#load OD pair-route incidence\n",
    "odPairRoute = readall(\"od_pair_route_incidence_MA_ext.json\");\n",
    "odPairRoute = JSON.parse(odPairRoute);\n",
    "\n",
    "#load link-route incidence\n",
    "linkRoute = readall(\"link_route_incidence_MA_ext.json\");\n",
    "linkRoute = JSON.parse(linkRoute);\n",
    "\n",
    "#load OD pair labels\n",
    "odPairLabel = readall(\"od_pair_label_dict_MA_refined_ext.json\");\n",
    "odPairLabel = JSON.parse(odPairLabel);\n",
    "\n",
    "odPairLabel_ = readall(\"od_pair_label_dict__MA_refined_ext.json\");\n",
    "odPairLabel_ = JSON.parse(odPairLabel_);\n",
    "\n",
    "#load link labels\n",
    "linkLabel = readall(\"link_label_dict_MA_ext.json\");\n",
    "linkLabel = JSON.parse(linkLabel);\n",
    "\n",
    "linkLabel_ = readall(\"link_label_dict_MA__ext.json\");\n",
    "linkLabel_ = JSON.parse(linkLabel_);\n",
    "\n",
    "#load node-link incidence\n",
    "nodeLink = readall(\"node_link_incidence_MA_ext.json\");\n",
    "nodeLink = JSON.parse(nodeLink);"
   ]
  },
  {
   "cell_type": "code",
   "execution_count": 2,
   "metadata": {
    "collapsed": false
   },
   "outputs": [
    {
     "data": {
      "text/plain": [
       "load_ta_network (generic function with 2 methods)"
      ]
     },
     "execution_count": 2,
     "metadata": {},
     "output_type": "execute_result"
    }
   ],
   "source": [
    "include(\"load_network_uni-class.jl\")"
   ]
  },
  {
   "cell_type": "code",
   "execution_count": 3,
   "metadata": {
    "collapsed": false
   },
   "outputs": [],
   "source": [
    "ta_data = load_ta_network(\"East_Massachusetts_Apr_PM_ext\");"
   ]
  },
  {
   "cell_type": "code",
   "execution_count": 4,
   "metadata": {
    "collapsed": false
   },
   "outputs": [],
   "source": [
    "capacity = ta_data.capacity;\n",
    "free_flow_time = ta_data.free_flow_time;"
   ]
  },
  {
   "cell_type": "code",
   "execution_count": 5,
   "metadata": {
    "collapsed": false
   },
   "outputs": [],
   "source": [
    "############\n",
    "#Read in the demand file\n",
    "file = open(\"../data_traffic_assignment_uni-class/East_Massachusetts_trips_Apr_PM_ext.txt\")\n",
    "demands = Dict{(Int64,Int64), Float64}()\n",
    "s = 0\n",
    "for line in eachline(file)\n",
    "    if contains(line, \"Origin\")\n",
    "        s = int(split(line)[2])\n",
    "    else\n",
    "        pairs = split(line, \";\")\n",
    "        for pair in pairs\n",
    "            if !contains(pair, \"\\n\")\n",
    "                pair_vals = split(pair, \":\")\n",
    "                t, demand = int(pair_vals[1]), float(pair_vals[2])\n",
    "                demands[(s,t)] = demand \n",
    "            end\n",
    "        end\n",
    "    end\n",
    "end                \n",
    "close(file)"
   ]
  },
  {
   "cell_type": "code",
   "execution_count": 6,
   "metadata": {
    "collapsed": false
   },
   "outputs": [],
   "source": [
    "demands;"
   ]
  },
  {
   "cell_type": "code",
   "execution_count": 7,
   "metadata": {
    "collapsed": false
   },
   "outputs": [],
   "source": [
    "odPairLabel_;"
   ]
  },
  {
   "cell_type": "code",
   "execution_count": 8,
   "metadata": {
    "collapsed": false
   },
   "outputs": [],
   "source": [
    "demandsVec = zeros(462)\n",
    "\n",
    "for i = 1:length(demandsVec)\n",
    "    demandsVec[i] = demands[(odPairLabel_[\"$i\"][1], odPairLabel_[\"$i\"][2])]\n",
    "end"
   ]
  },
  {
   "cell_type": "code",
   "execution_count": 9,
   "metadata": {
    "collapsed": false
   },
   "outputs": [],
   "source": [
    "demandsVec;"
   ]
  },
  {
   "cell_type": "code",
   "execution_count": 10,
   "metadata": {
    "collapsed": false
   },
   "outputs": [
    {
     "name": "stdout",
     "output_type": "stream",
     "text": [
      "462-329\n"
     ]
    }
   ],
   "source": [
    "for key=keys(odPairRoute)\n",
    "    if contains(key, \"462-\")\n",
    "        println(key)\n",
    "    end\n",
    "end"
   ]
  },
  {
   "cell_type": "code",
   "execution_count": 11,
   "metadata": {
    "collapsed": false
   },
   "outputs": [],
   "source": [
    "linkRoute;"
   ]
  },
  {
   "cell_type": "code",
   "execution_count": 12,
   "metadata": {
    "collapsed": false
   },
   "outputs": [
    {
     "data": {
      "text/plain": [
       "9-element Array{Any,1}:\n",
       "  1.0        \n",
       "  0.0337656  \n",
       "  0.0204459  \n",
       "  0.00246414 \n",
       " -0.00619792 \n",
       " -0.00518046 \n",
       " -0.00234895 \n",
       " -0.000318631\n",
       " -7.77438e-5 "
      ]
     },
     "execution_count": 12,
     "metadata": {},
     "output_type": "execute_result"
    }
   ],
   "source": [
    "coeffs_dict_Apr_PM_ = readall(\"../temp_files/coeffs_dict_Apr_PM_ext.json\")\n",
    "coeffs_dict_Apr_PM_ = JSON.parse(coeffs_dict_Apr_PM_)\n",
    "fcoeffs = coeffs_dict_Apr_PM_[\"(8,1.5,100.0,1)\"]\n",
    "\n",
    "# fcoeffs = [1, 0, 0, 0, 0, 0, 0, 0, 0]"
   ]
  },
  {
   "cell_type": "code",
   "execution_count": 13,
   "metadata": {
    "collapsed": false
   },
   "outputs": [
    {
     "name": "stdout",
     "output_type": "stream",
     "text": [
      "\n",
      "******************************************************************************\n",
      "This program contains Ipopt, a library for large-scale nonlinear optimization.\n",
      " Ipopt is released as open source code under the Eclipse Public License (EPL).\n",
      "         For more information visit http://projects.coin-or.org/Ipopt\n",
      "******************************************************************************\n",
      "\n",
      "This is Ipopt version 3.12.1, running with linear solver mumps.\n",
      "NOTE: Other linear solvers might be more efficient (see Ipopt documentation).\n",
      "\n",
      "Number of nonzeros in equality constraint Jacobian...:     2265\n",
      "Number of nonzeros in inequality constraint Jacobian.:      462\n",
      "Number of nonzeros in Lagrangian Hessian.............:       74\n",
      "\n",
      "Total number of variables............................:      536\n",
      "                     variables with only lower bounds:        0\n",
      "                variables with lower and upper bounds:        0\n",
      "                     variables with only upper bounds:        0\n",
      "Total number of equality constraints.................:      536\n",
      "Total number of inequality constraints...............:      462\n",
      "        inequality constraints with only lower bounds:      462\n",
      "   inequality constraints with lower and upper bounds:        0\n",
      "        inequality constraints with only upper bounds:        0\n",
      "\n",
      "iter    objective    inf_pr   inf_du lg(mu)  ||d||  lg(rg) alpha_du alpha_pr  ls\n",
      "   0  0.0000000e+00 3.43e+03 1.00e+00  -1.0 0.00e+00    -  0.00e+00 0.00e+00   0\n",
      "   1  1.1305635e+04 3.43e+01 3.39e+05  -1.0 6.35e+03    -  2.89e-06 9.90e-01h  1\n",
      "   2  1.0792296e+04 3.39e-01 3.36e+03  -1.0 6.35e+01    -  9.80e-01 9.90e-01f  1\n",
      "   3  1.0786929e+04 1.08e-12 4.64e-06  -1.0 6.29e-01    -  1.00e+00 1.00e+00h  1\n",
      "\n",
      "Number of Iterations....: 3\n",
      "\n",
      "                                   (scaled)                 (unscaled)\n",
      "Objective...............:   1.0786929259374823e+04    1.0786929259374823e+04\n",
      "Dual infeasibility......:   6.9527716917150428e-15    6.9527716917150428e-15\n",
      "Constraint violation....:   1.0800249583553523e-12    1.0800249583553523e-12\n",
      "Complementarity.........:   0.0000000000000000e+00    0.0000000000000000e+00\n",
      "Overall NLP error.......:   1.0800249583553523e-12    1.0800249583553523e-12\n",
      "\n",
      "\n",
      "Number of objective function evaluations             = 4\n",
      "Number of objective gradient evaluations             = 4\n",
      "Number of equality constraint evaluations            = 4\n",
      "Number of inequality constraint evaluations          = 4\n",
      "Number of equality constraint Jacobian evaluations   = 4\n",
      "Number of inequality constraint Jacobian evaluations = 4\n",
      "Number of Lagrangian Hessian evaluations             = 3\n",
      "Total CPU secs in IPOPT (w/o function evaluations)   =      0.016\n",
      "Total CPU secs in NLP function evaluations           =      0.012\n",
      "\n",
      "EXIT: Optimal Solution Found.\n"
     ]
    },
    {
     "data": {
      "text/plain": [
       ":Optimal"
      ]
     },
     "execution_count": 13,
     "metadata": {},
     "output_type": "execute_result"
    }
   ],
   "source": [
    "using JuMP\n",
    "\n",
    "# m = Model(solver=GurobiSolver(OutputFlag=false))\n",
    "m = Model()\n",
    "\n",
    "numLinks = 74\n",
    "numRoute = 462\n",
    "numOD = 462\n",
    "\n",
    "@defVar(m, linkFlow[1:numLinks])\n",
    "@defVar(m, pathFlow[1:numRoute])\n",
    "\n",
    "pathFlowSum = Dict()\n",
    "\n",
    "for i=1:numOD\n",
    "    pathFlowSum[i] = 0\n",
    "    for j=1:numRoute\n",
    "        if \"$(i)-$(j)\" in keys(odPairRoute)\n",
    "            pathFlowSum[i] += pathFlow[j]\n",
    "        end\n",
    "    end\n",
    "    @addConstraint(m, pathFlowSum[i] == demandsVec[i])\n",
    "end\n",
    "\n",
    "pathFlowLinkSum = Dict()\n",
    "\n",
    "for a=1:numLinks\n",
    "    pathFlowLinkSum[a] = 0\n",
    "    for j=1:numRoute\n",
    "        if \"$(a)-$(j)\" in keys(linkRoute)\n",
    "            pathFlowLinkSum[a] += pathFlow[j]\n",
    "        end\n",
    "    end\n",
    "    @addConstraint(m, pathFlowLinkSum[a] == linkFlow[a])\n",
    "end\n",
    "\n",
    "for j=1:numRoute\n",
    "    @addConstraint(m, pathFlow[j] >= 0)\n",
    "end\n",
    "\n",
    "# @defNLExpr(f, sum{free_flow_time[a]*linkFlow[a] + .03*free_flow_time[a]*((linkFlow[a])^5)/((capacity[a])^4), a = 1:numLinks})\n",
    "\n",
    "@defNLExpr(f, sum{free_flow_time[a] * fcoeffs[1] * linkFlow[a] + \n",
    "    free_flow_time[a] * fcoeffs[2] * linkFlow[a]^2 / capacity[a] +\n",
    "    free_flow_time[a] * fcoeffs[3] * linkFlow[a]^3 / capacity[a]^2 +\n",
    "    free_flow_time[a] * fcoeffs[4] * linkFlow[a]^4 / capacity[a]^3 +\n",
    "    free_flow_time[a] * fcoeffs[5] * linkFlow[a]^5 / capacity[a]^4 +\n",
    "    free_flow_time[a] * fcoeffs[6] * linkFlow[a]^6 / capacity[a]^5 +\n",
    "    free_flow_time[a] * fcoeffs[7] * linkFlow[a]^7 / capacity[a]^6 +\n",
    "    free_flow_time[a] * fcoeffs[8] * linkFlow[a]^8 / capacity[a]^7 +\n",
    "    free_flow_time[a] * fcoeffs[9] * linkFlow[a]^9 / capacity[a]^8, a = 1:numLinks})\n",
    "\n",
    "@setNLObjective(m, Min, f)\n",
    "\n",
    "solve(m)"
   ]
  },
  {
   "cell_type": "code",
   "execution_count": 14,
   "metadata": {
    "collapsed": false
   },
   "outputs": [
    {
     "data": {
      "text/plain": [
       "74-element Array{Float64,1}:\n",
       " 2356.88       \n",
       " 2226.33       \n",
       " 5304.68       \n",
       " 5500.5        \n",
       "  385.617      \n",
       " 2732.43       \n",
       " 6353.37       \n",
       " 3095.88       \n",
       " 1875.59       \n",
       " 5248.71       \n",
       "  962.42       \n",
       "  977.469      \n",
       "  149.637      \n",
       "    ⋮          \n",
       " 2713.32       \n",
       " 2357.74       \n",
       " 1874.32       \n",
       " 2925.36       \n",
       "    3.97964e-46\n",
       "    3.33701e-37\n",
       "   -6.84228e-48\n",
       "    2.73691e-48\n",
       " 1103.8        \n",
       "  572.559      \n",
       " 1254.8        \n",
       " 1905.48       "
      ]
     },
     "execution_count": 14,
     "metadata": {},
     "output_type": "execute_result"
    }
   ],
   "source": [
    "getValue(linkFlow)"
   ]
  },
  {
   "cell_type": "code",
   "execution_count": 15,
   "metadata": {
    "collapsed": false
   },
   "outputs": [
    {
     "data": {
      "text/plain": [
       "10786.929259374823"
      ]
     },
     "execution_count": 15,
     "metadata": {},
     "output_type": "execute_result"
    }
   ],
   "source": [
    "getObjectiveValue(m)"
   ]
  },
  {
   "cell_type": "code",
   "execution_count": 16,
   "metadata": {
    "collapsed": false
   },
   "outputs": [
    {
     "data": {
      "text/plain": [
       "Dict{(Int64,Int64),Float64} with 74 entries:\n",
       "  (17,15) => 572.5585639999999\n",
       "  (3,6)   => 1875.593056\n",
       "  (21,13) => 1197.057779\n",
       "  (22,16) => 3.337007329389173e-37\n",
       "  (19,12) => 1.8320739880346514e-36\n",
       "  (22,14) => -6.842277657836021e-48\n",
       "  (15,17) => 1103.803223\n",
       "  (10,11) => 824.255244\n",
       "  (13,12) => 0.0\n",
       "  (3,1)   => 5500.498989\n",
       "  (16,13) => 2357.741\n",
       "  (4,5)   => 4235.155262\n",
       "  (13,16) => 2713.316169\n",
       "  (17,16) => 1905.475671\n",
       "  (20,13) => 1060.399082\n",
       "  (12,8)  => 1903.111711\n",
       "  (2,4)   => 6353.366730999999\n",
       "  (16,17) => 1254.7969999999998\n",
       "  (1,2)   => 2356.876493\n",
       "  (14,21) => 1197.057779\n",
       "  (2,3)   => 385.616726\n",
       "  (13,19) => 2.3947971802426073e-48\n",
       "  (13,14) => 0.0\n",
       "  (16,14) => 2925.3608579999996\n",
       "  (8,12)  => 1115.473151\n",
       "  ⋮       => ⋮"
      ]
     },
     "execution_count": 16,
     "metadata": {},
     "output_type": "execute_result"
    }
   ],
   "source": [
    "flows = Dict{(Int64,Int64),Float64}()\n",
    "\n",
    "for i = 1:length(ta_data.start_node)\n",
    "    key = (ta_data.start_node[i], ta_data.end_node[i])\n",
    "    flows[key] = getValue(linkFlow)[i]\n",
    "end\n",
    "\n",
    "flows"
   ]
  },
  {
   "cell_type": "code",
   "execution_count": 17,
   "metadata": {
    "collapsed": false
   },
   "outputs": [],
   "source": [
    "# getValue(linkFlow)"
   ]
  },
  {
   "cell_type": "code",
   "execution_count": 18,
   "metadata": {
    "collapsed": false
   },
   "outputs": [],
   "source": [
    "# getObjectiveValue(m)"
   ]
  },
  {
   "cell_type": "code",
   "execution_count": 19,
   "metadata": {
    "collapsed": false
   },
   "outputs": [
    {
     "name": "stdout",
     "output_type": "stream",
     "text": [
      "No dicts found; please check load_dicts...\n"
     ]
    }
   ],
   "source": [
    "using PyCall\n",
    "unshift!(PyVector(pyimport(\"sys\")[\"path\"]), \"\");\n",
    "@pyimport GLS_Apr_weekday_PM_ext"
   ]
  },
  {
   "cell_type": "code",
   "execution_count": 20,
   "metadata": {
    "collapsed": false
   },
   "outputs": [
    {
     "data": {
      "text/plain": [
       "74x30 Array{Float64,2}:\n",
       " 1366.35    791.95    771.324  …  1015.01        1624.03     280.272\n",
       " 1206.76    992.338   991.158     1000.59        1273.13     570.559\n",
       " 2114.24   1499.68   1200.6       1171.78        1608.83     947.273\n",
       " 2273.84   1299.3     980.768     1186.21        1959.73     656.986\n",
       "   58.465   201.97    271.021       86.5748        40.0646   261.282\n",
       "  139.064   247.675   201.826  …    23.5801       146.69     143.578\n",
       " 1193.7    1571.81   1353.56       781.132       1109.21    1362.48 \n",
       "  953.514  1726.49   1642.59       829.701        651.679   1770.47 \n",
       " 2124.9    1398.79    938.436     1533.92        1629.54    1007.64 \n",
       " 2365.09   1244.1     649.406     1485.35        2087.07     599.646\n",
       "  406.406   514.047   567.011  …   469.666        455.737    655.187\n",
       "  281.997  1677.2    1591.06       204.042        239.965   1660.44 \n",
       "  204.522   246.959  1020.38         1.2451e-13   268.26    1131.08 \n",
       "    ⋮                          ⋱                                    \n",
       "  817.703  3694.71   4035.01       539.09         517.807   4749.93 \n",
       "  654.675  2893.16   2792.29       121.487        649.479   2740.0  \n",
       "  348.819   435.247   540.454      151.217        334.718    811.411\n",
       "  247.996  1766.27   1758.33   …   419.879        319.617   1306.56 \n",
       "  198.088  3603.02   3166.73       324.488        200.642   3347.82 \n",
       "  198.088  3603.02   3166.73       324.488        200.642   3347.82 \n",
       "  243.615  1577.0    2095.88       113.091         82.1073  3797.05 \n",
       "  243.615  1577.0    2095.88       113.091         82.1073  3797.05 \n",
       " 1232.85    270.493   238.254  …   302.312       1071.01     126.3  \n",
       " 1451.18   1767.05   1333.95       662.65        1072.97    1191.85 \n",
       " 1589.53   2116.41   1833.29      1010.19        1115.65    1281.76 \n",
       " 1371.21    619.855   737.593      649.854       1113.68     216.21 "
      ]
     },
     "execution_count": 20,
     "metadata": {},
     "output_type": "execute_result"
    }
   ],
   "source": [
    "flow_user = GLS_Apr_weekday_PM_ext.x_"
   ]
  },
  {
   "cell_type": "code",
   "execution_count": 21,
   "metadata": {
    "collapsed": false
   },
   "outputs": [
    {
     "data": {
      "text/plain": [
       "socialObj (generic function with 1 method)"
      ]
     },
     "execution_count": 21,
     "metadata": {},
     "output_type": "execute_result"
    }
   ],
   "source": [
    "function socialObj(linkFlowVec)\n",
    "    objVal = sum([free_flow_time[a] * fcoeffs[1] * linkFlowVec[a] + free_flow_time[a] * fcoeffs[2] * linkFlowVec[a]^2 / capacity[a] + free_flow_time[a] * fcoeffs[3] * linkFlowVec[a]^3 / capacity[a]^2 + free_flow_time[a] * fcoeffs[4] * linkFlowVec[a]^4 / capacity[a]^3 + free_flow_time[a] * fcoeffs[5] * linkFlowVec[a]^5 / capacity[a]^4 + free_flow_time[a] * fcoeffs[6] * linkFlowVec[a]^6 / capacity[a]^5 + free_flow_time[a] * fcoeffs[7] * linkFlowVec[a]^7 / capacity[a]^6 + free_flow_time[a] * fcoeffs[8] * linkFlowVec[a]^8 / capacity[a]^7 + free_flow_time[a] * fcoeffs[9] * linkFlowVec[a]^9 / capacity[a]^8 for a = 1:numLinks])\n",
    "    return objVal\n",
    "end"
   ]
  },
  {
   "cell_type": "code",
   "execution_count": 22,
   "metadata": {
    "collapsed": false
   },
   "outputs": [
    {
     "name": "stdout",
     "output_type": "stream",
     "text": [
      "1.6273665104006652\n",
      "1.6869952920955673\n",
      "1.726476026056497\n",
      "1.8858964227019863\n",
      "0.9207394618646391\n",
      "1.5574521344520689\n",
      "1.6320186948422795\n",
      "1.7414695697616003\n",
      "1.9684419287479908\n",
      "1.754985656991627\n",
      "1.3364657395067934\n",
      "1.6700948515685867\n",
      "1.415326583369284\n",
      "1.2521811889221561\n",
      "0.921153058316567\n",
      "2.0322902534283442\n",
      "1.6644202442440597\n",
      "1.6714983719751098\n",
      "1.6428488779936092\n",
      "1.2641648791422468\n",
      "1.6242762092783825\n"
     ]
    }
   ],
   "source": [
    "week_day_Apr_list = [2, 3, 4, 5, 6, 9, 10, 11, 12, 13, 16, 17, 18, 19, 20, 23, 24, 25, 26, 27, 30]\n",
    "\n",
    "for i in week_day_Apr_list\n",
    "    println(socialObj(flow_user[:, i])/getObjectiveValue(m))\n",
    "end"
   ]
  },
  {
   "cell_type": "code",
   "execution_count": null,
   "metadata": {
    "collapsed": true
   },
   "outputs": [],
   "source": []
  }
 ],
 "metadata": {
  "kernelspec": {
   "display_name": "Julia 0.3.7",
   "language": "julia",
   "name": "julia-0.3"
  },
  "language_info": {
   "file_extension": ".jl",
   "mimetype": "application/julia",
   "name": "julia",
   "version": "0.3.7"
  }
 },
 "nbformat": 4,
 "nbformat_minor": 0
}
