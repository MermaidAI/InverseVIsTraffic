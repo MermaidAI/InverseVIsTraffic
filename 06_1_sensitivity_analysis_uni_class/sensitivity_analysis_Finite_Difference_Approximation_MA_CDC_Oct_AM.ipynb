{
 "cells": [
  {
   "cell_type": "markdown",
   "metadata": {
    "collapsed": false
   },
   "source": [
    "## Based on https://github.com/chkwon/TrafficAssignment.jl"
   ]
  },
  {
   "cell_type": "code",
   "execution_count": 1,
   "metadata": {
    "collapsed": false
   },
   "outputs": [
    {
     "data": {
      "text/plain": [
       "load_ta_network (generic function with 2 methods)"
      ]
     },
     "execution_count": 1,
     "metadata": {},
     "output_type": "execute_result"
    }
   ],
   "source": [
    "include(\"../Julia_files/load_network_uni_class.jl\")"
   ]
  },
  {
   "cell_type": "code",
   "execution_count": 2,
   "metadata": {
    "collapsed": false
   },
   "outputs": [
    {
     "name": "stderr",
     "output_type": "stream",
     "text": [
      "WARNING: Method definition (::Type{Graphs.KeyVertex})(Int64, #K<:Any) in module Graphs at /home/jzh/.julia/v0.5/Graphs/src/common.jl:12 overwritten at /home/jzh/.julia/v0.5/Graphs/src/common.jl:16.\n",
      "WARNING: Method definition (::Type{Graphs.Edge})(Int64, #V<:Any, #V<:Any) in module Graphs at /home/jzh/.julia/v0.5/Graphs/src/common.jl:54 overwritten at /home/jzh/.julia/v0.5/Graphs/src/common.jl:60.\n",
      "WARNING: Method definition (::Type{Graphs.ExEdge})(Int64, #V<:Any, #V<:Any, Base.Dict{String, Any}) in module Graphs at /home/jzh/.julia/v0.5/Graphs/src/common.jl:72 overwritten at /home/jzh/.julia/v0.5/Graphs/src/common.jl:83.\n",
      "WARNING: Method definition (::Type{Graphs.TargetIterator})(#G<:Graphs.AbstractGraph, #EList<:Any) in module Graphs at /home/jzh/.julia/v0.5/Graphs/src/common.jl:123 overwritten at /home/jzh/.julia/v0.5/Graphs/src/common.jl:127.\n",
      "WARNING: Method definition (::Type{Graphs.SourceIterator})(#G<:Graphs.AbstractGraph, #EList<:Any) in module Graphs at /home/jzh/.julia/v0.5/Graphs/src/common.jl:141 overwritten at /home/jzh/.julia/v0.5/Graphs/src/common.jl:145.\n",
      "WARNING: Method definition edge_property_requirement(Graphs.AbstractEdgePropertyInspector{#T<:Any}, Graphs.AbstractGraph{#V<:Any, E<:Any}) in module Graphs at /home/jzh/.julia/v0.5/Graphs/src/common.jl:164 overwritten at /home/jzh/.julia/v0.5/Graphs/src/common.jl:179.\n",
      "WARNING: Method definition vertex_index(#V<:Union{Graphs.KeyVertex, Graphs.ExVertex}, Graphs.GenericGraph{#V<:Union{Graphs.KeyVertex, Graphs.ExVertex}, E<:Any, VList<:Any, EList<:Any, IncList<:Any}) in module Graphs at /home/jzh/.julia/v0.5/Graphs/src/graph.jl:65 overwritten at /home/jzh/.julia/v0.5/Graphs/src/graph.jl:67.\n",
      "WARNING: Method definition (::Type{Graphs.GDistanceVisitor})(#G<:Graphs.AbstractGraph, #DMap<:Any) in module Graphs at /home/jzh/.julia/v0.5/Graphs/src/breadth_first_visit.jl:107 overwritten at /home/jzh/.julia/v0.5/Graphs/src/breadth_first_visit.jl:111.\n"
     ]
    },
    {
     "data": {
      "text/plain": [
       "create_graph (generic function with 1 method)"
      ]
     },
     "execution_count": 2,
     "metadata": {},
     "output_type": "execute_result"
    }
   ],
   "source": [
    "using Graphs\n",
    "\n",
    "function create_graph(start_node, end_node)\n",
    "    @assert Base.length(start_node)==Base.length(end_node)\n",
    "\n",
    "    no_node = max(maximum(start_node), maximum(end_node))\n",
    "    no_arc = Base.length(start_node)\n",
    "\n",
    "    graph = simple_inclist(no_node)\n",
    "    for i=1:no_arc\n",
    "        add_edge!(graph, start_node[i], end_node[i])\n",
    "    end\n",
    "    return graph\n",
    "end"
   ]
  },
  {
   "cell_type": "code",
   "execution_count": 3,
   "metadata": {
    "collapsed": false
   },
   "outputs": [
    {
     "data": {
      "text/plain": [
       "get_vector (generic function with 1 method)"
      ]
     },
     "execution_count": 3,
     "metadata": {},
     "output_type": "execute_result"
    }
   ],
   "source": [
    "function get_vector(state, origin, destination, link_dic)\n",
    "    current = destination\n",
    "    parent = -1\n",
    "    x = zeros(Int, maximum(link_dic))\n",
    "\n",
    "    while parent != origin\n",
    "        parent = state.parents[current]\n",
    "\n",
    "        link_idx = link_dic[parent,current]\n",
    "\n",
    "        if link_idx != 0\n",
    "            x[link_idx] = 1\n",
    "        end\n",
    "\n",
    "        current = parent\n",
    "    end\n",
    "\n",
    "    return x\n",
    "end"
   ]
  },
  {
   "cell_type": "code",
   "execution_count": 4,
   "metadata": {
    "collapsed": false
   },
   "outputs": [
    {
     "data": {
      "text/plain": [
       "TA_Data(\"East_Massachusetts_Oct_AM\",8,0,1,24,[1,2,1,3,2,3,2,4,3,5  …  5,6,4,8,5,7,6,7,7,8],[2,1,3,1,3,2,4,2,5,3  …  6,5,8,4,7,5,7,6,8,7],[14699.6,14306.7,18114.8,18355.2,18133.7,18420.5,15365.5,15354.3,19942.7,19596.0  …  14815.3,11905.0,15000.0,15000.0,18095.9,18215.6,17324.1,16728.5,15000.0,15000.0],[0.0,0.0,0.0,0.0,0.0,0.0,0.0,0.0,0.0,0.0  …  0.0,0.0,0.0,0.0,0.0,0.0,0.0,0.0,0.0,0.0],[0.309077,0.328601,0.455004,0.463031,0.141994,0.169591,0.532474,0.551125,0.241228,0.250947  …  0.1746,0.173098,0.342531,0.343678,0.189028,0.187959,0.259832,0.259502,0.194284,0.201222],[0.0,0.0,0.0,0.0,0.0,0.0,0.0,0.0,0.0,0.0  …  0.0,0.0,0.0,0.0,0.0,0.0,0.0,0.0,0.0,0.0],[0.0,0.0,0.0,0.0,0.0,0.0,0.0,0.0,0.0,0.0  …  0.0,0.0,0.0,0.0,0.0,0.0,0.0,0.0,0.0,0.0],[0.0,0.0,0.0,0.0,0.0,0.0,0.0,0.0,0.0,0.0  …  0.0,0.0,0.0,0.0,0.0,0.0,0.0,0.0,0.0,0.0],[0.0,0.0,0.0,0.0,0.0,0.0,0.0,0.0,0.0,0.0  …  0.0,0.0,0.0,0.0,0.0,0.0,0.0,0.0,0.0,0.0],[0,0,0,0,0,0,0,0,0,0  …  0,0,0,0,0,0,0,0,0,0],0.0,[0.0 0.0 … 5398.19 0.0; 0.001245 0.0 … 598.828 0.002463; … ; 10.4333 0.588736 … 0.0 0.002468; 0.112867 2194.73 … 0.228473 0.0],Any[(1,1),(1,2),(1,3),(1,4),(1,5),(1,6),(1,7),(1,8),(2,2),(2,1)  …  (7,6),(7,8),(8,8),(8,1),(8,2),(8,3),(8,4),(8,5),(8,6),(8,7)],0.0,0.0,0.0)"
      ]
     },
     "execution_count": 4,
     "metadata": {},
     "output_type": "execute_result"
    }
   ],
   "source": [
    "ta_data = load_ta_network(\"East_Massachusetts_Oct_AM\")"
   ]
  },
  {
   "cell_type": "code",
   "execution_count": 5,
   "metadata": {
    "collapsed": false
   },
   "outputs": [
    {
     "data": {
      "text/plain": [
       "8×8 Array{Float64,2}:\n",
       "    0.0          0.0          0.002473  …  5398.19         0.0     \n",
       "    0.001245     0.0          0.002471      598.828        0.002463\n",
       "  128.868     5406.18         0.0             2.0e-6    7051.43    \n",
       " 1897.77      1770.33         1.25489      5134.85      4239.89    \n",
       "  872.425        0.70165   7510.56            2.01012      0.002467\n",
       " 5309.41         0.700473   361.771     …  4950.01         0.002468\n",
       "   10.4333       0.588736  5295.63            0.0          0.002468\n",
       "    0.112867  2194.73        10.2245          0.228473     0.0     "
      ]
     },
     "execution_count": 5,
     "metadata": {},
     "output_type": "execute_result"
    }
   ],
   "source": [
    "ta_data.travel_demand"
   ]
  },
  {
   "cell_type": "code",
   "execution_count": 6,
   "metadata": {
    "collapsed": false
   },
   "outputs": [
    {
     "data": {
      "text/plain": [
       "64-element Array{Any,1}:\n",
       " (1,1)\n",
       " (1,2)\n",
       " (1,3)\n",
       " (1,4)\n",
       " (1,5)\n",
       " (1,6)\n",
       " (1,7)\n",
       " (1,8)\n",
       " (2,2)\n",
       " (2,1)\n",
       " (2,3)\n",
       " (2,4)\n",
       " (2,5)\n",
       " ⋮    \n",
       " (7,4)\n",
       " (7,5)\n",
       " (7,6)\n",
       " (7,8)\n",
       " (8,8)\n",
       " (8,1)\n",
       " (8,2)\n",
       " (8,3)\n",
       " (8,4)\n",
       " (8,5)\n",
       " (8,6)\n",
       " (8,7)"
      ]
     },
     "execution_count": 6,
     "metadata": {},
     "output_type": "execute_result"
    }
   ],
   "source": [
    "# unpacking data from ta_data\n",
    "network_name = ta_data.network_name\n",
    "\n",
    "number_of_zones = ta_data.number_of_zones\n",
    "number_of_nodes = ta_data.number_of_nodes\n",
    "first_thru_node = ta_data.first_thru_node\n",
    "number_of_links = ta_data.number_of_links\n",
    "\n",
    "start_node = ta_data.start_node\n",
    "end_node = ta_data.end_node\n",
    "capacity = ta_data.capacity\n",
    "link_length = ta_data.link_length\n",
    "\n",
    "free_flow_time = ta_data.free_flow_time\n",
    "speed_limit = ta_data.speed_limit\n",
    "toll = ta_data.toll\n",
    "link_type = ta_data.link_type\n",
    "number_of_zones = ta_data.number_of_zones\n",
    "total_od_flow = ta_data.total_od_flow\n",
    "travel_demand = ta_data.travel_demand\n",
    "od_pairs = ta_data.od_pairs"
   ]
  },
  {
   "cell_type": "code",
   "execution_count": 7,
   "metadata": {
    "collapsed": false
   },
   "outputs": [
    {
     "data": {
      "text/plain": [
       "8×8 sparse matrix with 24 Int64 nonzero entries:\n",
       "\t[2, 1]  =  2\n",
       "\t[3, 1]  =  4\n",
       "\t[1, 2]  =  1\n",
       "\t[3, 2]  =  6\n",
       "\t[4, 2]  =  8\n",
       "\t[1, 3]  =  3\n",
       "\t[2, 3]  =  5\n",
       "\t[5, 3]  =  10\n",
       "\t[6, 3]  =  12\n",
       "\t[2, 4]  =  7\n",
       "\t⋮\n",
       "\t[4, 5]  =  13\n",
       "\t[6, 5]  =  16\n",
       "\t[7, 5]  =  20\n",
       "\t[3, 6]  =  11\n",
       "\t[5, 6]  =  15\n",
       "\t[7, 6]  =  22\n",
       "\t[5, 7]  =  19\n",
       "\t[6, 7]  =  21\n",
       "\t[8, 7]  =  24\n",
       "\t[4, 8]  =  17\n",
       "\t[7, 8]  =  23"
      ]
     },
     "execution_count": 7,
     "metadata": {},
     "output_type": "execute_result"
    }
   ],
   "source": [
    "# preparing a graph\n",
    "graph = create_graph(start_node, end_node)\n",
    "link_dic = sparse(start_node, end_node, 1:number_of_links)"
   ]
  },
  {
   "cell_type": "code",
   "execution_count": 8,
   "metadata": {
    "collapsed": false,
    "scrolled": true
   },
   "outputs": [
    {
     "data": {
      "text/plain": [
       "(Array{Graphs.Edge{Int64},1}[Graphs.Edge{Int64}[edge [1]: 1 -- 2,edge [3]: 1 -- 3],Graphs.Edge{Int64}[edge [2]: 2 -- 1,edge [5]: 2 -- 3,edge [7]: 2 -- 4],Graphs.Edge{Int64}[edge [4]: 3 -- 1,edge [6]: 3 -- 2,edge [9]: 3 -- 5,edge [11]: 3 -- 6],Graphs.Edge{Int64}[edge [8]: 4 -- 2,edge [13]: 4 -- 5,edge [17]: 4 -- 8],Graphs.Edge{Int64}[edge [10]: 5 -- 3,edge [14]: 5 -- 4,edge [15]: 5 -- 6,edge [19]: 5 -- 7],Graphs.Edge{Int64}[edge [12]: 6 -- 3,edge [16]: 6 -- 5,edge [21]: 6 -- 7],Graphs.Edge{Int64}[edge [20]: 7 -- 5,edge [22]: 7 -- 6,edge [23]: 7 -- 8],Graphs.Edge{Int64}[edge [18]: 8 -- 4,edge [24]: 8 -- 7]],true,24,1:8)"
      ]
     },
     "execution_count": 8,
     "metadata": {},
     "output_type": "execute_result"
    }
   ],
   "source": [
    "graph.inclist, graph.is_directed, graph.nedges, graph.vertices"
   ]
  },
  {
   "cell_type": "code",
   "execution_count": 9,
   "metadata": {
    "collapsed": false
   },
   "outputs": [
    {
     "data": {
      "text/plain": [
       "polyEval (generic function with 1 method)"
      ]
     },
     "execution_count": 9,
     "metadata": {},
     "output_type": "execute_result"
    }
   ],
   "source": [
    "polyEval(coeffs, pt) = sum([coeffs[i] * pt^(i-1) for i = 1:length(coeffs)])  "
   ]
  },
  {
   "cell_type": "code",
   "execution_count": 10,
   "metadata": {
    "collapsed": false
   },
   "outputs": [
    {
     "data": {
      "text/plain": [
       "9-element Array{Any,1}:\n",
       "  1.0       \n",
       " -0.00267436\n",
       "  0.0581142 \n",
       " -0.196272  \n",
       "  0.617528  \n",
       " -0.909723  \n",
       "  0.93168   \n",
       " -0.470226  \n",
       "  0.108164  "
      ]
     },
     "execution_count": 10,
     "metadata": {},
     "output_type": "execute_result"
    }
   ],
   "source": [
    "coeffs_dict_Oct_AM_ = readstring(\"../temp_files/coeffs_dict_Oct_AM.json\")\n",
    "coeffs_dict_Oct_AM_ = JSON.parse(coeffs_dict_Oct_AM_)\n",
    "fcoeffs = coeffs_dict_Oct_AM_[\"(8,0.5,10000.0,1)\"]"
   ]
  },
  {
   "cell_type": "code",
   "execution_count": 11,
   "metadata": {
    "collapsed": true
   },
   "outputs": [],
   "source": [
    "# fcoeffs = [1, 0, 0, 0, 0.15]"
   ]
  },
  {
   "cell_type": "code",
   "execution_count": 12,
   "metadata": {
    "collapsed": false
   },
   "outputs": [
    {
     "data": {
      "text/plain": [
       "BPR (generic function with 1 method)"
      ]
     },
     "execution_count": 12,
     "metadata": {},
     "output_type": "execute_result"
    }
   ],
   "source": [
    "function BPR(x)\n",
    "    bpr = similar(x)\n",
    "    for i = 1:length(bpr)\n",
    "        bpr[i] = free_flow_time[i] * polyEval(fcoeffs, x[i]/capacity[i]) \n",
    "    end\n",
    "    return bpr\n",
    "end"
   ]
  },
  {
   "cell_type": "code",
   "execution_count": 13,
   "metadata": {
    "collapsed": false
   },
   "outputs": [
    {
     "data": {
      "text/plain": [
       "all_or_nothing (generic function with 1 method)"
      ]
     },
     "execution_count": 13,
     "metadata": {},
     "output_type": "execute_result"
    }
   ],
   "source": [
    "function all_or_nothing(travel_time)\n",
    "    state = []\n",
    "    path = []\n",
    "    x = zeros(size(start_node))\n",
    "    for r=1:size(travel_demand)[1]\n",
    "        # for each origin node r, find shortest paths to all destination nodes\n",
    "        state = dijkstra_shortest_paths(graph, travel_time, r)\n",
    "        for s=1:size(travel_demand)[2]\n",
    "            # for each destination node s, find the shortest-path vector\n",
    "            # load travel demand\n",
    "            x = x + travel_demand[r,s] * get_vector(state, r, s, link_dic)\n",
    "        end\n",
    "    end\n",
    "    return x\n",
    "end"
   ]
  },
  {
   "cell_type": "code",
   "execution_count": 14,
   "metadata": {
    "collapsed": false
   },
   "outputs": [
    {
     "data": {
      "text/plain": [
       "sensiTC (generic function with 3 methods)"
      ]
     },
     "execution_count": 14,
     "metadata": {},
     "output_type": "execute_result"
    }
   ],
   "source": [
    "function sensiTC(link_idx, deltaT=0, deltaC=0)\n",
    "    capacity = ta_data.capacity\n",
    "    free_flow_time = ta_data.free_flow_time\n",
    "    \n",
    "    free_flow_time[link_idx] -= deltaT\n",
    "    capacity[link_idx] += deltaC\n",
    "\n",
    "    # Finding a starting feasible solution\n",
    "    travel_time = BPR(zeros(number_of_links))\n",
    "    xl = all_or_nothing(travel_time)\n",
    "\n",
    "    max_iter_no = 1e4\n",
    "    l = 1\n",
    "    #average_excess_cost = 1\n",
    "    tol = 1e-6\n",
    "\n",
    "    while l < max_iter_no\n",
    "        l += 1\n",
    "\n",
    "        xl_old = xl\n",
    "\n",
    "        # Finding yl\n",
    "        travel_time = BPR(xl)\n",
    "\n",
    "        yl = all_or_nothing(travel_time)\n",
    "\n",
    "        # assert(yl != xl)\n",
    "\n",
    "        xl = xl + (yl - xl)/l\n",
    "\n",
    "        xl_new = xl\n",
    "\n",
    "        relative_gap = norm(xl_new - xl_old, 1) / norm(xl_new, 1)\n",
    "\n",
    "#         if l % 5000 == 0\n",
    "#             print(\"l = $l------------------------------------------------\\n\")\n",
    "#             print(\"relative_gap is $relative_gap\\n\")\n",
    "#         end\n",
    "\n",
    "        if relative_gap < tol \n",
    "            print(\"l = $l------------------------------------------------\\n\")\n",
    "            print(\"relative_gap is $relative_gap\\n\")\n",
    "            break\n",
    "        end\n",
    "    end\n",
    "\n",
    "    function tapObj(linkFlowVec)\n",
    "        objVal = zeros(number_of_links)\n",
    "        for a = 1:number_of_links\n",
    "            for i = 1:length(fcoeffs)\n",
    "                objVal[a] += free_flow_time[a] * fcoeffs[i] * linkFlowVec[a]^i / capacity[a]^(i-1)\n",
    "            end\n",
    "        end\n",
    "        return sum(objVal)\n",
    "    end\n",
    "\n",
    "    return tapObj(xl)\n",
    "end"
   ]
  },
  {
   "cell_type": "code",
   "execution_count": 15,
   "metadata": {
    "collapsed": false
   },
   "outputs": [
    {
     "name": "stdout",
     "output_type": "stream",
     "text": [
      "link_idx = 1 finished\n",
      "-------------------------------------------\n",
      "link_idx = 2 finished\n",
      "-------------------------------------------\n",
      "link_idx = 3 finished\n",
      "-------------------------------------------\n",
      "link_idx = 4 finished\n",
      "-------------------------------------------\n",
      "link_idx = 5 finished\n",
      "-------------------------------------------\n",
      "link_idx = 6 finished\n",
      "-------------------------------------------\n",
      "link_idx = 7 finished\n",
      "-------------------------------------------\n",
      "link_idx = 8 finished\n",
      "-------------------------------------------\n",
      "l = 2------------------------------------------------\n",
      "relative_gap is 0.0\n",
      "l = 2------------------------------------------------\n",
      "relative_gap is 0.0\n",
      "l = 2------------------------------------------------\n",
      "relative_gap is 0.0\n",
      "link_idx = 9 finished\n",
      "-------------------------------------------\n",
      "l = 2------------------------------------------------\n",
      "relative_gap is 0.0\n",
      "l = 2------------------------------------------------\n",
      "relative_gap is 0.0\n",
      "l = 2------------------------------------------------\n",
      "relative_gap is 0.0\n",
      "l = 2------------------------------------------------\n",
      "relative_gap is 0.0\n",
      "link_idx = 10 finished\n",
      "-------------------------------------------\n",
      "l = 2------------------------------------------------\n",
      "relative_gap is 0.0\n",
      "l = 5391------------------------------------------------\n",
      "relative_gap is 9.998664451663919e-7\n",
      "l = 5391------------------------------------------------\n",
      "relative_gap is 9.998664451663919e-7\n",
      "l = 5391------------------------------------------------\n",
      "relative_gap is 9.998664451663923e-7\n",
      "link_idx = 11 finished\n",
      "-------------------------------------------\n",
      "l = 5391------------------------------------------------\n",
      "relative_gap is 9.998664451663923e-7\n",
      "l = 5391------------------------------------------------\n",
      "relative_gap is 9.998664451663923e-7\n",
      "l = 5391------------------------------------------------\n",
      "relative_gap is 9.998664451663923e-7\n",
      "l = 5391------------------------------------------------\n",
      "relative_gap is 9.998664451663923e-7\n",
      "link_idx = 12 finished\n",
      "-------------------------------------------\n",
      "l = 5391------------------------------------------------\n",
      "relative_gap is 9.998664451663923e-7\n",
      "l = 5391------------------------------------------------\n",
      "relative_gap is 9.998664451663923e-7\n",
      "l = 5391------------------------------------------------\n",
      "relative_gap is 9.998664451663923e-7\n",
      "l = 5391------------------------------------------------\n",
      "relative_gap is 9.998664451663923e-7\n",
      "link_idx = 13 finished\n",
      "-------------------------------------------\n",
      "l = 5391------------------------------------------------\n",
      "relative_gap is 9.998664451663923e-7\n",
      "l = 5391------------------------------------------------\n",
      "relative_gap is 9.998664451663923e-7\n",
      "l = 5391------------------------------------------------\n",
      "relative_gap is 9.998664451663923e-7\n",
      "l = 5391------------------------------------------------\n",
      "relative_gap is 9.998664451663923e-7\n",
      "link_idx = 14 finished\n",
      "-------------------------------------------\n",
      "l = 5391------------------------------------------------\n",
      "relative_gap is 9.998664451663923e-7\n",
      "l = 5391------------------------------------------------\n",
      "relative_gap is 9.998664451663923e-7\n",
      "l = 5391------------------------------------------------\n",
      "relative_gap is 9.998664451663923e-7\n",
      "l = 5391------------------------------------------------\n",
      "relative_gap is 9.998664451663923e-7\n",
      "link_idx = 15 finished\n",
      "-------------------------------------------\n",
      "l = 5391------------------------------------------------\n",
      "relative_gap is 9.998664451663923e-7\n",
      "l = 5391------------------------------------------------\n",
      "relative_gap is 9.998664451663923e-7\n",
      "l = 5391------------------------------------------------\n",
      "relative_gap is 9.998664451663923e-7\n",
      "l = 5391------------------------------------------------\n",
      "relative_gap is 9.998664451663923e-7\n",
      "link_idx = 16 finished\n",
      "-------------------------------------------\n",
      "l = 5391------------------------------------------------\n",
      "relative_gap is 9.998664451663923e-7\n",
      "l = 5391------------------------------------------------\n",
      "relative_gap is 9.998664451663923e-7\n",
      "l = 5391------------------------------------------------\n",
      "relative_gap is 9.998664451663923e-7\n",
      "l = 5391------------------------------------------------\n",
      "relative_gap is 9.998664451663923e-7\n",
      "link_idx = 17 finished\n",
      "-------------------------------------------\n",
      "l = 5391------------------------------------------------\n",
      "relative_gap is 9.998664451663923e-7\n",
      "l = 5391------------------------------------------------\n",
      "relative_gap is 9.998664451663923e-7\n",
      "l = 5391------------------------------------------------\n",
      "relative_gap is 9.998664451663923e-7\n",
      "l = 5391------------------------------------------------\n",
      "relative_gap is 9.998664451663923e-7\n",
      "link_idx = 18 finished\n",
      "-------------------------------------------\n",
      "l = 5391------------------------------------------------\n",
      "relative_gap is 9.998664451663923e-7\n",
      "l = 2------------------------------------------------\n",
      "relative_gap is 0.0\n",
      "l = 2------------------------------------------------\n",
      "relative_gap is 0.0\n",
      "l = 2------------------------------------------------\n",
      "relative_gap is 0.0\n",
      "link_idx = 19 finished\n",
      "-------------------------------------------\n",
      "l = 2------------------------------------------------\n",
      "relative_gap is 0.0\n",
      "l = 2------------------------------------------------\n",
      "relative_gap is 0.0\n",
      "l = 2------------------------------------------------\n",
      "relative_gap is 0.0\n",
      "l = 2------------------------------------------------\n",
      "relative_gap is 0.0\n",
      "link_idx = 20 finished\n",
      "-------------------------------------------\n",
      "l = 2------------------------------------------------\n",
      "relative_gap is 0.0\n",
      "l = 2------------------------------------------------\n",
      "relative_gap is 0.0\n",
      "l = 2------------------------------------------------\n",
      "relative_gap is 0.0\n",
      "l = 2------------------------------------------------\n",
      "relative_gap is 0.0\n",
      "link_idx = 21 finished\n",
      "-------------------------------------------\n",
      "l = 2------------------------------------------------\n",
      "relative_gap is 0.0\n",
      "l = 2------------------------------------------------\n",
      "relative_gap is 0.0\n",
      "l = 2------------------------------------------------\n",
      "relative_gap is 0.0\n",
      "l = 2------------------------------------------------\n",
      "relative_gap is 0.0\n",
      "link_idx = 22 finished\n",
      "-------------------------------------------\n",
      "l = 2------------------------------------------------\n",
      "relative_gap is 0.0\n",
      "l = 2------------------------------------------------\n",
      "relative_gap is 0.0\n",
      "l = 2------------------------------------------------\n",
      "relative_gap is 0.0\n",
      "l = 2------------------------------------------------\n",
      "relative_gap is 0.0\n",
      "link_idx = 23 finished\n",
      "-------------------------------------------\n",
      "l = 2------------------------------------------------\n",
      "relative_gap is 0.0\n",
      "l = 2------------------------------------------------\n",
      "relative_gap is 0.0\n",
      "l = 2------------------------------------------------\n",
      "relative_gap is 0.0\n",
      "l = 2------------------------------------------------\n",
      "relative_gap is 0.0\n",
      "link_idx = 24 finished\n",
      "-------------------------------------------\n"
     ]
    }
   ],
   "source": [
    "deltaObjT = zeros(number_of_links)\n",
    "deltaObjC = zeros(number_of_links)\n",
    "\n",
    "for link_idx = 1:number_of_links\n",
    "# for link_idx = 20:20\n",
    "    deltaT = minimum(free_flow_time) * 0.2\n",
    "    deltaC = minimum(capacity) * 0.2\n",
    "    \n",
    "    deltaObjT[link_idx] = sensiTC(link_idx, 0, 0) - sensiTC(link_idx, deltaT, 0)\n",
    "    deltaObjC[link_idx] = sensiTC(link_idx, 0, 0) - sensiTC(link_idx, 0, deltaC)\n",
    "    \n",
    "    print(\"link_idx = $(link_idx) finished\\n\")\n",
    "    print(\"-------------------------------------------\\n\")\n",
    "end"
   ]
  },
  {
   "cell_type": "code",
   "execution_count": 16,
   "metadata": {
    "collapsed": false
   },
   "outputs": [
    {
     "data": {
      "text/plain": [
       "24-element Array{Float64,1}:\n",
       " 153.944 \n",
       "  53.9143\n",
       "   0.0   \n",
       " 180.151 \n",
       " 170.852 \n",
       " 173.725 \n",
       "  70.901 \n",
       "  83.4573\n",
       " 244.381 \n",
       " 381.462 \n",
       "  52.0077\n",
       " 129.322 \n",
       " 201.332 \n",
       "  51.8134\n",
       " 173.354 \n",
       "  63.4129\n",
       "  96.5349\n",
       "  45.8967\n",
       " 446.583 \n",
       " 171.639 \n",
       " 112.71  \n",
       " 101.574 \n",
       " 161.547 \n",
       "  50.1312"
      ]
     },
     "execution_count": 16,
     "metadata": {},
     "output_type": "execute_result"
    }
   ],
   "source": [
    "deltaObjT"
   ]
  },
  {
   "cell_type": "code",
   "execution_count": 17,
   "metadata": {
    "collapsed": false
   },
   "outputs": [
    {
     "data": {
      "text/plain": [
       "24-element Array{Float64,1}:\n",
       "   2.03057   \n",
       "   0.0692861 \n",
       "   0.0       \n",
       "   2.57146   \n",
       "   0.572903  \n",
       "   1.81218   \n",
       "   0.448481  \n",
       "   0.796711  \n",
       "  24.2279    \n",
       "  73.606     \n",
       "   0.00695214\n",
       "   1.07237   \n",
       "  14.0337    \n",
       "   0.065654  \n",
       "   4.45047   \n",
       "   0.199283  \n",
       "   0.988241  \n",
       "   0.0902352 \n",
       " 198.115     \n",
       "   2.324     \n",
       "   0.790349  \n",
       "   0.612774  \n",
       "   3.99519   \n",
       "   0.0657624 "
      ]
     },
     "execution_count": 17,
     "metadata": {},
     "output_type": "execute_result"
    }
   ],
   "source": [
    "deltaObjC"
   ]
  },
  {
   "cell_type": "code",
   "execution_count": 18,
   "metadata": {
    "collapsed": false
   },
   "outputs": [
    {
     "data": {
      "image/png": "[encoded data removed]",
      "text/plain": [
       "PyPlot.Figure(PyObject <matplotlib.figure.Figure object at 0x7f8205bd9e90>)"
      ]
     },
     "metadata": {},
     "output_type": "display_data"
    }
   ],
   "source": [
    "using PyPlot\n",
    "\n",
    "xs = 1:number_of_links\n",
    "ys1 = deltaObjT\n",
    "ys2 = deltaObjC\n",
    "\n",
    "fig = figure(figsize=(9,5))\n",
    "\n",
    "PyPlot.plot(xs, ys1, \"s-b\", label=L\"w.r.t. $\\Delta{t}_a^0$\", linewidth=1.5)\n",
    "PyPlot.plot(xs, ys2, \"o-r\", label=L\"w.r.t. $\\Delta{m}_a$\", linewidth=1.5)\n",
    "\n",
    "legend(loc=\"upper left\",fancybox=\"true\") \n",
    "\n",
    "grid(\"on\")\n",
    "# xlim(-0.1, 1.05);\n",
    "ylim(-15, 460);\n",
    "\n",
    "xticks(1:24)\n",
    "\n",
    "font1 = Dict(\"family\"=>\"serif\",\"color\"=>\"darkred\",\"weight\"=>\"normal\",\"size\"=>12)\n",
    "xlabel(L\"Link index ($a$)\", fontdict=font1)\n",
    "ylabel(L\"Decrease of objective function value ($\\Delta V\\left( {{\\bf{t}^0},\\bf{m}} \\right)$)\", fontdict=font1)\n",
    "\n",
    "savefig(\"./results/sensiTC_Oct_AM.pdf\")"
   ]
  },
  {
   "cell_type": "code",
   "execution_count": null,
   "metadata": {
    "collapsed": true
   },
   "outputs": [],
   "source": []
  }
 ],
 "metadata": {
  "kernelspec": {
   "display_name": "Julia 0.5.0",
   "language": "julia",
   "name": "julia-0.5"
  },
  "language_info": {
   "file_extension": ".jl",
   "mimetype": "application/julia",
   "name": "julia",
   "version": "0.5.0"
  }
 },
 "nbformat": 4,
 "nbformat_minor": 0
}
