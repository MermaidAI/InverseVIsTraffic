{
 "metadata": {
  "name": ""
 },
 "nbformat": 3,
 "nbformat_minor": 0,
 "worksheets": [
  {
   "cells": [
    {
     "cell_type": "code",
     "collapsed": false,
     "input": [
      "cd(\"/home/jzh/Dropbox/Research/Data-driven_estimation_inverse_optimization/Experiments/InverseVIsTraffic\")"
     ],
     "language": "python",
     "metadata": {},
     "outputs": [],
     "prompt_number": 1
    },
    {
     "cell_type": "code",
     "collapsed": false,
     "input": [
      "type Arc\n",
      "    initNode::Int \n",
      "    termNode::Int \n",
      "    capacity::Float64\n",
      "    freeflowtime::Float64\n",
      "    flow::Float64\n",
      "end\n",
      "\n",
      "Arc(initNode::Int, termNode::Int, capacity::Float64,freeflowtime::Float64) = \n",
      "    Arc(initNode, termNode, capacity, freeflowtime, 0.)"
     ],
     "language": "python",
     "metadata": {},
     "outputs": [
      {
       "metadata": {},
       "output_type": "pyout",
       "prompt_number": 2,
       "text": [
        "Arc (constructor with 3 methods)"
       ]
      }
     ],
     "prompt_number": 2
    },
    {
     "cell_type": "code",
     "collapsed": false,
     "input": [
      "using JuMP\n",
      "using Gurobi\n",
      "using Graphs\n",
      "using Roots\n",
      "\n",
      "\n",
      "polyEval(coeffs, pt) = sum([coeffs[i] * pt^(i-1) for i = 1:length(coeffs)])  \n",
      "polyEval(coeffs::Array{Float64, 1}, pt) = sum([coeffs[i] * pt^(i-1) for i = 1:length(coeffs)]) #separate for consts\n",
      "\n",
      "bpacost(flow::Float64, capacity::Float64, freeflowtime::Float64) = freeflowtime*(1 + .15 * (flow/capacity)^4)\n",
      "bpacost(flow::Float64, arc) = bpacost(flow, arc.capacity, arc.freeflowtime)\n",
      "bpacost(arc::Arc) = bpacost(arc.flow, arc)"
     ],
     "language": "python",
     "metadata": {},
     "outputs": [
      {
       "metadata": {},
       "output_type": "pyout",
       "prompt_number": 3,
       "text": [
        "bpacost (generic function with 3 methods)"
       ]
      }
     ],
     "prompt_number": 3
    },
    {
     "cell_type": "code",
     "collapsed": false,
     "input": [
      "deg = 1\n",
      "c = 1\n",
      "\n",
      "m = Model(solver=GurobiSolver(OutputFlag=false))\n",
      "\n",
      "@defVar(m, coeffs[1:deg+1])\n",
      "@defVar(m, Calphas[1:deg+1])\n",
      "\n",
      "#build the graham matrix\n",
      "samples = linspace(0, 1, deg + 1)\n",
      "k(x,y) = (c + x*y)^deg\n",
      "K = [ k(x,y) for x = samples, y=samples]\n",
      "K = convert(Array{Float64, 2}, K)\n",
      "assert(rank(K) == deg+1)\n",
      "\n",
      "C = chol(K + 1e-6* eye(deg+1))\n",
      "for i=1:deg + 1\n",
      "    @addConstraint(m, polyEval(coeffs, samples[i]) == sum{C[j, i] * Calphas[j], j=1:deg+1})\n",
      "end\n",
      "\n",
      "@defVar(m, reg_term >= 0)\n",
      "reg_term_ = QuadExpr(Calphas[:], Calphas[:], ones(deg+1), AffExpr())\n",
      "\n",
      "@addConstraint(m, reg_term >= reg_term_)\n",
      "\n",
      "print(m)"
     ],
     "language": "python",
     "metadata": {},
     "outputs": [
      {
       "output_type": "stream",
       "stream": "stdout",
       "text": [
        "Min 0\n",
        "Subject to\n",
        " coeffs[1] - 1.000000499999875 Calphas[1] = 0\n",
        " coeffs[1] + coeffs[2] - 0.999999500000375 Calphas[1] - 1.000000999999 Calphas[2] = 0\n",
        " -Calphas[1]\u00b2 - Calphas[2]\u00b2 + reg_term \u2265 0\n",
        " coeffs[i] free for all i in {1,2}\n",
        " Calphas[i] free for all i in {1,2}\n",
        " reg_term \u2265 0\n"
       ]
      }
     ],
     "prompt_number": 4
    },
    {
     "cell_type": "code",
     "collapsed": false,
     "input": [
      "reg_term_"
     ],
     "language": "python",
     "metadata": {},
     "outputs": [
      {
       "latex": [
        "$$ Calphas_{1}^2 + Calphas_{2}^2 $$"
       ],
       "metadata": {},
       "output_type": "pyout",
       "prompt_number": 5,
       "text": [
        "Calphas[1]\u00b2 + Calphas[2]\u00b2"
       ]
      }
     ],
     "prompt_number": 5
    },
    {
     "cell_type": "code",
     "collapsed": false,
     "input": [
      "K"
     ],
     "language": "python",
     "metadata": {},
     "outputs": [
      {
       "metadata": {},
       "output_type": "pyout",
       "prompt_number": 6,
       "text": [
        "2x2 Array{Float64,2}:\n",
        " 1.0  1.0\n",
        " 1.0  2.0"
       ]
      }
     ],
     "prompt_number": 6
    },
    {
     "cell_type": "code",
     "collapsed": false,
     "input": [
      "C"
     ],
     "language": "python",
     "metadata": {},
     "outputs": [
      {
       "metadata": {},
       "output_type": "pyout",
       "prompt_number": 7,
       "text": [
        "2x2 Array{Float64,2}:\n",
        " 1.0  1.0\n",
        " 0.0  1.0"
       ]
      }
     ],
     "prompt_number": 7
    },
    {
     "cell_type": "code",
     "collapsed": false,
     "input": [
      "samples"
     ],
     "language": "python",
     "metadata": {},
     "outputs": [
      {
       "metadata": {},
       "output_type": "pyout",
       "prompt_number": 8,
       "text": [
        "2-element Array{Float64,1}:\n",
        " 0.0\n",
        " 1.0"
       ]
      }
     ],
     "prompt_number": 8
    },
    {
     "cell_type": "code",
     "collapsed": false,
     "input": [
      "coeffs"
     ],
     "language": "python",
     "metadata": {},
     "outputs": [
      {
       "latex": [
        "$$ coeffs_{i} free \\quad\\forall i \\in \\{1,2\\} $$"
       ],
       "metadata": {},
       "output_type": "pyout",
       "prompt_number": 9,
       "text": [
        "coeffs[i] free for all i in {1,2}"
       ]
      }
     ],
     "prompt_number": 9
    },
    {
     "cell_type": "code",
     "collapsed": false,
     "input": [
      "         "
     ],
     "language": "python",
     "metadata": {},
     "outputs": []
    }
   ],
   "metadata": {}
  }
 ]
}